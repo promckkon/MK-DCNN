{
  "cells": [
    {
      "cell_type": "markdown",
      "metadata": {
        "id": "view-in-github",
        "colab_type": "text"
      },
      "source": [
        "<a href=\"https://colab.research.google.com/github/promckkon/MK-DCNN/blob/main/MK-DCNN%20with%2040dB%20NOISE%20in%20CWRU%20Dataset%20250617.ipynb\" target=\"_parent\"><img src=\"https://colab.research.google.com/assets/colab-badge.svg\" alt=\"Open In Colab\"/></a>"
      ]
    },
    {
      "cell_type": "code",
      "source": [
        "from google.colab import drive\n",
        "drive.mount('/content/drive')"
      ],
      "metadata": {
        "colab": {
          "base_uri": "https://localhost:8080/"
        },
        "id": "_JTcgOD9s-GR",
        "outputId": "226704d1-cec1-4d6c-ec72-a01d942ffc58"
      },
      "id": "_JTcgOD9s-GR",
      "execution_count": 99,
      "outputs": [
        {
          "output_type": "stream",
          "name": "stdout",
          "text": [
            "Drive already mounted at /content/drive; to attempt to forcibly remount, call drive.mount(\"/content/drive\", force_remount=True).\n"
          ]
        }
      ]
    },
    {
      "cell_type": "code",
      "execution_count": 100,
      "id": "1132b641",
      "metadata": {
        "id": "1132b641"
      },
      "outputs": [],
      "source": [
        "import scipy.io\n",
        "import seaborn as sns\n",
        "import numpy as np\n",
        "import pandas as pd\n",
        "import os\n",
        "import matplotlib.pyplot as plt"
      ]
    },
    {
      "cell_type": "markdown",
      "source": [
        "Dataset Input"
      ],
      "metadata": {
        "id": "2haV_hKQQOg-"
      },
      "id": "2haV_hKQQOg-"
    },
    {
      "cell_type": "code",
      "source": [
        "df=pd.DataFrame(columns=['DE_data','fault']) # upload the dataset on googledrive\n",
        "\n",
        "for root, dirs, files in os.walk(\"/content/drive/MyDrive/CWRU_with_NOISE/CWRU_2_NOISE_40\", topdown=False):\n",
        "    for file_name in files:\n",
        "        path = os.path.join(root, file_name)\n",
        "        print(path)\n",
        "\n",
        "        mat = scipy.io.loadmat(path)\n",
        "\n",
        "        key_name = list(mat.keys())[3]\n",
        "        DE_data = mat.get(key_name)\n",
        "        fault = np.full((len(DE_data), 1), file_name[:-4])\n",
        "\n",
        "        df_temp = pd.DataFrame({'DE_data':np.ravel(DE_data) , 'fault':np.ravel(fault)})\n",
        "\n",
        "        df = pd.concat([df,df_temp],axis=0)\n",
        "        print(df['fault'].unique())\n",
        "\n",
        "df.to_csv('/content/drive/MyDrive/MK-DCNN CWRU/NOISE_40_faults.csv',index=False)"
      ],
      "metadata": {
        "colab": {
          "base_uri": "https://localhost:8080/"
        },
        "id": "sXzSVyy_ylsF",
        "outputId": "cab45945-d688-4d24-e8f5-ce3b48bd730e"
      },
      "id": "sXzSVyy_ylsF",
      "execution_count": 101,
      "outputs": [
        {
          "output_type": "stream",
          "name": "stdout",
          "text": [
            "/content/drive/MyDrive/CWRU_with_NOISE/CWRU_2_NOISE_40/Noise_40__Time_Normal_1_098.mat\n"
          ]
        },
        {
          "output_type": "stream",
          "name": "stderr",
          "text": [
            "<ipython-input-101-31565605>:16: FutureWarning: The behavior of DataFrame concatenation with empty or all-NA entries is deprecated. In a future version, this will no longer exclude empty or all-NA columns when determining the result dtypes. To retain the old behavior, exclude the relevant entries before the concat operation.\n",
            "  df = pd.concat([df,df_temp],axis=0)\n"
          ]
        },
        {
          "output_type": "stream",
          "name": "stdout",
          "text": [
            "['Noise_40__Time_Normal_1_098']\n",
            "/content/drive/MyDrive/CWRU_with_NOISE/CWRU_2_NOISE_40/Noise_40_B007_1_123.mat\n",
            "['Noise_40__Time_Normal_1_098' 'Noise_40_B007_1_123']\n",
            "/content/drive/MyDrive/CWRU_with_NOISE/CWRU_2_NOISE_40/Noise_40_OR014_6_1_202.mat\n",
            "['Noise_40__Time_Normal_1_098' 'Noise_40_B007_1_123'\n",
            " 'Noise_40_OR014_6_1_202']\n",
            "/content/drive/MyDrive/CWRU_with_NOISE/CWRU_2_NOISE_40/Noise_40_B021_1_227.mat\n",
            "['Noise_40__Time_Normal_1_098' 'Noise_40_B007_1_123'\n",
            " 'Noise_40_OR014_6_1_202' 'Noise_40_B021_1_227']\n",
            "/content/drive/MyDrive/CWRU_with_NOISE/CWRU_2_NOISE_40/Noise_40_IR021_1_214.mat\n",
            "['Noise_40__Time_Normal_1_098' 'Noise_40_B007_1_123'\n",
            " 'Noise_40_OR014_6_1_202' 'Noise_40_B021_1_227' 'Noise_40_IR021_1_214']\n",
            "/content/drive/MyDrive/CWRU_with_NOISE/CWRU_2_NOISE_40/Noise_40_B014_1_190.mat\n",
            "['Noise_40__Time_Normal_1_098' 'Noise_40_B007_1_123'\n",
            " 'Noise_40_OR014_6_1_202' 'Noise_40_B021_1_227' 'Noise_40_IR021_1_214'\n",
            " 'Noise_40_B014_1_190']\n",
            "/content/drive/MyDrive/CWRU_with_NOISE/CWRU_2_NOISE_40/Noise_40_OR007_6_1_136.mat\n",
            "['Noise_40__Time_Normal_1_098' 'Noise_40_B007_1_123'\n",
            " 'Noise_40_OR014_6_1_202' 'Noise_40_B021_1_227' 'Noise_40_IR021_1_214'\n",
            " 'Noise_40_B014_1_190' 'Noise_40_OR007_6_1_136']\n",
            "/content/drive/MyDrive/CWRU_with_NOISE/CWRU_2_NOISE_40/Noise_40_OR021_6_1_239.mat\n",
            "['Noise_40__Time_Normal_1_098' 'Noise_40_B007_1_123'\n",
            " 'Noise_40_OR014_6_1_202' 'Noise_40_B021_1_227' 'Noise_40_IR021_1_214'\n",
            " 'Noise_40_B014_1_190' 'Noise_40_OR007_6_1_136' 'Noise_40_OR021_6_1_239']\n",
            "/content/drive/MyDrive/CWRU_with_NOISE/CWRU_2_NOISE_40/Noise_40_IR007_1_110.mat\n",
            "['Noise_40__Time_Normal_1_098' 'Noise_40_B007_1_123'\n",
            " 'Noise_40_OR014_6_1_202' 'Noise_40_B021_1_227' 'Noise_40_IR021_1_214'\n",
            " 'Noise_40_B014_1_190' 'Noise_40_OR007_6_1_136' 'Noise_40_OR021_6_1_239'\n",
            " 'Noise_40_IR007_1_110']\n"
          ]
        }
      ]
    },
    {
      "cell_type": "markdown",
      "source": [
        "# Multi-Kernel Deep 1D-CNN"
      ],
      "metadata": {
        "id": "2d0arbB2knS8"
      },
      "id": "2d0arbB2knS8"
    },
    {
      "cell_type": "code",
      "source": [
        "pip install -q tensorflow"
      ],
      "metadata": {
        "id": "-dsJA9B5YVAW"
      },
      "id": "-dsJA9B5YVAW",
      "execution_count": 102,
      "outputs": []
    },
    {
      "cell_type": "code",
      "source": [
        "from sklearn.preprocessing import LabelEncoder\n",
        "from tensorflow.keras.utils import to_categorical\n",
        "\n",
        "\n",
        "# Total target rows\n",
        "TARGET_ROWS = 1800\n",
        "\n",
        "# Estimate the total number of samples across all fault types\n",
        "total_samples = sum(len(df[df['fault'] == f]) for f in df['fault'].unique())\n",
        "\n",
        "# Calculate suitable window size and stride\n",
        "num_faults = 9\n",
        "average_samples_per_fault = total_samples / num_faults\n",
        "approx_windows_per_fault = TARGET_ROWS / num_faults\n",
        "stride_ratio = 0.8  # Initial stride/window ratio\n",
        "\n",
        "win_len = int(average_samples_per_fault / approx_windows_per_fault)\n",
        "stride = int(win_len * stride_ratio)\n",
        "\n",
        "X=[]\n",
        "Y=[]\n",
        "\n",
        "\n",
        "for k in df['fault'].unique():\n",
        "\n",
        "    df_temp_2 = df[df['fault']==k]\n",
        "\n",
        "    for i in np.arange(0,len(df_temp_2)-(win_len),stride):\n",
        "        temp = df_temp_2.iloc[i:i+win_len,:-1].values\n",
        "        temp = temp.reshape((1,-1))\n",
        "        X.append(temp)\n",
        "        Y.append(df_temp_2.iloc[i+win_len,-1])\n",
        "\n",
        "X=np.array(X)\n",
        "X=X.reshape((X.shape[0],-1,1))\n",
        "#X = np.repeat(X, 3, axis=3) # To repeat into 3 chanel format\n",
        "\n",
        "\n",
        "Y=np.array(Y)\n",
        "encoder= LabelEncoder()\n",
        "encoder.fit(Y)\n",
        "encoded_Y = encoder.transform(Y)\n",
        "OHE_Y = to_categorical(encoded_Y)"
      ],
      "metadata": {
        "id": "5s5vUXrUM2BH"
      },
      "id": "5s5vUXrUM2BH",
      "execution_count": 103,
      "outputs": []
    },
    {
      "cell_type": "code",
      "source": [
        "from sklearn.model_selection import train_test_split\n",
        "X_train,X_test,y_train,y_test = train_test_split(X,OHE_Y,test_size=0.3,shuffle=True)"
      ],
      "metadata": {
        "id": "PreHyG2yMkTA"
      },
      "id": "PreHyG2yMkTA",
      "execution_count": 104,
      "outputs": []
    },
    {
      "cell_type": "code",
      "source": [
        "import tensorflow as tf\n",
        "from tensorflow.keras.models import Model\n",
        "from tensorflow.keras.layers import Input, Dense, Dropout, Flatten, Conv1D, MaxPooling1D, concatenate\n",
        "from tensorflow.keras import backend as K\n",
        "\n",
        "# --- Custom Physics-Informed Loss Function ---\n",
        "def custom_loss(y_true, y_pred):\n",
        "    # Standard categorical crossentropy\n",
        "    loss = K.categorical_crossentropy(y_true, y_pred)\n",
        "\n",
        "    # Physics-Informed Term: penalize rapid class probability changes\n",
        "    # Ensure y_pred is at least 2D for slicing\n",
        "    if K.ndim(y_pred) < 2:\n",
        "        y_pred = K.expand_dims(y_pred, axis=-1)\n",
        "\n",
        "    # Ensure y_pred has more than one class dimension to compute diff\n",
        "    if K.int_shape(y_pred)[-1] > 1:\n",
        "        diff = y_pred[:, 1:] - y_pred[:, :-1]\n",
        "        squared_diff = tf.square(diff)\n",
        "        physics_term = tf.reduce_mean(squared_diff)\n",
        "    else:\n",
        "        physics_term = 0.0 # No physics term if only one class\n",
        "\n",
        "\n",
        "    # Total loss = classification loss + regularization term\n",
        "    total_loss = loss + 0.01 * physics_term  # 0.01 is tunable\n",
        "\n",
        "    return total_loss\n",
        "\n",
        "# --- Model Definition ---\n",
        "# no_classes = len(df['fault'].unique()) # Original line that caused 10 classes\n",
        "no_classes = len(encoder.classes_) # Use the encoder to get the correct number of classes\n",
        "print(f\"Number of output classes (no_classes): {no_classes}\") # Add print statement to verify\n",
        "\n",
        "input_shape = (X.shape[1], X.shape[2])  # Example: (784, 1)\n",
        "\n",
        "# Head 1\n",
        "inputs1 = Input(shape=input_shape)\n",
        "conv1 = Conv1D(filters=64, kernel_size=200, activation='relu')(inputs1)\n",
        "drop1 = Dropout(0.5)(conv1)\n",
        "pool1 = MaxPooling1D(pool_size=20)(drop1)\n",
        "flat1 = Flatten()(pool1)\n",
        "\n",
        "# Head 2\n",
        "inputs2 = Input(shape=input_shape)\n",
        "conv2 = Conv1D(filters=64, kernel_size=100, activation='relu')(inputs2)\n",
        "drop2 = Dropout(0.5)(conv2)\n",
        "pool2 = MaxPooling1D(pool_size=10)(drop2)\n",
        "flat2 = Flatten()(pool2)\n",
        "\n",
        "# Head 3\n",
        "inputs3 = Input(shape=input_shape)\n",
        "conv3 = Conv1D(filters=64, kernel_size=50, activation='relu')(inputs3)\n",
        "drop3 = Dropout(0.5)(conv3)\n",
        "pool3 = MaxPooling1D(pool_size=5)(drop3)\n",
        "flat3 = Flatten()(pool3)\n",
        "\n",
        "# Merge all feature paths\n",
        "merged = concatenate([flat1, flat2, flat3])\n",
        "\n",
        "# Fully connected interpretation\n",
        "dense1 = Dense(100, activation='relu')(merged)\n",
        "outputs = Dense(no_classes, activation='softmax')(dense1)\n",
        "\n",
        "# Build and compile model with custom loss\n",
        "cnn_model = Model(inputs=[inputs1, inputs2, inputs3], outputs=outputs)\n",
        "cnn_model.compile(optimizer='adam', loss=custom_loss, metrics=['accuracy'])\n",
        "\n",
        "# Model summary\n",
        "cnn_model.summary()"
      ],
      "metadata": {
        "colab": {
          "base_uri": "https://localhost:8080/",
          "height": 969
        },
        "id": "kB3uGh-8J7no",
        "outputId": "55777e71-12e4-4838-9cdf-b750db79d778"
      },
      "id": "kB3uGh-8J7no",
      "execution_count": 105,
      "outputs": [
        {
          "output_type": "stream",
          "name": "stdout",
          "text": [
            "Number of output classes (no_classes): 9\n"
          ]
        },
        {
          "output_type": "display_data",
          "data": {
            "text/plain": [
              "\u001b[1mModel: \"functional_6\"\u001b[0m\n"
            ],
            "text/html": [
              "<pre style=\"white-space:pre;overflow-x:auto;line-height:normal;font-family:Menlo,'DejaVu Sans Mono',consolas,'Courier New',monospace\"><span style=\"font-weight: bold\">Model: \"functional_6\"</span>\n",
              "</pre>\n"
            ]
          },
          "metadata": {}
        },
        {
          "output_type": "display_data",
          "data": {
            "text/plain": [
              "┏━━━━━━━━━━━━━━━━━━━━━┳━━━━━━━━━━━━━━━━━━━┳━━━━━━━━━━━━┳━━━━━━━━━━━━━━━━━━━┓\n",
              "┃\u001b[1m \u001b[0m\u001b[1mLayer (type)       \u001b[0m\u001b[1m \u001b[0m┃\u001b[1m \u001b[0m\u001b[1mOutput Shape     \u001b[0m\u001b[1m \u001b[0m┃\u001b[1m \u001b[0m\u001b[1m   Param #\u001b[0m\u001b[1m \u001b[0m┃\u001b[1m \u001b[0m\u001b[1mConnected to     \u001b[0m\u001b[1m \u001b[0m┃\n",
              "┡━━━━━━━━━━━━━━━━━━━━━╇━━━━━━━━━━━━━━━━━━━╇━━━━━━━━━━━━╇━━━━━━━━━━━━━━━━━━━┩\n",
              "│ input_layer_9       │ (\u001b[38;5;45mNone\u001b[0m, \u001b[38;5;34m2373\u001b[0m, \u001b[38;5;34m1\u001b[0m)   │          \u001b[38;5;34m0\u001b[0m │ -                 │\n",
              "│ (\u001b[38;5;33mInputLayer\u001b[0m)        │                   │            │                   │\n",
              "├─────────────────────┼───────────────────┼────────────┼───────────────────┤\n",
              "│ input_layer_10      │ (\u001b[38;5;45mNone\u001b[0m, \u001b[38;5;34m2373\u001b[0m, \u001b[38;5;34m1\u001b[0m)   │          \u001b[38;5;34m0\u001b[0m │ -                 │\n",
              "│ (\u001b[38;5;33mInputLayer\u001b[0m)        │                   │            │                   │\n",
              "├─────────────────────┼───────────────────┼────────────┼───────────────────┤\n",
              "│ input_layer_11      │ (\u001b[38;5;45mNone\u001b[0m, \u001b[38;5;34m2373\u001b[0m, \u001b[38;5;34m1\u001b[0m)   │          \u001b[38;5;34m0\u001b[0m │ -                 │\n",
              "│ (\u001b[38;5;33mInputLayer\u001b[0m)        │                   │            │                   │\n",
              "├─────────────────────┼───────────────────┼────────────┼───────────────────┤\n",
              "│ conv1d_9 (\u001b[38;5;33mConv1D\u001b[0m)   │ (\u001b[38;5;45mNone\u001b[0m, \u001b[38;5;34m2174\u001b[0m, \u001b[38;5;34m64\u001b[0m)  │     \u001b[38;5;34m12,864\u001b[0m │ input_layer_9[\u001b[38;5;34m0\u001b[0m]… │\n",
              "├─────────────────────┼───────────────────┼────────────┼───────────────────┤\n",
              "│ conv1d_10 (\u001b[38;5;33mConv1D\u001b[0m)  │ (\u001b[38;5;45mNone\u001b[0m, \u001b[38;5;34m2274\u001b[0m, \u001b[38;5;34m64\u001b[0m)  │      \u001b[38;5;34m6,464\u001b[0m │ input_layer_10[\u001b[38;5;34m0\u001b[0m… │\n",
              "├─────────────────────┼───────────────────┼────────────┼───────────────────┤\n",
              "│ conv1d_11 (\u001b[38;5;33mConv1D\u001b[0m)  │ (\u001b[38;5;45mNone\u001b[0m, \u001b[38;5;34m2324\u001b[0m, \u001b[38;5;34m64\u001b[0m)  │      \u001b[38;5;34m3,264\u001b[0m │ input_layer_11[\u001b[38;5;34m0\u001b[0m… │\n",
              "├─────────────────────┼───────────────────┼────────────┼───────────────────┤\n",
              "│ dropout_9 (\u001b[38;5;33mDropout\u001b[0m) │ (\u001b[38;5;45mNone\u001b[0m, \u001b[38;5;34m2174\u001b[0m, \u001b[38;5;34m64\u001b[0m)  │          \u001b[38;5;34m0\u001b[0m │ conv1d_9[\u001b[38;5;34m0\u001b[0m][\u001b[38;5;34m0\u001b[0m]    │\n",
              "├─────────────────────┼───────────────────┼────────────┼───────────────────┤\n",
              "│ dropout_10          │ (\u001b[38;5;45mNone\u001b[0m, \u001b[38;5;34m2274\u001b[0m, \u001b[38;5;34m64\u001b[0m)  │          \u001b[38;5;34m0\u001b[0m │ conv1d_10[\u001b[38;5;34m0\u001b[0m][\u001b[38;5;34m0\u001b[0m]   │\n",
              "│ (\u001b[38;5;33mDropout\u001b[0m)           │                   │            │                   │\n",
              "├─────────────────────┼───────────────────┼────────────┼───────────────────┤\n",
              "│ dropout_11          │ (\u001b[38;5;45mNone\u001b[0m, \u001b[38;5;34m2324\u001b[0m, \u001b[38;5;34m64\u001b[0m)  │          \u001b[38;5;34m0\u001b[0m │ conv1d_11[\u001b[38;5;34m0\u001b[0m][\u001b[38;5;34m0\u001b[0m]   │\n",
              "│ (\u001b[38;5;33mDropout\u001b[0m)           │                   │            │                   │\n",
              "├─────────────────────┼───────────────────┼────────────┼───────────────────┤\n",
              "│ max_pooling1d_9     │ (\u001b[38;5;45mNone\u001b[0m, \u001b[38;5;34m108\u001b[0m, \u001b[38;5;34m64\u001b[0m)   │          \u001b[38;5;34m0\u001b[0m │ dropout_9[\u001b[38;5;34m0\u001b[0m][\u001b[38;5;34m0\u001b[0m]   │\n",
              "│ (\u001b[38;5;33mMaxPooling1D\u001b[0m)      │                   │            │                   │\n",
              "├─────────────────────┼───────────────────┼────────────┼───────────────────┤\n",
              "│ max_pooling1d_10    │ (\u001b[38;5;45mNone\u001b[0m, \u001b[38;5;34m227\u001b[0m, \u001b[38;5;34m64\u001b[0m)   │          \u001b[38;5;34m0\u001b[0m │ dropout_10[\u001b[38;5;34m0\u001b[0m][\u001b[38;5;34m0\u001b[0m]  │\n",
              "│ (\u001b[38;5;33mMaxPooling1D\u001b[0m)      │                   │            │                   │\n",
              "├─────────────────────┼───────────────────┼────────────┼───────────────────┤\n",
              "│ max_pooling1d_11    │ (\u001b[38;5;45mNone\u001b[0m, \u001b[38;5;34m464\u001b[0m, \u001b[38;5;34m64\u001b[0m)   │          \u001b[38;5;34m0\u001b[0m │ dropout_11[\u001b[38;5;34m0\u001b[0m][\u001b[38;5;34m0\u001b[0m]  │\n",
              "│ (\u001b[38;5;33mMaxPooling1D\u001b[0m)      │                   │            │                   │\n",
              "├─────────────────────┼───────────────────┼────────────┼───────────────────┤\n",
              "│ flatten_9 (\u001b[38;5;33mFlatten\u001b[0m) │ (\u001b[38;5;45mNone\u001b[0m, \u001b[38;5;34m6912\u001b[0m)      │          \u001b[38;5;34m0\u001b[0m │ max_pooling1d_9[\u001b[38;5;34m…\u001b[0m │\n",
              "├─────────────────────┼───────────────────┼────────────┼───────────────────┤\n",
              "│ flatten_10          │ (\u001b[38;5;45mNone\u001b[0m, \u001b[38;5;34m14528\u001b[0m)     │          \u001b[38;5;34m0\u001b[0m │ max_pooling1d_10… │\n",
              "│ (\u001b[38;5;33mFlatten\u001b[0m)           │                   │            │                   │\n",
              "├─────────────────────┼───────────────────┼────────────┼───────────────────┤\n",
              "│ flatten_11          │ (\u001b[38;5;45mNone\u001b[0m, \u001b[38;5;34m29696\u001b[0m)     │          \u001b[38;5;34m0\u001b[0m │ max_pooling1d_11… │\n",
              "│ (\u001b[38;5;33mFlatten\u001b[0m)           │                   │            │                   │\n",
              "├─────────────────────┼───────────────────┼────────────┼───────────────────┤\n",
              "│ concatenate_3       │ (\u001b[38;5;45mNone\u001b[0m, \u001b[38;5;34m51136\u001b[0m)     │          \u001b[38;5;34m0\u001b[0m │ flatten_9[\u001b[38;5;34m0\u001b[0m][\u001b[38;5;34m0\u001b[0m],  │\n",
              "│ (\u001b[38;5;33mConcatenate\u001b[0m)       │                   │            │ flatten_10[\u001b[38;5;34m0\u001b[0m][\u001b[38;5;34m0\u001b[0m], │\n",
              "│                     │                   │            │ flatten_11[\u001b[38;5;34m0\u001b[0m][\u001b[38;5;34m0\u001b[0m]  │\n",
              "├─────────────────────┼───────────────────┼────────────┼───────────────────┤\n",
              "│ dense_6 (\u001b[38;5;33mDense\u001b[0m)     │ (\u001b[38;5;45mNone\u001b[0m, \u001b[38;5;34m100\u001b[0m)       │  \u001b[38;5;34m5,113,700\u001b[0m │ concatenate_3[\u001b[38;5;34m0\u001b[0m]… │\n",
              "├─────────────────────┼───────────────────┼────────────┼───────────────────┤\n",
              "│ dense_7 (\u001b[38;5;33mDense\u001b[0m)     │ (\u001b[38;5;45mNone\u001b[0m, \u001b[38;5;34m9\u001b[0m)         │        \u001b[38;5;34m909\u001b[0m │ dense_6[\u001b[38;5;34m0\u001b[0m][\u001b[38;5;34m0\u001b[0m]     │\n",
              "└─────────────────────┴───────────────────┴────────────┴───────────────────┘\n"
            ],
            "text/html": [
              "<pre style=\"white-space:pre;overflow-x:auto;line-height:normal;font-family:Menlo,'DejaVu Sans Mono',consolas,'Courier New',monospace\">┏━━━━━━━━━━━━━━━━━━━━━┳━━━━━━━━━━━━━━━━━━━┳━━━━━━━━━━━━┳━━━━━━━━━━━━━━━━━━━┓\n",
              "┃<span style=\"font-weight: bold\"> Layer (type)        </span>┃<span style=\"font-weight: bold\"> Output Shape      </span>┃<span style=\"font-weight: bold\">    Param # </span>┃<span style=\"font-weight: bold\"> Connected to      </span>┃\n",
              "┡━━━━━━━━━━━━━━━━━━━━━╇━━━━━━━━━━━━━━━━━━━╇━━━━━━━━━━━━╇━━━━━━━━━━━━━━━━━━━┩\n",
              "│ input_layer_9       │ (<span style=\"color: #00d7ff; text-decoration-color: #00d7ff\">None</span>, <span style=\"color: #00af00; text-decoration-color: #00af00\">2373</span>, <span style=\"color: #00af00; text-decoration-color: #00af00\">1</span>)   │          <span style=\"color: #00af00; text-decoration-color: #00af00\">0</span> │ -                 │\n",
              "│ (<span style=\"color: #0087ff; text-decoration-color: #0087ff\">InputLayer</span>)        │                   │            │                   │\n",
              "├─────────────────────┼───────────────────┼────────────┼───────────────────┤\n",
              "│ input_layer_10      │ (<span style=\"color: #00d7ff; text-decoration-color: #00d7ff\">None</span>, <span style=\"color: #00af00; text-decoration-color: #00af00\">2373</span>, <span style=\"color: #00af00; text-decoration-color: #00af00\">1</span>)   │          <span style=\"color: #00af00; text-decoration-color: #00af00\">0</span> │ -                 │\n",
              "│ (<span style=\"color: #0087ff; text-decoration-color: #0087ff\">InputLayer</span>)        │                   │            │                   │\n",
              "├─────────────────────┼───────────────────┼────────────┼───────────────────┤\n",
              "│ input_layer_11      │ (<span style=\"color: #00d7ff; text-decoration-color: #00d7ff\">None</span>, <span style=\"color: #00af00; text-decoration-color: #00af00\">2373</span>, <span style=\"color: #00af00; text-decoration-color: #00af00\">1</span>)   │          <span style=\"color: #00af00; text-decoration-color: #00af00\">0</span> │ -                 │\n",
              "│ (<span style=\"color: #0087ff; text-decoration-color: #0087ff\">InputLayer</span>)        │                   │            │                   │\n",
              "├─────────────────────┼───────────────────┼────────────┼───────────────────┤\n",
              "│ conv1d_9 (<span style=\"color: #0087ff; text-decoration-color: #0087ff\">Conv1D</span>)   │ (<span style=\"color: #00d7ff; text-decoration-color: #00d7ff\">None</span>, <span style=\"color: #00af00; text-decoration-color: #00af00\">2174</span>, <span style=\"color: #00af00; text-decoration-color: #00af00\">64</span>)  │     <span style=\"color: #00af00; text-decoration-color: #00af00\">12,864</span> │ input_layer_9[<span style=\"color: #00af00; text-decoration-color: #00af00\">0</span>]… │\n",
              "├─────────────────────┼───────────────────┼────────────┼───────────────────┤\n",
              "│ conv1d_10 (<span style=\"color: #0087ff; text-decoration-color: #0087ff\">Conv1D</span>)  │ (<span style=\"color: #00d7ff; text-decoration-color: #00d7ff\">None</span>, <span style=\"color: #00af00; text-decoration-color: #00af00\">2274</span>, <span style=\"color: #00af00; text-decoration-color: #00af00\">64</span>)  │      <span style=\"color: #00af00; text-decoration-color: #00af00\">6,464</span> │ input_layer_10[<span style=\"color: #00af00; text-decoration-color: #00af00\">0</span>… │\n",
              "├─────────────────────┼───────────────────┼────────────┼───────────────────┤\n",
              "│ conv1d_11 (<span style=\"color: #0087ff; text-decoration-color: #0087ff\">Conv1D</span>)  │ (<span style=\"color: #00d7ff; text-decoration-color: #00d7ff\">None</span>, <span style=\"color: #00af00; text-decoration-color: #00af00\">2324</span>, <span style=\"color: #00af00; text-decoration-color: #00af00\">64</span>)  │      <span style=\"color: #00af00; text-decoration-color: #00af00\">3,264</span> │ input_layer_11[<span style=\"color: #00af00; text-decoration-color: #00af00\">0</span>… │\n",
              "├─────────────────────┼───────────────────┼────────────┼───────────────────┤\n",
              "│ dropout_9 (<span style=\"color: #0087ff; text-decoration-color: #0087ff\">Dropout</span>) │ (<span style=\"color: #00d7ff; text-decoration-color: #00d7ff\">None</span>, <span style=\"color: #00af00; text-decoration-color: #00af00\">2174</span>, <span style=\"color: #00af00; text-decoration-color: #00af00\">64</span>)  │          <span style=\"color: #00af00; text-decoration-color: #00af00\">0</span> │ conv1d_9[<span style=\"color: #00af00; text-decoration-color: #00af00\">0</span>][<span style=\"color: #00af00; text-decoration-color: #00af00\">0</span>]    │\n",
              "├─────────────────────┼───────────────────┼────────────┼───────────────────┤\n",
              "│ dropout_10          │ (<span style=\"color: #00d7ff; text-decoration-color: #00d7ff\">None</span>, <span style=\"color: #00af00; text-decoration-color: #00af00\">2274</span>, <span style=\"color: #00af00; text-decoration-color: #00af00\">64</span>)  │          <span style=\"color: #00af00; text-decoration-color: #00af00\">0</span> │ conv1d_10[<span style=\"color: #00af00; text-decoration-color: #00af00\">0</span>][<span style=\"color: #00af00; text-decoration-color: #00af00\">0</span>]   │\n",
              "│ (<span style=\"color: #0087ff; text-decoration-color: #0087ff\">Dropout</span>)           │                   │            │                   │\n",
              "├─────────────────────┼───────────────────┼────────────┼───────────────────┤\n",
              "│ dropout_11          │ (<span style=\"color: #00d7ff; text-decoration-color: #00d7ff\">None</span>, <span style=\"color: #00af00; text-decoration-color: #00af00\">2324</span>, <span style=\"color: #00af00; text-decoration-color: #00af00\">64</span>)  │          <span style=\"color: #00af00; text-decoration-color: #00af00\">0</span> │ conv1d_11[<span style=\"color: #00af00; text-decoration-color: #00af00\">0</span>][<span style=\"color: #00af00; text-decoration-color: #00af00\">0</span>]   │\n",
              "│ (<span style=\"color: #0087ff; text-decoration-color: #0087ff\">Dropout</span>)           │                   │            │                   │\n",
              "├─────────────────────┼───────────────────┼────────────┼───────────────────┤\n",
              "│ max_pooling1d_9     │ (<span style=\"color: #00d7ff; text-decoration-color: #00d7ff\">None</span>, <span style=\"color: #00af00; text-decoration-color: #00af00\">108</span>, <span style=\"color: #00af00; text-decoration-color: #00af00\">64</span>)   │          <span style=\"color: #00af00; text-decoration-color: #00af00\">0</span> │ dropout_9[<span style=\"color: #00af00; text-decoration-color: #00af00\">0</span>][<span style=\"color: #00af00; text-decoration-color: #00af00\">0</span>]   │\n",
              "│ (<span style=\"color: #0087ff; text-decoration-color: #0087ff\">MaxPooling1D</span>)      │                   │            │                   │\n",
              "├─────────────────────┼───────────────────┼────────────┼───────────────────┤\n",
              "│ max_pooling1d_10    │ (<span style=\"color: #00d7ff; text-decoration-color: #00d7ff\">None</span>, <span style=\"color: #00af00; text-decoration-color: #00af00\">227</span>, <span style=\"color: #00af00; text-decoration-color: #00af00\">64</span>)   │          <span style=\"color: #00af00; text-decoration-color: #00af00\">0</span> │ dropout_10[<span style=\"color: #00af00; text-decoration-color: #00af00\">0</span>][<span style=\"color: #00af00; text-decoration-color: #00af00\">0</span>]  │\n",
              "│ (<span style=\"color: #0087ff; text-decoration-color: #0087ff\">MaxPooling1D</span>)      │                   │            │                   │\n",
              "├─────────────────────┼───────────────────┼────────────┼───────────────────┤\n",
              "│ max_pooling1d_11    │ (<span style=\"color: #00d7ff; text-decoration-color: #00d7ff\">None</span>, <span style=\"color: #00af00; text-decoration-color: #00af00\">464</span>, <span style=\"color: #00af00; text-decoration-color: #00af00\">64</span>)   │          <span style=\"color: #00af00; text-decoration-color: #00af00\">0</span> │ dropout_11[<span style=\"color: #00af00; text-decoration-color: #00af00\">0</span>][<span style=\"color: #00af00; text-decoration-color: #00af00\">0</span>]  │\n",
              "│ (<span style=\"color: #0087ff; text-decoration-color: #0087ff\">MaxPooling1D</span>)      │                   │            │                   │\n",
              "├─────────────────────┼───────────────────┼────────────┼───────────────────┤\n",
              "│ flatten_9 (<span style=\"color: #0087ff; text-decoration-color: #0087ff\">Flatten</span>) │ (<span style=\"color: #00d7ff; text-decoration-color: #00d7ff\">None</span>, <span style=\"color: #00af00; text-decoration-color: #00af00\">6912</span>)      │          <span style=\"color: #00af00; text-decoration-color: #00af00\">0</span> │ max_pooling1d_9[<span style=\"color: #00af00; text-decoration-color: #00af00\">…</span> │\n",
              "├─────────────────────┼───────────────────┼────────────┼───────────────────┤\n",
              "│ flatten_10          │ (<span style=\"color: #00d7ff; text-decoration-color: #00d7ff\">None</span>, <span style=\"color: #00af00; text-decoration-color: #00af00\">14528</span>)     │          <span style=\"color: #00af00; text-decoration-color: #00af00\">0</span> │ max_pooling1d_10… │\n",
              "│ (<span style=\"color: #0087ff; text-decoration-color: #0087ff\">Flatten</span>)           │                   │            │                   │\n",
              "├─────────────────────┼───────────────────┼────────────┼───────────────────┤\n",
              "│ flatten_11          │ (<span style=\"color: #00d7ff; text-decoration-color: #00d7ff\">None</span>, <span style=\"color: #00af00; text-decoration-color: #00af00\">29696</span>)     │          <span style=\"color: #00af00; text-decoration-color: #00af00\">0</span> │ max_pooling1d_11… │\n",
              "│ (<span style=\"color: #0087ff; text-decoration-color: #0087ff\">Flatten</span>)           │                   │            │                   │\n",
              "├─────────────────────┼───────────────────┼────────────┼───────────────────┤\n",
              "│ concatenate_3       │ (<span style=\"color: #00d7ff; text-decoration-color: #00d7ff\">None</span>, <span style=\"color: #00af00; text-decoration-color: #00af00\">51136</span>)     │          <span style=\"color: #00af00; text-decoration-color: #00af00\">0</span> │ flatten_9[<span style=\"color: #00af00; text-decoration-color: #00af00\">0</span>][<span style=\"color: #00af00; text-decoration-color: #00af00\">0</span>],  │\n",
              "│ (<span style=\"color: #0087ff; text-decoration-color: #0087ff\">Concatenate</span>)       │                   │            │ flatten_10[<span style=\"color: #00af00; text-decoration-color: #00af00\">0</span>][<span style=\"color: #00af00; text-decoration-color: #00af00\">0</span>], │\n",
              "│                     │                   │            │ flatten_11[<span style=\"color: #00af00; text-decoration-color: #00af00\">0</span>][<span style=\"color: #00af00; text-decoration-color: #00af00\">0</span>]  │\n",
              "├─────────────────────┼───────────────────┼────────────┼───────────────────┤\n",
              "│ dense_6 (<span style=\"color: #0087ff; text-decoration-color: #0087ff\">Dense</span>)     │ (<span style=\"color: #00d7ff; text-decoration-color: #00d7ff\">None</span>, <span style=\"color: #00af00; text-decoration-color: #00af00\">100</span>)       │  <span style=\"color: #00af00; text-decoration-color: #00af00\">5,113,700</span> │ concatenate_3[<span style=\"color: #00af00; text-decoration-color: #00af00\">0</span>]… │\n",
              "├─────────────────────┼───────────────────┼────────────┼───────────────────┤\n",
              "│ dense_7 (<span style=\"color: #0087ff; text-decoration-color: #0087ff\">Dense</span>)     │ (<span style=\"color: #00d7ff; text-decoration-color: #00d7ff\">None</span>, <span style=\"color: #00af00; text-decoration-color: #00af00\">9</span>)         │        <span style=\"color: #00af00; text-decoration-color: #00af00\">909</span> │ dense_6[<span style=\"color: #00af00; text-decoration-color: #00af00\">0</span>][<span style=\"color: #00af00; text-decoration-color: #00af00\">0</span>]     │\n",
              "└─────────────────────┴───────────────────┴────────────┴───────────────────┘\n",
              "</pre>\n"
            ]
          },
          "metadata": {}
        },
        {
          "output_type": "display_data",
          "data": {
            "text/plain": [
              "\u001b[1m Total params: \u001b[0m\u001b[38;5;34m5,137,201\u001b[0m (19.60 MB)\n"
            ],
            "text/html": [
              "<pre style=\"white-space:pre;overflow-x:auto;line-height:normal;font-family:Menlo,'DejaVu Sans Mono',consolas,'Courier New',monospace\"><span style=\"font-weight: bold\"> Total params: </span><span style=\"color: #00af00; text-decoration-color: #00af00\">5,137,201</span> (19.60 MB)\n",
              "</pre>\n"
            ]
          },
          "metadata": {}
        },
        {
          "output_type": "display_data",
          "data": {
            "text/plain": [
              "\u001b[1m Trainable params: \u001b[0m\u001b[38;5;34m5,137,201\u001b[0m (19.60 MB)\n"
            ],
            "text/html": [
              "<pre style=\"white-space:pre;overflow-x:auto;line-height:normal;font-family:Menlo,'DejaVu Sans Mono',consolas,'Courier New',monospace\"><span style=\"font-weight: bold\"> Trainable params: </span><span style=\"color: #00af00; text-decoration-color: #00af00\">5,137,201</span> (19.60 MB)\n",
              "</pre>\n"
            ]
          },
          "metadata": {}
        },
        {
          "output_type": "display_data",
          "data": {
            "text/plain": [
              "\u001b[1m Non-trainable params: \u001b[0m\u001b[38;5;34m0\u001b[0m (0.00 B)\n"
            ],
            "text/html": [
              "<pre style=\"white-space:pre;overflow-x:auto;line-height:normal;font-family:Menlo,'DejaVu Sans Mono',consolas,'Courier New',monospace\"><span style=\"font-weight: bold\"> Non-trainable params: </span><span style=\"color: #00af00; text-decoration-color: #00af00\">0</span> (0.00 B)\n",
              "</pre>\n"
            ]
          },
          "metadata": {}
        }
      ]
    },
    {
      "cell_type": "code",
      "source": [
        "batch_size =100\n",
        "epochs = 20\n",
        "history = cnn_model.fit([X_train,X_train,X_train], y_train, batch_size=batch_size,epochs=epochs,verbose=1,validation_data=([X_test,X_test,X_test],y_test),shuffle=True)"
      ],
      "metadata": {
        "colab": {
          "base_uri": "https://localhost:8080/"
        },
        "id": "2Lxm-qvKM3oN",
        "outputId": "1fc1f3fd-d293-4459-c7d1-be73fe9db2a9"
      },
      "id": "2Lxm-qvKM3oN",
      "execution_count": 106,
      "outputs": [
        {
          "output_type": "stream",
          "name": "stdout",
          "text": [
            "Epoch 1/20\n",
            "\u001b[1m16/16\u001b[0m \u001b[32m━━━━━━━━━━━━━━━━━━━━\u001b[0m\u001b[37m\u001b[0m \u001b[1m32s\u001b[0m 897ms/step - accuracy: 0.1215 - loss: 3.6510 - val_accuracy: 0.2359 - val_loss: 1.9060\n",
            "Epoch 2/20\n",
            "\u001b[1m16/16\u001b[0m \u001b[32m━━━━━━━━━━━━━━━━━━━━\u001b[0m\u001b[37m\u001b[0m \u001b[1m1s\u001b[0m 40ms/step - accuracy: 0.3414 - loss: 1.6256 - val_accuracy: 0.5549 - val_loss: 1.3549\n",
            "Epoch 3/20\n",
            "\u001b[1m16/16\u001b[0m \u001b[32m━━━━━━━━━━━━━━━━━━━━\u001b[0m\u001b[37m\u001b[0m \u001b[1m1s\u001b[0m 32ms/step - accuracy: 0.6935 - loss: 1.0006 - val_accuracy: 0.8427 - val_loss: 0.8887\n",
            "Epoch 4/20\n",
            "\u001b[1m16/16\u001b[0m \u001b[32m━━━━━━━━━━━━━━━━━━━━\u001b[0m\u001b[37m\u001b[0m \u001b[1m1s\u001b[0m 32ms/step - accuracy: 0.9293 - loss: 0.4574 - val_accuracy: 0.8991 - val_loss: 0.4991\n",
            "Epoch 5/20\n",
            "\u001b[1m16/16\u001b[0m \u001b[32m━━━━━━━━━━━━━━━━━━━━\u001b[0m\u001b[37m\u001b[0m \u001b[1m1s\u001b[0m 32ms/step - accuracy: 0.9558 - loss: 0.1940 - val_accuracy: 0.9214 - val_loss: 0.3257\n",
            "Epoch 6/20\n",
            "\u001b[1m16/16\u001b[0m \u001b[32m━━━━━━━━━━━━━━━━━━━━\u001b[0m\u001b[37m\u001b[0m \u001b[1m1s\u001b[0m 33ms/step - accuracy: 0.9801 - loss: 0.1046 - val_accuracy: 0.9273 - val_loss: 0.2758\n",
            "Epoch 7/20\n",
            "\u001b[1m16/16\u001b[0m \u001b[32m━━━━━━━━━━━━━━━━━━━━\u001b[0m\u001b[37m\u001b[0m \u001b[1m1s\u001b[0m 32ms/step - accuracy: 0.9809 - loss: 0.0797 - val_accuracy: 0.9451 - val_loss: 0.2280\n",
            "Epoch 8/20\n",
            "\u001b[1m16/16\u001b[0m \u001b[32m━━━━━━━━━━━━━━━━━━━━\u001b[0m\u001b[37m\u001b[0m \u001b[1m1s\u001b[0m 32ms/step - accuracy: 0.9889 - loss: 0.0520 - val_accuracy: 0.9674 - val_loss: 0.1750\n",
            "Epoch 9/20\n",
            "\u001b[1m16/16\u001b[0m \u001b[32m━━━━━━━━━━━━━━━━━━━━\u001b[0m\u001b[37m\u001b[0m \u001b[1m1s\u001b[0m 33ms/step - accuracy: 0.9951 - loss: 0.0415 - val_accuracy: 0.9733 - val_loss: 0.1508\n",
            "Epoch 10/20\n",
            "\u001b[1m16/16\u001b[0m \u001b[32m━━━━━━━━━━━━━━━━━━━━\u001b[0m\u001b[37m\u001b[0m \u001b[1m1s\u001b[0m 32ms/step - accuracy: 0.9973 - loss: 0.0287 - val_accuracy: 0.9436 - val_loss: 0.1853\n",
            "Epoch 11/20\n",
            "\u001b[1m16/16\u001b[0m \u001b[32m━━━━━━━━━━━━━━━━━━━━\u001b[0m\u001b[37m\u001b[0m \u001b[1m1s\u001b[0m 32ms/step - accuracy: 0.9989 - loss: 0.0176 - val_accuracy: 0.9629 - val_loss: 0.1544\n",
            "Epoch 12/20\n",
            "\u001b[1m16/16\u001b[0m \u001b[32m━━━━━━━━━━━━━━━━━━━━\u001b[0m\u001b[37m\u001b[0m \u001b[1m1s\u001b[0m 32ms/step - accuracy: 1.0000 - loss: 0.0136 - val_accuracy: 0.9718 - val_loss: 0.1349\n",
            "Epoch 13/20\n",
            "\u001b[1m16/16\u001b[0m \u001b[32m━━━━━━━━━━━━━━━━━━━━\u001b[0m\u001b[37m\u001b[0m \u001b[1m1s\u001b[0m 33ms/step - accuracy: 1.0000 - loss: 0.0110 - val_accuracy: 0.9718 - val_loss: 0.1325\n",
            "Epoch 14/20\n",
            "\u001b[1m16/16\u001b[0m \u001b[32m━━━━━━━━━━━━━━━━━━━━\u001b[0m\u001b[37m\u001b[0m \u001b[1m1s\u001b[0m 32ms/step - accuracy: 1.0000 - loss: 0.0107 - val_accuracy: 0.9718 - val_loss: 0.1358\n",
            "Epoch 15/20\n",
            "\u001b[1m16/16\u001b[0m \u001b[32m━━━━━━━━━━━━━━━━━━━━\u001b[0m\u001b[37m\u001b[0m \u001b[1m1s\u001b[0m 39ms/step - accuracy: 1.0000 - loss: 0.0084 - val_accuracy: 0.9629 - val_loss: 0.1407\n",
            "Epoch 16/20\n",
            "\u001b[1m16/16\u001b[0m \u001b[32m━━━━━━━━━━━━━━━━━━━━\u001b[0m\u001b[37m\u001b[0m \u001b[1m1s\u001b[0m 39ms/step - accuracy: 1.0000 - loss: 0.0071 - val_accuracy: 0.9614 - val_loss: 0.1455\n",
            "Epoch 17/20\n",
            "\u001b[1m16/16\u001b[0m \u001b[32m━━━━━━━━━━━━━━━━━━━━\u001b[0m\u001b[37m\u001b[0m \u001b[1m1s\u001b[0m 40ms/step - accuracy: 1.0000 - loss: 0.0064 - val_accuracy: 0.9599 - val_loss: 0.1467\n",
            "Epoch 18/20\n",
            "\u001b[1m16/16\u001b[0m \u001b[32m━━━━━━━━━━━━━━━━━━━━\u001b[0m\u001b[37m\u001b[0m \u001b[1m1s\u001b[0m 32ms/step - accuracy: 1.0000 - loss: 0.0064 - val_accuracy: 0.9614 - val_loss: 0.1450\n",
            "Epoch 19/20\n",
            "\u001b[1m16/16\u001b[0m \u001b[32m━━━━━━━━━━━━━━━━━━━━\u001b[0m\u001b[37m\u001b[0m \u001b[1m1s\u001b[0m 32ms/step - accuracy: 1.0000 - loss: 0.0056 - val_accuracy: 0.9570 - val_loss: 0.1483\n",
            "Epoch 20/20\n",
            "\u001b[1m16/16\u001b[0m \u001b[32m━━━━━━━━━━━━━━━━━━━━\u001b[0m\u001b[37m\u001b[0m \u001b[1m1s\u001b[0m 32ms/step - accuracy: 1.0000 - loss: 0.0051 - val_accuracy: 0.9585 - val_loss: 0.1440\n"
          ]
        }
      ]
    },
    {
      "cell_type": "code",
      "source": [
        "def inv_Transform_result(y_pred):\n",
        "    y_pred = y_pred.argmax(axis=1)\n",
        "    y_pred = encoder.inverse_transform(y_pred)\n",
        "    return y_pred\n",
        "\n",
        "\n",
        "\n",
        "y_pred=cnn_model.predict([X_test,X_test,X_test])\n",
        "\n",
        "\n",
        "Y_pred=inv_Transform_result(y_pred)\n",
        "Y_test = inv_Transform_result(y_test)\n",
        "\n",
        "\n",
        "\n",
        "\n",
        "from sklearn.metrics import confusion_matrix\n",
        "\n",
        "\n",
        "plt.figure(figsize=(10,10))\n",
        "cm = confusion_matrix(Y_test, Y_pred,normalize='true')\n",
        "f = sns.heatmap(cm, annot=True,xticklabels=encoder.classes_,yticklabels=encoder.classes_)"
      ],
      "metadata": {
        "colab": {
          "base_uri": "https://localhost:8080/",
          "height": 1000
        },
        "id": "pbBmkBjlM5ks",
        "outputId": "f3e696d5-7b9e-4b01-f5bd-df6c8aadeefc"
      },
      "id": "pbBmkBjlM5ks",
      "execution_count": 107,
      "outputs": [
        {
          "output_type": "stream",
          "name": "stdout",
          "text": [
            "\u001b[1m22/22\u001b[0m \u001b[32m━━━━━━━━━━━━━━━━━━━━\u001b[0m\u001b[37m\u001b[0m \u001b[1m2s\u001b[0m 37ms/step\n"
          ]
        },
        {
          "output_type": "display_data",
          "data": {
            "text/plain": [
              "<Figure size 1000x1000 with 2 Axes>"
            ],
            "image/png": "[encoded data removed]"
          },
          "metadata": {}
        }
      ]
    },
    {
      "cell_type": "code",
      "source": [
        "dummy_cnn = Model(inputs=cnn_model.input,outputs=cnn_model.layers[16].output)\n",
        "y_viz = dummy_cnn.predict([X_train,X_train,X_train])"
      ],
      "metadata": {
        "colab": {
          "base_uri": "https://localhost:8080/"
        },
        "id": "3tgRx2TxM-GS",
        "outputId": "426fe4fd-4915-4834-c3e6-b82e07ff6530"
      },
      "id": "3tgRx2TxM-GS",
      "execution_count": 108,
      "outputs": [
        {
          "output_type": "stream",
          "name": "stdout",
          "text": [
            "\u001b[1m50/50\u001b[0m \u001b[32m━━━━━━━━━━━━━━━━━━━━\u001b[0m\u001b[37m\u001b[0m \u001b[1m1s\u001b[0m 14ms/step\n"
          ]
        }
      ]
    },
    {
      "cell_type": "code",
      "source": [
        "import pandas as pd\n",
        "import seaborn as sns\n",
        "import matplotlib.pyplot as plt\n",
        "from sklearn.manifold import TSNE\n",
        "\n",
        "# Apply t-SNE transformation\n",
        "X_t_sne = TSNE(\n",
        "    n_components=2,\n",
        "    learning_rate='auto',\n",
        "    verbose=2,  # Increase verbosity for more detailed feedback\n",
        "    perplexity=40,\n",
        "    n_iter=500  # Slightly increased number of iterations for convergence\n",
        ").fit_transform(y_viz)\n",
        "\n",
        "# Create DataFrame for t-SNE components\n",
        "tSNEdf = pd.DataFrame(data=X_t_sne, columns=['T-SNE component 1', 'T-SNE component 2'])\n",
        "\n",
        "# Assuming `inv_Transform_result` transforms `y_train` to get the Fault labels\n",
        "tSNEdf['Fault'] = inv_Transform_result(y_train)\n",
        "\n",
        "# Save the t-SNE DataFrame as a CSV file\n",
        "tSNEdf.to_csv('/content/drive/MyDrive/MK-DCNN CWRU/NOISE_40_tSNE_results.csv', index=True)\n",
        "print(\"t-SNE results saved as '/content/drive/MyDrive/MK-DCNN CWRU/NOISE_40_tSNE_results.csv'.\")\n",
        "\n",
        "# # Plot the t-SNE results with Fault as hue\n",
        "# plt.figure(figsize=(12, 12))  # Larger figure for clarity\n",
        "# sns.scatterplot(\n",
        "#     x='T-SNE component 1',\n",
        "#     y='T-SNE component 2',\n",
        "#     hue='Fault',\n",
        "#     palette=sns.color_palette(\"husl\", as_cmap=False),  # Vivid color palette\n",
        "#     data=tSNEdf,\n",
        "#     legend=\"full\",\n",
        "#     alpha=0.7,  # Increased transparency for better overlap clarity\n",
        "#     s=100  # Larger marker size\n",
        "# )\n",
        "\n",
        "# # Add gridlines for better visualization\n",
        "# plt.grid\n",
        "\n",
        "\n",
        "# Optional: Visualization of t-SNE representation\n",
        "plt.figure(figsize=(8, 6))\n",
        "for label in tSNEdf['Fault'].unique():\n",
        "    subset = tSNEdf[tSNEdf['Fault'] == label]\n",
        "    plt.scatter(subset['T-SNE component 1'], subset['T-SNE component 2'], label=f'Fault {label}', alpha=0.7)\n",
        "\n",
        "plt.title('t-SNE Representation of Motor Fault Dataset')\n",
        "plt.xlabel('t-SNE 1')\n",
        "plt.ylabel('t-SNE 2')\n",
        "plt.legend()\n",
        "plt.show()"
      ],
      "metadata": {
        "colab": {
          "base_uri": "https://localhost:8080/",
          "height": 946
        },
        "id": "uic9AVV2NBah",
        "outputId": "e49c3ca0-b5fa-4dfe-9cd5-a16a3a7b6695"
      },
      "id": "uic9AVV2NBah",
      "execution_count": 109,
      "outputs": [
        {
          "output_type": "stream",
          "name": "stdout",
          "text": [
            "[t-SNE] Computing 121 nearest neighbors...\n",
            "[t-SNE] Indexed 1570 samples in 0.001s...\n"
          ]
        },
        {
          "output_type": "stream",
          "name": "stderr",
          "text": [
            "/usr/local/lib/python3.11/dist-packages/sklearn/manifold/_t_sne.py:1164: FutureWarning: 'n_iter' was renamed to 'max_iter' in version 1.5 and will be removed in 1.7.\n",
            "  warnings.warn(\n"
          ]
        },
        {
          "output_type": "stream",
          "name": "stdout",
          "text": [
            "[t-SNE] Computed neighbors for 1570 samples in 0.169s...\n",
            "[t-SNE] Computed conditional probabilities for sample 1000 / 1570\n",
            "[t-SNE] Computed conditional probabilities for sample 1570 / 1570\n",
            "[t-SNE] Mean sigma: 1.824380\n",
            "[t-SNE] Computed conditional probabilities in 0.064s\n",
            "[t-SNE] Iteration 50: error = 57.8451195, gradient norm = 0.0423732 (50 iterations in 0.843s)\n",
            "[t-SNE] Iteration 100: error = 52.8583260, gradient norm = 0.0144467 (50 iterations in 0.481s)\n",
            "[t-SNE] Iteration 150: error = 51.7545090, gradient norm = 0.0104074 (50 iterations in 0.470s)\n",
            "[t-SNE] Iteration 200: error = 51.2341461, gradient norm = 0.0064906 (50 iterations in 0.492s)\n",
            "[t-SNE] Iteration 250: error = 50.9262161, gradient norm = 0.0048943 (50 iterations in 0.436s)\n",
            "[t-SNE] KL divergence after 250 iterations with early exaggeration: 50.926216\n",
            "[t-SNE] Iteration 300: error = 0.9270270, gradient norm = 0.0160632 (50 iterations in 0.441s)\n",
            "[t-SNE] Iteration 350: error = 0.6730396, gradient norm = 0.0143193 (50 iterations in 0.639s)\n",
            "[t-SNE] Iteration 400: error = 0.5727568, gradient norm = 0.0120485 (50 iterations in 0.703s)\n",
            "[t-SNE] Iteration 450: error = 0.5230607, gradient norm = 0.0105726 (50 iterations in 0.677s)\n",
            "[t-SNE] Iteration 500: error = 0.4943765, gradient norm = 0.0090599 (50 iterations in 0.722s)\n",
            "[t-SNE] KL divergence after 500 iterations: 0.494376\n",
            "t-SNE results saved as '/content/drive/MyDrive/MK-DCNN CWRU/NOISE_40_tSNE_results.csv'.\n"
          ]
        },
        {
          "output_type": "display_data",
          "data": {
            "text/plain": [
              "<Figure size 800x600 with 1 Axes>"
            ],
            "image/png": "[encoded data removed]"
          },
          "metadata": {}
        }
      ]
    },
    {
      "cell_type": "markdown",
      "source": [
        "Statistical Features"
      ],
      "metadata": {
        "id": "PRuXPOIH6cTH"
      },
      "id": "PRuXPOIH6cTH"
    },
    {
      "cell_type": "code",
      "source": [
        "import numpy as np\n",
        "from scipy.stats import skew, kurtosis\n",
        "import pandas as pd\n",
        "import matplotlib.pyplot as plt\n",
        "\n",
        "# Total target rows\n",
        "TARGET_ROWS = 1800\n",
        "\n",
        "# Estimate the total number of samples across all fault types\n",
        "total_samples = sum(len(df[df['fault'] == f]) for f in df['fault'].unique())\n",
        "\n",
        "# Calculate suitable window size and stride\n",
        "num_faults = 9\n",
        "average_samples_per_fault = total_samples / num_faults\n",
        "approx_windows_per_fault = TARGET_ROWS / num_faults\n",
        "stride_ratio = 0.8  # Initial stride/window ratio\n",
        "\n",
        "WINDOW_SIZE = int(average_samples_per_fault / approx_windows_per_fault)\n",
        "STRIDE = int(WINDOW_SIZE * stride_ratio)\n",
        "\n",
        "print(f\"Calculated WINDOW_SIZE: {WINDOW_SIZE}, STRIDE: {STRIDE}\")\n",
        "\n",
        "# Initialize a list to store statistical features\n",
        "statistical_features = []\n",
        "\n",
        "# Loop through each fault type\n",
        "for f in df['fault'].unique():\n",
        "    # Extract data for the current fault type\n",
        "    fault_data = df[df['fault'] == f].iloc[:, 0].values  # Convert to NumPy array for efficiency\n",
        "\n",
        "    # Compute windows using sliding window approach\n",
        "    num_windows = (len(fault_data) - WINDOW_SIZE) // STRIDE + 1\n",
        "    for i in range(num_windows):\n",
        "        start = i * STRIDE\n",
        "        end = start + WINDOW_SIZE\n",
        "        window = fault_data[start:end]\n",
        "\n",
        "        # Compute statistical features for the current window\n",
        "        mean_val = np.mean(window)\n",
        "        std_val = np.std(window)\n",
        "        rms_val = np.sqrt(np.mean(np.square(window)))\n",
        "        max_val = np.max(window)\n",
        "        min_val = np.min(window)\n",
        "        skewness_val = skew(window)\n",
        "        kurtosis_val = kurtosis(window)\n",
        "\n",
        "        # Additional statistical features\n",
        "        mean_abs_val = np.mean(np.abs(window))\n",
        "        form_factor = rms_val / mean_abs_val if mean_abs_val != 0 else 0\n",
        "        crest_factor = max_val / rms_val if rms_val != 0 else 0\n",
        "\n",
        "        # Store the features in a dictionary\n",
        "        statistical_features.append({\n",
        "            'fault': f,\n",
        "            'window': i + 1,\n",
        "            'mean': mean_val,\n",
        "            'std': std_val,\n",
        "            'rms': rms_val,\n",
        "            'max': max_val,\n",
        "            'min': min_val,\n",
        "            'skewness': skewness_val,\n",
        "            'kurtosis': kurtosis_val,\n",
        "            'form_factor': form_factor,\n",
        "            'crest_factor': crest_factor\n",
        "        })\n",
        "\n",
        "# Convert statistical features into a DataFrame\n",
        "stat_features_df = pd.DataFrame(statistical_features)\n",
        "\n",
        "# Display the extracted features and count of rows\n",
        "print(f\"Extracted {len(stat_features_df)} rows (target: {TARGET_ROWS})\")\n",
        "print(stat_features_df)\n",
        "\n",
        "# Save the extracted features to a CSV file\n",
        "output_file = \"/content/drive/MyDrive/MK-DCNN CWRU/NOISE_40_statistical_features_with_form_and_crest_factors.csv\"\n",
        "stat_features_df.to_csv(output_file, index=False)\n",
        "print(f\"Statistical features saved to '{output_file}'.\")\n"
      ],
      "metadata": {
        "colab": {
          "base_uri": "https://localhost:8080/"
        },
        "id": "HRTIq9cYQgjC",
        "outputId": "1e669de5-2c91-40e5-a78f-68e7443875fe"
      },
      "id": "HRTIq9cYQgjC",
      "execution_count": 110,
      "outputs": [
        {
          "output_type": "stream",
          "name": "stdout",
          "text": [
            "Calculated WINDOW_SIZE: 2373, STRIDE: 1898\n",
            "Extracted 2244 rows (target: 1800)\n",
            "                            fault  window      mean       std       rms  \\\n",
            "0     Noise_40__Time_Normal_1_098       1  0.008091  0.065018  0.065519   \n",
            "1     Noise_40__Time_Normal_1_098       2  0.009812  0.063296  0.064052   \n",
            "2     Noise_40__Time_Normal_1_098       3  0.011155  0.063354  0.064329   \n",
            "3     Noise_40__Time_Normal_1_098       4  0.011241  0.062892  0.063889   \n",
            "4     Noise_40__Time_Normal_1_098       5  0.012030  0.063670  0.064796   \n",
            "...                           ...     ...       ...       ...       ...   \n",
            "2239         Noise_40_IR007_1_110     251  0.019700  0.275898  0.276601   \n",
            "2240         Noise_40_IR007_1_110     252  0.019795  0.269157  0.269884   \n",
            "2241         Noise_40_IR007_1_110     253  0.018081  0.270197  0.270802   \n",
            "2242         Noise_40_IR007_1_110     254  0.018727  0.285200  0.285814   \n",
            "2243         Noise_40_IR007_1_110     255  0.019930  0.268406  0.269145   \n",
            "\n",
            "           max       min  skewness  kurtosis  form_factor  crest_factor  \n",
            "0     0.204139 -0.198327 -0.242981 -0.087049     1.246180      3.115718  \n",
            "1     0.204139 -0.197477 -0.217906  0.011724     1.248138      3.187082  \n",
            "2     0.210786 -0.181225 -0.206708 -0.236815     1.222590      3.276689  \n",
            "3     0.210786 -0.196889 -0.100131  0.167446     1.260094      3.299269  \n",
            "4     0.211609 -0.192173 -0.113098 -0.144851     1.243920      3.265762  \n",
            "...        ...       ...       ...       ...          ...           ...  \n",
            "2239  1.424116 -1.440776  0.029138  4.449193     1.475350      5.148635  \n",
            "2240  1.345291 -1.199275 -0.114037  4.179385     1.452352      4.984705  \n",
            "2241  1.307038 -1.403718 -0.262486  4.916612     1.479936      4.826554  \n",
            "2242  1.284542 -1.407321 -0.300049  4.257468     1.469360      4.494326  \n",
            "2243  1.351178 -1.407321 -0.245950  4.456118     1.460246      5.020265  \n",
            "\n",
            "[2244 rows x 11 columns]\n",
            "Statistical features saved to '/content/drive/MyDrive/MK-DCNN CWRU/NOISE_40_statistical_features_with_form_and_crest_factors.csv'.\n"
          ]
        }
      ]
    },
    {
      "cell_type": "code",
      "source": [
        "import pandas as pd\n",
        "from sklearn.utils import resample\n",
        "\n",
        "# Load your dataset (replace 'your_dataset.csv' with your actual file)\n",
        "df = pd.read_csv('/content/drive/MyDrive/MK-DCNN CWRU/NOISE_40_statistical_features_with_form_and_crest_factors.csv')\n",
        "\n",
        "# Display initial class distribution\n",
        "print(\"Initial class distribution:\")\n",
        "print(df['fault'].value_counts())\n",
        "\n",
        "# Target size for undersampling/resampling\n",
        "TARGET_ROWS = 1570\n",
        "\n",
        "# Separate all fault types\n",
        "fault_classes = df['fault'].value_counts()\n",
        "\n",
        "# Determine the number of classes\n",
        "num_classes = len(fault_classes)\n",
        "\n",
        "# Calculate how many samples to take from each class\n",
        "samples_per_class = TARGET_ROWS // num_classes\n",
        "\n",
        "# Initialize a list to store resampled data\n",
        "resampled_data = []\n",
        "\n",
        "# Loop over each class to resample them\n",
        "for fault_class in fault_classes.index:\n",
        "    class_data = df[df['fault'] == fault_class]\n",
        "    if len(class_data) > samples_per_class:\n",
        "        # Undersample\n",
        "        class_data_resampled = resample(class_data, replace=False, n_samples=samples_per_class, random_state=42)\n",
        "    else:\n",
        "        # Upsample\n",
        "        class_data_resampled = resample(class_data, replace=True, n_samples=samples_per_class, random_state=42)\n",
        "\n",
        "    resampled_data.append(class_data_resampled)\n",
        "\n",
        "# Concatenate the resampled data into a single DataFrame\n",
        "balanced_df = pd.concat(resampled_data)\n",
        "\n",
        "# Check if we have the exact number of rows\n",
        "current_rows = len(balanced_df)\n",
        "print(f\"Current rows after equal resampling: {current_rows}\")\n",
        "\n",
        "# If the current rows don't match the target rows, adjust by trimming or adding rows\n",
        "if current_rows > TARGET_ROWS:\n",
        "    # Trim extra rows (if more than target)\n",
        "    balanced_df = balanced_df.head(TARGET_ROWS)\n",
        "elif current_rows < TARGET_ROWS:\n",
        "    # Add rows if fewer than target, by sampling from existing data\n",
        "    remaining_rows = TARGET_ROWS - current_rows\n",
        "    additional_data = balanced_df.sample(n=remaining_rows, replace=True, random_state=42)\n",
        "    balanced_df = pd.concat([balanced_df, additional_data])\n",
        "\n",
        "# Shuffle the final dataset\n",
        "balanced_df = balanced_df.sample(frac=1, random_state=42).reset_index(drop=True)\n",
        "\n",
        "# Display new class distribution\n",
        "print(\"New class distribution:\")\n",
        "print(balanced_df['fault'].value_counts())\n",
        "\n",
        "# Display final row count\n",
        "print(f\"Final row count: {len(balanced_df)}\")\n",
        "\n",
        "# Save the balanced dataset to a CSV file\n",
        "balanced_df.to_csv(\"/content/drive/MyDrive/MK-DCNN CWRU/NOISE_40_balanced_dataset_equal_resampling_exact_1570.csv\", index=False)\n",
        "print(\"Balanced dataset saved as '/content/drive/MyDrive/MK-DCNN CWRU/NOISE_40_balanced_dataset_equal_resampling_exact_1570.csv'\")\n"
      ],
      "metadata": {
        "id": "0-DLTbJL0tc6",
        "colab": {
          "base_uri": "https://localhost:8080/"
        },
        "outputId": "a9a96935-8b37-402a-da82-2edc91869345"
      },
      "id": "0-DLTbJL0tc6",
      "execution_count": 111,
      "outputs": [
        {
          "output_type": "stream",
          "name": "stdout",
          "text": [
            "Initial class distribution:\n",
            "fault\n",
            "Noise_40_OR021_6_1_239         257\n",
            "Noise_40_OR007_6_1_136         256\n",
            "Noise_40_B007_1_123            256\n",
            "Noise_40_B021_1_227            256\n",
            "Noise_40_B014_1_190            255\n",
            "Noise_40_IR007_1_110           255\n",
            "Noise_40_OR014_6_1_202         255\n",
            "Noise_40__Time_Normal_1_098    254\n",
            "Noise_40_IR021_1_214           200\n",
            "Name: count, dtype: int64\n",
            "Current rows after equal resampling: 1566\n",
            "New class distribution:\n",
            "fault\n",
            "Noise_40_IR021_1_214           175\n",
            "Noise_40_OR014_6_1_202         175\n",
            "Noise_40__Time_Normal_1_098    175\n",
            "Noise_40_B014_1_190            175\n",
            "Noise_40_IR007_1_110           174\n",
            "Noise_40_B021_1_227            174\n",
            "Noise_40_B007_1_123            174\n",
            "Noise_40_OR007_6_1_136         174\n",
            "Noise_40_OR021_6_1_239         174\n",
            "Name: count, dtype: int64\n",
            "Final row count: 1570\n",
            "Balanced dataset saved as '/content/drive/MyDrive/MK-DCNN CWRU/NOISE_40_balanced_dataset_equal_resampling_exact_1570.csv'\n"
          ]
        }
      ]
    },
    {
      "cell_type": "code",
      "source": [
        "balanced_df.shape"
      ],
      "metadata": {
        "id": "NQ3f_WOt7Dld",
        "colab": {
          "base_uri": "https://localhost:8080/"
        },
        "outputId": "7df1f50c-4126-4112-a39e-98ad47e6d12d"
      },
      "id": "NQ3f_WOt7Dld",
      "execution_count": 112,
      "outputs": [
        {
          "output_type": "execute_result",
          "data": {
            "text/plain": [
              "(1570, 11)"
            ]
          },
          "metadata": {},
          "execution_count": 112
        }
      ]
    },
    {
      "cell_type": "code",
      "source": [
        "balanced_df=balanced_df.sort_values(by='fault')"
      ],
      "metadata": {
        "id": "JP_zDzu6_Zkt"
      },
      "id": "JP_zDzu6_Zkt",
      "execution_count": 113,
      "outputs": []
    },
    {
      "cell_type": "code",
      "source": [
        "balanced_df"
      ],
      "metadata": {
        "id": "eq6MhY1CAvgD",
        "colab": {
          "base_uri": "https://localhost:8080/",
          "height": 424
        },
        "outputId": "2e8bf7e5-cfdf-4fe7-9dd3-4c79c12e0130"
      },
      "id": "eq6MhY1CAvgD",
      "execution_count": 114,
      "outputs": [
        {
          "output_type": "execute_result",
          "data": {
            "text/plain": [
              "                            fault  window      mean       std       rms  \\\n",
              "214           Noise_40_B007_1_123      33  0.019629  0.140407  0.141773   \n",
              "637           Noise_40_B007_1_123     166  0.020638  0.115164  0.116999   \n",
              "863           Noise_40_B007_1_123      66  0.019531  0.132267  0.133701   \n",
              "298           Noise_40_B007_1_123      17  0.017231  0.144248  0.145273   \n",
              "858           Noise_40_B007_1_123      77  0.015802  0.139284  0.140178   \n",
              "...                           ...     ...       ...       ...       ...   \n",
              "444   Noise_40__Time_Normal_1_098     163  0.011262  0.065733  0.066690   \n",
              "1387  Noise_40__Time_Normal_1_098      40  0.010212  0.066190  0.066973   \n",
              "1388  Noise_40__Time_Normal_1_098     224  0.014248  0.063744  0.065317   \n",
              "439   Noise_40__Time_Normal_1_098     115  0.014628  0.063687  0.065346   \n",
              "950   Noise_40__Time_Normal_1_098     223  0.015358  0.066801  0.068544   \n",
              "\n",
              "           max       min  skewness  kurtosis  form_factor  crest_factor  \n",
              "214   0.439416 -0.358631 -0.028402 -0.123641     1.258250      3.099443  \n",
              "637   0.368367 -0.327156 -0.033925 -0.248327     1.239579      3.148462  \n",
              "863   0.527550 -0.445003 -0.029578  0.152592     1.264633      3.945745  \n",
              "298   0.664086 -0.513632  0.152920  1.047149     1.321047      4.571294  \n",
              "858   0.444921 -0.429993 -0.031670  0.056608     1.252443      3.173982  \n",
              "...        ...       ...       ...       ...          ...           ...  \n",
              "444   0.218291 -0.223993 -0.339490  0.087112     1.239305      3.273198  \n",
              "1387  0.195694 -0.245334 -0.181970  0.082961     1.252341      2.921965  \n",
              "1388  0.196680 -0.207985 -0.346473 -0.032352     1.229085      3.011154  \n",
              "439   0.209403 -0.199459 -0.228590 -0.270015     1.223765      3.204540  \n",
              "950   0.249453 -0.256565 -0.153304  0.141767     1.240029      3.639337  \n",
              "\n",
              "[1570 rows x 11 columns]"
            ],
            "text/html": [
              "\n",
              "  <div id=\"df-bb758adb-fe41-4dea-9ce9-e553a9e2c516\" class=\"colab-df-container\">\n",
              "    <div>\n",
              "<style scoped>\n",
              "    .dataframe tbody tr th:only-of-type {\n",
              "        vertical-align: middle;\n",
              "    }\n",
              "\n",
              "    .dataframe tbody tr th {\n",
              "        vertical-align: top;\n",
              "    }\n",
              "\n",
              "    .dataframe thead th {\n",
              "        text-align: right;\n",
              "    }\n",
              "</style>\n",
              "<table border=\"1\" class=\"dataframe\">\n",
              "  <thead>\n",
              "    <tr style=\"text-align: right;\">\n",
              "      <th></th>\n",
              "      <th>fault</th>\n",
              "      <th>window</th>\n",
              "      <th>mean</th>\n",
              "      <th>std</th>\n",
              "      <th>rms</th>\n",
              "      <th>max</th>\n",
              "      <th>min</th>\n",
              "      <th>skewness</th>\n",
              "      <th>kurtosis</th>\n",
              "      <th>form_factor</th>\n",
              "      <th>crest_factor</th>\n",
              "    </tr>\n",
              "  </thead>\n",
              "  <tbody>\n",
              "    <tr>\n",
              "      <th>214</th>\n",
              "      <td>Noise_40_B007_1_123</td>\n",
              "      <td>33</td>\n",
              "      <td>0.019629</td>\n",
              "      <td>0.140407</td>\n",
              "      <td>0.141773</td>\n",
              "      <td>0.439416</td>\n",
              "      <td>-0.358631</td>\n",
              "      <td>-0.028402</td>\n",
              "      <td>-0.123641</td>\n",
              "      <td>1.258250</td>\n",
              "      <td>3.099443</td>\n",
              "    </tr>\n",
              "    <tr>\n",
              "      <th>637</th>\n",
              "      <td>Noise_40_B007_1_123</td>\n",
              "      <td>166</td>\n",
              "      <td>0.020638</td>\n",
              "      <td>0.115164</td>\n",
              "      <td>0.116999</td>\n",
              "      <td>0.368367</td>\n",
              "      <td>-0.327156</td>\n",
              "      <td>-0.033925</td>\n",
              "      <td>-0.248327</td>\n",
              "      <td>1.239579</td>\n",
              "      <td>3.148462</td>\n",
              "    </tr>\n",
              "    <tr>\n",
              "      <th>863</th>\n",
              "      <td>Noise_40_B007_1_123</td>\n",
              "      <td>66</td>\n",
              "      <td>0.019531</td>\n",
              "      <td>0.132267</td>\n",
              "      <td>0.133701</td>\n",
              "      <td>0.527550</td>\n",
              "      <td>-0.445003</td>\n",
              "      <td>-0.029578</td>\n",
              "      <td>0.152592</td>\n",
              "      <td>1.264633</td>\n",
              "      <td>3.945745</td>\n",
              "    </tr>\n",
              "    <tr>\n",
              "      <th>298</th>\n",
              "      <td>Noise_40_B007_1_123</td>\n",
              "      <td>17</td>\n",
              "      <td>0.017231</td>\n",
              "      <td>0.144248</td>\n",
              "      <td>0.145273</td>\n",
              "      <td>0.664086</td>\n",
              "      <td>-0.513632</td>\n",
              "      <td>0.152920</td>\n",
              "      <td>1.047149</td>\n",
              "      <td>1.321047</td>\n",
              "      <td>4.571294</td>\n",
              "    </tr>\n",
              "    <tr>\n",
              "      <th>858</th>\n",
              "      <td>Noise_40_B007_1_123</td>\n",
              "      <td>77</td>\n",
              "      <td>0.015802</td>\n",
              "      <td>0.139284</td>\n",
              "      <td>0.140178</td>\n",
              "      <td>0.444921</td>\n",
              "      <td>-0.429993</td>\n",
              "      <td>-0.031670</td>\n",
              "      <td>0.056608</td>\n",
              "      <td>1.252443</td>\n",
              "      <td>3.173982</td>\n",
              "    </tr>\n",
              "    <tr>\n",
              "      <th>...</th>\n",
              "      <td>...</td>\n",
              "      <td>...</td>\n",
              "      <td>...</td>\n",
              "      <td>...</td>\n",
              "      <td>...</td>\n",
              "      <td>...</td>\n",
              "      <td>...</td>\n",
              "      <td>...</td>\n",
              "      <td>...</td>\n",
              "      <td>...</td>\n",
              "      <td>...</td>\n",
              "    </tr>\n",
              "    <tr>\n",
              "      <th>444</th>\n",
              "      <td>Noise_40__Time_Normal_1_098</td>\n",
              "      <td>163</td>\n",
              "      <td>0.011262</td>\n",
              "      <td>0.065733</td>\n",
              "      <td>0.066690</td>\n",
              "      <td>0.218291</td>\n",
              "      <td>-0.223993</td>\n",
              "      <td>-0.339490</td>\n",
              "      <td>0.087112</td>\n",
              "      <td>1.239305</td>\n",
              "      <td>3.273198</td>\n",
              "    </tr>\n",
              "    <tr>\n",
              "      <th>1387</th>\n",
              "      <td>Noise_40__Time_Normal_1_098</td>\n",
              "      <td>40</td>\n",
              "      <td>0.010212</td>\n",
              "      <td>0.066190</td>\n",
              "      <td>0.066973</td>\n",
              "      <td>0.195694</td>\n",
              "      <td>-0.245334</td>\n",
              "      <td>-0.181970</td>\n",
              "      <td>0.082961</td>\n",
              "      <td>1.252341</td>\n",
              "      <td>2.921965</td>\n",
              "    </tr>\n",
              "    <tr>\n",
              "      <th>1388</th>\n",
              "      <td>Noise_40__Time_Normal_1_098</td>\n",
              "      <td>224</td>\n",
              "      <td>0.014248</td>\n",
              "      <td>0.063744</td>\n",
              "      <td>0.065317</td>\n",
              "      <td>0.196680</td>\n",
              "      <td>-0.207985</td>\n",
              "      <td>-0.346473</td>\n",
              "      <td>-0.032352</td>\n",
              "      <td>1.229085</td>\n",
              "      <td>3.011154</td>\n",
              "    </tr>\n",
              "    <tr>\n",
              "      <th>439</th>\n",
              "      <td>Noise_40__Time_Normal_1_098</td>\n",
              "      <td>115</td>\n",
              "      <td>0.014628</td>\n",
              "      <td>0.063687</td>\n",
              "      <td>0.065346</td>\n",
              "      <td>0.209403</td>\n",
              "      <td>-0.199459</td>\n",
              "      <td>-0.228590</td>\n",
              "      <td>-0.270015</td>\n",
              "      <td>1.223765</td>\n",
              "      <td>3.204540</td>\n",
              "    </tr>\n",
              "    <tr>\n",
              "      <th>950</th>\n",
              "      <td>Noise_40__Time_Normal_1_098</td>\n",
              "      <td>223</td>\n",
              "      <td>0.015358</td>\n",
              "      <td>0.066801</td>\n",
              "      <td>0.068544</td>\n",
              "      <td>0.249453</td>\n",
              "      <td>-0.256565</td>\n",
              "      <td>-0.153304</td>\n",
              "      <td>0.141767</td>\n",
              "      <td>1.240029</td>\n",
              "      <td>3.639337</td>\n",
              "    </tr>\n",
              "  </tbody>\n",
              "</table>\n",
              "<p>1570 rows × 11 columns</p>\n",
              "</div>\n",
              "    <div class=\"colab-df-buttons\">\n",
              "\n",
              "  <div class=\"colab-df-container\">\n",
              "    <button class=\"colab-df-convert\" onclick=\"convertToInteractive('df-bb758adb-fe41-4dea-9ce9-e553a9e2c516')\"\n",
              "            title=\"Convert this dataframe to an interactive table.\"\n",
              "            style=\"display:none;\">\n",
              "\n",
              "  <svg xmlns=\"http://www.w3.org/2000/svg\" height=\"24px\" viewBox=\"0 -960 960 960\">\n",
              "    <path d=\"M120-120v-720h720v720H120Zm60-500h600v-160H180v160Zm220 220h160v-160H400v160Zm0 220h160v-160H400v160ZM180-400h160v-160H180v160Zm440 0h160v-160H620v160ZM180-180h160v-160H180v160Zm440 0h160v-160H620v160Z\"/>\n",
              "  </svg>\n",
              "    </button>\n",
              "\n",
              "  <style>\n",
              "    .colab-df-container {\n",
              "      display:flex;\n",
              "      gap: 12px;\n",
              "    }\n",
              "\n",
              "    .colab-df-convert {\n",
              "      background-color: #E8F0FE;\n",
              "      border: none;\n",
              "      border-radius: 50%;\n",
              "      cursor: pointer;\n",
              "      display: none;\n",
              "      fill: #1967D2;\n",
              "      height: 32px;\n",
              "      padding: 0 0 0 0;\n",
              "      width: 32px;\n",
              "    }\n",
              "\n",
              "    .colab-df-convert:hover {\n",
              "      background-color: #E2EBFA;\n",
              "      box-shadow: 0px 1px 2px rgba(60, 64, 67, 0.3), 0px 1px 3px 1px rgba(60, 64, 67, 0.15);\n",
              "      fill: #174EA6;\n",
              "    }\n",
              "\n",
              "    .colab-df-buttons div {\n",
              "      margin-bottom: 4px;\n",
              "    }\n",
              "\n",
              "    [theme=dark] .colab-df-convert {\n",
              "      background-color: #3B4455;\n",
              "      fill: #D2E3FC;\n",
              "    }\n",
              "\n",
              "    [theme=dark] .colab-df-convert:hover {\n",
              "      background-color: #434B5C;\n",
              "      box-shadow: 0px 1px 3px 1px rgba(0, 0, 0, 0.15);\n",
              "      filter: drop-shadow(0px 1px 2px rgba(0, 0, 0, 0.3));\n",
              "      fill: #FFFFFF;\n",
              "    }\n",
              "  </style>\n",
              "\n",
              "    <script>\n",
              "      const buttonEl =\n",
              "        document.querySelector('#df-bb758adb-fe41-4dea-9ce9-e553a9e2c516 button.colab-df-convert');\n",
              "      buttonEl.style.display =\n",
              "        google.colab.kernel.accessAllowed ? 'block' : 'none';\n",
              "\n",
              "      async function convertToInteractive(key) {\n",
              "        const element = document.querySelector('#df-bb758adb-fe41-4dea-9ce9-e553a9e2c516');\n",
              "        const dataTable =\n",
              "          await google.colab.kernel.invokeFunction('convertToInteractive',\n",
              "                                                    [key], {});\n",
              "        if (!dataTable) return;\n",
              "\n",
              "        const docLinkHtml = 'Like what you see? Visit the ' +\n",
              "          '<a target=\"_blank\" href=https://colab.research.google.com/notebooks/data_table.ipynb>data table notebook</a>'\n",
              "          + ' to learn more about interactive tables.';\n",
              "        element.innerHTML = '';\n",
              "        dataTable['output_type'] = 'display_data';\n",
              "        await google.colab.output.renderOutput(dataTable, element);\n",
              "        const docLink = document.createElement('div');\n",
              "        docLink.innerHTML = docLinkHtml;\n",
              "        element.appendChild(docLink);\n",
              "      }\n",
              "    </script>\n",
              "  </div>\n",
              "\n",
              "\n",
              "    <div id=\"df-97f7e649-071b-4e8e-9b10-e4a59117e1c2\">\n",
              "      <button class=\"colab-df-quickchart\" onclick=\"quickchart('df-97f7e649-071b-4e8e-9b10-e4a59117e1c2')\"\n",
              "                title=\"Suggest charts\"\n",
              "                style=\"display:none;\">\n",
              "\n",
              "<svg xmlns=\"http://www.w3.org/2000/svg\" height=\"24px\"viewBox=\"0 0 24 24\"\n",
              "     width=\"24px\">\n",
              "    <g>\n",
              "        <path d=\"M19 3H5c-1.1 0-2 .9-2 2v14c0 1.1.9 2 2 2h14c1.1 0 2-.9 2-2V5c0-1.1-.9-2-2-2zM9 17H7v-7h2v7zm4 0h-2V7h2v10zm4 0h-2v-4h2v4z\"/>\n",
              "    </g>\n",
              "</svg>\n",
              "      </button>\n",
              "\n",
              "<style>\n",
              "  .colab-df-quickchart {\n",
              "      --bg-color: #E8F0FE;\n",
              "      --fill-color: #1967D2;\n",
              "      --hover-bg-color: #E2EBFA;\n",
              "      --hover-fill-color: #174EA6;\n",
              "      --disabled-fill-color: #AAA;\n",
              "      --disabled-bg-color: #DDD;\n",
              "  }\n",
              "\n",
              "  [theme=dark] .colab-df-quickchart {\n",
              "      --bg-color: #3B4455;\n",
              "      --fill-color: #D2E3FC;\n",
              "      --hover-bg-color: #434B5C;\n",
              "      --hover-fill-color: #FFFFFF;\n",
              "      --disabled-bg-color: #3B4455;\n",
              "      --disabled-fill-color: #666;\n",
              "  }\n",
              "\n",
              "  .colab-df-quickchart {\n",
              "    background-color: var(--bg-color);\n",
              "    border: none;\n",
              "    border-radius: 50%;\n",
              "    cursor: pointer;\n",
              "    display: none;\n",
              "    fill: var(--fill-color);\n",
              "    height: 32px;\n",
              "    padding: 0;\n",
              "    width: 32px;\n",
              "  }\n",
              "\n",
              "  .colab-df-quickchart:hover {\n",
              "    background-color: var(--hover-bg-color);\n",
              "    box-shadow: 0 1px 2px rgba(60, 64, 67, 0.3), 0 1px 3px 1px rgba(60, 64, 67, 0.15);\n",
              "    fill: var(--button-hover-fill-color);\n",
              "  }\n",
              "\n",
              "  .colab-df-quickchart-complete:disabled,\n",
              "  .colab-df-quickchart-complete:disabled:hover {\n",
              "    background-color: var(--disabled-bg-color);\n",
              "    fill: var(--disabled-fill-color);\n",
              "    box-shadow: none;\n",
              "  }\n",
              "\n",
              "  .colab-df-spinner {\n",
              "    border: 2px solid var(--fill-color);\n",
              "    border-color: transparent;\n",
              "    border-bottom-color: var(--fill-color);\n",
              "    animation:\n",
              "      spin 1s steps(1) infinite;\n",
              "  }\n",
              "\n",
              "  @keyframes spin {\n",
              "    0% {\n",
              "      border-color: transparent;\n",
              "      border-bottom-color: var(--fill-color);\n",
              "      border-left-color: var(--fill-color);\n",
              "    }\n",
              "    20% {\n",
              "      border-color: transparent;\n",
              "      border-left-color: var(--fill-color);\n",
              "      border-top-color: var(--fill-color);\n",
              "    }\n",
              "    30% {\n",
              "      border-color: transparent;\n",
              "      border-left-color: var(--fill-color);\n",
              "      border-top-color: var(--fill-color);\n",
              "      border-right-color: var(--fill-color);\n",
              "    }\n",
              "    40% {\n",
              "      border-color: transparent;\n",
              "      border-right-color: var(--fill-color);\n",
              "      border-top-color: var(--fill-color);\n",
              "    }\n",
              "    60% {\n",
              "      border-color: transparent;\n",
              "      border-right-color: var(--fill-color);\n",
              "    }\n",
              "    80% {\n",
              "      border-color: transparent;\n",
              "      border-right-color: var(--fill-color);\n",
              "      border-bottom-color: var(--fill-color);\n",
              "    }\n",
              "    90% {\n",
              "      border-color: transparent;\n",
              "      border-bottom-color: var(--fill-color);\n",
              "    }\n",
              "  }\n",
              "</style>\n",
              "\n",
              "      <script>\n",
              "        async function quickchart(key) {\n",
              "          const quickchartButtonEl =\n",
              "            document.querySelector('#' + key + ' button');\n",
              "          quickchartButtonEl.disabled = true;  // To prevent multiple clicks.\n",
              "          quickchartButtonEl.classList.add('colab-df-spinner');\n",
              "          try {\n",
              "            const charts = await google.colab.kernel.invokeFunction(\n",
              "                'suggestCharts', [key], {});\n",
              "          } catch (error) {\n",
              "            console.error('Error during call to suggestCharts:', error);\n",
              "          }\n",
              "          quickchartButtonEl.classList.remove('colab-df-spinner');\n",
              "          quickchartButtonEl.classList.add('colab-df-quickchart-complete');\n",
              "        }\n",
              "        (() => {\n",
              "          let quickchartButtonEl =\n",
              "            document.querySelector('#df-97f7e649-071b-4e8e-9b10-e4a59117e1c2 button');\n",
              "          quickchartButtonEl.style.display =\n",
              "            google.colab.kernel.accessAllowed ? 'block' : 'none';\n",
              "        })();\n",
              "      </script>\n",
              "    </div>\n",
              "\n",
              "  <div id=\"id_61aef892-a90e-4ff5-9157-d5f2d6edfbd7\">\n",
              "    <style>\n",
              "      .colab-df-generate {\n",
              "        background-color: #E8F0FE;\n",
              "        border: none;\n",
              "        border-radius: 50%;\n",
              "        cursor: pointer;\n",
              "        display: none;\n",
              "        fill: #1967D2;\n",
              "        height: 32px;\n",
              "        padding: 0 0 0 0;\n",
              "        width: 32px;\n",
              "      }\n",
              "\n",
              "      .colab-df-generate:hover {\n",
              "        background-color: #E2EBFA;\n",
              "        box-shadow: 0px 1px 2px rgba(60, 64, 67, 0.3), 0px 1px 3px 1px rgba(60, 64, 67, 0.15);\n",
              "        fill: #174EA6;\n",
              "      }\n",
              "\n",
              "      [theme=dark] .colab-df-generate {\n",
              "        background-color: #3B4455;\n",
              "        fill: #D2E3FC;\n",
              "      }\n",
              "\n",
              "      [theme=dark] .colab-df-generate:hover {\n",
              "        background-color: #434B5C;\n",
              "        box-shadow: 0px 1px 3px 1px rgba(0, 0, 0, 0.15);\n",
              "        filter: drop-shadow(0px 1px 2px rgba(0, 0, 0, 0.3));\n",
              "        fill: #FFFFFF;\n",
              "      }\n",
              "    </style>\n",
              "    <button class=\"colab-df-generate\" onclick=\"generateWithVariable('balanced_df')\"\n",
              "            title=\"Generate code using this dataframe.\"\n",
              "            style=\"display:none;\">\n",
              "\n",
              "  <svg xmlns=\"http://www.w3.org/2000/svg\" height=\"24px\"viewBox=\"0 0 24 24\"\n",
              "       width=\"24px\">\n",
              "    <path d=\"M7,19H8.4L18.45,9,17,7.55,7,17.6ZM5,21V16.75L18.45,3.32a2,2,0,0,1,2.83,0l1.4,1.43a1.91,1.91,0,0,1,.58,1.4,1.91,1.91,0,0,1-.58,1.4L9.25,21ZM18.45,9,17,7.55Zm-12,3A5.31,5.31,0,0,0,4.9,8.1,5.31,5.31,0,0,0,1,6.5,5.31,5.31,0,0,0,4.9,4.9,5.31,5.31,0,0,0,6.5,1,5.31,5.31,0,0,0,8.1,4.9,5.31,5.31,0,0,0,12,6.5,5.46,5.46,0,0,0,6.5,12Z\"/>\n",
              "  </svg>\n",
              "    </button>\n",
              "    <script>\n",
              "      (() => {\n",
              "      const buttonEl =\n",
              "        document.querySelector('#id_61aef892-a90e-4ff5-9157-d5f2d6edfbd7 button.colab-df-generate');\n",
              "      buttonEl.style.display =\n",
              "        google.colab.kernel.accessAllowed ? 'block' : 'none';\n",
              "\n",
              "      buttonEl.onclick = () => {\n",
              "        google.colab.notebook.generateWithVariable('balanced_df');\n",
              "      }\n",
              "      })();\n",
              "    </script>\n",
              "  </div>\n",
              "\n",
              "    </div>\n",
              "  </div>\n"
            ],
            "application/vnd.google.colaboratory.intrinsic+json": {
              "type": "dataframe",
              "variable_name": "balanced_df",
              "summary": "{\n  \"name\": \"balanced_df\",\n  \"rows\": 1570,\n  \"fields\": [\n    {\n      \"column\": \"fault\",\n      \"properties\": {\n        \"dtype\": \"category\",\n        \"num_unique_values\": 9,\n        \"samples\": [\n          \"Noise_40_OR021_6_1_239\",\n          \"Noise_40_B014_1_190\",\n          \"Noise_40_OR007_6_1_136\"\n        ],\n        \"semantic_type\": \"\",\n        \"description\": \"\"\n      }\n    },\n    {\n      \"column\": \"window\",\n      \"properties\": {\n        \"dtype\": \"number\",\n        \"std\": 72,\n        \"min\": 1,\n        \"max\": 256,\n        \"num_unique_values\": 227,\n        \"samples\": [\n          110,\n          121,\n          159\n        ],\n        \"semantic_type\": \"\",\n        \"description\": \"\"\n      }\n    },\n    {\n      \"column\": \"mean\",\n      \"properties\": {\n        \"dtype\": \"number\",\n        \"std\": 0.004095500398250913,\n        \"min\": 0.0049582541677002,\n        \"max\": 0.0246008561932652,\n        \"num_unique_values\": 1566,\n        \"samples\": [\n          0.0245895013571542,\n          0.0089618343751033,\n          0.011374143566283\n        ],\n        \"semantic_type\": \"\",\n        \"description\": \"\"\n      }\n    },\n    {\n      \"column\": \"std\",\n      \"properties\": {\n        \"dtype\": \"number\",\n        \"std\": 0.30556561399848603,\n        \"min\": 0.0606368590170905,\n        \"max\": 1.1966204653422658,\n        \"num_unique_values\": 1566,\n        \"samples\": [\n          0.2774580875730631,\n          0.2020988790616479,\n          0.0689574953494352\n        ],\n        \"semantic_type\": \"\",\n        \"description\": \"\"\n      }\n    },\n    {\n      \"column\": \"rms\",\n      \"properties\": {\n        \"dtype\": \"number\",\n        \"std\": 0.3052803963913538,\n        \"min\": 0.0616584778655987,\n        \"max\": 1.196737907332307,\n        \"num_unique_values\": 1566,\n        \"samples\": [\n          0.2785455688692517,\n          0.2022974824196816,\n          0.0698892502945467\n        ],\n        \"semantic_type\": \"\",\n        \"description\": \"\"\n      }\n    },\n    {\n      \"column\": \"max\",\n      \"properties\": {\n        \"dtype\": \"number\",\n        \"std\": 1.6497430272089975,\n        \"min\": 0.1663789950868621,\n        \"max\": 6.666858229837164,\n        \"num_unique_values\": 1444,\n        \"samples\": [\n          0.6210392934630914,\n          0.4607985036900093,\n          0.6196294944840344\n        ],\n        \"semantic_type\": \"\",\n        \"description\": \"\"\n      }\n    },\n    {\n      \"column\": \"min\",\n      \"properties\": {\n        \"dtype\": \"number\",\n        \"std\": 1.6845331952803548,\n        \"min\": -6.149417647743668,\n        \"max\": -0.1651976570190944,\n        \"num_unique_values\": 1439,\n        \"samples\": [\n          -1.090961302356996,\n          -1.304173103253751,\n          -1.3014854175098476\n        ],\n        \"semantic_type\": \"\",\n        \"description\": \"\"\n      }\n    },\n    {\n      \"column\": \"skewness\",\n      \"properties\": {\n        \"dtype\": \"number\",\n        \"std\": 0.199993673034918,\n        \"min\": -1.0890312486328857,\n        \"max\": 1.210278953670376,\n        \"num_unique_values\": 1566,\n        \"samples\": [\n          -0.0690946377159788,\n          0.3961613138680516,\n          -0.1660536757801691\n        ],\n        \"semantic_type\": \"\",\n        \"description\": \"\"\n      }\n    },\n    {\n      \"column\": \"kurtosis\",\n      \"properties\": {\n        \"dtype\": \"number\",\n        \"std\": 5.426998041092713,\n        \"min\": -0.7510864489387723,\n        \"max\": 31.41106333334232,\n        \"num_unique_values\": 1566,\n        \"samples\": [\n          4.838221947402337,\n          7.215452909795491,\n          -0.0340593896942147\n        ],\n        \"semantic_type\": \"\",\n        \"description\": \"\"\n      }\n    },\n    {\n      \"column\": \"form_factor\",\n      \"properties\": {\n        \"dtype\": \"number\",\n        \"std\": 0.23506112166051976,\n        \"min\": 1.1972204629095904,\n        \"max\": 2.399071617256382,\n        \"num_unique_values\": 1566,\n        \"samples\": [\n          1.4892670487511994,\n          1.4996399907721878,\n          1.2432207278857266\n        ],\n        \"semantic_type\": \"\",\n        \"description\": \"\"\n      }\n    },\n    {\n      \"column\": \"crest_factor\",\n      \"properties\": {\n        \"dtype\": \"number\",\n        \"std\": 1.3857850125278026,\n        \"min\": 2.536621297115744,\n        \"max\": 10.055800130461638,\n        \"num_unique_values\": 1566,\n        \"samples\": [\n          5.070660201791459,\n          7.060967476305979,\n          3.0199973154122945\n        ],\n        \"semantic_type\": \"\",\n        \"description\": \"\"\n      }\n    }\n  ]\n}"
            }
          },
          "metadata": {},
          "execution_count": 114
        }
      ]
    },
    {
      "cell_type": "code",
      "source": [
        "import pandas as pd\n",
        "from sklearn.preprocessing import StandardScaler\n",
        "from sklearn.manifold import TSNE\n",
        "import matplotlib.pyplot as plt\n",
        "\n",
        "\n",
        "# Sort the dataset by the 'Fault' column\n",
        "balanced_df = balanced_df.sort_values(by='fault')\n",
        "\n",
        "# Separate features and target variable\n",
        "X = balanced_df.drop(columns=['fault'])  # Replace 'Fault' with actual target column name\n",
        "y = balanced_df['fault']\n",
        "\n",
        "# Normalize the feature columns using StandardScaler\n",
        "scaler = StandardScaler()\n",
        "X_normalized = pd.DataFrame(scaler.fit_transform(X), columns=X.columns)\n",
        "\n",
        "# Concatenate the normalized features with the target variable\n",
        "STAT_Motor_Fault_dataset_normalized = pd.concat([X_normalized, y.reset_index(drop=True)], axis=1)\n",
        "\n",
        "# Sort the normalized dataset by 'Fault' column\n",
        "STAT_Motor_Fault_dataset_normalized = STAT_Motor_Fault_dataset_normalized.sort_values(by='fault')\n",
        "\n",
        "# Apply t-SNE for dimensionality reduction\n",
        "tsne = TSNE(n_components=2, random_state=42)  # 2D t-SNE\n",
        "X_tsne = tsne.fit_transform(X_normalized)\n",
        "\n",
        "# Create a DataFrame for t-SNE results\n",
        "tSNE_representation = pd.DataFrame(X_tsne, columns=['t-SNE 1', 't-SNE 2'])\n",
        "tSNE_representation['fault'] = y.reset_index(drop=True)\n",
        "\n",
        "# Display the t-SNE representation\n",
        "print(tSNE_representation.head())\n",
        "\n",
        "# Optional: Visualization of t-SNE representation\n",
        "plt.figure(figsize=(8, 6))\n",
        "for label in tSNE_representation['fault'].unique():\n",
        "    subset = tSNE_representation[tSNE_representation['fault'] == label]\n",
        "    plt.scatter(subset['t-SNE 1'], subset['t-SNE 2'], label=f'fault {label}', alpha=0.7)\n",
        "\n",
        "plt.title('t-SNE Representation of Motor Fault Dataset')\n",
        "plt.xlabel('t-SNE 1')\n",
        "plt.ylabel('t-SNE 2')\n",
        "plt.legend()\n",
        "plt.show()\n"
      ],
      "metadata": {
        "id": "tV7aspjE3R4f",
        "colab": {
          "base_uri": "https://localhost:8080/",
          "height": 668
        },
        "outputId": "d33b5e76-2d93-4476-fe42-eb1b721f43aa"
      },
      "id": "tV7aspjE3R4f",
      "execution_count": 115,
      "outputs": [
        {
          "output_type": "stream",
          "name": "stdout",
          "text": [
            "     t-SNE 1    t-SNE 2                fault\n",
            "0 -43.489235   6.534474  Noise_40_B007_1_123\n",
            "1 -32.924328  -8.303387  Noise_40_B007_1_123\n",
            "2 -36.026554  -7.524638  Noise_40_B007_1_123\n",
            "3 -40.191689   7.556388  Noise_40_B007_1_123\n",
            "4 -36.629608 -10.236309  Noise_40_B007_1_123\n"
          ]
        },
        {
          "output_type": "display_data",
          "data": {
            "text/plain": [
              "<Figure size 800x600 with 1 Axes>"
            ],
            "image/png": "[encoded data removed]"
          },
          "metadata": {}
        }
      ]
    },
    {
      "cell_type": "code",
      "source": [
        "tSNE_representation"
      ],
      "metadata": {
        "id": "QMwOLwssDgHU",
        "colab": {
          "base_uri": "https://localhost:8080/",
          "height": 424
        },
        "outputId": "37095799-35e3-48e9-dbef-77888c467f83"
      },
      "id": "QMwOLwssDgHU",
      "execution_count": 116,
      "outputs": [
        {
          "output_type": "execute_result",
          "data": {
            "text/plain": [
              "        t-SNE 1    t-SNE 2                        fault\n",
              "0    -43.489235   6.534474          Noise_40_B007_1_123\n",
              "1    -32.924328  -8.303387          Noise_40_B007_1_123\n",
              "2    -36.026554  -7.524638          Noise_40_B007_1_123\n",
              "3    -40.191689   7.556388          Noise_40_B007_1_123\n",
              "4    -36.629608 -10.236309          Noise_40_B007_1_123\n",
              "...         ...        ...                          ...\n",
              "1565 -16.823854 -33.658577  Noise_40__Time_Normal_1_098\n",
              "1566 -16.123884 -19.606106  Noise_40__Time_Normal_1_098\n",
              "1567 -26.544622  24.804104  Noise_40__Time_Normal_1_098\n",
              "1568 -21.286615  27.123165  Noise_40__Time_Normal_1_098\n",
              "1569 -18.392929 -33.151108  Noise_40__Time_Normal_1_098\n",
              "\n",
              "[1570 rows x 3 columns]"
            ],
            "text/html": [
              "\n",
              "  <div id=\"df-f3c4e7c0-0341-45d4-8634-c0d78f46f95a\" class=\"colab-df-container\">\n",
              "    <div>\n",
              "<style scoped>\n",
              "    .dataframe tbody tr th:only-of-type {\n",
              "        vertical-align: middle;\n",
              "    }\n",
              "\n",
              "    .dataframe tbody tr th {\n",
              "        vertical-align: top;\n",
              "    }\n",
              "\n",
              "    .dataframe thead th {\n",
              "        text-align: right;\n",
              "    }\n",
              "</style>\n",
              "<table border=\"1\" class=\"dataframe\">\n",
              "  <thead>\n",
              "    <tr style=\"text-align: right;\">\n",
              "      <th></th>\n",
              "      <th>t-SNE 1</th>\n",
              "      <th>t-SNE 2</th>\n",
              "      <th>fault</th>\n",
              "    </tr>\n",
              "  </thead>\n",
              "  <tbody>\n",
              "    <tr>\n",
              "      <th>0</th>\n",
              "      <td>-43.489235</td>\n",
              "      <td>6.534474</td>\n",
              "      <td>Noise_40_B007_1_123</td>\n",
              "    </tr>\n",
              "    <tr>\n",
              "      <th>1</th>\n",
              "      <td>-32.924328</td>\n",
              "      <td>-8.303387</td>\n",
              "      <td>Noise_40_B007_1_123</td>\n",
              "    </tr>\n",
              "    <tr>\n",
              "      <th>2</th>\n",
              "      <td>-36.026554</td>\n",
              "      <td>-7.524638</td>\n",
              "      <td>Noise_40_B007_1_123</td>\n",
              "    </tr>\n",
              "    <tr>\n",
              "      <th>3</th>\n",
              "      <td>-40.191689</td>\n",
              "      <td>7.556388</td>\n",
              "      <td>Noise_40_B007_1_123</td>\n",
              "    </tr>\n",
              "    <tr>\n",
              "      <th>4</th>\n",
              "      <td>-36.629608</td>\n",
              "      <td>-10.236309</td>\n",
              "      <td>Noise_40_B007_1_123</td>\n",
              "    </tr>\n",
              "    <tr>\n",
              "      <th>...</th>\n",
              "      <td>...</td>\n",
              "      <td>...</td>\n",
              "      <td>...</td>\n",
              "    </tr>\n",
              "    <tr>\n",
              "      <th>1565</th>\n",
              "      <td>-16.823854</td>\n",
              "      <td>-33.658577</td>\n",
              "      <td>Noise_40__Time_Normal_1_098</td>\n",
              "    </tr>\n",
              "    <tr>\n",
              "      <th>1566</th>\n",
              "      <td>-16.123884</td>\n",
              "      <td>-19.606106</td>\n",
              "      <td>Noise_40__Time_Normal_1_098</td>\n",
              "    </tr>\n",
              "    <tr>\n",
              "      <th>1567</th>\n",
              "      <td>-26.544622</td>\n",
              "      <td>24.804104</td>\n",
              "      <td>Noise_40__Time_Normal_1_098</td>\n",
              "    </tr>\n",
              "    <tr>\n",
              "      <th>1568</th>\n",
              "      <td>-21.286615</td>\n",
              "      <td>27.123165</td>\n",
              "      <td>Noise_40__Time_Normal_1_098</td>\n",
              "    </tr>\n",
              "    <tr>\n",
              "      <th>1569</th>\n",
              "      <td>-18.392929</td>\n",
              "      <td>-33.151108</td>\n",
              "      <td>Noise_40__Time_Normal_1_098</td>\n",
              "    </tr>\n",
              "  </tbody>\n",
              "</table>\n",
              "<p>1570 rows × 3 columns</p>\n",
              "</div>\n",
              "    <div class=\"colab-df-buttons\">\n",
              "\n",
              "  <div class=\"colab-df-container\">\n",
              "    <button class=\"colab-df-convert\" onclick=\"convertToInteractive('df-f3c4e7c0-0341-45d4-8634-c0d78f46f95a')\"\n",
              "            title=\"Convert this dataframe to an interactive table.\"\n",
              "            style=\"display:none;\">\n",
              "\n",
              "  <svg xmlns=\"http://www.w3.org/2000/svg\" height=\"24px\" viewBox=\"0 -960 960 960\">\n",
              "    <path d=\"M120-120v-720h720v720H120Zm60-500h600v-160H180v160Zm220 220h160v-160H400v160Zm0 220h160v-160H400v160ZM180-400h160v-160H180v160Zm440 0h160v-160H620v160ZM180-180h160v-160H180v160Zm440 0h160v-160H620v160Z\"/>\n",
              "  </svg>\n",
              "    </button>\n",
              "\n",
              "  <style>\n",
              "    .colab-df-container {\n",
              "      display:flex;\n",
              "      gap: 12px;\n",
              "    }\n",
              "\n",
              "    .colab-df-convert {\n",
              "      background-color: #E8F0FE;\n",
              "      border: none;\n",
              "      border-radius: 50%;\n",
              "      cursor: pointer;\n",
              "      display: none;\n",
              "      fill: #1967D2;\n",
              "      height: 32px;\n",
              "      padding: 0 0 0 0;\n",
              "      width: 32px;\n",
              "    }\n",
              "\n",
              "    .colab-df-convert:hover {\n",
              "      background-color: #E2EBFA;\n",
              "      box-shadow: 0px 1px 2px rgba(60, 64, 67, 0.3), 0px 1px 3px 1px rgba(60, 64, 67, 0.15);\n",
              "      fill: #174EA6;\n",
              "    }\n",
              "\n",
              "    .colab-df-buttons div {\n",
              "      margin-bottom: 4px;\n",
              "    }\n",
              "\n",
              "    [theme=dark] .colab-df-convert {\n",
              "      background-color: #3B4455;\n",
              "      fill: #D2E3FC;\n",
              "    }\n",
              "\n",
              "    [theme=dark] .colab-df-convert:hover {\n",
              "      background-color: #434B5C;\n",
              "      box-shadow: 0px 1px 3px 1px rgba(0, 0, 0, 0.15);\n",
              "      filter: drop-shadow(0px 1px 2px rgba(0, 0, 0, 0.3));\n",
              "      fill: #FFFFFF;\n",
              "    }\n",
              "  </style>\n",
              "\n",
              "    <script>\n",
              "      const buttonEl =\n",
              "        document.querySelector('#df-f3c4e7c0-0341-45d4-8634-c0d78f46f95a button.colab-df-convert');\n",
              "      buttonEl.style.display =\n",
              "        google.colab.kernel.accessAllowed ? 'block' : 'none';\n",
              "\n",
              "      async function convertToInteractive(key) {\n",
              "        const element = document.querySelector('#df-f3c4e7c0-0341-45d4-8634-c0d78f46f95a');\n",
              "        const dataTable =\n",
              "          await google.colab.kernel.invokeFunction('convertToInteractive',\n",
              "                                                    [key], {});\n",
              "        if (!dataTable) return;\n",
              "\n",
              "        const docLinkHtml = 'Like what you see? Visit the ' +\n",
              "          '<a target=\"_blank\" href=https://colab.research.google.com/notebooks/data_table.ipynb>data table notebook</a>'\n",
              "          + ' to learn more about interactive tables.';\n",
              "        element.innerHTML = '';\n",
              "        dataTable['output_type'] = 'display_data';\n",
              "        await google.colab.output.renderOutput(dataTable, element);\n",
              "        const docLink = document.createElement('div');\n",
              "        docLink.innerHTML = docLinkHtml;\n",
              "        element.appendChild(docLink);\n",
              "      }\n",
              "    </script>\n",
              "  </div>\n",
              "\n",
              "\n",
              "    <div id=\"df-9811e93a-9a6f-4687-b1cb-b4f92b4a08ca\">\n",
              "      <button class=\"colab-df-quickchart\" onclick=\"quickchart('df-9811e93a-9a6f-4687-b1cb-b4f92b4a08ca')\"\n",
              "                title=\"Suggest charts\"\n",
              "                style=\"display:none;\">\n",
              "\n",
              "<svg xmlns=\"http://www.w3.org/2000/svg\" height=\"24px\"viewBox=\"0 0 24 24\"\n",
              "     width=\"24px\">\n",
              "    <g>\n",
              "        <path d=\"M19 3H5c-1.1 0-2 .9-2 2v14c0 1.1.9 2 2 2h14c1.1 0 2-.9 2-2V5c0-1.1-.9-2-2-2zM9 17H7v-7h2v7zm4 0h-2V7h2v10zm4 0h-2v-4h2v4z\"/>\n",
              "    </g>\n",
              "</svg>\n",
              "      </button>\n",
              "\n",
              "<style>\n",
              "  .colab-df-quickchart {\n",
              "      --bg-color: #E8F0FE;\n",
              "      --fill-color: #1967D2;\n",
              "      --hover-bg-color: #E2EBFA;\n",
              "      --hover-fill-color: #174EA6;\n",
              "      --disabled-fill-color: #AAA;\n",
              "      --disabled-bg-color: #DDD;\n",
              "  }\n",
              "\n",
              "  [theme=dark] .colab-df-quickchart {\n",
              "      --bg-color: #3B4455;\n",
              "      --fill-color: #D2E3FC;\n",
              "      --hover-bg-color: #434B5C;\n",
              "      --hover-fill-color: #FFFFFF;\n",
              "      --disabled-bg-color: #3B4455;\n",
              "      --disabled-fill-color: #666;\n",
              "  }\n",
              "\n",
              "  .colab-df-quickchart {\n",
              "    background-color: var(--bg-color);\n",
              "    border: none;\n",
              "    border-radius: 50%;\n",
              "    cursor: pointer;\n",
              "    display: none;\n",
              "    fill: var(--fill-color);\n",
              "    height: 32px;\n",
              "    padding: 0;\n",
              "    width: 32px;\n",
              "  }\n",
              "\n",
              "  .colab-df-quickchart:hover {\n",
              "    background-color: var(--hover-bg-color);\n",
              "    box-shadow: 0 1px 2px rgba(60, 64, 67, 0.3), 0 1px 3px 1px rgba(60, 64, 67, 0.15);\n",
              "    fill: var(--button-hover-fill-color);\n",
              "  }\n",
              "\n",
              "  .colab-df-quickchart-complete:disabled,\n",
              "  .colab-df-quickchart-complete:disabled:hover {\n",
              "    background-color: var(--disabled-bg-color);\n",
              "    fill: var(--disabled-fill-color);\n",
              "    box-shadow: none;\n",
              "  }\n",
              "\n",
              "  .colab-df-spinner {\n",
              "    border: 2px solid var(--fill-color);\n",
              "    border-color: transparent;\n",
              "    border-bottom-color: var(--fill-color);\n",
              "    animation:\n",
              "      spin 1s steps(1) infinite;\n",
              "  }\n",
              "\n",
              "  @keyframes spin {\n",
              "    0% {\n",
              "      border-color: transparent;\n",
              "      border-bottom-color: var(--fill-color);\n",
              "      border-left-color: var(--fill-color);\n",
              "    }\n",
              "    20% {\n",
              "      border-color: transparent;\n",
              "      border-left-color: var(--fill-color);\n",
              "      border-top-color: var(--fill-color);\n",
              "    }\n",
              "    30% {\n",
              "      border-color: transparent;\n",
              "      border-left-color: var(--fill-color);\n",
              "      border-top-color: var(--fill-color);\n",
              "      border-right-color: var(--fill-color);\n",
              "    }\n",
              "    40% {\n",
              "      border-color: transparent;\n",
              "      border-right-color: var(--fill-color);\n",
              "      border-top-color: var(--fill-color);\n",
              "    }\n",
              "    60% {\n",
              "      border-color: transparent;\n",
              "      border-right-color: var(--fill-color);\n",
              "    }\n",
              "    80% {\n",
              "      border-color: transparent;\n",
              "      border-right-color: var(--fill-color);\n",
              "      border-bottom-color: var(--fill-color);\n",
              "    }\n",
              "    90% {\n",
              "      border-color: transparent;\n",
              "      border-bottom-color: var(--fill-color);\n",
              "    }\n",
              "  }\n",
              "</style>\n",
              "\n",
              "      <script>\n",
              "        async function quickchart(key) {\n",
              "          const quickchartButtonEl =\n",
              "            document.querySelector('#' + key + ' button');\n",
              "          quickchartButtonEl.disabled = true;  // To prevent multiple clicks.\n",
              "          quickchartButtonEl.classList.add('colab-df-spinner');\n",
              "          try {\n",
              "            const charts = await google.colab.kernel.invokeFunction(\n",
              "                'suggestCharts', [key], {});\n",
              "          } catch (error) {\n",
              "            console.error('Error during call to suggestCharts:', error);\n",
              "          }\n",
              "          quickchartButtonEl.classList.remove('colab-df-spinner');\n",
              "          quickchartButtonEl.classList.add('colab-df-quickchart-complete');\n",
              "        }\n",
              "        (() => {\n",
              "          let quickchartButtonEl =\n",
              "            document.querySelector('#df-9811e93a-9a6f-4687-b1cb-b4f92b4a08ca button');\n",
              "          quickchartButtonEl.style.display =\n",
              "            google.colab.kernel.accessAllowed ? 'block' : 'none';\n",
              "        })();\n",
              "      </script>\n",
              "    </div>\n",
              "\n",
              "  <div id=\"id_983d3cc9-72aa-4961-a1fa-75278dd921f9\">\n",
              "    <style>\n",
              "      .colab-df-generate {\n",
              "        background-color: #E8F0FE;\n",
              "        border: none;\n",
              "        border-radius: 50%;\n",
              "        cursor: pointer;\n",
              "        display: none;\n",
              "        fill: #1967D2;\n",
              "        height: 32px;\n",
              "        padding: 0 0 0 0;\n",
              "        width: 32px;\n",
              "      }\n",
              "\n",
              "      .colab-df-generate:hover {\n",
              "        background-color: #E2EBFA;\n",
              "        box-shadow: 0px 1px 2px rgba(60, 64, 67, 0.3), 0px 1px 3px 1px rgba(60, 64, 67, 0.15);\n",
              "        fill: #174EA6;\n",
              "      }\n",
              "\n",
              "      [theme=dark] .colab-df-generate {\n",
              "        background-color: #3B4455;\n",
              "        fill: #D2E3FC;\n",
              "      }\n",
              "\n",
              "      [theme=dark] .colab-df-generate:hover {\n",
              "        background-color: #434B5C;\n",
              "        box-shadow: 0px 1px 3px 1px rgba(0, 0, 0, 0.15);\n",
              "        filter: drop-shadow(0px 1px 2px rgba(0, 0, 0, 0.3));\n",
              "        fill: #FFFFFF;\n",
              "      }\n",
              "    </style>\n",
              "    <button class=\"colab-df-generate\" onclick=\"generateWithVariable('tSNE_representation')\"\n",
              "            title=\"Generate code using this dataframe.\"\n",
              "            style=\"display:none;\">\n",
              "\n",
              "  <svg xmlns=\"http://www.w3.org/2000/svg\" height=\"24px\"viewBox=\"0 0 24 24\"\n",
              "       width=\"24px\">\n",
              "    <path d=\"M7,19H8.4L18.45,9,17,7.55,7,17.6ZM5,21V16.75L18.45,3.32a2,2,0,0,1,2.83,0l1.4,1.43a1.91,1.91,0,0,1,.58,1.4,1.91,1.91,0,0,1-.58,1.4L9.25,21ZM18.45,9,17,7.55Zm-12,3A5.31,5.31,0,0,0,4.9,8.1,5.31,5.31,0,0,0,1,6.5,5.31,5.31,0,0,0,4.9,4.9,5.31,5.31,0,0,0,6.5,1,5.31,5.31,0,0,0,8.1,4.9,5.31,5.31,0,0,0,12,6.5,5.46,5.46,0,0,0,6.5,12Z\"/>\n",
              "  </svg>\n",
              "    </button>\n",
              "    <script>\n",
              "      (() => {\n",
              "      const buttonEl =\n",
              "        document.querySelector('#id_983d3cc9-72aa-4961-a1fa-75278dd921f9 button.colab-df-generate');\n",
              "      buttonEl.style.display =\n",
              "        google.colab.kernel.accessAllowed ? 'block' : 'none';\n",
              "\n",
              "      buttonEl.onclick = () => {\n",
              "        google.colab.notebook.generateWithVariable('tSNE_representation');\n",
              "      }\n",
              "      })();\n",
              "    </script>\n",
              "  </div>\n",
              "\n",
              "    </div>\n",
              "  </div>\n"
            ],
            "application/vnd.google.colaboratory.intrinsic+json": {
              "type": "dataframe",
              "variable_name": "tSNE_representation",
              "summary": "{\n  \"name\": \"tSNE_representation\",\n  \"rows\": 1570,\n  \"fields\": [\n    {\n      \"column\": \"t-SNE 1\",\n      \"properties\": {\n        \"dtype\": \"float32\",\n        \"num_unique_values\": 1567,\n        \"samples\": [\n          1.9592937231063843,\n          6.6843037605285645,\n          15.029947280883789\n        ],\n        \"semantic_type\": \"\",\n        \"description\": \"\"\n      }\n    },\n    {\n      \"column\": \"t-SNE 2\",\n      \"properties\": {\n        \"dtype\": \"float32\",\n        \"num_unique_values\": 1567,\n        \"samples\": [\n          42.144432067871094,\n          38.98487854003906,\n          21.84192657470703\n        ],\n        \"semantic_type\": \"\",\n        \"description\": \"\"\n      }\n    },\n    {\n      \"column\": \"fault\",\n      \"properties\": {\n        \"dtype\": \"category\",\n        \"num_unique_values\": 9,\n        \"samples\": [\n          \"Noise_40_OR021_6_1_239\",\n          \"Noise_40_B014_1_190\",\n          \"Noise_40_OR007_6_1_136\"\n        ],\n        \"semantic_type\": \"\",\n        \"description\": \"\"\n      }\n    }\n  ]\n}"
            }
          },
          "metadata": {},
          "execution_count": 116
        }
      ]
    },
    {
      "cell_type": "code",
      "source": [
        "tSNE_representation=tSNE_representation.drop(columns=['fault'])\n",
        "tSNE_representation"
      ],
      "metadata": {
        "id": "Pybzwduy8nhv",
        "colab": {
          "base_uri": "https://localhost:8080/",
          "height": 424
        },
        "outputId": "2b05be3e-f8be-40e5-f1df-6e1cba414093"
      },
      "id": "Pybzwduy8nhv",
      "execution_count": 117,
      "outputs": [
        {
          "output_type": "execute_result",
          "data": {
            "text/plain": [
              "        t-SNE 1    t-SNE 2\n",
              "0    -43.489235   6.534474\n",
              "1    -32.924328  -8.303387\n",
              "2    -36.026554  -7.524638\n",
              "3    -40.191689   7.556388\n",
              "4    -36.629608 -10.236309\n",
              "...         ...        ...\n",
              "1565 -16.823854 -33.658577\n",
              "1566 -16.123884 -19.606106\n",
              "1567 -26.544622  24.804104\n",
              "1568 -21.286615  27.123165\n",
              "1569 -18.392929 -33.151108\n",
              "\n",
              "[1570 rows x 2 columns]"
            ],
            "text/html": [
              "\n",
              "  <div id=\"df-e6075a93-acb9-4168-b79f-712566234599\" class=\"colab-df-container\">\n",
              "    <div>\n",
              "<style scoped>\n",
              "    .dataframe tbody tr th:only-of-type {\n",
              "        vertical-align: middle;\n",
              "    }\n",
              "\n",
              "    .dataframe tbody tr th {\n",
              "        vertical-align: top;\n",
              "    }\n",
              "\n",
              "    .dataframe thead th {\n",
              "        text-align: right;\n",
              "    }\n",
              "</style>\n",
              "<table border=\"1\" class=\"dataframe\">\n",
              "  <thead>\n",
              "    <tr style=\"text-align: right;\">\n",
              "      <th></th>\n",
              "      <th>t-SNE 1</th>\n",
              "      <th>t-SNE 2</th>\n",
              "    </tr>\n",
              "  </thead>\n",
              "  <tbody>\n",
              "    <tr>\n",
              "      <th>0</th>\n",
              "      <td>-43.489235</td>\n",
              "      <td>6.534474</td>\n",
              "    </tr>\n",
              "    <tr>\n",
              "      <th>1</th>\n",
              "      <td>-32.924328</td>\n",
              "      <td>-8.303387</td>\n",
              "    </tr>\n",
              "    <tr>\n",
              "      <th>2</th>\n",
              "      <td>-36.026554</td>\n",
              "      <td>-7.524638</td>\n",
              "    </tr>\n",
              "    <tr>\n",
              "      <th>3</th>\n",
              "      <td>-40.191689</td>\n",
              "      <td>7.556388</td>\n",
              "    </tr>\n",
              "    <tr>\n",
              "      <th>4</th>\n",
              "      <td>-36.629608</td>\n",
              "      <td>-10.236309</td>\n",
              "    </tr>\n",
              "    <tr>\n",
              "      <th>...</th>\n",
              "      <td>...</td>\n",
              "      <td>...</td>\n",
              "    </tr>\n",
              "    <tr>\n",
              "      <th>1565</th>\n",
              "      <td>-16.823854</td>\n",
              "      <td>-33.658577</td>\n",
              "    </tr>\n",
              "    <tr>\n",
              "      <th>1566</th>\n",
              "      <td>-16.123884</td>\n",
              "      <td>-19.606106</td>\n",
              "    </tr>\n",
              "    <tr>\n",
              "      <th>1567</th>\n",
              "      <td>-26.544622</td>\n",
              "      <td>24.804104</td>\n",
              "    </tr>\n",
              "    <tr>\n",
              "      <th>1568</th>\n",
              "      <td>-21.286615</td>\n",
              "      <td>27.123165</td>\n",
              "    </tr>\n",
              "    <tr>\n",
              "      <th>1569</th>\n",
              "      <td>-18.392929</td>\n",
              "      <td>-33.151108</td>\n",
              "    </tr>\n",
              "  </tbody>\n",
              "</table>\n",
              "<p>1570 rows × 2 columns</p>\n",
              "</div>\n",
              "    <div class=\"colab-df-buttons\">\n",
              "\n",
              "  <div class=\"colab-df-container\">\n",
              "    <button class=\"colab-df-convert\" onclick=\"convertToInteractive('df-e6075a93-acb9-4168-b79f-712566234599')\"\n",
              "            title=\"Convert this dataframe to an interactive table.\"\n",
              "            style=\"display:none;\">\n",
              "\n",
              "  <svg xmlns=\"http://www.w3.org/2000/svg\" height=\"24px\" viewBox=\"0 -960 960 960\">\n",
              "    <path d=\"M120-120v-720h720v720H120Zm60-500h600v-160H180v160Zm220 220h160v-160H400v160Zm0 220h160v-160H400v160ZM180-400h160v-160H180v160Zm440 0h160v-160H620v160ZM180-180h160v-160H180v160Zm440 0h160v-160H620v160Z\"/>\n",
              "  </svg>\n",
              "    </button>\n",
              "\n",
              "  <style>\n",
              "    .colab-df-container {\n",
              "      display:flex;\n",
              "      gap: 12px;\n",
              "    }\n",
              "\n",
              "    .colab-df-convert {\n",
              "      background-color: #E8F0FE;\n",
              "      border: none;\n",
              "      border-radius: 50%;\n",
              "      cursor: pointer;\n",
              "      display: none;\n",
              "      fill: #1967D2;\n",
              "      height: 32px;\n",
              "      padding: 0 0 0 0;\n",
              "      width: 32px;\n",
              "    }\n",
              "\n",
              "    .colab-df-convert:hover {\n",
              "      background-color: #E2EBFA;\n",
              "      box-shadow: 0px 1px 2px rgba(60, 64, 67, 0.3), 0px 1px 3px 1px rgba(60, 64, 67, 0.15);\n",
              "      fill: #174EA6;\n",
              "    }\n",
              "\n",
              "    .colab-df-buttons div {\n",
              "      margin-bottom: 4px;\n",
              "    }\n",
              "\n",
              "    [theme=dark] .colab-df-convert {\n",
              "      background-color: #3B4455;\n",
              "      fill: #D2E3FC;\n",
              "    }\n",
              "\n",
              "    [theme=dark] .colab-df-convert:hover {\n",
              "      background-color: #434B5C;\n",
              "      box-shadow: 0px 1px 3px 1px rgba(0, 0, 0, 0.15);\n",
              "      filter: drop-shadow(0px 1px 2px rgba(0, 0, 0, 0.3));\n",
              "      fill: #FFFFFF;\n",
              "    }\n",
              "  </style>\n",
              "\n",
              "    <script>\n",
              "      const buttonEl =\n",
              "        document.querySelector('#df-e6075a93-acb9-4168-b79f-712566234599 button.colab-df-convert');\n",
              "      buttonEl.style.display =\n",
              "        google.colab.kernel.accessAllowed ? 'block' : 'none';\n",
              "\n",
              "      async function convertToInteractive(key) {\n",
              "        const element = document.querySelector('#df-e6075a93-acb9-4168-b79f-712566234599');\n",
              "        const dataTable =\n",
              "          await google.colab.kernel.invokeFunction('convertToInteractive',\n",
              "                                                    [key], {});\n",
              "        if (!dataTable) return;\n",
              "\n",
              "        const docLinkHtml = 'Like what you see? Visit the ' +\n",
              "          '<a target=\"_blank\" href=https://colab.research.google.com/notebooks/data_table.ipynb>data table notebook</a>'\n",
              "          + ' to learn more about interactive tables.';\n",
              "        element.innerHTML = '';\n",
              "        dataTable['output_type'] = 'display_data';\n",
              "        await google.colab.output.renderOutput(dataTable, element);\n",
              "        const docLink = document.createElement('div');\n",
              "        docLink.innerHTML = docLinkHtml;\n",
              "        element.appendChild(docLink);\n",
              "      }\n",
              "    </script>\n",
              "  </div>\n",
              "\n",
              "\n",
              "    <div id=\"df-9c963c05-3513-4879-b114-8dda7ead6514\">\n",
              "      <button class=\"colab-df-quickchart\" onclick=\"quickchart('df-9c963c05-3513-4879-b114-8dda7ead6514')\"\n",
              "                title=\"Suggest charts\"\n",
              "                style=\"display:none;\">\n",
              "\n",
              "<svg xmlns=\"http://www.w3.org/2000/svg\" height=\"24px\"viewBox=\"0 0 24 24\"\n",
              "     width=\"24px\">\n",
              "    <g>\n",
              "        <path d=\"M19 3H5c-1.1 0-2 .9-2 2v14c0 1.1.9 2 2 2h14c1.1 0 2-.9 2-2V5c0-1.1-.9-2-2-2zM9 17H7v-7h2v7zm4 0h-2V7h2v10zm4 0h-2v-4h2v4z\"/>\n",
              "    </g>\n",
              "</svg>\n",
              "      </button>\n",
              "\n",
              "<style>\n",
              "  .colab-df-quickchart {\n",
              "      --bg-color: #E8F0FE;\n",
              "      --fill-color: #1967D2;\n",
              "      --hover-bg-color: #E2EBFA;\n",
              "      --hover-fill-color: #174EA6;\n",
              "      --disabled-fill-color: #AAA;\n",
              "      --disabled-bg-color: #DDD;\n",
              "  }\n",
              "\n",
              "  [theme=dark] .colab-df-quickchart {\n",
              "      --bg-color: #3B4455;\n",
              "      --fill-color: #D2E3FC;\n",
              "      --hover-bg-color: #434B5C;\n",
              "      --hover-fill-color: #FFFFFF;\n",
              "      --disabled-bg-color: #3B4455;\n",
              "      --disabled-fill-color: #666;\n",
              "  }\n",
              "\n",
              "  .colab-df-quickchart {\n",
              "    background-color: var(--bg-color);\n",
              "    border: none;\n",
              "    border-radius: 50%;\n",
              "    cursor: pointer;\n",
              "    display: none;\n",
              "    fill: var(--fill-color);\n",
              "    height: 32px;\n",
              "    padding: 0;\n",
              "    width: 32px;\n",
              "  }\n",
              "\n",
              "  .colab-df-quickchart:hover {\n",
              "    background-color: var(--hover-bg-color);\n",
              "    box-shadow: 0 1px 2px rgba(60, 64, 67, 0.3), 0 1px 3px 1px rgba(60, 64, 67, 0.15);\n",
              "    fill: var(--button-hover-fill-color);\n",
              "  }\n",
              "\n",
              "  .colab-df-quickchart-complete:disabled,\n",
              "  .colab-df-quickchart-complete:disabled:hover {\n",
              "    background-color: var(--disabled-bg-color);\n",
              "    fill: var(--disabled-fill-color);\n",
              "    box-shadow: none;\n",
              "  }\n",
              "\n",
              "  .colab-df-spinner {\n",
              "    border: 2px solid var(--fill-color);\n",
              "    border-color: transparent;\n",
              "    border-bottom-color: var(--fill-color);\n",
              "    animation:\n",
              "      spin 1s steps(1) infinite;\n",
              "  }\n",
              "\n",
              "  @keyframes spin {\n",
              "    0% {\n",
              "      border-color: transparent;\n",
              "      border-bottom-color: var(--fill-color);\n",
              "      border-left-color: var(--fill-color);\n",
              "    }\n",
              "    20% {\n",
              "      border-color: transparent;\n",
              "      border-left-color: var(--fill-color);\n",
              "      border-top-color: var(--fill-color);\n",
              "    }\n",
              "    30% {\n",
              "      border-color: transparent;\n",
              "      border-left-color: var(--fill-color);\n",
              "      border-top-color: var(--fill-color);\n",
              "      border-right-color: var(--fill-color);\n",
              "    }\n",
              "    40% {\n",
              "      border-color: transparent;\n",
              "      border-right-color: var(--fill-color);\n",
              "      border-top-color: var(--fill-color);\n",
              "    }\n",
              "    60% {\n",
              "      border-color: transparent;\n",
              "      border-right-color: var(--fill-color);\n",
              "    }\n",
              "    80% {\n",
              "      border-color: transparent;\n",
              "      border-right-color: var(--fill-color);\n",
              "      border-bottom-color: var(--fill-color);\n",
              "    }\n",
              "    90% {\n",
              "      border-color: transparent;\n",
              "      border-bottom-color: var(--fill-color);\n",
              "    }\n",
              "  }\n",
              "</style>\n",
              "\n",
              "      <script>\n",
              "        async function quickchart(key) {\n",
              "          const quickchartButtonEl =\n",
              "            document.querySelector('#' + key + ' button');\n",
              "          quickchartButtonEl.disabled = true;  // To prevent multiple clicks.\n",
              "          quickchartButtonEl.classList.add('colab-df-spinner');\n",
              "          try {\n",
              "            const charts = await google.colab.kernel.invokeFunction(\n",
              "                'suggestCharts', [key], {});\n",
              "          } catch (error) {\n",
              "            console.error('Error during call to suggestCharts:', error);\n",
              "          }\n",
              "          quickchartButtonEl.classList.remove('colab-df-spinner');\n",
              "          quickchartButtonEl.classList.add('colab-df-quickchart-complete');\n",
              "        }\n",
              "        (() => {\n",
              "          let quickchartButtonEl =\n",
              "            document.querySelector('#df-9c963c05-3513-4879-b114-8dda7ead6514 button');\n",
              "          quickchartButtonEl.style.display =\n",
              "            google.colab.kernel.accessAllowed ? 'block' : 'none';\n",
              "        })();\n",
              "      </script>\n",
              "    </div>\n",
              "\n",
              "  <div id=\"id_48f3ff69-b084-4a26-9803-4267c058b406\">\n",
              "    <style>\n",
              "      .colab-df-generate {\n",
              "        background-color: #E8F0FE;\n",
              "        border: none;\n",
              "        border-radius: 50%;\n",
              "        cursor: pointer;\n",
              "        display: none;\n",
              "        fill: #1967D2;\n",
              "        height: 32px;\n",
              "        padding: 0 0 0 0;\n",
              "        width: 32px;\n",
              "      }\n",
              "\n",
              "      .colab-df-generate:hover {\n",
              "        background-color: #E2EBFA;\n",
              "        box-shadow: 0px 1px 2px rgba(60, 64, 67, 0.3), 0px 1px 3px 1px rgba(60, 64, 67, 0.15);\n",
              "        fill: #174EA6;\n",
              "      }\n",
              "\n",
              "      [theme=dark] .colab-df-generate {\n",
              "        background-color: #3B4455;\n",
              "        fill: #D2E3FC;\n",
              "      }\n",
              "\n",
              "      [theme=dark] .colab-df-generate:hover {\n",
              "        background-color: #434B5C;\n",
              "        box-shadow: 0px 1px 3px 1px rgba(0, 0, 0, 0.15);\n",
              "        filter: drop-shadow(0px 1px 2px rgba(0, 0, 0, 0.3));\n",
              "        fill: #FFFFFF;\n",
              "      }\n",
              "    </style>\n",
              "    <button class=\"colab-df-generate\" onclick=\"generateWithVariable('tSNE_representation')\"\n",
              "            title=\"Generate code using this dataframe.\"\n",
              "            style=\"display:none;\">\n",
              "\n",
              "  <svg xmlns=\"http://www.w3.org/2000/svg\" height=\"24px\"viewBox=\"0 0 24 24\"\n",
              "       width=\"24px\">\n",
              "    <path d=\"M7,19H8.4L18.45,9,17,7.55,7,17.6ZM5,21V16.75L18.45,3.32a2,2,0,0,1,2.83,0l1.4,1.43a1.91,1.91,0,0,1,.58,1.4,1.91,1.91,0,0,1-.58,1.4L9.25,21ZM18.45,9,17,7.55Zm-12,3A5.31,5.31,0,0,0,4.9,8.1,5.31,5.31,0,0,0,1,6.5,5.31,5.31,0,0,0,4.9,4.9,5.31,5.31,0,0,0,6.5,1,5.31,5.31,0,0,0,8.1,4.9,5.31,5.31,0,0,0,12,6.5,5.46,5.46,0,0,0,6.5,12Z\"/>\n",
              "  </svg>\n",
              "    </button>\n",
              "    <script>\n",
              "      (() => {\n",
              "      const buttonEl =\n",
              "        document.querySelector('#id_48f3ff69-b084-4a26-9803-4267c058b406 button.colab-df-generate');\n",
              "      buttonEl.style.display =\n",
              "        google.colab.kernel.accessAllowed ? 'block' : 'none';\n",
              "\n",
              "      buttonEl.onclick = () => {\n",
              "        google.colab.notebook.generateWithVariable('tSNE_representation');\n",
              "      }\n",
              "      })();\n",
              "    </script>\n",
              "  </div>\n",
              "\n",
              "    </div>\n",
              "  </div>\n"
            ],
            "application/vnd.google.colaboratory.intrinsic+json": {
              "type": "dataframe",
              "variable_name": "tSNE_representation",
              "summary": "{\n  \"name\": \"tSNE_representation\",\n  \"rows\": 1570,\n  \"fields\": [\n    {\n      \"column\": \"t-SNE 1\",\n      \"properties\": {\n        \"dtype\": \"float32\",\n        \"num_unique_values\": 1567,\n        \"samples\": [\n          1.9592937231063843,\n          6.6843037605285645,\n          15.029947280883789\n        ],\n        \"semantic_type\": \"\",\n        \"description\": \"\"\n      }\n    },\n    {\n      \"column\": \"t-SNE 2\",\n      \"properties\": {\n        \"dtype\": \"float32\",\n        \"num_unique_values\": 1567,\n        \"samples\": [\n          42.144432067871094,\n          38.98487854003906,\n          21.84192657470703\n        ],\n        \"semantic_type\": \"\",\n        \"description\": \"\"\n      }\n    }\n  ]\n}"
            }
          },
          "metadata": {},
          "execution_count": 117
        }
      ]
    },
    {
      "cell_type": "code",
      "source": [
        "tSNEdf = tSNEdf.sort_values(by='Fault')"
      ],
      "metadata": {
        "id": "_TpCIloN904b"
      },
      "id": "_TpCIloN904b",
      "execution_count": 118,
      "outputs": []
    },
    {
      "cell_type": "code",
      "source": [
        "tSNEdf"
      ],
      "metadata": {
        "id": "xq2JlAOp_N5V",
        "colab": {
          "base_uri": "https://localhost:8080/",
          "height": 424
        },
        "outputId": "e49acf3d-f945-450e-975b-a625e2d3e584"
      },
      "id": "xq2JlAOp_N5V",
      "execution_count": 119,
      "outputs": [
        {
          "output_type": "execute_result",
          "data": {
            "text/plain": [
              "      T-SNE component 1  T-SNE component 2                        Fault\n",
              "801           17.377424         -21.005064          Noise_40_B007_1_123\n",
              "171           10.048149         -14.180998          Noise_40_B007_1_123\n",
              "1394          13.940641         -17.930798          Noise_40_B007_1_123\n",
              "1069           9.660629         -12.681634          Noise_40_B007_1_123\n",
              "1071          17.380924         -17.218872          Noise_40_B007_1_123\n",
              "...                 ...                ...                          ...\n",
              "129          -30.513121          -3.987570  Noise_40__Time_Normal_1_098\n",
              "530          -29.424301          -0.448983  Noise_40__Time_Normal_1_098\n",
              "1440         -25.351404          -3.035061  Noise_40__Time_Normal_1_098\n",
              "319          -26.503349          -5.481032  Noise_40__Time_Normal_1_098\n",
              "692          -31.160954          -5.583974  Noise_40__Time_Normal_1_098\n",
              "\n",
              "[1570 rows x 3 columns]"
            ],
            "text/html": [
              "\n",
              "  <div id=\"df-f68470ff-bd24-473c-ba91-ac261c0a6647\" class=\"colab-df-container\">\n",
              "    <div>\n",
              "<style scoped>\n",
              "    .dataframe tbody tr th:only-of-type {\n",
              "        vertical-align: middle;\n",
              "    }\n",
              "\n",
              "    .dataframe tbody tr th {\n",
              "        vertical-align: top;\n",
              "    }\n",
              "\n",
              "    .dataframe thead th {\n",
              "        text-align: right;\n",
              "    }\n",
              "</style>\n",
              "<table border=\"1\" class=\"dataframe\">\n",
              "  <thead>\n",
              "    <tr style=\"text-align: right;\">\n",
              "      <th></th>\n",
              "      <th>T-SNE component 1</th>\n",
              "      <th>T-SNE component 2</th>\n",
              "      <th>Fault</th>\n",
              "    </tr>\n",
              "  </thead>\n",
              "  <tbody>\n",
              "    <tr>\n",
              "      <th>801</th>\n",
              "      <td>17.377424</td>\n",
              "      <td>-21.005064</td>\n",
              "      <td>Noise_40_B007_1_123</td>\n",
              "    </tr>\n",
              "    <tr>\n",
              "      <th>171</th>\n",
              "      <td>10.048149</td>\n",
              "      <td>-14.180998</td>\n",
              "      <td>Noise_40_B007_1_123</td>\n",
              "    </tr>\n",
              "    <tr>\n",
              "      <th>1394</th>\n",
              "      <td>13.940641</td>\n",
              "      <td>-17.930798</td>\n",
              "      <td>Noise_40_B007_1_123</td>\n",
              "    </tr>\n",
              "    <tr>\n",
              "      <th>1069</th>\n",
              "      <td>9.660629</td>\n",
              "      <td>-12.681634</td>\n",
              "      <td>Noise_40_B007_1_123</td>\n",
              "    </tr>\n",
              "    <tr>\n",
              "      <th>1071</th>\n",
              "      <td>17.380924</td>\n",
              "      <td>-17.218872</td>\n",
              "      <td>Noise_40_B007_1_123</td>\n",
              "    </tr>\n",
              "    <tr>\n",
              "      <th>...</th>\n",
              "      <td>...</td>\n",
              "      <td>...</td>\n",
              "      <td>...</td>\n",
              "    </tr>\n",
              "    <tr>\n",
              "      <th>129</th>\n",
              "      <td>-30.513121</td>\n",
              "      <td>-3.987570</td>\n",
              "      <td>Noise_40__Time_Normal_1_098</td>\n",
              "    </tr>\n",
              "    <tr>\n",
              "      <th>530</th>\n",
              "      <td>-29.424301</td>\n",
              "      <td>-0.448983</td>\n",
              "      <td>Noise_40__Time_Normal_1_098</td>\n",
              "    </tr>\n",
              "    <tr>\n",
              "      <th>1440</th>\n",
              "      <td>-25.351404</td>\n",
              "      <td>-3.035061</td>\n",
              "      <td>Noise_40__Time_Normal_1_098</td>\n",
              "    </tr>\n",
              "    <tr>\n",
              "      <th>319</th>\n",
              "      <td>-26.503349</td>\n",
              "      <td>-5.481032</td>\n",
              "      <td>Noise_40__Time_Normal_1_098</td>\n",
              "    </tr>\n",
              "    <tr>\n",
              "      <th>692</th>\n",
              "      <td>-31.160954</td>\n",
              "      <td>-5.583974</td>\n",
              "      <td>Noise_40__Time_Normal_1_098</td>\n",
              "    </tr>\n",
              "  </tbody>\n",
              "</table>\n",
              "<p>1570 rows × 3 columns</p>\n",
              "</div>\n",
              "    <div class=\"colab-df-buttons\">\n",
              "\n",
              "  <div class=\"colab-df-container\">\n",
              "    <button class=\"colab-df-convert\" onclick=\"convertToInteractive('df-f68470ff-bd24-473c-ba91-ac261c0a6647')\"\n",
              "            title=\"Convert this dataframe to an interactive table.\"\n",
              "            style=\"display:none;\">\n",
              "\n",
              "  <svg xmlns=\"http://www.w3.org/2000/svg\" height=\"24px\" viewBox=\"0 -960 960 960\">\n",
              "    <path d=\"M120-120v-720h720v720H120Zm60-500h600v-160H180v160Zm220 220h160v-160H400v160Zm0 220h160v-160H400v160ZM180-400h160v-160H180v160Zm440 0h160v-160H620v160ZM180-180h160v-160H180v160Zm440 0h160v-160H620v160Z\"/>\n",
              "  </svg>\n",
              "    </button>\n",
              "\n",
              "  <style>\n",
              "    .colab-df-container {\n",
              "      display:flex;\n",
              "      gap: 12px;\n",
              "    }\n",
              "\n",
              "    .colab-df-convert {\n",
              "      background-color: #E8F0FE;\n",
              "      border: none;\n",
              "      border-radius: 50%;\n",
              "      cursor: pointer;\n",
              "      display: none;\n",
              "      fill: #1967D2;\n",
              "      height: 32px;\n",
              "      padding: 0 0 0 0;\n",
              "      width: 32px;\n",
              "    }\n",
              "\n",
              "    .colab-df-convert:hover {\n",
              "      background-color: #E2EBFA;\n",
              "      box-shadow: 0px 1px 2px rgba(60, 64, 67, 0.3), 0px 1px 3px 1px rgba(60, 64, 67, 0.15);\n",
              "      fill: #174EA6;\n",
              "    }\n",
              "\n",
              "    .colab-df-buttons div {\n",
              "      margin-bottom: 4px;\n",
              "    }\n",
              "\n",
              "    [theme=dark] .colab-df-convert {\n",
              "      background-color: #3B4455;\n",
              "      fill: #D2E3FC;\n",
              "    }\n",
              "\n",
              "    [theme=dark] .colab-df-convert:hover {\n",
              "      background-color: #434B5C;\n",
              "      box-shadow: 0px 1px 3px 1px rgba(0, 0, 0, 0.15);\n",
              "      filter: drop-shadow(0px 1px 2px rgba(0, 0, 0, 0.3));\n",
              "      fill: #FFFFFF;\n",
              "    }\n",
              "  </style>\n",
              "\n",
              "    <script>\n",
              "      const buttonEl =\n",
              "        document.querySelector('#df-f68470ff-bd24-473c-ba91-ac261c0a6647 button.colab-df-convert');\n",
              "      buttonEl.style.display =\n",
              "        google.colab.kernel.accessAllowed ? 'block' : 'none';\n",
              "\n",
              "      async function convertToInteractive(key) {\n",
              "        const element = document.querySelector('#df-f68470ff-bd24-473c-ba91-ac261c0a6647');\n",
              "        const dataTable =\n",
              "          await google.colab.kernel.invokeFunction('convertToInteractive',\n",
              "                                                    [key], {});\n",
              "        if (!dataTable) return;\n",
              "\n",
              "        const docLinkHtml = 'Like what you see? Visit the ' +\n",
              "          '<a target=\"_blank\" href=https://colab.research.google.com/notebooks/data_table.ipynb>data table notebook</a>'\n",
              "          + ' to learn more about interactive tables.';\n",
              "        element.innerHTML = '';\n",
              "        dataTable['output_type'] = 'display_data';\n",
              "        await google.colab.output.renderOutput(dataTable, element);\n",
              "        const docLink = document.createElement('div');\n",
              "        docLink.innerHTML = docLinkHtml;\n",
              "        element.appendChild(docLink);\n",
              "      }\n",
              "    </script>\n",
              "  </div>\n",
              "\n",
              "\n",
              "    <div id=\"df-75f73999-59d4-4b6d-b285-a52829540f95\">\n",
              "      <button class=\"colab-df-quickchart\" onclick=\"quickchart('df-75f73999-59d4-4b6d-b285-a52829540f95')\"\n",
              "                title=\"Suggest charts\"\n",
              "                style=\"display:none;\">\n",
              "\n",
              "<svg xmlns=\"http://www.w3.org/2000/svg\" height=\"24px\"viewBox=\"0 0 24 24\"\n",
              "     width=\"24px\">\n",
              "    <g>\n",
              "        <path d=\"M19 3H5c-1.1 0-2 .9-2 2v14c0 1.1.9 2 2 2h14c1.1 0 2-.9 2-2V5c0-1.1-.9-2-2-2zM9 17H7v-7h2v7zm4 0h-2V7h2v10zm4 0h-2v-4h2v4z\"/>\n",
              "    </g>\n",
              "</svg>\n",
              "      </button>\n",
              "\n",
              "<style>\n",
              "  .colab-df-quickchart {\n",
              "      --bg-color: #E8F0FE;\n",
              "      --fill-color: #1967D2;\n",
              "      --hover-bg-color: #E2EBFA;\n",
              "      --hover-fill-color: #174EA6;\n",
              "      --disabled-fill-color: #AAA;\n",
              "      --disabled-bg-color: #DDD;\n",
              "  }\n",
              "\n",
              "  [theme=dark] .colab-df-quickchart {\n",
              "      --bg-color: #3B4455;\n",
              "      --fill-color: #D2E3FC;\n",
              "      --hover-bg-color: #434B5C;\n",
              "      --hover-fill-color: #FFFFFF;\n",
              "      --disabled-bg-color: #3B4455;\n",
              "      --disabled-fill-color: #666;\n",
              "  }\n",
              "\n",
              "  .colab-df-quickchart {\n",
              "    background-color: var(--bg-color);\n",
              "    border: none;\n",
              "    border-radius: 50%;\n",
              "    cursor: pointer;\n",
              "    display: none;\n",
              "    fill: var(--fill-color);\n",
              "    height: 32px;\n",
              "    padding: 0;\n",
              "    width: 32px;\n",
              "  }\n",
              "\n",
              "  .colab-df-quickchart:hover {\n",
              "    background-color: var(--hover-bg-color);\n",
              "    box-shadow: 0 1px 2px rgba(60, 64, 67, 0.3), 0 1px 3px 1px rgba(60, 64, 67, 0.15);\n",
              "    fill: var(--button-hover-fill-color);\n",
              "  }\n",
              "\n",
              "  .colab-df-quickchart-complete:disabled,\n",
              "  .colab-df-quickchart-complete:disabled:hover {\n",
              "    background-color: var(--disabled-bg-color);\n",
              "    fill: var(--disabled-fill-color);\n",
              "    box-shadow: none;\n",
              "  }\n",
              "\n",
              "  .colab-df-spinner {\n",
              "    border: 2px solid var(--fill-color);\n",
              "    border-color: transparent;\n",
              "    border-bottom-color: var(--fill-color);\n",
              "    animation:\n",
              "      spin 1s steps(1) infinite;\n",
              "  }\n",
              "\n",
              "  @keyframes spin {\n",
              "    0% {\n",
              "      border-color: transparent;\n",
              "      border-bottom-color: var(--fill-color);\n",
              "      border-left-color: var(--fill-color);\n",
              "    }\n",
              "    20% {\n",
              "      border-color: transparent;\n",
              "      border-left-color: var(--fill-color);\n",
              "      border-top-color: var(--fill-color);\n",
              "    }\n",
              "    30% {\n",
              "      border-color: transparent;\n",
              "      border-left-color: var(--fill-color);\n",
              "      border-top-color: var(--fill-color);\n",
              "      border-right-color: var(--fill-color);\n",
              "    }\n",
              "    40% {\n",
              "      border-color: transparent;\n",
              "      border-right-color: var(--fill-color);\n",
              "      border-top-color: var(--fill-color);\n",
              "    }\n",
              "    60% {\n",
              "      border-color: transparent;\n",
              "      border-right-color: var(--fill-color);\n",
              "    }\n",
              "    80% {\n",
              "      border-color: transparent;\n",
              "      border-right-color: var(--fill-color);\n",
              "      border-bottom-color: var(--fill-color);\n",
              "    }\n",
              "    90% {\n",
              "      border-color: transparent;\n",
              "      border-bottom-color: var(--fill-color);\n",
              "    }\n",
              "  }\n",
              "</style>\n",
              "\n",
              "      <script>\n",
              "        async function quickchart(key) {\n",
              "          const quickchartButtonEl =\n",
              "            document.querySelector('#' + key + ' button');\n",
              "          quickchartButtonEl.disabled = true;  // To prevent multiple clicks.\n",
              "          quickchartButtonEl.classList.add('colab-df-spinner');\n",
              "          try {\n",
              "            const charts = await google.colab.kernel.invokeFunction(\n",
              "                'suggestCharts', [key], {});\n",
              "          } catch (error) {\n",
              "            console.error('Error during call to suggestCharts:', error);\n",
              "          }\n",
              "          quickchartButtonEl.classList.remove('colab-df-spinner');\n",
              "          quickchartButtonEl.classList.add('colab-df-quickchart-complete');\n",
              "        }\n",
              "        (() => {\n",
              "          let quickchartButtonEl =\n",
              "            document.querySelector('#df-75f73999-59d4-4b6d-b285-a52829540f95 button');\n",
              "          quickchartButtonEl.style.display =\n",
              "            google.colab.kernel.accessAllowed ? 'block' : 'none';\n",
              "        })();\n",
              "      </script>\n",
              "    </div>\n",
              "\n",
              "  <div id=\"id_21f94bb7-b778-46ac-8ae3-58d34c24b9ba\">\n",
              "    <style>\n",
              "      .colab-df-generate {\n",
              "        background-color: #E8F0FE;\n",
              "        border: none;\n",
              "        border-radius: 50%;\n",
              "        cursor: pointer;\n",
              "        display: none;\n",
              "        fill: #1967D2;\n",
              "        height: 32px;\n",
              "        padding: 0 0 0 0;\n",
              "        width: 32px;\n",
              "      }\n",
              "\n",
              "      .colab-df-generate:hover {\n",
              "        background-color: #E2EBFA;\n",
              "        box-shadow: 0px 1px 2px rgba(60, 64, 67, 0.3), 0px 1px 3px 1px rgba(60, 64, 67, 0.15);\n",
              "        fill: #174EA6;\n",
              "      }\n",
              "\n",
              "      [theme=dark] .colab-df-generate {\n",
              "        background-color: #3B4455;\n",
              "        fill: #D2E3FC;\n",
              "      }\n",
              "\n",
              "      [theme=dark] .colab-df-generate:hover {\n",
              "        background-color: #434B5C;\n",
              "        box-shadow: 0px 1px 3px 1px rgba(0, 0, 0, 0.15);\n",
              "        filter: drop-shadow(0px 1px 2px rgba(0, 0, 0, 0.3));\n",
              "        fill: #FFFFFF;\n",
              "      }\n",
              "    </style>\n",
              "    <button class=\"colab-df-generate\" onclick=\"generateWithVariable('tSNEdf')\"\n",
              "            title=\"Generate code using this dataframe.\"\n",
              "            style=\"display:none;\">\n",
              "\n",
              "  <svg xmlns=\"http://www.w3.org/2000/svg\" height=\"24px\"viewBox=\"0 0 24 24\"\n",
              "       width=\"24px\">\n",
              "    <path d=\"M7,19H8.4L18.45,9,17,7.55,7,17.6ZM5,21V16.75L18.45,3.32a2,2,0,0,1,2.83,0l1.4,1.43a1.91,1.91,0,0,1,.58,1.4,1.91,1.91,0,0,1-.58,1.4L9.25,21ZM18.45,9,17,7.55Zm-12,3A5.31,5.31,0,0,0,4.9,8.1,5.31,5.31,0,0,0,1,6.5,5.31,5.31,0,0,0,4.9,4.9,5.31,5.31,0,0,0,6.5,1,5.31,5.31,0,0,0,8.1,4.9,5.31,5.31,0,0,0,12,6.5,5.46,5.46,0,0,0,6.5,12Z\"/>\n",
              "  </svg>\n",
              "    </button>\n",
              "    <script>\n",
              "      (() => {\n",
              "      const buttonEl =\n",
              "        document.querySelector('#id_21f94bb7-b778-46ac-8ae3-58d34c24b9ba button.colab-df-generate');\n",
              "      buttonEl.style.display =\n",
              "        google.colab.kernel.accessAllowed ? 'block' : 'none';\n",
              "\n",
              "      buttonEl.onclick = () => {\n",
              "        google.colab.notebook.generateWithVariable('tSNEdf');\n",
              "      }\n",
              "      })();\n",
              "    </script>\n",
              "  </div>\n",
              "\n",
              "    </div>\n",
              "  </div>\n"
            ],
            "application/vnd.google.colaboratory.intrinsic+json": {
              "type": "dataframe",
              "variable_name": "tSNEdf",
              "summary": "{\n  \"name\": \"tSNEdf\",\n  \"rows\": 1570,\n  \"fields\": [\n    {\n      \"column\": \"T-SNE component 1\",\n      \"properties\": {\n        \"dtype\": \"float32\",\n        \"num_unique_values\": 1570,\n        \"samples\": [\n          -25.431438446044922,\n          24.678789138793945,\n          -7.737605571746826\n        ],\n        \"semantic_type\": \"\",\n        \"description\": \"\"\n      }\n    },\n    {\n      \"column\": \"T-SNE component 2\",\n      \"properties\": {\n        \"dtype\": \"float32\",\n        \"num_unique_values\": 1569,\n        \"samples\": [\n          -8.313515663146973,\n          0.2278309017419815,\n          12.330440521240234\n        ],\n        \"semantic_type\": \"\",\n        \"description\": \"\"\n      }\n    },\n    {\n      \"column\": \"Fault\",\n      \"properties\": {\n        \"dtype\": \"category\",\n        \"num_unique_values\": 9,\n        \"samples\": [\n          \"Noise_40_OR021_6_1_239\",\n          \"Noise_40_B014_1_190\",\n          \"Noise_40_OR007_6_1_136\"\n        ],\n        \"semantic_type\": \"\",\n        \"description\": \"\"\n      }\n    }\n  ]\n}"
            }
          },
          "metadata": {},
          "execution_count": 119
        }
      ]
    },
    {
      "cell_type": "markdown",
      "source": [
        "Combined Features"
      ],
      "metadata": {
        "id": "73T5xFDWQmML"
      },
      "id": "73T5xFDWQmML"
    },
    {
      "cell_type": "code",
      "source": [
        "# import pandas as pd\n",
        "\n",
        "# Assuming df1 and df2 are your two dataframes\n",
        "# Concatenate the dataframes vertically\n",
        "Motor_Fault_dataset = pd.concat([tSNE_representation, tSNEdf], axis=1)\n",
        "Motor_Fault_dataset=Motor_Fault_dataset.sort_values(by='Fault')\n",
        "Motor_Fault_dataset\n",
        "\n",
        "import pandas as pd\n",
        "from sklearn.preprocessing import StandardScaler\n",
        "\n",
        "# Assuming df1 and df2 are your two dataframes\n",
        "# Concatenate the dataframes vertically\n",
        "Motor_Fault_dataset = pd.concat([tSNE_representation, tSNEdf], axis=1)\n",
        "\n",
        "# Sort the dataset by 'Fault' column\n",
        "Motor_Fault_dataset = Motor_Fault_dataset.sort_values(by='Fault')\n",
        "Motor_Fault_dataset\n"
      ],
      "metadata": {
        "id": "sEmeYK5c8anK",
        "colab": {
          "base_uri": "https://localhost:8080/",
          "height": 424
        },
        "outputId": "4f488032-1af7-4e2e-82d6-f40f690d7de4"
      },
      "id": "sEmeYK5c8anK",
      "execution_count": 120,
      "outputs": [
        {
          "output_type": "execute_result",
          "data": {
            "text/plain": [
              "        t-SNE 1    t-SNE 2  T-SNE component 1  T-SNE component 2  \\\n",
              "801   16.490799   7.798335          17.377424         -21.005064   \n",
              "171  -20.270432 -31.136820          10.048149         -14.180998   \n",
              "1394  31.573549  12.991084          13.940641         -17.930798   \n",
              "1069 -20.148972  -5.803549           9.660629         -12.681634   \n",
              "1071 -13.273790  19.499327          17.380924         -17.218872   \n",
              "...         ...        ...                ...                ...   \n",
              "129  -24.276953   0.063847         -30.513121          -3.987570   \n",
              "530   12.830428  28.585051         -29.424301          -0.448983   \n",
              "1440 -16.993561 -32.970127         -25.351404          -3.035061   \n",
              "319    7.755459  -2.844370         -26.503349          -5.481032   \n",
              "692   25.274376  24.930801         -31.160954          -5.583974   \n",
              "\n",
              "                            Fault  \n",
              "801           Noise_40_B007_1_123  \n",
              "171           Noise_40_B007_1_123  \n",
              "1394          Noise_40_B007_1_123  \n",
              "1069          Noise_40_B007_1_123  \n",
              "1071          Noise_40_B007_1_123  \n",
              "...                           ...  \n",
              "129   Noise_40__Time_Normal_1_098  \n",
              "530   Noise_40__Time_Normal_1_098  \n",
              "1440  Noise_40__Time_Normal_1_098  \n",
              "319   Noise_40__Time_Normal_1_098  \n",
              "692   Noise_40__Time_Normal_1_098  \n",
              "\n",
              "[1570 rows x 5 columns]"
            ],
            "text/html": [
              "\n",
              "  <div id=\"df-fdde508a-022f-4fbb-9981-1b9987dae644\" class=\"colab-df-container\">\n",
              "    <div>\n",
              "<style scoped>\n",
              "    .dataframe tbody tr th:only-of-type {\n",
              "        vertical-align: middle;\n",
              "    }\n",
              "\n",
              "    .dataframe tbody tr th {\n",
              "        vertical-align: top;\n",
              "    }\n",
              "\n",
              "    .dataframe thead th {\n",
              "        text-align: right;\n",
              "    }\n",
              "</style>\n",
              "<table border=\"1\" class=\"dataframe\">\n",
              "  <thead>\n",
              "    <tr style=\"text-align: right;\">\n",
              "      <th></th>\n",
              "      <th>t-SNE 1</th>\n",
              "      <th>t-SNE 2</th>\n",
              "      <th>T-SNE component 1</th>\n",
              "      <th>T-SNE component 2</th>\n",
              "      <th>Fault</th>\n",
              "    </tr>\n",
              "  </thead>\n",
              "  <tbody>\n",
              "    <tr>\n",
              "      <th>801</th>\n",
              "      <td>16.490799</td>\n",
              "      <td>7.798335</td>\n",
              "      <td>17.377424</td>\n",
              "      <td>-21.005064</td>\n",
              "      <td>Noise_40_B007_1_123</td>\n",
              "    </tr>\n",
              "    <tr>\n",
              "      <th>171</th>\n",
              "      <td>-20.270432</td>\n",
              "      <td>-31.136820</td>\n",
              "      <td>10.048149</td>\n",
              "      <td>-14.180998</td>\n",
              "      <td>Noise_40_B007_1_123</td>\n",
              "    </tr>\n",
              "    <tr>\n",
              "      <th>1394</th>\n",
              "      <td>31.573549</td>\n",
              "      <td>12.991084</td>\n",
              "      <td>13.940641</td>\n",
              "      <td>-17.930798</td>\n",
              "      <td>Noise_40_B007_1_123</td>\n",
              "    </tr>\n",
              "    <tr>\n",
              "      <th>1069</th>\n",
              "      <td>-20.148972</td>\n",
              "      <td>-5.803549</td>\n",
              "      <td>9.660629</td>\n",
              "      <td>-12.681634</td>\n",
              "      <td>Noise_40_B007_1_123</td>\n",
              "    </tr>\n",
              "    <tr>\n",
              "      <th>1071</th>\n",
              "      <td>-13.273790</td>\n",
              "      <td>19.499327</td>\n",
              "      <td>17.380924</td>\n",
              "      <td>-17.218872</td>\n",
              "      <td>Noise_40_B007_1_123</td>\n",
              "    </tr>\n",
              "    <tr>\n",
              "      <th>...</th>\n",
              "      <td>...</td>\n",
              "      <td>...</td>\n",
              "      <td>...</td>\n",
              "      <td>...</td>\n",
              "      <td>...</td>\n",
              "    </tr>\n",
              "    <tr>\n",
              "      <th>129</th>\n",
              "      <td>-24.276953</td>\n",
              "      <td>0.063847</td>\n",
              "      <td>-30.513121</td>\n",
              "      <td>-3.987570</td>\n",
              "      <td>Noise_40__Time_Normal_1_098</td>\n",
              "    </tr>\n",
              "    <tr>\n",
              "      <th>530</th>\n",
              "      <td>12.830428</td>\n",
              "      <td>28.585051</td>\n",
              "      <td>-29.424301</td>\n",
              "      <td>-0.448983</td>\n",
              "      <td>Noise_40__Time_Normal_1_098</td>\n",
              "    </tr>\n",
              "    <tr>\n",
              "      <th>1440</th>\n",
              "      <td>-16.993561</td>\n",
              "      <td>-32.970127</td>\n",
              "      <td>-25.351404</td>\n",
              "      <td>-3.035061</td>\n",
              "      <td>Noise_40__Time_Normal_1_098</td>\n",
              "    </tr>\n",
              "    <tr>\n",
              "      <th>319</th>\n",
              "      <td>7.755459</td>\n",
              "      <td>-2.844370</td>\n",
              "      <td>-26.503349</td>\n",
              "      <td>-5.481032</td>\n",
              "      <td>Noise_40__Time_Normal_1_098</td>\n",
              "    </tr>\n",
              "    <tr>\n",
              "      <th>692</th>\n",
              "      <td>25.274376</td>\n",
              "      <td>24.930801</td>\n",
              "      <td>-31.160954</td>\n",
              "      <td>-5.583974</td>\n",
              "      <td>Noise_40__Time_Normal_1_098</td>\n",
              "    </tr>\n",
              "  </tbody>\n",
              "</table>\n",
              "<p>1570 rows × 5 columns</p>\n",
              "</div>\n",
              "    <div class=\"colab-df-buttons\">\n",
              "\n",
              "  <div class=\"colab-df-container\">\n",
              "    <button class=\"colab-df-convert\" onclick=\"convertToInteractive('df-fdde508a-022f-4fbb-9981-1b9987dae644')\"\n",
              "            title=\"Convert this dataframe to an interactive table.\"\n",
              "            style=\"display:none;\">\n",
              "\n",
              "  <svg xmlns=\"http://www.w3.org/2000/svg\" height=\"24px\" viewBox=\"0 -960 960 960\">\n",
              "    <path d=\"M120-120v-720h720v720H120Zm60-500h600v-160H180v160Zm220 220h160v-160H400v160Zm0 220h160v-160H400v160ZM180-400h160v-160H180v160Zm440 0h160v-160H620v160ZM180-180h160v-160H180v160Zm440 0h160v-160H620v160Z\"/>\n",
              "  </svg>\n",
              "    </button>\n",
              "\n",
              "  <style>\n",
              "    .colab-df-container {\n",
              "      display:flex;\n",
              "      gap: 12px;\n",
              "    }\n",
              "\n",
              "    .colab-df-convert {\n",
              "      background-color: #E8F0FE;\n",
              "      border: none;\n",
              "      border-radius: 50%;\n",
              "      cursor: pointer;\n",
              "      display: none;\n",
              "      fill: #1967D2;\n",
              "      height: 32px;\n",
              "      padding: 0 0 0 0;\n",
              "      width: 32px;\n",
              "    }\n",
              "\n",
              "    .colab-df-convert:hover {\n",
              "      background-color: #E2EBFA;\n",
              "      box-shadow: 0px 1px 2px rgba(60, 64, 67, 0.3), 0px 1px 3px 1px rgba(60, 64, 67, 0.15);\n",
              "      fill: #174EA6;\n",
              "    }\n",
              "\n",
              "    .colab-df-buttons div {\n",
              "      margin-bottom: 4px;\n",
              "    }\n",
              "\n",
              "    [theme=dark] .colab-df-convert {\n",
              "      background-color: #3B4455;\n",
              "      fill: #D2E3FC;\n",
              "    }\n",
              "\n",
              "    [theme=dark] .colab-df-convert:hover {\n",
              "      background-color: #434B5C;\n",
              "      box-shadow: 0px 1px 3px 1px rgba(0, 0, 0, 0.15);\n",
              "      filter: drop-shadow(0px 1px 2px rgba(0, 0, 0, 0.3));\n",
              "      fill: #FFFFFF;\n",
              "    }\n",
              "  </style>\n",
              "\n",
              "    <script>\n",
              "      const buttonEl =\n",
              "        document.querySelector('#df-fdde508a-022f-4fbb-9981-1b9987dae644 button.colab-df-convert');\n",
              "      buttonEl.style.display =\n",
              "        google.colab.kernel.accessAllowed ? 'block' : 'none';\n",
              "\n",
              "      async function convertToInteractive(key) {\n",
              "        const element = document.querySelector('#df-fdde508a-022f-4fbb-9981-1b9987dae644');\n",
              "        const dataTable =\n",
              "          await google.colab.kernel.invokeFunction('convertToInteractive',\n",
              "                                                    [key], {});\n",
              "        if (!dataTable) return;\n",
              "\n",
              "        const docLinkHtml = 'Like what you see? Visit the ' +\n",
              "          '<a target=\"_blank\" href=https://colab.research.google.com/notebooks/data_table.ipynb>data table notebook</a>'\n",
              "          + ' to learn more about interactive tables.';\n",
              "        element.innerHTML = '';\n",
              "        dataTable['output_type'] = 'display_data';\n",
              "        await google.colab.output.renderOutput(dataTable, element);\n",
              "        const docLink = document.createElement('div');\n",
              "        docLink.innerHTML = docLinkHtml;\n",
              "        element.appendChild(docLink);\n",
              "      }\n",
              "    </script>\n",
              "  </div>\n",
              "\n",
              "\n",
              "    <div id=\"df-d8054066-b7f0-46b1-8348-2958eb65d73e\">\n",
              "      <button class=\"colab-df-quickchart\" onclick=\"quickchart('df-d8054066-b7f0-46b1-8348-2958eb65d73e')\"\n",
              "                title=\"Suggest charts\"\n",
              "                style=\"display:none;\">\n",
              "\n",
              "<svg xmlns=\"http://www.w3.org/2000/svg\" height=\"24px\"viewBox=\"0 0 24 24\"\n",
              "     width=\"24px\">\n",
              "    <g>\n",
              "        <path d=\"M19 3H5c-1.1 0-2 .9-2 2v14c0 1.1.9 2 2 2h14c1.1 0 2-.9 2-2V5c0-1.1-.9-2-2-2zM9 17H7v-7h2v7zm4 0h-2V7h2v10zm4 0h-2v-4h2v4z\"/>\n",
              "    </g>\n",
              "</svg>\n",
              "      </button>\n",
              "\n",
              "<style>\n",
              "  .colab-df-quickchart {\n",
              "      --bg-color: #E8F0FE;\n",
              "      --fill-color: #1967D2;\n",
              "      --hover-bg-color: #E2EBFA;\n",
              "      --hover-fill-color: #174EA6;\n",
              "      --disabled-fill-color: #AAA;\n",
              "      --disabled-bg-color: #DDD;\n",
              "  }\n",
              "\n",
              "  [theme=dark] .colab-df-quickchart {\n",
              "      --bg-color: #3B4455;\n",
              "      --fill-color: #D2E3FC;\n",
              "      --hover-bg-color: #434B5C;\n",
              "      --hover-fill-color: #FFFFFF;\n",
              "      --disabled-bg-color: #3B4455;\n",
              "      --disabled-fill-color: #666;\n",
              "  }\n",
              "\n",
              "  .colab-df-quickchart {\n",
              "    background-color: var(--bg-color);\n",
              "    border: none;\n",
              "    border-radius: 50%;\n",
              "    cursor: pointer;\n",
              "    display: none;\n",
              "    fill: var(--fill-color);\n",
              "    height: 32px;\n",
              "    padding: 0;\n",
              "    width: 32px;\n",
              "  }\n",
              "\n",
              "  .colab-df-quickchart:hover {\n",
              "    background-color: var(--hover-bg-color);\n",
              "    box-shadow: 0 1px 2px rgba(60, 64, 67, 0.3), 0 1px 3px 1px rgba(60, 64, 67, 0.15);\n",
              "    fill: var(--button-hover-fill-color);\n",
              "  }\n",
              "\n",
              "  .colab-df-quickchart-complete:disabled,\n",
              "  .colab-df-quickchart-complete:disabled:hover {\n",
              "    background-color: var(--disabled-bg-color);\n",
              "    fill: var(--disabled-fill-color);\n",
              "    box-shadow: none;\n",
              "  }\n",
              "\n",
              "  .colab-df-spinner {\n",
              "    border: 2px solid var(--fill-color);\n",
              "    border-color: transparent;\n",
              "    border-bottom-color: var(--fill-color);\n",
              "    animation:\n",
              "      spin 1s steps(1) infinite;\n",
              "  }\n",
              "\n",
              "  @keyframes spin {\n",
              "    0% {\n",
              "      border-color: transparent;\n",
              "      border-bottom-color: var(--fill-color);\n",
              "      border-left-color: var(--fill-color);\n",
              "    }\n",
              "    20% {\n",
              "      border-color: transparent;\n",
              "      border-left-color: var(--fill-color);\n",
              "      border-top-color: var(--fill-color);\n",
              "    }\n",
              "    30% {\n",
              "      border-color: transparent;\n",
              "      border-left-color: var(--fill-color);\n",
              "      border-top-color: var(--fill-color);\n",
              "      border-right-color: var(--fill-color);\n",
              "    }\n",
              "    40% {\n",
              "      border-color: transparent;\n",
              "      border-right-color: var(--fill-color);\n",
              "      border-top-color: var(--fill-color);\n",
              "    }\n",
              "    60% {\n",
              "      border-color: transparent;\n",
              "      border-right-color: var(--fill-color);\n",
              "    }\n",
              "    80% {\n",
              "      border-color: transparent;\n",
              "      border-right-color: var(--fill-color);\n",
              "      border-bottom-color: var(--fill-color);\n",
              "    }\n",
              "    90% {\n",
              "      border-color: transparent;\n",
              "      border-bottom-color: var(--fill-color);\n",
              "    }\n",
              "  }\n",
              "</style>\n",
              "\n",
              "      <script>\n",
              "        async function quickchart(key) {\n",
              "          const quickchartButtonEl =\n",
              "            document.querySelector('#' + key + ' button');\n",
              "          quickchartButtonEl.disabled = true;  // To prevent multiple clicks.\n",
              "          quickchartButtonEl.classList.add('colab-df-spinner');\n",
              "          try {\n",
              "            const charts = await google.colab.kernel.invokeFunction(\n",
              "                'suggestCharts', [key], {});\n",
              "          } catch (error) {\n",
              "            console.error('Error during call to suggestCharts:', error);\n",
              "          }\n",
              "          quickchartButtonEl.classList.remove('colab-df-spinner');\n",
              "          quickchartButtonEl.classList.add('colab-df-quickchart-complete');\n",
              "        }\n",
              "        (() => {\n",
              "          let quickchartButtonEl =\n",
              "            document.querySelector('#df-d8054066-b7f0-46b1-8348-2958eb65d73e button');\n",
              "          quickchartButtonEl.style.display =\n",
              "            google.colab.kernel.accessAllowed ? 'block' : 'none';\n",
              "        })();\n",
              "      </script>\n",
              "    </div>\n",
              "\n",
              "  <div id=\"id_f21db6bd-0c3e-4e45-ba21-7de3cc8c1f26\">\n",
              "    <style>\n",
              "      .colab-df-generate {\n",
              "        background-color: #E8F0FE;\n",
              "        border: none;\n",
              "        border-radius: 50%;\n",
              "        cursor: pointer;\n",
              "        display: none;\n",
              "        fill: #1967D2;\n",
              "        height: 32px;\n",
              "        padding: 0 0 0 0;\n",
              "        width: 32px;\n",
              "      }\n",
              "\n",
              "      .colab-df-generate:hover {\n",
              "        background-color: #E2EBFA;\n",
              "        box-shadow: 0px 1px 2px rgba(60, 64, 67, 0.3), 0px 1px 3px 1px rgba(60, 64, 67, 0.15);\n",
              "        fill: #174EA6;\n",
              "      }\n",
              "\n",
              "      [theme=dark] .colab-df-generate {\n",
              "        background-color: #3B4455;\n",
              "        fill: #D2E3FC;\n",
              "      }\n",
              "\n",
              "      [theme=dark] .colab-df-generate:hover {\n",
              "        background-color: #434B5C;\n",
              "        box-shadow: 0px 1px 3px 1px rgba(0, 0, 0, 0.15);\n",
              "        filter: drop-shadow(0px 1px 2px rgba(0, 0, 0, 0.3));\n",
              "        fill: #FFFFFF;\n",
              "      }\n",
              "    </style>\n",
              "    <button class=\"colab-df-generate\" onclick=\"generateWithVariable('Motor_Fault_dataset')\"\n",
              "            title=\"Generate code using this dataframe.\"\n",
              "            style=\"display:none;\">\n",
              "\n",
              "  <svg xmlns=\"http://www.w3.org/2000/svg\" height=\"24px\"viewBox=\"0 0 24 24\"\n",
              "       width=\"24px\">\n",
              "    <path d=\"M7,19H8.4L18.45,9,17,7.55,7,17.6ZM5,21V16.75L18.45,3.32a2,2,0,0,1,2.83,0l1.4,1.43a1.91,1.91,0,0,1,.58,1.4,1.91,1.91,0,0,1-.58,1.4L9.25,21ZM18.45,9,17,7.55Zm-12,3A5.31,5.31,0,0,0,4.9,8.1,5.31,5.31,0,0,0,1,6.5,5.31,5.31,0,0,0,4.9,4.9,5.31,5.31,0,0,0,6.5,1,5.31,5.31,0,0,0,8.1,4.9,5.31,5.31,0,0,0,12,6.5,5.46,5.46,0,0,0,6.5,12Z\"/>\n",
              "  </svg>\n",
              "    </button>\n",
              "    <script>\n",
              "      (() => {\n",
              "      const buttonEl =\n",
              "        document.querySelector('#id_f21db6bd-0c3e-4e45-ba21-7de3cc8c1f26 button.colab-df-generate');\n",
              "      buttonEl.style.display =\n",
              "        google.colab.kernel.accessAllowed ? 'block' : 'none';\n",
              "\n",
              "      buttonEl.onclick = () => {\n",
              "        google.colab.notebook.generateWithVariable('Motor_Fault_dataset');\n",
              "      }\n",
              "      })();\n",
              "    </script>\n",
              "  </div>\n",
              "\n",
              "    </div>\n",
              "  </div>\n"
            ],
            "application/vnd.google.colaboratory.intrinsic+json": {
              "type": "dataframe",
              "variable_name": "Motor_Fault_dataset",
              "summary": "{\n  \"name\": \"Motor_Fault_dataset\",\n  \"rows\": 1570,\n  \"fields\": [\n    {\n      \"column\": \"t-SNE 1\",\n      \"properties\": {\n        \"dtype\": \"float32\",\n        \"num_unique_values\": 1567,\n        \"samples\": [\n          -8.614428520202637,\n          -4.655176162719727,\n          -13.745134353637695\n        ],\n        \"semantic_type\": \"\",\n        \"description\": \"\"\n      }\n    },\n    {\n      \"column\": \"t-SNE 2\",\n      \"properties\": {\n        \"dtype\": \"float32\",\n        \"num_unique_values\": 1567,\n        \"samples\": [\n          13.42835807800293,\n          0.4737527072429657,\n          17.556671142578125\n        ],\n        \"semantic_type\": \"\",\n        \"description\": \"\"\n      }\n    },\n    {\n      \"column\": \"T-SNE component 1\",\n      \"properties\": {\n        \"dtype\": \"float32\",\n        \"num_unique_values\": 1570,\n        \"samples\": [\n          -25.431438446044922,\n          24.678789138793945,\n          -7.737605571746826\n        ],\n        \"semantic_type\": \"\",\n        \"description\": \"\"\n      }\n    },\n    {\n      \"column\": \"T-SNE component 2\",\n      \"properties\": {\n        \"dtype\": \"float32\",\n        \"num_unique_values\": 1569,\n        \"samples\": [\n          -8.313515663146973,\n          0.2278309017419815,\n          12.330440521240234\n        ],\n        \"semantic_type\": \"\",\n        \"description\": \"\"\n      }\n    },\n    {\n      \"column\": \"Fault\",\n      \"properties\": {\n        \"dtype\": \"category\",\n        \"num_unique_values\": 9,\n        \"samples\": [\n          \"Noise_40_OR021_6_1_239\",\n          \"Noise_40_B014_1_190\",\n          \"Noise_40_OR007_6_1_136\"\n        ],\n        \"semantic_type\": \"\",\n        \"description\": \"\"\n      }\n    }\n  ]\n}"
            }
          },
          "metadata": {},
          "execution_count": 120
        }
      ]
    },
    {
      "cell_type": "code",
      "source": [
        "#Classification Report for MKDCNN"
      ],
      "metadata": {
        "id": "zC_6vMBPsOs_"
      },
      "id": "zC_6vMBPsOs_",
      "execution_count": 121,
      "outputs": []
    },
    {
      "cell_type": "code",
      "source": [],
      "metadata": {
        "id": "b77LcDP9sPR2"
      },
      "id": "b77LcDP9sPR2",
      "execution_count": 121,
      "outputs": []
    },
    {
      "cell_type": "markdown",
      "source": [
        "HSPSO-CatBoost\n"
      ],
      "metadata": {
        "id": "wZFQ37UCYN1p"
      },
      "id": "wZFQ37UCYN1p"
    },
    {
      "cell_type": "code",
      "source": [
        "X = Motor_Fault_dataset.iloc[:, 0:4].values\n",
        "y = Motor_Fault_dataset.iloc[:, 4].values"
      ],
      "metadata": {
        "id": "f_P8BWzmYTg0"
      },
      "id": "f_P8BWzmYTg0",
      "execution_count": 122,
      "outputs": []
    },
    {
      "cell_type": "code",
      "source": [
        "# Splitting the dataset into the Training set and Test set\n",
        "from sklearn.model_selection import train_test_split\n",
        "X_train, X_test, y_train, y_test = train_test_split(X, y, test_size = 0.2)"
      ],
      "metadata": {
        "id": "vLMueEZ6YfvA"
      },
      "id": "vLMueEZ6YfvA",
      "execution_count": 123,
      "outputs": []
    },
    {
      "cell_type": "code",
      "source": [
        "pip install -q hyperactive"
      ],
      "metadata": {
        "id": "nsTDebhD9iQw"
      },
      "id": "nsTDebhD9iQw",
      "execution_count": 124,
      "outputs": []
    },
    {
      "cell_type": "code",
      "source": [
        "pip install -q catboost"
      ],
      "metadata": {
        "id": "UTH39uc29p_Q"
      },
      "id": "UTH39uc29p_Q",
      "execution_count": 125,
      "outputs": []
    },
    {
      "cell_type": "markdown",
      "source": [
        "Deployment:"
      ],
      "metadata": {
        "id": "Ul9AHZU5uIcP"
      },
      "id": "Ul9AHZU5uIcP"
    },
    {
      "cell_type": "code",
      "source": [
        "import numpy as np\n",
        "import pandas as pd\n",
        "from datetime import datetime\n",
        "from sklearn.model_selection import cross_val_score\n",
        "from catboost import CatBoostClassifier, Pool\n",
        "from hyperactive import Hyperactive\n",
        "from hyperactive.optimizers import ParticleSwarmOptimizer\n",
        "from sklearn.metrics import classification_report, confusion_matrix\n",
        "import matplotlib.pyplot as plt\n",
        "import seaborn as sns\n",
        "\n",
        "# === DATA: Replace X_train, X_test, y_train, y_test with your actual data ===\n",
        "# Example:\n",
        "# X_train, X_test, y_train, y_test = train_test_split(...)\n",
        "\n",
        "X, y = X_train, y_train\n",
        "\n",
        "# === Objective Function ===\n",
        "def model(opt):\n",
        "    CatBoost = CatBoostClassifier(\n",
        "        iterations=opt[\"iterations\"],\n",
        "        depth=opt[\"depth\"],\n",
        "        learning_rate=opt[\"learning_rate\"],\n",
        "        l2_leaf_reg=opt[\"l2_leaf_reg\"],\n",
        "        bagging_temperature=opt[\"bagging_temperature\"],\n",
        "        random_strength=opt[\"random_strength\"],\n",
        "        verbose=False\n",
        "    )\n",
        "    scores = cross_val_score(CatBoost, X, y, cv=4)\n",
        "    return scores.mean()\n",
        "\n",
        "# === Search Space ===\n",
        "search_space = {\n",
        "    \"iterations\": list(range(50, 501, 50)),\n",
        "    \"depth\": list(range(1, 11)),\n",
        "    \"learning_rate\": [0.01, 0.05, 0.1],\n",
        "    \"l2_leaf_reg\": [1, 3, 5],\n",
        "    \"bagging_temperature\": [0.5, 1, 1.5],\n",
        "    \"random_strength\": [0.5, 1, 1.5],\n",
        "}\n",
        "\n",
        "# === Cauchy Mutation ===\n",
        "def cauchy_mutation(particle, gamma=0.3):\n",
        "    for key in particle:\n",
        "        if isinstance(particle[key], (int, float)):\n",
        "            particle[key] = particle[key] * (1 + gamma * np.tan(np.pi * (np.random.rand() - 0.5)))\n",
        "            particle[key] = np.clip(particle[key], min(search_space[key]), max(search_space[key]))\n",
        "            if isinstance(search_space[key][0], int):\n",
        "                particle[key] = int(round(particle[key]))\n",
        "    return particle\n",
        "\n",
        "# === HSPSO Optimizer Class ===\n",
        "class HybridStrategyPSO(ParticleSwarmOptimizer):\n",
        "    def __init__(self, n_part=20, max_iter=40, **kwargs):\n",
        "        super().__init__(**kwargs)\n",
        "        self.switch_threshold = 10\n",
        "        self.iteration = 0\n",
        "        self.topology = \"gbest\"\n",
        "        self.n_part = n_part\n",
        "        self.max_iter = max_iter\n",
        "\n",
        "        # Adaptive Inertia Parameters\n",
        "        self.H = 1\n",
        "        self.w_min = 0.4\n",
        "        self.w_max = 0.9\n",
        "        self.b = 0.9\n",
        "        self.scaling_factor = 0.5\n",
        "\n",
        "    def on_iteration(self, swarm, scores):\n",
        "        self.iteration += 1\n",
        "\n",
        "        # === Topology Switching ===\n",
        "        if self.iteration % self.switch_threshold == 0:\n",
        "            self.topology = \"lbest\" if self.topology == \"gbest\" else \"gbest\"\n",
        "            self.set_topology(self.topology)\n",
        "\n",
        "        # === Clone Best Particles ===\n",
        "        best_indices = np.argsort(scores)[:max(1, len(swarm) // 5)]\n",
        "        for idx in best_indices:\n",
        "            particle = swarm[idx].copy()\n",
        "            swarm.append(particle)\n",
        "            scores.append(scores[idx])\n",
        "\n",
        "        # === Prune Worst Particles ===\n",
        "        if len(swarm) > 2 * self.n_part:\n",
        "            worst_indices = np.argsort(scores)[-len(swarm)//4:]\n",
        "            for i in reversed(worst_indices):\n",
        "                del swarm[i]\n",
        "                del scores[i]\n",
        "\n",
        "        # === Nonlinear Adaptive Inertia ===\n",
        "        numerator = (self.w_max - self.w_min) * self.iteration\n",
        "        denominator = 1 + np.exp(-10 * self.b * ((2 * self.iteration) / (self.H * self.max_iter) - 1))\n",
        "        self.inertia = self.w_max - numerator / denominator\n",
        "\n",
        "        # === Cauchy Mutation ===\n",
        "        for i in range(len(swarm)):\n",
        "            if np.random.rand() < 0.2:\n",
        "                swarm[i] = cauchy_mutation(swarm[i])\n",
        "\n",
        "        # === Hook-Jeeves Local Search (simplified) ===\n",
        "        top_ids = np.argsort(scores)[:2]\n",
        "        for i in top_ids:\n",
        "            particle = swarm[i]\n",
        "            for key in particle:\n",
        "                if isinstance(particle[key], (int, float)):\n",
        "                    for delta in [-0.01, 0.01] if isinstance(particle[key], float) else [-1, 1]:\n",
        "                        trial = particle.copy()\n",
        "                        trial[key] = trial[key] + delta\n",
        "                        trial[key] = np.clip(trial[key], min(search_space[key]), max(search_space[key]))\n",
        "                        if isinstance(search_space[key][0], int):\n",
        "                            trial[key] = int(round(trial[key]))\n",
        "                        trial_score = model(trial)\n",
        "                        if trial_score > scores[i]:\n",
        "                            swarm[i] = trial\n",
        "                            scores[i] = trial_score\n",
        "\n",
        "        # === Random Restart ===\n",
        "        if np.random.rand() < 0.1:\n",
        "            random_idx = np.random.choice(len(swarm))\n",
        "            for key in swarm[random_idx]:\n",
        "                if isinstance(swarm[random_idx][key], (int, float)):\n",
        "                    swarm[random_idx][key] = np.random.choice(search_space[key])\n",
        "\n",
        "# === Run HSPSO Hyperparameter Tuning ===\n",
        "start_time = datetime.now()\n",
        "\n",
        "hyper = Hyperactive()\n",
        "\n",
        "optimizer = HybridStrategyPSO(\n",
        "    n_part=20,\n",
        "    max_iter=40,\n",
        "    inertia=0.5,\n",
        "    cognitive_weight=0.9,\n",
        "    social_weight=0.5,\n",
        "    temp_weight=0.4,\n",
        "    rand_rest_p=0.05,\n",
        ")\n",
        "\n",
        "hyper.add_search(model, search_space, optimizer=optimizer, n_iter=40)\n",
        "hyper.run()\n",
        "\n",
        "end_time = datetime.now()\n",
        "print('Tuning Duration:', end_time - start_time)\n",
        "\n",
        "# === Best Parameters ===\n",
        "best_params = hyper.best_para(model)\n",
        "print(\"Best Parameters:\", best_params)\n",
        "\n",
        "# === Train Final Model with Best Parameters ===\n",
        "train_pool = Pool(data=X_train, label=y_train)\n",
        "test_pool = Pool(data=X_test, label=y_test)\n",
        "\n",
        "final_model = CatBoostClassifier(\n",
        "    depth=best_params[\"depth\"],\n",
        "    iterations=best_params[\"iterations\"],\n",
        "    learning_rate=best_params[\"learning_rate\"],\n",
        "    l2_leaf_reg=best_params[\"l2_leaf_reg\"],\n",
        "    bagging_temperature=best_params[\"bagging_temperature\"],\n",
        "    random_strength=best_params[\"random_strength\"],\n",
        "    verbose=10\n",
        ")\n",
        "\n",
        "final_model.fit(\n",
        "    train_pool,\n",
        "    eval_set=test_pool,\n",
        "    verbose=best_params[\"iterations\"] // 10,\n",
        "    plot=True\n",
        ")\n"
      ],
      "metadata": {
        "id": "jQr38vF8A9_i",
        "colab": {
          "base_uri": "https://localhost:8080/",
          "height": 677,
          "referenced_widgets": [
            "c1cfe02917ca4289a5f250a214e1786d"
          ]
        },
        "outputId": "54011f22-6f2b-4116-c1b3-9a9c9d2de9e3"
      },
      "id": "jQr38vF8A9_i",
      "execution_count": 126,
      "outputs": [
        {
          "output_type": "stream",
          "name": "stderr",
          "text": [
            "[0] model (Particle Swarm Optimization): 100%|\u001b[32m──────────\u001b[0m| 40/40 [03:16<00:00,  4.91s/it, best_iter=0, best_pos=None, best_score=-inf]"
          ]
        },
        {
          "output_type": "stream",
          "name": "stdout",
          "text": [
            "\n",
            "\n",
            "Results: 'model'  \n",
            "   Best score: 0.9968152866242037  \n",
            "   Best parameter set:\n",
            "      'iterations'          : 300.0  \n",
            "      'depth'               : 7.0  \n",
            "      'learning_rate'       : 0.01  \n",
            "      'l2_leaf_reg'         : 3.0  \n",
            "      'bagging_temperature' : 0.5  \n",
            "      'random_strength'     : 1.0  \n",
            "   Best iteration: 0  \n",
            " \n",
            "   Random seed: 785903007  \n",
            " \n",
            "   Evaluation time   : 196.0491542816162 sec    [100.0 %]\n",
            "   Optimization time : 0.009029388427734375 sec    [0.0 %]\n",
            "   Iteration time    : 196.05818367004395 sec    [4.9 sec/iter]\n",
            " \n",
            "Tuning Duration: 0:03:16.407600\n",
            "Best Parameters: {'iterations': 300, 'depth': 7, 'learning_rate': 0.01, 'l2_leaf_reg': 3, 'bagging_temperature': 0.5, 'random_strength': 1}\n"
          ]
        },
        {
          "output_type": "stream",
          "name": "stderr",
          "text": [
            "\n"
          ]
        },
        {
          "output_type": "display_data",
          "data": {
            "text/plain": [
              "MetricVisualizer(layout=Layout(align_self='stretch', height='500px'))"
            ],
            "application/vnd.jupyter.widget-view+json": {
              "version_major": 2,
              "version_minor": 0,
              "model_id": "c1cfe02917ca4289a5f250a214e1786d"
            }
          },
          "metadata": {}
        },
        {
          "output_type": "stream",
          "name": "stdout",
          "text": [
            "0:\tlearn: 2.1434354\ttest: 2.1427332\tbest: 2.1427332 (0)\ttotal: 13.4ms\tremaining: 4.01s\n",
            "30:\tlearn: 1.2521845\ttest: 1.2440541\tbest: 1.2440541 (30)\ttotal: 379ms\tremaining: 3.29s\n",
            "60:\tlearn: 0.8361278\ttest: 0.8295565\tbest: 0.8295565 (60)\ttotal: 731ms\tremaining: 2.86s\n",
            "90:\tlearn: 0.5909254\ttest: 0.5835201\tbest: 0.5835201 (90)\ttotal: 1.12s\tremaining: 2.57s\n",
            "120:\tlearn: 0.4351236\ttest: 0.4275185\tbest: 0.4275185 (120)\ttotal: 1.48s\tremaining: 2.19s\n",
            "150:\tlearn: 0.3281618\ttest: 0.3214081\tbest: 0.3214081 (150)\ttotal: 1.84s\tremaining: 1.82s\n",
            "180:\tlearn: 0.2524053\ttest: 0.2456807\tbest: 0.2456807 (180)\ttotal: 2.22s\tremaining: 1.46s\n",
            "210:\tlearn: 0.1993913\ttest: 0.1927904\tbest: 0.1927904 (210)\ttotal: 2.57s\tremaining: 1.08s\n",
            "240:\tlearn: 0.1586676\ttest: 0.1522529\tbest: 0.1522529 (240)\ttotal: 2.93s\tremaining: 717ms\n",
            "270:\tlearn: 0.1292834\ttest: 0.1233202\tbest: 0.1233202 (270)\ttotal: 3.3s\tremaining: 353ms\n",
            "299:\tlearn: 0.1081416\ttest: 0.1024316\tbest: 0.1024316 (299)\ttotal: 3.63s\tremaining: 0us\n",
            "\n",
            "bestTest = 0.1024316287\n",
            "bestIteration = 299\n",
            "\n"
          ]
        },
        {
          "output_type": "execute_result",
          "data": {
            "text/plain": [
              "<catboost.core.CatBoostClassifier at 0x78add19638d0>"
            ]
          },
          "metadata": {},
          "execution_count": 126
        }
      ]
    },
    {
      "cell_type": "code",
      "source": [
        "hyper.add_search(model, search_space, optimizer=optimizer, n_iter=40, initialize={\"random\": 20})\n"
      ],
      "metadata": {
        "id": "a_9tYmgz45VS"
      },
      "id": "a_9tYmgz45VS",
      "execution_count": 127,
      "outputs": []
    },
    {
      "cell_type": "code",
      "source": [
        "learning_curve = final_model.get_evals_result()\n",
        "print(learning_curve)"
      ],
      "metadata": {
        "id": "2mRL06xdGZve",
        "colab": {
          "base_uri": "https://localhost:8080/"
        },
        "outputId": "f7fb1a0b-cd6c-4fba-f4bc-ce4be1c9eb4c"
      },
      "id": "2mRL06xdGZve",
      "execution_count": 128,
      "outputs": [
        {
          "output_type": "stream",
          "name": "stdout",
          "text": [
            "{'learn': {'MultiClass': [2.143435392236498, 2.090053041234227, 2.043940757170626, 1.9953819254999967, 1.9495763576807266, 1.9162222235458657, 1.8788584000481774, 1.836048906268525, 1.8107888527046998, 1.77112736949232, 1.7398999663356798, 1.7109354050913885, 1.677888892706471, 1.6460783813879016, 1.6188848223697747, 1.589673204766121, 1.557871685634093, 1.5345539169179883, 1.5080862232343348, 1.4845489606664508, 1.4611526980671599, 1.4383537498508798, 1.4166536894873416, 1.3950268835112802, 1.372369830572808, 1.3496358792817207, 1.3297030706914614, 1.3076765439654585, 1.2884101927562819, 1.2690440364198263, 1.2521845066564155, 1.2348798455642123, 1.216010023357921, 1.1983331629307974, 1.1802291615652647, 1.1624601200981755, 1.1455691234806797, 1.1299768180637104, 1.1149514212193998, 1.098564472087146, 1.0828277385871061, 1.0675824339141298, 1.054496851380359, 1.0433562447263638, 1.028210670534916, 1.0136140189696068, 0.9994996889641112, 0.9865793877657022, 0.9740868982666995, 0.9628670390141936, 0.9514924906059264, 0.9384062964815977, 0.9257567176342294, 0.9145971282438083, 0.9029398591563206, 0.8917913043260729, 0.8800748471996989, 0.8684495170365983, 0.8570725278297487, 0.8462008883814687, 0.8361278400406092, 0.826630261870691, 0.8158712742567549, 0.8055813910256615, 0.7961033004291556, 0.7863627154599089, 0.77663355344449, 0.7675170541708464, 0.7585787267033652, 0.7494557568695761, 0.7404537557906936, 0.7313287253094997, 0.7226480892795974, 0.7149150553326149, 0.7062954522234385, 0.6978897271059796, 0.6899282958664984, 0.6823893010882002, 0.6744704701765977, 0.6675508377003818, 0.6599759076988542, 0.652352459287447, 0.6452277003839616, 0.6380185782647181, 0.6307584444012866, 0.624184839800256, 0.6174007731009368, 0.6105755840048324, 0.6040339179740208, 0.5972630862502921, 0.5909254018273387, 0.5842603008645102, 0.5782886191242332, 0.5718559753784788, 0.5664678567433782, 0.5612038672833893, 0.5559223621815939, 0.5499994732783534, 0.543958373860229, 0.5381031396230863, 0.5327095379426137, 0.5271402244388584, 0.5217019476800515, 0.5162516505212047, 0.5109485146276628, 0.5053374520776914, 0.5000468049409846, 0.49482544155326286, 0.48949566682944523, 0.4848800724135198, 0.47996506833992403, 0.47509601166242243, 0.4704508209359175, 0.4656379128077551, 0.46114531299197337, 0.4564532468517386, 0.45233827791922926, 0.44794545138432, 0.4435341817412967, 0.43927178763983526, 0.43512364856128616, 0.43070873920477065, 0.4268053085390543, 0.42293037528329025, 0.4189431143205586, 0.4148331923256847, 0.4110205385808851, 0.4074387813360071, 0.40332863366075117, 0.3992830346081022, 0.395452691419585, 0.3917485419176989, 0.387996119040339, 0.38407754408549327, 0.38087421786074466, 0.37755232947021716, 0.37385998016001204, 0.37062304747787095, 0.36704659002815615, 0.3638019667132057, 0.3603128158404634, 0.35697525164867666, 0.35352089192815345, 0.3502608817613604, 0.34694072509498103, 0.34390956773190445, 0.34055267953495805, 0.3373244537821681, 0.334283709672304, 0.33118424251460565, 0.3281618201272039, 0.3252778869913611, 0.3223334215966096, 0.3196924098348683, 0.3169533995448155, 0.31457624150183355, 0.3117670733657454, 0.3088680204323206, 0.3060596897819613, 0.3035800322496867, 0.3009061031448089, 0.29815223323202616, 0.2955805430360756, 0.29299987604648203, 0.29028003599176844, 0.28772226848329013, 0.2851892791897793, 0.2826083570326913, 0.2801471386226836, 0.27767511602585115, 0.2752193764279117, 0.2727626957832158, 0.2703242628143229, 0.26781335779770216, 0.2655140265856023, 0.263197375332015, 0.2612000766390114, 0.2588772347392765, 0.256757006453402, 0.2546287031103426, 0.25240528124086076, 0.2505299611060974, 0.24844922146714235, 0.24664077120422645, 0.2448709036670108, 0.24277729182562616, 0.24068801732564918, 0.23889481257099474, 0.2371622011205534, 0.2352045011528155, 0.23320605512767487, 0.2312547177369399, 0.2292966159304432, 0.22759973806269887, 0.22570135120560622, 0.2239115359201825, 0.22207199574985478, 0.2205540548563323, 0.21876034082549523, 0.21693967043103052, 0.215395465259763, 0.2139144560034948, 0.21244171830084108, 0.2107205873688309, 0.20901965455011043, 0.20732380690259877, 0.2056441355638423, 0.20411191695224634, 0.20280251400493116, 0.20105448568234502, 0.1993913148137898, 0.1978692798076607, 0.19653940819570423, 0.19501092024501723, 0.19336171577101063, 0.19171056561520006, 0.19021612115068665, 0.18871665726834638, 0.18724342734852972, 0.18578879166140225, 0.18444311361924492, 0.18299849540969693, 0.18158748455240342, 0.18027237052679096, 0.17891861910707552, 0.17755646410729842, 0.1763380624143502, 0.1749818170890714, 0.1736757005574034, 0.17226492673599927, 0.17103536624669238, 0.1697134937777368, 0.16862464775751798, 0.16732313235903107, 0.1659641235945836, 0.16469981642740272, 0.16343265307822297, 0.16217166682429185, 0.1610572599259512, 0.15984037213021735, 0.15866759758348623, 0.15767677290696855, 0.1566720164512949, 0.15564321837103282, 0.15441956151371483, 0.15342977295487248, 0.15243559839818113, 0.15140612072714787, 0.15026487711947892, 0.1491160599383861, 0.14802435518565318, 0.1470652205711682, 0.1460073948414858, 0.1450437264798227, 0.14405545858200072, 0.14294022280338214, 0.14191328168962117, 0.14091304525431567, 0.14002269009960255, 0.139197791805633, 0.13815472033543244, 0.13713305558134542, 0.13623349180623165, 0.13542501003922383, 0.13449047602520342, 0.13355560661377885, 0.13263651697758072, 0.1318749893719535, 0.1309568822878726, 0.1300335345628849, 0.12928344075236142, 0.12848374401475052, 0.1277120062165129, 0.12702496381448847, 0.12627899688728386, 0.12537736033617425, 0.12467432544333452, 0.1238033266948986, 0.12307814911246674, 0.12235205945445969, 0.12166219109832142, 0.12100310114079299, 0.12021831875207079, 0.11958805406589226, 0.11891006979472996, 0.1182219754746033, 0.1174058458821913, 0.116770619123093, 0.11596691386174539, 0.11523976231685158, 0.11440990365271562, 0.11365679322560278, 0.11290733071293133, 0.11216538834910883, 0.11154687625652933, 0.11088363515861221, 0.11026831827699776, 0.10956898974812951, 0.10882320279272076, 0.10814156087651361]}, 'validation': {'MultiClass': [2.1427332482121217, 2.087526287479762, 2.042892871806697, 1.9940069278569292, 1.9474127200788889, 1.9133773758542139, 1.875744503937887, 1.8330018891309714, 1.8081890006433556, 1.7678895667128292, 1.7364279617813294, 1.70719654910155, 1.674032756804297, 1.6416506539733189, 1.6143439251853127, 1.5846229064422805, 1.5523820584148218, 1.528470544784412, 1.501845398303476, 1.4782795083146532, 1.4544155860057384, 1.4310563718569058, 1.409234168063177, 1.387217550565402, 1.3644215730092129, 1.3414289845628582, 1.3215874903555447, 1.2992762110241922, 1.2798535792535948, 1.2607890471575813, 1.2440540819255905, 1.2275883052286096, 1.2085779769997247, 1.191067412593937, 1.1731446520868105, 1.155450145715519, 1.1384864867474929, 1.1230728268307355, 1.1079082882149256, 1.0913586743554258, 1.0758577749973817, 1.0609627474665186, 1.0477907973471687, 1.037023795097208, 1.0217258058436403, 1.0070352163656995, 0.9926840088936939, 0.9794751506112085, 0.966918264057582, 0.9559994910602707, 0.9447753233442707, 0.9320312938414096, 0.9192299940554545, 0.908090593007988, 0.8964339126210069, 0.8853143894764963, 0.8739963543764679, 0.8623225136736459, 0.8508275535815807, 0.839753572963979, 0.8295565499451972, 0.8198691300953788, 0.8091190710404971, 0.7989977019005918, 0.7895949855404301, 0.7797269984712022, 0.7700090767570906, 0.7609248001790719, 0.7518516429887504, 0.7426925057475383, 0.7337627068095971, 0.7245520258961304, 0.7158136336063152, 0.7081823943756712, 0.699581642135114, 0.6911381974706206, 0.6830605690603259, 0.6757403978464759, 0.6678267659723593, 0.6608030835424163, 0.6531722970664557, 0.6454899914410555, 0.6382222943562874, 0.630973881320819, 0.6236351854614898, 0.6169902664750437, 0.6102071058865504, 0.6034097044251933, 0.5967865783938773, 0.5899117831668701, 0.5835201165774577, 0.5769226463078748, 0.5710492697916072, 0.5646934095083042, 0.5594194079069978, 0.5540731166109463, 0.5487893070858937, 0.5428285373789183, 0.5367818579997238, 0.5308752200721188, 0.5255204136649803, 0.5199481606561415, 0.51458190576548, 0.5091482040596165, 0.5037858442211589, 0.4980931309168512, 0.49274895525065254, 0.48749854198561654, 0.48213261267773005, 0.4775488196142982, 0.4726406043307566, 0.46774865280562555, 0.4630463546776582, 0.458233768697856, 0.45376268491700295, 0.4490923416241467, 0.4449025668401193, 0.4404309253347556, 0.4359578363794248, 0.4316246024198963, 0.4275185258987196, 0.42311757033483244, 0.4194153789136155, 0.4154546272044187, 0.4115909020792887, 0.4076286889458876, 0.40382577865551994, 0.4003243289344636, 0.3962586668174778, 0.3922119353775281, 0.38833786728501385, 0.3847274665248842, 0.3809589962250013, 0.3770623008798616, 0.3738471052409876, 0.3705411035811244, 0.36686065503793536, 0.3637732052921838, 0.36023091141509544, 0.3570012064195753, 0.3535797937771586, 0.3502023518018093, 0.3467402705100771, 0.34351203457580404, 0.34014100497461836, 0.3370805762797512, 0.3337247947793965, 0.3305479428144539, 0.32746167296839246, 0.3243941955207566, 0.32140807237671226, 0.318515412958634, 0.31559380331492, 0.3129536379402648, 0.31020226148378116, 0.307874546227732, 0.3051034146243808, 0.30218677178038506, 0.2993350798939377, 0.29691176087957283, 0.294230224504874, 0.2914632125625561, 0.2889635369020193, 0.2864289155143526, 0.28376097123714267, 0.28117324734748195, 0.27864226011917775, 0.2760283510049321, 0.2735967802309745, 0.2711044725020986, 0.26869576581276156, 0.2662172685562644, 0.2637392538174512, 0.2612064569871617, 0.2588775096294826, 0.25655952225874545, 0.25453211046988844, 0.25218066537868317, 0.2500359003776939, 0.2478855758602151, 0.24568072484535627, 0.24380749464323034, 0.24175199469850478, 0.2399667621382082, 0.23817931851210025, 0.23606272204022505, 0.233955013932339, 0.2321472972335333, 0.23042217195737266, 0.22844112544444403, 0.22640764591258405, 0.22444202886175665, 0.2225132354447797, 0.22084595702179943, 0.21892219961662884, 0.2171424128314599, 0.21536186621983144, 0.21389587716452188, 0.21209151700263942, 0.2102529841795373, 0.2087064263718884, 0.2072558666608591, 0.2057445780455477, 0.20404211467892505, 0.20238264281896648, 0.2007091324853973, 0.19901637539139358, 0.19747884861940676, 0.19622167835854387, 0.19443877604086798, 0.19279035718182608, 0.19129970065201876, 0.18995537030832543, 0.18843700327577964, 0.18679496191896014, 0.18516262653977483, 0.18370971400836855, 0.18221454808172308, 0.1807234835607779, 0.1792704240145351, 0.17792648814687967, 0.17647793262394715, 0.1750987405779708, 0.17376912916149923, 0.17244055196495742, 0.1710695866284839, 0.16983744141304674, 0.1684828662948556, 0.16715945499361864, 0.16576539108170368, 0.16451354852560893, 0.16317792503970094, 0.16213587270301016, 0.16084452427975138, 0.1594926836137686, 0.15824460081031877, 0.15701310922813502, 0.15576179656098296, 0.15464686967963487, 0.15344384438107267, 0.15225285721050116, 0.15128802810838232, 0.1502732273264606, 0.14925948395809294, 0.1480852892732031, 0.14709512706849942, 0.14609747585779106, 0.145062396651099, 0.1439331773122418, 0.14278938826542464, 0.1417306333850361, 0.1408174198076095, 0.13977038335838562, 0.13880699452397013, 0.13783397020749766, 0.1367487531809387, 0.13573457503274436, 0.13473481526599407, 0.1338594334322465, 0.13304983799489958, 0.13202176516071884, 0.13100939191384933, 0.13011336494058862, 0.12933738359950359, 0.12841844168188485, 0.12749013582033006, 0.1265898032345475, 0.12583302365834392, 0.1249367362930777, 0.12404741823044814, 0.12332021551680103, 0.12248864025628495, 0.12172067261466267, 0.12104005015285564, 0.12029879073698294, 0.11939860075264196, 0.11870704725196304, 0.11783275416095366, 0.11711559129566787, 0.11639464151554905, 0.11568817003279787, 0.11508306829629251, 0.11430739847885399, 0.11369305897169518, 0.11301324806683845, 0.11236007009281873, 0.11155114258894601, 0.11093814678830753, 0.11014264536260891, 0.10943086473375191, 0.10860740732077033, 0.10787211334334092, 0.10715687903952385, 0.10641952091830939, 0.10580165850792687, 0.10513712075339224, 0.10454146749320589, 0.10382396053912495, 0.103106937004354, 0.10243162872127536]}}\n"
          ]
        }
      ]
    },
    {
      "cell_type": "code",
      "source": [
        "# Retrieve evaluation results\n",
        "learning_curve = final_model.get_evals_result()\n",
        "\n",
        "# Extract the metric values\n",
        "# Assuming 'learn' corresponds to the training dataset\n",
        "train_metric_values = learning_curve.get('learn', {}).get('MultiClass', [])\n",
        "\n",
        "# Check the extracted values\n",
        "if train_metric_values:\n",
        "    print(\"Training metric values:\", train_metric_values)\n",
        "else:\n",
        "    print(\"Metric 'MultiClass' not found in evaluation results.\")\n"
      ],
      "metadata": {
        "id": "3baCXa2jGafB",
        "colab": {
          "base_uri": "https://localhost:8080/"
        },
        "outputId": "aee092a7-672f-4d36-ad14-23c9581daf1d"
      },
      "id": "3baCXa2jGafB",
      "execution_count": 129,
      "outputs": [
        {
          "output_type": "stream",
          "name": "stdout",
          "text": [
            "Training metric values: [2.143435392236498, 2.090053041234227, 2.043940757170626, 1.9953819254999967, 1.9495763576807266, 1.9162222235458657, 1.8788584000481774, 1.836048906268525, 1.8107888527046998, 1.77112736949232, 1.7398999663356798, 1.7109354050913885, 1.677888892706471, 1.6460783813879016, 1.6188848223697747, 1.589673204766121, 1.557871685634093, 1.5345539169179883, 1.5080862232343348, 1.4845489606664508, 1.4611526980671599, 1.4383537498508798, 1.4166536894873416, 1.3950268835112802, 1.372369830572808, 1.3496358792817207, 1.3297030706914614, 1.3076765439654585, 1.2884101927562819, 1.2690440364198263, 1.2521845066564155, 1.2348798455642123, 1.216010023357921, 1.1983331629307974, 1.1802291615652647, 1.1624601200981755, 1.1455691234806797, 1.1299768180637104, 1.1149514212193998, 1.098564472087146, 1.0828277385871061, 1.0675824339141298, 1.054496851380359, 1.0433562447263638, 1.028210670534916, 1.0136140189696068, 0.9994996889641112, 0.9865793877657022, 0.9740868982666995, 0.9628670390141936, 0.9514924906059264, 0.9384062964815977, 0.9257567176342294, 0.9145971282438083, 0.9029398591563206, 0.8917913043260729, 0.8800748471996989, 0.8684495170365983, 0.8570725278297487, 0.8462008883814687, 0.8361278400406092, 0.826630261870691, 0.8158712742567549, 0.8055813910256615, 0.7961033004291556, 0.7863627154599089, 0.77663355344449, 0.7675170541708464, 0.7585787267033652, 0.7494557568695761, 0.7404537557906936, 0.7313287253094997, 0.7226480892795974, 0.7149150553326149, 0.7062954522234385, 0.6978897271059796, 0.6899282958664984, 0.6823893010882002, 0.6744704701765977, 0.6675508377003818, 0.6599759076988542, 0.652352459287447, 0.6452277003839616, 0.6380185782647181, 0.6307584444012866, 0.624184839800256, 0.6174007731009368, 0.6105755840048324, 0.6040339179740208, 0.5972630862502921, 0.5909254018273387, 0.5842603008645102, 0.5782886191242332, 0.5718559753784788, 0.5664678567433782, 0.5612038672833893, 0.5559223621815939, 0.5499994732783534, 0.543958373860229, 0.5381031396230863, 0.5327095379426137, 0.5271402244388584, 0.5217019476800515, 0.5162516505212047, 0.5109485146276628, 0.5053374520776914, 0.5000468049409846, 0.49482544155326286, 0.48949566682944523, 0.4848800724135198, 0.47996506833992403, 0.47509601166242243, 0.4704508209359175, 0.4656379128077551, 0.46114531299197337, 0.4564532468517386, 0.45233827791922926, 0.44794545138432, 0.4435341817412967, 0.43927178763983526, 0.43512364856128616, 0.43070873920477065, 0.4268053085390543, 0.42293037528329025, 0.4189431143205586, 0.4148331923256847, 0.4110205385808851, 0.4074387813360071, 0.40332863366075117, 0.3992830346081022, 0.395452691419585, 0.3917485419176989, 0.387996119040339, 0.38407754408549327, 0.38087421786074466, 0.37755232947021716, 0.37385998016001204, 0.37062304747787095, 0.36704659002815615, 0.3638019667132057, 0.3603128158404634, 0.35697525164867666, 0.35352089192815345, 0.3502608817613604, 0.34694072509498103, 0.34390956773190445, 0.34055267953495805, 0.3373244537821681, 0.334283709672304, 0.33118424251460565, 0.3281618201272039, 0.3252778869913611, 0.3223334215966096, 0.3196924098348683, 0.3169533995448155, 0.31457624150183355, 0.3117670733657454, 0.3088680204323206, 0.3060596897819613, 0.3035800322496867, 0.3009061031448089, 0.29815223323202616, 0.2955805430360756, 0.29299987604648203, 0.29028003599176844, 0.28772226848329013, 0.2851892791897793, 0.2826083570326913, 0.2801471386226836, 0.27767511602585115, 0.2752193764279117, 0.2727626957832158, 0.2703242628143229, 0.26781335779770216, 0.2655140265856023, 0.263197375332015, 0.2612000766390114, 0.2588772347392765, 0.256757006453402, 0.2546287031103426, 0.25240528124086076, 0.2505299611060974, 0.24844922146714235, 0.24664077120422645, 0.2448709036670108, 0.24277729182562616, 0.24068801732564918, 0.23889481257099474, 0.2371622011205534, 0.2352045011528155, 0.23320605512767487, 0.2312547177369399, 0.2292966159304432, 0.22759973806269887, 0.22570135120560622, 0.2239115359201825, 0.22207199574985478, 0.2205540548563323, 0.21876034082549523, 0.21693967043103052, 0.215395465259763, 0.2139144560034948, 0.21244171830084108, 0.2107205873688309, 0.20901965455011043, 0.20732380690259877, 0.2056441355638423, 0.20411191695224634, 0.20280251400493116, 0.20105448568234502, 0.1993913148137898, 0.1978692798076607, 0.19653940819570423, 0.19501092024501723, 0.19336171577101063, 0.19171056561520006, 0.19021612115068665, 0.18871665726834638, 0.18724342734852972, 0.18578879166140225, 0.18444311361924492, 0.18299849540969693, 0.18158748455240342, 0.18027237052679096, 0.17891861910707552, 0.17755646410729842, 0.1763380624143502, 0.1749818170890714, 0.1736757005574034, 0.17226492673599927, 0.17103536624669238, 0.1697134937777368, 0.16862464775751798, 0.16732313235903107, 0.1659641235945836, 0.16469981642740272, 0.16343265307822297, 0.16217166682429185, 0.1610572599259512, 0.15984037213021735, 0.15866759758348623, 0.15767677290696855, 0.1566720164512949, 0.15564321837103282, 0.15441956151371483, 0.15342977295487248, 0.15243559839818113, 0.15140612072714787, 0.15026487711947892, 0.1491160599383861, 0.14802435518565318, 0.1470652205711682, 0.1460073948414858, 0.1450437264798227, 0.14405545858200072, 0.14294022280338214, 0.14191328168962117, 0.14091304525431567, 0.14002269009960255, 0.139197791805633, 0.13815472033543244, 0.13713305558134542, 0.13623349180623165, 0.13542501003922383, 0.13449047602520342, 0.13355560661377885, 0.13263651697758072, 0.1318749893719535, 0.1309568822878726, 0.1300335345628849, 0.12928344075236142, 0.12848374401475052, 0.1277120062165129, 0.12702496381448847, 0.12627899688728386, 0.12537736033617425, 0.12467432544333452, 0.1238033266948986, 0.12307814911246674, 0.12235205945445969, 0.12166219109832142, 0.12100310114079299, 0.12021831875207079, 0.11958805406589226, 0.11891006979472996, 0.1182219754746033, 0.1174058458821913, 0.116770619123093, 0.11596691386174539, 0.11523976231685158, 0.11440990365271562, 0.11365679322560278, 0.11290733071293133, 0.11216538834910883, 0.11154687625652933, 0.11088363515861221, 0.11026831827699776, 0.10956898974812951, 0.10882320279272076, 0.10814156087651361]\n"
          ]
        }
      ]
    },
    {
      "cell_type": "code",
      "source": [
        "import matplotlib.pyplot as plt\n",
        "\n",
        "# Plotting the learning curve\n",
        "plt.plot(train_metric_values, label='Training MultiClass Metric')\n",
        "plt.xlabel('Iterations')\n",
        "plt.ylabel('Metric Value')\n",
        "plt.title('Learning Curve')\n",
        "plt.legend()\n",
        "plt.grid()\n",
        "plt.show()\n"
      ],
      "metadata": {
        "id": "p0vioY6FGjQb",
        "colab": {
          "base_uri": "https://localhost:8080/",
          "height": 472
        },
        "outputId": "fa355743-61ea-4b74-b47b-4aff75ffe842"
      },
      "id": "p0vioY6FGjQb",
      "execution_count": 130,
      "outputs": [
        {
          "output_type": "display_data",
          "data": {
            "text/plain": [
              "<Figure size 640x480 with 1 Axes>"
            ],
            "image/png": "[encoded data removed]"
          },
          "metadata": {}
        }
      ]
    },
    {
      "cell_type": "code",
      "source": [
        "# Predictions\n",
        "y_pred_train = final_model.predict(X_train)\n",
        "y_pred_test = final_model.predict(X_test)\n",
        "\n",
        "print(\"Classification Report - Training Set:\")\n",
        "print(classification_report(y_train, y_pred_train))\n",
        "\n",
        "print(\"Classification Report - Test Set:\")\n",
        "print(classification_report(y_test, y_pred_test))\n",
        "\n",
        "conf_matrix_train = confusion_matrix(y_train, y_pred_train)\n",
        "conf_matrix_test = confusion_matrix(y_test, y_pred_test)\n",
        "\n",
        "plt.figure(figsize=(15, 5))\n",
        "\n",
        "plt.subplot(1, 3, 1)\n",
        "sns.heatmap(conf_matrix_train, annot=True, fmt=\"d\", cmap=\"Blues\", cbar=False)\n",
        "plt.title(\"Confusion Matrix - Training Set\")\n",
        "plt.xlabel(\"Predicted\")\n",
        "plt.ylabel(\"True\")\n",
        "\n",
        "plt.subplot(1, 3, 2)\n",
        "sns.heatmap(conf_matrix_test, annot=True, fmt=\"d\", cmap=\"Blues\", cbar=False)\n",
        "plt.title(\"Confusion Matrix - Test Set\")\n",
        "plt.xlabel(\"Predicted\")\n",
        "plt.ylabel(\"True\")\n",
        "\n",
        "plt.tight_layout()\n",
        "plt.savefig('C-Matrix.svg', format='svg')\n",
        "plt.show()\n",
        "\n",
        "end_time = datetime.now()\n",
        "print('Deployment Duration: {}'.format(end_time - start_time))"
      ],
      "metadata": {
        "id": "EGySyu_OHNqG",
        "colab": {
          "base_uri": "https://localhost:8080/",
          "height": 1000
        },
        "outputId": "0dbe891e-1417-4177-d08a-91ecf31e499b"
      },
      "id": "EGySyu_OHNqG",
      "execution_count": 131,
      "outputs": [
        {
          "output_type": "stream",
          "name": "stdout",
          "text": [
            "Classification Report - Training Set:\n",
            "                             precision    recall  f1-score   support\n",
            "\n",
            "        Noise_40_B007_1_123       1.00      1.00      1.00       158\n",
            "        Noise_40_B014_1_190       1.00      0.97      0.99       154\n",
            "        Noise_40_B021_1_227       0.98      1.00      0.99       146\n",
            "       Noise_40_IR007_1_110       1.00      1.00      1.00       142\n",
            "       Noise_40_IR021_1_214       1.00      1.00      1.00       110\n",
            "     Noise_40_OR007_6_1_136       1.00      1.00      1.00       134\n",
            "     Noise_40_OR014_6_1_202       1.00      1.00      1.00       141\n",
            "     Noise_40_OR021_6_1_239       0.99      1.00      1.00       144\n",
            "Noise_40__Time_Normal_1_098       1.00      1.00      1.00       127\n",
            "\n",
            "                   accuracy                           1.00      1256\n",
            "                  macro avg       1.00      1.00      1.00      1256\n",
            "               weighted avg       1.00      1.00      1.00      1256\n",
            "\n",
            "Classification Report - Test Set:\n",
            "                             precision    recall  f1-score   support\n",
            "\n",
            "        Noise_40_B007_1_123       1.00      1.00      1.00        27\n",
            "        Noise_40_B014_1_190       1.00      1.00      1.00        29\n",
            "        Noise_40_B021_1_227       1.00      1.00      1.00        42\n",
            "       Noise_40_IR007_1_110       1.00      1.00      1.00        43\n",
            "       Noise_40_IR021_1_214       1.00      1.00      1.00        27\n",
            "     Noise_40_OR007_6_1_136       1.00      1.00      1.00        48\n",
            "     Noise_40_OR014_6_1_202       1.00      1.00      1.00        39\n",
            "     Noise_40_OR021_6_1_239       1.00      1.00      1.00        26\n",
            "Noise_40__Time_Normal_1_098       1.00      1.00      1.00        33\n",
            "\n",
            "                   accuracy                           1.00       314\n",
            "                  macro avg       1.00      1.00      1.00       314\n",
            "               weighted avg       1.00      1.00      1.00       314\n",
            "\n"
          ]
        },
        {
          "output_type": "display_data",
          "data": {
            "text/plain": [
              "<Figure size 1500x500 with 2 Axes>"
            ],
            "image/png": "[encoded data removed]"
          },
          "metadata": {}
        },
        {
          "output_type": "stream",
          "name": "stdout",
          "text": [
            "Deployment Duration: 0:03:22.423336\n"
          ]
        }
      ]
    },
    {
      "cell_type": "code",
      "source": [
        "final_model.fit(X_train, y_train, eval_set=(X_test, y_test))\n",
        "\n",
        "# Evaluate train accuracy\n",
        "result_train = final_model.score(X_train, y_train)\n",
        "print(\"Train Accuracy : {}\".format(result_train))\n",
        "\n",
        "# Evaluate test accuracy\n",
        "result_test = final_model.score(X_test, y_test)\n",
        "print(\"Test Accuracy : {}\".format(result_test))\n",
        "\n",
        "# Predictions\n",
        "y_pred_train = final_model.predict(X_train)\n",
        "y_pred_test = final_model.predict(X_test)\n",
        "\n",
        "# Classification report\n",
        "print(\"Classification Report - Training Set:\")\n",
        "print(classification_report(y_train, y_pred_train))\n",
        "\n",
        "print(\"Classification Report - Test Set:\")\n",
        "print(classification_report(y_test, y_pred_test))"
      ],
      "metadata": {
        "id": "tEOwmxFROH5f",
        "colab": {
          "base_uri": "https://localhost:8080/"
        },
        "outputId": "7f3247ca-48c4-4797-e350-e30e4eaf94e8"
      },
      "id": "tEOwmxFROH5f",
      "execution_count": 132,
      "outputs": [
        {
          "output_type": "stream",
          "name": "stdout",
          "text": [
            "0:\tlearn: 2.1434354\ttest: 2.1427332\tbest: 2.1427332 (0)\ttotal: 30.7ms\tremaining: 9.19s\n",
            "10:\tlearn: 1.7399000\ttest: 1.7364280\tbest: 1.7364280 (10)\ttotal: 289ms\tremaining: 7.6s\n",
            "20:\tlearn: 1.4611527\ttest: 1.4544156\tbest: 1.4544156 (20)\ttotal: 556ms\tremaining: 7.38s\n",
            "30:\tlearn: 1.2521845\ttest: 1.2440541\tbest: 1.2440541 (30)\ttotal: 831ms\tremaining: 7.21s\n",
            "40:\tlearn: 1.0828277\ttest: 1.0758578\tbest: 1.0758578 (40)\ttotal: 1.11s\tremaining: 7.02s\n",
            "50:\tlearn: 0.9514925\ttest: 0.9447753\tbest: 0.9447753 (50)\ttotal: 1.38s\tremaining: 6.74s\n",
            "60:\tlearn: 0.8361278\ttest: 0.8295565\tbest: 0.8295565 (60)\ttotal: 1.68s\tremaining: 6.58s\n",
            "70:\tlearn: 0.7404538\ttest: 0.7337627\tbest: 0.7337627 (70)\ttotal: 2.1s\tremaining: 6.77s\n",
            "80:\tlearn: 0.6599759\ttest: 0.6531723\tbest: 0.6531723 (80)\ttotal: 2.37s\tremaining: 6.42s\n",
            "90:\tlearn: 0.5909254\ttest: 0.5835201\tbest: 0.5835201 (90)\ttotal: 2.7s\tremaining: 6.19s\n",
            "100:\tlearn: 0.5327095\ttest: 0.5255204\tbest: 0.5255204 (100)\ttotal: 3.11s\tremaining: 6.12s\n",
            "110:\tlearn: 0.4799651\ttest: 0.4726406\tbest: 0.4726406 (110)\ttotal: 3.54s\tremaining: 6.02s\n",
            "120:\tlearn: 0.4351236\ttest: 0.4275185\tbest: 0.4275185 (120)\ttotal: 3.93s\tremaining: 5.82s\n",
            "130:\tlearn: 0.3954527\ttest: 0.3883379\tbest: 0.3883379 (130)\ttotal: 4.37s\tremaining: 5.64s\n",
            "140:\tlearn: 0.3603128\ttest: 0.3535798\tbest: 0.3535798 (140)\ttotal: 4.88s\tremaining: 5.51s\n",
            "150:\tlearn: 0.3281618\ttest: 0.3214081\tbest: 0.3214081 (150)\ttotal: 5.3s\tremaining: 5.24s\n",
            "160:\tlearn: 0.3009061\ttest: 0.2942302\tbest: 0.2942302 (160)\ttotal: 5.72s\tremaining: 4.94s\n",
            "170:\tlearn: 0.2752194\ttest: 0.2686958\tbest: 0.2686958 (170)\ttotal: 6s\tremaining: 4.53s\n",
            "180:\tlearn: 0.2524053\ttest: 0.2456807\tbest: 0.2456807 (180)\ttotal: 6.32s\tremaining: 4.15s\n",
            "190:\tlearn: 0.2332061\ttest: 0.2264076\tbest: 0.2264076 (190)\ttotal: 6.59s\tremaining: 3.76s\n",
            "200:\tlearn: 0.2153955\ttest: 0.2087064\tbest: 0.2087064 (200)\ttotal: 6.88s\tremaining: 3.39s\n",
            "210:\tlearn: 0.1993913\ttest: 0.1927904\tbest: 0.1927904 (210)\ttotal: 7.25s\tremaining: 3.06s\n",
            "220:\tlearn: 0.1844431\ttest: 0.1779265\tbest: 0.1779265 (220)\ttotal: 7.53s\tremaining: 2.69s\n",
            "230:\tlearn: 0.1710354\ttest: 0.1645135\tbest: 0.1645135 (230)\ttotal: 7.79s\tremaining: 2.33s\n",
            "240:\tlearn: 0.1586676\ttest: 0.1522529\tbest: 0.1522529 (240)\ttotal: 8.03s\tremaining: 1.97s\n",
            "250:\tlearn: 0.1480244\ttest: 0.1417306\tbest: 0.1417306 (250)\ttotal: 8.35s\tremaining: 1.63s\n",
            "260:\tlearn: 0.1381547\ttest: 0.1320218\tbest: 0.1320218 (260)\ttotal: 8.66s\tremaining: 1.29s\n",
            "270:\tlearn: 0.1292834\ttest: 0.1233202\tbest: 0.1233202 (270)\ttotal: 9.01s\tremaining: 965ms\n",
            "280:\tlearn: 0.1216622\ttest: 0.1156882\tbest: 0.1156882 (280)\ttotal: 9.36s\tremaining: 633ms\n",
            "290:\tlearn: 0.1144099\ttest: 0.1086074\tbest: 0.1086074 (290)\ttotal: 9.63s\tremaining: 298ms\n",
            "299:\tlearn: 0.1081416\ttest: 0.1024316\tbest: 0.1024316 (299)\ttotal: 9.88s\tremaining: 0us\n",
            "\n",
            "bestTest = 0.1024316287\n",
            "bestIteration = 299\n",
            "\n",
            "Train Accuracy : 0.9968152866242038\n",
            "Test Accuracy : 1.0\n",
            "Classification Report - Training Set:\n",
            "                             precision    recall  f1-score   support\n",
            "\n",
            "        Noise_40_B007_1_123       1.00      1.00      1.00       158\n",
            "        Noise_40_B014_1_190       1.00      0.97      0.99       154\n",
            "        Noise_40_B021_1_227       0.98      1.00      0.99       146\n",
            "       Noise_40_IR007_1_110       1.00      1.00      1.00       142\n",
            "       Noise_40_IR021_1_214       1.00      1.00      1.00       110\n",
            "     Noise_40_OR007_6_1_136       1.00      1.00      1.00       134\n",
            "     Noise_40_OR014_6_1_202       1.00      1.00      1.00       141\n",
            "     Noise_40_OR021_6_1_239       0.99      1.00      1.00       144\n",
            "Noise_40__Time_Normal_1_098       1.00      1.00      1.00       127\n",
            "\n",
            "                   accuracy                           1.00      1256\n",
            "                  macro avg       1.00      1.00      1.00      1256\n",
            "               weighted avg       1.00      1.00      1.00      1256\n",
            "\n",
            "Classification Report - Test Set:\n",
            "                             precision    recall  f1-score   support\n",
            "\n",
            "        Noise_40_B007_1_123       1.00      1.00      1.00        27\n",
            "        Noise_40_B014_1_190       1.00      1.00      1.00        29\n",
            "        Noise_40_B021_1_227       1.00      1.00      1.00        42\n",
            "       Noise_40_IR007_1_110       1.00      1.00      1.00        43\n",
            "       Noise_40_IR021_1_214       1.00      1.00      1.00        27\n",
            "     Noise_40_OR007_6_1_136       1.00      1.00      1.00        48\n",
            "     Noise_40_OR014_6_1_202       1.00      1.00      1.00        39\n",
            "     Noise_40_OR021_6_1_239       1.00      1.00      1.00        26\n",
            "Noise_40__Time_Normal_1_098       1.00      1.00      1.00        33\n",
            "\n",
            "                   accuracy                           1.00       314\n",
            "                  macro avg       1.00      1.00      1.00       314\n",
            "               weighted avg       1.00      1.00      1.00       314\n",
            "\n"
          ]
        }
      ]
    }
  ],
  "metadata": {
    "kernelspec": {
      "display_name": "Python 3",
      "name": "python3"
    },
    "language_info": {
      "codemirror_mode": {
        "name": "ipython",
        "version": 3
      },
      "file_extension": ".py",
      "mimetype": "text/x-python",
      "name": "python",
      "nbconvert_exporter": "python",
      "pygments_lexer": "ipython3",
      "version": "3.11.2"
    },
    "colab": {
      "provenance": [],
      "gpuType": "T4",
      "include_colab_link": true
    },
    "accelerator": "GPU",
    "widgets": {
      "application/vnd.jupyter.widget-state+json": {
        "c1cfe02917ca4289a5f250a214e1786d": {
          "model_module": "catboost-widget",
          "model_name": "CatboostWidgetModel",
          "model_module_version": "^1.0.0",
          "state": {
            "_dom_classes": [],
            "_model_module": "catboost-widget",
            "_model_module_version": "^1.0.0",
            "_model_name": "CatboostWidgetModel",
            "_view_count": null,
            "_view_module": "catboost-widget",
            "_view_module_version": "^1.0.0",
            "_view_name": "CatboostWidgetView",
            "data": {
              "catboost_info": {
                "path": "catboost_info",
                "name": "catboost_info",
                "content": {
                  "passed_iterations": 299,
                  "total_iterations": 300,
                  "data": {
                    "iterations": [
                      {
                        "learn": [
                          2.143435392
                        ],
                        "iteration": 0,
                        "passed_time": 0.01343079576,
                        "remaining_time": 4.015807932,
                        "test": [
                          2.142733248
                        ]
                      },
                      {
                        "learn": [
                          2.090053041
                        ],
                        "iteration": 1,
                        "passed_time": 0.02807778298,
                        "remaining_time": 4.183589664,
                        "test": [
                          2.087526287
                        ]
                      },
                      {
                        "learn": [
                          2.043940757
                        ],
                        "iteration": 2,
                        "passed_time": 0.04001187787,
                        "remaining_time": 3.961175909,
                        "test": [
                          2.042892872
                        ]
                      },
                      {
                        "learn": [
                          1.995381925
                        ],
                        "iteration": 3,
                        "passed_time": 0.05162776543,
                        "remaining_time": 3.820454642,
                        "test": [
                          1.994006928
                        ]
                      },
                      {
                        "learn": [
                          1.949576358
                        ],
                        "iteration": 4,
                        "passed_time": 0.0633044761,
                        "remaining_time": 3.73496409,
                        "test": [
                          1.94741272
                        ]
                      },
                      {
                        "learn": [
                          1.916222224
                        ],
                        "iteration": 5,
                        "passed_time": 0.0753691337,
                        "remaining_time": 3.693087551,
                        "test": [
                          1.913377376
                        ]
                      },
                      {
                        "learn": [
                          1.8788584
                        ],
                        "iteration": 6,
                        "passed_time": 0.08718970477,
                        "remaining_time": 3.649511928,
                        "test": [
                          1.875744504
                        ]
                      },
                      {
                        "learn": [
                          1.836048906
                        ],
                        "iteration": 7,
                        "passed_time": 0.09935614159,
                        "remaining_time": 3.626499168,
                        "test": [
                          1.833001889
                        ]
                      },
                      {
                        "learn": [
                          1.810788853
                        ],
                        "iteration": 8,
                        "passed_time": 0.1135340817,
                        "remaining_time": 3.670935309,
                        "test": [
                          1.808189001
                        ]
                      },
                      {
                        "learn": [
                          1.771127369
                        ],
                        "iteration": 9,
                        "passed_time": 0.1250431938,
                        "remaining_time": 3.62625262,
                        "test": [
                          1.767889567
                        ]
                      },
                      {
                        "learn": [
                          1.739899966
                        ],
                        "iteration": 10,
                        "passed_time": 0.1365437574,
                        "remaining_time": 3.5873769,
                        "test": [
                          1.736427962
                        ]
                      },
                      {
                        "learn": [
                          1.710935405
                        ],
                        "iteration": 11,
                        "passed_time": 0.1487881333,
                        "remaining_time": 3.570915198,
                        "test": [
                          1.707196549
                        ]
                      },
                      {
                        "learn": [
                          1.677888893
                        ],
                        "iteration": 12,
                        "passed_time": 0.1609861327,
                        "remaining_time": 3.554078468,
                        "test": [
                          1.674032757
                        ]
                      },
                      {
                        "learn": [
                          1.646078381
                        ],
                        "iteration": 13,
                        "passed_time": 0.172830122,
                        "remaining_time": 3.530672492,
                        "test": [
                          1.641650654
                        ]
                      },
                      {
                        "learn": [
                          1.618884822
                        ],
                        "iteration": 14,
                        "passed_time": 0.1867200183,
                        "remaining_time": 3.547680348,
                        "test": [
                          1.614343925
                        ]
                      },
                      {
                        "learn": [
                          1.589673205
                        ],
                        "iteration": 15,
                        "passed_time": 0.1986193944,
                        "remaining_time": 3.525494251,
                        "test": [
                          1.584622906
                        ]
                      },
                      {
                        "learn": [
                          1.557871686
                        ],
                        "iteration": 16,
                        "passed_time": 0.2104427506,
                        "remaining_time": 3.503252849,
                        "test": [
                          1.552382058
                        ]
                      },
                      {
                        "learn": [
                          1.534553917
                        ],
                        "iteration": 17,
                        "passed_time": 0.2247535156,
                        "remaining_time": 3.521138411,
                        "test": [
                          1.528470545
                        ]
                      },
                      {
                        "learn": [
                          1.508086223
                        ],
                        "iteration": 18,
                        "passed_time": 0.2370131582,
                        "remaining_time": 3.505299866,
                        "test": [
                          1.501845398
                        ]
                      },
                      {
                        "learn": [
                          1.484548961
                        ],
                        "iteration": 19,
                        "passed_time": 0.2487861858,
                        "remaining_time": 3.483006601,
                        "test": [
                          1.478279508
                        ]
                      },
                      {
                        "learn": [
                          1.461152698
                        ],
                        "iteration": 20,
                        "passed_time": 0.2605243486,
                        "remaining_time": 3.461252061,
                        "test": [
                          1.454415586
                        ]
                      },
                      {
                        "learn": [
                          1.43835375
                        ],
                        "iteration": 21,
                        "passed_time": 0.2723744782,
                        "remaining_time": 3.441822952,
                        "test": [
                          1.431056372
                        ]
                      },
                      {
                        "learn": [
                          1.416653689
                        ],
                        "iteration": 22,
                        "passed_time": 0.2840752541,
                        "remaining_time": 3.421254148,
                        "test": [
                          1.409234168
                        ]
                      },
                      {
                        "learn": [
                          1.395026884
                        ],
                        "iteration": 23,
                        "passed_time": 0.2958675167,
                        "remaining_time": 3.402476443,
                        "test": [
                          1.387217551
                        ]
                      },
                      {
                        "learn": [
                          1.372369831
                        ],
                        "iteration": 24,
                        "passed_time": 0.3076561912,
                        "remaining_time": 3.384218103,
                        "test": [
                          1.364421573
                        ]
                      },
                      {
                        "learn": [
                          1.349635879
                        ],
                        "iteration": 25,
                        "passed_time": 0.3196431298,
                        "remaining_time": 3.368546829,
                        "test": [
                          1.341428985
                        ]
                      },
                      {
                        "learn": [
                          1.329703071
                        ],
                        "iteration": 26,
                        "passed_time": 0.3315130074,
                        "remaining_time": 3.351964852,
                        "test": [
                          1.32158749
                        ]
                      },
                      {
                        "learn": [
                          1.307676544
                        ],
                        "iteration": 27,
                        "passed_time": 0.3434457082,
                        "remaining_time": 3.336329737,
                        "test": [
                          1.299276211
                        ]
                      },
                      {
                        "learn": [
                          1.288410193
                        ],
                        "iteration": 28,
                        "passed_time": 0.3549198525,
                        "remaining_time": 3.316664828,
                        "test": [
                          1.279853579
                        ]
                      },
                      {
                        "learn": [
                          1.269044036
                        ],
                        "iteration": 29,
                        "passed_time": 0.3663823351,
                        "remaining_time": 3.297441016,
                        "test": [
                          1.260789047
                        ]
                      },
                      {
                        "learn": [
                          1.252184507
                        ],
                        "iteration": 30,
                        "passed_time": 0.378840935,
                        "remaining_time": 3.287361662,
                        "test": [
                          1.244054082
                        ]
                      },
                      {
                        "learn": [
                          1.234879846
                        ],
                        "iteration": 31,
                        "passed_time": 0.3908673816,
                        "remaining_time": 3.273514321,
                        "test": [
                          1.227588305
                        ]
                      },
                      {
                        "learn": [
                          1.216010023
                        ],
                        "iteration": 32,
                        "passed_time": 0.402732607,
                        "remaining_time": 3.258472911,
                        "test": [
                          1.208577977
                        ]
                      },
                      {
                        "learn": [
                          1.198333163
                        ],
                        "iteration": 33,
                        "passed_time": 0.4145990444,
                        "remaining_time": 3.243627818,
                        "test": [
                          1.191067413
                        ]
                      },
                      {
                        "learn": [
                          1.180229162
                        ],
                        "iteration": 34,
                        "passed_time": 0.4258957076,
                        "remaining_time": 3.224638929,
                        "test": [
                          1.173144652
                        ]
                      },
                      {
                        "learn": [
                          1.16246012
                        ],
                        "iteration": 35,
                        "passed_time": 0.4371113585,
                        "remaining_time": 3.205483296,
                        "test": [
                          1.155450146
                        ]
                      },
                      {
                        "learn": [
                          1.145569123
                        ],
                        "iteration": 36,
                        "passed_time": 0.44845282,
                        "remaining_time": 3.187651126,
                        "test": [
                          1.138486487
                        ]
                      },
                      {
                        "learn": [
                          1.129976818
                        ],
                        "iteration": 37,
                        "passed_time": 0.4598953007,
                        "remaining_time": 3.170857073,
                        "test": [
                          1.123072827
                        ]
                      },
                      {
                        "learn": [
                          1.114951421
                        ],
                        "iteration": 38,
                        "passed_time": 0.4719290387,
                        "remaining_time": 3.158294336,
                        "test": [
                          1.107908288
                        ]
                      },
                      {
                        "learn": [
                          1.098564472
                        ],
                        "iteration": 39,
                        "passed_time": 0.4834553876,
                        "remaining_time": 3.14246002,
                        "test": [
                          1.091358674
                        ]
                      },
                      {
                        "learn": [
                          1.082827739
                        ],
                        "iteration": 40,
                        "passed_time": 0.495008896,
                        "remaining_time": 3.127007416,
                        "test": [
                          1.075857775
                        ]
                      },
                      {
                        "learn": [
                          1.067582434
                        ],
                        "iteration": 41,
                        "passed_time": 0.5065520988,
                        "remaining_time": 3.111677178,
                        "test": [
                          1.060962747
                        ]
                      },
                      {
                        "learn": [
                          1.054496851
                        ],
                        "iteration": 42,
                        "passed_time": 0.5181824651,
                        "remaining_time": 3.097044036,
                        "test": [
                          1.047790797
                        ]
                      },
                      {
                        "learn": [
                          1.043356245
                        ],
                        "iteration": 43,
                        "passed_time": 0.5298559336,
                        "remaining_time": 3.082798159,
                        "test": [
                          1.037023795
                        ]
                      },
                      {
                        "learn": [
                          1.028210671
                        ],
                        "iteration": 44,
                        "passed_time": 0.5415440559,
                        "remaining_time": 3.06874965,
                        "test": [
                          1.021725806
                        ]
                      },
                      {
                        "learn": [
                          1.013614019
                        ],
                        "iteration": 45,
                        "passed_time": 0.5532184244,
                        "remaining_time": 3.054727822,
                        "test": [
                          1.007035216
                        ]
                      },
                      {
                        "learn": [
                          0.999499689
                        ],
                        "iteration": 46,
                        "passed_time": 0.5645869933,
                        "remaining_time": 3.039159772,
                        "test": [
                          0.9926840089
                        ]
                      },
                      {
                        "learn": [
                          0.9865793878
                        ],
                        "iteration": 47,
                        "passed_time": 0.5758354929,
                        "remaining_time": 3.023136338,
                        "test": [
                          0.9794751506
                        ]
                      },
                      {
                        "learn": [
                          0.9740868983
                        ],
                        "iteration": 48,
                        "passed_time": 0.5893800796,
                        "remaining_time": 3.019069387,
                        "test": [
                          0.9669182641
                        ]
                      },
                      {
                        "learn": [
                          0.962867039
                        ],
                        "iteration": 49,
                        "passed_time": 0.6009962631,
                        "remaining_time": 3.004981316,
                        "test": [
                          0.9559994911
                        ]
                      },
                      {
                        "learn": [
                          0.9514924906
                        ],
                        "iteration": 50,
                        "passed_time": 0.6126948839,
                        "remaining_time": 2.991392669,
                        "test": [
                          0.9447753233
                        ]
                      },
                      {
                        "learn": [
                          0.9384062965
                        ],
                        "iteration": 51,
                        "passed_time": 0.6239687769,
                        "remaining_time": 2.97585109,
                        "test": [
                          0.9320312938
                        ]
                      },
                      {
                        "learn": [
                          0.9257567176
                        ],
                        "iteration": 52,
                        "passed_time": 0.635536446,
                        "remaining_time": 2.961839663,
                        "test": [
                          0.9192299941
                        ]
                      },
                      {
                        "learn": [
                          0.9145971282
                        ],
                        "iteration": 53,
                        "passed_time": 0.6472108925,
                        "remaining_time": 2.948405177,
                        "test": [
                          0.908090593
                        ]
                      },
                      {
                        "learn": [
                          0.9029398592
                        ],
                        "iteration": 54,
                        "passed_time": 0.659136509,
                        "remaining_time": 2.93615354,
                        "test": [
                          0.8964339126
                        ]
                      },
                      {
                        "learn": [
                          0.8917913043
                        ],
                        "iteration": 55,
                        "passed_time": 0.6705610577,
                        "remaining_time": 2.921730323,
                        "test": [
                          0.8853143895
                        ]
                      },
                      {
                        "learn": [
                          0.8800748472
                        ],
                        "iteration": 56,
                        "passed_time": 0.6822860439,
                        "remaining_time": 2.908693134,
                        "test": [
                          0.8739963544
                        ]
                      },
                      {
                        "learn": [
                          0.868449517
                        ],
                        "iteration": 57,
                        "passed_time": 0.6955392535,
                        "remaining_time": 2.902077575,
                        "test": [
                          0.8623225137
                        ]
                      },
                      {
                        "learn": [
                          0.8570725278
                        ],
                        "iteration": 58,
                        "passed_time": 0.707426293,
                        "remaining_time": 2.889656553,
                        "test": [
                          0.8508275536
                        ]
                      },
                      {
                        "learn": [
                          0.8462008884
                        ],
                        "iteration": 59,
                        "passed_time": 0.7189787183,
                        "remaining_time": 2.875914873,
                        "test": [
                          0.839753573
                        ]
                      },
                      {
                        "learn": [
                          0.83612784
                        ],
                        "iteration": 60,
                        "passed_time": 0.7306669786,
                        "remaining_time": 2.862777178,
                        "test": [
                          0.8295565499
                        ]
                      },
                      {
                        "learn": [
                          0.8266302619
                        ],
                        "iteration": 61,
                        "passed_time": 0.7436570257,
                        "remaining_time": 2.854683421,
                        "test": [
                          0.8198691301
                        ]
                      },
                      {
                        "learn": [
                          0.8158712743
                        ],
                        "iteration": 62,
                        "passed_time": 0.7556876005,
                        "remaining_time": 2.842824783,
                        "test": [
                          0.809119071
                        ]
                      },
                      {
                        "learn": [
                          0.805581391
                        ],
                        "iteration": 63,
                        "passed_time": 0.7673424181,
                        "remaining_time": 2.829575167,
                        "test": [
                          0.7989977019
                        ]
                      },
                      {
                        "learn": [
                          0.7961033004
                        ],
                        "iteration": 64,
                        "passed_time": 0.7788511091,
                        "remaining_time": 2.815846318,
                        "test": [
                          0.7895949855
                        ]
                      },
                      {
                        "learn": [
                          0.7863627155
                        ],
                        "iteration": 65,
                        "passed_time": 0.7909078943,
                        "remaining_time": 2.804127989,
                        "test": [
                          0.7797269985
                        ]
                      },
                      {
                        "learn": [
                          0.7766335534
                        ],
                        "iteration": 66,
                        "passed_time": 0.803227668,
                        "remaining_time": 2.793314129,
                        "test": [
                          0.7700090768
                        ]
                      },
                      {
                        "learn": [
                          0.7675170542
                        ],
                        "iteration": 67,
                        "passed_time": 0.8160267163,
                        "remaining_time": 2.78409115,
                        "test": [
                          0.7609248002
                        ]
                      },
                      {
                        "learn": [
                          0.7585787267
                        ],
                        "iteration": 68,
                        "passed_time": 0.8285301425,
                        "remaining_time": 2.773774825,
                        "test": [
                          0.751851643
                        ]
                      },
                      {
                        "learn": [
                          0.7494557569
                        ],
                        "iteration": 69,
                        "passed_time": 0.8402486163,
                        "remaining_time": 2.760816882,
                        "test": [
                          0.7426925057
                        ]
                      },
                      {
                        "learn": [
                          0.7404537558
                        ],
                        "iteration": 70,
                        "passed_time": 0.8554326631,
                        "remaining_time": 2.759071547,
                        "test": [
                          0.7337627068
                        ]
                      },
                      {
                        "learn": [
                          0.7313287253
                        ],
                        "iteration": 71,
                        "passed_time": 0.8792165686,
                        "remaining_time": 2.7841858,
                        "test": [
                          0.7245520259
                        ]
                      },
                      {
                        "learn": [
                          0.7226480893
                        ],
                        "iteration": 72,
                        "passed_time": 0.8919635182,
                        "remaining_time": 2.773639981,
                        "test": [
                          0.7158136336
                        ]
                      },
                      {
                        "learn": [
                          0.7149150553
                        ],
                        "iteration": 73,
                        "passed_time": 0.903682404,
                        "remaining_time": 2.75989491,
                        "test": [
                          0.7081823944
                        ]
                      },
                      {
                        "learn": [
                          0.7062954522
                        ],
                        "iteration": 74,
                        "passed_time": 0.9154075932,
                        "remaining_time": 2.74622278,
                        "test": [
                          0.6995816421
                        ]
                      },
                      {
                        "learn": [
                          0.6978897271
                        ],
                        "iteration": 75,
                        "passed_time": 0.9272156706,
                        "remaining_time": 2.732846187,
                        "test": [
                          0.6911381975
                        ]
                      },
                      {
                        "learn": [
                          0.6899282959
                        ],
                        "iteration": 76,
                        "passed_time": 0.9419903004,
                        "remaining_time": 2.728101779,
                        "test": [
                          0.6830605691
                        ]
                      },
                      {
                        "learn": [
                          0.6823893011
                        ],
                        "iteration": 77,
                        "passed_time": 0.9532077645,
                        "remaining_time": 2.712975945,
                        "test": [
                          0.6757403978
                        ]
                      },
                      {
                        "learn": [
                          0.6744704702
                        ],
                        "iteration": 78,
                        "passed_time": 0.9645973404,
                        "remaining_time": 2.698430535,
                        "test": [
                          0.667826766
                        ]
                      },
                      {
                        "learn": [
                          0.6675508377
                        ],
                        "iteration": 79,
                        "passed_time": 0.9762228355,
                        "remaining_time": 2.684612798,
                        "test": [
                          0.6608030835
                        ]
                      },
                      {
                        "learn": [
                          0.6599759077
                        ],
                        "iteration": 80,
                        "passed_time": 0.991675045,
                        "remaining_time": 2.681195492,
                        "test": [
                          0.6531722971
                        ]
                      },
                      {
                        "learn": [
                          0.6523524593
                        ],
                        "iteration": 81,
                        "passed_time": 1.005893048,
                        "remaining_time": 2.67420347,
                        "test": [
                          0.6454899914
                        ]
                      },
                      {
                        "learn": [
                          0.6452277004
                        ],
                        "iteration": 82,
                        "passed_time": 1.019188603,
                        "remaining_time": 2.664625625,
                        "test": [
                          0.6382222944
                        ]
                      },
                      {
                        "learn": [
                          0.6380185783
                        ],
                        "iteration": 83,
                        "passed_time": 1.030563857,
                        "remaining_time": 2.650021347,
                        "test": [
                          0.6309738813
                        ]
                      },
                      {
                        "learn": [
                          0.6307584444
                        ],
                        "iteration": 84,
                        "passed_time": 1.042548441,
                        "remaining_time": 2.637034291,
                        "test": [
                          0.6236351855
                        ]
                      },
                      {
                        "learn": [
                          0.6241848398
                        ],
                        "iteration": 85,
                        "passed_time": 1.054471267,
                        "remaining_time": 2.623916874,
                        "test": [
                          0.6169902665
                        ]
                      },
                      {
                        "learn": [
                          0.6174007731
                        ],
                        "iteration": 86,
                        "passed_time": 1.066516644,
                        "remaining_time": 2.611126955,
                        "test": [
                          0.6102071059
                        ]
                      },
                      {
                        "learn": [
                          0.610575584
                        ],
                        "iteration": 87,
                        "passed_time": 1.078271841,
                        "remaining_time": 2.597654891,
                        "test": [
                          0.6034097044
                        ]
                      },
                      {
                        "learn": [
                          0.604033918
                        ],
                        "iteration": 88,
                        "passed_time": 1.090524183,
                        "remaining_time": 2.585400028,
                        "test": [
                          0.5967865784
                        ]
                      },
                      {
                        "learn": [
                          0.5972630863
                        ],
                        "iteration": 89,
                        "passed_time": 1.105413733,
                        "remaining_time": 2.579298711,
                        "test": [
                          0.5899117832
                        ]
                      },
                      {
                        "learn": [
                          0.5909254018
                        ],
                        "iteration": 90,
                        "passed_time": 1.117490711,
                        "remaining_time": 2.566544599,
                        "test": [
                          0.5835201166
                        ]
                      },
                      {
                        "learn": [
                          0.5842603009
                        ],
                        "iteration": 91,
                        "passed_time": 1.129604975,
                        "remaining_time": 2.553889508,
                        "test": [
                          0.5769226463
                        ]
                      },
                      {
                        "learn": [
                          0.5782886191
                        ],
                        "iteration": 92,
                        "passed_time": 1.141783757,
                        "remaining_time": 2.541389653,
                        "test": [
                          0.5710492698
                        ]
                      },
                      {
                        "learn": [
                          0.5718559754
                        ],
                        "iteration": 93,
                        "passed_time": 1.153473579,
                        "remaining_time": 2.527825078,
                        "test": [
                          0.5646934095
                        ]
                      },
                      {
                        "learn": [
                          0.5664678567
                        ],
                        "iteration": 94,
                        "passed_time": 1.165528162,
                        "remaining_time": 2.515087085,
                        "test": [
                          0.5594194079
                        ]
                      },
                      {
                        "learn": [
                          0.5612038673
                        ],
                        "iteration": 95,
                        "passed_time": 1.177542691,
                        "remaining_time": 2.502278217,
                        "test": [
                          0.5540731166
                        ]
                      },
                      {
                        "learn": [
                          0.5559223622
                        ],
                        "iteration": 96,
                        "passed_time": 1.189423971,
                        "remaining_time": 2.489206867,
                        "test": [
                          0.5487893071
                        ]
                      },
                      {
                        "learn": [
                          0.5499994733
                        ],
                        "iteration": 97,
                        "passed_time": 1.201255857,
                        "remaining_time": 2.476057992,
                        "test": [
                          0.5428285374
                        ]
                      },
                      {
                        "learn": [
                          0.5439583739
                        ],
                        "iteration": 98,
                        "passed_time": 1.215263937,
                        "remaining_time": 2.467354054,
                        "test": [
                          0.536781858
                        ]
                      },
                      {
                        "learn": [
                          0.5381031396
                        ],
                        "iteration": 99,
                        "passed_time": 1.227533295,
                        "remaining_time": 2.45506659,
                        "test": [
                          0.5308752201
                        ]
                      },
                      {
                        "learn": [
                          0.5327095379
                        ],
                        "iteration": 100,
                        "passed_time": 1.239596815,
                        "remaining_time": 2.442373924,
                        "test": [
                          0.5255204137
                        ]
                      },
                      {
                        "learn": [
                          0.5271402244
                        ],
                        "iteration": 101,
                        "passed_time": 1.25159585,
                        "remaining_time": 2.429568414,
                        "test": [
                          0.5199481607
                        ]
                      },
                      {
                        "learn": [
                          0.5217019477
                        ],
                        "iteration": 102,
                        "passed_time": 1.263588972,
                        "remaining_time": 2.416767256,
                        "test": [
                          0.5145819058
                        ]
                      },
                      {
                        "learn": [
                          0.5162516505
                        ],
                        "iteration": 103,
                        "passed_time": 1.275226215,
                        "remaining_time": 2.403310944,
                        "test": [
                          0.5091482041
                        ]
                      },
                      {
                        "learn": [
                          0.5109485146
                        ],
                        "iteration": 104,
                        "passed_time": 1.287321734,
                        "remaining_time": 2.390740364,
                        "test": [
                          0.5037858442
                        ]
                      },
                      {
                        "learn": [
                          0.5053374521
                        ],
                        "iteration": 105,
                        "passed_time": 1.299143255,
                        "remaining_time": 2.377677277,
                        "test": [
                          0.4980931309
                        ]
                      },
                      {
                        "learn": [
                          0.5000468049
                        ],
                        "iteration": 106,
                        "passed_time": 1.311213224,
                        "remaining_time": 2.365085536,
                        "test": [
                          0.4927489553
                        ]
                      },
                      {
                        "learn": [
                          0.4948254416
                        ],
                        "iteration": 107,
                        "passed_time": 1.326575084,
                        "remaining_time": 2.358355706,
                        "test": [
                          0.487498542
                        ]
                      },
                      {
                        "learn": [
                          0.4894956668
                        ],
                        "iteration": 108,
                        "passed_time": 1.338863587,
                        "remaining_time": 2.346082066,
                        "test": [
                          0.4821326127
                        ]
                      },
                      {
                        "learn": [
                          0.4848800724
                        ],
                        "iteration": 109,
                        "passed_time": 1.35071378,
                        "remaining_time": 2.333051075,
                        "test": [
                          0.4775488196
                        ]
                      },
                      {
                        "learn": [
                          0.4799650683
                        ],
                        "iteration": 110,
                        "passed_time": 1.362589512,
                        "remaining_time": 2.320084845,
                        "test": [
                          0.4726406043
                        ]
                      },
                      {
                        "learn": [
                          0.4750960117
                        ],
                        "iteration": 111,
                        "passed_time": 1.37647222,
                        "remaining_time": 2.310506941,
                        "test": [
                          0.4677486528
                        ]
                      },
                      {
                        "learn": [
                          0.4704508209
                        ],
                        "iteration": 112,
                        "passed_time": 1.388244833,
                        "remaining_time": 2.297360918,
                        "test": [
                          0.4630463547
                        ]
                      },
                      {
                        "learn": [
                          0.4656379128
                        ],
                        "iteration": 113,
                        "passed_time": 1.400225141,
                        "remaining_time": 2.284577861,
                        "test": [
                          0.4582337687
                        ]
                      },
                      {
                        "learn": [
                          0.461145313
                        ],
                        "iteration": 114,
                        "passed_time": 1.412085911,
                        "remaining_time": 2.271616465,
                        "test": [
                          0.4537626849
                        ]
                      },
                      {
                        "learn": [
                          0.4564532469
                        ],
                        "iteration": 115,
                        "passed_time": 1.42374711,
                        "remaining_time": 2.258357485,
                        "test": [
                          0.4490923416
                        ]
                      },
                      {
                        "learn": [
                          0.4523382779
                        ],
                        "iteration": 116,
                        "passed_time": 1.435747931,
                        "remaining_time": 2.24565702,
                        "test": [
                          0.4449025668
                        ]
                      },
                      {
                        "learn": [
                          0.4479454514
                        ],
                        "iteration": 117,
                        "passed_time": 1.447773906,
                        "remaining_time": 2.233007211,
                        "test": [
                          0.4404309253
                        ]
                      },
                      {
                        "learn": [
                          0.4435341817
                        ],
                        "iteration": 118,
                        "passed_time": 1.45974316,
                        "remaining_time": 2.220281614,
                        "test": [
                          0.4359578364
                        ]
                      },
                      {
                        "learn": [
                          0.4392717876
                        ],
                        "iteration": 119,
                        "passed_time": 1.471334457,
                        "remaining_time": 2.207001685,
                        "test": [
                          0.4316246024
                        ]
                      },
                      {
                        "learn": [
                          0.4351236486
                        ],
                        "iteration": 120,
                        "passed_time": 1.483025318,
                        "remaining_time": 2.193896958,
                        "test": [
                          0.4275185259
                        ]
                      },
                      {
                        "learn": [
                          0.4307087392
                        ],
                        "iteration": 121,
                        "passed_time": 1.494796126,
                        "remaining_time": 2.180932052,
                        "test": [
                          0.4231175703
                        ]
                      },
                      {
                        "learn": [
                          0.4268053085
                        ],
                        "iteration": 122,
                        "passed_time": 1.506255726,
                        "remaining_time": 2.167538728,
                        "test": [
                          0.4194153789
                        ]
                      },
                      {
                        "learn": [
                          0.4229303753
                        ],
                        "iteration": 123,
                        "passed_time": 1.517499087,
                        "remaining_time": 2.153869671,
                        "test": [
                          0.4154546272
                        ]
                      },
                      {
                        "learn": [
                          0.4189431143
                        ],
                        "iteration": 124,
                        "passed_time": 1.529052048,
                        "remaining_time": 2.140672867,
                        "test": [
                          0.4115909021
                        ]
                      },
                      {
                        "learn": [
                          0.4148331923
                        ],
                        "iteration": 125,
                        "passed_time": 1.54046762,
                        "remaining_time": 2.127312428,
                        "test": [
                          0.4076286889
                        ]
                      },
                      {
                        "learn": [
                          0.4110205386
                        ],
                        "iteration": 126,
                        "passed_time": 1.551816714,
                        "remaining_time": 2.113892059,
                        "test": [
                          0.4038257787
                        ]
                      },
                      {
                        "learn": [
                          0.4074387813
                        ],
                        "iteration": 127,
                        "passed_time": 1.563343503,
                        "remaining_time": 2.100742832,
                        "test": [
                          0.4003243289
                        ]
                      },
                      {
                        "learn": [
                          0.4033286337
                        ],
                        "iteration": 128,
                        "passed_time": 1.57458723,
                        "remaining_time": 2.087243538,
                        "test": [
                          0.3962586668
                        ]
                      },
                      {
                        "learn": [
                          0.3992830346
                        ],
                        "iteration": 129,
                        "passed_time": 1.587026852,
                        "remaining_time": 2.075342807,
                        "test": [
                          0.3922119354
                        ]
                      },
                      {
                        "learn": [
                          0.3954526914
                        ],
                        "iteration": 130,
                        "passed_time": 1.59868109,
                        "remaining_time": 2.062420643,
                        "test": [
                          0.3883378673
                        ]
                      },
                      {
                        "learn": [
                          0.3917485419
                        ],
                        "iteration": 131,
                        "passed_time": 1.610033702,
                        "remaining_time": 2.049133802,
                        "test": [
                          0.3847274665
                        ]
                      },
                      {
                        "learn": [
                          0.387996119
                        ],
                        "iteration": 132,
                        "passed_time": 1.62167032,
                        "remaining_time": 2.036232658,
                        "test": [
                          0.3809589962
                        ]
                      },
                      {
                        "learn": [
                          0.3840775441
                        ],
                        "iteration": 133,
                        "passed_time": 1.634889782,
                        "remaining_time": 2.025311223,
                        "test": [
                          0.3770623009
                        ]
                      },
                      {
                        "learn": [
                          0.3808742179
                        ],
                        "iteration": 134,
                        "passed_time": 1.646375877,
                        "remaining_time": 2.012237183,
                        "test": [
                          0.3738471052
                        ]
                      },
                      {
                        "learn": [
                          0.3775523295
                        ],
                        "iteration": 135,
                        "passed_time": 1.658042178,
                        "remaining_time": 1.999403803,
                        "test": [
                          0.3705411036
                        ]
                      },
                      {
                        "learn": [
                          0.3738599802
                        ],
                        "iteration": 136,
                        "passed_time": 1.669898204,
                        "remaining_time": 1.986813192,
                        "test": [
                          0.366860655
                        ]
                      },
                      {
                        "learn": [
                          0.3706230475
                        ],
                        "iteration": 137,
                        "passed_time": 1.681484705,
                        "remaining_time": 1.973916828,
                        "test": [
                          0.3637732053
                        ]
                      },
                      {
                        "learn": [
                          0.36704659
                        ],
                        "iteration": 138,
                        "passed_time": 1.697299327,
                        "remaining_time": 1.96593663,
                        "test": [
                          0.3602309114
                        ]
                      },
                      {
                        "learn": [
                          0.3638019667
                        ],
                        "iteration": 139,
                        "passed_time": 1.710219079,
                        "remaining_time": 1.95453609,
                        "test": [
                          0.3570012064
                        ]
                      },
                      {
                        "learn": [
                          0.3603128158
                        ],
                        "iteration": 140,
                        "passed_time": 1.721885518,
                        "remaining_time": 1.941700691,
                        "test": [
                          0.3535797938
                        ]
                      },
                      {
                        "learn": [
                          0.3569752516
                        ],
                        "iteration": 141,
                        "passed_time": 1.733678713,
                        "remaining_time": 1.929022793,
                        "test": [
                          0.3502023518
                        ]
                      },
                      {
                        "learn": [
                          0.3535208919
                        ],
                        "iteration": 142,
                        "passed_time": 1.745623043,
                        "remaining_time": 1.916523201,
                        "test": [
                          0.3467402705
                        ]
                      },
                      {
                        "learn": [
                          0.3502608818
                        ],
                        "iteration": 143,
                        "passed_time": 1.757221503,
                        "remaining_time": 1.903656628,
                        "test": [
                          0.3435120346
                        ]
                      },
                      {
                        "learn": [
                          0.3469407251
                        ],
                        "iteration": 144,
                        "passed_time": 1.768680215,
                        "remaining_time": 1.890658161,
                        "test": [
                          0.340141005
                        ]
                      },
                      {
                        "learn": [
                          0.3439095677
                        ],
                        "iteration": 145,
                        "passed_time": 1.780087784,
                        "remaining_time": 1.877626841,
                        "test": [
                          0.3370805763
                        ]
                      },
                      {
                        "learn": [
                          0.3405526795
                        ],
                        "iteration": 146,
                        "passed_time": 1.792185475,
                        "remaining_time": 1.865335902,
                        "test": [
                          0.3337247948
                        ]
                      },
                      {
                        "learn": [
                          0.3373244538
                        ],
                        "iteration": 147,
                        "passed_time": 1.804018466,
                        "remaining_time": 1.852775722,
                        "test": [
                          0.3305479428
                        ]
                      },
                      {
                        "learn": [
                          0.3342837097
                        ],
                        "iteration": 148,
                        "passed_time": 1.815906244,
                        "remaining_time": 1.840280824,
                        "test": [
                          0.327461673
                        ]
                      },
                      {
                        "learn": [
                          0.3311842425
                        ],
                        "iteration": 149,
                        "passed_time": 1.827556533,
                        "remaining_time": 1.827556533,
                        "test": [
                          0.3243941955
                        ]
                      },
                      {
                        "learn": [
                          0.3281618201
                        ],
                        "iteration": 150,
                        "passed_time": 1.841076762,
                        "remaining_time": 1.81669164,
                        "test": [
                          0.3214080724
                        ]
                      },
                      {
                        "learn": [
                          0.325277887
                        ],
                        "iteration": 151,
                        "passed_time": 1.852760273,
                        "remaining_time": 1.804003424,
                        "test": [
                          0.318515413
                        ]
                      },
                      {
                        "learn": [
                          0.3223334216
                        ],
                        "iteration": 152,
                        "passed_time": 1.864294843,
                        "remaining_time": 1.791185241,
                        "test": [
                          0.3155938033
                        ]
                      },
                      {
                        "learn": [
                          0.3196924098
                        ],
                        "iteration": 153,
                        "passed_time": 1.880762392,
                        "remaining_time": 1.783060449,
                        "test": [
                          0.3129536379
                        ]
                      },
                      {
                        "learn": [
                          0.3169533995
                        ],
                        "iteration": 154,
                        "passed_time": 1.902775065,
                        "remaining_time": 1.780015383,
                        "test": [
                          0.3102022615
                        ]
                      },
                      {
                        "learn": [
                          0.3145762415
                        ],
                        "iteration": 155,
                        "passed_time": 1.916339736,
                        "remaining_time": 1.768928987,
                        "test": [
                          0.3078745462
                        ]
                      },
                      {
                        "learn": [
                          0.3117670734
                        ],
                        "iteration": 156,
                        "passed_time": 1.928140067,
                        "remaining_time": 1.75620401,
                        "test": [
                          0.3051034146
                        ]
                      },
                      {
                        "learn": [
                          0.3088680204
                        ],
                        "iteration": 157,
                        "passed_time": 1.93967882,
                        "remaining_time": 1.743255649,
                        "test": [
                          0.3021867718
                        ]
                      },
                      {
                        "learn": [
                          0.3060596898
                        ],
                        "iteration": 158,
                        "passed_time": 1.951522223,
                        "remaining_time": 1.730595178,
                        "test": [
                          0.2993350799
                        ]
                      },
                      {
                        "learn": [
                          0.3035800322
                        ],
                        "iteration": 159,
                        "passed_time": 1.96328911,
                        "remaining_time": 1.717877971,
                        "test": [
                          0.2969117609
                        ]
                      },
                      {
                        "learn": [
                          0.3009061031
                        ],
                        "iteration": 160,
                        "passed_time": 1.975130605,
                        "remaining_time": 1.705236982,
                        "test": [
                          0.2942302245
                        ]
                      },
                      {
                        "learn": [
                          0.2981522332
                        ],
                        "iteration": 161,
                        "passed_time": 1.998808656,
                        "remaining_time": 1.702688855,
                        "test": [
                          0.2914632126
                        ]
                      },
                      {
                        "learn": [
                          0.295580543
                        ],
                        "iteration": 162,
                        "passed_time": 2.010864868,
                        "remaining_time": 1.690113417,
                        "test": [
                          0.2889635369
                        ]
                      },
                      {
                        "learn": [
                          0.292999876
                        ],
                        "iteration": 163,
                        "passed_time": 2.022605902,
                        "remaining_time": 1.677282943,
                        "test": [
                          0.2864289155
                        ]
                      },
                      {
                        "learn": [
                          0.290280036
                        ],
                        "iteration": 164,
                        "passed_time": 2.03422669,
                        "remaining_time": 1.664367292,
                        "test": [
                          0.2837609712
                        ]
                      },
                      {
                        "learn": [
                          0.2877222685
                        ],
                        "iteration": 165,
                        "passed_time": 2.048557428,
                        "remaining_time": 1.653654791,
                        "test": [
                          0.2811732473
                        ]
                      },
                      {
                        "learn": [
                          0.2851892792
                        ],
                        "iteration": 166,
                        "passed_time": 2.059995844,
                        "remaining_time": 1.640595493,
                        "test": [
                          0.2786422601
                        ]
                      },
                      {
                        "learn": [
                          0.282608357
                        ],
                        "iteration": 167,
                        "passed_time": 2.071193801,
                        "remaining_time": 1.627366558,
                        "test": [
                          0.276028351
                        ]
                      },
                      {
                        "learn": [
                          0.2801471386
                        ],
                        "iteration": 168,
                        "passed_time": 2.082828024,
                        "remaining_time": 1.614499829,
                        "test": [
                          0.2735967802
                        ]
                      },
                      {
                        "learn": [
                          0.277675116
                        ],
                        "iteration": 169,
                        "passed_time": 2.096146271,
                        "remaining_time": 1.602935384,
                        "test": [
                          0.2711044725
                        ]
                      },
                      {
                        "learn": [
                          0.2752193764
                        ],
                        "iteration": 170,
                        "passed_time": 2.107610424,
                        "remaining_time": 1.589951723,
                        "test": [
                          0.2686957658
                        ]
                      },
                      {
                        "learn": [
                          0.2727626958
                        ],
                        "iteration": 171,
                        "passed_time": 2.119196349,
                        "remaining_time": 1.577076353,
                        "test": [
                          0.2662172686
                        ]
                      },
                      {
                        "learn": [
                          0.2703242628
                        ],
                        "iteration": 172,
                        "passed_time": 2.130949875,
                        "remaining_time": 1.564338926,
                        "test": [
                          0.2637392538
                        ]
                      },
                      {
                        "learn": [
                          0.2678133578
                        ],
                        "iteration": 173,
                        "passed_time": 2.142172271,
                        "remaining_time": 1.551228196,
                        "test": [
                          0.261206457
                        ]
                      },
                      {
                        "learn": [
                          0.2655140266
                        ],
                        "iteration": 174,
                        "passed_time": 2.153498944,
                        "remaining_time": 1.538213532,
                        "test": [
                          0.2588775096
                        ]
                      },
                      {
                        "learn": [
                          0.2631973753
                        ],
                        "iteration": 175,
                        "passed_time": 2.164950544,
                        "remaining_time": 1.525306065,
                        "test": [
                          0.2565595223
                        ]
                      },
                      {
                        "learn": [
                          0.2612000766
                        ],
                        "iteration": 176,
                        "passed_time": 2.176130866,
                        "remaining_time": 1.512226534,
                        "test": [
                          0.2545321105
                        ]
                      },
                      {
                        "learn": [
                          0.2588772347
                        ],
                        "iteration": 177,
                        "passed_time": 2.187575905,
                        "remaining_time": 1.499349778,
                        "test": [
                          0.2521806654
                        ]
                      },
                      {
                        "learn": [
                          0.2567570065
                        ],
                        "iteration": 178,
                        "passed_time": 2.199724502,
                        "remaining_time": 1.486964608,
                        "test": [
                          0.2500359004
                        ]
                      },
                      {
                        "learn": [
                          0.2546287031
                        ],
                        "iteration": 179,
                        "passed_time": 2.211129087,
                        "remaining_time": 1.474086058,
                        "test": [
                          0.2478855759
                        ]
                      },
                      {
                        "learn": [
                          0.2524052812
                        ],
                        "iteration": 180,
                        "passed_time": 2.222624761,
                        "remaining_time": 1.461283683,
                        "test": [
                          0.2456807248
                        ]
                      },
                      {
                        "learn": [
                          0.2505299611
                        ],
                        "iteration": 181,
                        "passed_time": 2.234082828,
                        "remaining_time": 1.448471284,
                        "test": [
                          0.2438074946
                        ]
                      },
                      {
                        "learn": [
                          0.2484492215
                        ],
                        "iteration": 182,
                        "passed_time": 2.245355678,
                        "remaining_time": 1.435555269,
                        "test": [
                          0.2417519947
                        ]
                      },
                      {
                        "learn": [
                          0.2466407712
                        ],
                        "iteration": 183,
                        "passed_time": 2.256971739,
                        "remaining_time": 1.422873488,
                        "test": [
                          0.2399667621
                        ]
                      },
                      {
                        "learn": [
                          0.2448709037
                        ],
                        "iteration": 184,
                        "passed_time": 2.268963628,
                        "remaining_time": 1.41043685,
                        "test": [
                          0.2381793185
                        ]
                      },
                      {
                        "learn": [
                          0.2427772918
                        ],
                        "iteration": 185,
                        "passed_time": 2.280394611,
                        "remaining_time": 1.397661213,
                        "test": [
                          0.236062722
                        ]
                      },
                      {
                        "learn": [
                          0.2406880173
                        ],
                        "iteration": 186,
                        "passed_time": 2.292043453,
                        "remaining_time": 1.385031605,
                        "test": [
                          0.2339550139
                        ]
                      },
                      {
                        "learn": [
                          0.2388948126
                        ],
                        "iteration": 187,
                        "passed_time": 2.303795433,
                        "remaining_time": 1.372473875,
                        "test": [
                          0.2321472972
                        ]
                      },
                      {
                        "learn": [
                          0.2371622011
                        ],
                        "iteration": 188,
                        "passed_time": 2.315215163,
                        "remaining_time": 1.35972954,
                        "test": [
                          0.230422172
                        ]
                      },
                      {
                        "learn": [
                          0.2352045012
                        ],
                        "iteration": 189,
                        "passed_time": 2.327244824,
                        "remaining_time": 1.347352267,
                        "test": [
                          0.2284411254
                        ]
                      },
                      {
                        "learn": [
                          0.2332060551
                        ],
                        "iteration": 190,
                        "passed_time": 2.338906833,
                        "remaining_time": 1.334768821,
                        "test": [
                          0.2264076459
                        ]
                      },
                      {
                        "learn": [
                          0.2312547177
                        ],
                        "iteration": 191,
                        "passed_time": 2.350402463,
                        "remaining_time": 1.322101385,
                        "test": [
                          0.2244420289
                        ]
                      },
                      {
                        "learn": [
                          0.2292966159
                        ],
                        "iteration": 192,
                        "passed_time": 2.361883303,
                        "remaining_time": 1.309437894,
                        "test": [
                          0.2225132354
                        ]
                      },
                      {
                        "learn": [
                          0.2275997381
                        ],
                        "iteration": 193,
                        "passed_time": 2.375507315,
                        "remaining_time": 1.297957605,
                        "test": [
                          0.220845957
                        ]
                      },
                      {
                        "learn": [
                          0.2257013512
                        ],
                        "iteration": 194,
                        "passed_time": 2.386860659,
                        "remaining_time": 1.285232663,
                        "test": [
                          0.2189221996
                        ]
                      },
                      {
                        "learn": [
                          0.2239115359
                        ],
                        "iteration": 195,
                        "passed_time": 2.398800065,
                        "remaining_time": 1.272832688,
                        "test": [
                          0.2171424128
                        ]
                      },
                      {
                        "learn": [
                          0.2220719957
                        ],
                        "iteration": 196,
                        "passed_time": 2.410645002,
                        "remaining_time": 1.260387996,
                        "test": [
                          0.2153618662
                        ]
                      },
                      {
                        "learn": [
                          0.2205540549
                        ],
                        "iteration": 197,
                        "passed_time": 2.424859872,
                        "remaining_time": 1.249170237,
                        "test": [
                          0.2138958772
                        ]
                      },
                      {
                        "learn": [
                          0.2187603408
                        ],
                        "iteration": 198,
                        "passed_time": 2.439195987,
                        "remaining_time": 1.237983893,
                        "test": [
                          0.212091517
                        ]
                      },
                      {
                        "learn": [
                          0.2169396704
                        ],
                        "iteration": 199,
                        "passed_time": 2.4512222,
                        "remaining_time": 1.2256111,
                        "test": [
                          0.2102529842
                        ]
                      },
                      {
                        "learn": [
                          0.2153954653
                        ],
                        "iteration": 200,
                        "passed_time": 2.462314251,
                        "remaining_time": 1.212781646,
                        "test": [
                          0.2087064264
                        ]
                      },
                      {
                        "learn": [
                          0.213914456
                        ],
                        "iteration": 201,
                        "passed_time": 2.473570294,
                        "remaining_time": 1.200048955,
                        "test": [
                          0.2072558667
                        ]
                      },
                      {
                        "learn": [
                          0.2124417183
                        ],
                        "iteration": 202,
                        "passed_time": 2.485121739,
                        "remaining_time": 1.187471964,
                        "test": [
                          0.205744578
                        ]
                      },
                      {
                        "learn": [
                          0.2107205874
                        ],
                        "iteration": 203,
                        "passed_time": 2.496376612,
                        "remaining_time": 1.174765465,
                        "test": [
                          0.2040421147
                        ]
                      },
                      {
                        "learn": [
                          0.2090196546
                        ],
                        "iteration": 204,
                        "passed_time": 2.507406686,
                        "remaining_time": 1.161968952,
                        "test": [
                          0.2023826428
                        ]
                      },
                      {
                        "learn": [
                          0.2073238069
                        ],
                        "iteration": 205,
                        "passed_time": 2.518728863,
                        "remaining_time": 1.149322879,
                        "test": [
                          0.2007091325
                        ]
                      },
                      {
                        "learn": [
                          0.2056441356
                        ],
                        "iteration": 206,
                        "passed_time": 2.529782142,
                        "remaining_time": 1.136568788,
                        "test": [
                          0.1990163754
                        ]
                      },
                      {
                        "learn": [
                          0.204111917
                        ],
                        "iteration": 207,
                        "passed_time": 2.540942811,
                        "remaining_time": 1.123878551,
                        "test": [
                          0.1974788486
                        ]
                      },
                      {
                        "learn": [
                          0.202802514
                        ],
                        "iteration": 208,
                        "passed_time": 2.552049805,
                        "remaining_time": 1.11117958,
                        "test": [
                          0.1962216784
                        ]
                      },
                      {
                        "learn": [
                          0.2010544857
                        ],
                        "iteration": 209,
                        "passed_time": 2.563088285,
                        "remaining_time": 1.098466408,
                        "test": [
                          0.194438776
                        ]
                      },
                      {
                        "learn": [
                          0.1993913148
                        ],
                        "iteration": 210,
                        "passed_time": 2.574025793,
                        "remaining_time": 1.085726519,
                        "test": [
                          0.1927903572
                        ]
                      },
                      {
                        "learn": [
                          0.1978692798
                        ],
                        "iteration": 211,
                        "passed_time": 2.585434423,
                        "remaining_time": 1.073199194,
                        "test": [
                          0.1912997007
                        ]
                      },
                      {
                        "learn": [
                          0.1965394082
                        ],
                        "iteration": 212,
                        "passed_time": 2.596756076,
                        "remaining_time": 1.060646848,
                        "test": [
                          0.1899553703
                        ]
                      },
                      {
                        "learn": [
                          0.1950109202
                        ],
                        "iteration": 213,
                        "passed_time": 2.608023608,
                        "remaining_time": 1.048084254,
                        "test": [
                          0.1884370033
                        ]
                      },
                      {
                        "learn": [
                          0.1933617158
                        ],
                        "iteration": 214,
                        "passed_time": 2.619298069,
                        "remaining_time": 1.035536446,
                        "test": [
                          0.1867949619
                        ]
                      },
                      {
                        "learn": [
                          0.1917105656
                        ],
                        "iteration": 215,
                        "passed_time": 2.630805099,
                        "remaining_time": 1.023090872,
                        "test": [
                          0.1851626265
                        ]
                      },
                      {
                        "learn": [
                          0.1902161212
                        ],
                        "iteration": 216,
                        "passed_time": 2.642367536,
                        "remaining_time": 1.01067514,
                        "test": [
                          0.183709714
                        ]
                      },
                      {
                        "learn": [
                          0.1887166573
                        ],
                        "iteration": 217,
                        "passed_time": 2.653683005,
                        "remaining_time": 0.9981743414,
                        "test": [
                          0.1822145481
                        ]
                      },
                      {
                        "learn": [
                          0.1872434273
                        ],
                        "iteration": 218,
                        "passed_time": 2.665279345,
                        "remaining_time": 0.9857882508,
                        "test": [
                          0.1807234836
                        ]
                      },
                      {
                        "learn": [
                          0.1857887917
                        ],
                        "iteration": 219,
                        "passed_time": 2.676553754,
                        "remaining_time": 0.9732922741,
                        "test": [
                          0.179270424
                        ]
                      },
                      {
                        "learn": [
                          0.1844431136
                        ],
                        "iteration": 220,
                        "passed_time": 2.688612563,
                        "remaining_time": 0.9610877488,
                        "test": [
                          0.1779264881
                        ]
                      },
                      {
                        "learn": [
                          0.1829984954
                        ],
                        "iteration": 221,
                        "passed_time": 2.700119058,
                        "remaining_time": 0.9486904798,
                        "test": [
                          0.1764779326
                        ]
                      },
                      {
                        "learn": [
                          0.1815874846
                        ],
                        "iteration": 222,
                        "passed_time": 2.711391711,
                        "remaining_time": 0.9362204562,
                        "test": [
                          0.1750987406
                        ]
                      },
                      {
                        "learn": [
                          0.1802723705
                        ],
                        "iteration": 223,
                        "passed_time": 2.722385169,
                        "remaining_time": 0.9236663968,
                        "test": [
                          0.1737691292
                        ]
                      },
                      {
                        "learn": [
                          0.1789186191
                        ],
                        "iteration": 224,
                        "passed_time": 2.733571059,
                        "remaining_time": 0.911190353,
                        "test": [
                          0.172440552
                        ]
                      },
                      {
                        "learn": [
                          0.1775564641
                        ],
                        "iteration": 225,
                        "passed_time": 2.744694134,
                        "remaining_time": 0.898705159,
                        "test": [
                          0.1710695866
                        ]
                      },
                      {
                        "learn": [
                          0.1763380624
                        ],
                        "iteration": 226,
                        "passed_time": 2.755774108,
                        "remaining_time": 0.8862181053,
                        "test": [
                          0.1698374414
                        ]
                      },
                      {
                        "learn": [
                          0.1749818171
                        ],
                        "iteration": 227,
                        "passed_time": 2.7671955,
                        "remaining_time": 0.8738512104,
                        "test": [
                          0.1684828663
                        ]
                      },
                      {
                        "learn": [
                          0.1736757006
                        ],
                        "iteration": 228,
                        "passed_time": 2.782021975,
                        "remaining_time": 0.862548298,
                        "test": [
                          0.167159455
                        ]
                      },
                      {
                        "learn": [
                          0.1722649267
                        ],
                        "iteration": 229,
                        "passed_time": 2.793957006,
                        "remaining_time": 0.850334741,
                        "test": [
                          0.1657653911
                        ]
                      },
                      {
                        "learn": [
                          0.1710353662
                        ],
                        "iteration": 230,
                        "passed_time": 2.805107587,
                        "remaining_time": 0.8378892792,
                        "test": [
                          0.1645135485
                        ]
                      },
                      {
                        "learn": [
                          0.1697134938
                        ],
                        "iteration": 231,
                        "passed_time": 2.816040049,
                        "remaining_time": 0.8253910489,
                        "test": [
                          0.163177925
                        ]
                      },
                      {
                        "learn": [
                          0.1686246478
                        ],
                        "iteration": 232,
                        "passed_time": 2.829449966,
                        "remaining_time": 0.8136186597,
                        "test": [
                          0.1621358727
                        ]
                      },
                      {
                        "learn": [
                          0.1673231324
                        ],
                        "iteration": 233,
                        "passed_time": 2.840558603,
                        "remaining_time": 0.8011831958,
                        "test": [
                          0.1608445243
                        ]
                      },
                      {
                        "learn": [
                          0.1659641236
                        ],
                        "iteration": 234,
                        "passed_time": 2.851930075,
                        "remaining_time": 0.788831723,
                        "test": [
                          0.1594926836
                        ]
                      },
                      {
                        "learn": [
                          0.1646998164
                        ],
                        "iteration": 235,
                        "passed_time": 2.862969297,
                        "remaining_time": 0.7763984535,
                        "test": [
                          0.1582446008
                        ]
                      },
                      {
                        "learn": [
                          0.1634326531
                        ],
                        "iteration": 236,
                        "passed_time": 2.873963989,
                        "remaining_time": 0.763965111,
                        "test": [
                          0.1570131092
                        ]
                      },
                      {
                        "learn": [
                          0.1621716668
                        ],
                        "iteration": 237,
                        "passed_time": 2.885142574,
                        "remaining_time": 0.751591763,
                        "test": [
                          0.1557617966
                        ]
                      },
                      {
                        "learn": [
                          0.1610572599
                        ],
                        "iteration": 238,
                        "passed_time": 2.896192372,
                        "remaining_time": 0.7391955425,
                        "test": [
                          0.1546468697
                        ]
                      },
                      {
                        "learn": [
                          0.1598403721
                        ],
                        "iteration": 239,
                        "passed_time": 2.913826774,
                        "remaining_time": 0.7284566936,
                        "test": [
                          0.1534438444
                        ]
                      },
                      {
                        "learn": [
                          0.1586675976
                        ],
                        "iteration": 240,
                        "passed_time": 2.929296027,
                        "remaining_time": 0.7171305625,
                        "test": [
                          0.1522528572
                        ]
                      },
                      {
                        "learn": [
                          0.1576767729
                        ],
                        "iteration": 241,
                        "passed_time": 2.947833015,
                        "remaining_time": 0.7065054333,
                        "test": [
                          0.1512880281
                        ]
                      },
                      {
                        "learn": [
                          0.1566720165
                        ],
                        "iteration": 242,
                        "passed_time": 2.959264812,
                        "remaining_time": 0.6941485361,
                        "test": [
                          0.1502732273
                        ]
                      },
                      {
                        "learn": [
                          0.1556432184
                        ],
                        "iteration": 243,
                        "passed_time": 2.970929783,
                        "remaining_time": 0.681852737,
                        "test": [
                          0.149259484
                        ]
                      },
                      {
                        "learn": [
                          0.1544195615
                        ],
                        "iteration": 244,
                        "passed_time": 2.991280342,
                        "remaining_time": 0.6715119135,
                        "test": [
                          0.1480852893
                        ]
                      },
                      {
                        "learn": [
                          0.153429773
                        ],
                        "iteration": 245,
                        "passed_time": 3.008776965,
                        "remaining_time": 0.6604632361,
                        "test": [
                          0.1470951271
                        ]
                      },
                      {
                        "learn": [
                          0.1524355984
                        ],
                        "iteration": 246,
                        "passed_time": 3.019997564,
                        "remaining_time": 0.6480156716,
                        "test": [
                          0.1460974759
                        ]
                      },
                      {
                        "learn": [
                          0.1514061207
                        ],
                        "iteration": 247,
                        "passed_time": 3.030993077,
                        "remaining_time": 0.6355308066,
                        "test": [
                          0.1450623967
                        ]
                      },
                      {
                        "learn": [
                          0.1502648771
                        ],
                        "iteration": 248,
                        "passed_time": 3.042239869,
                        "remaining_time": 0.6231093708,
                        "test": [
                          0.1439331773
                        ]
                      },
                      {
                        "learn": [
                          0.1491160599
                        ],
                        "iteration": 249,
                        "passed_time": 3.053183551,
                        "remaining_time": 0.6106367102,
                        "test": [
                          0.1427893883
                        ]
                      },
                      {
                        "learn": [
                          0.1480243552
                        ],
                        "iteration": 250,
                        "passed_time": 3.064525077,
                        "remaining_time": 0.5982538994,
                        "test": [
                          0.1417306334
                        ]
                      },
                      {
                        "learn": [
                          0.1470652206
                        ],
                        "iteration": 251,
                        "passed_time": 3.07572185,
                        "remaining_time": 0.5858517809,
                        "test": [
                          0.1408174198
                        ]
                      },
                      {
                        "learn": [
                          0.1460073948
                        ],
                        "iteration": 252,
                        "passed_time": 3.086828885,
                        "remaining_time": 0.5734425201,
                        "test": [
                          0.1397703834
                        ]
                      },
                      {
                        "learn": [
                          0.1450437265
                        ],
                        "iteration": 253,
                        "passed_time": 3.100496372,
                        "remaining_time": 0.561507217,
                        "test": [
                          0.1388069945
                        ]
                      },
                      {
                        "learn": [
                          0.1440554586
                        ],
                        "iteration": 254,
                        "passed_time": 3.111635976,
                        "remaining_time": 0.5491122311,
                        "test": [
                          0.1378339702
                        ]
                      },
                      {
                        "learn": [
                          0.1429402228
                        ],
                        "iteration": 255,
                        "passed_time": 3.122656635,
                        "remaining_time": 0.5367066091,
                        "test": [
                          0.1367487532
                        ]
                      },
                      {
                        "learn": [
                          0.1419132817
                        ],
                        "iteration": 256,
                        "passed_time": 3.136217201,
                        "remaining_time": 0.5247367302,
                        "test": [
                          0.135734575
                        ]
                      },
                      {
                        "learn": [
                          0.1409130453
                        ],
                        "iteration": 257,
                        "passed_time": 3.148815999,
                        "remaining_time": 0.5125979534,
                        "test": [
                          0.1347348153
                        ]
                      },
                      {
                        "learn": [
                          0.1400226901
                        ],
                        "iteration": 258,
                        "passed_time": 3.159939708,
                        "remaining_time": 0.5002221159,
                        "test": [
                          0.1338594334
                        ]
                      },
                      {
                        "learn": [
                          0.1391977918
                        ],
                        "iteration": 259,
                        "passed_time": 3.170969496,
                        "remaining_time": 0.487841461,
                        "test": [
                          0.133049838
                        ]
                      },
                      {
                        "learn": [
                          0.1381547203
                        ],
                        "iteration": 260,
                        "passed_time": 3.181815251,
                        "remaining_time": 0.4754436582,
                        "test": [
                          0.1320217652
                        ]
                      },
                      {
                        "learn": [
                          0.1371330556
                        ],
                        "iteration": 261,
                        "passed_time": 3.193398736,
                        "remaining_time": 0.4631647022,
                        "test": [
                          0.1310093919
                        ]
                      },
                      {
                        "learn": [
                          0.1362334918
                        ],
                        "iteration": 262,
                        "passed_time": 3.204498621,
                        "remaining_time": 0.4508229999,
                        "test": [
                          0.1301133649
                        ]
                      },
                      {
                        "learn": [
                          0.13542501
                        ],
                        "iteration": 263,
                        "passed_time": 3.215911013,
                        "remaining_time": 0.43853332,
                        "test": [
                          0.1293373836
                        ]
                      },
                      {
                        "learn": [
                          0.134490476
                        ],
                        "iteration": 264,
                        "passed_time": 3.227500373,
                        "remaining_time": 0.4262736342,
                        "test": [
                          0.1284184417
                        ]
                      },
                      {
                        "learn": [
                          0.1335556066
                        ],
                        "iteration": 265,
                        "passed_time": 3.238978643,
                        "remaining_time": 0.4140047889,
                        "test": [
                          0.1274901358
                        ]
                      },
                      {
                        "learn": [
                          0.132636517
                        ],
                        "iteration": 266,
                        "passed_time": 3.250357307,
                        "remaining_time": 0.4017295548,
                        "test": [
                          0.1265898032
                        ]
                      },
                      {
                        "learn": [
                          0.1318749894
                        ],
                        "iteration": 267,
                        "passed_time": 3.261969652,
                        "remaining_time": 0.3894889136,
                        "test": [
                          0.1258330237
                        ]
                      },
                      {
                        "learn": [
                          0.1309568823
                        ],
                        "iteration": 268,
                        "passed_time": 3.27329114,
                        "remaining_time": 0.3772194251,
                        "test": [
                          0.1249367363
                        ]
                      },
                      {
                        "learn": [
                          0.1300335346
                        ],
                        "iteration": 269,
                        "passed_time": 3.284700792,
                        "remaining_time": 0.3649667547,
                        "test": [
                          0.1240474182
                        ]
                      },
                      {
                        "learn": [
                          0.1292834408
                        ],
                        "iteration": 270,
                        "passed_time": 3.296204015,
                        "remaining_time": 0.3527303189,
                        "test": [
                          0.1233202155
                        ]
                      },
                      {
                        "learn": [
                          0.128483744
                        ],
                        "iteration": 271,
                        "passed_time": 3.307726487,
                        "remaining_time": 0.340501256,
                        "test": [
                          0.1224886403
                        ]
                      },
                      {
                        "learn": [
                          0.1277120062
                        ],
                        "iteration": 272,
                        "passed_time": 3.319125209,
                        "remaining_time": 0.3282651306,
                        "test": [
                          0.1217206726
                        ]
                      },
                      {
                        "learn": [
                          0.1270249638
                        ],
                        "iteration": 273,
                        "passed_time": 3.330584977,
                        "remaining_time": 0.3160409103,
                        "test": [
                          0.1210400502
                        ]
                      },
                      {
                        "learn": [
                          0.1262789969
                        ],
                        "iteration": 274,
                        "passed_time": 3.342236181,
                        "remaining_time": 0.3038396528,
                        "test": [
                          0.1202987907
                        ]
                      },
                      {
                        "learn": [
                          0.1253773603
                        ],
                        "iteration": 275,
                        "passed_time": 3.353352477,
                        "remaining_time": 0.2915958675,
                        "test": [
                          0.1193986008
                        ]
                      },
                      {
                        "learn": [
                          0.1246743254
                        ],
                        "iteration": 276,
                        "passed_time": 3.366351322,
                        "remaining_time": 0.2795165358,
                        "test": [
                          0.1187070473
                        ]
                      },
                      {
                        "learn": [
                          0.1238033267
                        ],
                        "iteration": 277,
                        "passed_time": 3.378138894,
                        "remaining_time": 0.2673347326,
                        "test": [
                          0.1178327542
                        ]
                      },
                      {
                        "learn": [
                          0.1230781491
                        ],
                        "iteration": 278,
                        "passed_time": 3.389892798,
                        "remaining_time": 0.2551532214,
                        "test": [
                          0.1171155913
                        ]
                      },
                      {
                        "learn": [
                          0.1223520595
                        ],
                        "iteration": 279,
                        "passed_time": 3.401366326,
                        "remaining_time": 0.2429547375,
                        "test": [
                          0.1163946415
                        ]
                      },
                      {
                        "learn": [
                          0.1216621911
                        ],
                        "iteration": 280,
                        "passed_time": 3.41290565,
                        "remaining_time": 0.2307658625,
                        "test": [
                          0.11568817
                        ]
                      },
                      {
                        "learn": [
                          0.1210031011
                        ],
                        "iteration": 281,
                        "passed_time": 3.42450373,
                        "remaining_time": 0.2185853445,
                        "test": [
                          0.1150830683
                        ]
                      },
                      {
                        "learn": [
                          0.1202183188
                        ],
                        "iteration": 282,
                        "passed_time": 3.436910592,
                        "remaining_time": 0.2064575267,
                        "test": [
                          0.1143073985
                        ]
                      },
                      {
                        "learn": [
                          0.1195880541
                        ],
                        "iteration": 283,
                        "passed_time": 3.450063104,
                        "remaining_time": 0.1943697524,
                        "test": [
                          0.113693059
                        ]
                      },
                      {
                        "learn": [
                          0.1189100698
                        ],
                        "iteration": 284,
                        "passed_time": 3.461910728,
                        "remaining_time": 0.1822058278,
                        "test": [
                          0.1130132481
                        ]
                      },
                      {
                        "learn": [
                          0.1182219755
                        ],
                        "iteration": 285,
                        "passed_time": 3.473220453,
                        "remaining_time": 0.1700177844,
                        "test": [
                          0.1123600701
                        ]
                      },
                      {
                        "learn": [
                          0.1174058459
                        ],
                        "iteration": 286,
                        "passed_time": 3.484586006,
                        "remaining_time": 0.1578383905,
                        "test": [
                          0.1115511426
                        ]
                      },
                      {
                        "learn": [
                          0.1167706191
                        ],
                        "iteration": 287,
                        "passed_time": 3.498014756,
                        "remaining_time": 0.1457506148,
                        "test": [
                          0.1109381468
                        ]
                      },
                      {
                        "learn": [
                          0.1159669139
                        ],
                        "iteration": 288,
                        "passed_time": 3.509358739,
                        "remaining_time": 0.133574208,
                        "test": [
                          0.1101426454
                        ]
                      },
                      {
                        "learn": [
                          0.1152397623
                        ],
                        "iteration": 289,
                        "passed_time": 3.521138053,
                        "remaining_time": 0.1214185535,
                        "test": [
                          0.1094308647
                        ]
                      },
                      {
                        "learn": [
                          0.1144099037
                        ],
                        "iteration": 290,
                        "passed_time": 3.532755245,
                        "remaining_time": 0.1092604715,
                        "test": [
                          0.1086074073
                        ]
                      },
                      {
                        "learn": [
                          0.1136567932
                        ],
                        "iteration": 291,
                        "passed_time": 3.543750157,
                        "remaining_time": 0.0970890454,
                        "test": [
                          0.1078721133
                        ]
                      },
                      {
                        "learn": [
                          0.1129073307
                        ],
                        "iteration": 292,
                        "passed_time": 3.55499233,
                        "remaining_time": 0.08493155738,
                        "test": [
                          0.107156879
                        ]
                      },
                      {
                        "learn": [
                          0.1121653883
                        ],
                        "iteration": 293,
                        "passed_time": 3.566406951,
                        "remaining_time": 0.07278381534,
                        "test": [
                          0.1064195209
                        ]
                      },
                      {
                        "learn": [
                          0.1115468763
                        ],
                        "iteration": 294,
                        "passed_time": 3.57740579,
                        "remaining_time": 0.06063399645,
                        "test": [
                          0.1058016585
                        ]
                      },
                      {
                        "learn": [
                          0.1108836352
                        ],
                        "iteration": 295,
                        "passed_time": 3.589090635,
                        "remaining_time": 0.0485012248,
                        "test": [
                          0.1051371208
                        ]
                      },
                      {
                        "learn": [
                          0.1102683183
                        ],
                        "iteration": 296,
                        "passed_time": 3.600496032,
                        "remaining_time": 0.03636864679,
                        "test": [
                          0.1045414675
                        ]
                      },
                      {
                        "learn": [
                          0.1095689897
                        ],
                        "iteration": 297,
                        "passed_time": 3.612183938,
                        "remaining_time": 0.02424284522,
                        "test": [
                          0.1038239605
                        ]
                      },
                      {
                        "learn": [
                          0.1088232028
                        ],
                        "iteration": 298,
                        "passed_time": 3.623876344,
                        "remaining_time": 0.01211998777,
                        "test": [
                          0.103106937
                        ]
                      },
                      {
                        "learn": [
                          0.1081415609
                        ],
                        "iteration": 299,
                        "passed_time": 3.635792372,
                        "remaining_time": 0,
                        "test": [
                          0.1024316287
                        ]
                      }
                    ],
                    "meta": {
                      "test_sets": [
                        "test"
                      ],
                      "test_metrics": [
                        {
                          "best_value": "Min",
                          "name": "MultiClass"
                        }
                      ],
                      "learn_metrics": [
                        {
                          "best_value": "Min",
                          "name": "MultiClass"
                        }
                      ],
                      "launch_mode": "Train",
                      "parameters": "",
                      "iteration_count": 300,
                      "learn_sets": [
                        "learn"
                      ],
                      "name": "experiment"
                    }
                  }
                }
              }
            },
            "layout": "IPY_MODEL_0a8414d89fb64741a34122e62c18306a"
          }
        }
      }
    }
  },
  "nbformat": 4,
  "nbformat_minor": 5
}