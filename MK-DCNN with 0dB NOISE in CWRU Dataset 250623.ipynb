{
  "cells": [
    {
      "cell_type": "markdown",
      "metadata": {
        "id": "view-in-github",
        "colab_type": "text"
      },
      "source": [
        "<a href=\"https://colab.research.google.com/github/promckkon/MK-DCNN/blob/main/MK-DCNN%20with%200dB%20NOISE%20in%20CWRU%20Dataset%20250623.ipynb\" target=\"_parent\"><img src=\"https://colab.research.google.com/assets/colab-badge.svg\" alt=\"Open In Colab\"/></a>"
      ]
    },
    {
      "cell_type": "code",
      "source": [
        "from google.colab import drive\n",
        "drive.mount('/content/drive')"
      ],
      "metadata": {
        "colab": {
          "base_uri": "https://localhost:8080/"
        },
        "id": "_JTcgOD9s-GR",
        "outputId": "cd50fc02-8fb9-47a5-ead7-49de11b30fd6"
      },
      "id": "_JTcgOD9s-GR",
      "execution_count": 1,
      "outputs": [
        {
          "output_type": "stream",
          "name": "stdout",
          "text": [
            "Drive already mounted at /content/drive; to attempt to forcibly remount, call drive.mount(\"/content/drive\", force_remount=True).\n"
          ]
        }
      ]
    },
    {
      "cell_type": "code",
      "execution_count": 2,
      "id": "1132b641",
      "metadata": {
        "id": "1132b641"
      },
      "outputs": [],
      "source": [
        "import scipy.io\n",
        "import seaborn as sns\n",
        "import numpy as np\n",
        "import pandas as pd\n",
        "import os\n",
        "import matplotlib.pyplot as plt"
      ]
    },
    {
      "cell_type": "markdown",
      "source": [
        "Dataset Input"
      ],
      "metadata": {
        "id": "2haV_hKQQOg-"
      },
      "id": "2haV_hKQQOg-"
    },
    {
      "cell_type": "code",
      "source": [
        "df=pd.DataFrame(columns=['DE_data','fault']) # upload the dataset on googledrive\n",
        "\n",
        "for root, dirs, files in os.walk(\"/content/drive/MyDrive/CWRU_with_NOISE/CWRU_2\", topdown=False):\n",
        "    for file_name in files:\n",
        "        path = os.path.join(root, file_name)\n",
        "        print(path)\n",
        "\n",
        "        mat = scipy.io.loadmat(path)\n",
        "\n",
        "        key_name = list(mat.keys())[3]\n",
        "        DE_data = mat.get(key_name)\n",
        "        fault = np.full((len(DE_data), 1), file_name[:-4])\n",
        "\n",
        "        df_temp = pd.DataFrame({'DE_data':np.ravel(DE_data) , 'fault':np.ravel(fault)})\n",
        "\n",
        "        df = pd.concat([df,df_temp],axis=0)\n",
        "        print(df['fault'].unique())\n",
        "\n",
        "df.to_csv('/content/drive/MyDrive/MK-DCNN CWRU/NOISE_0_faults.csv',index=False)"
      ],
      "metadata": {
        "colab": {
          "base_uri": "https://localhost:8080/"
        },
        "id": "sXzSVyy_ylsF",
        "outputId": "cfe00682-fd92-4415-fe60-bad86bc2bdfe"
      },
      "id": "sXzSVyy_ylsF",
      "execution_count": 3,
      "outputs": [
        {
          "output_type": "stream",
          "name": "stdout",
          "text": [
            "/content/drive/MyDrive/CWRU_with_NOISE/CWRU_2/F9_OR021_6_1_240.mat\n"
          ]
        },
        {
          "output_type": "stream",
          "name": "stderr",
          "text": [
            "/tmp/ipython-input-3-4247073321.py:16: FutureWarning: The behavior of DataFrame concatenation with empty or all-NA entries is deprecated. In a future version, this will no longer exclude empty or all-NA columns when determining the result dtypes. To retain the old behavior, exclude the relevant entries before the concat operation.\n",
            "  df = pd.concat([df,df_temp],axis=0)\n"
          ]
        },
        {
          "output_type": "stream",
          "name": "stdout",
          "text": [
            "['F9_OR021_6_1_240']\n",
            "/content/drive/MyDrive/CWRU_with_NOISE/CWRU_2/F6_IR021_1_215.mat\n",
            "['F9_OR021_6_1_240' 'F6_IR021_1_215']\n",
            "/content/drive/MyDrive/CWRU_with_NOISE/CWRU_2/F3_B021_1_228.mat\n",
            "['F9_OR021_6_1_240' 'F6_IR021_1_215' 'F3_B021_1_228']\n",
            "/content/drive/MyDrive/CWRU_with_NOISE/CWRU_2/F8_OR014_6_1_203.mat\n",
            "['F9_OR021_6_1_240' 'F6_IR021_1_215' 'F3_B021_1_228' 'F8_OR014_6_1_203']\n",
            "/content/drive/MyDrive/CWRU_with_NOISE/CWRU_2/F2_B014_1_191.mat\n",
            "['F9_OR021_6_1_240' 'F6_IR021_1_215' 'F3_B021_1_228' 'F8_OR014_6_1_203'\n",
            " 'F2_B014_1_191']\n",
            "/content/drive/MyDrive/CWRU_with_NOISE/CWRU_2/F7_OR007_6_1_137.mat\n",
            "['F9_OR021_6_1_240' 'F6_IR021_1_215' 'F3_B021_1_228' 'F8_OR014_6_1_203'\n",
            " 'F2_B014_1_191' 'F7_OR007_6_1_137']\n",
            "/content/drive/MyDrive/CWRU_with_NOISE/CWRU_2/F1_B007_1_124.mat\n",
            "['F9_OR021_6_1_240' 'F6_IR021_1_215' 'F3_B021_1_228' 'F8_OR014_6_1_203'\n",
            " 'F2_B014_1_191' 'F7_OR007_6_1_137' 'F1_B007_1_124']\n",
            "/content/drive/MyDrive/CWRU_with_NOISE/CWRU_2/F4_IR007_1_111.mat\n",
            "['F9_OR021_6_1_240' 'F6_IR021_1_215' 'F3_B021_1_228' 'F8_OR014_6_1_203'\n",
            " 'F2_B014_1_191' 'F7_OR007_6_1_137' 'F1_B007_1_124' 'F4_IR007_1_111']\n",
            "/content/drive/MyDrive/CWRU_with_NOISE/CWRU_2/F5_IR014_1_176.mat\n",
            "['F9_OR021_6_1_240' 'F6_IR021_1_215' 'F3_B021_1_228' 'F8_OR014_6_1_203'\n",
            " 'F2_B014_1_191' 'F7_OR007_6_1_137' 'F1_B007_1_124' 'F4_IR007_1_111'\n",
            " 'F5_IR014_1_176']\n",
            "/content/drive/MyDrive/CWRU_with_NOISE/CWRU_2/F0_Normal_1_98.mat\n",
            "['F9_OR021_6_1_240' 'F6_IR021_1_215' 'F3_B021_1_228' 'F8_OR014_6_1_203'\n",
            " 'F2_B014_1_191' 'F7_OR007_6_1_137' 'F1_B007_1_124' 'F4_IR007_1_111'\n",
            " 'F5_IR014_1_176' 'F0_Normal_1_98']\n"
          ]
        }
      ]
    },
    {
      "cell_type": "markdown",
      "source": [
        "# Multi-Kernel Deep 1D-CNN"
      ],
      "metadata": {
        "id": "2d0arbB2knS8"
      },
      "id": "2d0arbB2knS8"
    },
    {
      "cell_type": "code",
      "source": [
        "pip install tensorflow"
      ],
      "metadata": {
        "colab": {
          "base_uri": "https://localhost:8080/"
        },
        "id": "-dsJA9B5YVAW",
        "outputId": "6d08959a-2e90-4502-f71c-8c27bc432980"
      },
      "id": "-dsJA9B5YVAW",
      "execution_count": 4,
      "outputs": [
        {
          "output_type": "stream",
          "name": "stdout",
          "text": [
            "Requirement already satisfied: tensorflow in /usr/local/lib/python3.11/dist-packages (2.18.0)\n",
            "Requirement already satisfied: absl-py>=1.0.0 in /usr/local/lib/python3.11/dist-packages (from tensorflow) (1.4.0)\n",
            "Requirement already satisfied: astunparse>=1.6.0 in /usr/local/lib/python3.11/dist-packages (from tensorflow) (1.6.3)\n",
            "Requirement already satisfied: flatbuffers>=24.3.25 in /usr/local/lib/python3.11/dist-packages (from tensorflow) (25.2.10)\n",
            "Requirement already satisfied: gast!=0.5.0,!=0.5.1,!=0.5.2,>=0.2.1 in /usr/local/lib/python3.11/dist-packages (from tensorflow) (0.6.0)\n",
            "Requirement already satisfied: google-pasta>=0.1.1 in /usr/local/lib/python3.11/dist-packages (from tensorflow) (0.2.0)\n",
            "Requirement already satisfied: libclang>=13.0.0 in /usr/local/lib/python3.11/dist-packages (from tensorflow) (18.1.1)\n",
            "Requirement already satisfied: opt-einsum>=2.3.2 in /usr/local/lib/python3.11/dist-packages (from tensorflow) (3.4.0)\n",
            "Requirement already satisfied: packaging in /usr/local/lib/python3.11/dist-packages (from tensorflow) (24.2)\n",
            "Requirement already satisfied: protobuf!=4.21.0,!=4.21.1,!=4.21.2,!=4.21.3,!=4.21.4,!=4.21.5,<6.0.0dev,>=3.20.3 in /usr/local/lib/python3.11/dist-packages (from tensorflow) (5.29.5)\n",
            "Requirement already satisfied: requests<3,>=2.21.0 in /usr/local/lib/python3.11/dist-packages (from tensorflow) (2.32.3)\n",
            "Requirement already satisfied: setuptools in /usr/local/lib/python3.11/dist-packages (from tensorflow) (75.2.0)\n",
            "Requirement already satisfied: six>=1.12.0 in /usr/local/lib/python3.11/dist-packages (from tensorflow) (1.17.0)\n",
            "Requirement already satisfied: termcolor>=1.1.0 in /usr/local/lib/python3.11/dist-packages (from tensorflow) (3.1.0)\n",
            "Requirement already satisfied: typing-extensions>=3.6.6 in /usr/local/lib/python3.11/dist-packages (from tensorflow) (4.14.0)\n",
            "Requirement already satisfied: wrapt>=1.11.0 in /usr/local/lib/python3.11/dist-packages (from tensorflow) (1.17.2)\n",
            "Requirement already satisfied: grpcio<2.0,>=1.24.3 in /usr/local/lib/python3.11/dist-packages (from tensorflow) (1.73.0)\n",
            "Requirement already satisfied: tensorboard<2.19,>=2.18 in /usr/local/lib/python3.11/dist-packages (from tensorflow) (2.18.0)\n",
            "Requirement already satisfied: keras>=3.5.0 in /usr/local/lib/python3.11/dist-packages (from tensorflow) (3.8.0)\n",
            "Requirement already satisfied: numpy<2.1.0,>=1.26.0 in /usr/local/lib/python3.11/dist-packages (from tensorflow) (2.0.2)\n",
            "Requirement already satisfied: h5py>=3.11.0 in /usr/local/lib/python3.11/dist-packages (from tensorflow) (3.14.0)\n",
            "Requirement already satisfied: ml-dtypes<0.5.0,>=0.4.0 in /usr/local/lib/python3.11/dist-packages (from tensorflow) (0.4.1)\n",
            "Requirement already satisfied: tensorflow-io-gcs-filesystem>=0.23.1 in /usr/local/lib/python3.11/dist-packages (from tensorflow) (0.37.1)\n",
            "Requirement already satisfied: wheel<1.0,>=0.23.0 in /usr/local/lib/python3.11/dist-packages (from astunparse>=1.6.0->tensorflow) (0.45.1)\n",
            "Requirement already satisfied: rich in /usr/local/lib/python3.11/dist-packages (from keras>=3.5.0->tensorflow) (13.9.4)\n",
            "Requirement already satisfied: namex in /usr/local/lib/python3.11/dist-packages (from keras>=3.5.0->tensorflow) (0.1.0)\n",
            "Requirement already satisfied: optree in /usr/local/lib/python3.11/dist-packages (from keras>=3.5.0->tensorflow) (0.16.0)\n",
            "Requirement already satisfied: charset-normalizer<4,>=2 in /usr/local/lib/python3.11/dist-packages (from requests<3,>=2.21.0->tensorflow) (3.4.2)\n",
            "Requirement already satisfied: idna<4,>=2.5 in /usr/local/lib/python3.11/dist-packages (from requests<3,>=2.21.0->tensorflow) (3.10)\n",
            "Requirement already satisfied: urllib3<3,>=1.21.1 in /usr/local/lib/python3.11/dist-packages (from requests<3,>=2.21.0->tensorflow) (2.4.0)\n",
            "Requirement already satisfied: certifi>=2017.4.17 in /usr/local/lib/python3.11/dist-packages (from requests<3,>=2.21.0->tensorflow) (2025.6.15)\n",
            "Requirement already satisfied: markdown>=2.6.8 in /usr/local/lib/python3.11/dist-packages (from tensorboard<2.19,>=2.18->tensorflow) (3.8)\n",
            "Requirement already satisfied: tensorboard-data-server<0.8.0,>=0.7.0 in /usr/local/lib/python3.11/dist-packages (from tensorboard<2.19,>=2.18->tensorflow) (0.7.2)\n",
            "Requirement already satisfied: werkzeug>=1.0.1 in /usr/local/lib/python3.11/dist-packages (from tensorboard<2.19,>=2.18->tensorflow) (3.1.3)\n",
            "Requirement already satisfied: MarkupSafe>=2.1.1 in /usr/local/lib/python3.11/dist-packages (from werkzeug>=1.0.1->tensorboard<2.19,>=2.18->tensorflow) (3.0.2)\n",
            "Requirement already satisfied: markdown-it-py>=2.2.0 in /usr/local/lib/python3.11/dist-packages (from rich->keras>=3.5.0->tensorflow) (3.0.0)\n",
            "Requirement already satisfied: pygments<3.0.0,>=2.13.0 in /usr/local/lib/python3.11/dist-packages (from rich->keras>=3.5.0->tensorflow) (2.19.1)\n",
            "Requirement already satisfied: mdurl~=0.1 in /usr/local/lib/python3.11/dist-packages (from markdown-it-py>=2.2.0->rich->keras>=3.5.0->tensorflow) (0.1.2)\n"
          ]
        }
      ]
    },
    {
      "cell_type": "code",
      "source": [
        "from sklearn.preprocessing import LabelEncoder\n",
        "from tensorflow.keras.utils import to_categorical\n",
        "\n",
        "\n",
        "# Total target rows\n",
        "TARGET_ROWS = 1800\n",
        "\n",
        "# Estimate the total number of samples across all fault types\n",
        "total_samples = sum(len(df[df['fault'] == f]) for f in df['fault'].unique())\n",
        "\n",
        "# Calculate suitable window size and stride\n",
        "num_faults = 9\n",
        "average_samples_per_fault = total_samples / num_faults\n",
        "approx_windows_per_fault = TARGET_ROWS / num_faults\n",
        "stride_ratio = 0.8  # Initial stride/window ratio\n",
        "\n",
        "win_len = int(average_samples_per_fault / approx_windows_per_fault)\n",
        "stride = int(win_len * stride_ratio)\n",
        "\n",
        "X=[]\n",
        "Y=[]\n",
        "\n",
        "\n",
        "for k in df['fault'].unique():\n",
        "\n",
        "    df_temp_2 = df[df['fault']==k]\n",
        "\n",
        "    for i in np.arange(0,len(df_temp_2)-(win_len),stride):\n",
        "        temp = df_temp_2.iloc[i:i+win_len,:-1].values\n",
        "        temp = temp.reshape((1,-1))\n",
        "        X.append(temp)\n",
        "        Y.append(df_temp_2.iloc[i+win_len,-1])\n",
        "\n",
        "X=np.array(X)\n",
        "X=X.reshape((X.shape[0],-1,1))\n",
        "#X = np.repeat(X, 3, axis=3) # To repeat into 3 chanel format\n",
        "\n",
        "\n",
        "Y=np.array(Y)\n",
        "encoder= LabelEncoder()\n",
        "encoder.fit(Y)\n",
        "encoded_Y = encoder.transform(Y)\n",
        "OHE_Y = to_categorical(encoded_Y)"
      ],
      "metadata": {
        "id": "5s5vUXrUM2BH"
      },
      "id": "5s5vUXrUM2BH",
      "execution_count": 5,
      "outputs": []
    },
    {
      "cell_type": "code",
      "source": [
        "from sklearn.model_selection import train_test_split\n",
        "X_train,X_test,y_train,y_test = train_test_split(X,OHE_Y,test_size=0.3,shuffle=True)"
      ],
      "metadata": {
        "id": "PreHyG2yMkTA"
      },
      "id": "PreHyG2yMkTA",
      "execution_count": 6,
      "outputs": []
    },
    {
      "cell_type": "code",
      "source": [
        "import tensorflow as tf\n",
        "from tensorflow.keras.models import Model\n",
        "from tensorflow.keras.layers import Input, Dense, Dropout, Flatten, Conv1D, MaxPooling1D, concatenate\n",
        "from tensorflow.keras import backend as K\n",
        "\n",
        "# --- Custom Physics-Informed Loss Function ---\n",
        "def custom_loss(y_true, y_pred):\n",
        "    # Standard categorical crossentropy\n",
        "    loss = K.categorical_crossentropy(y_true, y_pred)\n",
        "\n",
        "    # Physics-Informed Term: penalize rapid class probability changes\n",
        "    # Ensure y_pred is at least 2D for slicing\n",
        "    if K.ndim(y_pred) < 2:\n",
        "        y_pred = K.expand_dims(y_pred, axis=-1)\n",
        "\n",
        "    # Ensure y_pred has more than one class dimension to compute diff\n",
        "    if K.int_shape(y_pred)[-1] > 1:\n",
        "        diff = y_pred[:, 1:] - y_pred[:, :-1]\n",
        "        squared_diff = tf.square(diff)\n",
        "        physics_term = tf.reduce_mean(squared_diff)\n",
        "    else:\n",
        "        physics_term = 0.0 # No physics term if only one class\n",
        "\n",
        "\n",
        "    # Total loss = classification loss + regularization term\n",
        "    total_loss = loss + 0.01 * physics_term  # 0.01 is tunable\n",
        "\n",
        "    return total_loss\n",
        "\n",
        "# --- Model Definition ---\n",
        "# no_classes = len(df['fault'].unique()) # Original line that caused 10 classes\n",
        "no_classes = len(encoder.classes_) # Use the encoder to get the correct number of classes\n",
        "print(f\"Number of output classes (no_classes): {no_classes}\") # Add print statement to verify\n",
        "\n",
        "input_shape = (X.shape[1], X.shape[2])  # Example: (784, 1)\n",
        "\n",
        "# Head 1\n",
        "inputs1 = Input(shape=input_shape)\n",
        "conv1 = Conv1D(filters=64, kernel_size=200, activation='relu')(inputs1)\n",
        "drop1 = Dropout(0.5)(conv1)\n",
        "pool1 = MaxPooling1D(pool_size=20)(drop1)\n",
        "flat1 = Flatten()(pool1)\n",
        "\n",
        "# Head 2\n",
        "inputs2 = Input(shape=input_shape)\n",
        "conv2 = Conv1D(filters=64, kernel_size=100, activation='relu')(inputs2)\n",
        "drop2 = Dropout(0.5)(conv2)\n",
        "pool2 = MaxPooling1D(pool_size=10)(drop2)\n",
        "flat2 = Flatten()(pool2)\n",
        "\n",
        "# Head 3\n",
        "inputs3 = Input(shape=input_shape)\n",
        "conv3 = Conv1D(filters=64, kernel_size=50, activation='relu')(inputs3)\n",
        "drop3 = Dropout(0.5)(conv3)\n",
        "pool3 = MaxPooling1D(pool_size=5)(drop3)\n",
        "flat3 = Flatten()(pool3)\n",
        "\n",
        "# Merge all feature paths\n",
        "merged = concatenate([flat1, flat2, flat3])\n",
        "\n",
        "# Fully connected interpretation\n",
        "dense1 = Dense(100, activation='relu')(merged)\n",
        "outputs = Dense(no_classes, activation='softmax')(dense1)\n",
        "\n",
        "# Build and compile model with custom loss\n",
        "cnn_model = Model(inputs=[inputs1, inputs2, inputs3], outputs=outputs)\n",
        "cnn_model.compile(optimizer='adam', loss=custom_loss, metrics=['accuracy'])\n",
        "\n",
        "# Model summary\n",
        "cnn_model.summary()"
      ],
      "metadata": {
        "colab": {
          "base_uri": "https://localhost:8080/",
          "height": 901
        },
        "id": "kB3uGh-8J7no",
        "outputId": "b1544792-d9ce-414e-8e6d-870aae455083"
      },
      "id": "kB3uGh-8J7no",
      "execution_count": 7,
      "outputs": [
        {
          "output_type": "stream",
          "name": "stdout",
          "text": [
            "Number of output classes (no_classes): 10\n"
          ]
        },
        {
          "output_type": "display_data",
          "data": {
            "text/plain": [
              "\u001b[1mModel: \"functional\"\u001b[0m\n"
            ],
            "text/html": [
              "<pre style=\"white-space:pre;overflow-x:auto;line-height:normal;font-family:Menlo,'DejaVu Sans Mono',consolas,'Courier New',monospace\"><span style=\"font-weight: bold\">Model: \"functional\"</span>\n",
              "</pre>\n"
            ]
          },
          "metadata": {}
        },
        {
          "output_type": "display_data",
          "data": {
            "text/plain": [
              "┏━━━━━━━━━━━━━━━━━━━━━┳━━━━━━━━━━━━━━━━━━━┳━━━━━━━━━━━━┳━━━━━━━━━━━━━━━━━━━┓\n",
              "┃\u001b[1m \u001b[0m\u001b[1mLayer (type)       \u001b[0m\u001b[1m \u001b[0m┃\u001b[1m \u001b[0m\u001b[1mOutput Shape     \u001b[0m\u001b[1m \u001b[0m┃\u001b[1m \u001b[0m\u001b[1m   Param #\u001b[0m\u001b[1m \u001b[0m┃\u001b[1m \u001b[0m\u001b[1mConnected to     \u001b[0m\u001b[1m \u001b[0m┃\n",
              "┡━━━━━━━━━━━━━━━━━━━━━╇━━━━━━━━━━━━━━━━━━━╇━━━━━━━━━━━━╇━━━━━━━━━━━━━━━━━━━┩\n",
              "│ input_layer         │ (\u001b[38;5;45mNone\u001b[0m, \u001b[38;5;34m2706\u001b[0m, \u001b[38;5;34m1\u001b[0m)   │          \u001b[38;5;34m0\u001b[0m │ -                 │\n",
              "│ (\u001b[38;5;33mInputLayer\u001b[0m)        │                   │            │                   │\n",
              "├─────────────────────┼───────────────────┼────────────┼───────────────────┤\n",
              "│ input_layer_1       │ (\u001b[38;5;45mNone\u001b[0m, \u001b[38;5;34m2706\u001b[0m, \u001b[38;5;34m1\u001b[0m)   │          \u001b[38;5;34m0\u001b[0m │ -                 │\n",
              "│ (\u001b[38;5;33mInputLayer\u001b[0m)        │                   │            │                   │\n",
              "├─────────────────────┼───────────────────┼────────────┼───────────────────┤\n",
              "│ input_layer_2       │ (\u001b[38;5;45mNone\u001b[0m, \u001b[38;5;34m2706\u001b[0m, \u001b[38;5;34m1\u001b[0m)   │          \u001b[38;5;34m0\u001b[0m │ -                 │\n",
              "│ (\u001b[38;5;33mInputLayer\u001b[0m)        │                   │            │                   │\n",
              "├─────────────────────┼───────────────────┼────────────┼───────────────────┤\n",
              "│ conv1d (\u001b[38;5;33mConv1D\u001b[0m)     │ (\u001b[38;5;45mNone\u001b[0m, \u001b[38;5;34m2507\u001b[0m, \u001b[38;5;34m64\u001b[0m)  │     \u001b[38;5;34m12,864\u001b[0m │ input_layer[\u001b[38;5;34m0\u001b[0m][\u001b[38;5;34m0\u001b[0m] │\n",
              "├─────────────────────┼───────────────────┼────────────┼───────────────────┤\n",
              "│ conv1d_1 (\u001b[38;5;33mConv1D\u001b[0m)   │ (\u001b[38;5;45mNone\u001b[0m, \u001b[38;5;34m2607\u001b[0m, \u001b[38;5;34m64\u001b[0m)  │      \u001b[38;5;34m6,464\u001b[0m │ input_layer_1[\u001b[38;5;34m0\u001b[0m]… │\n",
              "├─────────────────────┼───────────────────┼────────────┼───────────────────┤\n",
              "│ conv1d_2 (\u001b[38;5;33mConv1D\u001b[0m)   │ (\u001b[38;5;45mNone\u001b[0m, \u001b[38;5;34m2657\u001b[0m, \u001b[38;5;34m64\u001b[0m)  │      \u001b[38;5;34m3,264\u001b[0m │ input_layer_2[\u001b[38;5;34m0\u001b[0m]… │\n",
              "├─────────────────────┼───────────────────┼────────────┼───────────────────┤\n",
              "│ dropout (\u001b[38;5;33mDropout\u001b[0m)   │ (\u001b[38;5;45mNone\u001b[0m, \u001b[38;5;34m2507\u001b[0m, \u001b[38;5;34m64\u001b[0m)  │          \u001b[38;5;34m0\u001b[0m │ conv1d[\u001b[38;5;34m0\u001b[0m][\u001b[38;5;34m0\u001b[0m]      │\n",
              "├─────────────────────┼───────────────────┼────────────┼───────────────────┤\n",
              "│ dropout_1 (\u001b[38;5;33mDropout\u001b[0m) │ (\u001b[38;5;45mNone\u001b[0m, \u001b[38;5;34m2607\u001b[0m, \u001b[38;5;34m64\u001b[0m)  │          \u001b[38;5;34m0\u001b[0m │ conv1d_1[\u001b[38;5;34m0\u001b[0m][\u001b[38;5;34m0\u001b[0m]    │\n",
              "├─────────────────────┼───────────────────┼────────────┼───────────────────┤\n",
              "│ dropout_2 (\u001b[38;5;33mDropout\u001b[0m) │ (\u001b[38;5;45mNone\u001b[0m, \u001b[38;5;34m2657\u001b[0m, \u001b[38;5;34m64\u001b[0m)  │          \u001b[38;5;34m0\u001b[0m │ conv1d_2[\u001b[38;5;34m0\u001b[0m][\u001b[38;5;34m0\u001b[0m]    │\n",
              "├─────────────────────┼───────────────────┼────────────┼───────────────────┤\n",
              "│ max_pooling1d       │ (\u001b[38;5;45mNone\u001b[0m, \u001b[38;5;34m125\u001b[0m, \u001b[38;5;34m64\u001b[0m)   │          \u001b[38;5;34m0\u001b[0m │ dropout[\u001b[38;5;34m0\u001b[0m][\u001b[38;5;34m0\u001b[0m]     │\n",
              "│ (\u001b[38;5;33mMaxPooling1D\u001b[0m)      │                   │            │                   │\n",
              "├─────────────────────┼───────────────────┼────────────┼───────────────────┤\n",
              "│ max_pooling1d_1     │ (\u001b[38;5;45mNone\u001b[0m, \u001b[38;5;34m260\u001b[0m, \u001b[38;5;34m64\u001b[0m)   │          \u001b[38;5;34m0\u001b[0m │ dropout_1[\u001b[38;5;34m0\u001b[0m][\u001b[38;5;34m0\u001b[0m]   │\n",
              "│ (\u001b[38;5;33mMaxPooling1D\u001b[0m)      │                   │            │                   │\n",
              "├─────────────────────┼───────────────────┼────────────┼───────────────────┤\n",
              "│ max_pooling1d_2     │ (\u001b[38;5;45mNone\u001b[0m, \u001b[38;5;34m531\u001b[0m, \u001b[38;5;34m64\u001b[0m)   │          \u001b[38;5;34m0\u001b[0m │ dropout_2[\u001b[38;5;34m0\u001b[0m][\u001b[38;5;34m0\u001b[0m]   │\n",
              "│ (\u001b[38;5;33mMaxPooling1D\u001b[0m)      │                   │            │                   │\n",
              "├─────────────────────┼───────────────────┼────────────┼───────────────────┤\n",
              "│ flatten (\u001b[38;5;33mFlatten\u001b[0m)   │ (\u001b[38;5;45mNone\u001b[0m, \u001b[38;5;34m8000\u001b[0m)      │          \u001b[38;5;34m0\u001b[0m │ max_pooling1d[\u001b[38;5;34m0\u001b[0m]… │\n",
              "├─────────────────────┼───────────────────┼────────────┼───────────────────┤\n",
              "│ flatten_1 (\u001b[38;5;33mFlatten\u001b[0m) │ (\u001b[38;5;45mNone\u001b[0m, \u001b[38;5;34m16640\u001b[0m)     │          \u001b[38;5;34m0\u001b[0m │ max_pooling1d_1[\u001b[38;5;34m…\u001b[0m │\n",
              "├─────────────────────┼───────────────────┼────────────┼───────────────────┤\n",
              "│ flatten_2 (\u001b[38;5;33mFlatten\u001b[0m) │ (\u001b[38;5;45mNone\u001b[0m, \u001b[38;5;34m33984\u001b[0m)     │          \u001b[38;5;34m0\u001b[0m │ max_pooling1d_2[\u001b[38;5;34m…\u001b[0m │\n",
              "├─────────────────────┼───────────────────┼────────────┼───────────────────┤\n",
              "│ concatenate         │ (\u001b[38;5;45mNone\u001b[0m, \u001b[38;5;34m58624\u001b[0m)     │          \u001b[38;5;34m0\u001b[0m │ flatten[\u001b[38;5;34m0\u001b[0m][\u001b[38;5;34m0\u001b[0m],    │\n",
              "│ (\u001b[38;5;33mConcatenate\u001b[0m)       │                   │            │ flatten_1[\u001b[38;5;34m0\u001b[0m][\u001b[38;5;34m0\u001b[0m],  │\n",
              "│                     │                   │            │ flatten_2[\u001b[38;5;34m0\u001b[0m][\u001b[38;5;34m0\u001b[0m]   │\n",
              "├─────────────────────┼───────────────────┼────────────┼───────────────────┤\n",
              "│ dense (\u001b[38;5;33mDense\u001b[0m)       │ (\u001b[38;5;45mNone\u001b[0m, \u001b[38;5;34m100\u001b[0m)       │  \u001b[38;5;34m5,862,500\u001b[0m │ concatenate[\u001b[38;5;34m0\u001b[0m][\u001b[38;5;34m0\u001b[0m] │\n",
              "├─────────────────────┼───────────────────┼────────────┼───────────────────┤\n",
              "│ dense_1 (\u001b[38;5;33mDense\u001b[0m)     │ (\u001b[38;5;45mNone\u001b[0m, \u001b[38;5;34m10\u001b[0m)        │      \u001b[38;5;34m1,010\u001b[0m │ dense[\u001b[38;5;34m0\u001b[0m][\u001b[38;5;34m0\u001b[0m]       │\n",
              "└─────────────────────┴───────────────────┴────────────┴───────────────────┘\n"
            ],
            "text/html": [
              "<pre style=\"white-space:pre;overflow-x:auto;line-height:normal;font-family:Menlo,'DejaVu Sans Mono',consolas,'Courier New',monospace\">┏━━━━━━━━━━━━━━━━━━━━━┳━━━━━━━━━━━━━━━━━━━┳━━━━━━━━━━━━┳━━━━━━━━━━━━━━━━━━━┓\n",
              "┃<span style=\"font-weight: bold\"> Layer (type)        </span>┃<span style=\"font-weight: bold\"> Output Shape      </span>┃<span style=\"font-weight: bold\">    Param # </span>┃<span style=\"font-weight: bold\"> Connected to      </span>┃\n",
              "┡━━━━━━━━━━━━━━━━━━━━━╇━━━━━━━━━━━━━━━━━━━╇━━━━━━━━━━━━╇━━━━━━━━━━━━━━━━━━━┩\n",
              "│ input_layer         │ (<span style=\"color: #00d7ff; text-decoration-color: #00d7ff\">None</span>, <span style=\"color: #00af00; text-decoration-color: #00af00\">2706</span>, <span style=\"color: #00af00; text-decoration-color: #00af00\">1</span>)   │          <span style=\"color: #00af00; text-decoration-color: #00af00\">0</span> │ -                 │\n",
              "│ (<span style=\"color: #0087ff; text-decoration-color: #0087ff\">InputLayer</span>)        │                   │            │                   │\n",
              "├─────────────────────┼───────────────────┼────────────┼───────────────────┤\n",
              "│ input_layer_1       │ (<span style=\"color: #00d7ff; text-decoration-color: #00d7ff\">None</span>, <span style=\"color: #00af00; text-decoration-color: #00af00\">2706</span>, <span style=\"color: #00af00; text-decoration-color: #00af00\">1</span>)   │          <span style=\"color: #00af00; text-decoration-color: #00af00\">0</span> │ -                 │\n",
              "│ (<span style=\"color: #0087ff; text-decoration-color: #0087ff\">InputLayer</span>)        │                   │            │                   │\n",
              "├─────────────────────┼───────────────────┼────────────┼───────────────────┤\n",
              "│ input_layer_2       │ (<span style=\"color: #00d7ff; text-decoration-color: #00d7ff\">None</span>, <span style=\"color: #00af00; text-decoration-color: #00af00\">2706</span>, <span style=\"color: #00af00; text-decoration-color: #00af00\">1</span>)   │          <span style=\"color: #00af00; text-decoration-color: #00af00\">0</span> │ -                 │\n",
              "│ (<span style=\"color: #0087ff; text-decoration-color: #0087ff\">InputLayer</span>)        │                   │            │                   │\n",
              "├─────────────────────┼───────────────────┼────────────┼───────────────────┤\n",
              "│ conv1d (<span style=\"color: #0087ff; text-decoration-color: #0087ff\">Conv1D</span>)     │ (<span style=\"color: #00d7ff; text-decoration-color: #00d7ff\">None</span>, <span style=\"color: #00af00; text-decoration-color: #00af00\">2507</span>, <span style=\"color: #00af00; text-decoration-color: #00af00\">64</span>)  │     <span style=\"color: #00af00; text-decoration-color: #00af00\">12,864</span> │ input_layer[<span style=\"color: #00af00; text-decoration-color: #00af00\">0</span>][<span style=\"color: #00af00; text-decoration-color: #00af00\">0</span>] │\n",
              "├─────────────────────┼───────────────────┼────────────┼───────────────────┤\n",
              "│ conv1d_1 (<span style=\"color: #0087ff; text-decoration-color: #0087ff\">Conv1D</span>)   │ (<span style=\"color: #00d7ff; text-decoration-color: #00d7ff\">None</span>, <span style=\"color: #00af00; text-decoration-color: #00af00\">2607</span>, <span style=\"color: #00af00; text-decoration-color: #00af00\">64</span>)  │      <span style=\"color: #00af00; text-decoration-color: #00af00\">6,464</span> │ input_layer_1[<span style=\"color: #00af00; text-decoration-color: #00af00\">0</span>]… │\n",
              "├─────────────────────┼───────────────────┼────────────┼───────────────────┤\n",
              "│ conv1d_2 (<span style=\"color: #0087ff; text-decoration-color: #0087ff\">Conv1D</span>)   │ (<span style=\"color: #00d7ff; text-decoration-color: #00d7ff\">None</span>, <span style=\"color: #00af00; text-decoration-color: #00af00\">2657</span>, <span style=\"color: #00af00; text-decoration-color: #00af00\">64</span>)  │      <span style=\"color: #00af00; text-decoration-color: #00af00\">3,264</span> │ input_layer_2[<span style=\"color: #00af00; text-decoration-color: #00af00\">0</span>]… │\n",
              "├─────────────────────┼───────────────────┼────────────┼───────────────────┤\n",
              "│ dropout (<span style=\"color: #0087ff; text-decoration-color: #0087ff\">Dropout</span>)   │ (<span style=\"color: #00d7ff; text-decoration-color: #00d7ff\">None</span>, <span style=\"color: #00af00; text-decoration-color: #00af00\">2507</span>, <span style=\"color: #00af00; text-decoration-color: #00af00\">64</span>)  │          <span style=\"color: #00af00; text-decoration-color: #00af00\">0</span> │ conv1d[<span style=\"color: #00af00; text-decoration-color: #00af00\">0</span>][<span style=\"color: #00af00; text-decoration-color: #00af00\">0</span>]      │\n",
              "├─────────────────────┼───────────────────┼────────────┼───────────────────┤\n",
              "│ dropout_1 (<span style=\"color: #0087ff; text-decoration-color: #0087ff\">Dropout</span>) │ (<span style=\"color: #00d7ff; text-decoration-color: #00d7ff\">None</span>, <span style=\"color: #00af00; text-decoration-color: #00af00\">2607</span>, <span style=\"color: #00af00; text-decoration-color: #00af00\">64</span>)  │          <span style=\"color: #00af00; text-decoration-color: #00af00\">0</span> │ conv1d_1[<span style=\"color: #00af00; text-decoration-color: #00af00\">0</span>][<span style=\"color: #00af00; text-decoration-color: #00af00\">0</span>]    │\n",
              "├─────────────────────┼───────────────────┼────────────┼───────────────────┤\n",
              "│ dropout_2 (<span style=\"color: #0087ff; text-decoration-color: #0087ff\">Dropout</span>) │ (<span style=\"color: #00d7ff; text-decoration-color: #00d7ff\">None</span>, <span style=\"color: #00af00; text-decoration-color: #00af00\">2657</span>, <span style=\"color: #00af00; text-decoration-color: #00af00\">64</span>)  │          <span style=\"color: #00af00; text-decoration-color: #00af00\">0</span> │ conv1d_2[<span style=\"color: #00af00; text-decoration-color: #00af00\">0</span>][<span style=\"color: #00af00; text-decoration-color: #00af00\">0</span>]    │\n",
              "├─────────────────────┼───────────────────┼────────────┼───────────────────┤\n",
              "│ max_pooling1d       │ (<span style=\"color: #00d7ff; text-decoration-color: #00d7ff\">None</span>, <span style=\"color: #00af00; text-decoration-color: #00af00\">125</span>, <span style=\"color: #00af00; text-decoration-color: #00af00\">64</span>)   │          <span style=\"color: #00af00; text-decoration-color: #00af00\">0</span> │ dropout[<span style=\"color: #00af00; text-decoration-color: #00af00\">0</span>][<span style=\"color: #00af00; text-decoration-color: #00af00\">0</span>]     │\n",
              "│ (<span style=\"color: #0087ff; text-decoration-color: #0087ff\">MaxPooling1D</span>)      │                   │            │                   │\n",
              "├─────────────────────┼───────────────────┼────────────┼───────────────────┤\n",
              "│ max_pooling1d_1     │ (<span style=\"color: #00d7ff; text-decoration-color: #00d7ff\">None</span>, <span style=\"color: #00af00; text-decoration-color: #00af00\">260</span>, <span style=\"color: #00af00; text-decoration-color: #00af00\">64</span>)   │          <span style=\"color: #00af00; text-decoration-color: #00af00\">0</span> │ dropout_1[<span style=\"color: #00af00; text-decoration-color: #00af00\">0</span>][<span style=\"color: #00af00; text-decoration-color: #00af00\">0</span>]   │\n",
              "│ (<span style=\"color: #0087ff; text-decoration-color: #0087ff\">MaxPooling1D</span>)      │                   │            │                   │\n",
              "├─────────────────────┼───────────────────┼────────────┼───────────────────┤\n",
              "│ max_pooling1d_2     │ (<span style=\"color: #00d7ff; text-decoration-color: #00d7ff\">None</span>, <span style=\"color: #00af00; text-decoration-color: #00af00\">531</span>, <span style=\"color: #00af00; text-decoration-color: #00af00\">64</span>)   │          <span style=\"color: #00af00; text-decoration-color: #00af00\">0</span> │ dropout_2[<span style=\"color: #00af00; text-decoration-color: #00af00\">0</span>][<span style=\"color: #00af00; text-decoration-color: #00af00\">0</span>]   │\n",
              "│ (<span style=\"color: #0087ff; text-decoration-color: #0087ff\">MaxPooling1D</span>)      │                   │            │                   │\n",
              "├─────────────────────┼───────────────────┼────────────┼───────────────────┤\n",
              "│ flatten (<span style=\"color: #0087ff; text-decoration-color: #0087ff\">Flatten</span>)   │ (<span style=\"color: #00d7ff; text-decoration-color: #00d7ff\">None</span>, <span style=\"color: #00af00; text-decoration-color: #00af00\">8000</span>)      │          <span style=\"color: #00af00; text-decoration-color: #00af00\">0</span> │ max_pooling1d[<span style=\"color: #00af00; text-decoration-color: #00af00\">0</span>]… │\n",
              "├─────────────────────┼───────────────────┼────────────┼───────────────────┤\n",
              "│ flatten_1 (<span style=\"color: #0087ff; text-decoration-color: #0087ff\">Flatten</span>) │ (<span style=\"color: #00d7ff; text-decoration-color: #00d7ff\">None</span>, <span style=\"color: #00af00; text-decoration-color: #00af00\">16640</span>)     │          <span style=\"color: #00af00; text-decoration-color: #00af00\">0</span> │ max_pooling1d_1[<span style=\"color: #00af00; text-decoration-color: #00af00\">…</span> │\n",
              "├─────────────────────┼───────────────────┼────────────┼───────────────────┤\n",
              "│ flatten_2 (<span style=\"color: #0087ff; text-decoration-color: #0087ff\">Flatten</span>) │ (<span style=\"color: #00d7ff; text-decoration-color: #00d7ff\">None</span>, <span style=\"color: #00af00; text-decoration-color: #00af00\">33984</span>)     │          <span style=\"color: #00af00; text-decoration-color: #00af00\">0</span> │ max_pooling1d_2[<span style=\"color: #00af00; text-decoration-color: #00af00\">…</span> │\n",
              "├─────────────────────┼───────────────────┼────────────┼───────────────────┤\n",
              "│ concatenate         │ (<span style=\"color: #00d7ff; text-decoration-color: #00d7ff\">None</span>, <span style=\"color: #00af00; text-decoration-color: #00af00\">58624</span>)     │          <span style=\"color: #00af00; text-decoration-color: #00af00\">0</span> │ flatten[<span style=\"color: #00af00; text-decoration-color: #00af00\">0</span>][<span style=\"color: #00af00; text-decoration-color: #00af00\">0</span>],    │\n",
              "│ (<span style=\"color: #0087ff; text-decoration-color: #0087ff\">Concatenate</span>)       │                   │            │ flatten_1[<span style=\"color: #00af00; text-decoration-color: #00af00\">0</span>][<span style=\"color: #00af00; text-decoration-color: #00af00\">0</span>],  │\n",
              "│                     │                   │            │ flatten_2[<span style=\"color: #00af00; text-decoration-color: #00af00\">0</span>][<span style=\"color: #00af00; text-decoration-color: #00af00\">0</span>]   │\n",
              "├─────────────────────┼───────────────────┼────────────┼───────────────────┤\n",
              "│ dense (<span style=\"color: #0087ff; text-decoration-color: #0087ff\">Dense</span>)       │ (<span style=\"color: #00d7ff; text-decoration-color: #00d7ff\">None</span>, <span style=\"color: #00af00; text-decoration-color: #00af00\">100</span>)       │  <span style=\"color: #00af00; text-decoration-color: #00af00\">5,862,500</span> │ concatenate[<span style=\"color: #00af00; text-decoration-color: #00af00\">0</span>][<span style=\"color: #00af00; text-decoration-color: #00af00\">0</span>] │\n",
              "├─────────────────────┼───────────────────┼────────────┼───────────────────┤\n",
              "│ dense_1 (<span style=\"color: #0087ff; text-decoration-color: #0087ff\">Dense</span>)     │ (<span style=\"color: #00d7ff; text-decoration-color: #00d7ff\">None</span>, <span style=\"color: #00af00; text-decoration-color: #00af00\">10</span>)        │      <span style=\"color: #00af00; text-decoration-color: #00af00\">1,010</span> │ dense[<span style=\"color: #00af00; text-decoration-color: #00af00\">0</span>][<span style=\"color: #00af00; text-decoration-color: #00af00\">0</span>]       │\n",
              "└─────────────────────┴───────────────────┴────────────┴───────────────────┘\n",
              "</pre>\n"
            ]
          },
          "metadata": {}
        },
        {
          "output_type": "display_data",
          "data": {
            "text/plain": [
              "\u001b[1m Total params: \u001b[0m\u001b[38;5;34m5,886,102\u001b[0m (22.45 MB)\n"
            ],
            "text/html": [
              "<pre style=\"white-space:pre;overflow-x:auto;line-height:normal;font-family:Menlo,'DejaVu Sans Mono',consolas,'Courier New',monospace\"><span style=\"font-weight: bold\"> Total params: </span><span style=\"color: #00af00; text-decoration-color: #00af00\">5,886,102</span> (22.45 MB)\n",
              "</pre>\n"
            ]
          },
          "metadata": {}
        },
        {
          "output_type": "display_data",
          "data": {
            "text/plain": [
              "\u001b[1m Trainable params: \u001b[0m\u001b[38;5;34m5,886,102\u001b[0m (22.45 MB)\n"
            ],
            "text/html": [
              "<pre style=\"white-space:pre;overflow-x:auto;line-height:normal;font-family:Menlo,'DejaVu Sans Mono',consolas,'Courier New',monospace\"><span style=\"font-weight: bold\"> Trainable params: </span><span style=\"color: #00af00; text-decoration-color: #00af00\">5,886,102</span> (22.45 MB)\n",
              "</pre>\n"
            ]
          },
          "metadata": {}
        },
        {
          "output_type": "display_data",
          "data": {
            "text/plain": [
              "\u001b[1m Non-trainable params: \u001b[0m\u001b[38;5;34m0\u001b[0m (0.00 B)\n"
            ],
            "text/html": [
              "<pre style=\"white-space:pre;overflow-x:auto;line-height:normal;font-family:Menlo,'DejaVu Sans Mono',consolas,'Courier New',monospace\"><span style=\"font-weight: bold\"> Non-trainable params: </span><span style=\"color: #00af00; text-decoration-color: #00af00\">0</span> (0.00 B)\n",
              "</pre>\n"
            ]
          },
          "metadata": {}
        }
      ]
    },
    {
      "cell_type": "code",
      "source": [
        "batch_size =100\n",
        "epochs = 20\n",
        "history = cnn_model.fit([X_train,X_train,X_train], y_train, batch_size=batch_size,epochs=epochs,verbose=1,validation_data=([X_test,X_test,X_test],y_test),shuffle=True)"
      ],
      "metadata": {
        "colab": {
          "base_uri": "https://localhost:8080/"
        },
        "id": "2Lxm-qvKM3oN",
        "outputId": "924d920e-af5f-4953-c274-2dbc4fc7bea6"
      },
      "id": "2Lxm-qvKM3oN",
      "execution_count": 8,
      "outputs": [
        {
          "output_type": "stream",
          "name": "stdout",
          "text": [
            "Epoch 1/20\n",
            "\u001b[1m16/16\u001b[0m \u001b[32m━━━━━━━━━━━━━━━━━━━━\u001b[0m\u001b[37m\u001b[0m \u001b[1m30s\u001b[0m 495ms/step - accuracy: 0.1322 - loss: 4.2022 - val_accuracy: 0.3165 - val_loss: 2.1696\n",
            "Epoch 2/20\n",
            "\u001b[1m16/16\u001b[0m \u001b[32m━━━━━━━━━━━━━━━━━━━━\u001b[0m\u001b[37m\u001b[0m \u001b[1m20s\u001b[0m 45ms/step - accuracy: 0.3742 - loss: 1.9763 - val_accuracy: 0.3730 - val_loss: 1.7964\n",
            "Epoch 3/20\n",
            "\u001b[1m16/16\u001b[0m \u001b[32m━━━━━━━━━━━━━━━━━━━━\u001b[0m\u001b[37m\u001b[0m \u001b[1m1s\u001b[0m 36ms/step - accuracy: 0.3612 - loss: 1.5673 - val_accuracy: 0.3685 - val_loss: 1.5137\n",
            "Epoch 4/20\n",
            "\u001b[1m16/16\u001b[0m \u001b[32m━━━━━━━━━━━━━━━━━━━━\u001b[0m\u001b[37m\u001b[0m \u001b[1m1s\u001b[0m 42ms/step - accuracy: 0.4983 - loss: 1.2043 - val_accuracy: 0.6984 - val_loss: 1.1684\n",
            "Epoch 5/20\n",
            "\u001b[1m16/16\u001b[0m \u001b[32m━━━━━━━━━━━━━━━━━━━━\u001b[0m\u001b[37m\u001b[0m \u001b[1m1s\u001b[0m 37ms/step - accuracy: 0.8014 - loss: 0.7678 - val_accuracy: 0.8380 - val_loss: 0.7815\n",
            "Epoch 6/20\n",
            "\u001b[1m16/16\u001b[0m \u001b[32m━━━━━━━━━━━━━━━━━━━━\u001b[0m\u001b[37m\u001b[0m \u001b[1m1s\u001b[0m 37ms/step - accuracy: 0.8930 - loss: 0.4258 - val_accuracy: 0.8826 - val_loss: 0.5182\n",
            "Epoch 7/20\n",
            "\u001b[1m16/16\u001b[0m \u001b[32m━━━━━━━━━━━━━━━━━━━━\u001b[0m\u001b[37m\u001b[0m \u001b[1m1s\u001b[0m 37ms/step - accuracy: 0.9338 - loss: 0.2245 - val_accuracy: 0.8648 - val_loss: 0.4445\n",
            "Epoch 8/20\n",
            "\u001b[1m16/16\u001b[0m \u001b[32m━━━━━━━━━━━━━━━━━━━━\u001b[0m\u001b[37m\u001b[0m \u001b[1m1s\u001b[0m 37ms/step - accuracy: 0.9554 - loss: 0.1525 - val_accuracy: 0.9302 - val_loss: 0.3206\n",
            "Epoch 9/20\n",
            "\u001b[1m16/16\u001b[0m \u001b[32m━━━━━━━━━━━━━━━━━━━━\u001b[0m\u001b[37m\u001b[0m \u001b[1m1s\u001b[0m 42ms/step - accuracy: 0.9942 - loss: 0.0857 - val_accuracy: 0.9391 - val_loss: 0.2658\n",
            "Epoch 10/20\n",
            "\u001b[1m16/16\u001b[0m \u001b[32m━━━━━━━━━━━━━━━━━━━━\u001b[0m\u001b[37m\u001b[0m \u001b[1m1s\u001b[0m 39ms/step - accuracy: 0.9942 - loss: 0.0612 - val_accuracy: 0.9287 - val_loss: 0.2591\n",
            "Epoch 11/20\n",
            "\u001b[1m16/16\u001b[0m \u001b[32m━━━━━━━━━━━━━━━━━━━━\u001b[0m\u001b[37m\u001b[0m \u001b[1m1s\u001b[0m 44ms/step - accuracy: 0.9998 - loss: 0.0430 - val_accuracy: 0.9257 - val_loss: 0.2605\n",
            "Epoch 12/20\n",
            "\u001b[1m16/16\u001b[0m \u001b[32m━━━━━━━━━━━━━━━━━━━━\u001b[0m\u001b[37m\u001b[0m \u001b[1m1s\u001b[0m 37ms/step - accuracy: 0.9958 - loss: 0.0405 - val_accuracy: 0.9257 - val_loss: 0.2780\n",
            "Epoch 13/20\n",
            "\u001b[1m16/16\u001b[0m \u001b[32m━━━━━━━━━━━━━━━━━━━━\u001b[0m\u001b[37m\u001b[0m \u001b[1m1s\u001b[0m 36ms/step - accuracy: 0.9913 - loss: 0.0526 - val_accuracy: 0.9480 - val_loss: 0.2315\n",
            "Epoch 14/20\n",
            "\u001b[1m16/16\u001b[0m \u001b[32m━━━━━━━━━━━━━━━━━━━━\u001b[0m\u001b[37m\u001b[0m \u001b[1m1s\u001b[0m 36ms/step - accuracy: 0.9970 - loss: 0.0325 - val_accuracy: 0.9079 - val_loss: 0.2883\n",
            "Epoch 15/20\n",
            "\u001b[1m16/16\u001b[0m \u001b[32m━━━━━━━━━━━━━━━━━━━━\u001b[0m\u001b[37m\u001b[0m \u001b[1m1s\u001b[0m 36ms/step - accuracy: 0.9905 - loss: 0.0537 - val_accuracy: 0.9287 - val_loss: 0.2450\n",
            "Epoch 16/20\n",
            "\u001b[1m16/16\u001b[0m \u001b[32m━━━━━━━━━━━━━━━━━━━━\u001b[0m\u001b[37m\u001b[0m \u001b[1m1s\u001b[0m 36ms/step - accuracy: 0.9781 - loss: 0.0946 - val_accuracy: 0.8915 - val_loss: 0.2887\n",
            "Epoch 17/20\n",
            "\u001b[1m16/16\u001b[0m \u001b[32m━━━━━━━━━━━━━━━━━━━━\u001b[0m\u001b[37m\u001b[0m \u001b[1m1s\u001b[0m 37ms/step - accuracy: 0.9693 - loss: 0.0971 - val_accuracy: 0.9480 - val_loss: 0.1973\n",
            "Epoch 18/20\n",
            "\u001b[1m16/16\u001b[0m \u001b[32m━━━━━━━━━━━━━━━━━━━━\u001b[0m\u001b[37m\u001b[0m \u001b[1m1s\u001b[0m 37ms/step - accuracy: 0.9917 - loss: 0.0693 - val_accuracy: 0.9510 - val_loss: 0.1820\n",
            "Epoch 19/20\n",
            "\u001b[1m16/16\u001b[0m \u001b[32m━━━━━━━━━━━━━━━━━━━━\u001b[0m\u001b[37m\u001b[0m \u001b[1m1s\u001b[0m 41ms/step - accuracy: 0.9985 - loss: 0.0263 - val_accuracy: 0.9688 - val_loss: 0.1538\n",
            "Epoch 20/20\n",
            "\u001b[1m16/16\u001b[0m \u001b[32m━━━━━━━━━━━━━━━━━━━━\u001b[0m\u001b[37m\u001b[0m \u001b[1m1s\u001b[0m 36ms/step - accuracy: 0.9896 - loss: 0.0376 - val_accuracy: 0.9554 - val_loss: 0.1738\n"
          ]
        }
      ]
    },
    {
      "cell_type": "code",
      "source": [
        "def inv_Transform_result(y_pred):\n",
        "    y_pred = y_pred.argmax(axis=1)\n",
        "    y_pred = encoder.inverse_transform(y_pred)\n",
        "    return y_pred\n",
        "\n",
        "\n",
        "\n",
        "y_pred=cnn_model.predict([X_test,X_test,X_test])\n",
        "\n",
        "\n",
        "Y_pred=inv_Transform_result(y_pred)\n",
        "Y_test = inv_Transform_result(y_test)\n",
        "\n",
        "\n",
        "\n",
        "\n",
        "from sklearn.metrics import confusion_matrix\n",
        "\n",
        "\n",
        "plt.figure(figsize=(10,10))\n",
        "cm = confusion_matrix(Y_test, Y_pred,normalize='true')\n",
        "f = sns.heatmap(cm, annot=True,xticklabels=encoder.classes_,yticklabels=encoder.classes_)"
      ],
      "metadata": {
        "colab": {
          "base_uri": "https://localhost:8080/",
          "height": 974
        },
        "id": "pbBmkBjlM5ks",
        "outputId": "cc1665cf-14f0-4672-f8bc-9cf1ccf42a84"
      },
      "id": "pbBmkBjlM5ks",
      "execution_count": 9,
      "outputs": [
        {
          "output_type": "stream",
          "name": "stdout",
          "text": [
            "\u001b[1m22/22\u001b[0m \u001b[32m━━━━━━━━━━━━━━━━━━━━\u001b[0m\u001b[37m\u001b[0m \u001b[1m2s\u001b[0m 38ms/step\n"
          ]
        },
        {
          "output_type": "display_data",
          "data": {
            "text/plain": [
              "<Figure size 1000x1000 with 2 Axes>"
            ],
            "image/png": "[encoded data removed]"
          },
          "metadata": {}
        }
      ]
    },
    {
      "cell_type": "code",
      "source": [
        "dummy_cnn = Model(inputs=cnn_model.input,outputs=cnn_model.layers[16].output)\n",
        "y_viz = dummy_cnn.predict([X_train,X_train,X_train])"
      ],
      "metadata": {
        "colab": {
          "base_uri": "https://localhost:8080/"
        },
        "id": "3tgRx2TxM-GS",
        "outputId": "d426eaff-f674-4730-ce94-6234800f5957"
      },
      "id": "3tgRx2TxM-GS",
      "execution_count": 10,
      "outputs": [
        {
          "output_type": "stream",
          "name": "stdout",
          "text": [
            "\u001b[1m50/50\u001b[0m \u001b[32m━━━━━━━━━━━━━━━━━━━━\u001b[0m\u001b[37m\u001b[0m \u001b[1m2s\u001b[0m 27ms/step\n"
          ]
        }
      ]
    },
    {
      "cell_type": "code",
      "source": [
        "import pandas as pd\n",
        "import seaborn as sns\n",
        "import matplotlib.pyplot as plt\n",
        "from sklearn.manifold import TSNE\n",
        "\n",
        "# Apply t-SNE transformation\n",
        "X_t_sne = TSNE(\n",
        "    n_components=2,\n",
        "    learning_rate='auto',\n",
        "    verbose=2,  # Increase verbosity for more detailed feedback\n",
        "    perplexity=40,\n",
        "    n_iter=500  # Slightly increased number of iterations for convergence\n",
        ").fit_transform(y_viz)\n",
        "\n",
        "# Create DataFrame for t-SNE components\n",
        "tSNEdf = pd.DataFrame(data=X_t_sne, columns=['T-SNE component 1', 'T-SNE component 2'])\n",
        "\n",
        "# Assuming `inv_Transform_result` transforms `y_train` to get the Fault labels\n",
        "tSNEdf['Fault'] = inv_Transform_result(y_train)\n",
        "\n",
        "# Save the t-SNE DataFrame as a CSV file\n",
        "tSNEdf.to_csv('/content/drive/MyDrive/MK-DCNN CWRU/NNOISE_0_tSNE_results.csv', index=True)\n",
        "print(\"t-SNE results saved as '/content/drive/MyDrive/MK-DCNN CWRU/NNOISE_0_tSNE_results.csv'.\")\n",
        "\n",
        "# # Plot the t-SNE results with Fault as hue\n",
        "# plt.figure(figsize=(12, 12))  # Larger figure for clarity\n",
        "# sns.scatterplot(\n",
        "#     x='T-SNE component 1',\n",
        "#     y='T-SNE component 2',\n",
        "#     hue='Fault',\n",
        "#     palette=sns.color_palette(\"husl\", as_cmap=False),  # Vivid color palette\n",
        "#     data=tSNEdf,\n",
        "#     legend=\"full\",\n",
        "#     alpha=0.7,  # Increased transparency for better overlap clarity\n",
        "#     s=100  # Larger marker size\n",
        "# )\n",
        "\n",
        "# # Add gridlines for better visualization\n",
        "# plt.grid\n",
        "\n",
        "\n",
        "# Optional: Visualization of t-SNE representation\n",
        "plt.figure(figsize=(8, 6))\n",
        "for label in tSNEdf['Fault'].unique():\n",
        "    subset = tSNEdf[tSNEdf['Fault'] == label]\n",
        "    plt.scatter(subset['T-SNE component 1'], subset['T-SNE component 2'], label=f'Fault {label}', alpha=0.7)\n",
        "\n",
        "plt.title('t-SNE Representation of Motor Fault Dataset')\n",
        "plt.xlabel('t-SNE 1')\n",
        "plt.ylabel('t-SNE 2')\n",
        "plt.legend()\n",
        "plt.show()"
      ],
      "metadata": {
        "colab": {
          "base_uri": "https://localhost:8080/",
          "height": 946
        },
        "id": "uic9AVV2NBah",
        "outputId": "72f4e794-705c-4ffb-da57-00efb4de109f"
      },
      "id": "uic9AVV2NBah",
      "execution_count": 11,
      "outputs": [
        {
          "output_type": "stream",
          "name": "stderr",
          "text": [
            "/usr/local/lib/python3.11/dist-packages/sklearn/manifold/_t_sne.py:1164: FutureWarning: 'n_iter' was renamed to 'max_iter' in version 1.5 and will be removed in 1.7.\n",
            "  warnings.warn(\n"
          ]
        },
        {
          "output_type": "stream",
          "name": "stdout",
          "text": [
            "[t-SNE] Computing 121 nearest neighbors...\n",
            "[t-SNE] Indexed 1570 samples in 0.001s...\n",
            "[t-SNE] Computed neighbors for 1570 samples in 0.313s...\n",
            "[t-SNE] Computed conditional probabilities for sample 1000 / 1570\n",
            "[t-SNE] Computed conditional probabilities for sample 1570 / 1570\n",
            "[t-SNE] Mean sigma: 2.256586\n",
            "[t-SNE] Computed conditional probabilities in 0.100s\n",
            "[t-SNE] Iteration 50: error = 57.5123978, gradient norm = 0.0369784 (50 iterations in 0.594s)\n",
            "[t-SNE] Iteration 100: error = 52.4842682, gradient norm = 0.0145584 (50 iterations in 0.414s)\n",
            "[t-SNE] Iteration 150: error = 51.2823677, gradient norm = 0.0099331 (50 iterations in 0.414s)\n",
            "[t-SNE] Iteration 200: error = 50.7039833, gradient norm = 0.0072985 (50 iterations in 0.435s)\n",
            "[t-SNE] Iteration 250: error = 50.3523445, gradient norm = 0.0054346 (50 iterations in 0.399s)\n",
            "[t-SNE] KL divergence after 250 iterations with early exaggeration: 50.352345\n",
            "[t-SNE] Iteration 300: error = 0.9130079, gradient norm = 0.0162063 (50 iterations in 0.440s)\n",
            "[t-SNE] Iteration 350: error = 0.6548755, gradient norm = 0.0142550 (50 iterations in 0.419s)\n",
            "[t-SNE] Iteration 400: error = 0.5531760, gradient norm = 0.0122472 (50 iterations in 0.427s)\n",
            "[t-SNE] Iteration 450: error = 0.5029502, gradient norm = 0.0106767 (50 iterations in 0.450s)\n",
            "[t-SNE] Iteration 500: error = 0.4742629, gradient norm = 0.0091379 (50 iterations in 0.416s)\n",
            "[t-SNE] KL divergence after 500 iterations: 0.474263\n",
            "t-SNE results saved as '/content/drive/MyDrive/MK-DCNN CWRU/NNOISE_0_tSNE_results.csv'.\n"
          ]
        },
        {
          "output_type": "display_data",
          "data": {
            "text/plain": [
              "<Figure size 800x600 with 1 Axes>"
            ],
            "image/png": "[encoded data removed]"
          },
          "metadata": {}
        }
      ]
    },
    {
      "cell_type": "markdown",
      "source": [
        "Statistical Features"
      ],
      "metadata": {
        "id": "PRuXPOIH6cTH"
      },
      "id": "PRuXPOIH6cTH"
    },
    {
      "cell_type": "code",
      "source": [
        "import numpy as np\n",
        "from scipy.stats import skew, kurtosis\n",
        "import pandas as pd\n",
        "import matplotlib.pyplot as plt\n",
        "\n",
        "# Total target rows\n",
        "TARGET_ROWS = 1800\n",
        "\n",
        "# Estimate the total number of samples across all fault types\n",
        "total_samples = sum(len(df[df['fault'] == f]) for f in df['fault'].unique())\n",
        "\n",
        "# Calculate suitable window size and stride\n",
        "num_faults = 9\n",
        "average_samples_per_fault = total_samples / num_faults\n",
        "approx_windows_per_fault = TARGET_ROWS / num_faults\n",
        "stride_ratio = 0.8  # Initial stride/window ratio\n",
        "\n",
        "WINDOW_SIZE = int(average_samples_per_fault / approx_windows_per_fault)\n",
        "STRIDE = int(WINDOW_SIZE * stride_ratio)\n",
        "\n",
        "print(f\"Calculated WINDOW_SIZE: {WINDOW_SIZE}, STRIDE: {STRIDE}\")\n",
        "\n",
        "# Initialize a list to store statistical features\n",
        "statistical_features = []\n",
        "\n",
        "# Loop through each fault type\n",
        "for f in df['fault'].unique():\n",
        "    # Extract data for the current fault type\n",
        "    fault_data = df[df['fault'] == f].iloc[:, 0].values  # Convert to NumPy array for efficiency\n",
        "\n",
        "    # Compute windows using sliding window approach\n",
        "    num_windows = (len(fault_data) - WINDOW_SIZE) // STRIDE + 1\n",
        "    for i in range(num_windows):\n",
        "        start = i * STRIDE\n",
        "        end = start + WINDOW_SIZE\n",
        "        window = fault_data[start:end]\n",
        "\n",
        "        # Convert window to a numeric type\n",
        "        window = window.astype(float)\n",
        "\n",
        "        # Compute statistical features for the current window\n",
        "        mean_val = np.mean(window)\n",
        "        std_val = np.std(window)\n",
        "        rms_val = np.sqrt(np.mean(np.square(window)))\n",
        "        max_val = np.max(window)\n",
        "        min_val = np.min(window)\n",
        "        skewness_val = skew(window)\n",
        "        kurtosis_val = kurtosis(window)\n",
        "\n",
        "        # Additional statistical features\n",
        "        mean_abs_val = np.mean(np.abs(window))\n",
        "        form_factor = rms_val / mean_abs_val if mean_abs_val != 0 else 0\n",
        "        crest_factor = max_val / rms_val if rms_val != 0 else 0\n",
        "\n",
        "        # Store the features in a dictionary\n",
        "        statistical_features.append({\n",
        "            'fault': f,\n",
        "            'window': i + 1,\n",
        "            'mean': mean_val,\n",
        "            'std': std_val,\n",
        "            'rms': rms_val,\n",
        "            'max': max_val,\n",
        "            'min': min_val,\n",
        "            'skewness': skewness_val,\n",
        "            'kurtosis': kurtosis_val,\n",
        "            'form_factor': form_factor,\n",
        "            'crest_factor': crest_factor\n",
        "        })\n",
        "\n",
        "# Convert statistical features into a DataFrame\n",
        "stat_features_df = pd.DataFrame(statistical_features)\n",
        "\n",
        "# Display the extracted features and count of rows\n",
        "print(f\"Extracted {len(stat_features_df)} rows (target: {TARGET_ROWS})\")\n",
        "print(stat_features_df)\n",
        "\n",
        "# Save the extracted features to a CSV file\n",
        "output_file = \"/content/drive/MyDrive/MK-DCNN CWRU/NNOISE_0_statistical_features_with_form_and_crest_factors.csv\"\n",
        "stat_features_df.to_csv(output_file, index=False)\n",
        "print(f\"Statistical features saved to '{output_file}'.\")"
      ],
      "metadata": {
        "colab": {
          "base_uri": "https://localhost:8080/"
        },
        "id": "HRTIq9cYQgjC",
        "outputId": "99ec646b-b129-4221-93e2-eaed06ad1d1a"
      },
      "id": "HRTIq9cYQgjC",
      "execution_count": 12,
      "outputs": [
        {
          "output_type": "stream",
          "name": "stdout",
          "text": [
            "Calculated WINDOW_SIZE: 2706, STRIDE: 2164\n",
            "Extracted 2243 rows (target: 1800)\n",
            "                 fault  window      mean       std       rms       max  \\\n",
            "0     F9_OR021_6_1_240       1  0.016366  0.510731  0.510993  3.210128   \n",
            "1     F9_OR021_6_1_240       2  0.014159  0.686381  0.686527  4.917856   \n",
            "2     F9_OR021_6_1_240       3  0.016005  0.676270  0.676459  3.917091   \n",
            "3     F9_OR021_6_1_240       4  0.015120  0.399176  0.399462  2.891285   \n",
            "4     F9_OR021_6_1_240       5  0.012245  0.652533  0.652647  3.684219   \n",
            "...                ...     ...       ...       ...       ...       ...   \n",
            "2238    F0_Normal_1_98     219  0.013966  0.066277  0.067733  0.220089   \n",
            "2239    F0_Normal_1_98     220  0.015203  0.064545  0.066311  0.211536   \n",
            "2240    F0_Normal_1_98     221  0.016827  0.061149  0.063422  0.188588   \n",
            "2241    F0_Normal_1_98     222  0.015862  0.072285  0.074005  0.317513   \n",
            "2242    F0_Normal_1_98     223  0.015302  0.066122  0.067869  0.196307   \n",
            "\n",
            "           min  skewness   kurtosis  form_factor  crest_factor  \n",
            "0    -3.966336 -0.827175  16.554159     1.919117      6.282134  \n",
            "1    -4.585659  0.017688  11.361294     1.809829      7.163383  \n",
            "2    -4.262643 -0.234171  11.489534     1.912550      5.790582  \n",
            "3    -2.846213 -0.017033  11.072242     1.616959      7.237946  \n",
            "4    -4.165821 -0.571949  11.954492     2.010266      5.645037  \n",
            "...        ...       ...        ...          ...           ...  \n",
            "2238 -0.209658 -0.152031  -0.083714     1.246501      3.249383  \n",
            "2239 -0.246792 -0.239584   0.199873     1.255982      3.190037  \n",
            "2240 -0.197559 -0.218155  -0.222854     1.227483      2.973548  \n",
            "2241 -0.345884 -0.204672   0.504014     1.245955      4.290418  \n",
            "2242 -0.192761 -0.175044  -0.329181     1.224926      2.892435  \n",
            "\n",
            "[2243 rows x 11 columns]\n",
            "Statistical features saved to '/content/drive/MyDrive/MK-DCNN CWRU/NNOISE_0_statistical_features_with_form_and_crest_factors.csv'.\n"
          ]
        }
      ]
    },
    {
      "cell_type": "code",
      "source": [
        "import pandas as pd\n",
        "from sklearn.utils import resample\n",
        "\n",
        "# Load your dataset (replace 'your_dataset.csv' with your actual file)\n",
        "df = pd.read_csv('/content/drive/MyDrive/MK-DCNN CWRU/NNOISE_0_statistical_features_with_form_and_crest_factors.csv')\n",
        "\n",
        "# Display initial class distribution\n",
        "print(\"Initial class distribution:\")\n",
        "print(df['fault'].value_counts())\n",
        "\n",
        "# Target size for undersampling/resampling\n",
        "TARGET_ROWS = 1570\n",
        "\n",
        "# Separate all fault types\n",
        "fault_classes = df['fault'].value_counts()\n",
        "\n",
        "# Determine the number of classes\n",
        "num_classes = len(fault_classes)\n",
        "\n",
        "# Calculate how many samples to take from each class\n",
        "samples_per_class = TARGET_ROWS // num_classes\n",
        "\n",
        "# Initialize a list to store resampled data\n",
        "resampled_data = []\n",
        "\n",
        "# Loop over each class to resample them\n",
        "for fault_class in fault_classes.index:\n",
        "    class_data = df[df['fault'] == fault_class]\n",
        "    if len(class_data) > samples_per_class:\n",
        "        # Undersample\n",
        "        class_data_resampled = resample(class_data, replace=False, n_samples=samples_per_class, random_state=42)\n",
        "    else:\n",
        "        # Upsample\n",
        "        class_data_resampled = resample(class_data, replace=True, n_samples=samples_per_class, random_state=42)\n",
        "\n",
        "    resampled_data.append(class_data_resampled)\n",
        "\n",
        "# Concatenate the resampled data into a single DataFrame\n",
        "balanced_df = pd.concat(resampled_data)\n",
        "\n",
        "# Check if we have the exact number of rows\n",
        "current_rows = len(balanced_df)\n",
        "print(f\"Current rows after equal resampling: {current_rows}\")\n",
        "\n",
        "# If the current rows don't match the target rows, adjust by trimming or adding rows\n",
        "if current_rows > TARGET_ROWS:\n",
        "    # Trim extra rows (if more than target)\n",
        "    balanced_df = balanced_df.head(TARGET_ROWS)\n",
        "elif current_rows < TARGET_ROWS:\n",
        "    # Add rows if fewer than target, by sampling from existing data\n",
        "    remaining_rows = TARGET_ROWS - current_rows\n",
        "    additional_data = balanced_df.sample(n=remaining_rows, replace=True, random_state=42)\n",
        "    balanced_df = pd.concat([balanced_df, additional_data])\n",
        "\n",
        "# Shuffle the final dataset\n",
        "balanced_df = balanced_df.sample(frac=1, random_state=42).reset_index(drop=True)\n",
        "\n",
        "# Display new class distribution\n",
        "print(\"New class distribution:\")\n",
        "print(balanced_df['fault'].value_counts())\n",
        "\n",
        "# Display final row count\n",
        "print(f\"Final row count: {len(balanced_df)}\")\n",
        "\n",
        "# Save the balanced dataset to a CSV file\n",
        "balanced_df.to_csv(\"/content/drive/MyDrive/MK-DCNN CWRU/NNOISE_0_balanced_dataset_equal_resampling_exact_1570.csv\", index=False)\n",
        "print(\"Balanced dataset saved as '/content/drive/MyDrive/MK-DCNN CWRU/NNOISE_0_balanced_dataset_equal_resampling_exact_1570.csv'\")\n"
      ],
      "metadata": {
        "id": "0-DLTbJL0tc6",
        "colab": {
          "base_uri": "https://localhost:8080/"
        },
        "outputId": "72f1d32c-9e4e-462e-c0f6-57de864ab89b"
      },
      "id": "0-DLTbJL0tc6",
      "execution_count": 13,
      "outputs": [
        {
          "output_type": "stream",
          "name": "stdout",
          "text": [
            "Initial class distribution:\n",
            "fault\n",
            "F6_IR021_1_215      226\n",
            "F9_OR021_6_1_240    225\n",
            "F5_IR014_1_176      225\n",
            "F3_B021_1_228       224\n",
            "F2_B014_1_191       224\n",
            "F8_OR014_6_1_203    224\n",
            "F7_OR007_6_1_137    224\n",
            "F1_B007_1_124       224\n",
            "F4_IR007_1_111      224\n",
            "F0_Normal_1_98      223\n",
            "Name: count, dtype: int64\n",
            "Current rows after equal resampling: 1570\n",
            "New class distribution:\n",
            "fault\n",
            "F0_Normal_1_98      157\n",
            "F7_OR007_6_1_137    157\n",
            "F5_IR014_1_176      157\n",
            "F1_B007_1_124       157\n",
            "F8_OR014_6_1_203    157\n",
            "F3_B021_1_228       157\n",
            "F6_IR021_1_215      157\n",
            "F9_OR021_6_1_240    157\n",
            "F2_B014_1_191       157\n",
            "F4_IR007_1_111      157\n",
            "Name: count, dtype: int64\n",
            "Final row count: 1570\n",
            "Balanced dataset saved as '/content/drive/MyDrive/MK-DCNN CWRU/NNOISE_0_balanced_dataset_equal_resampling_exact_1570.csv'\n"
          ]
        }
      ]
    },
    {
      "cell_type": "code",
      "source": [
        "balanced_df.shape"
      ],
      "metadata": {
        "id": "NQ3f_WOt7Dld",
        "colab": {
          "base_uri": "https://localhost:8080/"
        },
        "outputId": "7260c24c-67b8-4c13-ed7a-6ba54419de46"
      },
      "id": "NQ3f_WOt7Dld",
      "execution_count": 14,
      "outputs": [
        {
          "output_type": "execute_result",
          "data": {
            "text/plain": [
              "(1570, 11)"
            ]
          },
          "metadata": {},
          "execution_count": 14
        }
      ]
    },
    {
      "cell_type": "code",
      "source": [
        "balanced_df=balanced_df.sort_values(by='fault')"
      ],
      "metadata": {
        "id": "JP_zDzu6_Zkt"
      },
      "id": "JP_zDzu6_Zkt",
      "execution_count": 15,
      "outputs": []
    },
    {
      "cell_type": "code",
      "source": [
        "balanced_df"
      ],
      "metadata": {
        "id": "eq6MhY1CAvgD",
        "colab": {
          "base_uri": "https://localhost:8080/",
          "height": 457
        },
        "outputId": "154d8234-b456-437c-f5e7-f1c49637ad9a"
      },
      "id": "eq6MhY1CAvgD",
      "execution_count": 16,
      "outputs": [
        {
          "output_type": "execute_result",
          "data": {
            "text/plain": [
              "                 fault  window      mean       std       rms       max  \\\n",
              "0       F0_Normal_1_98      43  0.009751  0.065139  0.065864  0.212996   \n",
              "922     F0_Normal_1_98     160  0.015381  0.064958  0.066754  0.219672   \n",
              "917     F0_Normal_1_98     190  0.014691  0.061817  0.063539  0.200479   \n",
              "898     F0_Normal_1_98      47  0.010687  0.064335  0.065217  0.241577   \n",
              "891     F0_Normal_1_98      87  0.012418  0.063588  0.064790  0.249087   \n",
              "...                ...     ...       ...       ...       ...       ...   \n",
              "386   F9_OR021_6_1_240     151  0.016677  0.536026  0.536285  3.519789   \n",
              "965   F9_OR021_6_1_240      39  0.018603  0.509769  0.510109  3.507269   \n",
              "962   F9_OR021_6_1_240     136  0.014911  0.520936  0.521149  3.901232   \n",
              "400   F9_OR021_6_1_240     177  0.016195  0.525381  0.525631  3.502261   \n",
              "1190  F9_OR021_6_1_240      48  0.017814  0.679646  0.679880  5.062253   \n",
              "\n",
              "           min  skewness   kurtosis  form_factor  crest_factor  \n",
              "0    -0.215708 -0.274433  -0.045461     1.236035      3.233858  \n",
              "922  -0.222801 -0.136383   0.133182     1.255333      3.290782  \n",
              "917  -0.216126 -0.244098   0.003523     1.235278      3.155220  \n",
              "898  -0.221550 -0.175094   0.187304     1.251745      3.704224  \n",
              "891  -0.245540 -0.174432   0.529073     1.270152      3.844544  \n",
              "...        ...       ...        ...          ...           ...  \n",
              "386  -4.727552 -1.042616  21.552404     1.995160      6.563276  \n",
              "965  -3.456355 -0.464676  12.477692     1.743398      6.875535  \n",
              "962  -4.596509 -1.108043  23.892289     2.017932      7.485829  \n",
              "400  -3.983864 -0.592059  17.157678     1.880612      6.662969  \n",
              "1190 -5.172429 -0.647720  17.112064     1.959387      7.445807  \n",
              "\n",
              "[1570 rows x 11 columns]"
            ],
            "text/html": [
              "\n",
              "  <div id=\"df-315f5804-0004-428f-b6f2-23327b45b5c0\" class=\"colab-df-container\">\n",
              "    <div>\n",
              "<style scoped>\n",
              "    .dataframe tbody tr th:only-of-type {\n",
              "        vertical-align: middle;\n",
              "    }\n",
              "\n",
              "    .dataframe tbody tr th {\n",
              "        vertical-align: top;\n",
              "    }\n",
              "\n",
              "    .dataframe thead th {\n",
              "        text-align: right;\n",
              "    }\n",
              "</style>\n",
              "<table border=\"1\" class=\"dataframe\">\n",
              "  <thead>\n",
              "    <tr style=\"text-align: right;\">\n",
              "      <th></th>\n",
              "      <th>fault</th>\n",
              "      <th>window</th>\n",
              "      <th>mean</th>\n",
              "      <th>std</th>\n",
              "      <th>rms</th>\n",
              "      <th>max</th>\n",
              "      <th>min</th>\n",
              "      <th>skewness</th>\n",
              "      <th>kurtosis</th>\n",
              "      <th>form_factor</th>\n",
              "      <th>crest_factor</th>\n",
              "    </tr>\n",
              "  </thead>\n",
              "  <tbody>\n",
              "    <tr>\n",
              "      <th>0</th>\n",
              "      <td>F0_Normal_1_98</td>\n",
              "      <td>43</td>\n",
              "      <td>0.009751</td>\n",
              "      <td>0.065139</td>\n",
              "      <td>0.065864</td>\n",
              "      <td>0.212996</td>\n",
              "      <td>-0.215708</td>\n",
              "      <td>-0.274433</td>\n",
              "      <td>-0.045461</td>\n",
              "      <td>1.236035</td>\n",
              "      <td>3.233858</td>\n",
              "    </tr>\n",
              "    <tr>\n",
              "      <th>922</th>\n",
              "      <td>F0_Normal_1_98</td>\n",
              "      <td>160</td>\n",
              "      <td>0.015381</td>\n",
              "      <td>0.064958</td>\n",
              "      <td>0.066754</td>\n",
              "      <td>0.219672</td>\n",
              "      <td>-0.222801</td>\n",
              "      <td>-0.136383</td>\n",
              "      <td>0.133182</td>\n",
              "      <td>1.255333</td>\n",
              "      <td>3.290782</td>\n",
              "    </tr>\n",
              "    <tr>\n",
              "      <th>917</th>\n",
              "      <td>F0_Normal_1_98</td>\n",
              "      <td>190</td>\n",
              "      <td>0.014691</td>\n",
              "      <td>0.061817</td>\n",
              "      <td>0.063539</td>\n",
              "      <td>0.200479</td>\n",
              "      <td>-0.216126</td>\n",
              "      <td>-0.244098</td>\n",
              "      <td>0.003523</td>\n",
              "      <td>1.235278</td>\n",
              "      <td>3.155220</td>\n",
              "    </tr>\n",
              "    <tr>\n",
              "      <th>898</th>\n",
              "      <td>F0_Normal_1_98</td>\n",
              "      <td>47</td>\n",
              "      <td>0.010687</td>\n",
              "      <td>0.064335</td>\n",
              "      <td>0.065217</td>\n",
              "      <td>0.241577</td>\n",
              "      <td>-0.221550</td>\n",
              "      <td>-0.175094</td>\n",
              "      <td>0.187304</td>\n",
              "      <td>1.251745</td>\n",
              "      <td>3.704224</td>\n",
              "    </tr>\n",
              "    <tr>\n",
              "      <th>891</th>\n",
              "      <td>F0_Normal_1_98</td>\n",
              "      <td>87</td>\n",
              "      <td>0.012418</td>\n",
              "      <td>0.063588</td>\n",
              "      <td>0.064790</td>\n",
              "      <td>0.249087</td>\n",
              "      <td>-0.245540</td>\n",
              "      <td>-0.174432</td>\n",
              "      <td>0.529073</td>\n",
              "      <td>1.270152</td>\n",
              "      <td>3.844544</td>\n",
              "    </tr>\n",
              "    <tr>\n",
              "      <th>...</th>\n",
              "      <td>...</td>\n",
              "      <td>...</td>\n",
              "      <td>...</td>\n",
              "      <td>...</td>\n",
              "      <td>...</td>\n",
              "      <td>...</td>\n",
              "      <td>...</td>\n",
              "      <td>...</td>\n",
              "      <td>...</td>\n",
              "      <td>...</td>\n",
              "      <td>...</td>\n",
              "    </tr>\n",
              "    <tr>\n",
              "      <th>386</th>\n",
              "      <td>F9_OR021_6_1_240</td>\n",
              "      <td>151</td>\n",
              "      <td>0.016677</td>\n",
              "      <td>0.536026</td>\n",
              "      <td>0.536285</td>\n",
              "      <td>3.519789</td>\n",
              "      <td>-4.727552</td>\n",
              "      <td>-1.042616</td>\n",
              "      <td>21.552404</td>\n",
              "      <td>1.995160</td>\n",
              "      <td>6.563276</td>\n",
              "    </tr>\n",
              "    <tr>\n",
              "      <th>965</th>\n",
              "      <td>F9_OR021_6_1_240</td>\n",
              "      <td>39</td>\n",
              "      <td>0.018603</td>\n",
              "      <td>0.509769</td>\n",
              "      <td>0.510109</td>\n",
              "      <td>3.507269</td>\n",
              "      <td>-3.456355</td>\n",
              "      <td>-0.464676</td>\n",
              "      <td>12.477692</td>\n",
              "      <td>1.743398</td>\n",
              "      <td>6.875535</td>\n",
              "    </tr>\n",
              "    <tr>\n",
              "      <th>962</th>\n",
              "      <td>F9_OR021_6_1_240</td>\n",
              "      <td>136</td>\n",
              "      <td>0.014911</td>\n",
              "      <td>0.520936</td>\n",
              "      <td>0.521149</td>\n",
              "      <td>3.901232</td>\n",
              "      <td>-4.596509</td>\n",
              "      <td>-1.108043</td>\n",
              "      <td>23.892289</td>\n",
              "      <td>2.017932</td>\n",
              "      <td>7.485829</td>\n",
              "    </tr>\n",
              "    <tr>\n",
              "      <th>400</th>\n",
              "      <td>F9_OR021_6_1_240</td>\n",
              "      <td>177</td>\n",
              "      <td>0.016195</td>\n",
              "      <td>0.525381</td>\n",
              "      <td>0.525631</td>\n",
              "      <td>3.502261</td>\n",
              "      <td>-3.983864</td>\n",
              "      <td>-0.592059</td>\n",
              "      <td>17.157678</td>\n",
              "      <td>1.880612</td>\n",
              "      <td>6.662969</td>\n",
              "    </tr>\n",
              "    <tr>\n",
              "      <th>1190</th>\n",
              "      <td>F9_OR021_6_1_240</td>\n",
              "      <td>48</td>\n",
              "      <td>0.017814</td>\n",
              "      <td>0.679646</td>\n",
              "      <td>0.679880</td>\n",
              "      <td>5.062253</td>\n",
              "      <td>-5.172429</td>\n",
              "      <td>-0.647720</td>\n",
              "      <td>17.112064</td>\n",
              "      <td>1.959387</td>\n",
              "      <td>7.445807</td>\n",
              "    </tr>\n",
              "  </tbody>\n",
              "</table>\n",
              "<p>1570 rows × 11 columns</p>\n",
              "</div>\n",
              "    <div class=\"colab-df-buttons\">\n",
              "\n",
              "  <div class=\"colab-df-container\">\n",
              "    <button class=\"colab-df-convert\" onclick=\"convertToInteractive('df-315f5804-0004-428f-b6f2-23327b45b5c0')\"\n",
              "            title=\"Convert this dataframe to an interactive table.\"\n",
              "            style=\"display:none;\">\n",
              "\n",
              "  <svg xmlns=\"http://www.w3.org/2000/svg\" height=\"24px\" viewBox=\"0 -960 960 960\">\n",
              "    <path d=\"M120-120v-720h720v720H120Zm60-500h600v-160H180v160Zm220 220h160v-160H400v160Zm0 220h160v-160H400v160ZM180-400h160v-160H180v160Zm440 0h160v-160H620v160ZM180-180h160v-160H180v160Zm440 0h160v-160H620v160Z\"/>\n",
              "  </svg>\n",
              "    </button>\n",
              "\n",
              "  <style>\n",
              "    .colab-df-container {\n",
              "      display:flex;\n",
              "      gap: 12px;\n",
              "    }\n",
              "\n",
              "    .colab-df-convert {\n",
              "      background-color: #E8F0FE;\n",
              "      border: none;\n",
              "      border-radius: 50%;\n",
              "      cursor: pointer;\n",
              "      display: none;\n",
              "      fill: #1967D2;\n",
              "      height: 32px;\n",
              "      padding: 0 0 0 0;\n",
              "      width: 32px;\n",
              "    }\n",
              "\n",
              "    .colab-df-convert:hover {\n",
              "      background-color: #E2EBFA;\n",
              "      box-shadow: 0px 1px 2px rgba(60, 64, 67, 0.3), 0px 1px 3px 1px rgba(60, 64, 67, 0.15);\n",
              "      fill: #174EA6;\n",
              "    }\n",
              "\n",
              "    .colab-df-buttons div {\n",
              "      margin-bottom: 4px;\n",
              "    }\n",
              "\n",
              "    [theme=dark] .colab-df-convert {\n",
              "      background-color: #3B4455;\n",
              "      fill: #D2E3FC;\n",
              "    }\n",
              "\n",
              "    [theme=dark] .colab-df-convert:hover {\n",
              "      background-color: #434B5C;\n",
              "      box-shadow: 0px 1px 3px 1px rgba(0, 0, 0, 0.15);\n",
              "      filter: drop-shadow(0px 1px 2px rgba(0, 0, 0, 0.3));\n",
              "      fill: #FFFFFF;\n",
              "    }\n",
              "  </style>\n",
              "\n",
              "    <script>\n",
              "      const buttonEl =\n",
              "        document.querySelector('#df-315f5804-0004-428f-b6f2-23327b45b5c0 button.colab-df-convert');\n",
              "      buttonEl.style.display =\n",
              "        google.colab.kernel.accessAllowed ? 'block' : 'none';\n",
              "\n",
              "      async function convertToInteractive(key) {\n",
              "        const element = document.querySelector('#df-315f5804-0004-428f-b6f2-23327b45b5c0');\n",
              "        const dataTable =\n",
              "          await google.colab.kernel.invokeFunction('convertToInteractive',\n",
              "                                                    [key], {});\n",
              "        if (!dataTable) return;\n",
              "\n",
              "        const docLinkHtml = 'Like what you see? Visit the ' +\n",
              "          '<a target=\"_blank\" href=https://colab.research.google.com/notebooks/data_table.ipynb>data table notebook</a>'\n",
              "          + ' to learn more about interactive tables.';\n",
              "        element.innerHTML = '';\n",
              "        dataTable['output_type'] = 'display_data';\n",
              "        await google.colab.output.renderOutput(dataTable, element);\n",
              "        const docLink = document.createElement('div');\n",
              "        docLink.innerHTML = docLinkHtml;\n",
              "        element.appendChild(docLink);\n",
              "      }\n",
              "    </script>\n",
              "  </div>\n",
              "\n",
              "\n",
              "    <div id=\"df-60334d61-c71b-4ed1-beef-7131128b6157\">\n",
              "      <button class=\"colab-df-quickchart\" onclick=\"quickchart('df-60334d61-c71b-4ed1-beef-7131128b6157')\"\n",
              "                title=\"Suggest charts\"\n",
              "                style=\"display:none;\">\n",
              "\n",
              "<svg xmlns=\"http://www.w3.org/2000/svg\" height=\"24px\"viewBox=\"0 0 24 24\"\n",
              "     width=\"24px\">\n",
              "    <g>\n",
              "        <path d=\"M19 3H5c-1.1 0-2 .9-2 2v14c0 1.1.9 2 2 2h14c1.1 0 2-.9 2-2V5c0-1.1-.9-2-2-2zM9 17H7v-7h2v7zm4 0h-2V7h2v10zm4 0h-2v-4h2v4z\"/>\n",
              "    </g>\n",
              "</svg>\n",
              "      </button>\n",
              "\n",
              "<style>\n",
              "  .colab-df-quickchart {\n",
              "      --bg-color: #E8F0FE;\n",
              "      --fill-color: #1967D2;\n",
              "      --hover-bg-color: #E2EBFA;\n",
              "      --hover-fill-color: #174EA6;\n",
              "      --disabled-fill-color: #AAA;\n",
              "      --disabled-bg-color: #DDD;\n",
              "  }\n",
              "\n",
              "  [theme=dark] .colab-df-quickchart {\n",
              "      --bg-color: #3B4455;\n",
              "      --fill-color: #D2E3FC;\n",
              "      --hover-bg-color: #434B5C;\n",
              "      --hover-fill-color: #FFFFFF;\n",
              "      --disabled-bg-color: #3B4455;\n",
              "      --disabled-fill-color: #666;\n",
              "  }\n",
              "\n",
              "  .colab-df-quickchart {\n",
              "    background-color: var(--bg-color);\n",
              "    border: none;\n",
              "    border-radius: 50%;\n",
              "    cursor: pointer;\n",
              "    display: none;\n",
              "    fill: var(--fill-color);\n",
              "    height: 32px;\n",
              "    padding: 0;\n",
              "    width: 32px;\n",
              "  }\n",
              "\n",
              "  .colab-df-quickchart:hover {\n",
              "    background-color: var(--hover-bg-color);\n",
              "    box-shadow: 0 1px 2px rgba(60, 64, 67, 0.3), 0 1px 3px 1px rgba(60, 64, 67, 0.15);\n",
              "    fill: var(--button-hover-fill-color);\n",
              "  }\n",
              "\n",
              "  .colab-df-quickchart-complete:disabled,\n",
              "  .colab-df-quickchart-complete:disabled:hover {\n",
              "    background-color: var(--disabled-bg-color);\n",
              "    fill: var(--disabled-fill-color);\n",
              "    box-shadow: none;\n",
              "  }\n",
              "\n",
              "  .colab-df-spinner {\n",
              "    border: 2px solid var(--fill-color);\n",
              "    border-color: transparent;\n",
              "    border-bottom-color: var(--fill-color);\n",
              "    animation:\n",
              "      spin 1s steps(1) infinite;\n",
              "  }\n",
              "\n",
              "  @keyframes spin {\n",
              "    0% {\n",
              "      border-color: transparent;\n",
              "      border-bottom-color: var(--fill-color);\n",
              "      border-left-color: var(--fill-color);\n",
              "    }\n",
              "    20% {\n",
              "      border-color: transparent;\n",
              "      border-left-color: var(--fill-color);\n",
              "      border-top-color: var(--fill-color);\n",
              "    }\n",
              "    30% {\n",
              "      border-color: transparent;\n",
              "      border-left-color: var(--fill-color);\n",
              "      border-top-color: var(--fill-color);\n",
              "      border-right-color: var(--fill-color);\n",
              "    }\n",
              "    40% {\n",
              "      border-color: transparent;\n",
              "      border-right-color: var(--fill-color);\n",
              "      border-top-color: var(--fill-color);\n",
              "    }\n",
              "    60% {\n",
              "      border-color: transparent;\n",
              "      border-right-color: var(--fill-color);\n",
              "    }\n",
              "    80% {\n",
              "      border-color: transparent;\n",
              "      border-right-color: var(--fill-color);\n",
              "      border-bottom-color: var(--fill-color);\n",
              "    }\n",
              "    90% {\n",
              "      border-color: transparent;\n",
              "      border-bottom-color: var(--fill-color);\n",
              "    }\n",
              "  }\n",
              "</style>\n",
              "\n",
              "      <script>\n",
              "        async function quickchart(key) {\n",
              "          const quickchartButtonEl =\n",
              "            document.querySelector('#' + key + ' button');\n",
              "          quickchartButtonEl.disabled = true;  // To prevent multiple clicks.\n",
              "          quickchartButtonEl.classList.add('colab-df-spinner');\n",
              "          try {\n",
              "            const charts = await google.colab.kernel.invokeFunction(\n",
              "                'suggestCharts', [key], {});\n",
              "          } catch (error) {\n",
              "            console.error('Error during call to suggestCharts:', error);\n",
              "          }\n",
              "          quickchartButtonEl.classList.remove('colab-df-spinner');\n",
              "          quickchartButtonEl.classList.add('colab-df-quickchart-complete');\n",
              "        }\n",
              "        (() => {\n",
              "          let quickchartButtonEl =\n",
              "            document.querySelector('#df-60334d61-c71b-4ed1-beef-7131128b6157 button');\n",
              "          quickchartButtonEl.style.display =\n",
              "            google.colab.kernel.accessAllowed ? 'block' : 'none';\n",
              "        })();\n",
              "      </script>\n",
              "    </div>\n",
              "\n",
              "  <div id=\"id_07cd4735-9c4e-4578-8818-5113898e23d8\">\n",
              "    <style>\n",
              "      .colab-df-generate {\n",
              "        background-color: #E8F0FE;\n",
              "        border: none;\n",
              "        border-radius: 50%;\n",
              "        cursor: pointer;\n",
              "        display: none;\n",
              "        fill: #1967D2;\n",
              "        height: 32px;\n",
              "        padding: 0 0 0 0;\n",
              "        width: 32px;\n",
              "      }\n",
              "\n",
              "      .colab-df-generate:hover {\n",
              "        background-color: #E2EBFA;\n",
              "        box-shadow: 0px 1px 2px rgba(60, 64, 67, 0.3), 0px 1px 3px 1px rgba(60, 64, 67, 0.15);\n",
              "        fill: #174EA6;\n",
              "      }\n",
              "\n",
              "      [theme=dark] .colab-df-generate {\n",
              "        background-color: #3B4455;\n",
              "        fill: #D2E3FC;\n",
              "      }\n",
              "\n",
              "      [theme=dark] .colab-df-generate:hover {\n",
              "        background-color: #434B5C;\n",
              "        box-shadow: 0px 1px 3px 1px rgba(0, 0, 0, 0.15);\n",
              "        filter: drop-shadow(0px 1px 2px rgba(0, 0, 0, 0.3));\n",
              "        fill: #FFFFFF;\n",
              "      }\n",
              "    </style>\n",
              "    <button class=\"colab-df-generate\" onclick=\"generateWithVariable('balanced_df')\"\n",
              "            title=\"Generate code using this dataframe.\"\n",
              "            style=\"display:none;\">\n",
              "\n",
              "  <svg xmlns=\"http://www.w3.org/2000/svg\" height=\"24px\"viewBox=\"0 0 24 24\"\n",
              "       width=\"24px\">\n",
              "    <path d=\"M7,19H8.4L18.45,9,17,7.55,7,17.6ZM5,21V16.75L18.45,3.32a2,2,0,0,1,2.83,0l1.4,1.43a1.91,1.91,0,0,1,.58,1.4,1.91,1.91,0,0,1-.58,1.4L9.25,21ZM18.45,9,17,7.55Zm-12,3A5.31,5.31,0,0,0,4.9,8.1,5.31,5.31,0,0,0,1,6.5,5.31,5.31,0,0,0,4.9,4.9,5.31,5.31,0,0,0,6.5,1,5.31,5.31,0,0,0,8.1,4.9,5.31,5.31,0,0,0,12,6.5,5.46,5.46,0,0,0,6.5,12Z\"/>\n",
              "  </svg>\n",
              "    </button>\n",
              "    <script>\n",
              "      (() => {\n",
              "      const buttonEl =\n",
              "        document.querySelector('#id_07cd4735-9c4e-4578-8818-5113898e23d8 button.colab-df-generate');\n",
              "      buttonEl.style.display =\n",
              "        google.colab.kernel.accessAllowed ? 'block' : 'none';\n",
              "\n",
              "      buttonEl.onclick = () => {\n",
              "        google.colab.notebook.generateWithVariable('balanced_df');\n",
              "      }\n",
              "      })();\n",
              "    </script>\n",
              "  </div>\n",
              "\n",
              "    </div>\n",
              "  </div>\n"
            ],
            "application/vnd.google.colaboratory.intrinsic+json": {
              "type": "dataframe",
              "variable_name": "balanced_df",
              "summary": "{\n  \"name\": \"balanced_df\",\n  \"rows\": 1570,\n  \"fields\": [\n    {\n      \"column\": \"fault\",\n      \"properties\": {\n        \"dtype\": \"category\",\n        \"num_unique_values\": 10,\n        \"samples\": [\n          \"F8_OR014_6_1_203\",\n          \"F1_B007_1_124\",\n          \"F5_IR014_1_176\"\n        ],\n        \"semantic_type\": \"\",\n        \"description\": \"\"\n      }\n    },\n    {\n      \"column\": \"window\",\n      \"properties\": {\n        \"dtype\": \"number\",\n        \"std\": 63,\n        \"min\": 1,\n        \"max\": 225,\n        \"num_unique_values\": 170,\n        \"samples\": [\n          1,\n          222,\n          3\n        ],\n        \"semantic_type\": \"\",\n        \"description\": \"\"\n      }\n    },\n    {\n      \"column\": \"mean\",\n      \"properties\": {\n        \"dtype\": \"number\",\n        \"std\": 0.0030554642270075134,\n        \"min\": 0.0053186900903974,\n        \"max\": 0.0220538920916481,\n        \"num_unique_values\": 1568,\n        \"samples\": [\n          0.0135255481645725,\n          0.0117708108476888,\n          0.0136604530104042\n        ],\n        \"semantic_type\": \"\",\n        \"description\": \"\"\n      }\n    },\n    {\n      \"column\": \"std\",\n      \"properties\": {\n        \"dtype\": \"number\",\n        \"std\": 0.30876831680414263,\n        \"min\": 0.0608397813857393,\n        \"max\": 1.1367511928719762,\n        \"num_unique_values\": 1570,\n        \"samples\": [\n          0.5859018569126458,\n          0.7408052861251911,\n          0.1330231785136765\n        ],\n        \"semantic_type\": \"\",\n        \"description\": \"\"\n      }\n    },\n    {\n      \"column\": \"rms\",\n      \"properties\": {\n        \"dtype\": \"number\",\n        \"std\": 0.3084888933934956,\n        \"min\": 0.0621687980257991,\n        \"max\": 1.136777706613333,\n        \"num_unique_values\": 1570,\n        \"samples\": [\n          0.5860904326497025,\n          0.7408411071286042,\n          0.1337227504889535\n        ],\n        \"semantic_type\": \"\",\n        \"description\": \"\"\n      }\n    },\n    {\n      \"column\": \"max\",\n      \"properties\": {\n        \"dtype\": \"number\",\n        \"std\": 1.5942788836870727,\n        \"min\": 0.1741938461538461,\n        \"max\": 7.323365333333333,\n        \"num_unique_values\": 1325,\n        \"samples\": [\n          3.118382769230769,\n          1.6119710769230768,\n          3.0810406153846155\n        ],\n        \"semantic_type\": \"\",\n        \"description\": \"\"\n      }\n    },\n    {\n      \"column\": \"min\",\n      \"properties\": {\n        \"dtype\": \"number\",\n        \"std\": 1.6077877983976285,\n        \"min\": -6.686514666666666,\n        \"max\": -0.1685612307692307,\n        \"num_unique_values\": 1308,\n        \"samples\": [\n          -5.006748,\n          -4.568548,\n          -1.6305213333333335\n        ],\n        \"semantic_type\": \"\",\n        \"description\": \"\"\n      }\n    },\n    {\n      \"column\": \"skewness\",\n      \"properties\": {\n        \"dtype\": \"number\",\n        \"std\": 0.20437930074571486,\n        \"min\": -1.1557635923025074,\n        \"max\": 0.7117501344694851,\n        \"num_unique_values\": 1570,\n        \"samples\": [\n          0.1007207804221249,\n          0.033807824578029,\n          0.2726113318366847\n        ],\n        \"semantic_type\": \"\",\n        \"description\": \"\"\n      }\n    },\n    {\n      \"column\": \"kurtosis\",\n      \"properties\": {\n        \"dtype\": \"number\",\n        \"std\": 5.7093302653808715,\n        \"min\": -0.6250225303765622,\n        \"max\": 29.78275339792188,\n        \"num_unique_values\": 1570,\n        \"samples\": [\n          18.28685122987652,\n          0.1301355729718234,\n          5.872262921264905\n        ],\n        \"semantic_type\": \"\",\n        \"description\": \"\"\n      }\n    },\n    {\n      \"column\": \"form_factor\",\n      \"properties\": {\n        \"dtype\": \"number\",\n        \"std\": 0.22779628545714206,\n        \"min\": 1.210415449300014,\n        \"max\": 2.3588976138699267,\n        \"num_unique_values\": 1570,\n        \"samples\": [\n          1.882736893830752,\n          1.2925981445179358,\n          1.400109735787516\n        ],\n        \"semantic_type\": \"\",\n        \"description\": \"\"\n      }\n    },\n    {\n      \"column\": \"crest_factor\",\n      \"properties\": {\n        \"dtype\": \"number\",\n        \"std\": 1.4410486330658354,\n        \"min\": 2.629990487027982,\n        \"max\": 10.272202467018175,\n        \"num_unique_values\": 1570,\n        \"samples\": [\n          8.107549737419767,\n          3.406144270379489,\n          6.734774838923246\n        ],\n        \"semantic_type\": \"\",\n        \"description\": \"\"\n      }\n    }\n  ]\n}"
            }
          },
          "metadata": {},
          "execution_count": 16
        }
      ]
    },
    {
      "cell_type": "code",
      "source": [
        "import pandas as pd\n",
        "from sklearn.preprocessing import StandardScaler\n",
        "from sklearn.manifold import TSNE\n",
        "import matplotlib.pyplot as plt\n",
        "\n",
        "\n",
        "# Sort the dataset by the 'Fault' column\n",
        "balanced_df = balanced_df.sort_values(by='fault')\n",
        "\n",
        "# Separate features and target variable\n",
        "X = balanced_df.drop(columns=['fault'])  # Replace 'Fault' with actual target column name\n",
        "y = balanced_df['fault']\n",
        "\n",
        "# Normalize the feature columns using StandardScaler\n",
        "scaler = StandardScaler()\n",
        "X_normalized = pd.DataFrame(scaler.fit_transform(X), columns=X.columns)\n",
        "\n",
        "# Concatenate the normalized features with the target variable\n",
        "STAT_Motor_Fault_dataset_normalized = pd.concat([X_normalized, y.reset_index(drop=True)], axis=1)\n",
        "\n",
        "# Sort the normalized dataset by 'Fault' column\n",
        "STAT_Motor_Fault_dataset_normalized = STAT_Motor_Fault_dataset_normalized.sort_values(by='fault')\n",
        "\n",
        "# Apply t-SNE for dimensionality reduction\n",
        "tsne = TSNE(n_components=2, random_state=42)  # 2D t-SNE\n",
        "X_tsne = tsne.fit_transform(X_normalized)\n",
        "\n",
        "# Create a DataFrame for t-SNE results\n",
        "tSNE_representation = pd.DataFrame(X_tsne, columns=['t-SNE 1', 't-SNE 2'])\n",
        "tSNE_representation['fault'] = y.reset_index(drop=True)\n",
        "\n",
        "# Display the t-SNE representation\n",
        "print(tSNE_representation.head())\n",
        "\n",
        "# Optional: Visualization of t-SNE representation\n",
        "plt.figure(figsize=(8, 6))\n",
        "for label in tSNE_representation['fault'].unique():\n",
        "    subset = tSNE_representation[tSNE_representation['fault'] == label]\n",
        "    plt.scatter(subset['t-SNE 1'], subset['t-SNE 2'], label=f'fault {label}', alpha=0.7)\n",
        "\n",
        "plt.title('t-SNE Representation of Motor Fault Dataset')\n",
        "plt.xlabel('t-SNE 1')\n",
        "plt.ylabel('t-SNE 2')\n",
        "plt.legend()\n",
        "plt.show()\n"
      ],
      "metadata": {
        "id": "tV7aspjE3R4f",
        "colab": {
          "base_uri": "https://localhost:8080/",
          "height": 668
        },
        "outputId": "a75844d7-d820-4383-f9da-cb6ff32544d0"
      },
      "id": "tV7aspjE3R4f",
      "execution_count": 17,
      "outputs": [
        {
          "output_type": "stream",
          "name": "stdout",
          "text": [
            "     t-SNE 1    t-SNE 2           fault\n",
            "0  21.076958 -26.568331  F0_Normal_1_98\n",
            "1  34.179527  23.517054  F0_Normal_1_98\n",
            "2  26.895956 -22.655710  F0_Normal_1_98\n",
            "3  41.847424   0.264442  F0_Normal_1_98\n",
            "4  18.741505 -21.605150  F0_Normal_1_98\n"
          ]
        },
        {
          "output_type": "display_data",
          "data": {
            "text/plain": [
              "<Figure size 800x600 with 1 Axes>"
            ],
            "image/png": "[encoded data removed]"
          },
          "metadata": {}
        }
      ]
    },
    {
      "cell_type": "code",
      "source": [
        "tSNE_representation"
      ],
      "metadata": {
        "id": "QMwOLwssDgHU",
        "colab": {
          "base_uri": "https://localhost:8080/",
          "height": 424
        },
        "outputId": "5bcfd01f-d165-4325-b32d-2bcd797d4ec8"
      },
      "id": "QMwOLwssDgHU",
      "execution_count": 18,
      "outputs": [
        {
          "output_type": "execute_result",
          "data": {
            "text/plain": [
              "        t-SNE 1    t-SNE 2             fault\n",
              "0     21.076958 -26.568331    F0_Normal_1_98\n",
              "1     34.179527  23.517054    F0_Normal_1_98\n",
              "2     26.895956 -22.655710    F0_Normal_1_98\n",
              "3     41.847424   0.264442    F0_Normal_1_98\n",
              "4     18.741505 -21.605150    F0_Normal_1_98\n",
              "...         ...        ...               ...\n",
              "1565 -43.916779   9.854697  F9_OR021_6_1_240\n",
              "1566 -39.058998   6.947903  F9_OR021_6_1_240\n",
              "1567 -50.207436  15.278371  F9_OR021_6_1_240\n",
              "1568 -46.343712  -1.328283  F9_OR021_6_1_240\n",
              "1569 -50.478077  11.953157  F9_OR021_6_1_240\n",
              "\n",
              "[1570 rows x 3 columns]"
            ],
            "text/html": [
              "\n",
              "  <div id=\"df-c149fd46-e783-465e-8b18-285dae810503\" class=\"colab-df-container\">\n",
              "    <div>\n",
              "<style scoped>\n",
              "    .dataframe tbody tr th:only-of-type {\n",
              "        vertical-align: middle;\n",
              "    }\n",
              "\n",
              "    .dataframe tbody tr th {\n",
              "        vertical-align: top;\n",
              "    }\n",
              "\n",
              "    .dataframe thead th {\n",
              "        text-align: right;\n",
              "    }\n",
              "</style>\n",
              "<table border=\"1\" class=\"dataframe\">\n",
              "  <thead>\n",
              "    <tr style=\"text-align: right;\">\n",
              "      <th></th>\n",
              "      <th>t-SNE 1</th>\n",
              "      <th>t-SNE 2</th>\n",
              "      <th>fault</th>\n",
              "    </tr>\n",
              "  </thead>\n",
              "  <tbody>\n",
              "    <tr>\n",
              "      <th>0</th>\n",
              "      <td>21.076958</td>\n",
              "      <td>-26.568331</td>\n",
              "      <td>F0_Normal_1_98</td>\n",
              "    </tr>\n",
              "    <tr>\n",
              "      <th>1</th>\n",
              "      <td>34.179527</td>\n",
              "      <td>23.517054</td>\n",
              "      <td>F0_Normal_1_98</td>\n",
              "    </tr>\n",
              "    <tr>\n",
              "      <th>2</th>\n",
              "      <td>26.895956</td>\n",
              "      <td>-22.655710</td>\n",
              "      <td>F0_Normal_1_98</td>\n",
              "    </tr>\n",
              "    <tr>\n",
              "      <th>3</th>\n",
              "      <td>41.847424</td>\n",
              "      <td>0.264442</td>\n",
              "      <td>F0_Normal_1_98</td>\n",
              "    </tr>\n",
              "    <tr>\n",
              "      <th>4</th>\n",
              "      <td>18.741505</td>\n",
              "      <td>-21.605150</td>\n",
              "      <td>F0_Normal_1_98</td>\n",
              "    </tr>\n",
              "    <tr>\n",
              "      <th>...</th>\n",
              "      <td>...</td>\n",
              "      <td>...</td>\n",
              "      <td>...</td>\n",
              "    </tr>\n",
              "    <tr>\n",
              "      <th>1565</th>\n",
              "      <td>-43.916779</td>\n",
              "      <td>9.854697</td>\n",
              "      <td>F9_OR021_6_1_240</td>\n",
              "    </tr>\n",
              "    <tr>\n",
              "      <th>1566</th>\n",
              "      <td>-39.058998</td>\n",
              "      <td>6.947903</td>\n",
              "      <td>F9_OR021_6_1_240</td>\n",
              "    </tr>\n",
              "    <tr>\n",
              "      <th>1567</th>\n",
              "      <td>-50.207436</td>\n",
              "      <td>15.278371</td>\n",
              "      <td>F9_OR021_6_1_240</td>\n",
              "    </tr>\n",
              "    <tr>\n",
              "      <th>1568</th>\n",
              "      <td>-46.343712</td>\n",
              "      <td>-1.328283</td>\n",
              "      <td>F9_OR021_6_1_240</td>\n",
              "    </tr>\n",
              "    <tr>\n",
              "      <th>1569</th>\n",
              "      <td>-50.478077</td>\n",
              "      <td>11.953157</td>\n",
              "      <td>F9_OR021_6_1_240</td>\n",
              "    </tr>\n",
              "  </tbody>\n",
              "</table>\n",
              "<p>1570 rows × 3 columns</p>\n",
              "</div>\n",
              "    <div class=\"colab-df-buttons\">\n",
              "\n",
              "  <div class=\"colab-df-container\">\n",
              "    <button class=\"colab-df-convert\" onclick=\"convertToInteractive('df-c149fd46-e783-465e-8b18-285dae810503')\"\n",
              "            title=\"Convert this dataframe to an interactive table.\"\n",
              "            style=\"display:none;\">\n",
              "\n",
              "  <svg xmlns=\"http://www.w3.org/2000/svg\" height=\"24px\" viewBox=\"0 -960 960 960\">\n",
              "    <path d=\"M120-120v-720h720v720H120Zm60-500h600v-160H180v160Zm220 220h160v-160H400v160Zm0 220h160v-160H400v160ZM180-400h160v-160H180v160Zm440 0h160v-160H620v160ZM180-180h160v-160H180v160Zm440 0h160v-160H620v160Z\"/>\n",
              "  </svg>\n",
              "    </button>\n",
              "\n",
              "  <style>\n",
              "    .colab-df-container {\n",
              "      display:flex;\n",
              "      gap: 12px;\n",
              "    }\n",
              "\n",
              "    .colab-df-convert {\n",
              "      background-color: #E8F0FE;\n",
              "      border: none;\n",
              "      border-radius: 50%;\n",
              "      cursor: pointer;\n",
              "      display: none;\n",
              "      fill: #1967D2;\n",
              "      height: 32px;\n",
              "      padding: 0 0 0 0;\n",
              "      width: 32px;\n",
              "    }\n",
              "\n",
              "    .colab-df-convert:hover {\n",
              "      background-color: #E2EBFA;\n",
              "      box-shadow: 0px 1px 2px rgba(60, 64, 67, 0.3), 0px 1px 3px 1px rgba(60, 64, 67, 0.15);\n",
              "      fill: #174EA6;\n",
              "    }\n",
              "\n",
              "    .colab-df-buttons div {\n",
              "      margin-bottom: 4px;\n",
              "    }\n",
              "\n",
              "    [theme=dark] .colab-df-convert {\n",
              "      background-color: #3B4455;\n",
              "      fill: #D2E3FC;\n",
              "    }\n",
              "\n",
              "    [theme=dark] .colab-df-convert:hover {\n",
              "      background-color: #434B5C;\n",
              "      box-shadow: 0px 1px 3px 1px rgba(0, 0, 0, 0.15);\n",
              "      filter: drop-shadow(0px 1px 2px rgba(0, 0, 0, 0.3));\n",
              "      fill: #FFFFFF;\n",
              "    }\n",
              "  </style>\n",
              "\n",
              "    <script>\n",
              "      const buttonEl =\n",
              "        document.querySelector('#df-c149fd46-e783-465e-8b18-285dae810503 button.colab-df-convert');\n",
              "      buttonEl.style.display =\n",
              "        google.colab.kernel.accessAllowed ? 'block' : 'none';\n",
              "\n",
              "      async function convertToInteractive(key) {\n",
              "        const element = document.querySelector('#df-c149fd46-e783-465e-8b18-285dae810503');\n",
              "        const dataTable =\n",
              "          await google.colab.kernel.invokeFunction('convertToInteractive',\n",
              "                                                    [key], {});\n",
              "        if (!dataTable) return;\n",
              "\n",
              "        const docLinkHtml = 'Like what you see? Visit the ' +\n",
              "          '<a target=\"_blank\" href=https://colab.research.google.com/notebooks/data_table.ipynb>data table notebook</a>'\n",
              "          + ' to learn more about interactive tables.';\n",
              "        element.innerHTML = '';\n",
              "        dataTable['output_type'] = 'display_data';\n",
              "        await google.colab.output.renderOutput(dataTable, element);\n",
              "        const docLink = document.createElement('div');\n",
              "        docLink.innerHTML = docLinkHtml;\n",
              "        element.appendChild(docLink);\n",
              "      }\n",
              "    </script>\n",
              "  </div>\n",
              "\n",
              "\n",
              "    <div id=\"df-12dadc18-381f-47f3-99cf-8fd8f8d64b74\">\n",
              "      <button class=\"colab-df-quickchart\" onclick=\"quickchart('df-12dadc18-381f-47f3-99cf-8fd8f8d64b74')\"\n",
              "                title=\"Suggest charts\"\n",
              "                style=\"display:none;\">\n",
              "\n",
              "<svg xmlns=\"http://www.w3.org/2000/svg\" height=\"24px\"viewBox=\"0 0 24 24\"\n",
              "     width=\"24px\">\n",
              "    <g>\n",
              "        <path d=\"M19 3H5c-1.1 0-2 .9-2 2v14c0 1.1.9 2 2 2h14c1.1 0 2-.9 2-2V5c0-1.1-.9-2-2-2zM9 17H7v-7h2v7zm4 0h-2V7h2v10zm4 0h-2v-4h2v4z\"/>\n",
              "    </g>\n",
              "</svg>\n",
              "      </button>\n",
              "\n",
              "<style>\n",
              "  .colab-df-quickchart {\n",
              "      --bg-color: #E8F0FE;\n",
              "      --fill-color: #1967D2;\n",
              "      --hover-bg-color: #E2EBFA;\n",
              "      --hover-fill-color: #174EA6;\n",
              "      --disabled-fill-color: #AAA;\n",
              "      --disabled-bg-color: #DDD;\n",
              "  }\n",
              "\n",
              "  [theme=dark] .colab-df-quickchart {\n",
              "      --bg-color: #3B4455;\n",
              "      --fill-color: #D2E3FC;\n",
              "      --hover-bg-color: #434B5C;\n",
              "      --hover-fill-color: #FFFFFF;\n",
              "      --disabled-bg-color: #3B4455;\n",
              "      --disabled-fill-color: #666;\n",
              "  }\n",
              "\n",
              "  .colab-df-quickchart {\n",
              "    background-color: var(--bg-color);\n",
              "    border: none;\n",
              "    border-radius: 50%;\n",
              "    cursor: pointer;\n",
              "    display: none;\n",
              "    fill: var(--fill-color);\n",
              "    height: 32px;\n",
              "    padding: 0;\n",
              "    width: 32px;\n",
              "  }\n",
              "\n",
              "  .colab-df-quickchart:hover {\n",
              "    background-color: var(--hover-bg-color);\n",
              "    box-shadow: 0 1px 2px rgba(60, 64, 67, 0.3), 0 1px 3px 1px rgba(60, 64, 67, 0.15);\n",
              "    fill: var(--button-hover-fill-color);\n",
              "  }\n",
              "\n",
              "  .colab-df-quickchart-complete:disabled,\n",
              "  .colab-df-quickchart-complete:disabled:hover {\n",
              "    background-color: var(--disabled-bg-color);\n",
              "    fill: var(--disabled-fill-color);\n",
              "    box-shadow: none;\n",
              "  }\n",
              "\n",
              "  .colab-df-spinner {\n",
              "    border: 2px solid var(--fill-color);\n",
              "    border-color: transparent;\n",
              "    border-bottom-color: var(--fill-color);\n",
              "    animation:\n",
              "      spin 1s steps(1) infinite;\n",
              "  }\n",
              "\n",
              "  @keyframes spin {\n",
              "    0% {\n",
              "      border-color: transparent;\n",
              "      border-bottom-color: var(--fill-color);\n",
              "      border-left-color: var(--fill-color);\n",
              "    }\n",
              "    20% {\n",
              "      border-color: transparent;\n",
              "      border-left-color: var(--fill-color);\n",
              "      border-top-color: var(--fill-color);\n",
              "    }\n",
              "    30% {\n",
              "      border-color: transparent;\n",
              "      border-left-color: var(--fill-color);\n",
              "      border-top-color: var(--fill-color);\n",
              "      border-right-color: var(--fill-color);\n",
              "    }\n",
              "    40% {\n",
              "      border-color: transparent;\n",
              "      border-right-color: var(--fill-color);\n",
              "      border-top-color: var(--fill-color);\n",
              "    }\n",
              "    60% {\n",
              "      border-color: transparent;\n",
              "      border-right-color: var(--fill-color);\n",
              "    }\n",
              "    80% {\n",
              "      border-color: transparent;\n",
              "      border-right-color: var(--fill-color);\n",
              "      border-bottom-color: var(--fill-color);\n",
              "    }\n",
              "    90% {\n",
              "      border-color: transparent;\n",
              "      border-bottom-color: var(--fill-color);\n",
              "    }\n",
              "  }\n",
              "</style>\n",
              "\n",
              "      <script>\n",
              "        async function quickchart(key) {\n",
              "          const quickchartButtonEl =\n",
              "            document.querySelector('#' + key + ' button');\n",
              "          quickchartButtonEl.disabled = true;  // To prevent multiple clicks.\n",
              "          quickchartButtonEl.classList.add('colab-df-spinner');\n",
              "          try {\n",
              "            const charts = await google.colab.kernel.invokeFunction(\n",
              "                'suggestCharts', [key], {});\n",
              "          } catch (error) {\n",
              "            console.error('Error during call to suggestCharts:', error);\n",
              "          }\n",
              "          quickchartButtonEl.classList.remove('colab-df-spinner');\n",
              "          quickchartButtonEl.classList.add('colab-df-quickchart-complete');\n",
              "        }\n",
              "        (() => {\n",
              "          let quickchartButtonEl =\n",
              "            document.querySelector('#df-12dadc18-381f-47f3-99cf-8fd8f8d64b74 button');\n",
              "          quickchartButtonEl.style.display =\n",
              "            google.colab.kernel.accessAllowed ? 'block' : 'none';\n",
              "        })();\n",
              "      </script>\n",
              "    </div>\n",
              "\n",
              "  <div id=\"id_05ba9058-ab64-40b4-9813-8c126dddb4cc\">\n",
              "    <style>\n",
              "      .colab-df-generate {\n",
              "        background-color: #E8F0FE;\n",
              "        border: none;\n",
              "        border-radius: 50%;\n",
              "        cursor: pointer;\n",
              "        display: none;\n",
              "        fill: #1967D2;\n",
              "        height: 32px;\n",
              "        padding: 0 0 0 0;\n",
              "        width: 32px;\n",
              "      }\n",
              "\n",
              "      .colab-df-generate:hover {\n",
              "        background-color: #E2EBFA;\n",
              "        box-shadow: 0px 1px 2px rgba(60, 64, 67, 0.3), 0px 1px 3px 1px rgba(60, 64, 67, 0.15);\n",
              "        fill: #174EA6;\n",
              "      }\n",
              "\n",
              "      [theme=dark] .colab-df-generate {\n",
              "        background-color: #3B4455;\n",
              "        fill: #D2E3FC;\n",
              "      }\n",
              "\n",
              "      [theme=dark] .colab-df-generate:hover {\n",
              "        background-color: #434B5C;\n",
              "        box-shadow: 0px 1px 3px 1px rgba(0, 0, 0, 0.15);\n",
              "        filter: drop-shadow(0px 1px 2px rgba(0, 0, 0, 0.3));\n",
              "        fill: #FFFFFF;\n",
              "      }\n",
              "    </style>\n",
              "    <button class=\"colab-df-generate\" onclick=\"generateWithVariable('tSNE_representation')\"\n",
              "            title=\"Generate code using this dataframe.\"\n",
              "            style=\"display:none;\">\n",
              "\n",
              "  <svg xmlns=\"http://www.w3.org/2000/svg\" height=\"24px\"viewBox=\"0 0 24 24\"\n",
              "       width=\"24px\">\n",
              "    <path d=\"M7,19H8.4L18.45,9,17,7.55,7,17.6ZM5,21V16.75L18.45,3.32a2,2,0,0,1,2.83,0l1.4,1.43a1.91,1.91,0,0,1,.58,1.4,1.91,1.91,0,0,1-.58,1.4L9.25,21ZM18.45,9,17,7.55Zm-12,3A5.31,5.31,0,0,0,4.9,8.1,5.31,5.31,0,0,0,1,6.5,5.31,5.31,0,0,0,4.9,4.9,5.31,5.31,0,0,0,6.5,1,5.31,5.31,0,0,0,8.1,4.9,5.31,5.31,0,0,0,12,6.5,5.46,5.46,0,0,0,6.5,12Z\"/>\n",
              "  </svg>\n",
              "    </button>\n",
              "    <script>\n",
              "      (() => {\n",
              "      const buttonEl =\n",
              "        document.querySelector('#id_05ba9058-ab64-40b4-9813-8c126dddb4cc button.colab-df-generate');\n",
              "      buttonEl.style.display =\n",
              "        google.colab.kernel.accessAllowed ? 'block' : 'none';\n",
              "\n",
              "      buttonEl.onclick = () => {\n",
              "        google.colab.notebook.generateWithVariable('tSNE_representation');\n",
              "      }\n",
              "      })();\n",
              "    </script>\n",
              "  </div>\n",
              "\n",
              "    </div>\n",
              "  </div>\n"
            ],
            "application/vnd.google.colaboratory.intrinsic+json": {
              "type": "dataframe",
              "variable_name": "tSNE_representation",
              "summary": "{\n  \"name\": \"tSNE_representation\",\n  \"rows\": 1570,\n  \"fields\": [\n    {\n      \"column\": \"t-SNE 1\",\n      \"properties\": {\n        \"dtype\": \"float32\",\n        \"num_unique_values\": 1570,\n        \"samples\": [\n          -40.93706130981445,\n          -2.540525197982788,\n          13.444075584411621\n        ],\n        \"semantic_type\": \"\",\n        \"description\": \"\"\n      }\n    },\n    {\n      \"column\": \"t-SNE 2\",\n      \"properties\": {\n        \"dtype\": \"float32\",\n        \"num_unique_values\": 1570,\n        \"samples\": [\n          9.610978126525879,\n          -36.536338806152344,\n          11.659317016601562\n        ],\n        \"semantic_type\": \"\",\n        \"description\": \"\"\n      }\n    },\n    {\n      \"column\": \"fault\",\n      \"properties\": {\n        \"dtype\": \"category\",\n        \"num_unique_values\": 10,\n        \"samples\": [\n          \"F8_OR014_6_1_203\",\n          \"F1_B007_1_124\",\n          \"F5_IR014_1_176\"\n        ],\n        \"semantic_type\": \"\",\n        \"description\": \"\"\n      }\n    }\n  ]\n}"
            }
          },
          "metadata": {},
          "execution_count": 18
        }
      ]
    },
    {
      "cell_type": "code",
      "source": [
        "tSNE_representation=tSNE_representation.drop(columns=['fault'])\n",
        "tSNE_representation"
      ],
      "metadata": {
        "id": "Pybzwduy8nhv",
        "colab": {
          "base_uri": "https://localhost:8080/",
          "height": 424
        },
        "outputId": "ee0c83fb-ba1d-49ac-c169-aa90fc189c93"
      },
      "id": "Pybzwduy8nhv",
      "execution_count": 19,
      "outputs": [
        {
          "output_type": "execute_result",
          "data": {
            "text/plain": [
              "        t-SNE 1    t-SNE 2\n",
              "0     21.076958 -26.568331\n",
              "1     34.179527  23.517054\n",
              "2     26.895956 -22.655710\n",
              "3     41.847424   0.264442\n",
              "4     18.741505 -21.605150\n",
              "...         ...        ...\n",
              "1565 -43.916779   9.854697\n",
              "1566 -39.058998   6.947903\n",
              "1567 -50.207436  15.278371\n",
              "1568 -46.343712  -1.328283\n",
              "1569 -50.478077  11.953157\n",
              "\n",
              "[1570 rows x 2 columns]"
            ],
            "text/html": [
              "\n",
              "  <div id=\"df-379173f1-1887-47f6-9f9a-8e4acf99a18b\" class=\"colab-df-container\">\n",
              "    <div>\n",
              "<style scoped>\n",
              "    .dataframe tbody tr th:only-of-type {\n",
              "        vertical-align: middle;\n",
              "    }\n",
              "\n",
              "    .dataframe tbody tr th {\n",
              "        vertical-align: top;\n",
              "    }\n",
              "\n",
              "    .dataframe thead th {\n",
              "        text-align: right;\n",
              "    }\n",
              "</style>\n",
              "<table border=\"1\" class=\"dataframe\">\n",
              "  <thead>\n",
              "    <tr style=\"text-align: right;\">\n",
              "      <th></th>\n",
              "      <th>t-SNE 1</th>\n",
              "      <th>t-SNE 2</th>\n",
              "    </tr>\n",
              "  </thead>\n",
              "  <tbody>\n",
              "    <tr>\n",
              "      <th>0</th>\n",
              "      <td>21.076958</td>\n",
              "      <td>-26.568331</td>\n",
              "    </tr>\n",
              "    <tr>\n",
              "      <th>1</th>\n",
              "      <td>34.179527</td>\n",
              "      <td>23.517054</td>\n",
              "    </tr>\n",
              "    <tr>\n",
              "      <th>2</th>\n",
              "      <td>26.895956</td>\n",
              "      <td>-22.655710</td>\n",
              "    </tr>\n",
              "    <tr>\n",
              "      <th>3</th>\n",
              "      <td>41.847424</td>\n",
              "      <td>0.264442</td>\n",
              "    </tr>\n",
              "    <tr>\n",
              "      <th>4</th>\n",
              "      <td>18.741505</td>\n",
              "      <td>-21.605150</td>\n",
              "    </tr>\n",
              "    <tr>\n",
              "      <th>...</th>\n",
              "      <td>...</td>\n",
              "      <td>...</td>\n",
              "    </tr>\n",
              "    <tr>\n",
              "      <th>1565</th>\n",
              "      <td>-43.916779</td>\n",
              "      <td>9.854697</td>\n",
              "    </tr>\n",
              "    <tr>\n",
              "      <th>1566</th>\n",
              "      <td>-39.058998</td>\n",
              "      <td>6.947903</td>\n",
              "    </tr>\n",
              "    <tr>\n",
              "      <th>1567</th>\n",
              "      <td>-50.207436</td>\n",
              "      <td>15.278371</td>\n",
              "    </tr>\n",
              "    <tr>\n",
              "      <th>1568</th>\n",
              "      <td>-46.343712</td>\n",
              "      <td>-1.328283</td>\n",
              "    </tr>\n",
              "    <tr>\n",
              "      <th>1569</th>\n",
              "      <td>-50.478077</td>\n",
              "      <td>11.953157</td>\n",
              "    </tr>\n",
              "  </tbody>\n",
              "</table>\n",
              "<p>1570 rows × 2 columns</p>\n",
              "</div>\n",
              "    <div class=\"colab-df-buttons\">\n",
              "\n",
              "  <div class=\"colab-df-container\">\n",
              "    <button class=\"colab-df-convert\" onclick=\"convertToInteractive('df-379173f1-1887-47f6-9f9a-8e4acf99a18b')\"\n",
              "            title=\"Convert this dataframe to an interactive table.\"\n",
              "            style=\"display:none;\">\n",
              "\n",
              "  <svg xmlns=\"http://www.w3.org/2000/svg\" height=\"24px\" viewBox=\"0 -960 960 960\">\n",
              "    <path d=\"M120-120v-720h720v720H120Zm60-500h600v-160H180v160Zm220 220h160v-160H400v160Zm0 220h160v-160H400v160ZM180-400h160v-160H180v160Zm440 0h160v-160H620v160ZM180-180h160v-160H180v160Zm440 0h160v-160H620v160Z\"/>\n",
              "  </svg>\n",
              "    </button>\n",
              "\n",
              "  <style>\n",
              "    .colab-df-container {\n",
              "      display:flex;\n",
              "      gap: 12px;\n",
              "    }\n",
              "\n",
              "    .colab-df-convert {\n",
              "      background-color: #E8F0FE;\n",
              "      border: none;\n",
              "      border-radius: 50%;\n",
              "      cursor: pointer;\n",
              "      display: none;\n",
              "      fill: #1967D2;\n",
              "      height: 32px;\n",
              "      padding: 0 0 0 0;\n",
              "      width: 32px;\n",
              "    }\n",
              "\n",
              "    .colab-df-convert:hover {\n",
              "      background-color: #E2EBFA;\n",
              "      box-shadow: 0px 1px 2px rgba(60, 64, 67, 0.3), 0px 1px 3px 1px rgba(60, 64, 67, 0.15);\n",
              "      fill: #174EA6;\n",
              "    }\n",
              "\n",
              "    .colab-df-buttons div {\n",
              "      margin-bottom: 4px;\n",
              "    }\n",
              "\n",
              "    [theme=dark] .colab-df-convert {\n",
              "      background-color: #3B4455;\n",
              "      fill: #D2E3FC;\n",
              "    }\n",
              "\n",
              "    [theme=dark] .colab-df-convert:hover {\n",
              "      background-color: #434B5C;\n",
              "      box-shadow: 0px 1px 3px 1px rgba(0, 0, 0, 0.15);\n",
              "      filter: drop-shadow(0px 1px 2px rgba(0, 0, 0, 0.3));\n",
              "      fill: #FFFFFF;\n",
              "    }\n",
              "  </style>\n",
              "\n",
              "    <script>\n",
              "      const buttonEl =\n",
              "        document.querySelector('#df-379173f1-1887-47f6-9f9a-8e4acf99a18b button.colab-df-convert');\n",
              "      buttonEl.style.display =\n",
              "        google.colab.kernel.accessAllowed ? 'block' : 'none';\n",
              "\n",
              "      async function convertToInteractive(key) {\n",
              "        const element = document.querySelector('#df-379173f1-1887-47f6-9f9a-8e4acf99a18b');\n",
              "        const dataTable =\n",
              "          await google.colab.kernel.invokeFunction('convertToInteractive',\n",
              "                                                    [key], {});\n",
              "        if (!dataTable) return;\n",
              "\n",
              "        const docLinkHtml = 'Like what you see? Visit the ' +\n",
              "          '<a target=\"_blank\" href=https://colab.research.google.com/notebooks/data_table.ipynb>data table notebook</a>'\n",
              "          + ' to learn more about interactive tables.';\n",
              "        element.innerHTML = '';\n",
              "        dataTable['output_type'] = 'display_data';\n",
              "        await google.colab.output.renderOutput(dataTable, element);\n",
              "        const docLink = document.createElement('div');\n",
              "        docLink.innerHTML = docLinkHtml;\n",
              "        element.appendChild(docLink);\n",
              "      }\n",
              "    </script>\n",
              "  </div>\n",
              "\n",
              "\n",
              "    <div id=\"df-f3257081-5d84-4cb5-83e1-f0d6383216a9\">\n",
              "      <button class=\"colab-df-quickchart\" onclick=\"quickchart('df-f3257081-5d84-4cb5-83e1-f0d6383216a9')\"\n",
              "                title=\"Suggest charts\"\n",
              "                style=\"display:none;\">\n",
              "\n",
              "<svg xmlns=\"http://www.w3.org/2000/svg\" height=\"24px\"viewBox=\"0 0 24 24\"\n",
              "     width=\"24px\">\n",
              "    <g>\n",
              "        <path d=\"M19 3H5c-1.1 0-2 .9-2 2v14c0 1.1.9 2 2 2h14c1.1 0 2-.9 2-2V5c0-1.1-.9-2-2-2zM9 17H7v-7h2v7zm4 0h-2V7h2v10zm4 0h-2v-4h2v4z\"/>\n",
              "    </g>\n",
              "</svg>\n",
              "      </button>\n",
              "\n",
              "<style>\n",
              "  .colab-df-quickchart {\n",
              "      --bg-color: #E8F0FE;\n",
              "      --fill-color: #1967D2;\n",
              "      --hover-bg-color: #E2EBFA;\n",
              "      --hover-fill-color: #174EA6;\n",
              "      --disabled-fill-color: #AAA;\n",
              "      --disabled-bg-color: #DDD;\n",
              "  }\n",
              "\n",
              "  [theme=dark] .colab-df-quickchart {\n",
              "      --bg-color: #3B4455;\n",
              "      --fill-color: #D2E3FC;\n",
              "      --hover-bg-color: #434B5C;\n",
              "      --hover-fill-color: #FFFFFF;\n",
              "      --disabled-bg-color: #3B4455;\n",
              "      --disabled-fill-color: #666;\n",
              "  }\n",
              "\n",
              "  .colab-df-quickchart {\n",
              "    background-color: var(--bg-color);\n",
              "    border: none;\n",
              "    border-radius: 50%;\n",
              "    cursor: pointer;\n",
              "    display: none;\n",
              "    fill: var(--fill-color);\n",
              "    height: 32px;\n",
              "    padding: 0;\n",
              "    width: 32px;\n",
              "  }\n",
              "\n",
              "  .colab-df-quickchart:hover {\n",
              "    background-color: var(--hover-bg-color);\n",
              "    box-shadow: 0 1px 2px rgba(60, 64, 67, 0.3), 0 1px 3px 1px rgba(60, 64, 67, 0.15);\n",
              "    fill: var(--button-hover-fill-color);\n",
              "  }\n",
              "\n",
              "  .colab-df-quickchart-complete:disabled,\n",
              "  .colab-df-quickchart-complete:disabled:hover {\n",
              "    background-color: var(--disabled-bg-color);\n",
              "    fill: var(--disabled-fill-color);\n",
              "    box-shadow: none;\n",
              "  }\n",
              "\n",
              "  .colab-df-spinner {\n",
              "    border: 2px solid var(--fill-color);\n",
              "    border-color: transparent;\n",
              "    border-bottom-color: var(--fill-color);\n",
              "    animation:\n",
              "      spin 1s steps(1) infinite;\n",
              "  }\n",
              "\n",
              "  @keyframes spin {\n",
              "    0% {\n",
              "      border-color: transparent;\n",
              "      border-bottom-color: var(--fill-color);\n",
              "      border-left-color: var(--fill-color);\n",
              "    }\n",
              "    20% {\n",
              "      border-color: transparent;\n",
              "      border-left-color: var(--fill-color);\n",
              "      border-top-color: var(--fill-color);\n",
              "    }\n",
              "    30% {\n",
              "      border-color: transparent;\n",
              "      border-left-color: var(--fill-color);\n",
              "      border-top-color: var(--fill-color);\n",
              "      border-right-color: var(--fill-color);\n",
              "    }\n",
              "    40% {\n",
              "      border-color: transparent;\n",
              "      border-right-color: var(--fill-color);\n",
              "      border-top-color: var(--fill-color);\n",
              "    }\n",
              "    60% {\n",
              "      border-color: transparent;\n",
              "      border-right-color: var(--fill-color);\n",
              "    }\n",
              "    80% {\n",
              "      border-color: transparent;\n",
              "      border-right-color: var(--fill-color);\n",
              "      border-bottom-color: var(--fill-color);\n",
              "    }\n",
              "    90% {\n",
              "      border-color: transparent;\n",
              "      border-bottom-color: var(--fill-color);\n",
              "    }\n",
              "  }\n",
              "</style>\n",
              "\n",
              "      <script>\n",
              "        async function quickchart(key) {\n",
              "          const quickchartButtonEl =\n",
              "            document.querySelector('#' + key + ' button');\n",
              "          quickchartButtonEl.disabled = true;  // To prevent multiple clicks.\n",
              "          quickchartButtonEl.classList.add('colab-df-spinner');\n",
              "          try {\n",
              "            const charts = await google.colab.kernel.invokeFunction(\n",
              "                'suggestCharts', [key], {});\n",
              "          } catch (error) {\n",
              "            console.error('Error during call to suggestCharts:', error);\n",
              "          }\n",
              "          quickchartButtonEl.classList.remove('colab-df-spinner');\n",
              "          quickchartButtonEl.classList.add('colab-df-quickchart-complete');\n",
              "        }\n",
              "        (() => {\n",
              "          let quickchartButtonEl =\n",
              "            document.querySelector('#df-f3257081-5d84-4cb5-83e1-f0d6383216a9 button');\n",
              "          quickchartButtonEl.style.display =\n",
              "            google.colab.kernel.accessAllowed ? 'block' : 'none';\n",
              "        })();\n",
              "      </script>\n",
              "    </div>\n",
              "\n",
              "  <div id=\"id_e3a1e7c0-db2e-4831-ba31-64fdc4779466\">\n",
              "    <style>\n",
              "      .colab-df-generate {\n",
              "        background-color: #E8F0FE;\n",
              "        border: none;\n",
              "        border-radius: 50%;\n",
              "        cursor: pointer;\n",
              "        display: none;\n",
              "        fill: #1967D2;\n",
              "        height: 32px;\n",
              "        padding: 0 0 0 0;\n",
              "        width: 32px;\n",
              "      }\n",
              "\n",
              "      .colab-df-generate:hover {\n",
              "        background-color: #E2EBFA;\n",
              "        box-shadow: 0px 1px 2px rgba(60, 64, 67, 0.3), 0px 1px 3px 1px rgba(60, 64, 67, 0.15);\n",
              "        fill: #174EA6;\n",
              "      }\n",
              "\n",
              "      [theme=dark] .colab-df-generate {\n",
              "        background-color: #3B4455;\n",
              "        fill: #D2E3FC;\n",
              "      }\n",
              "\n",
              "      [theme=dark] .colab-df-generate:hover {\n",
              "        background-color: #434B5C;\n",
              "        box-shadow: 0px 1px 3px 1px rgba(0, 0, 0, 0.15);\n",
              "        filter: drop-shadow(0px 1px 2px rgba(0, 0, 0, 0.3));\n",
              "        fill: #FFFFFF;\n",
              "      }\n",
              "    </style>\n",
              "    <button class=\"colab-df-generate\" onclick=\"generateWithVariable('tSNE_representation')\"\n",
              "            title=\"Generate code using this dataframe.\"\n",
              "            style=\"display:none;\">\n",
              "\n",
              "  <svg xmlns=\"http://www.w3.org/2000/svg\" height=\"24px\"viewBox=\"0 0 24 24\"\n",
              "       width=\"24px\">\n",
              "    <path d=\"M7,19H8.4L18.45,9,17,7.55,7,17.6ZM5,21V16.75L18.45,3.32a2,2,0,0,1,2.83,0l1.4,1.43a1.91,1.91,0,0,1,.58,1.4,1.91,1.91,0,0,1-.58,1.4L9.25,21ZM18.45,9,17,7.55Zm-12,3A5.31,5.31,0,0,0,4.9,8.1,5.31,5.31,0,0,0,1,6.5,5.31,5.31,0,0,0,4.9,4.9,5.31,5.31,0,0,0,6.5,1,5.31,5.31,0,0,0,8.1,4.9,5.31,5.31,0,0,0,12,6.5,5.46,5.46,0,0,0,6.5,12Z\"/>\n",
              "  </svg>\n",
              "    </button>\n",
              "    <script>\n",
              "      (() => {\n",
              "      const buttonEl =\n",
              "        document.querySelector('#id_e3a1e7c0-db2e-4831-ba31-64fdc4779466 button.colab-df-generate');\n",
              "      buttonEl.style.display =\n",
              "        google.colab.kernel.accessAllowed ? 'block' : 'none';\n",
              "\n",
              "      buttonEl.onclick = () => {\n",
              "        google.colab.notebook.generateWithVariable('tSNE_representation');\n",
              "      }\n",
              "      })();\n",
              "    </script>\n",
              "  </div>\n",
              "\n",
              "    </div>\n",
              "  </div>\n"
            ],
            "application/vnd.google.colaboratory.intrinsic+json": {
              "type": "dataframe",
              "variable_name": "tSNE_representation",
              "summary": "{\n  \"name\": \"tSNE_representation\",\n  \"rows\": 1570,\n  \"fields\": [\n    {\n      \"column\": \"t-SNE 1\",\n      \"properties\": {\n        \"dtype\": \"float32\",\n        \"num_unique_values\": 1570,\n        \"samples\": [\n          -40.93706130981445,\n          -2.540525197982788,\n          13.444075584411621\n        ],\n        \"semantic_type\": \"\",\n        \"description\": \"\"\n      }\n    },\n    {\n      \"column\": \"t-SNE 2\",\n      \"properties\": {\n        \"dtype\": \"float32\",\n        \"num_unique_values\": 1570,\n        \"samples\": [\n          9.610978126525879,\n          -36.536338806152344,\n          11.659317016601562\n        ],\n        \"semantic_type\": \"\",\n        \"description\": \"\"\n      }\n    }\n  ]\n}"
            }
          },
          "metadata": {},
          "execution_count": 19
        }
      ]
    },
    {
      "cell_type": "code",
      "source": [
        "tSNEdf = tSNEdf.sort_values(by='Fault')"
      ],
      "metadata": {
        "id": "_TpCIloN904b"
      },
      "id": "_TpCIloN904b",
      "execution_count": 20,
      "outputs": []
    },
    {
      "cell_type": "code",
      "source": [
        "tSNEdf"
      ],
      "metadata": {
        "id": "xq2JlAOp_N5V",
        "colab": {
          "base_uri": "https://localhost:8080/",
          "height": 457
        },
        "outputId": "119a4736-8036-4818-be36-4d4cb0aeccf7"
      },
      "id": "xq2JlAOp_N5V",
      "execution_count": 21,
      "outputs": [
        {
          "output_type": "execute_result",
          "data": {
            "text/plain": [
              "      T-SNE component 1  T-SNE component 2             Fault\n",
              "681          -18.306227         -20.795734    F0_Normal_1_98\n",
              "1041         -19.104824         -19.465895    F0_Normal_1_98\n",
              "827          -19.861919         -18.944435    F0_Normal_1_98\n",
              "453          -19.881205         -14.629745    F0_Normal_1_98\n",
              "831          -19.392256         -21.359087    F0_Normal_1_98\n",
              "...                 ...                ...               ...\n",
              "843           10.531541           8.184004  F9_OR021_6_1_240\n",
              "846           15.353299          14.788709  F9_OR021_6_1_240\n",
              "1374          11.812909           7.340015  F9_OR021_6_1_240\n",
              "821           11.228145           7.628348  F9_OR021_6_1_240\n",
              "576            9.037071           8.278279  F9_OR021_6_1_240\n",
              "\n",
              "[1570 rows x 3 columns]"
            ],
            "text/html": [
              "\n",
              "  <div id=\"df-49497fcc-6c95-4925-8ffa-0a83fd53aa9f\" class=\"colab-df-container\">\n",
              "    <div>\n",
              "<style scoped>\n",
              "    .dataframe tbody tr th:only-of-type {\n",
              "        vertical-align: middle;\n",
              "    }\n",
              "\n",
              "    .dataframe tbody tr th {\n",
              "        vertical-align: top;\n",
              "    }\n",
              "\n",
              "    .dataframe thead th {\n",
              "        text-align: right;\n",
              "    }\n",
              "</style>\n",
              "<table border=\"1\" class=\"dataframe\">\n",
              "  <thead>\n",
              "    <tr style=\"text-align: right;\">\n",
              "      <th></th>\n",
              "      <th>T-SNE component 1</th>\n",
              "      <th>T-SNE component 2</th>\n",
              "      <th>Fault</th>\n",
              "    </tr>\n",
              "  </thead>\n",
              "  <tbody>\n",
              "    <tr>\n",
              "      <th>681</th>\n",
              "      <td>-18.306227</td>\n",
              "      <td>-20.795734</td>\n",
              "      <td>F0_Normal_1_98</td>\n",
              "    </tr>\n",
              "    <tr>\n",
              "      <th>1041</th>\n",
              "      <td>-19.104824</td>\n",
              "      <td>-19.465895</td>\n",
              "      <td>F0_Normal_1_98</td>\n",
              "    </tr>\n",
              "    <tr>\n",
              "      <th>827</th>\n",
              "      <td>-19.861919</td>\n",
              "      <td>-18.944435</td>\n",
              "      <td>F0_Normal_1_98</td>\n",
              "    </tr>\n",
              "    <tr>\n",
              "      <th>453</th>\n",
              "      <td>-19.881205</td>\n",
              "      <td>-14.629745</td>\n",
              "      <td>F0_Normal_1_98</td>\n",
              "    </tr>\n",
              "    <tr>\n",
              "      <th>831</th>\n",
              "      <td>-19.392256</td>\n",
              "      <td>-21.359087</td>\n",
              "      <td>F0_Normal_1_98</td>\n",
              "    </tr>\n",
              "    <tr>\n",
              "      <th>...</th>\n",
              "      <td>...</td>\n",
              "      <td>...</td>\n",
              "      <td>...</td>\n",
              "    </tr>\n",
              "    <tr>\n",
              "      <th>843</th>\n",
              "      <td>10.531541</td>\n",
              "      <td>8.184004</td>\n",
              "      <td>F9_OR021_6_1_240</td>\n",
              "    </tr>\n",
              "    <tr>\n",
              "      <th>846</th>\n",
              "      <td>15.353299</td>\n",
              "      <td>14.788709</td>\n",
              "      <td>F9_OR021_6_1_240</td>\n",
              "    </tr>\n",
              "    <tr>\n",
              "      <th>1374</th>\n",
              "      <td>11.812909</td>\n",
              "      <td>7.340015</td>\n",
              "      <td>F9_OR021_6_1_240</td>\n",
              "    </tr>\n",
              "    <tr>\n",
              "      <th>821</th>\n",
              "      <td>11.228145</td>\n",
              "      <td>7.628348</td>\n",
              "      <td>F9_OR021_6_1_240</td>\n",
              "    </tr>\n",
              "    <tr>\n",
              "      <th>576</th>\n",
              "      <td>9.037071</td>\n",
              "      <td>8.278279</td>\n",
              "      <td>F9_OR021_6_1_240</td>\n",
              "    </tr>\n",
              "  </tbody>\n",
              "</table>\n",
              "<p>1570 rows × 3 columns</p>\n",
              "</div>\n",
              "    <div class=\"colab-df-buttons\">\n",
              "\n",
              "  <div class=\"colab-df-container\">\n",
              "    <button class=\"colab-df-convert\" onclick=\"convertToInteractive('df-49497fcc-6c95-4925-8ffa-0a83fd53aa9f')\"\n",
              "            title=\"Convert this dataframe to an interactive table.\"\n",
              "            style=\"display:none;\">\n",
              "\n",
              "  <svg xmlns=\"http://www.w3.org/2000/svg\" height=\"24px\" viewBox=\"0 -960 960 960\">\n",
              "    <path d=\"M120-120v-720h720v720H120Zm60-500h600v-160H180v160Zm220 220h160v-160H400v160Zm0 220h160v-160H400v160ZM180-400h160v-160H180v160Zm440 0h160v-160H620v160ZM180-180h160v-160H180v160Zm440 0h160v-160H620v160Z\"/>\n",
              "  </svg>\n",
              "    </button>\n",
              "\n",
              "  <style>\n",
              "    .colab-df-container {\n",
              "      display:flex;\n",
              "      gap: 12px;\n",
              "    }\n",
              "\n",
              "    .colab-df-convert {\n",
              "      background-color: #E8F0FE;\n",
              "      border: none;\n",
              "      border-radius: 50%;\n",
              "      cursor: pointer;\n",
              "      display: none;\n",
              "      fill: #1967D2;\n",
              "      height: 32px;\n",
              "      padding: 0 0 0 0;\n",
              "      width: 32px;\n",
              "    }\n",
              "\n",
              "    .colab-df-convert:hover {\n",
              "      background-color: #E2EBFA;\n",
              "      box-shadow: 0px 1px 2px rgba(60, 64, 67, 0.3), 0px 1px 3px 1px rgba(60, 64, 67, 0.15);\n",
              "      fill: #174EA6;\n",
              "    }\n",
              "\n",
              "    .colab-df-buttons div {\n",
              "      margin-bottom: 4px;\n",
              "    }\n",
              "\n",
              "    [theme=dark] .colab-df-convert {\n",
              "      background-color: #3B4455;\n",
              "      fill: #D2E3FC;\n",
              "    }\n",
              "\n",
              "    [theme=dark] .colab-df-convert:hover {\n",
              "      background-color: #434B5C;\n",
              "      box-shadow: 0px 1px 3px 1px rgba(0, 0, 0, 0.15);\n",
              "      filter: drop-shadow(0px 1px 2px rgba(0, 0, 0, 0.3));\n",
              "      fill: #FFFFFF;\n",
              "    }\n",
              "  </style>\n",
              "\n",
              "    <script>\n",
              "      const buttonEl =\n",
              "        document.querySelector('#df-49497fcc-6c95-4925-8ffa-0a83fd53aa9f button.colab-df-convert');\n",
              "      buttonEl.style.display =\n",
              "        google.colab.kernel.accessAllowed ? 'block' : 'none';\n",
              "\n",
              "      async function convertToInteractive(key) {\n",
              "        const element = document.querySelector('#df-49497fcc-6c95-4925-8ffa-0a83fd53aa9f');\n",
              "        const dataTable =\n",
              "          await google.colab.kernel.invokeFunction('convertToInteractive',\n",
              "                                                    [key], {});\n",
              "        if (!dataTable) return;\n",
              "\n",
              "        const docLinkHtml = 'Like what you see? Visit the ' +\n",
              "          '<a target=\"_blank\" href=https://colab.research.google.com/notebooks/data_table.ipynb>data table notebook</a>'\n",
              "          + ' to learn more about interactive tables.';\n",
              "        element.innerHTML = '';\n",
              "        dataTable['output_type'] = 'display_data';\n",
              "        await google.colab.output.renderOutput(dataTable, element);\n",
              "        const docLink = document.createElement('div');\n",
              "        docLink.innerHTML = docLinkHtml;\n",
              "        element.appendChild(docLink);\n",
              "      }\n",
              "    </script>\n",
              "  </div>\n",
              "\n",
              "\n",
              "    <div id=\"df-bdfebc27-555f-4280-b32f-49da521d49e0\">\n",
              "      <button class=\"colab-df-quickchart\" onclick=\"quickchart('df-bdfebc27-555f-4280-b32f-49da521d49e0')\"\n",
              "                title=\"Suggest charts\"\n",
              "                style=\"display:none;\">\n",
              "\n",
              "<svg xmlns=\"http://www.w3.org/2000/svg\" height=\"24px\"viewBox=\"0 0 24 24\"\n",
              "     width=\"24px\">\n",
              "    <g>\n",
              "        <path d=\"M19 3H5c-1.1 0-2 .9-2 2v14c0 1.1.9 2 2 2h14c1.1 0 2-.9 2-2V5c0-1.1-.9-2-2-2zM9 17H7v-7h2v7zm4 0h-2V7h2v10zm4 0h-2v-4h2v4z\"/>\n",
              "    </g>\n",
              "</svg>\n",
              "      </button>\n",
              "\n",
              "<style>\n",
              "  .colab-df-quickchart {\n",
              "      --bg-color: #E8F0FE;\n",
              "      --fill-color: #1967D2;\n",
              "      --hover-bg-color: #E2EBFA;\n",
              "      --hover-fill-color: #174EA6;\n",
              "      --disabled-fill-color: #AAA;\n",
              "      --disabled-bg-color: #DDD;\n",
              "  }\n",
              "\n",
              "  [theme=dark] .colab-df-quickchart {\n",
              "      --bg-color: #3B4455;\n",
              "      --fill-color: #D2E3FC;\n",
              "      --hover-bg-color: #434B5C;\n",
              "      --hover-fill-color: #FFFFFF;\n",
              "      --disabled-bg-color: #3B4455;\n",
              "      --disabled-fill-color: #666;\n",
              "  }\n",
              "\n",
              "  .colab-df-quickchart {\n",
              "    background-color: var(--bg-color);\n",
              "    border: none;\n",
              "    border-radius: 50%;\n",
              "    cursor: pointer;\n",
              "    display: none;\n",
              "    fill: var(--fill-color);\n",
              "    height: 32px;\n",
              "    padding: 0;\n",
              "    width: 32px;\n",
              "  }\n",
              "\n",
              "  .colab-df-quickchart:hover {\n",
              "    background-color: var(--hover-bg-color);\n",
              "    box-shadow: 0 1px 2px rgba(60, 64, 67, 0.3), 0 1px 3px 1px rgba(60, 64, 67, 0.15);\n",
              "    fill: var(--button-hover-fill-color);\n",
              "  }\n",
              "\n",
              "  .colab-df-quickchart-complete:disabled,\n",
              "  .colab-df-quickchart-complete:disabled:hover {\n",
              "    background-color: var(--disabled-bg-color);\n",
              "    fill: var(--disabled-fill-color);\n",
              "    box-shadow: none;\n",
              "  }\n",
              "\n",
              "  .colab-df-spinner {\n",
              "    border: 2px solid var(--fill-color);\n",
              "    border-color: transparent;\n",
              "    border-bottom-color: var(--fill-color);\n",
              "    animation:\n",
              "      spin 1s steps(1) infinite;\n",
              "  }\n",
              "\n",
              "  @keyframes spin {\n",
              "    0% {\n",
              "      border-color: transparent;\n",
              "      border-bottom-color: var(--fill-color);\n",
              "      border-left-color: var(--fill-color);\n",
              "    }\n",
              "    20% {\n",
              "      border-color: transparent;\n",
              "      border-left-color: var(--fill-color);\n",
              "      border-top-color: var(--fill-color);\n",
              "    }\n",
              "    30% {\n",
              "      border-color: transparent;\n",
              "      border-left-color: var(--fill-color);\n",
              "      border-top-color: var(--fill-color);\n",
              "      border-right-color: var(--fill-color);\n",
              "    }\n",
              "    40% {\n",
              "      border-color: transparent;\n",
              "      border-right-color: var(--fill-color);\n",
              "      border-top-color: var(--fill-color);\n",
              "    }\n",
              "    60% {\n",
              "      border-color: transparent;\n",
              "      border-right-color: var(--fill-color);\n",
              "    }\n",
              "    80% {\n",
              "      border-color: transparent;\n",
              "      border-right-color: var(--fill-color);\n",
              "      border-bottom-color: var(--fill-color);\n",
              "    }\n",
              "    90% {\n",
              "      border-color: transparent;\n",
              "      border-bottom-color: var(--fill-color);\n",
              "    }\n",
              "  }\n",
              "</style>\n",
              "\n",
              "      <script>\n",
              "        async function quickchart(key) {\n",
              "          const quickchartButtonEl =\n",
              "            document.querySelector('#' + key + ' button');\n",
              "          quickchartButtonEl.disabled = true;  // To prevent multiple clicks.\n",
              "          quickchartButtonEl.classList.add('colab-df-spinner');\n",
              "          try {\n",
              "            const charts = await google.colab.kernel.invokeFunction(\n",
              "                'suggestCharts', [key], {});\n",
              "          } catch (error) {\n",
              "            console.error('Error during call to suggestCharts:', error);\n",
              "          }\n",
              "          quickchartButtonEl.classList.remove('colab-df-spinner');\n",
              "          quickchartButtonEl.classList.add('colab-df-quickchart-complete');\n",
              "        }\n",
              "        (() => {\n",
              "          let quickchartButtonEl =\n",
              "            document.querySelector('#df-bdfebc27-555f-4280-b32f-49da521d49e0 button');\n",
              "          quickchartButtonEl.style.display =\n",
              "            google.colab.kernel.accessAllowed ? 'block' : 'none';\n",
              "        })();\n",
              "      </script>\n",
              "    </div>\n",
              "\n",
              "  <div id=\"id_ba307d37-7b13-461b-839a-d4ba75e4f5b7\">\n",
              "    <style>\n",
              "      .colab-df-generate {\n",
              "        background-color: #E8F0FE;\n",
              "        border: none;\n",
              "        border-radius: 50%;\n",
              "        cursor: pointer;\n",
              "        display: none;\n",
              "        fill: #1967D2;\n",
              "        height: 32px;\n",
              "        padding: 0 0 0 0;\n",
              "        width: 32px;\n",
              "      }\n",
              "\n",
              "      .colab-df-generate:hover {\n",
              "        background-color: #E2EBFA;\n",
              "        box-shadow: 0px 1px 2px rgba(60, 64, 67, 0.3), 0px 1px 3px 1px rgba(60, 64, 67, 0.15);\n",
              "        fill: #174EA6;\n",
              "      }\n",
              "\n",
              "      [theme=dark] .colab-df-generate {\n",
              "        background-color: #3B4455;\n",
              "        fill: #D2E3FC;\n",
              "      }\n",
              "\n",
              "      [theme=dark] .colab-df-generate:hover {\n",
              "        background-color: #434B5C;\n",
              "        box-shadow: 0px 1px 3px 1px rgba(0, 0, 0, 0.15);\n",
              "        filter: drop-shadow(0px 1px 2px rgba(0, 0, 0, 0.3));\n",
              "        fill: #FFFFFF;\n",
              "      }\n",
              "    </style>\n",
              "    <button class=\"colab-df-generate\" onclick=\"generateWithVariable('tSNEdf')\"\n",
              "            title=\"Generate code using this dataframe.\"\n",
              "            style=\"display:none;\">\n",
              "\n",
              "  <svg xmlns=\"http://www.w3.org/2000/svg\" height=\"24px\"viewBox=\"0 0 24 24\"\n",
              "       width=\"24px\">\n",
              "    <path d=\"M7,19H8.4L18.45,9,17,7.55,7,17.6ZM5,21V16.75L18.45,3.32a2,2,0,0,1,2.83,0l1.4,1.43a1.91,1.91,0,0,1,.58,1.4,1.91,1.91,0,0,1-.58,1.4L9.25,21ZM18.45,9,17,7.55Zm-12,3A5.31,5.31,0,0,0,4.9,8.1,5.31,5.31,0,0,0,1,6.5,5.31,5.31,0,0,0,4.9,4.9,5.31,5.31,0,0,0,6.5,1,5.31,5.31,0,0,0,8.1,4.9,5.31,5.31,0,0,0,12,6.5,5.46,5.46,0,0,0,6.5,12Z\"/>\n",
              "  </svg>\n",
              "    </button>\n",
              "    <script>\n",
              "      (() => {\n",
              "      const buttonEl =\n",
              "        document.querySelector('#id_ba307d37-7b13-461b-839a-d4ba75e4f5b7 button.colab-df-generate');\n",
              "      buttonEl.style.display =\n",
              "        google.colab.kernel.accessAllowed ? 'block' : 'none';\n",
              "\n",
              "      buttonEl.onclick = () => {\n",
              "        google.colab.notebook.generateWithVariable('tSNEdf');\n",
              "      }\n",
              "      })();\n",
              "    </script>\n",
              "  </div>\n",
              "\n",
              "    </div>\n",
              "  </div>\n"
            ],
            "application/vnd.google.colaboratory.intrinsic+json": {
              "type": "dataframe",
              "variable_name": "tSNEdf",
              "summary": "{\n  \"name\": \"tSNEdf\",\n  \"rows\": 1570,\n  \"fields\": [\n    {\n      \"column\": \"T-SNE component 1\",\n      \"properties\": {\n        \"dtype\": \"float32\",\n        \"num_unique_values\": 1570,\n        \"samples\": [\n          15.544568061828613,\n          7.093488693237305,\n          -21.127206802368164\n        ],\n        \"semantic_type\": \"\",\n        \"description\": \"\"\n      }\n    },\n    {\n      \"column\": \"T-SNE component 2\",\n      \"properties\": {\n        \"dtype\": \"float32\",\n        \"num_unique_values\": 1569,\n        \"samples\": [\n          13.881647109985352,\n          31.26628875732422,\n          2.916085958480835\n        ],\n        \"semantic_type\": \"\",\n        \"description\": \"\"\n      }\n    },\n    {\n      \"column\": \"Fault\",\n      \"properties\": {\n        \"dtype\": \"category\",\n        \"num_unique_values\": 10,\n        \"samples\": [\n          \"F8_OR014_6_1_203\",\n          \"F1_B007_1_124\",\n          \"F5_IR014_1_176\"\n        ],\n        \"semantic_type\": \"\",\n        \"description\": \"\"\n      }\n    }\n  ]\n}"
            }
          },
          "metadata": {},
          "execution_count": 21
        }
      ]
    },
    {
      "cell_type": "markdown",
      "source": [
        "Combined Features"
      ],
      "metadata": {
        "id": "73T5xFDWQmML"
      },
      "id": "73T5xFDWQmML"
    },
    {
      "cell_type": "code",
      "source": [
        "# import pandas as pd\n",
        "\n",
        "# Assuming df1 and df2 are your two dataframes\n",
        "# Concatenate the dataframes vertically\n",
        "Motor_Fault_dataset = pd.concat([tSNE_representation, tSNEdf], axis=1)\n",
        "Motor_Fault_dataset=Motor_Fault_dataset.sort_values(by='Fault')\n",
        "Motor_Fault_dataset\n",
        "\n",
        "import pandas as pd\n",
        "from sklearn.preprocessing import StandardScaler\n",
        "\n",
        "# Assuming df1 and df2 are your two dataframes\n",
        "# Concatenate the dataframes vertically\n",
        "Motor_Fault_dataset = pd.concat([tSNE_representation, tSNEdf], axis=1)\n",
        "\n",
        "# Sort the dataset by 'Fault' column\n",
        "Motor_Fault_dataset = Motor_Fault_dataset.sort_values(by='Fault')\n",
        "Motor_Fault_dataset\n"
      ],
      "metadata": {
        "id": "sEmeYK5c8anK",
        "colab": {
          "base_uri": "https://localhost:8080/",
          "height": 424
        },
        "outputId": "46ec6344-81fe-434e-e820-ca90188d2ab9"
      },
      "id": "sEmeYK5c8anK",
      "execution_count": 22,
      "outputs": [
        {
          "output_type": "execute_result",
          "data": {
            "text/plain": [
              "        t-SNE 1    t-SNE 2  T-SNE component 1  T-SNE component 2  \\\n",
              "681  -16.990498  30.455633         -18.306227         -20.795734   \n",
              "1041 -11.278776 -31.387926         -19.104824         -19.465895   \n",
              "827   27.112658  15.990878         -19.861919         -18.944435   \n",
              "453  -15.433441   3.870676         -19.881205         -14.629745   \n",
              "831  -19.222639   7.276619         -19.392256         -21.359087   \n",
              "...         ...        ...                ...                ...   \n",
              "843  -14.980259   9.025046          10.531541           8.184004   \n",
              "846  -17.757294   8.523412          15.353299          14.788709   \n",
              "1374  20.469049  13.020326          11.812909           7.340015   \n",
              "821  -21.057732  14.016726          11.228145           7.628348   \n",
              "576   -1.498133  -9.401269           9.037071           8.278279   \n",
              "\n",
              "                 Fault  \n",
              "681     F0_Normal_1_98  \n",
              "1041    F0_Normal_1_98  \n",
              "827     F0_Normal_1_98  \n",
              "453     F0_Normal_1_98  \n",
              "831     F0_Normal_1_98  \n",
              "...                ...  \n",
              "843   F9_OR021_6_1_240  \n",
              "846   F9_OR021_6_1_240  \n",
              "1374  F9_OR021_6_1_240  \n",
              "821   F9_OR021_6_1_240  \n",
              "576   F9_OR021_6_1_240  \n",
              "\n",
              "[1570 rows x 5 columns]"
            ],
            "text/html": [
              "\n",
              "  <div id=\"df-a151482a-6bff-4780-9357-53deb43f9f41\" class=\"colab-df-container\">\n",
              "    <div>\n",
              "<style scoped>\n",
              "    .dataframe tbody tr th:only-of-type {\n",
              "        vertical-align: middle;\n",
              "    }\n",
              "\n",
              "    .dataframe tbody tr th {\n",
              "        vertical-align: top;\n",
              "    }\n",
              "\n",
              "    .dataframe thead th {\n",
              "        text-align: right;\n",
              "    }\n",
              "</style>\n",
              "<table border=\"1\" class=\"dataframe\">\n",
              "  <thead>\n",
              "    <tr style=\"text-align: right;\">\n",
              "      <th></th>\n",
              "      <th>t-SNE 1</th>\n",
              "      <th>t-SNE 2</th>\n",
              "      <th>T-SNE component 1</th>\n",
              "      <th>T-SNE component 2</th>\n",
              "      <th>Fault</th>\n",
              "    </tr>\n",
              "  </thead>\n",
              "  <tbody>\n",
              "    <tr>\n",
              "      <th>681</th>\n",
              "      <td>-16.990498</td>\n",
              "      <td>30.455633</td>\n",
              "      <td>-18.306227</td>\n",
              "      <td>-20.795734</td>\n",
              "      <td>F0_Normal_1_98</td>\n",
              "    </tr>\n",
              "    <tr>\n",
              "      <th>1041</th>\n",
              "      <td>-11.278776</td>\n",
              "      <td>-31.387926</td>\n",
              "      <td>-19.104824</td>\n",
              "      <td>-19.465895</td>\n",
              "      <td>F0_Normal_1_98</td>\n",
              "    </tr>\n",
              "    <tr>\n",
              "      <th>827</th>\n",
              "      <td>27.112658</td>\n",
              "      <td>15.990878</td>\n",
              "      <td>-19.861919</td>\n",
              "      <td>-18.944435</td>\n",
              "      <td>F0_Normal_1_98</td>\n",
              "    </tr>\n",
              "    <tr>\n",
              "      <th>453</th>\n",
              "      <td>-15.433441</td>\n",
              "      <td>3.870676</td>\n",
              "      <td>-19.881205</td>\n",
              "      <td>-14.629745</td>\n",
              "      <td>F0_Normal_1_98</td>\n",
              "    </tr>\n",
              "    <tr>\n",
              "      <th>831</th>\n",
              "      <td>-19.222639</td>\n",
              "      <td>7.276619</td>\n",
              "      <td>-19.392256</td>\n",
              "      <td>-21.359087</td>\n",
              "      <td>F0_Normal_1_98</td>\n",
              "    </tr>\n",
              "    <tr>\n",
              "      <th>...</th>\n",
              "      <td>...</td>\n",
              "      <td>...</td>\n",
              "      <td>...</td>\n",
              "      <td>...</td>\n",
              "      <td>...</td>\n",
              "    </tr>\n",
              "    <tr>\n",
              "      <th>843</th>\n",
              "      <td>-14.980259</td>\n",
              "      <td>9.025046</td>\n",
              "      <td>10.531541</td>\n",
              "      <td>8.184004</td>\n",
              "      <td>F9_OR021_6_1_240</td>\n",
              "    </tr>\n",
              "    <tr>\n",
              "      <th>846</th>\n",
              "      <td>-17.757294</td>\n",
              "      <td>8.523412</td>\n",
              "      <td>15.353299</td>\n",
              "      <td>14.788709</td>\n",
              "      <td>F9_OR021_6_1_240</td>\n",
              "    </tr>\n",
              "    <tr>\n",
              "      <th>1374</th>\n",
              "      <td>20.469049</td>\n",
              "      <td>13.020326</td>\n",
              "      <td>11.812909</td>\n",
              "      <td>7.340015</td>\n",
              "      <td>F9_OR021_6_1_240</td>\n",
              "    </tr>\n",
              "    <tr>\n",
              "      <th>821</th>\n",
              "      <td>-21.057732</td>\n",
              "      <td>14.016726</td>\n",
              "      <td>11.228145</td>\n",
              "      <td>7.628348</td>\n",
              "      <td>F9_OR021_6_1_240</td>\n",
              "    </tr>\n",
              "    <tr>\n",
              "      <th>576</th>\n",
              "      <td>-1.498133</td>\n",
              "      <td>-9.401269</td>\n",
              "      <td>9.037071</td>\n",
              "      <td>8.278279</td>\n",
              "      <td>F9_OR021_6_1_240</td>\n",
              "    </tr>\n",
              "  </tbody>\n",
              "</table>\n",
              "<p>1570 rows × 5 columns</p>\n",
              "</div>\n",
              "    <div class=\"colab-df-buttons\">\n",
              "\n",
              "  <div class=\"colab-df-container\">\n",
              "    <button class=\"colab-df-convert\" onclick=\"convertToInteractive('df-a151482a-6bff-4780-9357-53deb43f9f41')\"\n",
              "            title=\"Convert this dataframe to an interactive table.\"\n",
              "            style=\"display:none;\">\n",
              "\n",
              "  <svg xmlns=\"http://www.w3.org/2000/svg\" height=\"24px\" viewBox=\"0 -960 960 960\">\n",
              "    <path d=\"M120-120v-720h720v720H120Zm60-500h600v-160H180v160Zm220 220h160v-160H400v160Zm0 220h160v-160H400v160ZM180-400h160v-160H180v160Zm440 0h160v-160H620v160ZM180-180h160v-160H180v160Zm440 0h160v-160H620v160Z\"/>\n",
              "  </svg>\n",
              "    </button>\n",
              "\n",
              "  <style>\n",
              "    .colab-df-container {\n",
              "      display:flex;\n",
              "      gap: 12px;\n",
              "    }\n",
              "\n",
              "    .colab-df-convert {\n",
              "      background-color: #E8F0FE;\n",
              "      border: none;\n",
              "      border-radius: 50%;\n",
              "      cursor: pointer;\n",
              "      display: none;\n",
              "      fill: #1967D2;\n",
              "      height: 32px;\n",
              "      padding: 0 0 0 0;\n",
              "      width: 32px;\n",
              "    }\n",
              "\n",
              "    .colab-df-convert:hover {\n",
              "      background-color: #E2EBFA;\n",
              "      box-shadow: 0px 1px 2px rgba(60, 64, 67, 0.3), 0px 1px 3px 1px rgba(60, 64, 67, 0.15);\n",
              "      fill: #174EA6;\n",
              "    }\n",
              "\n",
              "    .colab-df-buttons div {\n",
              "      margin-bottom: 4px;\n",
              "    }\n",
              "\n",
              "    [theme=dark] .colab-df-convert {\n",
              "      background-color: #3B4455;\n",
              "      fill: #D2E3FC;\n",
              "    }\n",
              "\n",
              "    [theme=dark] .colab-df-convert:hover {\n",
              "      background-color: #434B5C;\n",
              "      box-shadow: 0px 1px 3px 1px rgba(0, 0, 0, 0.15);\n",
              "      filter: drop-shadow(0px 1px 2px rgba(0, 0, 0, 0.3));\n",
              "      fill: #FFFFFF;\n",
              "    }\n",
              "  </style>\n",
              "\n",
              "    <script>\n",
              "      const buttonEl =\n",
              "        document.querySelector('#df-a151482a-6bff-4780-9357-53deb43f9f41 button.colab-df-convert');\n",
              "      buttonEl.style.display =\n",
              "        google.colab.kernel.accessAllowed ? 'block' : 'none';\n",
              "\n",
              "      async function convertToInteractive(key) {\n",
              "        const element = document.querySelector('#df-a151482a-6bff-4780-9357-53deb43f9f41');\n",
              "        const dataTable =\n",
              "          await google.colab.kernel.invokeFunction('convertToInteractive',\n",
              "                                                    [key], {});\n",
              "        if (!dataTable) return;\n",
              "\n",
              "        const docLinkHtml = 'Like what you see? Visit the ' +\n",
              "          '<a target=\"_blank\" href=https://colab.research.google.com/notebooks/data_table.ipynb>data table notebook</a>'\n",
              "          + ' to learn more about interactive tables.';\n",
              "        element.innerHTML = '';\n",
              "        dataTable['output_type'] = 'display_data';\n",
              "        await google.colab.output.renderOutput(dataTable, element);\n",
              "        const docLink = document.createElement('div');\n",
              "        docLink.innerHTML = docLinkHtml;\n",
              "        element.appendChild(docLink);\n",
              "      }\n",
              "    </script>\n",
              "  </div>\n",
              "\n",
              "\n",
              "    <div id=\"df-2d105560-af0a-477f-b5b4-5db3fc8c3f6c\">\n",
              "      <button class=\"colab-df-quickchart\" onclick=\"quickchart('df-2d105560-af0a-477f-b5b4-5db3fc8c3f6c')\"\n",
              "                title=\"Suggest charts\"\n",
              "                style=\"display:none;\">\n",
              "\n",
              "<svg xmlns=\"http://www.w3.org/2000/svg\" height=\"24px\"viewBox=\"0 0 24 24\"\n",
              "     width=\"24px\">\n",
              "    <g>\n",
              "        <path d=\"M19 3H5c-1.1 0-2 .9-2 2v14c0 1.1.9 2 2 2h14c1.1 0 2-.9 2-2V5c0-1.1-.9-2-2-2zM9 17H7v-7h2v7zm4 0h-2V7h2v10zm4 0h-2v-4h2v4z\"/>\n",
              "    </g>\n",
              "</svg>\n",
              "      </button>\n",
              "\n",
              "<style>\n",
              "  .colab-df-quickchart {\n",
              "      --bg-color: #E8F0FE;\n",
              "      --fill-color: #1967D2;\n",
              "      --hover-bg-color: #E2EBFA;\n",
              "      --hover-fill-color: #174EA6;\n",
              "      --disabled-fill-color: #AAA;\n",
              "      --disabled-bg-color: #DDD;\n",
              "  }\n",
              "\n",
              "  [theme=dark] .colab-df-quickchart {\n",
              "      --bg-color: #3B4455;\n",
              "      --fill-color: #D2E3FC;\n",
              "      --hover-bg-color: #434B5C;\n",
              "      --hover-fill-color: #FFFFFF;\n",
              "      --disabled-bg-color: #3B4455;\n",
              "      --disabled-fill-color: #666;\n",
              "  }\n",
              "\n",
              "  .colab-df-quickchart {\n",
              "    background-color: var(--bg-color);\n",
              "    border: none;\n",
              "    border-radius: 50%;\n",
              "    cursor: pointer;\n",
              "    display: none;\n",
              "    fill: var(--fill-color);\n",
              "    height: 32px;\n",
              "    padding: 0;\n",
              "    width: 32px;\n",
              "  }\n",
              "\n",
              "  .colab-df-quickchart:hover {\n",
              "    background-color: var(--hover-bg-color);\n",
              "    box-shadow: 0 1px 2px rgba(60, 64, 67, 0.3), 0 1px 3px 1px rgba(60, 64, 67, 0.15);\n",
              "    fill: var(--button-hover-fill-color);\n",
              "  }\n",
              "\n",
              "  .colab-df-quickchart-complete:disabled,\n",
              "  .colab-df-quickchart-complete:disabled:hover {\n",
              "    background-color: var(--disabled-bg-color);\n",
              "    fill: var(--disabled-fill-color);\n",
              "    box-shadow: none;\n",
              "  }\n",
              "\n",
              "  .colab-df-spinner {\n",
              "    border: 2px solid var(--fill-color);\n",
              "    border-color: transparent;\n",
              "    border-bottom-color: var(--fill-color);\n",
              "    animation:\n",
              "      spin 1s steps(1) infinite;\n",
              "  }\n",
              "\n",
              "  @keyframes spin {\n",
              "    0% {\n",
              "      border-color: transparent;\n",
              "      border-bottom-color: var(--fill-color);\n",
              "      border-left-color: var(--fill-color);\n",
              "    }\n",
              "    20% {\n",
              "      border-color: transparent;\n",
              "      border-left-color: var(--fill-color);\n",
              "      border-top-color: var(--fill-color);\n",
              "    }\n",
              "    30% {\n",
              "      border-color: transparent;\n",
              "      border-left-color: var(--fill-color);\n",
              "      border-top-color: var(--fill-color);\n",
              "      border-right-color: var(--fill-color);\n",
              "    }\n",
              "    40% {\n",
              "      border-color: transparent;\n",
              "      border-right-color: var(--fill-color);\n",
              "      border-top-color: var(--fill-color);\n",
              "    }\n",
              "    60% {\n",
              "      border-color: transparent;\n",
              "      border-right-color: var(--fill-color);\n",
              "    }\n",
              "    80% {\n",
              "      border-color: transparent;\n",
              "      border-right-color: var(--fill-color);\n",
              "      border-bottom-color: var(--fill-color);\n",
              "    }\n",
              "    90% {\n",
              "      border-color: transparent;\n",
              "      border-bottom-color: var(--fill-color);\n",
              "    }\n",
              "  }\n",
              "</style>\n",
              "\n",
              "      <script>\n",
              "        async function quickchart(key) {\n",
              "          const quickchartButtonEl =\n",
              "            document.querySelector('#' + key + ' button');\n",
              "          quickchartButtonEl.disabled = true;  // To prevent multiple clicks.\n",
              "          quickchartButtonEl.classList.add('colab-df-spinner');\n",
              "          try {\n",
              "            const charts = await google.colab.kernel.invokeFunction(\n",
              "                'suggestCharts', [key], {});\n",
              "          } catch (error) {\n",
              "            console.error('Error during call to suggestCharts:', error);\n",
              "          }\n",
              "          quickchartButtonEl.classList.remove('colab-df-spinner');\n",
              "          quickchartButtonEl.classList.add('colab-df-quickchart-complete');\n",
              "        }\n",
              "        (() => {\n",
              "          let quickchartButtonEl =\n",
              "            document.querySelector('#df-2d105560-af0a-477f-b5b4-5db3fc8c3f6c button');\n",
              "          quickchartButtonEl.style.display =\n",
              "            google.colab.kernel.accessAllowed ? 'block' : 'none';\n",
              "        })();\n",
              "      </script>\n",
              "    </div>\n",
              "\n",
              "  <div id=\"id_56ddd736-e942-4642-84bf-3090be9c10ec\">\n",
              "    <style>\n",
              "      .colab-df-generate {\n",
              "        background-color: #E8F0FE;\n",
              "        border: none;\n",
              "        border-radius: 50%;\n",
              "        cursor: pointer;\n",
              "        display: none;\n",
              "        fill: #1967D2;\n",
              "        height: 32px;\n",
              "        padding: 0 0 0 0;\n",
              "        width: 32px;\n",
              "      }\n",
              "\n",
              "      .colab-df-generate:hover {\n",
              "        background-color: #E2EBFA;\n",
              "        box-shadow: 0px 1px 2px rgba(60, 64, 67, 0.3), 0px 1px 3px 1px rgba(60, 64, 67, 0.15);\n",
              "        fill: #174EA6;\n",
              "      }\n",
              "\n",
              "      [theme=dark] .colab-df-generate {\n",
              "        background-color: #3B4455;\n",
              "        fill: #D2E3FC;\n",
              "      }\n",
              "\n",
              "      [theme=dark] .colab-df-generate:hover {\n",
              "        background-color: #434B5C;\n",
              "        box-shadow: 0px 1px 3px 1px rgba(0, 0, 0, 0.15);\n",
              "        filter: drop-shadow(0px 1px 2px rgba(0, 0, 0, 0.3));\n",
              "        fill: #FFFFFF;\n",
              "      }\n",
              "    </style>\n",
              "    <button class=\"colab-df-generate\" onclick=\"generateWithVariable('Motor_Fault_dataset')\"\n",
              "            title=\"Generate code using this dataframe.\"\n",
              "            style=\"display:none;\">\n",
              "\n",
              "  <svg xmlns=\"http://www.w3.org/2000/svg\" height=\"24px\"viewBox=\"0 0 24 24\"\n",
              "       width=\"24px\">\n",
              "    <path d=\"M7,19H8.4L18.45,9,17,7.55,7,17.6ZM5,21V16.75L18.45,3.32a2,2,0,0,1,2.83,0l1.4,1.43a1.91,1.91,0,0,1,.58,1.4,1.91,1.91,0,0,1-.58,1.4L9.25,21ZM18.45,9,17,7.55Zm-12,3A5.31,5.31,0,0,0,4.9,8.1,5.31,5.31,0,0,0,1,6.5,5.31,5.31,0,0,0,4.9,4.9,5.31,5.31,0,0,0,6.5,1,5.31,5.31,0,0,0,8.1,4.9,5.31,5.31,0,0,0,12,6.5,5.46,5.46,0,0,0,6.5,12Z\"/>\n",
              "  </svg>\n",
              "    </button>\n",
              "    <script>\n",
              "      (() => {\n",
              "      const buttonEl =\n",
              "        document.querySelector('#id_56ddd736-e942-4642-84bf-3090be9c10ec button.colab-df-generate');\n",
              "      buttonEl.style.display =\n",
              "        google.colab.kernel.accessAllowed ? 'block' : 'none';\n",
              "\n",
              "      buttonEl.onclick = () => {\n",
              "        google.colab.notebook.generateWithVariable('Motor_Fault_dataset');\n",
              "      }\n",
              "      })();\n",
              "    </script>\n",
              "  </div>\n",
              "\n",
              "    </div>\n",
              "  </div>\n"
            ],
            "application/vnd.google.colaboratory.intrinsic+json": {
              "type": "dataframe",
              "variable_name": "Motor_Fault_dataset",
              "summary": "{\n  \"name\": \"Motor_Fault_dataset\",\n  \"rows\": 1570,\n  \"fields\": [\n    {\n      \"column\": \"t-SNE 1\",\n      \"properties\": {\n        \"dtype\": \"float32\",\n        \"num_unique_values\": 1570,\n        \"samples\": [\n          -2.397455930709839,\n          22.004281997680664,\n          16.757055282592773\n        ],\n        \"semantic_type\": \"\",\n        \"description\": \"\"\n      }\n    },\n    {\n      \"column\": \"t-SNE 2\",\n      \"properties\": {\n        \"dtype\": \"float32\",\n        \"num_unique_values\": 1570,\n        \"samples\": [\n          27.11039161682129,\n          11.566080093383789,\n          -8.706816673278809\n        ],\n        \"semantic_type\": \"\",\n        \"description\": \"\"\n      }\n    },\n    {\n      \"column\": \"T-SNE component 1\",\n      \"properties\": {\n        \"dtype\": \"float32\",\n        \"num_unique_values\": 1570,\n        \"samples\": [\n          15.544568061828613,\n          7.093488693237305,\n          -21.127206802368164\n        ],\n        \"semantic_type\": \"\",\n        \"description\": \"\"\n      }\n    },\n    {\n      \"column\": \"T-SNE component 2\",\n      \"properties\": {\n        \"dtype\": \"float32\",\n        \"num_unique_values\": 1569,\n        \"samples\": [\n          13.881647109985352,\n          31.26628875732422,\n          2.916085958480835\n        ],\n        \"semantic_type\": \"\",\n        \"description\": \"\"\n      }\n    },\n    {\n      \"column\": \"Fault\",\n      \"properties\": {\n        \"dtype\": \"category\",\n        \"num_unique_values\": 10,\n        \"samples\": [\n          \"F8_OR014_6_1_203\",\n          \"F1_B007_1_124\",\n          \"F5_IR014_1_176\"\n        ],\n        \"semantic_type\": \"\",\n        \"description\": \"\"\n      }\n    }\n  ]\n}"
            }
          },
          "metadata": {},
          "execution_count": 22
        }
      ]
    },
    {
      "cell_type": "code",
      "source": [
        "#Classification Report for MKDCNN"
      ],
      "metadata": {
        "id": "zC_6vMBPsOs_"
      },
      "id": "zC_6vMBPsOs_",
      "execution_count": 23,
      "outputs": []
    },
    {
      "cell_type": "code",
      "source": [],
      "metadata": {
        "id": "b77LcDP9sPR2"
      },
      "id": "b77LcDP9sPR2",
      "execution_count": 23,
      "outputs": []
    },
    {
      "cell_type": "markdown",
      "source": [
        "HSPSO-CatBoost\n"
      ],
      "metadata": {
        "id": "wZFQ37UCYN1p"
      },
      "id": "wZFQ37UCYN1p"
    },
    {
      "cell_type": "code",
      "source": [
        "X = Motor_Fault_dataset.iloc[:, 0:4].values\n",
        "y = Motor_Fault_dataset.iloc[:, 4].values"
      ],
      "metadata": {
        "id": "f_P8BWzmYTg0"
      },
      "id": "f_P8BWzmYTg0",
      "execution_count": 24,
      "outputs": []
    },
    {
      "cell_type": "code",
      "source": [
        "# Splitting the dataset into the Training set and Test set\n",
        "from sklearn.model_selection import train_test_split\n",
        "X_train, X_test, y_train, y_test = train_test_split(X, y, test_size = 0.2)"
      ],
      "metadata": {
        "id": "vLMueEZ6YfvA"
      },
      "id": "vLMueEZ6YfvA",
      "execution_count": 25,
      "outputs": []
    },
    {
      "cell_type": "code",
      "source": [
        "pip install hyperactive"
      ],
      "metadata": {
        "id": "nsTDebhD9iQw",
        "colab": {
          "base_uri": "https://localhost:8080/"
        },
        "outputId": "43fdf2b7-0cc6-4e89-effc-45297c2b3b2d"
      },
      "id": "nsTDebhD9iQw",
      "execution_count": 26,
      "outputs": [
        {
          "output_type": "stream",
          "name": "stdout",
          "text": [
            "Requirement already satisfied: hyperactive in /usr/local/lib/python3.11/dist-packages (4.8.0)\n",
            "Requirement already satisfied: numpy<3.0.0,>=1.18.1 in /usr/local/lib/python3.11/dist-packages (from hyperactive) (2.0.2)\n",
            "Requirement already satisfied: tqdm<5.0.0,>=4.48.0 in /usr/local/lib/python3.11/dist-packages (from hyperactive) (4.67.1)\n",
            "Requirement already satisfied: pandas<3.0.0 in /usr/local/lib/python3.11/dist-packages (from hyperactive) (2.2.2)\n",
            "Requirement already satisfied: gradient-free-optimizers<2.0.0,>=1.2.4 in /usr/local/lib/python3.11/dist-packages (from hyperactive) (1.7.1)\n",
            "Requirement already satisfied: scipy<2.0.0 in /usr/local/lib/python3.11/dist-packages (from gradient-free-optimizers<2.0.0,>=1.2.4->hyperactive) (1.15.3)\n",
            "Requirement already satisfied: scikit-learn!=0.23.*,>=0.21 in /usr/local/lib/python3.11/dist-packages (from gradient-free-optimizers<2.0.0,>=1.2.4->hyperactive) (1.6.1)\n",
            "Requirement already satisfied: python-dateutil>=2.8.2 in /usr/local/lib/python3.11/dist-packages (from pandas<3.0.0->hyperactive) (2.9.0.post0)\n",
            "Requirement already satisfied: pytz>=2020.1 in /usr/local/lib/python3.11/dist-packages (from pandas<3.0.0->hyperactive) (2025.2)\n",
            "Requirement already satisfied: tzdata>=2022.7 in /usr/local/lib/python3.11/dist-packages (from pandas<3.0.0->hyperactive) (2025.2)\n",
            "Requirement already satisfied: six>=1.5 in /usr/local/lib/python3.11/dist-packages (from python-dateutil>=2.8.2->pandas<3.0.0->hyperactive) (1.17.0)\n",
            "Requirement already satisfied: joblib>=1.2.0 in /usr/local/lib/python3.11/dist-packages (from scikit-learn!=0.23.*,>=0.21->gradient-free-optimizers<2.0.0,>=1.2.4->hyperactive) (1.5.1)\n",
            "Requirement already satisfied: threadpoolctl>=3.1.0 in /usr/local/lib/python3.11/dist-packages (from scikit-learn!=0.23.*,>=0.21->gradient-free-optimizers<2.0.0,>=1.2.4->hyperactive) (3.6.0)\n"
          ]
        }
      ]
    },
    {
      "cell_type": "code",
      "source": [
        "pip install catboost"
      ],
      "metadata": {
        "id": "UTH39uc29p_Q",
        "colab": {
          "base_uri": "https://localhost:8080/"
        },
        "outputId": "28584119-9480-4845-be3b-64fdb1277163"
      },
      "id": "UTH39uc29p_Q",
      "execution_count": 27,
      "outputs": [
        {
          "output_type": "stream",
          "name": "stdout",
          "text": [
            "Requirement already satisfied: catboost in /usr/local/lib/python3.11/dist-packages (1.2.8)\n",
            "Requirement already satisfied: graphviz in /usr/local/lib/python3.11/dist-packages (from catboost) (0.21)\n",
            "Requirement already satisfied: matplotlib in /usr/local/lib/python3.11/dist-packages (from catboost) (3.10.0)\n",
            "Requirement already satisfied: numpy<3.0,>=1.16.0 in /usr/local/lib/python3.11/dist-packages (from catboost) (2.0.2)\n",
            "Requirement already satisfied: pandas>=0.24 in /usr/local/lib/python3.11/dist-packages (from catboost) (2.2.2)\n",
            "Requirement already satisfied: scipy in /usr/local/lib/python3.11/dist-packages (from catboost) (1.15.3)\n",
            "Requirement already satisfied: plotly in /usr/local/lib/python3.11/dist-packages (from catboost) (5.24.1)\n",
            "Requirement already satisfied: six in /usr/local/lib/python3.11/dist-packages (from catboost) (1.17.0)\n",
            "Requirement already satisfied: python-dateutil>=2.8.2 in /usr/local/lib/python3.11/dist-packages (from pandas>=0.24->catboost) (2.9.0.post0)\n",
            "Requirement already satisfied: pytz>=2020.1 in /usr/local/lib/python3.11/dist-packages (from pandas>=0.24->catboost) (2025.2)\n",
            "Requirement already satisfied: tzdata>=2022.7 in /usr/local/lib/python3.11/dist-packages (from pandas>=0.24->catboost) (2025.2)\n",
            "Requirement already satisfied: contourpy>=1.0.1 in /usr/local/lib/python3.11/dist-packages (from matplotlib->catboost) (1.3.2)\n",
            "Requirement already satisfied: cycler>=0.10 in /usr/local/lib/python3.11/dist-packages (from matplotlib->catboost) (0.12.1)\n",
            "Requirement already satisfied: fonttools>=4.22.0 in /usr/local/lib/python3.11/dist-packages (from matplotlib->catboost) (4.58.4)\n",
            "Requirement already satisfied: kiwisolver>=1.3.1 in /usr/local/lib/python3.11/dist-packages (from matplotlib->catboost) (1.4.8)\n",
            "Requirement already satisfied: packaging>=20.0 in /usr/local/lib/python3.11/dist-packages (from matplotlib->catboost) (24.2)\n",
            "Requirement already satisfied: pillow>=8 in /usr/local/lib/python3.11/dist-packages (from matplotlib->catboost) (11.2.1)\n",
            "Requirement already satisfied: pyparsing>=2.3.1 in /usr/local/lib/python3.11/dist-packages (from matplotlib->catboost) (3.2.3)\n",
            "Requirement already satisfied: tenacity>=6.2.0 in /usr/local/lib/python3.11/dist-packages (from plotly->catboost) (9.1.2)\n"
          ]
        }
      ]
    },
    {
      "cell_type": "markdown",
      "source": [
        "Deployment:"
      ],
      "metadata": {
        "id": "Ul9AHZU5uIcP"
      },
      "id": "Ul9AHZU5uIcP"
    },
    {
      "cell_type": "code",
      "source": [
        "import numpy as np\n",
        "import pandas as pd\n",
        "from datetime import datetime\n",
        "from sklearn.model_selection import cross_val_score\n",
        "from catboost import CatBoostClassifier, Pool\n",
        "from hyperactive import Hyperactive\n",
        "from hyperactive.optimizers import ParticleSwarmOptimizer\n",
        "from sklearn.metrics import classification_report, confusion_matrix\n",
        "import matplotlib.pyplot as plt\n",
        "import seaborn as sns\n",
        "\n",
        "# === DATA: Replace X_train, X_test, y_train, y_test with your actual data ===\n",
        "# Example:\n",
        "# X_train, X_test, y_train, y_test = train_test_split(...)\n",
        "\n",
        "X, y = X_train, y_train\n",
        "\n",
        "# === Objective Function ===\n",
        "def model(opt):\n",
        "    CatBoost = CatBoostClassifier(\n",
        "        iterations=opt[\"iterations\"],\n",
        "        depth=opt[\"depth\"],\n",
        "        learning_rate=opt[\"learning_rate\"],\n",
        "        l2_leaf_reg=opt[\"l2_leaf_reg\"],\n",
        "        bagging_temperature=opt[\"bagging_temperature\"],\n",
        "        random_strength=opt[\"random_strength\"],\n",
        "        verbose=False\n",
        "    )\n",
        "    scores = cross_val_score(CatBoost, X, y, cv=4)\n",
        "    return scores.mean()\n",
        "\n",
        "# === Search Space ===\n",
        "search_space = {\n",
        "    \"iterations\": list(range(50, 501, 50)),\n",
        "    \"depth\": list(range(1, 11)),\n",
        "    \"learning_rate\": [0.01, 0.05, 0.1],\n",
        "    \"l2_leaf_reg\": [1, 3, 5],\n",
        "    \"bagging_temperature\": [0.5, 1, 1.5],\n",
        "    \"random_strength\": [0.5, 1, 1.5],\n",
        "}\n",
        "\n",
        "# === Cauchy Mutation ===\n",
        "def cauchy_mutation(particle, gamma=0.3):\n",
        "    for key in particle:\n",
        "        if isinstance(particle[key], (int, float)):\n",
        "            particle[key] = particle[key] * (1 + gamma * np.tan(np.pi * (np.random.rand() - 0.5)))\n",
        "            particle[key] = np.clip(particle[key], min(search_space[key]), max(search_space[key]))\n",
        "            if isinstance(search_space[key][0], int):\n",
        "                particle[key] = int(round(particle[key]))\n",
        "    return particle\n",
        "\n",
        "# === HSPSO Optimizer Class ===\n",
        "class HybridStrategyPSO(ParticleSwarmOptimizer):\n",
        "    def __init__(self, n_part=20, max_iter=40, **kwargs):\n",
        "        super().__init__(**kwargs)\n",
        "        self.switch_threshold = 10\n",
        "        self.iteration = 0\n",
        "        self.topology = \"gbest\"\n",
        "        self.n_part = n_part\n",
        "        self.max_iter = max_iter\n",
        "\n",
        "        # Adaptive Inertia Parameters\n",
        "        self.H = 1\n",
        "        self.w_min = 0.4\n",
        "        self.w_max = 0.9\n",
        "        self.b = 0.9\n",
        "        self.scaling_factor = 0.5\n",
        "\n",
        "    def on_iteration(self, swarm, scores):\n",
        "        self.iteration += 1\n",
        "\n",
        "        # === Topology Switching ===\n",
        "        if self.iteration % self.switch_threshold == 0:\n",
        "            self.topology = \"lbest\" if self.topology == \"gbest\" else \"gbest\"\n",
        "            self.set_topology(self.topology)\n",
        "\n",
        "        # === Clone Best Particles ===\n",
        "        best_indices = np.argsort(scores)[:max(1, len(swarm) // 5)]\n",
        "        for idx in best_indices:\n",
        "            particle = swarm[idx].copy()\n",
        "            swarm.append(particle)\n",
        "            scores.append(scores[idx])\n",
        "\n",
        "        # === Prune Worst Particles ===\n",
        "        if len(swarm) > 2 * self.n_part:\n",
        "            worst_indices = np.argsort(scores)[-len(swarm)//4:]\n",
        "            for i in reversed(worst_indices):\n",
        "                del swarm[i]\n",
        "                del scores[i]\n",
        "\n",
        "        # === Nonlinear Adaptive Inertia ===\n",
        "        numerator = (self.w_max - self.w_min) * self.iteration\n",
        "        denominator = 1 + np.exp(-10 * self.b * ((2 * self.iteration) / (self.H * self.max_iter) - 1))\n",
        "        self.inertia = self.w_max - numerator / denominator\n",
        "\n",
        "        # === Cauchy Mutation ===\n",
        "        for i in range(len(swarm)):\n",
        "            if np.random.rand() < 0.2:\n",
        "                swarm[i] = cauchy_mutation(swarm[i])\n",
        "\n",
        "        # === Hook-Jeeves Local Search (simplified) ===\n",
        "        top_ids = np.argsort(scores)[:2]\n",
        "        for i in top_ids:\n",
        "            particle = swarm[i]\n",
        "            for key in particle:\n",
        "                if isinstance(particle[key], (int, float)):\n",
        "                    for delta in [-0.01, 0.01] if isinstance(particle[key], float) else [-1, 1]:\n",
        "                        trial = particle.copy()\n",
        "                        trial[key] = trial[key] + delta\n",
        "                        trial[key] = np.clip(trial[key], min(search_space[key]), max(search_space[key]))\n",
        "                        if isinstance(search_space[key][0], int):\n",
        "                            trial[key] = int(round(trial[key]))\n",
        "                        trial_score = model(trial)\n",
        "                        if trial_score > scores[i]:\n",
        "                            swarm[i] = trial\n",
        "                            scores[i] = trial_score\n",
        "\n",
        "        # === Random Restart ===\n",
        "        if np.random.rand() < 0.1:\n",
        "            random_idx = np.random.choice(len(swarm))\n",
        "            for key in swarm[random_idx]:\n",
        "                if isinstance(swarm[random_idx][key], (int, float)):\n",
        "                    swarm[random_idx][key] = np.random.choice(search_space[key])\n",
        "\n",
        "# === Run HSPSO Hyperparameter Tuning ===\n",
        "start_time = datetime.now()\n",
        "\n",
        "hyper = Hyperactive()\n",
        "\n",
        "optimizer = HybridStrategyPSO(\n",
        "    n_part=20,\n",
        "    max_iter=40,\n",
        "    inertia=0.5,\n",
        "    cognitive_weight=0.9,\n",
        "    social_weight=0.5,\n",
        "    temp_weight=0.4,\n",
        "    rand_rest_p=0.05,\n",
        ")\n",
        "\n",
        "hyper.add_search(model, search_space, optimizer=optimizer, n_iter=40)\n",
        "hyper.run()\n",
        "\n",
        "end_time = datetime.now()\n",
        "print('Tuning Duration:', end_time - start_time)\n",
        "\n",
        "# === Best Parameters ===\n",
        "best_params = hyper.best_para(model)\n",
        "print(\"Best Parameters:\", best_params)\n",
        "\n",
        "# === Train Final Model with Best Parameters ===\n",
        "train_pool = Pool(data=X_train, label=y_train)\n",
        "test_pool = Pool(data=X_test, label=y_test)\n",
        "\n",
        "final_model = CatBoostClassifier(\n",
        "    depth=best_params[\"depth\"],\n",
        "    iterations=best_params[\"iterations\"],\n",
        "    learning_rate=best_params[\"learning_rate\"],\n",
        "    l2_leaf_reg=best_params[\"l2_leaf_reg\"],\n",
        "    bagging_temperature=best_params[\"bagging_temperature\"],\n",
        "    random_strength=best_params[\"random_strength\"],\n",
        "    verbose=10\n",
        ")\n",
        "\n",
        "final_model.fit(\n",
        "    train_pool,\n",
        "    eval_set=test_pool,\n",
        "    verbose=best_params[\"iterations\"] // 10,\n",
        "    plot=True\n",
        ")\n"
      ],
      "metadata": {
        "id": "jQr38vF8A9_i",
        "colab": {
          "base_uri": "https://localhost:8080/",
          "height": 694,
          "referenced_widgets": [
            "863d6fc2791b472cb6644117872a8c52"
          ]
        },
        "outputId": "fa98c0e8-a0c7-4217-b6a1-6e2c1efbab10"
      },
      "id": "jQr38vF8A9_i",
      "execution_count": 28,
      "outputs": [
        {
          "output_type": "stream",
          "name": "stderr",
          "text": [
            "[0] model (Particle Swarm Optimization): 100%|\u001b[32m──────────\u001b[0m| 40/40 [32:26<00:00, 48.66s/it, best_iter=0, best_pos=None, best_score=-inf]"
          ]
        },
        {
          "output_type": "stream",
          "name": "stdout",
          "text": [
            "\n",
            "\n",
            "Results: 'model'  \n",
            "   Best score: 0.9976114649681529  \n",
            "   Best parameter set:\n",
            "      'iterations'          : 300.0  \n",
            "      'depth'               : 8.0  \n",
            "      'learning_rate'       : 0.05  \n",
            "      'l2_leaf_reg'         : 1.0  \n",
            "      'bagging_temperature' : 1.0  \n",
            "      'random_strength'     : 0.5  \n",
            "   Best iteration: 0  \n",
            " \n",
            "   Random seed: 1039830273  \n",
            " \n",
            "   Evaluation time   : 1946.1725227832794 sec    [100.0 %]\n",
            "   Optimization time : 0.021387577056884766 sec    [0.0 %]\n",
            "   Iteration time    : 1946.1939103603363 sec    [48.65 sec/iter]\n",
            " \n",
            "Tuning Duration: 0:32:26.461721\n",
            "Best Parameters: {'iterations': 300, 'depth': 8, 'learning_rate': 0.05, 'l2_leaf_reg': 1, 'bagging_temperature': 1, 'random_strength': 0.5}\n"
          ]
        },
        {
          "output_type": "stream",
          "name": "stderr",
          "text": [
            "\n"
          ]
        },
        {
          "output_type": "display_data",
          "data": {
            "text/plain": [
              "MetricVisualizer(layout=Layout(align_self='stretch', height='500px'))"
            ],
            "application/vnd.jupyter.widget-view+json": {
              "version_major": 2,
              "version_minor": 0,
              "model_id": "863d6fc2791b472cb6644117872a8c52"
            }
          },
          "metadata": {}
        },
        {
          "output_type": "stream",
          "name": "stdout",
          "text": [
            "0:\tlearn: 1.9297922\ttest: 1.9362439\tbest: 1.9362439 (0)\ttotal: 55.8ms\tremaining: 16.7s\n",
            "30:\tlearn: 0.2594320\ttest: 0.2618724\tbest: 0.2618724 (30)\ttotal: 1.25s\tremaining: 10.8s\n",
            "60:\tlearn: 0.0780571\ttest: 0.0800680\tbest: 0.0800680 (60)\ttotal: 1.99s\tremaining: 7.8s\n",
            "90:\tlearn: 0.0354762\ttest: 0.0392686\tbest: 0.0392686 (90)\ttotal: 2.75s\tremaining: 6.31s\n",
            "120:\tlearn: 0.0211187\ttest: 0.0269982\tbest: 0.0269982 (120)\ttotal: 3.47s\tremaining: 5.14s\n",
            "150:\tlearn: 0.0146553\ttest: 0.0223764\tbest: 0.0223764 (150)\ttotal: 4.19s\tremaining: 4.13s\n",
            "180:\tlearn: 0.0102968\ttest: 0.0193480\tbest: 0.0193480 (180)\ttotal: 4.89s\tremaining: 3.21s\n",
            "210:\tlearn: 0.0075901\ttest: 0.0180414\tbest: 0.0180345 (209)\ttotal: 5.62s\tremaining: 2.37s\n",
            "240:\tlearn: 0.0060327\ttest: 0.0173636\tbest: 0.0173636 (240)\ttotal: 6.34s\tremaining: 1.55s\n",
            "270:\tlearn: 0.0048584\ttest: 0.0169907\tbest: 0.0169907 (270)\ttotal: 7.04s\tremaining: 753ms\n",
            "299:\tlearn: 0.0041739\ttest: 0.0168619\tbest: 0.0168474 (292)\ttotal: 7.73s\tremaining: 0us\n",
            "\n",
            "bestTest = 0.01684738326\n",
            "bestIteration = 292\n",
            "\n",
            "Shrink model to first 293 iterations.\n"
          ]
        },
        {
          "output_type": "execute_result",
          "data": {
            "text/plain": [
              "<catboost.core.CatBoostClassifier at 0x78a6253ee290>"
            ]
          },
          "metadata": {},
          "execution_count": 28
        }
      ]
    },
    {
      "cell_type": "code",
      "source": [
        "hyper.add_search(model, search_space, optimizer=optimizer, n_iter=40, initialize={\"random\": 20})\n"
      ],
      "metadata": {
        "id": "a_9tYmgz45VS"
      },
      "id": "a_9tYmgz45VS",
      "execution_count": 29,
      "outputs": []
    },
    {
      "cell_type": "code",
      "source": [
        "learning_curve = final_model.get_evals_result()\n",
        "print(learning_curve)"
      ],
      "metadata": {
        "id": "2mRL06xdGZve",
        "colab": {
          "base_uri": "https://localhost:8080/"
        },
        "outputId": "8662c8d6-d377-4379-8fac-7956fe2529bf"
      },
      "id": "2mRL06xdGZve",
      "execution_count": 30,
      "outputs": [
        {
          "output_type": "stream",
          "name": "stdout",
          "text": [
            "{'learn': {'MultiClass': [1.9297921808892304, 1.6879119173915216, 1.507768573280446, 1.3622973756231225, 1.2366749915011228, 1.1318095801386472, 1.0392872932290604, 0.9593016977682962, 0.8875722044162746, 0.8311292623897869, 0.7750582702785109, 0.7242178300588017, 0.6786376494858389, 0.6379608420821716, 0.5990328514737961, 0.5648472873061002, 0.532201157904064, 0.5025607019955196, 0.4748878944857152, 0.44976890218472426, 0.42602260479550735, 0.4033743945001862, 0.3831665724341543, 0.3631799796185691, 0.3459783497430911, 0.3296806008738021, 0.3135831423682242, 0.2987915464910799, 0.2851093982939332, 0.27157063562191036, 0.25943195706466715, 0.24891038537300067, 0.23776894216398767, 0.22703715663520546, 0.2166214943820963, 0.2071838246113649, 0.1979447071295451, 0.18939071169960775, 0.18114602618703174, 0.1731218549665897, 0.1656084532811078, 0.15925839722286597, 0.1525723262134281, 0.14653994017070882, 0.1403656544561927, 0.13513429604640473, 0.13019708542863279, 0.12530742790850427, 0.1203276894079546, 0.11557708647669795, 0.1112980772916329, 0.10709121358113606, 0.10301191395686103, 0.09934123539549894, 0.0961041799807301, 0.09300109601772566, 0.08998430542987508, 0.08682529380177684, 0.08387183798288164, 0.08091943877819652, 0.07805711024033293, 0.07579491698980159, 0.07331065054362494, 0.07082130649088675, 0.06872781293864162, 0.06661403868605989, 0.06458193487842942, 0.06254011032386263, 0.06085856660940842, 0.058924732197691364, 0.057117134573181745, 0.05559958589794996, 0.05401461908433337, 0.05241109017873424, 0.05137113174076557, 0.050046650207575205, 0.048662770447391084, 0.047733635678851596, 0.04641236031617826, 0.045327753954985055, 0.044169254756810265, 0.04316764015975881, 0.04204619443663605, 0.04093553587283858, 0.04022881823427583, 0.0392608421824459, 0.03839140635760229, 0.03777590547949712, 0.03702727070355278, 0.036069734552592166, 0.03547622826016423, 0.034627076108547136, 0.034121776900566655, 0.03335032572277834, 0.032938894465171946, 0.032241583657580404, 0.03164258913485975, 0.030791743438444395, 0.030354361066415706, 0.02970851389733455, 0.029136860115453092, 0.028724173684037905, 0.028211189867586972, 0.027669009386275097, 0.027267200426393245, 0.02692363741957162, 0.0264438847372203, 0.02611180774283825, 0.025614042780009238, 0.02515298257215834, 0.02474887929661264, 0.024423009479989318, 0.023948348457602603, 0.023534087232547574, 0.023196180342254437, 0.022917878659268188, 0.022443325867230295, 0.022144268901923298, 0.021856787709698212, 0.02148938329384248, 0.021118654859253197, 0.02088961049468681, 0.020739368501164236, 0.020511297639132585, 0.02035270487012975, 0.020097788156149266, 0.019773968892060522, 0.019591650339276536, 0.01934695338954457, 0.019076788417014115, 0.018825840577205308, 0.018525564320579786, 0.018278833662021966, 0.018016723151706805, 0.017811134936513262, 0.01763315277956064, 0.0173997879292176, 0.017104869833074042, 0.01692431516087908, 0.016734977734032055, 0.016509977921364674, 0.016315208168669056, 0.016182028161746742, 0.015932874579950383, 0.015679668729603927, 0.01551975678726359, 0.015324096935130286, 0.015151285221055492, 0.014970388913322879, 0.014835842901183399, 0.014655291016208116, 0.014424846683034792, 0.014257029642317025, 0.014095972905974488, 0.013893515245022131, 0.013791719220148303, 0.013693439509562588, 0.013456480262337776, 0.013334017776404583, 0.01311718553419531, 0.012953369673395485, 0.0127586312918801, 0.012593257737915396, 0.012446090692508578, 0.012308460122778656, 0.01218742983955101, 0.01207509618100866, 0.011890805547359376, 0.0117858150273069, 0.011673801452345908, 0.011534647774145854, 0.011413110748995606, 0.011244894572418439, 0.011148720254195017, 0.01099531369272625, 0.010873272860416531, 0.01079508953502819, 0.010649573963428116, 0.010506228994575952, 0.010399801283483317, 0.01029678265429143, 0.010134184372573922, 0.01000037504185194, 0.009936679596968588, 0.009847037188887532, 0.009754537568359534, 0.00962801603759766, 0.009547157295017405, 0.009412668734754227, 0.009286551364945031, 0.009197258289431218, 0.009078061883966825, 0.009001061534724675, 0.008914489915522978, 0.00881515544445344, 0.00872416259627579, 0.008655528980732116, 0.008553637844937139, 0.008490945986744538, 0.008404945720911477, 0.008312849129256403, 0.008239159692044067, 0.008139315091947598, 0.008045729691551883, 0.007946741347278796, 0.007898120443038488, 0.007845168494570072, 0.00779002858583732, 0.007736523703402418, 0.007647751154345211, 0.007590132730022899, 0.007506538796697504, 0.007450232010809578, 0.00740838895924078, 0.007337508427496099, 0.007278112664827365, 0.00722129274102005, 0.007164783777619134, 0.007097053044853269, 0.007032332584076379, 0.006946003576904763, 0.006891975653585734, 0.0068289671051103605, 0.006784206326101246, 0.006751479123454023, 0.006689263356064993, 0.006636602021119096, 0.006605785360573063, 0.006563285740413942, 0.00650620171282249, 0.006444915734419778, 0.006409392204486035, 0.006356110451391762, 0.006300562640964203, 0.006247557834357574, 0.0062170454581044, 0.006185620177483869, 0.006147678784283034, 0.006112360976207943, 0.0060721607558985, 0.006032695621163729, 0.005976425884747895, 0.00590760628207968, 0.0058545617713206865, 0.005786473007442391, 0.00573582272016785, 0.005705754260556871, 0.005674789432306751, 0.005630934437089272, 0.005581341127613752, 0.005536600034459868, 0.005514697063624574, 0.005466256812293452, 0.0054292581347501895, 0.005402522711470007, 0.005379172666615677, 0.0053341397947865, 0.0052844604818353125, 0.0052447335091352605, 0.0052083262501042595, 0.005187486882059884, 0.005157380742263411, 0.005128713509124147, 0.005093701385921902, 0.005069263596300533, 0.005027374549826287, 0.004982977104744446, 0.0049424043651863205, 0.0049196637142292455, 0.0048954628950756045, 0.004858426006740207, 0.004835761819062473, 0.00480041566179585, 0.0047621582383495595, 0.00472709541380308, 0.00469695401134041, 0.0046792575713411905, 0.0046513028056855655, 0.004634030130306114, 0.004604651831145116, 0.004581597570708653, 0.004562275972841361, 0.004541250663830336, 0.004525704630026556, 0.004508968320502444, 0.004492780893128861, 0.004467053582283446, 0.004440895094613125, 0.004426068356862195, 0.004404134083252704, 0.004377156831438107, 0.004356923152881155, 0.004336327878337415, 0.004315688135154646, 0.004299817299357481, 0.0042655072057406745, 0.00424037213150256, 0.00422388615706573, 0.004207096302256286, 0.00417389449159082]}, 'validation': {'MultiClass': [1.9362438682054748, 1.6981486272681139, 1.5179565198283549, 1.3754035606587376, 1.247703616677388, 1.1408762765643166, 1.0483731993702194, 0.9673691065806829, 0.8950637929091527, 0.8387275205646891, 0.7812276829700749, 0.7302102177204324, 0.6850449165835599, 0.6436037078263603, 0.6048409520619054, 0.5704695759131165, 0.5376761107716407, 0.5075165953035632, 0.4796238992862635, 0.4545227785966239, 0.4302097703832623, 0.40701158572405804, 0.3864367773932486, 0.3665464851251793, 0.3497226038469761, 0.33300710046441506, 0.31674870590812, 0.30161218713808424, 0.2878224239822995, 0.27413499408918, 0.26187240374094206, 0.2513768545141416, 0.23973892327732338, 0.22882204618098648, 0.21836950260023055, 0.20873114583127483, 0.19940861264385915, 0.19082169767287585, 0.1825423557434226, 0.17471849459692515, 0.16745848217207007, 0.16109162333454324, 0.15420912662610572, 0.14821409658185628, 0.14210179126554845, 0.13677475615237714, 0.13208007973048777, 0.1272733321889341, 0.12231546388144138, 0.11764905583666105, 0.11331464768565665, 0.1091727806029739, 0.10512479978723775, 0.10130848557982157, 0.09807247491646148, 0.0949980604801856, 0.09206235119687822, 0.08887228606462941, 0.08590444175586098, 0.08289347395874493, 0.08006797214234888, 0.07789568770573031, 0.07523644288349758, 0.07282188832967122, 0.07054718311708921, 0.06852020545056567, 0.06665657453516706, 0.06479292731521145, 0.06313174043171729, 0.061308722279203184, 0.059502577404897124, 0.058015162449429815, 0.056589013094562435, 0.05495309326798127, 0.05414420731009799, 0.05283861381259978, 0.05151369635898627, 0.05069240285762998, 0.04940345618576504, 0.04832571201923664, 0.04707455122507839, 0.046130310189038806, 0.04514955939732981, 0.04417074990184491, 0.04349158644993693, 0.042437672173117016, 0.0416380210557928, 0.04128200470666305, 0.040612120567406255, 0.03979137772541995, 0.03926856144453395, 0.03856278005509919, 0.03824743039900028, 0.03762952969138088, 0.03745059205001375, 0.03669930214026132, 0.03618329119241455, 0.035420116585556244, 0.03511036829135376, 0.03442351061219995, 0.033843634045634674, 0.0335568561105152, 0.03315719763578223, 0.0326444589103495, 0.032258765592398035, 0.0319798281539625, 0.031511064215564995, 0.0311915568304962, 0.030797086117971502, 0.030385728940987088, 0.029995038506127388, 0.02979743234401856, 0.029257552804994712, 0.028933540990301928, 0.02864274051289764, 0.028430073444500232, 0.028133010376642995, 0.02794508763836354, 0.027720456134936636, 0.027397460419441223, 0.026998248363616802, 0.026813322466462695, 0.02674558495079524, 0.026630969632692025, 0.026685965511748354, 0.026466538014378236, 0.0261857534710383, 0.0260523801767304, 0.025958851412777463, 0.025729645499348388, 0.02557440985844288, 0.025356613820808907, 0.02513052633196255, 0.024938925154925694, 0.024830206961426023, 0.02478629360735027, 0.02462924479176293, 0.024296609793335016, 0.024159137008377317, 0.02405994846838837, 0.023892719667772993, 0.02377270868667878, 0.023664139165782676, 0.02340358806882213, 0.023197170872032713, 0.02305973516456662, 0.02290896160683755, 0.022758096597333716, 0.022564493410754626, 0.022486812834966858, 0.022376389018622874, 0.02221723302403501, 0.02205542589888847, 0.02190531458135991, 0.021779624255615544, 0.021705398271515294, 0.021665660328706496, 0.021532125150764834, 0.021421024086224406, 0.0213258258762522, 0.021158262598878756, 0.021014159100948362, 0.020892025589342875, 0.020833283372854044, 0.020734371465388896, 0.02066772266345174, 0.020626920679773255, 0.020501288335773596, 0.020455294916729563, 0.020394387050758724, 0.020328853566573237, 0.020156922896406606, 0.020083656928402745, 0.02004634384660712, 0.019879923037012248, 0.01984365872490559, 0.019791828413943627, 0.019589183604433225, 0.019526412774766654, 0.019434877719922857, 0.01934804913704731, 0.01925918072651225, 0.019200133243719688, 0.019182429929925224, 0.01918650279467996, 0.019044417840185155, 0.018986370727445162, 0.018954042150304787, 0.018899491818889964, 0.018844950525677844, 0.018816221607504367, 0.01879546715278462, 0.01872824708506073, 0.018677811034115224, 0.018523739269968552, 0.0184667891975561, 0.01840576399212633, 0.018368548414709463, 0.01834490416568479, 0.018336305224753262, 0.018299294736547612, 0.018289217485263975, 0.01822274037697089, 0.018198318230468632, 0.018165786902080833, 0.018142738004668247, 0.018076030817948494, 0.018071732273581637, 0.018045321917317933, 0.018034520618719952, 0.01804144520862427, 0.017925260117588236, 0.017869335437751346, 0.0178789163826128, 0.01786360877468046, 0.01778322456909846, 0.017771834538157793, 0.017741320480078645, 0.017721349652791568, 0.017710901157774434, 0.017699874345813518, 0.017679855921143506, 0.01767817545845057, 0.017649398224139162, 0.01765711737531788, 0.017638781214458193, 0.01760639209650154, 0.017547015431643345, 0.017545002777818924, 0.01753561818585513, 0.017526048909587092, 0.01749975214529826, 0.017487913151630292, 0.01744431432910223, 0.017446852092985982, 0.017407978846020997, 0.017400266260594023, 0.017382816621769225, 0.017386986404651545, 0.017370117940390107, 0.017363560909607847, 0.017333638601177908, 0.017319021988847456, 0.017315745153082502, 0.017300732117732955, 0.017294649938118363, 0.017309195826390875, 0.017281226605553698, 0.017278767327644357, 0.01724071644538459, 0.01724703870326652, 0.01724757163831005, 0.017258656875888213, 0.017229348821266872, 0.01722009901098006, 0.01719411232653089, 0.0171878753088645, 0.01715657917494284, 0.017116432098955272, 0.01713581888609377, 0.017122436261947472, 0.01710990849604793, 0.017094454621431554, 0.017080454121253388, 0.01708992673351987, 0.017090979674585855, 0.017014098506555983, 0.017020293678591543, 0.017005282464446585, 0.016992592976654692, 0.01699066985141396, 0.01697810181149188, 0.016982533720620634, 0.016955553866862805, 0.016926023309103103, 0.016921974023583503, 0.016913381533917502, 0.01693450787368575, 0.016926071341360604, 0.016942122902968006, 0.01694172687436599, 0.0169266908762795, 0.016928936286148895, 0.01689886386946993, 0.016896847543470407, 0.016891776991279972, 0.016908508878969115, 0.01691294998989501, 0.016914686239889207, 0.01686689052825951, 0.01686696361632196, 0.016857374631618603, 0.016847383263920837, 0.016868122315286414, 0.016854806423812256, 0.01685941860960698, 0.016874211805783013, 0.016870853633187716, 0.016868887668893214, 0.016861861723241403]}}\n"
          ]
        }
      ]
    },
    {
      "cell_type": "code",
      "source": [
        "# Retrieve evaluation results\n",
        "learning_curve = final_model.get_evals_result()\n",
        "\n",
        "# Extract the metric values\n",
        "# Assuming 'learn' corresponds to the training dataset\n",
        "train_metric_values = learning_curve.get('learn', {}).get('MultiClass', [])\n",
        "\n",
        "# Check the extracted values\n",
        "if train_metric_values:\n",
        "    print(\"Training metric values:\", train_metric_values)\n",
        "else:\n",
        "    print(\"Metric 'MultiClass' not found in evaluation results.\")\n"
      ],
      "metadata": {
        "id": "3baCXa2jGafB",
        "colab": {
          "base_uri": "https://localhost:8080/"
        },
        "outputId": "49f39011-91ed-406d-e19e-2890ba6499d5"
      },
      "id": "3baCXa2jGafB",
      "execution_count": 31,
      "outputs": [
        {
          "output_type": "stream",
          "name": "stdout",
          "text": [
            "Training metric values: [1.9297921808892304, 1.6879119173915216, 1.507768573280446, 1.3622973756231225, 1.2366749915011228, 1.1318095801386472, 1.0392872932290604, 0.9593016977682962, 0.8875722044162746, 0.8311292623897869, 0.7750582702785109, 0.7242178300588017, 0.6786376494858389, 0.6379608420821716, 0.5990328514737961, 0.5648472873061002, 0.532201157904064, 0.5025607019955196, 0.4748878944857152, 0.44976890218472426, 0.42602260479550735, 0.4033743945001862, 0.3831665724341543, 0.3631799796185691, 0.3459783497430911, 0.3296806008738021, 0.3135831423682242, 0.2987915464910799, 0.2851093982939332, 0.27157063562191036, 0.25943195706466715, 0.24891038537300067, 0.23776894216398767, 0.22703715663520546, 0.2166214943820963, 0.2071838246113649, 0.1979447071295451, 0.18939071169960775, 0.18114602618703174, 0.1731218549665897, 0.1656084532811078, 0.15925839722286597, 0.1525723262134281, 0.14653994017070882, 0.1403656544561927, 0.13513429604640473, 0.13019708542863279, 0.12530742790850427, 0.1203276894079546, 0.11557708647669795, 0.1112980772916329, 0.10709121358113606, 0.10301191395686103, 0.09934123539549894, 0.0961041799807301, 0.09300109601772566, 0.08998430542987508, 0.08682529380177684, 0.08387183798288164, 0.08091943877819652, 0.07805711024033293, 0.07579491698980159, 0.07331065054362494, 0.07082130649088675, 0.06872781293864162, 0.06661403868605989, 0.06458193487842942, 0.06254011032386263, 0.06085856660940842, 0.058924732197691364, 0.057117134573181745, 0.05559958589794996, 0.05401461908433337, 0.05241109017873424, 0.05137113174076557, 0.050046650207575205, 0.048662770447391084, 0.047733635678851596, 0.04641236031617826, 0.045327753954985055, 0.044169254756810265, 0.04316764015975881, 0.04204619443663605, 0.04093553587283858, 0.04022881823427583, 0.0392608421824459, 0.03839140635760229, 0.03777590547949712, 0.03702727070355278, 0.036069734552592166, 0.03547622826016423, 0.034627076108547136, 0.034121776900566655, 0.03335032572277834, 0.032938894465171946, 0.032241583657580404, 0.03164258913485975, 0.030791743438444395, 0.030354361066415706, 0.02970851389733455, 0.029136860115453092, 0.028724173684037905, 0.028211189867586972, 0.027669009386275097, 0.027267200426393245, 0.02692363741957162, 0.0264438847372203, 0.02611180774283825, 0.025614042780009238, 0.02515298257215834, 0.02474887929661264, 0.024423009479989318, 0.023948348457602603, 0.023534087232547574, 0.023196180342254437, 0.022917878659268188, 0.022443325867230295, 0.022144268901923298, 0.021856787709698212, 0.02148938329384248, 0.021118654859253197, 0.02088961049468681, 0.020739368501164236, 0.020511297639132585, 0.02035270487012975, 0.020097788156149266, 0.019773968892060522, 0.019591650339276536, 0.01934695338954457, 0.019076788417014115, 0.018825840577205308, 0.018525564320579786, 0.018278833662021966, 0.018016723151706805, 0.017811134936513262, 0.01763315277956064, 0.0173997879292176, 0.017104869833074042, 0.01692431516087908, 0.016734977734032055, 0.016509977921364674, 0.016315208168669056, 0.016182028161746742, 0.015932874579950383, 0.015679668729603927, 0.01551975678726359, 0.015324096935130286, 0.015151285221055492, 0.014970388913322879, 0.014835842901183399, 0.014655291016208116, 0.014424846683034792, 0.014257029642317025, 0.014095972905974488, 0.013893515245022131, 0.013791719220148303, 0.013693439509562588, 0.013456480262337776, 0.013334017776404583, 0.01311718553419531, 0.012953369673395485, 0.0127586312918801, 0.012593257737915396, 0.012446090692508578, 0.012308460122778656, 0.01218742983955101, 0.01207509618100866, 0.011890805547359376, 0.0117858150273069, 0.011673801452345908, 0.011534647774145854, 0.011413110748995606, 0.011244894572418439, 0.011148720254195017, 0.01099531369272625, 0.010873272860416531, 0.01079508953502819, 0.010649573963428116, 0.010506228994575952, 0.010399801283483317, 0.01029678265429143, 0.010134184372573922, 0.01000037504185194, 0.009936679596968588, 0.009847037188887532, 0.009754537568359534, 0.00962801603759766, 0.009547157295017405, 0.009412668734754227, 0.009286551364945031, 0.009197258289431218, 0.009078061883966825, 0.009001061534724675, 0.008914489915522978, 0.00881515544445344, 0.00872416259627579, 0.008655528980732116, 0.008553637844937139, 0.008490945986744538, 0.008404945720911477, 0.008312849129256403, 0.008239159692044067, 0.008139315091947598, 0.008045729691551883, 0.007946741347278796, 0.007898120443038488, 0.007845168494570072, 0.00779002858583732, 0.007736523703402418, 0.007647751154345211, 0.007590132730022899, 0.007506538796697504, 0.007450232010809578, 0.00740838895924078, 0.007337508427496099, 0.007278112664827365, 0.00722129274102005, 0.007164783777619134, 0.007097053044853269, 0.007032332584076379, 0.006946003576904763, 0.006891975653585734, 0.0068289671051103605, 0.006784206326101246, 0.006751479123454023, 0.006689263356064993, 0.006636602021119096, 0.006605785360573063, 0.006563285740413942, 0.00650620171282249, 0.006444915734419778, 0.006409392204486035, 0.006356110451391762, 0.006300562640964203, 0.006247557834357574, 0.0062170454581044, 0.006185620177483869, 0.006147678784283034, 0.006112360976207943, 0.0060721607558985, 0.006032695621163729, 0.005976425884747895, 0.00590760628207968, 0.0058545617713206865, 0.005786473007442391, 0.00573582272016785, 0.005705754260556871, 0.005674789432306751, 0.005630934437089272, 0.005581341127613752, 0.005536600034459868, 0.005514697063624574, 0.005466256812293452, 0.0054292581347501895, 0.005402522711470007, 0.005379172666615677, 0.0053341397947865, 0.0052844604818353125, 0.0052447335091352605, 0.0052083262501042595, 0.005187486882059884, 0.005157380742263411, 0.005128713509124147, 0.005093701385921902, 0.005069263596300533, 0.005027374549826287, 0.004982977104744446, 0.0049424043651863205, 0.0049196637142292455, 0.0048954628950756045, 0.004858426006740207, 0.004835761819062473, 0.00480041566179585, 0.0047621582383495595, 0.00472709541380308, 0.00469695401134041, 0.0046792575713411905, 0.0046513028056855655, 0.004634030130306114, 0.004604651831145116, 0.004581597570708653, 0.004562275972841361, 0.004541250663830336, 0.004525704630026556, 0.004508968320502444, 0.004492780893128861, 0.004467053582283446, 0.004440895094613125, 0.004426068356862195, 0.004404134083252704, 0.004377156831438107, 0.004356923152881155, 0.004336327878337415, 0.004315688135154646, 0.004299817299357481, 0.0042655072057406745, 0.00424037213150256, 0.00422388615706573, 0.004207096302256286, 0.00417389449159082]\n"
          ]
        }
      ]
    },
    {
      "cell_type": "code",
      "source": [
        "import matplotlib.pyplot as plt\n",
        "\n",
        "# Plotting the learning curve\n",
        "plt.plot(train_metric_values, label='Training MultiClass Metric')\n",
        "plt.xlabel('Iterations')\n",
        "plt.ylabel('Metric Value')\n",
        "plt.title('Learning Curve')\n",
        "plt.legend()\n",
        "plt.grid()\n",
        "plt.show()\n"
      ],
      "metadata": {
        "id": "p0vioY6FGjQb",
        "colab": {
          "base_uri": "https://localhost:8080/",
          "height": 472
        },
        "outputId": "30812841-c9fc-4170-bb47-5cd22734918a"
      },
      "id": "p0vioY6FGjQb",
      "execution_count": 32,
      "outputs": [
        {
          "output_type": "display_data",
          "data": {
            "text/plain": [
              "<Figure size 640x480 with 1 Axes>"
            ],
            "image/png": "[encoded data removed]"
          },
          "metadata": {}
        }
      ]
    },
    {
      "cell_type": "code",
      "source": [
        "# Predictions\n",
        "y_pred_train = final_model.predict(X_train)\n",
        "y_pred_test = final_model.predict(X_test)\n",
        "\n",
        "print(\"Classification Report - Training Set:\")\n",
        "print(classification_report(y_train, y_pred_train))\n",
        "\n",
        "print(\"Classification Report - Test Set:\")\n",
        "print(classification_report(y_test, y_pred_test))\n",
        "\n",
        "conf_matrix_train = confusion_matrix(y_train, y_pred_train)\n",
        "conf_matrix_test = confusion_matrix(y_test, y_pred_test)\n",
        "\n",
        "plt.figure(figsize=(15, 5))\n",
        "\n",
        "plt.subplot(1, 3, 1)\n",
        "sns.heatmap(conf_matrix_train, annot=True, fmt=\"d\", cmap=\"Blues\", cbar=False)\n",
        "plt.title(\"Confusion Matrix - Training Set\")\n",
        "plt.xlabel(\"Predicted\")\n",
        "plt.ylabel(\"True\")\n",
        "\n",
        "plt.subplot(1, 3, 2)\n",
        "sns.heatmap(conf_matrix_test, annot=True, fmt=\"d\", cmap=\"Blues\", cbar=False)\n",
        "plt.title(\"Confusion Matrix - Test Set\")\n",
        "plt.xlabel(\"Predicted\")\n",
        "plt.ylabel(\"True\")\n",
        "\n",
        "plt.tight_layout()\n",
        "plt.savefig('C-Matrix.svg', format='svg')\n",
        "plt.show()\n",
        "\n",
        "end_time = datetime.now()\n",
        "print('Deployment Duration: {}'.format(end_time - start_time))"
      ],
      "metadata": {
        "id": "EGySyu_OHNqG",
        "colab": {
          "base_uri": "https://localhost:8080/",
          "height": 1000
        },
        "outputId": "5ec84e8b-3d21-4e1c-97cc-8b780b19b9ff"
      },
      "id": "EGySyu_OHNqG",
      "execution_count": 33,
      "outputs": [
        {
          "output_type": "stream",
          "name": "stdout",
          "text": [
            "Classification Report - Training Set:\n",
            "                  precision    recall  f1-score   support\n",
            "\n",
            "  F0_Normal_1_98       1.00      1.00      1.00       123\n",
            "   F1_B007_1_124       1.00      1.00      1.00       134\n",
            "   F2_B014_1_191       1.00      1.00      1.00       123\n",
            "   F3_B021_1_228       1.00      1.00      1.00       117\n",
            "  F4_IR007_1_111       1.00      1.00      1.00       132\n",
            "  F5_IR014_1_176       1.00      1.00      1.00       123\n",
            "  F6_IR021_1_215       1.00      1.00      1.00       129\n",
            "F7_OR007_6_1_137       1.00      1.00      1.00       122\n",
            "F8_OR014_6_1_203       1.00      1.00      1.00       128\n",
            "F9_OR021_6_1_240       1.00      1.00      1.00       125\n",
            "\n",
            "        accuracy                           1.00      1256\n",
            "       macro avg       1.00      1.00      1.00      1256\n",
            "    weighted avg       1.00      1.00      1.00      1256\n",
            "\n",
            "Classification Report - Test Set:\n",
            "                  precision    recall  f1-score   support\n",
            "\n",
            "  F0_Normal_1_98       1.00      1.00      1.00        24\n",
            "   F1_B007_1_124       1.00      1.00      1.00        32\n",
            "   F2_B014_1_191       1.00      1.00      1.00        34\n",
            "   F3_B021_1_228       1.00      0.97      0.98        29\n",
            "  F4_IR007_1_111       1.00      1.00      1.00        27\n",
            "  F5_IR014_1_176       0.97      1.00      0.99        37\n",
            "  F6_IR021_1_215       1.00      1.00      1.00        25\n",
            "F7_OR007_6_1_137       1.00      1.00      1.00        36\n",
            "F8_OR014_6_1_203       1.00      1.00      1.00        31\n",
            "F9_OR021_6_1_240       1.00      1.00      1.00        39\n",
            "\n",
            "        accuracy                           1.00       314\n",
            "       macro avg       1.00      1.00      1.00       314\n",
            "    weighted avg       1.00      1.00      1.00       314\n",
            "\n"
          ]
        },
        {
          "output_type": "display_data",
          "data": {
            "text/plain": [
              "<Figure size 1500x500 with 2 Axes>"
            ],
            "image/png": "[encoded data removed]"
          },
          "metadata": {}
        },
        {
          "output_type": "stream",
          "name": "stdout",
          "text": [
            "Deployment Duration: 0:32:36.253472\n"
          ]
        }
      ]
    },
    {
      "cell_type": "code",
      "source": [
        "final_model.fit(X_train, y_train, eval_set=(X_test, y_test))\n",
        "\n",
        "# Evaluate train accuracy\n",
        "result_train = final_model.score(X_train, y_train)\n",
        "print(\"Train Accuracy : {}\".format(result_train))\n",
        "\n",
        "# Evaluate test accuracy\n",
        "result_test = final_model.score(X_test, y_test)\n",
        "print(\"Test Accuracy : {}\".format(result_test))\n",
        "\n",
        "# Predictions\n",
        "y_pred_train = final_model.predict(X_train)\n",
        "y_pred_test = final_model.predict(X_test)\n",
        "\n",
        "# Classification report\n",
        "print(\"Classification Report - Training Set:\")\n",
        "print(classification_report(y_train, y_pred_train))\n",
        "\n",
        "print(\"Classification Report - Test Set:\")\n",
        "print(classification_report(y_test, y_pred_test))"
      ],
      "metadata": {
        "id": "tEOwmxFROH5f",
        "colab": {
          "base_uri": "https://localhost:8080/"
        },
        "outputId": "5d0d4c68-614c-4ab2-94dc-9a3c5a5dc9f5"
      },
      "id": "tEOwmxFROH5f",
      "execution_count": 34,
      "outputs": [
        {
          "output_type": "stream",
          "name": "stdout",
          "text": [
            "0:\tlearn: 1.9297922\ttest: 1.9362439\tbest: 1.9362439 (0)\ttotal: 73.3ms\tremaining: 21.9s\n",
            "10:\tlearn: 0.7750583\ttest: 0.7812277\tbest: 0.7812277 (10)\ttotal: 631ms\tremaining: 16.6s\n",
            "20:\tlearn: 0.4260226\ttest: 0.4302098\tbest: 0.4302098 (20)\ttotal: 1.28s\tremaining: 17s\n",
            "30:\tlearn: 0.2594320\ttest: 0.2618724\tbest: 0.2618724 (30)\ttotal: 2.03s\tremaining: 17.6s\n",
            "40:\tlearn: 0.1656085\ttest: 0.1674585\tbest: 0.1674585 (40)\ttotal: 2.77s\tremaining: 17.5s\n",
            "50:\tlearn: 0.1112981\ttest: 0.1133146\tbest: 0.1133146 (50)\ttotal: 3.63s\tremaining: 17.8s\n",
            "60:\tlearn: 0.0780571\ttest: 0.0800680\tbest: 0.0800680 (60)\ttotal: 4.59s\tremaining: 18s\n",
            "70:\tlearn: 0.0571171\ttest: 0.0595026\tbest: 0.0595026 (70)\ttotal: 5.49s\tremaining: 17.7s\n",
            "80:\tlearn: 0.0441693\ttest: 0.0470746\tbest: 0.0470746 (80)\ttotal: 6.08s\tremaining: 16.5s\n",
            "90:\tlearn: 0.0354762\ttest: 0.0392686\tbest: 0.0392686 (90)\ttotal: 6.69s\tremaining: 15.4s\n",
            "100:\tlearn: 0.0291369\ttest: 0.0338436\tbest: 0.0338436 (100)\ttotal: 7.24s\tremaining: 14.3s\n",
            "110:\tlearn: 0.0247489\ttest: 0.0299950\tbest: 0.0299950 (110)\ttotal: 7.74s\tremaining: 13.2s\n",
            "120:\tlearn: 0.0211187\ttest: 0.0269982\tbest: 0.0269982 (120)\ttotal: 8.21s\tremaining: 12.2s\n",
            "130:\tlearn: 0.0188258\ttest: 0.0255744\tbest: 0.0255744 (130)\ttotal: 8.89s\tremaining: 11.5s\n",
            "140:\tlearn: 0.0165100\ttest: 0.0238927\tbest: 0.0238927 (140)\ttotal: 9.44s\tremaining: 10.6s\n",
            "150:\tlearn: 0.0146553\ttest: 0.0223764\tbest: 0.0223764 (150)\ttotal: 10s\tremaining: 9.91s\n",
            "160:\tlearn: 0.0129534\ttest: 0.0211583\tbest: 0.0211583 (160)\ttotal: 10.7s\tremaining: 9.27s\n",
            "170:\tlearn: 0.0115346\ttest: 0.0203289\tbest: 0.0203289 (170)\ttotal: 11.5s\tremaining: 8.69s\n",
            "180:\tlearn: 0.0102968\ttest: 0.0193480\tbest: 0.0193480 (180)\ttotal: 12s\tremaining: 7.9s\n",
            "190:\tlearn: 0.0091973\ttest: 0.0188162\tbest: 0.0188162 (190)\ttotal: 12.7s\tremaining: 7.22s\n",
            "200:\tlearn: 0.0083128\ttest: 0.0182993\tbest: 0.0182993 (200)\ttotal: 13.3s\tremaining: 6.55s\n",
            "210:\tlearn: 0.0075901\ttest: 0.0180414\tbest: 0.0180345 (209)\ttotal: 13.9s\tremaining: 5.84s\n",
            "220:\tlearn: 0.0069460\ttest: 0.0176999\tbest: 0.0176999 (220)\ttotal: 14.4s\tremaining: 5.14s\n",
            "230:\tlearn: 0.0064449\ttest: 0.0175260\tbest: 0.0175260 (230)\ttotal: 14.9s\tremaining: 4.45s\n",
            "240:\tlearn: 0.0060327\ttest: 0.0173636\tbest: 0.0173636 (240)\ttotal: 15.5s\tremaining: 3.79s\n",
            "250:\tlearn: 0.0055366\ttest: 0.0172470\tbest: 0.0172407 (249)\ttotal: 16.3s\tremaining: 3.17s\n",
            "260:\tlearn: 0.0051875\ttest: 0.0171224\tbest: 0.0171164 (258)\ttotal: 17.2s\tremaining: 2.56s\n",
            "270:\tlearn: 0.0048584\ttest: 0.0169907\tbest: 0.0169907 (270)\ttotal: 18.3s\tremaining: 1.96s\n",
            "280:\tlearn: 0.0045816\ttest: 0.0169417\tbest: 0.0169134 (276)\ttotal: 19.2s\tremaining: 1.3s\n",
            "290:\tlearn: 0.0043772\ttest: 0.0168670\tbest: 0.0168669 (289)\ttotal: 19.8s\tremaining: 613ms\n",
            "299:\tlearn: 0.0041739\ttest: 0.0168619\tbest: 0.0168474 (292)\ttotal: 20.3s\tremaining: 0us\n",
            "\n",
            "bestTest = 0.01684738326\n",
            "bestIteration = 292\n",
            "\n",
            "Shrink model to first 293 iterations.\n",
            "Train Accuracy : 1.0\n",
            "Test Accuracy : 0.9968152866242038\n",
            "Classification Report - Training Set:\n",
            "                  precision    recall  f1-score   support\n",
            "\n",
            "  F0_Normal_1_98       1.00      1.00      1.00       123\n",
            "   F1_B007_1_124       1.00      1.00      1.00       134\n",
            "   F2_B014_1_191       1.00      1.00      1.00       123\n",
            "   F3_B021_1_228       1.00      1.00      1.00       117\n",
            "  F4_IR007_1_111       1.00      1.00      1.00       132\n",
            "  F5_IR014_1_176       1.00      1.00      1.00       123\n",
            "  F6_IR021_1_215       1.00      1.00      1.00       129\n",
            "F7_OR007_6_1_137       1.00      1.00      1.00       122\n",
            "F8_OR014_6_1_203       1.00      1.00      1.00       128\n",
            "F9_OR021_6_1_240       1.00      1.00      1.00       125\n",
            "\n",
            "        accuracy                           1.00      1256\n",
            "       macro avg       1.00      1.00      1.00      1256\n",
            "    weighted avg       1.00      1.00      1.00      1256\n",
            "\n",
            "Classification Report - Test Set:\n",
            "                  precision    recall  f1-score   support\n",
            "\n",
            "  F0_Normal_1_98       1.00      1.00      1.00        24\n",
            "   F1_B007_1_124       1.00      1.00      1.00        32\n",
            "   F2_B014_1_191       1.00      1.00      1.00        34\n",
            "   F3_B021_1_228       1.00      0.97      0.98        29\n",
            "  F4_IR007_1_111       1.00      1.00      1.00        27\n",
            "  F5_IR014_1_176       0.97      1.00      0.99        37\n",
            "  F6_IR021_1_215       1.00      1.00      1.00        25\n",
            "F7_OR007_6_1_137       1.00      1.00      1.00        36\n",
            "F8_OR014_6_1_203       1.00      1.00      1.00        31\n",
            "F9_OR021_6_1_240       1.00      1.00      1.00        39\n",
            "\n",
            "        accuracy                           1.00       314\n",
            "       macro avg       1.00      1.00      1.00       314\n",
            "    weighted avg       1.00      1.00      1.00       314\n",
            "\n"
          ]
        }
      ]
    }
  ],
  "metadata": {
    "kernelspec": {
      "display_name": "Python 3",
      "name": "python3"
    },
    "language_info": {
      "codemirror_mode": {
        "name": "ipython",
        "version": 3
      },
      "file_extension": ".py",
      "mimetype": "text/x-python",
      "name": "python",
      "nbconvert_exporter": "python",
      "pygments_lexer": "ipython3",
      "version": "3.11.2"
    },
    "colab": {
      "provenance": [],
      "gpuType": "T4",
      "include_colab_link": true
    },
    "accelerator": "GPU",
    "widgets": {
      "application/vnd.jupyter.widget-state+json": {
        "863d6fc2791b472cb6644117872a8c52": {
          "model_module": "catboost-widget",
          "model_name": "CatboostWidgetModel",
          "model_module_version": "^1.0.0",
          "state": {
            "_dom_classes": [],
            "_model_module": "catboost-widget",
            "_model_module_version": "^1.0.0",
            "_model_name": "CatboostWidgetModel",
            "_view_count": null,
            "_view_module": "catboost-widget",
            "_view_module_version": "^1.0.0",
            "_view_name": "CatboostWidgetView",
            "data": {
              "catboost_info": {
                "path": "catboost_info",
                "name": "catboost_info",
                "content": {
                  "passed_iterations": 299,
                  "total_iterations": 300,
                  "data": {
                    "iterations": [
                      {
                        "learn": [
                          1.929792181
                        ],
                        "iteration": 0,
                        "passed_time": 0.0557942002,
                        "remaining_time": 16.68246586,
                        "test": [
                          1.936243868
                        ]
                      },
                      {
                        "learn": [
                          1.687911917
                        ],
                        "iteration": 1,
                        "passed_time": 0.100987986,
                        "remaining_time": 15.04720991,
                        "test": [
                          1.698148627
                        ]
                      },
                      {
                        "learn": [
                          1.507768573
                        ],
                        "iteration": 2,
                        "passed_time": 0.1472170789,
                        "remaining_time": 14.57449081,
                        "test": [
                          1.51795652
                        ]
                      },
                      {
                        "learn": [
                          1.362297376
                        ],
                        "iteration": 3,
                        "passed_time": 0.1944397712,
                        "remaining_time": 14.38854307,
                        "test": [
                          1.375403561
                        ]
                      },
                      {
                        "learn": [
                          1.236674992
                        ],
                        "iteration": 4,
                        "passed_time": 0.2434554132,
                        "remaining_time": 14.36386938,
                        "test": [
                          1.247703617
                        ]
                      },
                      {
                        "learn": [
                          1.13180958
                        ],
                        "iteration": 5,
                        "passed_time": 0.2917541466,
                        "remaining_time": 14.29595318,
                        "test": [
                          1.140876277
                        ]
                      },
                      {
                        "learn": [
                          1.039287293
                        ],
                        "iteration": 6,
                        "passed_time": 0.3411815246,
                        "remaining_time": 14.28088382,
                        "test": [
                          1.048373199
                        ]
                      },
                      {
                        "learn": [
                          0.9593016978
                        ],
                        "iteration": 7,
                        "passed_time": 0.3909568088,
                        "remaining_time": 14.26992352,
                        "test": [
                          0.9673691066
                        ]
                      },
                      {
                        "learn": [
                          0.8875722044
                        ],
                        "iteration": 8,
                        "passed_time": 0.4399571762,
                        "remaining_time": 14.22528203,
                        "test": [
                          0.8950637929
                        ]
                      },
                      {
                        "learn": [
                          0.8311292624
                        ],
                        "iteration": 9,
                        "passed_time": 0.4791897815,
                        "remaining_time": 13.89650366,
                        "test": [
                          0.8387275206
                        ]
                      },
                      {
                        "learn": [
                          0.7750582703
                        ],
                        "iteration": 10,
                        "passed_time": 0.5208118443,
                        "remaining_time": 13.68314755,
                        "test": [
                          0.781227683
                        ]
                      },
                      {
                        "learn": [
                          0.7242178301
                        ],
                        "iteration": 11,
                        "passed_time": 0.5693659558,
                        "remaining_time": 13.66478294,
                        "test": [
                          0.7302102177
                        ]
                      },
                      {
                        "learn": [
                          0.6786376495
                        ],
                        "iteration": 12,
                        "passed_time": 0.6152545898,
                        "remaining_time": 13.58292825,
                        "test": [
                          0.6850449166
                        ]
                      },
                      {
                        "learn": [
                          0.6379608421
                        ],
                        "iteration": 13,
                        "passed_time": 0.6579527509,
                        "remaining_time": 13.44103477,
                        "test": [
                          0.6436037078
                        ]
                      },
                      {
                        "learn": [
                          0.5990328515
                        ],
                        "iteration": 14,
                        "passed_time": 0.7074831144,
                        "remaining_time": 13.44217917,
                        "test": [
                          0.6048409521
                        ]
                      },
                      {
                        "learn": [
                          0.5648472873
                        ],
                        "iteration": 15,
                        "passed_time": 0.7469328418,
                        "remaining_time": 13.25805794,
                        "test": [
                          0.5704695759
                        ]
                      },
                      {
                        "learn": [
                          0.5322011579
                        ],
                        "iteration": 16,
                        "passed_time": 0.79403009,
                        "remaining_time": 13.21826562,
                        "test": [
                          0.5376761108
                        ]
                      },
                      {
                        "learn": [
                          0.502560702
                        ],
                        "iteration": 17,
                        "passed_time": 0.8429936437,
                        "remaining_time": 13.20690042,
                        "test": [
                          0.5075165953
                        ]
                      },
                      {
                        "learn": [
                          0.4748878945
                        ],
                        "iteration": 18,
                        "passed_time": 0.8878077313,
                        "remaining_time": 13.13020908,
                        "test": [
                          0.4796238993
                        ]
                      },
                      {
                        "learn": [
                          0.4497689022
                        ],
                        "iteration": 19,
                        "passed_time": 0.9391994401,
                        "remaining_time": 13.14879216,
                        "test": [
                          0.4545227786
                        ]
                      },
                      {
                        "learn": [
                          0.4260226048
                        ],
                        "iteration": 20,
                        "passed_time": 0.9875346776,
                        "remaining_time": 13.12010357,
                        "test": [
                          0.4302097704
                        ]
                      },
                      {
                        "learn": [
                          0.4033743945
                        ],
                        "iteration": 21,
                        "passed_time": 1.032553727,
                        "remaining_time": 13.04772436,
                        "test": [
                          0.4070115857
                        ]
                      },
                      {
                        "learn": [
                          0.3831665724
                        ],
                        "iteration": 22,
                        "passed_time": 1.065733952,
                        "remaining_time": 12.83514368,
                        "test": [
                          0.3864367774
                        ]
                      },
                      {
                        "learn": [
                          0.3631799796
                        ],
                        "iteration": 23,
                        "passed_time": 1.088076051,
                        "remaining_time": 12.51287458,
                        "test": [
                          0.3665464851
                        ]
                      },
                      {
                        "learn": [
                          0.3459783497
                        ],
                        "iteration": 24,
                        "passed_time": 1.11038584,
                        "remaining_time": 12.21424424,
                        "test": [
                          0.3497226038
                        ]
                      },
                      {
                        "learn": [
                          0.3296806009
                        ],
                        "iteration": 25,
                        "passed_time": 1.135905011,
                        "remaining_time": 11.97069127,
                        "test": [
                          0.3330071005
                        ]
                      },
                      {
                        "learn": [
                          0.3135831424
                        ],
                        "iteration": 26,
                        "passed_time": 1.159437918,
                        "remaining_time": 11.72320562,
                        "test": [
                          0.3167487059
                        ]
                      },
                      {
                        "learn": [
                          0.2987915465
                        ],
                        "iteration": 27,
                        "passed_time": 1.18181722,
                        "remaining_time": 11.48051014,
                        "test": [
                          0.3016121871
                        ]
                      },
                      {
                        "learn": [
                          0.2851093983
                        ],
                        "iteration": 28,
                        "passed_time": 1.204118378,
                        "remaining_time": 11.25227864,
                        "test": [
                          0.287822424
                        ]
                      },
                      {
                        "learn": [
                          0.2715706356
                        ],
                        "iteration": 29,
                        "passed_time": 1.22650161,
                        "remaining_time": 11.03851449,
                        "test": [
                          0.2741349941
                        ]
                      },
                      {
                        "learn": [
                          0.2594319571
                        ],
                        "iteration": 30,
                        "passed_time": 1.249002299,
                        "remaining_time": 10.83811672,
                        "test": [
                          0.2618724037
                        ]
                      },
                      {
                        "learn": [
                          0.2489103854
                        ],
                        "iteration": 31,
                        "passed_time": 1.271675817,
                        "remaining_time": 10.65028497,
                        "test": [
                          0.2513768545
                        ]
                      },
                      {
                        "learn": [
                          0.2377689422
                        ],
                        "iteration": 32,
                        "passed_time": 1.29473759,
                        "remaining_time": 10.47560414,
                        "test": [
                          0.2397389233
                        ]
                      },
                      {
                        "learn": [
                          0.2270371566
                        ],
                        "iteration": 33,
                        "passed_time": 1.317301258,
                        "remaining_time": 10.30594514,
                        "test": [
                          0.2288220462
                        ]
                      },
                      {
                        "learn": [
                          0.2166214944
                        ],
                        "iteration": 34,
                        "passed_time": 1.339449592,
                        "remaining_time": 10.14154691,
                        "test": [
                          0.2183695026
                        ]
                      },
                      {
                        "learn": [
                          0.2071838246
                        ],
                        "iteration": 35,
                        "passed_time": 1.361989787,
                        "remaining_time": 9.987925101,
                        "test": [
                          0.2087311458
                        ]
                      },
                      {
                        "learn": [
                          0.1979447071
                        ],
                        "iteration": 36,
                        "passed_time": 1.385401487,
                        "remaining_time": 9.847583545,
                        "test": [
                          0.1994086126
                        ]
                      },
                      {
                        "learn": [
                          0.1893907117
                        ],
                        "iteration": 37,
                        "passed_time": 1.409394377,
                        "remaining_time": 9.717403339,
                        "test": [
                          0.1908216977
                        ]
                      },
                      {
                        "learn": [
                          0.1811460262
                        ],
                        "iteration": 38,
                        "passed_time": 1.43349124,
                        "remaining_time": 9.593364452,
                        "test": [
                          0.1825423557
                        ]
                      },
                      {
                        "learn": [
                          0.173121855
                        ],
                        "iteration": 39,
                        "passed_time": 1.457823798,
                        "remaining_time": 9.47585469,
                        "test": [
                          0.1747184946
                        ]
                      },
                      {
                        "learn": [
                          0.1656084533
                        ],
                        "iteration": 40,
                        "passed_time": 1.480574794,
                        "remaining_time": 9.352899309,
                        "test": [
                          0.1674584822
                        ]
                      },
                      {
                        "learn": [
                          0.1592583972
                        ],
                        "iteration": 41,
                        "passed_time": 1.504251216,
                        "remaining_time": 9.240400326,
                        "test": [
                          0.1610916233
                        ]
                      },
                      {
                        "learn": [
                          0.1525723262
                        ],
                        "iteration": 42,
                        "passed_time": 1.528691697,
                        "remaining_time": 9.136599213,
                        "test": [
                          0.1542091266
                        ]
                      },
                      {
                        "learn": [
                          0.1465399402
                        ],
                        "iteration": 43,
                        "passed_time": 1.554755935,
                        "remaining_time": 9.04585271,
                        "test": [
                          0.1482140966
                        ]
                      },
                      {
                        "learn": [
                          0.1403656545
                        ],
                        "iteration": 44,
                        "passed_time": 1.581016373,
                        "remaining_time": 8.95909278,
                        "test": [
                          0.1421017913
                        ]
                      },
                      {
                        "learn": [
                          0.135134296
                        ],
                        "iteration": 45,
                        "passed_time": 1.60648101,
                        "remaining_time": 8.870569053,
                        "test": [
                          0.1367747562
                        ]
                      },
                      {
                        "learn": [
                          0.1301970854
                        ],
                        "iteration": 46,
                        "passed_time": 1.633852781,
                        "remaining_time": 8.794994755,
                        "test": [
                          0.1320800797
                        ]
                      },
                      {
                        "learn": [
                          0.1253074279
                        ],
                        "iteration": 47,
                        "passed_time": 1.660096,
                        "remaining_time": 8.715503999,
                        "test": [
                          0.1272733322
                        ]
                      },
                      {
                        "learn": [
                          0.1203276894
                        ],
                        "iteration": 48,
                        "passed_time": 1.686318353,
                        "remaining_time": 8.638079729,
                        "test": [
                          0.1223154639
                        ]
                      },
                      {
                        "learn": [
                          0.1155770865
                        ],
                        "iteration": 49,
                        "passed_time": 1.714157985,
                        "remaining_time": 8.570789923,
                        "test": [
                          0.1176490558
                        ]
                      },
                      {
                        "learn": [
                          0.1112980773
                        ],
                        "iteration": 50,
                        "passed_time": 1.740943988,
                        "remaining_time": 8.499903002,
                        "test": [
                          0.1133146477
                        ]
                      },
                      {
                        "learn": [
                          0.1070912136
                        ],
                        "iteration": 51,
                        "passed_time": 1.768359244,
                        "remaining_time": 8.433713317,
                        "test": [
                          0.1091727806
                        ]
                      },
                      {
                        "learn": [
                          0.103011914
                        ],
                        "iteration": 52,
                        "passed_time": 1.791352104,
                        "remaining_time": 8.348376787,
                        "test": [
                          0.1051247998
                        ]
                      },
                      {
                        "learn": [
                          0.0993412354
                        ],
                        "iteration": 53,
                        "passed_time": 1.813457466,
                        "remaining_time": 8.261306234,
                        "test": [
                          0.1013084856
                        ]
                      },
                      {
                        "learn": [
                          0.09610417998
                        ],
                        "iteration": 54,
                        "passed_time": 1.835788332,
                        "remaining_time": 8.177602569,
                        "test": [
                          0.09807247492
                        ]
                      },
                      {
                        "learn": [
                          0.09300109602
                        ],
                        "iteration": 55,
                        "passed_time": 1.86308731,
                        "remaining_time": 8.117737566,
                        "test": [
                          0.09499806048
                        ]
                      },
                      {
                        "learn": [
                          0.08998430543
                        ],
                        "iteration": 56,
                        "passed_time": 1.894983356,
                        "remaining_time": 8.078613256,
                        "test": [
                          0.0920623512
                        ]
                      },
                      {
                        "learn": [
                          0.0868252938
                        ],
                        "iteration": 57,
                        "passed_time": 1.923026509,
                        "remaining_time": 8.023662329,
                        "test": [
                          0.08887228606
                        ]
                      },
                      {
                        "learn": [
                          0.08387183798
                        ],
                        "iteration": 58,
                        "passed_time": 1.945542222,
                        "remaining_time": 7.947045347,
                        "test": [
                          0.08590444176
                        ]
                      },
                      {
                        "learn": [
                          0.08091943878
                        ],
                        "iteration": 59,
                        "passed_time": 1.968015647,
                        "remaining_time": 7.872062587,
                        "test": [
                          0.08289347396
                        ]
                      },
                      {
                        "learn": [
                          0.07805711024
                        ],
                        "iteration": 60,
                        "passed_time": 1.990495008,
                        "remaining_time": 7.798824704,
                        "test": [
                          0.08006797214
                        ]
                      },
                      {
                        "learn": [
                          0.07579491699
                        ],
                        "iteration": 61,
                        "passed_time": 2.025415536,
                        "remaining_time": 7.77498222,
                        "test": [
                          0.07789568771
                        ]
                      },
                      {
                        "learn": [
                          0.07331065054
                        ],
                        "iteration": 62,
                        "passed_time": 2.049652123,
                        "remaining_time": 7.710596083,
                        "test": [
                          0.07523644288
                        ]
                      },
                      {
                        "learn": [
                          0.07082130649
                        ],
                        "iteration": 63,
                        "passed_time": 2.07303492,
                        "remaining_time": 7.644316266,
                        "test": [
                          0.07282188833
                        ]
                      },
                      {
                        "learn": [
                          0.06872781294
                        ],
                        "iteration": 64,
                        "passed_time": 2.095497993,
                        "remaining_time": 7.576031206,
                        "test": [
                          0.07054718312
                        ]
                      },
                      {
                        "learn": [
                          0.06661403869
                        ],
                        "iteration": 65,
                        "passed_time": 2.11749004,
                        "remaining_time": 7.507464687,
                        "test": [
                          0.06852020545
                        ]
                      },
                      {
                        "learn": [
                          0.06458193488
                        ],
                        "iteration": 66,
                        "passed_time": 2.142260027,
                        "remaining_time": 7.449949051,
                        "test": [
                          0.06665657454
                        ]
                      },
                      {
                        "learn": [
                          0.06254011032
                        ],
                        "iteration": 67,
                        "passed_time": 2.164658587,
                        "remaining_time": 7.385305768,
                        "test": [
                          0.06479292732
                        ]
                      },
                      {
                        "learn": [
                          0.06085856661
                        ],
                        "iteration": 68,
                        "passed_time": 2.186786449,
                        "remaining_time": 7.320980719,
                        "test": [
                          0.06313174043
                        ]
                      },
                      {
                        "learn": [
                          0.0589247322
                        ],
                        "iteration": 69,
                        "passed_time": 2.210472815,
                        "remaining_time": 7.262982105,
                        "test": [
                          0.06130872228
                        ]
                      },
                      {
                        "learn": [
                          0.05711713457
                        ],
                        "iteration": 70,
                        "passed_time": 2.232518791,
                        "remaining_time": 7.200659199,
                        "test": [
                          0.0595025774
                        ]
                      },
                      {
                        "learn": [
                          0.0555995859
                        ],
                        "iteration": 71,
                        "passed_time": 2.254571826,
                        "remaining_time": 7.139477448,
                        "test": [
                          0.05801516245
                        ]
                      },
                      {
                        "learn": [
                          0.05401461908
                        ],
                        "iteration": 72,
                        "passed_time": 2.2780327,
                        "remaining_time": 7.08374552,
                        "test": [
                          0.05658901309
                        ]
                      },
                      {
                        "learn": [
                          0.05241109018
                        ],
                        "iteration": 73,
                        "passed_time": 2.301267968,
                        "remaining_time": 7.028196767,
                        "test": [
                          0.05495309327
                        ]
                      },
                      {
                        "learn": [
                          0.05137113174
                        ],
                        "iteration": 74,
                        "passed_time": 2.325272516,
                        "remaining_time": 6.975817548,
                        "test": [
                          0.05414420731
                        ]
                      },
                      {
                        "learn": [
                          0.05004665021
                        ],
                        "iteration": 75,
                        "passed_time": 2.348895518,
                        "remaining_time": 6.923060475,
                        "test": [
                          0.05283861381
                        ]
                      },
                      {
                        "learn": [
                          0.04866277045
                        ],
                        "iteration": 76,
                        "passed_time": 2.371933036,
                        "remaining_time": 6.869364507,
                        "test": [
                          0.05151369636
                        ]
                      },
                      {
                        "learn": [
                          0.04773363568
                        ],
                        "iteration": 77,
                        "passed_time": 2.394572464,
                        "remaining_time": 6.815321627,
                        "test": [
                          0.05069240286
                        ]
                      },
                      {
                        "learn": [
                          0.04641236032
                        ],
                        "iteration": 78,
                        "passed_time": 2.417020151,
                        "remaining_time": 6.761537384,
                        "test": [
                          0.04940345619
                        ]
                      },
                      {
                        "learn": [
                          0.04532775395
                        ],
                        "iteration": 79,
                        "passed_time": 2.440728985,
                        "remaining_time": 6.712004709,
                        "test": [
                          0.04832571202
                        ]
                      },
                      {
                        "learn": [
                          0.04416925476
                        ],
                        "iteration": 80,
                        "passed_time": 2.463122526,
                        "remaining_time": 6.659553497,
                        "test": [
                          0.04707455123
                        ]
                      },
                      {
                        "learn": [
                          0.04316764016
                        ],
                        "iteration": 81,
                        "passed_time": 2.485655854,
                        "remaining_time": 6.608207027,
                        "test": [
                          0.04613031019
                        ]
                      },
                      {
                        "learn": [
                          0.04204619444
                        ],
                        "iteration": 82,
                        "passed_time": 2.507769369,
                        "remaining_time": 6.556457266,
                        "test": [
                          0.0451495594
                        ]
                      },
                      {
                        "learn": [
                          0.04093553587
                        ],
                        "iteration": 83,
                        "passed_time": 2.530782923,
                        "remaining_time": 6.507727517,
                        "test": [
                          0.0441707499
                        ]
                      },
                      {
                        "learn": [
                          0.04022881823
                        ],
                        "iteration": 84,
                        "passed_time": 2.553529134,
                        "remaining_time": 6.458926632,
                        "test": [
                          0.04349158645
                        ]
                      },
                      {
                        "learn": [
                          0.03926084218
                        ],
                        "iteration": 85,
                        "passed_time": 2.579149728,
                        "remaining_time": 6.417884207,
                        "test": [
                          0.04243767217
                        ]
                      },
                      {
                        "learn": [
                          0.03839140636
                        ],
                        "iteration": 86,
                        "passed_time": 2.603618713,
                        "remaining_time": 6.37437685,
                        "test": [
                          0.04163802106
                        ]
                      },
                      {
                        "learn": [
                          0.03777590548
                        ],
                        "iteration": 87,
                        "passed_time": 2.626965981,
                        "remaining_time": 6.328599864,
                        "test": [
                          0.04128200471
                        ]
                      },
                      {
                        "learn": [
                          0.0370272707
                        ],
                        "iteration": 88,
                        "passed_time": 2.668890957,
                        "remaining_time": 6.327370696,
                        "test": [
                          0.04061212057
                        ]
                      },
                      {
                        "learn": [
                          0.03606973455
                        ],
                        "iteration": 89,
                        "passed_time": 2.719418586,
                        "remaining_time": 6.345310035,
                        "test": [
                          0.03979137773
                        ]
                      },
                      {
                        "learn": [
                          0.03547622826
                        ],
                        "iteration": 90,
                        "passed_time": 2.74812215,
                        "remaining_time": 6.311621202,
                        "test": [
                          0.03926856144
                        ]
                      },
                      {
                        "learn": [
                          0.03462707611
                        ],
                        "iteration": 91,
                        "passed_time": 2.773854246,
                        "remaining_time": 6.271322642,
                        "test": [
                          0.03856278006
                        ]
                      },
                      {
                        "learn": [
                          0.0341217769
                        ],
                        "iteration": 92,
                        "passed_time": 2.796447894,
                        "remaining_time": 6.224351765,
                        "test": [
                          0.0382474304
                        ]
                      },
                      {
                        "learn": [
                          0.03335032572
                        ],
                        "iteration": 93,
                        "passed_time": 2.819150703,
                        "remaining_time": 6.178138775,
                        "test": [
                          0.03762952969
                        ]
                      },
                      {
                        "learn": [
                          0.03293889447
                        ],
                        "iteration": 94,
                        "passed_time": 2.842905389,
                        "remaining_time": 6.134690575,
                        "test": [
                          0.03745059205
                        ]
                      },
                      {
                        "learn": [
                          0.03224158366
                        ],
                        "iteration": 95,
                        "passed_time": 2.865335553,
                        "remaining_time": 6.088838049,
                        "test": [
                          0.03669930214
                        ]
                      },
                      {
                        "learn": [
                          0.03164258913
                        ],
                        "iteration": 96,
                        "passed_time": 2.887278412,
                        "remaining_time": 6.042448636,
                        "test": [
                          0.03618329119
                        ]
                      },
                      {
                        "learn": [
                          0.03079174344
                        ],
                        "iteration": 97,
                        "passed_time": 2.915756098,
                        "remaining_time": 6.010027876,
                        "test": [
                          0.03542011659
                        ]
                      },
                      {
                        "learn": [
                          0.03035436107
                        ],
                        "iteration": 98,
                        "passed_time": 2.949262168,
                        "remaining_time": 5.987895917,
                        "test": [
                          0.03511036829
                        ]
                      },
                      {
                        "learn": [
                          0.0297085139
                        ],
                        "iteration": 99,
                        "passed_time": 2.972794458,
                        "remaining_time": 5.945588915,
                        "test": [
                          0.03442351061
                        ]
                      },
                      {
                        "learn": [
                          0.02913686012
                        ],
                        "iteration": 100,
                        "passed_time": 2.996398244,
                        "remaining_time": 5.90379456,
                        "test": [
                          0.03384363405
                        ]
                      },
                      {
                        "learn": [
                          0.02872417368
                        ],
                        "iteration": 101,
                        "passed_time": 3.030831639,
                        "remaining_time": 5.883379064,
                        "test": [
                          0.03355685611
                        ]
                      },
                      {
                        "learn": [
                          0.02821118987
                        ],
                        "iteration": 102,
                        "passed_time": 3.057872902,
                        "remaining_time": 5.848553026,
                        "test": [
                          0.03315719764
                        ]
                      },
                      {
                        "learn": [
                          0.02766900939
                        ],
                        "iteration": 103,
                        "passed_time": 3.080458742,
                        "remaining_time": 5.805479936,
                        "test": [
                          0.03264445891
                        ]
                      },
                      {
                        "learn": [
                          0.02726720043
                        ],
                        "iteration": 104,
                        "passed_time": 3.102704706,
                        "remaining_time": 5.762165882,
                        "test": [
                          0.03225876559
                        ]
                      },
                      {
                        "learn": [
                          0.02692363742
                        ],
                        "iteration": 105,
                        "passed_time": 3.124839629,
                        "remaining_time": 5.719046114,
                        "test": [
                          0.03197982815
                        ]
                      },
                      {
                        "learn": [
                          0.02644388474
                        ],
                        "iteration": 106,
                        "passed_time": 3.148958584,
                        "remaining_time": 5.679897259,
                        "test": [
                          0.03151106422
                        ]
                      },
                      {
                        "learn": [
                          0.02611180774
                        ],
                        "iteration": 107,
                        "passed_time": 3.171307132,
                        "remaining_time": 5.637879346,
                        "test": [
                          0.03119155683
                        ]
                      },
                      {
                        "learn": [
                          0.02561404278
                        ],
                        "iteration": 108,
                        "passed_time": 3.193464458,
                        "remaining_time": 5.595887261,
                        "test": [
                          0.03079708612
                        ]
                      },
                      {
                        "learn": [
                          0.02515298257
                        ],
                        "iteration": 109,
                        "passed_time": 3.215765721,
                        "remaining_time": 5.554504427,
                        "test": [
                          0.03038572894
                        ]
                      },
                      {
                        "learn": [
                          0.0247488793
                        ],
                        "iteration": 110,
                        "passed_time": 3.238273459,
                        "remaining_time": 5.513816971,
                        "test": [
                          0.02999503851
                        ]
                      },
                      {
                        "learn": [
                          0.02442300948
                        ],
                        "iteration": 111,
                        "passed_time": 3.26061212,
                        "remaining_time": 5.473170345,
                        "test": [
                          0.02979743234
                        ]
                      },
                      {
                        "learn": [
                          0.02394834846
                        ],
                        "iteration": 112,
                        "passed_time": 3.283007287,
                        "remaining_time": 5.432941262,
                        "test": [
                          0.0292575528
                        ]
                      },
                      {
                        "learn": [
                          0.02353408723
                        ],
                        "iteration": 113,
                        "passed_time": 3.307016469,
                        "remaining_time": 5.395658449,
                        "test": [
                          0.02893354099
                        ]
                      },
                      {
                        "learn": [
                          0.02319618034
                        ],
                        "iteration": 114,
                        "passed_time": 3.329899998,
                        "remaining_time": 5.356795649,
                        "test": [
                          0.02864274051
                        ]
                      },
                      {
                        "learn": [
                          0.02291787866
                        ],
                        "iteration": 115,
                        "passed_time": 3.352448542,
                        "remaining_time": 5.317676998,
                        "test": [
                          0.02843007344
                        ]
                      },
                      {
                        "learn": [
                          0.02244332587
                        ],
                        "iteration": 116,
                        "passed_time": 3.375773563,
                        "remaining_time": 5.280056085,
                        "test": [
                          0.02813301038
                        ]
                      },
                      {
                        "learn": [
                          0.0221442689
                        ],
                        "iteration": 117,
                        "passed_time": 3.399776403,
                        "remaining_time": 5.243722926,
                        "test": [
                          0.02794508764
                        ]
                      },
                      {
                        "learn": [
                          0.02185678771
                        ],
                        "iteration": 118,
                        "passed_time": 3.424120871,
                        "remaining_time": 5.20811662,
                        "test": [
                          0.02772045613
                        ]
                      },
                      {
                        "learn": [
                          0.02148938329
                        ],
                        "iteration": 119,
                        "passed_time": 3.44778102,
                        "remaining_time": 5.171671531,
                        "test": [
                          0.02739746042
                        ]
                      },
                      {
                        "learn": [
                          0.02111865486
                        ],
                        "iteration": 120,
                        "passed_time": 3.472089265,
                        "remaining_time": 5.136396516,
                        "test": [
                          0.02699824836
                        ]
                      },
                      {
                        "learn": [
                          0.02088961049
                        ],
                        "iteration": 121,
                        "passed_time": 3.494334924,
                        "remaining_time": 5.098291939,
                        "test": [
                          0.02681332247
                        ]
                      },
                      {
                        "learn": [
                          0.0207393685
                        ],
                        "iteration": 122,
                        "passed_time": 3.516666645,
                        "remaining_time": 5.060569075,
                        "test": [
                          0.02674558495
                        ]
                      },
                      {
                        "learn": [
                          0.02051129764
                        ],
                        "iteration": 123,
                        "passed_time": 3.53949351,
                        "remaining_time": 5.02379724,
                        "test": [
                          0.02663096963
                        ]
                      },
                      {
                        "learn": [
                          0.02035270487
                        ],
                        "iteration": 124,
                        "passed_time": 3.563102214,
                        "remaining_time": 4.988343099,
                        "test": [
                          0.02668596551
                        ]
                      },
                      {
                        "learn": [
                          0.02009778816
                        ],
                        "iteration": 125,
                        "passed_time": 3.586740883,
                        "remaining_time": 4.953118362,
                        "test": [
                          0.02646653801
                        ]
                      },
                      {
                        "learn": [
                          0.01977396889
                        ],
                        "iteration": 126,
                        "passed_time": 3.60923576,
                        "remaining_time": 4.916518004,
                        "test": [
                          0.02618575347
                        ]
                      },
                      {
                        "learn": [
                          0.01959165034
                        ],
                        "iteration": 127,
                        "passed_time": 3.631475618,
                        "remaining_time": 4.879795362,
                        "test": [
                          0.02605238018
                        ]
                      },
                      {
                        "learn": [
                          0.01934695339
                        ],
                        "iteration": 128,
                        "passed_time": 3.653701702,
                        "remaining_time": 4.843279001,
                        "test": [
                          0.02595885141
                        ]
                      },
                      {
                        "learn": [
                          0.01907678842
                        ],
                        "iteration": 129,
                        "passed_time": 3.676896362,
                        "remaining_time": 4.808249088,
                        "test": [
                          0.0257296455
                        ]
                      },
                      {
                        "learn": [
                          0.01882584058
                        ],
                        "iteration": 130,
                        "passed_time": 3.698971785,
                        "remaining_time": 4.771955966,
                        "test": [
                          0.02557440986
                        ]
                      },
                      {
                        "learn": [
                          0.01852556432
                        ],
                        "iteration": 131,
                        "passed_time": 3.722432378,
                        "remaining_time": 4.737641209,
                        "test": [
                          0.02535661382
                        ]
                      },
                      {
                        "learn": [
                          0.01827883366
                        ],
                        "iteration": 132,
                        "passed_time": 3.748038546,
                        "remaining_time": 4.706183738,
                        "test": [
                          0.02513052633
                        ]
                      },
                      {
                        "learn": [
                          0.01801672315
                        ],
                        "iteration": 133,
                        "passed_time": 3.773981477,
                        "remaining_time": 4.675230785,
                        "test": [
                          0.02493892515
                        ]
                      },
                      {
                        "learn": [
                          0.01781113494
                        ],
                        "iteration": 134,
                        "passed_time": 3.798068156,
                        "remaining_time": 4.642083301,
                        "test": [
                          0.02483020696
                        ]
                      },
                      {
                        "learn": [
                          0.01763315278
                        ],
                        "iteration": 135,
                        "passed_time": 3.820566297,
                        "remaining_time": 4.607153476,
                        "test": [
                          0.02478629361
                        ]
                      },
                      {
                        "learn": [
                          0.01739978793
                        ],
                        "iteration": 136,
                        "passed_time": 3.844747579,
                        "remaining_time": 4.574407704,
                        "test": [
                          0.02462924479
                        ]
                      },
                      {
                        "learn": [
                          0.01710486983
                        ],
                        "iteration": 137,
                        "passed_time": 3.867332099,
                        "remaining_time": 4.539911595,
                        "test": [
                          0.02429660979
                        ]
                      },
                      {
                        "learn": [
                          0.01692431516
                        ],
                        "iteration": 138,
                        "passed_time": 3.889685959,
                        "remaining_time": 4.505319708,
                        "test": [
                          0.02415913701
                        ]
                      },
                      {
                        "learn": [
                          0.01673497773
                        ],
                        "iteration": 139,
                        "passed_time": 3.911905607,
                        "remaining_time": 4.470749265,
                        "test": [
                          0.02405994847
                        ]
                      },
                      {
                        "learn": [
                          0.01650997792
                        ],
                        "iteration": 140,
                        "passed_time": 3.933929445,
                        "remaining_time": 4.436133204,
                        "test": [
                          0.02389271967
                        ]
                      },
                      {
                        "learn": [
                          0.01631520817
                        ],
                        "iteration": 141,
                        "passed_time": 3.973374446,
                        "remaining_time": 4.421078609,
                        "test": [
                          0.02377270869
                        ]
                      },
                      {
                        "learn": [
                          0.01618202816
                        ],
                        "iteration": 142,
                        "passed_time": 3.996765225,
                        "remaining_time": 4.388056925,
                        "test": [
                          0.02366413917
                        ]
                      },
                      {
                        "learn": [
                          0.01593287458
                        ],
                        "iteration": 143,
                        "passed_time": 4.030497679,
                        "remaining_time": 4.366372485,
                        "test": [
                          0.02340358807
                        ]
                      },
                      {
                        "learn": [
                          0.01567966873
                        ],
                        "iteration": 144,
                        "passed_time": 4.054789332,
                        "remaining_time": 4.334429975,
                        "test": [
                          0.02319717087
                        ]
                      },
                      {
                        "learn": [
                          0.01551975679
                        ],
                        "iteration": 145,
                        "passed_time": 4.077579166,
                        "remaining_time": 4.301008162,
                        "test": [
                          0.02305973516
                        ]
                      },
                      {
                        "learn": [
                          0.01532409694
                        ],
                        "iteration": 146,
                        "passed_time": 4.099885805,
                        "remaining_time": 4.267228082,
                        "test": [
                          0.02290896161
                        ]
                      },
                      {
                        "learn": [
                          0.01515128522
                        ],
                        "iteration": 147,
                        "passed_time": 4.122191635,
                        "remaining_time": 4.23360222,
                        "test": [
                          0.0227580966
                        ]
                      },
                      {
                        "learn": [
                          0.01497038891
                        ],
                        "iteration": 148,
                        "passed_time": 4.147136722,
                        "remaining_time": 4.202802987,
                        "test": [
                          0.02256449341
                        ]
                      },
                      {
                        "learn": [
                          0.0148358429
                        ],
                        "iteration": 149,
                        "passed_time": 4.169128866,
                        "remaining_time": 4.169128866,
                        "test": [
                          0.02248681283
                        ]
                      },
                      {
                        "learn": [
                          0.01465529102
                        ],
                        "iteration": 150,
                        "passed_time": 4.191197289,
                        "remaining_time": 4.135684742,
                        "test": [
                          0.02237638902
                        ]
                      },
                      {
                        "learn": [
                          0.01442484668
                        ],
                        "iteration": 151,
                        "passed_time": 4.213634434,
                        "remaining_time": 4.102749317,
                        "test": [
                          0.02221723302
                        ]
                      },
                      {
                        "learn": [
                          0.01425702964
                        ],
                        "iteration": 152,
                        "passed_time": 4.23602192,
                        "remaining_time": 4.069903413,
                        "test": [
                          0.0220554259
                        ]
                      },
                      {
                        "learn": [
                          0.01409597291
                        ],
                        "iteration": 153,
                        "passed_time": 4.258236522,
                        "remaining_time": 4.03702943,
                        "test": [
                          0.02190531458
                        ]
                      },
                      {
                        "learn": [
                          0.01389351525
                        ],
                        "iteration": 154,
                        "passed_time": 4.280382205,
                        "remaining_time": 4.004228514,
                        "test": [
                          0.02177962426
                        ]
                      },
                      {
                        "learn": [
                          0.01379171922
                        ],
                        "iteration": 155,
                        "passed_time": 4.302914618,
                        "remaining_time": 3.971921186,
                        "test": [
                          0.02170539827
                        ]
                      },
                      {
                        "learn": [
                          0.01369343951
                        ],
                        "iteration": 156,
                        "passed_time": 4.325196237,
                        "remaining_time": 3.939509948,
                        "test": [
                          0.02166566033
                        ]
                      },
                      {
                        "learn": [
                          0.01345648026
                        ],
                        "iteration": 157,
                        "passed_time": 4.347626084,
                        "remaining_time": 3.907360152,
                        "test": [
                          0.02153212515
                        ]
                      },
                      {
                        "learn": [
                          0.01333401778
                        ],
                        "iteration": 158,
                        "passed_time": 4.370426204,
                        "remaining_time": 3.875660974,
                        "test": [
                          0.02142102409
                        ]
                      },
                      {
                        "learn": [
                          0.01311718553
                        ],
                        "iteration": 159,
                        "passed_time": 4.395524623,
                        "remaining_time": 3.846084045,
                        "test": [
                          0.02132582588
                        ]
                      },
                      {
                        "learn": [
                          0.01295336967
                        ],
                        "iteration": 160,
                        "passed_time": 4.420010329,
                        "remaining_time": 3.816033762,
                        "test": [
                          0.0211582626
                        ]
                      },
                      {
                        "learn": [
                          0.01275863129
                        ],
                        "iteration": 161,
                        "passed_time": 4.443475631,
                        "remaining_time": 3.785182945,
                        "test": [
                          0.0210141591
                        ]
                      },
                      {
                        "learn": [
                          0.01259325774
                        ],
                        "iteration": 162,
                        "passed_time": 4.466609137,
                        "remaining_time": 3.754143876,
                        "test": [
                          0.02089202559
                        ]
                      },
                      {
                        "learn": [
                          0.01244609069
                        ],
                        "iteration": 163,
                        "passed_time": 4.48967141,
                        "remaining_time": 3.723142145,
                        "test": [
                          0.02083328337
                        ]
                      },
                      {
                        "learn": [
                          0.01230846012
                        ],
                        "iteration": 164,
                        "passed_time": 4.513260052,
                        "remaining_time": 3.692667315,
                        "test": [
                          0.02073437147
                        ]
                      },
                      {
                        "learn": [
                          0.01218742984
                        ],
                        "iteration": 165,
                        "passed_time": 4.537822875,
                        "remaining_time": 3.663061839,
                        "test": [
                          0.02066772266
                        ]
                      },
                      {
                        "learn": [
                          0.01207509618
                        ],
                        "iteration": 166,
                        "passed_time": 4.560586245,
                        "remaining_time": 3.632083656,
                        "test": [
                          0.02062692068
                        ]
                      },
                      {
                        "learn": [
                          0.01189080555
                        ],
                        "iteration": 167,
                        "passed_time": 4.583573171,
                        "remaining_time": 3.60137892,
                        "test": [
                          0.02050128834
                        ]
                      },
                      {
                        "learn": [
                          0.01178581503
                        ],
                        "iteration": 168,
                        "passed_time": 4.606048045,
                        "remaining_time": 3.570368603,
                        "test": [
                          0.02045529492
                        ]
                      },
                      {
                        "learn": [
                          0.01167380145
                        ],
                        "iteration": 169,
                        "passed_time": 4.628347018,
                        "remaining_time": 3.53932419,
                        "test": [
                          0.02039438705
                        ]
                      },
                      {
                        "learn": [
                          0.01153464777
                        ],
                        "iteration": 170,
                        "passed_time": 4.652277779,
                        "remaining_time": 3.509613062,
                        "test": [
                          0.02032885357
                        ]
                      },
                      {
                        "learn": [
                          0.01141311075
                        ],
                        "iteration": 171,
                        "passed_time": 4.675445435,
                        "remaining_time": 3.479401254,
                        "test": [
                          0.0201569229
                        ]
                      },
                      {
                        "learn": [
                          0.01124489457
                        ],
                        "iteration": 172,
                        "passed_time": 4.702692674,
                        "remaining_time": 3.45226572,
                        "test": [
                          0.02008365693
                        ]
                      },
                      {
                        "learn": [
                          0.01114872025
                        ],
                        "iteration": 173,
                        "passed_time": 4.725589218,
                        "remaining_time": 3.421978399,
                        "test": [
                          0.02004634385
                        ]
                      },
                      {
                        "learn": [
                          0.01099531369
                        ],
                        "iteration": 174,
                        "passed_time": 4.748724413,
                        "remaining_time": 3.391946009,
                        "test": [
                          0.01987992304
                        ]
                      },
                      {
                        "learn": [
                          0.01087327286
                        ],
                        "iteration": 175,
                        "passed_time": 4.771793123,
                        "remaining_time": 3.361945155,
                        "test": [
                          0.01984365872
                        ]
                      },
                      {
                        "learn": [
                          0.01079508954
                        ],
                        "iteration": 176,
                        "passed_time": 4.794697769,
                        "remaining_time": 3.331908619,
                        "test": [
                          0.01979182841
                        ]
                      },
                      {
                        "learn": [
                          0.01064957396
                        ],
                        "iteration": 177,
                        "passed_time": 4.817492506,
                        "remaining_time": 3.301876886,
                        "test": [
                          0.0195891836
                        ]
                      },
                      {
                        "learn": [
                          0.01050622899
                        ],
                        "iteration": 178,
                        "passed_time": 4.841837373,
                        "remaining_time": 3.272973867,
                        "test": [
                          0.01952641277
                        ]
                      },
                      {
                        "learn": [
                          0.01039980128
                        ],
                        "iteration": 179,
                        "passed_time": 4.864524172,
                        "remaining_time": 3.243016115,
                        "test": [
                          0.01943487772
                        ]
                      },
                      {
                        "learn": [
                          0.01029678265
                        ],
                        "iteration": 180,
                        "passed_time": 4.888460687,
                        "remaining_time": 3.213960341,
                        "test": [
                          0.01934804914
                        ]
                      },
                      {
                        "learn": [
                          0.01013418437
                        ],
                        "iteration": 181,
                        "passed_time": 4.912355014,
                        "remaining_time": 3.18493347,
                        "test": [
                          0.01925918073
                        ]
                      },
                      {
                        "learn": [
                          0.01000037504
                        ],
                        "iteration": 182,
                        "passed_time": 4.935917991,
                        "remaining_time": 3.155750847,
                        "test": [
                          0.01920013324
                        ]
                      },
                      {
                        "learn": [
                          0.009936679597
                        ],
                        "iteration": 183,
                        "passed_time": 4.959615962,
                        "remaining_time": 3.126714411,
                        "test": [
                          0.01918242993
                        ]
                      },
                      {
                        "learn": [
                          0.009847037189
                        ],
                        "iteration": 184,
                        "passed_time": 4.989563659,
                        "remaining_time": 3.101620653,
                        "test": [
                          0.01918650279
                        ]
                      },
                      {
                        "learn": [
                          0.009754537568
                        ],
                        "iteration": 185,
                        "passed_time": 5.031765969,
                        "remaining_time": 3.083985594,
                        "test": [
                          0.01904441784
                        ]
                      },
                      {
                        "learn": [
                          0.009628016038
                        ],
                        "iteration": 186,
                        "passed_time": 5.055173531,
                        "remaining_time": 3.054730529,
                        "test": [
                          0.01898637073
                        ]
                      },
                      {
                        "learn": [
                          0.009547157295
                        ],
                        "iteration": 187,
                        "passed_time": 5.078209376,
                        "remaining_time": 3.025316224,
                        "test": [
                          0.01895404215
                        ]
                      },
                      {
                        "learn": [
                          0.009412668735
                        ],
                        "iteration": 188,
                        "passed_time": 5.101871287,
                        "remaining_time": 2.996337105,
                        "test": [
                          0.01889949182
                        ]
                      },
                      {
                        "learn": [
                          0.009286551365
                        ],
                        "iteration": 189,
                        "passed_time": 5.124468422,
                        "remaining_time": 2.966797507,
                        "test": [
                          0.01884495053
                        ]
                      },
                      {
                        "learn": [
                          0.009197258289
                        ],
                        "iteration": 190,
                        "passed_time": 5.14947846,
                        "remaining_time": 2.938707603,
                        "test": [
                          0.01881622161
                        ]
                      },
                      {
                        "learn": [
                          0.009078061884
                        ],
                        "iteration": 191,
                        "passed_time": 5.171878072,
                        "remaining_time": 2.909181416,
                        "test": [
                          0.01879546715
                        ]
                      },
                      {
                        "learn": [
                          0.009001061535
                        ],
                        "iteration": 192,
                        "passed_time": 5.193961688,
                        "remaining_time": 2.879553889,
                        "test": [
                          0.01872824709
                        ]
                      },
                      {
                        "learn": [
                          0.008914489916
                        ],
                        "iteration": 193,
                        "passed_time": 5.216510086,
                        "remaining_time": 2.850258088,
                        "test": [
                          0.01867781103
                        ]
                      },
                      {
                        "learn": [
                          0.008815155444
                        ],
                        "iteration": 194,
                        "passed_time": 5.239148361,
                        "remaining_time": 2.821079887,
                        "test": [
                          0.01852373927
                        ]
                      },
                      {
                        "learn": [
                          0.008724162596
                        ],
                        "iteration": 195,
                        "passed_time": 5.261669994,
                        "remaining_time": 2.791906527,
                        "test": [
                          0.0184667892
                        ]
                      },
                      {
                        "learn": [
                          0.008655528981
                        ],
                        "iteration": 196,
                        "passed_time": 5.28377941,
                        "remaining_time": 2.762585174,
                        "test": [
                          0.01840576399
                        ]
                      },
                      {
                        "learn": [
                          0.008553637845
                        ],
                        "iteration": 197,
                        "passed_time": 5.307400072,
                        "remaining_time": 2.734115189,
                        "test": [
                          0.01836854841
                        ]
                      },
                      {
                        "learn": [
                          0.008490945987
                        ],
                        "iteration": 198,
                        "passed_time": 5.33119598,
                        "remaining_time": 2.705782884,
                        "test": [
                          0.01834490417
                        ]
                      },
                      {
                        "learn": [
                          0.008404945721
                        ],
                        "iteration": 199,
                        "passed_time": 5.354766225,
                        "remaining_time": 2.677383112,
                        "test": [
                          0.01833630522
                        ]
                      },
                      {
                        "learn": [
                          0.008312849129
                        ],
                        "iteration": 200,
                        "passed_time": 5.378591428,
                        "remaining_time": 2.649156972,
                        "test": [
                          0.01829929474
                        ]
                      },
                      {
                        "learn": [
                          0.008239159692
                        ],
                        "iteration": 201,
                        "passed_time": 5.401535164,
                        "remaining_time": 2.620546763,
                        "test": [
                          0.01828921749
                        ]
                      },
                      {
                        "learn": [
                          0.008139315092
                        ],
                        "iteration": 202,
                        "passed_time": 5.424521755,
                        "remaining_time": 2.592012858,
                        "test": [
                          0.01822274038
                        ]
                      },
                      {
                        "learn": [
                          0.008045729692
                        ],
                        "iteration": 203,
                        "passed_time": 5.446833391,
                        "remaining_time": 2.563215714,
                        "test": [
                          0.01819831823
                        ]
                      },
                      {
                        "learn": [
                          0.007946741347
                        ],
                        "iteration": 204,
                        "passed_time": 5.469379105,
                        "remaining_time": 2.534590317,
                        "test": [
                          0.0181657869
                        ]
                      },
                      {
                        "learn": [
                          0.007898120443
                        ],
                        "iteration": 205,
                        "passed_time": 5.492622468,
                        "remaining_time": 2.506342291,
                        "test": [
                          0.018142738
                        ]
                      },
                      {
                        "learn": [
                          0.007845168495
                        ],
                        "iteration": 206,
                        "passed_time": 5.518652653,
                        "remaining_time": 2.47939467,
                        "test": [
                          0.01807603082
                        ]
                      },
                      {
                        "learn": [
                          0.007790028586
                        ],
                        "iteration": 207,
                        "passed_time": 5.542529728,
                        "remaining_time": 2.451503533,
                        "test": [
                          0.01807173227
                        ]
                      },
                      {
                        "learn": [
                          0.007736523703
                        ],
                        "iteration": 208,
                        "passed_time": 5.567413926,
                        "remaining_time": 2.424089317,
                        "test": [
                          0.01804532192
                        ]
                      },
                      {
                        "learn": [
                          0.007647751154
                        ],
                        "iteration": 209,
                        "passed_time": 5.591590799,
                        "remaining_time": 2.396396057,
                        "test": [
                          0.01803452062
                        ]
                      },
                      {
                        "learn": [
                          0.00759013273
                        ],
                        "iteration": 210,
                        "passed_time": 5.615069062,
                        "remaining_time": 2.368441453,
                        "test": [
                          0.01804144521
                        ]
                      },
                      {
                        "learn": [
                          0.007506538797
                        ],
                        "iteration": 211,
                        "passed_time": 5.639364759,
                        "remaining_time": 2.340868391,
                        "test": [
                          0.01792526012
                        ]
                      },
                      {
                        "learn": [
                          0.007450232011
                        ],
                        "iteration": 212,
                        "passed_time": 5.662674698,
                        "remaining_time": 2.312923468,
                        "test": [
                          0.01786933544
                        ]
                      },
                      {
                        "learn": [
                          0.007408388959
                        ],
                        "iteration": 213,
                        "passed_time": 5.685517412,
                        "remaining_time": 2.2848341,
                        "test": [
                          0.01787891638
                        ]
                      },
                      {
                        "learn": [
                          0.007337508427
                        ],
                        "iteration": 214,
                        "passed_time": 5.708074218,
                        "remaining_time": 2.256680505,
                        "test": [
                          0.01786360877
                        ]
                      },
                      {
                        "learn": [
                          0.007278112665
                        ],
                        "iteration": 215,
                        "passed_time": 5.731053296,
                        "remaining_time": 2.228742949,
                        "test": [
                          0.01778322457
                        ]
                      },
                      {
                        "learn": [
                          0.007221292741
                        ],
                        "iteration": 216,
                        "passed_time": 5.754163694,
                        "remaining_time": 2.200901321,
                        "test": [
                          0.01777183454
                        ]
                      },
                      {
                        "learn": [
                          0.007164783778
                        ],
                        "iteration": 217,
                        "passed_time": 5.778445333,
                        "remaining_time": 2.173543658,
                        "test": [
                          0.01774132048
                        ]
                      },
                      {
                        "learn": [
                          0.007097053045
                        ],
                        "iteration": 218,
                        "passed_time": 5.802517887,
                        "remaining_time": 2.146136753,
                        "test": [
                          0.01772134965
                        ]
                      },
                      {
                        "learn": [
                          0.007032332584
                        ],
                        "iteration": 219,
                        "passed_time": 5.826381778,
                        "remaining_time": 2.118684283,
                        "test": [
                          0.01771090116
                        ]
                      },
                      {
                        "learn": [
                          0.006946003577
                        ],
                        "iteration": 220,
                        "passed_time": 5.851411778,
                        "remaining_time": 2.091681133,
                        "test": [
                          0.01769987435
                        ]
                      },
                      {
                        "learn": [
                          0.006891975654
                        ],
                        "iteration": 221,
                        "passed_time": 5.874380791,
                        "remaining_time": 2.063971629,
                        "test": [
                          0.01767985592
                        ]
                      },
                      {
                        "learn": [
                          0.006828967105
                        ],
                        "iteration": 222,
                        "passed_time": 5.897162503,
                        "remaining_time": 2.036239968,
                        "test": [
                          0.01767817546
                        ]
                      },
                      {
                        "learn": [
                          0.006784206326
                        ],
                        "iteration": 223,
                        "passed_time": 5.919676669,
                        "remaining_time": 2.008461727,
                        "test": [
                          0.01764939822
                        ]
                      },
                      {
                        "learn": [
                          0.006751479123
                        ],
                        "iteration": 224,
                        "passed_time": 5.942185979,
                        "remaining_time": 1.98072866,
                        "test": [
                          0.01765711738
                        ]
                      },
                      {
                        "learn": [
                          0.006689263356
                        ],
                        "iteration": 225,
                        "passed_time": 5.964907016,
                        "remaining_time": 1.953111147,
                        "test": [
                          0.01763878121
                        ]
                      },
                      {
                        "learn": [
                          0.006636602021
                        ],
                        "iteration": 226,
                        "passed_time": 5.987503923,
                        "remaining_time": 1.925496856,
                        "test": [
                          0.0176063921
                        ]
                      },
                      {
                        "learn": [
                          0.006605785361
                        ],
                        "iteration": 227,
                        "passed_time": 6.022637752,
                        "remaining_time": 1.901885606,
                        "test": [
                          0.01754701543
                        ]
                      },
                      {
                        "learn": [
                          0.00656328574
                        ],
                        "iteration": 228,
                        "passed_time": 6.065482595,
                        "remaining_time": 1.880564473,
                        "test": [
                          0.01754500278
                        ]
                      },
                      {
                        "learn": [
                          0.006506201713
                        ],
                        "iteration": 229,
                        "passed_time": 6.088581213,
                        "remaining_time": 1.853046456,
                        "test": [
                          0.01753561819
                        ]
                      },
                      {
                        "learn": [
                          0.006444915734
                        ],
                        "iteration": 230,
                        "passed_time": 6.110790154,
                        "remaining_time": 1.825300955,
                        "test": [
                          0.01752604891
                        ]
                      },
                      {
                        "learn": [
                          0.006409392204
                        ],
                        "iteration": 231,
                        "passed_time": 6.135153477,
                        "remaining_time": 1.79823464,
                        "test": [
                          0.01749975215
                        ]
                      },
                      {
                        "learn": [
                          0.006356110451
                        ],
                        "iteration": 232,
                        "passed_time": 6.157792362,
                        "remaining_time": 1.770695658,
                        "test": [
                          0.01748791315
                        ]
                      },
                      {
                        "learn": [
                          0.006300562641
                        ],
                        "iteration": 233,
                        "passed_time": 6.179979669,
                        "remaining_time": 1.743071189,
                        "test": [
                          0.01744431433
                        ]
                      },
                      {
                        "learn": [
                          0.006247557834
                        ],
                        "iteration": 234,
                        "passed_time": 6.202050095,
                        "remaining_time": 1.715460665,
                        "test": [
                          0.01744685209
                        ]
                      },
                      {
                        "learn": [
                          0.006217045458
                        ],
                        "iteration": 235,
                        "passed_time": 6.224288234,
                        "remaining_time": 1.687942572,
                        "test": [
                          0.01740797885
                        ]
                      },
                      {
                        "learn": [
                          0.006185620177
                        ],
                        "iteration": 236,
                        "passed_time": 6.246322739,
                        "remaining_time": 1.660414905,
                        "test": [
                          0.01740026626
                        ]
                      },
                      {
                        "learn": [
                          0.006147678784
                        ],
                        "iteration": 237,
                        "passed_time": 6.268297394,
                        "remaining_time": 1.632917809,
                        "test": [
                          0.01738281662
                        ]
                      },
                      {
                        "learn": [
                          0.006112360976
                        ],
                        "iteration": 238,
                        "passed_time": 6.290978256,
                        "remaining_time": 1.60564717,
                        "test": [
                          0.0173869864
                        ]
                      },
                      {
                        "learn": [
                          0.006072160756
                        ],
                        "iteration": 239,
                        "passed_time": 6.314634709,
                        "remaining_time": 1.578658677,
                        "test": [
                          0.01737011794
                        ]
                      },
                      {
                        "learn": [
                          0.006032695621
                        ],
                        "iteration": 240,
                        "passed_time": 6.338668299,
                        "remaining_time": 1.551790165,
                        "test": [
                          0.01736356091
                        ]
                      },
                      {
                        "learn": [
                          0.005976425885
                        ],
                        "iteration": 241,
                        "passed_time": 6.363296031,
                        "remaining_time": 1.525087478,
                        "test": [
                          0.0173336386
                        ]
                      },
                      {
                        "learn": [
                          0.005907606282
                        ],
                        "iteration": 242,
                        "passed_time": 6.385802615,
                        "remaining_time": 1.497904317,
                        "test": [
                          0.01731902199
                        ]
                      },
                      {
                        "learn": [
                          0.005854561771
                        ],
                        "iteration": 243,
                        "passed_time": 6.408431578,
                        "remaining_time": 1.470787575,
                        "test": [
                          0.01731574515
                        ]
                      },
                      {
                        "learn": [
                          0.005786473007
                        ],
                        "iteration": 244,
                        "passed_time": 6.43056958,
                        "remaining_time": 1.443597253,
                        "test": [
                          0.01730073212
                        ]
                      },
                      {
                        "learn": [
                          0.00573582272
                        ],
                        "iteration": 245,
                        "passed_time": 6.45272534,
                        "remaining_time": 1.416451904,
                        "test": [
                          0.01729464994
                        ]
                      },
                      {
                        "learn": [
                          0.005705754261
                        ],
                        "iteration": 246,
                        "passed_time": 6.474671664,
                        "remaining_time": 1.389302017,
                        "test": [
                          0.01730919583
                        ]
                      },
                      {
                        "learn": [
                          0.005674789432
                        ],
                        "iteration": 247,
                        "passed_time": 6.497300905,
                        "remaining_time": 1.362337286,
                        "test": [
                          0.01728122661
                        ]
                      },
                      {
                        "learn": [
                          0.005630934437
                        ],
                        "iteration": 248,
                        "passed_time": 6.522453317,
                        "remaining_time": 1.335924173,
                        "test": [
                          0.01727876733
                        ]
                      },
                      {
                        "learn": [
                          0.005581341128
                        ],
                        "iteration": 249,
                        "passed_time": 6.545826658,
                        "remaining_time": 1.309165332,
                        "test": [
                          0.01724071645
                        ]
                      },
                      {
                        "learn": [
                          0.005536600034
                        ],
                        "iteration": 250,
                        "passed_time": 6.567840748,
                        "remaining_time": 1.282168114,
                        "test": [
                          0.0172470387
                        ]
                      },
                      {
                        "learn": [
                          0.005514697064
                        ],
                        "iteration": 251,
                        "passed_time": 6.591356614,
                        "remaining_time": 1.255496498,
                        "test": [
                          0.01724757164
                        ]
                      },
                      {
                        "learn": [
                          0.005466256812
                        ],
                        "iteration": 252,
                        "passed_time": 6.614805146,
                        "remaining_time": 1.22883732,
                        "test": [
                          0.01725865688
                        ]
                      },
                      {
                        "learn": [
                          0.005429258135
                        ],
                        "iteration": 253,
                        "passed_time": 6.63841084,
                        "remaining_time": 1.202231884,
                        "test": [
                          0.01722934882
                        ]
                      },
                      {
                        "learn": [
                          0.005402522711
                        ],
                        "iteration": 254,
                        "passed_time": 6.662353745,
                        "remaining_time": 1.175709484,
                        "test": [
                          0.01722009901
                        ]
                      },
                      {
                        "learn": [
                          0.005379172667
                        ],
                        "iteration": 255,
                        "passed_time": 6.685517664,
                        "remaining_time": 1.149073349,
                        "test": [
                          0.01719411233
                        ]
                      },
                      {
                        "learn": [
                          0.005334139795
                        ],
                        "iteration": 256,
                        "passed_time": 6.707929712,
                        "remaining_time": 1.122338434,
                        "test": [
                          0.01718787531
                        ]
                      },
                      {
                        "learn": [
                          0.005284460482
                        ],
                        "iteration": 257,
                        "passed_time": 6.730600518,
                        "remaining_time": 1.095679154,
                        "test": [
                          0.01715657917
                        ]
                      },
                      {
                        "learn": [
                          0.005244733509
                        ],
                        "iteration": 258,
                        "passed_time": 6.754285945,
                        "remaining_time": 1.069211289,
                        "test": [
                          0.0171164321
                        ]
                      },
                      {
                        "learn": [
                          0.00520832625
                        ],
                        "iteration": 259,
                        "passed_time": 6.777611076,
                        "remaining_time": 1.042709396,
                        "test": [
                          0.01713581889
                        ]
                      },
                      {
                        "learn": [
                          0.005187486882
                        ],
                        "iteration": 260,
                        "passed_time": 6.801744001,
                        "remaining_time": 1.016352552,
                        "test": [
                          0.01712243626
                        ]
                      },
                      {
                        "learn": [
                          0.005157380742
                        ],
                        "iteration": 261,
                        "passed_time": 6.823865873,
                        "remaining_time": 0.9897210045,
                        "test": [
                          0.0171099085
                        ]
                      },
                      {
                        "learn": [
                          0.005128713509
                        ],
                        "iteration": 262,
                        "passed_time": 6.848231557,
                        "remaining_time": 0.9634394205,
                        "test": [
                          0.01709445462
                        ]
                      },
                      {
                        "learn": [
                          0.005093701386
                        ],
                        "iteration": 263,
                        "passed_time": 6.870562343,
                        "remaining_time": 0.9368948649,
                        "test": [
                          0.01708045412
                        ]
                      },
                      {
                        "learn": [
                          0.005069263596
                        ],
                        "iteration": 264,
                        "passed_time": 6.892606368,
                        "remaining_time": 0.9103442373,
                        "test": [
                          0.01708992673
                        ]
                      },
                      {
                        "learn": [
                          0.00502737455
                        ],
                        "iteration": 265,
                        "passed_time": 6.915458367,
                        "remaining_time": 0.8839307687,
                        "test": [
                          0.01709097967
                        ]
                      },
                      {
                        "learn": [
                          0.004982977105
                        ],
                        "iteration": 266,
                        "passed_time": 6.938916516,
                        "remaining_time": 0.8576188953,
                        "test": [
                          0.01701409851
                        ]
                      },
                      {
                        "learn": [
                          0.004942404365
                        ],
                        "iteration": 267,
                        "passed_time": 6.961967658,
                        "remaining_time": 0.8312797204,
                        "test": [
                          0.01702029368
                        ]
                      },
                      {
                        "learn": [
                          0.004919663714
                        ],
                        "iteration": 268,
                        "passed_time": 6.984540117,
                        "remaining_time": 0.8049098276,
                        "test": [
                          0.01700528246
                        ]
                      },
                      {
                        "learn": [
                          0.004895462895
                        ],
                        "iteration": 269,
                        "passed_time": 7.008409829,
                        "remaining_time": 0.7787122032,
                        "test": [
                          0.01699259298
                        ]
                      },
                      {
                        "learn": [
                          0.004858426007
                        ],
                        "iteration": 270,
                        "passed_time": 7.037727889,
                        "remaining_time": 0.7531147925,
                        "test": [
                          0.01699066985
                        ]
                      },
                      {
                        "learn": [
                          0.004835761819
                        ],
                        "iteration": 271,
                        "passed_time": 7.085572104,
                        "remaining_time": 0.7293971284,
                        "test": [
                          0.01697810181
                        ]
                      },
                      {
                        "learn": [
                          0.004800415662
                        ],
                        "iteration": 272,
                        "passed_time": 7.110033759,
                        "remaining_time": 0.703190152,
                        "test": [
                          0.01698253372
                        ]
                      },
                      {
                        "learn": [
                          0.004762158238
                        ],
                        "iteration": 273,
                        "passed_time": 7.134964185,
                        "remaining_time": 0.6770403971,
                        "test": [
                          0.01695555387
                        ]
                      },
                      {
                        "learn": [
                          0.004727095414
                        ],
                        "iteration": 274,
                        "passed_time": 7.157503676,
                        "remaining_time": 0.6506821524,
                        "test": [
                          0.01692602331
                        ]
                      },
                      {
                        "learn": [
                          0.004696954011
                        ],
                        "iteration": 275,
                        "passed_time": 7.17984793,
                        "remaining_time": 0.6243346026,
                        "test": [
                          0.01692197402
                        ]
                      },
                      {
                        "learn": [
                          0.004679257571
                        ],
                        "iteration": 276,
                        "passed_time": 7.202131919,
                        "remaining_time": 0.5980109536,
                        "test": [
                          0.01691338153
                        ]
                      },
                      {
                        "learn": [
                          0.004651302806
                        ],
                        "iteration": 277,
                        "passed_time": 7.224872208,
                        "remaining_time": 0.5717524769,
                        "test": [
                          0.01693450787
                        ]
                      },
                      {
                        "learn": [
                          0.00463403013
                        ],
                        "iteration": 278,
                        "passed_time": 7.248349509,
                        "remaining_time": 0.5455746942,
                        "test": [
                          0.01692607134
                        ]
                      },
                      {
                        "learn": [
                          0.004604651831
                        ],
                        "iteration": 279,
                        "passed_time": 7.270387214,
                        "remaining_time": 0.5193133724,
                        "test": [
                          0.0169421229
                        ]
                      },
                      {
                        "learn": [
                          0.004581597571
                        ],
                        "iteration": 280,
                        "passed_time": 7.29281971,
                        "remaining_time": 0.493108806,
                        "test": [
                          0.01694172687
                        ]
                      },
                      {
                        "learn": [
                          0.004562275973
                        ],
                        "iteration": 281,
                        "passed_time": 7.314745988,
                        "remaining_time": 0.4668986801,
                        "test": [
                          0.01692669088
                        ]
                      },
                      {
                        "learn": [
                          0.004541250664
                        ],
                        "iteration": 282,
                        "passed_time": 7.336728604,
                        "remaining_time": 0.440722213,
                        "test": [
                          0.01692893629
                        ]
                      },
                      {
                        "learn": [
                          0.00452570463
                        ],
                        "iteration": 283,
                        "passed_time": 7.359827334,
                        "remaining_time": 0.4146381596,
                        "test": [
                          0.01689886387
                        ]
                      },
                      {
                        "learn": [
                          0.004508968321
                        ],
                        "iteration": 284,
                        "passed_time": 7.383335084,
                        "remaining_time": 0.3885965834,
                        "test": [
                          0.01689684754
                        ]
                      },
                      {
                        "learn": [
                          0.004492780893
                        ],
                        "iteration": 285,
                        "passed_time": 7.407775475,
                        "remaining_time": 0.3626183799,
                        "test": [
                          0.01689177699
                        ]
                      },
                      {
                        "learn": [
                          0.004467053582
                        ],
                        "iteration": 286,
                        "passed_time": 7.430527025,
                        "remaining_time": 0.3365743949,
                        "test": [
                          0.01690850888
                        ]
                      },
                      {
                        "learn": [
                          0.004440895095
                        ],
                        "iteration": 287,
                        "passed_time": 7.452732049,
                        "remaining_time": 0.310530502,
                        "test": [
                          0.01691294999
                        ]
                      },
                      {
                        "learn": [
                          0.004426068357
                        ],
                        "iteration": 288,
                        "passed_time": 7.475241087,
                        "remaining_time": 0.2845247473,
                        "test": [
                          0.01691468624
                        ]
                      },
                      {
                        "learn": [
                          0.004404134083
                        ],
                        "iteration": 289,
                        "passed_time": 7.499247318,
                        "remaining_time": 0.2585947351,
                        "test": [
                          0.01686689053
                        ]
                      },
                      {
                        "learn": [
                          0.004377156831
                        ],
                        "iteration": 290,
                        "passed_time": 7.523114074,
                        "remaining_time": 0.2326736312,
                        "test": [
                          0.01686696362
                        ]
                      },
                      {
                        "learn": [
                          0.004356923153
                        ],
                        "iteration": 291,
                        "passed_time": 7.545485882,
                        "remaining_time": 0.2067256406,
                        "test": [
                          0.01685737463
                        ]
                      },
                      {
                        "learn": [
                          0.004336327878
                        ],
                        "iteration": 292,
                        "passed_time": 7.56788994,
                        "remaining_time": 0.1808028313,
                        "test": [
                          0.01684738326
                        ]
                      },
                      {
                        "learn": [
                          0.004315688135
                        ],
                        "iteration": 293,
                        "passed_time": 7.590211803,
                        "remaining_time": 0.1549022817,
                        "test": [
                          0.01686812232
                        ]
                      },
                      {
                        "learn": [
                          0.004299817299
                        ],
                        "iteration": 294,
                        "passed_time": 7.61315759,
                        "remaining_time": 0.1290365693,
                        "test": [
                          0.01685480642
                        ]
                      },
                      {
                        "learn": [
                          0.004265507206
                        ],
                        "iteration": 295,
                        "passed_time": 7.636076021,
                        "remaining_time": 0.1031902165,
                        "test": [
                          0.01685941861
                        ]
                      },
                      {
                        "learn": [
                          0.004240372132
                        ],
                        "iteration": 296,
                        "passed_time": 7.661297693,
                        "remaining_time": 0.07738684539,
                        "test": [
                          0.01687421181
                        ]
                      },
                      {
                        "learn": [
                          0.004223886157
                        ],
                        "iteration": 297,
                        "passed_time": 7.686392026,
                        "remaining_time": 0.05158652366,
                        "test": [
                          0.01687085363
                        ]
                      },
                      {
                        "learn": [
                          0.004207096302
                        ],
                        "iteration": 298,
                        "passed_time": 7.710117918,
                        "remaining_time": 0.02578634755,
                        "test": [
                          0.01686888767
                        ]
                      },
                      {
                        "learn": [
                          0.004173894492
                        ],
                        "iteration": 299,
                        "passed_time": 7.733776559,
                        "remaining_time": 0,
                        "test": [
                          0.01686186172
                        ]
                      }
                    ],
                    "meta": {
                      "test_sets": [
                        "test"
                      ],
                      "test_metrics": [
                        {
                          "best_value": "Min",
                          "name": "MultiClass"
                        }
                      ],
                      "learn_metrics": [
                        {
                          "best_value": "Min",
                          "name": "MultiClass"
                        }
                      ],
                      "launch_mode": "Train",
                      "parameters": "",
                      "iteration_count": 300,
                      "learn_sets": [
                        "learn"
                      ],
                      "name": "experiment"
                    }
                  }
                }
              }
            },
            "layout": "IPY_MODEL_a1ba92bb8d6241aab328b60bae35d394"
          }
        }
      }
    }
  },
  "nbformat": 4,
  "nbformat_minor": 5
}