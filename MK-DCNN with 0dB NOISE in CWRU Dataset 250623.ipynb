{
  "cells": [
    {
      "cell_type": "markdown",
      "metadata": {
        "id": "view-in-github",
        "colab_type": "text"
      },
      "source": [
        "<a href=\"https://colab.research.google.com/github/promckkon/MK-DCNN/blob/main/MK-DCNN%20with%200dB%20NOISE%20in%20CWRU%20Dataset%20250623.ipynb\" target=\"_parent\"><img src=\"https://colab.research.google.com/assets/colab-badge.svg\" alt=\"Open In Colab\"/></a>"
      ]
    },
    {
      "cell_type": "code",
      "source": [
        "from google.colab import drive\n",
        "drive.mount('/content/drive')"
      ],
      "metadata": {
        "colab": {
          "base_uri": "https://localhost:8080/"
        },
        "id": "_JTcgOD9s-GR",
        "outputId": "24dccbc5-6283-4b2c-c102-e9457b55831b"
      },
      "id": "_JTcgOD9s-GR",
      "execution_count": 2,
      "outputs": [
        {
          "output_type": "stream",
          "name": "stdout",
          "text": [
            "Drive already mounted at /content/drive; to attempt to forcibly remount, call drive.mount(\"/content/drive\", force_remount=True).\n"
          ]
        }
      ]
    },
    {
      "cell_type": "code",
      "execution_count": 3,
      "id": "1132b641",
      "metadata": {
        "id": "1132b641"
      },
      "outputs": [],
      "source": [
        "import scipy.io\n",
        "import seaborn as sns\n",
        "import numpy as np\n",
        "import pandas as pd\n",
        "import os\n",
        "import matplotlib.pyplot as plt"
      ]
    },
    {
      "cell_type": "markdown",
      "source": [
        "Dataset Input"
      ],
      "metadata": {
        "id": "2haV_hKQQOg-"
      },
      "id": "2haV_hKQQOg-"
    },
    {
      "cell_type": "code",
      "source": [
        "df=pd.DataFrame(columns=['DE_data','fault']) # upload the dataset on googledrive\n",
        "\n",
        "for root, dirs, files in os.walk(\"/content/drive/MyDrive/CWRU_with_NOISE/CWRU_2\", topdown=False):\n",
        "    for file_name in files:\n",
        "        path = os.path.join(root, file_name)\n",
        "        print(path)\n",
        "\n",
        "        mat = scipy.io.loadmat(path)\n",
        "\n",
        "        key_name = list(mat.keys())[3]\n",
        "        DE_data = mat.get(key_name)\n",
        "        fault = np.full((len(DE_data), 1), file_name[:-4])\n",
        "\n",
        "        df_temp = pd.DataFrame({'DE_data':np.ravel(DE_data) , 'fault':np.ravel(fault)})\n",
        "\n",
        "        df = pd.concat([df,df_temp],axis=0)\n",
        "        print(df['fault'].unique())\n",
        "\n",
        "df.to_csv('/content/drive/MyDrive/MK-DCNN CWRU/NOISE_0_faults.csv',index=False)"
      ],
      "metadata": {
        "colab": {
          "base_uri": "https://localhost:8080/"
        },
        "id": "sXzSVyy_ylsF",
        "outputId": "878ab76d-614f-45d3-a5b4-54241fc3a624"
      },
      "id": "sXzSVyy_ylsF",
      "execution_count": 4,
      "outputs": [
        {
          "output_type": "stream",
          "name": "stdout",
          "text": [
            "/content/drive/MyDrive/CWRU_with_NOISE/CWRU_2/Normal_099.mat\n",
            "['Normal_099']\n",
            "/content/drive/MyDrive/CWRU_with_NOISE/CWRU_2/OR021_6_1_240.mat\n",
            "['Normal_099' 'OR021_6_1_240']\n",
            "/content/drive/MyDrive/CWRU_with_NOISE/CWRU_2/IR021_1_215.mat\n",
            "['Normal_099' 'OR021_6_1_240' 'IR021_1_215']\n",
            "/content/drive/MyDrive/CWRU_with_NOISE/CWRU_2/B021_1_228.mat\n",
            "['Normal_099' 'OR021_6_1_240' 'IR021_1_215' 'B021_1_228']\n",
            "/content/drive/MyDrive/CWRU_with_NOISE/CWRU_2/OR014_6_1_203.mat\n",
            "['Normal_099' 'OR021_6_1_240' 'IR021_1_215' 'B021_1_228' 'OR014_6_1_203']\n",
            "/content/drive/MyDrive/CWRU_with_NOISE/CWRU_2/B014_1_191.mat\n",
            "['Normal_099' 'OR021_6_1_240' 'IR021_1_215' 'B021_1_228' 'OR014_6_1_203'\n",
            " 'B014_1_191']\n",
            "/content/drive/MyDrive/CWRU_with_NOISE/CWRU_2/OR007_6_1_137.mat\n",
            "['Normal_099' 'OR021_6_1_240' 'IR021_1_215' 'B021_1_228' 'OR014_6_1_203'\n",
            " 'B014_1_191' 'OR007_6_1_137']\n",
            "/content/drive/MyDrive/CWRU_with_NOISE/CWRU_2/B007_1_124.mat\n",
            "['Normal_099' 'OR021_6_1_240' 'IR021_1_215' 'B021_1_228' 'OR014_6_1_203'\n",
            " 'B014_1_191' 'OR007_6_1_137' 'B007_1_124']\n",
            "/content/drive/MyDrive/CWRU_with_NOISE/CWRU_2/IR007_1_111.mat\n",
            "['Normal_099' 'OR021_6_1_240' 'IR021_1_215' 'B021_1_228' 'OR014_6_1_203'\n",
            " 'B014_1_191' 'OR007_6_1_137' 'B007_1_124' 'IR007_1_111']\n",
            "/content/drive/MyDrive/CWRU_with_NOISE/CWRU_2/IR014_1_176.mat\n",
            "['Normal_099' 'OR021_6_1_240' 'IR021_1_215' 'B021_1_228' 'OR014_6_1_203'\n",
            " 'B014_1_191' 'OR007_6_1_137' 'B007_1_124' 'IR007_1_111' 'IR014_1_176']\n"
          ]
        }
      ]
    },
    {
      "cell_type": "markdown",
      "source": [
        "# Multi-Kernel Deep 1D-CNN"
      ],
      "metadata": {
        "id": "2d0arbB2knS8"
      },
      "id": "2d0arbB2knS8"
    },
    {
      "cell_type": "code",
      "source": [
        "pip install tensorflow"
      ],
      "metadata": {
        "colab": {
          "base_uri": "https://localhost:8080/"
        },
        "id": "-dsJA9B5YVAW",
        "outputId": "efb3e381-0d49-47cd-fc6d-f37c4117e2cf"
      },
      "id": "-dsJA9B5YVAW",
      "execution_count": 5,
      "outputs": [
        {
          "output_type": "stream",
          "name": "stdout",
          "text": [
            "Requirement already satisfied: tensorflow in /usr/local/lib/python3.11/dist-packages (2.18.0)\n",
            "Requirement already satisfied: absl-py>=1.0.0 in /usr/local/lib/python3.11/dist-packages (from tensorflow) (1.4.0)\n",
            "Requirement already satisfied: astunparse>=1.6.0 in /usr/local/lib/python3.11/dist-packages (from tensorflow) (1.6.3)\n",
            "Requirement already satisfied: flatbuffers>=24.3.25 in /usr/local/lib/python3.11/dist-packages (from tensorflow) (25.2.10)\n",
            "Requirement already satisfied: gast!=0.5.0,!=0.5.1,!=0.5.2,>=0.2.1 in /usr/local/lib/python3.11/dist-packages (from tensorflow) (0.6.0)\n",
            "Requirement already satisfied: google-pasta>=0.1.1 in /usr/local/lib/python3.11/dist-packages (from tensorflow) (0.2.0)\n",
            "Requirement already satisfied: libclang>=13.0.0 in /usr/local/lib/python3.11/dist-packages (from tensorflow) (18.1.1)\n",
            "Requirement already satisfied: opt-einsum>=2.3.2 in /usr/local/lib/python3.11/dist-packages (from tensorflow) (3.4.0)\n",
            "Requirement already satisfied: packaging in /usr/local/lib/python3.11/dist-packages (from tensorflow) (24.2)\n",
            "Requirement already satisfied: protobuf!=4.21.0,!=4.21.1,!=4.21.2,!=4.21.3,!=4.21.4,!=4.21.5,<6.0.0dev,>=3.20.3 in /usr/local/lib/python3.11/dist-packages (from tensorflow) (5.29.5)\n",
            "Requirement already satisfied: requests<3,>=2.21.0 in /usr/local/lib/python3.11/dist-packages (from tensorflow) (2.32.3)\n",
            "Requirement already satisfied: setuptools in /usr/local/lib/python3.11/dist-packages (from tensorflow) (75.2.0)\n",
            "Requirement already satisfied: six>=1.12.0 in /usr/local/lib/python3.11/dist-packages (from tensorflow) (1.17.0)\n",
            "Requirement already satisfied: termcolor>=1.1.0 in /usr/local/lib/python3.11/dist-packages (from tensorflow) (3.1.0)\n",
            "Requirement already satisfied: typing-extensions>=3.6.6 in /usr/local/lib/python3.11/dist-packages (from tensorflow) (4.14.0)\n",
            "Requirement already satisfied: wrapt>=1.11.0 in /usr/local/lib/python3.11/dist-packages (from tensorflow) (1.17.2)\n",
            "Requirement already satisfied: grpcio<2.0,>=1.24.3 in /usr/local/lib/python3.11/dist-packages (from tensorflow) (1.73.0)\n",
            "Requirement already satisfied: tensorboard<2.19,>=2.18 in /usr/local/lib/python3.11/dist-packages (from tensorflow) (2.18.0)\n",
            "Requirement already satisfied: keras>=3.5.0 in /usr/local/lib/python3.11/dist-packages (from tensorflow) (3.8.0)\n",
            "Requirement already satisfied: numpy<2.1.0,>=1.26.0 in /usr/local/lib/python3.11/dist-packages (from tensorflow) (2.0.2)\n",
            "Requirement already satisfied: h5py>=3.11.0 in /usr/local/lib/python3.11/dist-packages (from tensorflow) (3.14.0)\n",
            "Requirement already satisfied: ml-dtypes<0.5.0,>=0.4.0 in /usr/local/lib/python3.11/dist-packages (from tensorflow) (0.4.1)\n",
            "Requirement already satisfied: tensorflow-io-gcs-filesystem>=0.23.1 in /usr/local/lib/python3.11/dist-packages (from tensorflow) (0.37.1)\n",
            "Requirement already satisfied: wheel<1.0,>=0.23.0 in /usr/local/lib/python3.11/dist-packages (from astunparse>=1.6.0->tensorflow) (0.45.1)\n",
            "Requirement already satisfied: rich in /usr/local/lib/python3.11/dist-packages (from keras>=3.5.0->tensorflow) (13.9.4)\n",
            "Requirement already satisfied: namex in /usr/local/lib/python3.11/dist-packages (from keras>=3.5.0->tensorflow) (0.1.0)\n",
            "Requirement already satisfied: optree in /usr/local/lib/python3.11/dist-packages (from keras>=3.5.0->tensorflow) (0.16.0)\n",
            "Requirement already satisfied: charset-normalizer<4,>=2 in /usr/local/lib/python3.11/dist-packages (from requests<3,>=2.21.0->tensorflow) (3.4.2)\n",
            "Requirement already satisfied: idna<4,>=2.5 in /usr/local/lib/python3.11/dist-packages (from requests<3,>=2.21.0->tensorflow) (3.10)\n",
            "Requirement already satisfied: urllib3<3,>=1.21.1 in /usr/local/lib/python3.11/dist-packages (from requests<3,>=2.21.0->tensorflow) (2.4.0)\n",
            "Requirement already satisfied: certifi>=2017.4.17 in /usr/local/lib/python3.11/dist-packages (from requests<3,>=2.21.0->tensorflow) (2025.6.15)\n",
            "Requirement already satisfied: markdown>=2.6.8 in /usr/local/lib/python3.11/dist-packages (from tensorboard<2.19,>=2.18->tensorflow) (3.8)\n",
            "Requirement already satisfied: tensorboard-data-server<0.8.0,>=0.7.0 in /usr/local/lib/python3.11/dist-packages (from tensorboard<2.19,>=2.18->tensorflow) (0.7.2)\n",
            "Requirement already satisfied: werkzeug>=1.0.1 in /usr/local/lib/python3.11/dist-packages (from tensorboard<2.19,>=2.18->tensorflow) (3.1.3)\n",
            "Requirement already satisfied: MarkupSafe>=2.1.1 in /usr/local/lib/python3.11/dist-packages (from werkzeug>=1.0.1->tensorboard<2.19,>=2.18->tensorflow) (3.0.2)\n",
            "Requirement already satisfied: markdown-it-py>=2.2.0 in /usr/local/lib/python3.11/dist-packages (from rich->keras>=3.5.0->tensorflow) (3.0.0)\n",
            "Requirement already satisfied: pygments<3.0.0,>=2.13.0 in /usr/local/lib/python3.11/dist-packages (from rich->keras>=3.5.0->tensorflow) (2.19.1)\n",
            "Requirement already satisfied: mdurl~=0.1 in /usr/local/lib/python3.11/dist-packages (from markdown-it-py>=2.2.0->rich->keras>=3.5.0->tensorflow) (0.1.2)\n"
          ]
        }
      ]
    },
    {
      "cell_type": "code",
      "source": [
        "from sklearn.preprocessing import LabelEncoder\n",
        "from tensorflow.keras.utils import to_categorical\n",
        "\n",
        "\n",
        "# Total target rows\n",
        "TARGET_ROWS = 1800\n",
        "\n",
        "# Estimate the total number of samples across all fault types\n",
        "total_samples = sum(len(df[df['fault'] == f]) for f in df['fault'].unique())\n",
        "\n",
        "# Calculate suitable window size and stride\n",
        "num_faults = 9\n",
        "average_samples_per_fault = total_samples / num_faults\n",
        "approx_windows_per_fault = TARGET_ROWS / num_faults\n",
        "stride_ratio = 0.8  # Initial stride/window ratio\n",
        "\n",
        "win_len = int(average_samples_per_fault / approx_windows_per_fault)\n",
        "stride = int(win_len * stride_ratio)\n",
        "\n",
        "X=[]\n",
        "Y=[]\n",
        "\n",
        "\n",
        "for k in df['fault'].unique():\n",
        "\n",
        "    df_temp_2 = df[df['fault']==k]\n",
        "\n",
        "    for i in np.arange(0,len(df_temp_2)-(win_len),stride):\n",
        "        temp = df_temp_2.iloc[i:i+win_len,:-1].values\n",
        "        temp = temp.reshape((1,-1))\n",
        "        X.append(temp)\n",
        "        Y.append(df_temp_2.iloc[i+win_len,-1])\n",
        "\n",
        "X=np.array(X)\n",
        "X=X.reshape((X.shape[0],-1,1))\n",
        "#X = np.repeat(X, 3, axis=3) # To repeat into 3 chanel format\n",
        "\n",
        "\n",
        "Y=np.array(Y)\n",
        "encoder= LabelEncoder()\n",
        "encoder.fit(Y)\n",
        "encoded_Y = encoder.transform(Y)\n",
        "OHE_Y = to_categorical(encoded_Y)"
      ],
      "metadata": {
        "id": "5s5vUXrUM2BH"
      },
      "id": "5s5vUXrUM2BH",
      "execution_count": 6,
      "outputs": []
    },
    {
      "cell_type": "code",
      "source": [
        "from sklearn.model_selection import train_test_split\n",
        "X_train,X_test,y_train,y_test = train_test_split(X,OHE_Y,test_size=0.3,shuffle=True)"
      ],
      "metadata": {
        "id": "PreHyG2yMkTA"
      },
      "id": "PreHyG2yMkTA",
      "execution_count": 7,
      "outputs": []
    },
    {
      "cell_type": "code",
      "source": [
        "import tensorflow as tf\n",
        "from tensorflow.keras.models import Model\n",
        "from tensorflow.keras.layers import Input, Dense, Dropout, Flatten, Conv1D, MaxPooling1D, concatenate\n",
        "from tensorflow.keras import backend as K\n",
        "\n",
        "# --- Custom Physics-Informed Loss Function ---\n",
        "def custom_loss(y_true, y_pred):\n",
        "    # Standard categorical crossentropy\n",
        "    loss = K.categorical_crossentropy(y_true, y_pred)\n",
        "\n",
        "    # Physics-Informed Term: penalize rapid class probability changes\n",
        "    # Ensure y_pred is at least 2D for slicing\n",
        "    if K.ndim(y_pred) < 2:\n",
        "        y_pred = K.expand_dims(y_pred, axis=-1)\n",
        "\n",
        "    # Ensure y_pred has more than one class dimension to compute diff\n",
        "    if K.int_shape(y_pred)[-1] > 1:\n",
        "        diff = y_pred[:, 1:] - y_pred[:, :-1]\n",
        "        squared_diff = tf.square(diff)\n",
        "        physics_term = tf.reduce_mean(squared_diff)\n",
        "    else:\n",
        "        physics_term = 0.0 # No physics term if only one class\n",
        "\n",
        "\n",
        "    # Total loss = classification loss + regularization term\n",
        "    total_loss = loss + 0.01 * physics_term  # 0.01 is tunable\n",
        "\n",
        "    return total_loss\n",
        "\n",
        "# --- Model Definition ---\n",
        "# no_classes = len(df['fault'].unique()) # Original line that caused 10 classes\n",
        "no_classes = len(encoder.classes_) # Use the encoder to get the correct number of classes\n",
        "print(f\"Number of output classes (no_classes): {no_classes}\") # Add print statement to verify\n",
        "\n",
        "input_shape = (X.shape[1], X.shape[2])  # Example: (784, 1)\n",
        "\n",
        "# Head 1\n",
        "inputs1 = Input(shape=input_shape)\n",
        "conv1 = Conv1D(filters=64, kernel_size=200, activation='relu')(inputs1)\n",
        "drop1 = Dropout(0.5)(conv1)\n",
        "pool1 = MaxPooling1D(pool_size=20)(drop1)\n",
        "flat1 = Flatten()(pool1)\n",
        "\n",
        "# Head 2\n",
        "inputs2 = Input(shape=input_shape)\n",
        "conv2 = Conv1D(filters=64, kernel_size=100, activation='relu')(inputs2)\n",
        "drop2 = Dropout(0.5)(conv2)\n",
        "pool2 = MaxPooling1D(pool_size=10)(drop2)\n",
        "flat2 = Flatten()(pool2)\n",
        "\n",
        "# Head 3\n",
        "inputs3 = Input(shape=input_shape)\n",
        "conv3 = Conv1D(filters=64, kernel_size=50, activation='relu')(inputs3)\n",
        "drop3 = Dropout(0.5)(conv3)\n",
        "pool3 = MaxPooling1D(pool_size=5)(drop3)\n",
        "flat3 = Flatten()(pool3)\n",
        "\n",
        "# Merge all feature paths\n",
        "merged = concatenate([flat1, flat2, flat3])\n",
        "\n",
        "# Fully connected interpretation\n",
        "dense1 = Dense(100, activation='relu')(merged)\n",
        "outputs = Dense(no_classes, activation='softmax')(dense1)\n",
        "\n",
        "# Build and compile model with custom loss\n",
        "cnn_model = Model(inputs=[inputs1, inputs2, inputs3], outputs=outputs)\n",
        "cnn_model.compile(optimizer='adam', loss=custom_loss, metrics=['accuracy'])\n",
        "\n",
        "# Model summary\n",
        "cnn_model.summary()"
      ],
      "metadata": {
        "colab": {
          "base_uri": "https://localhost:8080/",
          "height": 863
        },
        "id": "kB3uGh-8J7no",
        "outputId": "9fa4f4f7-9a39-4f6c-ef96-0a1d0813a9f8"
      },
      "id": "kB3uGh-8J7no",
      "execution_count": 8,
      "outputs": [
        {
          "output_type": "stream",
          "name": "stdout",
          "text": [
            "Number of output classes (no_classes): 9\n"
          ]
        },
        {
          "output_type": "display_data",
          "data": {
            "text/plain": [
              "\u001b[1mModel: \"functional\"\u001b[0m\n"
            ],
            "text/html": [
              "<pre style=\"white-space:pre;overflow-x:auto;line-height:normal;font-family:Menlo,'DejaVu Sans Mono',consolas,'Courier New',monospace\"><span style=\"font-weight: bold\">Model: \"functional\"</span>\n",
              "</pre>\n"
            ]
          },
          "metadata": {}
        },
        {
          "output_type": "display_data",
          "data": {
            "text/plain": [
              "┏━━━━━━━━━━━━━━━━━━━━━┳━━━━━━━━━━━━━━━━━━━┳━━━━━━━━━━━━┳━━━━━━━━━━━━━━━━━━━┓\n",
              "┃\u001b[1m \u001b[0m\u001b[1mLayer (type)       \u001b[0m\u001b[1m \u001b[0m┃\u001b[1m \u001b[0m\u001b[1mOutput Shape     \u001b[0m\u001b[1m \u001b[0m┃\u001b[1m \u001b[0m\u001b[1m   Param #\u001b[0m\u001b[1m \u001b[0m┃\u001b[1m \u001b[0m\u001b[1mConnected to     \u001b[0m\u001b[1m \u001b[0m┃\n",
              "┡━━━━━━━━━━━━━━━━━━━━━╇━━━━━━━━━━━━━━━━━━━╇━━━━━━━━━━━━╇━━━━━━━━━━━━━━━━━━━┩\n",
              "│ input_layer         │ (\u001b[38;5;45mNone\u001b[0m, \u001b[38;5;34m2437\u001b[0m, \u001b[38;5;34m1\u001b[0m)   │          \u001b[38;5;34m0\u001b[0m │ -                 │\n",
              "│ (\u001b[38;5;33mInputLayer\u001b[0m)        │                   │            │                   │\n",
              "├─────────────────────┼───────────────────┼────────────┼───────────────────┤\n",
              "│ input_layer_1       │ (\u001b[38;5;45mNone\u001b[0m, \u001b[38;5;34m2437\u001b[0m, \u001b[38;5;34m1\u001b[0m)   │          \u001b[38;5;34m0\u001b[0m │ -                 │\n",
              "│ (\u001b[38;5;33mInputLayer\u001b[0m)        │                   │            │                   │\n",
              "├─────────────────────┼───────────────────┼────────────┼───────────────────┤\n",
              "│ input_layer_2       │ (\u001b[38;5;45mNone\u001b[0m, \u001b[38;5;34m2437\u001b[0m, \u001b[38;5;34m1\u001b[0m)   │          \u001b[38;5;34m0\u001b[0m │ -                 │\n",
              "│ (\u001b[38;5;33mInputLayer\u001b[0m)        │                   │            │                   │\n",
              "├─────────────────────┼───────────────────┼────────────┼───────────────────┤\n",
              "│ conv1d (\u001b[38;5;33mConv1D\u001b[0m)     │ (\u001b[38;5;45mNone\u001b[0m, \u001b[38;5;34m2238\u001b[0m, \u001b[38;5;34m64\u001b[0m)  │     \u001b[38;5;34m12,864\u001b[0m │ input_layer[\u001b[38;5;34m0\u001b[0m][\u001b[38;5;34m0\u001b[0m] │\n",
              "├─────────────────────┼───────────────────┼────────────┼───────────────────┤\n",
              "│ conv1d_1 (\u001b[38;5;33mConv1D\u001b[0m)   │ (\u001b[38;5;45mNone\u001b[0m, \u001b[38;5;34m2338\u001b[0m, \u001b[38;5;34m64\u001b[0m)  │      \u001b[38;5;34m6,464\u001b[0m │ input_layer_1[\u001b[38;5;34m0\u001b[0m]… │\n",
              "├─────────────────────┼───────────────────┼────────────┼───────────────────┤\n",
              "│ conv1d_2 (\u001b[38;5;33mConv1D\u001b[0m)   │ (\u001b[38;5;45mNone\u001b[0m, \u001b[38;5;34m2388\u001b[0m, \u001b[38;5;34m64\u001b[0m)  │      \u001b[38;5;34m3,264\u001b[0m │ input_layer_2[\u001b[38;5;34m0\u001b[0m]… │\n",
              "├─────────────────────┼───────────────────┼────────────┼───────────────────┤\n",
              "│ dropout (\u001b[38;5;33mDropout\u001b[0m)   │ (\u001b[38;5;45mNone\u001b[0m, \u001b[38;5;34m2238\u001b[0m, \u001b[38;5;34m64\u001b[0m)  │          \u001b[38;5;34m0\u001b[0m │ conv1d[\u001b[38;5;34m0\u001b[0m][\u001b[38;5;34m0\u001b[0m]      │\n",
              "├─────────────────────┼───────────────────┼────────────┼───────────────────┤\n",
              "│ dropout_1 (\u001b[38;5;33mDropout\u001b[0m) │ (\u001b[38;5;45mNone\u001b[0m, \u001b[38;5;34m2338\u001b[0m, \u001b[38;5;34m64\u001b[0m)  │          \u001b[38;5;34m0\u001b[0m │ conv1d_1[\u001b[38;5;34m0\u001b[0m][\u001b[38;5;34m0\u001b[0m]    │\n",
              "├─────────────────────┼───────────────────┼────────────┼───────────────────┤\n",
              "│ dropout_2 (\u001b[38;5;33mDropout\u001b[0m) │ (\u001b[38;5;45mNone\u001b[0m, \u001b[38;5;34m2388\u001b[0m, \u001b[38;5;34m64\u001b[0m)  │          \u001b[38;5;34m0\u001b[0m │ conv1d_2[\u001b[38;5;34m0\u001b[0m][\u001b[38;5;34m0\u001b[0m]    │\n",
              "├─────────────────────┼───────────────────┼────────────┼───────────────────┤\n",
              "│ max_pooling1d       │ (\u001b[38;5;45mNone\u001b[0m, \u001b[38;5;34m111\u001b[0m, \u001b[38;5;34m64\u001b[0m)   │          \u001b[38;5;34m0\u001b[0m │ dropout[\u001b[38;5;34m0\u001b[0m][\u001b[38;5;34m0\u001b[0m]     │\n",
              "│ (\u001b[38;5;33mMaxPooling1D\u001b[0m)      │                   │            │                   │\n",
              "├─────────────────────┼───────────────────┼────────────┼───────────────────┤\n",
              "│ max_pooling1d_1     │ (\u001b[38;5;45mNone\u001b[0m, \u001b[38;5;34m233\u001b[0m, \u001b[38;5;34m64\u001b[0m)   │          \u001b[38;5;34m0\u001b[0m │ dropout_1[\u001b[38;5;34m0\u001b[0m][\u001b[38;5;34m0\u001b[0m]   │\n",
              "│ (\u001b[38;5;33mMaxPooling1D\u001b[0m)      │                   │            │                   │\n",
              "├─────────────────────┼───────────────────┼────────────┼───────────────────┤\n",
              "│ max_pooling1d_2     │ (\u001b[38;5;45mNone\u001b[0m, \u001b[38;5;34m477\u001b[0m, \u001b[38;5;34m64\u001b[0m)   │          \u001b[38;5;34m0\u001b[0m │ dropout_2[\u001b[38;5;34m0\u001b[0m][\u001b[38;5;34m0\u001b[0m]   │\n",
              "│ (\u001b[38;5;33mMaxPooling1D\u001b[0m)      │                   │            │                   │\n",
              "├─────────────────────┼───────────────────┼────────────┼───────────────────┤\n",
              "│ flatten (\u001b[38;5;33mFlatten\u001b[0m)   │ (\u001b[38;5;45mNone\u001b[0m, \u001b[38;5;34m7104\u001b[0m)      │          \u001b[38;5;34m0\u001b[0m │ max_pooling1d[\u001b[38;5;34m0\u001b[0m]… │\n",
              "├─────────────────────┼───────────────────┼────────────┼───────────────────┤\n",
              "│ flatten_1 (\u001b[38;5;33mFlatten\u001b[0m) │ (\u001b[38;5;45mNone\u001b[0m, \u001b[38;5;34m14912\u001b[0m)     │          \u001b[38;5;34m0\u001b[0m │ max_pooling1d_1[\u001b[38;5;34m…\u001b[0m │\n",
              "├─────────────────────┼───────────────────┼────────────┼───────────────────┤\n",
              "│ flatten_2 (\u001b[38;5;33mFlatten\u001b[0m) │ (\u001b[38;5;45mNone\u001b[0m, \u001b[38;5;34m30528\u001b[0m)     │          \u001b[38;5;34m0\u001b[0m │ max_pooling1d_2[\u001b[38;5;34m…\u001b[0m │\n",
              "├─────────────────────┼───────────────────┼────────────┼───────────────────┤\n",
              "│ concatenate         │ (\u001b[38;5;45mNone\u001b[0m, \u001b[38;5;34m52544\u001b[0m)     │          \u001b[38;5;34m0\u001b[0m │ flatten[\u001b[38;5;34m0\u001b[0m][\u001b[38;5;34m0\u001b[0m],    │\n",
              "│ (\u001b[38;5;33mConcatenate\u001b[0m)       │                   │            │ flatten_1[\u001b[38;5;34m0\u001b[0m][\u001b[38;5;34m0\u001b[0m],  │\n",
              "│                     │                   │            │ flatten_2[\u001b[38;5;34m0\u001b[0m][\u001b[38;5;34m0\u001b[0m]   │\n",
              "├─────────────────────┼───────────────────┼────────────┼───────────────────┤\n",
              "│ dense (\u001b[38;5;33mDense\u001b[0m)       │ (\u001b[38;5;45mNone\u001b[0m, \u001b[38;5;34m100\u001b[0m)       │  \u001b[38;5;34m5,254,500\u001b[0m │ concatenate[\u001b[38;5;34m0\u001b[0m][\u001b[38;5;34m0\u001b[0m] │\n",
              "├─────────────────────┼───────────────────┼────────────┼───────────────────┤\n",
              "│ dense_1 (\u001b[38;5;33mDense\u001b[0m)     │ (\u001b[38;5;45mNone\u001b[0m, \u001b[38;5;34m9\u001b[0m)         │        \u001b[38;5;34m909\u001b[0m │ dense[\u001b[38;5;34m0\u001b[0m][\u001b[38;5;34m0\u001b[0m]       │\n",
              "└─────────────────────┴───────────────────┴────────────┴───────────────────┘\n"
            ],
            "text/html": [
              "<pre style=\"white-space:pre;overflow-x:auto;line-height:normal;font-family:Menlo,'DejaVu Sans Mono',consolas,'Courier New',monospace\">┏━━━━━━━━━━━━━━━━━━━━━┳━━━━━━━━━━━━━━━━━━━┳━━━━━━━━━━━━┳━━━━━━━━━━━━━━━━━━━┓\n",
              "┃<span style=\"font-weight: bold\"> Layer (type)        </span>┃<span style=\"font-weight: bold\"> Output Shape      </span>┃<span style=\"font-weight: bold\">    Param # </span>┃<span style=\"font-weight: bold\"> Connected to      </span>┃\n",
              "┡━━━━━━━━━━━━━━━━━━━━━╇━━━━━━━━━━━━━━━━━━━╇━━━━━━━━━━━━╇━━━━━━━━━━━━━━━━━━━┩\n",
              "│ input_layer         │ (<span style=\"color: #00d7ff; text-decoration-color: #00d7ff\">None</span>, <span style=\"color: #00af00; text-decoration-color: #00af00\">2437</span>, <span style=\"color: #00af00; text-decoration-color: #00af00\">1</span>)   │          <span style=\"color: #00af00; text-decoration-color: #00af00\">0</span> │ -                 │\n",
              "│ (<span style=\"color: #0087ff; text-decoration-color: #0087ff\">InputLayer</span>)        │                   │            │                   │\n",
              "├─────────────────────┼───────────────────┼────────────┼───────────────────┤\n",
              "│ input_layer_1       │ (<span style=\"color: #00d7ff; text-decoration-color: #00d7ff\">None</span>, <span style=\"color: #00af00; text-decoration-color: #00af00\">2437</span>, <span style=\"color: #00af00; text-decoration-color: #00af00\">1</span>)   │          <span style=\"color: #00af00; text-decoration-color: #00af00\">0</span> │ -                 │\n",
              "│ (<span style=\"color: #0087ff; text-decoration-color: #0087ff\">InputLayer</span>)        │                   │            │                   │\n",
              "├─────────────────────┼───────────────────┼────────────┼───────────────────┤\n",
              "│ input_layer_2       │ (<span style=\"color: #00d7ff; text-decoration-color: #00d7ff\">None</span>, <span style=\"color: #00af00; text-decoration-color: #00af00\">2437</span>, <span style=\"color: #00af00; text-decoration-color: #00af00\">1</span>)   │          <span style=\"color: #00af00; text-decoration-color: #00af00\">0</span> │ -                 │\n",
              "│ (<span style=\"color: #0087ff; text-decoration-color: #0087ff\">InputLayer</span>)        │                   │            │                   │\n",
              "├─────────────────────┼───────────────────┼────────────┼───────────────────┤\n",
              "│ conv1d (<span style=\"color: #0087ff; text-decoration-color: #0087ff\">Conv1D</span>)     │ (<span style=\"color: #00d7ff; text-decoration-color: #00d7ff\">None</span>, <span style=\"color: #00af00; text-decoration-color: #00af00\">2238</span>, <span style=\"color: #00af00; text-decoration-color: #00af00\">64</span>)  │     <span style=\"color: #00af00; text-decoration-color: #00af00\">12,864</span> │ input_layer[<span style=\"color: #00af00; text-decoration-color: #00af00\">0</span>][<span style=\"color: #00af00; text-decoration-color: #00af00\">0</span>] │\n",
              "├─────────────────────┼───────────────────┼────────────┼───────────────────┤\n",
              "│ conv1d_1 (<span style=\"color: #0087ff; text-decoration-color: #0087ff\">Conv1D</span>)   │ (<span style=\"color: #00d7ff; text-decoration-color: #00d7ff\">None</span>, <span style=\"color: #00af00; text-decoration-color: #00af00\">2338</span>, <span style=\"color: #00af00; text-decoration-color: #00af00\">64</span>)  │      <span style=\"color: #00af00; text-decoration-color: #00af00\">6,464</span> │ input_layer_1[<span style=\"color: #00af00; text-decoration-color: #00af00\">0</span>]… │\n",
              "├─────────────────────┼───────────────────┼────────────┼───────────────────┤\n",
              "│ conv1d_2 (<span style=\"color: #0087ff; text-decoration-color: #0087ff\">Conv1D</span>)   │ (<span style=\"color: #00d7ff; text-decoration-color: #00d7ff\">None</span>, <span style=\"color: #00af00; text-decoration-color: #00af00\">2388</span>, <span style=\"color: #00af00; text-decoration-color: #00af00\">64</span>)  │      <span style=\"color: #00af00; text-decoration-color: #00af00\">3,264</span> │ input_layer_2[<span style=\"color: #00af00; text-decoration-color: #00af00\">0</span>]… │\n",
              "├─────────────────────┼───────────────────┼────────────┼───────────────────┤\n",
              "│ dropout (<span style=\"color: #0087ff; text-decoration-color: #0087ff\">Dropout</span>)   │ (<span style=\"color: #00d7ff; text-decoration-color: #00d7ff\">None</span>, <span style=\"color: #00af00; text-decoration-color: #00af00\">2238</span>, <span style=\"color: #00af00; text-decoration-color: #00af00\">64</span>)  │          <span style=\"color: #00af00; text-decoration-color: #00af00\">0</span> │ conv1d[<span style=\"color: #00af00; text-decoration-color: #00af00\">0</span>][<span style=\"color: #00af00; text-decoration-color: #00af00\">0</span>]      │\n",
              "├─────────────────────┼───────────────────┼────────────┼───────────────────┤\n",
              "│ dropout_1 (<span style=\"color: #0087ff; text-decoration-color: #0087ff\">Dropout</span>) │ (<span style=\"color: #00d7ff; text-decoration-color: #00d7ff\">None</span>, <span style=\"color: #00af00; text-decoration-color: #00af00\">2338</span>, <span style=\"color: #00af00; text-decoration-color: #00af00\">64</span>)  │          <span style=\"color: #00af00; text-decoration-color: #00af00\">0</span> │ conv1d_1[<span style=\"color: #00af00; text-decoration-color: #00af00\">0</span>][<span style=\"color: #00af00; text-decoration-color: #00af00\">0</span>]    │\n",
              "├─────────────────────┼───────────────────┼────────────┼───────────────────┤\n",
              "│ dropout_2 (<span style=\"color: #0087ff; text-decoration-color: #0087ff\">Dropout</span>) │ (<span style=\"color: #00d7ff; text-decoration-color: #00d7ff\">None</span>, <span style=\"color: #00af00; text-decoration-color: #00af00\">2388</span>, <span style=\"color: #00af00; text-decoration-color: #00af00\">64</span>)  │          <span style=\"color: #00af00; text-decoration-color: #00af00\">0</span> │ conv1d_2[<span style=\"color: #00af00; text-decoration-color: #00af00\">0</span>][<span style=\"color: #00af00; text-decoration-color: #00af00\">0</span>]    │\n",
              "├─────────────────────┼───────────────────┼────────────┼───────────────────┤\n",
              "│ max_pooling1d       │ (<span style=\"color: #00d7ff; text-decoration-color: #00d7ff\">None</span>, <span style=\"color: #00af00; text-decoration-color: #00af00\">111</span>, <span style=\"color: #00af00; text-decoration-color: #00af00\">64</span>)   │          <span style=\"color: #00af00; text-decoration-color: #00af00\">0</span> │ dropout[<span style=\"color: #00af00; text-decoration-color: #00af00\">0</span>][<span style=\"color: #00af00; text-decoration-color: #00af00\">0</span>]     │\n",
              "│ (<span style=\"color: #0087ff; text-decoration-color: #0087ff\">MaxPooling1D</span>)      │                   │            │                   │\n",
              "├─────────────────────┼───────────────────┼────────────┼───────────────────┤\n",
              "│ max_pooling1d_1     │ (<span style=\"color: #00d7ff; text-decoration-color: #00d7ff\">None</span>, <span style=\"color: #00af00; text-decoration-color: #00af00\">233</span>, <span style=\"color: #00af00; text-decoration-color: #00af00\">64</span>)   │          <span style=\"color: #00af00; text-decoration-color: #00af00\">0</span> │ dropout_1[<span style=\"color: #00af00; text-decoration-color: #00af00\">0</span>][<span style=\"color: #00af00; text-decoration-color: #00af00\">0</span>]   │\n",
              "│ (<span style=\"color: #0087ff; text-decoration-color: #0087ff\">MaxPooling1D</span>)      │                   │            │                   │\n",
              "├─────────────────────┼───────────────────┼────────────┼───────────────────┤\n",
              "│ max_pooling1d_2     │ (<span style=\"color: #00d7ff; text-decoration-color: #00d7ff\">None</span>, <span style=\"color: #00af00; text-decoration-color: #00af00\">477</span>, <span style=\"color: #00af00; text-decoration-color: #00af00\">64</span>)   │          <span style=\"color: #00af00; text-decoration-color: #00af00\">0</span> │ dropout_2[<span style=\"color: #00af00; text-decoration-color: #00af00\">0</span>][<span style=\"color: #00af00; text-decoration-color: #00af00\">0</span>]   │\n",
              "│ (<span style=\"color: #0087ff; text-decoration-color: #0087ff\">MaxPooling1D</span>)      │                   │            │                   │\n",
              "├─────────────────────┼───────────────────┼────────────┼───────────────────┤\n",
              "│ flatten (<span style=\"color: #0087ff; text-decoration-color: #0087ff\">Flatten</span>)   │ (<span style=\"color: #00d7ff; text-decoration-color: #00d7ff\">None</span>, <span style=\"color: #00af00; text-decoration-color: #00af00\">7104</span>)      │          <span style=\"color: #00af00; text-decoration-color: #00af00\">0</span> │ max_pooling1d[<span style=\"color: #00af00; text-decoration-color: #00af00\">0</span>]… │\n",
              "├─────────────────────┼───────────────────┼────────────┼───────────────────┤\n",
              "│ flatten_1 (<span style=\"color: #0087ff; text-decoration-color: #0087ff\">Flatten</span>) │ (<span style=\"color: #00d7ff; text-decoration-color: #00d7ff\">None</span>, <span style=\"color: #00af00; text-decoration-color: #00af00\">14912</span>)     │          <span style=\"color: #00af00; text-decoration-color: #00af00\">0</span> │ max_pooling1d_1[<span style=\"color: #00af00; text-decoration-color: #00af00\">…</span> │\n",
              "├─────────────────────┼───────────────────┼────────────┼───────────────────┤\n",
              "│ flatten_2 (<span style=\"color: #0087ff; text-decoration-color: #0087ff\">Flatten</span>) │ (<span style=\"color: #00d7ff; text-decoration-color: #00d7ff\">None</span>, <span style=\"color: #00af00; text-decoration-color: #00af00\">30528</span>)     │          <span style=\"color: #00af00; text-decoration-color: #00af00\">0</span> │ max_pooling1d_2[<span style=\"color: #00af00; text-decoration-color: #00af00\">…</span> │\n",
              "├─────────────────────┼───────────────────┼────────────┼───────────────────┤\n",
              "│ concatenate         │ (<span style=\"color: #00d7ff; text-decoration-color: #00d7ff\">None</span>, <span style=\"color: #00af00; text-decoration-color: #00af00\">52544</span>)     │          <span style=\"color: #00af00; text-decoration-color: #00af00\">0</span> │ flatten[<span style=\"color: #00af00; text-decoration-color: #00af00\">0</span>][<span style=\"color: #00af00; text-decoration-color: #00af00\">0</span>],    │\n",
              "│ (<span style=\"color: #0087ff; text-decoration-color: #0087ff\">Concatenate</span>)       │                   │            │ flatten_1[<span style=\"color: #00af00; text-decoration-color: #00af00\">0</span>][<span style=\"color: #00af00; text-decoration-color: #00af00\">0</span>],  │\n",
              "│                     │                   │            │ flatten_2[<span style=\"color: #00af00; text-decoration-color: #00af00\">0</span>][<span style=\"color: #00af00; text-decoration-color: #00af00\">0</span>]   │\n",
              "├─────────────────────┼───────────────────┼────────────┼───────────────────┤\n",
              "│ dense (<span style=\"color: #0087ff; text-decoration-color: #0087ff\">Dense</span>)       │ (<span style=\"color: #00d7ff; text-decoration-color: #00d7ff\">None</span>, <span style=\"color: #00af00; text-decoration-color: #00af00\">100</span>)       │  <span style=\"color: #00af00; text-decoration-color: #00af00\">5,254,500</span> │ concatenate[<span style=\"color: #00af00; text-decoration-color: #00af00\">0</span>][<span style=\"color: #00af00; text-decoration-color: #00af00\">0</span>] │\n",
              "├─────────────────────┼───────────────────┼────────────┼───────────────────┤\n",
              "│ dense_1 (<span style=\"color: #0087ff; text-decoration-color: #0087ff\">Dense</span>)     │ (<span style=\"color: #00d7ff; text-decoration-color: #00d7ff\">None</span>, <span style=\"color: #00af00; text-decoration-color: #00af00\">9</span>)         │        <span style=\"color: #00af00; text-decoration-color: #00af00\">909</span> │ dense[<span style=\"color: #00af00; text-decoration-color: #00af00\">0</span>][<span style=\"color: #00af00; text-decoration-color: #00af00\">0</span>]       │\n",
              "└─────────────────────┴───────────────────┴────────────┴───────────────────┘\n",
              "</pre>\n"
            ]
          },
          "metadata": {}
        },
        {
          "output_type": "display_data",
          "data": {
            "text/plain": [
              "\u001b[1m Total params: \u001b[0m\u001b[38;5;34m5,278,001\u001b[0m (20.13 MB)\n"
            ],
            "text/html": [
              "<pre style=\"white-space:pre;overflow-x:auto;line-height:normal;font-family:Menlo,'DejaVu Sans Mono',consolas,'Courier New',monospace\"><span style=\"font-weight: bold\"> Total params: </span><span style=\"color: #00af00; text-decoration-color: #00af00\">5,278,001</span> (20.13 MB)\n",
              "</pre>\n"
            ]
          },
          "metadata": {}
        },
        {
          "output_type": "display_data",
          "data": {
            "text/plain": [
              "\u001b[1m Trainable params: \u001b[0m\u001b[38;5;34m5,278,001\u001b[0m (20.13 MB)\n"
            ],
            "text/html": [
              "<pre style=\"white-space:pre;overflow-x:auto;line-height:normal;font-family:Menlo,'DejaVu Sans Mono',consolas,'Courier New',monospace\"><span style=\"font-weight: bold\"> Trainable params: </span><span style=\"color: #00af00; text-decoration-color: #00af00\">5,278,001</span> (20.13 MB)\n",
              "</pre>\n"
            ]
          },
          "metadata": {}
        },
        {
          "output_type": "display_data",
          "data": {
            "text/plain": [
              "\u001b[1m Non-trainable params: \u001b[0m\u001b[38;5;34m0\u001b[0m (0.00 B)\n"
            ],
            "text/html": [
              "<pre style=\"white-space:pre;overflow-x:auto;line-height:normal;font-family:Menlo,'DejaVu Sans Mono',consolas,'Courier New',monospace\"><span style=\"font-weight: bold\"> Non-trainable params: </span><span style=\"color: #00af00; text-decoration-color: #00af00\">0</span> (0.00 B)\n",
              "</pre>\n"
            ]
          },
          "metadata": {}
        }
      ]
    },
    {
      "cell_type": "code",
      "source": [
        "batch_size =100\n",
        "epochs = 20\n",
        "history = cnn_model.fit([X_train,X_train,X_train], y_train, batch_size=batch_size,epochs=epochs,verbose=1,validation_data=([X_test,X_test,X_test],y_test),shuffle=True)"
      ],
      "metadata": {
        "colab": {
          "base_uri": "https://localhost:8080/"
        },
        "id": "2Lxm-qvKM3oN",
        "outputId": "01f27e55-db0e-44f3-d573-7a86ac607107"
      },
      "id": "2Lxm-qvKM3oN",
      "execution_count": 10,
      "outputs": [
        {
          "output_type": "stream",
          "name": "stdout",
          "text": [
            "Epoch 1/20\n",
            "\u001b[1m16/16\u001b[0m \u001b[32m━━━━━━━━━━━━━━━━━━━━\u001b[0m\u001b[37m\u001b[0m \u001b[1m17s\u001b[0m 574ms/step - accuracy: 0.1624 - loss: 3.8801 - val_accuracy: 0.2700 - val_loss: 1.7797\n",
            "Epoch 2/20\n",
            "\u001b[1m16/16\u001b[0m \u001b[32m━━━━━━━━━━━━━━━━━━━━\u001b[0m\u001b[37m\u001b[0m \u001b[1m1s\u001b[0m 32ms/step - accuracy: 0.3783 - loss: 1.5542 - val_accuracy: 0.5252 - val_loss: 1.3873\n",
            "Epoch 3/20\n",
            "\u001b[1m16/16\u001b[0m \u001b[32m━━━━━━━━━━━━━━━━━━━━\u001b[0m\u001b[37m\u001b[0m \u001b[1m1s\u001b[0m 38ms/step - accuracy: 0.5758 - loss: 1.1091 - val_accuracy: 0.5445 - val_loss: 1.1185\n",
            "Epoch 4/20\n",
            "\u001b[1m16/16\u001b[0m \u001b[32m━━━━━━━━━━━━━━━━━━━━\u001b[0m\u001b[37m\u001b[0m \u001b[1m1s\u001b[0m 37ms/step - accuracy: 0.6694 - loss: 0.7848 - val_accuracy: 0.7285 - val_loss: 0.8996\n",
            "Epoch 5/20\n",
            "\u001b[1m16/16\u001b[0m \u001b[32m━━━━━━━━━━━━━━━━━━━━\u001b[0m\u001b[37m\u001b[0m \u001b[1m1s\u001b[0m 32ms/step - accuracy: 0.8483 - loss: 0.5652 - val_accuracy: 0.8546 - val_loss: 0.6767\n",
            "Epoch 6/20\n",
            "\u001b[1m16/16\u001b[0m \u001b[32m━━━━━━━━━━━━━━━━━━━━\u001b[0m\u001b[37m\u001b[0m \u001b[1m1s\u001b[0m 32ms/step - accuracy: 0.9247 - loss: 0.3797 - val_accuracy: 0.8650 - val_loss: 0.5414\n",
            "Epoch 7/20\n",
            "\u001b[1m16/16\u001b[0m \u001b[32m━━━━━━━━━━━━━━━━━━━━\u001b[0m\u001b[37m\u001b[0m \u001b[1m1s\u001b[0m 32ms/step - accuracy: 0.9494 - loss: 0.2520 - val_accuracy: 0.9392 - val_loss: 0.4032\n",
            "Epoch 8/20\n",
            "\u001b[1m16/16\u001b[0m \u001b[32m━━━━━━━━━━━━━━━━━━━━\u001b[0m\u001b[37m\u001b[0m \u001b[1m1s\u001b[0m 33ms/step - accuracy: 0.9709 - loss: 0.1679 - val_accuracy: 0.9347 - val_loss: 0.3394\n",
            "Epoch 9/20\n",
            "\u001b[1m16/16\u001b[0m \u001b[32m━━━━━━━━━━━━━━━━━━━━\u001b[0m\u001b[37m\u001b[0m \u001b[1m1s\u001b[0m 32ms/step - accuracy: 0.9706 - loss: 0.1245 - val_accuracy: 0.9021 - val_loss: 0.3107\n",
            "Epoch 10/20\n",
            "\u001b[1m16/16\u001b[0m \u001b[32m━━━━━━━━━━━━━━━━━━━━\u001b[0m\u001b[37m\u001b[0m \u001b[1m1s\u001b[0m 33ms/step - accuracy: 0.9813 - loss: 0.0980 - val_accuracy: 0.9599 - val_loss: 0.2437\n",
            "Epoch 11/20\n",
            "\u001b[1m16/16\u001b[0m \u001b[32m━━━━━━━━━━━━━━━━━━━━\u001b[0m\u001b[37m\u001b[0m \u001b[1m1s\u001b[0m 32ms/step - accuracy: 0.9902 - loss: 0.0627 - val_accuracy: 0.9733 - val_loss: 0.2140\n",
            "Epoch 12/20\n",
            "\u001b[1m16/16\u001b[0m \u001b[32m━━━━━━━━━━━━━━━━━━━━\u001b[0m\u001b[37m\u001b[0m \u001b[1m1s\u001b[0m 37ms/step - accuracy: 0.9991 - loss: 0.0405 - val_accuracy: 0.9585 - val_loss: 0.2050\n",
            "Epoch 13/20\n",
            "\u001b[1m16/16\u001b[0m \u001b[32m━━━━━━━━━━━━━━━━━━━━\u001b[0m\u001b[37m\u001b[0m \u001b[1m1s\u001b[0m 41ms/step - accuracy: 0.9996 - loss: 0.0331 - val_accuracy: 0.9674 - val_loss: 0.1924\n",
            "Epoch 14/20\n",
            "\u001b[1m16/16\u001b[0m \u001b[32m━━━━━━━━━━━━━━━━━━━━\u001b[0m\u001b[37m\u001b[0m \u001b[1m1s\u001b[0m 40ms/step - accuracy: 1.0000 - loss: 0.0269 - val_accuracy: 0.9718 - val_loss: 0.1762\n",
            "Epoch 15/20\n",
            "\u001b[1m16/16\u001b[0m \u001b[32m━━━━━━━━━━━━━━━━━━━━\u001b[0m\u001b[37m\u001b[0m \u001b[1m1s\u001b[0m 40ms/step - accuracy: 1.0000 - loss: 0.0246 - val_accuracy: 0.9733 - val_loss: 0.1715\n",
            "Epoch 16/20\n",
            "\u001b[1m16/16\u001b[0m \u001b[32m━━━━━━━━━━━━━━━━━━━━\u001b[0m\u001b[37m\u001b[0m \u001b[1m1s\u001b[0m 39ms/step - accuracy: 0.9999 - loss: 0.0203 - val_accuracy: 0.9733 - val_loss: 0.1553\n",
            "Epoch 17/20\n",
            "\u001b[1m16/16\u001b[0m \u001b[32m━━━━━━━━━━━━━━━━━━━━\u001b[0m\u001b[37m\u001b[0m \u001b[1m1s\u001b[0m 33ms/step - accuracy: 1.0000 - loss: 0.0175 - val_accuracy: 0.9703 - val_loss: 0.1651\n",
            "Epoch 18/20\n",
            "\u001b[1m16/16\u001b[0m \u001b[32m━━━━━━━━━━━━━━━━━━━━\u001b[0m\u001b[37m\u001b[0m \u001b[1m1s\u001b[0m 38ms/step - accuracy: 1.0000 - loss: 0.0134 - val_accuracy: 0.9763 - val_loss: 0.1434\n",
            "Epoch 19/20\n",
            "\u001b[1m16/16\u001b[0m \u001b[32m━━━━━━━━━━━━━━━━━━━━\u001b[0m\u001b[37m\u001b[0m \u001b[1m1s\u001b[0m 33ms/step - accuracy: 1.0000 - loss: 0.0115 - val_accuracy: 0.9777 - val_loss: 0.1349\n",
            "Epoch 20/20\n",
            "\u001b[1m16/16\u001b[0m \u001b[32m━━━━━━━━━━━━━━━━━━━━\u001b[0m\u001b[37m\u001b[0m \u001b[1m1s\u001b[0m 34ms/step - accuracy: 1.0000 - loss: 0.0107 - val_accuracy: 0.9748 - val_loss: 0.1353\n"
          ]
        }
      ]
    },
    {
      "cell_type": "code",
      "source": [
        "def inv_Transform_result(y_pred):\n",
        "    y_pred = y_pred.argmax(axis=1)\n",
        "    y_pred = encoder.inverse_transform(y_pred)\n",
        "    return y_pred\n",
        "\n",
        "\n",
        "\n",
        "y_pred=cnn_model.predict([X_test,X_test,X_test])\n",
        "\n",
        "\n",
        "Y_pred=inv_Transform_result(y_pred)\n",
        "Y_test = inv_Transform_result(y_test)\n",
        "\n",
        "\n",
        "\n",
        "\n",
        "from sklearn.metrics import confusion_matrix\n",
        "\n",
        "\n",
        "plt.figure(figsize=(10,10))\n",
        "cm = confusion_matrix(Y_test, Y_pred,normalize='true')\n",
        "f = sns.heatmap(cm, annot=True,xticklabels=encoder.classes_,yticklabels=encoder.classes_)"
      ],
      "metadata": {
        "colab": {
          "base_uri": "https://localhost:8080/",
          "height": 951
        },
        "id": "pbBmkBjlM5ks",
        "outputId": "4774510c-b358-4d88-c157-1c4359fce337"
      },
      "id": "pbBmkBjlM5ks",
      "execution_count": 11,
      "outputs": [
        {
          "output_type": "stream",
          "name": "stdout",
          "text": [
            "\u001b[1m22/22\u001b[0m \u001b[32m━━━━━━━━━━━━━━━━━━━━\u001b[0m\u001b[37m\u001b[0m \u001b[1m2s\u001b[0m 39ms/step\n"
          ]
        },
        {
          "output_type": "display_data",
          "data": {
            "text/plain": [
              "<Figure size 1000x1000 with 2 Axes>"
            ],
            "image/png": "[encoded data removed]"
          },
          "metadata": {}
        }
      ]
    },
    {
      "cell_type": "code",
      "source": [
        "dummy_cnn = Model(inputs=cnn_model.input,outputs=cnn_model.layers[16].output)\n",
        "y_viz = dummy_cnn.predict([X_train,X_train,X_train])"
      ],
      "metadata": {
        "colab": {
          "base_uri": "https://localhost:8080/"
        },
        "id": "3tgRx2TxM-GS",
        "outputId": "d57f2baf-203d-4070-8883-f4936f87e658"
      },
      "id": "3tgRx2TxM-GS",
      "execution_count": 12,
      "outputs": [
        {
          "output_type": "stream",
          "name": "stdout",
          "text": [
            "\u001b[1m50/50\u001b[0m \u001b[32m━━━━━━━━━━━━━━━━━━━━\u001b[0m\u001b[37m\u001b[0m \u001b[1m1s\u001b[0m 15ms/step\n"
          ]
        }
      ]
    },
    {
      "cell_type": "code",
      "source": [
        "import pandas as pd\n",
        "import seaborn as sns\n",
        "import matplotlib.pyplot as plt\n",
        "from sklearn.manifold import TSNE\n",
        "\n",
        "# Apply t-SNE transformation\n",
        "X_t_sne = TSNE(\n",
        "    n_components=2,\n",
        "    learning_rate='auto',\n",
        "    verbose=2,  # Increase verbosity for more detailed feedback\n",
        "    perplexity=40,\n",
        "    n_iter=500  # Slightly increased number of iterations for convergence\n",
        ").fit_transform(y_viz)\n",
        "\n",
        "# Create DataFrame for t-SNE components\n",
        "tSNEdf = pd.DataFrame(data=X_t_sne, columns=['T-SNE component 1', 'T-SNE component 2'])\n",
        "\n",
        "# Assuming `inv_Transform_result` transforms `y_train` to get the Fault labels\n",
        "tSNEdf['Fault'] = inv_Transform_result(y_train)\n",
        "\n",
        "# Save the t-SNE DataFrame as a CSV file\n",
        "tSNEdf.to_csv('/content/drive/MyDrive/MK-DCNN CWRU/NNOISE_0_tSNE_results.csv', index=True)\n",
        "print(\"t-SNE results saved as '/content/drive/MyDrive/MK-DCNN CWRU/NNOISE_0_tSNE_results.csv'.\")\n",
        "\n",
        "# # Plot the t-SNE results with Fault as hue\n",
        "# plt.figure(figsize=(12, 12))  # Larger figure for clarity\n",
        "# sns.scatterplot(\n",
        "#     x='T-SNE component 1',\n",
        "#     y='T-SNE component 2',\n",
        "#     hue='Fault',\n",
        "#     palette=sns.color_palette(\"husl\", as_cmap=False),  # Vivid color palette\n",
        "#     data=tSNEdf,\n",
        "#     legend=\"full\",\n",
        "#     alpha=0.7,  # Increased transparency for better overlap clarity\n",
        "#     s=100  # Larger marker size\n",
        "# )\n",
        "\n",
        "# # Add gridlines for better visualization\n",
        "# plt.grid\n",
        "\n",
        "\n",
        "# Optional: Visualization of t-SNE representation\n",
        "plt.figure(figsize=(8, 6))\n",
        "for label in tSNEdf['Fault'].unique():\n",
        "    subset = tSNEdf[tSNEdf['Fault'] == label]\n",
        "    plt.scatter(subset['T-SNE component 1'], subset['T-SNE component 2'], label=f'Fault {label}', alpha=0.7)\n",
        "\n",
        "plt.title('t-SNE Representation of Motor Fault Dataset')\n",
        "plt.xlabel('t-SNE 1')\n",
        "plt.ylabel('t-SNE 2')\n",
        "plt.legend()\n",
        "plt.show()"
      ],
      "metadata": {
        "colab": {
          "base_uri": "https://localhost:8080/",
          "height": 966
        },
        "id": "uic9AVV2NBah",
        "outputId": "c77cd129-19e4-43e1-a6af-5c1747569657"
      },
      "id": "uic9AVV2NBah",
      "execution_count": 13,
      "outputs": [
        {
          "output_type": "stream",
          "name": "stderr",
          "text": [
            "/usr/local/lib/python3.11/dist-packages/sklearn/manifold/_t_sne.py:1164: FutureWarning: 'n_iter' was renamed to 'max_iter' in version 1.5 and will be removed in 1.7.\n",
            "  warnings.warn(\n"
          ]
        },
        {
          "output_type": "stream",
          "name": "stdout",
          "text": [
            "[t-SNE] Computing 121 nearest neighbors...\n",
            "[t-SNE] Indexed 1570 samples in 0.001s...\n",
            "[t-SNE] Computed neighbors for 1570 samples in 0.161s...\n",
            "[t-SNE] Computed conditional probabilities for sample 1000 / 1570\n",
            "[t-SNE] Computed conditional probabilities for sample 1570 / 1570\n",
            "[t-SNE] Mean sigma: 3.914005\n",
            "[t-SNE] Computed conditional probabilities in 0.064s\n",
            "[t-SNE] Iteration 50: error = 57.1339264, gradient norm = 0.0395586 (50 iterations in 0.610s)\n",
            "[t-SNE] Iteration 100: error = 52.1966400, gradient norm = 0.0138495 (50 iterations in 0.417s)\n",
            "[t-SNE] Iteration 150: error = 51.0429993, gradient norm = 0.0094200 (50 iterations in 0.442s)\n",
            "[t-SNE] Iteration 200: error = 50.4908104, gradient norm = 0.0073972 (50 iterations in 0.418s)\n",
            "[t-SNE] Iteration 250: error = 50.1597672, gradient norm = 0.0050851 (50 iterations in 0.410s)\n",
            "[t-SNE] KL divergence after 250 iterations with early exaggeration: 50.159767\n",
            "[t-SNE] Iteration 300: error = 0.8872750, gradient norm = 0.0167392 (50 iterations in 0.442s)\n",
            "[t-SNE] Iteration 350: error = 0.6363881, gradient norm = 0.0141674 (50 iterations in 0.427s)\n",
            "[t-SNE] Iteration 400: error = 0.5421638, gradient norm = 0.0117917 (50 iterations in 0.456s)\n",
            "[t-SNE] Iteration 450: error = 0.4955941, gradient norm = 0.0102100 (50 iterations in 0.551s)\n",
            "[t-SNE] Iteration 500: error = 0.4683470, gradient norm = 0.0088431 (50 iterations in 0.666s)\n",
            "[t-SNE] KL divergence after 500 iterations: 0.468347\n",
            "t-SNE results saved as '/content/drive/MyDrive/MK-DCNN CWRU/NNOISE_0_tSNE_results.csv'.\n"
          ]
        },
        {
          "output_type": "display_data",
          "data": {
            "text/plain": [
              "<Figure size 800x600 with 1 Axes>"
            ],
            "image/png": "[encoded data removed]"
          },
          "metadata": {}
        }
      ]
    },
    {
      "cell_type": "markdown",
      "source": [
        "Statistical Features"
      ],
      "metadata": {
        "id": "PRuXPOIH6cTH"
      },
      "id": "PRuXPOIH6cTH"
    },
    {
      "cell_type": "code",
      "source": [
        "import numpy as np\n",
        "from scipy.stats import skew, kurtosis\n",
        "import pandas as pd\n",
        "import matplotlib.pyplot as plt\n",
        "\n",
        "# Total target rows\n",
        "TARGET_ROWS = 1800\n",
        "\n",
        "# Estimate the total number of samples across all fault types\n",
        "total_samples = sum(len(df[df['fault'] == f]) for f in df['fault'].unique())\n",
        "\n",
        "# Calculate suitable window size and stride\n",
        "num_faults = 9\n",
        "average_samples_per_fault = total_samples / num_faults\n",
        "approx_windows_per_fault = TARGET_ROWS / num_faults\n",
        "stride_ratio = 0.8  # Initial stride/window ratio\n",
        "\n",
        "WINDOW_SIZE = int(average_samples_per_fault / approx_windows_per_fault)\n",
        "STRIDE = int(WINDOW_SIZE * stride_ratio)\n",
        "\n",
        "print(f\"Calculated WINDOW_SIZE: {WINDOW_SIZE}, STRIDE: {STRIDE}\")\n",
        "\n",
        "# Initialize a list to store statistical features\n",
        "statistical_features = []\n",
        "\n",
        "# Loop through each fault type\n",
        "for f in df['fault'].unique():\n",
        "    # Extract data for the current fault type\n",
        "    fault_data = df[df['fault'] == f].iloc[:, 0].values  # Convert to NumPy array for efficiency\n",
        "\n",
        "    # Compute windows using sliding window approach\n",
        "    num_windows = (len(fault_data) - WINDOW_SIZE) // STRIDE + 1\n",
        "    for i in range(num_windows):\n",
        "        start = i * STRIDE\n",
        "        end = start + WINDOW_SIZE\n",
        "        window = fault_data[start:end]\n",
        "\n",
        "        # Convert window to a numeric type\n",
        "        window = window.astype(float)\n",
        "\n",
        "        # Compute statistical features for the current window\n",
        "        mean_val = np.mean(window)\n",
        "        std_val = np.std(window)\n",
        "        rms_val = np.sqrt(np.mean(np.square(window)))\n",
        "        max_val = np.max(window)\n",
        "        min_val = np.min(window)\n",
        "        skewness_val = skew(window)\n",
        "        kurtosis_val = kurtosis(window)\n",
        "\n",
        "        # Additional statistical features\n",
        "        mean_abs_val = np.mean(np.abs(window))\n",
        "        form_factor = rms_val / mean_abs_val if mean_abs_val != 0 else 0\n",
        "        crest_factor = max_val / rms_val if rms_val != 0 else 0\n",
        "\n",
        "        # Store the features in a dictionary\n",
        "        statistical_features.append({\n",
        "            'fault': f,\n",
        "            'window': i + 1,\n",
        "            'mean': mean_val,\n",
        "            'std': std_val,\n",
        "            'rms': rms_val,\n",
        "            'max': max_val,\n",
        "            'min': min_val,\n",
        "            'skewness': skewness_val,\n",
        "            'kurtosis': kurtosis_val,\n",
        "            'form_factor': form_factor,\n",
        "            'crest_factor': crest_factor\n",
        "        })\n",
        "\n",
        "# Convert statistical features into a DataFrame\n",
        "stat_features_df = pd.DataFrame(statistical_features)\n",
        "\n",
        "# Display the extracted features and count of rows\n",
        "print(f\"Extracted {len(stat_features_df)} rows (target: {TARGET_ROWS})\")\n",
        "print(stat_features_df)\n",
        "\n",
        "# Save the extracted features to a CSV file\n",
        "output_file = \"/content/drive/MyDrive/MK-DCNN CWRU/NNOISE_0_statistical_features_with_form_and_crest_factors.csv\"\n",
        "stat_features_df.to_csv(output_file, index=False)\n",
        "print(f\"Statistical features saved to '{output_file}'.\")"
      ],
      "metadata": {
        "colab": {
          "base_uri": "https://localhost:8080/"
        },
        "id": "HRTIq9cYQgjC",
        "outputId": "9bb9f71e-74e2-4a0b-aeb0-7537fb96437b"
      },
      "id": "HRTIq9cYQgjC",
      "execution_count": 15,
      "outputs": [
        {
          "output_type": "stream",
          "name": "stdout",
          "text": [
            "Calculated WINDOW_SIZE: 2437, STRIDE: 1949\n",
            "Extracted 2244 rows (target: 1800)\n",
            "              fault  window      mean       std       rms       max       min  \\\n",
            "0     OR021_6_1_240       1  0.015607  0.492382  0.492629  3.210128 -3.966336   \n",
            "1     OR021_6_1_240       2  0.015350  0.646707  0.646889  4.917856 -4.585659   \n",
            "2     OR021_6_1_240       3  0.014072  0.669473  0.669621  3.917091 -4.262643   \n",
            "3     OR021_6_1_240       4  0.014014  0.701110  0.701250  3.917091 -4.262643   \n",
            "4     OR021_6_1_240       5  0.014971  0.529179  0.529391  3.437992 -4.165821   \n",
            "...             ...     ...       ...       ...       ...       ...       ...   \n",
            "2239    IR014_1_176     246  0.013869  0.293245  0.293573  1.901788 -1.770328   \n",
            "2240    IR014_1_176     247  0.015376  0.296763  0.297161  1.901788 -1.770328   \n",
            "2241    IR014_1_176     248  0.016397  0.318915  0.319336  2.213536 -2.146763   \n",
            "2242    IR014_1_176     249  0.018091  0.123074  0.124397  0.709049 -0.772901   \n",
            "2243    IR014_1_176     250  0.016510  0.203745  0.204413  1.365097 -1.342979   \n",
            "\n",
            "      skewness   kurtosis  form_factor  crest_factor  \n",
            "0    -1.024670  20.379434     1.994239      6.516321  \n",
            "1    -0.025571  14.954581     1.872416      7.602318  \n",
            "2    -0.215939  13.337181     2.107288      5.849716  \n",
            "3    -0.271317  10.581490     1.825579      5.585872  \n",
            "4    -1.005422  17.717815     1.879134      6.494240  \n",
            "...        ...        ...          ...           ...  \n",
            "2239  0.141625  14.008768     1.860841      6.478080  \n",
            "2240  0.128582  13.226968     1.774145      6.399856  \n",
            "2241  0.037235  16.766016     2.019464      6.931675  \n",
            "2242 -0.080210   5.981819     1.429797      5.699900  \n",
            "2243 -0.045542  11.556805     1.642859      6.678127  \n",
            "\n",
            "[2244 rows x 11 columns]\n",
            "Statistical features saved to '/content/drive/MyDrive/MK-DCNN CWRU/NNOISE_0_statistical_features_with_form_and_crest_factors.csv'.\n"
          ]
        }
      ]
    },
    {
      "cell_type": "code",
      "source": [
        "import pandas as pd\n",
        "from sklearn.utils import resample\n",
        "\n",
        "# Load your dataset (replace 'your_dataset.csv' with your actual file)\n",
        "df = pd.read_csv('/content/drive/MyDrive/MK-DCNN CWRU/NNOISE_0_statistical_features_with_form_and_crest_factors.csv')\n",
        "\n",
        "# Display initial class distribution\n",
        "print(\"Initial class distribution:\")\n",
        "print(df['fault'].value_counts())\n",
        "\n",
        "# Target size for undersampling/resampling\n",
        "TARGET_ROWS = 1570\n",
        "\n",
        "# Separate all fault types\n",
        "fault_classes = df['fault'].value_counts()\n",
        "\n",
        "# Determine the number of classes\n",
        "num_classes = len(fault_classes)\n",
        "\n",
        "# Calculate how many samples to take from each class\n",
        "samples_per_class = TARGET_ROWS // num_classes\n",
        "\n",
        "# Initialize a list to store resampled data\n",
        "resampled_data = []\n",
        "\n",
        "# Loop over each class to resample them\n",
        "for fault_class in fault_classes.index:\n",
        "    class_data = df[df['fault'] == fault_class]\n",
        "    if len(class_data) > samples_per_class:\n",
        "        # Undersample\n",
        "        class_data_resampled = resample(class_data, replace=False, n_samples=samples_per_class, random_state=42)\n",
        "    else:\n",
        "        # Upsample\n",
        "        class_data_resampled = resample(class_data, replace=True, n_samples=samples_per_class, random_state=42)\n",
        "\n",
        "    resampled_data.append(class_data_resampled)\n",
        "\n",
        "# Concatenate the resampled data into a single DataFrame\n",
        "balanced_df = pd.concat(resampled_data)\n",
        "\n",
        "# Check if we have the exact number of rows\n",
        "current_rows = len(balanced_df)\n",
        "print(f\"Current rows after equal resampling: {current_rows}\")\n",
        "\n",
        "# If the current rows don't match the target rows, adjust by trimming or adding rows\n",
        "if current_rows > TARGET_ROWS:\n",
        "    # Trim extra rows (if more than target)\n",
        "    balanced_df = balanced_df.head(TARGET_ROWS)\n",
        "elif current_rows < TARGET_ROWS:\n",
        "    # Add rows if fewer than target, by sampling from existing data\n",
        "    remaining_rows = TARGET_ROWS - current_rows\n",
        "    additional_data = balanced_df.sample(n=remaining_rows, replace=True, random_state=42)\n",
        "    balanced_df = pd.concat([balanced_df, additional_data])\n",
        "\n",
        "# Shuffle the final dataset\n",
        "balanced_df = balanced_df.sample(frac=1, random_state=42).reset_index(drop=True)\n",
        "\n",
        "# Display new class distribution\n",
        "print(\"New class distribution:\")\n",
        "print(balanced_df['fault'].value_counts())\n",
        "\n",
        "# Display final row count\n",
        "print(f\"Final row count: {len(balanced_df)}\")\n",
        "\n",
        "# Save the balanced dataset to a CSV file\n",
        "balanced_df.to_csv(\"/content/drive/MyDrive/MK-DCNN CWRU/NNOISE_0_balanced_dataset_equal_resampling_exact_1570.csv\", index=False)\n",
        "print(\"Balanced dataset saved as '/content/drive/MyDrive/MK-DCNN CWRU/NNOISE_0_balanced_dataset_equal_resampling_exact_1570.csv'\")\n"
      ],
      "metadata": {
        "id": "0-DLTbJL0tc6",
        "colab": {
          "base_uri": "https://localhost:8080/"
        },
        "outputId": "36e0ef11-d7be-4e17-bbfe-2ff564ff88c7"
      },
      "id": "0-DLTbJL0tc6",
      "execution_count": 16,
      "outputs": [
        {
          "output_type": "stream",
          "name": "stdout",
          "text": [
            "Initial class distribution:\n",
            "fault\n",
            "IR021_1_215      251\n",
            "OR021_6_1_240    250\n",
            "IR014_1_176      250\n",
            "OR014_6_1_203    249\n",
            "B021_1_228       249\n",
            "B014_1_191       249\n",
            "OR007_6_1_137    249\n",
            "B007_1_124       249\n",
            "IR007_1_111      248\n",
            "Name: count, dtype: int64\n",
            "Current rows after equal resampling: 1566\n",
            "New class distribution:\n",
            "fault\n",
            "IR007_1_111      175\n",
            "OR007_6_1_137    175\n",
            "B007_1_124       175\n",
            "B021_1_228       175\n",
            "B014_1_191       174\n",
            "OR014_6_1_203    174\n",
            "IR014_1_176      174\n",
            "OR021_6_1_240    174\n",
            "IR021_1_215      174\n",
            "Name: count, dtype: int64\n",
            "Final row count: 1570\n",
            "Balanced dataset saved as '/content/drive/MyDrive/MK-DCNN CWRU/NNOISE_0_balanced_dataset_equal_resampling_exact_1570.csv'\n"
          ]
        }
      ]
    },
    {
      "cell_type": "code",
      "source": [
        "balanced_df.shape"
      ],
      "metadata": {
        "id": "NQ3f_WOt7Dld",
        "colab": {
          "base_uri": "https://localhost:8080/"
        },
        "outputId": "383352c6-cc6b-428f-95a1-a1af64e0b9ad"
      },
      "id": "NQ3f_WOt7Dld",
      "execution_count": 17,
      "outputs": [
        {
          "output_type": "execute_result",
          "data": {
            "text/plain": [
              "(1570, 11)"
            ]
          },
          "metadata": {},
          "execution_count": 17
        }
      ]
    },
    {
      "cell_type": "code",
      "source": [
        "balanced_df=balanced_df.sort_values(by='fault')"
      ],
      "metadata": {
        "id": "JP_zDzu6_Zkt"
      },
      "id": "JP_zDzu6_Zkt",
      "execution_count": 18,
      "outputs": []
    },
    {
      "cell_type": "code",
      "source": [
        "balanced_df"
      ],
      "metadata": {
        "id": "eq6MhY1CAvgD",
        "colab": {
          "base_uri": "https://localhost:8080/",
          "height": 424
        },
        "outputId": "3b244677-91c0-4274-e25b-5fad21ede742"
      },
      "id": "eq6MhY1CAvgD",
      "execution_count": 19,
      "outputs": [
        {
          "output_type": "execute_result",
          "data": {
            "text/plain": [
              "              fault  window      mean       std       rms       max       min  \\\n",
              "1104     B007_1_124      74  0.016869  0.167961  0.168806  0.562218 -0.564722   \n",
              "1388     B007_1_124     126  0.014265  0.153693  0.154354  0.464795 -0.491706   \n",
              "1509     B007_1_124     219  0.016942  0.137126  0.138169  0.387399 -0.330030   \n",
              "984      B007_1_124      25  0.015701  0.136089  0.136992  0.500468 -0.452070   \n",
              "1506     B007_1_124     226  0.017076  0.167839  0.168705  0.691560 -0.740167   \n",
              "...             ...     ...       ...       ...       ...       ...       ...   \n",
              "806   OR021_6_1_240      40  0.018767  0.395443  0.395889  2.889616 -2.925507   \n",
              "278   OR021_6_1_240      28  0.016287  0.564051  0.564286  3.641651 -4.071504   \n",
              "1451  OR021_6_1_240     218  0.011311  0.706067  0.706158  4.222579 -4.666621   \n",
              "1453  OR021_6_1_240     138  0.013491  0.647573  0.647713  4.613203 -4.745080   \n",
              "791   OR021_6_1_240     105  0.014466  0.580446  0.580627  3.740141 -4.265147   \n",
              "\n",
              "      skewness   kurtosis  form_factor  crest_factor  \n",
              "1104 -0.013422  -0.070500     1.250809      3.330550  \n",
              "1388 -0.120276  -0.078890     1.246944      3.011237  \n",
              "1509  0.034739  -0.529250     1.223545      2.803804  \n",
              "984  -0.039466  -0.023741     1.243635      3.653262  \n",
              "1506 -0.119617   1.631943     1.324497      4.099216  \n",
              "...        ...        ...          ...           ...  \n",
              "806  -0.175279  14.256657     1.743030      7.299065  \n",
              "278  -0.510275  18.222206     1.968657      6.453552  \n",
              "1451 -0.254338  13.177313     1.999652      5.979652  \n",
              "1453 -0.169332  15.019679     1.936472      7.122291  \n",
              "791  -0.419618  18.031347     2.050893      6.441560  \n",
              "\n",
              "[1570 rows x 11 columns]"
            ],
            "text/html": [
              "\n",
              "  <div id=\"df-a21a3cac-4e95-4860-9997-9482ea211fb0\" class=\"colab-df-container\">\n",
              "    <div>\n",
              "<style scoped>\n",
              "    .dataframe tbody tr th:only-of-type {\n",
              "        vertical-align: middle;\n",
              "    }\n",
              "\n",
              "    .dataframe tbody tr th {\n",
              "        vertical-align: top;\n",
              "    }\n",
              "\n",
              "    .dataframe thead th {\n",
              "        text-align: right;\n",
              "    }\n",
              "</style>\n",
              "<table border=\"1\" class=\"dataframe\">\n",
              "  <thead>\n",
              "    <tr style=\"text-align: right;\">\n",
              "      <th></th>\n",
              "      <th>fault</th>\n",
              "      <th>window</th>\n",
              "      <th>mean</th>\n",
              "      <th>std</th>\n",
              "      <th>rms</th>\n",
              "      <th>max</th>\n",
              "      <th>min</th>\n",
              "      <th>skewness</th>\n",
              "      <th>kurtosis</th>\n",
              "      <th>form_factor</th>\n",
              "      <th>crest_factor</th>\n",
              "    </tr>\n",
              "  </thead>\n",
              "  <tbody>\n",
              "    <tr>\n",
              "      <th>1104</th>\n",
              "      <td>B007_1_124</td>\n",
              "      <td>74</td>\n",
              "      <td>0.016869</td>\n",
              "      <td>0.167961</td>\n",
              "      <td>0.168806</td>\n",
              "      <td>0.562218</td>\n",
              "      <td>-0.564722</td>\n",
              "      <td>-0.013422</td>\n",
              "      <td>-0.070500</td>\n",
              "      <td>1.250809</td>\n",
              "      <td>3.330550</td>\n",
              "    </tr>\n",
              "    <tr>\n",
              "      <th>1388</th>\n",
              "      <td>B007_1_124</td>\n",
              "      <td>126</td>\n",
              "      <td>0.014265</td>\n",
              "      <td>0.153693</td>\n",
              "      <td>0.154354</td>\n",
              "      <td>0.464795</td>\n",
              "      <td>-0.491706</td>\n",
              "      <td>-0.120276</td>\n",
              "      <td>-0.078890</td>\n",
              "      <td>1.246944</td>\n",
              "      <td>3.011237</td>\n",
              "    </tr>\n",
              "    <tr>\n",
              "      <th>1509</th>\n",
              "      <td>B007_1_124</td>\n",
              "      <td>219</td>\n",
              "      <td>0.016942</td>\n",
              "      <td>0.137126</td>\n",
              "      <td>0.138169</td>\n",
              "      <td>0.387399</td>\n",
              "      <td>-0.330030</td>\n",
              "      <td>0.034739</td>\n",
              "      <td>-0.529250</td>\n",
              "      <td>1.223545</td>\n",
              "      <td>2.803804</td>\n",
              "    </tr>\n",
              "    <tr>\n",
              "      <th>984</th>\n",
              "      <td>B007_1_124</td>\n",
              "      <td>25</td>\n",
              "      <td>0.015701</td>\n",
              "      <td>0.136089</td>\n",
              "      <td>0.136992</td>\n",
              "      <td>0.500468</td>\n",
              "      <td>-0.452070</td>\n",
              "      <td>-0.039466</td>\n",
              "      <td>-0.023741</td>\n",
              "      <td>1.243635</td>\n",
              "      <td>3.653262</td>\n",
              "    </tr>\n",
              "    <tr>\n",
              "      <th>1506</th>\n",
              "      <td>B007_1_124</td>\n",
              "      <td>226</td>\n",
              "      <td>0.017076</td>\n",
              "      <td>0.167839</td>\n",
              "      <td>0.168705</td>\n",
              "      <td>0.691560</td>\n",
              "      <td>-0.740167</td>\n",
              "      <td>-0.119617</td>\n",
              "      <td>1.631943</td>\n",
              "      <td>1.324497</td>\n",
              "      <td>4.099216</td>\n",
              "    </tr>\n",
              "    <tr>\n",
              "      <th>...</th>\n",
              "      <td>...</td>\n",
              "      <td>...</td>\n",
              "      <td>...</td>\n",
              "      <td>...</td>\n",
              "      <td>...</td>\n",
              "      <td>...</td>\n",
              "      <td>...</td>\n",
              "      <td>...</td>\n",
              "      <td>...</td>\n",
              "      <td>...</td>\n",
              "      <td>...</td>\n",
              "    </tr>\n",
              "    <tr>\n",
              "      <th>806</th>\n",
              "      <td>OR021_6_1_240</td>\n",
              "      <td>40</td>\n",
              "      <td>0.018767</td>\n",
              "      <td>0.395443</td>\n",
              "      <td>0.395889</td>\n",
              "      <td>2.889616</td>\n",
              "      <td>-2.925507</td>\n",
              "      <td>-0.175279</td>\n",
              "      <td>14.256657</td>\n",
              "      <td>1.743030</td>\n",
              "      <td>7.299065</td>\n",
              "    </tr>\n",
              "    <tr>\n",
              "      <th>278</th>\n",
              "      <td>OR021_6_1_240</td>\n",
              "      <td>28</td>\n",
              "      <td>0.016287</td>\n",
              "      <td>0.564051</td>\n",
              "      <td>0.564286</td>\n",
              "      <td>3.641651</td>\n",
              "      <td>-4.071504</td>\n",
              "      <td>-0.510275</td>\n",
              "      <td>18.222206</td>\n",
              "      <td>1.968657</td>\n",
              "      <td>6.453552</td>\n",
              "    </tr>\n",
              "    <tr>\n",
              "      <th>1451</th>\n",
              "      <td>OR021_6_1_240</td>\n",
              "      <td>218</td>\n",
              "      <td>0.011311</td>\n",
              "      <td>0.706067</td>\n",
              "      <td>0.706158</td>\n",
              "      <td>4.222579</td>\n",
              "      <td>-4.666621</td>\n",
              "      <td>-0.254338</td>\n",
              "      <td>13.177313</td>\n",
              "      <td>1.999652</td>\n",
              "      <td>5.979652</td>\n",
              "    </tr>\n",
              "    <tr>\n",
              "      <th>1453</th>\n",
              "      <td>OR021_6_1_240</td>\n",
              "      <td>138</td>\n",
              "      <td>0.013491</td>\n",
              "      <td>0.647573</td>\n",
              "      <td>0.647713</td>\n",
              "      <td>4.613203</td>\n",
              "      <td>-4.745080</td>\n",
              "      <td>-0.169332</td>\n",
              "      <td>15.019679</td>\n",
              "      <td>1.936472</td>\n",
              "      <td>7.122291</td>\n",
              "    </tr>\n",
              "    <tr>\n",
              "      <th>791</th>\n",
              "      <td>OR021_6_1_240</td>\n",
              "      <td>105</td>\n",
              "      <td>0.014466</td>\n",
              "      <td>0.580446</td>\n",
              "      <td>0.580627</td>\n",
              "      <td>3.740141</td>\n",
              "      <td>-4.265147</td>\n",
              "      <td>-0.419618</td>\n",
              "      <td>18.031347</td>\n",
              "      <td>2.050893</td>\n",
              "      <td>6.441560</td>\n",
              "    </tr>\n",
              "  </tbody>\n",
              "</table>\n",
              "<p>1570 rows × 11 columns</p>\n",
              "</div>\n",
              "    <div class=\"colab-df-buttons\">\n",
              "\n",
              "  <div class=\"colab-df-container\">\n",
              "    <button class=\"colab-df-convert\" onclick=\"convertToInteractive('df-a21a3cac-4e95-4860-9997-9482ea211fb0')\"\n",
              "            title=\"Convert this dataframe to an interactive table.\"\n",
              "            style=\"display:none;\">\n",
              "\n",
              "  <svg xmlns=\"http://www.w3.org/2000/svg\" height=\"24px\" viewBox=\"0 -960 960 960\">\n",
              "    <path d=\"M120-120v-720h720v720H120Zm60-500h600v-160H180v160Zm220 220h160v-160H400v160Zm0 220h160v-160H400v160ZM180-400h160v-160H180v160Zm440 0h160v-160H620v160ZM180-180h160v-160H180v160Zm440 0h160v-160H620v160Z\"/>\n",
              "  </svg>\n",
              "    </button>\n",
              "\n",
              "  <style>\n",
              "    .colab-df-container {\n",
              "      display:flex;\n",
              "      gap: 12px;\n",
              "    }\n",
              "\n",
              "    .colab-df-convert {\n",
              "      background-color: #E8F0FE;\n",
              "      border: none;\n",
              "      border-radius: 50%;\n",
              "      cursor: pointer;\n",
              "      display: none;\n",
              "      fill: #1967D2;\n",
              "      height: 32px;\n",
              "      padding: 0 0 0 0;\n",
              "      width: 32px;\n",
              "    }\n",
              "\n",
              "    .colab-df-convert:hover {\n",
              "      background-color: #E2EBFA;\n",
              "      box-shadow: 0px 1px 2px rgba(60, 64, 67, 0.3), 0px 1px 3px 1px rgba(60, 64, 67, 0.15);\n",
              "      fill: #174EA6;\n",
              "    }\n",
              "\n",
              "    .colab-df-buttons div {\n",
              "      margin-bottom: 4px;\n",
              "    }\n",
              "\n",
              "    [theme=dark] .colab-df-convert {\n",
              "      background-color: #3B4455;\n",
              "      fill: #D2E3FC;\n",
              "    }\n",
              "\n",
              "    [theme=dark] .colab-df-convert:hover {\n",
              "      background-color: #434B5C;\n",
              "      box-shadow: 0px 1px 3px 1px rgba(0, 0, 0, 0.15);\n",
              "      filter: drop-shadow(0px 1px 2px rgba(0, 0, 0, 0.3));\n",
              "      fill: #FFFFFF;\n",
              "    }\n",
              "  </style>\n",
              "\n",
              "    <script>\n",
              "      const buttonEl =\n",
              "        document.querySelector('#df-a21a3cac-4e95-4860-9997-9482ea211fb0 button.colab-df-convert');\n",
              "      buttonEl.style.display =\n",
              "        google.colab.kernel.accessAllowed ? 'block' : 'none';\n",
              "\n",
              "      async function convertToInteractive(key) {\n",
              "        const element = document.querySelector('#df-a21a3cac-4e95-4860-9997-9482ea211fb0');\n",
              "        const dataTable =\n",
              "          await google.colab.kernel.invokeFunction('convertToInteractive',\n",
              "                                                    [key], {});\n",
              "        if (!dataTable) return;\n",
              "\n",
              "        const docLinkHtml = 'Like what you see? Visit the ' +\n",
              "          '<a target=\"_blank\" href=https://colab.research.google.com/notebooks/data_table.ipynb>data table notebook</a>'\n",
              "          + ' to learn more about interactive tables.';\n",
              "        element.innerHTML = '';\n",
              "        dataTable['output_type'] = 'display_data';\n",
              "        await google.colab.output.renderOutput(dataTable, element);\n",
              "        const docLink = document.createElement('div');\n",
              "        docLink.innerHTML = docLinkHtml;\n",
              "        element.appendChild(docLink);\n",
              "      }\n",
              "    </script>\n",
              "  </div>\n",
              "\n",
              "\n",
              "    <div id=\"df-2f5a3aae-71f0-490f-bb72-d773c5635a6d\">\n",
              "      <button class=\"colab-df-quickchart\" onclick=\"quickchart('df-2f5a3aae-71f0-490f-bb72-d773c5635a6d')\"\n",
              "                title=\"Suggest charts\"\n",
              "                style=\"display:none;\">\n",
              "\n",
              "<svg xmlns=\"http://www.w3.org/2000/svg\" height=\"24px\"viewBox=\"0 0 24 24\"\n",
              "     width=\"24px\">\n",
              "    <g>\n",
              "        <path d=\"M19 3H5c-1.1 0-2 .9-2 2v14c0 1.1.9 2 2 2h14c1.1 0 2-.9 2-2V5c0-1.1-.9-2-2-2zM9 17H7v-7h2v7zm4 0h-2V7h2v10zm4 0h-2v-4h2v4z\"/>\n",
              "    </g>\n",
              "</svg>\n",
              "      </button>\n",
              "\n",
              "<style>\n",
              "  .colab-df-quickchart {\n",
              "      --bg-color: #E8F0FE;\n",
              "      --fill-color: #1967D2;\n",
              "      --hover-bg-color: #E2EBFA;\n",
              "      --hover-fill-color: #174EA6;\n",
              "      --disabled-fill-color: #AAA;\n",
              "      --disabled-bg-color: #DDD;\n",
              "  }\n",
              "\n",
              "  [theme=dark] .colab-df-quickchart {\n",
              "      --bg-color: #3B4455;\n",
              "      --fill-color: #D2E3FC;\n",
              "      --hover-bg-color: #434B5C;\n",
              "      --hover-fill-color: #FFFFFF;\n",
              "      --disabled-bg-color: #3B4455;\n",
              "      --disabled-fill-color: #666;\n",
              "  }\n",
              "\n",
              "  .colab-df-quickchart {\n",
              "    background-color: var(--bg-color);\n",
              "    border: none;\n",
              "    border-radius: 50%;\n",
              "    cursor: pointer;\n",
              "    display: none;\n",
              "    fill: var(--fill-color);\n",
              "    height: 32px;\n",
              "    padding: 0;\n",
              "    width: 32px;\n",
              "  }\n",
              "\n",
              "  .colab-df-quickchart:hover {\n",
              "    background-color: var(--hover-bg-color);\n",
              "    box-shadow: 0 1px 2px rgba(60, 64, 67, 0.3), 0 1px 3px 1px rgba(60, 64, 67, 0.15);\n",
              "    fill: var(--button-hover-fill-color);\n",
              "  }\n",
              "\n",
              "  .colab-df-quickchart-complete:disabled,\n",
              "  .colab-df-quickchart-complete:disabled:hover {\n",
              "    background-color: var(--disabled-bg-color);\n",
              "    fill: var(--disabled-fill-color);\n",
              "    box-shadow: none;\n",
              "  }\n",
              "\n",
              "  .colab-df-spinner {\n",
              "    border: 2px solid var(--fill-color);\n",
              "    border-color: transparent;\n",
              "    border-bottom-color: var(--fill-color);\n",
              "    animation:\n",
              "      spin 1s steps(1) infinite;\n",
              "  }\n",
              "\n",
              "  @keyframes spin {\n",
              "    0% {\n",
              "      border-color: transparent;\n",
              "      border-bottom-color: var(--fill-color);\n",
              "      border-left-color: var(--fill-color);\n",
              "    }\n",
              "    20% {\n",
              "      border-color: transparent;\n",
              "      border-left-color: var(--fill-color);\n",
              "      border-top-color: var(--fill-color);\n",
              "    }\n",
              "    30% {\n",
              "      border-color: transparent;\n",
              "      border-left-color: var(--fill-color);\n",
              "      border-top-color: var(--fill-color);\n",
              "      border-right-color: var(--fill-color);\n",
              "    }\n",
              "    40% {\n",
              "      border-color: transparent;\n",
              "      border-right-color: var(--fill-color);\n",
              "      border-top-color: var(--fill-color);\n",
              "    }\n",
              "    60% {\n",
              "      border-color: transparent;\n",
              "      border-right-color: var(--fill-color);\n",
              "    }\n",
              "    80% {\n",
              "      border-color: transparent;\n",
              "      border-right-color: var(--fill-color);\n",
              "      border-bottom-color: var(--fill-color);\n",
              "    }\n",
              "    90% {\n",
              "      border-color: transparent;\n",
              "      border-bottom-color: var(--fill-color);\n",
              "    }\n",
              "  }\n",
              "</style>\n",
              "\n",
              "      <script>\n",
              "        async function quickchart(key) {\n",
              "          const quickchartButtonEl =\n",
              "            document.querySelector('#' + key + ' button');\n",
              "          quickchartButtonEl.disabled = true;  // To prevent multiple clicks.\n",
              "          quickchartButtonEl.classList.add('colab-df-spinner');\n",
              "          try {\n",
              "            const charts = await google.colab.kernel.invokeFunction(\n",
              "                'suggestCharts', [key], {});\n",
              "          } catch (error) {\n",
              "            console.error('Error during call to suggestCharts:', error);\n",
              "          }\n",
              "          quickchartButtonEl.classList.remove('colab-df-spinner');\n",
              "          quickchartButtonEl.classList.add('colab-df-quickchart-complete');\n",
              "        }\n",
              "        (() => {\n",
              "          let quickchartButtonEl =\n",
              "            document.querySelector('#df-2f5a3aae-71f0-490f-bb72-d773c5635a6d button');\n",
              "          quickchartButtonEl.style.display =\n",
              "            google.colab.kernel.accessAllowed ? 'block' : 'none';\n",
              "        })();\n",
              "      </script>\n",
              "    </div>\n",
              "\n",
              "  <div id=\"id_12413665-8fbe-498e-b93f-247f52d4e6bb\">\n",
              "    <style>\n",
              "      .colab-df-generate {\n",
              "        background-color: #E8F0FE;\n",
              "        border: none;\n",
              "        border-radius: 50%;\n",
              "        cursor: pointer;\n",
              "        display: none;\n",
              "        fill: #1967D2;\n",
              "        height: 32px;\n",
              "        padding: 0 0 0 0;\n",
              "        width: 32px;\n",
              "      }\n",
              "\n",
              "      .colab-df-generate:hover {\n",
              "        background-color: #E2EBFA;\n",
              "        box-shadow: 0px 1px 2px rgba(60, 64, 67, 0.3), 0px 1px 3px 1px rgba(60, 64, 67, 0.15);\n",
              "        fill: #174EA6;\n",
              "      }\n",
              "\n",
              "      [theme=dark] .colab-df-generate {\n",
              "        background-color: #3B4455;\n",
              "        fill: #D2E3FC;\n",
              "      }\n",
              "\n",
              "      [theme=dark] .colab-df-generate:hover {\n",
              "        background-color: #434B5C;\n",
              "        box-shadow: 0px 1px 3px 1px rgba(0, 0, 0, 0.15);\n",
              "        filter: drop-shadow(0px 1px 2px rgba(0, 0, 0, 0.3));\n",
              "        fill: #FFFFFF;\n",
              "      }\n",
              "    </style>\n",
              "    <button class=\"colab-df-generate\" onclick=\"generateWithVariable('balanced_df')\"\n",
              "            title=\"Generate code using this dataframe.\"\n",
              "            style=\"display:none;\">\n",
              "\n",
              "  <svg xmlns=\"http://www.w3.org/2000/svg\" height=\"24px\"viewBox=\"0 0 24 24\"\n",
              "       width=\"24px\">\n",
              "    <path d=\"M7,19H8.4L18.45,9,17,7.55,7,17.6ZM5,21V16.75L18.45,3.32a2,2,0,0,1,2.83,0l1.4,1.43a1.91,1.91,0,0,1,.58,1.4,1.91,1.91,0,0,1-.58,1.4L9.25,21ZM18.45,9,17,7.55Zm-12,3A5.31,5.31,0,0,0,4.9,8.1,5.31,5.31,0,0,0,1,6.5,5.31,5.31,0,0,0,4.9,4.9,5.31,5.31,0,0,0,6.5,1,5.31,5.31,0,0,0,8.1,4.9,5.31,5.31,0,0,0,12,6.5,5.46,5.46,0,0,0,6.5,12Z\"/>\n",
              "  </svg>\n",
              "    </button>\n",
              "    <script>\n",
              "      (() => {\n",
              "      const buttonEl =\n",
              "        document.querySelector('#id_12413665-8fbe-498e-b93f-247f52d4e6bb button.colab-df-generate');\n",
              "      buttonEl.style.display =\n",
              "        google.colab.kernel.accessAllowed ? 'block' : 'none';\n",
              "\n",
              "      buttonEl.onclick = () => {\n",
              "        google.colab.notebook.generateWithVariable('balanced_df');\n",
              "      }\n",
              "      })();\n",
              "    </script>\n",
              "  </div>\n",
              "\n",
              "    </div>\n",
              "  </div>\n"
            ],
            "application/vnd.google.colaboratory.intrinsic+json": {
              "type": "dataframe",
              "variable_name": "balanced_df",
              "summary": "{\n  \"name\": \"balanced_df\",\n  \"rows\": 1570,\n  \"fields\": [\n    {\n      \"column\": \"fault\",\n      \"properties\": {\n        \"dtype\": \"category\",\n        \"num_unique_values\": 9,\n        \"samples\": [\n          \"OR014_6_1_203\",\n          \"B014_1_191\",\n          \"IR021_1_215\"\n        ],\n        \"semantic_type\": \"\",\n        \"description\": \"\"\n      }\n    },\n    {\n      \"column\": \"window\",\n      \"properties\": {\n        \"dtype\": \"number\",\n        \"std\": 71,\n        \"min\": 1,\n        \"max\": 250,\n        \"num_unique_values\": 190,\n        \"samples\": [\n          218,\n          228,\n          140\n        ],\n        \"semantic_type\": \"\",\n        \"description\": \"\"\n      }\n    },\n    {\n      \"column\": \"mean\",\n      \"properties\": {\n        \"dtype\": \"number\",\n        \"std\": 0.0032011003010548925,\n        \"min\": 0.004926999316099,\n        \"max\": 0.0239915396609955,\n        \"num_unique_values\": 1561,\n        \"samples\": [\n          0.0146568425659964,\n          0.0124207049019917,\n          0.0117047184116663\n        ],\n        \"semantic_type\": \"\",\n        \"description\": \"\"\n      }\n    },\n    {\n      \"column\": \"std\",\n      \"properties\": {\n        \"dtype\": \"number\",\n        \"std\": 0.3091893671292572,\n        \"min\": 0.0788515965546335,\n        \"max\": 1.178302815410755,\n        \"num_unique_values\": 1566,\n        \"samples\": [\n          0.2654589830870465,\n          0.0998994694509996,\n          0.4013229074719134\n        ],\n        \"semantic_type\": \"\",\n        \"description\": \"\"\n      }\n    },\n    {\n      \"column\": \"rms\",\n      \"properties\": {\n        \"dtype\": \"number\",\n        \"std\": 0.3089670371640434,\n        \"min\": 0.079508764379051,\n        \"max\": 1.1783847497403548,\n        \"num_unique_values\": 1566,\n        \"samples\": [\n          0.2657461362221909,\n          0.100331146304088,\n          0.4015462312512206\n        ],\n        \"semantic_type\": \"\",\n        \"description\": \"\"\n      }\n    },\n    {\n      \"column\": \"max\",\n      \"properties\": {\n        \"dtype\": \"number\",\n        \"std\": 1.583517410793153,\n        \"min\": 0.2682793846153846,\n        \"max\": 7.323365333333333,\n        \"num_unique_values\": 1301,\n        \"samples\": [\n          1.3655963076923077,\n          1.407665333333333,\n          0.5411483076923076\n        ],\n        \"semantic_type\": \"\",\n        \"description\": \"\"\n      }\n    },\n    {\n      \"column\": \"min\",\n      \"properties\": {\n        \"dtype\": \"number\",\n        \"std\": 1.596448108480818,\n        \"min\": -6.686514666666666,\n        \"max\": -0.1831643076923076,\n        \"num_unique_values\": 1319,\n        \"samples\": [\n          -1.3813733333333331,\n          -4.822704,\n          -1.098004\n        ],\n        \"semantic_type\": \"\",\n        \"description\": \"\"\n      }\n    },\n    {\n      \"column\": \"skewness\",\n      \"properties\": {\n        \"dtype\": \"number\",\n        \"std\": 0.20378912332584084,\n        \"min\": -1.1111534281744555,\n        \"max\": 1.016284851233214,\n        \"num_unique_values\": 1566,\n        \"samples\": [\n          -0.0456664216818192,\n          0.0483033434879244,\n          -0.0373611426153576\n        ],\n        \"semantic_type\": \"\",\n        \"description\": \"\"\n      }\n    },\n    {\n      \"column\": \"kurtosis\",\n      \"properties\": {\n        \"dtype\": \"number\",\n        \"std\": 5.522282687722395,\n        \"min\": -0.5317262574087676,\n        \"max\": 29.03618654586804,\n        \"num_unique_values\": 1566,\n        \"samples\": [\n          3.941705662748912,\n          0.3752921435913317,\n          8.450521400852116\n        ],\n        \"semantic_type\": \"\",\n        \"description\": \"\"\n      }\n    },\n    {\n      \"column\": \"form_factor\",\n      \"properties\": {\n        \"dtype\": \"number\",\n        \"std\": 0.23096040727668413,\n        \"min\": 1.211982438898609,\n        \"max\": 2.314423114971896,\n        \"num_unique_values\": 1566,\n        \"samples\": [\n          1.4160711859607928,\n          1.276987091061515,\n          1.6937974578032546\n        ],\n        \"semantic_type\": \"\",\n        \"description\": \"\"\n      }\n    },\n    {\n      \"column\": \"crest_factor\",\n      \"properties\": {\n        \"dtype\": \"number\",\n        \"std\": 1.3630156018797817,\n        \"min\": 2.6021400437271827,\n        \"max\": 10.01980277025321,\n        \"num_unique_values\": 1566,\n        \"samples\": [\n          4.8584737062935375,\n          3.7302075555449994,\n          5.5166881443034335\n        ],\n        \"semantic_type\": \"\",\n        \"description\": \"\"\n      }\n    }\n  ]\n}"
            }
          },
          "metadata": {},
          "execution_count": 19
        }
      ]
    },
    {
      "cell_type": "code",
      "source": [
        "import pandas as pd\n",
        "from sklearn.preprocessing import StandardScaler\n",
        "from sklearn.manifold import TSNE\n",
        "import matplotlib.pyplot as plt\n",
        "\n",
        "\n",
        "# Sort the dataset by the 'Fault' column\n",
        "balanced_df = balanced_df.sort_values(by='fault')\n",
        "\n",
        "# Separate features and target variable\n",
        "X = balanced_df.drop(columns=['fault'])  # Replace 'Fault' with actual target column name\n",
        "y = balanced_df['fault']\n",
        "\n",
        "# Normalize the feature columns using StandardScaler\n",
        "scaler = StandardScaler()\n",
        "X_normalized = pd.DataFrame(scaler.fit_transform(X), columns=X.columns)\n",
        "\n",
        "# Concatenate the normalized features with the target variable\n",
        "STAT_Motor_Fault_dataset_normalized = pd.concat([X_normalized, y.reset_index(drop=True)], axis=1)\n",
        "\n",
        "# Sort the normalized dataset by 'Fault' column\n",
        "STAT_Motor_Fault_dataset_normalized = STAT_Motor_Fault_dataset_normalized.sort_values(by='fault')\n",
        "\n",
        "# Apply t-SNE for dimensionality reduction\n",
        "tsne = TSNE(n_components=2, random_state=42)  # 2D t-SNE\n",
        "X_tsne = tsne.fit_transform(X_normalized)\n",
        "\n",
        "# Create a DataFrame for t-SNE results\n",
        "tSNE_representation = pd.DataFrame(X_tsne, columns=['t-SNE 1', 't-SNE 2'])\n",
        "tSNE_representation['fault'] = y.reset_index(drop=True)\n",
        "\n",
        "# Display the t-SNE representation\n",
        "print(tSNE_representation.head())\n",
        "\n",
        "# Optional: Visualization of t-SNE representation\n",
        "plt.figure(figsize=(8, 6))\n",
        "for label in tSNE_representation['fault'].unique():\n",
        "    subset = tSNE_representation[tSNE_representation['fault'] == label]\n",
        "    plt.scatter(subset['t-SNE 1'], subset['t-SNE 2'], label=f'fault {label}', alpha=0.7)\n",
        "\n",
        "plt.title('t-SNE Representation of Motor Fault Dataset')\n",
        "plt.xlabel('t-SNE 1')\n",
        "plt.ylabel('t-SNE 2')\n",
        "plt.legend()\n",
        "plt.show()\n"
      ],
      "metadata": {
        "id": "tV7aspjE3R4f",
        "colab": {
          "base_uri": "https://localhost:8080/",
          "height": 668
        },
        "outputId": "5da1331c-9ff8-43a1-e47a-9c0d2587cb88"
      },
      "id": "tV7aspjE3R4f",
      "execution_count": 20,
      "outputs": [
        {
          "output_type": "stream",
          "name": "stdout",
          "text": [
            "     t-SNE 1    t-SNE 2       fault\n",
            "0  38.621414 -15.725605  B007_1_124\n",
            "1  38.640255 -16.817499  B007_1_124\n",
            "2  41.808556 -17.248552  B007_1_124\n",
            "3  37.555050 -18.007557  B007_1_124\n",
            "4  36.262810   9.448457  B007_1_124\n"
          ]
        },
        {
          "output_type": "display_data",
          "data": {
            "text/plain": [
              "<Figure size 800x600 with 1 Axes>"
            ],
            "image/png": "[encoded data removed]"
          },
          "metadata": {}
        }
      ]
    },
    {
      "cell_type": "code",
      "source": [
        "tSNE_representation"
      ],
      "metadata": {
        "id": "QMwOLwssDgHU",
        "colab": {
          "base_uri": "https://localhost:8080/",
          "height": 424
        },
        "outputId": "096446ff-44cd-4d82-868b-bc305b7b5f6e"
      },
      "id": "QMwOLwssDgHU",
      "execution_count": 21,
      "outputs": [
        {
          "output_type": "execute_result",
          "data": {
            "text/plain": [
              "        t-SNE 1    t-SNE 2          fault\n",
              "0     38.621414 -15.725605     B007_1_124\n",
              "1     38.640255 -16.817499     B007_1_124\n",
              "2     41.808556 -17.248552     B007_1_124\n",
              "3     37.555050 -18.007557     B007_1_124\n",
              "4     36.262810   9.448457     B007_1_124\n",
              "...         ...        ...            ...\n",
              "1565 -39.167278  14.684276  OR021_6_1_240\n",
              "1566 -40.717625  18.480539  OR021_6_1_240\n",
              "1567   2.323227  14.056735  OR021_6_1_240\n",
              "1568 -20.448925   0.398333  OR021_6_1_240\n",
              "1569 -40.571865  12.654251  OR021_6_1_240\n",
              "\n",
              "[1570 rows x 3 columns]"
            ],
            "text/html": [
              "\n",
              "  <div id=\"df-87ddf333-4dfe-42d2-a204-13384027f3cb\" class=\"colab-df-container\">\n",
              "    <div>\n",
              "<style scoped>\n",
              "    .dataframe tbody tr th:only-of-type {\n",
              "        vertical-align: middle;\n",
              "    }\n",
              "\n",
              "    .dataframe tbody tr th {\n",
              "        vertical-align: top;\n",
              "    }\n",
              "\n",
              "    .dataframe thead th {\n",
              "        text-align: right;\n",
              "    }\n",
              "</style>\n",
              "<table border=\"1\" class=\"dataframe\">\n",
              "  <thead>\n",
              "    <tr style=\"text-align: right;\">\n",
              "      <th></th>\n",
              "      <th>t-SNE 1</th>\n",
              "      <th>t-SNE 2</th>\n",
              "      <th>fault</th>\n",
              "    </tr>\n",
              "  </thead>\n",
              "  <tbody>\n",
              "    <tr>\n",
              "      <th>0</th>\n",
              "      <td>38.621414</td>\n",
              "      <td>-15.725605</td>\n",
              "      <td>B007_1_124</td>\n",
              "    </tr>\n",
              "    <tr>\n",
              "      <th>1</th>\n",
              "      <td>38.640255</td>\n",
              "      <td>-16.817499</td>\n",
              "      <td>B007_1_124</td>\n",
              "    </tr>\n",
              "    <tr>\n",
              "      <th>2</th>\n",
              "      <td>41.808556</td>\n",
              "      <td>-17.248552</td>\n",
              "      <td>B007_1_124</td>\n",
              "    </tr>\n",
              "    <tr>\n",
              "      <th>3</th>\n",
              "      <td>37.555050</td>\n",
              "      <td>-18.007557</td>\n",
              "      <td>B007_1_124</td>\n",
              "    </tr>\n",
              "    <tr>\n",
              "      <th>4</th>\n",
              "      <td>36.262810</td>\n",
              "      <td>9.448457</td>\n",
              "      <td>B007_1_124</td>\n",
              "    </tr>\n",
              "    <tr>\n",
              "      <th>...</th>\n",
              "      <td>...</td>\n",
              "      <td>...</td>\n",
              "      <td>...</td>\n",
              "    </tr>\n",
              "    <tr>\n",
              "      <th>1565</th>\n",
              "      <td>-39.167278</td>\n",
              "      <td>14.684276</td>\n",
              "      <td>OR021_6_1_240</td>\n",
              "    </tr>\n",
              "    <tr>\n",
              "      <th>1566</th>\n",
              "      <td>-40.717625</td>\n",
              "      <td>18.480539</td>\n",
              "      <td>OR021_6_1_240</td>\n",
              "    </tr>\n",
              "    <tr>\n",
              "      <th>1567</th>\n",
              "      <td>2.323227</td>\n",
              "      <td>14.056735</td>\n",
              "      <td>OR021_6_1_240</td>\n",
              "    </tr>\n",
              "    <tr>\n",
              "      <th>1568</th>\n",
              "      <td>-20.448925</td>\n",
              "      <td>0.398333</td>\n",
              "      <td>OR021_6_1_240</td>\n",
              "    </tr>\n",
              "    <tr>\n",
              "      <th>1569</th>\n",
              "      <td>-40.571865</td>\n",
              "      <td>12.654251</td>\n",
              "      <td>OR021_6_1_240</td>\n",
              "    </tr>\n",
              "  </tbody>\n",
              "</table>\n",
              "<p>1570 rows × 3 columns</p>\n",
              "</div>\n",
              "    <div class=\"colab-df-buttons\">\n",
              "\n",
              "  <div class=\"colab-df-container\">\n",
              "    <button class=\"colab-df-convert\" onclick=\"convertToInteractive('df-87ddf333-4dfe-42d2-a204-13384027f3cb')\"\n",
              "            title=\"Convert this dataframe to an interactive table.\"\n",
              "            style=\"display:none;\">\n",
              "\n",
              "  <svg xmlns=\"http://www.w3.org/2000/svg\" height=\"24px\" viewBox=\"0 -960 960 960\">\n",
              "    <path d=\"M120-120v-720h720v720H120Zm60-500h600v-160H180v160Zm220 220h160v-160H400v160Zm0 220h160v-160H400v160ZM180-400h160v-160H180v160Zm440 0h160v-160H620v160ZM180-180h160v-160H180v160Zm440 0h160v-160H620v160Z\"/>\n",
              "  </svg>\n",
              "    </button>\n",
              "\n",
              "  <style>\n",
              "    .colab-df-container {\n",
              "      display:flex;\n",
              "      gap: 12px;\n",
              "    }\n",
              "\n",
              "    .colab-df-convert {\n",
              "      background-color: #E8F0FE;\n",
              "      border: none;\n",
              "      border-radius: 50%;\n",
              "      cursor: pointer;\n",
              "      display: none;\n",
              "      fill: #1967D2;\n",
              "      height: 32px;\n",
              "      padding: 0 0 0 0;\n",
              "      width: 32px;\n",
              "    }\n",
              "\n",
              "    .colab-df-convert:hover {\n",
              "      background-color: #E2EBFA;\n",
              "      box-shadow: 0px 1px 2px rgba(60, 64, 67, 0.3), 0px 1px 3px 1px rgba(60, 64, 67, 0.15);\n",
              "      fill: #174EA6;\n",
              "    }\n",
              "\n",
              "    .colab-df-buttons div {\n",
              "      margin-bottom: 4px;\n",
              "    }\n",
              "\n",
              "    [theme=dark] .colab-df-convert {\n",
              "      background-color: #3B4455;\n",
              "      fill: #D2E3FC;\n",
              "    }\n",
              "\n",
              "    [theme=dark] .colab-df-convert:hover {\n",
              "      background-color: #434B5C;\n",
              "      box-shadow: 0px 1px 3px 1px rgba(0, 0, 0, 0.15);\n",
              "      filter: drop-shadow(0px 1px 2px rgba(0, 0, 0, 0.3));\n",
              "      fill: #FFFFFF;\n",
              "    }\n",
              "  </style>\n",
              "\n",
              "    <script>\n",
              "      const buttonEl =\n",
              "        document.querySelector('#df-87ddf333-4dfe-42d2-a204-13384027f3cb button.colab-df-convert');\n",
              "      buttonEl.style.display =\n",
              "        google.colab.kernel.accessAllowed ? 'block' : 'none';\n",
              "\n",
              "      async function convertToInteractive(key) {\n",
              "        const element = document.querySelector('#df-87ddf333-4dfe-42d2-a204-13384027f3cb');\n",
              "        const dataTable =\n",
              "          await google.colab.kernel.invokeFunction('convertToInteractive',\n",
              "                                                    [key], {});\n",
              "        if (!dataTable) return;\n",
              "\n",
              "        const docLinkHtml = 'Like what you see? Visit the ' +\n",
              "          '<a target=\"_blank\" href=https://colab.research.google.com/notebooks/data_table.ipynb>data table notebook</a>'\n",
              "          + ' to learn more about interactive tables.';\n",
              "        element.innerHTML = '';\n",
              "        dataTable['output_type'] = 'display_data';\n",
              "        await google.colab.output.renderOutput(dataTable, element);\n",
              "        const docLink = document.createElement('div');\n",
              "        docLink.innerHTML = docLinkHtml;\n",
              "        element.appendChild(docLink);\n",
              "      }\n",
              "    </script>\n",
              "  </div>\n",
              "\n",
              "\n",
              "    <div id=\"df-0a93a2c9-0d4f-48d4-8449-b34eb636a1ff\">\n",
              "      <button class=\"colab-df-quickchart\" onclick=\"quickchart('df-0a93a2c9-0d4f-48d4-8449-b34eb636a1ff')\"\n",
              "                title=\"Suggest charts\"\n",
              "                style=\"display:none;\">\n",
              "\n",
              "<svg xmlns=\"http://www.w3.org/2000/svg\" height=\"24px\"viewBox=\"0 0 24 24\"\n",
              "     width=\"24px\">\n",
              "    <g>\n",
              "        <path d=\"M19 3H5c-1.1 0-2 .9-2 2v14c0 1.1.9 2 2 2h14c1.1 0 2-.9 2-2V5c0-1.1-.9-2-2-2zM9 17H7v-7h2v7zm4 0h-2V7h2v10zm4 0h-2v-4h2v4z\"/>\n",
              "    </g>\n",
              "</svg>\n",
              "      </button>\n",
              "\n",
              "<style>\n",
              "  .colab-df-quickchart {\n",
              "      --bg-color: #E8F0FE;\n",
              "      --fill-color: #1967D2;\n",
              "      --hover-bg-color: #E2EBFA;\n",
              "      --hover-fill-color: #174EA6;\n",
              "      --disabled-fill-color: #AAA;\n",
              "      --disabled-bg-color: #DDD;\n",
              "  }\n",
              "\n",
              "  [theme=dark] .colab-df-quickchart {\n",
              "      --bg-color: #3B4455;\n",
              "      --fill-color: #D2E3FC;\n",
              "      --hover-bg-color: #434B5C;\n",
              "      --hover-fill-color: #FFFFFF;\n",
              "      --disabled-bg-color: #3B4455;\n",
              "      --disabled-fill-color: #666;\n",
              "  }\n",
              "\n",
              "  .colab-df-quickchart {\n",
              "    background-color: var(--bg-color);\n",
              "    border: none;\n",
              "    border-radius: 50%;\n",
              "    cursor: pointer;\n",
              "    display: none;\n",
              "    fill: var(--fill-color);\n",
              "    height: 32px;\n",
              "    padding: 0;\n",
              "    width: 32px;\n",
              "  }\n",
              "\n",
              "  .colab-df-quickchart:hover {\n",
              "    background-color: var(--hover-bg-color);\n",
              "    box-shadow: 0 1px 2px rgba(60, 64, 67, 0.3), 0 1px 3px 1px rgba(60, 64, 67, 0.15);\n",
              "    fill: var(--button-hover-fill-color);\n",
              "  }\n",
              "\n",
              "  .colab-df-quickchart-complete:disabled,\n",
              "  .colab-df-quickchart-complete:disabled:hover {\n",
              "    background-color: var(--disabled-bg-color);\n",
              "    fill: var(--disabled-fill-color);\n",
              "    box-shadow: none;\n",
              "  }\n",
              "\n",
              "  .colab-df-spinner {\n",
              "    border: 2px solid var(--fill-color);\n",
              "    border-color: transparent;\n",
              "    border-bottom-color: var(--fill-color);\n",
              "    animation:\n",
              "      spin 1s steps(1) infinite;\n",
              "  }\n",
              "\n",
              "  @keyframes spin {\n",
              "    0% {\n",
              "      border-color: transparent;\n",
              "      border-bottom-color: var(--fill-color);\n",
              "      border-left-color: var(--fill-color);\n",
              "    }\n",
              "    20% {\n",
              "      border-color: transparent;\n",
              "      border-left-color: var(--fill-color);\n",
              "      border-top-color: var(--fill-color);\n",
              "    }\n",
              "    30% {\n",
              "      border-color: transparent;\n",
              "      border-left-color: var(--fill-color);\n",
              "      border-top-color: var(--fill-color);\n",
              "      border-right-color: var(--fill-color);\n",
              "    }\n",
              "    40% {\n",
              "      border-color: transparent;\n",
              "      border-right-color: var(--fill-color);\n",
              "      border-top-color: var(--fill-color);\n",
              "    }\n",
              "    60% {\n",
              "      border-color: transparent;\n",
              "      border-right-color: var(--fill-color);\n",
              "    }\n",
              "    80% {\n",
              "      border-color: transparent;\n",
              "      border-right-color: var(--fill-color);\n",
              "      border-bottom-color: var(--fill-color);\n",
              "    }\n",
              "    90% {\n",
              "      border-color: transparent;\n",
              "      border-bottom-color: var(--fill-color);\n",
              "    }\n",
              "  }\n",
              "</style>\n",
              "\n",
              "      <script>\n",
              "        async function quickchart(key) {\n",
              "          const quickchartButtonEl =\n",
              "            document.querySelector('#' + key + ' button');\n",
              "          quickchartButtonEl.disabled = true;  // To prevent multiple clicks.\n",
              "          quickchartButtonEl.classList.add('colab-df-spinner');\n",
              "          try {\n",
              "            const charts = await google.colab.kernel.invokeFunction(\n",
              "                'suggestCharts', [key], {});\n",
              "          } catch (error) {\n",
              "            console.error('Error during call to suggestCharts:', error);\n",
              "          }\n",
              "          quickchartButtonEl.classList.remove('colab-df-spinner');\n",
              "          quickchartButtonEl.classList.add('colab-df-quickchart-complete');\n",
              "        }\n",
              "        (() => {\n",
              "          let quickchartButtonEl =\n",
              "            document.querySelector('#df-0a93a2c9-0d4f-48d4-8449-b34eb636a1ff button');\n",
              "          quickchartButtonEl.style.display =\n",
              "            google.colab.kernel.accessAllowed ? 'block' : 'none';\n",
              "        })();\n",
              "      </script>\n",
              "    </div>\n",
              "\n",
              "  <div id=\"id_dc11fe32-31bf-4cd7-8b45-e00c6c316d3b\">\n",
              "    <style>\n",
              "      .colab-df-generate {\n",
              "        background-color: #E8F0FE;\n",
              "        border: none;\n",
              "        border-radius: 50%;\n",
              "        cursor: pointer;\n",
              "        display: none;\n",
              "        fill: #1967D2;\n",
              "        height: 32px;\n",
              "        padding: 0 0 0 0;\n",
              "        width: 32px;\n",
              "      }\n",
              "\n",
              "      .colab-df-generate:hover {\n",
              "        background-color: #E2EBFA;\n",
              "        box-shadow: 0px 1px 2px rgba(60, 64, 67, 0.3), 0px 1px 3px 1px rgba(60, 64, 67, 0.15);\n",
              "        fill: #174EA6;\n",
              "      }\n",
              "\n",
              "      [theme=dark] .colab-df-generate {\n",
              "        background-color: #3B4455;\n",
              "        fill: #D2E3FC;\n",
              "      }\n",
              "\n",
              "      [theme=dark] .colab-df-generate:hover {\n",
              "        background-color: #434B5C;\n",
              "        box-shadow: 0px 1px 3px 1px rgba(0, 0, 0, 0.15);\n",
              "        filter: drop-shadow(0px 1px 2px rgba(0, 0, 0, 0.3));\n",
              "        fill: #FFFFFF;\n",
              "      }\n",
              "    </style>\n",
              "    <button class=\"colab-df-generate\" onclick=\"generateWithVariable('tSNE_representation')\"\n",
              "            title=\"Generate code using this dataframe.\"\n",
              "            style=\"display:none;\">\n",
              "\n",
              "  <svg xmlns=\"http://www.w3.org/2000/svg\" height=\"24px\"viewBox=\"0 0 24 24\"\n",
              "       width=\"24px\">\n",
              "    <path d=\"M7,19H8.4L18.45,9,17,7.55,7,17.6ZM5,21V16.75L18.45,3.32a2,2,0,0,1,2.83,0l1.4,1.43a1.91,1.91,0,0,1,.58,1.4,1.91,1.91,0,0,1-.58,1.4L9.25,21ZM18.45,9,17,7.55Zm-12,3A5.31,5.31,0,0,0,4.9,8.1,5.31,5.31,0,0,0,1,6.5,5.31,5.31,0,0,0,4.9,4.9,5.31,5.31,0,0,0,6.5,1,5.31,5.31,0,0,0,8.1,4.9,5.31,5.31,0,0,0,12,6.5,5.46,5.46,0,0,0,6.5,12Z\"/>\n",
              "  </svg>\n",
              "    </button>\n",
              "    <script>\n",
              "      (() => {\n",
              "      const buttonEl =\n",
              "        document.querySelector('#id_dc11fe32-31bf-4cd7-8b45-e00c6c316d3b button.colab-df-generate');\n",
              "      buttonEl.style.display =\n",
              "        google.colab.kernel.accessAllowed ? 'block' : 'none';\n",
              "\n",
              "      buttonEl.onclick = () => {\n",
              "        google.colab.notebook.generateWithVariable('tSNE_representation');\n",
              "      }\n",
              "      })();\n",
              "    </script>\n",
              "  </div>\n",
              "\n",
              "    </div>\n",
              "  </div>\n"
            ],
            "application/vnd.google.colaboratory.intrinsic+json": {
              "type": "dataframe",
              "variable_name": "tSNE_representation",
              "summary": "{\n  \"name\": \"tSNE_representation\",\n  \"rows\": 1570,\n  \"fields\": [\n    {\n      \"column\": \"t-SNE 1\",\n      \"properties\": {\n        \"dtype\": \"float32\",\n        \"num_unique_values\": 1568,\n        \"samples\": [\n          -42.57236862182617,\n          -5.747710704803467,\n          12.682242393493652\n        ],\n        \"semantic_type\": \"\",\n        \"description\": \"\"\n      }\n    },\n    {\n      \"column\": \"t-SNE 2\",\n      \"properties\": {\n        \"dtype\": \"float32\",\n        \"num_unique_values\": 1568,\n        \"samples\": [\n          18.777854919433594,\n          -41.23801040649414,\n          11.399591445922852\n        ],\n        \"semantic_type\": \"\",\n        \"description\": \"\"\n      }\n    },\n    {\n      \"column\": \"fault\",\n      \"properties\": {\n        \"dtype\": \"category\",\n        \"num_unique_values\": 9,\n        \"samples\": [\n          \"OR014_6_1_203\",\n          \"B014_1_191\",\n          \"IR021_1_215\"\n        ],\n        \"semantic_type\": \"\",\n        \"description\": \"\"\n      }\n    }\n  ]\n}"
            }
          },
          "metadata": {},
          "execution_count": 21
        }
      ]
    },
    {
      "cell_type": "code",
      "source": [
        "tSNE_representation=tSNE_representation.drop(columns=['fault'])\n",
        "tSNE_representation"
      ],
      "metadata": {
        "id": "Pybzwduy8nhv",
        "colab": {
          "base_uri": "https://localhost:8080/",
          "height": 424
        },
        "outputId": "b13786f6-fdc7-4a25-d024-69259ed6a817"
      },
      "id": "Pybzwduy8nhv",
      "execution_count": 22,
      "outputs": [
        {
          "output_type": "execute_result",
          "data": {
            "text/plain": [
              "        t-SNE 1    t-SNE 2\n",
              "0     38.621414 -15.725605\n",
              "1     38.640255 -16.817499\n",
              "2     41.808556 -17.248552\n",
              "3     37.555050 -18.007557\n",
              "4     36.262810   9.448457\n",
              "...         ...        ...\n",
              "1565 -39.167278  14.684276\n",
              "1566 -40.717625  18.480539\n",
              "1567   2.323227  14.056735\n",
              "1568 -20.448925   0.398333\n",
              "1569 -40.571865  12.654251\n",
              "\n",
              "[1570 rows x 2 columns]"
            ],
            "text/html": [
              "\n",
              "  <div id=\"df-c79571be-d973-44e1-94ac-470f8c2fd301\" class=\"colab-df-container\">\n",
              "    <div>\n",
              "<style scoped>\n",
              "    .dataframe tbody tr th:only-of-type {\n",
              "        vertical-align: middle;\n",
              "    }\n",
              "\n",
              "    .dataframe tbody tr th {\n",
              "        vertical-align: top;\n",
              "    }\n",
              "\n",
              "    .dataframe thead th {\n",
              "        text-align: right;\n",
              "    }\n",
              "</style>\n",
              "<table border=\"1\" class=\"dataframe\">\n",
              "  <thead>\n",
              "    <tr style=\"text-align: right;\">\n",
              "      <th></th>\n",
              "      <th>t-SNE 1</th>\n",
              "      <th>t-SNE 2</th>\n",
              "    </tr>\n",
              "  </thead>\n",
              "  <tbody>\n",
              "    <tr>\n",
              "      <th>0</th>\n",
              "      <td>38.621414</td>\n",
              "      <td>-15.725605</td>\n",
              "    </tr>\n",
              "    <tr>\n",
              "      <th>1</th>\n",
              "      <td>38.640255</td>\n",
              "      <td>-16.817499</td>\n",
              "    </tr>\n",
              "    <tr>\n",
              "      <th>2</th>\n",
              "      <td>41.808556</td>\n",
              "      <td>-17.248552</td>\n",
              "    </tr>\n",
              "    <tr>\n",
              "      <th>3</th>\n",
              "      <td>37.555050</td>\n",
              "      <td>-18.007557</td>\n",
              "    </tr>\n",
              "    <tr>\n",
              "      <th>4</th>\n",
              "      <td>36.262810</td>\n",
              "      <td>9.448457</td>\n",
              "    </tr>\n",
              "    <tr>\n",
              "      <th>...</th>\n",
              "      <td>...</td>\n",
              "      <td>...</td>\n",
              "    </tr>\n",
              "    <tr>\n",
              "      <th>1565</th>\n",
              "      <td>-39.167278</td>\n",
              "      <td>14.684276</td>\n",
              "    </tr>\n",
              "    <tr>\n",
              "      <th>1566</th>\n",
              "      <td>-40.717625</td>\n",
              "      <td>18.480539</td>\n",
              "    </tr>\n",
              "    <tr>\n",
              "      <th>1567</th>\n",
              "      <td>2.323227</td>\n",
              "      <td>14.056735</td>\n",
              "    </tr>\n",
              "    <tr>\n",
              "      <th>1568</th>\n",
              "      <td>-20.448925</td>\n",
              "      <td>0.398333</td>\n",
              "    </tr>\n",
              "    <tr>\n",
              "      <th>1569</th>\n",
              "      <td>-40.571865</td>\n",
              "      <td>12.654251</td>\n",
              "    </tr>\n",
              "  </tbody>\n",
              "</table>\n",
              "<p>1570 rows × 2 columns</p>\n",
              "</div>\n",
              "    <div class=\"colab-df-buttons\">\n",
              "\n",
              "  <div class=\"colab-df-container\">\n",
              "    <button class=\"colab-df-convert\" onclick=\"convertToInteractive('df-c79571be-d973-44e1-94ac-470f8c2fd301')\"\n",
              "            title=\"Convert this dataframe to an interactive table.\"\n",
              "            style=\"display:none;\">\n",
              "\n",
              "  <svg xmlns=\"http://www.w3.org/2000/svg\" height=\"24px\" viewBox=\"0 -960 960 960\">\n",
              "    <path d=\"M120-120v-720h720v720H120Zm60-500h600v-160H180v160Zm220 220h160v-160H400v160Zm0 220h160v-160H400v160ZM180-400h160v-160H180v160Zm440 0h160v-160H620v160ZM180-180h160v-160H180v160Zm440 0h160v-160H620v160Z\"/>\n",
              "  </svg>\n",
              "    </button>\n",
              "\n",
              "  <style>\n",
              "    .colab-df-container {\n",
              "      display:flex;\n",
              "      gap: 12px;\n",
              "    }\n",
              "\n",
              "    .colab-df-convert {\n",
              "      background-color: #E8F0FE;\n",
              "      border: none;\n",
              "      border-radius: 50%;\n",
              "      cursor: pointer;\n",
              "      display: none;\n",
              "      fill: #1967D2;\n",
              "      height: 32px;\n",
              "      padding: 0 0 0 0;\n",
              "      width: 32px;\n",
              "    }\n",
              "\n",
              "    .colab-df-convert:hover {\n",
              "      background-color: #E2EBFA;\n",
              "      box-shadow: 0px 1px 2px rgba(60, 64, 67, 0.3), 0px 1px 3px 1px rgba(60, 64, 67, 0.15);\n",
              "      fill: #174EA6;\n",
              "    }\n",
              "\n",
              "    .colab-df-buttons div {\n",
              "      margin-bottom: 4px;\n",
              "    }\n",
              "\n",
              "    [theme=dark] .colab-df-convert {\n",
              "      background-color: #3B4455;\n",
              "      fill: #D2E3FC;\n",
              "    }\n",
              "\n",
              "    [theme=dark] .colab-df-convert:hover {\n",
              "      background-color: #434B5C;\n",
              "      box-shadow: 0px 1px 3px 1px rgba(0, 0, 0, 0.15);\n",
              "      filter: drop-shadow(0px 1px 2px rgba(0, 0, 0, 0.3));\n",
              "      fill: #FFFFFF;\n",
              "    }\n",
              "  </style>\n",
              "\n",
              "    <script>\n",
              "      const buttonEl =\n",
              "        document.querySelector('#df-c79571be-d973-44e1-94ac-470f8c2fd301 button.colab-df-convert');\n",
              "      buttonEl.style.display =\n",
              "        google.colab.kernel.accessAllowed ? 'block' : 'none';\n",
              "\n",
              "      async function convertToInteractive(key) {\n",
              "        const element = document.querySelector('#df-c79571be-d973-44e1-94ac-470f8c2fd301');\n",
              "        const dataTable =\n",
              "          await google.colab.kernel.invokeFunction('convertToInteractive',\n",
              "                                                    [key], {});\n",
              "        if (!dataTable) return;\n",
              "\n",
              "        const docLinkHtml = 'Like what you see? Visit the ' +\n",
              "          '<a target=\"_blank\" href=https://colab.research.google.com/notebooks/data_table.ipynb>data table notebook</a>'\n",
              "          + ' to learn more about interactive tables.';\n",
              "        element.innerHTML = '';\n",
              "        dataTable['output_type'] = 'display_data';\n",
              "        await google.colab.output.renderOutput(dataTable, element);\n",
              "        const docLink = document.createElement('div');\n",
              "        docLink.innerHTML = docLinkHtml;\n",
              "        element.appendChild(docLink);\n",
              "      }\n",
              "    </script>\n",
              "  </div>\n",
              "\n",
              "\n",
              "    <div id=\"df-fff158c1-e6bf-4efd-9a74-61766d718854\">\n",
              "      <button class=\"colab-df-quickchart\" onclick=\"quickchart('df-fff158c1-e6bf-4efd-9a74-61766d718854')\"\n",
              "                title=\"Suggest charts\"\n",
              "                style=\"display:none;\">\n",
              "\n",
              "<svg xmlns=\"http://www.w3.org/2000/svg\" height=\"24px\"viewBox=\"0 0 24 24\"\n",
              "     width=\"24px\">\n",
              "    <g>\n",
              "        <path d=\"M19 3H5c-1.1 0-2 .9-2 2v14c0 1.1.9 2 2 2h14c1.1 0 2-.9 2-2V5c0-1.1-.9-2-2-2zM9 17H7v-7h2v7zm4 0h-2V7h2v10zm4 0h-2v-4h2v4z\"/>\n",
              "    </g>\n",
              "</svg>\n",
              "      </button>\n",
              "\n",
              "<style>\n",
              "  .colab-df-quickchart {\n",
              "      --bg-color: #E8F0FE;\n",
              "      --fill-color: #1967D2;\n",
              "      --hover-bg-color: #E2EBFA;\n",
              "      --hover-fill-color: #174EA6;\n",
              "      --disabled-fill-color: #AAA;\n",
              "      --disabled-bg-color: #DDD;\n",
              "  }\n",
              "\n",
              "  [theme=dark] .colab-df-quickchart {\n",
              "      --bg-color: #3B4455;\n",
              "      --fill-color: #D2E3FC;\n",
              "      --hover-bg-color: #434B5C;\n",
              "      --hover-fill-color: #FFFFFF;\n",
              "      --disabled-bg-color: #3B4455;\n",
              "      --disabled-fill-color: #666;\n",
              "  }\n",
              "\n",
              "  .colab-df-quickchart {\n",
              "    background-color: var(--bg-color);\n",
              "    border: none;\n",
              "    border-radius: 50%;\n",
              "    cursor: pointer;\n",
              "    display: none;\n",
              "    fill: var(--fill-color);\n",
              "    height: 32px;\n",
              "    padding: 0;\n",
              "    width: 32px;\n",
              "  }\n",
              "\n",
              "  .colab-df-quickchart:hover {\n",
              "    background-color: var(--hover-bg-color);\n",
              "    box-shadow: 0 1px 2px rgba(60, 64, 67, 0.3), 0 1px 3px 1px rgba(60, 64, 67, 0.15);\n",
              "    fill: var(--button-hover-fill-color);\n",
              "  }\n",
              "\n",
              "  .colab-df-quickchart-complete:disabled,\n",
              "  .colab-df-quickchart-complete:disabled:hover {\n",
              "    background-color: var(--disabled-bg-color);\n",
              "    fill: var(--disabled-fill-color);\n",
              "    box-shadow: none;\n",
              "  }\n",
              "\n",
              "  .colab-df-spinner {\n",
              "    border: 2px solid var(--fill-color);\n",
              "    border-color: transparent;\n",
              "    border-bottom-color: var(--fill-color);\n",
              "    animation:\n",
              "      spin 1s steps(1) infinite;\n",
              "  }\n",
              "\n",
              "  @keyframes spin {\n",
              "    0% {\n",
              "      border-color: transparent;\n",
              "      border-bottom-color: var(--fill-color);\n",
              "      border-left-color: var(--fill-color);\n",
              "    }\n",
              "    20% {\n",
              "      border-color: transparent;\n",
              "      border-left-color: var(--fill-color);\n",
              "      border-top-color: var(--fill-color);\n",
              "    }\n",
              "    30% {\n",
              "      border-color: transparent;\n",
              "      border-left-color: var(--fill-color);\n",
              "      border-top-color: var(--fill-color);\n",
              "      border-right-color: var(--fill-color);\n",
              "    }\n",
              "    40% {\n",
              "      border-color: transparent;\n",
              "      border-right-color: var(--fill-color);\n",
              "      border-top-color: var(--fill-color);\n",
              "    }\n",
              "    60% {\n",
              "      border-color: transparent;\n",
              "      border-right-color: var(--fill-color);\n",
              "    }\n",
              "    80% {\n",
              "      border-color: transparent;\n",
              "      border-right-color: var(--fill-color);\n",
              "      border-bottom-color: var(--fill-color);\n",
              "    }\n",
              "    90% {\n",
              "      border-color: transparent;\n",
              "      border-bottom-color: var(--fill-color);\n",
              "    }\n",
              "  }\n",
              "</style>\n",
              "\n",
              "      <script>\n",
              "        async function quickchart(key) {\n",
              "          const quickchartButtonEl =\n",
              "            document.querySelector('#' + key + ' button');\n",
              "          quickchartButtonEl.disabled = true;  // To prevent multiple clicks.\n",
              "          quickchartButtonEl.classList.add('colab-df-spinner');\n",
              "          try {\n",
              "            const charts = await google.colab.kernel.invokeFunction(\n",
              "                'suggestCharts', [key], {});\n",
              "          } catch (error) {\n",
              "            console.error('Error during call to suggestCharts:', error);\n",
              "          }\n",
              "          quickchartButtonEl.classList.remove('colab-df-spinner');\n",
              "          quickchartButtonEl.classList.add('colab-df-quickchart-complete');\n",
              "        }\n",
              "        (() => {\n",
              "          let quickchartButtonEl =\n",
              "            document.querySelector('#df-fff158c1-e6bf-4efd-9a74-61766d718854 button');\n",
              "          quickchartButtonEl.style.display =\n",
              "            google.colab.kernel.accessAllowed ? 'block' : 'none';\n",
              "        })();\n",
              "      </script>\n",
              "    </div>\n",
              "\n",
              "  <div id=\"id_41407341-7fff-4b4f-ae39-927fcdf8be54\">\n",
              "    <style>\n",
              "      .colab-df-generate {\n",
              "        background-color: #E8F0FE;\n",
              "        border: none;\n",
              "        border-radius: 50%;\n",
              "        cursor: pointer;\n",
              "        display: none;\n",
              "        fill: #1967D2;\n",
              "        height: 32px;\n",
              "        padding: 0 0 0 0;\n",
              "        width: 32px;\n",
              "      }\n",
              "\n",
              "      .colab-df-generate:hover {\n",
              "        background-color: #E2EBFA;\n",
              "        box-shadow: 0px 1px 2px rgba(60, 64, 67, 0.3), 0px 1px 3px 1px rgba(60, 64, 67, 0.15);\n",
              "        fill: #174EA6;\n",
              "      }\n",
              "\n",
              "      [theme=dark] .colab-df-generate {\n",
              "        background-color: #3B4455;\n",
              "        fill: #D2E3FC;\n",
              "      }\n",
              "\n",
              "      [theme=dark] .colab-df-generate:hover {\n",
              "        background-color: #434B5C;\n",
              "        box-shadow: 0px 1px 3px 1px rgba(0, 0, 0, 0.15);\n",
              "        filter: drop-shadow(0px 1px 2px rgba(0, 0, 0, 0.3));\n",
              "        fill: #FFFFFF;\n",
              "      }\n",
              "    </style>\n",
              "    <button class=\"colab-df-generate\" onclick=\"generateWithVariable('tSNE_representation')\"\n",
              "            title=\"Generate code using this dataframe.\"\n",
              "            style=\"display:none;\">\n",
              "\n",
              "  <svg xmlns=\"http://www.w3.org/2000/svg\" height=\"24px\"viewBox=\"0 0 24 24\"\n",
              "       width=\"24px\">\n",
              "    <path d=\"M7,19H8.4L18.45,9,17,7.55,7,17.6ZM5,21V16.75L18.45,3.32a2,2,0,0,1,2.83,0l1.4,1.43a1.91,1.91,0,0,1,.58,1.4,1.91,1.91,0,0,1-.58,1.4L9.25,21ZM18.45,9,17,7.55Zm-12,3A5.31,5.31,0,0,0,4.9,8.1,5.31,5.31,0,0,0,1,6.5,5.31,5.31,0,0,0,4.9,4.9,5.31,5.31,0,0,0,6.5,1,5.31,5.31,0,0,0,8.1,4.9,5.31,5.31,0,0,0,12,6.5,5.46,5.46,0,0,0,6.5,12Z\"/>\n",
              "  </svg>\n",
              "    </button>\n",
              "    <script>\n",
              "      (() => {\n",
              "      const buttonEl =\n",
              "        document.querySelector('#id_41407341-7fff-4b4f-ae39-927fcdf8be54 button.colab-df-generate');\n",
              "      buttonEl.style.display =\n",
              "        google.colab.kernel.accessAllowed ? 'block' : 'none';\n",
              "\n",
              "      buttonEl.onclick = () => {\n",
              "        google.colab.notebook.generateWithVariable('tSNE_representation');\n",
              "      }\n",
              "      })();\n",
              "    </script>\n",
              "  </div>\n",
              "\n",
              "    </div>\n",
              "  </div>\n"
            ],
            "application/vnd.google.colaboratory.intrinsic+json": {
              "type": "dataframe",
              "variable_name": "tSNE_representation",
              "summary": "{\n  \"name\": \"tSNE_representation\",\n  \"rows\": 1570,\n  \"fields\": [\n    {\n      \"column\": \"t-SNE 1\",\n      \"properties\": {\n        \"dtype\": \"float32\",\n        \"num_unique_values\": 1568,\n        \"samples\": [\n          -42.57236862182617,\n          -5.747710704803467,\n          12.682242393493652\n        ],\n        \"semantic_type\": \"\",\n        \"description\": \"\"\n      }\n    },\n    {\n      \"column\": \"t-SNE 2\",\n      \"properties\": {\n        \"dtype\": \"float32\",\n        \"num_unique_values\": 1568,\n        \"samples\": [\n          18.777854919433594,\n          -41.23801040649414,\n          11.399591445922852\n        ],\n        \"semantic_type\": \"\",\n        \"description\": \"\"\n      }\n    }\n  ]\n}"
            }
          },
          "metadata": {},
          "execution_count": 22
        }
      ]
    },
    {
      "cell_type": "code",
      "source": [
        "tSNEdf = tSNEdf.sort_values(by='Fault')"
      ],
      "metadata": {
        "id": "_TpCIloN904b"
      },
      "id": "_TpCIloN904b",
      "execution_count": 23,
      "outputs": []
    },
    {
      "cell_type": "code",
      "source": [
        "tSNEdf"
      ],
      "metadata": {
        "id": "xq2JlAOp_N5V",
        "colab": {
          "base_uri": "https://localhost:8080/",
          "height": 424
        },
        "outputId": "507ce9d5-ff2a-457d-fe40-c640240c1b85"
      },
      "id": "xq2JlAOp_N5V",
      "execution_count": 24,
      "outputs": [
        {
          "output_type": "execute_result",
          "data": {
            "text/plain": [
              "      T-SNE component 1  T-SNE component 2          Fault\n",
              "784           12.341525         -23.394547     B007_1_124\n",
              "1383          12.854080         -20.098133     B007_1_124\n",
              "122           10.741319         -25.879927     B007_1_124\n",
              "870           12.518214         -26.017153     B007_1_124\n",
              "871           10.829607         -25.570276     B007_1_124\n",
              "...                 ...                ...            ...\n",
              "144           16.652750          18.995682  OR021_6_1_240\n",
              "339           13.878169          13.896328  OR021_6_1_240\n",
              "1444          14.699662          18.263641  OR021_6_1_240\n",
              "567           19.062654          12.815113  OR021_6_1_240\n",
              "1427          20.327673          17.498302  OR021_6_1_240\n",
              "\n",
              "[1570 rows x 3 columns]"
            ],
            "text/html": [
              "\n",
              "  <div id=\"df-0f1f33fd-0184-419c-bee9-8c061565505f\" class=\"colab-df-container\">\n",
              "    <div>\n",
              "<style scoped>\n",
              "    .dataframe tbody tr th:only-of-type {\n",
              "        vertical-align: middle;\n",
              "    }\n",
              "\n",
              "    .dataframe tbody tr th {\n",
              "        vertical-align: top;\n",
              "    }\n",
              "\n",
              "    .dataframe thead th {\n",
              "        text-align: right;\n",
              "    }\n",
              "</style>\n",
              "<table border=\"1\" class=\"dataframe\">\n",
              "  <thead>\n",
              "    <tr style=\"text-align: right;\">\n",
              "      <th></th>\n",
              "      <th>T-SNE component 1</th>\n",
              "      <th>T-SNE component 2</th>\n",
              "      <th>Fault</th>\n",
              "    </tr>\n",
              "  </thead>\n",
              "  <tbody>\n",
              "    <tr>\n",
              "      <th>784</th>\n",
              "      <td>12.341525</td>\n",
              "      <td>-23.394547</td>\n",
              "      <td>B007_1_124</td>\n",
              "    </tr>\n",
              "    <tr>\n",
              "      <th>1383</th>\n",
              "      <td>12.854080</td>\n",
              "      <td>-20.098133</td>\n",
              "      <td>B007_1_124</td>\n",
              "    </tr>\n",
              "    <tr>\n",
              "      <th>122</th>\n",
              "      <td>10.741319</td>\n",
              "      <td>-25.879927</td>\n",
              "      <td>B007_1_124</td>\n",
              "    </tr>\n",
              "    <tr>\n",
              "      <th>870</th>\n",
              "      <td>12.518214</td>\n",
              "      <td>-26.017153</td>\n",
              "      <td>B007_1_124</td>\n",
              "    </tr>\n",
              "    <tr>\n",
              "      <th>871</th>\n",
              "      <td>10.829607</td>\n",
              "      <td>-25.570276</td>\n",
              "      <td>B007_1_124</td>\n",
              "    </tr>\n",
              "    <tr>\n",
              "      <th>...</th>\n",
              "      <td>...</td>\n",
              "      <td>...</td>\n",
              "      <td>...</td>\n",
              "    </tr>\n",
              "    <tr>\n",
              "      <th>144</th>\n",
              "      <td>16.652750</td>\n",
              "      <td>18.995682</td>\n",
              "      <td>OR021_6_1_240</td>\n",
              "    </tr>\n",
              "    <tr>\n",
              "      <th>339</th>\n",
              "      <td>13.878169</td>\n",
              "      <td>13.896328</td>\n",
              "      <td>OR021_6_1_240</td>\n",
              "    </tr>\n",
              "    <tr>\n",
              "      <th>1444</th>\n",
              "      <td>14.699662</td>\n",
              "      <td>18.263641</td>\n",
              "      <td>OR021_6_1_240</td>\n",
              "    </tr>\n",
              "    <tr>\n",
              "      <th>567</th>\n",
              "      <td>19.062654</td>\n",
              "      <td>12.815113</td>\n",
              "      <td>OR021_6_1_240</td>\n",
              "    </tr>\n",
              "    <tr>\n",
              "      <th>1427</th>\n",
              "      <td>20.327673</td>\n",
              "      <td>17.498302</td>\n",
              "      <td>OR021_6_1_240</td>\n",
              "    </tr>\n",
              "  </tbody>\n",
              "</table>\n",
              "<p>1570 rows × 3 columns</p>\n",
              "</div>\n",
              "    <div class=\"colab-df-buttons\">\n",
              "\n",
              "  <div class=\"colab-df-container\">\n",
              "    <button class=\"colab-df-convert\" onclick=\"convertToInteractive('df-0f1f33fd-0184-419c-bee9-8c061565505f')\"\n",
              "            title=\"Convert this dataframe to an interactive table.\"\n",
              "            style=\"display:none;\">\n",
              "\n",
              "  <svg xmlns=\"http://www.w3.org/2000/svg\" height=\"24px\" viewBox=\"0 -960 960 960\">\n",
              "    <path d=\"M120-120v-720h720v720H120Zm60-500h600v-160H180v160Zm220 220h160v-160H400v160Zm0 220h160v-160H400v160ZM180-400h160v-160H180v160Zm440 0h160v-160H620v160ZM180-180h160v-160H180v160Zm440 0h160v-160H620v160Z\"/>\n",
              "  </svg>\n",
              "    </button>\n",
              "\n",
              "  <style>\n",
              "    .colab-df-container {\n",
              "      display:flex;\n",
              "      gap: 12px;\n",
              "    }\n",
              "\n",
              "    .colab-df-convert {\n",
              "      background-color: #E8F0FE;\n",
              "      border: none;\n",
              "      border-radius: 50%;\n",
              "      cursor: pointer;\n",
              "      display: none;\n",
              "      fill: #1967D2;\n",
              "      height: 32px;\n",
              "      padding: 0 0 0 0;\n",
              "      width: 32px;\n",
              "    }\n",
              "\n",
              "    .colab-df-convert:hover {\n",
              "      background-color: #E2EBFA;\n",
              "      box-shadow: 0px 1px 2px rgba(60, 64, 67, 0.3), 0px 1px 3px 1px rgba(60, 64, 67, 0.15);\n",
              "      fill: #174EA6;\n",
              "    }\n",
              "\n",
              "    .colab-df-buttons div {\n",
              "      margin-bottom: 4px;\n",
              "    }\n",
              "\n",
              "    [theme=dark] .colab-df-convert {\n",
              "      background-color: #3B4455;\n",
              "      fill: #D2E3FC;\n",
              "    }\n",
              "\n",
              "    [theme=dark] .colab-df-convert:hover {\n",
              "      background-color: #434B5C;\n",
              "      box-shadow: 0px 1px 3px 1px rgba(0, 0, 0, 0.15);\n",
              "      filter: drop-shadow(0px 1px 2px rgba(0, 0, 0, 0.3));\n",
              "      fill: #FFFFFF;\n",
              "    }\n",
              "  </style>\n",
              "\n",
              "    <script>\n",
              "      const buttonEl =\n",
              "        document.querySelector('#df-0f1f33fd-0184-419c-bee9-8c061565505f button.colab-df-convert');\n",
              "      buttonEl.style.display =\n",
              "        google.colab.kernel.accessAllowed ? 'block' : 'none';\n",
              "\n",
              "      async function convertToInteractive(key) {\n",
              "        const element = document.querySelector('#df-0f1f33fd-0184-419c-bee9-8c061565505f');\n",
              "        const dataTable =\n",
              "          await google.colab.kernel.invokeFunction('convertToInteractive',\n",
              "                                                    [key], {});\n",
              "        if (!dataTable) return;\n",
              "\n",
              "        const docLinkHtml = 'Like what you see? Visit the ' +\n",
              "          '<a target=\"_blank\" href=https://colab.research.google.com/notebooks/data_table.ipynb>data table notebook</a>'\n",
              "          + ' to learn more about interactive tables.';\n",
              "        element.innerHTML = '';\n",
              "        dataTable['output_type'] = 'display_data';\n",
              "        await google.colab.output.renderOutput(dataTable, element);\n",
              "        const docLink = document.createElement('div');\n",
              "        docLink.innerHTML = docLinkHtml;\n",
              "        element.appendChild(docLink);\n",
              "      }\n",
              "    </script>\n",
              "  </div>\n",
              "\n",
              "\n",
              "    <div id=\"df-8b6915e8-c7cf-4080-a63a-8e65ab42d705\">\n",
              "      <button class=\"colab-df-quickchart\" onclick=\"quickchart('df-8b6915e8-c7cf-4080-a63a-8e65ab42d705')\"\n",
              "                title=\"Suggest charts\"\n",
              "                style=\"display:none;\">\n",
              "\n",
              "<svg xmlns=\"http://www.w3.org/2000/svg\" height=\"24px\"viewBox=\"0 0 24 24\"\n",
              "     width=\"24px\">\n",
              "    <g>\n",
              "        <path d=\"M19 3H5c-1.1 0-2 .9-2 2v14c0 1.1.9 2 2 2h14c1.1 0 2-.9 2-2V5c0-1.1-.9-2-2-2zM9 17H7v-7h2v7zm4 0h-2V7h2v10zm4 0h-2v-4h2v4z\"/>\n",
              "    </g>\n",
              "</svg>\n",
              "      </button>\n",
              "\n",
              "<style>\n",
              "  .colab-df-quickchart {\n",
              "      --bg-color: #E8F0FE;\n",
              "      --fill-color: #1967D2;\n",
              "      --hover-bg-color: #E2EBFA;\n",
              "      --hover-fill-color: #174EA6;\n",
              "      --disabled-fill-color: #AAA;\n",
              "      --disabled-bg-color: #DDD;\n",
              "  }\n",
              "\n",
              "  [theme=dark] .colab-df-quickchart {\n",
              "      --bg-color: #3B4455;\n",
              "      --fill-color: #D2E3FC;\n",
              "      --hover-bg-color: #434B5C;\n",
              "      --hover-fill-color: #FFFFFF;\n",
              "      --disabled-bg-color: #3B4455;\n",
              "      --disabled-fill-color: #666;\n",
              "  }\n",
              "\n",
              "  .colab-df-quickchart {\n",
              "    background-color: var(--bg-color);\n",
              "    border: none;\n",
              "    border-radius: 50%;\n",
              "    cursor: pointer;\n",
              "    display: none;\n",
              "    fill: var(--fill-color);\n",
              "    height: 32px;\n",
              "    padding: 0;\n",
              "    width: 32px;\n",
              "  }\n",
              "\n",
              "  .colab-df-quickchart:hover {\n",
              "    background-color: var(--hover-bg-color);\n",
              "    box-shadow: 0 1px 2px rgba(60, 64, 67, 0.3), 0 1px 3px 1px rgba(60, 64, 67, 0.15);\n",
              "    fill: var(--button-hover-fill-color);\n",
              "  }\n",
              "\n",
              "  .colab-df-quickchart-complete:disabled,\n",
              "  .colab-df-quickchart-complete:disabled:hover {\n",
              "    background-color: var(--disabled-bg-color);\n",
              "    fill: var(--disabled-fill-color);\n",
              "    box-shadow: none;\n",
              "  }\n",
              "\n",
              "  .colab-df-spinner {\n",
              "    border: 2px solid var(--fill-color);\n",
              "    border-color: transparent;\n",
              "    border-bottom-color: var(--fill-color);\n",
              "    animation:\n",
              "      spin 1s steps(1) infinite;\n",
              "  }\n",
              "\n",
              "  @keyframes spin {\n",
              "    0% {\n",
              "      border-color: transparent;\n",
              "      border-bottom-color: var(--fill-color);\n",
              "      border-left-color: var(--fill-color);\n",
              "    }\n",
              "    20% {\n",
              "      border-color: transparent;\n",
              "      border-left-color: var(--fill-color);\n",
              "      border-top-color: var(--fill-color);\n",
              "    }\n",
              "    30% {\n",
              "      border-color: transparent;\n",
              "      border-left-color: var(--fill-color);\n",
              "      border-top-color: var(--fill-color);\n",
              "      border-right-color: var(--fill-color);\n",
              "    }\n",
              "    40% {\n",
              "      border-color: transparent;\n",
              "      border-right-color: var(--fill-color);\n",
              "      border-top-color: var(--fill-color);\n",
              "    }\n",
              "    60% {\n",
              "      border-color: transparent;\n",
              "      border-right-color: var(--fill-color);\n",
              "    }\n",
              "    80% {\n",
              "      border-color: transparent;\n",
              "      border-right-color: var(--fill-color);\n",
              "      border-bottom-color: var(--fill-color);\n",
              "    }\n",
              "    90% {\n",
              "      border-color: transparent;\n",
              "      border-bottom-color: var(--fill-color);\n",
              "    }\n",
              "  }\n",
              "</style>\n",
              "\n",
              "      <script>\n",
              "        async function quickchart(key) {\n",
              "          const quickchartButtonEl =\n",
              "            document.querySelector('#' + key + ' button');\n",
              "          quickchartButtonEl.disabled = true;  // To prevent multiple clicks.\n",
              "          quickchartButtonEl.classList.add('colab-df-spinner');\n",
              "          try {\n",
              "            const charts = await google.colab.kernel.invokeFunction(\n",
              "                'suggestCharts', [key], {});\n",
              "          } catch (error) {\n",
              "            console.error('Error during call to suggestCharts:', error);\n",
              "          }\n",
              "          quickchartButtonEl.classList.remove('colab-df-spinner');\n",
              "          quickchartButtonEl.classList.add('colab-df-quickchart-complete');\n",
              "        }\n",
              "        (() => {\n",
              "          let quickchartButtonEl =\n",
              "            document.querySelector('#df-8b6915e8-c7cf-4080-a63a-8e65ab42d705 button');\n",
              "          quickchartButtonEl.style.display =\n",
              "            google.colab.kernel.accessAllowed ? 'block' : 'none';\n",
              "        })();\n",
              "      </script>\n",
              "    </div>\n",
              "\n",
              "  <div id=\"id_0879b008-3075-47b3-8524-66b4fc27521b\">\n",
              "    <style>\n",
              "      .colab-df-generate {\n",
              "        background-color: #E8F0FE;\n",
              "        border: none;\n",
              "        border-radius: 50%;\n",
              "        cursor: pointer;\n",
              "        display: none;\n",
              "        fill: #1967D2;\n",
              "        height: 32px;\n",
              "        padding: 0 0 0 0;\n",
              "        width: 32px;\n",
              "      }\n",
              "\n",
              "      .colab-df-generate:hover {\n",
              "        background-color: #E2EBFA;\n",
              "        box-shadow: 0px 1px 2px rgba(60, 64, 67, 0.3), 0px 1px 3px 1px rgba(60, 64, 67, 0.15);\n",
              "        fill: #174EA6;\n",
              "      }\n",
              "\n",
              "      [theme=dark] .colab-df-generate {\n",
              "        background-color: #3B4455;\n",
              "        fill: #D2E3FC;\n",
              "      }\n",
              "\n",
              "      [theme=dark] .colab-df-generate:hover {\n",
              "        background-color: #434B5C;\n",
              "        box-shadow: 0px 1px 3px 1px rgba(0, 0, 0, 0.15);\n",
              "        filter: drop-shadow(0px 1px 2px rgba(0, 0, 0, 0.3));\n",
              "        fill: #FFFFFF;\n",
              "      }\n",
              "    </style>\n",
              "    <button class=\"colab-df-generate\" onclick=\"generateWithVariable('tSNEdf')\"\n",
              "            title=\"Generate code using this dataframe.\"\n",
              "            style=\"display:none;\">\n",
              "\n",
              "  <svg xmlns=\"http://www.w3.org/2000/svg\" height=\"24px\"viewBox=\"0 0 24 24\"\n",
              "       width=\"24px\">\n",
              "    <path d=\"M7,19H8.4L18.45,9,17,7.55,7,17.6ZM5,21V16.75L18.45,3.32a2,2,0,0,1,2.83,0l1.4,1.43a1.91,1.91,0,0,1,.58,1.4,1.91,1.91,0,0,1-.58,1.4L9.25,21ZM18.45,9,17,7.55Zm-12,3A5.31,5.31,0,0,0,4.9,8.1,5.31,5.31,0,0,0,1,6.5,5.31,5.31,0,0,0,4.9,4.9,5.31,5.31,0,0,0,6.5,1,5.31,5.31,0,0,0,8.1,4.9,5.31,5.31,0,0,0,12,6.5,5.46,5.46,0,0,0,6.5,12Z\"/>\n",
              "  </svg>\n",
              "    </button>\n",
              "    <script>\n",
              "      (() => {\n",
              "      const buttonEl =\n",
              "        document.querySelector('#id_0879b008-3075-47b3-8524-66b4fc27521b button.colab-df-generate');\n",
              "      buttonEl.style.display =\n",
              "        google.colab.kernel.accessAllowed ? 'block' : 'none';\n",
              "\n",
              "      buttonEl.onclick = () => {\n",
              "        google.colab.notebook.generateWithVariable('tSNEdf');\n",
              "      }\n",
              "      })();\n",
              "    </script>\n",
              "  </div>\n",
              "\n",
              "    </div>\n",
              "  </div>\n"
            ],
            "application/vnd.google.colaboratory.intrinsic+json": {
              "type": "dataframe",
              "variable_name": "tSNEdf",
              "summary": "{\n  \"name\": \"tSNEdf\",\n  \"rows\": 1570,\n  \"fields\": [\n    {\n      \"column\": \"T-SNE component 1\",\n      \"properties\": {\n        \"dtype\": \"float32\",\n        \"num_unique_values\": 1570,\n        \"samples\": [\n          15.243569374084473,\n          -2.12184739112854,\n          -15.011100769042969\n        ],\n        \"semantic_type\": \"\",\n        \"description\": \"\"\n      }\n    },\n    {\n      \"column\": \"T-SNE component 2\",\n      \"properties\": {\n        \"dtype\": \"float32\",\n        \"num_unique_values\": 1570,\n        \"samples\": [\n          14.678947448730469,\n          24.152448654174805,\n          6.3623552322387695\n        ],\n        \"semantic_type\": \"\",\n        \"description\": \"\"\n      }\n    },\n    {\n      \"column\": \"Fault\",\n      \"properties\": {\n        \"dtype\": \"category\",\n        \"num_unique_values\": 9,\n        \"samples\": [\n          \"OR014_6_1_203\",\n          \"B014_1_191\",\n          \"IR021_1_215\"\n        ],\n        \"semantic_type\": \"\",\n        \"description\": \"\"\n      }\n    }\n  ]\n}"
            }
          },
          "metadata": {},
          "execution_count": 24
        }
      ]
    },
    {
      "cell_type": "markdown",
      "source": [
        "Combined Features"
      ],
      "metadata": {
        "id": "73T5xFDWQmML"
      },
      "id": "73T5xFDWQmML"
    },
    {
      "cell_type": "code",
      "source": [
        "# import pandas as pd\n",
        "\n",
        "# Assuming df1 and df2 are your two dataframes\n",
        "# Concatenate the dataframes vertically\n",
        "Motor_Fault_dataset = pd.concat([tSNE_representation, tSNEdf], axis=1)\n",
        "Motor_Fault_dataset=Motor_Fault_dataset.sort_values(by='Fault')\n",
        "Motor_Fault_dataset\n",
        "\n",
        "import pandas as pd\n",
        "from sklearn.preprocessing import StandardScaler\n",
        "\n",
        "# Assuming df1 and df2 are your two dataframes\n",
        "# Concatenate the dataframes vertically\n",
        "Motor_Fault_dataset = pd.concat([tSNE_representation, tSNEdf], axis=1)\n",
        "\n",
        "# Sort the dataset by 'Fault' column\n",
        "Motor_Fault_dataset = Motor_Fault_dataset.sort_values(by='Fault')\n",
        "Motor_Fault_dataset\n"
      ],
      "metadata": {
        "id": "sEmeYK5c8anK",
        "colab": {
          "base_uri": "https://localhost:8080/",
          "height": 424
        },
        "outputId": "d72110a8-16fb-44e7-861e-0f597327c819"
      },
      "id": "sEmeYK5c8anK",
      "execution_count": 25,
      "outputs": [
        {
          "output_type": "execute_result",
          "data": {
            "text/plain": [
              "        t-SNE 1    t-SNE 2  T-SNE component 1  T-SNE component 2  \\\n",
              "784   -5.044305   9.021394          12.341525         -23.394547   \n",
              "1383  18.172838  -2.387490          12.854080         -20.098133   \n",
              "122   32.633923 -20.124416          10.741319         -25.879927   \n",
              "870   44.297031   4.382257          12.518214         -26.017153   \n",
              "871   19.431067  22.467793          10.829607         -25.570276   \n",
              "...         ...        ...                ...                ...   \n",
              "144   43.456524   1.767082          16.652750          18.995682   \n",
              "339  -11.171915   0.903173          13.878169          13.896328   \n",
              "1444 -32.350132  14.032146          14.699662          18.263641   \n",
              "567   -0.428861  14.512167          19.062654          12.815113   \n",
              "1427 -40.763157  12.108436          20.327673          17.498302   \n",
              "\n",
              "              Fault  \n",
              "784      B007_1_124  \n",
              "1383     B007_1_124  \n",
              "122      B007_1_124  \n",
              "870      B007_1_124  \n",
              "871      B007_1_124  \n",
              "...             ...  \n",
              "144   OR021_6_1_240  \n",
              "339   OR021_6_1_240  \n",
              "1444  OR021_6_1_240  \n",
              "567   OR021_6_1_240  \n",
              "1427  OR021_6_1_240  \n",
              "\n",
              "[1570 rows x 5 columns]"
            ],
            "text/html": [
              "\n",
              "  <div id=\"df-74ab8388-9801-4844-ad51-89be036cc84d\" class=\"colab-df-container\">\n",
              "    <div>\n",
              "<style scoped>\n",
              "    .dataframe tbody tr th:only-of-type {\n",
              "        vertical-align: middle;\n",
              "    }\n",
              "\n",
              "    .dataframe tbody tr th {\n",
              "        vertical-align: top;\n",
              "    }\n",
              "\n",
              "    .dataframe thead th {\n",
              "        text-align: right;\n",
              "    }\n",
              "</style>\n",
              "<table border=\"1\" class=\"dataframe\">\n",
              "  <thead>\n",
              "    <tr style=\"text-align: right;\">\n",
              "      <th></th>\n",
              "      <th>t-SNE 1</th>\n",
              "      <th>t-SNE 2</th>\n",
              "      <th>T-SNE component 1</th>\n",
              "      <th>T-SNE component 2</th>\n",
              "      <th>Fault</th>\n",
              "    </tr>\n",
              "  </thead>\n",
              "  <tbody>\n",
              "    <tr>\n",
              "      <th>784</th>\n",
              "      <td>-5.044305</td>\n",
              "      <td>9.021394</td>\n",
              "      <td>12.341525</td>\n",
              "      <td>-23.394547</td>\n",
              "      <td>B007_1_124</td>\n",
              "    </tr>\n",
              "    <tr>\n",
              "      <th>1383</th>\n",
              "      <td>18.172838</td>\n",
              "      <td>-2.387490</td>\n",
              "      <td>12.854080</td>\n",
              "      <td>-20.098133</td>\n",
              "      <td>B007_1_124</td>\n",
              "    </tr>\n",
              "    <tr>\n",
              "      <th>122</th>\n",
              "      <td>32.633923</td>\n",
              "      <td>-20.124416</td>\n",
              "      <td>10.741319</td>\n",
              "      <td>-25.879927</td>\n",
              "      <td>B007_1_124</td>\n",
              "    </tr>\n",
              "    <tr>\n",
              "      <th>870</th>\n",
              "      <td>44.297031</td>\n",
              "      <td>4.382257</td>\n",
              "      <td>12.518214</td>\n",
              "      <td>-26.017153</td>\n",
              "      <td>B007_1_124</td>\n",
              "    </tr>\n",
              "    <tr>\n",
              "      <th>871</th>\n",
              "      <td>19.431067</td>\n",
              "      <td>22.467793</td>\n",
              "      <td>10.829607</td>\n",
              "      <td>-25.570276</td>\n",
              "      <td>B007_1_124</td>\n",
              "    </tr>\n",
              "    <tr>\n",
              "      <th>...</th>\n",
              "      <td>...</td>\n",
              "      <td>...</td>\n",
              "      <td>...</td>\n",
              "      <td>...</td>\n",
              "      <td>...</td>\n",
              "    </tr>\n",
              "    <tr>\n",
              "      <th>144</th>\n",
              "      <td>43.456524</td>\n",
              "      <td>1.767082</td>\n",
              "      <td>16.652750</td>\n",
              "      <td>18.995682</td>\n",
              "      <td>OR021_6_1_240</td>\n",
              "    </tr>\n",
              "    <tr>\n",
              "      <th>339</th>\n",
              "      <td>-11.171915</td>\n",
              "      <td>0.903173</td>\n",
              "      <td>13.878169</td>\n",
              "      <td>13.896328</td>\n",
              "      <td>OR021_6_1_240</td>\n",
              "    </tr>\n",
              "    <tr>\n",
              "      <th>1444</th>\n",
              "      <td>-32.350132</td>\n",
              "      <td>14.032146</td>\n",
              "      <td>14.699662</td>\n",
              "      <td>18.263641</td>\n",
              "      <td>OR021_6_1_240</td>\n",
              "    </tr>\n",
              "    <tr>\n",
              "      <th>567</th>\n",
              "      <td>-0.428861</td>\n",
              "      <td>14.512167</td>\n",
              "      <td>19.062654</td>\n",
              "      <td>12.815113</td>\n",
              "      <td>OR021_6_1_240</td>\n",
              "    </tr>\n",
              "    <tr>\n",
              "      <th>1427</th>\n",
              "      <td>-40.763157</td>\n",
              "      <td>12.108436</td>\n",
              "      <td>20.327673</td>\n",
              "      <td>17.498302</td>\n",
              "      <td>OR021_6_1_240</td>\n",
              "    </tr>\n",
              "  </tbody>\n",
              "</table>\n",
              "<p>1570 rows × 5 columns</p>\n",
              "</div>\n",
              "    <div class=\"colab-df-buttons\">\n",
              "\n",
              "  <div class=\"colab-df-container\">\n",
              "    <button class=\"colab-df-convert\" onclick=\"convertToInteractive('df-74ab8388-9801-4844-ad51-89be036cc84d')\"\n",
              "            title=\"Convert this dataframe to an interactive table.\"\n",
              "            style=\"display:none;\">\n",
              "\n",
              "  <svg xmlns=\"http://www.w3.org/2000/svg\" height=\"24px\" viewBox=\"0 -960 960 960\">\n",
              "    <path d=\"M120-120v-720h720v720H120Zm60-500h600v-160H180v160Zm220 220h160v-160H400v160Zm0 220h160v-160H400v160ZM180-400h160v-160H180v160Zm440 0h160v-160H620v160ZM180-180h160v-160H180v160Zm440 0h160v-160H620v160Z\"/>\n",
              "  </svg>\n",
              "    </button>\n",
              "\n",
              "  <style>\n",
              "    .colab-df-container {\n",
              "      display:flex;\n",
              "      gap: 12px;\n",
              "    }\n",
              "\n",
              "    .colab-df-convert {\n",
              "      background-color: #E8F0FE;\n",
              "      border: none;\n",
              "      border-radius: 50%;\n",
              "      cursor: pointer;\n",
              "      display: none;\n",
              "      fill: #1967D2;\n",
              "      height: 32px;\n",
              "      padding: 0 0 0 0;\n",
              "      width: 32px;\n",
              "    }\n",
              "\n",
              "    .colab-df-convert:hover {\n",
              "      background-color: #E2EBFA;\n",
              "      box-shadow: 0px 1px 2px rgba(60, 64, 67, 0.3), 0px 1px 3px 1px rgba(60, 64, 67, 0.15);\n",
              "      fill: #174EA6;\n",
              "    }\n",
              "\n",
              "    .colab-df-buttons div {\n",
              "      margin-bottom: 4px;\n",
              "    }\n",
              "\n",
              "    [theme=dark] .colab-df-convert {\n",
              "      background-color: #3B4455;\n",
              "      fill: #D2E3FC;\n",
              "    }\n",
              "\n",
              "    [theme=dark] .colab-df-convert:hover {\n",
              "      background-color: #434B5C;\n",
              "      box-shadow: 0px 1px 3px 1px rgba(0, 0, 0, 0.15);\n",
              "      filter: drop-shadow(0px 1px 2px rgba(0, 0, 0, 0.3));\n",
              "      fill: #FFFFFF;\n",
              "    }\n",
              "  </style>\n",
              "\n",
              "    <script>\n",
              "      const buttonEl =\n",
              "        document.querySelector('#df-74ab8388-9801-4844-ad51-89be036cc84d button.colab-df-convert');\n",
              "      buttonEl.style.display =\n",
              "        google.colab.kernel.accessAllowed ? 'block' : 'none';\n",
              "\n",
              "      async function convertToInteractive(key) {\n",
              "        const element = document.querySelector('#df-74ab8388-9801-4844-ad51-89be036cc84d');\n",
              "        const dataTable =\n",
              "          await google.colab.kernel.invokeFunction('convertToInteractive',\n",
              "                                                    [key], {});\n",
              "        if (!dataTable) return;\n",
              "\n",
              "        const docLinkHtml = 'Like what you see? Visit the ' +\n",
              "          '<a target=\"_blank\" href=https://colab.research.google.com/notebooks/data_table.ipynb>data table notebook</a>'\n",
              "          + ' to learn more about interactive tables.';\n",
              "        element.innerHTML = '';\n",
              "        dataTable['output_type'] = 'display_data';\n",
              "        await google.colab.output.renderOutput(dataTable, element);\n",
              "        const docLink = document.createElement('div');\n",
              "        docLink.innerHTML = docLinkHtml;\n",
              "        element.appendChild(docLink);\n",
              "      }\n",
              "    </script>\n",
              "  </div>\n",
              "\n",
              "\n",
              "    <div id=\"df-34fb72c2-9eae-49bd-be53-43bd97181919\">\n",
              "      <button class=\"colab-df-quickchart\" onclick=\"quickchart('df-34fb72c2-9eae-49bd-be53-43bd97181919')\"\n",
              "                title=\"Suggest charts\"\n",
              "                style=\"display:none;\">\n",
              "\n",
              "<svg xmlns=\"http://www.w3.org/2000/svg\" height=\"24px\"viewBox=\"0 0 24 24\"\n",
              "     width=\"24px\">\n",
              "    <g>\n",
              "        <path d=\"M19 3H5c-1.1 0-2 .9-2 2v14c0 1.1.9 2 2 2h14c1.1 0 2-.9 2-2V5c0-1.1-.9-2-2-2zM9 17H7v-7h2v7zm4 0h-2V7h2v10zm4 0h-2v-4h2v4z\"/>\n",
              "    </g>\n",
              "</svg>\n",
              "      </button>\n",
              "\n",
              "<style>\n",
              "  .colab-df-quickchart {\n",
              "      --bg-color: #E8F0FE;\n",
              "      --fill-color: #1967D2;\n",
              "      --hover-bg-color: #E2EBFA;\n",
              "      --hover-fill-color: #174EA6;\n",
              "      --disabled-fill-color: #AAA;\n",
              "      --disabled-bg-color: #DDD;\n",
              "  }\n",
              "\n",
              "  [theme=dark] .colab-df-quickchart {\n",
              "      --bg-color: #3B4455;\n",
              "      --fill-color: #D2E3FC;\n",
              "      --hover-bg-color: #434B5C;\n",
              "      --hover-fill-color: #FFFFFF;\n",
              "      --disabled-bg-color: #3B4455;\n",
              "      --disabled-fill-color: #666;\n",
              "  }\n",
              "\n",
              "  .colab-df-quickchart {\n",
              "    background-color: var(--bg-color);\n",
              "    border: none;\n",
              "    border-radius: 50%;\n",
              "    cursor: pointer;\n",
              "    display: none;\n",
              "    fill: var(--fill-color);\n",
              "    height: 32px;\n",
              "    padding: 0;\n",
              "    width: 32px;\n",
              "  }\n",
              "\n",
              "  .colab-df-quickchart:hover {\n",
              "    background-color: var(--hover-bg-color);\n",
              "    box-shadow: 0 1px 2px rgba(60, 64, 67, 0.3), 0 1px 3px 1px rgba(60, 64, 67, 0.15);\n",
              "    fill: var(--button-hover-fill-color);\n",
              "  }\n",
              "\n",
              "  .colab-df-quickchart-complete:disabled,\n",
              "  .colab-df-quickchart-complete:disabled:hover {\n",
              "    background-color: var(--disabled-bg-color);\n",
              "    fill: var(--disabled-fill-color);\n",
              "    box-shadow: none;\n",
              "  }\n",
              "\n",
              "  .colab-df-spinner {\n",
              "    border: 2px solid var(--fill-color);\n",
              "    border-color: transparent;\n",
              "    border-bottom-color: var(--fill-color);\n",
              "    animation:\n",
              "      spin 1s steps(1) infinite;\n",
              "  }\n",
              "\n",
              "  @keyframes spin {\n",
              "    0% {\n",
              "      border-color: transparent;\n",
              "      border-bottom-color: var(--fill-color);\n",
              "      border-left-color: var(--fill-color);\n",
              "    }\n",
              "    20% {\n",
              "      border-color: transparent;\n",
              "      border-left-color: var(--fill-color);\n",
              "      border-top-color: var(--fill-color);\n",
              "    }\n",
              "    30% {\n",
              "      border-color: transparent;\n",
              "      border-left-color: var(--fill-color);\n",
              "      border-top-color: var(--fill-color);\n",
              "      border-right-color: var(--fill-color);\n",
              "    }\n",
              "    40% {\n",
              "      border-color: transparent;\n",
              "      border-right-color: var(--fill-color);\n",
              "      border-top-color: var(--fill-color);\n",
              "    }\n",
              "    60% {\n",
              "      border-color: transparent;\n",
              "      border-right-color: var(--fill-color);\n",
              "    }\n",
              "    80% {\n",
              "      border-color: transparent;\n",
              "      border-right-color: var(--fill-color);\n",
              "      border-bottom-color: var(--fill-color);\n",
              "    }\n",
              "    90% {\n",
              "      border-color: transparent;\n",
              "      border-bottom-color: var(--fill-color);\n",
              "    }\n",
              "  }\n",
              "</style>\n",
              "\n",
              "      <script>\n",
              "        async function quickchart(key) {\n",
              "          const quickchartButtonEl =\n",
              "            document.querySelector('#' + key + ' button');\n",
              "          quickchartButtonEl.disabled = true;  // To prevent multiple clicks.\n",
              "          quickchartButtonEl.classList.add('colab-df-spinner');\n",
              "          try {\n",
              "            const charts = await google.colab.kernel.invokeFunction(\n",
              "                'suggestCharts', [key], {});\n",
              "          } catch (error) {\n",
              "            console.error('Error during call to suggestCharts:', error);\n",
              "          }\n",
              "          quickchartButtonEl.classList.remove('colab-df-spinner');\n",
              "          quickchartButtonEl.classList.add('colab-df-quickchart-complete');\n",
              "        }\n",
              "        (() => {\n",
              "          let quickchartButtonEl =\n",
              "            document.querySelector('#df-34fb72c2-9eae-49bd-be53-43bd97181919 button');\n",
              "          quickchartButtonEl.style.display =\n",
              "            google.colab.kernel.accessAllowed ? 'block' : 'none';\n",
              "        })();\n",
              "      </script>\n",
              "    </div>\n",
              "\n",
              "  <div id=\"id_5328aedb-3a57-4ad1-8d1d-91d1e7bec9d4\">\n",
              "    <style>\n",
              "      .colab-df-generate {\n",
              "        background-color: #E8F0FE;\n",
              "        border: none;\n",
              "        border-radius: 50%;\n",
              "        cursor: pointer;\n",
              "        display: none;\n",
              "        fill: #1967D2;\n",
              "        height: 32px;\n",
              "        padding: 0 0 0 0;\n",
              "        width: 32px;\n",
              "      }\n",
              "\n",
              "      .colab-df-generate:hover {\n",
              "        background-color: #E2EBFA;\n",
              "        box-shadow: 0px 1px 2px rgba(60, 64, 67, 0.3), 0px 1px 3px 1px rgba(60, 64, 67, 0.15);\n",
              "        fill: #174EA6;\n",
              "      }\n",
              "\n",
              "      [theme=dark] .colab-df-generate {\n",
              "        background-color: #3B4455;\n",
              "        fill: #D2E3FC;\n",
              "      }\n",
              "\n",
              "      [theme=dark] .colab-df-generate:hover {\n",
              "        background-color: #434B5C;\n",
              "        box-shadow: 0px 1px 3px 1px rgba(0, 0, 0, 0.15);\n",
              "        filter: drop-shadow(0px 1px 2px rgba(0, 0, 0, 0.3));\n",
              "        fill: #FFFFFF;\n",
              "      }\n",
              "    </style>\n",
              "    <button class=\"colab-df-generate\" onclick=\"generateWithVariable('Motor_Fault_dataset')\"\n",
              "            title=\"Generate code using this dataframe.\"\n",
              "            style=\"display:none;\">\n",
              "\n",
              "  <svg xmlns=\"http://www.w3.org/2000/svg\" height=\"24px\"viewBox=\"0 0 24 24\"\n",
              "       width=\"24px\">\n",
              "    <path d=\"M7,19H8.4L18.45,9,17,7.55,7,17.6ZM5,21V16.75L18.45,3.32a2,2,0,0,1,2.83,0l1.4,1.43a1.91,1.91,0,0,1,.58,1.4,1.91,1.91,0,0,1-.58,1.4L9.25,21ZM18.45,9,17,7.55Zm-12,3A5.31,5.31,0,0,0,4.9,8.1,5.31,5.31,0,0,0,1,6.5,5.31,5.31,0,0,0,4.9,4.9,5.31,5.31,0,0,0,6.5,1,5.31,5.31,0,0,0,8.1,4.9,5.31,5.31,0,0,0,12,6.5,5.46,5.46,0,0,0,6.5,12Z\"/>\n",
              "  </svg>\n",
              "    </button>\n",
              "    <script>\n",
              "      (() => {\n",
              "      const buttonEl =\n",
              "        document.querySelector('#id_5328aedb-3a57-4ad1-8d1d-91d1e7bec9d4 button.colab-df-generate');\n",
              "      buttonEl.style.display =\n",
              "        google.colab.kernel.accessAllowed ? 'block' : 'none';\n",
              "\n",
              "      buttonEl.onclick = () => {\n",
              "        google.colab.notebook.generateWithVariable('Motor_Fault_dataset');\n",
              "      }\n",
              "      })();\n",
              "    </script>\n",
              "  </div>\n",
              "\n",
              "    </div>\n",
              "  </div>\n"
            ],
            "application/vnd.google.colaboratory.intrinsic+json": {
              "type": "dataframe",
              "variable_name": "Motor_Fault_dataset",
              "summary": "{\n  \"name\": \"Motor_Fault_dataset\",\n  \"rows\": 1570,\n  \"fields\": [\n    {\n      \"column\": \"t-SNE 1\",\n      \"properties\": {\n        \"dtype\": \"float32\",\n        \"num_unique_values\": 1568,\n        \"samples\": [\n          4.9068732261657715,\n          3.406514883041382,\n          -1.4549024105072021\n        ],\n        \"semantic_type\": \"\",\n        \"description\": \"\"\n      }\n    },\n    {\n      \"column\": \"t-SNE 2\",\n      \"properties\": {\n        \"dtype\": \"float32\",\n        \"num_unique_values\": 1568,\n        \"samples\": [\n          -44.342979431152344,\n          0.2866893410682678,\n          7.798643112182617\n        ],\n        \"semantic_type\": \"\",\n        \"description\": \"\"\n      }\n    },\n    {\n      \"column\": \"T-SNE component 1\",\n      \"properties\": {\n        \"dtype\": \"float32\",\n        \"num_unique_values\": 1570,\n        \"samples\": [\n          15.243569374084473,\n          -2.12184739112854,\n          -15.011100769042969\n        ],\n        \"semantic_type\": \"\",\n        \"description\": \"\"\n      }\n    },\n    {\n      \"column\": \"T-SNE component 2\",\n      \"properties\": {\n        \"dtype\": \"float32\",\n        \"num_unique_values\": 1570,\n        \"samples\": [\n          14.678947448730469,\n          24.152448654174805,\n          6.3623552322387695\n        ],\n        \"semantic_type\": \"\",\n        \"description\": \"\"\n      }\n    },\n    {\n      \"column\": \"Fault\",\n      \"properties\": {\n        \"dtype\": \"category\",\n        \"num_unique_values\": 9,\n        \"samples\": [\n          \"OR014_6_1_203\",\n          \"B014_1_191\",\n          \"IR021_1_215\"\n        ],\n        \"semantic_type\": \"\",\n        \"description\": \"\"\n      }\n    }\n  ]\n}"
            }
          },
          "metadata": {},
          "execution_count": 25
        }
      ]
    },
    {
      "cell_type": "code",
      "source": [
        "#Classification Report for MKDCNN"
      ],
      "metadata": {
        "id": "zC_6vMBPsOs_"
      },
      "id": "zC_6vMBPsOs_",
      "execution_count": 26,
      "outputs": []
    },
    {
      "cell_type": "code",
      "source": [],
      "metadata": {
        "id": "b77LcDP9sPR2"
      },
      "id": "b77LcDP9sPR2",
      "execution_count": 26,
      "outputs": []
    },
    {
      "cell_type": "markdown",
      "source": [
        "HSPSO-CatBoost\n"
      ],
      "metadata": {
        "id": "wZFQ37UCYN1p"
      },
      "id": "wZFQ37UCYN1p"
    },
    {
      "cell_type": "code",
      "source": [
        "X = Motor_Fault_dataset.iloc[:, 0:4].values\n",
        "y = Motor_Fault_dataset.iloc[:, 4].values"
      ],
      "metadata": {
        "id": "f_P8BWzmYTg0"
      },
      "id": "f_P8BWzmYTg0",
      "execution_count": 27,
      "outputs": []
    },
    {
      "cell_type": "code",
      "source": [
        "# Splitting the dataset into the Training set and Test set\n",
        "from sklearn.model_selection import train_test_split\n",
        "X_train, X_test, y_train, y_test = train_test_split(X, y, test_size = 0.2)"
      ],
      "metadata": {
        "id": "vLMueEZ6YfvA"
      },
      "id": "vLMueEZ6YfvA",
      "execution_count": 28,
      "outputs": []
    },
    {
      "cell_type": "code",
      "source": [
        "pip install hyperactive"
      ],
      "metadata": {
        "id": "nsTDebhD9iQw",
        "colab": {
          "base_uri": "https://localhost:8080/"
        },
        "outputId": "6a963da7-fb9a-4280-830f-2b4653cda9b1"
      },
      "id": "nsTDebhD9iQw",
      "execution_count": 29,
      "outputs": [
        {
          "output_type": "stream",
          "name": "stdout",
          "text": [
            "Collecting hyperactive\n",
            "  Downloading hyperactive-4.8.0-py3-none-any.whl.metadata (42 kB)\n",
            "\u001b[?25l     \u001b[90m━━━━━━━━━━━━━━━━━━━━━━━━━━━━━━━━━━━━━━━━\u001b[0m \u001b[32m0.0/42.8 kB\u001b[0m \u001b[31m?\u001b[0m eta \u001b[36m-:--:--\u001b[0m\r\u001b[2K     \u001b[90m━━━━━━━━━━━━━━━━━━━━━━━━━━━━━━━━━━━━━━━━\u001b[0m \u001b[32m42.8/42.8 kB\u001b[0m \u001b[31m2.6 MB/s\u001b[0m eta \u001b[36m0:00:00\u001b[0m\n",
            "\u001b[?25hRequirement already satisfied: numpy<3.0.0,>=1.18.1 in /usr/local/lib/python3.11/dist-packages (from hyperactive) (2.0.2)\n",
            "Requirement already satisfied: tqdm<5.0.0,>=4.48.0 in /usr/local/lib/python3.11/dist-packages (from hyperactive) (4.67.1)\n",
            "Requirement already satisfied: pandas<3.0.0 in /usr/local/lib/python3.11/dist-packages (from hyperactive) (2.2.2)\n",
            "Collecting gradient-free-optimizers<2.0.0,>=1.2.4 (from hyperactive)\n",
            "  Downloading gradient_free_optimizers-1.7.1-py3-none-any.whl.metadata (31 kB)\n",
            "Requirement already satisfied: scipy<2.0.0 in /usr/local/lib/python3.11/dist-packages (from gradient-free-optimizers<2.0.0,>=1.2.4->hyperactive) (1.15.3)\n",
            "Requirement already satisfied: scikit-learn!=0.23.*,>=0.21 in /usr/local/lib/python3.11/dist-packages (from gradient-free-optimizers<2.0.0,>=1.2.4->hyperactive) (1.6.1)\n",
            "Requirement already satisfied: python-dateutil>=2.8.2 in /usr/local/lib/python3.11/dist-packages (from pandas<3.0.0->hyperactive) (2.9.0.post0)\n",
            "Requirement already satisfied: pytz>=2020.1 in /usr/local/lib/python3.11/dist-packages (from pandas<3.0.0->hyperactive) (2025.2)\n",
            "Requirement already satisfied: tzdata>=2022.7 in /usr/local/lib/python3.11/dist-packages (from pandas<3.0.0->hyperactive) (2025.2)\n",
            "Requirement already satisfied: six>=1.5 in /usr/local/lib/python3.11/dist-packages (from python-dateutil>=2.8.2->pandas<3.0.0->hyperactive) (1.17.0)\n",
            "Requirement already satisfied: joblib>=1.2.0 in /usr/local/lib/python3.11/dist-packages (from scikit-learn!=0.23.*,>=0.21->gradient-free-optimizers<2.0.0,>=1.2.4->hyperactive) (1.5.1)\n",
            "Requirement already satisfied: threadpoolctl>=3.1.0 in /usr/local/lib/python3.11/dist-packages (from scikit-learn!=0.23.*,>=0.21->gradient-free-optimizers<2.0.0,>=1.2.4->hyperactive) (3.6.0)\n",
            "Downloading hyperactive-4.8.0-py3-none-any.whl (30 kB)\n",
            "Downloading gradient_free_optimizers-1.7.1-py3-none-any.whl (95 kB)\n",
            "\u001b[2K   \u001b[90m━━━━━━━━━━━━━━━━━━━━━━━━━━━━━━━━━━━━━━━━\u001b[0m \u001b[32m95.8/95.8 kB\u001b[0m \u001b[31m6.7 MB/s\u001b[0m eta \u001b[36m0:00:00\u001b[0m\n",
            "\u001b[?25hInstalling collected packages: gradient-free-optimizers, hyperactive\n",
            "Successfully installed gradient-free-optimizers-1.7.1 hyperactive-4.8.0\n"
          ]
        }
      ]
    },
    {
      "cell_type": "code",
      "source": [
        "pip install catboost"
      ],
      "metadata": {
        "id": "UTH39uc29p_Q",
        "colab": {
          "base_uri": "https://localhost:8080/"
        },
        "outputId": "de575510-60e1-4ae0-9dc9-d7381c4ee5c7"
      },
      "id": "UTH39uc29p_Q",
      "execution_count": 30,
      "outputs": [
        {
          "output_type": "stream",
          "name": "stdout",
          "text": [
            "Collecting catboost\n",
            "  Downloading catboost-1.2.8-cp311-cp311-manylinux2014_x86_64.whl.metadata (1.2 kB)\n",
            "Requirement already satisfied: graphviz in /usr/local/lib/python3.11/dist-packages (from catboost) (0.21)\n",
            "Requirement already satisfied: matplotlib in /usr/local/lib/python3.11/dist-packages (from catboost) (3.10.0)\n",
            "Requirement already satisfied: numpy<3.0,>=1.16.0 in /usr/local/lib/python3.11/dist-packages (from catboost) (2.0.2)\n",
            "Requirement already satisfied: pandas>=0.24 in /usr/local/lib/python3.11/dist-packages (from catboost) (2.2.2)\n",
            "Requirement already satisfied: scipy in /usr/local/lib/python3.11/dist-packages (from catboost) (1.15.3)\n",
            "Requirement already satisfied: plotly in /usr/local/lib/python3.11/dist-packages (from catboost) (5.24.1)\n",
            "Requirement already satisfied: six in /usr/local/lib/python3.11/dist-packages (from catboost) (1.17.0)\n",
            "Requirement already satisfied: python-dateutil>=2.8.2 in /usr/local/lib/python3.11/dist-packages (from pandas>=0.24->catboost) (2.9.0.post0)\n",
            "Requirement already satisfied: pytz>=2020.1 in /usr/local/lib/python3.11/dist-packages (from pandas>=0.24->catboost) (2025.2)\n",
            "Requirement already satisfied: tzdata>=2022.7 in /usr/local/lib/python3.11/dist-packages (from pandas>=0.24->catboost) (2025.2)\n",
            "Requirement already satisfied: contourpy>=1.0.1 in /usr/local/lib/python3.11/dist-packages (from matplotlib->catboost) (1.3.2)\n",
            "Requirement already satisfied: cycler>=0.10 in /usr/local/lib/python3.11/dist-packages (from matplotlib->catboost) (0.12.1)\n",
            "Requirement already satisfied: fonttools>=4.22.0 in /usr/local/lib/python3.11/dist-packages (from matplotlib->catboost) (4.58.4)\n",
            "Requirement already satisfied: kiwisolver>=1.3.1 in /usr/local/lib/python3.11/dist-packages (from matplotlib->catboost) (1.4.8)\n",
            "Requirement already satisfied: packaging>=20.0 in /usr/local/lib/python3.11/dist-packages (from matplotlib->catboost) (24.2)\n",
            "Requirement already satisfied: pillow>=8 in /usr/local/lib/python3.11/dist-packages (from matplotlib->catboost) (11.2.1)\n",
            "Requirement already satisfied: pyparsing>=2.3.1 in /usr/local/lib/python3.11/dist-packages (from matplotlib->catboost) (3.2.3)\n",
            "Requirement already satisfied: tenacity>=6.2.0 in /usr/local/lib/python3.11/dist-packages (from plotly->catboost) (9.1.2)\n",
            "Downloading catboost-1.2.8-cp311-cp311-manylinux2014_x86_64.whl (99.2 MB)\n",
            "\u001b[2K   \u001b[90m━━━━━━━━━━━━━━━━━━━━━━━━━━━━━━━━━━━━━━━━\u001b[0m \u001b[32m99.2/99.2 MB\u001b[0m \u001b[31m9.4 MB/s\u001b[0m eta \u001b[36m0:00:00\u001b[0m\n",
            "\u001b[?25hInstalling collected packages: catboost\n",
            "Successfully installed catboost-1.2.8\n"
          ]
        }
      ]
    },
    {
      "cell_type": "markdown",
      "source": [
        "Deployment:"
      ],
      "metadata": {
        "id": "Ul9AHZU5uIcP"
      },
      "id": "Ul9AHZU5uIcP"
    },
    {
      "cell_type": "code",
      "source": [
        "import numpy as np\n",
        "import pandas as pd\n",
        "from datetime import datetime\n",
        "from sklearn.model_selection import cross_val_score\n",
        "from catboost import CatBoostClassifier, Pool\n",
        "from hyperactive import Hyperactive\n",
        "from hyperactive.optimizers import ParticleSwarmOptimizer\n",
        "from sklearn.metrics import classification_report, confusion_matrix\n",
        "import matplotlib.pyplot as plt\n",
        "import seaborn as sns\n",
        "\n",
        "# === DATA: Replace X_train, X_test, y_train, y_test with your actual data ===\n",
        "# Example:\n",
        "# X_train, X_test, y_train, y_test = train_test_split(...)\n",
        "\n",
        "X, y = X_train, y_train\n",
        "\n",
        "# === Objective Function ===\n",
        "def model(opt):\n",
        "    CatBoost = CatBoostClassifier(\n",
        "        iterations=opt[\"iterations\"],\n",
        "        depth=opt[\"depth\"],\n",
        "        learning_rate=opt[\"learning_rate\"],\n",
        "        l2_leaf_reg=opt[\"l2_leaf_reg\"],\n",
        "        bagging_temperature=opt[\"bagging_temperature\"],\n",
        "        random_strength=opt[\"random_strength\"],\n",
        "        verbose=False\n",
        "    )\n",
        "    scores = cross_val_score(CatBoost, X, y, cv=4)\n",
        "    return scores.mean()\n",
        "\n",
        "# === Search Space ===\n",
        "search_space = {\n",
        "    \"iterations\": list(range(50, 501, 50)),\n",
        "    \"depth\": list(range(1, 11)),\n",
        "    \"learning_rate\": [0.01, 0.05, 0.1],\n",
        "    \"l2_leaf_reg\": [1, 3, 5],\n",
        "    \"bagging_temperature\": [0.5, 1, 1.5],\n",
        "    \"random_strength\": [0.5, 1, 1.5],\n",
        "}\n",
        "\n",
        "# === Cauchy Mutation ===\n",
        "def cauchy_mutation(particle, gamma=0.3):\n",
        "    for key in particle:\n",
        "        if isinstance(particle[key], (int, float)):\n",
        "            particle[key] = particle[key] * (1 + gamma * np.tan(np.pi * (np.random.rand() - 0.5)))\n",
        "            particle[key] = np.clip(particle[key], min(search_space[key]), max(search_space[key]))\n",
        "            if isinstance(search_space[key][0], int):\n",
        "                particle[key] = int(round(particle[key]))\n",
        "    return particle\n",
        "\n",
        "# === HSPSO Optimizer Class ===\n",
        "class HybridStrategyPSO(ParticleSwarmOptimizer):\n",
        "    def __init__(self, n_part=20, max_iter=40, **kwargs):\n",
        "        super().__init__(**kwargs)\n",
        "        self.switch_threshold = 10\n",
        "        self.iteration = 0\n",
        "        self.topology = \"gbest\"\n",
        "        self.n_part = n_part\n",
        "        self.max_iter = max_iter\n",
        "\n",
        "        # Adaptive Inertia Parameters\n",
        "        self.H = 1\n",
        "        self.w_min = 0.4\n",
        "        self.w_max = 0.9\n",
        "        self.b = 0.9\n",
        "        self.scaling_factor = 0.5\n",
        "\n",
        "    def on_iteration(self, swarm, scores):\n",
        "        self.iteration += 1\n",
        "\n",
        "        # === Topology Switching ===\n",
        "        if self.iteration % self.switch_threshold == 0:\n",
        "            self.topology = \"lbest\" if self.topology == \"gbest\" else \"gbest\"\n",
        "            self.set_topology(self.topology)\n",
        "\n",
        "        # === Clone Best Particles ===\n",
        "        best_indices = np.argsort(scores)[:max(1, len(swarm) // 5)]\n",
        "        for idx in best_indices:\n",
        "            particle = swarm[idx].copy()\n",
        "            swarm.append(particle)\n",
        "            scores.append(scores[idx])\n",
        "\n",
        "        # === Prune Worst Particles ===\n",
        "        if len(swarm) > 2 * self.n_part:\n",
        "            worst_indices = np.argsort(scores)[-len(swarm)//4:]\n",
        "            for i in reversed(worst_indices):\n",
        "                del swarm[i]\n",
        "                del scores[i]\n",
        "\n",
        "        # === Nonlinear Adaptive Inertia ===\n",
        "        numerator = (self.w_max - self.w_min) * self.iteration\n",
        "        denominator = 1 + np.exp(-10 * self.b * ((2 * self.iteration) / (self.H * self.max_iter) - 1))\n",
        "        self.inertia = self.w_max - numerator / denominator\n",
        "\n",
        "        # === Cauchy Mutation ===\n",
        "        for i in range(len(swarm)):\n",
        "            if np.random.rand() < 0.2:\n",
        "                swarm[i] = cauchy_mutation(swarm[i])\n",
        "\n",
        "        # === Hook-Jeeves Local Search (simplified) ===\n",
        "        top_ids = np.argsort(scores)[:2]\n",
        "        for i in top_ids:\n",
        "            particle = swarm[i]\n",
        "            for key in particle:\n",
        "                if isinstance(particle[key], (int, float)):\n",
        "                    for delta in [-0.01, 0.01] if isinstance(particle[key], float) else [-1, 1]:\n",
        "                        trial = particle.copy()\n",
        "                        trial[key] = trial[key] + delta\n",
        "                        trial[key] = np.clip(trial[key], min(search_space[key]), max(search_space[key]))\n",
        "                        if isinstance(search_space[key][0], int):\n",
        "                            trial[key] = int(round(trial[key]))\n",
        "                        trial_score = model(trial)\n",
        "                        if trial_score > scores[i]:\n",
        "                            swarm[i] = trial\n",
        "                            scores[i] = trial_score\n",
        "\n",
        "        # === Random Restart ===\n",
        "        if np.random.rand() < 0.1:\n",
        "            random_idx = np.random.choice(len(swarm))\n",
        "            for key in swarm[random_idx]:\n",
        "                if isinstance(swarm[random_idx][key], (int, float)):\n",
        "                    swarm[random_idx][key] = np.random.choice(search_space[key])\n",
        "\n",
        "# === Run HSPSO Hyperparameter Tuning ===\n",
        "start_time = datetime.now()\n",
        "\n",
        "hyper = Hyperactive()\n",
        "\n",
        "optimizer = HybridStrategyPSO(\n",
        "    n_part=20,\n",
        "    max_iter=40,\n",
        "    inertia=0.5,\n",
        "    cognitive_weight=0.9,\n",
        "    social_weight=0.5,\n",
        "    temp_weight=0.4,\n",
        "    rand_rest_p=0.05,\n",
        ")\n",
        "\n",
        "hyper.add_search(model, search_space, optimizer=optimizer, n_iter=40)\n",
        "hyper.run()\n",
        "\n",
        "end_time = datetime.now()\n",
        "print('Tuning Duration:', end_time - start_time)\n",
        "\n",
        "# === Best Parameters ===\n",
        "best_params = hyper.best_para(model)\n",
        "print(\"Best Parameters:\", best_params)\n",
        "\n",
        "# === Train Final Model with Best Parameters ===\n",
        "train_pool = Pool(data=X_train, label=y_train)\n",
        "test_pool = Pool(data=X_test, label=y_test)\n",
        "\n",
        "final_model = CatBoostClassifier(\n",
        "    depth=best_params[\"depth\"],\n",
        "    iterations=best_params[\"iterations\"],\n",
        "    learning_rate=best_params[\"learning_rate\"],\n",
        "    l2_leaf_reg=best_params[\"l2_leaf_reg\"],\n",
        "    bagging_temperature=best_params[\"bagging_temperature\"],\n",
        "    random_strength=best_params[\"random_strength\"],\n",
        "    verbose=10\n",
        ")\n",
        "\n",
        "final_model.fit(\n",
        "    train_pool,\n",
        "    eval_set=test_pool,\n",
        "    verbose=best_params[\"iterations\"] // 10,\n",
        "    plot=True\n",
        ")\n"
      ],
      "metadata": {
        "id": "jQr38vF8A9_i",
        "colab": {
          "base_uri": "https://localhost:8080/",
          "height": 697,
          "referenced_widgets": [
            "af63a29332634ca2982cedaf0f8f0eca"
          ]
        },
        "outputId": "7da0bfaf-a851-4067-ed2b-2b9ca69d4201"
      },
      "id": "jQr38vF8A9_i",
      "execution_count": 31,
      "outputs": [
        {
          "output_type": "stream",
          "name": "stderr",
          "text": [
            "[0] model (Particle Swarm Optimization): 100%|\u001b[32m──────────\u001b[0m| 40/40 [03:38<00:00,  5.46s/it, best_iter=0, best_pos=None, best_score=-inf]"
          ]
        },
        {
          "output_type": "stream",
          "name": "stdout",
          "text": [
            "\n",
            "\n",
            "Results: 'model'  \n",
            "   Best score: 0.9960191082802548  \n",
            "   Best parameter set:\n",
            "      'iterations'          : 350.0  \n",
            "      'depth'               : 8.0  \n",
            "      'learning_rate'       : 0.01  \n",
            "      'l2_leaf_reg'         : 5.0  \n",
            "      'bagging_temperature' : 0.5  \n",
            "      'random_strength'     : 1.5  \n",
            "   Best iteration: 0  \n",
            " \n",
            "   Random seed: 797187591  \n",
            " \n",
            "   Evaluation time   : 218.16915321350098 sec    [99.99 %]\n",
            "   Optimization time : 0.012245416641235352 sec    [0.01 %]\n",
            "   Iteration time    : 218.1813986301422 sec    [5.45 sec/iter]\n",
            " \n",
            "Tuning Duration: 0:03:38.446176\n",
            "Best Parameters: {'iterations': 350, 'depth': 8, 'learning_rate': 0.01, 'l2_leaf_reg': 5, 'bagging_temperature': 0.5, 'random_strength': 1.5}\n"
          ]
        },
        {
          "output_type": "stream",
          "name": "stderr",
          "text": [
            "\n"
          ]
        },
        {
          "output_type": "display_data",
          "data": {
            "text/plain": [
              "MetricVisualizer(layout=Layout(align_self='stretch', height='500px'))"
            ],
            "application/vnd.jupyter.widget-view+json": {
              "version_major": 2,
              "version_minor": 0,
              "model_id": "af63a29332634ca2982cedaf0f8f0eca"
            }
          },
          "metadata": {}
        },
        {
          "output_type": "stream",
          "name": "stdout",
          "text": [
            "0:\tlearn: 2.1498662\ttest: 2.1509409\tbest: 2.1509409 (0)\ttotal: 22.7ms\tremaining: 7.91s\n",
            "35:\tlearn: 1.2991765\ttest: 1.3179138\tbest: 1.3179138 (35)\ttotal: 973ms\tremaining: 8.49s\n",
            "70:\tlearn: 0.8800167\ttest: 0.9010039\tbest: 0.9010039 (70)\ttotal: 1.91s\tremaining: 7.51s\n",
            "105:\tlearn: 0.6324468\ttest: 0.6507423\tbest: 0.6507423 (105)\ttotal: 2.7s\tremaining: 6.21s\n",
            "140:\tlearn: 0.4700617\ttest: 0.4845268\tbest: 0.4845268 (140)\ttotal: 3.64s\tremaining: 5.39s\n",
            "175:\tlearn: 0.3609316\ttest: 0.3719056\tbest: 0.3719056 (175)\ttotal: 5.39s\tremaining: 5.33s\n",
            "210:\tlearn: 0.2846152\ttest: 0.2926270\tbest: 0.2926270 (210)\ttotal: 7.09s\tremaining: 4.67s\n",
            "245:\tlearn: 0.2285353\ttest: 0.2337435\tbest: 0.2337435 (245)\ttotal: 7.94s\tremaining: 3.36s\n",
            "280:\tlearn: 0.1879593\ttest: 0.1909785\tbest: 0.1909785 (280)\ttotal: 8.74s\tremaining: 2.15s\n",
            "315:\tlearn: 0.1579720\ttest: 0.1593338\tbest: 0.1593338 (315)\ttotal: 9.71s\tremaining: 1.04s\n",
            "349:\tlearn: 0.1355494\ttest: 0.1354032\tbest: 0.1354032 (349)\ttotal: 10.5s\tremaining: 0us\n",
            "\n",
            "bestTest = 0.1354031803\n",
            "bestIteration = 349\n",
            "\n"
          ]
        },
        {
          "output_type": "execute_result",
          "data": {
            "text/plain": [
              "<catboost.core.CatBoostClassifier at 0x7c6ea5b69510>"
            ]
          },
          "metadata": {},
          "execution_count": 31
        }
      ]
    },
    {
      "cell_type": "code",
      "source": [
        "hyper.add_search(model, search_space, optimizer=optimizer, n_iter=40, initialize={\"random\": 20})\n"
      ],
      "metadata": {
        "id": "a_9tYmgz45VS"
      },
      "id": "a_9tYmgz45VS",
      "execution_count": 32,
      "outputs": []
    },
    {
      "cell_type": "code",
      "source": [
        "learning_curve = final_model.get_evals_result()\n",
        "print(learning_curve)"
      ],
      "metadata": {
        "id": "2mRL06xdGZve",
        "colab": {
          "base_uri": "https://localhost:8080/"
        },
        "outputId": "80f29ae5-d523-4c95-aaf6-7fae44da0227"
      },
      "id": "2mRL06xdGZve",
      "execution_count": 33,
      "outputs": [
        {
          "output_type": "stream",
          "name": "stdout",
          "text": [
            "{'learn': {'MultiClass': [2.1498662015476384, 2.1158777866821548, 2.0820799624659654, 2.0480952962960264, 2.0065920566716713, 1.9693058845973777, 1.9374096415820259, 1.9050716829709056, 1.8757733392019251, 1.8501981968805166, 1.823980710116101, 1.8010718342123677, 1.772564116396938, 1.7551275422526076, 1.7343559522049903, 1.7097452038183183, 1.6791731321172565, 1.6635982440933348, 1.637196472343226, 1.609077407824916, 1.5842008847197167, 1.5630479934335715, 1.5408816767295603, 1.5173317457581055, 1.4992832976687451, 1.4841009501982936, 1.4641596778452661, 1.441223847741567, 1.424424555931857, 1.4069348203757346, 1.3866825708507655, 1.3721100983153525, 1.3552308161548072, 1.3386403940244416, 1.3188002370078225, 1.2991764833999817, 1.2799896592616289, 1.2638563828111438, 1.2507287859679521, 1.2366526639676567, 1.2201534066923583, 1.2081024439496846, 1.1944253737951742, 1.1825427518803284, 1.171321419333234, 1.157066349316384, 1.1456010643236694, 1.1324489490119365, 1.1177035721027733, 1.1034042893338367, 1.0892364280207008, 1.0790321151851416, 1.0658722947997075, 1.052336947757787, 1.0413706833443048, 1.0313914426268143, 1.0207306819007969, 1.0095674814131015, 1.0000734668417786, 0.9915914528330413, 0.9797189561423808, 0.9697083322323159, 0.9580723139459059, 0.9505719472844928, 0.9391129987301297, 0.9290628057408271, 0.9191363775685724, 0.9088127584224753, 0.89967958788518, 0.8890403078702094, 0.8800166643340839, 0.8730432341361873, 0.8634161730172707, 0.8537010651038307, 0.8463768514068527, 0.8381879618467866, 0.8298117999008817, 0.822443388154892, 0.8152263911537838, 0.8068614768824965, 0.797883519202324, 0.7889614271617437, 0.7807913411528359, 0.7735177786052532, 0.7665311848677216, 0.7590333014676895, 0.7519573417129396, 0.7454040569955004, 0.7380993270945667, 0.7300610153635633, 0.7225546968914187, 0.7160380411379803, 0.7107451022353759, 0.7041621231738073, 0.6993476964713945, 0.6918949676353793, 0.6861646412135939, 0.6793984124325607, 0.6734200093405357, 0.6665675666858122, 0.6619966563095072, 0.6559024417635875, 0.6497951758866131, 0.6444077873539225, 0.6378888293969814, 0.6324468133208064, 0.627229532199512, 0.6221296668395537, 0.6158761224980134, 0.6097014933273095, 0.603467446549642, 0.5988937146178813, 0.5932531449888367, 0.5877708106448426, 0.5826819651397872, 0.5779398279351705, 0.5731959942269717, 0.5687252233307956, 0.56409050653218, 0.5591766101963255, 0.5544997554959236, 0.5500932639397056, 0.5451487871455577, 0.5404787951702984, 0.535905444542728, 0.5313202454658036, 0.5273861540913992, 0.5226122376964666, 0.5179196059178919, 0.5135543677507084, 0.5098850236733742, 0.5053845229404582, 0.5012783169166855, 0.4967956744441324, 0.4929072139153459, 0.48914828036710745, 0.4858081411480374, 0.48140480488835724, 0.47742951763229063, 0.4738226001103893, 0.470061745430112, 0.4665221677075905, 0.4630220911832193, 0.459079533527112, 0.45557678256735135, 0.45292734455865735, 0.44877394350926597, 0.44603932362772064, 0.4426528459192704, 0.438938133482809, 0.4350582173772143, 0.4316274712696635, 0.4283196165739177, 0.42507264998391386, 0.42139143900720866, 0.4184646752071211, 0.4152710740977896, 0.4119871623410317, 0.4088256672302147, 0.40598708123402055, 0.4033387596502547, 0.3999319900890626, 0.397192595042051, 0.39379508354250387, 0.3910782441425095, 0.388361669098385, 0.3852779693222216, 0.38259583161082095, 0.37973711971615304, 0.3775152790078369, 0.37452659441417574, 0.37147999711333474, 0.3687099391131163, 0.366280180556044, 0.36346950711466214, 0.3609316465933052, 0.3581221014746287, 0.35553703444163, 0.35296704991310723, 0.35053763731864035, 0.34760085337741564, 0.34577422957471904, 0.34400867293835485, 0.34200660295030527, 0.33979825668077684, 0.3371374472496054, 0.33481995339539217, 0.3325970993800271, 0.3303733089755273, 0.3283790991370468, 0.32610614125537507, 0.32349320813931615, 0.321222363165058, 0.3187857094091028, 0.31696999008832616, 0.3148215707983938, 0.3123262346699576, 0.31027793448692076, 0.3080705158153725, 0.3061015653442133, 0.3038428363993966, 0.30217149664240156, 0.2998803144790831, 0.2980399648650423, 0.29584507449697034, 0.29421137655988283, 0.29241026331529363, 0.29068030442544013, 0.2884452617554644, 0.28653597583666357, 0.2846151669756479, 0.2828713696573697, 0.28110409770207156, 0.27917316964825817, 0.27742580901892316, 0.2758565391540745, 0.2741448479918365, 0.2725999238439226, 0.2706422882160378, 0.26923492721475173, 0.2674566225298335, 0.26572280238657464, 0.26405887424192204, 0.26237885527282223, 0.26048122822081865, 0.25886140422872095, 0.2569837864690057, 0.255207093407654, 0.2534515614027081, 0.2518508838927292, 0.2502846496202184, 0.24873067282068603, 0.2468981767518757, 0.24514358390616703, 0.24398805797620635, 0.2422514303074357, 0.24055775069506385, 0.23925961353786346, 0.23752684784435824, 0.23626577739521126, 0.23515689725472927, 0.23380778259504018, 0.23223962227143077, 0.23134135108845513, 0.2300657165645538, 0.2285353103783009, 0.22730792281307574, 0.2260137142906295, 0.22455880135407782, 0.22334323689041072, 0.2222952345749655, 0.22094718231531418, 0.21959228277392698, 0.2184446552940294, 0.21741484255493945, 0.21591920094592687, 0.2146032639130456, 0.21322035013895213, 0.21175904497737388, 0.21075678549882737, 0.2097261480141183, 0.2087800121266963, 0.20733373867214566, 0.20591288286389753, 0.20480616152876982, 0.2037048990226891, 0.20236882923461713, 0.20134705601857691, 0.2003218250275665, 0.19908639910570897, 0.198330483618513, 0.1973315074308041, 0.19631489255192713, 0.19511130087422543, 0.19415274615598518, 0.1931402121595985, 0.1922262072808282, 0.19124978258663017, 0.19002021993296292, 0.1888564041528431, 0.18795928201337908, 0.18681871344659126, 0.18572413934894846, 0.18481187372975505, 0.18368416758681588, 0.18304634271294096, 0.1821679883012615, 0.1810812800041345, 0.17995361757459655, 0.17885938280334931, 0.1779906591497018, 0.1773595162311343, 0.1764683088138045, 0.17566289925587325, 0.1747103433070533, 0.17384264371271935, 0.17277851250358287, 0.17197436287701423, 0.17112876707609662, 0.17026950601676824, 0.16938682187321236, 0.16867639353853212, 0.16783993760142707, 0.16686022529797248, 0.1660234702108891, 0.16533248600536182, 0.16479480463974422, 0.1639573383243461, 0.1634322527814918, 0.16245038359235905, 0.1615136697981472, 0.16063339125350856, 0.1598639476222851, 0.15925932327197365, 0.158740750172918, 0.15797198875631813, 0.157200191159568, 0.15629917462731485, 0.15554460246931825, 0.15478787402210037, 0.15389228691249474, 0.15309817607532322, 0.15240254053790261, 0.15186577603541176, 0.15121933106839017, 0.15037895410670404, 0.14969923137759097, 0.14906256611101235, 0.1482382507206234, 0.14783866736217985, 0.14722896264744542, 0.1465657237814643, 0.14593997233306796, 0.1451961578190944, 0.14447723014044708, 0.14370473625171654, 0.1431516850110336, 0.1424282970528234, 0.1419400143763317, 0.14118308415645733, 0.14062341571576387, 0.13999810552755448, 0.13944755784943574, 0.13870751782199242, 0.13811251885763148, 0.13776233921263592, 0.13719551927557236, 0.13657120570729986, 0.13615612971853272, 0.13554938108537987]}, 'validation': {'MultiClass': [2.1509409131781103, 2.1174973229191973, 2.084862165092103, 2.0524326288483596, 2.011390255338133, 1.9750686282075078, 1.9427792319716621, 1.9111465177946485, 1.8827535273918028, 1.858535992211003, 1.8333458585143718, 1.810506901526606, 1.7825921448611506, 1.7658984601360854, 1.7461490404888647, 1.7225966054126138, 1.6922834245331613, 1.6776540297909635, 1.6523148535899344, 1.6241414029404584, 1.599417078521994, 1.5788213617572202, 1.5570513425723667, 1.5338563369435445, 1.5158994023192958, 1.5011307349746492, 1.4813532285491018, 1.4579904149418008, 1.4418448814150955, 1.4246764751385088, 1.4048743608499852, 1.3906826117489741, 1.3735355375513092, 1.3571529548632413, 1.3373797649756805, 1.3179137958002742, 1.298817854312453, 1.2830877405500865, 1.270339416090324, 1.2563323109457414, 1.2401248329530599, 1.2278520443713243, 1.2149494315355183, 1.2030709359489318, 1.1922528331769926, 1.178504279389441, 1.167515112147127, 1.1542182151911557, 1.1393877989524106, 1.125155781402655, 1.1110282441176111, 1.101083965830982, 1.0878236045090561, 1.07427903428704, 1.063665743413524, 1.0535957968198413, 1.0431859564816595, 1.0316829113476675, 1.022385326981093, 1.0141123926614122, 1.0023978774524833, 0.9921073915615053, 0.9804783004210397, 0.972973404693488, 0.9612455058613871, 0.9508798872340597, 0.9410889791164583, 0.9307740506753805, 0.9211601826267058, 0.9101814566446089, 0.9010039145124081, 0.8939409595160461, 0.8841503319654299, 0.8746086326722223, 0.867112077799702, 0.8587433643800911, 0.8501826947415092, 0.8425582862601478, 0.83507047223154, 0.8264666028764543, 0.8174569521496254, 0.8083124635486321, 0.8002698324334675, 0.7930811813103998, 0.7859437897461753, 0.7784653495686196, 0.7713925688343534, 0.7647832406226002, 0.7574989422223185, 0.7492177266290203, 0.7416039153048485, 0.7349536104893402, 0.7297127760255026, 0.7231897441852273, 0.7183273759572782, 0.7107101624947272, 0.7049682463277107, 0.6980505336835536, 0.6919774035527553, 0.6850106512959747, 0.6805754891602144, 0.6745683328990816, 0.6683846035639123, 0.6629253604314673, 0.6562091649861193, 0.6507423439860245, 0.6454348965898442, 0.6403888169516717, 0.6338744265272026, 0.6275470585062701, 0.6210073035660082, 0.6165370816295148, 0.6107635171890361, 0.605201550500543, 0.599908691767218, 0.5951027405606018, 0.5902577547809619, 0.5856632959054492, 0.5808017663880811, 0.5756447305928294, 0.5708100916193848, 0.5663924364053065, 0.56125810907037, 0.5564114223357761, 0.5517068940768232, 0.5471105274797808, 0.5432998420689609, 0.5384211665243772, 0.5336022218248063, 0.5292170530692749, 0.5254371369630733, 0.5207985517267479, 0.5165249437579797, 0.5118163883328091, 0.5079076288818656, 0.5040082648267853, 0.5006636247752745, 0.4961340380247119, 0.492031922276737, 0.4883816706266722, 0.4845268066611347, 0.4808924075777958, 0.47736206816204924, 0.4731551962551467, 0.4695203747931693, 0.46676326689269654, 0.4624269962933912, 0.4595914211498375, 0.4561917104361506, 0.45230685039841473, 0.4482792520269466, 0.44469527422306615, 0.4411785325589441, 0.4378838239341346, 0.43412545094384836, 0.43104277869058955, 0.4277427235061712, 0.4244478530399379, 0.42115586793036286, 0.4183134275767468, 0.4156220583785451, 0.4121171608374661, 0.40927288943803497, 0.405717784840699, 0.40294821031859085, 0.4001659059184254, 0.3969577196663286, 0.39427389123045026, 0.3913027313375305, 0.38904016078556936, 0.3859393743190761, 0.38275226783999716, 0.3799304643016128, 0.37745203342175865, 0.37445280291587707, 0.3719055592658902, 0.368981505529449, 0.36627411268738846, 0.36365726482076693, 0.3610742708611533, 0.35801402695209167, 0.35612523572749577, 0.35434745464063855, 0.3523566954455706, 0.35009076392713323, 0.3472982252950809, 0.3448617675134976, 0.34250749817639853, 0.34017548586597673, 0.338066160113831, 0.3357846884033395, 0.3330989982542868, 0.33072088399916105, 0.3281124547611108, 0.32627155432948757, 0.32400812183913036, 0.32138440222532516, 0.31926120561603627, 0.31692870210989954, 0.31488831626788705, 0.3125339060002926, 0.3108825372558137, 0.30841374391899457, 0.30647522580379555, 0.30415336899371087, 0.30254491178153936, 0.30062889359127537, 0.2988880461034782, 0.29658016796811176, 0.29464518837119585, 0.2926270412658453, 0.2908076308509437, 0.28899243871715247, 0.28696627640948374, 0.2850819761092145, 0.2834720459588717, 0.2816782752483077, 0.2801188012879278, 0.2780183332502083, 0.27651087762755566, 0.27463261338480877, 0.2727882100583438, 0.27102210680339495, 0.26927167365564003, 0.2672744351052002, 0.26560993509547054, 0.263649131330054, 0.26180370636049183, 0.2599282773281081, 0.2582809188812931, 0.2566749027091047, 0.25510474668047045, 0.2531157748451669, 0.25123653658609324, 0.25007862209306264, 0.24824901534872298, 0.2464573139423693, 0.24509893650581738, 0.24325161226237502, 0.2419211780163669, 0.24070497371920377, 0.23933599066118708, 0.23761941653348256, 0.23668286090357396, 0.23534851704641255, 0.23374353409656684, 0.2324127325170028, 0.23109203681878623, 0.22954446001907985, 0.22827065851612674, 0.2272597737103266, 0.22587248217418845, 0.2245002451330633, 0.22323111372197044, 0.2221489155450646, 0.22054746171076903, 0.2191727179989316, 0.21774963842328834, 0.2162052612679395, 0.21518139839234376, 0.21411887436555277, 0.21313436243546913, 0.21155830952624502, 0.21005723857708178, 0.20891860835336676, 0.20770543963349572, 0.2063003388353416, 0.20523454229536855, 0.20414680882953692, 0.20279300832171107, 0.2019804939336278, 0.20095740477405805, 0.19985778816285935, 0.19856765425010267, 0.1975434162024082, 0.1964660324714926, 0.19549882286752315, 0.19444323840551656, 0.19314195991832095, 0.19190074706215965, 0.1909785226039989, 0.18978144714569503, 0.1886492575375665, 0.18768377175885165, 0.1864589452050762, 0.18579853555895168, 0.18485470544465735, 0.183710593859725, 0.18252393432513267, 0.18135542660200377, 0.1804070930431468, 0.17974323411110904, 0.17878461784538716, 0.17793216179984725, 0.17690786812369996, 0.1759886420483175, 0.17486050000215034, 0.17403868003312867, 0.17315266558250675, 0.17222619804191586, 0.1713074598801971, 0.17056925104457277, 0.16967014268771707, 0.16862460496385256, 0.1677334622749716, 0.16702506002850698, 0.1664897955814315, 0.16564661472360248, 0.16513748268038803, 0.16406377598263217, 0.16307902367627483, 0.1621181114808701, 0.16129685824006904, 0.16064994601608795, 0.16012092151381668, 0.15933381867132268, 0.15848479727502596, 0.15752020613250975, 0.1566953598570753, 0.15587906431428306, 0.15492614654319695, 0.15409853219660208, 0.15333209781619617, 0.15280843036857267, 0.15213658042815922, 0.1512312192240021, 0.15051035654209147, 0.14984036556200306, 0.14896830015914014, 0.14855751877629067, 0.14792122115550177, 0.14717854876368577, 0.14649413302404263, 0.14570296007867023, 0.14494563566110122, 0.1440818204193856, 0.14348486776550812, 0.14270510640254175, 0.14219582545717066, 0.14141724412005285, 0.140829175944917, 0.14013476364125896, 0.13956514602453127, 0.138748024873944, 0.1381053943043277, 0.13773907711678798, 0.13712807523498408, 0.13646561434613153, 0.13604354190642007, 0.13540318030385348]}}\n"
          ]
        }
      ]
    },
    {
      "cell_type": "code",
      "source": [
        "# Retrieve evaluation results\n",
        "learning_curve = final_model.get_evals_result()\n",
        "\n",
        "# Extract the metric values\n",
        "# Assuming 'learn' corresponds to the training dataset\n",
        "train_metric_values = learning_curve.get('learn', {}).get('MultiClass', [])\n",
        "\n",
        "# Check the extracted values\n",
        "if train_metric_values:\n",
        "    print(\"Training metric values:\", train_metric_values)\n",
        "else:\n",
        "    print(\"Metric 'MultiClass' not found in evaluation results.\")\n"
      ],
      "metadata": {
        "id": "3baCXa2jGafB",
        "colab": {
          "base_uri": "https://localhost:8080/"
        },
        "outputId": "3d93a658-aed0-4f94-d5ec-08d29b9fc4fb"
      },
      "id": "3baCXa2jGafB",
      "execution_count": 34,
      "outputs": [
        {
          "output_type": "stream",
          "name": "stdout",
          "text": [
            "Training metric values: [2.1498662015476384, 2.1158777866821548, 2.0820799624659654, 2.0480952962960264, 2.0065920566716713, 1.9693058845973777, 1.9374096415820259, 1.9050716829709056, 1.8757733392019251, 1.8501981968805166, 1.823980710116101, 1.8010718342123677, 1.772564116396938, 1.7551275422526076, 1.7343559522049903, 1.7097452038183183, 1.6791731321172565, 1.6635982440933348, 1.637196472343226, 1.609077407824916, 1.5842008847197167, 1.5630479934335715, 1.5408816767295603, 1.5173317457581055, 1.4992832976687451, 1.4841009501982936, 1.4641596778452661, 1.441223847741567, 1.424424555931857, 1.4069348203757346, 1.3866825708507655, 1.3721100983153525, 1.3552308161548072, 1.3386403940244416, 1.3188002370078225, 1.2991764833999817, 1.2799896592616289, 1.2638563828111438, 1.2507287859679521, 1.2366526639676567, 1.2201534066923583, 1.2081024439496846, 1.1944253737951742, 1.1825427518803284, 1.171321419333234, 1.157066349316384, 1.1456010643236694, 1.1324489490119365, 1.1177035721027733, 1.1034042893338367, 1.0892364280207008, 1.0790321151851416, 1.0658722947997075, 1.052336947757787, 1.0413706833443048, 1.0313914426268143, 1.0207306819007969, 1.0095674814131015, 1.0000734668417786, 0.9915914528330413, 0.9797189561423808, 0.9697083322323159, 0.9580723139459059, 0.9505719472844928, 0.9391129987301297, 0.9290628057408271, 0.9191363775685724, 0.9088127584224753, 0.89967958788518, 0.8890403078702094, 0.8800166643340839, 0.8730432341361873, 0.8634161730172707, 0.8537010651038307, 0.8463768514068527, 0.8381879618467866, 0.8298117999008817, 0.822443388154892, 0.8152263911537838, 0.8068614768824965, 0.797883519202324, 0.7889614271617437, 0.7807913411528359, 0.7735177786052532, 0.7665311848677216, 0.7590333014676895, 0.7519573417129396, 0.7454040569955004, 0.7380993270945667, 0.7300610153635633, 0.7225546968914187, 0.7160380411379803, 0.7107451022353759, 0.7041621231738073, 0.6993476964713945, 0.6918949676353793, 0.6861646412135939, 0.6793984124325607, 0.6734200093405357, 0.6665675666858122, 0.6619966563095072, 0.6559024417635875, 0.6497951758866131, 0.6444077873539225, 0.6378888293969814, 0.6324468133208064, 0.627229532199512, 0.6221296668395537, 0.6158761224980134, 0.6097014933273095, 0.603467446549642, 0.5988937146178813, 0.5932531449888367, 0.5877708106448426, 0.5826819651397872, 0.5779398279351705, 0.5731959942269717, 0.5687252233307956, 0.56409050653218, 0.5591766101963255, 0.5544997554959236, 0.5500932639397056, 0.5451487871455577, 0.5404787951702984, 0.535905444542728, 0.5313202454658036, 0.5273861540913992, 0.5226122376964666, 0.5179196059178919, 0.5135543677507084, 0.5098850236733742, 0.5053845229404582, 0.5012783169166855, 0.4967956744441324, 0.4929072139153459, 0.48914828036710745, 0.4858081411480374, 0.48140480488835724, 0.47742951763229063, 0.4738226001103893, 0.470061745430112, 0.4665221677075905, 0.4630220911832193, 0.459079533527112, 0.45557678256735135, 0.45292734455865735, 0.44877394350926597, 0.44603932362772064, 0.4426528459192704, 0.438938133482809, 0.4350582173772143, 0.4316274712696635, 0.4283196165739177, 0.42507264998391386, 0.42139143900720866, 0.4184646752071211, 0.4152710740977896, 0.4119871623410317, 0.4088256672302147, 0.40598708123402055, 0.4033387596502547, 0.3999319900890626, 0.397192595042051, 0.39379508354250387, 0.3910782441425095, 0.388361669098385, 0.3852779693222216, 0.38259583161082095, 0.37973711971615304, 0.3775152790078369, 0.37452659441417574, 0.37147999711333474, 0.3687099391131163, 0.366280180556044, 0.36346950711466214, 0.3609316465933052, 0.3581221014746287, 0.35553703444163, 0.35296704991310723, 0.35053763731864035, 0.34760085337741564, 0.34577422957471904, 0.34400867293835485, 0.34200660295030527, 0.33979825668077684, 0.3371374472496054, 0.33481995339539217, 0.3325970993800271, 0.3303733089755273, 0.3283790991370468, 0.32610614125537507, 0.32349320813931615, 0.321222363165058, 0.3187857094091028, 0.31696999008832616, 0.3148215707983938, 0.3123262346699576, 0.31027793448692076, 0.3080705158153725, 0.3061015653442133, 0.3038428363993966, 0.30217149664240156, 0.2998803144790831, 0.2980399648650423, 0.29584507449697034, 0.29421137655988283, 0.29241026331529363, 0.29068030442544013, 0.2884452617554644, 0.28653597583666357, 0.2846151669756479, 0.2828713696573697, 0.28110409770207156, 0.27917316964825817, 0.27742580901892316, 0.2758565391540745, 0.2741448479918365, 0.2725999238439226, 0.2706422882160378, 0.26923492721475173, 0.2674566225298335, 0.26572280238657464, 0.26405887424192204, 0.26237885527282223, 0.26048122822081865, 0.25886140422872095, 0.2569837864690057, 0.255207093407654, 0.2534515614027081, 0.2518508838927292, 0.2502846496202184, 0.24873067282068603, 0.2468981767518757, 0.24514358390616703, 0.24398805797620635, 0.2422514303074357, 0.24055775069506385, 0.23925961353786346, 0.23752684784435824, 0.23626577739521126, 0.23515689725472927, 0.23380778259504018, 0.23223962227143077, 0.23134135108845513, 0.2300657165645538, 0.2285353103783009, 0.22730792281307574, 0.2260137142906295, 0.22455880135407782, 0.22334323689041072, 0.2222952345749655, 0.22094718231531418, 0.21959228277392698, 0.2184446552940294, 0.21741484255493945, 0.21591920094592687, 0.2146032639130456, 0.21322035013895213, 0.21175904497737388, 0.21075678549882737, 0.2097261480141183, 0.2087800121266963, 0.20733373867214566, 0.20591288286389753, 0.20480616152876982, 0.2037048990226891, 0.20236882923461713, 0.20134705601857691, 0.2003218250275665, 0.19908639910570897, 0.198330483618513, 0.1973315074308041, 0.19631489255192713, 0.19511130087422543, 0.19415274615598518, 0.1931402121595985, 0.1922262072808282, 0.19124978258663017, 0.19002021993296292, 0.1888564041528431, 0.18795928201337908, 0.18681871344659126, 0.18572413934894846, 0.18481187372975505, 0.18368416758681588, 0.18304634271294096, 0.1821679883012615, 0.1810812800041345, 0.17995361757459655, 0.17885938280334931, 0.1779906591497018, 0.1773595162311343, 0.1764683088138045, 0.17566289925587325, 0.1747103433070533, 0.17384264371271935, 0.17277851250358287, 0.17197436287701423, 0.17112876707609662, 0.17026950601676824, 0.16938682187321236, 0.16867639353853212, 0.16783993760142707, 0.16686022529797248, 0.1660234702108891, 0.16533248600536182, 0.16479480463974422, 0.1639573383243461, 0.1634322527814918, 0.16245038359235905, 0.1615136697981472, 0.16063339125350856, 0.1598639476222851, 0.15925932327197365, 0.158740750172918, 0.15797198875631813, 0.157200191159568, 0.15629917462731485, 0.15554460246931825, 0.15478787402210037, 0.15389228691249474, 0.15309817607532322, 0.15240254053790261, 0.15186577603541176, 0.15121933106839017, 0.15037895410670404, 0.14969923137759097, 0.14906256611101235, 0.1482382507206234, 0.14783866736217985, 0.14722896264744542, 0.1465657237814643, 0.14593997233306796, 0.1451961578190944, 0.14447723014044708, 0.14370473625171654, 0.1431516850110336, 0.1424282970528234, 0.1419400143763317, 0.14118308415645733, 0.14062341571576387, 0.13999810552755448, 0.13944755784943574, 0.13870751782199242, 0.13811251885763148, 0.13776233921263592, 0.13719551927557236, 0.13657120570729986, 0.13615612971853272, 0.13554938108537987]\n"
          ]
        }
      ]
    },
    {
      "cell_type": "code",
      "source": [
        "import matplotlib.pyplot as plt\n",
        "\n",
        "# Plotting the learning curve\n",
        "plt.plot(train_metric_values, label='Training MultiClass Metric')\n",
        "plt.xlabel('Iterations')\n",
        "plt.ylabel('Metric Value')\n",
        "plt.title('Learning Curve')\n",
        "plt.legend()\n",
        "plt.grid()\n",
        "plt.show()\n"
      ],
      "metadata": {
        "id": "p0vioY6FGjQb",
        "colab": {
          "base_uri": "https://localhost:8080/",
          "height": 472
        },
        "outputId": "dbd9b294-e5eb-4bbc-9165-ea7ae74bfb54"
      },
      "id": "p0vioY6FGjQb",
      "execution_count": 35,
      "outputs": [
        {
          "output_type": "display_data",
          "data": {
            "text/plain": [
              "<Figure size 640x480 with 1 Axes>"
            ],
            "image/png": "[encoded data removed]"
          },
          "metadata": {}
        }
      ]
    },
    {
      "cell_type": "code",
      "source": [
        "# Predictions\n",
        "y_pred_train = final_model.predict(X_train)\n",
        "y_pred_test = final_model.predict(X_test)\n",
        "\n",
        "print(\"Classification Report - Training Set:\")\n",
        "print(classification_report(y_train, y_pred_train))\n",
        "\n",
        "print(\"Classification Report - Test Set:\")\n",
        "print(classification_report(y_test, y_pred_test))\n",
        "\n",
        "conf_matrix_train = confusion_matrix(y_train, y_pred_train)\n",
        "conf_matrix_test = confusion_matrix(y_test, y_pred_test)\n",
        "\n",
        "plt.figure(figsize=(15, 5))\n",
        "\n",
        "plt.subplot(1, 3, 1)\n",
        "sns.heatmap(conf_matrix_train, annot=True, fmt=\"d\", cmap=\"Blues\", cbar=False)\n",
        "plt.title(\"Confusion Matrix - Training Set\")\n",
        "plt.xlabel(\"Predicted\")\n",
        "plt.ylabel(\"True\")\n",
        "\n",
        "plt.subplot(1, 3, 2)\n",
        "sns.heatmap(conf_matrix_test, annot=True, fmt=\"d\", cmap=\"Blues\", cbar=False)\n",
        "plt.title(\"Confusion Matrix - Test Set\")\n",
        "plt.xlabel(\"Predicted\")\n",
        "plt.ylabel(\"True\")\n",
        "\n",
        "plt.tight_layout()\n",
        "plt.savefig('C-Matrix.svg', format='svg')\n",
        "plt.show()\n",
        "\n",
        "end_time = datetime.now()\n",
        "print('Deployment Duration: {}'.format(end_time - start_time))"
      ],
      "metadata": {
        "id": "EGySyu_OHNqG",
        "colab": {
          "base_uri": "https://localhost:8080/",
          "height": 1000
        },
        "outputId": "10cd7d5a-23e6-4e1c-b78f-5815d8176654"
      },
      "id": "EGySyu_OHNqG",
      "execution_count": 36,
      "outputs": [
        {
          "output_type": "stream",
          "name": "stdout",
          "text": [
            "Classification Report - Training Set:\n",
            "               precision    recall  f1-score   support\n",
            "\n",
            "   B007_1_124       1.00      1.00      1.00       136\n",
            "   B014_1_191       1.00      0.97      0.99       144\n",
            "   B021_1_228       0.97      1.00      0.99       138\n",
            "  IR007_1_111       1.00      1.00      1.00       134\n",
            "  IR014_1_176       1.00      1.00      1.00       139\n",
            "  IR021_1_215       1.00      1.00      1.00       138\n",
            "OR007_6_1_137       1.00      1.00      1.00       140\n",
            "OR014_6_1_203       1.00      0.99      1.00       142\n",
            "OR021_6_1_240       0.99      1.00      1.00       145\n",
            "\n",
            "     accuracy                           1.00      1256\n",
            "    macro avg       1.00      1.00      1.00      1256\n",
            " weighted avg       1.00      1.00      1.00      1256\n",
            "\n",
            "Classification Report - Test Set:\n",
            "               precision    recall  f1-score   support\n",
            "\n",
            "   B007_1_124       1.00      1.00      1.00        32\n",
            "   B014_1_191       1.00      1.00      1.00        32\n",
            "   B021_1_228       1.00      1.00      1.00        36\n",
            "  IR007_1_111       1.00      1.00      1.00        44\n",
            "  IR014_1_176       1.00      1.00      1.00        32\n",
            "  IR021_1_215       1.00      1.00      1.00        33\n",
            "OR007_6_1_137       1.00      1.00      1.00        39\n",
            "OR014_6_1_203       1.00      1.00      1.00        35\n",
            "OR021_6_1_240       1.00      1.00      1.00        31\n",
            "\n",
            "     accuracy                           1.00       314\n",
            "    macro avg       1.00      1.00      1.00       314\n",
            " weighted avg       1.00      1.00      1.00       314\n",
            "\n"
          ]
        },
        {
          "output_type": "display_data",
          "data": {
            "text/plain": [
              "<Figure size 1500x500 with 2 Axes>"
            ],
            "image/png": "[encoded data removed]"
          },
          "metadata": {}
        },
        {
          "output_type": "stream",
          "name": "stdout",
          "text": [
            "Deployment Duration: 0:03:50.743785\n"
          ]
        }
      ]
    },
    {
      "cell_type": "code",
      "source": [
        "final_model.fit(X_train, y_train, eval_set=(X_test, y_test))\n",
        "\n",
        "# Evaluate train accuracy\n",
        "result_train = final_model.score(X_train, y_train)\n",
        "print(\"Train Accuracy : {}\".format(result_train))\n",
        "\n",
        "# Evaluate test accuracy\n",
        "result_test = final_model.score(X_test, y_test)\n",
        "print(\"Test Accuracy : {}\".format(result_test))\n",
        "\n",
        "# Predictions\n",
        "y_pred_train = final_model.predict(X_train)\n",
        "y_pred_test = final_model.predict(X_test)\n",
        "\n",
        "# Classification report\n",
        "print(\"Classification Report - Training Set:\")\n",
        "print(classification_report(y_train, y_pred_train))\n",
        "\n",
        "print(\"Classification Report - Test Set:\")\n",
        "print(classification_report(y_test, y_pred_test))"
      ],
      "metadata": {
        "id": "tEOwmxFROH5f",
        "colab": {
          "base_uri": "https://localhost:8080/"
        },
        "outputId": "58c313a4-84be-44a3-b2ce-6bb1fa8d43eb"
      },
      "id": "tEOwmxFROH5f",
      "execution_count": 37,
      "outputs": [
        {
          "output_type": "stream",
          "name": "stdout",
          "text": [
            "0:\tlearn: 2.1498662\ttest: 2.1509409\tbest: 2.1509409 (0)\ttotal: 51.4ms\tremaining: 17.9s\n",
            "10:\tlearn: 1.8239807\ttest: 1.8333459\tbest: 1.8333459 (10)\ttotal: 489ms\tremaining: 15.1s\n",
            "20:\tlearn: 1.5842009\ttest: 1.5994171\tbest: 1.5994171 (20)\ttotal: 949ms\tremaining: 14.9s\n",
            "30:\tlearn: 1.3866826\ttest: 1.4048744\tbest: 1.4048744 (30)\ttotal: 1.43s\tremaining: 14.7s\n",
            "40:\tlearn: 1.2201534\ttest: 1.2401248\tbest: 1.2401248 (40)\ttotal: 1.93s\tremaining: 14.5s\n",
            "50:\tlearn: 1.0892364\ttest: 1.1110282\tbest: 1.1110282 (50)\ttotal: 2.35s\tremaining: 13.8s\n",
            "60:\tlearn: 0.9797190\ttest: 1.0023979\tbest: 1.0023979 (60)\ttotal: 2.76s\tremaining: 13.1s\n",
            "70:\tlearn: 0.8800167\ttest: 0.9010039\tbest: 0.9010039 (70)\ttotal: 3.31s\tremaining: 13s\n",
            "80:\tlearn: 0.7978835\ttest: 0.8174570\tbest: 0.8174570 (80)\ttotal: 3.95s\tremaining: 13.1s\n",
            "90:\tlearn: 0.7225547\ttest: 0.7416039\tbest: 0.7416039 (90)\ttotal: 4.46s\tremaining: 12.7s\n",
            "100:\tlearn: 0.6619967\ttest: 0.6805755\tbest: 0.6805755 (100)\ttotal: 5.43s\tremaining: 13.4s\n",
            "110:\tlearn: 0.6034674\ttest: 0.6210073\tbest: 0.6210073 (110)\ttotal: 6.39s\tremaining: 13.8s\n",
            "120:\tlearn: 0.5544998\ttest: 0.5708101\tbest: 0.5708101 (120)\ttotal: 7.32s\tremaining: 13.9s\n",
            "130:\tlearn: 0.5098850\ttest: 0.5254371\tbest: 0.5254371 (130)\ttotal: 8.71s\tremaining: 14.6s\n",
            "140:\tlearn: 0.4700617\ttest: 0.4845268\tbest: 0.4845268 (140)\ttotal: 9.51s\tremaining: 14.1s\n",
            "150:\tlearn: 0.4350582\ttest: 0.4482793\tbest: 0.4482793 (150)\ttotal: 10.1s\tremaining: 13.2s\n",
            "160:\tlearn: 0.4033388\ttest: 0.4156221\tbest: 0.4156221 (160)\ttotal: 11s\tremaining: 12.9s\n",
            "170:\tlearn: 0.3745266\ttest: 0.3859394\tbest: 0.3859394 (170)\ttotal: 11.7s\tremaining: 12.3s\n",
            "180:\tlearn: 0.3476009\ttest: 0.3580140\tbest: 0.3580140 (180)\ttotal: 12.5s\tremaining: 11.6s\n",
            "190:\tlearn: 0.3261061\ttest: 0.3357847\tbest: 0.3357847 (190)\ttotal: 13.2s\tremaining: 11s\n",
            "200:\tlearn: 0.3038428\ttest: 0.3125339\tbest: 0.3125339 (200)\ttotal: 14.1s\tremaining: 10.4s\n",
            "210:\tlearn: 0.2846152\ttest: 0.2926270\tbest: 0.2926270 (210)\ttotal: 15s\tremaining: 9.89s\n",
            "220:\tlearn: 0.2674566\ttest: 0.2746326\tbest: 0.2746326 (220)\ttotal: 15.8s\tremaining: 9.24s\n",
            "230:\tlearn: 0.2502846\ttest: 0.2566749\tbest: 0.2566749 (230)\ttotal: 16.7s\tremaining: 8.61s\n",
            "240:\tlearn: 0.2351569\ttest: 0.2407050\tbest: 0.2407050 (240)\ttotal: 17.8s\tremaining: 8.03s\n",
            "250:\tlearn: 0.2222952\ttest: 0.2272598\tbest: 0.2272598 (250)\ttotal: 18.4s\tremaining: 7.25s\n",
            "260:\tlearn: 0.2097261\ttest: 0.2141189\tbest: 0.2141189 (260)\ttotal: 19.4s\tremaining: 6.62s\n",
            "270:\tlearn: 0.1983305\ttest: 0.2019805\tbest: 0.2019805 (270)\ttotal: 20.7s\tremaining: 6.02s\n",
            "280:\tlearn: 0.1879593\ttest: 0.1909785\tbest: 0.1909785 (280)\ttotal: 22s\tremaining: 5.39s\n",
            "290:\tlearn: 0.1779907\ttest: 0.1804071\tbest: 0.1804071 (290)\ttotal: 22.6s\tremaining: 4.59s\n",
            "300:\tlearn: 0.1693868\ttest: 0.1713075\tbest: 0.1713075 (300)\ttotal: 23.3s\tremaining: 3.79s\n",
            "310:\tlearn: 0.1615137\ttest: 0.1630790\tbest: 0.1630790 (310)\ttotal: 24.3s\tremaining: 3.04s\n",
            "320:\tlearn: 0.1538923\ttest: 0.1549261\tbest: 0.1549261 (320)\ttotal: 25s\tremaining: 2.25s\n",
            "330:\tlearn: 0.1472290\ttest: 0.1479212\tbest: 0.1479212 (330)\ttotal: 25.8s\tremaining: 1.48s\n",
            "340:\tlearn: 0.1406234\ttest: 0.1408292\tbest: 0.1408292 (340)\ttotal: 26.6s\tremaining: 701ms\n",
            "349:\tlearn: 0.1355494\ttest: 0.1354032\tbest: 0.1354032 (349)\ttotal: 27.8s\tremaining: 0us\n",
            "\n",
            "bestTest = 0.1354031803\n",
            "bestIteration = 349\n",
            "\n",
            "Train Accuracy : 0.9960191082802548\n",
            "Test Accuracy : 1.0\n",
            "Classification Report - Training Set:\n",
            "               precision    recall  f1-score   support\n",
            "\n",
            "   B007_1_124       1.00      1.00      1.00       136\n",
            "   B014_1_191       1.00      0.97      0.99       144\n",
            "   B021_1_228       0.97      1.00      0.99       138\n",
            "  IR007_1_111       1.00      1.00      1.00       134\n",
            "  IR014_1_176       1.00      1.00      1.00       139\n",
            "  IR021_1_215       1.00      1.00      1.00       138\n",
            "OR007_6_1_137       1.00      1.00      1.00       140\n",
            "OR014_6_1_203       1.00      0.99      1.00       142\n",
            "OR021_6_1_240       0.99      1.00      1.00       145\n",
            "\n",
            "     accuracy                           1.00      1256\n",
            "    macro avg       1.00      1.00      1.00      1256\n",
            " weighted avg       1.00      1.00      1.00      1256\n",
            "\n",
            "Classification Report - Test Set:\n",
            "               precision    recall  f1-score   support\n",
            "\n",
            "   B007_1_124       1.00      1.00      1.00        32\n",
            "   B014_1_191       1.00      1.00      1.00        32\n",
            "   B021_1_228       1.00      1.00      1.00        36\n",
            "  IR007_1_111       1.00      1.00      1.00        44\n",
            "  IR014_1_176       1.00      1.00      1.00        32\n",
            "  IR021_1_215       1.00      1.00      1.00        33\n",
            "OR007_6_1_137       1.00      1.00      1.00        39\n",
            "OR014_6_1_203       1.00      1.00      1.00        35\n",
            "OR021_6_1_240       1.00      1.00      1.00        31\n",
            "\n",
            "     accuracy                           1.00       314\n",
            "    macro avg       1.00      1.00      1.00       314\n",
            " weighted avg       1.00      1.00      1.00       314\n",
            "\n"
          ]
        }
      ]
    }
  ],
  "metadata": {
    "kernelspec": {
      "display_name": "Python 3",
      "name": "python3"
    },
    "language_info": {
      "codemirror_mode": {
        "name": "ipython",
        "version": 3
      },
      "file_extension": ".py",
      "mimetype": "text/x-python",
      "name": "python",
      "nbconvert_exporter": "python",
      "pygments_lexer": "ipython3",
      "version": "3.11.2"
    },
    "colab": {
      "provenance": [],
      "gpuType": "T4",
      "include_colab_link": true
    },
    "accelerator": "GPU",
    "widgets": {
      "application/vnd.jupyter.widget-state+json": {
        "af63a29332634ca2982cedaf0f8f0eca": {
          "model_module": "catboost-widget",
          "model_name": "CatboostWidgetModel",
          "model_module_version": "^1.0.0",
          "state": {
            "_dom_classes": [],
            "_model_module": "catboost-widget",
            "_model_module_version": "^1.0.0",
            "_model_name": "CatboostWidgetModel",
            "_view_count": null,
            "_view_module": "catboost-widget",
            "_view_module_version": "^1.0.0",
            "_view_name": "CatboostWidgetView",
            "data": {
              "catboost_info": {
                "path": "catboost_info",
                "name": "catboost_info",
                "content": {
                  "passed_iterations": 349,
                  "total_iterations": 350,
                  "data": {
                    "iterations": [
                      {
                        "learn": [
                          2.149866202
                        ],
                        "iteration": 0,
                        "passed_time": 0.02266724778,
                        "remaining_time": 7.910869476,
                        "test": [
                          2.150940913
                        ]
                      },
                      {
                        "learn": [
                          2.115877787
                        ],
                        "iteration": 1,
                        "passed_time": 0.04587075576,
                        "remaining_time": 7.981511502,
                        "test": [
                          2.117497323
                        ]
                      },
                      {
                        "learn": [
                          2.082079962
                        ],
                        "iteration": 2,
                        "passed_time": 0.06773576817,
                        "remaining_time": 7.834770518,
                        "test": [
                          2.084862165
                        ]
                      },
                      {
                        "learn": [
                          2.048095296
                        ],
                        "iteration": 3,
                        "passed_time": 0.08961057022,
                        "remaining_time": 7.751314324,
                        "test": [
                          2.052432629
                        ]
                      },
                      {
                        "learn": [
                          2.006592057
                        ],
                        "iteration": 4,
                        "passed_time": 0.1103573299,
                        "remaining_time": 7.614655765,
                        "test": [
                          2.011390255
                        ]
                      },
                      {
                        "learn": [
                          1.969305885
                        ],
                        "iteration": 5,
                        "passed_time": 0.132041251,
                        "remaining_time": 7.570365059,
                        "test": [
                          1.975068628
                        ]
                      },
                      {
                        "learn": [
                          1.937409642
                        ],
                        "iteration": 6,
                        "passed_time": 0.1532568654,
                        "remaining_time": 7.509586406,
                        "test": [
                          1.942779232
                        ]
                      },
                      {
                        "learn": [
                          1.905071683
                        ],
                        "iteration": 7,
                        "passed_time": 0.1752817289,
                        "remaining_time": 7.493293912,
                        "test": [
                          1.911146518
                        ]
                      },
                      {
                        "learn": [
                          1.875773339
                        ],
                        "iteration": 8,
                        "passed_time": 0.1987391835,
                        "remaining_time": 7.530006843,
                        "test": [
                          1.882753527
                        ]
                      },
                      {
                        "learn": [
                          1.850198197
                        ],
                        "iteration": 9,
                        "passed_time": 0.219465168,
                        "remaining_time": 7.461815713,
                        "test": [
                          1.858535992
                        ]
                      },
                      {
                        "learn": [
                          1.82398071
                        ],
                        "iteration": 10,
                        "passed_time": 0.240583287,
                        "remaining_time": 7.414339482,
                        "test": [
                          1.833345859
                        ]
                      },
                      {
                        "learn": [
                          1.801071834
                        ],
                        "iteration": 11,
                        "passed_time": 0.2612544145,
                        "remaining_time": 7.358666009,
                        "test": [
                          1.810506902
                        ]
                      },
                      {
                        "learn": [
                          1.772564116
                        ],
                        "iteration": 12,
                        "passed_time": 0.2823642768,
                        "remaining_time": 7.319750869,
                        "test": [
                          1.782592145
                        ]
                      },
                      {
                        "learn": [
                          1.755127542
                        ],
                        "iteration": 13,
                        "passed_time": 0.3030203939,
                        "remaining_time": 7.272489453,
                        "test": [
                          1.76589846
                        ]
                      },
                      {
                        "learn": [
                          1.734355952
                        ],
                        "iteration": 14,
                        "passed_time": 0.3252215259,
                        "remaining_time": 7.263280745,
                        "test": [
                          1.74614904
                        ]
                      },
                      {
                        "learn": [
                          1.709745204
                        ],
                        "iteration": 15,
                        "passed_time": 0.3642770884,
                        "remaining_time": 7.60428422,
                        "test": [
                          1.722596605
                        ]
                      },
                      {
                        "learn": [
                          1.679173132
                        ],
                        "iteration": 16,
                        "passed_time": 0.3879453342,
                        "remaining_time": 7.599164487,
                        "test": [
                          1.692283425
                        ]
                      },
                      {
                        "learn": [
                          1.663598244
                        ],
                        "iteration": 17,
                        "passed_time": 0.4106068642,
                        "remaining_time": 7.573415495,
                        "test": [
                          1.67765403
                        ]
                      },
                      {
                        "learn": [
                          1.637196472
                        ],
                        "iteration": 18,
                        "passed_time": 0.4314014811,
                        "remaining_time": 7.515467908,
                        "test": [
                          1.652314854
                        ]
                      },
                      {
                        "learn": [
                          1.609077408
                        ],
                        "iteration": 19,
                        "passed_time": 0.452306004,
                        "remaining_time": 7.463049066,
                        "test": [
                          1.624141403
                        ]
                      },
                      {
                        "learn": [
                          1.584200885
                        ],
                        "iteration": 20,
                        "passed_time": 0.4822913815,
                        "remaining_time": 7.55589831,
                        "test": [
                          1.599417079
                        ]
                      },
                      {
                        "learn": [
                          1.563047993
                        ],
                        "iteration": 21,
                        "passed_time": 0.5093107405,
                        "remaining_time": 7.593360131,
                        "test": [
                          1.578821362
                        ]
                      },
                      {
                        "learn": [
                          1.540881677
                        ],
                        "iteration": 22,
                        "passed_time": 0.5307219827,
                        "remaining_time": 7.545482102,
                        "test": [
                          1.557051343
                        ]
                      },
                      {
                        "learn": [
                          1.517331746
                        ],
                        "iteration": 23,
                        "passed_time": 0.551642822,
                        "remaining_time": 7.493148332,
                        "test": [
                          1.533856337
                        ]
                      },
                      {
                        "learn": [
                          1.499283298
                        ],
                        "iteration": 24,
                        "passed_time": 0.5724212825,
                        "remaining_time": 7.441476673,
                        "test": [
                          1.515899402
                        ]
                      },
                      {
                        "learn": [
                          1.48410095
                        ],
                        "iteration": 25,
                        "passed_time": 0.5932164205,
                        "remaining_time": 7.392389239,
                        "test": [
                          1.501130735
                        ]
                      },
                      {
                        "learn": [
                          1.464159678
                        ],
                        "iteration": 26,
                        "passed_time": 0.6144999773,
                        "remaining_time": 7.35124047,
                        "test": [
                          1.481353229
                        ]
                      },
                      {
                        "learn": [
                          1.441223848
                        ],
                        "iteration": 27,
                        "passed_time": 0.6385600437,
                        "remaining_time": 7.343440502,
                        "test": [
                          1.457990415
                        ]
                      },
                      {
                        "learn": [
                          1.424424556
                        ],
                        "iteration": 28,
                        "passed_time": 0.6600160832,
                        "remaining_time": 7.305695266,
                        "test": [
                          1.441844881
                        ]
                      },
                      {
                        "learn": [
                          1.40693482
                        ],
                        "iteration": 29,
                        "passed_time": 0.6826926656,
                        "remaining_time": 7.2820551,
                        "test": [
                          1.424676475
                        ]
                      },
                      {
                        "learn": [
                          1.386682571
                        ],
                        "iteration": 30,
                        "passed_time": 0.7041487461,
                        "remaining_time": 7.245917743,
                        "test": [
                          1.404874361
                        ]
                      },
                      {
                        "learn": [
                          1.372110098
                        ],
                        "iteration": 31,
                        "passed_time": 0.7276976524,
                        "remaining_time": 7.23149542,
                        "test": [
                          1.390682612
                        ]
                      },
                      {
                        "learn": [
                          1.355230816
                        ],
                        "iteration": 32,
                        "passed_time": 0.9071914627,
                        "remaining_time": 8.714536172,
                        "test": [
                          1.373535538
                        ]
                      },
                      {
                        "learn": [
                          1.338640394
                        ],
                        "iteration": 33,
                        "passed_time": 0.929574076,
                        "remaining_time": 8.639570824,
                        "test": [
                          1.357152955
                        ]
                      },
                      {
                        "learn": [
                          1.318800237
                        ],
                        "iteration": 34,
                        "passed_time": 0.9515291681,
                        "remaining_time": 8.563762513,
                        "test": [
                          1.337379765
                        ]
                      },
                      {
                        "learn": [
                          1.299176483
                        ],
                        "iteration": 35,
                        "passed_time": 0.9731773775,
                        "remaining_time": 8.488269348,
                        "test": [
                          1.317913796
                        ]
                      },
                      {
                        "learn": [
                          1.279989659
                        ],
                        "iteration": 36,
                        "passed_time": 1.000000505,
                        "remaining_time": 8.45946373,
                        "test": [
                          1.298817854
                        ]
                      },
                      {
                        "learn": [
                          1.263856383
                        ],
                        "iteration": 37,
                        "passed_time": 1.021960902,
                        "remaining_time": 8.390836877,
                        "test": [
                          1.283087741
                        ]
                      },
                      {
                        "learn": [
                          1.250728786
                        ],
                        "iteration": 38,
                        "passed_time": 1.043196021,
                        "remaining_time": 8.318819555,
                        "test": [
                          1.270339416
                        ]
                      },
                      {
                        "learn": [
                          1.236652664
                        ],
                        "iteration": 39,
                        "passed_time": 1.064032592,
                        "remaining_time": 8.246252586,
                        "test": [
                          1.256332311
                        ]
                      },
                      {
                        "learn": [
                          1.220153407
                        ],
                        "iteration": 40,
                        "passed_time": 1.086426852,
                        "remaining_time": 8.187948711,
                        "test": [
                          1.240124833
                        ]
                      },
                      {
                        "learn": [
                          1.208102444
                        ],
                        "iteration": 41,
                        "passed_time": 1.108563838,
                        "remaining_time": 8.129468145,
                        "test": [
                          1.227852044
                        ]
                      },
                      {
                        "learn": [
                          1.194425374
                        ],
                        "iteration": 42,
                        "passed_time": 1.129617769,
                        "remaining_time": 8.06494547,
                        "test": [
                          1.214949432
                        ]
                      },
                      {
                        "learn": [
                          1.182542752
                        ],
                        "iteration": 43,
                        "passed_time": 1.150536115,
                        "remaining_time": 8.001455707,
                        "test": [
                          1.203070936
                        ]
                      },
                      {
                        "learn": [
                          1.171321419
                        ],
                        "iteration": 44,
                        "passed_time": 1.171545106,
                        "remaining_time": 7.940472384,
                        "test": [
                          1.192252833
                        ]
                      },
                      {
                        "learn": [
                          1.157066349
                        ],
                        "iteration": 45,
                        "passed_time": 1.195837962,
                        "remaining_time": 7.902929137,
                        "test": [
                          1.178504279
                        ]
                      },
                      {
                        "learn": [
                          1.145601064
                        ],
                        "iteration": 46,
                        "passed_time": 1.217191273,
                        "remaining_time": 7.846999057,
                        "test": [
                          1.167515112
                        ]
                      },
                      {
                        "learn": [
                          1.132448949
                        ],
                        "iteration": 47,
                        "passed_time": 1.238524522,
                        "remaining_time": 7.79238345,
                        "test": [
                          1.154218215
                        ]
                      },
                      {
                        "learn": [
                          1.117703572
                        ],
                        "iteration": 48,
                        "passed_time": 1.259892084,
                        "remaining_time": 7.739337085,
                        "test": [
                          1.139387799
                        ]
                      },
                      {
                        "learn": [
                          1.103404289
                        ],
                        "iteration": 49,
                        "passed_time": 1.281257225,
                        "remaining_time": 7.687543347,
                        "test": [
                          1.125155781
                        ]
                      },
                      {
                        "learn": [
                          1.089236428
                        ],
                        "iteration": 50,
                        "passed_time": 1.302132804,
                        "remaining_time": 7.634072711,
                        "test": [
                          1.111028244
                        ]
                      },
                      {
                        "learn": [
                          1.079032115
                        ],
                        "iteration": 51,
                        "passed_time": 1.322969523,
                        "remaining_time": 7.581633035,
                        "test": [
                          1.101083966
                        ]
                      },
                      {
                        "learn": [
                          1.065872295
                        ],
                        "iteration": 52,
                        "passed_time": 1.3457318,
                        "remaining_time": 7.541176314,
                        "test": [
                          1.087823605
                        ]
                      },
                      {
                        "learn": [
                          1.052336948
                        ],
                        "iteration": 53,
                        "passed_time": 1.371374787,
                        "remaining_time": 7.517165499,
                        "test": [
                          1.074279034
                        ]
                      },
                      {
                        "learn": [
                          1.041370683
                        ],
                        "iteration": 54,
                        "passed_time": 1.405499069,
                        "remaining_time": 7.538585914,
                        "test": [
                          1.063665743
                        ]
                      },
                      {
                        "learn": [
                          1.031391443
                        ],
                        "iteration": 55,
                        "passed_time": 1.426330678,
                        "remaining_time": 7.488236061,
                        "test": [
                          1.053595797
                        ]
                      },
                      {
                        "learn": [
                          1.020730682
                        ],
                        "iteration": 56,
                        "passed_time": 1.447467107,
                        "remaining_time": 7.440488811,
                        "test": [
                          1.043185956
                        ]
                      },
                      {
                        "learn": [
                          1.009567481
                        ],
                        "iteration": 57,
                        "passed_time": 1.468804841,
                        "remaining_time": 7.39467265,
                        "test": [
                          1.031682911
                        ]
                      },
                      {
                        "learn": [
                          1.000073467
                        ],
                        "iteration": 58,
                        "passed_time": 1.489809178,
                        "remaining_time": 7.348041876,
                        "test": [
                          1.022385327
                        ]
                      },
                      {
                        "learn": [
                          0.9915914528
                        ],
                        "iteration": 59,
                        "passed_time": 1.511413927,
                        "remaining_time": 7.305167312,
                        "test": [
                          1.014112393
                        ]
                      },
                      {
                        "learn": [
                          0.9797189561
                        ],
                        "iteration": 60,
                        "passed_time": 1.532556998,
                        "remaining_time": 7.260802825,
                        "test": [
                          1.002397877
                        ]
                      },
                      {
                        "learn": [
                          0.9697083322
                        ],
                        "iteration": 61,
                        "passed_time": 1.553748839,
                        "remaining_time": 7.217413962,
                        "test": [
                          0.9921073916
                        ]
                      },
                      {
                        "learn": [
                          0.9580723139
                        ],
                        "iteration": 62,
                        "passed_time": 1.574341093,
                        "remaining_time": 7.171998315,
                        "test": [
                          0.9804783004
                        ]
                      },
                      {
                        "learn": [
                          0.9505719473
                        ],
                        "iteration": 63,
                        "passed_time": 1.59714252,
                        "remaining_time": 7.137230637,
                        "test": [
                          0.9729734047
                        ]
                      },
                      {
                        "learn": [
                          0.9391129987
                        ],
                        "iteration": 64,
                        "passed_time": 1.621081422,
                        "remaining_time": 7.107818543,
                        "test": [
                          0.9612455059
                        ]
                      },
                      {
                        "learn": [
                          0.9290628057
                        ],
                        "iteration": 65,
                        "passed_time": 1.643175704,
                        "remaining_time": 7.070634848,
                        "test": [
                          0.9508798872
                        ]
                      },
                      {
                        "learn": [
                          0.9191363776
                        ],
                        "iteration": 66,
                        "passed_time": 1.665321009,
                        "remaining_time": 7.034117098,
                        "test": [
                          0.9410889791
                        ]
                      },
                      {
                        "learn": [
                          0.9088127584
                        ],
                        "iteration": 67,
                        "passed_time": 1.835966591,
                        "remaining_time": 7.613861452,
                        "test": [
                          0.9307740507
                        ]
                      },
                      {
                        "learn": [
                          0.8996795879
                        ],
                        "iteration": 68,
                        "passed_time": 1.864904065,
                        "remaining_time": 7.594754238,
                        "test": [
                          0.9211601826
                        ]
                      },
                      {
                        "learn": [
                          0.8890403079
                        ],
                        "iteration": 69,
                        "passed_time": 1.886113078,
                        "remaining_time": 7.544452312,
                        "test": [
                          0.9101814566
                        ]
                      },
                      {
                        "learn": [
                          0.8800166643
                        ],
                        "iteration": 70,
                        "passed_time": 1.912118252,
                        "remaining_time": 7.513816791,
                        "test": [
                          0.9010039145
                        ]
                      },
                      {
                        "learn": [
                          0.8730432341
                        ],
                        "iteration": 71,
                        "passed_time": 1.933697474,
                        "remaining_time": 7.466220801,
                        "test": [
                          0.8939409595
                        ]
                      },
                      {
                        "learn": [
                          0.863416173
                        ],
                        "iteration": 72,
                        "passed_time": 1.956475421,
                        "remaining_time": 7.423886187,
                        "test": [
                          0.884150332
                        ]
                      },
                      {
                        "learn": [
                          0.8537010651
                        ],
                        "iteration": 73,
                        "passed_time": 1.977289053,
                        "remaining_time": 7.374753767,
                        "test": [
                          0.8746086327
                        ]
                      },
                      {
                        "learn": [
                          0.8463768514
                        ],
                        "iteration": 74,
                        "passed_time": 2.004209965,
                        "remaining_time": 7.348769872,
                        "test": [
                          0.8671120778
                        ]
                      },
                      {
                        "learn": [
                          0.8381879618
                        ],
                        "iteration": 75,
                        "passed_time": 2.025071259,
                        "remaining_time": 7.300914801,
                        "test": [
                          0.8587433644
                        ]
                      },
                      {
                        "learn": [
                          0.8298117999
                        ],
                        "iteration": 76,
                        "passed_time": 2.04610574,
                        "remaining_time": 7.254374895,
                        "test": [
                          0.8501826947
                        ]
                      },
                      {
                        "learn": [
                          0.8224433882
                        ],
                        "iteration": 77,
                        "passed_time": 2.070269327,
                        "remaining_time": 7.219400731,
                        "test": [
                          0.8425582863
                        ]
                      },
                      {
                        "learn": [
                          0.8152263912
                        ],
                        "iteration": 78,
                        "passed_time": 2.091517973,
                        "remaining_time": 7.174700896,
                        "test": [
                          0.8350704722
                        ]
                      },
                      {
                        "learn": [
                          0.8068614769
                        ],
                        "iteration": 79,
                        "passed_time": 2.115435759,
                        "remaining_time": 7.139595687,
                        "test": [
                          0.8264666029
                        ]
                      },
                      {
                        "learn": [
                          0.7978835192
                        ],
                        "iteration": 80,
                        "passed_time": 2.137694218,
                        "remaining_time": 7.099256106,
                        "test": [
                          0.8174569521
                        ]
                      },
                      {
                        "learn": [
                          0.7889614272
                        ],
                        "iteration": 81,
                        "passed_time": 2.158948125,
                        "remaining_time": 7.056074359,
                        "test": [
                          0.8083124635
                        ]
                      },
                      {
                        "learn": [
                          0.7807913412
                        ],
                        "iteration": 82,
                        "passed_time": 2.182470208,
                        "remaining_time": 7.020717416,
                        "test": [
                          0.8002698324
                        ]
                      },
                      {
                        "learn": [
                          0.7735177786
                        ],
                        "iteration": 83,
                        "passed_time": 2.204441496,
                        "remaining_time": 6.980731403,
                        "test": [
                          0.7930811813
                        ]
                      },
                      {
                        "learn": [
                          0.7665311849
                        ],
                        "iteration": 84,
                        "passed_time": 2.225601236,
                        "remaining_time": 6.938639148,
                        "test": [
                          0.7859437897
                        ]
                      },
                      {
                        "learn": [
                          0.7590333015
                        ],
                        "iteration": 85,
                        "passed_time": 2.246923841,
                        "remaining_time": 6.897533653,
                        "test": [
                          0.7784653496
                        ]
                      },
                      {
                        "learn": [
                          0.7519573417
                        ],
                        "iteration": 86,
                        "passed_time": 2.269630194,
                        "remaining_time": 6.861065988,
                        "test": [
                          0.7713925688
                        ]
                      },
                      {
                        "learn": [
                          0.745404057
                        ],
                        "iteration": 87,
                        "passed_time": 2.291856911,
                        "remaining_time": 6.823483076,
                        "test": [
                          0.7647832406
                        ]
                      },
                      {
                        "learn": [
                          0.7380993271
                        ],
                        "iteration": 88,
                        "passed_time": 2.313192877,
                        "remaining_time": 6.783633043,
                        "test": [
                          0.7574989422
                        ]
                      },
                      {
                        "learn": [
                          0.7300610154
                        ],
                        "iteration": 89,
                        "passed_time": 2.334502479,
                        "remaining_time": 6.744118272,
                        "test": [
                          0.7492177266
                        ]
                      },
                      {
                        "learn": [
                          0.7225546969
                        ],
                        "iteration": 90,
                        "passed_time": 2.35769604,
                        "remaining_time": 6.710365653,
                        "test": [
                          0.7416039153
                        ]
                      },
                      {
                        "learn": [
                          0.7160380411
                        ],
                        "iteration": 91,
                        "passed_time": 2.380549827,
                        "remaining_time": 6.675889732,
                        "test": [
                          0.7349536105
                        ]
                      },
                      {
                        "learn": [
                          0.7107451022
                        ],
                        "iteration": 92,
                        "passed_time": 2.411560013,
                        "remaining_time": 6.664203476,
                        "test": [
                          0.729712776
                        ]
                      },
                      {
                        "learn": [
                          0.7041621232
                        ],
                        "iteration": 93,
                        "passed_time": 2.442315684,
                        "remaining_time": 6.651412926,
                        "test": [
                          0.7231897442
                        ]
                      },
                      {
                        "learn": [
                          0.6993476965
                        ],
                        "iteration": 94,
                        "passed_time": 2.463198849,
                        "remaining_time": 6.61174428,
                        "test": [
                          0.718327376
                        ]
                      },
                      {
                        "learn": [
                          0.6918949676
                        ],
                        "iteration": 95,
                        "passed_time": 2.483686767,
                        "remaining_time": 6.571421237,
                        "test": [
                          0.7107101625
                        ]
                      },
                      {
                        "learn": [
                          0.6861646412
                        ],
                        "iteration": 96,
                        "passed_time": 2.504380461,
                        "remaining_time": 6.532043884,
                        "test": [
                          0.7049682463
                        ]
                      },
                      {
                        "learn": [
                          0.6793984124
                        ],
                        "iteration": 97,
                        "passed_time": 2.525721541,
                        "remaining_time": 6.494712534,
                        "test": [
                          0.6980505337
                        ]
                      },
                      {
                        "learn": [
                          0.6734200093
                        ],
                        "iteration": 98,
                        "passed_time": 2.54644216,
                        "remaining_time": 6.456131132,
                        "test": [
                          0.6919774036
                        ]
                      },
                      {
                        "learn": [
                          0.6665675667
                        ],
                        "iteration": 99,
                        "passed_time": 2.567256901,
                        "remaining_time": 6.418142252,
                        "test": [
                          0.6850106513
                        ]
                      },
                      {
                        "learn": [
                          0.6619966563
                        ],
                        "iteration": 100,
                        "passed_time": 2.588668842,
                        "remaining_time": 6.381965759,
                        "test": [
                          0.6805754892
                        ]
                      },
                      {
                        "learn": [
                          0.6559024418
                        ],
                        "iteration": 101,
                        "passed_time": 2.609644896,
                        "remaining_time": 6.345018964,
                        "test": [
                          0.6745683329
                        ]
                      },
                      {
                        "learn": [
                          0.6497951759
                        ],
                        "iteration": 102,
                        "passed_time": 2.632846305,
                        "remaining_time": 6.31371881,
                        "test": [
                          0.6683846036
                        ]
                      },
                      {
                        "learn": [
                          0.6444077874
                        ],
                        "iteration": 103,
                        "passed_time": 2.654554988,
                        "remaining_time": 6.279043528,
                        "test": [
                          0.6629253604
                        ]
                      },
                      {
                        "learn": [
                          0.6378888294
                        ],
                        "iteration": 104,
                        "passed_time": 2.67596709,
                        "remaining_time": 6.243923209,
                        "test": [
                          0.656209165
                        ]
                      },
                      {
                        "learn": [
                          0.6324468133
                        ],
                        "iteration": 105,
                        "passed_time": 2.698811484,
                        "remaining_time": 6.21235851,
                        "test": [
                          0.650742344
                        ]
                      },
                      {
                        "learn": [
                          0.6272295322
                        ],
                        "iteration": 106,
                        "passed_time": 2.720574269,
                        "remaining_time": 6.178500443,
                        "test": [
                          0.6454348966
                        ]
                      },
                      {
                        "learn": [
                          0.6221296668
                        ],
                        "iteration": 107,
                        "passed_time": 2.79498706,
                        "remaining_time": 6.262841374,
                        "test": [
                          0.640388817
                        ]
                      },
                      {
                        "learn": [
                          0.6158761225
                        ],
                        "iteration": 108,
                        "passed_time": 2.92367269,
                        "remaining_time": 6.46426714,
                        "test": [
                          0.6338744265
                        ]
                      },
                      {
                        "learn": [
                          0.6097014933
                        ],
                        "iteration": 109,
                        "passed_time": 2.945338987,
                        "remaining_time": 6.426194154,
                        "test": [
                          0.6275470585
                        ]
                      },
                      {
                        "learn": [
                          0.6034674465
                        ],
                        "iteration": 110,
                        "passed_time": 2.967376599,
                        "remaining_time": 6.389216282,
                        "test": [
                          0.6210073036
                        ]
                      },
                      {
                        "learn": [
                          0.5988937146
                        ],
                        "iteration": 111,
                        "passed_time": 2.988074669,
                        "remaining_time": 6.349658672,
                        "test": [
                          0.6165370816
                        ]
                      },
                      {
                        "learn": [
                          0.593253145
                        ],
                        "iteration": 112,
                        "passed_time": 3.017904025,
                        "remaining_time": 6.329586318,
                        "test": [
                          0.6107635172
                        ]
                      },
                      {
                        "learn": [
                          0.5877708106
                        ],
                        "iteration": 113,
                        "passed_time": 3.038851725,
                        "remaining_time": 6.290956202,
                        "test": [
                          0.6052015505
                        ]
                      },
                      {
                        "learn": [
                          0.5826819651
                        ],
                        "iteration": 114,
                        "passed_time": 3.060198995,
                        "remaining_time": 6.25345012,
                        "test": [
                          0.5999086918
                        ]
                      },
                      {
                        "learn": [
                          0.5779398279
                        ],
                        "iteration": 115,
                        "passed_time": 3.081491094,
                        "remaining_time": 6.216111344,
                        "test": [
                          0.5951027406
                        ]
                      },
                      {
                        "learn": [
                          0.5731959942
                        ],
                        "iteration": 116,
                        "passed_time": 3.101989575,
                        "remaining_time": 6.17746642,
                        "test": [
                          0.5902577548
                        ]
                      },
                      {
                        "learn": [
                          0.5687252233
                        ],
                        "iteration": 117,
                        "passed_time": 3.124058835,
                        "remaining_time": 6.142217371,
                        "test": [
                          0.5856632959
                        ]
                      },
                      {
                        "learn": [
                          0.5640905065
                        ],
                        "iteration": 118,
                        "passed_time": 3.14506586,
                        "remaining_time": 6.105127847,
                        "test": [
                          0.5808017664
                        ]
                      },
                      {
                        "learn": [
                          0.5591766102
                        ],
                        "iteration": 119,
                        "passed_time": 3.167623007,
                        "remaining_time": 6.071277431,
                        "test": [
                          0.5756447306
                        ]
                      },
                      {
                        "learn": [
                          0.5544997555
                        ],
                        "iteration": 120,
                        "passed_time": 3.188774247,
                        "remaining_time": 6.034952914,
                        "test": [
                          0.5708100916
                        ]
                      },
                      {
                        "learn": [
                          0.5500932639
                        ],
                        "iteration": 121,
                        "passed_time": 3.209870087,
                        "remaining_time": 5.998773605,
                        "test": [
                          0.5663924364
                        ]
                      },
                      {
                        "learn": [
                          0.5451487871
                        ],
                        "iteration": 122,
                        "passed_time": 3.23146373,
                        "remaining_time": 5.963758267,
                        "test": [
                          0.5612581091
                        ]
                      },
                      {
                        "learn": [
                          0.5404787952
                        ],
                        "iteration": 123,
                        "passed_time": 3.252254018,
                        "remaining_time": 5.927495227,
                        "test": [
                          0.5564114223
                        ]
                      },
                      {
                        "learn": [
                          0.5359054445
                        ],
                        "iteration": 124,
                        "passed_time": 3.273396735,
                        "remaining_time": 5.892114122,
                        "test": [
                          0.5517068941
                        ]
                      },
                      {
                        "learn": [
                          0.5313202455
                        ],
                        "iteration": 125,
                        "passed_time": 3.294585061,
                        "remaining_time": 5.857040108,
                        "test": [
                          0.5471105275
                        ]
                      },
                      {
                        "learn": [
                          0.5273861541
                        ],
                        "iteration": 126,
                        "passed_time": 3.315938295,
                        "remaining_time": 5.822474329,
                        "test": [
                          0.5432998421
                        ]
                      },
                      {
                        "learn": [
                          0.5226122377
                        ],
                        "iteration": 127,
                        "passed_time": 3.336944164,
                        "remaining_time": 5.787512535,
                        "test": [
                          0.5384211665
                        ]
                      },
                      {
                        "learn": [
                          0.5179196059
                        ],
                        "iteration": 128,
                        "passed_time": 3.360817645,
                        "remaining_time": 5.757679841,
                        "test": [
                          0.5336022218
                        ]
                      },
                      {
                        "learn": [
                          0.5135543678
                        ],
                        "iteration": 129,
                        "passed_time": 3.384402636,
                        "remaining_time": 5.727450614,
                        "test": [
                          0.5292170531
                        ]
                      },
                      {
                        "learn": [
                          0.5098850237
                        ],
                        "iteration": 130,
                        "passed_time": 3.405272974,
                        "remaining_time": 5.69278459,
                        "test": [
                          0.525437137
                        ]
                      },
                      {
                        "learn": [
                          0.5053845229
                        ],
                        "iteration": 131,
                        "passed_time": 3.432979272,
                        "remaining_time": 5.669617283,
                        "test": [
                          0.5207985517
                        ]
                      },
                      {
                        "learn": [
                          0.5012783169
                        ],
                        "iteration": 132,
                        "passed_time": 3.464796172,
                        "remaining_time": 5.653088491,
                        "test": [
                          0.5165249438
                        ]
                      },
                      {
                        "learn": [
                          0.4967956744
                        ],
                        "iteration": 133,
                        "passed_time": 3.485659474,
                        "remaining_time": 5.618674972,
                        "test": [
                          0.5118163883
                        ]
                      },
                      {
                        "learn": [
                          0.4929072139
                        ],
                        "iteration": 134,
                        "passed_time": 3.506736646,
                        "remaining_time": 5.584802807,
                        "test": [
                          0.5079076289
                        ]
                      },
                      {
                        "learn": [
                          0.4891482804
                        ],
                        "iteration": 135,
                        "passed_time": 3.528143861,
                        "remaining_time": 5.551638135,
                        "test": [
                          0.5040082648
                        ]
                      },
                      {
                        "learn": [
                          0.4858081411
                        ],
                        "iteration": 136,
                        "passed_time": 3.549502389,
                        "remaining_time": 5.518569407,
                        "test": [
                          0.5006636248
                        ]
                      },
                      {
                        "learn": [
                          0.4814048049
                        ],
                        "iteration": 137,
                        "passed_time": 3.570854817,
                        "remaining_time": 5.485661023,
                        "test": [
                          0.496134038
                        ]
                      },
                      {
                        "learn": [
                          0.4774295176
                        ],
                        "iteration": 138,
                        "passed_time": 3.592635132,
                        "remaining_time": 5.453568438,
                        "test": [
                          0.4920319223
                        ]
                      },
                      {
                        "learn": [
                          0.4738226001
                        ],
                        "iteration": 139,
                        "passed_time": 3.617431325,
                        "remaining_time": 5.426146987,
                        "test": [
                          0.4883816706
                        ]
                      },
                      {
                        "learn": [
                          0.4700617454
                        ],
                        "iteration": 140,
                        "passed_time": 3.639049916,
                        "remaining_time": 5.394052712,
                        "test": [
                          0.4845268067
                        ]
                      },
                      {
                        "learn": [
                          0.4665221677
                        ],
                        "iteration": 141,
                        "passed_time": 3.662918679,
                        "remaining_time": 5.365402009,
                        "test": [
                          0.4808924076
                        ]
                      },
                      {
                        "learn": [
                          0.4630220912
                        ],
                        "iteration": 142,
                        "passed_time": 3.685008586,
                        "remaining_time": 5.334243197,
                        "test": [
                          0.4773620682
                        ]
                      },
                      {
                        "learn": [
                          0.4590795335
                        ],
                        "iteration": 143,
                        "passed_time": 3.859961251,
                        "remaining_time": 5.521889011,
                        "test": [
                          0.4731551963
                        ]
                      },
                      {
                        "learn": [
                          0.4555767826
                        ],
                        "iteration": 144,
                        "passed_time": 3.89000785,
                        "remaining_time": 5.499666271,
                        "test": [
                          0.4695203748
                        ]
                      },
                      {
                        "learn": [
                          0.4529273446
                        ],
                        "iteration": 145,
                        "passed_time": 3.919006181,
                        "remaining_time": 5.47587165,
                        "test": [
                          0.4667632669
                        ]
                      },
                      {
                        "learn": [
                          0.4487739435
                        ],
                        "iteration": 146,
                        "passed_time": 3.961839331,
                        "remaining_time": 5.471111457,
                        "test": [
                          0.4624269963
                        ]
                      },
                      {
                        "learn": [
                          0.4460393236
                        ],
                        "iteration": 147,
                        "passed_time": 3.996638843,
                        "remaining_time": 5.454871935,
                        "test": [
                          0.4595914211
                        ]
                      },
                      {
                        "learn": [
                          0.4426528459
                        ],
                        "iteration": 148,
                        "passed_time": 4.050758155,
                        "remaining_time": 5.464445564,
                        "test": [
                          0.4561917104
                        ]
                      },
                      {
                        "learn": [
                          0.4389381335
                        ],
                        "iteration": 149,
                        "passed_time": 4.09245822,
                        "remaining_time": 5.45661096,
                        "test": [
                          0.4523068504
                        ]
                      },
                      {
                        "learn": [
                          0.4350582174
                        ],
                        "iteration": 150,
                        "passed_time": 4.126631475,
                        "remaining_time": 5.438408368,
                        "test": [
                          0.448279252
                        ]
                      },
                      {
                        "learn": [
                          0.4316274713
                        ],
                        "iteration": 151,
                        "passed_time": 4.16825201,
                        "remaining_time": 5.429696697,
                        "test": [
                          0.4446952742
                        ]
                      },
                      {
                        "learn": [
                          0.4283196166
                        ],
                        "iteration": 152,
                        "passed_time": 4.207601937,
                        "remaining_time": 5.417631252,
                        "test": [
                          0.4411785326
                        ]
                      },
                      {
                        "learn": [
                          0.42507265
                        ],
                        "iteration": 153,
                        "passed_time": 4.238577169,
                        "remaining_time": 5.394552761,
                        "test": [
                          0.4378838239
                        ]
                      },
                      {
                        "learn": [
                          0.421391439
                        ],
                        "iteration": 154,
                        "passed_time": 4.282700713,
                        "remaining_time": 5.3879138,
                        "test": [
                          0.4341254509
                        ]
                      },
                      {
                        "learn": [
                          0.4184646752
                        ],
                        "iteration": 155,
                        "passed_time": 4.320749982,
                        "remaining_time": 5.373240363,
                        "test": [
                          0.4310427787
                        ]
                      },
                      {
                        "learn": [
                          0.4152710741
                        ],
                        "iteration": 156,
                        "passed_time": 4.366653139,
                        "remaining_time": 5.367923922,
                        "test": [
                          0.4277427235
                        ]
                      },
                      {
                        "learn": [
                          0.4119871623
                        ],
                        "iteration": 157,
                        "passed_time": 4.411125261,
                        "remaining_time": 5.360354748,
                        "test": [
                          0.424447853
                        ]
                      },
                      {
                        "learn": [
                          0.4088256672
                        ],
                        "iteration": 158,
                        "passed_time": 4.453120012,
                        "remaining_time": 5.349345424,
                        "test": [
                          0.4211558679
                        ]
                      },
                      {
                        "learn": [
                          0.4059870812
                        ],
                        "iteration": 159,
                        "passed_time": 4.493841181,
                        "remaining_time": 5.336436403,
                        "test": [
                          0.4183134276
                        ]
                      },
                      {
                        "learn": [
                          0.4033387597
                        ],
                        "iteration": 160,
                        "passed_time": 4.535267147,
                        "remaining_time": 5.32400926,
                        "test": [
                          0.4156220584
                        ]
                      },
                      {
                        "learn": [
                          0.3999319901
                        ],
                        "iteration": 161,
                        "passed_time": 4.577203012,
                        "remaining_time": 5.311815841,
                        "test": [
                          0.4121171608
                        ]
                      },
                      {
                        "learn": [
                          0.397192595
                        ],
                        "iteration": 162,
                        "passed_time": 4.623055601,
                        "remaining_time": 5.303750904,
                        "test": [
                          0.4092728894
                        ]
                      },
                      {
                        "learn": [
                          0.3937950835
                        ],
                        "iteration": 163,
                        "passed_time": 4.663197032,
                        "remaining_time": 5.288747853,
                        "test": [
                          0.4057177848
                        ]
                      },
                      {
                        "learn": [
                          0.3910782441
                        ],
                        "iteration": 164,
                        "passed_time": 4.710613062,
                        "remaining_time": 5.281596463,
                        "test": [
                          0.4029482103
                        ]
                      },
                      {
                        "learn": [
                          0.3883616691
                        ],
                        "iteration": 165,
                        "passed_time": 4.782555574,
                        "remaining_time": 5.301145937,
                        "test": [
                          0.4001659059
                        ]
                      },
                      {
                        "learn": [
                          0.3852779693
                        ],
                        "iteration": 166,
                        "passed_time": 4.900429083,
                        "remaining_time": 5.36993127,
                        "test": [
                          0.3969577197
                        ]
                      },
                      {
                        "learn": [
                          0.3825958316
                        ],
                        "iteration": 167,
                        "passed_time": 4.993969414,
                        "remaining_time": 5.410133532,
                        "test": [
                          0.3942738912
                        ]
                      },
                      {
                        "learn": [
                          0.3797371197
                        ],
                        "iteration": 168,
                        "passed_time": 5.075965508,
                        "remaining_time": 5.436389095,
                        "test": [
                          0.3913027313
                        ]
                      },
                      {
                        "learn": [
                          0.377515279
                        ],
                        "iteration": 169,
                        "passed_time": 5.145982031,
                        "remaining_time": 5.448686857,
                        "test": [
                          0.3890401608
                        ]
                      },
                      {
                        "learn": [
                          0.3745265944
                        ],
                        "iteration": 170,
                        "passed_time": 5.188797455,
                        "remaining_time": 5.431548213,
                        "test": [
                          0.3859393743
                        ]
                      },
                      {
                        "learn": [
                          0.3714799971
                        ],
                        "iteration": 171,
                        "passed_time": 5.223792066,
                        "remaining_time": 5.406017371,
                        "test": [
                          0.3827522678
                        ]
                      },
                      {
                        "learn": [
                          0.3687099391
                        ],
                        "iteration": 172,
                        "passed_time": 5.263784911,
                        "remaining_time": 5.385490921,
                        "test": [
                          0.3799304643
                        ]
                      },
                      {
                        "learn": [
                          0.3662801806
                        ],
                        "iteration": 173,
                        "passed_time": 5.307280114,
                        "remaining_time": 5.368283333,
                        "test": [
                          0.3774520334
                        ]
                      },
                      {
                        "learn": [
                          0.3634695071
                        ],
                        "iteration": 174,
                        "passed_time": 5.35164885,
                        "remaining_time": 5.35164885,
                        "test": [
                          0.3744528029
                        ]
                      },
                      {
                        "learn": [
                          0.3609316466
                        ],
                        "iteration": 175,
                        "passed_time": 5.393203983,
                        "remaining_time": 5.331917574,
                        "test": [
                          0.3719055593
                        ]
                      },
                      {
                        "learn": [
                          0.3581221015
                        ],
                        "iteration": 176,
                        "passed_time": 5.428553053,
                        "remaining_time": 5.305873888,
                        "test": [
                          0.3689815055
                        ]
                      },
                      {
                        "learn": [
                          0.3555370344
                        ],
                        "iteration": 177,
                        "passed_time": 5.46470351,
                        "remaining_time": 5.280500021,
                        "test": [
                          0.3662741127
                        ]
                      },
                      {
                        "learn": [
                          0.3529670499
                        ],
                        "iteration": 178,
                        "passed_time": 5.50990486,
                        "remaining_time": 5.263652129,
                        "test": [
                          0.3636572648
                        ]
                      },
                      {
                        "learn": [
                          0.3505376373
                        ],
                        "iteration": 179,
                        "passed_time": 5.560640755,
                        "remaining_time": 5.251716268,
                        "test": [
                          0.3610742709
                        ]
                      },
                      {
                        "learn": [
                          0.3476008534
                        ],
                        "iteration": 180,
                        "passed_time": 5.60543356,
                        "remaining_time": 5.233802606,
                        "test": [
                          0.358014027
                        ]
                      },
                      {
                        "learn": [
                          0.3457742296
                        ],
                        "iteration": 181,
                        "passed_time": 5.653429325,
                        "remaining_time": 5.218550146,
                        "test": [
                          0.3561252357
                        ]
                      },
                      {
                        "learn": [
                          0.3440086729
                        ],
                        "iteration": 182,
                        "passed_time": 5.694698429,
                        "remaining_time": 5.196801299,
                        "test": [
                          0.3543474546
                        ]
                      },
                      {
                        "learn": [
                          0.342006603
                        ],
                        "iteration": 183,
                        "passed_time": 5.733945023,
                        "remaining_time": 5.173015618,
                        "test": [
                          0.3523566954
                        ]
                      },
                      {
                        "learn": [
                          0.3397982567
                        ],
                        "iteration": 184,
                        "passed_time": 5.773232197,
                        "remaining_time": 5.149098986,
                        "test": [
                          0.3500907639
                        ]
                      },
                      {
                        "learn": [
                          0.3371374472
                        ],
                        "iteration": 185,
                        "passed_time": 5.813518009,
                        "remaining_time": 5.125897599,
                        "test": [
                          0.3472982253
                        ]
                      },
                      {
                        "learn": [
                          0.3348199534
                        ],
                        "iteration": 186,
                        "passed_time": 5.853127093,
                        "remaining_time": 5.101923616,
                        "test": [
                          0.3448617675
                        ]
                      },
                      {
                        "learn": [
                          0.3325970994
                        ],
                        "iteration": 187,
                        "passed_time": 5.89271255,
                        "remaining_time": 5.077762942,
                        "test": [
                          0.3425074982
                        ]
                      },
                      {
                        "learn": [
                          0.330373309
                        ],
                        "iteration": 188,
                        "passed_time": 5.934747943,
                        "remaining_time": 5.055526026,
                        "test": [
                          0.3401754859
                        ]
                      },
                      {
                        "learn": [
                          0.3283790991
                        ],
                        "iteration": 189,
                        "passed_time": 5.972719995,
                        "remaining_time": 5.029658943,
                        "test": [
                          0.3380661601
                        ]
                      },
                      {
                        "learn": [
                          0.3261061413
                        ],
                        "iteration": 190,
                        "passed_time": 6.016459474,
                        "remaining_time": 5.008466264,
                        "test": [
                          0.3357846884
                        ]
                      },
                      {
                        "learn": [
                          0.3234932081
                        ],
                        "iteration": 191,
                        "passed_time": 6.065806896,
                        "remaining_time": 4.991653592,
                        "test": [
                          0.3330989983
                        ]
                      },
                      {
                        "learn": [
                          0.3212223632
                        ],
                        "iteration": 192,
                        "passed_time": 6.118554067,
                        "remaining_time": 4.977269371,
                        "test": [
                          0.330720884
                        ]
                      },
                      {
                        "learn": [
                          0.3187857094
                        ],
                        "iteration": 193,
                        "passed_time": 6.187683928,
                        "remaining_time": 4.975663365,
                        "test": [
                          0.3281124548
                        ]
                      },
                      {
                        "learn": [
                          0.3169699901
                        ],
                        "iteration": 194,
                        "passed_time": 6.246652907,
                        "remaining_time": 4.965288208,
                        "test": [
                          0.3262715543
                        ]
                      },
                      {
                        "learn": [
                          0.3148215708
                        ],
                        "iteration": 195,
                        "passed_time": 6.309129511,
                        "remaining_time": 4.957173187,
                        "test": [
                          0.3240081218
                        ]
                      },
                      {
                        "learn": [
                          0.3123262347
                        ],
                        "iteration": 196,
                        "passed_time": 6.374827661,
                        "remaining_time": 4.951008285,
                        "test": [
                          0.3213844022
                        ]
                      },
                      {
                        "learn": [
                          0.3102779345
                        ],
                        "iteration": 197,
                        "passed_time": 6.436892971,
                        "remaining_time": 4.94145319,
                        "test": [
                          0.3192612056
                        ]
                      },
                      {
                        "learn": [
                          0.3080705158
                        ],
                        "iteration": 198,
                        "passed_time": 6.493748707,
                        "remaining_time": 4.927417361,
                        "test": [
                          0.3169287021
                        ]
                      },
                      {
                        "learn": [
                          0.3061015653
                        ],
                        "iteration": 199,
                        "passed_time": 6.559309407,
                        "remaining_time": 4.919482055,
                        "test": [
                          0.3148883163
                        ]
                      },
                      {
                        "learn": [
                          0.3038428364
                        ],
                        "iteration": 200,
                        "passed_time": 6.62934353,
                        "remaining_time": 4.914289483,
                        "test": [
                          0.312533906
                        ]
                      },
                      {
                        "learn": [
                          0.3021714966
                        ],
                        "iteration": 201,
                        "passed_time": 6.69687043,
                        "remaining_time": 4.906617939,
                        "test": [
                          0.3108825373
                        ]
                      },
                      {
                        "learn": [
                          0.2998803145
                        ],
                        "iteration": 202,
                        "passed_time": 6.748755394,
                        "remaining_time": 4.887029768,
                        "test": [
                          0.3084137439
                        ]
                      },
                      {
                        "learn": [
                          0.2980399649
                        ],
                        "iteration": 203,
                        "passed_time": 6.793057619,
                        "remaining_time": 4.8616981,
                        "test": [
                          0.3064752258
                        ]
                      },
                      {
                        "learn": [
                          0.2958450745
                        ],
                        "iteration": 204,
                        "passed_time": 6.83757814,
                        "remaining_time": 4.836335757,
                        "test": [
                          0.304153369
                        ]
                      },
                      {
                        "learn": [
                          0.2942113766
                        ],
                        "iteration": 205,
                        "passed_time": 6.877958238,
                        "remaining_time": 4.807893138,
                        "test": [
                          0.3025449118
                        ]
                      },
                      {
                        "learn": [
                          0.2924102633
                        ],
                        "iteration": 206,
                        "passed_time": 6.920148626,
                        "remaining_time": 4.780585766,
                        "test": [
                          0.3006288936
                        ]
                      },
                      {
                        "learn": [
                          0.2906803044
                        ],
                        "iteration": 207,
                        "passed_time": 6.95535791,
                        "remaining_time": 4.748369342,
                        "test": [
                          0.2988880461
                        ]
                      },
                      {
                        "learn": [
                          0.2884452618
                        ],
                        "iteration": 208,
                        "passed_time": 6.997559261,
                        "remaining_time": 4.720841415,
                        "test": [
                          0.296580168
                        ]
                      },
                      {
                        "learn": [
                          0.2865359758
                        ],
                        "iteration": 209,
                        "passed_time": 7.037214284,
                        "remaining_time": 4.69147619,
                        "test": [
                          0.2946451884
                        ]
                      },
                      {
                        "learn": [
                          0.284615167
                        ],
                        "iteration": 210,
                        "passed_time": 7.090962092,
                        "remaining_time": 4.671297302,
                        "test": [
                          0.2926270413
                        ]
                      },
                      {
                        "learn": [
                          0.2828713697
                        ],
                        "iteration": 211,
                        "passed_time": 7.13054785,
                        "remaining_time": 4.641583034,
                        "test": [
                          0.2908076309
                        ]
                      },
                      {
                        "learn": [
                          0.2811040977
                        ],
                        "iteration": 212,
                        "passed_time": 7.16959871,
                        "remaining_time": 4.611432034,
                        "test": [
                          0.2889924387
                        ]
                      },
                      {
                        "learn": [
                          0.2791731696
                        ],
                        "iteration": 213,
                        "passed_time": 7.208310744,
                        "remaining_time": 4.580982529,
                        "test": [
                          0.2869662764
                        ]
                      },
                      {
                        "learn": [
                          0.277425809
                        ],
                        "iteration": 214,
                        "passed_time": 7.252534394,
                        "remaining_time": 4.553916945,
                        "test": [
                          0.2850819761
                        ]
                      },
                      {
                        "learn": [
                          0.2758565392
                        ],
                        "iteration": 215,
                        "passed_time": 7.277791146,
                        "remaining_time": 4.514925988,
                        "test": [
                          0.283472046
                        ]
                      },
                      {
                        "learn": [
                          0.274144848
                        ],
                        "iteration": 216,
                        "passed_time": 7.302997164,
                        "remaining_time": 4.47603052,
                        "test": [
                          0.2816782752
                        ]
                      },
                      {
                        "learn": [
                          0.2725999238
                        ],
                        "iteration": 217,
                        "passed_time": 7.32398605,
                        "remaining_time": 4.43470715,
                        "test": [
                          0.2801188013
                        ]
                      },
                      {
                        "learn": [
                          0.2706422882
                        ],
                        "iteration": 218,
                        "passed_time": 7.347546843,
                        "remaining_time": 4.395107929,
                        "test": [
                          0.2780183333
                        ]
                      },
                      {
                        "learn": [
                          0.2692349272
                        ],
                        "iteration": 219,
                        "passed_time": 7.37297487,
                        "remaining_time": 4.356757878,
                        "test": [
                          0.2765108776
                        ]
                      },
                      {
                        "learn": [
                          0.2674566225
                        ],
                        "iteration": 220,
                        "passed_time": 7.394703868,
                        "remaining_time": 4.316365606,
                        "test": [
                          0.2746326134
                        ]
                      },
                      {
                        "learn": [
                          0.2657228024
                        ],
                        "iteration": 221,
                        "passed_time": 7.415495481,
                        "remaining_time": 4.275600998,
                        "test": [
                          0.2727882101
                        ]
                      },
                      {
                        "learn": [
                          0.2640588742
                        ],
                        "iteration": 222,
                        "passed_time": 7.437683144,
                        "remaining_time": 4.23581058,
                        "test": [
                          0.2710221068
                        ]
                      },
                      {
                        "learn": [
                          0.2623788553
                        ],
                        "iteration": 223,
                        "passed_time": 7.458320098,
                        "remaining_time": 4.195305055,
                        "test": [
                          0.2692716737
                        ]
                      },
                      {
                        "learn": [
                          0.2604812282
                        ],
                        "iteration": 224,
                        "passed_time": 7.47930342,
                        "remaining_time": 4.155168566,
                        "test": [
                          0.2672744351
                        ]
                      },
                      {
                        "learn": [
                          0.2588614042
                        ],
                        "iteration": 225,
                        "passed_time": 7.500939553,
                        "remaining_time": 4.115559754,
                        "test": [
                          0.2656099351
                        ]
                      },
                      {
                        "learn": [
                          0.2569837865
                        ],
                        "iteration": 226,
                        "passed_time": 7.522071944,
                        "remaining_time": 4.07583634,
                        "test": [
                          0.2636491313
                        ]
                      },
                      {
                        "learn": [
                          0.2552070934
                        ],
                        "iteration": 227,
                        "passed_time": 7.542689437,
                        "remaining_time": 4.036000488,
                        "test": [
                          0.2618037064
                        ]
                      },
                      {
                        "learn": [
                          0.2534515614
                        ],
                        "iteration": 228,
                        "passed_time": 7.563300083,
                        "remaining_time": 3.996328865,
                        "test": [
                          0.2599282773
                        ]
                      },
                      {
                        "learn": [
                          0.2518508839
                        ],
                        "iteration": 229,
                        "passed_time": 7.583987192,
                        "remaining_time": 3.956862883,
                        "test": [
                          0.2582809189
                        ]
                      },
                      {
                        "learn": [
                          0.2502846496
                        ],
                        "iteration": 230,
                        "passed_time": 7.6051823,
                        "remaining_time": 3.917821185,
                        "test": [
                          0.2566749027
                        ]
                      },
                      {
                        "learn": [
                          0.2487306728
                        ],
                        "iteration": 231,
                        "passed_time": 7.6282754,
                        "remaining_time": 3.879898695,
                        "test": [
                          0.2551047467
                        ]
                      },
                      {
                        "learn": [
                          0.2468981768
                        ],
                        "iteration": 232,
                        "passed_time": 7.649132378,
                        "remaining_time": 3.840980636,
                        "test": [
                          0.2531157748
                        ]
                      },
                      {
                        "learn": [
                          0.2451435839
                        ],
                        "iteration": 233,
                        "passed_time": 7.681830737,
                        "remaining_time": 3.808087032,
                        "test": [
                          0.2512365366
                        ]
                      },
                      {
                        "learn": [
                          0.243988058
                        ],
                        "iteration": 234,
                        "passed_time": 7.706743253,
                        "remaining_time": 3.771384996,
                        "test": [
                          0.2500786221
                        ]
                      },
                      {
                        "learn": [
                          0.2422514303
                        ],
                        "iteration": 235,
                        "passed_time": 7.727474238,
                        "remaining_time": 3.73276298,
                        "test": [
                          0.2482490153
                        ]
                      },
                      {
                        "learn": [
                          0.2405577507
                        ],
                        "iteration": 236,
                        "passed_time": 7.748660407,
                        "remaining_time": 3.69450897,
                        "test": [
                          0.2464573139
                        ]
                      },
                      {
                        "learn": [
                          0.2392596135
                        ],
                        "iteration": 237,
                        "passed_time": 7.770083435,
                        "remaining_time": 3.656509852,
                        "test": [
                          0.2450989365
                        ]
                      },
                      {
                        "learn": [
                          0.2375268478
                        ],
                        "iteration": 238,
                        "passed_time": 7.791238376,
                        "remaining_time": 3.618524936,
                        "test": [
                          0.2432516123
                        ]
                      },
                      {
                        "learn": [
                          0.2362657774
                        ],
                        "iteration": 239,
                        "passed_time": 7.81221464,
                        "remaining_time": 3.580598376,
                        "test": [
                          0.241921178
                        ]
                      },
                      {
                        "learn": [
                          0.2351568973
                        ],
                        "iteration": 240,
                        "passed_time": 7.833335733,
                        "remaining_time": 3.542877987,
                        "test": [
                          0.2407049737
                        ]
                      },
                      {
                        "learn": [
                          0.2338077826
                        ],
                        "iteration": 241,
                        "passed_time": 7.85428178,
                        "remaining_time": 3.505216662,
                        "test": [
                          0.2393359907
                        ]
                      },
                      {
                        "learn": [
                          0.2322396223
                        ],
                        "iteration": 242,
                        "passed_time": 7.875604838,
                        "remaining_time": 3.467858921,
                        "test": [
                          0.2376194165
                        ]
                      },
                      {
                        "learn": [
                          0.2313413511
                        ],
                        "iteration": 243,
                        "passed_time": 7.896648382,
                        "remaining_time": 3.430511182,
                        "test": [
                          0.2366828609
                        ]
                      },
                      {
                        "learn": [
                          0.2300657166
                        ],
                        "iteration": 244,
                        "passed_time": 7.917733093,
                        "remaining_time": 3.393314183,
                        "test": [
                          0.235348517
                        ]
                      },
                      {
                        "learn": [
                          0.2285353104
                        ],
                        "iteration": 245,
                        "passed_time": 7.93863439,
                        "remaining_time": 3.356170637,
                        "test": [
                          0.2337435341
                        ]
                      },
                      {
                        "learn": [
                          0.2273079228
                        ],
                        "iteration": 246,
                        "passed_time": 7.959892621,
                        "remaining_time": 3.319307449,
                        "test": [
                          0.2324127325
                        ]
                      },
                      {
                        "learn": [
                          0.2260137143
                        ],
                        "iteration": 247,
                        "passed_time": 7.980977013,
                        "remaining_time": 3.28249861,
                        "test": [
                          0.2310920368
                        ]
                      },
                      {
                        "learn": [
                          0.2245588014
                        ],
                        "iteration": 248,
                        "passed_time": 8.001768255,
                        "remaining_time": 3.245697164,
                        "test": [
                          0.22954446
                        ]
                      },
                      {
                        "learn": [
                          0.2233432369
                        ],
                        "iteration": 249,
                        "passed_time": 8.022643389,
                        "remaining_time": 3.209057356,
                        "test": [
                          0.2282706585
                        ]
                      },
                      {
                        "learn": [
                          0.2222952346
                        ],
                        "iteration": 250,
                        "passed_time": 8.04860427,
                        "remaining_time": 3.174549095,
                        "test": [
                          0.2272597737
                        ]
                      },
                      {
                        "learn": [
                          0.2209471823
                        ],
                        "iteration": 251,
                        "passed_time": 8.085835036,
                        "remaining_time": 3.144491403,
                        "test": [
                          0.2258724822
                        ]
                      },
                      {
                        "learn": [
                          0.2195922828
                        ],
                        "iteration": 252,
                        "passed_time": 8.107603586,
                        "remaining_time": 3.108448806,
                        "test": [
                          0.2245002451
                        ]
                      },
                      {
                        "learn": [
                          0.2184446553
                        ],
                        "iteration": 253,
                        "passed_time": 8.128426191,
                        "remaining_time": 3.07216108,
                        "test": [
                          0.2232311137
                        ]
                      },
                      {
                        "learn": [
                          0.2174148426
                        ],
                        "iteration": 254,
                        "passed_time": 8.152374873,
                        "remaining_time": 3.037159266,
                        "test": [
                          0.2221489155
                        ]
                      },
                      {
                        "learn": [
                          0.2159192009
                        ],
                        "iteration": 255,
                        "passed_time": 8.174565069,
                        "remaining_time": 3.001598111,
                        "test": [
                          0.2205474617
                        ]
                      },
                      {
                        "learn": [
                          0.2146032639
                        ],
                        "iteration": 256,
                        "passed_time": 8.198639704,
                        "remaining_time": 2.966822928,
                        "test": [
                          0.219172718
                        ]
                      },
                      {
                        "learn": [
                          0.2132203501
                        ],
                        "iteration": 257,
                        "passed_time": 8.219773297,
                        "remaining_time": 2.931081951,
                        "test": [
                          0.2177496384
                        ]
                      },
                      {
                        "learn": [
                          0.211759045
                        ],
                        "iteration": 258,
                        "passed_time": 8.242138073,
                        "remaining_time": 2.89588635,
                        "test": [
                          0.2162052613
                        ]
                      },
                      {
                        "learn": [
                          0.2107567855
                        ],
                        "iteration": 259,
                        "passed_time": 8.263017207,
                        "remaining_time": 2.860275187,
                        "test": [
                          0.2151813984
                        ]
                      },
                      {
                        "learn": [
                          0.209726148
                        ],
                        "iteration": 260,
                        "passed_time": 8.283987371,
                        "remaining_time": 2.824807954,
                        "test": [
                          0.2141188744
                        ]
                      },
                      {
                        "learn": [
                          0.2087800121
                        ],
                        "iteration": 261,
                        "passed_time": 8.306178135,
                        "remaining_time": 2.789861358,
                        "test": [
                          0.2131343624
                        ]
                      },
                      {
                        "learn": [
                          0.2073337387
                        ],
                        "iteration": 262,
                        "passed_time": 8.328583747,
                        "remaining_time": 2.755082837,
                        "test": [
                          0.2115583095
                        ]
                      },
                      {
                        "learn": [
                          0.2059128829
                        ],
                        "iteration": 263,
                        "passed_time": 8.353287376,
                        "remaining_time": 2.721146645,
                        "test": [
                          0.2100572386
                        ]
                      },
                      {
                        "learn": [
                          0.2048061615
                        ],
                        "iteration": 264,
                        "passed_time": 8.376040602,
                        "remaining_time": 2.686654533,
                        "test": [
                          0.2089186084
                        ]
                      },
                      {
                        "learn": [
                          0.203704899
                        ],
                        "iteration": 265,
                        "passed_time": 8.39777742,
                        "remaining_time": 2.651929711,
                        "test": [
                          0.2077054396
                        ]
                      },
                      {
                        "learn": [
                          0.2023688292
                        ],
                        "iteration": 266,
                        "passed_time": 8.420484527,
                        "remaining_time": 2.617603804,
                        "test": [
                          0.2063003388
                        ]
                      },
                      {
                        "learn": [
                          0.201347056
                        ],
                        "iteration": 267,
                        "passed_time": 8.441843351,
                        "remaining_time": 2.58295207,
                        "test": [
                          0.2052345423
                        ]
                      },
                      {
                        "learn": [
                          0.200321825
                        ],
                        "iteration": 268,
                        "passed_time": 8.462856101,
                        "remaining_time": 2.54829496,
                        "test": [
                          0.2041468088
                        ]
                      },
                      {
                        "learn": [
                          0.1990863991
                        ],
                        "iteration": 269,
                        "passed_time": 8.485793774,
                        "remaining_time": 2.514309266,
                        "test": [
                          0.2027930083
                        ]
                      },
                      {
                        "learn": [
                          0.1983304836
                        ],
                        "iteration": 270,
                        "passed_time": 8.507205193,
                        "remaining_time": 2.479960185,
                        "test": [
                          0.2019804939
                        ]
                      },
                      {
                        "learn": [
                          0.1973315074
                        ],
                        "iteration": 271,
                        "passed_time": 8.528169004,
                        "remaining_time": 2.445577876,
                        "test": [
                          0.2009574048
                        ]
                      },
                      {
                        "learn": [
                          0.1963148926
                        ],
                        "iteration": 272,
                        "passed_time": 8.549190451,
                        "remaining_time": 2.411310127,
                        "test": [
                          0.1998577882
                        ]
                      },
                      {
                        "learn": [
                          0.1951113009
                        ],
                        "iteration": 273,
                        "passed_time": 8.56997456,
                        "remaining_time": 2.377073235,
                        "test": [
                          0.1985676543
                        ]
                      },
                      {
                        "learn": [
                          0.1941527462
                        ],
                        "iteration": 274,
                        "passed_time": 8.590983525,
                        "remaining_time": 2.342995507,
                        "test": [
                          0.1975434162
                        ]
                      },
                      {
                        "learn": [
                          0.1931402122
                        ],
                        "iteration": 275,
                        "passed_time": 8.611933709,
                        "remaining_time": 2.308996719,
                        "test": [
                          0.1964660325
                        ]
                      },
                      {
                        "learn": [
                          0.1922262073
                        ],
                        "iteration": 276,
                        "passed_time": 8.635180894,
                        "remaining_time": 2.275697492,
                        "test": [
                          0.1954988229
                        ]
                      },
                      {
                        "learn": [
                          0.1912497826
                        ],
                        "iteration": 277,
                        "passed_time": 8.657170823,
                        "remaining_time": 2.242144961,
                        "test": [
                          0.1944432384
                        ]
                      },
                      {
                        "learn": [
                          0.1900202199
                        ],
                        "iteration": 278,
                        "passed_time": 8.681673584,
                        "remaining_time": 2.209314783,
                        "test": [
                          0.1931419599
                        ]
                      },
                      {
                        "learn": [
                          0.1888564042
                        ],
                        "iteration": 279,
                        "passed_time": 8.719823685,
                        "remaining_time": 2.179955921,
                        "test": [
                          0.1919007471
                        ]
                      },
                      {
                        "learn": [
                          0.187959282
                        ],
                        "iteration": 280,
                        "passed_time": 8.741226063,
                        "remaining_time": 2.146422058,
                        "test": [
                          0.1909785226
                        ]
                      },
                      {
                        "learn": [
                          0.1868187134
                        ],
                        "iteration": 281,
                        "passed_time": 8.764258883,
                        "remaining_time": 2.11336739,
                        "test": [
                          0.1897814471
                        ]
                      },
                      {
                        "learn": [
                          0.1857241393
                        ],
                        "iteration": 282,
                        "passed_time": 8.785681939,
                        "remaining_time": 2.080002438,
                        "test": [
                          0.1886492575
                        ]
                      },
                      {
                        "learn": [
                          0.1848118737
                        ],
                        "iteration": 283,
                        "passed_time": 8.807341636,
                        "remaining_time": 2.046776577,
                        "test": [
                          0.1876837718
                        ]
                      },
                      {
                        "learn": [
                          0.1836841676
                        ],
                        "iteration": 284,
                        "passed_time": 8.82934707,
                        "remaining_time": 2.013710735,
                        "test": [
                          0.1864589452
                        ]
                      },
                      {
                        "learn": [
                          0.1830463427
                        ],
                        "iteration": 285,
                        "passed_time": 8.850412897,
                        "remaining_time": 1.980511977,
                        "test": [
                          0.1857985356
                        ]
                      },
                      {
                        "learn": [
                          0.1821679883
                        ],
                        "iteration": 286,
                        "passed_time": 8.872387553,
                        "remaining_time": 1.947597268,
                        "test": [
                          0.1848547054
                        ]
                      },
                      {
                        "learn": [
                          0.18108128
                        ],
                        "iteration": 287,
                        "passed_time": 8.893558265,
                        "remaining_time": 1.91458546,
                        "test": [
                          0.1837105939
                        ]
                      },
                      {
                        "learn": [
                          0.1799536176
                        ],
                        "iteration": 288,
                        "passed_time": 8.91494704,
                        "remaining_time": 1.881701624,
                        "test": [
                          0.1825239343
                        ]
                      },
                      {
                        "learn": [
                          0.1788593828
                        ],
                        "iteration": 289,
                        "passed_time": 8.93669678,
                        "remaining_time": 1.848971748,
                        "test": [
                          0.1813554266
                        ]
                      },
                      {
                        "learn": [
                          0.1779906591
                        ],
                        "iteration": 290,
                        "passed_time": 8.983915456,
                        "remaining_time": 1.82148114,
                        "test": [
                          0.180407093
                        ]
                      },
                      {
                        "learn": [
                          0.1773595162
                        ],
                        "iteration": 291,
                        "passed_time": 9.153178704,
                        "remaining_time": 1.81809714,
                        "test": [
                          0.1797432341
                        ]
                      },
                      {
                        "learn": [
                          0.1764683088
                        ],
                        "iteration": 292,
                        "passed_time": 9.174532499,
                        "remaining_time": 1.784806664,
                        "test": [
                          0.1787846178
                        ]
                      },
                      {
                        "learn": [
                          0.1756628993
                        ],
                        "iteration": 293,
                        "passed_time": 9.196559567,
                        "remaining_time": 1.751725632,
                        "test": [
                          0.1779321618
                        ]
                      },
                      {
                        "learn": [
                          0.1747103433
                        ],
                        "iteration": 294,
                        "passed_time": 9.21723918,
                        "remaining_time": 1.718468322,
                        "test": [
                          0.1769078681
                        ]
                      },
                      {
                        "learn": [
                          0.1738426437
                        ],
                        "iteration": 295,
                        "passed_time": 9.238807491,
                        "remaining_time": 1.685458123,
                        "test": [
                          0.175988642
                        ]
                      },
                      {
                        "learn": [
                          0.1727785125
                        ],
                        "iteration": 296,
                        "passed_time": 9.259225958,
                        "remaining_time": 1.652319784,
                        "test": [
                          0.1748605
                        ]
                      },
                      {
                        "learn": [
                          0.1719743629
                        ],
                        "iteration": 297,
                        "passed_time": 9.279589394,
                        "remaining_time": 1.61925721,
                        "test": [
                          0.17403868
                        ]
                      },
                      {
                        "learn": [
                          0.1711287671
                        ],
                        "iteration": 298,
                        "passed_time": 9.300305741,
                        "remaining_time": 1.586339775,
                        "test": [
                          0.1731526656
                        ]
                      },
                      {
                        "learn": [
                          0.170269506
                        ],
                        "iteration": 299,
                        "passed_time": 9.320883266,
                        "remaining_time": 1.553480544,
                        "test": [
                          0.172226198
                        ]
                      },
                      {
                        "learn": [
                          0.1693868219
                        ],
                        "iteration": 300,
                        "passed_time": 9.342946943,
                        "remaining_time": 1.520944851,
                        "test": [
                          0.1713074599
                        ]
                      },
                      {
                        "learn": [
                          0.1686763935
                        ],
                        "iteration": 301,
                        "passed_time": 9.367438831,
                        "remaining_time": 1.48886445,
                        "test": [
                          0.170569251
                        ]
                      },
                      {
                        "learn": [
                          0.1678399376
                        ],
                        "iteration": 302,
                        "passed_time": 9.39498948,
                        "remaining_time": 1.457308599,
                        "test": [
                          0.1696701427
                        ]
                      },
                      {
                        "learn": [
                          0.1668602253
                        ],
                        "iteration": 303,
                        "passed_time": 9.43259074,
                        "remaining_time": 1.427299915,
                        "test": [
                          0.168624605
                        ]
                      },
                      {
                        "learn": [
                          0.1660234702
                        ],
                        "iteration": 304,
                        "passed_time": 9.476780074,
                        "remaining_time": 1.398213453,
                        "test": [
                          0.1677334623
                        ]
                      },
                      {
                        "learn": [
                          0.165332486
                        ],
                        "iteration": 305,
                        "passed_time": 9.49832407,
                        "remaining_time": 1.365772088,
                        "test": [
                          0.16702506
                        ]
                      },
                      {
                        "learn": [
                          0.1647948046
                        ],
                        "iteration": 306,
                        "passed_time": 9.518825514,
                        "remaining_time": 1.333255691,
                        "test": [
                          0.1664897956
                        ]
                      },
                      {
                        "learn": [
                          0.1639573383
                        ],
                        "iteration": 307,
                        "passed_time": 9.539679307,
                        "remaining_time": 1.30086536,
                        "test": [
                          0.1656466147
                        ]
                      },
                      {
                        "learn": [
                          0.1634322528
                        ],
                        "iteration": 308,
                        "passed_time": 9.560047149,
                        "remaining_time": 1.26848522,
                        "test": [
                          0.1651374827
                        ]
                      },
                      {
                        "learn": [
                          0.1624503836
                        ],
                        "iteration": 309,
                        "passed_time": 9.580241867,
                        "remaining_time": 1.236160241,
                        "test": [
                          0.164063776
                        ]
                      },
                      {
                        "learn": [
                          0.1615136698
                        ],
                        "iteration": 310,
                        "passed_time": 9.600850904,
                        "remaining_time": 1.203965226,
                        "test": [
                          0.1630790237
                        ]
                      },
                      {
                        "learn": [
                          0.1606333913
                        ],
                        "iteration": 311,
                        "passed_time": 9.623370908,
                        "remaining_time": 1.172077226,
                        "test": [
                          0.1621181115
                        ]
                      },
                      {
                        "learn": [
                          0.1598639476
                        ],
                        "iteration": 312,
                        "passed_time": 9.6438725,
                        "remaining_time": 1.140010487,
                        "test": [
                          0.1612968582
                        ]
                      },
                      {
                        "learn": [
                          0.1592593233
                        ],
                        "iteration": 313,
                        "passed_time": 9.664585356,
                        "remaining_time": 1.108041633,
                        "test": [
                          0.160649946
                        ]
                      },
                      {
                        "learn": [
                          0.1587407502
                        ],
                        "iteration": 314,
                        "passed_time": 9.685897071,
                        "remaining_time": 1.076210786,
                        "test": [
                          0.1601209215
                        ]
                      },
                      {
                        "learn": [
                          0.1579719888
                        ],
                        "iteration": 315,
                        "passed_time": 9.707406869,
                        "remaining_time": 1.044467828,
                        "test": [
                          0.1593338187
                        ]
                      },
                      {
                        "learn": [
                          0.1572001912
                        ],
                        "iteration": 316,
                        "passed_time": 9.743353754,
                        "remaining_time": 1.014292347,
                        "test": [
                          0.1584847973
                        ]
                      },
                      {
                        "learn": [
                          0.1562991746
                        ],
                        "iteration": 317,
                        "passed_time": 9.764460236,
                        "remaining_time": 0.9825871936,
                        "test": [
                          0.1575202061
                        ]
                      },
                      {
                        "learn": [
                          0.1555446025
                        ],
                        "iteration": 318,
                        "passed_time": 9.785027538,
                        "remaining_time": 0.9508960931,
                        "test": [
                          0.1566953599
                        ]
                      },
                      {
                        "learn": [
                          0.154787874
                        ],
                        "iteration": 319,
                        "passed_time": 9.805737344,
                        "remaining_time": 0.919287876,
                        "test": [
                          0.1558790643
                        ]
                      },
                      {
                        "learn": [
                          0.1538922869
                        ],
                        "iteration": 320,
                        "passed_time": 9.826200618,
                        "remaining_time": 0.8877252894,
                        "test": [
                          0.1549261465
                        ]
                      },
                      {
                        "learn": [
                          0.1530981761
                        ],
                        "iteration": 321,
                        "passed_time": 9.846824058,
                        "remaining_time": 0.8562455703,
                        "test": [
                          0.1540985322
                        ]
                      },
                      {
                        "learn": [
                          0.1524025405
                        ],
                        "iteration": 322,
                        "passed_time": 9.867324789,
                        "remaining_time": 0.8248228152,
                        "test": [
                          0.1533320978
                        ]
                      },
                      {
                        "learn": [
                          0.151865776
                        ],
                        "iteration": 323,
                        "passed_time": 9.887569173,
                        "remaining_time": 0.7934469089,
                        "test": [
                          0.1528084304
                        ]
                      },
                      {
                        "learn": [
                          0.1512193311
                        ],
                        "iteration": 324,
                        "passed_time": 9.909921862,
                        "remaining_time": 0.7623016817,
                        "test": [
                          0.1521365804
                        ]
                      },
                      {
                        "learn": [
                          0.1503789541
                        ],
                        "iteration": 325,
                        "passed_time": 9.930538877,
                        "remaining_time": 0.7310826167,
                        "test": [
                          0.1512312192
                        ]
                      },
                      {
                        "learn": [
                          0.1496992314
                        ],
                        "iteration": 326,
                        "passed_time": 9.950820657,
                        "remaining_time": 0.6999048168,
                        "test": [
                          0.1505103565
                        ]
                      },
                      {
                        "learn": [
                          0.1490625661
                        ],
                        "iteration": 327,
                        "passed_time": 9.971602158,
                        "remaining_time": 0.668826974,
                        "test": [
                          0.1498403656
                        ]
                      },
                      {
                        "learn": [
                          0.1482382507
                        ],
                        "iteration": 328,
                        "passed_time": 9.992351504,
                        "remaining_time": 0.6378096705,
                        "test": [
                          0.1489683002
                        ]
                      },
                      {
                        "learn": [
                          0.1478386674
                        ],
                        "iteration": 329,
                        "passed_time": 10.01343732,
                        "remaining_time": 0.6068749888,
                        "test": [
                          0.1485575188
                        ]
                      },
                      {
                        "learn": [
                          0.1472289626
                        ],
                        "iteration": 330,
                        "passed_time": 10.03477997,
                        "remaining_time": 0.5760145604,
                        "test": [
                          0.1479212212
                        ]
                      },
                      {
                        "learn": [
                          0.1465657238
                        ],
                        "iteration": 331,
                        "passed_time": 10.05567811,
                        "remaining_time": 0.5451873672,
                        "test": [
                          0.1471785488
                        ]
                      },
                      {
                        "learn": [
                          0.1459399723
                        ],
                        "iteration": 332,
                        "passed_time": 10.07735432,
                        "remaining_time": 0.5144595301,
                        "test": [
                          0.146494133
                        ]
                      },
                      {
                        "learn": [
                          0.1451961578
                        ],
                        "iteration": 333,
                        "passed_time": 10.09788772,
                        "remaining_time": 0.4837311481,
                        "test": [
                          0.1457029601
                        ]
                      },
                      {
                        "learn": [
                          0.1444772301
                        ],
                        "iteration": 334,
                        "passed_time": 10.12701323,
                        "remaining_time": 0.4534483538,
                        "test": [
                          0.1449456357
                        ]
                      },
                      {
                        "learn": [
                          0.1437047363
                        ],
                        "iteration": 335,
                        "passed_time": 10.15601378,
                        "remaining_time": 0.4231672409,
                        "test": [
                          0.1440818204
                        ]
                      },
                      {
                        "learn": [
                          0.143151685
                        ],
                        "iteration": 336,
                        "passed_time": 10.17700175,
                        "remaining_time": 0.3925846374,
                        "test": [
                          0.1434848678
                        ]
                      },
                      {
                        "learn": [
                          0.1424282971
                        ],
                        "iteration": 337,
                        "passed_time": 10.20042419,
                        "remaining_time": 0.3621452377,
                        "test": [
                          0.1427051064
                        ]
                      },
                      {
                        "learn": [
                          0.1419400144
                        ],
                        "iteration": 338,
                        "passed_time": 10.22182838,
                        "remaining_time": 0.3316817467,
                        "test": [
                          0.1421958255
                        ]
                      },
                      {
                        "learn": [
                          0.1411830842
                        ],
                        "iteration": 339,
                        "passed_time": 10.24324188,
                        "remaining_time": 0.3012718201,
                        "test": [
                          0.1414172441
                        ]
                      },
                      {
                        "learn": [
                          0.1406234157
                        ],
                        "iteration": 340,
                        "passed_time": 10.26383578,
                        "remaining_time": 0.2708930265,
                        "test": [
                          0.1408291759
                        ]
                      },
                      {
                        "learn": [
                          0.1399981055
                        ],
                        "iteration": 341,
                        "passed_time": 10.28445815,
                        "remaining_time": 0.2405721205,
                        "test": [
                          0.1401347636
                        ]
                      },
                      {
                        "learn": [
                          0.1394475578
                        ],
                        "iteration": 342,
                        "passed_time": 10.30561845,
                        "remaining_time": 0.2103187439,
                        "test": [
                          0.139565146
                        ]
                      },
                      {
                        "learn": [
                          0.1387075178
                        ],
                        "iteration": 343,
                        "passed_time": 10.32620517,
                        "remaining_time": 0.1801082297,
                        "test": [
                          0.1387480249
                        ]
                      },
                      {
                        "learn": [
                          0.1381125189
                        ],
                        "iteration": 344,
                        "passed_time": 10.35139399,
                        "remaining_time": 0.1500202027,
                        "test": [
                          0.1381053943
                        ]
                      },
                      {
                        "learn": [
                          0.1377623392
                        ],
                        "iteration": 345,
                        "passed_time": 10.37254251,
                        "remaining_time": 0.1199137862,
                        "test": [
                          0.1377390771
                        ]
                      },
                      {
                        "learn": [
                          0.1371955193
                        ],
                        "iteration": 346,
                        "passed_time": 10.39382208,
                        "remaining_time": 0.08986013323,
                        "test": [
                          0.1371280752
                        ]
                      },
                      {
                        "learn": [
                          0.1365712057
                        ],
                        "iteration": 347,
                        "passed_time": 10.41487743,
                        "remaining_time": 0.05985561743,
                        "test": [
                          0.1364656143
                        ]
                      },
                      {
                        "learn": [
                          0.1361561297
                        ],
                        "iteration": 348,
                        "passed_time": 10.43634488,
                        "remaining_time": 0.02990356699,
                        "test": [
                          0.1360435419
                        ]
                      },
                      {
                        "learn": [
                          0.1355493811
                        ],
                        "iteration": 349,
                        "passed_time": 10.45739052,
                        "remaining_time": 0,
                        "test": [
                          0.1354031803
                        ]
                      }
                    ],
                    "meta": {
                      "test_sets": [
                        "test"
                      ],
                      "test_metrics": [
                        {
                          "best_value": "Min",
                          "name": "MultiClass"
                        }
                      ],
                      "learn_metrics": [
                        {
                          "best_value": "Min",
                          "name": "MultiClass"
                        }
                      ],
                      "launch_mode": "Train",
                      "parameters": "",
                      "iteration_count": 350,
                      "learn_sets": [
                        "learn"
                      ],
                      "name": "experiment"
                    }
                  }
                }
              }
            },
            "layout": "IPY_MODEL_a47d6bcdd8cb4b209a23ad3efee23483"
          }
        }
      }
    }
  },
  "nbformat": 4,
  "nbformat_minor": 5
}