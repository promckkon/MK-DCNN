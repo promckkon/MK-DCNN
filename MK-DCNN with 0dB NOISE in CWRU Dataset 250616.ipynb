{
  "cells": [
    {
      "cell_type": "markdown",
      "metadata": {
        "id": "view-in-github",
        "colab_type": "text"
      },
      "source": [
        "<a href=\"https://colab.research.google.com/github/promckkon/MK-DCNN/blob/main/MK-DCNN%20with%200dB%20NOISE%20in%20CWRU%20Dataset%20250616.ipynb\" target=\"_parent\"><img src=\"https://colab.research.google.com/assets/colab-badge.svg\" alt=\"Open In Colab\"/></a>"
      ]
    },
    {
      "cell_type": "code",
      "source": [
        "from google.colab import drive\n",
        "drive.mount('/content/drive')"
      ],
      "metadata": {
        "colab": {
          "base_uri": "https://localhost:8080/"
        },
        "id": "_JTcgOD9s-GR",
        "outputId": "fc42f809-5eaf-45ab-ad64-090267d4c859"
      },
      "id": "_JTcgOD9s-GR",
      "execution_count": null,
      "outputs": [
        {
          "output_type": "stream",
          "name": "stdout",
          "text": [
            "Drive already mounted at /content/drive; to attempt to forcibly remount, call drive.mount(\"/content/drive\", force_remount=True).\n"
          ]
        }
      ]
    },
    {
      "cell_type": "code",
      "execution_count": null,
      "id": "1132b641",
      "metadata": {
        "id": "1132b641"
      },
      "outputs": [],
      "source": [
        "import scipy.io\n",
        "import seaborn as sns\n",
        "import numpy as np\n",
        "import pandas as pd\n",
        "import os\n",
        "import matplotlib.pyplot as plt"
      ]
    },
    {
      "cell_type": "markdown",
      "source": [
        "Dataset Input"
      ],
      "metadata": {
        "id": "2haV_hKQQOg-"
      },
      "id": "2haV_hKQQOg-"
    },
    {
      "cell_type": "code",
      "source": [
        "df=pd.DataFrame(columns=['DE_data','fault']) # upload the dataset on googledrive\n",
        "\n",
        "for root, dirs, files in os.walk(\"/content/drive/MyDrive/CWRU_with_NOISE/CWRU_2\", topdown=False):\n",
        "    for file_name in files:\n",
        "        path = os.path.join(root, file_name)\n",
        "        print(path)\n",
        "\n",
        "        mat = scipy.io.loadmat(path)\n",
        "\n",
        "        key_name = list(mat.keys())[3]\n",
        "        DE_data = mat.get(key_name)\n",
        "        fault = np.full((len(DE_data), 1), file_name[:-4])\n",
        "\n",
        "        df_temp = pd.DataFrame({'DE_data':np.ravel(DE_data) , 'fault':np.ravel(fault)})\n",
        "\n",
        "        df = pd.concat([df,df_temp],axis=0)\n",
        "        print(df['fault'].unique())\n",
        "\n",
        "df.to_csv('/content/drive/MyDrive/MK-DCNN CWRU/NOISE_0_faults.csv',index=False)"
      ],
      "metadata": {
        "colab": {
          "base_uri": "https://localhost:8080/"
        },
        "id": "sXzSVyy_ylsF",
        "outputId": "d0f7e354-4a21-41b2-f485-3043b7dd801b"
      },
      "id": "sXzSVyy_ylsF",
      "execution_count": null,
      "outputs": [
        {
          "output_type": "stream",
          "name": "stdout",
          "text": [
            "/content/drive/MyDrive/CWRU_with_NOISE/CWRU_2/240.mat\n"
          ]
        },
        {
          "output_type": "stream",
          "name": "stderr",
          "text": [
            "<ipython-input-5-4247073321>:16: FutureWarning: The behavior of DataFrame concatenation with empty or all-NA entries is deprecated. In a future version, this will no longer exclude empty or all-NA columns when determining the result dtypes. To retain the old behavior, exclude the relevant entries before the concat operation.\n",
            "  df = pd.concat([df,df_temp],axis=0)\n"
          ]
        },
        {
          "output_type": "stream",
          "name": "stdout",
          "text": [
            "['240']\n",
            "/content/drive/MyDrive/CWRU_with_NOISE/CWRU_2/99.mat\n",
            "['240' '99']\n",
            "/content/drive/MyDrive/CWRU_with_NOISE/CWRU_2/215.mat\n",
            "['240' '99' '215']\n",
            "/content/drive/MyDrive/CWRU_with_NOISE/CWRU_2/191.mat\n",
            "['240' '99' '215' '191']\n",
            "/content/drive/MyDrive/CWRU_with_NOISE/CWRU_2/111.mat\n",
            "['240' '99' '215' '191' '111']\n",
            "/content/drive/MyDrive/CWRU_with_NOISE/CWRU_2/203.mat\n",
            "['240' '99' '215' '191' '111' '203']\n",
            "/content/drive/MyDrive/CWRU_with_NOISE/CWRU_2/137.mat\n",
            "['240' '99' '215' '191' '111' '203' '137']\n",
            "/content/drive/MyDrive/CWRU_with_NOISE/CWRU_2/124.mat\n",
            "['240' '99' '215' '191' '111' '203' '137' '124']\n",
            "/content/drive/MyDrive/CWRU_with_NOISE/CWRU_2/228.mat\n",
            "['240' '99' '215' '191' '111' '203' '137' '124' '228']\n",
            "/content/drive/MyDrive/CWRU_with_NOISE/CWRU_2/176.mat\n",
            "['240' '99' '215' '191' '111' '203' '137' '124' '228' '176']\n"
          ]
        }
      ]
    },
    {
      "cell_type": "markdown",
      "source": [
        "# Multi-Kernel Deep 1D-CNN"
      ],
      "metadata": {
        "id": "2d0arbB2knS8"
      },
      "id": "2d0arbB2knS8"
    },
    {
      "cell_type": "code",
      "source": [
        "pip install tensorflow"
      ],
      "metadata": {
        "colab": {
          "base_uri": "https://localhost:8080/"
        },
        "id": "-dsJA9B5YVAW",
        "outputId": "5ccf00c9-8d1a-4ab1-9270-7be042a44db1"
      },
      "id": "-dsJA9B5YVAW",
      "execution_count": null,
      "outputs": [
        {
          "output_type": "stream",
          "name": "stdout",
          "text": [
            "Requirement already satisfied: tensorflow in /usr/local/lib/python3.11/dist-packages (2.18.0)\n",
            "Requirement already satisfied: absl-py>=1.0.0 in /usr/local/lib/python3.11/dist-packages (from tensorflow) (1.4.0)\n",
            "Requirement already satisfied: astunparse>=1.6.0 in /usr/local/lib/python3.11/dist-packages (from tensorflow) (1.6.3)\n",
            "Requirement already satisfied: flatbuffers>=24.3.25 in /usr/local/lib/python3.11/dist-packages (from tensorflow) (25.2.10)\n",
            "Requirement already satisfied: gast!=0.5.0,!=0.5.1,!=0.5.2,>=0.2.1 in /usr/local/lib/python3.11/dist-packages (from tensorflow) (0.6.0)\n",
            "Requirement already satisfied: google-pasta>=0.1.1 in /usr/local/lib/python3.11/dist-packages (from tensorflow) (0.2.0)\n",
            "Requirement already satisfied: libclang>=13.0.0 in /usr/local/lib/python3.11/dist-packages (from tensorflow) (18.1.1)\n",
            "Requirement already satisfied: opt-einsum>=2.3.2 in /usr/local/lib/python3.11/dist-packages (from tensorflow) (3.4.0)\n",
            "Requirement already satisfied: packaging in /usr/local/lib/python3.11/dist-packages (from tensorflow) (24.2)\n",
            "Requirement already satisfied: protobuf!=4.21.0,!=4.21.1,!=4.21.2,!=4.21.3,!=4.21.4,!=4.21.5,<6.0.0dev,>=3.20.3 in /usr/local/lib/python3.11/dist-packages (from tensorflow) (5.29.5)\n",
            "Requirement already satisfied: requests<3,>=2.21.0 in /usr/local/lib/python3.11/dist-packages (from tensorflow) (2.32.3)\n",
            "Requirement already satisfied: setuptools in /usr/local/lib/python3.11/dist-packages (from tensorflow) (75.2.0)\n",
            "Requirement already satisfied: six>=1.12.0 in /usr/local/lib/python3.11/dist-packages (from tensorflow) (1.17.0)\n",
            "Requirement already satisfied: termcolor>=1.1.0 in /usr/local/lib/python3.11/dist-packages (from tensorflow) (3.1.0)\n",
            "Requirement already satisfied: typing-extensions>=3.6.6 in /usr/local/lib/python3.11/dist-packages (from tensorflow) (4.14.0)\n",
            "Requirement already satisfied: wrapt>=1.11.0 in /usr/local/lib/python3.11/dist-packages (from tensorflow) (1.17.2)\n",
            "Requirement already satisfied: grpcio<2.0,>=1.24.3 in /usr/local/lib/python3.11/dist-packages (from tensorflow) (1.72.1)\n",
            "Requirement already satisfied: tensorboard<2.19,>=2.18 in /usr/local/lib/python3.11/dist-packages (from tensorflow) (2.18.0)\n",
            "Requirement already satisfied: keras>=3.5.0 in /usr/local/lib/python3.11/dist-packages (from tensorflow) (3.8.0)\n",
            "Requirement already satisfied: numpy<2.1.0,>=1.26.0 in /usr/local/lib/python3.11/dist-packages (from tensorflow) (2.0.2)\n",
            "Requirement already satisfied: h5py>=3.11.0 in /usr/local/lib/python3.11/dist-packages (from tensorflow) (3.13.0)\n",
            "Requirement already satisfied: ml-dtypes<0.5.0,>=0.4.0 in /usr/local/lib/python3.11/dist-packages (from tensorflow) (0.4.1)\n",
            "Requirement already satisfied: tensorflow-io-gcs-filesystem>=0.23.1 in /usr/local/lib/python3.11/dist-packages (from tensorflow) (0.37.1)\n",
            "Requirement already satisfied: wheel<1.0,>=0.23.0 in /usr/local/lib/python3.11/dist-packages (from astunparse>=1.6.0->tensorflow) (0.45.1)\n",
            "Requirement already satisfied: rich in /usr/local/lib/python3.11/dist-packages (from keras>=3.5.0->tensorflow) (13.9.4)\n",
            "Requirement already satisfied: namex in /usr/local/lib/python3.11/dist-packages (from keras>=3.5.0->tensorflow) (0.1.0)\n",
            "Requirement already satisfied: optree in /usr/local/lib/python3.11/dist-packages (from keras>=3.5.0->tensorflow) (0.16.0)\n",
            "Requirement already satisfied: charset-normalizer<4,>=2 in /usr/local/lib/python3.11/dist-packages (from requests<3,>=2.21.0->tensorflow) (3.4.2)\n",
            "Requirement already satisfied: idna<4,>=2.5 in /usr/local/lib/python3.11/dist-packages (from requests<3,>=2.21.0->tensorflow) (3.10)\n",
            "Requirement already satisfied: urllib3<3,>=1.21.1 in /usr/local/lib/python3.11/dist-packages (from requests<3,>=2.21.0->tensorflow) (2.4.0)\n",
            "Requirement already satisfied: certifi>=2017.4.17 in /usr/local/lib/python3.11/dist-packages (from requests<3,>=2.21.0->tensorflow) (2025.4.26)\n",
            "Requirement already satisfied: markdown>=2.6.8 in /usr/local/lib/python3.11/dist-packages (from tensorboard<2.19,>=2.18->tensorflow) (3.8)\n",
            "Requirement already satisfied: tensorboard-data-server<0.8.0,>=0.7.0 in /usr/local/lib/python3.11/dist-packages (from tensorboard<2.19,>=2.18->tensorflow) (0.7.2)\n",
            "Requirement already satisfied: werkzeug>=1.0.1 in /usr/local/lib/python3.11/dist-packages (from tensorboard<2.19,>=2.18->tensorflow) (3.1.3)\n",
            "Requirement already satisfied: MarkupSafe>=2.1.1 in /usr/local/lib/python3.11/dist-packages (from werkzeug>=1.0.1->tensorboard<2.19,>=2.18->tensorflow) (3.0.2)\n",
            "Requirement already satisfied: markdown-it-py>=2.2.0 in /usr/local/lib/python3.11/dist-packages (from rich->keras>=3.5.0->tensorflow) (3.0.0)\n",
            "Requirement already satisfied: pygments<3.0.0,>=2.13.0 in /usr/local/lib/python3.11/dist-packages (from rich->keras>=3.5.0->tensorflow) (2.19.1)\n",
            "Requirement already satisfied: mdurl~=0.1 in /usr/local/lib/python3.11/dist-packages (from markdown-it-py>=2.2.0->rich->keras>=3.5.0->tensorflow) (0.1.2)\n"
          ]
        }
      ]
    },
    {
      "cell_type": "code",
      "source": [
        "from sklearn.preprocessing import LabelEncoder\n",
        "from tensorflow.keras.utils import to_categorical\n",
        "\n",
        "\n",
        "# Total target rows\n",
        "TARGET_ROWS = 1800\n",
        "\n",
        "# Estimate the total number of samples across all fault types\n",
        "total_samples = sum(len(df[df['fault'] == f]) for f in df['fault'].unique())\n",
        "\n",
        "# Calculate suitable window size and stride\n",
        "num_faults = 9\n",
        "average_samples_per_fault = total_samples / num_faults\n",
        "approx_windows_per_fault = TARGET_ROWS / num_faults\n",
        "stride_ratio = 0.8  # Initial stride/window ratio\n",
        "\n",
        "win_len = int(average_samples_per_fault / approx_windows_per_fault)\n",
        "stride = int(win_len * stride_ratio)\n",
        "\n",
        "X=[]\n",
        "Y=[]\n",
        "\n",
        "\n",
        "for k in df['fault'].unique():\n",
        "\n",
        "    df_temp_2 = df[df['fault']==k]\n",
        "\n",
        "    for i in np.arange(0,len(df_temp_2)-(win_len),stride):\n",
        "        temp = df_temp_2.iloc[i:i+win_len,:-1].values\n",
        "        temp = temp.reshape((1,-1))\n",
        "        X.append(temp)\n",
        "        Y.append(df_temp_2.iloc[i+win_len,-1])\n",
        "\n",
        "X=np.array(X)\n",
        "X=X.reshape((X.shape[0],-1,1))\n",
        "#X = np.repeat(X, 3, axis=3) # To repeat into 3 chanel format\n",
        "\n",
        "\n",
        "Y=np.array(Y)\n",
        "encoder= LabelEncoder()\n",
        "encoder.fit(Y)\n",
        "encoded_Y = encoder.transform(Y)\n",
        "OHE_Y = to_categorical(encoded_Y)"
      ],
      "metadata": {
        "id": "5s5vUXrUM2BH"
      },
      "id": "5s5vUXrUM2BH",
      "execution_count": null,
      "outputs": []
    },
    {
      "cell_type": "code",
      "source": [
        "from sklearn.model_selection import train_test_split\n",
        "X_train,X_test,y_train,y_test = train_test_split(X,OHE_Y,test_size=0.3,shuffle=True)"
      ],
      "metadata": {
        "id": "PreHyG2yMkTA"
      },
      "id": "PreHyG2yMkTA",
      "execution_count": null,
      "outputs": []
    },
    {
      "cell_type": "code",
      "source": [
        "import tensorflow as tf\n",
        "from tensorflow.keras.models import Model\n",
        "from tensorflow.keras.layers import Input, Dense, Dropout, Flatten, Conv1D, MaxPooling1D, concatenate\n",
        "from tensorflow.keras import backend as K\n",
        "\n",
        "# --- Custom Physics-Informed Loss Function ---\n",
        "def custom_loss(y_true, y_pred):\n",
        "    # Standard categorical crossentropy\n",
        "    loss = K.categorical_crossentropy(y_true, y_pred)\n",
        "\n",
        "    # Physics-Informed Term: penalize rapid class probability changes\n",
        "    # Ensure y_pred is at least 2D for slicing\n",
        "    if K.ndim(y_pred) < 2:\n",
        "        y_pred = K.expand_dims(y_pred, axis=-1)\n",
        "\n",
        "    # Ensure y_pred has more than one class dimension to compute diff\n",
        "    if K.int_shape(y_pred)[-1] > 1:\n",
        "        diff = y_pred[:, 1:] - y_pred[:, :-1]\n",
        "        squared_diff = tf.square(diff)\n",
        "        physics_term = tf.reduce_mean(squared_diff)\n",
        "    else:\n",
        "        physics_term = 0.0 # No physics term if only one class\n",
        "\n",
        "\n",
        "    # Total loss = classification loss + regularization term\n",
        "    total_loss = loss + 0.01 * physics_term  # 0.01 is tunable\n",
        "\n",
        "    return total_loss\n",
        "\n",
        "# --- Model Definition ---\n",
        "# no_classes = len(df['fault'].unique()) # Original line that caused 10 classes\n",
        "no_classes = len(encoder.classes_) # Use the encoder to get the correct number of classes\n",
        "print(f\"Number of output classes (no_classes): {no_classes}\") # Add print statement to verify\n",
        "\n",
        "input_shape = (X.shape[1], X.shape[2])  # Example: (784, 1)\n",
        "\n",
        "# Head 1\n",
        "inputs1 = Input(shape=input_shape)\n",
        "conv1 = Conv1D(filters=64, kernel_size=200, activation='relu')(inputs1)\n",
        "drop1 = Dropout(0.5)(conv1)\n",
        "pool1 = MaxPooling1D(pool_size=20)(drop1)\n",
        "flat1 = Flatten()(pool1)\n",
        "\n",
        "# Head 2\n",
        "inputs2 = Input(shape=input_shape)\n",
        "conv2 = Conv1D(filters=64, kernel_size=100, activation='relu')(inputs2)\n",
        "drop2 = Dropout(0.5)(conv2)\n",
        "pool2 = MaxPooling1D(pool_size=10)(drop2)\n",
        "flat2 = Flatten()(pool2)\n",
        "\n",
        "# Head 3\n",
        "inputs3 = Input(shape=input_shape)\n",
        "conv3 = Conv1D(filters=64, kernel_size=50, activation='relu')(inputs3)\n",
        "drop3 = Dropout(0.5)(conv3)\n",
        "pool3 = MaxPooling1D(pool_size=5)(drop3)\n",
        "flat3 = Flatten()(pool3)\n",
        "\n",
        "# Merge all feature paths\n",
        "merged = concatenate([flat1, flat2, flat3])\n",
        "\n",
        "# Fully connected interpretation\n",
        "dense1 = Dense(100, activation='relu')(merged)\n",
        "outputs = Dense(no_classes, activation='softmax')(dense1)\n",
        "\n",
        "# Build and compile model with custom loss\n",
        "cnn_model = Model(inputs=[inputs1, inputs2, inputs3], outputs=outputs)\n",
        "cnn_model.compile(optimizer='adam', loss=custom_loss, metrics=['accuracy'])\n",
        "\n",
        "# Model summary\n",
        "cnn_model.summary()"
      ],
      "metadata": {
        "colab": {
          "base_uri": "https://localhost:8080/",
          "height": 870
        },
        "id": "kB3uGh-8J7no",
        "outputId": "95d70d77-2d31-4e56-81ad-7304a33f6dac"
      },
      "id": "kB3uGh-8J7no",
      "execution_count": null,
      "outputs": [
        {
          "output_type": "stream",
          "name": "stdout",
          "text": [
            "Number of output classes (no_classes): 9\n"
          ]
        },
        {
          "output_type": "display_data",
          "data": {
            "text/plain": [
              "\u001b[1mModel: \"functional\"\u001b[0m\n"
            ],
            "text/html": [
              "<pre style=\"white-space:pre;overflow-x:auto;line-height:normal;font-family:Menlo,'DejaVu Sans Mono',consolas,'Courier New',monospace\"><span style=\"font-weight: bold\">Model: \"functional\"</span>\n",
              "</pre>\n"
            ]
          },
          "metadata": {}
        },
        {
          "output_type": "display_data",
          "data": {
            "text/plain": [
              "┏━━━━━━━━━━━━━━━━━━━━━┳━━━━━━━━━━━━━━━━━━━┳━━━━━━━━━━━━┳━━━━━━━━━━━━━━━━━━━┓\n",
              "┃\u001b[1m \u001b[0m\u001b[1mLayer (type)       \u001b[0m\u001b[1m \u001b[0m┃\u001b[1m \u001b[0m\u001b[1mOutput Shape     \u001b[0m\u001b[1m \u001b[0m┃\u001b[1m \u001b[0m\u001b[1m   Param #\u001b[0m\u001b[1m \u001b[0m┃\u001b[1m \u001b[0m\u001b[1mConnected to     \u001b[0m\u001b[1m \u001b[0m┃\n",
              "┡━━━━━━━━━━━━━━━━━━━━━╇━━━━━━━━━━━━━━━━━━━╇━━━━━━━━━━━━╇━━━━━━━━━━━━━━━━━━━┩\n",
              "│ input_layer         │ (\u001b[38;5;45mNone\u001b[0m, \u001b[38;5;34m2437\u001b[0m, \u001b[38;5;34m1\u001b[0m)   │          \u001b[38;5;34m0\u001b[0m │ -                 │\n",
              "│ (\u001b[38;5;33mInputLayer\u001b[0m)        │                   │            │                   │\n",
              "├─────────────────────┼───────────────────┼────────────┼───────────────────┤\n",
              "│ input_layer_1       │ (\u001b[38;5;45mNone\u001b[0m, \u001b[38;5;34m2437\u001b[0m, \u001b[38;5;34m1\u001b[0m)   │          \u001b[38;5;34m0\u001b[0m │ -                 │\n",
              "│ (\u001b[38;5;33mInputLayer\u001b[0m)        │                   │            │                   │\n",
              "├─────────────────────┼───────────────────┼────────────┼───────────────────┤\n",
              "│ input_layer_2       │ (\u001b[38;5;45mNone\u001b[0m, \u001b[38;5;34m2437\u001b[0m, \u001b[38;5;34m1\u001b[0m)   │          \u001b[38;5;34m0\u001b[0m │ -                 │\n",
              "│ (\u001b[38;5;33mInputLayer\u001b[0m)        │                   │            │                   │\n",
              "├─────────────────────┼───────────────────┼────────────┼───────────────────┤\n",
              "│ conv1d (\u001b[38;5;33mConv1D\u001b[0m)     │ (\u001b[38;5;45mNone\u001b[0m, \u001b[38;5;34m2238\u001b[0m, \u001b[38;5;34m64\u001b[0m)  │     \u001b[38;5;34m12,864\u001b[0m │ input_layer[\u001b[38;5;34m0\u001b[0m][\u001b[38;5;34m0\u001b[0m] │\n",
              "├─────────────────────┼───────────────────┼────────────┼───────────────────┤\n",
              "│ conv1d_1 (\u001b[38;5;33mConv1D\u001b[0m)   │ (\u001b[38;5;45mNone\u001b[0m, \u001b[38;5;34m2338\u001b[0m, \u001b[38;5;34m64\u001b[0m)  │      \u001b[38;5;34m6,464\u001b[0m │ input_layer_1[\u001b[38;5;34m0\u001b[0m]… │\n",
              "├─────────────────────┼───────────────────┼────────────┼───────────────────┤\n",
              "│ conv1d_2 (\u001b[38;5;33mConv1D\u001b[0m)   │ (\u001b[38;5;45mNone\u001b[0m, \u001b[38;5;34m2388\u001b[0m, \u001b[38;5;34m64\u001b[0m)  │      \u001b[38;5;34m3,264\u001b[0m │ input_layer_2[\u001b[38;5;34m0\u001b[0m]… │\n",
              "├─────────────────────┼───────────────────┼────────────┼───────────────────┤\n",
              "│ dropout (\u001b[38;5;33mDropout\u001b[0m)   │ (\u001b[38;5;45mNone\u001b[0m, \u001b[38;5;34m2238\u001b[0m, \u001b[38;5;34m64\u001b[0m)  │          \u001b[38;5;34m0\u001b[0m │ conv1d[\u001b[38;5;34m0\u001b[0m][\u001b[38;5;34m0\u001b[0m]      │\n",
              "├─────────────────────┼───────────────────┼────────────┼───────────────────┤\n",
              "│ dropout_1 (\u001b[38;5;33mDropout\u001b[0m) │ (\u001b[38;5;45mNone\u001b[0m, \u001b[38;5;34m2338\u001b[0m, \u001b[38;5;34m64\u001b[0m)  │          \u001b[38;5;34m0\u001b[0m │ conv1d_1[\u001b[38;5;34m0\u001b[0m][\u001b[38;5;34m0\u001b[0m]    │\n",
              "├─────────────────────┼───────────────────┼────────────┼───────────────────┤\n",
              "│ dropout_2 (\u001b[38;5;33mDropout\u001b[0m) │ (\u001b[38;5;45mNone\u001b[0m, \u001b[38;5;34m2388\u001b[0m, \u001b[38;5;34m64\u001b[0m)  │          \u001b[38;5;34m0\u001b[0m │ conv1d_2[\u001b[38;5;34m0\u001b[0m][\u001b[38;5;34m0\u001b[0m]    │\n",
              "├─────────────────────┼───────────────────┼────────────┼───────────────────┤\n",
              "│ max_pooling1d       │ (\u001b[38;5;45mNone\u001b[0m, \u001b[38;5;34m111\u001b[0m, \u001b[38;5;34m64\u001b[0m)   │          \u001b[38;5;34m0\u001b[0m │ dropout[\u001b[38;5;34m0\u001b[0m][\u001b[38;5;34m0\u001b[0m]     │\n",
              "│ (\u001b[38;5;33mMaxPooling1D\u001b[0m)      │                   │            │                   │\n",
              "├─────────────────────┼───────────────────┼────────────┼───────────────────┤\n",
              "│ max_pooling1d_1     │ (\u001b[38;5;45mNone\u001b[0m, \u001b[38;5;34m233\u001b[0m, \u001b[38;5;34m64\u001b[0m)   │          \u001b[38;5;34m0\u001b[0m │ dropout_1[\u001b[38;5;34m0\u001b[0m][\u001b[38;5;34m0\u001b[0m]   │\n",
              "│ (\u001b[38;5;33mMaxPooling1D\u001b[0m)      │                   │            │                   │\n",
              "├─────────────────────┼───────────────────┼────────────┼───────────────────┤\n",
              "│ max_pooling1d_2     │ (\u001b[38;5;45mNone\u001b[0m, \u001b[38;5;34m477\u001b[0m, \u001b[38;5;34m64\u001b[0m)   │          \u001b[38;5;34m0\u001b[0m │ dropout_2[\u001b[38;5;34m0\u001b[0m][\u001b[38;5;34m0\u001b[0m]   │\n",
              "│ (\u001b[38;5;33mMaxPooling1D\u001b[0m)      │                   │            │                   │\n",
              "├─────────────────────┼───────────────────┼────────────┼───────────────────┤\n",
              "│ flatten (\u001b[38;5;33mFlatten\u001b[0m)   │ (\u001b[38;5;45mNone\u001b[0m, \u001b[38;5;34m7104\u001b[0m)      │          \u001b[38;5;34m0\u001b[0m │ max_pooling1d[\u001b[38;5;34m0\u001b[0m]… │\n",
              "├─────────────────────┼───────────────────┼────────────┼───────────────────┤\n",
              "│ flatten_1 (\u001b[38;5;33mFlatten\u001b[0m) │ (\u001b[38;5;45mNone\u001b[0m, \u001b[38;5;34m14912\u001b[0m)     │          \u001b[38;5;34m0\u001b[0m │ max_pooling1d_1[\u001b[38;5;34m…\u001b[0m │\n",
              "├─────────────────────┼───────────────────┼────────────┼───────────────────┤\n",
              "│ flatten_2 (\u001b[38;5;33mFlatten\u001b[0m) │ (\u001b[38;5;45mNone\u001b[0m, \u001b[38;5;34m30528\u001b[0m)     │          \u001b[38;5;34m0\u001b[0m │ max_pooling1d_2[\u001b[38;5;34m…\u001b[0m │\n",
              "├─────────────────────┼───────────────────┼────────────┼───────────────────┤\n",
              "│ concatenate         │ (\u001b[38;5;45mNone\u001b[0m, \u001b[38;5;34m52544\u001b[0m)     │          \u001b[38;5;34m0\u001b[0m │ flatten[\u001b[38;5;34m0\u001b[0m][\u001b[38;5;34m0\u001b[0m],    │\n",
              "│ (\u001b[38;5;33mConcatenate\u001b[0m)       │                   │            │ flatten_1[\u001b[38;5;34m0\u001b[0m][\u001b[38;5;34m0\u001b[0m],  │\n",
              "│                     │                   │            │ flatten_2[\u001b[38;5;34m0\u001b[0m][\u001b[38;5;34m0\u001b[0m]   │\n",
              "├─────────────────────┼───────────────────┼────────────┼───────────────────┤\n",
              "│ dense (\u001b[38;5;33mDense\u001b[0m)       │ (\u001b[38;5;45mNone\u001b[0m, \u001b[38;5;34m100\u001b[0m)       │  \u001b[38;5;34m5,254,500\u001b[0m │ concatenate[\u001b[38;5;34m0\u001b[0m][\u001b[38;5;34m0\u001b[0m] │\n",
              "├─────────────────────┼───────────────────┼────────────┼───────────────────┤\n",
              "│ dense_1 (\u001b[38;5;33mDense\u001b[0m)     │ (\u001b[38;5;45mNone\u001b[0m, \u001b[38;5;34m9\u001b[0m)         │        \u001b[38;5;34m909\u001b[0m │ dense[\u001b[38;5;34m0\u001b[0m][\u001b[38;5;34m0\u001b[0m]       │\n",
              "└─────────────────────┴───────────────────┴────────────┴───────────────────┘\n"
            ],
            "text/html": [
              "<pre style=\"white-space:pre;overflow-x:auto;line-height:normal;font-family:Menlo,'DejaVu Sans Mono',consolas,'Courier New',monospace\">┏━━━━━━━━━━━━━━━━━━━━━┳━━━━━━━━━━━━━━━━━━━┳━━━━━━━━━━━━┳━━━━━━━━━━━━━━━━━━━┓\n",
              "┃<span style=\"font-weight: bold\"> Layer (type)        </span>┃<span style=\"font-weight: bold\"> Output Shape      </span>┃<span style=\"font-weight: bold\">    Param # </span>┃<span style=\"font-weight: bold\"> Connected to      </span>┃\n",
              "┡━━━━━━━━━━━━━━━━━━━━━╇━━━━━━━━━━━━━━━━━━━╇━━━━━━━━━━━━╇━━━━━━━━━━━━━━━━━━━┩\n",
              "│ input_layer         │ (<span style=\"color: #00d7ff; text-decoration-color: #00d7ff\">None</span>, <span style=\"color: #00af00; text-decoration-color: #00af00\">2437</span>, <span style=\"color: #00af00; text-decoration-color: #00af00\">1</span>)   │          <span style=\"color: #00af00; text-decoration-color: #00af00\">0</span> │ -                 │\n",
              "│ (<span style=\"color: #0087ff; text-decoration-color: #0087ff\">InputLayer</span>)        │                   │            │                   │\n",
              "├─────────────────────┼───────────────────┼────────────┼───────────────────┤\n",
              "│ input_layer_1       │ (<span style=\"color: #00d7ff; text-decoration-color: #00d7ff\">None</span>, <span style=\"color: #00af00; text-decoration-color: #00af00\">2437</span>, <span style=\"color: #00af00; text-decoration-color: #00af00\">1</span>)   │          <span style=\"color: #00af00; text-decoration-color: #00af00\">0</span> │ -                 │\n",
              "│ (<span style=\"color: #0087ff; text-decoration-color: #0087ff\">InputLayer</span>)        │                   │            │                   │\n",
              "├─────────────────────┼───────────────────┼────────────┼───────────────────┤\n",
              "│ input_layer_2       │ (<span style=\"color: #00d7ff; text-decoration-color: #00d7ff\">None</span>, <span style=\"color: #00af00; text-decoration-color: #00af00\">2437</span>, <span style=\"color: #00af00; text-decoration-color: #00af00\">1</span>)   │          <span style=\"color: #00af00; text-decoration-color: #00af00\">0</span> │ -                 │\n",
              "│ (<span style=\"color: #0087ff; text-decoration-color: #0087ff\">InputLayer</span>)        │                   │            │                   │\n",
              "├─────────────────────┼───────────────────┼────────────┼───────────────────┤\n",
              "│ conv1d (<span style=\"color: #0087ff; text-decoration-color: #0087ff\">Conv1D</span>)     │ (<span style=\"color: #00d7ff; text-decoration-color: #00d7ff\">None</span>, <span style=\"color: #00af00; text-decoration-color: #00af00\">2238</span>, <span style=\"color: #00af00; text-decoration-color: #00af00\">64</span>)  │     <span style=\"color: #00af00; text-decoration-color: #00af00\">12,864</span> │ input_layer[<span style=\"color: #00af00; text-decoration-color: #00af00\">0</span>][<span style=\"color: #00af00; text-decoration-color: #00af00\">0</span>] │\n",
              "├─────────────────────┼───────────────────┼────────────┼───────────────────┤\n",
              "│ conv1d_1 (<span style=\"color: #0087ff; text-decoration-color: #0087ff\">Conv1D</span>)   │ (<span style=\"color: #00d7ff; text-decoration-color: #00d7ff\">None</span>, <span style=\"color: #00af00; text-decoration-color: #00af00\">2338</span>, <span style=\"color: #00af00; text-decoration-color: #00af00\">64</span>)  │      <span style=\"color: #00af00; text-decoration-color: #00af00\">6,464</span> │ input_layer_1[<span style=\"color: #00af00; text-decoration-color: #00af00\">0</span>]… │\n",
              "├─────────────────────┼───────────────────┼────────────┼───────────────────┤\n",
              "│ conv1d_2 (<span style=\"color: #0087ff; text-decoration-color: #0087ff\">Conv1D</span>)   │ (<span style=\"color: #00d7ff; text-decoration-color: #00d7ff\">None</span>, <span style=\"color: #00af00; text-decoration-color: #00af00\">2388</span>, <span style=\"color: #00af00; text-decoration-color: #00af00\">64</span>)  │      <span style=\"color: #00af00; text-decoration-color: #00af00\">3,264</span> │ input_layer_2[<span style=\"color: #00af00; text-decoration-color: #00af00\">0</span>]… │\n",
              "├─────────────────────┼───────────────────┼────────────┼───────────────────┤\n",
              "│ dropout (<span style=\"color: #0087ff; text-decoration-color: #0087ff\">Dropout</span>)   │ (<span style=\"color: #00d7ff; text-decoration-color: #00d7ff\">None</span>, <span style=\"color: #00af00; text-decoration-color: #00af00\">2238</span>, <span style=\"color: #00af00; text-decoration-color: #00af00\">64</span>)  │          <span style=\"color: #00af00; text-decoration-color: #00af00\">0</span> │ conv1d[<span style=\"color: #00af00; text-decoration-color: #00af00\">0</span>][<span style=\"color: #00af00; text-decoration-color: #00af00\">0</span>]      │\n",
              "├─────────────────────┼───────────────────┼────────────┼───────────────────┤\n",
              "│ dropout_1 (<span style=\"color: #0087ff; text-decoration-color: #0087ff\">Dropout</span>) │ (<span style=\"color: #00d7ff; text-decoration-color: #00d7ff\">None</span>, <span style=\"color: #00af00; text-decoration-color: #00af00\">2338</span>, <span style=\"color: #00af00; text-decoration-color: #00af00\">64</span>)  │          <span style=\"color: #00af00; text-decoration-color: #00af00\">0</span> │ conv1d_1[<span style=\"color: #00af00; text-decoration-color: #00af00\">0</span>][<span style=\"color: #00af00; text-decoration-color: #00af00\">0</span>]    │\n",
              "├─────────────────────┼───────────────────┼────────────┼───────────────────┤\n",
              "│ dropout_2 (<span style=\"color: #0087ff; text-decoration-color: #0087ff\">Dropout</span>) │ (<span style=\"color: #00d7ff; text-decoration-color: #00d7ff\">None</span>, <span style=\"color: #00af00; text-decoration-color: #00af00\">2388</span>, <span style=\"color: #00af00; text-decoration-color: #00af00\">64</span>)  │          <span style=\"color: #00af00; text-decoration-color: #00af00\">0</span> │ conv1d_2[<span style=\"color: #00af00; text-decoration-color: #00af00\">0</span>][<span style=\"color: #00af00; text-decoration-color: #00af00\">0</span>]    │\n",
              "├─────────────────────┼───────────────────┼────────────┼───────────────────┤\n",
              "│ max_pooling1d       │ (<span style=\"color: #00d7ff; text-decoration-color: #00d7ff\">None</span>, <span style=\"color: #00af00; text-decoration-color: #00af00\">111</span>, <span style=\"color: #00af00; text-decoration-color: #00af00\">64</span>)   │          <span style=\"color: #00af00; text-decoration-color: #00af00\">0</span> │ dropout[<span style=\"color: #00af00; text-decoration-color: #00af00\">0</span>][<span style=\"color: #00af00; text-decoration-color: #00af00\">0</span>]     │\n",
              "│ (<span style=\"color: #0087ff; text-decoration-color: #0087ff\">MaxPooling1D</span>)      │                   │            │                   │\n",
              "├─────────────────────┼───────────────────┼────────────┼───────────────────┤\n",
              "│ max_pooling1d_1     │ (<span style=\"color: #00d7ff; text-decoration-color: #00d7ff\">None</span>, <span style=\"color: #00af00; text-decoration-color: #00af00\">233</span>, <span style=\"color: #00af00; text-decoration-color: #00af00\">64</span>)   │          <span style=\"color: #00af00; text-decoration-color: #00af00\">0</span> │ dropout_1[<span style=\"color: #00af00; text-decoration-color: #00af00\">0</span>][<span style=\"color: #00af00; text-decoration-color: #00af00\">0</span>]   │\n",
              "│ (<span style=\"color: #0087ff; text-decoration-color: #0087ff\">MaxPooling1D</span>)      │                   │            │                   │\n",
              "├─────────────────────┼───────────────────┼────────────┼───────────────────┤\n",
              "│ max_pooling1d_2     │ (<span style=\"color: #00d7ff; text-decoration-color: #00d7ff\">None</span>, <span style=\"color: #00af00; text-decoration-color: #00af00\">477</span>, <span style=\"color: #00af00; text-decoration-color: #00af00\">64</span>)   │          <span style=\"color: #00af00; text-decoration-color: #00af00\">0</span> │ dropout_2[<span style=\"color: #00af00; text-decoration-color: #00af00\">0</span>][<span style=\"color: #00af00; text-decoration-color: #00af00\">0</span>]   │\n",
              "│ (<span style=\"color: #0087ff; text-decoration-color: #0087ff\">MaxPooling1D</span>)      │                   │            │                   │\n",
              "├─────────────────────┼───────────────────┼────────────┼───────────────────┤\n",
              "│ flatten (<span style=\"color: #0087ff; text-decoration-color: #0087ff\">Flatten</span>)   │ (<span style=\"color: #00d7ff; text-decoration-color: #00d7ff\">None</span>, <span style=\"color: #00af00; text-decoration-color: #00af00\">7104</span>)      │          <span style=\"color: #00af00; text-decoration-color: #00af00\">0</span> │ max_pooling1d[<span style=\"color: #00af00; text-decoration-color: #00af00\">0</span>]… │\n",
              "├─────────────────────┼───────────────────┼────────────┼───────────────────┤\n",
              "│ flatten_1 (<span style=\"color: #0087ff; text-decoration-color: #0087ff\">Flatten</span>) │ (<span style=\"color: #00d7ff; text-decoration-color: #00d7ff\">None</span>, <span style=\"color: #00af00; text-decoration-color: #00af00\">14912</span>)     │          <span style=\"color: #00af00; text-decoration-color: #00af00\">0</span> │ max_pooling1d_1[<span style=\"color: #00af00; text-decoration-color: #00af00\">…</span> │\n",
              "├─────────────────────┼───────────────────┼────────────┼───────────────────┤\n",
              "│ flatten_2 (<span style=\"color: #0087ff; text-decoration-color: #0087ff\">Flatten</span>) │ (<span style=\"color: #00d7ff; text-decoration-color: #00d7ff\">None</span>, <span style=\"color: #00af00; text-decoration-color: #00af00\">30528</span>)     │          <span style=\"color: #00af00; text-decoration-color: #00af00\">0</span> │ max_pooling1d_2[<span style=\"color: #00af00; text-decoration-color: #00af00\">…</span> │\n",
              "├─────────────────────┼───────────────────┼────────────┼───────────────────┤\n",
              "│ concatenate         │ (<span style=\"color: #00d7ff; text-decoration-color: #00d7ff\">None</span>, <span style=\"color: #00af00; text-decoration-color: #00af00\">52544</span>)     │          <span style=\"color: #00af00; text-decoration-color: #00af00\">0</span> │ flatten[<span style=\"color: #00af00; text-decoration-color: #00af00\">0</span>][<span style=\"color: #00af00; text-decoration-color: #00af00\">0</span>],    │\n",
              "│ (<span style=\"color: #0087ff; text-decoration-color: #0087ff\">Concatenate</span>)       │                   │            │ flatten_1[<span style=\"color: #00af00; text-decoration-color: #00af00\">0</span>][<span style=\"color: #00af00; text-decoration-color: #00af00\">0</span>],  │\n",
              "│                     │                   │            │ flatten_2[<span style=\"color: #00af00; text-decoration-color: #00af00\">0</span>][<span style=\"color: #00af00; text-decoration-color: #00af00\">0</span>]   │\n",
              "├─────────────────────┼───────────────────┼────────────┼───────────────────┤\n",
              "│ dense (<span style=\"color: #0087ff; text-decoration-color: #0087ff\">Dense</span>)       │ (<span style=\"color: #00d7ff; text-decoration-color: #00d7ff\">None</span>, <span style=\"color: #00af00; text-decoration-color: #00af00\">100</span>)       │  <span style=\"color: #00af00; text-decoration-color: #00af00\">5,254,500</span> │ concatenate[<span style=\"color: #00af00; text-decoration-color: #00af00\">0</span>][<span style=\"color: #00af00; text-decoration-color: #00af00\">0</span>] │\n",
              "├─────────────────────┼───────────────────┼────────────┼───────────────────┤\n",
              "│ dense_1 (<span style=\"color: #0087ff; text-decoration-color: #0087ff\">Dense</span>)     │ (<span style=\"color: #00d7ff; text-decoration-color: #00d7ff\">None</span>, <span style=\"color: #00af00; text-decoration-color: #00af00\">9</span>)         │        <span style=\"color: #00af00; text-decoration-color: #00af00\">909</span> │ dense[<span style=\"color: #00af00; text-decoration-color: #00af00\">0</span>][<span style=\"color: #00af00; text-decoration-color: #00af00\">0</span>]       │\n",
              "└─────────────────────┴───────────────────┴────────────┴───────────────────┘\n",
              "</pre>\n"
            ]
          },
          "metadata": {}
        },
        {
          "output_type": "display_data",
          "data": {
            "text/plain": [
              "\u001b[1m Total params: \u001b[0m\u001b[38;5;34m5,278,001\u001b[0m (20.13 MB)\n"
            ],
            "text/html": [
              "<pre style=\"white-space:pre;overflow-x:auto;line-height:normal;font-family:Menlo,'DejaVu Sans Mono',consolas,'Courier New',monospace\"><span style=\"font-weight: bold\"> Total params: </span><span style=\"color: #00af00; text-decoration-color: #00af00\">5,278,001</span> (20.13 MB)\n",
              "</pre>\n"
            ]
          },
          "metadata": {}
        },
        {
          "output_type": "display_data",
          "data": {
            "text/plain": [
              "\u001b[1m Trainable params: \u001b[0m\u001b[38;5;34m5,278,001\u001b[0m (20.13 MB)\n"
            ],
            "text/html": [
              "<pre style=\"white-space:pre;overflow-x:auto;line-height:normal;font-family:Menlo,'DejaVu Sans Mono',consolas,'Courier New',monospace\"><span style=\"font-weight: bold\"> Trainable params: </span><span style=\"color: #00af00; text-decoration-color: #00af00\">5,278,001</span> (20.13 MB)\n",
              "</pre>\n"
            ]
          },
          "metadata": {}
        },
        {
          "output_type": "display_data",
          "data": {
            "text/plain": [
              "\u001b[1m Non-trainable params: \u001b[0m\u001b[38;5;34m0\u001b[0m (0.00 B)\n"
            ],
            "text/html": [
              "<pre style=\"white-space:pre;overflow-x:auto;line-height:normal;font-family:Menlo,'DejaVu Sans Mono',consolas,'Courier New',monospace\"><span style=\"font-weight: bold\"> Non-trainable params: </span><span style=\"color: #00af00; text-decoration-color: #00af00\">0</span> (0.00 B)\n",
              "</pre>\n"
            ]
          },
          "metadata": {}
        }
      ]
    },
    {
      "cell_type": "code",
      "source": [
        "batch_size =100\n",
        "epochs = 20\n",
        "history = cnn_model.fit([X_train,X_train,X_train], y_train, batch_size=batch_size,epochs=epochs,verbose=1,validation_data=([X_test,X_test,X_test],y_test),shuffle=True)"
      ],
      "metadata": {
        "colab": {
          "base_uri": "https://localhost:8080/"
        },
        "id": "2Lxm-qvKM3oN",
        "outputId": "b5aafd15-d164-4ea0-a38a-6c2d8e22be94"
      },
      "id": "2Lxm-qvKM3oN",
      "execution_count": null,
      "outputs": [
        {
          "output_type": "stream",
          "name": "stdout",
          "text": [
            "Epoch 1/20\n",
            "\u001b[1m16/16\u001b[0m \u001b[32m━━━━━━━━━━━━━━━━━━━━\u001b[0m\u001b[37m\u001b[0m \u001b[1m27s\u001b[0m 582ms/step - accuracy: 0.1368 - loss: 4.0158 - val_accuracy: 0.3487 - val_loss: 3.1625\n",
            "Epoch 2/20\n",
            "\u001b[1m16/16\u001b[0m \u001b[32m━━━━━━━━━━━━━━━━━━━━\u001b[0m\u001b[37m\u001b[0m \u001b[1m1s\u001b[0m 32ms/step - accuracy: 0.4141 - loss: 3.1154 - val_accuracy: 0.4347 - val_loss: 2.7521\n",
            "Epoch 3/20\n",
            "\u001b[1m16/16\u001b[0m \u001b[32m━━━━━━━━━━━━━━━━━━━━\u001b[0m\u001b[37m\u001b[0m \u001b[1m1s\u001b[0m 32ms/step - accuracy: 0.5552 - loss: 2.4977 - val_accuracy: 0.6454 - val_loss: 2.4139\n",
            "Epoch 4/20\n",
            "\u001b[1m16/16\u001b[0m \u001b[32m━━━━━━━━━━━━━━━━━━━━\u001b[0m\u001b[37m\u001b[0m \u001b[1m1s\u001b[0m 32ms/step - accuracy: 0.6962 - loss: 2.3702 - val_accuracy: 0.7329 - val_loss: 2.2642\n",
            "Epoch 5/20\n",
            "\u001b[1m16/16\u001b[0m \u001b[32m━━━━━━━━━━━━━━━━━━━━\u001b[0m\u001b[37m\u001b[0m \u001b[1m1s\u001b[0m 31ms/step - accuracy: 0.7648 - loss: 2.2591 - val_accuracy: 0.7448 - val_loss: 2.1510\n",
            "Epoch 6/20\n",
            "\u001b[1m16/16\u001b[0m \u001b[32m━━━━━━━━━━━━━━━━━━━━\u001b[0m\u001b[37m\u001b[0m \u001b[1m1s\u001b[0m 32ms/step - accuracy: 0.8302 - loss: 2.1575 - val_accuracy: 0.7760 - val_loss: 2.0926\n",
            "Epoch 7/20\n",
            "\u001b[1m16/16\u001b[0m \u001b[32m━━━━━━━━━━━━━━━━━━━━\u001b[0m\u001b[37m\u001b[0m \u001b[1m1s\u001b[0m 32ms/step - accuracy: 0.8534 - loss: 1.8634 - val_accuracy: 0.8071 - val_loss: 2.0051\n",
            "Epoch 8/20\n",
            "\u001b[1m16/16\u001b[0m \u001b[32m━━━━━━━━━━━━━━━━━━━━\u001b[0m\u001b[37m\u001b[0m \u001b[1m1s\u001b[0m 32ms/step - accuracy: 0.8775 - loss: 1.7943 - val_accuracy: 0.8056 - val_loss: 1.9755\n",
            "Epoch 9/20\n",
            "\u001b[1m16/16\u001b[0m \u001b[32m━━━━━━━━━━━━━━━━━━━━\u001b[0m\u001b[37m\u001b[0m \u001b[1m1s\u001b[0m 32ms/step - accuracy: 0.8686 - loss: 1.9358 - val_accuracy: 0.7923 - val_loss: 1.9713\n",
            "Epoch 10/20\n",
            "\u001b[1m16/16\u001b[0m \u001b[32m━━━━━━━━━━━━━━━━━━━━\u001b[0m\u001b[37m\u001b[0m \u001b[1m1s\u001b[0m 37ms/step - accuracy: 0.8642 - loss: 1.9675 - val_accuracy: 0.8249 - val_loss: 1.9344\n",
            "Epoch 11/20\n",
            "\u001b[1m16/16\u001b[0m \u001b[32m━━━━━━━━━━━━━━━━━━━━\u001b[0m\u001b[37m\u001b[0m \u001b[1m1s\u001b[0m 39ms/step - accuracy: 0.8847 - loss: 1.8443 - val_accuracy: 0.8234 - val_loss: 1.9289\n",
            "Epoch 12/20\n",
            "\u001b[1m16/16\u001b[0m \u001b[32m━━━━━━━━━━━━━━━━━━━━\u001b[0m\u001b[37m\u001b[0m \u001b[1m1s\u001b[0m 36ms/step - accuracy: 0.8741 - loss: 2.0116 - val_accuracy: 0.8086 - val_loss: 1.9371\n",
            "Epoch 13/20\n",
            "\u001b[1m16/16\u001b[0m \u001b[32m━━━━━━━━━━━━━━━━━━━━\u001b[0m\u001b[37m\u001b[0m \u001b[1m1s\u001b[0m 35ms/step - accuracy: 0.8895 - loss: 1.7544 - val_accuracy: 0.8353 - val_loss: 1.8902\n",
            "Epoch 14/20\n",
            "\u001b[1m16/16\u001b[0m \u001b[32m━━━━━━━━━━━━━━━━━━━━\u001b[0m\u001b[37m\u001b[0m \u001b[1m1s\u001b[0m 41ms/step - accuracy: 0.8932 - loss: 1.7384 - val_accuracy: 0.8323 - val_loss: 1.8932\n",
            "Epoch 15/20\n",
            "\u001b[1m16/16\u001b[0m \u001b[32m━━━━━━━━━━━━━━━━━━━━\u001b[0m\u001b[37m\u001b[0m \u001b[1m1s\u001b[0m 38ms/step - accuracy: 0.8843 - loss: 1.8755 - val_accuracy: 0.8309 - val_loss: 1.8989\n",
            "Epoch 16/20\n",
            "\u001b[1m16/16\u001b[0m \u001b[32m━━━━━━━━━━━━━━━━━━━━\u001b[0m\u001b[37m\u001b[0m \u001b[1m1s\u001b[0m 32ms/step - accuracy: 0.8803 - loss: 1.9397 - val_accuracy: 0.8427 - val_loss: 1.8780\n",
            "Epoch 17/20\n",
            "\u001b[1m16/16\u001b[0m \u001b[32m━━━━━━━━━━━━━━━━━━━━\u001b[0m\u001b[37m\u001b[0m \u001b[1m1s\u001b[0m 37ms/step - accuracy: 0.8888 - loss: 1.7999 - val_accuracy: 0.8412 - val_loss: 1.8716\n",
            "Epoch 18/20\n",
            "\u001b[1m16/16\u001b[0m \u001b[32m━━━━━━━━━━━━━━━━━━━━\u001b[0m\u001b[37m\u001b[0m \u001b[1m1s\u001b[0m 39ms/step - accuracy: 0.8910 - loss: 1.7647 - val_accuracy: 0.8412 - val_loss: 1.8712\n",
            "Epoch 19/20\n",
            "\u001b[1m16/16\u001b[0m \u001b[32m━━━━━━━━━━━━━━━━━━━━\u001b[0m\u001b[37m\u001b[0m \u001b[1m1s\u001b[0m 32ms/step - accuracy: 0.8904 - loss: 1.7736 - val_accuracy: 0.8457 - val_loss: 1.8662\n",
            "Epoch 20/20\n",
            "\u001b[1m16/16\u001b[0m \u001b[32m━━━━━━━━━━━━━━━━━━━━\u001b[0m\u001b[37m\u001b[0m \u001b[1m1s\u001b[0m 32ms/step - accuracy: 0.8882 - loss: 1.8076 - val_accuracy: 0.8427 - val_loss: 1.8660\n"
          ]
        }
      ]
    },
    {
      "cell_type": "code",
      "source": [
        "def inv_Transform_result(y_pred):\n",
        "    y_pred = y_pred.argmax(axis=1)\n",
        "    y_pred = encoder.inverse_transform(y_pred)\n",
        "    return y_pred\n",
        "\n",
        "\n",
        "\n",
        "y_pred=cnn_model.predict([X_test,X_test,X_test])\n",
        "\n",
        "\n",
        "Y_pred=inv_Transform_result(y_pred)\n",
        "Y_test = inv_Transform_result(y_test)\n",
        "\n",
        "\n",
        "\n",
        "\n",
        "from sklearn.metrics import confusion_matrix\n",
        "\n",
        "\n",
        "plt.figure(figsize=(10,10))\n",
        "cm = confusion_matrix(Y_test, Y_pred,normalize='true')\n",
        "f = sns.heatmap(cm, annot=True,xticklabels=encoder.classes_,yticklabels=encoder.classes_)"
      ],
      "metadata": {
        "colab": {
          "base_uri": "https://localhost:8080/",
          "height": 854
        },
        "id": "pbBmkBjlM5ks",
        "outputId": "4519e9b5-8a9e-4c3d-c06d-f621b5515c7a"
      },
      "id": "pbBmkBjlM5ks",
      "execution_count": null,
      "outputs": [
        {
          "output_type": "stream",
          "name": "stdout",
          "text": [
            "\u001b[1m22/22\u001b[0m \u001b[32m━━━━━━━━━━━━━━━━━━━━\u001b[0m\u001b[37m\u001b[0m \u001b[1m2s\u001b[0m 39ms/step\n"
          ]
        },
        {
          "output_type": "display_data",
          "data": {
            "text/plain": [
              "<Figure size 1000x1000 with 2 Axes>"
            ],
            "image/png": "[encoded data removed]"
          },
          "metadata": {}
        }
      ]
    },
    {
      "cell_type": "code",
      "source": [
        "dummy_cnn = Model(inputs=cnn_model.input,outputs=cnn_model.layers[16].output)\n",
        "y_viz = dummy_cnn.predict([X_train,X_train,X_train])"
      ],
      "metadata": {
        "colab": {
          "base_uri": "https://localhost:8080/"
        },
        "id": "3tgRx2TxM-GS",
        "outputId": "8f89080f-3fa8-44c6-dbbb-0feebff2bcb6"
      },
      "id": "3tgRx2TxM-GS",
      "execution_count": null,
      "outputs": [
        {
          "output_type": "stream",
          "name": "stdout",
          "text": [
            "\u001b[1m50/50\u001b[0m \u001b[32m━━━━━━━━━━━━━━━━━━━━\u001b[0m\u001b[37m\u001b[0m \u001b[1m1s\u001b[0m 14ms/step\n"
          ]
        }
      ]
    },
    {
      "cell_type": "code",
      "source": [
        "import pandas as pd\n",
        "import seaborn as sns\n",
        "import matplotlib.pyplot as plt\n",
        "from sklearn.manifold import TSNE\n",
        "\n",
        "# Apply t-SNE transformation\n",
        "X_t_sne = TSNE(\n",
        "    n_components=2,\n",
        "    learning_rate='auto',\n",
        "    verbose=2,  # Increase verbosity for more detailed feedback\n",
        "    perplexity=40,\n",
        "    n_iter=500  # Slightly increased number of iterations for convergence\n",
        ").fit_transform(y_viz)\n",
        "\n",
        "# Create DataFrame for t-SNE components\n",
        "tSNEdf = pd.DataFrame(data=X_t_sne, columns=['T-SNE component 1', 'T-SNE component 2'])\n",
        "\n",
        "# Assuming `inv_Transform_result` transforms `y_train` to get the Fault labels\n",
        "tSNEdf['Fault'] = inv_Transform_result(y_train)\n",
        "\n",
        "# Save the t-SNE DataFrame as a CSV file\n",
        "tSNEdf.to_csv('/content/drive/MyDrive/MK-DCNN CWRU/NNOISE_0_tSNE_results.csv', index=True)\n",
        "print(\"t-SNE results saved as '/content/drive/MyDrive/MK-DCNN CWRU/NNOISE_0_tSNE_results.csv'.\")\n",
        "\n",
        "# # Plot the t-SNE results with Fault as hue\n",
        "# plt.figure(figsize=(12, 12))  # Larger figure for clarity\n",
        "# sns.scatterplot(\n",
        "#     x='T-SNE component 1',\n",
        "#     y='T-SNE component 2',\n",
        "#     hue='Fault',\n",
        "#     palette=sns.color_palette(\"husl\", as_cmap=False),  # Vivid color palette\n",
        "#     data=tSNEdf,\n",
        "#     legend=\"full\",\n",
        "#     alpha=0.7,  # Increased transparency for better overlap clarity\n",
        "#     s=100  # Larger marker size\n",
        "# )\n",
        "\n",
        "# # Add gridlines for better visualization\n",
        "# plt.grid\n",
        "\n",
        "\n",
        "# Optional: Visualization of t-SNE representation\n",
        "plt.figure(figsize=(8, 6))\n",
        "for label in tSNEdf['Fault'].unique():\n",
        "    subset = tSNEdf[tSNEdf['Fault'] == label]\n",
        "    plt.scatter(subset['T-SNE component 1'], subset['T-SNE component 2'], label=f'Fault {label}', alpha=0.7)\n",
        "\n",
        "plt.title('t-SNE Representation of Motor Fault Dataset')\n",
        "plt.xlabel('t-SNE 1')\n",
        "plt.ylabel('t-SNE 2')\n",
        "plt.legend()\n",
        "plt.show()"
      ],
      "metadata": {
        "colab": {
          "base_uri": "https://localhost:8080/",
          "height": 966
        },
        "id": "uic9AVV2NBah",
        "outputId": "626a4835-9ba8-4c71-bbfa-56be15ae2939"
      },
      "id": "uic9AVV2NBah",
      "execution_count": null,
      "outputs": [
        {
          "output_type": "stream",
          "name": "stderr",
          "text": [
            "/usr/local/lib/python3.11/dist-packages/sklearn/manifold/_t_sne.py:1164: FutureWarning: 'n_iter' was renamed to 'max_iter' in version 1.5 and will be removed in 1.7.\n",
            "  warnings.warn(\n"
          ]
        },
        {
          "output_type": "stream",
          "name": "stdout",
          "text": [
            "[t-SNE] Computing 121 nearest neighbors...\n",
            "[t-SNE] Indexed 1570 samples in 0.001s...\n",
            "[t-SNE] Computed neighbors for 1570 samples in 0.126s...\n",
            "[t-SNE] Computed conditional probabilities for sample 1000 / 1570\n",
            "[t-SNE] Computed conditional probabilities for sample 1570 / 1570\n",
            "[t-SNE] Mean sigma: 4.337503\n",
            "[t-SNE] Computed conditional probabilities in 0.077s\n",
            "[t-SNE] Iteration 50: error = 57.8884087, gradient norm = 0.0362623 (50 iterations in 0.595s)\n",
            "[t-SNE] Iteration 100: error = 53.5238419, gradient norm = 0.0138204 (50 iterations in 0.447s)\n",
            "[t-SNE] Iteration 150: error = 52.5670815, gradient norm = 0.0070926 (50 iterations in 0.687s)\n",
            "[t-SNE] Iteration 200: error = 52.1328697, gradient norm = 0.0057490 (50 iterations in 0.680s)\n",
            "[t-SNE] Iteration 250: error = 51.8770447, gradient norm = 0.0076419 (50 iterations in 0.661s)\n",
            "[t-SNE] KL divergence after 250 iterations with early exaggeration: 51.877045\n",
            "[t-SNE] Iteration 300: error = 0.9221562, gradient norm = 0.0180187 (50 iterations in 0.675s)\n",
            "[t-SNE] Iteration 350: error = 0.6643921, gradient norm = 0.0138076 (50 iterations in 0.724s)\n",
            "[t-SNE] Iteration 400: error = 0.5727925, gradient norm = 0.0115779 (50 iterations in 0.432s)\n",
            "[t-SNE] Iteration 450: error = 0.5266150, gradient norm = 0.0102108 (50 iterations in 0.458s)\n",
            "[t-SNE] Iteration 500: error = 0.5001371, gradient norm = 0.0085049 (50 iterations in 0.427s)\n",
            "[t-SNE] KL divergence after 500 iterations: 0.500137\n",
            "t-SNE results saved as '/content/drive/MyDrive/MK-DCNN CWRU/NNOISE_0_tSNE_results.csv'.\n"
          ]
        },
        {
          "output_type": "display_data",
          "data": {
            "text/plain": [
              "<Figure size 800x600 with 1 Axes>"
            ],
            "image/png": "[encoded data removed]"
          },
          "metadata": {}
        }
      ]
    },
    {
      "cell_type": "markdown",
      "source": [
        "Statistical Features"
      ],
      "metadata": {
        "id": "PRuXPOIH6cTH"
      },
      "id": "PRuXPOIH6cTH"
    },
    {
      "cell_type": "code",
      "source": [
        "import numpy as np\n",
        "from scipy.stats import skew, kurtosis\n",
        "import pandas as pd\n",
        "import matplotlib.pyplot as plt\n",
        "\n",
        "# Total target rows\n",
        "TARGET_ROWS = 1800\n",
        "\n",
        "# Estimate the total number of samples across all fault types\n",
        "total_samples = sum(len(df[df['fault'] == f]) for f in df['fault'].unique())\n",
        "\n",
        "# Calculate suitable window size and stride\n",
        "num_faults = 9\n",
        "average_samples_per_fault = total_samples / num_faults\n",
        "approx_windows_per_fault = TARGET_ROWS / num_faults\n",
        "stride_ratio = 0.8  # Initial stride/window ratio\n",
        "\n",
        "WINDOW_SIZE = int(average_samples_per_fault / approx_windows_per_fault)\n",
        "STRIDE = int(WINDOW_SIZE * stride_ratio)\n",
        "\n",
        "print(f\"Calculated WINDOW_SIZE: {WINDOW_SIZE}, STRIDE: {STRIDE}\")\n",
        "\n",
        "# Initialize a list to store statistical features\n",
        "statistical_features = []\n",
        "\n",
        "# Loop through each fault type\n",
        "for f in df['fault'].unique():\n",
        "    # Extract data for the current fault type\n",
        "    fault_data = df[df['fault'] == f].iloc[:, 0].values  # Convert to NumPy array for efficiency\n",
        "\n",
        "    # Compute windows using sliding window approach\n",
        "    num_windows = (len(fault_data) - WINDOW_SIZE) // STRIDE + 1\n",
        "    for i in range(num_windows):\n",
        "        start = i * STRIDE\n",
        "        end = start + WINDOW_SIZE\n",
        "        window = fault_data[start:end]\n",
        "\n",
        "        # Compute statistical features for the current window\n",
        "        mean_val = np.mean(window)\n",
        "        std_val = np.std(window)\n",
        "        rms_val = np.sqrt(np.mean(np.square(window)))\n",
        "        max_val = np.max(window)\n",
        "        min_val = np.min(window)\n",
        "        skewness_val = skew(window)\n",
        "        kurtosis_val = kurtosis(window)\n",
        "\n",
        "        # Additional statistical features\n",
        "        mean_abs_val = np.mean(np.abs(window))\n",
        "        form_factor = rms_val / mean_abs_val if mean_abs_val != 0 else 0\n",
        "        crest_factor = max_val / rms_val if rms_val != 0 else 0\n",
        "\n",
        "        # Store the features in a dictionary\n",
        "        statistical_features.append({\n",
        "            'fault': f,\n",
        "            'window': i + 1,\n",
        "            'mean': mean_val,\n",
        "            'std': std_val,\n",
        "            'rms': rms_val,\n",
        "            'max': max_val,\n",
        "            'min': min_val,\n",
        "            'skewness': skewness_val,\n",
        "            'kurtosis': kurtosis_val,\n",
        "            'form_factor': form_factor,\n",
        "            'crest_factor': crest_factor\n",
        "        })\n",
        "\n",
        "# Convert statistical features into a DataFrame\n",
        "stat_features_df = pd.DataFrame(statistical_features)\n",
        "\n",
        "# Display the extracted features and count of rows\n",
        "print(f\"Extracted {len(stat_features_df)} rows (target: {TARGET_ROWS})\")\n",
        "print(stat_features_df)\n",
        "\n",
        "# Save the extracted features to a CSV file\n",
        "output_file = \"/content/drive/MyDrive/MK-DCNN CWRU/NNOISE_0_statistical_features_with_form_and_crest_factors.csv\"\n",
        "stat_features_df.to_csv(output_file, index=False)\n",
        "print(f\"Statistical features saved to '{output_file}'.\")\n"
      ],
      "metadata": {
        "colab": {
          "base_uri": "https://localhost:8080/"
        },
        "id": "HRTIq9cYQgjC",
        "outputId": "cf403686-d927-42f0-bb9c-dd8beda42f64"
      },
      "id": "HRTIq9cYQgjC",
      "execution_count": null,
      "outputs": [
        {
          "output_type": "stream",
          "name": "stdout",
          "text": [
            "Calculated WINDOW_SIZE: 2437, STRIDE: 1949\n",
            "Extracted 2244 rows (target: 1800)\n",
            "     fault  window      mean       std       rms       max       min  \\\n",
            "0      240       1  0.015607  0.492382  0.492629  3.210128 -3.966336   \n",
            "1      240       2  0.015350  0.646707  0.646889  4.917856 -4.585659   \n",
            "2      240       3  0.014072  0.669473  0.669621  3.917091 -4.262643   \n",
            "3      240       4  0.014014  0.701110  0.701250  3.917091 -4.262643   \n",
            "4      240       5  0.014971  0.529179  0.529391  3.437992 -4.165821   \n",
            "...    ...     ...       ...       ...       ...       ...       ...   \n",
            "2239   176     246  0.013869  0.293245  0.293573  1.901788 -1.770328   \n",
            "2240   176     247  0.015376  0.296763  0.297161  1.901788 -1.770328   \n",
            "2241   176     248  0.016397  0.318915  0.319336  2.213536 -2.146763   \n",
            "2242   176     249  0.018091  0.123074  0.124397  0.709049 -0.772901   \n",
            "2243   176     250  0.016510  0.203745  0.204413  1.365097 -1.342979   \n",
            "\n",
            "      skewness   kurtosis  form_factor  crest_factor  \n",
            "0    -1.024670  20.379434     1.994239      6.516321  \n",
            "1    -0.025571  14.954581     1.872416      7.602318  \n",
            "2    -0.215939  13.337181     2.107288      5.849716  \n",
            "3    -0.271317  10.581490     1.825579      5.585872  \n",
            "4    -1.005422  17.717815     1.879134      6.494240  \n",
            "...        ...        ...          ...           ...  \n",
            "2239  0.141625  14.008768     1.860841      6.478080  \n",
            "2240  0.128582  13.226968     1.774145      6.399856  \n",
            "2241  0.037235  16.766016     2.019464      6.931675  \n",
            "2242 -0.080210   5.981819     1.429797      5.699900  \n",
            "2243 -0.045542  11.556805     1.642859      6.678127  \n",
            "\n",
            "[2244 rows x 11 columns]\n",
            "Statistical features saved to '/content/drive/MyDrive/MK-DCNN CWRU/NNOISE_0_statistical_features_with_form_and_crest_factors.csv'.\n"
          ]
        }
      ]
    },
    {
      "cell_type": "code",
      "source": [
        "import pandas as pd\n",
        "from sklearn.utils import resample\n",
        "\n",
        "# Load your dataset (replace 'your_dataset.csv' with your actual file)\n",
        "df = pd.read_csv('/content/drive/MyDrive/MK-DCNN CWRU/NNOISE_0_statistical_features_with_form_and_crest_factors.csv')\n",
        "\n",
        "# Display initial class distribution\n",
        "print(\"Initial class distribution:\")\n",
        "print(df['fault'].value_counts())\n",
        "\n",
        "# Target size for undersampling/resampling\n",
        "TARGET_ROWS = 1570\n",
        "\n",
        "# Separate all fault types\n",
        "fault_classes = df['fault'].value_counts()\n",
        "\n",
        "# Determine the number of classes\n",
        "num_classes = len(fault_classes)\n",
        "\n",
        "# Calculate how many samples to take from each class\n",
        "samples_per_class = TARGET_ROWS // num_classes\n",
        "\n",
        "# Initialize a list to store resampled data\n",
        "resampled_data = []\n",
        "\n",
        "# Loop over each class to resample them\n",
        "for fault_class in fault_classes.index:\n",
        "    class_data = df[df['fault'] == fault_class]\n",
        "    if len(class_data) > samples_per_class:\n",
        "        # Undersample\n",
        "        class_data_resampled = resample(class_data, replace=False, n_samples=samples_per_class, random_state=42)\n",
        "    else:\n",
        "        # Upsample\n",
        "        class_data_resampled = resample(class_data, replace=True, n_samples=samples_per_class, random_state=42)\n",
        "\n",
        "    resampled_data.append(class_data_resampled)\n",
        "\n",
        "# Concatenate the resampled data into a single DataFrame\n",
        "balanced_df = pd.concat(resampled_data)\n",
        "\n",
        "# Check if we have the exact number of rows\n",
        "current_rows = len(balanced_df)\n",
        "print(f\"Current rows after equal resampling: {current_rows}\")\n",
        "\n",
        "# If the current rows don't match the target rows, adjust by trimming or adding rows\n",
        "if current_rows > TARGET_ROWS:\n",
        "    # Trim extra rows (if more than target)\n",
        "    balanced_df = balanced_df.head(TARGET_ROWS)\n",
        "elif current_rows < TARGET_ROWS:\n",
        "    # Add rows if fewer than target, by sampling from existing data\n",
        "    remaining_rows = TARGET_ROWS - current_rows\n",
        "    additional_data = balanced_df.sample(n=remaining_rows, replace=True, random_state=42)\n",
        "    balanced_df = pd.concat([balanced_df, additional_data])\n",
        "\n",
        "# Shuffle the final dataset\n",
        "balanced_df = balanced_df.sample(frac=1, random_state=42).reset_index(drop=True)\n",
        "\n",
        "# Display new class distribution\n",
        "print(\"New class distribution:\")\n",
        "print(balanced_df['fault'].value_counts())\n",
        "\n",
        "# Display final row count\n",
        "print(f\"Final row count: {len(balanced_df)}\")\n",
        "\n",
        "# Save the balanced dataset to a CSV file\n",
        "balanced_df.to_csv(\"/content/drive/MyDrive/MK-DCNN CWRU/NNOISE_0_balanced_dataset_equal_resampling_exact_1570.csv\", index=False)\n",
        "print(\"Balanced dataset saved as '/content/drive/MyDrive/MK-DCNN CWRU/NNOISE_0_balanced_dataset_equal_resampling_exact_1570.csv'\")\n"
      ],
      "metadata": {
        "id": "0-DLTbJL0tc6",
        "colab": {
          "base_uri": "https://localhost:8080/"
        },
        "outputId": "c1a55e6e-e901-4256-c55b-2bd11d115b2d"
      },
      "id": "0-DLTbJL0tc6",
      "execution_count": null,
      "outputs": [
        {
          "output_type": "stream",
          "name": "stdout",
          "text": [
            "Initial class distribution:\n",
            "fault\n",
            "215    251\n",
            "240    250\n",
            "176    250\n",
            "203    249\n",
            "191    249\n",
            "124    249\n",
            "137    249\n",
            "228    249\n",
            "111    248\n",
            "Name: count, dtype: int64\n",
            "Current rows after equal resampling: 1566\n",
            "New class distribution:\n",
            "fault\n",
            "111    175\n",
            "137    175\n",
            "228    175\n",
            "191    175\n",
            "124    174\n",
            "203    174\n",
            "176    174\n",
            "240    174\n",
            "215    174\n",
            "Name: count, dtype: int64\n",
            "Final row count: 1570\n",
            "Balanced dataset saved as '/content/drive/MyDrive/MK-DCNN CWRU/NNOISE_0_balanced_dataset_equal_resampling_exact_1570.csv'\n"
          ]
        }
      ]
    },
    {
      "cell_type": "code",
      "source": [
        "balanced_df.shape"
      ],
      "metadata": {
        "id": "NQ3f_WOt7Dld",
        "colab": {
          "base_uri": "https://localhost:8080/"
        },
        "outputId": "b1a3970a-f52d-4266-9e37-b247602dc675"
      },
      "id": "NQ3f_WOt7Dld",
      "execution_count": null,
      "outputs": [
        {
          "output_type": "execute_result",
          "data": {
            "text/plain": [
              "(1570, 11)"
            ]
          },
          "metadata": {},
          "execution_count": 16
        }
      ]
    },
    {
      "cell_type": "code",
      "source": [
        "balanced_df=balanced_df.sort_values(by='fault')"
      ],
      "metadata": {
        "id": "JP_zDzu6_Zkt"
      },
      "id": "JP_zDzu6_Zkt",
      "execution_count": null,
      "outputs": []
    },
    {
      "cell_type": "code",
      "source": [
        "balanced_df"
      ],
      "metadata": {
        "id": "eq6MhY1CAvgD",
        "colab": {
          "base_uri": "https://localhost:8080/",
          "height": 423
        },
        "outputId": "4baa5ded-3135-4849-894b-a3fe01c07e75"
      },
      "id": "eq6MhY1CAvgD",
      "execution_count": null,
      "outputs": [
        {
          "output_type": "execute_result",
          "data": {
            "text/plain": [
              "      fault  window      mean       std       rms       max       min  \\\n",
              "0       111     142  0.017201  0.284272  0.284792  1.543128 -1.460308   \n",
              "1568    111     128  0.012351  0.265459  0.265746  1.291121 -1.453215   \n",
              "1558    111      36  0.016900  0.270977  0.271503  1.566076 -1.365388   \n",
              "44      111       5  0.015156  0.289498  0.289894  1.524770 -1.590066   \n",
              "1556    111     157  0.016559  0.285970  0.286449  1.521223 -1.304472   \n",
              "...     ...     ...       ...       ...       ...       ...       ...   \n",
              "373     240      71  0.018764  0.534298  0.534627  3.378731 -3.277736   \n",
              "17      240      23  0.014437  0.432715  0.432956  2.523197 -2.816165   \n",
              "424     240     146  0.012160  0.666001  0.666112  4.230091 -4.742576   \n",
              "422     240      68  0.015202  0.607570  0.607760  4.381165 -5.046395   \n",
              "472     240     199  0.013498  0.755404  0.755525  5.984560 -5.395285   \n",
              "\n",
              "      skewness   kurtosis  form_factor  crest_factor  \n",
              "0    -0.043963   4.067017     1.429144      5.418441  \n",
              "1568 -0.045666   3.941706     1.416071      4.858474  \n",
              "1558  0.186171   5.532504     1.476498      5.768163  \n",
              "44   -0.045045   4.452422     1.450048      5.259742  \n",
              "1556  0.184899   4.231253     1.448151      5.310621  \n",
              "...        ...        ...          ...           ...  \n",
              "373  -0.443695   9.628761     1.779096      6.319789  \n",
              "17   -0.022964   8.885359     1.679529      5.827842  \n",
              "424  -0.463338  10.695147     1.854338      6.350424  \n",
              "422  -0.677177  20.392828     2.087994      7.208710  \n",
              "472   0.241790  22.208578     2.314423      7.921062  \n",
              "\n",
              "[1570 rows x 11 columns]"
            ],
            "text/html": [
              "\n",
              "  <div id=\"df-939b9b99-980a-4c69-8eeb-196041202e33\" class=\"colab-df-container\">\n",
              "    <div>\n",
              "<style scoped>\n",
              "    .dataframe tbody tr th:only-of-type {\n",
              "        vertical-align: middle;\n",
              "    }\n",
              "\n",
              "    .dataframe tbody tr th {\n",
              "        vertical-align: top;\n",
              "    }\n",
              "\n",
              "    .dataframe thead th {\n",
              "        text-align: right;\n",
              "    }\n",
              "</style>\n",
              "<table border=\"1\" class=\"dataframe\">\n",
              "  <thead>\n",
              "    <tr style=\"text-align: right;\">\n",
              "      <th></th>\n",
              "      <th>fault</th>\n",
              "      <th>window</th>\n",
              "      <th>mean</th>\n",
              "      <th>std</th>\n",
              "      <th>rms</th>\n",
              "      <th>max</th>\n",
              "      <th>min</th>\n",
              "      <th>skewness</th>\n",
              "      <th>kurtosis</th>\n",
              "      <th>form_factor</th>\n",
              "      <th>crest_factor</th>\n",
              "    </tr>\n",
              "  </thead>\n",
              "  <tbody>\n",
              "    <tr>\n",
              "      <th>0</th>\n",
              "      <td>111</td>\n",
              "      <td>142</td>\n",
              "      <td>0.017201</td>\n",
              "      <td>0.284272</td>\n",
              "      <td>0.284792</td>\n",
              "      <td>1.543128</td>\n",
              "      <td>-1.460308</td>\n",
              "      <td>-0.043963</td>\n",
              "      <td>4.067017</td>\n",
              "      <td>1.429144</td>\n",
              "      <td>5.418441</td>\n",
              "    </tr>\n",
              "    <tr>\n",
              "      <th>1568</th>\n",
              "      <td>111</td>\n",
              "      <td>128</td>\n",
              "      <td>0.012351</td>\n",
              "      <td>0.265459</td>\n",
              "      <td>0.265746</td>\n",
              "      <td>1.291121</td>\n",
              "      <td>-1.453215</td>\n",
              "      <td>-0.045666</td>\n",
              "      <td>3.941706</td>\n",
              "      <td>1.416071</td>\n",
              "      <td>4.858474</td>\n",
              "    </tr>\n",
              "    <tr>\n",
              "      <th>1558</th>\n",
              "      <td>111</td>\n",
              "      <td>36</td>\n",
              "      <td>0.016900</td>\n",
              "      <td>0.270977</td>\n",
              "      <td>0.271503</td>\n",
              "      <td>1.566076</td>\n",
              "      <td>-1.365388</td>\n",
              "      <td>0.186171</td>\n",
              "      <td>5.532504</td>\n",
              "      <td>1.476498</td>\n",
              "      <td>5.768163</td>\n",
              "    </tr>\n",
              "    <tr>\n",
              "      <th>44</th>\n",
              "      <td>111</td>\n",
              "      <td>5</td>\n",
              "      <td>0.015156</td>\n",
              "      <td>0.289498</td>\n",
              "      <td>0.289894</td>\n",
              "      <td>1.524770</td>\n",
              "      <td>-1.590066</td>\n",
              "      <td>-0.045045</td>\n",
              "      <td>4.452422</td>\n",
              "      <td>1.450048</td>\n",
              "      <td>5.259742</td>\n",
              "    </tr>\n",
              "    <tr>\n",
              "      <th>1556</th>\n",
              "      <td>111</td>\n",
              "      <td>157</td>\n",
              "      <td>0.016559</td>\n",
              "      <td>0.285970</td>\n",
              "      <td>0.286449</td>\n",
              "      <td>1.521223</td>\n",
              "      <td>-1.304472</td>\n",
              "      <td>0.184899</td>\n",
              "      <td>4.231253</td>\n",
              "      <td>1.448151</td>\n",
              "      <td>5.310621</td>\n",
              "    </tr>\n",
              "    <tr>\n",
              "      <th>...</th>\n",
              "      <td>...</td>\n",
              "      <td>...</td>\n",
              "      <td>...</td>\n",
              "      <td>...</td>\n",
              "      <td>...</td>\n",
              "      <td>...</td>\n",
              "      <td>...</td>\n",
              "      <td>...</td>\n",
              "      <td>...</td>\n",
              "      <td>...</td>\n",
              "      <td>...</td>\n",
              "    </tr>\n",
              "    <tr>\n",
              "      <th>373</th>\n",
              "      <td>240</td>\n",
              "      <td>71</td>\n",
              "      <td>0.018764</td>\n",
              "      <td>0.534298</td>\n",
              "      <td>0.534627</td>\n",
              "      <td>3.378731</td>\n",
              "      <td>-3.277736</td>\n",
              "      <td>-0.443695</td>\n",
              "      <td>9.628761</td>\n",
              "      <td>1.779096</td>\n",
              "      <td>6.319789</td>\n",
              "    </tr>\n",
              "    <tr>\n",
              "      <th>17</th>\n",
              "      <td>240</td>\n",
              "      <td>23</td>\n",
              "      <td>0.014437</td>\n",
              "      <td>0.432715</td>\n",
              "      <td>0.432956</td>\n",
              "      <td>2.523197</td>\n",
              "      <td>-2.816165</td>\n",
              "      <td>-0.022964</td>\n",
              "      <td>8.885359</td>\n",
              "      <td>1.679529</td>\n",
              "      <td>5.827842</td>\n",
              "    </tr>\n",
              "    <tr>\n",
              "      <th>424</th>\n",
              "      <td>240</td>\n",
              "      <td>146</td>\n",
              "      <td>0.012160</td>\n",
              "      <td>0.666001</td>\n",
              "      <td>0.666112</td>\n",
              "      <td>4.230091</td>\n",
              "      <td>-4.742576</td>\n",
              "      <td>-0.463338</td>\n",
              "      <td>10.695147</td>\n",
              "      <td>1.854338</td>\n",
              "      <td>6.350424</td>\n",
              "    </tr>\n",
              "    <tr>\n",
              "      <th>422</th>\n",
              "      <td>240</td>\n",
              "      <td>68</td>\n",
              "      <td>0.015202</td>\n",
              "      <td>0.607570</td>\n",
              "      <td>0.607760</td>\n",
              "      <td>4.381165</td>\n",
              "      <td>-5.046395</td>\n",
              "      <td>-0.677177</td>\n",
              "      <td>20.392828</td>\n",
              "      <td>2.087994</td>\n",
              "      <td>7.208710</td>\n",
              "    </tr>\n",
              "    <tr>\n",
              "      <th>472</th>\n",
              "      <td>240</td>\n",
              "      <td>199</td>\n",
              "      <td>0.013498</td>\n",
              "      <td>0.755404</td>\n",
              "      <td>0.755525</td>\n",
              "      <td>5.984560</td>\n",
              "      <td>-5.395285</td>\n",
              "      <td>0.241790</td>\n",
              "      <td>22.208578</td>\n",
              "      <td>2.314423</td>\n",
              "      <td>7.921062</td>\n",
              "    </tr>\n",
              "  </tbody>\n",
              "</table>\n",
              "<p>1570 rows × 11 columns</p>\n",
              "</div>\n",
              "    <div class=\"colab-df-buttons\">\n",
              "\n",
              "  <div class=\"colab-df-container\">\n",
              "    <button class=\"colab-df-convert\" onclick=\"convertToInteractive('df-939b9b99-980a-4c69-8eeb-196041202e33')\"\n",
              "            title=\"Convert this dataframe to an interactive table.\"\n",
              "            style=\"display:none;\">\n",
              "\n",
              "  <svg xmlns=\"http://www.w3.org/2000/svg\" height=\"24px\" viewBox=\"0 -960 960 960\">\n",
              "    <path d=\"M120-120v-720h720v720H120Zm60-500h600v-160H180v160Zm220 220h160v-160H400v160Zm0 220h160v-160H400v160ZM180-400h160v-160H180v160Zm440 0h160v-160H620v160ZM180-180h160v-160H180v160Zm440 0h160v-160H620v160Z\"/>\n",
              "  </svg>\n",
              "    </button>\n",
              "\n",
              "  <style>\n",
              "    .colab-df-container {\n",
              "      display:flex;\n",
              "      gap: 12px;\n",
              "    }\n",
              "\n",
              "    .colab-df-convert {\n",
              "      background-color: #E8F0FE;\n",
              "      border: none;\n",
              "      border-radius: 50%;\n",
              "      cursor: pointer;\n",
              "      display: none;\n",
              "      fill: #1967D2;\n",
              "      height: 32px;\n",
              "      padding: 0 0 0 0;\n",
              "      width: 32px;\n",
              "    }\n",
              "\n",
              "    .colab-df-convert:hover {\n",
              "      background-color: #E2EBFA;\n",
              "      box-shadow: 0px 1px 2px rgba(60, 64, 67, 0.3), 0px 1px 3px 1px rgba(60, 64, 67, 0.15);\n",
              "      fill: #174EA6;\n",
              "    }\n",
              "\n",
              "    .colab-df-buttons div {\n",
              "      margin-bottom: 4px;\n",
              "    }\n",
              "\n",
              "    [theme=dark] .colab-df-convert {\n",
              "      background-color: #3B4455;\n",
              "      fill: #D2E3FC;\n",
              "    }\n",
              "\n",
              "    [theme=dark] .colab-df-convert:hover {\n",
              "      background-color: #434B5C;\n",
              "      box-shadow: 0px 1px 3px 1px rgba(0, 0, 0, 0.15);\n",
              "      filter: drop-shadow(0px 1px 2px rgba(0, 0, 0, 0.3));\n",
              "      fill: #FFFFFF;\n",
              "    }\n",
              "  </style>\n",
              "\n",
              "    <script>\n",
              "      const buttonEl =\n",
              "        document.querySelector('#df-939b9b99-980a-4c69-8eeb-196041202e33 button.colab-df-convert');\n",
              "      buttonEl.style.display =\n",
              "        google.colab.kernel.accessAllowed ? 'block' : 'none';\n",
              "\n",
              "      async function convertToInteractive(key) {\n",
              "        const element = document.querySelector('#df-939b9b99-980a-4c69-8eeb-196041202e33');\n",
              "        const dataTable =\n",
              "          await google.colab.kernel.invokeFunction('convertToInteractive',\n",
              "                                                    [key], {});\n",
              "        if (!dataTable) return;\n",
              "\n",
              "        const docLinkHtml = 'Like what you see? Visit the ' +\n",
              "          '<a target=\"_blank\" href=https://colab.research.google.com/notebooks/data_table.ipynb>data table notebook</a>'\n",
              "          + ' to learn more about interactive tables.';\n",
              "        element.innerHTML = '';\n",
              "        dataTable['output_type'] = 'display_data';\n",
              "        await google.colab.output.renderOutput(dataTable, element);\n",
              "        const docLink = document.createElement('div');\n",
              "        docLink.innerHTML = docLinkHtml;\n",
              "        element.appendChild(docLink);\n",
              "      }\n",
              "    </script>\n",
              "  </div>\n",
              "\n",
              "\n",
              "    <div id=\"df-d867336e-3635-4d7a-b405-d24955d6f01b\">\n",
              "      <button class=\"colab-df-quickchart\" onclick=\"quickchart('df-d867336e-3635-4d7a-b405-d24955d6f01b')\"\n",
              "                title=\"Suggest charts\"\n",
              "                style=\"display:none;\">\n",
              "\n",
              "<svg xmlns=\"http://www.w3.org/2000/svg\" height=\"24px\"viewBox=\"0 0 24 24\"\n",
              "     width=\"24px\">\n",
              "    <g>\n",
              "        <path d=\"M19 3H5c-1.1 0-2 .9-2 2v14c0 1.1.9 2 2 2h14c1.1 0 2-.9 2-2V5c0-1.1-.9-2-2-2zM9 17H7v-7h2v7zm4 0h-2V7h2v10zm4 0h-2v-4h2v4z\"/>\n",
              "    </g>\n",
              "</svg>\n",
              "      </button>\n",
              "\n",
              "<style>\n",
              "  .colab-df-quickchart {\n",
              "      --bg-color: #E8F0FE;\n",
              "      --fill-color: #1967D2;\n",
              "      --hover-bg-color: #E2EBFA;\n",
              "      --hover-fill-color: #174EA6;\n",
              "      --disabled-fill-color: #AAA;\n",
              "      --disabled-bg-color: #DDD;\n",
              "  }\n",
              "\n",
              "  [theme=dark] .colab-df-quickchart {\n",
              "      --bg-color: #3B4455;\n",
              "      --fill-color: #D2E3FC;\n",
              "      --hover-bg-color: #434B5C;\n",
              "      --hover-fill-color: #FFFFFF;\n",
              "      --disabled-bg-color: #3B4455;\n",
              "      --disabled-fill-color: #666;\n",
              "  }\n",
              "\n",
              "  .colab-df-quickchart {\n",
              "    background-color: var(--bg-color);\n",
              "    border: none;\n",
              "    border-radius: 50%;\n",
              "    cursor: pointer;\n",
              "    display: none;\n",
              "    fill: var(--fill-color);\n",
              "    height: 32px;\n",
              "    padding: 0;\n",
              "    width: 32px;\n",
              "  }\n",
              "\n",
              "  .colab-df-quickchart:hover {\n",
              "    background-color: var(--hover-bg-color);\n",
              "    box-shadow: 0 1px 2px rgba(60, 64, 67, 0.3), 0 1px 3px 1px rgba(60, 64, 67, 0.15);\n",
              "    fill: var(--button-hover-fill-color);\n",
              "  }\n",
              "\n",
              "  .colab-df-quickchart-complete:disabled,\n",
              "  .colab-df-quickchart-complete:disabled:hover {\n",
              "    background-color: var(--disabled-bg-color);\n",
              "    fill: var(--disabled-fill-color);\n",
              "    box-shadow: none;\n",
              "  }\n",
              "\n",
              "  .colab-df-spinner {\n",
              "    border: 2px solid var(--fill-color);\n",
              "    border-color: transparent;\n",
              "    border-bottom-color: var(--fill-color);\n",
              "    animation:\n",
              "      spin 1s steps(1) infinite;\n",
              "  }\n",
              "\n",
              "  @keyframes spin {\n",
              "    0% {\n",
              "      border-color: transparent;\n",
              "      border-bottom-color: var(--fill-color);\n",
              "      border-left-color: var(--fill-color);\n",
              "    }\n",
              "    20% {\n",
              "      border-color: transparent;\n",
              "      border-left-color: var(--fill-color);\n",
              "      border-top-color: var(--fill-color);\n",
              "    }\n",
              "    30% {\n",
              "      border-color: transparent;\n",
              "      border-left-color: var(--fill-color);\n",
              "      border-top-color: var(--fill-color);\n",
              "      border-right-color: var(--fill-color);\n",
              "    }\n",
              "    40% {\n",
              "      border-color: transparent;\n",
              "      border-right-color: var(--fill-color);\n",
              "      border-top-color: var(--fill-color);\n",
              "    }\n",
              "    60% {\n",
              "      border-color: transparent;\n",
              "      border-right-color: var(--fill-color);\n",
              "    }\n",
              "    80% {\n",
              "      border-color: transparent;\n",
              "      border-right-color: var(--fill-color);\n",
              "      border-bottom-color: var(--fill-color);\n",
              "    }\n",
              "    90% {\n",
              "      border-color: transparent;\n",
              "      border-bottom-color: var(--fill-color);\n",
              "    }\n",
              "  }\n",
              "</style>\n",
              "\n",
              "      <script>\n",
              "        async function quickchart(key) {\n",
              "          const quickchartButtonEl =\n",
              "            document.querySelector('#' + key + ' button');\n",
              "          quickchartButtonEl.disabled = true;  // To prevent multiple clicks.\n",
              "          quickchartButtonEl.classList.add('colab-df-spinner');\n",
              "          try {\n",
              "            const charts = await google.colab.kernel.invokeFunction(\n",
              "                'suggestCharts', [key], {});\n",
              "          } catch (error) {\n",
              "            console.error('Error during call to suggestCharts:', error);\n",
              "          }\n",
              "          quickchartButtonEl.classList.remove('colab-df-spinner');\n",
              "          quickchartButtonEl.classList.add('colab-df-quickchart-complete');\n",
              "        }\n",
              "        (() => {\n",
              "          let quickchartButtonEl =\n",
              "            document.querySelector('#df-d867336e-3635-4d7a-b405-d24955d6f01b button');\n",
              "          quickchartButtonEl.style.display =\n",
              "            google.colab.kernel.accessAllowed ? 'block' : 'none';\n",
              "        })();\n",
              "      </script>\n",
              "    </div>\n",
              "\n",
              "  <div id=\"id_ccee1c6c-659a-498f-8f16-dbeb99b5953e\">\n",
              "    <style>\n",
              "      .colab-df-generate {\n",
              "        background-color: #E8F0FE;\n",
              "        border: none;\n",
              "        border-radius: 50%;\n",
              "        cursor: pointer;\n",
              "        display: none;\n",
              "        fill: #1967D2;\n",
              "        height: 32px;\n",
              "        padding: 0 0 0 0;\n",
              "        width: 32px;\n",
              "      }\n",
              "\n",
              "      .colab-df-generate:hover {\n",
              "        background-color: #E2EBFA;\n",
              "        box-shadow: 0px 1px 2px rgba(60, 64, 67, 0.3), 0px 1px 3px 1px rgba(60, 64, 67, 0.15);\n",
              "        fill: #174EA6;\n",
              "      }\n",
              "\n",
              "      [theme=dark] .colab-df-generate {\n",
              "        background-color: #3B4455;\n",
              "        fill: #D2E3FC;\n",
              "      }\n",
              "\n",
              "      [theme=dark] .colab-df-generate:hover {\n",
              "        background-color: #434B5C;\n",
              "        box-shadow: 0px 1px 3px 1px rgba(0, 0, 0, 0.15);\n",
              "        filter: drop-shadow(0px 1px 2px rgba(0, 0, 0, 0.3));\n",
              "        fill: #FFFFFF;\n",
              "      }\n",
              "    </style>\n",
              "    <button class=\"colab-df-generate\" onclick=\"generateWithVariable('balanced_df')\"\n",
              "            title=\"Generate code using this dataframe.\"\n",
              "            style=\"display:none;\">\n",
              "\n",
              "  <svg xmlns=\"http://www.w3.org/2000/svg\" height=\"24px\"viewBox=\"0 0 24 24\"\n",
              "       width=\"24px\">\n",
              "    <path d=\"M7,19H8.4L18.45,9,17,7.55,7,17.6ZM5,21V16.75L18.45,3.32a2,2,0,0,1,2.83,0l1.4,1.43a1.91,1.91,0,0,1,.58,1.4,1.91,1.91,0,0,1-.58,1.4L9.25,21ZM18.45,9,17,7.55Zm-12,3A5.31,5.31,0,0,0,4.9,8.1,5.31,5.31,0,0,0,1,6.5,5.31,5.31,0,0,0,4.9,4.9,5.31,5.31,0,0,0,6.5,1,5.31,5.31,0,0,0,8.1,4.9,5.31,5.31,0,0,0,12,6.5,5.46,5.46,0,0,0,6.5,12Z\"/>\n",
              "  </svg>\n",
              "    </button>\n",
              "    <script>\n",
              "      (() => {\n",
              "      const buttonEl =\n",
              "        document.querySelector('#id_ccee1c6c-659a-498f-8f16-dbeb99b5953e button.colab-df-generate');\n",
              "      buttonEl.style.display =\n",
              "        google.colab.kernel.accessAllowed ? 'block' : 'none';\n",
              "\n",
              "      buttonEl.onclick = () => {\n",
              "        google.colab.notebook.generateWithVariable('balanced_df');\n",
              "      }\n",
              "      })();\n",
              "    </script>\n",
              "  </div>\n",
              "\n",
              "    </div>\n",
              "  </div>\n"
            ],
            "application/vnd.google.colaboratory.intrinsic+json": {
              "type": "dataframe",
              "variable_name": "balanced_df",
              "summary": "{\n  \"name\": \"balanced_df\",\n  \"rows\": 1570,\n  \"fields\": [\n    {\n      \"column\": \"fault\",\n      \"properties\": {\n        \"dtype\": \"number\",\n        \"std\": 44,\n        \"min\": 111,\n        \"max\": 240,\n        \"num_unique_values\": 9,\n        \"samples\": [\n          228,\n          124,\n          203\n        ],\n        \"semantic_type\": \"\",\n        \"description\": \"\"\n      }\n    },\n    {\n      \"column\": \"window\",\n      \"properties\": {\n        \"dtype\": \"number\",\n        \"std\": 71,\n        \"min\": 1,\n        \"max\": 250,\n        \"num_unique_values\": 190,\n        \"samples\": [\n          241,\n          229,\n          197\n        ],\n        \"semantic_type\": \"\",\n        \"description\": \"\"\n      }\n    },\n    {\n      \"column\": \"mean\",\n      \"properties\": {\n        \"dtype\": \"number\",\n        \"std\": 0.003203939960584343,\n        \"min\": 0.004926999316099,\n        \"max\": 0.0239915396609955,\n        \"num_unique_values\": 1561,\n        \"samples\": [\n          0.0152144286691287,\n          0.0113609353240112,\n          0.0128785949938448\n        ],\n        \"semantic_type\": \"\",\n        \"description\": \"\"\n      }\n    },\n    {\n      \"column\": \"std\",\n      \"properties\": {\n        \"dtype\": \"number\",\n        \"std\": 0.30915274929304276,\n        \"min\": 0.0788515965546335,\n        \"max\": 1.178302815410755,\n        \"num_unique_values\": 1566,\n        \"samples\": [\n          0.162153910342449,\n          0.1370979877150281,\n          0.5865471046750814\n        ],\n        \"semantic_type\": \"\",\n        \"description\": \"\"\n      }\n    },\n    {\n      \"column\": \"rms\",\n      \"properties\": {\n        \"dtype\": \"number\",\n        \"std\": 0.30893054155921457,\n        \"min\": 0.079508764379051,\n        \"max\": 1.1783847497403548,\n        \"num_unique_values\": 1566,\n        \"samples\": [\n          0.1632792622036064,\n          0.1380653546776841,\n          0.5867615368176955\n        ],\n        \"semantic_type\": \"\",\n        \"description\": \"\"\n      }\n    },\n    {\n      \"column\": \"max\",\n      \"properties\": {\n        \"dtype\": \"number\",\n        \"std\": 1.5830178529879444,\n        \"min\": 0.2682793846153846,\n        \"max\": 7.323365333333333,\n        \"num_unique_values\": 1301,\n        \"samples\": [\n          1.85922,\n          1.054968,\n          4.725465333333333\n        ],\n        \"semantic_type\": \"\",\n        \"description\": \"\"\n      }\n    },\n    {\n      \"column\": \"min\",\n      \"properties\": {\n        \"dtype\": \"number\",\n        \"std\": 1.596104271544796,\n        \"min\": -6.686514666666666,\n        \"max\": -0.1831643076923076,\n        \"num_unique_values\": 1319,\n        \"samples\": [\n          -1.2398012307692308,\n          -0.7808473846153846,\n          -0.8603298461538461\n        ],\n        \"semantic_type\": \"\",\n        \"description\": \"\"\n      }\n    },\n    {\n      \"column\": \"skewness\",\n      \"properties\": {\n        \"dtype\": \"number\",\n        \"std\": 0.20397021266751092,\n        \"min\": -1.1111534281744555,\n        \"max\": 1.016284851233214,\n        \"num_unique_values\": 1566,\n        \"samples\": [\n          0.0234252710191879,\n          0.0985741542159924,\n          -0.925734846845178\n        ],\n        \"semantic_type\": \"\",\n        \"description\": \"\"\n      }\n    },\n    {\n      \"column\": \"kurtosis\",\n      \"properties\": {\n        \"dtype\": \"number\",\n        \"std\": 5.521057057079508,\n        \"min\": -0.5317262574087676,\n        \"max\": 29.03618654586804,\n        \"num_unique_values\": 1566,\n        \"samples\": [\n          5.139638176647809,\n          -0.2672483808561292,\n          21.329759495460195\n        ],\n        \"semantic_type\": \"\",\n        \"description\": \"\"\n      }\n    },\n    {\n      \"column\": \"form_factor\",\n      \"properties\": {\n        \"dtype\": \"number\",\n        \"std\": 0.2308901345230066,\n        \"min\": 1.211982438898609,\n        \"max\": 2.314423114971896,\n        \"num_unique_values\": 1566,\n        \"samples\": [\n          1.4388233764745948,\n          1.241394665167146,\n          2.0979120408422536\n        ],\n        \"semantic_type\": \"\",\n        \"description\": \"\"\n      }\n    },\n    {\n      \"column\": \"crest_factor\",\n      \"properties\": {\n        \"dtype\": \"number\",\n        \"std\": 1.362750651129367,\n        \"min\": 2.6021400437271827,\n        \"max\": 10.01980277025321,\n        \"num_unique_values\": 1566,\n        \"samples\": [\n          5.124676104243514,\n          3.390661793248474,\n          6.827986752043655\n        ],\n        \"semantic_type\": \"\",\n        \"description\": \"\"\n      }\n    }\n  ]\n}"
            }
          },
          "metadata": {},
          "execution_count": 18
        }
      ]
    },
    {
      "cell_type": "code",
      "source": [
        "import pandas as pd\n",
        "from sklearn.preprocessing import StandardScaler\n",
        "from sklearn.manifold import TSNE\n",
        "import matplotlib.pyplot as plt\n",
        "\n",
        "\n",
        "# Sort the dataset by the 'Fault' column\n",
        "balanced_df = balanced_df.sort_values(by='fault')\n",
        "\n",
        "# Separate features and target variable\n",
        "X = balanced_df.drop(columns=['fault'])  # Replace 'Fault' with actual target column name\n",
        "y = balanced_df['fault']\n",
        "\n",
        "# Normalize the feature columns using StandardScaler\n",
        "scaler = StandardScaler()\n",
        "X_normalized = pd.DataFrame(scaler.fit_transform(X), columns=X.columns)\n",
        "\n",
        "# Concatenate the normalized features with the target variable\n",
        "STAT_Motor_Fault_dataset_normalized = pd.concat([X_normalized, y.reset_index(drop=True)], axis=1)\n",
        "\n",
        "# Sort the normalized dataset by 'Fault' column\n",
        "STAT_Motor_Fault_dataset_normalized = STAT_Motor_Fault_dataset_normalized.sort_values(by='fault')\n",
        "\n",
        "# Apply t-SNE for dimensionality reduction\n",
        "tsne = TSNE(n_components=2, random_state=42)  # 2D t-SNE\n",
        "X_tsne = tsne.fit_transform(X_normalized)\n",
        "\n",
        "# Create a DataFrame for t-SNE results\n",
        "tSNE_representation = pd.DataFrame(X_tsne, columns=['t-SNE 1', 't-SNE 2'])\n",
        "tSNE_representation['fault'] = y.reset_index(drop=True)\n",
        "\n",
        "# Display the t-SNE representation\n",
        "print(tSNE_representation.head())\n",
        "\n",
        "# Optional: Visualization of t-SNE representation\n",
        "plt.figure(figsize=(8, 6))\n",
        "for label in tSNE_representation['fault'].unique():\n",
        "    subset = tSNE_representation[tSNE_representation['fault'] == label]\n",
        "    plt.scatter(subset['t-SNE 1'], subset['t-SNE 2'], label=f'fault {label}', alpha=0.7)\n",
        "\n",
        "plt.title('t-SNE Representation of Motor Fault Dataset')\n",
        "plt.xlabel('t-SNE 1')\n",
        "plt.ylabel('t-SNE 2')\n",
        "plt.legend()\n",
        "plt.show()\n"
      ],
      "metadata": {
        "id": "tV7aspjE3R4f",
        "colab": {
          "base_uri": "https://localhost:8080/",
          "height": 674
        },
        "outputId": "fb56a829-2ce6-4627-e65e-137d3554ebd7"
      },
      "id": "tV7aspjE3R4f",
      "execution_count": null,
      "outputs": [
        {
          "output_type": "stream",
          "name": "stdout",
          "text": [
            "    t-SNE 1    t-SNE 2  fault\n",
            "0 -3.602815  20.583019    111\n",
            "1  5.840909   8.280206    111\n",
            "2  1.734964  31.483738    111\n",
            "3 -9.728330  19.856316    111\n",
            "4  1.410530  26.166130    111\n"
          ]
        },
        {
          "output_type": "display_data",
          "data": {
            "text/plain": [
              "<Figure size 800x600 with 1 Axes>"
            ],
            "image/png": "[encoded data removed]"
          },
          "metadata": {}
        }
      ]
    },
    {
      "cell_type": "code",
      "source": [
        "tSNE_representation"
      ],
      "metadata": {
        "id": "QMwOLwssDgHU",
        "colab": {
          "base_uri": "https://localhost:8080/",
          "height": 423
        },
        "outputId": "a0de32b4-50a5-434f-e065-574e643bed94"
      },
      "id": "QMwOLwssDgHU",
      "execution_count": null,
      "outputs": [
        {
          "output_type": "execute_result",
          "data": {
            "text/plain": [
              "        t-SNE 1    t-SNE 2  fault\n",
              "0     -3.602815  20.583019    111\n",
              "1      5.840909   8.280206    111\n",
              "2      1.734964  31.483738    111\n",
              "3     -9.728330  19.856316    111\n",
              "4      1.410530  26.166130    111\n",
              "...         ...        ...    ...\n",
              "1565 -30.531748  10.885542    240\n",
              "1566 -41.859253  11.096902    240\n",
              "1567 -32.347752   8.962509    240\n",
              "1568 -41.315193  21.024992    240\n",
              "1569 -37.647755  13.293298    240\n",
              "\n",
              "[1570 rows x 3 columns]"
            ],
            "text/html": [
              "\n",
              "  <div id=\"df-60b6b5c1-6119-4bbc-a864-3b8201e2aa76\" class=\"colab-df-container\">\n",
              "    <div>\n",
              "<style scoped>\n",
              "    .dataframe tbody tr th:only-of-type {\n",
              "        vertical-align: middle;\n",
              "    }\n",
              "\n",
              "    .dataframe tbody tr th {\n",
              "        vertical-align: top;\n",
              "    }\n",
              "\n",
              "    .dataframe thead th {\n",
              "        text-align: right;\n",
              "    }\n",
              "</style>\n",
              "<table border=\"1\" class=\"dataframe\">\n",
              "  <thead>\n",
              "    <tr style=\"text-align: right;\">\n",
              "      <th></th>\n",
              "      <th>t-SNE 1</th>\n",
              "      <th>t-SNE 2</th>\n",
              "      <th>fault</th>\n",
              "    </tr>\n",
              "  </thead>\n",
              "  <tbody>\n",
              "    <tr>\n",
              "      <th>0</th>\n",
              "      <td>-3.602815</td>\n",
              "      <td>20.583019</td>\n",
              "      <td>111</td>\n",
              "    </tr>\n",
              "    <tr>\n",
              "      <th>1</th>\n",
              "      <td>5.840909</td>\n",
              "      <td>8.280206</td>\n",
              "      <td>111</td>\n",
              "    </tr>\n",
              "    <tr>\n",
              "      <th>2</th>\n",
              "      <td>1.734964</td>\n",
              "      <td>31.483738</td>\n",
              "      <td>111</td>\n",
              "    </tr>\n",
              "    <tr>\n",
              "      <th>3</th>\n",
              "      <td>-9.728330</td>\n",
              "      <td>19.856316</td>\n",
              "      <td>111</td>\n",
              "    </tr>\n",
              "    <tr>\n",
              "      <th>4</th>\n",
              "      <td>1.410530</td>\n",
              "      <td>26.166130</td>\n",
              "      <td>111</td>\n",
              "    </tr>\n",
              "    <tr>\n",
              "      <th>...</th>\n",
              "      <td>...</td>\n",
              "      <td>...</td>\n",
              "      <td>...</td>\n",
              "    </tr>\n",
              "    <tr>\n",
              "      <th>1565</th>\n",
              "      <td>-30.531748</td>\n",
              "      <td>10.885542</td>\n",
              "      <td>240</td>\n",
              "    </tr>\n",
              "    <tr>\n",
              "      <th>1566</th>\n",
              "      <td>-41.859253</td>\n",
              "      <td>11.096902</td>\n",
              "      <td>240</td>\n",
              "    </tr>\n",
              "    <tr>\n",
              "      <th>1567</th>\n",
              "      <td>-32.347752</td>\n",
              "      <td>8.962509</td>\n",
              "      <td>240</td>\n",
              "    </tr>\n",
              "    <tr>\n",
              "      <th>1568</th>\n",
              "      <td>-41.315193</td>\n",
              "      <td>21.024992</td>\n",
              "      <td>240</td>\n",
              "    </tr>\n",
              "    <tr>\n",
              "      <th>1569</th>\n",
              "      <td>-37.647755</td>\n",
              "      <td>13.293298</td>\n",
              "      <td>240</td>\n",
              "    </tr>\n",
              "  </tbody>\n",
              "</table>\n",
              "<p>1570 rows × 3 columns</p>\n",
              "</div>\n",
              "    <div class=\"colab-df-buttons\">\n",
              "\n",
              "  <div class=\"colab-df-container\">\n",
              "    <button class=\"colab-df-convert\" onclick=\"convertToInteractive('df-60b6b5c1-6119-4bbc-a864-3b8201e2aa76')\"\n",
              "            title=\"Convert this dataframe to an interactive table.\"\n",
              "            style=\"display:none;\">\n",
              "\n",
              "  <svg xmlns=\"http://www.w3.org/2000/svg\" height=\"24px\" viewBox=\"0 -960 960 960\">\n",
              "    <path d=\"M120-120v-720h720v720H120Zm60-500h600v-160H180v160Zm220 220h160v-160H400v160Zm0 220h160v-160H400v160ZM180-400h160v-160H180v160Zm440 0h160v-160H620v160ZM180-180h160v-160H180v160Zm440 0h160v-160H620v160Z\"/>\n",
              "  </svg>\n",
              "    </button>\n",
              "\n",
              "  <style>\n",
              "    .colab-df-container {\n",
              "      display:flex;\n",
              "      gap: 12px;\n",
              "    }\n",
              "\n",
              "    .colab-df-convert {\n",
              "      background-color: #E8F0FE;\n",
              "      border: none;\n",
              "      border-radius: 50%;\n",
              "      cursor: pointer;\n",
              "      display: none;\n",
              "      fill: #1967D2;\n",
              "      height: 32px;\n",
              "      padding: 0 0 0 0;\n",
              "      width: 32px;\n",
              "    }\n",
              "\n",
              "    .colab-df-convert:hover {\n",
              "      background-color: #E2EBFA;\n",
              "      box-shadow: 0px 1px 2px rgba(60, 64, 67, 0.3), 0px 1px 3px 1px rgba(60, 64, 67, 0.15);\n",
              "      fill: #174EA6;\n",
              "    }\n",
              "\n",
              "    .colab-df-buttons div {\n",
              "      margin-bottom: 4px;\n",
              "    }\n",
              "\n",
              "    [theme=dark] .colab-df-convert {\n",
              "      background-color: #3B4455;\n",
              "      fill: #D2E3FC;\n",
              "    }\n",
              "\n",
              "    [theme=dark] .colab-df-convert:hover {\n",
              "      background-color: #434B5C;\n",
              "      box-shadow: 0px 1px 3px 1px rgba(0, 0, 0, 0.15);\n",
              "      filter: drop-shadow(0px 1px 2px rgba(0, 0, 0, 0.3));\n",
              "      fill: #FFFFFF;\n",
              "    }\n",
              "  </style>\n",
              "\n",
              "    <script>\n",
              "      const buttonEl =\n",
              "        document.querySelector('#df-60b6b5c1-6119-4bbc-a864-3b8201e2aa76 button.colab-df-convert');\n",
              "      buttonEl.style.display =\n",
              "        google.colab.kernel.accessAllowed ? 'block' : 'none';\n",
              "\n",
              "      async function convertToInteractive(key) {\n",
              "        const element = document.querySelector('#df-60b6b5c1-6119-4bbc-a864-3b8201e2aa76');\n",
              "        const dataTable =\n",
              "          await google.colab.kernel.invokeFunction('convertToInteractive',\n",
              "                                                    [key], {});\n",
              "        if (!dataTable) return;\n",
              "\n",
              "        const docLinkHtml = 'Like what you see? Visit the ' +\n",
              "          '<a target=\"_blank\" href=https://colab.research.google.com/notebooks/data_table.ipynb>data table notebook</a>'\n",
              "          + ' to learn more about interactive tables.';\n",
              "        element.innerHTML = '';\n",
              "        dataTable['output_type'] = 'display_data';\n",
              "        await google.colab.output.renderOutput(dataTable, element);\n",
              "        const docLink = document.createElement('div');\n",
              "        docLink.innerHTML = docLinkHtml;\n",
              "        element.appendChild(docLink);\n",
              "      }\n",
              "    </script>\n",
              "  </div>\n",
              "\n",
              "\n",
              "    <div id=\"df-121fb23e-43e5-45d1-aa35-6ed456081879\">\n",
              "      <button class=\"colab-df-quickchart\" onclick=\"quickchart('df-121fb23e-43e5-45d1-aa35-6ed456081879')\"\n",
              "                title=\"Suggest charts\"\n",
              "                style=\"display:none;\">\n",
              "\n",
              "<svg xmlns=\"http://www.w3.org/2000/svg\" height=\"24px\"viewBox=\"0 0 24 24\"\n",
              "     width=\"24px\">\n",
              "    <g>\n",
              "        <path d=\"M19 3H5c-1.1 0-2 .9-2 2v14c0 1.1.9 2 2 2h14c1.1 0 2-.9 2-2V5c0-1.1-.9-2-2-2zM9 17H7v-7h2v7zm4 0h-2V7h2v10zm4 0h-2v-4h2v4z\"/>\n",
              "    </g>\n",
              "</svg>\n",
              "      </button>\n",
              "\n",
              "<style>\n",
              "  .colab-df-quickchart {\n",
              "      --bg-color: #E8F0FE;\n",
              "      --fill-color: #1967D2;\n",
              "      --hover-bg-color: #E2EBFA;\n",
              "      --hover-fill-color: #174EA6;\n",
              "      --disabled-fill-color: #AAA;\n",
              "      --disabled-bg-color: #DDD;\n",
              "  }\n",
              "\n",
              "  [theme=dark] .colab-df-quickchart {\n",
              "      --bg-color: #3B4455;\n",
              "      --fill-color: #D2E3FC;\n",
              "      --hover-bg-color: #434B5C;\n",
              "      --hover-fill-color: #FFFFFF;\n",
              "      --disabled-bg-color: #3B4455;\n",
              "      --disabled-fill-color: #666;\n",
              "  }\n",
              "\n",
              "  .colab-df-quickchart {\n",
              "    background-color: var(--bg-color);\n",
              "    border: none;\n",
              "    border-radius: 50%;\n",
              "    cursor: pointer;\n",
              "    display: none;\n",
              "    fill: var(--fill-color);\n",
              "    height: 32px;\n",
              "    padding: 0;\n",
              "    width: 32px;\n",
              "  }\n",
              "\n",
              "  .colab-df-quickchart:hover {\n",
              "    background-color: var(--hover-bg-color);\n",
              "    box-shadow: 0 1px 2px rgba(60, 64, 67, 0.3), 0 1px 3px 1px rgba(60, 64, 67, 0.15);\n",
              "    fill: var(--button-hover-fill-color);\n",
              "  }\n",
              "\n",
              "  .colab-df-quickchart-complete:disabled,\n",
              "  .colab-df-quickchart-complete:disabled:hover {\n",
              "    background-color: var(--disabled-bg-color);\n",
              "    fill: var(--disabled-fill-color);\n",
              "    box-shadow: none;\n",
              "  }\n",
              "\n",
              "  .colab-df-spinner {\n",
              "    border: 2px solid var(--fill-color);\n",
              "    border-color: transparent;\n",
              "    border-bottom-color: var(--fill-color);\n",
              "    animation:\n",
              "      spin 1s steps(1) infinite;\n",
              "  }\n",
              "\n",
              "  @keyframes spin {\n",
              "    0% {\n",
              "      border-color: transparent;\n",
              "      border-bottom-color: var(--fill-color);\n",
              "      border-left-color: var(--fill-color);\n",
              "    }\n",
              "    20% {\n",
              "      border-color: transparent;\n",
              "      border-left-color: var(--fill-color);\n",
              "      border-top-color: var(--fill-color);\n",
              "    }\n",
              "    30% {\n",
              "      border-color: transparent;\n",
              "      border-left-color: var(--fill-color);\n",
              "      border-top-color: var(--fill-color);\n",
              "      border-right-color: var(--fill-color);\n",
              "    }\n",
              "    40% {\n",
              "      border-color: transparent;\n",
              "      border-right-color: var(--fill-color);\n",
              "      border-top-color: var(--fill-color);\n",
              "    }\n",
              "    60% {\n",
              "      border-color: transparent;\n",
              "      border-right-color: var(--fill-color);\n",
              "    }\n",
              "    80% {\n",
              "      border-color: transparent;\n",
              "      border-right-color: var(--fill-color);\n",
              "      border-bottom-color: var(--fill-color);\n",
              "    }\n",
              "    90% {\n",
              "      border-color: transparent;\n",
              "      border-bottom-color: var(--fill-color);\n",
              "    }\n",
              "  }\n",
              "</style>\n",
              "\n",
              "      <script>\n",
              "        async function quickchart(key) {\n",
              "          const quickchartButtonEl =\n",
              "            document.querySelector('#' + key + ' button');\n",
              "          quickchartButtonEl.disabled = true;  // To prevent multiple clicks.\n",
              "          quickchartButtonEl.classList.add('colab-df-spinner');\n",
              "          try {\n",
              "            const charts = await google.colab.kernel.invokeFunction(\n",
              "                'suggestCharts', [key], {});\n",
              "          } catch (error) {\n",
              "            console.error('Error during call to suggestCharts:', error);\n",
              "          }\n",
              "          quickchartButtonEl.classList.remove('colab-df-spinner');\n",
              "          quickchartButtonEl.classList.add('colab-df-quickchart-complete');\n",
              "        }\n",
              "        (() => {\n",
              "          let quickchartButtonEl =\n",
              "            document.querySelector('#df-121fb23e-43e5-45d1-aa35-6ed456081879 button');\n",
              "          quickchartButtonEl.style.display =\n",
              "            google.colab.kernel.accessAllowed ? 'block' : 'none';\n",
              "        })();\n",
              "      </script>\n",
              "    </div>\n",
              "\n",
              "  <div id=\"id_7f2492cc-ca05-412e-9263-b46830d919a6\">\n",
              "    <style>\n",
              "      .colab-df-generate {\n",
              "        background-color: #E8F0FE;\n",
              "        border: none;\n",
              "        border-radius: 50%;\n",
              "        cursor: pointer;\n",
              "        display: none;\n",
              "        fill: #1967D2;\n",
              "        height: 32px;\n",
              "        padding: 0 0 0 0;\n",
              "        width: 32px;\n",
              "      }\n",
              "\n",
              "      .colab-df-generate:hover {\n",
              "        background-color: #E2EBFA;\n",
              "        box-shadow: 0px 1px 2px rgba(60, 64, 67, 0.3), 0px 1px 3px 1px rgba(60, 64, 67, 0.15);\n",
              "        fill: #174EA6;\n",
              "      }\n",
              "\n",
              "      [theme=dark] .colab-df-generate {\n",
              "        background-color: #3B4455;\n",
              "        fill: #D2E3FC;\n",
              "      }\n",
              "\n",
              "      [theme=dark] .colab-df-generate:hover {\n",
              "        background-color: #434B5C;\n",
              "        box-shadow: 0px 1px 3px 1px rgba(0, 0, 0, 0.15);\n",
              "        filter: drop-shadow(0px 1px 2px rgba(0, 0, 0, 0.3));\n",
              "        fill: #FFFFFF;\n",
              "      }\n",
              "    </style>\n",
              "    <button class=\"colab-df-generate\" onclick=\"generateWithVariable('tSNE_representation')\"\n",
              "            title=\"Generate code using this dataframe.\"\n",
              "            style=\"display:none;\">\n",
              "\n",
              "  <svg xmlns=\"http://www.w3.org/2000/svg\" height=\"24px\"viewBox=\"0 0 24 24\"\n",
              "       width=\"24px\">\n",
              "    <path d=\"M7,19H8.4L18.45,9,17,7.55,7,17.6ZM5,21V16.75L18.45,3.32a2,2,0,0,1,2.83,0l1.4,1.43a1.91,1.91,0,0,1,.58,1.4,1.91,1.91,0,0,1-.58,1.4L9.25,21ZM18.45,9,17,7.55Zm-12,3A5.31,5.31,0,0,0,4.9,8.1,5.31,5.31,0,0,0,1,6.5,5.31,5.31,0,0,0,4.9,4.9,5.31,5.31,0,0,0,6.5,1,5.31,5.31,0,0,0,8.1,4.9,5.31,5.31,0,0,0,12,6.5,5.46,5.46,0,0,0,6.5,12Z\"/>\n",
              "  </svg>\n",
              "    </button>\n",
              "    <script>\n",
              "      (() => {\n",
              "      const buttonEl =\n",
              "        document.querySelector('#id_7f2492cc-ca05-412e-9263-b46830d919a6 button.colab-df-generate');\n",
              "      buttonEl.style.display =\n",
              "        google.colab.kernel.accessAllowed ? 'block' : 'none';\n",
              "\n",
              "      buttonEl.onclick = () => {\n",
              "        google.colab.notebook.generateWithVariable('tSNE_representation');\n",
              "      }\n",
              "      })();\n",
              "    </script>\n",
              "  </div>\n",
              "\n",
              "    </div>\n",
              "  </div>\n"
            ],
            "application/vnd.google.colaboratory.intrinsic+json": {
              "type": "dataframe",
              "variable_name": "tSNE_representation",
              "summary": "{\n  \"name\": \"tSNE_representation\",\n  \"rows\": 1570,\n  \"fields\": [\n    {\n      \"column\": \"t-SNE 1\",\n      \"properties\": {\n        \"dtype\": \"float32\",\n        \"num_unique_values\": 1568,\n        \"samples\": [\n          -42.86238098144531,\n          18.611108779907227,\n          -46.17499923706055\n        ],\n        \"semantic_type\": \"\",\n        \"description\": \"\"\n      }\n    },\n    {\n      \"column\": \"t-SNE 2\",\n      \"properties\": {\n        \"dtype\": \"float32\",\n        \"num_unique_values\": 1568,\n        \"samples\": [\n          17.930553436279297,\n          -12.165430068969727,\n          -18.59848403930664\n        ],\n        \"semantic_type\": \"\",\n        \"description\": \"\"\n      }\n    },\n    {\n      \"column\": \"fault\",\n      \"properties\": {\n        \"dtype\": \"number\",\n        \"std\": 44,\n        \"min\": 111,\n        \"max\": 240,\n        \"num_unique_values\": 9,\n        \"samples\": [\n          228,\n          124,\n          203\n        ],\n        \"semantic_type\": \"\",\n        \"description\": \"\"\n      }\n    }\n  ]\n}"
            }
          },
          "metadata": {},
          "execution_count": 20
        }
      ]
    },
    {
      "cell_type": "code",
      "source": [
        "tSNE_representation=tSNE_representation.drop(columns=['fault'])\n",
        "tSNE_representation"
      ],
      "metadata": {
        "id": "Pybzwduy8nhv",
        "colab": {
          "base_uri": "https://localhost:8080/",
          "height": 423
        },
        "outputId": "0ce3751a-847b-4913-af4c-59a80aab70d1"
      },
      "id": "Pybzwduy8nhv",
      "execution_count": null,
      "outputs": [
        {
          "output_type": "execute_result",
          "data": {
            "text/plain": [
              "        t-SNE 1    t-SNE 2\n",
              "0     -3.602815  20.583019\n",
              "1      5.840909   8.280206\n",
              "2      1.734964  31.483738\n",
              "3     -9.728330  19.856316\n",
              "4      1.410530  26.166130\n",
              "...         ...        ...\n",
              "1565 -30.531748  10.885542\n",
              "1566 -41.859253  11.096902\n",
              "1567 -32.347752   8.962509\n",
              "1568 -41.315193  21.024992\n",
              "1569 -37.647755  13.293298\n",
              "\n",
              "[1570 rows x 2 columns]"
            ],
            "text/html": [
              "\n",
              "  <div id=\"df-45b170e6-c7ff-48d1-96de-f85346d0f777\" class=\"colab-df-container\">\n",
              "    <div>\n",
              "<style scoped>\n",
              "    .dataframe tbody tr th:only-of-type {\n",
              "        vertical-align: middle;\n",
              "    }\n",
              "\n",
              "    .dataframe tbody tr th {\n",
              "        vertical-align: top;\n",
              "    }\n",
              "\n",
              "    .dataframe thead th {\n",
              "        text-align: right;\n",
              "    }\n",
              "</style>\n",
              "<table border=\"1\" class=\"dataframe\">\n",
              "  <thead>\n",
              "    <tr style=\"text-align: right;\">\n",
              "      <th></th>\n",
              "      <th>t-SNE 1</th>\n",
              "      <th>t-SNE 2</th>\n",
              "    </tr>\n",
              "  </thead>\n",
              "  <tbody>\n",
              "    <tr>\n",
              "      <th>0</th>\n",
              "      <td>-3.602815</td>\n",
              "      <td>20.583019</td>\n",
              "    </tr>\n",
              "    <tr>\n",
              "      <th>1</th>\n",
              "      <td>5.840909</td>\n",
              "      <td>8.280206</td>\n",
              "    </tr>\n",
              "    <tr>\n",
              "      <th>2</th>\n",
              "      <td>1.734964</td>\n",
              "      <td>31.483738</td>\n",
              "    </tr>\n",
              "    <tr>\n",
              "      <th>3</th>\n",
              "      <td>-9.728330</td>\n",
              "      <td>19.856316</td>\n",
              "    </tr>\n",
              "    <tr>\n",
              "      <th>4</th>\n",
              "      <td>1.410530</td>\n",
              "      <td>26.166130</td>\n",
              "    </tr>\n",
              "    <tr>\n",
              "      <th>...</th>\n",
              "      <td>...</td>\n",
              "      <td>...</td>\n",
              "    </tr>\n",
              "    <tr>\n",
              "      <th>1565</th>\n",
              "      <td>-30.531748</td>\n",
              "      <td>10.885542</td>\n",
              "    </tr>\n",
              "    <tr>\n",
              "      <th>1566</th>\n",
              "      <td>-41.859253</td>\n",
              "      <td>11.096902</td>\n",
              "    </tr>\n",
              "    <tr>\n",
              "      <th>1567</th>\n",
              "      <td>-32.347752</td>\n",
              "      <td>8.962509</td>\n",
              "    </tr>\n",
              "    <tr>\n",
              "      <th>1568</th>\n",
              "      <td>-41.315193</td>\n",
              "      <td>21.024992</td>\n",
              "    </tr>\n",
              "    <tr>\n",
              "      <th>1569</th>\n",
              "      <td>-37.647755</td>\n",
              "      <td>13.293298</td>\n",
              "    </tr>\n",
              "  </tbody>\n",
              "</table>\n",
              "<p>1570 rows × 2 columns</p>\n",
              "</div>\n",
              "    <div class=\"colab-df-buttons\">\n",
              "\n",
              "  <div class=\"colab-df-container\">\n",
              "    <button class=\"colab-df-convert\" onclick=\"convertToInteractive('df-45b170e6-c7ff-48d1-96de-f85346d0f777')\"\n",
              "            title=\"Convert this dataframe to an interactive table.\"\n",
              "            style=\"display:none;\">\n",
              "\n",
              "  <svg xmlns=\"http://www.w3.org/2000/svg\" height=\"24px\" viewBox=\"0 -960 960 960\">\n",
              "    <path d=\"M120-120v-720h720v720H120Zm60-500h600v-160H180v160Zm220 220h160v-160H400v160Zm0 220h160v-160H400v160ZM180-400h160v-160H180v160Zm440 0h160v-160H620v160ZM180-180h160v-160H180v160Zm440 0h160v-160H620v160Z\"/>\n",
              "  </svg>\n",
              "    </button>\n",
              "\n",
              "  <style>\n",
              "    .colab-df-container {\n",
              "      display:flex;\n",
              "      gap: 12px;\n",
              "    }\n",
              "\n",
              "    .colab-df-convert {\n",
              "      background-color: #E8F0FE;\n",
              "      border: none;\n",
              "      border-radius: 50%;\n",
              "      cursor: pointer;\n",
              "      display: none;\n",
              "      fill: #1967D2;\n",
              "      height: 32px;\n",
              "      padding: 0 0 0 0;\n",
              "      width: 32px;\n",
              "    }\n",
              "\n",
              "    .colab-df-convert:hover {\n",
              "      background-color: #E2EBFA;\n",
              "      box-shadow: 0px 1px 2px rgba(60, 64, 67, 0.3), 0px 1px 3px 1px rgba(60, 64, 67, 0.15);\n",
              "      fill: #174EA6;\n",
              "    }\n",
              "\n",
              "    .colab-df-buttons div {\n",
              "      margin-bottom: 4px;\n",
              "    }\n",
              "\n",
              "    [theme=dark] .colab-df-convert {\n",
              "      background-color: #3B4455;\n",
              "      fill: #D2E3FC;\n",
              "    }\n",
              "\n",
              "    [theme=dark] .colab-df-convert:hover {\n",
              "      background-color: #434B5C;\n",
              "      box-shadow: 0px 1px 3px 1px rgba(0, 0, 0, 0.15);\n",
              "      filter: drop-shadow(0px 1px 2px rgba(0, 0, 0, 0.3));\n",
              "      fill: #FFFFFF;\n",
              "    }\n",
              "  </style>\n",
              "\n",
              "    <script>\n",
              "      const buttonEl =\n",
              "        document.querySelector('#df-45b170e6-c7ff-48d1-96de-f85346d0f777 button.colab-df-convert');\n",
              "      buttonEl.style.display =\n",
              "        google.colab.kernel.accessAllowed ? 'block' : 'none';\n",
              "\n",
              "      async function convertToInteractive(key) {\n",
              "        const element = document.querySelector('#df-45b170e6-c7ff-48d1-96de-f85346d0f777');\n",
              "        const dataTable =\n",
              "          await google.colab.kernel.invokeFunction('convertToInteractive',\n",
              "                                                    [key], {});\n",
              "        if (!dataTable) return;\n",
              "\n",
              "        const docLinkHtml = 'Like what you see? Visit the ' +\n",
              "          '<a target=\"_blank\" href=https://colab.research.google.com/notebooks/data_table.ipynb>data table notebook</a>'\n",
              "          + ' to learn more about interactive tables.';\n",
              "        element.innerHTML = '';\n",
              "        dataTable['output_type'] = 'display_data';\n",
              "        await google.colab.output.renderOutput(dataTable, element);\n",
              "        const docLink = document.createElement('div');\n",
              "        docLink.innerHTML = docLinkHtml;\n",
              "        element.appendChild(docLink);\n",
              "      }\n",
              "    </script>\n",
              "  </div>\n",
              "\n",
              "\n",
              "    <div id=\"df-ba796202-53d7-4618-a857-e356637dbf22\">\n",
              "      <button class=\"colab-df-quickchart\" onclick=\"quickchart('df-ba796202-53d7-4618-a857-e356637dbf22')\"\n",
              "                title=\"Suggest charts\"\n",
              "                style=\"display:none;\">\n",
              "\n",
              "<svg xmlns=\"http://www.w3.org/2000/svg\" height=\"24px\"viewBox=\"0 0 24 24\"\n",
              "     width=\"24px\">\n",
              "    <g>\n",
              "        <path d=\"M19 3H5c-1.1 0-2 .9-2 2v14c0 1.1.9 2 2 2h14c1.1 0 2-.9 2-2V5c0-1.1-.9-2-2-2zM9 17H7v-7h2v7zm4 0h-2V7h2v10zm4 0h-2v-4h2v4z\"/>\n",
              "    </g>\n",
              "</svg>\n",
              "      </button>\n",
              "\n",
              "<style>\n",
              "  .colab-df-quickchart {\n",
              "      --bg-color: #E8F0FE;\n",
              "      --fill-color: #1967D2;\n",
              "      --hover-bg-color: #E2EBFA;\n",
              "      --hover-fill-color: #174EA6;\n",
              "      --disabled-fill-color: #AAA;\n",
              "      --disabled-bg-color: #DDD;\n",
              "  }\n",
              "\n",
              "  [theme=dark] .colab-df-quickchart {\n",
              "      --bg-color: #3B4455;\n",
              "      --fill-color: #D2E3FC;\n",
              "      --hover-bg-color: #434B5C;\n",
              "      --hover-fill-color: #FFFFFF;\n",
              "      --disabled-bg-color: #3B4455;\n",
              "      --disabled-fill-color: #666;\n",
              "  }\n",
              "\n",
              "  .colab-df-quickchart {\n",
              "    background-color: var(--bg-color);\n",
              "    border: none;\n",
              "    border-radius: 50%;\n",
              "    cursor: pointer;\n",
              "    display: none;\n",
              "    fill: var(--fill-color);\n",
              "    height: 32px;\n",
              "    padding: 0;\n",
              "    width: 32px;\n",
              "  }\n",
              "\n",
              "  .colab-df-quickchart:hover {\n",
              "    background-color: var(--hover-bg-color);\n",
              "    box-shadow: 0 1px 2px rgba(60, 64, 67, 0.3), 0 1px 3px 1px rgba(60, 64, 67, 0.15);\n",
              "    fill: var(--button-hover-fill-color);\n",
              "  }\n",
              "\n",
              "  .colab-df-quickchart-complete:disabled,\n",
              "  .colab-df-quickchart-complete:disabled:hover {\n",
              "    background-color: var(--disabled-bg-color);\n",
              "    fill: var(--disabled-fill-color);\n",
              "    box-shadow: none;\n",
              "  }\n",
              "\n",
              "  .colab-df-spinner {\n",
              "    border: 2px solid var(--fill-color);\n",
              "    border-color: transparent;\n",
              "    border-bottom-color: var(--fill-color);\n",
              "    animation:\n",
              "      spin 1s steps(1) infinite;\n",
              "  }\n",
              "\n",
              "  @keyframes spin {\n",
              "    0% {\n",
              "      border-color: transparent;\n",
              "      border-bottom-color: var(--fill-color);\n",
              "      border-left-color: var(--fill-color);\n",
              "    }\n",
              "    20% {\n",
              "      border-color: transparent;\n",
              "      border-left-color: var(--fill-color);\n",
              "      border-top-color: var(--fill-color);\n",
              "    }\n",
              "    30% {\n",
              "      border-color: transparent;\n",
              "      border-left-color: var(--fill-color);\n",
              "      border-top-color: var(--fill-color);\n",
              "      border-right-color: var(--fill-color);\n",
              "    }\n",
              "    40% {\n",
              "      border-color: transparent;\n",
              "      border-right-color: var(--fill-color);\n",
              "      border-top-color: var(--fill-color);\n",
              "    }\n",
              "    60% {\n",
              "      border-color: transparent;\n",
              "      border-right-color: var(--fill-color);\n",
              "    }\n",
              "    80% {\n",
              "      border-color: transparent;\n",
              "      border-right-color: var(--fill-color);\n",
              "      border-bottom-color: var(--fill-color);\n",
              "    }\n",
              "    90% {\n",
              "      border-color: transparent;\n",
              "      border-bottom-color: var(--fill-color);\n",
              "    }\n",
              "  }\n",
              "</style>\n",
              "\n",
              "      <script>\n",
              "        async function quickchart(key) {\n",
              "          const quickchartButtonEl =\n",
              "            document.querySelector('#' + key + ' button');\n",
              "          quickchartButtonEl.disabled = true;  // To prevent multiple clicks.\n",
              "          quickchartButtonEl.classList.add('colab-df-spinner');\n",
              "          try {\n",
              "            const charts = await google.colab.kernel.invokeFunction(\n",
              "                'suggestCharts', [key], {});\n",
              "          } catch (error) {\n",
              "            console.error('Error during call to suggestCharts:', error);\n",
              "          }\n",
              "          quickchartButtonEl.classList.remove('colab-df-spinner');\n",
              "          quickchartButtonEl.classList.add('colab-df-quickchart-complete');\n",
              "        }\n",
              "        (() => {\n",
              "          let quickchartButtonEl =\n",
              "            document.querySelector('#df-ba796202-53d7-4618-a857-e356637dbf22 button');\n",
              "          quickchartButtonEl.style.display =\n",
              "            google.colab.kernel.accessAllowed ? 'block' : 'none';\n",
              "        })();\n",
              "      </script>\n",
              "    </div>\n",
              "\n",
              "  <div id=\"id_bbb9d129-c89d-4fe6-ba4a-6cc7e6de9b31\">\n",
              "    <style>\n",
              "      .colab-df-generate {\n",
              "        background-color: #E8F0FE;\n",
              "        border: none;\n",
              "        border-radius: 50%;\n",
              "        cursor: pointer;\n",
              "        display: none;\n",
              "        fill: #1967D2;\n",
              "        height: 32px;\n",
              "        padding: 0 0 0 0;\n",
              "        width: 32px;\n",
              "      }\n",
              "\n",
              "      .colab-df-generate:hover {\n",
              "        background-color: #E2EBFA;\n",
              "        box-shadow: 0px 1px 2px rgba(60, 64, 67, 0.3), 0px 1px 3px 1px rgba(60, 64, 67, 0.15);\n",
              "        fill: #174EA6;\n",
              "      }\n",
              "\n",
              "      [theme=dark] .colab-df-generate {\n",
              "        background-color: #3B4455;\n",
              "        fill: #D2E3FC;\n",
              "      }\n",
              "\n",
              "      [theme=dark] .colab-df-generate:hover {\n",
              "        background-color: #434B5C;\n",
              "        box-shadow: 0px 1px 3px 1px rgba(0, 0, 0, 0.15);\n",
              "        filter: drop-shadow(0px 1px 2px rgba(0, 0, 0, 0.3));\n",
              "        fill: #FFFFFF;\n",
              "      }\n",
              "    </style>\n",
              "    <button class=\"colab-df-generate\" onclick=\"generateWithVariable('tSNE_representation')\"\n",
              "            title=\"Generate code using this dataframe.\"\n",
              "            style=\"display:none;\">\n",
              "\n",
              "  <svg xmlns=\"http://www.w3.org/2000/svg\" height=\"24px\"viewBox=\"0 0 24 24\"\n",
              "       width=\"24px\">\n",
              "    <path d=\"M7,19H8.4L18.45,9,17,7.55,7,17.6ZM5,21V16.75L18.45,3.32a2,2,0,0,1,2.83,0l1.4,1.43a1.91,1.91,0,0,1,.58,1.4,1.91,1.91,0,0,1-.58,1.4L9.25,21ZM18.45,9,17,7.55Zm-12,3A5.31,5.31,0,0,0,4.9,8.1,5.31,5.31,0,0,0,1,6.5,5.31,5.31,0,0,0,4.9,4.9,5.31,5.31,0,0,0,6.5,1,5.31,5.31,0,0,0,8.1,4.9,5.31,5.31,0,0,0,12,6.5,5.46,5.46,0,0,0,6.5,12Z\"/>\n",
              "  </svg>\n",
              "    </button>\n",
              "    <script>\n",
              "      (() => {\n",
              "      const buttonEl =\n",
              "        document.querySelector('#id_bbb9d129-c89d-4fe6-ba4a-6cc7e6de9b31 button.colab-df-generate');\n",
              "      buttonEl.style.display =\n",
              "        google.colab.kernel.accessAllowed ? 'block' : 'none';\n",
              "\n",
              "      buttonEl.onclick = () => {\n",
              "        google.colab.notebook.generateWithVariable('tSNE_representation');\n",
              "      }\n",
              "      })();\n",
              "    </script>\n",
              "  </div>\n",
              "\n",
              "    </div>\n",
              "  </div>\n"
            ],
            "application/vnd.google.colaboratory.intrinsic+json": {
              "type": "dataframe",
              "variable_name": "tSNE_representation",
              "summary": "{\n  \"name\": \"tSNE_representation\",\n  \"rows\": 1570,\n  \"fields\": [\n    {\n      \"column\": \"t-SNE 1\",\n      \"properties\": {\n        \"dtype\": \"float32\",\n        \"num_unique_values\": 1568,\n        \"samples\": [\n          -42.86238098144531,\n          18.611108779907227,\n          -46.17499923706055\n        ],\n        \"semantic_type\": \"\",\n        \"description\": \"\"\n      }\n    },\n    {\n      \"column\": \"t-SNE 2\",\n      \"properties\": {\n        \"dtype\": \"float32\",\n        \"num_unique_values\": 1568,\n        \"samples\": [\n          17.930553436279297,\n          -12.165430068969727,\n          -18.59848403930664\n        ],\n        \"semantic_type\": \"\",\n        \"description\": \"\"\n      }\n    }\n  ]\n}"
            }
          },
          "metadata": {},
          "execution_count": 21
        }
      ]
    },
    {
      "cell_type": "code",
      "source": [
        "tSNEdf = tSNEdf.sort_values(by='Fault')"
      ],
      "metadata": {
        "id": "_TpCIloN904b"
      },
      "id": "_TpCIloN904b",
      "execution_count": null,
      "outputs": []
    },
    {
      "cell_type": "code",
      "source": [
        "tSNEdf"
      ],
      "metadata": {
        "id": "xq2JlAOp_N5V",
        "colab": {
          "base_uri": "https://localhost:8080/",
          "height": 423
        },
        "outputId": "deed1a89-294c-49cc-9c26-37f385012d9e"
      },
      "id": "xq2JlAOp_N5V",
      "execution_count": null,
      "outputs": [
        {
          "output_type": "execute_result",
          "data": {
            "text/plain": [
              "      T-SNE component 1  T-SNE component 2 Fault\n",
              "784           10.499080          -1.523948   111\n",
              "958            3.447901          -6.582081   111\n",
              "952            3.231870          -6.293106   111\n",
              "951            4.341008          -6.321269   111\n",
              "938           10.576126          -1.794671   111\n",
              "...                 ...                ...   ...\n",
              "845           15.208386           7.415153   240\n",
              "838           15.116734          16.080231   240\n",
              "837           19.201946          11.704128   240\n",
              "1395          18.894402          14.976327   240\n",
              "318           18.157967           9.121986   240\n",
              "\n",
              "[1570 rows x 3 columns]"
            ],
            "text/html": [
              "\n",
              "  <div id=\"df-e77874d6-91d4-4c1d-bb7b-446829f833d9\" class=\"colab-df-container\">\n",
              "    <div>\n",
              "<style scoped>\n",
              "    .dataframe tbody tr th:only-of-type {\n",
              "        vertical-align: middle;\n",
              "    }\n",
              "\n",
              "    .dataframe tbody tr th {\n",
              "        vertical-align: top;\n",
              "    }\n",
              "\n",
              "    .dataframe thead th {\n",
              "        text-align: right;\n",
              "    }\n",
              "</style>\n",
              "<table border=\"1\" class=\"dataframe\">\n",
              "  <thead>\n",
              "    <tr style=\"text-align: right;\">\n",
              "      <th></th>\n",
              "      <th>T-SNE component 1</th>\n",
              "      <th>T-SNE component 2</th>\n",
              "      <th>Fault</th>\n",
              "    </tr>\n",
              "  </thead>\n",
              "  <tbody>\n",
              "    <tr>\n",
              "      <th>784</th>\n",
              "      <td>10.499080</td>\n",
              "      <td>-1.523948</td>\n",
              "      <td>111</td>\n",
              "    </tr>\n",
              "    <tr>\n",
              "      <th>958</th>\n",
              "      <td>3.447901</td>\n",
              "      <td>-6.582081</td>\n",
              "      <td>111</td>\n",
              "    </tr>\n",
              "    <tr>\n",
              "      <th>952</th>\n",
              "      <td>3.231870</td>\n",
              "      <td>-6.293106</td>\n",
              "      <td>111</td>\n",
              "    </tr>\n",
              "    <tr>\n",
              "      <th>951</th>\n",
              "      <td>4.341008</td>\n",
              "      <td>-6.321269</td>\n",
              "      <td>111</td>\n",
              "    </tr>\n",
              "    <tr>\n",
              "      <th>938</th>\n",
              "      <td>10.576126</td>\n",
              "      <td>-1.794671</td>\n",
              "      <td>111</td>\n",
              "    </tr>\n",
              "    <tr>\n",
              "      <th>...</th>\n",
              "      <td>...</td>\n",
              "      <td>...</td>\n",
              "      <td>...</td>\n",
              "    </tr>\n",
              "    <tr>\n",
              "      <th>845</th>\n",
              "      <td>15.208386</td>\n",
              "      <td>7.415153</td>\n",
              "      <td>240</td>\n",
              "    </tr>\n",
              "    <tr>\n",
              "      <th>838</th>\n",
              "      <td>15.116734</td>\n",
              "      <td>16.080231</td>\n",
              "      <td>240</td>\n",
              "    </tr>\n",
              "    <tr>\n",
              "      <th>837</th>\n",
              "      <td>19.201946</td>\n",
              "      <td>11.704128</td>\n",
              "      <td>240</td>\n",
              "    </tr>\n",
              "    <tr>\n",
              "      <th>1395</th>\n",
              "      <td>18.894402</td>\n",
              "      <td>14.976327</td>\n",
              "      <td>240</td>\n",
              "    </tr>\n",
              "    <tr>\n",
              "      <th>318</th>\n",
              "      <td>18.157967</td>\n",
              "      <td>9.121986</td>\n",
              "      <td>240</td>\n",
              "    </tr>\n",
              "  </tbody>\n",
              "</table>\n",
              "<p>1570 rows × 3 columns</p>\n",
              "</div>\n",
              "    <div class=\"colab-df-buttons\">\n",
              "\n",
              "  <div class=\"colab-df-container\">\n",
              "    <button class=\"colab-df-convert\" onclick=\"convertToInteractive('df-e77874d6-91d4-4c1d-bb7b-446829f833d9')\"\n",
              "            title=\"Convert this dataframe to an interactive table.\"\n",
              "            style=\"display:none;\">\n",
              "\n",
              "  <svg xmlns=\"http://www.w3.org/2000/svg\" height=\"24px\" viewBox=\"0 -960 960 960\">\n",
              "    <path d=\"M120-120v-720h720v720H120Zm60-500h600v-160H180v160Zm220 220h160v-160H400v160Zm0 220h160v-160H400v160ZM180-400h160v-160H180v160Zm440 0h160v-160H620v160ZM180-180h160v-160H180v160Zm440 0h160v-160H620v160Z\"/>\n",
              "  </svg>\n",
              "    </button>\n",
              "\n",
              "  <style>\n",
              "    .colab-df-container {\n",
              "      display:flex;\n",
              "      gap: 12px;\n",
              "    }\n",
              "\n",
              "    .colab-df-convert {\n",
              "      background-color: #E8F0FE;\n",
              "      border: none;\n",
              "      border-radius: 50%;\n",
              "      cursor: pointer;\n",
              "      display: none;\n",
              "      fill: #1967D2;\n",
              "      height: 32px;\n",
              "      padding: 0 0 0 0;\n",
              "      width: 32px;\n",
              "    }\n",
              "\n",
              "    .colab-df-convert:hover {\n",
              "      background-color: #E2EBFA;\n",
              "      box-shadow: 0px 1px 2px rgba(60, 64, 67, 0.3), 0px 1px 3px 1px rgba(60, 64, 67, 0.15);\n",
              "      fill: #174EA6;\n",
              "    }\n",
              "\n",
              "    .colab-df-buttons div {\n",
              "      margin-bottom: 4px;\n",
              "    }\n",
              "\n",
              "    [theme=dark] .colab-df-convert {\n",
              "      background-color: #3B4455;\n",
              "      fill: #D2E3FC;\n",
              "    }\n",
              "\n",
              "    [theme=dark] .colab-df-convert:hover {\n",
              "      background-color: #434B5C;\n",
              "      box-shadow: 0px 1px 3px 1px rgba(0, 0, 0, 0.15);\n",
              "      filter: drop-shadow(0px 1px 2px rgba(0, 0, 0, 0.3));\n",
              "      fill: #FFFFFF;\n",
              "    }\n",
              "  </style>\n",
              "\n",
              "    <script>\n",
              "      const buttonEl =\n",
              "        document.querySelector('#df-e77874d6-91d4-4c1d-bb7b-446829f833d9 button.colab-df-convert');\n",
              "      buttonEl.style.display =\n",
              "        google.colab.kernel.accessAllowed ? 'block' : 'none';\n",
              "\n",
              "      async function convertToInteractive(key) {\n",
              "        const element = document.querySelector('#df-e77874d6-91d4-4c1d-bb7b-446829f833d9');\n",
              "        const dataTable =\n",
              "          await google.colab.kernel.invokeFunction('convertToInteractive',\n",
              "                                                    [key], {});\n",
              "        if (!dataTable) return;\n",
              "\n",
              "        const docLinkHtml = 'Like what you see? Visit the ' +\n",
              "          '<a target=\"_blank\" href=https://colab.research.google.com/notebooks/data_table.ipynb>data table notebook</a>'\n",
              "          + ' to learn more about interactive tables.';\n",
              "        element.innerHTML = '';\n",
              "        dataTable['output_type'] = 'display_data';\n",
              "        await google.colab.output.renderOutput(dataTable, element);\n",
              "        const docLink = document.createElement('div');\n",
              "        docLink.innerHTML = docLinkHtml;\n",
              "        element.appendChild(docLink);\n",
              "      }\n",
              "    </script>\n",
              "  </div>\n",
              "\n",
              "\n",
              "    <div id=\"df-5fec86bf-0daf-4173-a988-b603f225e09c\">\n",
              "      <button class=\"colab-df-quickchart\" onclick=\"quickchart('df-5fec86bf-0daf-4173-a988-b603f225e09c')\"\n",
              "                title=\"Suggest charts\"\n",
              "                style=\"display:none;\">\n",
              "\n",
              "<svg xmlns=\"http://www.w3.org/2000/svg\" height=\"24px\"viewBox=\"0 0 24 24\"\n",
              "     width=\"24px\">\n",
              "    <g>\n",
              "        <path d=\"M19 3H5c-1.1 0-2 .9-2 2v14c0 1.1.9 2 2 2h14c1.1 0 2-.9 2-2V5c0-1.1-.9-2-2-2zM9 17H7v-7h2v7zm4 0h-2V7h2v10zm4 0h-2v-4h2v4z\"/>\n",
              "    </g>\n",
              "</svg>\n",
              "      </button>\n",
              "\n",
              "<style>\n",
              "  .colab-df-quickchart {\n",
              "      --bg-color: #E8F0FE;\n",
              "      --fill-color: #1967D2;\n",
              "      --hover-bg-color: #E2EBFA;\n",
              "      --hover-fill-color: #174EA6;\n",
              "      --disabled-fill-color: #AAA;\n",
              "      --disabled-bg-color: #DDD;\n",
              "  }\n",
              "\n",
              "  [theme=dark] .colab-df-quickchart {\n",
              "      --bg-color: #3B4455;\n",
              "      --fill-color: #D2E3FC;\n",
              "      --hover-bg-color: #434B5C;\n",
              "      --hover-fill-color: #FFFFFF;\n",
              "      --disabled-bg-color: #3B4455;\n",
              "      --disabled-fill-color: #666;\n",
              "  }\n",
              "\n",
              "  .colab-df-quickchart {\n",
              "    background-color: var(--bg-color);\n",
              "    border: none;\n",
              "    border-radius: 50%;\n",
              "    cursor: pointer;\n",
              "    display: none;\n",
              "    fill: var(--fill-color);\n",
              "    height: 32px;\n",
              "    padding: 0;\n",
              "    width: 32px;\n",
              "  }\n",
              "\n",
              "  .colab-df-quickchart:hover {\n",
              "    background-color: var(--hover-bg-color);\n",
              "    box-shadow: 0 1px 2px rgba(60, 64, 67, 0.3), 0 1px 3px 1px rgba(60, 64, 67, 0.15);\n",
              "    fill: var(--button-hover-fill-color);\n",
              "  }\n",
              "\n",
              "  .colab-df-quickchart-complete:disabled,\n",
              "  .colab-df-quickchart-complete:disabled:hover {\n",
              "    background-color: var(--disabled-bg-color);\n",
              "    fill: var(--disabled-fill-color);\n",
              "    box-shadow: none;\n",
              "  }\n",
              "\n",
              "  .colab-df-spinner {\n",
              "    border: 2px solid var(--fill-color);\n",
              "    border-color: transparent;\n",
              "    border-bottom-color: var(--fill-color);\n",
              "    animation:\n",
              "      spin 1s steps(1) infinite;\n",
              "  }\n",
              "\n",
              "  @keyframes spin {\n",
              "    0% {\n",
              "      border-color: transparent;\n",
              "      border-bottom-color: var(--fill-color);\n",
              "      border-left-color: var(--fill-color);\n",
              "    }\n",
              "    20% {\n",
              "      border-color: transparent;\n",
              "      border-left-color: var(--fill-color);\n",
              "      border-top-color: var(--fill-color);\n",
              "    }\n",
              "    30% {\n",
              "      border-color: transparent;\n",
              "      border-left-color: var(--fill-color);\n",
              "      border-top-color: var(--fill-color);\n",
              "      border-right-color: var(--fill-color);\n",
              "    }\n",
              "    40% {\n",
              "      border-color: transparent;\n",
              "      border-right-color: var(--fill-color);\n",
              "      border-top-color: var(--fill-color);\n",
              "    }\n",
              "    60% {\n",
              "      border-color: transparent;\n",
              "      border-right-color: var(--fill-color);\n",
              "    }\n",
              "    80% {\n",
              "      border-color: transparent;\n",
              "      border-right-color: var(--fill-color);\n",
              "      border-bottom-color: var(--fill-color);\n",
              "    }\n",
              "    90% {\n",
              "      border-color: transparent;\n",
              "      border-bottom-color: var(--fill-color);\n",
              "    }\n",
              "  }\n",
              "</style>\n",
              "\n",
              "      <script>\n",
              "        async function quickchart(key) {\n",
              "          const quickchartButtonEl =\n",
              "            document.querySelector('#' + key + ' button');\n",
              "          quickchartButtonEl.disabled = true;  // To prevent multiple clicks.\n",
              "          quickchartButtonEl.classList.add('colab-df-spinner');\n",
              "          try {\n",
              "            const charts = await google.colab.kernel.invokeFunction(\n",
              "                'suggestCharts', [key], {});\n",
              "          } catch (error) {\n",
              "            console.error('Error during call to suggestCharts:', error);\n",
              "          }\n",
              "          quickchartButtonEl.classList.remove('colab-df-spinner');\n",
              "          quickchartButtonEl.classList.add('colab-df-quickchart-complete');\n",
              "        }\n",
              "        (() => {\n",
              "          let quickchartButtonEl =\n",
              "            document.querySelector('#df-5fec86bf-0daf-4173-a988-b603f225e09c button');\n",
              "          quickchartButtonEl.style.display =\n",
              "            google.colab.kernel.accessAllowed ? 'block' : 'none';\n",
              "        })();\n",
              "      </script>\n",
              "    </div>\n",
              "\n",
              "  <div id=\"id_c8a7bc00-2d9a-4621-afb1-353e060ca458\">\n",
              "    <style>\n",
              "      .colab-df-generate {\n",
              "        background-color: #E8F0FE;\n",
              "        border: none;\n",
              "        border-radius: 50%;\n",
              "        cursor: pointer;\n",
              "        display: none;\n",
              "        fill: #1967D2;\n",
              "        height: 32px;\n",
              "        padding: 0 0 0 0;\n",
              "        width: 32px;\n",
              "      }\n",
              "\n",
              "      .colab-df-generate:hover {\n",
              "        background-color: #E2EBFA;\n",
              "        box-shadow: 0px 1px 2px rgba(60, 64, 67, 0.3), 0px 1px 3px 1px rgba(60, 64, 67, 0.15);\n",
              "        fill: #174EA6;\n",
              "      }\n",
              "\n",
              "      [theme=dark] .colab-df-generate {\n",
              "        background-color: #3B4455;\n",
              "        fill: #D2E3FC;\n",
              "      }\n",
              "\n",
              "      [theme=dark] .colab-df-generate:hover {\n",
              "        background-color: #434B5C;\n",
              "        box-shadow: 0px 1px 3px 1px rgba(0, 0, 0, 0.15);\n",
              "        filter: drop-shadow(0px 1px 2px rgba(0, 0, 0, 0.3));\n",
              "        fill: #FFFFFF;\n",
              "      }\n",
              "    </style>\n",
              "    <button class=\"colab-df-generate\" onclick=\"generateWithVariable('tSNEdf')\"\n",
              "            title=\"Generate code using this dataframe.\"\n",
              "            style=\"display:none;\">\n",
              "\n",
              "  <svg xmlns=\"http://www.w3.org/2000/svg\" height=\"24px\"viewBox=\"0 0 24 24\"\n",
              "       width=\"24px\">\n",
              "    <path d=\"M7,19H8.4L18.45,9,17,7.55,7,17.6ZM5,21V16.75L18.45,3.32a2,2,0,0,1,2.83,0l1.4,1.43a1.91,1.91,0,0,1,.58,1.4,1.91,1.91,0,0,1-.58,1.4L9.25,21ZM18.45,9,17,7.55Zm-12,3A5.31,5.31,0,0,0,4.9,8.1,5.31,5.31,0,0,0,1,6.5,5.31,5.31,0,0,0,4.9,4.9,5.31,5.31,0,0,0,6.5,1,5.31,5.31,0,0,0,8.1,4.9,5.31,5.31,0,0,0,12,6.5,5.46,5.46,0,0,0,6.5,12Z\"/>\n",
              "  </svg>\n",
              "    </button>\n",
              "    <script>\n",
              "      (() => {\n",
              "      const buttonEl =\n",
              "        document.querySelector('#id_c8a7bc00-2d9a-4621-afb1-353e060ca458 button.colab-df-generate');\n",
              "      buttonEl.style.display =\n",
              "        google.colab.kernel.accessAllowed ? 'block' : 'none';\n",
              "\n",
              "      buttonEl.onclick = () => {\n",
              "        google.colab.notebook.generateWithVariable('tSNEdf');\n",
              "      }\n",
              "      })();\n",
              "    </script>\n",
              "  </div>\n",
              "\n",
              "    </div>\n",
              "  </div>\n"
            ],
            "application/vnd.google.colaboratory.intrinsic+json": {
              "type": "dataframe",
              "variable_name": "tSNEdf",
              "summary": "{\n  \"name\": \"tSNEdf\",\n  \"rows\": 1570,\n  \"fields\": [\n    {\n      \"column\": \"T-SNE component 1\",\n      \"properties\": {\n        \"dtype\": \"float32\",\n        \"num_unique_values\": 1570,\n        \"samples\": [\n          12.942961692810059,\n          -15.259535789489746,\n          31.020097732543945\n        ],\n        \"semantic_type\": \"\",\n        \"description\": \"\"\n      }\n    },\n    {\n      \"column\": \"T-SNE component 2\",\n      \"properties\": {\n        \"dtype\": \"float32\",\n        \"num_unique_values\": 1570,\n        \"samples\": [\n          13.28978157043457,\n          -23.763668060302734,\n          -3.2714977264404297\n        ],\n        \"semantic_type\": \"\",\n        \"description\": \"\"\n      }\n    },\n    {\n      \"column\": \"Fault\",\n      \"properties\": {\n        \"dtype\": \"category\",\n        \"num_unique_values\": 9,\n        \"samples\": [\n          \"228\",\n          \"124\",\n          \"203\"\n        ],\n        \"semantic_type\": \"\",\n        \"description\": \"\"\n      }\n    }\n  ]\n}"
            }
          },
          "metadata": {},
          "execution_count": 23
        }
      ]
    },
    {
      "cell_type": "markdown",
      "source": [
        "Combined Features"
      ],
      "metadata": {
        "id": "73T5xFDWQmML"
      },
      "id": "73T5xFDWQmML"
    },
    {
      "cell_type": "code",
      "source": [
        "# import pandas as pd\n",
        "\n",
        "# Assuming df1 and df2 are your two dataframes\n",
        "# Concatenate the dataframes vertically\n",
        "Motor_Fault_dataset = pd.concat([tSNE_representation, tSNEdf], axis=1)\n",
        "Motor_Fault_dataset=Motor_Fault_dataset.sort_values(by='Fault')\n",
        "Motor_Fault_dataset\n",
        "\n",
        "import pandas as pd\n",
        "from sklearn.preprocessing import StandardScaler\n",
        "\n",
        "# Assuming df1 and df2 are your two dataframes\n",
        "# Concatenate the dataframes vertically\n",
        "Motor_Fault_dataset = pd.concat([tSNE_representation, tSNEdf], axis=1)\n",
        "\n",
        "# Sort the dataset by 'Fault' column\n",
        "Motor_Fault_dataset = Motor_Fault_dataset.sort_values(by='Fault')\n",
        "Motor_Fault_dataset\n"
      ],
      "metadata": {
        "id": "sEmeYK5c8anK",
        "colab": {
          "base_uri": "https://localhost:8080/",
          "height": 423
        },
        "outputId": "9ff4b245-76be-4ee5-c812-ae694c164a56"
      },
      "id": "sEmeYK5c8anK",
      "execution_count": null,
      "outputs": [
        {
          "output_type": "execute_result",
          "data": {
            "text/plain": [
              "        t-SNE 1    t-SNE 2  T-SNE component 1  T-SNE component 2 Fault\n",
              "784   13.013444  -3.018605          10.499080          -1.523948   111\n",
              "958   19.311939  -8.441497           3.447901          -6.582081   111\n",
              "952   30.968245  18.893402           3.231870          -6.293106   111\n",
              "951   19.701830   3.738353           4.341008          -6.321269   111\n",
              "938   35.317852  20.947247          10.576126          -1.794671   111\n",
              "...         ...        ...                ...                ...   ...\n",
              "845   17.376198  14.137063          15.208386           7.415153   240\n",
              "838  -16.674831  -1.833151          15.116734          16.080231   240\n",
              "837   32.717247  -5.611972          19.201946          11.704128   240\n",
              "1395  -9.245852 -38.750607          18.894402          14.976327   240\n",
              "318   35.567619  -3.835384          18.157967           9.121986   240\n",
              "\n",
              "[1570 rows x 5 columns]"
            ],
            "text/html": [
              "\n",
              "  <div id=\"df-3d1e1539-fe40-4c1a-bd56-574cf3e66477\" class=\"colab-df-container\">\n",
              "    <div>\n",
              "<style scoped>\n",
              "    .dataframe tbody tr th:only-of-type {\n",
              "        vertical-align: middle;\n",
              "    }\n",
              "\n",
              "    .dataframe tbody tr th {\n",
              "        vertical-align: top;\n",
              "    }\n",
              "\n",
              "    .dataframe thead th {\n",
              "        text-align: right;\n",
              "    }\n",
              "</style>\n",
              "<table border=\"1\" class=\"dataframe\">\n",
              "  <thead>\n",
              "    <tr style=\"text-align: right;\">\n",
              "      <th></th>\n",
              "      <th>t-SNE 1</th>\n",
              "      <th>t-SNE 2</th>\n",
              "      <th>T-SNE component 1</th>\n",
              "      <th>T-SNE component 2</th>\n",
              "      <th>Fault</th>\n",
              "    </tr>\n",
              "  </thead>\n",
              "  <tbody>\n",
              "    <tr>\n",
              "      <th>784</th>\n",
              "      <td>13.013444</td>\n",
              "      <td>-3.018605</td>\n",
              "      <td>10.499080</td>\n",
              "      <td>-1.523948</td>\n",
              "      <td>111</td>\n",
              "    </tr>\n",
              "    <tr>\n",
              "      <th>958</th>\n",
              "      <td>19.311939</td>\n",
              "      <td>-8.441497</td>\n",
              "      <td>3.447901</td>\n",
              "      <td>-6.582081</td>\n",
              "      <td>111</td>\n",
              "    </tr>\n",
              "    <tr>\n",
              "      <th>952</th>\n",
              "      <td>30.968245</td>\n",
              "      <td>18.893402</td>\n",
              "      <td>3.231870</td>\n",
              "      <td>-6.293106</td>\n",
              "      <td>111</td>\n",
              "    </tr>\n",
              "    <tr>\n",
              "      <th>951</th>\n",
              "      <td>19.701830</td>\n",
              "      <td>3.738353</td>\n",
              "      <td>4.341008</td>\n",
              "      <td>-6.321269</td>\n",
              "      <td>111</td>\n",
              "    </tr>\n",
              "    <tr>\n",
              "      <th>938</th>\n",
              "      <td>35.317852</td>\n",
              "      <td>20.947247</td>\n",
              "      <td>10.576126</td>\n",
              "      <td>-1.794671</td>\n",
              "      <td>111</td>\n",
              "    </tr>\n",
              "    <tr>\n",
              "      <th>...</th>\n",
              "      <td>...</td>\n",
              "      <td>...</td>\n",
              "      <td>...</td>\n",
              "      <td>...</td>\n",
              "      <td>...</td>\n",
              "    </tr>\n",
              "    <tr>\n",
              "      <th>845</th>\n",
              "      <td>17.376198</td>\n",
              "      <td>14.137063</td>\n",
              "      <td>15.208386</td>\n",
              "      <td>7.415153</td>\n",
              "      <td>240</td>\n",
              "    </tr>\n",
              "    <tr>\n",
              "      <th>838</th>\n",
              "      <td>-16.674831</td>\n",
              "      <td>-1.833151</td>\n",
              "      <td>15.116734</td>\n",
              "      <td>16.080231</td>\n",
              "      <td>240</td>\n",
              "    </tr>\n",
              "    <tr>\n",
              "      <th>837</th>\n",
              "      <td>32.717247</td>\n",
              "      <td>-5.611972</td>\n",
              "      <td>19.201946</td>\n",
              "      <td>11.704128</td>\n",
              "      <td>240</td>\n",
              "    </tr>\n",
              "    <tr>\n",
              "      <th>1395</th>\n",
              "      <td>-9.245852</td>\n",
              "      <td>-38.750607</td>\n",
              "      <td>18.894402</td>\n",
              "      <td>14.976327</td>\n",
              "      <td>240</td>\n",
              "    </tr>\n",
              "    <tr>\n",
              "      <th>318</th>\n",
              "      <td>35.567619</td>\n",
              "      <td>-3.835384</td>\n",
              "      <td>18.157967</td>\n",
              "      <td>9.121986</td>\n",
              "      <td>240</td>\n",
              "    </tr>\n",
              "  </tbody>\n",
              "</table>\n",
              "<p>1570 rows × 5 columns</p>\n",
              "</div>\n",
              "    <div class=\"colab-df-buttons\">\n",
              "\n",
              "  <div class=\"colab-df-container\">\n",
              "    <button class=\"colab-df-convert\" onclick=\"convertToInteractive('df-3d1e1539-fe40-4c1a-bd56-574cf3e66477')\"\n",
              "            title=\"Convert this dataframe to an interactive table.\"\n",
              "            style=\"display:none;\">\n",
              "\n",
              "  <svg xmlns=\"http://www.w3.org/2000/svg\" height=\"24px\" viewBox=\"0 -960 960 960\">\n",
              "    <path d=\"M120-120v-720h720v720H120Zm60-500h600v-160H180v160Zm220 220h160v-160H400v160Zm0 220h160v-160H400v160ZM180-400h160v-160H180v160Zm440 0h160v-160H620v160ZM180-180h160v-160H180v160Zm440 0h160v-160H620v160Z\"/>\n",
              "  </svg>\n",
              "    </button>\n",
              "\n",
              "  <style>\n",
              "    .colab-df-container {\n",
              "      display:flex;\n",
              "      gap: 12px;\n",
              "    }\n",
              "\n",
              "    .colab-df-convert {\n",
              "      background-color: #E8F0FE;\n",
              "      border: none;\n",
              "      border-radius: 50%;\n",
              "      cursor: pointer;\n",
              "      display: none;\n",
              "      fill: #1967D2;\n",
              "      height: 32px;\n",
              "      padding: 0 0 0 0;\n",
              "      width: 32px;\n",
              "    }\n",
              "\n",
              "    .colab-df-convert:hover {\n",
              "      background-color: #E2EBFA;\n",
              "      box-shadow: 0px 1px 2px rgba(60, 64, 67, 0.3), 0px 1px 3px 1px rgba(60, 64, 67, 0.15);\n",
              "      fill: #174EA6;\n",
              "    }\n",
              "\n",
              "    .colab-df-buttons div {\n",
              "      margin-bottom: 4px;\n",
              "    }\n",
              "\n",
              "    [theme=dark] .colab-df-convert {\n",
              "      background-color: #3B4455;\n",
              "      fill: #D2E3FC;\n",
              "    }\n",
              "\n",
              "    [theme=dark] .colab-df-convert:hover {\n",
              "      background-color: #434B5C;\n",
              "      box-shadow: 0px 1px 3px 1px rgba(0, 0, 0, 0.15);\n",
              "      filter: drop-shadow(0px 1px 2px rgba(0, 0, 0, 0.3));\n",
              "      fill: #FFFFFF;\n",
              "    }\n",
              "  </style>\n",
              "\n",
              "    <script>\n",
              "      const buttonEl =\n",
              "        document.querySelector('#df-3d1e1539-fe40-4c1a-bd56-574cf3e66477 button.colab-df-convert');\n",
              "      buttonEl.style.display =\n",
              "        google.colab.kernel.accessAllowed ? 'block' : 'none';\n",
              "\n",
              "      async function convertToInteractive(key) {\n",
              "        const element = document.querySelector('#df-3d1e1539-fe40-4c1a-bd56-574cf3e66477');\n",
              "        const dataTable =\n",
              "          await google.colab.kernel.invokeFunction('convertToInteractive',\n",
              "                                                    [key], {});\n",
              "        if (!dataTable) return;\n",
              "\n",
              "        const docLinkHtml = 'Like what you see? Visit the ' +\n",
              "          '<a target=\"_blank\" href=https://colab.research.google.com/notebooks/data_table.ipynb>data table notebook</a>'\n",
              "          + ' to learn more about interactive tables.';\n",
              "        element.innerHTML = '';\n",
              "        dataTable['output_type'] = 'display_data';\n",
              "        await google.colab.output.renderOutput(dataTable, element);\n",
              "        const docLink = document.createElement('div');\n",
              "        docLink.innerHTML = docLinkHtml;\n",
              "        element.appendChild(docLink);\n",
              "      }\n",
              "    </script>\n",
              "  </div>\n",
              "\n",
              "\n",
              "    <div id=\"df-7ad93255-27b6-49ba-895c-40a195ca8033\">\n",
              "      <button class=\"colab-df-quickchart\" onclick=\"quickchart('df-7ad93255-27b6-49ba-895c-40a195ca8033')\"\n",
              "                title=\"Suggest charts\"\n",
              "                style=\"display:none;\">\n",
              "\n",
              "<svg xmlns=\"http://www.w3.org/2000/svg\" height=\"24px\"viewBox=\"0 0 24 24\"\n",
              "     width=\"24px\">\n",
              "    <g>\n",
              "        <path d=\"M19 3H5c-1.1 0-2 .9-2 2v14c0 1.1.9 2 2 2h14c1.1 0 2-.9 2-2V5c0-1.1-.9-2-2-2zM9 17H7v-7h2v7zm4 0h-2V7h2v10zm4 0h-2v-4h2v4z\"/>\n",
              "    </g>\n",
              "</svg>\n",
              "      </button>\n",
              "\n",
              "<style>\n",
              "  .colab-df-quickchart {\n",
              "      --bg-color: #E8F0FE;\n",
              "      --fill-color: #1967D2;\n",
              "      --hover-bg-color: #E2EBFA;\n",
              "      --hover-fill-color: #174EA6;\n",
              "      --disabled-fill-color: #AAA;\n",
              "      --disabled-bg-color: #DDD;\n",
              "  }\n",
              "\n",
              "  [theme=dark] .colab-df-quickchart {\n",
              "      --bg-color: #3B4455;\n",
              "      --fill-color: #D2E3FC;\n",
              "      --hover-bg-color: #434B5C;\n",
              "      --hover-fill-color: #FFFFFF;\n",
              "      --disabled-bg-color: #3B4455;\n",
              "      --disabled-fill-color: #666;\n",
              "  }\n",
              "\n",
              "  .colab-df-quickchart {\n",
              "    background-color: var(--bg-color);\n",
              "    border: none;\n",
              "    border-radius: 50%;\n",
              "    cursor: pointer;\n",
              "    display: none;\n",
              "    fill: var(--fill-color);\n",
              "    height: 32px;\n",
              "    padding: 0;\n",
              "    width: 32px;\n",
              "  }\n",
              "\n",
              "  .colab-df-quickchart:hover {\n",
              "    background-color: var(--hover-bg-color);\n",
              "    box-shadow: 0 1px 2px rgba(60, 64, 67, 0.3), 0 1px 3px 1px rgba(60, 64, 67, 0.15);\n",
              "    fill: var(--button-hover-fill-color);\n",
              "  }\n",
              "\n",
              "  .colab-df-quickchart-complete:disabled,\n",
              "  .colab-df-quickchart-complete:disabled:hover {\n",
              "    background-color: var(--disabled-bg-color);\n",
              "    fill: var(--disabled-fill-color);\n",
              "    box-shadow: none;\n",
              "  }\n",
              "\n",
              "  .colab-df-spinner {\n",
              "    border: 2px solid var(--fill-color);\n",
              "    border-color: transparent;\n",
              "    border-bottom-color: var(--fill-color);\n",
              "    animation:\n",
              "      spin 1s steps(1) infinite;\n",
              "  }\n",
              "\n",
              "  @keyframes spin {\n",
              "    0% {\n",
              "      border-color: transparent;\n",
              "      border-bottom-color: var(--fill-color);\n",
              "      border-left-color: var(--fill-color);\n",
              "    }\n",
              "    20% {\n",
              "      border-color: transparent;\n",
              "      border-left-color: var(--fill-color);\n",
              "      border-top-color: var(--fill-color);\n",
              "    }\n",
              "    30% {\n",
              "      border-color: transparent;\n",
              "      border-left-color: var(--fill-color);\n",
              "      border-top-color: var(--fill-color);\n",
              "      border-right-color: var(--fill-color);\n",
              "    }\n",
              "    40% {\n",
              "      border-color: transparent;\n",
              "      border-right-color: var(--fill-color);\n",
              "      border-top-color: var(--fill-color);\n",
              "    }\n",
              "    60% {\n",
              "      border-color: transparent;\n",
              "      border-right-color: var(--fill-color);\n",
              "    }\n",
              "    80% {\n",
              "      border-color: transparent;\n",
              "      border-right-color: var(--fill-color);\n",
              "      border-bottom-color: var(--fill-color);\n",
              "    }\n",
              "    90% {\n",
              "      border-color: transparent;\n",
              "      border-bottom-color: var(--fill-color);\n",
              "    }\n",
              "  }\n",
              "</style>\n",
              "\n",
              "      <script>\n",
              "        async function quickchart(key) {\n",
              "          const quickchartButtonEl =\n",
              "            document.querySelector('#' + key + ' button');\n",
              "          quickchartButtonEl.disabled = true;  // To prevent multiple clicks.\n",
              "          quickchartButtonEl.classList.add('colab-df-spinner');\n",
              "          try {\n",
              "            const charts = await google.colab.kernel.invokeFunction(\n",
              "                'suggestCharts', [key], {});\n",
              "          } catch (error) {\n",
              "            console.error('Error during call to suggestCharts:', error);\n",
              "          }\n",
              "          quickchartButtonEl.classList.remove('colab-df-spinner');\n",
              "          quickchartButtonEl.classList.add('colab-df-quickchart-complete');\n",
              "        }\n",
              "        (() => {\n",
              "          let quickchartButtonEl =\n",
              "            document.querySelector('#df-7ad93255-27b6-49ba-895c-40a195ca8033 button');\n",
              "          quickchartButtonEl.style.display =\n",
              "            google.colab.kernel.accessAllowed ? 'block' : 'none';\n",
              "        })();\n",
              "      </script>\n",
              "    </div>\n",
              "\n",
              "  <div id=\"id_423381a0-340c-4abd-8bec-92b2a885ba9c\">\n",
              "    <style>\n",
              "      .colab-df-generate {\n",
              "        background-color: #E8F0FE;\n",
              "        border: none;\n",
              "        border-radius: 50%;\n",
              "        cursor: pointer;\n",
              "        display: none;\n",
              "        fill: #1967D2;\n",
              "        height: 32px;\n",
              "        padding: 0 0 0 0;\n",
              "        width: 32px;\n",
              "      }\n",
              "\n",
              "      .colab-df-generate:hover {\n",
              "        background-color: #E2EBFA;\n",
              "        box-shadow: 0px 1px 2px rgba(60, 64, 67, 0.3), 0px 1px 3px 1px rgba(60, 64, 67, 0.15);\n",
              "        fill: #174EA6;\n",
              "      }\n",
              "\n",
              "      [theme=dark] .colab-df-generate {\n",
              "        background-color: #3B4455;\n",
              "        fill: #D2E3FC;\n",
              "      }\n",
              "\n",
              "      [theme=dark] .colab-df-generate:hover {\n",
              "        background-color: #434B5C;\n",
              "        box-shadow: 0px 1px 3px 1px rgba(0, 0, 0, 0.15);\n",
              "        filter: drop-shadow(0px 1px 2px rgba(0, 0, 0, 0.3));\n",
              "        fill: #FFFFFF;\n",
              "      }\n",
              "    </style>\n",
              "    <button class=\"colab-df-generate\" onclick=\"generateWithVariable('Motor_Fault_dataset')\"\n",
              "            title=\"Generate code using this dataframe.\"\n",
              "            style=\"display:none;\">\n",
              "\n",
              "  <svg xmlns=\"http://www.w3.org/2000/svg\" height=\"24px\"viewBox=\"0 0 24 24\"\n",
              "       width=\"24px\">\n",
              "    <path d=\"M7,19H8.4L18.45,9,17,7.55,7,17.6ZM5,21V16.75L18.45,3.32a2,2,0,0,1,2.83,0l1.4,1.43a1.91,1.91,0,0,1,.58,1.4,1.91,1.91,0,0,1-.58,1.4L9.25,21ZM18.45,9,17,7.55Zm-12,3A5.31,5.31,0,0,0,4.9,8.1,5.31,5.31,0,0,0,1,6.5,5.31,5.31,0,0,0,4.9,4.9,5.31,5.31,0,0,0,6.5,1,5.31,5.31,0,0,0,8.1,4.9,5.31,5.31,0,0,0,12,6.5,5.46,5.46,0,0,0,6.5,12Z\"/>\n",
              "  </svg>\n",
              "    </button>\n",
              "    <script>\n",
              "      (() => {\n",
              "      const buttonEl =\n",
              "        document.querySelector('#id_423381a0-340c-4abd-8bec-92b2a885ba9c button.colab-df-generate');\n",
              "      buttonEl.style.display =\n",
              "        google.colab.kernel.accessAllowed ? 'block' : 'none';\n",
              "\n",
              "      buttonEl.onclick = () => {\n",
              "        google.colab.notebook.generateWithVariable('Motor_Fault_dataset');\n",
              "      }\n",
              "      })();\n",
              "    </script>\n",
              "  </div>\n",
              "\n",
              "    </div>\n",
              "  </div>\n"
            ],
            "application/vnd.google.colaboratory.intrinsic+json": {
              "type": "dataframe",
              "variable_name": "Motor_Fault_dataset",
              "summary": "{\n  \"name\": \"Motor_Fault_dataset\",\n  \"rows\": 1570,\n  \"fields\": [\n    {\n      \"column\": \"t-SNE 1\",\n      \"properties\": {\n        \"dtype\": \"float32\",\n        \"num_unique_values\": 1568,\n        \"samples\": [\n          9.575019836425781,\n          49.358436584472656,\n          34.05035400390625\n        ],\n        \"semantic_type\": \"\",\n        \"description\": \"\"\n      }\n    },\n    {\n      \"column\": \"t-SNE 2\",\n      \"properties\": {\n        \"dtype\": \"float32\",\n        \"num_unique_values\": 1568,\n        \"samples\": [\n          7.008861064910889,\n          8.647150039672852,\n          -17.198165893554688\n        ],\n        \"semantic_type\": \"\",\n        \"description\": \"\"\n      }\n    },\n    {\n      \"column\": \"T-SNE component 1\",\n      \"properties\": {\n        \"dtype\": \"float32\",\n        \"num_unique_values\": 1570,\n        \"samples\": [\n          12.942961692810059,\n          -15.259535789489746,\n          31.020097732543945\n        ],\n        \"semantic_type\": \"\",\n        \"description\": \"\"\n      }\n    },\n    {\n      \"column\": \"T-SNE component 2\",\n      \"properties\": {\n        \"dtype\": \"float32\",\n        \"num_unique_values\": 1570,\n        \"samples\": [\n          13.28978157043457,\n          -23.763668060302734,\n          -3.2714977264404297\n        ],\n        \"semantic_type\": \"\",\n        \"description\": \"\"\n      }\n    },\n    {\n      \"column\": \"Fault\",\n      \"properties\": {\n        \"dtype\": \"category\",\n        \"num_unique_values\": 9,\n        \"samples\": [\n          \"228\",\n          \"124\",\n          \"203\"\n        ],\n        \"semantic_type\": \"\",\n        \"description\": \"\"\n      }\n    }\n  ]\n}"
            }
          },
          "metadata": {},
          "execution_count": 24
        }
      ]
    },
    {
      "cell_type": "code",
      "source": [
        "#Classification Report for MKDCNN"
      ],
      "metadata": {
        "id": "zC_6vMBPsOs_"
      },
      "id": "zC_6vMBPsOs_",
      "execution_count": null,
      "outputs": []
    },
    {
      "cell_type": "code",
      "source": [],
      "metadata": {
        "id": "b77LcDP9sPR2"
      },
      "id": "b77LcDP9sPR2",
      "execution_count": null,
      "outputs": []
    },
    {
      "cell_type": "markdown",
      "source": [
        "HSPSO-CatBoost\n"
      ],
      "metadata": {
        "id": "wZFQ37UCYN1p"
      },
      "id": "wZFQ37UCYN1p"
    },
    {
      "cell_type": "code",
      "source": [
        "X = Motor_Fault_dataset.iloc[:, 0:4].values\n",
        "y = Motor_Fault_dataset.iloc[:, 4].values"
      ],
      "metadata": {
        "id": "f_P8BWzmYTg0"
      },
      "id": "f_P8BWzmYTg0",
      "execution_count": null,
      "outputs": []
    },
    {
      "cell_type": "code",
      "source": [
        "# Splitting the dataset into the Training set and Test set\n",
        "from sklearn.model_selection import train_test_split\n",
        "X_train, X_test, y_train, y_test = train_test_split(X, y, test_size = 0.2)"
      ],
      "metadata": {
        "id": "vLMueEZ6YfvA"
      },
      "id": "vLMueEZ6YfvA",
      "execution_count": null,
      "outputs": []
    },
    {
      "cell_type": "code",
      "source": [
        "pip install hyperactive"
      ],
      "metadata": {
        "id": "nsTDebhD9iQw",
        "colab": {
          "base_uri": "https://localhost:8080/"
        },
        "outputId": "f0bbf1d6-1c44-4e10-c104-9e6b5108481f"
      },
      "id": "nsTDebhD9iQw",
      "execution_count": null,
      "outputs": [
        {
          "output_type": "stream",
          "name": "stdout",
          "text": [
            "Collecting hyperactive\n",
            "  Downloading hyperactive-4.8.0-py3-none-any.whl.metadata (42 kB)\n",
            "\u001b[?25l     \u001b[90m━━━━━━━━━━━━━━━━━━━━━━━━━━━━━━━━━━━━━━━━\u001b[0m \u001b[32m0.0/42.8 kB\u001b[0m \u001b[31m?\u001b[0m eta \u001b[36m-:--:--\u001b[0m\r\u001b[2K     \u001b[90m━━━━━━━━━━━━━━━━━━━━━━━━━━━━━━━━━━━━━━━━\u001b[0m \u001b[32m42.8/42.8 kB\u001b[0m \u001b[31m2.8 MB/s\u001b[0m eta \u001b[36m0:00:00\u001b[0m\n",
            "\u001b[?25hRequirement already satisfied: numpy<3.0.0,>=1.18.1 in /usr/local/lib/python3.11/dist-packages (from hyperactive) (2.0.2)\n",
            "Requirement already satisfied: tqdm<5.0.0,>=4.48.0 in /usr/local/lib/python3.11/dist-packages (from hyperactive) (4.67.1)\n",
            "Requirement already satisfied: pandas<3.0.0 in /usr/local/lib/python3.11/dist-packages (from hyperactive) (2.2.2)\n",
            "Collecting gradient-free-optimizers<2.0.0,>=1.2.4 (from hyperactive)\n",
            "  Downloading gradient_free_optimizers-1.7.1-py3-none-any.whl.metadata (31 kB)\n",
            "Requirement already satisfied: scipy<2.0.0 in /usr/local/lib/python3.11/dist-packages (from gradient-free-optimizers<2.0.0,>=1.2.4->hyperactive) (1.15.3)\n",
            "Requirement already satisfied: scikit-learn!=0.23.*,>=0.21 in /usr/local/lib/python3.11/dist-packages (from gradient-free-optimizers<2.0.0,>=1.2.4->hyperactive) (1.6.1)\n",
            "Requirement already satisfied: python-dateutil>=2.8.2 in /usr/local/lib/python3.11/dist-packages (from pandas<3.0.0->hyperactive) (2.9.0.post0)\n",
            "Requirement already satisfied: pytz>=2020.1 in /usr/local/lib/python3.11/dist-packages (from pandas<3.0.0->hyperactive) (2025.2)\n",
            "Requirement already satisfied: tzdata>=2022.7 in /usr/local/lib/python3.11/dist-packages (from pandas<3.0.0->hyperactive) (2025.2)\n",
            "Requirement already satisfied: six>=1.5 in /usr/local/lib/python3.11/dist-packages (from python-dateutil>=2.8.2->pandas<3.0.0->hyperactive) (1.17.0)\n",
            "Requirement already satisfied: joblib>=1.2.0 in /usr/local/lib/python3.11/dist-packages (from scikit-learn!=0.23.*,>=0.21->gradient-free-optimizers<2.0.0,>=1.2.4->hyperactive) (1.5.1)\n",
            "Requirement already satisfied: threadpoolctl>=3.1.0 in /usr/local/lib/python3.11/dist-packages (from scikit-learn!=0.23.*,>=0.21->gradient-free-optimizers<2.0.0,>=1.2.4->hyperactive) (3.6.0)\n",
            "Downloading hyperactive-4.8.0-py3-none-any.whl (30 kB)\n",
            "Downloading gradient_free_optimizers-1.7.1-py3-none-any.whl (95 kB)\n",
            "\u001b[2K   \u001b[90m━━━━━━━━━━━━━━━━━━━━━━━━━━━━━━━━━━━━━━━━\u001b[0m \u001b[32m95.8/95.8 kB\u001b[0m \u001b[31m7.3 MB/s\u001b[0m eta \u001b[36m0:00:00\u001b[0m\n",
            "\u001b[?25hInstalling collected packages: gradient-free-optimizers, hyperactive\n",
            "Successfully installed gradient-free-optimizers-1.7.1 hyperactive-4.8.0\n"
          ]
        }
      ]
    },
    {
      "cell_type": "code",
      "source": [
        "pip install catboost"
      ],
      "metadata": {
        "id": "UTH39uc29p_Q",
        "colab": {
          "base_uri": "https://localhost:8080/"
        },
        "outputId": "292b1c42-f17b-4ece-9f20-ccffc025e34b"
      },
      "id": "UTH39uc29p_Q",
      "execution_count": null,
      "outputs": [
        {
          "output_type": "stream",
          "name": "stdout",
          "text": [
            "Collecting catboost\n",
            "  Downloading catboost-1.2.8-cp311-cp311-manylinux2014_x86_64.whl.metadata (1.2 kB)\n",
            "Requirement already satisfied: graphviz in /usr/local/lib/python3.11/dist-packages (from catboost) (0.20.3)\n",
            "Requirement already satisfied: matplotlib in /usr/local/lib/python3.11/dist-packages (from catboost) (3.10.0)\n",
            "Requirement already satisfied: numpy<3.0,>=1.16.0 in /usr/local/lib/python3.11/dist-packages (from catboost) (2.0.2)\n",
            "Requirement already satisfied: pandas>=0.24 in /usr/local/lib/python3.11/dist-packages (from catboost) (2.2.2)\n",
            "Requirement already satisfied: scipy in /usr/local/lib/python3.11/dist-packages (from catboost) (1.15.3)\n",
            "Requirement already satisfied: plotly in /usr/local/lib/python3.11/dist-packages (from catboost) (5.24.1)\n",
            "Requirement already satisfied: six in /usr/local/lib/python3.11/dist-packages (from catboost) (1.17.0)\n",
            "Requirement already satisfied: python-dateutil>=2.8.2 in /usr/local/lib/python3.11/dist-packages (from pandas>=0.24->catboost) (2.9.0.post0)\n",
            "Requirement already satisfied: pytz>=2020.1 in /usr/local/lib/python3.11/dist-packages (from pandas>=0.24->catboost) (2025.2)\n",
            "Requirement already satisfied: tzdata>=2022.7 in /usr/local/lib/python3.11/dist-packages (from pandas>=0.24->catboost) (2025.2)\n",
            "Requirement already satisfied: contourpy>=1.0.1 in /usr/local/lib/python3.11/dist-packages (from matplotlib->catboost) (1.3.2)\n",
            "Requirement already satisfied: cycler>=0.10 in /usr/local/lib/python3.11/dist-packages (from matplotlib->catboost) (0.12.1)\n",
            "Requirement already satisfied: fonttools>=4.22.0 in /usr/local/lib/python3.11/dist-packages (from matplotlib->catboost) (4.58.1)\n",
            "Requirement already satisfied: kiwisolver>=1.3.1 in /usr/local/lib/python3.11/dist-packages (from matplotlib->catboost) (1.4.8)\n",
            "Requirement already satisfied: packaging>=20.0 in /usr/local/lib/python3.11/dist-packages (from matplotlib->catboost) (24.2)\n",
            "Requirement already satisfied: pillow>=8 in /usr/local/lib/python3.11/dist-packages (from matplotlib->catboost) (11.2.1)\n",
            "Requirement already satisfied: pyparsing>=2.3.1 in /usr/local/lib/python3.11/dist-packages (from matplotlib->catboost) (3.2.3)\n",
            "Requirement already satisfied: tenacity>=6.2.0 in /usr/local/lib/python3.11/dist-packages (from plotly->catboost) (9.1.2)\n",
            "Downloading catboost-1.2.8-cp311-cp311-manylinux2014_x86_64.whl (99.2 MB)\n",
            "\u001b[2K   \u001b[90m━━━━━━━━━━━━━━━━━━━━━━━━━━━━━━━━━━━━━━━━\u001b[0m \u001b[32m99.2/99.2 MB\u001b[0m \u001b[31m8.8 MB/s\u001b[0m eta \u001b[36m0:00:00\u001b[0m\n",
            "\u001b[?25hInstalling collected packages: catboost\n",
            "Successfully installed catboost-1.2.8\n"
          ]
        }
      ]
    },
    {
      "cell_type": "markdown",
      "source": [
        "Deployment:"
      ],
      "metadata": {
        "id": "Ul9AHZU5uIcP"
      },
      "id": "Ul9AHZU5uIcP"
    },
    {
      "cell_type": "code",
      "source": [
        "import numpy as np\n",
        "import pandas as pd\n",
        "from datetime import datetime\n",
        "from sklearn.model_selection import cross_val_score\n",
        "from catboost import CatBoostClassifier, Pool\n",
        "from hyperactive import Hyperactive\n",
        "from hyperactive.optimizers import ParticleSwarmOptimizer\n",
        "from sklearn.metrics import classification_report, confusion_matrix\n",
        "import matplotlib.pyplot as plt\n",
        "import seaborn as sns\n",
        "\n",
        "# === DATA: Replace X_train, X_test, y_train, y_test with your actual data ===\n",
        "# Example:\n",
        "# X_train, X_test, y_train, y_test = train_test_split(...)\n",
        "\n",
        "X, y = X_train, y_train\n",
        "\n",
        "# === Objective Function ===\n",
        "def model(opt):\n",
        "    CatBoost = CatBoostClassifier(\n",
        "        iterations=opt[\"iterations\"],\n",
        "        depth=opt[\"depth\"],\n",
        "        learning_rate=opt[\"learning_rate\"],\n",
        "        l2_leaf_reg=opt[\"l2_leaf_reg\"],\n",
        "        bagging_temperature=opt[\"bagging_temperature\"],\n",
        "        random_strength=opt[\"random_strength\"],\n",
        "        verbose=False\n",
        "    )\n",
        "    scores = cross_val_score(CatBoost, X, y, cv=4)\n",
        "    return scores.mean()\n",
        "\n",
        "# === Search Space ===\n",
        "search_space = {\n",
        "    \"iterations\": list(range(50, 501, 50)),\n",
        "    \"depth\": list(range(1, 11)),\n",
        "    \"learning_rate\": [0.01, 0.05, 0.1],\n",
        "    \"l2_leaf_reg\": [1, 3, 5],\n",
        "    \"bagging_temperature\": [0.5, 1, 1.5],\n",
        "    \"random_strength\": [0.5, 1, 1.5],\n",
        "}\n",
        "\n",
        "# === Cauchy Mutation ===\n",
        "def cauchy_mutation(particle, gamma=0.3):\n",
        "    for key in particle:\n",
        "        if isinstance(particle[key], (int, float)):\n",
        "            particle[key] = particle[key] * (1 + gamma * np.tan(np.pi * (np.random.rand() - 0.5)))\n",
        "            particle[key] = np.clip(particle[key], min(search_space[key]), max(search_space[key]))\n",
        "            if isinstance(search_space[key][0], int):\n",
        "                particle[key] = int(round(particle[key]))\n",
        "    return particle\n",
        "\n",
        "# === HSPSO Optimizer Class ===\n",
        "class HybridStrategyPSO(ParticleSwarmOptimizer):\n",
        "    def __init__(self, n_part=20, max_iter=40, **kwargs):\n",
        "        super().__init__(**kwargs)\n",
        "        self.switch_threshold = 10\n",
        "        self.iteration = 0\n",
        "        self.topology = \"gbest\"\n",
        "        self.n_part = n_part\n",
        "        self.max_iter = max_iter\n",
        "\n",
        "        # Adaptive Inertia Parameters\n",
        "        self.H = 1\n",
        "        self.w_min = 0.4\n",
        "        self.w_max = 0.9\n",
        "        self.b = 0.9\n",
        "        self.scaling_factor = 0.5\n",
        "\n",
        "    def on_iteration(self, swarm, scores):\n",
        "        self.iteration += 1\n",
        "\n",
        "        # === Topology Switching ===\n",
        "        if self.iteration % self.switch_threshold == 0:\n",
        "            self.topology = \"lbest\" if self.topology == \"gbest\" else \"gbest\"\n",
        "            self.set_topology(self.topology)\n",
        "\n",
        "        # === Clone Best Particles ===\n",
        "        best_indices = np.argsort(scores)[:max(1, len(swarm) // 5)]\n",
        "        for idx in best_indices:\n",
        "            particle = swarm[idx].copy()\n",
        "            swarm.append(particle)\n",
        "            scores.append(scores[idx])\n",
        "\n",
        "        # === Prune Worst Particles ===\n",
        "        if len(swarm) > 2 * self.n_part:\n",
        "            worst_indices = np.argsort(scores)[-len(swarm)//4:]\n",
        "            for i in reversed(worst_indices):\n",
        "                del swarm[i]\n",
        "                del scores[i]\n",
        "\n",
        "        # === Nonlinear Adaptive Inertia ===\n",
        "        numerator = (self.w_max - self.w_min) * self.iteration\n",
        "        denominator = 1 + np.exp(-10 * self.b * ((2 * self.iteration) / (self.H * self.max_iter) - 1))\n",
        "        self.inertia = self.w_max - numerator / denominator\n",
        "\n",
        "        # === Cauchy Mutation ===\n",
        "        for i in range(len(swarm)):\n",
        "            if np.random.rand() < 0.2:\n",
        "                swarm[i] = cauchy_mutation(swarm[i])\n",
        "\n",
        "        # === Hook-Jeeves Local Search (simplified) ===\n",
        "        top_ids = np.argsort(scores)[:2]\n",
        "        for i in top_ids:\n",
        "            particle = swarm[i]\n",
        "            for key in particle:\n",
        "                if isinstance(particle[key], (int, float)):\n",
        "                    for delta in [-0.01, 0.01] if isinstance(particle[key], float) else [-1, 1]:\n",
        "                        trial = particle.copy()\n",
        "                        trial[key] = trial[key] + delta\n",
        "                        trial[key] = np.clip(trial[key], min(search_space[key]), max(search_space[key]))\n",
        "                        if isinstance(search_space[key][0], int):\n",
        "                            trial[key] = int(round(trial[key]))\n",
        "                        trial_score = model(trial)\n",
        "                        if trial_score > scores[i]:\n",
        "                            swarm[i] = trial\n",
        "                            scores[i] = trial_score\n",
        "\n",
        "        # === Random Restart ===\n",
        "        if np.random.rand() < 0.1:\n",
        "            random_idx = np.random.choice(len(swarm))\n",
        "            for key in swarm[random_idx]:\n",
        "                if isinstance(swarm[random_idx][key], (int, float)):\n",
        "                    swarm[random_idx][key] = np.random.choice(search_space[key])\n",
        "\n",
        "# === Run HSPSO Hyperparameter Tuning ===\n",
        "start_time = datetime.now()\n",
        "\n",
        "hyper = Hyperactive()\n",
        "\n",
        "optimizer = HybridStrategyPSO(\n",
        "    n_part=20,\n",
        "    max_iter=40,\n",
        "    inertia=0.5,\n",
        "    cognitive_weight=0.9,\n",
        "    social_weight=0.5,\n",
        "    temp_weight=0.4,\n",
        "    rand_rest_p=0.05,\n",
        ")\n",
        "\n",
        "hyper.add_search(model, search_space, optimizer=optimizer, n_iter=40)\n",
        "hyper.run()\n",
        "\n",
        "end_time = datetime.now()\n",
        "print('Tuning Duration:', end_time - start_time)\n",
        "\n",
        "# === Best Parameters ===\n",
        "best_params = hyper.best_para(model)\n",
        "print(\"Best Parameters:\", best_params)\n",
        "\n",
        "# === Train Final Model with Best Parameters ===\n",
        "train_pool = Pool(data=X_train, label=y_train)\n",
        "test_pool = Pool(data=X_test, label=y_test)\n",
        "\n",
        "final_model = CatBoostClassifier(\n",
        "    depth=best_params[\"depth\"],\n",
        "    iterations=best_params[\"iterations\"],\n",
        "    learning_rate=best_params[\"learning_rate\"],\n",
        "    l2_leaf_reg=best_params[\"l2_leaf_reg\"],\n",
        "    bagging_temperature=best_params[\"bagging_temperature\"],\n",
        "    random_strength=best_params[\"random_strength\"],\n",
        "    verbose=10\n",
        ")\n",
        "\n",
        "final_model.fit(\n",
        "    train_pool,\n",
        "    eval_set=test_pool,\n",
        "    verbose=best_params[\"iterations\"] // 10,\n",
        "    plot=True\n",
        ")\n"
      ],
      "metadata": {
        "id": "jQr38vF8A9_i",
        "colab": {
          "base_uri": "https://localhost:8080/",
          "height": 729,
          "referenced_widgets": [
            "3b110d98296c4a05bfe9de22697ba4d6"
          ]
        },
        "outputId": "6baf1190-8ceb-47dd-ceb5-968813463473"
      },
      "id": "jQr38vF8A9_i",
      "execution_count": null,
      "outputs": [
        {
          "output_type": "stream",
          "name": "stderr",
          "text": [
            "[0] model (Particle Swarm Optimization): 100%|\u001b[32m──────────\u001b[0m| 40/40 [08:18<00:00, 12.47s/it, best_iter=0, best_pos=None, best_score=-inf]"
          ]
        },
        {
          "output_type": "stream",
          "name": "stdout",
          "text": [
            "\n",
            "\n",
            "Results: 'model'  \n",
            "   Best score: 0.9928343949044587  \n",
            "   Best parameter set:\n",
            "      'iterations'          : 250.0  \n",
            "      'depth'               : 8.0  \n",
            "      'learning_rate'       : 0.05  \n",
            "      'l2_leaf_reg'         : 1.0  \n",
            "      'bagging_temperature' : 1.5  \n",
            "      'random_strength'     : 1.0  \n",
            "   Best iteration: 0  \n",
            " \n",
            "   Random seed: 1198416736  \n",
            " \n",
            "   Evaluation time   : 498.4077866077423 sec    [100.0 %]\n",
            "   Optimization time : 0.008425712585449219 sec    [0.0 %]\n",
            "   Iteration time    : 498.41621232032776 sec    [12.46 sec/iter]\n",
            " \n",
            "Tuning Duration: 0:08:18.721343\n",
            "Best Parameters: {'iterations': 250, 'depth': 8, 'learning_rate': 0.05, 'l2_leaf_reg': 1, 'bagging_temperature': 1.5, 'random_strength': 1}\n"
          ]
        },
        {
          "output_type": "stream",
          "name": "stderr",
          "text": [
            "\n"
          ]
        },
        {
          "output_type": "display_data",
          "data": {
            "text/plain": [
              "MetricVisualizer(layout=Layout(align_self='stretch', height='500px'))"
            ],
            "application/vnd.jupyter.widget-view+json": {
              "version_major": 2,
              "version_minor": 0,
              "model_id": "3b110d98296c4a05bfe9de22697ba4d6"
            }
          },
          "metadata": {}
        },
        {
          "output_type": "stream",
          "name": "stdout",
          "text": [
            "0:\tlearn: 1.9002807\ttest: 1.8969568\tbest: 1.8969568 (0)\ttotal: 25.2ms\tremaining: 6.27s\n",
            "25:\tlearn: 0.3780375\ttest: 0.3937122\tbest: 0.3937122 (25)\ttotal: 584ms\tremaining: 5.03s\n",
            "50:\tlearn: 0.1373123\ttest: 0.1619508\tbest: 0.1619508 (50)\ttotal: 1.34s\tremaining: 5.22s\n",
            "75:\tlearn: 0.0626459\ttest: 0.0952297\tbest: 0.0952297 (75)\ttotal: 2.07s\tremaining: 4.75s\n",
            "100:\tlearn: 0.0397064\ttest: 0.0771441\tbest: 0.0771441 (100)\ttotal: 3.22s\tremaining: 4.75s\n",
            "125:\tlearn: 0.0280897\ttest: 0.0691595\tbest: 0.0691595 (125)\ttotal: 4.29s\tremaining: 4.22s\n",
            "150:\tlearn: 0.0200930\ttest: 0.0642199\tbest: 0.0642199 (150)\ttotal: 5.6s\tremaining: 3.67s\n",
            "175:\tlearn: 0.0154809\ttest: 0.0626641\tbest: 0.0626641 (175)\ttotal: 6.18s\tremaining: 2.6s\n",
            "200:\tlearn: 0.0122644\ttest: 0.0615416\tbest: 0.0614833 (199)\ttotal: 6.74s\tremaining: 1.64s\n",
            "225:\tlearn: 0.0102026\ttest: 0.0613216\tbest: 0.0612943 (223)\ttotal: 7.5s\tremaining: 797ms\n",
            "249:\tlearn: 0.0085988\ttest: 0.0612232\tbest: 0.0608341 (239)\ttotal: 8.05s\tremaining: 0us\n",
            "\n",
            "bestTest = 0.06083409713\n",
            "bestIteration = 239\n",
            "\n",
            "Shrink model to first 240 iterations.\n"
          ]
        },
        {
          "output_type": "execute_result",
          "data": {
            "text/plain": [
              "<catboost.core.CatBoostClassifier at 0x7ba7f0655210>"
            ]
          },
          "metadata": {},
          "execution_count": 30
        }
      ]
    },
    {
      "cell_type": "code",
      "source": [
        "hyper.add_search(model, search_space, optimizer=optimizer, n_iter=40, initialize={\"random\": 20})\n"
      ],
      "metadata": {
        "id": "a_9tYmgz45VS"
      },
      "id": "a_9tYmgz45VS",
      "execution_count": null,
      "outputs": []
    },
    {
      "cell_type": "code",
      "source": [
        "learning_curve = final_model.get_evals_result()\n",
        "print(learning_curve)"
      ],
      "metadata": {
        "id": "2mRL06xdGZve",
        "colab": {
          "base_uri": "https://localhost:8080/"
        },
        "outputId": "52c448b5-6d3b-4c52-d246-833fe763e3d1"
      },
      "id": "2mRL06xdGZve",
      "execution_count": null,
      "outputs": [
        {
          "output_type": "stream",
          "name": "stdout",
          "text": [
            "{'learn': {'MultiClass': [1.9002806835382116, 1.693286782253291, 1.5147900232704263, 1.394197897748176, 1.2765488420744782, 1.1811830089339774, 1.097845687329242, 1.0225006755539856, 0.9543848076173331, 0.8993159821616346, 0.8399028380005046, 0.7873759222380647, 0.7404775876076598, 0.70208141501535, 0.6589105609668807, 0.6237685609693475, 0.5857440315858122, 0.5591827801681181, 0.5278808721682947, 0.5009657472166082, 0.47606635667388486, 0.45390064229614174, 0.43155678652013135, 0.412172377926198, 0.39566050725412405, 0.3780375067752943, 0.3601338708410512, 0.34337811200342233, 0.3278960408411944, 0.3144975226554768, 0.3007492835239262, 0.28751604886734283, 0.2756066524000114, 0.26367245104368586, 0.2525995151864771, 0.24276095815571125, 0.23204561179588662, 0.22190774425132292, 0.2136861075662945, 0.20543915252477876, 0.19665143063205195, 0.19147416767154832, 0.18413454105956067, 0.177564707288635, 0.17093023452411177, 0.16482203138472307, 0.1591680717070511, 0.1537614560580506, 0.14830948351013748, 0.14261914707748125, 0.13731229615834017, 0.13280022764493302, 0.1283727958793351, 0.12371618868739054, 0.11935107739215045, 0.1162617754120937, 0.11287536190011616, 0.10964603967906991, 0.10597857448060613, 0.10221262424457485, 0.09855622170038973, 0.0952016731836825, 0.09171696958612037, 0.08835483116361992, 0.08595631611814467, 0.08362493678636353, 0.08094436170243983, 0.0782776060123894, 0.07599672604471754, 0.07374459301421718, 0.07166183121986605, 0.07001510631811991, 0.06792843890797821, 0.06597729380524087, 0.06449022557736077, 0.06264589301793784, 0.06122214264243429, 0.059614863849760835, 0.05832037637147689, 0.057147046792776865, 0.05572221194620022, 0.05423449792190259, 0.05319961712123537, 0.052403781441478545, 0.05158284651703148, 0.05069140508476201, 0.049532182447113014, 0.04883323167828575, 0.04770988703013268, 0.046555034033807674, 0.04559695435013873, 0.044655395803492134, 0.044289903196051986, 0.043758618002990995, 0.0431906872893015, 0.042323287230899745, 0.041855048711539826, 0.04123594985035919, 0.04072135870740005, 0.04008848309818387, 0.03970641688881861, 0.038931574636936035, 0.038476075336194994, 0.03783556978915305, 0.03729215333936982, 0.03676129432061106, 0.03625300870322557, 0.035899757510851914, 0.035448429073857396, 0.034847096752289676, 0.03430318396473157, 0.034031863090902344, 0.033493928607072614, 0.03290803321329393, 0.03254410499202087, 0.03210929833913265, 0.031632781095907815, 0.03142073467493499, 0.030737240905699972, 0.030514586480225845, 0.030027031562262906, 0.029686008850336596, 0.029283218643044943, 0.028802210671757082, 0.028428376064157587, 0.028089727431222452, 0.027617698508891696, 0.02707980908568522, 0.02669965342205454, 0.02633471531084731, 0.02614684072575563, 0.025773320864622074, 0.02545889855509493, 0.025020976981001097, 0.024615966946128935, 0.024379013297123504, 0.024131766095651715, 0.02372375587203466, 0.023312671576234237, 0.022987183136202162, 0.022638390969364673, 0.02241868785536718, 0.022175134972991308, 0.021925830643515953, 0.021691614044746167, 0.0213239043666505, 0.020991712345857724, 0.02075586722285926, 0.020502515601311885, 0.02028761574960973, 0.02009298996255162, 0.019821990450317527, 0.019635036607867296, 0.019385928018054197, 0.019109147119868764, 0.0188924872968309, 0.018763685404900775, 0.018587821922332264, 0.01833258458787574, 0.018183809649501073, 0.018049809432904827, 0.017829111625002364, 0.01768101290201168, 0.01758140160144707, 0.017370761822887357, 0.01719475736881104, 0.01698766128541275, 0.01684801272704043, 0.01660005359448358, 0.016440495176795918, 0.016338063912942385, 0.016125206245220708, 0.01593667872837293, 0.015842323622260887, 0.015649264956063353, 0.015480859460107877, 0.015317545835577907, 0.015164252005824068, 0.014990882429795897, 0.014888283600687925, 0.014744712900723392, 0.014650549005082714, 0.014548644839332221, 0.014443795212261976, 0.014378894903421063, 0.01422658665059901, 0.01405884132154935, 0.013890968231167387, 0.013808569629523686, 0.013595719318942854, 0.013478485030594173, 0.013296480771303569, 0.013226731585808092, 0.013043767839593585, 0.012918498836393759, 0.0128304203673242, 0.01273779218738762, 0.01260969510364776, 0.012465592957393253, 0.012328590636061463, 0.012264435440816403, 0.01219921037732109, 0.012133702867328995, 0.01206638195253838, 0.01197000236020888, 0.011827052613221785, 0.011689510065707329, 0.011598835090408799, 0.011470340555829218, 0.011401317414466436, 0.011284225052168091, 0.011187940614633945, 0.01104382572414048, 0.010956987448652112, 0.010913162786792595, 0.010847255790521456, 0.010767547071705219, 0.010715904905137087, 0.01065766413682666, 0.010602130617735048, 0.010548538117624337, 0.010446003188072579, 0.010358397341045829, 0.010288432880692918, 0.010236741090525376, 0.010202615455325092, 0.010158581749186244, 0.010090235616468992, 0.0100068630858803, 0.009934159031006919, 0.00987687977043649, 0.009814230668201735, 0.009768767871588082, 0.009699369880216033, 0.00956402282876607, 0.009524251243150293, 0.009447280139362819, 0.009374229430413604, 0.009249789530554343, 0.009186323264398128, 0.009129681913840882, 0.009080157148232548, 0.008993656019974483, 0.008928147362472352, 0.008897087544149805, 0.008801733967811955, 0.008756171649941155, 0.008705018523939506, 0.008671283353538941, 0.008598788303203148]}, 'validation': {'MultiClass': [1.896956838768991, 1.6862186591268622, 1.5103566197299094, 1.3905322981803687, 1.2751622721560656, 1.1791590326414656, 1.097300507569247, 1.0249106591838018, 0.9580183923384707, 0.904099854893168, 0.8459616536914423, 0.7936127962136991, 0.7474058672185238, 0.7110857164746619, 0.6691069992005654, 0.6340109622417915, 0.596361828306686, 0.570933460820719, 0.5394559407293662, 0.5146589253293717, 0.49014499840155573, 0.4678040888895265, 0.44547083755204575, 0.4268976953404034, 0.4112681010725345, 0.39371224181066405, 0.376362386765363, 0.360446656853241, 0.34475391224360574, 0.33220821651414884, 0.3189273872829015, 0.3059128167683401, 0.29438322717208965, 0.28228281678025086, 0.2716610599767218, 0.26196169025336463, 0.2513019642333847, 0.24182663777987165, 0.23430571625903604, 0.2260486226958492, 0.2176967730654909, 0.21285666830873973, 0.2060736076115443, 0.1995939311275173, 0.19327971737995708, 0.18742439953281206, 0.1823369294385407, 0.17724332228136752, 0.17195755808245067, 0.1668007399077238, 0.16195083672070934, 0.15784549026951178, 0.15397593520691888, 0.1495062462057375, 0.14572716392309917, 0.14325371535057482, 0.14038141196802975, 0.13747759884610583, 0.1339015691203736, 0.130497162136588, 0.1272256298700248, 0.1241073791515187, 0.1208913896287676, 0.11776409925968488, 0.11548507219581855, 0.11384111202081751, 0.11152095902687292, 0.10916296385644905, 0.10700969156747847, 0.10496454767502468, 0.1030035130386463, 0.1016322575548186, 0.10000429360860816, 0.098330021245013, 0.09706012643062642, 0.09522966697813325, 0.09395046110551239, 0.09264243361995363, 0.09142276212626983, 0.09057250250289492, 0.0893199863836364, 0.08799914539657701, 0.08721991413349131, 0.08653124781894103, 0.08593428323893586, 0.08522394542733197, 0.08411464037729906, 0.08352515226448859, 0.08280406690641941, 0.08215251493668398, 0.08148657203181467, 0.08074045889279809, 0.0804353027444519, 0.08012386222892343, 0.07974769435383167, 0.07914375998136138, 0.07876947639422707, 0.07824991626172272, 0.07798408791179305, 0.07750304623477905, 0.07714414499888818, 0.0767988478210044, 0.07639799080922192, 0.07599921919211651, 0.07554916062371053, 0.07532033937619752, 0.07481826585124135, 0.07448624783604017, 0.07413424076299836, 0.07370331190431638, 0.07330721956617092, 0.0731848027161825, 0.07288320380811669, 0.07247006476876497, 0.07213392249092206, 0.07190207529452648, 0.07169116660103302, 0.0715710281669418, 0.07093113007572045, 0.07082956320214341, 0.07054436156518594, 0.07042161791013318, 0.07019819674568245, 0.06979617621799862, 0.06955583044145593, 0.06915953740092219, 0.0687800116612867, 0.06845312610554367, 0.06817848231211505, 0.0679890869655774, 0.0679404889971723, 0.06790188250053904, 0.06764472507085079, 0.06722794877858007, 0.06689829433124453, 0.0667846250307319, 0.06665271327330369, 0.06635976281131631, 0.06608005583219982, 0.06592512609179885, 0.06581437348088522, 0.06572020809091136, 0.06555775677982104, 0.06546926333503462, 0.06533254463513499, 0.0649920530447, 0.06464102845489447, 0.06463711979205734, 0.06439247399852085, 0.06424181849775455, 0.06421994328903748, 0.06400639102462391, 0.06398263187073921, 0.06391285273056704, 0.06381865814637466, 0.06378199570392927, 0.06367252085324042, 0.06355502423674997, 0.06357180949798358, 0.0634556067048685, 0.0633521376487205, 0.06322555502765992, 0.06306040028451501, 0.06297195941995978, 0.06301814042199158, 0.06293840556961937, 0.06285705582685304, 0.06277326037854052, 0.06268279005614706, 0.06274234067313564, 0.06275796202466172, 0.06283455324272277, 0.06274880209968801, 0.06268911562937211, 0.06274405601488901, 0.06266409536738499, 0.06263978691831126, 0.06247149844807203, 0.06255722071657824, 0.062493744169062206, 0.0625203237398461, 0.062352720599074846, 0.06231672088335493, 0.062341272310356084, 0.06228959272632604, 0.06218325118232126, 0.06225583814888078, 0.06201112950313316, 0.06209702702692956, 0.06207023105299274, 0.062045446717615485, 0.062007604803654554, 0.06195759876247839, 0.061771871422198324, 0.06180002199836612, 0.06173195880442636, 0.061696714677164075, 0.0615490247610482, 0.061512727726783976, 0.06148334469667022, 0.06154156016562206, 0.061527646439191, 0.061468161644963625, 0.06147804566508442, 0.061485278773170074, 0.06141831892517005, 0.061435895955276765, 0.06143672252440921, 0.061495539544057905, 0.061422409324303116, 0.06139408346369321, 0.06132564233776694, 0.06133696470944254, 0.06135497170342154, 0.061307532586774356, 0.061315492384345895, 0.06143347366678824, 0.061333090115693004, 0.06137413127582147, 0.06139331971976206, 0.061430802312722736, 0.061379450040001324, 0.06136264753945868, 0.06129430653924377, 0.061388901074520844, 0.061321614917611046, 0.06129055837671122, 0.06125244914548957, 0.06127122397134349, 0.06121069534810137, 0.061172628626959075, 0.061134726337394106, 0.061124978528106506, 0.061012688090141404, 0.06085530666735357, 0.060899861213407305, 0.06089973534618528, 0.06096224558881568, 0.06084033379044187, 0.06083409712963466, 0.06083659644594883, 0.06085544780106559, 0.06094031052507752, 0.060988504938639804, 0.060991724932800896, 0.06102696342640283, 0.061093397895236004, 0.0611259183828606, 0.06110734502345141, 0.0612232347135243]}}\n"
          ]
        }
      ]
    },
    {
      "cell_type": "code",
      "source": [
        "# Retrieve evaluation results\n",
        "learning_curve = final_model.get_evals_result()\n",
        "\n",
        "# Extract the metric values\n",
        "# Assuming 'learn' corresponds to the training dataset\n",
        "train_metric_values = learning_curve.get('learn', {}).get('MultiClass', [])\n",
        "\n",
        "# Check the extracted values\n",
        "if train_metric_values:\n",
        "    print(\"Training metric values:\", train_metric_values)\n",
        "else:\n",
        "    print(\"Metric 'MultiClass' not found in evaluation results.\")\n"
      ],
      "metadata": {
        "id": "3baCXa2jGafB",
        "colab": {
          "base_uri": "https://localhost:8080/"
        },
        "outputId": "484924b0-51a0-4f2d-81e5-bba2614b2a32"
      },
      "id": "3baCXa2jGafB",
      "execution_count": null,
      "outputs": [
        {
          "output_type": "stream",
          "name": "stdout",
          "text": [
            "Training metric values: [1.9002806835382116, 1.693286782253291, 1.5147900232704263, 1.394197897748176, 1.2765488420744782, 1.1811830089339774, 1.097845687329242, 1.0225006755539856, 0.9543848076173331, 0.8993159821616346, 0.8399028380005046, 0.7873759222380647, 0.7404775876076598, 0.70208141501535, 0.6589105609668807, 0.6237685609693475, 0.5857440315858122, 0.5591827801681181, 0.5278808721682947, 0.5009657472166082, 0.47606635667388486, 0.45390064229614174, 0.43155678652013135, 0.412172377926198, 0.39566050725412405, 0.3780375067752943, 0.3601338708410512, 0.34337811200342233, 0.3278960408411944, 0.3144975226554768, 0.3007492835239262, 0.28751604886734283, 0.2756066524000114, 0.26367245104368586, 0.2525995151864771, 0.24276095815571125, 0.23204561179588662, 0.22190774425132292, 0.2136861075662945, 0.20543915252477876, 0.19665143063205195, 0.19147416767154832, 0.18413454105956067, 0.177564707288635, 0.17093023452411177, 0.16482203138472307, 0.1591680717070511, 0.1537614560580506, 0.14830948351013748, 0.14261914707748125, 0.13731229615834017, 0.13280022764493302, 0.1283727958793351, 0.12371618868739054, 0.11935107739215045, 0.1162617754120937, 0.11287536190011616, 0.10964603967906991, 0.10597857448060613, 0.10221262424457485, 0.09855622170038973, 0.0952016731836825, 0.09171696958612037, 0.08835483116361992, 0.08595631611814467, 0.08362493678636353, 0.08094436170243983, 0.0782776060123894, 0.07599672604471754, 0.07374459301421718, 0.07166183121986605, 0.07001510631811991, 0.06792843890797821, 0.06597729380524087, 0.06449022557736077, 0.06264589301793784, 0.06122214264243429, 0.059614863849760835, 0.05832037637147689, 0.057147046792776865, 0.05572221194620022, 0.05423449792190259, 0.05319961712123537, 0.052403781441478545, 0.05158284651703148, 0.05069140508476201, 0.049532182447113014, 0.04883323167828575, 0.04770988703013268, 0.046555034033807674, 0.04559695435013873, 0.044655395803492134, 0.044289903196051986, 0.043758618002990995, 0.0431906872893015, 0.042323287230899745, 0.041855048711539826, 0.04123594985035919, 0.04072135870740005, 0.04008848309818387, 0.03970641688881861, 0.038931574636936035, 0.038476075336194994, 0.03783556978915305, 0.03729215333936982, 0.03676129432061106, 0.03625300870322557, 0.035899757510851914, 0.035448429073857396, 0.034847096752289676, 0.03430318396473157, 0.034031863090902344, 0.033493928607072614, 0.03290803321329393, 0.03254410499202087, 0.03210929833913265, 0.031632781095907815, 0.03142073467493499, 0.030737240905699972, 0.030514586480225845, 0.030027031562262906, 0.029686008850336596, 0.029283218643044943, 0.028802210671757082, 0.028428376064157587, 0.028089727431222452, 0.027617698508891696, 0.02707980908568522, 0.02669965342205454, 0.02633471531084731, 0.02614684072575563, 0.025773320864622074, 0.02545889855509493, 0.025020976981001097, 0.024615966946128935, 0.024379013297123504, 0.024131766095651715, 0.02372375587203466, 0.023312671576234237, 0.022987183136202162, 0.022638390969364673, 0.02241868785536718, 0.022175134972991308, 0.021925830643515953, 0.021691614044746167, 0.0213239043666505, 0.020991712345857724, 0.02075586722285926, 0.020502515601311885, 0.02028761574960973, 0.02009298996255162, 0.019821990450317527, 0.019635036607867296, 0.019385928018054197, 0.019109147119868764, 0.0188924872968309, 0.018763685404900775, 0.018587821922332264, 0.01833258458787574, 0.018183809649501073, 0.018049809432904827, 0.017829111625002364, 0.01768101290201168, 0.01758140160144707, 0.017370761822887357, 0.01719475736881104, 0.01698766128541275, 0.01684801272704043, 0.01660005359448358, 0.016440495176795918, 0.016338063912942385, 0.016125206245220708, 0.01593667872837293, 0.015842323622260887, 0.015649264956063353, 0.015480859460107877, 0.015317545835577907, 0.015164252005824068, 0.014990882429795897, 0.014888283600687925, 0.014744712900723392, 0.014650549005082714, 0.014548644839332221, 0.014443795212261976, 0.014378894903421063, 0.01422658665059901, 0.01405884132154935, 0.013890968231167387, 0.013808569629523686, 0.013595719318942854, 0.013478485030594173, 0.013296480771303569, 0.013226731585808092, 0.013043767839593585, 0.012918498836393759, 0.0128304203673242, 0.01273779218738762, 0.01260969510364776, 0.012465592957393253, 0.012328590636061463, 0.012264435440816403, 0.01219921037732109, 0.012133702867328995, 0.01206638195253838, 0.01197000236020888, 0.011827052613221785, 0.011689510065707329, 0.011598835090408799, 0.011470340555829218, 0.011401317414466436, 0.011284225052168091, 0.011187940614633945, 0.01104382572414048, 0.010956987448652112, 0.010913162786792595, 0.010847255790521456, 0.010767547071705219, 0.010715904905137087, 0.01065766413682666, 0.010602130617735048, 0.010548538117624337, 0.010446003188072579, 0.010358397341045829, 0.010288432880692918, 0.010236741090525376, 0.010202615455325092, 0.010158581749186244, 0.010090235616468992, 0.0100068630858803, 0.009934159031006919, 0.00987687977043649, 0.009814230668201735, 0.009768767871588082, 0.009699369880216033, 0.00956402282876607, 0.009524251243150293, 0.009447280139362819, 0.009374229430413604, 0.009249789530554343, 0.009186323264398128, 0.009129681913840882, 0.009080157148232548, 0.008993656019974483, 0.008928147362472352, 0.008897087544149805, 0.008801733967811955, 0.008756171649941155, 0.008705018523939506, 0.008671283353538941, 0.008598788303203148]\n"
          ]
        }
      ]
    },
    {
      "cell_type": "code",
      "source": [
        "import matplotlib.pyplot as plt\n",
        "\n",
        "# Plotting the learning curve\n",
        "plt.plot(train_metric_values, label='Training MultiClass Metric')\n",
        "plt.xlabel('Iterations')\n",
        "plt.ylabel('Metric Value')\n",
        "plt.title('Learning Curve')\n",
        "plt.legend()\n",
        "plt.grid()\n",
        "plt.show()\n"
      ],
      "metadata": {
        "id": "p0vioY6FGjQb",
        "colab": {
          "base_uri": "https://localhost:8080/",
          "height": 472
        },
        "outputId": "8e627eb0-d9e4-428e-d03a-198000b0fa2a"
      },
      "id": "p0vioY6FGjQb",
      "execution_count": null,
      "outputs": [
        {
          "output_type": "display_data",
          "data": {
            "text/plain": [
              "<Figure size 640x480 with 1 Axes>"
            ],
            "image/png": "[encoded data removed]"
          },
          "metadata": {}
        }
      ]
    },
    {
      "cell_type": "code",
      "source": [
        "# Predictions\n",
        "y_pred_train = final_model.predict(X_train)\n",
        "y_pred_test = final_model.predict(X_test)\n",
        "\n",
        "print(\"Classification Report - Training Set:\")\n",
        "print(classification_report(y_train, y_pred_train))\n",
        "\n",
        "print(\"Classification Report - Test Set:\")\n",
        "print(classification_report(y_test, y_pred_test))\n",
        "\n",
        "conf_matrix_train = confusion_matrix(y_train, y_pred_train)\n",
        "conf_matrix_test = confusion_matrix(y_test, y_pred_test)\n",
        "\n",
        "plt.figure(figsize=(15, 5))\n",
        "\n",
        "plt.subplot(1, 3, 1)\n",
        "sns.heatmap(conf_matrix_train, annot=True, fmt=\"d\", cmap=\"Blues\", cbar=False)\n",
        "plt.title(\"Confusion Matrix - Training Set\")\n",
        "plt.xlabel(\"Predicted\")\n",
        "plt.ylabel(\"True\")\n",
        "\n",
        "plt.subplot(1, 3, 2)\n",
        "sns.heatmap(conf_matrix_test, annot=True, fmt=\"d\", cmap=\"Blues\", cbar=False)\n",
        "plt.title(\"Confusion Matrix - Test Set\")\n",
        "plt.xlabel(\"Predicted\")\n",
        "plt.ylabel(\"True\")\n",
        "\n",
        "plt.tight_layout()\n",
        "plt.savefig('C-Matrix.svg', format='svg')\n",
        "plt.show()\n",
        "\n",
        "end_time = datetime.now()\n",
        "print('Deployment Duration: {}'.format(end_time - start_time))"
      ],
      "metadata": {
        "id": "EGySyu_OHNqG",
        "colab": {
          "base_uri": "https://localhost:8080/",
          "height": 1000
        },
        "outputId": "42953fe4-dd56-426d-ce4d-f453fcbaa39a"
      },
      "id": "EGySyu_OHNqG",
      "execution_count": null,
      "outputs": [
        {
          "output_type": "stream",
          "name": "stdout",
          "text": [
            "Classification Report - Training Set:\n",
            "              precision    recall  f1-score   support\n",
            "\n",
            "         111       1.00      1.00      1.00       132\n",
            "         124       1.00      1.00      1.00       140\n",
            "         137       1.00      1.00      1.00       146\n",
            "         176       1.00      1.00      1.00       135\n",
            "         191       1.00      1.00      1.00       137\n",
            "         203       1.00      1.00      1.00       134\n",
            "         215       1.00      1.00      1.00       158\n",
            "         228       1.00      1.00      1.00       144\n",
            "         240       1.00      1.00      1.00       130\n",
            "\n",
            "    accuracy                           1.00      1256\n",
            "   macro avg       1.00      1.00      1.00      1256\n",
            "weighted avg       1.00      1.00      1.00      1256\n",
            "\n",
            "Classification Report - Test Set:\n",
            "              precision    recall  f1-score   support\n",
            "\n",
            "         111       1.00      1.00      1.00        41\n",
            "         124       1.00      1.00      1.00        36\n",
            "         137       1.00      1.00      1.00        32\n",
            "         176       1.00      1.00      1.00        39\n",
            "         191       0.94      0.94      0.94        35\n",
            "         203       1.00      0.97      0.99        38\n",
            "         215       1.00      1.00      1.00        24\n",
            "         228       0.94      0.97      0.96        35\n",
            "         240       1.00      1.00      1.00        34\n",
            "\n",
            "    accuracy                           0.99       314\n",
            "   macro avg       0.99      0.99      0.99       314\n",
            "weighted avg       0.99      0.99      0.99       314\n",
            "\n"
          ]
        },
        {
          "output_type": "display_data",
          "data": {
            "text/plain": [
              "<Figure size 1500x500 with 2 Axes>"
            ],
            "image/png": "[encoded data removed]"
          },
          "metadata": {}
        },
        {
          "output_type": "stream",
          "name": "stdout",
          "text": [
            "Deployment Duration: 0:08:29.218606\n"
          ]
        }
      ]
    },
    {
      "cell_type": "code",
      "source": [
        "final_model.fit(X_train, y_train, eval_set=(X_test, y_test))\n",
        "\n",
        "# Evaluate train accuracy\n",
        "result_train = final_model.score(X_train, y_train)\n",
        "print(\"Train Accuracy : {}\".format(result_train))\n",
        "\n",
        "# Evaluate test accuracy\n",
        "result_test = final_model.score(X_test, y_test)\n",
        "print(\"Test Accuracy : {}\".format(result_test))\n",
        "\n",
        "# Predictions\n",
        "y_pred_train = final_model.predict(X_train)\n",
        "y_pred_test = final_model.predict(X_test)\n",
        "\n",
        "# Classification report\n",
        "print(\"Classification Report - Training Set:\")\n",
        "print(classification_report(y_train, y_pred_train))\n",
        "\n",
        "print(\"Classification Report - Test Set:\")\n",
        "print(classification_report(y_test, y_pred_test))"
      ],
      "metadata": {
        "id": "tEOwmxFROH5f",
        "colab": {
          "base_uri": "https://localhost:8080/"
        },
        "outputId": "1cf02217-aa17-4707-baa8-9dcb22769bfb"
      },
      "id": "tEOwmxFROH5f",
      "execution_count": null,
      "outputs": [
        {
          "output_type": "stream",
          "name": "stdout",
          "text": [
            "0:\tlearn: 1.9002807\ttest: 1.8969568\tbest: 1.8969568 (0)\ttotal: 64.6ms\tremaining: 16.1s\n",
            "10:\tlearn: 0.8399028\ttest: 0.8459617\tbest: 0.8459617 (10)\ttotal: 596ms\tremaining: 13s\n",
            "20:\tlearn: 0.4760664\ttest: 0.4901450\tbest: 0.4901450 (20)\ttotal: 1.16s\tremaining: 12.6s\n",
            "30:\tlearn: 0.3007493\ttest: 0.3189274\tbest: 0.3189274 (30)\ttotal: 1.64s\tremaining: 11.6s\n",
            "40:\tlearn: 0.1966514\ttest: 0.2176968\tbest: 0.2176968 (40)\ttotal: 2.15s\tremaining: 10.9s\n",
            "50:\tlearn: 0.1373123\ttest: 0.1619508\tbest: 0.1619508 (50)\ttotal: 2.91s\tremaining: 11.3s\n",
            "60:\tlearn: 0.0985562\ttest: 0.1272256\tbest: 0.1272256 (60)\ttotal: 3.48s\tremaining: 10.8s\n",
            "70:\tlearn: 0.0716618\ttest: 0.1030035\tbest: 0.1030035 (70)\ttotal: 4s\tremaining: 10.1s\n",
            "80:\tlearn: 0.0557222\ttest: 0.0893200\tbest: 0.0893200 (80)\ttotal: 4.54s\tremaining: 9.46s\n",
            "90:\tlearn: 0.0455970\ttest: 0.0814866\tbest: 0.0814866 (90)\ttotal: 5s\tremaining: 8.74s\n",
            "100:\tlearn: 0.0397064\ttest: 0.0771441\tbest: 0.0771441 (100)\ttotal: 5.61s\tremaining: 8.27s\n",
            "110:\tlearn: 0.0343032\ttest: 0.0733072\tbest: 0.0733072 (110)\ttotal: 6.6s\tremaining: 8.26s\n",
            "120:\tlearn: 0.0300270\ttest: 0.0705444\tbest: 0.0705444 (120)\ttotal: 7.36s\tremaining: 7.85s\n",
            "130:\tlearn: 0.0261468\ttest: 0.0679405\tbest: 0.0679405 (130)\ttotal: 8.22s\tremaining: 7.47s\n",
            "140:\tlearn: 0.0226384\ttest: 0.0658144\tbest: 0.0658144 (140)\ttotal: 9.38s\tremaining: 7.25s\n",
            "150:\tlearn: 0.0200930\ttest: 0.0642199\tbest: 0.0642199 (150)\ttotal: 9.87s\tremaining: 6.47s\n",
            "160:\tlearn: 0.0180498\ttest: 0.0633521\tbest: 0.0633521 (160)\ttotal: 10.5s\tremaining: 5.82s\n",
            "170:\tlearn: 0.0163381\ttest: 0.0627580\tbest: 0.0626828 (168)\ttotal: 11.1s\tremaining: 5.12s\n",
            "180:\tlearn: 0.0147447\ttest: 0.0625203\tbest: 0.0624715 (177)\ttotal: 11.8s\tremaining: 4.49s\n",
            "190:\tlearn: 0.0134785\ttest: 0.0620454\tbest: 0.0620111 (187)\ttotal: 12.5s\tremaining: 3.85s\n",
            "200:\tlearn: 0.0122644\ttest: 0.0615416\tbest: 0.0614833 (199)\ttotal: 12.9s\tremaining: 3.15s\n",
            "210:\tlearn: 0.0112842\ttest: 0.0613941\tbest: 0.0613941 (210)\ttotal: 13.5s\tremaining: 2.5s\n",
            "220:\tlearn: 0.0105485\ttest: 0.0614308\tbest: 0.0613075 (214)\ttotal: 14.1s\tremaining: 1.84s\n",
            "230:\tlearn: 0.0098769\ttest: 0.0611726\tbest: 0.0611726 (230)\ttotal: 14.8s\tremaining: 1.22s\n",
            "240:\tlearn: 0.0091297\ttest: 0.0608366\tbest: 0.0608341 (239)\ttotal: 15.5s\tremaining: 580ms\n",
            "249:\tlearn: 0.0085988\ttest: 0.0612232\tbest: 0.0608341 (239)\ttotal: 16s\tremaining: 0us\n",
            "\n",
            "bestTest = 0.06083409713\n",
            "bestIteration = 239\n",
            "\n",
            "Shrink model to first 240 iterations.\n",
            "Train Accuracy : 1.0\n",
            "Test Accuracy : 0.9872611464968153\n",
            "Classification Report - Training Set:\n",
            "              precision    recall  f1-score   support\n",
            "\n",
            "         111       1.00      1.00      1.00       132\n",
            "         124       1.00      1.00      1.00       140\n",
            "         137       1.00      1.00      1.00       146\n",
            "         176       1.00      1.00      1.00       135\n",
            "         191       1.00      1.00      1.00       137\n",
            "         203       1.00      1.00      1.00       134\n",
            "         215       1.00      1.00      1.00       158\n",
            "         228       1.00      1.00      1.00       144\n",
            "         240       1.00      1.00      1.00       130\n",
            "\n",
            "    accuracy                           1.00      1256\n",
            "   macro avg       1.00      1.00      1.00      1256\n",
            "weighted avg       1.00      1.00      1.00      1256\n",
            "\n",
            "Classification Report - Test Set:\n",
            "              precision    recall  f1-score   support\n",
            "\n",
            "         111       1.00      1.00      1.00        41\n",
            "         124       1.00      1.00      1.00        36\n",
            "         137       1.00      1.00      1.00        32\n",
            "         176       1.00      1.00      1.00        39\n",
            "         191       0.94      0.94      0.94        35\n",
            "         203       1.00      0.97      0.99        38\n",
            "         215       1.00      1.00      1.00        24\n",
            "         228       0.94      0.97      0.96        35\n",
            "         240       1.00      1.00      1.00        34\n",
            "\n",
            "    accuracy                           0.99       314\n",
            "   macro avg       0.99      0.99      0.99       314\n",
            "weighted avg       0.99      0.99      0.99       314\n",
            "\n"
          ]
        }
      ]
    }
  ],
  "metadata": {
    "kernelspec": {
      "display_name": "Python 3",
      "name": "python3"
    },
    "language_info": {
      "codemirror_mode": {
        "name": "ipython",
        "version": 3
      },
      "file_extension": ".py",
      "mimetype": "text/x-python",
      "name": "python",
      "nbconvert_exporter": "python",
      "pygments_lexer": "ipython3",
      "version": "3.11.2"
    },
    "colab": {
      "provenance": [],
      "gpuType": "T4",
      "include_colab_link": true
    },
    "accelerator": "GPU",
    "widgets": {
      "application/vnd.jupyter.widget-state+json": {
        "3b110d98296c4a05bfe9de22697ba4d6": {
          "model_module": "catboost-widget",
          "model_name": "CatboostWidgetModel",
          "model_module_version": "^1.0.0",
          "state": {
            "_dom_classes": [],
            "_model_module": "catboost-widget",
            "_model_module_version": "^1.0.0",
            "_model_name": "CatboostWidgetModel",
            "_view_count": null,
            "_view_module": "catboost-widget",
            "_view_module_version": "^1.0.0",
            "_view_name": "CatboostWidgetView",
            "data": {
              "catboost_info": {
                "path": "catboost_info",
                "name": "catboost_info",
                "content": {
                  "passed_iterations": 249,
                  "total_iterations": 250,
                  "data": {
                    "iterations": [
                      {
                        "learn": [
                          1.900280684
                        ],
                        "iteration": 0,
                        "passed_time": 0.02517119659,
                        "remaining_time": 6.267627951,
                        "test": [
                          1.896956839
                        ]
                      },
                      {
                        "learn": [
                          1.693286782
                        ],
                        "iteration": 1,
                        "passed_time": 0.04867081291,
                        "remaining_time": 6.035180801,
                        "test": [
                          1.686218659
                        ]
                      },
                      {
                        "learn": [
                          1.514790023
                        ],
                        "iteration": 2,
                        "passed_time": 0.07508007193,
                        "remaining_time": 6.181592589,
                        "test": [
                          1.51035662
                        ]
                      },
                      {
                        "learn": [
                          1.394197898
                        ],
                        "iteration": 3,
                        "passed_time": 0.09684439893,
                        "remaining_time": 5.955930534,
                        "test": [
                          1.390532298
                        ]
                      },
                      {
                        "learn": [
                          1.276548842
                        ],
                        "iteration": 4,
                        "passed_time": 0.118865946,
                        "remaining_time": 5.824431353,
                        "test": [
                          1.275162272
                        ]
                      },
                      {
                        "learn": [
                          1.181183009
                        ],
                        "iteration": 5,
                        "passed_time": 0.1406248392,
                        "remaining_time": 5.718743462,
                        "test": [
                          1.179159033
                        ]
                      },
                      {
                        "learn": [
                          1.097845687
                        ],
                        "iteration": 6,
                        "passed_time": 0.1624095723,
                        "remaining_time": 5.637932295,
                        "test": [
                          1.097300508
                        ]
                      },
                      {
                        "learn": [
                          1.022500676
                        ],
                        "iteration": 7,
                        "passed_time": 0.1872104311,
                        "remaining_time": 5.663115541,
                        "test": [
                          1.024910659
                        ]
                      },
                      {
                        "learn": [
                          0.9543848076
                        ],
                        "iteration": 8,
                        "passed_time": 0.2096123465,
                        "remaining_time": 5.612952833,
                        "test": [
                          0.9580183923
                        ]
                      },
                      {
                        "learn": [
                          0.8993159822
                        ],
                        "iteration": 9,
                        "passed_time": 0.2313479528,
                        "remaining_time": 5.552350867,
                        "test": [
                          0.9040998549
                        ]
                      },
                      {
                        "learn": [
                          0.839902838
                        ],
                        "iteration": 10,
                        "passed_time": 0.2537271812,
                        "remaining_time": 5.512799664,
                        "test": [
                          0.8459616537
                        ]
                      },
                      {
                        "learn": [
                          0.7873759222
                        ],
                        "iteration": 11,
                        "passed_time": 0.2758869858,
                        "remaining_time": 5.471758552,
                        "test": [
                          0.7936127962
                        ]
                      },
                      {
                        "learn": [
                          0.7404775876
                        ],
                        "iteration": 12,
                        "passed_time": 0.2986060024,
                        "remaining_time": 5.443817121,
                        "test": [
                          0.7474058672
                        ]
                      },
                      {
                        "learn": [
                          0.702081415
                        ],
                        "iteration": 13,
                        "passed_time": 0.3211470333,
                        "remaining_time": 5.413621419,
                        "test": [
                          0.7110857165
                        ]
                      },
                      {
                        "learn": [
                          0.658910561
                        ],
                        "iteration": 14,
                        "passed_time": 0.3428714802,
                        "remaining_time": 5.37165319,
                        "test": [
                          0.6691069992
                        ]
                      },
                      {
                        "learn": [
                          0.623768561
                        ],
                        "iteration": 15,
                        "passed_time": 0.3651006696,
                        "remaining_time": 5.339597292,
                        "test": [
                          0.6340109622
                        ]
                      },
                      {
                        "learn": [
                          0.5857440316
                        ],
                        "iteration": 16,
                        "passed_time": 0.388167616,
                        "remaining_time": 5.320179678,
                        "test": [
                          0.5963618283
                        ]
                      },
                      {
                        "learn": [
                          0.5591827802
                        ],
                        "iteration": 17,
                        "passed_time": 0.4099285832,
                        "remaining_time": 5.283523961,
                        "test": [
                          0.5709334608
                        ]
                      },
                      {
                        "learn": [
                          0.5278808722
                        ],
                        "iteration": 18,
                        "passed_time": 0.4315323036,
                        "remaining_time": 5.246524323,
                        "test": [
                          0.5394559407
                        ]
                      },
                      {
                        "learn": [
                          0.5009657472
                        ],
                        "iteration": 19,
                        "passed_time": 0.4532732707,
                        "remaining_time": 5.212642613,
                        "test": [
                          0.5146589253
                        ]
                      },
                      {
                        "learn": [
                          0.4760663567
                        ],
                        "iteration": 20,
                        "passed_time": 0.4748148211,
                        "remaining_time": 5.177742573,
                        "test": [
                          0.4901449984
                        ]
                      },
                      {
                        "learn": [
                          0.4539006423
                        ],
                        "iteration": 21,
                        "passed_time": 0.4965042876,
                        "remaining_time": 5.145589889,
                        "test": [
                          0.4678040889
                        ]
                      },
                      {
                        "learn": [
                          0.4315567865
                        ],
                        "iteration": 22,
                        "passed_time": 0.5187393407,
                        "remaining_time": 5.119731754,
                        "test": [
                          0.4454708376
                        ]
                      },
                      {
                        "learn": [
                          0.4121723779
                        ],
                        "iteration": 23,
                        "passed_time": 0.5401820836,
                        "remaining_time": 5.086714621,
                        "test": [
                          0.4268976953
                        ]
                      },
                      {
                        "learn": [
                          0.3956605073
                        ],
                        "iteration": 24,
                        "passed_time": 0.5619895966,
                        "remaining_time": 5.05790637,
                        "test": [
                          0.4112681011
                        ]
                      },
                      {
                        "learn": [
                          0.3780375068
                        ],
                        "iteration": 25,
                        "passed_time": 0.5838929862,
                        "remaining_time": 5.03046265,
                        "test": [
                          0.3937122418
                        ]
                      },
                      {
                        "learn": [
                          0.3601338708
                        ],
                        "iteration": 26,
                        "passed_time": 0.607317766,
                        "remaining_time": 5.015994882,
                        "test": [
                          0.3763623868
                        ]
                      },
                      {
                        "learn": [
                          0.343378112
                        ],
                        "iteration": 27,
                        "passed_time": 0.6452806518,
                        "remaining_time": 5.116153739,
                        "test": [
                          0.3604466569
                        ]
                      },
                      {
                        "learn": [
                          0.3278960408
                        ],
                        "iteration": 28,
                        "passed_time": 0.6693294756,
                        "remaining_time": 5.10075221,
                        "test": [
                          0.3447539122
                        ]
                      },
                      {
                        "learn": [
                          0.3144975227
                        ],
                        "iteration": 29,
                        "passed_time": 0.693578713,
                        "remaining_time": 5.086243895,
                        "test": [
                          0.3322082165
                        ]
                      },
                      {
                        "learn": [
                          0.3007492835
                        ],
                        "iteration": 30,
                        "passed_time": 0.7194339408,
                        "remaining_time": 5.082452679,
                        "test": [
                          0.3189273873
                        ]
                      },
                      {
                        "learn": [
                          0.2875160489
                        ],
                        "iteration": 31,
                        "passed_time": 0.741302708,
                        "remaining_time": 5.050124698,
                        "test": [
                          0.3059128168
                        ]
                      },
                      {
                        "learn": [
                          0.2756066524
                        ],
                        "iteration": 32,
                        "passed_time": 0.7641592802,
                        "remaining_time": 5.024926176,
                        "test": [
                          0.2943832272
                        ]
                      },
                      {
                        "learn": [
                          0.263672451
                        ],
                        "iteration": 33,
                        "passed_time": 0.9487501341,
                        "remaining_time": 6.027353793,
                        "test": [
                          0.2822828168
                        ]
                      },
                      {
                        "learn": [
                          0.2525995152
                        ],
                        "iteration": 34,
                        "passed_time": 0.9709852912,
                        "remaining_time": 5.964623932,
                        "test": [
                          0.27166106
                        ]
                      },
                      {
                        "learn": [
                          0.2427609582
                        ],
                        "iteration": 35,
                        "passed_time": 1.001425917,
                        "remaining_time": 5.952920727,
                        "test": [
                          0.2619616903
                        ]
                      },
                      {
                        "learn": [
                          0.2320456118
                        ],
                        "iteration": 36,
                        "passed_time": 1.023629907,
                        "remaining_time": 5.892788385,
                        "test": [
                          0.2513019642
                        ]
                      },
                      {
                        "learn": [
                          0.2219077443
                        ],
                        "iteration": 37,
                        "passed_time": 1.047608903,
                        "remaining_time": 5.844554934,
                        "test": [
                          0.2418266378
                        ]
                      },
                      {
                        "learn": [
                          0.2136861076
                        ],
                        "iteration": 38,
                        "passed_time": 1.071908986,
                        "remaining_time": 5.799302465,
                        "test": [
                          0.2343057163
                        ]
                      },
                      {
                        "learn": [
                          0.2054391525
                        ],
                        "iteration": 39,
                        "passed_time": 1.094185589,
                        "remaining_time": 5.74447434,
                        "test": [
                          0.2260486227
                        ]
                      },
                      {
                        "learn": [
                          0.1966514306
                        ],
                        "iteration": 40,
                        "passed_time": 1.115935387,
                        "remaining_time": 5.688548682,
                        "test": [
                          0.2176967731
                        ]
                      },
                      {
                        "learn": [
                          0.1914741677
                        ],
                        "iteration": 41,
                        "passed_time": 1.13740075,
                        "remaining_time": 5.632841811,
                        "test": [
                          0.2128566683
                        ]
                      },
                      {
                        "learn": [
                          0.1841345411
                        ],
                        "iteration": 42,
                        "passed_time": 1.161070097,
                        "remaining_time": 5.589337442,
                        "test": [
                          0.2060736076
                        ]
                      },
                      {
                        "learn": [
                          0.1775647073
                        ],
                        "iteration": 43,
                        "passed_time": 1.183252989,
                        "remaining_time": 5.539775358,
                        "test": [
                          0.1995939311
                        ]
                      },
                      {
                        "learn": [
                          0.1709302345
                        ],
                        "iteration": 44,
                        "passed_time": 1.205606363,
                        "remaining_time": 5.492206764,
                        "test": [
                          0.1932797174
                        ]
                      },
                      {
                        "learn": [
                          0.1648220314
                        ],
                        "iteration": 45,
                        "passed_time": 1.227310844,
                        "remaining_time": 5.442856785,
                        "test": [
                          0.1874243995
                        ]
                      },
                      {
                        "learn": [
                          0.1591680717
                        ],
                        "iteration": 46,
                        "passed_time": 1.250421823,
                        "remaining_time": 5.400758086,
                        "test": [
                          0.1823369294
                        ]
                      },
                      {
                        "learn": [
                          0.1537614561
                        ],
                        "iteration": 47,
                        "passed_time": 1.272280615,
                        "remaining_time": 5.35418092,
                        "test": [
                          0.1772433223
                        ]
                      },
                      {
                        "learn": [
                          0.1483094835
                        ],
                        "iteration": 48,
                        "passed_time": 1.294872279,
                        "remaining_time": 5.311618941,
                        "test": [
                          0.1719575581
                        ]
                      },
                      {
                        "learn": [
                          0.1426191471
                        ],
                        "iteration": 49,
                        "passed_time": 1.316407901,
                        "remaining_time": 5.265631603,
                        "test": [
                          0.1668007399
                        ]
                      },
                      {
                        "learn": [
                          0.1373122962
                        ],
                        "iteration": 50,
                        "passed_time": 1.338122362,
                        "remaining_time": 5.221300981,
                        "test": [
                          0.1619508367
                        ]
                      },
                      {
                        "learn": [
                          0.1328002276
                        ],
                        "iteration": 51,
                        "passed_time": 1.360116215,
                        "remaining_time": 5.178904051,
                        "test": [
                          0.1578454903
                        ]
                      },
                      {
                        "learn": [
                          0.1283727959
                        ],
                        "iteration": 52,
                        "passed_time": 1.382239028,
                        "remaining_time": 5.137756386,
                        "test": [
                          0.1539759352
                        ]
                      },
                      {
                        "learn": [
                          0.1237161887
                        ],
                        "iteration": 53,
                        "passed_time": 1.404402428,
                        "remaining_time": 5.097460665,
                        "test": [
                          0.1495062462
                        ]
                      },
                      {
                        "learn": [
                          0.1193510774
                        ],
                        "iteration": 54,
                        "passed_time": 1.425941242,
                        "remaining_time": 5.055609857,
                        "test": [
                          0.1457271639
                        ]
                      },
                      {
                        "learn": [
                          0.1162617754
                        ],
                        "iteration": 55,
                        "passed_time": 1.447649342,
                        "remaining_time": 5.015070936,
                        "test": [
                          0.1432537154
                        ]
                      },
                      {
                        "learn": [
                          0.1128753619
                        ],
                        "iteration": 56,
                        "passed_time": 1.469863862,
                        "remaining_time": 4.976907464,
                        "test": [
                          0.140381412
                        ]
                      },
                      {
                        "learn": [
                          0.1096460397
                        ],
                        "iteration": 57,
                        "passed_time": 1.491827707,
                        "remaining_time": 4.938464134,
                        "test": [
                          0.1374775988
                        ]
                      },
                      {
                        "learn": [
                          0.1059785745
                        ],
                        "iteration": 58,
                        "passed_time": 1.513932674,
                        "remaining_time": 4.901036284,
                        "test": [
                          0.1339015691
                        ]
                      },
                      {
                        "learn": [
                          0.1022126242
                        ],
                        "iteration": 59,
                        "passed_time": 1.535576518,
                        "remaining_time": 4.862658973,
                        "test": [
                          0.1304971621
                        ]
                      },
                      {
                        "learn": [
                          0.0985562217
                        ],
                        "iteration": 60,
                        "passed_time": 1.559971885,
                        "remaining_time": 4.833355511,
                        "test": [
                          0.1272256299
                        ]
                      },
                      {
                        "learn": [
                          0.09520167318
                        ],
                        "iteration": 61,
                        "passed_time": 1.581715069,
                        "remaining_time": 4.796168272,
                        "test": [
                          0.1241073792
                        ]
                      },
                      {
                        "learn": [
                          0.09171696959
                        ],
                        "iteration": 62,
                        "passed_time": 1.603393293,
                        "remaining_time": 4.759278503,
                        "test": [
                          0.1208913896
                        ]
                      },
                      {
                        "learn": [
                          0.08835483116
                        ],
                        "iteration": 63,
                        "passed_time": 1.624757161,
                        "remaining_time": 4.7219505,
                        "test": [
                          0.1177640993
                        ]
                      },
                      {
                        "learn": [
                          0.08595631612
                        ],
                        "iteration": 64,
                        "passed_time": 1.658293405,
                        "remaining_time": 4.719758152,
                        "test": [
                          0.1154850722
                        ]
                      },
                      {
                        "learn": [
                          0.08362493679
                        ],
                        "iteration": 65,
                        "passed_time": 1.687922556,
                        "remaining_time": 4.70572349,
                        "test": [
                          0.113841112
                        ]
                      },
                      {
                        "learn": [
                          0.0809443617
                        ],
                        "iteration": 66,
                        "passed_time": 1.711651785,
                        "remaining_time": 4.675108606,
                        "test": [
                          0.111520959
                        ]
                      },
                      {
                        "learn": [
                          0.07827760601
                        ],
                        "iteration": 67,
                        "passed_time": 1.733439153,
                        "remaining_time": 4.639498909,
                        "test": [
                          0.1091629639
                        ]
                      },
                      {
                        "learn": [
                          0.07599672604
                        ],
                        "iteration": 68,
                        "passed_time": 1.755570266,
                        "remaining_time": 4.605191566,
                        "test": [
                          0.1070096916
                        ]
                      },
                      {
                        "learn": [
                          0.07374459301
                        ],
                        "iteration": 69,
                        "passed_time": 1.779053421,
                        "remaining_time": 4.574708796,
                        "test": [
                          0.1049645477
                        ]
                      },
                      {
                        "learn": [
                          0.07166183122
                        ],
                        "iteration": 70,
                        "passed_time": 1.800766817,
                        "remaining_time": 4.539961412,
                        "test": [
                          0.103003513
                        ]
                      },
                      {
                        "learn": [
                          0.07001510632
                        ],
                        "iteration": 71,
                        "passed_time": 1.823320464,
                        "remaining_time": 4.50765337,
                        "test": [
                          0.1016322576
                        ]
                      },
                      {
                        "learn": [
                          0.06792843891
                        ],
                        "iteration": 72,
                        "passed_time": 2.002673107,
                        "remaining_time": 4.855796437,
                        "test": [
                          0.1000042936
                        ]
                      },
                      {
                        "learn": [
                          0.06597729381
                        ],
                        "iteration": 73,
                        "passed_time": 2.028828493,
                        "remaining_time": 4.82532182,
                        "test": [
                          0.09833002125
                        ]
                      },
                      {
                        "learn": [
                          0.06449022558
                        ],
                        "iteration": 74,
                        "passed_time": 2.052335747,
                        "remaining_time": 4.788783409,
                        "test": [
                          0.09706012643
                        ]
                      },
                      {
                        "learn": [
                          0.06264589302
                        ],
                        "iteration": 75,
                        "passed_time": 2.074049079,
                        "remaining_time": 4.748480786,
                        "test": [
                          0.09522966698
                        ]
                      },
                      {
                        "learn": [
                          0.06122214264
                        ],
                        "iteration": 76,
                        "passed_time": 2.09651654,
                        "remaining_time": 4.710355344,
                        "test": [
                          0.09395046111
                        ]
                      },
                      {
                        "learn": [
                          0.05961486385
                        ],
                        "iteration": 77,
                        "passed_time": 2.117933611,
                        "remaining_time": 4.670315143,
                        "test": [
                          0.09264243362
                        ]
                      },
                      {
                        "learn": [
                          0.05832037637
                        ],
                        "iteration": 78,
                        "passed_time": 2.149310998,
                        "remaining_time": 4.652306085,
                        "test": [
                          0.09142276213
                        ]
                      },
                      {
                        "learn": [
                          0.05714704679
                        ],
                        "iteration": 79,
                        "passed_time": 2.180965084,
                        "remaining_time": 4.634550803,
                        "test": [
                          0.0905725025
                        ]
                      },
                      {
                        "learn": [
                          0.05572221195
                        ],
                        "iteration": 80,
                        "passed_time": 2.220247066,
                        "remaining_time": 4.632367335,
                        "test": [
                          0.08931998638
                        ]
                      },
                      {
                        "learn": [
                          0.05423449792
                        ],
                        "iteration": 81,
                        "passed_time": 2.260911324,
                        "remaining_time": 4.632111006,
                        "test": [
                          0.0879991454
                        ]
                      },
                      {
                        "learn": [
                          0.05319961712
                        ],
                        "iteration": 82,
                        "passed_time": 2.302373645,
                        "remaining_time": 4.632486732,
                        "test": [
                          0.08721991413
                        ]
                      },
                      {
                        "learn": [
                          0.05240378144
                        ],
                        "iteration": 83,
                        "passed_time": 2.34892648,
                        "remaining_time": 4.641926139,
                        "test": [
                          0.08653124782
                        ]
                      },
                      {
                        "learn": [
                          0.05158284652
                        ],
                        "iteration": 84,
                        "passed_time": 2.38394793,
                        "remaining_time": 4.627663629,
                        "test": [
                          0.08593428324
                        ]
                      },
                      {
                        "learn": [
                          0.05069140508
                        ],
                        "iteration": 85,
                        "passed_time": 2.415744172,
                        "remaining_time": 4.606767956,
                        "test": [
                          0.08522394543
                        ]
                      },
                      {
                        "learn": [
                          0.04953218245
                        ],
                        "iteration": 86,
                        "passed_time": 2.45159238,
                        "remaining_time": 4.59321331,
                        "test": [
                          0.08411464038
                        ]
                      },
                      {
                        "learn": [
                          0.04883323168
                        ],
                        "iteration": 87,
                        "passed_time": 2.492118905,
                        "remaining_time": 4.587764347,
                        "test": [
                          0.08352515226
                        ]
                      },
                      {
                        "learn": [
                          0.04770988703
                        ],
                        "iteration": 88,
                        "passed_time": 2.530056254,
                        "remaining_time": 4.576843335,
                        "test": [
                          0.08280406691
                        ]
                      },
                      {
                        "learn": [
                          0.04655503403
                        ],
                        "iteration": 89,
                        "passed_time": 2.568597435,
                        "remaining_time": 4.566395439,
                        "test": [
                          0.08215251494
                        ]
                      },
                      {
                        "learn": [
                          0.04559695435
                        ],
                        "iteration": 90,
                        "passed_time": 2.613156213,
                        "remaining_time": 4.565844371,
                        "test": [
                          0.08148657203
                        ]
                      },
                      {
                        "learn": [
                          0.0446553958
                        ],
                        "iteration": 91,
                        "passed_time": 2.660429206,
                        "remaining_time": 4.568997983,
                        "test": [
                          0.08074045889
                        ]
                      },
                      {
                        "learn": [
                          0.0442899032
                        ],
                        "iteration": 92,
                        "passed_time": 2.707456586,
                        "remaining_time": 4.570652516,
                        "test": [
                          0.08043530274
                        ]
                      },
                      {
                        "learn": [
                          0.043758618
                        ],
                        "iteration": 93,
                        "passed_time": 2.751400201,
                        "remaining_time": 4.566153524,
                        "test": [
                          0.08012386223
                        ]
                      },
                      {
                        "learn": [
                          0.04319068729
                        ],
                        "iteration": 94,
                        "passed_time": 2.796057017,
                        "remaining_time": 4.561987765,
                        "test": [
                          0.07974769435
                        ]
                      },
                      {
                        "learn": [
                          0.04232328723
                        ],
                        "iteration": 95,
                        "passed_time": 2.872339727,
                        "remaining_time": 4.607711646,
                        "test": [
                          0.07914375998
                        ]
                      },
                      {
                        "learn": [
                          0.04185504871
                        ],
                        "iteration": 96,
                        "passed_time": 2.951755294,
                        "remaining_time": 4.655861444,
                        "test": [
                          0.07876947639
                        ]
                      },
                      {
                        "learn": [
                          0.04123594985
                        ],
                        "iteration": 97,
                        "passed_time": 3.027870257,
                        "remaining_time": 4.696288562,
                        "test": [
                          0.07824991626
                        ]
                      },
                      {
                        "learn": [
                          0.04072135871
                        ],
                        "iteration": 98,
                        "passed_time": 3.096652296,
                        "remaining_time": 4.723176734,
                        "test": [
                          0.07798408791
                        ]
                      },
                      {
                        "learn": [
                          0.0400884831
                        ],
                        "iteration": 99,
                        "passed_time": 3.159716486,
                        "remaining_time": 4.739574729,
                        "test": [
                          0.07750304623
                        ]
                      },
                      {
                        "learn": [
                          0.03970641689
                        ],
                        "iteration": 100,
                        "passed_time": 3.219703599,
                        "remaining_time": 4.749859765,
                        "test": [
                          0.077144145
                        ]
                      },
                      {
                        "learn": [
                          0.03893157464
                        ],
                        "iteration": 101,
                        "passed_time": 3.29111599,
                        "remaining_time": 4.77534477,
                        "test": [
                          0.07679884782
                        ]
                      },
                      {
                        "learn": [
                          0.03847607534
                        ],
                        "iteration": 102,
                        "passed_time": 3.363847123,
                        "remaining_time": 4.80083036,
                        "test": [
                          0.07639799081
                        ]
                      },
                      {
                        "learn": [
                          0.03783556979
                        ],
                        "iteration": 103,
                        "passed_time": 3.407573581,
                        "remaining_time": 4.783709065,
                        "test": [
                          0.07599921919
                        ]
                      },
                      {
                        "learn": [
                          0.03729215334
                        ],
                        "iteration": 104,
                        "passed_time": 3.449328,
                        "remaining_time": 4.763357715,
                        "test": [
                          0.07554916062
                        ]
                      },
                      {
                        "learn": [
                          0.03676129432
                        ],
                        "iteration": 105,
                        "passed_time": 3.488567083,
                        "remaining_time": 4.739185471,
                        "test": [
                          0.07532033938
                        ]
                      },
                      {
                        "learn": [
                          0.0362530087
                        ],
                        "iteration": 106,
                        "passed_time": 3.521764108,
                        "remaining_time": 4.706656705,
                        "test": [
                          0.07481826585
                        ]
                      },
                      {
                        "learn": [
                          0.03589975751
                        ],
                        "iteration": 107,
                        "passed_time": 3.567628646,
                        "remaining_time": 4.690770997,
                        "test": [
                          0.07448624784
                        ]
                      },
                      {
                        "learn": [
                          0.03544842907
                        ],
                        "iteration": 108,
                        "passed_time": 3.609017868,
                        "remaining_time": 4.66854605,
                        "test": [
                          0.07413424076
                        ]
                      },
                      {
                        "learn": [
                          0.03484709675
                        ],
                        "iteration": 109,
                        "passed_time": 3.64996608,
                        "remaining_time": 4.645411375,
                        "test": [
                          0.0737033119
                        ]
                      },
                      {
                        "learn": [
                          0.03430318396
                        ],
                        "iteration": 110,
                        "passed_time": 3.692975548,
                        "remaining_time": 4.624536948,
                        "test": [
                          0.07330721957
                        ]
                      },
                      {
                        "learn": [
                          0.03403186309
                        ],
                        "iteration": 111,
                        "passed_time": 3.733913747,
                        "remaining_time": 4.600715152,
                        "test": [
                          0.07318480272
                        ]
                      },
                      {
                        "learn": [
                          0.03349392861
                        ],
                        "iteration": 112,
                        "passed_time": 3.786421554,
                        "remaining_time": 4.590617283,
                        "test": [
                          0.07288320381
                        ]
                      },
                      {
                        "learn": [
                          0.03290803321
                        ],
                        "iteration": 113,
                        "passed_time": 3.826483424,
                        "remaining_time": 4.564927594,
                        "test": [
                          0.07247006477
                        ]
                      },
                      {
                        "learn": [
                          0.03254410499
                        ],
                        "iteration": 114,
                        "passed_time": 3.864435178,
                        "remaining_time": 4.536510861,
                        "test": [
                          0.07213392249
                        ]
                      },
                      {
                        "learn": [
                          0.03210929834
                        ],
                        "iteration": 115,
                        "passed_time": 3.892443156,
                        "remaining_time": 4.496442957,
                        "test": [
                          0.07190207529
                        ]
                      },
                      {
                        "learn": [
                          0.0316327811
                        ],
                        "iteration": 116,
                        "passed_time": 3.926887784,
                        "remaining_time": 4.463898079,
                        "test": [
                          0.0716911666
                        ]
                      },
                      {
                        "learn": [
                          0.03142073467
                        ],
                        "iteration": 117,
                        "passed_time": 3.966091009,
                        "remaining_time": 4.436644179,
                        "test": [
                          0.07157102817
                        ]
                      },
                      {
                        "learn": [
                          0.03073724091
                        ],
                        "iteration": 118,
                        "passed_time": 4.007335294,
                        "remaining_time": 4.411436332,
                        "test": [
                          0.07093113008
                        ]
                      },
                      {
                        "learn": [
                          0.03051458648
                        ],
                        "iteration": 119,
                        "passed_time": 4.056707466,
                        "remaining_time": 4.394766422,
                        "test": [
                          0.0708295632
                        ]
                      },
                      {
                        "learn": [
                          0.03002703156
                        ],
                        "iteration": 120,
                        "passed_time": 4.097646751,
                        "remaining_time": 4.368565544,
                        "test": [
                          0.07054436157
                        ]
                      },
                      {
                        "learn": [
                          0.02968600885
                        ],
                        "iteration": 121,
                        "passed_time": 4.141903046,
                        "remaining_time": 4.345603196,
                        "test": [
                          0.07042161791
                        ]
                      },
                      {
                        "learn": [
                          0.02928321864
                        ],
                        "iteration": 122,
                        "passed_time": 4.179787261,
                        "remaining_time": 4.315715301,
                        "test": [
                          0.07019819675
                        ]
                      },
                      {
                        "learn": [
                          0.02880221067
                        ],
                        "iteration": 123,
                        "passed_time": 4.213586989,
                        "remaining_time": 4.281548069,
                        "test": [
                          0.06979617622
                        ]
                      },
                      {
                        "learn": [
                          0.02842837606
                        ],
                        "iteration": 124,
                        "passed_time": 4.252498078,
                        "remaining_time": 4.252498078,
                        "test": [
                          0.06955583044
                        ]
                      },
                      {
                        "learn": [
                          0.02808972743
                        ],
                        "iteration": 125,
                        "passed_time": 4.292602037,
                        "remaining_time": 4.224465497,
                        "test": [
                          0.0691595374
                        ]
                      },
                      {
                        "learn": [
                          0.02761769851
                        ],
                        "iteration": 126,
                        "passed_time": 4.332754238,
                        "remaining_time": 4.196289537,
                        "test": [
                          0.06878001166
                        ]
                      },
                      {
                        "learn": [
                          0.02707980909
                        ],
                        "iteration": 127,
                        "passed_time": 4.374629521,
                        "remaining_time": 4.169568762,
                        "test": [
                          0.06845312611
                        ]
                      },
                      {
                        "learn": [
                          0.02669965342
                        ],
                        "iteration": 128,
                        "passed_time": 4.417360935,
                        "remaining_time": 4.143416071,
                        "test": [
                          0.06817848231
                        ]
                      },
                      {
                        "learn": [
                          0.02633471531
                        ],
                        "iteration": 129,
                        "passed_time": 4.463029593,
                        "remaining_time": 4.119719625,
                        "test": [
                          0.06798908697
                        ]
                      },
                      {
                        "learn": [
                          0.02614684073
                        ],
                        "iteration": 130,
                        "passed_time": 4.511233038,
                        "remaining_time": 4.097990317,
                        "test": [
                          0.067940489
                        ]
                      },
                      {
                        "learn": [
                          0.02577332086
                        ],
                        "iteration": 131,
                        "passed_time": 4.555065028,
                        "remaining_time": 4.07195207,
                        "test": [
                          0.0679018825
                        ]
                      },
                      {
                        "learn": [
                          0.02545889856
                        ],
                        "iteration": 132,
                        "passed_time": 4.593844484,
                        "remaining_time": 4.041201538,
                        "test": [
                          0.06764472507
                        ]
                      },
                      {
                        "learn": [
                          0.02502097698
                        ],
                        "iteration": 133,
                        "passed_time": 4.634900076,
                        "remaining_time": 4.012301558,
                        "test": [
                          0.06722794878
                        ]
                      },
                      {
                        "learn": [
                          0.02461596695
                        ],
                        "iteration": 134,
                        "passed_time": 4.684067709,
                        "remaining_time": 3.990131752,
                        "test": [
                          0.06689829433
                        ]
                      },
                      {
                        "learn": [
                          0.0243790133
                        ],
                        "iteration": 135,
                        "passed_time": 4.732003645,
                        "remaining_time": 3.966532467,
                        "test": [
                          0.06678462503
                        ]
                      },
                      {
                        "learn": [
                          0.0241317661
                        ],
                        "iteration": 136,
                        "passed_time": 4.777663425,
                        "remaining_time": 3.94070049,
                        "test": [
                          0.06665271327
                        ]
                      },
                      {
                        "learn": [
                          0.02372375587
                        ],
                        "iteration": 137,
                        "passed_time": 4.818576628,
                        "remaining_time": 3.910728858,
                        "test": [
                          0.06635976281
                        ]
                      },
                      {
                        "learn": [
                          0.02331267158
                        ],
                        "iteration": 138,
                        "passed_time": 4.872942743,
                        "remaining_time": 3.891342766,
                        "test": [
                          0.06608005583
                        ]
                      },
                      {
                        "learn": [
                          0.02298718314
                        ],
                        "iteration": 139,
                        "passed_time": 4.913757525,
                        "remaining_time": 3.860809484,
                        "test": [
                          0.06592512609
                        ]
                      },
                      {
                        "learn": [
                          0.02263839097
                        ],
                        "iteration": 140,
                        "passed_time": 4.99408221,
                        "remaining_time": 3.860673482,
                        "test": [
                          0.06581437348
                        ]
                      },
                      {
                        "learn": [
                          0.02241868786
                        ],
                        "iteration": 141,
                        "passed_time": 5.108114671,
                        "remaining_time": 3.885044961,
                        "test": [
                          0.06572020809
                        ]
                      },
                      {
                        "learn": [
                          0.02217513497
                        ],
                        "iteration": 142,
                        "passed_time": 5.179922741,
                        "remaining_time": 3.875886247,
                        "test": [
                          0.06555775678
                        ]
                      },
                      {
                        "learn": [
                          0.02192583064
                        ],
                        "iteration": 143,
                        "passed_time": 5.245134488,
                        "remaining_time": 3.861001776,
                        "test": [
                          0.06546926334
                        ]
                      },
                      {
                        "learn": [
                          0.02169161404
                        ],
                        "iteration": 144,
                        "passed_time": 5.308487254,
                        "remaining_time": 3.844076977,
                        "test": [
                          0.06533254464
                        ]
                      },
                      {
                        "learn": [
                          0.02132390437
                        ],
                        "iteration": 145,
                        "passed_time": 5.380856458,
                        "remaining_time": 3.832938847,
                        "test": [
                          0.06499205304
                        ]
                      },
                      {
                        "learn": [
                          0.02099171235
                        ],
                        "iteration": 146,
                        "passed_time": 5.44089003,
                        "remaining_time": 3.812324307,
                        "test": [
                          0.06464102845
                        ]
                      },
                      {
                        "learn": [
                          0.02075586722
                        ],
                        "iteration": 147,
                        "passed_time": 5.482169305,
                        "remaining_time": 3.778251819,
                        "test": [
                          0.06463711979
                        ]
                      },
                      {
                        "learn": [
                          0.0205025156
                        ],
                        "iteration": 148,
                        "passed_time": 5.524077046,
                        "remaining_time": 3.744508602,
                        "test": [
                          0.064392474
                        ]
                      },
                      {
                        "learn": [
                          0.02028761575
                        ],
                        "iteration": 149,
                        "passed_time": 5.572766514,
                        "remaining_time": 3.715177676,
                        "test": [
                          0.0642418185
                        ]
                      },
                      {
                        "learn": [
                          0.02009298996
                        ],
                        "iteration": 150,
                        "passed_time": 5.60003423,
                        "remaining_time": 3.671545621,
                        "test": [
                          0.06421994329
                        ]
                      },
                      {
                        "learn": [
                          0.01982199045
                        ],
                        "iteration": 151,
                        "passed_time": 5.62214733,
                        "remaining_time": 3.624805515,
                        "test": [
                          0.06400639102
                        ]
                      },
                      {
                        "learn": [
                          0.01963503661
                        ],
                        "iteration": 152,
                        "passed_time": 5.644134652,
                        "remaining_time": 3.57830759,
                        "test": [
                          0.06398263187
                        ]
                      },
                      {
                        "learn": [
                          0.01938592802
                        ],
                        "iteration": 153,
                        "passed_time": 5.668120099,
                        "remaining_time": 3.533373568,
                        "test": [
                          0.06391285273
                        ]
                      },
                      {
                        "learn": [
                          0.01910914712
                        ],
                        "iteration": 154,
                        "passed_time": 5.689918258,
                        "remaining_time": 3.487369255,
                        "test": [
                          0.06381865815
                        ]
                      },
                      {
                        "learn": [
                          0.0188924873
                        ],
                        "iteration": 155,
                        "passed_time": 5.713348415,
                        "remaining_time": 3.44265866,
                        "test": [
                          0.0637819957
                        ]
                      },
                      {
                        "learn": [
                          0.0187636854
                        ],
                        "iteration": 156,
                        "passed_time": 5.734870559,
                        "remaining_time": 3.39708893,
                        "test": [
                          0.06367252085
                        ]
                      },
                      {
                        "learn": [
                          0.01858782192
                        ],
                        "iteration": 157,
                        "passed_time": 5.756268998,
                        "remaining_time": 3.351751569,
                        "test": [
                          0.06355502424
                        ]
                      },
                      {
                        "learn": [
                          0.01833258459
                        ],
                        "iteration": 158,
                        "passed_time": 5.777804665,
                        "remaining_time": 3.306793865,
                        "test": [
                          0.0635718095
                        ]
                      },
                      {
                        "learn": [
                          0.01818380965
                        ],
                        "iteration": 159,
                        "passed_time": 5.799375792,
                        "remaining_time": 3.262148883,
                        "test": [
                          0.0634556067
                        ]
                      },
                      {
                        "learn": [
                          0.01804980943
                        ],
                        "iteration": 160,
                        "passed_time": 5.823079534,
                        "remaining_time": 3.218969432,
                        "test": [
                          0.06335213765
                        ]
                      },
                      {
                        "learn": [
                          0.01782911163
                        ],
                        "iteration": 161,
                        "passed_time": 5.845893335,
                        "remaining_time": 3.175546997,
                        "test": [
                          0.06322555503
                        ]
                      },
                      {
                        "learn": [
                          0.0176810129
                        ],
                        "iteration": 162,
                        "passed_time": 5.86993285,
                        "remaining_time": 3.133031644,
                        "test": [
                          0.06306040028
                        ]
                      },
                      {
                        "learn": [
                          0.0175814016
                        ],
                        "iteration": 163,
                        "passed_time": 5.904289248,
                        "remaining_time": 3.096151679,
                        "test": [
                          0.06297195942
                        ]
                      },
                      {
                        "learn": [
                          0.01737076182
                        ],
                        "iteration": 164,
                        "passed_time": 5.928904139,
                        "remaining_time": 3.05428395,
                        "test": [
                          0.06301814042
                        ]
                      },
                      {
                        "learn": [
                          0.01719475737
                        ],
                        "iteration": 165,
                        "passed_time": 5.950893644,
                        "remaining_time": 3.011295579,
                        "test": [
                          0.06293840557
                        ]
                      },
                      {
                        "learn": [
                          0.01698766129
                        ],
                        "iteration": 166,
                        "passed_time": 5.972980026,
                        "remaining_time": 2.968606839,
                        "test": [
                          0.06285705583
                        ]
                      },
                      {
                        "learn": [
                          0.01684801273
                        ],
                        "iteration": 167,
                        "passed_time": 5.994894741,
                        "remaining_time": 2.926079576,
                        "test": [
                          0.06277326038
                        ]
                      },
                      {
                        "learn": [
                          0.01660005359
                        ],
                        "iteration": 168,
                        "passed_time": 6.01663451,
                        "remaining_time": 2.883712398,
                        "test": [
                          0.06268279006
                        ]
                      },
                      {
                        "learn": [
                          0.01644049518
                        ],
                        "iteration": 169,
                        "passed_time": 6.038198134,
                        "remaining_time": 2.841505004,
                        "test": [
                          0.06274234067
                        ]
                      },
                      {
                        "learn": [
                          0.01633806391
                        ],
                        "iteration": 170,
                        "passed_time": 6.063692713,
                        "remaining_time": 2.801355113,
                        "test": [
                          0.06275796202
                        ]
                      },
                      {
                        "learn": [
                          0.01612520625
                        ],
                        "iteration": 171,
                        "passed_time": 6.090332773,
                        "remaining_time": 2.761895095,
                        "test": [
                          0.06283455324
                        ]
                      },
                      {
                        "learn": [
                          0.01593667873
                        ],
                        "iteration": 172,
                        "passed_time": 6.112010347,
                        "remaining_time": 2.720374548,
                        "test": [
                          0.0627488021
                        ]
                      },
                      {
                        "learn": [
                          0.01584232362
                        ],
                        "iteration": 173,
                        "passed_time": 6.133857719,
                        "remaining_time": 2.679156245,
                        "test": [
                          0.06268911563
                        ]
                      },
                      {
                        "learn": [
                          0.01564926496
                        ],
                        "iteration": 174,
                        "passed_time": 6.155066708,
                        "remaining_time": 2.637885732,
                        "test": [
                          0.06274405601
                        ]
                      },
                      {
                        "learn": [
                          0.01548085946
                        ],
                        "iteration": 175,
                        "passed_time": 6.176384381,
                        "remaining_time": 2.596888887,
                        "test": [
                          0.06266409537
                        ]
                      },
                      {
                        "learn": [
                          0.01531754584
                        ],
                        "iteration": 176,
                        "passed_time": 6.197881607,
                        "remaining_time": 2.556188459,
                        "test": [
                          0.06263978692
                        ]
                      },
                      {
                        "learn": [
                          0.01516425201
                        ],
                        "iteration": 177,
                        "passed_time": 6.219344136,
                        "remaining_time": 2.515689763,
                        "test": [
                          0.06247149845
                        ]
                      },
                      {
                        "learn": [
                          0.01499088243
                        ],
                        "iteration": 178,
                        "passed_time": 6.240541514,
                        "remaining_time": 2.475298589,
                        "test": [
                          0.06255722072
                        ]
                      },
                      {
                        "learn": [
                          0.0148882836
                        ],
                        "iteration": 179,
                        "passed_time": 6.26229339,
                        "remaining_time": 2.435336318,
                        "test": [
                          0.06249374417
                        ]
                      },
                      {
                        "learn": [
                          0.0147447129
                        ],
                        "iteration": 180,
                        "passed_time": 6.28497019,
                        "remaining_time": 2.395927862,
                        "test": [
                          0.06252032374
                        ]
                      },
                      {
                        "learn": [
                          0.01465054901
                        ],
                        "iteration": 181,
                        "passed_time": 6.308548007,
                        "remaining_time": 2.357039915,
                        "test": [
                          0.0623527206
                        ]
                      },
                      {
                        "learn": [
                          0.01454864484
                        ],
                        "iteration": 182,
                        "passed_time": 6.330203187,
                        "remaining_time": 2.317615374,
                        "test": [
                          0.06231672088
                        ]
                      },
                      {
                        "learn": [
                          0.01444379521
                        ],
                        "iteration": 183,
                        "passed_time": 6.354344506,
                        "remaining_time": 2.279275747,
                        "test": [
                          0.06234127231
                        ]
                      },
                      {
                        "learn": [
                          0.0143788949
                        ],
                        "iteration": 184,
                        "passed_time": 6.379384585,
                        "remaining_time": 2.241405395,
                        "test": [
                          0.06228959273
                        ]
                      },
                      {
                        "learn": [
                          0.01422658665
                        ],
                        "iteration": 185,
                        "passed_time": 6.402493686,
                        "remaining_time": 2.20300858,
                        "test": [
                          0.06218325118
                        ]
                      },
                      {
                        "learn": [
                          0.01405884132
                        ],
                        "iteration": 186,
                        "passed_time": 6.423849231,
                        "remaining_time": 2.1641845,
                        "test": [
                          0.06225583815
                        ]
                      },
                      {
                        "learn": [
                          0.01389096823
                        ],
                        "iteration": 187,
                        "passed_time": 6.445900023,
                        "remaining_time": 2.125775539,
                        "test": [
                          0.0620111295
                        ]
                      },
                      {
                        "learn": [
                          0.01380856963
                        ],
                        "iteration": 188,
                        "passed_time": 6.467349108,
                        "remaining_time": 2.087345479,
                        "test": [
                          0.06209702703
                        ]
                      },
                      {
                        "learn": [
                          0.01359571932
                        ],
                        "iteration": 189,
                        "passed_time": 6.489089259,
                        "remaining_time": 2.049186082,
                        "test": [
                          0.06207023105
                        ]
                      },
                      {
                        "learn": [
                          0.01347848503
                        ],
                        "iteration": 190,
                        "passed_time": 6.512279818,
                        "remaining_time": 2.011646645,
                        "test": [
                          0.06204544672
                        ]
                      },
                      {
                        "learn": [
                          0.01329648077
                        ],
                        "iteration": 191,
                        "passed_time": 6.534511372,
                        "remaining_time": 1.973966977,
                        "test": [
                          0.0620076048
                        ]
                      },
                      {
                        "learn": [
                          0.01322673159
                        ],
                        "iteration": 192,
                        "passed_time": 6.556808088,
                        "remaining_time": 1.936466637,
                        "test": [
                          0.06195759876
                        ]
                      },
                      {
                        "learn": [
                          0.01304376784
                        ],
                        "iteration": 193,
                        "passed_time": 6.579111484,
                        "remaining_time": 1.899124964,
                        "test": [
                          0.06177187142
                        ]
                      },
                      {
                        "learn": [
                          0.01291849884
                        ],
                        "iteration": 194,
                        "passed_time": 6.601197198,
                        "remaining_time": 1.861876133,
                        "test": [
                          0.061800022
                        ]
                      },
                      {
                        "learn": [
                          0.01283042037
                        ],
                        "iteration": 195,
                        "passed_time": 6.623446493,
                        "remaining_time": 1.824827095,
                        "test": [
                          0.0617319588
                        ]
                      },
                      {
                        "learn": [
                          0.01273779219
                        ],
                        "iteration": 196,
                        "passed_time": 6.645262961,
                        "remaining_time": 1.787811863,
                        "test": [
                          0.06169671468
                        ]
                      },
                      {
                        "learn": [
                          0.0126096951
                        ],
                        "iteration": 197,
                        "passed_time": 6.669654162,
                        "remaining_time": 1.751626346,
                        "test": [
                          0.06154902476
                        ]
                      },
                      {
                        "learn": [
                          0.01246559296
                        ],
                        "iteration": 198,
                        "passed_time": 6.693714067,
                        "remaining_time": 1.715474459,
                        "test": [
                          0.06151272773
                        ]
                      },
                      {
                        "learn": [
                          0.01232859064
                        ],
                        "iteration": 199,
                        "passed_time": 6.715390572,
                        "remaining_time": 1.678847643,
                        "test": [
                          0.0614833447
                        ]
                      },
                      {
                        "learn": [
                          0.01226443544
                        ],
                        "iteration": 200,
                        "passed_time": 6.737058347,
                        "remaining_time": 1.642367458,
                        "test": [
                          0.06154156017
                        ]
                      },
                      {
                        "learn": [
                          0.01219921038
                        ],
                        "iteration": 201,
                        "passed_time": 6.759315514,
                        "remaining_time": 1.606173983,
                        "test": [
                          0.06152764644
                        ]
                      },
                      {
                        "learn": [
                          0.01213370287
                        ],
                        "iteration": 202,
                        "passed_time": 6.781138608,
                        "remaining_time": 1.570017313,
                        "test": [
                          0.06146816164
                        ]
                      },
                      {
                        "learn": [
                          0.01206638195
                        ],
                        "iteration": 203,
                        "passed_time": 6.803368454,
                        "remaining_time": 1.534092887,
                        "test": [
                          0.06147804567
                        ]
                      },
                      {
                        "learn": [
                          0.01197000236
                        ],
                        "iteration": 204,
                        "passed_time": 6.826105826,
                        "remaining_time": 1.498413474,
                        "test": [
                          0.06148527877
                        ]
                      },
                      {
                        "learn": [
                          0.01182705261
                        ],
                        "iteration": 205,
                        "passed_time": 6.850403372,
                        "remaining_time": 1.463192953,
                        "test": [
                          0.06141831893
                        ]
                      },
                      {
                        "learn": [
                          0.01168951007
                        ],
                        "iteration": 206,
                        "passed_time": 6.874290223,
                        "remaining_time": 1.427992655,
                        "test": [
                          0.06143589596
                        ]
                      },
                      {
                        "learn": [
                          0.01159883509
                        ],
                        "iteration": 207,
                        "passed_time": 6.896192313,
                        "remaining_time": 1.392500371,
                        "test": [
                          0.06143672252
                        ]
                      },
                      {
                        "learn": [
                          0.01147034056
                        ],
                        "iteration": 208,
                        "passed_time": 6.93463931,
                        "remaining_time": 1.360383788,
                        "test": [
                          0.06149553954
                        ]
                      },
                      {
                        "learn": [
                          0.01140131741
                        ],
                        "iteration": 209,
                        "passed_time": 6.962614437,
                        "remaining_time": 1.326212274,
                        "test": [
                          0.06142240932
                        ]
                      },
                      {
                        "learn": [
                          0.01128422505
                        ],
                        "iteration": 210,
                        "passed_time": 6.987551353,
                        "remaining_time": 1.291537928,
                        "test": [
                          0.06139408346
                        ]
                      },
                      {
                        "learn": [
                          0.01118794061
                        ],
                        "iteration": 211,
                        "passed_time": 7.010685168,
                        "remaining_time": 1.256632247,
                        "test": [
                          0.06132564234
                        ]
                      },
                      {
                        "learn": [
                          0.01104382572
                        ],
                        "iteration": 212,
                        "passed_time": 7.094640193,
                        "remaining_time": 1.232402287,
                        "test": [
                          0.06133696471
                        ]
                      },
                      {
                        "learn": [
                          0.01095698745
                        ],
                        "iteration": 213,
                        "passed_time": 7.227327935,
                        "remaining_time": 1.215812176,
                        "test": [
                          0.0613549717
                        ]
                      },
                      {
                        "learn": [
                          0.01091316279
                        ],
                        "iteration": 214,
                        "passed_time": 7.249718287,
                        "remaining_time": 1.180186698,
                        "test": [
                          0.06130753259
                        ]
                      },
                      {
                        "learn": [
                          0.01084725579
                        ],
                        "iteration": 215,
                        "passed_time": 7.273491166,
                        "remaining_time": 1.144901387,
                        "test": [
                          0.06131549238
                        ]
                      },
                      {
                        "learn": [
                          0.01076754707
                        ],
                        "iteration": 216,
                        "passed_time": 7.295472241,
                        "remaining_time": 1.109449696,
                        "test": [
                          0.06143347367
                        ]
                      },
                      {
                        "learn": [
                          0.01071590491
                        ],
                        "iteration": 217,
                        "passed_time": 7.318476637,
                        "remaining_time": 1.0742718,
                        "test": [
                          0.06133309012
                        ]
                      },
                      {
                        "learn": [
                          0.01065766414
                        ],
                        "iteration": 218,
                        "passed_time": 7.341754875,
                        "remaining_time": 1.039243841,
                        "test": [
                          0.06137413128
                        ]
                      },
                      {
                        "learn": [
                          0.01060213062
                        ],
                        "iteration": 219,
                        "passed_time": 7.364704032,
                        "remaining_time": 1.004277823,
                        "test": [
                          0.06139331972
                        ]
                      },
                      {
                        "learn": [
                          0.01054853812
                        ],
                        "iteration": 220,
                        "passed_time": 7.387625726,
                        "remaining_time": 0.9694169504,
                        "test": [
                          0.06143080231
                        ]
                      },
                      {
                        "learn": [
                          0.01044600319
                        ],
                        "iteration": 221,
                        "passed_time": 7.4099072,
                        "remaining_time": 0.93458289,
                        "test": [
                          0.06137945004
                        ]
                      },
                      {
                        "learn": [
                          0.01035839734
                        ],
                        "iteration": 222,
                        "passed_time": 7.432562995,
                        "remaining_time": 0.8999067304,
                        "test": [
                          0.06136264754
                        ]
                      },
                      {
                        "learn": [
                          0.01028843288
                        ],
                        "iteration": 223,
                        "passed_time": 7.455493268,
                        "remaining_time": 0.8653697543,
                        "test": [
                          0.06129430654
                        ]
                      },
                      {
                        "learn": [
                          0.01023674109
                        ],
                        "iteration": 224,
                        "passed_time": 7.478371583,
                        "remaining_time": 0.8309301759,
                        "test": [
                          0.06138890107
                        ]
                      },
                      {
                        "learn": [
                          0.01020261546
                        ],
                        "iteration": 225,
                        "passed_time": 7.500957249,
                        "remaining_time": 0.7965618317,
                        "test": [
                          0.06132161492
                        ]
                      },
                      {
                        "learn": [
                          0.01015858175
                        ],
                        "iteration": 226,
                        "passed_time": 7.523413533,
                        "remaining_time": 0.7622841905,
                        "test": [
                          0.06129055838
                        ]
                      },
                      {
                        "learn": [
                          0.01009023562
                        ],
                        "iteration": 227,
                        "passed_time": 7.544894324,
                        "remaining_time": 0.728016119,
                        "test": [
                          0.06125244915
                        ]
                      },
                      {
                        "learn": [
                          0.01000686309
                        ],
                        "iteration": 228,
                        "passed_time": 7.566660962,
                        "remaining_time": 0.6938859397,
                        "test": [
                          0.06127122397
                        ]
                      },
                      {
                        "learn": [
                          0.009934159031
                        ],
                        "iteration": 229,
                        "passed_time": 7.588376415,
                        "remaining_time": 0.6598588187,
                        "test": [
                          0.06121069535
                        ]
                      },
                      {
                        "learn": [
                          0.00987687977
                        ],
                        "iteration": 230,
                        "passed_time": 7.610177528,
                        "remaining_time": 0.6259453378,
                        "test": [
                          0.06117262863
                        ]
                      },
                      {
                        "learn": [
                          0.009814230668
                        ],
                        "iteration": 231,
                        "passed_time": 7.631381127,
                        "remaining_time": 0.5920899151,
                        "test": [
                          0.06113472634
                        ]
                      },
                      {
                        "learn": [
                          0.009768767872
                        ],
                        "iteration": 232,
                        "passed_time": 7.652971094,
                        "remaining_time": 0.5583712815,
                        "test": [
                          0.06112497853
                        ]
                      },
                      {
                        "learn": [
                          0.00969936988
                        ],
                        "iteration": 233,
                        "passed_time": 7.677119752,
                        "remaining_time": 0.5249312651,
                        "test": [
                          0.06101268809
                        ]
                      },
                      {
                        "learn": [
                          0.009564022829
                        ],
                        "iteration": 234,
                        "passed_time": 7.700357775,
                        "remaining_time": 0.4915121984,
                        "test": [
                          0.06085530667
                        ]
                      },
                      {
                        "learn": [
                          0.009524251243
                        ],
                        "iteration": 235,
                        "passed_time": 7.723447823,
                        "remaining_time": 0.4581706335,
                        "test": [
                          0.06089986121
                        ]
                      },
                      {
                        "learn": [
                          0.009447280139
                        ],
                        "iteration": 236,
                        "passed_time": 7.744740828,
                        "remaining_time": 0.4248170074,
                        "test": [
                          0.06089973535
                        ]
                      },
                      {
                        "learn": [
                          0.00937422943
                        ],
                        "iteration": 237,
                        "passed_time": 7.767049177,
                        "remaining_time": 0.3916159249,
                        "test": [
                          0.06096224559
                        ]
                      },
                      {
                        "learn": [
                          0.009249789531
                        ],
                        "iteration": 238,
                        "passed_time": 7.789107206,
                        "remaining_time": 0.3584944739,
                        "test": [
                          0.06084033379
                        ]
                      },
                      {
                        "learn": [
                          0.009186323264
                        ],
                        "iteration": 239,
                        "passed_time": 7.811369215,
                        "remaining_time": 0.3254737173,
                        "test": [
                          0.06083409713
                        ]
                      },
                      {
                        "learn": [
                          0.009129681914
                        ],
                        "iteration": 240,
                        "passed_time": 7.833746321,
                        "remaining_time": 0.2925465431,
                        "test": [
                          0.06083659645
                        ]
                      },
                      {
                        "learn": [
                          0.009080157148
                        ],
                        "iteration": 241,
                        "passed_time": 7.855964119,
                        "remaining_time": 0.2597012932,
                        "test": [
                          0.0608554478
                        ]
                      },
                      {
                        "learn": [
                          0.00899365602
                        ],
                        "iteration": 242,
                        "passed_time": 7.878539467,
                        "remaining_time": 0.2269538118,
                        "test": [
                          0.06094031053
                        ]
                      },
                      {
                        "learn": [
                          0.008928147362
                        ],
                        "iteration": 243,
                        "passed_time": 7.900996478,
                        "remaining_time": 0.1942867986,
                        "test": [
                          0.06098850494
                        ]
                      },
                      {
                        "learn": [
                          0.008897087544
                        ],
                        "iteration": 244,
                        "passed_time": 7.922573495,
                        "remaining_time": 0.1616851734,
                        "test": [
                          0.06099172493
                        ]
                      },
                      {
                        "learn": [
                          0.008801733968
                        ],
                        "iteration": 245,
                        "passed_time": 7.950248139,
                        "remaining_time": 0.1292723275,
                        "test": [
                          0.06102696343
                        ]
                      },
                      {
                        "learn": [
                          0.00875617165
                        ],
                        "iteration": 246,
                        "passed_time": 7.985697816,
                        "remaining_time": 0.09699228116,
                        "test": [
                          0.0610933979
                        ]
                      },
                      {
                        "learn": [
                          0.008705018524
                        ],
                        "iteration": 247,
                        "passed_time": 8.007865903,
                        "remaining_time": 0.06457956373,
                        "test": [
                          0.06112591838
                        ]
                      },
                      {
                        "learn": [
                          0.008671283354
                        ],
                        "iteration": 248,
                        "passed_time": 8.03186059,
                        "remaining_time": 0.03225646823,
                        "test": [
                          0.06110734502
                        ]
                      },
                      {
                        "learn": [
                          0.008598788303
                        ],
                        "iteration": 249,
                        "passed_time": 8.054695065,
                        "remaining_time": 0,
                        "test": [
                          0.06122323471
                        ]
                      }
                    ],
                    "meta": {
                      "test_sets": [
                        "test"
                      ],
                      "test_metrics": [
                        {
                          "best_value": "Min",
                          "name": "MultiClass"
                        }
                      ],
                      "learn_metrics": [
                        {
                          "best_value": "Min",
                          "name": "MultiClass"
                        }
                      ],
                      "launch_mode": "Train",
                      "parameters": "",
                      "iteration_count": 250,
                      "learn_sets": [
                        "learn"
                      ],
                      "name": "experiment"
                    }
                  }
                }
              }
            },
            "layout": "IPY_MODEL_389a6249615b44e19ba1eb00fe1f7882"
          }
        }
      }
    }
  },
  "nbformat": 4,
  "nbformat_minor": 5
}