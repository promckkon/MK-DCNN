{
  "cells": [
    {
      "cell_type": "markdown",
      "metadata": {
        "id": "view-in-github",
        "colab_type": "text"
      },
      "source": [
        "<a href=\"https://colab.research.google.com/github/promckkon/MK-DCNN/blob/main/MK-DCNN%20with%2030dB%20NOISE%20in%20TRIAX%20Dataset%20250625.ipynb\" target=\"_parent\"><img src=\"https://colab.research.google.com/assets/colab-badge.svg\" alt=\"Open In Colab\"/></a>"
      ]
    },
    {
      "cell_type": "code",
      "source": [
        "from google.colab import drive\n",
        "drive.mount('/content/drive')"
      ],
      "metadata": {
        "colab": {
          "base_uri": "https://localhost:8080/"
        },
        "id": "_JTcgOD9s-GR",
        "outputId": "be1670f0-8872-4a3c-e4b8-2c27a49742a0"
      },
      "id": "_JTcgOD9s-GR",
      "execution_count": 38,
      "outputs": [
        {
          "output_type": "stream",
          "name": "stdout",
          "text": [
            "Drive already mounted at /content/drive; to attempt to forcibly remount, call drive.mount(\"/content/drive\", force_remount=True).\n"
          ]
        }
      ]
    },
    {
      "cell_type": "code",
      "execution_count": 39,
      "id": "1132b641",
      "metadata": {
        "id": "1132b641"
      },
      "outputs": [],
      "source": [
        "import scipy.io\n",
        "import seaborn as sns\n",
        "import numpy as np\n",
        "import pandas as pd\n",
        "import os\n",
        "import matplotlib.pyplot as plt"
      ]
    },
    {
      "cell_type": "markdown",
      "source": [
        "Dataset Input"
      ],
      "metadata": {
        "id": "2haV_hKQQOg-"
      },
      "id": "2haV_hKQQOg-"
    },
    {
      "cell_type": "code",
      "source": [
        "df=pd.DataFrame(columns=['DE_data','fault']) # upload the dataset on googledrive\n",
        "\n",
        "for root, dirs, files in os.walk(\"/content/drive/MyDrive/TRIAX_with_NOISE/TRIAX_NOISE_Dataset_30db\", topdown=False):\n",
        "    for file_name in files:\n",
        "        path = os.path.join(root, file_name)\n",
        "        print(path)\n",
        "\n",
        "        mat = scipy.io.loadmat(path)\n",
        "\n",
        "        key_name = list(mat.keys())[3]\n",
        "        DE_data = mat.get(key_name)\n",
        "        fault = np.full((len(DE_data), 1), file_name[:-4])\n",
        "\n",
        "        df_temp = pd.DataFrame({'DE_data':np.ravel(DE_data) , 'fault':np.ravel(fault)})\n",
        "\n",
        "        df = pd.concat([df,df_temp],axis=0)\n",
        "        print(df['fault'].unique())\n",
        "\n",
        "df.to_csv('/content/drive/MyDrive/MK DCNN TRIAX/NOISE_30_faults.csv',index=False)"
      ],
      "metadata": {
        "colab": {
          "base_uri": "https://localhost:8080/"
        },
        "id": "sXzSVyy_ylsF",
        "outputId": "9d7e1899-a00e-468d-c1a5-85bd62ec2c73"
      },
      "id": "sXzSVyy_ylsF",
      "execution_count": 40,
      "outputs": [
        {
          "output_type": "stream",
          "name": "stdout",
          "text": [
            "/content/drive/MyDrive/TRIAX_with_NOISE/TRIAX_NOISE_Dataset_30db/Noise_Signal_inner_17.mat\n"
          ]
        },
        {
          "output_type": "stream",
          "name": "stderr",
          "text": [
            "/tmp/ipython-input-40-113101130.py:16: FutureWarning: The behavior of DataFrame concatenation with empty or all-NA entries is deprecated. In a future version, this will no longer exclude empty or all-NA columns when determining the result dtypes. To retain the old behavior, exclude the relevant entries before the concat operation.\n",
            "  df = pd.concat([df,df_temp],axis=0)\n"
          ]
        },
        {
          "output_type": "stream",
          "name": "stdout",
          "text": [
            "['Noise_Signal_inner_17']\n",
            "/content/drive/MyDrive/TRIAX_with_NOISE/TRIAX_NOISE_Dataset_30db/Noise_Signal_inner_09.mat\n",
            "['Noise_Signal_inner_17' 'Noise_Signal_inner_09']\n",
            "/content/drive/MyDrive/TRIAX_with_NOISE/TRIAX_NOISE_Dataset_30db/Noise_Signal_Normal.mat\n",
            "['Noise_Signal_inner_17' 'Noise_Signal_inner_09' 'Noise_Signal_Normal']\n",
            "/content/drive/MyDrive/TRIAX_with_NOISE/TRIAX_NOISE_Dataset_30db/noise_signal_outer_17.mat\n",
            "['Noise_Signal_inner_17' 'Noise_Signal_inner_09' 'Noise_Signal_Normal'\n",
            " 'noise_signal_outer_17']\n",
            "/content/drive/MyDrive/TRIAX_with_NOISE/TRIAX_NOISE_Dataset_30db/Noise_Signal_inner_07.mat\n",
            "['Noise_Signal_inner_17' 'Noise_Signal_inner_09' 'Noise_Signal_Normal'\n",
            " 'noise_signal_outer_17' 'Noise_Signal_inner_07']\n",
            "/content/drive/MyDrive/TRIAX_with_NOISE/TRIAX_NOISE_Dataset_30db/noise_signal_outer_13.mat\n",
            "['Noise_Signal_inner_17' 'Noise_Signal_inner_09' 'Noise_Signal_Normal'\n",
            " 'noise_signal_outer_17' 'Noise_Signal_inner_07' 'noise_signal_outer_13']\n",
            "/content/drive/MyDrive/TRIAX_with_NOISE/TRIAX_NOISE_Dataset_30db/Noise_Signal_inner_13.mat\n",
            "['Noise_Signal_inner_17' 'Noise_Signal_inner_09' 'Noise_Signal_Normal'\n",
            " 'noise_signal_outer_17' 'Noise_Signal_inner_07' 'noise_signal_outer_13'\n",
            " 'Noise_Signal_inner_13']\n",
            "/content/drive/MyDrive/TRIAX_with_NOISE/TRIAX_NOISE_Dataset_30db/noise_signal_outer_09.mat\n",
            "['Noise_Signal_inner_17' 'Noise_Signal_inner_09' 'Noise_Signal_Normal'\n",
            " 'noise_signal_outer_17' 'Noise_Signal_inner_07' 'noise_signal_outer_13'\n",
            " 'Noise_Signal_inner_13' 'noise_signal_outer_09']\n"
          ]
        }
      ]
    },
    {
      "cell_type": "markdown",
      "source": [
        "# Multi-Kernel Deep 1D-CNN"
      ],
      "metadata": {
        "id": "2d0arbB2knS8"
      },
      "id": "2d0arbB2knS8"
    },
    {
      "cell_type": "code",
      "source": [
        "pip install tensorflow"
      ],
      "metadata": {
        "colab": {
          "base_uri": "https://localhost:8080/"
        },
        "id": "-dsJA9B5YVAW",
        "outputId": "637639a8-bf4d-47dd-ce56-04b5dc1c4599"
      },
      "id": "-dsJA9B5YVAW",
      "execution_count": 41,
      "outputs": [
        {
          "output_type": "stream",
          "name": "stdout",
          "text": [
            "Requirement already satisfied: tensorflow in /usr/local/lib/python3.11/dist-packages (2.18.0)\n",
            "Requirement already satisfied: absl-py>=1.0.0 in /usr/local/lib/python3.11/dist-packages (from tensorflow) (1.4.0)\n",
            "Requirement already satisfied: astunparse>=1.6.0 in /usr/local/lib/python3.11/dist-packages (from tensorflow) (1.6.3)\n",
            "Requirement already satisfied: flatbuffers>=24.3.25 in /usr/local/lib/python3.11/dist-packages (from tensorflow) (25.2.10)\n",
            "Requirement already satisfied: gast!=0.5.0,!=0.5.1,!=0.5.2,>=0.2.1 in /usr/local/lib/python3.11/dist-packages (from tensorflow) (0.6.0)\n",
            "Requirement already satisfied: google-pasta>=0.1.1 in /usr/local/lib/python3.11/dist-packages (from tensorflow) (0.2.0)\n",
            "Requirement already satisfied: libclang>=13.0.0 in /usr/local/lib/python3.11/dist-packages (from tensorflow) (18.1.1)\n",
            "Requirement already satisfied: opt-einsum>=2.3.2 in /usr/local/lib/python3.11/dist-packages (from tensorflow) (3.4.0)\n",
            "Requirement already satisfied: packaging in /usr/local/lib/python3.11/dist-packages (from tensorflow) (24.2)\n",
            "Requirement already satisfied: protobuf!=4.21.0,!=4.21.1,!=4.21.2,!=4.21.3,!=4.21.4,!=4.21.5,<6.0.0dev,>=3.20.3 in /usr/local/lib/python3.11/dist-packages (from tensorflow) (5.29.5)\n",
            "Requirement already satisfied: requests<3,>=2.21.0 in /usr/local/lib/python3.11/dist-packages (from tensorflow) (2.32.3)\n",
            "Requirement already satisfied: setuptools in /usr/local/lib/python3.11/dist-packages (from tensorflow) (75.2.0)\n",
            "Requirement already satisfied: six>=1.12.0 in /usr/local/lib/python3.11/dist-packages (from tensorflow) (1.17.0)\n",
            "Requirement already satisfied: termcolor>=1.1.0 in /usr/local/lib/python3.11/dist-packages (from tensorflow) (3.1.0)\n",
            "Requirement already satisfied: typing-extensions>=3.6.6 in /usr/local/lib/python3.11/dist-packages (from tensorflow) (4.14.0)\n",
            "Requirement already satisfied: wrapt>=1.11.0 in /usr/local/lib/python3.11/dist-packages (from tensorflow) (1.17.2)\n",
            "Requirement already satisfied: grpcio<2.0,>=1.24.3 in /usr/local/lib/python3.11/dist-packages (from tensorflow) (1.73.0)\n",
            "Requirement already satisfied: tensorboard<2.19,>=2.18 in /usr/local/lib/python3.11/dist-packages (from tensorflow) (2.18.0)\n",
            "Requirement already satisfied: keras>=3.5.0 in /usr/local/lib/python3.11/dist-packages (from tensorflow) (3.8.0)\n",
            "Requirement already satisfied: numpy<2.1.0,>=1.26.0 in /usr/local/lib/python3.11/dist-packages (from tensorflow) (2.0.2)\n",
            "Requirement already satisfied: h5py>=3.11.0 in /usr/local/lib/python3.11/dist-packages (from tensorflow) (3.14.0)\n",
            "Requirement already satisfied: ml-dtypes<0.5.0,>=0.4.0 in /usr/local/lib/python3.11/dist-packages (from tensorflow) (0.4.1)\n",
            "Requirement already satisfied: tensorflow-io-gcs-filesystem>=0.23.1 in /usr/local/lib/python3.11/dist-packages (from tensorflow) (0.37.1)\n",
            "Requirement already satisfied: wheel<1.0,>=0.23.0 in /usr/local/lib/python3.11/dist-packages (from astunparse>=1.6.0->tensorflow) (0.45.1)\n",
            "Requirement already satisfied: rich in /usr/local/lib/python3.11/dist-packages (from keras>=3.5.0->tensorflow) (13.9.4)\n",
            "Requirement already satisfied: namex in /usr/local/lib/python3.11/dist-packages (from keras>=3.5.0->tensorflow) (0.1.0)\n",
            "Requirement already satisfied: optree in /usr/local/lib/python3.11/dist-packages (from keras>=3.5.0->tensorflow) (0.16.0)\n",
            "Requirement already satisfied: charset-normalizer<4,>=2 in /usr/local/lib/python3.11/dist-packages (from requests<3,>=2.21.0->tensorflow) (3.4.2)\n",
            "Requirement already satisfied: idna<4,>=2.5 in /usr/local/lib/python3.11/dist-packages (from requests<3,>=2.21.0->tensorflow) (3.10)\n",
            "Requirement already satisfied: urllib3<3,>=1.21.1 in /usr/local/lib/python3.11/dist-packages (from requests<3,>=2.21.0->tensorflow) (2.4.0)\n",
            "Requirement already satisfied: certifi>=2017.4.17 in /usr/local/lib/python3.11/dist-packages (from requests<3,>=2.21.0->tensorflow) (2025.6.15)\n",
            "Requirement already satisfied: markdown>=2.6.8 in /usr/local/lib/python3.11/dist-packages (from tensorboard<2.19,>=2.18->tensorflow) (3.8)\n",
            "Requirement already satisfied: tensorboard-data-server<0.8.0,>=0.7.0 in /usr/local/lib/python3.11/dist-packages (from tensorboard<2.19,>=2.18->tensorflow) (0.7.2)\n",
            "Requirement already satisfied: werkzeug>=1.0.1 in /usr/local/lib/python3.11/dist-packages (from tensorboard<2.19,>=2.18->tensorflow) (3.1.3)\n",
            "Requirement already satisfied: MarkupSafe>=2.1.1 in /usr/local/lib/python3.11/dist-packages (from werkzeug>=1.0.1->tensorboard<2.19,>=2.18->tensorflow) (3.0.2)\n",
            "Requirement already satisfied: markdown-it-py>=2.2.0 in /usr/local/lib/python3.11/dist-packages (from rich->keras>=3.5.0->tensorflow) (3.0.0)\n",
            "Requirement already satisfied: pygments<3.0.0,>=2.13.0 in /usr/local/lib/python3.11/dist-packages (from rich->keras>=3.5.0->tensorflow) (2.19.1)\n",
            "Requirement already satisfied: mdurl~=0.1 in /usr/local/lib/python3.11/dist-packages (from markdown-it-py>=2.2.0->rich->keras>=3.5.0->tensorflow) (0.1.2)\n"
          ]
        }
      ]
    },
    {
      "cell_type": "code",
      "source": [
        "from sklearn.preprocessing import LabelEncoder\n",
        "from tensorflow.keras.utils import to_categorical\n",
        "\n",
        "\n",
        "# Total target rows\n",
        "TARGET_ROWS = 1800\n",
        "\n",
        "# Estimate the total number of samples across all fault types\n",
        "total_samples = sum(len(df[df['fault'] == f]) for f in df['fault'].unique())\n",
        "\n",
        "# Calculate suitable window size and stride\n",
        "num_faults = 9\n",
        "average_samples_per_fault = total_samples / num_faults\n",
        "approx_windows_per_fault = TARGET_ROWS / num_faults\n",
        "stride_ratio = 0.8  # Initial stride/window ratio\n",
        "\n",
        "win_len = int(average_samples_per_fault / approx_windows_per_fault)\n",
        "stride = int(win_len * stride_ratio)\n",
        "\n",
        "X=[]\n",
        "Y=[]\n",
        "\n",
        "\n",
        "for k in df['fault'].unique():\n",
        "\n",
        "    df_temp_2 = df[df['fault']==k]\n",
        "\n",
        "    for i in np.arange(0,len(df_temp_2)-(win_len),stride):\n",
        "        temp = df_temp_2.iloc[i:i+win_len,:-1].values\n",
        "        temp = temp.reshape((1,-1))\n",
        "        X.append(temp)\n",
        "        Y.append(df_temp_2.iloc[i+win_len,-1])\n",
        "\n",
        "X=np.array(X)\n",
        "X=X.reshape((X.shape[0],-1,1))\n",
        "#X = np.repeat(X, 3, axis=3) # To repeat into 3 chanel format\n",
        "\n",
        "\n",
        "Y=np.array(Y)\n",
        "encoder= LabelEncoder()\n",
        "encoder.fit(Y)\n",
        "encoded_Y = encoder.transform(Y)\n",
        "OHE_Y = to_categorical(encoded_Y)"
      ],
      "metadata": {
        "id": "5s5vUXrUM2BH"
      },
      "id": "5s5vUXrUM2BH",
      "execution_count": 42,
      "outputs": []
    },
    {
      "cell_type": "code",
      "source": [
        "from sklearn.model_selection import train_test_split\n",
        "X_train,X_test,y_train,y_test = train_test_split(X,OHE_Y,test_size=0.3,shuffle=True)"
      ],
      "metadata": {
        "id": "PreHyG2yMkTA"
      },
      "id": "PreHyG2yMkTA",
      "execution_count": 43,
      "outputs": []
    },
    {
      "cell_type": "code",
      "source": [
        "import tensorflow as tf\n",
        "from tensorflow.keras.models import Model\n",
        "from tensorflow.keras.layers import Input, Dense, Dropout, Flatten, Conv1D, MaxPooling1D, concatenate\n",
        "from tensorflow.keras import backend as K\n",
        "\n",
        "# --- Custom Physics-Informed Loss Function ---\n",
        "def custom_loss(y_true, y_pred):\n",
        "    # Standard categorical crossentropy\n",
        "    loss = K.categorical_crossentropy(y_true, y_pred)\n",
        "\n",
        "    # Physics-Informed Term: penalize rapid class probability changes\n",
        "    # Ensure y_pred is at least 2D for slicing\n",
        "    if K.ndim(y_pred) < 2:\n",
        "        y_pred = K.expand_dims(y_pred, axis=-1)\n",
        "\n",
        "    # Ensure y_pred has more than one class dimension to compute diff\n",
        "    if K.int_shape(y_pred)[-1] > 1:\n",
        "        diff = y_pred[:, 1:] - y_pred[:, :-1]\n",
        "        squared_diff = tf.square(diff)\n",
        "        physics_term = tf.reduce_mean(squared_diff)\n",
        "    else:\n",
        "        physics_term = 0.0 # No physics term if only one class\n",
        "\n",
        "\n",
        "    # Total loss = classification loss + regularization term\n",
        "    total_loss = loss + 0.01 * physics_term  # 0.01 is tunable\n",
        "\n",
        "    return total_loss\n",
        "\n",
        "# --- Model Definition ---\n",
        "# no_classes = len(df['fault'].unique()) # Original line that caused 10 classes\n",
        "no_classes = len(encoder.classes_) # Use the encoder to get the correct number of classes\n",
        "print(f\"Number of output classes (no_classes): {no_classes}\") # Add print statement to verify\n",
        "\n",
        "input_shape = (X.shape[1], X.shape[2])  # Example: (784, 1)\n",
        "\n",
        "# Head 1\n",
        "inputs1 = Input(shape=input_shape)\n",
        "conv1 = Conv1D(filters=64, kernel_size=200, activation='relu')(inputs1)\n",
        "drop1 = Dropout(0.5)(conv1)\n",
        "pool1 = MaxPooling1D(pool_size=20)(drop1)\n",
        "flat1 = Flatten()(pool1)\n",
        "\n",
        "# Head 2\n",
        "inputs2 = Input(shape=input_shape)\n",
        "conv2 = Conv1D(filters=64, kernel_size=100, activation='relu')(inputs2)\n",
        "drop2 = Dropout(0.5)(conv2)\n",
        "pool2 = MaxPooling1D(pool_size=10)(drop2)\n",
        "flat2 = Flatten()(pool2)\n",
        "\n",
        "# Head 3\n",
        "inputs3 = Input(shape=input_shape)\n",
        "conv3 = Conv1D(filters=64, kernel_size=50, activation='relu')(inputs3)\n",
        "drop3 = Dropout(0.5)(conv3)\n",
        "pool3 = MaxPooling1D(pool_size=5)(drop3)\n",
        "flat3 = Flatten()(pool3)\n",
        "\n",
        "# Merge all feature paths\n",
        "merged = concatenate([flat1, flat2, flat3])\n",
        "\n",
        "# Fully connected interpretation\n",
        "dense1 = Dense(100, activation='relu')(merged)\n",
        "outputs = Dense(no_classes, activation='softmax')(dense1)\n",
        "\n",
        "# Build and compile model with custom loss\n",
        "cnn_model = Model(inputs=[inputs1, inputs2, inputs3], outputs=outputs)\n",
        "cnn_model.compile(optimizer='adam', loss=custom_loss, metrics=['accuracy'])\n",
        "\n",
        "# Model summary\n",
        "cnn_model.summary()"
      ],
      "metadata": {
        "colab": {
          "base_uri": "https://localhost:8080/",
          "height": 863
        },
        "id": "kB3uGh-8J7no",
        "outputId": "e5a85312-539f-45a9-e5f5-6011b41db2f4"
      },
      "id": "kB3uGh-8J7no",
      "execution_count": 44,
      "outputs": [
        {
          "output_type": "stream",
          "name": "stdout",
          "text": [
            "Number of output classes (no_classes): 8\n"
          ]
        },
        {
          "output_type": "display_data",
          "data": {
            "text/plain": [
              "\u001b[1mModel: \"functional_2\"\u001b[0m\n"
            ],
            "text/html": [
              "<pre style=\"white-space:pre;overflow-x:auto;line-height:normal;font-family:Menlo,'DejaVu Sans Mono',consolas,'Courier New',monospace\"><span style=\"font-weight: bold\">Model: \"functional_2\"</span>\n",
              "</pre>\n"
            ]
          },
          "metadata": {}
        },
        {
          "output_type": "display_data",
          "data": {
            "text/plain": [
              "┏━━━━━━━━━━━━━━━━━━━━━┳━━━━━━━━━━━━━━━━━━━┳━━━━━━━━━━━━┳━━━━━━━━━━━━━━━━━━━┓\n",
              "┃\u001b[1m \u001b[0m\u001b[1mLayer (type)       \u001b[0m\u001b[1m \u001b[0m┃\u001b[1m \u001b[0m\u001b[1mOutput Shape     \u001b[0m\u001b[1m \u001b[0m┃\u001b[1m \u001b[0m\u001b[1m   Param #\u001b[0m\u001b[1m \u001b[0m┃\u001b[1m \u001b[0m\u001b[1mConnected to     \u001b[0m\u001b[1m \u001b[0m┃\n",
              "┡━━━━━━━━━━━━━━━━━━━━━╇━━━━━━━━━━━━━━━━━━━╇━━━━━━━━━━━━╇━━━━━━━━━━━━━━━━━━━┩\n",
              "│ input_layer_3       │ (\u001b[38;5;45mNone\u001b[0m, \u001b[38;5;34m614\u001b[0m, \u001b[38;5;34m1\u001b[0m)    │          \u001b[38;5;34m0\u001b[0m │ -                 │\n",
              "│ (\u001b[38;5;33mInputLayer\u001b[0m)        │                   │            │                   │\n",
              "├─────────────────────┼───────────────────┼────────────┼───────────────────┤\n",
              "│ input_layer_4       │ (\u001b[38;5;45mNone\u001b[0m, \u001b[38;5;34m614\u001b[0m, \u001b[38;5;34m1\u001b[0m)    │          \u001b[38;5;34m0\u001b[0m │ -                 │\n",
              "│ (\u001b[38;5;33mInputLayer\u001b[0m)        │                   │            │                   │\n",
              "├─────────────────────┼───────────────────┼────────────┼───────────────────┤\n",
              "│ input_layer_5       │ (\u001b[38;5;45mNone\u001b[0m, \u001b[38;5;34m614\u001b[0m, \u001b[38;5;34m1\u001b[0m)    │          \u001b[38;5;34m0\u001b[0m │ -                 │\n",
              "│ (\u001b[38;5;33mInputLayer\u001b[0m)        │                   │            │                   │\n",
              "├─────────────────────┼───────────────────┼────────────┼───────────────────┤\n",
              "│ conv1d_3 (\u001b[38;5;33mConv1D\u001b[0m)   │ (\u001b[38;5;45mNone\u001b[0m, \u001b[38;5;34m415\u001b[0m, \u001b[38;5;34m64\u001b[0m)   │     \u001b[38;5;34m12,864\u001b[0m │ input_layer_3[\u001b[38;5;34m0\u001b[0m]… │\n",
              "├─────────────────────┼───────────────────┼────────────┼───────────────────┤\n",
              "│ conv1d_4 (\u001b[38;5;33mConv1D\u001b[0m)   │ (\u001b[38;5;45mNone\u001b[0m, \u001b[38;5;34m515\u001b[0m, \u001b[38;5;34m64\u001b[0m)   │      \u001b[38;5;34m6,464\u001b[0m │ input_layer_4[\u001b[38;5;34m0\u001b[0m]… │\n",
              "├─────────────────────┼───────────────────┼────────────┼───────────────────┤\n",
              "│ conv1d_5 (\u001b[38;5;33mConv1D\u001b[0m)   │ (\u001b[38;5;45mNone\u001b[0m, \u001b[38;5;34m565\u001b[0m, \u001b[38;5;34m64\u001b[0m)   │      \u001b[38;5;34m3,264\u001b[0m │ input_layer_5[\u001b[38;5;34m0\u001b[0m]… │\n",
              "├─────────────────────┼───────────────────┼────────────┼───────────────────┤\n",
              "│ dropout_3 (\u001b[38;5;33mDropout\u001b[0m) │ (\u001b[38;5;45mNone\u001b[0m, \u001b[38;5;34m415\u001b[0m, \u001b[38;5;34m64\u001b[0m)   │          \u001b[38;5;34m0\u001b[0m │ conv1d_3[\u001b[38;5;34m0\u001b[0m][\u001b[38;5;34m0\u001b[0m]    │\n",
              "├─────────────────────┼───────────────────┼────────────┼───────────────────┤\n",
              "│ dropout_4 (\u001b[38;5;33mDropout\u001b[0m) │ (\u001b[38;5;45mNone\u001b[0m, \u001b[38;5;34m515\u001b[0m, \u001b[38;5;34m64\u001b[0m)   │          \u001b[38;5;34m0\u001b[0m │ conv1d_4[\u001b[38;5;34m0\u001b[0m][\u001b[38;5;34m0\u001b[0m]    │\n",
              "├─────────────────────┼───────────────────┼────────────┼───────────────────┤\n",
              "│ dropout_5 (\u001b[38;5;33mDropout\u001b[0m) │ (\u001b[38;5;45mNone\u001b[0m, \u001b[38;5;34m565\u001b[0m, \u001b[38;5;34m64\u001b[0m)   │          \u001b[38;5;34m0\u001b[0m │ conv1d_5[\u001b[38;5;34m0\u001b[0m][\u001b[38;5;34m0\u001b[0m]    │\n",
              "├─────────────────────┼───────────────────┼────────────┼───────────────────┤\n",
              "│ max_pooling1d_3     │ (\u001b[38;5;45mNone\u001b[0m, \u001b[38;5;34m20\u001b[0m, \u001b[38;5;34m64\u001b[0m)    │          \u001b[38;5;34m0\u001b[0m │ dropout_3[\u001b[38;5;34m0\u001b[0m][\u001b[38;5;34m0\u001b[0m]   │\n",
              "│ (\u001b[38;5;33mMaxPooling1D\u001b[0m)      │                   │            │                   │\n",
              "├─────────────────────┼───────────────────┼────────────┼───────────────────┤\n",
              "│ max_pooling1d_4     │ (\u001b[38;5;45mNone\u001b[0m, \u001b[38;5;34m51\u001b[0m, \u001b[38;5;34m64\u001b[0m)    │          \u001b[38;5;34m0\u001b[0m │ dropout_4[\u001b[38;5;34m0\u001b[0m][\u001b[38;5;34m0\u001b[0m]   │\n",
              "│ (\u001b[38;5;33mMaxPooling1D\u001b[0m)      │                   │            │                   │\n",
              "├─────────────────────┼───────────────────┼────────────┼───────────────────┤\n",
              "│ max_pooling1d_5     │ (\u001b[38;5;45mNone\u001b[0m, \u001b[38;5;34m113\u001b[0m, \u001b[38;5;34m64\u001b[0m)   │          \u001b[38;5;34m0\u001b[0m │ dropout_5[\u001b[38;5;34m0\u001b[0m][\u001b[38;5;34m0\u001b[0m]   │\n",
              "│ (\u001b[38;5;33mMaxPooling1D\u001b[0m)      │                   │            │                   │\n",
              "├─────────────────────┼───────────────────┼────────────┼───────────────────┤\n",
              "│ flatten_3 (\u001b[38;5;33mFlatten\u001b[0m) │ (\u001b[38;5;45mNone\u001b[0m, \u001b[38;5;34m1280\u001b[0m)      │          \u001b[38;5;34m0\u001b[0m │ max_pooling1d_3[\u001b[38;5;34m…\u001b[0m │\n",
              "├─────────────────────┼───────────────────┼────────────┼───────────────────┤\n",
              "│ flatten_4 (\u001b[38;5;33mFlatten\u001b[0m) │ (\u001b[38;5;45mNone\u001b[0m, \u001b[38;5;34m3264\u001b[0m)      │          \u001b[38;5;34m0\u001b[0m │ max_pooling1d_4[\u001b[38;5;34m…\u001b[0m │\n",
              "├─────────────────────┼───────────────────┼────────────┼───────────────────┤\n",
              "│ flatten_5 (\u001b[38;5;33mFlatten\u001b[0m) │ (\u001b[38;5;45mNone\u001b[0m, \u001b[38;5;34m7232\u001b[0m)      │          \u001b[38;5;34m0\u001b[0m │ max_pooling1d_5[\u001b[38;5;34m…\u001b[0m │\n",
              "├─────────────────────┼───────────────────┼────────────┼───────────────────┤\n",
              "│ concatenate_1       │ (\u001b[38;5;45mNone\u001b[0m, \u001b[38;5;34m11776\u001b[0m)     │          \u001b[38;5;34m0\u001b[0m │ flatten_3[\u001b[38;5;34m0\u001b[0m][\u001b[38;5;34m0\u001b[0m],  │\n",
              "│ (\u001b[38;5;33mConcatenate\u001b[0m)       │                   │            │ flatten_4[\u001b[38;5;34m0\u001b[0m][\u001b[38;5;34m0\u001b[0m],  │\n",
              "│                     │                   │            │ flatten_5[\u001b[38;5;34m0\u001b[0m][\u001b[38;5;34m0\u001b[0m]   │\n",
              "├─────────────────────┼───────────────────┼────────────┼───────────────────┤\n",
              "│ dense_2 (\u001b[38;5;33mDense\u001b[0m)     │ (\u001b[38;5;45mNone\u001b[0m, \u001b[38;5;34m100\u001b[0m)       │  \u001b[38;5;34m1,177,700\u001b[0m │ concatenate_1[\u001b[38;5;34m0\u001b[0m]… │\n",
              "├─────────────────────┼───────────────────┼────────────┼───────────────────┤\n",
              "│ dense_3 (\u001b[38;5;33mDense\u001b[0m)     │ (\u001b[38;5;45mNone\u001b[0m, \u001b[38;5;34m8\u001b[0m)         │        \u001b[38;5;34m808\u001b[0m │ dense_2[\u001b[38;5;34m0\u001b[0m][\u001b[38;5;34m0\u001b[0m]     │\n",
              "└─────────────────────┴───────────────────┴────────────┴───────────────────┘\n"
            ],
            "text/html": [
              "<pre style=\"white-space:pre;overflow-x:auto;line-height:normal;font-family:Menlo,'DejaVu Sans Mono',consolas,'Courier New',monospace\">┏━━━━━━━━━━━━━━━━━━━━━┳━━━━━━━━━━━━━━━━━━━┳━━━━━━━━━━━━┳━━━━━━━━━━━━━━━━━━━┓\n",
              "┃<span style=\"font-weight: bold\"> Layer (type)        </span>┃<span style=\"font-weight: bold\"> Output Shape      </span>┃<span style=\"font-weight: bold\">    Param # </span>┃<span style=\"font-weight: bold\"> Connected to      </span>┃\n",
              "┡━━━━━━━━━━━━━━━━━━━━━╇━━━━━━━━━━━━━━━━━━━╇━━━━━━━━━━━━╇━━━━━━━━━━━━━━━━━━━┩\n",
              "│ input_layer_3       │ (<span style=\"color: #00d7ff; text-decoration-color: #00d7ff\">None</span>, <span style=\"color: #00af00; text-decoration-color: #00af00\">614</span>, <span style=\"color: #00af00; text-decoration-color: #00af00\">1</span>)    │          <span style=\"color: #00af00; text-decoration-color: #00af00\">0</span> │ -                 │\n",
              "│ (<span style=\"color: #0087ff; text-decoration-color: #0087ff\">InputLayer</span>)        │                   │            │                   │\n",
              "├─────────────────────┼───────────────────┼────────────┼───────────────────┤\n",
              "│ input_layer_4       │ (<span style=\"color: #00d7ff; text-decoration-color: #00d7ff\">None</span>, <span style=\"color: #00af00; text-decoration-color: #00af00\">614</span>, <span style=\"color: #00af00; text-decoration-color: #00af00\">1</span>)    │          <span style=\"color: #00af00; text-decoration-color: #00af00\">0</span> │ -                 │\n",
              "│ (<span style=\"color: #0087ff; text-decoration-color: #0087ff\">InputLayer</span>)        │                   │            │                   │\n",
              "├─────────────────────┼───────────────────┼────────────┼───────────────────┤\n",
              "│ input_layer_5       │ (<span style=\"color: #00d7ff; text-decoration-color: #00d7ff\">None</span>, <span style=\"color: #00af00; text-decoration-color: #00af00\">614</span>, <span style=\"color: #00af00; text-decoration-color: #00af00\">1</span>)    │          <span style=\"color: #00af00; text-decoration-color: #00af00\">0</span> │ -                 │\n",
              "│ (<span style=\"color: #0087ff; text-decoration-color: #0087ff\">InputLayer</span>)        │                   │            │                   │\n",
              "├─────────────────────┼───────────────────┼────────────┼───────────────────┤\n",
              "│ conv1d_3 (<span style=\"color: #0087ff; text-decoration-color: #0087ff\">Conv1D</span>)   │ (<span style=\"color: #00d7ff; text-decoration-color: #00d7ff\">None</span>, <span style=\"color: #00af00; text-decoration-color: #00af00\">415</span>, <span style=\"color: #00af00; text-decoration-color: #00af00\">64</span>)   │     <span style=\"color: #00af00; text-decoration-color: #00af00\">12,864</span> │ input_layer_3[<span style=\"color: #00af00; text-decoration-color: #00af00\">0</span>]… │\n",
              "├─────────────────────┼───────────────────┼────────────┼───────────────────┤\n",
              "│ conv1d_4 (<span style=\"color: #0087ff; text-decoration-color: #0087ff\">Conv1D</span>)   │ (<span style=\"color: #00d7ff; text-decoration-color: #00d7ff\">None</span>, <span style=\"color: #00af00; text-decoration-color: #00af00\">515</span>, <span style=\"color: #00af00; text-decoration-color: #00af00\">64</span>)   │      <span style=\"color: #00af00; text-decoration-color: #00af00\">6,464</span> │ input_layer_4[<span style=\"color: #00af00; text-decoration-color: #00af00\">0</span>]… │\n",
              "├─────────────────────┼───────────────────┼────────────┼───────────────────┤\n",
              "│ conv1d_5 (<span style=\"color: #0087ff; text-decoration-color: #0087ff\">Conv1D</span>)   │ (<span style=\"color: #00d7ff; text-decoration-color: #00d7ff\">None</span>, <span style=\"color: #00af00; text-decoration-color: #00af00\">565</span>, <span style=\"color: #00af00; text-decoration-color: #00af00\">64</span>)   │      <span style=\"color: #00af00; text-decoration-color: #00af00\">3,264</span> │ input_layer_5[<span style=\"color: #00af00; text-decoration-color: #00af00\">0</span>]… │\n",
              "├─────────────────────┼───────────────────┼────────────┼───────────────────┤\n",
              "│ dropout_3 (<span style=\"color: #0087ff; text-decoration-color: #0087ff\">Dropout</span>) │ (<span style=\"color: #00d7ff; text-decoration-color: #00d7ff\">None</span>, <span style=\"color: #00af00; text-decoration-color: #00af00\">415</span>, <span style=\"color: #00af00; text-decoration-color: #00af00\">64</span>)   │          <span style=\"color: #00af00; text-decoration-color: #00af00\">0</span> │ conv1d_3[<span style=\"color: #00af00; text-decoration-color: #00af00\">0</span>][<span style=\"color: #00af00; text-decoration-color: #00af00\">0</span>]    │\n",
              "├─────────────────────┼───────────────────┼────────────┼───────────────────┤\n",
              "│ dropout_4 (<span style=\"color: #0087ff; text-decoration-color: #0087ff\">Dropout</span>) │ (<span style=\"color: #00d7ff; text-decoration-color: #00d7ff\">None</span>, <span style=\"color: #00af00; text-decoration-color: #00af00\">515</span>, <span style=\"color: #00af00; text-decoration-color: #00af00\">64</span>)   │          <span style=\"color: #00af00; text-decoration-color: #00af00\">0</span> │ conv1d_4[<span style=\"color: #00af00; text-decoration-color: #00af00\">0</span>][<span style=\"color: #00af00; text-decoration-color: #00af00\">0</span>]    │\n",
              "├─────────────────────┼───────────────────┼────────────┼───────────────────┤\n",
              "│ dropout_5 (<span style=\"color: #0087ff; text-decoration-color: #0087ff\">Dropout</span>) │ (<span style=\"color: #00d7ff; text-decoration-color: #00d7ff\">None</span>, <span style=\"color: #00af00; text-decoration-color: #00af00\">565</span>, <span style=\"color: #00af00; text-decoration-color: #00af00\">64</span>)   │          <span style=\"color: #00af00; text-decoration-color: #00af00\">0</span> │ conv1d_5[<span style=\"color: #00af00; text-decoration-color: #00af00\">0</span>][<span style=\"color: #00af00; text-decoration-color: #00af00\">0</span>]    │\n",
              "├─────────────────────┼───────────────────┼────────────┼───────────────────┤\n",
              "│ max_pooling1d_3     │ (<span style=\"color: #00d7ff; text-decoration-color: #00d7ff\">None</span>, <span style=\"color: #00af00; text-decoration-color: #00af00\">20</span>, <span style=\"color: #00af00; text-decoration-color: #00af00\">64</span>)    │          <span style=\"color: #00af00; text-decoration-color: #00af00\">0</span> │ dropout_3[<span style=\"color: #00af00; text-decoration-color: #00af00\">0</span>][<span style=\"color: #00af00; text-decoration-color: #00af00\">0</span>]   │\n",
              "│ (<span style=\"color: #0087ff; text-decoration-color: #0087ff\">MaxPooling1D</span>)      │                   │            │                   │\n",
              "├─────────────────────┼───────────────────┼────────────┼───────────────────┤\n",
              "│ max_pooling1d_4     │ (<span style=\"color: #00d7ff; text-decoration-color: #00d7ff\">None</span>, <span style=\"color: #00af00; text-decoration-color: #00af00\">51</span>, <span style=\"color: #00af00; text-decoration-color: #00af00\">64</span>)    │          <span style=\"color: #00af00; text-decoration-color: #00af00\">0</span> │ dropout_4[<span style=\"color: #00af00; text-decoration-color: #00af00\">0</span>][<span style=\"color: #00af00; text-decoration-color: #00af00\">0</span>]   │\n",
              "│ (<span style=\"color: #0087ff; text-decoration-color: #0087ff\">MaxPooling1D</span>)      │                   │            │                   │\n",
              "├─────────────────────┼───────────────────┼────────────┼───────────────────┤\n",
              "│ max_pooling1d_5     │ (<span style=\"color: #00d7ff; text-decoration-color: #00d7ff\">None</span>, <span style=\"color: #00af00; text-decoration-color: #00af00\">113</span>, <span style=\"color: #00af00; text-decoration-color: #00af00\">64</span>)   │          <span style=\"color: #00af00; text-decoration-color: #00af00\">0</span> │ dropout_5[<span style=\"color: #00af00; text-decoration-color: #00af00\">0</span>][<span style=\"color: #00af00; text-decoration-color: #00af00\">0</span>]   │\n",
              "│ (<span style=\"color: #0087ff; text-decoration-color: #0087ff\">MaxPooling1D</span>)      │                   │            │                   │\n",
              "├─────────────────────┼───────────────────┼────────────┼───────────────────┤\n",
              "│ flatten_3 (<span style=\"color: #0087ff; text-decoration-color: #0087ff\">Flatten</span>) │ (<span style=\"color: #00d7ff; text-decoration-color: #00d7ff\">None</span>, <span style=\"color: #00af00; text-decoration-color: #00af00\">1280</span>)      │          <span style=\"color: #00af00; text-decoration-color: #00af00\">0</span> │ max_pooling1d_3[<span style=\"color: #00af00; text-decoration-color: #00af00\">…</span> │\n",
              "├─────────────────────┼───────────────────┼────────────┼───────────────────┤\n",
              "│ flatten_4 (<span style=\"color: #0087ff; text-decoration-color: #0087ff\">Flatten</span>) │ (<span style=\"color: #00d7ff; text-decoration-color: #00d7ff\">None</span>, <span style=\"color: #00af00; text-decoration-color: #00af00\">3264</span>)      │          <span style=\"color: #00af00; text-decoration-color: #00af00\">0</span> │ max_pooling1d_4[<span style=\"color: #00af00; text-decoration-color: #00af00\">…</span> │\n",
              "├─────────────────────┼───────────────────┼────────────┼───────────────────┤\n",
              "│ flatten_5 (<span style=\"color: #0087ff; text-decoration-color: #0087ff\">Flatten</span>) │ (<span style=\"color: #00d7ff; text-decoration-color: #00d7ff\">None</span>, <span style=\"color: #00af00; text-decoration-color: #00af00\">7232</span>)      │          <span style=\"color: #00af00; text-decoration-color: #00af00\">0</span> │ max_pooling1d_5[<span style=\"color: #00af00; text-decoration-color: #00af00\">…</span> │\n",
              "├─────────────────────┼───────────────────┼────────────┼───────────────────┤\n",
              "│ concatenate_1       │ (<span style=\"color: #00d7ff; text-decoration-color: #00d7ff\">None</span>, <span style=\"color: #00af00; text-decoration-color: #00af00\">11776</span>)     │          <span style=\"color: #00af00; text-decoration-color: #00af00\">0</span> │ flatten_3[<span style=\"color: #00af00; text-decoration-color: #00af00\">0</span>][<span style=\"color: #00af00; text-decoration-color: #00af00\">0</span>],  │\n",
              "│ (<span style=\"color: #0087ff; text-decoration-color: #0087ff\">Concatenate</span>)       │                   │            │ flatten_4[<span style=\"color: #00af00; text-decoration-color: #00af00\">0</span>][<span style=\"color: #00af00; text-decoration-color: #00af00\">0</span>],  │\n",
              "│                     │                   │            │ flatten_5[<span style=\"color: #00af00; text-decoration-color: #00af00\">0</span>][<span style=\"color: #00af00; text-decoration-color: #00af00\">0</span>]   │\n",
              "├─────────────────────┼───────────────────┼────────────┼───────────────────┤\n",
              "│ dense_2 (<span style=\"color: #0087ff; text-decoration-color: #0087ff\">Dense</span>)     │ (<span style=\"color: #00d7ff; text-decoration-color: #00d7ff\">None</span>, <span style=\"color: #00af00; text-decoration-color: #00af00\">100</span>)       │  <span style=\"color: #00af00; text-decoration-color: #00af00\">1,177,700</span> │ concatenate_1[<span style=\"color: #00af00; text-decoration-color: #00af00\">0</span>]… │\n",
              "├─────────────────────┼───────────────────┼────────────┼───────────────────┤\n",
              "│ dense_3 (<span style=\"color: #0087ff; text-decoration-color: #0087ff\">Dense</span>)     │ (<span style=\"color: #00d7ff; text-decoration-color: #00d7ff\">None</span>, <span style=\"color: #00af00; text-decoration-color: #00af00\">8</span>)         │        <span style=\"color: #00af00; text-decoration-color: #00af00\">808</span> │ dense_2[<span style=\"color: #00af00; text-decoration-color: #00af00\">0</span>][<span style=\"color: #00af00; text-decoration-color: #00af00\">0</span>]     │\n",
              "└─────────────────────┴───────────────────┴────────────┴───────────────────┘\n",
              "</pre>\n"
            ]
          },
          "metadata": {}
        },
        {
          "output_type": "display_data",
          "data": {
            "text/plain": [
              "\u001b[1m Total params: \u001b[0m\u001b[38;5;34m1,201,100\u001b[0m (4.58 MB)\n"
            ],
            "text/html": [
              "<pre style=\"white-space:pre;overflow-x:auto;line-height:normal;font-family:Menlo,'DejaVu Sans Mono',consolas,'Courier New',monospace\"><span style=\"font-weight: bold\"> Total params: </span><span style=\"color: #00af00; text-decoration-color: #00af00\">1,201,100</span> (4.58 MB)\n",
              "</pre>\n"
            ]
          },
          "metadata": {}
        },
        {
          "output_type": "display_data",
          "data": {
            "text/plain": [
              "\u001b[1m Trainable params: \u001b[0m\u001b[38;5;34m1,201,100\u001b[0m (4.58 MB)\n"
            ],
            "text/html": [
              "<pre style=\"white-space:pre;overflow-x:auto;line-height:normal;font-family:Menlo,'DejaVu Sans Mono',consolas,'Courier New',monospace\"><span style=\"font-weight: bold\"> Trainable params: </span><span style=\"color: #00af00; text-decoration-color: #00af00\">1,201,100</span> (4.58 MB)\n",
              "</pre>\n"
            ]
          },
          "metadata": {}
        },
        {
          "output_type": "display_data",
          "data": {
            "text/plain": [
              "\u001b[1m Non-trainable params: \u001b[0m\u001b[38;5;34m0\u001b[0m (0.00 B)\n"
            ],
            "text/html": [
              "<pre style=\"white-space:pre;overflow-x:auto;line-height:normal;font-family:Menlo,'DejaVu Sans Mono',consolas,'Courier New',monospace\"><span style=\"font-weight: bold\"> Non-trainable params: </span><span style=\"color: #00af00; text-decoration-color: #00af00\">0</span> (0.00 B)\n",
              "</pre>\n"
            ]
          },
          "metadata": {}
        }
      ]
    },
    {
      "cell_type": "code",
      "source": [
        "batch_size =100\n",
        "epochs = 20\n",
        "history = cnn_model.fit([X_train,X_train,X_train], y_train, batch_size=batch_size,epochs=epochs,verbose=1,validation_data=([X_test,X_test,X_test],y_test),shuffle=True)"
      ],
      "metadata": {
        "colab": {
          "base_uri": "https://localhost:8080/"
        },
        "id": "2Lxm-qvKM3oN",
        "outputId": "cf98b99e-095c-4296-a040-abe60a7d75c0"
      },
      "id": "2Lxm-qvKM3oN",
      "execution_count": 45,
      "outputs": [
        {
          "output_type": "stream",
          "name": "stdout",
          "text": [
            "Epoch 1/20\n",
            "\u001b[1m16/16\u001b[0m \u001b[32m━━━━━━━━━━━━━━━━━━━━\u001b[0m\u001b[37m\u001b[0m \u001b[1m36s\u001b[0m 2s/step - accuracy: 0.1372 - loss: 3.1786 - val_accuracy: 0.2062 - val_loss: 1.9740\n",
            "Epoch 2/20\n",
            "\u001b[1m16/16\u001b[0m \u001b[32m━━━━━━━━━━━━━━━━━━━━\u001b[0m\u001b[37m\u001b[0m \u001b[1m31s\u001b[0m 1s/step - accuracy: 0.2464 - loss: 1.8364 - val_accuracy: 0.3442 - val_loss: 1.6905\n",
            "Epoch 3/20\n",
            "\u001b[1m16/16\u001b[0m \u001b[32m━━━━━━━━━━━━━━━━━━━━\u001b[0m\u001b[37m\u001b[0m \u001b[1m11s\u001b[0m 515ms/step - accuracy: 0.3911 - loss: 1.4853 - val_accuracy: 0.3961 - val_loss: 1.4746\n",
            "Epoch 4/20\n",
            "\u001b[1m16/16\u001b[0m \u001b[32m━━━━━━━━━━━━━━━━━━━━\u001b[0m\u001b[37m\u001b[0m \u001b[1m8s\u001b[0m 374ms/step - accuracy: 0.5315 - loss: 1.2483 - val_accuracy: 0.4688 - val_loss: 1.3050\n",
            "Epoch 5/20\n",
            "\u001b[1m16/16\u001b[0m \u001b[32m━━━━━━━━━━━━━━━━━━━━\u001b[0m\u001b[37m\u001b[0m \u001b[1m10s\u001b[0m 374ms/step - accuracy: 0.5994 - loss: 1.0835 - val_accuracy: 0.5341 - val_loss: 1.2090\n",
            "Epoch 6/20\n",
            "\u001b[1m16/16\u001b[0m \u001b[32m━━━━━━━━━━━━━━━━━━━━\u001b[0m\u001b[37m\u001b[0m \u001b[1m11s\u001b[0m 437ms/step - accuracy: 0.6532 - loss: 0.9847 - val_accuracy: 0.4644 - val_loss: 1.2078\n",
            "Epoch 7/20\n",
            "\u001b[1m16/16\u001b[0m \u001b[32m━━━━━━━━━━━━━━━━━━━━\u001b[0m\u001b[37m\u001b[0m \u001b[1m11s\u001b[0m 502ms/step - accuracy: 0.6644 - loss: 0.9355 - val_accuracy: 0.5697 - val_loss: 1.0915\n",
            "Epoch 8/20\n",
            "\u001b[1m16/16\u001b[0m \u001b[32m━━━━━━━━━━━━━━━━━━━━\u001b[0m\u001b[37m\u001b[0m \u001b[1m8s\u001b[0m 371ms/step - accuracy: 0.6940 - loss: 0.8420 - val_accuracy: 0.5237 - val_loss: 1.0834\n",
            "Epoch 9/20\n",
            "\u001b[1m16/16\u001b[0m \u001b[32m━━━━━━━━━━━━━━━━━━━━\u001b[0m\u001b[37m\u001b[0m \u001b[1m10s\u001b[0m 369ms/step - accuracy: 0.7240 - loss: 0.7600 - val_accuracy: 0.4050 - val_loss: 1.2803\n",
            "Epoch 10/20\n",
            "\u001b[1m16/16\u001b[0m \u001b[32m━━━━━━━━━━━━━━━━━━━━\u001b[0m\u001b[37m\u001b[0m \u001b[1m13s\u001b[0m 511ms/step - accuracy: 0.7832 - loss: 0.6642 - val_accuracy: 0.4169 - val_loss: 1.3798\n",
            "Epoch 11/20\n",
            "\u001b[1m16/16\u001b[0m \u001b[32m━━━━━━━━━━━━━━━━━━━━\u001b[0m\u001b[37m\u001b[0m \u001b[1m11s\u001b[0m 574ms/step - accuracy: 0.7911 - loss: 0.6342 - val_accuracy: 0.4184 - val_loss: 1.2559\n",
            "Epoch 12/20\n",
            "\u001b[1m16/16\u001b[0m \u001b[32m━━━━━━━━━━━━━━━━━━━━\u001b[0m\u001b[37m\u001b[0m \u001b[1m8s\u001b[0m 454ms/step - accuracy: 0.8232 - loss: 0.5627 - val_accuracy: 0.4214 - val_loss: 1.2718\n",
            "Epoch 13/20\n",
            "\u001b[1m16/16\u001b[0m \u001b[32m━━━━━━━━━━━━━━━━━━━━\u001b[0m\u001b[37m\u001b[0m \u001b[1m9s\u001b[0m 389ms/step - accuracy: 0.7958 - loss: 0.5808 - val_accuracy: 0.3932 - val_loss: 1.3305\n",
            "Epoch 14/20\n",
            "\u001b[1m16/16\u001b[0m \u001b[32m━━━━━━━━━━━━━━━━━━━━\u001b[0m\u001b[37m\u001b[0m \u001b[1m13s\u001b[0m 564ms/step - accuracy: 0.8310 - loss: 0.5201 - val_accuracy: 0.4748 - val_loss: 1.2042\n",
            "Epoch 15/20\n",
            "\u001b[1m16/16\u001b[0m \u001b[32m━━━━━━━━━━━━━━━━━━━━\u001b[0m\u001b[37m\u001b[0m \u001b[1m7s\u001b[0m 379ms/step - accuracy: 0.8391 - loss: 0.5045 - val_accuracy: 0.5371 - val_loss: 1.1198\n",
            "Epoch 16/20\n",
            "\u001b[1m16/16\u001b[0m \u001b[32m━━━━━━━━━━━━━━━━━━━━\u001b[0m\u001b[37m\u001b[0m \u001b[1m8s\u001b[0m 503ms/step - accuracy: 0.8565 - loss: 0.4612 - val_accuracy: 0.4199 - val_loss: 1.5079\n",
            "Epoch 17/20\n",
            "\u001b[1m16/16\u001b[0m \u001b[32m━━━━━━━━━━━━━━━━━━━━\u001b[0m\u001b[37m\u001b[0m \u001b[1m6s\u001b[0m 375ms/step - accuracy: 0.8384 - loss: 0.4554 - val_accuracy: 0.4629 - val_loss: 1.1672\n",
            "Epoch 18/20\n",
            "\u001b[1m16/16\u001b[0m \u001b[32m━━━━━━━━━━━━━━━━━━━━\u001b[0m\u001b[37m\u001b[0m \u001b[1m10s\u001b[0m 375ms/step - accuracy: 0.9144 - loss: 0.3819 - val_accuracy: 0.4407 - val_loss: 1.3796\n",
            "Epoch 19/20\n",
            "\u001b[1m16/16\u001b[0m \u001b[32m━━━━━━━━━━━━━━━━━━━━\u001b[0m\u001b[37m\u001b[0m \u001b[1m11s\u001b[0m 441ms/step - accuracy: 0.9090 - loss: 0.3640 - val_accuracy: 0.4273 - val_loss: 1.3451\n",
            "Epoch 20/20\n",
            "\u001b[1m16/16\u001b[0m \u001b[32m━━━━━━━━━━━━━━━━━━━━\u001b[0m\u001b[37m\u001b[0m \u001b[1m6s\u001b[0m 374ms/step - accuracy: 0.9109 - loss: 0.3546 - val_accuracy: 0.4392 - val_loss: 1.5411\n"
          ]
        }
      ]
    },
    {
      "cell_type": "code",
      "source": [
        "def inv_Transform_result(y_pred):\n",
        "    y_pred = y_pred.argmax(axis=1)\n",
        "    y_pred = encoder.inverse_transform(y_pred)\n",
        "    return y_pred\n",
        "\n",
        "\n",
        "\n",
        "y_pred=cnn_model.predict([X_test,X_test,X_test])\n",
        "\n",
        "\n",
        "Y_pred=inv_Transform_result(y_pred)\n",
        "Y_test = inv_Transform_result(y_test)\n",
        "\n",
        "\n",
        "\n",
        "\n",
        "from sklearn.metrics import confusion_matrix\n",
        "\n",
        "\n",
        "plt.figure(figsize=(10,10))\n",
        "cm = confusion_matrix(Y_test, Y_pred,normalize='true')\n",
        "f = sns.heatmap(cm, annot=True,xticklabels=encoder.classes_,yticklabels=encoder.classes_)"
      ],
      "metadata": {
        "colab": {
          "base_uri": "https://localhost:8080/",
          "height": 989
        },
        "id": "pbBmkBjlM5ks",
        "outputId": "cfb05c18-04bb-4355-a856-d34362d153f8"
      },
      "id": "pbBmkBjlM5ks",
      "execution_count": 46,
      "outputs": [
        {
          "output_type": "stream",
          "name": "stdout",
          "text": [
            "\u001b[1m22/22\u001b[0m \u001b[32m━━━━━━━━━━━━━━━━━━━━\u001b[0m\u001b[37m\u001b[0m \u001b[1m1s\u001b[0m 49ms/step\n"
          ]
        },
        {
          "output_type": "display_data",
          "data": {
            "text/plain": [
              "<Figure size 1000x1000 with 2 Axes>"
            ],
            "image/png": "[encoded data removed]"
          },
          "metadata": {}
        }
      ]
    },
    {
      "cell_type": "code",
      "source": [
        "dummy_cnn = Model(inputs=cnn_model.input,outputs=cnn_model.layers[16].output)\n",
        "y_viz = dummy_cnn.predict([X_train,X_train,X_train])"
      ],
      "metadata": {
        "colab": {
          "base_uri": "https://localhost:8080/"
        },
        "id": "3tgRx2TxM-GS",
        "outputId": "e8deeb7b-fb21-4ab3-ab1a-6093396df5bb"
      },
      "id": "3tgRx2TxM-GS",
      "execution_count": 47,
      "outputs": [
        {
          "output_type": "stream",
          "name": "stdout",
          "text": [
            "\u001b[1m50/50\u001b[0m \u001b[32m━━━━━━━━━━━━━━━━━━━━\u001b[0m\u001b[37m\u001b[0m \u001b[1m2s\u001b[0m 41ms/step\n"
          ]
        }
      ]
    },
    {
      "cell_type": "code",
      "source": [
        "import pandas as pd\n",
        "import seaborn as sns\n",
        "import matplotlib.pyplot as plt\n",
        "from sklearn.manifold import TSNE\n",
        "\n",
        "# Apply t-SNE transformation\n",
        "X_t_sne = TSNE(\n",
        "    n_components=2,\n",
        "    learning_rate='auto',\n",
        "    verbose=2,  # Increase verbosity for more detailed feedback\n",
        "    perplexity=40,\n",
        "    n_iter=500  # Slightly increased number of iterations for convergence\n",
        ").fit_transform(y_viz)\n",
        "\n",
        "# Create DataFrame for t-SNE components\n",
        "tSNEdf = pd.DataFrame(data=X_t_sne, columns=['T-SNE component 1', 'T-SNE component 2'])\n",
        "\n",
        "# Assuming `inv_Transform_result` transforms `y_train` to get the Fault labels\n",
        "tSNEdf['Fault'] = inv_Transform_result(y_train)\n",
        "\n",
        "# Save the t-SNE DataFrame as a CSV file\n",
        "tSNEdf.to_csv('/content/drive/MyDrive/MK DCNN TRIAX/NOISE_30_tSNE_results.csv', index=True)\n",
        "print(\"t-SNE results saved as '/content/drive/MyDrive/MK DCNN TRIAX/NOISE_30_tSNE_results.csv'.\")\n",
        "\n",
        "# # Plot the t-SNE results with Fault as hue\n",
        "# plt.figure(figsize=(12, 12))  # Larger figure for clarity\n",
        "# sns.scatterplot(\n",
        "#     x='T-SNE component 1',\n",
        "#     y='T-SNE component 2',\n",
        "#     hue='Fault',\n",
        "#     palette=sns.color_palette(\"husl\", as_cmap=False),  # Vivid color palette\n",
        "#     data=tSNEdf,\n",
        "#     legend=\"full\",\n",
        "#     alpha=0.7,  # Increased transparency for better overlap clarity\n",
        "#     s=100  # Larger marker size\n",
        "# )\n",
        "\n",
        "# # Add gridlines for better visualization\n",
        "# plt.grid\n",
        "\n",
        "\n",
        "# Optional: Visualization of t-SNE representation\n",
        "plt.figure(figsize=(8, 6))\n",
        "for label in tSNEdf['Fault'].unique():\n",
        "    subset = tSNEdf[tSNEdf['Fault'] == label]\n",
        "    plt.scatter(subset['T-SNE component 1'], subset['T-SNE component 2'], label=f'Fault {label}', alpha=0.7)\n",
        "\n",
        "plt.title('t-SNE Representation of Motor Fault Dataset')\n",
        "plt.xlabel('t-SNE 1')\n",
        "plt.ylabel('t-SNE 2')\n",
        "plt.legend()\n",
        "plt.show()"
      ],
      "metadata": {
        "colab": {
          "base_uri": "https://localhost:8080/",
          "height": 946
        },
        "id": "uic9AVV2NBah",
        "outputId": "3cbcdf57-5fc1-4676-a70b-33296311a317"
      },
      "id": "uic9AVV2NBah",
      "execution_count": 48,
      "outputs": [
        {
          "output_type": "stream",
          "name": "stderr",
          "text": [
            "/usr/local/lib/python3.11/dist-packages/sklearn/manifold/_t_sne.py:1164: FutureWarning: 'n_iter' was renamed to 'max_iter' in version 1.5 and will be removed in 1.7.\n",
            "  warnings.warn(\n"
          ]
        },
        {
          "output_type": "stream",
          "name": "stdout",
          "text": [
            "[t-SNE] Computing 121 nearest neighbors...\n",
            "[t-SNE] Indexed 1572 samples in 0.001s...\n",
            "[t-SNE] Computed neighbors for 1572 samples in 0.171s...\n",
            "[t-SNE] Computed conditional probabilities for sample 1000 / 1572\n",
            "[t-SNE] Computed conditional probabilities for sample 1572 / 1572\n",
            "[t-SNE] Mean sigma: 1.903160\n",
            "[t-SNE] Computed conditional probabilities in 0.055s\n",
            "[t-SNE] Iteration 50: error = 59.3800888, gradient norm = 0.0396220 (50 iterations in 0.746s)\n",
            "[t-SNE] Iteration 100: error = 55.8306465, gradient norm = 0.0108396 (50 iterations in 0.558s)\n",
            "[t-SNE] Iteration 150: error = 55.1668358, gradient norm = 0.0065151 (50 iterations in 0.540s)\n",
            "[t-SNE] Iteration 200: error = 54.8566818, gradient norm = 0.0047265 (50 iterations in 0.550s)\n",
            "[t-SNE] Iteration 250: error = 54.6707420, gradient norm = 0.0041817 (50 iterations in 0.528s)\n",
            "[t-SNE] KL divergence after 250 iterations with early exaggeration: 54.670742\n",
            "[t-SNE] Iteration 300: error = 1.0662297, gradient norm = 0.0165496 (50 iterations in 0.574s)\n",
            "[t-SNE] Iteration 350: error = 0.8121215, gradient norm = 0.0138615 (50 iterations in 0.578s)\n",
            "[t-SNE] Iteration 400: error = 0.7200897, gradient norm = 0.0114567 (50 iterations in 0.607s)\n",
            "[t-SNE] Iteration 450: error = 0.6756412, gradient norm = 0.0098273 (50 iterations in 0.579s)\n",
            "[t-SNE] Iteration 500: error = 0.6504567, gradient norm = 0.0084476 (50 iterations in 0.608s)\n",
            "[t-SNE] KL divergence after 500 iterations: 0.650457\n",
            "t-SNE results saved as '/content/drive/MyDrive/MK DCNN TRIAX/NOISE_30_tSNE_results.csv'.\n"
          ]
        },
        {
          "output_type": "display_data",
          "data": {
            "text/plain": [
              "<Figure size 800x600 with 1 Axes>"
            ],
            "image/png": "[encoded data removed]"
          },
          "metadata": {}
        }
      ]
    },
    {
      "cell_type": "markdown",
      "source": [
        "Statistical Features"
      ],
      "metadata": {
        "id": "PRuXPOIH6cTH"
      },
      "id": "PRuXPOIH6cTH"
    },
    {
      "cell_type": "code",
      "source": [
        "import numpy as np\n",
        "from scipy.stats import skew, kurtosis\n",
        "import pandas as pd\n",
        "import matplotlib.pyplot as plt\n",
        "\n",
        "# Total target rows\n",
        "TARGET_ROWS = 1800\n",
        "\n",
        "# Estimate the total number of samples across all fault types\n",
        "total_samples = sum(len(df[df['fault'] == f]) for f in df['fault'].unique())\n",
        "\n",
        "# Calculate suitable window size and stride\n",
        "num_faults = 9\n",
        "average_samples_per_fault = total_samples / num_faults\n",
        "approx_windows_per_fault = TARGET_ROWS / num_faults\n",
        "stride_ratio = 0.8  # Initial stride/window ratio\n",
        "\n",
        "WINDOW_SIZE = int(average_samples_per_fault / approx_windows_per_fault)\n",
        "STRIDE = int(WINDOW_SIZE * stride_ratio)\n",
        "\n",
        "print(f\"Calculated WINDOW_SIZE: {WINDOW_SIZE}, STRIDE: {STRIDE}\")\n",
        "\n",
        "# Initialize a list to store statistical features\n",
        "statistical_features = []\n",
        "\n",
        "# Loop through each fault type\n",
        "for f in df['fault'].unique():\n",
        "    # Extract data for the current fault type\n",
        "    fault_data = df[df['fault'] == f].iloc[:, 0].values  # Convert to NumPy array for efficiency\n",
        "\n",
        "    # Compute windows using sliding window approach\n",
        "    num_windows = (len(fault_data) - WINDOW_SIZE) // STRIDE + 1\n",
        "    for i in range(num_windows):\n",
        "        start = i * STRIDE\n",
        "        end = start + WINDOW_SIZE\n",
        "        window = fault_data[start:end]\n",
        "\n",
        "        # Convert window to a numeric type\n",
        "        window = window.astype(float)\n",
        "\n",
        "        # Compute statistical features for the current window\n",
        "        mean_val = np.mean(window)\n",
        "        std_val = np.std(window)\n",
        "        rms_val = np.sqrt(np.mean(np.square(window)))\n",
        "        max_val = np.max(window)\n",
        "        min_val = np.min(window)\n",
        "        skewness_val = skew(window)\n",
        "        kurtosis_val = kurtosis(window)\n",
        "\n",
        "        # Additional statistical features\n",
        "        mean_abs_val = np.mean(np.abs(window))\n",
        "        form_factor = rms_val / mean_abs_val if mean_abs_val != 0 else 0\n",
        "        crest_factor = max_val / rms_val if rms_val != 0 else 0\n",
        "\n",
        "        # Store the features in a dictionary\n",
        "        statistical_features.append({\n",
        "            'fault': f,\n",
        "            'window': i + 1,\n",
        "            'mean': mean_val,\n",
        "            'std': std_val,\n",
        "            'rms': rms_val,\n",
        "            'max': max_val,\n",
        "            'min': min_val,\n",
        "            'skewness': skewness_val,\n",
        "            'kurtosis': kurtosis_val,\n",
        "            'form_factor': form_factor,\n",
        "            'crest_factor': crest_factor\n",
        "        })\n",
        "\n",
        "# Convert statistical features into a DataFrame\n",
        "stat_features_df = pd.DataFrame(statistical_features)\n",
        "\n",
        "# Display the extracted features and count of rows\n",
        "print(f\"Extracted {len(stat_features_df)} rows (target: {TARGET_ROWS})\")\n",
        "print(stat_features_df)\n",
        "\n",
        "# Save the extracted features to a CSV file\n",
        "output_file = \"/content/drive/MyDrive/MK DCNN TRIAX/NOISE_30_statistical_features_with_form_and_crest_factors.csv\"\n",
        "stat_features_df.to_csv(output_file, index=False)\n",
        "print(f\"Statistical features saved to '{output_file}'.\")"
      ],
      "metadata": {
        "colab": {
          "base_uri": "https://localhost:8080/"
        },
        "id": "HRTIq9cYQgjC",
        "outputId": "9ca4dd83-08f5-4f52-cbdc-e841555f2e71"
      },
      "id": "HRTIq9cYQgjC",
      "execution_count": 49,
      "outputs": [
        {
          "output_type": "stream",
          "name": "stdout",
          "text": [
            "Calculated WINDOW_SIZE: 614, STRIDE: 491\n",
            "Extracted 2246 rows (target: 1800)\n",
            "                      fault  window      mean       std       rms       max  \\\n",
            "0     Noise_Signal_inner_17       1  0.218010  0.873426  0.900223  2.093916   \n",
            "1     Noise_Signal_inner_17       2  0.210603  0.909794  0.933851  2.074510   \n",
            "2     Noise_Signal_inner_17       3  0.203933  0.899694  0.922517  2.040228   \n",
            "3     Noise_Signal_inner_17       4  0.191163  0.891178  0.911450  2.112496   \n",
            "4     Noise_Signal_inner_17       5  0.208290  0.925396  0.948548  2.112496   \n",
            "...                     ...     ...       ...       ...       ...       ...   \n",
            "2241  noise_signal_outer_09     282  0.194202  0.856168  0.877917  2.080311   \n",
            "2242  noise_signal_outer_09     283  0.191218  0.832763  0.854434  2.113445   \n",
            "2243  noise_signal_outer_09     284  0.206227  0.836924  0.861957  2.068307   \n",
            "2244  noise_signal_outer_09     285  0.216757  0.853420  0.880516  2.108465   \n",
            "2245  noise_signal_outer_09     286  0.188382  0.820656  0.842001  2.065354   \n",
            "\n",
            "           min  skewness  kurtosis  form_factor  crest_factor  \n",
            "0    -1.547168  0.049323 -1.243903     1.154305      2.325998  \n",
            "1    -1.594577  0.044821 -1.286893     1.146274      2.221457  \n",
            "2    -1.458405  0.092651 -1.257919     1.155569      2.211589  \n",
            "3    -1.539462  0.132673 -1.176996     1.164985      2.317731  \n",
            "4    -1.613655  0.071331 -1.248858     1.153681      2.227084  \n",
            "...        ...       ...       ...          ...           ...  \n",
            "2241 -2.088868  0.188412 -0.791227     1.207428      2.369598  \n",
            "2242 -2.013467  0.203125 -0.857249     1.198571      2.473502  \n",
            "2243 -1.462213  0.267719 -0.941435     1.200985      2.399547  \n",
            "2244 -2.117879  0.158398 -0.766658     1.208453      2.394578  \n",
            "2245 -2.048137  0.218351 -0.783343     1.209673      2.452912  \n",
            "\n",
            "[2246 rows x 11 columns]\n",
            "Statistical features saved to '/content/drive/MyDrive/MK DCNN TRIAX/NOISE_30_statistical_features_with_form_and_crest_factors.csv'.\n"
          ]
        }
      ]
    },
    {
      "cell_type": "code",
      "source": [
        "import pandas as pd\n",
        "from sklearn.utils import resample\n",
        "\n",
        "# Load your dataset (replace 'your_dataset.csv' with your actual file)\n",
        "df = pd.read_csv('/content/drive/MyDrive/MK DCNN TRIAX/NOISE_30_statistical_features_with_form_and_crest_factors.csv')\n",
        "\n",
        "# Display initial class distribution\n",
        "print(\"Initial class distribution:\")\n",
        "print(df['fault'].value_counts())\n",
        "\n",
        "# Target size for undersampling/resampling\n",
        "TARGET_ROWS = 1570\n",
        "\n",
        "# Separate all fault types\n",
        "fault_classes = df['fault'].value_counts()\n",
        "\n",
        "# Determine the number of classes\n",
        "num_classes = len(fault_classes)\n",
        "\n",
        "# Calculate how many samples to take from each class\n",
        "samples_per_class = TARGET_ROWS // num_classes\n",
        "\n",
        "# Initialize a list to store resampled data\n",
        "resampled_data = []\n",
        "\n",
        "# Loop over each class to resample them\n",
        "for fault_class in fault_classes.index:\n",
        "    class_data = df[df['fault'] == fault_class]\n",
        "    if len(class_data) > samples_per_class:\n",
        "        # Undersample\n",
        "        class_data_resampled = resample(class_data, replace=False, n_samples=samples_per_class, random_state=42)\n",
        "    else:\n",
        "        # Upsample\n",
        "        class_data_resampled = resample(class_data, replace=True, n_samples=samples_per_class, random_state=42)\n",
        "\n",
        "    resampled_data.append(class_data_resampled)\n",
        "\n",
        "# Concatenate the resampled data into a single DataFrame\n",
        "balanced_df = pd.concat(resampled_data)\n",
        "\n",
        "# Check if we have the exact number of rows\n",
        "current_rows = len(balanced_df)\n",
        "print(f\"Current rows after equal resampling: {current_rows}\")\n",
        "\n",
        "# If the current rows don't match the target rows, adjust by trimming or adding rows\n",
        "if current_rows > TARGET_ROWS:\n",
        "    # Trim extra rows (if more than target)\n",
        "    balanced_df = balanced_df.head(TARGET_ROWS)\n",
        "elif current_rows < TARGET_ROWS:\n",
        "    # Add rows if fewer than target, by sampling from existing data\n",
        "    remaining_rows = TARGET_ROWS - current_rows\n",
        "    additional_data = balanced_df.sample(n=remaining_rows, replace=True, random_state=42)\n",
        "    balanced_df = pd.concat([balanced_df, additional_data])\n",
        "\n",
        "# Shuffle the final dataset\n",
        "balanced_df = balanced_df.sample(frac=1, random_state=42).reset_index(drop=True)\n",
        "\n",
        "# Display new class distribution\n",
        "print(\"New class distribution:\")\n",
        "print(balanced_df['fault'].value_counts())\n",
        "\n",
        "# Display final row count\n",
        "print(f\"Final row count: {len(balanced_df)}\")\n",
        "\n",
        "# Save the balanced dataset to a CSV file\n",
        "balanced_df.to_csv(\"/content/drive/MyDrive/MK DCNN TRIAX/NOISE_30_balanced_dataset_equal_resampling_exact_1570.csv\", index=False)\n",
        "print(\"Balanced dataset saved as '/content/drive/MyDrive/MK DCNN TRIAX/NOISE_30_balanced_dataset_equal_resampling_exact_1570.csv'\")\n"
      ],
      "metadata": {
        "id": "0-DLTbJL0tc6",
        "colab": {
          "base_uri": "https://localhost:8080/"
        },
        "outputId": "33cd6be6-e022-4dd5-9b0f-01385323c96f"
      },
      "id": "0-DLTbJL0tc6",
      "execution_count": 50,
      "outputs": [
        {
          "output_type": "stream",
          "name": "stdout",
          "text": [
            "Initial class distribution:\n",
            "fault\n",
            "Noise_Signal_inner_09    310\n",
            "Noise_Signal_inner_07    291\n",
            "Noise_Signal_inner_13    291\n",
            "noise_signal_outer_09    286\n",
            "Noise_Signal_inner_17    281\n",
            "noise_signal_outer_17    277\n",
            "noise_signal_outer_13    269\n",
            "Noise_Signal_Normal      241\n",
            "Name: count, dtype: int64\n",
            "Current rows after equal resampling: 1568\n",
            "New class distribution:\n",
            "fault\n",
            "Noise_Signal_Normal      197\n",
            "noise_signal_outer_17    197\n",
            "Noise_Signal_inner_13    196\n",
            "Noise_Signal_inner_17    196\n",
            "Noise_Signal_inner_09    196\n",
            "Noise_Signal_inner_07    196\n",
            "noise_signal_outer_09    196\n",
            "noise_signal_outer_13    196\n",
            "Name: count, dtype: int64\n",
            "Final row count: 1570\n",
            "Balanced dataset saved as '/content/drive/MyDrive/MK DCNN TRIAX/NOISE_30_balanced_dataset_equal_resampling_exact_1570.csv'\n"
          ]
        }
      ]
    },
    {
      "cell_type": "code",
      "source": [
        "balanced_df.shape"
      ],
      "metadata": {
        "id": "NQ3f_WOt7Dld",
        "colab": {
          "base_uri": "https://localhost:8080/"
        },
        "outputId": "30da8295-5f4a-4a1a-bee8-f16e9c2f93a3"
      },
      "id": "NQ3f_WOt7Dld",
      "execution_count": 51,
      "outputs": [
        {
          "output_type": "execute_result",
          "data": {
            "text/plain": [
              "(1570, 11)"
            ]
          },
          "metadata": {},
          "execution_count": 51
        }
      ]
    },
    {
      "cell_type": "code",
      "source": [
        "balanced_df=balanced_df.sort_values(by='fault')"
      ],
      "metadata": {
        "id": "JP_zDzu6_Zkt"
      },
      "id": "JP_zDzu6_Zkt",
      "execution_count": 52,
      "outputs": []
    },
    {
      "cell_type": "code",
      "source": [
        "balanced_df"
      ],
      "metadata": {
        "id": "eq6MhY1CAvgD",
        "colab": {
          "base_uri": "https://localhost:8080/",
          "height": 457
        },
        "outputId": "a77279aa-dda5-46bc-96cf-874eb6e5092d"
      },
      "id": "eq6MhY1CAvgD",
      "execution_count": 53,
      "outputs": [
        {
          "output_type": "execute_result",
          "data": {
            "text/plain": [
              "                      fault  window      mean       std       rms       max  \\\n",
              "0       Noise_Signal_Normal     160  0.098392  1.031513  1.036195  1.641277   \n",
              "274     Noise_Signal_Normal      30  0.109844  1.048532  1.054270  1.678189   \n",
              "1495    Noise_Signal_Normal     239  0.128040  1.029330  1.037263  1.618513   \n",
              "1335    Noise_Signal_Normal     116  0.103759  1.031422  1.036628  1.643767   \n",
              "261     Noise_Signal_Normal     191  0.117020  1.033079  1.039685  1.605282   \n",
              "...                     ...     ...       ...       ...       ...       ...   \n",
              "443   noise_signal_outer_17      30  0.145584  0.743493  0.757613  2.022524   \n",
              "1432  noise_signal_outer_17     259  0.186643  0.715607  0.739546  1.783257   \n",
              "1001  noise_signal_outer_17     128  0.160175  0.722263  0.739811  1.844685   \n",
              "1063  noise_signal_outer_17     202  0.175442  0.719098  0.740191  1.787195   \n",
              "1569  noise_signal_outer_17      27  0.166567  0.758247  0.776327  2.052316   \n",
              "\n",
              "           min  skewness  kurtosis  form_factor  crest_factor  \n",
              "0    -1.452305  0.031074 -1.482083     1.118018      1.583946  \n",
              "274  -1.493748 -0.014267 -1.470995     1.116622      1.591801  \n",
              "1495 -1.426301 -0.057970 -1.486354     1.116100      1.560368  \n",
              "1335 -1.470888  0.005928 -1.487605     1.113862      1.585686  \n",
              "261  -1.453439 -0.042994 -1.477266     1.116356      1.544008  \n",
              "...        ...       ...       ...          ...           ...  \n",
              "443  -1.564849  0.028323 -1.046062     1.163597      2.669602  \n",
              "1432 -1.364686  0.029712 -0.991241     1.180511      2.411286  \n",
              "1001 -1.511870  0.079413 -0.995332     1.175767      2.493454  \n",
              "1063 -1.433111  0.019490 -1.018697     1.170175      2.414506  \n",
              "1569 -1.728295  0.105920 -0.927618     1.187258      2.643623  \n",
              "\n",
              "[1570 rows x 11 columns]"
            ],
            "text/html": [
              "\n",
              "  <div id=\"df-cbeb90b3-9ba4-4258-b6e7-f777655ac2eb\" class=\"colab-df-container\">\n",
              "    <div>\n",
              "<style scoped>\n",
              "    .dataframe tbody tr th:only-of-type {\n",
              "        vertical-align: middle;\n",
              "    }\n",
              "\n",
              "    .dataframe tbody tr th {\n",
              "        vertical-align: top;\n",
              "    }\n",
              "\n",
              "    .dataframe thead th {\n",
              "        text-align: right;\n",
              "    }\n",
              "</style>\n",
              "<table border=\"1\" class=\"dataframe\">\n",
              "  <thead>\n",
              "    <tr style=\"text-align: right;\">\n",
              "      <th></th>\n",
              "      <th>fault</th>\n",
              "      <th>window</th>\n",
              "      <th>mean</th>\n",
              "      <th>std</th>\n",
              "      <th>rms</th>\n",
              "      <th>max</th>\n",
              "      <th>min</th>\n",
              "      <th>skewness</th>\n",
              "      <th>kurtosis</th>\n",
              "      <th>form_factor</th>\n",
              "      <th>crest_factor</th>\n",
              "    </tr>\n",
              "  </thead>\n",
              "  <tbody>\n",
              "    <tr>\n",
              "      <th>0</th>\n",
              "      <td>Noise_Signal_Normal</td>\n",
              "      <td>160</td>\n",
              "      <td>0.098392</td>\n",
              "      <td>1.031513</td>\n",
              "      <td>1.036195</td>\n",
              "      <td>1.641277</td>\n",
              "      <td>-1.452305</td>\n",
              "      <td>0.031074</td>\n",
              "      <td>-1.482083</td>\n",
              "      <td>1.118018</td>\n",
              "      <td>1.583946</td>\n",
              "    </tr>\n",
              "    <tr>\n",
              "      <th>274</th>\n",
              "      <td>Noise_Signal_Normal</td>\n",
              "      <td>30</td>\n",
              "      <td>0.109844</td>\n",
              "      <td>1.048532</td>\n",
              "      <td>1.054270</td>\n",
              "      <td>1.678189</td>\n",
              "      <td>-1.493748</td>\n",
              "      <td>-0.014267</td>\n",
              "      <td>-1.470995</td>\n",
              "      <td>1.116622</td>\n",
              "      <td>1.591801</td>\n",
              "    </tr>\n",
              "    <tr>\n",
              "      <th>1495</th>\n",
              "      <td>Noise_Signal_Normal</td>\n",
              "      <td>239</td>\n",
              "      <td>0.128040</td>\n",
              "      <td>1.029330</td>\n",
              "      <td>1.037263</td>\n",
              "      <td>1.618513</td>\n",
              "      <td>-1.426301</td>\n",
              "      <td>-0.057970</td>\n",
              "      <td>-1.486354</td>\n",
              "      <td>1.116100</td>\n",
              "      <td>1.560368</td>\n",
              "    </tr>\n",
              "    <tr>\n",
              "      <th>1335</th>\n",
              "      <td>Noise_Signal_Normal</td>\n",
              "      <td>116</td>\n",
              "      <td>0.103759</td>\n",
              "      <td>1.031422</td>\n",
              "      <td>1.036628</td>\n",
              "      <td>1.643767</td>\n",
              "      <td>-1.470888</td>\n",
              "      <td>0.005928</td>\n",
              "      <td>-1.487605</td>\n",
              "      <td>1.113862</td>\n",
              "      <td>1.585686</td>\n",
              "    </tr>\n",
              "    <tr>\n",
              "      <th>261</th>\n",
              "      <td>Noise_Signal_Normal</td>\n",
              "      <td>191</td>\n",
              "      <td>0.117020</td>\n",
              "      <td>1.033079</td>\n",
              "      <td>1.039685</td>\n",
              "      <td>1.605282</td>\n",
              "      <td>-1.453439</td>\n",
              "      <td>-0.042994</td>\n",
              "      <td>-1.477266</td>\n",
              "      <td>1.116356</td>\n",
              "      <td>1.544008</td>\n",
              "    </tr>\n",
              "    <tr>\n",
              "      <th>...</th>\n",
              "      <td>...</td>\n",
              "      <td>...</td>\n",
              "      <td>...</td>\n",
              "      <td>...</td>\n",
              "      <td>...</td>\n",
              "      <td>...</td>\n",
              "      <td>...</td>\n",
              "      <td>...</td>\n",
              "      <td>...</td>\n",
              "      <td>...</td>\n",
              "      <td>...</td>\n",
              "    </tr>\n",
              "    <tr>\n",
              "      <th>443</th>\n",
              "      <td>noise_signal_outer_17</td>\n",
              "      <td>30</td>\n",
              "      <td>0.145584</td>\n",
              "      <td>0.743493</td>\n",
              "      <td>0.757613</td>\n",
              "      <td>2.022524</td>\n",
              "      <td>-1.564849</td>\n",
              "      <td>0.028323</td>\n",
              "      <td>-1.046062</td>\n",
              "      <td>1.163597</td>\n",
              "      <td>2.669602</td>\n",
              "    </tr>\n",
              "    <tr>\n",
              "      <th>1432</th>\n",
              "      <td>noise_signal_outer_17</td>\n",
              "      <td>259</td>\n",
              "      <td>0.186643</td>\n",
              "      <td>0.715607</td>\n",
              "      <td>0.739546</td>\n",
              "      <td>1.783257</td>\n",
              "      <td>-1.364686</td>\n",
              "      <td>0.029712</td>\n",
              "      <td>-0.991241</td>\n",
              "      <td>1.180511</td>\n",
              "      <td>2.411286</td>\n",
              "    </tr>\n",
              "    <tr>\n",
              "      <th>1001</th>\n",
              "      <td>noise_signal_outer_17</td>\n",
              "      <td>128</td>\n",
              "      <td>0.160175</td>\n",
              "      <td>0.722263</td>\n",
              "      <td>0.739811</td>\n",
              "      <td>1.844685</td>\n",
              "      <td>-1.511870</td>\n",
              "      <td>0.079413</td>\n",
              "      <td>-0.995332</td>\n",
              "      <td>1.175767</td>\n",
              "      <td>2.493454</td>\n",
              "    </tr>\n",
              "    <tr>\n",
              "      <th>1063</th>\n",
              "      <td>noise_signal_outer_17</td>\n",
              "      <td>202</td>\n",
              "      <td>0.175442</td>\n",
              "      <td>0.719098</td>\n",
              "      <td>0.740191</td>\n",
              "      <td>1.787195</td>\n",
              "      <td>-1.433111</td>\n",
              "      <td>0.019490</td>\n",
              "      <td>-1.018697</td>\n",
              "      <td>1.170175</td>\n",
              "      <td>2.414506</td>\n",
              "    </tr>\n",
              "    <tr>\n",
              "      <th>1569</th>\n",
              "      <td>noise_signal_outer_17</td>\n",
              "      <td>27</td>\n",
              "      <td>0.166567</td>\n",
              "      <td>0.758247</td>\n",
              "      <td>0.776327</td>\n",
              "      <td>2.052316</td>\n",
              "      <td>-1.728295</td>\n",
              "      <td>0.105920</td>\n",
              "      <td>-0.927618</td>\n",
              "      <td>1.187258</td>\n",
              "      <td>2.643623</td>\n",
              "    </tr>\n",
              "  </tbody>\n",
              "</table>\n",
              "<p>1570 rows × 11 columns</p>\n",
              "</div>\n",
              "    <div class=\"colab-df-buttons\">\n",
              "\n",
              "  <div class=\"colab-df-container\">\n",
              "    <button class=\"colab-df-convert\" onclick=\"convertToInteractive('df-cbeb90b3-9ba4-4258-b6e7-f777655ac2eb')\"\n",
              "            title=\"Convert this dataframe to an interactive table.\"\n",
              "            style=\"display:none;\">\n",
              "\n",
              "  <svg xmlns=\"http://www.w3.org/2000/svg\" height=\"24px\" viewBox=\"0 -960 960 960\">\n",
              "    <path d=\"M120-120v-720h720v720H120Zm60-500h600v-160H180v160Zm220 220h160v-160H400v160Zm0 220h160v-160H400v160ZM180-400h160v-160H180v160Zm440 0h160v-160H620v160ZM180-180h160v-160H180v160Zm440 0h160v-160H620v160Z\"/>\n",
              "  </svg>\n",
              "    </button>\n",
              "\n",
              "  <style>\n",
              "    .colab-df-container {\n",
              "      display:flex;\n",
              "      gap: 12px;\n",
              "    }\n",
              "\n",
              "    .colab-df-convert {\n",
              "      background-color: #E8F0FE;\n",
              "      border: none;\n",
              "      border-radius: 50%;\n",
              "      cursor: pointer;\n",
              "      display: none;\n",
              "      fill: #1967D2;\n",
              "      height: 32px;\n",
              "      padding: 0 0 0 0;\n",
              "      width: 32px;\n",
              "    }\n",
              "\n",
              "    .colab-df-convert:hover {\n",
              "      background-color: #E2EBFA;\n",
              "      box-shadow: 0px 1px 2px rgba(60, 64, 67, 0.3), 0px 1px 3px 1px rgba(60, 64, 67, 0.15);\n",
              "      fill: #174EA6;\n",
              "    }\n",
              "\n",
              "    .colab-df-buttons div {\n",
              "      margin-bottom: 4px;\n",
              "    }\n",
              "\n",
              "    [theme=dark] .colab-df-convert {\n",
              "      background-color: #3B4455;\n",
              "      fill: #D2E3FC;\n",
              "    }\n",
              "\n",
              "    [theme=dark] .colab-df-convert:hover {\n",
              "      background-color: #434B5C;\n",
              "      box-shadow: 0px 1px 3px 1px rgba(0, 0, 0, 0.15);\n",
              "      filter: drop-shadow(0px 1px 2px rgba(0, 0, 0, 0.3));\n",
              "      fill: #FFFFFF;\n",
              "    }\n",
              "  </style>\n",
              "\n",
              "    <script>\n",
              "      const buttonEl =\n",
              "        document.querySelector('#df-cbeb90b3-9ba4-4258-b6e7-f777655ac2eb button.colab-df-convert');\n",
              "      buttonEl.style.display =\n",
              "        google.colab.kernel.accessAllowed ? 'block' : 'none';\n",
              "\n",
              "      async function convertToInteractive(key) {\n",
              "        const element = document.querySelector('#df-cbeb90b3-9ba4-4258-b6e7-f777655ac2eb');\n",
              "        const dataTable =\n",
              "          await google.colab.kernel.invokeFunction('convertToInteractive',\n",
              "                                                    [key], {});\n",
              "        if (!dataTable) return;\n",
              "\n",
              "        const docLinkHtml = 'Like what you see? Visit the ' +\n",
              "          '<a target=\"_blank\" href=https://colab.research.google.com/notebooks/data_table.ipynb>data table notebook</a>'\n",
              "          + ' to learn more about interactive tables.';\n",
              "        element.innerHTML = '';\n",
              "        dataTable['output_type'] = 'display_data';\n",
              "        await google.colab.output.renderOutput(dataTable, element);\n",
              "        const docLink = document.createElement('div');\n",
              "        docLink.innerHTML = docLinkHtml;\n",
              "        element.appendChild(docLink);\n",
              "      }\n",
              "    </script>\n",
              "  </div>\n",
              "\n",
              "\n",
              "    <div id=\"df-4b990b99-e7df-4503-950b-3c18b0da6555\">\n",
              "      <button class=\"colab-df-quickchart\" onclick=\"quickchart('df-4b990b99-e7df-4503-950b-3c18b0da6555')\"\n",
              "                title=\"Suggest charts\"\n",
              "                style=\"display:none;\">\n",
              "\n",
              "<svg xmlns=\"http://www.w3.org/2000/svg\" height=\"24px\"viewBox=\"0 0 24 24\"\n",
              "     width=\"24px\">\n",
              "    <g>\n",
              "        <path d=\"M19 3H5c-1.1 0-2 .9-2 2v14c0 1.1.9 2 2 2h14c1.1 0 2-.9 2-2V5c0-1.1-.9-2-2-2zM9 17H7v-7h2v7zm4 0h-2V7h2v10zm4 0h-2v-4h2v4z\"/>\n",
              "    </g>\n",
              "</svg>\n",
              "      </button>\n",
              "\n",
              "<style>\n",
              "  .colab-df-quickchart {\n",
              "      --bg-color: #E8F0FE;\n",
              "      --fill-color: #1967D2;\n",
              "      --hover-bg-color: #E2EBFA;\n",
              "      --hover-fill-color: #174EA6;\n",
              "      --disabled-fill-color: #AAA;\n",
              "      --disabled-bg-color: #DDD;\n",
              "  }\n",
              "\n",
              "  [theme=dark] .colab-df-quickchart {\n",
              "      --bg-color: #3B4455;\n",
              "      --fill-color: #D2E3FC;\n",
              "      --hover-bg-color: #434B5C;\n",
              "      --hover-fill-color: #FFFFFF;\n",
              "      --disabled-bg-color: #3B4455;\n",
              "      --disabled-fill-color: #666;\n",
              "  }\n",
              "\n",
              "  .colab-df-quickchart {\n",
              "    background-color: var(--bg-color);\n",
              "    border: none;\n",
              "    border-radius: 50%;\n",
              "    cursor: pointer;\n",
              "    display: none;\n",
              "    fill: var(--fill-color);\n",
              "    height: 32px;\n",
              "    padding: 0;\n",
              "    width: 32px;\n",
              "  }\n",
              "\n",
              "  .colab-df-quickchart:hover {\n",
              "    background-color: var(--hover-bg-color);\n",
              "    box-shadow: 0 1px 2px rgba(60, 64, 67, 0.3), 0 1px 3px 1px rgba(60, 64, 67, 0.15);\n",
              "    fill: var(--button-hover-fill-color);\n",
              "  }\n",
              "\n",
              "  .colab-df-quickchart-complete:disabled,\n",
              "  .colab-df-quickchart-complete:disabled:hover {\n",
              "    background-color: var(--disabled-bg-color);\n",
              "    fill: var(--disabled-fill-color);\n",
              "    box-shadow: none;\n",
              "  }\n",
              "\n",
              "  .colab-df-spinner {\n",
              "    border: 2px solid var(--fill-color);\n",
              "    border-color: transparent;\n",
              "    border-bottom-color: var(--fill-color);\n",
              "    animation:\n",
              "      spin 1s steps(1) infinite;\n",
              "  }\n",
              "\n",
              "  @keyframes spin {\n",
              "    0% {\n",
              "      border-color: transparent;\n",
              "      border-bottom-color: var(--fill-color);\n",
              "      border-left-color: var(--fill-color);\n",
              "    }\n",
              "    20% {\n",
              "      border-color: transparent;\n",
              "      border-left-color: var(--fill-color);\n",
              "      border-top-color: var(--fill-color);\n",
              "    }\n",
              "    30% {\n",
              "      border-color: transparent;\n",
              "      border-left-color: var(--fill-color);\n",
              "      border-top-color: var(--fill-color);\n",
              "      border-right-color: var(--fill-color);\n",
              "    }\n",
              "    40% {\n",
              "      border-color: transparent;\n",
              "      border-right-color: var(--fill-color);\n",
              "      border-top-color: var(--fill-color);\n",
              "    }\n",
              "    60% {\n",
              "      border-color: transparent;\n",
              "      border-right-color: var(--fill-color);\n",
              "    }\n",
              "    80% {\n",
              "      border-color: transparent;\n",
              "      border-right-color: var(--fill-color);\n",
              "      border-bottom-color: var(--fill-color);\n",
              "    }\n",
              "    90% {\n",
              "      border-color: transparent;\n",
              "      border-bottom-color: var(--fill-color);\n",
              "    }\n",
              "  }\n",
              "</style>\n",
              "\n",
              "      <script>\n",
              "        async function quickchart(key) {\n",
              "          const quickchartButtonEl =\n",
              "            document.querySelector('#' + key + ' button');\n",
              "          quickchartButtonEl.disabled = true;  // To prevent multiple clicks.\n",
              "          quickchartButtonEl.classList.add('colab-df-spinner');\n",
              "          try {\n",
              "            const charts = await google.colab.kernel.invokeFunction(\n",
              "                'suggestCharts', [key], {});\n",
              "          } catch (error) {\n",
              "            console.error('Error during call to suggestCharts:', error);\n",
              "          }\n",
              "          quickchartButtonEl.classList.remove('colab-df-spinner');\n",
              "          quickchartButtonEl.classList.add('colab-df-quickchart-complete');\n",
              "        }\n",
              "        (() => {\n",
              "          let quickchartButtonEl =\n",
              "            document.querySelector('#df-4b990b99-e7df-4503-950b-3c18b0da6555 button');\n",
              "          quickchartButtonEl.style.display =\n",
              "            google.colab.kernel.accessAllowed ? 'block' : 'none';\n",
              "        })();\n",
              "      </script>\n",
              "    </div>\n",
              "\n",
              "  <div id=\"id_1d13de17-d872-47fe-a878-6fd08a26c89e\">\n",
              "    <style>\n",
              "      .colab-df-generate {\n",
              "        background-color: #E8F0FE;\n",
              "        border: none;\n",
              "        border-radius: 50%;\n",
              "        cursor: pointer;\n",
              "        display: none;\n",
              "        fill: #1967D2;\n",
              "        height: 32px;\n",
              "        padding: 0 0 0 0;\n",
              "        width: 32px;\n",
              "      }\n",
              "\n",
              "      .colab-df-generate:hover {\n",
              "        background-color: #E2EBFA;\n",
              "        box-shadow: 0px 1px 2px rgba(60, 64, 67, 0.3), 0px 1px 3px 1px rgba(60, 64, 67, 0.15);\n",
              "        fill: #174EA6;\n",
              "      }\n",
              "\n",
              "      [theme=dark] .colab-df-generate {\n",
              "        background-color: #3B4455;\n",
              "        fill: #D2E3FC;\n",
              "      }\n",
              "\n",
              "      [theme=dark] .colab-df-generate:hover {\n",
              "        background-color: #434B5C;\n",
              "        box-shadow: 0px 1px 3px 1px rgba(0, 0, 0, 0.15);\n",
              "        filter: drop-shadow(0px 1px 2px rgba(0, 0, 0, 0.3));\n",
              "        fill: #FFFFFF;\n",
              "      }\n",
              "    </style>\n",
              "    <button class=\"colab-df-generate\" onclick=\"generateWithVariable('balanced_df')\"\n",
              "            title=\"Generate code using this dataframe.\"\n",
              "            style=\"display:none;\">\n",
              "\n",
              "  <svg xmlns=\"http://www.w3.org/2000/svg\" height=\"24px\"viewBox=\"0 0 24 24\"\n",
              "       width=\"24px\">\n",
              "    <path d=\"M7,19H8.4L18.45,9,17,7.55,7,17.6ZM5,21V16.75L18.45,3.32a2,2,0,0,1,2.83,0l1.4,1.43a1.91,1.91,0,0,1,.58,1.4,1.91,1.91,0,0,1-.58,1.4L9.25,21ZM18.45,9,17,7.55Zm-12,3A5.31,5.31,0,0,0,4.9,8.1,5.31,5.31,0,0,0,1,6.5,5.31,5.31,0,0,0,4.9,4.9,5.31,5.31,0,0,0,6.5,1,5.31,5.31,0,0,0,8.1,4.9,5.31,5.31,0,0,0,12,6.5,5.46,5.46,0,0,0,6.5,12Z\"/>\n",
              "  </svg>\n",
              "    </button>\n",
              "    <script>\n",
              "      (() => {\n",
              "      const buttonEl =\n",
              "        document.querySelector('#id_1d13de17-d872-47fe-a878-6fd08a26c89e button.colab-df-generate');\n",
              "      buttonEl.style.display =\n",
              "        google.colab.kernel.accessAllowed ? 'block' : 'none';\n",
              "\n",
              "      buttonEl.onclick = () => {\n",
              "        google.colab.notebook.generateWithVariable('balanced_df');\n",
              "      }\n",
              "      })();\n",
              "    </script>\n",
              "  </div>\n",
              "\n",
              "    </div>\n",
              "  </div>\n"
            ],
            "application/vnd.google.colaboratory.intrinsic+json": {
              "type": "dataframe",
              "variable_name": "balanced_df",
              "summary": "{\n  \"name\": \"balanced_df\",\n  \"rows\": 1570,\n  \"fields\": [\n    {\n      \"column\": \"fault\",\n      \"properties\": {\n        \"dtype\": \"category\",\n        \"num_unique_values\": 8,\n        \"samples\": [\n          \"Noise_Signal_inner_07\",\n          \"noise_signal_outer_09\",\n          \"Noise_Signal_Normal\"\n        ],\n        \"semantic_type\": \"\",\n        \"description\": \"\"\n      }\n    },\n    {\n      \"column\": \"window\",\n      \"properties\": {\n        \"dtype\": \"number\",\n        \"std\": 81,\n        \"min\": 1,\n        \"max\": 308,\n        \"num_unique_values\": 271,\n        \"samples\": [\n          145,\n          148,\n          147\n        ],\n        \"semantic_type\": \"\",\n        \"description\": \"\"\n      }\n    },\n    {\n      \"column\": \"mean\",\n      \"properties\": {\n        \"dtype\": \"number\",\n        \"std\": 0.03089713722627181,\n        \"min\": 0.0593264391177426,\n        \"max\": 0.2386321875351126,\n        \"num_unique_values\": 1568,\n        \"samples\": [\n          0.1528661520640577,\n          0.1849153705524349,\n          0.1573539456465269\n        ],\n        \"semantic_type\": \"\",\n        \"description\": \"\"\n      }\n    },\n    {\n      \"column\": \"std\",\n      \"properties\": {\n        \"dtype\": \"number\",\n        \"std\": 0.22656218148716142,\n        \"min\": 0.695919621088391,\n        \"max\": 1.5347141895997312,\n        \"num_unique_values\": 1568,\n        \"samples\": [\n          0.7318984610796561,\n          0.8201646533677197,\n          0.7492283286632317\n        ],\n        \"semantic_type\": \"\",\n        \"description\": \"\"\n      }\n    },\n    {\n      \"column\": \"rms\",\n      \"properties\": {\n        \"dtype\": \"number\",\n        \"std\": 0.22426229031898764,\n        \"min\": 0.7100486595737078,\n        \"max\": 1.5464593881288664,\n        \"num_unique_values\": 1568,\n        \"samples\": [\n          0.7476920607961814,\n          0.8407518973516123,\n          0.7655738714729164\n        ],\n        \"semantic_type\": \"\",\n        \"description\": \"\"\n      }\n    },\n    {\n      \"column\": \"max\",\n      \"properties\": {\n        \"dtype\": \"number\",\n        \"std\": 0.1892080502052467,\n        \"min\": 1.425160540479756,\n        \"max\": 2.226527528849626,\n        \"num_unique_values\": 1441,\n        \"samples\": [\n          1.6505883391289276,\n          2.071040866831067,\n          1.9889409915571703\n        ],\n        \"semantic_type\": \"\",\n        \"description\": \"\"\n      }\n    },\n    {\n      \"column\": \"min\",\n      \"properties\": {\n        \"dtype\": \"number\",\n        \"std\": 0.2595769760529218,\n        \"min\": -2.205088992746594,\n        \"max\": -1.1411349875817742,\n        \"num_unique_values\": 1438,\n        \"samples\": [\n          -1.4717709611094187,\n          -1.4582581463290976,\n          -1.8580917339290843\n        ],\n        \"semantic_type\": \"\",\n        \"description\": \"\"\n      }\n    },\n    {\n      \"column\": \"skewness\",\n      \"properties\": {\n        \"dtype\": \"number\",\n        \"std\": 0.09757162692104947,\n        \"min\": -0.317704041841118,\n        \"max\": 0.3495789410339541,\n        \"num_unique_values\": 1568,\n        \"samples\": [\n          0.1263062409875816,\n          0.1981961704095555,\n          -0.0095349204397582\n        ],\n        \"semantic_type\": \"\",\n        \"description\": \"\"\n      }\n    },\n    {\n      \"column\": \"kurtosis\",\n      \"properties\": {\n        \"dtype\": \"number\",\n        \"std\": 0.24240654649704094,\n        \"min\": -1.6154604996654978,\n        \"max\": -0.6181972524978812,\n        \"num_unique_values\": 1568,\n        \"samples\": [\n          -1.0636347450169583,\n          -0.7522424014750815,\n          -1.2240077452886498\n        ],\n        \"semantic_type\": \"\",\n        \"description\": \"\"\n      }\n    },\n    {\n      \"column\": \"form_factor\",\n      \"properties\": {\n        \"dtype\": \"number\",\n        \"std\": 0.033148326180245366,\n        \"min\": 1.0778398894948895,\n        \"max\": 1.2166050092469205,\n        \"num_unique_values\": 1568,\n        \"samples\": [\n          1.171166841113192,\n          1.1969738155622427,\n          1.1538491494768048\n        ],\n        \"semantic_type\": \"\",\n        \"description\": \"\"\n      }\n    },\n    {\n      \"column\": \"crest_factor\",\n      \"properties\": {\n        \"dtype\": \"number\",\n        \"std\": 0.39174424291330306,\n        \"min\": 1.3888420544625295,\n        \"max\": 2.8525385429840515,\n        \"num_unique_values\": 1568,\n        \"samples\": [\n          2.3288170941466566,\n          2.474623425713634,\n          2.0378157703268105\n        ],\n        \"semantic_type\": \"\",\n        \"description\": \"\"\n      }\n    }\n  ]\n}"
            }
          },
          "metadata": {},
          "execution_count": 53
        }
      ]
    },
    {
      "cell_type": "code",
      "source": [
        "import pandas as pd\n",
        "from sklearn.preprocessing import StandardScaler\n",
        "from sklearn.manifold import TSNE\n",
        "import matplotlib.pyplot as plt\n",
        "\n",
        "\n",
        "# Sort the dataset by the 'Fault' column\n",
        "balanced_df = balanced_df.sort_values(by='fault')\n",
        "\n",
        "# Separate features and target variable\n",
        "X = balanced_df.drop(columns=['fault'])  # Replace 'Fault' with actual target column name\n",
        "y = balanced_df['fault']\n",
        "\n",
        "# Normalize the feature columns using StandardScaler\n",
        "scaler = StandardScaler()\n",
        "X_normalized = pd.DataFrame(scaler.fit_transform(X), columns=X.columns)\n",
        "\n",
        "# Concatenate the normalized features with the target variable\n",
        "STAT_Motor_Fault_dataset_normalized = pd.concat([X_normalized, y.reset_index(drop=True)], axis=1)\n",
        "\n",
        "# Sort the normalized dataset by 'Fault' column\n",
        "STAT_Motor_Fault_dataset_normalized = STAT_Motor_Fault_dataset_normalized.sort_values(by='fault')\n",
        "\n",
        "# Apply t-SNE for dimensionality reduction\n",
        "tsne = TSNE(n_components=2, random_state=42)  # 2D t-SNE\n",
        "X_tsne = tsne.fit_transform(X_normalized)\n",
        "\n",
        "# Create a DataFrame for t-SNE results\n",
        "tSNE_representation = pd.DataFrame(X_tsne, columns=['t-SNE 1', 't-SNE 2'])\n",
        "tSNE_representation['fault'] = y.reset_index(drop=True)\n",
        "\n",
        "# Display the t-SNE representation\n",
        "print(tSNE_representation.head())\n",
        "\n",
        "# Optional: Visualization of t-SNE representation\n",
        "plt.figure(figsize=(8, 6))\n",
        "for label in tSNE_representation['fault'].unique():\n",
        "    subset = tSNE_representation[tSNE_representation['fault'] == label]\n",
        "    plt.scatter(subset['t-SNE 1'], subset['t-SNE 2'], label=f'fault {label}', alpha=0.7)\n",
        "\n",
        "plt.title('t-SNE Representation of Motor Fault Dataset')\n",
        "plt.xlabel('t-SNE 1')\n",
        "plt.ylabel('t-SNE 2')\n",
        "plt.legend()\n",
        "plt.show()\n"
      ],
      "metadata": {
        "id": "tV7aspjE3R4f",
        "colab": {
          "base_uri": "https://localhost:8080/",
          "height": 668
        },
        "outputId": "b998c357-0fdb-47dc-fe09-d052f8c3d0cf"
      },
      "id": "tV7aspjE3R4f",
      "execution_count": 54,
      "outputs": [
        {
          "output_type": "stream",
          "name": "stdout",
          "text": [
            "     t-SNE 1    t-SNE 2                fault\n",
            "0 -28.844374 -26.850893  Noise_Signal_Normal\n",
            "1 -41.904072 -22.130270  Noise_Signal_Normal\n",
            "2 -37.286644 -24.354376  Noise_Signal_Normal\n",
            "3 -23.707857 -28.914089  Noise_Signal_Normal\n",
            "4 -23.684092 -27.900356  Noise_Signal_Normal\n"
          ]
        },
        {
          "output_type": "display_data",
          "data": {
            "text/plain": [
              "<Figure size 800x600 with 1 Axes>"
            ],
            "image/png": "[encoded data removed]"
          },
          "metadata": {}
        }
      ]
    },
    {
      "cell_type": "code",
      "source": [
        "tSNE_representation"
      ],
      "metadata": {
        "id": "QMwOLwssDgHU",
        "colab": {
          "base_uri": "https://localhost:8080/",
          "height": 424
        },
        "outputId": "e2677ca6-1a3b-478f-da33-a1960f4d2f6c"
      },
      "id": "QMwOLwssDgHU",
      "execution_count": 55,
      "outputs": [
        {
          "output_type": "execute_result",
          "data": {
            "text/plain": [
              "        t-SNE 1    t-SNE 2                  fault\n",
              "0    -28.844374 -26.850893    Noise_Signal_Normal\n",
              "1    -41.904072 -22.130270    Noise_Signal_Normal\n",
              "2    -37.286644 -24.354376    Noise_Signal_Normal\n",
              "3    -23.707857 -28.914089    Noise_Signal_Normal\n",
              "4    -23.684092 -27.900356    Noise_Signal_Normal\n",
              "...         ...        ...                    ...\n",
              "1565  18.056519 -11.074957  noise_signal_outer_17\n",
              "1566  26.508474  -8.317286  noise_signal_outer_17\n",
              "1567  15.916927 -10.970430  noise_signal_outer_17\n",
              "1568  10.082721   1.046559  noise_signal_outer_17\n",
              "1569  10.298368   7.267054  noise_signal_outer_17\n",
              "\n",
              "[1570 rows x 3 columns]"
            ],
            "text/html": [
              "\n",
              "  <div id=\"df-796bbf19-0fb8-4a12-8f33-86a4b4ff4a2d\" class=\"colab-df-container\">\n",
              "    <div>\n",
              "<style scoped>\n",
              "    .dataframe tbody tr th:only-of-type {\n",
              "        vertical-align: middle;\n",
              "    }\n",
              "\n",
              "    .dataframe tbody tr th {\n",
              "        vertical-align: top;\n",
              "    }\n",
              "\n",
              "    .dataframe thead th {\n",
              "        text-align: right;\n",
              "    }\n",
              "</style>\n",
              "<table border=\"1\" class=\"dataframe\">\n",
              "  <thead>\n",
              "    <tr style=\"text-align: right;\">\n",
              "      <th></th>\n",
              "      <th>t-SNE 1</th>\n",
              "      <th>t-SNE 2</th>\n",
              "      <th>fault</th>\n",
              "    </tr>\n",
              "  </thead>\n",
              "  <tbody>\n",
              "    <tr>\n",
              "      <th>0</th>\n",
              "      <td>-28.844374</td>\n",
              "      <td>-26.850893</td>\n",
              "      <td>Noise_Signal_Normal</td>\n",
              "    </tr>\n",
              "    <tr>\n",
              "      <th>1</th>\n",
              "      <td>-41.904072</td>\n",
              "      <td>-22.130270</td>\n",
              "      <td>Noise_Signal_Normal</td>\n",
              "    </tr>\n",
              "    <tr>\n",
              "      <th>2</th>\n",
              "      <td>-37.286644</td>\n",
              "      <td>-24.354376</td>\n",
              "      <td>Noise_Signal_Normal</td>\n",
              "    </tr>\n",
              "    <tr>\n",
              "      <th>3</th>\n",
              "      <td>-23.707857</td>\n",
              "      <td>-28.914089</td>\n",
              "      <td>Noise_Signal_Normal</td>\n",
              "    </tr>\n",
              "    <tr>\n",
              "      <th>4</th>\n",
              "      <td>-23.684092</td>\n",
              "      <td>-27.900356</td>\n",
              "      <td>Noise_Signal_Normal</td>\n",
              "    </tr>\n",
              "    <tr>\n",
              "      <th>...</th>\n",
              "      <td>...</td>\n",
              "      <td>...</td>\n",
              "      <td>...</td>\n",
              "    </tr>\n",
              "    <tr>\n",
              "      <th>1565</th>\n",
              "      <td>18.056519</td>\n",
              "      <td>-11.074957</td>\n",
              "      <td>noise_signal_outer_17</td>\n",
              "    </tr>\n",
              "    <tr>\n",
              "      <th>1566</th>\n",
              "      <td>26.508474</td>\n",
              "      <td>-8.317286</td>\n",
              "      <td>noise_signal_outer_17</td>\n",
              "    </tr>\n",
              "    <tr>\n",
              "      <th>1567</th>\n",
              "      <td>15.916927</td>\n",
              "      <td>-10.970430</td>\n",
              "      <td>noise_signal_outer_17</td>\n",
              "    </tr>\n",
              "    <tr>\n",
              "      <th>1568</th>\n",
              "      <td>10.082721</td>\n",
              "      <td>1.046559</td>\n",
              "      <td>noise_signal_outer_17</td>\n",
              "    </tr>\n",
              "    <tr>\n",
              "      <th>1569</th>\n",
              "      <td>10.298368</td>\n",
              "      <td>7.267054</td>\n",
              "      <td>noise_signal_outer_17</td>\n",
              "    </tr>\n",
              "  </tbody>\n",
              "</table>\n",
              "<p>1570 rows × 3 columns</p>\n",
              "</div>\n",
              "    <div class=\"colab-df-buttons\">\n",
              "\n",
              "  <div class=\"colab-df-container\">\n",
              "    <button class=\"colab-df-convert\" onclick=\"convertToInteractive('df-796bbf19-0fb8-4a12-8f33-86a4b4ff4a2d')\"\n",
              "            title=\"Convert this dataframe to an interactive table.\"\n",
              "            style=\"display:none;\">\n",
              "\n",
              "  <svg xmlns=\"http://www.w3.org/2000/svg\" height=\"24px\" viewBox=\"0 -960 960 960\">\n",
              "    <path d=\"M120-120v-720h720v720H120Zm60-500h600v-160H180v160Zm220 220h160v-160H400v160Zm0 220h160v-160H400v160ZM180-400h160v-160H180v160Zm440 0h160v-160H620v160ZM180-180h160v-160H180v160Zm440 0h160v-160H620v160Z\"/>\n",
              "  </svg>\n",
              "    </button>\n",
              "\n",
              "  <style>\n",
              "    .colab-df-container {\n",
              "      display:flex;\n",
              "      gap: 12px;\n",
              "    }\n",
              "\n",
              "    .colab-df-convert {\n",
              "      background-color: #E8F0FE;\n",
              "      border: none;\n",
              "      border-radius: 50%;\n",
              "      cursor: pointer;\n",
              "      display: none;\n",
              "      fill: #1967D2;\n",
              "      height: 32px;\n",
              "      padding: 0 0 0 0;\n",
              "      width: 32px;\n",
              "    }\n",
              "\n",
              "    .colab-df-convert:hover {\n",
              "      background-color: #E2EBFA;\n",
              "      box-shadow: 0px 1px 2px rgba(60, 64, 67, 0.3), 0px 1px 3px 1px rgba(60, 64, 67, 0.15);\n",
              "      fill: #174EA6;\n",
              "    }\n",
              "\n",
              "    .colab-df-buttons div {\n",
              "      margin-bottom: 4px;\n",
              "    }\n",
              "\n",
              "    [theme=dark] .colab-df-convert {\n",
              "      background-color: #3B4455;\n",
              "      fill: #D2E3FC;\n",
              "    }\n",
              "\n",
              "    [theme=dark] .colab-df-convert:hover {\n",
              "      background-color: #434B5C;\n",
              "      box-shadow: 0px 1px 3px 1px rgba(0, 0, 0, 0.15);\n",
              "      filter: drop-shadow(0px 1px 2px rgba(0, 0, 0, 0.3));\n",
              "      fill: #FFFFFF;\n",
              "    }\n",
              "  </style>\n",
              "\n",
              "    <script>\n",
              "      const buttonEl =\n",
              "        document.querySelector('#df-796bbf19-0fb8-4a12-8f33-86a4b4ff4a2d button.colab-df-convert');\n",
              "      buttonEl.style.display =\n",
              "        google.colab.kernel.accessAllowed ? 'block' : 'none';\n",
              "\n",
              "      async function convertToInteractive(key) {\n",
              "        const element = document.querySelector('#df-796bbf19-0fb8-4a12-8f33-86a4b4ff4a2d');\n",
              "        const dataTable =\n",
              "          await google.colab.kernel.invokeFunction('convertToInteractive',\n",
              "                                                    [key], {});\n",
              "        if (!dataTable) return;\n",
              "\n",
              "        const docLinkHtml = 'Like what you see? Visit the ' +\n",
              "          '<a target=\"_blank\" href=https://colab.research.google.com/notebooks/data_table.ipynb>data table notebook</a>'\n",
              "          + ' to learn more about interactive tables.';\n",
              "        element.innerHTML = '';\n",
              "        dataTable['output_type'] = 'display_data';\n",
              "        await google.colab.output.renderOutput(dataTable, element);\n",
              "        const docLink = document.createElement('div');\n",
              "        docLink.innerHTML = docLinkHtml;\n",
              "        element.appendChild(docLink);\n",
              "      }\n",
              "    </script>\n",
              "  </div>\n",
              "\n",
              "\n",
              "    <div id=\"df-2d693d3e-631d-470e-9843-9e3ba0d3bb1b\">\n",
              "      <button class=\"colab-df-quickchart\" onclick=\"quickchart('df-2d693d3e-631d-470e-9843-9e3ba0d3bb1b')\"\n",
              "                title=\"Suggest charts\"\n",
              "                style=\"display:none;\">\n",
              "\n",
              "<svg xmlns=\"http://www.w3.org/2000/svg\" height=\"24px\"viewBox=\"0 0 24 24\"\n",
              "     width=\"24px\">\n",
              "    <g>\n",
              "        <path d=\"M19 3H5c-1.1 0-2 .9-2 2v14c0 1.1.9 2 2 2h14c1.1 0 2-.9 2-2V5c0-1.1-.9-2-2-2zM9 17H7v-7h2v7zm4 0h-2V7h2v10zm4 0h-2v-4h2v4z\"/>\n",
              "    </g>\n",
              "</svg>\n",
              "      </button>\n",
              "\n",
              "<style>\n",
              "  .colab-df-quickchart {\n",
              "      --bg-color: #E8F0FE;\n",
              "      --fill-color: #1967D2;\n",
              "      --hover-bg-color: #E2EBFA;\n",
              "      --hover-fill-color: #174EA6;\n",
              "      --disabled-fill-color: #AAA;\n",
              "      --disabled-bg-color: #DDD;\n",
              "  }\n",
              "\n",
              "  [theme=dark] .colab-df-quickchart {\n",
              "      --bg-color: #3B4455;\n",
              "      --fill-color: #D2E3FC;\n",
              "      --hover-bg-color: #434B5C;\n",
              "      --hover-fill-color: #FFFFFF;\n",
              "      --disabled-bg-color: #3B4455;\n",
              "      --disabled-fill-color: #666;\n",
              "  }\n",
              "\n",
              "  .colab-df-quickchart {\n",
              "    background-color: var(--bg-color);\n",
              "    border: none;\n",
              "    border-radius: 50%;\n",
              "    cursor: pointer;\n",
              "    display: none;\n",
              "    fill: var(--fill-color);\n",
              "    height: 32px;\n",
              "    padding: 0;\n",
              "    width: 32px;\n",
              "  }\n",
              "\n",
              "  .colab-df-quickchart:hover {\n",
              "    background-color: var(--hover-bg-color);\n",
              "    box-shadow: 0 1px 2px rgba(60, 64, 67, 0.3), 0 1px 3px 1px rgba(60, 64, 67, 0.15);\n",
              "    fill: var(--button-hover-fill-color);\n",
              "  }\n",
              "\n",
              "  .colab-df-quickchart-complete:disabled,\n",
              "  .colab-df-quickchart-complete:disabled:hover {\n",
              "    background-color: var(--disabled-bg-color);\n",
              "    fill: var(--disabled-fill-color);\n",
              "    box-shadow: none;\n",
              "  }\n",
              "\n",
              "  .colab-df-spinner {\n",
              "    border: 2px solid var(--fill-color);\n",
              "    border-color: transparent;\n",
              "    border-bottom-color: var(--fill-color);\n",
              "    animation:\n",
              "      spin 1s steps(1) infinite;\n",
              "  }\n",
              "\n",
              "  @keyframes spin {\n",
              "    0% {\n",
              "      border-color: transparent;\n",
              "      border-bottom-color: var(--fill-color);\n",
              "      border-left-color: var(--fill-color);\n",
              "    }\n",
              "    20% {\n",
              "      border-color: transparent;\n",
              "      border-left-color: var(--fill-color);\n",
              "      border-top-color: var(--fill-color);\n",
              "    }\n",
              "    30% {\n",
              "      border-color: transparent;\n",
              "      border-left-color: var(--fill-color);\n",
              "      border-top-color: var(--fill-color);\n",
              "      border-right-color: var(--fill-color);\n",
              "    }\n",
              "    40% {\n",
              "      border-color: transparent;\n",
              "      border-right-color: var(--fill-color);\n",
              "      border-top-color: var(--fill-color);\n",
              "    }\n",
              "    60% {\n",
              "      border-color: transparent;\n",
              "      border-right-color: var(--fill-color);\n",
              "    }\n",
              "    80% {\n",
              "      border-color: transparent;\n",
              "      border-right-color: var(--fill-color);\n",
              "      border-bottom-color: var(--fill-color);\n",
              "    }\n",
              "    90% {\n",
              "      border-color: transparent;\n",
              "      border-bottom-color: var(--fill-color);\n",
              "    }\n",
              "  }\n",
              "</style>\n",
              "\n",
              "      <script>\n",
              "        async function quickchart(key) {\n",
              "          const quickchartButtonEl =\n",
              "            document.querySelector('#' + key + ' button');\n",
              "          quickchartButtonEl.disabled = true;  // To prevent multiple clicks.\n",
              "          quickchartButtonEl.classList.add('colab-df-spinner');\n",
              "          try {\n",
              "            const charts = await google.colab.kernel.invokeFunction(\n",
              "                'suggestCharts', [key], {});\n",
              "          } catch (error) {\n",
              "            console.error('Error during call to suggestCharts:', error);\n",
              "          }\n",
              "          quickchartButtonEl.classList.remove('colab-df-spinner');\n",
              "          quickchartButtonEl.classList.add('colab-df-quickchart-complete');\n",
              "        }\n",
              "        (() => {\n",
              "          let quickchartButtonEl =\n",
              "            document.querySelector('#df-2d693d3e-631d-470e-9843-9e3ba0d3bb1b button');\n",
              "          quickchartButtonEl.style.display =\n",
              "            google.colab.kernel.accessAllowed ? 'block' : 'none';\n",
              "        })();\n",
              "      </script>\n",
              "    </div>\n",
              "\n",
              "  <div id=\"id_703d2f02-ff83-40a9-9741-701df6870a2c\">\n",
              "    <style>\n",
              "      .colab-df-generate {\n",
              "        background-color: #E8F0FE;\n",
              "        border: none;\n",
              "        border-radius: 50%;\n",
              "        cursor: pointer;\n",
              "        display: none;\n",
              "        fill: #1967D2;\n",
              "        height: 32px;\n",
              "        padding: 0 0 0 0;\n",
              "        width: 32px;\n",
              "      }\n",
              "\n",
              "      .colab-df-generate:hover {\n",
              "        background-color: #E2EBFA;\n",
              "        box-shadow: 0px 1px 2px rgba(60, 64, 67, 0.3), 0px 1px 3px 1px rgba(60, 64, 67, 0.15);\n",
              "        fill: #174EA6;\n",
              "      }\n",
              "\n",
              "      [theme=dark] .colab-df-generate {\n",
              "        background-color: #3B4455;\n",
              "        fill: #D2E3FC;\n",
              "      }\n",
              "\n",
              "      [theme=dark] .colab-df-generate:hover {\n",
              "        background-color: #434B5C;\n",
              "        box-shadow: 0px 1px 3px 1px rgba(0, 0, 0, 0.15);\n",
              "        filter: drop-shadow(0px 1px 2px rgba(0, 0, 0, 0.3));\n",
              "        fill: #FFFFFF;\n",
              "      }\n",
              "    </style>\n",
              "    <button class=\"colab-df-generate\" onclick=\"generateWithVariable('tSNE_representation')\"\n",
              "            title=\"Generate code using this dataframe.\"\n",
              "            style=\"display:none;\">\n",
              "\n",
              "  <svg xmlns=\"http://www.w3.org/2000/svg\" height=\"24px\"viewBox=\"0 0 24 24\"\n",
              "       width=\"24px\">\n",
              "    <path d=\"M7,19H8.4L18.45,9,17,7.55,7,17.6ZM5,21V16.75L18.45,3.32a2,2,0,0,1,2.83,0l1.4,1.43a1.91,1.91,0,0,1,.58,1.4,1.91,1.91,0,0,1-.58,1.4L9.25,21ZM18.45,9,17,7.55Zm-12,3A5.31,5.31,0,0,0,4.9,8.1,5.31,5.31,0,0,0,1,6.5,5.31,5.31,0,0,0,4.9,4.9,5.31,5.31,0,0,0,6.5,1,5.31,5.31,0,0,0,8.1,4.9,5.31,5.31,0,0,0,12,6.5,5.46,5.46,0,0,0,6.5,12Z\"/>\n",
              "  </svg>\n",
              "    </button>\n",
              "    <script>\n",
              "      (() => {\n",
              "      const buttonEl =\n",
              "        document.querySelector('#id_703d2f02-ff83-40a9-9741-701df6870a2c button.colab-df-generate');\n",
              "      buttonEl.style.display =\n",
              "        google.colab.kernel.accessAllowed ? 'block' : 'none';\n",
              "\n",
              "      buttonEl.onclick = () => {\n",
              "        google.colab.notebook.generateWithVariable('tSNE_representation');\n",
              "      }\n",
              "      })();\n",
              "    </script>\n",
              "  </div>\n",
              "\n",
              "    </div>\n",
              "  </div>\n"
            ],
            "application/vnd.google.colaboratory.intrinsic+json": {
              "type": "dataframe",
              "variable_name": "tSNE_representation",
              "summary": "{\n  \"name\": \"tSNE_representation\",\n  \"rows\": 1570,\n  \"fields\": [\n    {\n      \"column\": \"t-SNE 1\",\n      \"properties\": {\n        \"dtype\": \"float32\",\n        \"num_unique_values\": 1569,\n        \"samples\": [\n          10.043464660644531,\n          23.560909271240234,\n          7.303780555725098\n        ],\n        \"semantic_type\": \"\",\n        \"description\": \"\"\n      }\n    },\n    {\n      \"column\": \"t-SNE 2\",\n      \"properties\": {\n        \"dtype\": \"float32\",\n        \"num_unique_values\": 1569,\n        \"samples\": [\n          4.0786356925964355,\n          34.222957611083984,\n          -34.791015625\n        ],\n        \"semantic_type\": \"\",\n        \"description\": \"\"\n      }\n    },\n    {\n      \"column\": \"fault\",\n      \"properties\": {\n        \"dtype\": \"category\",\n        \"num_unique_values\": 8,\n        \"samples\": [\n          \"Noise_Signal_inner_07\",\n          \"noise_signal_outer_09\",\n          \"Noise_Signal_Normal\"\n        ],\n        \"semantic_type\": \"\",\n        \"description\": \"\"\n      }\n    }\n  ]\n}"
            }
          },
          "metadata": {},
          "execution_count": 55
        }
      ]
    },
    {
      "cell_type": "code",
      "source": [
        "tSNE_representation=tSNE_representation.drop(columns=['fault'])\n",
        "tSNE_representation"
      ],
      "metadata": {
        "id": "Pybzwduy8nhv",
        "colab": {
          "base_uri": "https://localhost:8080/",
          "height": 424
        },
        "outputId": "76c4e0bc-afbb-4408-814b-1799fec24e8e"
      },
      "id": "Pybzwduy8nhv",
      "execution_count": 56,
      "outputs": [
        {
          "output_type": "execute_result",
          "data": {
            "text/plain": [
              "        t-SNE 1    t-SNE 2\n",
              "0    -28.844374 -26.850893\n",
              "1    -41.904072 -22.130270\n",
              "2    -37.286644 -24.354376\n",
              "3    -23.707857 -28.914089\n",
              "4    -23.684092 -27.900356\n",
              "...         ...        ...\n",
              "1565  18.056519 -11.074957\n",
              "1566  26.508474  -8.317286\n",
              "1567  15.916927 -10.970430\n",
              "1568  10.082721   1.046559\n",
              "1569  10.298368   7.267054\n",
              "\n",
              "[1570 rows x 2 columns]"
            ],
            "text/html": [
              "\n",
              "  <div id=\"df-ad20afdf-7ed5-4168-ab61-b92b94c7f774\" class=\"colab-df-container\">\n",
              "    <div>\n",
              "<style scoped>\n",
              "    .dataframe tbody tr th:only-of-type {\n",
              "        vertical-align: middle;\n",
              "    }\n",
              "\n",
              "    .dataframe tbody tr th {\n",
              "        vertical-align: top;\n",
              "    }\n",
              "\n",
              "    .dataframe thead th {\n",
              "        text-align: right;\n",
              "    }\n",
              "</style>\n",
              "<table border=\"1\" class=\"dataframe\">\n",
              "  <thead>\n",
              "    <tr style=\"text-align: right;\">\n",
              "      <th></th>\n",
              "      <th>t-SNE 1</th>\n",
              "      <th>t-SNE 2</th>\n",
              "    </tr>\n",
              "  </thead>\n",
              "  <tbody>\n",
              "    <tr>\n",
              "      <th>0</th>\n",
              "      <td>-28.844374</td>\n",
              "      <td>-26.850893</td>\n",
              "    </tr>\n",
              "    <tr>\n",
              "      <th>1</th>\n",
              "      <td>-41.904072</td>\n",
              "      <td>-22.130270</td>\n",
              "    </tr>\n",
              "    <tr>\n",
              "      <th>2</th>\n",
              "      <td>-37.286644</td>\n",
              "      <td>-24.354376</td>\n",
              "    </tr>\n",
              "    <tr>\n",
              "      <th>3</th>\n",
              "      <td>-23.707857</td>\n",
              "      <td>-28.914089</td>\n",
              "    </tr>\n",
              "    <tr>\n",
              "      <th>4</th>\n",
              "      <td>-23.684092</td>\n",
              "      <td>-27.900356</td>\n",
              "    </tr>\n",
              "    <tr>\n",
              "      <th>...</th>\n",
              "      <td>...</td>\n",
              "      <td>...</td>\n",
              "    </tr>\n",
              "    <tr>\n",
              "      <th>1565</th>\n",
              "      <td>18.056519</td>\n",
              "      <td>-11.074957</td>\n",
              "    </tr>\n",
              "    <tr>\n",
              "      <th>1566</th>\n",
              "      <td>26.508474</td>\n",
              "      <td>-8.317286</td>\n",
              "    </tr>\n",
              "    <tr>\n",
              "      <th>1567</th>\n",
              "      <td>15.916927</td>\n",
              "      <td>-10.970430</td>\n",
              "    </tr>\n",
              "    <tr>\n",
              "      <th>1568</th>\n",
              "      <td>10.082721</td>\n",
              "      <td>1.046559</td>\n",
              "    </tr>\n",
              "    <tr>\n",
              "      <th>1569</th>\n",
              "      <td>10.298368</td>\n",
              "      <td>7.267054</td>\n",
              "    </tr>\n",
              "  </tbody>\n",
              "</table>\n",
              "<p>1570 rows × 2 columns</p>\n",
              "</div>\n",
              "    <div class=\"colab-df-buttons\">\n",
              "\n",
              "  <div class=\"colab-df-container\">\n",
              "    <button class=\"colab-df-convert\" onclick=\"convertToInteractive('df-ad20afdf-7ed5-4168-ab61-b92b94c7f774')\"\n",
              "            title=\"Convert this dataframe to an interactive table.\"\n",
              "            style=\"display:none;\">\n",
              "\n",
              "  <svg xmlns=\"http://www.w3.org/2000/svg\" height=\"24px\" viewBox=\"0 -960 960 960\">\n",
              "    <path d=\"M120-120v-720h720v720H120Zm60-500h600v-160H180v160Zm220 220h160v-160H400v160Zm0 220h160v-160H400v160ZM180-400h160v-160H180v160Zm440 0h160v-160H620v160ZM180-180h160v-160H180v160Zm440 0h160v-160H620v160Z\"/>\n",
              "  </svg>\n",
              "    </button>\n",
              "\n",
              "  <style>\n",
              "    .colab-df-container {\n",
              "      display:flex;\n",
              "      gap: 12px;\n",
              "    }\n",
              "\n",
              "    .colab-df-convert {\n",
              "      background-color: #E8F0FE;\n",
              "      border: none;\n",
              "      border-radius: 50%;\n",
              "      cursor: pointer;\n",
              "      display: none;\n",
              "      fill: #1967D2;\n",
              "      height: 32px;\n",
              "      padding: 0 0 0 0;\n",
              "      width: 32px;\n",
              "    }\n",
              "\n",
              "    .colab-df-convert:hover {\n",
              "      background-color: #E2EBFA;\n",
              "      box-shadow: 0px 1px 2px rgba(60, 64, 67, 0.3), 0px 1px 3px 1px rgba(60, 64, 67, 0.15);\n",
              "      fill: #174EA6;\n",
              "    }\n",
              "\n",
              "    .colab-df-buttons div {\n",
              "      margin-bottom: 4px;\n",
              "    }\n",
              "\n",
              "    [theme=dark] .colab-df-convert {\n",
              "      background-color: #3B4455;\n",
              "      fill: #D2E3FC;\n",
              "    }\n",
              "\n",
              "    [theme=dark] .colab-df-convert:hover {\n",
              "      background-color: #434B5C;\n",
              "      box-shadow: 0px 1px 3px 1px rgba(0, 0, 0, 0.15);\n",
              "      filter: drop-shadow(0px 1px 2px rgba(0, 0, 0, 0.3));\n",
              "      fill: #FFFFFF;\n",
              "    }\n",
              "  </style>\n",
              "\n",
              "    <script>\n",
              "      const buttonEl =\n",
              "        document.querySelector('#df-ad20afdf-7ed5-4168-ab61-b92b94c7f774 button.colab-df-convert');\n",
              "      buttonEl.style.display =\n",
              "        google.colab.kernel.accessAllowed ? 'block' : 'none';\n",
              "\n",
              "      async function convertToInteractive(key) {\n",
              "        const element = document.querySelector('#df-ad20afdf-7ed5-4168-ab61-b92b94c7f774');\n",
              "        const dataTable =\n",
              "          await google.colab.kernel.invokeFunction('convertToInteractive',\n",
              "                                                    [key], {});\n",
              "        if (!dataTable) return;\n",
              "\n",
              "        const docLinkHtml = 'Like what you see? Visit the ' +\n",
              "          '<a target=\"_blank\" href=https://colab.research.google.com/notebooks/data_table.ipynb>data table notebook</a>'\n",
              "          + ' to learn more about interactive tables.';\n",
              "        element.innerHTML = '';\n",
              "        dataTable['output_type'] = 'display_data';\n",
              "        await google.colab.output.renderOutput(dataTable, element);\n",
              "        const docLink = document.createElement('div');\n",
              "        docLink.innerHTML = docLinkHtml;\n",
              "        element.appendChild(docLink);\n",
              "      }\n",
              "    </script>\n",
              "  </div>\n",
              "\n",
              "\n",
              "    <div id=\"df-7c0c5870-1c85-4967-873d-96ee83719025\">\n",
              "      <button class=\"colab-df-quickchart\" onclick=\"quickchart('df-7c0c5870-1c85-4967-873d-96ee83719025')\"\n",
              "                title=\"Suggest charts\"\n",
              "                style=\"display:none;\">\n",
              "\n",
              "<svg xmlns=\"http://www.w3.org/2000/svg\" height=\"24px\"viewBox=\"0 0 24 24\"\n",
              "     width=\"24px\">\n",
              "    <g>\n",
              "        <path d=\"M19 3H5c-1.1 0-2 .9-2 2v14c0 1.1.9 2 2 2h14c1.1 0 2-.9 2-2V5c0-1.1-.9-2-2-2zM9 17H7v-7h2v7zm4 0h-2V7h2v10zm4 0h-2v-4h2v4z\"/>\n",
              "    </g>\n",
              "</svg>\n",
              "      </button>\n",
              "\n",
              "<style>\n",
              "  .colab-df-quickchart {\n",
              "      --bg-color: #E8F0FE;\n",
              "      --fill-color: #1967D2;\n",
              "      --hover-bg-color: #E2EBFA;\n",
              "      --hover-fill-color: #174EA6;\n",
              "      --disabled-fill-color: #AAA;\n",
              "      --disabled-bg-color: #DDD;\n",
              "  }\n",
              "\n",
              "  [theme=dark] .colab-df-quickchart {\n",
              "      --bg-color: #3B4455;\n",
              "      --fill-color: #D2E3FC;\n",
              "      --hover-bg-color: #434B5C;\n",
              "      --hover-fill-color: #FFFFFF;\n",
              "      --disabled-bg-color: #3B4455;\n",
              "      --disabled-fill-color: #666;\n",
              "  }\n",
              "\n",
              "  .colab-df-quickchart {\n",
              "    background-color: var(--bg-color);\n",
              "    border: none;\n",
              "    border-radius: 50%;\n",
              "    cursor: pointer;\n",
              "    display: none;\n",
              "    fill: var(--fill-color);\n",
              "    height: 32px;\n",
              "    padding: 0;\n",
              "    width: 32px;\n",
              "  }\n",
              "\n",
              "  .colab-df-quickchart:hover {\n",
              "    background-color: var(--hover-bg-color);\n",
              "    box-shadow: 0 1px 2px rgba(60, 64, 67, 0.3), 0 1px 3px 1px rgba(60, 64, 67, 0.15);\n",
              "    fill: var(--button-hover-fill-color);\n",
              "  }\n",
              "\n",
              "  .colab-df-quickchart-complete:disabled,\n",
              "  .colab-df-quickchart-complete:disabled:hover {\n",
              "    background-color: var(--disabled-bg-color);\n",
              "    fill: var(--disabled-fill-color);\n",
              "    box-shadow: none;\n",
              "  }\n",
              "\n",
              "  .colab-df-spinner {\n",
              "    border: 2px solid var(--fill-color);\n",
              "    border-color: transparent;\n",
              "    border-bottom-color: var(--fill-color);\n",
              "    animation:\n",
              "      spin 1s steps(1) infinite;\n",
              "  }\n",
              "\n",
              "  @keyframes spin {\n",
              "    0% {\n",
              "      border-color: transparent;\n",
              "      border-bottom-color: var(--fill-color);\n",
              "      border-left-color: var(--fill-color);\n",
              "    }\n",
              "    20% {\n",
              "      border-color: transparent;\n",
              "      border-left-color: var(--fill-color);\n",
              "      border-top-color: var(--fill-color);\n",
              "    }\n",
              "    30% {\n",
              "      border-color: transparent;\n",
              "      border-left-color: var(--fill-color);\n",
              "      border-top-color: var(--fill-color);\n",
              "      border-right-color: var(--fill-color);\n",
              "    }\n",
              "    40% {\n",
              "      border-color: transparent;\n",
              "      border-right-color: var(--fill-color);\n",
              "      border-top-color: var(--fill-color);\n",
              "    }\n",
              "    60% {\n",
              "      border-color: transparent;\n",
              "      border-right-color: var(--fill-color);\n",
              "    }\n",
              "    80% {\n",
              "      border-color: transparent;\n",
              "      border-right-color: var(--fill-color);\n",
              "      border-bottom-color: var(--fill-color);\n",
              "    }\n",
              "    90% {\n",
              "      border-color: transparent;\n",
              "      border-bottom-color: var(--fill-color);\n",
              "    }\n",
              "  }\n",
              "</style>\n",
              "\n",
              "      <script>\n",
              "        async function quickchart(key) {\n",
              "          const quickchartButtonEl =\n",
              "            document.querySelector('#' + key + ' button');\n",
              "          quickchartButtonEl.disabled = true;  // To prevent multiple clicks.\n",
              "          quickchartButtonEl.classList.add('colab-df-spinner');\n",
              "          try {\n",
              "            const charts = await google.colab.kernel.invokeFunction(\n",
              "                'suggestCharts', [key], {});\n",
              "          } catch (error) {\n",
              "            console.error('Error during call to suggestCharts:', error);\n",
              "          }\n",
              "          quickchartButtonEl.classList.remove('colab-df-spinner');\n",
              "          quickchartButtonEl.classList.add('colab-df-quickchart-complete');\n",
              "        }\n",
              "        (() => {\n",
              "          let quickchartButtonEl =\n",
              "            document.querySelector('#df-7c0c5870-1c85-4967-873d-96ee83719025 button');\n",
              "          quickchartButtonEl.style.display =\n",
              "            google.colab.kernel.accessAllowed ? 'block' : 'none';\n",
              "        })();\n",
              "      </script>\n",
              "    </div>\n",
              "\n",
              "  <div id=\"id_f4a82c3a-a6eb-4106-8d9e-dbfb56a6ab7c\">\n",
              "    <style>\n",
              "      .colab-df-generate {\n",
              "        background-color: #E8F0FE;\n",
              "        border: none;\n",
              "        border-radius: 50%;\n",
              "        cursor: pointer;\n",
              "        display: none;\n",
              "        fill: #1967D2;\n",
              "        height: 32px;\n",
              "        padding: 0 0 0 0;\n",
              "        width: 32px;\n",
              "      }\n",
              "\n",
              "      .colab-df-generate:hover {\n",
              "        background-color: #E2EBFA;\n",
              "        box-shadow: 0px 1px 2px rgba(60, 64, 67, 0.3), 0px 1px 3px 1px rgba(60, 64, 67, 0.15);\n",
              "        fill: #174EA6;\n",
              "      }\n",
              "\n",
              "      [theme=dark] .colab-df-generate {\n",
              "        background-color: #3B4455;\n",
              "        fill: #D2E3FC;\n",
              "      }\n",
              "\n",
              "      [theme=dark] .colab-df-generate:hover {\n",
              "        background-color: #434B5C;\n",
              "        box-shadow: 0px 1px 3px 1px rgba(0, 0, 0, 0.15);\n",
              "        filter: drop-shadow(0px 1px 2px rgba(0, 0, 0, 0.3));\n",
              "        fill: #FFFFFF;\n",
              "      }\n",
              "    </style>\n",
              "    <button class=\"colab-df-generate\" onclick=\"generateWithVariable('tSNE_representation')\"\n",
              "            title=\"Generate code using this dataframe.\"\n",
              "            style=\"display:none;\">\n",
              "\n",
              "  <svg xmlns=\"http://www.w3.org/2000/svg\" height=\"24px\"viewBox=\"0 0 24 24\"\n",
              "       width=\"24px\">\n",
              "    <path d=\"M7,19H8.4L18.45,9,17,7.55,7,17.6ZM5,21V16.75L18.45,3.32a2,2,0,0,1,2.83,0l1.4,1.43a1.91,1.91,0,0,1,.58,1.4,1.91,1.91,0,0,1-.58,1.4L9.25,21ZM18.45,9,17,7.55Zm-12,3A5.31,5.31,0,0,0,4.9,8.1,5.31,5.31,0,0,0,1,6.5,5.31,5.31,0,0,0,4.9,4.9,5.31,5.31,0,0,0,6.5,1,5.31,5.31,0,0,0,8.1,4.9,5.31,5.31,0,0,0,12,6.5,5.46,5.46,0,0,0,6.5,12Z\"/>\n",
              "  </svg>\n",
              "    </button>\n",
              "    <script>\n",
              "      (() => {\n",
              "      const buttonEl =\n",
              "        document.querySelector('#id_f4a82c3a-a6eb-4106-8d9e-dbfb56a6ab7c button.colab-df-generate');\n",
              "      buttonEl.style.display =\n",
              "        google.colab.kernel.accessAllowed ? 'block' : 'none';\n",
              "\n",
              "      buttonEl.onclick = () => {\n",
              "        google.colab.notebook.generateWithVariable('tSNE_representation');\n",
              "      }\n",
              "      })();\n",
              "    </script>\n",
              "  </div>\n",
              "\n",
              "    </div>\n",
              "  </div>\n"
            ],
            "application/vnd.google.colaboratory.intrinsic+json": {
              "type": "dataframe",
              "variable_name": "tSNE_representation",
              "summary": "{\n  \"name\": \"tSNE_representation\",\n  \"rows\": 1570,\n  \"fields\": [\n    {\n      \"column\": \"t-SNE 1\",\n      \"properties\": {\n        \"dtype\": \"float32\",\n        \"num_unique_values\": 1569,\n        \"samples\": [\n          10.043464660644531,\n          23.560909271240234,\n          7.303780555725098\n        ],\n        \"semantic_type\": \"\",\n        \"description\": \"\"\n      }\n    },\n    {\n      \"column\": \"t-SNE 2\",\n      \"properties\": {\n        \"dtype\": \"float32\",\n        \"num_unique_values\": 1569,\n        \"samples\": [\n          4.0786356925964355,\n          34.222957611083984,\n          -34.791015625\n        ],\n        \"semantic_type\": \"\",\n        \"description\": \"\"\n      }\n    }\n  ]\n}"
            }
          },
          "metadata": {},
          "execution_count": 56
        }
      ]
    },
    {
      "cell_type": "code",
      "source": [
        "tSNEdf = tSNEdf.sort_values(by='Fault')"
      ],
      "metadata": {
        "id": "_TpCIloN904b"
      },
      "id": "_TpCIloN904b",
      "execution_count": 57,
      "outputs": []
    },
    {
      "cell_type": "code",
      "source": [
        "tSNEdf"
      ],
      "metadata": {
        "id": "xq2JlAOp_N5V",
        "colab": {
          "base_uri": "https://localhost:8080/",
          "height": 424
        },
        "outputId": "4ccf9a1e-af06-4930-c6cc-a48955eda0a3"
      },
      "id": "xq2JlAOp_N5V",
      "execution_count": 58,
      "outputs": [
        {
          "output_type": "execute_result",
          "data": {
            "text/plain": [
              "      T-SNE component 1  T-SNE component 2                  Fault\n",
              "295           19.513056         -10.626180    Noise_Signal_Normal\n",
              "530           23.499701         -12.786230    Noise_Signal_Normal\n",
              "125           20.246090         -14.836077    Noise_Signal_Normal\n",
              "1405          22.280985         -15.809456    Noise_Signal_Normal\n",
              "236           22.148499         -19.061258    Noise_Signal_Normal\n",
              "...                 ...                ...                    ...\n",
              "250          -25.439518          -0.474017  noise_signal_outer_17\n",
              "760          -20.898457          -2.430327  noise_signal_outer_17\n",
              "1260         -23.214191          -3.494295  noise_signal_outer_17\n",
              "815          -20.897409          -2.460355  noise_signal_outer_17\n",
              "145          -16.322132          -9.402875  noise_signal_outer_17\n",
              "\n",
              "[1572 rows x 3 columns]"
            ],
            "text/html": [
              "\n",
              "  <div id=\"df-50e57955-4460-4d21-8990-0f9e0d8fcb01\" class=\"colab-df-container\">\n",
              "    <div>\n",
              "<style scoped>\n",
              "    .dataframe tbody tr th:only-of-type {\n",
              "        vertical-align: middle;\n",
              "    }\n",
              "\n",
              "    .dataframe tbody tr th {\n",
              "        vertical-align: top;\n",
              "    }\n",
              "\n",
              "    .dataframe thead th {\n",
              "        text-align: right;\n",
              "    }\n",
              "</style>\n",
              "<table border=\"1\" class=\"dataframe\">\n",
              "  <thead>\n",
              "    <tr style=\"text-align: right;\">\n",
              "      <th></th>\n",
              "      <th>T-SNE component 1</th>\n",
              "      <th>T-SNE component 2</th>\n",
              "      <th>Fault</th>\n",
              "    </tr>\n",
              "  </thead>\n",
              "  <tbody>\n",
              "    <tr>\n",
              "      <th>295</th>\n",
              "      <td>19.513056</td>\n",
              "      <td>-10.626180</td>\n",
              "      <td>Noise_Signal_Normal</td>\n",
              "    </tr>\n",
              "    <tr>\n",
              "      <th>530</th>\n",
              "      <td>23.499701</td>\n",
              "      <td>-12.786230</td>\n",
              "      <td>Noise_Signal_Normal</td>\n",
              "    </tr>\n",
              "    <tr>\n",
              "      <th>125</th>\n",
              "      <td>20.246090</td>\n",
              "      <td>-14.836077</td>\n",
              "      <td>Noise_Signal_Normal</td>\n",
              "    </tr>\n",
              "    <tr>\n",
              "      <th>1405</th>\n",
              "      <td>22.280985</td>\n",
              "      <td>-15.809456</td>\n",
              "      <td>Noise_Signal_Normal</td>\n",
              "    </tr>\n",
              "    <tr>\n",
              "      <th>236</th>\n",
              "      <td>22.148499</td>\n",
              "      <td>-19.061258</td>\n",
              "      <td>Noise_Signal_Normal</td>\n",
              "    </tr>\n",
              "    <tr>\n",
              "      <th>...</th>\n",
              "      <td>...</td>\n",
              "      <td>...</td>\n",
              "      <td>...</td>\n",
              "    </tr>\n",
              "    <tr>\n",
              "      <th>250</th>\n",
              "      <td>-25.439518</td>\n",
              "      <td>-0.474017</td>\n",
              "      <td>noise_signal_outer_17</td>\n",
              "    </tr>\n",
              "    <tr>\n",
              "      <th>760</th>\n",
              "      <td>-20.898457</td>\n",
              "      <td>-2.430327</td>\n",
              "      <td>noise_signal_outer_17</td>\n",
              "    </tr>\n",
              "    <tr>\n",
              "      <th>1260</th>\n",
              "      <td>-23.214191</td>\n",
              "      <td>-3.494295</td>\n",
              "      <td>noise_signal_outer_17</td>\n",
              "    </tr>\n",
              "    <tr>\n",
              "      <th>815</th>\n",
              "      <td>-20.897409</td>\n",
              "      <td>-2.460355</td>\n",
              "      <td>noise_signal_outer_17</td>\n",
              "    </tr>\n",
              "    <tr>\n",
              "      <th>145</th>\n",
              "      <td>-16.322132</td>\n",
              "      <td>-9.402875</td>\n",
              "      <td>noise_signal_outer_17</td>\n",
              "    </tr>\n",
              "  </tbody>\n",
              "</table>\n",
              "<p>1572 rows × 3 columns</p>\n",
              "</div>\n",
              "    <div class=\"colab-df-buttons\">\n",
              "\n",
              "  <div class=\"colab-df-container\">\n",
              "    <button class=\"colab-df-convert\" onclick=\"convertToInteractive('df-50e57955-4460-4d21-8990-0f9e0d8fcb01')\"\n",
              "            title=\"Convert this dataframe to an interactive table.\"\n",
              "            style=\"display:none;\">\n",
              "\n",
              "  <svg xmlns=\"http://www.w3.org/2000/svg\" height=\"24px\" viewBox=\"0 -960 960 960\">\n",
              "    <path d=\"M120-120v-720h720v720H120Zm60-500h600v-160H180v160Zm220 220h160v-160H400v160Zm0 220h160v-160H400v160ZM180-400h160v-160H180v160Zm440 0h160v-160H620v160ZM180-180h160v-160H180v160Zm440 0h160v-160H620v160Z\"/>\n",
              "  </svg>\n",
              "    </button>\n",
              "\n",
              "  <style>\n",
              "    .colab-df-container {\n",
              "      display:flex;\n",
              "      gap: 12px;\n",
              "    }\n",
              "\n",
              "    .colab-df-convert {\n",
              "      background-color: #E8F0FE;\n",
              "      border: none;\n",
              "      border-radius: 50%;\n",
              "      cursor: pointer;\n",
              "      display: none;\n",
              "      fill: #1967D2;\n",
              "      height: 32px;\n",
              "      padding: 0 0 0 0;\n",
              "      width: 32px;\n",
              "    }\n",
              "\n",
              "    .colab-df-convert:hover {\n",
              "      background-color: #E2EBFA;\n",
              "      box-shadow: 0px 1px 2px rgba(60, 64, 67, 0.3), 0px 1px 3px 1px rgba(60, 64, 67, 0.15);\n",
              "      fill: #174EA6;\n",
              "    }\n",
              "\n",
              "    .colab-df-buttons div {\n",
              "      margin-bottom: 4px;\n",
              "    }\n",
              "\n",
              "    [theme=dark] .colab-df-convert {\n",
              "      background-color: #3B4455;\n",
              "      fill: #D2E3FC;\n",
              "    }\n",
              "\n",
              "    [theme=dark] .colab-df-convert:hover {\n",
              "      background-color: #434B5C;\n",
              "      box-shadow: 0px 1px 3px 1px rgba(0, 0, 0, 0.15);\n",
              "      filter: drop-shadow(0px 1px 2px rgba(0, 0, 0, 0.3));\n",
              "      fill: #FFFFFF;\n",
              "    }\n",
              "  </style>\n",
              "\n",
              "    <script>\n",
              "      const buttonEl =\n",
              "        document.querySelector('#df-50e57955-4460-4d21-8990-0f9e0d8fcb01 button.colab-df-convert');\n",
              "      buttonEl.style.display =\n",
              "        google.colab.kernel.accessAllowed ? 'block' : 'none';\n",
              "\n",
              "      async function convertToInteractive(key) {\n",
              "        const element = document.querySelector('#df-50e57955-4460-4d21-8990-0f9e0d8fcb01');\n",
              "        const dataTable =\n",
              "          await google.colab.kernel.invokeFunction('convertToInteractive',\n",
              "                                                    [key], {});\n",
              "        if (!dataTable) return;\n",
              "\n",
              "        const docLinkHtml = 'Like what you see? Visit the ' +\n",
              "          '<a target=\"_blank\" href=https://colab.research.google.com/notebooks/data_table.ipynb>data table notebook</a>'\n",
              "          + ' to learn more about interactive tables.';\n",
              "        element.innerHTML = '';\n",
              "        dataTable['output_type'] = 'display_data';\n",
              "        await google.colab.output.renderOutput(dataTable, element);\n",
              "        const docLink = document.createElement('div');\n",
              "        docLink.innerHTML = docLinkHtml;\n",
              "        element.appendChild(docLink);\n",
              "      }\n",
              "    </script>\n",
              "  </div>\n",
              "\n",
              "\n",
              "    <div id=\"df-c50c2ab6-0550-4f92-affb-ed44ce067ebd\">\n",
              "      <button class=\"colab-df-quickchart\" onclick=\"quickchart('df-c50c2ab6-0550-4f92-affb-ed44ce067ebd')\"\n",
              "                title=\"Suggest charts\"\n",
              "                style=\"display:none;\">\n",
              "\n",
              "<svg xmlns=\"http://www.w3.org/2000/svg\" height=\"24px\"viewBox=\"0 0 24 24\"\n",
              "     width=\"24px\">\n",
              "    <g>\n",
              "        <path d=\"M19 3H5c-1.1 0-2 .9-2 2v14c0 1.1.9 2 2 2h14c1.1 0 2-.9 2-2V5c0-1.1-.9-2-2-2zM9 17H7v-7h2v7zm4 0h-2V7h2v10zm4 0h-2v-4h2v4z\"/>\n",
              "    </g>\n",
              "</svg>\n",
              "      </button>\n",
              "\n",
              "<style>\n",
              "  .colab-df-quickchart {\n",
              "      --bg-color: #E8F0FE;\n",
              "      --fill-color: #1967D2;\n",
              "      --hover-bg-color: #E2EBFA;\n",
              "      --hover-fill-color: #174EA6;\n",
              "      --disabled-fill-color: #AAA;\n",
              "      --disabled-bg-color: #DDD;\n",
              "  }\n",
              "\n",
              "  [theme=dark] .colab-df-quickchart {\n",
              "      --bg-color: #3B4455;\n",
              "      --fill-color: #D2E3FC;\n",
              "      --hover-bg-color: #434B5C;\n",
              "      --hover-fill-color: #FFFFFF;\n",
              "      --disabled-bg-color: #3B4455;\n",
              "      --disabled-fill-color: #666;\n",
              "  }\n",
              "\n",
              "  .colab-df-quickchart {\n",
              "    background-color: var(--bg-color);\n",
              "    border: none;\n",
              "    border-radius: 50%;\n",
              "    cursor: pointer;\n",
              "    display: none;\n",
              "    fill: var(--fill-color);\n",
              "    height: 32px;\n",
              "    padding: 0;\n",
              "    width: 32px;\n",
              "  }\n",
              "\n",
              "  .colab-df-quickchart:hover {\n",
              "    background-color: var(--hover-bg-color);\n",
              "    box-shadow: 0 1px 2px rgba(60, 64, 67, 0.3), 0 1px 3px 1px rgba(60, 64, 67, 0.15);\n",
              "    fill: var(--button-hover-fill-color);\n",
              "  }\n",
              "\n",
              "  .colab-df-quickchart-complete:disabled,\n",
              "  .colab-df-quickchart-complete:disabled:hover {\n",
              "    background-color: var(--disabled-bg-color);\n",
              "    fill: var(--disabled-fill-color);\n",
              "    box-shadow: none;\n",
              "  }\n",
              "\n",
              "  .colab-df-spinner {\n",
              "    border: 2px solid var(--fill-color);\n",
              "    border-color: transparent;\n",
              "    border-bottom-color: var(--fill-color);\n",
              "    animation:\n",
              "      spin 1s steps(1) infinite;\n",
              "  }\n",
              "\n",
              "  @keyframes spin {\n",
              "    0% {\n",
              "      border-color: transparent;\n",
              "      border-bottom-color: var(--fill-color);\n",
              "      border-left-color: var(--fill-color);\n",
              "    }\n",
              "    20% {\n",
              "      border-color: transparent;\n",
              "      border-left-color: var(--fill-color);\n",
              "      border-top-color: var(--fill-color);\n",
              "    }\n",
              "    30% {\n",
              "      border-color: transparent;\n",
              "      border-left-color: var(--fill-color);\n",
              "      border-top-color: var(--fill-color);\n",
              "      border-right-color: var(--fill-color);\n",
              "    }\n",
              "    40% {\n",
              "      border-color: transparent;\n",
              "      border-right-color: var(--fill-color);\n",
              "      border-top-color: var(--fill-color);\n",
              "    }\n",
              "    60% {\n",
              "      border-color: transparent;\n",
              "      border-right-color: var(--fill-color);\n",
              "    }\n",
              "    80% {\n",
              "      border-color: transparent;\n",
              "      border-right-color: var(--fill-color);\n",
              "      border-bottom-color: var(--fill-color);\n",
              "    }\n",
              "    90% {\n",
              "      border-color: transparent;\n",
              "      border-bottom-color: var(--fill-color);\n",
              "    }\n",
              "  }\n",
              "</style>\n",
              "\n",
              "      <script>\n",
              "        async function quickchart(key) {\n",
              "          const quickchartButtonEl =\n",
              "            document.querySelector('#' + key + ' button');\n",
              "          quickchartButtonEl.disabled = true;  // To prevent multiple clicks.\n",
              "          quickchartButtonEl.classList.add('colab-df-spinner');\n",
              "          try {\n",
              "            const charts = await google.colab.kernel.invokeFunction(\n",
              "                'suggestCharts', [key], {});\n",
              "          } catch (error) {\n",
              "            console.error('Error during call to suggestCharts:', error);\n",
              "          }\n",
              "          quickchartButtonEl.classList.remove('colab-df-spinner');\n",
              "          quickchartButtonEl.classList.add('colab-df-quickchart-complete');\n",
              "        }\n",
              "        (() => {\n",
              "          let quickchartButtonEl =\n",
              "            document.querySelector('#df-c50c2ab6-0550-4f92-affb-ed44ce067ebd button');\n",
              "          quickchartButtonEl.style.display =\n",
              "            google.colab.kernel.accessAllowed ? 'block' : 'none';\n",
              "        })();\n",
              "      </script>\n",
              "    </div>\n",
              "\n",
              "  <div id=\"id_7e95b651-8227-489d-80f9-8d1b92594fed\">\n",
              "    <style>\n",
              "      .colab-df-generate {\n",
              "        background-color: #E8F0FE;\n",
              "        border: none;\n",
              "        border-radius: 50%;\n",
              "        cursor: pointer;\n",
              "        display: none;\n",
              "        fill: #1967D2;\n",
              "        height: 32px;\n",
              "        padding: 0 0 0 0;\n",
              "        width: 32px;\n",
              "      }\n",
              "\n",
              "      .colab-df-generate:hover {\n",
              "        background-color: #E2EBFA;\n",
              "        box-shadow: 0px 1px 2px rgba(60, 64, 67, 0.3), 0px 1px 3px 1px rgba(60, 64, 67, 0.15);\n",
              "        fill: #174EA6;\n",
              "      }\n",
              "\n",
              "      [theme=dark] .colab-df-generate {\n",
              "        background-color: #3B4455;\n",
              "        fill: #D2E3FC;\n",
              "      }\n",
              "\n",
              "      [theme=dark] .colab-df-generate:hover {\n",
              "        background-color: #434B5C;\n",
              "        box-shadow: 0px 1px 3px 1px rgba(0, 0, 0, 0.15);\n",
              "        filter: drop-shadow(0px 1px 2px rgba(0, 0, 0, 0.3));\n",
              "        fill: #FFFFFF;\n",
              "      }\n",
              "    </style>\n",
              "    <button class=\"colab-df-generate\" onclick=\"generateWithVariable('tSNEdf')\"\n",
              "            title=\"Generate code using this dataframe.\"\n",
              "            style=\"display:none;\">\n",
              "\n",
              "  <svg xmlns=\"http://www.w3.org/2000/svg\" height=\"24px\"viewBox=\"0 0 24 24\"\n",
              "       width=\"24px\">\n",
              "    <path d=\"M7,19H8.4L18.45,9,17,7.55,7,17.6ZM5,21V16.75L18.45,3.32a2,2,0,0,1,2.83,0l1.4,1.43a1.91,1.91,0,0,1,.58,1.4,1.91,1.91,0,0,1-.58,1.4L9.25,21ZM18.45,9,17,7.55Zm-12,3A5.31,5.31,0,0,0,4.9,8.1,5.31,5.31,0,0,0,1,6.5,5.31,5.31,0,0,0,4.9,4.9,5.31,5.31,0,0,0,6.5,1,5.31,5.31,0,0,0,8.1,4.9,5.31,5.31,0,0,0,12,6.5,5.46,5.46,0,0,0,6.5,12Z\"/>\n",
              "  </svg>\n",
              "    </button>\n",
              "    <script>\n",
              "      (() => {\n",
              "      const buttonEl =\n",
              "        document.querySelector('#id_7e95b651-8227-489d-80f9-8d1b92594fed button.colab-df-generate');\n",
              "      buttonEl.style.display =\n",
              "        google.colab.kernel.accessAllowed ? 'block' : 'none';\n",
              "\n",
              "      buttonEl.onclick = () => {\n",
              "        google.colab.notebook.generateWithVariable('tSNEdf');\n",
              "      }\n",
              "      })();\n",
              "    </script>\n",
              "  </div>\n",
              "\n",
              "    </div>\n",
              "  </div>\n"
            ],
            "application/vnd.google.colaboratory.intrinsic+json": {
              "type": "dataframe",
              "variable_name": "tSNEdf",
              "summary": "{\n  \"name\": \"tSNEdf\",\n  \"rows\": 1572,\n  \"fields\": [\n    {\n      \"column\": \"T-SNE component 1\",\n      \"properties\": {\n        \"dtype\": \"float32\",\n        \"num_unique_values\": 1572,\n        \"samples\": [\n          -13.934112548828125,\n          11.418586730957031,\n          -14.360607147216797\n        ],\n        \"semantic_type\": \"\",\n        \"description\": \"\"\n      }\n    },\n    {\n      \"column\": \"T-SNE component 2\",\n      \"properties\": {\n        \"dtype\": \"float32\",\n        \"num_unique_values\": 1572,\n        \"samples\": [\n          24.376262664794922,\n          2.318765163421631,\n          25.936155319213867\n        ],\n        \"semantic_type\": \"\",\n        \"description\": \"\"\n      }\n    },\n    {\n      \"column\": \"Fault\",\n      \"properties\": {\n        \"dtype\": \"category\",\n        \"num_unique_values\": 8,\n        \"samples\": [\n          \"Noise_Signal_inner_07\",\n          \"noise_signal_outer_09\",\n          \"Noise_Signal_Normal\"\n        ],\n        \"semantic_type\": \"\",\n        \"description\": \"\"\n      }\n    }\n  ]\n}"
            }
          },
          "metadata": {},
          "execution_count": 58
        }
      ]
    },
    {
      "cell_type": "markdown",
      "source": [
        "Combined Features"
      ],
      "metadata": {
        "id": "73T5xFDWQmML"
      },
      "id": "73T5xFDWQmML"
    },
    {
      "cell_type": "code",
      "source": [
        "# import pandas as pd\n",
        "\n",
        "# Assuming df1 and df2 are your two dataframes\n",
        "# Concatenate the dataframes vertically\n",
        "Motor_Fault_dataset = pd.concat([tSNE_representation, tSNEdf], axis=1)\n",
        "Motor_Fault_dataset=Motor_Fault_dataset.sort_values(by='Fault')\n",
        "Motor_Fault_dataset\n",
        "\n",
        "import pandas as pd\n",
        "from sklearn.preprocessing import StandardScaler\n",
        "\n",
        "# Assuming df1 and df2 are your two dataframes\n",
        "# Concatenate the dataframes vertically\n",
        "Motor_Fault_dataset = pd.concat([tSNE_representation, tSNEdf], axis=1)\n",
        "\n",
        "# Sort the dataset by 'Fault' column\n",
        "Motor_Fault_dataset = Motor_Fault_dataset.sort_values(by='Fault')\n",
        "Motor_Fault_dataset\n"
      ],
      "metadata": {
        "id": "sEmeYK5c8anK",
        "colab": {
          "base_uri": "https://localhost:8080/",
          "height": 424
        },
        "outputId": "0e1c0518-65d5-42e9-ff4c-683989d82ccf"
      },
      "id": "sEmeYK5c8anK",
      "execution_count": 59,
      "outputs": [
        {
          "output_type": "execute_result",
          "data": {
            "text/plain": [
              "        t-SNE 1    t-SNE 2  T-SNE component 1  T-SNE component 2  \\\n",
              "295  -51.298595  -0.290112          19.513056         -10.626180   \n",
              "530   11.692554 -30.941809          23.499701         -12.786230   \n",
              "125  -44.122810 -25.719917          20.246090         -14.836077   \n",
              "1405  26.590609 -10.690909          22.280985         -15.809456   \n",
              "236  -39.581047  13.056421          22.148499         -19.061258   \n",
              "...         ...        ...                ...                ...   \n",
              "250  -47.228046   1.378589         -25.439518          -0.474017   \n",
              "760   23.932743  13.134342         -20.898457          -2.430327   \n",
              "1260  -0.056622 -13.392458         -23.214191          -3.494295   \n",
              "815   -9.448865  37.482555         -20.897409          -2.460355   \n",
              "145  -40.472073 -26.947105         -16.322132          -9.402875   \n",
              "\n",
              "                      Fault  \n",
              "295     Noise_Signal_Normal  \n",
              "530     Noise_Signal_Normal  \n",
              "125     Noise_Signal_Normal  \n",
              "1405    Noise_Signal_Normal  \n",
              "236     Noise_Signal_Normal  \n",
              "...                     ...  \n",
              "250   noise_signal_outer_17  \n",
              "760   noise_signal_outer_17  \n",
              "1260  noise_signal_outer_17  \n",
              "815   noise_signal_outer_17  \n",
              "145   noise_signal_outer_17  \n",
              "\n",
              "[1572 rows x 5 columns]"
            ],
            "text/html": [
              "\n",
              "  <div id=\"df-0b4788d2-be0d-41a6-9bf3-a218f311a54b\" class=\"colab-df-container\">\n",
              "    <div>\n",
              "<style scoped>\n",
              "    .dataframe tbody tr th:only-of-type {\n",
              "        vertical-align: middle;\n",
              "    }\n",
              "\n",
              "    .dataframe tbody tr th {\n",
              "        vertical-align: top;\n",
              "    }\n",
              "\n",
              "    .dataframe thead th {\n",
              "        text-align: right;\n",
              "    }\n",
              "</style>\n",
              "<table border=\"1\" class=\"dataframe\">\n",
              "  <thead>\n",
              "    <tr style=\"text-align: right;\">\n",
              "      <th></th>\n",
              "      <th>t-SNE 1</th>\n",
              "      <th>t-SNE 2</th>\n",
              "      <th>T-SNE component 1</th>\n",
              "      <th>T-SNE component 2</th>\n",
              "      <th>Fault</th>\n",
              "    </tr>\n",
              "  </thead>\n",
              "  <tbody>\n",
              "    <tr>\n",
              "      <th>295</th>\n",
              "      <td>-51.298595</td>\n",
              "      <td>-0.290112</td>\n",
              "      <td>19.513056</td>\n",
              "      <td>-10.626180</td>\n",
              "      <td>Noise_Signal_Normal</td>\n",
              "    </tr>\n",
              "    <tr>\n",
              "      <th>530</th>\n",
              "      <td>11.692554</td>\n",
              "      <td>-30.941809</td>\n",
              "      <td>23.499701</td>\n",
              "      <td>-12.786230</td>\n",
              "      <td>Noise_Signal_Normal</td>\n",
              "    </tr>\n",
              "    <tr>\n",
              "      <th>125</th>\n",
              "      <td>-44.122810</td>\n",
              "      <td>-25.719917</td>\n",
              "      <td>20.246090</td>\n",
              "      <td>-14.836077</td>\n",
              "      <td>Noise_Signal_Normal</td>\n",
              "    </tr>\n",
              "    <tr>\n",
              "      <th>1405</th>\n",
              "      <td>26.590609</td>\n",
              "      <td>-10.690909</td>\n",
              "      <td>22.280985</td>\n",
              "      <td>-15.809456</td>\n",
              "      <td>Noise_Signal_Normal</td>\n",
              "    </tr>\n",
              "    <tr>\n",
              "      <th>236</th>\n",
              "      <td>-39.581047</td>\n",
              "      <td>13.056421</td>\n",
              "      <td>22.148499</td>\n",
              "      <td>-19.061258</td>\n",
              "      <td>Noise_Signal_Normal</td>\n",
              "    </tr>\n",
              "    <tr>\n",
              "      <th>...</th>\n",
              "      <td>...</td>\n",
              "      <td>...</td>\n",
              "      <td>...</td>\n",
              "      <td>...</td>\n",
              "      <td>...</td>\n",
              "    </tr>\n",
              "    <tr>\n",
              "      <th>250</th>\n",
              "      <td>-47.228046</td>\n",
              "      <td>1.378589</td>\n",
              "      <td>-25.439518</td>\n",
              "      <td>-0.474017</td>\n",
              "      <td>noise_signal_outer_17</td>\n",
              "    </tr>\n",
              "    <tr>\n",
              "      <th>760</th>\n",
              "      <td>23.932743</td>\n",
              "      <td>13.134342</td>\n",
              "      <td>-20.898457</td>\n",
              "      <td>-2.430327</td>\n",
              "      <td>noise_signal_outer_17</td>\n",
              "    </tr>\n",
              "    <tr>\n",
              "      <th>1260</th>\n",
              "      <td>-0.056622</td>\n",
              "      <td>-13.392458</td>\n",
              "      <td>-23.214191</td>\n",
              "      <td>-3.494295</td>\n",
              "      <td>noise_signal_outer_17</td>\n",
              "    </tr>\n",
              "    <tr>\n",
              "      <th>815</th>\n",
              "      <td>-9.448865</td>\n",
              "      <td>37.482555</td>\n",
              "      <td>-20.897409</td>\n",
              "      <td>-2.460355</td>\n",
              "      <td>noise_signal_outer_17</td>\n",
              "    </tr>\n",
              "    <tr>\n",
              "      <th>145</th>\n",
              "      <td>-40.472073</td>\n",
              "      <td>-26.947105</td>\n",
              "      <td>-16.322132</td>\n",
              "      <td>-9.402875</td>\n",
              "      <td>noise_signal_outer_17</td>\n",
              "    </tr>\n",
              "  </tbody>\n",
              "</table>\n",
              "<p>1572 rows × 5 columns</p>\n",
              "</div>\n",
              "    <div class=\"colab-df-buttons\">\n",
              "\n",
              "  <div class=\"colab-df-container\">\n",
              "    <button class=\"colab-df-convert\" onclick=\"convertToInteractive('df-0b4788d2-be0d-41a6-9bf3-a218f311a54b')\"\n",
              "            title=\"Convert this dataframe to an interactive table.\"\n",
              "            style=\"display:none;\">\n",
              "\n",
              "  <svg xmlns=\"http://www.w3.org/2000/svg\" height=\"24px\" viewBox=\"0 -960 960 960\">\n",
              "    <path d=\"M120-120v-720h720v720H120Zm60-500h600v-160H180v160Zm220 220h160v-160H400v160Zm0 220h160v-160H400v160ZM180-400h160v-160H180v160Zm440 0h160v-160H620v160ZM180-180h160v-160H180v160Zm440 0h160v-160H620v160Z\"/>\n",
              "  </svg>\n",
              "    </button>\n",
              "\n",
              "  <style>\n",
              "    .colab-df-container {\n",
              "      display:flex;\n",
              "      gap: 12px;\n",
              "    }\n",
              "\n",
              "    .colab-df-convert {\n",
              "      background-color: #E8F0FE;\n",
              "      border: none;\n",
              "      border-radius: 50%;\n",
              "      cursor: pointer;\n",
              "      display: none;\n",
              "      fill: #1967D2;\n",
              "      height: 32px;\n",
              "      padding: 0 0 0 0;\n",
              "      width: 32px;\n",
              "    }\n",
              "\n",
              "    .colab-df-convert:hover {\n",
              "      background-color: #E2EBFA;\n",
              "      box-shadow: 0px 1px 2px rgba(60, 64, 67, 0.3), 0px 1px 3px 1px rgba(60, 64, 67, 0.15);\n",
              "      fill: #174EA6;\n",
              "    }\n",
              "\n",
              "    .colab-df-buttons div {\n",
              "      margin-bottom: 4px;\n",
              "    }\n",
              "\n",
              "    [theme=dark] .colab-df-convert {\n",
              "      background-color: #3B4455;\n",
              "      fill: #D2E3FC;\n",
              "    }\n",
              "\n",
              "    [theme=dark] .colab-df-convert:hover {\n",
              "      background-color: #434B5C;\n",
              "      box-shadow: 0px 1px 3px 1px rgba(0, 0, 0, 0.15);\n",
              "      filter: drop-shadow(0px 1px 2px rgba(0, 0, 0, 0.3));\n",
              "      fill: #FFFFFF;\n",
              "    }\n",
              "  </style>\n",
              "\n",
              "    <script>\n",
              "      const buttonEl =\n",
              "        document.querySelector('#df-0b4788d2-be0d-41a6-9bf3-a218f311a54b button.colab-df-convert');\n",
              "      buttonEl.style.display =\n",
              "        google.colab.kernel.accessAllowed ? 'block' : 'none';\n",
              "\n",
              "      async function convertToInteractive(key) {\n",
              "        const element = document.querySelector('#df-0b4788d2-be0d-41a6-9bf3-a218f311a54b');\n",
              "        const dataTable =\n",
              "          await google.colab.kernel.invokeFunction('convertToInteractive',\n",
              "                                                    [key], {});\n",
              "        if (!dataTable) return;\n",
              "\n",
              "        const docLinkHtml = 'Like what you see? Visit the ' +\n",
              "          '<a target=\"_blank\" href=https://colab.research.google.com/notebooks/data_table.ipynb>data table notebook</a>'\n",
              "          + ' to learn more about interactive tables.';\n",
              "        element.innerHTML = '';\n",
              "        dataTable['output_type'] = 'display_data';\n",
              "        await google.colab.output.renderOutput(dataTable, element);\n",
              "        const docLink = document.createElement('div');\n",
              "        docLink.innerHTML = docLinkHtml;\n",
              "        element.appendChild(docLink);\n",
              "      }\n",
              "    </script>\n",
              "  </div>\n",
              "\n",
              "\n",
              "    <div id=\"df-7e73eacc-00d0-45ec-a7aa-93603b40aa11\">\n",
              "      <button class=\"colab-df-quickchart\" onclick=\"quickchart('df-7e73eacc-00d0-45ec-a7aa-93603b40aa11')\"\n",
              "                title=\"Suggest charts\"\n",
              "                style=\"display:none;\">\n",
              "\n",
              "<svg xmlns=\"http://www.w3.org/2000/svg\" height=\"24px\"viewBox=\"0 0 24 24\"\n",
              "     width=\"24px\">\n",
              "    <g>\n",
              "        <path d=\"M19 3H5c-1.1 0-2 .9-2 2v14c0 1.1.9 2 2 2h14c1.1 0 2-.9 2-2V5c0-1.1-.9-2-2-2zM9 17H7v-7h2v7zm4 0h-2V7h2v10zm4 0h-2v-4h2v4z\"/>\n",
              "    </g>\n",
              "</svg>\n",
              "      </button>\n",
              "\n",
              "<style>\n",
              "  .colab-df-quickchart {\n",
              "      --bg-color: #E8F0FE;\n",
              "      --fill-color: #1967D2;\n",
              "      --hover-bg-color: #E2EBFA;\n",
              "      --hover-fill-color: #174EA6;\n",
              "      --disabled-fill-color: #AAA;\n",
              "      --disabled-bg-color: #DDD;\n",
              "  }\n",
              "\n",
              "  [theme=dark] .colab-df-quickchart {\n",
              "      --bg-color: #3B4455;\n",
              "      --fill-color: #D2E3FC;\n",
              "      --hover-bg-color: #434B5C;\n",
              "      --hover-fill-color: #FFFFFF;\n",
              "      --disabled-bg-color: #3B4455;\n",
              "      --disabled-fill-color: #666;\n",
              "  }\n",
              "\n",
              "  .colab-df-quickchart {\n",
              "    background-color: var(--bg-color);\n",
              "    border: none;\n",
              "    border-radius: 50%;\n",
              "    cursor: pointer;\n",
              "    display: none;\n",
              "    fill: var(--fill-color);\n",
              "    height: 32px;\n",
              "    padding: 0;\n",
              "    width: 32px;\n",
              "  }\n",
              "\n",
              "  .colab-df-quickchart:hover {\n",
              "    background-color: var(--hover-bg-color);\n",
              "    box-shadow: 0 1px 2px rgba(60, 64, 67, 0.3), 0 1px 3px 1px rgba(60, 64, 67, 0.15);\n",
              "    fill: var(--button-hover-fill-color);\n",
              "  }\n",
              "\n",
              "  .colab-df-quickchart-complete:disabled,\n",
              "  .colab-df-quickchart-complete:disabled:hover {\n",
              "    background-color: var(--disabled-bg-color);\n",
              "    fill: var(--disabled-fill-color);\n",
              "    box-shadow: none;\n",
              "  }\n",
              "\n",
              "  .colab-df-spinner {\n",
              "    border: 2px solid var(--fill-color);\n",
              "    border-color: transparent;\n",
              "    border-bottom-color: var(--fill-color);\n",
              "    animation:\n",
              "      spin 1s steps(1) infinite;\n",
              "  }\n",
              "\n",
              "  @keyframes spin {\n",
              "    0% {\n",
              "      border-color: transparent;\n",
              "      border-bottom-color: var(--fill-color);\n",
              "      border-left-color: var(--fill-color);\n",
              "    }\n",
              "    20% {\n",
              "      border-color: transparent;\n",
              "      border-left-color: var(--fill-color);\n",
              "      border-top-color: var(--fill-color);\n",
              "    }\n",
              "    30% {\n",
              "      border-color: transparent;\n",
              "      border-left-color: var(--fill-color);\n",
              "      border-top-color: var(--fill-color);\n",
              "      border-right-color: var(--fill-color);\n",
              "    }\n",
              "    40% {\n",
              "      border-color: transparent;\n",
              "      border-right-color: var(--fill-color);\n",
              "      border-top-color: var(--fill-color);\n",
              "    }\n",
              "    60% {\n",
              "      border-color: transparent;\n",
              "      border-right-color: var(--fill-color);\n",
              "    }\n",
              "    80% {\n",
              "      border-color: transparent;\n",
              "      border-right-color: var(--fill-color);\n",
              "      border-bottom-color: var(--fill-color);\n",
              "    }\n",
              "    90% {\n",
              "      border-color: transparent;\n",
              "      border-bottom-color: var(--fill-color);\n",
              "    }\n",
              "  }\n",
              "</style>\n",
              "\n",
              "      <script>\n",
              "        async function quickchart(key) {\n",
              "          const quickchartButtonEl =\n",
              "            document.querySelector('#' + key + ' button');\n",
              "          quickchartButtonEl.disabled = true;  // To prevent multiple clicks.\n",
              "          quickchartButtonEl.classList.add('colab-df-spinner');\n",
              "          try {\n",
              "            const charts = await google.colab.kernel.invokeFunction(\n",
              "                'suggestCharts', [key], {});\n",
              "          } catch (error) {\n",
              "            console.error('Error during call to suggestCharts:', error);\n",
              "          }\n",
              "          quickchartButtonEl.classList.remove('colab-df-spinner');\n",
              "          quickchartButtonEl.classList.add('colab-df-quickchart-complete');\n",
              "        }\n",
              "        (() => {\n",
              "          let quickchartButtonEl =\n",
              "            document.querySelector('#df-7e73eacc-00d0-45ec-a7aa-93603b40aa11 button');\n",
              "          quickchartButtonEl.style.display =\n",
              "            google.colab.kernel.accessAllowed ? 'block' : 'none';\n",
              "        })();\n",
              "      </script>\n",
              "    </div>\n",
              "\n",
              "  <div id=\"id_f55b5320-544f-42c7-bb1b-62d4be87f57f\">\n",
              "    <style>\n",
              "      .colab-df-generate {\n",
              "        background-color: #E8F0FE;\n",
              "        border: none;\n",
              "        border-radius: 50%;\n",
              "        cursor: pointer;\n",
              "        display: none;\n",
              "        fill: #1967D2;\n",
              "        height: 32px;\n",
              "        padding: 0 0 0 0;\n",
              "        width: 32px;\n",
              "      }\n",
              "\n",
              "      .colab-df-generate:hover {\n",
              "        background-color: #E2EBFA;\n",
              "        box-shadow: 0px 1px 2px rgba(60, 64, 67, 0.3), 0px 1px 3px 1px rgba(60, 64, 67, 0.15);\n",
              "        fill: #174EA6;\n",
              "      }\n",
              "\n",
              "      [theme=dark] .colab-df-generate {\n",
              "        background-color: #3B4455;\n",
              "        fill: #D2E3FC;\n",
              "      }\n",
              "\n",
              "      [theme=dark] .colab-df-generate:hover {\n",
              "        background-color: #434B5C;\n",
              "        box-shadow: 0px 1px 3px 1px rgba(0, 0, 0, 0.15);\n",
              "        filter: drop-shadow(0px 1px 2px rgba(0, 0, 0, 0.3));\n",
              "        fill: #FFFFFF;\n",
              "      }\n",
              "    </style>\n",
              "    <button class=\"colab-df-generate\" onclick=\"generateWithVariable('Motor_Fault_dataset')\"\n",
              "            title=\"Generate code using this dataframe.\"\n",
              "            style=\"display:none;\">\n",
              "\n",
              "  <svg xmlns=\"http://www.w3.org/2000/svg\" height=\"24px\"viewBox=\"0 0 24 24\"\n",
              "       width=\"24px\">\n",
              "    <path d=\"M7,19H8.4L18.45,9,17,7.55,7,17.6ZM5,21V16.75L18.45,3.32a2,2,0,0,1,2.83,0l1.4,1.43a1.91,1.91,0,0,1,.58,1.4,1.91,1.91,0,0,1-.58,1.4L9.25,21ZM18.45,9,17,7.55Zm-12,3A5.31,5.31,0,0,0,4.9,8.1,5.31,5.31,0,0,0,1,6.5,5.31,5.31,0,0,0,4.9,4.9,5.31,5.31,0,0,0,6.5,1,5.31,5.31,0,0,0,8.1,4.9,5.31,5.31,0,0,0,12,6.5,5.46,5.46,0,0,0,6.5,12Z\"/>\n",
              "  </svg>\n",
              "    </button>\n",
              "    <script>\n",
              "      (() => {\n",
              "      const buttonEl =\n",
              "        document.querySelector('#id_f55b5320-544f-42c7-bb1b-62d4be87f57f button.colab-df-generate');\n",
              "      buttonEl.style.display =\n",
              "        google.colab.kernel.accessAllowed ? 'block' : 'none';\n",
              "\n",
              "      buttonEl.onclick = () => {\n",
              "        google.colab.notebook.generateWithVariable('Motor_Fault_dataset');\n",
              "      }\n",
              "      })();\n",
              "    </script>\n",
              "  </div>\n",
              "\n",
              "    </div>\n",
              "  </div>\n"
            ],
            "application/vnd.google.colaboratory.intrinsic+json": {
              "type": "dataframe",
              "variable_name": "Motor_Fault_dataset",
              "summary": "{\n  \"name\": \"Motor_Fault_dataset\",\n  \"rows\": 1572,\n  \"fields\": [\n    {\n      \"column\": \"t-SNE 1\",\n      \"properties\": {\n        \"dtype\": \"float32\",\n        \"num_unique_values\": 1569,\n        \"samples\": [\n          -52.514549255371094,\n          28.39753532409668,\n          -30.493078231811523\n        ],\n        \"semantic_type\": \"\",\n        \"description\": \"\"\n      }\n    },\n    {\n      \"column\": \"t-SNE 2\",\n      \"properties\": {\n        \"dtype\": \"float32\",\n        \"num_unique_values\": 1569,\n        \"samples\": [\n          6.880985736846924,\n          2.990032911300659,\n          -29.565414428710938\n        ],\n        \"semantic_type\": \"\",\n        \"description\": \"\"\n      }\n    },\n    {\n      \"column\": \"T-SNE component 1\",\n      \"properties\": {\n        \"dtype\": \"float32\",\n        \"num_unique_values\": 1572,\n        \"samples\": [\n          -13.934112548828125,\n          11.418586730957031,\n          -14.360607147216797\n        ],\n        \"semantic_type\": \"\",\n        \"description\": \"\"\n      }\n    },\n    {\n      \"column\": \"T-SNE component 2\",\n      \"properties\": {\n        \"dtype\": \"float32\",\n        \"num_unique_values\": 1572,\n        \"samples\": [\n          24.376262664794922,\n          2.318765163421631,\n          25.936155319213867\n        ],\n        \"semantic_type\": \"\",\n        \"description\": \"\"\n      }\n    },\n    {\n      \"column\": \"Fault\",\n      \"properties\": {\n        \"dtype\": \"category\",\n        \"num_unique_values\": 8,\n        \"samples\": [\n          \"Noise_Signal_inner_07\",\n          \"noise_signal_outer_09\",\n          \"Noise_Signal_Normal\"\n        ],\n        \"semantic_type\": \"\",\n        \"description\": \"\"\n      }\n    }\n  ]\n}"
            }
          },
          "metadata": {},
          "execution_count": 59
        }
      ]
    },
    {
      "cell_type": "code",
      "source": [
        "#Classification Report for MKDCNN"
      ],
      "metadata": {
        "id": "zC_6vMBPsOs_"
      },
      "id": "zC_6vMBPsOs_",
      "execution_count": 60,
      "outputs": []
    },
    {
      "cell_type": "code",
      "source": [],
      "metadata": {
        "id": "b77LcDP9sPR2"
      },
      "id": "b77LcDP9sPR2",
      "execution_count": 60,
      "outputs": []
    },
    {
      "cell_type": "markdown",
      "source": [
        "HSPSO-CatBoost\n"
      ],
      "metadata": {
        "id": "wZFQ37UCYN1p"
      },
      "id": "wZFQ37UCYN1p"
    },
    {
      "cell_type": "code",
      "source": [
        "X = Motor_Fault_dataset.iloc[:, 0:4].values\n",
        "y = Motor_Fault_dataset.iloc[:, 4].values"
      ],
      "metadata": {
        "id": "f_P8BWzmYTg0"
      },
      "id": "f_P8BWzmYTg0",
      "execution_count": 61,
      "outputs": []
    },
    {
      "cell_type": "code",
      "source": [
        "# Splitting the dataset into the Training set and Test set\n",
        "from sklearn.model_selection import train_test_split\n",
        "X_train, X_test, y_train, y_test = train_test_split(X, y, test_size = 0.2)"
      ],
      "metadata": {
        "id": "vLMueEZ6YfvA"
      },
      "id": "vLMueEZ6YfvA",
      "execution_count": 62,
      "outputs": []
    },
    {
      "cell_type": "code",
      "source": [
        "pip install hyperactive"
      ],
      "metadata": {
        "id": "nsTDebhD9iQw",
        "colab": {
          "base_uri": "https://localhost:8080/"
        },
        "outputId": "6a129003-4137-41ac-b7de-76407b1e392c"
      },
      "id": "nsTDebhD9iQw",
      "execution_count": 63,
      "outputs": [
        {
          "output_type": "stream",
          "name": "stdout",
          "text": [
            "Requirement already satisfied: hyperactive in /usr/local/lib/python3.11/dist-packages (4.8.0)\n",
            "Requirement already satisfied: numpy<3.0.0,>=1.18.1 in /usr/local/lib/python3.11/dist-packages (from hyperactive) (2.0.2)\n",
            "Requirement already satisfied: tqdm<5.0.0,>=4.48.0 in /usr/local/lib/python3.11/dist-packages (from hyperactive) (4.67.1)\n",
            "Requirement already satisfied: pandas<3.0.0 in /usr/local/lib/python3.11/dist-packages (from hyperactive) (2.2.2)\n",
            "Requirement already satisfied: gradient-free-optimizers<2.0.0,>=1.2.4 in /usr/local/lib/python3.11/dist-packages (from hyperactive) (1.7.1)\n",
            "Requirement already satisfied: scipy<2.0.0 in /usr/local/lib/python3.11/dist-packages (from gradient-free-optimizers<2.0.0,>=1.2.4->hyperactive) (1.15.3)\n",
            "Requirement already satisfied: scikit-learn!=0.23.*,>=0.21 in /usr/local/lib/python3.11/dist-packages (from gradient-free-optimizers<2.0.0,>=1.2.4->hyperactive) (1.6.1)\n",
            "Requirement already satisfied: python-dateutil>=2.8.2 in /usr/local/lib/python3.11/dist-packages (from pandas<3.0.0->hyperactive) (2.9.0.post0)\n",
            "Requirement already satisfied: pytz>=2020.1 in /usr/local/lib/python3.11/dist-packages (from pandas<3.0.0->hyperactive) (2025.2)\n",
            "Requirement already satisfied: tzdata>=2022.7 in /usr/local/lib/python3.11/dist-packages (from pandas<3.0.0->hyperactive) (2025.2)\n",
            "Requirement already satisfied: six>=1.5 in /usr/local/lib/python3.11/dist-packages (from python-dateutil>=2.8.2->pandas<3.0.0->hyperactive) (1.17.0)\n",
            "Requirement already satisfied: joblib>=1.2.0 in /usr/local/lib/python3.11/dist-packages (from scikit-learn!=0.23.*,>=0.21->gradient-free-optimizers<2.0.0,>=1.2.4->hyperactive) (1.5.1)\n",
            "Requirement already satisfied: threadpoolctl>=3.1.0 in /usr/local/lib/python3.11/dist-packages (from scikit-learn!=0.23.*,>=0.21->gradient-free-optimizers<2.0.0,>=1.2.4->hyperactive) (3.6.0)\n"
          ]
        }
      ]
    },
    {
      "cell_type": "code",
      "source": [
        "pip install catboost"
      ],
      "metadata": {
        "id": "UTH39uc29p_Q",
        "colab": {
          "base_uri": "https://localhost:8080/"
        },
        "outputId": "99fa356d-87ed-4dcd-bba9-3502779cc42d"
      },
      "id": "UTH39uc29p_Q",
      "execution_count": 64,
      "outputs": [
        {
          "output_type": "stream",
          "name": "stdout",
          "text": [
            "Requirement already satisfied: catboost in /usr/local/lib/python3.11/dist-packages (1.2.8)\n",
            "Requirement already satisfied: graphviz in /usr/local/lib/python3.11/dist-packages (from catboost) (0.21)\n",
            "Requirement already satisfied: matplotlib in /usr/local/lib/python3.11/dist-packages (from catboost) (3.10.0)\n",
            "Requirement already satisfied: numpy<3.0,>=1.16.0 in /usr/local/lib/python3.11/dist-packages (from catboost) (2.0.2)\n",
            "Requirement already satisfied: pandas>=0.24 in /usr/local/lib/python3.11/dist-packages (from catboost) (2.2.2)\n",
            "Requirement already satisfied: scipy in /usr/local/lib/python3.11/dist-packages (from catboost) (1.15.3)\n",
            "Requirement already satisfied: plotly in /usr/local/lib/python3.11/dist-packages (from catboost) (5.24.1)\n",
            "Requirement already satisfied: six in /usr/local/lib/python3.11/dist-packages (from catboost) (1.17.0)\n",
            "Requirement already satisfied: python-dateutil>=2.8.2 in /usr/local/lib/python3.11/dist-packages (from pandas>=0.24->catboost) (2.9.0.post0)\n",
            "Requirement already satisfied: pytz>=2020.1 in /usr/local/lib/python3.11/dist-packages (from pandas>=0.24->catboost) (2025.2)\n",
            "Requirement already satisfied: tzdata>=2022.7 in /usr/local/lib/python3.11/dist-packages (from pandas>=0.24->catboost) (2025.2)\n",
            "Requirement already satisfied: contourpy>=1.0.1 in /usr/local/lib/python3.11/dist-packages (from matplotlib->catboost) (1.3.2)\n",
            "Requirement already satisfied: cycler>=0.10 in /usr/local/lib/python3.11/dist-packages (from matplotlib->catboost) (0.12.1)\n",
            "Requirement already satisfied: fonttools>=4.22.0 in /usr/local/lib/python3.11/dist-packages (from matplotlib->catboost) (4.58.4)\n",
            "Requirement already satisfied: kiwisolver>=1.3.1 in /usr/local/lib/python3.11/dist-packages (from matplotlib->catboost) (1.4.8)\n",
            "Requirement already satisfied: packaging>=20.0 in /usr/local/lib/python3.11/dist-packages (from matplotlib->catboost) (24.2)\n",
            "Requirement already satisfied: pillow>=8 in /usr/local/lib/python3.11/dist-packages (from matplotlib->catboost) (11.2.1)\n",
            "Requirement already satisfied: pyparsing>=2.3.1 in /usr/local/lib/python3.11/dist-packages (from matplotlib->catboost) (3.2.3)\n",
            "Requirement already satisfied: tenacity>=6.2.0 in /usr/local/lib/python3.11/dist-packages (from plotly->catboost) (9.1.2)\n"
          ]
        }
      ]
    },
    {
      "cell_type": "markdown",
      "source": [
        "Deployment:"
      ],
      "metadata": {
        "id": "Ul9AHZU5uIcP"
      },
      "id": "Ul9AHZU5uIcP"
    },
    {
      "cell_type": "code",
      "source": [
        "import numpy as np\n",
        "import pandas as pd\n",
        "from datetime import datetime\n",
        "from sklearn.model_selection import cross_val_score\n",
        "from catboost import CatBoostClassifier, Pool\n",
        "from hyperactive import Hyperactive\n",
        "from hyperactive.optimizers import ParticleSwarmOptimizer\n",
        "from sklearn.metrics import classification_report, confusion_matrix\n",
        "import matplotlib.pyplot as plt\n",
        "import seaborn as sns\n",
        "\n",
        "# === DATA: Replace X_train, X_test, y_train, y_test with your actual data ===\n",
        "# Example:\n",
        "# X_train, X_test, y_train, y_test = train_test_split(...)\n",
        "\n",
        "X, y = X_train, y_train\n",
        "\n",
        "# === Objective Function ===\n",
        "def model(opt):\n",
        "    CatBoost = CatBoostClassifier(\n",
        "        iterations=opt[\"iterations\"],\n",
        "        depth=opt[\"depth\"],\n",
        "        learning_rate=opt[\"learning_rate\"],\n",
        "        l2_leaf_reg=opt[\"l2_leaf_reg\"],\n",
        "        bagging_temperature=opt[\"bagging_temperature\"],\n",
        "        random_strength=opt[\"random_strength\"],\n",
        "        verbose=False\n",
        "    )\n",
        "    scores = cross_val_score(CatBoost, X, y, cv=4)\n",
        "    return scores.mean()\n",
        "\n",
        "# === Search Space ===\n",
        "search_space = {\n",
        "    \"iterations\": list(range(50, 501, 50)),\n",
        "    \"depth\": list(range(1, 11)),\n",
        "    \"learning_rate\": [0.01, 0.05, 0.1],\n",
        "    \"l2_leaf_reg\": [1, 3, 5],\n",
        "    \"bagging_temperature\": [0.5, 1, 1.5],\n",
        "    \"random_strength\": [0.5, 1, 1.5],\n",
        "}\n",
        "\n",
        "# === Cauchy Mutation ===\n",
        "def cauchy_mutation(particle, gamma=0.3):\n",
        "    for key in particle:\n",
        "        if isinstance(particle[key], (int, float)):\n",
        "            particle[key] = particle[key] * (1 + gamma * np.tan(np.pi * (np.random.rand() - 0.5)))\n",
        "            particle[key] = np.clip(particle[key], min(search_space[key]), max(search_space[key]))\n",
        "            if isinstance(search_space[key][0], int):\n",
        "                particle[key] = int(round(particle[key]))\n",
        "    return particle\n",
        "\n",
        "# === HSPSO Optimizer Class ===\n",
        "class HybridStrategyPSO(ParticleSwarmOptimizer):\n",
        "    def __init__(self, n_part=20, max_iter=40, **kwargs):\n",
        "        super().__init__(**kwargs)\n",
        "        self.switch_threshold = 10\n",
        "        self.iteration = 0\n",
        "        self.topology = \"gbest\"\n",
        "        self.n_part = n_part\n",
        "        self.max_iter = max_iter\n",
        "\n",
        "        # Adaptive Inertia Parameters\n",
        "        self.H = 1\n",
        "        self.w_min = 0.4\n",
        "        self.w_max = 0.9\n",
        "        self.b = 0.9\n",
        "        self.scaling_factor = 0.5\n",
        "\n",
        "    def on_iteration(self, swarm, scores):\n",
        "        self.iteration += 1\n",
        "\n",
        "        # === Topology Switching ===\n",
        "        if self.iteration % self.switch_threshold == 0:\n",
        "            self.topology = \"lbest\" if self.topology == \"gbest\" else \"gbest\"\n",
        "            self.set_topology(self.topology)\n",
        "\n",
        "        # === Clone Best Particles ===\n",
        "        best_indices = np.argsort(scores)[:max(1, len(swarm) // 5)]\n",
        "        for idx in best_indices:\n",
        "            particle = swarm[idx].copy()\n",
        "            swarm.append(particle)\n",
        "            scores.append(scores[idx])\n",
        "\n",
        "        # === Prune Worst Particles ===\n",
        "        if len(swarm) > 2 * self.n_part:\n",
        "            worst_indices = np.argsort(scores)[-len(swarm)//4:]\n",
        "            for i in reversed(worst_indices):\n",
        "                del swarm[i]\n",
        "                del scores[i]\n",
        "\n",
        "        # === Nonlinear Adaptive Inertia ===\n",
        "        numerator = (self.w_max - self.w_min) * self.iteration\n",
        "        denominator = 1 + np.exp(-10 * self.b * ((2 * self.iteration) / (self.H * self.max_iter) - 1))\n",
        "        self.inertia = self.w_max - numerator / denominator\n",
        "\n",
        "        # === Cauchy Mutation ===\n",
        "        for i in range(len(swarm)):\n",
        "            if np.random.rand() < 0.2:\n",
        "                swarm[i] = cauchy_mutation(swarm[i])\n",
        "\n",
        "        # === Hook-Jeeves Local Search (simplified) ===\n",
        "        top_ids = np.argsort(scores)[:2]\n",
        "        for i in top_ids:\n",
        "            particle = swarm[i]\n",
        "            for key in particle:\n",
        "                if isinstance(particle[key], (int, float)):\n",
        "                    for delta in [-0.01, 0.01] if isinstance(particle[key], float) else [-1, 1]:\n",
        "                        trial = particle.copy()\n",
        "                        trial[key] = trial[key] + delta\n",
        "                        trial[key] = np.clip(trial[key], min(search_space[key]), max(search_space[key]))\n",
        "                        if isinstance(search_space[key][0], int):\n",
        "                            trial[key] = int(round(trial[key]))\n",
        "                        trial_score = model(trial)\n",
        "                        if trial_score > scores[i]:\n",
        "                            swarm[i] = trial\n",
        "                            scores[i] = trial_score\n",
        "\n",
        "        # === Random Restart ===\n",
        "        if np.random.rand() < 0.1:\n",
        "            random_idx = np.random.choice(len(swarm))\n",
        "            for key in swarm[random_idx]:\n",
        "                if isinstance(swarm[random_idx][key], (int, float)):\n",
        "                    swarm[random_idx][key] = np.random.choice(search_space[key])\n",
        "\n",
        "# === Run HSPSO Hyperparameter Tuning ===\n",
        "start_time = datetime.now()\n",
        "\n",
        "hyper = Hyperactive()\n",
        "\n",
        "optimizer = HybridStrategyPSO(\n",
        "    n_part=20,\n",
        "    max_iter=40,\n",
        "    inertia=0.5,\n",
        "    cognitive_weight=0.9,\n",
        "    social_weight=0.5,\n",
        "    temp_weight=0.4,\n",
        "    rand_rest_p=0.05,\n",
        ")\n",
        "\n",
        "hyper.add_search(model, search_space, optimizer=optimizer, n_iter=40)\n",
        "hyper.run()\n",
        "\n",
        "end_time = datetime.now()\n",
        "print('Tuning Duration:', end_time - start_time)\n",
        "\n",
        "# === Best Parameters ===\n",
        "best_params = hyper.best_para(model)\n",
        "print(\"Best Parameters:\", best_params)\n",
        "\n",
        "# === Train Final Model with Best Parameters ===\n",
        "train_pool = Pool(data=X_train, label=y_train)\n",
        "test_pool = Pool(data=X_test, label=y_test)\n",
        "\n",
        "final_model = CatBoostClassifier(\n",
        "    depth=best_params[\"depth\"],\n",
        "    iterations=best_params[\"iterations\"],\n",
        "    learning_rate=best_params[\"learning_rate\"],\n",
        "    l2_leaf_reg=best_params[\"l2_leaf_reg\"],\n",
        "    bagging_temperature=best_params[\"bagging_temperature\"],\n",
        "    random_strength=best_params[\"random_strength\"],\n",
        "    verbose=10\n",
        ")\n",
        "\n",
        "final_model.fit(\n",
        "    train_pool,\n",
        "    eval_set=test_pool,\n",
        "    verbose=best_params[\"iterations\"] // 10,\n",
        "    plot=True\n",
        ")\n"
      ],
      "metadata": {
        "id": "jQr38vF8A9_i",
        "colab": {
          "base_uri": "https://localhost:8080/",
          "height": 694,
          "referenced_widgets": [
            "3c86ce8310d5441a9bff2a9983dea58a"
          ]
        },
        "outputId": "93c2eb20-5bac-4c27-d54b-e482f3a60ada"
      },
      "id": "jQr38vF8A9_i",
      "execution_count": 65,
      "outputs": [
        {
          "output_type": "stream",
          "name": "stderr",
          "text": [
            "[0] model (Particle Swarm Optimization): 100%|\u001b[32m──────────\u001b[0m| 40/40 [07:50<00:00, 11.77s/it, best_iter=0, best_pos=None, best_score=-inf]"
          ]
        },
        {
          "output_type": "stream",
          "name": "stdout",
          "text": [
            "\n",
            "\n",
            "Results: 'model'  \n",
            "   Best score: 0.9745425133960166  \n",
            "   Best parameter set:\n",
            "      'iterations'          : 200.0  \n",
            "      'depth'               : 7.0  \n",
            "      'learning_rate'       : 0.05  \n",
            "      'l2_leaf_reg'         : 3.0  \n",
            "      'bagging_temperature' : 1.5  \n",
            "      'random_strength'     : 1.0  \n",
            "   Best iteration: 0  \n",
            " \n",
            "   Random seed: 1160931832  \n",
            " \n",
            "   Evaluation time   : 470.38611793518066 sec    [100.0 %]\n",
            "   Optimization time : 0.013150691986083984 sec    [0.0 %]\n",
            "   Iteration time    : 470.39926862716675 sec    [11.76 sec/iter]\n",
            " \n",
            "Tuning Duration: 0:07:50.967699\n",
            "Best Parameters: {'iterations': 200, 'depth': 7, 'learning_rate': 0.05, 'l2_leaf_reg': 3, 'bagging_temperature': 1.5, 'random_strength': 1}\n"
          ]
        },
        {
          "output_type": "stream",
          "name": "stderr",
          "text": [
            "\n"
          ]
        },
        {
          "output_type": "display_data",
          "data": {
            "text/plain": [
              "MetricVisualizer(layout=Layout(align_self='stretch', height='500px'))"
            ],
            "application/vnd.jupyter.widget-view+json": {
              "version_major": 2,
              "version_minor": 0,
              "model_id": "3c86ce8310d5441a9bff2a9983dea58a"
            }
          },
          "metadata": {}
        },
        {
          "output_type": "stream",
          "name": "stdout",
          "text": [
            "0:\tlearn: 1.8436609\ttest: 1.8438629\tbest: 1.8438629 (0)\ttotal: 20.6ms\tremaining: 4.1s\n",
            "20:\tlearn: 0.5512892\ttest: 0.5555365\tbest: 0.5555365 (20)\ttotal: 324ms\tremaining: 2.76s\n",
            "40:\tlearn: 0.2691043\ttest: 0.2747684\tbest: 0.2747684 (40)\ttotal: 614ms\tremaining: 2.38s\n",
            "60:\tlearn: 0.1705298\ttest: 0.1802831\tbest: 0.1802831 (60)\ttotal: 900ms\tremaining: 2.05s\n",
            "80:\tlearn: 0.1286880\ttest: 0.1430023\tbest: 0.1430023 (80)\ttotal: 1.21s\tremaining: 1.78s\n",
            "100:\tlearn: 0.1081820\ttest: 0.1272967\tbest: 0.1272967 (100)\ttotal: 1.51s\tremaining: 1.48s\n",
            "120:\tlearn: 0.0959573\ttest: 0.1183368\tbest: 0.1183368 (120)\ttotal: 1.81s\tremaining: 1.18s\n",
            "140:\tlearn: 0.0866305\ttest: 0.1136639\tbest: 0.1136639 (140)\ttotal: 2.15s\tremaining: 900ms\n",
            "160:\tlearn: 0.0783046\ttest: 0.1087184\tbest: 0.1087184 (160)\ttotal: 2.44s\tremaining: 592ms\n",
            "180:\tlearn: 0.0729032\ttest: 0.1064707\tbest: 0.1064230 (179)\ttotal: 2.73s\tremaining: 286ms\n",
            "199:\tlearn: 0.0678863\ttest: 0.1044541\tbest: 0.1043465 (198)\ttotal: 2.99s\tremaining: 0us\n",
            "\n",
            "bestTest = 0.1043464878\n",
            "bestIteration = 198\n",
            "\n",
            "Shrink model to first 199 iterations.\n"
          ]
        },
        {
          "output_type": "execute_result",
          "data": {
            "text/plain": [
              "<catboost.core.CatBoostClassifier at 0x7cda4a83f890>"
            ]
          },
          "metadata": {},
          "execution_count": 65
        }
      ]
    },
    {
      "cell_type": "code",
      "source": [
        "hyper.add_search(model, search_space, optimizer=optimizer, n_iter=40, initialize={\"random\": 20})\n"
      ],
      "metadata": {
        "id": "a_9tYmgz45VS"
      },
      "id": "a_9tYmgz45VS",
      "execution_count": 66,
      "outputs": []
    },
    {
      "cell_type": "code",
      "source": [
        "learning_curve = final_model.get_evals_result()\n",
        "print(learning_curve)"
      ],
      "metadata": {
        "id": "2mRL06xdGZve",
        "colab": {
          "base_uri": "https://localhost:8080/"
        },
        "outputId": "ab29d17b-1541-4d1a-8b7b-41eabb453780"
      },
      "id": "2mRL06xdGZve",
      "execution_count": 67,
      "outputs": [
        {
          "output_type": "stream",
          "name": "stdout",
          "text": [
            "{'learn': {'MultiClass': [1.8436608947967452, 1.6549112216444777, 1.5040301977781059, 1.3813722875586645, 1.2874152912224233, 1.2057756538491877, 1.1267059596460136, 1.0564685624777828, 1.003610766536618, 0.9408422820078051, 0.8913803298776193, 0.8451523867755344, 0.8040015619724986, 0.7668359571602885, 0.730692532958969, 0.6928035032419175, 0.6615968858032075, 0.6326977162521689, 0.605626559500221, 0.5773928247057635, 0.5512892022744791, 0.5291183946542518, 0.5087760275377635, 0.4894776955517515, 0.4689620427878799, 0.4497227873520841, 0.43436726710382406, 0.4172398002407769, 0.40344259690628365, 0.3881022291418213, 0.37530943882135326, 0.3614847372057944, 0.3492312004512656, 0.33815030756477416, 0.32684402107516647, 0.31578366481201425, 0.30549744784532784, 0.29556738539263133, 0.28685599820162544, 0.277921305933045, 0.26910425337765964, 0.2631953804386804, 0.25612769320523554, 0.2499036760209625, 0.24307321967620324, 0.23614938234491334, 0.23005441744585, 0.22466451891960224, 0.2196422445264576, 0.21520488109234928, 0.2109556669839422, 0.20627451158038984, 0.2009350789187017, 0.1970294134769743, 0.19243528871583515, 0.18862319623669654, 0.18438958172349193, 0.18079423162336325, 0.17677414111875767, 0.1736444473098344, 0.17052980830461595, 0.16765454186090797, 0.16513916538468093, 0.16229660394337816, 0.16060179819633888, 0.15854493642434983, 0.15599375075290922, 0.15399155823928873, 0.15155593732624226, 0.14917100731182634, 0.1467969772476918, 0.14467400567614694, 0.14245678282847157, 0.14042117004628607, 0.1389968991758594, 0.13723394540211484, 0.13531565697194856, 0.1334958752216363, 0.13194742598853518, 0.13028444212498932, 0.12868797698027432, 0.12779622844584493, 0.12682769831167176, 0.12563906537045855, 0.12457983944129507, 0.12342486179146456, 0.12220747184731064, 0.12096462225209943, 0.12019911876571095, 0.11906560215639099, 0.11808863613464246, 0.11696158067289203, 0.1158326879313649, 0.11447862791539733, 0.11319936534524366, 0.11246024253440513, 0.111679045634268, 0.11093535888307193, 0.11001339368463092, 0.1095035806514661, 0.10818203628543796, 0.1074067734655288, 0.10651165941111966, 0.10561864892163841, 0.10475887047087207, 0.10412243164324979, 0.10371080414736249, 0.10301615356173485, 0.10277400535253495, 0.10231338002145708, 0.10139926025414589, 0.1009486271738138, 0.10063886055284967, 0.10004747561915536, 0.09958371424213881, 0.09884557072236404, 0.09849362552389218, 0.09775965051666397, 0.09752445826215515, 0.09681368855351564, 0.09595730857673157, 0.09533992956890758, 0.09472002411386107, 0.0941713487946241, 0.09379391900762332, 0.09329010010616867, 0.09283411125952158, 0.0925265828096318, 0.09221162855948234, 0.09158327576223435, 0.09121053165998703, 0.09079001920410865, 0.09020002678141482, 0.08958193523660636, 0.08874703879349317, 0.08834995719832153, 0.08801998543353558, 0.08764641702191904, 0.08747242513984209, 0.08726417718165683, 0.0866305404158199, 0.08623603717344133, 0.08589570730751414, 0.08543197488883143, 0.08490002689585754, 0.0843807142574421, 0.08389790461049382, 0.08349181296239631, 0.08286698912109017, 0.08261177398010482, 0.08215539163861202, 0.08151409504956257, 0.08114497719278711, 0.08072495882174599, 0.08023221897633127, 0.07993214592605528, 0.07971963391894499, 0.07938524747080472, 0.07899002125733436, 0.07870463427137818, 0.0783045737678439, 0.07794879092792092, 0.07763410326976228, 0.07729706222793184, 0.07706476890095905, 0.07675429268425936, 0.07645893407070803, 0.07627139972923283, 0.07586309131441661, 0.07551995972835958, 0.0751794703273443, 0.07501664488991718, 0.07474910072529038, 0.07450344513045216, 0.07436224525352472, 0.07417108736007685, 0.07387893868786688, 0.07357592169204812, 0.07323587055679431, 0.07308791926200833, 0.07290316538161003, 0.07271033525671321, 0.07237230671580065, 0.07205043501448698, 0.07179864445299672, 0.07159229062000383, 0.07139436812615217, 0.07108083731702233, 0.07084449092316807, 0.07063063510906957, 0.0701320450377004, 0.06982808530838444, 0.06971482058178856, 0.06933109239040527, 0.06914834549866972, 0.06893238234899667, 0.0687307882167307, 0.06836492621751188, 0.0681499391315186, 0.06788634283179087]}, 'validation': {'MultiClass': [1.8438629064712109, 1.656243816073765, 1.508464799494719, 1.3839940178137262, 1.2891212164759827, 1.207862177114027, 1.1288840355008114, 1.0591338308885614, 1.0069512871483743, 0.9433030482400431, 0.8947009230925111, 0.8482367962707875, 0.8066345257575076, 0.7713598886541917, 0.7349666897579242, 0.6961068773775835, 0.6658074296132733, 0.6379747492067644, 0.6106888516120417, 0.5815810017661525, 0.5555365091641224, 0.533364457970509, 0.5126967302907363, 0.4933291861823339, 0.4726505830247547, 0.45335370097878974, 0.4382435914585025, 0.4208928863093015, 0.4073358391525774, 0.392281925333312, 0.37948300291664117, 0.3658184809580112, 0.3541314378525205, 0.34366056263689343, 0.33267732609398276, 0.32164256801877694, 0.311345672121666, 0.3009436162092396, 0.2921223457901783, 0.2832717469325909, 0.27476835977259956, 0.26923140313149774, 0.2623260807015874, 0.2567484766624737, 0.24961822461748492, 0.24313911475833003, 0.2372586240923682, 0.23182270161146726, 0.2269475669830734, 0.22308741798087325, 0.21913309756870858, 0.21481749417288512, 0.20941631687502166, 0.2053712433988813, 0.201089602922099, 0.19755191753700013, 0.19349168076285242, 0.1900133046663613, 0.1863012964126288, 0.18308634612395056, 0.18028310774707615, 0.17759462832541087, 0.17503373642629996, 0.17277471314232323, 0.17119353105592106, 0.1694706455567301, 0.1671358868842382, 0.16560137516229848, 0.16323394687757703, 0.1610719569587279, 0.15912090927678782, 0.15701983170660472, 0.15482046646490202, 0.15279792159972821, 0.15166477873758133, 0.14994943172548614, 0.14846210713212216, 0.14710622995299732, 0.14594792008142957, 0.14424483571099517, 0.14300227747515235, 0.14256587836450768, 0.14194807103795096, 0.14108291738448492, 0.13990673984373306, 0.13929063237849282, 0.1383321227859345, 0.13747958582556324, 0.13702976115566526, 0.13603403131750932, 0.13504683602095555, 0.13417359781599747, 0.13322408734813673, 0.13223315747268552, 0.13126828184453115, 0.1308143203491273, 0.13012678984928594, 0.12950608580402045, 0.1287992913768135, 0.1285725794201018, 0.12729673654972634, 0.12680247417172577, 0.1259138637100641, 0.12523018626195193, 0.12451649845993973, 0.12415183353233841, 0.1240217544280132, 0.12350222404453326, 0.12331616317288092, 0.1231868853770192, 0.12251813652042207, 0.12219552302365967, 0.1219582440682101, 0.1218164150981352, 0.1213512428813836, 0.12060142157490474, 0.12043167762162883, 0.11982558566989387, 0.11961426720155018, 0.1190325357333331, 0.11833677684086524, 0.11808542015580543, 0.11772662603008331, 0.11736330836108082, 0.1173976611638598, 0.11721757303234087, 0.11712937741205774, 0.11715834291937487, 0.11706901698143685, 0.11665587263500361, 0.1162781758018313, 0.11596913379572411, 0.1156038899073726, 0.11522804362027197, 0.11496162836375759, 0.11477583882863708, 0.11448426617277589, 0.11423224504872553, 0.11421809952525123, 0.11402683413211452, 0.11366391264263129, 0.11369859142945488, 0.1137033840099154, 0.11319863266791884, 0.11298403756699921, 0.11257837631389797, 0.11227212380140943, 0.1120916828501296, 0.11160530995675207, 0.11146947746184857, 0.11119376408970963, 0.1109751573454471, 0.11063870386299486, 0.110354043813591, 0.10996124806083934, 0.10988366417275179, 0.10969600591520261, 0.10959376981851594, 0.10929032561603748, 0.10917104924717198, 0.10871838274287658, 0.10859373541428113, 0.108439898278948, 0.10838237939360484, 0.10821577398628379, 0.10822195074656649, 0.10811272453735221, 0.1080950658967789, 0.10772550006799828, 0.10765041970545965, 0.1073560884216879, 0.10726149205657906, 0.1073116251917087, 0.10708701890957663, 0.1069760129564506, 0.10699381160821379, 0.10682144838799643, 0.10667340669824395, 0.10642381718063308, 0.10642303068138155, 0.1064707020119988, 0.10639014610545416, 0.10624671111270065, 0.10617842481721393, 0.10606562546667939, 0.10619443525986279, 0.10614255607277626, 0.10588064295523499, 0.105808594939187, 0.10572105197425809, 0.10545334313478534, 0.10518168368068691, 0.10513926672679894, 0.1049476844511976, 0.1048369579257635, 0.10486674857209895, 0.10485206527117619, 0.10451868322727803, 0.10434648778020404, 0.10445413604711112]}}\n"
          ]
        }
      ]
    },
    {
      "cell_type": "code",
      "source": [
        "# Retrieve evaluation results\n",
        "learning_curve = final_model.get_evals_result()\n",
        "\n",
        "# Extract the metric values\n",
        "# Assuming 'learn' corresponds to the training dataset\n",
        "train_metric_values = learning_curve.get('learn', {}).get('MultiClass', [])\n",
        "\n",
        "# Check the extracted values\n",
        "if train_metric_values:\n",
        "    print(\"Training metric values:\", train_metric_values)\n",
        "else:\n",
        "    print(\"Metric 'MultiClass' not found in evaluation results.\")\n"
      ],
      "metadata": {
        "id": "3baCXa2jGafB",
        "colab": {
          "base_uri": "https://localhost:8080/"
        },
        "outputId": "d49207c3-62d3-4cc1-a8ac-c0f65b46b25f"
      },
      "id": "3baCXa2jGafB",
      "execution_count": 68,
      "outputs": [
        {
          "output_type": "stream",
          "name": "stdout",
          "text": [
            "Training metric values: [1.8436608947967452, 1.6549112216444777, 1.5040301977781059, 1.3813722875586645, 1.2874152912224233, 1.2057756538491877, 1.1267059596460136, 1.0564685624777828, 1.003610766536618, 0.9408422820078051, 0.8913803298776193, 0.8451523867755344, 0.8040015619724986, 0.7668359571602885, 0.730692532958969, 0.6928035032419175, 0.6615968858032075, 0.6326977162521689, 0.605626559500221, 0.5773928247057635, 0.5512892022744791, 0.5291183946542518, 0.5087760275377635, 0.4894776955517515, 0.4689620427878799, 0.4497227873520841, 0.43436726710382406, 0.4172398002407769, 0.40344259690628365, 0.3881022291418213, 0.37530943882135326, 0.3614847372057944, 0.3492312004512656, 0.33815030756477416, 0.32684402107516647, 0.31578366481201425, 0.30549744784532784, 0.29556738539263133, 0.28685599820162544, 0.277921305933045, 0.26910425337765964, 0.2631953804386804, 0.25612769320523554, 0.2499036760209625, 0.24307321967620324, 0.23614938234491334, 0.23005441744585, 0.22466451891960224, 0.2196422445264576, 0.21520488109234928, 0.2109556669839422, 0.20627451158038984, 0.2009350789187017, 0.1970294134769743, 0.19243528871583515, 0.18862319623669654, 0.18438958172349193, 0.18079423162336325, 0.17677414111875767, 0.1736444473098344, 0.17052980830461595, 0.16765454186090797, 0.16513916538468093, 0.16229660394337816, 0.16060179819633888, 0.15854493642434983, 0.15599375075290922, 0.15399155823928873, 0.15155593732624226, 0.14917100731182634, 0.1467969772476918, 0.14467400567614694, 0.14245678282847157, 0.14042117004628607, 0.1389968991758594, 0.13723394540211484, 0.13531565697194856, 0.1334958752216363, 0.13194742598853518, 0.13028444212498932, 0.12868797698027432, 0.12779622844584493, 0.12682769831167176, 0.12563906537045855, 0.12457983944129507, 0.12342486179146456, 0.12220747184731064, 0.12096462225209943, 0.12019911876571095, 0.11906560215639099, 0.11808863613464246, 0.11696158067289203, 0.1158326879313649, 0.11447862791539733, 0.11319936534524366, 0.11246024253440513, 0.111679045634268, 0.11093535888307193, 0.11001339368463092, 0.1095035806514661, 0.10818203628543796, 0.1074067734655288, 0.10651165941111966, 0.10561864892163841, 0.10475887047087207, 0.10412243164324979, 0.10371080414736249, 0.10301615356173485, 0.10277400535253495, 0.10231338002145708, 0.10139926025414589, 0.1009486271738138, 0.10063886055284967, 0.10004747561915536, 0.09958371424213881, 0.09884557072236404, 0.09849362552389218, 0.09775965051666397, 0.09752445826215515, 0.09681368855351564, 0.09595730857673157, 0.09533992956890758, 0.09472002411386107, 0.0941713487946241, 0.09379391900762332, 0.09329010010616867, 0.09283411125952158, 0.0925265828096318, 0.09221162855948234, 0.09158327576223435, 0.09121053165998703, 0.09079001920410865, 0.09020002678141482, 0.08958193523660636, 0.08874703879349317, 0.08834995719832153, 0.08801998543353558, 0.08764641702191904, 0.08747242513984209, 0.08726417718165683, 0.0866305404158199, 0.08623603717344133, 0.08589570730751414, 0.08543197488883143, 0.08490002689585754, 0.0843807142574421, 0.08389790461049382, 0.08349181296239631, 0.08286698912109017, 0.08261177398010482, 0.08215539163861202, 0.08151409504956257, 0.08114497719278711, 0.08072495882174599, 0.08023221897633127, 0.07993214592605528, 0.07971963391894499, 0.07938524747080472, 0.07899002125733436, 0.07870463427137818, 0.0783045737678439, 0.07794879092792092, 0.07763410326976228, 0.07729706222793184, 0.07706476890095905, 0.07675429268425936, 0.07645893407070803, 0.07627139972923283, 0.07586309131441661, 0.07551995972835958, 0.0751794703273443, 0.07501664488991718, 0.07474910072529038, 0.07450344513045216, 0.07436224525352472, 0.07417108736007685, 0.07387893868786688, 0.07357592169204812, 0.07323587055679431, 0.07308791926200833, 0.07290316538161003, 0.07271033525671321, 0.07237230671580065, 0.07205043501448698, 0.07179864445299672, 0.07159229062000383, 0.07139436812615217, 0.07108083731702233, 0.07084449092316807, 0.07063063510906957, 0.0701320450377004, 0.06982808530838444, 0.06971482058178856, 0.06933109239040527, 0.06914834549866972, 0.06893238234899667, 0.0687307882167307, 0.06836492621751188, 0.0681499391315186, 0.06788634283179087]\n"
          ]
        }
      ]
    },
    {
      "cell_type": "code",
      "source": [
        "import matplotlib.pyplot as plt\n",
        "\n",
        "# Plotting the learning curve\n",
        "plt.plot(train_metric_values, label='Training MultiClass Metric')\n",
        "plt.xlabel('Iterations')\n",
        "plt.ylabel('Metric Value')\n",
        "plt.title('Learning Curve')\n",
        "plt.legend()\n",
        "plt.grid()\n",
        "plt.show()\n"
      ],
      "metadata": {
        "id": "p0vioY6FGjQb",
        "colab": {
          "base_uri": "https://localhost:8080/",
          "height": 472
        },
        "outputId": "cc47f86d-2087-4f39-862d-f730dba04e79"
      },
      "id": "p0vioY6FGjQb",
      "execution_count": 69,
      "outputs": [
        {
          "output_type": "display_data",
          "data": {
            "text/plain": [
              "<Figure size 640x480 with 1 Axes>"
            ],
            "image/png": "[encoded data removed]"
          },
          "metadata": {}
        }
      ]
    },
    {
      "cell_type": "code",
      "source": [
        "# Predictions\n",
        "y_pred_train = final_model.predict(X_train)\n",
        "y_pred_test = final_model.predict(X_test)\n",
        "\n",
        "print(\"Classification Report - Training Set:\")\n",
        "print(classification_report(y_train, y_pred_train))\n",
        "\n",
        "print(\"Classification Report - Test Set:\")\n",
        "print(classification_report(y_test, y_pred_test))\n",
        "\n",
        "conf_matrix_train = confusion_matrix(y_train, y_pred_train)\n",
        "conf_matrix_test = confusion_matrix(y_test, y_pred_test)\n",
        "\n",
        "plt.figure(figsize=(15, 5))\n",
        "\n",
        "plt.subplot(1, 3, 1)\n",
        "sns.heatmap(conf_matrix_train, annot=True, fmt=\"d\", cmap=\"Blues\", cbar=False)\n",
        "plt.title(\"Confusion Matrix - Training Set\")\n",
        "plt.xlabel(\"Predicted\")\n",
        "plt.ylabel(\"True\")\n",
        "\n",
        "plt.subplot(1, 3, 2)\n",
        "sns.heatmap(conf_matrix_test, annot=True, fmt=\"d\", cmap=\"Blues\", cbar=False)\n",
        "plt.title(\"Confusion Matrix - Test Set\")\n",
        "plt.xlabel(\"Predicted\")\n",
        "plt.ylabel(\"True\")\n",
        "\n",
        "plt.tight_layout()\n",
        "plt.savefig('C-Matrix.svg', format='svg')\n",
        "plt.show()\n",
        "\n",
        "end_time = datetime.now()\n",
        "print('Deployment Duration: {}'.format(end_time - start_time))"
      ],
      "metadata": {
        "id": "EGySyu_OHNqG",
        "colab": {
          "base_uri": "https://localhost:8080/",
          "height": 1000
        },
        "outputId": "bea5d494-061d-4d25-a0c8-5d821bd28f4d"
      },
      "id": "EGySyu_OHNqG",
      "execution_count": 70,
      "outputs": [
        {
          "output_type": "stream",
          "name": "stdout",
          "text": [
            "Classification Report - Training Set:\n",
            "                       precision    recall  f1-score   support\n",
            "\n",
            "  Noise_Signal_Normal       1.00      0.99      1.00       143\n",
            "Noise_Signal_inner_07       1.00      0.99      1.00       164\n",
            "Noise_Signal_inner_09       0.99      1.00      1.00       173\n",
            "Noise_Signal_inner_13       0.95      0.98      0.97       159\n",
            "Noise_Signal_inner_17       1.00      0.98      0.99       152\n",
            "noise_signal_outer_09       0.99      0.96      0.98       156\n",
            "noise_signal_outer_13       0.96      0.97      0.97       150\n",
            "noise_signal_outer_17       0.98      0.99      0.99       160\n",
            "\n",
            "             accuracy                           0.98      1257\n",
            "            macro avg       0.99      0.98      0.98      1257\n",
            "         weighted avg       0.99      0.98      0.98      1257\n",
            "\n",
            "Classification Report - Test Set:\n",
            "                       precision    recall  f1-score   support\n",
            "\n",
            "  Noise_Signal_Normal       1.00      1.00      1.00        31\n",
            "Noise_Signal_inner_07       1.00      1.00      1.00        35\n",
            "Noise_Signal_inner_09       1.00      1.00      1.00        47\n",
            "Noise_Signal_inner_13       0.95      0.97      0.96        39\n",
            "Noise_Signal_inner_17       1.00      0.98      0.99        48\n",
            "noise_signal_outer_09       0.98      0.98      0.98        42\n",
            "noise_signal_outer_13       0.89      0.86      0.88        29\n",
            "noise_signal_outer_17       0.98      1.00      0.99        44\n",
            "\n",
            "             accuracy                           0.98       315\n",
            "            macro avg       0.97      0.97      0.97       315\n",
            "         weighted avg       0.98      0.98      0.98       315\n",
            "\n"
          ]
        },
        {
          "output_type": "display_data",
          "data": {
            "text/plain": [
              "<Figure size 1500x500 with 2 Axes>"
            ],
            "image/png": "[encoded data removed]"
          },
          "metadata": {}
        },
        {
          "output_type": "stream",
          "name": "stdout",
          "text": [
            "Deployment Duration: 0:07:56.159381\n"
          ]
        }
      ]
    },
    {
      "cell_type": "code",
      "source": [
        "final_model.fit(X_train, y_train, eval_set=(X_test, y_test))\n",
        "\n",
        "# Evaluate train accuracy\n",
        "result_train = final_model.score(X_train, y_train)\n",
        "print(\"Train Accuracy : {}\".format(result_train))\n",
        "\n",
        "# Evaluate test accuracy\n",
        "result_test = final_model.score(X_test, y_test)\n",
        "print(\"Test Accuracy : {}\".format(result_test))\n",
        "\n",
        "# Predictions\n",
        "y_pred_train = final_model.predict(X_train)\n",
        "y_pred_test = final_model.predict(X_test)\n",
        "\n",
        "# Classification report\n",
        "print(\"Classification Report - Training Set:\")\n",
        "print(classification_report(y_train, y_pred_train))\n",
        "\n",
        "print(\"Classification Report - Test Set:\")\n",
        "print(classification_report(y_test, y_pred_test))"
      ],
      "metadata": {
        "id": "tEOwmxFROH5f",
        "colab": {
          "base_uri": "https://localhost:8080/"
        },
        "outputId": "d707079f-ef8f-477b-ca41-7165fa9d6c7d"
      },
      "id": "tEOwmxFROH5f",
      "execution_count": 71,
      "outputs": [
        {
          "output_type": "stream",
          "name": "stdout",
          "text": [
            "0:\tlearn: 1.8436609\ttest: 1.8438629\tbest: 1.8438629 (0)\ttotal: 14.1ms\tremaining: 2.81s\n",
            "10:\tlearn: 0.8913803\ttest: 0.8947009\tbest: 0.8947009 (10)\ttotal: 243ms\tremaining: 4.17s\n",
            "20:\tlearn: 0.5512892\ttest: 0.5555365\tbest: 0.5555365 (20)\ttotal: 612ms\tremaining: 5.22s\n",
            "30:\tlearn: 0.3753094\ttest: 0.3794830\tbest: 0.3794830 (30)\ttotal: 1.03s\tremaining: 5.62s\n",
            "40:\tlearn: 0.2691043\ttest: 0.2747684\tbest: 0.2747684 (40)\ttotal: 1.36s\tremaining: 5.26s\n",
            "50:\tlearn: 0.2109557\ttest: 0.2191331\tbest: 0.2191331 (50)\ttotal: 1.75s\tremaining: 5.1s\n",
            "60:\tlearn: 0.1705298\ttest: 0.1802831\tbest: 0.1802831 (60)\ttotal: 2.07s\tremaining: 4.72s\n",
            "70:\tlearn: 0.1467970\ttest: 0.1591209\tbest: 0.1591209 (70)\ttotal: 2.58s\tremaining: 4.69s\n",
            "80:\tlearn: 0.1286880\ttest: 0.1430023\tbest: 0.1430023 (80)\ttotal: 3.31s\tremaining: 4.87s\n",
            "90:\tlearn: 0.1180886\ttest: 0.1350468\tbest: 0.1350468 (90)\ttotal: 4.29s\tremaining: 5.14s\n",
            "100:\tlearn: 0.1081820\ttest: 0.1272967\tbest: 0.1272967 (100)\ttotal: 5.21s\tremaining: 5.11s\n",
            "110:\tlearn: 0.1013993\ttest: 0.1225181\tbest: 0.1225181 (110)\ttotal: 5.97s\tremaining: 4.79s\n",
            "120:\tlearn: 0.0959573\ttest: 0.1183368\tbest: 0.1183368 (120)\ttotal: 6.6s\tremaining: 4.31s\n",
            "130:\tlearn: 0.0912105\ttest: 0.1162782\tbest: 0.1162782 (130)\ttotal: 7.43s\tremaining: 3.92s\n",
            "140:\tlearn: 0.0866305\ttest: 0.1136639\tbest: 0.1136639 (140)\ttotal: 8.22s\tremaining: 3.44s\n",
            "150:\tlearn: 0.0821554\ttest: 0.1111938\tbest: 0.1111938 (150)\ttotal: 8.79s\tremaining: 2.85s\n",
            "160:\tlearn: 0.0783046\ttest: 0.1087184\tbest: 0.1087184 (160)\ttotal: 9.3s\tremaining: 2.25s\n",
            "170:\tlearn: 0.0751795\ttest: 0.1073561\tbest: 0.1073561 (170)\ttotal: 9.71s\tremaining: 1.65s\n",
            "180:\tlearn: 0.0729032\ttest: 0.1064707\tbest: 0.1064230 (179)\ttotal: 10.2s\tremaining: 1.07s\n",
            "190:\tlearn: 0.0701320\ttest: 0.1054533\tbest: 0.1054533 (190)\ttotal: 10.7s\tremaining: 506ms\n",
            "199:\tlearn: 0.0678863\ttest: 0.1044541\tbest: 0.1043465 (198)\ttotal: 11.2s\tremaining: 0us\n",
            "\n",
            "bestTest = 0.1043464878\n",
            "bestIteration = 198\n",
            "\n",
            "Shrink model to first 199 iterations.\n",
            "Train Accuracy : 0.984884645982498\n",
            "Test Accuracy : 0.9777777777777777\n",
            "Classification Report - Training Set:\n",
            "                       precision    recall  f1-score   support\n",
            "\n",
            "  Noise_Signal_Normal       1.00      0.99      1.00       143\n",
            "Noise_Signal_inner_07       1.00      0.99      1.00       164\n",
            "Noise_Signal_inner_09       0.99      1.00      1.00       173\n",
            "Noise_Signal_inner_13       0.95      0.98      0.97       159\n",
            "Noise_Signal_inner_17       1.00      0.98      0.99       152\n",
            "noise_signal_outer_09       0.99      0.96      0.98       156\n",
            "noise_signal_outer_13       0.96      0.97      0.97       150\n",
            "noise_signal_outer_17       0.98      0.99      0.99       160\n",
            "\n",
            "             accuracy                           0.98      1257\n",
            "            macro avg       0.99      0.98      0.98      1257\n",
            "         weighted avg       0.99      0.98      0.98      1257\n",
            "\n",
            "Classification Report - Test Set:\n",
            "                       precision    recall  f1-score   support\n",
            "\n",
            "  Noise_Signal_Normal       1.00      1.00      1.00        31\n",
            "Noise_Signal_inner_07       1.00      1.00      1.00        35\n",
            "Noise_Signal_inner_09       1.00      1.00      1.00        47\n",
            "Noise_Signal_inner_13       0.95      0.97      0.96        39\n",
            "Noise_Signal_inner_17       1.00      0.98      0.99        48\n",
            "noise_signal_outer_09       0.98      0.98      0.98        42\n",
            "noise_signal_outer_13       0.89      0.86      0.88        29\n",
            "noise_signal_outer_17       0.98      1.00      0.99        44\n",
            "\n",
            "             accuracy                           0.98       315\n",
            "            macro avg       0.97      0.97      0.97       315\n",
            "         weighted avg       0.98      0.98      0.98       315\n",
            "\n"
          ]
        }
      ]
    }
  ],
  "metadata": {
    "kernelspec": {
      "display_name": "Python 3",
      "name": "python3"
    },
    "language_info": {
      "codemirror_mode": {
        "name": "ipython",
        "version": 3
      },
      "file_extension": ".py",
      "mimetype": "text/x-python",
      "name": "python",
      "nbconvert_exporter": "python",
      "pygments_lexer": "ipython3",
      "version": "3.11.2"
    },
    "colab": {
      "provenance": [],
      "gpuType": "T4",
      "include_colab_link": true
    },
    "accelerator": "GPU",
    "widgets": {
      "application/vnd.jupyter.widget-state+json": {
        "3c86ce8310d5441a9bff2a9983dea58a": {
          "model_module": "catboost-widget",
          "model_name": "CatboostWidgetModel",
          "model_module_version": "^1.0.0",
          "state": {
            "_dom_classes": [],
            "_model_module": "catboost-widget",
            "_model_module_version": "^1.0.0",
            "_model_name": "CatboostWidgetModel",
            "_view_count": null,
            "_view_module": "catboost-widget",
            "_view_module_version": "^1.0.0",
            "_view_name": "CatboostWidgetView",
            "data": {
              "catboost_info": {
                "path": "catboost_info",
                "name": "catboost_info",
                "content": {
                  "passed_iterations": 199,
                  "total_iterations": 200,
                  "data": {
                    "iterations": [
                      {
                        "learn": [
                          1.843660895
                        ],
                        "iteration": 0,
                        "passed_time": 0.02060006039,
                        "remaining_time": 4.099412018,
                        "test": [
                          1.843862906
                        ]
                      },
                      {
                        "learn": [
                          1.654911222
                        ],
                        "iteration": 1,
                        "passed_time": 0.04272940231,
                        "remaining_time": 4.230210829,
                        "test": [
                          1.656243816
                        ]
                      },
                      {
                        "learn": [
                          1.504030198
                        ],
                        "iteration": 2,
                        "passed_time": 0.06236027138,
                        "remaining_time": 4.094991154,
                        "test": [
                          1.508464799
                        ]
                      },
                      {
                        "learn": [
                          1.381372288
                        ],
                        "iteration": 3,
                        "passed_time": 0.07843417077,
                        "remaining_time": 3.843274368,
                        "test": [
                          1.383994018
                        ]
                      },
                      {
                        "learn": [
                          1.287415291
                        ],
                        "iteration": 4,
                        "passed_time": 0.09174118762,
                        "remaining_time": 3.577906317,
                        "test": [
                          1.289121216
                        ]
                      },
                      {
                        "learn": [
                          1.205775654
                        ],
                        "iteration": 5,
                        "passed_time": 0.1061332113,
                        "remaining_time": 3.4316405,
                        "test": [
                          1.207862177
                        ]
                      },
                      {
                        "learn": [
                          1.12670596
                        ],
                        "iteration": 6,
                        "passed_time": 0.1198163958,
                        "remaining_time": 3.3035092,
                        "test": [
                          1.128884036
                        ]
                      },
                      {
                        "learn": [
                          1.056468562
                        ],
                        "iteration": 7,
                        "passed_time": 0.1333756323,
                        "remaining_time": 3.201015174,
                        "test": [
                          1.059133831
                        ]
                      },
                      {
                        "learn": [
                          1.003610767
                        ],
                        "iteration": 8,
                        "passed_time": 0.1468171012,
                        "remaining_time": 3.115785148,
                        "test": [
                          1.006951287
                        ]
                      },
                      {
                        "learn": [
                          0.940842282
                        ],
                        "iteration": 9,
                        "passed_time": 0.1618573424,
                        "remaining_time": 3.075289506,
                        "test": [
                          0.9433030482
                        ]
                      },
                      {
                        "learn": [
                          0.8913803299
                        ],
                        "iteration": 10,
                        "passed_time": 0.1789457957,
                        "remaining_time": 3.074614126,
                        "test": [
                          0.8947009231
                        ]
                      },
                      {
                        "learn": [
                          0.8451523868
                        ],
                        "iteration": 11,
                        "passed_time": 0.193233282,
                        "remaining_time": 3.027321418,
                        "test": [
                          0.8482367963
                        ]
                      },
                      {
                        "learn": [
                          0.804001562
                        ],
                        "iteration": 12,
                        "passed_time": 0.208917876,
                        "remaining_time": 3.005203293,
                        "test": [
                          0.8066345258
                        ]
                      },
                      {
                        "learn": [
                          0.7668359572
                        ],
                        "iteration": 13,
                        "passed_time": 0.2243930897,
                        "remaining_time": 2.981222477,
                        "test": [
                          0.7713598887
                        ]
                      },
                      {
                        "learn": [
                          0.730692533
                        ],
                        "iteration": 14,
                        "passed_time": 0.2385051506,
                        "remaining_time": 2.941563524,
                        "test": [
                          0.7349666898
                        ]
                      },
                      {
                        "learn": [
                          0.6928035032
                        ],
                        "iteration": 15,
                        "passed_time": 0.254902923,
                        "remaining_time": 2.931383614,
                        "test": [
                          0.6961068774
                        ]
                      },
                      {
                        "learn": [
                          0.6615968858
                        ],
                        "iteration": 16,
                        "passed_time": 0.2689948027,
                        "remaining_time": 2.895649935,
                        "test": [
                          0.6658074296
                        ]
                      },
                      {
                        "learn": [
                          0.6326977163
                        ],
                        "iteration": 17,
                        "passed_time": 0.2828950673,
                        "remaining_time": 2.860383458,
                        "test": [
                          0.6379747492
                        ]
                      },
                      {
                        "learn": [
                          0.6056265595
                        ],
                        "iteration": 18,
                        "passed_time": 0.2965809424,
                        "remaining_time": 2.825323714,
                        "test": [
                          0.6106888516
                        ]
                      },
                      {
                        "learn": [
                          0.5773928247
                        ],
                        "iteration": 19,
                        "passed_time": 0.3101029124,
                        "remaining_time": 2.790926212,
                        "test": [
                          0.5815810018
                        ]
                      },
                      {
                        "learn": [
                          0.5512892023
                        ],
                        "iteration": 20,
                        "passed_time": 0.3241173389,
                        "remaining_time": 2.76271446,
                        "test": [
                          0.5555365092
                        ]
                      },
                      {
                        "learn": [
                          0.5291183947
                        ],
                        "iteration": 21,
                        "passed_time": 0.3387446084,
                        "remaining_time": 2.740751831,
                        "test": [
                          0.533364458
                        ]
                      },
                      {
                        "learn": [
                          0.5087760275
                        ],
                        "iteration": 22,
                        "passed_time": 0.3533335815,
                        "remaining_time": 2.719132344,
                        "test": [
                          0.5126967303
                        ]
                      },
                      {
                        "learn": [
                          0.4894776956
                        ],
                        "iteration": 23,
                        "passed_time": 0.3675589033,
                        "remaining_time": 2.695431957,
                        "test": [
                          0.4933291862
                        ]
                      },
                      {
                        "learn": [
                          0.4689620428
                        ],
                        "iteration": 24,
                        "passed_time": 0.3828912741,
                        "remaining_time": 2.680238919,
                        "test": [
                          0.472650583
                        ]
                      },
                      {
                        "learn": [
                          0.4497227874
                        ],
                        "iteration": 25,
                        "passed_time": 0.3986596993,
                        "remaining_time": 2.667953372,
                        "test": [
                          0.453353701
                        ]
                      },
                      {
                        "learn": [
                          0.4343672671
                        ],
                        "iteration": 26,
                        "passed_time": 0.4140472835,
                        "remaining_time": 2.652969631,
                        "test": [
                          0.4382435915
                        ]
                      },
                      {
                        "learn": [
                          0.4172398002
                        ],
                        "iteration": 27,
                        "passed_time": 0.4307957104,
                        "remaining_time": 2.646316506,
                        "test": [
                          0.4208928863
                        ]
                      },
                      {
                        "learn": [
                          0.4034425969
                        ],
                        "iteration": 28,
                        "passed_time": 0.444001909,
                        "remaining_time": 2.618080222,
                        "test": [
                          0.4073358392
                        ]
                      },
                      {
                        "learn": [
                          0.3881022291
                        ],
                        "iteration": 29,
                        "passed_time": 0.4575020706,
                        "remaining_time": 2.592511733,
                        "test": [
                          0.3922819253
                        ]
                      },
                      {
                        "learn": [
                          0.3753094388
                        ],
                        "iteration": 30,
                        "passed_time": 0.4709156117,
                        "remaining_time": 2.567249625,
                        "test": [
                          0.3794830029
                        ]
                      },
                      {
                        "learn": [
                          0.3614847372
                        ],
                        "iteration": 31,
                        "passed_time": 0.4845393927,
                        "remaining_time": 2.543831812,
                        "test": [
                          0.365818481
                        ]
                      },
                      {
                        "learn": [
                          0.3492312005
                        ],
                        "iteration": 32,
                        "passed_time": 0.4983300975,
                        "remaining_time": 2.521852311,
                        "test": [
                          0.3541314379
                        ]
                      },
                      {
                        "learn": [
                          0.3381503076
                        ],
                        "iteration": 33,
                        "passed_time": 0.5124003823,
                        "remaining_time": 2.501719514,
                        "test": [
                          0.3436605626
                        ]
                      },
                      {
                        "learn": [
                          0.3268440211
                        ],
                        "iteration": 34,
                        "passed_time": 0.5288885303,
                        "remaining_time": 2.493331643,
                        "test": [
                          0.3326773261
                        ]
                      },
                      {
                        "learn": [
                          0.3157836648
                        ],
                        "iteration": 35,
                        "passed_time": 0.5423331798,
                        "remaining_time": 2.47062893,
                        "test": [
                          0.321642568
                        ]
                      },
                      {
                        "learn": [
                          0.3054974478
                        ],
                        "iteration": 36,
                        "passed_time": 0.5602688123,
                        "remaining_time": 2.468211254,
                        "test": [
                          0.3113456721
                        ]
                      },
                      {
                        "learn": [
                          0.2955673854
                        ],
                        "iteration": 37,
                        "passed_time": 0.5743881189,
                        "remaining_time": 2.448707244,
                        "test": [
                          0.3009436162
                        ]
                      },
                      {
                        "learn": [
                          0.2868559982
                        ],
                        "iteration": 38,
                        "passed_time": 0.5878333957,
                        "remaining_time": 2.426696839,
                        "test": [
                          0.2921223458
                        ]
                      },
                      {
                        "learn": [
                          0.2779213059
                        ],
                        "iteration": 39,
                        "passed_time": 0.6010739902,
                        "remaining_time": 2.404295961,
                        "test": [
                          0.2832717469
                        ]
                      },
                      {
                        "learn": [
                          0.2691042534
                        ],
                        "iteration": 40,
                        "passed_time": 0.614377206,
                        "remaining_time": 2.382584774,
                        "test": [
                          0.2747683598
                        ]
                      },
                      {
                        "learn": [
                          0.2631953804
                        ],
                        "iteration": 41,
                        "passed_time": 0.6311501165,
                        "remaining_time": 2.374326629,
                        "test": [
                          0.2692314031
                        ]
                      },
                      {
                        "learn": [
                          0.2561276932
                        ],
                        "iteration": 42,
                        "passed_time": 0.6447435246,
                        "remaining_time": 2.354063567,
                        "test": [
                          0.2623260807
                        ]
                      },
                      {
                        "learn": [
                          0.249903676
                        ],
                        "iteration": 43,
                        "passed_time": 0.6592314972,
                        "remaining_time": 2.337275308,
                        "test": [
                          0.2567484767
                        ]
                      },
                      {
                        "learn": [
                          0.2430732197
                        ],
                        "iteration": 44,
                        "passed_time": 0.6738621014,
                        "remaining_time": 2.321080571,
                        "test": [
                          0.2496182246
                        ]
                      },
                      {
                        "learn": [
                          0.2361493823
                        ],
                        "iteration": 45,
                        "passed_time": 0.6872980215,
                        "remaining_time": 2.300954246,
                        "test": [
                          0.2431391148
                        ]
                      },
                      {
                        "learn": [
                          0.2300544174
                        ],
                        "iteration": 46,
                        "passed_time": 0.7014179931,
                        "remaining_time": 2.283339424,
                        "test": [
                          0.2372586241
                        ]
                      },
                      {
                        "learn": [
                          0.2246645189
                        ],
                        "iteration": 47,
                        "passed_time": 0.7154907162,
                        "remaining_time": 2.265720601,
                        "test": [
                          0.2318227016
                        ]
                      },
                      {
                        "learn": [
                          0.2196422445
                        ],
                        "iteration": 48,
                        "passed_time": 0.7291432606,
                        "remaining_time": 2.246951681,
                        "test": [
                          0.226947567
                        ]
                      },
                      {
                        "learn": [
                          0.2152048811
                        ],
                        "iteration": 49,
                        "passed_time": 0.7424990151,
                        "remaining_time": 2.227497045,
                        "test": [
                          0.223087418
                        ]
                      },
                      {
                        "learn": [
                          0.210955667
                        ],
                        "iteration": 50,
                        "passed_time": 0.7563259748,
                        "remaining_time": 2.20965824,
                        "test": [
                          0.2191330976
                        ]
                      },
                      {
                        "learn": [
                          0.2062745116
                        ],
                        "iteration": 51,
                        "passed_time": 0.7698941979,
                        "remaining_time": 2.191237332,
                        "test": [
                          0.2148174942
                        ]
                      },
                      {
                        "learn": [
                          0.2009350789
                        ],
                        "iteration": 52,
                        "passed_time": 0.7835905306,
                        "remaining_time": 2.173354868,
                        "test": [
                          0.2094163169
                        ]
                      },
                      {
                        "learn": [
                          0.1970294135
                        ],
                        "iteration": 53,
                        "passed_time": 0.7972609587,
                        "remaining_time": 2.155557407,
                        "test": [
                          0.2053712434
                        ]
                      },
                      {
                        "learn": [
                          0.1924352887
                        ],
                        "iteration": 54,
                        "passed_time": 0.8106078343,
                        "remaining_time": 2.137057018,
                        "test": [
                          0.2010896029
                        ]
                      },
                      {
                        "learn": [
                          0.1886231962
                        ],
                        "iteration": 55,
                        "passed_time": 0.8291073107,
                        "remaining_time": 2.131990228,
                        "test": [
                          0.1975519175
                        ]
                      },
                      {
                        "learn": [
                          0.1843895817
                        ],
                        "iteration": 56,
                        "passed_time": 0.8430093163,
                        "remaining_time": 2.114918109,
                        "test": [
                          0.1934916808
                        ]
                      },
                      {
                        "learn": [
                          0.1807942316
                        ],
                        "iteration": 57,
                        "passed_time": 0.857544377,
                        "remaining_time": 2.099505199,
                        "test": [
                          0.1900133047
                        ]
                      },
                      {
                        "learn": [
                          0.1767741411
                        ],
                        "iteration": 58,
                        "passed_time": 0.8722087851,
                        "remaining_time": 2.084431164,
                        "test": [
                          0.1863012964
                        ]
                      },
                      {
                        "learn": [
                          0.1736444473
                        ],
                        "iteration": 59,
                        "passed_time": 0.8859548146,
                        "remaining_time": 2.067227901,
                        "test": [
                          0.1830863461
                        ]
                      },
                      {
                        "learn": [
                          0.1705298083
                        ],
                        "iteration": 60,
                        "passed_time": 0.8995673911,
                        "remaining_time": 2.049833891,
                        "test": [
                          0.1802831077
                        ]
                      },
                      {
                        "learn": [
                          0.1676545419
                        ],
                        "iteration": 61,
                        "passed_time": 0.913591947,
                        "remaining_time": 2.03347885,
                        "test": [
                          0.1775946283
                        ]
                      },
                      {
                        "learn": [
                          0.1651391654
                        ],
                        "iteration": 62,
                        "passed_time": 0.927482274,
                        "remaining_time": 2.016905897,
                        "test": [
                          0.1750337364
                        ]
                      },
                      {
                        "learn": [
                          0.1622966039
                        ],
                        "iteration": 63,
                        "passed_time": 0.940946307,
                        "remaining_time": 1.999510902,
                        "test": [
                          0.1727747131
                        ]
                      },
                      {
                        "learn": [
                          0.1606017982
                        ],
                        "iteration": 64,
                        "passed_time": 0.9576876213,
                        "remaining_time": 1.989043521,
                        "test": [
                          0.1711935311
                        ]
                      },
                      {
                        "learn": [
                          0.1585449364
                        ],
                        "iteration": 65,
                        "passed_time": 0.9714775965,
                        "remaining_time": 1.972393908,
                        "test": [
                          0.1694706456
                        ]
                      },
                      {
                        "learn": [
                          0.1559937508
                        ],
                        "iteration": 66,
                        "passed_time": 0.9854958609,
                        "remaining_time": 1.956282828,
                        "test": [
                          0.1671358869
                        ]
                      },
                      {
                        "learn": [
                          0.1539915582
                        ],
                        "iteration": 67,
                        "passed_time": 1.00405181,
                        "remaining_time": 1.949041749,
                        "test": [
                          0.1656013752
                        ]
                      },
                      {
                        "learn": [
                          0.1515559373
                        ],
                        "iteration": 68,
                        "passed_time": 1.024219573,
                        "remaining_time": 1.944532813,
                        "test": [
                          0.1632339469
                        ]
                      },
                      {
                        "learn": [
                          0.1491710073
                        ],
                        "iteration": 69,
                        "passed_time": 1.037623149,
                        "remaining_time": 1.927014419,
                        "test": [
                          0.161071957
                        ]
                      },
                      {
                        "learn": [
                          0.1467969772
                        ],
                        "iteration": 70,
                        "passed_time": 1.051956892,
                        "remaining_time": 1.911301959,
                        "test": [
                          0.1591209093
                        ]
                      },
                      {
                        "learn": [
                          0.1446740057
                        ],
                        "iteration": 71,
                        "passed_time": 1.072242953,
                        "remaining_time": 1.906209694,
                        "test": [
                          0.1570198317
                        ]
                      },
                      {
                        "learn": [
                          0.1424567828
                        ],
                        "iteration": 72,
                        "passed_time": 1.090248597,
                        "remaining_time": 1.89673386,
                        "test": [
                          0.1548204665
                        ]
                      },
                      {
                        "learn": [
                          0.14042117
                        ],
                        "iteration": 73,
                        "passed_time": 1.118061704,
                        "remaining_time": 1.903726685,
                        "test": [
                          0.1527979216
                        ]
                      },
                      {
                        "learn": [
                          0.1389968992
                        ],
                        "iteration": 74,
                        "passed_time": 1.131891378,
                        "remaining_time": 1.88648563,
                        "test": [
                          0.1516647787
                        ]
                      },
                      {
                        "learn": [
                          0.1372339454
                        ],
                        "iteration": 75,
                        "passed_time": 1.146361781,
                        "remaining_time": 1.870379747,
                        "test": [
                          0.1499494317
                        ]
                      },
                      {
                        "learn": [
                          0.135315657
                        ],
                        "iteration": 76,
                        "passed_time": 1.159651837,
                        "remaining_time": 1.852430857,
                        "test": [
                          0.1484621071
                        ]
                      },
                      {
                        "learn": [
                          0.1334958752
                        ],
                        "iteration": 77,
                        "passed_time": 1.173184234,
                        "remaining_time": 1.834980469,
                        "test": [
                          0.14710623
                        ]
                      },
                      {
                        "learn": [
                          0.131947426
                        ],
                        "iteration": 78,
                        "passed_time": 1.18745432,
                        "remaining_time": 1.818759149,
                        "test": [
                          0.1459479201
                        ]
                      },
                      {
                        "learn": [
                          0.1302844421
                        ],
                        "iteration": 79,
                        "passed_time": 1.20133616,
                        "remaining_time": 1.80200424,
                        "test": [
                          0.1442448357
                        ]
                      },
                      {
                        "learn": [
                          0.128687977
                        ],
                        "iteration": 80,
                        "passed_time": 1.214634231,
                        "remaining_time": 1.784462635,
                        "test": [
                          0.1430022775
                        ]
                      },
                      {
                        "learn": [
                          0.1277962284
                        ],
                        "iteration": 81,
                        "passed_time": 1.229056885,
                        "remaining_time": 1.768642834,
                        "test": [
                          0.1425658784
                        ]
                      },
                      {
                        "learn": [
                          0.1268276983
                        ],
                        "iteration": 82,
                        "passed_time": 1.242510808,
                        "remaining_time": 1.751491139,
                        "test": [
                          0.141948071
                        ]
                      },
                      {
                        "learn": [
                          0.1256390654
                        ],
                        "iteration": 83,
                        "passed_time": 1.256143689,
                        "remaining_time": 1.734674618,
                        "test": [
                          0.1410829174
                        ]
                      },
                      {
                        "learn": [
                          0.1245798394
                        ],
                        "iteration": 84,
                        "passed_time": 1.269714488,
                        "remaining_time": 1.717849013,
                        "test": [
                          0.1399067398
                        ]
                      },
                      {
                        "learn": [
                          0.1234248618
                        ],
                        "iteration": 85,
                        "passed_time": 1.285839404,
                        "remaining_time": 1.704484791,
                        "test": [
                          0.1392906324
                        ]
                      },
                      {
                        "learn": [
                          0.1222074718
                        ],
                        "iteration": 86,
                        "passed_time": 1.299769389,
                        "remaining_time": 1.688206218,
                        "test": [
                          0.1383321228
                        ]
                      },
                      {
                        "learn": [
                          0.1209646223
                        ],
                        "iteration": 87,
                        "passed_time": 1.313465342,
                        "remaining_time": 1.671683163,
                        "test": [
                          0.1374795858
                        ]
                      },
                      {
                        "learn": [
                          0.1201991188
                        ],
                        "iteration": 88,
                        "passed_time": 1.327216611,
                        "remaining_time": 1.655292627,
                        "test": [
                          0.1370297612
                        ]
                      },
                      {
                        "learn": [
                          0.1190656022
                        ],
                        "iteration": 89,
                        "passed_time": 1.342493885,
                        "remaining_time": 1.640825859,
                        "test": [
                          0.1360340313
                        ]
                      },
                      {
                        "learn": [
                          0.1180886361
                        ],
                        "iteration": 90,
                        "passed_time": 1.358643693,
                        "remaining_time": 1.627386402,
                        "test": [
                          0.135046836
                        ]
                      },
                      {
                        "learn": [
                          0.1169615807
                        ],
                        "iteration": 91,
                        "passed_time": 1.375055495,
                        "remaining_time": 1.614195582,
                        "test": [
                          0.1341735978
                        ]
                      },
                      {
                        "learn": [
                          0.1158326879
                        ],
                        "iteration": 92,
                        "passed_time": 1.392328091,
                        "remaining_time": 1.601925868,
                        "test": [
                          0.1332240873
                        ]
                      },
                      {
                        "learn": [
                          0.1144786279
                        ],
                        "iteration": 93,
                        "passed_time": 1.411826236,
                        "remaining_time": 1.592059372,
                        "test": [
                          0.1322331575
                        ]
                      },
                      {
                        "learn": [
                          0.1131993653
                        ],
                        "iteration": 94,
                        "passed_time": 1.429576691,
                        "remaining_time": 1.580058448,
                        "test": [
                          0.1312682818
                        ]
                      },
                      {
                        "learn": [
                          0.1124602425
                        ],
                        "iteration": 95,
                        "passed_time": 1.443460693,
                        "remaining_time": 1.563749084,
                        "test": [
                          0.1308143203
                        ]
                      },
                      {
                        "learn": [
                          0.1116790456
                        ],
                        "iteration": 96,
                        "passed_time": 1.457201895,
                        "remaining_time": 1.547338094,
                        "test": [
                          0.1301267898
                        ]
                      },
                      {
                        "learn": [
                          0.1109353589
                        ],
                        "iteration": 97,
                        "passed_time": 1.471353987,
                        "remaining_time": 1.531409252,
                        "test": [
                          0.1295060858
                        ]
                      },
                      {
                        "learn": [
                          0.1100133937
                        ],
                        "iteration": 98,
                        "passed_time": 1.485547543,
                        "remaining_time": 1.515558604,
                        "test": [
                          0.1287992914
                        ]
                      },
                      {
                        "learn": [
                          0.1095035807
                        ],
                        "iteration": 99,
                        "passed_time": 1.499168635,
                        "remaining_time": 1.499168635,
                        "test": [
                          0.1285725794
                        ]
                      },
                      {
                        "learn": [
                          0.1081820363
                        ],
                        "iteration": 100,
                        "passed_time": 1.514916174,
                        "remaining_time": 1.484917834,
                        "test": [
                          0.1272967365
                        ]
                      },
                      {
                        "learn": [
                          0.1074067735
                        ],
                        "iteration": 101,
                        "passed_time": 1.528285467,
                        "remaining_time": 1.468352703,
                        "test": [
                          0.1268024742
                        ]
                      },
                      {
                        "learn": [
                          0.1065116594
                        ],
                        "iteration": 102,
                        "passed_time": 1.54446608,
                        "remaining_time": 1.454497182,
                        "test": [
                          0.1259138637
                        ]
                      },
                      {
                        "learn": [
                          0.1056186489
                        ],
                        "iteration": 103,
                        "passed_time": 1.558093359,
                        "remaining_time": 1.438240024,
                        "test": [
                          0.1252301863
                        ]
                      },
                      {
                        "learn": [
                          0.1047588705
                        ],
                        "iteration": 104,
                        "passed_time": 1.571739006,
                        "remaining_time": 1.422049576,
                        "test": [
                          0.1245164985
                        ]
                      },
                      {
                        "learn": [
                          0.1041224316
                        ],
                        "iteration": 105,
                        "passed_time": 1.585029348,
                        "remaining_time": 1.405592063,
                        "test": [
                          0.1241518335
                        ]
                      },
                      {
                        "learn": [
                          0.1037108041
                        ],
                        "iteration": 106,
                        "passed_time": 1.599512746,
                        "remaining_time": 1.390230705,
                        "test": [
                          0.1240217544
                        ]
                      },
                      {
                        "learn": [
                          0.1030161536
                        ],
                        "iteration": 107,
                        "passed_time": 1.615100592,
                        "remaining_time": 1.37582643,
                        "test": [
                          0.123502224
                        ]
                      },
                      {
                        "learn": [
                          0.1027740054
                        ],
                        "iteration": 108,
                        "passed_time": 1.629694955,
                        "remaining_time": 1.360571017,
                        "test": [
                          0.1233161632
                        ]
                      },
                      {
                        "learn": [
                          0.10231338
                        ],
                        "iteration": 109,
                        "passed_time": 1.644421326,
                        "remaining_time": 1.34543563,
                        "test": [
                          0.1231868854
                        ]
                      },
                      {
                        "learn": [
                          0.1013992603
                        ],
                        "iteration": 110,
                        "passed_time": 1.657557318,
                        "remaining_time": 1.329032444,
                        "test": [
                          0.1225181365
                        ]
                      },
                      {
                        "learn": [
                          0.1009486272
                        ],
                        "iteration": 111,
                        "passed_time": 1.671562498,
                        "remaining_time": 1.313370534,
                        "test": [
                          0.122195523
                        ]
                      },
                      {
                        "learn": [
                          0.1006388606
                        ],
                        "iteration": 112,
                        "passed_time": 1.688161727,
                        "remaining_time": 1.299735135,
                        "test": [
                          0.1219582441
                        ]
                      },
                      {
                        "learn": [
                          0.1000474756
                        ],
                        "iteration": 113,
                        "passed_time": 1.705374416,
                        "remaining_time": 1.286510524,
                        "test": [
                          0.1218164151
                        ]
                      },
                      {
                        "learn": [
                          0.09958371424
                        ],
                        "iteration": 114,
                        "passed_time": 1.723133618,
                        "remaining_time": 1.2736205,
                        "test": [
                          0.1213512429
                        ]
                      },
                      {
                        "learn": [
                          0.09884557072
                        ],
                        "iteration": 115,
                        "passed_time": 1.738838949,
                        "remaining_time": 1.259159239,
                        "test": [
                          0.1206014216
                        ]
                      },
                      {
                        "learn": [
                          0.09849362552
                        ],
                        "iteration": 116,
                        "passed_time": 1.754143568,
                        "remaining_time": 1.244392446,
                        "test": [
                          0.1204316776
                        ]
                      },
                      {
                        "learn": [
                          0.09775965052
                        ],
                        "iteration": 117,
                        "passed_time": 1.768623686,
                        "remaining_time": 1.229043578,
                        "test": [
                          0.1198255857
                        ]
                      },
                      {
                        "learn": [
                          0.09752445826
                        ],
                        "iteration": 118,
                        "passed_time": 1.783589451,
                        "remaining_time": 1.214039878,
                        "test": [
                          0.1196142672
                        ]
                      },
                      {
                        "learn": [
                          0.09681368855
                        ],
                        "iteration": 119,
                        "passed_time": 1.798485781,
                        "remaining_time": 1.19899052,
                        "test": [
                          0.1190325357
                        ]
                      },
                      {
                        "learn": [
                          0.09595730858
                        ],
                        "iteration": 120,
                        "passed_time": 1.81367579,
                        "remaining_time": 1.184135433,
                        "test": [
                          0.1183367768
                        ]
                      },
                      {
                        "learn": [
                          0.09533992957
                        ],
                        "iteration": 121,
                        "passed_time": 1.828789845,
                        "remaining_time": 1.169226294,
                        "test": [
                          0.1180854202
                        ]
                      },
                      {
                        "learn": [
                          0.09472002411
                        ],
                        "iteration": 122,
                        "passed_time": 1.843209086,
                        "remaining_time": 1.153878859,
                        "test": [
                          0.117726626
                        ]
                      },
                      {
                        "learn": [
                          0.09417134879
                        ],
                        "iteration": 123,
                        "passed_time": 1.85998218,
                        "remaining_time": 1.139989078,
                        "test": [
                          0.1173633084
                        ]
                      },
                      {
                        "learn": [
                          0.09379391901
                        ],
                        "iteration": 124,
                        "passed_time": 1.875935572,
                        "remaining_time": 1.125561343,
                        "test": [
                          0.1173976612
                        ]
                      },
                      {
                        "learn": [
                          0.09329010011
                        ],
                        "iteration": 125,
                        "passed_time": 1.89000556,
                        "remaining_time": 1.110003266,
                        "test": [
                          0.117217573
                        ]
                      },
                      {
                        "learn": [
                          0.09283411126
                        ],
                        "iteration": 126,
                        "passed_time": 1.904922279,
                        "remaining_time": 1.094955326,
                        "test": [
                          0.1171293774
                        ]
                      },
                      {
                        "learn": [
                          0.09252658281
                        ],
                        "iteration": 127,
                        "passed_time": 1.921492347,
                        "remaining_time": 1.080839445,
                        "test": [
                          0.1171583429
                        ]
                      },
                      {
                        "learn": [
                          0.09221162856
                        ],
                        "iteration": 128,
                        "passed_time": 1.937714133,
                        "remaining_time": 1.066493825,
                        "test": [
                          0.117069017
                        ]
                      },
                      {
                        "learn": [
                          0.09158327576
                        ],
                        "iteration": 129,
                        "passed_time": 1.951981885,
                        "remaining_time": 1.051067169,
                        "test": [
                          0.1166558726
                        ]
                      },
                      {
                        "learn": [
                          0.09121053166
                        ],
                        "iteration": 130,
                        "passed_time": 1.967102594,
                        "remaining_time": 1.036107473,
                        "test": [
                          0.1162781758
                        ]
                      },
                      {
                        "learn": [
                          0.0907900192
                        ],
                        "iteration": 131,
                        "passed_time": 1.982044975,
                        "remaining_time": 1.021053472,
                        "test": [
                          0.1159691338
                        ]
                      },
                      {
                        "learn": [
                          0.09020002678
                        ],
                        "iteration": 132,
                        "passed_time": 2.01112155,
                        "remaining_time": 1.013121382,
                        "test": [
                          0.1156038899
                        ]
                      },
                      {
                        "learn": [
                          0.08958193524
                        ],
                        "iteration": 133,
                        "passed_time": 2.029604503,
                        "remaining_time": 0.9996559492,
                        "test": [
                          0.1152280436
                        ]
                      },
                      {
                        "learn": [
                          0.08874703879
                        ],
                        "iteration": 134,
                        "passed_time": 2.042922535,
                        "remaining_time": 0.9836293686,
                        "test": [
                          0.1149616284
                        ]
                      },
                      {
                        "learn": [
                          0.0883499572
                        ],
                        "iteration": 135,
                        "passed_time": 2.056449774,
                        "remaining_time": 0.9677410703,
                        "test": [
                          0.1147758388
                        ]
                      },
                      {
                        "learn": [
                          0.08801998543
                        ],
                        "iteration": 136,
                        "passed_time": 2.070093637,
                        "remaining_time": 0.9519408694,
                        "test": [
                          0.1144842662
                        ]
                      },
                      {
                        "learn": [
                          0.08764641702
                        ],
                        "iteration": 137,
                        "passed_time": 2.084463982,
                        "remaining_time": 0.9364983107,
                        "test": [
                          0.114232245
                        ]
                      },
                      {
                        "learn": [
                          0.08747242514
                        ],
                        "iteration": 138,
                        "passed_time": 2.098278739,
                        "remaining_time": 0.9208273602,
                        "test": [
                          0.1142180995
                        ]
                      },
                      {
                        "learn": [
                          0.08726417718
                        ],
                        "iteration": 139,
                        "passed_time": 2.12994472,
                        "remaining_time": 0.9128334513,
                        "test": [
                          0.1140268341
                        ]
                      },
                      {
                        "learn": [
                          0.08663054042
                        ],
                        "iteration": 140,
                        "passed_time": 2.150938656,
                        "remaining_time": 0.9000381611,
                        "test": [
                          0.1136639126
                        ]
                      },
                      {
                        "learn": [
                          0.08623603717
                        ],
                        "iteration": 141,
                        "passed_time": 2.165686255,
                        "remaining_time": 0.8845760758,
                        "test": [
                          0.1136985914
                        ]
                      },
                      {
                        "learn": [
                          0.08589570731
                        ],
                        "iteration": 142,
                        "passed_time": 2.179134167,
                        "remaining_time": 0.8686059267,
                        "test": [
                          0.113703384
                        ]
                      },
                      {
                        "learn": [
                          0.08543197489
                        ],
                        "iteration": 143,
                        "passed_time": 2.192856983,
                        "remaining_time": 0.8527777158,
                        "test": [
                          0.1131986327
                        ]
                      },
                      {
                        "learn": [
                          0.0849000269
                        ],
                        "iteration": 144,
                        "passed_time": 2.206924419,
                        "remaining_time": 0.8371092624,
                        "test": [
                          0.1129840376
                        ]
                      },
                      {
                        "learn": [
                          0.08438071426
                        ],
                        "iteration": 145,
                        "passed_time": 2.220411601,
                        "remaining_time": 0.8212481262,
                        "test": [
                          0.1125783763
                        ]
                      },
                      {
                        "learn": [
                          0.08389790461
                        ],
                        "iteration": 146,
                        "passed_time": 2.23495264,
                        "remaining_time": 0.805799251,
                        "test": [
                          0.1122721238
                        ]
                      },
                      {
                        "learn": [
                          0.08349181296
                        ],
                        "iteration": 147,
                        "passed_time": 2.248513034,
                        "remaining_time": 0.7900180931,
                        "test": [
                          0.1120916829
                        ]
                      },
                      {
                        "learn": [
                          0.08286698912
                        ],
                        "iteration": 148,
                        "passed_time": 2.261783567,
                        "remaining_time": 0.7741675297,
                        "test": [
                          0.11160531
                        ]
                      },
                      {
                        "learn": [
                          0.08261177398
                        ],
                        "iteration": 149,
                        "passed_time": 2.275057105,
                        "remaining_time": 0.7583523682,
                        "test": [
                          0.1114694775
                        ]
                      },
                      {
                        "learn": [
                          0.08215539164
                        ],
                        "iteration": 150,
                        "passed_time": 2.289781273,
                        "remaining_time": 0.7430416053,
                        "test": [
                          0.1111937641
                        ]
                      },
                      {
                        "learn": [
                          0.08151409505
                        ],
                        "iteration": 151,
                        "passed_time": 2.303427543,
                        "remaining_time": 0.7273981716,
                        "test": [
                          0.1109751573
                        ]
                      },
                      {
                        "learn": [
                          0.08114497719
                        ],
                        "iteration": 152,
                        "passed_time": 2.316954636,
                        "remaining_time": 0.7117442347,
                        "test": [
                          0.1106387039
                        ]
                      },
                      {
                        "learn": [
                          0.08072495882
                        ],
                        "iteration": 153,
                        "passed_time": 2.331892211,
                        "remaining_time": 0.6965392319,
                        "test": [
                          0.1103540438
                        ]
                      },
                      {
                        "learn": [
                          0.08023221898
                        ],
                        "iteration": 154,
                        "passed_time": 2.347598668,
                        "remaining_time": 0.6815609037,
                        "test": [
                          0.1099612481
                        ]
                      },
                      {
                        "learn": [
                          0.07993214593
                        ],
                        "iteration": 155,
                        "passed_time": 2.367375048,
                        "remaining_time": 0.6677211674,
                        "test": [
                          0.1098836642
                        ]
                      },
                      {
                        "learn": [
                          0.07971963392
                        ],
                        "iteration": 156,
                        "passed_time": 2.383761656,
                        "remaining_time": 0.6528773963,
                        "test": [
                          0.1096960059
                        ]
                      },
                      {
                        "learn": [
                          0.07938524747
                        ],
                        "iteration": 157,
                        "passed_time": 2.398709838,
                        "remaining_time": 0.6376317291,
                        "test": [
                          0.1095937698
                        ]
                      },
                      {
                        "learn": [
                          0.07899002126
                        ],
                        "iteration": 158,
                        "passed_time": 2.414895894,
                        "remaining_time": 0.6227090041,
                        "test": [
                          0.1092903256
                        ]
                      },
                      {
                        "learn": [
                          0.07870463427
                        ],
                        "iteration": 159,
                        "passed_time": 2.428246682,
                        "remaining_time": 0.6070616704,
                        "test": [
                          0.1091710492
                        ]
                      },
                      {
                        "learn": [
                          0.07830457377
                        ],
                        "iteration": 160,
                        "passed_time": 2.441946317,
                        "remaining_time": 0.5915273687,
                        "test": [
                          0.1087183827
                        ]
                      },
                      {
                        "learn": [
                          0.07794879093
                        ],
                        "iteration": 161,
                        "passed_time": 2.456197295,
                        "remaining_time": 0.5761450445,
                        "test": [
                          0.1085937354
                        ]
                      },
                      {
                        "learn": [
                          0.07763410327
                        ],
                        "iteration": 162,
                        "passed_time": 2.469275968,
                        "remaining_time": 0.5605104957,
                        "test": [
                          0.1084398983
                        ]
                      },
                      {
                        "learn": [
                          0.07729706223
                        ],
                        "iteration": 163,
                        "passed_time": 2.48304146,
                        "remaining_time": 0.5450578815,
                        "test": [
                          0.1083823794
                        ]
                      },
                      {
                        "learn": [
                          0.0770647689
                        ],
                        "iteration": 164,
                        "passed_time": 2.497533127,
                        "remaining_time": 0.5297797543,
                        "test": [
                          0.108215774
                        ]
                      },
                      {
                        "learn": [
                          0.07675429268
                        ],
                        "iteration": 165,
                        "passed_time": 2.511205236,
                        "remaining_time": 0.5143432411,
                        "test": [
                          0.1082219507
                        ]
                      },
                      {
                        "learn": [
                          0.07645893407
                        ],
                        "iteration": 166,
                        "passed_time": 2.524629903,
                        "remaining_time": 0.498878963,
                        "test": [
                          0.1081127245
                        ]
                      },
                      {
                        "learn": [
                          0.07627139973
                        ],
                        "iteration": 167,
                        "passed_time": 2.540758072,
                        "remaining_time": 0.4839539184,
                        "test": [
                          0.1080950659
                        ]
                      },
                      {
                        "learn": [
                          0.07586309131
                        ],
                        "iteration": 168,
                        "passed_time": 2.554506058,
                        "remaining_time": 0.4685780343,
                        "test": [
                          0.1077255001
                        ]
                      },
                      {
                        "learn": [
                          0.07551995973
                        ],
                        "iteration": 169,
                        "passed_time": 2.568804196,
                        "remaining_time": 0.4533183875,
                        "test": [
                          0.1076504197
                        ]
                      },
                      {
                        "learn": [
                          0.07517947033
                        ],
                        "iteration": 170,
                        "passed_time": 2.582796315,
                        "remaining_time": 0.4380180886,
                        "test": [
                          0.1073560884
                        ]
                      },
                      {
                        "learn": [
                          0.07501664489
                        ],
                        "iteration": 171,
                        "passed_time": 2.596208296,
                        "remaining_time": 0.4226385597,
                        "test": [
                          0.1072614921
                        ]
                      },
                      {
                        "learn": [
                          0.07474910073
                        ],
                        "iteration": 172,
                        "passed_time": 2.611345148,
                        "remaining_time": 0.4075509768,
                        "test": [
                          0.1073116252
                        ]
                      },
                      {
                        "learn": [
                          0.07450344513
                        ],
                        "iteration": 173,
                        "passed_time": 2.625964323,
                        "remaining_time": 0.3923854735,
                        "test": [
                          0.1070870189
                        ]
                      },
                      {
                        "learn": [
                          0.07436224525
                        ],
                        "iteration": 174,
                        "passed_time": 2.639320742,
                        "remaining_time": 0.3770458202,
                        "test": [
                          0.106976013
                        ]
                      },
                      {
                        "learn": [
                          0.07417108736
                        ],
                        "iteration": 175,
                        "passed_time": 2.657692512,
                        "remaining_time": 0.3624126153,
                        "test": [
                          0.1069938116
                        ]
                      },
                      {
                        "learn": [
                          0.07387893869
                        ],
                        "iteration": 176,
                        "passed_time": 2.671222987,
                        "remaining_time": 0.3471080717,
                        "test": [
                          0.1068214484
                        ]
                      },
                      {
                        "learn": [
                          0.07357592169
                        ],
                        "iteration": 177,
                        "passed_time": 2.684906394,
                        "remaining_time": 0.3318423633,
                        "test": [
                          0.1066734067
                        ]
                      },
                      {
                        "learn": [
                          0.07323587056
                        ],
                        "iteration": 178,
                        "passed_time": 2.699298293,
                        "remaining_time": 0.3166774534,
                        "test": [
                          0.1064238172
                        ]
                      },
                      {
                        "learn": [
                          0.07308791926
                        ],
                        "iteration": 179,
                        "passed_time": 2.712448653,
                        "remaining_time": 0.3013831837,
                        "test": [
                          0.1064230307
                        ]
                      },
                      {
                        "learn": [
                          0.07290316538
                        ],
                        "iteration": 180,
                        "passed_time": 2.726223344,
                        "remaining_time": 0.2861781411,
                        "test": [
                          0.106470702
                        ]
                      },
                      {
                        "learn": [
                          0.07271033526
                        ],
                        "iteration": 181,
                        "passed_time": 2.740493599,
                        "remaining_time": 0.2710378285,
                        "test": [
                          0.1063901461
                        ]
                      },
                      {
                        "learn": [
                          0.07237230672
                        ],
                        "iteration": 182,
                        "passed_time": 2.754173496,
                        "remaining_time": 0.2558521827,
                        "test": [
                          0.1062467111
                        ]
                      },
                      {
                        "learn": [
                          0.07205043501
                        ],
                        "iteration": 183,
                        "passed_time": 2.76811236,
                        "remaining_time": 0.2407054226,
                        "test": [
                          0.1061784248
                        ]
                      },
                      {
                        "learn": [
                          0.07179864445
                        ],
                        "iteration": 184,
                        "passed_time": 2.781326725,
                        "remaining_time": 0.2255129777,
                        "test": [
                          0.1060656255
                        ]
                      },
                      {
                        "learn": [
                          0.07159229062
                        ],
                        "iteration": 185,
                        "passed_time": 2.795144602,
                        "remaining_time": 0.2103872281,
                        "test": [
                          0.1061944353
                        ]
                      },
                      {
                        "learn": [
                          0.07139436813
                        ],
                        "iteration": 186,
                        "passed_time": 2.809484414,
                        "remaining_time": 0.1953117507,
                        "test": [
                          0.1061425561
                        ]
                      },
                      {
                        "learn": [
                          0.07108083732
                        ],
                        "iteration": 187,
                        "passed_time": 2.822973626,
                        "remaining_time": 0.1801898059,
                        "test": [
                          0.105880643
                        ]
                      },
                      {
                        "learn": [
                          0.07084449092
                        ],
                        "iteration": 188,
                        "passed_time": 2.836774245,
                        "remaining_time": 0.1651032629,
                        "test": [
                          0.1058085949
                        ]
                      },
                      {
                        "learn": [
                          0.07063063511
                        ],
                        "iteration": 189,
                        "passed_time": 2.850914466,
                        "remaining_time": 0.1500481298,
                        "test": [
                          0.105721052
                        ]
                      },
                      {
                        "learn": [
                          0.07013204504
                        ],
                        "iteration": 190,
                        "passed_time": 2.864793723,
                        "remaining_time": 0.1349902801,
                        "test": [
                          0.1054533431
                        ]
                      },
                      {
                        "learn": [
                          0.06982808531
                        ],
                        "iteration": 191,
                        "passed_time": 2.878355799,
                        "remaining_time": 0.1199314916,
                        "test": [
                          0.1051816837
                        ]
                      },
                      {
                        "learn": [
                          0.06971482058
                        ],
                        "iteration": 192,
                        "passed_time": 2.8916563,
                        "remaining_time": 0.1048787259,
                        "test": [
                          0.1051392667
                        ]
                      },
                      {
                        "learn": [
                          0.06933109239
                        ],
                        "iteration": 193,
                        "passed_time": 2.905370415,
                        "remaining_time": 0.08985681696,
                        "test": [
                          0.1049476845
                        ]
                      },
                      {
                        "learn": [
                          0.0691483455
                        ],
                        "iteration": 194,
                        "passed_time": 2.918564695,
                        "remaining_time": 0.07483499218,
                        "test": [
                          0.1048369579
                        ]
                      },
                      {
                        "learn": [
                          0.06893238235
                        ],
                        "iteration": 195,
                        "passed_time": 2.93642176,
                        "remaining_time": 0.05992697469,
                        "test": [
                          0.1048667486
                        ]
                      },
                      {
                        "learn": [
                          0.06873078822
                        ],
                        "iteration": 196,
                        "passed_time": 2.950031411,
                        "remaining_time": 0.0449243362,
                        "test": [
                          0.1048520653
                        ]
                      },
                      {
                        "learn": [
                          0.06836492622
                        ],
                        "iteration": 197,
                        "passed_time": 2.962943683,
                        "remaining_time": 0.02992872407,
                        "test": [
                          0.1045186832
                        ]
                      },
                      {
                        "learn": [
                          0.06814993913
                        ],
                        "iteration": 198,
                        "passed_time": 2.976697958,
                        "remaining_time": 0.01495828119,
                        "test": [
                          0.1043464878
                        ]
                      },
                      {
                        "learn": [
                          0.06788634283
                        ],
                        "iteration": 199,
                        "passed_time": 2.991153174,
                        "remaining_time": 0,
                        "test": [
                          0.104454136
                        ]
                      }
                    ],
                    "meta": {
                      "test_sets": [
                        "test"
                      ],
                      "test_metrics": [
                        {
                          "best_value": "Min",
                          "name": "MultiClass"
                        }
                      ],
                      "learn_metrics": [
                        {
                          "best_value": "Min",
                          "name": "MultiClass"
                        }
                      ],
                      "launch_mode": "Train",
                      "parameters": "",
                      "iteration_count": 200,
                      "learn_sets": [
                        "learn"
                      ],
                      "name": "experiment"
                    }
                  }
                }
              }
            },
            "layout": "IPY_MODEL_4f7b9446ad444bf2954a169084e379a6"
          }
        }
      }
    }
  },
  "nbformat": 4,
  "nbformat_minor": 5
}