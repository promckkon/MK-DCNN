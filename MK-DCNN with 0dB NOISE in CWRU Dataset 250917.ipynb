{
  "cells": [
    {
      "cell_type": "markdown",
      "metadata": {
        "id": "view-in-github",
        "colab_type": "text"
      },
      "source": [
        "<a href=\"https://colab.research.google.com/github/promckkon/MK-DCNN/blob/main/MK-DCNN%20with%200dB%20NOISE%20in%20CWRU%20Dataset%20250917.ipynb\" target=\"_parent\"><img src=\"https://colab.research.google.com/assets/colab-badge.svg\" alt=\"Open In Colab\"/></a>"
      ]
    },
    {
      "cell_type": "code",
      "source": [
        "from google.colab import drive\n",
        "drive.mount('/content/drive')"
      ],
      "metadata": {
        "colab": {
          "base_uri": "https://localhost:8080/"
        },
        "id": "_JTcgOD9s-GR",
        "outputId": "9c4b6651-c966-406b-e793-e6d3822c6244"
      },
      "id": "_JTcgOD9s-GR",
      "execution_count": 1,
      "outputs": [
        {
          "output_type": "stream",
          "name": "stdout",
          "text": [
            "Drive already mounted at /content/drive; to attempt to forcibly remount, call drive.mount(\"/content/drive\", force_remount=True).\n"
          ]
        }
      ]
    },
    {
      "cell_type": "code",
      "execution_count": 2,
      "id": "1132b641",
      "metadata": {
        "id": "1132b641"
      },
      "outputs": [],
      "source": [
        "import scipy.io\n",
        "import seaborn as sns\n",
        "import numpy as np\n",
        "import pandas as pd\n",
        "import os\n",
        "import matplotlib.pyplot as plt"
      ]
    },
    {
      "cell_type": "markdown",
      "source": [
        "Dataset Input"
      ],
      "metadata": {
        "id": "2haV_hKQQOg-"
      },
      "id": "2haV_hKQQOg-"
    },
    {
      "cell_type": "code",
      "source": [
        "df=pd.DataFrame(columns=['DE_data','fault']) # upload the dataset on googledrive\n",
        "\n",
        "for root, dirs, files in os.walk(\"/content/drive/MyDrive/CWRU_with_NOISE/CWRU_2\", topdown=False):\n",
        "    for file_name in files:\n",
        "        path = os.path.join(root, file_name)\n",
        "        print(path)\n",
        "\n",
        "        mat = scipy.io.loadmat(path)\n",
        "\n",
        "        key_name = list(mat.keys())[3]\n",
        "        DE_data = mat.get(key_name)\n",
        "        fault = np.full((len(DE_data), 1), file_name[:-4])\n",
        "\n",
        "        df_temp = pd.DataFrame({'DE_data':np.ravel(DE_data) , 'fault':np.ravel(fault)})\n",
        "\n",
        "        df = pd.concat([df,df_temp],axis=0)\n",
        "        print(df['fault'].unique())\n",
        "\n",
        "df.to_csv('/content/drive/MyDrive/MK-DCNN CWRU/NOISE_0_faults.csv',index=False)"
      ],
      "metadata": {
        "colab": {
          "base_uri": "https://localhost:8080/"
        },
        "id": "sXzSVyy_ylsF",
        "outputId": "652bf54d-85ee-43ef-baf1-e554067928b3"
      },
      "id": "sXzSVyy_ylsF",
      "execution_count": 3,
      "outputs": [
        {
          "output_type": "stream",
          "name": "stdout",
          "text": [
            "/content/drive/MyDrive/CWRU_with_NOISE/CWRU_2/F1_B007_1_124.mat\n",
            "['F1_B007_1_124']\n",
            "/content/drive/MyDrive/CWRU_with_NOISE/CWRU_2/F2_B014_1_191.mat\n",
            "['F1_B007_1_124' 'F2_B014_1_191']\n",
            "/content/drive/MyDrive/CWRU_with_NOISE/CWRU_2/F3_B021_1_228.mat\n",
            "['F1_B007_1_124' 'F2_B014_1_191' 'F3_B021_1_228']\n",
            "/content/drive/MyDrive/CWRU_with_NOISE/CWRU_2/F4_IR007_1_111.mat\n",
            "['F1_B007_1_124' 'F2_B014_1_191' 'F3_B021_1_228' 'F4_IR007_1_111']\n",
            "/content/drive/MyDrive/CWRU_with_NOISE/CWRU_2/F5_IR014_1_176.mat\n",
            "['F1_B007_1_124' 'F2_B014_1_191' 'F3_B021_1_228' 'F4_IR007_1_111'\n",
            " 'F5_IR014_1_176']\n",
            "/content/drive/MyDrive/CWRU_with_NOISE/CWRU_2/F6_IR021_1_215.mat\n",
            "['F1_B007_1_124' 'F2_B014_1_191' 'F3_B021_1_228' 'F4_IR007_1_111'\n",
            " 'F5_IR014_1_176' 'F6_IR021_1_215']\n",
            "/content/drive/MyDrive/CWRU_with_NOISE/CWRU_2/F7_OR007_6_1_137.mat\n",
            "['F1_B007_1_124' 'F2_B014_1_191' 'F3_B021_1_228' 'F4_IR007_1_111'\n",
            " 'F5_IR014_1_176' 'F6_IR021_1_215' 'F7_OR007_6_1_137']\n",
            "/content/drive/MyDrive/CWRU_with_NOISE/CWRU_2/F8_OR014_6_1_203.mat\n",
            "['F1_B007_1_124' 'F2_B014_1_191' 'F3_B021_1_228' 'F4_IR007_1_111'\n",
            " 'F5_IR014_1_176' 'F6_IR021_1_215' 'F7_OR007_6_1_137' 'F8_OR014_6_1_203']\n",
            "/content/drive/MyDrive/CWRU_with_NOISE/CWRU_2/F9_OR021_6_1_240.mat\n",
            "['F1_B007_1_124' 'F2_B014_1_191' 'F3_B021_1_228' 'F4_IR007_1_111'\n",
            " 'F5_IR014_1_176' 'F6_IR021_1_215' 'F7_OR007_6_1_137' 'F8_OR014_6_1_203'\n",
            " 'F9_OR021_6_1_240']\n",
            "/content/drive/MyDrive/CWRU_with_NOISE/CWRU_2/F0_Normal_1_98.mat\n",
            "['F1_B007_1_124' 'F2_B014_1_191' 'F3_B021_1_228' 'F4_IR007_1_111'\n",
            " 'F5_IR014_1_176' 'F6_IR021_1_215' 'F7_OR007_6_1_137' 'F8_OR014_6_1_203'\n",
            " 'F9_OR021_6_1_240' 'F0_Normal_1_98']\n"
          ]
        }
      ]
    },
    {
      "cell_type": "markdown",
      "source": [
        "# Multi-Kernel Deep 1D-CNN"
      ],
      "metadata": {
        "id": "2d0arbB2knS8"
      },
      "id": "2d0arbB2knS8"
    },
    {
      "cell_type": "code",
      "source": [
        "pip install tensorflow"
      ],
      "metadata": {
        "colab": {
          "base_uri": "https://localhost:8080/"
        },
        "id": "-dsJA9B5YVAW",
        "outputId": "612fa8fe-0295-42e2-f003-bedf1d8eb342"
      },
      "id": "-dsJA9B5YVAW",
      "execution_count": 4,
      "outputs": [
        {
          "output_type": "stream",
          "name": "stdout",
          "text": [
            "Requirement already satisfied: tensorflow in /usr/local/lib/python3.12/dist-packages (2.19.0)\n",
            "Requirement already satisfied: absl-py>=1.0.0 in /usr/local/lib/python3.12/dist-packages (from tensorflow) (1.4.0)\n",
            "Requirement already satisfied: astunparse>=1.6.0 in /usr/local/lib/python3.12/dist-packages (from tensorflow) (1.6.3)\n",
            "Requirement already satisfied: flatbuffers>=24.3.25 in /usr/local/lib/python3.12/dist-packages (from tensorflow) (25.2.10)\n",
            "Requirement already satisfied: gast!=0.5.0,!=0.5.1,!=0.5.2,>=0.2.1 in /usr/local/lib/python3.12/dist-packages (from tensorflow) (0.6.0)\n",
            "Requirement already satisfied: google-pasta>=0.1.1 in /usr/local/lib/python3.12/dist-packages (from tensorflow) (0.2.0)\n",
            "Requirement already satisfied: libclang>=13.0.0 in /usr/local/lib/python3.12/dist-packages (from tensorflow) (18.1.1)\n",
            "Requirement already satisfied: opt-einsum>=2.3.2 in /usr/local/lib/python3.12/dist-packages (from tensorflow) (3.4.0)\n",
            "Requirement already satisfied: packaging in /usr/local/lib/python3.12/dist-packages (from tensorflow) (25.0)\n",
            "Requirement already satisfied: protobuf!=4.21.0,!=4.21.1,!=4.21.2,!=4.21.3,!=4.21.4,!=4.21.5,<6.0.0dev,>=3.20.3 in /usr/local/lib/python3.12/dist-packages (from tensorflow) (5.29.5)\n",
            "Requirement already satisfied: requests<3,>=2.21.0 in /usr/local/lib/python3.12/dist-packages (from tensorflow) (2.32.4)\n",
            "Requirement already satisfied: setuptools in /usr/local/lib/python3.12/dist-packages (from tensorflow) (75.2.0)\n",
            "Requirement already satisfied: six>=1.12.0 in /usr/local/lib/python3.12/dist-packages (from tensorflow) (1.17.0)\n",
            "Requirement already satisfied: termcolor>=1.1.0 in /usr/local/lib/python3.12/dist-packages (from tensorflow) (3.1.0)\n",
            "Requirement already satisfied: typing-extensions>=3.6.6 in /usr/local/lib/python3.12/dist-packages (from tensorflow) (4.15.0)\n",
            "Requirement already satisfied: wrapt>=1.11.0 in /usr/local/lib/python3.12/dist-packages (from tensorflow) (1.17.3)\n",
            "Requirement already satisfied: grpcio<2.0,>=1.24.3 in /usr/local/lib/python3.12/dist-packages (from tensorflow) (1.74.0)\n",
            "Requirement already satisfied: tensorboard~=2.19.0 in /usr/local/lib/python3.12/dist-packages (from tensorflow) (2.19.0)\n",
            "Requirement already satisfied: keras>=3.5.0 in /usr/local/lib/python3.12/dist-packages (from tensorflow) (3.10.0)\n",
            "Requirement already satisfied: numpy<2.2.0,>=1.26.0 in /usr/local/lib/python3.12/dist-packages (from tensorflow) (1.26.4)\n",
            "Requirement already satisfied: h5py>=3.11.0 in /usr/local/lib/python3.12/dist-packages (from tensorflow) (3.14.0)\n",
            "Requirement already satisfied: ml-dtypes<1.0.0,>=0.5.1 in /usr/local/lib/python3.12/dist-packages (from tensorflow) (0.5.3)\n",
            "Requirement already satisfied: wheel<1.0,>=0.23.0 in /usr/local/lib/python3.12/dist-packages (from astunparse>=1.6.0->tensorflow) (0.45.1)\n",
            "Requirement already satisfied: rich in /usr/local/lib/python3.12/dist-packages (from keras>=3.5.0->tensorflow) (13.9.4)\n",
            "Requirement already satisfied: namex in /usr/local/lib/python3.12/dist-packages (from keras>=3.5.0->tensorflow) (0.1.0)\n",
            "Requirement already satisfied: optree in /usr/local/lib/python3.12/dist-packages (from keras>=3.5.0->tensorflow) (0.17.0)\n",
            "Requirement already satisfied: charset_normalizer<4,>=2 in /usr/local/lib/python3.12/dist-packages (from requests<3,>=2.21.0->tensorflow) (3.4.3)\n",
            "Requirement already satisfied: idna<4,>=2.5 in /usr/local/lib/python3.12/dist-packages (from requests<3,>=2.21.0->tensorflow) (3.10)\n",
            "Requirement already satisfied: urllib3<3,>=1.21.1 in /usr/local/lib/python3.12/dist-packages (from requests<3,>=2.21.0->tensorflow) (2.5.0)\n",
            "Requirement already satisfied: certifi>=2017.4.17 in /usr/local/lib/python3.12/dist-packages (from requests<3,>=2.21.0->tensorflow) (2025.8.3)\n",
            "Requirement already satisfied: markdown>=2.6.8 in /usr/local/lib/python3.12/dist-packages (from tensorboard~=2.19.0->tensorflow) (3.9)\n",
            "Requirement already satisfied: tensorboard-data-server<0.8.0,>=0.7.0 in /usr/local/lib/python3.12/dist-packages (from tensorboard~=2.19.0->tensorflow) (0.7.2)\n",
            "Requirement already satisfied: werkzeug>=1.0.1 in /usr/local/lib/python3.12/dist-packages (from tensorboard~=2.19.0->tensorflow) (3.1.3)\n",
            "Requirement already satisfied: MarkupSafe>=2.1.1 in /usr/local/lib/python3.12/dist-packages (from werkzeug>=1.0.1->tensorboard~=2.19.0->tensorflow) (3.0.2)\n",
            "Requirement already satisfied: markdown-it-py>=2.2.0 in /usr/local/lib/python3.12/dist-packages (from rich->keras>=3.5.0->tensorflow) (4.0.0)\n",
            "Requirement already satisfied: pygments<3.0.0,>=2.13.0 in /usr/local/lib/python3.12/dist-packages (from rich->keras>=3.5.0->tensorflow) (2.19.2)\n",
            "Requirement already satisfied: mdurl~=0.1 in /usr/local/lib/python3.12/dist-packages (from markdown-it-py>=2.2.0->rich->keras>=3.5.0->tensorflow) (0.1.2)\n"
          ]
        }
      ]
    },
    {
      "cell_type": "code",
      "source": [
        "from sklearn.preprocessing import LabelEncoder\n",
        "from tensorflow.keras.utils import to_categorical\n",
        "\n",
        "\n",
        "# Total target rows\n",
        "TARGET_ROWS = 1800\n",
        "\n",
        "# Estimate the total number of samples across all fault types\n",
        "total_samples = sum(len(df[df['fault'] == f]) for f in df['fault'].unique())\n",
        "\n",
        "# Calculate suitable window size and stride\n",
        "num_faults = 9\n",
        "average_samples_per_fault = total_samples / num_faults\n",
        "approx_windows_per_fault = TARGET_ROWS / num_faults\n",
        "stride_ratio = 0.8  # Initial stride/window ratio\n",
        "\n",
        "win_len = int(average_samples_per_fault / approx_windows_per_fault)\n",
        "stride = int(win_len * stride_ratio)\n",
        "\n",
        "X=[]\n",
        "Y=[]\n",
        "\n",
        "\n",
        "for k in df['fault'].unique():\n",
        "\n",
        "    df_temp_2 = df[df['fault']==k]\n",
        "\n",
        "    for i in np.arange(0,len(df_temp_2)-(win_len),stride):\n",
        "        temp = df_temp_2.iloc[i:i+win_len,:-1].values\n",
        "        temp = temp.reshape((1,-1))\n",
        "        X.append(temp)\n",
        "        Y.append(df_temp_2.iloc[i+win_len,-1])\n",
        "\n",
        "X=np.array(X)\n",
        "X=X.reshape((X.shape[0],-1,1))\n",
        "#X = np.repeat(X, 3, axis=3) # To repeat into 3 chanel format\n",
        "\n",
        "\n",
        "Y=np.array(Y)\n",
        "encoder= LabelEncoder()\n",
        "encoder.fit(Y)\n",
        "encoded_Y = encoder.transform(Y)\n",
        "OHE_Y = to_categorical(encoded_Y)"
      ],
      "metadata": {
        "id": "5s5vUXrUM2BH"
      },
      "id": "5s5vUXrUM2BH",
      "execution_count": 5,
      "outputs": []
    },
    {
      "cell_type": "code",
      "source": [
        "from sklearn.model_selection import train_test_split\n",
        "X_train,X_test,y_train,y_test = train_test_split(X,OHE_Y,test_size=0.3,shuffle=True)"
      ],
      "metadata": {
        "id": "PreHyG2yMkTA"
      },
      "id": "PreHyG2yMkTA",
      "execution_count": 6,
      "outputs": []
    },
    {
      "cell_type": "code",
      "source": [
        "import tensorflow as tf\n",
        "from tensorflow.keras.models import Model\n",
        "from tensorflow.keras.layers import Input, Dense, Dropout, Flatten, Conv1D, MaxPooling1D, concatenate\n",
        "from tensorflow.keras import backend as K\n",
        "\n",
        "# --- Custom Physics-Informed Loss Function ---\n",
        "def custom_loss(y_true, y_pred):\n",
        "    # Standard categorical crossentropy\n",
        "    loss = K.categorical_crossentropy(y_true, y_pred)\n",
        "\n",
        "    # Physics-Informed Term: penalize rapid class probability changes\n",
        "    # Ensure y_pred is at least 2D for slicing\n",
        "    if K.ndim(y_pred) < 2:\n",
        "        y_pred = K.expand_dims(y_pred, axis=-1)\n",
        "\n",
        "    # Ensure y_pred has more than one class dimension to compute diff\n",
        "    if K.int_shape(y_pred)[-1] > 1:\n",
        "        diff = y_pred[:, 1:] - y_pred[:, :-1]\n",
        "        squared_diff = tf.square(diff)\n",
        "        physics_term = tf.reduce_mean(squared_diff)\n",
        "    else:\n",
        "        physics_term = 0.0 # No physics term if only one class\n",
        "\n",
        "\n",
        "    # Total loss = classification loss + regularization term\n",
        "    total_loss = loss + 0.01 * physics_term  # 0.01 is tunable\n",
        "\n",
        "    return total_loss\n",
        "\n",
        "# --- Model Definition ---\n",
        "# no_classes = len(df['fault'].unique()) # Original line that caused 10 classes\n",
        "no_classes = len(encoder.classes_) # Use the encoder to get the correct number of classes\n",
        "print(f\"Number of output classes (no_classes): {no_classes}\") # Add print statement to verify\n",
        "\n",
        "input_shape = (X.shape[1], X.shape[2])  # Example: (784, 1)\n",
        "\n",
        "# Head 1\n",
        "inputs1 = Input(shape=input_shape)\n",
        "conv1 = Conv1D(filters=64, kernel_size=200, activation='relu')(inputs1)\n",
        "drop1 = Dropout(0.5)(conv1)\n",
        "pool1 = MaxPooling1D(pool_size=20)(drop1)\n",
        "flat1 = Flatten()(pool1)\n",
        "\n",
        "# Head 2\n",
        "inputs2 = Input(shape=input_shape)\n",
        "conv2 = Conv1D(filters=64, kernel_size=100, activation='relu')(inputs2)\n",
        "drop2 = Dropout(0.5)(conv2)\n",
        "pool2 = MaxPooling1D(pool_size=10)(drop2)\n",
        "flat2 = Flatten()(pool2)\n",
        "\n",
        "# Head 3\n",
        "inputs3 = Input(shape=input_shape)\n",
        "conv3 = Conv1D(filters=64, kernel_size=50, activation='relu')(inputs3)\n",
        "drop3 = Dropout(0.5)(conv3)\n",
        "pool3 = MaxPooling1D(pool_size=5)(drop3)\n",
        "flat3 = Flatten()(pool3)\n",
        "\n",
        "# Merge all feature paths\n",
        "merged = concatenate([flat1, flat2, flat3])\n",
        "\n",
        "# Fully connected interpretation\n",
        "dense1 = Dense(100, activation='relu')(merged)\n",
        "outputs = Dense(no_classes, activation='softmax')(dense1)\n",
        "\n",
        "# Build and compile model with custom loss\n",
        "cnn_model = Model(inputs=[inputs1, inputs2, inputs3], outputs=outputs)\n",
        "cnn_model.compile(optimizer='adam', loss=custom_loss, metrics=['accuracy'])\n",
        "\n",
        "# Model summary\n",
        "cnn_model.summary()"
      ],
      "metadata": {
        "colab": {
          "base_uri": "https://localhost:8080/",
          "height": 885
        },
        "id": "kB3uGh-8J7no",
        "outputId": "681a8dad-2ece-4f60-d94b-1a0583b98d46"
      },
      "id": "kB3uGh-8J7no",
      "execution_count": 7,
      "outputs": [
        {
          "output_type": "stream",
          "name": "stdout",
          "text": [
            "Number of output classes (no_classes): 10\n"
          ]
        },
        {
          "output_type": "display_data",
          "data": {
            "text/plain": [
              "\u001b[1mModel: \"functional\"\u001b[0m\n"
            ],
            "text/html": [
              "<pre style=\"white-space:pre;overflow-x:auto;line-height:normal;font-family:Menlo,'DejaVu Sans Mono',consolas,'Courier New',monospace\"><span style=\"font-weight: bold\">Model: \"functional\"</span>\n",
              "</pre>\n"
            ]
          },
          "metadata": {}
        },
        {
          "output_type": "display_data",
          "data": {
            "text/plain": [
              "┏━━━━━━━━━━━━━━━━━━━━━┳━━━━━━━━━━━━━━━━━━━┳━━━━━━━━━━━━┳━━━━━━━━━━━━━━━━━━━┓\n",
              "┃\u001b[1m \u001b[0m\u001b[1mLayer (type)       \u001b[0m\u001b[1m \u001b[0m┃\u001b[1m \u001b[0m\u001b[1mOutput Shape     \u001b[0m\u001b[1m \u001b[0m┃\u001b[1m \u001b[0m\u001b[1m   Param #\u001b[0m\u001b[1m \u001b[0m┃\u001b[1m \u001b[0m\u001b[1mConnected to     \u001b[0m\u001b[1m \u001b[0m┃\n",
              "┡━━━━━━━━━━━━━━━━━━━━━╇━━━━━━━━━━━━━━━━━━━╇━━━━━━━━━━━━╇━━━━━━━━━━━━━━━━━━━┩\n",
              "│ input_layer         │ (\u001b[38;5;45mNone\u001b[0m, \u001b[38;5;34m2706\u001b[0m, \u001b[38;5;34m1\u001b[0m)   │          \u001b[38;5;34m0\u001b[0m │ -                 │\n",
              "│ (\u001b[38;5;33mInputLayer\u001b[0m)        │                   │            │                   │\n",
              "├─────────────────────┼───────────────────┼────────────┼───────────────────┤\n",
              "│ input_layer_1       │ (\u001b[38;5;45mNone\u001b[0m, \u001b[38;5;34m2706\u001b[0m, \u001b[38;5;34m1\u001b[0m)   │          \u001b[38;5;34m0\u001b[0m │ -                 │\n",
              "│ (\u001b[38;5;33mInputLayer\u001b[0m)        │                   │            │                   │\n",
              "├─────────────────────┼───────────────────┼────────────┼───────────────────┤\n",
              "│ input_layer_2       │ (\u001b[38;5;45mNone\u001b[0m, \u001b[38;5;34m2706\u001b[0m, \u001b[38;5;34m1\u001b[0m)   │          \u001b[38;5;34m0\u001b[0m │ -                 │\n",
              "│ (\u001b[38;5;33mInputLayer\u001b[0m)        │                   │            │                   │\n",
              "├─────────────────────┼───────────────────┼────────────┼───────────────────┤\n",
              "│ conv1d (\u001b[38;5;33mConv1D\u001b[0m)     │ (\u001b[38;5;45mNone\u001b[0m, \u001b[38;5;34m2507\u001b[0m, \u001b[38;5;34m64\u001b[0m)  │     \u001b[38;5;34m12,864\u001b[0m │ input_layer[\u001b[38;5;34m0\u001b[0m][\u001b[38;5;34m0\u001b[0m] │\n",
              "├─────────────────────┼───────────────────┼────────────┼───────────────────┤\n",
              "│ conv1d_1 (\u001b[38;5;33mConv1D\u001b[0m)   │ (\u001b[38;5;45mNone\u001b[0m, \u001b[38;5;34m2607\u001b[0m, \u001b[38;5;34m64\u001b[0m)  │      \u001b[38;5;34m6,464\u001b[0m │ input_layer_1[\u001b[38;5;34m0\u001b[0m]… │\n",
              "├─────────────────────┼───────────────────┼────────────┼───────────────────┤\n",
              "│ conv1d_2 (\u001b[38;5;33mConv1D\u001b[0m)   │ (\u001b[38;5;45mNone\u001b[0m, \u001b[38;5;34m2657\u001b[0m, \u001b[38;5;34m64\u001b[0m)  │      \u001b[38;5;34m3,264\u001b[0m │ input_layer_2[\u001b[38;5;34m0\u001b[0m]… │\n",
              "├─────────────────────┼───────────────────┼────────────┼───────────────────┤\n",
              "│ dropout (\u001b[38;5;33mDropout\u001b[0m)   │ (\u001b[38;5;45mNone\u001b[0m, \u001b[38;5;34m2507\u001b[0m, \u001b[38;5;34m64\u001b[0m)  │          \u001b[38;5;34m0\u001b[0m │ conv1d[\u001b[38;5;34m0\u001b[0m][\u001b[38;5;34m0\u001b[0m]      │\n",
              "├─────────────────────┼───────────────────┼────────────┼───────────────────┤\n",
              "│ dropout_1 (\u001b[38;5;33mDropout\u001b[0m) │ (\u001b[38;5;45mNone\u001b[0m, \u001b[38;5;34m2607\u001b[0m, \u001b[38;5;34m64\u001b[0m)  │          \u001b[38;5;34m0\u001b[0m │ conv1d_1[\u001b[38;5;34m0\u001b[0m][\u001b[38;5;34m0\u001b[0m]    │\n",
              "├─────────────────────┼───────────────────┼────────────┼───────────────────┤\n",
              "│ dropout_2 (\u001b[38;5;33mDropout\u001b[0m) │ (\u001b[38;5;45mNone\u001b[0m, \u001b[38;5;34m2657\u001b[0m, \u001b[38;5;34m64\u001b[0m)  │          \u001b[38;5;34m0\u001b[0m │ conv1d_2[\u001b[38;5;34m0\u001b[0m][\u001b[38;5;34m0\u001b[0m]    │\n",
              "├─────────────────────┼───────────────────┼────────────┼───────────────────┤\n",
              "│ max_pooling1d       │ (\u001b[38;5;45mNone\u001b[0m, \u001b[38;5;34m125\u001b[0m, \u001b[38;5;34m64\u001b[0m)   │          \u001b[38;5;34m0\u001b[0m │ dropout[\u001b[38;5;34m0\u001b[0m][\u001b[38;5;34m0\u001b[0m]     │\n",
              "│ (\u001b[38;5;33mMaxPooling1D\u001b[0m)      │                   │            │                   │\n",
              "├─────────────────────┼───────────────────┼────────────┼───────────────────┤\n",
              "│ max_pooling1d_1     │ (\u001b[38;5;45mNone\u001b[0m, \u001b[38;5;34m260\u001b[0m, \u001b[38;5;34m64\u001b[0m)   │          \u001b[38;5;34m0\u001b[0m │ dropout_1[\u001b[38;5;34m0\u001b[0m][\u001b[38;5;34m0\u001b[0m]   │\n",
              "│ (\u001b[38;5;33mMaxPooling1D\u001b[0m)      │                   │            │                   │\n",
              "├─────────────────────┼───────────────────┼────────────┼───────────────────┤\n",
              "│ max_pooling1d_2     │ (\u001b[38;5;45mNone\u001b[0m, \u001b[38;5;34m531\u001b[0m, \u001b[38;5;34m64\u001b[0m)   │          \u001b[38;5;34m0\u001b[0m │ dropout_2[\u001b[38;5;34m0\u001b[0m][\u001b[38;5;34m0\u001b[0m]   │\n",
              "│ (\u001b[38;5;33mMaxPooling1D\u001b[0m)      │                   │            │                   │\n",
              "├─────────────────────┼───────────────────┼────────────┼───────────────────┤\n",
              "│ flatten (\u001b[38;5;33mFlatten\u001b[0m)   │ (\u001b[38;5;45mNone\u001b[0m, \u001b[38;5;34m8000\u001b[0m)      │          \u001b[38;5;34m0\u001b[0m │ max_pooling1d[\u001b[38;5;34m0\u001b[0m]… │\n",
              "├─────────────────────┼───────────────────┼────────────┼───────────────────┤\n",
              "│ flatten_1 (\u001b[38;5;33mFlatten\u001b[0m) │ (\u001b[38;5;45mNone\u001b[0m, \u001b[38;5;34m16640\u001b[0m)     │          \u001b[38;5;34m0\u001b[0m │ max_pooling1d_1[\u001b[38;5;34m…\u001b[0m │\n",
              "├─────────────────────┼───────────────────┼────────────┼───────────────────┤\n",
              "│ flatten_2 (\u001b[38;5;33mFlatten\u001b[0m) │ (\u001b[38;5;45mNone\u001b[0m, \u001b[38;5;34m33984\u001b[0m)     │          \u001b[38;5;34m0\u001b[0m │ max_pooling1d_2[\u001b[38;5;34m…\u001b[0m │\n",
              "├─────────────────────┼───────────────────┼────────────┼───────────────────┤\n",
              "│ concatenate         │ (\u001b[38;5;45mNone\u001b[0m, \u001b[38;5;34m58624\u001b[0m)     │          \u001b[38;5;34m0\u001b[0m │ flatten[\u001b[38;5;34m0\u001b[0m][\u001b[38;5;34m0\u001b[0m],    │\n",
              "│ (\u001b[38;5;33mConcatenate\u001b[0m)       │                   │            │ flatten_1[\u001b[38;5;34m0\u001b[0m][\u001b[38;5;34m0\u001b[0m],  │\n",
              "│                     │                   │            │ flatten_2[\u001b[38;5;34m0\u001b[0m][\u001b[38;5;34m0\u001b[0m]   │\n",
              "├─────────────────────┼───────────────────┼────────────┼───────────────────┤\n",
              "│ dense (\u001b[38;5;33mDense\u001b[0m)       │ (\u001b[38;5;45mNone\u001b[0m, \u001b[38;5;34m100\u001b[0m)       │  \u001b[38;5;34m5,862,500\u001b[0m │ concatenate[\u001b[38;5;34m0\u001b[0m][\u001b[38;5;34m0\u001b[0m] │\n",
              "├─────────────────────┼───────────────────┼────────────┼───────────────────┤\n",
              "│ dense_1 (\u001b[38;5;33mDense\u001b[0m)     │ (\u001b[38;5;45mNone\u001b[0m, \u001b[38;5;34m10\u001b[0m)        │      \u001b[38;5;34m1,010\u001b[0m │ dense[\u001b[38;5;34m0\u001b[0m][\u001b[38;5;34m0\u001b[0m]       │\n",
              "└─────────────────────┴───────────────────┴────────────┴───────────────────┘\n"
            ],
            "text/html": [
              "<pre style=\"white-space:pre;overflow-x:auto;line-height:normal;font-family:Menlo,'DejaVu Sans Mono',consolas,'Courier New',monospace\">┏━━━━━━━━━━━━━━━━━━━━━┳━━━━━━━━━━━━━━━━━━━┳━━━━━━━━━━━━┳━━━━━━━━━━━━━━━━━━━┓\n",
              "┃<span style=\"font-weight: bold\"> Layer (type)        </span>┃<span style=\"font-weight: bold\"> Output Shape      </span>┃<span style=\"font-weight: bold\">    Param # </span>┃<span style=\"font-weight: bold\"> Connected to      </span>┃\n",
              "┡━━━━━━━━━━━━━━━━━━━━━╇━━━━━━━━━━━━━━━━━━━╇━━━━━━━━━━━━╇━━━━━━━━━━━━━━━━━━━┩\n",
              "│ input_layer         │ (<span style=\"color: #00d7ff; text-decoration-color: #00d7ff\">None</span>, <span style=\"color: #00af00; text-decoration-color: #00af00\">2706</span>, <span style=\"color: #00af00; text-decoration-color: #00af00\">1</span>)   │          <span style=\"color: #00af00; text-decoration-color: #00af00\">0</span> │ -                 │\n",
              "│ (<span style=\"color: #0087ff; text-decoration-color: #0087ff\">InputLayer</span>)        │                   │            │                   │\n",
              "├─────────────────────┼───────────────────┼────────────┼───────────────────┤\n",
              "│ input_layer_1       │ (<span style=\"color: #00d7ff; text-decoration-color: #00d7ff\">None</span>, <span style=\"color: #00af00; text-decoration-color: #00af00\">2706</span>, <span style=\"color: #00af00; text-decoration-color: #00af00\">1</span>)   │          <span style=\"color: #00af00; text-decoration-color: #00af00\">0</span> │ -                 │\n",
              "│ (<span style=\"color: #0087ff; text-decoration-color: #0087ff\">InputLayer</span>)        │                   │            │                   │\n",
              "├─────────────────────┼───────────────────┼────────────┼───────────────────┤\n",
              "│ input_layer_2       │ (<span style=\"color: #00d7ff; text-decoration-color: #00d7ff\">None</span>, <span style=\"color: #00af00; text-decoration-color: #00af00\">2706</span>, <span style=\"color: #00af00; text-decoration-color: #00af00\">1</span>)   │          <span style=\"color: #00af00; text-decoration-color: #00af00\">0</span> │ -                 │\n",
              "│ (<span style=\"color: #0087ff; text-decoration-color: #0087ff\">InputLayer</span>)        │                   │            │                   │\n",
              "├─────────────────────┼───────────────────┼────────────┼───────────────────┤\n",
              "│ conv1d (<span style=\"color: #0087ff; text-decoration-color: #0087ff\">Conv1D</span>)     │ (<span style=\"color: #00d7ff; text-decoration-color: #00d7ff\">None</span>, <span style=\"color: #00af00; text-decoration-color: #00af00\">2507</span>, <span style=\"color: #00af00; text-decoration-color: #00af00\">64</span>)  │     <span style=\"color: #00af00; text-decoration-color: #00af00\">12,864</span> │ input_layer[<span style=\"color: #00af00; text-decoration-color: #00af00\">0</span>][<span style=\"color: #00af00; text-decoration-color: #00af00\">0</span>] │\n",
              "├─────────────────────┼───────────────────┼────────────┼───────────────────┤\n",
              "│ conv1d_1 (<span style=\"color: #0087ff; text-decoration-color: #0087ff\">Conv1D</span>)   │ (<span style=\"color: #00d7ff; text-decoration-color: #00d7ff\">None</span>, <span style=\"color: #00af00; text-decoration-color: #00af00\">2607</span>, <span style=\"color: #00af00; text-decoration-color: #00af00\">64</span>)  │      <span style=\"color: #00af00; text-decoration-color: #00af00\">6,464</span> │ input_layer_1[<span style=\"color: #00af00; text-decoration-color: #00af00\">0</span>]… │\n",
              "├─────────────────────┼───────────────────┼────────────┼───────────────────┤\n",
              "│ conv1d_2 (<span style=\"color: #0087ff; text-decoration-color: #0087ff\">Conv1D</span>)   │ (<span style=\"color: #00d7ff; text-decoration-color: #00d7ff\">None</span>, <span style=\"color: #00af00; text-decoration-color: #00af00\">2657</span>, <span style=\"color: #00af00; text-decoration-color: #00af00\">64</span>)  │      <span style=\"color: #00af00; text-decoration-color: #00af00\">3,264</span> │ input_layer_2[<span style=\"color: #00af00; text-decoration-color: #00af00\">0</span>]… │\n",
              "├─────────────────────┼───────────────────┼────────────┼───────────────────┤\n",
              "│ dropout (<span style=\"color: #0087ff; text-decoration-color: #0087ff\">Dropout</span>)   │ (<span style=\"color: #00d7ff; text-decoration-color: #00d7ff\">None</span>, <span style=\"color: #00af00; text-decoration-color: #00af00\">2507</span>, <span style=\"color: #00af00; text-decoration-color: #00af00\">64</span>)  │          <span style=\"color: #00af00; text-decoration-color: #00af00\">0</span> │ conv1d[<span style=\"color: #00af00; text-decoration-color: #00af00\">0</span>][<span style=\"color: #00af00; text-decoration-color: #00af00\">0</span>]      │\n",
              "├─────────────────────┼───────────────────┼────────────┼───────────────────┤\n",
              "│ dropout_1 (<span style=\"color: #0087ff; text-decoration-color: #0087ff\">Dropout</span>) │ (<span style=\"color: #00d7ff; text-decoration-color: #00d7ff\">None</span>, <span style=\"color: #00af00; text-decoration-color: #00af00\">2607</span>, <span style=\"color: #00af00; text-decoration-color: #00af00\">64</span>)  │          <span style=\"color: #00af00; text-decoration-color: #00af00\">0</span> │ conv1d_1[<span style=\"color: #00af00; text-decoration-color: #00af00\">0</span>][<span style=\"color: #00af00; text-decoration-color: #00af00\">0</span>]    │\n",
              "├─────────────────────┼───────────────────┼────────────┼───────────────────┤\n",
              "│ dropout_2 (<span style=\"color: #0087ff; text-decoration-color: #0087ff\">Dropout</span>) │ (<span style=\"color: #00d7ff; text-decoration-color: #00d7ff\">None</span>, <span style=\"color: #00af00; text-decoration-color: #00af00\">2657</span>, <span style=\"color: #00af00; text-decoration-color: #00af00\">64</span>)  │          <span style=\"color: #00af00; text-decoration-color: #00af00\">0</span> │ conv1d_2[<span style=\"color: #00af00; text-decoration-color: #00af00\">0</span>][<span style=\"color: #00af00; text-decoration-color: #00af00\">0</span>]    │\n",
              "├─────────────────────┼───────────────────┼────────────┼───────────────────┤\n",
              "│ max_pooling1d       │ (<span style=\"color: #00d7ff; text-decoration-color: #00d7ff\">None</span>, <span style=\"color: #00af00; text-decoration-color: #00af00\">125</span>, <span style=\"color: #00af00; text-decoration-color: #00af00\">64</span>)   │          <span style=\"color: #00af00; text-decoration-color: #00af00\">0</span> │ dropout[<span style=\"color: #00af00; text-decoration-color: #00af00\">0</span>][<span style=\"color: #00af00; text-decoration-color: #00af00\">0</span>]     │\n",
              "│ (<span style=\"color: #0087ff; text-decoration-color: #0087ff\">MaxPooling1D</span>)      │                   │            │                   │\n",
              "├─────────────────────┼───────────────────┼────────────┼───────────────────┤\n",
              "│ max_pooling1d_1     │ (<span style=\"color: #00d7ff; text-decoration-color: #00d7ff\">None</span>, <span style=\"color: #00af00; text-decoration-color: #00af00\">260</span>, <span style=\"color: #00af00; text-decoration-color: #00af00\">64</span>)   │          <span style=\"color: #00af00; text-decoration-color: #00af00\">0</span> │ dropout_1[<span style=\"color: #00af00; text-decoration-color: #00af00\">0</span>][<span style=\"color: #00af00; text-decoration-color: #00af00\">0</span>]   │\n",
              "│ (<span style=\"color: #0087ff; text-decoration-color: #0087ff\">MaxPooling1D</span>)      │                   │            │                   │\n",
              "├─────────────────────┼───────────────────┼────────────┼───────────────────┤\n",
              "│ max_pooling1d_2     │ (<span style=\"color: #00d7ff; text-decoration-color: #00d7ff\">None</span>, <span style=\"color: #00af00; text-decoration-color: #00af00\">531</span>, <span style=\"color: #00af00; text-decoration-color: #00af00\">64</span>)   │          <span style=\"color: #00af00; text-decoration-color: #00af00\">0</span> │ dropout_2[<span style=\"color: #00af00; text-decoration-color: #00af00\">0</span>][<span style=\"color: #00af00; text-decoration-color: #00af00\">0</span>]   │\n",
              "│ (<span style=\"color: #0087ff; text-decoration-color: #0087ff\">MaxPooling1D</span>)      │                   │            │                   │\n",
              "├─────────────────────┼───────────────────┼────────────┼───────────────────┤\n",
              "│ flatten (<span style=\"color: #0087ff; text-decoration-color: #0087ff\">Flatten</span>)   │ (<span style=\"color: #00d7ff; text-decoration-color: #00d7ff\">None</span>, <span style=\"color: #00af00; text-decoration-color: #00af00\">8000</span>)      │          <span style=\"color: #00af00; text-decoration-color: #00af00\">0</span> │ max_pooling1d[<span style=\"color: #00af00; text-decoration-color: #00af00\">0</span>]… │\n",
              "├─────────────────────┼───────────────────┼────────────┼───────────────────┤\n",
              "│ flatten_1 (<span style=\"color: #0087ff; text-decoration-color: #0087ff\">Flatten</span>) │ (<span style=\"color: #00d7ff; text-decoration-color: #00d7ff\">None</span>, <span style=\"color: #00af00; text-decoration-color: #00af00\">16640</span>)     │          <span style=\"color: #00af00; text-decoration-color: #00af00\">0</span> │ max_pooling1d_1[<span style=\"color: #00af00; text-decoration-color: #00af00\">…</span> │\n",
              "├─────────────────────┼───────────────────┼────────────┼───────────────────┤\n",
              "│ flatten_2 (<span style=\"color: #0087ff; text-decoration-color: #0087ff\">Flatten</span>) │ (<span style=\"color: #00d7ff; text-decoration-color: #00d7ff\">None</span>, <span style=\"color: #00af00; text-decoration-color: #00af00\">33984</span>)     │          <span style=\"color: #00af00; text-decoration-color: #00af00\">0</span> │ max_pooling1d_2[<span style=\"color: #00af00; text-decoration-color: #00af00\">…</span> │\n",
              "├─────────────────────┼───────────────────┼────────────┼───────────────────┤\n",
              "│ concatenate         │ (<span style=\"color: #00d7ff; text-decoration-color: #00d7ff\">None</span>, <span style=\"color: #00af00; text-decoration-color: #00af00\">58624</span>)     │          <span style=\"color: #00af00; text-decoration-color: #00af00\">0</span> │ flatten[<span style=\"color: #00af00; text-decoration-color: #00af00\">0</span>][<span style=\"color: #00af00; text-decoration-color: #00af00\">0</span>],    │\n",
              "│ (<span style=\"color: #0087ff; text-decoration-color: #0087ff\">Concatenate</span>)       │                   │            │ flatten_1[<span style=\"color: #00af00; text-decoration-color: #00af00\">0</span>][<span style=\"color: #00af00; text-decoration-color: #00af00\">0</span>],  │\n",
              "│                     │                   │            │ flatten_2[<span style=\"color: #00af00; text-decoration-color: #00af00\">0</span>][<span style=\"color: #00af00; text-decoration-color: #00af00\">0</span>]   │\n",
              "├─────────────────────┼───────────────────┼────────────┼───────────────────┤\n",
              "│ dense (<span style=\"color: #0087ff; text-decoration-color: #0087ff\">Dense</span>)       │ (<span style=\"color: #00d7ff; text-decoration-color: #00d7ff\">None</span>, <span style=\"color: #00af00; text-decoration-color: #00af00\">100</span>)       │  <span style=\"color: #00af00; text-decoration-color: #00af00\">5,862,500</span> │ concatenate[<span style=\"color: #00af00; text-decoration-color: #00af00\">0</span>][<span style=\"color: #00af00; text-decoration-color: #00af00\">0</span>] │\n",
              "├─────────────────────┼───────────────────┼────────────┼───────────────────┤\n",
              "│ dense_1 (<span style=\"color: #0087ff; text-decoration-color: #0087ff\">Dense</span>)     │ (<span style=\"color: #00d7ff; text-decoration-color: #00d7ff\">None</span>, <span style=\"color: #00af00; text-decoration-color: #00af00\">10</span>)        │      <span style=\"color: #00af00; text-decoration-color: #00af00\">1,010</span> │ dense[<span style=\"color: #00af00; text-decoration-color: #00af00\">0</span>][<span style=\"color: #00af00; text-decoration-color: #00af00\">0</span>]       │\n",
              "└─────────────────────┴───────────────────┴────────────┴───────────────────┘\n",
              "</pre>\n"
            ]
          },
          "metadata": {}
        },
        {
          "output_type": "display_data",
          "data": {
            "text/plain": [
              "\u001b[1m Total params: \u001b[0m\u001b[38;5;34m5,886,102\u001b[0m (22.45 MB)\n"
            ],
            "text/html": [
              "<pre style=\"white-space:pre;overflow-x:auto;line-height:normal;font-family:Menlo,'DejaVu Sans Mono',consolas,'Courier New',monospace\"><span style=\"font-weight: bold\"> Total params: </span><span style=\"color: #00af00; text-decoration-color: #00af00\">5,886,102</span> (22.45 MB)\n",
              "</pre>\n"
            ]
          },
          "metadata": {}
        },
        {
          "output_type": "display_data",
          "data": {
            "text/plain": [
              "\u001b[1m Trainable params: \u001b[0m\u001b[38;5;34m5,886,102\u001b[0m (22.45 MB)\n"
            ],
            "text/html": [
              "<pre style=\"white-space:pre;overflow-x:auto;line-height:normal;font-family:Menlo,'DejaVu Sans Mono',consolas,'Courier New',monospace\"><span style=\"font-weight: bold\"> Trainable params: </span><span style=\"color: #00af00; text-decoration-color: #00af00\">5,886,102</span> (22.45 MB)\n",
              "</pre>\n"
            ]
          },
          "metadata": {}
        },
        {
          "output_type": "display_data",
          "data": {
            "text/plain": [
              "\u001b[1m Non-trainable params: \u001b[0m\u001b[38;5;34m0\u001b[0m (0.00 B)\n"
            ],
            "text/html": [
              "<pre style=\"white-space:pre;overflow-x:auto;line-height:normal;font-family:Menlo,'DejaVu Sans Mono',consolas,'Courier New',monospace\"><span style=\"font-weight: bold\"> Non-trainable params: </span><span style=\"color: #00af00; text-decoration-color: #00af00\">0</span> (0.00 B)\n",
              "</pre>\n"
            ]
          },
          "metadata": {}
        }
      ]
    },
    {
      "cell_type": "code",
      "source": [
        "batch_size =100\n",
        "epochs = 20\n",
        "history = cnn_model.fit([X_train,X_train,X_train], y_train, batch_size=batch_size,epochs=epochs,verbose=1,validation_data=([X_test,X_test,X_test],y_test),shuffle=True)"
      ],
      "metadata": {
        "colab": {
          "base_uri": "https://localhost:8080/"
        },
        "id": "2Lxm-qvKM3oN",
        "outputId": "a9452c28-2a9c-4a9d-f81c-a62f744a9348"
      },
      "id": "2Lxm-qvKM3oN",
      "execution_count": 8,
      "outputs": [
        {
          "output_type": "stream",
          "name": "stdout",
          "text": [
            "Epoch 1/20\n",
            "\u001b[1m16/16\u001b[0m \u001b[32m━━━━━━━━━━━━━━━━━━━━\u001b[0m\u001b[37m\u001b[0m \u001b[1m28s\u001b[0m 769ms/step - accuracy: 0.1448 - loss: 3.8241 - val_accuracy: 0.2912 - val_loss: 1.9032\n",
            "Epoch 2/20\n",
            "\u001b[1m16/16\u001b[0m \u001b[32m━━━━━━━━━━━━━━━━━━━━\u001b[0m\u001b[37m\u001b[0m \u001b[1m19s\u001b[0m 38ms/step - accuracy: 0.3952 - loss: 1.6056 - val_accuracy: 0.5468 - val_loss: 1.3557\n",
            "Epoch 3/20\n",
            "\u001b[1m16/16\u001b[0m \u001b[32m━━━━━━━━━━━━━━━━━━━━\u001b[0m\u001b[37m\u001b[0m \u001b[1m1s\u001b[0m 33ms/step - accuracy: 0.7151 - loss: 0.8857 - val_accuracy: 0.8276 - val_loss: 0.8287\n",
            "Epoch 4/20\n",
            "\u001b[1m16/16\u001b[0m \u001b[32m━━━━━━━━━━━━━━━━━━━━\u001b[0m\u001b[37m\u001b[0m \u001b[1m1s\u001b[0m 34ms/step - accuracy: 0.8859 - loss: 0.4268 - val_accuracy: 0.8648 - val_loss: 0.4987\n",
            "Epoch 5/20\n",
            "\u001b[1m16/16\u001b[0m \u001b[32m━━━━━━━━━━━━━━━━━━━━\u001b[0m\u001b[37m\u001b[0m \u001b[1m1s\u001b[0m 39ms/step - accuracy: 0.9220 - loss: 0.2041 - val_accuracy: 0.8618 - val_loss: 0.4041\n",
            "Epoch 6/20\n",
            "\u001b[1m16/16\u001b[0m \u001b[32m━━━━━━━━━━━━━━━━━━━━\u001b[0m\u001b[37m\u001b[0m \u001b[1m1s\u001b[0m 33ms/step - accuracy: 0.9450 - loss: 0.1454 - val_accuracy: 0.9316 - val_loss: 0.3181\n",
            "Epoch 7/20\n",
            "\u001b[1m16/16\u001b[0m \u001b[32m━━━━━━━━━━━━━━━━━━━━\u001b[0m\u001b[37m\u001b[0m \u001b[1m1s\u001b[0m 33ms/step - accuracy: 0.9842 - loss: 0.0893 - val_accuracy: 0.9302 - val_loss: 0.2667\n",
            "Epoch 8/20\n",
            "\u001b[1m16/16\u001b[0m \u001b[32m━━━━━━━━━━━━━━━━━━━━\u001b[0m\u001b[37m\u001b[0m \u001b[1m1s\u001b[0m 34ms/step - accuracy: 0.9909 - loss: 0.0538 - val_accuracy: 0.9614 - val_loss: 0.2293\n",
            "Epoch 9/20\n",
            "\u001b[1m16/16\u001b[0m \u001b[32m━━━━━━━━━━━━━━━━━━━━\u001b[0m\u001b[37m\u001b[0m \u001b[1m1s\u001b[0m 34ms/step - accuracy: 0.9957 - loss: 0.0407 - val_accuracy: 0.9584 - val_loss: 0.2013\n",
            "Epoch 10/20\n",
            "\u001b[1m16/16\u001b[0m \u001b[32m━━━━━━━━━━━━━━━━━━━━\u001b[0m\u001b[37m\u001b[0m \u001b[1m1s\u001b[0m 34ms/step - accuracy: 0.9999 - loss: 0.0288 - val_accuracy: 0.9584 - val_loss: 0.2005\n",
            "Epoch 11/20\n",
            "\u001b[1m16/16\u001b[0m \u001b[32m━━━━━━━━━━━━━━━━━━━━\u001b[0m\u001b[37m\u001b[0m \u001b[1m1s\u001b[0m 39ms/step - accuracy: 1.0000 - loss: 0.0216 - val_accuracy: 0.9673 - val_loss: 0.1726\n",
            "Epoch 12/20\n",
            "\u001b[1m16/16\u001b[0m \u001b[32m━━━━━━━━━━━━━━━━━━━━\u001b[0m\u001b[37m\u001b[0m \u001b[1m1s\u001b[0m 33ms/step - accuracy: 1.0000 - loss: 0.0151 - val_accuracy: 0.9643 - val_loss: 0.1686\n",
            "Epoch 13/20\n",
            "\u001b[1m16/16\u001b[0m \u001b[32m━━━━━━━━━━━━━━━━━━━━\u001b[0m\u001b[37m\u001b[0m \u001b[1m1s\u001b[0m 39ms/step - accuracy: 1.0000 - loss: 0.0127 - val_accuracy: 0.9673 - val_loss: 0.1657\n",
            "Epoch 14/20\n",
            "\u001b[1m16/16\u001b[0m \u001b[32m━━━━━━━━━━━━━━━━━━━━\u001b[0m\u001b[37m\u001b[0m \u001b[1m1s\u001b[0m 40ms/step - accuracy: 1.0000 - loss: 0.0107 - val_accuracy: 0.9614 - val_loss: 0.1561\n",
            "Epoch 15/20\n",
            "\u001b[1m16/16\u001b[0m \u001b[32m━━━━━━━━━━━━━━━━━━━━\u001b[0m\u001b[37m\u001b[0m \u001b[1m1s\u001b[0m 37ms/step - accuracy: 1.0000 - loss: 0.0095 - val_accuracy: 0.9599 - val_loss: 0.1550\n",
            "Epoch 16/20\n",
            "\u001b[1m16/16\u001b[0m \u001b[32m━━━━━━━━━━━━━━━━━━━━\u001b[0m\u001b[37m\u001b[0m \u001b[1m1s\u001b[0m 37ms/step - accuracy: 1.0000 - loss: 0.0078 - val_accuracy: 0.9629 - val_loss: 0.1467\n",
            "Epoch 17/20\n",
            "\u001b[1m16/16\u001b[0m \u001b[32m━━━━━━━━━━━━━━━━━━━━\u001b[0m\u001b[37m\u001b[0m \u001b[1m1s\u001b[0m 37ms/step - accuracy: 1.0000 - loss: 0.0068 - val_accuracy: 0.9614 - val_loss: 0.1483\n",
            "Epoch 18/20\n",
            "\u001b[1m16/16\u001b[0m \u001b[32m━━━━━━━━━━━━━━━━━━━━\u001b[0m\u001b[37m\u001b[0m \u001b[1m1s\u001b[0m 36ms/step - accuracy: 1.0000 - loss: 0.0064 - val_accuracy: 0.9643 - val_loss: 0.1414\n",
            "Epoch 19/20\n",
            "\u001b[1m16/16\u001b[0m \u001b[32m━━━━━━━━━━━━━━━━━━━━\u001b[0m\u001b[37m\u001b[0m \u001b[1m1s\u001b[0m 40ms/step - accuracy: 1.0000 - loss: 0.0057 - val_accuracy: 0.9688 - val_loss: 0.1421\n",
            "Epoch 20/20\n",
            "\u001b[1m16/16\u001b[0m \u001b[32m━━━━━━━━━━━━━━━━━━━━\u001b[0m\u001b[37m\u001b[0m \u001b[1m1s\u001b[0m 35ms/step - accuracy: 1.0000 - loss: 0.0057 - val_accuracy: 0.9599 - val_loss: 0.1422\n"
          ]
        }
      ]
    },
    {
      "cell_type": "code",
      "source": [
        "def inv_Transform_result(y_pred):\n",
        "    y_pred = y_pred.argmax(axis=1)\n",
        "    y_pred = encoder.inverse_transform(y_pred)\n",
        "    return y_pred\n",
        "\n",
        "\n",
        "\n",
        "y_pred=cnn_model.predict([X_test,X_test,X_test])\n",
        "\n",
        "\n",
        "Y_pred=inv_Transform_result(y_pred)\n",
        "Y_test = inv_Transform_result(y_test)\n",
        "\n",
        "\n",
        "\n",
        "\n",
        "from sklearn.metrics import confusion_matrix\n",
        "\n",
        "\n",
        "plt.figure(figsize=(10,10))\n",
        "cm = confusion_matrix(Y_test, Y_pred,normalize='true')\n",
        "f = sns.heatmap(cm, annot=True,xticklabels=encoder.classes_,yticklabels=encoder.classes_)"
      ],
      "metadata": {
        "colab": {
          "base_uri": "https://localhost:8080/",
          "height": 975
        },
        "id": "pbBmkBjlM5ks",
        "outputId": "37beb18a-76b0-4289-af0b-a773ed169a8b"
      },
      "id": "pbBmkBjlM5ks",
      "execution_count": 9,
      "outputs": [
        {
          "output_type": "stream",
          "name": "stdout",
          "text": [
            "\u001b[1m22/22\u001b[0m \u001b[32m━━━━━━━━━━━━━━━━━━━━\u001b[0m\u001b[37m\u001b[0m \u001b[1m2s\u001b[0m 42ms/step\n"
          ]
        },
        {
          "output_type": "display_data",
          "data": {
            "text/plain": [
              "<Figure size 1000x1000 with 2 Axes>"
            ],
            "image/png": "[encoded data removed]"
          },
          "metadata": {}
        }
      ]
    },
    {
      "cell_type": "code",
      "source": [
        "dummy_cnn = Model(inputs=cnn_model.input,outputs=cnn_model.layers[16].output)\n",
        "y_viz = dummy_cnn.predict([X_train,X_train,X_train])"
      ],
      "metadata": {
        "colab": {
          "base_uri": "https://localhost:8080/"
        },
        "id": "3tgRx2TxM-GS",
        "outputId": "3f48d254-ea20-4fd2-b647-64aa13928d84"
      },
      "id": "3tgRx2TxM-GS",
      "execution_count": 10,
      "outputs": [
        {
          "output_type": "stream",
          "name": "stdout",
          "text": [
            "\u001b[1m50/50\u001b[0m \u001b[32m━━━━━━━━━━━━━━━━━━━━\u001b[0m\u001b[37m\u001b[0m \u001b[1m2s\u001b[0m 23ms/step\n"
          ]
        }
      ]
    },
    {
      "cell_type": "code",
      "source": [
        "import pandas as pd\n",
        "import seaborn as sns\n",
        "import matplotlib.pyplot as plt\n",
        "from sklearn.manifold import TSNE\n",
        "\n",
        "# Apply t-SNE transformation\n",
        "X_t_sne = TSNE(\n",
        "    n_components=2,\n",
        "    learning_rate='auto',\n",
        "    verbose=2,  # Increase verbosity for more detailed feedback\n",
        "    perplexity=40,\n",
        "    n_iter=500  # Slightly increased number of iterations for convergence\n",
        ").fit_transform(y_viz)\n",
        "\n",
        "# Create DataFrame for t-SNE components\n",
        "tSNEdf = pd.DataFrame(data=X_t_sne, columns=['T-SNE component 1', 'T-SNE component 2'])\n",
        "\n",
        "# Assuming `inv_Transform_result` transforms `y_train` to get the Fault labels\n",
        "tSNEdf['Fault'] = inv_Transform_result(y_train)\n",
        "\n",
        "# Save the t-SNE DataFrame as a CSV file\n",
        "tSNEdf.to_csv('/content/drive/MyDrive/MK-DCNN CWRU/NNOISE_0_tSNE_results.csv', index=True)\n",
        "print(\"t-SNE results saved as '/content/drive/MyDrive/MK-DCNN CWRU/NNOISE_0_tSNE_results.csv'.\")\n",
        "\n",
        "# # Plot the t-SNE results with Fault as hue\n",
        "# plt.figure(figsize=(12, 12))  # Larger figure for clarity\n",
        "# sns.scatterplot(\n",
        "#     x='T-SNE component 1',\n",
        "#     y='T-SNE component 2',\n",
        "#     hue='Fault',\n",
        "#     palette=sns.color_palette(\"husl\", as_cmap=False),  # Vivid color palette\n",
        "#     data=tSNEdf,\n",
        "#     legend=\"full\",\n",
        "#     alpha=0.7,  # Increased transparency for better overlap clarity\n",
        "#     s=100  # Larger marker size\n",
        "# )\n",
        "\n",
        "# # Add gridlines for better visualization\n",
        "# plt.grid\n",
        "\n",
        "\n",
        "# Optional: Visualization of t-SNE representation\n",
        "plt.figure(figsize=(8, 6))\n",
        "for label in tSNEdf['Fault'].unique():\n",
        "    subset = tSNEdf[tSNEdf['Fault'] == label]\n",
        "    plt.scatter(subset['T-SNE component 1'], subset['T-SNE component 2'], label=f'Fault {label}', alpha=0.7)\n",
        "\n",
        "plt.title('t-SNE Representation of Motor Fault Dataset')\n",
        "plt.xlabel('t-SNE 1')\n",
        "plt.ylabel('t-SNE 2')\n",
        "plt.legend()\n",
        "plt.show()"
      ],
      "metadata": {
        "colab": {
          "base_uri": "https://localhost:8080/",
          "height": 970
        },
        "id": "uic9AVV2NBah",
        "outputId": "189a9a60-e02e-4af4-990f-722c98aee2ad"
      },
      "id": "uic9AVV2NBah",
      "execution_count": 11,
      "outputs": [
        {
          "output_type": "stream",
          "name": "stdout",
          "text": [
            "[t-SNE] Computing 121 nearest neighbors...\n",
            "[t-SNE] Indexed 1570 samples in 0.001s...\n"
          ]
        },
        {
          "output_type": "stream",
          "name": "stderr",
          "text": [
            "/usr/local/lib/python3.12/dist-packages/sklearn/manifold/_t_sne.py:1164: FutureWarning: 'n_iter' was renamed to 'max_iter' in version 1.5 and will be removed in 1.7.\n",
            "  warnings.warn(\n"
          ]
        },
        {
          "output_type": "stream",
          "name": "stdout",
          "text": [
            "[t-SNE] Computed neighbors for 1570 samples in 0.098s...\n",
            "[t-SNE] Computed conditional probabilities for sample 1000 / 1570\n",
            "[t-SNE] Computed conditional probabilities for sample 1570 / 1570\n",
            "[t-SNE] Mean sigma: 2.039984\n",
            "[t-SNE] Computed conditional probabilities in 0.053s\n",
            "[t-SNE] Iteration 50: error = 57.6001663, gradient norm = 0.0380575 (50 iterations in 0.655s)\n",
            "[t-SNE] Iteration 100: error = 52.4893646, gradient norm = 0.0140447 (50 iterations in 0.514s)\n",
            "[t-SNE] Iteration 150: error = 51.2009087, gradient norm = 0.0104668 (50 iterations in 0.484s)\n",
            "[t-SNE] Iteration 200: error = 50.5960693, gradient norm = 0.0062149 (50 iterations in 0.498s)\n",
            "[t-SNE] Iteration 250: error = 50.2337418, gradient norm = 0.0051033 (50 iterations in 0.475s)\n",
            "[t-SNE] KL divergence after 250 iterations with early exaggeration: 50.233742\n",
            "[t-SNE] Iteration 300: error = 0.9114842, gradient norm = 0.0157520 (50 iterations in 0.644s)\n",
            "[t-SNE] Iteration 350: error = 0.6573026, gradient norm = 0.0143897 (50 iterations in 0.760s)\n",
            "[t-SNE] Iteration 400: error = 0.5582647, gradient norm = 0.0118656 (50 iterations in 0.740s)\n",
            "[t-SNE] Iteration 450: error = 0.5097416, gradient norm = 0.0100996 (50 iterations in 0.773s)\n",
            "[t-SNE] Iteration 500: error = 0.4822756, gradient norm = 0.0091360 (50 iterations in 0.768s)\n",
            "[t-SNE] KL divergence after 500 iterations: 0.482276\n",
            "t-SNE results saved as '/content/drive/MyDrive/MK-DCNN CWRU/NNOISE_0_tSNE_results.csv'.\n"
          ]
        },
        {
          "output_type": "display_data",
          "data": {
            "text/plain": [
              "<Figure size 800x600 with 1 Axes>"
            ],
            "image/png": "[encoded data removed]"
          },
          "metadata": {}
        }
      ]
    },
    {
      "cell_type": "markdown",
      "source": [
        "Statistical Features"
      ],
      "metadata": {
        "id": "PRuXPOIH6cTH"
      },
      "id": "PRuXPOIH6cTH"
    },
    {
      "cell_type": "code",
      "source": [
        "import numpy as np\n",
        "from scipy.stats import skew, kurtosis\n",
        "import pandas as pd\n",
        "import matplotlib.pyplot as plt\n",
        "\n",
        "# Total target rows\n",
        "TARGET_ROWS = 1800\n",
        "\n",
        "# Estimate the total number of samples across all fault types\n",
        "total_samples = sum(len(df[df['fault'] == f]) for f in df['fault'].unique())\n",
        "\n",
        "# Calculate suitable window size and stride\n",
        "num_faults = 9\n",
        "average_samples_per_fault = total_samples / num_faults\n",
        "approx_windows_per_fault = TARGET_ROWS / num_faults\n",
        "stride_ratio = 0.8  # Initial stride/window ratio\n",
        "\n",
        "WINDOW_SIZE = int(average_samples_per_fault / approx_windows_per_fault)\n",
        "STRIDE = int(WINDOW_SIZE * stride_ratio)\n",
        "\n",
        "print(f\"Calculated WINDOW_SIZE: {WINDOW_SIZE}, STRIDE: {STRIDE}\")\n",
        "\n",
        "# Initialize a list to store statistical features\n",
        "statistical_features = []\n",
        "\n",
        "# Loop through each fault type\n",
        "for f in df['fault'].unique():\n",
        "    # Extract data for the current fault type\n",
        "    fault_data = df[df['fault'] == f].iloc[:, 0].values  # Convert to NumPy array for efficiency\n",
        "\n",
        "    # Compute windows using sliding window approach\n",
        "    num_windows = (len(fault_data) - WINDOW_SIZE) // STRIDE + 1\n",
        "    for i in range(num_windows):\n",
        "        start = i * STRIDE\n",
        "        end = start + WINDOW_SIZE\n",
        "        window = fault_data[start:end]\n",
        "\n",
        "        # Compute statistical features for the current window\n",
        "        mean_val = np.mean(window)\n",
        "        std_val = np.std(window)\n",
        "        rms_val = np.sqrt(np.mean(np.square(window)))\n",
        "        max_val = np.max(window)\n",
        "        min_val = np.min(window)\n",
        "        skewness_val = skew(window)\n",
        "        kurtosis_val = kurtosis(window)\n",
        "\n",
        "        # Additional statistical features\n",
        "        mean_abs_val = np.mean(np.abs(window))\n",
        "        form_factor = rms_val / mean_abs_val if mean_abs_val != 0 else 0\n",
        "        crest_factor = max_val / rms_val if rms_val != 0 else 0\n",
        "\n",
        "        # Store the features in a dictionary\n",
        "        statistical_features.append({\n",
        "            'fault': f,\n",
        "            'window': i + 1,\n",
        "            'mean': mean_val,\n",
        "            'std': std_val,\n",
        "            'rms': rms_val,\n",
        "            'max': max_val,\n",
        "            'min': min_val,\n",
        "            'skewness': skewness_val,\n",
        "            'kurtosis': kurtosis_val,\n",
        "            'form_factor': form_factor,\n",
        "            'crest_factor': crest_factor\n",
        "        })\n",
        "\n",
        "# Convert statistical features into a DataFrame\n",
        "stat_features_df = pd.DataFrame(statistical_features)\n",
        "\n",
        "# Display the extracted features and count of rows\n",
        "print(f\"Extracted {len(stat_features_df)} rows (target: {TARGET_ROWS})\")\n",
        "print(stat_features_df)\n",
        "\n",
        "# Save the extracted features to a CSV file\n",
        "output_file = \"/content/drive/MyDrive/MK-DCNN CWRU/NNOISE_0_statistical_features_with_form_and_crest_factors.csv\"\n",
        "stat_features_df.to_csv(output_file, index=False)\n",
        "print(f\"Statistical features saved to '{output_file}'.\")\n"
      ],
      "metadata": {
        "colab": {
          "base_uri": "https://localhost:8080/"
        },
        "id": "HRTIq9cYQgjC",
        "outputId": "564e86d7-dbc5-483c-9add-01ef8677a049"
      },
      "id": "HRTIq9cYQgjC",
      "execution_count": 12,
      "outputs": [
        {
          "output_type": "stream",
          "name": "stdout",
          "text": [
            "Calculated WINDOW_SIZE: 2706, STRIDE: 2164\n",
            "Extracted 2243 rows (target: 1800)\n",
            "               fault  window      mean       std       rms       max  \\\n",
            "0      F1_B007_1_124       1  0.014919  0.155983  0.156694  0.585375   \n",
            "1      F1_B007_1_124       2  0.015372  0.145547  0.146357  0.585375   \n",
            "2      F1_B007_1_124       3  0.016878  0.140657  0.141666  0.414936   \n",
            "3      F1_B007_1_124       4  0.016009  0.123387  0.124421  0.438092   \n",
            "4      F1_B007_1_124       5  0.016391  0.135949  0.136933  0.515906   \n",
            "...              ...     ...       ...       ...       ...       ...   \n",
            "2238  F0_Normal_1_98     219  0.013966  0.066277  0.067733  0.220089   \n",
            "2239  F0_Normal_1_98     220  0.015203  0.064545  0.066311  0.211536   \n",
            "2240  F0_Normal_1_98     221  0.016827  0.061149  0.063422  0.188588   \n",
            "2241  F0_Normal_1_98     222  0.015862  0.072285  0.074005  0.317513   \n",
            "2242  F0_Normal_1_98     223  0.015302  0.066122  0.067869  0.196307   \n",
            "\n",
            "           min  skewness  kurtosis  form_factor  crest_factor  \n",
            "0    -0.583497 -0.045748  0.517368     1.292072      3.735773  \n",
            "1    -0.583497  0.019156  0.878896     1.293494      3.999644  \n",
            "2    -0.441013 -0.044319 -0.185060     1.244517      2.928981  \n",
            "3    -0.410764 -0.001229  0.102807     1.255910      3.521039  \n",
            "4    -0.505266  0.002335  0.426095     1.275531      3.767566  \n",
            "...        ...       ...       ...          ...           ...  \n",
            "2238 -0.209658 -0.152031 -0.083714     1.246501      3.249383  \n",
            "2239 -0.246792 -0.239584  0.199873     1.255982      3.190037  \n",
            "2240 -0.197559 -0.218155 -0.222854     1.227483      2.973548  \n",
            "2241 -0.345884 -0.204672  0.504014     1.245955      4.290418  \n",
            "2242 -0.192761 -0.175044 -0.329181     1.224926      2.892435  \n",
            "\n",
            "[2243 rows x 11 columns]\n",
            "Statistical features saved to '/content/drive/MyDrive/MK-DCNN CWRU/NNOISE_0_statistical_features_with_form_and_crest_factors.csv'.\n"
          ]
        }
      ]
    },
    {
      "cell_type": "code",
      "source": [
        "import pandas as pd\n",
        "from sklearn.utils import resample\n",
        "\n",
        "# Load your dataset (replace 'your_dataset.csv' with your actual file)\n",
        "df = pd.read_csv('/content/drive/MyDrive/MK-DCNN CWRU/NNOISE_0_statistical_features_with_form_and_crest_factors.csv')\n",
        "\n",
        "# Display initial class distribution\n",
        "print(\"Initial class distribution:\")\n",
        "print(df['fault'].value_counts())\n",
        "\n",
        "# Target size for undersampling/resampling\n",
        "TARGET_ROWS = 1570\n",
        "\n",
        "# Separate all fault types\n",
        "fault_classes = df['fault'].value_counts()\n",
        "\n",
        "# Determine the number of classes\n",
        "num_classes = len(fault_classes)\n",
        "\n",
        "# Calculate how many samples to take from each class\n",
        "samples_per_class = TARGET_ROWS // num_classes\n",
        "\n",
        "# Initialize a list to store resampled data\n",
        "resampled_data = []\n",
        "\n",
        "# Loop over each class to resample them\n",
        "for fault_class in fault_classes.index:\n",
        "    class_data = df[df['fault'] == fault_class]\n",
        "    if len(class_data) > samples_per_class:\n",
        "        # Undersample\n",
        "        class_data_resampled = resample(class_data, replace=False, n_samples=samples_per_class, random_state=42)\n",
        "    else:\n",
        "        # Upsample\n",
        "        class_data_resampled = resample(class_data, replace=True, n_samples=samples_per_class, random_state=42)\n",
        "\n",
        "    resampled_data.append(class_data_resampled)\n",
        "\n",
        "# Concatenate the resampled data into a single DataFrame\n",
        "balanced_df = pd.concat(resampled_data)\n",
        "\n",
        "# Check if we have the exact number of rows\n",
        "current_rows = len(balanced_df)\n",
        "print(f\"Current rows after equal resampling: {current_rows}\")\n",
        "\n",
        "# If the current rows don't match the target rows, adjust by trimming or adding rows\n",
        "if current_rows > TARGET_ROWS:\n",
        "    # Trim extra rows (if more than target)\n",
        "    balanced_df = balanced_df.head(TARGET_ROWS)\n",
        "elif current_rows < TARGET_ROWS:\n",
        "    # Add rows if fewer than target, by sampling from existing data\n",
        "    remaining_rows = TARGET_ROWS - current_rows\n",
        "    additional_data = balanced_df.sample(n=remaining_rows, replace=True, random_state=42)\n",
        "    balanced_df = pd.concat([balanced_df, additional_data])\n",
        "\n",
        "# Shuffle the final dataset\n",
        "balanced_df = balanced_df.sample(frac=1, random_state=42).reset_index(drop=True)\n",
        "\n",
        "# Display new class distribution\n",
        "print(\"New class distribution:\")\n",
        "print(balanced_df['fault'].value_counts())\n",
        "\n",
        "# Display final row count\n",
        "print(f\"Final row count: {len(balanced_df)}\")\n",
        "\n",
        "# Save the balanced dataset to a CSV file\n",
        "balanced_df.to_csv(\"/content/drive/MyDrive/MK-DCNN CWRU/NNOISE_0_balanced_dataset_equal_resampling_exact_1570.csv\", index=False)\n",
        "print(\"Balanced dataset saved as '/content/drive/MyDrive/MK-DCNN CWRU/NNOISE_0_balanced_dataset_equal_resampling_exact_1570.csv'\")\n"
      ],
      "metadata": {
        "id": "0-DLTbJL0tc6",
        "colab": {
          "base_uri": "https://localhost:8080/"
        },
        "outputId": "8fb50dcf-6f77-4e35-db8c-03e39a4b365c"
      },
      "id": "0-DLTbJL0tc6",
      "execution_count": 13,
      "outputs": [
        {
          "output_type": "stream",
          "name": "stdout",
          "text": [
            "Initial class distribution:\n",
            "F6_IR021_1_215      226\n",
            "F5_IR014_1_176      225\n",
            "F9_OR021_6_1_240    225\n",
            "F1_B007_1_124       224\n",
            "F2_B014_1_191       224\n",
            "F4_IR007_1_111      224\n",
            "F3_B021_1_228       224\n",
            "F7_OR007_6_1_137    224\n",
            "F8_OR014_6_1_203    224\n",
            "F0_Normal_1_98      223\n",
            "Name: fault, dtype: int64\n",
            "Current rows after equal resampling: 1570\n",
            "New class distribution:\n",
            "F0_Normal_1_98      157\n",
            "F3_B021_1_228       157\n",
            "F9_OR021_6_1_240    157\n",
            "F7_OR007_6_1_137    157\n",
            "F4_IR007_1_111      157\n",
            "F1_B007_1_124       157\n",
            "F6_IR021_1_215      157\n",
            "F5_IR014_1_176      157\n",
            "F2_B014_1_191       157\n",
            "F8_OR014_6_1_203    157\n",
            "Name: fault, dtype: int64\n",
            "Final row count: 1570\n",
            "Balanced dataset saved as '/content/drive/MyDrive/MK-DCNN CWRU/NNOISE_0_balanced_dataset_equal_resampling_exact_1570.csv'\n"
          ]
        }
      ]
    },
    {
      "cell_type": "code",
      "source": [
        "balanced_df.shape"
      ],
      "metadata": {
        "id": "NQ3f_WOt7Dld",
        "colab": {
          "base_uri": "https://localhost:8080/"
        },
        "outputId": "75c145b2-a299-48f3-8238-4babc55f4436"
      },
      "id": "NQ3f_WOt7Dld",
      "execution_count": 14,
      "outputs": [
        {
          "output_type": "execute_result",
          "data": {
            "text/plain": [
              "(1570, 11)"
            ]
          },
          "metadata": {},
          "execution_count": 14
        }
      ]
    },
    {
      "cell_type": "code",
      "source": [
        "balanced_df=balanced_df.sort_values(by='fault')"
      ],
      "metadata": {
        "id": "JP_zDzu6_Zkt"
      },
      "id": "JP_zDzu6_Zkt",
      "execution_count": 15,
      "outputs": []
    },
    {
      "cell_type": "code",
      "source": [
        "balanced_df"
      ],
      "metadata": {
        "id": "eq6MhY1CAvgD",
        "colab": {
          "base_uri": "https://localhost:8080/",
          "height": 423
        },
        "outputId": "cf255dcc-ca5d-4991-81ca-c0df4693a17c"
      },
      "id": "eq6MhY1CAvgD",
      "execution_count": 16,
      "outputs": [
        {
          "output_type": "execute_result",
          "data": {
            "text/plain": [
              "                 fault  window      mean       std       rms       max  \\\n",
              "0       F0_Normal_1_98      43  0.009751  0.065139  0.065864  0.212996   \n",
              "412     F0_Normal_1_98     126  0.009053  0.065878  0.066497  0.207990   \n",
              "418     F0_Normal_1_98      39  0.009913  0.066629  0.067362  0.214457   \n",
              "421     F0_Normal_1_98      41  0.009056  0.062323  0.062978  0.181078   \n",
              "434     F0_Normal_1_98     171  0.014931  0.068058  0.069677  0.243871   \n",
              "...                ...     ...       ...       ...       ...       ...   \n",
              "671   F9_OR021_6_1_240      37  0.019118  0.764205  0.764444  6.993672   \n",
              "992   F9_OR021_6_1_240      68  0.015919  0.368323  0.368667  2.281144   \n",
              "1004  F9_OR021_6_1_240      65  0.016095  0.570980  0.571206  4.146624   \n",
              "317   F9_OR021_6_1_240      45  0.015551  0.652645  0.652830  3.912083   \n",
              "450   F9_OR021_6_1_240      62  0.016822  0.388155  0.388520  2.670933   \n",
              "\n",
              "           min  skewness   kurtosis  form_factor  crest_factor  \n",
              "0    -0.215708 -0.274433  -0.045461     1.236035      3.233858  \n",
              "412  -0.209450 -0.182528   0.069087     1.252104      3.127817  \n",
              "418  -0.243246 -0.129796  -0.097380     1.238133      3.183623  \n",
              "421  -0.183999 -0.064707  -0.311857     1.232367      2.875268  \n",
              "434  -0.235944 -0.167390  -0.017621     1.233601      3.500033  \n",
              "...        ...       ...        ...          ...           ...  \n",
              "671  -6.522920 -0.190572  27.035617     2.207795      9.148707  \n",
              "992  -2.346248 -0.327045   7.737874     1.589529      6.187542  \n",
              "1004 -4.914517 -0.877848  22.789508     2.140498      7.259415  \n",
              "317  -4.865272 -0.570812  12.225455     1.778703      5.992494  \n",
              "450  -2.594144  0.075114  10.291518     1.668104      6.874642  \n",
              "\n",
              "[1570 rows x 11 columns]"
            ],
            "text/html": [
              "\n",
              "  <div id=\"df-447087ba-a3c3-466e-8682-fa5d7f5caed6\" class=\"colab-df-container\">\n",
              "    <div>\n",
              "<style scoped>\n",
              "    .dataframe tbody tr th:only-of-type {\n",
              "        vertical-align: middle;\n",
              "    }\n",
              "\n",
              "    .dataframe tbody tr th {\n",
              "        vertical-align: top;\n",
              "    }\n",
              "\n",
              "    .dataframe thead th {\n",
              "        text-align: right;\n",
              "    }\n",
              "</style>\n",
              "<table border=\"1\" class=\"dataframe\">\n",
              "  <thead>\n",
              "    <tr style=\"text-align: right;\">\n",
              "      <th></th>\n",
              "      <th>fault</th>\n",
              "      <th>window</th>\n",
              "      <th>mean</th>\n",
              "      <th>std</th>\n",
              "      <th>rms</th>\n",
              "      <th>max</th>\n",
              "      <th>min</th>\n",
              "      <th>skewness</th>\n",
              "      <th>kurtosis</th>\n",
              "      <th>form_factor</th>\n",
              "      <th>crest_factor</th>\n",
              "    </tr>\n",
              "  </thead>\n",
              "  <tbody>\n",
              "    <tr>\n",
              "      <th>0</th>\n",
              "      <td>F0_Normal_1_98</td>\n",
              "      <td>43</td>\n",
              "      <td>0.009751</td>\n",
              "      <td>0.065139</td>\n",
              "      <td>0.065864</td>\n",
              "      <td>0.212996</td>\n",
              "      <td>-0.215708</td>\n",
              "      <td>-0.274433</td>\n",
              "      <td>-0.045461</td>\n",
              "      <td>1.236035</td>\n",
              "      <td>3.233858</td>\n",
              "    </tr>\n",
              "    <tr>\n",
              "      <th>412</th>\n",
              "      <td>F0_Normal_1_98</td>\n",
              "      <td>126</td>\n",
              "      <td>0.009053</td>\n",
              "      <td>0.065878</td>\n",
              "      <td>0.066497</td>\n",
              "      <td>0.207990</td>\n",
              "      <td>-0.209450</td>\n",
              "      <td>-0.182528</td>\n",
              "      <td>0.069087</td>\n",
              "      <td>1.252104</td>\n",
              "      <td>3.127817</td>\n",
              "    </tr>\n",
              "    <tr>\n",
              "      <th>418</th>\n",
              "      <td>F0_Normal_1_98</td>\n",
              "      <td>39</td>\n",
              "      <td>0.009913</td>\n",
              "      <td>0.066629</td>\n",
              "      <td>0.067362</td>\n",
              "      <td>0.214457</td>\n",
              "      <td>-0.243246</td>\n",
              "      <td>-0.129796</td>\n",
              "      <td>-0.097380</td>\n",
              "      <td>1.238133</td>\n",
              "      <td>3.183623</td>\n",
              "    </tr>\n",
              "    <tr>\n",
              "      <th>421</th>\n",
              "      <td>F0_Normal_1_98</td>\n",
              "      <td>41</td>\n",
              "      <td>0.009056</td>\n",
              "      <td>0.062323</td>\n",
              "      <td>0.062978</td>\n",
              "      <td>0.181078</td>\n",
              "      <td>-0.183999</td>\n",
              "      <td>-0.064707</td>\n",
              "      <td>-0.311857</td>\n",
              "      <td>1.232367</td>\n",
              "      <td>2.875268</td>\n",
              "    </tr>\n",
              "    <tr>\n",
              "      <th>434</th>\n",
              "      <td>F0_Normal_1_98</td>\n",
              "      <td>171</td>\n",
              "      <td>0.014931</td>\n",
              "      <td>0.068058</td>\n",
              "      <td>0.069677</td>\n",
              "      <td>0.243871</td>\n",
              "      <td>-0.235944</td>\n",
              "      <td>-0.167390</td>\n",
              "      <td>-0.017621</td>\n",
              "      <td>1.233601</td>\n",
              "      <td>3.500033</td>\n",
              "    </tr>\n",
              "    <tr>\n",
              "      <th>...</th>\n",
              "      <td>...</td>\n",
              "      <td>...</td>\n",
              "      <td>...</td>\n",
              "      <td>...</td>\n",
              "      <td>...</td>\n",
              "      <td>...</td>\n",
              "      <td>...</td>\n",
              "      <td>...</td>\n",
              "      <td>...</td>\n",
              "      <td>...</td>\n",
              "      <td>...</td>\n",
              "    </tr>\n",
              "    <tr>\n",
              "      <th>671</th>\n",
              "      <td>F9_OR021_6_1_240</td>\n",
              "      <td>37</td>\n",
              "      <td>0.019118</td>\n",
              "      <td>0.764205</td>\n",
              "      <td>0.764444</td>\n",
              "      <td>6.993672</td>\n",
              "      <td>-6.522920</td>\n",
              "      <td>-0.190572</td>\n",
              "      <td>27.035617</td>\n",
              "      <td>2.207795</td>\n",
              "      <td>9.148707</td>\n",
              "    </tr>\n",
              "    <tr>\n",
              "      <th>992</th>\n",
              "      <td>F9_OR021_6_1_240</td>\n",
              "      <td>68</td>\n",
              "      <td>0.015919</td>\n",
              "      <td>0.368323</td>\n",
              "      <td>0.368667</td>\n",
              "      <td>2.281144</td>\n",
              "      <td>-2.346248</td>\n",
              "      <td>-0.327045</td>\n",
              "      <td>7.737874</td>\n",
              "      <td>1.589529</td>\n",
              "      <td>6.187542</td>\n",
              "    </tr>\n",
              "    <tr>\n",
              "      <th>1004</th>\n",
              "      <td>F9_OR021_6_1_240</td>\n",
              "      <td>65</td>\n",
              "      <td>0.016095</td>\n",
              "      <td>0.570980</td>\n",
              "      <td>0.571206</td>\n",
              "      <td>4.146624</td>\n",
              "      <td>-4.914517</td>\n",
              "      <td>-0.877848</td>\n",
              "      <td>22.789508</td>\n",
              "      <td>2.140498</td>\n",
              "      <td>7.259415</td>\n",
              "    </tr>\n",
              "    <tr>\n",
              "      <th>317</th>\n",
              "      <td>F9_OR021_6_1_240</td>\n",
              "      <td>45</td>\n",
              "      <td>0.015551</td>\n",
              "      <td>0.652645</td>\n",
              "      <td>0.652830</td>\n",
              "      <td>3.912083</td>\n",
              "      <td>-4.865272</td>\n",
              "      <td>-0.570812</td>\n",
              "      <td>12.225455</td>\n",
              "      <td>1.778703</td>\n",
              "      <td>5.992494</td>\n",
              "    </tr>\n",
              "    <tr>\n",
              "      <th>450</th>\n",
              "      <td>F9_OR021_6_1_240</td>\n",
              "      <td>62</td>\n",
              "      <td>0.016822</td>\n",
              "      <td>0.388155</td>\n",
              "      <td>0.388520</td>\n",
              "      <td>2.670933</td>\n",
              "      <td>-2.594144</td>\n",
              "      <td>0.075114</td>\n",
              "      <td>10.291518</td>\n",
              "      <td>1.668104</td>\n",
              "      <td>6.874642</td>\n",
              "    </tr>\n",
              "  </tbody>\n",
              "</table>\n",
              "<p>1570 rows × 11 columns</p>\n",
              "</div>\n",
              "    <div class=\"colab-df-buttons\">\n",
              "\n",
              "  <div class=\"colab-df-container\">\n",
              "    <button class=\"colab-df-convert\" onclick=\"convertToInteractive('df-447087ba-a3c3-466e-8682-fa5d7f5caed6')\"\n",
              "            title=\"Convert this dataframe to an interactive table.\"\n",
              "            style=\"display:none;\">\n",
              "\n",
              "  <svg xmlns=\"http://www.w3.org/2000/svg\" height=\"24px\" viewBox=\"0 -960 960 960\">\n",
              "    <path d=\"M120-120v-720h720v720H120Zm60-500h600v-160H180v160Zm220 220h160v-160H400v160Zm0 220h160v-160H400v160ZM180-400h160v-160H180v160Zm440 0h160v-160H620v160ZM180-180h160v-160H180v160Zm440 0h160v-160H620v160Z\"/>\n",
              "  </svg>\n",
              "    </button>\n",
              "\n",
              "  <style>\n",
              "    .colab-df-container {\n",
              "      display:flex;\n",
              "      gap: 12px;\n",
              "    }\n",
              "\n",
              "    .colab-df-convert {\n",
              "      background-color: #E8F0FE;\n",
              "      border: none;\n",
              "      border-radius: 50%;\n",
              "      cursor: pointer;\n",
              "      display: none;\n",
              "      fill: #1967D2;\n",
              "      height: 32px;\n",
              "      padding: 0 0 0 0;\n",
              "      width: 32px;\n",
              "    }\n",
              "\n",
              "    .colab-df-convert:hover {\n",
              "      background-color: #E2EBFA;\n",
              "      box-shadow: 0px 1px 2px rgba(60, 64, 67, 0.3), 0px 1px 3px 1px rgba(60, 64, 67, 0.15);\n",
              "      fill: #174EA6;\n",
              "    }\n",
              "\n",
              "    .colab-df-buttons div {\n",
              "      margin-bottom: 4px;\n",
              "    }\n",
              "\n",
              "    [theme=dark] .colab-df-convert {\n",
              "      background-color: #3B4455;\n",
              "      fill: #D2E3FC;\n",
              "    }\n",
              "\n",
              "    [theme=dark] .colab-df-convert:hover {\n",
              "      background-color: #434B5C;\n",
              "      box-shadow: 0px 1px 3px 1px rgba(0, 0, 0, 0.15);\n",
              "      filter: drop-shadow(0px 1px 2px rgba(0, 0, 0, 0.3));\n",
              "      fill: #FFFFFF;\n",
              "    }\n",
              "  </style>\n",
              "\n",
              "    <script>\n",
              "      const buttonEl =\n",
              "        document.querySelector('#df-447087ba-a3c3-466e-8682-fa5d7f5caed6 button.colab-df-convert');\n",
              "      buttonEl.style.display =\n",
              "        google.colab.kernel.accessAllowed ? 'block' : 'none';\n",
              "\n",
              "      async function convertToInteractive(key) {\n",
              "        const element = document.querySelector('#df-447087ba-a3c3-466e-8682-fa5d7f5caed6');\n",
              "        const dataTable =\n",
              "          await google.colab.kernel.invokeFunction('convertToInteractive',\n",
              "                                                    [key], {});\n",
              "        if (!dataTable) return;\n",
              "\n",
              "        const docLinkHtml = 'Like what you see? Visit the ' +\n",
              "          '<a target=\"_blank\" href=https://colab.research.google.com/notebooks/data_table.ipynb>data table notebook</a>'\n",
              "          + ' to learn more about interactive tables.';\n",
              "        element.innerHTML = '';\n",
              "        dataTable['output_type'] = 'display_data';\n",
              "        await google.colab.output.renderOutput(dataTable, element);\n",
              "        const docLink = document.createElement('div');\n",
              "        docLink.innerHTML = docLinkHtml;\n",
              "        element.appendChild(docLink);\n",
              "      }\n",
              "    </script>\n",
              "  </div>\n",
              "\n",
              "\n",
              "    <div id=\"df-498e6b7c-31de-4e47-a9ac-d6c6343d48a4\">\n",
              "      <button class=\"colab-df-quickchart\" onclick=\"quickchart('df-498e6b7c-31de-4e47-a9ac-d6c6343d48a4')\"\n",
              "                title=\"Suggest charts\"\n",
              "                style=\"display:none;\">\n",
              "\n",
              "<svg xmlns=\"http://www.w3.org/2000/svg\" height=\"24px\"viewBox=\"0 0 24 24\"\n",
              "     width=\"24px\">\n",
              "    <g>\n",
              "        <path d=\"M19 3H5c-1.1 0-2 .9-2 2v14c0 1.1.9 2 2 2h14c1.1 0 2-.9 2-2V5c0-1.1-.9-2-2-2zM9 17H7v-7h2v7zm4 0h-2V7h2v10zm4 0h-2v-4h2v4z\"/>\n",
              "    </g>\n",
              "</svg>\n",
              "      </button>\n",
              "\n",
              "<style>\n",
              "  .colab-df-quickchart {\n",
              "      --bg-color: #E8F0FE;\n",
              "      --fill-color: #1967D2;\n",
              "      --hover-bg-color: #E2EBFA;\n",
              "      --hover-fill-color: #174EA6;\n",
              "      --disabled-fill-color: #AAA;\n",
              "      --disabled-bg-color: #DDD;\n",
              "  }\n",
              "\n",
              "  [theme=dark] .colab-df-quickchart {\n",
              "      --bg-color: #3B4455;\n",
              "      --fill-color: #D2E3FC;\n",
              "      --hover-bg-color: #434B5C;\n",
              "      --hover-fill-color: #FFFFFF;\n",
              "      --disabled-bg-color: #3B4455;\n",
              "      --disabled-fill-color: #666;\n",
              "  }\n",
              "\n",
              "  .colab-df-quickchart {\n",
              "    background-color: var(--bg-color);\n",
              "    border: none;\n",
              "    border-radius: 50%;\n",
              "    cursor: pointer;\n",
              "    display: none;\n",
              "    fill: var(--fill-color);\n",
              "    height: 32px;\n",
              "    padding: 0;\n",
              "    width: 32px;\n",
              "  }\n",
              "\n",
              "  .colab-df-quickchart:hover {\n",
              "    background-color: var(--hover-bg-color);\n",
              "    box-shadow: 0 1px 2px rgba(60, 64, 67, 0.3), 0 1px 3px 1px rgba(60, 64, 67, 0.15);\n",
              "    fill: var(--button-hover-fill-color);\n",
              "  }\n",
              "\n",
              "  .colab-df-quickchart-complete:disabled,\n",
              "  .colab-df-quickchart-complete:disabled:hover {\n",
              "    background-color: var(--disabled-bg-color);\n",
              "    fill: var(--disabled-fill-color);\n",
              "    box-shadow: none;\n",
              "  }\n",
              "\n",
              "  .colab-df-spinner {\n",
              "    border: 2px solid var(--fill-color);\n",
              "    border-color: transparent;\n",
              "    border-bottom-color: var(--fill-color);\n",
              "    animation:\n",
              "      spin 1s steps(1) infinite;\n",
              "  }\n",
              "\n",
              "  @keyframes spin {\n",
              "    0% {\n",
              "      border-color: transparent;\n",
              "      border-bottom-color: var(--fill-color);\n",
              "      border-left-color: var(--fill-color);\n",
              "    }\n",
              "    20% {\n",
              "      border-color: transparent;\n",
              "      border-left-color: var(--fill-color);\n",
              "      border-top-color: var(--fill-color);\n",
              "    }\n",
              "    30% {\n",
              "      border-color: transparent;\n",
              "      border-left-color: var(--fill-color);\n",
              "      border-top-color: var(--fill-color);\n",
              "      border-right-color: var(--fill-color);\n",
              "    }\n",
              "    40% {\n",
              "      border-color: transparent;\n",
              "      border-right-color: var(--fill-color);\n",
              "      border-top-color: var(--fill-color);\n",
              "    }\n",
              "    60% {\n",
              "      border-color: transparent;\n",
              "      border-right-color: var(--fill-color);\n",
              "    }\n",
              "    80% {\n",
              "      border-color: transparent;\n",
              "      border-right-color: var(--fill-color);\n",
              "      border-bottom-color: var(--fill-color);\n",
              "    }\n",
              "    90% {\n",
              "      border-color: transparent;\n",
              "      border-bottom-color: var(--fill-color);\n",
              "    }\n",
              "  }\n",
              "</style>\n",
              "\n",
              "      <script>\n",
              "        async function quickchart(key) {\n",
              "          const quickchartButtonEl =\n",
              "            document.querySelector('#' + key + ' button');\n",
              "          quickchartButtonEl.disabled = true;  // To prevent multiple clicks.\n",
              "          quickchartButtonEl.classList.add('colab-df-spinner');\n",
              "          try {\n",
              "            const charts = await google.colab.kernel.invokeFunction(\n",
              "                'suggestCharts', [key], {});\n",
              "          } catch (error) {\n",
              "            console.error('Error during call to suggestCharts:', error);\n",
              "          }\n",
              "          quickchartButtonEl.classList.remove('colab-df-spinner');\n",
              "          quickchartButtonEl.classList.add('colab-df-quickchart-complete');\n",
              "        }\n",
              "        (() => {\n",
              "          let quickchartButtonEl =\n",
              "            document.querySelector('#df-498e6b7c-31de-4e47-a9ac-d6c6343d48a4 button');\n",
              "          quickchartButtonEl.style.display =\n",
              "            google.colab.kernel.accessAllowed ? 'block' : 'none';\n",
              "        })();\n",
              "      </script>\n",
              "    </div>\n",
              "\n",
              "  <div id=\"id_3725d6fc-7709-48f7-94e8-b728ade8d0b3\">\n",
              "    <style>\n",
              "      .colab-df-generate {\n",
              "        background-color: #E8F0FE;\n",
              "        border: none;\n",
              "        border-radius: 50%;\n",
              "        cursor: pointer;\n",
              "        display: none;\n",
              "        fill: #1967D2;\n",
              "        height: 32px;\n",
              "        padding: 0 0 0 0;\n",
              "        width: 32px;\n",
              "      }\n",
              "\n",
              "      .colab-df-generate:hover {\n",
              "        background-color: #E2EBFA;\n",
              "        box-shadow: 0px 1px 2px rgba(60, 64, 67, 0.3), 0px 1px 3px 1px rgba(60, 64, 67, 0.15);\n",
              "        fill: #174EA6;\n",
              "      }\n",
              "\n",
              "      [theme=dark] .colab-df-generate {\n",
              "        background-color: #3B4455;\n",
              "        fill: #D2E3FC;\n",
              "      }\n",
              "\n",
              "      [theme=dark] .colab-df-generate:hover {\n",
              "        background-color: #434B5C;\n",
              "        box-shadow: 0px 1px 3px 1px rgba(0, 0, 0, 0.15);\n",
              "        filter: drop-shadow(0px 1px 2px rgba(0, 0, 0, 0.3));\n",
              "        fill: #FFFFFF;\n",
              "      }\n",
              "    </style>\n",
              "    <button class=\"colab-df-generate\" onclick=\"generateWithVariable('balanced_df')\"\n",
              "            title=\"Generate code using this dataframe.\"\n",
              "            style=\"display:none;\">\n",
              "\n",
              "  <svg xmlns=\"http://www.w3.org/2000/svg\" height=\"24px\"viewBox=\"0 0 24 24\"\n",
              "       width=\"24px\">\n",
              "    <path d=\"M7,19H8.4L18.45,9,17,7.55,7,17.6ZM5,21V16.75L18.45,3.32a2,2,0,0,1,2.83,0l1.4,1.43a1.91,1.91,0,0,1,.58,1.4,1.91,1.91,0,0,1-.58,1.4L9.25,21ZM18.45,9,17,7.55Zm-12,3A5.31,5.31,0,0,0,4.9,8.1,5.31,5.31,0,0,0,1,6.5,5.31,5.31,0,0,0,4.9,4.9,5.31,5.31,0,0,0,6.5,1,5.31,5.31,0,0,0,8.1,4.9,5.31,5.31,0,0,0,12,6.5,5.46,5.46,0,0,0,6.5,12Z\"/>\n",
              "  </svg>\n",
              "    </button>\n",
              "    <script>\n",
              "      (() => {\n",
              "      const buttonEl =\n",
              "        document.querySelector('#id_3725d6fc-7709-48f7-94e8-b728ade8d0b3 button.colab-df-generate');\n",
              "      buttonEl.style.display =\n",
              "        google.colab.kernel.accessAllowed ? 'block' : 'none';\n",
              "\n",
              "      buttonEl.onclick = () => {\n",
              "        google.colab.notebook.generateWithVariable('balanced_df');\n",
              "      }\n",
              "      })();\n",
              "    </script>\n",
              "  </div>\n",
              "\n",
              "    </div>\n",
              "  </div>\n"
            ],
            "application/vnd.google.colaboratory.intrinsic+json": {
              "type": "dataframe",
              "variable_name": "balanced_df",
              "summary": "{\n  \"name\": \"balanced_df\",\n  \"rows\": 1570,\n  \"fields\": [\n    {\n      \"column\": \"fault\",\n      \"properties\": {\n        \"dtype\": \"category\",\n        \"num_unique_values\": 10,\n        \"samples\": [\n          \"F8_OR014_6_1_203\",\n          \"F1_B007_1_124\",\n          \"F5_IR014_1_176\"\n        ],\n        \"semantic_type\": \"\",\n        \"description\": \"\"\n      }\n    },\n    {\n      \"column\": \"window\",\n      \"properties\": {\n        \"dtype\": \"number\",\n        \"std\": 63,\n        \"min\": 1,\n        \"max\": 225,\n        \"num_unique_values\": 170,\n        \"samples\": [\n          155,\n          116,\n          165\n        ],\n        \"semantic_type\": \"\",\n        \"description\": \"\"\n      }\n    },\n    {\n      \"column\": \"mean\",\n      \"properties\": {\n        \"dtype\": \"number\",\n        \"std\": 0.003055464227007513,\n        \"min\": 0.0053186900903974,\n        \"max\": 0.0220538920916481,\n        \"num_unique_values\": 1568,\n        \"samples\": [\n          0.0172315792067011,\n          0.0115224922394678,\n          0.0119544478935698\n        ],\n        \"semantic_type\": \"\",\n        \"description\": \"\"\n      }\n    },\n    {\n      \"column\": \"std\",\n      \"properties\": {\n        \"dtype\": \"number\",\n        \"std\": 0.3087683168041427,\n        \"min\": 0.0608397813857393,\n        \"max\": 1.1367511928719762,\n        \"num_unique_values\": 1570,\n        \"samples\": [\n          0.5754836136294472,\n          0.7289511528078662,\n          0.2315748489717597\n        ],\n        \"semantic_type\": \"\",\n        \"description\": \"\"\n      }\n    },\n    {\n      \"column\": \"rms\",\n      \"properties\": {\n        \"dtype\": \"number\",\n        \"std\": 0.3084888933934957,\n        \"min\": 0.0621687980257991,\n        \"max\": 1.136777706613333,\n        \"num_unique_values\": 1570,\n        \"samples\": [\n          0.5756492964483911,\n          0.7289853876730058,\n          0.2318832022823848\n        ],\n        \"semantic_type\": \"\",\n        \"description\": \"\"\n      }\n    },\n    {\n      \"column\": \"max\",\n      \"properties\": {\n        \"dtype\": \"number\",\n        \"std\": 1.5942788836870725,\n        \"min\": 0.1741938461538461,\n        \"max\": 7.323365333333333,\n        \"num_unique_values\": 1325,\n        \"samples\": [\n          2.530713230769231,\n          0.6976098461538461,\n          2.3077033846153845\n        ],\n        \"semantic_type\": \"\",\n        \"description\": \"\"\n      }\n    },\n    {\n      \"column\": \"min\",\n      \"properties\": {\n        \"dtype\": \"number\",\n        \"std\": 1.6077877983976288,\n        \"min\": -6.686514666666666,\n        \"max\": -0.1685612307692307,\n        \"num_unique_values\": 1308,\n        \"samples\": [\n          -4.674550666666666,\n          -4.420812,\n          -0.9644573333333332\n        ],\n        \"semantic_type\": \"\",\n        \"description\": \"\"\n      }\n    },\n    {\n      \"column\": \"skewness\",\n      \"properties\": {\n        \"dtype\": \"number\",\n        \"std\": 0.20437930074571478,\n        \"min\": -1.1557635923025074,\n        \"max\": 0.7117501344694851,\n        \"num_unique_values\": 1570,\n        \"samples\": [\n          -1.093081524654234,\n          0.1098416276576852,\n          0.5065427586080378\n        ],\n        \"semantic_type\": \"\",\n        \"description\": \"\"\n      }\n    },\n    {\n      \"column\": \"kurtosis\",\n      \"properties\": {\n        \"dtype\": \"number\",\n        \"std\": 5.709330265380872,\n        \"min\": -0.6250225303765622,\n        \"max\": 29.78275339792188,\n        \"num_unique_values\": 1570,\n        \"samples\": [\n          21.438470090513103,\n          0.978691512027487,\n          6.027299770265838\n        ],\n        \"semantic_type\": \"\",\n        \"description\": \"\"\n      }\n    },\n    {\n      \"column\": \"form_factor\",\n      \"properties\": {\n        \"dtype\": \"number\",\n        \"std\": 0.22779628545714206,\n        \"min\": 1.210415449300014,\n        \"max\": 2.3588976138699267,\n        \"num_unique_values\": 1570,\n        \"samples\": [\n          1.98689681579735,\n          1.378589757190964,\n          1.547965966569319\n        ],\n        \"semantic_type\": \"\",\n        \"description\": \"\"\n      }\n    },\n    {\n      \"column\": \"crest_factor\",\n      \"properties\": {\n        \"dtype\": \"number\",\n        \"std\": 1.441048633065835,\n        \"min\": 2.629990487027982,\n        \"max\": 10.272202467018175,\n        \"num_unique_values\": 1570,\n        \"samples\": [\n          7.381730554031803,\n          4.18269352595882,\n          5.931439695637298\n        ],\n        \"semantic_type\": \"\",\n        \"description\": \"\"\n      }\n    }\n  ]\n}"
            }
          },
          "metadata": {},
          "execution_count": 16
        }
      ]
    },
    {
      "cell_type": "code",
      "source": [
        "import pandas as pd\n",
        "from sklearn.preprocessing import StandardScaler\n",
        "from sklearn.manifold import TSNE\n",
        "import matplotlib.pyplot as plt\n",
        "\n",
        "\n",
        "# Sort the dataset by the 'Fault' column\n",
        "balanced_df = balanced_df.sort_values(by='fault')\n",
        "\n",
        "# Separate features and target variable\n",
        "X = balanced_df.drop(columns=['fault'])  # Replace 'Fault' with actual target column name\n",
        "y = balanced_df['fault']\n",
        "\n",
        "# Normalize the feature columns using StandardScaler\n",
        "scaler = StandardScaler()\n",
        "X_normalized = pd.DataFrame(scaler.fit_transform(X), columns=X.columns)\n",
        "\n",
        "# Concatenate the normalized features with the target variable\n",
        "STAT_Motor_Fault_dataset_normalized = pd.concat([X_normalized, y.reset_index(drop=True)], axis=1)\n",
        "\n",
        "# Sort the normalized dataset by 'Fault' column\n",
        "STAT_Motor_Fault_dataset_normalized = STAT_Motor_Fault_dataset_normalized.sort_values(by='fault')\n",
        "\n",
        "# Apply t-SNE for dimensionality reduction\n",
        "tsne = TSNE(n_components=2, random_state=42)  # 2D t-SNE\n",
        "X_tsne = tsne.fit_transform(X_normalized)\n",
        "\n",
        "# Create a DataFrame for t-SNE results\n",
        "tSNE_representation = pd.DataFrame(X_tsne, columns=['t-SNE 1', 't-SNE 2'])\n",
        "tSNE_representation['fault'] = y.reset_index(drop=True)\n",
        "\n",
        "# Display the t-SNE representation\n",
        "print(tSNE_representation.head())\n",
        "\n",
        "# Optional: Visualization of t-SNE representation\n",
        "plt.figure(figsize=(8, 6))\n",
        "for label in tSNE_representation['fault'].unique():\n",
        "    subset = tSNE_representation[tSNE_representation['fault'] == label]\n",
        "    plt.scatter(subset['t-SNE 1'], subset['t-SNE 2'], label=f'fault {label}', alpha=0.7)\n",
        "\n",
        "plt.title('t-SNE Representation of Motor Fault Dataset')\n",
        "plt.xlabel('t-SNE 1')\n",
        "plt.ylabel('t-SNE 2')\n",
        "plt.legend()\n",
        "plt.show()\n"
      ],
      "metadata": {
        "id": "tV7aspjE3R4f",
        "colab": {
          "base_uri": "https://localhost:8080/",
          "height": 675
        },
        "outputId": "360482c7-8589-4571-ca70-121d599de555"
      },
      "id": "tV7aspjE3R4f",
      "execution_count": 17,
      "outputs": [
        {
          "output_type": "stream",
          "name": "stdout",
          "text": [
            "     t-SNE 1    t-SNE 2           fault\n",
            "0  21.238615 -26.589052  F0_Normal_1_98\n",
            "1  39.434128  -0.538215  F0_Normal_1_98\n",
            "2  23.587759   5.944052  F0_Normal_1_98\n",
            "3  29.598824  25.057808  F0_Normal_1_98\n",
            "4  38.192833  24.018194  F0_Normal_1_98\n"
          ]
        },
        {
          "output_type": "display_data",
          "data": {
            "text/plain": [
              "<Figure size 800x600 with 1 Axes>"
            ],
            "image/png": "[encoded data removed]"
          },
          "metadata": {}
        }
      ]
    },
    {
      "cell_type": "code",
      "source": [
        "tSNE_representation"
      ],
      "metadata": {
        "id": "QMwOLwssDgHU",
        "colab": {
          "base_uri": "https://localhost:8080/",
          "height": 423
        },
        "outputId": "1051dc82-917f-4bc0-c72b-3e0e0cb398ae"
      },
      "id": "QMwOLwssDgHU",
      "execution_count": 18,
      "outputs": [
        {
          "output_type": "execute_result",
          "data": {
            "text/plain": [
              "        t-SNE 1    t-SNE 2             fault\n",
              "0     21.238615 -26.589052    F0_Normal_1_98\n",
              "1     39.434128  -0.538215    F0_Normal_1_98\n",
              "2     23.587759   5.944052    F0_Normal_1_98\n",
              "3     29.598824  25.057808    F0_Normal_1_98\n",
              "4     38.192833  24.018194    F0_Normal_1_98\n",
              "...         ...        ...               ...\n",
              "1565 -44.170494   3.236545  F9_OR021_6_1_240\n",
              "1566 -44.891064   1.720109  F9_OR021_6_1_240\n",
              "1567 -46.934151  13.727341  F9_OR021_6_1_240\n",
              "1568 -51.926868  15.085188  F9_OR021_6_1_240\n",
              "1569 -17.253851   3.280674  F9_OR021_6_1_240\n",
              "\n",
              "[1570 rows x 3 columns]"
            ],
            "text/html": [
              "\n",
              "  <div id=\"df-c270faa3-d6c6-45c9-832a-f14e8de04395\" class=\"colab-df-container\">\n",
              "    <div>\n",
              "<style scoped>\n",
              "    .dataframe tbody tr th:only-of-type {\n",
              "        vertical-align: middle;\n",
              "    }\n",
              "\n",
              "    .dataframe tbody tr th {\n",
              "        vertical-align: top;\n",
              "    }\n",
              "\n",
              "    .dataframe thead th {\n",
              "        text-align: right;\n",
              "    }\n",
              "</style>\n",
              "<table border=\"1\" class=\"dataframe\">\n",
              "  <thead>\n",
              "    <tr style=\"text-align: right;\">\n",
              "      <th></th>\n",
              "      <th>t-SNE 1</th>\n",
              "      <th>t-SNE 2</th>\n",
              "      <th>fault</th>\n",
              "    </tr>\n",
              "  </thead>\n",
              "  <tbody>\n",
              "    <tr>\n",
              "      <th>0</th>\n",
              "      <td>21.238615</td>\n",
              "      <td>-26.589052</td>\n",
              "      <td>F0_Normal_1_98</td>\n",
              "    </tr>\n",
              "    <tr>\n",
              "      <th>1</th>\n",
              "      <td>39.434128</td>\n",
              "      <td>-0.538215</td>\n",
              "      <td>F0_Normal_1_98</td>\n",
              "    </tr>\n",
              "    <tr>\n",
              "      <th>2</th>\n",
              "      <td>23.587759</td>\n",
              "      <td>5.944052</td>\n",
              "      <td>F0_Normal_1_98</td>\n",
              "    </tr>\n",
              "    <tr>\n",
              "      <th>3</th>\n",
              "      <td>29.598824</td>\n",
              "      <td>25.057808</td>\n",
              "      <td>F0_Normal_1_98</td>\n",
              "    </tr>\n",
              "    <tr>\n",
              "      <th>4</th>\n",
              "      <td>38.192833</td>\n",
              "      <td>24.018194</td>\n",
              "      <td>F0_Normal_1_98</td>\n",
              "    </tr>\n",
              "    <tr>\n",
              "      <th>...</th>\n",
              "      <td>...</td>\n",
              "      <td>...</td>\n",
              "      <td>...</td>\n",
              "    </tr>\n",
              "    <tr>\n",
              "      <th>1565</th>\n",
              "      <td>-44.170494</td>\n",
              "      <td>3.236545</td>\n",
              "      <td>F9_OR021_6_1_240</td>\n",
              "    </tr>\n",
              "    <tr>\n",
              "      <th>1566</th>\n",
              "      <td>-44.891064</td>\n",
              "      <td>1.720109</td>\n",
              "      <td>F9_OR021_6_1_240</td>\n",
              "    </tr>\n",
              "    <tr>\n",
              "      <th>1567</th>\n",
              "      <td>-46.934151</td>\n",
              "      <td>13.727341</td>\n",
              "      <td>F9_OR021_6_1_240</td>\n",
              "    </tr>\n",
              "    <tr>\n",
              "      <th>1568</th>\n",
              "      <td>-51.926868</td>\n",
              "      <td>15.085188</td>\n",
              "      <td>F9_OR021_6_1_240</td>\n",
              "    </tr>\n",
              "    <tr>\n",
              "      <th>1569</th>\n",
              "      <td>-17.253851</td>\n",
              "      <td>3.280674</td>\n",
              "      <td>F9_OR021_6_1_240</td>\n",
              "    </tr>\n",
              "  </tbody>\n",
              "</table>\n",
              "<p>1570 rows × 3 columns</p>\n",
              "</div>\n",
              "    <div class=\"colab-df-buttons\">\n",
              "\n",
              "  <div class=\"colab-df-container\">\n",
              "    <button class=\"colab-df-convert\" onclick=\"convertToInteractive('df-c270faa3-d6c6-45c9-832a-f14e8de04395')\"\n",
              "            title=\"Convert this dataframe to an interactive table.\"\n",
              "            style=\"display:none;\">\n",
              "\n",
              "  <svg xmlns=\"http://www.w3.org/2000/svg\" height=\"24px\" viewBox=\"0 -960 960 960\">\n",
              "    <path d=\"M120-120v-720h720v720H120Zm60-500h600v-160H180v160Zm220 220h160v-160H400v160Zm0 220h160v-160H400v160ZM180-400h160v-160H180v160Zm440 0h160v-160H620v160ZM180-180h160v-160H180v160Zm440 0h160v-160H620v160Z\"/>\n",
              "  </svg>\n",
              "    </button>\n",
              "\n",
              "  <style>\n",
              "    .colab-df-container {\n",
              "      display:flex;\n",
              "      gap: 12px;\n",
              "    }\n",
              "\n",
              "    .colab-df-convert {\n",
              "      background-color: #E8F0FE;\n",
              "      border: none;\n",
              "      border-radius: 50%;\n",
              "      cursor: pointer;\n",
              "      display: none;\n",
              "      fill: #1967D2;\n",
              "      height: 32px;\n",
              "      padding: 0 0 0 0;\n",
              "      width: 32px;\n",
              "    }\n",
              "\n",
              "    .colab-df-convert:hover {\n",
              "      background-color: #E2EBFA;\n",
              "      box-shadow: 0px 1px 2px rgba(60, 64, 67, 0.3), 0px 1px 3px 1px rgba(60, 64, 67, 0.15);\n",
              "      fill: #174EA6;\n",
              "    }\n",
              "\n",
              "    .colab-df-buttons div {\n",
              "      margin-bottom: 4px;\n",
              "    }\n",
              "\n",
              "    [theme=dark] .colab-df-convert {\n",
              "      background-color: #3B4455;\n",
              "      fill: #D2E3FC;\n",
              "    }\n",
              "\n",
              "    [theme=dark] .colab-df-convert:hover {\n",
              "      background-color: #434B5C;\n",
              "      box-shadow: 0px 1px 3px 1px rgba(0, 0, 0, 0.15);\n",
              "      filter: drop-shadow(0px 1px 2px rgba(0, 0, 0, 0.3));\n",
              "      fill: #FFFFFF;\n",
              "    }\n",
              "  </style>\n",
              "\n",
              "    <script>\n",
              "      const buttonEl =\n",
              "        document.querySelector('#df-c270faa3-d6c6-45c9-832a-f14e8de04395 button.colab-df-convert');\n",
              "      buttonEl.style.display =\n",
              "        google.colab.kernel.accessAllowed ? 'block' : 'none';\n",
              "\n",
              "      async function convertToInteractive(key) {\n",
              "        const element = document.querySelector('#df-c270faa3-d6c6-45c9-832a-f14e8de04395');\n",
              "        const dataTable =\n",
              "          await google.colab.kernel.invokeFunction('convertToInteractive',\n",
              "                                                    [key], {});\n",
              "        if (!dataTable) return;\n",
              "\n",
              "        const docLinkHtml = 'Like what you see? Visit the ' +\n",
              "          '<a target=\"_blank\" href=https://colab.research.google.com/notebooks/data_table.ipynb>data table notebook</a>'\n",
              "          + ' to learn more about interactive tables.';\n",
              "        element.innerHTML = '';\n",
              "        dataTable['output_type'] = 'display_data';\n",
              "        await google.colab.output.renderOutput(dataTable, element);\n",
              "        const docLink = document.createElement('div');\n",
              "        docLink.innerHTML = docLinkHtml;\n",
              "        element.appendChild(docLink);\n",
              "      }\n",
              "    </script>\n",
              "  </div>\n",
              "\n",
              "\n",
              "    <div id=\"df-13771779-dd22-47a8-9ca3-5801ead67c79\">\n",
              "      <button class=\"colab-df-quickchart\" onclick=\"quickchart('df-13771779-dd22-47a8-9ca3-5801ead67c79')\"\n",
              "                title=\"Suggest charts\"\n",
              "                style=\"display:none;\">\n",
              "\n",
              "<svg xmlns=\"http://www.w3.org/2000/svg\" height=\"24px\"viewBox=\"0 0 24 24\"\n",
              "     width=\"24px\">\n",
              "    <g>\n",
              "        <path d=\"M19 3H5c-1.1 0-2 .9-2 2v14c0 1.1.9 2 2 2h14c1.1 0 2-.9 2-2V5c0-1.1-.9-2-2-2zM9 17H7v-7h2v7zm4 0h-2V7h2v10zm4 0h-2v-4h2v4z\"/>\n",
              "    </g>\n",
              "</svg>\n",
              "      </button>\n",
              "\n",
              "<style>\n",
              "  .colab-df-quickchart {\n",
              "      --bg-color: #E8F0FE;\n",
              "      --fill-color: #1967D2;\n",
              "      --hover-bg-color: #E2EBFA;\n",
              "      --hover-fill-color: #174EA6;\n",
              "      --disabled-fill-color: #AAA;\n",
              "      --disabled-bg-color: #DDD;\n",
              "  }\n",
              "\n",
              "  [theme=dark] .colab-df-quickchart {\n",
              "      --bg-color: #3B4455;\n",
              "      --fill-color: #D2E3FC;\n",
              "      --hover-bg-color: #434B5C;\n",
              "      --hover-fill-color: #FFFFFF;\n",
              "      --disabled-bg-color: #3B4455;\n",
              "      --disabled-fill-color: #666;\n",
              "  }\n",
              "\n",
              "  .colab-df-quickchart {\n",
              "    background-color: var(--bg-color);\n",
              "    border: none;\n",
              "    border-radius: 50%;\n",
              "    cursor: pointer;\n",
              "    display: none;\n",
              "    fill: var(--fill-color);\n",
              "    height: 32px;\n",
              "    padding: 0;\n",
              "    width: 32px;\n",
              "  }\n",
              "\n",
              "  .colab-df-quickchart:hover {\n",
              "    background-color: var(--hover-bg-color);\n",
              "    box-shadow: 0 1px 2px rgba(60, 64, 67, 0.3), 0 1px 3px 1px rgba(60, 64, 67, 0.15);\n",
              "    fill: var(--button-hover-fill-color);\n",
              "  }\n",
              "\n",
              "  .colab-df-quickchart-complete:disabled,\n",
              "  .colab-df-quickchart-complete:disabled:hover {\n",
              "    background-color: var(--disabled-bg-color);\n",
              "    fill: var(--disabled-fill-color);\n",
              "    box-shadow: none;\n",
              "  }\n",
              "\n",
              "  .colab-df-spinner {\n",
              "    border: 2px solid var(--fill-color);\n",
              "    border-color: transparent;\n",
              "    border-bottom-color: var(--fill-color);\n",
              "    animation:\n",
              "      spin 1s steps(1) infinite;\n",
              "  }\n",
              "\n",
              "  @keyframes spin {\n",
              "    0% {\n",
              "      border-color: transparent;\n",
              "      border-bottom-color: var(--fill-color);\n",
              "      border-left-color: var(--fill-color);\n",
              "    }\n",
              "    20% {\n",
              "      border-color: transparent;\n",
              "      border-left-color: var(--fill-color);\n",
              "      border-top-color: var(--fill-color);\n",
              "    }\n",
              "    30% {\n",
              "      border-color: transparent;\n",
              "      border-left-color: var(--fill-color);\n",
              "      border-top-color: var(--fill-color);\n",
              "      border-right-color: var(--fill-color);\n",
              "    }\n",
              "    40% {\n",
              "      border-color: transparent;\n",
              "      border-right-color: var(--fill-color);\n",
              "      border-top-color: var(--fill-color);\n",
              "    }\n",
              "    60% {\n",
              "      border-color: transparent;\n",
              "      border-right-color: var(--fill-color);\n",
              "    }\n",
              "    80% {\n",
              "      border-color: transparent;\n",
              "      border-right-color: var(--fill-color);\n",
              "      border-bottom-color: var(--fill-color);\n",
              "    }\n",
              "    90% {\n",
              "      border-color: transparent;\n",
              "      border-bottom-color: var(--fill-color);\n",
              "    }\n",
              "  }\n",
              "</style>\n",
              "\n",
              "      <script>\n",
              "        async function quickchart(key) {\n",
              "          const quickchartButtonEl =\n",
              "            document.querySelector('#' + key + ' button');\n",
              "          quickchartButtonEl.disabled = true;  // To prevent multiple clicks.\n",
              "          quickchartButtonEl.classList.add('colab-df-spinner');\n",
              "          try {\n",
              "            const charts = await google.colab.kernel.invokeFunction(\n",
              "                'suggestCharts', [key], {});\n",
              "          } catch (error) {\n",
              "            console.error('Error during call to suggestCharts:', error);\n",
              "          }\n",
              "          quickchartButtonEl.classList.remove('colab-df-spinner');\n",
              "          quickchartButtonEl.classList.add('colab-df-quickchart-complete');\n",
              "        }\n",
              "        (() => {\n",
              "          let quickchartButtonEl =\n",
              "            document.querySelector('#df-13771779-dd22-47a8-9ca3-5801ead67c79 button');\n",
              "          quickchartButtonEl.style.display =\n",
              "            google.colab.kernel.accessAllowed ? 'block' : 'none';\n",
              "        })();\n",
              "      </script>\n",
              "    </div>\n",
              "\n",
              "  <div id=\"id_f483e92b-ae06-4cbe-baea-d47b938dbeba\">\n",
              "    <style>\n",
              "      .colab-df-generate {\n",
              "        background-color: #E8F0FE;\n",
              "        border: none;\n",
              "        border-radius: 50%;\n",
              "        cursor: pointer;\n",
              "        display: none;\n",
              "        fill: #1967D2;\n",
              "        height: 32px;\n",
              "        padding: 0 0 0 0;\n",
              "        width: 32px;\n",
              "      }\n",
              "\n",
              "      .colab-df-generate:hover {\n",
              "        background-color: #E2EBFA;\n",
              "        box-shadow: 0px 1px 2px rgba(60, 64, 67, 0.3), 0px 1px 3px 1px rgba(60, 64, 67, 0.15);\n",
              "        fill: #174EA6;\n",
              "      }\n",
              "\n",
              "      [theme=dark] .colab-df-generate {\n",
              "        background-color: #3B4455;\n",
              "        fill: #D2E3FC;\n",
              "      }\n",
              "\n",
              "      [theme=dark] .colab-df-generate:hover {\n",
              "        background-color: #434B5C;\n",
              "        box-shadow: 0px 1px 3px 1px rgba(0, 0, 0, 0.15);\n",
              "        filter: drop-shadow(0px 1px 2px rgba(0, 0, 0, 0.3));\n",
              "        fill: #FFFFFF;\n",
              "      }\n",
              "    </style>\n",
              "    <button class=\"colab-df-generate\" onclick=\"generateWithVariable('tSNE_representation')\"\n",
              "            title=\"Generate code using this dataframe.\"\n",
              "            style=\"display:none;\">\n",
              "\n",
              "  <svg xmlns=\"http://www.w3.org/2000/svg\" height=\"24px\"viewBox=\"0 0 24 24\"\n",
              "       width=\"24px\">\n",
              "    <path d=\"M7,19H8.4L18.45,9,17,7.55,7,17.6ZM5,21V16.75L18.45,3.32a2,2,0,0,1,2.83,0l1.4,1.43a1.91,1.91,0,0,1,.58,1.4,1.91,1.91,0,0,1-.58,1.4L9.25,21ZM18.45,9,17,7.55Zm-12,3A5.31,5.31,0,0,0,4.9,8.1,5.31,5.31,0,0,0,1,6.5,5.31,5.31,0,0,0,4.9,4.9,5.31,5.31,0,0,0,6.5,1,5.31,5.31,0,0,0,8.1,4.9,5.31,5.31,0,0,0,12,6.5,5.46,5.46,0,0,0,6.5,12Z\"/>\n",
              "  </svg>\n",
              "    </button>\n",
              "    <script>\n",
              "      (() => {\n",
              "      const buttonEl =\n",
              "        document.querySelector('#id_f483e92b-ae06-4cbe-baea-d47b938dbeba button.colab-df-generate');\n",
              "      buttonEl.style.display =\n",
              "        google.colab.kernel.accessAllowed ? 'block' : 'none';\n",
              "\n",
              "      buttonEl.onclick = () => {\n",
              "        google.colab.notebook.generateWithVariable('tSNE_representation');\n",
              "      }\n",
              "      })();\n",
              "    </script>\n",
              "  </div>\n",
              "\n",
              "    </div>\n",
              "  </div>\n"
            ],
            "application/vnd.google.colaboratory.intrinsic+json": {
              "type": "dataframe",
              "variable_name": "tSNE_representation",
              "summary": "{\n  \"name\": \"tSNE_representation\",\n  \"rows\": 1570,\n  \"fields\": [\n    {\n      \"column\": \"t-SNE 1\",\n      \"properties\": {\n        \"dtype\": \"float32\",\n        \"num_unique_values\": 1570,\n        \"samples\": [\n          -47.31078338623047,\n          -2.910600185394287,\n          25.741823196411133\n        ],\n        \"semantic_type\": \"\",\n        \"description\": \"\"\n      }\n    },\n    {\n      \"column\": \"t-SNE 2\",\n      \"properties\": {\n        \"dtype\": \"float32\",\n        \"num_unique_values\": 1570,\n        \"samples\": [\n          2.0909407138824463,\n          -41.91706085205078,\n          -0.5837863087654114\n        ],\n        \"semantic_type\": \"\",\n        \"description\": \"\"\n      }\n    },\n    {\n      \"column\": \"fault\",\n      \"properties\": {\n        \"dtype\": \"category\",\n        \"num_unique_values\": 10,\n        \"samples\": [\n          \"F8_OR014_6_1_203\",\n          \"F1_B007_1_124\",\n          \"F5_IR014_1_176\"\n        ],\n        \"semantic_type\": \"\",\n        \"description\": \"\"\n      }\n    }\n  ]\n}"
            }
          },
          "metadata": {},
          "execution_count": 18
        }
      ]
    },
    {
      "cell_type": "code",
      "source": [
        "tSNE_representation=tSNE_representation.drop(columns=['fault'])\n",
        "tSNE_representation"
      ],
      "metadata": {
        "id": "Pybzwduy8nhv",
        "colab": {
          "base_uri": "https://localhost:8080/",
          "height": 423
        },
        "outputId": "07a21529-fdfd-414b-dcef-a807dbcd0654"
      },
      "id": "Pybzwduy8nhv",
      "execution_count": 19,
      "outputs": [
        {
          "output_type": "execute_result",
          "data": {
            "text/plain": [
              "        t-SNE 1    t-SNE 2\n",
              "0     21.238615 -26.589052\n",
              "1     39.434128  -0.538215\n",
              "2     23.587759   5.944052\n",
              "3     29.598824  25.057808\n",
              "4     38.192833  24.018194\n",
              "...         ...        ...\n",
              "1565 -44.170494   3.236545\n",
              "1566 -44.891064   1.720109\n",
              "1567 -46.934151  13.727341\n",
              "1568 -51.926868  15.085188\n",
              "1569 -17.253851   3.280674\n",
              "\n",
              "[1570 rows x 2 columns]"
            ],
            "text/html": [
              "\n",
              "  <div id=\"df-58638ef0-6e53-4f0d-864b-d0116ef17db6\" class=\"colab-df-container\">\n",
              "    <div>\n",
              "<style scoped>\n",
              "    .dataframe tbody tr th:only-of-type {\n",
              "        vertical-align: middle;\n",
              "    }\n",
              "\n",
              "    .dataframe tbody tr th {\n",
              "        vertical-align: top;\n",
              "    }\n",
              "\n",
              "    .dataframe thead th {\n",
              "        text-align: right;\n",
              "    }\n",
              "</style>\n",
              "<table border=\"1\" class=\"dataframe\">\n",
              "  <thead>\n",
              "    <tr style=\"text-align: right;\">\n",
              "      <th></th>\n",
              "      <th>t-SNE 1</th>\n",
              "      <th>t-SNE 2</th>\n",
              "    </tr>\n",
              "  </thead>\n",
              "  <tbody>\n",
              "    <tr>\n",
              "      <th>0</th>\n",
              "      <td>21.238615</td>\n",
              "      <td>-26.589052</td>\n",
              "    </tr>\n",
              "    <tr>\n",
              "      <th>1</th>\n",
              "      <td>39.434128</td>\n",
              "      <td>-0.538215</td>\n",
              "    </tr>\n",
              "    <tr>\n",
              "      <th>2</th>\n",
              "      <td>23.587759</td>\n",
              "      <td>5.944052</td>\n",
              "    </tr>\n",
              "    <tr>\n",
              "      <th>3</th>\n",
              "      <td>29.598824</td>\n",
              "      <td>25.057808</td>\n",
              "    </tr>\n",
              "    <tr>\n",
              "      <th>4</th>\n",
              "      <td>38.192833</td>\n",
              "      <td>24.018194</td>\n",
              "    </tr>\n",
              "    <tr>\n",
              "      <th>...</th>\n",
              "      <td>...</td>\n",
              "      <td>...</td>\n",
              "    </tr>\n",
              "    <tr>\n",
              "      <th>1565</th>\n",
              "      <td>-44.170494</td>\n",
              "      <td>3.236545</td>\n",
              "    </tr>\n",
              "    <tr>\n",
              "      <th>1566</th>\n",
              "      <td>-44.891064</td>\n",
              "      <td>1.720109</td>\n",
              "    </tr>\n",
              "    <tr>\n",
              "      <th>1567</th>\n",
              "      <td>-46.934151</td>\n",
              "      <td>13.727341</td>\n",
              "    </tr>\n",
              "    <tr>\n",
              "      <th>1568</th>\n",
              "      <td>-51.926868</td>\n",
              "      <td>15.085188</td>\n",
              "    </tr>\n",
              "    <tr>\n",
              "      <th>1569</th>\n",
              "      <td>-17.253851</td>\n",
              "      <td>3.280674</td>\n",
              "    </tr>\n",
              "  </tbody>\n",
              "</table>\n",
              "<p>1570 rows × 2 columns</p>\n",
              "</div>\n",
              "    <div class=\"colab-df-buttons\">\n",
              "\n",
              "  <div class=\"colab-df-container\">\n",
              "    <button class=\"colab-df-convert\" onclick=\"convertToInteractive('df-58638ef0-6e53-4f0d-864b-d0116ef17db6')\"\n",
              "            title=\"Convert this dataframe to an interactive table.\"\n",
              "            style=\"display:none;\">\n",
              "\n",
              "  <svg xmlns=\"http://www.w3.org/2000/svg\" height=\"24px\" viewBox=\"0 -960 960 960\">\n",
              "    <path d=\"M120-120v-720h720v720H120Zm60-500h600v-160H180v160Zm220 220h160v-160H400v160Zm0 220h160v-160H400v160ZM180-400h160v-160H180v160Zm440 0h160v-160H620v160ZM180-180h160v-160H180v160Zm440 0h160v-160H620v160Z\"/>\n",
              "  </svg>\n",
              "    </button>\n",
              "\n",
              "  <style>\n",
              "    .colab-df-container {\n",
              "      display:flex;\n",
              "      gap: 12px;\n",
              "    }\n",
              "\n",
              "    .colab-df-convert {\n",
              "      background-color: #E8F0FE;\n",
              "      border: none;\n",
              "      border-radius: 50%;\n",
              "      cursor: pointer;\n",
              "      display: none;\n",
              "      fill: #1967D2;\n",
              "      height: 32px;\n",
              "      padding: 0 0 0 0;\n",
              "      width: 32px;\n",
              "    }\n",
              "\n",
              "    .colab-df-convert:hover {\n",
              "      background-color: #E2EBFA;\n",
              "      box-shadow: 0px 1px 2px rgba(60, 64, 67, 0.3), 0px 1px 3px 1px rgba(60, 64, 67, 0.15);\n",
              "      fill: #174EA6;\n",
              "    }\n",
              "\n",
              "    .colab-df-buttons div {\n",
              "      margin-bottom: 4px;\n",
              "    }\n",
              "\n",
              "    [theme=dark] .colab-df-convert {\n",
              "      background-color: #3B4455;\n",
              "      fill: #D2E3FC;\n",
              "    }\n",
              "\n",
              "    [theme=dark] .colab-df-convert:hover {\n",
              "      background-color: #434B5C;\n",
              "      box-shadow: 0px 1px 3px 1px rgba(0, 0, 0, 0.15);\n",
              "      filter: drop-shadow(0px 1px 2px rgba(0, 0, 0, 0.3));\n",
              "      fill: #FFFFFF;\n",
              "    }\n",
              "  </style>\n",
              "\n",
              "    <script>\n",
              "      const buttonEl =\n",
              "        document.querySelector('#df-58638ef0-6e53-4f0d-864b-d0116ef17db6 button.colab-df-convert');\n",
              "      buttonEl.style.display =\n",
              "        google.colab.kernel.accessAllowed ? 'block' : 'none';\n",
              "\n",
              "      async function convertToInteractive(key) {\n",
              "        const element = document.querySelector('#df-58638ef0-6e53-4f0d-864b-d0116ef17db6');\n",
              "        const dataTable =\n",
              "          await google.colab.kernel.invokeFunction('convertToInteractive',\n",
              "                                                    [key], {});\n",
              "        if (!dataTable) return;\n",
              "\n",
              "        const docLinkHtml = 'Like what you see? Visit the ' +\n",
              "          '<a target=\"_blank\" href=https://colab.research.google.com/notebooks/data_table.ipynb>data table notebook</a>'\n",
              "          + ' to learn more about interactive tables.';\n",
              "        element.innerHTML = '';\n",
              "        dataTable['output_type'] = 'display_data';\n",
              "        await google.colab.output.renderOutput(dataTable, element);\n",
              "        const docLink = document.createElement('div');\n",
              "        docLink.innerHTML = docLinkHtml;\n",
              "        element.appendChild(docLink);\n",
              "      }\n",
              "    </script>\n",
              "  </div>\n",
              "\n",
              "\n",
              "    <div id=\"df-1f934e2c-962c-48eb-a77a-9a5bb6079b36\">\n",
              "      <button class=\"colab-df-quickchart\" onclick=\"quickchart('df-1f934e2c-962c-48eb-a77a-9a5bb6079b36')\"\n",
              "                title=\"Suggest charts\"\n",
              "                style=\"display:none;\">\n",
              "\n",
              "<svg xmlns=\"http://www.w3.org/2000/svg\" height=\"24px\"viewBox=\"0 0 24 24\"\n",
              "     width=\"24px\">\n",
              "    <g>\n",
              "        <path d=\"M19 3H5c-1.1 0-2 .9-2 2v14c0 1.1.9 2 2 2h14c1.1 0 2-.9 2-2V5c0-1.1-.9-2-2-2zM9 17H7v-7h2v7zm4 0h-2V7h2v10zm4 0h-2v-4h2v4z\"/>\n",
              "    </g>\n",
              "</svg>\n",
              "      </button>\n",
              "\n",
              "<style>\n",
              "  .colab-df-quickchart {\n",
              "      --bg-color: #E8F0FE;\n",
              "      --fill-color: #1967D2;\n",
              "      --hover-bg-color: #E2EBFA;\n",
              "      --hover-fill-color: #174EA6;\n",
              "      --disabled-fill-color: #AAA;\n",
              "      --disabled-bg-color: #DDD;\n",
              "  }\n",
              "\n",
              "  [theme=dark] .colab-df-quickchart {\n",
              "      --bg-color: #3B4455;\n",
              "      --fill-color: #D2E3FC;\n",
              "      --hover-bg-color: #434B5C;\n",
              "      --hover-fill-color: #FFFFFF;\n",
              "      --disabled-bg-color: #3B4455;\n",
              "      --disabled-fill-color: #666;\n",
              "  }\n",
              "\n",
              "  .colab-df-quickchart {\n",
              "    background-color: var(--bg-color);\n",
              "    border: none;\n",
              "    border-radius: 50%;\n",
              "    cursor: pointer;\n",
              "    display: none;\n",
              "    fill: var(--fill-color);\n",
              "    height: 32px;\n",
              "    padding: 0;\n",
              "    width: 32px;\n",
              "  }\n",
              "\n",
              "  .colab-df-quickchart:hover {\n",
              "    background-color: var(--hover-bg-color);\n",
              "    box-shadow: 0 1px 2px rgba(60, 64, 67, 0.3), 0 1px 3px 1px rgba(60, 64, 67, 0.15);\n",
              "    fill: var(--button-hover-fill-color);\n",
              "  }\n",
              "\n",
              "  .colab-df-quickchart-complete:disabled,\n",
              "  .colab-df-quickchart-complete:disabled:hover {\n",
              "    background-color: var(--disabled-bg-color);\n",
              "    fill: var(--disabled-fill-color);\n",
              "    box-shadow: none;\n",
              "  }\n",
              "\n",
              "  .colab-df-spinner {\n",
              "    border: 2px solid var(--fill-color);\n",
              "    border-color: transparent;\n",
              "    border-bottom-color: var(--fill-color);\n",
              "    animation:\n",
              "      spin 1s steps(1) infinite;\n",
              "  }\n",
              "\n",
              "  @keyframes spin {\n",
              "    0% {\n",
              "      border-color: transparent;\n",
              "      border-bottom-color: var(--fill-color);\n",
              "      border-left-color: var(--fill-color);\n",
              "    }\n",
              "    20% {\n",
              "      border-color: transparent;\n",
              "      border-left-color: var(--fill-color);\n",
              "      border-top-color: var(--fill-color);\n",
              "    }\n",
              "    30% {\n",
              "      border-color: transparent;\n",
              "      border-left-color: var(--fill-color);\n",
              "      border-top-color: var(--fill-color);\n",
              "      border-right-color: var(--fill-color);\n",
              "    }\n",
              "    40% {\n",
              "      border-color: transparent;\n",
              "      border-right-color: var(--fill-color);\n",
              "      border-top-color: var(--fill-color);\n",
              "    }\n",
              "    60% {\n",
              "      border-color: transparent;\n",
              "      border-right-color: var(--fill-color);\n",
              "    }\n",
              "    80% {\n",
              "      border-color: transparent;\n",
              "      border-right-color: var(--fill-color);\n",
              "      border-bottom-color: var(--fill-color);\n",
              "    }\n",
              "    90% {\n",
              "      border-color: transparent;\n",
              "      border-bottom-color: var(--fill-color);\n",
              "    }\n",
              "  }\n",
              "</style>\n",
              "\n",
              "      <script>\n",
              "        async function quickchart(key) {\n",
              "          const quickchartButtonEl =\n",
              "            document.querySelector('#' + key + ' button');\n",
              "          quickchartButtonEl.disabled = true;  // To prevent multiple clicks.\n",
              "          quickchartButtonEl.classList.add('colab-df-spinner');\n",
              "          try {\n",
              "            const charts = await google.colab.kernel.invokeFunction(\n",
              "                'suggestCharts', [key], {});\n",
              "          } catch (error) {\n",
              "            console.error('Error during call to suggestCharts:', error);\n",
              "          }\n",
              "          quickchartButtonEl.classList.remove('colab-df-spinner');\n",
              "          quickchartButtonEl.classList.add('colab-df-quickchart-complete');\n",
              "        }\n",
              "        (() => {\n",
              "          let quickchartButtonEl =\n",
              "            document.querySelector('#df-1f934e2c-962c-48eb-a77a-9a5bb6079b36 button');\n",
              "          quickchartButtonEl.style.display =\n",
              "            google.colab.kernel.accessAllowed ? 'block' : 'none';\n",
              "        })();\n",
              "      </script>\n",
              "    </div>\n",
              "\n",
              "  <div id=\"id_ee8cf470-85c9-42c3-a4ca-819daa976dd0\">\n",
              "    <style>\n",
              "      .colab-df-generate {\n",
              "        background-color: #E8F0FE;\n",
              "        border: none;\n",
              "        border-radius: 50%;\n",
              "        cursor: pointer;\n",
              "        display: none;\n",
              "        fill: #1967D2;\n",
              "        height: 32px;\n",
              "        padding: 0 0 0 0;\n",
              "        width: 32px;\n",
              "      }\n",
              "\n",
              "      .colab-df-generate:hover {\n",
              "        background-color: #E2EBFA;\n",
              "        box-shadow: 0px 1px 2px rgba(60, 64, 67, 0.3), 0px 1px 3px 1px rgba(60, 64, 67, 0.15);\n",
              "        fill: #174EA6;\n",
              "      }\n",
              "\n",
              "      [theme=dark] .colab-df-generate {\n",
              "        background-color: #3B4455;\n",
              "        fill: #D2E3FC;\n",
              "      }\n",
              "\n",
              "      [theme=dark] .colab-df-generate:hover {\n",
              "        background-color: #434B5C;\n",
              "        box-shadow: 0px 1px 3px 1px rgba(0, 0, 0, 0.15);\n",
              "        filter: drop-shadow(0px 1px 2px rgba(0, 0, 0, 0.3));\n",
              "        fill: #FFFFFF;\n",
              "      }\n",
              "    </style>\n",
              "    <button class=\"colab-df-generate\" onclick=\"generateWithVariable('tSNE_representation')\"\n",
              "            title=\"Generate code using this dataframe.\"\n",
              "            style=\"display:none;\">\n",
              "\n",
              "  <svg xmlns=\"http://www.w3.org/2000/svg\" height=\"24px\"viewBox=\"0 0 24 24\"\n",
              "       width=\"24px\">\n",
              "    <path d=\"M7,19H8.4L18.45,9,17,7.55,7,17.6ZM5,21V16.75L18.45,3.32a2,2,0,0,1,2.83,0l1.4,1.43a1.91,1.91,0,0,1,.58,1.4,1.91,1.91,0,0,1-.58,1.4L9.25,21ZM18.45,9,17,7.55Zm-12,3A5.31,5.31,0,0,0,4.9,8.1,5.31,5.31,0,0,0,1,6.5,5.31,5.31,0,0,0,4.9,4.9,5.31,5.31,0,0,0,6.5,1,5.31,5.31,0,0,0,8.1,4.9,5.31,5.31,0,0,0,12,6.5,5.46,5.46,0,0,0,6.5,12Z\"/>\n",
              "  </svg>\n",
              "    </button>\n",
              "    <script>\n",
              "      (() => {\n",
              "      const buttonEl =\n",
              "        document.querySelector('#id_ee8cf470-85c9-42c3-a4ca-819daa976dd0 button.colab-df-generate');\n",
              "      buttonEl.style.display =\n",
              "        google.colab.kernel.accessAllowed ? 'block' : 'none';\n",
              "\n",
              "      buttonEl.onclick = () => {\n",
              "        google.colab.notebook.generateWithVariable('tSNE_representation');\n",
              "      }\n",
              "      })();\n",
              "    </script>\n",
              "  </div>\n",
              "\n",
              "    </div>\n",
              "  </div>\n"
            ],
            "application/vnd.google.colaboratory.intrinsic+json": {
              "type": "dataframe",
              "variable_name": "tSNE_representation",
              "summary": "{\n  \"name\": \"tSNE_representation\",\n  \"rows\": 1570,\n  \"fields\": [\n    {\n      \"column\": \"t-SNE 1\",\n      \"properties\": {\n        \"dtype\": \"float32\",\n        \"num_unique_values\": 1570,\n        \"samples\": [\n          -47.31078338623047,\n          -2.910600185394287,\n          25.741823196411133\n        ],\n        \"semantic_type\": \"\",\n        \"description\": \"\"\n      }\n    },\n    {\n      \"column\": \"t-SNE 2\",\n      \"properties\": {\n        \"dtype\": \"float32\",\n        \"num_unique_values\": 1570,\n        \"samples\": [\n          2.0909407138824463,\n          -41.91706085205078,\n          -0.5837863087654114\n        ],\n        \"semantic_type\": \"\",\n        \"description\": \"\"\n      }\n    }\n  ]\n}"
            }
          },
          "metadata": {},
          "execution_count": 19
        }
      ]
    },
    {
      "cell_type": "code",
      "source": [
        "tSNEdf = tSNEdf.sort_values(by='Fault')"
      ],
      "metadata": {
        "id": "_TpCIloN904b"
      },
      "id": "_TpCIloN904b",
      "execution_count": 20,
      "outputs": []
    },
    {
      "cell_type": "code",
      "source": [
        "tSNEdf"
      ],
      "metadata": {
        "id": "xq2JlAOp_N5V",
        "colab": {
          "base_uri": "https://localhost:8080/",
          "height": 423
        },
        "outputId": "ced39c9c-593c-482c-e0af-797afc6514bb"
      },
      "id": "xq2JlAOp_N5V",
      "execution_count": 21,
      "outputs": [
        {
          "output_type": "execute_result",
          "data": {
            "text/plain": [
              "      T-SNE component 1  T-SNE component 2             Fault\n",
              "1360         -27.968122          -5.681288    F0_Normal_1_98\n",
              "1081         -32.319115          -1.693372    F0_Normal_1_98\n",
              "222          -30.065990          -4.761765    F0_Normal_1_98\n",
              "1481         -28.929296           0.715307    F0_Normal_1_98\n",
              "117          -27.581474          -1.244300    F0_Normal_1_98\n",
              "...                 ...                ...               ...\n",
              "710           12.110247           1.408762  F9_OR021_6_1_240\n",
              "1014          11.971354          -0.411105  F9_OR021_6_1_240\n",
              "250           10.363699           0.657516  F9_OR021_6_1_240\n",
              "1007           6.632702          -1.084270  F9_OR021_6_1_240\n",
              "854            7.567272          -3.124369  F9_OR021_6_1_240\n",
              "\n",
              "[1570 rows x 3 columns]"
            ],
            "text/html": [
              "\n",
              "  <div id=\"df-ea7de3b6-ddb7-4849-876a-d5e3a4631f1b\" class=\"colab-df-container\">\n",
              "    <div>\n",
              "<style scoped>\n",
              "    .dataframe tbody tr th:only-of-type {\n",
              "        vertical-align: middle;\n",
              "    }\n",
              "\n",
              "    .dataframe tbody tr th {\n",
              "        vertical-align: top;\n",
              "    }\n",
              "\n",
              "    .dataframe thead th {\n",
              "        text-align: right;\n",
              "    }\n",
              "</style>\n",
              "<table border=\"1\" class=\"dataframe\">\n",
              "  <thead>\n",
              "    <tr style=\"text-align: right;\">\n",
              "      <th></th>\n",
              "      <th>T-SNE component 1</th>\n",
              "      <th>T-SNE component 2</th>\n",
              "      <th>Fault</th>\n",
              "    </tr>\n",
              "  </thead>\n",
              "  <tbody>\n",
              "    <tr>\n",
              "      <th>1360</th>\n",
              "      <td>-27.968122</td>\n",
              "      <td>-5.681288</td>\n",
              "      <td>F0_Normal_1_98</td>\n",
              "    </tr>\n",
              "    <tr>\n",
              "      <th>1081</th>\n",
              "      <td>-32.319115</td>\n",
              "      <td>-1.693372</td>\n",
              "      <td>F0_Normal_1_98</td>\n",
              "    </tr>\n",
              "    <tr>\n",
              "      <th>222</th>\n",
              "      <td>-30.065990</td>\n",
              "      <td>-4.761765</td>\n",
              "      <td>F0_Normal_1_98</td>\n",
              "    </tr>\n",
              "    <tr>\n",
              "      <th>1481</th>\n",
              "      <td>-28.929296</td>\n",
              "      <td>0.715307</td>\n",
              "      <td>F0_Normal_1_98</td>\n",
              "    </tr>\n",
              "    <tr>\n",
              "      <th>117</th>\n",
              "      <td>-27.581474</td>\n",
              "      <td>-1.244300</td>\n",
              "      <td>F0_Normal_1_98</td>\n",
              "    </tr>\n",
              "    <tr>\n",
              "      <th>...</th>\n",
              "      <td>...</td>\n",
              "      <td>...</td>\n",
              "      <td>...</td>\n",
              "    </tr>\n",
              "    <tr>\n",
              "      <th>710</th>\n",
              "      <td>12.110247</td>\n",
              "      <td>1.408762</td>\n",
              "      <td>F9_OR021_6_1_240</td>\n",
              "    </tr>\n",
              "    <tr>\n",
              "      <th>1014</th>\n",
              "      <td>11.971354</td>\n",
              "      <td>-0.411105</td>\n",
              "      <td>F9_OR021_6_1_240</td>\n",
              "    </tr>\n",
              "    <tr>\n",
              "      <th>250</th>\n",
              "      <td>10.363699</td>\n",
              "      <td>0.657516</td>\n",
              "      <td>F9_OR021_6_1_240</td>\n",
              "    </tr>\n",
              "    <tr>\n",
              "      <th>1007</th>\n",
              "      <td>6.632702</td>\n",
              "      <td>-1.084270</td>\n",
              "      <td>F9_OR021_6_1_240</td>\n",
              "    </tr>\n",
              "    <tr>\n",
              "      <th>854</th>\n",
              "      <td>7.567272</td>\n",
              "      <td>-3.124369</td>\n",
              "      <td>F9_OR021_6_1_240</td>\n",
              "    </tr>\n",
              "  </tbody>\n",
              "</table>\n",
              "<p>1570 rows × 3 columns</p>\n",
              "</div>\n",
              "    <div class=\"colab-df-buttons\">\n",
              "\n",
              "  <div class=\"colab-df-container\">\n",
              "    <button class=\"colab-df-convert\" onclick=\"convertToInteractive('df-ea7de3b6-ddb7-4849-876a-d5e3a4631f1b')\"\n",
              "            title=\"Convert this dataframe to an interactive table.\"\n",
              "            style=\"display:none;\">\n",
              "\n",
              "  <svg xmlns=\"http://www.w3.org/2000/svg\" height=\"24px\" viewBox=\"0 -960 960 960\">\n",
              "    <path d=\"M120-120v-720h720v720H120Zm60-500h600v-160H180v160Zm220 220h160v-160H400v160Zm0 220h160v-160H400v160ZM180-400h160v-160H180v160Zm440 0h160v-160H620v160ZM180-180h160v-160H180v160Zm440 0h160v-160H620v160Z\"/>\n",
              "  </svg>\n",
              "    </button>\n",
              "\n",
              "  <style>\n",
              "    .colab-df-container {\n",
              "      display:flex;\n",
              "      gap: 12px;\n",
              "    }\n",
              "\n",
              "    .colab-df-convert {\n",
              "      background-color: #E8F0FE;\n",
              "      border: none;\n",
              "      border-radius: 50%;\n",
              "      cursor: pointer;\n",
              "      display: none;\n",
              "      fill: #1967D2;\n",
              "      height: 32px;\n",
              "      padding: 0 0 0 0;\n",
              "      width: 32px;\n",
              "    }\n",
              "\n",
              "    .colab-df-convert:hover {\n",
              "      background-color: #E2EBFA;\n",
              "      box-shadow: 0px 1px 2px rgba(60, 64, 67, 0.3), 0px 1px 3px 1px rgba(60, 64, 67, 0.15);\n",
              "      fill: #174EA6;\n",
              "    }\n",
              "\n",
              "    .colab-df-buttons div {\n",
              "      margin-bottom: 4px;\n",
              "    }\n",
              "\n",
              "    [theme=dark] .colab-df-convert {\n",
              "      background-color: #3B4455;\n",
              "      fill: #D2E3FC;\n",
              "    }\n",
              "\n",
              "    [theme=dark] .colab-df-convert:hover {\n",
              "      background-color: #434B5C;\n",
              "      box-shadow: 0px 1px 3px 1px rgba(0, 0, 0, 0.15);\n",
              "      filter: drop-shadow(0px 1px 2px rgba(0, 0, 0, 0.3));\n",
              "      fill: #FFFFFF;\n",
              "    }\n",
              "  </style>\n",
              "\n",
              "    <script>\n",
              "      const buttonEl =\n",
              "        document.querySelector('#df-ea7de3b6-ddb7-4849-876a-d5e3a4631f1b button.colab-df-convert');\n",
              "      buttonEl.style.display =\n",
              "        google.colab.kernel.accessAllowed ? 'block' : 'none';\n",
              "\n",
              "      async function convertToInteractive(key) {\n",
              "        const element = document.querySelector('#df-ea7de3b6-ddb7-4849-876a-d5e3a4631f1b');\n",
              "        const dataTable =\n",
              "          await google.colab.kernel.invokeFunction('convertToInteractive',\n",
              "                                                    [key], {});\n",
              "        if (!dataTable) return;\n",
              "\n",
              "        const docLinkHtml = 'Like what you see? Visit the ' +\n",
              "          '<a target=\"_blank\" href=https://colab.research.google.com/notebooks/data_table.ipynb>data table notebook</a>'\n",
              "          + ' to learn more about interactive tables.';\n",
              "        element.innerHTML = '';\n",
              "        dataTable['output_type'] = 'display_data';\n",
              "        await google.colab.output.renderOutput(dataTable, element);\n",
              "        const docLink = document.createElement('div');\n",
              "        docLink.innerHTML = docLinkHtml;\n",
              "        element.appendChild(docLink);\n",
              "      }\n",
              "    </script>\n",
              "  </div>\n",
              "\n",
              "\n",
              "    <div id=\"df-b302104c-7d56-4f06-aac3-2ac4c18b851a\">\n",
              "      <button class=\"colab-df-quickchart\" onclick=\"quickchart('df-b302104c-7d56-4f06-aac3-2ac4c18b851a')\"\n",
              "                title=\"Suggest charts\"\n",
              "                style=\"display:none;\">\n",
              "\n",
              "<svg xmlns=\"http://www.w3.org/2000/svg\" height=\"24px\"viewBox=\"0 0 24 24\"\n",
              "     width=\"24px\">\n",
              "    <g>\n",
              "        <path d=\"M19 3H5c-1.1 0-2 .9-2 2v14c0 1.1.9 2 2 2h14c1.1 0 2-.9 2-2V5c0-1.1-.9-2-2-2zM9 17H7v-7h2v7zm4 0h-2V7h2v10zm4 0h-2v-4h2v4z\"/>\n",
              "    </g>\n",
              "</svg>\n",
              "      </button>\n",
              "\n",
              "<style>\n",
              "  .colab-df-quickchart {\n",
              "      --bg-color: #E8F0FE;\n",
              "      --fill-color: #1967D2;\n",
              "      --hover-bg-color: #E2EBFA;\n",
              "      --hover-fill-color: #174EA6;\n",
              "      --disabled-fill-color: #AAA;\n",
              "      --disabled-bg-color: #DDD;\n",
              "  }\n",
              "\n",
              "  [theme=dark] .colab-df-quickchart {\n",
              "      --bg-color: #3B4455;\n",
              "      --fill-color: #D2E3FC;\n",
              "      --hover-bg-color: #434B5C;\n",
              "      --hover-fill-color: #FFFFFF;\n",
              "      --disabled-bg-color: #3B4455;\n",
              "      --disabled-fill-color: #666;\n",
              "  }\n",
              "\n",
              "  .colab-df-quickchart {\n",
              "    background-color: var(--bg-color);\n",
              "    border: none;\n",
              "    border-radius: 50%;\n",
              "    cursor: pointer;\n",
              "    display: none;\n",
              "    fill: var(--fill-color);\n",
              "    height: 32px;\n",
              "    padding: 0;\n",
              "    width: 32px;\n",
              "  }\n",
              "\n",
              "  .colab-df-quickchart:hover {\n",
              "    background-color: var(--hover-bg-color);\n",
              "    box-shadow: 0 1px 2px rgba(60, 64, 67, 0.3), 0 1px 3px 1px rgba(60, 64, 67, 0.15);\n",
              "    fill: var(--button-hover-fill-color);\n",
              "  }\n",
              "\n",
              "  .colab-df-quickchart-complete:disabled,\n",
              "  .colab-df-quickchart-complete:disabled:hover {\n",
              "    background-color: var(--disabled-bg-color);\n",
              "    fill: var(--disabled-fill-color);\n",
              "    box-shadow: none;\n",
              "  }\n",
              "\n",
              "  .colab-df-spinner {\n",
              "    border: 2px solid var(--fill-color);\n",
              "    border-color: transparent;\n",
              "    border-bottom-color: var(--fill-color);\n",
              "    animation:\n",
              "      spin 1s steps(1) infinite;\n",
              "  }\n",
              "\n",
              "  @keyframes spin {\n",
              "    0% {\n",
              "      border-color: transparent;\n",
              "      border-bottom-color: var(--fill-color);\n",
              "      border-left-color: var(--fill-color);\n",
              "    }\n",
              "    20% {\n",
              "      border-color: transparent;\n",
              "      border-left-color: var(--fill-color);\n",
              "      border-top-color: var(--fill-color);\n",
              "    }\n",
              "    30% {\n",
              "      border-color: transparent;\n",
              "      border-left-color: var(--fill-color);\n",
              "      border-top-color: var(--fill-color);\n",
              "      border-right-color: var(--fill-color);\n",
              "    }\n",
              "    40% {\n",
              "      border-color: transparent;\n",
              "      border-right-color: var(--fill-color);\n",
              "      border-top-color: var(--fill-color);\n",
              "    }\n",
              "    60% {\n",
              "      border-color: transparent;\n",
              "      border-right-color: var(--fill-color);\n",
              "    }\n",
              "    80% {\n",
              "      border-color: transparent;\n",
              "      border-right-color: var(--fill-color);\n",
              "      border-bottom-color: var(--fill-color);\n",
              "    }\n",
              "    90% {\n",
              "      border-color: transparent;\n",
              "      border-bottom-color: var(--fill-color);\n",
              "    }\n",
              "  }\n",
              "</style>\n",
              "\n",
              "      <script>\n",
              "        async function quickchart(key) {\n",
              "          const quickchartButtonEl =\n",
              "            document.querySelector('#' + key + ' button');\n",
              "          quickchartButtonEl.disabled = true;  // To prevent multiple clicks.\n",
              "          quickchartButtonEl.classList.add('colab-df-spinner');\n",
              "          try {\n",
              "            const charts = await google.colab.kernel.invokeFunction(\n",
              "                'suggestCharts', [key], {});\n",
              "          } catch (error) {\n",
              "            console.error('Error during call to suggestCharts:', error);\n",
              "          }\n",
              "          quickchartButtonEl.classList.remove('colab-df-spinner');\n",
              "          quickchartButtonEl.classList.add('colab-df-quickchart-complete');\n",
              "        }\n",
              "        (() => {\n",
              "          let quickchartButtonEl =\n",
              "            document.querySelector('#df-b302104c-7d56-4f06-aac3-2ac4c18b851a button');\n",
              "          quickchartButtonEl.style.display =\n",
              "            google.colab.kernel.accessAllowed ? 'block' : 'none';\n",
              "        })();\n",
              "      </script>\n",
              "    </div>\n",
              "\n",
              "  <div id=\"id_e12cc56c-04ce-44d9-9a85-d0e6a69f96d2\">\n",
              "    <style>\n",
              "      .colab-df-generate {\n",
              "        background-color: #E8F0FE;\n",
              "        border: none;\n",
              "        border-radius: 50%;\n",
              "        cursor: pointer;\n",
              "        display: none;\n",
              "        fill: #1967D2;\n",
              "        height: 32px;\n",
              "        padding: 0 0 0 0;\n",
              "        width: 32px;\n",
              "      }\n",
              "\n",
              "      .colab-df-generate:hover {\n",
              "        background-color: #E2EBFA;\n",
              "        box-shadow: 0px 1px 2px rgba(60, 64, 67, 0.3), 0px 1px 3px 1px rgba(60, 64, 67, 0.15);\n",
              "        fill: #174EA6;\n",
              "      }\n",
              "\n",
              "      [theme=dark] .colab-df-generate {\n",
              "        background-color: #3B4455;\n",
              "        fill: #D2E3FC;\n",
              "      }\n",
              "\n",
              "      [theme=dark] .colab-df-generate:hover {\n",
              "        background-color: #434B5C;\n",
              "        box-shadow: 0px 1px 3px 1px rgba(0, 0, 0, 0.15);\n",
              "        filter: drop-shadow(0px 1px 2px rgba(0, 0, 0, 0.3));\n",
              "        fill: #FFFFFF;\n",
              "      }\n",
              "    </style>\n",
              "    <button class=\"colab-df-generate\" onclick=\"generateWithVariable('tSNEdf')\"\n",
              "            title=\"Generate code using this dataframe.\"\n",
              "            style=\"display:none;\">\n",
              "\n",
              "  <svg xmlns=\"http://www.w3.org/2000/svg\" height=\"24px\"viewBox=\"0 0 24 24\"\n",
              "       width=\"24px\">\n",
              "    <path d=\"M7,19H8.4L18.45,9,17,7.55,7,17.6ZM5,21V16.75L18.45,3.32a2,2,0,0,1,2.83,0l1.4,1.43a1.91,1.91,0,0,1,.58,1.4,1.91,1.91,0,0,1-.58,1.4L9.25,21ZM18.45,9,17,7.55Zm-12,3A5.31,5.31,0,0,0,4.9,8.1,5.31,5.31,0,0,0,1,6.5,5.31,5.31,0,0,0,4.9,4.9,5.31,5.31,0,0,0,6.5,1,5.31,5.31,0,0,0,8.1,4.9,5.31,5.31,0,0,0,12,6.5,5.46,5.46,0,0,0,6.5,12Z\"/>\n",
              "  </svg>\n",
              "    </button>\n",
              "    <script>\n",
              "      (() => {\n",
              "      const buttonEl =\n",
              "        document.querySelector('#id_e12cc56c-04ce-44d9-9a85-d0e6a69f96d2 button.colab-df-generate');\n",
              "      buttonEl.style.display =\n",
              "        google.colab.kernel.accessAllowed ? 'block' : 'none';\n",
              "\n",
              "      buttonEl.onclick = () => {\n",
              "        google.colab.notebook.generateWithVariable('tSNEdf');\n",
              "      }\n",
              "      })();\n",
              "    </script>\n",
              "  </div>\n",
              "\n",
              "    </div>\n",
              "  </div>\n"
            ],
            "application/vnd.google.colaboratory.intrinsic+json": {
              "type": "dataframe",
              "variable_name": "tSNEdf",
              "summary": "{\n  \"name\": \"tSNEdf\",\n  \"rows\": 1570,\n  \"fields\": [\n    {\n      \"column\": \"T-SNE component 1\",\n      \"properties\": {\n        \"dtype\": \"float32\",\n        \"num_unique_values\": 1570,\n        \"samples\": [\n          13.193549156188965,\n          0.5121866464614868,\n          -18.271728515625\n        ],\n        \"semantic_type\": \"\",\n        \"description\": \"\"\n      }\n    },\n    {\n      \"column\": \"T-SNE component 2\",\n      \"properties\": {\n        \"dtype\": \"float32\",\n        \"num_unique_values\": 1570,\n        \"samples\": [\n          0.6543616652488708,\n          30.898704528808594,\n          -13.403202056884766\n        ],\n        \"semantic_type\": \"\",\n        \"description\": \"\"\n      }\n    },\n    {\n      \"column\": \"Fault\",\n      \"properties\": {\n        \"dtype\": \"category\",\n        \"num_unique_values\": 10,\n        \"samples\": [\n          \"F8_OR014_6_1_203\",\n          \"F1_B007_1_124\",\n          \"F5_IR014_1_176\"\n        ],\n        \"semantic_type\": \"\",\n        \"description\": \"\"\n      }\n    }\n  ]\n}"
            }
          },
          "metadata": {},
          "execution_count": 21
        }
      ]
    },
    {
      "cell_type": "markdown",
      "source": [
        "Combined Features"
      ],
      "metadata": {
        "id": "73T5xFDWQmML"
      },
      "id": "73T5xFDWQmML"
    },
    {
      "cell_type": "code",
      "source": [
        "# import pandas as pd\n",
        "\n",
        "# Assuming df1 and df2 are your two dataframes\n",
        "# Concatenate the dataframes vertically\n",
        "Motor_Fault_dataset = pd.concat([tSNE_representation, tSNEdf], axis=1)\n",
        "Motor_Fault_dataset=Motor_Fault_dataset.sort_values(by='Fault')\n",
        "Motor_Fault_dataset\n",
        "\n",
        "import pandas as pd\n",
        "from sklearn.preprocessing import StandardScaler\n",
        "\n",
        "# Assuming df1 and df2 are your two dataframes\n",
        "# Concatenate the dataframes vertically\n",
        "Motor_Fault_dataset = pd.concat([tSNE_representation, tSNEdf], axis=1)\n",
        "\n",
        "# Sort the dataset by 'Fault' column\n",
        "Motor_Fault_dataset = Motor_Fault_dataset.sort_values(by='Fault')\n",
        "Motor_Fault_dataset\n"
      ],
      "metadata": {
        "id": "sEmeYK5c8anK",
        "colab": {
          "base_uri": "https://localhost:8080/",
          "height": 423
        },
        "outputId": "5c7fb97f-fb62-4917-955e-e948ac12806c"
      },
      "id": "sEmeYK5c8anK",
      "execution_count": 22,
      "outputs": [
        {
          "output_type": "execute_result",
          "data": {
            "text/plain": [
              "        t-SNE 1    t-SNE 2  T-SNE component 1  T-SNE component 2  \\\n",
              "1360  38.260838 -11.781316         -27.968122          -5.681288   \n",
              "1081  -7.845010 -30.710579         -32.319115          -1.693372   \n",
              "222   40.299225   4.045496         -30.065990          -4.761765   \n",
              "1481 -38.755287   6.047164         -28.929296           0.715307   \n",
              "117   35.173756  27.640623         -27.581474          -1.244300   \n",
              "...         ...        ...                ...                ...   \n",
              "710  -14.696868  34.736408          12.110247           1.408762   \n",
              "1014  -1.337419 -43.435570          11.971354          -0.411105   \n",
              "250   24.040258  16.048227          10.363699           0.657516   \n",
              "1007  -6.351593 -36.579803           6.632702          -1.084270   \n",
              "854  -13.269872  18.768126           7.567272          -3.124369   \n",
              "\n",
              "                 Fault  \n",
              "1360    F0_Normal_1_98  \n",
              "1081    F0_Normal_1_98  \n",
              "222     F0_Normal_1_98  \n",
              "1481    F0_Normal_1_98  \n",
              "117     F0_Normal_1_98  \n",
              "...                ...  \n",
              "710   F9_OR021_6_1_240  \n",
              "1014  F9_OR021_6_1_240  \n",
              "250   F9_OR021_6_1_240  \n",
              "1007  F9_OR021_6_1_240  \n",
              "854   F9_OR021_6_1_240  \n",
              "\n",
              "[1570 rows x 5 columns]"
            ],
            "text/html": [
              "\n",
              "  <div id=\"df-82752c24-7fd6-4154-b5c0-7458bd187c85\" class=\"colab-df-container\">\n",
              "    <div>\n",
              "<style scoped>\n",
              "    .dataframe tbody tr th:only-of-type {\n",
              "        vertical-align: middle;\n",
              "    }\n",
              "\n",
              "    .dataframe tbody tr th {\n",
              "        vertical-align: top;\n",
              "    }\n",
              "\n",
              "    .dataframe thead th {\n",
              "        text-align: right;\n",
              "    }\n",
              "</style>\n",
              "<table border=\"1\" class=\"dataframe\">\n",
              "  <thead>\n",
              "    <tr style=\"text-align: right;\">\n",
              "      <th></th>\n",
              "      <th>t-SNE 1</th>\n",
              "      <th>t-SNE 2</th>\n",
              "      <th>T-SNE component 1</th>\n",
              "      <th>T-SNE component 2</th>\n",
              "      <th>Fault</th>\n",
              "    </tr>\n",
              "  </thead>\n",
              "  <tbody>\n",
              "    <tr>\n",
              "      <th>1360</th>\n",
              "      <td>38.260838</td>\n",
              "      <td>-11.781316</td>\n",
              "      <td>-27.968122</td>\n",
              "      <td>-5.681288</td>\n",
              "      <td>F0_Normal_1_98</td>\n",
              "    </tr>\n",
              "    <tr>\n",
              "      <th>1081</th>\n",
              "      <td>-7.845010</td>\n",
              "      <td>-30.710579</td>\n",
              "      <td>-32.319115</td>\n",
              "      <td>-1.693372</td>\n",
              "      <td>F0_Normal_1_98</td>\n",
              "    </tr>\n",
              "    <tr>\n",
              "      <th>222</th>\n",
              "      <td>40.299225</td>\n",
              "      <td>4.045496</td>\n",
              "      <td>-30.065990</td>\n",
              "      <td>-4.761765</td>\n",
              "      <td>F0_Normal_1_98</td>\n",
              "    </tr>\n",
              "    <tr>\n",
              "      <th>1481</th>\n",
              "      <td>-38.755287</td>\n",
              "      <td>6.047164</td>\n",
              "      <td>-28.929296</td>\n",
              "      <td>0.715307</td>\n",
              "      <td>F0_Normal_1_98</td>\n",
              "    </tr>\n",
              "    <tr>\n",
              "      <th>117</th>\n",
              "      <td>35.173756</td>\n",
              "      <td>27.640623</td>\n",
              "      <td>-27.581474</td>\n",
              "      <td>-1.244300</td>\n",
              "      <td>F0_Normal_1_98</td>\n",
              "    </tr>\n",
              "    <tr>\n",
              "      <th>...</th>\n",
              "      <td>...</td>\n",
              "      <td>...</td>\n",
              "      <td>...</td>\n",
              "      <td>...</td>\n",
              "      <td>...</td>\n",
              "    </tr>\n",
              "    <tr>\n",
              "      <th>710</th>\n",
              "      <td>-14.696868</td>\n",
              "      <td>34.736408</td>\n",
              "      <td>12.110247</td>\n",
              "      <td>1.408762</td>\n",
              "      <td>F9_OR021_6_1_240</td>\n",
              "    </tr>\n",
              "    <tr>\n",
              "      <th>1014</th>\n",
              "      <td>-1.337419</td>\n",
              "      <td>-43.435570</td>\n",
              "      <td>11.971354</td>\n",
              "      <td>-0.411105</td>\n",
              "      <td>F9_OR021_6_1_240</td>\n",
              "    </tr>\n",
              "    <tr>\n",
              "      <th>250</th>\n",
              "      <td>24.040258</td>\n",
              "      <td>16.048227</td>\n",
              "      <td>10.363699</td>\n",
              "      <td>0.657516</td>\n",
              "      <td>F9_OR021_6_1_240</td>\n",
              "    </tr>\n",
              "    <tr>\n",
              "      <th>1007</th>\n",
              "      <td>-6.351593</td>\n",
              "      <td>-36.579803</td>\n",
              "      <td>6.632702</td>\n",
              "      <td>-1.084270</td>\n",
              "      <td>F9_OR021_6_1_240</td>\n",
              "    </tr>\n",
              "    <tr>\n",
              "      <th>854</th>\n",
              "      <td>-13.269872</td>\n",
              "      <td>18.768126</td>\n",
              "      <td>7.567272</td>\n",
              "      <td>-3.124369</td>\n",
              "      <td>F9_OR021_6_1_240</td>\n",
              "    </tr>\n",
              "  </tbody>\n",
              "</table>\n",
              "<p>1570 rows × 5 columns</p>\n",
              "</div>\n",
              "    <div class=\"colab-df-buttons\">\n",
              "\n",
              "  <div class=\"colab-df-container\">\n",
              "    <button class=\"colab-df-convert\" onclick=\"convertToInteractive('df-82752c24-7fd6-4154-b5c0-7458bd187c85')\"\n",
              "            title=\"Convert this dataframe to an interactive table.\"\n",
              "            style=\"display:none;\">\n",
              "\n",
              "  <svg xmlns=\"http://www.w3.org/2000/svg\" height=\"24px\" viewBox=\"0 -960 960 960\">\n",
              "    <path d=\"M120-120v-720h720v720H120Zm60-500h600v-160H180v160Zm220 220h160v-160H400v160Zm0 220h160v-160H400v160ZM180-400h160v-160H180v160Zm440 0h160v-160H620v160ZM180-180h160v-160H180v160Zm440 0h160v-160H620v160Z\"/>\n",
              "  </svg>\n",
              "    </button>\n",
              "\n",
              "  <style>\n",
              "    .colab-df-container {\n",
              "      display:flex;\n",
              "      gap: 12px;\n",
              "    }\n",
              "\n",
              "    .colab-df-convert {\n",
              "      background-color: #E8F0FE;\n",
              "      border: none;\n",
              "      border-radius: 50%;\n",
              "      cursor: pointer;\n",
              "      display: none;\n",
              "      fill: #1967D2;\n",
              "      height: 32px;\n",
              "      padding: 0 0 0 0;\n",
              "      width: 32px;\n",
              "    }\n",
              "\n",
              "    .colab-df-convert:hover {\n",
              "      background-color: #E2EBFA;\n",
              "      box-shadow: 0px 1px 2px rgba(60, 64, 67, 0.3), 0px 1px 3px 1px rgba(60, 64, 67, 0.15);\n",
              "      fill: #174EA6;\n",
              "    }\n",
              "\n",
              "    .colab-df-buttons div {\n",
              "      margin-bottom: 4px;\n",
              "    }\n",
              "\n",
              "    [theme=dark] .colab-df-convert {\n",
              "      background-color: #3B4455;\n",
              "      fill: #D2E3FC;\n",
              "    }\n",
              "\n",
              "    [theme=dark] .colab-df-convert:hover {\n",
              "      background-color: #434B5C;\n",
              "      box-shadow: 0px 1px 3px 1px rgba(0, 0, 0, 0.15);\n",
              "      filter: drop-shadow(0px 1px 2px rgba(0, 0, 0, 0.3));\n",
              "      fill: #FFFFFF;\n",
              "    }\n",
              "  </style>\n",
              "\n",
              "    <script>\n",
              "      const buttonEl =\n",
              "        document.querySelector('#df-82752c24-7fd6-4154-b5c0-7458bd187c85 button.colab-df-convert');\n",
              "      buttonEl.style.display =\n",
              "        google.colab.kernel.accessAllowed ? 'block' : 'none';\n",
              "\n",
              "      async function convertToInteractive(key) {\n",
              "        const element = document.querySelector('#df-82752c24-7fd6-4154-b5c0-7458bd187c85');\n",
              "        const dataTable =\n",
              "          await google.colab.kernel.invokeFunction('convertToInteractive',\n",
              "                                                    [key], {});\n",
              "        if (!dataTable) return;\n",
              "\n",
              "        const docLinkHtml = 'Like what you see? Visit the ' +\n",
              "          '<a target=\"_blank\" href=https://colab.research.google.com/notebooks/data_table.ipynb>data table notebook</a>'\n",
              "          + ' to learn more about interactive tables.';\n",
              "        element.innerHTML = '';\n",
              "        dataTable['output_type'] = 'display_data';\n",
              "        await google.colab.output.renderOutput(dataTable, element);\n",
              "        const docLink = document.createElement('div');\n",
              "        docLink.innerHTML = docLinkHtml;\n",
              "        element.appendChild(docLink);\n",
              "      }\n",
              "    </script>\n",
              "  </div>\n",
              "\n",
              "\n",
              "    <div id=\"df-477a5e42-ad50-41f2-bc79-e8e4beb8bd16\">\n",
              "      <button class=\"colab-df-quickchart\" onclick=\"quickchart('df-477a5e42-ad50-41f2-bc79-e8e4beb8bd16')\"\n",
              "                title=\"Suggest charts\"\n",
              "                style=\"display:none;\">\n",
              "\n",
              "<svg xmlns=\"http://www.w3.org/2000/svg\" height=\"24px\"viewBox=\"0 0 24 24\"\n",
              "     width=\"24px\">\n",
              "    <g>\n",
              "        <path d=\"M19 3H5c-1.1 0-2 .9-2 2v14c0 1.1.9 2 2 2h14c1.1 0 2-.9 2-2V5c0-1.1-.9-2-2-2zM9 17H7v-7h2v7zm4 0h-2V7h2v10zm4 0h-2v-4h2v4z\"/>\n",
              "    </g>\n",
              "</svg>\n",
              "      </button>\n",
              "\n",
              "<style>\n",
              "  .colab-df-quickchart {\n",
              "      --bg-color: #E8F0FE;\n",
              "      --fill-color: #1967D2;\n",
              "      --hover-bg-color: #E2EBFA;\n",
              "      --hover-fill-color: #174EA6;\n",
              "      --disabled-fill-color: #AAA;\n",
              "      --disabled-bg-color: #DDD;\n",
              "  }\n",
              "\n",
              "  [theme=dark] .colab-df-quickchart {\n",
              "      --bg-color: #3B4455;\n",
              "      --fill-color: #D2E3FC;\n",
              "      --hover-bg-color: #434B5C;\n",
              "      --hover-fill-color: #FFFFFF;\n",
              "      --disabled-bg-color: #3B4455;\n",
              "      --disabled-fill-color: #666;\n",
              "  }\n",
              "\n",
              "  .colab-df-quickchart {\n",
              "    background-color: var(--bg-color);\n",
              "    border: none;\n",
              "    border-radius: 50%;\n",
              "    cursor: pointer;\n",
              "    display: none;\n",
              "    fill: var(--fill-color);\n",
              "    height: 32px;\n",
              "    padding: 0;\n",
              "    width: 32px;\n",
              "  }\n",
              "\n",
              "  .colab-df-quickchart:hover {\n",
              "    background-color: var(--hover-bg-color);\n",
              "    box-shadow: 0 1px 2px rgba(60, 64, 67, 0.3), 0 1px 3px 1px rgba(60, 64, 67, 0.15);\n",
              "    fill: var(--button-hover-fill-color);\n",
              "  }\n",
              "\n",
              "  .colab-df-quickchart-complete:disabled,\n",
              "  .colab-df-quickchart-complete:disabled:hover {\n",
              "    background-color: var(--disabled-bg-color);\n",
              "    fill: var(--disabled-fill-color);\n",
              "    box-shadow: none;\n",
              "  }\n",
              "\n",
              "  .colab-df-spinner {\n",
              "    border: 2px solid var(--fill-color);\n",
              "    border-color: transparent;\n",
              "    border-bottom-color: var(--fill-color);\n",
              "    animation:\n",
              "      spin 1s steps(1) infinite;\n",
              "  }\n",
              "\n",
              "  @keyframes spin {\n",
              "    0% {\n",
              "      border-color: transparent;\n",
              "      border-bottom-color: var(--fill-color);\n",
              "      border-left-color: var(--fill-color);\n",
              "    }\n",
              "    20% {\n",
              "      border-color: transparent;\n",
              "      border-left-color: var(--fill-color);\n",
              "      border-top-color: var(--fill-color);\n",
              "    }\n",
              "    30% {\n",
              "      border-color: transparent;\n",
              "      border-left-color: var(--fill-color);\n",
              "      border-top-color: var(--fill-color);\n",
              "      border-right-color: var(--fill-color);\n",
              "    }\n",
              "    40% {\n",
              "      border-color: transparent;\n",
              "      border-right-color: var(--fill-color);\n",
              "      border-top-color: var(--fill-color);\n",
              "    }\n",
              "    60% {\n",
              "      border-color: transparent;\n",
              "      border-right-color: var(--fill-color);\n",
              "    }\n",
              "    80% {\n",
              "      border-color: transparent;\n",
              "      border-right-color: var(--fill-color);\n",
              "      border-bottom-color: var(--fill-color);\n",
              "    }\n",
              "    90% {\n",
              "      border-color: transparent;\n",
              "      border-bottom-color: var(--fill-color);\n",
              "    }\n",
              "  }\n",
              "</style>\n",
              "\n",
              "      <script>\n",
              "        async function quickchart(key) {\n",
              "          const quickchartButtonEl =\n",
              "            document.querySelector('#' + key + ' button');\n",
              "          quickchartButtonEl.disabled = true;  // To prevent multiple clicks.\n",
              "          quickchartButtonEl.classList.add('colab-df-spinner');\n",
              "          try {\n",
              "            const charts = await google.colab.kernel.invokeFunction(\n",
              "                'suggestCharts', [key], {});\n",
              "          } catch (error) {\n",
              "            console.error('Error during call to suggestCharts:', error);\n",
              "          }\n",
              "          quickchartButtonEl.classList.remove('colab-df-spinner');\n",
              "          quickchartButtonEl.classList.add('colab-df-quickchart-complete');\n",
              "        }\n",
              "        (() => {\n",
              "          let quickchartButtonEl =\n",
              "            document.querySelector('#df-477a5e42-ad50-41f2-bc79-e8e4beb8bd16 button');\n",
              "          quickchartButtonEl.style.display =\n",
              "            google.colab.kernel.accessAllowed ? 'block' : 'none';\n",
              "        })();\n",
              "      </script>\n",
              "    </div>\n",
              "\n",
              "  <div id=\"id_90dbc1fe-5cf6-4d59-aa86-3271e9d975cf\">\n",
              "    <style>\n",
              "      .colab-df-generate {\n",
              "        background-color: #E8F0FE;\n",
              "        border: none;\n",
              "        border-radius: 50%;\n",
              "        cursor: pointer;\n",
              "        display: none;\n",
              "        fill: #1967D2;\n",
              "        height: 32px;\n",
              "        padding: 0 0 0 0;\n",
              "        width: 32px;\n",
              "      }\n",
              "\n",
              "      .colab-df-generate:hover {\n",
              "        background-color: #E2EBFA;\n",
              "        box-shadow: 0px 1px 2px rgba(60, 64, 67, 0.3), 0px 1px 3px 1px rgba(60, 64, 67, 0.15);\n",
              "        fill: #174EA6;\n",
              "      }\n",
              "\n",
              "      [theme=dark] .colab-df-generate {\n",
              "        background-color: #3B4455;\n",
              "        fill: #D2E3FC;\n",
              "      }\n",
              "\n",
              "      [theme=dark] .colab-df-generate:hover {\n",
              "        background-color: #434B5C;\n",
              "        box-shadow: 0px 1px 3px 1px rgba(0, 0, 0, 0.15);\n",
              "        filter: drop-shadow(0px 1px 2px rgba(0, 0, 0, 0.3));\n",
              "        fill: #FFFFFF;\n",
              "      }\n",
              "    </style>\n",
              "    <button class=\"colab-df-generate\" onclick=\"generateWithVariable('Motor_Fault_dataset')\"\n",
              "            title=\"Generate code using this dataframe.\"\n",
              "            style=\"display:none;\">\n",
              "\n",
              "  <svg xmlns=\"http://www.w3.org/2000/svg\" height=\"24px\"viewBox=\"0 0 24 24\"\n",
              "       width=\"24px\">\n",
              "    <path d=\"M7,19H8.4L18.45,9,17,7.55,7,17.6ZM5,21V16.75L18.45,3.32a2,2,0,0,1,2.83,0l1.4,1.43a1.91,1.91,0,0,1,.58,1.4,1.91,1.91,0,0,1-.58,1.4L9.25,21ZM18.45,9,17,7.55Zm-12,3A5.31,5.31,0,0,0,4.9,8.1,5.31,5.31,0,0,0,1,6.5,5.31,5.31,0,0,0,4.9,4.9,5.31,5.31,0,0,0,6.5,1,5.31,5.31,0,0,0,8.1,4.9,5.31,5.31,0,0,0,12,6.5,5.46,5.46,0,0,0,6.5,12Z\"/>\n",
              "  </svg>\n",
              "    </button>\n",
              "    <script>\n",
              "      (() => {\n",
              "      const buttonEl =\n",
              "        document.querySelector('#id_90dbc1fe-5cf6-4d59-aa86-3271e9d975cf button.colab-df-generate');\n",
              "      buttonEl.style.display =\n",
              "        google.colab.kernel.accessAllowed ? 'block' : 'none';\n",
              "\n",
              "      buttonEl.onclick = () => {\n",
              "        google.colab.notebook.generateWithVariable('Motor_Fault_dataset');\n",
              "      }\n",
              "      })();\n",
              "    </script>\n",
              "  </div>\n",
              "\n",
              "    </div>\n",
              "  </div>\n"
            ],
            "application/vnd.google.colaboratory.intrinsic+json": {
              "type": "dataframe",
              "variable_name": "Motor_Fault_dataset",
              "summary": "{\n  \"name\": \"Motor_Fault_dataset\",\n  \"rows\": 1570,\n  \"fields\": [\n    {\n      \"column\": \"t-SNE 1\",\n      \"properties\": {\n        \"dtype\": \"float32\",\n        \"num_unique_values\": 1570,\n        \"samples\": [\n          -7.700446605682373,\n          1.9791063070297241,\n          6.014240264892578\n        ],\n        \"semantic_type\": \"\",\n        \"description\": \"\"\n      }\n    },\n    {\n      \"column\": \"t-SNE 2\",\n      \"properties\": {\n        \"dtype\": \"float32\",\n        \"num_unique_values\": 1570,\n        \"samples\": [\n          -23.0367488861084,\n          17.806093215942383,\n          5.875569820404053\n        ],\n        \"semantic_type\": \"\",\n        \"description\": \"\"\n      }\n    },\n    {\n      \"column\": \"T-SNE component 1\",\n      \"properties\": {\n        \"dtype\": \"float32\",\n        \"num_unique_values\": 1570,\n        \"samples\": [\n          13.193549156188965,\n          0.5121866464614868,\n          -18.271728515625\n        ],\n        \"semantic_type\": \"\",\n        \"description\": \"\"\n      }\n    },\n    {\n      \"column\": \"T-SNE component 2\",\n      \"properties\": {\n        \"dtype\": \"float32\",\n        \"num_unique_values\": 1570,\n        \"samples\": [\n          0.6543616652488708,\n          30.898704528808594,\n          -13.403202056884766\n        ],\n        \"semantic_type\": \"\",\n        \"description\": \"\"\n      }\n    },\n    {\n      \"column\": \"Fault\",\n      \"properties\": {\n        \"dtype\": \"category\",\n        \"num_unique_values\": 10,\n        \"samples\": [\n          \"F8_OR014_6_1_203\",\n          \"F1_B007_1_124\",\n          \"F5_IR014_1_176\"\n        ],\n        \"semantic_type\": \"\",\n        \"description\": \"\"\n      }\n    }\n  ]\n}"
            }
          },
          "metadata": {},
          "execution_count": 22
        }
      ]
    },
    {
      "cell_type": "code",
      "source": [
        "#Classification Report for MKDCNN"
      ],
      "metadata": {
        "id": "zC_6vMBPsOs_"
      },
      "id": "zC_6vMBPsOs_",
      "execution_count": 23,
      "outputs": []
    },
    {
      "cell_type": "code",
      "source": [],
      "metadata": {
        "id": "b77LcDP9sPR2"
      },
      "id": "b77LcDP9sPR2",
      "execution_count": 23,
      "outputs": []
    },
    {
      "cell_type": "markdown",
      "source": [
        "HSPSO-CatBoost\n"
      ],
      "metadata": {
        "id": "wZFQ37UCYN1p"
      },
      "id": "wZFQ37UCYN1p"
    },
    {
      "cell_type": "code",
      "source": [
        "X = Motor_Fault_dataset.iloc[:, 0:4].values\n",
        "y = Motor_Fault_dataset.iloc[:, 4].values"
      ],
      "metadata": {
        "id": "f_P8BWzmYTg0"
      },
      "id": "f_P8BWzmYTg0",
      "execution_count": 24,
      "outputs": []
    },
    {
      "cell_type": "code",
      "source": [
        "# Splitting the dataset into the Training set and Test set\n",
        "from sklearn.model_selection import train_test_split\n",
        "X_train, X_test, y_train, y_test = train_test_split(X, y, test_size = 0.2)"
      ],
      "metadata": {
        "id": "vLMueEZ6YfvA"
      },
      "id": "vLMueEZ6YfvA",
      "execution_count": 25,
      "outputs": []
    },
    {
      "cell_type": "code",
      "source": [
        "!pip install hyperactive==4.6.0"
      ],
      "metadata": {
        "id": "nsTDebhD9iQw",
        "colab": {
          "base_uri": "https://localhost:8080/"
        },
        "outputId": "06edf8ff-a0f7-42ce-c73c-62df3943d312"
      },
      "id": "nsTDebhD9iQw",
      "execution_count": 26,
      "outputs": [
        {
          "output_type": "stream",
          "name": "stdout",
          "text": [
            "Requirement already satisfied: hyperactive==4.6.0 in /usr/local/lib/python3.12/dist-packages (4.6.0)\n",
            "Requirement already satisfied: numpy<2.0.0,>=1.18.1 in /usr/local/lib/python3.12/dist-packages (from hyperactive==4.6.0) (1.26.4)\n",
            "Requirement already satisfied: tqdm<5.0.0,>=4.48.0 in /usr/local/lib/python3.12/dist-packages (from hyperactive==4.6.0) (4.67.1)\n",
            "Requirement already satisfied: pandas<2.0.0 in /usr/local/lib/python3.12/dist-packages (from hyperactive==4.6.0) (1.5.3)\n",
            "Requirement already satisfied: gradient-free-optimizers<2.0.0,>=1.2.4 in /usr/local/lib/python3.12/dist-packages (from hyperactive==4.6.0) (1.7.1)\n",
            "Requirement already satisfied: scipy<2.0.0 in /usr/local/lib/python3.12/dist-packages (from gradient-free-optimizers<2.0.0,>=1.2.4->hyperactive==4.6.0) (1.16.1)\n",
            "Requirement already satisfied: scikit-learn!=0.23.*,>=0.21 in /usr/local/lib/python3.12/dist-packages (from gradient-free-optimizers<2.0.0,>=1.2.4->hyperactive==4.6.0) (1.6.1)\n",
            "Requirement already satisfied: python-dateutil>=2.8.1 in /usr/local/lib/python3.12/dist-packages (from pandas<2.0.0->hyperactive==4.6.0) (2.9.0.post0)\n",
            "Requirement already satisfied: pytz>=2020.1 in /usr/local/lib/python3.12/dist-packages (from pandas<2.0.0->hyperactive==4.6.0) (2025.2)\n",
            "Requirement already satisfied: six>=1.5 in /usr/local/lib/python3.12/dist-packages (from python-dateutil>=2.8.1->pandas<2.0.0->hyperactive==4.6.0) (1.17.0)\n",
            "Requirement already satisfied: joblib>=1.2.0 in /usr/local/lib/python3.12/dist-packages (from scikit-learn!=0.23.*,>=0.21->gradient-free-optimizers<2.0.0,>=1.2.4->hyperactive==4.6.0) (1.5.2)\n",
            "Requirement already satisfied: threadpoolctl>=3.1.0 in /usr/local/lib/python3.12/dist-packages (from scikit-learn!=0.23.*,>=0.21->gradient-free-optimizers<2.0.0,>=1.2.4->hyperactive==4.6.0) (3.6.0)\n"
          ]
        }
      ]
    },
    {
      "cell_type": "code",
      "source": [
        "!pip install catboost"
      ],
      "metadata": {
        "id": "UTH39uc29p_Q",
        "colab": {
          "base_uri": "https://localhost:8080/"
        },
        "outputId": "d1e08be4-8dae-4d7f-92bc-d32f4230be24"
      },
      "id": "UTH39uc29p_Q",
      "execution_count": 27,
      "outputs": [
        {
          "output_type": "stream",
          "name": "stdout",
          "text": [
            "Requirement already satisfied: catboost in /usr/local/lib/python3.12/dist-packages (1.2.8)\n",
            "Requirement already satisfied: graphviz in /usr/local/lib/python3.12/dist-packages (from catboost) (0.21)\n",
            "Requirement already satisfied: matplotlib in /usr/local/lib/python3.12/dist-packages (from catboost) (3.10.0)\n",
            "Requirement already satisfied: numpy<3.0,>=1.16.0 in /usr/local/lib/python3.12/dist-packages (from catboost) (1.26.4)\n",
            "Requirement already satisfied: pandas>=0.24 in /usr/local/lib/python3.12/dist-packages (from catboost) (1.5.3)\n",
            "Requirement already satisfied: scipy in /usr/local/lib/python3.12/dist-packages (from catboost) (1.16.1)\n",
            "Requirement already satisfied: plotly in /usr/local/lib/python3.12/dist-packages (from catboost) (5.24.1)\n",
            "Requirement already satisfied: six in /usr/local/lib/python3.12/dist-packages (from catboost) (1.17.0)\n",
            "Requirement already satisfied: python-dateutil>=2.8.1 in /usr/local/lib/python3.12/dist-packages (from pandas>=0.24->catboost) (2.9.0.post0)\n",
            "Requirement already satisfied: pytz>=2020.1 in /usr/local/lib/python3.12/dist-packages (from pandas>=0.24->catboost) (2025.2)\n",
            "Requirement already satisfied: contourpy>=1.0.1 in /usr/local/lib/python3.12/dist-packages (from matplotlib->catboost) (1.3.3)\n",
            "Requirement already satisfied: cycler>=0.10 in /usr/local/lib/python3.12/dist-packages (from matplotlib->catboost) (0.12.1)\n",
            "Requirement already satisfied: fonttools>=4.22.0 in /usr/local/lib/python3.12/dist-packages (from matplotlib->catboost) (4.59.2)\n",
            "Requirement already satisfied: kiwisolver>=1.3.1 in /usr/local/lib/python3.12/dist-packages (from matplotlib->catboost) (1.4.9)\n",
            "Requirement already satisfied: packaging>=20.0 in /usr/local/lib/python3.12/dist-packages (from matplotlib->catboost) (25.0)\n",
            "Requirement already satisfied: pillow>=8 in /usr/local/lib/python3.12/dist-packages (from matplotlib->catboost) (11.3.0)\n",
            "Requirement already satisfied: pyparsing>=2.3.1 in /usr/local/lib/python3.12/dist-packages (from matplotlib->catboost) (3.2.3)\n",
            "Requirement already satisfied: tenacity>=6.2.0 in /usr/local/lib/python3.12/dist-packages (from plotly->catboost) (8.5.0)\n"
          ]
        }
      ]
    },
    {
      "cell_type": "markdown",
      "source": [
        "Deployment:"
      ],
      "metadata": {
        "id": "Ul9AHZU5uIcP"
      },
      "id": "Ul9AHZU5uIcP"
    },
    {
      "cell_type": "code",
      "source": [
        "import numpy as np\n",
        "import pandas as pd\n",
        "from datetime import datetime\n",
        "from sklearn.model_selection import cross_val_score\n",
        "from catboost import CatBoostClassifier, Pool\n",
        "from hyperactive import Hyperactive\n",
        "from hyperactive.optimizers import ParticleSwarmOptimizer\n",
        "from sklearn.metrics import classification_report, confusion_matrix\n",
        "import matplotlib.pyplot as plt\n",
        "import seaborn as sns\n",
        "\n",
        "# === DATA: Replace X_train, X_test, y_train, y_test with your actual data ===\n",
        "# Example:\n",
        "# X_train, X_test, y_train, y_test = train_test_split(...)\n",
        "\n",
        "X, y = X_train, y_train\n",
        "\n",
        "# === Objective Function ===\n",
        "def model(opt):\n",
        "    CatBoost = CatBoostClassifier(\n",
        "        iterations=opt[\"iterations\"],\n",
        "        depth=opt[\"depth\"],\n",
        "        learning_rate=opt[\"learning_rate\"],\n",
        "        l2_leaf_reg=opt[\"l2_leaf_reg\"],\n",
        "        bagging_temperature=opt[\"bagging_temperature\"],\n",
        "        random_strength=opt[\"random_strength\"],\n",
        "        verbose=False\n",
        "    )\n",
        "    scores = cross_val_score(CatBoost, X, y, cv=4)\n",
        "    return scores.mean()\n",
        "\n",
        "# === Search Space ===\n",
        "search_space = {\n",
        "    \"iterations\": list(range(50, 501, 50)),\n",
        "    \"depth\": list(range(1, 11)),\n",
        "    \"learning_rate\": [0.01, 0.05, 0.1],\n",
        "    \"l2_leaf_reg\": [1, 3, 5],\n",
        "    \"bagging_temperature\": [0.5, 1, 1.5],\n",
        "    \"random_strength\": [0.5, 1, 1.5],\n",
        "}\n",
        "\n",
        "# === Cauchy Mutation ===\n",
        "def cauchy_mutation(particle, gamma=0.3):\n",
        "    for key in particle:\n",
        "        if isinstance(particle[key], (int, float)):\n",
        "            particle[key] = particle[key] * (1 + gamma * np.tan(np.pi * (np.random.rand() - 0.5)))\n",
        "            particle[key] = np.clip(particle[key], min(search_space[key]), max(search_space[key]))\n",
        "            if isinstance(search_space[key][0], int):\n",
        "                particle[key] = int(round(particle[key]))\n",
        "    return particle\n",
        "\n",
        "# === HSPSO Optimizer Class ===\n",
        "class HybridStrategyPSO(ParticleSwarmOptimizer):\n",
        "    def __init__(self, n_part=20, max_iter=40, **kwargs):\n",
        "        super().__init__(**kwargs)\n",
        "        self.switch_threshold = 10\n",
        "        self.iteration = 0\n",
        "        self.topology = \"gbest\"\n",
        "        self.n_part = n_part\n",
        "        self.max_iter = max_iter\n",
        "\n",
        "        # Adaptive Inertia Parameters\n",
        "        self.H = 1\n",
        "        self.w_min = 0.4\n",
        "        self.w_max = 0.9\n",
        "        self.b = 0.9\n",
        "        self.scaling_factor = 0.5\n",
        "\n",
        "    def on_iteration(self, swarm, scores):\n",
        "        self.iteration += 1\n",
        "\n",
        "        # === Topology Switching ===\n",
        "        if self.iteration % self.switch_threshold == 0:\n",
        "            self.topology = \"lbest\" if self.topology == \"gbest\" else \"gbest\"\n",
        "            self.set_topology(self.topology)\n",
        "\n",
        "        # === Clone Best Particles ===\n",
        "        best_indices = np.argsort(scores)[:max(1, len(swarm) // 5)]\n",
        "        for idx in best_indices:\n",
        "            particle = swarm[idx].copy()\n",
        "            swarm.append(particle)\n",
        "            scores.append(scores[idx])\n",
        "\n",
        "        # === Prune Worst Particles ===\n",
        "        if len(swarm) > 2 * self.n_part:\n",
        "            worst_indices = np.argsort(scores)[-len(swarm)//4:]\n",
        "            for i in reversed(worst_indices):\n",
        "                del swarm[i]\n",
        "                del scores[i]\n",
        "\n",
        "        # === Nonlinear Adaptive Inertia ===\n",
        "        numerator = (self.w_max - self.w_min) * self.iteration\n",
        "        denominator = 1 + np.exp(-10 * self.b * ((2 * self.iteration) / (self.H * self.max_iter) - 1))\n",
        "        self.inertia = self.w_max - numerator / denominator\n",
        "\n",
        "        # === Cauchy Mutation ===\n",
        "        for i in range(len(swarm)):\n",
        "            if np.random.rand() < 0.2:\n",
        "                swarm[i] = cauchy_mutation(swarm[i])\n",
        "\n",
        "        # === Hook-Jeeves Local Search (simplified) ===\n",
        "        top_ids = np.argsort(scores)[:2]\n",
        "        for i in top_ids:\n",
        "            particle = swarm[i]\n",
        "            for key in particle:\n",
        "                if isinstance(particle[key], (int, float)):\n",
        "                    for delta in [-0.01, 0.01] if isinstance(particle[key], float) else [-1, 1]:\n",
        "                        trial = particle.copy()\n",
        "                        trial[key] = trial[key] + delta\n",
        "                        trial[key] = np.clip(trial[key], min(search_space[key]), max(search_space[key]))\n",
        "                        if isinstance(search_space[key][0], int):\n",
        "                            trial[key] = int(round(trial[key]))\n",
        "                        trial_score = model(trial)\n",
        "                        if trial_score > scores[i]:\n",
        "                            swarm[i] = trial\n",
        "                            scores[i] = trial_score\n",
        "\n",
        "        # === Random Restart ===\n",
        "        if np.random.rand() < 0.1:\n",
        "            random_idx = np.random.choice(len(swarm))\n",
        "            for key in swarm[random_idx]:\n",
        "                if isinstance(swarm[random_idx][key], (int, float)):\n",
        "                    swarm[random_idx][key] = np.random.choice(search_space[key])\n",
        "\n",
        "# === Run HSPSO Hyperparameter Tuning ===\n",
        "start_time = datetime.now()\n",
        "\n",
        "hyper = Hyperactive()\n",
        "\n",
        "optimizer = HybridStrategyPSO(\n",
        "    n_part=20,\n",
        "    max_iter=40,\n",
        "    inertia=0.5,\n",
        "    cognitive_weight=0.9,\n",
        "    social_weight=0.5,\n",
        "    temp_weight=0.4,\n",
        "    rand_rest_p=0.05,\n",
        ")\n",
        "\n",
        "hyper.add_search(model, search_space, optimizer=optimizer, n_iter=40)\n",
        "hyper.run()\n",
        "\n",
        "end_time = datetime.now()\n",
        "print('Tuning Duration:', end_time - start_time)\n",
        "\n",
        "# === Best Parameters ===\n",
        "best_params = hyper.best_para(model)\n",
        "print(\"Best Parameters:\", best_params)\n",
        "\n",
        "# === Train Final Model with Best Parameters ===\n",
        "train_pool = Pool(data=X_train, label=y_train)\n",
        "test_pool = Pool(data=X_test, label=y_test)\n",
        "\n",
        "final_model = CatBoostClassifier(\n",
        "    depth=best_params[\"depth\"],\n",
        "    iterations=best_params[\"iterations\"],\n",
        "    learning_rate=best_params[\"learning_rate\"],\n",
        "    l2_leaf_reg=best_params[\"l2_leaf_reg\"],\n",
        "    bagging_temperature=best_params[\"bagging_temperature\"],\n",
        "    random_strength=best_params[\"random_strength\"],\n",
        "    verbose=10\n",
        ")\n",
        "\n",
        "final_model.fit(\n",
        "    train_pool,\n",
        "    eval_set=test_pool,\n",
        "    verbose=best_params[\"iterations\"] // 10,\n",
        "    plot=True\n",
        ")\n"
      ],
      "metadata": {
        "id": "jQr38vF8A9_i",
        "colab": {
          "base_uri": "https://localhost:8080/",
          "height": 718,
          "referenced_widgets": [
            "a072dd96366d40739c315dbca34ecac9"
          ]
        },
        "outputId": "5de67814-20a8-49c7-c9a9-965f75c86fef"
      },
      "id": "jQr38vF8A9_i",
      "execution_count": 28,
      "outputs": [
        {
          "output_type": "stream",
          "name": "stderr",
          "text": [
            "[0] model (Particle Swarm Optimization): 100%|\u001b[32m──────────\u001b[0m| 40/40 [04:46<00:00,  7.17s/it, best_iter=0, best_pos=None, best_score=-inf]"
          ]
        },
        {
          "output_type": "stream",
          "name": "stdout",
          "text": [
            "\n",
            "\n",
            "Results: 'model'  \n",
            "   Best score: 0.9984076433121019  \n",
            "   Best parameter set:\n",
            "      'iterations'          : 400.0  \n",
            "      'depth'               : 3.0  \n",
            "      'learning_rate'       : 0.05  \n",
            "      'l2_leaf_reg'         : 1.0  \n",
            "      'bagging_temperature' : 0.5  \n",
            "      'random_strength'     : 0.5  \n",
            "   Best iteration: 0  \n",
            " \n",
            "   Random seed: 925573818  \n",
            " \n",
            "   Evaluation time   : 286.368732213974 sec    [100.0 %]\n",
            "   Optimization time : 0.009911537170410156 sec    [0.0 %]\n",
            "   Iteration time    : 286.3786437511444 sec    [7.16 sec/iter]\n",
            " \n",
            "Tuning Duration: 0:04:46.669065\n",
            "Best Parameters: {'iterations': 400, 'depth': 3, 'learning_rate': 0.05, 'l2_leaf_reg': 1, 'bagging_temperature': 0.5, 'random_strength': 0.5}\n"
          ]
        },
        {
          "output_type": "stream",
          "name": "stderr",
          "text": [
            "\n"
          ]
        },
        {
          "output_type": "display_data",
          "data": {
            "text/plain": [
              "MetricVisualizer(layout=Layout(align_self='stretch', height='500px'))"
            ],
            "application/vnd.jupyter.widget-view+json": {
              "version_major": 2,
              "version_minor": 0,
              "model_id": "a072dd96366d40739c315dbca34ecac9"
            }
          },
          "metadata": {}
        },
        {
          "output_type": "stream",
          "name": "stdout",
          "text": [
            "0:\tlearn: 2.1365269\ttest: 2.1387502\tbest: 2.1387502 (0)\ttotal: 2.97ms\tremaining: 1.18s\n",
            "40:\tlearn: 0.4089521\ttest: 0.3950612\tbest: 0.3950612 (40)\ttotal: 100ms\tremaining: 879ms\n",
            "80:\tlearn: 0.1481249\ttest: 0.1371056\tbest: 0.1371056 (80)\ttotal: 194ms\tremaining: 765ms\n",
            "120:\tlearn: 0.0715834\ttest: 0.0619865\tbest: 0.0619865 (120)\ttotal: 393ms\tremaining: 907ms\n",
            "160:\tlearn: 0.0421389\ttest: 0.0336814\tbest: 0.0336814 (160)\ttotal: 597ms\tremaining: 886ms\n",
            "200:\tlearn: 0.0285023\ttest: 0.0207207\tbest: 0.0207207 (200)\ttotal: 802ms\tremaining: 794ms\n",
            "240:\tlearn: 0.0208574\ttest: 0.0147046\tbest: 0.0147046 (240)\ttotal: 1.02s\tremaining: 672ms\n",
            "280:\tlearn: 0.0156869\ttest: 0.0114382\tbest: 0.0114382 (280)\ttotal: 1.21s\tremaining: 513ms\n",
            "320:\tlearn: 0.0122418\ttest: 0.0095865\tbest: 0.0095865 (320)\ttotal: 1.42s\tremaining: 349ms\n",
            "360:\tlearn: 0.0097610\ttest: 0.0081030\tbest: 0.0081030 (360)\ttotal: 1.52s\tremaining: 164ms\n",
            "399:\tlearn: 0.0080305\ttest: 0.0068464\tbest: 0.0068464 (399)\ttotal: 1.67s\tremaining: 0us\n",
            "\n",
            "bestTest = 0.006846386685\n",
            "bestIteration = 399\n",
            "\n"
          ]
        },
        {
          "output_type": "execute_result",
          "data": {
            "text/plain": [
              "<catboost.core.CatBoostClassifier at 0x7a956e7029c0>"
            ]
          },
          "metadata": {},
          "execution_count": 28
        }
      ]
    },
    {
      "cell_type": "code",
      "source": [
        "hyper.add_search(model, search_space, optimizer=optimizer, n_iter=40, initialize={\"random\": 20})\n"
      ],
      "metadata": {
        "id": "a_9tYmgz45VS"
      },
      "id": "a_9tYmgz45VS",
      "execution_count": 29,
      "outputs": []
    },
    {
      "cell_type": "code",
      "source": [
        "learning_curve = final_model.get_evals_result()\n",
        "print(learning_curve)"
      ],
      "metadata": {
        "id": "2mRL06xdGZve",
        "colab": {
          "base_uri": "https://localhost:8080/"
        },
        "outputId": "36f211fa-42e8-4df1-fbee-7db81a0d2dff"
      },
      "id": "2mRL06xdGZve",
      "execution_count": 30,
      "outputs": [
        {
          "output_type": "stream",
          "name": "stdout",
          "text": [
            "{'learn': {'MultiClass': [2.1365269305294743, 1.9544827886389518, 1.8121281018313733, 1.709703570044688, 1.6315810726684281, 1.5537953792140524, 1.470722327861902, 1.397996458138416, 1.335636892199992, 1.2862105443098735, 1.2171157772674244, 1.1627807647255224, 1.1126410496374137, 1.0583597667727938, 1.0103100202597532, 0.9815448425899675, 0.9394695560013645, 0.9019799468825186, 0.8601675326897775, 0.8264078338106704, 0.7968924965872812, 0.7695277002426671, 0.740731888718586, 0.7148767055658317, 0.6955095812151685, 0.6695792683261421, 0.6426319375262323, 0.6205297836258185, 0.6035988664076971, 0.583248169179713, 0.5615939739124634, 0.5405576876680602, 0.5239820607954219, 0.5078939144668017, 0.4933934730105139, 0.4808106507561492, 0.46482071741837194, 0.45003356264313105, 0.43641507946330693, 0.42281858369078534, 0.4089520700439209, 0.39635521771341736, 0.38347177487792466, 0.3733577650907392, 0.36294012935725917, 0.3525231909313976, 0.34102912645684313, 0.3318084160857721, 0.3213750014375517, 0.3127009403788163, 0.30467243214961803, 0.2966007519941087, 0.28972669749978935, 0.28163110917806145, 0.27327925293048927, 0.2655674669181359, 0.25964485872730936, 0.2539097087215763, 0.24755649149942466, 0.24117969549030638, 0.2350860945658646, 0.22931254992644165, 0.22460885294688696, 0.21890550379883708, 0.21419807061202625, 0.20899292362149552, 0.20311197438204753, 0.19859253495991086, 0.19328576489507532, 0.18843260258804054, 0.18417424220191128, 0.17943251607785238, 0.17497341710225184, 0.17114728752035308, 0.16741330493519208, 0.16352537398711933, 0.16004234092374717, 0.15655837272973194, 0.153715098723107, 0.15089728492909144, 0.14812488291693135, 0.14522814239303353, 0.1426703723080466, 0.13957346156853387, 0.1366954814243818, 0.13415633973646604, 0.13149715861165664, 0.12919799353603578, 0.12631463749627533, 0.123899739916002, 0.1209579544826801, 0.11807761942816937, 0.11560832518013027, 0.1134416355911995, 0.11129535704757688, 0.10918692002813035, 0.10687799682235705, 0.10532707006416725, 0.10304407612385089, 0.10094930395942478, 0.09923468839527402, 0.09737931100170355, 0.0956491782227115, 0.0939738079485354, 0.09214324559849436, 0.09056422517750166, 0.08880114564566984, 0.0874425326814752, 0.08634443583421884, 0.08462566343736636, 0.08302611062737199, 0.08152247497105991, 0.08016762111088997, 0.07916713252803093, 0.07792869366702564, 0.07656624381472, 0.07551926080505195, 0.07444874751034038, 0.07346845977669575, 0.07247354619737667, 0.07158336567878838, 0.07043989636541222, 0.06928202835874721, 0.06821598820220233, 0.06700523473935992, 0.06621490290845584, 0.0649208273557001, 0.06388105673182355, 0.0630908736000511, 0.06229937653885212, 0.06159356861961542, 0.060566715841359704, 0.05950522565866218, 0.058763864388861824, 0.05793834667192231, 0.05704066127526144, 0.05628194625966935, 0.055528170149157174, 0.05467652950355171, 0.05388469778099824, 0.05331403932607544, 0.05252545036430947, 0.052075781957817494, 0.05126537952456746, 0.05060652500983387, 0.050006796416338345, 0.049442985127326554, 0.04899211904019037, 0.0482090142524443, 0.04773946918326826, 0.047321975510859295, 0.046761507219798076, 0.04642759975346973, 0.04592155389037867, 0.045249295761318045, 0.0447871627995036, 0.044064565831159135, 0.04363814677538151, 0.043175072042727254, 0.042533122671911464, 0.042138878987016085, 0.04163349343354562, 0.04124397709156862, 0.040805540289236386, 0.04029610051253848, 0.039791987719877846, 0.039243033722177766, 0.03884903008222566, 0.03845229367129011, 0.03811355725736809, 0.03764463247725759, 0.037264128828850905, 0.0369191670957945, 0.03655852674999408, 0.036147936936852434, 0.035764508455719074, 0.035480324772779355, 0.03514476671003596, 0.034773655755173855, 0.034346385137851265, 0.034076629169598874, 0.03370943516406491, 0.033356439987798185, 0.033071042605536935, 0.03276250486568701, 0.03246326489104712, 0.03216341688336553, 0.031841847069205426, 0.03156702235382582, 0.03130289972636856, 0.031037574201673482, 0.030737072605125128, 0.030519174295640238, 0.03027277569521789, 0.030032771476661998, 0.02977449631203154, 0.02953853102085865, 0.029277792430118958, 0.028991307370200135, 0.028685677655733367, 0.028502278455132053, 0.028080814490897707, 0.027879821647846737, 0.02762922845809861, 0.027445379504335066, 0.027138036264071668, 0.02696209447517243, 0.026789815253892565, 0.026595935867970055, 0.0263846121126192, 0.026170917662227476, 0.025989514223659853, 0.02574350473432768, 0.02559898863883371, 0.025396595436442446, 0.02520660169029952, 0.02497690222387346, 0.02474564784807562, 0.024577410987733618, 0.0243480606038003, 0.024188524960407663, 0.023993308505140778, 0.023767479783855974, 0.023605427322856403, 0.023457042264776025, 0.02336941751832828, 0.02311955033561973, 0.02293863466967589, 0.022751961400108992, 0.022617843486407326, 0.022490382225736943, 0.022295786666946923, 0.022120479296934874, 0.02193538560135702, 0.021829454651595036, 0.021660392915667685, 0.021498058101421115, 0.021372909024199808, 0.021177163578511227, 0.0209941742585933, 0.020857428491135484, 0.02068081190263819, 0.02054715601301354, 0.020348664874818685, 0.02017097534484428, 0.020014845773171273, 0.01984605395831763, 0.019650825597812498, 0.01953015448914291, 0.01935964995577747, 0.0191535445938354, 0.01900276188818563, 0.01888684054223496, 0.018789270156852556, 0.018673469807403347, 0.01852007550772648, 0.018415428095769133, 0.01830583255109366, 0.01823020394075657, 0.018107731722679894, 0.017987657018120242, 0.017849800493484346, 0.017735266418915575, 0.01763216754132569, 0.01749980188098614, 0.017364932788582737, 0.0172978789395811, 0.01719507761073556, 0.017095339212725356, 0.016976125080264432, 0.01683152971747148, 0.01673377586069534, 0.016638000514209165, 0.016485461755515924, 0.01637460004908101, 0.016250524886254513, 0.016146114482816193, 0.016054973330602976, 0.015932077100712202, 0.01582363566462907, 0.015686889916144996, 0.015623547249129392, 0.015534904451909073, 0.015462244120261953, 0.015376163288930513, 0.01527218737097813, 0.015199475675403707, 0.015105276801351857, 0.015009046508736934, 0.014906207973432714, 0.014821933500753025, 0.014741145105548003, 0.014624978375784395, 0.014530717544469383, 0.014448699858280635, 0.0143279467638556, 0.01424745865673951, 0.014086270413081192, 0.014032073929511436, 0.013908337257452085, 0.013833788875886759, 0.013760566498664122, 0.013677536337985775, 0.01359763889782147, 0.01349236026050716, 0.013417814329644747, 0.013339729678279672, 0.013193870613973896, 0.013143516290054011, 0.013056031401996508, 0.012965523266698677, 0.012906438206369551, 0.012840305283671484, 0.012738935108758582, 0.012661324617248433, 0.012600398635414317, 0.012557080218296261, 0.012424656862421413, 0.012359971345490649, 0.01229707663824455, 0.012241801112398261, 0.012187482633772976, 0.012120928832774408, 0.012089129222803405, 0.012023843227273845, 0.011881987060131603, 0.011822060706493333, 0.011759119154061902, 0.011683257577951555, 0.011626861028622867, 0.011571643645954019, 0.011512931579505009, 0.011467079549349097, 0.011410486646326082, 0.011362162429450309, 0.011309744644725422, 0.011282949270204585, 0.011158495391861697, 0.011110196024734249, 0.011043786478432089, 0.010990740820112472, 0.010907014241676432, 0.010859159417627407, 0.010777926534024112, 0.010710223982852343, 0.01066025557098802, 0.01054045422578886, 0.010502172906110753, 0.010441774802809237, 0.010397783683299354, 0.010351249859715446, 0.010276536263052844, 0.01023170705680794, 0.010184737661492665, 0.010075085558653094, 0.01002786478357152, 0.009960435299028595, 0.009901510311128323, 0.009858642470326993, 0.009817619814258795, 0.009760983884846362, 0.009720395070350519, 0.009690931311645506, 0.009612059176431223, 0.00955026763651264, 0.009492560568230179, 0.009444984006337679, 0.009384789189147128, 0.009357376039038474, 0.009330647049645556, 0.00926481623441664, 0.009211743459010345, 0.009156039384915462, 0.009118793958262976, 0.009080928119682651, 0.009055950337097173, 0.009001299580560817, 0.00893781640876765, 0.00888435217010273, 0.008840229731681104, 0.008804483654803399, 0.008758309981774137, 0.008706895112833332, 0.00865763269317099, 0.008621272120654375, 0.008578897385825337, 0.008545775321813295, 0.008484289190437215, 0.008441800575039914, 0.008411263218873515, 0.008370486501304883, 0.008353250442479334, 0.008329766186670206, 0.008302590299206068, 0.008252900385916402, 0.008215874794922294, 0.008193362016550475, 0.00816533377424272, 0.008092251312167975, 0.008030506364387523]}, 'validation': {'MultiClass': [2.138750152704455, 1.9487954929421045, 1.8053898565364084, 1.6994778608569572, 1.62526908108976, 1.547676687738806, 1.4573979912895403, 1.3778876286002313, 1.3138003841986976, 1.2630208623542645, 1.194479494980352, 1.1436980625676816, 1.0909591050950769, 1.037237538507831, 0.9884935736959751, 0.9610776336580207, 0.9187229369573057, 0.8804251844362319, 0.8386264933452942, 0.8066528340781953, 0.7768095705571817, 0.7512430855325805, 0.7247712621354468, 0.6977959522904587, 0.6784219148996385, 0.6531119306124619, 0.6276437526093015, 0.6061944394596614, 0.5895623908675476, 0.569186236860144, 0.5484272972366199, 0.5279072446809073, 0.5112380141341402, 0.4941486261971764, 0.4783747238651381, 0.46627150259877037, 0.4501861403348636, 0.4356299994333785, 0.4219644504195803, 0.40893031188734225, 0.3950612029171451, 0.3832283216091404, 0.37046535130310526, 0.3598201765630719, 0.3500765326546337, 0.3404280880868258, 0.32909426065018627, 0.3199704919298312, 0.3096367029631816, 0.3006565843016795, 0.2926605492227392, 0.284650796083228, 0.27791610367727493, 0.27028552180311527, 0.2618273078510535, 0.2540104903417073, 0.24771906131183513, 0.2423329679327278, 0.23573610093892866, 0.22969373375489793, 0.22384485559171144, 0.21839560420529233, 0.2131878671142135, 0.20772828974066257, 0.2032114063344357, 0.1978614849514796, 0.1916924126843239, 0.1868586260889663, 0.18175336593542685, 0.1768326304719485, 0.17278777749718938, 0.1679951636990019, 0.16351412038812815, 0.15988273715395038, 0.15651060947544423, 0.1526590512789554, 0.14903410493865615, 0.1457928693640923, 0.14275991478508354, 0.1397132377665208, 0.13710563084912442, 0.1341196420612521, 0.13153709513762055, 0.12822084223520105, 0.12540641587869675, 0.12288838682106457, 0.12037604294213272, 0.11788105319793725, 0.11507163444920505, 0.1127805728207476, 0.10990126000924264, 0.10716027123958856, 0.10485617912051083, 0.10288960192134726, 0.10083699906310283, 0.09873186387377128, 0.09655853931802615, 0.09487090140245726, 0.09263901538289974, 0.09060782131235016, 0.08874476253709956, 0.08684057775429217, 0.08519629319724399, 0.08364410553618083, 0.08184070345773556, 0.0803330020341947, 0.07868039741843087, 0.07737602066182836, 0.0761816636040902, 0.07454091432925669, 0.07287586279092757, 0.0715274493495766, 0.07029733780484951, 0.06929441452677573, 0.06815769541301085, 0.0669103921017493, 0.06590602304309184, 0.06496048612178605, 0.06390590276223068, 0.06295104839020753, 0.06198654616271029, 0.060914480126720606, 0.0598789128010125, 0.058909636327813444, 0.057685333722175554, 0.056889208908262476, 0.05578692970982013, 0.05482641651625819, 0.054030513660286876, 0.05322032413596838, 0.05256754982987659, 0.0514577291236702, 0.050344070242828484, 0.04952651044909765, 0.04877911487381672, 0.047982764777317236, 0.04717638747597245, 0.046398427784964204, 0.04558886974688102, 0.044826990866494325, 0.044171902146116486, 0.043450266947501634, 0.04302129596080983, 0.04218887272325126, 0.0415660823443311, 0.041064399420872054, 0.04053297319327233, 0.04011814695701619, 0.03951885860464002, 0.03900480731144601, 0.03861043233792057, 0.03810920800727849, 0.037872511355304214, 0.03731997378779641, 0.03660461539764462, 0.03611280018469122, 0.03551452480552907, 0.03502694906745436, 0.03466841306299198, 0.03410442559109043, 0.0336813520285353, 0.03319821201757293, 0.03281630737621144, 0.03241805275328149, 0.0319262549722109, 0.0314704966167092, 0.03097520247655242, 0.030539752919326466, 0.03023958251155568, 0.029904362348262478, 0.02939417905264655, 0.029097133408232653, 0.02881294917003257, 0.02841888404167549, 0.028044576636856576, 0.02768411553646286, 0.027373219748209335, 0.027116488754791345, 0.026778014036950917, 0.02636514947604296, 0.026105952331713922, 0.025809809469270525, 0.02548875356864759, 0.025285793291740945, 0.024943558287740274, 0.024613312328351768, 0.02427000515078195, 0.023981715559961744, 0.023718370903362488, 0.023425271774280235, 0.02317052602613927, 0.0228938549243768, 0.022641854269399866, 0.02240477870590341, 0.022140450241419262, 0.02193122675525133, 0.021705987839601867, 0.021520538976349028, 0.02121231353210458, 0.020916851405708307, 0.02072074423239478, 0.02041399220824114, 0.020249752522240285, 0.020024238900112533, 0.019935507631684238, 0.01968203427770425, 0.01947201997822379, 0.019276257838914176, 0.01908888407062447, 0.0188737907239013, 0.01873975392909146, 0.018565903770927275, 0.018381652096100237, 0.01822801175113351, 0.01806609447659898, 0.0179025628477752, 0.017680018364521346, 0.017550382312342228, 0.017473086007047958, 0.017247051001424322, 0.01717828430172516, 0.017007499450677168, 0.01677226134024555, 0.016709227291582543, 0.016541970310232856, 0.01650932538427124, 0.016371496373562174, 0.01626108031989838, 0.016127370003821754, 0.01608855332272063, 0.015951228131744866, 0.015753528751757406, 0.015645095065012198, 0.015454364199173327, 0.015342167694399667, 0.01523950442745124, 0.015141611470381141, 0.015107298871000117, 0.014936991568461662, 0.014753357294098534, 0.014704638786804848, 0.014570003710655177, 0.014424038704190973, 0.014281192970446817, 0.014197191598256043, 0.014077221893100055, 0.013912829174593534, 0.01378108667818829, 0.013750151866329911, 0.013595416299604394, 0.013488701089944476, 0.013338586796184165, 0.01331362021026952, 0.013198650266089068, 0.013170808277099894, 0.01302630863730121, 0.012926065058221244, 0.012902227358738068, 0.012891288239062151, 0.012848419741762328, 0.012806550194000042, 0.012709207968905735, 0.01267593444854272, 0.012656061271026583, 0.012563230983815236, 0.012426380540398022, 0.0124068633789252, 0.012384535415572598, 0.012364387234515096, 0.012293576770261936, 0.01218363594325355, 0.012164015440343953, 0.012144793797411185, 0.012037271693522311, 0.011905005409624558, 0.011813927556919594, 0.011778501090939492, 0.011673321268668579, 0.01158050833220959, 0.011497323763699727, 0.011438182842011115, 0.011427353867726888, 0.011411412196338826, 0.011337077388779863, 0.011316133420015634, 0.011257512207751863, 0.01119849385077283, 0.011172676435144444, 0.011123015463086517, 0.01105175281878971, 0.01103625701919741, 0.010959333193904158, 0.010907416878467368, 0.010854474442742441, 0.010839697127199557, 0.0107749379190546, 0.01070089885406793, 0.010626359217875475, 0.010616291633475316, 0.010529289597631218, 0.0105164340697486, 0.010443927040448941, 0.010417479299071452, 0.010392485640911173, 0.010288436592771405, 0.01022006735293969, 0.010197560803510038, 0.010122801477112186, 0.010113692523844156, 0.010043427958294706, 0.009998927495303397, 0.009938023651767986, 0.009928130319737495, 0.0098580880816324, 0.009814337633201957, 0.009757063993571005, 0.00974353030945255, 0.009653997825914737, 0.009644140270686247, 0.009634798254931838, 0.009586483429925866, 0.009576883557130031, 0.009559775646126603, 0.00956197231816561, 0.009541597369590642, 0.00943309509099352, 0.009365005873558542, 0.009345490037720804, 0.009256870594117058, 0.009203490442062263, 0.009194905378268574, 0.009179148294358288, 0.009174710781558348, 0.009162940037263612, 0.009155433412724671, 0.009102144234529543, 0.009104242913333602, 0.009011447341002931, 0.009003522064177706, 0.008963028006234473, 0.00894561207724856, 0.008889271209782291, 0.00884828388193764, 0.008767224474146, 0.008684694200740932, 0.00867048653264522, 0.00857728084079416, 0.008566616760333158, 0.008529857066232856, 0.008522059072260947, 0.008508611110281792, 0.008453331316698788, 0.008407545362213595, 0.008390746485139355, 0.008308135043561522, 0.008290597181724658, 0.008250688005547653, 0.008200241176225002, 0.00818541729777207, 0.008149901258439219, 0.008103002686923783, 0.00806115891029182, 0.008062851279131122, 0.00799104347435492, 0.007944951951419392, 0.007900703503110373, 0.007848263338570088, 0.0078041081692206155, 0.007797683218409007, 0.0077881459746363966, 0.007733308936694014, 0.0076714958897809386, 0.00762457859440659, 0.007586487631133646, 0.007575578905670841, 0.007567337480210913, 0.007538065551969679, 0.007475124902955883, 0.007435018056719868, 0.007385917580242909, 0.007374618676564356, 0.007345344900541603, 0.007310683053198734, 0.007248015058144136, 0.007235518213198579, 0.007197186214268192, 0.007187785960214979, 0.007135795045051824, 0.007088839228541876, 0.0070829972374648435, 0.007046117127247229, 0.007047230133007663, 0.007048506904025687, 0.007040101561462852, 0.007009258079952917, 0.006970491925742768, 0.006964622518795833, 0.006958892619683519, 0.006896666317580328, 0.006846386684993314]}}\n"
          ]
        }
      ]
    },
    {
      "cell_type": "code",
      "source": [
        "# Retrieve evaluation results\n",
        "learning_curve = final_model.get_evals_result()\n",
        "\n",
        "# Extract the metric values\n",
        "# Assuming 'learn' corresponds to the training dataset\n",
        "train_metric_values = learning_curve.get('learn', {}).get('MultiClass', [])\n",
        "\n",
        "# Check the extracted values\n",
        "if train_metric_values:\n",
        "    print(\"Training metric values:\", train_metric_values)\n",
        "else:\n",
        "    print(\"Metric 'MultiClass' not found in evaluation results.\")\n"
      ],
      "metadata": {
        "id": "3baCXa2jGafB",
        "colab": {
          "base_uri": "https://localhost:8080/"
        },
        "outputId": "3c7b8b09-bd2e-459c-deb1-cc7d72589c8f"
      },
      "id": "3baCXa2jGafB",
      "execution_count": 31,
      "outputs": [
        {
          "output_type": "stream",
          "name": "stdout",
          "text": [
            "Training metric values: [2.1365269305294743, 1.9544827886389518, 1.8121281018313733, 1.709703570044688, 1.6315810726684281, 1.5537953792140524, 1.470722327861902, 1.397996458138416, 1.335636892199992, 1.2862105443098735, 1.2171157772674244, 1.1627807647255224, 1.1126410496374137, 1.0583597667727938, 1.0103100202597532, 0.9815448425899675, 0.9394695560013645, 0.9019799468825186, 0.8601675326897775, 0.8264078338106704, 0.7968924965872812, 0.7695277002426671, 0.740731888718586, 0.7148767055658317, 0.6955095812151685, 0.6695792683261421, 0.6426319375262323, 0.6205297836258185, 0.6035988664076971, 0.583248169179713, 0.5615939739124634, 0.5405576876680602, 0.5239820607954219, 0.5078939144668017, 0.4933934730105139, 0.4808106507561492, 0.46482071741837194, 0.45003356264313105, 0.43641507946330693, 0.42281858369078534, 0.4089520700439209, 0.39635521771341736, 0.38347177487792466, 0.3733577650907392, 0.36294012935725917, 0.3525231909313976, 0.34102912645684313, 0.3318084160857721, 0.3213750014375517, 0.3127009403788163, 0.30467243214961803, 0.2966007519941087, 0.28972669749978935, 0.28163110917806145, 0.27327925293048927, 0.2655674669181359, 0.25964485872730936, 0.2539097087215763, 0.24755649149942466, 0.24117969549030638, 0.2350860945658646, 0.22931254992644165, 0.22460885294688696, 0.21890550379883708, 0.21419807061202625, 0.20899292362149552, 0.20311197438204753, 0.19859253495991086, 0.19328576489507532, 0.18843260258804054, 0.18417424220191128, 0.17943251607785238, 0.17497341710225184, 0.17114728752035308, 0.16741330493519208, 0.16352537398711933, 0.16004234092374717, 0.15655837272973194, 0.153715098723107, 0.15089728492909144, 0.14812488291693135, 0.14522814239303353, 0.1426703723080466, 0.13957346156853387, 0.1366954814243818, 0.13415633973646604, 0.13149715861165664, 0.12919799353603578, 0.12631463749627533, 0.123899739916002, 0.1209579544826801, 0.11807761942816937, 0.11560832518013027, 0.1134416355911995, 0.11129535704757688, 0.10918692002813035, 0.10687799682235705, 0.10532707006416725, 0.10304407612385089, 0.10094930395942478, 0.09923468839527402, 0.09737931100170355, 0.0956491782227115, 0.0939738079485354, 0.09214324559849436, 0.09056422517750166, 0.08880114564566984, 0.0874425326814752, 0.08634443583421884, 0.08462566343736636, 0.08302611062737199, 0.08152247497105991, 0.08016762111088997, 0.07916713252803093, 0.07792869366702564, 0.07656624381472, 0.07551926080505195, 0.07444874751034038, 0.07346845977669575, 0.07247354619737667, 0.07158336567878838, 0.07043989636541222, 0.06928202835874721, 0.06821598820220233, 0.06700523473935992, 0.06621490290845584, 0.0649208273557001, 0.06388105673182355, 0.0630908736000511, 0.06229937653885212, 0.06159356861961542, 0.060566715841359704, 0.05950522565866218, 0.058763864388861824, 0.05793834667192231, 0.05704066127526144, 0.05628194625966935, 0.055528170149157174, 0.05467652950355171, 0.05388469778099824, 0.05331403932607544, 0.05252545036430947, 0.052075781957817494, 0.05126537952456746, 0.05060652500983387, 0.050006796416338345, 0.049442985127326554, 0.04899211904019037, 0.0482090142524443, 0.04773946918326826, 0.047321975510859295, 0.046761507219798076, 0.04642759975346973, 0.04592155389037867, 0.045249295761318045, 0.0447871627995036, 0.044064565831159135, 0.04363814677538151, 0.043175072042727254, 0.042533122671911464, 0.042138878987016085, 0.04163349343354562, 0.04124397709156862, 0.040805540289236386, 0.04029610051253848, 0.039791987719877846, 0.039243033722177766, 0.03884903008222566, 0.03845229367129011, 0.03811355725736809, 0.03764463247725759, 0.037264128828850905, 0.0369191670957945, 0.03655852674999408, 0.036147936936852434, 0.035764508455719074, 0.035480324772779355, 0.03514476671003596, 0.034773655755173855, 0.034346385137851265, 0.034076629169598874, 0.03370943516406491, 0.033356439987798185, 0.033071042605536935, 0.03276250486568701, 0.03246326489104712, 0.03216341688336553, 0.031841847069205426, 0.03156702235382582, 0.03130289972636856, 0.031037574201673482, 0.030737072605125128, 0.030519174295640238, 0.03027277569521789, 0.030032771476661998, 0.02977449631203154, 0.02953853102085865, 0.029277792430118958, 0.028991307370200135, 0.028685677655733367, 0.028502278455132053, 0.028080814490897707, 0.027879821647846737, 0.02762922845809861, 0.027445379504335066, 0.027138036264071668, 0.02696209447517243, 0.026789815253892565, 0.026595935867970055, 0.0263846121126192, 0.026170917662227476, 0.025989514223659853, 0.02574350473432768, 0.02559898863883371, 0.025396595436442446, 0.02520660169029952, 0.02497690222387346, 0.02474564784807562, 0.024577410987733618, 0.0243480606038003, 0.024188524960407663, 0.023993308505140778, 0.023767479783855974, 0.023605427322856403, 0.023457042264776025, 0.02336941751832828, 0.02311955033561973, 0.02293863466967589, 0.022751961400108992, 0.022617843486407326, 0.022490382225736943, 0.022295786666946923, 0.022120479296934874, 0.02193538560135702, 0.021829454651595036, 0.021660392915667685, 0.021498058101421115, 0.021372909024199808, 0.021177163578511227, 0.0209941742585933, 0.020857428491135484, 0.02068081190263819, 0.02054715601301354, 0.020348664874818685, 0.02017097534484428, 0.020014845773171273, 0.01984605395831763, 0.019650825597812498, 0.01953015448914291, 0.01935964995577747, 0.0191535445938354, 0.01900276188818563, 0.01888684054223496, 0.018789270156852556, 0.018673469807403347, 0.01852007550772648, 0.018415428095769133, 0.01830583255109366, 0.01823020394075657, 0.018107731722679894, 0.017987657018120242, 0.017849800493484346, 0.017735266418915575, 0.01763216754132569, 0.01749980188098614, 0.017364932788582737, 0.0172978789395811, 0.01719507761073556, 0.017095339212725356, 0.016976125080264432, 0.01683152971747148, 0.01673377586069534, 0.016638000514209165, 0.016485461755515924, 0.01637460004908101, 0.016250524886254513, 0.016146114482816193, 0.016054973330602976, 0.015932077100712202, 0.01582363566462907, 0.015686889916144996, 0.015623547249129392, 0.015534904451909073, 0.015462244120261953, 0.015376163288930513, 0.01527218737097813, 0.015199475675403707, 0.015105276801351857, 0.015009046508736934, 0.014906207973432714, 0.014821933500753025, 0.014741145105548003, 0.014624978375784395, 0.014530717544469383, 0.014448699858280635, 0.0143279467638556, 0.01424745865673951, 0.014086270413081192, 0.014032073929511436, 0.013908337257452085, 0.013833788875886759, 0.013760566498664122, 0.013677536337985775, 0.01359763889782147, 0.01349236026050716, 0.013417814329644747, 0.013339729678279672, 0.013193870613973896, 0.013143516290054011, 0.013056031401996508, 0.012965523266698677, 0.012906438206369551, 0.012840305283671484, 0.012738935108758582, 0.012661324617248433, 0.012600398635414317, 0.012557080218296261, 0.012424656862421413, 0.012359971345490649, 0.01229707663824455, 0.012241801112398261, 0.012187482633772976, 0.012120928832774408, 0.012089129222803405, 0.012023843227273845, 0.011881987060131603, 0.011822060706493333, 0.011759119154061902, 0.011683257577951555, 0.011626861028622867, 0.011571643645954019, 0.011512931579505009, 0.011467079549349097, 0.011410486646326082, 0.011362162429450309, 0.011309744644725422, 0.011282949270204585, 0.011158495391861697, 0.011110196024734249, 0.011043786478432089, 0.010990740820112472, 0.010907014241676432, 0.010859159417627407, 0.010777926534024112, 0.010710223982852343, 0.01066025557098802, 0.01054045422578886, 0.010502172906110753, 0.010441774802809237, 0.010397783683299354, 0.010351249859715446, 0.010276536263052844, 0.01023170705680794, 0.010184737661492665, 0.010075085558653094, 0.01002786478357152, 0.009960435299028595, 0.009901510311128323, 0.009858642470326993, 0.009817619814258795, 0.009760983884846362, 0.009720395070350519, 0.009690931311645506, 0.009612059176431223, 0.00955026763651264, 0.009492560568230179, 0.009444984006337679, 0.009384789189147128, 0.009357376039038474, 0.009330647049645556, 0.00926481623441664, 0.009211743459010345, 0.009156039384915462, 0.009118793958262976, 0.009080928119682651, 0.009055950337097173, 0.009001299580560817, 0.00893781640876765, 0.00888435217010273, 0.008840229731681104, 0.008804483654803399, 0.008758309981774137, 0.008706895112833332, 0.00865763269317099, 0.008621272120654375, 0.008578897385825337, 0.008545775321813295, 0.008484289190437215, 0.008441800575039914, 0.008411263218873515, 0.008370486501304883, 0.008353250442479334, 0.008329766186670206, 0.008302590299206068, 0.008252900385916402, 0.008215874794922294, 0.008193362016550475, 0.00816533377424272, 0.008092251312167975, 0.008030506364387523]\n"
          ]
        }
      ]
    },
    {
      "cell_type": "code",
      "source": [
        "import matplotlib.pyplot as plt\n",
        "\n",
        "# Plotting the learning curve\n",
        "plt.plot(train_metric_values, label='Training MultiClass Metric')\n",
        "plt.xlabel('Iterations')\n",
        "plt.ylabel('Metric Value')\n",
        "plt.title('Learning Curve')\n",
        "plt.legend()\n",
        "plt.grid()\n",
        "plt.show()\n"
      ],
      "metadata": {
        "id": "p0vioY6FGjQb",
        "colab": {
          "base_uri": "https://localhost:8080/",
          "height": 472
        },
        "outputId": "0b6bd83f-bf81-40db-e897-b11b669902af"
      },
      "id": "p0vioY6FGjQb",
      "execution_count": 32,
      "outputs": [
        {
          "output_type": "display_data",
          "data": {
            "text/plain": [
              "<Figure size 640x480 with 1 Axes>"
            ],
            "image/png": "[encoded data removed]"
          },
          "metadata": {}
        }
      ]
    },
    {
      "cell_type": "code",
      "source": [
        "# Predictions\n",
        "y_pred_train = final_model.predict(X_train)\n",
        "y_pred_test = final_model.predict(X_test)\n",
        "\n",
        "print(\"Classification Report - Training Set:\")\n",
        "print(classification_report(y_train, y_pred_train))\n",
        "\n",
        "print(\"Classification Report - Test Set:\")\n",
        "print(classification_report(y_test, y_pred_test))\n",
        "\n",
        "conf_matrix_train = confusion_matrix(y_train, y_pred_train)\n",
        "conf_matrix_test = confusion_matrix(y_test, y_pred_test)\n",
        "\n",
        "plt.figure(figsize=(15, 5))\n",
        "\n",
        "plt.subplot(1, 3, 1)\n",
        "sns.heatmap(conf_matrix_train, annot=True, fmt=\"d\", cmap=\"Blues\", cbar=False)\n",
        "plt.title(\"Confusion Matrix - Training Set\")\n",
        "plt.xlabel(\"Predicted\")\n",
        "plt.ylabel(\"True\")\n",
        "\n",
        "plt.subplot(1, 3, 2)\n",
        "sns.heatmap(conf_matrix_test, annot=True, fmt=\"d\", cmap=\"Blues\", cbar=False)\n",
        "plt.title(\"Confusion Matrix - Test Set\")\n",
        "plt.xlabel(\"Predicted\")\n",
        "plt.ylabel(\"True\")\n",
        "\n",
        "plt.tight_layout()\n",
        "plt.savefig('C-Matrix.svg', format='svg')\n",
        "plt.show()\n",
        "\n",
        "end_time = datetime.now()\n",
        "print('Deployment Duration: {}'.format(end_time - start_time))"
      ],
      "metadata": {
        "id": "EGySyu_OHNqG",
        "colab": {
          "base_uri": "https://localhost:8080/",
          "height": 1000
        },
        "outputId": "c4d37ceb-dd9b-4081-bba3-b60ab12862ca"
      },
      "id": "EGySyu_OHNqG",
      "execution_count": 33,
      "outputs": [
        {
          "output_type": "stream",
          "name": "stdout",
          "text": [
            "Classification Report - Training Set:\n",
            "                  precision    recall  f1-score   support\n",
            "\n",
            "  F0_Normal_1_98       1.00      1.00      1.00       116\n",
            "   F1_B007_1_124       1.00      1.00      1.00       124\n",
            "   F2_B014_1_191       1.00      0.99      1.00       126\n",
            "   F3_B021_1_228       0.99      1.00      1.00       128\n",
            "  F4_IR007_1_111       1.00      1.00      1.00       123\n",
            "  F5_IR014_1_176       1.00      1.00      1.00       125\n",
            "  F6_IR021_1_215       1.00      1.00      1.00       130\n",
            "F7_OR007_6_1_137       1.00      1.00      1.00       132\n",
            "F8_OR014_6_1_203       1.00      1.00      1.00       112\n",
            "F9_OR021_6_1_240       1.00      1.00      1.00       140\n",
            "\n",
            "        accuracy                           1.00      1256\n",
            "       macro avg       1.00      1.00      1.00      1256\n",
            "    weighted avg       1.00      1.00      1.00      1256\n",
            "\n",
            "Classification Report - Test Set:\n",
            "                  precision    recall  f1-score   support\n",
            "\n",
            "  F0_Normal_1_98       1.00      1.00      1.00        38\n",
            "   F1_B007_1_124       1.00      1.00      1.00        34\n",
            "   F2_B014_1_191       1.00      1.00      1.00        28\n",
            "   F3_B021_1_228       1.00      1.00      1.00        30\n",
            "  F4_IR007_1_111       1.00      1.00      1.00        31\n",
            "  F5_IR014_1_176       1.00      1.00      1.00        38\n",
            "  F6_IR021_1_215       1.00      1.00      1.00        29\n",
            "F7_OR007_6_1_137       1.00      1.00      1.00        30\n",
            "F8_OR014_6_1_203       1.00      1.00      1.00        34\n",
            "F9_OR021_6_1_240       1.00      1.00      1.00        22\n",
            "\n",
            "        accuracy                           1.00       314\n",
            "       macro avg       1.00      1.00      1.00       314\n",
            "    weighted avg       1.00      1.00      1.00       314\n",
            "\n"
          ]
        },
        {
          "output_type": "display_data",
          "data": {
            "text/plain": [
              "<Figure size 1500x500 with 2 Axes>"
            ],
            "image/png": "[encoded data removed]"
          },
          "metadata": {}
        },
        {
          "output_type": "stream",
          "name": "stdout",
          "text": [
            "Deployment Duration: 0:04:51.000640\n"
          ]
        }
      ]
    },
    {
      "cell_type": "code",
      "source": [
        "final_model.fit(X_train, y_train, eval_set=(X_test, y_test))\n",
        "\n",
        "# Evaluate train accuracy\n",
        "result_train = final_model.score(X_train, y_train)\n",
        "print(\"Train Accuracy : {}\".format(result_train))\n",
        "\n",
        "# Evaluate test accuracy\n",
        "result_test = final_model.score(X_test, y_test)\n",
        "print(\"Test Accuracy : {}\".format(result_test))\n",
        "\n",
        "# Predictions\n",
        "y_pred_train = final_model.predict(X_train)\n",
        "y_pred_test = final_model.predict(X_test)\n",
        "\n",
        "# Classification report\n",
        "print(\"Classification Report - Training Set:\")\n",
        "print(classification_report(y_train, y_pred_train))\n",
        "\n",
        "print(\"Classification Report - Test Set:\")\n",
        "print(classification_report(y_test, y_pred_test))"
      ],
      "metadata": {
        "id": "tEOwmxFROH5f",
        "colab": {
          "base_uri": "https://localhost:8080/"
        },
        "outputId": "290404c4-2edd-4454-cef7-c50ee0ed5885"
      },
      "id": "tEOwmxFROH5f",
      "execution_count": 34,
      "outputs": [
        {
          "output_type": "stream",
          "name": "stdout",
          "text": [
            "0:\tlearn: 2.1365269\ttest: 2.1387502\tbest: 2.1387502 (0)\ttotal: 3.69ms\tremaining: 1.47s\n",
            "10:\tlearn: 1.2171158\ttest: 1.1944795\tbest: 1.1944795 (10)\ttotal: 59.6ms\tremaining: 2.11s\n",
            "20:\tlearn: 0.7968925\ttest: 0.7768096\tbest: 0.7768096 (20)\ttotal: 130ms\tremaining: 2.34s\n",
            "30:\tlearn: 0.5615940\ttest: 0.5484273\tbest: 0.5484273 (30)\ttotal: 202ms\tremaining: 2.41s\n",
            "40:\tlearn: 0.4089521\ttest: 0.3950612\tbest: 0.3950612 (40)\ttotal: 285ms\tremaining: 2.49s\n",
            "50:\tlearn: 0.3046724\ttest: 0.2926605\tbest: 0.2926605 (50)\ttotal: 311ms\tremaining: 2.13s\n",
            "60:\tlearn: 0.2350861\ttest: 0.2238449\tbest: 0.2238449 (60)\ttotal: 337ms\tremaining: 1.87s\n",
            "70:\tlearn: 0.1841742\ttest: 0.1727878\tbest: 0.1727878 (70)\ttotal: 365ms\tremaining: 1.69s\n",
            "80:\tlearn: 0.1481249\ttest: 0.1371056\tbest: 0.1371056 (80)\ttotal: 407ms\tremaining: 1.6s\n",
            "90:\tlearn: 0.1209580\ttest: 0.1099013\tbest: 0.1099013 (90)\ttotal: 469ms\tremaining: 1.59s\n",
            "100:\tlearn: 0.0992347\ttest: 0.0887448\tbest: 0.0887448 (100)\ttotal: 547ms\tremaining: 1.62s\n",
            "110:\tlearn: 0.0830261\ttest: 0.0728759\tbest: 0.0728759 (110)\ttotal: 597ms\tremaining: 1.55s\n",
            "120:\tlearn: 0.0715834\ttest: 0.0619865\tbest: 0.0619865 (120)\ttotal: 674ms\tremaining: 1.55s\n",
            "130:\tlearn: 0.0615936\ttest: 0.0525675\tbest: 0.0525675 (130)\ttotal: 736ms\tremaining: 1.51s\n",
            "140:\tlearn: 0.0533140\ttest: 0.0441719\tbest: 0.0441719 (140)\ttotal: 819ms\tremaining: 1.5s\n",
            "150:\tlearn: 0.0473220\ttest: 0.0386104\tbest: 0.0386104 (150)\ttotal: 869ms\tremaining: 1.43s\n",
            "160:\tlearn: 0.0421389\ttest: 0.0336814\tbest: 0.0336814 (160)\ttotal: 919ms\tremaining: 1.36s\n",
            "170:\tlearn: 0.0376446\ttest: 0.0293942\tbest: 0.0293942 (170)\ttotal: 990ms\tremaining: 1.32s\n",
            "180:\tlearn: 0.0340766\ttest: 0.0261060\tbest: 0.0261060 (180)\ttotal: 1.04s\tremaining: 1.26s\n",
            "190:\tlearn: 0.0310376\ttest: 0.0231705\tbest: 0.0231705 (190)\ttotal: 1.09s\tremaining: 1.19s\n",
            "200:\tlearn: 0.0285023\ttest: 0.0207207\tbest: 0.0207207 (200)\ttotal: 1.15s\tremaining: 1.13s\n",
            "210:\tlearn: 0.0261709\ttest: 0.0187398\tbest: 0.0187398 (210)\ttotal: 1.2s\tremaining: 1.07s\n",
            "220:\tlearn: 0.0241885\ttest: 0.0171783\tbest: 0.0171783 (220)\ttotal: 1.22s\tremaining: 991ms\n",
            "230:\tlearn: 0.0224904\ttest: 0.0159512\tbest: 0.0159512 (230)\ttotal: 1.27s\tremaining: 927ms\n",
            "240:\tlearn: 0.0208574\ttest: 0.0147046\tbest: 0.0147046 (240)\ttotal: 1.32s\tremaining: 871ms\n",
            "250:\tlearn: 0.0191535\ttest: 0.0134887\tbest: 0.0134887 (250)\ttotal: 1.34s\tremaining: 798ms\n",
            "260:\tlearn: 0.0179877\ttest: 0.0128066\tbest: 0.0128066 (260)\ttotal: 1.39s\tremaining: 741ms\n",
            "270:\tlearn: 0.0168315\ttest: 0.0121836\tbest: 0.0121836 (270)\ttotal: 1.45s\tremaining: 689ms\n",
            "280:\tlearn: 0.0156869\ttest: 0.0114382\tbest: 0.0114382 (280)\ttotal: 1.47s\tremaining: 624ms\n",
            "290:\tlearn: 0.0148219\ttest: 0.0110363\tbest: 0.0110363 (290)\ttotal: 1.5s\tremaining: 561ms\n",
            "300:\tlearn: 0.0138338\ttest: 0.0105164\tbest: 0.0105164 (300)\ttotal: 1.52s\tremaining: 501ms\n",
            "310:\tlearn: 0.0129655\ttest: 0.0099989\tbest: 0.0099989 (310)\ttotal: 1.55s\tremaining: 444ms\n",
            "320:\tlearn: 0.0122418\ttest: 0.0095865\tbest: 0.0095865 (320)\ttotal: 1.6s\tremaining: 394ms\n",
            "330:\tlearn: 0.0115716\ttest: 0.0091949\tbest: 0.0091949 (330)\ttotal: 1.67s\tremaining: 348ms\n",
            "340:\tlearn: 0.0109907\ttest: 0.0089456\tbest: 0.0089456 (340)\ttotal: 1.73s\tremaining: 300ms\n",
            "350:\tlearn: 0.0103512\ttest: 0.0085086\tbest: 0.0085086 (350)\ttotal: 1.77s\tremaining: 247ms\n",
            "360:\tlearn: 0.0097610\ttest: 0.0081030\tbest: 0.0081030 (360)\ttotal: 1.83s\tremaining: 197ms\n",
            "370:\tlearn: 0.0092648\ttest: 0.0077333\tbest: 0.0077333 (370)\ttotal: 1.88s\tremaining: 147ms\n",
            "380:\tlearn: 0.0088045\ttest: 0.0073746\tbest: 0.0073746 (380)\ttotal: 1.96s\tremaining: 97.7ms\n",
            "390:\tlearn: 0.0083705\ttest: 0.0070461\tbest: 0.0070461 (390)\ttotal: 2.02s\tremaining: 46.4ms\n",
            "399:\tlearn: 0.0080305\ttest: 0.0068464\tbest: 0.0068464 (399)\ttotal: 2.08s\tremaining: 0us\n",
            "\n",
            "bestTest = 0.006846386685\n",
            "bestIteration = 399\n",
            "\n",
            "Train Accuracy : 0.9992038216560509\n",
            "Test Accuracy : 1.0\n",
            "Classification Report - Training Set:\n",
            "                  precision    recall  f1-score   support\n",
            "\n",
            "  F0_Normal_1_98       1.00      1.00      1.00       116\n",
            "   F1_B007_1_124       1.00      1.00      1.00       124\n",
            "   F2_B014_1_191       1.00      0.99      1.00       126\n",
            "   F3_B021_1_228       0.99      1.00      1.00       128\n",
            "  F4_IR007_1_111       1.00      1.00      1.00       123\n",
            "  F5_IR014_1_176       1.00      1.00      1.00       125\n",
            "  F6_IR021_1_215       1.00      1.00      1.00       130\n",
            "F7_OR007_6_1_137       1.00      1.00      1.00       132\n",
            "F8_OR014_6_1_203       1.00      1.00      1.00       112\n",
            "F9_OR021_6_1_240       1.00      1.00      1.00       140\n",
            "\n",
            "        accuracy                           1.00      1256\n",
            "       macro avg       1.00      1.00      1.00      1256\n",
            "    weighted avg       1.00      1.00      1.00      1256\n",
            "\n",
            "Classification Report - Test Set:\n",
            "                  precision    recall  f1-score   support\n",
            "\n",
            "  F0_Normal_1_98       1.00      1.00      1.00        38\n",
            "   F1_B007_1_124       1.00      1.00      1.00        34\n",
            "   F2_B014_1_191       1.00      1.00      1.00        28\n",
            "   F3_B021_1_228       1.00      1.00      1.00        30\n",
            "  F4_IR007_1_111       1.00      1.00      1.00        31\n",
            "  F5_IR014_1_176       1.00      1.00      1.00        38\n",
            "  F6_IR021_1_215       1.00      1.00      1.00        29\n",
            "F7_OR007_6_1_137       1.00      1.00      1.00        30\n",
            "F8_OR014_6_1_203       1.00      1.00      1.00        34\n",
            "F9_OR021_6_1_240       1.00      1.00      1.00        22\n",
            "\n",
            "        accuracy                           1.00       314\n",
            "       macro avg       1.00      1.00      1.00       314\n",
            "    weighted avg       1.00      1.00      1.00       314\n",
            "\n"
          ]
        }
      ]
    }
  ],
  "metadata": {
    "kernelspec": {
      "display_name": "Python 3",
      "name": "python3"
    },
    "language_info": {
      "codemirror_mode": {
        "name": "ipython",
        "version": 3
      },
      "file_extension": ".py",
      "mimetype": "text/x-python",
      "name": "python",
      "nbconvert_exporter": "python",
      "pygments_lexer": "ipython3",
      "version": "3.11.2"
    },
    "colab": {
      "provenance": [],
      "gpuType": "T4",
      "include_colab_link": true
    },
    "accelerator": "GPU",
    "widgets": {
      "application/vnd.jupyter.widget-state+json": {
        "a072dd96366d40739c315dbca34ecac9": {
          "model_module": "catboost-widget",
          "model_name": "CatboostWidgetModel",
          "model_module_version": "^1.0.0",
          "state": {
            "_dom_classes": [],
            "_model_module": "catboost-widget",
            "_model_module_version": "^1.0.0",
            "_model_name": "CatboostWidgetModel",
            "_view_count": null,
            "_view_module": "catboost-widget",
            "_view_module_version": "^1.0.0",
            "_view_name": "CatboostWidgetView",
            "data": {
              "catboost_info": {
                "path": "catboost_info",
                "name": "catboost_info",
                "content": {
                  "passed_iterations": 399,
                  "total_iterations": 400,
                  "data": {
                    "iterations": [
                      {
                        "learn": [
                          2.136526931
                        ],
                        "iteration": 0,
                        "passed_time": 0.002966527642,
                        "remaining_time": 1.183644529,
                        "test": [
                          2.138750153
                        ]
                      },
                      {
                        "learn": [
                          1.954482789
                        ],
                        "iteration": 1,
                        "passed_time": 0.006886085379,
                        "remaining_time": 1.37033099,
                        "test": [
                          1.948795493
                        ]
                      },
                      {
                        "learn": [
                          1.812128102
                        ],
                        "iteration": 2,
                        "passed_time": 0.009552095596,
                        "remaining_time": 1.264060651,
                        "test": [
                          1.805389857
                        ]
                      },
                      {
                        "learn": [
                          1.70970357
                        ],
                        "iteration": 3,
                        "passed_time": 0.01339052935,
                        "remaining_time": 1.325662405,
                        "test": [
                          1.699477861
                        ]
                      },
                      {
                        "learn": [
                          1.631581073
                        ],
                        "iteration": 4,
                        "passed_time": 0.01534001885,
                        "remaining_time": 1.211861489,
                        "test": [
                          1.625269081
                        ]
                      },
                      {
                        "learn": [
                          1.553795379
                        ],
                        "iteration": 5,
                        "passed_time": 0.01735936404,
                        "remaining_time": 1.139931572,
                        "test": [
                          1.547676688
                        ]
                      },
                      {
                        "learn": [
                          1.470722328
                        ],
                        "iteration": 6,
                        "passed_time": 0.01961390569,
                        "remaining_time": 1.101180705,
                        "test": [
                          1.457397991
                        ]
                      },
                      {
                        "learn": [
                          1.397996458
                        ],
                        "iteration": 7,
                        "passed_time": 0.02195877475,
                        "remaining_time": 1.075979963,
                        "test": [
                          1.377887629
                        ]
                      },
                      {
                        "learn": [
                          1.335636892
                        ],
                        "iteration": 8,
                        "passed_time": 0.02396046703,
                        "remaining_time": 1.040949179,
                        "test": [
                          1.313800384
                        ]
                      },
                      {
                        "learn": [
                          1.286210544
                        ],
                        "iteration": 9,
                        "passed_time": 0.02642846349,
                        "remaining_time": 1.030710076,
                        "test": [
                          1.263020862
                        ]
                      },
                      {
                        "learn": [
                          1.217115777
                        ],
                        "iteration": 10,
                        "passed_time": 0.02831539686,
                        "remaining_time": 1.001335398,
                        "test": [
                          1.194479495
                        ]
                      },
                      {
                        "learn": [
                          1.162780765
                        ],
                        "iteration": 11,
                        "passed_time": 0.0309437354,
                        "remaining_time": 1.000514111,
                        "test": [
                          1.143698063
                        ]
                      },
                      {
                        "learn": [
                          1.11264105
                        ],
                        "iteration": 12,
                        "passed_time": 0.03280312148,
                        "remaining_time": 0.9765236932,
                        "test": [
                          1.090959105
                        ]
                      },
                      {
                        "learn": [
                          1.058359767
                        ],
                        "iteration": 13,
                        "passed_time": 0.03587856239,
                        "remaining_time": 0.9892232201,
                        "test": [
                          1.037237539
                        ]
                      },
                      {
                        "learn": [
                          1.01031002
                        ],
                        "iteration": 14,
                        "passed_time": 0.0378359494,
                        "remaining_time": 0.9711227014,
                        "test": [
                          0.9884935737
                        ]
                      },
                      {
                        "learn": [
                          0.9815448426
                        ],
                        "iteration": 15,
                        "passed_time": 0.04044110938,
                        "remaining_time": 0.9705866252,
                        "test": [
                          0.9610776337
                        ]
                      },
                      {
                        "learn": [
                          0.939469556
                        ],
                        "iteration": 16,
                        "passed_time": 0.04227699391,
                        "remaining_time": 0.9524758039,
                        "test": [
                          0.918722937
                        ]
                      },
                      {
                        "learn": [
                          0.9019799469
                        ],
                        "iteration": 17,
                        "passed_time": 0.04477972322,
                        "remaining_time": 0.9503252372,
                        "test": [
                          0.8804251844
                        ]
                      },
                      {
                        "learn": [
                          0.8601675327
                        ],
                        "iteration": 18,
                        "passed_time": 0.04656498287,
                        "remaining_time": 0.933750446,
                        "test": [
                          0.8386264933
                        ]
                      },
                      {
                        "learn": [
                          0.8264078338
                        ],
                        "iteration": 19,
                        "passed_time": 0.04864403337,
                        "remaining_time": 0.924236634,
                        "test": [
                          0.8066528341
                        ]
                      },
                      {
                        "learn": [
                          0.7968924966
                        ],
                        "iteration": 20,
                        "passed_time": 0.05111585059,
                        "remaining_time": 0.9225193987,
                        "test": [
                          0.7768095706
                        ]
                      },
                      {
                        "learn": [
                          0.7695277002
                        ],
                        "iteration": 21,
                        "passed_time": 0.05406229747,
                        "remaining_time": 0.9288885657,
                        "test": [
                          0.7512430855
                        ]
                      },
                      {
                        "learn": [
                          0.7407318887
                        ],
                        "iteration": 22,
                        "passed_time": 0.05678402524,
                        "remaining_time": 0.9307642399,
                        "test": [
                          0.7247712621
                        ]
                      },
                      {
                        "learn": [
                          0.7148767056
                        ],
                        "iteration": 23,
                        "passed_time": 0.05936328882,
                        "remaining_time": 0.9300248582,
                        "test": [
                          0.6977959523
                        ]
                      },
                      {
                        "learn": [
                          0.6955095812
                        ],
                        "iteration": 24,
                        "passed_time": 0.06167111418,
                        "remaining_time": 0.9250667127,
                        "test": [
                          0.6784219149
                        ]
                      },
                      {
                        "learn": [
                          0.6695792683
                        ],
                        "iteration": 25,
                        "passed_time": 0.06498847014,
                        "remaining_time": 0.9348341474,
                        "test": [
                          0.6531119306
                        ]
                      },
                      {
                        "learn": [
                          0.6426319375
                        ],
                        "iteration": 26,
                        "passed_time": 0.06851018446,
                        "remaining_time": 0.9464555113,
                        "test": [
                          0.6276437526
                        ]
                      },
                      {
                        "learn": [
                          0.6205297836
                        ],
                        "iteration": 27,
                        "passed_time": 0.07085990523,
                        "remaining_time": 0.9414244552,
                        "test": [
                          0.6061944395
                        ]
                      },
                      {
                        "learn": [
                          0.6035988664
                        ],
                        "iteration": 28,
                        "passed_time": 0.07296752996,
                        "remaining_time": 0.9334811592,
                        "test": [
                          0.5895623909
                        ]
                      },
                      {
                        "learn": [
                          0.5832481692
                        ],
                        "iteration": 29,
                        "passed_time": 0.07528108596,
                        "remaining_time": 0.9284667269,
                        "test": [
                          0.5691862369
                        ]
                      },
                      {
                        "learn": [
                          0.5615939739
                        ],
                        "iteration": 30,
                        "passed_time": 0.07776375251,
                        "remaining_time": 0.9256395057,
                        "test": [
                          0.5484272972
                        ]
                      },
                      {
                        "learn": [
                          0.5405576877
                        ],
                        "iteration": 31,
                        "passed_time": 0.07979067423,
                        "remaining_time": 0.9175927537,
                        "test": [
                          0.5279072447
                        ]
                      },
                      {
                        "learn": [
                          0.5239820608
                        ],
                        "iteration": 32,
                        "passed_time": 0.08245041683,
                        "remaining_time": 0.9169485751,
                        "test": [
                          0.5112380141
                        ]
                      },
                      {
                        "learn": [
                          0.5078939145
                        ],
                        "iteration": 33,
                        "passed_time": 0.08454153858,
                        "remaining_time": 0.9100647977,
                        "test": [
                          0.4941486262
                        ]
                      },
                      {
                        "learn": [
                          0.493393473
                        ],
                        "iteration": 34,
                        "passed_time": 0.08714181187,
                        "remaining_time": 0.9087646095,
                        "test": [
                          0.4783747239
                        ]
                      },
                      {
                        "learn": [
                          0.4808106508
                        ],
                        "iteration": 35,
                        "passed_time": 0.0888093298,
                        "remaining_time": 0.8979610013,
                        "test": [
                          0.4662715026
                        ]
                      },
                      {
                        "learn": [
                          0.4648207174
                        ],
                        "iteration": 36,
                        "passed_time": 0.09125472465,
                        "remaining_time": 0.8952828391,
                        "test": [
                          0.4501861403
                        ]
                      },
                      {
                        "learn": [
                          0.4500335626
                        ],
                        "iteration": 37,
                        "passed_time": 0.0931242771,
                        "remaining_time": 0.8871312713,
                        "test": [
                          0.4356299994
                        ]
                      },
                      {
                        "learn": [
                          0.4364150795
                        ],
                        "iteration": 38,
                        "passed_time": 0.0958035005,
                        "remaining_time": 0.8867965046,
                        "test": [
                          0.4219644504
                        ]
                      },
                      {
                        "learn": [
                          0.4228185837
                        ],
                        "iteration": 39,
                        "passed_time": 0.09766121267,
                        "remaining_time": 0.8789509141,
                        "test": [
                          0.4089303119
                        ]
                      },
                      {
                        "learn": [
                          0.40895207
                        ],
                        "iteration": 40,
                        "passed_time": 0.1003444428,
                        "remaining_time": 0.8786257311,
                        "test": [
                          0.3950612029
                        ]
                      },
                      {
                        "learn": [
                          0.3963552177
                        ],
                        "iteration": 41,
                        "passed_time": 0.1028416685,
                        "remaining_time": 0.8766027932,
                        "test": [
                          0.3832283216
                        ]
                      },
                      {
                        "learn": [
                          0.3834717749
                        ],
                        "iteration": 42,
                        "passed_time": 0.1049262416,
                        "remaining_time": 0.87113182,
                        "test": [
                          0.3704653513
                        ]
                      },
                      {
                        "learn": [
                          0.3733577651
                        ],
                        "iteration": 43,
                        "passed_time": 0.1074103451,
                        "remaining_time": 0.8690473375,
                        "test": [
                          0.3598201766
                        ]
                      },
                      {
                        "learn": [
                          0.3629401294
                        ],
                        "iteration": 44,
                        "passed_time": 0.1091135218,
                        "remaining_time": 0.8607844499,
                        "test": [
                          0.3500765327
                        ]
                      },
                      {
                        "learn": [
                          0.3525231909
                        ],
                        "iteration": 45,
                        "passed_time": 0.1114425509,
                        "remaining_time": 0.8576231088,
                        "test": [
                          0.3404280881
                        ]
                      },
                      {
                        "learn": [
                          0.3410291265
                        ],
                        "iteration": 46,
                        "passed_time": 0.1134919142,
                        "remaining_time": 0.8523967173,
                        "test": [
                          0.3290942607
                        ]
                      },
                      {
                        "learn": [
                          0.3318084161
                        ],
                        "iteration": 47,
                        "passed_time": 0.1157378114,
                        "remaining_time": 0.8487439501,
                        "test": [
                          0.3199704919
                        ]
                      },
                      {
                        "learn": [
                          0.3213750014
                        ],
                        "iteration": 48,
                        "passed_time": 0.1175051041,
                        "remaining_time": 0.8417202358,
                        "test": [
                          0.309636703
                        ]
                      },
                      {
                        "learn": [
                          0.3127009404
                        ],
                        "iteration": 49,
                        "passed_time": 0.1202224912,
                        "remaining_time": 0.8415574383,
                        "test": [
                          0.3006565843
                        ]
                      },
                      {
                        "learn": [
                          0.3046724321
                        ],
                        "iteration": 50,
                        "passed_time": 0.1219160455,
                        "remaining_time": 0.834288233,
                        "test": [
                          0.2926605492
                        ]
                      },
                      {
                        "learn": [
                          0.296600752
                        ],
                        "iteration": 51,
                        "passed_time": 0.1244914043,
                        "remaining_time": 0.8331347828,
                        "test": [
                          0.2846507961
                        ]
                      },
                      {
                        "learn": [
                          0.2897266975
                        ],
                        "iteration": 52,
                        "passed_time": 0.126648165,
                        "remaining_time": 0.8291870427,
                        "test": [
                          0.2779161037
                        ]
                      },
                      {
                        "learn": [
                          0.2816311092
                        ],
                        "iteration": 53,
                        "passed_time": 0.12917221,
                        "remaining_time": 0.8276589753,
                        "test": [
                          0.2702855218
                        ]
                      },
                      {
                        "learn": [
                          0.2732792529
                        ],
                        "iteration": 54,
                        "passed_time": 0.131000225,
                        "remaining_time": 0.8217286843,
                        "test": [
                          0.2618273079
                        ]
                      },
                      {
                        "learn": [
                          0.2655674669
                        ],
                        "iteration": 55,
                        "passed_time": 0.1338050627,
                        "remaining_time": 0.8219453849,
                        "test": [
                          0.2540104903
                        ]
                      },
                      {
                        "learn": [
                          0.2596448587
                        ],
                        "iteration": 56,
                        "passed_time": 0.1358164643,
                        "remaining_time": 0.817281531,
                        "test": [
                          0.2477190613
                        ]
                      },
                      {
                        "learn": [
                          0.2539097087
                        ],
                        "iteration": 57,
                        "passed_time": 0.1385765247,
                        "remaining_time": 0.8171236459,
                        "test": [
                          0.2423329679
                        ]
                      },
                      {
                        "learn": [
                          0.2475564915
                        ],
                        "iteration": 58,
                        "passed_time": 0.1407456027,
                        "remaining_time": 0.8134618731,
                        "test": [
                          0.2357361009
                        ]
                      },
                      {
                        "learn": [
                          0.2411796955
                        ],
                        "iteration": 59,
                        "passed_time": 0.1431709608,
                        "remaining_time": 0.811302111,
                        "test": [
                          0.2296937338
                        ]
                      },
                      {
                        "learn": [
                          0.2350860946
                        ],
                        "iteration": 60,
                        "passed_time": 0.1457778306,
                        "remaining_time": 0.8101423703,
                        "test": [
                          0.2238448556
                        ]
                      },
                      {
                        "learn": [
                          0.2293125499
                        ],
                        "iteration": 61,
                        "passed_time": 0.1475474093,
                        "remaining_time": 0.8043713602,
                        "test": [
                          0.2183956042
                        ]
                      },
                      {
                        "learn": [
                          0.2246088529
                        ],
                        "iteration": 62,
                        "passed_time": 0.1502018072,
                        "remaining_time": 0.8034604607,
                        "test": [
                          0.2131878671
                        ]
                      },
                      {
                        "learn": [
                          0.2189055038
                        ],
                        "iteration": 63,
                        "passed_time": 0.1523017914,
                        "remaining_time": 0.7995844049,
                        "test": [
                          0.2077282897
                        ]
                      },
                      {
                        "learn": [
                          0.2141980706
                        ],
                        "iteration": 64,
                        "passed_time": 0.1542003821,
                        "remaining_time": 0.794725046,
                        "test": [
                          0.2032114063
                        ]
                      },
                      {
                        "learn": [
                          0.2089929236
                        ],
                        "iteration": 65,
                        "passed_time": 0.1589040493,
                        "remaining_time": 0.8041507951,
                        "test": [
                          0.197861485
                        ]
                      },
                      {
                        "learn": [
                          0.2031119744
                        ],
                        "iteration": 66,
                        "passed_time": 0.1617014064,
                        "remaining_time": 0.8036801245,
                        "test": [
                          0.1916924127
                        ]
                      },
                      {
                        "learn": [
                          0.198592535
                        ],
                        "iteration": 67,
                        "passed_time": 0.1642868156,
                        "remaining_time": 0.8021062174,
                        "test": [
                          0.1868586261
                        ]
                      },
                      {
                        "learn": [
                          0.1932857649
                        ],
                        "iteration": 68,
                        "passed_time": 0.1664147721,
                        "remaining_time": 0.7983085444,
                        "test": [
                          0.1817533659
                        ]
                      },
                      {
                        "learn": [
                          0.1884326026
                        ],
                        "iteration": 69,
                        "passed_time": 0.1690844871,
                        "remaining_time": 0.797112582,
                        "test": [
                          0.1768326305
                        ]
                      },
                      {
                        "learn": [
                          0.1841742422
                        ],
                        "iteration": 70,
                        "passed_time": 0.1711036583,
                        "remaining_time": 0.7928606137,
                        "test": [
                          0.1727877775
                        ]
                      },
                      {
                        "learn": [
                          0.1794325161
                        ],
                        "iteration": 71,
                        "passed_time": 0.1737275261,
                        "remaining_time": 0.7914253967,
                        "test": [
                          0.1679951637
                        ]
                      },
                      {
                        "learn": [
                          0.1749734171
                        ],
                        "iteration": 72,
                        "passed_time": 0.17618834,
                        "remaining_time": 0.7892272217,
                        "test": [
                          0.1635141204
                        ]
                      },
                      {
                        "learn": [
                          0.1711472875
                        ],
                        "iteration": 73,
                        "passed_time": 0.1783878581,
                        "remaining_time": 0.7858708341,
                        "test": [
                          0.1598827372
                        ]
                      },
                      {
                        "learn": [
                          0.1674133049
                        ],
                        "iteration": 74,
                        "passed_time": 0.1811954125,
                        "remaining_time": 0.7851801209,
                        "test": [
                          0.1565106095
                        ]
                      },
                      {
                        "learn": [
                          0.163525374
                        ],
                        "iteration": 75,
                        "passed_time": 0.1828515882,
                        "remaining_time": 0.7795251916,
                        "test": [
                          0.1526590513
                        ]
                      },
                      {
                        "learn": [
                          0.1600423409
                        ],
                        "iteration": 76,
                        "passed_time": 0.1854952768,
                        "remaining_time": 0.7781165505,
                        "test": [
                          0.1490341049
                        ]
                      },
                      {
                        "learn": [
                          0.1565583727
                        ],
                        "iteration": 77,
                        "passed_time": 0.1879086786,
                        "remaining_time": 0.7757255706,
                        "test": [
                          0.1457928694
                        ]
                      },
                      {
                        "learn": [
                          0.1537150987
                        ],
                        "iteration": 78,
                        "passed_time": 0.1897823678,
                        "remaining_time": 0.7711410133,
                        "test": [
                          0.1427599148
                        ]
                      },
                      {
                        "learn": [
                          0.1508972849
                        ],
                        "iteration": 79,
                        "passed_time": 0.1925995296,
                        "remaining_time": 0.7703981186,
                        "test": [
                          0.1397132378
                        ]
                      },
                      {
                        "learn": [
                          0.1481248829
                        ],
                        "iteration": 80,
                        "passed_time": 0.1943525163,
                        "remaining_time": 0.7654129963,
                        "test": [
                          0.1371056308
                        ]
                      },
                      {
                        "learn": [
                          0.1452281424
                        ],
                        "iteration": 81,
                        "passed_time": 0.1972345812,
                        "remaining_time": 0.7648853269,
                        "test": [
                          0.1341196421
                        ]
                      },
                      {
                        "learn": [
                          0.1426703723
                        ],
                        "iteration": 82,
                        "passed_time": 0.2011739407,
                        "remaining_time": 0.7683390264,
                        "test": [
                          0.1315370951
                        ]
                      },
                      {
                        "learn": [
                          0.1395734616
                        ],
                        "iteration": 83,
                        "passed_time": 0.2054141356,
                        "remaining_time": 0.7727484148,
                        "test": [
                          0.1282208422
                        ]
                      },
                      {
                        "learn": [
                          0.1366954814
                        ],
                        "iteration": 84,
                        "passed_time": 0.2080392723,
                        "remaining_time": 0.7709690681,
                        "test": [
                          0.1254064159
                        ]
                      },
                      {
                        "learn": [
                          0.1341563397
                        ],
                        "iteration": 85,
                        "passed_time": 0.21013182,
                        "remaining_time": 0.7672254823,
                        "test": [
                          0.1228883868
                        ]
                      },
                      {
                        "learn": [
                          0.1314971586
                        ],
                        "iteration": 86,
                        "passed_time": 0.212671114,
                        "remaining_time": 0.7651271114,
                        "test": [
                          0.1203760429
                        ]
                      },
                      {
                        "learn": [
                          0.1291979935
                        ],
                        "iteration": 87,
                        "passed_time": 0.2161607694,
                        "remaining_time": 0.7663881822,
                        "test": [
                          0.1178810532
                        ]
                      },
                      {
                        "learn": [
                          0.1263146375
                        ],
                        "iteration": 88,
                        "passed_time": 0.219013437,
                        "remaining_time": 0.765316617,
                        "test": [
                          0.1150716344
                        ]
                      },
                      {
                        "learn": [
                          0.1238997399
                        ],
                        "iteration": 89,
                        "passed_time": 0.2245884454,
                        "remaining_time": 0.7735824232,
                        "test": [
                          0.1127805728
                        ]
                      },
                      {
                        "learn": [
                          0.1209579545
                        ],
                        "iteration": 90,
                        "passed_time": 0.2317104342,
                        "remaining_time": 0.786796969,
                        "test": [
                          0.10990126
                        ]
                      },
                      {
                        "learn": [
                          0.1180776194
                        ],
                        "iteration": 91,
                        "passed_time": 0.2345563483,
                        "remaining_time": 0.7852538618,
                        "test": [
                          0.1071602712
                        ]
                      },
                      {
                        "learn": [
                          0.1156083252
                        ],
                        "iteration": 92,
                        "passed_time": 0.2413177624,
                        "remaining_time": 0.7966080975,
                        "test": [
                          0.1048561791
                        ]
                      },
                      {
                        "learn": [
                          0.1134416356
                        ],
                        "iteration": 93,
                        "passed_time": 0.2482524568,
                        "remaining_time": 0.8081409764,
                        "test": [
                          0.1028896019
                        ]
                      },
                      {
                        "learn": [
                          0.111295357
                        ],
                        "iteration": 94,
                        "passed_time": 0.2528806737,
                        "remaining_time": 0.8118800578,
                        "test": [
                          0.1008369991
                        ]
                      },
                      {
                        "learn": [
                          0.10918692
                        ],
                        "iteration": 95,
                        "passed_time": 0.2602310074,
                        "remaining_time": 0.8240648568,
                        "test": [
                          0.09873186387
                        ]
                      },
                      {
                        "learn": [
                          0.1068779968
                        ],
                        "iteration": 96,
                        "passed_time": 0.2627651318,
                        "remaining_time": 0.820802422,
                        "test": [
                          0.09655853932
                        ]
                      },
                      {
                        "learn": [
                          0.1053270701
                        ],
                        "iteration": 97,
                        "passed_time": 0.2700968806,
                        "remaining_time": 0.8323393668,
                        "test": [
                          0.0948709014
                        ]
                      },
                      {
                        "learn": [
                          0.1030440761
                        ],
                        "iteration": 98,
                        "passed_time": 0.2730935734,
                        "remaining_time": 0.830314804,
                        "test": [
                          0.09263901538
                        ]
                      },
                      {
                        "learn": [
                          0.100949304
                        ],
                        "iteration": 99,
                        "passed_time": 0.2806058611,
                        "remaining_time": 0.8418175832,
                        "test": [
                          0.09060782131
                        ]
                      },
                      {
                        "learn": [
                          0.0992346884
                        ],
                        "iteration": 100,
                        "passed_time": 0.2832997196,
                        "remaining_time": 0.8386793678,
                        "test": [
                          0.08874476254
                        ]
                      },
                      {
                        "learn": [
                          0.097379311
                        ],
                        "iteration": 101,
                        "passed_time": 0.2904129969,
                        "remaining_time": 0.8484615008,
                        "test": [
                          0.08684057775
                        ]
                      },
                      {
                        "learn": [
                          0.09564917822
                        ],
                        "iteration": 102,
                        "passed_time": 0.2964521396,
                        "remaining_time": 0.8548183055,
                        "test": [
                          0.0851962932
                        ]
                      },
                      {
                        "learn": [
                          0.09397380795
                        ],
                        "iteration": 103,
                        "passed_time": 0.2993292178,
                        "remaining_time": 0.8519370045,
                        "test": [
                          0.08364410554
                        ]
                      },
                      {
                        "learn": [
                          0.0921432456
                        ],
                        "iteration": 104,
                        "passed_time": 0.3060749229,
                        "remaining_time": 0.8599247833,
                        "test": [
                          0.08184070346
                        ]
                      },
                      {
                        "learn": [
                          0.09056422518
                        ],
                        "iteration": 105,
                        "passed_time": 0.3100305494,
                        "remaining_time": 0.859896052,
                        "test": [
                          0.08033300203
                        ]
                      },
                      {
                        "learn": [
                          0.08880114565
                        ],
                        "iteration": 106,
                        "passed_time": 0.3163957909,
                        "remaining_time": 0.8663922126,
                        "test": [
                          0.07868039742
                        ]
                      },
                      {
                        "learn": [
                          0.08744253268
                        ],
                        "iteration": 107,
                        "passed_time": 0.3238352241,
                        "remaining_time": 0.8755544948,
                        "test": [
                          0.07737602066
                        ]
                      },
                      {
                        "learn": [
                          0.08634443583
                        ],
                        "iteration": 108,
                        "passed_time": 0.3265184453,
                        "remaining_time": 0.8717143814,
                        "test": [
                          0.0761816636
                        ]
                      },
                      {
                        "learn": [
                          0.08462566344
                        ],
                        "iteration": 109,
                        "passed_time": 0.3345952591,
                        "remaining_time": 0.8821147739,
                        "test": [
                          0.07454091433
                        ]
                      },
                      {
                        "learn": [
                          0.08302611063
                        ],
                        "iteration": 110,
                        "passed_time": 0.3373869575,
                        "remaining_time": 0.8784218984,
                        "test": [
                          0.07287586279
                        ]
                      },
                      {
                        "learn": [
                          0.08152247497
                        ],
                        "iteration": 111,
                        "passed_time": 0.3440834816,
                        "remaining_time": 0.8847860955,
                        "test": [
                          0.07152744935
                        ]
                      },
                      {
                        "learn": [
                          0.08016762111
                        ],
                        "iteration": 112,
                        "passed_time": 0.3468937299,
                        "remaining_time": 0.8810486768,
                        "test": [
                          0.0702973378
                        ]
                      },
                      {
                        "learn": [
                          0.07916713253
                        ],
                        "iteration": 113,
                        "passed_time": 0.3541632666,
                        "remaining_time": 0.8885148618,
                        "test": [
                          0.06929441453
                        ]
                      },
                      {
                        "learn": [
                          0.07792869367
                        ],
                        "iteration": 114,
                        "passed_time": 0.3606290669,
                        "remaining_time": 0.893732905,
                        "test": [
                          0.06815769541
                        ]
                      },
                      {
                        "learn": [
                          0.07656624381
                        ],
                        "iteration": 115,
                        "passed_time": 0.3661040595,
                        "remaining_time": 0.896323732,
                        "test": [
                          0.0669103921
                        ]
                      },
                      {
                        "learn": [
                          0.07551926081
                        ],
                        "iteration": 116,
                        "passed_time": 0.3707668493,
                        "remaining_time": 0.8968121227,
                        "test": [
                          0.06590602304
                        ]
                      },
                      {
                        "learn": [
                          0.07444874751
                        ],
                        "iteration": 117,
                        "passed_time": 0.3738319239,
                        "remaining_time": 0.8933949367,
                        "test": [
                          0.06496048612
                        ]
                      },
                      {
                        "learn": [
                          0.07346845978
                        ],
                        "iteration": 118,
                        "passed_time": 0.3813545849,
                        "remaining_time": 0.9005095661,
                        "test": [
                          0.06390590276
                        ]
                      },
                      {
                        "learn": [
                          0.0724735462
                        ],
                        "iteration": 119,
                        "passed_time": 0.384264873,
                        "remaining_time": 0.8966180371,
                        "test": [
                          0.06295104839
                        ]
                      },
                      {
                        "learn": [
                          0.07158336568
                        ],
                        "iteration": 120,
                        "passed_time": 0.3932708224,
                        "remaining_time": 0.9067980119,
                        "test": [
                          0.06198654616
                        ]
                      },
                      {
                        "learn": [
                          0.07043989637
                        ],
                        "iteration": 121,
                        "passed_time": 0.3963440434,
                        "remaining_time": 0.9031446236,
                        "test": [
                          0.06091448013
                        ]
                      },
                      {
                        "learn": [
                          0.06928202836
                        ],
                        "iteration": 122,
                        "passed_time": 0.4039276007,
                        "remaining_time": 0.9096580926,
                        "test": [
                          0.0598789128
                        ]
                      },
                      {
                        "learn": [
                          0.0682159882
                        ],
                        "iteration": 123,
                        "passed_time": 0.4103661397,
                        "remaining_time": 0.9133956014,
                        "test": [
                          0.05890963633
                        ]
                      },
                      {
                        "learn": [
                          0.06700523474
                        ],
                        "iteration": 124,
                        "passed_time": 0.4124956331,
                        "remaining_time": 0.9074903929,
                        "test": [
                          0.05768533372
                        ]
                      },
                      {
                        "learn": [
                          0.06621490291
                        ],
                        "iteration": 125,
                        "passed_time": 0.4145402587,
                        "remaining_time": 0.9014605627,
                        "test": [
                          0.05688920891
                        ]
                      },
                      {
                        "learn": [
                          0.06492082736
                        ],
                        "iteration": 126,
                        "passed_time": 0.418272859,
                        "remaining_time": 0.8991219726,
                        "test": [
                          0.05578692971
                        ]
                      },
                      {
                        "learn": [
                          0.06388105673
                        ],
                        "iteration": 127,
                        "passed_time": 0.4210818424,
                        "remaining_time": 0.8947989151,
                        "test": [
                          0.05482641652
                        ]
                      },
                      {
                        "learn": [
                          0.0630908736
                        ],
                        "iteration": 128,
                        "passed_time": 0.42856277,
                        "remaining_time": 0.9003140363,
                        "test": [
                          0.05403051366
                        ]
                      },
                      {
                        "learn": [
                          0.06229937654
                        ],
                        "iteration": 129,
                        "passed_time": 0.4314506915,
                        "remaining_time": 0.8960898978,
                        "test": [
                          0.05322032414
                        ]
                      },
                      {
                        "learn": [
                          0.06159356862
                        ],
                        "iteration": 130,
                        "passed_time": 0.4377959763,
                        "remaining_time": 0.8989856308,
                        "test": [
                          0.05256754983
                        ]
                      },
                      {
                        "learn": [
                          0.06056671584
                        ],
                        "iteration": 131,
                        "passed_time": 0.4406408695,
                        "remaining_time": 0.8946344926,
                        "test": [
                          0.05145772912
                        ]
                      },
                      {
                        "learn": [
                          0.05950522566
                        ],
                        "iteration": 132,
                        "passed_time": 0.448026295,
                        "remaining_time": 0.8994212088,
                        "test": [
                          0.05034407024
                        ]
                      },
                      {
                        "learn": [
                          0.05876386439
                        ],
                        "iteration": 133,
                        "passed_time": 0.4552080791,
                        "remaining_time": 0.9036220078,
                        "test": [
                          0.04952651045
                        ]
                      },
                      {
                        "learn": [
                          0.05793834667
                        ],
                        "iteration": 134,
                        "passed_time": 0.4598846821,
                        "remaining_time": 0.9027365981,
                        "test": [
                          0.04877911487
                        ]
                      },
                      {
                        "learn": [
                          0.05704066128
                        ],
                        "iteration": 135,
                        "passed_time": 0.4637656072,
                        "remaining_time": 0.9002508845,
                        "test": [
                          0.04798276478
                        ]
                      },
                      {
                        "learn": [
                          0.05628194626
                        ],
                        "iteration": 136,
                        "passed_time": 0.4716385246,
                        "remaining_time": 0.9054082625,
                        "test": [
                          0.04717638748
                        ]
                      },
                      {
                        "learn": [
                          0.05552817015
                        ],
                        "iteration": 137,
                        "passed_time": 0.4758089308,
                        "remaining_time": 0.9033473904,
                        "test": [
                          0.04639842778
                        ]
                      },
                      {
                        "learn": [
                          0.0546765295
                        ],
                        "iteration": 138,
                        "passed_time": 0.4819961334,
                        "remaining_time": 0.9050430994,
                        "test": [
                          0.04558886975
                        ]
                      },
                      {
                        "learn": [
                          0.05388469778
                        ],
                        "iteration": 139,
                        "passed_time": 0.4848243376,
                        "remaining_time": 0.9003880555,
                        "test": [
                          0.04482699087
                        ]
                      },
                      {
                        "learn": [
                          0.05331403933
                        ],
                        "iteration": 140,
                        "passed_time": 0.491514687,
                        "remaining_time": 0.9028532195,
                        "test": [
                          0.04417190215
                        ]
                      },
                      {
                        "learn": [
                          0.05252545036
                        ],
                        "iteration": 141,
                        "passed_time": 0.4942348809,
                        "remaining_time": 0.8979760512,
                        "test": [
                          0.04345026695
                        ]
                      },
                      {
                        "learn": [
                          0.05207578196
                        ],
                        "iteration": 142,
                        "passed_time": 0.501061155,
                        "remaining_time": 0.9005085093,
                        "test": [
                          0.04302129596
                        ]
                      },
                      {
                        "learn": [
                          0.05126537952
                        ],
                        "iteration": 143,
                        "passed_time": 0.5082431841,
                        "remaining_time": 0.9035434384,
                        "test": [
                          0.04218887272
                        ]
                      },
                      {
                        "learn": [
                          0.05060652501
                        ],
                        "iteration": 144,
                        "passed_time": 0.5109161459,
                        "remaining_time": 0.8985077048,
                        "test": [
                          0.04156608234
                        ]
                      },
                      {
                        "learn": [
                          0.05000679642
                        ],
                        "iteration": 145,
                        "passed_time": 0.5177268819,
                        "remaining_time": 0.9007029315,
                        "test": [
                          0.04106439942
                        ]
                      },
                      {
                        "learn": [
                          0.04944298513
                        ],
                        "iteration": 146,
                        "passed_time": 0.5203345617,
                        "remaining_time": 0.8955417967,
                        "test": [
                          0.04053297319
                        ]
                      },
                      {
                        "learn": [
                          0.04899211904
                        ],
                        "iteration": 147,
                        "passed_time": 0.5268328521,
                        "remaining_time": 0.8970397211,
                        "test": [
                          0.04011814696
                        ]
                      },
                      {
                        "learn": [
                          0.04820901425
                        ],
                        "iteration": 148,
                        "passed_time": 0.5295562817,
                        "remaining_time": 0.8920713202,
                        "test": [
                          0.0395188586
                        ]
                      },
                      {
                        "learn": [
                          0.04773946918
                        ],
                        "iteration": 149,
                        "passed_time": 0.5364594101,
                        "remaining_time": 0.8940990168,
                        "test": [
                          0.03900480731
                        ]
                      },
                      {
                        "learn": [
                          0.04732197551
                        ],
                        "iteration": 150,
                        "passed_time": 0.5401636841,
                        "remaining_time": 0.8907334923,
                        "test": [
                          0.03861043234
                        ]
                      },
                      {
                        "learn": [
                          0.04676150722
                        ],
                        "iteration": 151,
                        "passed_time": 0.5459882851,
                        "remaining_time": 0.8908229915,
                        "test": [
                          0.03810920801
                        ]
                      },
                      {
                        "learn": [
                          0.04642759975
                        ],
                        "iteration": 152,
                        "passed_time": 0.5530563582,
                        "remaining_time": 0.8928426175,
                        "test": [
                          0.03787251136
                        ]
                      },
                      {
                        "learn": [
                          0.04592155389
                        ],
                        "iteration": 153,
                        "passed_time": 0.5575497805,
                        "remaining_time": 0.8906314675,
                        "test": [
                          0.03731997379
                        ]
                      },
                      {
                        "learn": [
                          0.04524929576
                        ],
                        "iteration": 154,
                        "passed_time": 0.5601769181,
                        "remaining_time": 0.8854409351,
                        "test": [
                          0.0366046154
                        ]
                      },
                      {
                        "learn": [
                          0.0447871628
                        ],
                        "iteration": 155,
                        "passed_time": 0.5674381833,
                        "remaining_time": 0.8875315175,
                        "test": [
                          0.03611280018
                        ]
                      },
                      {
                        "learn": [
                          0.04406456583
                        ],
                        "iteration": 156,
                        "passed_time": 0.5701312988,
                        "remaining_time": 0.8824325199,
                        "test": [
                          0.03551452481
                        ]
                      },
                      {
                        "learn": [
                          0.04363814678
                        ],
                        "iteration": 157,
                        "passed_time": 0.5772883105,
                        "remaining_time": 0.8842010831,
                        "test": [
                          0.03502694907
                        ]
                      },
                      {
                        "learn": [
                          0.04317507204
                        ],
                        "iteration": 158,
                        "passed_time": 0.5888390065,
                        "remaining_time": 0.8925169848,
                        "test": [
                          0.03466841306
                        ]
                      },
                      {
                        "learn": [
                          0.04253312267
                        ],
                        "iteration": 159,
                        "passed_time": 0.5944099392,
                        "remaining_time": 0.8916149088,
                        "test": [
                          0.03410442559
                        ]
                      },
                      {
                        "learn": [
                          0.04213887899
                        ],
                        "iteration": 160,
                        "passed_time": 0.5970047638,
                        "remaining_time": 0.8862368854,
                        "test": [
                          0.03368135203
                        ]
                      },
                      {
                        "learn": [
                          0.04163349343
                        ],
                        "iteration": 161,
                        "passed_time": 0.6023280528,
                        "remaining_time": 0.8849017072,
                        "test": [
                          0.03319821202
                        ]
                      },
                      {
                        "learn": [
                          0.04124397709
                        ],
                        "iteration": 162,
                        "passed_time": 0.6100803276,
                        "remaining_time": 0.8870493107,
                        "test": [
                          0.03281630738
                        ]
                      },
                      {
                        "learn": [
                          0.04080554029
                        ],
                        "iteration": 163,
                        "passed_time": 0.6127628688,
                        "remaining_time": 0.8817807137,
                        "test": [
                          0.03241805275
                        ]
                      },
                      {
                        "learn": [
                          0.04029610051
                        ],
                        "iteration": 164,
                        "passed_time": 0.6222061752,
                        "remaining_time": 0.8861724313,
                        "test": [
                          0.03192625497
                        ]
                      },
                      {
                        "learn": [
                          0.03979198772
                        ],
                        "iteration": 165,
                        "passed_time": 0.624668577,
                        "remaining_time": 0.8805569097,
                        "test": [
                          0.03147049662
                        ]
                      },
                      {
                        "learn": [
                          0.03924303372
                        ],
                        "iteration": 166,
                        "passed_time": 0.6316331965,
                        "remaining_time": 0.8812606873,
                        "test": [
                          0.03097520248
                        ]
                      },
                      {
                        "learn": [
                          0.03884903008
                        ],
                        "iteration": 167,
                        "passed_time": 0.6341579754,
                        "remaining_time": 0.8757419661,
                        "test": [
                          0.03053975292
                        ]
                      },
                      {
                        "learn": [
                          0.03845229367
                        ],
                        "iteration": 168,
                        "passed_time": 0.6408457371,
                        "remaining_time": 0.8759489069,
                        "test": [
                          0.03023958251
                        ]
                      },
                      {
                        "learn": [
                          0.03811355726
                        ],
                        "iteration": 169,
                        "passed_time": 0.6445339891,
                        "remaining_time": 0.8720165735,
                        "test": [
                          0.02990436235
                        ]
                      },
                      {
                        "learn": [
                          0.03764463248
                        ],
                        "iteration": 170,
                        "passed_time": 0.6507875536,
                        "remaining_time": 0.8715225133,
                        "test": [
                          0.02939417905
                        ]
                      },
                      {
                        "learn": [
                          0.03726412883
                        ],
                        "iteration": 171,
                        "passed_time": 0.6566804403,
                        "remaining_time": 0.8704833744,
                        "test": [
                          0.02909713341
                        ]
                      },
                      {
                        "learn": [
                          0.0369191671
                        ],
                        "iteration": 172,
                        "passed_time": 0.6591435371,
                        "remaining_time": 0.8648877626,
                        "test": [
                          0.02881294917
                        ]
                      },
                      {
                        "learn": [
                          0.03655852675
                        ],
                        "iteration": 173,
                        "passed_time": 0.6658086351,
                        "remaining_time": 0.8647859284,
                        "test": [
                          0.02841888404
                        ]
                      },
                      {
                        "learn": [
                          0.03614793694
                        ],
                        "iteration": 174,
                        "passed_time": 0.6684140471,
                        "remaining_time": 0.8593894891,
                        "test": [
                          0.02804457664
                        ]
                      },
                      {
                        "learn": [
                          0.03576450846
                        ],
                        "iteration": 175,
                        "passed_time": 0.6752778929,
                        "remaining_time": 0.8594445909,
                        "test": [
                          0.02768411554
                        ]
                      },
                      {
                        "learn": [
                          0.03548032477
                        ],
                        "iteration": 176,
                        "passed_time": 0.6777712977,
                        "remaining_time": 0.8539152508,
                        "test": [
                          0.02737321975
                        ]
                      },
                      {
                        "learn": [
                          0.03514476671
                        ],
                        "iteration": 177,
                        "passed_time": 0.6845960529,
                        "remaining_time": 0.8538220435,
                        "test": [
                          0.02711648875
                        ]
                      },
                      {
                        "learn": [
                          0.03477365576
                        ],
                        "iteration": 178,
                        "passed_time": 0.691584321,
                        "remaining_time": 0.8538555024,
                        "test": [
                          0.02677801404
                        ]
                      },
                      {
                        "learn": [
                          0.03434638514
                        ],
                        "iteration": 179,
                        "passed_time": 0.6941603667,
                        "remaining_time": 0.848418226,
                        "test": [
                          0.02636514948
                        ]
                      },
                      {
                        "learn": [
                          0.03407662917
                        ],
                        "iteration": 180,
                        "passed_time": 0.7012055733,
                        "remaining_time": 0.848420003,
                        "test": [
                          0.02610595233
                        ]
                      },
                      {
                        "learn": [
                          0.03370943516
                        ],
                        "iteration": 181,
                        "passed_time": 0.7036075748,
                        "remaining_time": 0.8427826995,
                        "test": [
                          0.02580980947
                        ]
                      },
                      {
                        "learn": [
                          0.03335643999
                        ],
                        "iteration": 182,
                        "passed_time": 0.7101505764,
                        "remaining_time": 0.8420911207,
                        "test": [
                          0.02548875357
                        ]
                      },
                      {
                        "learn": [
                          0.03307104261
                        ],
                        "iteration": 183,
                        "passed_time": 0.7127506197,
                        "remaining_time": 0.8367072492,
                        "test": [
                          0.02528579329
                        ]
                      },
                      {
                        "learn": [
                          0.03276250487
                        ],
                        "iteration": 184,
                        "passed_time": 0.7193128171,
                        "remaining_time": 0.8359581388,
                        "test": [
                          0.02494355829
                        ]
                      },
                      {
                        "learn": [
                          0.03246326489
                        ],
                        "iteration": 185,
                        "passed_time": 0.721983862,
                        "remaining_time": 0.8306696047,
                        "test": [
                          0.02461331233
                        ]
                      },
                      {
                        "learn": [
                          0.03216341688
                        ],
                        "iteration": 186,
                        "passed_time": 0.7285349581,
                        "remaining_time": 0.8298285886,
                        "test": [
                          0.02427000515
                        ]
                      },
                      {
                        "learn": [
                          0.03184184707
                        ],
                        "iteration": 187,
                        "passed_time": 0.7324431405,
                        "remaining_time": 0.8259465202,
                        "test": [
                          0.02398171556
                        ]
                      },
                      {
                        "learn": [
                          0.03156702235
                        ],
                        "iteration": 188,
                        "passed_time": 0.7383859352,
                        "remaining_time": 0.8243356208,
                        "test": [
                          0.0237183709
                        ]
                      },
                      {
                        "learn": [
                          0.03130289973
                        ],
                        "iteration": 189,
                        "passed_time": 0.7410685814,
                        "remaining_time": 0.8190758005,
                        "test": [
                          0.02342527177
                        ]
                      },
                      {
                        "learn": [
                          0.0310375742
                        ],
                        "iteration": 190,
                        "passed_time": 0.748516944,
                        "remaining_time": 0.8190578079,
                        "test": [
                          0.02317052603
                        ]
                      },
                      {
                        "learn": [
                          0.03073707261
                        ],
                        "iteration": 191,
                        "passed_time": 0.7523699139,
                        "remaining_time": 0.8150674067,
                        "test": [
                          0.02289385492
                        ]
                      },
                      {
                        "learn": [
                          0.0305191743
                        ],
                        "iteration": 192,
                        "passed_time": 0.758807381,
                        "remaining_time": 0.8138504034,
                        "test": [
                          0.02264185427
                        ]
                      },
                      {
                        "learn": [
                          0.0302727757
                        ],
                        "iteration": 193,
                        "passed_time": 0.7648623447,
                        "remaining_time": 0.8121734176,
                        "test": [
                          0.02240477871
                        ]
                      },
                      {
                        "learn": [
                          0.03003277148
                        ],
                        "iteration": 194,
                        "passed_time": 0.7675071703,
                        "remaining_time": 0.8068665123,
                        "test": [
                          0.02214045024
                        ]
                      },
                      {
                        "learn": [
                          0.02977449631
                        ],
                        "iteration": 195,
                        "passed_time": 0.7744833171,
                        "remaining_time": 0.806094881,
                        "test": [
                          0.02193122676
                        ]
                      },
                      {
                        "learn": [
                          0.02953853102
                        ],
                        "iteration": 196,
                        "passed_time": 0.7803402971,
                        "remaining_time": 0.8041070066,
                        "test": [
                          0.02170598784
                        ]
                      },
                      {
                        "learn": [
                          0.02927779243
                        ],
                        "iteration": 197,
                        "passed_time": 0.7839917274,
                        "remaining_time": 0.7998299441,
                        "test": [
                          0.02152053898
                        ]
                      },
                      {
                        "learn": [
                          0.02899130737
                        ],
                        "iteration": 198,
                        "passed_time": 0.7901393784,
                        "remaining_time": 0.7980804777,
                        "test": [
                          0.02121231353
                        ]
                      },
                      {
                        "learn": [
                          0.02868567766
                        ],
                        "iteration": 199,
                        "passed_time": 0.7998344202,
                        "remaining_time": 0.7998344202,
                        "test": [
                          0.02091685141
                        ]
                      },
                      {
                        "learn": [
                          0.02850227846
                        ],
                        "iteration": 200,
                        "passed_time": 0.8023729843,
                        "remaining_time": 0.7943891735,
                        "test": [
                          0.02072074423
                        ]
                      },
                      {
                        "learn": [
                          0.02808081449
                        ],
                        "iteration": 201,
                        "passed_time": 0.8068856503,
                        "remaining_time": 0.7909077167,
                        "test": [
                          0.02041399221
                        ]
                      },
                      {
                        "learn": [
                          0.02787982165
                        ],
                        "iteration": 202,
                        "passed_time": 0.8145791018,
                        "remaining_time": 0.7905028722,
                        "test": [
                          0.02024975252
                        ]
                      },
                      {
                        "learn": [
                          0.02762922846
                        ],
                        "iteration": 203,
                        "passed_time": 0.8170539728,
                        "remaining_time": 0.7850126406,
                        "test": [
                          0.0200242389
                        ]
                      },
                      {
                        "learn": [
                          0.0274453795
                        ],
                        "iteration": 204,
                        "passed_time": 0.8246129926,
                        "remaining_time": 0.7843879686,
                        "test": [
                          0.01993550763
                        ]
                      },
                      {
                        "learn": [
                          0.02713803626
                        ],
                        "iteration": 205,
                        "passed_time": 0.8271804839,
                        "remaining_time": 0.778995213,
                        "test": [
                          0.01968203428
                        ]
                      },
                      {
                        "learn": [
                          0.02696209448
                        ],
                        "iteration": 206,
                        "passed_time": 0.8343830067,
                        "remaining_time": 0.7779513058,
                        "test": [
                          0.01947201998
                        ]
                      },
                      {
                        "learn": [
                          0.02678981525
                        ],
                        "iteration": 207,
                        "passed_time": 0.8370230836,
                        "remaining_time": 0.7726366925,
                        "test": [
                          0.01927625784
                        ]
                      },
                      {
                        "learn": [
                          0.02659593587
                        ],
                        "iteration": 208,
                        "passed_time": 0.8445640005,
                        "remaining_time": 0.7718264311,
                        "test": [
                          0.01908888407
                        ]
                      },
                      {
                        "learn": [
                          0.02638461211
                        ],
                        "iteration": 209,
                        "passed_time": 0.8470865116,
                        "remaining_time": 0.7664116057,
                        "test": [
                          0.01887379072
                        ]
                      },
                      {
                        "learn": [
                          0.02617091766
                        ],
                        "iteration": 210,
                        "passed_time": 0.8540967493,
                        "remaining_time": 0.7650440076,
                        "test": [
                          0.01873975393
                        ]
                      },
                      {
                        "learn": [
                          0.02598951422
                        ],
                        "iteration": 211,
                        "passed_time": 0.8568900766,
                        "remaining_time": 0.7598836528,
                        "test": [
                          0.01856590377
                        ]
                      },
                      {
                        "learn": [
                          0.02574350473
                        ],
                        "iteration": 212,
                        "passed_time": 0.8635555386,
                        "remaining_time": 0.7581450034,
                        "test": [
                          0.0183816521
                        ]
                      },
                      {
                        "learn": [
                          0.02559898864
                        ],
                        "iteration": 213,
                        "passed_time": 0.8661714539,
                        "remaining_time": 0.7528406095,
                        "test": [
                          0.01822801175
                        ]
                      },
                      {
                        "learn": [
                          0.02539659544
                        ],
                        "iteration": 214,
                        "passed_time": 0.8735625041,
                        "remaining_time": 0.7516700617,
                        "test": [
                          0.01806609448
                        ]
                      },
                      {
                        "learn": [
                          0.02520660169
                        ],
                        "iteration": 215,
                        "passed_time": 0.882009851,
                        "remaining_time": 0.7513417249,
                        "test": [
                          0.01790256285
                        ]
                      },
                      {
                        "learn": [
                          0.02497690222
                        ],
                        "iteration": 216,
                        "passed_time": 0.8888897238,
                        "remaining_time": 0.7496166795,
                        "test": [
                          0.01768001836
                        ]
                      },
                      {
                        "learn": [
                          0.02474564785
                        ],
                        "iteration": 217,
                        "passed_time": 0.8921802374,
                        "remaining_time": 0.7448477211,
                        "test": [
                          0.01755038231
                        ]
                      },
                      {
                        "learn": [
                          0.02457741099
                        ],
                        "iteration": 218,
                        "passed_time": 0.8993356701,
                        "remaining_time": 0.7432865584,
                        "test": [
                          0.01747308601
                        ]
                      },
                      {
                        "learn": [
                          0.0243480606
                        ],
                        "iteration": 219,
                        "passed_time": 0.9018757961,
                        "remaining_time": 0.7378983786,
                        "test": [
                          0.017247051
                        ]
                      },
                      {
                        "learn": [
                          0.02418852496
                        ],
                        "iteration": 220,
                        "passed_time": 0.9084346397,
                        "remaining_time": 0.7357909525,
                        "test": [
                          0.0171782843
                        ]
                      },
                      {
                        "learn": [
                          0.02399330851
                        ],
                        "iteration": 221,
                        "passed_time": 0.910889712,
                        "remaining_time": 0.7303530123,
                        "test": [
                          0.01700749945
                        ]
                      },
                      {
                        "learn": [
                          0.02376747978
                        ],
                        "iteration": 222,
                        "passed_time": 0.9176567247,
                        "remaining_time": 0.7283643061,
                        "test": [
                          0.01677226134
                        ]
                      },
                      {
                        "learn": [
                          0.02360542732
                        ],
                        "iteration": 223,
                        "passed_time": 0.9201732232,
                        "remaining_time": 0.7229932468,
                        "test": [
                          0.01670922729
                        ]
                      },
                      {
                        "learn": [
                          0.02345704226
                        ],
                        "iteration": 224,
                        "passed_time": 0.926873809,
                        "remaining_time": 0.7209018514,
                        "test": [
                          0.01654197031
                        ]
                      },
                      {
                        "learn": [
                          0.02336941752
                        ],
                        "iteration": 225,
                        "passed_time": 0.9293826049,
                        "remaining_time": 0.7155423596,
                        "test": [
                          0.01650932538
                        ]
                      },
                      {
                        "learn": [
                          0.02311955034
                        ],
                        "iteration": 226,
                        "passed_time": 0.936823714,
                        "remaining_time": 0.7139669715,
                        "test": [
                          0.01637149637
                        ]
                      },
                      {
                        "learn": [
                          0.02293863467
                        ],
                        "iteration": 227,
                        "passed_time": 0.9447408297,
                        "remaining_time": 0.7126992224,
                        "test": [
                          0.01626108032
                        ]
                      },
                      {
                        "learn": [
                          0.0227519614
                        ],
                        "iteration": 228,
                        "passed_time": 0.9475842999,
                        "remaining_time": 0.7075847829,
                        "test": [
                          0.01612737
                        ]
                      },
                      {
                        "learn": [
                          0.02261784349
                        ],
                        "iteration": 229,
                        "passed_time": 0.9526246024,
                        "remaining_time": 0.7041138365,
                        "test": [
                          0.01608855332
                        ]
                      },
                      {
                        "learn": [
                          0.02249038223
                        ],
                        "iteration": 230,
                        "passed_time": 0.9592839028,
                        "remaining_time": 0.7018137644,
                        "test": [
                          0.01595122813
                        ]
                      },
                      {
                        "learn": [
                          0.02229578667
                        ],
                        "iteration": 231,
                        "passed_time": 0.9621422401,
                        "remaining_time": 0.6967236911,
                        "test": [
                          0.01575352875
                        ]
                      },
                      {
                        "learn": [
                          0.0221204793
                        ],
                        "iteration": 232,
                        "passed_time": 0.9693041894,
                        "remaining_time": 0.6947373375,
                        "test": [
                          0.01564509507
                        ]
                      },
                      {
                        "learn": [
                          0.0219353856
                        ],
                        "iteration": 233,
                        "passed_time": 0.9886785799,
                        "remaining_time": 0.7013702746,
                        "test": [
                          0.0154543642
                        ]
                      },
                      {
                        "learn": [
                          0.02182945465
                        ],
                        "iteration": 234,
                        "passed_time": 0.9952902363,
                        "remaining_time": 0.6988208042,
                        "test": [
                          0.01534216769
                        ]
                      },
                      {
                        "learn": [
                          0.02166039292
                        ],
                        "iteration": 235,
                        "passed_time": 1.004104013,
                        "remaining_time": 0.6977671958,
                        "test": [
                          0.01523950443
                        ]
                      },
                      {
                        "learn": [
                          0.0214980581
                        ],
                        "iteration": 236,
                        "passed_time": 1.006983819,
                        "remaining_time": 0.6925669307,
                        "test": [
                          0.01514161147
                        ]
                      },
                      {
                        "learn": [
                          0.02137290902
                        ],
                        "iteration": 237,
                        "passed_time": 1.011364469,
                        "remaining_time": 0.6884077476,
                        "test": [
                          0.01510729887
                        ]
                      },
                      {
                        "learn": [
                          0.02117716358
                        ],
                        "iteration": 238,
                        "passed_time": 1.013094169,
                        "remaining_time": 0.6824609254,
                        "test": [
                          0.01493699157
                        ]
                      },
                      {
                        "learn": [
                          0.02099417426
                        ],
                        "iteration": 239,
                        "passed_time": 1.016632044,
                        "remaining_time": 0.6777546961,
                        "test": [
                          0.01475335729
                        ]
                      },
                      {
                        "learn": [
                          0.02085742849
                        ],
                        "iteration": 240,
                        "passed_time": 1.019218976,
                        "remaining_time": 0.6724307769,
                        "test": [
                          0.01470463879
                        ]
                      },
                      {
                        "learn": [
                          0.0206808119
                        ],
                        "iteration": 241,
                        "passed_time": 1.024286129,
                        "remaining_time": 0.668748795,
                        "test": [
                          0.01457000371
                        ]
                      },
                      {
                        "learn": [
                          0.02054715601
                        ],
                        "iteration": 242,
                        "passed_time": 1.030763772,
                        "remaining_time": 0.6659667167,
                        "test": [
                          0.0144240387
                        ]
                      },
                      {
                        "learn": [
                          0.02034866487
                        ],
                        "iteration": 243,
                        "passed_time": 1.035967957,
                        "remaining_time": 0.6623401692,
                        "test": [
                          0.01428119297
                        ]
                      },
                      {
                        "learn": [
                          0.02017097534
                        ],
                        "iteration": 244,
                        "passed_time": 1.040570669,
                        "remaining_time": 0.6583202189,
                        "test": [
                          0.0141971916
                        ]
                      },
                      {
                        "learn": [
                          0.02001484577
                        ],
                        "iteration": 245,
                        "passed_time": 1.045038554,
                        "remaining_time": 0.6542111275,
                        "test": [
                          0.01407722189
                        ]
                      },
                      {
                        "learn": [
                          0.01984605396
                        ],
                        "iteration": 246,
                        "passed_time": 1.051525375,
                        "remaining_time": 0.6513497265,
                        "test": [
                          0.01391282917
                        ]
                      },
                      {
                        "learn": [
                          0.0196508256
                        ],
                        "iteration": 247,
                        "passed_time": 1.055720653,
                        "remaining_time": 0.6470545939,
                        "test": [
                          0.01378108668
                        ]
                      },
                      {
                        "learn": [
                          0.01953015449
                        ],
                        "iteration": 248,
                        "passed_time": 1.058538888,
                        "remaining_time": 0.6419251891,
                        "test": [
                          0.01375015187
                        ]
                      },
                      {
                        "learn": [
                          0.01935964996
                        ],
                        "iteration": 249,
                        "passed_time": 1.061037382,
                        "remaining_time": 0.6366224289,
                        "test": [
                          0.0135954163
                        ]
                      },
                      {
                        "learn": [
                          0.01915354459
                        ],
                        "iteration": 250,
                        "passed_time": 1.06418356,
                        "remaining_time": 0.6317264958,
                        "test": [
                          0.01348870109
                        ]
                      },
                      {
                        "learn": [
                          0.01900276189
                        ],
                        "iteration": 251,
                        "passed_time": 1.071767461,
                        "remaining_time": 0.6294507312,
                        "test": [
                          0.0133385868
                        ]
                      },
                      {
                        "learn": [
                          0.01888684054
                        ],
                        "iteration": 252,
                        "passed_time": 1.076366674,
                        "remaining_time": 0.6253988185,
                        "test": [
                          0.01331362021
                        ]
                      },
                      {
                        "learn": [
                          0.01878927016
                        ],
                        "iteration": 253,
                        "passed_time": 1.081254833,
                        "remaining_time": 0.6215086835,
                        "test": [
                          0.01319865027
                        ]
                      },
                      {
                        "learn": [
                          0.01867346981
                        ],
                        "iteration": 254,
                        "passed_time": 1.084066754,
                        "remaining_time": 0.6164301151,
                        "test": [
                          0.01317080828
                        ]
                      },
                      {
                        "learn": [
                          0.01852007551
                        ],
                        "iteration": 255,
                        "passed_time": 1.093411961,
                        "remaining_time": 0.6150442283,
                        "test": [
                          0.01302630864
                        ]
                      },
                      {
                        "learn": [
                          0.0184154281
                        ],
                        "iteration": 256,
                        "passed_time": 1.101417134,
                        "remaining_time": 0.6128507787,
                        "test": [
                          0.01292606506
                        ]
                      },
                      {
                        "learn": [
                          0.01830583255
                        ],
                        "iteration": 257,
                        "passed_time": 1.10427511,
                        "remaining_time": 0.6077793241,
                        "test": [
                          0.01290222736
                        ]
                      },
                      {
                        "learn": [
                          0.01823020394
                        ],
                        "iteration": 258,
                        "passed_time": 1.111888106,
                        "remaining_time": 0.6053136024,
                        "test": [
                          0.01289128824
                        ]
                      },
                      {
                        "learn": [
                          0.01810773172
                        ],
                        "iteration": 259,
                        "passed_time": 1.11474401,
                        "remaining_time": 0.6002467746,
                        "test": [
                          0.01284841974
                        ]
                      },
                      {
                        "learn": [
                          0.01798765702
                        ],
                        "iteration": 260,
                        "passed_time": 1.121482687,
                        "remaining_time": 0.5972647263,
                        "test": [
                          0.01280655019
                        ]
                      },
                      {
                        "learn": [
                          0.01784980049
                        ],
                        "iteration": 261,
                        "passed_time": 1.124388568,
                        "remaining_time": 0.5922351999,
                        "test": [
                          0.01270920797
                        ]
                      },
                      {
                        "learn": [
                          0.01773526642
                        ],
                        "iteration": 262,
                        "passed_time": 1.131485013,
                        "remaining_time": 0.5894047407,
                        "test": [
                          0.01267593445
                        ]
                      },
                      {
                        "learn": [
                          0.01763216754
                        ],
                        "iteration": 263,
                        "passed_time": 1.13847523,
                        "remaining_time": 0.5864872398,
                        "test": [
                          0.01265606127
                        ]
                      },
                      {
                        "learn": [
                          0.01749980188
                        ],
                        "iteration": 264,
                        "passed_time": 1.141222082,
                        "remaining_time": 0.5813772872,
                        "test": [
                          0.01256323098
                        ]
                      },
                      {
                        "learn": [
                          0.01736493279
                        ],
                        "iteration": 265,
                        "passed_time": 1.148737161,
                        "remaining_time": 0.5786871412,
                        "test": [
                          0.01242638054
                        ]
                      },
                      {
                        "learn": [
                          0.01729787894
                        ],
                        "iteration": 266,
                        "passed_time": 1.151416158,
                        "remaining_time": 0.5735518691,
                        "test": [
                          0.01240686338
                        ]
                      },
                      {
                        "learn": [
                          0.01719507761
                        ],
                        "iteration": 267,
                        "passed_time": 1.158488129,
                        "remaining_time": 0.5705986308,
                        "test": [
                          0.01238453542
                        ]
                      },
                      {
                        "learn": [
                          0.01709533921
                        ],
                        "iteration": 268,
                        "passed_time": 1.161072711,
                        "remaining_time": 0.5654294617,
                        "test": [
                          0.01236438723
                        ]
                      },
                      {
                        "learn": [
                          0.01697612508
                        ],
                        "iteration": 269,
                        "passed_time": 1.168705669,
                        "remaining_time": 0.5627101368,
                        "test": [
                          0.01229357677
                        ]
                      },
                      {
                        "learn": [
                          0.01683152972
                        ],
                        "iteration": 270,
                        "passed_time": 1.173163152,
                        "remaining_time": 0.5584429765,
                        "test": [
                          0.01218363594
                        ]
                      },
                      {
                        "learn": [
                          0.01673377586
                        ],
                        "iteration": 271,
                        "passed_time": 1.175970405,
                        "remaining_time": 0.5533978375,
                        "test": [
                          0.01216401544
                        ]
                      },
                      {
                        "learn": [
                          0.01663800051
                        ],
                        "iteration": 272,
                        "passed_time": 1.177882919,
                        "remaining_time": 0.5479528599,
                        "test": [
                          0.0121447938
                        ]
                      },
                      {
                        "learn": [
                          0.01648546176
                        ],
                        "iteration": 273,
                        "passed_time": 1.179711833,
                        "remaining_time": 0.5424952226,
                        "test": [
                          0.01203727169
                        ]
                      },
                      {
                        "learn": [
                          0.01637460005
                        ],
                        "iteration": 274,
                        "passed_time": 1.183107697,
                        "remaining_time": 0.5377762261,
                        "test": [
                          0.01190500541
                        ]
                      },
                      {
                        "learn": [
                          0.01625052489
                        ],
                        "iteration": 275,
                        "passed_time": 1.18553536,
                        "remaining_time": 0.5326318286,
                        "test": [
                          0.01181392756
                        ]
                      },
                      {
                        "learn": [
                          0.01614611448
                        ],
                        "iteration": 276,
                        "passed_time": 1.193050358,
                        "remaining_time": 0.5297660434,
                        "test": [
                          0.01177850109
                        ]
                      },
                      {
                        "learn": [
                          0.01605497333
                        ],
                        "iteration": 277,
                        "passed_time": 1.195747567,
                        "remaining_time": 0.5247525295,
                        "test": [
                          0.01167332127
                        ]
                      },
                      {
                        "learn": [
                          0.0159320771
                        ],
                        "iteration": 278,
                        "passed_time": 1.202555752,
                        "remaining_time": 0.5215385163,
                        "test": [
                          0.01158050833
                        ]
                      },
                      {
                        "learn": [
                          0.01582363566
                        ],
                        "iteration": 279,
                        "passed_time": 1.205051001,
                        "remaining_time": 0.5164504291,
                        "test": [
                          0.01149732376
                        ]
                      },
                      {
                        "learn": [
                          0.01568688992
                        ],
                        "iteration": 280,
                        "passed_time": 1.211345087,
                        "remaining_time": 0.5129895565,
                        "test": [
                          0.01143818284
                        ]
                      },
                      {
                        "learn": [
                          0.01562354725
                        ],
                        "iteration": 281,
                        "passed_time": 1.217314043,
                        "remaining_time": 0.5093725429,
                        "test": [
                          0.01142735387
                        ]
                      },
                      {
                        "learn": [
                          0.01553490445
                        ],
                        "iteration": 282,
                        "passed_time": 1.219824414,
                        "remaining_time": 0.5043090334,
                        "test": [
                          0.0114114122
                        ]
                      },
                      {
                        "learn": [
                          0.01546224412
                        ],
                        "iteration": 283,
                        "passed_time": 1.225839449,
                        "remaining_time": 0.5006949863,
                        "test": [
                          0.01133707739
                        ]
                      },
                      {
                        "learn": [
                          0.01537616329
                        ],
                        "iteration": 284,
                        "passed_time": 1.231543875,
                        "remaining_time": 0.4969387565,
                        "test": [
                          0.01131613342
                        ]
                      },
                      {
                        "learn": [
                          0.01527218737
                        ],
                        "iteration": 285,
                        "passed_time": 1.234188105,
                        "remaining_time": 0.4919491049,
                        "test": [
                          0.01125751221
                        ]
                      },
                      {
                        "learn": [
                          0.01519947568
                        ],
                        "iteration": 286,
                        "passed_time": 1.240972085,
                        "remaining_time": 0.4886057338,
                        "test": [
                          0.01119849385
                        ]
                      },
                      {
                        "learn": [
                          0.0151052768
                        ],
                        "iteration": 287,
                        "passed_time": 1.243555164,
                        "remaining_time": 0.4836047861,
                        "test": [
                          0.01117267644
                        ]
                      },
                      {
                        "learn": [
                          0.01500904651
                        ],
                        "iteration": 288,
                        "passed_time": 1.251371129,
                        "remaining_time": 0.4806304337,
                        "test": [
                          0.01112301546
                        ]
                      },
                      {
                        "learn": [
                          0.01490620797
                        ],
                        "iteration": 289,
                        "passed_time": 1.254318725,
                        "remaining_time": 0.4757760681,
                        "test": [
                          0.01105175282
                        ]
                      },
                      {
                        "learn": [
                          0.0148219335
                        ],
                        "iteration": 290,
                        "passed_time": 1.261355486,
                        "remaining_time": 0.4724664879,
                        "test": [
                          0.01103625702
                        ]
                      },
                      {
                        "learn": [
                          0.01474114511
                        ],
                        "iteration": 291,
                        "passed_time": 1.265216559,
                        "remaining_time": 0.4679568096,
                        "test": [
                          0.01095933319
                        ]
                      },
                      {
                        "learn": [
                          0.01462497838
                        ],
                        "iteration": 292,
                        "passed_time": 1.273178138,
                        "remaining_time": 0.464949013,
                        "test": [
                          0.01090741688
                        ]
                      },
                      {
                        "learn": [
                          0.01453071754
                        ],
                        "iteration": 293,
                        "passed_time": 1.275720705,
                        "remaining_time": 0.4599537236,
                        "test": [
                          0.01085447444
                        ]
                      },
                      {
                        "learn": [
                          0.01444869986
                        ],
                        "iteration": 294,
                        "passed_time": 1.282143245,
                        "remaining_time": 0.4563560703,
                        "test": [
                          0.01083969713
                        ]
                      },
                      {
                        "learn": [
                          0.01432794676
                        ],
                        "iteration": 295,
                        "passed_time": 1.284850105,
                        "remaining_time": 0.4514338206,
                        "test": [
                          0.01077493792
                        ]
                      },
                      {
                        "learn": [
                          0.01424745866
                        ],
                        "iteration": 296,
                        "passed_time": 1.295839042,
                        "remaining_time": 0.4493987249,
                        "test": [
                          0.01070089885
                        ]
                      },
                      {
                        "learn": [
                          0.01408627041
                        ],
                        "iteration": 297,
                        "passed_time": 1.299828065,
                        "remaining_time": 0.4449075928,
                        "test": [
                          0.01062635922
                        ]
                      },
                      {
                        "learn": [
                          0.01403207393
                        ],
                        "iteration": 298,
                        "passed_time": 1.30247726,
                        "remaining_time": 0.4399672351,
                        "test": [
                          0.01061629163
                        ]
                      },
                      {
                        "learn": [
                          0.01390833726
                        ],
                        "iteration": 299,
                        "passed_time": 1.31106239,
                        "remaining_time": 0.4370207966,
                        "test": [
                          0.0105292896
                        ]
                      },
                      {
                        "learn": [
                          0.01383378888
                        ],
                        "iteration": 300,
                        "passed_time": 1.314185211,
                        "remaining_time": 0.4322403185,
                        "test": [
                          0.01051643407
                        ]
                      },
                      {
                        "learn": [
                          0.0137605665
                        ],
                        "iteration": 301,
                        "passed_time": 1.321287838,
                        "remaining_time": 0.4287622785,
                        "test": [
                          0.01044392704
                        ]
                      },
                      {
                        "learn": [
                          0.01367753634
                        ],
                        "iteration": 302,
                        "passed_time": 1.328418548,
                        "remaining_time": 0.4252693041,
                        "test": [
                          0.0104174793
                        ]
                      },
                      {
                        "learn": [
                          0.0135976389
                        ],
                        "iteration": 303,
                        "passed_time": 1.330949243,
                        "remaining_time": 0.4202997608,
                        "test": [
                          0.01039248564
                        ]
                      },
                      {
                        "learn": [
                          0.01349236026
                        ],
                        "iteration": 304,
                        "passed_time": 1.338293194,
                        "remaining_time": 0.416845421,
                        "test": [
                          0.01028843659
                        ]
                      },
                      {
                        "learn": [
                          0.01341781433
                        ],
                        "iteration": 305,
                        "passed_time": 1.341005054,
                        "remaining_time": 0.411942729,
                        "test": [
                          0.01022006735
                        ]
                      },
                      {
                        "learn": [
                          0.01333972968
                        ],
                        "iteration": 306,
                        "passed_time": 1.348442409,
                        "remaining_time": 0.4084858113,
                        "test": [
                          0.0101975608
                        ]
                      },
                      {
                        "learn": [
                          0.01319387061
                        ],
                        "iteration": 307,
                        "passed_time": 1.351370852,
                        "remaining_time": 0.4036562286,
                        "test": [
                          0.01012280148
                        ]
                      },
                      {
                        "learn": [
                          0.01314351629
                        ],
                        "iteration": 308,
                        "passed_time": 1.358650091,
                        "remaining_time": 0.4001202535,
                        "test": [
                          0.01011369252
                        ]
                      },
                      {
                        "learn": [
                          0.0130560314
                        ],
                        "iteration": 309,
                        "passed_time": 1.361372325,
                        "remaining_time": 0.3952371267,
                        "test": [
                          0.01004342796
                        ]
                      },
                      {
                        "learn": [
                          0.01296552327
                        ],
                        "iteration": 310,
                        "passed_time": 1.368854843,
                        "remaining_time": 0.391730164,
                        "test": [
                          0.009998927495
                        ]
                      },
                      {
                        "learn": [
                          0.01290643821
                        ],
                        "iteration": 311,
                        "passed_time": 1.372090473,
                        "remaining_time": 0.3869998769,
                        "test": [
                          0.009938023652
                        ]
                      },
                      {
                        "learn": [
                          0.01284030528
                        ],
                        "iteration": 312,
                        "passed_time": 1.376979686,
                        "remaining_time": 0.3827387627,
                        "test": [
                          0.00992813032
                        ]
                      },
                      {
                        "learn": [
                          0.01273893511
                        ],
                        "iteration": 313,
                        "passed_time": 1.380907377,
                        "remaining_time": 0.3782103006,
                        "test": [
                          0.009858088082
                        ]
                      },
                      {
                        "learn": [
                          0.01266132462
                        ],
                        "iteration": 314,
                        "passed_time": 1.385821053,
                        "remaining_time": 0.3739517127,
                        "test": [
                          0.009814337633
                        ]
                      },
                      {
                        "learn": [
                          0.01260039864
                        ],
                        "iteration": 315,
                        "passed_time": 1.39039417,
                        "remaining_time": 0.3695984503,
                        "test": [
                          0.009757063994
                        ]
                      },
                      {
                        "learn": [
                          0.01255708022
                        ],
                        "iteration": 316,
                        "passed_time": 1.393036136,
                        "remaining_time": 0.3647381681,
                        "test": [
                          0.009743530309
                        ]
                      },
                      {
                        "learn": [
                          0.01242465686
                        ],
                        "iteration": 317,
                        "passed_time": 1.400020988,
                        "remaining_time": 0.3610117014,
                        "test": [
                          0.009653997826
                        ]
                      },
                      {
                        "learn": [
                          0.01235997135
                        ],
                        "iteration": 318,
                        "passed_time": 1.407520147,
                        "remaining_time": 0.3573953978,
                        "test": [
                          0.009644140271
                        ]
                      },
                      {
                        "learn": [
                          0.01229707664
                        ],
                        "iteration": 319,
                        "passed_time": 1.412969152,
                        "remaining_time": 0.353242288,
                        "test": [
                          0.009634798255
                        ]
                      },
                      {
                        "learn": [
                          0.01224180111
                        ],
                        "iteration": 320,
                        "passed_time": 1.416642808,
                        "remaining_time": 0.3486441801,
                        "test": [
                          0.00958648343
                        ]
                      },
                      {
                        "learn": [
                          0.01218748263
                        ],
                        "iteration": 321,
                        "passed_time": 1.418474792,
                        "remaining_time": 0.3436056949,
                        "test": [
                          0.009576883557
                        ]
                      },
                      {
                        "learn": [
                          0.01212092883
                        ],
                        "iteration": 322,
                        "passed_time": 1.421160696,
                        "remaining_time": 0.3387906302,
                        "test": [
                          0.009559775646
                        ]
                      },
                      {
                        "learn": [
                          0.01208912922
                        ],
                        "iteration": 323,
                        "passed_time": 1.423727916,
                        "remaining_time": 0.3339608692,
                        "test": [
                          0.009561972318
                        ]
                      },
                      {
                        "learn": [
                          0.01202384323
                        ],
                        "iteration": 324,
                        "passed_time": 1.42572295,
                        "remaining_time": 0.3290129884,
                        "test": [
                          0.00954159737
                        ]
                      },
                      {
                        "learn": [
                          0.01188198706
                        ],
                        "iteration": 325,
                        "passed_time": 1.428377703,
                        "remaining_time": 0.3242329754,
                        "test": [
                          0.009433095091
                        ]
                      },
                      {
                        "learn": [
                          0.01182206071
                        ],
                        "iteration": 326,
                        "passed_time": 1.430681055,
                        "remaining_time": 0.3193875139,
                        "test": [
                          0.009365005874
                        ]
                      },
                      {
                        "learn": [
                          0.01175911915
                        ],
                        "iteration": 327,
                        "passed_time": 1.433212993,
                        "remaining_time": 0.3146077301,
                        "test": [
                          0.009345490038
                        ]
                      },
                      {
                        "learn": [
                          0.01168325758
                        ],
                        "iteration": 328,
                        "passed_time": 1.43542614,
                        "remaining_time": 0.3097728144,
                        "test": [
                          0.009256870594
                        ]
                      },
                      {
                        "learn": [
                          0.01162686103
                        ],
                        "iteration": 329,
                        "passed_time": 1.437871715,
                        "remaining_time": 0.305003091,
                        "test": [
                          0.009203490442
                        ]
                      },
                      {
                        "learn": [
                          0.01157164365
                        ],
                        "iteration": 330,
                        "passed_time": 1.439988249,
                        "remaining_time": 0.3001788193,
                        "test": [
                          0.009194905378
                        ]
                      },
                      {
                        "learn": [
                          0.01151293158
                        ],
                        "iteration": 331,
                        "passed_time": 1.442313791,
                        "remaining_time": 0.2954136681,
                        "test": [
                          0.009179148294
                        ]
                      },
                      {
                        "learn": [
                          0.01146707955
                        ],
                        "iteration": 332,
                        "passed_time": 1.444884133,
                        "remaining_time": 0.2907124232,
                        "test": [
                          0.009174710782
                        ]
                      },
                      {
                        "learn": [
                          0.01141048665
                        ],
                        "iteration": 333,
                        "passed_time": 1.446654491,
                        "remaining_time": 0.2858658575,
                        "test": [
                          0.009162940037
                        ]
                      },
                      {
                        "learn": [
                          0.01136216243
                        ],
                        "iteration": 334,
                        "passed_time": 1.449223412,
                        "remaining_time": 0.2811926024,
                        "test": [
                          0.009155433413
                        ]
                      },
                      {
                        "learn": [
                          0.01130974464
                        ],
                        "iteration": 335,
                        "passed_time": 1.451186001,
                        "remaining_time": 0.2764163811,
                        "test": [
                          0.009102144235
                        ]
                      },
                      {
                        "learn": [
                          0.01128294927
                        ],
                        "iteration": 336,
                        "passed_time": 1.453735126,
                        "remaining_time": 0.2717665073,
                        "test": [
                          0.009104242913
                        ]
                      },
                      {
                        "learn": [
                          0.01115849539
                        ],
                        "iteration": 337,
                        "passed_time": 1.45618041,
                        "remaining_time": 0.2671100161,
                        "test": [
                          0.009011447341
                        ]
                      },
                      {
                        "learn": [
                          0.01111019602
                        ],
                        "iteration": 338,
                        "passed_time": 1.457888211,
                        "remaining_time": 0.2623338668,
                        "test": [
                          0.009003522064
                        ]
                      },
                      {
                        "learn": [
                          0.01104378648
                        ],
                        "iteration": 339,
                        "passed_time": 1.460342458,
                        "remaining_time": 0.2577074926,
                        "test": [
                          0.008963028006
                        ]
                      },
                      {
                        "learn": [
                          0.01099074082
                        ],
                        "iteration": 340,
                        "passed_time": 1.462484146,
                        "remaining_time": 0.2530397788,
                        "test": [
                          0.008945612077
                        ]
                      },
                      {
                        "learn": [
                          0.01090701424
                        ],
                        "iteration": 341,
                        "passed_time": 1.464907874,
                        "remaining_time": 0.2484346686,
                        "test": [
                          0.00888927121
                        ]
                      },
                      {
                        "learn": [
                          0.01085915942
                        ],
                        "iteration": 342,
                        "passed_time": 1.467372996,
                        "remaining_time": 0.2438491568,
                        "test": [
                          0.008848283882
                        ]
                      },
                      {
                        "learn": [
                          0.01077792653
                        ],
                        "iteration": 343,
                        "passed_time": 1.469703385,
                        "remaining_time": 0.2392540395,
                        "test": [
                          0.008767224474
                        ]
                      },
                      {
                        "learn": [
                          0.01071022398
                        ],
                        "iteration": 344,
                        "passed_time": 1.472217522,
                        "remaining_time": 0.2347013441,
                        "test": [
                          0.008684694201
                        ]
                      },
                      {
                        "learn": [
                          0.01066025557
                        ],
                        "iteration": 345,
                        "passed_time": 1.47602489,
                        "remaining_time": 0.230362266,
                        "test": [
                          0.008670486533
                        ]
                      },
                      {
                        "learn": [
                          0.01054045423
                        ],
                        "iteration": 346,
                        "passed_time": 1.478455719,
                        "remaining_time": 0.2258160032,
                        "test": [
                          0.008577280841
                        ]
                      },
                      {
                        "learn": [
                          0.01050217291
                        ],
                        "iteration": 347,
                        "passed_time": 1.482337897,
                        "remaining_time": 0.2214987663,
                        "test": [
                          0.00856661676
                        ]
                      },
                      {
                        "learn": [
                          0.0104417748
                        ],
                        "iteration": 348,
                        "passed_time": 1.484217498,
                        "remaining_time": 0.2168913823,
                        "test": [
                          0.008529857066
                        ]
                      },
                      {
                        "learn": [
                          0.01039778368
                        ],
                        "iteration": 349,
                        "passed_time": 1.48835151,
                        "remaining_time": 0.2126216442,
                        "test": [
                          0.008522059072
                        ]
                      },
                      {
                        "learn": [
                          0.01035124986
                        ],
                        "iteration": 350,
                        "passed_time": 1.491213245,
                        "remaining_time": 0.2081750684,
                        "test": [
                          0.00850861111
                        ]
                      },
                      {
                        "learn": [
                          0.01027653626
                        ],
                        "iteration": 351,
                        "passed_time": 1.497871942,
                        "remaining_time": 0.2042552649,
                        "test": [
                          0.008453331317
                        ]
                      },
                      {
                        "learn": [
                          0.01023170706
                        ],
                        "iteration": 352,
                        "passed_time": 1.499943411,
                        "remaining_time": 0.1997091794,
                        "test": [
                          0.008407545362
                        ]
                      },
                      {
                        "learn": [
                          0.01018473766
                        ],
                        "iteration": 353,
                        "passed_time": 1.50202953,
                        "remaining_time": 0.1951789785,
                        "test": [
                          0.008390746485
                        ]
                      },
                      {
                        "learn": [
                          0.01007508556
                        ],
                        "iteration": 354,
                        "passed_time": 1.504017742,
                        "remaining_time": 0.1906501364,
                        "test": [
                          0.008308135044
                        ]
                      },
                      {
                        "learn": [
                          0.01002786478
                        ],
                        "iteration": 355,
                        "passed_time": 1.507270649,
                        "remaining_time": 0.186291878,
                        "test": [
                          0.008290597182
                        ]
                      },
                      {
                        "learn": [
                          0.009960435299
                        ],
                        "iteration": 356,
                        "passed_time": 1.510353131,
                        "remaining_time": 0.1819192847,
                        "test": [
                          0.008250688006
                        ]
                      },
                      {
                        "learn": [
                          0.009901510311
                        ],
                        "iteration": 357,
                        "passed_time": 1.513251856,
                        "remaining_time": 0.1775323406,
                        "test": [
                          0.008200241176
                        ]
                      },
                      {
                        "learn": [
                          0.00985864247
                        ],
                        "iteration": 358,
                        "passed_time": 1.515258018,
                        "remaining_time": 0.1730517513,
                        "test": [
                          0.008185417298
                        ]
                      },
                      {
                        "learn": [
                          0.009817619814
                        ],
                        "iteration": 359,
                        "passed_time": 1.517579589,
                        "remaining_time": 0.1686199544,
                        "test": [
                          0.008149901258
                        ]
                      },
                      {
                        "learn": [
                          0.009760983885
                        ],
                        "iteration": 360,
                        "passed_time": 1.519464818,
                        "remaining_time": 0.1641527088,
                        "test": [
                          0.008103002687
                        ]
                      },
                      {
                        "learn": [
                          0.00972039507
                        ],
                        "iteration": 361,
                        "passed_time": 1.521769488,
                        "remaining_time": 0.1597437584,
                        "test": [
                          0.00806115891
                        ]
                      },
                      {
                        "learn": [
                          0.009690931312
                        ],
                        "iteration": 362,
                        "passed_time": 1.524892669,
                        "remaining_time": 0.1554298313,
                        "test": [
                          0.008062851279
                        ]
                      },
                      {
                        "learn": [
                          0.009612059176
                        ],
                        "iteration": 363,
                        "passed_time": 1.52718191,
                        "remaining_time": 0.1510399691,
                        "test": [
                          0.007991043474
                        ]
                      },
                      {
                        "learn": [
                          0.009550267637
                        ],
                        "iteration": 364,
                        "passed_time": 1.53279347,
                        "remaining_time": 0.1469801957,
                        "test": [
                          0.007944951951
                        ]
                      },
                      {
                        "learn": [
                          0.009492560568
                        ],
                        "iteration": 365,
                        "passed_time": 1.535006287,
                        "remaining_time": 0.1425962125,
                        "test": [
                          0.007900703503
                        ]
                      },
                      {
                        "learn": [
                          0.009444984006
                        ],
                        "iteration": 366,
                        "passed_time": 1.538184856,
                        "remaining_time": 0.1383108998,
                        "test": [
                          0.007848263339
                        ]
                      },
                      {
                        "learn": [
                          0.009384789189
                        ],
                        "iteration": 367,
                        "passed_time": 1.540649968,
                        "remaining_time": 0.1339695625,
                        "test": [
                          0.007804108169
                        ]
                      },
                      {
                        "learn": [
                          0.009357376039
                        ],
                        "iteration": 368,
                        "passed_time": 1.543512019,
                        "remaining_time": 0.1296717415,
                        "test": [
                          0.007797683218
                        ]
                      },
                      {
                        "learn": [
                          0.00933064705
                        ],
                        "iteration": 369,
                        "passed_time": 1.546297037,
                        "remaining_time": 0.1253754354,
                        "test": [
                          0.007788145975
                        ]
                      },
                      {
                        "learn": [
                          0.009264816234
                        ],
                        "iteration": 370,
                        "passed_time": 1.547997571,
                        "remaining_time": 0.1210025056,
                        "test": [
                          0.007733308937
                        ]
                      },
                      {
                        "learn": [
                          0.009211743459
                        ],
                        "iteration": 371,
                        "passed_time": 1.550831804,
                        "remaining_time": 0.1167292756,
                        "test": [
                          0.00767149589
                        ]
                      },
                      {
                        "learn": [
                          0.009156039385
                        ],
                        "iteration": 372,
                        "passed_time": 1.553177623,
                        "remaining_time": 0.112428407,
                        "test": [
                          0.007624578594
                        ]
                      },
                      {
                        "learn": [
                          0.009118793958
                        ],
                        "iteration": 373,
                        "passed_time": 1.554852122,
                        "remaining_time": 0.108091324,
                        "test": [
                          0.007586487631
                        ]
                      },
                      {
                        "learn": [
                          0.00908092812
                        ],
                        "iteration": 374,
                        "passed_time": 1.557395401,
                        "remaining_time": 0.1038263601,
                        "test": [
                          0.007575578906
                        ]
                      },
                      {
                        "learn": [
                          0.009055950337
                        ],
                        "iteration": 375,
                        "passed_time": 1.55995988,
                        "remaining_time": 0.09957190721,
                        "test": [
                          0.00756733748
                        ]
                      },
                      {
                        "learn": [
                          0.009001299581
                        ],
                        "iteration": 376,
                        "passed_time": 1.561925818,
                        "remaining_time": 0.09528990403,
                        "test": [
                          0.007538065552
                        ]
                      },
                      {
                        "learn": [
                          0.008937816409
                        ],
                        "iteration": 377,
                        "passed_time": 1.56479097,
                        "remaining_time": 0.09107249032,
                        "test": [
                          0.007475124903
                        ]
                      },
                      {
                        "learn": [
                          0.00888435217
                        ],
                        "iteration": 378,
                        "passed_time": 1.566565533,
                        "remaining_time": 0.08680178417,
                        "test": [
                          0.007435018057
                        ]
                      },
                      {
                        "learn": [
                          0.008840229732
                        ],
                        "iteration": 379,
                        "passed_time": 1.568957368,
                        "remaining_time": 0.08257670356,
                        "test": [
                          0.00738591758
                        ]
                      },
                      {
                        "learn": [
                          0.008804483655
                        ],
                        "iteration": 380,
                        "passed_time": 1.572624377,
                        "remaining_time": 0.07842483769,
                        "test": [
                          0.007374618677
                        ]
                      },
                      {
                        "learn": [
                          0.008758309982
                        ],
                        "iteration": 381,
                        "passed_time": 1.575580442,
                        "remaining_time": 0.07424201036,
                        "test": [
                          0.007345344901
                        ]
                      },
                      {
                        "learn": [
                          0.008706895113
                        ],
                        "iteration": 382,
                        "passed_time": 1.582060759,
                        "remaining_time": 0.07022201801,
                        "test": [
                          0.007310683053
                        ]
                      },
                      {
                        "learn": [
                          0.008657632693
                        ],
                        "iteration": 383,
                        "passed_time": 1.58797715,
                        "remaining_time": 0.06616571458,
                        "test": [
                          0.007248015058
                        ]
                      },
                      {
                        "learn": [
                          0.008621272121
                        ],
                        "iteration": 384,
                        "passed_time": 1.593802988,
                        "remaining_time": 0.06209622031,
                        "test": [
                          0.007235518213
                        ]
                      },
                      {
                        "learn": [
                          0.008578897386
                        ],
                        "iteration": 385,
                        "passed_time": 1.596419899,
                        "remaining_time": 0.05790123986,
                        "test": [
                          0.007197186214
                        ]
                      },
                      {
                        "learn": [
                          0.008545775322
                        ],
                        "iteration": 386,
                        "passed_time": 1.600927211,
                        "remaining_time": 0.05377791663,
                        "test": [
                          0.00718778596
                        ]
                      },
                      {
                        "learn": [
                          0.00848428919
                        ],
                        "iteration": 387,
                        "passed_time": 1.607401701,
                        "remaining_time": 0.04971345468,
                        "test": [
                          0.007135795045
                        ]
                      },
                      {
                        "learn": [
                          0.008441800575
                        ],
                        "iteration": 388,
                        "passed_time": 1.610225626,
                        "remaining_time": 0.04553337245,
                        "test": [
                          0.007088839229
                        ]
                      },
                      {
                        "learn": [
                          0.008411263219
                        ],
                        "iteration": 389,
                        "passed_time": 1.616741301,
                        "remaining_time": 0.04145490516,
                        "test": [
                          0.007082997237
                        ]
                      },
                      {
                        "learn": [
                          0.008370486501
                        ],
                        "iteration": 390,
                        "passed_time": 1.624600799,
                        "remaining_time": 0.03739490331,
                        "test": [
                          0.007046117127
                        ]
                      },
                      {
                        "learn": [
                          0.008353250442
                        ],
                        "iteration": 391,
                        "passed_time": 1.628585434,
                        "remaining_time": 0.03323643743,
                        "test": [
                          0.007047230133
                        ]
                      },
                      {
                        "learn": [
                          0.008329766187
                        ],
                        "iteration": 392,
                        "passed_time": 1.631426941,
                        "remaining_time": 0.02905849514,
                        "test": [
                          0.007048506904
                        ]
                      },
                      {
                        "learn": [
                          0.008302590299
                        ],
                        "iteration": 393,
                        "passed_time": 1.638413729,
                        "remaining_time": 0.02495046287,
                        "test": [
                          0.007040101561
                        ]
                      },
                      {
                        "learn": [
                          0.008252900386
                        ],
                        "iteration": 394,
                        "passed_time": 1.645820704,
                        "remaining_time": 0.02083317346,
                        "test": [
                          0.00700925808
                        ]
                      },
                      {
                        "learn": [
                          0.008215874795
                        ],
                        "iteration": 395,
                        "passed_time": 1.64870264,
                        "remaining_time": 0.01665356202,
                        "test": [
                          0.006970491926
                        ]
                      },
                      {
                        "learn": [
                          0.008193362017
                        ],
                        "iteration": 396,
                        "passed_time": 1.655417709,
                        "remaining_time": 0.01250945372,
                        "test": [
                          0.006964622519
                        ]
                      },
                      {
                        "learn": [
                          0.008165333774
                        ],
                        "iteration": 397,
                        "passed_time": 1.658266135,
                        "remaining_time": 0.008332995656,
                        "test": [
                          0.00695889262
                        ]
                      },
                      {
                        "learn": [
                          0.008092251312
                        ],
                        "iteration": 398,
                        "passed_time": 1.665820725,
                        "remaining_time": 0.004174989285,
                        "test": [
                          0.006896666318
                        ]
                      },
                      {
                        "learn": [
                          0.008030506364
                        ],
                        "iteration": 399,
                        "passed_time": 1.67341709,
                        "remaining_time": 0,
                        "test": [
                          0.006846386685
                        ]
                      }
                    ],
                    "meta": {
                      "test_sets": [
                        "test"
                      ],
                      "test_metrics": [
                        {
                          "best_value": "Min",
                          "name": "MultiClass"
                        }
                      ],
                      "learn_metrics": [
                        {
                          "best_value": "Min",
                          "name": "MultiClass"
                        }
                      ],
                      "launch_mode": "Train",
                      "parameters": "",
                      "iteration_count": 400,
                      "learn_sets": [
                        "learn"
                      ],
                      "name": "experiment"
                    }
                  }
                }
              }
            },
            "layout": "IPY_MODEL_8e6b8da1a6f04c24af41c0433249b683"
          }
        }
      }
    }
  },
  "nbformat": 4,
  "nbformat_minor": 5
}