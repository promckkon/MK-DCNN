{
  "cells": [
    {
      "cell_type": "markdown",
      "metadata": {
        "id": "view-in-github",
        "colab_type": "text"
      },
      "source": [
        "<a href=\"https://colab.research.google.com/github/promckkon/MK-DCNN/blob/main/MK-DCNN%20with%2020dB%20NOISE%20in%20CWRU%20Dataset%20250617.ipynb\" target=\"_parent\"><img src=\"https://colab.research.google.com/assets/colab-badge.svg\" alt=\"Open In Colab\"/></a>"
      ]
    },
    {
      "cell_type": "code",
      "source": [
        "from google.colab import drive\n",
        "drive.mount('/content/drive')"
      ],
      "metadata": {
        "colab": {
          "base_uri": "https://localhost:8080/"
        },
        "id": "_JTcgOD9s-GR",
        "outputId": "ec049bff-fb22-4fa3-afd0-3da2f5bd9fa8"
      },
      "id": "_JTcgOD9s-GR",
      "execution_count": 31,
      "outputs": [
        {
          "output_type": "stream",
          "name": "stdout",
          "text": [
            "Drive already mounted at /content/drive; to attempt to forcibly remount, call drive.mount(\"/content/drive\", force_remount=True).\n"
          ]
        }
      ]
    },
    {
      "cell_type": "code",
      "execution_count": 32,
      "id": "1132b641",
      "metadata": {
        "id": "1132b641"
      },
      "outputs": [],
      "source": [
        "import scipy.io\n",
        "import seaborn as sns\n",
        "import numpy as np\n",
        "import pandas as pd\n",
        "import os\n",
        "import matplotlib.pyplot as plt"
      ]
    },
    {
      "cell_type": "markdown",
      "source": [
        "Dataset Input"
      ],
      "metadata": {
        "id": "2haV_hKQQOg-"
      },
      "id": "2haV_hKQQOg-"
    },
    {
      "cell_type": "code",
      "source": [
        "df=pd.DataFrame(columns=['DE_data','fault']) # upload the dataset on googledrive\n",
        "\n",
        "for root, dirs, files in os.walk(\"/content/drive/MyDrive/CWRU_with_NOISE/CWRU_2_NOISE_20\", topdown=False):\n",
        "    for file_name in files:\n",
        "        path = os.path.join(root, file_name)\n",
        "        print(path)\n",
        "\n",
        "        mat = scipy.io.loadmat(path)\n",
        "\n",
        "        key_name = list(mat.keys())[3]\n",
        "        DE_data = mat.get(key_name)\n",
        "        fault = np.full((len(DE_data), 1), file_name[:-4])\n",
        "\n",
        "        df_temp = pd.DataFrame({'DE_data':np.ravel(DE_data) , 'fault':np.ravel(fault)})\n",
        "\n",
        "        df = pd.concat([df,df_temp],axis=0)\n",
        "        print(df['fault'].unique())\n",
        "\n",
        "df.to_csv('/content/drive/MyDrive/MK-DCNN CWRU/NOISE_20_faults.csv',index=False)"
      ],
      "metadata": {
        "colab": {
          "base_uri": "https://localhost:8080/"
        },
        "id": "sXzSVyy_ylsF",
        "outputId": "960aa191-811d-47f6-efdd-3c17fe4a5781"
      },
      "id": "sXzSVyy_ylsF",
      "execution_count": 33,
      "outputs": [
        {
          "output_type": "stream",
          "name": "stdout",
          "text": [
            "/content/drive/MyDrive/CWRU_with_NOISE/CWRU_2_NOISE_20/Noise_20_IR007_1_110.mat\n",
            "['Noise_20_IR007_1_110']\n",
            "/content/drive/MyDrive/CWRU_with_NOISE/CWRU_2_NOISE_20/Noise_20_B014_1_190.mat\n"
          ]
        },
        {
          "output_type": "stream",
          "name": "stderr",
          "text": [
            "<ipython-input-33-1130502457>:16: FutureWarning: The behavior of DataFrame concatenation with empty or all-NA entries is deprecated. In a future version, this will no longer exclude empty or all-NA columns when determining the result dtypes. To retain the old behavior, exclude the relevant entries before the concat operation.\n",
            "  df = pd.concat([df,df_temp],axis=0)\n"
          ]
        },
        {
          "output_type": "stream",
          "name": "stdout",
          "text": [
            "['Noise_20_IR007_1_110' 'Noise_20_B014_1_190']\n",
            "/content/drive/MyDrive/CWRU_with_NOISE/CWRU_2_NOISE_20/Noise_20__Time_Normal_1_098.mat\n",
            "['Noise_20_IR007_1_110' 'Noise_20_B014_1_190'\n",
            " 'Noise_20__Time_Normal_1_098']\n",
            "/content/drive/MyDrive/CWRU_with_NOISE/CWRU_2_NOISE_20/Noise_20_IR021_1_214.mat\n",
            "['Noise_20_IR007_1_110' 'Noise_20_B014_1_190'\n",
            " 'Noise_20__Time_Normal_1_098' 'Noise_20_IR021_1_214']\n",
            "/content/drive/MyDrive/CWRU_with_NOISE/CWRU_2_NOISE_20/Noise_20_OR021_6_1_239.mat\n",
            "['Noise_20_IR007_1_110' 'Noise_20_B014_1_190'\n",
            " 'Noise_20__Time_Normal_1_098' 'Noise_20_IR021_1_214'\n",
            " 'Noise_20_OR021_6_1_239']\n",
            "/content/drive/MyDrive/CWRU_with_NOISE/CWRU_2_NOISE_20/Noise_20_OR007_6_1_136.mat\n",
            "['Noise_20_IR007_1_110' 'Noise_20_B014_1_190'\n",
            " 'Noise_20__Time_Normal_1_098' 'Noise_20_IR021_1_214'\n",
            " 'Noise_20_OR021_6_1_239' 'Noise_20_OR007_6_1_136']\n",
            "/content/drive/MyDrive/CWRU_with_NOISE/CWRU_2_NOISE_20/Noise_20_OR014_6_1_202.mat\n",
            "['Noise_20_IR007_1_110' 'Noise_20_B014_1_190'\n",
            " 'Noise_20__Time_Normal_1_098' 'Noise_20_IR021_1_214'\n",
            " 'Noise_20_OR021_6_1_239' 'Noise_20_OR007_6_1_136'\n",
            " 'Noise_20_OR014_6_1_202']\n",
            "/content/drive/MyDrive/CWRU_with_NOISE/CWRU_2_NOISE_20/Noise_20_B007_1_123.mat\n",
            "['Noise_20_IR007_1_110' 'Noise_20_B014_1_190'\n",
            " 'Noise_20__Time_Normal_1_098' 'Noise_20_IR021_1_214'\n",
            " 'Noise_20_OR021_6_1_239' 'Noise_20_OR007_6_1_136'\n",
            " 'Noise_20_OR014_6_1_202' 'Noise_20_B007_1_123']\n",
            "/content/drive/MyDrive/CWRU_with_NOISE/CWRU_2_NOISE_20/Noise_20_B021_1_227.mat\n",
            "['Noise_20_IR007_1_110' 'Noise_20_B014_1_190'\n",
            " 'Noise_20__Time_Normal_1_098' 'Noise_20_IR021_1_214'\n",
            " 'Noise_20_OR021_6_1_239' 'Noise_20_OR007_6_1_136'\n",
            " 'Noise_20_OR014_6_1_202' 'Noise_20_B007_1_123' 'Noise_20_B021_1_227']\n"
          ]
        }
      ]
    },
    {
      "cell_type": "markdown",
      "source": [
        "# Multi-Kernel Deep 1D-CNN"
      ],
      "metadata": {
        "id": "2d0arbB2knS8"
      },
      "id": "2d0arbB2knS8"
    },
    {
      "cell_type": "code",
      "source": [
        "pip install -q tensorflow"
      ],
      "metadata": {
        "id": "-dsJA9B5YVAW"
      },
      "id": "-dsJA9B5YVAW",
      "execution_count": 34,
      "outputs": []
    },
    {
      "cell_type": "code",
      "source": [
        "from sklearn.preprocessing import LabelEncoder\n",
        "from tensorflow.keras.utils import to_categorical\n",
        "\n",
        "\n",
        "# Total target rows\n",
        "TARGET_ROWS = 1800\n",
        "\n",
        "# Estimate the total number of samples across all fault types\n",
        "total_samples = sum(len(df[df['fault'] == f]) for f in df['fault'].unique())\n",
        "\n",
        "# Calculate suitable window size and stride\n",
        "num_faults = 9\n",
        "average_samples_per_fault = total_samples / num_faults\n",
        "approx_windows_per_fault = TARGET_ROWS / num_faults\n",
        "stride_ratio = 0.8  # Initial stride/window ratio\n",
        "\n",
        "win_len = int(average_samples_per_fault / approx_windows_per_fault)\n",
        "stride = int(win_len * stride_ratio)\n",
        "\n",
        "X=[]\n",
        "Y=[]\n",
        "\n",
        "\n",
        "for k in df['fault'].unique():\n",
        "\n",
        "    df_temp_2 = df[df['fault']==k]\n",
        "\n",
        "    for i in np.arange(0,len(df_temp_2)-(win_len),stride):\n",
        "        temp = df_temp_2.iloc[i:i+win_len,:-1].values\n",
        "        temp = temp.reshape((1,-1))\n",
        "        X.append(temp)\n",
        "        Y.append(df_temp_2.iloc[i+win_len,-1])\n",
        "\n",
        "X=np.array(X)\n",
        "X=X.reshape((X.shape[0],-1,1))\n",
        "#X = np.repeat(X, 3, axis=3) # To repeat into 3 chanel format\n",
        "\n",
        "\n",
        "Y=np.array(Y)\n",
        "encoder= LabelEncoder()\n",
        "encoder.fit(Y)\n",
        "encoded_Y = encoder.transform(Y)\n",
        "OHE_Y = to_categorical(encoded_Y)"
      ],
      "metadata": {
        "id": "5s5vUXrUM2BH"
      },
      "id": "5s5vUXrUM2BH",
      "execution_count": 35,
      "outputs": []
    },
    {
      "cell_type": "code",
      "source": [
        "from sklearn.model_selection import train_test_split\n",
        "X_train,X_test,y_train,y_test = train_test_split(X,OHE_Y,test_size=0.3,shuffle=True)"
      ],
      "metadata": {
        "id": "PreHyG2yMkTA"
      },
      "id": "PreHyG2yMkTA",
      "execution_count": 36,
      "outputs": []
    },
    {
      "cell_type": "code",
      "source": [
        "import tensorflow as tf\n",
        "from tensorflow.keras.models import Model\n",
        "from tensorflow.keras.layers import Input, Dense, Dropout, Flatten, Conv1D, MaxPooling1D, concatenate\n",
        "from tensorflow.keras import backend as K\n",
        "\n",
        "# --- Custom Physics-Informed Loss Function ---\n",
        "def custom_loss(y_true, y_pred):\n",
        "    # Standard categorical crossentropy\n",
        "    loss = K.categorical_crossentropy(y_true, y_pred)\n",
        "\n",
        "    # Physics-Informed Term: penalize rapid class probability changes\n",
        "    # Ensure y_pred is at least 2D for slicing\n",
        "    if K.ndim(y_pred) < 2:\n",
        "        y_pred = K.expand_dims(y_pred, axis=-1)\n",
        "\n",
        "    # Ensure y_pred has more than one class dimension to compute diff\n",
        "    if K.int_shape(y_pred)[-1] > 1:\n",
        "        diff = y_pred[:, 1:] - y_pred[:, :-1]\n",
        "        squared_diff = tf.square(diff)\n",
        "        physics_term = tf.reduce_mean(squared_diff)\n",
        "    else:\n",
        "        physics_term = 0.0 # No physics term if only one class\n",
        "\n",
        "\n",
        "    # Total loss = classification loss + regularization term\n",
        "    total_loss = loss + 0.01 * physics_term  # 0.01 is tunable\n",
        "\n",
        "    return total_loss\n",
        "\n",
        "# --- Model Definition ---\n",
        "# no_classes = len(df['fault'].unique()) # Original line that caused 10 classes\n",
        "no_classes = len(encoder.classes_) # Use the encoder to get the correct number of classes\n",
        "print(f\"Number of output classes (no_classes): {no_classes}\") # Add print statement to verify\n",
        "\n",
        "input_shape = (X.shape[1], X.shape[2])  # Example: (784, 1)\n",
        "\n",
        "# Head 1\n",
        "inputs1 = Input(shape=input_shape)\n",
        "conv1 = Conv1D(filters=64, kernel_size=200, activation='relu')(inputs1)\n",
        "drop1 = Dropout(0.5)(conv1)\n",
        "pool1 = MaxPooling1D(pool_size=20)(drop1)\n",
        "flat1 = Flatten()(pool1)\n",
        "\n",
        "# Head 2\n",
        "inputs2 = Input(shape=input_shape)\n",
        "conv2 = Conv1D(filters=64, kernel_size=100, activation='relu')(inputs2)\n",
        "drop2 = Dropout(0.5)(conv2)\n",
        "pool2 = MaxPooling1D(pool_size=10)(drop2)\n",
        "flat2 = Flatten()(pool2)\n",
        "\n",
        "# Head 3\n",
        "inputs3 = Input(shape=input_shape)\n",
        "conv3 = Conv1D(filters=64, kernel_size=50, activation='relu')(inputs3)\n",
        "drop3 = Dropout(0.5)(conv3)\n",
        "pool3 = MaxPooling1D(pool_size=5)(drop3)\n",
        "flat3 = Flatten()(pool3)\n",
        "\n",
        "# Merge all feature paths\n",
        "merged = concatenate([flat1, flat2, flat3])\n",
        "\n",
        "# Fully connected interpretation\n",
        "dense1 = Dense(100, activation='relu')(merged)\n",
        "outputs = Dense(no_classes, activation='softmax')(dense1)\n",
        "\n",
        "# Build and compile model with custom loss\n",
        "cnn_model = Model(inputs=[inputs1, inputs2, inputs3], outputs=outputs)\n",
        "cnn_model.compile(optimizer='adam', loss=custom_loss, metrics=['accuracy'])\n",
        "\n",
        "# Model summary\n",
        "cnn_model.summary()"
      ],
      "metadata": {
        "colab": {
          "base_uri": "https://localhost:8080/",
          "height": 901
        },
        "id": "kB3uGh-8J7no",
        "outputId": "a08af745-2383-4fc1-d5f7-1b26d633974f"
      },
      "id": "kB3uGh-8J7no",
      "execution_count": 37,
      "outputs": [
        {
          "output_type": "stream",
          "name": "stdout",
          "text": [
            "Number of output classes (no_classes): 9\n"
          ]
        },
        {
          "output_type": "display_data",
          "data": {
            "text/plain": [
              "\u001b[1mModel: \"functional_2\"\u001b[0m\n"
            ],
            "text/html": [
              "<pre style=\"white-space:pre;overflow-x:auto;line-height:normal;font-family:Menlo,'DejaVu Sans Mono',consolas,'Courier New',monospace\"><span style=\"font-weight: bold\">Model: \"functional_2\"</span>\n",
              "</pre>\n"
            ]
          },
          "metadata": {}
        },
        {
          "output_type": "display_data",
          "data": {
            "text/plain": [
              "┏━━━━━━━━━━━━━━━━━━━━━┳━━━━━━━━━━━━━━━━━━━┳━━━━━━━━━━━━┳━━━━━━━━━━━━━━━━━━━┓\n",
              "┃\u001b[1m \u001b[0m\u001b[1mLayer (type)       \u001b[0m\u001b[1m \u001b[0m┃\u001b[1m \u001b[0m\u001b[1mOutput Shape     \u001b[0m\u001b[1m \u001b[0m┃\u001b[1m \u001b[0m\u001b[1m   Param #\u001b[0m\u001b[1m \u001b[0m┃\u001b[1m \u001b[0m\u001b[1mConnected to     \u001b[0m\u001b[1m \u001b[0m┃\n",
              "┡━━━━━━━━━━━━━━━━━━━━━╇━━━━━━━━━━━━━━━━━━━╇━━━━━━━━━━━━╇━━━━━━━━━━━━━━━━━━━┩\n",
              "│ input_layer_3       │ (\u001b[38;5;45mNone\u001b[0m, \u001b[38;5;34m2431\u001b[0m, \u001b[38;5;34m1\u001b[0m)   │          \u001b[38;5;34m0\u001b[0m │ -                 │\n",
              "│ (\u001b[38;5;33mInputLayer\u001b[0m)        │                   │            │                   │\n",
              "├─────────────────────┼───────────────────┼────────────┼───────────────────┤\n",
              "│ input_layer_4       │ (\u001b[38;5;45mNone\u001b[0m, \u001b[38;5;34m2431\u001b[0m, \u001b[38;5;34m1\u001b[0m)   │          \u001b[38;5;34m0\u001b[0m │ -                 │\n",
              "│ (\u001b[38;5;33mInputLayer\u001b[0m)        │                   │            │                   │\n",
              "├─────────────────────┼───────────────────┼────────────┼───────────────────┤\n",
              "│ input_layer_5       │ (\u001b[38;5;45mNone\u001b[0m, \u001b[38;5;34m2431\u001b[0m, \u001b[38;5;34m1\u001b[0m)   │          \u001b[38;5;34m0\u001b[0m │ -                 │\n",
              "│ (\u001b[38;5;33mInputLayer\u001b[0m)        │                   │            │                   │\n",
              "├─────────────────────┼───────────────────┼────────────┼───────────────────┤\n",
              "│ conv1d_3 (\u001b[38;5;33mConv1D\u001b[0m)   │ (\u001b[38;5;45mNone\u001b[0m, \u001b[38;5;34m2232\u001b[0m, \u001b[38;5;34m64\u001b[0m)  │     \u001b[38;5;34m12,864\u001b[0m │ input_layer_3[\u001b[38;5;34m0\u001b[0m]… │\n",
              "├─────────────────────┼───────────────────┼────────────┼───────────────────┤\n",
              "│ conv1d_4 (\u001b[38;5;33mConv1D\u001b[0m)   │ (\u001b[38;5;45mNone\u001b[0m, \u001b[38;5;34m2332\u001b[0m, \u001b[38;5;34m64\u001b[0m)  │      \u001b[38;5;34m6,464\u001b[0m │ input_layer_4[\u001b[38;5;34m0\u001b[0m]… │\n",
              "├─────────────────────┼───────────────────┼────────────┼───────────────────┤\n",
              "│ conv1d_5 (\u001b[38;5;33mConv1D\u001b[0m)   │ (\u001b[38;5;45mNone\u001b[0m, \u001b[38;5;34m2382\u001b[0m, \u001b[38;5;34m64\u001b[0m)  │      \u001b[38;5;34m3,264\u001b[0m │ input_layer_5[\u001b[38;5;34m0\u001b[0m]… │\n",
              "├─────────────────────┼───────────────────┼────────────┼───────────────────┤\n",
              "│ dropout_3 (\u001b[38;5;33mDropout\u001b[0m) │ (\u001b[38;5;45mNone\u001b[0m, \u001b[38;5;34m2232\u001b[0m, \u001b[38;5;34m64\u001b[0m)  │          \u001b[38;5;34m0\u001b[0m │ conv1d_3[\u001b[38;5;34m0\u001b[0m][\u001b[38;5;34m0\u001b[0m]    │\n",
              "├─────────────────────┼───────────────────┼────────────┼───────────────────┤\n",
              "│ dropout_4 (\u001b[38;5;33mDropout\u001b[0m) │ (\u001b[38;5;45mNone\u001b[0m, \u001b[38;5;34m2332\u001b[0m, \u001b[38;5;34m64\u001b[0m)  │          \u001b[38;5;34m0\u001b[0m │ conv1d_4[\u001b[38;5;34m0\u001b[0m][\u001b[38;5;34m0\u001b[0m]    │\n",
              "├─────────────────────┼───────────────────┼────────────┼───────────────────┤\n",
              "│ dropout_5 (\u001b[38;5;33mDropout\u001b[0m) │ (\u001b[38;5;45mNone\u001b[0m, \u001b[38;5;34m2382\u001b[0m, \u001b[38;5;34m64\u001b[0m)  │          \u001b[38;5;34m0\u001b[0m │ conv1d_5[\u001b[38;5;34m0\u001b[0m][\u001b[38;5;34m0\u001b[0m]    │\n",
              "├─────────────────────┼───────────────────┼────────────┼───────────────────┤\n",
              "│ max_pooling1d_3     │ (\u001b[38;5;45mNone\u001b[0m, \u001b[38;5;34m111\u001b[0m, \u001b[38;5;34m64\u001b[0m)   │          \u001b[38;5;34m0\u001b[0m │ dropout_3[\u001b[38;5;34m0\u001b[0m][\u001b[38;5;34m0\u001b[0m]   │\n",
              "│ (\u001b[38;5;33mMaxPooling1D\u001b[0m)      │                   │            │                   │\n",
              "├─────────────────────┼───────────────────┼────────────┼───────────────────┤\n",
              "│ max_pooling1d_4     │ (\u001b[38;5;45mNone\u001b[0m, \u001b[38;5;34m233\u001b[0m, \u001b[38;5;34m64\u001b[0m)   │          \u001b[38;5;34m0\u001b[0m │ dropout_4[\u001b[38;5;34m0\u001b[0m][\u001b[38;5;34m0\u001b[0m]   │\n",
              "│ (\u001b[38;5;33mMaxPooling1D\u001b[0m)      │                   │            │                   │\n",
              "├─────────────────────┼───────────────────┼────────────┼───────────────────┤\n",
              "│ max_pooling1d_5     │ (\u001b[38;5;45mNone\u001b[0m, \u001b[38;5;34m476\u001b[0m, \u001b[38;5;34m64\u001b[0m)   │          \u001b[38;5;34m0\u001b[0m │ dropout_5[\u001b[38;5;34m0\u001b[0m][\u001b[38;5;34m0\u001b[0m]   │\n",
              "│ (\u001b[38;5;33mMaxPooling1D\u001b[0m)      │                   │            │                   │\n",
              "├─────────────────────┼───────────────────┼────────────┼───────────────────┤\n",
              "│ flatten_3 (\u001b[38;5;33mFlatten\u001b[0m) │ (\u001b[38;5;45mNone\u001b[0m, \u001b[38;5;34m7104\u001b[0m)      │          \u001b[38;5;34m0\u001b[0m │ max_pooling1d_3[\u001b[38;5;34m…\u001b[0m │\n",
              "├─────────────────────┼───────────────────┼────────────┼───────────────────┤\n",
              "│ flatten_4 (\u001b[38;5;33mFlatten\u001b[0m) │ (\u001b[38;5;45mNone\u001b[0m, \u001b[38;5;34m14912\u001b[0m)     │          \u001b[38;5;34m0\u001b[0m │ max_pooling1d_4[\u001b[38;5;34m…\u001b[0m │\n",
              "├─────────────────────┼───────────────────┼────────────┼───────────────────┤\n",
              "│ flatten_5 (\u001b[38;5;33mFlatten\u001b[0m) │ (\u001b[38;5;45mNone\u001b[0m, \u001b[38;5;34m30464\u001b[0m)     │          \u001b[38;5;34m0\u001b[0m │ max_pooling1d_5[\u001b[38;5;34m…\u001b[0m │\n",
              "├─────────────────────┼───────────────────┼────────────┼───────────────────┤\n",
              "│ concatenate_1       │ (\u001b[38;5;45mNone\u001b[0m, \u001b[38;5;34m52480\u001b[0m)     │          \u001b[38;5;34m0\u001b[0m │ flatten_3[\u001b[38;5;34m0\u001b[0m][\u001b[38;5;34m0\u001b[0m],  │\n",
              "│ (\u001b[38;5;33mConcatenate\u001b[0m)       │                   │            │ flatten_4[\u001b[38;5;34m0\u001b[0m][\u001b[38;5;34m0\u001b[0m],  │\n",
              "│                     │                   │            │ flatten_5[\u001b[38;5;34m0\u001b[0m][\u001b[38;5;34m0\u001b[0m]   │\n",
              "├─────────────────────┼───────────────────┼────────────┼───────────────────┤\n",
              "│ dense_2 (\u001b[38;5;33mDense\u001b[0m)     │ (\u001b[38;5;45mNone\u001b[0m, \u001b[38;5;34m100\u001b[0m)       │  \u001b[38;5;34m5,248,100\u001b[0m │ concatenate_1[\u001b[38;5;34m0\u001b[0m]… │\n",
              "├─────────────────────┼───────────────────┼────────────┼───────────────────┤\n",
              "│ dense_3 (\u001b[38;5;33mDense\u001b[0m)     │ (\u001b[38;5;45mNone\u001b[0m, \u001b[38;5;34m9\u001b[0m)         │        \u001b[38;5;34m909\u001b[0m │ dense_2[\u001b[38;5;34m0\u001b[0m][\u001b[38;5;34m0\u001b[0m]     │\n",
              "└─────────────────────┴───────────────────┴────────────┴───────────────────┘\n"
            ],
            "text/html": [
              "<pre style=\"white-space:pre;overflow-x:auto;line-height:normal;font-family:Menlo,'DejaVu Sans Mono',consolas,'Courier New',monospace\">┏━━━━━━━━━━━━━━━━━━━━━┳━━━━━━━━━━━━━━━━━━━┳━━━━━━━━━━━━┳━━━━━━━━━━━━━━━━━━━┓\n",
              "┃<span style=\"font-weight: bold\"> Layer (type)        </span>┃<span style=\"font-weight: bold\"> Output Shape      </span>┃<span style=\"font-weight: bold\">    Param # </span>┃<span style=\"font-weight: bold\"> Connected to      </span>┃\n",
              "┡━━━━━━━━━━━━━━━━━━━━━╇━━━━━━━━━━━━━━━━━━━╇━━━━━━━━━━━━╇━━━━━━━━━━━━━━━━━━━┩\n",
              "│ input_layer_3       │ (<span style=\"color: #00d7ff; text-decoration-color: #00d7ff\">None</span>, <span style=\"color: #00af00; text-decoration-color: #00af00\">2431</span>, <span style=\"color: #00af00; text-decoration-color: #00af00\">1</span>)   │          <span style=\"color: #00af00; text-decoration-color: #00af00\">0</span> │ -                 │\n",
              "│ (<span style=\"color: #0087ff; text-decoration-color: #0087ff\">InputLayer</span>)        │                   │            │                   │\n",
              "├─────────────────────┼───────────────────┼────────────┼───────────────────┤\n",
              "│ input_layer_4       │ (<span style=\"color: #00d7ff; text-decoration-color: #00d7ff\">None</span>, <span style=\"color: #00af00; text-decoration-color: #00af00\">2431</span>, <span style=\"color: #00af00; text-decoration-color: #00af00\">1</span>)   │          <span style=\"color: #00af00; text-decoration-color: #00af00\">0</span> │ -                 │\n",
              "│ (<span style=\"color: #0087ff; text-decoration-color: #0087ff\">InputLayer</span>)        │                   │            │                   │\n",
              "├─────────────────────┼───────────────────┼────────────┼───────────────────┤\n",
              "│ input_layer_5       │ (<span style=\"color: #00d7ff; text-decoration-color: #00d7ff\">None</span>, <span style=\"color: #00af00; text-decoration-color: #00af00\">2431</span>, <span style=\"color: #00af00; text-decoration-color: #00af00\">1</span>)   │          <span style=\"color: #00af00; text-decoration-color: #00af00\">0</span> │ -                 │\n",
              "│ (<span style=\"color: #0087ff; text-decoration-color: #0087ff\">InputLayer</span>)        │                   │            │                   │\n",
              "├─────────────────────┼───────────────────┼────────────┼───────────────────┤\n",
              "│ conv1d_3 (<span style=\"color: #0087ff; text-decoration-color: #0087ff\">Conv1D</span>)   │ (<span style=\"color: #00d7ff; text-decoration-color: #00d7ff\">None</span>, <span style=\"color: #00af00; text-decoration-color: #00af00\">2232</span>, <span style=\"color: #00af00; text-decoration-color: #00af00\">64</span>)  │     <span style=\"color: #00af00; text-decoration-color: #00af00\">12,864</span> │ input_layer_3[<span style=\"color: #00af00; text-decoration-color: #00af00\">0</span>]… │\n",
              "├─────────────────────┼───────────────────┼────────────┼───────────────────┤\n",
              "│ conv1d_4 (<span style=\"color: #0087ff; text-decoration-color: #0087ff\">Conv1D</span>)   │ (<span style=\"color: #00d7ff; text-decoration-color: #00d7ff\">None</span>, <span style=\"color: #00af00; text-decoration-color: #00af00\">2332</span>, <span style=\"color: #00af00; text-decoration-color: #00af00\">64</span>)  │      <span style=\"color: #00af00; text-decoration-color: #00af00\">6,464</span> │ input_layer_4[<span style=\"color: #00af00; text-decoration-color: #00af00\">0</span>]… │\n",
              "├─────────────────────┼───────────────────┼────────────┼───────────────────┤\n",
              "│ conv1d_5 (<span style=\"color: #0087ff; text-decoration-color: #0087ff\">Conv1D</span>)   │ (<span style=\"color: #00d7ff; text-decoration-color: #00d7ff\">None</span>, <span style=\"color: #00af00; text-decoration-color: #00af00\">2382</span>, <span style=\"color: #00af00; text-decoration-color: #00af00\">64</span>)  │      <span style=\"color: #00af00; text-decoration-color: #00af00\">3,264</span> │ input_layer_5[<span style=\"color: #00af00; text-decoration-color: #00af00\">0</span>]… │\n",
              "├─────────────────────┼───────────────────┼────────────┼───────────────────┤\n",
              "│ dropout_3 (<span style=\"color: #0087ff; text-decoration-color: #0087ff\">Dropout</span>) │ (<span style=\"color: #00d7ff; text-decoration-color: #00d7ff\">None</span>, <span style=\"color: #00af00; text-decoration-color: #00af00\">2232</span>, <span style=\"color: #00af00; text-decoration-color: #00af00\">64</span>)  │          <span style=\"color: #00af00; text-decoration-color: #00af00\">0</span> │ conv1d_3[<span style=\"color: #00af00; text-decoration-color: #00af00\">0</span>][<span style=\"color: #00af00; text-decoration-color: #00af00\">0</span>]    │\n",
              "├─────────────────────┼───────────────────┼────────────┼───────────────────┤\n",
              "│ dropout_4 (<span style=\"color: #0087ff; text-decoration-color: #0087ff\">Dropout</span>) │ (<span style=\"color: #00d7ff; text-decoration-color: #00d7ff\">None</span>, <span style=\"color: #00af00; text-decoration-color: #00af00\">2332</span>, <span style=\"color: #00af00; text-decoration-color: #00af00\">64</span>)  │          <span style=\"color: #00af00; text-decoration-color: #00af00\">0</span> │ conv1d_4[<span style=\"color: #00af00; text-decoration-color: #00af00\">0</span>][<span style=\"color: #00af00; text-decoration-color: #00af00\">0</span>]    │\n",
              "├─────────────────────┼───────────────────┼────────────┼───────────────────┤\n",
              "│ dropout_5 (<span style=\"color: #0087ff; text-decoration-color: #0087ff\">Dropout</span>) │ (<span style=\"color: #00d7ff; text-decoration-color: #00d7ff\">None</span>, <span style=\"color: #00af00; text-decoration-color: #00af00\">2382</span>, <span style=\"color: #00af00; text-decoration-color: #00af00\">64</span>)  │          <span style=\"color: #00af00; text-decoration-color: #00af00\">0</span> │ conv1d_5[<span style=\"color: #00af00; text-decoration-color: #00af00\">0</span>][<span style=\"color: #00af00; text-decoration-color: #00af00\">0</span>]    │\n",
              "├─────────────────────┼───────────────────┼────────────┼───────────────────┤\n",
              "│ max_pooling1d_3     │ (<span style=\"color: #00d7ff; text-decoration-color: #00d7ff\">None</span>, <span style=\"color: #00af00; text-decoration-color: #00af00\">111</span>, <span style=\"color: #00af00; text-decoration-color: #00af00\">64</span>)   │          <span style=\"color: #00af00; text-decoration-color: #00af00\">0</span> │ dropout_3[<span style=\"color: #00af00; text-decoration-color: #00af00\">0</span>][<span style=\"color: #00af00; text-decoration-color: #00af00\">0</span>]   │\n",
              "│ (<span style=\"color: #0087ff; text-decoration-color: #0087ff\">MaxPooling1D</span>)      │                   │            │                   │\n",
              "├─────────────────────┼───────────────────┼────────────┼───────────────────┤\n",
              "│ max_pooling1d_4     │ (<span style=\"color: #00d7ff; text-decoration-color: #00d7ff\">None</span>, <span style=\"color: #00af00; text-decoration-color: #00af00\">233</span>, <span style=\"color: #00af00; text-decoration-color: #00af00\">64</span>)   │          <span style=\"color: #00af00; text-decoration-color: #00af00\">0</span> │ dropout_4[<span style=\"color: #00af00; text-decoration-color: #00af00\">0</span>][<span style=\"color: #00af00; text-decoration-color: #00af00\">0</span>]   │\n",
              "│ (<span style=\"color: #0087ff; text-decoration-color: #0087ff\">MaxPooling1D</span>)      │                   │            │                   │\n",
              "├─────────────────────┼───────────────────┼────────────┼───────────────────┤\n",
              "│ max_pooling1d_5     │ (<span style=\"color: #00d7ff; text-decoration-color: #00d7ff\">None</span>, <span style=\"color: #00af00; text-decoration-color: #00af00\">476</span>, <span style=\"color: #00af00; text-decoration-color: #00af00\">64</span>)   │          <span style=\"color: #00af00; text-decoration-color: #00af00\">0</span> │ dropout_5[<span style=\"color: #00af00; text-decoration-color: #00af00\">0</span>][<span style=\"color: #00af00; text-decoration-color: #00af00\">0</span>]   │\n",
              "│ (<span style=\"color: #0087ff; text-decoration-color: #0087ff\">MaxPooling1D</span>)      │                   │            │                   │\n",
              "├─────────────────────┼───────────────────┼────────────┼───────────────────┤\n",
              "│ flatten_3 (<span style=\"color: #0087ff; text-decoration-color: #0087ff\">Flatten</span>) │ (<span style=\"color: #00d7ff; text-decoration-color: #00d7ff\">None</span>, <span style=\"color: #00af00; text-decoration-color: #00af00\">7104</span>)      │          <span style=\"color: #00af00; text-decoration-color: #00af00\">0</span> │ max_pooling1d_3[<span style=\"color: #00af00; text-decoration-color: #00af00\">…</span> │\n",
              "├─────────────────────┼───────────────────┼────────────┼───────────────────┤\n",
              "│ flatten_4 (<span style=\"color: #0087ff; text-decoration-color: #0087ff\">Flatten</span>) │ (<span style=\"color: #00d7ff; text-decoration-color: #00d7ff\">None</span>, <span style=\"color: #00af00; text-decoration-color: #00af00\">14912</span>)     │          <span style=\"color: #00af00; text-decoration-color: #00af00\">0</span> │ max_pooling1d_4[<span style=\"color: #00af00; text-decoration-color: #00af00\">…</span> │\n",
              "├─────────────────────┼───────────────────┼────────────┼───────────────────┤\n",
              "│ flatten_5 (<span style=\"color: #0087ff; text-decoration-color: #0087ff\">Flatten</span>) │ (<span style=\"color: #00d7ff; text-decoration-color: #00d7ff\">None</span>, <span style=\"color: #00af00; text-decoration-color: #00af00\">30464</span>)     │          <span style=\"color: #00af00; text-decoration-color: #00af00\">0</span> │ max_pooling1d_5[<span style=\"color: #00af00; text-decoration-color: #00af00\">…</span> │\n",
              "├─────────────────────┼───────────────────┼────────────┼───────────────────┤\n",
              "│ concatenate_1       │ (<span style=\"color: #00d7ff; text-decoration-color: #00d7ff\">None</span>, <span style=\"color: #00af00; text-decoration-color: #00af00\">52480</span>)     │          <span style=\"color: #00af00; text-decoration-color: #00af00\">0</span> │ flatten_3[<span style=\"color: #00af00; text-decoration-color: #00af00\">0</span>][<span style=\"color: #00af00; text-decoration-color: #00af00\">0</span>],  │\n",
              "│ (<span style=\"color: #0087ff; text-decoration-color: #0087ff\">Concatenate</span>)       │                   │            │ flatten_4[<span style=\"color: #00af00; text-decoration-color: #00af00\">0</span>][<span style=\"color: #00af00; text-decoration-color: #00af00\">0</span>],  │\n",
              "│                     │                   │            │ flatten_5[<span style=\"color: #00af00; text-decoration-color: #00af00\">0</span>][<span style=\"color: #00af00; text-decoration-color: #00af00\">0</span>]   │\n",
              "├─────────────────────┼───────────────────┼────────────┼───────────────────┤\n",
              "│ dense_2 (<span style=\"color: #0087ff; text-decoration-color: #0087ff\">Dense</span>)     │ (<span style=\"color: #00d7ff; text-decoration-color: #00d7ff\">None</span>, <span style=\"color: #00af00; text-decoration-color: #00af00\">100</span>)       │  <span style=\"color: #00af00; text-decoration-color: #00af00\">5,248,100</span> │ concatenate_1[<span style=\"color: #00af00; text-decoration-color: #00af00\">0</span>]… │\n",
              "├─────────────────────┼───────────────────┼────────────┼───────────────────┤\n",
              "│ dense_3 (<span style=\"color: #0087ff; text-decoration-color: #0087ff\">Dense</span>)     │ (<span style=\"color: #00d7ff; text-decoration-color: #00d7ff\">None</span>, <span style=\"color: #00af00; text-decoration-color: #00af00\">9</span>)         │        <span style=\"color: #00af00; text-decoration-color: #00af00\">909</span> │ dense_2[<span style=\"color: #00af00; text-decoration-color: #00af00\">0</span>][<span style=\"color: #00af00; text-decoration-color: #00af00\">0</span>]     │\n",
              "└─────────────────────┴───────────────────┴────────────┴───────────────────┘\n",
              "</pre>\n"
            ]
          },
          "metadata": {}
        },
        {
          "output_type": "display_data",
          "data": {
            "text/plain": [
              "\u001b[1m Total params: \u001b[0m\u001b[38;5;34m5,271,601\u001b[0m (20.11 MB)\n"
            ],
            "text/html": [
              "<pre style=\"white-space:pre;overflow-x:auto;line-height:normal;font-family:Menlo,'DejaVu Sans Mono',consolas,'Courier New',monospace\"><span style=\"font-weight: bold\"> Total params: </span><span style=\"color: #00af00; text-decoration-color: #00af00\">5,271,601</span> (20.11 MB)\n",
              "</pre>\n"
            ]
          },
          "metadata": {}
        },
        {
          "output_type": "display_data",
          "data": {
            "text/plain": [
              "\u001b[1m Trainable params: \u001b[0m\u001b[38;5;34m5,271,601\u001b[0m (20.11 MB)\n"
            ],
            "text/html": [
              "<pre style=\"white-space:pre;overflow-x:auto;line-height:normal;font-family:Menlo,'DejaVu Sans Mono',consolas,'Courier New',monospace\"><span style=\"font-weight: bold\"> Trainable params: </span><span style=\"color: #00af00; text-decoration-color: #00af00\">5,271,601</span> (20.11 MB)\n",
              "</pre>\n"
            ]
          },
          "metadata": {}
        },
        {
          "output_type": "display_data",
          "data": {
            "text/plain": [
              "\u001b[1m Non-trainable params: \u001b[0m\u001b[38;5;34m0\u001b[0m (0.00 B)\n"
            ],
            "text/html": [
              "<pre style=\"white-space:pre;overflow-x:auto;line-height:normal;font-family:Menlo,'DejaVu Sans Mono',consolas,'Courier New',monospace\"><span style=\"font-weight: bold\"> Non-trainable params: </span><span style=\"color: #00af00; text-decoration-color: #00af00\">0</span> (0.00 B)\n",
              "</pre>\n"
            ]
          },
          "metadata": {}
        }
      ]
    },
    {
      "cell_type": "code",
      "source": [
        "batch_size =100\n",
        "epochs = 20\n",
        "history = cnn_model.fit([X_train,X_train,X_train], y_train, batch_size=batch_size,epochs=epochs,verbose=1,validation_data=([X_test,X_test,X_test],y_test),shuffle=True)"
      ],
      "metadata": {
        "colab": {
          "base_uri": "https://localhost:8080/"
        },
        "id": "2Lxm-qvKM3oN",
        "outputId": "f43351a5-327f-42fa-efca-f2c71b648fd2"
      },
      "id": "2Lxm-qvKM3oN",
      "execution_count": 38,
      "outputs": [
        {
          "output_type": "stream",
          "name": "stdout",
          "text": [
            "Epoch 1/20\n",
            "\u001b[1m16/16\u001b[0m \u001b[32m━━━━━━━━━━━━━━━━━━━━\u001b[0m\u001b[37m\u001b[0m \u001b[1m25s\u001b[0m 793ms/step - accuracy: 0.1292 - loss: 4.0359 - val_accuracy: 0.2774 - val_loss: 3.4610\n",
            "Epoch 2/20\n",
            "\u001b[1m16/16\u001b[0m \u001b[32m━━━━━━━━━━━━━━━━━━━━\u001b[0m\u001b[37m\u001b[0m \u001b[1m21s\u001b[0m 35ms/step - accuracy: 0.3499 - loss: 3.0328 - val_accuracy: 0.5252 - val_loss: 3.1144\n",
            "Epoch 3/20\n",
            "\u001b[1m16/16\u001b[0m \u001b[32m━━━━━━━━━━━━━━━━━━━━\u001b[0m\u001b[37m\u001b[0m \u001b[1m1s\u001b[0m 32ms/step - accuracy: 0.6049 - loss: 2.4451 - val_accuracy: 0.7033 - val_loss: 2.7507\n",
            "Epoch 4/20\n",
            "\u001b[1m16/16\u001b[0m \u001b[32m━━━━━━━━━━━━━━━━━━━━\u001b[0m\u001b[37m\u001b[0m \u001b[1m1s\u001b[0m 32ms/step - accuracy: 0.7648 - loss: 2.1603 - val_accuracy: 0.8101 - val_loss: 2.4428\n",
            "Epoch 5/20\n",
            "\u001b[1m16/16\u001b[0m \u001b[32m━━━━━━━━━━━━━━━━━━━━\u001b[0m\u001b[37m\u001b[0m \u001b[1m1s\u001b[0m 32ms/step - accuracy: 0.8585 - loss: 1.8760 - val_accuracy: 0.8220 - val_loss: 2.2708\n",
            "Epoch 6/20\n",
            "\u001b[1m16/16\u001b[0m \u001b[32m━━━━━━━━━━━━━━━━━━━━\u001b[0m\u001b[37m\u001b[0m \u001b[1m1s\u001b[0m 37ms/step - accuracy: 0.8702 - loss: 1.8785 - val_accuracy: 0.8457 - val_loss: 2.2069\n",
            "Epoch 7/20\n",
            "\u001b[1m16/16\u001b[0m \u001b[32m━━━━━━━━━━━━━━━━━━━━\u001b[0m\u001b[37m\u001b[0m \u001b[1m1s\u001b[0m 32ms/step - accuracy: 0.8885 - loss: 1.7492 - val_accuracy: 0.8546 - val_loss: 2.1841\n",
            "Epoch 8/20\n",
            "\u001b[1m16/16\u001b[0m \u001b[32m━━━━━━━━━━━━━━━━━━━━\u001b[0m\u001b[37m\u001b[0m \u001b[1m1s\u001b[0m 33ms/step - accuracy: 0.8808 - loss: 1.7544 - val_accuracy: 0.8427 - val_loss: 2.1781\n",
            "Epoch 9/20\n",
            "\u001b[1m16/16\u001b[0m \u001b[32m━━━━━━━━━━━━━━━━━━━━\u001b[0m\u001b[37m\u001b[0m \u001b[1m1s\u001b[0m 39ms/step - accuracy: 0.8704 - loss: 1.6820 - val_accuracy: 0.8353 - val_loss: 2.1605\n",
            "Epoch 10/20\n",
            "\u001b[1m16/16\u001b[0m \u001b[32m━━━━━━━━━━━━━━━━━━━━\u001b[0m\u001b[37m\u001b[0m \u001b[1m1s\u001b[0m 39ms/step - accuracy: 0.8688 - loss: 1.8198 - val_accuracy: 0.8383 - val_loss: 2.1548\n",
            "Epoch 11/20\n",
            "\u001b[1m16/16\u001b[0m \u001b[32m━━━━━━━━━━━━━━━━━━━━\u001b[0m\u001b[37m\u001b[0m \u001b[1m1s\u001b[0m 33ms/step - accuracy: 0.8830 - loss: 1.7575 - val_accuracy: 0.8442 - val_loss: 2.1386\n",
            "Epoch 12/20\n",
            "\u001b[1m16/16\u001b[0m \u001b[32m━━━━━━━━━━━━━━━━━━━━\u001b[0m\u001b[37m\u001b[0m \u001b[1m1s\u001b[0m 38ms/step - accuracy: 0.8981 - loss: 1.6078 - val_accuracy: 0.8709 - val_loss: 2.1090\n",
            "Epoch 13/20\n",
            "\u001b[1m16/16\u001b[0m \u001b[32m━━━━━━━━━━━━━━━━━━━━\u001b[0m\u001b[37m\u001b[0m \u001b[1m1s\u001b[0m 32ms/step - accuracy: 0.8877 - loss: 1.8014 - val_accuracy: 0.8665 - val_loss: 2.0867\n",
            "Epoch 14/20\n",
            "\u001b[1m16/16\u001b[0m \u001b[32m━━━━━━━━━━━━━━━━━━━━\u001b[0m\u001b[37m\u001b[0m \u001b[1m1s\u001b[0m 32ms/step - accuracy: 0.8981 - loss: 1.6513 - val_accuracy: 0.8650 - val_loss: 2.0879\n",
            "Epoch 15/20\n",
            "\u001b[1m16/16\u001b[0m \u001b[32m━━━━━━━━━━━━━━━━━━━━\u001b[0m\u001b[37m\u001b[0m \u001b[1m1s\u001b[0m 32ms/step - accuracy: 0.8947 - loss: 1.7060 - val_accuracy: 0.8650 - val_loss: 2.0789\n",
            "Epoch 16/20\n",
            "\u001b[1m16/16\u001b[0m \u001b[32m━━━━━━━━━━━━━━━━━━━━\u001b[0m\u001b[37m\u001b[0m \u001b[1m1s\u001b[0m 33ms/step - accuracy: 0.8936 - loss: 1.7222 - val_accuracy: 0.8650 - val_loss: 2.0775\n",
            "Epoch 17/20\n",
            "\u001b[1m16/16\u001b[0m \u001b[32m━━━━━━━━━━━━━━━━━━━━\u001b[0m\u001b[37m\u001b[0m \u001b[1m1s\u001b[0m 32ms/step - accuracy: 0.8946 - loss: 1.7044 - val_accuracy: 0.8650 - val_loss: 2.0753\n",
            "Epoch 18/20\n",
            "\u001b[1m16/16\u001b[0m \u001b[32m━━━━━━━━━━━━━━━━━━━━\u001b[0m\u001b[37m\u001b[0m \u001b[1m1s\u001b[0m 32ms/step - accuracy: 0.8945 - loss: 1.7063 - val_accuracy: 0.8635 - val_loss: 2.0723\n",
            "Epoch 19/20\n",
            "\u001b[1m16/16\u001b[0m \u001b[32m━━━━━━━━━━━━━━━━━━━━\u001b[0m\u001b[37m\u001b[0m \u001b[1m1s\u001b[0m 32ms/step - accuracy: 0.8904 - loss: 1.7712 - val_accuracy: 0.8635 - val_loss: 2.0736\n",
            "Epoch 20/20\n",
            "\u001b[1m16/16\u001b[0m \u001b[32m━━━━━━━━━━━━━━━━━━━━\u001b[0m\u001b[37m\u001b[0m \u001b[1m1s\u001b[0m 33ms/step - accuracy: 0.8929 - loss: 1.7317 - val_accuracy: 0.8635 - val_loss: 2.0700\n"
          ]
        }
      ]
    },
    {
      "cell_type": "code",
      "source": [
        "def inv_Transform_result(y_pred):\n",
        "    y_pred = y_pred.argmax(axis=1)\n",
        "    y_pred = encoder.inverse_transform(y_pred)\n",
        "    return y_pred\n",
        "\n",
        "\n",
        "\n",
        "y_pred=cnn_model.predict([X_test,X_test,X_test])\n",
        "\n",
        "\n",
        "Y_pred=inv_Transform_result(y_pred)\n",
        "Y_test = inv_Transform_result(y_test)\n",
        "\n",
        "\n",
        "\n",
        "\n",
        "from sklearn.metrics import confusion_matrix\n",
        "\n",
        "\n",
        "plt.figure(figsize=(10,10))\n",
        "cm = confusion_matrix(Y_test, Y_pred,normalize='true')\n",
        "f = sns.heatmap(cm, annot=True,xticklabels=encoder.classes_,yticklabels=encoder.classes_)"
      ],
      "metadata": {
        "colab": {
          "base_uri": "https://localhost:8080/",
          "height": 1000
        },
        "id": "pbBmkBjlM5ks",
        "outputId": "73027076-f602-4299-c313-abf4a2f00456"
      },
      "id": "pbBmkBjlM5ks",
      "execution_count": 39,
      "outputs": [
        {
          "output_type": "stream",
          "name": "stdout",
          "text": [
            "\u001b[1m22/22\u001b[0m \u001b[32m━━━━━━━━━━━━━━━━━━━━\u001b[0m\u001b[37m\u001b[0m \u001b[1m1s\u001b[0m 25ms/step\n"
          ]
        },
        {
          "output_type": "display_data",
          "data": {
            "text/plain": [
              "<Figure size 1000x1000 with 2 Axes>"
            ],
            "image/png": "[encoded data removed]"
          },
          "metadata": {}
        }
      ]
    },
    {
      "cell_type": "code",
      "source": [
        "dummy_cnn = Model(inputs=cnn_model.input,outputs=cnn_model.layers[16].output)\n",
        "y_viz = dummy_cnn.predict([X_train,X_train,X_train])"
      ],
      "metadata": {
        "colab": {
          "base_uri": "https://localhost:8080/"
        },
        "id": "3tgRx2TxM-GS",
        "outputId": "6d99162f-199b-4804-a427-1f7af3c31c58"
      },
      "id": "3tgRx2TxM-GS",
      "execution_count": 40,
      "outputs": [
        {
          "output_type": "stream",
          "name": "stdout",
          "text": [
            "\u001b[1m50/50\u001b[0m \u001b[32m━━━━━━━━━━━━━━━━━━━━\u001b[0m\u001b[37m\u001b[0m \u001b[1m1s\u001b[0m 12ms/step\n"
          ]
        }
      ]
    },
    {
      "cell_type": "code",
      "source": [
        "import pandas as pd\n",
        "import seaborn as sns\n",
        "import matplotlib.pyplot as plt\n",
        "from sklearn.manifold import TSNE\n",
        "\n",
        "# Apply t-SNE transformation\n",
        "X_t_sne = TSNE(\n",
        "    n_components=2,\n",
        "    learning_rate='auto',\n",
        "    verbose=2,  # Increase verbosity for more detailed feedback\n",
        "    perplexity=40,\n",
        "    n_iter=500  # Slightly increased number of iterations for convergence\n",
        ").fit_transform(y_viz)\n",
        "\n",
        "# Create DataFrame for t-SNE components\n",
        "tSNEdf = pd.DataFrame(data=X_t_sne, columns=['T-SNE component 1', 'T-SNE component 2'])\n",
        "\n",
        "# Assuming `inv_Transform_result` transforms `y_train` to get the Fault labels\n",
        "tSNEdf['Fault'] = inv_Transform_result(y_train)\n",
        "\n",
        "# Save the t-SNE DataFrame as a CSV file\n",
        "tSNEdf.to_csv('/content/drive/MyDrive/MK-DCNN CWRU/NOISE_20_tSNE_results.csv', index=True)\n",
        "print(\"t-SNE results saved as '/content/drive/MyDrive/MK-DCNN CWRU/NOISE_20_tSNE_results.csv'.\")\n",
        "\n",
        "# # Plot the t-SNE results with Fault as hue\n",
        "# plt.figure(figsize=(12, 12))  # Larger figure for clarity\n",
        "# sns.scatterplot(\n",
        "#     x='T-SNE component 1',\n",
        "#     y='T-SNE component 2',\n",
        "#     hue='Fault',\n",
        "#     palette=sns.color_palette(\"husl\", as_cmap=False),  # Vivid color palette\n",
        "#     data=tSNEdf,\n",
        "#     legend=\"full\",\n",
        "#     alpha=0.7,  # Increased transparency for better overlap clarity\n",
        "#     s=100  # Larger marker size\n",
        "# )\n",
        "\n",
        "# # Add gridlines for better visualization\n",
        "# plt.grid\n",
        "\n",
        "\n",
        "# Optional: Visualization of t-SNE representation\n",
        "plt.figure(figsize=(8, 6))\n",
        "for label in tSNEdf['Fault'].unique():\n",
        "    subset = tSNEdf[tSNEdf['Fault'] == label]\n",
        "    plt.scatter(subset['T-SNE component 1'], subset['T-SNE component 2'], label=f'Fault {label}', alpha=0.7)\n",
        "\n",
        "plt.title('t-SNE Representation of Motor Fault Dataset')\n",
        "plt.xlabel('t-SNE 1')\n",
        "plt.ylabel('t-SNE 2')\n",
        "plt.legend()\n",
        "plt.show()"
      ],
      "metadata": {
        "colab": {
          "base_uri": "https://localhost:8080/",
          "height": 946
        },
        "id": "uic9AVV2NBah",
        "outputId": "7b871cf7-884b-4840-cea9-a2d457d4cb68"
      },
      "id": "uic9AVV2NBah",
      "execution_count": 41,
      "outputs": [
        {
          "output_type": "stream",
          "name": "stdout",
          "text": [
            "[t-SNE] Computing 121 nearest neighbors...\n",
            "[t-SNE] Indexed 1570 samples in 0.001s...\n",
            "[t-SNE] Computed neighbors for 1570 samples in 0.103s...\n",
            "[t-SNE] Computed conditional probabilities for sample 1000 / 1570\n",
            "[t-SNE] Computed conditional probabilities for sample 1570 / 1570\n",
            "[t-SNE] Mean sigma: 1.461009\n",
            "[t-SNE] Computed conditional probabilities in 0.054s\n"
          ]
        },
        {
          "output_type": "stream",
          "name": "stderr",
          "text": [
            "/usr/local/lib/python3.11/dist-packages/sklearn/manifold/_t_sne.py:1164: FutureWarning: 'n_iter' was renamed to 'max_iter' in version 1.5 and will be removed in 1.7.\n",
            "  warnings.warn(\n"
          ]
        },
        {
          "output_type": "stream",
          "name": "stdout",
          "text": [
            "[t-SNE] Iteration 50: error = 56.1817322, gradient norm = 0.0424379 (50 iterations in 0.585s)\n",
            "[t-SNE] Iteration 100: error = 51.3544998, gradient norm = 0.0159742 (50 iterations in 0.430s)\n",
            "[t-SNE] Iteration 150: error = 50.1776962, gradient norm = 0.0103157 (50 iterations in 0.529s)\n",
            "[t-SNE] Iteration 200: error = 49.6091385, gradient norm = 0.0076135 (50 iterations in 0.628s)\n",
            "[t-SNE] Iteration 250: error = 49.2475281, gradient norm = 0.0062203 (50 iterations in 0.622s)\n",
            "[t-SNE] KL divergence after 250 iterations with early exaggeration: 49.247528\n",
            "[t-SNE] Iteration 300: error = 0.8690901, gradient norm = 0.0153982 (50 iterations in 0.639s)\n",
            "[t-SNE] Iteration 350: error = 0.6226915, gradient norm = 0.0142080 (50 iterations in 0.696s)\n",
            "[t-SNE] Iteration 400: error = 0.5199080, gradient norm = 0.0121171 (50 iterations in 0.653s)\n",
            "[t-SNE] Iteration 450: error = 0.4679767, gradient norm = 0.0107420 (50 iterations in 0.459s)\n",
            "[t-SNE] Iteration 500: error = 0.4375235, gradient norm = 0.0096210 (50 iterations in 0.442s)\n",
            "[t-SNE] KL divergence after 500 iterations: 0.437523\n",
            "t-SNE results saved as '/content/drive/MyDrive/MK-DCNN CWRU/NOISE_20_tSNE_results.csv'.\n"
          ]
        },
        {
          "output_type": "display_data",
          "data": {
            "text/plain": [
              "<Figure size 800x600 with 1 Axes>"
            ],
            "image/png": "[encoded data removed]"
          },
          "metadata": {}
        }
      ]
    },
    {
      "cell_type": "markdown",
      "source": [
        "Statistical Features"
      ],
      "metadata": {
        "id": "PRuXPOIH6cTH"
      },
      "id": "PRuXPOIH6cTH"
    },
    {
      "cell_type": "code",
      "source": [
        "import numpy as np\n",
        "from scipy.stats import skew, kurtosis\n",
        "import pandas as pd\n",
        "import matplotlib.pyplot as plt\n",
        "\n",
        "# Total target rows\n",
        "TARGET_ROWS = 1800\n",
        "\n",
        "# Estimate the total number of samples across all fault types\n",
        "total_samples = sum(len(df[df['fault'] == f]) for f in df['fault'].unique())\n",
        "\n",
        "# Calculate suitable window size and stride\n",
        "num_faults = 9\n",
        "average_samples_per_fault = total_samples / num_faults\n",
        "approx_windows_per_fault = TARGET_ROWS / num_faults\n",
        "stride_ratio = 0.8  # Initial stride/window ratio\n",
        "\n",
        "WINDOW_SIZE = int(average_samples_per_fault / approx_windows_per_fault)\n",
        "STRIDE = int(WINDOW_SIZE * stride_ratio)\n",
        "\n",
        "print(f\"Calculated WINDOW_SIZE: {WINDOW_SIZE}, STRIDE: {STRIDE}\")\n",
        "\n",
        "# Initialize a list to store statistical features\n",
        "statistical_features = []\n",
        "\n",
        "# Loop through each fault type\n",
        "for f in df['fault'].unique():\n",
        "    # Extract data for the current fault type\n",
        "    fault_data = df[df['fault'] == f].iloc[:, 0].values  # Convert to NumPy array for efficiency\n",
        "\n",
        "    # Compute windows using sliding window approach\n",
        "    num_windows = (len(fault_data) - WINDOW_SIZE) // STRIDE + 1\n",
        "    for i in range(num_windows):\n",
        "        start = i * STRIDE\n",
        "        end = start + WINDOW_SIZE\n",
        "        window = fault_data[start:end]\n",
        "\n",
        "        # Compute statistical features for the current window\n",
        "        mean_val = np.mean(window)\n",
        "        std_val = np.std(window)\n",
        "        rms_val = np.sqrt(np.mean(np.square(window)))\n",
        "        max_val = np.max(window)\n",
        "        min_val = np.min(window)\n",
        "        skewness_val = skew(window)\n",
        "        kurtosis_val = kurtosis(window)\n",
        "\n",
        "        # Additional statistical features\n",
        "        mean_abs_val = np.mean(np.abs(window))\n",
        "        form_factor = rms_val / mean_abs_val if mean_abs_val != 0 else 0\n",
        "        crest_factor = max_val / rms_val if rms_val != 0 else 0\n",
        "\n",
        "        # Store the features in a dictionary\n",
        "        statistical_features.append({\n",
        "            'fault': f,\n",
        "            'window': i + 1,\n",
        "            'mean': mean_val,\n",
        "            'std': std_val,\n",
        "            'rms': rms_val,\n",
        "            'max': max_val,\n",
        "            'min': min_val,\n",
        "            'skewness': skewness_val,\n",
        "            'kurtosis': kurtosis_val,\n",
        "            'form_factor': form_factor,\n",
        "            'crest_factor': crest_factor\n",
        "        })\n",
        "\n",
        "# Convert statistical features into a DataFrame\n",
        "stat_features_df = pd.DataFrame(statistical_features)\n",
        "\n",
        "# Display the extracted features and count of rows\n",
        "print(f\"Extracted {len(stat_features_df)} rows (target: {TARGET_ROWS})\")\n",
        "print(stat_features_df)\n",
        "\n",
        "# Save the extracted features to a CSV file\n",
        "output_file = \"/content/drive/MyDrive/MK-DCNN CWRU/NOISE_20_statistical_features_with_form_and_crest_factors.csv\"\n",
        "stat_features_df.to_csv(output_file, index=False)\n",
        "print(f\"Statistical features saved to '{output_file}'.\")\n"
      ],
      "metadata": {
        "colab": {
          "base_uri": "https://localhost:8080/"
        },
        "id": "HRTIq9cYQgjC",
        "outputId": "d7512f8e-beca-4eb5-ea94-ea9444b4c37c"
      },
      "id": "HRTIq9cYQgjC",
      "execution_count": 42,
      "outputs": [
        {
          "output_type": "stream",
          "name": "stdout",
          "text": [
            "Calculated WINDOW_SIZE: 2431, STRIDE: 1944\n",
            "Extracted 2244 rows (target: 1800)\n",
            "                     fault  window      mean       std       rms       max  \\\n",
            "0     Noise_20_IR007_1_110       1  0.021539  0.284861  0.285674  1.586676   \n",
            "1     Noise_20_IR007_1_110       2  0.022262  0.285338  0.286205  1.353412   \n",
            "2     Noise_20_IR007_1_110       3  0.019707  0.274768  0.275473  1.549092   \n",
            "3     Noise_20_IR007_1_110       4  0.021170  0.282469  0.283262  1.415228   \n",
            "4     Noise_20_IR007_1_110       5  0.021637  0.277999  0.278840  1.557334   \n",
            "...                    ...     ...       ...       ...       ...       ...   \n",
            "2239   Noise_20_B021_1_227     246  0.013300  0.194222  0.194677  0.598591   \n",
            "2240   Noise_20_B021_1_227     247  0.015658  0.187913  0.188565  0.598591   \n",
            "2241   Noise_20_B021_1_227     248  0.015957  0.147979  0.148837  0.617769   \n",
            "2242   Noise_20_B021_1_227     249  0.014393  0.184386  0.184947  0.654264   \n",
            "2243   Noise_20_B021_1_227     250  0.014081  0.181083  0.181630  0.607846   \n",
            "\n",
            "           min  skewness  kurtosis  form_factor  crest_factor  \n",
            "0    -1.464449 -0.173263  4.964655     1.459485      5.554144  \n",
            "1    -1.427989 -0.139259  4.096316     1.446344      4.728824  \n",
            "2    -1.409352 -0.261329  4.727916     1.461548      5.623383  \n",
            "3    -1.180890  0.190134  4.029180     1.457561      4.996189  \n",
            "4    -1.294093  0.094772  4.390472     1.472085      5.585042  \n",
            "...        ...       ...       ...          ...           ...  \n",
            "2239 -0.580300  0.045554 -0.253588     1.247313      3.074795  \n",
            "2240 -0.506607  0.012541 -0.188986     1.249314      3.174463  \n",
            "2241 -0.649610  0.011904  0.933422     1.271374      4.150637  \n",
            "2242 -0.631269  0.036148  0.230013     1.260138      3.537572  \n",
            "2243 -0.576507  0.118070  0.309466     1.263740      3.346619  \n",
            "\n",
            "[2244 rows x 11 columns]\n",
            "Statistical features saved to '/content/drive/MyDrive/MK-DCNN CWRU/NOISE_20_statistical_features_with_form_and_crest_factors.csv'.\n"
          ]
        }
      ]
    },
    {
      "cell_type": "code",
      "source": [
        "import pandas as pd\n",
        "from sklearn.utils import resample\n",
        "\n",
        "# Load your dataset (replace 'your_dataset.csv' with your actual file)\n",
        "df = pd.read_csv('/content/drive/MyDrive/MK-DCNN CWRU/NOISE_20_statistical_features_with_form_and_crest_factors.csv')\n",
        "\n",
        "# Display initial class distribution\n",
        "print(\"Initial class distribution:\")\n",
        "print(df['fault'].value_counts())\n",
        "\n",
        "# Target size for undersampling/resampling\n",
        "TARGET_ROWS = 1570\n",
        "\n",
        "# Separate all fault types\n",
        "fault_classes = df['fault'].value_counts()\n",
        "\n",
        "# Determine the number of classes\n",
        "num_classes = len(fault_classes)\n",
        "\n",
        "# Calculate how many samples to take from each class\n",
        "samples_per_class = TARGET_ROWS // num_classes\n",
        "\n",
        "# Initialize a list to store resampled data\n",
        "resampled_data = []\n",
        "\n",
        "# Loop over each class to resample them\n",
        "for fault_class in fault_classes.index:\n",
        "    class_data = df[df['fault'] == fault_class]\n",
        "    if len(class_data) > samples_per_class:\n",
        "        # Undersample\n",
        "        class_data_resampled = resample(class_data, replace=False, n_samples=samples_per_class, random_state=42)\n",
        "    else:\n",
        "        # Upsample\n",
        "        class_data_resampled = resample(class_data, replace=True, n_samples=samples_per_class, random_state=42)\n",
        "\n",
        "    resampled_data.append(class_data_resampled)\n",
        "\n",
        "# Concatenate the resampled data into a single DataFrame\n",
        "balanced_df = pd.concat(resampled_data)\n",
        "\n",
        "# Check if we have the exact number of rows\n",
        "current_rows = len(balanced_df)\n",
        "print(f\"Current rows after equal resampling: {current_rows}\")\n",
        "\n",
        "# If the current rows don't match the target rows, adjust by trimming or adding rows\n",
        "if current_rows > TARGET_ROWS:\n",
        "    # Trim extra rows (if more than target)\n",
        "    balanced_df = balanced_df.head(TARGET_ROWS)\n",
        "elif current_rows < TARGET_ROWS:\n",
        "    # Add rows if fewer than target, by sampling from existing data\n",
        "    remaining_rows = TARGET_ROWS - current_rows\n",
        "    additional_data = balanced_df.sample(n=remaining_rows, replace=True, random_state=42)\n",
        "    balanced_df = pd.concat([balanced_df, additional_data])\n",
        "\n",
        "# Shuffle the final dataset\n",
        "balanced_df = balanced_df.sample(frac=1, random_state=42).reset_index(drop=True)\n",
        "\n",
        "# Display new class distribution\n",
        "print(\"New class distribution:\")\n",
        "print(balanced_df['fault'].value_counts())\n",
        "\n",
        "# Display final row count\n",
        "print(f\"Final row count: {len(balanced_df)}\")\n",
        "\n",
        "# Save the balanced dataset to a CSV file\n",
        "balanced_df.to_csv(\"/content/drive/MyDrive/MK-DCNN CWRU/NOISE_20_balanced_dataset_equal_resampling_exact_1570.csv\", index=False)\n",
        "print(\"Balanced dataset saved as '/content/drive/MyDrive/MK-DCNN CWRU/NOISE_20_balanced_dataset_equal_resampling_exact_1570.csv'\")\n"
      ],
      "metadata": {
        "id": "0-DLTbJL0tc6",
        "colab": {
          "base_uri": "https://localhost:8080/"
        },
        "outputId": "bf2ed29b-1250-40a4-f490-027d5e52ab03"
      },
      "id": "0-DLTbJL0tc6",
      "execution_count": 43,
      "outputs": [
        {
          "output_type": "stream",
          "name": "stdout",
          "text": [
            "Initial class distribution:\n",
            "fault\n",
            "Noise_20_OR021_6_1_239         251\n",
            "Noise_20_B007_1_123            250\n",
            "Noise_20_B021_1_227            250\n",
            "Noise_20_OR007_6_1_136         250\n",
            "Noise_20_IR007_1_110           249\n",
            "Noise_20_B014_1_190            249\n",
            "Noise_20_IR021_1_214           249\n",
            "Noise_20__Time_Normal_1_098    248\n",
            "Noise_20_OR014_6_1_202         248\n",
            "Name: count, dtype: int64\n",
            "Current rows after equal resampling: 1566\n",
            "New class distribution:\n",
            "fault\n",
            "Noise_20_OR014_6_1_202         175\n",
            "Noise_20_IR021_1_214           175\n",
            "Noise_20__Time_Normal_1_098    175\n",
            "Noise_20_IR007_1_110           175\n",
            "Noise_20_B014_1_190            174\n",
            "Noise_20_OR007_6_1_136         174\n",
            "Noise_20_B021_1_227            174\n",
            "Noise_20_B007_1_123            174\n",
            "Noise_20_OR021_6_1_239         174\n",
            "Name: count, dtype: int64\n",
            "Final row count: 1570\n",
            "Balanced dataset saved as '/content/drive/MyDrive/MK-DCNN CWRU/NOISE_20_balanced_dataset_equal_resampling_exact_1570.csv'\n"
          ]
        }
      ]
    },
    {
      "cell_type": "code",
      "source": [
        "balanced_df.shape"
      ],
      "metadata": {
        "id": "NQ3f_WOt7Dld",
        "colab": {
          "base_uri": "https://localhost:8080/"
        },
        "outputId": "47b34391-ee93-4747-fae8-67c1e3720e09"
      },
      "id": "NQ3f_WOt7Dld",
      "execution_count": 44,
      "outputs": [
        {
          "output_type": "execute_result",
          "data": {
            "text/plain": [
              "(1570, 11)"
            ]
          },
          "metadata": {},
          "execution_count": 44
        }
      ]
    },
    {
      "cell_type": "code",
      "source": [
        "balanced_df=balanced_df.sort_values(by='fault')"
      ],
      "metadata": {
        "id": "JP_zDzu6_Zkt"
      },
      "id": "JP_zDzu6_Zkt",
      "execution_count": 45,
      "outputs": []
    },
    {
      "cell_type": "code",
      "source": [
        "balanced_df"
      ],
      "metadata": {
        "id": "eq6MhY1CAvgD",
        "colab": {
          "base_uri": "https://localhost:8080/",
          "height": 457
        },
        "outputId": "285888ea-015d-46b5-d780-337274316376"
      },
      "id": "eq6MhY1CAvgD",
      "execution_count": 46,
      "outputs": [
        {
          "output_type": "execute_result",
          "data": {
            "text/plain": [
              "                            fault  window      mean       std       rms  \\\n",
              "101           Noise_20_B007_1_123      65  0.019177  0.124292  0.125763   \n",
              "125           Noise_20_B007_1_123       1  0.019461  0.125228  0.126731   \n",
              "1352          Noise_20_B007_1_123      42  0.020267  0.144646  0.146059   \n",
              "1353          Noise_20_B007_1_123     101  0.017768  0.138824  0.139956   \n",
              "1469          Noise_20_B007_1_123     241  0.019190  0.146410  0.147662   \n",
              "...                           ...     ...       ...       ...       ...   \n",
              "565   Noise_20__Time_Normal_1_098     153  0.011774  0.067514  0.068533   \n",
              "184   Noise_20__Time_Normal_1_098     148  0.010847  0.066774  0.067649   \n",
              "1130  Noise_20__Time_Normal_1_098      17  0.010031  0.063425  0.064213   \n",
              "441   Noise_20__Time_Normal_1_098      40  0.010648  0.063420  0.064308   \n",
              "1388  Noise_20__Time_Normal_1_098     127  0.015414  0.067002  0.068752   \n",
              "\n",
              "           max       min  skewness  kurtosis  form_factor  crest_factor  \n",
              "101   0.436231 -0.329550  0.036383 -0.190864     1.251902      3.468669  \n",
              "125   0.418728 -0.427906 -0.080988 -0.065711     1.248037      3.304075  \n",
              "1352  0.434687 -0.442048 -0.066199 -0.295157     1.237866      2.976109  \n",
              "1353  0.500270 -0.422239  0.029395  0.236381     1.269766      3.574472  \n",
              "1469  0.505042 -0.565174 -0.028410  0.429802     1.271448      3.420254  \n",
              "...        ...       ...       ...       ...          ...           ...  \n",
              "565   0.201298 -0.219301 -0.273959 -0.044652     1.243141      2.937255  \n",
              "184   0.238132 -0.187446 -0.102387 -0.139532     1.240396      3.520113  \n",
              "1130  0.201127 -0.251943 -0.213459 -0.075773     1.232101      3.132200  \n",
              "441   0.195499 -0.170126 -0.158017 -0.367093     1.223274      3.040056  \n",
              "1388  0.248573 -0.209934 -0.068316 -0.071814     1.244518      3.615485  \n",
              "\n",
              "[1570 rows x 11 columns]"
            ],
            "text/html": [
              "\n",
              "  <div id=\"df-8869733b-0a80-4869-b659-f9cc29bc3851\" class=\"colab-df-container\">\n",
              "    <div>\n",
              "<style scoped>\n",
              "    .dataframe tbody tr th:only-of-type {\n",
              "        vertical-align: middle;\n",
              "    }\n",
              "\n",
              "    .dataframe tbody tr th {\n",
              "        vertical-align: top;\n",
              "    }\n",
              "\n",
              "    .dataframe thead th {\n",
              "        text-align: right;\n",
              "    }\n",
              "</style>\n",
              "<table border=\"1\" class=\"dataframe\">\n",
              "  <thead>\n",
              "    <tr style=\"text-align: right;\">\n",
              "      <th></th>\n",
              "      <th>fault</th>\n",
              "      <th>window</th>\n",
              "      <th>mean</th>\n",
              "      <th>std</th>\n",
              "      <th>rms</th>\n",
              "      <th>max</th>\n",
              "      <th>min</th>\n",
              "      <th>skewness</th>\n",
              "      <th>kurtosis</th>\n",
              "      <th>form_factor</th>\n",
              "      <th>crest_factor</th>\n",
              "    </tr>\n",
              "  </thead>\n",
              "  <tbody>\n",
              "    <tr>\n",
              "      <th>101</th>\n",
              "      <td>Noise_20_B007_1_123</td>\n",
              "      <td>65</td>\n",
              "      <td>0.019177</td>\n",
              "      <td>0.124292</td>\n",
              "      <td>0.125763</td>\n",
              "      <td>0.436231</td>\n",
              "      <td>-0.329550</td>\n",
              "      <td>0.036383</td>\n",
              "      <td>-0.190864</td>\n",
              "      <td>1.251902</td>\n",
              "      <td>3.468669</td>\n",
              "    </tr>\n",
              "    <tr>\n",
              "      <th>125</th>\n",
              "      <td>Noise_20_B007_1_123</td>\n",
              "      <td>1</td>\n",
              "      <td>0.019461</td>\n",
              "      <td>0.125228</td>\n",
              "      <td>0.126731</td>\n",
              "      <td>0.418728</td>\n",
              "      <td>-0.427906</td>\n",
              "      <td>-0.080988</td>\n",
              "      <td>-0.065711</td>\n",
              "      <td>1.248037</td>\n",
              "      <td>3.304075</td>\n",
              "    </tr>\n",
              "    <tr>\n",
              "      <th>1352</th>\n",
              "      <td>Noise_20_B007_1_123</td>\n",
              "      <td>42</td>\n",
              "      <td>0.020267</td>\n",
              "      <td>0.144646</td>\n",
              "      <td>0.146059</td>\n",
              "      <td>0.434687</td>\n",
              "      <td>-0.442048</td>\n",
              "      <td>-0.066199</td>\n",
              "      <td>-0.295157</td>\n",
              "      <td>1.237866</td>\n",
              "      <td>2.976109</td>\n",
              "    </tr>\n",
              "    <tr>\n",
              "      <th>1353</th>\n",
              "      <td>Noise_20_B007_1_123</td>\n",
              "      <td>101</td>\n",
              "      <td>0.017768</td>\n",
              "      <td>0.138824</td>\n",
              "      <td>0.139956</td>\n",
              "      <td>0.500270</td>\n",
              "      <td>-0.422239</td>\n",
              "      <td>0.029395</td>\n",
              "      <td>0.236381</td>\n",
              "      <td>1.269766</td>\n",
              "      <td>3.574472</td>\n",
              "    </tr>\n",
              "    <tr>\n",
              "      <th>1469</th>\n",
              "      <td>Noise_20_B007_1_123</td>\n",
              "      <td>241</td>\n",
              "      <td>0.019190</td>\n",
              "      <td>0.146410</td>\n",
              "      <td>0.147662</td>\n",
              "      <td>0.505042</td>\n",
              "      <td>-0.565174</td>\n",
              "      <td>-0.028410</td>\n",
              "      <td>0.429802</td>\n",
              "      <td>1.271448</td>\n",
              "      <td>3.420254</td>\n",
              "    </tr>\n",
              "    <tr>\n",
              "      <th>...</th>\n",
              "      <td>...</td>\n",
              "      <td>...</td>\n",
              "      <td>...</td>\n",
              "      <td>...</td>\n",
              "      <td>...</td>\n",
              "      <td>...</td>\n",
              "      <td>...</td>\n",
              "      <td>...</td>\n",
              "      <td>...</td>\n",
              "      <td>...</td>\n",
              "      <td>...</td>\n",
              "    </tr>\n",
              "    <tr>\n",
              "      <th>565</th>\n",
              "      <td>Noise_20__Time_Normal_1_098</td>\n",
              "      <td>153</td>\n",
              "      <td>0.011774</td>\n",
              "      <td>0.067514</td>\n",
              "      <td>0.068533</td>\n",
              "      <td>0.201298</td>\n",
              "      <td>-0.219301</td>\n",
              "      <td>-0.273959</td>\n",
              "      <td>-0.044652</td>\n",
              "      <td>1.243141</td>\n",
              "      <td>2.937255</td>\n",
              "    </tr>\n",
              "    <tr>\n",
              "      <th>184</th>\n",
              "      <td>Noise_20__Time_Normal_1_098</td>\n",
              "      <td>148</td>\n",
              "      <td>0.010847</td>\n",
              "      <td>0.066774</td>\n",
              "      <td>0.067649</td>\n",
              "      <td>0.238132</td>\n",
              "      <td>-0.187446</td>\n",
              "      <td>-0.102387</td>\n",
              "      <td>-0.139532</td>\n",
              "      <td>1.240396</td>\n",
              "      <td>3.520113</td>\n",
              "    </tr>\n",
              "    <tr>\n",
              "      <th>1130</th>\n",
              "      <td>Noise_20__Time_Normal_1_098</td>\n",
              "      <td>17</td>\n",
              "      <td>0.010031</td>\n",
              "      <td>0.063425</td>\n",
              "      <td>0.064213</td>\n",
              "      <td>0.201127</td>\n",
              "      <td>-0.251943</td>\n",
              "      <td>-0.213459</td>\n",
              "      <td>-0.075773</td>\n",
              "      <td>1.232101</td>\n",
              "      <td>3.132200</td>\n",
              "    </tr>\n",
              "    <tr>\n",
              "      <th>441</th>\n",
              "      <td>Noise_20__Time_Normal_1_098</td>\n",
              "      <td>40</td>\n",
              "      <td>0.010648</td>\n",
              "      <td>0.063420</td>\n",
              "      <td>0.064308</td>\n",
              "      <td>0.195499</td>\n",
              "      <td>-0.170126</td>\n",
              "      <td>-0.158017</td>\n",
              "      <td>-0.367093</td>\n",
              "      <td>1.223274</td>\n",
              "      <td>3.040056</td>\n",
              "    </tr>\n",
              "    <tr>\n",
              "      <th>1388</th>\n",
              "      <td>Noise_20__Time_Normal_1_098</td>\n",
              "      <td>127</td>\n",
              "      <td>0.015414</td>\n",
              "      <td>0.067002</td>\n",
              "      <td>0.068752</td>\n",
              "      <td>0.248573</td>\n",
              "      <td>-0.209934</td>\n",
              "      <td>-0.068316</td>\n",
              "      <td>-0.071814</td>\n",
              "      <td>1.244518</td>\n",
              "      <td>3.615485</td>\n",
              "    </tr>\n",
              "  </tbody>\n",
              "</table>\n",
              "<p>1570 rows × 11 columns</p>\n",
              "</div>\n",
              "    <div class=\"colab-df-buttons\">\n",
              "\n",
              "  <div class=\"colab-df-container\">\n",
              "    <button class=\"colab-df-convert\" onclick=\"convertToInteractive('df-8869733b-0a80-4869-b659-f9cc29bc3851')\"\n",
              "            title=\"Convert this dataframe to an interactive table.\"\n",
              "            style=\"display:none;\">\n",
              "\n",
              "  <svg xmlns=\"http://www.w3.org/2000/svg\" height=\"24px\" viewBox=\"0 -960 960 960\">\n",
              "    <path d=\"M120-120v-720h720v720H120Zm60-500h600v-160H180v160Zm220 220h160v-160H400v160Zm0 220h160v-160H400v160ZM180-400h160v-160H180v160Zm440 0h160v-160H620v160ZM180-180h160v-160H180v160Zm440 0h160v-160H620v160Z\"/>\n",
              "  </svg>\n",
              "    </button>\n",
              "\n",
              "  <style>\n",
              "    .colab-df-container {\n",
              "      display:flex;\n",
              "      gap: 12px;\n",
              "    }\n",
              "\n",
              "    .colab-df-convert {\n",
              "      background-color: #E8F0FE;\n",
              "      border: none;\n",
              "      border-radius: 50%;\n",
              "      cursor: pointer;\n",
              "      display: none;\n",
              "      fill: #1967D2;\n",
              "      height: 32px;\n",
              "      padding: 0 0 0 0;\n",
              "      width: 32px;\n",
              "    }\n",
              "\n",
              "    .colab-df-convert:hover {\n",
              "      background-color: #E2EBFA;\n",
              "      box-shadow: 0px 1px 2px rgba(60, 64, 67, 0.3), 0px 1px 3px 1px rgba(60, 64, 67, 0.15);\n",
              "      fill: #174EA6;\n",
              "    }\n",
              "\n",
              "    .colab-df-buttons div {\n",
              "      margin-bottom: 4px;\n",
              "    }\n",
              "\n",
              "    [theme=dark] .colab-df-convert {\n",
              "      background-color: #3B4455;\n",
              "      fill: #D2E3FC;\n",
              "    }\n",
              "\n",
              "    [theme=dark] .colab-df-convert:hover {\n",
              "      background-color: #434B5C;\n",
              "      box-shadow: 0px 1px 3px 1px rgba(0, 0, 0, 0.15);\n",
              "      filter: drop-shadow(0px 1px 2px rgba(0, 0, 0, 0.3));\n",
              "      fill: #FFFFFF;\n",
              "    }\n",
              "  </style>\n",
              "\n",
              "    <script>\n",
              "      const buttonEl =\n",
              "        document.querySelector('#df-8869733b-0a80-4869-b659-f9cc29bc3851 button.colab-df-convert');\n",
              "      buttonEl.style.display =\n",
              "        google.colab.kernel.accessAllowed ? 'block' : 'none';\n",
              "\n",
              "      async function convertToInteractive(key) {\n",
              "        const element = document.querySelector('#df-8869733b-0a80-4869-b659-f9cc29bc3851');\n",
              "        const dataTable =\n",
              "          await google.colab.kernel.invokeFunction('convertToInteractive',\n",
              "                                                    [key], {});\n",
              "        if (!dataTable) return;\n",
              "\n",
              "        const docLinkHtml = 'Like what you see? Visit the ' +\n",
              "          '<a target=\"_blank\" href=https://colab.research.google.com/notebooks/data_table.ipynb>data table notebook</a>'\n",
              "          + ' to learn more about interactive tables.';\n",
              "        element.innerHTML = '';\n",
              "        dataTable['output_type'] = 'display_data';\n",
              "        await google.colab.output.renderOutput(dataTable, element);\n",
              "        const docLink = document.createElement('div');\n",
              "        docLink.innerHTML = docLinkHtml;\n",
              "        element.appendChild(docLink);\n",
              "      }\n",
              "    </script>\n",
              "  </div>\n",
              "\n",
              "\n",
              "    <div id=\"df-be0e55b0-1e43-4de9-b07e-efeef9166a22\">\n",
              "      <button class=\"colab-df-quickchart\" onclick=\"quickchart('df-be0e55b0-1e43-4de9-b07e-efeef9166a22')\"\n",
              "                title=\"Suggest charts\"\n",
              "                style=\"display:none;\">\n",
              "\n",
              "<svg xmlns=\"http://www.w3.org/2000/svg\" height=\"24px\"viewBox=\"0 0 24 24\"\n",
              "     width=\"24px\">\n",
              "    <g>\n",
              "        <path d=\"M19 3H5c-1.1 0-2 .9-2 2v14c0 1.1.9 2 2 2h14c1.1 0 2-.9 2-2V5c0-1.1-.9-2-2-2zM9 17H7v-7h2v7zm4 0h-2V7h2v10zm4 0h-2v-4h2v4z\"/>\n",
              "    </g>\n",
              "</svg>\n",
              "      </button>\n",
              "\n",
              "<style>\n",
              "  .colab-df-quickchart {\n",
              "      --bg-color: #E8F0FE;\n",
              "      --fill-color: #1967D2;\n",
              "      --hover-bg-color: #E2EBFA;\n",
              "      --hover-fill-color: #174EA6;\n",
              "      --disabled-fill-color: #AAA;\n",
              "      --disabled-bg-color: #DDD;\n",
              "  }\n",
              "\n",
              "  [theme=dark] .colab-df-quickchart {\n",
              "      --bg-color: #3B4455;\n",
              "      --fill-color: #D2E3FC;\n",
              "      --hover-bg-color: #434B5C;\n",
              "      --hover-fill-color: #FFFFFF;\n",
              "      --disabled-bg-color: #3B4455;\n",
              "      --disabled-fill-color: #666;\n",
              "  }\n",
              "\n",
              "  .colab-df-quickchart {\n",
              "    background-color: var(--bg-color);\n",
              "    border: none;\n",
              "    border-radius: 50%;\n",
              "    cursor: pointer;\n",
              "    display: none;\n",
              "    fill: var(--fill-color);\n",
              "    height: 32px;\n",
              "    padding: 0;\n",
              "    width: 32px;\n",
              "  }\n",
              "\n",
              "  .colab-df-quickchart:hover {\n",
              "    background-color: var(--hover-bg-color);\n",
              "    box-shadow: 0 1px 2px rgba(60, 64, 67, 0.3), 0 1px 3px 1px rgba(60, 64, 67, 0.15);\n",
              "    fill: var(--button-hover-fill-color);\n",
              "  }\n",
              "\n",
              "  .colab-df-quickchart-complete:disabled,\n",
              "  .colab-df-quickchart-complete:disabled:hover {\n",
              "    background-color: var(--disabled-bg-color);\n",
              "    fill: var(--disabled-fill-color);\n",
              "    box-shadow: none;\n",
              "  }\n",
              "\n",
              "  .colab-df-spinner {\n",
              "    border: 2px solid var(--fill-color);\n",
              "    border-color: transparent;\n",
              "    border-bottom-color: var(--fill-color);\n",
              "    animation:\n",
              "      spin 1s steps(1) infinite;\n",
              "  }\n",
              "\n",
              "  @keyframes spin {\n",
              "    0% {\n",
              "      border-color: transparent;\n",
              "      border-bottom-color: var(--fill-color);\n",
              "      border-left-color: var(--fill-color);\n",
              "    }\n",
              "    20% {\n",
              "      border-color: transparent;\n",
              "      border-left-color: var(--fill-color);\n",
              "      border-top-color: var(--fill-color);\n",
              "    }\n",
              "    30% {\n",
              "      border-color: transparent;\n",
              "      border-left-color: var(--fill-color);\n",
              "      border-top-color: var(--fill-color);\n",
              "      border-right-color: var(--fill-color);\n",
              "    }\n",
              "    40% {\n",
              "      border-color: transparent;\n",
              "      border-right-color: var(--fill-color);\n",
              "      border-top-color: var(--fill-color);\n",
              "    }\n",
              "    60% {\n",
              "      border-color: transparent;\n",
              "      border-right-color: var(--fill-color);\n",
              "    }\n",
              "    80% {\n",
              "      border-color: transparent;\n",
              "      border-right-color: var(--fill-color);\n",
              "      border-bottom-color: var(--fill-color);\n",
              "    }\n",
              "    90% {\n",
              "      border-color: transparent;\n",
              "      border-bottom-color: var(--fill-color);\n",
              "    }\n",
              "  }\n",
              "</style>\n",
              "\n",
              "      <script>\n",
              "        async function quickchart(key) {\n",
              "          const quickchartButtonEl =\n",
              "            document.querySelector('#' + key + ' button');\n",
              "          quickchartButtonEl.disabled = true;  // To prevent multiple clicks.\n",
              "          quickchartButtonEl.classList.add('colab-df-spinner');\n",
              "          try {\n",
              "            const charts = await google.colab.kernel.invokeFunction(\n",
              "                'suggestCharts', [key], {});\n",
              "          } catch (error) {\n",
              "            console.error('Error during call to suggestCharts:', error);\n",
              "          }\n",
              "          quickchartButtonEl.classList.remove('colab-df-spinner');\n",
              "          quickchartButtonEl.classList.add('colab-df-quickchart-complete');\n",
              "        }\n",
              "        (() => {\n",
              "          let quickchartButtonEl =\n",
              "            document.querySelector('#df-be0e55b0-1e43-4de9-b07e-efeef9166a22 button');\n",
              "          quickchartButtonEl.style.display =\n",
              "            google.colab.kernel.accessAllowed ? 'block' : 'none';\n",
              "        })();\n",
              "      </script>\n",
              "    </div>\n",
              "\n",
              "  <div id=\"id_c40d24d3-f967-4eb9-bb0c-50f118676dba\">\n",
              "    <style>\n",
              "      .colab-df-generate {\n",
              "        background-color: #E8F0FE;\n",
              "        border: none;\n",
              "        border-radius: 50%;\n",
              "        cursor: pointer;\n",
              "        display: none;\n",
              "        fill: #1967D2;\n",
              "        height: 32px;\n",
              "        padding: 0 0 0 0;\n",
              "        width: 32px;\n",
              "      }\n",
              "\n",
              "      .colab-df-generate:hover {\n",
              "        background-color: #E2EBFA;\n",
              "        box-shadow: 0px 1px 2px rgba(60, 64, 67, 0.3), 0px 1px 3px 1px rgba(60, 64, 67, 0.15);\n",
              "        fill: #174EA6;\n",
              "      }\n",
              "\n",
              "      [theme=dark] .colab-df-generate {\n",
              "        background-color: #3B4455;\n",
              "        fill: #D2E3FC;\n",
              "      }\n",
              "\n",
              "      [theme=dark] .colab-df-generate:hover {\n",
              "        background-color: #434B5C;\n",
              "        box-shadow: 0px 1px 3px 1px rgba(0, 0, 0, 0.15);\n",
              "        filter: drop-shadow(0px 1px 2px rgba(0, 0, 0, 0.3));\n",
              "        fill: #FFFFFF;\n",
              "      }\n",
              "    </style>\n",
              "    <button class=\"colab-df-generate\" onclick=\"generateWithVariable('balanced_df')\"\n",
              "            title=\"Generate code using this dataframe.\"\n",
              "            style=\"display:none;\">\n",
              "\n",
              "  <svg xmlns=\"http://www.w3.org/2000/svg\" height=\"24px\"viewBox=\"0 0 24 24\"\n",
              "       width=\"24px\">\n",
              "    <path d=\"M7,19H8.4L18.45,9,17,7.55,7,17.6ZM5,21V16.75L18.45,3.32a2,2,0,0,1,2.83,0l1.4,1.43a1.91,1.91,0,0,1,.58,1.4,1.91,1.91,0,0,1-.58,1.4L9.25,21ZM18.45,9,17,7.55Zm-12,3A5.31,5.31,0,0,0,4.9,8.1,5.31,5.31,0,0,0,1,6.5,5.31,5.31,0,0,0,4.9,4.9,5.31,5.31,0,0,0,6.5,1,5.31,5.31,0,0,0,8.1,4.9,5.31,5.31,0,0,0,12,6.5,5.46,5.46,0,0,0,6.5,12Z\"/>\n",
              "  </svg>\n",
              "    </button>\n",
              "    <script>\n",
              "      (() => {\n",
              "      const buttonEl =\n",
              "        document.querySelector('#id_c40d24d3-f967-4eb9-bb0c-50f118676dba button.colab-df-generate');\n",
              "      buttonEl.style.display =\n",
              "        google.colab.kernel.accessAllowed ? 'block' : 'none';\n",
              "\n",
              "      buttonEl.onclick = () => {\n",
              "        google.colab.notebook.generateWithVariable('balanced_df');\n",
              "      }\n",
              "      })();\n",
              "    </script>\n",
              "  </div>\n",
              "\n",
              "    </div>\n",
              "  </div>\n"
            ],
            "application/vnd.google.colaboratory.intrinsic+json": {
              "type": "dataframe",
              "variable_name": "balanced_df",
              "summary": "{\n  \"name\": \"balanced_df\",\n  \"rows\": 1570,\n  \"fields\": [\n    {\n      \"column\": \"fault\",\n      \"properties\": {\n        \"dtype\": \"category\",\n        \"num_unique_values\": 9,\n        \"samples\": [\n          \"Noise_20_OR021_6_1_239\",\n          \"Noise_20_B014_1_190\",\n          \"Noise_20_OR007_6_1_136\"\n        ],\n        \"semantic_type\": \"\",\n        \"description\": \"\"\n      }\n    },\n    {\n      \"column\": \"window\",\n      \"properties\": {\n        \"dtype\": \"number\",\n        \"std\": 71,\n        \"min\": 1,\n        \"max\": 250,\n        \"num_unique_values\": 190,\n        \"samples\": [\n          229,\n          224,\n          153\n        ],\n        \"semantic_type\": \"\",\n        \"description\": \"\"\n      }\n    },\n    {\n      \"column\": \"mean\",\n      \"properties\": {\n        \"dtype\": \"number\",\n        \"std\": 0.0039979059433425295,\n        \"min\": 0.0046887906085038,\n        \"max\": 0.0249484855577097,\n        \"num_unique_values\": 1566,\n        \"samples\": [\n          0.0195569186714769,\n          0.0075514245410083,\n          0.0127910939530036\n        ],\n        \"semantic_type\": \"\",\n        \"description\": \"\"\n      }\n    },\n    {\n      \"column\": \"std\",\n      \"properties\": {\n        \"dtype\": \"number\",\n        \"std\": 0.3173479928371675,\n        \"min\": 0.0612394202182925,\n        \"max\": 1.265581147949661,\n        \"num_unique_values\": 1566,\n        \"samples\": [\n          0.2843884852861961,\n          0.1035595004144073,\n          0.0666240374023255\n        ],\n        \"semantic_type\": \"\",\n        \"description\": \"\"\n      }\n    },\n    {\n      \"column\": \"rms\",\n      \"properties\": {\n        \"dtype\": \"number\",\n        \"std\": 0.3170356183371,\n        \"min\": 0.0625046893694231,\n        \"max\": 1.265642413847376,\n        \"num_unique_values\": 1566,\n        \"samples\": [\n          0.2850601403762016,\n          0.1038344554503955,\n          0.0678408022085606\n        ],\n        \"semantic_type\": \"\",\n        \"description\": \"\"\n      }\n    },\n    {\n      \"column\": \"max\",\n      \"properties\": {\n        \"dtype\": \"number\",\n        \"std\": 1.6788081689075816,\n        \"min\": 0.169941969539567,\n        \"max\": 7.460917148731162,\n        \"num_unique_values\": 1453,\n        \"samples\": [\n          2.346734308765319,\n          0.4612566334499544,\n          0.4477213985535074\n        ],\n        \"semantic_type\": \"\",\n        \"description\": \"\"\n      }\n    },\n    {\n      \"column\": \"min\",\n      \"properties\": {\n        \"dtype\": \"number\",\n        \"std\": 1.705236648684557,\n        \"min\": -6.891054308158546,\n        \"max\": -0.1701262544693877,\n        \"num_unique_values\": 1459,\n        \"samples\": [\n          -0.2057104739830258,\n          -4.759939864340404,\n          -0.4894814586497119\n        ],\n        \"semantic_type\": \"\",\n        \"description\": \"\"\n      }\n    },\n    {\n      \"column\": \"skewness\",\n      \"properties\": {\n        \"dtype\": \"number\",\n        \"std\": 0.18535301190594064,\n        \"min\": -1.0796148703077413,\n        \"max\": 0.9159024258254328,\n        \"num_unique_values\": 1566,\n        \"samples\": [\n          -0.2345368686679342,\n          0.0893503809848048,\n          -0.2390143787314285\n        ],\n        \"semantic_type\": \"\",\n        \"description\": \"\"\n      }\n    },\n    {\n      \"column\": \"kurtosis\",\n      \"properties\": {\n        \"dtype\": \"number\",\n        \"std\": 4.8021797602027165,\n        \"min\": -0.6601301231576997,\n        \"max\": 29.79601371457307,\n        \"num_unique_values\": 1566,\n        \"samples\": [\n          3.789160613860117,\n          1.4503348134719491,\n          -0.2833828530727049\n        ],\n        \"semantic_type\": \"\",\n        \"description\": \"\"\n      }\n    },\n    {\n      \"column\": \"form_factor\",\n      \"properties\": {\n        \"dtype\": \"number\",\n        \"std\": 0.20663378061106233,\n        \"min\": 1.2038680695930115,\n        \"max\": 2.415793457302489,\n        \"num_unique_values\": 1566,\n        \"samples\": [\n          1.4535863145108443,\n          1.3029176234165558,\n          1.2298694452996386\n        ],\n        \"semantic_type\": \"\",\n        \"description\": \"\"\n      }\n    },\n    {\n      \"column\": \"crest_factor\",\n      \"properties\": {\n        \"dtype\": \"number\",\n        \"std\": 1.2445773924072807,\n        \"min\": 2.5351383667332907,\n        \"max\": 9.170368371803402,\n        \"num_unique_values\": 1566,\n        \"samples\": [\n          4.670127481910272,\n          5.274261381680476,\n          2.6767365355238746\n        ],\n        \"semantic_type\": \"\",\n        \"description\": \"\"\n      }\n    }\n  ]\n}"
            }
          },
          "metadata": {},
          "execution_count": 46
        }
      ]
    },
    {
      "cell_type": "code",
      "source": [
        "import pandas as pd\n",
        "from sklearn.preprocessing import StandardScaler\n",
        "from sklearn.manifold import TSNE\n",
        "import matplotlib.pyplot as plt\n",
        "\n",
        "\n",
        "# Sort the dataset by the 'Fault' column\n",
        "balanced_df = balanced_df.sort_values(by='fault')\n",
        "\n",
        "# Separate features and target variable\n",
        "X = balanced_df.drop(columns=['fault'])  # Replace 'Fault' with actual target column name\n",
        "y = balanced_df['fault']\n",
        "\n",
        "# Normalize the feature columns using StandardScaler\n",
        "scaler = StandardScaler()\n",
        "X_normalized = pd.DataFrame(scaler.fit_transform(X), columns=X.columns)\n",
        "\n",
        "# Concatenate the normalized features with the target variable\n",
        "STAT_Motor_Fault_dataset_normalized = pd.concat([X_normalized, y.reset_index(drop=True)], axis=1)\n",
        "\n",
        "# Sort the normalized dataset by 'Fault' column\n",
        "STAT_Motor_Fault_dataset_normalized = STAT_Motor_Fault_dataset_normalized.sort_values(by='fault')\n",
        "\n",
        "# Apply t-SNE for dimensionality reduction\n",
        "tsne = TSNE(n_components=2, random_state=42)  # 2D t-SNE\n",
        "X_tsne = tsne.fit_transform(X_normalized)\n",
        "\n",
        "# Create a DataFrame for t-SNE results\n",
        "tSNE_representation = pd.DataFrame(X_tsne, columns=['t-SNE 1', 't-SNE 2'])\n",
        "tSNE_representation['fault'] = y.reset_index(drop=True)\n",
        "\n",
        "# Display the t-SNE representation\n",
        "print(tSNE_representation.head())\n",
        "\n",
        "# Optional: Visualization of t-SNE representation\n",
        "plt.figure(figsize=(8, 6))\n",
        "for label in tSNE_representation['fault'].unique():\n",
        "    subset = tSNE_representation[tSNE_representation['fault'] == label]\n",
        "    plt.scatter(subset['t-SNE 1'], subset['t-SNE 2'], label=f'fault {label}', alpha=0.7)\n",
        "\n",
        "plt.title('t-SNE Representation of Motor Fault Dataset')\n",
        "plt.xlabel('t-SNE 1')\n",
        "plt.ylabel('t-SNE 2')\n",
        "plt.legend()\n",
        "plt.show()\n"
      ],
      "metadata": {
        "id": "tV7aspjE3R4f",
        "colab": {
          "base_uri": "https://localhost:8080/",
          "height": 668
        },
        "outputId": "613297ab-d215-48b4-970f-da7a7e987868"
      },
      "id": "tV7aspjE3R4f",
      "execution_count": 47,
      "outputs": [
        {
          "output_type": "stream",
          "name": "stdout",
          "text": [
            "     t-SNE 1    t-SNE 2                fault\n",
            "0  25.732910  16.688488  Noise_20_B007_1_123\n",
            "1  40.695522   5.601993  Noise_20_B007_1_123\n",
            "2  23.914379  17.773241  Noise_20_B007_1_123\n",
            "3  38.367844   0.672475  Noise_20_B007_1_123\n",
            "4  37.629719   0.749252  Noise_20_B007_1_123\n"
          ]
        },
        {
          "output_type": "display_data",
          "data": {
            "text/plain": [
              "<Figure size 800x600 with 1 Axes>"
            ],
            "image/png": "[encoded data removed]"
          },
          "metadata": {}
        }
      ]
    },
    {
      "cell_type": "code",
      "source": [
        "tSNE_representation"
      ],
      "metadata": {
        "id": "QMwOLwssDgHU",
        "colab": {
          "base_uri": "https://localhost:8080/",
          "height": 424
        },
        "outputId": "f195d6fe-c228-4b42-f89a-4bfa8679a00e"
      },
      "id": "QMwOLwssDgHU",
      "execution_count": 48,
      "outputs": [
        {
          "output_type": "execute_result",
          "data": {
            "text/plain": [
              "        t-SNE 1    t-SNE 2                        fault\n",
              "0     25.732910  16.688488          Noise_20_B007_1_123\n",
              "1     40.695522   5.601993          Noise_20_B007_1_123\n",
              "2     23.914379  17.773241          Noise_20_B007_1_123\n",
              "3     38.367844   0.672475          Noise_20_B007_1_123\n",
              "4     37.629719   0.749252          Noise_20_B007_1_123\n",
              "...         ...        ...                          ...\n",
              "1565  25.535168   3.862620  Noise_20__Time_Normal_1_098\n",
              "1566   4.407224  15.866333  Noise_20__Time_Normal_1_098\n",
              "1567   2.453275  10.752535  Noise_20__Time_Normal_1_098\n",
              "1568   3.589916  12.759286  Noise_20__Time_Normal_1_098\n",
              "1569  23.033873   5.186366  Noise_20__Time_Normal_1_098\n",
              "\n",
              "[1570 rows x 3 columns]"
            ],
            "text/html": [
              "\n",
              "  <div id=\"df-37c33919-cee3-4c25-a523-45c14d16d506\" class=\"colab-df-container\">\n",
              "    <div>\n",
              "<style scoped>\n",
              "    .dataframe tbody tr th:only-of-type {\n",
              "        vertical-align: middle;\n",
              "    }\n",
              "\n",
              "    .dataframe tbody tr th {\n",
              "        vertical-align: top;\n",
              "    }\n",
              "\n",
              "    .dataframe thead th {\n",
              "        text-align: right;\n",
              "    }\n",
              "</style>\n",
              "<table border=\"1\" class=\"dataframe\">\n",
              "  <thead>\n",
              "    <tr style=\"text-align: right;\">\n",
              "      <th></th>\n",
              "      <th>t-SNE 1</th>\n",
              "      <th>t-SNE 2</th>\n",
              "      <th>fault</th>\n",
              "    </tr>\n",
              "  </thead>\n",
              "  <tbody>\n",
              "    <tr>\n",
              "      <th>0</th>\n",
              "      <td>25.732910</td>\n",
              "      <td>16.688488</td>\n",
              "      <td>Noise_20_B007_1_123</td>\n",
              "    </tr>\n",
              "    <tr>\n",
              "      <th>1</th>\n",
              "      <td>40.695522</td>\n",
              "      <td>5.601993</td>\n",
              "      <td>Noise_20_B007_1_123</td>\n",
              "    </tr>\n",
              "    <tr>\n",
              "      <th>2</th>\n",
              "      <td>23.914379</td>\n",
              "      <td>17.773241</td>\n",
              "      <td>Noise_20_B007_1_123</td>\n",
              "    </tr>\n",
              "    <tr>\n",
              "      <th>3</th>\n",
              "      <td>38.367844</td>\n",
              "      <td>0.672475</td>\n",
              "      <td>Noise_20_B007_1_123</td>\n",
              "    </tr>\n",
              "    <tr>\n",
              "      <th>4</th>\n",
              "      <td>37.629719</td>\n",
              "      <td>0.749252</td>\n",
              "      <td>Noise_20_B007_1_123</td>\n",
              "    </tr>\n",
              "    <tr>\n",
              "      <th>...</th>\n",
              "      <td>...</td>\n",
              "      <td>...</td>\n",
              "      <td>...</td>\n",
              "    </tr>\n",
              "    <tr>\n",
              "      <th>1565</th>\n",
              "      <td>25.535168</td>\n",
              "      <td>3.862620</td>\n",
              "      <td>Noise_20__Time_Normal_1_098</td>\n",
              "    </tr>\n",
              "    <tr>\n",
              "      <th>1566</th>\n",
              "      <td>4.407224</td>\n",
              "      <td>15.866333</td>\n",
              "      <td>Noise_20__Time_Normal_1_098</td>\n",
              "    </tr>\n",
              "    <tr>\n",
              "      <th>1567</th>\n",
              "      <td>2.453275</td>\n",
              "      <td>10.752535</td>\n",
              "      <td>Noise_20__Time_Normal_1_098</td>\n",
              "    </tr>\n",
              "    <tr>\n",
              "      <th>1568</th>\n",
              "      <td>3.589916</td>\n",
              "      <td>12.759286</td>\n",
              "      <td>Noise_20__Time_Normal_1_098</td>\n",
              "    </tr>\n",
              "    <tr>\n",
              "      <th>1569</th>\n",
              "      <td>23.033873</td>\n",
              "      <td>5.186366</td>\n",
              "      <td>Noise_20__Time_Normal_1_098</td>\n",
              "    </tr>\n",
              "  </tbody>\n",
              "</table>\n",
              "<p>1570 rows × 3 columns</p>\n",
              "</div>\n",
              "    <div class=\"colab-df-buttons\">\n",
              "\n",
              "  <div class=\"colab-df-container\">\n",
              "    <button class=\"colab-df-convert\" onclick=\"convertToInteractive('df-37c33919-cee3-4c25-a523-45c14d16d506')\"\n",
              "            title=\"Convert this dataframe to an interactive table.\"\n",
              "            style=\"display:none;\">\n",
              "\n",
              "  <svg xmlns=\"http://www.w3.org/2000/svg\" height=\"24px\" viewBox=\"0 -960 960 960\">\n",
              "    <path d=\"M120-120v-720h720v720H120Zm60-500h600v-160H180v160Zm220 220h160v-160H400v160Zm0 220h160v-160H400v160ZM180-400h160v-160H180v160Zm440 0h160v-160H620v160ZM180-180h160v-160H180v160Zm440 0h160v-160H620v160Z\"/>\n",
              "  </svg>\n",
              "    </button>\n",
              "\n",
              "  <style>\n",
              "    .colab-df-container {\n",
              "      display:flex;\n",
              "      gap: 12px;\n",
              "    }\n",
              "\n",
              "    .colab-df-convert {\n",
              "      background-color: #E8F0FE;\n",
              "      border: none;\n",
              "      border-radius: 50%;\n",
              "      cursor: pointer;\n",
              "      display: none;\n",
              "      fill: #1967D2;\n",
              "      height: 32px;\n",
              "      padding: 0 0 0 0;\n",
              "      width: 32px;\n",
              "    }\n",
              "\n",
              "    .colab-df-convert:hover {\n",
              "      background-color: #E2EBFA;\n",
              "      box-shadow: 0px 1px 2px rgba(60, 64, 67, 0.3), 0px 1px 3px 1px rgba(60, 64, 67, 0.15);\n",
              "      fill: #174EA6;\n",
              "    }\n",
              "\n",
              "    .colab-df-buttons div {\n",
              "      margin-bottom: 4px;\n",
              "    }\n",
              "\n",
              "    [theme=dark] .colab-df-convert {\n",
              "      background-color: #3B4455;\n",
              "      fill: #D2E3FC;\n",
              "    }\n",
              "\n",
              "    [theme=dark] .colab-df-convert:hover {\n",
              "      background-color: #434B5C;\n",
              "      box-shadow: 0px 1px 3px 1px rgba(0, 0, 0, 0.15);\n",
              "      filter: drop-shadow(0px 1px 2px rgba(0, 0, 0, 0.3));\n",
              "      fill: #FFFFFF;\n",
              "    }\n",
              "  </style>\n",
              "\n",
              "    <script>\n",
              "      const buttonEl =\n",
              "        document.querySelector('#df-37c33919-cee3-4c25-a523-45c14d16d506 button.colab-df-convert');\n",
              "      buttonEl.style.display =\n",
              "        google.colab.kernel.accessAllowed ? 'block' : 'none';\n",
              "\n",
              "      async function convertToInteractive(key) {\n",
              "        const element = document.querySelector('#df-37c33919-cee3-4c25-a523-45c14d16d506');\n",
              "        const dataTable =\n",
              "          await google.colab.kernel.invokeFunction('convertToInteractive',\n",
              "                                                    [key], {});\n",
              "        if (!dataTable) return;\n",
              "\n",
              "        const docLinkHtml = 'Like what you see? Visit the ' +\n",
              "          '<a target=\"_blank\" href=https://colab.research.google.com/notebooks/data_table.ipynb>data table notebook</a>'\n",
              "          + ' to learn more about interactive tables.';\n",
              "        element.innerHTML = '';\n",
              "        dataTable['output_type'] = 'display_data';\n",
              "        await google.colab.output.renderOutput(dataTable, element);\n",
              "        const docLink = document.createElement('div');\n",
              "        docLink.innerHTML = docLinkHtml;\n",
              "        element.appendChild(docLink);\n",
              "      }\n",
              "    </script>\n",
              "  </div>\n",
              "\n",
              "\n",
              "    <div id=\"df-bfae5cd6-0a14-4821-9dc9-cf446ce6adf0\">\n",
              "      <button class=\"colab-df-quickchart\" onclick=\"quickchart('df-bfae5cd6-0a14-4821-9dc9-cf446ce6adf0')\"\n",
              "                title=\"Suggest charts\"\n",
              "                style=\"display:none;\">\n",
              "\n",
              "<svg xmlns=\"http://www.w3.org/2000/svg\" height=\"24px\"viewBox=\"0 0 24 24\"\n",
              "     width=\"24px\">\n",
              "    <g>\n",
              "        <path d=\"M19 3H5c-1.1 0-2 .9-2 2v14c0 1.1.9 2 2 2h14c1.1 0 2-.9 2-2V5c0-1.1-.9-2-2-2zM9 17H7v-7h2v7zm4 0h-2V7h2v10zm4 0h-2v-4h2v4z\"/>\n",
              "    </g>\n",
              "</svg>\n",
              "      </button>\n",
              "\n",
              "<style>\n",
              "  .colab-df-quickchart {\n",
              "      --bg-color: #E8F0FE;\n",
              "      --fill-color: #1967D2;\n",
              "      --hover-bg-color: #E2EBFA;\n",
              "      --hover-fill-color: #174EA6;\n",
              "      --disabled-fill-color: #AAA;\n",
              "      --disabled-bg-color: #DDD;\n",
              "  }\n",
              "\n",
              "  [theme=dark] .colab-df-quickchart {\n",
              "      --bg-color: #3B4455;\n",
              "      --fill-color: #D2E3FC;\n",
              "      --hover-bg-color: #434B5C;\n",
              "      --hover-fill-color: #FFFFFF;\n",
              "      --disabled-bg-color: #3B4455;\n",
              "      --disabled-fill-color: #666;\n",
              "  }\n",
              "\n",
              "  .colab-df-quickchart {\n",
              "    background-color: var(--bg-color);\n",
              "    border: none;\n",
              "    border-radius: 50%;\n",
              "    cursor: pointer;\n",
              "    display: none;\n",
              "    fill: var(--fill-color);\n",
              "    height: 32px;\n",
              "    padding: 0;\n",
              "    width: 32px;\n",
              "  }\n",
              "\n",
              "  .colab-df-quickchart:hover {\n",
              "    background-color: var(--hover-bg-color);\n",
              "    box-shadow: 0 1px 2px rgba(60, 64, 67, 0.3), 0 1px 3px 1px rgba(60, 64, 67, 0.15);\n",
              "    fill: var(--button-hover-fill-color);\n",
              "  }\n",
              "\n",
              "  .colab-df-quickchart-complete:disabled,\n",
              "  .colab-df-quickchart-complete:disabled:hover {\n",
              "    background-color: var(--disabled-bg-color);\n",
              "    fill: var(--disabled-fill-color);\n",
              "    box-shadow: none;\n",
              "  }\n",
              "\n",
              "  .colab-df-spinner {\n",
              "    border: 2px solid var(--fill-color);\n",
              "    border-color: transparent;\n",
              "    border-bottom-color: var(--fill-color);\n",
              "    animation:\n",
              "      spin 1s steps(1) infinite;\n",
              "  }\n",
              "\n",
              "  @keyframes spin {\n",
              "    0% {\n",
              "      border-color: transparent;\n",
              "      border-bottom-color: var(--fill-color);\n",
              "      border-left-color: var(--fill-color);\n",
              "    }\n",
              "    20% {\n",
              "      border-color: transparent;\n",
              "      border-left-color: var(--fill-color);\n",
              "      border-top-color: var(--fill-color);\n",
              "    }\n",
              "    30% {\n",
              "      border-color: transparent;\n",
              "      border-left-color: var(--fill-color);\n",
              "      border-top-color: var(--fill-color);\n",
              "      border-right-color: var(--fill-color);\n",
              "    }\n",
              "    40% {\n",
              "      border-color: transparent;\n",
              "      border-right-color: var(--fill-color);\n",
              "      border-top-color: var(--fill-color);\n",
              "    }\n",
              "    60% {\n",
              "      border-color: transparent;\n",
              "      border-right-color: var(--fill-color);\n",
              "    }\n",
              "    80% {\n",
              "      border-color: transparent;\n",
              "      border-right-color: var(--fill-color);\n",
              "      border-bottom-color: var(--fill-color);\n",
              "    }\n",
              "    90% {\n",
              "      border-color: transparent;\n",
              "      border-bottom-color: var(--fill-color);\n",
              "    }\n",
              "  }\n",
              "</style>\n",
              "\n",
              "      <script>\n",
              "        async function quickchart(key) {\n",
              "          const quickchartButtonEl =\n",
              "            document.querySelector('#' + key + ' button');\n",
              "          quickchartButtonEl.disabled = true;  // To prevent multiple clicks.\n",
              "          quickchartButtonEl.classList.add('colab-df-spinner');\n",
              "          try {\n",
              "            const charts = await google.colab.kernel.invokeFunction(\n",
              "                'suggestCharts', [key], {});\n",
              "          } catch (error) {\n",
              "            console.error('Error during call to suggestCharts:', error);\n",
              "          }\n",
              "          quickchartButtonEl.classList.remove('colab-df-spinner');\n",
              "          quickchartButtonEl.classList.add('colab-df-quickchart-complete');\n",
              "        }\n",
              "        (() => {\n",
              "          let quickchartButtonEl =\n",
              "            document.querySelector('#df-bfae5cd6-0a14-4821-9dc9-cf446ce6adf0 button');\n",
              "          quickchartButtonEl.style.display =\n",
              "            google.colab.kernel.accessAllowed ? 'block' : 'none';\n",
              "        })();\n",
              "      </script>\n",
              "    </div>\n",
              "\n",
              "  <div id=\"id_46fb32f3-8ab5-4d3e-807e-951baf6b6321\">\n",
              "    <style>\n",
              "      .colab-df-generate {\n",
              "        background-color: #E8F0FE;\n",
              "        border: none;\n",
              "        border-radius: 50%;\n",
              "        cursor: pointer;\n",
              "        display: none;\n",
              "        fill: #1967D2;\n",
              "        height: 32px;\n",
              "        padding: 0 0 0 0;\n",
              "        width: 32px;\n",
              "      }\n",
              "\n",
              "      .colab-df-generate:hover {\n",
              "        background-color: #E2EBFA;\n",
              "        box-shadow: 0px 1px 2px rgba(60, 64, 67, 0.3), 0px 1px 3px 1px rgba(60, 64, 67, 0.15);\n",
              "        fill: #174EA6;\n",
              "      }\n",
              "\n",
              "      [theme=dark] .colab-df-generate {\n",
              "        background-color: #3B4455;\n",
              "        fill: #D2E3FC;\n",
              "      }\n",
              "\n",
              "      [theme=dark] .colab-df-generate:hover {\n",
              "        background-color: #434B5C;\n",
              "        box-shadow: 0px 1px 3px 1px rgba(0, 0, 0, 0.15);\n",
              "        filter: drop-shadow(0px 1px 2px rgba(0, 0, 0, 0.3));\n",
              "        fill: #FFFFFF;\n",
              "      }\n",
              "    </style>\n",
              "    <button class=\"colab-df-generate\" onclick=\"generateWithVariable('tSNE_representation')\"\n",
              "            title=\"Generate code using this dataframe.\"\n",
              "            style=\"display:none;\">\n",
              "\n",
              "  <svg xmlns=\"http://www.w3.org/2000/svg\" height=\"24px\"viewBox=\"0 0 24 24\"\n",
              "       width=\"24px\">\n",
              "    <path d=\"M7,19H8.4L18.45,9,17,7.55,7,17.6ZM5,21V16.75L18.45,3.32a2,2,0,0,1,2.83,0l1.4,1.43a1.91,1.91,0,0,1,.58,1.4,1.91,1.91,0,0,1-.58,1.4L9.25,21ZM18.45,9,17,7.55Zm-12,3A5.31,5.31,0,0,0,4.9,8.1,5.31,5.31,0,0,0,1,6.5,5.31,5.31,0,0,0,4.9,4.9,5.31,5.31,0,0,0,6.5,1,5.31,5.31,0,0,0,8.1,4.9,5.31,5.31,0,0,0,12,6.5,5.46,5.46,0,0,0,6.5,12Z\"/>\n",
              "  </svg>\n",
              "    </button>\n",
              "    <script>\n",
              "      (() => {\n",
              "      const buttonEl =\n",
              "        document.querySelector('#id_46fb32f3-8ab5-4d3e-807e-951baf6b6321 button.colab-df-generate');\n",
              "      buttonEl.style.display =\n",
              "        google.colab.kernel.accessAllowed ? 'block' : 'none';\n",
              "\n",
              "      buttonEl.onclick = () => {\n",
              "        google.colab.notebook.generateWithVariable('tSNE_representation');\n",
              "      }\n",
              "      })();\n",
              "    </script>\n",
              "  </div>\n",
              "\n",
              "    </div>\n",
              "  </div>\n"
            ],
            "application/vnd.google.colaboratory.intrinsic+json": {
              "type": "dataframe",
              "variable_name": "tSNE_representation",
              "summary": "{\n  \"name\": \"tSNE_representation\",\n  \"rows\": 1570,\n  \"fields\": [\n    {\n      \"column\": \"t-SNE 1\",\n      \"properties\": {\n        \"dtype\": \"float32\",\n        \"num_unique_values\": 1568,\n        \"samples\": [\n          25.73271942138672,\n          -46.6336669921875,\n          19.21339225769043\n        ],\n        \"semantic_type\": \"\",\n        \"description\": \"\"\n      }\n    },\n    {\n      \"column\": \"t-SNE 2\",\n      \"properties\": {\n        \"dtype\": \"float32\",\n        \"num_unique_values\": 1569,\n        \"samples\": [\n          -29.769624710083008,\n          20.977170944213867,\n          -27.097198486328125\n        ],\n        \"semantic_type\": \"\",\n        \"description\": \"\"\n      }\n    },\n    {\n      \"column\": \"fault\",\n      \"properties\": {\n        \"dtype\": \"category\",\n        \"num_unique_values\": 9,\n        \"samples\": [\n          \"Noise_20_OR021_6_1_239\",\n          \"Noise_20_B014_1_190\",\n          \"Noise_20_OR007_6_1_136\"\n        ],\n        \"semantic_type\": \"\",\n        \"description\": \"\"\n      }\n    }\n  ]\n}"
            }
          },
          "metadata": {},
          "execution_count": 48
        }
      ]
    },
    {
      "cell_type": "code",
      "source": [
        "tSNE_representation=tSNE_representation.drop(columns=['fault'])\n",
        "tSNE_representation"
      ],
      "metadata": {
        "id": "Pybzwduy8nhv",
        "colab": {
          "base_uri": "https://localhost:8080/",
          "height": 424
        },
        "outputId": "bacb257b-e311-427d-e6bf-c7e49d983491"
      },
      "id": "Pybzwduy8nhv",
      "execution_count": 49,
      "outputs": [
        {
          "output_type": "execute_result",
          "data": {
            "text/plain": [
              "        t-SNE 1    t-SNE 2\n",
              "0     25.732910  16.688488\n",
              "1     40.695522   5.601993\n",
              "2     23.914379  17.773241\n",
              "3     38.367844   0.672475\n",
              "4     37.629719   0.749252\n",
              "...         ...        ...\n",
              "1565  25.535168   3.862620\n",
              "1566   4.407224  15.866333\n",
              "1567   2.453275  10.752535\n",
              "1568   3.589916  12.759286\n",
              "1569  23.033873   5.186366\n",
              "\n",
              "[1570 rows x 2 columns]"
            ],
            "text/html": [
              "\n",
              "  <div id=\"df-2fede761-900c-42fc-9b4d-094a02935ab1\" class=\"colab-df-container\">\n",
              "    <div>\n",
              "<style scoped>\n",
              "    .dataframe tbody tr th:only-of-type {\n",
              "        vertical-align: middle;\n",
              "    }\n",
              "\n",
              "    .dataframe tbody tr th {\n",
              "        vertical-align: top;\n",
              "    }\n",
              "\n",
              "    .dataframe thead th {\n",
              "        text-align: right;\n",
              "    }\n",
              "</style>\n",
              "<table border=\"1\" class=\"dataframe\">\n",
              "  <thead>\n",
              "    <tr style=\"text-align: right;\">\n",
              "      <th></th>\n",
              "      <th>t-SNE 1</th>\n",
              "      <th>t-SNE 2</th>\n",
              "    </tr>\n",
              "  </thead>\n",
              "  <tbody>\n",
              "    <tr>\n",
              "      <th>0</th>\n",
              "      <td>25.732910</td>\n",
              "      <td>16.688488</td>\n",
              "    </tr>\n",
              "    <tr>\n",
              "      <th>1</th>\n",
              "      <td>40.695522</td>\n",
              "      <td>5.601993</td>\n",
              "    </tr>\n",
              "    <tr>\n",
              "      <th>2</th>\n",
              "      <td>23.914379</td>\n",
              "      <td>17.773241</td>\n",
              "    </tr>\n",
              "    <tr>\n",
              "      <th>3</th>\n",
              "      <td>38.367844</td>\n",
              "      <td>0.672475</td>\n",
              "    </tr>\n",
              "    <tr>\n",
              "      <th>4</th>\n",
              "      <td>37.629719</td>\n",
              "      <td>0.749252</td>\n",
              "    </tr>\n",
              "    <tr>\n",
              "      <th>...</th>\n",
              "      <td>...</td>\n",
              "      <td>...</td>\n",
              "    </tr>\n",
              "    <tr>\n",
              "      <th>1565</th>\n",
              "      <td>25.535168</td>\n",
              "      <td>3.862620</td>\n",
              "    </tr>\n",
              "    <tr>\n",
              "      <th>1566</th>\n",
              "      <td>4.407224</td>\n",
              "      <td>15.866333</td>\n",
              "    </tr>\n",
              "    <tr>\n",
              "      <th>1567</th>\n",
              "      <td>2.453275</td>\n",
              "      <td>10.752535</td>\n",
              "    </tr>\n",
              "    <tr>\n",
              "      <th>1568</th>\n",
              "      <td>3.589916</td>\n",
              "      <td>12.759286</td>\n",
              "    </tr>\n",
              "    <tr>\n",
              "      <th>1569</th>\n",
              "      <td>23.033873</td>\n",
              "      <td>5.186366</td>\n",
              "    </tr>\n",
              "  </tbody>\n",
              "</table>\n",
              "<p>1570 rows × 2 columns</p>\n",
              "</div>\n",
              "    <div class=\"colab-df-buttons\">\n",
              "\n",
              "  <div class=\"colab-df-container\">\n",
              "    <button class=\"colab-df-convert\" onclick=\"convertToInteractive('df-2fede761-900c-42fc-9b4d-094a02935ab1')\"\n",
              "            title=\"Convert this dataframe to an interactive table.\"\n",
              "            style=\"display:none;\">\n",
              "\n",
              "  <svg xmlns=\"http://www.w3.org/2000/svg\" height=\"24px\" viewBox=\"0 -960 960 960\">\n",
              "    <path d=\"M120-120v-720h720v720H120Zm60-500h600v-160H180v160Zm220 220h160v-160H400v160Zm0 220h160v-160H400v160ZM180-400h160v-160H180v160Zm440 0h160v-160H620v160ZM180-180h160v-160H180v160Zm440 0h160v-160H620v160Z\"/>\n",
              "  </svg>\n",
              "    </button>\n",
              "\n",
              "  <style>\n",
              "    .colab-df-container {\n",
              "      display:flex;\n",
              "      gap: 12px;\n",
              "    }\n",
              "\n",
              "    .colab-df-convert {\n",
              "      background-color: #E8F0FE;\n",
              "      border: none;\n",
              "      border-radius: 50%;\n",
              "      cursor: pointer;\n",
              "      display: none;\n",
              "      fill: #1967D2;\n",
              "      height: 32px;\n",
              "      padding: 0 0 0 0;\n",
              "      width: 32px;\n",
              "    }\n",
              "\n",
              "    .colab-df-convert:hover {\n",
              "      background-color: #E2EBFA;\n",
              "      box-shadow: 0px 1px 2px rgba(60, 64, 67, 0.3), 0px 1px 3px 1px rgba(60, 64, 67, 0.15);\n",
              "      fill: #174EA6;\n",
              "    }\n",
              "\n",
              "    .colab-df-buttons div {\n",
              "      margin-bottom: 4px;\n",
              "    }\n",
              "\n",
              "    [theme=dark] .colab-df-convert {\n",
              "      background-color: #3B4455;\n",
              "      fill: #D2E3FC;\n",
              "    }\n",
              "\n",
              "    [theme=dark] .colab-df-convert:hover {\n",
              "      background-color: #434B5C;\n",
              "      box-shadow: 0px 1px 3px 1px rgba(0, 0, 0, 0.15);\n",
              "      filter: drop-shadow(0px 1px 2px rgba(0, 0, 0, 0.3));\n",
              "      fill: #FFFFFF;\n",
              "    }\n",
              "  </style>\n",
              "\n",
              "    <script>\n",
              "      const buttonEl =\n",
              "        document.querySelector('#df-2fede761-900c-42fc-9b4d-094a02935ab1 button.colab-df-convert');\n",
              "      buttonEl.style.display =\n",
              "        google.colab.kernel.accessAllowed ? 'block' : 'none';\n",
              "\n",
              "      async function convertToInteractive(key) {\n",
              "        const element = document.querySelector('#df-2fede761-900c-42fc-9b4d-094a02935ab1');\n",
              "        const dataTable =\n",
              "          await google.colab.kernel.invokeFunction('convertToInteractive',\n",
              "                                                    [key], {});\n",
              "        if (!dataTable) return;\n",
              "\n",
              "        const docLinkHtml = 'Like what you see? Visit the ' +\n",
              "          '<a target=\"_blank\" href=https://colab.research.google.com/notebooks/data_table.ipynb>data table notebook</a>'\n",
              "          + ' to learn more about interactive tables.';\n",
              "        element.innerHTML = '';\n",
              "        dataTable['output_type'] = 'display_data';\n",
              "        await google.colab.output.renderOutput(dataTable, element);\n",
              "        const docLink = document.createElement('div');\n",
              "        docLink.innerHTML = docLinkHtml;\n",
              "        element.appendChild(docLink);\n",
              "      }\n",
              "    </script>\n",
              "  </div>\n",
              "\n",
              "\n",
              "    <div id=\"df-b904bc58-fa25-453e-aea6-61c62f102bb0\">\n",
              "      <button class=\"colab-df-quickchart\" onclick=\"quickchart('df-b904bc58-fa25-453e-aea6-61c62f102bb0')\"\n",
              "                title=\"Suggest charts\"\n",
              "                style=\"display:none;\">\n",
              "\n",
              "<svg xmlns=\"http://www.w3.org/2000/svg\" height=\"24px\"viewBox=\"0 0 24 24\"\n",
              "     width=\"24px\">\n",
              "    <g>\n",
              "        <path d=\"M19 3H5c-1.1 0-2 .9-2 2v14c0 1.1.9 2 2 2h14c1.1 0 2-.9 2-2V5c0-1.1-.9-2-2-2zM9 17H7v-7h2v7zm4 0h-2V7h2v10zm4 0h-2v-4h2v4z\"/>\n",
              "    </g>\n",
              "</svg>\n",
              "      </button>\n",
              "\n",
              "<style>\n",
              "  .colab-df-quickchart {\n",
              "      --bg-color: #E8F0FE;\n",
              "      --fill-color: #1967D2;\n",
              "      --hover-bg-color: #E2EBFA;\n",
              "      --hover-fill-color: #174EA6;\n",
              "      --disabled-fill-color: #AAA;\n",
              "      --disabled-bg-color: #DDD;\n",
              "  }\n",
              "\n",
              "  [theme=dark] .colab-df-quickchart {\n",
              "      --bg-color: #3B4455;\n",
              "      --fill-color: #D2E3FC;\n",
              "      --hover-bg-color: #434B5C;\n",
              "      --hover-fill-color: #FFFFFF;\n",
              "      --disabled-bg-color: #3B4455;\n",
              "      --disabled-fill-color: #666;\n",
              "  }\n",
              "\n",
              "  .colab-df-quickchart {\n",
              "    background-color: var(--bg-color);\n",
              "    border: none;\n",
              "    border-radius: 50%;\n",
              "    cursor: pointer;\n",
              "    display: none;\n",
              "    fill: var(--fill-color);\n",
              "    height: 32px;\n",
              "    padding: 0;\n",
              "    width: 32px;\n",
              "  }\n",
              "\n",
              "  .colab-df-quickchart:hover {\n",
              "    background-color: var(--hover-bg-color);\n",
              "    box-shadow: 0 1px 2px rgba(60, 64, 67, 0.3), 0 1px 3px 1px rgba(60, 64, 67, 0.15);\n",
              "    fill: var(--button-hover-fill-color);\n",
              "  }\n",
              "\n",
              "  .colab-df-quickchart-complete:disabled,\n",
              "  .colab-df-quickchart-complete:disabled:hover {\n",
              "    background-color: var(--disabled-bg-color);\n",
              "    fill: var(--disabled-fill-color);\n",
              "    box-shadow: none;\n",
              "  }\n",
              "\n",
              "  .colab-df-spinner {\n",
              "    border: 2px solid var(--fill-color);\n",
              "    border-color: transparent;\n",
              "    border-bottom-color: var(--fill-color);\n",
              "    animation:\n",
              "      spin 1s steps(1) infinite;\n",
              "  }\n",
              "\n",
              "  @keyframes spin {\n",
              "    0% {\n",
              "      border-color: transparent;\n",
              "      border-bottom-color: var(--fill-color);\n",
              "      border-left-color: var(--fill-color);\n",
              "    }\n",
              "    20% {\n",
              "      border-color: transparent;\n",
              "      border-left-color: var(--fill-color);\n",
              "      border-top-color: var(--fill-color);\n",
              "    }\n",
              "    30% {\n",
              "      border-color: transparent;\n",
              "      border-left-color: var(--fill-color);\n",
              "      border-top-color: var(--fill-color);\n",
              "      border-right-color: var(--fill-color);\n",
              "    }\n",
              "    40% {\n",
              "      border-color: transparent;\n",
              "      border-right-color: var(--fill-color);\n",
              "      border-top-color: var(--fill-color);\n",
              "    }\n",
              "    60% {\n",
              "      border-color: transparent;\n",
              "      border-right-color: var(--fill-color);\n",
              "    }\n",
              "    80% {\n",
              "      border-color: transparent;\n",
              "      border-right-color: var(--fill-color);\n",
              "      border-bottom-color: var(--fill-color);\n",
              "    }\n",
              "    90% {\n",
              "      border-color: transparent;\n",
              "      border-bottom-color: var(--fill-color);\n",
              "    }\n",
              "  }\n",
              "</style>\n",
              "\n",
              "      <script>\n",
              "        async function quickchart(key) {\n",
              "          const quickchartButtonEl =\n",
              "            document.querySelector('#' + key + ' button');\n",
              "          quickchartButtonEl.disabled = true;  // To prevent multiple clicks.\n",
              "          quickchartButtonEl.classList.add('colab-df-spinner');\n",
              "          try {\n",
              "            const charts = await google.colab.kernel.invokeFunction(\n",
              "                'suggestCharts', [key], {});\n",
              "          } catch (error) {\n",
              "            console.error('Error during call to suggestCharts:', error);\n",
              "          }\n",
              "          quickchartButtonEl.classList.remove('colab-df-spinner');\n",
              "          quickchartButtonEl.classList.add('colab-df-quickchart-complete');\n",
              "        }\n",
              "        (() => {\n",
              "          let quickchartButtonEl =\n",
              "            document.querySelector('#df-b904bc58-fa25-453e-aea6-61c62f102bb0 button');\n",
              "          quickchartButtonEl.style.display =\n",
              "            google.colab.kernel.accessAllowed ? 'block' : 'none';\n",
              "        })();\n",
              "      </script>\n",
              "    </div>\n",
              "\n",
              "  <div id=\"id_4520f6ca-3907-4d52-87c2-4a1adfe81d8d\">\n",
              "    <style>\n",
              "      .colab-df-generate {\n",
              "        background-color: #E8F0FE;\n",
              "        border: none;\n",
              "        border-radius: 50%;\n",
              "        cursor: pointer;\n",
              "        display: none;\n",
              "        fill: #1967D2;\n",
              "        height: 32px;\n",
              "        padding: 0 0 0 0;\n",
              "        width: 32px;\n",
              "      }\n",
              "\n",
              "      .colab-df-generate:hover {\n",
              "        background-color: #E2EBFA;\n",
              "        box-shadow: 0px 1px 2px rgba(60, 64, 67, 0.3), 0px 1px 3px 1px rgba(60, 64, 67, 0.15);\n",
              "        fill: #174EA6;\n",
              "      }\n",
              "\n",
              "      [theme=dark] .colab-df-generate {\n",
              "        background-color: #3B4455;\n",
              "        fill: #D2E3FC;\n",
              "      }\n",
              "\n",
              "      [theme=dark] .colab-df-generate:hover {\n",
              "        background-color: #434B5C;\n",
              "        box-shadow: 0px 1px 3px 1px rgba(0, 0, 0, 0.15);\n",
              "        filter: drop-shadow(0px 1px 2px rgba(0, 0, 0, 0.3));\n",
              "        fill: #FFFFFF;\n",
              "      }\n",
              "    </style>\n",
              "    <button class=\"colab-df-generate\" onclick=\"generateWithVariable('tSNE_representation')\"\n",
              "            title=\"Generate code using this dataframe.\"\n",
              "            style=\"display:none;\">\n",
              "\n",
              "  <svg xmlns=\"http://www.w3.org/2000/svg\" height=\"24px\"viewBox=\"0 0 24 24\"\n",
              "       width=\"24px\">\n",
              "    <path d=\"M7,19H8.4L18.45,9,17,7.55,7,17.6ZM5,21V16.75L18.45,3.32a2,2,0,0,1,2.83,0l1.4,1.43a1.91,1.91,0,0,1,.58,1.4,1.91,1.91,0,0,1-.58,1.4L9.25,21ZM18.45,9,17,7.55Zm-12,3A5.31,5.31,0,0,0,4.9,8.1,5.31,5.31,0,0,0,1,6.5,5.31,5.31,0,0,0,4.9,4.9,5.31,5.31,0,0,0,6.5,1,5.31,5.31,0,0,0,8.1,4.9,5.31,5.31,0,0,0,12,6.5,5.46,5.46,0,0,0,6.5,12Z\"/>\n",
              "  </svg>\n",
              "    </button>\n",
              "    <script>\n",
              "      (() => {\n",
              "      const buttonEl =\n",
              "        document.querySelector('#id_4520f6ca-3907-4d52-87c2-4a1adfe81d8d button.colab-df-generate');\n",
              "      buttonEl.style.display =\n",
              "        google.colab.kernel.accessAllowed ? 'block' : 'none';\n",
              "\n",
              "      buttonEl.onclick = () => {\n",
              "        google.colab.notebook.generateWithVariable('tSNE_representation');\n",
              "      }\n",
              "      })();\n",
              "    </script>\n",
              "  </div>\n",
              "\n",
              "    </div>\n",
              "  </div>\n"
            ],
            "application/vnd.google.colaboratory.intrinsic+json": {
              "type": "dataframe",
              "variable_name": "tSNE_representation",
              "summary": "{\n  \"name\": \"tSNE_representation\",\n  \"rows\": 1570,\n  \"fields\": [\n    {\n      \"column\": \"t-SNE 1\",\n      \"properties\": {\n        \"dtype\": \"float32\",\n        \"num_unique_values\": 1568,\n        \"samples\": [\n          25.73271942138672,\n          -46.6336669921875,\n          19.21339225769043\n        ],\n        \"semantic_type\": \"\",\n        \"description\": \"\"\n      }\n    },\n    {\n      \"column\": \"t-SNE 2\",\n      \"properties\": {\n        \"dtype\": \"float32\",\n        \"num_unique_values\": 1569,\n        \"samples\": [\n          -29.769624710083008,\n          20.977170944213867,\n          -27.097198486328125\n        ],\n        \"semantic_type\": \"\",\n        \"description\": \"\"\n      }\n    }\n  ]\n}"
            }
          },
          "metadata": {},
          "execution_count": 49
        }
      ]
    },
    {
      "cell_type": "code",
      "source": [
        "tSNEdf = tSNEdf.sort_values(by='Fault')"
      ],
      "metadata": {
        "id": "_TpCIloN904b"
      },
      "id": "_TpCIloN904b",
      "execution_count": 50,
      "outputs": []
    },
    {
      "cell_type": "code",
      "source": [
        "tSNEdf"
      ],
      "metadata": {
        "id": "xq2JlAOp_N5V",
        "colab": {
          "base_uri": "https://localhost:8080/",
          "height": 424
        },
        "outputId": "a7cc63a8-8185-4969-a2e0-62858b2b8cdc"
      },
      "id": "xq2JlAOp_N5V",
      "execution_count": 51,
      "outputs": [
        {
          "output_type": "execute_result",
          "data": {
            "text/plain": [
              "      T-SNE component 1  T-SNE component 2                        Fault\n",
              "784           -0.268092         -25.661104          Noise_20_B007_1_123\n",
              "650            0.468088         -27.683455          Noise_20_B007_1_123\n",
              "646            4.468990         -24.421198          Noise_20_B007_1_123\n",
              "645            4.835988         -28.794012          Noise_20_B007_1_123\n",
              "640            7.478864         -26.297018          Noise_20_B007_1_123\n",
              "...                 ...                ...                          ...\n",
              "719          -20.513409         -15.538752  Noise_20__Time_Normal_1_098\n",
              "900          -16.148027         -16.332129  Noise_20__Time_Normal_1_098\n",
              "899          -18.180286         -22.053024  Noise_20__Time_Normal_1_098\n",
              "614          -16.157112         -13.776140  Noise_20__Time_Normal_1_098\n",
              "1188         -21.764677         -11.981819  Noise_20__Time_Normal_1_098\n",
              "\n",
              "[1570 rows x 3 columns]"
            ],
            "text/html": [
              "\n",
              "  <div id=\"df-58ddc095-8074-4f93-a126-4e4a36a18586\" class=\"colab-df-container\">\n",
              "    <div>\n",
              "<style scoped>\n",
              "    .dataframe tbody tr th:only-of-type {\n",
              "        vertical-align: middle;\n",
              "    }\n",
              "\n",
              "    .dataframe tbody tr th {\n",
              "        vertical-align: top;\n",
              "    }\n",
              "\n",
              "    .dataframe thead th {\n",
              "        text-align: right;\n",
              "    }\n",
              "</style>\n",
              "<table border=\"1\" class=\"dataframe\">\n",
              "  <thead>\n",
              "    <tr style=\"text-align: right;\">\n",
              "      <th></th>\n",
              "      <th>T-SNE component 1</th>\n",
              "      <th>T-SNE component 2</th>\n",
              "      <th>Fault</th>\n",
              "    </tr>\n",
              "  </thead>\n",
              "  <tbody>\n",
              "    <tr>\n",
              "      <th>784</th>\n",
              "      <td>-0.268092</td>\n",
              "      <td>-25.661104</td>\n",
              "      <td>Noise_20_B007_1_123</td>\n",
              "    </tr>\n",
              "    <tr>\n",
              "      <th>650</th>\n",
              "      <td>0.468088</td>\n",
              "      <td>-27.683455</td>\n",
              "      <td>Noise_20_B007_1_123</td>\n",
              "    </tr>\n",
              "    <tr>\n",
              "      <th>646</th>\n",
              "      <td>4.468990</td>\n",
              "      <td>-24.421198</td>\n",
              "      <td>Noise_20_B007_1_123</td>\n",
              "    </tr>\n",
              "    <tr>\n",
              "      <th>645</th>\n",
              "      <td>4.835988</td>\n",
              "      <td>-28.794012</td>\n",
              "      <td>Noise_20_B007_1_123</td>\n",
              "    </tr>\n",
              "    <tr>\n",
              "      <th>640</th>\n",
              "      <td>7.478864</td>\n",
              "      <td>-26.297018</td>\n",
              "      <td>Noise_20_B007_1_123</td>\n",
              "    </tr>\n",
              "    <tr>\n",
              "      <th>...</th>\n",
              "      <td>...</td>\n",
              "      <td>...</td>\n",
              "      <td>...</td>\n",
              "    </tr>\n",
              "    <tr>\n",
              "      <th>719</th>\n",
              "      <td>-20.513409</td>\n",
              "      <td>-15.538752</td>\n",
              "      <td>Noise_20__Time_Normal_1_098</td>\n",
              "    </tr>\n",
              "    <tr>\n",
              "      <th>900</th>\n",
              "      <td>-16.148027</td>\n",
              "      <td>-16.332129</td>\n",
              "      <td>Noise_20__Time_Normal_1_098</td>\n",
              "    </tr>\n",
              "    <tr>\n",
              "      <th>899</th>\n",
              "      <td>-18.180286</td>\n",
              "      <td>-22.053024</td>\n",
              "      <td>Noise_20__Time_Normal_1_098</td>\n",
              "    </tr>\n",
              "    <tr>\n",
              "      <th>614</th>\n",
              "      <td>-16.157112</td>\n",
              "      <td>-13.776140</td>\n",
              "      <td>Noise_20__Time_Normal_1_098</td>\n",
              "    </tr>\n",
              "    <tr>\n",
              "      <th>1188</th>\n",
              "      <td>-21.764677</td>\n",
              "      <td>-11.981819</td>\n",
              "      <td>Noise_20__Time_Normal_1_098</td>\n",
              "    </tr>\n",
              "  </tbody>\n",
              "</table>\n",
              "<p>1570 rows × 3 columns</p>\n",
              "</div>\n",
              "    <div class=\"colab-df-buttons\">\n",
              "\n",
              "  <div class=\"colab-df-container\">\n",
              "    <button class=\"colab-df-convert\" onclick=\"convertToInteractive('df-58ddc095-8074-4f93-a126-4e4a36a18586')\"\n",
              "            title=\"Convert this dataframe to an interactive table.\"\n",
              "            style=\"display:none;\">\n",
              "\n",
              "  <svg xmlns=\"http://www.w3.org/2000/svg\" height=\"24px\" viewBox=\"0 -960 960 960\">\n",
              "    <path d=\"M120-120v-720h720v720H120Zm60-500h600v-160H180v160Zm220 220h160v-160H400v160Zm0 220h160v-160H400v160ZM180-400h160v-160H180v160Zm440 0h160v-160H620v160ZM180-180h160v-160H180v160Zm440 0h160v-160H620v160Z\"/>\n",
              "  </svg>\n",
              "    </button>\n",
              "\n",
              "  <style>\n",
              "    .colab-df-container {\n",
              "      display:flex;\n",
              "      gap: 12px;\n",
              "    }\n",
              "\n",
              "    .colab-df-convert {\n",
              "      background-color: #E8F0FE;\n",
              "      border: none;\n",
              "      border-radius: 50%;\n",
              "      cursor: pointer;\n",
              "      display: none;\n",
              "      fill: #1967D2;\n",
              "      height: 32px;\n",
              "      padding: 0 0 0 0;\n",
              "      width: 32px;\n",
              "    }\n",
              "\n",
              "    .colab-df-convert:hover {\n",
              "      background-color: #E2EBFA;\n",
              "      box-shadow: 0px 1px 2px rgba(60, 64, 67, 0.3), 0px 1px 3px 1px rgba(60, 64, 67, 0.15);\n",
              "      fill: #174EA6;\n",
              "    }\n",
              "\n",
              "    .colab-df-buttons div {\n",
              "      margin-bottom: 4px;\n",
              "    }\n",
              "\n",
              "    [theme=dark] .colab-df-convert {\n",
              "      background-color: #3B4455;\n",
              "      fill: #D2E3FC;\n",
              "    }\n",
              "\n",
              "    [theme=dark] .colab-df-convert:hover {\n",
              "      background-color: #434B5C;\n",
              "      box-shadow: 0px 1px 3px 1px rgba(0, 0, 0, 0.15);\n",
              "      filter: drop-shadow(0px 1px 2px rgba(0, 0, 0, 0.3));\n",
              "      fill: #FFFFFF;\n",
              "    }\n",
              "  </style>\n",
              "\n",
              "    <script>\n",
              "      const buttonEl =\n",
              "        document.querySelector('#df-58ddc095-8074-4f93-a126-4e4a36a18586 button.colab-df-convert');\n",
              "      buttonEl.style.display =\n",
              "        google.colab.kernel.accessAllowed ? 'block' : 'none';\n",
              "\n",
              "      async function convertToInteractive(key) {\n",
              "        const element = document.querySelector('#df-58ddc095-8074-4f93-a126-4e4a36a18586');\n",
              "        const dataTable =\n",
              "          await google.colab.kernel.invokeFunction('convertToInteractive',\n",
              "                                                    [key], {});\n",
              "        if (!dataTable) return;\n",
              "\n",
              "        const docLinkHtml = 'Like what you see? Visit the ' +\n",
              "          '<a target=\"_blank\" href=https://colab.research.google.com/notebooks/data_table.ipynb>data table notebook</a>'\n",
              "          + ' to learn more about interactive tables.';\n",
              "        element.innerHTML = '';\n",
              "        dataTable['output_type'] = 'display_data';\n",
              "        await google.colab.output.renderOutput(dataTable, element);\n",
              "        const docLink = document.createElement('div');\n",
              "        docLink.innerHTML = docLinkHtml;\n",
              "        element.appendChild(docLink);\n",
              "      }\n",
              "    </script>\n",
              "  </div>\n",
              "\n",
              "\n",
              "    <div id=\"df-88564b8f-247f-4040-abef-7f242c5bc1c2\">\n",
              "      <button class=\"colab-df-quickchart\" onclick=\"quickchart('df-88564b8f-247f-4040-abef-7f242c5bc1c2')\"\n",
              "                title=\"Suggest charts\"\n",
              "                style=\"display:none;\">\n",
              "\n",
              "<svg xmlns=\"http://www.w3.org/2000/svg\" height=\"24px\"viewBox=\"0 0 24 24\"\n",
              "     width=\"24px\">\n",
              "    <g>\n",
              "        <path d=\"M19 3H5c-1.1 0-2 .9-2 2v14c0 1.1.9 2 2 2h14c1.1 0 2-.9 2-2V5c0-1.1-.9-2-2-2zM9 17H7v-7h2v7zm4 0h-2V7h2v10zm4 0h-2v-4h2v4z\"/>\n",
              "    </g>\n",
              "</svg>\n",
              "      </button>\n",
              "\n",
              "<style>\n",
              "  .colab-df-quickchart {\n",
              "      --bg-color: #E8F0FE;\n",
              "      --fill-color: #1967D2;\n",
              "      --hover-bg-color: #E2EBFA;\n",
              "      --hover-fill-color: #174EA6;\n",
              "      --disabled-fill-color: #AAA;\n",
              "      --disabled-bg-color: #DDD;\n",
              "  }\n",
              "\n",
              "  [theme=dark] .colab-df-quickchart {\n",
              "      --bg-color: #3B4455;\n",
              "      --fill-color: #D2E3FC;\n",
              "      --hover-bg-color: #434B5C;\n",
              "      --hover-fill-color: #FFFFFF;\n",
              "      --disabled-bg-color: #3B4455;\n",
              "      --disabled-fill-color: #666;\n",
              "  }\n",
              "\n",
              "  .colab-df-quickchart {\n",
              "    background-color: var(--bg-color);\n",
              "    border: none;\n",
              "    border-radius: 50%;\n",
              "    cursor: pointer;\n",
              "    display: none;\n",
              "    fill: var(--fill-color);\n",
              "    height: 32px;\n",
              "    padding: 0;\n",
              "    width: 32px;\n",
              "  }\n",
              "\n",
              "  .colab-df-quickchart:hover {\n",
              "    background-color: var(--hover-bg-color);\n",
              "    box-shadow: 0 1px 2px rgba(60, 64, 67, 0.3), 0 1px 3px 1px rgba(60, 64, 67, 0.15);\n",
              "    fill: var(--button-hover-fill-color);\n",
              "  }\n",
              "\n",
              "  .colab-df-quickchart-complete:disabled,\n",
              "  .colab-df-quickchart-complete:disabled:hover {\n",
              "    background-color: var(--disabled-bg-color);\n",
              "    fill: var(--disabled-fill-color);\n",
              "    box-shadow: none;\n",
              "  }\n",
              "\n",
              "  .colab-df-spinner {\n",
              "    border: 2px solid var(--fill-color);\n",
              "    border-color: transparent;\n",
              "    border-bottom-color: var(--fill-color);\n",
              "    animation:\n",
              "      spin 1s steps(1) infinite;\n",
              "  }\n",
              "\n",
              "  @keyframes spin {\n",
              "    0% {\n",
              "      border-color: transparent;\n",
              "      border-bottom-color: var(--fill-color);\n",
              "      border-left-color: var(--fill-color);\n",
              "    }\n",
              "    20% {\n",
              "      border-color: transparent;\n",
              "      border-left-color: var(--fill-color);\n",
              "      border-top-color: var(--fill-color);\n",
              "    }\n",
              "    30% {\n",
              "      border-color: transparent;\n",
              "      border-left-color: var(--fill-color);\n",
              "      border-top-color: var(--fill-color);\n",
              "      border-right-color: var(--fill-color);\n",
              "    }\n",
              "    40% {\n",
              "      border-color: transparent;\n",
              "      border-right-color: var(--fill-color);\n",
              "      border-top-color: var(--fill-color);\n",
              "    }\n",
              "    60% {\n",
              "      border-color: transparent;\n",
              "      border-right-color: var(--fill-color);\n",
              "    }\n",
              "    80% {\n",
              "      border-color: transparent;\n",
              "      border-right-color: var(--fill-color);\n",
              "      border-bottom-color: var(--fill-color);\n",
              "    }\n",
              "    90% {\n",
              "      border-color: transparent;\n",
              "      border-bottom-color: var(--fill-color);\n",
              "    }\n",
              "  }\n",
              "</style>\n",
              "\n",
              "      <script>\n",
              "        async function quickchart(key) {\n",
              "          const quickchartButtonEl =\n",
              "            document.querySelector('#' + key + ' button');\n",
              "          quickchartButtonEl.disabled = true;  // To prevent multiple clicks.\n",
              "          quickchartButtonEl.classList.add('colab-df-spinner');\n",
              "          try {\n",
              "            const charts = await google.colab.kernel.invokeFunction(\n",
              "                'suggestCharts', [key], {});\n",
              "          } catch (error) {\n",
              "            console.error('Error during call to suggestCharts:', error);\n",
              "          }\n",
              "          quickchartButtonEl.classList.remove('colab-df-spinner');\n",
              "          quickchartButtonEl.classList.add('colab-df-quickchart-complete');\n",
              "        }\n",
              "        (() => {\n",
              "          let quickchartButtonEl =\n",
              "            document.querySelector('#df-88564b8f-247f-4040-abef-7f242c5bc1c2 button');\n",
              "          quickchartButtonEl.style.display =\n",
              "            google.colab.kernel.accessAllowed ? 'block' : 'none';\n",
              "        })();\n",
              "      </script>\n",
              "    </div>\n",
              "\n",
              "  <div id=\"id_6ade0cde-0838-4dda-b79c-5c2155e10e10\">\n",
              "    <style>\n",
              "      .colab-df-generate {\n",
              "        background-color: #E8F0FE;\n",
              "        border: none;\n",
              "        border-radius: 50%;\n",
              "        cursor: pointer;\n",
              "        display: none;\n",
              "        fill: #1967D2;\n",
              "        height: 32px;\n",
              "        padding: 0 0 0 0;\n",
              "        width: 32px;\n",
              "      }\n",
              "\n",
              "      .colab-df-generate:hover {\n",
              "        background-color: #E2EBFA;\n",
              "        box-shadow: 0px 1px 2px rgba(60, 64, 67, 0.3), 0px 1px 3px 1px rgba(60, 64, 67, 0.15);\n",
              "        fill: #174EA6;\n",
              "      }\n",
              "\n",
              "      [theme=dark] .colab-df-generate {\n",
              "        background-color: #3B4455;\n",
              "        fill: #D2E3FC;\n",
              "      }\n",
              "\n",
              "      [theme=dark] .colab-df-generate:hover {\n",
              "        background-color: #434B5C;\n",
              "        box-shadow: 0px 1px 3px 1px rgba(0, 0, 0, 0.15);\n",
              "        filter: drop-shadow(0px 1px 2px rgba(0, 0, 0, 0.3));\n",
              "        fill: #FFFFFF;\n",
              "      }\n",
              "    </style>\n",
              "    <button class=\"colab-df-generate\" onclick=\"generateWithVariable('tSNEdf')\"\n",
              "            title=\"Generate code using this dataframe.\"\n",
              "            style=\"display:none;\">\n",
              "\n",
              "  <svg xmlns=\"http://www.w3.org/2000/svg\" height=\"24px\"viewBox=\"0 0 24 24\"\n",
              "       width=\"24px\">\n",
              "    <path d=\"M7,19H8.4L18.45,9,17,7.55,7,17.6ZM5,21V16.75L18.45,3.32a2,2,0,0,1,2.83,0l1.4,1.43a1.91,1.91,0,0,1,.58,1.4,1.91,1.91,0,0,1-.58,1.4L9.25,21ZM18.45,9,17,7.55Zm-12,3A5.31,5.31,0,0,0,4.9,8.1,5.31,5.31,0,0,0,1,6.5,5.31,5.31,0,0,0,4.9,4.9,5.31,5.31,0,0,0,6.5,1,5.31,5.31,0,0,0,8.1,4.9,5.31,5.31,0,0,0,12,6.5,5.46,5.46,0,0,0,6.5,12Z\"/>\n",
              "  </svg>\n",
              "    </button>\n",
              "    <script>\n",
              "      (() => {\n",
              "      const buttonEl =\n",
              "        document.querySelector('#id_6ade0cde-0838-4dda-b79c-5c2155e10e10 button.colab-df-generate');\n",
              "      buttonEl.style.display =\n",
              "        google.colab.kernel.accessAllowed ? 'block' : 'none';\n",
              "\n",
              "      buttonEl.onclick = () => {\n",
              "        google.colab.notebook.generateWithVariable('tSNEdf');\n",
              "      }\n",
              "      })();\n",
              "    </script>\n",
              "  </div>\n",
              "\n",
              "    </div>\n",
              "  </div>\n"
            ],
            "application/vnd.google.colaboratory.intrinsic+json": {
              "type": "dataframe",
              "variable_name": "tSNEdf",
              "summary": "{\n  \"name\": \"tSNEdf\",\n  \"rows\": 1570,\n  \"fields\": [\n    {\n      \"column\": \"T-SNE component 1\",\n      \"properties\": {\n        \"dtype\": \"float32\",\n        \"num_unique_values\": 1570,\n        \"samples\": [\n          -20.851703643798828,\n          28.480478286743164,\n          -10.769082069396973\n        ],\n        \"semantic_type\": \"\",\n        \"description\": \"\"\n      }\n    },\n    {\n      \"column\": \"T-SNE component 2\",\n      \"properties\": {\n        \"dtype\": \"float32\",\n        \"num_unique_values\": 1570,\n        \"samples\": [\n          -16.697933197021484,\n          1.4283814430236816,\n          10.454060554504395\n        ],\n        \"semantic_type\": \"\",\n        \"description\": \"\"\n      }\n    },\n    {\n      \"column\": \"Fault\",\n      \"properties\": {\n        \"dtype\": \"category\",\n        \"num_unique_values\": 9,\n        \"samples\": [\n          \"Noise_20_OR021_6_1_239\",\n          \"Noise_20_B014_1_190\",\n          \"Noise_20_OR007_6_1_136\"\n        ],\n        \"semantic_type\": \"\",\n        \"description\": \"\"\n      }\n    }\n  ]\n}"
            }
          },
          "metadata": {},
          "execution_count": 51
        }
      ]
    },
    {
      "cell_type": "markdown",
      "source": [
        "Combined Features"
      ],
      "metadata": {
        "id": "73T5xFDWQmML"
      },
      "id": "73T5xFDWQmML"
    },
    {
      "cell_type": "code",
      "source": [
        "# import pandas as pd\n",
        "\n",
        "# Assuming df1 and df2 are your two dataframes\n",
        "# Concatenate the dataframes vertically\n",
        "Motor_Fault_dataset = pd.concat([tSNE_representation, tSNEdf], axis=1)\n",
        "Motor_Fault_dataset=Motor_Fault_dataset.sort_values(by='Fault')\n",
        "Motor_Fault_dataset\n",
        "\n",
        "import pandas as pd\n",
        "from sklearn.preprocessing import StandardScaler\n",
        "\n",
        "# Assuming df1 and df2 are your two dataframes\n",
        "# Concatenate the dataframes vertically\n",
        "Motor_Fault_dataset = pd.concat([tSNE_representation, tSNEdf], axis=1)\n",
        "\n",
        "# Sort the dataset by 'Fault' column\n",
        "Motor_Fault_dataset = Motor_Fault_dataset.sort_values(by='Fault')\n",
        "Motor_Fault_dataset\n"
      ],
      "metadata": {
        "id": "sEmeYK5c8anK",
        "colab": {
          "base_uri": "https://localhost:8080/",
          "height": 424
        },
        "outputId": "28579508-fc7f-423f-c100-bb10f529651e"
      },
      "id": "sEmeYK5c8anK",
      "execution_count": 52,
      "outputs": [
        {
          "output_type": "execute_result",
          "data": {
            "text/plain": [
              "        t-SNE 1    t-SNE 2  T-SNE component 1  T-SNE component 2  \\\n",
              "784    5.706754  46.173515          -0.268092         -25.661104   \n",
              "650   -5.694093 -44.144920           0.468088         -27.683455   \n",
              "646   -5.465993 -35.657150           4.468990         -24.421198   \n",
              "645   -8.449287 -32.704254           4.835988         -28.794012   \n",
              "640   -7.694631 -46.336590           7.478864         -26.297018   \n",
              "...         ...        ...                ...                ...   \n",
              "719  -12.512770  49.211769         -20.513409         -15.538752   \n",
              "900  -36.106422  19.907265         -16.148027         -16.332129   \n",
              "899  -42.584270  16.786142         -18.180286         -22.053024   \n",
              "614   -4.658203 -39.995380         -16.157112         -13.776140   \n",
              "1188   8.186047   1.500204         -21.764677         -11.981819   \n",
              "\n",
              "                            Fault  \n",
              "784           Noise_20_B007_1_123  \n",
              "650           Noise_20_B007_1_123  \n",
              "646           Noise_20_B007_1_123  \n",
              "645           Noise_20_B007_1_123  \n",
              "640           Noise_20_B007_1_123  \n",
              "...                           ...  \n",
              "719   Noise_20__Time_Normal_1_098  \n",
              "900   Noise_20__Time_Normal_1_098  \n",
              "899   Noise_20__Time_Normal_1_098  \n",
              "614   Noise_20__Time_Normal_1_098  \n",
              "1188  Noise_20__Time_Normal_1_098  \n",
              "\n",
              "[1570 rows x 5 columns]"
            ],
            "text/html": [
              "\n",
              "  <div id=\"df-86234e7b-6d4e-4cd9-88bd-0a1587ffe4c1\" class=\"colab-df-container\">\n",
              "    <div>\n",
              "<style scoped>\n",
              "    .dataframe tbody tr th:only-of-type {\n",
              "        vertical-align: middle;\n",
              "    }\n",
              "\n",
              "    .dataframe tbody tr th {\n",
              "        vertical-align: top;\n",
              "    }\n",
              "\n",
              "    .dataframe thead th {\n",
              "        text-align: right;\n",
              "    }\n",
              "</style>\n",
              "<table border=\"1\" class=\"dataframe\">\n",
              "  <thead>\n",
              "    <tr style=\"text-align: right;\">\n",
              "      <th></th>\n",
              "      <th>t-SNE 1</th>\n",
              "      <th>t-SNE 2</th>\n",
              "      <th>T-SNE component 1</th>\n",
              "      <th>T-SNE component 2</th>\n",
              "      <th>Fault</th>\n",
              "    </tr>\n",
              "  </thead>\n",
              "  <tbody>\n",
              "    <tr>\n",
              "      <th>784</th>\n",
              "      <td>5.706754</td>\n",
              "      <td>46.173515</td>\n",
              "      <td>-0.268092</td>\n",
              "      <td>-25.661104</td>\n",
              "      <td>Noise_20_B007_1_123</td>\n",
              "    </tr>\n",
              "    <tr>\n",
              "      <th>650</th>\n",
              "      <td>-5.694093</td>\n",
              "      <td>-44.144920</td>\n",
              "      <td>0.468088</td>\n",
              "      <td>-27.683455</td>\n",
              "      <td>Noise_20_B007_1_123</td>\n",
              "    </tr>\n",
              "    <tr>\n",
              "      <th>646</th>\n",
              "      <td>-5.465993</td>\n",
              "      <td>-35.657150</td>\n",
              "      <td>4.468990</td>\n",
              "      <td>-24.421198</td>\n",
              "      <td>Noise_20_B007_1_123</td>\n",
              "    </tr>\n",
              "    <tr>\n",
              "      <th>645</th>\n",
              "      <td>-8.449287</td>\n",
              "      <td>-32.704254</td>\n",
              "      <td>4.835988</td>\n",
              "      <td>-28.794012</td>\n",
              "      <td>Noise_20_B007_1_123</td>\n",
              "    </tr>\n",
              "    <tr>\n",
              "      <th>640</th>\n",
              "      <td>-7.694631</td>\n",
              "      <td>-46.336590</td>\n",
              "      <td>7.478864</td>\n",
              "      <td>-26.297018</td>\n",
              "      <td>Noise_20_B007_1_123</td>\n",
              "    </tr>\n",
              "    <tr>\n",
              "      <th>...</th>\n",
              "      <td>...</td>\n",
              "      <td>...</td>\n",
              "      <td>...</td>\n",
              "      <td>...</td>\n",
              "      <td>...</td>\n",
              "    </tr>\n",
              "    <tr>\n",
              "      <th>719</th>\n",
              "      <td>-12.512770</td>\n",
              "      <td>49.211769</td>\n",
              "      <td>-20.513409</td>\n",
              "      <td>-15.538752</td>\n",
              "      <td>Noise_20__Time_Normal_1_098</td>\n",
              "    </tr>\n",
              "    <tr>\n",
              "      <th>900</th>\n",
              "      <td>-36.106422</td>\n",
              "      <td>19.907265</td>\n",
              "      <td>-16.148027</td>\n",
              "      <td>-16.332129</td>\n",
              "      <td>Noise_20__Time_Normal_1_098</td>\n",
              "    </tr>\n",
              "    <tr>\n",
              "      <th>899</th>\n",
              "      <td>-42.584270</td>\n",
              "      <td>16.786142</td>\n",
              "      <td>-18.180286</td>\n",
              "      <td>-22.053024</td>\n",
              "      <td>Noise_20__Time_Normal_1_098</td>\n",
              "    </tr>\n",
              "    <tr>\n",
              "      <th>614</th>\n",
              "      <td>-4.658203</td>\n",
              "      <td>-39.995380</td>\n",
              "      <td>-16.157112</td>\n",
              "      <td>-13.776140</td>\n",
              "      <td>Noise_20__Time_Normal_1_098</td>\n",
              "    </tr>\n",
              "    <tr>\n",
              "      <th>1188</th>\n",
              "      <td>8.186047</td>\n",
              "      <td>1.500204</td>\n",
              "      <td>-21.764677</td>\n",
              "      <td>-11.981819</td>\n",
              "      <td>Noise_20__Time_Normal_1_098</td>\n",
              "    </tr>\n",
              "  </tbody>\n",
              "</table>\n",
              "<p>1570 rows × 5 columns</p>\n",
              "</div>\n",
              "    <div class=\"colab-df-buttons\">\n",
              "\n",
              "  <div class=\"colab-df-container\">\n",
              "    <button class=\"colab-df-convert\" onclick=\"convertToInteractive('df-86234e7b-6d4e-4cd9-88bd-0a1587ffe4c1')\"\n",
              "            title=\"Convert this dataframe to an interactive table.\"\n",
              "            style=\"display:none;\">\n",
              "\n",
              "  <svg xmlns=\"http://www.w3.org/2000/svg\" height=\"24px\" viewBox=\"0 -960 960 960\">\n",
              "    <path d=\"M120-120v-720h720v720H120Zm60-500h600v-160H180v160Zm220 220h160v-160H400v160Zm0 220h160v-160H400v160ZM180-400h160v-160H180v160Zm440 0h160v-160H620v160ZM180-180h160v-160H180v160Zm440 0h160v-160H620v160Z\"/>\n",
              "  </svg>\n",
              "    </button>\n",
              "\n",
              "  <style>\n",
              "    .colab-df-container {\n",
              "      display:flex;\n",
              "      gap: 12px;\n",
              "    }\n",
              "\n",
              "    .colab-df-convert {\n",
              "      background-color: #E8F0FE;\n",
              "      border: none;\n",
              "      border-radius: 50%;\n",
              "      cursor: pointer;\n",
              "      display: none;\n",
              "      fill: #1967D2;\n",
              "      height: 32px;\n",
              "      padding: 0 0 0 0;\n",
              "      width: 32px;\n",
              "    }\n",
              "\n",
              "    .colab-df-convert:hover {\n",
              "      background-color: #E2EBFA;\n",
              "      box-shadow: 0px 1px 2px rgba(60, 64, 67, 0.3), 0px 1px 3px 1px rgba(60, 64, 67, 0.15);\n",
              "      fill: #174EA6;\n",
              "    }\n",
              "\n",
              "    .colab-df-buttons div {\n",
              "      margin-bottom: 4px;\n",
              "    }\n",
              "\n",
              "    [theme=dark] .colab-df-convert {\n",
              "      background-color: #3B4455;\n",
              "      fill: #D2E3FC;\n",
              "    }\n",
              "\n",
              "    [theme=dark] .colab-df-convert:hover {\n",
              "      background-color: #434B5C;\n",
              "      box-shadow: 0px 1px 3px 1px rgba(0, 0, 0, 0.15);\n",
              "      filter: drop-shadow(0px 1px 2px rgba(0, 0, 0, 0.3));\n",
              "      fill: #FFFFFF;\n",
              "    }\n",
              "  </style>\n",
              "\n",
              "    <script>\n",
              "      const buttonEl =\n",
              "        document.querySelector('#df-86234e7b-6d4e-4cd9-88bd-0a1587ffe4c1 button.colab-df-convert');\n",
              "      buttonEl.style.display =\n",
              "        google.colab.kernel.accessAllowed ? 'block' : 'none';\n",
              "\n",
              "      async function convertToInteractive(key) {\n",
              "        const element = document.querySelector('#df-86234e7b-6d4e-4cd9-88bd-0a1587ffe4c1');\n",
              "        const dataTable =\n",
              "          await google.colab.kernel.invokeFunction('convertToInteractive',\n",
              "                                                    [key], {});\n",
              "        if (!dataTable) return;\n",
              "\n",
              "        const docLinkHtml = 'Like what you see? Visit the ' +\n",
              "          '<a target=\"_blank\" href=https://colab.research.google.com/notebooks/data_table.ipynb>data table notebook</a>'\n",
              "          + ' to learn more about interactive tables.';\n",
              "        element.innerHTML = '';\n",
              "        dataTable['output_type'] = 'display_data';\n",
              "        await google.colab.output.renderOutput(dataTable, element);\n",
              "        const docLink = document.createElement('div');\n",
              "        docLink.innerHTML = docLinkHtml;\n",
              "        element.appendChild(docLink);\n",
              "      }\n",
              "    </script>\n",
              "  </div>\n",
              "\n",
              "\n",
              "    <div id=\"df-ef9a1a2b-6d39-4fdd-b0c1-c8a0f44863a9\">\n",
              "      <button class=\"colab-df-quickchart\" onclick=\"quickchart('df-ef9a1a2b-6d39-4fdd-b0c1-c8a0f44863a9')\"\n",
              "                title=\"Suggest charts\"\n",
              "                style=\"display:none;\">\n",
              "\n",
              "<svg xmlns=\"http://www.w3.org/2000/svg\" height=\"24px\"viewBox=\"0 0 24 24\"\n",
              "     width=\"24px\">\n",
              "    <g>\n",
              "        <path d=\"M19 3H5c-1.1 0-2 .9-2 2v14c0 1.1.9 2 2 2h14c1.1 0 2-.9 2-2V5c0-1.1-.9-2-2-2zM9 17H7v-7h2v7zm4 0h-2V7h2v10zm4 0h-2v-4h2v4z\"/>\n",
              "    </g>\n",
              "</svg>\n",
              "      </button>\n",
              "\n",
              "<style>\n",
              "  .colab-df-quickchart {\n",
              "      --bg-color: #E8F0FE;\n",
              "      --fill-color: #1967D2;\n",
              "      --hover-bg-color: #E2EBFA;\n",
              "      --hover-fill-color: #174EA6;\n",
              "      --disabled-fill-color: #AAA;\n",
              "      --disabled-bg-color: #DDD;\n",
              "  }\n",
              "\n",
              "  [theme=dark] .colab-df-quickchart {\n",
              "      --bg-color: #3B4455;\n",
              "      --fill-color: #D2E3FC;\n",
              "      --hover-bg-color: #434B5C;\n",
              "      --hover-fill-color: #FFFFFF;\n",
              "      --disabled-bg-color: #3B4455;\n",
              "      --disabled-fill-color: #666;\n",
              "  }\n",
              "\n",
              "  .colab-df-quickchart {\n",
              "    background-color: var(--bg-color);\n",
              "    border: none;\n",
              "    border-radius: 50%;\n",
              "    cursor: pointer;\n",
              "    display: none;\n",
              "    fill: var(--fill-color);\n",
              "    height: 32px;\n",
              "    padding: 0;\n",
              "    width: 32px;\n",
              "  }\n",
              "\n",
              "  .colab-df-quickchart:hover {\n",
              "    background-color: var(--hover-bg-color);\n",
              "    box-shadow: 0 1px 2px rgba(60, 64, 67, 0.3), 0 1px 3px 1px rgba(60, 64, 67, 0.15);\n",
              "    fill: var(--button-hover-fill-color);\n",
              "  }\n",
              "\n",
              "  .colab-df-quickchart-complete:disabled,\n",
              "  .colab-df-quickchart-complete:disabled:hover {\n",
              "    background-color: var(--disabled-bg-color);\n",
              "    fill: var(--disabled-fill-color);\n",
              "    box-shadow: none;\n",
              "  }\n",
              "\n",
              "  .colab-df-spinner {\n",
              "    border: 2px solid var(--fill-color);\n",
              "    border-color: transparent;\n",
              "    border-bottom-color: var(--fill-color);\n",
              "    animation:\n",
              "      spin 1s steps(1) infinite;\n",
              "  }\n",
              "\n",
              "  @keyframes spin {\n",
              "    0% {\n",
              "      border-color: transparent;\n",
              "      border-bottom-color: var(--fill-color);\n",
              "      border-left-color: var(--fill-color);\n",
              "    }\n",
              "    20% {\n",
              "      border-color: transparent;\n",
              "      border-left-color: var(--fill-color);\n",
              "      border-top-color: var(--fill-color);\n",
              "    }\n",
              "    30% {\n",
              "      border-color: transparent;\n",
              "      border-left-color: var(--fill-color);\n",
              "      border-top-color: var(--fill-color);\n",
              "      border-right-color: var(--fill-color);\n",
              "    }\n",
              "    40% {\n",
              "      border-color: transparent;\n",
              "      border-right-color: var(--fill-color);\n",
              "      border-top-color: var(--fill-color);\n",
              "    }\n",
              "    60% {\n",
              "      border-color: transparent;\n",
              "      border-right-color: var(--fill-color);\n",
              "    }\n",
              "    80% {\n",
              "      border-color: transparent;\n",
              "      border-right-color: var(--fill-color);\n",
              "      border-bottom-color: var(--fill-color);\n",
              "    }\n",
              "    90% {\n",
              "      border-color: transparent;\n",
              "      border-bottom-color: var(--fill-color);\n",
              "    }\n",
              "  }\n",
              "</style>\n",
              "\n",
              "      <script>\n",
              "        async function quickchart(key) {\n",
              "          const quickchartButtonEl =\n",
              "            document.querySelector('#' + key + ' button');\n",
              "          quickchartButtonEl.disabled = true;  // To prevent multiple clicks.\n",
              "          quickchartButtonEl.classList.add('colab-df-spinner');\n",
              "          try {\n",
              "            const charts = await google.colab.kernel.invokeFunction(\n",
              "                'suggestCharts', [key], {});\n",
              "          } catch (error) {\n",
              "            console.error('Error during call to suggestCharts:', error);\n",
              "          }\n",
              "          quickchartButtonEl.classList.remove('colab-df-spinner');\n",
              "          quickchartButtonEl.classList.add('colab-df-quickchart-complete');\n",
              "        }\n",
              "        (() => {\n",
              "          let quickchartButtonEl =\n",
              "            document.querySelector('#df-ef9a1a2b-6d39-4fdd-b0c1-c8a0f44863a9 button');\n",
              "          quickchartButtonEl.style.display =\n",
              "            google.colab.kernel.accessAllowed ? 'block' : 'none';\n",
              "        })();\n",
              "      </script>\n",
              "    </div>\n",
              "\n",
              "  <div id=\"id_3eb4dbd2-6152-4825-a980-314c81db12b0\">\n",
              "    <style>\n",
              "      .colab-df-generate {\n",
              "        background-color: #E8F0FE;\n",
              "        border: none;\n",
              "        border-radius: 50%;\n",
              "        cursor: pointer;\n",
              "        display: none;\n",
              "        fill: #1967D2;\n",
              "        height: 32px;\n",
              "        padding: 0 0 0 0;\n",
              "        width: 32px;\n",
              "      }\n",
              "\n",
              "      .colab-df-generate:hover {\n",
              "        background-color: #E2EBFA;\n",
              "        box-shadow: 0px 1px 2px rgba(60, 64, 67, 0.3), 0px 1px 3px 1px rgba(60, 64, 67, 0.15);\n",
              "        fill: #174EA6;\n",
              "      }\n",
              "\n",
              "      [theme=dark] .colab-df-generate {\n",
              "        background-color: #3B4455;\n",
              "        fill: #D2E3FC;\n",
              "      }\n",
              "\n",
              "      [theme=dark] .colab-df-generate:hover {\n",
              "        background-color: #434B5C;\n",
              "        box-shadow: 0px 1px 3px 1px rgba(0, 0, 0, 0.15);\n",
              "        filter: drop-shadow(0px 1px 2px rgba(0, 0, 0, 0.3));\n",
              "        fill: #FFFFFF;\n",
              "      }\n",
              "    </style>\n",
              "    <button class=\"colab-df-generate\" onclick=\"generateWithVariable('Motor_Fault_dataset')\"\n",
              "            title=\"Generate code using this dataframe.\"\n",
              "            style=\"display:none;\">\n",
              "\n",
              "  <svg xmlns=\"http://www.w3.org/2000/svg\" height=\"24px\"viewBox=\"0 0 24 24\"\n",
              "       width=\"24px\">\n",
              "    <path d=\"M7,19H8.4L18.45,9,17,7.55,7,17.6ZM5,21V16.75L18.45,3.32a2,2,0,0,1,2.83,0l1.4,1.43a1.91,1.91,0,0,1,.58,1.4,1.91,1.91,0,0,1-.58,1.4L9.25,21ZM18.45,9,17,7.55Zm-12,3A5.31,5.31,0,0,0,4.9,8.1,5.31,5.31,0,0,0,1,6.5,5.31,5.31,0,0,0,4.9,4.9,5.31,5.31,0,0,0,6.5,1,5.31,5.31,0,0,0,8.1,4.9,5.31,5.31,0,0,0,12,6.5,5.46,5.46,0,0,0,6.5,12Z\"/>\n",
              "  </svg>\n",
              "    </button>\n",
              "    <script>\n",
              "      (() => {\n",
              "      const buttonEl =\n",
              "        document.querySelector('#id_3eb4dbd2-6152-4825-a980-314c81db12b0 button.colab-df-generate');\n",
              "      buttonEl.style.display =\n",
              "        google.colab.kernel.accessAllowed ? 'block' : 'none';\n",
              "\n",
              "      buttonEl.onclick = () => {\n",
              "        google.colab.notebook.generateWithVariable('Motor_Fault_dataset');\n",
              "      }\n",
              "      })();\n",
              "    </script>\n",
              "  </div>\n",
              "\n",
              "    </div>\n",
              "  </div>\n"
            ],
            "application/vnd.google.colaboratory.intrinsic+json": {
              "type": "dataframe",
              "variable_name": "Motor_Fault_dataset",
              "summary": "{\n  \"name\": \"Motor_Fault_dataset\",\n  \"rows\": 1570,\n  \"fields\": [\n    {\n      \"column\": \"t-SNE 1\",\n      \"properties\": {\n        \"dtype\": \"float32\",\n        \"num_unique_values\": 1568,\n        \"samples\": [\n          29.205453872680664,\n          16.60516357421875,\n          4.283136367797852\n        ],\n        \"semantic_type\": \"\",\n        \"description\": \"\"\n      }\n    },\n    {\n      \"column\": \"t-SNE 2\",\n      \"properties\": {\n        \"dtype\": \"float32\",\n        \"num_unique_values\": 1569,\n        \"samples\": [\n          12.880182266235352,\n          -10.922868728637695,\n          15.252776145935059\n        ],\n        \"semantic_type\": \"\",\n        \"description\": \"\"\n      }\n    },\n    {\n      \"column\": \"T-SNE component 1\",\n      \"properties\": {\n        \"dtype\": \"float32\",\n        \"num_unique_values\": 1570,\n        \"samples\": [\n          -20.851703643798828,\n          28.480478286743164,\n          -10.769082069396973\n        ],\n        \"semantic_type\": \"\",\n        \"description\": \"\"\n      }\n    },\n    {\n      \"column\": \"T-SNE component 2\",\n      \"properties\": {\n        \"dtype\": \"float32\",\n        \"num_unique_values\": 1570,\n        \"samples\": [\n          -16.697933197021484,\n          1.4283814430236816,\n          10.454060554504395\n        ],\n        \"semantic_type\": \"\",\n        \"description\": \"\"\n      }\n    },\n    {\n      \"column\": \"Fault\",\n      \"properties\": {\n        \"dtype\": \"category\",\n        \"num_unique_values\": 9,\n        \"samples\": [\n          \"Noise_20_OR021_6_1_239\",\n          \"Noise_20_B014_1_190\",\n          \"Noise_20_OR007_6_1_136\"\n        ],\n        \"semantic_type\": \"\",\n        \"description\": \"\"\n      }\n    }\n  ]\n}"
            }
          },
          "metadata": {},
          "execution_count": 52
        }
      ]
    },
    {
      "cell_type": "code",
      "source": [
        "#Classification Report for MKDCNN"
      ],
      "metadata": {
        "id": "zC_6vMBPsOs_"
      },
      "id": "zC_6vMBPsOs_",
      "execution_count": 53,
      "outputs": []
    },
    {
      "cell_type": "code",
      "source": [],
      "metadata": {
        "id": "b77LcDP9sPR2"
      },
      "id": "b77LcDP9sPR2",
      "execution_count": 53,
      "outputs": []
    },
    {
      "cell_type": "markdown",
      "source": [
        "HSPSO-CatBoost\n"
      ],
      "metadata": {
        "id": "wZFQ37UCYN1p"
      },
      "id": "wZFQ37UCYN1p"
    },
    {
      "cell_type": "code",
      "source": [
        "X = Motor_Fault_dataset.iloc[:, 0:4].values\n",
        "y = Motor_Fault_dataset.iloc[:, 4].values"
      ],
      "metadata": {
        "id": "f_P8BWzmYTg0"
      },
      "id": "f_P8BWzmYTg0",
      "execution_count": 54,
      "outputs": []
    },
    {
      "cell_type": "code",
      "source": [
        "# Splitting the dataset into the Training set and Test set\n",
        "from sklearn.model_selection import train_test_split\n",
        "X_train, X_test, y_train, y_test = train_test_split(X, y, test_size = 0.2)"
      ],
      "metadata": {
        "id": "vLMueEZ6YfvA"
      },
      "id": "vLMueEZ6YfvA",
      "execution_count": 55,
      "outputs": []
    },
    {
      "cell_type": "code",
      "source": [
        "pip install -q hyperactive"
      ],
      "metadata": {
        "id": "nsTDebhD9iQw",
        "colab": {
          "base_uri": "https://localhost:8080/"
        },
        "outputId": "31a0bd66-2122-4fc5-d209-c516420e0499"
      },
      "id": "nsTDebhD9iQw",
      "execution_count": 56,
      "outputs": [
        {
          "output_type": "stream",
          "name": "stdout",
          "text": [
            "\u001b[2K     \u001b[90m━━━━━━━━━━━━━━━━━━━━━━━━━━━━━━━━━━━━━━━━\u001b[0m \u001b[32m42.8/42.8 kB\u001b[0m \u001b[31m2.6 MB/s\u001b[0m eta \u001b[36m0:00:00\u001b[0m\n",
            "\u001b[2K   \u001b[90m━━━━━━━━━━━━━━━━━━━━━━━━━━━━━━━━━━━━━━━━\u001b[0m \u001b[32m95.8/95.8 kB\u001b[0m \u001b[31m6.2 MB/s\u001b[0m eta \u001b[36m0:00:00\u001b[0m\n",
            "\u001b[?25h"
          ]
        }
      ]
    },
    {
      "cell_type": "code",
      "source": [
        "pip install -q catboost"
      ],
      "metadata": {
        "id": "UTH39uc29p_Q"
      },
      "id": "UTH39uc29p_Q",
      "execution_count": 57,
      "outputs": []
    },
    {
      "cell_type": "markdown",
      "source": [
        "Deployment:"
      ],
      "metadata": {
        "id": "Ul9AHZU5uIcP"
      },
      "id": "Ul9AHZU5uIcP"
    },
    {
      "cell_type": "code",
      "source": [
        "import numpy as np\n",
        "import pandas as pd\n",
        "from datetime import datetime\n",
        "from sklearn.model_selection import cross_val_score\n",
        "from catboost import CatBoostClassifier, Pool\n",
        "from hyperactive import Hyperactive\n",
        "from hyperactive.optimizers import ParticleSwarmOptimizer\n",
        "from sklearn.metrics import classification_report, confusion_matrix\n",
        "import matplotlib.pyplot as plt\n",
        "import seaborn as sns\n",
        "\n",
        "# === DATA: Replace X_train, X_test, y_train, y_test with your actual data ===\n",
        "# Example:\n",
        "# X_train, X_test, y_train, y_test = train_test_split(...)\n",
        "\n",
        "X, y = X_train, y_train\n",
        "\n",
        "# === Objective Function ===\n",
        "def model(opt):\n",
        "    CatBoost = CatBoostClassifier(\n",
        "        iterations=opt[\"iterations\"],\n",
        "        depth=opt[\"depth\"],\n",
        "        learning_rate=opt[\"learning_rate\"],\n",
        "        l2_leaf_reg=opt[\"l2_leaf_reg\"],\n",
        "        bagging_temperature=opt[\"bagging_temperature\"],\n",
        "        random_strength=opt[\"random_strength\"],\n",
        "        verbose=False\n",
        "    )\n",
        "    scores = cross_val_score(CatBoost, X, y, cv=4)\n",
        "    return scores.mean()\n",
        "\n",
        "# === Search Space ===\n",
        "search_space = {\n",
        "    \"iterations\": list(range(50, 501, 50)),\n",
        "    \"depth\": list(range(1, 11)),\n",
        "    \"learning_rate\": [0.01, 0.05, 0.1],\n",
        "    \"l2_leaf_reg\": [1, 3, 5],\n",
        "    \"bagging_temperature\": [0.5, 1, 1.5],\n",
        "    \"random_strength\": [0.5, 1, 1.5],\n",
        "}\n",
        "\n",
        "# === Cauchy Mutation ===\n",
        "def cauchy_mutation(particle, gamma=0.3):\n",
        "    for key in particle:\n",
        "        if isinstance(particle[key], (int, float)):\n",
        "            particle[key] = particle[key] * (1 + gamma * np.tan(np.pi * (np.random.rand() - 0.5)))\n",
        "            particle[key] = np.clip(particle[key], min(search_space[key]), max(search_space[key]))\n",
        "            if isinstance(search_space[key][0], int):\n",
        "                particle[key] = int(round(particle[key]))\n",
        "    return particle\n",
        "\n",
        "# === HSPSO Optimizer Class ===\n",
        "class HybridStrategyPSO(ParticleSwarmOptimizer):\n",
        "    def __init__(self, n_part=20, max_iter=40, **kwargs):\n",
        "        super().__init__(**kwargs)\n",
        "        self.switch_threshold = 10\n",
        "        self.iteration = 0\n",
        "        self.topology = \"gbest\"\n",
        "        self.n_part = n_part\n",
        "        self.max_iter = max_iter\n",
        "\n",
        "        # Adaptive Inertia Parameters\n",
        "        self.H = 1\n",
        "        self.w_min = 0.4\n",
        "        self.w_max = 0.9\n",
        "        self.b = 0.9\n",
        "        self.scaling_factor = 0.5\n",
        "\n",
        "    def on_iteration(self, swarm, scores):\n",
        "        self.iteration += 1\n",
        "\n",
        "        # === Topology Switching ===\n",
        "        if self.iteration % self.switch_threshold == 0:\n",
        "            self.topology = \"lbest\" if self.topology == \"gbest\" else \"gbest\"\n",
        "            self.set_topology(self.topology)\n",
        "\n",
        "        # === Clone Best Particles ===\n",
        "        best_indices = np.argsort(scores)[:max(1, len(swarm) // 5)]\n",
        "        for idx in best_indices:\n",
        "            particle = swarm[idx].copy()\n",
        "            swarm.append(particle)\n",
        "            scores.append(scores[idx])\n",
        "\n",
        "        # === Prune Worst Particles ===\n",
        "        if len(swarm) > 2 * self.n_part:\n",
        "            worst_indices = np.argsort(scores)[-len(swarm)//4:]\n",
        "            for i in reversed(worst_indices):\n",
        "                del swarm[i]\n",
        "                del scores[i]\n",
        "\n",
        "        # === Nonlinear Adaptive Inertia ===\n",
        "        numerator = (self.w_max - self.w_min) * self.iteration\n",
        "        denominator = 1 + np.exp(-10 * self.b * ((2 * self.iteration) / (self.H * self.max_iter) - 1))\n",
        "        self.inertia = self.w_max - numerator / denominator\n",
        "\n",
        "        # === Cauchy Mutation ===\n",
        "        for i in range(len(swarm)):\n",
        "            if np.random.rand() < 0.2:\n",
        "                swarm[i] = cauchy_mutation(swarm[i])\n",
        "\n",
        "        # === Hook-Jeeves Local Search (simplified) ===\n",
        "        top_ids = np.argsort(scores)[:2]\n",
        "        for i in top_ids:\n",
        "            particle = swarm[i]\n",
        "            for key in particle:\n",
        "                if isinstance(particle[key], (int, float)):\n",
        "                    for delta in [-0.01, 0.01] if isinstance(particle[key], float) else [-1, 1]:\n",
        "                        trial = particle.copy()\n",
        "                        trial[key] = trial[key] + delta\n",
        "                        trial[key] = np.clip(trial[key], min(search_space[key]), max(search_space[key]))\n",
        "                        if isinstance(search_space[key][0], int):\n",
        "                            trial[key] = int(round(trial[key]))\n",
        "                        trial_score = model(trial)\n",
        "                        if trial_score > scores[i]:\n",
        "                            swarm[i] = trial\n",
        "                            scores[i] = trial_score\n",
        "\n",
        "        # === Random Restart ===\n",
        "        if np.random.rand() < 0.1:\n",
        "            random_idx = np.random.choice(len(swarm))\n",
        "            for key in swarm[random_idx]:\n",
        "                if isinstance(swarm[random_idx][key], (int, float)):\n",
        "                    swarm[random_idx][key] = np.random.choice(search_space[key])\n",
        "\n",
        "# === Run HSPSO Hyperparameter Tuning ===\n",
        "start_time = datetime.now()\n",
        "\n",
        "hyper = Hyperactive()\n",
        "\n",
        "optimizer = HybridStrategyPSO(\n",
        "    n_part=20,\n",
        "    max_iter=40,\n",
        "    inertia=0.5,\n",
        "    cognitive_weight=0.9,\n",
        "    social_weight=0.5,\n",
        "    temp_weight=0.4,\n",
        "    rand_rest_p=0.05,\n",
        ")\n",
        "\n",
        "hyper.add_search(model, search_space, optimizer=optimizer, n_iter=40)\n",
        "hyper.run()\n",
        "\n",
        "end_time = datetime.now()\n",
        "print('Tuning Duration:', end_time - start_time)\n",
        "\n",
        "# === Best Parameters ===\n",
        "best_params = hyper.best_para(model)\n",
        "print(\"Best Parameters:\", best_params)\n",
        "\n",
        "# === Train Final Model with Best Parameters ===\n",
        "train_pool = Pool(data=X_train, label=y_train)\n",
        "test_pool = Pool(data=X_test, label=y_test)\n",
        "\n",
        "final_model = CatBoostClassifier(\n",
        "    depth=best_params[\"depth\"],\n",
        "    iterations=best_params[\"iterations\"],\n",
        "    learning_rate=best_params[\"learning_rate\"],\n",
        "    l2_leaf_reg=best_params[\"l2_leaf_reg\"],\n",
        "    bagging_temperature=best_params[\"bagging_temperature\"],\n",
        "    random_strength=best_params[\"random_strength\"],\n",
        "    verbose=10\n",
        ")\n",
        "\n",
        "final_model.fit(\n",
        "    train_pool,\n",
        "    eval_set=test_pool,\n",
        "    verbose=best_params[\"iterations\"] // 10,\n",
        "    plot=True\n",
        ")\n"
      ],
      "metadata": {
        "id": "jQr38vF8A9_i",
        "colab": {
          "base_uri": "https://localhost:8080/",
          "height": 694,
          "referenced_widgets": [
            "976b6f5baf1849b4b4a81fdfd953b184"
          ]
        },
        "outputId": "e5327041-6938-43b7-8eab-849dd4d2b7d3"
      },
      "id": "jQr38vF8A9_i",
      "execution_count": 58,
      "outputs": [
        {
          "output_type": "stream",
          "name": "stderr",
          "text": [
            "[0] model (Particle Swarm Optimization): 100%|\u001b[32m──────────\u001b[0m| 40/40 [09:19<00:00, 13.99s/it, best_iter=0, best_pos=None, best_score=-inf]"
          ]
        },
        {
          "output_type": "stream",
          "name": "stdout",
          "text": [
            "\n",
            "\n",
            "Results: 'model'  \n",
            "   Best score: 0.9984076433121019  \n",
            "   Best parameter set:\n",
            "      'iterations'          : 500.0  \n",
            "      'depth'               : 10.0  \n",
            "      'learning_rate'       : 0.05  \n",
            "      'l2_leaf_reg'         : 1.0  \n",
            "      'bagging_temperature' : 1.0  \n",
            "      'random_strength'     : 1.5  \n",
            "   Best iteration: 0  \n",
            " \n",
            "   Random seed: 1296411839  \n",
            " \n",
            "   Evaluation time   : 559.3957583904266 sec    [100.0 %]\n",
            "   Optimization time : 0.013435840606689453 sec    [0.0 %]\n",
            "   Iteration time    : 559.4091942310333 sec    [13.99 sec/iter]\n",
            " \n",
            "Tuning Duration: 0:09:19.682105\n",
            "Best Parameters: {'iterations': 500, 'depth': 10, 'learning_rate': 0.05, 'l2_leaf_reg': 1, 'bagging_temperature': 1, 'random_strength': 1.5}\n"
          ]
        },
        {
          "output_type": "stream",
          "name": "stderr",
          "text": [
            "\n"
          ]
        },
        {
          "output_type": "display_data",
          "data": {
            "text/plain": [
              "MetricVisualizer(layout=Layout(align_self='stretch', height='500px'))"
            ],
            "application/vnd.jupyter.widget-view+json": {
              "version_major": 2,
              "version_minor": 0,
              "model_id": "976b6f5baf1849b4b4a81fdfd953b184"
            }
          },
          "metadata": {}
        },
        {
          "output_type": "stream",
          "name": "stdout",
          "text": [
            "0:\tlearn: 1.9227818\ttest: 1.9304102\tbest: 1.9304102 (0)\ttotal: 104ms\tremaining: 52.1s\n",
            "50:\tlearn: 0.1250241\ttest: 0.1409830\tbest: 0.1409830 (50)\ttotal: 4.95s\tremaining: 43.6s\n",
            "100:\tlearn: 0.0331267\ttest: 0.0499806\tbest: 0.0499806 (100)\ttotal: 10.1s\tremaining: 39.9s\n",
            "150:\tlearn: 0.0150191\ttest: 0.0324002\tbest: 0.0324002 (150)\ttotal: 15.9s\tremaining: 36.8s\n",
            "200:\tlearn: 0.0080939\ttest: 0.0266625\tbest: 0.0266625 (200)\ttotal: 20.7s\tremaining: 30.8s\n",
            "250:\tlearn: 0.0047603\ttest: 0.0246514\tbest: 0.0246514 (250)\ttotal: 26.9s\tremaining: 26.7s\n",
            "300:\tlearn: 0.0034151\ttest: 0.0242604\tbest: 0.0242405 (293)\ttotal: 31.2s\tremaining: 20.6s\n",
            "350:\tlearn: 0.0026184\ttest: 0.0242552\tbest: 0.0242307 (316)\ttotal: 35.9s\tremaining: 15.3s\n",
            "400:\tlearn: 0.0021233\ttest: 0.0244397\tbest: 0.0242307 (316)\ttotal: 42s\tremaining: 10.4s\n",
            "450:\tlearn: 0.0018285\ttest: 0.0245751\tbest: 0.0242307 (316)\ttotal: 46.6s\tremaining: 5.06s\n",
            "499:\tlearn: 0.0015993\ttest: 0.0247875\tbest: 0.0242307 (316)\ttotal: 52.4s\tremaining: 0us\n",
            "\n",
            "bestTest = 0.02423070906\n",
            "bestIteration = 316\n",
            "\n",
            "Shrink model to first 317 iterations.\n"
          ]
        },
        {
          "output_type": "execute_result",
          "data": {
            "text/plain": [
              "<catboost.core.CatBoostClassifier at 0x78ad6f175550>"
            ]
          },
          "metadata": {},
          "execution_count": 58
        }
      ]
    },
    {
      "cell_type": "code",
      "source": [
        "hyper.add_search(model, search_space, optimizer=optimizer, n_iter=40, initialize={\"random\": 20})\n"
      ],
      "metadata": {
        "id": "a_9tYmgz45VS"
      },
      "id": "a_9tYmgz45VS",
      "execution_count": 59,
      "outputs": []
    },
    {
      "cell_type": "code",
      "source": [
        "learning_curve = final_model.get_evals_result()\n",
        "print(learning_curve)"
      ],
      "metadata": {
        "id": "2mRL06xdGZve",
        "colab": {
          "base_uri": "https://localhost:8080/"
        },
        "outputId": "34b10ca8-ed1f-4da8-ad10-cf39313cd87e"
      },
      "id": "2mRL06xdGZve",
      "execution_count": 60,
      "outputs": [
        {
          "output_type": "stream",
          "name": "stdout",
          "text": [
            "{'learn': {'MultiClass': [1.9227817763405832, 1.7397596603616738, 1.564162620149233, 1.4144037712406916, 1.2873022067623279, 1.1818946959146448, 1.0937570186762229, 1.008341398855212, 0.9359432101922838, 0.8733367692466644, 0.8171683174523082, 0.7677499762494199, 0.7176292692237851, 0.6781341108981815, 0.6436034781558659, 0.605779079002907, 0.575952925458804, 0.5459592045681677, 0.5154021272254697, 0.48842236174854087, 0.4656224525745242, 0.44187828325749023, 0.4207448210587798, 0.39812678555545705, 0.3795644378879558, 0.3610997347990883, 0.3441240537806602, 0.32861655893942904, 0.3136667339658492, 0.2989560380781072, 0.2854546064878377, 0.2733089661163899, 0.2625253086054396, 0.2512918470290543, 0.23996085108593057, 0.2303909130380692, 0.22155261096079157, 0.21177009110341644, 0.20281898130951934, 0.1941087246948423, 0.18546523298328316, 0.1777615848589516, 0.17151008990042668, 0.1652824566585993, 0.15846721960730253, 0.1523900093086955, 0.14630226677740726, 0.14033079364586096, 0.1349488655298618, 0.12980220392879302, 0.12502406313398678, 0.12064130788110508, 0.11693808779729933, 0.11363423478732641, 0.10946613896861787, 0.10534723448205764, 0.10144482531786662, 0.09799747326444677, 0.09470680635951832, 0.09162953704498858, 0.08913194887442867, 0.08665766251706411, 0.0842094870422005, 0.08117501899019232, 0.07895768859069281, 0.07687588991103968, 0.07427719348843234, 0.07206953494258692, 0.06982858923771333, 0.06742998551602113, 0.06564403520937295, 0.06355848158111482, 0.062311748951201666, 0.06052473654715402, 0.059249312204539044, 0.05817582153375795, 0.05652324144597784, 0.05488395465163807, 0.053389278956490406, 0.05204495056420731, 0.05102360276446587, 0.04966048359576592, 0.048446481698837314, 0.047525781522089756, 0.04651148000496918, 0.04527408229607586, 0.04458508362514878, 0.043639174918309875, 0.04236973599903661, 0.041818164864012235, 0.04107009858907475, 0.040180994763434834, 0.03926564956090104, 0.03860873755764077, 0.03781643761138439, 0.03698304575455367, 0.03595004562581298, 0.03500271823957758, 0.03424110329278181, 0.03396576459218462, 0.03312672634826151, 0.03261211626358704, 0.0319440974238009, 0.031349884396329054, 0.030854584658615, 0.03066321089946995, 0.030074173715378547, 0.029563660233024768, 0.029231370889178068, 0.02847741246513377, 0.02795586246688631, 0.027318722692099937, 0.026769639209402115, 0.026415293281168158, 0.026033039734491538, 0.025476510696902446, 0.025000571398612233, 0.024532595344212635, 0.02417765937809834, 0.023638487063849297, 0.02333025883511043, 0.023005275323647836, 0.022654501447840238, 0.022372250027392848, 0.022069538758269825, 0.02155872907490524, 0.021345864872216503, 0.020899884977493042, 0.020621167103532376, 0.020274576943028855, 0.020101533969946406, 0.01965945578989925, 0.019510843296885804, 0.0192654941750258, 0.01907281357341338, 0.01888466950122138, 0.018584228544977842, 0.018318819692066925, 0.018062073581192203, 0.0177941254671809, 0.017558981770977224, 0.017306409121270492, 0.01698844192690755, 0.016672037069103456, 0.016352315714688807, 0.01611614080803104, 0.015946270215186038, 0.015681268688247436, 0.015465053456075616, 0.015162165451045654, 0.015019139230926988, 0.01484489054539127, 0.014647008127771139, 0.01443456348427678, 0.014238543243323153, 0.014106762144670732, 0.013967265427582103, 0.013890364342524355, 0.013638552724853268, 0.01353122478861053, 0.013328491011133248, 0.013195791219514079, 0.013069586327453107, 0.012887486010334688, 0.012790776405684861, 0.012602086801805268, 0.012390664915398744, 0.012245769230683644, 0.01211633898788383, 0.011975334802447375, 0.011828612072922897, 0.011690596170001781, 0.011545382257900338, 0.01139377618384946, 0.011258956382319602, 0.01113122680197118, 0.010977846902419385, 0.010806910590958889, 0.010612727439640693, 0.010469145138654472, 0.010335419788909794, 0.010228562200909917, 0.01011920984861409, 0.010033507014912752, 0.00986693642485769, 0.009764157924063835, 0.009596843112815657, 0.00950099190868781, 0.009343373334664581, 0.009187244326763839, 0.009085309627664061, 0.008946864032409726, 0.008795207424035202, 0.008781515139602954, 0.00869486743234491, 0.008597035576431687, 0.008493684107508746, 0.008406751941402371, 0.008275662922633258, 0.008172578980017114, 0.008093885277738373, 0.007957907966196685, 0.007865516936240886, 0.007793843687704825, 0.007686364376497912, 0.007602031162258339, 0.007483161796490883, 0.007377279538011682, 0.00730581971666742, 0.007203228530584872, 0.007103588726807202, 0.007006781762447701, 0.006942896887641317, 0.0068502953776634155, 0.006767501909675813, 0.006680910022071274, 0.006673847032575698, 0.00660790495613049, 0.006516802932497477, 0.006422235795636616, 0.006350391416055253, 0.006294754364977623, 0.00628862203796824, 0.006232878940121579, 0.006176289638645912, 0.006117054839810552, 0.0060500023630105475, 0.005967370400063012, 0.005901445553519805, 0.005850798556801413, 0.005790434562245156, 0.005726942378307449, 0.005659747886064063, 0.005587236980160237, 0.00557058853810265, 0.005520113080238623, 0.0054475228480256824, 0.00540082098827174, 0.005342496930476727, 0.005297545779631943, 0.005238033115106055, 0.005186692987108083, 0.005153825107412359, 0.005104244552682751, 0.005052503988906643, 0.005006776851585103, 0.004949876186805999, 0.004914541928463706, 0.004865462382836936, 0.004812598636338885, 0.00476034974292577, 0.004756126590912939, 0.004703522308890477, 0.004648200705113637, 0.004644336882341542, 0.004610260482687007, 0.004577257996333965, 0.0045357370431800366, 0.004509499398215613, 0.004505553259061795, 0.004501721778409375, 0.004464266518163602, 0.004426146921515345, 0.004391861301982997, 0.004348076568008501, 0.004310676819992943, 0.004282892986666837, 0.004238283809002543, 0.004196118819872911, 0.004168920001760688, 0.004137483544892776, 0.004098806919917803, 0.004072607224375449, 0.004069164581816084, 0.00403091897199784, 0.00399198467268998, 0.003955776735063313, 0.003931824725018884, 0.003902735358003639, 0.0038647859936425596, 0.003843322005110519, 0.0038093181091442903, 0.0037977275414562764, 0.003795161527730361, 0.0037773001968931146, 0.0037548287826100995, 0.0037215812296205884, 0.0037002719238586556, 0.003679666350036745, 0.0036606970715753564, 0.003629428738982487, 0.0036045631924814343, 0.0035871418142720077, 0.0035630586140737628, 0.0035375117716368574, 0.0035213482742049397, 0.003494744031909554, 0.00347254969192308, 0.00346915775082289, 0.003439825652145838, 0.0034150808988502672, 0.003393432187871321, 0.003374459200640838, 0.0033512561459388317, 0.0033245080935622924, 0.003295942686380213, 0.0032743681477135, 0.003258457807480043, 0.0032352156638176337, 0.003210088062838626, 0.0031883875822705113, 0.003173872681860593, 0.003152177360489189, 0.0031329741612317196, 0.003118035267554993, 0.003104223474222639, 0.0030943705728521576, 0.003070285056819864, 0.0030596586254375375, 0.003057462063661143, 0.0030373167569966073, 0.0030197022858106937, 0.003006316184489673, 0.002994949722523222, 0.002982206187408887, 0.002961301735175841, 0.0029491848757931833, 0.002930995718950411, 0.0029152359130718546, 0.0029041770134711027, 0.0028931787162088363, 0.0028732666190011513, 0.0028564074431115943, 0.002854250551461768, 0.002845319020345059, 0.0028344272671439346, 0.002820918483494462, 0.0027988766173779574, 0.002779661583016669, 0.0027676589545622904, 0.002751822521636667, 0.0027371425468195277, 0.0027270858983688157, 0.002716954775569259, 0.0027124870410497803, 0.0027020070628731405, 0.0026842783981863246, 0.002668553296496658, 0.0026511589172700687, 0.002633727581485901, 0.0026183934720366074, 0.002608887176146011, 0.0025945679608210584, 0.0025784187409907534, 0.0025661527891682983, 0.002552780260359308, 0.002535723803904832, 0.002525872666051943, 0.0025145521996722906, 0.0024977397469170774, 0.002482964864572349, 0.0024750855743907517, 0.0024725683175352707, 0.0024636771585386645, 0.00244950626637663, 0.0024366240063947568, 0.0024288976561682766, 0.0024191677340512194, 0.0024124146495787206, 0.002404138130830617, 0.002393147008923805, 0.002382652730070697, 0.0023739655402843824, 0.0023670030316459882, 0.0023564223695395014, 0.0023486996943313516, 0.0023371354449122457, 0.0023268514058174448, 0.002318738778275258, 0.0023114073462089275, 0.0023034912039893896, 0.0022918628954909817, 0.002283191988732486, 0.00227562583761118, 0.0022650130317774697, 0.0022574348317786212, 0.002246464637240325, 0.0022379066750168996, 0.0022250323989209796, 0.0022188741403607547, 0.002206965927046077, 0.0021959383037929983, 0.0021886791899977825, 0.0021833869031339364, 0.0021758135606348263, 0.0021671495515665144, 0.002155697482695826, 0.002149505155743257, 0.0021411831420013456, 0.0021298953050731895, 0.002123349489973879, 0.0021222787237159917, 0.0021153904470024745, 0.0021079227213269924, 0.002099434760283351, 0.0020893172094963186, 0.0020796493004437274, 0.00207318703139504, 0.0020681315684669406, 0.002060801764550873, 0.0020595434525888354, 0.002054440589098689, 0.0020507301131754883, 0.0020428959972037973, 0.0020418525702482547, 0.002035801351994622, 0.0020270484653408033, 0.0020224553902064104, 0.002016594166982779, 0.0020110947653417532, 0.0020024158906948165, 0.0019970500139710745, 0.0019923068080672413, 0.0019865141480970468, 0.001980548942322902, 0.001975691582336194, 0.0019677841565155113, 0.0019608212263371497, 0.0019564720473049966, 0.0019482853969035653, 0.0019435786662677678, 0.0019372523908634776, 0.0019322468862086133, 0.001924810472271917, 0.0019198601898392706, 0.0019149493681330186, 0.001907306553886931, 0.0018990978659277093, 0.0018940708720864767, 0.0018894258329644165, 0.0018848517481277387, 0.0018804079202053168, 0.0018775680796083783, 0.0018692568990759258, 0.0018653553401823543, 0.00186098425172618, 0.001855066076335129, 0.001850248256689717, 0.0018439155021677924, 0.001835946638051463, 0.0018285243620054404, 0.001825856194416453, 0.0018210956885096946, 0.0018165250700281504, 0.0018136601758892543, 0.0018115627984068659, 0.0018056128186688405, 0.0017988526345520017, 0.0017916677498647227, 0.0017863637128935962, 0.001782555617913978, 0.0017777388181199505, 0.001771600339924698, 0.0017648265770992063, 0.0017599387684273827, 0.0017561497732499778, 0.001751553544348911, 0.0017442711441966613, 0.0017384149467021544, 0.001732947580751615, 0.0017281268626597223, 0.0017237683740352818, 0.001718714674608243, 0.0017144073373910305, 0.0017095421545737207, 0.001705399159910299, 0.0016981523363911277, 0.001693953945250092, 0.0016898908347099833, 0.001686032811785946, 0.001684029082481583, 0.0016803913892923412, 0.0016738160868201664, 0.00167002475320748, 0.0016660866157969542, 0.0016600657818454006, 0.00165655472416551, 0.0016534248543736076, 0.0016496491917987767, 0.0016449999388947812, 0.0016386375661375404, 0.0016354547273109497, 0.001631506717625562, 0.001625583590357133, 0.00162370389827039, 0.001618335660042658, 0.0016144305096034586, 0.0016083724365508639, 0.0016046602575748583, 0.0015992789538951959]}, 'validation': {'MultiClass': [1.9304101592868093, 1.7488109586090679, 1.5747185599504303, 1.4261539099353264, 1.299003742036162, 1.1952160723432919, 1.1072017359922321, 1.0216062767937162, 0.9491921637091479, 0.8875587964606367, 0.8324030795382209, 0.7836527462736159, 0.7335684879403805, 0.6951126730292183, 0.6613654323064695, 0.6239208567502955, 0.5945191687635835, 0.5640868815709462, 0.532969204107671, 0.5058741093272906, 0.4833482548487859, 0.459188040372552, 0.43807632874277236, 0.41510186902345647, 0.39651536523280434, 0.378101993901802, 0.36117321372572153, 0.34599092552808985, 0.3311413646363959, 0.31662224093033087, 0.3031456283595592, 0.2909809118534756, 0.2800739557344254, 0.26852545317957693, 0.25722461870181274, 0.24758609802044507, 0.2393151628883158, 0.2294891219615384, 0.22062234923797122, 0.21149547577188596, 0.20275896292723525, 0.19484211501147242, 0.18873937774207378, 0.18247298256445224, 0.1753584088460877, 0.16939127930466652, 0.16313189409647502, 0.15689863488792596, 0.15140333141196108, 0.1460614530305138, 0.14098296551970407, 0.13638611656437782, 0.1327038451062651, 0.12943246220480764, 0.12499154845265548, 0.12080209286588038, 0.11682493070636012, 0.11344917311473564, 0.11004677541516099, 0.10696377026963606, 0.1045760480522998, 0.10228807274174825, 0.09966325701324134, 0.09660225928144753, 0.09423012131674177, 0.09232994400307792, 0.08966889409182431, 0.08747398822509724, 0.08520993154068537, 0.08270133374026746, 0.08108848515597027, 0.07897385821069616, 0.07788763601172136, 0.07601471362931025, 0.07470612829832855, 0.07378069946663347, 0.07212127475861037, 0.07059647739165596, 0.06917561799548191, 0.06786648524741622, 0.06685900277359627, 0.06546512111755269, 0.0643341022032105, 0.0634206686923996, 0.06245450345423903, 0.06128352675561706, 0.06072257210669265, 0.059824017201908004, 0.05860078852290203, 0.058230030817045364, 0.05754458022166552, 0.056774183228230336, 0.055861783266788465, 0.05533923238290854, 0.05462124942668802, 0.05387761494282089, 0.052775635077794036, 0.05169698099580337, 0.050962770467230425, 0.05072960155897189, 0.0499806348014379, 0.049546561835718504, 0.0488277372128623, 0.048314039953799744, 0.04780444241932957, 0.04772903733166008, 0.047189603786998595, 0.04679465064031772, 0.046500975507374566, 0.04554922683278021, 0.04486617002213241, 0.044171010743862114, 0.04362717167942701, 0.04330339617096496, 0.043016400889404706, 0.04253548693468867, 0.042071014147403496, 0.04169794032404354, 0.041380084271621397, 0.04064354593217635, 0.040424120143894925, 0.04007138779668079, 0.03970128053729273, 0.0394655153098309, 0.03906046634071166, 0.03838720767822256, 0.038238641071364904, 0.037723164442642836, 0.03745656565508182, 0.03705509877010277, 0.036934843506534795, 0.03640840518624691, 0.03631716439663665, 0.03610438008312967, 0.035960435960702655, 0.03579758083960197, 0.03560915878244229, 0.03533038837025774, 0.03514708071808673, 0.03492555462556154, 0.03467506699937278, 0.034391962821851155, 0.03415257932432454, 0.033808366161728706, 0.0335046358965707, 0.03328232602299868, 0.03314964193967236, 0.03288316236969265, 0.03274526129812745, 0.03250862872363073, 0.032400192158387235, 0.03226523988145335, 0.03213538229369795, 0.031865085345467586, 0.03174177744566367, 0.031632844720443164, 0.0314589061107211, 0.031393228745257344, 0.031150519899420706, 0.031049473920398068, 0.030880176020939558, 0.030706333329423453, 0.03059410042655336, 0.03047211454118884, 0.030421773475301433, 0.030287153000868608, 0.02994830949157897, 0.029830657928835273, 0.029751793613002425, 0.02955587814243258, 0.029469482240378115, 0.029363909550698133, 0.029252792435252757, 0.029129480169120352, 0.029080536079302718, 0.02900238162759329, 0.02892406376098604, 0.028782436895486666, 0.02859938589729894, 0.028491374879353278, 0.02840483228026236, 0.02832199969257268, 0.02827364653866855, 0.02815460855975681, 0.028027639635757506, 0.02797357213345307, 0.027865376372977993, 0.02778360342775488, 0.02770401920168705, 0.02755897557824976, 0.027514628428734093, 0.027368016359233093, 0.027228054612461014, 0.02723587388579541, 0.027179383116540806, 0.027084049031054054, 0.027011620222978486, 0.026927276506235834, 0.02680626382631952, 0.026716312441421183, 0.026662484967696447, 0.026635748858852164, 0.026626157253011953, 0.026569330050628857, 0.026469487429134856, 0.026423980920707267, 0.02630882727191476, 0.026223183867275363, 0.02615435607805985, 0.02610644608430973, 0.0260155120409029, 0.025950896530366637, 0.025936833145738518, 0.025871860327573583, 0.02580711821943352, 0.025711045387565412, 0.025670159035136777, 0.025644675217990156, 0.025599663674047143, 0.025514749625956918, 0.025444230655327457, 0.02542847605974964, 0.025426758751546263, 0.02534323154272393, 0.02532587797290285, 0.025300912947006964, 0.02525189376479492, 0.02517306174119029, 0.02515183757005439, 0.025137691394839918, 0.025140282887387417, 0.025119780856531475, 0.025091248011050102, 0.02506796574568437, 0.0250559636749835, 0.025046669376635786, 0.02502818256205391, 0.025016097147026347, 0.024935414814790065, 0.024920923738836868, 0.02487877276180102, 0.024857687644532365, 0.024849214756377403, 0.024843168815992852, 0.024798784438697843, 0.024761461602178004, 0.024744019854958766, 0.024737465593859042, 0.024705091323320508, 0.02468425383027051, 0.024651419027478572, 0.02465456830021989, 0.02460806794896037, 0.024607000085501943, 0.02459532873241619, 0.024590969803632182, 0.02456352674674412, 0.024534186956381803, 0.024532339881562174, 0.024504838871075504, 0.024476358102151968, 0.02445363032186458, 0.024427752051347333, 0.02442280936830603, 0.024415879375053767, 0.02442049285984486, 0.02441640039232091, 0.02440339428374667, 0.024409199854410313, 0.024422502779572225, 0.0244177954984165, 0.02437675703496427, 0.02437473881628607, 0.024343178070586932, 0.024359212239635736, 0.024368620388336745, 0.02434683952464072, 0.024297983145639912, 0.0242848873746472, 0.02429147517525735, 0.024282903546898504, 0.024295938537798066, 0.02424898849395571, 0.02424869269304439, 0.024249157081601573, 0.02425670085716641, 0.024265246521772615, 0.02425984461757564, 0.02426503455661033, 0.024271630676251158, 0.02428275665318172, 0.024275452575404678, 0.024247345073220922, 0.024240465382086667, 0.02426346227770111, 0.024264751255818777, 0.02427762827915386, 0.02429032589427969, 0.024285581496058226, 0.024257328872333523, 0.024260404988527683, 0.02426096964299813, 0.024270381551962653, 0.024280509861486756, 0.02425656850270636, 0.02426104685186541, 0.024273904120326067, 0.024278784981379774, 0.024291852459571196, 0.024259248481662603, 0.024243958049629886, 0.024246623727041488, 0.024232717264900113, 0.024244281504635954, 0.024250536348625895, 0.024240720558168782, 0.024230709058746358, 0.024246882285155463, 0.02424725966331199, 0.024242089873176765, 0.02425241787456586, 0.024268158144928175, 0.024270256663914067, 0.024269633105126642, 0.024276377128635916, 0.024252146636824724, 0.024258692323950136, 0.024269963304855105, 0.024264670904275254, 0.024271986812577452, 0.024277799529555718, 0.024281725669608328, 0.02427062107299052, 0.02424567280704594, 0.024253401322285064, 0.024256103201966774, 0.02426101875605862, 0.024285085523494804, 0.024288039333612097, 0.02429147458254507, 0.024285650630894953, 0.02428045299702423, 0.02428319333076961, 0.024280372156901535, 0.024266564387337194, 0.024268582999193527, 0.024261353679817084, 0.024260364876080916, 0.024281897489966748, 0.024267827472787853, 0.0242552120911309, 0.024249992163855472, 0.024253930633948626, 0.02428118494755042, 0.024273046447686072, 0.024283735381842336, 0.02430117779340521, 0.02429021282569806, 0.02430880704041652, 0.02432928553517049, 0.024314283476151197, 0.024322672150855915, 0.024316348550443075, 0.024323438331441724, 0.024315477907618586, 0.024316129276794333, 0.024327545110663894, 0.024333470819619066, 0.024331681572210394, 0.02433407305821265, 0.02433260557214797, 0.02433126020093582, 0.024338423350527525, 0.024347861130746905, 0.02436491854034413, 0.024368070133496834, 0.024365157617581325, 0.024362712039091447, 0.024363567359856494, 0.02436917891056837, 0.024377666477437183, 0.024373047677132526, 0.024368472901020163, 0.024372102438944967, 0.024363610199779933, 0.024370686644249004, 0.024361429240087877, 0.024377242270390634, 0.024377786237554527, 0.024381171712911424, 0.024373159676821826, 0.024383273805416137, 0.024398961769021506, 0.024400435386880893, 0.02441673045963317, 0.02441330401178042, 0.024427615649137042, 0.024431447752062622, 0.024441468472030013, 0.024438953611174766, 0.024439743808018673, 0.024431942420223667, 0.024439046757276178, 0.024450530593095182, 0.024457031893861718, 0.024468287167381832, 0.024475188635464565, 0.024479799051807815, 0.024474274896626364, 0.024489732675210606, 0.02449168731733328, 0.024492152022461713, 0.024499276010252622, 0.02449224379690486, 0.024476497388711202, 0.024483194167113073, 0.024480263671563956, 0.024458077730267057, 0.024465002982713452, 0.024467634543133505, 0.024469470478386608, 0.024465843404000702, 0.024468971128014903, 0.024481835160151445, 0.024485895374417668, 0.024485687471299936, 0.024484427279797265, 0.024496065157607418, 0.024496545523023678, 0.02449584350317373, 0.024503097388094416, 0.024517362014694344, 0.024519032512409306, 0.024528610210740986, 0.024534505363154224, 0.024540935856322246, 0.024542506687872123, 0.024543739411925614, 0.024544132203930185, 0.024546907825599058, 0.024550304445822638, 0.02455464985878706, 0.024555764013853634, 0.024555082836219436, 0.024550737816286125, 0.02455119508326726, 0.024558542473019723, 0.024557188844584514, 0.024557983132106928, 0.024566086199317563, 0.02457505972868585, 0.024576315077079434, 0.024580882492254444, 0.024586178641456017, 0.0245837681174909, 0.024582434710508392, 0.02458713733368797, 0.02459812387355736, 0.024588394016175213, 0.024594537518509128, 0.0246009227403094, 0.02460818743081379, 0.02461906524946076, 0.02461700437451696, 0.024624717032047903, 0.024629842490299453, 0.02463779721695091, 0.024656709975015643, 0.024648776218171718, 0.024650382517193228, 0.024660356467595655, 0.024671871448501796, 0.024684292673407163, 0.024691453548709847, 0.0246885790847554, 0.02469275917695944, 0.024689962735703033, 0.024696785106704176, 0.024700310590568743, 0.024702679035290408, 0.024709578781300704, 0.02471131710077863, 0.02472581941418952, 0.024728775558139286, 0.024731577118296235, 0.024732637618428963, 0.024728722332469012, 0.024730668271021772, 0.02473911052091166, 0.024729623577291377, 0.024749963338072282, 0.024762436487721095, 0.024771832509630283, 0.02477451060537414, 0.0247755659101264, 0.02477673503570977, 0.02478345242710315, 0.024781135988601346, 0.024783122733495377, 0.024787475285148103]}}\n"
          ]
        }
      ]
    },
    {
      "cell_type": "code",
      "source": [
        "# Retrieve evaluation results\n",
        "learning_curve = final_model.get_evals_result()\n",
        "\n",
        "# Extract the metric values\n",
        "# Assuming 'learn' corresponds to the training dataset\n",
        "train_metric_values = learning_curve.get('learn', {}).get('MultiClass', [])\n",
        "\n",
        "# Check the extracted values\n",
        "if train_metric_values:\n",
        "    print(\"Training metric values:\", train_metric_values)\n",
        "else:\n",
        "    print(\"Metric 'MultiClass' not found in evaluation results.\")\n"
      ],
      "metadata": {
        "id": "3baCXa2jGafB",
        "colab": {
          "base_uri": "https://localhost:8080/"
        },
        "outputId": "debece72-0cb4-4b53-858d-1bd04ffce14f"
      },
      "id": "3baCXa2jGafB",
      "execution_count": 61,
      "outputs": [
        {
          "output_type": "stream",
          "name": "stdout",
          "text": [
            "Training metric values: [1.9227817763405832, 1.7397596603616738, 1.564162620149233, 1.4144037712406916, 1.2873022067623279, 1.1818946959146448, 1.0937570186762229, 1.008341398855212, 0.9359432101922838, 0.8733367692466644, 0.8171683174523082, 0.7677499762494199, 0.7176292692237851, 0.6781341108981815, 0.6436034781558659, 0.605779079002907, 0.575952925458804, 0.5459592045681677, 0.5154021272254697, 0.48842236174854087, 0.4656224525745242, 0.44187828325749023, 0.4207448210587798, 0.39812678555545705, 0.3795644378879558, 0.3610997347990883, 0.3441240537806602, 0.32861655893942904, 0.3136667339658492, 0.2989560380781072, 0.2854546064878377, 0.2733089661163899, 0.2625253086054396, 0.2512918470290543, 0.23996085108593057, 0.2303909130380692, 0.22155261096079157, 0.21177009110341644, 0.20281898130951934, 0.1941087246948423, 0.18546523298328316, 0.1777615848589516, 0.17151008990042668, 0.1652824566585993, 0.15846721960730253, 0.1523900093086955, 0.14630226677740726, 0.14033079364586096, 0.1349488655298618, 0.12980220392879302, 0.12502406313398678, 0.12064130788110508, 0.11693808779729933, 0.11363423478732641, 0.10946613896861787, 0.10534723448205764, 0.10144482531786662, 0.09799747326444677, 0.09470680635951832, 0.09162953704498858, 0.08913194887442867, 0.08665766251706411, 0.0842094870422005, 0.08117501899019232, 0.07895768859069281, 0.07687588991103968, 0.07427719348843234, 0.07206953494258692, 0.06982858923771333, 0.06742998551602113, 0.06564403520937295, 0.06355848158111482, 0.062311748951201666, 0.06052473654715402, 0.059249312204539044, 0.05817582153375795, 0.05652324144597784, 0.05488395465163807, 0.053389278956490406, 0.05204495056420731, 0.05102360276446587, 0.04966048359576592, 0.048446481698837314, 0.047525781522089756, 0.04651148000496918, 0.04527408229607586, 0.04458508362514878, 0.043639174918309875, 0.04236973599903661, 0.041818164864012235, 0.04107009858907475, 0.040180994763434834, 0.03926564956090104, 0.03860873755764077, 0.03781643761138439, 0.03698304575455367, 0.03595004562581298, 0.03500271823957758, 0.03424110329278181, 0.03396576459218462, 0.03312672634826151, 0.03261211626358704, 0.0319440974238009, 0.031349884396329054, 0.030854584658615, 0.03066321089946995, 0.030074173715378547, 0.029563660233024768, 0.029231370889178068, 0.02847741246513377, 0.02795586246688631, 0.027318722692099937, 0.026769639209402115, 0.026415293281168158, 0.026033039734491538, 0.025476510696902446, 0.025000571398612233, 0.024532595344212635, 0.02417765937809834, 0.023638487063849297, 0.02333025883511043, 0.023005275323647836, 0.022654501447840238, 0.022372250027392848, 0.022069538758269825, 0.02155872907490524, 0.021345864872216503, 0.020899884977493042, 0.020621167103532376, 0.020274576943028855, 0.020101533969946406, 0.01965945578989925, 0.019510843296885804, 0.0192654941750258, 0.01907281357341338, 0.01888466950122138, 0.018584228544977842, 0.018318819692066925, 0.018062073581192203, 0.0177941254671809, 0.017558981770977224, 0.017306409121270492, 0.01698844192690755, 0.016672037069103456, 0.016352315714688807, 0.01611614080803104, 0.015946270215186038, 0.015681268688247436, 0.015465053456075616, 0.015162165451045654, 0.015019139230926988, 0.01484489054539127, 0.014647008127771139, 0.01443456348427678, 0.014238543243323153, 0.014106762144670732, 0.013967265427582103, 0.013890364342524355, 0.013638552724853268, 0.01353122478861053, 0.013328491011133248, 0.013195791219514079, 0.013069586327453107, 0.012887486010334688, 0.012790776405684861, 0.012602086801805268, 0.012390664915398744, 0.012245769230683644, 0.01211633898788383, 0.011975334802447375, 0.011828612072922897, 0.011690596170001781, 0.011545382257900338, 0.01139377618384946, 0.011258956382319602, 0.01113122680197118, 0.010977846902419385, 0.010806910590958889, 0.010612727439640693, 0.010469145138654472, 0.010335419788909794, 0.010228562200909917, 0.01011920984861409, 0.010033507014912752, 0.00986693642485769, 0.009764157924063835, 0.009596843112815657, 0.00950099190868781, 0.009343373334664581, 0.009187244326763839, 0.009085309627664061, 0.008946864032409726, 0.008795207424035202, 0.008781515139602954, 0.00869486743234491, 0.008597035576431687, 0.008493684107508746, 0.008406751941402371, 0.008275662922633258, 0.008172578980017114, 0.008093885277738373, 0.007957907966196685, 0.007865516936240886, 0.007793843687704825, 0.007686364376497912, 0.007602031162258339, 0.007483161796490883, 0.007377279538011682, 0.00730581971666742, 0.007203228530584872, 0.007103588726807202, 0.007006781762447701, 0.006942896887641317, 0.0068502953776634155, 0.006767501909675813, 0.006680910022071274, 0.006673847032575698, 0.00660790495613049, 0.006516802932497477, 0.006422235795636616, 0.006350391416055253, 0.006294754364977623, 0.00628862203796824, 0.006232878940121579, 0.006176289638645912, 0.006117054839810552, 0.0060500023630105475, 0.005967370400063012, 0.005901445553519805, 0.005850798556801413, 0.005790434562245156, 0.005726942378307449, 0.005659747886064063, 0.005587236980160237, 0.00557058853810265, 0.005520113080238623, 0.0054475228480256824, 0.00540082098827174, 0.005342496930476727, 0.005297545779631943, 0.005238033115106055, 0.005186692987108083, 0.005153825107412359, 0.005104244552682751, 0.005052503988906643, 0.005006776851585103, 0.004949876186805999, 0.004914541928463706, 0.004865462382836936, 0.004812598636338885, 0.00476034974292577, 0.004756126590912939, 0.004703522308890477, 0.004648200705113637, 0.004644336882341542, 0.004610260482687007, 0.004577257996333965, 0.0045357370431800366, 0.004509499398215613, 0.004505553259061795, 0.004501721778409375, 0.004464266518163602, 0.004426146921515345, 0.004391861301982997, 0.004348076568008501, 0.004310676819992943, 0.004282892986666837, 0.004238283809002543, 0.004196118819872911, 0.004168920001760688, 0.004137483544892776, 0.004098806919917803, 0.004072607224375449, 0.004069164581816084, 0.00403091897199784, 0.00399198467268998, 0.003955776735063313, 0.003931824725018884, 0.003902735358003639, 0.0038647859936425596, 0.003843322005110519, 0.0038093181091442903, 0.0037977275414562764, 0.003795161527730361, 0.0037773001968931146, 0.0037548287826100995, 0.0037215812296205884, 0.0037002719238586556, 0.003679666350036745, 0.0036606970715753564, 0.003629428738982487, 0.0036045631924814343, 0.0035871418142720077, 0.0035630586140737628, 0.0035375117716368574, 0.0035213482742049397, 0.003494744031909554, 0.00347254969192308, 0.00346915775082289, 0.003439825652145838, 0.0034150808988502672, 0.003393432187871321, 0.003374459200640838, 0.0033512561459388317, 0.0033245080935622924, 0.003295942686380213, 0.0032743681477135, 0.003258457807480043, 0.0032352156638176337, 0.003210088062838626, 0.0031883875822705113, 0.003173872681860593, 0.003152177360489189, 0.0031329741612317196, 0.003118035267554993, 0.003104223474222639, 0.0030943705728521576, 0.003070285056819864, 0.0030596586254375375, 0.003057462063661143, 0.0030373167569966073, 0.0030197022858106937, 0.003006316184489673, 0.002994949722523222, 0.002982206187408887, 0.002961301735175841, 0.0029491848757931833, 0.002930995718950411, 0.0029152359130718546, 0.0029041770134711027, 0.0028931787162088363, 0.0028732666190011513, 0.0028564074431115943, 0.002854250551461768, 0.002845319020345059, 0.0028344272671439346, 0.002820918483494462, 0.0027988766173779574, 0.002779661583016669, 0.0027676589545622904, 0.002751822521636667, 0.0027371425468195277, 0.0027270858983688157, 0.002716954775569259, 0.0027124870410497803, 0.0027020070628731405, 0.0026842783981863246, 0.002668553296496658, 0.0026511589172700687, 0.002633727581485901, 0.0026183934720366074, 0.002608887176146011, 0.0025945679608210584, 0.0025784187409907534, 0.0025661527891682983, 0.002552780260359308, 0.002535723803904832, 0.002525872666051943, 0.0025145521996722906, 0.0024977397469170774, 0.002482964864572349, 0.0024750855743907517, 0.0024725683175352707, 0.0024636771585386645, 0.00244950626637663, 0.0024366240063947568, 0.0024288976561682766, 0.0024191677340512194, 0.0024124146495787206, 0.002404138130830617, 0.002393147008923805, 0.002382652730070697, 0.0023739655402843824, 0.0023670030316459882, 0.0023564223695395014, 0.0023486996943313516, 0.0023371354449122457, 0.0023268514058174448, 0.002318738778275258, 0.0023114073462089275, 0.0023034912039893896, 0.0022918628954909817, 0.002283191988732486, 0.00227562583761118, 0.0022650130317774697, 0.0022574348317786212, 0.002246464637240325, 0.0022379066750168996, 0.0022250323989209796, 0.0022188741403607547, 0.002206965927046077, 0.0021959383037929983, 0.0021886791899977825, 0.0021833869031339364, 0.0021758135606348263, 0.0021671495515665144, 0.002155697482695826, 0.002149505155743257, 0.0021411831420013456, 0.0021298953050731895, 0.002123349489973879, 0.0021222787237159917, 0.0021153904470024745, 0.0021079227213269924, 0.002099434760283351, 0.0020893172094963186, 0.0020796493004437274, 0.00207318703139504, 0.0020681315684669406, 0.002060801764550873, 0.0020595434525888354, 0.002054440589098689, 0.0020507301131754883, 0.0020428959972037973, 0.0020418525702482547, 0.002035801351994622, 0.0020270484653408033, 0.0020224553902064104, 0.002016594166982779, 0.0020110947653417532, 0.0020024158906948165, 0.0019970500139710745, 0.0019923068080672413, 0.0019865141480970468, 0.001980548942322902, 0.001975691582336194, 0.0019677841565155113, 0.0019608212263371497, 0.0019564720473049966, 0.0019482853969035653, 0.0019435786662677678, 0.0019372523908634776, 0.0019322468862086133, 0.001924810472271917, 0.0019198601898392706, 0.0019149493681330186, 0.001907306553886931, 0.0018990978659277093, 0.0018940708720864767, 0.0018894258329644165, 0.0018848517481277387, 0.0018804079202053168, 0.0018775680796083783, 0.0018692568990759258, 0.0018653553401823543, 0.00186098425172618, 0.001855066076335129, 0.001850248256689717, 0.0018439155021677924, 0.001835946638051463, 0.0018285243620054404, 0.001825856194416453, 0.0018210956885096946, 0.0018165250700281504, 0.0018136601758892543, 0.0018115627984068659, 0.0018056128186688405, 0.0017988526345520017, 0.0017916677498647227, 0.0017863637128935962, 0.001782555617913978, 0.0017777388181199505, 0.001771600339924698, 0.0017648265770992063, 0.0017599387684273827, 0.0017561497732499778, 0.001751553544348911, 0.0017442711441966613, 0.0017384149467021544, 0.001732947580751615, 0.0017281268626597223, 0.0017237683740352818, 0.001718714674608243, 0.0017144073373910305, 0.0017095421545737207, 0.001705399159910299, 0.0016981523363911277, 0.001693953945250092, 0.0016898908347099833, 0.001686032811785946, 0.001684029082481583, 0.0016803913892923412, 0.0016738160868201664, 0.00167002475320748, 0.0016660866157969542, 0.0016600657818454006, 0.00165655472416551, 0.0016534248543736076, 0.0016496491917987767, 0.0016449999388947812, 0.0016386375661375404, 0.0016354547273109497, 0.001631506717625562, 0.001625583590357133, 0.00162370389827039, 0.001618335660042658, 0.0016144305096034586, 0.0016083724365508639, 0.0016046602575748583, 0.0015992789538951959]\n"
          ]
        }
      ]
    },
    {
      "cell_type": "code",
      "source": [
        "import matplotlib.pyplot as plt\n",
        "\n",
        "# Plotting the learning curve\n",
        "plt.plot(train_metric_values, label='Training MultiClass Metric')\n",
        "plt.xlabel('Iterations')\n",
        "plt.ylabel('Metric Value')\n",
        "plt.title('Learning Curve')\n",
        "plt.legend()\n",
        "plt.grid()\n",
        "plt.show()\n"
      ],
      "metadata": {
        "id": "p0vioY6FGjQb",
        "colab": {
          "base_uri": "https://localhost:8080/",
          "height": 472
        },
        "outputId": "b2292682-f3cb-42d5-c508-4c049b87d1ad"
      },
      "id": "p0vioY6FGjQb",
      "execution_count": 62,
      "outputs": [
        {
          "output_type": "display_data",
          "data": {
            "text/plain": [
              "<Figure size 640x480 with 1 Axes>"
            ],
            "image/png": "[encoded data removed]"
          },
          "metadata": {}
        }
      ]
    },
    {
      "cell_type": "code",
      "source": [
        "# Predictions\n",
        "y_pred_train = final_model.predict(X_train)\n",
        "y_pred_test = final_model.predict(X_test)\n",
        "\n",
        "print(\"Classification Report - Training Set:\")\n",
        "print(classification_report(y_train, y_pred_train))\n",
        "\n",
        "print(\"Classification Report - Test Set:\")\n",
        "print(classification_report(y_test, y_pred_test))\n",
        "\n",
        "conf_matrix_train = confusion_matrix(y_train, y_pred_train)\n",
        "conf_matrix_test = confusion_matrix(y_test, y_pred_test)\n",
        "\n",
        "plt.figure(figsize=(15, 5))\n",
        "\n",
        "plt.subplot(1, 3, 1)\n",
        "sns.heatmap(conf_matrix_train, annot=True, fmt=\"d\", cmap=\"Blues\", cbar=False)\n",
        "plt.title(\"Confusion Matrix - Training Set\")\n",
        "plt.xlabel(\"Predicted\")\n",
        "plt.ylabel(\"True\")\n",
        "\n",
        "plt.subplot(1, 3, 2)\n",
        "sns.heatmap(conf_matrix_test, annot=True, fmt=\"d\", cmap=\"Blues\", cbar=False)\n",
        "plt.title(\"Confusion Matrix - Test Set\")\n",
        "plt.xlabel(\"Predicted\")\n",
        "plt.ylabel(\"True\")\n",
        "\n",
        "plt.tight_layout()\n",
        "plt.savefig('C-Matrix.svg', format='svg')\n",
        "plt.show()\n",
        "\n",
        "end_time = datetime.now()\n",
        "print('Deployment Duration: {}'.format(end_time - start_time))"
      ],
      "metadata": {
        "id": "EGySyu_OHNqG",
        "colab": {
          "base_uri": "https://localhost:8080/",
          "height": 1000
        },
        "outputId": "3f39eae0-a50e-4d2d-c758-d94c624373b3"
      },
      "id": "EGySyu_OHNqG",
      "execution_count": 63,
      "outputs": [
        {
          "output_type": "stream",
          "name": "stdout",
          "text": [
            "Classification Report - Training Set:\n",
            "                             precision    recall  f1-score   support\n",
            "\n",
            "        Noise_20_B007_1_123       1.00      1.00      1.00       150\n",
            "        Noise_20_B014_1_190       1.00      1.00      1.00       145\n",
            "        Noise_20_B021_1_227       1.00      1.00      1.00       140\n",
            "       Noise_20_IR007_1_110       1.00      1.00      1.00       150\n",
            "       Noise_20_IR021_1_214       1.00      1.00      1.00       133\n",
            "     Noise_20_OR007_6_1_136       1.00      1.00      1.00       136\n",
            "     Noise_20_OR014_6_1_202       1.00      1.00      1.00       132\n",
            "     Noise_20_OR021_6_1_239       1.00      1.00      1.00       131\n",
            "Noise_20__Time_Normal_1_098       1.00      1.00      1.00       139\n",
            "\n",
            "                   accuracy                           1.00      1256\n",
            "                  macro avg       1.00      1.00      1.00      1256\n",
            "               weighted avg       1.00      1.00      1.00      1256\n",
            "\n",
            "Classification Report - Test Set:\n",
            "                             precision    recall  f1-score   support\n",
            "\n",
            "        Noise_20_B007_1_123       1.00      1.00      1.00        35\n",
            "        Noise_20_B014_1_190       1.00      0.97      0.99        37\n",
            "        Noise_20_B021_1_227       0.97      1.00      0.98        30\n",
            "       Noise_20_IR007_1_110       1.00      1.00      1.00        26\n",
            "       Noise_20_IR021_1_214       1.00      1.00      1.00        37\n",
            "     Noise_20_OR007_6_1_136       1.00      1.00      1.00        30\n",
            "     Noise_20_OR014_6_1_202       1.00      1.00      1.00        40\n",
            "     Noise_20_OR021_6_1_239       1.00      1.00      1.00        42\n",
            "Noise_20__Time_Normal_1_098       1.00      1.00      1.00        37\n",
            "\n",
            "                   accuracy                           1.00       314\n",
            "                  macro avg       1.00      1.00      1.00       314\n",
            "               weighted avg       1.00      1.00      1.00       314\n",
            "\n"
          ]
        },
        {
          "output_type": "display_data",
          "data": {
            "text/plain": [
              "<Figure size 1500x500 with 2 Axes>"
            ],
            "image/png": "[encoded data removed]"
          },
          "metadata": {}
        },
        {
          "output_type": "stream",
          "name": "stdout",
          "text": [
            "Deployment Duration: 0:10:14.455324\n"
          ]
        }
      ]
    },
    {
      "cell_type": "code",
      "source": [
        "final_model.fit(X_train, y_train, eval_set=(X_test, y_test))\n",
        "\n",
        "# Evaluate train accuracy\n",
        "result_train = final_model.score(X_train, y_train)\n",
        "print(\"Train Accuracy : {}\".format(result_train))\n",
        "\n",
        "# Evaluate test accuracy\n",
        "result_test = final_model.score(X_test, y_test)\n",
        "print(\"Test Accuracy : {}\".format(result_test))\n",
        "\n",
        "# Predictions\n",
        "y_pred_train = final_model.predict(X_train)\n",
        "y_pred_test = final_model.predict(X_test)\n",
        "\n",
        "# Classification report\n",
        "print(\"Classification Report - Training Set:\")\n",
        "print(classification_report(y_train, y_pred_train))\n",
        "\n",
        "print(\"Classification Report - Test Set:\")\n",
        "print(classification_report(y_test, y_pred_test))"
      ],
      "metadata": {
        "id": "tEOwmxFROH5f",
        "colab": {
          "base_uri": "https://localhost:8080/"
        },
        "outputId": "4240510f-ed70-40ad-b23d-f4565816061c"
      },
      "id": "tEOwmxFROH5f",
      "execution_count": 64,
      "outputs": [
        {
          "output_type": "stream",
          "name": "stdout",
          "text": [
            "0:\tlearn: 1.9227818\ttest: 1.9304102\tbest: 1.9304102 (0)\ttotal: 190ms\tremaining: 1m 34s\n",
            "10:\tlearn: 0.8171683\ttest: 0.8324031\tbest: 0.8324031 (10)\ttotal: 2.11s\tremaining: 1m 33s\n",
            "20:\tlearn: 0.4656225\ttest: 0.4833483\tbest: 0.4833483 (20)\ttotal: 4.18s\tremaining: 1m 35s\n",
            "30:\tlearn: 0.2854546\ttest: 0.3031456\tbest: 0.3031456 (30)\ttotal: 6.38s\tremaining: 1m 36s\n",
            "40:\tlearn: 0.1854652\ttest: 0.2027590\tbest: 0.2027590 (40)\ttotal: 8.48s\tremaining: 1m 34s\n",
            "50:\tlearn: 0.1250241\ttest: 0.1409830\tbest: 0.1409830 (50)\ttotal: 11.7s\tremaining: 1m 42s\n",
            "60:\tlearn: 0.0891319\ttest: 0.1045760\tbest: 0.1045760 (60)\ttotal: 13.8s\tremaining: 1m 39s\n",
            "70:\tlearn: 0.0656440\ttest: 0.0810885\tbest: 0.0810885 (70)\ttotal: 15.7s\tremaining: 1m 34s\n",
            "80:\tlearn: 0.0510236\ttest: 0.0668590\tbest: 0.0668590 (80)\ttotal: 17.5s\tremaining: 1m 30s\n",
            "90:\tlearn: 0.0410701\ttest: 0.0575446\tbest: 0.0575446 (90)\ttotal: 19.7s\tremaining: 1m 28s\n",
            "100:\tlearn: 0.0331267\ttest: 0.0499806\tbest: 0.0499806 (100)\ttotal: 21.7s\tremaining: 1m 25s\n",
            "110:\tlearn: 0.0279559\ttest: 0.0448662\tbest: 0.0448662 (110)\ttotal: 24.2s\tremaining: 1m 24s\n",
            "120:\tlearn: 0.0233303\ttest: 0.0404241\tbest: 0.0404241 (120)\ttotal: 26.8s\tremaining: 1m 23s\n",
            "130:\tlearn: 0.0201015\ttest: 0.0369348\tbest: 0.0369348 (130)\ttotal: 28.6s\tremaining: 1m 20s\n",
            "140:\tlearn: 0.0175590\ttest: 0.0346751\tbest: 0.0346751 (140)\ttotal: 29.6s\tremaining: 1m 15s\n",
            "150:\tlearn: 0.0150191\ttest: 0.0324002\tbest: 0.0324002 (150)\ttotal: 30.5s\tremaining: 1m 10s\n",
            "160:\tlearn: 0.0133285\ttest: 0.0308802\tbest: 0.0308802 (160)\ttotal: 31.5s\tremaining: 1m 6s\n",
            "170:\tlearn: 0.0118286\ttest: 0.0294695\tbest: 0.0294695 (170)\ttotal: 32.4s\tremaining: 1m 2s\n",
            "180:\tlearn: 0.0103354\ttest: 0.0284048\tbest: 0.0284048 (180)\ttotal: 33.3s\tremaining: 58.7s\n",
            "190:\tlearn: 0.0090853\ttest: 0.0275146\tbest: 0.0275146 (190)\ttotal: 34.3s\tremaining: 55.4s\n",
            "200:\tlearn: 0.0080939\ttest: 0.0266625\tbest: 0.0266625 (200)\ttotal: 35.2s\tremaining: 52.4s\n",
            "210:\tlearn: 0.0071036\ttest: 0.0260155\tbest: 0.0260155 (210)\ttotal: 36.2s\tremaining: 49.5s\n",
            "220:\tlearn: 0.0063504\ttest: 0.0254442\tbest: 0.0254442 (220)\ttotal: 37.6s\tremaining: 47.4s\n",
            "230:\tlearn: 0.0057904\ttest: 0.0251403\tbest: 0.0251377 (229)\ttotal: 39.1s\tremaining: 45.6s\n",
            "240:\tlearn: 0.0052380\ttest: 0.0248788\tbest: 0.0248788 (240)\ttotal: 40.3s\tremaining: 43.4s\n",
            "250:\tlearn: 0.0047603\ttest: 0.0246514\tbest: 0.0246514 (250)\ttotal: 41.3s\tremaining: 41s\n",
            "260:\tlearn: 0.0045017\ttest: 0.0244764\tbest: 0.0244764 (260)\ttotal: 42s\tremaining: 38.4s\n",
            "270:\tlearn: 0.0041375\ttest: 0.0244178\tbest: 0.0244034 (267)\ttotal: 42.9s\tremaining: 36.3s\n",
            "280:\tlearn: 0.0038433\ttest: 0.0242829\tbest: 0.0242829 (280)\ttotal: 43.8s\tremaining: 34.1s\n",
            "290:\tlearn: 0.0036294\ttest: 0.0242828\tbest: 0.0242487 (283)\ttotal: 44.7s\tremaining: 32.1s\n",
            "300:\tlearn: 0.0034151\ttest: 0.0242604\tbest: 0.0242405 (293)\ttotal: 45.7s\tremaining: 30.2s\n",
            "310:\tlearn: 0.0031884\ttest: 0.0242440\tbest: 0.0242405 (293)\ttotal: 46.6s\tremaining: 28.3s\n",
            "320:\tlearn: 0.0030373\ttest: 0.0242524\tbest: 0.0242307 (316)\ttotal: 47.6s\tremaining: 26.6s\n",
            "330:\tlearn: 0.0028932\ttest: 0.0242778\tbest: 0.0242307 (316)\ttotal: 48.6s\tremaining: 24.8s\n",
            "340:\tlearn: 0.0027518\ttest: 0.0242857\tbest: 0.0242307 (316)\ttotal: 49.6s\tremaining: 23.1s\n",
            "350:\tlearn: 0.0026184\ttest: 0.0242552\tbest: 0.0242307 (316)\ttotal: 51.1s\tremaining: 21.7s\n",
            "360:\tlearn: 0.0024830\ttest: 0.0243143\tbest: 0.0242307 (316)\ttotal: 52.7s\tremaining: 20.3s\n",
            "370:\tlearn: 0.0023931\ttest: 0.0243326\tbest: 0.0242307 (316)\ttotal: 53.8s\tremaining: 18.7s\n",
            "380:\tlearn: 0.0023035\ttest: 0.0243777\tbest: 0.0242307 (316)\ttotal: 54.7s\tremaining: 17.1s\n",
            "390:\tlearn: 0.0022070\ttest: 0.0243732\tbest: 0.0242307 (316)\ttotal: 55.7s\tremaining: 15.5s\n",
            "400:\tlearn: 0.0021233\ttest: 0.0244397\tbest: 0.0242307 (316)\ttotal: 56.6s\tremaining: 14s\n",
            "410:\tlearn: 0.0020595\ttest: 0.0244917\tbest: 0.0242307 (316)\ttotal: 57.5s\tremaining: 12.5s\n",
            "420:\tlearn: 0.0020024\ttest: 0.0244695\tbest: 0.0242307 (316)\ttotal: 58.4s\tremaining: 11s\n",
            "430:\tlearn: 0.0019436\ttest: 0.0245031\tbest: 0.0242307 (316)\ttotal: 59.3s\tremaining: 9.49s\n",
            "440:\tlearn: 0.0018849\ttest: 0.0245503\tbest: 0.0242307 (316)\ttotal: 1m\tremaining: 8.06s\n",
            "450:\tlearn: 0.0018285\ttest: 0.0245751\tbest: 0.0242307 (316)\ttotal: 1m 1s\tremaining: 6.65s\n",
            "460:\tlearn: 0.0017826\ttest: 0.0246009\tbest: 0.0242307 (316)\ttotal: 1m 2s\tremaining: 5.26s\n",
            "470:\tlearn: 0.0017281\ttest: 0.0246604\tbest: 0.0242307 (316)\ttotal: 1m 3s\tremaining: 3.89s\n",
            "480:\tlearn: 0.0016840\ttest: 0.0247096\tbest: 0.0242307 (316)\ttotal: 1m 4s\tremaining: 2.56s\n",
            "490:\tlearn: 0.0016386\ttest: 0.0247500\tbest: 0.0242307 (316)\ttotal: 1m 6s\tremaining: 1.22s\n",
            "499:\tlearn: 0.0015993\ttest: 0.0247875\tbest: 0.0242307 (316)\ttotal: 1m 7s\tremaining: 0us\n",
            "\n",
            "bestTest = 0.02423070906\n",
            "bestIteration = 316\n",
            "\n",
            "Shrink model to first 317 iterations.\n",
            "Train Accuracy : 1.0\n",
            "Test Accuracy : 0.9968152866242038\n",
            "Classification Report - Training Set:\n",
            "                             precision    recall  f1-score   support\n",
            "\n",
            "        Noise_20_B007_1_123       1.00      1.00      1.00       150\n",
            "        Noise_20_B014_1_190       1.00      1.00      1.00       145\n",
            "        Noise_20_B021_1_227       1.00      1.00      1.00       140\n",
            "       Noise_20_IR007_1_110       1.00      1.00      1.00       150\n",
            "       Noise_20_IR021_1_214       1.00      1.00      1.00       133\n",
            "     Noise_20_OR007_6_1_136       1.00      1.00      1.00       136\n",
            "     Noise_20_OR014_6_1_202       1.00      1.00      1.00       132\n",
            "     Noise_20_OR021_6_1_239       1.00      1.00      1.00       131\n",
            "Noise_20__Time_Normal_1_098       1.00      1.00      1.00       139\n",
            "\n",
            "                   accuracy                           1.00      1256\n",
            "                  macro avg       1.00      1.00      1.00      1256\n",
            "               weighted avg       1.00      1.00      1.00      1256\n",
            "\n",
            "Classification Report - Test Set:\n",
            "                             precision    recall  f1-score   support\n",
            "\n",
            "        Noise_20_B007_1_123       1.00      1.00      1.00        35\n",
            "        Noise_20_B014_1_190       1.00      0.97      0.99        37\n",
            "        Noise_20_B021_1_227       0.97      1.00      0.98        30\n",
            "       Noise_20_IR007_1_110       1.00      1.00      1.00        26\n",
            "       Noise_20_IR021_1_214       1.00      1.00      1.00        37\n",
            "     Noise_20_OR007_6_1_136       1.00      1.00      1.00        30\n",
            "     Noise_20_OR014_6_1_202       1.00      1.00      1.00        40\n",
            "     Noise_20_OR021_6_1_239       1.00      1.00      1.00        42\n",
            "Noise_20__Time_Normal_1_098       1.00      1.00      1.00        37\n",
            "\n",
            "                   accuracy                           1.00       314\n",
            "                  macro avg       1.00      1.00      1.00       314\n",
            "               weighted avg       1.00      1.00      1.00       314\n",
            "\n"
          ]
        }
      ]
    }
  ],
  "metadata": {
    "kernelspec": {
      "display_name": "Python 3",
      "name": "python3"
    },
    "language_info": {
      "codemirror_mode": {
        "name": "ipython",
        "version": 3
      },
      "file_extension": ".py",
      "mimetype": "text/x-python",
      "name": "python",
      "nbconvert_exporter": "python",
      "pygments_lexer": "ipython3",
      "version": "3.11.2"
    },
    "colab": {
      "provenance": [],
      "gpuType": "T4",
      "include_colab_link": true
    },
    "accelerator": "GPU",
    "widgets": {
      "application/vnd.jupyter.widget-state+json": {
        "976b6f5baf1849b4b4a81fdfd953b184": {
          "model_module": "catboost-widget",
          "model_name": "CatboostWidgetModel",
          "model_module_version": "^1.0.0",
          "state": {
            "_dom_classes": [],
            "_model_module": "catboost-widget",
            "_model_module_version": "^1.0.0",
            "_model_name": "CatboostWidgetModel",
            "_view_count": null,
            "_view_module": "catboost-widget",
            "_view_module_version": "^1.0.0",
            "_view_name": "CatboostWidgetView",
            "data": {
              "catboost_info": {
                "path": "catboost_info",
                "name": "catboost_info",
                "content": {
                  "passed_iterations": 499,
                  "total_iterations": 500,
                  "data": {
                    "iterations": [
                      {
                        "learn": [
                          1.922781776
                        ],
                        "iteration": 0,
                        "passed_time": 0.1044310072,
                        "remaining_time": 52.1110726,
                        "test": [
                          1.930410159
                        ]
                      },
                      {
                        "learn": [
                          1.73975966
                        ],
                        "iteration": 1,
                        "passed_time": 0.2187947446,
                        "remaining_time": 54.47989139,
                        "test": [
                          1.748810959
                        ]
                      },
                      {
                        "learn": [
                          1.56416262
                        ],
                        "iteration": 2,
                        "passed_time": 0.3170751649,
                        "remaining_time": 52.52878565,
                        "test": [
                          1.57471856
                        ]
                      },
                      {
                        "learn": [
                          1.414403771
                        ],
                        "iteration": 3,
                        "passed_time": 0.4138763553,
                        "remaining_time": 51.32066805,
                        "test": [
                          1.42615391
                        ]
                      },
                      {
                        "learn": [
                          1.287302207
                        ],
                        "iteration": 4,
                        "passed_time": 0.5090824417,
                        "remaining_time": 50.39916173,
                        "test": [
                          1.299003742
                        ]
                      },
                      {
                        "learn": [
                          1.181894696
                        ],
                        "iteration": 5,
                        "passed_time": 0.6027627198,
                        "remaining_time": 49.62746393,
                        "test": [
                          1.195216072
                        ]
                      },
                      {
                        "learn": [
                          1.093757019
                        ],
                        "iteration": 6,
                        "passed_time": 0.6958374218,
                        "remaining_time": 49.00683557,
                        "test": [
                          1.107201736
                        ]
                      },
                      {
                        "learn": [
                          1.008341399
                        ],
                        "iteration": 7,
                        "passed_time": 0.7900601148,
                        "remaining_time": 48.58869706,
                        "test": [
                          1.021606277
                        ]
                      },
                      {
                        "learn": [
                          0.9359432102
                        ],
                        "iteration": 8,
                        "passed_time": 0.8839706587,
                        "remaining_time": 48.22551038,
                        "test": [
                          0.9491921637
                        ]
                      },
                      {
                        "learn": [
                          0.8733367692
                        ],
                        "iteration": 9,
                        "passed_time": 0.9824329794,
                        "remaining_time": 48.13921599,
                        "test": [
                          0.8875587965
                        ]
                      },
                      {
                        "learn": [
                          0.8171683175
                        ],
                        "iteration": 10,
                        "passed_time": 1.093745238,
                        "remaining_time": 48.6219474,
                        "test": [
                          0.8324030795
                        ]
                      },
                      {
                        "learn": [
                          0.7677499762
                        ],
                        "iteration": 11,
                        "passed_time": 1.217848811,
                        "remaining_time": 49.52585163,
                        "test": [
                          0.7836527463
                        ]
                      },
                      {
                        "learn": [
                          0.7176292692
                        ],
                        "iteration": 12,
                        "passed_time": 1.319104612,
                        "remaining_time": 49.41568815,
                        "test": [
                          0.7335684879
                        ]
                      },
                      {
                        "learn": [
                          0.6781341109
                        ],
                        "iteration": 13,
                        "passed_time": 1.416993242,
                        "remaining_time": 49.18990826,
                        "test": [
                          0.695112673
                        ]
                      },
                      {
                        "learn": [
                          0.6436034782
                        ],
                        "iteration": 14,
                        "passed_time": 1.51354282,
                        "remaining_time": 48.93788453,
                        "test": [
                          0.6613654323
                        ]
                      },
                      {
                        "learn": [
                          0.605779079
                        ],
                        "iteration": 15,
                        "passed_time": 1.606675011,
                        "remaining_time": 48.60191909,
                        "test": [
                          0.6239208568
                        ]
                      },
                      {
                        "learn": [
                          0.5759529255
                        ],
                        "iteration": 16,
                        "passed_time": 1.699043512,
                        "remaining_time": 48.27282449,
                        "test": [
                          0.5945191688
                        ]
                      },
                      {
                        "learn": [
                          0.5459592046
                        ],
                        "iteration": 17,
                        "passed_time": 1.790662555,
                        "remaining_time": 47.94996398,
                        "test": [
                          0.5640868816
                        ]
                      },
                      {
                        "learn": [
                          0.5154021272
                        ],
                        "iteration": 18,
                        "passed_time": 1.883358331,
                        "remaining_time": 47.67870301,
                        "test": [
                          0.5329692041
                        ]
                      },
                      {
                        "learn": [
                          0.4884223617
                        ],
                        "iteration": 19,
                        "passed_time": 1.977290092,
                        "remaining_time": 47.4549622,
                        "test": [
                          0.5058741093
                        ]
                      },
                      {
                        "learn": [
                          0.4656224526
                        ],
                        "iteration": 20,
                        "passed_time": 2.076626272,
                        "remaining_time": 47.3668564,
                        "test": [
                          0.4833482548
                        ]
                      },
                      {
                        "learn": [
                          0.4418782833
                        ],
                        "iteration": 21,
                        "passed_time": 2.171551137,
                        "remaining_time": 47.1818838,
                        "test": [
                          0.4591880404
                        ]
                      },
                      {
                        "learn": [
                          0.4207448211
                        ],
                        "iteration": 22,
                        "passed_time": 2.282226152,
                        "remaining_time": 47.33138586,
                        "test": [
                          0.4380763287
                        ]
                      },
                      {
                        "learn": [
                          0.3981267856
                        ],
                        "iteration": 23,
                        "passed_time": 2.377153261,
                        "remaining_time": 47.14687302,
                        "test": [
                          0.415101869
                        ]
                      },
                      {
                        "learn": [
                          0.3795644379
                        ],
                        "iteration": 24,
                        "passed_time": 2.471896683,
                        "remaining_time": 46.96603698,
                        "test": [
                          0.3965153652
                        ]
                      },
                      {
                        "learn": [
                          0.3610997348
                        ],
                        "iteration": 25,
                        "passed_time": 2.56617771,
                        "remaining_time": 46.78339364,
                        "test": [
                          0.3781019939
                        ]
                      },
                      {
                        "learn": [
                          0.3441240538
                        ],
                        "iteration": 26,
                        "passed_time": 2.6600755,
                        "remaining_time": 46.60058191,
                        "test": [
                          0.3611732137
                        ]
                      },
                      {
                        "learn": [
                          0.3286165589
                        ],
                        "iteration": 27,
                        "passed_time": 2.752723471,
                        "remaining_time": 46.40305281,
                        "test": [
                          0.3459909255
                        ]
                      },
                      {
                        "learn": [
                          0.313666734
                        ],
                        "iteration": 28,
                        "passed_time": 2.84495202,
                        "remaining_time": 46.20594488,
                        "test": [
                          0.3311413646
                        ]
                      },
                      {
                        "learn": [
                          0.2989560381
                        ],
                        "iteration": 29,
                        "passed_time": 2.939046949,
                        "remaining_time": 46.04506887,
                        "test": [
                          0.3166222409
                        ]
                      },
                      {
                        "learn": [
                          0.2854546065
                        ],
                        "iteration": 30,
                        "passed_time": 3.036208653,
                        "remaining_time": 45.93489866,
                        "test": [
                          0.3031456284
                        ]
                      },
                      {
                        "learn": [
                          0.2733089661
                        ],
                        "iteration": 31,
                        "passed_time": 3.131739236,
                        "remaining_time": 45.80168633,
                        "test": [
                          0.2909809119
                        ]
                      },
                      {
                        "learn": [
                          0.2625253086
                        ],
                        "iteration": 32,
                        "passed_time": 3.233978833,
                        "remaining_time": 45.76570046,
                        "test": [
                          0.2800739557
                        ]
                      },
                      {
                        "learn": [
                          0.251291847
                        ],
                        "iteration": 33,
                        "passed_time": 3.336802822,
                        "remaining_time": 45.73382691,
                        "test": [
                          0.2685254532
                        ]
                      },
                      {
                        "learn": [
                          0.2399608511
                        ],
                        "iteration": 34,
                        "passed_time": 3.432043741,
                        "remaining_time": 45.59715256,
                        "test": [
                          0.2572246187
                        ]
                      },
                      {
                        "learn": [
                          0.230390913
                        ],
                        "iteration": 35,
                        "passed_time": 3.527067807,
                        "remaining_time": 45.45998507,
                        "test": [
                          0.247586098
                        ]
                      },
                      {
                        "learn": [
                          0.221552611
                        ],
                        "iteration": 36,
                        "passed_time": 3.62173536,
                        "remaining_time": 45.32063437,
                        "test": [
                          0.2393151629
                        ]
                      },
                      {
                        "learn": [
                          0.2117700911
                        ],
                        "iteration": 37,
                        "passed_time": 3.715593917,
                        "remaining_time": 45.17379973,
                        "test": [
                          0.229489122
                        ]
                      },
                      {
                        "learn": [
                          0.2028189813
                        ],
                        "iteration": 38,
                        "passed_time": 3.808390548,
                        "remaining_time": 45.0171293,
                        "test": [
                          0.2206223492
                        ]
                      },
                      {
                        "learn": [
                          0.1941087247
                        ],
                        "iteration": 39,
                        "passed_time": 3.900963005,
                        "remaining_time": 44.86107456,
                        "test": [
                          0.2114954758
                        ]
                      },
                      {
                        "learn": [
                          0.185465233
                        ],
                        "iteration": 40,
                        "passed_time": 3.993251429,
                        "remaining_time": 44.70493673,
                        "test": [
                          0.2027589629
                        ]
                      },
                      {
                        "learn": [
                          0.1777615849
                        ],
                        "iteration": 41,
                        "passed_time": 4.092015483,
                        "remaining_time": 44.62245455,
                        "test": [
                          0.194842115
                        ]
                      },
                      {
                        "learn": [
                          0.1715100899
                        ],
                        "iteration": 42,
                        "passed_time": 4.185640371,
                        "remaining_time": 44.4845965,
                        "test": [
                          0.1887393777
                        ]
                      },
                      {
                        "learn": [
                          0.1652824567
                        ],
                        "iteration": 43,
                        "passed_time": 4.291070394,
                        "remaining_time": 44.47109317,
                        "test": [
                          0.1824729826
                        ]
                      },
                      {
                        "learn": [
                          0.1584672196
                        ],
                        "iteration": 44,
                        "passed_time": 4.388157637,
                        "remaining_time": 44.36914944,
                        "test": [
                          0.1753584088
                        ]
                      },
                      {
                        "learn": [
                          0.1523900093
                        ],
                        "iteration": 45,
                        "passed_time": 4.484021503,
                        "remaining_time": 44.25534266,
                        "test": [
                          0.1693912793
                        ]
                      },
                      {
                        "learn": [
                          0.1463022668
                        ],
                        "iteration": 46,
                        "passed_time": 4.577681217,
                        "remaining_time": 44.12105513,
                        "test": [
                          0.1631318941
                        ]
                      },
                      {
                        "learn": [
                          0.1403307936
                        ],
                        "iteration": 47,
                        "passed_time": 4.670446248,
                        "remaining_time": 43.9800355,
                        "test": [
                          0.1568986349
                        ]
                      },
                      {
                        "learn": [
                          0.1349488655
                        ],
                        "iteration": 48,
                        "passed_time": 4.76326912,
                        "remaining_time": 43.84151782,
                        "test": [
                          0.1514033314
                        ]
                      },
                      {
                        "learn": [
                          0.1298022039
                        ],
                        "iteration": 49,
                        "passed_time": 4.856074959,
                        "remaining_time": 43.70467464,
                        "test": [
                          0.146061453
                        ]
                      },
                      {
                        "learn": [
                          0.1250240631
                        ],
                        "iteration": 50,
                        "passed_time": 4.949801182,
                        "remaining_time": 43.57766139,
                        "test": [
                          0.1409829655
                        ]
                      },
                      {
                        "learn": [
                          0.1206413079
                        ],
                        "iteration": 51,
                        "passed_time": 5.050310272,
                        "remaining_time": 43.51036542,
                        "test": [
                          0.1363861166
                        ]
                      },
                      {
                        "learn": [
                          0.1169380878
                        ],
                        "iteration": 52,
                        "passed_time": 5.145620746,
                        "remaining_time": 43.39797119,
                        "test": [
                          0.1327038451
                        ]
                      },
                      {
                        "learn": [
                          0.1136342348
                        ],
                        "iteration": 53,
                        "passed_time": 5.240648348,
                        "remaining_time": 43.28387339,
                        "test": [
                          0.1294324622
                        ]
                      },
                      {
                        "learn": [
                          0.109466139
                        ],
                        "iteration": 54,
                        "passed_time": 5.352242415,
                        "remaining_time": 43.30450681,
                        "test": [
                          0.1249915485
                        ]
                      },
                      {
                        "learn": [
                          0.1053472345
                        ],
                        "iteration": 55,
                        "passed_time": 5.449079467,
                        "remaining_time": 43.20341578,
                        "test": [
                          0.1208020929
                        ]
                      },
                      {
                        "learn": [
                          0.1014448253
                        ],
                        "iteration": 56,
                        "passed_time": 5.541647492,
                        "remaining_time": 43.06929542,
                        "test": [
                          0.1168249307
                        ]
                      },
                      {
                        "learn": [
                          0.09799747326
                        ],
                        "iteration": 57,
                        "passed_time": 5.634669802,
                        "remaining_time": 42.94006987,
                        "test": [
                          0.1134491731
                        ]
                      },
                      {
                        "learn": [
                          0.09470680636
                        ],
                        "iteration": 58,
                        "passed_time": 5.727371112,
                        "remaining_time": 42.80967221,
                        "test": [
                          0.1100467754
                        ]
                      },
                      {
                        "learn": [
                          0.09162953704
                        ],
                        "iteration": 59,
                        "passed_time": 5.818796828,
                        "remaining_time": 42.67117674,
                        "test": [
                          0.1069637703
                        ]
                      },
                      {
                        "learn": [
                          0.08913194887
                        ],
                        "iteration": 60,
                        "passed_time": 5.914409105,
                        "remaining_time": 42.56435405,
                        "test": [
                          0.1045760481
                        ]
                      },
                      {
                        "learn": [
                          0.08665766252
                        ],
                        "iteration": 61,
                        "passed_time": 6.007450503,
                        "remaining_time": 42.43973097,
                        "test": [
                          0.1022880727
                        ]
                      },
                      {
                        "learn": [
                          0.08420948704
                        ],
                        "iteration": 62,
                        "passed_time": 6.108556801,
                        "remaining_time": 42.37205273,
                        "test": [
                          0.09966325701
                        ]
                      },
                      {
                        "learn": [
                          0.08117501899
                        ],
                        "iteration": 63,
                        "passed_time": 6.203504772,
                        "remaining_time": 42.26137626,
                        "test": [
                          0.09660225928
                        ]
                      },
                      {
                        "learn": [
                          0.07895768859
                        ],
                        "iteration": 64,
                        "passed_time": 6.298881552,
                        "remaining_time": 42.15405346,
                        "test": [
                          0.09423012132
                        ]
                      },
                      {
                        "learn": [
                          0.07687588991
                        ],
                        "iteration": 65,
                        "passed_time": 6.407617987,
                        "remaining_time": 42.13494252,
                        "test": [
                          0.092329944
                        ]
                      },
                      {
                        "learn": [
                          0.07427719349
                        ],
                        "iteration": 66,
                        "passed_time": 6.503271807,
                        "remaining_time": 42.02860735,
                        "test": [
                          0.08966889409
                        ]
                      },
                      {
                        "learn": [
                          0.07206953494
                        ],
                        "iteration": 67,
                        "passed_time": 6.596682364,
                        "remaining_time": 41.90833502,
                        "test": [
                          0.08747398823
                        ]
                      },
                      {
                        "learn": [
                          0.06982858924
                        ],
                        "iteration": 68,
                        "passed_time": 6.689450749,
                        "remaining_time": 41.78483004,
                        "test": [
                          0.08520993154
                        ]
                      },
                      {
                        "learn": [
                          0.06742998552
                        ],
                        "iteration": 69,
                        "passed_time": 6.78170241,
                        "remaining_time": 41.65902909,
                        "test": [
                          0.08270133374
                        ]
                      },
                      {
                        "learn": [
                          0.06564403521
                        ],
                        "iteration": 70,
                        "passed_time": 6.874919685,
                        "remaining_time": 41.54000768,
                        "test": [
                          0.08108848516
                        ]
                      },
                      {
                        "learn": [
                          0.06355848158
                        ],
                        "iteration": 71,
                        "passed_time": 6.96868331,
                        "remaining_time": 41.42495079,
                        "test": [
                          0.07897385821
                        ]
                      },
                      {
                        "learn": [
                          0.06231174895
                        ],
                        "iteration": 72,
                        "passed_time": 7.0689399,
                        "remaining_time": 41.34845667,
                        "test": [
                          0.07788763601
                        ]
                      },
                      {
                        "learn": [
                          0.06052473655
                        ],
                        "iteration": 73,
                        "passed_time": 7.164061892,
                        "remaining_time": 41.2417617,
                        "test": [
                          0.07601471363
                        ]
                      },
                      {
                        "learn": [
                          0.0592493122
                        ],
                        "iteration": 74,
                        "passed_time": 7.261454434,
                        "remaining_time": 41.14824179,
                        "test": [
                          0.0747061283
                        ]
                      },
                      {
                        "learn": [
                          0.05817582153
                        ],
                        "iteration": 75,
                        "passed_time": 7.354630938,
                        "remaining_time": 41.03109892,
                        "test": [
                          0.07378069947
                        ]
                      },
                      {
                        "learn": [
                          0.05652324145
                        ],
                        "iteration": 76,
                        "passed_time": 7.468524645,
                        "remaining_time": 41.02838863,
                        "test": [
                          0.07212127476
                        ]
                      },
                      {
                        "learn": [
                          0.05488395465
                        ],
                        "iteration": 77,
                        "passed_time": 7.562781547,
                        "remaining_time": 40.91658734,
                        "test": [
                          0.07059647739
                        ]
                      },
                      {
                        "learn": [
                          0.05338927896
                        ],
                        "iteration": 78,
                        "passed_time": 7.656052989,
                        "remaining_time": 40.79997859,
                        "test": [
                          0.069175618
                        ]
                      },
                      {
                        "learn": [
                          0.05204495056
                        ],
                        "iteration": 79,
                        "passed_time": 7.749689306,
                        "remaining_time": 40.68586885,
                        "test": [
                          0.06786648525
                        ]
                      },
                      {
                        "learn": [
                          0.05102360276
                        ],
                        "iteration": 80,
                        "passed_time": 7.843302087,
                        "remaining_time": 40.5721429,
                        "test": [
                          0.06685900277
                        ]
                      },
                      {
                        "learn": [
                          0.0496604836
                        ],
                        "iteration": 81,
                        "passed_time": 7.935908202,
                        "remaining_time": 40.45377596,
                        "test": [
                          0.06546512112
                        ]
                      },
                      {
                        "learn": [
                          0.0484464817
                        ],
                        "iteration": 82,
                        "passed_time": 8.035346333,
                        "remaining_time": 40.37035447,
                        "test": [
                          0.0643341022
                        ]
                      },
                      {
                        "learn": [
                          0.04752578152
                        ],
                        "iteration": 83,
                        "passed_time": 8.132935074,
                        "remaining_time": 40.27739275,
                        "test": [
                          0.06342066869
                        ]
                      },
                      {
                        "learn": [
                          0.04651148
                        ],
                        "iteration": 84,
                        "passed_time": 8.226061458,
                        "remaining_time": 40.16253536,
                        "test": [
                          0.06245450345
                        ]
                      },
                      {
                        "learn": [
                          0.0452740823
                        ],
                        "iteration": 85,
                        "passed_time": 8.321610787,
                        "remaining_time": 40.05984727,
                        "test": [
                          0.06128352676
                        ]
                      },
                      {
                        "learn": [
                          0.04458508363
                        ],
                        "iteration": 86,
                        "passed_time": 8.415963386,
                        "remaining_time": 39.95164228,
                        "test": [
                          0.06072257211
                        ]
                      },
                      {
                        "learn": [
                          0.04363917492
                        ],
                        "iteration": 87,
                        "passed_time": 8.528906736,
                        "remaining_time": 39.93079063,
                        "test": [
                          0.0598240172
                        ]
                      },
                      {
                        "learn": [
                          0.042369736
                        ],
                        "iteration": 88,
                        "passed_time": 8.62296045,
                        "remaining_time": 39.82063758,
                        "test": [
                          0.05860078852
                        ]
                      },
                      {
                        "learn": [
                          0.04181816486
                        ],
                        "iteration": 89,
                        "passed_time": 8.719014827,
                        "remaining_time": 39.71995643,
                        "test": [
                          0.05823003082
                        ]
                      },
                      {
                        "learn": [
                          0.04107009859
                        ],
                        "iteration": 90,
                        "passed_time": 8.814810313,
                        "remaining_time": 39.61821338,
                        "test": [
                          0.05754458022
                        ]
                      },
                      {
                        "learn": [
                          0.04018099476
                        ],
                        "iteration": 91,
                        "passed_time": 8.912589809,
                        "remaining_time": 39.52539828,
                        "test": [
                          0.05677418323
                        ]
                      },
                      {
                        "learn": [
                          0.03926564956
                        ],
                        "iteration": 92,
                        "passed_time": 9.004849157,
                        "remaining_time": 39.40831836,
                        "test": [
                          0.05586178327
                        ]
                      },
                      {
                        "learn": [
                          0.03860873756
                        ],
                        "iteration": 93,
                        "passed_time": 9.144335717,
                        "remaining_time": 39.49574788,
                        "test": [
                          0.05533923238
                        ]
                      },
                      {
                        "learn": [
                          0.03781643761
                        ],
                        "iteration": 94,
                        "passed_time": 9.290068398,
                        "remaining_time": 39.60502843,
                        "test": [
                          0.05462124943
                        ]
                      },
                      {
                        "learn": [
                          0.03698304575
                        ],
                        "iteration": 95,
                        "passed_time": 9.447120306,
                        "remaining_time": 39.75663129,
                        "test": [
                          0.05387761494
                        ]
                      },
                      {
                        "learn": [
                          0.03595004563
                        ],
                        "iteration": 96,
                        "passed_time": 9.61233643,
                        "remaining_time": 39.9357895,
                        "test": [
                          0.05277563508
                        ]
                      },
                      {
                        "learn": [
                          0.03500271824
                        ],
                        "iteration": 97,
                        "passed_time": 9.767185513,
                        "remaining_time": 40.06539364,
                        "test": [
                          0.051696981
                        ]
                      },
                      {
                        "learn": [
                          0.03424110329
                        ],
                        "iteration": 98,
                        "passed_time": 9.924346994,
                        "remaining_time": 40.19861762,
                        "test": [
                          0.05096277047
                        ]
                      },
                      {
                        "learn": [
                          0.03396576459
                        ],
                        "iteration": 99,
                        "passed_time": 9.928787366,
                        "remaining_time": 39.71514946,
                        "test": [
                          0.05072960156
                        ]
                      },
                      {
                        "learn": [
                          0.03312672635
                        ],
                        "iteration": 100,
                        "passed_time": 10.1024739,
                        "remaining_time": 39.90977312,
                        "test": [
                          0.0499806348
                        ]
                      },
                      {
                        "learn": [
                          0.03261211626
                        ],
                        "iteration": 101,
                        "passed_time": 10.26418086,
                        "remaining_time": 40.05043119,
                        "test": [
                          0.04954656184
                        ]
                      },
                      {
                        "learn": [
                          0.03194409742
                        ],
                        "iteration": 102,
                        "passed_time": 10.42104075,
                        "remaining_time": 40.16653572,
                        "test": [
                          0.04882773721
                        ]
                      },
                      {
                        "learn": [
                          0.0313498844
                        ],
                        "iteration": 103,
                        "passed_time": 10.58293866,
                        "remaining_time": 40.29657413,
                        "test": [
                          0.04831403995
                        ]
                      },
                      {
                        "learn": [
                          0.03085458466
                        ],
                        "iteration": 104,
                        "passed_time": 10.74163893,
                        "remaining_time": 40.40902265,
                        "test": [
                          0.04780444242
                        ]
                      },
                      {
                        "learn": [
                          0.0306632109
                        ],
                        "iteration": 105,
                        "passed_time": 10.9001506,
                        "remaining_time": 40.51565412,
                        "test": [
                          0.04772903733
                        ]
                      },
                      {
                        "learn": [
                          0.03007417372
                        ],
                        "iteration": 106,
                        "passed_time": 11.06860429,
                        "remaining_time": 40.65384565,
                        "test": [
                          0.04718960379
                        ]
                      },
                      {
                        "learn": [
                          0.02956366023
                        ],
                        "iteration": 107,
                        "passed_time": 11.21912469,
                        "remaining_time": 40.72126738,
                        "test": [
                          0.04679465064
                        ]
                      },
                      {
                        "learn": [
                          0.02923137089
                        ],
                        "iteration": 108,
                        "passed_time": 11.38605717,
                        "remaining_time": 40.84356286,
                        "test": [
                          0.04650097551
                        ]
                      },
                      {
                        "learn": [
                          0.02847741247
                        ],
                        "iteration": 109,
                        "passed_time": 11.54666752,
                        "remaining_time": 40.93818485,
                        "test": [
                          0.04554922683
                        ]
                      },
                      {
                        "learn": [
                          0.02795586247
                        ],
                        "iteration": 110,
                        "passed_time": 11.72912812,
                        "remaining_time": 41.10478231,
                        "test": [
                          0.04486617002
                        ]
                      },
                      {
                        "learn": [
                          0.02731872269
                        ],
                        "iteration": 111,
                        "passed_time": 11.89463283,
                        "remaining_time": 41.2064066,
                        "test": [
                          0.04417101074
                        ]
                      },
                      {
                        "learn": [
                          0.02676963921
                        ],
                        "iteration": 112,
                        "passed_time": 12.03936557,
                        "remaining_time": 41.23216351,
                        "test": [
                          0.04362717168
                        ]
                      },
                      {
                        "learn": [
                          0.02641529328
                        ],
                        "iteration": 113,
                        "passed_time": 12.21290309,
                        "remaining_time": 41.35246134,
                        "test": [
                          0.04330339617
                        ]
                      },
                      {
                        "learn": [
                          0.02603303973
                        ],
                        "iteration": 114,
                        "passed_time": 12.38252887,
                        "remaining_time": 41.45455319,
                        "test": [
                          0.04301640089
                        ]
                      },
                      {
                        "learn": [
                          0.0254765107
                        ],
                        "iteration": 115,
                        "passed_time": 12.50127341,
                        "remaining_time": 41.38352578,
                        "test": [
                          0.04253548693
                        ]
                      },
                      {
                        "learn": [
                          0.0250005714
                        ],
                        "iteration": 116,
                        "passed_time": 12.59471965,
                        "remaining_time": 41.22886861,
                        "test": [
                          0.04207101415
                        ]
                      },
                      {
                        "learn": [
                          0.02453259534
                        ],
                        "iteration": 117,
                        "passed_time": 12.70301373,
                        "remaining_time": 41.12331564,
                        "test": [
                          0.04169794032
                        ]
                      },
                      {
                        "learn": [
                          0.02417765938
                        ],
                        "iteration": 118,
                        "passed_time": 12.79764674,
                        "remaining_time": 40.97397823,
                        "test": [
                          0.04138008427
                        ]
                      },
                      {
                        "learn": [
                          0.02363848706
                        ],
                        "iteration": 119,
                        "passed_time": 12.89192797,
                        "remaining_time": 40.82443858,
                        "test": [
                          0.04064354593
                        ]
                      },
                      {
                        "learn": [
                          0.02333025884
                        ],
                        "iteration": 120,
                        "passed_time": 12.98441521,
                        "remaining_time": 40.67019309,
                        "test": [
                          0.04042412014
                        ]
                      },
                      {
                        "learn": [
                          0.02300527532
                        ],
                        "iteration": 121,
                        "passed_time": 13.08607531,
                        "remaining_time": 40.54538089,
                        "test": [
                          0.0400713878
                        ]
                      },
                      {
                        "learn": [
                          0.02265450145
                        ],
                        "iteration": 122,
                        "passed_time": 13.18226263,
                        "remaining_time": 40.40417082,
                        "test": [
                          0.03970128054
                        ]
                      },
                      {
                        "learn": [
                          0.02237225003
                        ],
                        "iteration": 123,
                        "passed_time": 13.27586329,
                        "remaining_time": 40.25584354,
                        "test": [
                          0.03946551531
                        ]
                      },
                      {
                        "learn": [
                          0.02206953876
                        ],
                        "iteration": 124,
                        "passed_time": 13.36988645,
                        "remaining_time": 40.10965936,
                        "test": [
                          0.03906046634
                        ]
                      },
                      {
                        "learn": [
                          0.02155872907
                        ],
                        "iteration": 125,
                        "passed_time": 13.46726265,
                        "remaining_time": 39.97425581,
                        "test": [
                          0.03838720768
                        ]
                      },
                      {
                        "learn": [
                          0.02134586487
                        ],
                        "iteration": 126,
                        "passed_time": 13.56162764,
                        "remaining_time": 39.83060718,
                        "test": [
                          0.03823864107
                        ]
                      },
                      {
                        "learn": [
                          0.02089988498
                        ],
                        "iteration": 127,
                        "passed_time": 13.65518709,
                        "remaining_time": 39.68538748,
                        "test": [
                          0.03772316444
                        ]
                      },
                      {
                        "learn": [
                          0.0206211671
                        ],
                        "iteration": 128,
                        "passed_time": 13.76581764,
                        "remaining_time": 39.59006468,
                        "test": [
                          0.03745656566
                        ]
                      },
                      {
                        "learn": [
                          0.02027457694
                        ],
                        "iteration": 129,
                        "passed_time": 13.85922164,
                        "remaining_time": 39.44547698,
                        "test": [
                          0.03705509877
                        ]
                      },
                      {
                        "learn": [
                          0.02010153397
                        ],
                        "iteration": 130,
                        "passed_time": 13.9528704,
                        "remaining_time": 39.30236014,
                        "test": [
                          0.03693484351
                        ]
                      },
                      {
                        "learn": [
                          0.01965945579
                        ],
                        "iteration": 131,
                        "passed_time": 14.04735074,
                        "remaining_time": 39.16231115,
                        "test": [
                          0.03640840519
                        ]
                      },
                      {
                        "learn": [
                          0.0195108433
                        ],
                        "iteration": 132,
                        "passed_time": 14.15158436,
                        "remaining_time": 39.0498606,
                        "test": [
                          0.0363171644
                        ]
                      },
                      {
                        "learn": [
                          0.01926549418
                        ],
                        "iteration": 133,
                        "passed_time": 14.24905002,
                        "remaining_time": 38.91904706,
                        "test": [
                          0.03610438008
                        ]
                      },
                      {
                        "learn": [
                          0.01907281357
                        ],
                        "iteration": 134,
                        "passed_time": 14.34431536,
                        "remaining_time": 38.78277858,
                        "test": [
                          0.03596043596
                        ]
                      },
                      {
                        "learn": [
                          0.0188846695
                        ],
                        "iteration": 135,
                        "passed_time": 14.44196407,
                        "remaining_time": 38.65349208,
                        "test": [
                          0.03579758084
                        ]
                      },
                      {
                        "learn": [
                          0.01858422854
                        ],
                        "iteration": 136,
                        "passed_time": 14.53564767,
                        "remaining_time": 38.51416134,
                        "test": [
                          0.03560915878
                        ]
                      },
                      {
                        "learn": [
                          0.01831881969
                        ],
                        "iteration": 137,
                        "passed_time": 14.6298198,
                        "remaining_time": 38.37677369,
                        "test": [
                          0.03533038837
                        ]
                      },
                      {
                        "learn": [
                          0.01806207358
                        ],
                        "iteration": 138,
                        "passed_time": 14.72241627,
                        "remaining_time": 38.23591562,
                        "test": [
                          0.03514708072
                        ]
                      },
                      {
                        "learn": [
                          0.01779412547
                        ],
                        "iteration": 139,
                        "passed_time": 14.83143772,
                        "remaining_time": 38.13798271,
                        "test": [
                          0.03492555463
                        ]
                      },
                      {
                        "learn": [
                          0.01755898177
                        ],
                        "iteration": 140,
                        "passed_time": 14.92544916,
                        "remaining_time": 38.00167552,
                        "test": [
                          0.034675067
                        ]
                      },
                      {
                        "learn": [
                          0.01730640912
                        ],
                        "iteration": 141,
                        "passed_time": 15.01919353,
                        "remaining_time": 37.86529072,
                        "test": [
                          0.03439196282
                        ]
                      },
                      {
                        "learn": [
                          0.01698844193
                        ],
                        "iteration": 142,
                        "passed_time": 15.12062705,
                        "remaining_time": 37.74869829,
                        "test": [
                          0.03415257932
                        ]
                      },
                      {
                        "learn": [
                          0.01667203707
                        ],
                        "iteration": 143,
                        "passed_time": 15.22071511,
                        "remaining_time": 37.62899013,
                        "test": [
                          0.03380836616
                        ]
                      },
                      {
                        "learn": [
                          0.01635231571
                        ],
                        "iteration": 144,
                        "passed_time": 15.31767146,
                        "remaining_time": 37.5018853,
                        "test": [
                          0.0335046359
                        ]
                      },
                      {
                        "learn": [
                          0.01611614081
                        ],
                        "iteration": 145,
                        "passed_time": 15.41534259,
                        "remaining_time": 37.37692656,
                        "test": [
                          0.03328232602
                        ]
                      },
                      {
                        "learn": [
                          0.01594627022
                        ],
                        "iteration": 146,
                        "passed_time": 15.5107941,
                        "remaining_time": 37.24700896,
                        "test": [
                          0.03314964194
                        ]
                      },
                      {
                        "learn": [
                          0.01568126869
                        ],
                        "iteration": 147,
                        "passed_time": 15.60496179,
                        "remaining_time": 37.11450372,
                        "test": [
                          0.03288316237
                        ]
                      },
                      {
                        "learn": [
                          0.01546505346
                        ],
                        "iteration": 148,
                        "passed_time": 15.69802007,
                        "remaining_time": 36.97989963,
                        "test": [
                          0.0327452613
                        ]
                      },
                      {
                        "learn": [
                          0.01516216545
                        ],
                        "iteration": 149,
                        "passed_time": 15.81128877,
                        "remaining_time": 36.89300714,
                        "test": [
                          0.03250862872
                        ]
                      },
                      {
                        "learn": [
                          0.01501913923
                        ],
                        "iteration": 150,
                        "passed_time": 15.9049163,
                        "remaining_time": 36.76036946,
                        "test": [
                          0.03240019216
                        ]
                      },
                      {
                        "learn": [
                          0.01484489055
                        ],
                        "iteration": 151,
                        "passed_time": 15.99819478,
                        "remaining_time": 36.62744594,
                        "test": [
                          0.03226523988
                        ]
                      },
                      {
                        "learn": [
                          0.01464700813
                        ],
                        "iteration": 152,
                        "passed_time": 16.09243318,
                        "remaining_time": 36.49721774,
                        "test": [
                          0.03213538229
                        ]
                      },
                      {
                        "learn": [
                          0.01443456348
                        ],
                        "iteration": 153,
                        "passed_time": 16.20297668,
                        "remaining_time": 36.40409047,
                        "test": [
                          0.03186508535
                        ]
                      },
                      {
                        "learn": [
                          0.01423854324
                        ],
                        "iteration": 154,
                        "passed_time": 16.30651677,
                        "remaining_time": 36.29515024,
                        "test": [
                          0.03174177745
                        ]
                      },
                      {
                        "learn": [
                          0.01410676214
                        ],
                        "iteration": 155,
                        "passed_time": 16.40118461,
                        "remaining_time": 36.16671479,
                        "test": [
                          0.03163284472
                        ]
                      },
                      {
                        "learn": [
                          0.01396726543
                        ],
                        "iteration": 156,
                        "passed_time": 16.49583616,
                        "remaining_time": 36.0386739,
                        "test": [
                          0.03145890611
                        ]
                      },
                      {
                        "learn": [
                          0.01389036434
                        ],
                        "iteration": 157,
                        "passed_time": 16.58880453,
                        "remaining_time": 35.90741235,
                        "test": [
                          0.03139322875
                        ]
                      },
                      {
                        "learn": [
                          0.01363855272
                        ],
                        "iteration": 158,
                        "passed_time": 16.68185302,
                        "remaining_time": 35.77680427,
                        "test": [
                          0.0311505199
                        ]
                      },
                      {
                        "learn": [
                          0.01353122479
                        ],
                        "iteration": 159,
                        "passed_time": 16.7746356,
                        "remaining_time": 35.64610064,
                        "test": [
                          0.03104947392
                        ]
                      },
                      {
                        "learn": [
                          0.01332849101
                        ],
                        "iteration": 160,
                        "passed_time": 16.88543159,
                        "remaining_time": 35.55379695,
                        "test": [
                          0.03088017602
                        ]
                      },
                      {
                        "learn": [
                          0.01319579122
                        ],
                        "iteration": 161,
                        "passed_time": 16.97849001,
                        "remaining_time": 35.42425694,
                        "test": [
                          0.03070633333
                        ]
                      },
                      {
                        "learn": [
                          0.01306958633
                        ],
                        "iteration": 162,
                        "passed_time": 17.07281066,
                        "remaining_time": 35.2977742,
                        "test": [
                          0.03059410043
                        ]
                      },
                      {
                        "learn": [
                          0.01288748601
                        ],
                        "iteration": 163,
                        "passed_time": 17.17377017,
                        "remaining_time": 35.18528523,
                        "test": [
                          0.03047211454
                        ]
                      },
                      {
                        "learn": [
                          0.01279077641
                        ],
                        "iteration": 164,
                        "passed_time": 17.26817769,
                        "remaining_time": 35.0596335,
                        "test": [
                          0.03042177348
                        ]
                      },
                      {
                        "learn": [
                          0.0126020868
                        ],
                        "iteration": 165,
                        "passed_time": 17.36033983,
                        "remaining_time": 34.92984038,
                        "test": [
                          0.030287153
                        ]
                      },
                      {
                        "learn": [
                          0.01239066492
                        ],
                        "iteration": 166,
                        "passed_time": 17.45725423,
                        "remaining_time": 34.809974,
                        "test": [
                          0.02994830949
                        ]
                      },
                      {
                        "learn": [
                          0.01224576923
                        ],
                        "iteration": 167,
                        "passed_time": 17.55141017,
                        "remaining_time": 34.68492962,
                        "test": [
                          0.02983065793
                        ]
                      },
                      {
                        "learn": [
                          0.01211633899
                        ],
                        "iteration": 168,
                        "passed_time": 17.64529434,
                        "remaining_time": 34.55971849,
                        "test": [
                          0.02975179361
                        ]
                      },
                      {
                        "learn": [
                          0.0119753348
                        ],
                        "iteration": 169,
                        "passed_time": 17.73800056,
                        "remaining_time": 34.43258932,
                        "test": [
                          0.02955587814
                        ]
                      },
                      {
                        "learn": [
                          0.01182861207
                        ],
                        "iteration": 170,
                        "passed_time": 17.83021001,
                        "remaining_time": 34.30490699,
                        "test": [
                          0.02946948224
                        ]
                      },
                      {
                        "learn": [
                          0.01169059617
                        ],
                        "iteration": 171,
                        "passed_time": 17.94236783,
                        "remaining_time": 34.2156782,
                        "test": [
                          0.02936390955
                        ]
                      },
                      {
                        "learn": [
                          0.01154538226
                        ],
                        "iteration": 172,
                        "passed_time": 18.03751172,
                        "remaining_time": 34.09402504,
                        "test": [
                          0.02925279244
                        ]
                      },
                      {
                        "learn": [
                          0.01139377618
                        ],
                        "iteration": 173,
                        "passed_time": 18.14239834,
                        "remaining_time": 33.99093022,
                        "test": [
                          0.02912948017
                        ]
                      },
                      {
                        "learn": [
                          0.01125895638
                        ],
                        "iteration": 174,
                        "passed_time": 18.2365153,
                        "remaining_time": 33.86781413,
                        "test": [
                          0.02908053608
                        ]
                      },
                      {
                        "learn": [
                          0.0111312268
                        ],
                        "iteration": 175,
                        "passed_time": 18.33099969,
                        "remaining_time": 33.74570397,
                        "test": [
                          0.02900238163
                        ]
                      },
                      {
                        "learn": [
                          0.0109778469
                        ],
                        "iteration": 176,
                        "passed_time": 18.42700213,
                        "remaining_time": 33.6266762,
                        "test": [
                          0.02892406376
                        ]
                      },
                      {
                        "learn": [
                          0.01080691059
                        ],
                        "iteration": 177,
                        "passed_time": 18.52198363,
                        "remaining_time": 33.50606028,
                        "test": [
                          0.0287824369
                        ]
                      },
                      {
                        "learn": [
                          0.01061272744
                        ],
                        "iteration": 178,
                        "passed_time": 18.61457689,
                        "remaining_time": 33.38144795,
                        "test": [
                          0.0285993859
                        ]
                      },
                      {
                        "learn": [
                          0.01046914514
                        ],
                        "iteration": 179,
                        "passed_time": 18.70782791,
                        "remaining_time": 33.25836072,
                        "test": [
                          0.02849137488
                        ]
                      },
                      {
                        "learn": [
                          0.01033541979
                        ],
                        "iteration": 180,
                        "passed_time": 18.80040493,
                        "remaining_time": 33.13441531,
                        "test": [
                          0.02840483228
                        ]
                      },
                      {
                        "learn": [
                          0.0102285622
                        ],
                        "iteration": 181,
                        "passed_time": 18.90742978,
                        "remaining_time": 33.03605862,
                        "test": [
                          0.02832199969
                        ]
                      },
                      {
                        "learn": [
                          0.01011920985
                        ],
                        "iteration": 182,
                        "passed_time": 19.00509571,
                        "remaining_time": 32.9213953,
                        "test": [
                          0.02827364654
                        ]
                      },
                      {
                        "learn": [
                          0.01003350701
                        ],
                        "iteration": 183,
                        "passed_time": 19.09756625,
                        "remaining_time": 32.79799422,
                        "test": [
                          0.02815460856
                        ]
                      },
                      {
                        "learn": [
                          0.009866936425
                        ],
                        "iteration": 184,
                        "passed_time": 19.20339015,
                        "remaining_time": 32.69766431,
                        "test": [
                          0.02802763964
                        ]
                      },
                      {
                        "learn": [
                          0.009764157924
                        ],
                        "iteration": 185,
                        "passed_time": 19.29656039,
                        "remaining_time": 32.57591377,
                        "test": [
                          0.02797357213
                        ]
                      },
                      {
                        "learn": [
                          0.009596843113
                        ],
                        "iteration": 186,
                        "passed_time": 19.3922078,
                        "remaining_time": 32.4586152,
                        "test": [
                          0.02786537637
                        ]
                      },
                      {
                        "learn": [
                          0.009500991909
                        ],
                        "iteration": 187,
                        "passed_time": 19.48744028,
                        "remaining_time": 32.34085834,
                        "test": [
                          0.02778360343
                        ]
                      },
                      {
                        "learn": [
                          0.009343373335
                        ],
                        "iteration": 188,
                        "passed_time": 19.58026673,
                        "remaining_time": 32.21938071,
                        "test": [
                          0.0277040192
                        ]
                      },
                      {
                        "learn": [
                          0.009187244327
                        ],
                        "iteration": 189,
                        "passed_time": 19.67360651,
                        "remaining_time": 32.09904219,
                        "test": [
                          0.02755897558
                        ]
                      },
                      {
                        "learn": [
                          0.009085309628
                        ],
                        "iteration": 190,
                        "passed_time": 19.76950076,
                        "remaining_time": 31.98311903,
                        "test": [
                          0.02751462843
                        ]
                      },
                      {
                        "learn": [
                          0.008946864032
                        ],
                        "iteration": 191,
                        "passed_time": 19.86271643,
                        "remaining_time": 31.8631076,
                        "test": [
                          0.02736801636
                        ]
                      },
                      {
                        "learn": [
                          0.008795207424
                        ],
                        "iteration": 192,
                        "passed_time": 19.9705825,
                        "remaining_time": 31.76667786,
                        "test": [
                          0.02722805461
                        ]
                      },
                      {
                        "learn": [
                          0.00878151514
                        ],
                        "iteration": 193,
                        "passed_time": 20.06722023,
                        "remaining_time": 31.65241954,
                        "test": [
                          0.02723587389
                        ]
                      },
                      {
                        "learn": [
                          0.008694867432
                        ],
                        "iteration": 194,
                        "passed_time": 20.17212248,
                        "remaining_time": 31.55126849,
                        "test": [
                          0.02717938312
                        ]
                      },
                      {
                        "learn": [
                          0.008597035576
                        ],
                        "iteration": 195,
                        "passed_time": 20.26659541,
                        "remaining_time": 31.43390309,
                        "test": [
                          0.02708404903
                        ]
                      },
                      {
                        "learn": [
                          0.008493684108
                        ],
                        "iteration": 196,
                        "passed_time": 20.35914839,
                        "remaining_time": 31.31381707,
                        "test": [
                          0.02701162022
                        ]
                      },
                      {
                        "learn": [
                          0.008406751941
                        ],
                        "iteration": 197,
                        "passed_time": 20.45539558,
                        "remaining_time": 31.19964377,
                        "test": [
                          0.02692727651
                        ]
                      },
                      {
                        "learn": [
                          0.008275662923
                        ],
                        "iteration": 198,
                        "passed_time": 20.54980334,
                        "remaining_time": 31.08286838,
                        "test": [
                          0.02680626383
                        ]
                      },
                      {
                        "learn": [
                          0.00817257898
                        ],
                        "iteration": 199,
                        "passed_time": 20.64351765,
                        "remaining_time": 30.96527647,
                        "test": [
                          0.02671631244
                        ]
                      },
                      {
                        "learn": [
                          0.008093885278
                        ],
                        "iteration": 200,
                        "passed_time": 20.73679525,
                        "remaining_time": 30.84727253,
                        "test": [
                          0.02666248497
                        ]
                      },
                      {
                        "learn": [
                          0.007957907966
                        ],
                        "iteration": 201,
                        "passed_time": 20.82851756,
                        "remaining_time": 30.72721897,
                        "test": [
                          0.02663574886
                        ]
                      },
                      {
                        "learn": [
                          0.007865516936
                        ],
                        "iteration": 202,
                        "passed_time": 20.92276821,
                        "remaining_time": 30.61114364,
                        "test": [
                          0.02662615725
                        ]
                      },
                      {
                        "learn": [
                          0.007793843688
                        ],
                        "iteration": 203,
                        "passed_time": 21.03193904,
                        "remaining_time": 30.51693115,
                        "test": [
                          0.02656933005
                        ]
                      },
                      {
                        "learn": [
                          0.007686364376
                        ],
                        "iteration": 204,
                        "passed_time": 21.12456565,
                        "remaining_time": 30.3987652,
                        "test": [
                          0.02646948743
                        ]
                      },
                      {
                        "learn": [
                          0.007602031162
                        ],
                        "iteration": 205,
                        "passed_time": 21.23199471,
                        "remaining_time": 30.30197304,
                        "test": [
                          0.02642398092
                        ]
                      },
                      {
                        "learn": [
                          0.007483161796
                        ],
                        "iteration": 206,
                        "passed_time": 21.32703897,
                        "remaining_time": 30.18754792,
                        "test": [
                          0.02630882727
                        ]
                      },
                      {
                        "learn": [
                          0.007377279538
                        ],
                        "iteration": 207,
                        "passed_time": 21.43113561,
                        "remaining_time": 30.0860173,
                        "test": [
                          0.02622318387
                        ]
                      },
                      {
                        "learn": [
                          0.007305819717
                        ],
                        "iteration": 208,
                        "passed_time": 21.52372505,
                        "remaining_time": 29.96844014,
                        "test": [
                          0.02615435608
                        ]
                      },
                      {
                        "learn": [
                          0.007203228531
                        ],
                        "iteration": 209,
                        "passed_time": 21.61619787,
                        "remaining_time": 29.85093991,
                        "test": [
                          0.02610644608
                        ]
                      },
                      {
                        "learn": [
                          0.007103588727
                        ],
                        "iteration": 210,
                        "passed_time": 21.71039155,
                        "remaining_time": 29.73603393,
                        "test": [
                          0.02601551204
                        ]
                      },
                      {
                        "learn": [
                          0.007006781762
                        ],
                        "iteration": 211,
                        "passed_time": 21.80339349,
                        "remaining_time": 29.61970437,
                        "test": [
                          0.02595089653
                        ]
                      },
                      {
                        "learn": [
                          0.006942896888
                        ],
                        "iteration": 212,
                        "passed_time": 21.89799807,
                        "remaining_time": 29.50575326,
                        "test": [
                          0.02593683315
                        ]
                      },
                      {
                        "learn": [
                          0.006850295378
                        ],
                        "iteration": 213,
                        "passed_time": 21.99108757,
                        "remaining_time": 29.38995815,
                        "test": [
                          0.02587186033
                        ]
                      },
                      {
                        "learn": [
                          0.00676750191
                        ],
                        "iteration": 214,
                        "passed_time": 22.10116175,
                        "remaining_time": 29.29688883,
                        "test": [
                          0.02580711822
                        ]
                      },
                      {
                        "learn": [
                          0.006680910022
                        ],
                        "iteration": 215,
                        "passed_time": 22.20693071,
                        "remaining_time": 29.19800149,
                        "test": [
                          0.02571104539
                        ]
                      },
                      {
                        "learn": [
                          0.006673847033
                        ],
                        "iteration": 216,
                        "passed_time": 22.21105172,
                        "remaining_time": 28.96648681,
                        "test": [
                          0.02567015904
                        ]
                      },
                      {
                        "learn": [
                          0.006607904956
                        ],
                        "iteration": 217,
                        "passed_time": 22.30899757,
                        "remaining_time": 28.85842805,
                        "test": [
                          0.02564467522
                        ]
                      },
                      {
                        "learn": [
                          0.006516802932
                        ],
                        "iteration": 218,
                        "passed_time": 22.4058735,
                        "remaining_time": 28.74908883,
                        "test": [
                          0.02559966367
                        ]
                      },
                      {
                        "learn": [
                          0.006422235796
                        ],
                        "iteration": 219,
                        "passed_time": 22.53924114,
                        "remaining_time": 28.6863069,
                        "test": [
                          0.02551474963
                        ]
                      },
                      {
                        "learn": [
                          0.006350391416
                        ],
                        "iteration": 220,
                        "passed_time": 22.68213055,
                        "remaining_time": 28.63490689,
                        "test": [
                          0.02544423066
                        ]
                      },
                      {
                        "learn": [
                          0.006294754365
                        ],
                        "iteration": 221,
                        "passed_time": 22.84207393,
                        "remaining_time": 28.60403852,
                        "test": [
                          0.02542847606
                        ]
                      },
                      {
                        "learn": [
                          0.006288622038
                        ],
                        "iteration": 222,
                        "passed_time": 23.00408211,
                        "remaining_time": 28.57457733,
                        "test": [
                          0.02542675875
                        ]
                      },
                      {
                        "learn": [
                          0.00623287894
                        ],
                        "iteration": 223,
                        "passed_time": 23.17535645,
                        "remaining_time": 28.55534991,
                        "test": [
                          0.02534323154
                        ]
                      },
                      {
                        "learn": [
                          0.006176289639
                        ],
                        "iteration": 224,
                        "passed_time": 23.33492828,
                        "remaining_time": 28.5204679,
                        "test": [
                          0.02532587797
                        ]
                      },
                      {
                        "learn": [
                          0.00611705484
                        ],
                        "iteration": 225,
                        "passed_time": 23.48717638,
                        "remaining_time": 28.47560322,
                        "test": [
                          0.02530091295
                        ]
                      },
                      {
                        "learn": [
                          0.006050002363
                        ],
                        "iteration": 226,
                        "passed_time": 23.64864773,
                        "remaining_time": 28.44088472,
                        "test": [
                          0.02525189376
                        ]
                      },
                      {
                        "learn": [
                          0.0059673704
                        ],
                        "iteration": 227,
                        "passed_time": 23.8167443,
                        "remaining_time": 28.41295812,
                        "test": [
                          0.02517306174
                        ]
                      },
                      {
                        "learn": [
                          0.005901445554
                        ],
                        "iteration": 228,
                        "passed_time": 23.97113781,
                        "remaining_time": 28.36759103,
                        "test": [
                          0.02515183757
                        ]
                      },
                      {
                        "learn": [
                          0.005850798557
                        ],
                        "iteration": 229,
                        "passed_time": 24.13094618,
                        "remaining_time": 28.32763247,
                        "test": [
                          0.02513769139
                        ]
                      },
                      {
                        "learn": [
                          0.005790434562
                        ],
                        "iteration": 230,
                        "passed_time": 24.28272634,
                        "remaining_time": 28.27728739,
                        "test": [
                          0.02514028289
                        ]
                      },
                      {
                        "learn": [
                          0.005726942378
                        ],
                        "iteration": 231,
                        "passed_time": 24.45152243,
                        "remaining_time": 28.24572418,
                        "test": [
                          0.02511978086
                        ]
                      },
                      {
                        "learn": [
                          0.005659747886
                        ],
                        "iteration": 232,
                        "passed_time": 24.61698633,
                        "remaining_time": 28.2091646,
                        "test": [
                          0.02509124801
                        ]
                      },
                      {
                        "learn": [
                          0.00558723698
                        ],
                        "iteration": 233,
                        "passed_time": 24.76826725,
                        "remaining_time": 28.15538072,
                        "test": [
                          0.02506796575
                        ]
                      },
                      {
                        "learn": [
                          0.005570588538
                        ],
                        "iteration": 234,
                        "passed_time": 24.92848978,
                        "remaining_time": 28.11085018,
                        "test": [
                          0.02505596367
                        ]
                      },
                      {
                        "learn": [
                          0.00552011308
                        ],
                        "iteration": 235,
                        "passed_time": 25.08868596,
                        "remaining_time": 28.06530972,
                        "test": [
                          0.02504666938
                        ]
                      },
                      {
                        "learn": [
                          0.005447522848
                        ],
                        "iteration": 236,
                        "passed_time": 25.26935782,
                        "remaining_time": 28.04152365,
                        "test": [
                          0.02502818256
                        ]
                      },
                      {
                        "learn": [
                          0.005400820988
                        ],
                        "iteration": 237,
                        "passed_time": 25.40782863,
                        "remaining_time": 27.96996261,
                        "test": [
                          0.02501609715
                        ]
                      },
                      {
                        "learn": [
                          0.00534249693
                        ],
                        "iteration": 238,
                        "passed_time": 25.55565453,
                        "remaining_time": 27.90805788,
                        "test": [
                          0.02493541481
                        ]
                      },
                      {
                        "learn": [
                          0.00529754578
                        ],
                        "iteration": 239,
                        "passed_time": 25.70557712,
                        "remaining_time": 27.84770855,
                        "test": [
                          0.02492092374
                        ]
                      },
                      {
                        "learn": [
                          0.005238033115
                        ],
                        "iteration": 240,
                        "passed_time": 25.85096929,
                        "remaining_time": 27.78174708,
                        "test": [
                          0.02487877276
                        ]
                      },
                      {
                        "learn": [
                          0.005186692987
                        ],
                        "iteration": 241,
                        "passed_time": 26.00860418,
                        "remaining_time": 27.72818131,
                        "test": [
                          0.02485768764
                        ]
                      },
                      {
                        "learn": [
                          0.005153825107
                        ],
                        "iteration": 242,
                        "passed_time": 26.11656499,
                        "remaining_time": 27.62122305,
                        "test": [
                          0.02484921476
                        ]
                      },
                      {
                        "learn": [
                          0.005104244553
                        ],
                        "iteration": 243,
                        "passed_time": 26.20782595,
                        "remaining_time": 27.49673543,
                        "test": [
                          0.02484316882
                        ]
                      },
                      {
                        "learn": [
                          0.005052503989
                        ],
                        "iteration": 244,
                        "passed_time": 26.32531634,
                        "remaining_time": 27.39981905,
                        "test": [
                          0.02479878444
                        ]
                      },
                      {
                        "learn": [
                          0.005006776852
                        ],
                        "iteration": 245,
                        "passed_time": 26.41731708,
                        "remaining_time": 27.27641682,
                        "test": [
                          0.0247614616
                        ]
                      },
                      {
                        "learn": [
                          0.004949876187
                        ],
                        "iteration": 246,
                        "passed_time": 26.50806983,
                        "remaining_time": 27.15199056,
                        "test": [
                          0.02474401985
                        ]
                      },
                      {
                        "learn": [
                          0.004914541928
                        ],
                        "iteration": 247,
                        "passed_time": 26.59902972,
                        "remaining_time": 27.02804632,
                        "test": [
                          0.02473746559
                        ]
                      },
                      {
                        "learn": [
                          0.004865462383
                        ],
                        "iteration": 248,
                        "passed_time": 26.69036294,
                        "remaining_time": 26.90474336,
                        "test": [
                          0.02470509132
                        ]
                      },
                      {
                        "learn": [
                          0.004812598636
                        ],
                        "iteration": 249,
                        "passed_time": 26.78045658,
                        "remaining_time": 26.78045658,
                        "test": [
                          0.02468425383
                        ]
                      },
                      {
                        "learn": [
                          0.004760349743
                        ],
                        "iteration": 250,
                        "passed_time": 26.8713677,
                        "remaining_time": 26.65725321,
                        "test": [
                          0.02465141903
                        ]
                      },
                      {
                        "learn": [
                          0.004756126591
                        ],
                        "iteration": 251,
                        "passed_time": 26.96116087,
                        "remaining_time": 26.53320594,
                        "test": [
                          0.0246545683
                        ]
                      },
                      {
                        "learn": [
                          0.004703522309
                        ],
                        "iteration": 252,
                        "passed_time": 27.05078094,
                        "remaining_time": 26.40926044,
                        "test": [
                          0.02460806795
                        ]
                      },
                      {
                        "learn": [
                          0.004648200705
                        ],
                        "iteration": 253,
                        "passed_time": 27.14283365,
                        "remaining_time": 26.28794125,
                        "test": [
                          0.02460700009
                        ]
                      },
                      {
                        "learn": [
                          0.004644336882
                        ],
                        "iteration": 254,
                        "passed_time": 27.15527232,
                        "remaining_time": 26.09035968,
                        "test": [
                          0.02459532873
                        ]
                      },
                      {
                        "learn": [
                          0.004610260483
                        ],
                        "iteration": 255,
                        "passed_time": 27.2514403,
                        "remaining_time": 25.97402904,
                        "test": [
                          0.0245909698
                        ]
                      },
                      {
                        "learn": [
                          0.004577257996
                        ],
                        "iteration": 256,
                        "passed_time": 27.36672593,
                        "remaining_time": 25.87593153,
                        "test": [
                          0.02456352675
                        ]
                      },
                      {
                        "learn": [
                          0.004535737043
                        ],
                        "iteration": 257,
                        "passed_time": 27.45867601,
                        "remaining_time": 25.75581238,
                        "test": [
                          0.02453418696
                        ]
                      },
                      {
                        "learn": [
                          0.004509499398
                        ],
                        "iteration": 258,
                        "passed_time": 27.54888086,
                        "remaining_time": 25.63428682,
                        "test": [
                          0.02453233988
                        ]
                      },
                      {
                        "learn": [
                          0.004505553259
                        ],
                        "iteration": 259,
                        "passed_time": 27.55281355,
                        "remaining_time": 25.43336636,
                        "test": [
                          0.02450483887
                        ]
                      },
                      {
                        "learn": [
                          0.004501721778
                        ],
                        "iteration": 260,
                        "passed_time": 27.55520106,
                        "remaining_time": 25.23254043,
                        "test": [
                          0.0244763581
                        ]
                      },
                      {
                        "learn": [
                          0.004464266518
                        ],
                        "iteration": 261,
                        "passed_time": 27.64387717,
                        "remaining_time": 25.11161362,
                        "test": [
                          0.02445363032
                        ]
                      },
                      {
                        "learn": [
                          0.004426146922
                        ],
                        "iteration": 262,
                        "passed_time": 27.73298526,
                        "remaining_time": 24.99132132,
                        "test": [
                          0.02442775205
                        ]
                      },
                      {
                        "learn": [
                          0.004391861302
                        ],
                        "iteration": 263,
                        "passed_time": 27.82247605,
                        "remaining_time": 24.87160738,
                        "test": [
                          0.02442280937
                        ]
                      },
                      {
                        "learn": [
                          0.004348076568
                        ],
                        "iteration": 264,
                        "passed_time": 27.91430894,
                        "remaining_time": 24.7541985,
                        "test": [
                          0.02441587938
                        ]
                      },
                      {
                        "learn": [
                          0.00431067682
                        ],
                        "iteration": 265,
                        "passed_time": 28.00263774,
                        "remaining_time": 24.63389937,
                        "test": [
                          0.02442049286
                        ]
                      },
                      {
                        "learn": [
                          0.004282892987
                        ],
                        "iteration": 266,
                        "passed_time": 28.0915208,
                        "remaining_time": 24.5143234,
                        "test": [
                          0.02441640039
                        ]
                      },
                      {
                        "learn": [
                          0.004238283809
                        ],
                        "iteration": 267,
                        "passed_time": 28.1819531,
                        "remaining_time": 24.39631761,
                        "test": [
                          0.02440339428
                        ]
                      },
                      {
                        "learn": [
                          0.00419611882
                        ],
                        "iteration": 268,
                        "passed_time": 28.27754678,
                        "remaining_time": 24.2829491,
                        "test": [
                          0.02440919985
                        ]
                      },
                      {
                        "learn": [
                          0.004168920002
                        ],
                        "iteration": 269,
                        "passed_time": 28.38803619,
                        "remaining_time": 24.1824012,
                        "test": [
                          0.02442250278
                        ]
                      },
                      {
                        "learn": [
                          0.004137483545
                        ],
                        "iteration": 270,
                        "passed_time": 28.48805029,
                        "remaining_time": 24.0729281,
                        "test": [
                          0.0244177955
                        ]
                      },
                      {
                        "learn": [
                          0.00409880692
                        ],
                        "iteration": 271,
                        "passed_time": 28.57978172,
                        "remaining_time": 23.95658174,
                        "test": [
                          0.02437675703
                        ]
                      },
                      {
                        "learn": [
                          0.004072607224
                        ],
                        "iteration": 272,
                        "passed_time": 28.67218123,
                        "remaining_time": 23.84097121,
                        "test": [
                          0.02437473882
                        ]
                      },
                      {
                        "learn": [
                          0.004069164582
                        ],
                        "iteration": 273,
                        "passed_time": 28.67902867,
                        "remaining_time": 23.65496526,
                        "test": [
                          0.02434317807
                        ]
                      },
                      {
                        "learn": [
                          0.004030918972
                        ],
                        "iteration": 274,
                        "passed_time": 28.7691178,
                        "remaining_time": 23.53836911,
                        "test": [
                          0.02435921224
                        ]
                      },
                      {
                        "learn": [
                          0.003991984673
                        ],
                        "iteration": 275,
                        "passed_time": 28.86101582,
                        "remaining_time": 23.42343313,
                        "test": [
                          0.02436862039
                        ]
                      },
                      {
                        "learn": [
                          0.003955776735
                        ],
                        "iteration": 276,
                        "passed_time": 28.95241681,
                        "remaining_time": 23.30826335,
                        "test": [
                          0.02434683952
                        ]
                      },
                      {
                        "learn": [
                          0.003931824725
                        ],
                        "iteration": 277,
                        "passed_time": 29.04219322,
                        "remaining_time": 23.19196724,
                        "test": [
                          0.02429798315
                        ]
                      },
                      {
                        "learn": [
                          0.003902735358
                        ],
                        "iteration": 278,
                        "passed_time": 29.13400055,
                        "remaining_time": 23.07746997,
                        "test": [
                          0.02428488737
                        ]
                      },
                      {
                        "learn": [
                          0.003864785994
                        ],
                        "iteration": 279,
                        "passed_time": 29.22967108,
                        "remaining_time": 22.96617014,
                        "test": [
                          0.02429147518
                        ]
                      },
                      {
                        "learn": [
                          0.003843322005
                        ],
                        "iteration": 280,
                        "passed_time": 29.32022418,
                        "remaining_time": 22.85099322,
                        "test": [
                          0.02428290355
                        ]
                      },
                      {
                        "learn": [
                          0.003809318109
                        ],
                        "iteration": 281,
                        "passed_time": 29.43640659,
                        "remaining_time": 22.75580367,
                        "test": [
                          0.02429593854
                        ]
                      },
                      {
                        "learn": [
                          0.003797727541
                        ],
                        "iteration": 282,
                        "passed_time": 29.53061355,
                        "remaining_time": 22.64361534,
                        "test": [
                          0.02424898849
                        ]
                      },
                      {
                        "learn": [
                          0.003795161528
                        ],
                        "iteration": 283,
                        "passed_time": 29.62363703,
                        "remaining_time": 22.53065352,
                        "test": [
                          0.02424869269
                        ]
                      },
                      {
                        "learn": [
                          0.003777300197
                        ],
                        "iteration": 284,
                        "passed_time": 29.71326142,
                        "remaining_time": 22.41526738,
                        "test": [
                          0.02424915708
                        ]
                      },
                      {
                        "learn": [
                          0.003754828783
                        ],
                        "iteration": 285,
                        "passed_time": 29.80290154,
                        "remaining_time": 22.30007318,
                        "test": [
                          0.02425670086
                        ]
                      },
                      {
                        "learn": [
                          0.00372158123
                        ],
                        "iteration": 286,
                        "passed_time": 29.89247423,
                        "remaining_time": 22.18500701,
                        "test": [
                          0.02426524652
                        ]
                      },
                      {
                        "learn": [
                          0.003700271924
                        ],
                        "iteration": 287,
                        "passed_time": 29.9825504,
                        "remaining_time": 22.07048849,
                        "test": [
                          0.02425984462
                        ]
                      },
                      {
                        "learn": [
                          0.00367966635
                        ],
                        "iteration": 288,
                        "passed_time": 30.07248797,
                        "remaining_time": 21.95603793,
                        "test": [
                          0.02426503456
                        ]
                      },
                      {
                        "learn": [
                          0.003660697072
                        ],
                        "iteration": 289,
                        "passed_time": 30.16186175,
                        "remaining_time": 21.84134816,
                        "test": [
                          0.02427163068
                        ]
                      },
                      {
                        "learn": [
                          0.003629428739
                        ],
                        "iteration": 290,
                        "passed_time": 30.25534667,
                        "remaining_time": 21.72978506,
                        "test": [
                          0.02428275665
                        ]
                      },
                      {
                        "learn": [
                          0.003604563192
                        ],
                        "iteration": 291,
                        "passed_time": 30.35542986,
                        "remaining_time": 21.62304593,
                        "test": [
                          0.02427545258
                        ]
                      },
                      {
                        "learn": [
                          0.003587141814
                        ],
                        "iteration": 292,
                        "passed_time": 30.44843416,
                        "remaining_time": 21.5113511,
                        "test": [
                          0.02424734507
                        ]
                      },
                      {
                        "learn": [
                          0.003563058614
                        ],
                        "iteration": 293,
                        "passed_time": 30.55391181,
                        "remaining_time": 21.40852324,
                        "test": [
                          0.02424046538
                        ]
                      },
                      {
                        "learn": [
                          0.003537511772
                        ],
                        "iteration": 294,
                        "passed_time": 30.64490734,
                        "remaining_time": 21.29561358,
                        "test": [
                          0.02426346228
                        ]
                      },
                      {
                        "learn": [
                          0.003521348274
                        ],
                        "iteration": 295,
                        "passed_time": 30.73343057,
                        "remaining_time": 21.18114809,
                        "test": [
                          0.02426475126
                        ]
                      },
                      {
                        "learn": [
                          0.003494744032
                        ],
                        "iteration": 296,
                        "passed_time": 30.82404321,
                        "remaining_time": 21.06828543,
                        "test": [
                          0.02427762828
                        ]
                      },
                      {
                        "learn": [
                          0.003472549692
                        ],
                        "iteration": 297,
                        "passed_time": 30.91470272,
                        "remaining_time": 20.95560386,
                        "test": [
                          0.02429032589
                        ]
                      },
                      {
                        "learn": [
                          0.003469157751
                        ],
                        "iteration": 298,
                        "passed_time": 31.004894,
                        "remaining_time": 20.84275483,
                        "test": [
                          0.0242855815
                        ]
                      },
                      {
                        "learn": [
                          0.003439825652
                        ],
                        "iteration": 299,
                        "passed_time": 31.09475696,
                        "remaining_time": 20.72983798,
                        "test": [
                          0.02425732887
                        ]
                      },
                      {
                        "learn": [
                          0.003415080899
                        ],
                        "iteration": 300,
                        "passed_time": 31.18630468,
                        "remaining_time": 20.61818815,
                        "test": [
                          0.02426040499
                        ]
                      },
                      {
                        "learn": [
                          0.003393432188
                        ],
                        "iteration": 301,
                        "passed_time": 31.2812034,
                        "remaining_time": 20.50886845,
                        "test": [
                          0.02426096964
                        ]
                      },
                      {
                        "learn": [
                          0.003374459201
                        ],
                        "iteration": 302,
                        "passed_time": 31.3793933,
                        "remaining_time": 20.40178376,
                        "test": [
                          0.02427038155
                        ]
                      },
                      {
                        "learn": [
                          0.003351256146
                        ],
                        "iteration": 303,
                        "passed_time": 31.47991294,
                        "remaining_time": 20.29625966,
                        "test": [
                          0.02428050986
                        ]
                      },
                      {
                        "learn": [
                          0.003324508094
                        ],
                        "iteration": 304,
                        "passed_time": 31.58192184,
                        "remaining_time": 20.19172052,
                        "test": [
                          0.0242565685
                        ]
                      },
                      {
                        "learn": [
                          0.003295942686
                        ],
                        "iteration": 305,
                        "passed_time": 31.67211037,
                        "remaining_time": 20.07970396,
                        "test": [
                          0.02426104685
                        ]
                      },
                      {
                        "learn": [
                          0.003274368148
                        ],
                        "iteration": 306,
                        "passed_time": 31.76130222,
                        "remaining_time": 19.96720303,
                        "test": [
                          0.02427390412
                        ]
                      },
                      {
                        "learn": [
                          0.003258457807
                        ],
                        "iteration": 307,
                        "passed_time": 31.85110957,
                        "remaining_time": 19.85523714,
                        "test": [
                          0.02427878498
                        ]
                      },
                      {
                        "learn": [
                          0.003235215664
                        ],
                        "iteration": 308,
                        "passed_time": 31.94508344,
                        "remaining_time": 19.74599009,
                        "test": [
                          0.02429185246
                        ]
                      },
                      {
                        "learn": [
                          0.003210088063
                        ],
                        "iteration": 309,
                        "passed_time": 32.03675556,
                        "remaining_time": 19.63543083,
                        "test": [
                          0.02425924848
                        ]
                      },
                      {
                        "learn": [
                          0.003188387582
                        ],
                        "iteration": 310,
                        "passed_time": 32.12805429,
                        "remaining_time": 19.52476611,
                        "test": [
                          0.02424395805
                        ]
                      },
                      {
                        "learn": [
                          0.003173872682
                        ],
                        "iteration": 311,
                        "passed_time": 32.21932178,
                        "remaining_time": 19.41420672,
                        "test": [
                          0.02424662373
                        ]
                      },
                      {
                        "learn": [
                          0.00315217736
                        ],
                        "iteration": 312,
                        "passed_time": 32.30835295,
                        "remaining_time": 19.30243451,
                        "test": [
                          0.02423271726
                        ]
                      },
                      {
                        "learn": [
                          0.003132974161
                        ],
                        "iteration": 313,
                        "passed_time": 32.41082563,
                        "remaining_time": 19.19876932,
                        "test": [
                          0.0242442815
                        ]
                      },
                      {
                        "learn": [
                          0.003118035268
                        ],
                        "iteration": 314,
                        "passed_time": 32.50255126,
                        "remaining_time": 19.08879994,
                        "test": [
                          0.02425053635
                        ]
                      },
                      {
                        "learn": [
                          0.003104223474
                        ],
                        "iteration": 315,
                        "passed_time": 32.61043143,
                        "remaining_time": 18.98835248,
                        "test": [
                          0.02424072056
                        ]
                      },
                      {
                        "learn": [
                          0.003094370573
                        ],
                        "iteration": 316,
                        "passed_time": 32.69986052,
                        "remaining_time": 18.87720654,
                        "test": [
                          0.02423070906
                        ]
                      },
                      {
                        "learn": [
                          0.003070285057
                        ],
                        "iteration": 317,
                        "passed_time": 32.78885993,
                        "remaining_time": 18.76595128,
                        "test": [
                          0.02424688229
                        ]
                      },
                      {
                        "learn": [
                          0.003059658625
                        ],
                        "iteration": 318,
                        "passed_time": 32.88363963,
                        "remaining_time": 18.65811528,
                        "test": [
                          0.02424725966
                        ]
                      },
                      {
                        "learn": [
                          0.003057462064
                        ],
                        "iteration": 319,
                        "passed_time": 32.97676089,
                        "remaining_time": 18.549428,
                        "test": [
                          0.02424208987
                        ]
                      },
                      {
                        "learn": [
                          0.003037316757
                        ],
                        "iteration": 320,
                        "passed_time": 33.06829294,
                        "remaining_time": 18.43995152,
                        "test": [
                          0.02425241787
                        ]
                      },
                      {
                        "learn": [
                          0.003019702286
                        ],
                        "iteration": 321,
                        "passed_time": 33.15934933,
                        "remaining_time": 18.33032354,
                        "test": [
                          0.02426815814
                        ]
                      },
                      {
                        "learn": [
                          0.003006316184
                        ],
                        "iteration": 322,
                        "passed_time": 33.25232864,
                        "remaining_time": 18.2218643,
                        "test": [
                          0.02427025666
                        ]
                      },
                      {
                        "learn": [
                          0.002994949723
                        ],
                        "iteration": 323,
                        "passed_time": 33.34220572,
                        "remaining_time": 18.11181545,
                        "test": [
                          0.02426963311
                        ]
                      },
                      {
                        "learn": [
                          0.002982206187
                        ],
                        "iteration": 324,
                        "passed_time": 33.44770344,
                        "remaining_time": 18.01030185,
                        "test": [
                          0.02427637713
                        ]
                      },
                      {
                        "learn": [
                          0.002961301735
                        ],
                        "iteration": 325,
                        "passed_time": 33.54143136,
                        "remaining_time": 17.90248177,
                        "test": [
                          0.02425214664
                        ]
                      },
                      {
                        "learn": [
                          0.002949184876
                        ],
                        "iteration": 326,
                        "passed_time": 33.65089317,
                        "remaining_time": 17.80307192,
                        "test": [
                          0.02425869232
                        ]
                      },
                      {
                        "learn": [
                          0.002930995719
                        ],
                        "iteration": 327,
                        "passed_time": 33.7414794,
                        "remaining_time": 17.69370261,
                        "test": [
                          0.0242699633
                        ]
                      },
                      {
                        "learn": [
                          0.002915235913
                        ],
                        "iteration": 328,
                        "passed_time": 33.83235335,
                        "remaining_time": 17.58459703,
                        "test": [
                          0.0242646709
                        ]
                      },
                      {
                        "learn": [
                          0.002904177013
                        ],
                        "iteration": 329,
                        "passed_time": 33.92458403,
                        "remaining_time": 17.47630086,
                        "test": [
                          0.02427198681
                        ]
                      },
                      {
                        "learn": [
                          0.002893178716
                        ],
                        "iteration": 330,
                        "passed_time": 34.0168697,
                        "remaining_time": 17.36812985,
                        "test": [
                          0.02427779953
                        ]
                      },
                      {
                        "learn": [
                          0.002873266619
                        ],
                        "iteration": 331,
                        "passed_time": 34.10816266,
                        "remaining_time": 17.25955219,
                        "test": [
                          0.02428172567
                        ]
                      },
                      {
                        "learn": [
                          0.002856407443
                        ],
                        "iteration": 332,
                        "passed_time": 34.19915497,
                        "remaining_time": 17.15092757,
                        "test": [
                          0.02427062107
                        ]
                      },
                      {
                        "learn": [
                          0.002854250551
                        ],
                        "iteration": 333,
                        "passed_time": 34.29188327,
                        "remaining_time": 17.04327133,
                        "test": [
                          0.02424567281
                        ]
                      },
                      {
                        "learn": [
                          0.00284531902
                        ],
                        "iteration": 334,
                        "passed_time": 34.38363861,
                        "remaining_time": 16.93522499,
                        "test": [
                          0.02425340132
                        ]
                      },
                      {
                        "learn": [
                          0.002834427267
                        ],
                        "iteration": 335,
                        "passed_time": 34.49045724,
                        "remaining_time": 16.83462794,
                        "test": [
                          0.0242561032
                        ]
                      },
                      {
                        "learn": [
                          0.002820918483
                        ],
                        "iteration": 336,
                        "passed_time": 34.58448057,
                        "remaining_time": 16.72780514,
                        "test": [
                          0.02426101876
                        ]
                      },
                      {
                        "learn": [
                          0.002798876617
                        ],
                        "iteration": 337,
                        "passed_time": 34.69184066,
                        "remaining_time": 16.62745026,
                        "test": [
                          0.02428508552
                        ]
                      },
                      {
                        "learn": [
                          0.002779661583
                        ],
                        "iteration": 338,
                        "passed_time": 34.78386034,
                        "remaining_time": 16.51976848,
                        "test": [
                          0.02428803933
                        ]
                      },
                      {
                        "learn": [
                          0.002767658955
                        ],
                        "iteration": 339,
                        "passed_time": 34.88030765,
                        "remaining_time": 16.41426243,
                        "test": [
                          0.02429147458
                        ]
                      },
                      {
                        "learn": [
                          0.002751822522
                        ],
                        "iteration": 340,
                        "passed_time": 34.97313765,
                        "remaining_time": 16.30712283,
                        "test": [
                          0.02428565063
                        ]
                      },
                      {
                        "learn": [
                          0.002737142547
                        ],
                        "iteration": 341,
                        "passed_time": 35.06960268,
                        "remaining_time": 16.20174627,
                        "test": [
                          0.024280453
                        ]
                      },
                      {
                        "learn": [
                          0.002727085898
                        ],
                        "iteration": 342,
                        "passed_time": 35.16163485,
                        "remaining_time": 16.09439263,
                        "test": [
                          0.02428319333
                        ]
                      },
                      {
                        "learn": [
                          0.002716954776
                        ],
                        "iteration": 343,
                        "passed_time": 35.25550015,
                        "remaining_time": 15.98795937,
                        "test": [
                          0.02428037216
                        ]
                      },
                      {
                        "learn": [
                          0.002712487041
                        ],
                        "iteration": 344,
                        "passed_time": 35.34702528,
                        "remaining_time": 15.88054759,
                        "test": [
                          0.02426656439
                        ]
                      },
                      {
                        "learn": [
                          0.002702007063
                        ],
                        "iteration": 345,
                        "passed_time": 35.45185751,
                        "remaining_time": 15.77915045,
                        "test": [
                          0.024268583
                        ]
                      },
                      {
                        "learn": [
                          0.002684278398
                        ],
                        "iteration": 346,
                        "passed_time": 35.55384105,
                        "remaining_time": 15.67647747,
                        "test": [
                          0.02426135368
                        ]
                      },
                      {
                        "learn": [
                          0.002668553296
                        ],
                        "iteration": 347,
                        "passed_time": 35.6454745,
                        "remaining_time": 15.56928771,
                        "test": [
                          0.02426036488
                        ]
                      },
                      {
                        "learn": [
                          0.002651158917
                        ],
                        "iteration": 348,
                        "passed_time": 35.75293405,
                        "remaining_time": 15.4690345,
                        "test": [
                          0.02428189749
                        ]
                      },
                      {
                        "learn": [
                          0.002633727581
                        ],
                        "iteration": 349,
                        "passed_time": 35.84402481,
                        "remaining_time": 15.36172492,
                        "test": [
                          0.02426782747
                        ]
                      },
                      {
                        "learn": [
                          0.002618393472
                        ],
                        "iteration": 350,
                        "passed_time": 35.93908053,
                        "remaining_time": 15.25619088,
                        "test": [
                          0.02425521209
                        ]
                      },
                      {
                        "learn": [
                          0.002608887176
                        ],
                        "iteration": 351,
                        "passed_time": 36.03959879,
                        "remaining_time": 15.15301313,
                        "test": [
                          0.02424999216
                        ]
                      },
                      {
                        "learn": [
                          0.002594567961
                        ],
                        "iteration": 352,
                        "passed_time": 36.1807099,
                        "remaining_time": 15.06675455,
                        "test": [
                          0.02425393063
                        ]
                      },
                      {
                        "learn": [
                          0.002578418741
                        ],
                        "iteration": 353,
                        "passed_time": 36.32146169,
                        "remaining_time": 14.98003787,
                        "test": [
                          0.02428118495
                        ]
                      },
                      {
                        "learn": [
                          0.002566152789
                        ],
                        "iteration": 354,
                        "passed_time": 36.47505044,
                        "remaining_time": 14.89826004,
                        "test": [
                          0.02427304645
                        ]
                      },
                      {
                        "learn": [
                          0.00255278026
                        ],
                        "iteration": 355,
                        "passed_time": 36.64652807,
                        "remaining_time": 14.82331473,
                        "test": [
                          0.02428373538
                        ]
                      },
                      {
                        "learn": [
                          0.002535723804
                        ],
                        "iteration": 356,
                        "passed_time": 36.81705064,
                        "remaining_time": 14.74744605,
                        "test": [
                          0.02430117779
                        ]
                      },
                      {
                        "learn": [
                          0.002525872666
                        ],
                        "iteration": 357,
                        "passed_time": 36.97385796,
                        "remaining_time": 14.66560847,
                        "test": [
                          0.02429021283
                        ]
                      },
                      {
                        "learn": [
                          0.0025145522
                        ],
                        "iteration": 358,
                        "passed_time": 37.13002166,
                        "remaining_time": 14.58310043,
                        "test": [
                          0.02430880704
                        ]
                      },
                      {
                        "learn": [
                          0.002497739747
                        ],
                        "iteration": 359,
                        "passed_time": 37.29249762,
                        "remaining_time": 14.50263796,
                        "test": [
                          0.02432928554
                        ]
                      },
                      {
                        "learn": [
                          0.002482964865
                        ],
                        "iteration": 360,
                        "passed_time": 37.43126694,
                        "remaining_time": 14.41259309,
                        "test": [
                          0.02431428348
                        ]
                      },
                      {
                        "learn": [
                          0.002475085574
                        ],
                        "iteration": 361,
                        "passed_time": 37.59445407,
                        "remaining_time": 14.33158747,
                        "test": [
                          0.02432267215
                        ]
                      },
                      {
                        "learn": [
                          0.002472568318
                        ],
                        "iteration": 362,
                        "passed_time": 37.74618953,
                        "remaining_time": 14.24580707,
                        "test": [
                          0.02431634855
                        ]
                      },
                      {
                        "learn": [
                          0.002463677159
                        ],
                        "iteration": 363,
                        "passed_time": 37.91117523,
                        "remaining_time": 14.16461492,
                        "test": [
                          0.02432343833
                        ]
                      },
                      {
                        "learn": [
                          0.002449506266
                        ],
                        "iteration": 364,
                        "passed_time": 38.06886019,
                        "remaining_time": 14.08026336,
                        "test": [
                          0.02431547791
                        ]
                      },
                      {
                        "learn": [
                          0.002436624006
                        ],
                        "iteration": 365,
                        "passed_time": 38.20418859,
                        "remaining_time": 13.98732588,
                        "test": [
                          0.02431612928
                        ]
                      },
                      {
                        "learn": [
                          0.002428897656
                        ],
                        "iteration": 366,
                        "passed_time": 38.35831288,
                        "remaining_time": 13.90096897,
                        "test": [
                          0.02432754511
                        ]
                      },
                      {
                        "learn": [
                          0.002419167734
                        ],
                        "iteration": 367,
                        "passed_time": 38.51655457,
                        "remaining_time": 13.81572066,
                        "test": [
                          0.02433347082
                        ]
                      },
                      {
                        "learn": [
                          0.00241241465
                        ],
                        "iteration": 368,
                        "passed_time": 38.68519587,
                        "remaining_time": 13.73376872,
                        "test": [
                          0.02433168157
                        ]
                      },
                      {
                        "learn": [
                          0.002404138131
                        ],
                        "iteration": 369,
                        "passed_time": 38.84300585,
                        "remaining_time": 13.6475426,
                        "test": [
                          0.02433407306
                        ]
                      },
                      {
                        "learn": [
                          0.002393147009
                        ],
                        "iteration": 370,
                        "passed_time": 39.00312995,
                        "remaining_time": 13.56173521,
                        "test": [
                          0.02433260557
                        ]
                      },
                      {
                        "learn": [
                          0.00238265273
                        ],
                        "iteration": 371,
                        "passed_time": 39.15648875,
                        "remaining_time": 13.47320043,
                        "test": [
                          0.0243312602
                        ]
                      },
                      {
                        "learn": [
                          0.00237396554
                        ],
                        "iteration": 372,
                        "passed_time": 39.30726101,
                        "remaining_time": 13.3834374,
                        "test": [
                          0.02433842335
                        ]
                      },
                      {
                        "learn": [
                          0.002367003032
                        ],
                        "iteration": 373,
                        "passed_time": 39.45109212,
                        "remaining_time": 13.29100964,
                        "test": [
                          0.02434786113
                        ]
                      },
                      {
                        "learn": [
                          0.00235642237
                        ],
                        "iteration": 374,
                        "passed_time": 39.54187461,
                        "remaining_time": 13.18062487,
                        "test": [
                          0.02436491854
                        ]
                      },
                      {
                        "learn": [
                          0.002348699694
                        ],
                        "iteration": 375,
                        "passed_time": 39.6428392,
                        "remaining_time": 13.07370229,
                        "test": [
                          0.02436807013
                        ]
                      },
                      {
                        "learn": [
                          0.002337135445
                        ],
                        "iteration": 376,
                        "passed_time": 39.73201133,
                        "remaining_time": 12.96296391,
                        "test": [
                          0.02436515762
                        ]
                      },
                      {
                        "learn": [
                          0.002326851406
                        ],
                        "iteration": 377,
                        "passed_time": 39.82171301,
                        "remaining_time": 12.85251055,
                        "test": [
                          0.02436271204
                        ]
                      },
                      {
                        "learn": [
                          0.002318738778
                        ],
                        "iteration": 378,
                        "passed_time": 39.91406747,
                        "remaining_time": 12.74301363,
                        "test": [
                          0.02436356736
                        ]
                      },
                      {
                        "learn": [
                          0.002311407346
                        ],
                        "iteration": 379,
                        "passed_time": 40.0182946,
                        "remaining_time": 12.63735619,
                        "test": [
                          0.02436917891
                        ]
                      },
                      {
                        "learn": [
                          0.002303491204
                        ],
                        "iteration": 380,
                        "passed_time": 40.10829026,
                        "remaining_time": 12.52726126,
                        "test": [
                          0.02437766648
                        ]
                      },
                      {
                        "learn": [
                          0.002291862895
                        ],
                        "iteration": 381,
                        "passed_time": 40.19904949,
                        "remaining_time": 12.41750743,
                        "test": [
                          0.02437304768
                        ]
                      },
                      {
                        "learn": [
                          0.002283191989
                        ],
                        "iteration": 382,
                        "passed_time": 40.2895293,
                        "remaining_time": 12.30776744,
                        "test": [
                          0.0243684729
                        ]
                      },
                      {
                        "learn": [
                          0.002275625838
                        ],
                        "iteration": 383,
                        "passed_time": 40.37798737,
                        "remaining_time": 12.19751702,
                        "test": [
                          0.02437210244
                        ]
                      },
                      {
                        "learn": [
                          0.002265013032
                        ],
                        "iteration": 384,
                        "passed_time": 40.47150953,
                        "remaining_time": 12.08889246,
                        "test": [
                          0.0243636102
                        ]
                      },
                      {
                        "learn": [
                          0.002257434832
                        ],
                        "iteration": 385,
                        "passed_time": 40.56130888,
                        "remaining_time": 11.97924666,
                        "test": [
                          0.02437068664
                        ]
                      },
                      {
                        "learn": [
                          0.002246464637
                        ],
                        "iteration": 386,
                        "passed_time": 40.66370423,
                        "remaining_time": 11.87338134,
                        "test": [
                          0.02436142924
                        ]
                      },
                      {
                        "learn": [
                          0.002237906675
                        ],
                        "iteration": 387,
                        "passed_time": 40.7522705,
                        "remaining_time": 11.763542,
                        "test": [
                          0.02437724227
                        ]
                      },
                      {
                        "learn": [
                          0.002225032399
                        ],
                        "iteration": 388,
                        "passed_time": 40.84116362,
                        "remaining_time": 11.6539053,
                        "test": [
                          0.02437778624
                        ]
                      },
                      {
                        "learn": [
                          0.00221887414
                        ],
                        "iteration": 389,
                        "passed_time": 40.92965606,
                        "remaining_time": 11.54426197,
                        "test": [
                          0.02438117171
                        ]
                      },
                      {
                        "learn": [
                          0.002206965927
                        ],
                        "iteration": 390,
                        "passed_time": 41.03436283,
                        "remaining_time": 11.43924693,
                        "test": [
                          0.02437315968
                        ]
                      },
                      {
                        "learn": [
                          0.002195938304
                        ],
                        "iteration": 391,
                        "passed_time": 41.12621422,
                        "remaining_time": 11.33069167,
                        "test": [
                          0.02438327381
                        ]
                      },
                      {
                        "learn": [
                          0.00218867919
                        ],
                        "iteration": 392,
                        "passed_time": 41.21494817,
                        "remaining_time": 11.22137266,
                        "test": [
                          0.02439896177
                        ]
                      },
                      {
                        "learn": [
                          0.002183386903
                        ],
                        "iteration": 393,
                        "passed_time": 41.30506363,
                        "remaining_time": 11.11252981,
                        "test": [
                          0.02440043539
                        ]
                      },
                      {
                        "learn": [
                          0.002175813561
                        ],
                        "iteration": 394,
                        "passed_time": 41.39704107,
                        "remaining_time": 11.00427674,
                        "test": [
                          0.02441673046
                        ]
                      },
                      {
                        "learn": [
                          0.002167149552
                        ],
                        "iteration": 395,
                        "passed_time": 41.48809973,
                        "remaining_time": 10.89586458,
                        "test": [
                          0.02441330401
                        ]
                      },
                      {
                        "learn": [
                          0.002155697483
                        ],
                        "iteration": 396,
                        "passed_time": 41.57670914,
                        "remaining_time": 10.78690439,
                        "test": [
                          0.02442761565
                        ]
                      },
                      {
                        "learn": [
                          0.002149505156
                        ],
                        "iteration": 397,
                        "passed_time": 41.68049236,
                        "remaining_time": 10.68193523,
                        "test": [
                          0.02443144775
                        ]
                      },
                      {
                        "learn": [
                          0.002141183142
                        ],
                        "iteration": 398,
                        "passed_time": 41.7721988,
                        "remaining_time": 10.57391498,
                        "test": [
                          0.02444146847
                        ]
                      },
                      {
                        "learn": [
                          0.002129895305
                        ],
                        "iteration": 399,
                        "passed_time": 41.86628503,
                        "remaining_time": 10.46657126,
                        "test": [
                          0.02443895361
                        ]
                      },
                      {
                        "learn": [
                          0.00212334949
                        ],
                        "iteration": 400,
                        "passed_time": 41.95622337,
                        "remaining_time": 10.35826961,
                        "test": [
                          0.02443974381
                        ]
                      },
                      {
                        "learn": [
                          0.002122278724
                        ],
                        "iteration": 401,
                        "passed_time": 42.06183557,
                        "remaining_time": 10.25388031,
                        "test": [
                          0.02443194242
                        ]
                      },
                      {
                        "learn": [
                          0.002115390447
                        ],
                        "iteration": 402,
                        "passed_time": 42.15295389,
                        "remaining_time": 10.14599634,
                        "test": [
                          0.02443904676
                        ]
                      },
                      {
                        "learn": [
                          0.002107922721
                        ],
                        "iteration": 403,
                        "passed_time": 42.24572444,
                        "remaining_time": 10.03858799,
                        "test": [
                          0.02445053059
                        ]
                      },
                      {
                        "learn": [
                          0.00209943476
                        ],
                        "iteration": 404,
                        "passed_time": 42.33351035,
                        "remaining_time": 9.930082675,
                        "test": [
                          0.02445703189
                        ]
                      },
                      {
                        "learn": [
                          0.002089317209
                        ],
                        "iteration": 405,
                        "passed_time": 42.42452426,
                        "remaining_time": 9.822426798,
                        "test": [
                          0.02446828717
                        ]
                      },
                      {
                        "learn": [
                          0.0020796493
                        ],
                        "iteration": 406,
                        "passed_time": 42.51460223,
                        "remaining_time": 9.714638838,
                        "test": [
                          0.02447518864
                        ]
                      },
                      {
                        "learn": [
                          0.002073187031
                        ],
                        "iteration": 407,
                        "passed_time": 42.60459039,
                        "remaining_time": 9.60691744,
                        "test": [
                          0.02447979905
                        ]
                      },
                      {
                        "learn": [
                          0.002068131568
                        ],
                        "iteration": 408,
                        "passed_time": 42.71614713,
                        "remaining_time": 9.504081636,
                        "test": [
                          0.0244742749
                        ]
                      },
                      {
                        "learn": [
                          0.002060801765
                        ],
                        "iteration": 409,
                        "passed_time": 42.80434631,
                        "remaining_time": 9.396076018,
                        "test": [
                          0.02448973268
                        ]
                      },
                      {
                        "learn": [
                          0.002059543453
                        ],
                        "iteration": 410,
                        "passed_time": 42.89734157,
                        "remaining_time": 9.289205353,
                        "test": [
                          0.02449168732
                        ]
                      },
                      {
                        "learn": [
                          0.002054440589
                        ],
                        "iteration": 411,
                        "passed_time": 42.98564209,
                        "remaining_time": 9.181399282,
                        "test": [
                          0.02449215202
                        ]
                      },
                      {
                        "learn": [
                          0.002050730113
                        ],
                        "iteration": 412,
                        "passed_time": 43.09159295,
                        "remaining_time": 9.077405779,
                        "test": [
                          0.02449927601
                        ]
                      },
                      {
                        "learn": [
                          0.002042895997
                        ],
                        "iteration": 413,
                        "passed_time": 43.18432727,
                        "remaining_time": 8.970657356,
                        "test": [
                          0.0244922438
                        ]
                      },
                      {
                        "learn": [
                          0.00204185257
                        ],
                        "iteration": 414,
                        "passed_time": 43.18704532,
                        "remaining_time": 8.845539402,
                        "test": [
                          0.02447649739
                        ]
                      },
                      {
                        "learn": [
                          0.002035801352
                        ],
                        "iteration": 415,
                        "passed_time": 43.28224445,
                        "remaining_time": 8.739683975,
                        "test": [
                          0.02448319417
                        ]
                      },
                      {
                        "learn": [
                          0.002027048465
                        ],
                        "iteration": 416,
                        "passed_time": 43.37594876,
                        "remaining_time": 8.633582127,
                        "test": [
                          0.02448026367
                        ]
                      },
                      {
                        "learn": [
                          0.00202245539
                        ],
                        "iteration": 417,
                        "passed_time": 43.46707417,
                        "remaining_time": 8.527033689,
                        "test": [
                          0.02445807773
                        ]
                      },
                      {
                        "learn": [
                          0.002016594167
                        ],
                        "iteration": 418,
                        "passed_time": 43.55817146,
                        "remaining_time": 8.420553433,
                        "test": [
                          0.02446500298
                        ]
                      },
                      {
                        "learn": [
                          0.002011094765
                        ],
                        "iteration": 419,
                        "passed_time": 43.64759249,
                        "remaining_time": 8.313827142,
                        "test": [
                          0.02446763454
                        ]
                      },
                      {
                        "learn": [
                          0.002002415891
                        ],
                        "iteration": 420,
                        "passed_time": 43.75698004,
                        "remaining_time": 8.210929745,
                        "test": [
                          0.02446947048
                        ]
                      },
                      {
                        "learn": [
                          0.001997050014
                        ],
                        "iteration": 421,
                        "passed_time": 43.84744473,
                        "remaining_time": 8.104504002,
                        "test": [
                          0.0244658434
                        ]
                      },
                      {
                        "learn": [
                          0.001992306808
                        ],
                        "iteration": 422,
                        "passed_time": 43.93627712,
                        "remaining_time": 7.997856591,
                        "test": [
                          0.02446897113
                        ]
                      },
                      {
                        "learn": [
                          0.001986514148
                        ],
                        "iteration": 423,
                        "passed_time": 44.02687008,
                        "remaining_time": 7.891608789,
                        "test": [
                          0.02448183516
                        ]
                      },
                      {
                        "learn": [
                          0.001980548942
                        ],
                        "iteration": 424,
                        "passed_time": 44.1352183,
                        "remaining_time": 7.788567936,
                        "test": [
                          0.02448589537
                        ]
                      },
                      {
                        "learn": [
                          0.001975691582
                        ],
                        "iteration": 425,
                        "passed_time": 44.22437503,
                        "remaining_time": 7.682168433,
                        "test": [
                          0.02448568747
                        ]
                      },
                      {
                        "learn": [
                          0.001967784157
                        ],
                        "iteration": 426,
                        "passed_time": 44.31720526,
                        "remaining_time": 7.576477715,
                        "test": [
                          0.02448442728
                        ]
                      },
                      {
                        "learn": [
                          0.001960821226
                        ],
                        "iteration": 427,
                        "passed_time": 44.40950391,
                        "remaining_time": 7.470757667,
                        "test": [
                          0.02449606516
                        ]
                      },
                      {
                        "learn": [
                          0.001956472047
                        ],
                        "iteration": 428,
                        "passed_time": 44.50099057,
                        "remaining_time": 7.364965804,
                        "test": [
                          0.02449654552
                        ]
                      },
                      {
                        "learn": [
                          0.001948285397
                        ],
                        "iteration": 429,
                        "passed_time": 44.59008265,
                        "remaining_time": 7.258850664,
                        "test": [
                          0.0244958435
                        ]
                      },
                      {
                        "learn": [
                          0.001943578666
                        ],
                        "iteration": 430,
                        "passed_time": 44.69404756,
                        "remaining_time": 7.155195548,
                        "test": [
                          0.02450309739
                        ]
                      },
                      {
                        "learn": [
                          0.001937252391
                        ],
                        "iteration": 431,
                        "passed_time": 44.78666245,
                        "remaining_time": 7.049752422,
                        "test": [
                          0.02451736201
                        ]
                      },
                      {
                        "learn": [
                          0.001932246886
                        ],
                        "iteration": 432,
                        "passed_time": 44.87595174,
                        "remaining_time": 6.943853965,
                        "test": [
                          0.02451903251
                        ]
                      },
                      {
                        "learn": [
                          0.001924810472
                        ],
                        "iteration": 433,
                        "passed_time": 44.9637746,
                        "remaining_time": 6.837809041,
                        "test": [
                          0.02452861021
                        ]
                      },
                      {
                        "learn": [
                          0.00191986019
                        ],
                        "iteration": 434,
                        "passed_time": 45.05253814,
                        "remaining_time": 6.731988458,
                        "test": [
                          0.02453450536
                        ]
                      },
                      {
                        "learn": [
                          0.001914949368
                        ],
                        "iteration": 435,
                        "passed_time": 45.16413742,
                        "remaining_time": 6.629598153,
                        "test": [
                          0.02454093586
                        ]
                      },
                      {
                        "learn": [
                          0.001907306554
                        ],
                        "iteration": 436,
                        "passed_time": 45.25848823,
                        "remaining_time": 6.524679081,
                        "test": [
                          0.02454250669
                        ]
                      },
                      {
                        "learn": [
                          0.001899097866
                        ],
                        "iteration": 437,
                        "passed_time": 45.35381272,
                        "remaining_time": 6.419946092,
                        "test": [
                          0.02454373941
                        ]
                      },
                      {
                        "learn": [
                          0.001894070872
                        ],
                        "iteration": 438,
                        "passed_time": 45.45107895,
                        "remaining_time": 6.315525777,
                        "test": [
                          0.0245441322
                        ]
                      },
                      {
                        "learn": [
                          0.001889425833
                        ],
                        "iteration": 439,
                        "passed_time": 45.54366744,
                        "remaining_time": 6.210500106,
                        "test": [
                          0.02454690783
                        ]
                      },
                      {
                        "learn": [
                          0.001884851748
                        ],
                        "iteration": 440,
                        "passed_time": 45.63537904,
                        "remaining_time": 6.105413522,
                        "test": [
                          0.02455030445
                        ]
                      },
                      {
                        "learn": [
                          0.00188040792
                        ],
                        "iteration": 441,
                        "passed_time": 45.74139547,
                        "remaining_time": 6.002264563,
                        "test": [
                          0.02455464986
                        ]
                      },
                      {
                        "learn": [
                          0.00187756808
                        ],
                        "iteration": 442,
                        "passed_time": 45.83397325,
                        "remaining_time": 5.897373533,
                        "test": [
                          0.02455576401
                        ]
                      },
                      {
                        "learn": [
                          0.001869256899
                        ],
                        "iteration": 443,
                        "passed_time": 45.92688008,
                        "remaining_time": 5.79257947,
                        "test": [
                          0.02455508284
                        ]
                      },
                      {
                        "learn": [
                          0.00186535534
                        ],
                        "iteration": 444,
                        "passed_time": 46.01975688,
                        "remaining_time": 5.68783512,
                        "test": [
                          0.02455073782
                        ]
                      },
                      {
                        "learn": [
                          0.001860984252
                        ],
                        "iteration": 445,
                        "passed_time": 46.11736837,
                        "remaining_time": 5.583717246,
                        "test": [
                          0.02455119508
                        ]
                      },
                      {
                        "learn": [
                          0.001855066076
                        ],
                        "iteration": 446,
                        "passed_time": 46.22451082,
                        "remaining_time": 5.480758554,
                        "test": [
                          0.02455854247
                        ]
                      },
                      {
                        "learn": [
                          0.001850248257
                        ],
                        "iteration": 447,
                        "passed_time": 46.31596363,
                        "remaining_time": 5.375960065,
                        "test": [
                          0.02455718884
                        ]
                      },
                      {
                        "learn": [
                          0.001843915502
                        ],
                        "iteration": 448,
                        "passed_time": 46.40694571,
                        "remaining_time": 5.271167553,
                        "test": [
                          0.02455798313
                        ]
                      },
                      {
                        "learn": [
                          0.001835946638
                        ],
                        "iteration": 449,
                        "passed_time": 46.49878068,
                        "remaining_time": 5.166531187,
                        "test": [
                          0.0245660862
                        ]
                      },
                      {
                        "learn": [
                          0.001828524362
                        ],
                        "iteration": 450,
                        "passed_time": 46.58958791,
                        "remaining_time": 5.061839928,
                        "test": [
                          0.02457505973
                        ]
                      },
                      {
                        "learn": [
                          0.001825856194
                        ],
                        "iteration": 451,
                        "passed_time": 46.6797269,
                        "remaining_time": 4.95713914,
                        "test": [
                          0.02457631508
                        ]
                      },
                      {
                        "learn": [
                          0.001821095689
                        ],
                        "iteration": 452,
                        "passed_time": 46.78562534,
                        "remaining_time": 4.854137728,
                        "test": [
                          0.02458088249
                        ]
                      },
                      {
                        "learn": [
                          0.00181652507
                        ],
                        "iteration": 453,
                        "passed_time": 46.88045544,
                        "remaining_time": 4.750002093,
                        "test": [
                          0.02458617864
                        ]
                      },
                      {
                        "learn": [
                          0.001813660176
                        ],
                        "iteration": 454,
                        "passed_time": 46.97151439,
                        "remaining_time": 4.64553439,
                        "test": [
                          0.02458376812
                        ]
                      },
                      {
                        "learn": [
                          0.001811562798
                        ],
                        "iteration": 455,
                        "passed_time": 47.06359625,
                        "remaining_time": 4.541224199,
                        "test": [
                          0.02458243471
                        ]
                      },
                      {
                        "learn": [
                          0.001805612819
                        ],
                        "iteration": 456,
                        "passed_time": 47.16040168,
                        "remaining_time": 4.437411974,
                        "test": [
                          0.02458713733
                        ]
                      },
                      {
                        "learn": [
                          0.001798852635
                        ],
                        "iteration": 457,
                        "passed_time": 47.2665095,
                        "remaining_time": 4.334483404,
                        "test": [
                          0.02459812387
                        ]
                      },
                      {
                        "learn": [
                          0.00179166775
                        ],
                        "iteration": 458,
                        "passed_time": 47.35837349,
                        "remaining_time": 4.230268656,
                        "test": [
                          0.02458839402
                        ]
                      },
                      {
                        "learn": [
                          0.001786363713
                        ],
                        "iteration": 459,
                        "passed_time": 47.45340343,
                        "remaining_time": 4.126382907,
                        "test": [
                          0.02459453752
                        ]
                      },
                      {
                        "learn": [
                          0.001782555618
                        ],
                        "iteration": 460,
                        "passed_time": 47.54746713,
                        "remaining_time": 4.022453835,
                        "test": [
                          0.02460092274
                        ]
                      },
                      {
                        "learn": [
                          0.001777738818
                        ],
                        "iteration": 461,
                        "passed_time": 47.63960634,
                        "remaining_time": 3.91840918,
                        "test": [
                          0.02460818743
                        ]
                      },
                      {
                        "learn": [
                          0.00177160034
                        ],
                        "iteration": 462,
                        "passed_time": 47.72964321,
                        "remaining_time": 3.814247946,
                        "test": [
                          0.02461906525
                        ]
                      },
                      {
                        "learn": [
                          0.001764826577
                        ],
                        "iteration": 463,
                        "passed_time": 47.83401211,
                        "remaining_time": 3.71125956,
                        "test": [
                          0.02461700437
                        ]
                      },
                      {
                        "learn": [
                          0.001759938768
                        ],
                        "iteration": 464,
                        "passed_time": 47.92635284,
                        "remaining_time": 3.607359891,
                        "test": [
                          0.02462471703
                        ]
                      },
                      {
                        "learn": [
                          0.001756149773
                        ],
                        "iteration": 465,
                        "passed_time": 48.020168,
                        "remaining_time": 3.503617408,
                        "test": [
                          0.02462984249
                        ]
                      },
                      {
                        "learn": [
                          0.001751553544
                        ],
                        "iteration": 466,
                        "passed_time": 48.11360056,
                        "remaining_time": 3.399890403,
                        "test": [
                          0.02463779722
                        ]
                      },
                      {
                        "learn": [
                          0.001744271144
                        ],
                        "iteration": 467,
                        "passed_time": 48.21037108,
                        "remaining_time": 3.296435629,
                        "test": [
                          0.02465670998
                        ]
                      },
                      {
                        "learn": [
                          0.001738414947
                        ],
                        "iteration": 468,
                        "passed_time": 48.31366263,
                        "remaining_time": 3.193440387,
                        "test": [
                          0.02464877622
                        ]
                      },
                      {
                        "learn": [
                          0.001732947581
                        ],
                        "iteration": 469,
                        "passed_time": 48.40491268,
                        "remaining_time": 3.089675278,
                        "test": [
                          0.02465038252
                        ]
                      },
                      {
                        "learn": [
                          0.001728126863
                        ],
                        "iteration": 470,
                        "passed_time": 48.49868259,
                        "remaining_time": 2.986118461,
                        "test": [
                          0.02466035647
                        ]
                      },
                      {
                        "learn": [
                          0.001723768374
                        ],
                        "iteration": 471,
                        "passed_time": 48.58630705,
                        "remaining_time": 2.882238554,
                        "test": [
                          0.02467187145
                        ]
                      },
                      {
                        "learn": [
                          0.001718714675
                        ],
                        "iteration": 472,
                        "passed_time": 48.68158718,
                        "remaining_time": 2.778864385,
                        "test": [
                          0.02468429267
                        ]
                      },
                      {
                        "learn": [
                          0.001714407337
                        ],
                        "iteration": 473,
                        "passed_time": 48.77172691,
                        "remaining_time": 2.675242404,
                        "test": [
                          0.02469145355
                        ]
                      },
                      {
                        "learn": [
                          0.001709542155
                        ],
                        "iteration": 474,
                        "passed_time": 48.88618929,
                        "remaining_time": 2.572957331,
                        "test": [
                          0.02468857908
                        ]
                      },
                      {
                        "learn": [
                          0.00170539916
                        ],
                        "iteration": 475,
                        "passed_time": 48.97853904,
                        "remaining_time": 2.46950617,
                        "test": [
                          0.02469275918
                        ]
                      },
                      {
                        "learn": [
                          0.001698152336
                        ],
                        "iteration": 476,
                        "passed_time": 49.06956822,
                        "remaining_time": 2.36603788,
                        "test": [
                          0.02468996274
                        ]
                      },
                      {
                        "learn": [
                          0.001693953945
                        ],
                        "iteration": 477,
                        "passed_time": 49.16007179,
                        "remaining_time": 2.262597446,
                        "test": [
                          0.02469678511
                        ]
                      },
                      {
                        "learn": [
                          0.001689890835
                        ],
                        "iteration": 478,
                        "passed_time": 49.26976534,
                        "remaining_time": 2.160052343,
                        "test": [
                          0.02470031059
                        ]
                      },
                      {
                        "learn": [
                          0.001686032812
                        ],
                        "iteration": 479,
                        "passed_time": 49.36038675,
                        "remaining_time": 2.056682781,
                        "test": [
                          0.02470267904
                        ]
                      },
                      {
                        "learn": [
                          0.001684029082
                        ],
                        "iteration": 480,
                        "passed_time": 49.46383733,
                        "remaining_time": 1.953872992,
                        "test": [
                          0.02470957878
                        ]
                      },
                      {
                        "learn": [
                          0.001680391389
                        ],
                        "iteration": 481,
                        "passed_time": 49.5898513,
                        "remaining_time": 1.85190316,
                        "test": [
                          0.0247113171
                        ]
                      },
                      {
                        "learn": [
                          0.001673816087
                        ],
                        "iteration": 482,
                        "passed_time": 49.72225247,
                        "remaining_time": 1.750058575,
                        "test": [
                          0.02472581941
                        ]
                      },
                      {
                        "learn": [
                          0.001670024753
                        ],
                        "iteration": 483,
                        "passed_time": 49.89005631,
                        "remaining_time": 1.64925806,
                        "test": [
                          0.02472877556
                        ]
                      },
                      {
                        "learn": [
                          0.001666086616
                        ],
                        "iteration": 484,
                        "passed_time": 50.03572636,
                        "remaining_time": 1.547496691,
                        "test": [
                          0.02473157712
                        ]
                      },
                      {
                        "learn": [
                          0.001660065782
                        ],
                        "iteration": 485,
                        "passed_time": 50.18789756,
                        "remaining_time": 1.445741905,
                        "test": [
                          0.02473263762
                        ]
                      },
                      {
                        "learn": [
                          0.001656554724
                        ],
                        "iteration": 486,
                        "passed_time": 50.3388719,
                        "remaining_time": 1.34374812,
                        "test": [
                          0.02472872233
                        ]
                      },
                      {
                        "learn": [
                          0.001653424854
                        ],
                        "iteration": 487,
                        "passed_time": 50.49680554,
                        "remaining_time": 1.241724726,
                        "test": [
                          0.02473066827
                        ]
                      },
                      {
                        "learn": [
                          0.001649649192
                        ],
                        "iteration": 488,
                        "passed_time": 50.6502079,
                        "remaining_time": 1.13937073,
                        "test": [
                          0.02473911052
                        ]
                      },
                      {
                        "learn": [
                          0.001644999939
                        ],
                        "iteration": 489,
                        "passed_time": 50.79407929,
                        "remaining_time": 1.036613863,
                        "test": [
                          0.02472962358
                        ]
                      },
                      {
                        "learn": [
                          0.001638637566
                        ],
                        "iteration": 490,
                        "passed_time": 50.96505605,
                        "remaining_time": 0.9341863635,
                        "test": [
                          0.02474996334
                        ]
                      },
                      {
                        "learn": [
                          0.001635454727
                        ],
                        "iteration": 491,
                        "passed_time": 51.11590196,
                        "remaining_time": 0.8311528774,
                        "test": [
                          0.02476243649
                        ]
                      },
                      {
                        "learn": [
                          0.001631506718
                        ],
                        "iteration": 492,
                        "passed_time": 51.27596753,
                        "remaining_time": 0.7280563341,
                        "test": [
                          0.02477183251
                        ]
                      },
                      {
                        "learn": [
                          0.00162558359
                        ],
                        "iteration": 493,
                        "passed_time": 51.43748869,
                        "remaining_time": 0.6247468262,
                        "test": [
                          0.02477451061
                        ]
                      },
                      {
                        "learn": [
                          0.001623703898
                        ],
                        "iteration": 494,
                        "passed_time": 51.58456476,
                        "remaining_time": 0.5210562097,
                        "test": [
                          0.02477556591
                        ]
                      },
                      {
                        "learn": [
                          0.00161833566
                        ],
                        "iteration": 495,
                        "passed_time": 51.73984853,
                        "remaining_time": 0.417256843,
                        "test": [
                          0.02477673504
                        ]
                      },
                      {
                        "learn": [
                          0.00161443051
                        ],
                        "iteration": 496,
                        "passed_time": 51.89126263,
                        "remaining_time": 0.3132269374,
                        "test": [
                          0.02478345243
                        ]
                      },
                      {
                        "learn": [
                          0.001608372437
                        ],
                        "iteration": 497,
                        "passed_time": 52.0815576,
                        "remaining_time": 0.2091628819,
                        "test": [
                          0.02478113599
                        ]
                      },
                      {
                        "learn": [
                          0.001604660258
                        ],
                        "iteration": 498,
                        "passed_time": 52.22788756,
                        "remaining_time": 0.1046651053,
                        "test": [
                          0.02478312273
                        ]
                      },
                      {
                        "learn": [
                          0.001599278954
                        ],
                        "iteration": 499,
                        "passed_time": 52.39429011,
                        "remaining_time": 0,
                        "test": [
                          0.02478747529
                        ]
                      }
                    ],
                    "meta": {
                      "test_sets": [
                        "test"
                      ],
                      "test_metrics": [
                        {
                          "best_value": "Min",
                          "name": "MultiClass"
                        }
                      ],
                      "learn_metrics": [
                        {
                          "best_value": "Min",
                          "name": "MultiClass"
                        }
                      ],
                      "launch_mode": "Train",
                      "parameters": "",
                      "iteration_count": 500,
                      "learn_sets": [
                        "learn"
                      ],
                      "name": "experiment"
                    }
                  }
                }
              }
            },
            "layout": "IPY_MODEL_146179352bf747218da800d1223928c9"
          }
        }
      }
    }
  },
  "nbformat": 4,
  "nbformat_minor": 5
}