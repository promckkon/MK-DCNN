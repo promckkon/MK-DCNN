{
  "cells": [
    {
      "cell_type": "markdown",
      "metadata": {
        "id": "view-in-github",
        "colab_type": "text"
      },
      "source": [
        "<a href=\"https://colab.research.google.com/github/promckkon/MK-DCNN/blob/main/MK-DCNN%20with%200dB%20NOISE%20in%20TRIAX%20Dataset%20250623.ipynb\" target=\"_parent\"><img src=\"https://colab.research.google.com/assets/colab-badge.svg\" alt=\"Open In Colab\"/></a>"
      ]
    },
    {
      "cell_type": "code",
      "source": [
        "from google.colab import drive\n",
        "drive.mount('/content/drive')"
      ],
      "metadata": {
        "colab": {
          "base_uri": "https://localhost:8080/"
        },
        "id": "_JTcgOD9s-GR",
        "outputId": "84aae2de-131a-4567-82dd-6b3a26aa5b1f"
      },
      "id": "_JTcgOD9s-GR",
      "execution_count": 116,
      "outputs": [
        {
          "output_type": "stream",
          "name": "stdout",
          "text": [
            "Drive already mounted at /content/drive; to attempt to forcibly remount, call drive.mount(\"/content/drive\", force_remount=True).\n"
          ]
        }
      ]
    },
    {
      "cell_type": "code",
      "execution_count": 117,
      "id": "1132b641",
      "metadata": {
        "id": "1132b641"
      },
      "outputs": [],
      "source": [
        "import scipy.io\n",
        "import seaborn as sns\n",
        "import numpy as np\n",
        "import pandas as pd\n",
        "import os\n",
        "import matplotlib.pyplot as plt"
      ]
    },
    {
      "cell_type": "markdown",
      "source": [
        "Dataset Input"
      ],
      "metadata": {
        "id": "2haV_hKQQOg-"
      },
      "id": "2haV_hKQQOg-"
    },
    {
      "cell_type": "code",
      "source": [
        "df=pd.DataFrame(columns=['DE_data','fault']) # upload the dataset on googledrive\n",
        "\n",
        "for root, dirs, files in os.walk(\"/content/drive/MyDrive/TRIAX_with_NOISE/TRIAX_Dataset\", topdown=False):\n",
        "    for file_name in files:\n",
        "        path = os.path.join(root, file_name)\n",
        "        print(path)\n",
        "\n",
        "        mat = scipy.io.loadmat(path)\n",
        "\n",
        "        key_name = list(mat.keys())[3]\n",
        "        DE_data = mat.get(key_name)\n",
        "        fault = np.full((len(DE_data), 1), file_name[:-4])\n",
        "\n",
        "        df_temp = pd.DataFrame({'DE_data':np.ravel(DE_data) , 'fault':np.ravel(fault)})\n",
        "\n",
        "        df = pd.concat([df,df_temp],axis=0)\n",
        "        print(df['fault'].unique())\n",
        "\n",
        "df.to_csv('/content/drive/MyDrive/MK DCNN TRIAX/NOISE_0_faults.csv',index=False)"
      ],
      "metadata": {
        "colab": {
          "base_uri": "https://localhost:8080/"
        },
        "id": "sXzSVyy_ylsF",
        "outputId": "da2f0f9f-03ea-4e6f-f664-361e3e86dd17"
      },
      "id": "sXzSVyy_ylsF",
      "execution_count": 118,
      "outputs": [
        {
          "output_type": "stream",
          "name": "stdout",
          "text": [
            "/content/drive/MyDrive/TRIAX_with_NOISE/TRIAX_Dataset/F1_IR007_100W.mat\n",
            "['F1_IR007_100W']\n",
            "/content/drive/MyDrive/TRIAX_with_NOISE/TRIAX_Dataset/F2_IR009_100W.mat\n"
          ]
        },
        {
          "output_type": "stream",
          "name": "stderr",
          "text": [
            "/tmp/ipython-input-118-4228204961.py:16: FutureWarning: The behavior of DataFrame concatenation with empty or all-NA entries is deprecated. In a future version, this will no longer exclude empty or all-NA columns when determining the result dtypes. To retain the old behavior, exclude the relevant entries before the concat operation.\n",
            "  df = pd.concat([df,df_temp],axis=0)\n"
          ]
        },
        {
          "output_type": "stream",
          "name": "stdout",
          "text": [
            "['F1_IR007_100W' 'F2_IR009_100W']\n",
            "/content/drive/MyDrive/TRIAX_with_NOISE/TRIAX_Dataset/F3_IR013_100W.mat\n",
            "['F1_IR007_100W' 'F2_IR009_100W' 'F3_IR013_100W']\n",
            "/content/drive/MyDrive/TRIAX_with_NOISE/TRIAX_Dataset/F4_IR017_100W.mat\n",
            "['F1_IR007_100W' 'F2_IR009_100W' 'F3_IR013_100W' 'F4_IR017_100W']\n",
            "/content/drive/MyDrive/TRIAX_with_NOISE/TRIAX_Dataset/F5_OR009_100W.mat\n",
            "['F1_IR007_100W' 'F2_IR009_100W' 'F3_IR013_100W' 'F4_IR017_100W'\n",
            " 'F5_OR009_100W']\n",
            "/content/drive/MyDrive/TRIAX_with_NOISE/TRIAX_Dataset/F6_OR013_100W.mat\n",
            "['F1_IR007_100W' 'F2_IR009_100W' 'F3_IR013_100W' 'F4_IR017_100W'\n",
            " 'F5_OR009_100W' 'F6_OR013_100W']\n",
            "/content/drive/MyDrive/TRIAX_with_NOISE/TRIAX_Dataset/F7_OR017_100W.mat\n",
            "['F1_IR007_100W' 'F2_IR009_100W' 'F3_IR013_100W' 'F4_IR017_100W'\n",
            " 'F5_OR009_100W' 'F6_OR013_100W' 'F7_OR017_100W']\n",
            "/content/drive/MyDrive/TRIAX_with_NOISE/TRIAX_Dataset/F8_Normal_100W.mat\n",
            "['F1_IR007_100W' 'F2_IR009_100W' 'F3_IR013_100W' 'F4_IR017_100W'\n",
            " 'F5_OR009_100W' 'F6_OR013_100W' 'F7_OR017_100W' 'F8_Normal_100W']\n"
          ]
        }
      ]
    },
    {
      "cell_type": "markdown",
      "source": [
        "# Multi-Kernel Deep 1D-CNN"
      ],
      "metadata": {
        "id": "2d0arbB2knS8"
      },
      "id": "2d0arbB2knS8"
    },
    {
      "cell_type": "code",
      "source": [
        "pip install tensorflow"
      ],
      "metadata": {
        "colab": {
          "base_uri": "https://localhost:8080/"
        },
        "id": "-dsJA9B5YVAW",
        "outputId": "c2cbf077-4b52-4b76-8059-0ce6bf464619"
      },
      "id": "-dsJA9B5YVAW",
      "execution_count": 119,
      "outputs": [
        {
          "output_type": "stream",
          "name": "stdout",
          "text": [
            "Requirement already satisfied: tensorflow in /usr/local/lib/python3.11/dist-packages (2.18.0)\n",
            "Requirement already satisfied: absl-py>=1.0.0 in /usr/local/lib/python3.11/dist-packages (from tensorflow) (1.4.0)\n",
            "Requirement already satisfied: astunparse>=1.6.0 in /usr/local/lib/python3.11/dist-packages (from tensorflow) (1.6.3)\n",
            "Requirement already satisfied: flatbuffers>=24.3.25 in /usr/local/lib/python3.11/dist-packages (from tensorflow) (25.2.10)\n",
            "Requirement already satisfied: gast!=0.5.0,!=0.5.1,!=0.5.2,>=0.2.1 in /usr/local/lib/python3.11/dist-packages (from tensorflow) (0.6.0)\n",
            "Requirement already satisfied: google-pasta>=0.1.1 in /usr/local/lib/python3.11/dist-packages (from tensorflow) (0.2.0)\n",
            "Requirement already satisfied: libclang>=13.0.0 in /usr/local/lib/python3.11/dist-packages (from tensorflow) (18.1.1)\n",
            "Requirement already satisfied: opt-einsum>=2.3.2 in /usr/local/lib/python3.11/dist-packages (from tensorflow) (3.4.0)\n",
            "Requirement already satisfied: packaging in /usr/local/lib/python3.11/dist-packages (from tensorflow) (24.2)\n",
            "Requirement already satisfied: protobuf!=4.21.0,!=4.21.1,!=4.21.2,!=4.21.3,!=4.21.4,!=4.21.5,<6.0.0dev,>=3.20.3 in /usr/local/lib/python3.11/dist-packages (from tensorflow) (5.29.5)\n",
            "Requirement already satisfied: requests<3,>=2.21.0 in /usr/local/lib/python3.11/dist-packages (from tensorflow) (2.32.3)\n",
            "Requirement already satisfied: setuptools in /usr/local/lib/python3.11/dist-packages (from tensorflow) (75.2.0)\n",
            "Requirement already satisfied: six>=1.12.0 in /usr/local/lib/python3.11/dist-packages (from tensorflow) (1.17.0)\n",
            "Requirement already satisfied: termcolor>=1.1.0 in /usr/local/lib/python3.11/dist-packages (from tensorflow) (3.1.0)\n",
            "Requirement already satisfied: typing-extensions>=3.6.6 in /usr/local/lib/python3.11/dist-packages (from tensorflow) (4.14.0)\n",
            "Requirement already satisfied: wrapt>=1.11.0 in /usr/local/lib/python3.11/dist-packages (from tensorflow) (1.17.2)\n",
            "Requirement already satisfied: grpcio<2.0,>=1.24.3 in /usr/local/lib/python3.11/dist-packages (from tensorflow) (1.73.0)\n",
            "Requirement already satisfied: tensorboard<2.19,>=2.18 in /usr/local/lib/python3.11/dist-packages (from tensorflow) (2.18.0)\n",
            "Requirement already satisfied: keras>=3.5.0 in /usr/local/lib/python3.11/dist-packages (from tensorflow) (3.8.0)\n",
            "Requirement already satisfied: numpy<2.1.0,>=1.26.0 in /usr/local/lib/python3.11/dist-packages (from tensorflow) (2.0.2)\n",
            "Requirement already satisfied: h5py>=3.11.0 in /usr/local/lib/python3.11/dist-packages (from tensorflow) (3.14.0)\n",
            "Requirement already satisfied: ml-dtypes<0.5.0,>=0.4.0 in /usr/local/lib/python3.11/dist-packages (from tensorflow) (0.4.1)\n",
            "Requirement already satisfied: tensorflow-io-gcs-filesystem>=0.23.1 in /usr/local/lib/python3.11/dist-packages (from tensorflow) (0.37.1)\n",
            "Requirement already satisfied: wheel<1.0,>=0.23.0 in /usr/local/lib/python3.11/dist-packages (from astunparse>=1.6.0->tensorflow) (0.45.1)\n",
            "Requirement already satisfied: rich in /usr/local/lib/python3.11/dist-packages (from keras>=3.5.0->tensorflow) (13.9.4)\n",
            "Requirement already satisfied: namex in /usr/local/lib/python3.11/dist-packages (from keras>=3.5.0->tensorflow) (0.1.0)\n",
            "Requirement already satisfied: optree in /usr/local/lib/python3.11/dist-packages (from keras>=3.5.0->tensorflow) (0.16.0)\n",
            "Requirement already satisfied: charset-normalizer<4,>=2 in /usr/local/lib/python3.11/dist-packages (from requests<3,>=2.21.0->tensorflow) (3.4.2)\n",
            "Requirement already satisfied: idna<4,>=2.5 in /usr/local/lib/python3.11/dist-packages (from requests<3,>=2.21.0->tensorflow) (3.10)\n",
            "Requirement already satisfied: urllib3<3,>=1.21.1 in /usr/local/lib/python3.11/dist-packages (from requests<3,>=2.21.0->tensorflow) (2.4.0)\n",
            "Requirement already satisfied: certifi>=2017.4.17 in /usr/local/lib/python3.11/dist-packages (from requests<3,>=2.21.0->tensorflow) (2025.6.15)\n",
            "Requirement already satisfied: markdown>=2.6.8 in /usr/local/lib/python3.11/dist-packages (from tensorboard<2.19,>=2.18->tensorflow) (3.8)\n",
            "Requirement already satisfied: tensorboard-data-server<0.8.0,>=0.7.0 in /usr/local/lib/python3.11/dist-packages (from tensorboard<2.19,>=2.18->tensorflow) (0.7.2)\n",
            "Requirement already satisfied: werkzeug>=1.0.1 in /usr/local/lib/python3.11/dist-packages (from tensorboard<2.19,>=2.18->tensorflow) (3.1.3)\n",
            "Requirement already satisfied: MarkupSafe>=2.1.1 in /usr/local/lib/python3.11/dist-packages (from werkzeug>=1.0.1->tensorboard<2.19,>=2.18->tensorflow) (3.0.2)\n",
            "Requirement already satisfied: markdown-it-py>=2.2.0 in /usr/local/lib/python3.11/dist-packages (from rich->keras>=3.5.0->tensorflow) (3.0.0)\n",
            "Requirement already satisfied: pygments<3.0.0,>=2.13.0 in /usr/local/lib/python3.11/dist-packages (from rich->keras>=3.5.0->tensorflow) (2.19.1)\n",
            "Requirement already satisfied: mdurl~=0.1 in /usr/local/lib/python3.11/dist-packages (from markdown-it-py>=2.2.0->rich->keras>=3.5.0->tensorflow) (0.1.2)\n"
          ]
        }
      ]
    },
    {
      "cell_type": "code",
      "source": [
        "from sklearn.preprocessing import LabelEncoder\n",
        "from tensorflow.keras.utils import to_categorical\n",
        "\n",
        "\n",
        "# Total target rows\n",
        "TARGET_ROWS = 1800\n",
        "\n",
        "# Estimate the total number of samples across all fault types\n",
        "total_samples = sum(len(df[df['fault'] == f]) for f in df['fault'].unique())\n",
        "\n",
        "# Calculate suitable window size and stride\n",
        "num_faults = 9\n",
        "average_samples_per_fault = total_samples / num_faults\n",
        "approx_windows_per_fault = TARGET_ROWS / num_faults\n",
        "stride_ratio = 0.8  # Initial stride/window ratio\n",
        "\n",
        "win_len = int(average_samples_per_fault / approx_windows_per_fault)\n",
        "stride = int(win_len * stride_ratio)\n",
        "\n",
        "X=[]\n",
        "Y=[]\n",
        "\n",
        "\n",
        "for k in df['fault'].unique():\n",
        "\n",
        "    df_temp_2 = df[df['fault']==k]\n",
        "\n",
        "    for i in np.arange(0,len(df_temp_2)-(win_len),stride):\n",
        "        temp = df_temp_2.iloc[i:i+win_len,:-1].values\n",
        "        temp = temp.reshape((1,-1))\n",
        "        X.append(temp)\n",
        "        Y.append(df_temp_2.iloc[i+win_len,-1])\n",
        "\n",
        "X=np.array(X)\n",
        "X=X.reshape((X.shape[0],-1,1))\n",
        "#X = np.repeat(X, 3, axis=3) # To repeat into 3 chanel format\n",
        "\n",
        "\n",
        "Y=np.array(Y)\n",
        "encoder= LabelEncoder()\n",
        "encoder.fit(Y)\n",
        "encoded_Y = encoder.transform(Y)\n",
        "OHE_Y = to_categorical(encoded_Y)"
      ],
      "metadata": {
        "id": "5s5vUXrUM2BH"
      },
      "id": "5s5vUXrUM2BH",
      "execution_count": 120,
      "outputs": []
    },
    {
      "cell_type": "code",
      "source": [
        "from sklearn.model_selection import train_test_split\n",
        "X_train,X_test,y_train,y_test = train_test_split(X,OHE_Y,test_size=0.3,shuffle=True)"
      ],
      "metadata": {
        "id": "PreHyG2yMkTA"
      },
      "id": "PreHyG2yMkTA",
      "execution_count": 121,
      "outputs": []
    },
    {
      "cell_type": "code",
      "source": [
        "import tensorflow as tf\n",
        "from tensorflow.keras.models import Model\n",
        "from tensorflow.keras.layers import Input, Dense, Dropout, Flatten, Conv1D, MaxPooling1D, concatenate\n",
        "from tensorflow.keras import backend as K\n",
        "\n",
        "# --- Custom Physics-Informed Loss Function ---\n",
        "def custom_loss(y_true, y_pred):\n",
        "    # Standard categorical crossentropy\n",
        "    loss = K.categorical_crossentropy(y_true, y_pred)\n",
        "\n",
        "    # Physics-Informed Term: penalize rapid class probability changes\n",
        "    # Ensure y_pred is at least 2D for slicing\n",
        "    if K.ndim(y_pred) < 2:\n",
        "        y_pred = K.expand_dims(y_pred, axis=-1)\n",
        "\n",
        "    # Ensure y_pred has more than one class dimension to compute diff\n",
        "    if K.int_shape(y_pred)[-1] > 1:\n",
        "        diff = y_pred[:, 1:] - y_pred[:, :-1]\n",
        "        squared_diff = tf.square(diff)\n",
        "        physics_term = tf.reduce_mean(squared_diff)\n",
        "    else:\n",
        "        physics_term = 0.0 # No physics term if only one class\n",
        "\n",
        "\n",
        "    # Total loss = classification loss + regularization term\n",
        "    total_loss = loss + 0.01 * physics_term  # 0.01 is tunable\n",
        "\n",
        "    return total_loss\n",
        "\n",
        "# --- Model Definition ---\n",
        "# no_classes = len(df['fault'].unique()) # Original line that caused 10 classes\n",
        "no_classes = len(encoder.classes_) # Use the encoder to get the correct number of classes\n",
        "print(f\"Number of output classes (no_classes): {no_classes}\") # Add print statement to verify\n",
        "\n",
        "input_shape = (X.shape[1], X.shape[2])  # Example: (784, 1)\n",
        "\n",
        "# Head 1\n",
        "inputs1 = Input(shape=input_shape)\n",
        "conv1 = Conv1D(filters=64, kernel_size=200, activation='relu')(inputs1)\n",
        "drop1 = Dropout(0.5)(conv1)\n",
        "pool1 = MaxPooling1D(pool_size=20)(drop1)\n",
        "flat1 = Flatten()(pool1)\n",
        "\n",
        "# Head 2\n",
        "inputs2 = Input(shape=input_shape)\n",
        "conv2 = Conv1D(filters=64, kernel_size=100, activation='relu')(inputs2)\n",
        "drop2 = Dropout(0.5)(conv2)\n",
        "pool2 = MaxPooling1D(pool_size=10)(drop2)\n",
        "flat2 = Flatten()(pool2)\n",
        "\n",
        "# Head 3\n",
        "inputs3 = Input(shape=input_shape)\n",
        "conv3 = Conv1D(filters=64, kernel_size=50, activation='relu')(inputs3)\n",
        "drop3 = Dropout(0.5)(conv3)\n",
        "pool3 = MaxPooling1D(pool_size=5)(drop3)\n",
        "flat3 = Flatten()(pool3)\n",
        "\n",
        "# Merge all feature paths\n",
        "merged = concatenate([flat1, flat2, flat3])\n",
        "\n",
        "# Fully connected interpretation\n",
        "dense1 = Dense(100, activation='relu')(merged)\n",
        "outputs = Dense(no_classes, activation='softmax')(dense1)\n",
        "\n",
        "# Build and compile model with custom loss\n",
        "cnn_model = Model(inputs=[inputs1, inputs2, inputs3], outputs=outputs)\n",
        "cnn_model.compile(optimizer='adam', loss=custom_loss, metrics=['accuracy'])\n",
        "\n",
        "# Model summary\n",
        "cnn_model.summary()"
      ],
      "metadata": {
        "colab": {
          "base_uri": "https://localhost:8080/",
          "height": 985
        },
        "id": "kB3uGh-8J7no",
        "outputId": "3c2b0c0c-ffa7-45b5-fbea-7b97111787d2"
      },
      "id": "kB3uGh-8J7no",
      "execution_count": 122,
      "outputs": [
        {
          "output_type": "stream",
          "name": "stdout",
          "text": [
            "Number of output classes (no_classes): 8\n"
          ]
        },
        {
          "output_type": "display_data",
          "data": {
            "text/plain": [
              "\u001b[1mModel: \"functional_8\"\u001b[0m\n"
            ],
            "text/html": [
              "<pre style=\"white-space:pre;overflow-x:auto;line-height:normal;font-family:Menlo,'DejaVu Sans Mono',consolas,'Courier New',monospace\"><span style=\"font-weight: bold\">Model: \"functional_8\"</span>\n",
              "</pre>\n"
            ]
          },
          "metadata": {}
        },
        {
          "output_type": "display_data",
          "data": {
            "text/plain": [
              "┏━━━━━━━━━━━━━━━━━━━━━┳━━━━━━━━━━━━━━━━━━━┳━━━━━━━━━━━━┳━━━━━━━━━━━━━━━━━━━┓\n",
              "┃\u001b[1m \u001b[0m\u001b[1mLayer (type)       \u001b[0m\u001b[1m \u001b[0m┃\u001b[1m \u001b[0m\u001b[1mOutput Shape     \u001b[0m\u001b[1m \u001b[0m┃\u001b[1m \u001b[0m\u001b[1m   Param #\u001b[0m\u001b[1m \u001b[0m┃\u001b[1m \u001b[0m\u001b[1mConnected to     \u001b[0m\u001b[1m \u001b[0m┃\n",
              "┡━━━━━━━━━━━━━━━━━━━━━╇━━━━━━━━━━━━━━━━━━━╇━━━━━━━━━━━━╇━━━━━━━━━━━━━━━━━━━┩\n",
              "│ input_layer_12      │ (\u001b[38;5;45mNone\u001b[0m, \u001b[38;5;34m614\u001b[0m, \u001b[38;5;34m1\u001b[0m)    │          \u001b[38;5;34m0\u001b[0m │ -                 │\n",
              "│ (\u001b[38;5;33mInputLayer\u001b[0m)        │                   │            │                   │\n",
              "├─────────────────────┼───────────────────┼────────────┼───────────────────┤\n",
              "│ input_layer_13      │ (\u001b[38;5;45mNone\u001b[0m, \u001b[38;5;34m614\u001b[0m, \u001b[38;5;34m1\u001b[0m)    │          \u001b[38;5;34m0\u001b[0m │ -                 │\n",
              "│ (\u001b[38;5;33mInputLayer\u001b[0m)        │                   │            │                   │\n",
              "├─────────────────────┼───────────────────┼────────────┼───────────────────┤\n",
              "│ input_layer_14      │ (\u001b[38;5;45mNone\u001b[0m, \u001b[38;5;34m614\u001b[0m, \u001b[38;5;34m1\u001b[0m)    │          \u001b[38;5;34m0\u001b[0m │ -                 │\n",
              "│ (\u001b[38;5;33mInputLayer\u001b[0m)        │                   │            │                   │\n",
              "├─────────────────────┼───────────────────┼────────────┼───────────────────┤\n",
              "│ conv1d_12 (\u001b[38;5;33mConv1D\u001b[0m)  │ (\u001b[38;5;45mNone\u001b[0m, \u001b[38;5;34m415\u001b[0m, \u001b[38;5;34m64\u001b[0m)   │     \u001b[38;5;34m12,864\u001b[0m │ input_layer_12[\u001b[38;5;34m0\u001b[0m… │\n",
              "├─────────────────────┼───────────────────┼────────────┼───────────────────┤\n",
              "│ conv1d_13 (\u001b[38;5;33mConv1D\u001b[0m)  │ (\u001b[38;5;45mNone\u001b[0m, \u001b[38;5;34m515\u001b[0m, \u001b[38;5;34m64\u001b[0m)   │      \u001b[38;5;34m6,464\u001b[0m │ input_layer_13[\u001b[38;5;34m0\u001b[0m… │\n",
              "├─────────────────────┼───────────────────┼────────────┼───────────────────┤\n",
              "│ conv1d_14 (\u001b[38;5;33mConv1D\u001b[0m)  │ (\u001b[38;5;45mNone\u001b[0m, \u001b[38;5;34m565\u001b[0m, \u001b[38;5;34m64\u001b[0m)   │      \u001b[38;5;34m3,264\u001b[0m │ input_layer_14[\u001b[38;5;34m0\u001b[0m… │\n",
              "├─────────────────────┼───────────────────┼────────────┼───────────────────┤\n",
              "│ dropout_12          │ (\u001b[38;5;45mNone\u001b[0m, \u001b[38;5;34m415\u001b[0m, \u001b[38;5;34m64\u001b[0m)   │          \u001b[38;5;34m0\u001b[0m │ conv1d_12[\u001b[38;5;34m0\u001b[0m][\u001b[38;5;34m0\u001b[0m]   │\n",
              "│ (\u001b[38;5;33mDropout\u001b[0m)           │                   │            │                   │\n",
              "├─────────────────────┼───────────────────┼────────────┼───────────────────┤\n",
              "│ dropout_13          │ (\u001b[38;5;45mNone\u001b[0m, \u001b[38;5;34m515\u001b[0m, \u001b[38;5;34m64\u001b[0m)   │          \u001b[38;5;34m0\u001b[0m │ conv1d_13[\u001b[38;5;34m0\u001b[0m][\u001b[38;5;34m0\u001b[0m]   │\n",
              "│ (\u001b[38;5;33mDropout\u001b[0m)           │                   │            │                   │\n",
              "├─────────────────────┼───────────────────┼────────────┼───────────────────┤\n",
              "│ dropout_14          │ (\u001b[38;5;45mNone\u001b[0m, \u001b[38;5;34m565\u001b[0m, \u001b[38;5;34m64\u001b[0m)   │          \u001b[38;5;34m0\u001b[0m │ conv1d_14[\u001b[38;5;34m0\u001b[0m][\u001b[38;5;34m0\u001b[0m]   │\n",
              "│ (\u001b[38;5;33mDropout\u001b[0m)           │                   │            │                   │\n",
              "├─────────────────────┼───────────────────┼────────────┼───────────────────┤\n",
              "│ max_pooling1d_12    │ (\u001b[38;5;45mNone\u001b[0m, \u001b[38;5;34m20\u001b[0m, \u001b[38;5;34m64\u001b[0m)    │          \u001b[38;5;34m0\u001b[0m │ dropout_12[\u001b[38;5;34m0\u001b[0m][\u001b[38;5;34m0\u001b[0m]  │\n",
              "│ (\u001b[38;5;33mMaxPooling1D\u001b[0m)      │                   │            │                   │\n",
              "├─────────────────────┼───────────────────┼────────────┼───────────────────┤\n",
              "│ max_pooling1d_13    │ (\u001b[38;5;45mNone\u001b[0m, \u001b[38;5;34m51\u001b[0m, \u001b[38;5;34m64\u001b[0m)    │          \u001b[38;5;34m0\u001b[0m │ dropout_13[\u001b[38;5;34m0\u001b[0m][\u001b[38;5;34m0\u001b[0m]  │\n",
              "│ (\u001b[38;5;33mMaxPooling1D\u001b[0m)      │                   │            │                   │\n",
              "├─────────────────────┼───────────────────┼────────────┼───────────────────┤\n",
              "│ max_pooling1d_14    │ (\u001b[38;5;45mNone\u001b[0m, \u001b[38;5;34m113\u001b[0m, \u001b[38;5;34m64\u001b[0m)   │          \u001b[38;5;34m0\u001b[0m │ dropout_14[\u001b[38;5;34m0\u001b[0m][\u001b[38;5;34m0\u001b[0m]  │\n",
              "│ (\u001b[38;5;33mMaxPooling1D\u001b[0m)      │                   │            │                   │\n",
              "├─────────────────────┼───────────────────┼────────────┼───────────────────┤\n",
              "│ flatten_12          │ (\u001b[38;5;45mNone\u001b[0m, \u001b[38;5;34m1280\u001b[0m)      │          \u001b[38;5;34m0\u001b[0m │ max_pooling1d_12… │\n",
              "│ (\u001b[38;5;33mFlatten\u001b[0m)           │                   │            │                   │\n",
              "├─────────────────────┼───────────────────┼────────────┼───────────────────┤\n",
              "│ flatten_13          │ (\u001b[38;5;45mNone\u001b[0m, \u001b[38;5;34m3264\u001b[0m)      │          \u001b[38;5;34m0\u001b[0m │ max_pooling1d_13… │\n",
              "│ (\u001b[38;5;33mFlatten\u001b[0m)           │                   │            │                   │\n",
              "├─────────────────────┼───────────────────┼────────────┼───────────────────┤\n",
              "│ flatten_14          │ (\u001b[38;5;45mNone\u001b[0m, \u001b[38;5;34m7232\u001b[0m)      │          \u001b[38;5;34m0\u001b[0m │ max_pooling1d_14… │\n",
              "│ (\u001b[38;5;33mFlatten\u001b[0m)           │                   │            │                   │\n",
              "├─────────────────────┼───────────────────┼────────────┼───────────────────┤\n",
              "│ concatenate_4       │ (\u001b[38;5;45mNone\u001b[0m, \u001b[38;5;34m11776\u001b[0m)     │          \u001b[38;5;34m0\u001b[0m │ flatten_12[\u001b[38;5;34m0\u001b[0m][\u001b[38;5;34m0\u001b[0m], │\n",
              "│ (\u001b[38;5;33mConcatenate\u001b[0m)       │                   │            │ flatten_13[\u001b[38;5;34m0\u001b[0m][\u001b[38;5;34m0\u001b[0m], │\n",
              "│                     │                   │            │ flatten_14[\u001b[38;5;34m0\u001b[0m][\u001b[38;5;34m0\u001b[0m]  │\n",
              "├─────────────────────┼───────────────────┼────────────┼───────────────────┤\n",
              "│ dense_8 (\u001b[38;5;33mDense\u001b[0m)     │ (\u001b[38;5;45mNone\u001b[0m, \u001b[38;5;34m100\u001b[0m)       │  \u001b[38;5;34m1,177,700\u001b[0m │ concatenate_4[\u001b[38;5;34m0\u001b[0m]… │\n",
              "├─────────────────────┼───────────────────┼────────────┼───────────────────┤\n",
              "│ dense_9 (\u001b[38;5;33mDense\u001b[0m)     │ (\u001b[38;5;45mNone\u001b[0m, \u001b[38;5;34m8\u001b[0m)         │        \u001b[38;5;34m808\u001b[0m │ dense_8[\u001b[38;5;34m0\u001b[0m][\u001b[38;5;34m0\u001b[0m]     │\n",
              "└─────────────────────┴───────────────────┴────────────┴───────────────────┘\n"
            ],
            "text/html": [
              "<pre style=\"white-space:pre;overflow-x:auto;line-height:normal;font-family:Menlo,'DejaVu Sans Mono',consolas,'Courier New',monospace\">┏━━━━━━━━━━━━━━━━━━━━━┳━━━━━━━━━━━━━━━━━━━┳━━━━━━━━━━━━┳━━━━━━━━━━━━━━━━━━━┓\n",
              "┃<span style=\"font-weight: bold\"> Layer (type)        </span>┃<span style=\"font-weight: bold\"> Output Shape      </span>┃<span style=\"font-weight: bold\">    Param # </span>┃<span style=\"font-weight: bold\"> Connected to      </span>┃\n",
              "┡━━━━━━━━━━━━━━━━━━━━━╇━━━━━━━━━━━━━━━━━━━╇━━━━━━━━━━━━╇━━━━━━━━━━━━━━━━━━━┩\n",
              "│ input_layer_12      │ (<span style=\"color: #00d7ff; text-decoration-color: #00d7ff\">None</span>, <span style=\"color: #00af00; text-decoration-color: #00af00\">614</span>, <span style=\"color: #00af00; text-decoration-color: #00af00\">1</span>)    │          <span style=\"color: #00af00; text-decoration-color: #00af00\">0</span> │ -                 │\n",
              "│ (<span style=\"color: #0087ff; text-decoration-color: #0087ff\">InputLayer</span>)        │                   │            │                   │\n",
              "├─────────────────────┼───────────────────┼────────────┼───────────────────┤\n",
              "│ input_layer_13      │ (<span style=\"color: #00d7ff; text-decoration-color: #00d7ff\">None</span>, <span style=\"color: #00af00; text-decoration-color: #00af00\">614</span>, <span style=\"color: #00af00; text-decoration-color: #00af00\">1</span>)    │          <span style=\"color: #00af00; text-decoration-color: #00af00\">0</span> │ -                 │\n",
              "│ (<span style=\"color: #0087ff; text-decoration-color: #0087ff\">InputLayer</span>)        │                   │            │                   │\n",
              "├─────────────────────┼───────────────────┼────────────┼───────────────────┤\n",
              "│ input_layer_14      │ (<span style=\"color: #00d7ff; text-decoration-color: #00d7ff\">None</span>, <span style=\"color: #00af00; text-decoration-color: #00af00\">614</span>, <span style=\"color: #00af00; text-decoration-color: #00af00\">1</span>)    │          <span style=\"color: #00af00; text-decoration-color: #00af00\">0</span> │ -                 │\n",
              "│ (<span style=\"color: #0087ff; text-decoration-color: #0087ff\">InputLayer</span>)        │                   │            │                   │\n",
              "├─────────────────────┼───────────────────┼────────────┼───────────────────┤\n",
              "│ conv1d_12 (<span style=\"color: #0087ff; text-decoration-color: #0087ff\">Conv1D</span>)  │ (<span style=\"color: #00d7ff; text-decoration-color: #00d7ff\">None</span>, <span style=\"color: #00af00; text-decoration-color: #00af00\">415</span>, <span style=\"color: #00af00; text-decoration-color: #00af00\">64</span>)   │     <span style=\"color: #00af00; text-decoration-color: #00af00\">12,864</span> │ input_layer_12[<span style=\"color: #00af00; text-decoration-color: #00af00\">0</span>… │\n",
              "├─────────────────────┼───────────────────┼────────────┼───────────────────┤\n",
              "│ conv1d_13 (<span style=\"color: #0087ff; text-decoration-color: #0087ff\">Conv1D</span>)  │ (<span style=\"color: #00d7ff; text-decoration-color: #00d7ff\">None</span>, <span style=\"color: #00af00; text-decoration-color: #00af00\">515</span>, <span style=\"color: #00af00; text-decoration-color: #00af00\">64</span>)   │      <span style=\"color: #00af00; text-decoration-color: #00af00\">6,464</span> │ input_layer_13[<span style=\"color: #00af00; text-decoration-color: #00af00\">0</span>… │\n",
              "├─────────────────────┼───────────────────┼────────────┼───────────────────┤\n",
              "│ conv1d_14 (<span style=\"color: #0087ff; text-decoration-color: #0087ff\">Conv1D</span>)  │ (<span style=\"color: #00d7ff; text-decoration-color: #00d7ff\">None</span>, <span style=\"color: #00af00; text-decoration-color: #00af00\">565</span>, <span style=\"color: #00af00; text-decoration-color: #00af00\">64</span>)   │      <span style=\"color: #00af00; text-decoration-color: #00af00\">3,264</span> │ input_layer_14[<span style=\"color: #00af00; text-decoration-color: #00af00\">0</span>… │\n",
              "├─────────────────────┼───────────────────┼────────────┼───────────────────┤\n",
              "│ dropout_12          │ (<span style=\"color: #00d7ff; text-decoration-color: #00d7ff\">None</span>, <span style=\"color: #00af00; text-decoration-color: #00af00\">415</span>, <span style=\"color: #00af00; text-decoration-color: #00af00\">64</span>)   │          <span style=\"color: #00af00; text-decoration-color: #00af00\">0</span> │ conv1d_12[<span style=\"color: #00af00; text-decoration-color: #00af00\">0</span>][<span style=\"color: #00af00; text-decoration-color: #00af00\">0</span>]   │\n",
              "│ (<span style=\"color: #0087ff; text-decoration-color: #0087ff\">Dropout</span>)           │                   │            │                   │\n",
              "├─────────────────────┼───────────────────┼────────────┼───────────────────┤\n",
              "│ dropout_13          │ (<span style=\"color: #00d7ff; text-decoration-color: #00d7ff\">None</span>, <span style=\"color: #00af00; text-decoration-color: #00af00\">515</span>, <span style=\"color: #00af00; text-decoration-color: #00af00\">64</span>)   │          <span style=\"color: #00af00; text-decoration-color: #00af00\">0</span> │ conv1d_13[<span style=\"color: #00af00; text-decoration-color: #00af00\">0</span>][<span style=\"color: #00af00; text-decoration-color: #00af00\">0</span>]   │\n",
              "│ (<span style=\"color: #0087ff; text-decoration-color: #0087ff\">Dropout</span>)           │                   │            │                   │\n",
              "├─────────────────────┼───────────────────┼────────────┼───────────────────┤\n",
              "│ dropout_14          │ (<span style=\"color: #00d7ff; text-decoration-color: #00d7ff\">None</span>, <span style=\"color: #00af00; text-decoration-color: #00af00\">565</span>, <span style=\"color: #00af00; text-decoration-color: #00af00\">64</span>)   │          <span style=\"color: #00af00; text-decoration-color: #00af00\">0</span> │ conv1d_14[<span style=\"color: #00af00; text-decoration-color: #00af00\">0</span>][<span style=\"color: #00af00; text-decoration-color: #00af00\">0</span>]   │\n",
              "│ (<span style=\"color: #0087ff; text-decoration-color: #0087ff\">Dropout</span>)           │                   │            │                   │\n",
              "├─────────────────────┼───────────────────┼────────────┼───────────────────┤\n",
              "│ max_pooling1d_12    │ (<span style=\"color: #00d7ff; text-decoration-color: #00d7ff\">None</span>, <span style=\"color: #00af00; text-decoration-color: #00af00\">20</span>, <span style=\"color: #00af00; text-decoration-color: #00af00\">64</span>)    │          <span style=\"color: #00af00; text-decoration-color: #00af00\">0</span> │ dropout_12[<span style=\"color: #00af00; text-decoration-color: #00af00\">0</span>][<span style=\"color: #00af00; text-decoration-color: #00af00\">0</span>]  │\n",
              "│ (<span style=\"color: #0087ff; text-decoration-color: #0087ff\">MaxPooling1D</span>)      │                   │            │                   │\n",
              "├─────────────────────┼───────────────────┼────────────┼───────────────────┤\n",
              "│ max_pooling1d_13    │ (<span style=\"color: #00d7ff; text-decoration-color: #00d7ff\">None</span>, <span style=\"color: #00af00; text-decoration-color: #00af00\">51</span>, <span style=\"color: #00af00; text-decoration-color: #00af00\">64</span>)    │          <span style=\"color: #00af00; text-decoration-color: #00af00\">0</span> │ dropout_13[<span style=\"color: #00af00; text-decoration-color: #00af00\">0</span>][<span style=\"color: #00af00; text-decoration-color: #00af00\">0</span>]  │\n",
              "│ (<span style=\"color: #0087ff; text-decoration-color: #0087ff\">MaxPooling1D</span>)      │                   │            │                   │\n",
              "├─────────────────────┼───────────────────┼────────────┼───────────────────┤\n",
              "│ max_pooling1d_14    │ (<span style=\"color: #00d7ff; text-decoration-color: #00d7ff\">None</span>, <span style=\"color: #00af00; text-decoration-color: #00af00\">113</span>, <span style=\"color: #00af00; text-decoration-color: #00af00\">64</span>)   │          <span style=\"color: #00af00; text-decoration-color: #00af00\">0</span> │ dropout_14[<span style=\"color: #00af00; text-decoration-color: #00af00\">0</span>][<span style=\"color: #00af00; text-decoration-color: #00af00\">0</span>]  │\n",
              "│ (<span style=\"color: #0087ff; text-decoration-color: #0087ff\">MaxPooling1D</span>)      │                   │            │                   │\n",
              "├─────────────────────┼───────────────────┼────────────┼───────────────────┤\n",
              "│ flatten_12          │ (<span style=\"color: #00d7ff; text-decoration-color: #00d7ff\">None</span>, <span style=\"color: #00af00; text-decoration-color: #00af00\">1280</span>)      │          <span style=\"color: #00af00; text-decoration-color: #00af00\">0</span> │ max_pooling1d_12… │\n",
              "│ (<span style=\"color: #0087ff; text-decoration-color: #0087ff\">Flatten</span>)           │                   │            │                   │\n",
              "├─────────────────────┼───────────────────┼────────────┼───────────────────┤\n",
              "│ flatten_13          │ (<span style=\"color: #00d7ff; text-decoration-color: #00d7ff\">None</span>, <span style=\"color: #00af00; text-decoration-color: #00af00\">3264</span>)      │          <span style=\"color: #00af00; text-decoration-color: #00af00\">0</span> │ max_pooling1d_13… │\n",
              "│ (<span style=\"color: #0087ff; text-decoration-color: #0087ff\">Flatten</span>)           │                   │            │                   │\n",
              "├─────────────────────┼───────────────────┼────────────┼───────────────────┤\n",
              "│ flatten_14          │ (<span style=\"color: #00d7ff; text-decoration-color: #00d7ff\">None</span>, <span style=\"color: #00af00; text-decoration-color: #00af00\">7232</span>)      │          <span style=\"color: #00af00; text-decoration-color: #00af00\">0</span> │ max_pooling1d_14… │\n",
              "│ (<span style=\"color: #0087ff; text-decoration-color: #0087ff\">Flatten</span>)           │                   │            │                   │\n",
              "├─────────────────────┼───────────────────┼────────────┼───────────────────┤\n",
              "│ concatenate_4       │ (<span style=\"color: #00d7ff; text-decoration-color: #00d7ff\">None</span>, <span style=\"color: #00af00; text-decoration-color: #00af00\">11776</span>)     │          <span style=\"color: #00af00; text-decoration-color: #00af00\">0</span> │ flatten_12[<span style=\"color: #00af00; text-decoration-color: #00af00\">0</span>][<span style=\"color: #00af00; text-decoration-color: #00af00\">0</span>], │\n",
              "│ (<span style=\"color: #0087ff; text-decoration-color: #0087ff\">Concatenate</span>)       │                   │            │ flatten_13[<span style=\"color: #00af00; text-decoration-color: #00af00\">0</span>][<span style=\"color: #00af00; text-decoration-color: #00af00\">0</span>], │\n",
              "│                     │                   │            │ flatten_14[<span style=\"color: #00af00; text-decoration-color: #00af00\">0</span>][<span style=\"color: #00af00; text-decoration-color: #00af00\">0</span>]  │\n",
              "├─────────────────────┼───────────────────┼────────────┼───────────────────┤\n",
              "│ dense_8 (<span style=\"color: #0087ff; text-decoration-color: #0087ff\">Dense</span>)     │ (<span style=\"color: #00d7ff; text-decoration-color: #00d7ff\">None</span>, <span style=\"color: #00af00; text-decoration-color: #00af00\">100</span>)       │  <span style=\"color: #00af00; text-decoration-color: #00af00\">1,177,700</span> │ concatenate_4[<span style=\"color: #00af00; text-decoration-color: #00af00\">0</span>]… │\n",
              "├─────────────────────┼───────────────────┼────────────┼───────────────────┤\n",
              "│ dense_9 (<span style=\"color: #0087ff; text-decoration-color: #0087ff\">Dense</span>)     │ (<span style=\"color: #00d7ff; text-decoration-color: #00d7ff\">None</span>, <span style=\"color: #00af00; text-decoration-color: #00af00\">8</span>)         │        <span style=\"color: #00af00; text-decoration-color: #00af00\">808</span> │ dense_8[<span style=\"color: #00af00; text-decoration-color: #00af00\">0</span>][<span style=\"color: #00af00; text-decoration-color: #00af00\">0</span>]     │\n",
              "└─────────────────────┴───────────────────┴────────────┴───────────────────┘\n",
              "</pre>\n"
            ]
          },
          "metadata": {}
        },
        {
          "output_type": "display_data",
          "data": {
            "text/plain": [
              "\u001b[1m Total params: \u001b[0m\u001b[38;5;34m1,201,100\u001b[0m (4.58 MB)\n"
            ],
            "text/html": [
              "<pre style=\"white-space:pre;overflow-x:auto;line-height:normal;font-family:Menlo,'DejaVu Sans Mono',consolas,'Courier New',monospace\"><span style=\"font-weight: bold\"> Total params: </span><span style=\"color: #00af00; text-decoration-color: #00af00\">1,201,100</span> (4.58 MB)\n",
              "</pre>\n"
            ]
          },
          "metadata": {}
        },
        {
          "output_type": "display_data",
          "data": {
            "text/plain": [
              "\u001b[1m Trainable params: \u001b[0m\u001b[38;5;34m1,201,100\u001b[0m (4.58 MB)\n"
            ],
            "text/html": [
              "<pre style=\"white-space:pre;overflow-x:auto;line-height:normal;font-family:Menlo,'DejaVu Sans Mono',consolas,'Courier New',monospace\"><span style=\"font-weight: bold\"> Trainable params: </span><span style=\"color: #00af00; text-decoration-color: #00af00\">1,201,100</span> (4.58 MB)\n",
              "</pre>\n"
            ]
          },
          "metadata": {}
        },
        {
          "output_type": "display_data",
          "data": {
            "text/plain": [
              "\u001b[1m Non-trainable params: \u001b[0m\u001b[38;5;34m0\u001b[0m (0.00 B)\n"
            ],
            "text/html": [
              "<pre style=\"white-space:pre;overflow-x:auto;line-height:normal;font-family:Menlo,'DejaVu Sans Mono',consolas,'Courier New',monospace\"><span style=\"font-weight: bold\"> Non-trainable params: </span><span style=\"color: #00af00; text-decoration-color: #00af00\">0</span> (0.00 B)\n",
              "</pre>\n"
            ]
          },
          "metadata": {}
        }
      ]
    },
    {
      "cell_type": "code",
      "source": [
        "batch_size =100\n",
        "epochs = 20\n",
        "history = cnn_model.fit([X_train,X_train,X_train], y_train, batch_size=batch_size,epochs=epochs,verbose=1,validation_data=([X_test,X_test,X_test],y_test),shuffle=True)"
      ],
      "metadata": {
        "colab": {
          "base_uri": "https://localhost:8080/"
        },
        "id": "2Lxm-qvKM3oN",
        "outputId": "d2479b53-c56e-4b81-abe5-18e8a01e65db"
      },
      "id": "2Lxm-qvKM3oN",
      "execution_count": 123,
      "outputs": [
        {
          "output_type": "stream",
          "name": "stdout",
          "text": [
            "Epoch 1/20\n",
            "\u001b[1m16/16\u001b[0m \u001b[32m━━━━━━━━━━━━━━━━━━━━\u001b[0m\u001b[37m\u001b[0m \u001b[1m26s\u001b[0m 838ms/step - accuracy: 0.1313 - loss: 2.8524 - val_accuracy: 0.1276 - val_loss: 1.9434\n",
            "Epoch 2/20\n",
            "\u001b[1m16/16\u001b[0m \u001b[32m━━━━━━━━━━━━━━━━━━━━\u001b[0m\u001b[37m\u001b[0m \u001b[1m18s\u001b[0m 18ms/step - accuracy: 0.1552 - loss: 1.8891 - val_accuracy: 0.2092 - val_loss: 1.8346\n",
            "Epoch 3/20\n",
            "\u001b[1m16/16\u001b[0m \u001b[32m━━━━━━━━━━━━━━━━━━━━\u001b[0m\u001b[37m\u001b[0m \u001b[1m0s\u001b[0m 17ms/step - accuracy: 0.2714 - loss: 1.7589 - val_accuracy: 0.3071 - val_loss: 1.7205\n",
            "Epoch 4/20\n",
            "\u001b[1m16/16\u001b[0m \u001b[32m━━━━━━━━━━━━━━━━━━━━\u001b[0m\u001b[37m\u001b[0m \u001b[1m0s\u001b[0m 17ms/step - accuracy: 0.3336 - loss: 1.6486 - val_accuracy: 0.2596 - val_loss: 1.6035\n",
            "Epoch 5/20\n",
            "\u001b[1m16/16\u001b[0m \u001b[32m━━━━━━━━━━━━━━━━━━━━\u001b[0m\u001b[37m\u001b[0m \u001b[1m0s\u001b[0m 17ms/step - accuracy: 0.3714 - loss: 1.5065 - val_accuracy: 0.4614 - val_loss: 1.4693\n",
            "Epoch 6/20\n",
            "\u001b[1m16/16\u001b[0m \u001b[32m━━━━━━━━━━━━━━━━━━━━\u001b[0m\u001b[37m\u001b[0m \u001b[1m0s\u001b[0m 14ms/step - accuracy: 0.5210 - loss: 1.3039 - val_accuracy: 0.5623 - val_loss: 1.3143\n",
            "Epoch 7/20\n",
            "\u001b[1m16/16\u001b[0m \u001b[32m━━━━━━━━━━━━━━━━━━━━\u001b[0m\u001b[37m\u001b[0m \u001b[1m0s\u001b[0m 13ms/step - accuracy: 0.6689 - loss: 1.1203 - val_accuracy: 0.5772 - val_loss: 1.2038\n",
            "Epoch 8/20\n",
            "\u001b[1m16/16\u001b[0m \u001b[32m━━━━━━━━━━━━━━━━━━━━\u001b[0m\u001b[37m\u001b[0m \u001b[1m0s\u001b[0m 13ms/step - accuracy: 0.7793 - loss: 0.8919 - val_accuracy: 0.5816 - val_loss: 1.0977\n",
            "Epoch 9/20\n",
            "\u001b[1m16/16\u001b[0m \u001b[32m━━━━━━━━━━━━━━━━━━━━\u001b[0m\u001b[37m\u001b[0m \u001b[1m0s\u001b[0m 14ms/step - accuracy: 0.8618 - loss: 0.7145 - val_accuracy: 0.7374 - val_loss: 0.8715\n",
            "Epoch 10/20\n",
            "\u001b[1m16/16\u001b[0m \u001b[32m━━━━━━━━━━━━━━━━━━━━\u001b[0m\u001b[37m\u001b[0m \u001b[1m0s\u001b[0m 12ms/step - accuracy: 0.8542 - loss: 0.5853 - val_accuracy: 0.8012 - val_loss: 0.8369\n",
            "Epoch 11/20\n",
            "\u001b[1m16/16\u001b[0m \u001b[32m━━━━━━━━━━━━━━━━━━━━\u001b[0m\u001b[37m\u001b[0m \u001b[1m0s\u001b[0m 14ms/step - accuracy: 0.9064 - loss: 0.4836 - val_accuracy: 0.8427 - val_loss: 0.7377\n",
            "Epoch 12/20\n",
            "\u001b[1m16/16\u001b[0m \u001b[32m━━━━━━━━━━━━━━━━━━━━\u001b[0m\u001b[37m\u001b[0m \u001b[1m0s\u001b[0m 12ms/step - accuracy: 0.9393 - loss: 0.4204 - val_accuracy: 0.9095 - val_loss: 0.5914\n",
            "Epoch 13/20\n",
            "\u001b[1m16/16\u001b[0m \u001b[32m━━━━━━━━━━━━━━━━━━━━\u001b[0m\u001b[37m\u001b[0m \u001b[1m0s\u001b[0m 14ms/step - accuracy: 0.9851 - loss: 0.3247 - val_accuracy: 0.8917 - val_loss: 0.5695\n",
            "Epoch 14/20\n",
            "\u001b[1m16/16\u001b[0m \u001b[32m━━━━━━━━━━━━━━━━━━━━\u001b[0m\u001b[37m\u001b[0m \u001b[1m0s\u001b[0m 12ms/step - accuracy: 0.9819 - loss: 0.2826 - val_accuracy: 0.9169 - val_loss: 0.4727\n",
            "Epoch 15/20\n",
            "\u001b[1m16/16\u001b[0m \u001b[32m━━━━━━━━━━━━━━━━━━━━\u001b[0m\u001b[37m\u001b[0m \u001b[1m0s\u001b[0m 14ms/step - accuracy: 0.9869 - loss: 0.1905 - val_accuracy: 0.9377 - val_loss: 0.3955\n",
            "Epoch 16/20\n",
            "\u001b[1m16/16\u001b[0m \u001b[32m━━━━━━━━━━━━━━━━━━━━\u001b[0m\u001b[37m\u001b[0m \u001b[1m0s\u001b[0m 12ms/step - accuracy: 0.9869 - loss: 0.1407 - val_accuracy: 0.8635 - val_loss: 0.4855\n",
            "Epoch 17/20\n",
            "\u001b[1m16/16\u001b[0m \u001b[32m━━━━━━━━━━━━━━━━━━━━\u001b[0m\u001b[37m\u001b[0m \u001b[1m0s\u001b[0m 12ms/step - accuracy: 0.9932 - loss: 0.0927 - val_accuracy: 0.9199 - val_loss: 0.3489\n",
            "Epoch 18/20\n",
            "\u001b[1m16/16\u001b[0m \u001b[32m━━━━━━━━━━━━━━━━━━━━\u001b[0m\u001b[37m\u001b[0m \u001b[1m0s\u001b[0m 12ms/step - accuracy: 0.9987 - loss: 0.0575 - val_accuracy: 0.9036 - val_loss: 0.3577\n",
            "Epoch 19/20\n",
            "\u001b[1m16/16\u001b[0m \u001b[32m━━━━━━━━━━━━━━━━━━━━\u001b[0m\u001b[37m\u001b[0m \u001b[1m0s\u001b[0m 12ms/step - accuracy: 0.9967 - loss: 0.0555 - val_accuracy: 0.8976 - val_loss: 0.3774\n",
            "Epoch 20/20\n",
            "\u001b[1m16/16\u001b[0m \u001b[32m━━━━━━━━━━━━━━━━━━━━\u001b[0m\u001b[37m\u001b[0m \u001b[1m0s\u001b[0m 12ms/step - accuracy: 0.9992 - loss: 0.0387 - val_accuracy: 0.8991 - val_loss: 0.3430\n"
          ]
        }
      ]
    },
    {
      "cell_type": "code",
      "source": [
        "def inv_Transform_result(y_pred):\n",
        "    y_pred = y_pred.argmax(axis=1)\n",
        "    y_pred = encoder.inverse_transform(y_pred)\n",
        "    return y_pred\n",
        "\n",
        "\n",
        "\n",
        "y_pred=cnn_model.predict([X_test,X_test,X_test])\n",
        "\n",
        "\n",
        "Y_pred=inv_Transform_result(y_pred)\n",
        "Y_test = inv_Transform_result(y_test)\n",
        "\n",
        "\n",
        "\n",
        "\n",
        "from sklearn.metrics import confusion_matrix\n",
        "\n",
        "\n",
        "plt.figure(figsize=(10,10))\n",
        "cm = confusion_matrix(Y_test, Y_pred,normalize='true')\n",
        "f = sns.heatmap(cm, annot=True,xticklabels=encoder.classes_,yticklabels=encoder.classes_)"
      ],
      "metadata": {
        "colab": {
          "base_uri": "https://localhost:8080/",
          "height": 961
        },
        "id": "pbBmkBjlM5ks",
        "outputId": "35caf11c-4d08-45af-f181-4889b0754d80"
      },
      "id": "pbBmkBjlM5ks",
      "execution_count": 124,
      "outputs": [
        {
          "output_type": "stream",
          "name": "stdout",
          "text": [
            "\u001b[1m22/22\u001b[0m \u001b[32m━━━━━━━━━━━━━━━━━━━━\u001b[0m\u001b[37m\u001b[0m \u001b[1m1s\u001b[0m 23ms/step\n"
          ]
        },
        {
          "output_type": "display_data",
          "data": {
            "text/plain": [
              "<Figure size 1000x1000 with 2 Axes>"
            ],
            "image/png": "[encoded data removed]"
          },
          "metadata": {}
        }
      ]
    },
    {
      "cell_type": "code",
      "source": [
        "dummy_cnn = Model(inputs=cnn_model.input,outputs=cnn_model.layers[16].output)\n",
        "y_viz = dummy_cnn.predict([X_train,X_train,X_train])"
      ],
      "metadata": {
        "colab": {
          "base_uri": "https://localhost:8080/"
        },
        "id": "3tgRx2TxM-GS",
        "outputId": "7055ca30-7361-40a7-b57c-a44c51230a87"
      },
      "id": "3tgRx2TxM-GS",
      "execution_count": 125,
      "outputs": [
        {
          "output_type": "stream",
          "name": "stdout",
          "text": [
            "\u001b[1m50/50\u001b[0m \u001b[32m━━━━━━━━━━━━━━━━━━━━\u001b[0m\u001b[37m\u001b[0m \u001b[1m1s\u001b[0m 10ms/step\n"
          ]
        }
      ]
    },
    {
      "cell_type": "code",
      "source": [
        "import pandas as pd\n",
        "import seaborn as sns\n",
        "import matplotlib.pyplot as plt\n",
        "from sklearn.manifold import TSNE\n",
        "\n",
        "# Apply t-SNE transformation\n",
        "X_t_sne = TSNE(\n",
        "    n_components=2,\n",
        "    learning_rate='auto',\n",
        "    verbose=2,  # Increase verbosity for more detailed feedback\n",
        "    perplexity=40,\n",
        "    n_iter=500  # Slightly increased number of iterations for convergence\n",
        ").fit_transform(y_viz)\n",
        "\n",
        "# Create DataFrame for t-SNE components\n",
        "tSNEdf = pd.DataFrame(data=X_t_sne, columns=['T-SNE component 1', 'T-SNE component 2'])\n",
        "\n",
        "# Assuming `inv_Transform_result` transforms `y_train` to get the Fault labels\n",
        "tSNEdf['Fault'] = inv_Transform_result(y_train)\n",
        "\n",
        "# Save the t-SNE DataFrame as a CSV file\n",
        "tSNEdf.to_csv('/content/drive/MyDrive/MK DCNN TRIAX/NOISE_0_tSNE_results.csv', index=True)\n",
        "print(\"t-SNE results saved as '/content/drive/MyDrive/MK DCNN TRIAX/NOISE_0_tSNE_results.csv'.\")\n",
        "\n",
        "# # Plot the t-SNE results with Fault as hue\n",
        "# plt.figure(figsize=(12, 12))  # Larger figure for clarity\n",
        "# sns.scatterplot(\n",
        "#     x='T-SNE component 1',\n",
        "#     y='T-SNE component 2',\n",
        "#     hue='Fault',\n",
        "#     palette=sns.color_palette(\"husl\", as_cmap=False),  # Vivid color palette\n",
        "#     data=tSNEdf,\n",
        "#     legend=\"full\",\n",
        "#     alpha=0.7,  # Increased transparency for better overlap clarity\n",
        "#     s=100  # Larger marker size\n",
        "# )\n",
        "\n",
        "# # Add gridlines for better visualization\n",
        "# plt.grid\n",
        "\n",
        "\n",
        "# Optional: Visualization of t-SNE representation\n",
        "plt.figure(figsize=(8, 6))\n",
        "for label in tSNEdf['Fault'].unique():\n",
        "    subset = tSNEdf[tSNEdf['Fault'] == label]\n",
        "    plt.scatter(subset['T-SNE component 1'], subset['T-SNE component 2'], label=f'Fault {label}', alpha=0.7)\n",
        "\n",
        "plt.title('t-SNE Representation of Motor Fault Dataset')\n",
        "plt.xlabel('t-SNE 1')\n",
        "plt.ylabel('t-SNE 2')\n",
        "plt.legend()\n",
        "plt.show()"
      ],
      "metadata": {
        "colab": {
          "base_uri": "https://localhost:8080/",
          "height": 970
        },
        "id": "uic9AVV2NBah",
        "outputId": "793e4f1f-a2b0-44dc-8313-7bc026f895fd"
      },
      "id": "uic9AVV2NBah",
      "execution_count": 126,
      "outputs": [
        {
          "output_type": "stream",
          "name": "stdout",
          "text": [
            "[t-SNE] Computing 121 nearest neighbors...\n",
            "[t-SNE] Indexed 1572 samples in 0.001s...\n",
            "[t-SNE] Computed neighbors for 1572 samples in 0.065s...\n",
            "[t-SNE] Computed conditional probabilities for sample 1000 / 1572\n",
            "[t-SNE] Computed conditional probabilities for sample 1572 / 1572\n",
            "[t-SNE] Mean sigma: 0.903354\n",
            "[t-SNE] Computed conditional probabilities in 0.054s\n"
          ]
        },
        {
          "output_type": "stream",
          "name": "stderr",
          "text": [
            "/usr/local/lib/python3.11/dist-packages/sklearn/manifold/_t_sne.py:1164: FutureWarning: 'n_iter' was renamed to 'max_iter' in version 1.5 and will be removed in 1.7.\n",
            "  warnings.warn(\n"
          ]
        },
        {
          "output_type": "stream",
          "name": "stdout",
          "text": [
            "[t-SNE] Iteration 50: error = 56.9434776, gradient norm = 0.0422008 (50 iterations in 0.596s)\n",
            "[t-SNE] Iteration 100: error = 52.2692261, gradient norm = 0.0143748 (50 iterations in 0.410s)\n",
            "[t-SNE] Iteration 150: error = 51.1498680, gradient norm = 0.0097256 (50 iterations in 0.407s)\n",
            "[t-SNE] Iteration 200: error = 50.6211929, gradient norm = 0.0067303 (50 iterations in 0.399s)\n",
            "[t-SNE] Iteration 250: error = 50.3030701, gradient norm = 0.0050958 (50 iterations in 0.405s)\n",
            "[t-SNE] KL divergence after 250 iterations with early exaggeration: 50.303070\n",
            "[t-SNE] Iteration 300: error = 0.9214858, gradient norm = 0.0159388 (50 iterations in 0.424s)\n",
            "[t-SNE] Iteration 350: error = 0.6763192, gradient norm = 0.0141516 (50 iterations in 0.434s)\n",
            "[t-SNE] Iteration 400: error = 0.5761843, gradient norm = 0.0120498 (50 iterations in 0.617s)\n",
            "[t-SNE] Iteration 450: error = 0.5270076, gradient norm = 0.0109440 (50 iterations in 0.649s)\n",
            "[t-SNE] Iteration 500: error = 0.4959801, gradient norm = 0.0086905 (50 iterations in 0.641s)\n",
            "[t-SNE] KL divergence after 500 iterations: 0.495980\n",
            "t-SNE results saved as '/content/drive/MyDrive/MK DCNN TRIAX/NOISE_0_tSNE_results.csv'.\n"
          ]
        },
        {
          "output_type": "display_data",
          "data": {
            "text/plain": [
              "<Figure size 800x600 with 1 Axes>"
            ],
            "image/png": "[encoded data removed]"
          },
          "metadata": {}
        }
      ]
    },
    {
      "cell_type": "markdown",
      "source": [
        "Statistical Features"
      ],
      "metadata": {
        "id": "PRuXPOIH6cTH"
      },
      "id": "PRuXPOIH6cTH"
    },
    {
      "cell_type": "code",
      "source": [
        "import numpy as np\n",
        "from scipy.stats import skew, kurtosis\n",
        "import pandas as pd\n",
        "import matplotlib.pyplot as plt\n",
        "\n",
        "# Total target rows\n",
        "TARGET_ROWS = 1800\n",
        "\n",
        "# Estimate the total number of samples across all fault types\n",
        "total_samples = sum(len(df[df['fault'] == f]) for f in df['fault'].unique())\n",
        "\n",
        "# Calculate suitable window size and stride\n",
        "num_faults = 9\n",
        "average_samples_per_fault = total_samples / num_faults\n",
        "approx_windows_per_fault = TARGET_ROWS / num_faults\n",
        "stride_ratio = 0.8  # Initial stride/window ratio\n",
        "\n",
        "WINDOW_SIZE = int(average_samples_per_fault / approx_windows_per_fault)\n",
        "STRIDE = int(WINDOW_SIZE * stride_ratio)\n",
        "\n",
        "print(f\"Calculated WINDOW_SIZE: {WINDOW_SIZE}, STRIDE: {STRIDE}\")\n",
        "\n",
        "# Initialize a list to store statistical features\n",
        "statistical_features = []\n",
        "\n",
        "# Loop through each fault type\n",
        "for f in df['fault'].unique():\n",
        "    # Extract data for the current fault type\n",
        "    fault_data = df[df['fault'] == f].iloc[:, 0].values  # Convert to NumPy array for efficiency\n",
        "\n",
        "    # Compute windows using sliding window approach\n",
        "    num_windows = (len(fault_data) - WINDOW_SIZE) // STRIDE + 1\n",
        "    for i in range(num_windows):\n",
        "        start = i * STRIDE\n",
        "        end = start + WINDOW_SIZE\n",
        "        window = fault_data[start:end]\n",
        "\n",
        "        # Convert window to a numeric type\n",
        "        window = window.astype(float)\n",
        "\n",
        "        # Compute statistical features for the current window\n",
        "        mean_val = np.mean(window)\n",
        "        std_val = np.std(window)\n",
        "        rms_val = np.sqrt(np.mean(np.square(window)))\n",
        "        max_val = np.max(window)\n",
        "        min_val = np.min(window)\n",
        "        skewness_val = skew(window)\n",
        "        kurtosis_val = kurtosis(window)\n",
        "\n",
        "        # Additional statistical features\n",
        "        mean_abs_val = np.mean(np.abs(window))\n",
        "        form_factor = rms_val / mean_abs_val if mean_abs_val != 0 else 0\n",
        "        crest_factor = max_val / rms_val if rms_val != 0 else 0\n",
        "\n",
        "        # Store the features in a dictionary\n",
        "        statistical_features.append({\n",
        "            'fault': f,\n",
        "            'window': i + 1,\n",
        "            'mean': mean_val,\n",
        "            'std': std_val,\n",
        "            'rms': rms_val,\n",
        "            'max': max_val,\n",
        "            'min': min_val,\n",
        "            'skewness': skewness_val,\n",
        "            'kurtosis': kurtosis_val,\n",
        "            'form_factor': form_factor,\n",
        "            'crest_factor': crest_factor\n",
        "        })\n",
        "\n",
        "# Convert statistical features into a DataFrame\n",
        "stat_features_df = pd.DataFrame(statistical_features)\n",
        "\n",
        "# Display the extracted features and count of rows\n",
        "print(f\"Extracted {len(stat_features_df)} rows (target: {TARGET_ROWS})\")\n",
        "print(stat_features_df)\n",
        "\n",
        "# Save the extracted features to a CSV file\n",
        "output_file = \"/content/drive/MyDrive/MK DCNN TRIAX/NOISE_0_statistical_features_with_form_and_crest_factors.csv\"\n",
        "stat_features_df.to_csv(output_file, index=False)\n",
        "print(f\"Statistical features saved to '{output_file}'.\")"
      ],
      "metadata": {
        "colab": {
          "base_uri": "https://localhost:8080/"
        },
        "id": "HRTIq9cYQgjC",
        "outputId": "100856d9-2021-4491-aec5-938291272d54"
      },
      "id": "HRTIq9cYQgjC",
      "execution_count": 127,
      "outputs": [
        {
          "output_type": "stream",
          "name": "stdout",
          "text": [
            "Calculated WINDOW_SIZE: 614, STRIDE: 491\n",
            "Extracted 2246 rows (target: 1800)\n",
            "               fault  window      mean       std       rms     max     min  \\\n",
            "0      F1_IR007_100W       1 -0.046581  0.485529  0.487758  1.1617 -1.6719   \n",
            "1      F1_IR007_100W       2 -0.045071  0.479804  0.481916  1.1214 -1.6337   \n",
            "2      F1_IR007_100W       3 -0.048165  0.474215  0.476655  1.2703 -1.6299   \n",
            "3      F1_IR007_100W       4 -0.050829  0.458664  0.461472  1.2703 -1.6382   \n",
            "4      F1_IR007_100W       5 -0.058301  0.452344  0.456086  1.3658 -1.6382   \n",
            "...              ...     ...       ...       ...       ...     ...     ...   \n",
            "2241  F8_Normal_100W     237 -0.034661  0.076007  0.083537  0.1628 -0.2241   \n",
            "2242  F8_Normal_100W     238 -0.031999  0.078202  0.084495  0.1810 -0.2624   \n",
            "2243  F8_Normal_100W     239 -0.030353  0.077867  0.083574  0.1810 -0.2156   \n",
            "2244  F8_Normal_100W     240 -0.032256  0.079423  0.085723  0.2020 -0.2493   \n",
            "2245  F8_Normal_100W     241 -0.034193  0.079166  0.086235  0.1980 -0.2274   \n",
            "\n",
            "      skewness  kurtosis  form_factor  crest_factor  \n",
            "0    -0.589883  0.164247     1.291804      2.381714  \n",
            "1    -0.717822  0.211221     1.301895      2.326962  \n",
            "2    -0.633352  0.577461     1.324641      2.665032  \n",
            "3    -0.548642  0.542178     1.316514      2.752716  \n",
            "4    -0.241606  0.431008     1.294460      2.994610  \n",
            "...        ...       ...          ...           ...  \n",
            "2241  0.073177 -0.196406     1.228296      1.948829  \n",
            "2242  0.161640 -0.373521     1.216413      2.142135  \n",
            "2243  0.218863 -0.372386     1.208701      2.165755  \n",
            "2244  0.144901 -0.008836     1.243618      2.356428  \n",
            "2245  0.149637 -0.180132     1.228070      2.296060  \n",
            "\n",
            "[2246 rows x 11 columns]\n",
            "Statistical features saved to '/content/drive/MyDrive/MK DCNN TRIAX/NOISE_0_statistical_features_with_form_and_crest_factors.csv'.\n"
          ]
        }
      ]
    },
    {
      "cell_type": "code",
      "source": [
        "import pandas as pd\n",
        "from sklearn.utils import resample\n",
        "\n",
        "# Load your dataset (replace 'your_dataset.csv' with your actual file)\n",
        "df = pd.read_csv('/content/drive/MyDrive/MK DCNN TRIAX/NOISE_0_statistical_features_with_form_and_crest_factors.csv')\n",
        "\n",
        "# Display initial class distribution\n",
        "print(\"Initial class distribution:\")\n",
        "print(df['fault'].value_counts())\n",
        "\n",
        "# Target size for undersampling/resampling\n",
        "TARGET_ROWS = 1570\n",
        "\n",
        "# Separate all fault types\n",
        "fault_classes = df['fault'].value_counts()\n",
        "\n",
        "# Determine the number of classes\n",
        "num_classes = len(fault_classes)\n",
        "\n",
        "# Calculate how many samples to take from each class\n",
        "samples_per_class = TARGET_ROWS // num_classes\n",
        "\n",
        "# Initialize a list to store resampled data\n",
        "resampled_data = []\n",
        "\n",
        "# Loop over each class to resample them\n",
        "for fault_class in fault_classes.index:\n",
        "    class_data = df[df['fault'] == fault_class]\n",
        "    if len(class_data) > samples_per_class:\n",
        "        # Undersample\n",
        "        class_data_resampled = resample(class_data, replace=False, n_samples=samples_per_class, random_state=42)\n",
        "    else:\n",
        "        # Upsample\n",
        "        class_data_resampled = resample(class_data, replace=True, n_samples=samples_per_class, random_state=42)\n",
        "\n",
        "    resampled_data.append(class_data_resampled)\n",
        "\n",
        "# Concatenate the resampled data into a single DataFrame\n",
        "balanced_df = pd.concat(resampled_data)\n",
        "\n",
        "# Check if we have the exact number of rows\n",
        "current_rows = len(balanced_df)\n",
        "print(f\"Current rows after equal resampling: {current_rows}\")\n",
        "\n",
        "# If the current rows don't match the target rows, adjust by trimming or adding rows\n",
        "if current_rows > TARGET_ROWS:\n",
        "    # Trim extra rows (if more than target)\n",
        "    balanced_df = balanced_df.head(TARGET_ROWS)\n",
        "elif current_rows < TARGET_ROWS:\n",
        "    # Add rows if fewer than target, by sampling from existing data\n",
        "    remaining_rows = TARGET_ROWS - current_rows\n",
        "    additional_data = balanced_df.sample(n=remaining_rows, replace=True, random_state=42)\n",
        "    balanced_df = pd.concat([balanced_df, additional_data])\n",
        "\n",
        "# Shuffle the final dataset\n",
        "balanced_df = balanced_df.sample(frac=1, random_state=42).reset_index(drop=True)\n",
        "\n",
        "# Display new class distribution\n",
        "print(\"New class distribution:\")\n",
        "print(balanced_df['fault'].value_counts())\n",
        "\n",
        "# Display final row count\n",
        "print(f\"Final row count: {len(balanced_df)}\")\n",
        "\n",
        "# Save the balanced dataset to a CSV file\n",
        "balanced_df.to_csv(\"/content/drive/MyDrive/MK DCNN TRIAX/NOISE_0_balanced_dataset_equal_resampling_exact_1570.csv\", index=False)\n",
        "print(\"Balanced dataset saved as '/content/drive/MyDrive/MK DCNN TRIAX/NOISE_0_balanced_dataset_equal_resampling_exact_1570.csv'\")\n"
      ],
      "metadata": {
        "id": "0-DLTbJL0tc6",
        "colab": {
          "base_uri": "https://localhost:8080/"
        },
        "outputId": "50e2bf3b-1213-40f4-8a20-658c2cd91764"
      },
      "id": "0-DLTbJL0tc6",
      "execution_count": 128,
      "outputs": [
        {
          "output_type": "stream",
          "name": "stdout",
          "text": [
            "Initial class distribution:\n",
            "fault\n",
            "F2_IR009_100W     310\n",
            "F1_IR007_100W     291\n",
            "F3_IR013_100W     291\n",
            "F5_OR009_100W     286\n",
            "F4_IR017_100W     281\n",
            "F7_OR017_100W     277\n",
            "F6_OR013_100W     269\n",
            "F8_Normal_100W    241\n",
            "Name: count, dtype: int64\n",
            "Current rows after equal resampling: 1568\n",
            "New class distribution:\n",
            "fault\n",
            "F8_Normal_100W    197\n",
            "F7_OR017_100W     197\n",
            "F3_IR013_100W     196\n",
            "F4_IR017_100W     196\n",
            "F2_IR009_100W     196\n",
            "F1_IR007_100W     196\n",
            "F5_OR009_100W     196\n",
            "F6_OR013_100W     196\n",
            "Name: count, dtype: int64\n",
            "Final row count: 1570\n",
            "Balanced dataset saved as '/content/drive/MyDrive/MK DCNN TRIAX/NOISE_0_balanced_dataset_equal_resampling_exact_1570.csv'\n"
          ]
        }
      ]
    },
    {
      "cell_type": "code",
      "source": [
        "balanced_df.shape"
      ],
      "metadata": {
        "id": "NQ3f_WOt7Dld",
        "colab": {
          "base_uri": "https://localhost:8080/"
        },
        "outputId": "8f10ae68-4c6e-4379-ad78-a6ebaed58889"
      },
      "id": "NQ3f_WOt7Dld",
      "execution_count": 129,
      "outputs": [
        {
          "output_type": "execute_result",
          "data": {
            "text/plain": [
              "(1570, 11)"
            ]
          },
          "metadata": {},
          "execution_count": 129
        }
      ]
    },
    {
      "cell_type": "code",
      "source": [
        "balanced_df=balanced_df.sort_values(by='fault')"
      ],
      "metadata": {
        "id": "JP_zDzu6_Zkt"
      },
      "id": "JP_zDzu6_Zkt",
      "execution_count": 130,
      "outputs": []
    },
    {
      "cell_type": "code",
      "source": [
        "balanced_df"
      ],
      "metadata": {
        "id": "eq6MhY1CAvgD",
        "colab": {
          "base_uri": "https://localhost:8080/",
          "height": 423
        },
        "outputId": "47270fba-4186-406f-eed3-a7b404128c9e"
      },
      "id": "eq6MhY1CAvgD",
      "execution_count": 131,
      "outputs": [
        {
          "output_type": "execute_result",
          "data": {
            "text/plain": [
              "               fault  window      mean       std       rms     max     min  \\\n",
              "1220   F1_IR007_100W     120 -0.052678  0.446282  0.449380  1.3909 -1.3762   \n",
              "1358   F1_IR007_100W     227 -0.021342  0.436472  0.436994  1.5834 -1.2266   \n",
              "1511   F1_IR007_100W      31 -0.039718  0.455725  0.457453  1.3496 -1.4497   \n",
              "714    F1_IR007_100W     101 -0.055891  0.442445  0.445962  1.4185 -1.2281   \n",
              "710    F1_IR007_100W     174 -0.055893  0.429799  0.433418  1.1926 -1.3136   \n",
              "...              ...     ...       ...       ...       ...     ...     ...   \n",
              "1376  F8_Normal_100W     228 -0.036189  0.080373  0.088145  0.2277 -0.2373   \n",
              "663   F8_Normal_100W     225 -0.034162  0.081456  0.088330  0.1866 -0.2244   \n",
              "660   F8_Normal_100W      81 -0.031458  0.075856  0.082121  0.2172 -0.2300   \n",
              "421   F8_Normal_100W     220 -0.029965  0.077292  0.082898  0.1732 -0.2042   \n",
              "0     F8_Normal_100W     160 -0.035638  0.075355  0.083358  0.2120 -0.2171   \n",
              "\n",
              "      skewness  kurtosis  form_factor  crest_factor  \n",
              "1220  0.011334  0.122564     1.262388      3.095150  \n",
              "1358  0.202876  0.073287     1.238257      3.623393  \n",
              "1511  0.020159  0.031912     1.245652      2.950250  \n",
              "714   0.057374  0.069832     1.259370      3.180767  \n",
              "710   0.002331 -0.163883     1.244514      2.751616  \n",
              "...        ...       ...          ...           ...  \n",
              "1376  0.042807 -0.108428     1.247545      2.583244  \n",
              "663   0.017451 -0.565571     1.221653      2.112536  \n",
              "660   0.165824 -0.374555     1.207042      2.644892  \n",
              "421   0.162483 -0.443879     1.225486      2.089326  \n",
              "0     0.353922  0.063996     1.224600      2.543255  \n",
              "\n",
              "[1570 rows x 11 columns]"
            ],
            "text/html": [
              "\n",
              "  <div id=\"df-04b667a2-3a14-43ed-b0d5-c7a9838ce259\" class=\"colab-df-container\">\n",
              "    <div>\n",
              "<style scoped>\n",
              "    .dataframe tbody tr th:only-of-type {\n",
              "        vertical-align: middle;\n",
              "    }\n",
              "\n",
              "    .dataframe tbody tr th {\n",
              "        vertical-align: top;\n",
              "    }\n",
              "\n",
              "    .dataframe thead th {\n",
              "        text-align: right;\n",
              "    }\n",
              "</style>\n",
              "<table border=\"1\" class=\"dataframe\">\n",
              "  <thead>\n",
              "    <tr style=\"text-align: right;\">\n",
              "      <th></th>\n",
              "      <th>fault</th>\n",
              "      <th>window</th>\n",
              "      <th>mean</th>\n",
              "      <th>std</th>\n",
              "      <th>rms</th>\n",
              "      <th>max</th>\n",
              "      <th>min</th>\n",
              "      <th>skewness</th>\n",
              "      <th>kurtosis</th>\n",
              "      <th>form_factor</th>\n",
              "      <th>crest_factor</th>\n",
              "    </tr>\n",
              "  </thead>\n",
              "  <tbody>\n",
              "    <tr>\n",
              "      <th>1220</th>\n",
              "      <td>F1_IR007_100W</td>\n",
              "      <td>120</td>\n",
              "      <td>-0.052678</td>\n",
              "      <td>0.446282</td>\n",
              "      <td>0.449380</td>\n",
              "      <td>1.3909</td>\n",
              "      <td>-1.3762</td>\n",
              "      <td>0.011334</td>\n",
              "      <td>0.122564</td>\n",
              "      <td>1.262388</td>\n",
              "      <td>3.095150</td>\n",
              "    </tr>\n",
              "    <tr>\n",
              "      <th>1358</th>\n",
              "      <td>F1_IR007_100W</td>\n",
              "      <td>227</td>\n",
              "      <td>-0.021342</td>\n",
              "      <td>0.436472</td>\n",
              "      <td>0.436994</td>\n",
              "      <td>1.5834</td>\n",
              "      <td>-1.2266</td>\n",
              "      <td>0.202876</td>\n",
              "      <td>0.073287</td>\n",
              "      <td>1.238257</td>\n",
              "      <td>3.623393</td>\n",
              "    </tr>\n",
              "    <tr>\n",
              "      <th>1511</th>\n",
              "      <td>F1_IR007_100W</td>\n",
              "      <td>31</td>\n",
              "      <td>-0.039718</td>\n",
              "      <td>0.455725</td>\n",
              "      <td>0.457453</td>\n",
              "      <td>1.3496</td>\n",
              "      <td>-1.4497</td>\n",
              "      <td>0.020159</td>\n",
              "      <td>0.031912</td>\n",
              "      <td>1.245652</td>\n",
              "      <td>2.950250</td>\n",
              "    </tr>\n",
              "    <tr>\n",
              "      <th>714</th>\n",
              "      <td>F1_IR007_100W</td>\n",
              "      <td>101</td>\n",
              "      <td>-0.055891</td>\n",
              "      <td>0.442445</td>\n",
              "      <td>0.445962</td>\n",
              "      <td>1.4185</td>\n",
              "      <td>-1.2281</td>\n",
              "      <td>0.057374</td>\n",
              "      <td>0.069832</td>\n",
              "      <td>1.259370</td>\n",
              "      <td>3.180767</td>\n",
              "    </tr>\n",
              "    <tr>\n",
              "      <th>710</th>\n",
              "      <td>F1_IR007_100W</td>\n",
              "      <td>174</td>\n",
              "      <td>-0.055893</td>\n",
              "      <td>0.429799</td>\n",
              "      <td>0.433418</td>\n",
              "      <td>1.1926</td>\n",
              "      <td>-1.3136</td>\n",
              "      <td>0.002331</td>\n",
              "      <td>-0.163883</td>\n",
              "      <td>1.244514</td>\n",
              "      <td>2.751616</td>\n",
              "    </tr>\n",
              "    <tr>\n",
              "      <th>...</th>\n",
              "      <td>...</td>\n",
              "      <td>...</td>\n",
              "      <td>...</td>\n",
              "      <td>...</td>\n",
              "      <td>...</td>\n",
              "      <td>...</td>\n",
              "      <td>...</td>\n",
              "      <td>...</td>\n",
              "      <td>...</td>\n",
              "      <td>...</td>\n",
              "      <td>...</td>\n",
              "    </tr>\n",
              "    <tr>\n",
              "      <th>1376</th>\n",
              "      <td>F8_Normal_100W</td>\n",
              "      <td>228</td>\n",
              "      <td>-0.036189</td>\n",
              "      <td>0.080373</td>\n",
              "      <td>0.088145</td>\n",
              "      <td>0.2277</td>\n",
              "      <td>-0.2373</td>\n",
              "      <td>0.042807</td>\n",
              "      <td>-0.108428</td>\n",
              "      <td>1.247545</td>\n",
              "      <td>2.583244</td>\n",
              "    </tr>\n",
              "    <tr>\n",
              "      <th>663</th>\n",
              "      <td>F8_Normal_100W</td>\n",
              "      <td>225</td>\n",
              "      <td>-0.034162</td>\n",
              "      <td>0.081456</td>\n",
              "      <td>0.088330</td>\n",
              "      <td>0.1866</td>\n",
              "      <td>-0.2244</td>\n",
              "      <td>0.017451</td>\n",
              "      <td>-0.565571</td>\n",
              "      <td>1.221653</td>\n",
              "      <td>2.112536</td>\n",
              "    </tr>\n",
              "    <tr>\n",
              "      <th>660</th>\n",
              "      <td>F8_Normal_100W</td>\n",
              "      <td>81</td>\n",
              "      <td>-0.031458</td>\n",
              "      <td>0.075856</td>\n",
              "      <td>0.082121</td>\n",
              "      <td>0.2172</td>\n",
              "      <td>-0.2300</td>\n",
              "      <td>0.165824</td>\n",
              "      <td>-0.374555</td>\n",
              "      <td>1.207042</td>\n",
              "      <td>2.644892</td>\n",
              "    </tr>\n",
              "    <tr>\n",
              "      <th>421</th>\n",
              "      <td>F8_Normal_100W</td>\n",
              "      <td>220</td>\n",
              "      <td>-0.029965</td>\n",
              "      <td>0.077292</td>\n",
              "      <td>0.082898</td>\n",
              "      <td>0.1732</td>\n",
              "      <td>-0.2042</td>\n",
              "      <td>0.162483</td>\n",
              "      <td>-0.443879</td>\n",
              "      <td>1.225486</td>\n",
              "      <td>2.089326</td>\n",
              "    </tr>\n",
              "    <tr>\n",
              "      <th>0</th>\n",
              "      <td>F8_Normal_100W</td>\n",
              "      <td>160</td>\n",
              "      <td>-0.035638</td>\n",
              "      <td>0.075355</td>\n",
              "      <td>0.083358</td>\n",
              "      <td>0.2120</td>\n",
              "      <td>-0.2171</td>\n",
              "      <td>0.353922</td>\n",
              "      <td>0.063996</td>\n",
              "      <td>1.224600</td>\n",
              "      <td>2.543255</td>\n",
              "    </tr>\n",
              "  </tbody>\n",
              "</table>\n",
              "<p>1570 rows × 11 columns</p>\n",
              "</div>\n",
              "    <div class=\"colab-df-buttons\">\n",
              "\n",
              "  <div class=\"colab-df-container\">\n",
              "    <button class=\"colab-df-convert\" onclick=\"convertToInteractive('df-04b667a2-3a14-43ed-b0d5-c7a9838ce259')\"\n",
              "            title=\"Convert this dataframe to an interactive table.\"\n",
              "            style=\"display:none;\">\n",
              "\n",
              "  <svg xmlns=\"http://www.w3.org/2000/svg\" height=\"24px\" viewBox=\"0 -960 960 960\">\n",
              "    <path d=\"M120-120v-720h720v720H120Zm60-500h600v-160H180v160Zm220 220h160v-160H400v160Zm0 220h160v-160H400v160ZM180-400h160v-160H180v160Zm440 0h160v-160H620v160ZM180-180h160v-160H180v160Zm440 0h160v-160H620v160Z\"/>\n",
              "  </svg>\n",
              "    </button>\n",
              "\n",
              "  <style>\n",
              "    .colab-df-container {\n",
              "      display:flex;\n",
              "      gap: 12px;\n",
              "    }\n",
              "\n",
              "    .colab-df-convert {\n",
              "      background-color: #E8F0FE;\n",
              "      border: none;\n",
              "      border-radius: 50%;\n",
              "      cursor: pointer;\n",
              "      display: none;\n",
              "      fill: #1967D2;\n",
              "      height: 32px;\n",
              "      padding: 0 0 0 0;\n",
              "      width: 32px;\n",
              "    }\n",
              "\n",
              "    .colab-df-convert:hover {\n",
              "      background-color: #E2EBFA;\n",
              "      box-shadow: 0px 1px 2px rgba(60, 64, 67, 0.3), 0px 1px 3px 1px rgba(60, 64, 67, 0.15);\n",
              "      fill: #174EA6;\n",
              "    }\n",
              "\n",
              "    .colab-df-buttons div {\n",
              "      margin-bottom: 4px;\n",
              "    }\n",
              "\n",
              "    [theme=dark] .colab-df-convert {\n",
              "      background-color: #3B4455;\n",
              "      fill: #D2E3FC;\n",
              "    }\n",
              "\n",
              "    [theme=dark] .colab-df-convert:hover {\n",
              "      background-color: #434B5C;\n",
              "      box-shadow: 0px 1px 3px 1px rgba(0, 0, 0, 0.15);\n",
              "      filter: drop-shadow(0px 1px 2px rgba(0, 0, 0, 0.3));\n",
              "      fill: #FFFFFF;\n",
              "    }\n",
              "  </style>\n",
              "\n",
              "    <script>\n",
              "      const buttonEl =\n",
              "        document.querySelector('#df-04b667a2-3a14-43ed-b0d5-c7a9838ce259 button.colab-df-convert');\n",
              "      buttonEl.style.display =\n",
              "        google.colab.kernel.accessAllowed ? 'block' : 'none';\n",
              "\n",
              "      async function convertToInteractive(key) {\n",
              "        const element = document.querySelector('#df-04b667a2-3a14-43ed-b0d5-c7a9838ce259');\n",
              "        const dataTable =\n",
              "          await google.colab.kernel.invokeFunction('convertToInteractive',\n",
              "                                                    [key], {});\n",
              "        if (!dataTable) return;\n",
              "\n",
              "        const docLinkHtml = 'Like what you see? Visit the ' +\n",
              "          '<a target=\"_blank\" href=https://colab.research.google.com/notebooks/data_table.ipynb>data table notebook</a>'\n",
              "          + ' to learn more about interactive tables.';\n",
              "        element.innerHTML = '';\n",
              "        dataTable['output_type'] = 'display_data';\n",
              "        await google.colab.output.renderOutput(dataTable, element);\n",
              "        const docLink = document.createElement('div');\n",
              "        docLink.innerHTML = docLinkHtml;\n",
              "        element.appendChild(docLink);\n",
              "      }\n",
              "    </script>\n",
              "  </div>\n",
              "\n",
              "\n",
              "    <div id=\"df-4e644cb4-337f-4d16-8cf6-eee19afd931a\">\n",
              "      <button class=\"colab-df-quickchart\" onclick=\"quickchart('df-4e644cb4-337f-4d16-8cf6-eee19afd931a')\"\n",
              "                title=\"Suggest charts\"\n",
              "                style=\"display:none;\">\n",
              "\n",
              "<svg xmlns=\"http://www.w3.org/2000/svg\" height=\"24px\"viewBox=\"0 0 24 24\"\n",
              "     width=\"24px\">\n",
              "    <g>\n",
              "        <path d=\"M19 3H5c-1.1 0-2 .9-2 2v14c0 1.1.9 2 2 2h14c1.1 0 2-.9 2-2V5c0-1.1-.9-2-2-2zM9 17H7v-7h2v7zm4 0h-2V7h2v10zm4 0h-2v-4h2v4z\"/>\n",
              "    </g>\n",
              "</svg>\n",
              "      </button>\n",
              "\n",
              "<style>\n",
              "  .colab-df-quickchart {\n",
              "      --bg-color: #E8F0FE;\n",
              "      --fill-color: #1967D2;\n",
              "      --hover-bg-color: #E2EBFA;\n",
              "      --hover-fill-color: #174EA6;\n",
              "      --disabled-fill-color: #AAA;\n",
              "      --disabled-bg-color: #DDD;\n",
              "  }\n",
              "\n",
              "  [theme=dark] .colab-df-quickchart {\n",
              "      --bg-color: #3B4455;\n",
              "      --fill-color: #D2E3FC;\n",
              "      --hover-bg-color: #434B5C;\n",
              "      --hover-fill-color: #FFFFFF;\n",
              "      --disabled-bg-color: #3B4455;\n",
              "      --disabled-fill-color: #666;\n",
              "  }\n",
              "\n",
              "  .colab-df-quickchart {\n",
              "    background-color: var(--bg-color);\n",
              "    border: none;\n",
              "    border-radius: 50%;\n",
              "    cursor: pointer;\n",
              "    display: none;\n",
              "    fill: var(--fill-color);\n",
              "    height: 32px;\n",
              "    padding: 0;\n",
              "    width: 32px;\n",
              "  }\n",
              "\n",
              "  .colab-df-quickchart:hover {\n",
              "    background-color: var(--hover-bg-color);\n",
              "    box-shadow: 0 1px 2px rgba(60, 64, 67, 0.3), 0 1px 3px 1px rgba(60, 64, 67, 0.15);\n",
              "    fill: var(--button-hover-fill-color);\n",
              "  }\n",
              "\n",
              "  .colab-df-quickchart-complete:disabled,\n",
              "  .colab-df-quickchart-complete:disabled:hover {\n",
              "    background-color: var(--disabled-bg-color);\n",
              "    fill: var(--disabled-fill-color);\n",
              "    box-shadow: none;\n",
              "  }\n",
              "\n",
              "  .colab-df-spinner {\n",
              "    border: 2px solid var(--fill-color);\n",
              "    border-color: transparent;\n",
              "    border-bottom-color: var(--fill-color);\n",
              "    animation:\n",
              "      spin 1s steps(1) infinite;\n",
              "  }\n",
              "\n",
              "  @keyframes spin {\n",
              "    0% {\n",
              "      border-color: transparent;\n",
              "      border-bottom-color: var(--fill-color);\n",
              "      border-left-color: var(--fill-color);\n",
              "    }\n",
              "    20% {\n",
              "      border-color: transparent;\n",
              "      border-left-color: var(--fill-color);\n",
              "      border-top-color: var(--fill-color);\n",
              "    }\n",
              "    30% {\n",
              "      border-color: transparent;\n",
              "      border-left-color: var(--fill-color);\n",
              "      border-top-color: var(--fill-color);\n",
              "      border-right-color: var(--fill-color);\n",
              "    }\n",
              "    40% {\n",
              "      border-color: transparent;\n",
              "      border-right-color: var(--fill-color);\n",
              "      border-top-color: var(--fill-color);\n",
              "    }\n",
              "    60% {\n",
              "      border-color: transparent;\n",
              "      border-right-color: var(--fill-color);\n",
              "    }\n",
              "    80% {\n",
              "      border-color: transparent;\n",
              "      border-right-color: var(--fill-color);\n",
              "      border-bottom-color: var(--fill-color);\n",
              "    }\n",
              "    90% {\n",
              "      border-color: transparent;\n",
              "      border-bottom-color: var(--fill-color);\n",
              "    }\n",
              "  }\n",
              "</style>\n",
              "\n",
              "      <script>\n",
              "        async function quickchart(key) {\n",
              "          const quickchartButtonEl =\n",
              "            document.querySelector('#' + key + ' button');\n",
              "          quickchartButtonEl.disabled = true;  // To prevent multiple clicks.\n",
              "          quickchartButtonEl.classList.add('colab-df-spinner');\n",
              "          try {\n",
              "            const charts = await google.colab.kernel.invokeFunction(\n",
              "                'suggestCharts', [key], {});\n",
              "          } catch (error) {\n",
              "            console.error('Error during call to suggestCharts:', error);\n",
              "          }\n",
              "          quickchartButtonEl.classList.remove('colab-df-spinner');\n",
              "          quickchartButtonEl.classList.add('colab-df-quickchart-complete');\n",
              "        }\n",
              "        (() => {\n",
              "          let quickchartButtonEl =\n",
              "            document.querySelector('#df-4e644cb4-337f-4d16-8cf6-eee19afd931a button');\n",
              "          quickchartButtonEl.style.display =\n",
              "            google.colab.kernel.accessAllowed ? 'block' : 'none';\n",
              "        })();\n",
              "      </script>\n",
              "    </div>\n",
              "\n",
              "  <div id=\"id_de0e4405-a156-46ba-bf43-676ecf0b3e22\">\n",
              "    <style>\n",
              "      .colab-df-generate {\n",
              "        background-color: #E8F0FE;\n",
              "        border: none;\n",
              "        border-radius: 50%;\n",
              "        cursor: pointer;\n",
              "        display: none;\n",
              "        fill: #1967D2;\n",
              "        height: 32px;\n",
              "        padding: 0 0 0 0;\n",
              "        width: 32px;\n",
              "      }\n",
              "\n",
              "      .colab-df-generate:hover {\n",
              "        background-color: #E2EBFA;\n",
              "        box-shadow: 0px 1px 2px rgba(60, 64, 67, 0.3), 0px 1px 3px 1px rgba(60, 64, 67, 0.15);\n",
              "        fill: #174EA6;\n",
              "      }\n",
              "\n",
              "      [theme=dark] .colab-df-generate {\n",
              "        background-color: #3B4455;\n",
              "        fill: #D2E3FC;\n",
              "      }\n",
              "\n",
              "      [theme=dark] .colab-df-generate:hover {\n",
              "        background-color: #434B5C;\n",
              "        box-shadow: 0px 1px 3px 1px rgba(0, 0, 0, 0.15);\n",
              "        filter: drop-shadow(0px 1px 2px rgba(0, 0, 0, 0.3));\n",
              "        fill: #FFFFFF;\n",
              "      }\n",
              "    </style>\n",
              "    <button class=\"colab-df-generate\" onclick=\"generateWithVariable('balanced_df')\"\n",
              "            title=\"Generate code using this dataframe.\"\n",
              "            style=\"display:none;\">\n",
              "\n",
              "  <svg xmlns=\"http://www.w3.org/2000/svg\" height=\"24px\"viewBox=\"0 0 24 24\"\n",
              "       width=\"24px\">\n",
              "    <path d=\"M7,19H8.4L18.45,9,17,7.55,7,17.6ZM5,21V16.75L18.45,3.32a2,2,0,0,1,2.83,0l1.4,1.43a1.91,1.91,0,0,1,.58,1.4,1.91,1.91,0,0,1-.58,1.4L9.25,21ZM18.45,9,17,7.55Zm-12,3A5.31,5.31,0,0,0,4.9,8.1,5.31,5.31,0,0,0,1,6.5,5.31,5.31,0,0,0,4.9,4.9,5.31,5.31,0,0,0,6.5,1,5.31,5.31,0,0,0,8.1,4.9,5.31,5.31,0,0,0,12,6.5,5.46,5.46,0,0,0,6.5,12Z\"/>\n",
              "  </svg>\n",
              "    </button>\n",
              "    <script>\n",
              "      (() => {\n",
              "      const buttonEl =\n",
              "        document.querySelector('#id_de0e4405-a156-46ba-bf43-676ecf0b3e22 button.colab-df-generate');\n",
              "      buttonEl.style.display =\n",
              "        google.colab.kernel.accessAllowed ? 'block' : 'none';\n",
              "\n",
              "      buttonEl.onclick = () => {\n",
              "        google.colab.notebook.generateWithVariable('balanced_df');\n",
              "      }\n",
              "      })();\n",
              "    </script>\n",
              "  </div>\n",
              "\n",
              "    </div>\n",
              "  </div>\n"
            ],
            "application/vnd.google.colaboratory.intrinsic+json": {
              "type": "dataframe",
              "variable_name": "balanced_df",
              "summary": "{\n  \"name\": \"balanced_df\",\n  \"rows\": 1570,\n  \"fields\": [\n    {\n      \"column\": \"fault\",\n      \"properties\": {\n        \"dtype\": \"category\",\n        \"num_unique_values\": 8,\n        \"samples\": [\n          \"F2_IR009_100W\",\n          \"F6_OR013_100W\",\n          \"F1_IR007_100W\"\n        ],\n        \"semantic_type\": \"\",\n        \"description\": \"\"\n      }\n    },\n    {\n      \"column\": \"window\",\n      \"properties\": {\n        \"dtype\": \"number\",\n        \"std\": 81,\n        \"min\": 1,\n        \"max\": 308,\n        \"num_unique_values\": 271,\n        \"samples\": [\n          159,\n          148,\n          93\n        ],\n        \"semantic_type\": \"\",\n        \"description\": \"\"\n      }\n    },\n    {\n      \"column\": \"mean\",\n      \"properties\": {\n        \"dtype\": \"number\",\n        \"std\": 0.03127380135940612,\n        \"min\": -0.177157980456026,\n        \"max\": -0.0105921824104234,\n        \"num_unique_values\": 1567,\n        \"samples\": [\n          -0.0850122149837133,\n          -0.1110543973941368,\n          -0.1263302931596091\n        ],\n        \"semantic_type\": \"\",\n        \"description\": \"\"\n      }\n    },\n    {\n      \"column\": \"std\",\n      \"properties\": {\n        \"dtype\": \"number\",\n        \"std\": 0.23510176609980338,\n        \"min\": 0.0658969109295494,\n        \"max\": 1.033366097476614,\n        \"num_unique_values\": 1568,\n        \"samples\": [\n          0.0735357650143556,\n          0.5180400387280407,\n          0.4493253810675711\n        ],\n        \"semantic_type\": \"\",\n        \"description\": \"\"\n      }\n    },\n    {\n      \"column\": \"rms\",\n      \"properties\": {\n        \"dtype\": \"number\",\n        \"std\": 0.2341474864870263,\n        \"min\": 0.0741970147866969,\n        \"max\": 1.0367932850909924,\n        \"num_unique_values\": 1568,\n        \"samples\": [\n          0.0808321261761054,\n          0.5259512987108551,\n          0.4578112397638044\n        ],\n        \"semantic_type\": \"\",\n        \"description\": \"\"\n      }\n    },\n    {\n      \"column\": \"max\",\n      \"properties\": {\n        \"dtype\": \"number\",\n        \"std\": 0.5162831001157356,\n        \"min\": 0.1473,\n        \"max\": 2.048,\n        \"num_unique_values\": 1151,\n        \"samples\": [\n          1.4515,\n          1.5611,\n          1.2556\n        ],\n        \"semantic_type\": \"\",\n        \"description\": \"\"\n      }\n    },\n    {\n      \"column\": \"min\",\n      \"properties\": {\n        \"dtype\": \"number\",\n        \"std\": 0.5576603822105681,\n        \"min\": -2.048,\n        \"max\": -0.1936,\n        \"num_unique_values\": 1049,\n        \"samples\": [\n          -0.9743,\n          -0.2225,\n          -1.9128\n        ],\n        \"semantic_type\": \"\",\n        \"description\": \"\"\n      }\n    },\n    {\n      \"column\": \"skewness\",\n      \"properties\": {\n        \"dtype\": \"number\",\n        \"std\": 0.2048007049119891,\n        \"min\": -0.7088766086950699,\n        \"max\": 0.911915813214476,\n        \"num_unique_values\": 1568,\n        \"samples\": [\n          0.4215167133395358,\n          0.1258022173609624,\n          -0.3735593941362333\n        ],\n        \"semantic_type\": \"\",\n        \"description\": \"\"\n      }\n    },\n    {\n      \"column\": \"kurtosis\",\n      \"properties\": {\n        \"dtype\": \"number\",\n        \"std\": 0.44713417933438115,\n        \"min\": -0.7501822620682543,\n        \"max\": 3.559904953570369,\n        \"num_unique_values\": 1568,\n        \"samples\": [\n          0.6023876474901848,\n          -0.1869022660030075,\n          0.6407397943083262\n        ],\n        \"semantic_type\": \"\",\n        \"description\": \"\"\n      }\n    },\n    {\n      \"column\": \"form_factor\",\n      \"properties\": {\n        \"dtype\": \"number\",\n        \"std\": 0.038477348555131664,\n        \"min\": 1.1880742389701082,\n        \"max\": 1.3732088739337998,\n        \"num_unique_values\": 1568,\n        \"samples\": [\n          1.2344865142295054,\n          1.239442334436259,\n          1.2875092520799265\n        ],\n        \"semantic_type\": \"\",\n        \"description\": \"\"\n      }\n    },\n    {\n      \"column\": \"crest_factor\",\n      \"properties\": {\n        \"dtype\": \"number\",\n        \"std\": 0.43721264748649613,\n        \"min\": 1.8259457656672824,\n        \"max\": 6.26411662233314,\n        \"num_unique_values\": 1568,\n        \"samples\": [\n          2.9307654172534834,\n          2.93715407450541,\n          2.8559805580015247\n        ],\n        \"semantic_type\": \"\",\n        \"description\": \"\"\n      }\n    }\n  ]\n}"
            }
          },
          "metadata": {},
          "execution_count": 131
        }
      ]
    },
    {
      "cell_type": "code",
      "source": [
        "import pandas as pd\n",
        "from sklearn.preprocessing import StandardScaler\n",
        "from sklearn.manifold import TSNE\n",
        "import matplotlib.pyplot as plt\n",
        "\n",
        "\n",
        "# Sort the dataset by the 'Fault' column\n",
        "balanced_df = balanced_df.sort_values(by='fault')\n",
        "\n",
        "# Separate features and target variable\n",
        "X = balanced_df.drop(columns=['fault'])  # Replace 'Fault' with actual target column name\n",
        "y = balanced_df['fault']\n",
        "\n",
        "# Normalize the feature columns using StandardScaler\n",
        "scaler = StandardScaler()\n",
        "X_normalized = pd.DataFrame(scaler.fit_transform(X), columns=X.columns)\n",
        "\n",
        "# Concatenate the normalized features with the target variable\n",
        "STAT_Motor_Fault_dataset_normalized = pd.concat([X_normalized, y.reset_index(drop=True)], axis=1)\n",
        "\n",
        "# Sort the normalized dataset by 'Fault' column\n",
        "STAT_Motor_Fault_dataset_normalized = STAT_Motor_Fault_dataset_normalized.sort_values(by='fault')\n",
        "\n",
        "# Apply t-SNE for dimensionality reduction\n",
        "tsne = TSNE(n_components=2, random_state=42)  # 2D t-SNE\n",
        "X_tsne = tsne.fit_transform(X_normalized)\n",
        "\n",
        "# Create a DataFrame for t-SNE results\n",
        "tSNE_representation = pd.DataFrame(X_tsne, columns=['t-SNE 1', 't-SNE 2'])\n",
        "tSNE_representation['fault'] = y.reset_index(drop=True)\n",
        "\n",
        "# Display the t-SNE representation\n",
        "print(tSNE_representation.head())\n",
        "\n",
        "# Optional: Visualization of t-SNE representation\n",
        "plt.figure(figsize=(8, 6))\n",
        "for label in tSNE_representation['fault'].unique():\n",
        "    subset = tSNE_representation[tSNE_representation['fault'] == label]\n",
        "    plt.scatter(subset['t-SNE 1'], subset['t-SNE 2'], label=f'fault {label}', alpha=0.7)\n",
        "\n",
        "plt.title('t-SNE Representation of Motor Fault Dataset')\n",
        "plt.xlabel('t-SNE 1')\n",
        "plt.ylabel('t-SNE 2')\n",
        "plt.legend()\n",
        "plt.show()\n"
      ],
      "metadata": {
        "id": "tV7aspjE3R4f",
        "colab": {
          "base_uri": "https://localhost:8080/",
          "height": 675
        },
        "outputId": "81ee6f82-2a06-4067-d9ae-41c54be7f6ce"
      },
      "id": "tV7aspjE3R4f",
      "execution_count": 132,
      "outputs": [
        {
          "output_type": "stream",
          "name": "stdout",
          "text": [
            "     t-SNE 1    t-SNE 2          fault\n",
            "0  10.576097  23.503271  F1_IR007_100W\n",
            "1  -5.843844  16.441458  F1_IR007_100W\n",
            "2   3.009470  24.061182  F1_IR007_100W\n",
            "3  10.999225  27.395275  F1_IR007_100W\n",
            "4   0.780288  19.115728  F1_IR007_100W\n"
          ]
        },
        {
          "output_type": "display_data",
          "data": {
            "text/plain": [
              "<Figure size 800x600 with 1 Axes>"
            ],
            "image/png": "[encoded data removed]"
          },
          "metadata": {}
        }
      ]
    },
    {
      "cell_type": "code",
      "source": [
        "tSNE_representation"
      ],
      "metadata": {
        "id": "QMwOLwssDgHU",
        "colab": {
          "base_uri": "https://localhost:8080/",
          "height": 423
        },
        "outputId": "e2c4c39f-4815-447c-b809-4a2b8d6f7eb5"
      },
      "id": "QMwOLwssDgHU",
      "execution_count": 133,
      "outputs": [
        {
          "output_type": "execute_result",
          "data": {
            "text/plain": [
              "        t-SNE 1    t-SNE 2           fault\n",
              "0     10.576097  23.503271   F1_IR007_100W\n",
              "1     -5.843844  16.441458   F1_IR007_100W\n",
              "2      3.009470  24.061182   F1_IR007_100W\n",
              "3     10.999225  27.395275   F1_IR007_100W\n",
              "4      0.780288  19.115728   F1_IR007_100W\n",
              "...         ...        ...             ...\n",
              "1565  57.818180  18.536160  F8_Normal_100W\n",
              "1566  60.894012   5.896345  F8_Normal_100W\n",
              "1567  56.784439   8.224616  F8_Normal_100W\n",
              "1568  53.125614  18.102089  F8_Normal_100W\n",
              "1569  52.080135   9.811082  F8_Normal_100W\n",
              "\n",
              "[1570 rows x 3 columns]"
            ],
            "text/html": [
              "\n",
              "  <div id=\"df-8f0b93b3-daeb-4d23-936d-09329cd4c050\" class=\"colab-df-container\">\n",
              "    <div>\n",
              "<style scoped>\n",
              "    .dataframe tbody tr th:only-of-type {\n",
              "        vertical-align: middle;\n",
              "    }\n",
              "\n",
              "    .dataframe tbody tr th {\n",
              "        vertical-align: top;\n",
              "    }\n",
              "\n",
              "    .dataframe thead th {\n",
              "        text-align: right;\n",
              "    }\n",
              "</style>\n",
              "<table border=\"1\" class=\"dataframe\">\n",
              "  <thead>\n",
              "    <tr style=\"text-align: right;\">\n",
              "      <th></th>\n",
              "      <th>t-SNE 1</th>\n",
              "      <th>t-SNE 2</th>\n",
              "      <th>fault</th>\n",
              "    </tr>\n",
              "  </thead>\n",
              "  <tbody>\n",
              "    <tr>\n",
              "      <th>0</th>\n",
              "      <td>10.576097</td>\n",
              "      <td>23.503271</td>\n",
              "      <td>F1_IR007_100W</td>\n",
              "    </tr>\n",
              "    <tr>\n",
              "      <th>1</th>\n",
              "      <td>-5.843844</td>\n",
              "      <td>16.441458</td>\n",
              "      <td>F1_IR007_100W</td>\n",
              "    </tr>\n",
              "    <tr>\n",
              "      <th>2</th>\n",
              "      <td>3.009470</td>\n",
              "      <td>24.061182</td>\n",
              "      <td>F1_IR007_100W</td>\n",
              "    </tr>\n",
              "    <tr>\n",
              "      <th>3</th>\n",
              "      <td>10.999225</td>\n",
              "      <td>27.395275</td>\n",
              "      <td>F1_IR007_100W</td>\n",
              "    </tr>\n",
              "    <tr>\n",
              "      <th>4</th>\n",
              "      <td>0.780288</td>\n",
              "      <td>19.115728</td>\n",
              "      <td>F1_IR007_100W</td>\n",
              "    </tr>\n",
              "    <tr>\n",
              "      <th>...</th>\n",
              "      <td>...</td>\n",
              "      <td>...</td>\n",
              "      <td>...</td>\n",
              "    </tr>\n",
              "    <tr>\n",
              "      <th>1565</th>\n",
              "      <td>57.818180</td>\n",
              "      <td>18.536160</td>\n",
              "      <td>F8_Normal_100W</td>\n",
              "    </tr>\n",
              "    <tr>\n",
              "      <th>1566</th>\n",
              "      <td>60.894012</td>\n",
              "      <td>5.896345</td>\n",
              "      <td>F8_Normal_100W</td>\n",
              "    </tr>\n",
              "    <tr>\n",
              "      <th>1567</th>\n",
              "      <td>56.784439</td>\n",
              "      <td>8.224616</td>\n",
              "      <td>F8_Normal_100W</td>\n",
              "    </tr>\n",
              "    <tr>\n",
              "      <th>1568</th>\n",
              "      <td>53.125614</td>\n",
              "      <td>18.102089</td>\n",
              "      <td>F8_Normal_100W</td>\n",
              "    </tr>\n",
              "    <tr>\n",
              "      <th>1569</th>\n",
              "      <td>52.080135</td>\n",
              "      <td>9.811082</td>\n",
              "      <td>F8_Normal_100W</td>\n",
              "    </tr>\n",
              "  </tbody>\n",
              "</table>\n",
              "<p>1570 rows × 3 columns</p>\n",
              "</div>\n",
              "    <div class=\"colab-df-buttons\">\n",
              "\n",
              "  <div class=\"colab-df-container\">\n",
              "    <button class=\"colab-df-convert\" onclick=\"convertToInteractive('df-8f0b93b3-daeb-4d23-936d-09329cd4c050')\"\n",
              "            title=\"Convert this dataframe to an interactive table.\"\n",
              "            style=\"display:none;\">\n",
              "\n",
              "  <svg xmlns=\"http://www.w3.org/2000/svg\" height=\"24px\" viewBox=\"0 -960 960 960\">\n",
              "    <path d=\"M120-120v-720h720v720H120Zm60-500h600v-160H180v160Zm220 220h160v-160H400v160Zm0 220h160v-160H400v160ZM180-400h160v-160H180v160Zm440 0h160v-160H620v160ZM180-180h160v-160H180v160Zm440 0h160v-160H620v160Z\"/>\n",
              "  </svg>\n",
              "    </button>\n",
              "\n",
              "  <style>\n",
              "    .colab-df-container {\n",
              "      display:flex;\n",
              "      gap: 12px;\n",
              "    }\n",
              "\n",
              "    .colab-df-convert {\n",
              "      background-color: #E8F0FE;\n",
              "      border: none;\n",
              "      border-radius: 50%;\n",
              "      cursor: pointer;\n",
              "      display: none;\n",
              "      fill: #1967D2;\n",
              "      height: 32px;\n",
              "      padding: 0 0 0 0;\n",
              "      width: 32px;\n",
              "    }\n",
              "\n",
              "    .colab-df-convert:hover {\n",
              "      background-color: #E2EBFA;\n",
              "      box-shadow: 0px 1px 2px rgba(60, 64, 67, 0.3), 0px 1px 3px 1px rgba(60, 64, 67, 0.15);\n",
              "      fill: #174EA6;\n",
              "    }\n",
              "\n",
              "    .colab-df-buttons div {\n",
              "      margin-bottom: 4px;\n",
              "    }\n",
              "\n",
              "    [theme=dark] .colab-df-convert {\n",
              "      background-color: #3B4455;\n",
              "      fill: #D2E3FC;\n",
              "    }\n",
              "\n",
              "    [theme=dark] .colab-df-convert:hover {\n",
              "      background-color: #434B5C;\n",
              "      box-shadow: 0px 1px 3px 1px rgba(0, 0, 0, 0.15);\n",
              "      filter: drop-shadow(0px 1px 2px rgba(0, 0, 0, 0.3));\n",
              "      fill: #FFFFFF;\n",
              "    }\n",
              "  </style>\n",
              "\n",
              "    <script>\n",
              "      const buttonEl =\n",
              "        document.querySelector('#df-8f0b93b3-daeb-4d23-936d-09329cd4c050 button.colab-df-convert');\n",
              "      buttonEl.style.display =\n",
              "        google.colab.kernel.accessAllowed ? 'block' : 'none';\n",
              "\n",
              "      async function convertToInteractive(key) {\n",
              "        const element = document.querySelector('#df-8f0b93b3-daeb-4d23-936d-09329cd4c050');\n",
              "        const dataTable =\n",
              "          await google.colab.kernel.invokeFunction('convertToInteractive',\n",
              "                                                    [key], {});\n",
              "        if (!dataTable) return;\n",
              "\n",
              "        const docLinkHtml = 'Like what you see? Visit the ' +\n",
              "          '<a target=\"_blank\" href=https://colab.research.google.com/notebooks/data_table.ipynb>data table notebook</a>'\n",
              "          + ' to learn more about interactive tables.';\n",
              "        element.innerHTML = '';\n",
              "        dataTable['output_type'] = 'display_data';\n",
              "        await google.colab.output.renderOutput(dataTable, element);\n",
              "        const docLink = document.createElement('div');\n",
              "        docLink.innerHTML = docLinkHtml;\n",
              "        element.appendChild(docLink);\n",
              "      }\n",
              "    </script>\n",
              "  </div>\n",
              "\n",
              "\n",
              "    <div id=\"df-246d9c7f-6c87-46d6-970e-408493479f12\">\n",
              "      <button class=\"colab-df-quickchart\" onclick=\"quickchart('df-246d9c7f-6c87-46d6-970e-408493479f12')\"\n",
              "                title=\"Suggest charts\"\n",
              "                style=\"display:none;\">\n",
              "\n",
              "<svg xmlns=\"http://www.w3.org/2000/svg\" height=\"24px\"viewBox=\"0 0 24 24\"\n",
              "     width=\"24px\">\n",
              "    <g>\n",
              "        <path d=\"M19 3H5c-1.1 0-2 .9-2 2v14c0 1.1.9 2 2 2h14c1.1 0 2-.9 2-2V5c0-1.1-.9-2-2-2zM9 17H7v-7h2v7zm4 0h-2V7h2v10zm4 0h-2v-4h2v4z\"/>\n",
              "    </g>\n",
              "</svg>\n",
              "      </button>\n",
              "\n",
              "<style>\n",
              "  .colab-df-quickchart {\n",
              "      --bg-color: #E8F0FE;\n",
              "      --fill-color: #1967D2;\n",
              "      --hover-bg-color: #E2EBFA;\n",
              "      --hover-fill-color: #174EA6;\n",
              "      --disabled-fill-color: #AAA;\n",
              "      --disabled-bg-color: #DDD;\n",
              "  }\n",
              "\n",
              "  [theme=dark] .colab-df-quickchart {\n",
              "      --bg-color: #3B4455;\n",
              "      --fill-color: #D2E3FC;\n",
              "      --hover-bg-color: #434B5C;\n",
              "      --hover-fill-color: #FFFFFF;\n",
              "      --disabled-bg-color: #3B4455;\n",
              "      --disabled-fill-color: #666;\n",
              "  }\n",
              "\n",
              "  .colab-df-quickchart {\n",
              "    background-color: var(--bg-color);\n",
              "    border: none;\n",
              "    border-radius: 50%;\n",
              "    cursor: pointer;\n",
              "    display: none;\n",
              "    fill: var(--fill-color);\n",
              "    height: 32px;\n",
              "    padding: 0;\n",
              "    width: 32px;\n",
              "  }\n",
              "\n",
              "  .colab-df-quickchart:hover {\n",
              "    background-color: var(--hover-bg-color);\n",
              "    box-shadow: 0 1px 2px rgba(60, 64, 67, 0.3), 0 1px 3px 1px rgba(60, 64, 67, 0.15);\n",
              "    fill: var(--button-hover-fill-color);\n",
              "  }\n",
              "\n",
              "  .colab-df-quickchart-complete:disabled,\n",
              "  .colab-df-quickchart-complete:disabled:hover {\n",
              "    background-color: var(--disabled-bg-color);\n",
              "    fill: var(--disabled-fill-color);\n",
              "    box-shadow: none;\n",
              "  }\n",
              "\n",
              "  .colab-df-spinner {\n",
              "    border: 2px solid var(--fill-color);\n",
              "    border-color: transparent;\n",
              "    border-bottom-color: var(--fill-color);\n",
              "    animation:\n",
              "      spin 1s steps(1) infinite;\n",
              "  }\n",
              "\n",
              "  @keyframes spin {\n",
              "    0% {\n",
              "      border-color: transparent;\n",
              "      border-bottom-color: var(--fill-color);\n",
              "      border-left-color: var(--fill-color);\n",
              "    }\n",
              "    20% {\n",
              "      border-color: transparent;\n",
              "      border-left-color: var(--fill-color);\n",
              "      border-top-color: var(--fill-color);\n",
              "    }\n",
              "    30% {\n",
              "      border-color: transparent;\n",
              "      border-left-color: var(--fill-color);\n",
              "      border-top-color: var(--fill-color);\n",
              "      border-right-color: var(--fill-color);\n",
              "    }\n",
              "    40% {\n",
              "      border-color: transparent;\n",
              "      border-right-color: var(--fill-color);\n",
              "      border-top-color: var(--fill-color);\n",
              "    }\n",
              "    60% {\n",
              "      border-color: transparent;\n",
              "      border-right-color: var(--fill-color);\n",
              "    }\n",
              "    80% {\n",
              "      border-color: transparent;\n",
              "      border-right-color: var(--fill-color);\n",
              "      border-bottom-color: var(--fill-color);\n",
              "    }\n",
              "    90% {\n",
              "      border-color: transparent;\n",
              "      border-bottom-color: var(--fill-color);\n",
              "    }\n",
              "  }\n",
              "</style>\n",
              "\n",
              "      <script>\n",
              "        async function quickchart(key) {\n",
              "          const quickchartButtonEl =\n",
              "            document.querySelector('#' + key + ' button');\n",
              "          quickchartButtonEl.disabled = true;  // To prevent multiple clicks.\n",
              "          quickchartButtonEl.classList.add('colab-df-spinner');\n",
              "          try {\n",
              "            const charts = await google.colab.kernel.invokeFunction(\n",
              "                'suggestCharts', [key], {});\n",
              "          } catch (error) {\n",
              "            console.error('Error during call to suggestCharts:', error);\n",
              "          }\n",
              "          quickchartButtonEl.classList.remove('colab-df-spinner');\n",
              "          quickchartButtonEl.classList.add('colab-df-quickchart-complete');\n",
              "        }\n",
              "        (() => {\n",
              "          let quickchartButtonEl =\n",
              "            document.querySelector('#df-246d9c7f-6c87-46d6-970e-408493479f12 button');\n",
              "          quickchartButtonEl.style.display =\n",
              "            google.colab.kernel.accessAllowed ? 'block' : 'none';\n",
              "        })();\n",
              "      </script>\n",
              "    </div>\n",
              "\n",
              "  <div id=\"id_6c378649-785d-4bfa-9bc3-3fe458270297\">\n",
              "    <style>\n",
              "      .colab-df-generate {\n",
              "        background-color: #E8F0FE;\n",
              "        border: none;\n",
              "        border-radius: 50%;\n",
              "        cursor: pointer;\n",
              "        display: none;\n",
              "        fill: #1967D2;\n",
              "        height: 32px;\n",
              "        padding: 0 0 0 0;\n",
              "        width: 32px;\n",
              "      }\n",
              "\n",
              "      .colab-df-generate:hover {\n",
              "        background-color: #E2EBFA;\n",
              "        box-shadow: 0px 1px 2px rgba(60, 64, 67, 0.3), 0px 1px 3px 1px rgba(60, 64, 67, 0.15);\n",
              "        fill: #174EA6;\n",
              "      }\n",
              "\n",
              "      [theme=dark] .colab-df-generate {\n",
              "        background-color: #3B4455;\n",
              "        fill: #D2E3FC;\n",
              "      }\n",
              "\n",
              "      [theme=dark] .colab-df-generate:hover {\n",
              "        background-color: #434B5C;\n",
              "        box-shadow: 0px 1px 3px 1px rgba(0, 0, 0, 0.15);\n",
              "        filter: drop-shadow(0px 1px 2px rgba(0, 0, 0, 0.3));\n",
              "        fill: #FFFFFF;\n",
              "      }\n",
              "    </style>\n",
              "    <button class=\"colab-df-generate\" onclick=\"generateWithVariable('tSNE_representation')\"\n",
              "            title=\"Generate code using this dataframe.\"\n",
              "            style=\"display:none;\">\n",
              "\n",
              "  <svg xmlns=\"http://www.w3.org/2000/svg\" height=\"24px\"viewBox=\"0 0 24 24\"\n",
              "       width=\"24px\">\n",
              "    <path d=\"M7,19H8.4L18.45,9,17,7.55,7,17.6ZM5,21V16.75L18.45,3.32a2,2,0,0,1,2.83,0l1.4,1.43a1.91,1.91,0,0,1,.58,1.4,1.91,1.91,0,0,1-.58,1.4L9.25,21ZM18.45,9,17,7.55Zm-12,3A5.31,5.31,0,0,0,4.9,8.1,5.31,5.31,0,0,0,1,6.5,5.31,5.31,0,0,0,4.9,4.9,5.31,5.31,0,0,0,6.5,1,5.31,5.31,0,0,0,8.1,4.9,5.31,5.31,0,0,0,12,6.5,5.46,5.46,0,0,0,6.5,12Z\"/>\n",
              "  </svg>\n",
              "    </button>\n",
              "    <script>\n",
              "      (() => {\n",
              "      const buttonEl =\n",
              "        document.querySelector('#id_6c378649-785d-4bfa-9bc3-3fe458270297 button.colab-df-generate');\n",
              "      buttonEl.style.display =\n",
              "        google.colab.kernel.accessAllowed ? 'block' : 'none';\n",
              "\n",
              "      buttonEl.onclick = () => {\n",
              "        google.colab.notebook.generateWithVariable('tSNE_representation');\n",
              "      }\n",
              "      })();\n",
              "    </script>\n",
              "  </div>\n",
              "\n",
              "    </div>\n",
              "  </div>\n"
            ],
            "application/vnd.google.colaboratory.intrinsic+json": {
              "type": "dataframe",
              "variable_name": "tSNE_representation",
              "summary": "{\n  \"name\": \"tSNE_representation\",\n  \"rows\": 1570,\n  \"fields\": [\n    {\n      \"column\": \"t-SNE 1\",\n      \"properties\": {\n        \"dtype\": \"float32\",\n        \"num_unique_values\": 1568,\n        \"samples\": [\n          61.677406311035156,\n          -10.678367614746094,\n          -11.824749946594238\n        ],\n        \"semantic_type\": \"\",\n        \"description\": \"\"\n      }\n    },\n    {\n      \"column\": \"t-SNE 2\",\n      \"properties\": {\n        \"dtype\": \"float32\",\n        \"num_unique_values\": 1568,\n        \"samples\": [\n          9.379168510437012,\n          -12.848894119262695,\n          20.191808700561523\n        ],\n        \"semantic_type\": \"\",\n        \"description\": \"\"\n      }\n    },\n    {\n      \"column\": \"fault\",\n      \"properties\": {\n        \"dtype\": \"category\",\n        \"num_unique_values\": 8,\n        \"samples\": [\n          \"F2_IR009_100W\",\n          \"F6_OR013_100W\",\n          \"F1_IR007_100W\"\n        ],\n        \"semantic_type\": \"\",\n        \"description\": \"\"\n      }\n    }\n  ]\n}"
            }
          },
          "metadata": {},
          "execution_count": 133
        }
      ]
    },
    {
      "cell_type": "code",
      "source": [
        "tSNE_representation=tSNE_representation.drop(columns=['fault'])\n",
        "tSNE_representation"
      ],
      "metadata": {
        "id": "Pybzwduy8nhv",
        "colab": {
          "base_uri": "https://localhost:8080/",
          "height": 423
        },
        "outputId": "051c7456-0ef1-48e5-e99c-bfe4efacbb4c"
      },
      "id": "Pybzwduy8nhv",
      "execution_count": 134,
      "outputs": [
        {
          "output_type": "execute_result",
          "data": {
            "text/plain": [
              "        t-SNE 1    t-SNE 2\n",
              "0     10.576097  23.503271\n",
              "1     -5.843844  16.441458\n",
              "2      3.009470  24.061182\n",
              "3     10.999225  27.395275\n",
              "4      0.780288  19.115728\n",
              "...         ...        ...\n",
              "1565  57.818180  18.536160\n",
              "1566  60.894012   5.896345\n",
              "1567  56.784439   8.224616\n",
              "1568  53.125614  18.102089\n",
              "1569  52.080135   9.811082\n",
              "\n",
              "[1570 rows x 2 columns]"
            ],
            "text/html": [
              "\n",
              "  <div id=\"df-0cf4b1d8-7ab7-433e-8428-4bc0c87aeab5\" class=\"colab-df-container\">\n",
              "    <div>\n",
              "<style scoped>\n",
              "    .dataframe tbody tr th:only-of-type {\n",
              "        vertical-align: middle;\n",
              "    }\n",
              "\n",
              "    .dataframe tbody tr th {\n",
              "        vertical-align: top;\n",
              "    }\n",
              "\n",
              "    .dataframe thead th {\n",
              "        text-align: right;\n",
              "    }\n",
              "</style>\n",
              "<table border=\"1\" class=\"dataframe\">\n",
              "  <thead>\n",
              "    <tr style=\"text-align: right;\">\n",
              "      <th></th>\n",
              "      <th>t-SNE 1</th>\n",
              "      <th>t-SNE 2</th>\n",
              "    </tr>\n",
              "  </thead>\n",
              "  <tbody>\n",
              "    <tr>\n",
              "      <th>0</th>\n",
              "      <td>10.576097</td>\n",
              "      <td>23.503271</td>\n",
              "    </tr>\n",
              "    <tr>\n",
              "      <th>1</th>\n",
              "      <td>-5.843844</td>\n",
              "      <td>16.441458</td>\n",
              "    </tr>\n",
              "    <tr>\n",
              "      <th>2</th>\n",
              "      <td>3.009470</td>\n",
              "      <td>24.061182</td>\n",
              "    </tr>\n",
              "    <tr>\n",
              "      <th>3</th>\n",
              "      <td>10.999225</td>\n",
              "      <td>27.395275</td>\n",
              "    </tr>\n",
              "    <tr>\n",
              "      <th>4</th>\n",
              "      <td>0.780288</td>\n",
              "      <td>19.115728</td>\n",
              "    </tr>\n",
              "    <tr>\n",
              "      <th>...</th>\n",
              "      <td>...</td>\n",
              "      <td>...</td>\n",
              "    </tr>\n",
              "    <tr>\n",
              "      <th>1565</th>\n",
              "      <td>57.818180</td>\n",
              "      <td>18.536160</td>\n",
              "    </tr>\n",
              "    <tr>\n",
              "      <th>1566</th>\n",
              "      <td>60.894012</td>\n",
              "      <td>5.896345</td>\n",
              "    </tr>\n",
              "    <tr>\n",
              "      <th>1567</th>\n",
              "      <td>56.784439</td>\n",
              "      <td>8.224616</td>\n",
              "    </tr>\n",
              "    <tr>\n",
              "      <th>1568</th>\n",
              "      <td>53.125614</td>\n",
              "      <td>18.102089</td>\n",
              "    </tr>\n",
              "    <tr>\n",
              "      <th>1569</th>\n",
              "      <td>52.080135</td>\n",
              "      <td>9.811082</td>\n",
              "    </tr>\n",
              "  </tbody>\n",
              "</table>\n",
              "<p>1570 rows × 2 columns</p>\n",
              "</div>\n",
              "    <div class=\"colab-df-buttons\">\n",
              "\n",
              "  <div class=\"colab-df-container\">\n",
              "    <button class=\"colab-df-convert\" onclick=\"convertToInteractive('df-0cf4b1d8-7ab7-433e-8428-4bc0c87aeab5')\"\n",
              "            title=\"Convert this dataframe to an interactive table.\"\n",
              "            style=\"display:none;\">\n",
              "\n",
              "  <svg xmlns=\"http://www.w3.org/2000/svg\" height=\"24px\" viewBox=\"0 -960 960 960\">\n",
              "    <path d=\"M120-120v-720h720v720H120Zm60-500h600v-160H180v160Zm220 220h160v-160H400v160Zm0 220h160v-160H400v160ZM180-400h160v-160H180v160Zm440 0h160v-160H620v160ZM180-180h160v-160H180v160Zm440 0h160v-160H620v160Z\"/>\n",
              "  </svg>\n",
              "    </button>\n",
              "\n",
              "  <style>\n",
              "    .colab-df-container {\n",
              "      display:flex;\n",
              "      gap: 12px;\n",
              "    }\n",
              "\n",
              "    .colab-df-convert {\n",
              "      background-color: #E8F0FE;\n",
              "      border: none;\n",
              "      border-radius: 50%;\n",
              "      cursor: pointer;\n",
              "      display: none;\n",
              "      fill: #1967D2;\n",
              "      height: 32px;\n",
              "      padding: 0 0 0 0;\n",
              "      width: 32px;\n",
              "    }\n",
              "\n",
              "    .colab-df-convert:hover {\n",
              "      background-color: #E2EBFA;\n",
              "      box-shadow: 0px 1px 2px rgba(60, 64, 67, 0.3), 0px 1px 3px 1px rgba(60, 64, 67, 0.15);\n",
              "      fill: #174EA6;\n",
              "    }\n",
              "\n",
              "    .colab-df-buttons div {\n",
              "      margin-bottom: 4px;\n",
              "    }\n",
              "\n",
              "    [theme=dark] .colab-df-convert {\n",
              "      background-color: #3B4455;\n",
              "      fill: #D2E3FC;\n",
              "    }\n",
              "\n",
              "    [theme=dark] .colab-df-convert:hover {\n",
              "      background-color: #434B5C;\n",
              "      box-shadow: 0px 1px 3px 1px rgba(0, 0, 0, 0.15);\n",
              "      filter: drop-shadow(0px 1px 2px rgba(0, 0, 0, 0.3));\n",
              "      fill: #FFFFFF;\n",
              "    }\n",
              "  </style>\n",
              "\n",
              "    <script>\n",
              "      const buttonEl =\n",
              "        document.querySelector('#df-0cf4b1d8-7ab7-433e-8428-4bc0c87aeab5 button.colab-df-convert');\n",
              "      buttonEl.style.display =\n",
              "        google.colab.kernel.accessAllowed ? 'block' : 'none';\n",
              "\n",
              "      async function convertToInteractive(key) {\n",
              "        const element = document.querySelector('#df-0cf4b1d8-7ab7-433e-8428-4bc0c87aeab5');\n",
              "        const dataTable =\n",
              "          await google.colab.kernel.invokeFunction('convertToInteractive',\n",
              "                                                    [key], {});\n",
              "        if (!dataTable) return;\n",
              "\n",
              "        const docLinkHtml = 'Like what you see? Visit the ' +\n",
              "          '<a target=\"_blank\" href=https://colab.research.google.com/notebooks/data_table.ipynb>data table notebook</a>'\n",
              "          + ' to learn more about interactive tables.';\n",
              "        element.innerHTML = '';\n",
              "        dataTable['output_type'] = 'display_data';\n",
              "        await google.colab.output.renderOutput(dataTable, element);\n",
              "        const docLink = document.createElement('div');\n",
              "        docLink.innerHTML = docLinkHtml;\n",
              "        element.appendChild(docLink);\n",
              "      }\n",
              "    </script>\n",
              "  </div>\n",
              "\n",
              "\n",
              "    <div id=\"df-befb23f4-c325-4acf-940d-b6f948f0b01a\">\n",
              "      <button class=\"colab-df-quickchart\" onclick=\"quickchart('df-befb23f4-c325-4acf-940d-b6f948f0b01a')\"\n",
              "                title=\"Suggest charts\"\n",
              "                style=\"display:none;\">\n",
              "\n",
              "<svg xmlns=\"http://www.w3.org/2000/svg\" height=\"24px\"viewBox=\"0 0 24 24\"\n",
              "     width=\"24px\">\n",
              "    <g>\n",
              "        <path d=\"M19 3H5c-1.1 0-2 .9-2 2v14c0 1.1.9 2 2 2h14c1.1 0 2-.9 2-2V5c0-1.1-.9-2-2-2zM9 17H7v-7h2v7zm4 0h-2V7h2v10zm4 0h-2v-4h2v4z\"/>\n",
              "    </g>\n",
              "</svg>\n",
              "      </button>\n",
              "\n",
              "<style>\n",
              "  .colab-df-quickchart {\n",
              "      --bg-color: #E8F0FE;\n",
              "      --fill-color: #1967D2;\n",
              "      --hover-bg-color: #E2EBFA;\n",
              "      --hover-fill-color: #174EA6;\n",
              "      --disabled-fill-color: #AAA;\n",
              "      --disabled-bg-color: #DDD;\n",
              "  }\n",
              "\n",
              "  [theme=dark] .colab-df-quickchart {\n",
              "      --bg-color: #3B4455;\n",
              "      --fill-color: #D2E3FC;\n",
              "      --hover-bg-color: #434B5C;\n",
              "      --hover-fill-color: #FFFFFF;\n",
              "      --disabled-bg-color: #3B4455;\n",
              "      --disabled-fill-color: #666;\n",
              "  }\n",
              "\n",
              "  .colab-df-quickchart {\n",
              "    background-color: var(--bg-color);\n",
              "    border: none;\n",
              "    border-radius: 50%;\n",
              "    cursor: pointer;\n",
              "    display: none;\n",
              "    fill: var(--fill-color);\n",
              "    height: 32px;\n",
              "    padding: 0;\n",
              "    width: 32px;\n",
              "  }\n",
              "\n",
              "  .colab-df-quickchart:hover {\n",
              "    background-color: var(--hover-bg-color);\n",
              "    box-shadow: 0 1px 2px rgba(60, 64, 67, 0.3), 0 1px 3px 1px rgba(60, 64, 67, 0.15);\n",
              "    fill: var(--button-hover-fill-color);\n",
              "  }\n",
              "\n",
              "  .colab-df-quickchart-complete:disabled,\n",
              "  .colab-df-quickchart-complete:disabled:hover {\n",
              "    background-color: var(--disabled-bg-color);\n",
              "    fill: var(--disabled-fill-color);\n",
              "    box-shadow: none;\n",
              "  }\n",
              "\n",
              "  .colab-df-spinner {\n",
              "    border: 2px solid var(--fill-color);\n",
              "    border-color: transparent;\n",
              "    border-bottom-color: var(--fill-color);\n",
              "    animation:\n",
              "      spin 1s steps(1) infinite;\n",
              "  }\n",
              "\n",
              "  @keyframes spin {\n",
              "    0% {\n",
              "      border-color: transparent;\n",
              "      border-bottom-color: var(--fill-color);\n",
              "      border-left-color: var(--fill-color);\n",
              "    }\n",
              "    20% {\n",
              "      border-color: transparent;\n",
              "      border-left-color: var(--fill-color);\n",
              "      border-top-color: var(--fill-color);\n",
              "    }\n",
              "    30% {\n",
              "      border-color: transparent;\n",
              "      border-left-color: var(--fill-color);\n",
              "      border-top-color: var(--fill-color);\n",
              "      border-right-color: var(--fill-color);\n",
              "    }\n",
              "    40% {\n",
              "      border-color: transparent;\n",
              "      border-right-color: var(--fill-color);\n",
              "      border-top-color: var(--fill-color);\n",
              "    }\n",
              "    60% {\n",
              "      border-color: transparent;\n",
              "      border-right-color: var(--fill-color);\n",
              "    }\n",
              "    80% {\n",
              "      border-color: transparent;\n",
              "      border-right-color: var(--fill-color);\n",
              "      border-bottom-color: var(--fill-color);\n",
              "    }\n",
              "    90% {\n",
              "      border-color: transparent;\n",
              "      border-bottom-color: var(--fill-color);\n",
              "    }\n",
              "  }\n",
              "</style>\n",
              "\n",
              "      <script>\n",
              "        async function quickchart(key) {\n",
              "          const quickchartButtonEl =\n",
              "            document.querySelector('#' + key + ' button');\n",
              "          quickchartButtonEl.disabled = true;  // To prevent multiple clicks.\n",
              "          quickchartButtonEl.classList.add('colab-df-spinner');\n",
              "          try {\n",
              "            const charts = await google.colab.kernel.invokeFunction(\n",
              "                'suggestCharts', [key], {});\n",
              "          } catch (error) {\n",
              "            console.error('Error during call to suggestCharts:', error);\n",
              "          }\n",
              "          quickchartButtonEl.classList.remove('colab-df-spinner');\n",
              "          quickchartButtonEl.classList.add('colab-df-quickchart-complete');\n",
              "        }\n",
              "        (() => {\n",
              "          let quickchartButtonEl =\n",
              "            document.querySelector('#df-befb23f4-c325-4acf-940d-b6f948f0b01a button');\n",
              "          quickchartButtonEl.style.display =\n",
              "            google.colab.kernel.accessAllowed ? 'block' : 'none';\n",
              "        })();\n",
              "      </script>\n",
              "    </div>\n",
              "\n",
              "  <div id=\"id_30613c0c-2af4-4d74-9a14-ffc2df83d02b\">\n",
              "    <style>\n",
              "      .colab-df-generate {\n",
              "        background-color: #E8F0FE;\n",
              "        border: none;\n",
              "        border-radius: 50%;\n",
              "        cursor: pointer;\n",
              "        display: none;\n",
              "        fill: #1967D2;\n",
              "        height: 32px;\n",
              "        padding: 0 0 0 0;\n",
              "        width: 32px;\n",
              "      }\n",
              "\n",
              "      .colab-df-generate:hover {\n",
              "        background-color: #E2EBFA;\n",
              "        box-shadow: 0px 1px 2px rgba(60, 64, 67, 0.3), 0px 1px 3px 1px rgba(60, 64, 67, 0.15);\n",
              "        fill: #174EA6;\n",
              "      }\n",
              "\n",
              "      [theme=dark] .colab-df-generate {\n",
              "        background-color: #3B4455;\n",
              "        fill: #D2E3FC;\n",
              "      }\n",
              "\n",
              "      [theme=dark] .colab-df-generate:hover {\n",
              "        background-color: #434B5C;\n",
              "        box-shadow: 0px 1px 3px 1px rgba(0, 0, 0, 0.15);\n",
              "        filter: drop-shadow(0px 1px 2px rgba(0, 0, 0, 0.3));\n",
              "        fill: #FFFFFF;\n",
              "      }\n",
              "    </style>\n",
              "    <button class=\"colab-df-generate\" onclick=\"generateWithVariable('tSNE_representation')\"\n",
              "            title=\"Generate code using this dataframe.\"\n",
              "            style=\"display:none;\">\n",
              "\n",
              "  <svg xmlns=\"http://www.w3.org/2000/svg\" height=\"24px\"viewBox=\"0 0 24 24\"\n",
              "       width=\"24px\">\n",
              "    <path d=\"M7,19H8.4L18.45,9,17,7.55,7,17.6ZM5,21V16.75L18.45,3.32a2,2,0,0,1,2.83,0l1.4,1.43a1.91,1.91,0,0,1,.58,1.4,1.91,1.91,0,0,1-.58,1.4L9.25,21ZM18.45,9,17,7.55Zm-12,3A5.31,5.31,0,0,0,4.9,8.1,5.31,5.31,0,0,0,1,6.5,5.31,5.31,0,0,0,4.9,4.9,5.31,5.31,0,0,0,6.5,1,5.31,5.31,0,0,0,8.1,4.9,5.31,5.31,0,0,0,12,6.5,5.46,5.46,0,0,0,6.5,12Z\"/>\n",
              "  </svg>\n",
              "    </button>\n",
              "    <script>\n",
              "      (() => {\n",
              "      const buttonEl =\n",
              "        document.querySelector('#id_30613c0c-2af4-4d74-9a14-ffc2df83d02b button.colab-df-generate');\n",
              "      buttonEl.style.display =\n",
              "        google.colab.kernel.accessAllowed ? 'block' : 'none';\n",
              "\n",
              "      buttonEl.onclick = () => {\n",
              "        google.colab.notebook.generateWithVariable('tSNE_representation');\n",
              "      }\n",
              "      })();\n",
              "    </script>\n",
              "  </div>\n",
              "\n",
              "    </div>\n",
              "  </div>\n"
            ],
            "application/vnd.google.colaboratory.intrinsic+json": {
              "type": "dataframe",
              "variable_name": "tSNE_representation",
              "summary": "{\n  \"name\": \"tSNE_representation\",\n  \"rows\": 1570,\n  \"fields\": [\n    {\n      \"column\": \"t-SNE 1\",\n      \"properties\": {\n        \"dtype\": \"float32\",\n        \"num_unique_values\": 1568,\n        \"samples\": [\n          61.677406311035156,\n          -10.678367614746094,\n          -11.824749946594238\n        ],\n        \"semantic_type\": \"\",\n        \"description\": \"\"\n      }\n    },\n    {\n      \"column\": \"t-SNE 2\",\n      \"properties\": {\n        \"dtype\": \"float32\",\n        \"num_unique_values\": 1568,\n        \"samples\": [\n          9.379168510437012,\n          -12.848894119262695,\n          20.191808700561523\n        ],\n        \"semantic_type\": \"\",\n        \"description\": \"\"\n      }\n    }\n  ]\n}"
            }
          },
          "metadata": {},
          "execution_count": 134
        }
      ]
    },
    {
      "cell_type": "code",
      "source": [
        "tSNEdf = tSNEdf.sort_values(by='Fault')"
      ],
      "metadata": {
        "id": "_TpCIloN904b"
      },
      "id": "_TpCIloN904b",
      "execution_count": 135,
      "outputs": []
    },
    {
      "cell_type": "code",
      "source": [
        "tSNEdf"
      ],
      "metadata": {
        "id": "xq2JlAOp_N5V",
        "colab": {
          "base_uri": "https://localhost:8080/",
          "height": 423
        },
        "outputId": "1e534e4f-1278-45f0-c7af-4dd22d9bcfee"
      },
      "id": "xq2JlAOp_N5V",
      "execution_count": 136,
      "outputs": [
        {
          "output_type": "execute_result",
          "data": {
            "text/plain": [
              "      T-SNE component 1  T-SNE component 2           Fault\n",
              "785           -7.702160         -20.409708   F1_IR007_100W\n",
              "713          -17.102648         -16.219378   F1_IR007_100W\n",
              "698           -8.232917         -19.543575   F1_IR007_100W\n",
              "697          -16.625540         -15.282173   F1_IR007_100W\n",
              "689          -11.441877         -15.063446   F1_IR007_100W\n",
              "...                 ...                ...             ...\n",
              "1044         -25.391851          -2.245287  F8_Normal_100W\n",
              "569          -28.906950          -5.743284  F8_Normal_100W\n",
              "1047         -30.062096           2.125642  F8_Normal_100W\n",
              "543          -30.984869          -4.187757  F8_Normal_100W\n",
              "0            -26.625311          -2.743807  F8_Normal_100W\n",
              "\n",
              "[1572 rows x 3 columns]"
            ],
            "text/html": [
              "\n",
              "  <div id=\"df-775c96ac-533e-4815-aec3-e72ab62cbb40\" class=\"colab-df-container\">\n",
              "    <div>\n",
              "<style scoped>\n",
              "    .dataframe tbody tr th:only-of-type {\n",
              "        vertical-align: middle;\n",
              "    }\n",
              "\n",
              "    .dataframe tbody tr th {\n",
              "        vertical-align: top;\n",
              "    }\n",
              "\n",
              "    .dataframe thead th {\n",
              "        text-align: right;\n",
              "    }\n",
              "</style>\n",
              "<table border=\"1\" class=\"dataframe\">\n",
              "  <thead>\n",
              "    <tr style=\"text-align: right;\">\n",
              "      <th></th>\n",
              "      <th>T-SNE component 1</th>\n",
              "      <th>T-SNE component 2</th>\n",
              "      <th>Fault</th>\n",
              "    </tr>\n",
              "  </thead>\n",
              "  <tbody>\n",
              "    <tr>\n",
              "      <th>785</th>\n",
              "      <td>-7.702160</td>\n",
              "      <td>-20.409708</td>\n",
              "      <td>F1_IR007_100W</td>\n",
              "    </tr>\n",
              "    <tr>\n",
              "      <th>713</th>\n",
              "      <td>-17.102648</td>\n",
              "      <td>-16.219378</td>\n",
              "      <td>F1_IR007_100W</td>\n",
              "    </tr>\n",
              "    <tr>\n",
              "      <th>698</th>\n",
              "      <td>-8.232917</td>\n",
              "      <td>-19.543575</td>\n",
              "      <td>F1_IR007_100W</td>\n",
              "    </tr>\n",
              "    <tr>\n",
              "      <th>697</th>\n",
              "      <td>-16.625540</td>\n",
              "      <td>-15.282173</td>\n",
              "      <td>F1_IR007_100W</td>\n",
              "    </tr>\n",
              "    <tr>\n",
              "      <th>689</th>\n",
              "      <td>-11.441877</td>\n",
              "      <td>-15.063446</td>\n",
              "      <td>F1_IR007_100W</td>\n",
              "    </tr>\n",
              "    <tr>\n",
              "      <th>...</th>\n",
              "      <td>...</td>\n",
              "      <td>...</td>\n",
              "      <td>...</td>\n",
              "    </tr>\n",
              "    <tr>\n",
              "      <th>1044</th>\n",
              "      <td>-25.391851</td>\n",
              "      <td>-2.245287</td>\n",
              "      <td>F8_Normal_100W</td>\n",
              "    </tr>\n",
              "    <tr>\n",
              "      <th>569</th>\n",
              "      <td>-28.906950</td>\n",
              "      <td>-5.743284</td>\n",
              "      <td>F8_Normal_100W</td>\n",
              "    </tr>\n",
              "    <tr>\n",
              "      <th>1047</th>\n",
              "      <td>-30.062096</td>\n",
              "      <td>2.125642</td>\n",
              "      <td>F8_Normal_100W</td>\n",
              "    </tr>\n",
              "    <tr>\n",
              "      <th>543</th>\n",
              "      <td>-30.984869</td>\n",
              "      <td>-4.187757</td>\n",
              "      <td>F8_Normal_100W</td>\n",
              "    </tr>\n",
              "    <tr>\n",
              "      <th>0</th>\n",
              "      <td>-26.625311</td>\n",
              "      <td>-2.743807</td>\n",
              "      <td>F8_Normal_100W</td>\n",
              "    </tr>\n",
              "  </tbody>\n",
              "</table>\n",
              "<p>1572 rows × 3 columns</p>\n",
              "</div>\n",
              "    <div class=\"colab-df-buttons\">\n",
              "\n",
              "  <div class=\"colab-df-container\">\n",
              "    <button class=\"colab-df-convert\" onclick=\"convertToInteractive('df-775c96ac-533e-4815-aec3-e72ab62cbb40')\"\n",
              "            title=\"Convert this dataframe to an interactive table.\"\n",
              "            style=\"display:none;\">\n",
              "\n",
              "  <svg xmlns=\"http://www.w3.org/2000/svg\" height=\"24px\" viewBox=\"0 -960 960 960\">\n",
              "    <path d=\"M120-120v-720h720v720H120Zm60-500h600v-160H180v160Zm220 220h160v-160H400v160Zm0 220h160v-160H400v160ZM180-400h160v-160H180v160Zm440 0h160v-160H620v160ZM180-180h160v-160H180v160Zm440 0h160v-160H620v160Z\"/>\n",
              "  </svg>\n",
              "    </button>\n",
              "\n",
              "  <style>\n",
              "    .colab-df-container {\n",
              "      display:flex;\n",
              "      gap: 12px;\n",
              "    }\n",
              "\n",
              "    .colab-df-convert {\n",
              "      background-color: #E8F0FE;\n",
              "      border: none;\n",
              "      border-radius: 50%;\n",
              "      cursor: pointer;\n",
              "      display: none;\n",
              "      fill: #1967D2;\n",
              "      height: 32px;\n",
              "      padding: 0 0 0 0;\n",
              "      width: 32px;\n",
              "    }\n",
              "\n",
              "    .colab-df-convert:hover {\n",
              "      background-color: #E2EBFA;\n",
              "      box-shadow: 0px 1px 2px rgba(60, 64, 67, 0.3), 0px 1px 3px 1px rgba(60, 64, 67, 0.15);\n",
              "      fill: #174EA6;\n",
              "    }\n",
              "\n",
              "    .colab-df-buttons div {\n",
              "      margin-bottom: 4px;\n",
              "    }\n",
              "\n",
              "    [theme=dark] .colab-df-convert {\n",
              "      background-color: #3B4455;\n",
              "      fill: #D2E3FC;\n",
              "    }\n",
              "\n",
              "    [theme=dark] .colab-df-convert:hover {\n",
              "      background-color: #434B5C;\n",
              "      box-shadow: 0px 1px 3px 1px rgba(0, 0, 0, 0.15);\n",
              "      filter: drop-shadow(0px 1px 2px rgba(0, 0, 0, 0.3));\n",
              "      fill: #FFFFFF;\n",
              "    }\n",
              "  </style>\n",
              "\n",
              "    <script>\n",
              "      const buttonEl =\n",
              "        document.querySelector('#df-775c96ac-533e-4815-aec3-e72ab62cbb40 button.colab-df-convert');\n",
              "      buttonEl.style.display =\n",
              "        google.colab.kernel.accessAllowed ? 'block' : 'none';\n",
              "\n",
              "      async function convertToInteractive(key) {\n",
              "        const element = document.querySelector('#df-775c96ac-533e-4815-aec3-e72ab62cbb40');\n",
              "        const dataTable =\n",
              "          await google.colab.kernel.invokeFunction('convertToInteractive',\n",
              "                                                    [key], {});\n",
              "        if (!dataTable) return;\n",
              "\n",
              "        const docLinkHtml = 'Like what you see? Visit the ' +\n",
              "          '<a target=\"_blank\" href=https://colab.research.google.com/notebooks/data_table.ipynb>data table notebook</a>'\n",
              "          + ' to learn more about interactive tables.';\n",
              "        element.innerHTML = '';\n",
              "        dataTable['output_type'] = 'display_data';\n",
              "        await google.colab.output.renderOutput(dataTable, element);\n",
              "        const docLink = document.createElement('div');\n",
              "        docLink.innerHTML = docLinkHtml;\n",
              "        element.appendChild(docLink);\n",
              "      }\n",
              "    </script>\n",
              "  </div>\n",
              "\n",
              "\n",
              "    <div id=\"df-af24ef06-3ed3-4f12-a765-f73ff06f04ea\">\n",
              "      <button class=\"colab-df-quickchart\" onclick=\"quickchart('df-af24ef06-3ed3-4f12-a765-f73ff06f04ea')\"\n",
              "                title=\"Suggest charts\"\n",
              "                style=\"display:none;\">\n",
              "\n",
              "<svg xmlns=\"http://www.w3.org/2000/svg\" height=\"24px\"viewBox=\"0 0 24 24\"\n",
              "     width=\"24px\">\n",
              "    <g>\n",
              "        <path d=\"M19 3H5c-1.1 0-2 .9-2 2v14c0 1.1.9 2 2 2h14c1.1 0 2-.9 2-2V5c0-1.1-.9-2-2-2zM9 17H7v-7h2v7zm4 0h-2V7h2v10zm4 0h-2v-4h2v4z\"/>\n",
              "    </g>\n",
              "</svg>\n",
              "      </button>\n",
              "\n",
              "<style>\n",
              "  .colab-df-quickchart {\n",
              "      --bg-color: #E8F0FE;\n",
              "      --fill-color: #1967D2;\n",
              "      --hover-bg-color: #E2EBFA;\n",
              "      --hover-fill-color: #174EA6;\n",
              "      --disabled-fill-color: #AAA;\n",
              "      --disabled-bg-color: #DDD;\n",
              "  }\n",
              "\n",
              "  [theme=dark] .colab-df-quickchart {\n",
              "      --bg-color: #3B4455;\n",
              "      --fill-color: #D2E3FC;\n",
              "      --hover-bg-color: #434B5C;\n",
              "      --hover-fill-color: #FFFFFF;\n",
              "      --disabled-bg-color: #3B4455;\n",
              "      --disabled-fill-color: #666;\n",
              "  }\n",
              "\n",
              "  .colab-df-quickchart {\n",
              "    background-color: var(--bg-color);\n",
              "    border: none;\n",
              "    border-radius: 50%;\n",
              "    cursor: pointer;\n",
              "    display: none;\n",
              "    fill: var(--fill-color);\n",
              "    height: 32px;\n",
              "    padding: 0;\n",
              "    width: 32px;\n",
              "  }\n",
              "\n",
              "  .colab-df-quickchart:hover {\n",
              "    background-color: var(--hover-bg-color);\n",
              "    box-shadow: 0 1px 2px rgba(60, 64, 67, 0.3), 0 1px 3px 1px rgba(60, 64, 67, 0.15);\n",
              "    fill: var(--button-hover-fill-color);\n",
              "  }\n",
              "\n",
              "  .colab-df-quickchart-complete:disabled,\n",
              "  .colab-df-quickchart-complete:disabled:hover {\n",
              "    background-color: var(--disabled-bg-color);\n",
              "    fill: var(--disabled-fill-color);\n",
              "    box-shadow: none;\n",
              "  }\n",
              "\n",
              "  .colab-df-spinner {\n",
              "    border: 2px solid var(--fill-color);\n",
              "    border-color: transparent;\n",
              "    border-bottom-color: var(--fill-color);\n",
              "    animation:\n",
              "      spin 1s steps(1) infinite;\n",
              "  }\n",
              "\n",
              "  @keyframes spin {\n",
              "    0% {\n",
              "      border-color: transparent;\n",
              "      border-bottom-color: var(--fill-color);\n",
              "      border-left-color: var(--fill-color);\n",
              "    }\n",
              "    20% {\n",
              "      border-color: transparent;\n",
              "      border-left-color: var(--fill-color);\n",
              "      border-top-color: var(--fill-color);\n",
              "    }\n",
              "    30% {\n",
              "      border-color: transparent;\n",
              "      border-left-color: var(--fill-color);\n",
              "      border-top-color: var(--fill-color);\n",
              "      border-right-color: var(--fill-color);\n",
              "    }\n",
              "    40% {\n",
              "      border-color: transparent;\n",
              "      border-right-color: var(--fill-color);\n",
              "      border-top-color: var(--fill-color);\n",
              "    }\n",
              "    60% {\n",
              "      border-color: transparent;\n",
              "      border-right-color: var(--fill-color);\n",
              "    }\n",
              "    80% {\n",
              "      border-color: transparent;\n",
              "      border-right-color: var(--fill-color);\n",
              "      border-bottom-color: var(--fill-color);\n",
              "    }\n",
              "    90% {\n",
              "      border-color: transparent;\n",
              "      border-bottom-color: var(--fill-color);\n",
              "    }\n",
              "  }\n",
              "</style>\n",
              "\n",
              "      <script>\n",
              "        async function quickchart(key) {\n",
              "          const quickchartButtonEl =\n",
              "            document.querySelector('#' + key + ' button');\n",
              "          quickchartButtonEl.disabled = true;  // To prevent multiple clicks.\n",
              "          quickchartButtonEl.classList.add('colab-df-spinner');\n",
              "          try {\n",
              "            const charts = await google.colab.kernel.invokeFunction(\n",
              "                'suggestCharts', [key], {});\n",
              "          } catch (error) {\n",
              "            console.error('Error during call to suggestCharts:', error);\n",
              "          }\n",
              "          quickchartButtonEl.classList.remove('colab-df-spinner');\n",
              "          quickchartButtonEl.classList.add('colab-df-quickchart-complete');\n",
              "        }\n",
              "        (() => {\n",
              "          let quickchartButtonEl =\n",
              "            document.querySelector('#df-af24ef06-3ed3-4f12-a765-f73ff06f04ea button');\n",
              "          quickchartButtonEl.style.display =\n",
              "            google.colab.kernel.accessAllowed ? 'block' : 'none';\n",
              "        })();\n",
              "      </script>\n",
              "    </div>\n",
              "\n",
              "  <div id=\"id_5d7bcf74-b157-42c7-a172-22c720d14c0d\">\n",
              "    <style>\n",
              "      .colab-df-generate {\n",
              "        background-color: #E8F0FE;\n",
              "        border: none;\n",
              "        border-radius: 50%;\n",
              "        cursor: pointer;\n",
              "        display: none;\n",
              "        fill: #1967D2;\n",
              "        height: 32px;\n",
              "        padding: 0 0 0 0;\n",
              "        width: 32px;\n",
              "      }\n",
              "\n",
              "      .colab-df-generate:hover {\n",
              "        background-color: #E2EBFA;\n",
              "        box-shadow: 0px 1px 2px rgba(60, 64, 67, 0.3), 0px 1px 3px 1px rgba(60, 64, 67, 0.15);\n",
              "        fill: #174EA6;\n",
              "      }\n",
              "\n",
              "      [theme=dark] .colab-df-generate {\n",
              "        background-color: #3B4455;\n",
              "        fill: #D2E3FC;\n",
              "      }\n",
              "\n",
              "      [theme=dark] .colab-df-generate:hover {\n",
              "        background-color: #434B5C;\n",
              "        box-shadow: 0px 1px 3px 1px rgba(0, 0, 0, 0.15);\n",
              "        filter: drop-shadow(0px 1px 2px rgba(0, 0, 0, 0.3));\n",
              "        fill: #FFFFFF;\n",
              "      }\n",
              "    </style>\n",
              "    <button class=\"colab-df-generate\" onclick=\"generateWithVariable('tSNEdf')\"\n",
              "            title=\"Generate code using this dataframe.\"\n",
              "            style=\"display:none;\">\n",
              "\n",
              "  <svg xmlns=\"http://www.w3.org/2000/svg\" height=\"24px\"viewBox=\"0 0 24 24\"\n",
              "       width=\"24px\">\n",
              "    <path d=\"M7,19H8.4L18.45,9,17,7.55,7,17.6ZM5,21V16.75L18.45,3.32a2,2,0,0,1,2.83,0l1.4,1.43a1.91,1.91,0,0,1,.58,1.4,1.91,1.91,0,0,1-.58,1.4L9.25,21ZM18.45,9,17,7.55Zm-12,3A5.31,5.31,0,0,0,4.9,8.1,5.31,5.31,0,0,0,1,6.5,5.31,5.31,0,0,0,4.9,4.9,5.31,5.31,0,0,0,6.5,1,5.31,5.31,0,0,0,8.1,4.9,5.31,5.31,0,0,0,12,6.5,5.46,5.46,0,0,0,6.5,12Z\"/>\n",
              "  </svg>\n",
              "    </button>\n",
              "    <script>\n",
              "      (() => {\n",
              "      const buttonEl =\n",
              "        document.querySelector('#id_5d7bcf74-b157-42c7-a172-22c720d14c0d button.colab-df-generate');\n",
              "      buttonEl.style.display =\n",
              "        google.colab.kernel.accessAllowed ? 'block' : 'none';\n",
              "\n",
              "      buttonEl.onclick = () => {\n",
              "        google.colab.notebook.generateWithVariable('tSNEdf');\n",
              "      }\n",
              "      })();\n",
              "    </script>\n",
              "  </div>\n",
              "\n",
              "    </div>\n",
              "  </div>\n"
            ],
            "application/vnd.google.colaboratory.intrinsic+json": {
              "type": "dataframe",
              "variable_name": "tSNEdf",
              "summary": "{\n  \"name\": \"tSNEdf\",\n  \"rows\": 1572,\n  \"fields\": [\n    {\n      \"column\": \"T-SNE component 1\",\n      \"properties\": {\n        \"dtype\": \"float32\",\n        \"num_unique_values\": 1572,\n        \"samples\": [\n          7.322895050048828,\n          -10.883569717407227,\n          7.1581130027771\n        ],\n        \"semantic_type\": \"\",\n        \"description\": \"\"\n      }\n    },\n    {\n      \"column\": \"T-SNE component 2\",\n      \"properties\": {\n        \"dtype\": \"float32\",\n        \"num_unique_values\": 1572,\n        \"samples\": [\n          4.6695380210876465,\n          0.8883374929428101,\n          2.8140456676483154\n        ],\n        \"semantic_type\": \"\",\n        \"description\": \"\"\n      }\n    },\n    {\n      \"column\": \"Fault\",\n      \"properties\": {\n        \"dtype\": \"category\",\n        \"num_unique_values\": 8,\n        \"samples\": [\n          \"F2_IR009_100W\",\n          \"F6_OR013_100W\",\n          \"F1_IR007_100W\"\n        ],\n        \"semantic_type\": \"\",\n        \"description\": \"\"\n      }\n    }\n  ]\n}"
            }
          },
          "metadata": {},
          "execution_count": 136
        }
      ]
    },
    {
      "cell_type": "markdown",
      "source": [
        "Combined Features"
      ],
      "metadata": {
        "id": "73T5xFDWQmML"
      },
      "id": "73T5xFDWQmML"
    },
    {
      "cell_type": "code",
      "source": [
        "# import pandas as pd\n",
        "\n",
        "# Assuming df1 and df2 are your two dataframes\n",
        "# Concatenate the dataframes vertically\n",
        "Motor_Fault_dataset = pd.concat([tSNE_representation, tSNEdf], axis=1)\n",
        "Motor_Fault_dataset=Motor_Fault_dataset.sort_values(by='Fault')\n",
        "Motor_Fault_dataset\n",
        "\n",
        "import pandas as pd\n",
        "from sklearn.preprocessing import StandardScaler\n",
        "\n",
        "# Assuming df1 and df2 are your two dataframes\n",
        "# Concatenate the dataframes vertically\n",
        "Motor_Fault_dataset = pd.concat([tSNE_representation, tSNEdf], axis=1)\n",
        "\n",
        "# Sort the dataset by 'Fault' column\n",
        "Motor_Fault_dataset = Motor_Fault_dataset.sort_values(by='Fault')\n",
        "Motor_Fault_dataset\n"
      ],
      "metadata": {
        "id": "sEmeYK5c8anK",
        "colab": {
          "base_uri": "https://localhost:8080/",
          "height": 423
        },
        "outputId": "5226eeea-c37a-4df1-c14c-37b496917644"
      },
      "id": "sEmeYK5c8anK",
      "execution_count": 137,
      "outputs": [
        {
          "output_type": "execute_result",
          "data": {
            "text/plain": [
              "        t-SNE 1    t-SNE 2  T-SNE component 1  T-SNE component 2  \\\n",
              "785  -50.701263  -0.636986          -7.702160         -20.409708   \n",
              "1054  20.533743  -1.483480          -9.975286         -16.755232   \n",
              "286   14.578409 -19.402882          -7.215111         -20.187197   \n",
              "1062 -10.758683 -12.050025         -12.209128         -21.671473   \n",
              "1065   0.493592 -11.527511         -11.487304         -17.884586   \n",
              "...         ...        ...                ...                ...   \n",
              "1136  20.609093  -2.465491         -30.550400          -3.992197   \n",
              "246   13.243990  -9.712628         -26.498112          -6.098831   \n",
              "1128  21.977697  -2.456661         -31.024576          -1.196713   \n",
              "1144  22.126728   0.342885         -27.706808          -6.219587   \n",
              "0     10.576097  23.503271         -26.625311          -2.743807   \n",
              "\n",
              "               Fault  \n",
              "785    F1_IR007_100W  \n",
              "1054   F1_IR007_100W  \n",
              "286    F1_IR007_100W  \n",
              "1062   F1_IR007_100W  \n",
              "1065   F1_IR007_100W  \n",
              "...              ...  \n",
              "1136  F8_Normal_100W  \n",
              "246   F8_Normal_100W  \n",
              "1128  F8_Normal_100W  \n",
              "1144  F8_Normal_100W  \n",
              "0     F8_Normal_100W  \n",
              "\n",
              "[1572 rows x 5 columns]"
            ],
            "text/html": [
              "\n",
              "  <div id=\"df-fe9e8906-3f4b-4587-8be8-744f6e090d8f\" class=\"colab-df-container\">\n",
              "    <div>\n",
              "<style scoped>\n",
              "    .dataframe tbody tr th:only-of-type {\n",
              "        vertical-align: middle;\n",
              "    }\n",
              "\n",
              "    .dataframe tbody tr th {\n",
              "        vertical-align: top;\n",
              "    }\n",
              "\n",
              "    .dataframe thead th {\n",
              "        text-align: right;\n",
              "    }\n",
              "</style>\n",
              "<table border=\"1\" class=\"dataframe\">\n",
              "  <thead>\n",
              "    <tr style=\"text-align: right;\">\n",
              "      <th></th>\n",
              "      <th>t-SNE 1</th>\n",
              "      <th>t-SNE 2</th>\n",
              "      <th>T-SNE component 1</th>\n",
              "      <th>T-SNE component 2</th>\n",
              "      <th>Fault</th>\n",
              "    </tr>\n",
              "  </thead>\n",
              "  <tbody>\n",
              "    <tr>\n",
              "      <th>785</th>\n",
              "      <td>-50.701263</td>\n",
              "      <td>-0.636986</td>\n",
              "      <td>-7.702160</td>\n",
              "      <td>-20.409708</td>\n",
              "      <td>F1_IR007_100W</td>\n",
              "    </tr>\n",
              "    <tr>\n",
              "      <th>1054</th>\n",
              "      <td>20.533743</td>\n",
              "      <td>-1.483480</td>\n",
              "      <td>-9.975286</td>\n",
              "      <td>-16.755232</td>\n",
              "      <td>F1_IR007_100W</td>\n",
              "    </tr>\n",
              "    <tr>\n",
              "      <th>286</th>\n",
              "      <td>14.578409</td>\n",
              "      <td>-19.402882</td>\n",
              "      <td>-7.215111</td>\n",
              "      <td>-20.187197</td>\n",
              "      <td>F1_IR007_100W</td>\n",
              "    </tr>\n",
              "    <tr>\n",
              "      <th>1062</th>\n",
              "      <td>-10.758683</td>\n",
              "      <td>-12.050025</td>\n",
              "      <td>-12.209128</td>\n",
              "      <td>-21.671473</td>\n",
              "      <td>F1_IR007_100W</td>\n",
              "    </tr>\n",
              "    <tr>\n",
              "      <th>1065</th>\n",
              "      <td>0.493592</td>\n",
              "      <td>-11.527511</td>\n",
              "      <td>-11.487304</td>\n",
              "      <td>-17.884586</td>\n",
              "      <td>F1_IR007_100W</td>\n",
              "    </tr>\n",
              "    <tr>\n",
              "      <th>...</th>\n",
              "      <td>...</td>\n",
              "      <td>...</td>\n",
              "      <td>...</td>\n",
              "      <td>...</td>\n",
              "      <td>...</td>\n",
              "    </tr>\n",
              "    <tr>\n",
              "      <th>1136</th>\n",
              "      <td>20.609093</td>\n",
              "      <td>-2.465491</td>\n",
              "      <td>-30.550400</td>\n",
              "      <td>-3.992197</td>\n",
              "      <td>F8_Normal_100W</td>\n",
              "    </tr>\n",
              "    <tr>\n",
              "      <th>246</th>\n",
              "      <td>13.243990</td>\n",
              "      <td>-9.712628</td>\n",
              "      <td>-26.498112</td>\n",
              "      <td>-6.098831</td>\n",
              "      <td>F8_Normal_100W</td>\n",
              "    </tr>\n",
              "    <tr>\n",
              "      <th>1128</th>\n",
              "      <td>21.977697</td>\n",
              "      <td>-2.456661</td>\n",
              "      <td>-31.024576</td>\n",
              "      <td>-1.196713</td>\n",
              "      <td>F8_Normal_100W</td>\n",
              "    </tr>\n",
              "    <tr>\n",
              "      <th>1144</th>\n",
              "      <td>22.126728</td>\n",
              "      <td>0.342885</td>\n",
              "      <td>-27.706808</td>\n",
              "      <td>-6.219587</td>\n",
              "      <td>F8_Normal_100W</td>\n",
              "    </tr>\n",
              "    <tr>\n",
              "      <th>0</th>\n",
              "      <td>10.576097</td>\n",
              "      <td>23.503271</td>\n",
              "      <td>-26.625311</td>\n",
              "      <td>-2.743807</td>\n",
              "      <td>F8_Normal_100W</td>\n",
              "    </tr>\n",
              "  </tbody>\n",
              "</table>\n",
              "<p>1572 rows × 5 columns</p>\n",
              "</div>\n",
              "    <div class=\"colab-df-buttons\">\n",
              "\n",
              "  <div class=\"colab-df-container\">\n",
              "    <button class=\"colab-df-convert\" onclick=\"convertToInteractive('df-fe9e8906-3f4b-4587-8be8-744f6e090d8f')\"\n",
              "            title=\"Convert this dataframe to an interactive table.\"\n",
              "            style=\"display:none;\">\n",
              "\n",
              "  <svg xmlns=\"http://www.w3.org/2000/svg\" height=\"24px\" viewBox=\"0 -960 960 960\">\n",
              "    <path d=\"M120-120v-720h720v720H120Zm60-500h600v-160H180v160Zm220 220h160v-160H400v160Zm0 220h160v-160H400v160ZM180-400h160v-160H180v160Zm440 0h160v-160H620v160ZM180-180h160v-160H180v160Zm440 0h160v-160H620v160Z\"/>\n",
              "  </svg>\n",
              "    </button>\n",
              "\n",
              "  <style>\n",
              "    .colab-df-container {\n",
              "      display:flex;\n",
              "      gap: 12px;\n",
              "    }\n",
              "\n",
              "    .colab-df-convert {\n",
              "      background-color: #E8F0FE;\n",
              "      border: none;\n",
              "      border-radius: 50%;\n",
              "      cursor: pointer;\n",
              "      display: none;\n",
              "      fill: #1967D2;\n",
              "      height: 32px;\n",
              "      padding: 0 0 0 0;\n",
              "      width: 32px;\n",
              "    }\n",
              "\n",
              "    .colab-df-convert:hover {\n",
              "      background-color: #E2EBFA;\n",
              "      box-shadow: 0px 1px 2px rgba(60, 64, 67, 0.3), 0px 1px 3px 1px rgba(60, 64, 67, 0.15);\n",
              "      fill: #174EA6;\n",
              "    }\n",
              "\n",
              "    .colab-df-buttons div {\n",
              "      margin-bottom: 4px;\n",
              "    }\n",
              "\n",
              "    [theme=dark] .colab-df-convert {\n",
              "      background-color: #3B4455;\n",
              "      fill: #D2E3FC;\n",
              "    }\n",
              "\n",
              "    [theme=dark] .colab-df-convert:hover {\n",
              "      background-color: #434B5C;\n",
              "      box-shadow: 0px 1px 3px 1px rgba(0, 0, 0, 0.15);\n",
              "      filter: drop-shadow(0px 1px 2px rgba(0, 0, 0, 0.3));\n",
              "      fill: #FFFFFF;\n",
              "    }\n",
              "  </style>\n",
              "\n",
              "    <script>\n",
              "      const buttonEl =\n",
              "        document.querySelector('#df-fe9e8906-3f4b-4587-8be8-744f6e090d8f button.colab-df-convert');\n",
              "      buttonEl.style.display =\n",
              "        google.colab.kernel.accessAllowed ? 'block' : 'none';\n",
              "\n",
              "      async function convertToInteractive(key) {\n",
              "        const element = document.querySelector('#df-fe9e8906-3f4b-4587-8be8-744f6e090d8f');\n",
              "        const dataTable =\n",
              "          await google.colab.kernel.invokeFunction('convertToInteractive',\n",
              "                                                    [key], {});\n",
              "        if (!dataTable) return;\n",
              "\n",
              "        const docLinkHtml = 'Like what you see? Visit the ' +\n",
              "          '<a target=\"_blank\" href=https://colab.research.google.com/notebooks/data_table.ipynb>data table notebook</a>'\n",
              "          + ' to learn more about interactive tables.';\n",
              "        element.innerHTML = '';\n",
              "        dataTable['output_type'] = 'display_data';\n",
              "        await google.colab.output.renderOutput(dataTable, element);\n",
              "        const docLink = document.createElement('div');\n",
              "        docLink.innerHTML = docLinkHtml;\n",
              "        element.appendChild(docLink);\n",
              "      }\n",
              "    </script>\n",
              "  </div>\n",
              "\n",
              "\n",
              "    <div id=\"df-cbef2474-7b16-4aec-ac0d-395f2fe17060\">\n",
              "      <button class=\"colab-df-quickchart\" onclick=\"quickchart('df-cbef2474-7b16-4aec-ac0d-395f2fe17060')\"\n",
              "                title=\"Suggest charts\"\n",
              "                style=\"display:none;\">\n",
              "\n",
              "<svg xmlns=\"http://www.w3.org/2000/svg\" height=\"24px\"viewBox=\"0 0 24 24\"\n",
              "     width=\"24px\">\n",
              "    <g>\n",
              "        <path d=\"M19 3H5c-1.1 0-2 .9-2 2v14c0 1.1.9 2 2 2h14c1.1 0 2-.9 2-2V5c0-1.1-.9-2-2-2zM9 17H7v-7h2v7zm4 0h-2V7h2v10zm4 0h-2v-4h2v4z\"/>\n",
              "    </g>\n",
              "</svg>\n",
              "      </button>\n",
              "\n",
              "<style>\n",
              "  .colab-df-quickchart {\n",
              "      --bg-color: #E8F0FE;\n",
              "      --fill-color: #1967D2;\n",
              "      --hover-bg-color: #E2EBFA;\n",
              "      --hover-fill-color: #174EA6;\n",
              "      --disabled-fill-color: #AAA;\n",
              "      --disabled-bg-color: #DDD;\n",
              "  }\n",
              "\n",
              "  [theme=dark] .colab-df-quickchart {\n",
              "      --bg-color: #3B4455;\n",
              "      --fill-color: #D2E3FC;\n",
              "      --hover-bg-color: #434B5C;\n",
              "      --hover-fill-color: #FFFFFF;\n",
              "      --disabled-bg-color: #3B4455;\n",
              "      --disabled-fill-color: #666;\n",
              "  }\n",
              "\n",
              "  .colab-df-quickchart {\n",
              "    background-color: var(--bg-color);\n",
              "    border: none;\n",
              "    border-radius: 50%;\n",
              "    cursor: pointer;\n",
              "    display: none;\n",
              "    fill: var(--fill-color);\n",
              "    height: 32px;\n",
              "    padding: 0;\n",
              "    width: 32px;\n",
              "  }\n",
              "\n",
              "  .colab-df-quickchart:hover {\n",
              "    background-color: var(--hover-bg-color);\n",
              "    box-shadow: 0 1px 2px rgba(60, 64, 67, 0.3), 0 1px 3px 1px rgba(60, 64, 67, 0.15);\n",
              "    fill: var(--button-hover-fill-color);\n",
              "  }\n",
              "\n",
              "  .colab-df-quickchart-complete:disabled,\n",
              "  .colab-df-quickchart-complete:disabled:hover {\n",
              "    background-color: var(--disabled-bg-color);\n",
              "    fill: var(--disabled-fill-color);\n",
              "    box-shadow: none;\n",
              "  }\n",
              "\n",
              "  .colab-df-spinner {\n",
              "    border: 2px solid var(--fill-color);\n",
              "    border-color: transparent;\n",
              "    border-bottom-color: var(--fill-color);\n",
              "    animation:\n",
              "      spin 1s steps(1) infinite;\n",
              "  }\n",
              "\n",
              "  @keyframes spin {\n",
              "    0% {\n",
              "      border-color: transparent;\n",
              "      border-bottom-color: var(--fill-color);\n",
              "      border-left-color: var(--fill-color);\n",
              "    }\n",
              "    20% {\n",
              "      border-color: transparent;\n",
              "      border-left-color: var(--fill-color);\n",
              "      border-top-color: var(--fill-color);\n",
              "    }\n",
              "    30% {\n",
              "      border-color: transparent;\n",
              "      border-left-color: var(--fill-color);\n",
              "      border-top-color: var(--fill-color);\n",
              "      border-right-color: var(--fill-color);\n",
              "    }\n",
              "    40% {\n",
              "      border-color: transparent;\n",
              "      border-right-color: var(--fill-color);\n",
              "      border-top-color: var(--fill-color);\n",
              "    }\n",
              "    60% {\n",
              "      border-color: transparent;\n",
              "      border-right-color: var(--fill-color);\n",
              "    }\n",
              "    80% {\n",
              "      border-color: transparent;\n",
              "      border-right-color: var(--fill-color);\n",
              "      border-bottom-color: var(--fill-color);\n",
              "    }\n",
              "    90% {\n",
              "      border-color: transparent;\n",
              "      border-bottom-color: var(--fill-color);\n",
              "    }\n",
              "  }\n",
              "</style>\n",
              "\n",
              "      <script>\n",
              "        async function quickchart(key) {\n",
              "          const quickchartButtonEl =\n",
              "            document.querySelector('#' + key + ' button');\n",
              "          quickchartButtonEl.disabled = true;  // To prevent multiple clicks.\n",
              "          quickchartButtonEl.classList.add('colab-df-spinner');\n",
              "          try {\n",
              "            const charts = await google.colab.kernel.invokeFunction(\n",
              "                'suggestCharts', [key], {});\n",
              "          } catch (error) {\n",
              "            console.error('Error during call to suggestCharts:', error);\n",
              "          }\n",
              "          quickchartButtonEl.classList.remove('colab-df-spinner');\n",
              "          quickchartButtonEl.classList.add('colab-df-quickchart-complete');\n",
              "        }\n",
              "        (() => {\n",
              "          let quickchartButtonEl =\n",
              "            document.querySelector('#df-cbef2474-7b16-4aec-ac0d-395f2fe17060 button');\n",
              "          quickchartButtonEl.style.display =\n",
              "            google.colab.kernel.accessAllowed ? 'block' : 'none';\n",
              "        })();\n",
              "      </script>\n",
              "    </div>\n",
              "\n",
              "  <div id=\"id_5c3aaaf7-8dfb-4cfc-b03b-e930b57f3708\">\n",
              "    <style>\n",
              "      .colab-df-generate {\n",
              "        background-color: #E8F0FE;\n",
              "        border: none;\n",
              "        border-radius: 50%;\n",
              "        cursor: pointer;\n",
              "        display: none;\n",
              "        fill: #1967D2;\n",
              "        height: 32px;\n",
              "        padding: 0 0 0 0;\n",
              "        width: 32px;\n",
              "      }\n",
              "\n",
              "      .colab-df-generate:hover {\n",
              "        background-color: #E2EBFA;\n",
              "        box-shadow: 0px 1px 2px rgba(60, 64, 67, 0.3), 0px 1px 3px 1px rgba(60, 64, 67, 0.15);\n",
              "        fill: #174EA6;\n",
              "      }\n",
              "\n",
              "      [theme=dark] .colab-df-generate {\n",
              "        background-color: #3B4455;\n",
              "        fill: #D2E3FC;\n",
              "      }\n",
              "\n",
              "      [theme=dark] .colab-df-generate:hover {\n",
              "        background-color: #434B5C;\n",
              "        box-shadow: 0px 1px 3px 1px rgba(0, 0, 0, 0.15);\n",
              "        filter: drop-shadow(0px 1px 2px rgba(0, 0, 0, 0.3));\n",
              "        fill: #FFFFFF;\n",
              "      }\n",
              "    </style>\n",
              "    <button class=\"colab-df-generate\" onclick=\"generateWithVariable('Motor_Fault_dataset')\"\n",
              "            title=\"Generate code using this dataframe.\"\n",
              "            style=\"display:none;\">\n",
              "\n",
              "  <svg xmlns=\"http://www.w3.org/2000/svg\" height=\"24px\"viewBox=\"0 0 24 24\"\n",
              "       width=\"24px\">\n",
              "    <path d=\"M7,19H8.4L18.45,9,17,7.55,7,17.6ZM5,21V16.75L18.45,3.32a2,2,0,0,1,2.83,0l1.4,1.43a1.91,1.91,0,0,1,.58,1.4,1.91,1.91,0,0,1-.58,1.4L9.25,21ZM18.45,9,17,7.55Zm-12,3A5.31,5.31,0,0,0,4.9,8.1,5.31,5.31,0,0,0,1,6.5,5.31,5.31,0,0,0,4.9,4.9,5.31,5.31,0,0,0,6.5,1,5.31,5.31,0,0,0,8.1,4.9,5.31,5.31,0,0,0,12,6.5,5.46,5.46,0,0,0,6.5,12Z\"/>\n",
              "  </svg>\n",
              "    </button>\n",
              "    <script>\n",
              "      (() => {\n",
              "      const buttonEl =\n",
              "        document.querySelector('#id_5c3aaaf7-8dfb-4cfc-b03b-e930b57f3708 button.colab-df-generate');\n",
              "      buttonEl.style.display =\n",
              "        google.colab.kernel.accessAllowed ? 'block' : 'none';\n",
              "\n",
              "      buttonEl.onclick = () => {\n",
              "        google.colab.notebook.generateWithVariable('Motor_Fault_dataset');\n",
              "      }\n",
              "      })();\n",
              "    </script>\n",
              "  </div>\n",
              "\n",
              "    </div>\n",
              "  </div>\n"
            ],
            "application/vnd.google.colaboratory.intrinsic+json": {
              "type": "dataframe",
              "variable_name": "Motor_Fault_dataset",
              "summary": "{\n  \"name\": \"Motor_Fault_dataset\",\n  \"rows\": 1572,\n  \"fields\": [\n    {\n      \"column\": \"t-SNE 1\",\n      \"properties\": {\n        \"dtype\": \"float32\",\n        \"num_unique_values\": 1568,\n        \"samples\": [\n          -3.301468849182129,\n          -40.88237380981445,\n          -33.18124771118164\n        ],\n        \"semantic_type\": \"\",\n        \"description\": \"\"\n      }\n    },\n    {\n      \"column\": \"t-SNE 2\",\n      \"properties\": {\n        \"dtype\": \"float32\",\n        \"num_unique_values\": 1568,\n        \"samples\": [\n          -19.999547958374023,\n          3.9712116718292236,\n          -27.448293685913086\n        ],\n        \"semantic_type\": \"\",\n        \"description\": \"\"\n      }\n    },\n    {\n      \"column\": \"T-SNE component 1\",\n      \"properties\": {\n        \"dtype\": \"float32\",\n        \"num_unique_values\": 1572,\n        \"samples\": [\n          6.88582181930542,\n          -14.027174949645996,\n          3.275876998901367\n        ],\n        \"semantic_type\": \"\",\n        \"description\": \"\"\n      }\n    },\n    {\n      \"column\": \"T-SNE component 2\",\n      \"properties\": {\n        \"dtype\": \"float32\",\n        \"num_unique_values\": 1572,\n        \"samples\": [\n          3.180840015411377,\n          4.861125946044922,\n          3.9577486515045166\n        ],\n        \"semantic_type\": \"\",\n        \"description\": \"\"\n      }\n    },\n    {\n      \"column\": \"Fault\",\n      \"properties\": {\n        \"dtype\": \"category\",\n        \"num_unique_values\": 8,\n        \"samples\": [\n          \"F2_IR009_100W\",\n          \"F6_OR013_100W\",\n          \"F1_IR007_100W\"\n        ],\n        \"semantic_type\": \"\",\n        \"description\": \"\"\n      }\n    }\n  ]\n}"
            }
          },
          "metadata": {},
          "execution_count": 137
        }
      ]
    },
    {
      "cell_type": "code",
      "source": [
        "#Classification Report for MKDCNN"
      ],
      "metadata": {
        "id": "zC_6vMBPsOs_"
      },
      "id": "zC_6vMBPsOs_",
      "execution_count": 138,
      "outputs": []
    },
    {
      "cell_type": "code",
      "source": [],
      "metadata": {
        "id": "b77LcDP9sPR2"
      },
      "id": "b77LcDP9sPR2",
      "execution_count": 138,
      "outputs": []
    },
    {
      "cell_type": "markdown",
      "source": [
        "HSPSO-CatBoost\n"
      ],
      "metadata": {
        "id": "wZFQ37UCYN1p"
      },
      "id": "wZFQ37UCYN1p"
    },
    {
      "cell_type": "code",
      "source": [
        "X = Motor_Fault_dataset.iloc[:, 0:4].values\n",
        "y = Motor_Fault_dataset.iloc[:, 4].values"
      ],
      "metadata": {
        "id": "f_P8BWzmYTg0"
      },
      "id": "f_P8BWzmYTg0",
      "execution_count": 139,
      "outputs": []
    },
    {
      "cell_type": "code",
      "source": [
        "# Splitting the dataset into the Training set and Test set\n",
        "from sklearn.model_selection import train_test_split\n",
        "X_train, X_test, y_train, y_test = train_test_split(X, y, test_size = 0.2)"
      ],
      "metadata": {
        "id": "vLMueEZ6YfvA"
      },
      "id": "vLMueEZ6YfvA",
      "execution_count": 140,
      "outputs": []
    },
    {
      "cell_type": "code",
      "source": [
        "pip install hyperactive"
      ],
      "metadata": {
        "id": "nsTDebhD9iQw",
        "colab": {
          "base_uri": "https://localhost:8080/"
        },
        "outputId": "b10545d2-ea0b-4b98-b15d-22efaaf4c25f"
      },
      "id": "nsTDebhD9iQw",
      "execution_count": 141,
      "outputs": [
        {
          "output_type": "stream",
          "name": "stdout",
          "text": [
            "Requirement already satisfied: hyperactive in /usr/local/lib/python3.11/dist-packages (4.8.0)\n",
            "Requirement already satisfied: numpy<3.0.0,>=1.18.1 in /usr/local/lib/python3.11/dist-packages (from hyperactive) (2.0.2)\n",
            "Requirement already satisfied: tqdm<5.0.0,>=4.48.0 in /usr/local/lib/python3.11/dist-packages (from hyperactive) (4.67.1)\n",
            "Requirement already satisfied: pandas<3.0.0 in /usr/local/lib/python3.11/dist-packages (from hyperactive) (2.2.2)\n",
            "Requirement already satisfied: gradient-free-optimizers<2.0.0,>=1.2.4 in /usr/local/lib/python3.11/dist-packages (from hyperactive) (1.7.1)\n",
            "Requirement already satisfied: scipy<2.0.0 in /usr/local/lib/python3.11/dist-packages (from gradient-free-optimizers<2.0.0,>=1.2.4->hyperactive) (1.15.3)\n",
            "Requirement already satisfied: scikit-learn!=0.23.*,>=0.21 in /usr/local/lib/python3.11/dist-packages (from gradient-free-optimizers<2.0.0,>=1.2.4->hyperactive) (1.6.1)\n",
            "Requirement already satisfied: python-dateutil>=2.8.2 in /usr/local/lib/python3.11/dist-packages (from pandas<3.0.0->hyperactive) (2.9.0.post0)\n",
            "Requirement already satisfied: pytz>=2020.1 in /usr/local/lib/python3.11/dist-packages (from pandas<3.0.0->hyperactive) (2025.2)\n",
            "Requirement already satisfied: tzdata>=2022.7 in /usr/local/lib/python3.11/dist-packages (from pandas<3.0.0->hyperactive) (2025.2)\n",
            "Requirement already satisfied: six>=1.5 in /usr/local/lib/python3.11/dist-packages (from python-dateutil>=2.8.2->pandas<3.0.0->hyperactive) (1.17.0)\n",
            "Requirement already satisfied: joblib>=1.2.0 in /usr/local/lib/python3.11/dist-packages (from scikit-learn!=0.23.*,>=0.21->gradient-free-optimizers<2.0.0,>=1.2.4->hyperactive) (1.5.1)\n",
            "Requirement already satisfied: threadpoolctl>=3.1.0 in /usr/local/lib/python3.11/dist-packages (from scikit-learn!=0.23.*,>=0.21->gradient-free-optimizers<2.0.0,>=1.2.4->hyperactive) (3.6.0)\n"
          ]
        }
      ]
    },
    {
      "cell_type": "code",
      "source": [
        "pip install catboost"
      ],
      "metadata": {
        "id": "UTH39uc29p_Q",
        "colab": {
          "base_uri": "https://localhost:8080/"
        },
        "outputId": "80749a17-2322-4373-e9f2-737e3889cfeb"
      },
      "id": "UTH39uc29p_Q",
      "execution_count": 142,
      "outputs": [
        {
          "output_type": "stream",
          "name": "stdout",
          "text": [
            "Requirement already satisfied: catboost in /usr/local/lib/python3.11/dist-packages (1.2.8)\n",
            "Requirement already satisfied: graphviz in /usr/local/lib/python3.11/dist-packages (from catboost) (0.21)\n",
            "Requirement already satisfied: matplotlib in /usr/local/lib/python3.11/dist-packages (from catboost) (3.10.0)\n",
            "Requirement already satisfied: numpy<3.0,>=1.16.0 in /usr/local/lib/python3.11/dist-packages (from catboost) (2.0.2)\n",
            "Requirement already satisfied: pandas>=0.24 in /usr/local/lib/python3.11/dist-packages (from catboost) (2.2.2)\n",
            "Requirement already satisfied: scipy in /usr/local/lib/python3.11/dist-packages (from catboost) (1.15.3)\n",
            "Requirement already satisfied: plotly in /usr/local/lib/python3.11/dist-packages (from catboost) (5.24.1)\n",
            "Requirement already satisfied: six in /usr/local/lib/python3.11/dist-packages (from catboost) (1.17.0)\n",
            "Requirement already satisfied: python-dateutil>=2.8.2 in /usr/local/lib/python3.11/dist-packages (from pandas>=0.24->catboost) (2.9.0.post0)\n",
            "Requirement already satisfied: pytz>=2020.1 in /usr/local/lib/python3.11/dist-packages (from pandas>=0.24->catboost) (2025.2)\n",
            "Requirement already satisfied: tzdata>=2022.7 in /usr/local/lib/python3.11/dist-packages (from pandas>=0.24->catboost) (2025.2)\n",
            "Requirement already satisfied: contourpy>=1.0.1 in /usr/local/lib/python3.11/dist-packages (from matplotlib->catboost) (1.3.2)\n",
            "Requirement already satisfied: cycler>=0.10 in /usr/local/lib/python3.11/dist-packages (from matplotlib->catboost) (0.12.1)\n",
            "Requirement already satisfied: fonttools>=4.22.0 in /usr/local/lib/python3.11/dist-packages (from matplotlib->catboost) (4.58.4)\n",
            "Requirement already satisfied: kiwisolver>=1.3.1 in /usr/local/lib/python3.11/dist-packages (from matplotlib->catboost) (1.4.8)\n",
            "Requirement already satisfied: packaging>=20.0 in /usr/local/lib/python3.11/dist-packages (from matplotlib->catboost) (24.2)\n",
            "Requirement already satisfied: pillow>=8 in /usr/local/lib/python3.11/dist-packages (from matplotlib->catboost) (11.2.1)\n",
            "Requirement already satisfied: pyparsing>=2.3.1 in /usr/local/lib/python3.11/dist-packages (from matplotlib->catboost) (3.2.3)\n",
            "Requirement already satisfied: tenacity>=6.2.0 in /usr/local/lib/python3.11/dist-packages (from plotly->catboost) (9.1.2)\n"
          ]
        }
      ]
    },
    {
      "cell_type": "markdown",
      "source": [
        "Deployment:"
      ],
      "metadata": {
        "id": "Ul9AHZU5uIcP"
      },
      "id": "Ul9AHZU5uIcP"
    },
    {
      "cell_type": "code",
      "source": [
        "import numpy as np\n",
        "import pandas as pd\n",
        "from datetime import datetime\n",
        "from sklearn.model_selection import cross_val_score\n",
        "from catboost import CatBoostClassifier, Pool\n",
        "from hyperactive import Hyperactive\n",
        "from hyperactive.optimizers import ParticleSwarmOptimizer\n",
        "from sklearn.metrics import classification_report, confusion_matrix\n",
        "import matplotlib.pyplot as plt\n",
        "import seaborn as sns\n",
        "\n",
        "# === DATA: Replace X_train, X_test, y_train, y_test with your actual data ===\n",
        "# Example:\n",
        "# X_train, X_test, y_train, y_test = train_test_split(...)\n",
        "\n",
        "X, y = X_train, y_train\n",
        "\n",
        "# === Objective Function ===\n",
        "def model(opt):\n",
        "    CatBoost = CatBoostClassifier(\n",
        "        iterations=opt[\"iterations\"],\n",
        "        depth=opt[\"depth\"],\n",
        "        learning_rate=opt[\"learning_rate\"],\n",
        "        l2_leaf_reg=opt[\"l2_leaf_reg\"],\n",
        "        bagging_temperature=opt[\"bagging_temperature\"],\n",
        "        random_strength=opt[\"random_strength\"],\n",
        "        verbose=False\n",
        "    )\n",
        "    scores = cross_val_score(CatBoost, X, y, cv=4)\n",
        "    return scores.mean()\n",
        "\n",
        "# === Search Space ===\n",
        "search_space = {\n",
        "    \"iterations\": list(range(50, 501, 50)),\n",
        "    \"depth\": list(range(1, 11)),\n",
        "    \"learning_rate\": [0.01, 0.05, 0.1],\n",
        "    \"l2_leaf_reg\": [1, 3, 5],\n",
        "    \"bagging_temperature\": [0.5, 1, 1.5],\n",
        "    \"random_strength\": [0.5, 1, 1.5],\n",
        "}\n",
        "\n",
        "# === Cauchy Mutation ===\n",
        "def cauchy_mutation(particle, gamma=0.3):\n",
        "    for key in particle:\n",
        "        if isinstance(particle[key], (int, float)):\n",
        "            particle[key] = particle[key] * (1 + gamma * np.tan(np.pi * (np.random.rand() - 0.5)))\n",
        "            particle[key] = np.clip(particle[key], min(search_space[key]), max(search_space[key]))\n",
        "            if isinstance(search_space[key][0], int):\n",
        "                particle[key] = int(round(particle[key]))\n",
        "    return particle\n",
        "\n",
        "# === HSPSO Optimizer Class ===\n",
        "class HybridStrategyPSO(ParticleSwarmOptimizer):\n",
        "    def __init__(self, n_part=20, max_iter=40, **kwargs):\n",
        "        super().__init__(**kwargs)\n",
        "        self.switch_threshold = 10\n",
        "        self.iteration = 0\n",
        "        self.topology = \"gbest\"\n",
        "        self.n_part = n_part\n",
        "        self.max_iter = max_iter\n",
        "\n",
        "        # Adaptive Inertia Parameters\n",
        "        self.H = 1\n",
        "        self.w_min = 0.4\n",
        "        self.w_max = 0.9\n",
        "        self.b = 0.9\n",
        "        self.scaling_factor = 0.5\n",
        "\n",
        "    def on_iteration(self, swarm, scores):\n",
        "        self.iteration += 1\n",
        "\n",
        "        # === Topology Switching ===\n",
        "        if self.iteration % self.switch_threshold == 0:\n",
        "            self.topology = \"lbest\" if self.topology == \"gbest\" else \"gbest\"\n",
        "            self.set_topology(self.topology)\n",
        "\n",
        "        # === Clone Best Particles ===\n",
        "        best_indices = np.argsort(scores)[:max(1, len(swarm) // 5)]\n",
        "        for idx in best_indices:\n",
        "            particle = swarm[idx].copy()\n",
        "            swarm.append(particle)\n",
        "            scores.append(scores[idx])\n",
        "\n",
        "        # === Prune Worst Particles ===\n",
        "        if len(swarm) > 2 * self.n_part:\n",
        "            worst_indices = np.argsort(scores)[-len(swarm)//4:]\n",
        "            for i in reversed(worst_indices):\n",
        "                del swarm[i]\n",
        "                del scores[i]\n",
        "\n",
        "        # === Nonlinear Adaptive Inertia ===\n",
        "        numerator = (self.w_max - self.w_min) * self.iteration\n",
        "        denominator = 1 + np.exp(-10 * self.b * ((2 * self.iteration) / (self.H * self.max_iter) - 1))\n",
        "        self.inertia = self.w_max - numerator / denominator\n",
        "\n",
        "        # === Cauchy Mutation ===\n",
        "        for i in range(len(swarm)):\n",
        "            if np.random.rand() < 0.2:\n",
        "                swarm[i] = cauchy_mutation(swarm[i])\n",
        "\n",
        "        # === Hook-Jeeves Local Search (simplified) ===\n",
        "        top_ids = np.argsort(scores)[:2]\n",
        "        for i in top_ids:\n",
        "            particle = swarm[i]\n",
        "            for key in particle:\n",
        "                if isinstance(particle[key], (int, float)):\n",
        "                    for delta in [-0.01, 0.01] if isinstance(particle[key], float) else [-1, 1]:\n",
        "                        trial = particle.copy()\n",
        "                        trial[key] = trial[key] + delta\n",
        "                        trial[key] = np.clip(trial[key], min(search_space[key]), max(search_space[key]))\n",
        "                        if isinstance(search_space[key][0], int):\n",
        "                            trial[key] = int(round(trial[key]))\n",
        "                        trial_score = model(trial)\n",
        "                        if trial_score > scores[i]:\n",
        "                            swarm[i] = trial\n",
        "                            scores[i] = trial_score\n",
        "\n",
        "        # === Random Restart ===\n",
        "        if np.random.rand() < 0.1:\n",
        "            random_idx = np.random.choice(len(swarm))\n",
        "            for key in swarm[random_idx]:\n",
        "                if isinstance(swarm[random_idx][key], (int, float)):\n",
        "                    swarm[random_idx][key] = np.random.choice(search_space[key])\n",
        "\n",
        "# === Run HSPSO Hyperparameter Tuning ===\n",
        "start_time = datetime.now()\n",
        "\n",
        "hyper = Hyperactive()\n",
        "\n",
        "optimizer = HybridStrategyPSO(\n",
        "    n_part=20,\n",
        "    max_iter=40,\n",
        "    inertia=0.5,\n",
        "    cognitive_weight=0.9,\n",
        "    social_weight=0.5,\n",
        "    temp_weight=0.4,\n",
        "    rand_rest_p=0.05,\n",
        ")\n",
        "\n",
        "hyper.add_search(model, search_space, optimizer=optimizer, n_iter=40)\n",
        "hyper.run()\n",
        "\n",
        "end_time = datetime.now()\n",
        "print('Tuning Duration:', end_time - start_time)\n",
        "\n",
        "# === Best Parameters ===\n",
        "best_params = hyper.best_para(model)\n",
        "print(\"Best Parameters:\", best_params)\n",
        "\n",
        "# === Train Final Model with Best Parameters ===\n",
        "train_pool = Pool(data=X_train, label=y_train)\n",
        "test_pool = Pool(data=X_test, label=y_test)\n",
        "\n",
        "final_model = CatBoostClassifier(\n",
        "    depth=best_params[\"depth\"],\n",
        "    iterations=best_params[\"iterations\"],\n",
        "    learning_rate=best_params[\"learning_rate\"],\n",
        "    l2_leaf_reg=best_params[\"l2_leaf_reg\"],\n",
        "    bagging_temperature=best_params[\"bagging_temperature\"],\n",
        "    random_strength=best_params[\"random_strength\"],\n",
        "    verbose=10\n",
        ")\n",
        "\n",
        "final_model.fit(\n",
        "    train_pool,\n",
        "    eval_set=test_pool,\n",
        "    verbose=best_params[\"iterations\"] // 10,\n",
        "    plot=True\n",
        ")\n"
      ],
      "metadata": {
        "id": "jQr38vF8A9_i",
        "colab": {
          "base_uri": "https://localhost:8080/",
          "height": 737,
          "referenced_widgets": [
            "4220e0447a9c47a38179866d36f6d285"
          ]
        },
        "outputId": "8e3ebcc2-bd90-4d51-b520-90102571eb0f"
      },
      "id": "jQr38vF8A9_i",
      "execution_count": 143,
      "outputs": [
        {
          "output_type": "stream",
          "name": "stderr",
          "text": [
            "[0] model (Particle Swarm Optimization): 100%|\u001b[32m──────────\u001b[0m| 40/40 [05:13<00:00,  7.84s/it, best_iter=0, best_pos=None, best_score=-inf]"
          ]
        },
        {
          "output_type": "stream",
          "name": "stdout",
          "text": [
            "\n",
            "\n",
            "Results: 'model'  \n",
            "   Best score: 0.9984076433121019  \n",
            "   Best parameter set:\n",
            "      'iterations'          : 500.0  \n",
            "      'depth'               : 9.0  \n",
            "      'learning_rate'       : 0.1  \n",
            "      'l2_leaf_reg'         : 1.0  \n",
            "      'bagging_temperature' : 1.0  \n",
            "      'random_strength'     : 0.5  \n",
            "   Best iteration: 0  \n",
            " \n",
            "   Random seed: 474962744  \n",
            " \n",
            "   Evaluation time   : 313.3353796005249 sec    [100.0 %]\n",
            "   Optimization time : 0.007868528366088867 sec    [0.0 %]\n",
            "   Iteration time    : 313.343248128891 sec    [7.83 sec/iter]\n",
            " \n",
            "Tuning Duration: 0:05:13.619301\n",
            "Best Parameters: {'iterations': 500, 'depth': 9, 'learning_rate': 0.1, 'l2_leaf_reg': 1, 'bagging_temperature': 1, 'random_strength': 0.5}\n"
          ]
        },
        {
          "output_type": "stream",
          "name": "stderr",
          "text": [
            "\n"
          ]
        },
        {
          "output_type": "display_data",
          "data": {
            "text/plain": [
              "MetricVisualizer(layout=Layout(align_self='stretch', height='500px'))"
            ],
            "application/vnd.jupyter.widget-view+json": {
              "version_major": 2,
              "version_minor": 0,
              "model_id": "4220e0447a9c47a38179866d36f6d285"
            }
          },
          "metadata": {}
        },
        {
          "output_type": "stream",
          "name": "stdout",
          "text": [
            "0:\tlearn: 1.5279089\ttest: 1.5396103\tbest: 1.5396103 (0)\ttotal: 39.8ms\tremaining: 19.9s\n",
            "50:\tlearn: 0.0225346\ttest: 0.0403477\tbest: 0.0403477 (50)\ttotal: 2.04s\tremaining: 18s\n",
            "100:\tlearn: 0.0053570\ttest: 0.0251826\tbest: 0.0251826 (100)\ttotal: 4s\tremaining: 15.8s\n",
            "150:\tlearn: 0.0024445\ttest: 0.0240436\tbest: 0.0240270 (148)\ttotal: 6.65s\tremaining: 15.4s\n",
            "200:\tlearn: 0.0015644\ttest: 0.0242479\tbest: 0.0240270 (148)\ttotal: 9.28s\tremaining: 13.8s\n",
            "250:\tlearn: 0.0011390\ttest: 0.0246627\tbest: 0.0240270 (148)\ttotal: 11.2s\tremaining: 11.1s\n",
            "300:\tlearn: 0.0009082\ttest: 0.0251287\tbest: 0.0240270 (148)\ttotal: 13s\tremaining: 8.58s\n",
            "350:\tlearn: 0.0007513\ttest: 0.0254862\tbest: 0.0240270 (148)\ttotal: 14.8s\tremaining: 6.27s\n",
            "400:\tlearn: 0.0006389\ttest: 0.0258266\tbest: 0.0240270 (148)\ttotal: 16.5s\tremaining: 4.07s\n",
            "450:\tlearn: 0.0005623\ttest: 0.0262042\tbest: 0.0240270 (148)\ttotal: 18.4s\tremaining: 1.99s\n",
            "499:\tlearn: 0.0005043\ttest: 0.0265163\tbest: 0.0240270 (148)\ttotal: 21.3s\tremaining: 0us\n",
            "\n",
            "bestTest = 0.02402700258\n",
            "bestIteration = 148\n",
            "\n",
            "Shrink model to first 149 iterations.\n"
          ]
        },
        {
          "output_type": "execute_result",
          "data": {
            "text/plain": [
              "<catboost.core.CatBoostClassifier at 0x7d8451328a10>"
            ]
          },
          "metadata": {},
          "execution_count": 143
        }
      ]
    },
    {
      "cell_type": "code",
      "source": [
        "hyper.add_search(model, search_space, optimizer=optimizer, n_iter=40, initialize={\"random\": 20})\n"
      ],
      "metadata": {
        "id": "a_9tYmgz45VS"
      },
      "id": "a_9tYmgz45VS",
      "execution_count": 144,
      "outputs": []
    },
    {
      "cell_type": "code",
      "source": [
        "learning_curve = final_model.get_evals_result()\n",
        "print(learning_curve)"
      ],
      "metadata": {
        "id": "2mRL06xdGZve",
        "colab": {
          "base_uri": "https://localhost:8080/"
        },
        "outputId": "07b04868-f5d7-44ef-a5b7-9ab3d6e212b6"
      },
      "id": "2mRL06xdGZve",
      "execution_count": 145,
      "outputs": [
        {
          "output_type": "stream",
          "name": "stdout",
          "text": [
            "{'learn': {'MultiClass': [1.5279089367199425, 1.2432722876695157, 1.0375516178682684, 0.8889415858450613, 0.7685972337565629, 0.6772275885541773, 0.5970436604446536, 0.5293224530132216, 0.4715406230207913, 0.4215808344987187, 0.38227536443394006, 0.34454719555646096, 0.3109729411203489, 0.28121769391464074, 0.2566493699179411, 0.2354612976906573, 0.21461040293053496, 0.19550222672836381, 0.178149166845106, 0.1620572460108346, 0.14863127435998116, 0.1365072264544534, 0.1262976497413591, 0.11558575982814404, 0.10724201580453907, 0.0986315462245959, 0.09155576358182285, 0.0850019105996243, 0.07895441235074845, 0.07354358455665289, 0.0681680013007758, 0.06411802144424557, 0.05944384199189682, 0.055872248068320175, 0.05201020338017682, 0.048389991194733556, 0.04537452364520122, 0.04305061128611442, 0.04078376963570609, 0.03913105613377071, 0.036947033094501286, 0.035395433060995136, 0.03369494808100021, 0.03159374777926239, 0.03002413646461394, 0.02886775078145678, 0.02724200302409008, 0.02591206121022663, 0.024599754359072256, 0.02360362771541783, 0.022534633697843236, 0.021410048243657442, 0.020455198000715696, 0.01967753448868455, 0.018699817407823654, 0.017849007947077188, 0.017351555877767263, 0.01665429850027006, 0.01629882252842662, 0.0159071752759618, 0.015252357562039926, 0.014592681985146488, 0.01409223107057765, 0.01371998084616018, 0.013202852232090336, 0.012765418016126177, 0.012428389599513756, 0.01216215122298582, 0.011692806942118049, 0.01131149558766055, 0.011058510982986299, 0.01073873206418083, 0.01050842164538284, 0.010165540859274126, 0.009937011094659779, 0.009726474243187297, 0.009424865117254837, 0.009235422204440699, 0.008930737266079578, 0.00873523358793094, 0.008512606442988572, 0.008259593634522274, 0.007994725292283886, 0.007732803125672672, 0.0076218665292190615, 0.007427500290329876, 0.007236639001048248, 0.007096829638385812, 0.006996136620874718, 0.0069665827292386675, 0.006789831488716227, 0.00666638995197058, 0.006540146243598477, 0.006345933541111008, 0.006181109103932594, 0.005993188997947209, 0.005870449551040533, 0.005727294456045197, 0.005605392204820308, 0.005485070980649935, 0.005356960112278216, 0.005217207373504137, 0.005089538965110207, 0.0050145052542161315, 0.004927612449543218, 0.004834154827544628, 0.004708669750269491, 0.004649288015368655, 0.004566165065672614, 0.004460286167530842, 0.004378210715018316, 0.004309202297454384, 0.004204055673090298, 0.004143202646468656, 0.004099911290041795, 0.004050385907458463, 0.003969553006396815, 0.003891962112227779, 0.003854426088680904, 0.0037900730919443928, 0.0037493193989522494, 0.0036818162403404403, 0.0036264511134803702, 0.0035479026057151078, 0.003489272833426629, 0.0034496301357017575, 0.0033895772168614025, 0.0033393896013305226, 0.0032779661136560227, 0.003241917737783913, 0.0031910359633611123, 0.003161274105166566, 0.003108849838839844, 0.0030537734228938043, 0.002999272058610555, 0.0029712496500471836, 0.002937740033537744, 0.002898870078081043, 0.0028643859278168786, 0.0028221834348148077, 0.0027731808875356106, 0.0027360536935302463, 0.002713823797086919, 0.0026756557853970433, 0.0026408567664615206, 0.0026033630860973545, 0.002574299358641908, 0.0025360115759343145, 0.0025042687435539134, 0.0024738779640368735, 0.002444461387629728, 0.0024130126792433794, 0.002381371239520275, 0.0023534649864108362, 0.002337035623678342, 0.00231184008116146, 0.002288130193954571, 0.002257112305441346, 0.0022353250974653602, 0.002214947072639278, 0.002194367313187691, 0.0021690627777398675, 0.0021597972241405817, 0.002138195072117068, 0.0021182961405910293, 0.002104894465141123, 0.002088053609939882, 0.0020605575341914252, 0.0020349926280691694, 0.002016610896237584, 0.0019969984438513613, 0.001974021929298224, 0.001955991596133282, 0.0019332218306825808, 0.001923721305938269, 0.0019099110061499708, 0.001902254087002439, 0.001883710393632164, 0.0018713444148250429, 0.0018483435127085823, 0.0018325220560134975, 0.0018180635072045522, 0.0018073410126963627, 0.0017926115871996532, 0.0017831754848743287, 0.0017688152231637464, 0.0017544724820002392, 0.0017410817355886672, 0.0017309164391557652, 0.001715863748356475, 0.0017025657240128304, 0.0016848598173133929, 0.0016725933402249899, 0.0016560927840999213, 0.0016459449943271962, 0.0016321792665209194, 0.001618522534861716, 0.0016036324899825777, 0.001594662182309195, 0.0015820552942099474, 0.0015643965751779517, 0.001549969956077881, 0.0015381950446744772, 0.001527497521018558, 0.0015168539897219852, 0.0015062491235794792, 0.0015013384645296635, 0.0014886534061103233, 0.0014789733133634018, 0.0014727027009653892, 0.0014620877352926687, 0.001450884984746522, 0.0014421352115257487, 0.00143353814031071, 0.0014197846995726035, 0.0014098515908418732, 0.001400218022261602, 0.0013869875130508406, 0.0013766654136353961, 0.0013668020959768502, 0.0013580726167539909, 0.0013500012432140199, 0.0013434749270993843, 0.0013353152876758507, 0.0013261355048784075, 0.001321854107325278, 0.001313974491355718, 0.001306679408071582, 0.0012995933303645013, 0.0012894605787071214, 0.0012817988366954317, 0.0012752697509673624, 0.001268624384572749, 0.0012624044448636225, 0.001254810795719227, 0.001246935981795875, 0.0012415830629823033, 0.0012345701307957336, 0.0012265304037177086, 0.0012172788813120568, 0.0012071797358252825, 0.0012014150588735236, 0.001192155530218571, 0.0011873093932134682, 0.0011796521912924053, 0.0011711902061820696, 0.0011661999148908971, 0.0011581591409107453, 0.0011534602183769851, 0.001147714273754107, 0.0011390354173635199, 0.0011317018421868584, 0.0011254565886769543, 0.0011181026513470442, 0.0011131402134929363, 0.0011056676379418758, 0.001098334028707802, 0.0010923981303058215, 0.0010856641268568834, 0.0010785436602794632, 0.0010709432223330153, 0.0010674421018369836, 0.0010628127147807006, 0.0010556680198578804, 0.0010518299436416113, 0.0010465914390073747, 0.0010413902330573077, 0.0010388025242357643, 0.0010329268086385832, 0.0010279065133128326, 0.0010237255168483966, 0.0010196971260162467, 0.0010160677334401316, 0.001011618911770591, 0.001007369517272779, 0.001002434196390132, 0.0009990409207884376, 0.000994127958913034, 0.0009897945024395069, 0.000986776191481204, 0.0009831128790729713, 0.0009775254348339698, 0.0009744707435368763, 0.0009706875355526595, 0.0009664721513963374, 0.0009636191843900894, 0.0009599132044314461, 0.0009538912295613422, 0.000947566290672125, 0.0009452420681371488, 0.0009409841163893708, 0.0009353689151737067, 0.0009322117251545306, 0.0009283513215175221, 0.0009257289197625455, 0.0009239811529441846, 0.0009219765329711935, 0.0009201462893877918, 0.0009177899902934697, 0.0009127226436779706, 0.0009081879827208099, 0.0009060857640847691, 0.0009025820669995999, 0.0008979249544068177, 0.0008948867531101902, 0.0008918880461802972, 0.0008871680841604097, 0.0008828671782891649, 0.0008793656753288009, 0.0008761213794111285, 0.0008721364493956575, 0.0008667744420420524, 0.0008633429046963618, 0.0008600535359942789, 0.0008555254111909561, 0.000850651974892537, 0.0008474495578813697, 0.0008447361467867, 0.0008414333267607926, 0.0008384335729784355, 0.0008363421099249679, 0.0008331960316849345, 0.0008313375991899937, 0.000828168179470577, 0.0008264598653056897, 0.0008240619380017276, 0.0008220809654741313, 0.0008192067617099125, 0.0008151403208209741, 0.0008112847707218606, 0.0008093331401363557, 0.0008076534317574466, 0.000804951837230106, 0.0008008998426829243, 0.0007993403292238431, 0.00079607394550393, 0.0007932946127290169, 0.0007913324259881297, 0.0007871948989850915, 0.000784050739331061, 0.0007810626222203197, 0.0007775422309831832, 0.0007744342272455541, 0.0007709529892598407, 0.0007678367314152693, 0.0007652883904200554, 0.0007625449851006189, 0.0007595426711938678, 0.0007572449610398099, 0.0007552021160553357, 0.0007513084547536252, 0.0007484199814529106, 0.0007472594222581988, 0.0007457056077954492, 0.0007422065765686054, 0.0007397391070811383, 0.0007374781952197032, 0.0007359105684719039, 0.0007329747952443104, 0.0007296897398626198, 0.0007268542472691427, 0.0007233216418196652, 0.0007218012199182405, 0.0007189340109238849, 0.0007166834721585094, 0.000714552475558478, 0.0007119778775923414, 0.0007084492314913812, 0.0007055400260473215, 0.0007040956154720735, 0.000701935011666855, 0.000699784810700468, 0.000697779516810184, 0.000695314908462199, 0.0006928835929755808, 0.0006902762057243322, 0.0006883662909795784, 0.0006864183438049897, 0.0006838519109068092, 0.000681959244057837, 0.0006801657265310627, 0.000677034648301635, 0.0006746488015221914, 0.0006735995022795269, 0.0006717918191655427, 0.0006700798733154117, 0.000667274798060325, 0.0006652432575287998, 0.0006628342162990513, 0.0006609854446855536, 0.0006592388202846177, 0.0006567663334875214, 0.0006547085383727641, 0.000652564858183544, 0.0006505853292715956, 0.0006482132800632792, 0.0006469864704488359, 0.0006451650262286902, 0.0006433314872150689, 0.0006415830061748005, 0.0006388515460081964, 0.000637256245827888, 0.0006361167853155474, 0.0006354156888287579, 0.0006339352978622777, 0.0006320394787555492, 0.0006311886206054373, 0.0006292518039230408, 0.000627341761644654, 0.000625502022488446, 0.0006240166571560614, 0.0006221396446662511, 0.0006204476884841239, 0.0006193874113182084, 0.0006176021604676082, 0.0006156446914703511, 0.0006136363345038018, 0.0006120853726898293, 0.0006107260875579127, 0.0006090964731958972, 0.000607523224825125, 0.0006053122825683542, 0.0006028189137618816, 0.0006010742395132118, 0.0005993155389944298, 0.0005978573313560293, 0.0005959195354370944, 0.000594926184249996, 0.0005938909419941632, 0.0005922178266689649, 0.0005902678187340847, 0.0005893724187541959, 0.0005877288651918674, 0.0005860467573924716, 0.0005845097616980359, 0.000582741732991361, 0.0005810884632650656, 0.0005794247838041856, 0.0005775415991852786, 0.0005767219733388574, 0.0005751353382597345, 0.0005735504943538195, 0.0005718933416961764, 0.0005712262622052324, 0.0005698716682117422, 0.0005686624856586444, 0.0005676087829700187, 0.0005663119886004038, 0.0005653843834067297, 0.0005638327250467684, 0.000562316817613458, 0.0005609995310610977, 0.0005591673140965405, 0.0005578819943877767, 0.0005559925733284372, 0.0005549381699700187, 0.0005539572387743443, 0.0005527546304511646, 0.0005512918276940667, 0.0005503233280628722, 0.0005487876116762018, 0.0005474567293009098, 0.0005461568034141207, 0.0005451533198513351, 0.0005439757791921837, 0.0005427700084380201, 0.0005419251388447214, 0.0005413079945505005, 0.0005405616171176211, 0.0005391650482242475, 0.0005380076098115412, 0.0005367405681190068, 0.0005348691951917408, 0.0005337285835907438, 0.0005327762893643107, 0.0005320461092640135, 0.0005308043351149867, 0.0005295339771393356, 0.0005283394689340926, 0.0005266039166360815, 0.0005254034785663291, 0.0005241067752095189, 0.0005228352919332208, 0.0005222089218149089, 0.0005211407581101621, 0.0005203043124157463, 0.0005189414036415419, 0.0005178208866084453, 0.0005166614104250865, 0.0005153220662897279, 0.0005136813887368891, 0.0005130514573142257, 0.0005111986314548192, 0.0005101039887174635, 0.0005095107829468356, 0.0005084113790016925, 0.0005075760327987143, 0.0005063694565152853, 0.000505315528298783, 0.0005043449161321459]}, 'validation': {'MultiClass': [1.539610255542073, 1.2604541060362267, 1.053376465805622, 0.9075095351606796, 0.7880714921992795, 0.6971096947214301, 0.6176653385624312, 0.5494830103870213, 0.4918072198736765, 0.44152223077228114, 0.40317085484958365, 0.3651739996410782, 0.3324762336038734, 0.30197157359637655, 0.2768728332992722, 0.2563657469383633, 0.2356220984569698, 0.2161629323874522, 0.19866104430625395, 0.18238935711590612, 0.16860901985931082, 0.15578063035617448, 0.14578760207924485, 0.1343813614134957, 0.1259153067048824, 0.1167934656253268, 0.1092844305674262, 0.10273842315576479, 0.09672563914706904, 0.09110897025024806, 0.08557909555362127, 0.08166282111530763, 0.07696335705714975, 0.07317677158589052, 0.06936859474049036, 0.06554457341200952, 0.06259342509214566, 0.06041825181231476, 0.058321204831751475, 0.05667401560793599, 0.054515485662733745, 0.052913670249360834, 0.05112429582880144, 0.048914015402050266, 0.047490969940514355, 0.0462999282490399, 0.04475240794539928, 0.04356648505215027, 0.04245475953444279, 0.041537099707870256, 0.04034766816939987, 0.03928015118031834, 0.03840498922511001, 0.03780527731668643, 0.036777480864417025, 0.03575522753144757, 0.035262648203155604, 0.03470988093465658, 0.034508571760633315, 0.034070818456146075, 0.033355043966817315, 0.032744178319772624, 0.03227558079768301, 0.032013816622227194, 0.031484932320769106, 0.031034014016854985, 0.030754347261791513, 0.03059740065193361, 0.0301642530378773, 0.02989484848027321, 0.029637508408163066, 0.029458368643333156, 0.02930361058199005, 0.02889348878445289, 0.028726404822617218, 0.02843887539676631, 0.028223311609173525, 0.02812557118528203, 0.027894733985403326, 0.027657780285037778, 0.027494777826435134, 0.027322611240998735, 0.02705601693118734, 0.026699267788898882, 0.02670900876402061, 0.026449577414098816, 0.02633993686100104, 0.026240307896080336, 0.02621885871262994, 0.026224407128376693, 0.02606239474185141, 0.02600839379700208, 0.02593061475290677, 0.02579953517093486, 0.025719592307084916, 0.02559229110296175, 0.025496705126238858, 0.025410757189383598, 0.02532622906005382, 0.02526391252803996, 0.025182590865592016, 0.025049317116682977, 0.024983572532597205, 0.024943866518912405, 0.024884163435152696, 0.024815317713159635, 0.024720346126244446, 0.024720999932562458, 0.024665453591218627, 0.024587155654213547, 0.024543291858771788, 0.024475143905083572, 0.024406533541860696, 0.02438207350164455, 0.0243889507597164, 0.024357953039472788, 0.024348855990462024, 0.024324120446587095, 0.024323596137550314, 0.02429636057993989, 0.024304813656547335, 0.024289845344950083, 0.02429962479899082, 0.024289951838524965, 0.024293054218836267, 0.024281610137581754, 0.024283004493072174, 0.024254185096901443, 0.024214590564001635, 0.024197866194843237, 0.024170923409539392, 0.02418962025811638, 0.02417286141656658, 0.02415913135562805, 0.02415672391752393, 0.024168319758089057, 0.024173062936651946, 0.024156973883082508, 0.024143571120141726, 0.02412080641751839, 0.02411246989603786, 0.02410874185253974, 0.024106626624218364, 0.024108923031653264, 0.02409794426445213, 0.024101498948152212, 0.024041194155699174, 0.024038349593169247, 0.024027002582879237, 0.024035197085999806, 0.02404361072925864, 0.024065351303850555, 0.024082113320745443, 0.024083778881655513, 0.02406625358396674, 0.024077431851081733, 0.024098620285819453, 0.024077278175782115, 0.024073012430540844, 0.02408787517149936, 0.024085099199907884, 0.024084385532275716, 0.024085870215863666, 0.0240879393134639, 0.024084808278626385, 0.024077026570790968, 0.024141391071020542, 0.02414833631645169, 0.02413436236043357, 0.024139324507682053, 0.024153424843821263, 0.024142307920407023, 0.02414204501422375, 0.02413506787095242, 0.024137275682046055, 0.024172900592789256, 0.024173853232328665, 0.02420450072618859, 0.024204426860175283, 0.024215803187235013, 0.02421648613561682, 0.024216700233371472, 0.024221350339468886, 0.02421612896701306, 0.02420564232389281, 0.02419477857993023, 0.024197332215528156, 0.024205262506726374, 0.024201833014577883, 0.024198751766249256, 0.024215416246717216, 0.024210717818558193, 0.024231806816586023, 0.024231747721503737, 0.024235409738794032, 0.02423927895056298, 0.02424183595249517, 0.02423849687147938, 0.024243238543308582, 0.024246281731102444, 0.024247915051348653, 0.02425255465294248, 0.024245956215279793, 0.02424866851128764, 0.024255437398419923, 0.024263006335809335, 0.024271320975700242, 0.02426993563527003, 0.024282341900981438, 0.02428835545617733, 0.024296397272503455, 0.024303254810842143, 0.024318280632546867, 0.024305904034688134, 0.024326970681021222, 0.024330762774941332, 0.02433607583686301, 0.024348672722341834, 0.02435571796750018, 0.02436349318186477, 0.024368957557958267, 0.02437902778191477, 0.02438297710627074, 0.024389012222847457, 0.024396274297987217, 0.024404127670660827, 0.024421010741559616, 0.024424953573021824, 0.024430799471911388, 0.024431791743335034, 0.024452335603288505, 0.024469918097461976, 0.02447561042993774, 0.02448333159747859, 0.02448992263817462, 0.024498038871704046, 0.024538703856137607, 0.02454349358562166, 0.024546650760668035, 0.02456061215851154, 0.024584231195521625, 0.024591195855021234, 0.024604772267811163, 0.02458661131817608, 0.02459350661108264, 0.024607056140407337, 0.024615535715561875, 0.024638858345645796, 0.024640086515820368, 0.02464948525334568, 0.024662684512300803, 0.02467030601427897, 0.024676162434385366, 0.0246809513423761, 0.024697568558179856, 0.024711125488023795, 0.02472469607062042, 0.02473997154288475, 0.02476557107672698, 0.024787342750612545, 0.024807378214335814, 0.024808513777234024, 0.02481881386901636, 0.024825785457207015, 0.02482722444070406, 0.02484854871819699, 0.02482678888800701, 0.02483479987923463, 0.024838320784232367, 0.024846789012489004, 0.02485420422144009, 0.02485945193242132, 0.024859998425166167, 0.024868286082910012, 0.024875220396798323, 0.024892037219665663, 0.024892800371454287, 0.024900326850456872, 0.024904835957571664, 0.024903252806071436, 0.024919802884717887, 0.0249251400209175, 0.024933727062006916, 0.024941841922689462, 0.024956593104863624, 0.02495963935203317, 0.024968598093596837, 0.02496912077432706, 0.024986709181502413, 0.025015621797348946, 0.025021888941634714, 0.02505881588610047, 0.025071070538025396, 0.0250885886728555, 0.02509434992790032, 0.025086216548859487, 0.025100372139039238, 0.025105381397815537, 0.025109498549696584, 0.025122137855742157, 0.02512873194233629, 0.02513077053285932, 0.0251374276290145, 0.02515650536820611, 0.025167353932030324, 0.025174457020388657, 0.0251796391723148, 0.025212682647660425, 0.025218404548531987, 0.025231996945221647, 0.025218438768170034, 0.025231531807100107, 0.02523287237361826, 0.02521676567992085, 0.025223230875044442, 0.02523750963055345, 0.025241495973167632, 0.02524764022875337, 0.025254473348020553, 0.025257574482063238, 0.025252696994756317, 0.025258557243872586, 0.025252911410348824, 0.02525869586027448, 0.0252598211919525, 0.02527252499276012, 0.025283271812828183, 0.02529156489650458, 0.025298139166593358, 0.02531669157683318, 0.025323855845074194, 0.025326630034357672, 0.02533499831786344, 0.025346858049285867, 0.025353212806799332, 0.025358536153868277, 0.025359178033911987, 0.025370119433852686, 0.025382664769528253, 0.025390074677402712, 0.025402642306230926, 0.025409522168182572, 0.025416619328799052, 0.02543456734231327, 0.025439107095371158, 0.025443143047117867, 0.025449648190273438, 0.025462149352792552, 0.02546925910917476, 0.02547018383774694, 0.025486175359929735, 0.025493273882000036, 0.02549606203612035, 0.02549505029682556, 0.025497888105659113, 0.02550478222576579, 0.025518991979364906, 0.02551248254727675, 0.025518376590443426, 0.025529534076599115, 0.02554245685932787, 0.025548415949778386, 0.025552191298059992, 0.025552550118220777, 0.025558809324090333, 0.02556296528815637, 0.02556823771390071, 0.025579787493282248, 0.025586255498394522, 0.025599013465266957, 0.025602886178310063, 0.02560336642956738, 0.025617926018061395, 0.025618979565640167, 0.025624007462752865, 0.02563856343233551, 0.025645139469319615, 0.025651375314934673, 0.025656428450657732, 0.0256630947811789, 0.025669781656726596, 0.025683512898561467, 0.02568810255771442, 0.025691607783891995, 0.02569761133041192, 0.02570432720234903, 0.025709529445737307, 0.025723292681677695, 0.025729172766579534, 0.025730084054250434, 0.025736939288510157, 0.025742294928902162, 0.025748499748789632, 0.025755405574333874, 0.025767367419188107, 0.02577223367217513, 0.025781724889428714, 0.025788068309599586, 0.025804289352278808, 0.0258112888440761, 0.025826584923635536, 0.025837908232470713, 0.02584284076706049, 0.02586172332644483, 0.025864905080462724, 0.025870767887689154, 0.025875296045887064, 0.02588199124220754, 0.02589330519074845, 0.02590184925688219, 0.02590881843893497, 0.02591966175462322, 0.025925601136329874, 0.025927320882996003, 0.02593797029024307, 0.025951235768893095, 0.025957657111783366, 0.025962765942703005, 0.02597925596672698, 0.025984896285389154, 0.025991049880089212, 0.02599685033500436, 0.026009232282746566, 0.026014434073614007, 0.026019936496904005, 0.026023945179265578, 0.026029988762706822, 0.026035312459100974, 0.02604151568700826, 0.02606991717654561, 0.02607515294724457, 0.026080584016000996, 0.026086768010406478, 0.026096746652420514, 0.02610937016469204, 0.02611414484400584, 0.026118473707240165, 0.02613080812909603, 0.026133878197204315, 0.026138189228825333, 0.026150613476357238, 0.02616071919170265, 0.026169382508991198, 0.02617590492683669, 0.026180964989875675, 0.026176382502550003, 0.026182395940789572, 0.026187504775178644, 0.0261900813806409, 0.026198887107335277, 0.02620416046204283, 0.02620699465531089, 0.026212010231179445, 0.026222984771369362, 0.026227991492940195, 0.026227270088826225, 0.026228552177135215, 0.026229181432012832, 0.0262341626004541, 0.02623585276584215, 0.02624186777525179, 0.02624694661534704, 0.026253936407704005, 0.026257940730461872, 0.02626823721477645, 0.026272887621595974, 0.026275738040363626, 0.02627883833821762, 0.0262821149676684, 0.02628687910568078, 0.026293444538911838, 0.026298192973720717, 0.026299546962954272, 0.026305464632849187, 0.026306898639703334, 0.026312262453538578, 0.02632186478678088, 0.026343848352227205, 0.026355502012557482, 0.026364336747524857, 0.026355551575600746, 0.026370592239302812, 0.02638015297093584, 0.026394580234611494, 0.02639809162706548, 0.02639461565086984, 0.026417860618444478, 0.026428050201329115, 0.026430692700962783, 0.026434981604599023, 0.02644592722847203, 0.02644596315407681, 0.026454563533591435, 0.026461243099992437, 0.02646445617698247, 0.026477100412057974, 0.026485739668958123, 0.026496506573119433, 0.026502998902281995, 0.026516329271883125]}}\n"
          ]
        }
      ]
    },
    {
      "cell_type": "code",
      "source": [
        "# Retrieve evaluation results\n",
        "learning_curve = final_model.get_evals_result()\n",
        "\n",
        "# Extract the metric values\n",
        "# Assuming 'learn' corresponds to the training dataset\n",
        "train_metric_values = learning_curve.get('learn', {}).get('MultiClass', [])\n",
        "\n",
        "# Check the extracted values\n",
        "if train_metric_values:\n",
        "    print(\"Training metric values:\", train_metric_values)\n",
        "else:\n",
        "    print(\"Metric 'MultiClass' not found in evaluation results.\")\n"
      ],
      "metadata": {
        "id": "3baCXa2jGafB",
        "colab": {
          "base_uri": "https://localhost:8080/"
        },
        "outputId": "032fdc10-0377-4b61-f874-c2e805e8b1da"
      },
      "id": "3baCXa2jGafB",
      "execution_count": 146,
      "outputs": [
        {
          "output_type": "stream",
          "name": "stdout",
          "text": [
            "Training metric values: [1.5279089367199425, 1.2432722876695157, 1.0375516178682684, 0.8889415858450613, 0.7685972337565629, 0.6772275885541773, 0.5970436604446536, 0.5293224530132216, 0.4715406230207913, 0.4215808344987187, 0.38227536443394006, 0.34454719555646096, 0.3109729411203489, 0.28121769391464074, 0.2566493699179411, 0.2354612976906573, 0.21461040293053496, 0.19550222672836381, 0.178149166845106, 0.1620572460108346, 0.14863127435998116, 0.1365072264544534, 0.1262976497413591, 0.11558575982814404, 0.10724201580453907, 0.0986315462245959, 0.09155576358182285, 0.0850019105996243, 0.07895441235074845, 0.07354358455665289, 0.0681680013007758, 0.06411802144424557, 0.05944384199189682, 0.055872248068320175, 0.05201020338017682, 0.048389991194733556, 0.04537452364520122, 0.04305061128611442, 0.04078376963570609, 0.03913105613377071, 0.036947033094501286, 0.035395433060995136, 0.03369494808100021, 0.03159374777926239, 0.03002413646461394, 0.02886775078145678, 0.02724200302409008, 0.02591206121022663, 0.024599754359072256, 0.02360362771541783, 0.022534633697843236, 0.021410048243657442, 0.020455198000715696, 0.01967753448868455, 0.018699817407823654, 0.017849007947077188, 0.017351555877767263, 0.01665429850027006, 0.01629882252842662, 0.0159071752759618, 0.015252357562039926, 0.014592681985146488, 0.01409223107057765, 0.01371998084616018, 0.013202852232090336, 0.012765418016126177, 0.012428389599513756, 0.01216215122298582, 0.011692806942118049, 0.01131149558766055, 0.011058510982986299, 0.01073873206418083, 0.01050842164538284, 0.010165540859274126, 0.009937011094659779, 0.009726474243187297, 0.009424865117254837, 0.009235422204440699, 0.008930737266079578, 0.00873523358793094, 0.008512606442988572, 0.008259593634522274, 0.007994725292283886, 0.007732803125672672, 0.0076218665292190615, 0.007427500290329876, 0.007236639001048248, 0.007096829638385812, 0.006996136620874718, 0.0069665827292386675, 0.006789831488716227, 0.00666638995197058, 0.006540146243598477, 0.006345933541111008, 0.006181109103932594, 0.005993188997947209, 0.005870449551040533, 0.005727294456045197, 0.005605392204820308, 0.005485070980649935, 0.005356960112278216, 0.005217207373504137, 0.005089538965110207, 0.0050145052542161315, 0.004927612449543218, 0.004834154827544628, 0.004708669750269491, 0.004649288015368655, 0.004566165065672614, 0.004460286167530842, 0.004378210715018316, 0.004309202297454384, 0.004204055673090298, 0.004143202646468656, 0.004099911290041795, 0.004050385907458463, 0.003969553006396815, 0.003891962112227779, 0.003854426088680904, 0.0037900730919443928, 0.0037493193989522494, 0.0036818162403404403, 0.0036264511134803702, 0.0035479026057151078, 0.003489272833426629, 0.0034496301357017575, 0.0033895772168614025, 0.0033393896013305226, 0.0032779661136560227, 0.003241917737783913, 0.0031910359633611123, 0.003161274105166566, 0.003108849838839844, 0.0030537734228938043, 0.002999272058610555, 0.0029712496500471836, 0.002937740033537744, 0.002898870078081043, 0.0028643859278168786, 0.0028221834348148077, 0.0027731808875356106, 0.0027360536935302463, 0.002713823797086919, 0.0026756557853970433, 0.0026408567664615206, 0.0026033630860973545, 0.002574299358641908, 0.0025360115759343145, 0.0025042687435539134, 0.0024738779640368735, 0.002444461387629728, 0.0024130126792433794, 0.002381371239520275, 0.0023534649864108362, 0.002337035623678342, 0.00231184008116146, 0.002288130193954571, 0.002257112305441346, 0.0022353250974653602, 0.002214947072639278, 0.002194367313187691, 0.0021690627777398675, 0.0021597972241405817, 0.002138195072117068, 0.0021182961405910293, 0.002104894465141123, 0.002088053609939882, 0.0020605575341914252, 0.0020349926280691694, 0.002016610896237584, 0.0019969984438513613, 0.001974021929298224, 0.001955991596133282, 0.0019332218306825808, 0.001923721305938269, 0.0019099110061499708, 0.001902254087002439, 0.001883710393632164, 0.0018713444148250429, 0.0018483435127085823, 0.0018325220560134975, 0.0018180635072045522, 0.0018073410126963627, 0.0017926115871996532, 0.0017831754848743287, 0.0017688152231637464, 0.0017544724820002392, 0.0017410817355886672, 0.0017309164391557652, 0.001715863748356475, 0.0017025657240128304, 0.0016848598173133929, 0.0016725933402249899, 0.0016560927840999213, 0.0016459449943271962, 0.0016321792665209194, 0.001618522534861716, 0.0016036324899825777, 0.001594662182309195, 0.0015820552942099474, 0.0015643965751779517, 0.001549969956077881, 0.0015381950446744772, 0.001527497521018558, 0.0015168539897219852, 0.0015062491235794792, 0.0015013384645296635, 0.0014886534061103233, 0.0014789733133634018, 0.0014727027009653892, 0.0014620877352926687, 0.001450884984746522, 0.0014421352115257487, 0.00143353814031071, 0.0014197846995726035, 0.0014098515908418732, 0.001400218022261602, 0.0013869875130508406, 0.0013766654136353961, 0.0013668020959768502, 0.0013580726167539909, 0.0013500012432140199, 0.0013434749270993843, 0.0013353152876758507, 0.0013261355048784075, 0.001321854107325278, 0.001313974491355718, 0.001306679408071582, 0.0012995933303645013, 0.0012894605787071214, 0.0012817988366954317, 0.0012752697509673624, 0.001268624384572749, 0.0012624044448636225, 0.001254810795719227, 0.001246935981795875, 0.0012415830629823033, 0.0012345701307957336, 0.0012265304037177086, 0.0012172788813120568, 0.0012071797358252825, 0.0012014150588735236, 0.001192155530218571, 0.0011873093932134682, 0.0011796521912924053, 0.0011711902061820696, 0.0011661999148908971, 0.0011581591409107453, 0.0011534602183769851, 0.001147714273754107, 0.0011390354173635199, 0.0011317018421868584, 0.0011254565886769543, 0.0011181026513470442, 0.0011131402134929363, 0.0011056676379418758, 0.001098334028707802, 0.0010923981303058215, 0.0010856641268568834, 0.0010785436602794632, 0.0010709432223330153, 0.0010674421018369836, 0.0010628127147807006, 0.0010556680198578804, 0.0010518299436416113, 0.0010465914390073747, 0.0010413902330573077, 0.0010388025242357643, 0.0010329268086385832, 0.0010279065133128326, 0.0010237255168483966, 0.0010196971260162467, 0.0010160677334401316, 0.001011618911770591, 0.001007369517272779, 0.001002434196390132, 0.0009990409207884376, 0.000994127958913034, 0.0009897945024395069, 0.000986776191481204, 0.0009831128790729713, 0.0009775254348339698, 0.0009744707435368763, 0.0009706875355526595, 0.0009664721513963374, 0.0009636191843900894, 0.0009599132044314461, 0.0009538912295613422, 0.000947566290672125, 0.0009452420681371488, 0.0009409841163893708, 0.0009353689151737067, 0.0009322117251545306, 0.0009283513215175221, 0.0009257289197625455, 0.0009239811529441846, 0.0009219765329711935, 0.0009201462893877918, 0.0009177899902934697, 0.0009127226436779706, 0.0009081879827208099, 0.0009060857640847691, 0.0009025820669995999, 0.0008979249544068177, 0.0008948867531101902, 0.0008918880461802972, 0.0008871680841604097, 0.0008828671782891649, 0.0008793656753288009, 0.0008761213794111285, 0.0008721364493956575, 0.0008667744420420524, 0.0008633429046963618, 0.0008600535359942789, 0.0008555254111909561, 0.000850651974892537, 0.0008474495578813697, 0.0008447361467867, 0.0008414333267607926, 0.0008384335729784355, 0.0008363421099249679, 0.0008331960316849345, 0.0008313375991899937, 0.000828168179470577, 0.0008264598653056897, 0.0008240619380017276, 0.0008220809654741313, 0.0008192067617099125, 0.0008151403208209741, 0.0008112847707218606, 0.0008093331401363557, 0.0008076534317574466, 0.000804951837230106, 0.0008008998426829243, 0.0007993403292238431, 0.00079607394550393, 0.0007932946127290169, 0.0007913324259881297, 0.0007871948989850915, 0.000784050739331061, 0.0007810626222203197, 0.0007775422309831832, 0.0007744342272455541, 0.0007709529892598407, 0.0007678367314152693, 0.0007652883904200554, 0.0007625449851006189, 0.0007595426711938678, 0.0007572449610398099, 0.0007552021160553357, 0.0007513084547536252, 0.0007484199814529106, 0.0007472594222581988, 0.0007457056077954492, 0.0007422065765686054, 0.0007397391070811383, 0.0007374781952197032, 0.0007359105684719039, 0.0007329747952443104, 0.0007296897398626198, 0.0007268542472691427, 0.0007233216418196652, 0.0007218012199182405, 0.0007189340109238849, 0.0007166834721585094, 0.000714552475558478, 0.0007119778775923414, 0.0007084492314913812, 0.0007055400260473215, 0.0007040956154720735, 0.000701935011666855, 0.000699784810700468, 0.000697779516810184, 0.000695314908462199, 0.0006928835929755808, 0.0006902762057243322, 0.0006883662909795784, 0.0006864183438049897, 0.0006838519109068092, 0.000681959244057837, 0.0006801657265310627, 0.000677034648301635, 0.0006746488015221914, 0.0006735995022795269, 0.0006717918191655427, 0.0006700798733154117, 0.000667274798060325, 0.0006652432575287998, 0.0006628342162990513, 0.0006609854446855536, 0.0006592388202846177, 0.0006567663334875214, 0.0006547085383727641, 0.000652564858183544, 0.0006505853292715956, 0.0006482132800632792, 0.0006469864704488359, 0.0006451650262286902, 0.0006433314872150689, 0.0006415830061748005, 0.0006388515460081964, 0.000637256245827888, 0.0006361167853155474, 0.0006354156888287579, 0.0006339352978622777, 0.0006320394787555492, 0.0006311886206054373, 0.0006292518039230408, 0.000627341761644654, 0.000625502022488446, 0.0006240166571560614, 0.0006221396446662511, 0.0006204476884841239, 0.0006193874113182084, 0.0006176021604676082, 0.0006156446914703511, 0.0006136363345038018, 0.0006120853726898293, 0.0006107260875579127, 0.0006090964731958972, 0.000607523224825125, 0.0006053122825683542, 0.0006028189137618816, 0.0006010742395132118, 0.0005993155389944298, 0.0005978573313560293, 0.0005959195354370944, 0.000594926184249996, 0.0005938909419941632, 0.0005922178266689649, 0.0005902678187340847, 0.0005893724187541959, 0.0005877288651918674, 0.0005860467573924716, 0.0005845097616980359, 0.000582741732991361, 0.0005810884632650656, 0.0005794247838041856, 0.0005775415991852786, 0.0005767219733388574, 0.0005751353382597345, 0.0005735504943538195, 0.0005718933416961764, 0.0005712262622052324, 0.0005698716682117422, 0.0005686624856586444, 0.0005676087829700187, 0.0005663119886004038, 0.0005653843834067297, 0.0005638327250467684, 0.000562316817613458, 0.0005609995310610977, 0.0005591673140965405, 0.0005578819943877767, 0.0005559925733284372, 0.0005549381699700187, 0.0005539572387743443, 0.0005527546304511646, 0.0005512918276940667, 0.0005503233280628722, 0.0005487876116762018, 0.0005474567293009098, 0.0005461568034141207, 0.0005451533198513351, 0.0005439757791921837, 0.0005427700084380201, 0.0005419251388447214, 0.0005413079945505005, 0.0005405616171176211, 0.0005391650482242475, 0.0005380076098115412, 0.0005367405681190068, 0.0005348691951917408, 0.0005337285835907438, 0.0005327762893643107, 0.0005320461092640135, 0.0005308043351149867, 0.0005295339771393356, 0.0005283394689340926, 0.0005266039166360815, 0.0005254034785663291, 0.0005241067752095189, 0.0005228352919332208, 0.0005222089218149089, 0.0005211407581101621, 0.0005203043124157463, 0.0005189414036415419, 0.0005178208866084453, 0.0005166614104250865, 0.0005153220662897279, 0.0005136813887368891, 0.0005130514573142257, 0.0005111986314548192, 0.0005101039887174635, 0.0005095107829468356, 0.0005084113790016925, 0.0005075760327987143, 0.0005063694565152853, 0.000505315528298783, 0.0005043449161321459]\n"
          ]
        }
      ]
    },
    {
      "cell_type": "code",
      "source": [
        "import matplotlib.pyplot as plt\n",
        "\n",
        "# Plotting the learning curve\n",
        "plt.plot(train_metric_values, label='Training MultiClass Metric')\n",
        "plt.xlabel('Iterations')\n",
        "plt.ylabel('Metric Value')\n",
        "plt.title('Learning Curve')\n",
        "plt.legend()\n",
        "plt.grid()\n",
        "plt.show()\n"
      ],
      "metadata": {
        "id": "p0vioY6FGjQb",
        "colab": {
          "base_uri": "https://localhost:8080/",
          "height": 472
        },
        "outputId": "697340b8-d39e-4d8b-e529-b3811acb2e77"
      },
      "id": "p0vioY6FGjQb",
      "execution_count": 147,
      "outputs": [
        {
          "output_type": "display_data",
          "data": {
            "text/plain": [
              "<Figure size 640x480 with 1 Axes>"
            ],
            "image/png": "[encoded data removed]"
          },
          "metadata": {}
        }
      ]
    },
    {
      "cell_type": "code",
      "source": [
        "# Predictions\n",
        "y_pred_train = final_model.predict(X_train)\n",
        "y_pred_test = final_model.predict(X_test)\n",
        "\n",
        "print(\"Classification Report - Training Set:\")\n",
        "print(classification_report(y_train, y_pred_train))\n",
        "\n",
        "print(\"Classification Report - Test Set:\")\n",
        "print(classification_report(y_test, y_pred_test))\n",
        "\n",
        "conf_matrix_train = confusion_matrix(y_train, y_pred_train)\n",
        "conf_matrix_test = confusion_matrix(y_test, y_pred_test)\n",
        "\n",
        "plt.figure(figsize=(15, 5))\n",
        "\n",
        "plt.subplot(1, 3, 1)\n",
        "sns.heatmap(conf_matrix_train, annot=True, fmt=\"d\", cmap=\"Blues\", cbar=False)\n",
        "plt.title(\"Confusion Matrix - Training Set\")\n",
        "plt.xlabel(\"Predicted\")\n",
        "plt.ylabel(\"True\")\n",
        "\n",
        "plt.subplot(1, 3, 2)\n",
        "sns.heatmap(conf_matrix_test, annot=True, fmt=\"d\", cmap=\"Blues\", cbar=False)\n",
        "plt.title(\"Confusion Matrix - Test Set\")\n",
        "plt.xlabel(\"Predicted\")\n",
        "plt.ylabel(\"True\")\n",
        "\n",
        "plt.tight_layout()\n",
        "plt.savefig('C-Matrix.svg', format='svg')\n",
        "plt.show()\n",
        "\n",
        "end_time = datetime.now()\n",
        "print('Deployment Duration: {}'.format(end_time - start_time))"
      ],
      "metadata": {
        "id": "EGySyu_OHNqG",
        "colab": {
          "base_uri": "https://localhost:8080/",
          "height": 1000
        },
        "outputId": "0ef93308-8dbe-49a2-d1b4-ab5eb8945ab3"
      },
      "id": "EGySyu_OHNqG",
      "execution_count": 148,
      "outputs": [
        {
          "output_type": "stream",
          "name": "stdout",
          "text": [
            "Classification Report - Training Set:\n",
            "                precision    recall  f1-score   support\n",
            "\n",
            " F1_IR007_100W       1.00      1.00      1.00       154\n",
            " F2_IR009_100W       1.00      1.00      1.00       170\n",
            " F3_IR013_100W       1.00      1.00      1.00       185\n",
            " F4_IR017_100W       1.00      1.00      1.00       153\n",
            " F5_OR009_100W       1.00      1.00      1.00       163\n",
            " F6_OR013_100W       1.00      1.00      1.00       143\n",
            " F7_OR017_100W       1.00      1.00      1.00       147\n",
            "F8_Normal_100W       1.00      1.00      1.00       142\n",
            "\n",
            "      accuracy                           1.00      1257\n",
            "     macro avg       1.00      1.00      1.00      1257\n",
            "  weighted avg       1.00      1.00      1.00      1257\n",
            "\n",
            "Classification Report - Test Set:\n",
            "                precision    recall  f1-score   support\n",
            "\n",
            " F1_IR007_100W       1.00      0.98      0.99        48\n",
            " F2_IR009_100W       1.00      1.00      1.00        36\n",
            " F3_IR013_100W       0.96      1.00      0.98        27\n",
            " F4_IR017_100W       1.00      1.00      1.00        44\n",
            " F5_OR009_100W       1.00      1.00      1.00        37\n",
            " F6_OR013_100W       1.00      1.00      1.00        44\n",
            " F7_OR017_100W       1.00      1.00      1.00        44\n",
            "F8_Normal_100W       1.00      1.00      1.00        35\n",
            "\n",
            "      accuracy                           1.00       315\n",
            "     macro avg       1.00      1.00      1.00       315\n",
            "  weighted avg       1.00      1.00      1.00       315\n",
            "\n"
          ]
        },
        {
          "output_type": "display_data",
          "data": {
            "text/plain": [
              "<Figure size 1500x500 with 2 Axes>"
            ],
            "image/png": "[encoded data removed]"
          },
          "metadata": {}
        },
        {
          "output_type": "stream",
          "name": "stdout",
          "text": [
            "Deployment Duration: 0:05:36.524577\n"
          ]
        }
      ]
    },
    {
      "cell_type": "code",
      "source": [
        "final_model.fit(X_train, y_train, eval_set=(X_test, y_test))\n",
        "\n",
        "# Evaluate train accuracy\n",
        "result_train = final_model.score(X_train, y_train)\n",
        "print(\"Train Accuracy : {}\".format(result_train))\n",
        "\n",
        "# Evaluate test accuracy\n",
        "result_test = final_model.score(X_test, y_test)\n",
        "print(\"Test Accuracy : {}\".format(result_test))\n",
        "\n",
        "# Predictions\n",
        "y_pred_train = final_model.predict(X_train)\n",
        "y_pred_test = final_model.predict(X_test)\n",
        "\n",
        "# Classification report\n",
        "print(\"Classification Report - Training Set:\")\n",
        "print(classification_report(y_train, y_pred_train))\n",
        "\n",
        "print(\"Classification Report - Test Set:\")\n",
        "print(classification_report(y_test, y_pred_test))"
      ],
      "metadata": {
        "id": "tEOwmxFROH5f",
        "colab": {
          "base_uri": "https://localhost:8080/"
        },
        "outputId": "7b3408f0-9585-468a-c494-6c01d54f72a8"
      },
      "id": "tEOwmxFROH5f",
      "execution_count": 149,
      "outputs": [
        {
          "output_type": "stream",
          "name": "stdout",
          "text": [
            "0:\tlearn: 1.5279089\ttest: 1.5396103\tbest: 1.5396103 (0)\ttotal: 48ms\tremaining: 24s\n",
            "10:\tlearn: 0.3822754\ttest: 0.4031709\tbest: 0.4031709 (10)\ttotal: 791ms\tremaining: 35.1s\n",
            "20:\tlearn: 0.1486313\ttest: 0.1686090\tbest: 0.1686090 (20)\ttotal: 1.55s\tremaining: 35.4s\n",
            "30:\tlearn: 0.0681680\ttest: 0.0855791\tbest: 0.0855791 (30)\ttotal: 2.43s\tremaining: 36.8s\n",
            "40:\tlearn: 0.0369470\ttest: 0.0545155\tbest: 0.0545155 (40)\ttotal: 3.34s\tremaining: 37.4s\n",
            "50:\tlearn: 0.0225346\ttest: 0.0403477\tbest: 0.0403477 (50)\ttotal: 4.35s\tremaining: 38.3s\n",
            "60:\tlearn: 0.0152524\ttest: 0.0333550\tbest: 0.0333550 (60)\ttotal: 5.28s\tremaining: 38s\n",
            "70:\tlearn: 0.0110585\ttest: 0.0296375\tbest: 0.0296375 (70)\ttotal: 6.22s\tremaining: 37.6s\n",
            "80:\tlearn: 0.0085126\ttest: 0.0274948\tbest: 0.0274948 (80)\ttotal: 6.92s\tremaining: 35.8s\n",
            "90:\tlearn: 0.0067898\ttest: 0.0260624\tbest: 0.0260624 (90)\ttotal: 7.76s\tremaining: 34.9s\n",
            "100:\tlearn: 0.0053570\ttest: 0.0251826\tbest: 0.0251826 (100)\ttotal: 8.56s\tremaining: 33.8s\n",
            "110:\tlearn: 0.0043782\ttest: 0.0245433\tbest: 0.0245433 (110)\ttotal: 9.37s\tremaining: 32.8s\n",
            "120:\tlearn: 0.0037493\ttest: 0.0243048\tbest: 0.0242964 (119)\ttotal: 11s\tremaining: 34.5s\n",
            "130:\tlearn: 0.0031910\ttest: 0.0241709\tbest: 0.0241709 (130)\ttotal: 12.3s\tremaining: 34.7s\n",
            "140:\tlearn: 0.0027732\ttest: 0.0241125\tbest: 0.0241125 (140)\ttotal: 13.6s\tremaining: 34.7s\n",
            "150:\tlearn: 0.0024445\ttest: 0.0240436\tbest: 0.0240270 (148)\ttotal: 14.4s\tremaining: 33.4s\n",
            "160:\tlearn: 0.0021944\ttest: 0.0240851\tbest: 0.0240270 (148)\ttotal: 15.2s\tremaining: 31.9s\n",
            "170:\tlearn: 0.0019970\ttest: 0.0241534\tbest: 0.0240270 (148)\ttotal: 15.8s\tremaining: 30.3s\n",
            "180:\tlearn: 0.0018325\ttest: 0.0242165\tbest: 0.0240270 (148)\ttotal: 16.5s\tremaining: 29.1s\n",
            "190:\tlearn: 0.0017026\ttest: 0.0242154\tbest: 0.0240270 (148)\ttotal: 17.4s\tremaining: 28.2s\n",
            "200:\tlearn: 0.0015644\ttest: 0.0242479\tbest: 0.0240270 (148)\ttotal: 18.3s\tremaining: 27.2s\n",
            "210:\tlearn: 0.0014621\ttest: 0.0242964\tbest: 0.0240270 (148)\ttotal: 19.3s\tremaining: 26.4s\n",
            "220:\tlearn: 0.0013581\ttest: 0.0243690\tbest: 0.0240270 (148)\ttotal: 20s\tremaining: 25.3s\n",
            "230:\tlearn: 0.0012818\ttest: 0.0244523\tbest: 0.0240270 (148)\ttotal: 21s\tremaining: 24.4s\n",
            "240:\tlearn: 0.0012072\ttest: 0.0245842\tbest: 0.0240270 (148)\ttotal: 21.7s\tremaining: 23.3s\n",
            "250:\tlearn: 0.0011390\ttest: 0.0246627\tbest: 0.0240270 (148)\ttotal: 22.5s\tremaining: 22.3s\n",
            "260:\tlearn: 0.0010709\ttest: 0.0248074\tbest: 0.0240270 (148)\ttotal: 23.4s\tremaining: 21.4s\n",
            "270:\tlearn: 0.0010237\ttest: 0.0248542\tbest: 0.0240270 (148)\ttotal: 24.6s\tremaining: 20.8s\n",
            "280:\tlearn: 0.0009831\ttest: 0.0249198\tbest: 0.0240270 (148)\ttotal: 25.8s\tremaining: 20.1s\n",
            "290:\tlearn: 0.0009410\ttest: 0.0250219\tbest: 0.0240270 (148)\ttotal: 26.6s\tremaining: 19.1s\n",
            "300:\tlearn: 0.0009082\ttest: 0.0251287\tbest: 0.0240270 (148)\ttotal: 27.7s\tremaining: 18.3s\n",
            "310:\tlearn: 0.0008721\ttest: 0.0252184\tbest: 0.0240270 (148)\ttotal: 28.5s\tremaining: 17.3s\n",
            "320:\tlearn: 0.0008363\ttest: 0.0252527\tbest: 0.0240270 (148)\ttotal: 29s\tremaining: 16.2s\n",
            "330:\tlearn: 0.0008093\ttest: 0.0253239\tbest: 0.0240270 (148)\ttotal: 29.3s\tremaining: 15s\n",
            "340:\tlearn: 0.0007811\ttest: 0.0254026\tbest: 0.0240270 (148)\ttotal: 29.7s\tremaining: 13.8s\n",
            "350:\tlearn: 0.0007513\ttest: 0.0254862\tbest: 0.0240270 (148)\ttotal: 30.1s\tremaining: 12.8s\n",
            "360:\tlearn: 0.0007269\ttest: 0.0255425\tbest: 0.0240270 (148)\ttotal: 30.5s\tremaining: 11.7s\n",
            "370:\tlearn: 0.0007019\ttest: 0.0256029\tbest: 0.0240270 (148)\ttotal: 30.8s\tremaining: 10.7s\n",
            "380:\tlearn: 0.0006802\ttest: 0.0256698\tbest: 0.0240270 (148)\ttotal: 31.2s\tremaining: 9.74s\n",
            "390:\tlearn: 0.0006592\ttest: 0.0257369\tbest: 0.0240270 (148)\ttotal: 31.5s\tremaining: 8.78s\n",
            "400:\tlearn: 0.0006389\ttest: 0.0258266\tbest: 0.0240270 (148)\ttotal: 31.8s\tremaining: 7.86s\n",
            "410:\tlearn: 0.0006240\ttest: 0.0259088\tbest: 0.0240270 (148)\ttotal: 32.2s\tremaining: 6.97s\n",
            "420:\tlearn: 0.0006075\ttest: 0.0259910\tbest: 0.0240270 (148)\ttotal: 32.6s\tremaining: 6.11s\n",
            "430:\tlearn: 0.0005903\ttest: 0.0260752\tbest: 0.0240270 (148)\ttotal: 32.9s\tremaining: 5.27s\n",
            "440:\tlearn: 0.0005751\ttest: 0.0261506\tbest: 0.0240270 (148)\ttotal: 33.3s\tremaining: 4.45s\n",
            "450:\tlearn: 0.0005623\ttest: 0.0262042\tbest: 0.0240270 (148)\ttotal: 33.7s\tremaining: 3.66s\n",
            "460:\tlearn: 0.0005488\ttest: 0.0262419\tbest: 0.0240270 (148)\ttotal: 34s\tremaining: 2.88s\n",
            "470:\tlearn: 0.0005380\ttest: 0.0262934\tbest: 0.0240270 (148)\ttotal: 34.3s\tremaining: 2.11s\n",
            "480:\tlearn: 0.0005254\ttest: 0.0263556\tbest: 0.0240270 (148)\ttotal: 34.6s\tremaining: 1.37s\n",
            "490:\tlearn: 0.0005137\ttest: 0.0264459\tbest: 0.0240270 (148)\ttotal: 35s\tremaining: 641ms\n",
            "499:\tlearn: 0.0005043\ttest: 0.0265163\tbest: 0.0240270 (148)\ttotal: 35.3s\tremaining: 0us\n",
            "\n",
            "bestTest = 0.02402700258\n",
            "bestIteration = 148\n",
            "\n",
            "Shrink model to first 149 iterations.\n",
            "Train Accuracy : 1.0\n",
            "Test Accuracy : 0.9968253968253968\n",
            "Classification Report - Training Set:\n",
            "                precision    recall  f1-score   support\n",
            "\n",
            " F1_IR007_100W       1.00      1.00      1.00       154\n",
            " F2_IR009_100W       1.00      1.00      1.00       170\n",
            " F3_IR013_100W       1.00      1.00      1.00       185\n",
            " F4_IR017_100W       1.00      1.00      1.00       153\n",
            " F5_OR009_100W       1.00      1.00      1.00       163\n",
            " F6_OR013_100W       1.00      1.00      1.00       143\n",
            " F7_OR017_100W       1.00      1.00      1.00       147\n",
            "F8_Normal_100W       1.00      1.00      1.00       142\n",
            "\n",
            "      accuracy                           1.00      1257\n",
            "     macro avg       1.00      1.00      1.00      1257\n",
            "  weighted avg       1.00      1.00      1.00      1257\n",
            "\n",
            "Classification Report - Test Set:\n",
            "                precision    recall  f1-score   support\n",
            "\n",
            " F1_IR007_100W       1.00      0.98      0.99        48\n",
            " F2_IR009_100W       1.00      1.00      1.00        36\n",
            " F3_IR013_100W       0.96      1.00      0.98        27\n",
            " F4_IR017_100W       1.00      1.00      1.00        44\n",
            " F5_OR009_100W       1.00      1.00      1.00        37\n",
            " F6_OR013_100W       1.00      1.00      1.00        44\n",
            " F7_OR017_100W       1.00      1.00      1.00        44\n",
            "F8_Normal_100W       1.00      1.00      1.00        35\n",
            "\n",
            "      accuracy                           1.00       315\n",
            "     macro avg       1.00      1.00      1.00       315\n",
            "  weighted avg       1.00      1.00      1.00       315\n",
            "\n"
          ]
        }
      ]
    }
  ],
  "metadata": {
    "kernelspec": {
      "display_name": "Python 3",
      "name": "python3"
    },
    "language_info": {
      "codemirror_mode": {
        "name": "ipython",
        "version": 3
      },
      "file_extension": ".py",
      "mimetype": "text/x-python",
      "name": "python",
      "nbconvert_exporter": "python",
      "pygments_lexer": "ipython3",
      "version": "3.11.2"
    },
    "colab": {
      "provenance": [],
      "gpuType": "T4",
      "include_colab_link": true
    },
    "accelerator": "GPU",
    "widgets": {
      "application/vnd.jupyter.widget-state+json": {
        "4220e0447a9c47a38179866d36f6d285": {
          "model_module": "catboost-widget",
          "model_name": "CatboostWidgetModel",
          "model_module_version": "^1.0.0",
          "state": {
            "_dom_classes": [],
            "_model_module": "catboost-widget",
            "_model_module_version": "^1.0.0",
            "_model_name": "CatboostWidgetModel",
            "_view_count": null,
            "_view_module": "catboost-widget",
            "_view_module_version": "^1.0.0",
            "_view_name": "CatboostWidgetView",
            "data": {
              "catboost_info": {
                "path": "catboost_info",
                "name": "catboost_info",
                "content": {
                  "passed_iterations": 499,
                  "total_iterations": 500,
                  "data": {
                    "iterations": [
                      {
                        "learn": [
                          1.527908937
                        ],
                        "iteration": 0,
                        "passed_time": 0.03978933993,
                        "remaining_time": 19.85488062,
                        "test": [
                          1.539610256
                        ]
                      },
                      {
                        "learn": [
                          1.243272288
                        ],
                        "iteration": 1,
                        "passed_time": 0.0802460628,
                        "remaining_time": 19.98126964,
                        "test": [
                          1.260454106
                        ]
                      },
                      {
                        "learn": [
                          1.037551618
                        ],
                        "iteration": 2,
                        "passed_time": 0.1257788396,
                        "remaining_time": 20.8373611,
                        "test": [
                          1.053376466
                        ]
                      },
                      {
                        "learn": [
                          0.8889415858
                        ],
                        "iteration": 3,
                        "passed_time": 0.1697042037,
                        "remaining_time": 21.04332126,
                        "test": [
                          0.9075095352
                        ]
                      },
                      {
                        "learn": [
                          0.7685972338
                        ],
                        "iteration": 4,
                        "passed_time": 0.2148963438,
                        "remaining_time": 21.27473804,
                        "test": [
                          0.7880714922
                        ]
                      },
                      {
                        "learn": [
                          0.6772275886
                        ],
                        "iteration": 5,
                        "passed_time": 0.2539700465,
                        "remaining_time": 20.91020049,
                        "test": [
                          0.6971096947
                        ]
                      },
                      {
                        "learn": [
                          0.5970436604
                        ],
                        "iteration": 6,
                        "passed_time": 0.2937941886,
                        "remaining_time": 20.691505,
                        "test": [
                          0.6176653386
                        ]
                      },
                      {
                        "learn": [
                          0.529322453
                        ],
                        "iteration": 7,
                        "passed_time": 0.3347845028,
                        "remaining_time": 20.58924692,
                        "test": [
                          0.5494830104
                        ]
                      },
                      {
                        "learn": [
                          0.471540623
                        ],
                        "iteration": 8,
                        "passed_time": 0.3733203983,
                        "remaining_time": 20.36670173,
                        "test": [
                          0.4918072199
                        ]
                      },
                      {
                        "learn": [
                          0.4215808345
                        ],
                        "iteration": 9,
                        "passed_time": 0.4307014124,
                        "remaining_time": 21.10436921,
                        "test": [
                          0.4415222308
                        ]
                      },
                      {
                        "learn": [
                          0.3822753644
                        ],
                        "iteration": 10,
                        "passed_time": 0.4697300555,
                        "remaining_time": 20.8816361,
                        "test": [
                          0.4031708548
                        ]
                      },
                      {
                        "learn": [
                          0.3445471956
                        ],
                        "iteration": 11,
                        "passed_time": 0.5082051419,
                        "remaining_time": 20.6670091,
                        "test": [
                          0.3651739996
                        ]
                      },
                      {
                        "learn": [
                          0.3109729411
                        ],
                        "iteration": 12,
                        "passed_time": 0.5469605799,
                        "remaining_time": 20.4899848,
                        "test": [
                          0.3324762336
                        ]
                      },
                      {
                        "learn": [
                          0.2812176939
                        ],
                        "iteration": 13,
                        "passed_time": 0.5847637701,
                        "remaining_time": 20.29965659,
                        "test": [
                          0.3019715736
                        ]
                      },
                      {
                        "learn": [
                          0.2566493699
                        ],
                        "iteration": 14,
                        "passed_time": 0.6237003135,
                        "remaining_time": 20.16631014,
                        "test": [
                          0.2768728333
                        ]
                      },
                      {
                        "learn": [
                          0.2354612977
                        ],
                        "iteration": 15,
                        "passed_time": 0.6617871335,
                        "remaining_time": 20.01906079,
                        "test": [
                          0.2563657469
                        ]
                      },
                      {
                        "learn": [
                          0.2146104029
                        ],
                        "iteration": 16,
                        "passed_time": 0.700588842,
                        "remaining_time": 19.90496533,
                        "test": [
                          0.2356220985
                        ]
                      },
                      {
                        "learn": [
                          0.1955022267
                        ],
                        "iteration": 17,
                        "passed_time": 0.7414212024,
                        "remaining_time": 19.8536122,
                        "test": [
                          0.2161629324
                        ]
                      },
                      {
                        "learn": [
                          0.1781491668
                        ],
                        "iteration": 18,
                        "passed_time": 0.7607212485,
                        "remaining_time": 19.25825898,
                        "test": [
                          0.1986610443
                        ]
                      },
                      {
                        "learn": [
                          0.162057246
                        ],
                        "iteration": 19,
                        "passed_time": 0.8001434358,
                        "remaining_time": 19.20344246,
                        "test": [
                          0.1823893571
                        ]
                      },
                      {
                        "learn": [
                          0.1486312744
                        ],
                        "iteration": 20,
                        "passed_time": 0.8422122159,
                        "remaining_time": 19.21045959,
                        "test": [
                          0.1686090199
                        ]
                      },
                      {
                        "learn": [
                          0.1365072265
                        ],
                        "iteration": 21,
                        "passed_time": 0.8810125025,
                        "remaining_time": 19.14199892,
                        "test": [
                          0.1557806304
                        ]
                      },
                      {
                        "learn": [
                          0.1262976497
                        ],
                        "iteration": 22,
                        "passed_time": 0.9196083388,
                        "remaining_time": 19.07187729,
                        "test": [
                          0.1457876021
                        ]
                      },
                      {
                        "learn": [
                          0.1155857598
                        ],
                        "iteration": 23,
                        "passed_time": 0.9582459848,
                        "remaining_time": 19.00521203,
                        "test": [
                          0.1343813614
                        ]
                      },
                      {
                        "learn": [
                          0.1072420158
                        ],
                        "iteration": 24,
                        "passed_time": 1.001399115,
                        "remaining_time": 19.02658319,
                        "test": [
                          0.1259153067
                        ]
                      },
                      {
                        "learn": [
                          0.09863154622
                        ],
                        "iteration": 25,
                        "passed_time": 1.04017456,
                        "remaining_time": 18.96318236,
                        "test": [
                          0.1167934656
                        ]
                      },
                      {
                        "learn": [
                          0.09155576358
                        ],
                        "iteration": 26,
                        "passed_time": 1.078291973,
                        "remaining_time": 18.89007789,
                        "test": [
                          0.1092844306
                        ]
                      },
                      {
                        "learn": [
                          0.0850019106
                        ],
                        "iteration": 27,
                        "passed_time": 1.117828689,
                        "remaining_time": 18.84339791,
                        "test": [
                          0.1027384232
                        ]
                      },
                      {
                        "learn": [
                          0.07895441235
                        ],
                        "iteration": 28,
                        "passed_time": 1.15966467,
                        "remaining_time": 18.83455378,
                        "test": [
                          0.09672563915
                        ]
                      },
                      {
                        "learn": [
                          0.07354358456
                        ],
                        "iteration": 29,
                        "passed_time": 1.197993451,
                        "remaining_time": 18.76856407,
                        "test": [
                          0.09110897025
                        ]
                      },
                      {
                        "learn": [
                          0.0681680013
                        ],
                        "iteration": 30,
                        "passed_time": 1.236607714,
                        "remaining_time": 18.708678,
                        "test": [
                          0.08557909555
                        ]
                      },
                      {
                        "learn": [
                          0.06411802144
                        ],
                        "iteration": 31,
                        "passed_time": 1.275212011,
                        "remaining_time": 18.64997566,
                        "test": [
                          0.08166282112
                        ]
                      },
                      {
                        "learn": [
                          0.05944384199
                        ],
                        "iteration": 32,
                        "passed_time": 1.31571247,
                        "remaining_time": 18.61932495,
                        "test": [
                          0.07696335706
                        ]
                      },
                      {
                        "learn": [
                          0.05587224807
                        ],
                        "iteration": 33,
                        "passed_time": 1.354285985,
                        "remaining_time": 18.56168438,
                        "test": [
                          0.07317677159
                        ]
                      },
                      {
                        "learn": [
                          0.05201020338
                        ],
                        "iteration": 34,
                        "passed_time": 1.392750856,
                        "remaining_time": 18.50368995,
                        "test": [
                          0.06936859474
                        ]
                      },
                      {
                        "learn": [
                          0.04838999119
                        ],
                        "iteration": 35,
                        "passed_time": 1.448353944,
                        "remaining_time": 18.66767305,
                        "test": [
                          0.06554457341
                        ]
                      },
                      {
                        "learn": [
                          0.04537452365
                        ],
                        "iteration": 36,
                        "passed_time": 1.487366229,
                        "remaining_time": 18.61217741,
                        "test": [
                          0.06259342509
                        ]
                      },
                      {
                        "learn": [
                          0.04305061129
                        ],
                        "iteration": 37,
                        "passed_time": 1.525787836,
                        "remaining_time": 18.5503679,
                        "test": [
                          0.06041825181
                        ]
                      },
                      {
                        "learn": [
                          0.04078376964
                        ],
                        "iteration": 38,
                        "passed_time": 1.564090008,
                        "remaining_time": 18.48834599,
                        "test": [
                          0.05832120483
                        ]
                      },
                      {
                        "learn": [
                          0.03913105613
                        ],
                        "iteration": 39,
                        "passed_time": 1.602671253,
                        "remaining_time": 18.43071942,
                        "test": [
                          0.05667401561
                        ]
                      },
                      {
                        "learn": [
                          0.03694703309
                        ],
                        "iteration": 40,
                        "passed_time": 1.640603609,
                        "remaining_time": 18.36675747,
                        "test": [
                          0.05451548566
                        ]
                      },
                      {
                        "learn": [
                          0.03539543306
                        ],
                        "iteration": 41,
                        "passed_time": 1.679181657,
                        "remaining_time": 18.31107616,
                        "test": [
                          0.05291367025
                        ]
                      },
                      {
                        "learn": [
                          0.03369494808
                        ],
                        "iteration": 42,
                        "passed_time": 1.720050452,
                        "remaining_time": 18.28053619,
                        "test": [
                          0.05112429583
                        ]
                      },
                      {
                        "learn": [
                          0.03159374778
                        ],
                        "iteration": 43,
                        "passed_time": 1.760521881,
                        "remaining_time": 18.24540859,
                        "test": [
                          0.0489140154
                        ]
                      },
                      {
                        "learn": [
                          0.03002413646
                        ],
                        "iteration": 44,
                        "passed_time": 1.801412305,
                        "remaining_time": 18.21427997,
                        "test": [
                          0.04749096994
                        ]
                      },
                      {
                        "learn": [
                          0.02886775078
                        ],
                        "iteration": 45,
                        "passed_time": 1.841808736,
                        "remaining_time": 18.17785143,
                        "test": [
                          0.04629992825
                        ]
                      },
                      {
                        "learn": [
                          0.02724200302
                        ],
                        "iteration": 46,
                        "passed_time": 1.881253058,
                        "remaining_time": 18.13207734,
                        "test": [
                          0.04475240795
                        ]
                      },
                      {
                        "learn": [
                          0.02591206121
                        ],
                        "iteration": 47,
                        "passed_time": 1.919829963,
                        "remaining_time": 18.07839882,
                        "test": [
                          0.04356648505
                        ]
                      },
                      {
                        "learn": [
                          0.02459975436
                        ],
                        "iteration": 48,
                        "passed_time": 1.958411743,
                        "remaining_time": 18.02538155,
                        "test": [
                          0.04245475953
                        ]
                      },
                      {
                        "learn": [
                          0.02360362772
                        ],
                        "iteration": 49,
                        "passed_time": 2.001049797,
                        "remaining_time": 18.00944817,
                        "test": [
                          0.04153709971
                        ]
                      },
                      {
                        "learn": [
                          0.0225346337
                        ],
                        "iteration": 50,
                        "passed_time": 2.040143222,
                        "remaining_time": 17.96126092,
                        "test": [
                          0.04034766817
                        ]
                      },
                      {
                        "learn": [
                          0.02141004824
                        ],
                        "iteration": 51,
                        "passed_time": 2.078721719,
                        "remaining_time": 17.90898712,
                        "test": [
                          0.03928015118
                        ]
                      },
                      {
                        "learn": [
                          0.020455198
                        ],
                        "iteration": 52,
                        "passed_time": 2.119488106,
                        "remaining_time": 17.8756827,
                        "test": [
                          0.03840498923
                        ]
                      },
                      {
                        "learn": [
                          0.01967753449
                        ],
                        "iteration": 53,
                        "passed_time": 2.161184018,
                        "remaining_time": 17.84977912,
                        "test": [
                          0.03780527732
                        ]
                      },
                      {
                        "learn": [
                          0.01869981741
                        ],
                        "iteration": 54,
                        "passed_time": 2.20001361,
                        "remaining_time": 17.80011011,
                        "test": [
                          0.03677748086
                        ]
                      },
                      {
                        "learn": [
                          0.01784900795
                        ],
                        "iteration": 55,
                        "passed_time": 2.239023965,
                        "remaining_time": 17.75226143,
                        "test": [
                          0.03575522753
                        ]
                      },
                      {
                        "learn": [
                          0.01735155588
                        ],
                        "iteration": 56,
                        "passed_time": 2.280491521,
                        "remaining_time": 17.72382006,
                        "test": [
                          0.0352626482
                        ]
                      },
                      {
                        "learn": [
                          0.0166542985
                        ],
                        "iteration": 57,
                        "passed_time": 2.320797866,
                        "remaining_time": 17.68608029,
                        "test": [
                          0.03470988093
                        ]
                      },
                      {
                        "learn": [
                          0.01629882253
                        ],
                        "iteration": 58,
                        "passed_time": 2.359507367,
                        "remaining_time": 17.63631778,
                        "test": [
                          0.03450857176
                        ]
                      },
                      {
                        "learn": [
                          0.01590717528
                        ],
                        "iteration": 59,
                        "passed_time": 2.398107047,
                        "remaining_time": 17.58611834,
                        "test": [
                          0.03407081846
                        ]
                      },
                      {
                        "learn": [
                          0.01525235756
                        ],
                        "iteration": 60,
                        "passed_time": 2.438364598,
                        "remaining_time": 17.54823047,
                        "test": [
                          0.03335504397
                        ]
                      },
                      {
                        "learn": [
                          0.01459268199
                        ],
                        "iteration": 61,
                        "passed_time": 2.495129797,
                        "remaining_time": 17.62688469,
                        "test": [
                          0.03274417832
                        ]
                      },
                      {
                        "learn": [
                          0.01409223107
                        ],
                        "iteration": 62,
                        "passed_time": 2.534213767,
                        "remaining_time": 17.57859391,
                        "test": [
                          0.0322755808
                        ]
                      },
                      {
                        "learn": [
                          0.01371998085
                        ],
                        "iteration": 63,
                        "passed_time": 2.573667458,
                        "remaining_time": 17.53310956,
                        "test": [
                          0.03201381662
                        ]
                      },
                      {
                        "learn": [
                          0.01320285223
                        ],
                        "iteration": 64,
                        "passed_time": 2.612657507,
                        "remaining_time": 17.48470793,
                        "test": [
                          0.03148493232
                        ]
                      },
                      {
                        "learn": [
                          0.01276541802
                        ],
                        "iteration": 65,
                        "passed_time": 2.652105291,
                        "remaining_time": 17.43960146,
                        "test": [
                          0.03103401402
                        ]
                      },
                      {
                        "learn": [
                          0.0124283896
                        ],
                        "iteration": 66,
                        "passed_time": 2.690569804,
                        "remaining_time": 17.38830933,
                        "test": [
                          0.03075434726
                        ]
                      },
                      {
                        "learn": [
                          0.01216215122
                        ],
                        "iteration": 67,
                        "passed_time": 2.731530272,
                        "remaining_time": 17.35325114,
                        "test": [
                          0.03059740065
                        ]
                      },
                      {
                        "learn": [
                          0.01169280694
                        ],
                        "iteration": 68,
                        "passed_time": 2.770427168,
                        "remaining_time": 17.30513202,
                        "test": [
                          0.03016425304
                        ]
                      },
                      {
                        "learn": [
                          0.01131149559
                        ],
                        "iteration": 69,
                        "passed_time": 2.811861104,
                        "remaining_time": 17.27286107,
                        "test": [
                          0.02989484848
                        ]
                      },
                      {
                        "learn": [
                          0.01105851098
                        ],
                        "iteration": 70,
                        "passed_time": 2.850670764,
                        "remaining_time": 17.22447546,
                        "test": [
                          0.02963750841
                        ]
                      },
                      {
                        "learn": [
                          0.01073873206
                        ],
                        "iteration": 71,
                        "passed_time": 2.891560886,
                        "remaining_time": 17.18872304,
                        "test": [
                          0.02945836864
                        ]
                      },
                      {
                        "learn": [
                          0.01050842165
                        ],
                        "iteration": 72,
                        "passed_time": 2.929842381,
                        "remaining_time": 17.13757119,
                        "test": [
                          0.02930361058
                        ]
                      },
                      {
                        "learn": [
                          0.01016554086
                        ],
                        "iteration": 73,
                        "passed_time": 2.969821568,
                        "remaining_time": 17.09654038,
                        "test": [
                          0.02889348878
                        ]
                      },
                      {
                        "learn": [
                          0.009937011095
                        ],
                        "iteration": 74,
                        "passed_time": 3.017938006,
                        "remaining_time": 17.1016487,
                        "test": [
                          0.02872640482
                        ]
                      },
                      {
                        "learn": [
                          0.009726474243
                        ],
                        "iteration": 75,
                        "passed_time": 3.057110521,
                        "remaining_time": 17.0554587,
                        "test": [
                          0.0284388754
                        ]
                      },
                      {
                        "learn": [
                          0.009424865117
                        ],
                        "iteration": 76,
                        "passed_time": 3.097697231,
                        "remaining_time": 17.01721986,
                        "test": [
                          0.02822331161
                        ]
                      },
                      {
                        "learn": [
                          0.009235422204
                        ],
                        "iteration": 77,
                        "passed_time": 3.136757055,
                        "remaining_time": 16.97065996,
                        "test": [
                          0.02812557119
                        ]
                      },
                      {
                        "learn": [
                          0.008930737266
                        ],
                        "iteration": 78,
                        "passed_time": 3.177793867,
                        "remaining_time": 16.93482554,
                        "test": [
                          0.02789473399
                        ]
                      },
                      {
                        "learn": [
                          0.008735233588
                        ],
                        "iteration": 79,
                        "passed_time": 3.216493837,
                        "remaining_time": 16.88659264,
                        "test": [
                          0.02765778029
                        ]
                      },
                      {
                        "learn": [
                          0.008512606443
                        ],
                        "iteration": 80,
                        "passed_time": 3.255468139,
                        "remaining_time": 16.8400142,
                        "test": [
                          0.02749477783
                        ]
                      },
                      {
                        "learn": [
                          0.008259593635
                        ],
                        "iteration": 81,
                        "passed_time": 3.294995982,
                        "remaining_time": 16.79644293,
                        "test": [
                          0.02732261124
                        ]
                      },
                      {
                        "learn": [
                          0.007994725292
                        ],
                        "iteration": 82,
                        "passed_time": 3.334001038,
                        "remaining_time": 16.75034256,
                        "test": [
                          0.02705601693
                        ]
                      },
                      {
                        "learn": [
                          0.007732803126
                        ],
                        "iteration": 83,
                        "passed_time": 3.371894981,
                        "remaining_time": 16.69890848,
                        "test": [
                          0.02669926779
                        ]
                      },
                      {
                        "learn": [
                          0.007621866529
                        ],
                        "iteration": 84,
                        "passed_time": 3.410408872,
                        "remaining_time": 16.65081979,
                        "test": [
                          0.02670900876
                        ]
                      },
                      {
                        "learn": [
                          0.00742750029
                        ],
                        "iteration": 85,
                        "passed_time": 3.448357426,
                        "remaining_time": 16.60023226,
                        "test": [
                          0.02644957741
                        ]
                      },
                      {
                        "learn": [
                          0.007236639001
                        ],
                        "iteration": 86,
                        "passed_time": 3.503165489,
                        "remaining_time": 16.62996951,
                        "test": [
                          0.02633993686
                        ]
                      },
                      {
                        "learn": [
                          0.007096829638
                        ],
                        "iteration": 87,
                        "passed_time": 3.541624644,
                        "remaining_time": 16.58124265,
                        "test": [
                          0.0262403079
                        ]
                      },
                      {
                        "learn": [
                          0.006996136621
                        ],
                        "iteration": 88,
                        "passed_time": 3.579494752,
                        "remaining_time": 16.53002633,
                        "test": [
                          0.02621885871
                        ]
                      },
                      {
                        "learn": [
                          0.006966582729
                        ],
                        "iteration": 89,
                        "passed_time": 3.617511645,
                        "remaining_time": 16.47977527,
                        "test": [
                          0.02622440713
                        ]
                      },
                      {
                        "learn": [
                          0.006789831489
                        ],
                        "iteration": 90,
                        "passed_time": 3.65630472,
                        "remaining_time": 16.43328166,
                        "test": [
                          0.02606239474
                        ]
                      },
                      {
                        "learn": [
                          0.006666389952
                        ],
                        "iteration": 91,
                        "passed_time": 3.694881019,
                        "remaining_time": 16.38599408,
                        "test": [
                          0.0260083938
                        ]
                      },
                      {
                        "learn": [
                          0.006540146244
                        ],
                        "iteration": 92,
                        "passed_time": 3.700808464,
                        "remaining_time": 16.19601123,
                        "test": [
                          0.02593061475
                        ]
                      },
                      {
                        "learn": [
                          0.006345933541
                        ],
                        "iteration": 93,
                        "passed_time": 3.742241286,
                        "remaining_time": 16.16329747,
                        "test": [
                          0.02579953517
                        ]
                      },
                      {
                        "learn": [
                          0.006181109104
                        ],
                        "iteration": 94,
                        "passed_time": 3.786815484,
                        "remaining_time": 16.14379233,
                        "test": [
                          0.02571959231
                        ]
                      },
                      {
                        "learn": [
                          0.005993188998
                        ],
                        "iteration": 95,
                        "passed_time": 3.833155617,
                        "remaining_time": 16.13119656,
                        "test": [
                          0.0255922911
                        ]
                      },
                      {
                        "learn": [
                          0.005870449551
                        ],
                        "iteration": 96,
                        "passed_time": 3.873156835,
                        "remaining_time": 16.09156912,
                        "test": [
                          0.02549670513
                        ]
                      },
                      {
                        "learn": [
                          0.005727294456
                        ],
                        "iteration": 97,
                        "passed_time": 3.911723864,
                        "remaining_time": 16.04605095,
                        "test": [
                          0.02541075719
                        ]
                      },
                      {
                        "learn": [
                          0.005605392205
                        ],
                        "iteration": 98,
                        "passed_time": 3.95128834,
                        "remaining_time": 16.00471338,
                        "test": [
                          0.02532622906
                        ]
                      },
                      {
                        "learn": [
                          0.005485070981
                        ],
                        "iteration": 99,
                        "passed_time": 3.961612498,
                        "remaining_time": 15.84644999,
                        "test": [
                          0.02526391253
                        ]
                      },
                      {
                        "learn": [
                          0.005356960112
                        ],
                        "iteration": 100,
                        "passed_time": 4.003187562,
                        "remaining_time": 15.81457265,
                        "test": [
                          0.02518259087
                        ]
                      },
                      {
                        "learn": [
                          0.005217207374
                        ],
                        "iteration": 101,
                        "passed_time": 4.045097683,
                        "remaining_time": 15.78381253,
                        "test": [
                          0.02504931712
                        ]
                      },
                      {
                        "learn": [
                          0.005089538965
                        ],
                        "iteration": 102,
                        "passed_time": 4.083450832,
                        "remaining_time": 15.73912602,
                        "test": [
                          0.02498357253
                        ]
                      },
                      {
                        "learn": [
                          0.005014505254
                        ],
                        "iteration": 103,
                        "passed_time": 4.124141819,
                        "remaining_time": 15.70346308,
                        "test": [
                          0.02494386652
                        ]
                      },
                      {
                        "learn": [
                          0.00492761245
                        ],
                        "iteration": 104,
                        "passed_time": 4.165064308,
                        "remaining_time": 15.66857525,
                        "test": [
                          0.02488416344
                        ]
                      },
                      {
                        "learn": [
                          0.004834154828
                        ],
                        "iteration": 105,
                        "passed_time": 4.203326445,
                        "remaining_time": 15.62368509,
                        "test": [
                          0.02481531771
                        ]
                      },
                      {
                        "learn": [
                          0.00470866975
                        ],
                        "iteration": 106,
                        "passed_time": 4.244444541,
                        "remaining_time": 15.58940846,
                        "test": [
                          0.02472034613
                        ]
                      },
                      {
                        "learn": [
                          0.004649288015
                        ],
                        "iteration": 107,
                        "passed_time": 4.28301429,
                        "remaining_time": 15.54575557,
                        "test": [
                          0.02472099993
                        ]
                      },
                      {
                        "learn": [
                          0.004566165066
                        ],
                        "iteration": 108,
                        "passed_time": 4.323329876,
                        "remaining_time": 15.50845854,
                        "test": [
                          0.02466545359
                        ]
                      },
                      {
                        "learn": [
                          0.004460286168
                        ],
                        "iteration": 109,
                        "passed_time": 4.362435917,
                        "remaining_time": 15.46681825,
                        "test": [
                          0.02458715565
                        ]
                      },
                      {
                        "learn": [
                          0.004378210715
                        ],
                        "iteration": 110,
                        "passed_time": 4.400792171,
                        "remaining_time": 15.42259599,
                        "test": [
                          0.02454329186
                        ]
                      },
                      {
                        "learn": [
                          0.004309202297
                        ],
                        "iteration": 111,
                        "passed_time": 4.439338906,
                        "remaining_time": 15.37913835,
                        "test": [
                          0.02447514391
                        ]
                      },
                      {
                        "learn": [
                          0.004204055673
                        ],
                        "iteration": 112,
                        "passed_time": 4.478114663,
                        "remaining_time": 15.33655199,
                        "test": [
                          0.02440653354
                        ]
                      },
                      {
                        "learn": [
                          0.004143202646
                        ],
                        "iteration": 113,
                        "passed_time": 4.532579326,
                        "remaining_time": 15.34715456,
                        "test": [
                          0.0243820735
                        ]
                      },
                      {
                        "learn": [
                          0.00409991129
                        ],
                        "iteration": 114,
                        "passed_time": 4.571299492,
                        "remaining_time": 15.30391569,
                        "test": [
                          0.02438895076
                        ]
                      },
                      {
                        "learn": [
                          0.004050385907
                        ],
                        "iteration": 115,
                        "passed_time": 4.609381252,
                        "remaining_time": 15.25864139,
                        "test": [
                          0.02435795304
                        ]
                      },
                      {
                        "learn": [
                          0.003969553006
                        ],
                        "iteration": 116,
                        "passed_time": 4.647505329,
                        "remaining_time": 15.21362856,
                        "test": [
                          0.02434885599
                        ]
                      },
                      {
                        "learn": [
                          0.003891962112
                        ],
                        "iteration": 117,
                        "passed_time": 4.685816185,
                        "remaining_time": 15.16933714,
                        "test": [
                          0.02432412045
                        ]
                      },
                      {
                        "learn": [
                          0.003854426089
                        ],
                        "iteration": 118,
                        "passed_time": 4.726913005,
                        "remaining_time": 15.13406601,
                        "test": [
                          0.02432359614
                        ]
                      },
                      {
                        "learn": [
                          0.003790073092
                        ],
                        "iteration": 119,
                        "passed_time": 4.76713706,
                        "remaining_time": 15.09593402,
                        "test": [
                          0.02429636058
                        ]
                      },
                      {
                        "learn": [
                          0.003749319399
                        ],
                        "iteration": 120,
                        "passed_time": 4.808649009,
                        "remaining_time": 15.06180144,
                        "test": [
                          0.02430481366
                        ]
                      },
                      {
                        "learn": [
                          0.00368181624
                        ],
                        "iteration": 121,
                        "passed_time": 4.847547973,
                        "remaining_time": 15.01945192,
                        "test": [
                          0.02428984534
                        ]
                      },
                      {
                        "learn": [
                          0.003626451113
                        ],
                        "iteration": 122,
                        "passed_time": 4.854221794,
                        "remaining_time": 14.87838712,
                        "test": [
                          0.0242996248
                        ]
                      },
                      {
                        "learn": [
                          0.003547902606
                        ],
                        "iteration": 123,
                        "passed_time": 4.893377221,
                        "remaining_time": 14.83798254,
                        "test": [
                          0.02428995184
                        ]
                      },
                      {
                        "learn": [
                          0.003489272833
                        ],
                        "iteration": 124,
                        "passed_time": 4.932815102,
                        "remaining_time": 14.79844531,
                        "test": [
                          0.02429305422
                        ]
                      },
                      {
                        "learn": [
                          0.003449630136
                        ],
                        "iteration": 125,
                        "passed_time": 4.970991826,
                        "remaining_time": 14.75516621,
                        "test": [
                          0.02428161014
                        ]
                      },
                      {
                        "learn": [
                          0.003389577217
                        ],
                        "iteration": 126,
                        "passed_time": 5.017303179,
                        "remaining_time": 14.73585894,
                        "test": [
                          0.02428300449
                        ]
                      },
                      {
                        "learn": [
                          0.003339389601
                        ],
                        "iteration": 127,
                        "passed_time": 5.056000096,
                        "remaining_time": 14.69400028,
                        "test": [
                          0.0242541851
                        ]
                      },
                      {
                        "learn": [
                          0.003277966114
                        ],
                        "iteration": 128,
                        "passed_time": 5.096430256,
                        "remaining_time": 14.65717539,
                        "test": [
                          0.02421459056
                        ]
                      },
                      {
                        "learn": [
                          0.003241917738
                        ],
                        "iteration": 129,
                        "passed_time": 5.115405899,
                        "remaining_time": 14.55923217,
                        "test": [
                          0.02419786619
                        ]
                      },
                      {
                        "learn": [
                          0.003191035963
                        ],
                        "iteration": 130,
                        "passed_time": 5.17017493,
                        "remaining_time": 14.56331717,
                        "test": [
                          0.02417092341
                        ]
                      },
                      {
                        "learn": [
                          0.003161274105
                        ],
                        "iteration": 131,
                        "passed_time": 5.226400013,
                        "remaining_time": 14.57056973,
                        "test": [
                          0.02418962026
                        ]
                      },
                      {
                        "learn": [
                          0.003108849839
                        ],
                        "iteration": 132,
                        "passed_time": 5.29578182,
                        "remaining_time": 14.61317239,
                        "test": [
                          0.02417286142
                        ]
                      },
                      {
                        "learn": [
                          0.003053773423
                        ],
                        "iteration": 133,
                        "passed_time": 5.369912396,
                        "remaining_time": 14.66707416,
                        "test": [
                          0.02415913136
                        ]
                      },
                      {
                        "learn": [
                          0.002999272059
                        ],
                        "iteration": 134,
                        "passed_time": 5.440234682,
                        "remaining_time": 14.70878266,
                        "test": [
                          0.02415672392
                        ]
                      },
                      {
                        "learn": [
                          0.00297124965
                        ],
                        "iteration": 135,
                        "passed_time": 5.516121987,
                        "remaining_time": 14.76373826,
                        "test": [
                          0.02416831976
                        ]
                      },
                      {
                        "learn": [
                          0.002937740034
                        ],
                        "iteration": 136,
                        "passed_time": 5.597846436,
                        "remaining_time": 14.83225005,
                        "test": [
                          0.02417306294
                        ]
                      },
                      {
                        "learn": [
                          0.002898870078
                        ],
                        "iteration": 137,
                        "passed_time": 5.671601414,
                        "remaining_time": 14.87767907,
                        "test": [
                          0.02415697388
                        ]
                      },
                      {
                        "learn": [
                          0.002864385928
                        ],
                        "iteration": 138,
                        "passed_time": 5.752796559,
                        "remaining_time": 14.94071624,
                        "test": [
                          0.02414357112
                        ]
                      },
                      {
                        "learn": [
                          0.002822183435
                        ],
                        "iteration": 139,
                        "passed_time": 5.828125894,
                        "remaining_time": 14.98660944,
                        "test": [
                          0.02412080642
                        ]
                      },
                      {
                        "learn": [
                          0.002773180888
                        ],
                        "iteration": 140,
                        "passed_time": 5.900051426,
                        "remaining_time": 15.02211675,
                        "test": [
                          0.0241124699
                        ]
                      },
                      {
                        "learn": [
                          0.002736053694
                        ],
                        "iteration": 141,
                        "passed_time": 5.975024869,
                        "remaining_time": 15.06379509,
                        "test": [
                          0.02410874185
                        ]
                      },
                      {
                        "learn": [
                          0.002713823797
                        ],
                        "iteration": 142,
                        "passed_time": 6.06131946,
                        "remaining_time": 15.13210523,
                        "test": [
                          0.02410662662
                        ]
                      },
                      {
                        "learn": [
                          0.002675655785
                        ],
                        "iteration": 143,
                        "passed_time": 6.138102165,
                        "remaining_time": 15.17475257,
                        "test": [
                          0.02410892303
                        ]
                      },
                      {
                        "learn": [
                          0.002640856766
                        ],
                        "iteration": 144,
                        "passed_time": 6.211960238,
                        "remaining_time": 15.20859231,
                        "test": [
                          0.02409794426
                        ]
                      },
                      {
                        "learn": [
                          0.002603363086
                        ],
                        "iteration": 145,
                        "passed_time": 6.282792205,
                        "remaining_time": 15.23361946,
                        "test": [
                          0.02410149895
                        ]
                      },
                      {
                        "learn": [
                          0.002574299359
                        ],
                        "iteration": 146,
                        "passed_time": 6.357725998,
                        "remaining_time": 15.26719236,
                        "test": [
                          0.02404119416
                        ]
                      },
                      {
                        "learn": [
                          0.002536011576
                        ],
                        "iteration": 147,
                        "passed_time": 6.43034664,
                        "remaining_time": 15.29379741,
                        "test": [
                          0.02403834959
                        ]
                      },
                      {
                        "learn": [
                          0.002504268744
                        ],
                        "iteration": 148,
                        "passed_time": 6.507334726,
                        "remaining_time": 15.32935899,
                        "test": [
                          0.02402700258
                        ]
                      },
                      {
                        "learn": [
                          0.002473877964
                        ],
                        "iteration": 149,
                        "passed_time": 6.579074354,
                        "remaining_time": 15.35117349,
                        "test": [
                          0.02403519709
                        ]
                      },
                      {
                        "learn": [
                          0.002444461388
                        ],
                        "iteration": 150,
                        "passed_time": 6.652275119,
                        "remaining_time": 15.37512594,
                        "test": [
                          0.02404361073
                        ]
                      },
                      {
                        "learn": [
                          0.002413012679
                        ],
                        "iteration": 151,
                        "passed_time": 6.721258409,
                        "remaining_time": 15.38814425,
                        "test": [
                          0.0240653513
                        ]
                      },
                      {
                        "learn": [
                          0.00238137124
                        ],
                        "iteration": 152,
                        "passed_time": 6.798272306,
                        "remaining_time": 15.41830386,
                        "test": [
                          0.02408211332
                        ]
                      },
                      {
                        "learn": [
                          0.002353464986
                        ],
                        "iteration": 153,
                        "passed_time": 6.875977395,
                        "remaining_time": 15.44862454,
                        "test": [
                          0.02408377888
                        ]
                      },
                      {
                        "learn": [
                          0.002337035624
                        ],
                        "iteration": 154,
                        "passed_time": 6.951419575,
                        "remaining_time": 15.47251454,
                        "test": [
                          0.02406625358
                        ]
                      },
                      {
                        "learn": [
                          0.002311840081
                        ],
                        "iteration": 155,
                        "passed_time": 7.039617916,
                        "remaining_time": 15.52326002,
                        "test": [
                          0.02407743185
                        ]
                      },
                      {
                        "learn": [
                          0.002288130194
                        ],
                        "iteration": 156,
                        "passed_time": 7.065237255,
                        "remaining_time": 15.43551833,
                        "test": [
                          0.02409862029
                        ]
                      },
                      {
                        "learn": [
                          0.002257112305
                        ],
                        "iteration": 157,
                        "passed_time": 7.138341765,
                        "remaining_time": 15.45134737,
                        "test": [
                          0.02407727818
                        ]
                      },
                      {
                        "learn": [
                          0.002235325097
                        ],
                        "iteration": 158,
                        "passed_time": 7.205725003,
                        "remaining_time": 15.45378759,
                        "test": [
                          0.02407301243
                        ]
                      },
                      {
                        "learn": [
                          0.002214947073
                        ],
                        "iteration": 159,
                        "passed_time": 7.230554908,
                        "remaining_time": 15.36492918,
                        "test": [
                          0.02408787517
                        ]
                      },
                      {
                        "learn": [
                          0.002194367313
                        ],
                        "iteration": 160,
                        "passed_time": 7.307532091,
                        "remaining_time": 15.38666695,
                        "test": [
                          0.0240850992
                        ]
                      },
                      {
                        "learn": [
                          0.002169062778
                        ],
                        "iteration": 161,
                        "passed_time": 7.382070577,
                        "remaining_time": 15.40209787,
                        "test": [
                          0.02408438553
                        ]
                      },
                      {
                        "learn": [
                          0.002159797224
                        ],
                        "iteration": 162,
                        "passed_time": 7.455601987,
                        "remaining_time": 15.41434276,
                        "test": [
                          0.02408587022
                        ]
                      },
                      {
                        "learn": [
                          0.002138195072
                        ],
                        "iteration": 163,
                        "passed_time": 7.528511381,
                        "remaining_time": 15.42426722,
                        "test": [
                          0.02408793931
                        ]
                      },
                      {
                        "learn": [
                          0.002118296141
                        ],
                        "iteration": 164,
                        "passed_time": 7.601793562,
                        "remaining_time": 15.4339445,
                        "test": [
                          0.02408480828
                        ]
                      },
                      {
                        "learn": [
                          0.002104894465
                        ],
                        "iteration": 165,
                        "passed_time": 7.678875447,
                        "remaining_time": 15.45026747,
                        "test": [
                          0.02407702657
                        ]
                      },
                      {
                        "learn": [
                          0.00208805361
                        ],
                        "iteration": 166,
                        "passed_time": 7.685145806,
                        "remaining_time": 15.32427277,
                        "test": [
                          0.02414139107
                        ]
                      },
                      {
                        "learn": [
                          0.002060557534
                        ],
                        "iteration": 167,
                        "passed_time": 7.741528685,
                        "remaining_time": 15.29873526,
                        "test": [
                          0.02414833632
                        ]
                      },
                      {
                        "learn": [
                          0.002034992628
                        ],
                        "iteration": 168,
                        "passed_time": 7.817999479,
                        "remaining_time": 15.31217649,
                        "test": [
                          0.02413436236
                        ]
                      },
                      {
                        "learn": [
                          0.002016610896
                        ],
                        "iteration": 169,
                        "passed_time": 7.859281493,
                        "remaining_time": 15.25625231,
                        "test": [
                          0.02413932451
                        ]
                      },
                      {
                        "learn": [
                          0.001996998444
                        ],
                        "iteration": 170,
                        "passed_time": 7.933117098,
                        "remaining_time": 15.26313173,
                        "test": [
                          0.02415342484
                        ]
                      },
                      {
                        "learn": [
                          0.001974021929
                        ],
                        "iteration": 171,
                        "passed_time": 8.007937847,
                        "remaining_time": 15.27095124,
                        "test": [
                          0.02414230792
                        ]
                      },
                      {
                        "learn": [
                          0.001955991596
                        ],
                        "iteration": 172,
                        "passed_time": 8.096745653,
                        "remaining_time": 15.30425334,
                        "test": [
                          0.02414204501
                        ]
                      },
                      {
                        "learn": [
                          0.001933221831
                        ],
                        "iteration": 173,
                        "passed_time": 8.170895001,
                        "remaining_time": 15.30868833,
                        "test": [
                          0.02413506787
                        ]
                      },
                      {
                        "learn": [
                          0.001923721306
                        ],
                        "iteration": 174,
                        "passed_time": 8.236302419,
                        "remaining_time": 15.29599021,
                        "test": [
                          0.02413727568
                        ]
                      },
                      {
                        "learn": [
                          0.001909911006
                        ],
                        "iteration": 175,
                        "passed_time": 8.254682153,
                        "remaining_time": 15.19611942,
                        "test": [
                          0.02417290059
                        ]
                      },
                      {
                        "learn": [
                          0.001902254087
                        ],
                        "iteration": 176,
                        "passed_time": 8.330224548,
                        "remaining_time": 15.20148322,
                        "test": [
                          0.02417385323
                        ]
                      },
                      {
                        "learn": [
                          0.001883710394
                        ],
                        "iteration": 177,
                        "passed_time": 8.40459625,
                        "remaining_time": 15.20382018,
                        "test": [
                          0.02420450073
                        ]
                      },
                      {
                        "learn": [
                          0.001871344415
                        ],
                        "iteration": 178,
                        "passed_time": 8.460469039,
                        "remaining_time": 15.17212604,
                        "test": [
                          0.02420442686
                        ]
                      },
                      {
                        "learn": [
                          0.001848343513
                        ],
                        "iteration": 179,
                        "passed_time": 8.49939599,
                        "remaining_time": 15.11003731,
                        "test": [
                          0.02421580319
                        ]
                      },
                      {
                        "learn": [
                          0.001832522056
                        ],
                        "iteration": 180,
                        "passed_time": 8.539167247,
                        "remaining_time": 15.04969255,
                        "test": [
                          0.02421648614
                        ]
                      },
                      {
                        "learn": [
                          0.001818063507
                        ],
                        "iteration": 181,
                        "passed_time": 8.558472037,
                        "remaining_time": 14.95381378,
                        "test": [
                          0.02421670023
                        ]
                      },
                      {
                        "learn": [
                          0.001807341013
                        ],
                        "iteration": 182,
                        "passed_time": 8.596928496,
                        "remaining_time": 14.89194718,
                        "test": [
                          0.02422135034
                        ]
                      },
                      {
                        "learn": [
                          0.001792611587
                        ],
                        "iteration": 183,
                        "passed_time": 8.636001679,
                        "remaining_time": 14.83139419,
                        "test": [
                          0.02421612897
                        ]
                      },
                      {
                        "learn": [
                          0.001783175485
                        ],
                        "iteration": 184,
                        "passed_time": 8.67444563,
                        "remaining_time": 14.77000202,
                        "test": [
                          0.02420564232
                        ]
                      },
                      {
                        "learn": [
                          0.001768815223
                        ],
                        "iteration": 185,
                        "passed_time": 8.719634185,
                        "remaining_time": 14.72024266,
                        "test": [
                          0.02419477858
                        ]
                      },
                      {
                        "learn": [
                          0.001754472482
                        ],
                        "iteration": 186,
                        "passed_time": 8.771330109,
                        "remaining_time": 14.68142419,
                        "test": [
                          0.02419733222
                        ]
                      },
                      {
                        "learn": [
                          0.001741081736
                        ],
                        "iteration": 187,
                        "passed_time": 8.811411656,
                        "remaining_time": 14.62319381,
                        "test": [
                          0.02420526251
                        ]
                      },
                      {
                        "learn": [
                          0.001730916439
                        ],
                        "iteration": 188,
                        "passed_time": 8.850946665,
                        "remaining_time": 14.56425615,
                        "test": [
                          0.02420183301
                        ]
                      },
                      {
                        "learn": [
                          0.001715863748
                        ],
                        "iteration": 189,
                        "passed_time": 8.888770344,
                        "remaining_time": 14.50273056,
                        "test": [
                          0.02419875177
                        ]
                      },
                      {
                        "learn": [
                          0.001702565724
                        ],
                        "iteration": 190,
                        "passed_time": 8.908229708,
                        "remaining_time": 14.41174335,
                        "test": [
                          0.02421541625
                        ]
                      },
                      {
                        "learn": [
                          0.001684859817
                        ],
                        "iteration": 191,
                        "passed_time": 8.946443165,
                        "remaining_time": 14.35158591,
                        "test": [
                          0.02421071782
                        ]
                      },
                      {
                        "learn": [
                          0.00167259334
                        ],
                        "iteration": 192,
                        "passed_time": 8.956629332,
                        "remaining_time": 14.2470736,
                        "test": [
                          0.02423180682
                        ]
                      },
                      {
                        "learn": [
                          0.001656092784
                        ],
                        "iteration": 193,
                        "passed_time": 8.994664385,
                        "remaining_time": 14.18746032,
                        "test": [
                          0.02423174772
                        ]
                      },
                      {
                        "learn": [
                          0.001645944994
                        ],
                        "iteration": 194,
                        "passed_time": 9.033050274,
                        "remaining_time": 14.1286171,
                        "test": [
                          0.02423540974
                        ]
                      },
                      {
                        "learn": [
                          0.001632179267
                        ],
                        "iteration": 195,
                        "passed_time": 9.081520369,
                        "remaining_time": 14.08562343,
                        "test": [
                          0.02423927895
                        ]
                      },
                      {
                        "learn": [
                          0.001618522535
                        ],
                        "iteration": 196,
                        "passed_time": 9.120421563,
                        "remaining_time": 14.02785652,
                        "test": [
                          0.02424183595
                        ]
                      },
                      {
                        "learn": [
                          0.00160363249
                        ],
                        "iteration": 197,
                        "passed_time": 9.159640784,
                        "remaining_time": 13.97076524,
                        "test": [
                          0.02423849687
                        ]
                      },
                      {
                        "learn": [
                          0.001594662182
                        ],
                        "iteration": 198,
                        "passed_time": 9.201429094,
                        "remaining_time": 13.91773948,
                        "test": [
                          0.02424323854
                        ]
                      },
                      {
                        "learn": [
                          0.001582055294
                        ],
                        "iteration": 199,
                        "passed_time": 9.240317649,
                        "remaining_time": 13.86047647,
                        "test": [
                          0.02424628173
                        ]
                      },
                      {
                        "learn": [
                          0.001564396575
                        ],
                        "iteration": 200,
                        "passed_time": 9.279227575,
                        "remaining_time": 13.80342808,
                        "test": [
                          0.02424791505
                        ]
                      },
                      {
                        "learn": [
                          0.001549969956
                        ],
                        "iteration": 201,
                        "passed_time": 9.318423548,
                        "remaining_time": 13.74698127,
                        "test": [
                          0.02425255465
                        ]
                      },
                      {
                        "learn": [
                          0.001538195045
                        ],
                        "iteration": 202,
                        "passed_time": 9.356893343,
                        "remaining_time": 13.68964199,
                        "test": [
                          0.02424595622
                        ]
                      },
                      {
                        "learn": [
                          0.001527497521
                        ],
                        "iteration": 203,
                        "passed_time": 9.395483225,
                        "remaining_time": 13.63266193,
                        "test": [
                          0.02424866851
                        ]
                      },
                      {
                        "learn": [
                          0.00151685399
                        ],
                        "iteration": 204,
                        "passed_time": 9.434151393,
                        "remaining_time": 13.57597396,
                        "test": [
                          0.0242554374
                        ]
                      },
                      {
                        "learn": [
                          0.001506249124
                        ],
                        "iteration": 205,
                        "passed_time": 9.472733311,
                        "remaining_time": 13.51933783,
                        "test": [
                          0.02426300634
                        ]
                      },
                      {
                        "learn": [
                          0.001501338465
                        ],
                        "iteration": 206,
                        "passed_time": 9.514375894,
                        "remaining_time": 13.46720839,
                        "test": [
                          0.02427132098
                        ]
                      },
                      {
                        "learn": [
                          0.001488653406
                        ],
                        "iteration": 207,
                        "passed_time": 9.552690085,
                        "remaining_time": 13.41050723,
                        "test": [
                          0.02426993564
                        ]
                      },
                      {
                        "learn": [
                          0.001478973313
                        ],
                        "iteration": 208,
                        "passed_time": 9.59231004,
                        "remaining_time": 13.3558001,
                        "test": [
                          0.0242823419
                        ]
                      },
                      {
                        "learn": [
                          0.001472702701
                        ],
                        "iteration": 209,
                        "passed_time": 9.630844071,
                        "remaining_time": 13.29973705,
                        "test": [
                          0.02428835546
                        ]
                      },
                      {
                        "learn": [
                          0.001462087735
                        ],
                        "iteration": 210,
                        "passed_time": 9.669478385,
                        "remaining_time": 13.2439775,
                        "test": [
                          0.02429639727
                        ]
                      },
                      {
                        "learn": [
                          0.001450884985
                        ],
                        "iteration": 211,
                        "passed_time": 9.708645418,
                        "remaining_time": 13.18910321,
                        "test": [
                          0.02430325481
                        ]
                      },
                      {
                        "learn": [
                          0.001442135212
                        ],
                        "iteration": 212,
                        "passed_time": 9.760182894,
                        "remaining_time": 13.15104456,
                        "test": [
                          0.02431828063
                        ]
                      },
                      {
                        "learn": [
                          0.00143353814
                        ],
                        "iteration": 213,
                        "passed_time": 9.779706937,
                        "remaining_time": 13.07007563,
                        "test": [
                          0.02430590403
                        ]
                      },
                      {
                        "learn": [
                          0.0014197847
                        ],
                        "iteration": 214,
                        "passed_time": 9.821106054,
                        "remaining_time": 13.01867547,
                        "test": [
                          0.02432697068
                        ]
                      },
                      {
                        "learn": [
                          0.001409851591
                        ],
                        "iteration": 215,
                        "passed_time": 9.862432509,
                        "remaining_time": 12.96727237,
                        "test": [
                          0.02433076277
                        ]
                      },
                      {
                        "learn": [
                          0.001400218022
                        ],
                        "iteration": 216,
                        "passed_time": 9.902634056,
                        "remaining_time": 12.9144951,
                        "test": [
                          0.02433607584
                        ]
                      },
                      {
                        "learn": [
                          0.001386987513
                        ],
                        "iteration": 217,
                        "passed_time": 9.943453716,
                        "remaining_time": 12.86263279,
                        "test": [
                          0.02434867272
                        ]
                      },
                      {
                        "learn": [
                          0.001376665414
                        ],
                        "iteration": 218,
                        "passed_time": 9.983317498,
                        "remaining_time": 12.80964483,
                        "test": [
                          0.02435571797
                        ]
                      },
                      {
                        "learn": [
                          0.001366802096
                        ],
                        "iteration": 219,
                        "passed_time": 10.02280074,
                        "remaining_time": 12.75629185,
                        "test": [
                          0.02436349318
                        ]
                      },
                      {
                        "learn": [
                          0.001358072617
                        ],
                        "iteration": 220,
                        "passed_time": 10.07193646,
                        "remaining_time": 12.7152501,
                        "test": [
                          0.02436895756
                        ]
                      },
                      {
                        "learn": [
                          0.001350001243
                        ],
                        "iteration": 221,
                        "passed_time": 10.11719422,
                        "remaining_time": 12.66927924,
                        "test": [
                          0.02437902778
                        ]
                      },
                      {
                        "learn": [
                          0.001343474927
                        ],
                        "iteration": 222,
                        "passed_time": 10.15617061,
                        "remaining_time": 12.61551237,
                        "test": [
                          0.02438297711
                        ]
                      },
                      {
                        "learn": [
                          0.001335315288
                        ],
                        "iteration": 223,
                        "passed_time": 10.20008351,
                        "remaining_time": 12.56796004,
                        "test": [
                          0.02438901222
                        ]
                      },
                      {
                        "learn": [
                          0.001326135505
                        ],
                        "iteration": 224,
                        "passed_time": 10.24249581,
                        "remaining_time": 12.51860599,
                        "test": [
                          0.0243962743
                        ]
                      },
                      {
                        "learn": [
                          0.001321854107
                        ],
                        "iteration": 225,
                        "passed_time": 10.28202757,
                        "remaining_time": 12.46582104,
                        "test": [
                          0.02440412767
                        ]
                      },
                      {
                        "learn": [
                          0.001313974491
                        ],
                        "iteration": 226,
                        "passed_time": 10.30171126,
                        "remaining_time": 12.38928271,
                        "test": [
                          0.02442101074
                        ]
                      },
                      {
                        "learn": [
                          0.001306679408
                        ],
                        "iteration": 227,
                        "passed_time": 10.33944205,
                        "remaining_time": 12.33477297,
                        "test": [
                          0.02442495357
                        ]
                      },
                      {
                        "learn": [
                          0.00129959333
                        ],
                        "iteration": 228,
                        "passed_time": 10.37713587,
                        "remaining_time": 12.28036602,
                        "test": [
                          0.02443079947
                        ]
                      },
                      {
                        "learn": [
                          0.001289460579
                        ],
                        "iteration": 229,
                        "passed_time": 10.41538696,
                        "remaining_time": 12.2267586,
                        "test": [
                          0.02443179174
                        ]
                      },
                      {
                        "learn": [
                          0.001281798837
                        ],
                        "iteration": 230,
                        "passed_time": 10.45353813,
                        "remaining_time": 12.17316778,
                        "test": [
                          0.0244523356
                        ]
                      },
                      {
                        "learn": [
                          0.001275269751
                        ],
                        "iteration": 231,
                        "passed_time": 10.46400495,
                        "remaining_time": 12.08772986,
                        "test": [
                          0.0244699181
                        ]
                      },
                      {
                        "learn": [
                          0.001268624385
                        ],
                        "iteration": 232,
                        "passed_time": 10.50161082,
                        "remaining_time": 12.03403472,
                        "test": [
                          0.02447561043
                        ]
                      },
                      {
                        "learn": [
                          0.001262404445
                        ],
                        "iteration": 233,
                        "passed_time": 10.54051535,
                        "remaining_time": 11.98195335,
                        "test": [
                          0.0244833316
                        ]
                      },
                      {
                        "learn": [
                          0.001254810796
                        ],
                        "iteration": 234,
                        "passed_time": 10.57923313,
                        "remaining_time": 11.92977353,
                        "test": [
                          0.02448992264
                        ]
                      },
                      {
                        "learn": [
                          0.001246935982
                        ],
                        "iteration": 235,
                        "passed_time": 10.61977252,
                        "remaining_time": 11.87974553,
                        "test": [
                          0.02449803887
                        ]
                      },
                      {
                        "learn": [
                          0.001241583063
                        ],
                        "iteration": 236,
                        "passed_time": 10.63135004,
                        "remaining_time": 11.79765848,
                        "test": [
                          0.02453870386
                        ]
                      },
                      {
                        "learn": [
                          0.001234570131
                        ],
                        "iteration": 237,
                        "passed_time": 10.66917913,
                        "remaining_time": 11.74506274,
                        "test": [
                          0.02454349359
                        ]
                      },
                      {
                        "learn": [
                          0.001226530404
                        ],
                        "iteration": 238,
                        "passed_time": 10.70846383,
                        "remaining_time": 11.69418017,
                        "test": [
                          0.02454665076
                        ]
                      },
                      {
                        "learn": [
                          0.001217278881
                        ],
                        "iteration": 239,
                        "passed_time": 10.74897508,
                        "remaining_time": 11.644723,
                        "test": [
                          0.02456061216
                        ]
                      },
                      {
                        "learn": [
                          0.001207179736
                        ],
                        "iteration": 240,
                        "passed_time": 10.76941016,
                        "remaining_time": 11.57376444,
                        "test": [
                          0.0245842312
                        ]
                      },
                      {
                        "learn": [
                          0.001201415059
                        ],
                        "iteration": 241,
                        "passed_time": 10.82568307,
                        "remaining_time": 11.54143071,
                        "test": [
                          0.02459119586
                        ]
                      },
                      {
                        "learn": [
                          0.00119215553
                        ],
                        "iteration": 242,
                        "passed_time": 10.86675176,
                        "remaining_time": 11.49281976,
                        "test": [
                          0.02460477227
                        ]
                      },
                      {
                        "learn": [
                          0.001187309393
                        ],
                        "iteration": 243,
                        "passed_time": 10.91060159,
                        "remaining_time": 11.44718856,
                        "test": [
                          0.02458661132
                        ]
                      },
                      {
                        "learn": [
                          0.001179652191
                        ],
                        "iteration": 244,
                        "passed_time": 10.95397525,
                        "remaining_time": 11.40107628,
                        "test": [
                          0.02459350661
                        ]
                      },
                      {
                        "learn": [
                          0.001171190206
                        ],
                        "iteration": 245,
                        "passed_time": 10.99556817,
                        "remaining_time": 11.35314762,
                        "test": [
                          0.02460705614
                        ]
                      },
                      {
                        "learn": [
                          0.001166199915
                        ],
                        "iteration": 246,
                        "passed_time": 11.03688803,
                        "remaining_time": 11.30499058,
                        "test": [
                          0.02461553572
                        ]
                      },
                      {
                        "learn": [
                          0.001158159141
                        ],
                        "iteration": 247,
                        "passed_time": 11.08786806,
                        "remaining_time": 11.26670465,
                        "test": [
                          0.02463885835
                        ]
                      },
                      {
                        "learn": [
                          0.001153460218
                        ],
                        "iteration": 248,
                        "passed_time": 11.12596331,
                        "remaining_time": 11.21532848,
                        "test": [
                          0.02464008652
                        ]
                      },
                      {
                        "learn": [
                          0.001147714274
                        ],
                        "iteration": 249,
                        "passed_time": 11.16313057,
                        "remaining_time": 11.16313057,
                        "test": [
                          0.02464948525
                        ]
                      },
                      {
                        "learn": [
                          0.001139035417
                        ],
                        "iteration": 250,
                        "passed_time": 11.20368562,
                        "remaining_time": 11.11441323,
                        "test": [
                          0.02466268451
                        ]
                      },
                      {
                        "learn": [
                          0.001131701842
                        ],
                        "iteration": 251,
                        "passed_time": 11.24151615,
                        "remaining_time": 11.06307938,
                        "test": [
                          0.02467030601
                        ]
                      },
                      {
                        "learn": [
                          0.001125456589
                        ],
                        "iteration": 252,
                        "passed_time": 11.27917381,
                        "remaining_time": 11.01168352,
                        "test": [
                          0.02467616243
                        ]
                      },
                      {
                        "learn": [
                          0.001118102651
                        ],
                        "iteration": 253,
                        "passed_time": 11.31692872,
                        "remaining_time": 10.96049002,
                        "test": [
                          0.02468095134
                        ]
                      },
                      {
                        "learn": [
                          0.001113140213
                        ],
                        "iteration": 254,
                        "passed_time": 11.33563998,
                        "remaining_time": 10.89110508,
                        "test": [
                          0.02469756856
                        ]
                      },
                      {
                        "learn": [
                          0.001105667638
                        ],
                        "iteration": 255,
                        "passed_time": 11.37239045,
                        "remaining_time": 10.83930965,
                        "test": [
                          0.02471112549
                        ]
                      },
                      {
                        "learn": [
                          0.001098334029
                        ],
                        "iteration": 256,
                        "passed_time": 11.41231385,
                        "remaining_time": 10.79063139,
                        "test": [
                          0.02472469607
                        ]
                      },
                      {
                        "learn": [
                          0.00109239813
                        ],
                        "iteration": 257,
                        "passed_time": 11.44976139,
                        "remaining_time": 10.73969867,
                        "test": [
                          0.02473997154
                        ]
                      },
                      {
                        "learn": [
                          0.001085664127
                        ],
                        "iteration": 258,
                        "passed_time": 11.48766104,
                        "remaining_time": 10.68929078,
                        "test": [
                          0.02476557108
                        ]
                      },
                      {
                        "learn": [
                          0.00107854366
                        ],
                        "iteration": 259,
                        "passed_time": 11.52476278,
                        "remaining_time": 10.63824257,
                        "test": [
                          0.02478734275
                        ]
                      },
                      {
                        "learn": [
                          0.001070943222
                        ],
                        "iteration": 260,
                        "passed_time": 11.56170162,
                        "remaining_time": 10.58715206,
                        "test": [
                          0.02480737821
                        ]
                      },
                      {
                        "learn": [
                          0.001067442102
                        ],
                        "iteration": 261,
                        "passed_time": 11.59995044,
                        "remaining_time": 10.53735956,
                        "test": [
                          0.02480851378
                        ]
                      },
                      {
                        "learn": [
                          0.001062812715
                        ],
                        "iteration": 262,
                        "passed_time": 11.63809898,
                        "remaining_time": 10.48756448,
                        "test": [
                          0.02481881387
                        ]
                      },
                      {
                        "learn": [
                          0.00105566802
                        ],
                        "iteration": 263,
                        "passed_time": 11.67549028,
                        "remaining_time": 10.4371807,
                        "test": [
                          0.02482578546
                        ]
                      },
                      {
                        "learn": [
                          0.001051829944
                        ],
                        "iteration": 264,
                        "passed_time": 11.71422654,
                        "remaining_time": 10.38808769,
                        "test": [
                          0.02482722444
                        ]
                      },
                      {
                        "learn": [
                          0.001046591439
                        ],
                        "iteration": 265,
                        "passed_time": 11.75185302,
                        "remaining_time": 10.33809627,
                        "test": [
                          0.02484854872
                        ]
                      },
                      {
                        "learn": [
                          0.001041390233
                        ],
                        "iteration": 266,
                        "passed_time": 11.80109179,
                        "remaining_time": 10.29833104,
                        "test": [
                          0.02482678889
                        ]
                      },
                      {
                        "learn": [
                          0.001038802524
                        ],
                        "iteration": 267,
                        "passed_time": 11.85703537,
                        "remaining_time": 10.26429928,
                        "test": [
                          0.02483479988
                        ]
                      },
                      {
                        "learn": [
                          0.001032926809
                        ],
                        "iteration": 268,
                        "passed_time": 11.89445781,
                        "remaining_time": 10.21419983,
                        "test": [
                          0.02483832078
                        ]
                      },
                      {
                        "learn": [
                          0.001027906513
                        ],
                        "iteration": 269,
                        "passed_time": 11.93149283,
                        "remaining_time": 10.16386427,
                        "test": [
                          0.02484678901
                        ]
                      },
                      {
                        "learn": [
                          0.001023725517
                        ],
                        "iteration": 270,
                        "passed_time": 11.96874705,
                        "remaining_time": 10.11381208,
                        "test": [
                          0.02485420422
                        ]
                      },
                      {
                        "learn": [
                          0.001019697126
                        ],
                        "iteration": 271,
                        "passed_time": 12.00658409,
                        "remaining_time": 10.06434255,
                        "test": [
                          0.02485945193
                        ]
                      },
                      {
                        "learn": [
                          0.001016067733
                        ],
                        "iteration": 272,
                        "passed_time": 12.04442996,
                        "remaining_time": 10.01496557,
                        "test": [
                          0.02485999843
                        ]
                      },
                      {
                        "learn": [
                          0.001011618912
                        ],
                        "iteration": 273,
                        "passed_time": 12.09242463,
                        "remaining_time": 9.974043675,
                        "test": [
                          0.02486828608
                        ]
                      },
                      {
                        "learn": [
                          0.001007369517
                        ],
                        "iteration": 274,
                        "passed_time": 12.13286066,
                        "remaining_time": 9.926885998,
                        "test": [
                          0.0248752204
                        ]
                      },
                      {
                        "learn": [
                          0.001002434196
                        ],
                        "iteration": 275,
                        "passed_time": 12.17198281,
                        "remaining_time": 9.878710689,
                        "test": [
                          0.02489203722
                        ]
                      },
                      {
                        "learn": [
                          0.0009990409208
                        ],
                        "iteration": 276,
                        "passed_time": 12.20990647,
                        "remaining_time": 9.829635894,
                        "test": [
                          0.02489280037
                        ]
                      },
                      {
                        "learn": [
                          0.0009941279589
                        ],
                        "iteration": 277,
                        "passed_time": 12.22816415,
                        "remaining_time": 9.764936839,
                        "test": [
                          0.02490032685
                        ]
                      },
                      {
                        "learn": [
                          0.0009897945024
                        ],
                        "iteration": 278,
                        "passed_time": 12.26520238,
                        "remaining_time": 9.715447049,
                        "test": [
                          0.02490483596
                        ]
                      },
                      {
                        "learn": [
                          0.0009867761915
                        ],
                        "iteration": 279,
                        "passed_time": 12.2838167,
                        "remaining_time": 9.65157026,
                        "test": [
                          0.02490325281
                        ]
                      },
                      {
                        "learn": [
                          0.0009831128791
                        ],
                        "iteration": 280,
                        "passed_time": 12.32090969,
                        "remaining_time": 9.602417158,
                        "test": [
                          0.02491980288
                        ]
                      },
                      {
                        "learn": [
                          0.0009775254348
                        ],
                        "iteration": 281,
                        "passed_time": 12.3580008,
                        "remaining_time": 9.553348135,
                        "test": [
                          0.02492514002
                        ]
                      },
                      {
                        "learn": [
                          0.0009744707435
                        ],
                        "iteration": 282,
                        "passed_time": 12.3950926,
                        "remaining_time": 9.50436429,
                        "test": [
                          0.02493372706
                        ]
                      },
                      {
                        "learn": [
                          0.0009706875356
                        ],
                        "iteration": 283,
                        "passed_time": 12.43237671,
                        "remaining_time": 9.455610458,
                        "test": [
                          0.02494184192
                        ]
                      },
                      {
                        "learn": [
                          0.0009664721514
                        ],
                        "iteration": 284,
                        "passed_time": 12.450813,
                        "remaining_time": 9.392718579,
                        "test": [
                          0.0249565931
                        ]
                      },
                      {
                        "learn": [
                          0.0009636191844
                        ],
                        "iteration": 285,
                        "passed_time": 12.45403839,
                        "remaining_time": 9.318755999,
                        "test": [
                          0.02495963935
                        ]
                      },
                      {
                        "learn": [
                          0.0009599132044
                        ],
                        "iteration": 286,
                        "passed_time": 12.46322301,
                        "remaining_time": 9.249709064,
                        "test": [
                          0.02496859809
                        ]
                      },
                      {
                        "learn": [
                          0.0009538912296
                        ],
                        "iteration": 287,
                        "passed_time": 12.50077925,
                        "remaining_time": 9.201962504,
                        "test": [
                          0.02496912077
                        ]
                      },
                      {
                        "learn": [
                          0.0009475662907
                        ],
                        "iteration": 288,
                        "passed_time": 12.53915738,
                        "remaining_time": 9.154886529,
                        "test": [
                          0.02498670918
                        ]
                      },
                      {
                        "learn": [
                          0.0009452420681
                        ],
                        "iteration": 289,
                        "passed_time": 12.54478724,
                        "remaining_time": 9.084156278,
                        "test": [
                          0.0250156218
                        ]
                      },
                      {
                        "learn": [
                          0.0009409841164
                        ],
                        "iteration": 290,
                        "passed_time": 12.58180052,
                        "remaining_time": 9.03641343,
                        "test": [
                          0.02502188894
                        ]
                      },
                      {
                        "learn": [
                          0.0009353689152
                        ],
                        "iteration": 291,
                        "passed_time": 12.6183965,
                        "remaining_time": 8.988446823,
                        "test": [
                          0.02505881589
                        ]
                      },
                      {
                        "learn": [
                          0.0009322117252
                        ],
                        "iteration": 292,
                        "passed_time": 12.65536429,
                        "remaining_time": 8.940820504,
                        "test": [
                          0.02507107054
                        ]
                      },
                      {
                        "learn": [
                          0.0009283513215
                        ],
                        "iteration": 293,
                        "passed_time": 12.69246368,
                        "remaining_time": 8.893358907,
                        "test": [
                          0.02508858867
                        ]
                      },
                      {
                        "learn": [
                          0.0009257289198
                        ],
                        "iteration": 294,
                        "passed_time": 12.73143216,
                        "remaining_time": 8.847266414,
                        "test": [
                          0.02509434993
                        ]
                      },
                      {
                        "learn": [
                          0.0009239811529
                        ],
                        "iteration": 295,
                        "passed_time": 12.77020907,
                        "remaining_time": 8.801090035,
                        "test": [
                          0.02508621655
                        ]
                      },
                      {
                        "learn": [
                          0.000921976533
                        ],
                        "iteration": 296,
                        "passed_time": 12.80880652,
                        "remaining_time": 8.754840817,
                        "test": [
                          0.02510037214
                        ]
                      },
                      {
                        "learn": [
                          0.0009201462894
                        ],
                        "iteration": 297,
                        "passed_time": 12.86415344,
                        "remaining_time": 8.719996627,
                        "test": [
                          0.0251053814
                        ]
                      },
                      {
                        "learn": [
                          0.0009177899903
                        ],
                        "iteration": 298,
                        "passed_time": 12.90293703,
                        "remaining_time": 8.673880749,
                        "test": [
                          0.02510949855
                        ]
                      },
                      {
                        "learn": [
                          0.0009127226437
                        ],
                        "iteration": 299,
                        "passed_time": 12.94134693,
                        "remaining_time": 8.627564623,
                        "test": [
                          0.02512213786
                        ]
                      },
                      {
                        "learn": [
                          0.0009081879827
                        ],
                        "iteration": 300,
                        "passed_time": 12.97958511,
                        "remaining_time": 8.581187496,
                        "test": [
                          0.02512873194
                        ]
                      },
                      {
                        "learn": [
                          0.0009060857641
                        ],
                        "iteration": 301,
                        "passed_time": 13.01785559,
                        "remaining_time": 8.534885454,
                        "test": [
                          0.02513077053
                        ]
                      },
                      {
                        "learn": [
                          0.000902582067
                        ],
                        "iteration": 302,
                        "passed_time": 13.05546248,
                        "remaining_time": 8.48820498,
                        "test": [
                          0.02513742763
                        ]
                      },
                      {
                        "learn": [
                          0.0008979249544
                        ],
                        "iteration": 303,
                        "passed_time": 13.10324934,
                        "remaining_time": 8.448147603,
                        "test": [
                          0.02515650537
                        ]
                      },
                      {
                        "learn": [
                          0.0008948867531
                        ],
                        "iteration": 304,
                        "passed_time": 13.14747546,
                        "remaining_time": 8.405762997,
                        "test": [
                          0.02516735393
                        ]
                      },
                      {
                        "learn": [
                          0.0008918880462
                        ],
                        "iteration": 305,
                        "passed_time": 13.18895186,
                        "remaining_time": 8.361623074,
                        "test": [
                          0.02517445702
                        ]
                      },
                      {
                        "learn": [
                          0.0008871680842
                        ],
                        "iteration": 306,
                        "passed_time": 13.22684878,
                        "remaining_time": 8.315250208,
                        "test": [
                          0.02517963917
                        ]
                      },
                      {
                        "learn": [
                          0.0008828671783
                        ],
                        "iteration": 307,
                        "passed_time": 13.23703002,
                        "remaining_time": 8.251655075,
                        "test": [
                          0.02521268265
                        ]
                      },
                      {
                        "learn": [
                          0.0008793656753
                        ],
                        "iteration": 308,
                        "passed_time": 13.27439088,
                        "remaining_time": 8.205206016,
                        "test": [
                          0.02521840455
                        ]
                      },
                      {
                        "learn": [
                          0.0008761213794
                        ],
                        "iteration": 309,
                        "passed_time": 13.31303188,
                        "remaining_time": 8.159600186,
                        "test": [
                          0.02523199695
                        ]
                      },
                      {
                        "learn": [
                          0.0008721364494
                        ],
                        "iteration": 310,
                        "passed_time": 13.31875151,
                        "remaining_time": 8.094032266,
                        "test": [
                          0.02521843877
                        ]
                      },
                      {
                        "learn": [
                          0.000866774442
                        ],
                        "iteration": 311,
                        "passed_time": 13.35599021,
                        "remaining_time": 8.047840252,
                        "test": [
                          0.02523153181
                        ]
                      },
                      {
                        "learn": [
                          0.0008633429047
                        ],
                        "iteration": 312,
                        "passed_time": 13.39313309,
                        "remaining_time": 8.001648202,
                        "test": [
                          0.02523287237
                        ]
                      },
                      {
                        "learn": [
                          0.000860053536
                        ],
                        "iteration": 313,
                        "passed_time": 13.4302144,
                        "remaining_time": 7.95547732,
                        "test": [
                          0.02521676568
                        ]
                      },
                      {
                        "learn": [
                          0.0008555254112
                        ],
                        "iteration": 314,
                        "passed_time": 13.46782435,
                        "remaining_time": 7.909674616,
                        "test": [
                          0.02522323088
                        ]
                      },
                      {
                        "learn": [
                          0.0008506519749
                        ],
                        "iteration": 315,
                        "passed_time": 13.50567953,
                        "remaining_time": 7.864066561,
                        "test": [
                          0.02523750963
                        ]
                      },
                      {
                        "learn": [
                          0.0008474495579
                        ],
                        "iteration": 316,
                        "passed_time": 13.54436544,
                        "remaining_time": 7.818986991,
                        "test": [
                          0.02524149597
                        ]
                      },
                      {
                        "learn": [
                          0.0008447361468
                        ],
                        "iteration": 317,
                        "passed_time": 13.58154339,
                        "remaining_time": 7.773084581,
                        "test": [
                          0.02524764023
                        ]
                      },
                      {
                        "learn": [
                          0.0008414333268
                        ],
                        "iteration": 318,
                        "passed_time": 13.61904065,
                        "remaining_time": 7.727418048,
                        "test": [
                          0.02525447335
                        ]
                      },
                      {
                        "learn": [
                          0.000838433573
                        ],
                        "iteration": 319,
                        "passed_time": 13.65697504,
                        "remaining_time": 7.68204846,
                        "test": [
                          0.02525757448
                        ]
                      },
                      {
                        "learn": [
                          0.0008363421099
                        ],
                        "iteration": 320,
                        "passed_time": 13.6956663,
                        "remaining_time": 7.637147249,
                        "test": [
                          0.02525269699
                        ]
                      },
                      {
                        "learn": [
                          0.0008331960317
                        ],
                        "iteration": 321,
                        "passed_time": 13.73765747,
                        "remaining_time": 7.594108786,
                        "test": [
                          0.02525855724
                        ]
                      },
                      {
                        "learn": [
                          0.0008313375992
                        ],
                        "iteration": 322,
                        "passed_time": 13.78252053,
                        "remaining_time": 7.552650571,
                        "test": [
                          0.02525291141
                        ]
                      },
                      {
                        "learn": [
                          0.0008281681795
                        ],
                        "iteration": 323,
                        "passed_time": 13.8205807,
                        "remaining_time": 7.507475934,
                        "test": [
                          0.02525869586
                        ]
                      },
                      {
                        "learn": [
                          0.0008264598653
                        ],
                        "iteration": 324,
                        "passed_time": 13.82467626,
                        "remaining_time": 7.444056445,
                        "test": [
                          0.02525982119
                        ]
                      },
                      {
                        "learn": [
                          0.000824061938
                        ],
                        "iteration": 325,
                        "passed_time": 13.86762484,
                        "remaining_time": 7.401738412,
                        "test": [
                          0.02527252499
                        ]
                      },
                      {
                        "learn": [
                          0.0008220809655
                        ],
                        "iteration": 326,
                        "passed_time": 13.92026836,
                        "remaining_time": 7.364545648,
                        "test": [
                          0.02528327181
                        ]
                      },
                      {
                        "learn": [
                          0.0008192067617
                        ],
                        "iteration": 327,
                        "passed_time": 13.93888056,
                        "remaining_time": 7.309412979,
                        "test": [
                          0.0252915649
                        ]
                      },
                      {
                        "learn": [
                          0.0008151403208
                        ],
                        "iteration": 328,
                        "passed_time": 13.97635348,
                        "remaining_time": 7.264305303,
                        "test": [
                          0.02529813917
                        ]
                      },
                      {
                        "learn": [
                          0.0008112847707
                        ],
                        "iteration": 329,
                        "passed_time": 14.01423018,
                        "remaining_time": 7.219451913,
                        "test": [
                          0.02531669158
                        ]
                      },
                      {
                        "learn": [
                          0.0008093331401
                        ],
                        "iteration": 330,
                        "passed_time": 14.01997223,
                        "remaining_time": 7.158233553,
                        "test": [
                          0.02532385585
                        ]
                      },
                      {
                        "learn": [
                          0.0008076534318
                        ],
                        "iteration": 331,
                        "passed_time": 14.05739542,
                        "remaining_time": 7.113380817,
                        "test": [
                          0.02532663003
                        ]
                      },
                      {
                        "learn": [
                          0.0008049518372
                        ],
                        "iteration": 332,
                        "passed_time": 14.07826175,
                        "remaining_time": 7.060269406,
                        "test": [
                          0.02533499832
                        ]
                      },
                      {
                        "learn": [
                          0.0008008998427
                        ],
                        "iteration": 333,
                        "passed_time": 14.1304578,
                        "remaining_time": 7.022922139,
                        "test": [
                          0.02534685805
                        ]
                      },
                      {
                        "learn": [
                          0.0007993403292
                        ],
                        "iteration": 334,
                        "passed_time": 14.16766471,
                        "remaining_time": 6.978103513,
                        "test": [
                          0.02535321281
                        ]
                      },
                      {
                        "learn": [
                          0.0007960739455
                        ],
                        "iteration": 335,
                        "passed_time": 14.20839538,
                        "remaining_time": 6.935050125,
                        "test": [
                          0.02535853615
                        ]
                      },
                      {
                        "learn": [
                          0.0007932946127
                        ],
                        "iteration": 336,
                        "passed_time": 14.24584849,
                        "remaining_time": 6.890425233,
                        "test": [
                          0.02535917803
                        ]
                      },
                      {
                        "learn": [
                          0.000791332426
                        ],
                        "iteration": 337,
                        "passed_time": 14.28296401,
                        "remaining_time": 6.845680977,
                        "test": [
                          0.02537011943
                        ]
                      },
                      {
                        "learn": [
                          0.000787194899
                        ],
                        "iteration": 338,
                        "passed_time": 14.32043744,
                        "remaining_time": 6.801151703,
                        "test": [
                          0.02538266477
                        ]
                      },
                      {
                        "learn": [
                          0.0007840507393
                        ],
                        "iteration": 339,
                        "passed_time": 14.35764008,
                        "remaining_time": 6.75653651,
                        "test": [
                          0.02539007468
                        ]
                      },
                      {
                        "learn": [
                          0.0007810626222
                        ],
                        "iteration": 340,
                        "passed_time": 14.39474224,
                        "remaining_time": 6.711917936,
                        "test": [
                          0.02540264231
                        ]
                      },
                      {
                        "learn": [
                          0.000777542231
                        ],
                        "iteration": 341,
                        "passed_time": 14.43222971,
                        "remaining_time": 6.667521327,
                        "test": [
                          0.02540952217
                        ]
                      },
                      {
                        "learn": [
                          0.0007744342272
                        ],
                        "iteration": 342,
                        "passed_time": 14.46953921,
                        "remaining_time": 6.623083546,
                        "test": [
                          0.02541661933
                        ]
                      },
                      {
                        "learn": [
                          0.0007709529893
                        ],
                        "iteration": 343,
                        "passed_time": 14.50704416,
                        "remaining_time": 6.578775841,
                        "test": [
                          0.02543456734
                        ]
                      },
                      {
                        "learn": [
                          0.0007678367314
                        ],
                        "iteration": 344,
                        "passed_time": 14.54463176,
                        "remaining_time": 6.534544703,
                        "test": [
                          0.0254391071
                        ]
                      },
                      {
                        "learn": [
                          0.0007652883904
                        ],
                        "iteration": 345,
                        "passed_time": 14.58176502,
                        "remaining_time": 6.490149751,
                        "test": [
                          0.02544314305
                        ]
                      },
                      {
                        "learn": [
                          0.0007625449851
                        ],
                        "iteration": 346,
                        "passed_time": 14.61979732,
                        "remaining_time": 6.446193056,
                        "test": [
                          0.02544964819
                        ]
                      },
                      {
                        "learn": [
                          0.0007595426712
                        ],
                        "iteration": 347,
                        "passed_time": 14.65800929,
                        "remaining_time": 6.402348884,
                        "test": [
                          0.02546214935
                        ]
                      },
                      {
                        "learn": [
                          0.000757244961
                        ],
                        "iteration": 348,
                        "passed_time": 14.6947338,
                        "remaining_time": 6.357893421,
                        "test": [
                          0.02546925911
                        ]
                      },
                      {
                        "learn": [
                          0.0007552021161
                        ],
                        "iteration": 349,
                        "passed_time": 14.7338322,
                        "remaining_time": 6.314499514,
                        "test": [
                          0.02547018384
                        ]
                      },
                      {
                        "learn": [
                          0.0007513084548
                        ],
                        "iteration": 350,
                        "passed_time": 14.77298158,
                        "remaining_time": 6.271151726,
                        "test": [
                          0.02548617536
                        ]
                      },
                      {
                        "learn": [
                          0.0007484199815
                        ],
                        "iteration": 351,
                        "passed_time": 14.81008776,
                        "remaining_time": 6.226968717,
                        "test": [
                          0.02549327388
                        ]
                      },
                      {
                        "learn": [
                          0.0007472594223
                        ],
                        "iteration": 352,
                        "passed_time": 14.84816453,
                        "remaining_time": 6.18322999,
                        "test": [
                          0.02549606204
                        ]
                      },
                      {
                        "learn": [
                          0.0007457056078
                        ],
                        "iteration": 353,
                        "passed_time": 14.88514677,
                        "remaining_time": 6.139071832,
                        "test": [
                          0.0254950503
                        ]
                      },
                      {
                        "learn": [
                          0.0007422065766
                        ],
                        "iteration": 354,
                        "passed_time": 14.93912244,
                        "remaining_time": 6.101895082,
                        "test": [
                          0.02549788811
                        ]
                      },
                      {
                        "learn": [
                          0.0007397391071
                        ],
                        "iteration": 355,
                        "passed_time": 14.97905125,
                        "remaining_time": 6.058942077,
                        "test": [
                          0.02550478223
                        ]
                      },
                      {
                        "learn": [
                          0.0007374781952
                        ],
                        "iteration": 356,
                        "passed_time": 14.98467659,
                        "remaining_time": 6.002265413,
                        "test": [
                          0.02551899198
                        ]
                      },
                      {
                        "learn": [
                          0.0007359105685
                        ],
                        "iteration": 357,
                        "passed_time": 15.0218742,
                        "remaining_time": 5.95839703,
                        "test": [
                          0.02551248255
                        ]
                      },
                      {
                        "learn": [
                          0.0007329747952
                        ],
                        "iteration": 358,
                        "passed_time": 15.06097022,
                        "remaining_time": 5.915311423,
                        "test": [
                          0.02551837659
                        ]
                      },
                      {
                        "learn": [
                          0.0007296897399
                        ],
                        "iteration": 359,
                        "passed_time": 15.09920139,
                        "remaining_time": 5.871911652,
                        "test": [
                          0.02552953408
                        ]
                      },
                      {
                        "learn": [
                          0.0007268542473
                        ],
                        "iteration": 360,
                        "passed_time": 15.15127322,
                        "remaining_time": 5.833869745,
                        "test": [
                          0.02554245686
                        ]
                      },
                      {
                        "learn": [
                          0.0007233216418
                        ],
                        "iteration": 361,
                        "passed_time": 15.19069611,
                        "remaining_time": 5.79092835,
                        "test": [
                          0.02554841595
                        ]
                      },
                      {
                        "learn": [
                          0.0007218012199
                        ],
                        "iteration": 362,
                        "passed_time": 15.22816162,
                        "remaining_time": 5.747267607,
                        "test": [
                          0.0255521913
                        ]
                      },
                      {
                        "learn": [
                          0.0007189340109
                        ],
                        "iteration": 363,
                        "passed_time": 15.26633358,
                        "remaining_time": 5.703904854,
                        "test": [
                          0.02555255012
                        ]
                      },
                      {
                        "learn": [
                          0.0007166834722
                        ],
                        "iteration": 364,
                        "passed_time": 15.30366889,
                        "remaining_time": 5.660261097,
                        "test": [
                          0.02555880932
                        ]
                      },
                      {
                        "learn": [
                          0.0007145524756
                        ],
                        "iteration": 365,
                        "passed_time": 15.34197372,
                        "remaining_time": 5.617006772,
                        "test": [
                          0.02556296529
                        ]
                      },
                      {
                        "learn": [
                          0.0007119778776
                        ],
                        "iteration": 366,
                        "passed_time": 15.37951997,
                        "remaining_time": 5.573504511,
                        "test": [
                          0.02556823771
                        ]
                      },
                      {
                        "learn": [
                          0.0007084492315
                        ],
                        "iteration": 367,
                        "passed_time": 15.41697755,
                        "remaining_time": 5.530002817,
                        "test": [
                          0.02557978749
                        ]
                      },
                      {
                        "learn": [
                          0.000705540026
                        ],
                        "iteration": 368,
                        "passed_time": 15.45404192,
                        "remaining_time": 5.486394285,
                        "test": [
                          0.0255862555
                        ]
                      },
                      {
                        "learn": [
                          0.0007040956155
                        ],
                        "iteration": 369,
                        "passed_time": 15.49123521,
                        "remaining_time": 5.442866426,
                        "test": [
                          0.02559901347
                        ]
                      },
                      {
                        "learn": [
                          0.0007019350117
                        ],
                        "iteration": 370,
                        "passed_time": 15.52857837,
                        "remaining_time": 5.399424823,
                        "test": [
                          0.02560288618
                        ]
                      },
                      {
                        "learn": [
                          0.0006997848107
                        ],
                        "iteration": 371,
                        "passed_time": 15.54715163,
                        "remaining_time": 5.349557549,
                        "test": [
                          0.02560336643
                        ]
                      },
                      {
                        "learn": [
                          0.0006977795168
                        ],
                        "iteration": 372,
                        "passed_time": 15.55660394,
                        "remaining_time": 5.296752548,
                        "test": [
                          0.02561792602
                        ]
                      },
                      {
                        "learn": [
                          0.0006953149085
                        ],
                        "iteration": 373,
                        "passed_time": 15.59371299,
                        "remaining_time": 5.253496889,
                        "test": [
                          0.02561897957
                        ]
                      },
                      {
                        "learn": [
                          0.000692883593
                        ],
                        "iteration": 374,
                        "passed_time": 15.63104448,
                        "remaining_time": 5.210348161,
                        "test": [
                          0.02562400746
                        ]
                      },
                      {
                        "learn": [
                          0.0006902762057
                        ],
                        "iteration": 375,
                        "passed_time": 15.66851838,
                        "remaining_time": 5.167277339,
                        "test": [
                          0.02563856343
                        ]
                      },
                      {
                        "learn": [
                          0.000688366291
                        ],
                        "iteration": 376,
                        "passed_time": 15.70719629,
                        "remaining_time": 5.124629027,
                        "test": [
                          0.02564513947
                        ]
                      },
                      {
                        "learn": [
                          0.0006864183438
                        ],
                        "iteration": 377,
                        "passed_time": 15.74537936,
                        "remaining_time": 5.081842017,
                        "test": [
                          0.02565137531
                        ]
                      },
                      {
                        "learn": [
                          0.0006838519109
                        ],
                        "iteration": 378,
                        "passed_time": 15.78465495,
                        "remaining_time": 5.039428097,
                        "test": [
                          0.02565642845
                        ]
                      },
                      {
                        "learn": [
                          0.0006819592441
                        ],
                        "iteration": 379,
                        "passed_time": 15.82373266,
                        "remaining_time": 4.996968207,
                        "test": [
                          0.02566309478
                        ]
                      },
                      {
                        "learn": [
                          0.0006801657265
                        ],
                        "iteration": 380,
                        "passed_time": 15.8620373,
                        "remaining_time": 4.954284616,
                        "test": [
                          0.02566978166
                        ]
                      },
                      {
                        "learn": [
                          0.0006770346483
                        ],
                        "iteration": 381,
                        "passed_time": 15.89925893,
                        "remaining_time": 4.911289407,
                        "test": [
                          0.0256835129
                        ]
                      },
                      {
                        "learn": [
                          0.0006746488015
                        ],
                        "iteration": 382,
                        "passed_time": 15.91800511,
                        "remaining_time": 4.862680413,
                        "test": [
                          0.02568810256
                        ]
                      },
                      {
                        "learn": [
                          0.0006735995023
                        ],
                        "iteration": 383,
                        "passed_time": 15.97047679,
                        "remaining_time": 4.824414863,
                        "test": [
                          0.02569160778
                        ]
                      },
                      {
                        "learn": [
                          0.0006717918192
                        ],
                        "iteration": 384,
                        "passed_time": 16.00776296,
                        "remaining_time": 4.781539586,
                        "test": [
                          0.02569761133
                        ]
                      },
                      {
                        "learn": [
                          0.0006700798733
                        ],
                        "iteration": 385,
                        "passed_time": 16.04531729,
                        "remaining_time": 4.738772463,
                        "test": [
                          0.0257043272
                        ]
                      },
                      {
                        "learn": [
                          0.0006672747981
                        ],
                        "iteration": 386,
                        "passed_time": 16.0852584,
                        "remaining_time": 4.696729197,
                        "test": [
                          0.02570952945
                        ]
                      },
                      {
                        "learn": [
                          0.0006652432575
                        ],
                        "iteration": 387,
                        "passed_time": 16.10469111,
                        "remaining_time": 4.648776816,
                        "test": [
                          0.02572329268
                        ]
                      },
                      {
                        "learn": [
                          0.0006628342163
                        ],
                        "iteration": 388,
                        "passed_time": 16.15987878,
                        "remaining_time": 4.611173636,
                        "test": [
                          0.02572917277
                        ]
                      },
                      {
                        "learn": [
                          0.0006609854447
                        ],
                        "iteration": 389,
                        "passed_time": 16.18082319,
                        "remaining_time": 4.563821925,
                        "test": [
                          0.02573008405
                        ]
                      },
                      {
                        "learn": [
                          0.0006592388203
                        ],
                        "iteration": 390,
                        "passed_time": 16.19053838,
                        "remaining_time": 4.513474894,
                        "test": [
                          0.02573693929
                        ]
                      },
                      {
                        "learn": [
                          0.0006567663335
                        ],
                        "iteration": 391,
                        "passed_time": 16.22774858,
                        "remaining_time": 4.470910324,
                        "test": [
                          0.02574229493
                        ]
                      },
                      {
                        "learn": [
                          0.0006547085384
                        ],
                        "iteration": 392,
                        "passed_time": 16.26491361,
                        "remaining_time": 4.428360703,
                        "test": [
                          0.02574849975
                        ]
                      },
                      {
                        "learn": [
                          0.0006525648582
                        ],
                        "iteration": 393,
                        "passed_time": 16.30226708,
                        "remaining_time": 4.385889114,
                        "test": [
                          0.02575540557
                        ]
                      },
                      {
                        "learn": [
                          0.0006505853293
                        ],
                        "iteration": 394,
                        "passed_time": 16.31236731,
                        "remaining_time": 4.336198906,
                        "test": [
                          0.02576736742
                        ]
                      },
                      {
                        "learn": [
                          0.0006482132801
                        ],
                        "iteration": 395,
                        "passed_time": 16.3491343,
                        "remaining_time": 4.293712038,
                        "test": [
                          0.02577223367
                        ]
                      },
                      {
                        "learn": [
                          0.0006469864704
                        ],
                        "iteration": 396,
                        "passed_time": 16.38641085,
                        "remaining_time": 4.251386191,
                        "test": [
                          0.02578172489
                        ]
                      },
                      {
                        "learn": [
                          0.0006451650262
                        ],
                        "iteration": 397,
                        "passed_time": 16.42396528,
                        "remaining_time": 4.209156931,
                        "test": [
                          0.02578806831
                        ]
                      },
                      {
                        "learn": [
                          0.0006433314872
                        ],
                        "iteration": 398,
                        "passed_time": 16.42735534,
                        "remaining_time": 4.158302981,
                        "test": [
                          0.02580428935
                        ]
                      },
                      {
                        "learn": [
                          0.0006415830062
                        ],
                        "iteration": 399,
                        "passed_time": 16.46465925,
                        "remaining_time": 4.116164812,
                        "test": [
                          0.02581128884
                        ]
                      },
                      {
                        "learn": [
                          0.000638851546
                        ],
                        "iteration": 400,
                        "passed_time": 16.50291717,
                        "remaining_time": 4.074286283,
                        "test": [
                          0.02582658492
                        ]
                      },
                      {
                        "learn": [
                          0.0006372562458
                        ],
                        "iteration": 401,
                        "passed_time": 16.51326555,
                        "remaining_time": 4.02562195,
                        "test": [
                          0.02583790823
                        ]
                      },
                      {
                        "learn": [
                          0.0006361167853
                        ],
                        "iteration": 402,
                        "passed_time": 16.55025435,
                        "remaining_time": 3.98355998,
                        "test": [
                          0.02584284077
                        ]
                      },
                      {
                        "learn": [
                          0.0006354156888
                        ],
                        "iteration": 403,
                        "passed_time": 16.58802477,
                        "remaining_time": 3.941708856,
                        "test": [
                          0.02586172333
                        ]
                      },
                      {
                        "learn": [
                          0.0006339352979
                        ],
                        "iteration": 404,
                        "passed_time": 16.62491008,
                        "remaining_time": 3.899670265,
                        "test": [
                          0.02586490508
                        ]
                      },
                      {
                        "learn": [
                          0.0006320394788
                        ],
                        "iteration": 405,
                        "passed_time": 16.66233483,
                        "remaining_time": 3.857781956,
                        "test": [
                          0.02587076789
                        ]
                      },
                      {
                        "learn": [
                          0.0006311886206
                        ],
                        "iteration": 406,
                        "passed_time": 16.69973308,
                        "remaining_time": 3.815909524,
                        "test": [
                          0.02587529605
                        ]
                      },
                      {
                        "learn": [
                          0.0006292518039
                        ],
                        "iteration": 407,
                        "passed_time": 16.74268787,
                        "remaining_time": 3.77531197,
                        "test": [
                          0.02588199124
                        ]
                      },
                      {
                        "learn": [
                          0.0006273417616
                        ],
                        "iteration": 408,
                        "passed_time": 16.7819304,
                        "remaining_time": 3.733876934,
                        "test": [
                          0.02589330519
                        ]
                      },
                      {
                        "learn": [
                          0.0006255020225
                        ],
                        "iteration": 409,
                        "passed_time": 16.81908588,
                        "remaining_time": 3.691994462,
                        "test": [
                          0.02590184926
                        ]
                      },
                      {
                        "learn": [
                          0.0006240166572
                        ],
                        "iteration": 410,
                        "passed_time": 16.85584464,
                        "remaining_time": 3.650049083,
                        "test": [
                          0.02590881844
                        ]
                      },
                      {
                        "learn": [
                          0.0006221396447
                        ],
                        "iteration": 411,
                        "passed_time": 16.89313189,
                        "remaining_time": 3.608241763,
                        "test": [
                          0.02591966175
                        ]
                      },
                      {
                        "learn": [
                          0.0006204476885
                        ],
                        "iteration": 412,
                        "passed_time": 16.93048629,
                        "remaining_time": 3.566470478,
                        "test": [
                          0.02592560114
                        ]
                      },
                      {
                        "learn": [
                          0.0006193874113
                        ],
                        "iteration": 413,
                        "passed_time": 16.97357159,
                        "remaining_time": 3.525911007,
                        "test": [
                          0.02592732088
                        ]
                      },
                      {
                        "learn": [
                          0.0006176021605
                        ],
                        "iteration": 414,
                        "passed_time": 17.02086144,
                        "remaining_time": 3.486200535,
                        "test": [
                          0.02593797029
                        ]
                      },
                      {
                        "learn": [
                          0.0006156446915
                        ],
                        "iteration": 415,
                        "passed_time": 17.05941794,
                        "remaining_time": 3.444690162,
                        "test": [
                          0.02595123577
                        ]
                      },
                      {
                        "learn": [
                          0.0006136363345
                        ],
                        "iteration": 416,
                        "passed_time": 17.09725519,
                        "remaining_time": 3.403050793,
                        "test": [
                          0.02595765711
                        ]
                      },
                      {
                        "learn": [
                          0.0006120853727
                        ],
                        "iteration": 417,
                        "passed_time": 17.11671503,
                        "remaining_time": 3.35782448,
                        "test": [
                          0.02596276594
                        ]
                      },
                      {
                        "learn": [
                          0.0006107260876
                        ],
                        "iteration": 418,
                        "passed_time": 17.16270277,
                        "remaining_time": 3.317849462,
                        "test": [
                          0.02597925597
                        ]
                      },
                      {
                        "learn": [
                          0.0006090964732
                        ],
                        "iteration": 419,
                        "passed_time": 17.20931926,
                        "remaining_time": 3.277965573,
                        "test": [
                          0.02598489629
                        ]
                      },
                      {
                        "learn": [
                          0.0006075232248
                        ],
                        "iteration": 420,
                        "passed_time": 17.24661501,
                        "remaining_time": 3.236300679,
                        "test": [
                          0.02599104988
                        ]
                      },
                      {
                        "learn": [
                          0.0006053122826
                        ],
                        "iteration": 421,
                        "passed_time": 17.28397401,
                        "remaining_time": 3.194668182,
                        "test": [
                          0.02599685034
                        ]
                      },
                      {
                        "learn": [
                          0.0006028189138
                        ],
                        "iteration": 422,
                        "passed_time": 17.3214962,
                        "remaining_time": 3.153085597,
                        "test": [
                          0.02600923228
                        ]
                      },
                      {
                        "learn": [
                          0.0006010742395
                        ],
                        "iteration": 423,
                        "passed_time": 17.35870459,
                        "remaining_time": 3.111465916,
                        "test": [
                          0.02601443407
                        ]
                      },
                      {
                        "learn": [
                          0.000599315539
                        ],
                        "iteration": 424,
                        "passed_time": 17.39572543,
                        "remaining_time": 3.069833899,
                        "test": [
                          0.0260199365
                        ]
                      },
                      {
                        "learn": [
                          0.0005978573314
                        ],
                        "iteration": 425,
                        "passed_time": 17.43301886,
                        "remaining_time": 3.028270883,
                        "test": [
                          0.02602394518
                        ]
                      },
                      {
                        "learn": [
                          0.0005959195354
                        ],
                        "iteration": 426,
                        "passed_time": 17.47051742,
                        "remaining_time": 2.986762932,
                        "test": [
                          0.02602998876
                        ]
                      },
                      {
                        "learn": [
                          0.0005949261842
                        ],
                        "iteration": 427,
                        "passed_time": 17.50986783,
                        "remaining_time": 2.945585242,
                        "test": [
                          0.02603531246
                        ]
                      },
                      {
                        "learn": [
                          0.000593890942
                        ],
                        "iteration": 428,
                        "passed_time": 17.5481997,
                        "remaining_time": 2.904247502,
                        "test": [
                          0.02604151569
                        ]
                      },
                      {
                        "learn": [
                          0.0005922178267
                        ],
                        "iteration": 429,
                        "passed_time": 17.55390978,
                        "remaining_time": 2.857613219,
                        "test": [
                          0.02606991718
                        ]
                      },
                      {
                        "learn": [
                          0.0005902678187
                        ],
                        "iteration": 430,
                        "passed_time": 17.59302602,
                        "remaining_time": 2.816516927,
                        "test": [
                          0.02607515295
                        ]
                      },
                      {
                        "learn": [
                          0.0005893724188
                        ],
                        "iteration": 431,
                        "passed_time": 17.6305295,
                        "remaining_time": 2.77517594,
                        "test": [
                          0.02608058402
                        ]
                      },
                      {
                        "learn": [
                          0.0005877288652
                        ],
                        "iteration": 432,
                        "passed_time": 17.67017024,
                        "remaining_time": 2.734183385,
                        "test": [
                          0.02608676801
                        ]
                      },
                      {
                        "learn": [
                          0.0005860467574
                        ],
                        "iteration": 433,
                        "passed_time": 17.68910818,
                        "remaining_time": 2.690048709,
                        "test": [
                          0.02609674665
                        ]
                      },
                      {
                        "learn": [
                          0.0005845097617
                        ],
                        "iteration": 434,
                        "passed_time": 17.70912955,
                        "remaining_time": 2.646191771,
                        "test": [
                          0.02610937016
                        ]
                      },
                      {
                        "learn": [
                          0.000582741733
                        ],
                        "iteration": 435,
                        "passed_time": 17.74746034,
                        "remaining_time": 2.605131793,
                        "test": [
                          0.02611414484
                        ]
                      },
                      {
                        "learn": [
                          0.0005810884633
                        ],
                        "iteration": 436,
                        "passed_time": 17.78596917,
                        "remaining_time": 2.564109972,
                        "test": [
                          0.02611847371
                        ]
                      },
                      {
                        "learn": [
                          0.0005794247838
                        ],
                        "iteration": 437,
                        "passed_time": 17.82396716,
                        "remaining_time": 2.523027315,
                        "test": [
                          0.02613080813
                        ]
                      },
                      {
                        "learn": [
                          0.0005775415992
                        ],
                        "iteration": 438,
                        "passed_time": 17.86129672,
                        "remaining_time": 2.481865831,
                        "test": [
                          0.0261338782
                        ]
                      },
                      {
                        "learn": [
                          0.0005767219733
                        ],
                        "iteration": 439,
                        "passed_time": 17.89920441,
                        "remaining_time": 2.440800602,
                        "test": [
                          0.02613818923
                        ]
                      },
                      {
                        "learn": [
                          0.0005751353383
                        ],
                        "iteration": 440,
                        "passed_time": 17.93637161,
                        "remaining_time": 2.399650624,
                        "test": [
                          0.02615061348
                        ]
                      },
                      {
                        "learn": [
                          0.0005735504944
                        ],
                        "iteration": 441,
                        "passed_time": 17.97355366,
                        "remaining_time": 2.358520616,
                        "test": [
                          0.02616071919
                        ]
                      },
                      {
                        "learn": [
                          0.0005718933417
                        ],
                        "iteration": 442,
                        "passed_time": 18.02053558,
                        "remaining_time": 2.318669363,
                        "test": [
                          0.02616938251
                        ]
                      },
                      {
                        "learn": [
                          0.0005712262622
                        ],
                        "iteration": 443,
                        "passed_time": 18.06467093,
                        "remaining_time": 2.278426964,
                        "test": [
                          0.02617590493
                        ]
                      },
                      {
                        "learn": [
                          0.0005698716682
                        ],
                        "iteration": 444,
                        "passed_time": 18.10256536,
                        "remaining_time": 2.237395719,
                        "test": [
                          0.02618096499
                        ]
                      },
                      {
                        "learn": [
                          0.0005686624857
                        ],
                        "iteration": 445,
                        "passed_time": 18.14104951,
                        "remaining_time": 2.19644994,
                        "test": [
                          0.0261763825
                        ]
                      },
                      {
                        "learn": [
                          0.000567608783
                        ],
                        "iteration": 446,
                        "passed_time": 18.20078708,
                        "remaining_time": 2.158035158,
                        "test": [
                          0.02618239594
                        ]
                      },
                      {
                        "learn": [
                          0.0005663119886
                        ],
                        "iteration": 447,
                        "passed_time": 18.23942253,
                        "remaining_time": 2.117075829,
                        "test": [
                          0.02618750478
                        ]
                      },
                      {
                        "learn": [
                          0.0005653843834
                        ],
                        "iteration": 448,
                        "passed_time": 18.27814997,
                        "remaining_time": 2.076137302,
                        "test": [
                          0.02619008138
                        ]
                      },
                      {
                        "learn": [
                          0.000563832725
                        ],
                        "iteration": 449,
                        "passed_time": 18.31632863,
                        "remaining_time": 2.035147625,
                        "test": [
                          0.02619888711
                        ]
                      },
                      {
                        "learn": [
                          0.0005623168176
                        ],
                        "iteration": 450,
                        "passed_time": 18.35379434,
                        "remaining_time": 1.994092955,
                        "test": [
                          0.02620416046
                        ]
                      },
                      {
                        "learn": [
                          0.0005609995311
                        ],
                        "iteration": 451,
                        "passed_time": 18.39117696,
                        "remaining_time": 1.953045341,
                        "test": [
                          0.02620699466
                        ]
                      },
                      {
                        "learn": [
                          0.0005591673141
                        ],
                        "iteration": 452,
                        "passed_time": 18.44373937,
                        "remaining_time": 1.913588853,
                        "test": [
                          0.02621201023
                        ]
                      },
                      {
                        "learn": [
                          0.0005578819944
                        ],
                        "iteration": 453,
                        "passed_time": 18.46021187,
                        "remaining_time": 1.870417943,
                        "test": [
                          0.02622298477
                        ]
                      },
                      {
                        "learn": [
                          0.0005559925733
                        ],
                        "iteration": 454,
                        "passed_time": 18.51872355,
                        "remaining_time": 1.831522109,
                        "test": [
                          0.02622799149
                        ]
                      },
                      {
                        "learn": [
                          0.00055493817
                        ],
                        "iteration": 455,
                        "passed_time": 18.57455039,
                        "remaining_time": 1.792281178,
                        "test": [
                          0.02622727009
                        ]
                      },
                      {
                        "learn": [
                          0.0005539572388
                        ],
                        "iteration": 456,
                        "passed_time": 18.64584048,
                        "remaining_time": 1.754422628,
                        "test": [
                          0.02622855218
                        ]
                      },
                      {
                        "learn": [
                          0.0005527546305
                        ],
                        "iteration": 457,
                        "passed_time": 18.71731343,
                        "remaining_time": 1.716434856,
                        "test": [
                          0.02622918143
                        ]
                      },
                      {
                        "learn": [
                          0.0005512918277
                        ],
                        "iteration": 458,
                        "passed_time": 18.74206184,
                        "remaining_time": 1.674127528,
                        "test": [
                          0.0262341626
                        ]
                      },
                      {
                        "learn": [
                          0.0005503233281
                        ],
                        "iteration": 459,
                        "passed_time": 18.8142354,
                        "remaining_time": 1.63602047,
                        "test": [
                          0.02623585277
                        ]
                      },
                      {
                        "learn": [
                          0.0005487876117
                        ],
                        "iteration": 460,
                        "passed_time": 18.88623446,
                        "remaining_time": 1.597750854,
                        "test": [
                          0.02624186778
                        ]
                      },
                      {
                        "learn": [
                          0.0005474567293
                        ],
                        "iteration": 461,
                        "passed_time": 18.95821077,
                        "remaining_time": 1.559333354,
                        "test": [
                          0.02624694662
                        ]
                      },
                      {
                        "learn": [
                          0.0005461568034
                        ],
                        "iteration": 462,
                        "passed_time": 18.99783414,
                        "remaining_time": 1.51818545,
                        "test": [
                          0.02625393641
                        ]
                      },
                      {
                        "learn": [
                          0.0005451533199
                        ],
                        "iteration": 463,
                        "passed_time": 19.07995477,
                        "remaining_time": 1.480341318,
                        "test": [
                          0.02625794073
                        ]
                      },
                      {
                        "learn": [
                          0.0005439757792
                        ],
                        "iteration": 464,
                        "passed_time": 19.10340372,
                        "remaining_time": 1.437890603,
                        "test": [
                          0.02626823721
                        ]
                      },
                      {
                        "learn": [
                          0.0005427700084
                        ],
                        "iteration": 465,
                        "passed_time": 19.16727936,
                        "remaining_time": 1.398471026,
                        "test": [
                          0.02627288762
                        ]
                      },
                      {
                        "learn": [
                          0.0005419251388
                        ],
                        "iteration": 466,
                        "passed_time": 19.258933,
                        "remaining_time": 1.360909612,
                        "test": [
                          0.02627573804
                        ]
                      },
                      {
                        "learn": [
                          0.0005413079946
                        ],
                        "iteration": 467,
                        "passed_time": 19.32574595,
                        "remaining_time": 1.321418526,
                        "test": [
                          0.02627883834
                        ]
                      },
                      {
                        "learn": [
                          0.0005405616171
                        ],
                        "iteration": 468,
                        "passed_time": 19.3960154,
                        "remaining_time": 1.282039398,
                        "test": [
                          0.02628211497
                        ]
                      },
                      {
                        "learn": [
                          0.0005391650482
                        ],
                        "iteration": 469,
                        "passed_time": 19.46850803,
                        "remaining_time": 1.242670725,
                        "test": [
                          0.02628687911
                        ]
                      },
                      {
                        "learn": [
                          0.0005380076098
                        ],
                        "iteration": 470,
                        "passed_time": 19.53958115,
                        "remaining_time": 1.203073999,
                        "test": [
                          0.02629344454
                        ]
                      },
                      {
                        "learn": [
                          0.0005367405681
                        ],
                        "iteration": 471,
                        "passed_time": 19.61026906,
                        "remaining_time": 1.163321046,
                        "test": [
                          0.02629819297
                        ]
                      },
                      {
                        "learn": [
                          0.0005348691952
                        ],
                        "iteration": 472,
                        "passed_time": 19.67550319,
                        "remaining_time": 1.123125975,
                        "test": [
                          0.02629954696
                        ]
                      },
                      {
                        "learn": [
                          0.0005337285836
                        ],
                        "iteration": 473,
                        "passed_time": 19.6975592,
                        "remaining_time": 1.080456834,
                        "test": [
                          0.02630546463
                        ]
                      },
                      {
                        "learn": [
                          0.0005327762894
                        ],
                        "iteration": 474,
                        "passed_time": 19.75998265,
                        "remaining_time": 1.039999087,
                        "test": [
                          0.02630689864
                        ]
                      },
                      {
                        "learn": [
                          0.0005320461093
                        ],
                        "iteration": 475,
                        "passed_time": 19.82393052,
                        "remaining_time": 0.9995259083,
                        "test": [
                          0.02631226245
                        ]
                      },
                      {
                        "learn": [
                          0.0005308043351
                        ],
                        "iteration": 476,
                        "passed_time": 19.86451996,
                        "remaining_time": 0.9578280062,
                        "test": [
                          0.02632186479
                        ]
                      },
                      {
                        "learn": [
                          0.0005295339771
                        ],
                        "iteration": 477,
                        "passed_time": 19.87963747,
                        "remaining_time": 0.914962394,
                        "test": [
                          0.02634384835
                        ]
                      },
                      {
                        "learn": [
                          0.0005283394689
                        ],
                        "iteration": 478,
                        "passed_time": 19.9448212,
                        "remaining_time": 0.8744076102,
                        "test": [
                          0.02635550201
                        ]
                      },
                      {
                        "learn": [
                          0.0005266039166
                        ],
                        "iteration": 479,
                        "passed_time": 19.99217734,
                        "remaining_time": 0.833007389,
                        "test": [
                          0.02636433675
                        ]
                      },
                      {
                        "learn": [
                          0.0005254034786
                        ],
                        "iteration": 480,
                        "passed_time": 20.05523139,
                        "remaining_time": 0.7922024874,
                        "test": [
                          0.02635555158
                        ]
                      },
                      {
                        "learn": [
                          0.0005241067752
                        ],
                        "iteration": 481,
                        "passed_time": 20.12617988,
                        "remaining_time": 0.7516000784,
                        "test": [
                          0.02637059224
                        ]
                      },
                      {
                        "learn": [
                          0.0005228352919
                        ],
                        "iteration": 482,
                        "passed_time": 20.20199294,
                        "remaining_time": 0.7110432298,
                        "test": [
                          0.02638015297
                        ]
                      },
                      {
                        "learn": [
                          0.0005222089218
                        ],
                        "iteration": 483,
                        "passed_time": 20.22643784,
                        "remaining_time": 0.6686425732,
                        "test": [
                          0.02639458023
                        ]
                      },
                      {
                        "learn": [
                          0.0005211407581
                        ],
                        "iteration": 484,
                        "passed_time": 20.29054998,
                        "remaining_time": 0.6275427828,
                        "test": [
                          0.02639809163
                        ]
                      },
                      {
                        "learn": [
                          0.0005203043124
                        ],
                        "iteration": 485,
                        "passed_time": 20.34211716,
                        "remaining_time": 0.5859869142,
                        "test": [
                          0.02639461565
                        ]
                      },
                      {
                        "learn": [
                          0.0005189414036
                        ],
                        "iteration": 486,
                        "passed_time": 20.36608544,
                        "remaining_time": 0.5436532048,
                        "test": [
                          0.02641786062
                        ]
                      },
                      {
                        "learn": [
                          0.0005178208866
                        ],
                        "iteration": 487,
                        "passed_time": 20.4380302,
                        "remaining_time": 0.5025745131,
                        "test": [
                          0.0264280502
                        ]
                      },
                      {
                        "learn": [
                          0.0005166614104
                        ],
                        "iteration": 488,
                        "passed_time": 20.51287704,
                        "remaining_time": 0.4614348617,
                        "test": [
                          0.0264306927
                        ]
                      },
                      {
                        "learn": [
                          0.0005153220663
                        ],
                        "iteration": 489,
                        "passed_time": 20.58633401,
                        "remaining_time": 0.4201292656,
                        "test": [
                          0.0264349816
                        ]
                      },
                      {
                        "learn": [
                          0.0005136813887
                        ],
                        "iteration": 490,
                        "passed_time": 20.64616651,
                        "remaining_time": 0.3784429706,
                        "test": [
                          0.02644592723
                        ]
                      },
                      {
                        "learn": [
                          0.0005130514573
                        ],
                        "iteration": 491,
                        "passed_time": 20.72446142,
                        "remaining_time": 0.3369831126,
                        "test": [
                          0.02644596315
                        ]
                      },
                      {
                        "learn": [
                          0.0005111986315
                        ],
                        "iteration": 492,
                        "passed_time": 20.80843556,
                        "remaining_time": 0.2954544604,
                        "test": [
                          0.02645456353
                        ]
                      },
                      {
                        "learn": [
                          0.0005101039887
                        ],
                        "iteration": 493,
                        "passed_time": 20.88029139,
                        "remaining_time": 0.253606778,
                        "test": [
                          0.0264612431
                        ]
                      },
                      {
                        "learn": [
                          0.0005095107829
                        ],
                        "iteration": 494,
                        "passed_time": 20.94929434,
                        "remaining_time": 0.2116090338,
                        "test": [
                          0.02646445618
                        ]
                      },
                      {
                        "learn": [
                          0.000508411379
                        ],
                        "iteration": 495,
                        "passed_time": 21.01749181,
                        "remaining_time": 0.1694959017,
                        "test": [
                          0.02647710041
                        ]
                      },
                      {
                        "learn": [
                          0.0005075760328
                        ],
                        "iteration": 496,
                        "passed_time": 21.09360208,
                        "remaining_time": 0.1273255659,
                        "test": [
                          0.02648573967
                        ]
                      },
                      {
                        "learn": [
                          0.0005063694565
                        ],
                        "iteration": 497,
                        "passed_time": 21.16419022,
                        "remaining_time": 0.08499674788,
                        "test": [
                          0.02649650657
                        ]
                      },
                      {
                        "learn": [
                          0.0005053155283
                        ],
                        "iteration": 498,
                        "passed_time": 21.23788272,
                        "remaining_time": 0.04256088721,
                        "test": [
                          0.0265029989
                        ]
                      },
                      {
                        "learn": [
                          0.0005043449161
                        ],
                        "iteration": 499,
                        "passed_time": 21.25007937,
                        "remaining_time": 0,
                        "test": [
                          0.02651632927
                        ]
                      }
                    ],
                    "meta": {
                      "test_sets": [
                        "test"
                      ],
                      "test_metrics": [
                        {
                          "best_value": "Min",
                          "name": "MultiClass"
                        }
                      ],
                      "learn_metrics": [
                        {
                          "best_value": "Min",
                          "name": "MultiClass"
                        }
                      ],
                      "launch_mode": "Train",
                      "parameters": "",
                      "iteration_count": 500,
                      "learn_sets": [
                        "learn"
                      ],
                      "name": "experiment"
                    }
                  }
                }
              }
            },
            "layout": "IPY_MODEL_c0ffbfd990e64a90a3076ac71b021daf"
          }
        }
      }
    }
  },
  "nbformat": 4,
  "nbformat_minor": 5
}