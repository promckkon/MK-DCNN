{
  "cells": [
    {
      "cell_type": "markdown",
      "metadata": {
        "id": "view-in-github",
        "colab_type": "text"
      },
      "source": [
        "<a href=\"https://colab.research.google.com/github/promckkon/MK-DCNN/blob/main/MK-DCNN%20with%2020dB%20NOISE%20in%20TRIAX%20Dataset%20250625.ipynb\" target=\"_parent\"><img src=\"https://colab.research.google.com/assets/colab-badge.svg\" alt=\"Open In Colab\"/></a>"
      ]
    },
    {
      "cell_type": "code",
      "source": [
        "from google.colab import drive\n",
        "drive.mount('/content/drive')"
      ],
      "metadata": {
        "id": "_JTcgOD9s-GR",
        "outputId": "232eb74e-e9c9-4188-842b-5a5cf6bc1562",
        "colab": {
          "base_uri": "https://localhost:8080/"
        }
      },
      "id": "_JTcgOD9s-GR",
      "execution_count": 1,
      "outputs": [
        {
          "output_type": "stream",
          "name": "stdout",
          "text": [
            "Mounted at /content/drive\n"
          ]
        }
      ]
    },
    {
      "cell_type": "code",
      "execution_count": 2,
      "id": "1132b641",
      "metadata": {
        "id": "1132b641"
      },
      "outputs": [],
      "source": [
        "import scipy.io\n",
        "import seaborn as sns\n",
        "import numpy as np\n",
        "import pandas as pd\n",
        "import os\n",
        "import matplotlib.pyplot as plt"
      ]
    },
    {
      "cell_type": "markdown",
      "source": [
        "Dataset Input"
      ],
      "metadata": {
        "id": "2haV_hKQQOg-"
      },
      "id": "2haV_hKQQOg-"
    },
    {
      "cell_type": "code",
      "source": [
        "df=pd.DataFrame(columns=['DE_data','fault']) # upload the dataset on googledrive\n",
        "\n",
        "for root, dirs, files in os.walk(\"/content/drive/MyDrive/TRIAX_with_NOISE/TRIAX_NOISE_Dataset_20db\", topdown=False):\n",
        "    for file_name in files:\n",
        "        path = os.path.join(root, file_name)\n",
        "        print(path)\n",
        "\n",
        "        mat = scipy.io.loadmat(path)\n",
        "\n",
        "        key_name = list(mat.keys())[3]\n",
        "        DE_data = mat.get(key_name)\n",
        "        fault = np.full((len(DE_data), 1), file_name[:-4])\n",
        "\n",
        "        df_temp = pd.DataFrame({'DE_data':np.ravel(DE_data) , 'fault':np.ravel(fault)})\n",
        "\n",
        "        df = pd.concat([df,df_temp],axis=0)\n",
        "        print(df['fault'].unique())\n",
        "\n",
        "df.to_csv('/content/drive/MyDrive/MK DCNN TRIAX/NOISE_20_faults.csv',index=False)"
      ],
      "metadata": {
        "colab": {
          "base_uri": "https://localhost:8080/"
        },
        "id": "sXzSVyy_ylsF",
        "outputId": "d9863cdd-3828-401e-84c1-05434f1b868e"
      },
      "id": "sXzSVyy_ylsF",
      "execution_count": 3,
      "outputs": [
        {
          "output_type": "stream",
          "name": "stdout",
          "text": [
            "/content/drive/MyDrive/TRIAX_with_NOISE/TRIAX_NOISE_Dataset_20db/F1_IR007_20db.mat\n"
          ]
        },
        {
          "output_type": "stream",
          "name": "stderr",
          "text": [
            "/tmp/ipython-input-3-3625044131.py:16: FutureWarning: The behavior of DataFrame concatenation with empty or all-NA entries is deprecated. In a future version, this will no longer exclude empty or all-NA columns when determining the result dtypes. To retain the old behavior, exclude the relevant entries before the concat operation.\n",
            "  df = pd.concat([df,df_temp],axis=0)\n"
          ]
        },
        {
          "output_type": "stream",
          "name": "stdout",
          "text": [
            "['F1_IR007_20db']\n",
            "/content/drive/MyDrive/TRIAX_with_NOISE/TRIAX_NOISE_Dataset_20db/F2_IR009_20db.mat\n",
            "['F1_IR007_20db' 'F2_IR009_20db']\n",
            "/content/drive/MyDrive/TRIAX_with_NOISE/TRIAX_NOISE_Dataset_20db/F3_IR013_20db.mat\n",
            "['F1_IR007_20db' 'F2_IR009_20db' 'F3_IR013_20db']\n",
            "/content/drive/MyDrive/TRIAX_with_NOISE/TRIAX_NOISE_Dataset_20db/F4_IR017_20db.mat\n",
            "['F1_IR007_20db' 'F2_IR009_20db' 'F3_IR013_20db' 'F4_IR017_20db']\n",
            "/content/drive/MyDrive/TRIAX_with_NOISE/TRIAX_NOISE_Dataset_20db/F5_OR009_20db.mat\n",
            "['F1_IR007_20db' 'F2_IR009_20db' 'F3_IR013_20db' 'F4_IR017_20db'\n",
            " 'F5_OR009_20db']\n",
            "/content/drive/MyDrive/TRIAX_with_NOISE/TRIAX_NOISE_Dataset_20db/F6_OR013_20db.mat\n",
            "['F1_IR007_20db' 'F2_IR009_20db' 'F3_IR013_20db' 'F4_IR017_20db'\n",
            " 'F5_OR009_20db' 'F6_OR013_20db']\n",
            "/content/drive/MyDrive/TRIAX_with_NOISE/TRIAX_NOISE_Dataset_20db/F7_OR017_20db.mat\n",
            "['F1_IR007_20db' 'F2_IR009_20db' 'F3_IR013_20db' 'F4_IR017_20db'\n",
            " 'F5_OR009_20db' 'F6_OR013_20db' 'F7_OR017_20db']\n",
            "/content/drive/MyDrive/TRIAX_with_NOISE/TRIAX_NOISE_Dataset_20db/F8_Normal_20db.mat\n",
            "['F1_IR007_20db' 'F2_IR009_20db' 'F3_IR013_20db' 'F4_IR017_20db'\n",
            " 'F5_OR009_20db' 'F6_OR013_20db' 'F7_OR017_20db' 'F8_Normal_20db']\n"
          ]
        }
      ]
    },
    {
      "cell_type": "markdown",
      "source": [
        "# Multi-Kernel Deep 1D-CNN"
      ],
      "metadata": {
        "id": "2d0arbB2knS8"
      },
      "id": "2d0arbB2knS8"
    },
    {
      "cell_type": "code",
      "source": [
        "pip install tensorflow"
      ],
      "metadata": {
        "id": "-dsJA9B5YVAW",
        "outputId": "77dad749-7bf2-494f-8265-0db053f1ef70",
        "colab": {
          "base_uri": "https://localhost:8080/"
        }
      },
      "id": "-dsJA9B5YVAW",
      "execution_count": 4,
      "outputs": [
        {
          "output_type": "stream",
          "name": "stdout",
          "text": [
            "Requirement already satisfied: tensorflow in /usr/local/lib/python3.11/dist-packages (2.18.0)\n",
            "Requirement already satisfied: absl-py>=1.0.0 in /usr/local/lib/python3.11/dist-packages (from tensorflow) (1.4.0)\n",
            "Requirement already satisfied: astunparse>=1.6.0 in /usr/local/lib/python3.11/dist-packages (from tensorflow) (1.6.3)\n",
            "Requirement already satisfied: flatbuffers>=24.3.25 in /usr/local/lib/python3.11/dist-packages (from tensorflow) (25.2.10)\n",
            "Requirement already satisfied: gast!=0.5.0,!=0.5.1,!=0.5.2,>=0.2.1 in /usr/local/lib/python3.11/dist-packages (from tensorflow) (0.6.0)\n",
            "Requirement already satisfied: google-pasta>=0.1.1 in /usr/local/lib/python3.11/dist-packages (from tensorflow) (0.2.0)\n",
            "Requirement already satisfied: libclang>=13.0.0 in /usr/local/lib/python3.11/dist-packages (from tensorflow) (18.1.1)\n",
            "Requirement already satisfied: opt-einsum>=2.3.2 in /usr/local/lib/python3.11/dist-packages (from tensorflow) (3.4.0)\n",
            "Requirement already satisfied: packaging in /usr/local/lib/python3.11/dist-packages (from tensorflow) (24.2)\n",
            "Requirement already satisfied: protobuf!=4.21.0,!=4.21.1,!=4.21.2,!=4.21.3,!=4.21.4,!=4.21.5,<6.0.0dev,>=3.20.3 in /usr/local/lib/python3.11/dist-packages (from tensorflow) (5.29.5)\n",
            "Requirement already satisfied: requests<3,>=2.21.0 in /usr/local/lib/python3.11/dist-packages (from tensorflow) (2.32.3)\n",
            "Requirement already satisfied: setuptools in /usr/local/lib/python3.11/dist-packages (from tensorflow) (75.2.0)\n",
            "Requirement already satisfied: six>=1.12.0 in /usr/local/lib/python3.11/dist-packages (from tensorflow) (1.17.0)\n",
            "Requirement already satisfied: termcolor>=1.1.0 in /usr/local/lib/python3.11/dist-packages (from tensorflow) (3.1.0)\n",
            "Requirement already satisfied: typing-extensions>=3.6.6 in /usr/local/lib/python3.11/dist-packages (from tensorflow) (4.14.0)\n",
            "Requirement already satisfied: wrapt>=1.11.0 in /usr/local/lib/python3.11/dist-packages (from tensorflow) (1.17.2)\n",
            "Requirement already satisfied: grpcio<2.0,>=1.24.3 in /usr/local/lib/python3.11/dist-packages (from tensorflow) (1.73.0)\n",
            "Requirement already satisfied: tensorboard<2.19,>=2.18 in /usr/local/lib/python3.11/dist-packages (from tensorflow) (2.18.0)\n",
            "Requirement already satisfied: keras>=3.5.0 in /usr/local/lib/python3.11/dist-packages (from tensorflow) (3.8.0)\n",
            "Requirement already satisfied: numpy<2.1.0,>=1.26.0 in /usr/local/lib/python3.11/dist-packages (from tensorflow) (2.0.2)\n",
            "Requirement already satisfied: h5py>=3.11.0 in /usr/local/lib/python3.11/dist-packages (from tensorflow) (3.14.0)\n",
            "Requirement already satisfied: ml-dtypes<0.5.0,>=0.4.0 in /usr/local/lib/python3.11/dist-packages (from tensorflow) (0.4.1)\n",
            "Requirement already satisfied: tensorflow-io-gcs-filesystem>=0.23.1 in /usr/local/lib/python3.11/dist-packages (from tensorflow) (0.37.1)\n",
            "Requirement already satisfied: wheel<1.0,>=0.23.0 in /usr/local/lib/python3.11/dist-packages (from astunparse>=1.6.0->tensorflow) (0.45.1)\n",
            "Requirement already satisfied: rich in /usr/local/lib/python3.11/dist-packages (from keras>=3.5.0->tensorflow) (13.9.4)\n",
            "Requirement already satisfied: namex in /usr/local/lib/python3.11/dist-packages (from keras>=3.5.0->tensorflow) (0.1.0)\n",
            "Requirement already satisfied: optree in /usr/local/lib/python3.11/dist-packages (from keras>=3.5.0->tensorflow) (0.16.0)\n",
            "Requirement already satisfied: charset-normalizer<4,>=2 in /usr/local/lib/python3.11/dist-packages (from requests<3,>=2.21.0->tensorflow) (3.4.2)\n",
            "Requirement already satisfied: idna<4,>=2.5 in /usr/local/lib/python3.11/dist-packages (from requests<3,>=2.21.0->tensorflow) (3.10)\n",
            "Requirement already satisfied: urllib3<3,>=1.21.1 in /usr/local/lib/python3.11/dist-packages (from requests<3,>=2.21.0->tensorflow) (2.4.0)\n",
            "Requirement already satisfied: certifi>=2017.4.17 in /usr/local/lib/python3.11/dist-packages (from requests<3,>=2.21.0->tensorflow) (2025.6.15)\n",
            "Requirement already satisfied: markdown>=2.6.8 in /usr/local/lib/python3.11/dist-packages (from tensorboard<2.19,>=2.18->tensorflow) (3.8)\n",
            "Requirement already satisfied: tensorboard-data-server<0.8.0,>=0.7.0 in /usr/local/lib/python3.11/dist-packages (from tensorboard<2.19,>=2.18->tensorflow) (0.7.2)\n",
            "Requirement already satisfied: werkzeug>=1.0.1 in /usr/local/lib/python3.11/dist-packages (from tensorboard<2.19,>=2.18->tensorflow) (3.1.3)\n",
            "Requirement already satisfied: MarkupSafe>=2.1.1 in /usr/local/lib/python3.11/dist-packages (from werkzeug>=1.0.1->tensorboard<2.19,>=2.18->tensorflow) (3.0.2)\n",
            "Requirement already satisfied: markdown-it-py>=2.2.0 in /usr/local/lib/python3.11/dist-packages (from rich->keras>=3.5.0->tensorflow) (3.0.0)\n",
            "Requirement already satisfied: pygments<3.0.0,>=2.13.0 in /usr/local/lib/python3.11/dist-packages (from rich->keras>=3.5.0->tensorflow) (2.19.1)\n",
            "Requirement already satisfied: mdurl~=0.1 in /usr/local/lib/python3.11/dist-packages (from markdown-it-py>=2.2.0->rich->keras>=3.5.0->tensorflow) (0.1.2)\n"
          ]
        }
      ]
    },
    {
      "cell_type": "code",
      "source": [
        "from sklearn.preprocessing import LabelEncoder\n",
        "from tensorflow.keras.utils import to_categorical\n",
        "\n",
        "\n",
        "# Total target rows\n",
        "TARGET_ROWS = 1800\n",
        "\n",
        "# Estimate the total number of samples across all fault types\n",
        "total_samples = sum(len(df[df['fault'] == f]) for f in df['fault'].unique())\n",
        "\n",
        "# Calculate suitable window size and stride\n",
        "num_faults = 9\n",
        "average_samples_per_fault = total_samples / num_faults\n",
        "approx_windows_per_fault = TARGET_ROWS / num_faults\n",
        "stride_ratio = 0.8  # Initial stride/window ratio\n",
        "\n",
        "win_len = int(average_samples_per_fault / approx_windows_per_fault)\n",
        "stride = int(win_len * stride_ratio)\n",
        "\n",
        "X=[]\n",
        "Y=[]\n",
        "\n",
        "\n",
        "for k in df['fault'].unique():\n",
        "\n",
        "    df_temp_2 = df[df['fault']==k]\n",
        "\n",
        "    for i in np.arange(0,len(df_temp_2)-(win_len),stride):\n",
        "        temp = df_temp_2.iloc[i:i+win_len,:-1].values\n",
        "        temp = temp.reshape((1,-1))\n",
        "        X.append(temp)\n",
        "        Y.append(df_temp_2.iloc[i+win_len,-1])\n",
        "\n",
        "X=np.array(X)\n",
        "X=X.reshape((X.shape[0],-1,1))\n",
        "#X = np.repeat(X, 3, axis=3) # To repeat into 3 chanel format\n",
        "\n",
        "\n",
        "Y=np.array(Y)\n",
        "encoder= LabelEncoder()\n",
        "encoder.fit(Y)\n",
        "encoded_Y = encoder.transform(Y)\n",
        "OHE_Y = to_categorical(encoded_Y)"
      ],
      "metadata": {
        "id": "5s5vUXrUM2BH"
      },
      "id": "5s5vUXrUM2BH",
      "execution_count": 5,
      "outputs": []
    },
    {
      "cell_type": "code",
      "source": [
        "from sklearn.model_selection import train_test_split\n",
        "X_train,X_test,y_train,y_test = train_test_split(X,OHE_Y,test_size=0.3,shuffle=True)"
      ],
      "metadata": {
        "id": "PreHyG2yMkTA"
      },
      "id": "PreHyG2yMkTA",
      "execution_count": 6,
      "outputs": []
    },
    {
      "cell_type": "code",
      "source": [
        "import tensorflow as tf\n",
        "from tensorflow.keras.models import Model\n",
        "from tensorflow.keras.layers import Input, Dense, Dropout, Flatten, Conv1D, MaxPooling1D, concatenate\n",
        "from tensorflow.keras import backend as K\n",
        "\n",
        "# --- Custom Physics-Informed Loss Function ---\n",
        "def custom_loss(y_true, y_pred):\n",
        "    # Standard categorical crossentropy\n",
        "    loss = K.categorical_crossentropy(y_true, y_pred)\n",
        "\n",
        "    # Physics-Informed Term: penalize rapid class probability changes\n",
        "    # Ensure y_pred is at least 2D for slicing\n",
        "    if K.ndim(y_pred) < 2:\n",
        "        y_pred = K.expand_dims(y_pred, axis=-1)\n",
        "\n",
        "    # Ensure y_pred has more than one class dimension to compute diff\n",
        "    if K.int_shape(y_pred)[-1] > 1:\n",
        "        diff = y_pred[:, 1:] - y_pred[:, :-1]\n",
        "        squared_diff = tf.square(diff)\n",
        "        physics_term = tf.reduce_mean(squared_diff)\n",
        "    else:\n",
        "        physics_term = 0.0 # No physics term if only one class\n",
        "\n",
        "\n",
        "    # Total loss = classification loss + regularization term\n",
        "    total_loss = loss + 0.01 * physics_term  # 0.01 is tunable\n",
        "\n",
        "    return total_loss\n",
        "\n",
        "# --- Model Definition ---\n",
        "# no_classes = len(df['fault'].unique()) # Original line that caused 10 classes\n",
        "no_classes = len(encoder.classes_) # Use the encoder to get the correct number of classes\n",
        "print(f\"Number of output classes (no_classes): {no_classes}\") # Add print statement to verify\n",
        "\n",
        "input_shape = (X.shape[1], X.shape[2])  # Example: (784, 1)\n",
        "\n",
        "# Head 1\n",
        "inputs1 = Input(shape=input_shape)\n",
        "conv1 = Conv1D(filters=64, kernel_size=200, activation='relu')(inputs1)\n",
        "drop1 = Dropout(0.5)(conv1)\n",
        "pool1 = MaxPooling1D(pool_size=20)(drop1)\n",
        "flat1 = Flatten()(pool1)\n",
        "\n",
        "# Head 2\n",
        "inputs2 = Input(shape=input_shape)\n",
        "conv2 = Conv1D(filters=64, kernel_size=100, activation='relu')(inputs2)\n",
        "drop2 = Dropout(0.5)(conv2)\n",
        "pool2 = MaxPooling1D(pool_size=10)(drop2)\n",
        "flat2 = Flatten()(pool2)\n",
        "\n",
        "# Head 3\n",
        "inputs3 = Input(shape=input_shape)\n",
        "conv3 = Conv1D(filters=64, kernel_size=50, activation='relu')(inputs3)\n",
        "drop3 = Dropout(0.5)(conv3)\n",
        "pool3 = MaxPooling1D(pool_size=5)(drop3)\n",
        "flat3 = Flatten()(pool3)\n",
        "\n",
        "# Merge all feature paths\n",
        "merged = concatenate([flat1, flat2, flat3])\n",
        "\n",
        "# Fully connected interpretation\n",
        "dense1 = Dense(100, activation='relu')(merged)\n",
        "outputs = Dense(no_classes, activation='softmax')(dense1)\n",
        "\n",
        "# Build and compile model with custom loss\n",
        "cnn_model = Model(inputs=[inputs1, inputs2, inputs3], outputs=outputs)\n",
        "cnn_model.compile(optimizer='adam', loss=custom_loss, metrics=['accuracy'])\n",
        "\n",
        "# Model summary\n",
        "cnn_model.summary()"
      ],
      "metadata": {
        "id": "kB3uGh-8J7no",
        "outputId": "d8434a5d-39dd-407b-ca57-24be9b52ab52",
        "colab": {
          "base_uri": "https://localhost:8080/",
          "height": 863
        }
      },
      "id": "kB3uGh-8J7no",
      "execution_count": 7,
      "outputs": [
        {
          "output_type": "stream",
          "name": "stdout",
          "text": [
            "Number of output classes (no_classes): 8\n"
          ]
        },
        {
          "output_type": "display_data",
          "data": {
            "text/plain": [
              "\u001b[1mModel: \"functional\"\u001b[0m\n"
            ],
            "text/html": [
              "<pre style=\"white-space:pre;overflow-x:auto;line-height:normal;font-family:Menlo,'DejaVu Sans Mono',consolas,'Courier New',monospace\"><span style=\"font-weight: bold\">Model: \"functional\"</span>\n",
              "</pre>\n"
            ]
          },
          "metadata": {}
        },
        {
          "output_type": "display_data",
          "data": {
            "text/plain": [
              "┏━━━━━━━━━━━━━━━━━━━━━┳━━━━━━━━━━━━━━━━━━━┳━━━━━━━━━━━━┳━━━━━━━━━━━━━━━━━━━┓\n",
              "┃\u001b[1m \u001b[0m\u001b[1mLayer (type)       \u001b[0m\u001b[1m \u001b[0m┃\u001b[1m \u001b[0m\u001b[1mOutput Shape     \u001b[0m\u001b[1m \u001b[0m┃\u001b[1m \u001b[0m\u001b[1m   Param #\u001b[0m\u001b[1m \u001b[0m┃\u001b[1m \u001b[0m\u001b[1mConnected to     \u001b[0m\u001b[1m \u001b[0m┃\n",
              "┡━━━━━━━━━━━━━━━━━━━━━╇━━━━━━━━━━━━━━━━━━━╇━━━━━━━━━━━━╇━━━━━━━━━━━━━━━━━━━┩\n",
              "│ input_layer         │ (\u001b[38;5;45mNone\u001b[0m, \u001b[38;5;34m614\u001b[0m, \u001b[38;5;34m1\u001b[0m)    │          \u001b[38;5;34m0\u001b[0m │ -                 │\n",
              "│ (\u001b[38;5;33mInputLayer\u001b[0m)        │                   │            │                   │\n",
              "├─────────────────────┼───────────────────┼────────────┼───────────────────┤\n",
              "│ input_layer_1       │ (\u001b[38;5;45mNone\u001b[0m, \u001b[38;5;34m614\u001b[0m, \u001b[38;5;34m1\u001b[0m)    │          \u001b[38;5;34m0\u001b[0m │ -                 │\n",
              "│ (\u001b[38;5;33mInputLayer\u001b[0m)        │                   │            │                   │\n",
              "├─────────────────────┼───────────────────┼────────────┼───────────────────┤\n",
              "│ input_layer_2       │ (\u001b[38;5;45mNone\u001b[0m, \u001b[38;5;34m614\u001b[0m, \u001b[38;5;34m1\u001b[0m)    │          \u001b[38;5;34m0\u001b[0m │ -                 │\n",
              "│ (\u001b[38;5;33mInputLayer\u001b[0m)        │                   │            │                   │\n",
              "├─────────────────────┼───────────────────┼────────────┼───────────────────┤\n",
              "│ conv1d (\u001b[38;5;33mConv1D\u001b[0m)     │ (\u001b[38;5;45mNone\u001b[0m, \u001b[38;5;34m415\u001b[0m, \u001b[38;5;34m64\u001b[0m)   │     \u001b[38;5;34m12,864\u001b[0m │ input_layer[\u001b[38;5;34m0\u001b[0m][\u001b[38;5;34m0\u001b[0m] │\n",
              "├─────────────────────┼───────────────────┼────────────┼───────────────────┤\n",
              "│ conv1d_1 (\u001b[38;5;33mConv1D\u001b[0m)   │ (\u001b[38;5;45mNone\u001b[0m, \u001b[38;5;34m515\u001b[0m, \u001b[38;5;34m64\u001b[0m)   │      \u001b[38;5;34m6,464\u001b[0m │ input_layer_1[\u001b[38;5;34m0\u001b[0m]… │\n",
              "├─────────────────────┼───────────────────┼────────────┼───────────────────┤\n",
              "│ conv1d_2 (\u001b[38;5;33mConv1D\u001b[0m)   │ (\u001b[38;5;45mNone\u001b[0m, \u001b[38;5;34m565\u001b[0m, \u001b[38;5;34m64\u001b[0m)   │      \u001b[38;5;34m3,264\u001b[0m │ input_layer_2[\u001b[38;5;34m0\u001b[0m]… │\n",
              "├─────────────────────┼───────────────────┼────────────┼───────────────────┤\n",
              "│ dropout (\u001b[38;5;33mDropout\u001b[0m)   │ (\u001b[38;5;45mNone\u001b[0m, \u001b[38;5;34m415\u001b[0m, \u001b[38;5;34m64\u001b[0m)   │          \u001b[38;5;34m0\u001b[0m │ conv1d[\u001b[38;5;34m0\u001b[0m][\u001b[38;5;34m0\u001b[0m]      │\n",
              "├─────────────────────┼───────────────────┼────────────┼───────────────────┤\n",
              "│ dropout_1 (\u001b[38;5;33mDropout\u001b[0m) │ (\u001b[38;5;45mNone\u001b[0m, \u001b[38;5;34m515\u001b[0m, \u001b[38;5;34m64\u001b[0m)   │          \u001b[38;5;34m0\u001b[0m │ conv1d_1[\u001b[38;5;34m0\u001b[0m][\u001b[38;5;34m0\u001b[0m]    │\n",
              "├─────────────────────┼───────────────────┼────────────┼───────────────────┤\n",
              "│ dropout_2 (\u001b[38;5;33mDropout\u001b[0m) │ (\u001b[38;5;45mNone\u001b[0m, \u001b[38;5;34m565\u001b[0m, \u001b[38;5;34m64\u001b[0m)   │          \u001b[38;5;34m0\u001b[0m │ conv1d_2[\u001b[38;5;34m0\u001b[0m][\u001b[38;5;34m0\u001b[0m]    │\n",
              "├─────────────────────┼───────────────────┼────────────┼───────────────────┤\n",
              "│ max_pooling1d       │ (\u001b[38;5;45mNone\u001b[0m, \u001b[38;5;34m20\u001b[0m, \u001b[38;5;34m64\u001b[0m)    │          \u001b[38;5;34m0\u001b[0m │ dropout[\u001b[38;5;34m0\u001b[0m][\u001b[38;5;34m0\u001b[0m]     │\n",
              "│ (\u001b[38;5;33mMaxPooling1D\u001b[0m)      │                   │            │                   │\n",
              "├─────────────────────┼───────────────────┼────────────┼───────────────────┤\n",
              "│ max_pooling1d_1     │ (\u001b[38;5;45mNone\u001b[0m, \u001b[38;5;34m51\u001b[0m, \u001b[38;5;34m64\u001b[0m)    │          \u001b[38;5;34m0\u001b[0m │ dropout_1[\u001b[38;5;34m0\u001b[0m][\u001b[38;5;34m0\u001b[0m]   │\n",
              "│ (\u001b[38;5;33mMaxPooling1D\u001b[0m)      │                   │            │                   │\n",
              "├─────────────────────┼───────────────────┼────────────┼───────────────────┤\n",
              "│ max_pooling1d_2     │ (\u001b[38;5;45mNone\u001b[0m, \u001b[38;5;34m113\u001b[0m, \u001b[38;5;34m64\u001b[0m)   │          \u001b[38;5;34m0\u001b[0m │ dropout_2[\u001b[38;5;34m0\u001b[0m][\u001b[38;5;34m0\u001b[0m]   │\n",
              "│ (\u001b[38;5;33mMaxPooling1D\u001b[0m)      │                   │            │                   │\n",
              "├─────────────────────┼───────────────────┼────────────┼───────────────────┤\n",
              "│ flatten (\u001b[38;5;33mFlatten\u001b[0m)   │ (\u001b[38;5;45mNone\u001b[0m, \u001b[38;5;34m1280\u001b[0m)      │          \u001b[38;5;34m0\u001b[0m │ max_pooling1d[\u001b[38;5;34m0\u001b[0m]… │\n",
              "├─────────────────────┼───────────────────┼────────────┼───────────────────┤\n",
              "│ flatten_1 (\u001b[38;5;33mFlatten\u001b[0m) │ (\u001b[38;5;45mNone\u001b[0m, \u001b[38;5;34m3264\u001b[0m)      │          \u001b[38;5;34m0\u001b[0m │ max_pooling1d_1[\u001b[38;5;34m…\u001b[0m │\n",
              "├─────────────────────┼───────────────────┼────────────┼───────────────────┤\n",
              "│ flatten_2 (\u001b[38;5;33mFlatten\u001b[0m) │ (\u001b[38;5;45mNone\u001b[0m, \u001b[38;5;34m7232\u001b[0m)      │          \u001b[38;5;34m0\u001b[0m │ max_pooling1d_2[\u001b[38;5;34m…\u001b[0m │\n",
              "├─────────────────────┼───────────────────┼────────────┼───────────────────┤\n",
              "│ concatenate         │ (\u001b[38;5;45mNone\u001b[0m, \u001b[38;5;34m11776\u001b[0m)     │          \u001b[38;5;34m0\u001b[0m │ flatten[\u001b[38;5;34m0\u001b[0m][\u001b[38;5;34m0\u001b[0m],    │\n",
              "│ (\u001b[38;5;33mConcatenate\u001b[0m)       │                   │            │ flatten_1[\u001b[38;5;34m0\u001b[0m][\u001b[38;5;34m0\u001b[0m],  │\n",
              "│                     │                   │            │ flatten_2[\u001b[38;5;34m0\u001b[0m][\u001b[38;5;34m0\u001b[0m]   │\n",
              "├─────────────────────┼───────────────────┼────────────┼───────────────────┤\n",
              "│ dense (\u001b[38;5;33mDense\u001b[0m)       │ (\u001b[38;5;45mNone\u001b[0m, \u001b[38;5;34m100\u001b[0m)       │  \u001b[38;5;34m1,177,700\u001b[0m │ concatenate[\u001b[38;5;34m0\u001b[0m][\u001b[38;5;34m0\u001b[0m] │\n",
              "├─────────────────────┼───────────────────┼────────────┼───────────────────┤\n",
              "│ dense_1 (\u001b[38;5;33mDense\u001b[0m)     │ (\u001b[38;5;45mNone\u001b[0m, \u001b[38;5;34m8\u001b[0m)         │        \u001b[38;5;34m808\u001b[0m │ dense[\u001b[38;5;34m0\u001b[0m][\u001b[38;5;34m0\u001b[0m]       │\n",
              "└─────────────────────┴───────────────────┴────────────┴───────────────────┘\n"
            ],
            "text/html": [
              "<pre style=\"white-space:pre;overflow-x:auto;line-height:normal;font-family:Menlo,'DejaVu Sans Mono',consolas,'Courier New',monospace\">┏━━━━━━━━━━━━━━━━━━━━━┳━━━━━━━━━━━━━━━━━━━┳━━━━━━━━━━━━┳━━━━━━━━━━━━━━━━━━━┓\n",
              "┃<span style=\"font-weight: bold\"> Layer (type)        </span>┃<span style=\"font-weight: bold\"> Output Shape      </span>┃<span style=\"font-weight: bold\">    Param # </span>┃<span style=\"font-weight: bold\"> Connected to      </span>┃\n",
              "┡━━━━━━━━━━━━━━━━━━━━━╇━━━━━━━━━━━━━━━━━━━╇━━━━━━━━━━━━╇━━━━━━━━━━━━━━━━━━━┩\n",
              "│ input_layer         │ (<span style=\"color: #00d7ff; text-decoration-color: #00d7ff\">None</span>, <span style=\"color: #00af00; text-decoration-color: #00af00\">614</span>, <span style=\"color: #00af00; text-decoration-color: #00af00\">1</span>)    │          <span style=\"color: #00af00; text-decoration-color: #00af00\">0</span> │ -                 │\n",
              "│ (<span style=\"color: #0087ff; text-decoration-color: #0087ff\">InputLayer</span>)        │                   │            │                   │\n",
              "├─────────────────────┼───────────────────┼────────────┼───────────────────┤\n",
              "│ input_layer_1       │ (<span style=\"color: #00d7ff; text-decoration-color: #00d7ff\">None</span>, <span style=\"color: #00af00; text-decoration-color: #00af00\">614</span>, <span style=\"color: #00af00; text-decoration-color: #00af00\">1</span>)    │          <span style=\"color: #00af00; text-decoration-color: #00af00\">0</span> │ -                 │\n",
              "│ (<span style=\"color: #0087ff; text-decoration-color: #0087ff\">InputLayer</span>)        │                   │            │                   │\n",
              "├─────────────────────┼───────────────────┼────────────┼───────────────────┤\n",
              "│ input_layer_2       │ (<span style=\"color: #00d7ff; text-decoration-color: #00d7ff\">None</span>, <span style=\"color: #00af00; text-decoration-color: #00af00\">614</span>, <span style=\"color: #00af00; text-decoration-color: #00af00\">1</span>)    │          <span style=\"color: #00af00; text-decoration-color: #00af00\">0</span> │ -                 │\n",
              "│ (<span style=\"color: #0087ff; text-decoration-color: #0087ff\">InputLayer</span>)        │                   │            │                   │\n",
              "├─────────────────────┼───────────────────┼────────────┼───────────────────┤\n",
              "│ conv1d (<span style=\"color: #0087ff; text-decoration-color: #0087ff\">Conv1D</span>)     │ (<span style=\"color: #00d7ff; text-decoration-color: #00d7ff\">None</span>, <span style=\"color: #00af00; text-decoration-color: #00af00\">415</span>, <span style=\"color: #00af00; text-decoration-color: #00af00\">64</span>)   │     <span style=\"color: #00af00; text-decoration-color: #00af00\">12,864</span> │ input_layer[<span style=\"color: #00af00; text-decoration-color: #00af00\">0</span>][<span style=\"color: #00af00; text-decoration-color: #00af00\">0</span>] │\n",
              "├─────────────────────┼───────────────────┼────────────┼───────────────────┤\n",
              "│ conv1d_1 (<span style=\"color: #0087ff; text-decoration-color: #0087ff\">Conv1D</span>)   │ (<span style=\"color: #00d7ff; text-decoration-color: #00d7ff\">None</span>, <span style=\"color: #00af00; text-decoration-color: #00af00\">515</span>, <span style=\"color: #00af00; text-decoration-color: #00af00\">64</span>)   │      <span style=\"color: #00af00; text-decoration-color: #00af00\">6,464</span> │ input_layer_1[<span style=\"color: #00af00; text-decoration-color: #00af00\">0</span>]… │\n",
              "├─────────────────────┼───────────────────┼────────────┼───────────────────┤\n",
              "│ conv1d_2 (<span style=\"color: #0087ff; text-decoration-color: #0087ff\">Conv1D</span>)   │ (<span style=\"color: #00d7ff; text-decoration-color: #00d7ff\">None</span>, <span style=\"color: #00af00; text-decoration-color: #00af00\">565</span>, <span style=\"color: #00af00; text-decoration-color: #00af00\">64</span>)   │      <span style=\"color: #00af00; text-decoration-color: #00af00\">3,264</span> │ input_layer_2[<span style=\"color: #00af00; text-decoration-color: #00af00\">0</span>]… │\n",
              "├─────────────────────┼───────────────────┼────────────┼───────────────────┤\n",
              "│ dropout (<span style=\"color: #0087ff; text-decoration-color: #0087ff\">Dropout</span>)   │ (<span style=\"color: #00d7ff; text-decoration-color: #00d7ff\">None</span>, <span style=\"color: #00af00; text-decoration-color: #00af00\">415</span>, <span style=\"color: #00af00; text-decoration-color: #00af00\">64</span>)   │          <span style=\"color: #00af00; text-decoration-color: #00af00\">0</span> │ conv1d[<span style=\"color: #00af00; text-decoration-color: #00af00\">0</span>][<span style=\"color: #00af00; text-decoration-color: #00af00\">0</span>]      │\n",
              "├─────────────────────┼───────────────────┼────────────┼───────────────────┤\n",
              "│ dropout_1 (<span style=\"color: #0087ff; text-decoration-color: #0087ff\">Dropout</span>) │ (<span style=\"color: #00d7ff; text-decoration-color: #00d7ff\">None</span>, <span style=\"color: #00af00; text-decoration-color: #00af00\">515</span>, <span style=\"color: #00af00; text-decoration-color: #00af00\">64</span>)   │          <span style=\"color: #00af00; text-decoration-color: #00af00\">0</span> │ conv1d_1[<span style=\"color: #00af00; text-decoration-color: #00af00\">0</span>][<span style=\"color: #00af00; text-decoration-color: #00af00\">0</span>]    │\n",
              "├─────────────────────┼───────────────────┼────────────┼───────────────────┤\n",
              "│ dropout_2 (<span style=\"color: #0087ff; text-decoration-color: #0087ff\">Dropout</span>) │ (<span style=\"color: #00d7ff; text-decoration-color: #00d7ff\">None</span>, <span style=\"color: #00af00; text-decoration-color: #00af00\">565</span>, <span style=\"color: #00af00; text-decoration-color: #00af00\">64</span>)   │          <span style=\"color: #00af00; text-decoration-color: #00af00\">0</span> │ conv1d_2[<span style=\"color: #00af00; text-decoration-color: #00af00\">0</span>][<span style=\"color: #00af00; text-decoration-color: #00af00\">0</span>]    │\n",
              "├─────────────────────┼───────────────────┼────────────┼───────────────────┤\n",
              "│ max_pooling1d       │ (<span style=\"color: #00d7ff; text-decoration-color: #00d7ff\">None</span>, <span style=\"color: #00af00; text-decoration-color: #00af00\">20</span>, <span style=\"color: #00af00; text-decoration-color: #00af00\">64</span>)    │          <span style=\"color: #00af00; text-decoration-color: #00af00\">0</span> │ dropout[<span style=\"color: #00af00; text-decoration-color: #00af00\">0</span>][<span style=\"color: #00af00; text-decoration-color: #00af00\">0</span>]     │\n",
              "│ (<span style=\"color: #0087ff; text-decoration-color: #0087ff\">MaxPooling1D</span>)      │                   │            │                   │\n",
              "├─────────────────────┼───────────────────┼────────────┼───────────────────┤\n",
              "│ max_pooling1d_1     │ (<span style=\"color: #00d7ff; text-decoration-color: #00d7ff\">None</span>, <span style=\"color: #00af00; text-decoration-color: #00af00\">51</span>, <span style=\"color: #00af00; text-decoration-color: #00af00\">64</span>)    │          <span style=\"color: #00af00; text-decoration-color: #00af00\">0</span> │ dropout_1[<span style=\"color: #00af00; text-decoration-color: #00af00\">0</span>][<span style=\"color: #00af00; text-decoration-color: #00af00\">0</span>]   │\n",
              "│ (<span style=\"color: #0087ff; text-decoration-color: #0087ff\">MaxPooling1D</span>)      │                   │            │                   │\n",
              "├─────────────────────┼───────────────────┼────────────┼───────────────────┤\n",
              "│ max_pooling1d_2     │ (<span style=\"color: #00d7ff; text-decoration-color: #00d7ff\">None</span>, <span style=\"color: #00af00; text-decoration-color: #00af00\">113</span>, <span style=\"color: #00af00; text-decoration-color: #00af00\">64</span>)   │          <span style=\"color: #00af00; text-decoration-color: #00af00\">0</span> │ dropout_2[<span style=\"color: #00af00; text-decoration-color: #00af00\">0</span>][<span style=\"color: #00af00; text-decoration-color: #00af00\">0</span>]   │\n",
              "│ (<span style=\"color: #0087ff; text-decoration-color: #0087ff\">MaxPooling1D</span>)      │                   │            │                   │\n",
              "├─────────────────────┼───────────────────┼────────────┼───────────────────┤\n",
              "│ flatten (<span style=\"color: #0087ff; text-decoration-color: #0087ff\">Flatten</span>)   │ (<span style=\"color: #00d7ff; text-decoration-color: #00d7ff\">None</span>, <span style=\"color: #00af00; text-decoration-color: #00af00\">1280</span>)      │          <span style=\"color: #00af00; text-decoration-color: #00af00\">0</span> │ max_pooling1d[<span style=\"color: #00af00; text-decoration-color: #00af00\">0</span>]… │\n",
              "├─────────────────────┼───────────────────┼────────────┼───────────────────┤\n",
              "│ flatten_1 (<span style=\"color: #0087ff; text-decoration-color: #0087ff\">Flatten</span>) │ (<span style=\"color: #00d7ff; text-decoration-color: #00d7ff\">None</span>, <span style=\"color: #00af00; text-decoration-color: #00af00\">3264</span>)      │          <span style=\"color: #00af00; text-decoration-color: #00af00\">0</span> │ max_pooling1d_1[<span style=\"color: #00af00; text-decoration-color: #00af00\">…</span> │\n",
              "├─────────────────────┼───────────────────┼────────────┼───────────────────┤\n",
              "│ flatten_2 (<span style=\"color: #0087ff; text-decoration-color: #0087ff\">Flatten</span>) │ (<span style=\"color: #00d7ff; text-decoration-color: #00d7ff\">None</span>, <span style=\"color: #00af00; text-decoration-color: #00af00\">7232</span>)      │          <span style=\"color: #00af00; text-decoration-color: #00af00\">0</span> │ max_pooling1d_2[<span style=\"color: #00af00; text-decoration-color: #00af00\">…</span> │\n",
              "├─────────────────────┼───────────────────┼────────────┼───────────────────┤\n",
              "│ concatenate         │ (<span style=\"color: #00d7ff; text-decoration-color: #00d7ff\">None</span>, <span style=\"color: #00af00; text-decoration-color: #00af00\">11776</span>)     │          <span style=\"color: #00af00; text-decoration-color: #00af00\">0</span> │ flatten[<span style=\"color: #00af00; text-decoration-color: #00af00\">0</span>][<span style=\"color: #00af00; text-decoration-color: #00af00\">0</span>],    │\n",
              "│ (<span style=\"color: #0087ff; text-decoration-color: #0087ff\">Concatenate</span>)       │                   │            │ flatten_1[<span style=\"color: #00af00; text-decoration-color: #00af00\">0</span>][<span style=\"color: #00af00; text-decoration-color: #00af00\">0</span>],  │\n",
              "│                     │                   │            │ flatten_2[<span style=\"color: #00af00; text-decoration-color: #00af00\">0</span>][<span style=\"color: #00af00; text-decoration-color: #00af00\">0</span>]   │\n",
              "├─────────────────────┼───────────────────┼────────────┼───────────────────┤\n",
              "│ dense (<span style=\"color: #0087ff; text-decoration-color: #0087ff\">Dense</span>)       │ (<span style=\"color: #00d7ff; text-decoration-color: #00d7ff\">None</span>, <span style=\"color: #00af00; text-decoration-color: #00af00\">100</span>)       │  <span style=\"color: #00af00; text-decoration-color: #00af00\">1,177,700</span> │ concatenate[<span style=\"color: #00af00; text-decoration-color: #00af00\">0</span>][<span style=\"color: #00af00; text-decoration-color: #00af00\">0</span>] │\n",
              "├─────────────────────┼───────────────────┼────────────┼───────────────────┤\n",
              "│ dense_1 (<span style=\"color: #0087ff; text-decoration-color: #0087ff\">Dense</span>)     │ (<span style=\"color: #00d7ff; text-decoration-color: #00d7ff\">None</span>, <span style=\"color: #00af00; text-decoration-color: #00af00\">8</span>)         │        <span style=\"color: #00af00; text-decoration-color: #00af00\">808</span> │ dense[<span style=\"color: #00af00; text-decoration-color: #00af00\">0</span>][<span style=\"color: #00af00; text-decoration-color: #00af00\">0</span>]       │\n",
              "└─────────────────────┴───────────────────┴────────────┴───────────────────┘\n",
              "</pre>\n"
            ]
          },
          "metadata": {}
        },
        {
          "output_type": "display_data",
          "data": {
            "text/plain": [
              "\u001b[1m Total params: \u001b[0m\u001b[38;5;34m1,201,100\u001b[0m (4.58 MB)\n"
            ],
            "text/html": [
              "<pre style=\"white-space:pre;overflow-x:auto;line-height:normal;font-family:Menlo,'DejaVu Sans Mono',consolas,'Courier New',monospace\"><span style=\"font-weight: bold\"> Total params: </span><span style=\"color: #00af00; text-decoration-color: #00af00\">1,201,100</span> (4.58 MB)\n",
              "</pre>\n"
            ]
          },
          "metadata": {}
        },
        {
          "output_type": "display_data",
          "data": {
            "text/plain": [
              "\u001b[1m Trainable params: \u001b[0m\u001b[38;5;34m1,201,100\u001b[0m (4.58 MB)\n"
            ],
            "text/html": [
              "<pre style=\"white-space:pre;overflow-x:auto;line-height:normal;font-family:Menlo,'DejaVu Sans Mono',consolas,'Courier New',monospace\"><span style=\"font-weight: bold\"> Trainable params: </span><span style=\"color: #00af00; text-decoration-color: #00af00\">1,201,100</span> (4.58 MB)\n",
              "</pre>\n"
            ]
          },
          "metadata": {}
        },
        {
          "output_type": "display_data",
          "data": {
            "text/plain": [
              "\u001b[1m Non-trainable params: \u001b[0m\u001b[38;5;34m0\u001b[0m (0.00 B)\n"
            ],
            "text/html": [
              "<pre style=\"white-space:pre;overflow-x:auto;line-height:normal;font-family:Menlo,'DejaVu Sans Mono',consolas,'Courier New',monospace\"><span style=\"font-weight: bold\"> Non-trainable params: </span><span style=\"color: #00af00; text-decoration-color: #00af00\">0</span> (0.00 B)\n",
              "</pre>\n"
            ]
          },
          "metadata": {}
        }
      ]
    },
    {
      "cell_type": "code",
      "source": [
        "batch_size =100\n",
        "epochs = 20\n",
        "history = cnn_model.fit([X_train,X_train,X_train], y_train, batch_size=batch_size,epochs=epochs,verbose=1,validation_data=([X_test,X_test,X_test],y_test),shuffle=True)"
      ],
      "metadata": {
        "id": "2Lxm-qvKM3oN",
        "outputId": "eb86e71f-2755-4f92-b567-b28a636d9cac",
        "colab": {
          "base_uri": "https://localhost:8080/"
        }
      },
      "id": "2Lxm-qvKM3oN",
      "execution_count": 8,
      "outputs": [
        {
          "output_type": "stream",
          "name": "stdout",
          "text": [
            "Epoch 1/20\n",
            "\u001b[1m16/16\u001b[0m \u001b[32m━━━━━━━━━━━━━━━━━━━━\u001b[0m\u001b[37m\u001b[0m \u001b[1m26s\u001b[0m 515ms/step - accuracy: 0.1817 - loss: 2.6938 - val_accuracy: 0.2849 - val_loss: 1.7958\n",
            "Epoch 2/20\n",
            "\u001b[1m16/16\u001b[0m \u001b[32m━━━━━━━━━━━━━━━━━━━━\u001b[0m\u001b[37m\u001b[0m \u001b[1m20s\u001b[0m 16ms/step - accuracy: 0.3901 - loss: 1.5189 - val_accuracy: 0.3991 - val_loss: 1.4632\n",
            "Epoch 3/20\n",
            "\u001b[1m16/16\u001b[0m \u001b[32m━━━━━━━━━━━━━━━━━━━━\u001b[0m\u001b[37m\u001b[0m \u001b[1m0s\u001b[0m 13ms/step - accuracy: 0.4768 - loss: 1.2713 - val_accuracy: 0.5801 - val_loss: 1.2662\n",
            "Epoch 4/20\n",
            "\u001b[1m16/16\u001b[0m \u001b[32m━━━━━━━━━━━━━━━━━━━━\u001b[0m\u001b[37m\u001b[0m \u001b[1m0s\u001b[0m 16ms/step - accuracy: 0.6033 - loss: 1.0731 - val_accuracy: 0.4748 - val_loss: 1.2867\n",
            "Epoch 5/20\n",
            "\u001b[1m16/16\u001b[0m \u001b[32m━━━━━━━━━━━━━━━━━━━━\u001b[0m\u001b[37m\u001b[0m \u001b[1m0s\u001b[0m 13ms/step - accuracy: 0.6003 - loss: 1.0463 - val_accuracy: 0.4985 - val_loss: 1.1770\n",
            "Epoch 6/20\n",
            "\u001b[1m16/16\u001b[0m \u001b[32m━━━━━━━━━━━━━━━━━━━━\u001b[0m\u001b[37m\u001b[0m \u001b[1m0s\u001b[0m 15ms/step - accuracy: 0.6897 - loss: 0.8891 - val_accuracy: 0.4510 - val_loss: 1.1877\n",
            "Epoch 7/20\n",
            "\u001b[1m16/16\u001b[0m \u001b[32m━━━━━━━━━━━━━━━━━━━━\u001b[0m\u001b[37m\u001b[0m \u001b[1m0s\u001b[0m 12ms/step - accuracy: 0.7263 - loss: 0.8019 - val_accuracy: 0.5059 - val_loss: 1.0974\n",
            "Epoch 8/20\n",
            "\u001b[1m16/16\u001b[0m \u001b[32m━━━━━━━━━━━━━━━━━━━━\u001b[0m\u001b[37m\u001b[0m \u001b[1m0s\u001b[0m 12ms/step - accuracy: 0.7651 - loss: 0.6789 - val_accuracy: 0.5460 - val_loss: 1.0461\n",
            "Epoch 9/20\n",
            "\u001b[1m16/16\u001b[0m \u001b[32m━━━━━━━━━━━━━━━━━━━━\u001b[0m\u001b[37m\u001b[0m \u001b[1m0s\u001b[0m 13ms/step - accuracy: 0.8138 - loss: 0.6156 - val_accuracy: 0.4703 - val_loss: 1.1952\n",
            "Epoch 10/20\n",
            "\u001b[1m16/16\u001b[0m \u001b[32m━━━━━━━━━━━━━━━━━━━━\u001b[0m\u001b[37m\u001b[0m \u001b[1m0s\u001b[0m 11ms/step - accuracy: 0.7993 - loss: 0.6257 - val_accuracy: 0.4614 - val_loss: 1.1819\n",
            "Epoch 11/20\n",
            "\u001b[1m16/16\u001b[0m \u001b[32m━━━━━━━━━━━━━━━━━━━━\u001b[0m\u001b[37m\u001b[0m \u001b[1m0s\u001b[0m 12ms/step - accuracy: 0.8138 - loss: 0.5568 - val_accuracy: 0.6009 - val_loss: 0.9611\n",
            "Epoch 12/20\n",
            "\u001b[1m16/16\u001b[0m \u001b[32m━━━━━━━━━━━━━━━━━━━━\u001b[0m\u001b[37m\u001b[0m \u001b[1m0s\u001b[0m 12ms/step - accuracy: 0.8093 - loss: 0.5384 - val_accuracy: 0.4258 - val_loss: 1.2442\n",
            "Epoch 13/20\n",
            "\u001b[1m16/16\u001b[0m \u001b[32m━━━━━━━━━━━━━━━━━━━━\u001b[0m\u001b[37m\u001b[0m \u001b[1m0s\u001b[0m 12ms/step - accuracy: 0.8870 - loss: 0.4256 - val_accuracy: 0.5237 - val_loss: 1.0646\n",
            "Epoch 14/20\n",
            "\u001b[1m16/16\u001b[0m \u001b[32m━━━━━━━━━━━━━━━━━━━━\u001b[0m\u001b[37m\u001b[0m \u001b[1m0s\u001b[0m 12ms/step - accuracy: 0.8828 - loss: 0.3863 - val_accuracy: 0.5193 - val_loss: 1.1255\n",
            "Epoch 15/20\n",
            "\u001b[1m16/16\u001b[0m \u001b[32m━━━━━━━━━━━━━━━━━━━━\u001b[0m\u001b[37m\u001b[0m \u001b[1m0s\u001b[0m 14ms/step - accuracy: 0.9053 - loss: 0.3655 - val_accuracy: 0.5415 - val_loss: 1.0383\n",
            "Epoch 16/20\n",
            "\u001b[1m16/16\u001b[0m \u001b[32m━━━━━━━━━━━━━━━━━━━━\u001b[0m\u001b[37m\u001b[0m \u001b[1m0s\u001b[0m 11ms/step - accuracy: 0.9039 - loss: 0.3274 - val_accuracy: 0.4199 - val_loss: 1.4143\n",
            "Epoch 17/20\n",
            "\u001b[1m16/16\u001b[0m \u001b[32m━━━━━━━━━━━━━━━━━━━━\u001b[0m\u001b[37m\u001b[0m \u001b[1m0s\u001b[0m 12ms/step - accuracy: 0.9465 - loss: 0.2810 - val_accuracy: 0.4510 - val_loss: 1.1971\n",
            "Epoch 18/20\n",
            "\u001b[1m16/16\u001b[0m \u001b[32m━━━━━━━━━━━━━━━━━━━━\u001b[0m\u001b[37m\u001b[0m \u001b[1m0s\u001b[0m 12ms/step - accuracy: 0.9603 - loss: 0.2536 - val_accuracy: 0.4792 - val_loss: 1.1514\n",
            "Epoch 19/20\n",
            "\u001b[1m16/16\u001b[0m \u001b[32m━━━━━━━━━━━━━━━━━━━━\u001b[0m\u001b[37m\u001b[0m \u001b[1m0s\u001b[0m 12ms/step - accuracy: 0.9639 - loss: 0.2058 - val_accuracy: 0.5326 - val_loss: 1.1459\n",
            "Epoch 20/20\n",
            "\u001b[1m16/16\u001b[0m \u001b[32m━━━━━━━━━━━━━━━━━━━━\u001b[0m\u001b[37m\u001b[0m \u001b[1m0s\u001b[0m 15ms/step - accuracy: 0.9680 - loss: 0.1818 - val_accuracy: 0.5059 - val_loss: 1.1336\n"
          ]
        }
      ]
    },
    {
      "cell_type": "code",
      "source": [
        "def inv_Transform_result(y_pred):\n",
        "    y_pred = y_pred.argmax(axis=1)\n",
        "    y_pred = encoder.inverse_transform(y_pred)\n",
        "    return y_pred\n",
        "\n",
        "\n",
        "\n",
        "y_pred=cnn_model.predict([X_test,X_test,X_test])\n",
        "\n",
        "\n",
        "Y_pred=inv_Transform_result(y_pred)\n",
        "Y_test = inv_Transform_result(y_test)\n",
        "\n",
        "\n",
        "\n",
        "\n",
        "from sklearn.metrics import confusion_matrix\n",
        "\n",
        "\n",
        "plt.figure(figsize=(10,10))\n",
        "cm = confusion_matrix(Y_test, Y_pred,normalize='true')\n",
        "f = sns.heatmap(cm, annot=True,xticklabels=encoder.classes_,yticklabels=encoder.classes_)"
      ],
      "metadata": {
        "id": "pbBmkBjlM5ks",
        "outputId": "2e72597f-59b5-4ae3-f3c5-e6fd9e926df4",
        "colab": {
          "base_uri": "https://localhost:8080/",
          "height": 950
        }
      },
      "id": "pbBmkBjlM5ks",
      "execution_count": 9,
      "outputs": [
        {
          "output_type": "stream",
          "name": "stdout",
          "text": [
            "\u001b[1m22/22\u001b[0m \u001b[32m━━━━━━━━━━━━━━━━━━━━\u001b[0m\u001b[37m\u001b[0m \u001b[1m2s\u001b[0m 51ms/step\n"
          ]
        },
        {
          "output_type": "display_data",
          "data": {
            "text/plain": [
              "<Figure size 1000x1000 with 2 Axes>"
            ],
            "image/png": "[encoded data removed]"
          },
          "metadata": {}
        }
      ]
    },
    {
      "cell_type": "code",
      "source": [
        "dummy_cnn = Model(inputs=cnn_model.input,outputs=cnn_model.layers[16].output)\n",
        "y_viz = dummy_cnn.predict([X_train,X_train,X_train])"
      ],
      "metadata": {
        "id": "3tgRx2TxM-GS",
        "outputId": "f777183d-f21d-410b-fd69-f63afd4bb721",
        "colab": {
          "base_uri": "https://localhost:8080/"
        }
      },
      "id": "3tgRx2TxM-GS",
      "execution_count": 10,
      "outputs": [
        {
          "output_type": "stream",
          "name": "stdout",
          "text": [
            "\u001b[1m50/50\u001b[0m \u001b[32m━━━━━━━━━━━━━━━━━━━━\u001b[0m\u001b[37m\u001b[0m \u001b[1m1s\u001b[0m 15ms/step\n"
          ]
        }
      ]
    },
    {
      "cell_type": "code",
      "source": [
        "import pandas as pd\n",
        "import seaborn as sns\n",
        "import matplotlib.pyplot as plt\n",
        "from sklearn.manifold import TSNE\n",
        "\n",
        "# Apply t-SNE transformation\n",
        "X_t_sne = TSNE(\n",
        "    n_components=2,\n",
        "    learning_rate='auto',\n",
        "    verbose=2,  # Increase verbosity for more detailed feedback\n",
        "    perplexity=40,\n",
        "    n_iter=500  # Slightly increased number of iterations for convergence\n",
        ").fit_transform(y_viz)\n",
        "\n",
        "# Create DataFrame for t-SNE components\n",
        "tSNEdf = pd.DataFrame(data=X_t_sne, columns=['T-SNE component 1', 'T-SNE component 2'])\n",
        "\n",
        "# Assuming `inv_Transform_result` transforms `y_train` to get the Fault labels\n",
        "tSNEdf['Fault'] = inv_Transform_result(y_train)\n",
        "\n",
        "# Save the t-SNE DataFrame as a CSV file\n",
        "tSNEdf.to_csv('/content/drive/MyDrive/MK DCNN TRIAX/NOISE_20_tSNE_results.csv', index=True)\n",
        "print(\"t-SNE results saved as '/content/drive/MyDrive/MK DCNN TRIAX/NOISE_20_tSNE_results.csv'.\")\n",
        "\n",
        "# # Plot the t-SNE results with Fault as hue\n",
        "# plt.figure(figsize=(12, 12))  # Larger figure for clarity\n",
        "# sns.scatterplot(\n",
        "#     x='T-SNE component 1',\n",
        "#     y='T-SNE component 2',\n",
        "#     hue='Fault',\n",
        "#     palette=sns.color_palette(\"husl\", as_cmap=False),  # Vivid color palette\n",
        "#     data=tSNEdf,\n",
        "#     legend=\"full\",\n",
        "#     alpha=0.7,  # Increased transparency for better overlap clarity\n",
        "#     s=100  # Larger marker size\n",
        "# )\n",
        "\n",
        "# # Add gridlines for better visualization\n",
        "# plt.grid\n",
        "\n",
        "\n",
        "# Optional: Visualization of t-SNE representation\n",
        "plt.figure(figsize=(8, 6))\n",
        "for label in tSNEdf['Fault'].unique():\n",
        "    subset = tSNEdf[tSNEdf['Fault'] == label]\n",
        "    plt.scatter(subset['T-SNE component 1'], subset['T-SNE component 2'], label=f'Fault {label}', alpha=0.7)\n",
        "\n",
        "plt.title('t-SNE Representation of Motor Fault Dataset')\n",
        "plt.xlabel('t-SNE 1')\n",
        "plt.ylabel('t-SNE 2')\n",
        "plt.legend()\n",
        "plt.show()"
      ],
      "metadata": {
        "id": "uic9AVV2NBah",
        "outputId": "262c943b-736e-4979-8e9d-ab50ff2a1601",
        "colab": {
          "base_uri": "https://localhost:8080/",
          "height": 966
        }
      },
      "id": "uic9AVV2NBah",
      "execution_count": 11,
      "outputs": [
        {
          "output_type": "stream",
          "name": "stderr",
          "text": [
            "/usr/local/lib/python3.11/dist-packages/sklearn/manifold/_t_sne.py:1164: FutureWarning: 'n_iter' was renamed to 'max_iter' in version 1.5 and will be removed in 1.7.\n",
            "  warnings.warn(\n"
          ]
        },
        {
          "output_type": "stream",
          "name": "stdout",
          "text": [
            "[t-SNE] Computing 121 nearest neighbors...\n",
            "[t-SNE] Indexed 1572 samples in 0.001s...\n",
            "[t-SNE] Computed neighbors for 1572 samples in 0.109s...\n",
            "[t-SNE] Computed conditional probabilities for sample 1000 / 1572\n",
            "[t-SNE] Computed conditional probabilities for sample 1572 / 1572\n",
            "[t-SNE] Mean sigma: 1.877347\n",
            "[t-SNE] Computed conditional probabilities in 0.054s\n",
            "[t-SNE] Iteration 50: error = 59.1982231, gradient norm = 0.0411710 (50 iterations in 0.639s)\n",
            "[t-SNE] Iteration 100: error = 55.0092392, gradient norm = 0.0123798 (50 iterations in 0.448s)\n",
            "[t-SNE] Iteration 150: error = 54.1649857, gradient norm = 0.0097365 (50 iterations in 0.439s)\n",
            "[t-SNE] Iteration 200: error = 53.7796555, gradient norm = 0.0049791 (50 iterations in 0.444s)\n",
            "[t-SNE] Iteration 250: error = 53.5558472, gradient norm = 0.0047626 (50 iterations in 0.448s)\n",
            "[t-SNE] KL divergence after 250 iterations with early exaggeration: 53.555847\n",
            "[t-SNE] Iteration 300: error = 1.0565357, gradient norm = 0.0159650 (50 iterations in 0.449s)\n",
            "[t-SNE] Iteration 350: error = 0.8192836, gradient norm = 0.0136347 (50 iterations in 0.455s)\n",
            "[t-SNE] Iteration 400: error = 0.7290559, gradient norm = 0.0114629 (50 iterations in 0.451s)\n",
            "[t-SNE] Iteration 450: error = 0.6847610, gradient norm = 0.0098354 (50 iterations in 0.457s)\n",
            "[t-SNE] Iteration 500: error = 0.6594161, gradient norm = 0.0086722 (50 iterations in 0.441s)\n",
            "[t-SNE] KL divergence after 500 iterations: 0.659416\n",
            "t-SNE results saved as '/content/drive/MyDrive/MK DCNN TRIAX/NOISE_20_tSNE_results.csv'.\n"
          ]
        },
        {
          "output_type": "display_data",
          "data": {
            "text/plain": [
              "<Figure size 800x600 with 1 Axes>"
            ],
            "image/png": "[encoded data removed]"
          },
          "metadata": {}
        }
      ]
    },
    {
      "cell_type": "markdown",
      "source": [
        "Statistical Features"
      ],
      "metadata": {
        "id": "PRuXPOIH6cTH"
      },
      "id": "PRuXPOIH6cTH"
    },
    {
      "cell_type": "code",
      "source": [
        "import numpy as np\n",
        "from scipy.stats import skew, kurtosis\n",
        "import pandas as pd\n",
        "import matplotlib.pyplot as plt\n",
        "\n",
        "# Total target rows\n",
        "TARGET_ROWS = 1800\n",
        "\n",
        "# Estimate the total number of samples across all fault types\n",
        "total_samples = sum(len(df[df['fault'] == f]) for f in df['fault'].unique())\n",
        "\n",
        "# Calculate suitable window size and stride\n",
        "num_faults = 9\n",
        "average_samples_per_fault = total_samples / num_faults\n",
        "approx_windows_per_fault = TARGET_ROWS / num_faults\n",
        "stride_ratio = 0.8  # Initial stride/window ratio\n",
        "\n",
        "WINDOW_SIZE = int(average_samples_per_fault / approx_windows_per_fault)\n",
        "STRIDE = int(WINDOW_SIZE * stride_ratio)\n",
        "\n",
        "print(f\"Calculated WINDOW_SIZE: {WINDOW_SIZE}, STRIDE: {STRIDE}\")\n",
        "\n",
        "# Initialize a list to store statistical features\n",
        "statistical_features = []\n",
        "\n",
        "# Loop through each fault type\n",
        "for f in df['fault'].unique():\n",
        "    # Extract data for the current fault type\n",
        "    fault_data = df[df['fault'] == f].iloc[:, 0].values  # Convert to NumPy array for efficiency\n",
        "\n",
        "    # Compute windows using sliding window approach\n",
        "    num_windows = (len(fault_data) - WINDOW_SIZE) // STRIDE + 1\n",
        "    for i in range(num_windows):\n",
        "        start = i * STRIDE\n",
        "        end = start + WINDOW_SIZE\n",
        "        window = fault_data[start:end]\n",
        "\n",
        "        # Convert window to a numeric type\n",
        "        window = window.astype(float)\n",
        "\n",
        "        # Compute statistical features for the current window\n",
        "        mean_val = np.mean(window)\n",
        "        std_val = np.std(window)\n",
        "        rms_val = np.sqrt(np.mean(np.square(window)))\n",
        "        max_val = np.max(window)\n",
        "        min_val = np.min(window)\n",
        "        skewness_val = skew(window)\n",
        "        kurtosis_val = kurtosis(window)\n",
        "\n",
        "        # Additional statistical features\n",
        "        mean_abs_val = np.mean(np.abs(window))\n",
        "        form_factor = rms_val / mean_abs_val if mean_abs_val != 0 else 0\n",
        "        crest_factor = max_val / rms_val if rms_val != 0 else 0\n",
        "\n",
        "        # Store the features in a dictionary\n",
        "        statistical_features.append({\n",
        "            'fault': f,\n",
        "            'window': i + 1,\n",
        "            'mean': mean_val,\n",
        "            'std': std_val,\n",
        "            'rms': rms_val,\n",
        "            'max': max_val,\n",
        "            'min': min_val,\n",
        "            'skewness': skewness_val,\n",
        "            'kurtosis': kurtosis_val,\n",
        "            'form_factor': form_factor,\n",
        "            'crest_factor': crest_factor\n",
        "        })\n",
        "\n",
        "# Convert statistical features into a DataFrame\n",
        "stat_features_df = pd.DataFrame(statistical_features)\n",
        "\n",
        "# Display the extracted features and count of rows\n",
        "print(f\"Extracted {len(stat_features_df)} rows (target: {TARGET_ROWS})\")\n",
        "print(stat_features_df)\n",
        "\n",
        "# Save the extracted features to a CSV file\n",
        "output_file = \"/content/drive/MyDrive/MK DCNN TRIAX/NOISE_20_statistical_features_with_form_and_crest_factors.csv\"\n",
        "stat_features_df.to_csv(output_file, index=False)\n",
        "print(f\"Statistical features saved to '{output_file}'.\")"
      ],
      "metadata": {
        "id": "HRTIq9cYQgjC",
        "outputId": "00bd7390-c601-40fa-b8e2-65749b3c8b93",
        "colab": {
          "base_uri": "https://localhost:8080/"
        }
      },
      "id": "HRTIq9cYQgjC",
      "execution_count": 12,
      "outputs": [
        {
          "output_type": "stream",
          "name": "stdout",
          "text": [
            "Calculated WINDOW_SIZE: 614, STRIDE: 491\n",
            "Extracted 2246 rows (target: 1800)\n",
            "               fault  window      mean       std       rms       max  \\\n",
            "0      F1_IR007_20db       1  0.185066  1.420969  1.432969  2.394135   \n",
            "1      F1_IR007_20db       2  0.172705  1.407892  1.418445  2.452853   \n",
            "2      F1_IR007_20db       3  0.192483  1.395037  1.408253  2.365794   \n",
            "3      F1_IR007_20db       4  0.204090  1.405059  1.419804  2.374032   \n",
            "4      F1_IR007_20db       5  0.174518  1.407656  1.418433  2.493839   \n",
            "...              ...     ...       ...       ...       ...       ...   \n",
            "2241  F8_Normal_20db     237  0.121013  1.027206  1.034310  1.722715   \n",
            "2242  F8_Normal_20db     238  0.089593  1.023103  1.027019  1.789078   \n",
            "2243  F8_Normal_20db     239  0.133609  1.034183  1.042778  1.776249   \n",
            "2244  F8_Normal_20db     240  0.090037  1.044290  1.048164  1.776249   \n",
            "2245  F8_Normal_20db     241  0.088514  1.015354  1.019204  1.767328   \n",
            "\n",
            "           min  skewness  kurtosis  form_factor  crest_factor  \n",
            "0    -2.389710 -0.017591 -1.424575     1.123654      1.670751  \n",
            "1    -2.424355  0.003609 -1.379650     1.140906      1.729255  \n",
            "2    -2.359991 -0.000756 -1.437024     1.123420      1.679950  \n",
            "3    -2.300536 -0.003362 -1.430435     1.123936      1.672085  \n",
            "4    -2.342421  0.034688 -1.439494     1.122558      1.758165  \n",
            "...        ...       ...       ...          ...           ...  \n",
            "2241 -1.526389 -0.036325 -1.467235     1.115235      1.665570  \n",
            "2242 -1.545461  0.018856 -1.441110     1.123359      1.742011  \n",
            "2243 -1.578200 -0.044126 -1.466930     1.116946      1.703382  \n",
            "2244 -1.650515  0.018608 -1.504368     1.110635      1.694628  \n",
            "2245 -1.586389 -0.017753 -1.458224     1.113283      1.734027  \n",
            "\n",
            "[2246 rows x 11 columns]\n",
            "Statistical features saved to '/content/drive/MyDrive/MK DCNN TRIAX/NOISE_20_statistical_features_with_form_and_crest_factors.csv'.\n"
          ]
        }
      ]
    },
    {
      "cell_type": "code",
      "source": [
        "import pandas as pd\n",
        "from sklearn.utils import resample\n",
        "\n",
        "# Load your dataset (replace 'your_dataset.csv' with your actual file)\n",
        "df = pd.read_csv('/content/drive/MyDrive/MK DCNN TRIAX/NOISE_20_statistical_features_with_form_and_crest_factors.csv')\n",
        "\n",
        "# Display initial class distribution\n",
        "print(\"Initial class distribution:\")\n",
        "print(df['fault'].value_counts())\n",
        "\n",
        "# Target size for undersampling/resampling\n",
        "TARGET_ROWS = 1570\n",
        "\n",
        "# Separate all fault types\n",
        "fault_classes = df['fault'].value_counts()\n",
        "\n",
        "# Determine the number of classes\n",
        "num_classes = len(fault_classes)\n",
        "\n",
        "# Calculate how many samples to take from each class\n",
        "samples_per_class = TARGET_ROWS // num_classes\n",
        "\n",
        "# Initialize a list to store resampled data\n",
        "resampled_data = []\n",
        "\n",
        "# Loop over each class to resample them\n",
        "for fault_class in fault_classes.index:\n",
        "    class_data = df[df['fault'] == fault_class]\n",
        "    if len(class_data) > samples_per_class:\n",
        "        # Undersample\n",
        "        class_data_resampled = resample(class_data, replace=False, n_samples=samples_per_class, random_state=42)\n",
        "    else:\n",
        "        # Upsample\n",
        "        class_data_resampled = resample(class_data, replace=True, n_samples=samples_per_class, random_state=42)\n",
        "\n",
        "    resampled_data.append(class_data_resampled)\n",
        "\n",
        "# Concatenate the resampled data into a single DataFrame\n",
        "balanced_df = pd.concat(resampled_data)\n",
        "\n",
        "# Check if we have the exact number of rows\n",
        "current_rows = len(balanced_df)\n",
        "print(f\"Current rows after equal resampling: {current_rows}\")\n",
        "\n",
        "# If the current rows don't match the target rows, adjust by trimming or adding rows\n",
        "if current_rows > TARGET_ROWS:\n",
        "    # Trim extra rows (if more than target)\n",
        "    balanced_df = balanced_df.head(TARGET_ROWS)\n",
        "elif current_rows < TARGET_ROWS:\n",
        "    # Add rows if fewer than target, by sampling from existing data\n",
        "    remaining_rows = TARGET_ROWS - current_rows\n",
        "    additional_data = balanced_df.sample(n=remaining_rows, replace=True, random_state=42)\n",
        "    balanced_df = pd.concat([balanced_df, additional_data])\n",
        "\n",
        "# Shuffle the final dataset\n",
        "balanced_df = balanced_df.sample(frac=1, random_state=42).reset_index(drop=True)\n",
        "\n",
        "# Display new class distribution\n",
        "print(\"New class distribution:\")\n",
        "print(balanced_df['fault'].value_counts())\n",
        "\n",
        "# Display final row count\n",
        "print(f\"Final row count: {len(balanced_df)}\")\n",
        "\n",
        "# Save the balanced dataset to a CSV file\n",
        "balanced_df.to_csv(\"/content/drive/MyDrive/MK DCNN TRIAX/NOISE_20_balanced_dataset_equal_resampling_exact_1570.csv\", index=False)\n",
        "print(\"Balanced dataset saved as '/content/drive/MyDrive/MK DCNN TRIAX/NOISE_20_balanced_dataset_equal_resampling_exact_1570.csv'\")\n"
      ],
      "metadata": {
        "id": "0-DLTbJL0tc6",
        "outputId": "fae439b9-d5a7-401a-fc5e-c175210f4f45",
        "colab": {
          "base_uri": "https://localhost:8080/"
        }
      },
      "id": "0-DLTbJL0tc6",
      "execution_count": 13,
      "outputs": [
        {
          "output_type": "stream",
          "name": "stdout",
          "text": [
            "Initial class distribution:\n",
            "fault\n",
            "F2_IR009_20db     310\n",
            "F1_IR007_20db     291\n",
            "F3_IR013_20db     291\n",
            "F5_OR009_20db     286\n",
            "F4_IR017_20db     281\n",
            "F7_OR017_20db     277\n",
            "F6_OR013_20db     269\n",
            "F8_Normal_20db    241\n",
            "Name: count, dtype: int64\n",
            "Current rows after equal resampling: 1568\n",
            "New class distribution:\n",
            "fault\n",
            "F8_Normal_20db    197\n",
            "F7_OR017_20db     197\n",
            "F3_IR013_20db     196\n",
            "F4_IR017_20db     196\n",
            "F2_IR009_20db     196\n",
            "F1_IR007_20db     196\n",
            "F5_OR009_20db     196\n",
            "F6_OR013_20db     196\n",
            "Name: count, dtype: int64\n",
            "Final row count: 1570\n",
            "Balanced dataset saved as '/content/drive/MyDrive/MK DCNN TRIAX/NOISE_20_balanced_dataset_equal_resampling_exact_1570.csv'\n"
          ]
        }
      ]
    },
    {
      "cell_type": "code",
      "source": [
        "balanced_df.shape"
      ],
      "metadata": {
        "id": "NQ3f_WOt7Dld",
        "outputId": "c4f82553-51cf-48b5-d155-638bc1996f67",
        "colab": {
          "base_uri": "https://localhost:8080/"
        }
      },
      "id": "NQ3f_WOt7Dld",
      "execution_count": 14,
      "outputs": [
        {
          "output_type": "execute_result",
          "data": {
            "text/plain": [
              "(1570, 11)"
            ]
          },
          "metadata": {},
          "execution_count": 14
        }
      ]
    },
    {
      "cell_type": "code",
      "source": [
        "balanced_df=balanced_df.sort_values(by='fault')"
      ],
      "metadata": {
        "id": "JP_zDzu6_Zkt"
      },
      "id": "JP_zDzu6_Zkt",
      "execution_count": 15,
      "outputs": []
    },
    {
      "cell_type": "code",
      "source": [
        "balanced_df"
      ],
      "metadata": {
        "id": "eq6MhY1CAvgD",
        "outputId": "32df8c79-35bd-4726-8397-3e61d21e6907",
        "colab": {
          "base_uri": "https://localhost:8080/",
          "height": 424
        }
      },
      "id": "eq6MhY1CAvgD",
      "execution_count": 16,
      "outputs": [
        {
          "output_type": "execute_result",
          "data": {
            "text/plain": [
              "               fault  window      mean       std       rms       max  \\\n",
              "1220   F1_IR007_20db     120  0.185994  1.490614  1.502173  2.428134   \n",
              "1358   F1_IR007_20db     227  0.190014  1.443381  1.455834  2.440257   \n",
              "1511   F1_IR007_20db      31  0.184984  1.511467  1.522745  2.373260   \n",
              "714    F1_IR007_20db     101  0.199673  1.521327  1.534374  2.359017   \n",
              "710    F1_IR007_20db     174  0.193439  1.469855  1.482529  2.406567   \n",
              "...              ...     ...       ...       ...       ...       ...   \n",
              "1376  F8_Normal_20db     228  0.100704  1.033820  1.038713  1.712144   \n",
              "663   F8_Normal_20db     225  0.095442  1.025469  1.029901  1.702826   \n",
              "660   F8_Normal_20db      81  0.097681  1.061188  1.065674  1.808648   \n",
              "421   F8_Normal_20db     220  0.097665  1.031052  1.035667  1.762956   \n",
              "0     F8_Normal_20db     160  0.102315  1.036385  1.041423  1.747538   \n",
              "\n",
              "           min  skewness  kurtosis  form_factor  crest_factor  \n",
              "1220 -2.315287 -0.119250 -1.543120     1.091621      1.616414  \n",
              "1358 -2.373709 -0.076576 -1.536834     1.095574      1.676192  \n",
              "1511 -2.363571 -0.100845 -1.549664     1.094448      1.558541  \n",
              "714  -2.512779 -0.130588 -1.538500     1.092906      1.537445  \n",
              "710  -2.333484 -0.067643 -1.533184     1.101206      1.623285  \n",
              "...        ...       ...       ...          ...           ...  \n",
              "1376 -1.614499  0.005805 -1.468040     1.118180      1.648331  \n",
              "663  -1.584157  0.009714 -1.476290     1.115558      1.653388  \n",
              "660  -1.611221 -0.013257 -1.475051     1.117525      1.697187  \n",
              "421  -1.555873  0.002527 -1.458789     1.115468      1.702242  \n",
              "0    -1.647650  0.017271 -1.440483     1.124432      1.678029  \n",
              "\n",
              "[1570 rows x 11 columns]"
            ],
            "text/html": [
              "\n",
              "  <div id=\"df-b6a24365-34cd-4ee4-b0be-8863ea0f1f61\" class=\"colab-df-container\">\n",
              "    <div>\n",
              "<style scoped>\n",
              "    .dataframe tbody tr th:only-of-type {\n",
              "        vertical-align: middle;\n",
              "    }\n",
              "\n",
              "    .dataframe tbody tr th {\n",
              "        vertical-align: top;\n",
              "    }\n",
              "\n",
              "    .dataframe thead th {\n",
              "        text-align: right;\n",
              "    }\n",
              "</style>\n",
              "<table border=\"1\" class=\"dataframe\">\n",
              "  <thead>\n",
              "    <tr style=\"text-align: right;\">\n",
              "      <th></th>\n",
              "      <th>fault</th>\n",
              "      <th>window</th>\n",
              "      <th>mean</th>\n",
              "      <th>std</th>\n",
              "      <th>rms</th>\n",
              "      <th>max</th>\n",
              "      <th>min</th>\n",
              "      <th>skewness</th>\n",
              "      <th>kurtosis</th>\n",
              "      <th>form_factor</th>\n",
              "      <th>crest_factor</th>\n",
              "    </tr>\n",
              "  </thead>\n",
              "  <tbody>\n",
              "    <tr>\n",
              "      <th>1220</th>\n",
              "      <td>F1_IR007_20db</td>\n",
              "      <td>120</td>\n",
              "      <td>0.185994</td>\n",
              "      <td>1.490614</td>\n",
              "      <td>1.502173</td>\n",
              "      <td>2.428134</td>\n",
              "      <td>-2.315287</td>\n",
              "      <td>-0.119250</td>\n",
              "      <td>-1.543120</td>\n",
              "      <td>1.091621</td>\n",
              "      <td>1.616414</td>\n",
              "    </tr>\n",
              "    <tr>\n",
              "      <th>1358</th>\n",
              "      <td>F1_IR007_20db</td>\n",
              "      <td>227</td>\n",
              "      <td>0.190014</td>\n",
              "      <td>1.443381</td>\n",
              "      <td>1.455834</td>\n",
              "      <td>2.440257</td>\n",
              "      <td>-2.373709</td>\n",
              "      <td>-0.076576</td>\n",
              "      <td>-1.536834</td>\n",
              "      <td>1.095574</td>\n",
              "      <td>1.676192</td>\n",
              "    </tr>\n",
              "    <tr>\n",
              "      <th>1511</th>\n",
              "      <td>F1_IR007_20db</td>\n",
              "      <td>31</td>\n",
              "      <td>0.184984</td>\n",
              "      <td>1.511467</td>\n",
              "      <td>1.522745</td>\n",
              "      <td>2.373260</td>\n",
              "      <td>-2.363571</td>\n",
              "      <td>-0.100845</td>\n",
              "      <td>-1.549664</td>\n",
              "      <td>1.094448</td>\n",
              "      <td>1.558541</td>\n",
              "    </tr>\n",
              "    <tr>\n",
              "      <th>714</th>\n",
              "      <td>F1_IR007_20db</td>\n",
              "      <td>101</td>\n",
              "      <td>0.199673</td>\n",
              "      <td>1.521327</td>\n",
              "      <td>1.534374</td>\n",
              "      <td>2.359017</td>\n",
              "      <td>-2.512779</td>\n",
              "      <td>-0.130588</td>\n",
              "      <td>-1.538500</td>\n",
              "      <td>1.092906</td>\n",
              "      <td>1.537445</td>\n",
              "    </tr>\n",
              "    <tr>\n",
              "      <th>710</th>\n",
              "      <td>F1_IR007_20db</td>\n",
              "      <td>174</td>\n",
              "      <td>0.193439</td>\n",
              "      <td>1.469855</td>\n",
              "      <td>1.482529</td>\n",
              "      <td>2.406567</td>\n",
              "      <td>-2.333484</td>\n",
              "      <td>-0.067643</td>\n",
              "      <td>-1.533184</td>\n",
              "      <td>1.101206</td>\n",
              "      <td>1.623285</td>\n",
              "    </tr>\n",
              "    <tr>\n",
              "      <th>...</th>\n",
              "      <td>...</td>\n",
              "      <td>...</td>\n",
              "      <td>...</td>\n",
              "      <td>...</td>\n",
              "      <td>...</td>\n",
              "      <td>...</td>\n",
              "      <td>...</td>\n",
              "      <td>...</td>\n",
              "      <td>...</td>\n",
              "      <td>...</td>\n",
              "      <td>...</td>\n",
              "    </tr>\n",
              "    <tr>\n",
              "      <th>1376</th>\n",
              "      <td>F8_Normal_20db</td>\n",
              "      <td>228</td>\n",
              "      <td>0.100704</td>\n",
              "      <td>1.033820</td>\n",
              "      <td>1.038713</td>\n",
              "      <td>1.712144</td>\n",
              "      <td>-1.614499</td>\n",
              "      <td>0.005805</td>\n",
              "      <td>-1.468040</td>\n",
              "      <td>1.118180</td>\n",
              "      <td>1.648331</td>\n",
              "    </tr>\n",
              "    <tr>\n",
              "      <th>663</th>\n",
              "      <td>F8_Normal_20db</td>\n",
              "      <td>225</td>\n",
              "      <td>0.095442</td>\n",
              "      <td>1.025469</td>\n",
              "      <td>1.029901</td>\n",
              "      <td>1.702826</td>\n",
              "      <td>-1.584157</td>\n",
              "      <td>0.009714</td>\n",
              "      <td>-1.476290</td>\n",
              "      <td>1.115558</td>\n",
              "      <td>1.653388</td>\n",
              "    </tr>\n",
              "    <tr>\n",
              "      <th>660</th>\n",
              "      <td>F8_Normal_20db</td>\n",
              "      <td>81</td>\n",
              "      <td>0.097681</td>\n",
              "      <td>1.061188</td>\n",
              "      <td>1.065674</td>\n",
              "      <td>1.808648</td>\n",
              "      <td>-1.611221</td>\n",
              "      <td>-0.013257</td>\n",
              "      <td>-1.475051</td>\n",
              "      <td>1.117525</td>\n",
              "      <td>1.697187</td>\n",
              "    </tr>\n",
              "    <tr>\n",
              "      <th>421</th>\n",
              "      <td>F8_Normal_20db</td>\n",
              "      <td>220</td>\n",
              "      <td>0.097665</td>\n",
              "      <td>1.031052</td>\n",
              "      <td>1.035667</td>\n",
              "      <td>1.762956</td>\n",
              "      <td>-1.555873</td>\n",
              "      <td>0.002527</td>\n",
              "      <td>-1.458789</td>\n",
              "      <td>1.115468</td>\n",
              "      <td>1.702242</td>\n",
              "    </tr>\n",
              "    <tr>\n",
              "      <th>0</th>\n",
              "      <td>F8_Normal_20db</td>\n",
              "      <td>160</td>\n",
              "      <td>0.102315</td>\n",
              "      <td>1.036385</td>\n",
              "      <td>1.041423</td>\n",
              "      <td>1.747538</td>\n",
              "      <td>-1.647650</td>\n",
              "      <td>0.017271</td>\n",
              "      <td>-1.440483</td>\n",
              "      <td>1.124432</td>\n",
              "      <td>1.678029</td>\n",
              "    </tr>\n",
              "  </tbody>\n",
              "</table>\n",
              "<p>1570 rows × 11 columns</p>\n",
              "</div>\n",
              "    <div class=\"colab-df-buttons\">\n",
              "\n",
              "  <div class=\"colab-df-container\">\n",
              "    <button class=\"colab-df-convert\" onclick=\"convertToInteractive('df-b6a24365-34cd-4ee4-b0be-8863ea0f1f61')\"\n",
              "            title=\"Convert this dataframe to an interactive table.\"\n",
              "            style=\"display:none;\">\n",
              "\n",
              "  <svg xmlns=\"http://www.w3.org/2000/svg\" height=\"24px\" viewBox=\"0 -960 960 960\">\n",
              "    <path d=\"M120-120v-720h720v720H120Zm60-500h600v-160H180v160Zm220 220h160v-160H400v160Zm0 220h160v-160H400v160ZM180-400h160v-160H180v160Zm440 0h160v-160H620v160ZM180-180h160v-160H180v160Zm440 0h160v-160H620v160Z\"/>\n",
              "  </svg>\n",
              "    </button>\n",
              "\n",
              "  <style>\n",
              "    .colab-df-container {\n",
              "      display:flex;\n",
              "      gap: 12px;\n",
              "    }\n",
              "\n",
              "    .colab-df-convert {\n",
              "      background-color: #E8F0FE;\n",
              "      border: none;\n",
              "      border-radius: 50%;\n",
              "      cursor: pointer;\n",
              "      display: none;\n",
              "      fill: #1967D2;\n",
              "      height: 32px;\n",
              "      padding: 0 0 0 0;\n",
              "      width: 32px;\n",
              "    }\n",
              "\n",
              "    .colab-df-convert:hover {\n",
              "      background-color: #E2EBFA;\n",
              "      box-shadow: 0px 1px 2px rgba(60, 64, 67, 0.3), 0px 1px 3px 1px rgba(60, 64, 67, 0.15);\n",
              "      fill: #174EA6;\n",
              "    }\n",
              "\n",
              "    .colab-df-buttons div {\n",
              "      margin-bottom: 4px;\n",
              "    }\n",
              "\n",
              "    [theme=dark] .colab-df-convert {\n",
              "      background-color: #3B4455;\n",
              "      fill: #D2E3FC;\n",
              "    }\n",
              "\n",
              "    [theme=dark] .colab-df-convert:hover {\n",
              "      background-color: #434B5C;\n",
              "      box-shadow: 0px 1px 3px 1px rgba(0, 0, 0, 0.15);\n",
              "      filter: drop-shadow(0px 1px 2px rgba(0, 0, 0, 0.3));\n",
              "      fill: #FFFFFF;\n",
              "    }\n",
              "  </style>\n",
              "\n",
              "    <script>\n",
              "      const buttonEl =\n",
              "        document.querySelector('#df-b6a24365-34cd-4ee4-b0be-8863ea0f1f61 button.colab-df-convert');\n",
              "      buttonEl.style.display =\n",
              "        google.colab.kernel.accessAllowed ? 'block' : 'none';\n",
              "\n",
              "      async function convertToInteractive(key) {\n",
              "        const element = document.querySelector('#df-b6a24365-34cd-4ee4-b0be-8863ea0f1f61');\n",
              "        const dataTable =\n",
              "          await google.colab.kernel.invokeFunction('convertToInteractive',\n",
              "                                                    [key], {});\n",
              "        if (!dataTable) return;\n",
              "\n",
              "        const docLinkHtml = 'Like what you see? Visit the ' +\n",
              "          '<a target=\"_blank\" href=https://colab.research.google.com/notebooks/data_table.ipynb>data table notebook</a>'\n",
              "          + ' to learn more about interactive tables.';\n",
              "        element.innerHTML = '';\n",
              "        dataTable['output_type'] = 'display_data';\n",
              "        await google.colab.output.renderOutput(dataTable, element);\n",
              "        const docLink = document.createElement('div');\n",
              "        docLink.innerHTML = docLinkHtml;\n",
              "        element.appendChild(docLink);\n",
              "      }\n",
              "    </script>\n",
              "  </div>\n",
              "\n",
              "\n",
              "    <div id=\"df-d5e0add4-97c2-49d4-bd8a-137b3d5a498a\">\n",
              "      <button class=\"colab-df-quickchart\" onclick=\"quickchart('df-d5e0add4-97c2-49d4-bd8a-137b3d5a498a')\"\n",
              "                title=\"Suggest charts\"\n",
              "                style=\"display:none;\">\n",
              "\n",
              "<svg xmlns=\"http://www.w3.org/2000/svg\" height=\"24px\"viewBox=\"0 0 24 24\"\n",
              "     width=\"24px\">\n",
              "    <g>\n",
              "        <path d=\"M19 3H5c-1.1 0-2 .9-2 2v14c0 1.1.9 2 2 2h14c1.1 0 2-.9 2-2V5c0-1.1-.9-2-2-2zM9 17H7v-7h2v7zm4 0h-2V7h2v10zm4 0h-2v-4h2v4z\"/>\n",
              "    </g>\n",
              "</svg>\n",
              "      </button>\n",
              "\n",
              "<style>\n",
              "  .colab-df-quickchart {\n",
              "      --bg-color: #E8F0FE;\n",
              "      --fill-color: #1967D2;\n",
              "      --hover-bg-color: #E2EBFA;\n",
              "      --hover-fill-color: #174EA6;\n",
              "      --disabled-fill-color: #AAA;\n",
              "      --disabled-bg-color: #DDD;\n",
              "  }\n",
              "\n",
              "  [theme=dark] .colab-df-quickchart {\n",
              "      --bg-color: #3B4455;\n",
              "      --fill-color: #D2E3FC;\n",
              "      --hover-bg-color: #434B5C;\n",
              "      --hover-fill-color: #FFFFFF;\n",
              "      --disabled-bg-color: #3B4455;\n",
              "      --disabled-fill-color: #666;\n",
              "  }\n",
              "\n",
              "  .colab-df-quickchart {\n",
              "    background-color: var(--bg-color);\n",
              "    border: none;\n",
              "    border-radius: 50%;\n",
              "    cursor: pointer;\n",
              "    display: none;\n",
              "    fill: var(--fill-color);\n",
              "    height: 32px;\n",
              "    padding: 0;\n",
              "    width: 32px;\n",
              "  }\n",
              "\n",
              "  .colab-df-quickchart:hover {\n",
              "    background-color: var(--hover-bg-color);\n",
              "    box-shadow: 0 1px 2px rgba(60, 64, 67, 0.3), 0 1px 3px 1px rgba(60, 64, 67, 0.15);\n",
              "    fill: var(--button-hover-fill-color);\n",
              "  }\n",
              "\n",
              "  .colab-df-quickchart-complete:disabled,\n",
              "  .colab-df-quickchart-complete:disabled:hover {\n",
              "    background-color: var(--disabled-bg-color);\n",
              "    fill: var(--disabled-fill-color);\n",
              "    box-shadow: none;\n",
              "  }\n",
              "\n",
              "  .colab-df-spinner {\n",
              "    border: 2px solid var(--fill-color);\n",
              "    border-color: transparent;\n",
              "    border-bottom-color: var(--fill-color);\n",
              "    animation:\n",
              "      spin 1s steps(1) infinite;\n",
              "  }\n",
              "\n",
              "  @keyframes spin {\n",
              "    0% {\n",
              "      border-color: transparent;\n",
              "      border-bottom-color: var(--fill-color);\n",
              "      border-left-color: var(--fill-color);\n",
              "    }\n",
              "    20% {\n",
              "      border-color: transparent;\n",
              "      border-left-color: var(--fill-color);\n",
              "      border-top-color: var(--fill-color);\n",
              "    }\n",
              "    30% {\n",
              "      border-color: transparent;\n",
              "      border-left-color: var(--fill-color);\n",
              "      border-top-color: var(--fill-color);\n",
              "      border-right-color: var(--fill-color);\n",
              "    }\n",
              "    40% {\n",
              "      border-color: transparent;\n",
              "      border-right-color: var(--fill-color);\n",
              "      border-top-color: var(--fill-color);\n",
              "    }\n",
              "    60% {\n",
              "      border-color: transparent;\n",
              "      border-right-color: var(--fill-color);\n",
              "    }\n",
              "    80% {\n",
              "      border-color: transparent;\n",
              "      border-right-color: var(--fill-color);\n",
              "      border-bottom-color: var(--fill-color);\n",
              "    }\n",
              "    90% {\n",
              "      border-color: transparent;\n",
              "      border-bottom-color: var(--fill-color);\n",
              "    }\n",
              "  }\n",
              "</style>\n",
              "\n",
              "      <script>\n",
              "        async function quickchart(key) {\n",
              "          const quickchartButtonEl =\n",
              "            document.querySelector('#' + key + ' button');\n",
              "          quickchartButtonEl.disabled = true;  // To prevent multiple clicks.\n",
              "          quickchartButtonEl.classList.add('colab-df-spinner');\n",
              "          try {\n",
              "            const charts = await google.colab.kernel.invokeFunction(\n",
              "                'suggestCharts', [key], {});\n",
              "          } catch (error) {\n",
              "            console.error('Error during call to suggestCharts:', error);\n",
              "          }\n",
              "          quickchartButtonEl.classList.remove('colab-df-spinner');\n",
              "          quickchartButtonEl.classList.add('colab-df-quickchart-complete');\n",
              "        }\n",
              "        (() => {\n",
              "          let quickchartButtonEl =\n",
              "            document.querySelector('#df-d5e0add4-97c2-49d4-bd8a-137b3d5a498a button');\n",
              "          quickchartButtonEl.style.display =\n",
              "            google.colab.kernel.accessAllowed ? 'block' : 'none';\n",
              "        })();\n",
              "      </script>\n",
              "    </div>\n",
              "\n",
              "  <div id=\"id_b3e8a9e9-aabc-4546-91ae-78006ffe3422\">\n",
              "    <style>\n",
              "      .colab-df-generate {\n",
              "        background-color: #E8F0FE;\n",
              "        border: none;\n",
              "        border-radius: 50%;\n",
              "        cursor: pointer;\n",
              "        display: none;\n",
              "        fill: #1967D2;\n",
              "        height: 32px;\n",
              "        padding: 0 0 0 0;\n",
              "        width: 32px;\n",
              "      }\n",
              "\n",
              "      .colab-df-generate:hover {\n",
              "        background-color: #E2EBFA;\n",
              "        box-shadow: 0px 1px 2px rgba(60, 64, 67, 0.3), 0px 1px 3px 1px rgba(60, 64, 67, 0.15);\n",
              "        fill: #174EA6;\n",
              "      }\n",
              "\n",
              "      [theme=dark] .colab-df-generate {\n",
              "        background-color: #3B4455;\n",
              "        fill: #D2E3FC;\n",
              "      }\n",
              "\n",
              "      [theme=dark] .colab-df-generate:hover {\n",
              "        background-color: #434B5C;\n",
              "        box-shadow: 0px 1px 3px 1px rgba(0, 0, 0, 0.15);\n",
              "        filter: drop-shadow(0px 1px 2px rgba(0, 0, 0, 0.3));\n",
              "        fill: #FFFFFF;\n",
              "      }\n",
              "    </style>\n",
              "    <button class=\"colab-df-generate\" onclick=\"generateWithVariable('balanced_df')\"\n",
              "            title=\"Generate code using this dataframe.\"\n",
              "            style=\"display:none;\">\n",
              "\n",
              "  <svg xmlns=\"http://www.w3.org/2000/svg\" height=\"24px\"viewBox=\"0 0 24 24\"\n",
              "       width=\"24px\">\n",
              "    <path d=\"M7,19H8.4L18.45,9,17,7.55,7,17.6ZM5,21V16.75L18.45,3.32a2,2,0,0,1,2.83,0l1.4,1.43a1.91,1.91,0,0,1,.58,1.4,1.91,1.91,0,0,1-.58,1.4L9.25,21ZM18.45,9,17,7.55Zm-12,3A5.31,5.31,0,0,0,4.9,8.1,5.31,5.31,0,0,0,1,6.5,5.31,5.31,0,0,0,4.9,4.9,5.31,5.31,0,0,0,6.5,1,5.31,5.31,0,0,0,8.1,4.9,5.31,5.31,0,0,0,12,6.5,5.46,5.46,0,0,0,6.5,12Z\"/>\n",
              "  </svg>\n",
              "    </button>\n",
              "    <script>\n",
              "      (() => {\n",
              "      const buttonEl =\n",
              "        document.querySelector('#id_b3e8a9e9-aabc-4546-91ae-78006ffe3422 button.colab-df-generate');\n",
              "      buttonEl.style.display =\n",
              "        google.colab.kernel.accessAllowed ? 'block' : 'none';\n",
              "\n",
              "      buttonEl.onclick = () => {\n",
              "        google.colab.notebook.generateWithVariable('balanced_df');\n",
              "      }\n",
              "      })();\n",
              "    </script>\n",
              "  </div>\n",
              "\n",
              "    </div>\n",
              "  </div>\n"
            ],
            "application/vnd.google.colaboratory.intrinsic+json": {
              "type": "dataframe",
              "variable_name": "balanced_df",
              "summary": "{\n  \"name\": \"balanced_df\",\n  \"rows\": 1570,\n  \"fields\": [\n    {\n      \"column\": \"fault\",\n      \"properties\": {\n        \"dtype\": \"category\",\n        \"num_unique_values\": 8,\n        \"samples\": [\n          \"F2_IR009_20db\",\n          \"F6_OR013_20db\",\n          \"F1_IR007_20db\"\n        ],\n        \"semantic_type\": \"\",\n        \"description\": \"\"\n      }\n    },\n    {\n      \"column\": \"window\",\n      \"properties\": {\n        \"dtype\": \"number\",\n        \"std\": 81,\n        \"min\": 1,\n        \"max\": 308,\n        \"num_unique_values\": 271,\n        \"samples\": [\n          159,\n          148,\n          93\n        ],\n        \"semantic_type\": \"\",\n        \"description\": \"\"\n      }\n    },\n    {\n      \"column\": \"mean\",\n      \"properties\": {\n        \"dtype\": \"number\",\n        \"std\": 0.030842403699174598,\n        \"min\": 0.055960670893611,\n        \"max\": 0.2368562302890201,\n        \"num_unique_values\": 1568,\n        \"samples\": [\n          0.1198113914104218,\n          0.1691841947501065,\n          0.1492201119311902\n        ],\n        \"semantic_type\": \"\",\n        \"description\": \"\"\n      }\n    },\n    {\n      \"column\": \"std\",\n      \"properties\": {\n        \"dtype\": \"number\",\n        \"std\": 0.22728279417303784,\n        \"min\": 0.6999433292695851,\n        \"max\": 1.539413279065796,\n        \"num_unique_values\": 1568,\n        \"samples\": [\n          1.0594024267354147,\n          0.7759376725561403,\n          0.8501295612888783\n        ],\n        \"semantic_type\": \"\",\n        \"description\": \"\"\n      }\n    },\n    {\n      \"column\": \"rms\",\n      \"properties\": {\n        \"dtype\": \"number\",\n        \"std\": 0.2249921003093491,\n        \"min\": 0.7143478235715267,\n        \"max\": 1.5528979020636198,\n        \"num_unique_values\": 1568,\n        \"samples\": [\n          1.0661558381796663,\n          0.794167843371338,\n          0.8631262438264622\n        ],\n        \"semantic_type\": \"\",\n        \"description\": \"\"\n      }\n    },\n    {\n      \"column\": \"max\",\n      \"properties\": {\n        \"dtype\": \"number\",\n        \"std\": 0.22571690990730967,\n        \"min\": 1.4582659863789298,\n        \"max\": 2.6212571331763583,\n        \"num_unique_values\": 1437,\n        \"samples\": [\n          2.0999637586426703,\n          2.1288976389844447,\n          2.08674290674554\n        ],\n        \"semantic_type\": \"\",\n        \"description\": \"\"\n      }\n    },\n    {\n      \"column\": \"min\",\n      \"properties\": {\n        \"dtype\": \"number\",\n        \"std\": 0.29383193249000467,\n        \"min\": -2.532795943394029,\n        \"max\": -1.1515082292726548,\n        \"num_unique_values\": 1434,\n        \"samples\": [\n          -1.6573658857304323,\n          -1.6336733860389114,\n          -1.8306234072718088\n        ],\n        \"semantic_type\": \"\",\n        \"description\": \"\"\n      }\n    },\n    {\n      \"column\": \"skewness\",\n      \"properties\": {\n        \"dtype\": \"number\",\n        \"std\": 0.09652849903877833,\n        \"min\": -0.3127475827409901,\n        \"max\": 0.3455566437248003,\n        \"num_unique_values\": 1568,\n        \"samples\": [\n          -0.0115396716401432,\n          -0.0413629539523646,\n          0.069754204646538\n        ],\n        \"semantic_type\": \"\",\n        \"description\": \"\"\n      }\n    },\n    {\n      \"column\": \"kurtosis\",\n      \"properties\": {\n        \"dtype\": \"number\",\n        \"std\": 0.23863639632472117,\n        \"min\": -1.5933401878957243,\n        \"max\": -0.5710224231837482,\n        \"num_unique_values\": 1568,\n        \"samples\": [\n          -1.4076032117506263,\n          -0.9451796815217808,\n          -0.9178237870187737\n        ],\n        \"semantic_type\": \"\",\n        \"description\": \"\"\n      }\n    },\n    {\n      \"column\": \"form_factor\",\n      \"properties\": {\n        \"dtype\": \"number\",\n        \"std\": 0.03275925230504893,\n        \"min\": 1.0836389204986128,\n        \"max\": 1.2214352554988233,\n        \"num_unique_values\": 1568,\n        \"samples\": [\n          1.130777512006594,\n          1.175384209178661,\n          1.184637479704331\n        ],\n        \"semantic_type\": \"\",\n        \"description\": \"\"\n      }\n    },\n    {\n      \"column\": \"crest_factor\",\n      \"properties\": {\n        \"dtype\": \"number\",\n        \"std\": 0.3519515428712353,\n        \"min\": 1.4941209710363343,\n        \"max\": 2.9291955217821,\n        \"num_unique_values\": 1568,\n        \"samples\": [\n          1.7933822206953696,\n          2.6247573004014297,\n          2.4281867124046115\n        ],\n        \"semantic_type\": \"\",\n        \"description\": \"\"\n      }\n    }\n  ]\n}"
            }
          },
          "metadata": {},
          "execution_count": 16
        }
      ]
    },
    {
      "cell_type": "code",
      "source": [
        "import pandas as pd\n",
        "from sklearn.preprocessing import StandardScaler\n",
        "from sklearn.manifold import TSNE\n",
        "import matplotlib.pyplot as plt\n",
        "\n",
        "\n",
        "# Sort the dataset by the 'Fault' column\n",
        "balanced_df = balanced_df.sort_values(by='fault')\n",
        "\n",
        "# Separate features and target variable\n",
        "X = balanced_df.drop(columns=['fault'])  # Replace 'Fault' with actual target column name\n",
        "y = balanced_df['fault']\n",
        "\n",
        "# Normalize the feature columns using StandardScaler\n",
        "scaler = StandardScaler()\n",
        "X_normalized = pd.DataFrame(scaler.fit_transform(X), columns=X.columns)\n",
        "\n",
        "# Concatenate the normalized features with the target variable\n",
        "STAT_Motor_Fault_dataset_normalized = pd.concat([X_normalized, y.reset_index(drop=True)], axis=1)\n",
        "\n",
        "# Sort the normalized dataset by 'Fault' column\n",
        "STAT_Motor_Fault_dataset_normalized = STAT_Motor_Fault_dataset_normalized.sort_values(by='fault')\n",
        "\n",
        "# Apply t-SNE for dimensionality reduction\n",
        "tsne = TSNE(n_components=2, random_state=42)  # 2D t-SNE\n",
        "X_tsne = tsne.fit_transform(X_normalized)\n",
        "\n",
        "# Create a DataFrame for t-SNE results\n",
        "tSNE_representation = pd.DataFrame(X_tsne, columns=['t-SNE 1', 't-SNE 2'])\n",
        "tSNE_representation['fault'] = y.reset_index(drop=True)\n",
        "\n",
        "# Display the t-SNE representation\n",
        "print(tSNE_representation.head())\n",
        "\n",
        "# Optional: Visualization of t-SNE representation\n",
        "plt.figure(figsize=(8, 6))\n",
        "for label in tSNE_representation['fault'].unique():\n",
        "    subset = tSNE_representation[tSNE_representation['fault'] == label]\n",
        "    plt.scatter(subset['t-SNE 1'], subset['t-SNE 2'], label=f'fault {label}', alpha=0.7)\n",
        "\n",
        "plt.title('t-SNE Representation of Motor Fault Dataset')\n",
        "plt.xlabel('t-SNE 1')\n",
        "plt.ylabel('t-SNE 2')\n",
        "plt.legend()\n",
        "plt.show()\n"
      ],
      "metadata": {
        "id": "tV7aspjE3R4f",
        "outputId": "47bd11b9-b985-4b71-daa3-2476a309653f",
        "colab": {
          "base_uri": "https://localhost:8080/",
          "height": 668
        }
      },
      "id": "tV7aspjE3R4f",
      "execution_count": 17,
      "outputs": [
        {
          "output_type": "stream",
          "name": "stdout",
          "text": [
            "     t-SNE 1   t-SNE 2          fault\n",
            "0  51.071079  5.610871  F1_IR007_20db\n",
            "1  43.022900  4.338718  F1_IR007_20db\n",
            "2  46.546562 -1.470179  F1_IR007_20db\n",
            "3  51.426228  0.925326  F1_IR007_20db\n",
            "4  42.738461  2.095844  F1_IR007_20db\n"
          ]
        },
        {
          "output_type": "display_data",
          "data": {
            "text/plain": [
              "<Figure size 800x600 with 1 Axes>"
            ],
            "image/png": "[encoded data removed]"
          },
          "metadata": {}
        }
      ]
    },
    {
      "cell_type": "code",
      "source": [
        "tSNE_representation"
      ],
      "metadata": {
        "id": "QMwOLwssDgHU",
        "outputId": "e246ed78-3822-4946-f226-ae6c9f795b76",
        "colab": {
          "base_uri": "https://localhost:8080/",
          "height": 424
        }
      },
      "id": "QMwOLwssDgHU",
      "execution_count": 18,
      "outputs": [
        {
          "output_type": "execute_result",
          "data": {
            "text/plain": [
              "        t-SNE 1    t-SNE 2           fault\n",
              "0     51.071079   5.610871   F1_IR007_20db\n",
              "1     43.022900   4.338718   F1_IR007_20db\n",
              "2     46.546562  -1.470179   F1_IR007_20db\n",
              "3     51.426228   0.925326   F1_IR007_20db\n",
              "4     42.738461   2.095844   F1_IR007_20db\n",
              "...         ...        ...             ...\n",
              "1565  29.721308 -34.507267  F8_Normal_20db\n",
              "1566  27.040859 -18.460903  F8_Normal_20db\n",
              "1567  30.809752 -23.361097  F8_Normal_20db\n",
              "1568  28.022245 -35.173119  F8_Normal_20db\n",
              "1569  26.435881 -24.467922  F8_Normal_20db\n",
              "\n",
              "[1570 rows x 3 columns]"
            ],
            "text/html": [
              "\n",
              "  <div id=\"df-fe73fe35-43f4-469b-832b-83a03fc959dd\" class=\"colab-df-container\">\n",
              "    <div>\n",
              "<style scoped>\n",
              "    .dataframe tbody tr th:only-of-type {\n",
              "        vertical-align: middle;\n",
              "    }\n",
              "\n",
              "    .dataframe tbody tr th {\n",
              "        vertical-align: top;\n",
              "    }\n",
              "\n",
              "    .dataframe thead th {\n",
              "        text-align: right;\n",
              "    }\n",
              "</style>\n",
              "<table border=\"1\" class=\"dataframe\">\n",
              "  <thead>\n",
              "    <tr style=\"text-align: right;\">\n",
              "      <th></th>\n",
              "      <th>t-SNE 1</th>\n",
              "      <th>t-SNE 2</th>\n",
              "      <th>fault</th>\n",
              "    </tr>\n",
              "  </thead>\n",
              "  <tbody>\n",
              "    <tr>\n",
              "      <th>0</th>\n",
              "      <td>51.071079</td>\n",
              "      <td>5.610871</td>\n",
              "      <td>F1_IR007_20db</td>\n",
              "    </tr>\n",
              "    <tr>\n",
              "      <th>1</th>\n",
              "      <td>43.022900</td>\n",
              "      <td>4.338718</td>\n",
              "      <td>F1_IR007_20db</td>\n",
              "    </tr>\n",
              "    <tr>\n",
              "      <th>2</th>\n",
              "      <td>46.546562</td>\n",
              "      <td>-1.470179</td>\n",
              "      <td>F1_IR007_20db</td>\n",
              "    </tr>\n",
              "    <tr>\n",
              "      <th>3</th>\n",
              "      <td>51.426228</td>\n",
              "      <td>0.925326</td>\n",
              "      <td>F1_IR007_20db</td>\n",
              "    </tr>\n",
              "    <tr>\n",
              "      <th>4</th>\n",
              "      <td>42.738461</td>\n",
              "      <td>2.095844</td>\n",
              "      <td>F1_IR007_20db</td>\n",
              "    </tr>\n",
              "    <tr>\n",
              "      <th>...</th>\n",
              "      <td>...</td>\n",
              "      <td>...</td>\n",
              "      <td>...</td>\n",
              "    </tr>\n",
              "    <tr>\n",
              "      <th>1565</th>\n",
              "      <td>29.721308</td>\n",
              "      <td>-34.507267</td>\n",
              "      <td>F8_Normal_20db</td>\n",
              "    </tr>\n",
              "    <tr>\n",
              "      <th>1566</th>\n",
              "      <td>27.040859</td>\n",
              "      <td>-18.460903</td>\n",
              "      <td>F8_Normal_20db</td>\n",
              "    </tr>\n",
              "    <tr>\n",
              "      <th>1567</th>\n",
              "      <td>30.809752</td>\n",
              "      <td>-23.361097</td>\n",
              "      <td>F8_Normal_20db</td>\n",
              "    </tr>\n",
              "    <tr>\n",
              "      <th>1568</th>\n",
              "      <td>28.022245</td>\n",
              "      <td>-35.173119</td>\n",
              "      <td>F8_Normal_20db</td>\n",
              "    </tr>\n",
              "    <tr>\n",
              "      <th>1569</th>\n",
              "      <td>26.435881</td>\n",
              "      <td>-24.467922</td>\n",
              "      <td>F8_Normal_20db</td>\n",
              "    </tr>\n",
              "  </tbody>\n",
              "</table>\n",
              "<p>1570 rows × 3 columns</p>\n",
              "</div>\n",
              "    <div class=\"colab-df-buttons\">\n",
              "\n",
              "  <div class=\"colab-df-container\">\n",
              "    <button class=\"colab-df-convert\" onclick=\"convertToInteractive('df-fe73fe35-43f4-469b-832b-83a03fc959dd')\"\n",
              "            title=\"Convert this dataframe to an interactive table.\"\n",
              "            style=\"display:none;\">\n",
              "\n",
              "  <svg xmlns=\"http://www.w3.org/2000/svg\" height=\"24px\" viewBox=\"0 -960 960 960\">\n",
              "    <path d=\"M120-120v-720h720v720H120Zm60-500h600v-160H180v160Zm220 220h160v-160H400v160Zm0 220h160v-160H400v160ZM180-400h160v-160H180v160Zm440 0h160v-160H620v160ZM180-180h160v-160H180v160Zm440 0h160v-160H620v160Z\"/>\n",
              "  </svg>\n",
              "    </button>\n",
              "\n",
              "  <style>\n",
              "    .colab-df-container {\n",
              "      display:flex;\n",
              "      gap: 12px;\n",
              "    }\n",
              "\n",
              "    .colab-df-convert {\n",
              "      background-color: #E8F0FE;\n",
              "      border: none;\n",
              "      border-radius: 50%;\n",
              "      cursor: pointer;\n",
              "      display: none;\n",
              "      fill: #1967D2;\n",
              "      height: 32px;\n",
              "      padding: 0 0 0 0;\n",
              "      width: 32px;\n",
              "    }\n",
              "\n",
              "    .colab-df-convert:hover {\n",
              "      background-color: #E2EBFA;\n",
              "      box-shadow: 0px 1px 2px rgba(60, 64, 67, 0.3), 0px 1px 3px 1px rgba(60, 64, 67, 0.15);\n",
              "      fill: #174EA6;\n",
              "    }\n",
              "\n",
              "    .colab-df-buttons div {\n",
              "      margin-bottom: 4px;\n",
              "    }\n",
              "\n",
              "    [theme=dark] .colab-df-convert {\n",
              "      background-color: #3B4455;\n",
              "      fill: #D2E3FC;\n",
              "    }\n",
              "\n",
              "    [theme=dark] .colab-df-convert:hover {\n",
              "      background-color: #434B5C;\n",
              "      box-shadow: 0px 1px 3px 1px rgba(0, 0, 0, 0.15);\n",
              "      filter: drop-shadow(0px 1px 2px rgba(0, 0, 0, 0.3));\n",
              "      fill: #FFFFFF;\n",
              "    }\n",
              "  </style>\n",
              "\n",
              "    <script>\n",
              "      const buttonEl =\n",
              "        document.querySelector('#df-fe73fe35-43f4-469b-832b-83a03fc959dd button.colab-df-convert');\n",
              "      buttonEl.style.display =\n",
              "        google.colab.kernel.accessAllowed ? 'block' : 'none';\n",
              "\n",
              "      async function convertToInteractive(key) {\n",
              "        const element = document.querySelector('#df-fe73fe35-43f4-469b-832b-83a03fc959dd');\n",
              "        const dataTable =\n",
              "          await google.colab.kernel.invokeFunction('convertToInteractive',\n",
              "                                                    [key], {});\n",
              "        if (!dataTable) return;\n",
              "\n",
              "        const docLinkHtml = 'Like what you see? Visit the ' +\n",
              "          '<a target=\"_blank\" href=https://colab.research.google.com/notebooks/data_table.ipynb>data table notebook</a>'\n",
              "          + ' to learn more about interactive tables.';\n",
              "        element.innerHTML = '';\n",
              "        dataTable['output_type'] = 'display_data';\n",
              "        await google.colab.output.renderOutput(dataTable, element);\n",
              "        const docLink = document.createElement('div');\n",
              "        docLink.innerHTML = docLinkHtml;\n",
              "        element.appendChild(docLink);\n",
              "      }\n",
              "    </script>\n",
              "  </div>\n",
              "\n",
              "\n",
              "    <div id=\"df-1a2a8e48-2b88-4e40-b67b-a0a1b14b4911\">\n",
              "      <button class=\"colab-df-quickchart\" onclick=\"quickchart('df-1a2a8e48-2b88-4e40-b67b-a0a1b14b4911')\"\n",
              "                title=\"Suggest charts\"\n",
              "                style=\"display:none;\">\n",
              "\n",
              "<svg xmlns=\"http://www.w3.org/2000/svg\" height=\"24px\"viewBox=\"0 0 24 24\"\n",
              "     width=\"24px\">\n",
              "    <g>\n",
              "        <path d=\"M19 3H5c-1.1 0-2 .9-2 2v14c0 1.1.9 2 2 2h14c1.1 0 2-.9 2-2V5c0-1.1-.9-2-2-2zM9 17H7v-7h2v7zm4 0h-2V7h2v10zm4 0h-2v-4h2v4z\"/>\n",
              "    </g>\n",
              "</svg>\n",
              "      </button>\n",
              "\n",
              "<style>\n",
              "  .colab-df-quickchart {\n",
              "      --bg-color: #E8F0FE;\n",
              "      --fill-color: #1967D2;\n",
              "      --hover-bg-color: #E2EBFA;\n",
              "      --hover-fill-color: #174EA6;\n",
              "      --disabled-fill-color: #AAA;\n",
              "      --disabled-bg-color: #DDD;\n",
              "  }\n",
              "\n",
              "  [theme=dark] .colab-df-quickchart {\n",
              "      --bg-color: #3B4455;\n",
              "      --fill-color: #D2E3FC;\n",
              "      --hover-bg-color: #434B5C;\n",
              "      --hover-fill-color: #FFFFFF;\n",
              "      --disabled-bg-color: #3B4455;\n",
              "      --disabled-fill-color: #666;\n",
              "  }\n",
              "\n",
              "  .colab-df-quickchart {\n",
              "    background-color: var(--bg-color);\n",
              "    border: none;\n",
              "    border-radius: 50%;\n",
              "    cursor: pointer;\n",
              "    display: none;\n",
              "    fill: var(--fill-color);\n",
              "    height: 32px;\n",
              "    padding: 0;\n",
              "    width: 32px;\n",
              "  }\n",
              "\n",
              "  .colab-df-quickchart:hover {\n",
              "    background-color: var(--hover-bg-color);\n",
              "    box-shadow: 0 1px 2px rgba(60, 64, 67, 0.3), 0 1px 3px 1px rgba(60, 64, 67, 0.15);\n",
              "    fill: var(--button-hover-fill-color);\n",
              "  }\n",
              "\n",
              "  .colab-df-quickchart-complete:disabled,\n",
              "  .colab-df-quickchart-complete:disabled:hover {\n",
              "    background-color: var(--disabled-bg-color);\n",
              "    fill: var(--disabled-fill-color);\n",
              "    box-shadow: none;\n",
              "  }\n",
              "\n",
              "  .colab-df-spinner {\n",
              "    border: 2px solid var(--fill-color);\n",
              "    border-color: transparent;\n",
              "    border-bottom-color: var(--fill-color);\n",
              "    animation:\n",
              "      spin 1s steps(1) infinite;\n",
              "  }\n",
              "\n",
              "  @keyframes spin {\n",
              "    0% {\n",
              "      border-color: transparent;\n",
              "      border-bottom-color: var(--fill-color);\n",
              "      border-left-color: var(--fill-color);\n",
              "    }\n",
              "    20% {\n",
              "      border-color: transparent;\n",
              "      border-left-color: var(--fill-color);\n",
              "      border-top-color: var(--fill-color);\n",
              "    }\n",
              "    30% {\n",
              "      border-color: transparent;\n",
              "      border-left-color: var(--fill-color);\n",
              "      border-top-color: var(--fill-color);\n",
              "      border-right-color: var(--fill-color);\n",
              "    }\n",
              "    40% {\n",
              "      border-color: transparent;\n",
              "      border-right-color: var(--fill-color);\n",
              "      border-top-color: var(--fill-color);\n",
              "    }\n",
              "    60% {\n",
              "      border-color: transparent;\n",
              "      border-right-color: var(--fill-color);\n",
              "    }\n",
              "    80% {\n",
              "      border-color: transparent;\n",
              "      border-right-color: var(--fill-color);\n",
              "      border-bottom-color: var(--fill-color);\n",
              "    }\n",
              "    90% {\n",
              "      border-color: transparent;\n",
              "      border-bottom-color: var(--fill-color);\n",
              "    }\n",
              "  }\n",
              "</style>\n",
              "\n",
              "      <script>\n",
              "        async function quickchart(key) {\n",
              "          const quickchartButtonEl =\n",
              "            document.querySelector('#' + key + ' button');\n",
              "          quickchartButtonEl.disabled = true;  // To prevent multiple clicks.\n",
              "          quickchartButtonEl.classList.add('colab-df-spinner');\n",
              "          try {\n",
              "            const charts = await google.colab.kernel.invokeFunction(\n",
              "                'suggestCharts', [key], {});\n",
              "          } catch (error) {\n",
              "            console.error('Error during call to suggestCharts:', error);\n",
              "          }\n",
              "          quickchartButtonEl.classList.remove('colab-df-spinner');\n",
              "          quickchartButtonEl.classList.add('colab-df-quickchart-complete');\n",
              "        }\n",
              "        (() => {\n",
              "          let quickchartButtonEl =\n",
              "            document.querySelector('#df-1a2a8e48-2b88-4e40-b67b-a0a1b14b4911 button');\n",
              "          quickchartButtonEl.style.display =\n",
              "            google.colab.kernel.accessAllowed ? 'block' : 'none';\n",
              "        })();\n",
              "      </script>\n",
              "    </div>\n",
              "\n",
              "  <div id=\"id_22cdfb21-0da9-404a-90d0-52a96e4f7f29\">\n",
              "    <style>\n",
              "      .colab-df-generate {\n",
              "        background-color: #E8F0FE;\n",
              "        border: none;\n",
              "        border-radius: 50%;\n",
              "        cursor: pointer;\n",
              "        display: none;\n",
              "        fill: #1967D2;\n",
              "        height: 32px;\n",
              "        padding: 0 0 0 0;\n",
              "        width: 32px;\n",
              "      }\n",
              "\n",
              "      .colab-df-generate:hover {\n",
              "        background-color: #E2EBFA;\n",
              "        box-shadow: 0px 1px 2px rgba(60, 64, 67, 0.3), 0px 1px 3px 1px rgba(60, 64, 67, 0.15);\n",
              "        fill: #174EA6;\n",
              "      }\n",
              "\n",
              "      [theme=dark] .colab-df-generate {\n",
              "        background-color: #3B4455;\n",
              "        fill: #D2E3FC;\n",
              "      }\n",
              "\n",
              "      [theme=dark] .colab-df-generate:hover {\n",
              "        background-color: #434B5C;\n",
              "        box-shadow: 0px 1px 3px 1px rgba(0, 0, 0, 0.15);\n",
              "        filter: drop-shadow(0px 1px 2px rgba(0, 0, 0, 0.3));\n",
              "        fill: #FFFFFF;\n",
              "      }\n",
              "    </style>\n",
              "    <button class=\"colab-df-generate\" onclick=\"generateWithVariable('tSNE_representation')\"\n",
              "            title=\"Generate code using this dataframe.\"\n",
              "            style=\"display:none;\">\n",
              "\n",
              "  <svg xmlns=\"http://www.w3.org/2000/svg\" height=\"24px\"viewBox=\"0 0 24 24\"\n",
              "       width=\"24px\">\n",
              "    <path d=\"M7,19H8.4L18.45,9,17,7.55,7,17.6ZM5,21V16.75L18.45,3.32a2,2,0,0,1,2.83,0l1.4,1.43a1.91,1.91,0,0,1,.58,1.4,1.91,1.91,0,0,1-.58,1.4L9.25,21ZM18.45,9,17,7.55Zm-12,3A5.31,5.31,0,0,0,4.9,8.1,5.31,5.31,0,0,0,1,6.5,5.31,5.31,0,0,0,4.9,4.9,5.31,5.31,0,0,0,6.5,1,5.31,5.31,0,0,0,8.1,4.9,5.31,5.31,0,0,0,12,6.5,5.46,5.46,0,0,0,6.5,12Z\"/>\n",
              "  </svg>\n",
              "    </button>\n",
              "    <script>\n",
              "      (() => {\n",
              "      const buttonEl =\n",
              "        document.querySelector('#id_22cdfb21-0da9-404a-90d0-52a96e4f7f29 button.colab-df-generate');\n",
              "      buttonEl.style.display =\n",
              "        google.colab.kernel.accessAllowed ? 'block' : 'none';\n",
              "\n",
              "      buttonEl.onclick = () => {\n",
              "        google.colab.notebook.generateWithVariable('tSNE_representation');\n",
              "      }\n",
              "      })();\n",
              "    </script>\n",
              "  </div>\n",
              "\n",
              "    </div>\n",
              "  </div>\n"
            ],
            "application/vnd.google.colaboratory.intrinsic+json": {
              "type": "dataframe",
              "variable_name": "tSNE_representation",
              "summary": "{\n  \"name\": \"tSNE_representation\",\n  \"rows\": 1570,\n  \"fields\": [\n    {\n      \"column\": \"t-SNE 1\",\n      \"properties\": {\n        \"dtype\": \"float32\",\n        \"num_unique_values\": 1569,\n        \"samples\": [\n          32.0101432800293,\n          -19.5967960357666,\n          -2.299098253250122\n        ],\n        \"semantic_type\": \"\",\n        \"description\": \"\"\n      }\n    },\n    {\n      \"column\": \"t-SNE 2\",\n      \"properties\": {\n        \"dtype\": \"float32\",\n        \"num_unique_values\": 1570,\n        \"samples\": [\n          -23.599916458129883,\n          -15.426945686340332,\n          0.9440705180168152\n        ],\n        \"semantic_type\": \"\",\n        \"description\": \"\"\n      }\n    },\n    {\n      \"column\": \"fault\",\n      \"properties\": {\n        \"dtype\": \"category\",\n        \"num_unique_values\": 8,\n        \"samples\": [\n          \"F2_IR009_20db\",\n          \"F6_OR013_20db\",\n          \"F1_IR007_20db\"\n        ],\n        \"semantic_type\": \"\",\n        \"description\": \"\"\n      }\n    }\n  ]\n}"
            }
          },
          "metadata": {},
          "execution_count": 18
        }
      ]
    },
    {
      "cell_type": "code",
      "source": [
        "tSNE_representation=tSNE_representation.drop(columns=['fault'])\n",
        "tSNE_representation"
      ],
      "metadata": {
        "id": "Pybzwduy8nhv",
        "outputId": "19b65cc0-c001-4166-86eb-eeab8d12a34c",
        "colab": {
          "base_uri": "https://localhost:8080/",
          "height": 424
        }
      },
      "id": "Pybzwduy8nhv",
      "execution_count": 19,
      "outputs": [
        {
          "output_type": "execute_result",
          "data": {
            "text/plain": [
              "        t-SNE 1    t-SNE 2\n",
              "0     51.071079   5.610871\n",
              "1     43.022900   4.338718\n",
              "2     46.546562  -1.470179\n",
              "3     51.426228   0.925326\n",
              "4     42.738461   2.095844\n",
              "...         ...        ...\n",
              "1565  29.721308 -34.507267\n",
              "1566  27.040859 -18.460903\n",
              "1567  30.809752 -23.361097\n",
              "1568  28.022245 -35.173119\n",
              "1569  26.435881 -24.467922\n",
              "\n",
              "[1570 rows x 2 columns]"
            ],
            "text/html": [
              "\n",
              "  <div id=\"df-89fd912d-9e41-40a4-b4ff-bbb323c688c7\" class=\"colab-df-container\">\n",
              "    <div>\n",
              "<style scoped>\n",
              "    .dataframe tbody tr th:only-of-type {\n",
              "        vertical-align: middle;\n",
              "    }\n",
              "\n",
              "    .dataframe tbody tr th {\n",
              "        vertical-align: top;\n",
              "    }\n",
              "\n",
              "    .dataframe thead th {\n",
              "        text-align: right;\n",
              "    }\n",
              "</style>\n",
              "<table border=\"1\" class=\"dataframe\">\n",
              "  <thead>\n",
              "    <tr style=\"text-align: right;\">\n",
              "      <th></th>\n",
              "      <th>t-SNE 1</th>\n",
              "      <th>t-SNE 2</th>\n",
              "    </tr>\n",
              "  </thead>\n",
              "  <tbody>\n",
              "    <tr>\n",
              "      <th>0</th>\n",
              "      <td>51.071079</td>\n",
              "      <td>5.610871</td>\n",
              "    </tr>\n",
              "    <tr>\n",
              "      <th>1</th>\n",
              "      <td>43.022900</td>\n",
              "      <td>4.338718</td>\n",
              "    </tr>\n",
              "    <tr>\n",
              "      <th>2</th>\n",
              "      <td>46.546562</td>\n",
              "      <td>-1.470179</td>\n",
              "    </tr>\n",
              "    <tr>\n",
              "      <th>3</th>\n",
              "      <td>51.426228</td>\n",
              "      <td>0.925326</td>\n",
              "    </tr>\n",
              "    <tr>\n",
              "      <th>4</th>\n",
              "      <td>42.738461</td>\n",
              "      <td>2.095844</td>\n",
              "    </tr>\n",
              "    <tr>\n",
              "      <th>...</th>\n",
              "      <td>...</td>\n",
              "      <td>...</td>\n",
              "    </tr>\n",
              "    <tr>\n",
              "      <th>1565</th>\n",
              "      <td>29.721308</td>\n",
              "      <td>-34.507267</td>\n",
              "    </tr>\n",
              "    <tr>\n",
              "      <th>1566</th>\n",
              "      <td>27.040859</td>\n",
              "      <td>-18.460903</td>\n",
              "    </tr>\n",
              "    <tr>\n",
              "      <th>1567</th>\n",
              "      <td>30.809752</td>\n",
              "      <td>-23.361097</td>\n",
              "    </tr>\n",
              "    <tr>\n",
              "      <th>1568</th>\n",
              "      <td>28.022245</td>\n",
              "      <td>-35.173119</td>\n",
              "    </tr>\n",
              "    <tr>\n",
              "      <th>1569</th>\n",
              "      <td>26.435881</td>\n",
              "      <td>-24.467922</td>\n",
              "    </tr>\n",
              "  </tbody>\n",
              "</table>\n",
              "<p>1570 rows × 2 columns</p>\n",
              "</div>\n",
              "    <div class=\"colab-df-buttons\">\n",
              "\n",
              "  <div class=\"colab-df-container\">\n",
              "    <button class=\"colab-df-convert\" onclick=\"convertToInteractive('df-89fd912d-9e41-40a4-b4ff-bbb323c688c7')\"\n",
              "            title=\"Convert this dataframe to an interactive table.\"\n",
              "            style=\"display:none;\">\n",
              "\n",
              "  <svg xmlns=\"http://www.w3.org/2000/svg\" height=\"24px\" viewBox=\"0 -960 960 960\">\n",
              "    <path d=\"M120-120v-720h720v720H120Zm60-500h600v-160H180v160Zm220 220h160v-160H400v160Zm0 220h160v-160H400v160ZM180-400h160v-160H180v160Zm440 0h160v-160H620v160ZM180-180h160v-160H180v160Zm440 0h160v-160H620v160Z\"/>\n",
              "  </svg>\n",
              "    </button>\n",
              "\n",
              "  <style>\n",
              "    .colab-df-container {\n",
              "      display:flex;\n",
              "      gap: 12px;\n",
              "    }\n",
              "\n",
              "    .colab-df-convert {\n",
              "      background-color: #E8F0FE;\n",
              "      border: none;\n",
              "      border-radius: 50%;\n",
              "      cursor: pointer;\n",
              "      display: none;\n",
              "      fill: #1967D2;\n",
              "      height: 32px;\n",
              "      padding: 0 0 0 0;\n",
              "      width: 32px;\n",
              "    }\n",
              "\n",
              "    .colab-df-convert:hover {\n",
              "      background-color: #E2EBFA;\n",
              "      box-shadow: 0px 1px 2px rgba(60, 64, 67, 0.3), 0px 1px 3px 1px rgba(60, 64, 67, 0.15);\n",
              "      fill: #174EA6;\n",
              "    }\n",
              "\n",
              "    .colab-df-buttons div {\n",
              "      margin-bottom: 4px;\n",
              "    }\n",
              "\n",
              "    [theme=dark] .colab-df-convert {\n",
              "      background-color: #3B4455;\n",
              "      fill: #D2E3FC;\n",
              "    }\n",
              "\n",
              "    [theme=dark] .colab-df-convert:hover {\n",
              "      background-color: #434B5C;\n",
              "      box-shadow: 0px 1px 3px 1px rgba(0, 0, 0, 0.15);\n",
              "      filter: drop-shadow(0px 1px 2px rgba(0, 0, 0, 0.3));\n",
              "      fill: #FFFFFF;\n",
              "    }\n",
              "  </style>\n",
              "\n",
              "    <script>\n",
              "      const buttonEl =\n",
              "        document.querySelector('#df-89fd912d-9e41-40a4-b4ff-bbb323c688c7 button.colab-df-convert');\n",
              "      buttonEl.style.display =\n",
              "        google.colab.kernel.accessAllowed ? 'block' : 'none';\n",
              "\n",
              "      async function convertToInteractive(key) {\n",
              "        const element = document.querySelector('#df-89fd912d-9e41-40a4-b4ff-bbb323c688c7');\n",
              "        const dataTable =\n",
              "          await google.colab.kernel.invokeFunction('convertToInteractive',\n",
              "                                                    [key], {});\n",
              "        if (!dataTable) return;\n",
              "\n",
              "        const docLinkHtml = 'Like what you see? Visit the ' +\n",
              "          '<a target=\"_blank\" href=https://colab.research.google.com/notebooks/data_table.ipynb>data table notebook</a>'\n",
              "          + ' to learn more about interactive tables.';\n",
              "        element.innerHTML = '';\n",
              "        dataTable['output_type'] = 'display_data';\n",
              "        await google.colab.output.renderOutput(dataTable, element);\n",
              "        const docLink = document.createElement('div');\n",
              "        docLink.innerHTML = docLinkHtml;\n",
              "        element.appendChild(docLink);\n",
              "      }\n",
              "    </script>\n",
              "  </div>\n",
              "\n",
              "\n",
              "    <div id=\"df-dda1a359-cdd3-46d4-ad17-e5690319b63c\">\n",
              "      <button class=\"colab-df-quickchart\" onclick=\"quickchart('df-dda1a359-cdd3-46d4-ad17-e5690319b63c')\"\n",
              "                title=\"Suggest charts\"\n",
              "                style=\"display:none;\">\n",
              "\n",
              "<svg xmlns=\"http://www.w3.org/2000/svg\" height=\"24px\"viewBox=\"0 0 24 24\"\n",
              "     width=\"24px\">\n",
              "    <g>\n",
              "        <path d=\"M19 3H5c-1.1 0-2 .9-2 2v14c0 1.1.9 2 2 2h14c1.1 0 2-.9 2-2V5c0-1.1-.9-2-2-2zM9 17H7v-7h2v7zm4 0h-2V7h2v10zm4 0h-2v-4h2v4z\"/>\n",
              "    </g>\n",
              "</svg>\n",
              "      </button>\n",
              "\n",
              "<style>\n",
              "  .colab-df-quickchart {\n",
              "      --bg-color: #E8F0FE;\n",
              "      --fill-color: #1967D2;\n",
              "      --hover-bg-color: #E2EBFA;\n",
              "      --hover-fill-color: #174EA6;\n",
              "      --disabled-fill-color: #AAA;\n",
              "      --disabled-bg-color: #DDD;\n",
              "  }\n",
              "\n",
              "  [theme=dark] .colab-df-quickchart {\n",
              "      --bg-color: #3B4455;\n",
              "      --fill-color: #D2E3FC;\n",
              "      --hover-bg-color: #434B5C;\n",
              "      --hover-fill-color: #FFFFFF;\n",
              "      --disabled-bg-color: #3B4455;\n",
              "      --disabled-fill-color: #666;\n",
              "  }\n",
              "\n",
              "  .colab-df-quickchart {\n",
              "    background-color: var(--bg-color);\n",
              "    border: none;\n",
              "    border-radius: 50%;\n",
              "    cursor: pointer;\n",
              "    display: none;\n",
              "    fill: var(--fill-color);\n",
              "    height: 32px;\n",
              "    padding: 0;\n",
              "    width: 32px;\n",
              "  }\n",
              "\n",
              "  .colab-df-quickchart:hover {\n",
              "    background-color: var(--hover-bg-color);\n",
              "    box-shadow: 0 1px 2px rgba(60, 64, 67, 0.3), 0 1px 3px 1px rgba(60, 64, 67, 0.15);\n",
              "    fill: var(--button-hover-fill-color);\n",
              "  }\n",
              "\n",
              "  .colab-df-quickchart-complete:disabled,\n",
              "  .colab-df-quickchart-complete:disabled:hover {\n",
              "    background-color: var(--disabled-bg-color);\n",
              "    fill: var(--disabled-fill-color);\n",
              "    box-shadow: none;\n",
              "  }\n",
              "\n",
              "  .colab-df-spinner {\n",
              "    border: 2px solid var(--fill-color);\n",
              "    border-color: transparent;\n",
              "    border-bottom-color: var(--fill-color);\n",
              "    animation:\n",
              "      spin 1s steps(1) infinite;\n",
              "  }\n",
              "\n",
              "  @keyframes spin {\n",
              "    0% {\n",
              "      border-color: transparent;\n",
              "      border-bottom-color: var(--fill-color);\n",
              "      border-left-color: var(--fill-color);\n",
              "    }\n",
              "    20% {\n",
              "      border-color: transparent;\n",
              "      border-left-color: var(--fill-color);\n",
              "      border-top-color: var(--fill-color);\n",
              "    }\n",
              "    30% {\n",
              "      border-color: transparent;\n",
              "      border-left-color: var(--fill-color);\n",
              "      border-top-color: var(--fill-color);\n",
              "      border-right-color: var(--fill-color);\n",
              "    }\n",
              "    40% {\n",
              "      border-color: transparent;\n",
              "      border-right-color: var(--fill-color);\n",
              "      border-top-color: var(--fill-color);\n",
              "    }\n",
              "    60% {\n",
              "      border-color: transparent;\n",
              "      border-right-color: var(--fill-color);\n",
              "    }\n",
              "    80% {\n",
              "      border-color: transparent;\n",
              "      border-right-color: var(--fill-color);\n",
              "      border-bottom-color: var(--fill-color);\n",
              "    }\n",
              "    90% {\n",
              "      border-color: transparent;\n",
              "      border-bottom-color: var(--fill-color);\n",
              "    }\n",
              "  }\n",
              "</style>\n",
              "\n",
              "      <script>\n",
              "        async function quickchart(key) {\n",
              "          const quickchartButtonEl =\n",
              "            document.querySelector('#' + key + ' button');\n",
              "          quickchartButtonEl.disabled = true;  // To prevent multiple clicks.\n",
              "          quickchartButtonEl.classList.add('colab-df-spinner');\n",
              "          try {\n",
              "            const charts = await google.colab.kernel.invokeFunction(\n",
              "                'suggestCharts', [key], {});\n",
              "          } catch (error) {\n",
              "            console.error('Error during call to suggestCharts:', error);\n",
              "          }\n",
              "          quickchartButtonEl.classList.remove('colab-df-spinner');\n",
              "          quickchartButtonEl.classList.add('colab-df-quickchart-complete');\n",
              "        }\n",
              "        (() => {\n",
              "          let quickchartButtonEl =\n",
              "            document.querySelector('#df-dda1a359-cdd3-46d4-ad17-e5690319b63c button');\n",
              "          quickchartButtonEl.style.display =\n",
              "            google.colab.kernel.accessAllowed ? 'block' : 'none';\n",
              "        })();\n",
              "      </script>\n",
              "    </div>\n",
              "\n",
              "  <div id=\"id_eb740303-e4ee-4845-b01c-50aeeb47c1e9\">\n",
              "    <style>\n",
              "      .colab-df-generate {\n",
              "        background-color: #E8F0FE;\n",
              "        border: none;\n",
              "        border-radius: 50%;\n",
              "        cursor: pointer;\n",
              "        display: none;\n",
              "        fill: #1967D2;\n",
              "        height: 32px;\n",
              "        padding: 0 0 0 0;\n",
              "        width: 32px;\n",
              "      }\n",
              "\n",
              "      .colab-df-generate:hover {\n",
              "        background-color: #E2EBFA;\n",
              "        box-shadow: 0px 1px 2px rgba(60, 64, 67, 0.3), 0px 1px 3px 1px rgba(60, 64, 67, 0.15);\n",
              "        fill: #174EA6;\n",
              "      }\n",
              "\n",
              "      [theme=dark] .colab-df-generate {\n",
              "        background-color: #3B4455;\n",
              "        fill: #D2E3FC;\n",
              "      }\n",
              "\n",
              "      [theme=dark] .colab-df-generate:hover {\n",
              "        background-color: #434B5C;\n",
              "        box-shadow: 0px 1px 3px 1px rgba(0, 0, 0, 0.15);\n",
              "        filter: drop-shadow(0px 1px 2px rgba(0, 0, 0, 0.3));\n",
              "        fill: #FFFFFF;\n",
              "      }\n",
              "    </style>\n",
              "    <button class=\"colab-df-generate\" onclick=\"generateWithVariable('tSNE_representation')\"\n",
              "            title=\"Generate code using this dataframe.\"\n",
              "            style=\"display:none;\">\n",
              "\n",
              "  <svg xmlns=\"http://www.w3.org/2000/svg\" height=\"24px\"viewBox=\"0 0 24 24\"\n",
              "       width=\"24px\">\n",
              "    <path d=\"M7,19H8.4L18.45,9,17,7.55,7,17.6ZM5,21V16.75L18.45,3.32a2,2,0,0,1,2.83,0l1.4,1.43a1.91,1.91,0,0,1,.58,1.4,1.91,1.91,0,0,1-.58,1.4L9.25,21ZM18.45,9,17,7.55Zm-12,3A5.31,5.31,0,0,0,4.9,8.1,5.31,5.31,0,0,0,1,6.5,5.31,5.31,0,0,0,4.9,4.9,5.31,5.31,0,0,0,6.5,1,5.31,5.31,0,0,0,8.1,4.9,5.31,5.31,0,0,0,12,6.5,5.46,5.46,0,0,0,6.5,12Z\"/>\n",
              "  </svg>\n",
              "    </button>\n",
              "    <script>\n",
              "      (() => {\n",
              "      const buttonEl =\n",
              "        document.querySelector('#id_eb740303-e4ee-4845-b01c-50aeeb47c1e9 button.colab-df-generate');\n",
              "      buttonEl.style.display =\n",
              "        google.colab.kernel.accessAllowed ? 'block' : 'none';\n",
              "\n",
              "      buttonEl.onclick = () => {\n",
              "        google.colab.notebook.generateWithVariable('tSNE_representation');\n",
              "      }\n",
              "      })();\n",
              "    </script>\n",
              "  </div>\n",
              "\n",
              "    </div>\n",
              "  </div>\n"
            ],
            "application/vnd.google.colaboratory.intrinsic+json": {
              "type": "dataframe",
              "variable_name": "tSNE_representation",
              "summary": "{\n  \"name\": \"tSNE_representation\",\n  \"rows\": 1570,\n  \"fields\": [\n    {\n      \"column\": \"t-SNE 1\",\n      \"properties\": {\n        \"dtype\": \"float32\",\n        \"num_unique_values\": 1569,\n        \"samples\": [\n          32.0101432800293,\n          -19.5967960357666,\n          -2.299098253250122\n        ],\n        \"semantic_type\": \"\",\n        \"description\": \"\"\n      }\n    },\n    {\n      \"column\": \"t-SNE 2\",\n      \"properties\": {\n        \"dtype\": \"float32\",\n        \"num_unique_values\": 1570,\n        \"samples\": [\n          -23.599916458129883,\n          -15.426945686340332,\n          0.9440705180168152\n        ],\n        \"semantic_type\": \"\",\n        \"description\": \"\"\n      }\n    }\n  ]\n}"
            }
          },
          "metadata": {},
          "execution_count": 19
        }
      ]
    },
    {
      "cell_type": "code",
      "source": [
        "tSNEdf = tSNEdf.sort_values(by='Fault')"
      ],
      "metadata": {
        "id": "_TpCIloN904b"
      },
      "id": "_TpCIloN904b",
      "execution_count": 20,
      "outputs": []
    },
    {
      "cell_type": "code",
      "source": [
        "tSNEdf"
      ],
      "metadata": {
        "id": "xq2JlAOp_N5V",
        "outputId": "563115c7-2a22-46b7-aa91-408940cb1dd8",
        "colab": {
          "base_uri": "https://localhost:8080/",
          "height": 424
        }
      },
      "id": "xq2JlAOp_N5V",
      "execution_count": 21,
      "outputs": [
        {
          "output_type": "execute_result",
          "data": {
            "text/plain": [
              "      T-SNE component 1  T-SNE component 2           Fault\n",
              "0              8.122628          18.104931   F1_IR007_20db\n",
              "454           17.815632          20.277859   F1_IR007_20db\n",
              "659           13.557500          24.127306   F1_IR007_20db\n",
              "1112          15.427859          24.031542   F1_IR007_20db\n",
              "1362           8.203285          19.115389   F1_IR007_20db\n",
              "...                 ...                ...             ...\n",
              "190           30.606977          -9.556292  F8_Normal_20db\n",
              "189           28.442513         -13.890456  F8_Normal_20db\n",
              "685           24.807684          -9.726084  F8_Normal_20db\n",
              "880           31.834469          -8.067731  F8_Normal_20db\n",
              "549           31.348171          -9.351144  F8_Normal_20db\n",
              "\n",
              "[1572 rows x 3 columns]"
            ],
            "text/html": [
              "\n",
              "  <div id=\"df-c4fc44d9-d2fd-49de-a12a-7bbdd5519a07\" class=\"colab-df-container\">\n",
              "    <div>\n",
              "<style scoped>\n",
              "    .dataframe tbody tr th:only-of-type {\n",
              "        vertical-align: middle;\n",
              "    }\n",
              "\n",
              "    .dataframe tbody tr th {\n",
              "        vertical-align: top;\n",
              "    }\n",
              "\n",
              "    .dataframe thead th {\n",
              "        text-align: right;\n",
              "    }\n",
              "</style>\n",
              "<table border=\"1\" class=\"dataframe\">\n",
              "  <thead>\n",
              "    <tr style=\"text-align: right;\">\n",
              "      <th></th>\n",
              "      <th>T-SNE component 1</th>\n",
              "      <th>T-SNE component 2</th>\n",
              "      <th>Fault</th>\n",
              "    </tr>\n",
              "  </thead>\n",
              "  <tbody>\n",
              "    <tr>\n",
              "      <th>0</th>\n",
              "      <td>8.122628</td>\n",
              "      <td>18.104931</td>\n",
              "      <td>F1_IR007_20db</td>\n",
              "    </tr>\n",
              "    <tr>\n",
              "      <th>454</th>\n",
              "      <td>17.815632</td>\n",
              "      <td>20.277859</td>\n",
              "      <td>F1_IR007_20db</td>\n",
              "    </tr>\n",
              "    <tr>\n",
              "      <th>659</th>\n",
              "      <td>13.557500</td>\n",
              "      <td>24.127306</td>\n",
              "      <td>F1_IR007_20db</td>\n",
              "    </tr>\n",
              "    <tr>\n",
              "      <th>1112</th>\n",
              "      <td>15.427859</td>\n",
              "      <td>24.031542</td>\n",
              "      <td>F1_IR007_20db</td>\n",
              "    </tr>\n",
              "    <tr>\n",
              "      <th>1362</th>\n",
              "      <td>8.203285</td>\n",
              "      <td>19.115389</td>\n",
              "      <td>F1_IR007_20db</td>\n",
              "    </tr>\n",
              "    <tr>\n",
              "      <th>...</th>\n",
              "      <td>...</td>\n",
              "      <td>...</td>\n",
              "      <td>...</td>\n",
              "    </tr>\n",
              "    <tr>\n",
              "      <th>190</th>\n",
              "      <td>30.606977</td>\n",
              "      <td>-9.556292</td>\n",
              "      <td>F8_Normal_20db</td>\n",
              "    </tr>\n",
              "    <tr>\n",
              "      <th>189</th>\n",
              "      <td>28.442513</td>\n",
              "      <td>-13.890456</td>\n",
              "      <td>F8_Normal_20db</td>\n",
              "    </tr>\n",
              "    <tr>\n",
              "      <th>685</th>\n",
              "      <td>24.807684</td>\n",
              "      <td>-9.726084</td>\n",
              "      <td>F8_Normal_20db</td>\n",
              "    </tr>\n",
              "    <tr>\n",
              "      <th>880</th>\n",
              "      <td>31.834469</td>\n",
              "      <td>-8.067731</td>\n",
              "      <td>F8_Normal_20db</td>\n",
              "    </tr>\n",
              "    <tr>\n",
              "      <th>549</th>\n",
              "      <td>31.348171</td>\n",
              "      <td>-9.351144</td>\n",
              "      <td>F8_Normal_20db</td>\n",
              "    </tr>\n",
              "  </tbody>\n",
              "</table>\n",
              "<p>1572 rows × 3 columns</p>\n",
              "</div>\n",
              "    <div class=\"colab-df-buttons\">\n",
              "\n",
              "  <div class=\"colab-df-container\">\n",
              "    <button class=\"colab-df-convert\" onclick=\"convertToInteractive('df-c4fc44d9-d2fd-49de-a12a-7bbdd5519a07')\"\n",
              "            title=\"Convert this dataframe to an interactive table.\"\n",
              "            style=\"display:none;\">\n",
              "\n",
              "  <svg xmlns=\"http://www.w3.org/2000/svg\" height=\"24px\" viewBox=\"0 -960 960 960\">\n",
              "    <path d=\"M120-120v-720h720v720H120Zm60-500h600v-160H180v160Zm220 220h160v-160H400v160Zm0 220h160v-160H400v160ZM180-400h160v-160H180v160Zm440 0h160v-160H620v160ZM180-180h160v-160H180v160Zm440 0h160v-160H620v160Z\"/>\n",
              "  </svg>\n",
              "    </button>\n",
              "\n",
              "  <style>\n",
              "    .colab-df-container {\n",
              "      display:flex;\n",
              "      gap: 12px;\n",
              "    }\n",
              "\n",
              "    .colab-df-convert {\n",
              "      background-color: #E8F0FE;\n",
              "      border: none;\n",
              "      border-radius: 50%;\n",
              "      cursor: pointer;\n",
              "      display: none;\n",
              "      fill: #1967D2;\n",
              "      height: 32px;\n",
              "      padding: 0 0 0 0;\n",
              "      width: 32px;\n",
              "    }\n",
              "\n",
              "    .colab-df-convert:hover {\n",
              "      background-color: #E2EBFA;\n",
              "      box-shadow: 0px 1px 2px rgba(60, 64, 67, 0.3), 0px 1px 3px 1px rgba(60, 64, 67, 0.15);\n",
              "      fill: #174EA6;\n",
              "    }\n",
              "\n",
              "    .colab-df-buttons div {\n",
              "      margin-bottom: 4px;\n",
              "    }\n",
              "\n",
              "    [theme=dark] .colab-df-convert {\n",
              "      background-color: #3B4455;\n",
              "      fill: #D2E3FC;\n",
              "    }\n",
              "\n",
              "    [theme=dark] .colab-df-convert:hover {\n",
              "      background-color: #434B5C;\n",
              "      box-shadow: 0px 1px 3px 1px rgba(0, 0, 0, 0.15);\n",
              "      filter: drop-shadow(0px 1px 2px rgba(0, 0, 0, 0.3));\n",
              "      fill: #FFFFFF;\n",
              "    }\n",
              "  </style>\n",
              "\n",
              "    <script>\n",
              "      const buttonEl =\n",
              "        document.querySelector('#df-c4fc44d9-d2fd-49de-a12a-7bbdd5519a07 button.colab-df-convert');\n",
              "      buttonEl.style.display =\n",
              "        google.colab.kernel.accessAllowed ? 'block' : 'none';\n",
              "\n",
              "      async function convertToInteractive(key) {\n",
              "        const element = document.querySelector('#df-c4fc44d9-d2fd-49de-a12a-7bbdd5519a07');\n",
              "        const dataTable =\n",
              "          await google.colab.kernel.invokeFunction('convertToInteractive',\n",
              "                                                    [key], {});\n",
              "        if (!dataTable) return;\n",
              "\n",
              "        const docLinkHtml = 'Like what you see? Visit the ' +\n",
              "          '<a target=\"_blank\" href=https://colab.research.google.com/notebooks/data_table.ipynb>data table notebook</a>'\n",
              "          + ' to learn more about interactive tables.';\n",
              "        element.innerHTML = '';\n",
              "        dataTable['output_type'] = 'display_data';\n",
              "        await google.colab.output.renderOutput(dataTable, element);\n",
              "        const docLink = document.createElement('div');\n",
              "        docLink.innerHTML = docLinkHtml;\n",
              "        element.appendChild(docLink);\n",
              "      }\n",
              "    </script>\n",
              "  </div>\n",
              "\n",
              "\n",
              "    <div id=\"df-a7cd3f9b-a960-49c9-9e54-d67499c4f2b0\">\n",
              "      <button class=\"colab-df-quickchart\" onclick=\"quickchart('df-a7cd3f9b-a960-49c9-9e54-d67499c4f2b0')\"\n",
              "                title=\"Suggest charts\"\n",
              "                style=\"display:none;\">\n",
              "\n",
              "<svg xmlns=\"http://www.w3.org/2000/svg\" height=\"24px\"viewBox=\"0 0 24 24\"\n",
              "     width=\"24px\">\n",
              "    <g>\n",
              "        <path d=\"M19 3H5c-1.1 0-2 .9-2 2v14c0 1.1.9 2 2 2h14c1.1 0 2-.9 2-2V5c0-1.1-.9-2-2-2zM9 17H7v-7h2v7zm4 0h-2V7h2v10zm4 0h-2v-4h2v4z\"/>\n",
              "    </g>\n",
              "</svg>\n",
              "      </button>\n",
              "\n",
              "<style>\n",
              "  .colab-df-quickchart {\n",
              "      --bg-color: #E8F0FE;\n",
              "      --fill-color: #1967D2;\n",
              "      --hover-bg-color: #E2EBFA;\n",
              "      --hover-fill-color: #174EA6;\n",
              "      --disabled-fill-color: #AAA;\n",
              "      --disabled-bg-color: #DDD;\n",
              "  }\n",
              "\n",
              "  [theme=dark] .colab-df-quickchart {\n",
              "      --bg-color: #3B4455;\n",
              "      --fill-color: #D2E3FC;\n",
              "      --hover-bg-color: #434B5C;\n",
              "      --hover-fill-color: #FFFFFF;\n",
              "      --disabled-bg-color: #3B4455;\n",
              "      --disabled-fill-color: #666;\n",
              "  }\n",
              "\n",
              "  .colab-df-quickchart {\n",
              "    background-color: var(--bg-color);\n",
              "    border: none;\n",
              "    border-radius: 50%;\n",
              "    cursor: pointer;\n",
              "    display: none;\n",
              "    fill: var(--fill-color);\n",
              "    height: 32px;\n",
              "    padding: 0;\n",
              "    width: 32px;\n",
              "  }\n",
              "\n",
              "  .colab-df-quickchart:hover {\n",
              "    background-color: var(--hover-bg-color);\n",
              "    box-shadow: 0 1px 2px rgba(60, 64, 67, 0.3), 0 1px 3px 1px rgba(60, 64, 67, 0.15);\n",
              "    fill: var(--button-hover-fill-color);\n",
              "  }\n",
              "\n",
              "  .colab-df-quickchart-complete:disabled,\n",
              "  .colab-df-quickchart-complete:disabled:hover {\n",
              "    background-color: var(--disabled-bg-color);\n",
              "    fill: var(--disabled-fill-color);\n",
              "    box-shadow: none;\n",
              "  }\n",
              "\n",
              "  .colab-df-spinner {\n",
              "    border: 2px solid var(--fill-color);\n",
              "    border-color: transparent;\n",
              "    border-bottom-color: var(--fill-color);\n",
              "    animation:\n",
              "      spin 1s steps(1) infinite;\n",
              "  }\n",
              "\n",
              "  @keyframes spin {\n",
              "    0% {\n",
              "      border-color: transparent;\n",
              "      border-bottom-color: var(--fill-color);\n",
              "      border-left-color: var(--fill-color);\n",
              "    }\n",
              "    20% {\n",
              "      border-color: transparent;\n",
              "      border-left-color: var(--fill-color);\n",
              "      border-top-color: var(--fill-color);\n",
              "    }\n",
              "    30% {\n",
              "      border-color: transparent;\n",
              "      border-left-color: var(--fill-color);\n",
              "      border-top-color: var(--fill-color);\n",
              "      border-right-color: var(--fill-color);\n",
              "    }\n",
              "    40% {\n",
              "      border-color: transparent;\n",
              "      border-right-color: var(--fill-color);\n",
              "      border-top-color: var(--fill-color);\n",
              "    }\n",
              "    60% {\n",
              "      border-color: transparent;\n",
              "      border-right-color: var(--fill-color);\n",
              "    }\n",
              "    80% {\n",
              "      border-color: transparent;\n",
              "      border-right-color: var(--fill-color);\n",
              "      border-bottom-color: var(--fill-color);\n",
              "    }\n",
              "    90% {\n",
              "      border-color: transparent;\n",
              "      border-bottom-color: var(--fill-color);\n",
              "    }\n",
              "  }\n",
              "</style>\n",
              "\n",
              "      <script>\n",
              "        async function quickchart(key) {\n",
              "          const quickchartButtonEl =\n",
              "            document.querySelector('#' + key + ' button');\n",
              "          quickchartButtonEl.disabled = true;  // To prevent multiple clicks.\n",
              "          quickchartButtonEl.classList.add('colab-df-spinner');\n",
              "          try {\n",
              "            const charts = await google.colab.kernel.invokeFunction(\n",
              "                'suggestCharts', [key], {});\n",
              "          } catch (error) {\n",
              "            console.error('Error during call to suggestCharts:', error);\n",
              "          }\n",
              "          quickchartButtonEl.classList.remove('colab-df-spinner');\n",
              "          quickchartButtonEl.classList.add('colab-df-quickchart-complete');\n",
              "        }\n",
              "        (() => {\n",
              "          let quickchartButtonEl =\n",
              "            document.querySelector('#df-a7cd3f9b-a960-49c9-9e54-d67499c4f2b0 button');\n",
              "          quickchartButtonEl.style.display =\n",
              "            google.colab.kernel.accessAllowed ? 'block' : 'none';\n",
              "        })();\n",
              "      </script>\n",
              "    </div>\n",
              "\n",
              "  <div id=\"id_6293e0a3-4319-4bfd-b648-5d009860b328\">\n",
              "    <style>\n",
              "      .colab-df-generate {\n",
              "        background-color: #E8F0FE;\n",
              "        border: none;\n",
              "        border-radius: 50%;\n",
              "        cursor: pointer;\n",
              "        display: none;\n",
              "        fill: #1967D2;\n",
              "        height: 32px;\n",
              "        padding: 0 0 0 0;\n",
              "        width: 32px;\n",
              "      }\n",
              "\n",
              "      .colab-df-generate:hover {\n",
              "        background-color: #E2EBFA;\n",
              "        box-shadow: 0px 1px 2px rgba(60, 64, 67, 0.3), 0px 1px 3px 1px rgba(60, 64, 67, 0.15);\n",
              "        fill: #174EA6;\n",
              "      }\n",
              "\n",
              "      [theme=dark] .colab-df-generate {\n",
              "        background-color: #3B4455;\n",
              "        fill: #D2E3FC;\n",
              "      }\n",
              "\n",
              "      [theme=dark] .colab-df-generate:hover {\n",
              "        background-color: #434B5C;\n",
              "        box-shadow: 0px 1px 3px 1px rgba(0, 0, 0, 0.15);\n",
              "        filter: drop-shadow(0px 1px 2px rgba(0, 0, 0, 0.3));\n",
              "        fill: #FFFFFF;\n",
              "      }\n",
              "    </style>\n",
              "    <button class=\"colab-df-generate\" onclick=\"generateWithVariable('tSNEdf')\"\n",
              "            title=\"Generate code using this dataframe.\"\n",
              "            style=\"display:none;\">\n",
              "\n",
              "  <svg xmlns=\"http://www.w3.org/2000/svg\" height=\"24px\"viewBox=\"0 0 24 24\"\n",
              "       width=\"24px\">\n",
              "    <path d=\"M7,19H8.4L18.45,9,17,7.55,7,17.6ZM5,21V16.75L18.45,3.32a2,2,0,0,1,2.83,0l1.4,1.43a1.91,1.91,0,0,1,.58,1.4,1.91,1.91,0,0,1-.58,1.4L9.25,21ZM18.45,9,17,7.55Zm-12,3A5.31,5.31,0,0,0,4.9,8.1,5.31,5.31,0,0,0,1,6.5,5.31,5.31,0,0,0,4.9,4.9,5.31,5.31,0,0,0,6.5,1,5.31,5.31,0,0,0,8.1,4.9,5.31,5.31,0,0,0,12,6.5,5.46,5.46,0,0,0,6.5,12Z\"/>\n",
              "  </svg>\n",
              "    </button>\n",
              "    <script>\n",
              "      (() => {\n",
              "      const buttonEl =\n",
              "        document.querySelector('#id_6293e0a3-4319-4bfd-b648-5d009860b328 button.colab-df-generate');\n",
              "      buttonEl.style.display =\n",
              "        google.colab.kernel.accessAllowed ? 'block' : 'none';\n",
              "\n",
              "      buttonEl.onclick = () => {\n",
              "        google.colab.notebook.generateWithVariable('tSNEdf');\n",
              "      }\n",
              "      })();\n",
              "    </script>\n",
              "  </div>\n",
              "\n",
              "    </div>\n",
              "  </div>\n"
            ],
            "application/vnd.google.colaboratory.intrinsic+json": {
              "type": "dataframe",
              "variable_name": "tSNEdf",
              "summary": "{\n  \"name\": \"tSNEdf\",\n  \"rows\": 1572,\n  \"fields\": [\n    {\n      \"column\": \"T-SNE component 1\",\n      \"properties\": {\n        \"dtype\": \"float32\",\n        \"num_unique_values\": 1572,\n        \"samples\": [\n          -14.490684509277344,\n          13.54694938659668,\n          -13.891165733337402\n        ],\n        \"semantic_type\": \"\",\n        \"description\": \"\"\n      }\n    },\n    {\n      \"column\": \"T-SNE component 2\",\n      \"properties\": {\n        \"dtype\": \"float32\",\n        \"num_unique_values\": 1572,\n        \"samples\": [\n          -11.867843627929688,\n          -2.473139524459839,\n          -5.9337263107299805\n        ],\n        \"semantic_type\": \"\",\n        \"description\": \"\"\n      }\n    },\n    {\n      \"column\": \"Fault\",\n      \"properties\": {\n        \"dtype\": \"category\",\n        \"num_unique_values\": 8,\n        \"samples\": [\n          \"F2_IR009_20db\",\n          \"F6_OR013_20db\",\n          \"F1_IR007_20db\"\n        ],\n        \"semantic_type\": \"\",\n        \"description\": \"\"\n      }\n    }\n  ]\n}"
            }
          },
          "metadata": {},
          "execution_count": 21
        }
      ]
    },
    {
      "cell_type": "markdown",
      "source": [
        "Combined Features"
      ],
      "metadata": {
        "id": "73T5xFDWQmML"
      },
      "id": "73T5xFDWQmML"
    },
    {
      "cell_type": "code",
      "source": [
        "# import pandas as pd\n",
        "\n",
        "# Assuming df1 and df2 are your two dataframes\n",
        "# Concatenate the dataframes vertically\n",
        "Motor_Fault_dataset = pd.concat([tSNE_representation, tSNEdf], axis=1)\n",
        "Motor_Fault_dataset=Motor_Fault_dataset.sort_values(by='Fault')\n",
        "Motor_Fault_dataset\n",
        "\n",
        "import pandas as pd\n",
        "from sklearn.preprocessing import StandardScaler\n",
        "\n",
        "# Assuming df1 and df2 are your two dataframes\n",
        "# Concatenate the dataframes vertically\n",
        "Motor_Fault_dataset = pd.concat([tSNE_representation, tSNEdf], axis=1)\n",
        "\n",
        "# Sort the dataset by 'Fault' column\n",
        "Motor_Fault_dataset = Motor_Fault_dataset.sort_values(by='Fault')\n",
        "Motor_Fault_dataset\n"
      ],
      "metadata": {
        "id": "sEmeYK5c8anK",
        "outputId": "b2ddcdb6-d770-4e7f-bed9-eae28cea0137",
        "colab": {
          "base_uri": "https://localhost:8080/",
          "height": 424
        }
      },
      "id": "sEmeYK5c8anK",
      "execution_count": 22,
      "outputs": [
        {
          "output_type": "execute_result",
          "data": {
            "text/plain": [
              "        t-SNE 1    t-SNE 2  T-SNE component 1  T-SNE component 2  \\\n",
              "0     51.071079   5.610871           8.122628          18.104931   \n",
              "454  -27.998877 -17.048916          17.815632          20.277859   \n",
              "659    5.960203  32.915852          13.557500          24.127306   \n",
              "1112  -7.168706  -3.366941          15.427859          24.031542   \n",
              "1362 -16.091558  -9.443729           8.203285          19.115389   \n",
              "...         ...        ...                ...                ...   \n",
              "1359 -27.540922   1.103308          27.927769          -8.344915   \n",
              "756   12.318521  31.627930          30.956970          -9.746634   \n",
              "282   -7.289878 -29.372070          27.935953         -10.117180   \n",
              "336  -13.330480 -27.065102          27.479753          -8.722417   \n",
              "284  -14.075724 -27.470427          30.095640          -7.085478   \n",
              "\n",
              "               Fault  \n",
              "0      F1_IR007_20db  \n",
              "454    F1_IR007_20db  \n",
              "659    F1_IR007_20db  \n",
              "1112   F1_IR007_20db  \n",
              "1362   F1_IR007_20db  \n",
              "...              ...  \n",
              "1359  F8_Normal_20db  \n",
              "756   F8_Normal_20db  \n",
              "282   F8_Normal_20db  \n",
              "336   F8_Normal_20db  \n",
              "284   F8_Normal_20db  \n",
              "\n",
              "[1572 rows x 5 columns]"
            ],
            "text/html": [
              "\n",
              "  <div id=\"df-bd7d0dfa-0074-453e-b406-4ef9172e2cf6\" class=\"colab-df-container\">\n",
              "    <div>\n",
              "<style scoped>\n",
              "    .dataframe tbody tr th:only-of-type {\n",
              "        vertical-align: middle;\n",
              "    }\n",
              "\n",
              "    .dataframe tbody tr th {\n",
              "        vertical-align: top;\n",
              "    }\n",
              "\n",
              "    .dataframe thead th {\n",
              "        text-align: right;\n",
              "    }\n",
              "</style>\n",
              "<table border=\"1\" class=\"dataframe\">\n",
              "  <thead>\n",
              "    <tr style=\"text-align: right;\">\n",
              "      <th></th>\n",
              "      <th>t-SNE 1</th>\n",
              "      <th>t-SNE 2</th>\n",
              "      <th>T-SNE component 1</th>\n",
              "      <th>T-SNE component 2</th>\n",
              "      <th>Fault</th>\n",
              "    </tr>\n",
              "  </thead>\n",
              "  <tbody>\n",
              "    <tr>\n",
              "      <th>0</th>\n",
              "      <td>51.071079</td>\n",
              "      <td>5.610871</td>\n",
              "      <td>8.122628</td>\n",
              "      <td>18.104931</td>\n",
              "      <td>F1_IR007_20db</td>\n",
              "    </tr>\n",
              "    <tr>\n",
              "      <th>454</th>\n",
              "      <td>-27.998877</td>\n",
              "      <td>-17.048916</td>\n",
              "      <td>17.815632</td>\n",
              "      <td>20.277859</td>\n",
              "      <td>F1_IR007_20db</td>\n",
              "    </tr>\n",
              "    <tr>\n",
              "      <th>659</th>\n",
              "      <td>5.960203</td>\n",
              "      <td>32.915852</td>\n",
              "      <td>13.557500</td>\n",
              "      <td>24.127306</td>\n",
              "      <td>F1_IR007_20db</td>\n",
              "    </tr>\n",
              "    <tr>\n",
              "      <th>1112</th>\n",
              "      <td>-7.168706</td>\n",
              "      <td>-3.366941</td>\n",
              "      <td>15.427859</td>\n",
              "      <td>24.031542</td>\n",
              "      <td>F1_IR007_20db</td>\n",
              "    </tr>\n",
              "    <tr>\n",
              "      <th>1362</th>\n",
              "      <td>-16.091558</td>\n",
              "      <td>-9.443729</td>\n",
              "      <td>8.203285</td>\n",
              "      <td>19.115389</td>\n",
              "      <td>F1_IR007_20db</td>\n",
              "    </tr>\n",
              "    <tr>\n",
              "      <th>...</th>\n",
              "      <td>...</td>\n",
              "      <td>...</td>\n",
              "      <td>...</td>\n",
              "      <td>...</td>\n",
              "      <td>...</td>\n",
              "    </tr>\n",
              "    <tr>\n",
              "      <th>1359</th>\n",
              "      <td>-27.540922</td>\n",
              "      <td>1.103308</td>\n",
              "      <td>27.927769</td>\n",
              "      <td>-8.344915</td>\n",
              "      <td>F8_Normal_20db</td>\n",
              "    </tr>\n",
              "    <tr>\n",
              "      <th>756</th>\n",
              "      <td>12.318521</td>\n",
              "      <td>31.627930</td>\n",
              "      <td>30.956970</td>\n",
              "      <td>-9.746634</td>\n",
              "      <td>F8_Normal_20db</td>\n",
              "    </tr>\n",
              "    <tr>\n",
              "      <th>282</th>\n",
              "      <td>-7.289878</td>\n",
              "      <td>-29.372070</td>\n",
              "      <td>27.935953</td>\n",
              "      <td>-10.117180</td>\n",
              "      <td>F8_Normal_20db</td>\n",
              "    </tr>\n",
              "    <tr>\n",
              "      <th>336</th>\n",
              "      <td>-13.330480</td>\n",
              "      <td>-27.065102</td>\n",
              "      <td>27.479753</td>\n",
              "      <td>-8.722417</td>\n",
              "      <td>F8_Normal_20db</td>\n",
              "    </tr>\n",
              "    <tr>\n",
              "      <th>284</th>\n",
              "      <td>-14.075724</td>\n",
              "      <td>-27.470427</td>\n",
              "      <td>30.095640</td>\n",
              "      <td>-7.085478</td>\n",
              "      <td>F8_Normal_20db</td>\n",
              "    </tr>\n",
              "  </tbody>\n",
              "</table>\n",
              "<p>1572 rows × 5 columns</p>\n",
              "</div>\n",
              "    <div class=\"colab-df-buttons\">\n",
              "\n",
              "  <div class=\"colab-df-container\">\n",
              "    <button class=\"colab-df-convert\" onclick=\"convertToInteractive('df-bd7d0dfa-0074-453e-b406-4ef9172e2cf6')\"\n",
              "            title=\"Convert this dataframe to an interactive table.\"\n",
              "            style=\"display:none;\">\n",
              "\n",
              "  <svg xmlns=\"http://www.w3.org/2000/svg\" height=\"24px\" viewBox=\"0 -960 960 960\">\n",
              "    <path d=\"M120-120v-720h720v720H120Zm60-500h600v-160H180v160Zm220 220h160v-160H400v160Zm0 220h160v-160H400v160ZM180-400h160v-160H180v160Zm440 0h160v-160H620v160ZM180-180h160v-160H180v160Zm440 0h160v-160H620v160Z\"/>\n",
              "  </svg>\n",
              "    </button>\n",
              "\n",
              "  <style>\n",
              "    .colab-df-container {\n",
              "      display:flex;\n",
              "      gap: 12px;\n",
              "    }\n",
              "\n",
              "    .colab-df-convert {\n",
              "      background-color: #E8F0FE;\n",
              "      border: none;\n",
              "      border-radius: 50%;\n",
              "      cursor: pointer;\n",
              "      display: none;\n",
              "      fill: #1967D2;\n",
              "      height: 32px;\n",
              "      padding: 0 0 0 0;\n",
              "      width: 32px;\n",
              "    }\n",
              "\n",
              "    .colab-df-convert:hover {\n",
              "      background-color: #E2EBFA;\n",
              "      box-shadow: 0px 1px 2px rgba(60, 64, 67, 0.3), 0px 1px 3px 1px rgba(60, 64, 67, 0.15);\n",
              "      fill: #174EA6;\n",
              "    }\n",
              "\n",
              "    .colab-df-buttons div {\n",
              "      margin-bottom: 4px;\n",
              "    }\n",
              "\n",
              "    [theme=dark] .colab-df-convert {\n",
              "      background-color: #3B4455;\n",
              "      fill: #D2E3FC;\n",
              "    }\n",
              "\n",
              "    [theme=dark] .colab-df-convert:hover {\n",
              "      background-color: #434B5C;\n",
              "      box-shadow: 0px 1px 3px 1px rgba(0, 0, 0, 0.15);\n",
              "      filter: drop-shadow(0px 1px 2px rgba(0, 0, 0, 0.3));\n",
              "      fill: #FFFFFF;\n",
              "    }\n",
              "  </style>\n",
              "\n",
              "    <script>\n",
              "      const buttonEl =\n",
              "        document.querySelector('#df-bd7d0dfa-0074-453e-b406-4ef9172e2cf6 button.colab-df-convert');\n",
              "      buttonEl.style.display =\n",
              "        google.colab.kernel.accessAllowed ? 'block' : 'none';\n",
              "\n",
              "      async function convertToInteractive(key) {\n",
              "        const element = document.querySelector('#df-bd7d0dfa-0074-453e-b406-4ef9172e2cf6');\n",
              "        const dataTable =\n",
              "          await google.colab.kernel.invokeFunction('convertToInteractive',\n",
              "                                                    [key], {});\n",
              "        if (!dataTable) return;\n",
              "\n",
              "        const docLinkHtml = 'Like what you see? Visit the ' +\n",
              "          '<a target=\"_blank\" href=https://colab.research.google.com/notebooks/data_table.ipynb>data table notebook</a>'\n",
              "          + ' to learn more about interactive tables.';\n",
              "        element.innerHTML = '';\n",
              "        dataTable['output_type'] = 'display_data';\n",
              "        await google.colab.output.renderOutput(dataTable, element);\n",
              "        const docLink = document.createElement('div');\n",
              "        docLink.innerHTML = docLinkHtml;\n",
              "        element.appendChild(docLink);\n",
              "      }\n",
              "    </script>\n",
              "  </div>\n",
              "\n",
              "\n",
              "    <div id=\"df-9e5d71cc-a666-433b-a2fe-9ac536c639c2\">\n",
              "      <button class=\"colab-df-quickchart\" onclick=\"quickchart('df-9e5d71cc-a666-433b-a2fe-9ac536c639c2')\"\n",
              "                title=\"Suggest charts\"\n",
              "                style=\"display:none;\">\n",
              "\n",
              "<svg xmlns=\"http://www.w3.org/2000/svg\" height=\"24px\"viewBox=\"0 0 24 24\"\n",
              "     width=\"24px\">\n",
              "    <g>\n",
              "        <path d=\"M19 3H5c-1.1 0-2 .9-2 2v14c0 1.1.9 2 2 2h14c1.1 0 2-.9 2-2V5c0-1.1-.9-2-2-2zM9 17H7v-7h2v7zm4 0h-2V7h2v10zm4 0h-2v-4h2v4z\"/>\n",
              "    </g>\n",
              "</svg>\n",
              "      </button>\n",
              "\n",
              "<style>\n",
              "  .colab-df-quickchart {\n",
              "      --bg-color: #E8F0FE;\n",
              "      --fill-color: #1967D2;\n",
              "      --hover-bg-color: #E2EBFA;\n",
              "      --hover-fill-color: #174EA6;\n",
              "      --disabled-fill-color: #AAA;\n",
              "      --disabled-bg-color: #DDD;\n",
              "  }\n",
              "\n",
              "  [theme=dark] .colab-df-quickchart {\n",
              "      --bg-color: #3B4455;\n",
              "      --fill-color: #D2E3FC;\n",
              "      --hover-bg-color: #434B5C;\n",
              "      --hover-fill-color: #FFFFFF;\n",
              "      --disabled-bg-color: #3B4455;\n",
              "      --disabled-fill-color: #666;\n",
              "  }\n",
              "\n",
              "  .colab-df-quickchart {\n",
              "    background-color: var(--bg-color);\n",
              "    border: none;\n",
              "    border-radius: 50%;\n",
              "    cursor: pointer;\n",
              "    display: none;\n",
              "    fill: var(--fill-color);\n",
              "    height: 32px;\n",
              "    padding: 0;\n",
              "    width: 32px;\n",
              "  }\n",
              "\n",
              "  .colab-df-quickchart:hover {\n",
              "    background-color: var(--hover-bg-color);\n",
              "    box-shadow: 0 1px 2px rgba(60, 64, 67, 0.3), 0 1px 3px 1px rgba(60, 64, 67, 0.15);\n",
              "    fill: var(--button-hover-fill-color);\n",
              "  }\n",
              "\n",
              "  .colab-df-quickchart-complete:disabled,\n",
              "  .colab-df-quickchart-complete:disabled:hover {\n",
              "    background-color: var(--disabled-bg-color);\n",
              "    fill: var(--disabled-fill-color);\n",
              "    box-shadow: none;\n",
              "  }\n",
              "\n",
              "  .colab-df-spinner {\n",
              "    border: 2px solid var(--fill-color);\n",
              "    border-color: transparent;\n",
              "    border-bottom-color: var(--fill-color);\n",
              "    animation:\n",
              "      spin 1s steps(1) infinite;\n",
              "  }\n",
              "\n",
              "  @keyframes spin {\n",
              "    0% {\n",
              "      border-color: transparent;\n",
              "      border-bottom-color: var(--fill-color);\n",
              "      border-left-color: var(--fill-color);\n",
              "    }\n",
              "    20% {\n",
              "      border-color: transparent;\n",
              "      border-left-color: var(--fill-color);\n",
              "      border-top-color: var(--fill-color);\n",
              "    }\n",
              "    30% {\n",
              "      border-color: transparent;\n",
              "      border-left-color: var(--fill-color);\n",
              "      border-top-color: var(--fill-color);\n",
              "      border-right-color: var(--fill-color);\n",
              "    }\n",
              "    40% {\n",
              "      border-color: transparent;\n",
              "      border-right-color: var(--fill-color);\n",
              "      border-top-color: var(--fill-color);\n",
              "    }\n",
              "    60% {\n",
              "      border-color: transparent;\n",
              "      border-right-color: var(--fill-color);\n",
              "    }\n",
              "    80% {\n",
              "      border-color: transparent;\n",
              "      border-right-color: var(--fill-color);\n",
              "      border-bottom-color: var(--fill-color);\n",
              "    }\n",
              "    90% {\n",
              "      border-color: transparent;\n",
              "      border-bottom-color: var(--fill-color);\n",
              "    }\n",
              "  }\n",
              "</style>\n",
              "\n",
              "      <script>\n",
              "        async function quickchart(key) {\n",
              "          const quickchartButtonEl =\n",
              "            document.querySelector('#' + key + ' button');\n",
              "          quickchartButtonEl.disabled = true;  // To prevent multiple clicks.\n",
              "          quickchartButtonEl.classList.add('colab-df-spinner');\n",
              "          try {\n",
              "            const charts = await google.colab.kernel.invokeFunction(\n",
              "                'suggestCharts', [key], {});\n",
              "          } catch (error) {\n",
              "            console.error('Error during call to suggestCharts:', error);\n",
              "          }\n",
              "          quickchartButtonEl.classList.remove('colab-df-spinner');\n",
              "          quickchartButtonEl.classList.add('colab-df-quickchart-complete');\n",
              "        }\n",
              "        (() => {\n",
              "          let quickchartButtonEl =\n",
              "            document.querySelector('#df-9e5d71cc-a666-433b-a2fe-9ac536c639c2 button');\n",
              "          quickchartButtonEl.style.display =\n",
              "            google.colab.kernel.accessAllowed ? 'block' : 'none';\n",
              "        })();\n",
              "      </script>\n",
              "    </div>\n",
              "\n",
              "  <div id=\"id_09709f97-f951-4292-a28b-b28816a73c22\">\n",
              "    <style>\n",
              "      .colab-df-generate {\n",
              "        background-color: #E8F0FE;\n",
              "        border: none;\n",
              "        border-radius: 50%;\n",
              "        cursor: pointer;\n",
              "        display: none;\n",
              "        fill: #1967D2;\n",
              "        height: 32px;\n",
              "        padding: 0 0 0 0;\n",
              "        width: 32px;\n",
              "      }\n",
              "\n",
              "      .colab-df-generate:hover {\n",
              "        background-color: #E2EBFA;\n",
              "        box-shadow: 0px 1px 2px rgba(60, 64, 67, 0.3), 0px 1px 3px 1px rgba(60, 64, 67, 0.15);\n",
              "        fill: #174EA6;\n",
              "      }\n",
              "\n",
              "      [theme=dark] .colab-df-generate {\n",
              "        background-color: #3B4455;\n",
              "        fill: #D2E3FC;\n",
              "      }\n",
              "\n",
              "      [theme=dark] .colab-df-generate:hover {\n",
              "        background-color: #434B5C;\n",
              "        box-shadow: 0px 1px 3px 1px rgba(0, 0, 0, 0.15);\n",
              "        filter: drop-shadow(0px 1px 2px rgba(0, 0, 0, 0.3));\n",
              "        fill: #FFFFFF;\n",
              "      }\n",
              "    </style>\n",
              "    <button class=\"colab-df-generate\" onclick=\"generateWithVariable('Motor_Fault_dataset')\"\n",
              "            title=\"Generate code using this dataframe.\"\n",
              "            style=\"display:none;\">\n",
              "\n",
              "  <svg xmlns=\"http://www.w3.org/2000/svg\" height=\"24px\"viewBox=\"0 0 24 24\"\n",
              "       width=\"24px\">\n",
              "    <path d=\"M7,19H8.4L18.45,9,17,7.55,7,17.6ZM5,21V16.75L18.45,3.32a2,2,0,0,1,2.83,0l1.4,1.43a1.91,1.91,0,0,1,.58,1.4,1.91,1.91,0,0,1-.58,1.4L9.25,21ZM18.45,9,17,7.55Zm-12,3A5.31,5.31,0,0,0,4.9,8.1,5.31,5.31,0,0,0,1,6.5,5.31,5.31,0,0,0,4.9,4.9,5.31,5.31,0,0,0,6.5,1,5.31,5.31,0,0,0,8.1,4.9,5.31,5.31,0,0,0,12,6.5,5.46,5.46,0,0,0,6.5,12Z\"/>\n",
              "  </svg>\n",
              "    </button>\n",
              "    <script>\n",
              "      (() => {\n",
              "      const buttonEl =\n",
              "        document.querySelector('#id_09709f97-f951-4292-a28b-b28816a73c22 button.colab-df-generate');\n",
              "      buttonEl.style.display =\n",
              "        google.colab.kernel.accessAllowed ? 'block' : 'none';\n",
              "\n",
              "      buttonEl.onclick = () => {\n",
              "        google.colab.notebook.generateWithVariable('Motor_Fault_dataset');\n",
              "      }\n",
              "      })();\n",
              "    </script>\n",
              "  </div>\n",
              "\n",
              "    </div>\n",
              "  </div>\n"
            ],
            "application/vnd.google.colaboratory.intrinsic+json": {
              "type": "dataframe",
              "variable_name": "Motor_Fault_dataset",
              "summary": "{\n  \"name\": \"Motor_Fault_dataset\",\n  \"rows\": 1572,\n  \"fields\": [\n    {\n      \"column\": \"t-SNE 1\",\n      \"properties\": {\n        \"dtype\": \"float32\",\n        \"num_unique_values\": 1569,\n        \"samples\": [\n          46.04825210571289,\n          -31.465688705444336,\n          56.322818756103516\n        ],\n        \"semantic_type\": \"\",\n        \"description\": \"\"\n      }\n    },\n    {\n      \"column\": \"t-SNE 2\",\n      \"properties\": {\n        \"dtype\": \"float32\",\n        \"num_unique_values\": 1570,\n        \"samples\": [\n          -20.74554443359375,\n          -21.138694763183594,\n          9.567208290100098\n        ],\n        \"semantic_type\": \"\",\n        \"description\": \"\"\n      }\n    },\n    {\n      \"column\": \"T-SNE component 1\",\n      \"properties\": {\n        \"dtype\": \"float32\",\n        \"num_unique_values\": 1572,\n        \"samples\": [\n          -20.183305740356445,\n          13.54694938659668,\n          -15.252657890319824\n        ],\n        \"semantic_type\": \"\",\n        \"description\": \"\"\n      }\n    },\n    {\n      \"column\": \"T-SNE component 2\",\n      \"properties\": {\n        \"dtype\": \"float32\",\n        \"num_unique_values\": 1572,\n        \"samples\": [\n          -7.200268745422363,\n          -2.473139524459839,\n          -9.93903636932373\n        ],\n        \"semantic_type\": \"\",\n        \"description\": \"\"\n      }\n    },\n    {\n      \"column\": \"Fault\",\n      \"properties\": {\n        \"dtype\": \"category\",\n        \"num_unique_values\": 8,\n        \"samples\": [\n          \"F2_IR009_20db\",\n          \"F6_OR013_20db\",\n          \"F1_IR007_20db\"\n        ],\n        \"semantic_type\": \"\",\n        \"description\": \"\"\n      }\n    }\n  ]\n}"
            }
          },
          "metadata": {},
          "execution_count": 22
        }
      ]
    },
    {
      "cell_type": "code",
      "source": [
        "#Classification Report for MKDCNN"
      ],
      "metadata": {
        "id": "zC_6vMBPsOs_"
      },
      "id": "zC_6vMBPsOs_",
      "execution_count": 23,
      "outputs": []
    },
    {
      "cell_type": "code",
      "source": [],
      "metadata": {
        "id": "b77LcDP9sPR2"
      },
      "id": "b77LcDP9sPR2",
      "execution_count": 23,
      "outputs": []
    },
    {
      "cell_type": "markdown",
      "source": [
        "HSPSO-CatBoost\n"
      ],
      "metadata": {
        "id": "wZFQ37UCYN1p"
      },
      "id": "wZFQ37UCYN1p"
    },
    {
      "cell_type": "code",
      "source": [
        "X = Motor_Fault_dataset.iloc[:, 0:4].values\n",
        "y = Motor_Fault_dataset.iloc[:, 4].values"
      ],
      "metadata": {
        "id": "f_P8BWzmYTg0"
      },
      "id": "f_P8BWzmYTg0",
      "execution_count": 24,
      "outputs": []
    },
    {
      "cell_type": "code",
      "source": [
        "# Splitting the dataset into the Training set and Test set\n",
        "from sklearn.model_selection import train_test_split\n",
        "X_train, X_test, y_train, y_test = train_test_split(X, y, test_size = 0.2)"
      ],
      "metadata": {
        "id": "vLMueEZ6YfvA"
      },
      "id": "vLMueEZ6YfvA",
      "execution_count": 25,
      "outputs": []
    },
    {
      "cell_type": "code",
      "source": [
        "pip install hyperactive"
      ],
      "metadata": {
        "id": "nsTDebhD9iQw",
        "outputId": "ec1e03ec-754e-4206-c6fc-82059cf022be",
        "colab": {
          "base_uri": "https://localhost:8080/"
        }
      },
      "id": "nsTDebhD9iQw",
      "execution_count": 26,
      "outputs": [
        {
          "output_type": "stream",
          "name": "stdout",
          "text": [
            "Collecting hyperactive\n",
            "  Downloading hyperactive-4.8.0-py3-none-any.whl.metadata (42 kB)\n",
            "\u001b[?25l     \u001b[90m━━━━━━━━━━━━━━━━━━━━━━━━━━━━━━━━━━━━━━━━\u001b[0m \u001b[32m0.0/42.8 kB\u001b[0m \u001b[31m?\u001b[0m eta \u001b[36m-:--:--\u001b[0m\r\u001b[2K     \u001b[90m━━━━━━━━━━━━━━━━━━━━━━━━━━━━━━━━━━━━━━━━\u001b[0m \u001b[32m42.8/42.8 kB\u001b[0m \u001b[31m2.5 MB/s\u001b[0m eta \u001b[36m0:00:00\u001b[0m\n",
            "\u001b[?25hRequirement already satisfied: numpy<3.0.0,>=1.18.1 in /usr/local/lib/python3.11/dist-packages (from hyperactive) (2.0.2)\n",
            "Requirement already satisfied: tqdm<5.0.0,>=4.48.0 in /usr/local/lib/python3.11/dist-packages (from hyperactive) (4.67.1)\n",
            "Requirement already satisfied: pandas<3.0.0 in /usr/local/lib/python3.11/dist-packages (from hyperactive) (2.2.2)\n",
            "Collecting gradient-free-optimizers<2.0.0,>=1.2.4 (from hyperactive)\n",
            "  Downloading gradient_free_optimizers-1.7.1-py3-none-any.whl.metadata (31 kB)\n",
            "Requirement already satisfied: scipy<2.0.0 in /usr/local/lib/python3.11/dist-packages (from gradient-free-optimizers<2.0.0,>=1.2.4->hyperactive) (1.15.3)\n",
            "Requirement already satisfied: scikit-learn!=0.23.*,>=0.21 in /usr/local/lib/python3.11/dist-packages (from gradient-free-optimizers<2.0.0,>=1.2.4->hyperactive) (1.6.1)\n",
            "Requirement already satisfied: python-dateutil>=2.8.2 in /usr/local/lib/python3.11/dist-packages (from pandas<3.0.0->hyperactive) (2.9.0.post0)\n",
            "Requirement already satisfied: pytz>=2020.1 in /usr/local/lib/python3.11/dist-packages (from pandas<3.0.0->hyperactive) (2025.2)\n",
            "Requirement already satisfied: tzdata>=2022.7 in /usr/local/lib/python3.11/dist-packages (from pandas<3.0.0->hyperactive) (2025.2)\n",
            "Requirement already satisfied: six>=1.5 in /usr/local/lib/python3.11/dist-packages (from python-dateutil>=2.8.2->pandas<3.0.0->hyperactive) (1.17.0)\n",
            "Requirement already satisfied: joblib>=1.2.0 in /usr/local/lib/python3.11/dist-packages (from scikit-learn!=0.23.*,>=0.21->gradient-free-optimizers<2.0.0,>=1.2.4->hyperactive) (1.5.1)\n",
            "Requirement already satisfied: threadpoolctl>=3.1.0 in /usr/local/lib/python3.11/dist-packages (from scikit-learn!=0.23.*,>=0.21->gradient-free-optimizers<2.0.0,>=1.2.4->hyperactive) (3.6.0)\n",
            "Downloading hyperactive-4.8.0-py3-none-any.whl (30 kB)\n",
            "Downloading gradient_free_optimizers-1.7.1-py3-none-any.whl (95 kB)\n",
            "\u001b[2K   \u001b[90m━━━━━━━━━━━━━━━━━━━━━━━━━━━━━━━━━━━━━━━━\u001b[0m \u001b[32m95.8/95.8 kB\u001b[0m \u001b[31m5.8 MB/s\u001b[0m eta \u001b[36m0:00:00\u001b[0m\n",
            "\u001b[?25hInstalling collected packages: gradient-free-optimizers, hyperactive\n",
            "Successfully installed gradient-free-optimizers-1.7.1 hyperactive-4.8.0\n"
          ]
        }
      ]
    },
    {
      "cell_type": "code",
      "source": [
        "pip install catboost"
      ],
      "metadata": {
        "id": "UTH39uc29p_Q",
        "outputId": "b6128c7d-d2c5-48ed-85c7-201809f8fbc5",
        "colab": {
          "base_uri": "https://localhost:8080/"
        }
      },
      "id": "UTH39uc29p_Q",
      "execution_count": 27,
      "outputs": [
        {
          "output_type": "stream",
          "name": "stdout",
          "text": [
            "Collecting catboost\n",
            "  Downloading catboost-1.2.8-cp311-cp311-manylinux2014_x86_64.whl.metadata (1.2 kB)\n",
            "Requirement already satisfied: graphviz in /usr/local/lib/python3.11/dist-packages (from catboost) (0.21)\n",
            "Requirement already satisfied: matplotlib in /usr/local/lib/python3.11/dist-packages (from catboost) (3.10.0)\n",
            "Requirement already satisfied: numpy<3.0,>=1.16.0 in /usr/local/lib/python3.11/dist-packages (from catboost) (2.0.2)\n",
            "Requirement already satisfied: pandas>=0.24 in /usr/local/lib/python3.11/dist-packages (from catboost) (2.2.2)\n",
            "Requirement already satisfied: scipy in /usr/local/lib/python3.11/dist-packages (from catboost) (1.15.3)\n",
            "Requirement already satisfied: plotly in /usr/local/lib/python3.11/dist-packages (from catboost) (5.24.1)\n",
            "Requirement already satisfied: six in /usr/local/lib/python3.11/dist-packages (from catboost) (1.17.0)\n",
            "Requirement already satisfied: python-dateutil>=2.8.2 in /usr/local/lib/python3.11/dist-packages (from pandas>=0.24->catboost) (2.9.0.post0)\n",
            "Requirement already satisfied: pytz>=2020.1 in /usr/local/lib/python3.11/dist-packages (from pandas>=0.24->catboost) (2025.2)\n",
            "Requirement already satisfied: tzdata>=2022.7 in /usr/local/lib/python3.11/dist-packages (from pandas>=0.24->catboost) (2025.2)\n",
            "Requirement already satisfied: contourpy>=1.0.1 in /usr/local/lib/python3.11/dist-packages (from matplotlib->catboost) (1.3.2)\n",
            "Requirement already satisfied: cycler>=0.10 in /usr/local/lib/python3.11/dist-packages (from matplotlib->catboost) (0.12.1)\n",
            "Requirement already satisfied: fonttools>=4.22.0 in /usr/local/lib/python3.11/dist-packages (from matplotlib->catboost) (4.58.4)\n",
            "Requirement already satisfied: kiwisolver>=1.3.1 in /usr/local/lib/python3.11/dist-packages (from matplotlib->catboost) (1.4.8)\n",
            "Requirement already satisfied: packaging>=20.0 in /usr/local/lib/python3.11/dist-packages (from matplotlib->catboost) (24.2)\n",
            "Requirement already satisfied: pillow>=8 in /usr/local/lib/python3.11/dist-packages (from matplotlib->catboost) (11.2.1)\n",
            "Requirement already satisfied: pyparsing>=2.3.1 in /usr/local/lib/python3.11/dist-packages (from matplotlib->catboost) (3.2.3)\n",
            "Requirement already satisfied: tenacity>=6.2.0 in /usr/local/lib/python3.11/dist-packages (from plotly->catboost) (9.1.2)\n",
            "Downloading catboost-1.2.8-cp311-cp311-manylinux2014_x86_64.whl (99.2 MB)\n",
            "\u001b[2K   \u001b[90m━━━━━━━━━━━━━━━━━━━━━━━━━━━━━━━━━━━━━━━━\u001b[0m \u001b[32m99.2/99.2 MB\u001b[0m \u001b[31m8.4 MB/s\u001b[0m eta \u001b[36m0:00:00\u001b[0m\n",
            "\u001b[?25hInstalling collected packages: catboost\n",
            "Successfully installed catboost-1.2.8\n"
          ]
        }
      ]
    },
    {
      "cell_type": "markdown",
      "source": [
        "Deployment:"
      ],
      "metadata": {
        "id": "Ul9AHZU5uIcP"
      },
      "id": "Ul9AHZU5uIcP"
    },
    {
      "cell_type": "code",
      "source": [
        "import numpy as np\n",
        "import pandas as pd\n",
        "from datetime import datetime\n",
        "from sklearn.model_selection import cross_val_score\n",
        "from catboost import CatBoostClassifier, Pool\n",
        "from hyperactive import Hyperactive\n",
        "from hyperactive.optimizers import ParticleSwarmOptimizer\n",
        "from sklearn.metrics import classification_report, confusion_matrix\n",
        "import matplotlib.pyplot as plt\n",
        "import seaborn as sns\n",
        "\n",
        "# === DATA: Replace X_train, X_test, y_train, y_test with your actual data ===\n",
        "# Example:\n",
        "# X_train, X_test, y_train, y_test = train_test_split(...)\n",
        "\n",
        "X, y = X_train, y_train\n",
        "\n",
        "# === Objective Function ===\n",
        "def model(opt):\n",
        "    CatBoost = CatBoostClassifier(\n",
        "        iterations=opt[\"iterations\"],\n",
        "        depth=opt[\"depth\"],\n",
        "        learning_rate=opt[\"learning_rate\"],\n",
        "        l2_leaf_reg=opt[\"l2_leaf_reg\"],\n",
        "        bagging_temperature=opt[\"bagging_temperature\"],\n",
        "        random_strength=opt[\"random_strength\"],\n",
        "        verbose=False\n",
        "    )\n",
        "    scores = cross_val_score(CatBoost, X, y, cv=4)\n",
        "    return scores.mean()\n",
        "\n",
        "# === Search Space ===\n",
        "search_space = {\n",
        "    \"iterations\": list(range(50, 501, 50)),\n",
        "    \"depth\": list(range(1, 11)),\n",
        "    \"learning_rate\": [0.01, 0.05, 0.1],\n",
        "    \"l2_leaf_reg\": [1, 3, 5],\n",
        "    \"bagging_temperature\": [0.5, 1, 1.5],\n",
        "    \"random_strength\": [0.5, 1, 1.5],\n",
        "}\n",
        "\n",
        "# === Cauchy Mutation ===\n",
        "def cauchy_mutation(particle, gamma=0.3):\n",
        "    for key in particle:\n",
        "        if isinstance(particle[key], (int, float)):\n",
        "            particle[key] = particle[key] * (1 + gamma * np.tan(np.pi * (np.random.rand() - 0.5)))\n",
        "            particle[key] = np.clip(particle[key], min(search_space[key]), max(search_space[key]))\n",
        "            if isinstance(search_space[key][0], int):\n",
        "                particle[key] = int(round(particle[key]))\n",
        "    return particle\n",
        "\n",
        "# === HSPSO Optimizer Class ===\n",
        "class HybridStrategyPSO(ParticleSwarmOptimizer):\n",
        "    def __init__(self, n_part=20, max_iter=40, **kwargs):\n",
        "        super().__init__(**kwargs)\n",
        "        self.switch_threshold = 10\n",
        "        self.iteration = 0\n",
        "        self.topology = \"gbest\"\n",
        "        self.n_part = n_part\n",
        "        self.max_iter = max_iter\n",
        "\n",
        "        # Adaptive Inertia Parameters\n",
        "        self.H = 1\n",
        "        self.w_min = 0.4\n",
        "        self.w_max = 0.9\n",
        "        self.b = 0.9\n",
        "        self.scaling_factor = 0.5\n",
        "\n",
        "    def on_iteration(self, swarm, scores):\n",
        "        self.iteration += 1\n",
        "\n",
        "        # === Topology Switching ===\n",
        "        if self.iteration % self.switch_threshold == 0:\n",
        "            self.topology = \"lbest\" if self.topology == \"gbest\" else \"gbest\"\n",
        "            self.set_topology(self.topology)\n",
        "\n",
        "        # === Clone Best Particles ===\n",
        "        best_indices = np.argsort(scores)[:max(1, len(swarm) // 5)]\n",
        "        for idx in best_indices:\n",
        "            particle = swarm[idx].copy()\n",
        "            swarm.append(particle)\n",
        "            scores.append(scores[idx])\n",
        "\n",
        "        # === Prune Worst Particles ===\n",
        "        if len(swarm) > 2 * self.n_part:\n",
        "            worst_indices = np.argsort(scores)[-len(swarm)//4:]\n",
        "            for i in reversed(worst_indices):\n",
        "                del swarm[i]\n",
        "                del scores[i]\n",
        "\n",
        "        # === Nonlinear Adaptive Inertia ===\n",
        "        numerator = (self.w_max - self.w_min) * self.iteration\n",
        "        denominator = 1 + np.exp(-10 * self.b * ((2 * self.iteration) / (self.H * self.max_iter) - 1))\n",
        "        self.inertia = self.w_max - numerator / denominator\n",
        "\n",
        "        # === Cauchy Mutation ===\n",
        "        for i in range(len(swarm)):\n",
        "            if np.random.rand() < 0.2:\n",
        "                swarm[i] = cauchy_mutation(swarm[i])\n",
        "\n",
        "        # === Hook-Jeeves Local Search (simplified) ===\n",
        "        top_ids = np.argsort(scores)[:2]\n",
        "        for i in top_ids:\n",
        "            particle = swarm[i]\n",
        "            for key in particle:\n",
        "                if isinstance(particle[key], (int, float)):\n",
        "                    for delta in [-0.01, 0.01] if isinstance(particle[key], float) else [-1, 1]:\n",
        "                        trial = particle.copy()\n",
        "                        trial[key] = trial[key] + delta\n",
        "                        trial[key] = np.clip(trial[key], min(search_space[key]), max(search_space[key]))\n",
        "                        if isinstance(search_space[key][0], int):\n",
        "                            trial[key] = int(round(trial[key]))\n",
        "                        trial_score = model(trial)\n",
        "                        if trial_score > scores[i]:\n",
        "                            swarm[i] = trial\n",
        "                            scores[i] = trial_score\n",
        "\n",
        "        # === Random Restart ===\n",
        "        if np.random.rand() < 0.1:\n",
        "            random_idx = np.random.choice(len(swarm))\n",
        "            for key in swarm[random_idx]:\n",
        "                if isinstance(swarm[random_idx][key], (int, float)):\n",
        "                    swarm[random_idx][key] = np.random.choice(search_space[key])\n",
        "\n",
        "# === Run HSPSO Hyperparameter Tuning ===\n",
        "start_time = datetime.now()\n",
        "\n",
        "hyper = Hyperactive()\n",
        "\n",
        "optimizer = HybridStrategyPSO(\n",
        "    n_part=20,\n",
        "    max_iter=40,\n",
        "    inertia=0.5,\n",
        "    cognitive_weight=0.9,\n",
        "    social_weight=0.5,\n",
        "    temp_weight=0.4,\n",
        "    rand_rest_p=0.05,\n",
        ")\n",
        "\n",
        "hyper.add_search(model, search_space, optimizer=optimizer, n_iter=40)\n",
        "hyper.run()\n",
        "\n",
        "end_time = datetime.now()\n",
        "print('Tuning Duration:', end_time - start_time)\n",
        "\n",
        "# === Best Parameters ===\n",
        "best_params = hyper.best_para(model)\n",
        "print(\"Best Parameters:\", best_params)\n",
        "\n",
        "# === Train Final Model with Best Parameters ===\n",
        "train_pool = Pool(data=X_train, label=y_train)\n",
        "test_pool = Pool(data=X_test, label=y_test)\n",
        "\n",
        "final_model = CatBoostClassifier(\n",
        "    depth=best_params[\"depth\"],\n",
        "    iterations=best_params[\"iterations\"],\n",
        "    learning_rate=best_params[\"learning_rate\"],\n",
        "    l2_leaf_reg=best_params[\"l2_leaf_reg\"],\n",
        "    bagging_temperature=best_params[\"bagging_temperature\"],\n",
        "    random_strength=best_params[\"random_strength\"],\n",
        "    verbose=10\n",
        ")\n",
        "\n",
        "final_model.fit(\n",
        "    train_pool,\n",
        "    eval_set=test_pool,\n",
        "    verbose=best_params[\"iterations\"] // 10,\n",
        "    plot=True\n",
        ")\n"
      ],
      "metadata": {
        "id": "jQr38vF8A9_i",
        "outputId": "33ae2dc5-2a46-4cb8-af07-83c644771160",
        "colab": {
          "base_uri": "https://localhost:8080/",
          "height": 677,
          "referenced_widgets": [
            "31a6bbf16ff34634ad467c75cc9a1c7b"
          ]
        }
      },
      "id": "jQr38vF8A9_i",
      "execution_count": 28,
      "outputs": [
        {
          "output_type": "stream",
          "name": "stderr",
          "text": [
            "[0] model (Particle Swarm Optimization): 100%|\u001b[32m──────────\u001b[0m| 40/40 [18:48<00:00, 28.22s/it, best_iter=0, best_pos=None, best_score=-inf]"
          ]
        },
        {
          "output_type": "stream",
          "name": "stdout",
          "text": [
            "\n",
            "\n",
            "Results: 'model'  \n",
            "   Best score: 0.9825093519361036  \n",
            "   Best parameter set:\n",
            "      'iterations'          : 250.0  \n",
            "      'depth'               : 5.0  \n",
            "      'learning_rate'       : 0.05  \n",
            "      'l2_leaf_reg'         : 3.0  \n",
            "      'bagging_temperature' : 1.0  \n",
            "      'random_strength'     : 1.0  \n",
            "   Best iteration: 0  \n",
            " \n",
            "   Random seed: 1414841694  \n",
            " \n",
            "   Evaluation time   : 1128.6881906986237 sec    [100.0 %]\n",
            "   Optimization time : 0.0190277099609375 sec    [0.0 %]\n",
            "   Iteration time    : 1128.7072184085846 sec    [28.22 sec/iter]\n",
            " \n",
            "Tuning Duration: 0:18:48.935954\n",
            "Best Parameters: {'iterations': 250, 'depth': 5, 'learning_rate': 0.05, 'l2_leaf_reg': 3, 'bagging_temperature': 1, 'random_strength': 1}\n"
          ]
        },
        {
          "output_type": "stream",
          "name": "stderr",
          "text": [
            "\n"
          ]
        },
        {
          "output_type": "display_data",
          "data": {
            "text/plain": [
              "MetricVisualizer(layout=Layout(align_self='stretch', height='500px'))"
            ],
            "application/vnd.jupyter.widget-view+json": {
              "version_major": 2,
              "version_minor": 0,
              "model_id": "31a6bbf16ff34634ad467c75cc9a1c7b"
            }
          },
          "metadata": {}
        },
        {
          "output_type": "stream",
          "name": "stdout",
          "text": [
            "0:\tlearn: 1.8406944\ttest: 1.8385773\tbest: 1.8385773 (0)\ttotal: 4.23ms\tremaining: 1.05s\n",
            "25:\tlearn: 0.4388271\ttest: 0.4385279\tbest: 0.4385279 (25)\ttotal: 83.5ms\tremaining: 720ms\n",
            "50:\tlearn: 0.2059701\ttest: 0.1997227\tbest: 0.1997227 (50)\ttotal: 188ms\tremaining: 733ms\n",
            "75:\tlearn: 0.1385782\ttest: 0.1325325\tbest: 0.1325325 (75)\ttotal: 275ms\tremaining: 629ms\n",
            "100:\tlearn: 0.1102681\ttest: 0.1064557\tbest: 0.1064557 (100)\ttotal: 355ms\tremaining: 524ms\n",
            "125:\tlearn: 0.0949651\ttest: 0.0938961\tbest: 0.0938544 (123)\ttotal: 437ms\tremaining: 431ms\n",
            "150:\tlearn: 0.0833182\ttest: 0.0853173\tbest: 0.0853173 (150)\ttotal: 524ms\tremaining: 343ms\n",
            "175:\tlearn: 0.0750989\ttest: 0.0788610\tbest: 0.0788610 (175)\ttotal: 602ms\tremaining: 253ms\n",
            "200:\tlearn: 0.0694936\ttest: 0.0756563\tbest: 0.0756563 (200)\ttotal: 685ms\tremaining: 167ms\n",
            "225:\tlearn: 0.0648040\ttest: 0.0721012\tbest: 0.0721012 (225)\ttotal: 767ms\tremaining: 81.4ms\n",
            "249:\tlearn: 0.0599914\ttest: 0.0691315\tbest: 0.0691315 (249)\ttotal: 846ms\tremaining: 0us\n",
            "\n",
            "bestTest = 0.06913145317\n",
            "bestIteration = 249\n",
            "\n"
          ]
        },
        {
          "output_type": "execute_result",
          "data": {
            "text/plain": [
              "<catboost.core.CatBoostClassifier at 0x7c129419ba50>"
            ]
          },
          "metadata": {},
          "execution_count": 28
        }
      ]
    },
    {
      "cell_type": "code",
      "source": [
        "hyper.add_search(model, search_space, optimizer=optimizer, n_iter=40, initialize={\"random\": 20})\n"
      ],
      "metadata": {
        "id": "a_9tYmgz45VS"
      },
      "id": "a_9tYmgz45VS",
      "execution_count": 29,
      "outputs": []
    },
    {
      "cell_type": "code",
      "source": [
        "learning_curve = final_model.get_evals_result()\n",
        "print(learning_curve)"
      ],
      "metadata": {
        "id": "2mRL06xdGZve",
        "outputId": "1680833f-8eb8-4d97-ba4d-37dfad20d961",
        "colab": {
          "base_uri": "https://localhost:8080/"
        }
      },
      "id": "2mRL06xdGZve",
      "execution_count": 30,
      "outputs": [
        {
          "output_type": "stream",
          "name": "stdout",
          "text": [
            "{'learn': {'MultiClass': [1.8406943907460878, 1.6762118759883229, 1.5249332913474674, 1.4112298899935987, 1.3074435332409713, 1.2168493945761345, 1.1372526030073205, 1.0673971585235722, 0.9995202150451254, 0.9395264379003172, 0.8896857597773502, 0.8419102357819551, 0.8003743563963895, 0.759801835706089, 0.7216433995444764, 0.6876476609034283, 0.6541777719096784, 0.6213348106124134, 0.5910652455148245, 0.5636180276445674, 0.5421296564820569, 0.5184780657692157, 0.4962305056374895, 0.4759666452930738, 0.45724264443794665, 0.438827069919188, 0.4222408339760832, 0.40571803488175834, 0.3905354480636135, 0.37870763748394976, 0.3641722889941046, 0.35199371094113735, 0.33949546364558764, 0.32805721255097164, 0.3162166224354018, 0.3060295468099485, 0.29715031712622325, 0.28800433699488137, 0.2798638417543705, 0.27330586981095845, 0.265249656325879, 0.25877330376284896, 0.25171608698396597, 0.24446477621159876, 0.23779603668257124, 0.23162483912411488, 0.2260307454891296, 0.22158461311258562, 0.2167755655274768, 0.21134384868188638, 0.20597013300904998, 0.20057785238202522, 0.19711862471014044, 0.19284648812188374, 0.18869583448453045, 0.18572137508120914, 0.1829801160134502, 0.17975265674636332, 0.17732157896611106, 0.1737047665373916, 0.17165569712834627, 0.16889144295418163, 0.16615725287199426, 0.16354093017415797, 0.16047004090944478, 0.158127231586166, 0.15527238114755165, 0.15428858040852653, 0.15178073089456645, 0.1496266688766147, 0.14782961248923587, 0.1453988032901566, 0.14283062694458218, 0.1408286120995811, 0.14022310629101012, 0.13857819599646337, 0.1369670564446466, 0.13542659199453635, 0.13272458752591718, 0.13088683965014214, 0.12978561235481498, 0.12896536630584235, 0.1275483386613778, 0.12539621858253822, 0.12396734896503352, 0.12291705302179429, 0.12199365683598666, 0.12057550600733863, 0.11938784178667992, 0.11918884263194293, 0.11781058574117224, 0.11700740455398985, 0.11576719494811874, 0.115084347319494, 0.11399085082629896, 0.11356769217690206, 0.11256247882212654, 0.11201710637317376, 0.11173650345979451, 0.11121294277052098, 0.11026812060456499, 0.10982497055491998, 0.10890075918490721, 0.10785961308966244, 0.1072654191838688, 0.10689628829984077, 0.10611849144301104, 0.10513759922505307, 0.10427817235794348, 0.10396144561973689, 0.10343304226887812, 0.10251686400608875, 0.1018496118408042, 0.10135320936217634, 0.10019023968031654, 0.09947457376096945, 0.09869804140699262, 0.09838423501061132, 0.09776469063262329, 0.09739198182857131, 0.0968923174115049, 0.09638523497269309, 0.09570458145546433, 0.09542078713380231, 0.09520049151404167, 0.09496510376056683, 0.09434082504926074, 0.09367845538070746, 0.09325092749203835, 0.09275005658852892, 0.09195041017392079, 0.09146763075980269, 0.09128315706201301, 0.09052808155990992, 0.09030150932721925, 0.09001198134801787, 0.08948729946339913, 0.08926293511109652, 0.08866301614019656, 0.08803269376908256, 0.08753319936509182, 0.08692860843314053, 0.08666799552924433, 0.08610123300770306, 0.08583581918420019, 0.08532725100091056, 0.08503266361344515, 0.08476263412562567, 0.08440815306359083, 0.0838110884866193, 0.08331820065721308, 0.08242709912459653, 0.0821423217101188, 0.08159747306670243, 0.08133138683630131, 0.08084063917797607, 0.08064946414746839, 0.08029171281785308, 0.07996909807771373, 0.07954030478223394, 0.07930818731038997, 0.07886809483056868, 0.07841541820451081, 0.07814256529400976, 0.07804954574868754, 0.07775790981782357, 0.07746656529643507, 0.07704060331543415, 0.07683101028260551, 0.0766904735393036, 0.07616472384563447, 0.0759620425635781, 0.07569542211849684, 0.07545872826079762, 0.07529724587575759, 0.0750988505938797, 0.07496389744446913, 0.07434087912795644, 0.07360706663697186, 0.07338018691291218, 0.07326964390757314, 0.07301197313257413, 0.07271745065607334, 0.07256451198140028, 0.07246032493494474, 0.0723041433696552, 0.07223796072971841, 0.07188310363659531, 0.07171475958396034, 0.07159322622453848, 0.07133363323015791, 0.0712019631806418, 0.07104465697087506, 0.07056580317152363, 0.07047688274213341, 0.0703322690967, 0.0701551612038213, 0.07002206348322952, 0.06985263333353504, 0.06966902654347931, 0.06949359266556022, 0.0691393194435636, 0.06898707804221431, 0.06883004643114352, 0.06867293400798444, 0.06855133568150117, 0.06833831933640784, 0.06816893817314032, 0.06802980281267293, 0.06793822335170792, 0.06758424659547428, 0.06740850617793236, 0.06730379377999227, 0.06717522994881314, 0.06707461006220522, 0.06664020038660191, 0.06652958930857483, 0.06640938967877184, 0.0663058836260309, 0.06619232049399791, 0.06600200780204839, 0.06582316798507747, 0.06539476358919093, 0.06520800335205483, 0.06511347976601933, 0.06480403242686203, 0.06471985613815508, 0.0645532292932738, 0.06417892120537078, 0.06399711290449946, 0.06359183981683357, 0.06351544153756655, 0.06324964112192727, 0.06313804280631076, 0.06274736477483961, 0.06250752929169766, 0.06212715107114722, 0.06202590483262925, 0.06174829494742339, 0.061515224162856916, 0.061339428465378674, 0.061259551124826964, 0.06102065673091316, 0.0609215190851668, 0.06083325804724346, 0.06064538448275854, 0.060454170126696696, 0.06040282775741205, 0.0601971111902507, 0.05999144675027776]}, 'validation': {'MultiClass': [1.838577275789059, 1.6772727212273313, 1.5249128452927647, 1.4094079383123983, 1.3052012338563306, 1.2140506703365244, 1.13540371050852, 1.0665776348521143, 0.9986872137466839, 0.9392504173704651, 0.8904395299472939, 0.843545949971223, 0.801676143974954, 0.7604845321938557, 0.7225810339807395, 0.6873578302435777, 0.654611581206465, 0.6222759491446478, 0.5925009379647865, 0.5660155044652093, 0.5443681405319096, 0.5201926840962274, 0.49806908323533616, 0.4774345935127151, 0.4579007282539617, 0.4385278841553577, 0.4213571928873522, 0.4046060645075097, 0.3890473419008949, 0.3769094081247615, 0.3629518397016334, 0.35125587773699196, 0.33885989877214295, 0.327122436115924, 0.31530445495770554, 0.3048041133250858, 0.29570943743563427, 0.285985487538207, 0.2778834333962958, 0.2712534189556249, 0.2627081722744486, 0.25541191197626156, 0.24812944558559516, 0.24093546518185205, 0.23418035847128757, 0.22726608606640564, 0.2210812028676701, 0.21623534745277273, 0.21154694341929067, 0.20579627648987925, 0.1997226854915364, 0.19368353629750076, 0.1904355283617051, 0.18627502694952947, 0.18175105311452422, 0.17872361641230863, 0.1761131242824327, 0.17286665267137966, 0.17034667247046117, 0.16673045110519072, 0.16462493003656625, 0.16174541283913002, 0.15909080047651988, 0.15665376574616516, 0.15341615344327836, 0.15145354216709483, 0.1480882072062661, 0.14728456118997563, 0.14511070113664448, 0.1431396897426385, 0.14166684754584133, 0.1396347672625208, 0.1365709495736495, 0.13440326047076587, 0.1339767562438396, 0.13253254756175156, 0.13086147053748884, 0.1294637572889562, 0.12661359952503368, 0.12482473332150042, 0.12377746428861629, 0.12306701500742878, 0.12165784863498431, 0.11930402498803297, 0.11809285002257575, 0.11730286143172466, 0.1164837949471575, 0.11491053241313666, 0.11371621899232846, 0.11377552514585368, 0.11252970830956603, 0.11176333178250634, 0.11044796052939837, 0.11021439906320094, 0.10927445092747869, 0.10912641124655252, 0.1081172320633664, 0.1077170232256632, 0.10781565528581384, 0.10771051455838147, 0.106455675593839, 0.1062777878686191, 0.10554543344901386, 0.10449739659038573, 0.10419546080325545, 0.10391758474265773, 0.1031908952111812, 0.10229984067501142, 0.10147700892832562, 0.10136073213601454, 0.10076564878969534, 0.09996869093820089, 0.09938839915835168, 0.09901675492718032, 0.0979486640301421, 0.09725679116399666, 0.09645108804523483, 0.0961405112812351, 0.09545712568435737, 0.09538858652458843, 0.09496167248507995, 0.09458132642452544, 0.09398474964940143, 0.09385442382692472, 0.09394668446608946, 0.09389611892502735, 0.0935250287111647, 0.09297203405098786, 0.09268676622680413, 0.09227948524119842, 0.09147727149340591, 0.09101445648618565, 0.09109021598598699, 0.09051398179926057, 0.09044382871366818, 0.09018462895232472, 0.0900188064228552, 0.09003685271533744, 0.08954736811234063, 0.08887981760858765, 0.08831125428618536, 0.08757871728101774, 0.08740782254818978, 0.08703606340280094, 0.08672176426417705, 0.08648026489364963, 0.08626588508582099, 0.08611408840855488, 0.08609358133789384, 0.08569548267676923, 0.08531726940721324, 0.08439553299665, 0.08428110547664315, 0.08380120748747687, 0.08357144635740063, 0.08318335319912419, 0.08307997262385472, 0.08273109141626102, 0.08244478701625038, 0.08213395234405596, 0.08205709033462269, 0.0815551471234818, 0.08137507220561153, 0.08129034510405357, 0.08138388800386606, 0.08100257857963655, 0.08067373230990597, 0.0801585117375079, 0.07990884974281844, 0.08000546845128687, 0.0797113254268257, 0.07952974353463278, 0.07926796347348537, 0.07909558364483932, 0.07896007665530193, 0.07886103283863072, 0.07895646343829563, 0.07836236601887929, 0.07782733159151983, 0.07768388258727424, 0.07765984730128186, 0.07749986455001792, 0.07728797222129834, 0.07717521549561114, 0.07721472702007603, 0.07709535718479268, 0.07711039172244616, 0.07690302471467347, 0.07689072734975198, 0.07685627644336424, 0.07654203481324424, 0.07647199402633768, 0.07641333868001161, 0.07627297050402544, 0.0763056007869642, 0.0762213723757226, 0.07606421822835191, 0.07606317047891455, 0.07592286241762204, 0.07578860106045553, 0.07565631985184754, 0.07525209533502486, 0.07515710827112507, 0.07496529847279407, 0.07470573613637277, 0.07464951610403614, 0.0744385836837625, 0.07431818522369477, 0.07417154958687143, 0.07414384206579637, 0.07380210840371829, 0.07371461215418675, 0.07373403221818566, 0.07365985330294514, 0.07354585933685133, 0.07322315606588829, 0.07320547174345597, 0.07304750445435776, 0.07303294877492111, 0.07295737949993625, 0.07283897187809218, 0.07266845160828407, 0.07253877454747365, 0.07242136667189882, 0.07239828988913008, 0.072101209603478, 0.07219385366284595, 0.07217772292157269, 0.07181062385099826, 0.07166519975002858, 0.07142764009302428, 0.07141447672203259, 0.07116489533206723, 0.07112439460479492, 0.07088877115487599, 0.07065739230345106, 0.07030831349060875, 0.07016633332546154, 0.06984068293931567, 0.06970340720610532, 0.06960052820928364, 0.06961891733933345, 0.0694012140242669, 0.06938911857876069, 0.06937703272046744, 0.06936131109936729, 0.06915485966321139, 0.06923374400736985, 0.06917999593919423, 0.06913145316562196]}}\n"
          ]
        }
      ]
    },
    {
      "cell_type": "code",
      "source": [
        "# Retrieve evaluation results\n",
        "learning_curve = final_model.get_evals_result()\n",
        "\n",
        "# Extract the metric values\n",
        "# Assuming 'learn' corresponds to the training dataset\n",
        "train_metric_values = learning_curve.get('learn', {}).get('MultiClass', [])\n",
        "\n",
        "# Check the extracted values\n",
        "if train_metric_values:\n",
        "    print(\"Training metric values:\", train_metric_values)\n",
        "else:\n",
        "    print(\"Metric 'MultiClass' not found in evaluation results.\")\n"
      ],
      "metadata": {
        "id": "3baCXa2jGafB",
        "outputId": "e2828ea8-3639-4ba0-bf9d-eaa4e7d7c3a4",
        "colab": {
          "base_uri": "https://localhost:8080/"
        }
      },
      "id": "3baCXa2jGafB",
      "execution_count": 31,
      "outputs": [
        {
          "output_type": "stream",
          "name": "stdout",
          "text": [
            "Training metric values: [1.8406943907460878, 1.6762118759883229, 1.5249332913474674, 1.4112298899935987, 1.3074435332409713, 1.2168493945761345, 1.1372526030073205, 1.0673971585235722, 0.9995202150451254, 0.9395264379003172, 0.8896857597773502, 0.8419102357819551, 0.8003743563963895, 0.759801835706089, 0.7216433995444764, 0.6876476609034283, 0.6541777719096784, 0.6213348106124134, 0.5910652455148245, 0.5636180276445674, 0.5421296564820569, 0.5184780657692157, 0.4962305056374895, 0.4759666452930738, 0.45724264443794665, 0.438827069919188, 0.4222408339760832, 0.40571803488175834, 0.3905354480636135, 0.37870763748394976, 0.3641722889941046, 0.35199371094113735, 0.33949546364558764, 0.32805721255097164, 0.3162166224354018, 0.3060295468099485, 0.29715031712622325, 0.28800433699488137, 0.2798638417543705, 0.27330586981095845, 0.265249656325879, 0.25877330376284896, 0.25171608698396597, 0.24446477621159876, 0.23779603668257124, 0.23162483912411488, 0.2260307454891296, 0.22158461311258562, 0.2167755655274768, 0.21134384868188638, 0.20597013300904998, 0.20057785238202522, 0.19711862471014044, 0.19284648812188374, 0.18869583448453045, 0.18572137508120914, 0.1829801160134502, 0.17975265674636332, 0.17732157896611106, 0.1737047665373916, 0.17165569712834627, 0.16889144295418163, 0.16615725287199426, 0.16354093017415797, 0.16047004090944478, 0.158127231586166, 0.15527238114755165, 0.15428858040852653, 0.15178073089456645, 0.1496266688766147, 0.14782961248923587, 0.1453988032901566, 0.14283062694458218, 0.1408286120995811, 0.14022310629101012, 0.13857819599646337, 0.1369670564446466, 0.13542659199453635, 0.13272458752591718, 0.13088683965014214, 0.12978561235481498, 0.12896536630584235, 0.1275483386613778, 0.12539621858253822, 0.12396734896503352, 0.12291705302179429, 0.12199365683598666, 0.12057550600733863, 0.11938784178667992, 0.11918884263194293, 0.11781058574117224, 0.11700740455398985, 0.11576719494811874, 0.115084347319494, 0.11399085082629896, 0.11356769217690206, 0.11256247882212654, 0.11201710637317376, 0.11173650345979451, 0.11121294277052098, 0.11026812060456499, 0.10982497055491998, 0.10890075918490721, 0.10785961308966244, 0.1072654191838688, 0.10689628829984077, 0.10611849144301104, 0.10513759922505307, 0.10427817235794348, 0.10396144561973689, 0.10343304226887812, 0.10251686400608875, 0.1018496118408042, 0.10135320936217634, 0.10019023968031654, 0.09947457376096945, 0.09869804140699262, 0.09838423501061132, 0.09776469063262329, 0.09739198182857131, 0.0968923174115049, 0.09638523497269309, 0.09570458145546433, 0.09542078713380231, 0.09520049151404167, 0.09496510376056683, 0.09434082504926074, 0.09367845538070746, 0.09325092749203835, 0.09275005658852892, 0.09195041017392079, 0.09146763075980269, 0.09128315706201301, 0.09052808155990992, 0.09030150932721925, 0.09001198134801787, 0.08948729946339913, 0.08926293511109652, 0.08866301614019656, 0.08803269376908256, 0.08753319936509182, 0.08692860843314053, 0.08666799552924433, 0.08610123300770306, 0.08583581918420019, 0.08532725100091056, 0.08503266361344515, 0.08476263412562567, 0.08440815306359083, 0.0838110884866193, 0.08331820065721308, 0.08242709912459653, 0.0821423217101188, 0.08159747306670243, 0.08133138683630131, 0.08084063917797607, 0.08064946414746839, 0.08029171281785308, 0.07996909807771373, 0.07954030478223394, 0.07930818731038997, 0.07886809483056868, 0.07841541820451081, 0.07814256529400976, 0.07804954574868754, 0.07775790981782357, 0.07746656529643507, 0.07704060331543415, 0.07683101028260551, 0.0766904735393036, 0.07616472384563447, 0.0759620425635781, 0.07569542211849684, 0.07545872826079762, 0.07529724587575759, 0.0750988505938797, 0.07496389744446913, 0.07434087912795644, 0.07360706663697186, 0.07338018691291218, 0.07326964390757314, 0.07301197313257413, 0.07271745065607334, 0.07256451198140028, 0.07246032493494474, 0.0723041433696552, 0.07223796072971841, 0.07188310363659531, 0.07171475958396034, 0.07159322622453848, 0.07133363323015791, 0.0712019631806418, 0.07104465697087506, 0.07056580317152363, 0.07047688274213341, 0.0703322690967, 0.0701551612038213, 0.07002206348322952, 0.06985263333353504, 0.06966902654347931, 0.06949359266556022, 0.0691393194435636, 0.06898707804221431, 0.06883004643114352, 0.06867293400798444, 0.06855133568150117, 0.06833831933640784, 0.06816893817314032, 0.06802980281267293, 0.06793822335170792, 0.06758424659547428, 0.06740850617793236, 0.06730379377999227, 0.06717522994881314, 0.06707461006220522, 0.06664020038660191, 0.06652958930857483, 0.06640938967877184, 0.0663058836260309, 0.06619232049399791, 0.06600200780204839, 0.06582316798507747, 0.06539476358919093, 0.06520800335205483, 0.06511347976601933, 0.06480403242686203, 0.06471985613815508, 0.0645532292932738, 0.06417892120537078, 0.06399711290449946, 0.06359183981683357, 0.06351544153756655, 0.06324964112192727, 0.06313804280631076, 0.06274736477483961, 0.06250752929169766, 0.06212715107114722, 0.06202590483262925, 0.06174829494742339, 0.061515224162856916, 0.061339428465378674, 0.061259551124826964, 0.06102065673091316, 0.0609215190851668, 0.06083325804724346, 0.06064538448275854, 0.060454170126696696, 0.06040282775741205, 0.0601971111902507, 0.05999144675027776]\n"
          ]
        }
      ]
    },
    {
      "cell_type": "code",
      "source": [
        "import matplotlib.pyplot as plt\n",
        "\n",
        "# Plotting the learning curve\n",
        "plt.plot(train_metric_values, label='Training MultiClass Metric')\n",
        "plt.xlabel('Iterations')\n",
        "plt.ylabel('Metric Value')\n",
        "plt.title('Learning Curve')\n",
        "plt.legend()\n",
        "plt.grid()\n",
        "plt.show()\n"
      ],
      "metadata": {
        "id": "p0vioY6FGjQb",
        "outputId": "998b154c-abd9-4c70-fd6e-f6887fb596bf",
        "colab": {
          "base_uri": "https://localhost:8080/",
          "height": 472
        }
      },
      "id": "p0vioY6FGjQb",
      "execution_count": 32,
      "outputs": [
        {
          "output_type": "display_data",
          "data": {
            "text/plain": [
              "<Figure size 640x480 with 1 Axes>"
            ],
            "image/png": "[encoded data removed]"
          },
          "metadata": {}
        }
      ]
    },
    {
      "cell_type": "code",
      "source": [
        "# Predictions\n",
        "y_pred_train = final_model.predict(X_train)\n",
        "y_pred_test = final_model.predict(X_test)\n",
        "\n",
        "print(\"Classification Report - Training Set:\")\n",
        "print(classification_report(y_train, y_pred_train))\n",
        "\n",
        "print(\"Classification Report - Test Set:\")\n",
        "print(classification_report(y_test, y_pred_test))\n",
        "\n",
        "conf_matrix_train = confusion_matrix(y_train, y_pred_train)\n",
        "conf_matrix_test = confusion_matrix(y_test, y_pred_test)\n",
        "\n",
        "plt.figure(figsize=(15, 5))\n",
        "\n",
        "plt.subplot(1, 3, 1)\n",
        "sns.heatmap(conf_matrix_train, annot=True, fmt=\"d\", cmap=\"Blues\", cbar=False)\n",
        "plt.title(\"Confusion Matrix - Training Set\")\n",
        "plt.xlabel(\"Predicted\")\n",
        "plt.ylabel(\"True\")\n",
        "\n",
        "plt.subplot(1, 3, 2)\n",
        "sns.heatmap(conf_matrix_test, annot=True, fmt=\"d\", cmap=\"Blues\", cbar=False)\n",
        "plt.title(\"Confusion Matrix - Test Set\")\n",
        "plt.xlabel(\"Predicted\")\n",
        "plt.ylabel(\"True\")\n",
        "\n",
        "plt.tight_layout()\n",
        "plt.savefig('C-Matrix.svg', format='svg')\n",
        "plt.show()\n",
        "\n",
        "end_time = datetime.now()\n",
        "print('Deployment Duration: {}'.format(end_time - start_time))"
      ],
      "metadata": {
        "id": "EGySyu_OHNqG",
        "outputId": "48137e75-7a2c-47b4-c146-985d2d5aa369",
        "colab": {
          "base_uri": "https://localhost:8080/",
          "height": 1000
        }
      },
      "id": "EGySyu_OHNqG",
      "execution_count": 33,
      "outputs": [
        {
          "output_type": "stream",
          "name": "stdout",
          "text": [
            "Classification Report - Training Set:\n",
            "                precision    recall  f1-score   support\n",
            "\n",
            " F1_IR007_20db       1.00      1.00      1.00       161\n",
            " F2_IR009_20db       0.99      1.00      0.99       177\n",
            " F3_IR013_20db       0.99      0.98      0.98       167\n",
            " F4_IR017_20db       1.00      0.99      1.00       171\n",
            " F5_OR009_20db       0.98      0.99      0.98       159\n",
            " F6_OR013_20db       0.99      0.98      0.98       141\n",
            " F7_OR017_20db       0.99      0.99      0.99       146\n",
            "F8_Normal_20db       1.00      0.99      1.00       135\n",
            "\n",
            "      accuracy                           0.99      1257\n",
            "     macro avg       0.99      0.99      0.99      1257\n",
            "  weighted avg       0.99      0.99      0.99      1257\n",
            "\n",
            "Classification Report - Test Set:\n",
            "                precision    recall  f1-score   support\n",
            "\n",
            " F1_IR007_20db       1.00      1.00      1.00        41\n",
            " F2_IR009_20db       0.98      1.00      0.99        44\n",
            " F3_IR013_20db       0.97      1.00      0.99        38\n",
            " F4_IR017_20db       1.00      0.97      0.99        39\n",
            " F5_OR009_20db       1.00      0.95      0.97        37\n",
            " F6_OR013_20db       0.95      1.00      0.98        40\n",
            " F7_OR017_20db       1.00      1.00      1.00        40\n",
            "F8_Normal_20db       1.00      0.97      0.99        36\n",
            "\n",
            "      accuracy                           0.99       315\n",
            "     macro avg       0.99      0.99      0.99       315\n",
            "  weighted avg       0.99      0.99      0.99       315\n",
            "\n"
          ]
        },
        {
          "output_type": "display_data",
          "data": {
            "text/plain": [
              "<Figure size 1500x500 with 2 Axes>"
            ],
            "image/png": "[encoded data removed]"
          },
          "metadata": {}
        },
        {
          "output_type": "stream",
          "name": "stdout",
          "text": [
            "Deployment Duration: 0:18:51.569065\n"
          ]
        }
      ]
    },
    {
      "cell_type": "code",
      "source": [
        "final_model.fit(X_train, y_train, eval_set=(X_test, y_test))\n",
        "\n",
        "# Evaluate train accuracy\n",
        "result_train = final_model.score(X_train, y_train)\n",
        "print(\"Train Accuracy : {}\".format(result_train))\n",
        "\n",
        "# Evaluate test accuracy\n",
        "result_test = final_model.score(X_test, y_test)\n",
        "print(\"Test Accuracy : {}\".format(result_test))\n",
        "\n",
        "# Predictions\n",
        "y_pred_train = final_model.predict(X_train)\n",
        "y_pred_test = final_model.predict(X_test)\n",
        "\n",
        "# Classification report\n",
        "print(\"Classification Report - Training Set:\")\n",
        "print(classification_report(y_train, y_pred_train))\n",
        "\n",
        "print(\"Classification Report - Test Set:\")\n",
        "print(classification_report(y_test, y_pred_test))"
      ],
      "metadata": {
        "id": "tEOwmxFROH5f",
        "outputId": "f9f4af65-97b3-4be6-be28-4f421d964a5e",
        "colab": {
          "base_uri": "https://localhost:8080/"
        }
      },
      "id": "tEOwmxFROH5f",
      "execution_count": 34,
      "outputs": [
        {
          "output_type": "stream",
          "name": "stdout",
          "text": [
            "0:\tlearn: 1.8406944\ttest: 1.8385773\tbest: 1.8385773 (0)\ttotal: 7.72ms\tremaining: 1.92s\n",
            "10:\tlearn: 0.8896858\ttest: 0.8904395\tbest: 0.8904395 (10)\ttotal: 101ms\tremaining: 2.19s\n",
            "20:\tlearn: 0.5421297\ttest: 0.5443681\tbest: 0.5443681 (20)\ttotal: 198ms\tremaining: 2.16s\n",
            "30:\tlearn: 0.3641723\ttest: 0.3629518\tbest: 0.3629518 (30)\ttotal: 268ms\tremaining: 1.9s\n",
            "40:\tlearn: 0.2652497\ttest: 0.2627082\tbest: 0.2627082 (40)\ttotal: 349ms\tremaining: 1.78s\n",
            "50:\tlearn: 0.2059701\ttest: 0.1997227\tbest: 0.1997227 (50)\ttotal: 454ms\tremaining: 1.77s\n",
            "60:\tlearn: 0.1716557\ttest: 0.1646249\tbest: 0.1646249 (60)\ttotal: 547ms\tremaining: 1.7s\n",
            "70:\tlearn: 0.1478296\ttest: 0.1416668\tbest: 0.1416668 (70)\ttotal: 669ms\tremaining: 1.69s\n",
            "80:\tlearn: 0.1297856\ttest: 0.1237775\tbest: 0.1237775 (80)\ttotal: 728ms\tremaining: 1.52s\n",
            "90:\tlearn: 0.1178106\ttest: 0.1125297\tbest: 0.1125297 (90)\ttotal: 804ms\tremaining: 1.4s\n",
            "100:\tlearn: 0.1102681\ttest: 0.1064557\tbest: 0.1064557 (100)\ttotal: 956ms\tremaining: 1.41s\n",
            "110:\tlearn: 0.1034330\ttest: 0.1007656\tbest: 0.1007656 (110)\ttotal: 1.05s\tremaining: 1.31s\n",
            "120:\tlearn: 0.0968923\ttest: 0.0949617\tbest: 0.0949617 (120)\ttotal: 1.09s\tremaining: 1.17s\n",
            "130:\tlearn: 0.0919504\ttest: 0.0914773\tbest: 0.0914773 (130)\ttotal: 1.15s\tremaining: 1.04s\n",
            "140:\tlearn: 0.0875332\ttest: 0.0883113\tbest: 0.0883113 (140)\ttotal: 1.25s\tremaining: 966ms\n",
            "150:\tlearn: 0.0833182\ttest: 0.0853173\tbest: 0.0853173 (150)\ttotal: 1.34s\tremaining: 877ms\n",
            "160:\tlearn: 0.0793082\ttest: 0.0820571\tbest: 0.0820571 (160)\ttotal: 1.43s\tremaining: 789ms\n",
            "170:\tlearn: 0.0761647\ttest: 0.0797113\tbest: 0.0797113 (170)\ttotal: 1.52s\tremaining: 702ms\n",
            "180:\tlearn: 0.0732696\ttest: 0.0776598\tbest: 0.0776598 (180)\ttotal: 1.61s\tremaining: 613ms\n",
            "190:\tlearn: 0.0713336\ttest: 0.0765420\tbest: 0.0765420 (190)\ttotal: 1.71s\tremaining: 529ms\n",
            "200:\tlearn: 0.0694936\ttest: 0.0756563\tbest: 0.0756563 (200)\ttotal: 1.84s\tremaining: 448ms\n",
            "210:\tlearn: 0.0675842\ttest: 0.0738021\tbest: 0.0738021 (210)\ttotal: 1.94s\tremaining: 359ms\n",
            "220:\tlearn: 0.0660020\ttest: 0.0728390\tbest: 0.0728390 (220)\ttotal: 2.04s\tremaining: 267ms\n",
            "230:\tlearn: 0.0635918\ttest: 0.0714276\tbest: 0.0714276 (230)\ttotal: 2.14s\tremaining: 176ms\n",
            "240:\tlearn: 0.0613394\ttest: 0.0696005\tbest: 0.0696005 (240)\ttotal: 2.24s\tremaining: 83.6ms\n",
            "249:\tlearn: 0.0599914\ttest: 0.0691315\tbest: 0.0691315 (249)\ttotal: 2.33s\tremaining: 0us\n",
            "\n",
            "bestTest = 0.06913145317\n",
            "bestIteration = 249\n",
            "\n",
            "Train Accuracy : 0.9912490055688147\n",
            "Test Accuracy : 0.9873015873015873\n",
            "Classification Report - Training Set:\n",
            "                precision    recall  f1-score   support\n",
            "\n",
            " F1_IR007_20db       1.00      1.00      1.00       161\n",
            " F2_IR009_20db       0.99      1.00      0.99       177\n",
            " F3_IR013_20db       0.99      0.98      0.98       167\n",
            " F4_IR017_20db       1.00      0.99      1.00       171\n",
            " F5_OR009_20db       0.98      0.99      0.98       159\n",
            " F6_OR013_20db       0.99      0.98      0.98       141\n",
            " F7_OR017_20db       0.99      0.99      0.99       146\n",
            "F8_Normal_20db       1.00      0.99      1.00       135\n",
            "\n",
            "      accuracy                           0.99      1257\n",
            "     macro avg       0.99      0.99      0.99      1257\n",
            "  weighted avg       0.99      0.99      0.99      1257\n",
            "\n",
            "Classification Report - Test Set:\n",
            "                precision    recall  f1-score   support\n",
            "\n",
            " F1_IR007_20db       1.00      1.00      1.00        41\n",
            " F2_IR009_20db       0.98      1.00      0.99        44\n",
            " F3_IR013_20db       0.97      1.00      0.99        38\n",
            " F4_IR017_20db       1.00      0.97      0.99        39\n",
            " F5_OR009_20db       1.00      0.95      0.97        37\n",
            " F6_OR013_20db       0.95      1.00      0.98        40\n",
            " F7_OR017_20db       1.00      1.00      1.00        40\n",
            "F8_Normal_20db       1.00      0.97      0.99        36\n",
            "\n",
            "      accuracy                           0.99       315\n",
            "     macro avg       0.99      0.99      0.99       315\n",
            "  weighted avg       0.99      0.99      0.99       315\n",
            "\n"
          ]
        }
      ]
    }
  ],
  "metadata": {
    "kernelspec": {
      "display_name": "Python 3",
      "name": "python3"
    },
    "language_info": {
      "codemirror_mode": {
        "name": "ipython",
        "version": 3
      },
      "file_extension": ".py",
      "mimetype": "text/x-python",
      "name": "python",
      "nbconvert_exporter": "python",
      "pygments_lexer": "ipython3",
      "version": "3.11.2"
    },
    "colab": {
      "provenance": [],
      "gpuType": "T4",
      "include_colab_link": true
    },
    "accelerator": "GPU",
    "widgets": {
      "application/vnd.jupyter.widget-state+json": {
        "31a6bbf16ff34634ad467c75cc9a1c7b": {
          "model_module": "catboost-widget",
          "model_name": "CatboostWidgetModel",
          "model_module_version": "^1.0.0",
          "state": {
            "_dom_classes": [],
            "_model_module": "catboost-widget",
            "_model_module_version": "^1.0.0",
            "_model_name": "CatboostWidgetModel",
            "_view_count": null,
            "_view_module": "catboost-widget",
            "_view_module_version": "^1.0.0",
            "_view_name": "CatboostWidgetView",
            "data": {
              "catboost_info": {
                "path": "catboost_info",
                "name": "catboost_info",
                "content": {
                  "passed_iterations": 249,
                  "total_iterations": 250,
                  "data": {
                    "iterations": [
                      {
                        "learn": [
                          1.840694391
                        ],
                        "iteration": 0,
                        "passed_time": 0.004230526301,
                        "remaining_time": 1.053401049,
                        "test": [
                          1.838577276
                        ]
                      },
                      {
                        "learn": [
                          1.676211876
                        ],
                        "iteration": 1,
                        "passed_time": 0.007496667955,
                        "remaining_time": 0.9295868264,
                        "test": [
                          1.677272721
                        ]
                      },
                      {
                        "learn": [
                          1.524933291
                        ],
                        "iteration": 2,
                        "passed_time": 0.0106763349,
                        "remaining_time": 0.8790182398,
                        "test": [
                          1.524912845
                        ]
                      },
                      {
                        "learn": [
                          1.41122989
                        ],
                        "iteration": 3,
                        "passed_time": 0.0138522311,
                        "remaining_time": 0.8519122126,
                        "test": [
                          1.409407938
                        ]
                      },
                      {
                        "learn": [
                          1.307443533
                        ],
                        "iteration": 4,
                        "passed_time": 0.01697353181,
                        "remaining_time": 0.8317030589,
                        "test": [
                          1.305201234
                        ]
                      },
                      {
                        "learn": [
                          1.216849395
                        ],
                        "iteration": 5,
                        "passed_time": 0.02006568033,
                        "remaining_time": 0.8160043333,
                        "test": [
                          1.21405067
                        ]
                      },
                      {
                        "learn": [
                          1.137252603
                        ],
                        "iteration": 6,
                        "passed_time": 0.02322160411,
                        "remaining_time": 0.8061213999,
                        "test": [
                          1.135403711
                        ]
                      },
                      {
                        "learn": [
                          1.067397159
                        ],
                        "iteration": 7,
                        "passed_time": 0.02646175699,
                        "remaining_time": 0.8004681488,
                        "test": [
                          1.066577635
                        ]
                      },
                      {
                        "learn": [
                          0.999520215
                        ],
                        "iteration": 8,
                        "passed_time": 0.02967919951,
                        "remaining_time": 0.794743009,
                        "test": [
                          0.9986872137
                        ]
                      },
                      {
                        "learn": [
                          0.9395264379
                        ],
                        "iteration": 9,
                        "passed_time": 0.03272397944,
                        "remaining_time": 0.7853755067,
                        "test": [
                          0.9392504174
                        ]
                      },
                      {
                        "learn": [
                          0.8896857598
                        ],
                        "iteration": 10,
                        "passed_time": 0.03576038784,
                        "remaining_time": 0.7769756994,
                        "test": [
                          0.8904395299
                        ]
                      },
                      {
                        "learn": [
                          0.8419102358
                        ],
                        "iteration": 11,
                        "passed_time": 0.03885316504,
                        "remaining_time": 0.7705877733,
                        "test": [
                          0.84354595
                        ]
                      },
                      {
                        "learn": [
                          0.8003743564
                        ],
                        "iteration": 12,
                        "passed_time": 0.04210413418,
                        "remaining_time": 0.7675907539,
                        "test": [
                          0.801676144
                        ]
                      },
                      {
                        "learn": [
                          0.7598018357
                        ],
                        "iteration": 13,
                        "passed_time": 0.04525333019,
                        "remaining_time": 0.7628418517,
                        "test": [
                          0.7604845322
                        ]
                      },
                      {
                        "learn": [
                          0.7216433995
                        ],
                        "iteration": 14,
                        "passed_time": 0.04843179022,
                        "remaining_time": 0.7587647134,
                        "test": [
                          0.722581034
                        ]
                      },
                      {
                        "learn": [
                          0.6876476609
                        ],
                        "iteration": 15,
                        "passed_time": 0.05153918488,
                        "remaining_time": 0.7537605789,
                        "test": [
                          0.6873578302
                        ]
                      },
                      {
                        "learn": [
                          0.6541777719
                        ],
                        "iteration": 16,
                        "passed_time": 0.05477864634,
                        "remaining_time": 0.7507896822,
                        "test": [
                          0.6546115812
                        ]
                      },
                      {
                        "learn": [
                          0.6213348106
                        ],
                        "iteration": 17,
                        "passed_time": 0.05813854326,
                        "remaining_time": 0.7493412242,
                        "test": [
                          0.6222759491
                        ]
                      },
                      {
                        "learn": [
                          0.5910652455
                        ],
                        "iteration": 18,
                        "passed_time": 0.06129151818,
                        "remaining_time": 0.7451758263,
                        "test": [
                          0.592500938
                        ]
                      },
                      {
                        "learn": [
                          0.5636180276
                        ],
                        "iteration": 19,
                        "passed_time": 0.06448907738,
                        "remaining_time": 0.7416243899,
                        "test": [
                          0.5660155045
                        ]
                      },
                      {
                        "learn": [
                          0.5421296565
                        ],
                        "iteration": 20,
                        "passed_time": 0.06763309072,
                        "remaining_time": 0.7375227512,
                        "test": [
                          0.5443681405
                        ]
                      },
                      {
                        "learn": [
                          0.5184780658
                        ],
                        "iteration": 21,
                        "passed_time": 0.07079109739,
                        "remaining_time": 0.7336531912,
                        "test": [
                          0.5201926841
                        ]
                      },
                      {
                        "learn": [
                          0.4962305056
                        ],
                        "iteration": 22,
                        "passed_time": 0.07398941438,
                        "remaining_time": 0.7302433506,
                        "test": [
                          0.4980690832
                        ]
                      },
                      {
                        "learn": [
                          0.4759666453
                        ],
                        "iteration": 23,
                        "passed_time": 0.07709776503,
                        "remaining_time": 0.726003954,
                        "test": [
                          0.4774345935
                        ]
                      },
                      {
                        "learn": [
                          0.4572426444
                        ],
                        "iteration": 24,
                        "passed_time": 0.08030231794,
                        "remaining_time": 0.7227208615,
                        "test": [
                          0.4579007283
                        ]
                      },
                      {
                        "learn": [
                          0.4388270699
                        ],
                        "iteration": 25,
                        "passed_time": 0.08352408579,
                        "remaining_time": 0.7195921237,
                        "test": [
                          0.4385278842
                        ]
                      },
                      {
                        "learn": [
                          0.422240834
                        ],
                        "iteration": 26,
                        "passed_time": 0.08672808093,
                        "remaining_time": 0.7163097055,
                        "test": [
                          0.4213571929
                        ]
                      },
                      {
                        "learn": [
                          0.4057180349
                        ],
                        "iteration": 27,
                        "passed_time": 0.08990007684,
                        "remaining_time": 0.7127791806,
                        "test": [
                          0.4046060645
                        ]
                      },
                      {
                        "learn": [
                          0.3905354481
                        ],
                        "iteration": 28,
                        "passed_time": 0.09317842669,
                        "remaining_time": 0.7100838723,
                        "test": [
                          0.3890473419
                        ]
                      },
                      {
                        "learn": [
                          0.3787076375
                        ],
                        "iteration": 29,
                        "passed_time": 0.09672940667,
                        "remaining_time": 0.7093489822,
                        "test": [
                          0.3769094081
                        ]
                      },
                      {
                        "learn": [
                          0.364172289
                        ],
                        "iteration": 30,
                        "passed_time": 0.09990457554,
                        "remaining_time": 0.7057774853,
                        "test": [
                          0.3629518397
                        ]
                      },
                      {
                        "learn": [
                          0.3519937109
                        ],
                        "iteration": 31,
                        "passed_time": 0.1030894779,
                        "remaining_time": 0.7022970681,
                        "test": [
                          0.3512558777
                        ]
                      },
                      {
                        "learn": [
                          0.3394954636
                        ],
                        "iteration": 32,
                        "passed_time": 0.1064533606,
                        "remaining_time": 0.7000114921,
                        "test": [
                          0.3388598988
                        ]
                      },
                      {
                        "learn": [
                          0.3280572126
                        ],
                        "iteration": 33,
                        "passed_time": 0.1096305564,
                        "remaining_time": 0.6964764759,
                        "test": [
                          0.3271224361
                        ]
                      },
                      {
                        "learn": [
                          0.3162166224
                        ],
                        "iteration": 34,
                        "passed_time": 0.1204019539,
                        "remaining_time": 0.7396120027,
                        "test": [
                          0.315304455
                        ]
                      },
                      {
                        "learn": [
                          0.3060295468
                        ],
                        "iteration": 35,
                        "passed_time": 0.1310786661,
                        "remaining_time": 0.7791898486,
                        "test": [
                          0.3048041133
                        ]
                      },
                      {
                        "learn": [
                          0.2971503171
                        ],
                        "iteration": 36,
                        "passed_time": 0.1402266383,
                        "remaining_time": 0.8072506477,
                        "test": [
                          0.2957094374
                        ]
                      },
                      {
                        "learn": [
                          0.288004337
                        ],
                        "iteration": 37,
                        "passed_time": 0.143539969,
                        "remaining_time": 0.8008019323,
                        "test": [
                          0.2859854875
                        ]
                      },
                      {
                        "learn": [
                          0.2798638418
                        ],
                        "iteration": 38,
                        "passed_time": 0.1468459691,
                        "remaining_time": 0.7944743457,
                        "test": [
                          0.2778834334
                        ]
                      },
                      {
                        "learn": [
                          0.2733058698
                        ],
                        "iteration": 39,
                        "passed_time": 0.1499777965,
                        "remaining_time": 0.7873834318,
                        "test": [
                          0.271253419
                        ]
                      },
                      {
                        "learn": [
                          0.2652496563
                        ],
                        "iteration": 40,
                        "passed_time": 0.1531790106,
                        "remaining_time": 0.7808393465,
                        "test": [
                          0.2627081723
                        ]
                      },
                      {
                        "learn": [
                          0.2587733038
                        ],
                        "iteration": 41,
                        "passed_time": 0.1565102049,
                        "remaining_time": 0.7750981574,
                        "test": [
                          0.255411912
                        ]
                      },
                      {
                        "learn": [
                          0.251716087
                        ],
                        "iteration": 42,
                        "passed_time": 0.1598411319,
                        "remaining_time": 0.7694677743,
                        "test": [
                          0.2481294456
                        ]
                      },
                      {
                        "learn": [
                          0.2444647762
                        ],
                        "iteration": 43,
                        "passed_time": 0.1631252399,
                        "remaining_time": 0.7637227139,
                        "test": [
                          0.2409354652
                        ]
                      },
                      {
                        "learn": [
                          0.2377960367
                        ],
                        "iteration": 44,
                        "passed_time": 0.1664932706,
                        "remaining_time": 0.7584693437,
                        "test": [
                          0.2341803585
                        ]
                      },
                      {
                        "learn": [
                          0.2316248391
                        ],
                        "iteration": 45,
                        "passed_time": 0.1696106528,
                        "remaining_time": 0.7521863734,
                        "test": [
                          0.2272660861
                        ]
                      },
                      {
                        "learn": [
                          0.2260307455
                        ],
                        "iteration": 46,
                        "passed_time": 0.1729118671,
                        "remaining_time": 0.7468321069,
                        "test": [
                          0.2210812029
                        ]
                      },
                      {
                        "learn": [
                          0.2215846131
                        ],
                        "iteration": 47,
                        "passed_time": 0.178067426,
                        "remaining_time": 0.7493670844,
                        "test": [
                          0.2162353475
                        ]
                      },
                      {
                        "learn": [
                          0.2167755655
                        ],
                        "iteration": 48,
                        "passed_time": 0.181321309,
                        "remaining_time": 0.7437874104,
                        "test": [
                          0.2115469434
                        ]
                      },
                      {
                        "learn": [
                          0.2113438487
                        ],
                        "iteration": 49,
                        "passed_time": 0.1846930864,
                        "remaining_time": 0.7387723455,
                        "test": [
                          0.2057962765
                        ]
                      },
                      {
                        "learn": [
                          0.205970133
                        ],
                        "iteration": 50,
                        "passed_time": 0.1879771771,
                        "remaining_time": 0.7334795734,
                        "test": [
                          0.1997226855
                        ]
                      },
                      {
                        "learn": [
                          0.2005778524
                        ],
                        "iteration": 51,
                        "passed_time": 0.1914896583,
                        "remaining_time": 0.7291336988,
                        "test": [
                          0.1936835363
                        ]
                      },
                      {
                        "learn": [
                          0.1971186247
                        ],
                        "iteration": 52,
                        "passed_time": 0.1948356087,
                        "remaining_time": 0.7242002813,
                        "test": [
                          0.1904355284
                        ]
                      },
                      {
                        "learn": [
                          0.1928464881
                        ],
                        "iteration": 53,
                        "passed_time": 0.1981019863,
                        "remaining_time": 0.719036839,
                        "test": [
                          0.1862750269
                        ]
                      },
                      {
                        "learn": [
                          0.1886958345
                        ],
                        "iteration": 54,
                        "passed_time": 0.2014301053,
                        "remaining_time": 0.7141612825,
                        "test": [
                          0.1817510531
                        ]
                      },
                      {
                        "learn": [
                          0.1857213751
                        ],
                        "iteration": 55,
                        "passed_time": 0.2068100489,
                        "remaining_time": 0.7164490979,
                        "test": [
                          0.1787236164
                        ]
                      },
                      {
                        "learn": [
                          0.182980116
                        ],
                        "iteration": 56,
                        "passed_time": 0.2101154489,
                        "remaining_time": 0.7114435377,
                        "test": [
                          0.1761131243
                        ]
                      },
                      {
                        "learn": [
                          0.1797526567
                        ],
                        "iteration": 57,
                        "passed_time": 0.2135429832,
                        "remaining_time": 0.70690091,
                        "test": [
                          0.1728666527
                        ]
                      },
                      {
                        "learn": [
                          0.177321579
                        ],
                        "iteration": 58,
                        "passed_time": 0.2168348737,
                        "remaining_time": 0.7019569639,
                        "test": [
                          0.1703466725
                        ]
                      },
                      {
                        "learn": [
                          0.1737047665
                        ],
                        "iteration": 59,
                        "passed_time": 0.2200860978,
                        "remaining_time": 0.6969393098,
                        "test": [
                          0.1667304511
                        ]
                      },
                      {
                        "learn": [
                          0.1716556971
                        ],
                        "iteration": 60,
                        "passed_time": 0.2233291091,
                        "remaining_time": 0.6919541249,
                        "test": [
                          0.16462493
                        ]
                      },
                      {
                        "learn": [
                          0.168891443
                        ],
                        "iteration": 61,
                        "passed_time": 0.2265211988,
                        "remaining_time": 0.6868707318,
                        "test": [
                          0.1617454128
                        ]
                      },
                      {
                        "learn": [
                          0.1661572529
                        ],
                        "iteration": 62,
                        "passed_time": 0.2297051065,
                        "remaining_time": 0.6818230939,
                        "test": [
                          0.1590908005
                        ]
                      },
                      {
                        "learn": [
                          0.1635409302
                        ],
                        "iteration": 63,
                        "passed_time": 0.233710669,
                        "remaining_time": 0.6792216318,
                        "test": [
                          0.1566537657
                        ]
                      },
                      {
                        "learn": [
                          0.1604700409
                        ],
                        "iteration": 64,
                        "passed_time": 0.2377454905,
                        "remaining_time": 0.6766602423,
                        "test": [
                          0.1534161534
                        ]
                      },
                      {
                        "learn": [
                          0.1581272316
                        ],
                        "iteration": 65,
                        "passed_time": 0.241256167,
                        "remaining_time": 0.6725929504,
                        "test": [
                          0.1514535422
                        ]
                      },
                      {
                        "learn": [
                          0.1552723811
                        ],
                        "iteration": 66,
                        "passed_time": 0.2459356613,
                        "remaining_time": 0.6717347167,
                        "test": [
                          0.1480882072
                        ]
                      },
                      {
                        "learn": [
                          0.1542885804
                        ],
                        "iteration": 67,
                        "passed_time": 0.24916206,
                        "remaining_time": 0.6668749252,
                        "test": [
                          0.1472845612
                        ]
                      },
                      {
                        "learn": [
                          0.1517807309
                        ],
                        "iteration": 68,
                        "passed_time": 0.2524391333,
                        "remaining_time": 0.6621954078,
                        "test": [
                          0.1451107011
                        ]
                      },
                      {
                        "learn": [
                          0.1496266689
                        ],
                        "iteration": 69,
                        "passed_time": 0.2556049006,
                        "remaining_time": 0.6572697444,
                        "test": [
                          0.1431396897
                        ]
                      },
                      {
                        "learn": [
                          0.1478296125
                        ],
                        "iteration": 70,
                        "passed_time": 0.2587529992,
                        "remaining_time": 0.6523491108,
                        "test": [
                          0.1416668475
                        ]
                      },
                      {
                        "learn": [
                          0.1453988033
                        ],
                        "iteration": 71,
                        "passed_time": 0.2618613917,
                        "remaining_time": 0.6473795517,
                        "test": [
                          0.1396347673
                        ]
                      },
                      {
                        "learn": [
                          0.1428306269
                        ],
                        "iteration": 72,
                        "passed_time": 0.2651983969,
                        "remaining_time": 0.6430152911,
                        "test": [
                          0.1365709496
                        ]
                      },
                      {
                        "learn": [
                          0.1408286121
                        ],
                        "iteration": 73,
                        "passed_time": 0.2683724857,
                        "remaining_time": 0.6382913173,
                        "test": [
                          0.1344032605
                        ]
                      },
                      {
                        "learn": [
                          0.1402231063
                        ],
                        "iteration": 74,
                        "passed_time": 0.2714288142,
                        "remaining_time": 0.6333338999,
                        "test": [
                          0.1339767562
                        ]
                      },
                      {
                        "learn": [
                          0.138578196
                        ],
                        "iteration": 75,
                        "passed_time": 0.2746292996,
                        "remaining_time": 0.6287565543,
                        "test": [
                          0.1325325476
                        ]
                      },
                      {
                        "learn": [
                          0.1369670564
                        ],
                        "iteration": 76,
                        "passed_time": 0.2779343273,
                        "remaining_time": 0.6244498523,
                        "test": [
                          0.1308614705
                        ]
                      },
                      {
                        "learn": [
                          0.135426592
                        ],
                        "iteration": 77,
                        "passed_time": 0.2810831374,
                        "remaining_time": 0.6198243543,
                        "test": [
                          0.1294637573
                        ]
                      },
                      {
                        "learn": [
                          0.1327245875
                        ],
                        "iteration": 78,
                        "passed_time": 0.2842551624,
                        "remaining_time": 0.6152864908,
                        "test": [
                          0.1266135995
                        ]
                      },
                      {
                        "learn": [
                          0.1308868397
                        ],
                        "iteration": 79,
                        "passed_time": 0.2873353177,
                        "remaining_time": 0.6105875502,
                        "test": [
                          0.1248247333
                        ]
                      },
                      {
                        "learn": [
                          0.1297856124
                        ],
                        "iteration": 80,
                        "passed_time": 0.2906241247,
                        "remaining_time": 0.6063639146,
                        "test": [
                          0.1237774643
                        ]
                      },
                      {
                        "learn": [
                          0.1289653663
                        ],
                        "iteration": 81,
                        "passed_time": 0.293796758,
                        "remaining_time": 0.6019250651,
                        "test": [
                          0.123067015
                        ]
                      },
                      {
                        "learn": [
                          0.1275483387
                        ],
                        "iteration": 82,
                        "passed_time": 0.2971739421,
                        "remaining_time": 0.5979282931,
                        "test": [
                          0.1216578486
                        ]
                      },
                      {
                        "learn": [
                          0.1253962186
                        ],
                        "iteration": 83,
                        "passed_time": 0.3003251351,
                        "remaining_time": 0.5934996717,
                        "test": [
                          0.119304025
                        ]
                      },
                      {
                        "learn": [
                          0.123967349
                        ],
                        "iteration": 84,
                        "passed_time": 0.3035589052,
                        "remaining_time": 0.5892614042,
                        "test": [
                          0.11809285
                        ]
                      },
                      {
                        "learn": [
                          0.122917053
                        ],
                        "iteration": 85,
                        "passed_time": 0.3067897451,
                        "remaining_time": 0.5850409092,
                        "test": [
                          0.1173028614
                        ]
                      },
                      {
                        "learn": [
                          0.1219936568
                        ],
                        "iteration": 86,
                        "passed_time": 0.3100109438,
                        "remaining_time": 0.5808251016,
                        "test": [
                          0.1164837949
                        ]
                      },
                      {
                        "learn": [
                          0.120575506
                        ],
                        "iteration": 87,
                        "passed_time": 0.3133549627,
                        "remaining_time": 0.5768579995,
                        "test": [
                          0.1149105324
                        ]
                      },
                      {
                        "learn": [
                          0.1193878418
                        ],
                        "iteration": 88,
                        "passed_time": 0.3166569257,
                        "remaining_time": 0.5728288206,
                        "test": [
                          0.113716219
                        ]
                      },
                      {
                        "learn": [
                          0.1191888426
                        ],
                        "iteration": 89,
                        "passed_time": 0.3198324587,
                        "remaining_time": 0.5685910377,
                        "test": [
                          0.1137755251
                        ]
                      },
                      {
                        "learn": [
                          0.1178105857
                        ],
                        "iteration": 90,
                        "passed_time": 0.3230811568,
                        "remaining_time": 0.5645044387,
                        "test": [
                          0.1125297083
                        ]
                      },
                      {
                        "learn": [
                          0.1170074046
                        ],
                        "iteration": 91,
                        "passed_time": 0.3262122923,
                        "remaining_time": 0.5602341542,
                        "test": [
                          0.1117633318
                        ]
                      },
                      {
                        "learn": [
                          0.1157671949
                        ],
                        "iteration": 92,
                        "passed_time": 0.3292700814,
                        "remaining_time": 0.555864546,
                        "test": [
                          0.1104479605
                        ]
                      },
                      {
                        "learn": [
                          0.1150843473
                        ],
                        "iteration": 93,
                        "passed_time": 0.3323950792,
                        "remaining_time": 0.5516343868,
                        "test": [
                          0.1102143991
                        ]
                      },
                      {
                        "learn": [
                          0.1139908508
                        ],
                        "iteration": 94,
                        "passed_time": 0.3356678855,
                        "remaining_time": 0.5476686552,
                        "test": [
                          0.1092744509
                        ]
                      },
                      {
                        "learn": [
                          0.1135676922
                        ],
                        "iteration": 95,
                        "passed_time": 0.3387711062,
                        "remaining_time": 0.5434453162,
                        "test": [
                          0.1091264112
                        ]
                      },
                      {
                        "learn": [
                          0.1125624788
                        ],
                        "iteration": 96,
                        "passed_time": 0.3420398026,
                        "remaining_time": 0.5395060803,
                        "test": [
                          0.1081172321
                        ]
                      },
                      {
                        "learn": [
                          0.1120171064
                        ],
                        "iteration": 97,
                        "passed_time": 0.3452239689,
                        "remaining_time": 0.5354494212,
                        "test": [
                          0.1077170232
                        ]
                      },
                      {
                        "learn": [
                          0.1117365035
                        ],
                        "iteration": 98,
                        "passed_time": 0.3484361429,
                        "remaining_time": 0.5314531068,
                        "test": [
                          0.1078156553
                        ]
                      },
                      {
                        "learn": [
                          0.1112129428
                        ],
                        "iteration": 99,
                        "passed_time": 0.3516833272,
                        "remaining_time": 0.5275249908,
                        "test": [
                          0.1077105146
                        ]
                      },
                      {
                        "learn": [
                          0.1102681206
                        ],
                        "iteration": 100,
                        "passed_time": 0.3549703372,
                        "remaining_time": 0.5236691114,
                        "test": [
                          0.1064556756
                        ]
                      },
                      {
                        "learn": [
                          0.1098249706
                        ],
                        "iteration": 101,
                        "passed_time": 0.3583564443,
                        "remaining_time": 0.5199681741,
                        "test": [
                          0.1062777879
                        ]
                      },
                      {
                        "learn": [
                          0.1089007592
                        ],
                        "iteration": 102,
                        "passed_time": 0.3617384665,
                        "remaining_time": 0.5162675202,
                        "test": [
                          0.1055454334
                        ]
                      },
                      {
                        "learn": [
                          0.1078596131
                        ],
                        "iteration": 103,
                        "passed_time": 0.3648772068,
                        "remaining_time": 0.5122314633,
                        "test": [
                          0.1044973966
                        ]
                      },
                      {
                        "learn": [
                          0.1072654192
                        ],
                        "iteration": 104,
                        "passed_time": 0.3680873865,
                        "remaining_time": 0.5083111527,
                        "test": [
                          0.1041954608
                        ]
                      },
                      {
                        "learn": [
                          0.1068962883
                        ],
                        "iteration": 105,
                        "passed_time": 0.3715052914,
                        "remaining_time": 0.5046864336,
                        "test": [
                          0.1039175847
                        ]
                      },
                      {
                        "learn": [
                          0.1061184914
                        ],
                        "iteration": 106,
                        "passed_time": 0.3749817489,
                        "remaining_time": 0.5011438327,
                        "test": [
                          0.1031908952
                        ]
                      },
                      {
                        "learn": [
                          0.1051375992
                        ],
                        "iteration": 107,
                        "passed_time": 0.3781412525,
                        "remaining_time": 0.4971857209,
                        "test": [
                          0.1022998407
                        ]
                      },
                      {
                        "learn": [
                          0.1042781724
                        ],
                        "iteration": 108,
                        "passed_time": 0.3813927758,
                        "remaining_time": 0.4933612971,
                        "test": [
                          0.1014770089
                        ]
                      },
                      {
                        "learn": [
                          0.1039614456
                        ],
                        "iteration": 109,
                        "passed_time": 0.3846360644,
                        "remaining_time": 0.4895368092,
                        "test": [
                          0.1013607321
                        ]
                      },
                      {
                        "learn": [
                          0.1034330423
                        ],
                        "iteration": 110,
                        "passed_time": 0.3893576187,
                        "remaining_time": 0.4875739549,
                        "test": [
                          0.1007656488
                        ]
                      },
                      {
                        "learn": [
                          0.102516864
                        ],
                        "iteration": 111,
                        "passed_time": 0.3925913015,
                        "remaining_time": 0.4837285679,
                        "test": [
                          0.09996869094
                        ]
                      },
                      {
                        "learn": [
                          0.1018496118
                        ],
                        "iteration": 112,
                        "passed_time": 0.3957846599,
                        "remaining_time": 0.4798451187,
                        "test": [
                          0.09938839916
                        ]
                      },
                      {
                        "learn": [
                          0.1013532094
                        ],
                        "iteration": 113,
                        "passed_time": 0.3990363219,
                        "remaining_time": 0.4760433313,
                        "test": [
                          0.09901675493
                        ]
                      },
                      {
                        "learn": [
                          0.1001902397
                        ],
                        "iteration": 114,
                        "passed_time": 0.4023274077,
                        "remaining_time": 0.4722973916,
                        "test": [
                          0.09794866403
                        ]
                      },
                      {
                        "learn": [
                          0.09947457376
                        ],
                        "iteration": 115,
                        "passed_time": 0.4055030889,
                        "remaining_time": 0.468425982,
                        "test": [
                          0.09725679116
                        ]
                      },
                      {
                        "learn": [
                          0.09869804141
                        ],
                        "iteration": 116,
                        "passed_time": 0.4086981665,
                        "remaining_time": 0.4645885141,
                        "test": [
                          0.09645108805
                        ]
                      },
                      {
                        "learn": [
                          0.09838423501
                        ],
                        "iteration": 117,
                        "passed_time": 0.4119935758,
                        "remaining_time": 0.4608741696,
                        "test": [
                          0.09614051128
                        ]
                      },
                      {
                        "learn": [
                          0.09776469063
                        ],
                        "iteration": 118,
                        "passed_time": 0.4152137781,
                        "remaining_time": 0.4570840751,
                        "test": [
                          0.09545712568
                        ]
                      },
                      {
                        "learn": [
                          0.09739198183
                        ],
                        "iteration": 119,
                        "passed_time": 0.4183296393,
                        "remaining_time": 0.4531904426,
                        "test": [
                          0.09538858652
                        ]
                      },
                      {
                        "learn": [
                          0.09689231741
                        ],
                        "iteration": 120,
                        "passed_time": 0.4216318128,
                        "remaining_time": 0.4495082963,
                        "test": [
                          0.09496167249
                        ]
                      },
                      {
                        "learn": [
                          0.09638523497
                        ],
                        "iteration": 121,
                        "passed_time": 0.4247387474,
                        "remaining_time": 0.4456275383,
                        "test": [
                          0.09458132642
                        ]
                      },
                      {
                        "learn": [
                          0.09570458146
                        ],
                        "iteration": 122,
                        "passed_time": 0.4277515013,
                        "remaining_time": 0.4416621192,
                        "test": [
                          0.09398474965
                        ]
                      },
                      {
                        "learn": [
                          0.09542078713
                        ],
                        "iteration": 123,
                        "passed_time": 0.4308870308,
                        "remaining_time": 0.4378368216,
                        "test": [
                          0.09385442383
                        ]
                      },
                      {
                        "learn": [
                          0.09520049151
                        ],
                        "iteration": 124,
                        "passed_time": 0.4342388303,
                        "remaining_time": 0.4342388303,
                        "test": [
                          0.09394668447
                        ]
                      },
                      {
                        "learn": [
                          0.09496510376
                        ],
                        "iteration": 125,
                        "passed_time": 0.4374591276,
                        "remaining_time": 0.4305153319,
                        "test": [
                          0.09389611893
                        ]
                      },
                      {
                        "learn": [
                          0.09434082505
                        ],
                        "iteration": 126,
                        "passed_time": 0.4408238594,
                        "remaining_time": 0.4269396434,
                        "test": [
                          0.09352502871
                        ]
                      },
                      {
                        "learn": [
                          0.09367845538
                        ],
                        "iteration": 127,
                        "passed_time": 0.4459653827,
                        "remaining_time": 0.4250607554,
                        "test": [
                          0.09297203405
                        ]
                      },
                      {
                        "learn": [
                          0.09325092749
                        ],
                        "iteration": 128,
                        "passed_time": 0.4493261188,
                        "remaining_time": 0.4214609331,
                        "test": [
                          0.09268676623
                        ]
                      },
                      {
                        "learn": [
                          0.09275005659
                        ],
                        "iteration": 129,
                        "passed_time": 0.4524429328,
                        "remaining_time": 0.4176396302,
                        "test": [
                          0.09227948524
                        ]
                      },
                      {
                        "learn": [
                          0.09195041017
                        ],
                        "iteration": 130,
                        "passed_time": 0.455795135,
                        "remaining_time": 0.4140429089,
                        "test": [
                          0.09147727149
                        ]
                      },
                      {
                        "learn": [
                          0.09146763076
                        ],
                        "iteration": 131,
                        "passed_time": 0.4590130185,
                        "remaining_time": 0.4103298195,
                        "test": [
                          0.09101445649
                        ]
                      },
                      {
                        "learn": [
                          0.09128315706
                        ],
                        "iteration": 132,
                        "passed_time": 0.4622282308,
                        "remaining_time": 0.4066218271,
                        "test": [
                          0.09109021599
                        ]
                      },
                      {
                        "learn": [
                          0.09052808156
                        ],
                        "iteration": 133,
                        "passed_time": 0.4654239649,
                        "remaining_time": 0.4029043278,
                        "test": [
                          0.0905139818
                        ]
                      },
                      {
                        "learn": [
                          0.09030150933
                        ],
                        "iteration": 134,
                        "passed_time": 0.4685747037,
                        "remaining_time": 0.3991562291,
                        "test": [
                          0.09044382871
                        ]
                      },
                      {
                        "learn": [
                          0.09001198135
                        ],
                        "iteration": 135,
                        "passed_time": 0.4735116834,
                        "remaining_time": 0.3969142052,
                        "test": [
                          0.09018462895
                        ]
                      },
                      {
                        "learn": [
                          0.08948729946
                        ],
                        "iteration": 136,
                        "passed_time": 0.4768360358,
                        "remaining_time": 0.3933027157,
                        "test": [
                          0.09001880642
                        ]
                      },
                      {
                        "learn": [
                          0.08926293511
                        ],
                        "iteration": 137,
                        "passed_time": 0.4800446936,
                        "remaining_time": 0.3896014904,
                        "test": [
                          0.09003685272
                        ]
                      },
                      {
                        "learn": [
                          0.08866301614
                        ],
                        "iteration": 138,
                        "passed_time": 0.483175275,
                        "remaining_time": 0.3858450038,
                        "test": [
                          0.08954736811
                        ]
                      },
                      {
                        "learn": [
                          0.08803269377
                        ],
                        "iteration": 139,
                        "passed_time": 0.4865118242,
                        "remaining_time": 0.3822592905,
                        "test": [
                          0.08887981761
                        ]
                      },
                      {
                        "learn": [
                          0.08753319937
                        ],
                        "iteration": 140,
                        "passed_time": 0.4897024684,
                        "remaining_time": 0.3785643195,
                        "test": [
                          0.08831125429
                        ]
                      },
                      {
                        "learn": [
                          0.08692860843
                        ],
                        "iteration": 141,
                        "passed_time": 0.4930054687,
                        "remaining_time": 0.3749619058,
                        "test": [
                          0.08757871728
                        ]
                      },
                      {
                        "learn": [
                          0.08666799553
                        ],
                        "iteration": 142,
                        "passed_time": 0.4960813615,
                        "remaining_time": 0.371193746,
                        "test": [
                          0.08740782255
                        ]
                      },
                      {
                        "learn": [
                          0.08610123301
                        ],
                        "iteration": 143,
                        "passed_time": 0.4993857174,
                        "remaining_time": 0.3676033753,
                        "test": [
                          0.0870360634
                        ]
                      },
                      {
                        "learn": [
                          0.08583581918
                        ],
                        "iteration": 144,
                        "passed_time": 0.5044975248,
                        "remaining_time": 0.3653257938,
                        "test": [
                          0.08672176426
                        ]
                      },
                      {
                        "learn": [
                          0.085327251
                        ],
                        "iteration": 145,
                        "passed_time": 0.507821238,
                        "remaining_time": 0.3617356764,
                        "test": [
                          0.08648026489
                        ]
                      },
                      {
                        "learn": [
                          0.08503266361
                        ],
                        "iteration": 146,
                        "passed_time": 0.5110848618,
                        "remaining_time": 0.35810708,
                        "test": [
                          0.08626588509
                        ]
                      },
                      {
                        "learn": [
                          0.08476263413
                        ],
                        "iteration": 147,
                        "passed_time": 0.5142005198,
                        "remaining_time": 0.3543814393,
                        "test": [
                          0.08611408841
                        ]
                      },
                      {
                        "learn": [
                          0.08440815306
                        ],
                        "iteration": 148,
                        "passed_time": 0.5173102692,
                        "remaining_time": 0.3506599811,
                        "test": [
                          0.08609358134
                        ]
                      },
                      {
                        "learn": [
                          0.08381108849
                        ],
                        "iteration": 149,
                        "passed_time": 0.5205932585,
                        "remaining_time": 0.3470621723,
                        "test": [
                          0.08569548268
                        ]
                      },
                      {
                        "learn": [
                          0.08331820066
                        ],
                        "iteration": 150,
                        "passed_time": 0.5237541613,
                        "remaining_time": 0.3433884898,
                        "test": [
                          0.08531726941
                        ]
                      },
                      {
                        "learn": [
                          0.08242709912
                        ],
                        "iteration": 151,
                        "passed_time": 0.5270043403,
                        "remaining_time": 0.3397791142,
                        "test": [
                          0.084395533
                        ]
                      },
                      {
                        "learn": [
                          0.08214232171
                        ],
                        "iteration": 152,
                        "passed_time": 0.5301756226,
                        "remaining_time": 0.3361244143,
                        "test": [
                          0.08428110548
                        ]
                      },
                      {
                        "learn": [
                          0.08159747307
                        ],
                        "iteration": 153,
                        "passed_time": 0.5334203158,
                        "remaining_time": 0.3325217553,
                        "test": [
                          0.08380120749
                        ]
                      },
                      {
                        "learn": [
                          0.08133138684
                        ],
                        "iteration": 154,
                        "passed_time": 0.5366279753,
                        "remaining_time": 0.3289010171,
                        "test": [
                          0.08357144636
                        ]
                      },
                      {
                        "learn": [
                          0.08084063918
                        ],
                        "iteration": 155,
                        "passed_time": 0.5398210396,
                        "remaining_time": 0.3252767803,
                        "test": [
                          0.0831833532
                        ]
                      },
                      {
                        "learn": [
                          0.08064946415
                        ],
                        "iteration": 156,
                        "passed_time": 0.5430016666,
                        "remaining_time": 0.3216506688,
                        "test": [
                          0.08307997262
                        ]
                      },
                      {
                        "learn": [
                          0.08029171282
                        ],
                        "iteration": 157,
                        "passed_time": 0.5461166787,
                        "remaining_time": 0.3179919901,
                        "test": [
                          0.08273109142
                        ]
                      },
                      {
                        "learn": [
                          0.07996909808
                        ],
                        "iteration": 158,
                        "passed_time": 0.5493516484,
                        "remaining_time": 0.3144088051,
                        "test": [
                          0.08244478702
                        ]
                      },
                      {
                        "learn": [
                          0.07954030478
                        ],
                        "iteration": 159,
                        "passed_time": 0.5524976783,
                        "remaining_time": 0.310779944,
                        "test": [
                          0.08213395234
                        ]
                      },
                      {
                        "learn": [
                          0.07930818731
                        ],
                        "iteration": 160,
                        "passed_time": 0.5556828552,
                        "remaining_time": 0.3071787212,
                        "test": [
                          0.08205709033
                        ]
                      },
                      {
                        "learn": [
                          0.07886809483
                        ],
                        "iteration": 161,
                        "passed_time": 0.5588624444,
                        "remaining_time": 0.3035795994,
                        "test": [
                          0.08155514712
                        ]
                      },
                      {
                        "learn": [
                          0.0784154182
                        ],
                        "iteration": 162,
                        "passed_time": 0.5619501635,
                        "remaining_time": 0.2999365903,
                        "test": [
                          0.08137507221
                        ]
                      },
                      {
                        "learn": [
                          0.07814256529
                        ],
                        "iteration": 163,
                        "passed_time": 0.5651328325,
                        "remaining_time": 0.2963501439,
                        "test": [
                          0.0812903451
                        ]
                      },
                      {
                        "learn": [
                          0.07804954575
                        ],
                        "iteration": 164,
                        "passed_time": 0.568195667,
                        "remaining_time": 0.2927068587,
                        "test": [
                          0.081383888
                        ]
                      },
                      {
                        "learn": [
                          0.07775790982
                        ],
                        "iteration": 165,
                        "passed_time": 0.5713570834,
                        "remaining_time": 0.2891204519,
                        "test": [
                          0.08100257858
                        ]
                      },
                      {
                        "learn": [
                          0.0774665653
                        ],
                        "iteration": 166,
                        "passed_time": 0.5744851619,
                        "remaining_time": 0.2855225655,
                        "test": [
                          0.08067373231
                        ]
                      },
                      {
                        "learn": [
                          0.07704060332
                        ],
                        "iteration": 167,
                        "passed_time": 0.5775484728,
                        "remaining_time": 0.2818986593,
                        "test": [
                          0.08015851174
                        ]
                      },
                      {
                        "learn": [
                          0.07683101028
                        ],
                        "iteration": 168,
                        "passed_time": 0.5806968488,
                        "remaining_time": 0.2783221583,
                        "test": [
                          0.07990884974
                        ]
                      },
                      {
                        "learn": [
                          0.07669047354
                        ],
                        "iteration": 169,
                        "passed_time": 0.5837691626,
                        "remaining_time": 0.2747149,
                        "test": [
                          0.08000546845
                        ]
                      },
                      {
                        "learn": [
                          0.07616472385
                        ],
                        "iteration": 170,
                        "passed_time": 0.5868627367,
                        "remaining_time": 0.2711237204,
                        "test": [
                          0.07971132543
                        ]
                      },
                      {
                        "learn": [
                          0.07596204256
                        ],
                        "iteration": 171,
                        "passed_time": 0.5899154722,
                        "remaining_time": 0.2675198072,
                        "test": [
                          0.07952974353
                        ]
                      },
                      {
                        "learn": [
                          0.07569542212
                        ],
                        "iteration": 172,
                        "passed_time": 0.5930759168,
                        "remaining_time": 0.2639702057,
                        "test": [
                          0.07926796347
                        ]
                      },
                      {
                        "learn": [
                          0.07545872826
                        ],
                        "iteration": 173,
                        "passed_time": 0.5962510125,
                        "remaining_time": 0.2604314767,
                        "test": [
                          0.07909558364
                        ]
                      },
                      {
                        "learn": [
                          0.07529724588
                        ],
                        "iteration": 174,
                        "passed_time": 0.5993275153,
                        "remaining_time": 0.2568546494,
                        "test": [
                          0.07896007666
                        ]
                      },
                      {
                        "learn": [
                          0.07509885059
                        ],
                        "iteration": 175,
                        "passed_time": 0.6023983022,
                        "remaining_time": 0.2532811043,
                        "test": [
                          0.07886103284
                        ]
                      },
                      {
                        "learn": [
                          0.07496389744
                        ],
                        "iteration": 176,
                        "passed_time": 0.6056058771,
                        "remaining_time": 0.2497696555,
                        "test": [
                          0.07895646344
                        ]
                      },
                      {
                        "learn": [
                          0.07434087913
                        ],
                        "iteration": 177,
                        "passed_time": 0.6087677036,
                        "remaining_time": 0.2462431161,
                        "test": [
                          0.07836236602
                        ]
                      },
                      {
                        "learn": [
                          0.07360706664
                        ],
                        "iteration": 178,
                        "passed_time": 0.6119170987,
                        "remaining_time": 0.2427157207,
                        "test": [
                          0.07782733159
                        ]
                      },
                      {
                        "learn": [
                          0.07338018691
                        ],
                        "iteration": 179,
                        "passed_time": 0.6150148127,
                        "remaining_time": 0.2391724271,
                        "test": [
                          0.07768388259
                        ]
                      },
                      {
                        "learn": [
                          0.07326964391
                        ],
                        "iteration": 180,
                        "passed_time": 0.6181440776,
                        "remaining_time": 0.2356460848,
                        "test": [
                          0.0776598473
                        ]
                      },
                      {
                        "learn": [
                          0.07301197313
                        ],
                        "iteration": 181,
                        "passed_time": 0.6211310368,
                        "remaining_time": 0.2320709368,
                        "test": [
                          0.07749986455
                        ]
                      },
                      {
                        "learn": [
                          0.07271745066
                        ],
                        "iteration": 182,
                        "passed_time": 0.6243060775,
                        "remaining_time": 0.2285710776,
                        "test": [
                          0.07728797222
                        ]
                      },
                      {
                        "learn": [
                          0.07256451198
                        ],
                        "iteration": 183,
                        "passed_time": 0.6274708861,
                        "remaining_time": 0.2250710787,
                        "test": [
                          0.0771752155
                        ]
                      },
                      {
                        "learn": [
                          0.07246032493
                        ],
                        "iteration": 184,
                        "passed_time": 0.6307506624,
                        "remaining_time": 0.2216150976,
                        "test": [
                          0.07721472702
                        ]
                      },
                      {
                        "learn": [
                          0.07230414337
                        ],
                        "iteration": 185,
                        "passed_time": 0.6339230665,
                        "remaining_time": 0.2181240659,
                        "test": [
                          0.07709535718
                        ]
                      },
                      {
                        "learn": [
                          0.07223796073
                        ],
                        "iteration": 186,
                        "passed_time": 0.63855002,
                        "remaining_time": 0.2151264773,
                        "test": [
                          0.07711039172
                        ]
                      },
                      {
                        "learn": [
                          0.07188310364
                        ],
                        "iteration": 187,
                        "passed_time": 0.6422428766,
                        "remaining_time": 0.2118035019,
                        "test": [
                          0.07690302471
                        ]
                      },
                      {
                        "learn": [
                          0.07171475958
                        ],
                        "iteration": 188,
                        "passed_time": 0.6459771227,
                        "remaining_time": 0.2084899708,
                        "test": [
                          0.07689072735
                        ]
                      },
                      {
                        "learn": [
                          0.07159322622
                        ],
                        "iteration": 189,
                        "passed_time": 0.6497580678,
                        "remaining_time": 0.2051867582,
                        "test": [
                          0.07685627644
                        ]
                      },
                      {
                        "learn": [
                          0.07133363323
                        ],
                        "iteration": 190,
                        "passed_time": 0.6534971915,
                        "remaining_time": 0.2018656246,
                        "test": [
                          0.07654203481
                        ]
                      },
                      {
                        "learn": [
                          0.07120196318
                        ],
                        "iteration": 191,
                        "passed_time": 0.6569474984,
                        "remaining_time": 0.1984528902,
                        "test": [
                          0.07647199403
                        ]
                      },
                      {
                        "learn": [
                          0.07104465697
                        ],
                        "iteration": 192,
                        "passed_time": 0.660032866,
                        "remaining_time": 0.1949319863,
                        "test": [
                          0.07641333868
                        ]
                      },
                      {
                        "learn": [
                          0.07056580317
                        ],
                        "iteration": 193,
                        "passed_time": 0.6631678691,
                        "remaining_time": 0.1914299004,
                        "test": [
                          0.0762729705
                        ]
                      },
                      {
                        "learn": [
                          0.07047688274
                        ],
                        "iteration": 194,
                        "passed_time": 0.6662720617,
                        "remaining_time": 0.1879228892,
                        "test": [
                          0.07630560079
                        ]
                      },
                      {
                        "learn": [
                          0.0703322691
                        ],
                        "iteration": 195,
                        "passed_time": 0.6694051115,
                        "remaining_time": 0.1844279389,
                        "test": [
                          0.07622137238
                        ]
                      },
                      {
                        "learn": [
                          0.0701551612
                        ],
                        "iteration": 196,
                        "passed_time": 0.6725681172,
                        "remaining_time": 0.1809447219,
                        "test": [
                          0.07606421823
                        ]
                      },
                      {
                        "learn": [
                          0.07002206348
                        ],
                        "iteration": 197,
                        "passed_time": 0.6756832774,
                        "remaining_time": 0.1774521739,
                        "test": [
                          0.07606317048
                        ]
                      },
                      {
                        "learn": [
                          0.06985263333
                        ],
                        "iteration": 198,
                        "passed_time": 0.6786918119,
                        "remaining_time": 0.1739360925,
                        "test": [
                          0.07592286242
                        ]
                      },
                      {
                        "learn": [
                          0.06966902654
                        ],
                        "iteration": 199,
                        "passed_time": 0.6817884639,
                        "remaining_time": 0.170447116,
                        "test": [
                          0.07578860106
                        ]
                      },
                      {
                        "learn": [
                          0.06949359267
                        ],
                        "iteration": 200,
                        "passed_time": 0.6850383239,
                        "remaining_time": 0.1669993924,
                        "test": [
                          0.07565631985
                        ]
                      },
                      {
                        "learn": [
                          0.06913931944
                        ],
                        "iteration": 201,
                        "passed_time": 0.6883866604,
                        "remaining_time": 0.1635770282,
                        "test": [
                          0.07525209534
                        ]
                      },
                      {
                        "learn": [
                          0.06898707804
                        ],
                        "iteration": 202,
                        "passed_time": 0.6914073544,
                        "remaining_time": 0.1600795353,
                        "test": [
                          0.07515710827
                        ]
                      },
                      {
                        "learn": [
                          0.06883004643
                        ],
                        "iteration": 203,
                        "passed_time": 0.6944674551,
                        "remaining_time": 0.1565956026,
                        "test": [
                          0.07496529847
                        ]
                      },
                      {
                        "learn": [
                          0.06867293401
                        ],
                        "iteration": 204,
                        "passed_time": 0.6976111952,
                        "remaining_time": 0.1531341648,
                        "test": [
                          0.07470573614
                        ]
                      },
                      {
                        "learn": [
                          0.06855133568
                        ],
                        "iteration": 205,
                        "passed_time": 0.7007161811,
                        "remaining_time": 0.1496675338,
                        "test": [
                          0.0746495161
                        ]
                      },
                      {
                        "learn": [
                          0.06833831934
                        ],
                        "iteration": 206,
                        "passed_time": 0.7038572574,
                        "remaining_time": 0.146211894,
                        "test": [
                          0.07443858368
                        ]
                      },
                      {
                        "learn": [
                          0.06816893817
                        ],
                        "iteration": 207,
                        "passed_time": 0.7070124743,
                        "remaining_time": 0.1427621342,
                        "test": [
                          0.07431818522
                        ]
                      },
                      {
                        "learn": [
                          0.06802980281
                        ],
                        "iteration": 208,
                        "passed_time": 0.7101774328,
                        "remaining_time": 0.139317104,
                        "test": [
                          0.07417154959
                        ]
                      },
                      {
                        "learn": [
                          0.06793822335
                        ],
                        "iteration": 209,
                        "passed_time": 0.7133344935,
                        "remaining_time": 0.1358732369,
                        "test": [
                          0.07414384207
                        ]
                      },
                      {
                        "learn": [
                          0.0675842466
                        ],
                        "iteration": 210,
                        "passed_time": 0.7164617201,
                        "remaining_time": 0.1324265739,
                        "test": [
                          0.0738021084
                        ]
                      },
                      {
                        "learn": [
                          0.06740850618
                        ],
                        "iteration": 211,
                        "passed_time": 0.7195285531,
                        "remaining_time": 0.1289720991,
                        "test": [
                          0.07371461215
                        ]
                      },
                      {
                        "learn": [
                          0.06730379378
                        ],
                        "iteration": 212,
                        "passed_time": 0.7239680429,
                        "remaining_time": 0.125759707,
                        "test": [
                          0.07373403222
                        ]
                      },
                      {
                        "learn": [
                          0.06717522995
                        ],
                        "iteration": 213,
                        "passed_time": 0.727148144,
                        "remaining_time": 0.1223239868,
                        "test": [
                          0.0736598533
                        ]
                      },
                      {
                        "learn": [
                          0.06707461006
                        ],
                        "iteration": 214,
                        "passed_time": 0.7303951656,
                        "remaining_time": 0.1189015386,
                        "test": [
                          0.07354585934
                        ]
                      },
                      {
                        "learn": [
                          0.06664020039
                        ],
                        "iteration": 215,
                        "passed_time": 0.7336027823,
                        "remaining_time": 0.115474512,
                        "test": [
                          0.07322315607
                        ]
                      },
                      {
                        "learn": [
                          0.06652958931
                        ],
                        "iteration": 216,
                        "passed_time": 0.7367245994,
                        "remaining_time": 0.1120364598,
                        "test": [
                          0.07320547174
                        ]
                      },
                      {
                        "learn": [
                          0.06640938968
                        ],
                        "iteration": 217,
                        "passed_time": 0.7398482585,
                        "remaining_time": 0.1086015792,
                        "test": [
                          0.07304750445
                        ]
                      },
                      {
                        "learn": [
                          0.06630588363
                        ],
                        "iteration": 218,
                        "passed_time": 0.7429643434,
                        "remaining_time": 0.1051684687,
                        "test": [
                          0.07303294877
                        ]
                      },
                      {
                        "learn": [
                          0.06619232049
                        ],
                        "iteration": 219,
                        "passed_time": 0.7460390679,
                        "remaining_time": 0.1017326002,
                        "test": [
                          0.0729573795
                        ]
                      },
                      {
                        "learn": [
                          0.0660020078
                        ],
                        "iteration": 220,
                        "passed_time": 0.7491949566,
                        "remaining_time": 0.09831065042,
                        "test": [
                          0.07283897188
                        ]
                      },
                      {
                        "learn": [
                          0.06582316799
                        ],
                        "iteration": 221,
                        "passed_time": 0.7522862578,
                        "remaining_time": 0.09488295144,
                        "test": [
                          0.07266845161
                        ]
                      },
                      {
                        "learn": [
                          0.06539476359
                        ],
                        "iteration": 222,
                        "passed_time": 0.755431509,
                        "remaining_time": 0.09146480154,
                        "test": [
                          0.07253877455
                        ]
                      },
                      {
                        "learn": [
                          0.06520800335
                        ],
                        "iteration": 223,
                        "passed_time": 0.7586772664,
                        "remaining_time": 0.08806075413,
                        "test": [
                          0.07242136667
                        ]
                      },
                      {
                        "learn": [
                          0.06511347977
                        ],
                        "iteration": 224,
                        "passed_time": 0.7617997735,
                        "remaining_time": 0.08464441928,
                        "test": [
                          0.07239828989
                        ]
                      },
                      {
                        "learn": [
                          0.06480403243
                        ],
                        "iteration": 225,
                        "passed_time": 0.766932303,
                        "remaining_time": 0.08144413837,
                        "test": [
                          0.0721012096
                        ]
                      },
                      {
                        "learn": [
                          0.06471985614
                        ],
                        "iteration": 226,
                        "passed_time": 0.7706348621,
                        "remaining_time": 0.07808194638,
                        "test": [
                          0.07219385366
                        ]
                      },
                      {
                        "learn": [
                          0.06455322929
                        ],
                        "iteration": 227,
                        "passed_time": 0.7741117742,
                        "remaining_time": 0.07469499576,
                        "test": [
                          0.07217772292
                        ]
                      },
                      {
                        "learn": [
                          0.06417892121
                        ],
                        "iteration": 228,
                        "passed_time": 0.7774136863,
                        "remaining_time": 0.07129121141,
                        "test": [
                          0.07181062385
                        ]
                      },
                      {
                        "learn": [
                          0.0639971129
                        ],
                        "iteration": 229,
                        "passed_time": 0.7806918416,
                        "remaining_time": 0.0678862471,
                        "test": [
                          0.07166519975
                        ]
                      },
                      {
                        "learn": [
                          0.06359183982
                        ],
                        "iteration": 230,
                        "passed_time": 0.7838468503,
                        "remaining_time": 0.06447225176,
                        "test": [
                          0.07142764009
                        ]
                      },
                      {
                        "learn": [
                          0.06351544154
                        ],
                        "iteration": 231,
                        "passed_time": 0.7869429623,
                        "remaining_time": 0.06105591949,
                        "test": [
                          0.07141447672
                        ]
                      },
                      {
                        "learn": [
                          0.06324964112
                        ],
                        "iteration": 232,
                        "passed_time": 0.7902066611,
                        "remaining_time": 0.05765456325,
                        "test": [
                          0.07116489533
                        ]
                      },
                      {
                        "learn": [
                          0.06313804281
                        ],
                        "iteration": 233,
                        "passed_time": 0.7933367038,
                        "remaining_time": 0.0542452447,
                        "test": [
                          0.0711243946
                        ]
                      },
                      {
                        "learn": [
                          0.06274736477
                        ],
                        "iteration": 234,
                        "passed_time": 0.7966225224,
                        "remaining_time": 0.05084824611,
                        "test": [
                          0.07088877115
                        ]
                      },
                      {
                        "learn": [
                          0.06250752929
                        ],
                        "iteration": 235,
                        "passed_time": 0.7997553831,
                        "remaining_time": 0.04744311594,
                        "test": [
                          0.0706573923
                        ]
                      },
                      {
                        "learn": [
                          0.06212715107
                        ],
                        "iteration": 236,
                        "passed_time": 0.8029316088,
                        "remaining_time": 0.04404266209,
                        "test": [
                          0.07030831349
                        ]
                      },
                      {
                        "learn": [
                          0.06202590483
                        ],
                        "iteration": 237,
                        "passed_time": 0.8064241571,
                        "remaining_time": 0.04066004154,
                        "test": [
                          0.07016633333
                        ]
                      },
                      {
                        "learn": [
                          0.06174829495
                        ],
                        "iteration": 238,
                        "passed_time": 0.8095411566,
                        "remaining_time": 0.03725921641,
                        "test": [
                          0.06984068294
                        ]
                      },
                      {
                        "learn": [
                          0.06151522416
                        ],
                        "iteration": 239,
                        "passed_time": 0.8127482593,
                        "remaining_time": 0.0338645108,
                        "test": [
                          0.06970340721
                        ]
                      },
                      {
                        "learn": [
                          0.06133942847
                        ],
                        "iteration": 240,
                        "passed_time": 0.8159150716,
                        "remaining_time": 0.03046985745,
                        "test": [
                          0.06960052821
                        ]
                      },
                      {
                        "learn": [
                          0.06125955112
                        ],
                        "iteration": 241,
                        "passed_time": 0.8189769278,
                        "remaining_time": 0.02707361745,
                        "test": [
                          0.06961891734
                        ]
                      },
                      {
                        "learn": [
                          0.06102065673
                        ],
                        "iteration": 242,
                        "passed_time": 0.8220659702,
                        "remaining_time": 0.02368091272,
                        "test": [
                          0.06940121402
                        ]
                      },
                      {
                        "learn": [
                          0.06092151909
                        ],
                        "iteration": 243,
                        "passed_time": 0.825169615,
                        "remaining_time": 0.02029105611,
                        "test": [
                          0.06938911858
                        ]
                      },
                      {
                        "learn": [
                          0.06083325805
                        ],
                        "iteration": 244,
                        "passed_time": 0.8307407662,
                        "remaining_time": 0.01695389319,
                        "test": [
                          0.06937703272
                        ]
                      },
                      {
                        "learn": [
                          0.06064538448
                        ],
                        "iteration": 245,
                        "passed_time": 0.8338852982,
                        "remaining_time": 0.01355911054,
                        "test": [
                          0.0693613111
                        ]
                      },
                      {
                        "learn": [
                          0.06045417013
                        ],
                        "iteration": 246,
                        "passed_time": 0.8370458846,
                        "remaining_time": 0.01016654921,
                        "test": [
                          0.06915485966
                        ]
                      },
                      {
                        "learn": [
                          0.06040282776
                        ],
                        "iteration": 247,
                        "passed_time": 0.8400743602,
                        "remaining_time": 0.006774793227,
                        "test": [
                          0.06923374401
                        ]
                      },
                      {
                        "learn": [
                          0.06019711119
                        ],
                        "iteration": 248,
                        "passed_time": 0.8432504459,
                        "remaining_time": 0.003386547976,
                        "test": [
                          0.06917999594
                        ]
                      },
                      {
                        "learn": [
                          0.05999144675
                        ],
                        "iteration": 249,
                        "passed_time": 0.8464135893,
                        "remaining_time": 0,
                        "test": [
                          0.06913145317
                        ]
                      }
                    ],
                    "meta": {
                      "test_sets": [
                        "test"
                      ],
                      "test_metrics": [
                        {
                          "best_value": "Min",
                          "name": "MultiClass"
                        }
                      ],
                      "learn_metrics": [
                        {
                          "best_value": "Min",
                          "name": "MultiClass"
                        }
                      ],
                      "launch_mode": "Train",
                      "parameters": "",
                      "iteration_count": 250,
                      "learn_sets": [
                        "learn"
                      ],
                      "name": "experiment"
                    }
                  }
                }
              }
            },
            "layout": "IPY_MODEL_5f24c0c99c5e4ac193bec9cf247d291b"
          }
        }
      }
    }
  },
  "nbformat": 4,
  "nbformat_minor": 5
}