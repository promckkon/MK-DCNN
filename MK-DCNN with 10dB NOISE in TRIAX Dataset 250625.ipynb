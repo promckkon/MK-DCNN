{
  "cells": [
    {
      "cell_type": "markdown",
      "metadata": {
        "id": "view-in-github",
        "colab_type": "text"
      },
      "source": [
        "<a href=\"https://colab.research.google.com/github/promckkon/MK-DCNN/blob/main/MK-DCNN%20with%2010dB%20NOISE%20in%20TRIAX%20Dataset%20250625.ipynb\" target=\"_parent\"><img src=\"https://colab.research.google.com/assets/colab-badge.svg\" alt=\"Open In Colab\"/></a>"
      ]
    },
    {
      "cell_type": "code",
      "source": [
        "from google.colab import drive\n",
        "drive.mount('/content/drive')"
      ],
      "metadata": {
        "colab": {
          "base_uri": "https://localhost:8080/"
        },
        "id": "_JTcgOD9s-GR",
        "outputId": "20654ce7-9005-48d3-d08e-d0e8ba5a946b"
      },
      "id": "_JTcgOD9s-GR",
      "execution_count": 2,
      "outputs": [
        {
          "output_type": "stream",
          "name": "stdout",
          "text": [
            "Drive already mounted at /content/drive; to attempt to forcibly remount, call drive.mount(\"/content/drive\", force_remount=True).\n"
          ]
        }
      ]
    },
    {
      "cell_type": "code",
      "execution_count": 3,
      "id": "1132b641",
      "metadata": {
        "id": "1132b641"
      },
      "outputs": [],
      "source": [
        "import scipy.io\n",
        "import seaborn as sns\n",
        "import numpy as np\n",
        "import pandas as pd\n",
        "import os\n",
        "import matplotlib.pyplot as plt"
      ]
    },
    {
      "cell_type": "markdown",
      "source": [
        "Dataset Input"
      ],
      "metadata": {
        "id": "2haV_hKQQOg-"
      },
      "id": "2haV_hKQQOg-"
    },
    {
      "cell_type": "code",
      "source": [
        "df=pd.DataFrame(columns=['DE_data','fault']) # upload the dataset on googledrive\n",
        "\n",
        "for root, dirs, files in os.walk(\"/content/drive/MyDrive/TRIAX_with_NOISE/TRIAX_NOISE_Dataset_10db\", topdown=False):\n",
        "    for file_name in files:\n",
        "        path = os.path.join(root, file_name)\n",
        "        print(path)\n",
        "\n",
        "        mat = scipy.io.loadmat(path)\n",
        "\n",
        "        key_name = list(mat.keys())[3]\n",
        "        DE_data = mat.get(key_name)\n",
        "        fault = np.full((len(DE_data), 1), file_name[:-4])\n",
        "\n",
        "        df_temp = pd.DataFrame({'DE_data':np.ravel(DE_data) , 'fault':np.ravel(fault)})\n",
        "\n",
        "        df = pd.concat([df,df_temp],axis=0)\n",
        "        print(df['fault'].unique())\n",
        "\n",
        "df.to_csv('/content/drive/MyDrive/MK DCNN TRIAX/NOISE_10_faults.csv',index=False)"
      ],
      "metadata": {
        "colab": {
          "base_uri": "https://localhost:8080/"
        },
        "id": "sXzSVyy_ylsF",
        "outputId": "2cee7aff-8150-43dc-a625-f64e5038cf4a"
      },
      "id": "sXzSVyy_ylsF",
      "execution_count": 4,
      "outputs": [
        {
          "output_type": "stream",
          "name": "stdout",
          "text": [
            "/content/drive/MyDrive/TRIAX_with_NOISE/TRIAX_NOISE_Dataset_10db/F1_IR007.mat\n"
          ]
        },
        {
          "output_type": "stream",
          "name": "stderr",
          "text": [
            "/tmp/ipython-input-4-3093296123.py:16: FutureWarning: The behavior of DataFrame concatenation with empty or all-NA entries is deprecated. In a future version, this will no longer exclude empty or all-NA columns when determining the result dtypes. To retain the old behavior, exclude the relevant entries before the concat operation.\n",
            "  df = pd.concat([df,df_temp],axis=0)\n"
          ]
        },
        {
          "output_type": "stream",
          "name": "stdout",
          "text": [
            "['F1_IR007']\n",
            "/content/drive/MyDrive/TRIAX_with_NOISE/TRIAX_NOISE_Dataset_10db/F2_IR009.mat\n",
            "['F1_IR007' 'F2_IR009']\n",
            "/content/drive/MyDrive/TRIAX_with_NOISE/TRIAX_NOISE_Dataset_10db/F3_IR013.mat\n",
            "['F1_IR007' 'F2_IR009' 'F3_IR013']\n",
            "/content/drive/MyDrive/TRIAX_with_NOISE/TRIAX_NOISE_Dataset_10db/F4_IR017.mat\n",
            "['F1_IR007' 'F2_IR009' 'F3_IR013' 'F4_IR017']\n",
            "/content/drive/MyDrive/TRIAX_with_NOISE/TRIAX_NOISE_Dataset_10db/F5_OR009.mat\n",
            "['F1_IR007' 'F2_IR009' 'F3_IR013' 'F4_IR017' 'F5_OR009']\n",
            "/content/drive/MyDrive/TRIAX_with_NOISE/TRIAX_NOISE_Dataset_10db/F6_OR013.mat\n",
            "['F1_IR007' 'F2_IR009' 'F3_IR013' 'F4_IR017' 'F5_OR009' 'F6_OR013']\n",
            "/content/drive/MyDrive/TRIAX_with_NOISE/TRIAX_NOISE_Dataset_10db/F7_OR017.mat\n",
            "['F1_IR007' 'F2_IR009' 'F3_IR013' 'F4_IR017' 'F5_OR009' 'F6_OR013'\n",
            " 'F7_OR017']\n",
            "/content/drive/MyDrive/TRIAX_with_NOISE/TRIAX_NOISE_Dataset_10db/F8_Normal.mat\n",
            "['F1_IR007' 'F2_IR009' 'F3_IR013' 'F4_IR017' 'F5_OR009' 'F6_OR013'\n",
            " 'F7_OR017' 'F8_Normal']\n"
          ]
        }
      ]
    },
    {
      "cell_type": "markdown",
      "source": [
        "# Multi-Kernel Deep 1D-CNN"
      ],
      "metadata": {
        "id": "2d0arbB2knS8"
      },
      "id": "2d0arbB2knS8"
    },
    {
      "cell_type": "code",
      "source": [
        "pip install tensorflow"
      ],
      "metadata": {
        "colab": {
          "base_uri": "https://localhost:8080/"
        },
        "id": "-dsJA9B5YVAW",
        "outputId": "43fa0a2f-a434-4ee8-c59f-f54e70d0d64b"
      },
      "id": "-dsJA9B5YVAW",
      "execution_count": 5,
      "outputs": [
        {
          "output_type": "stream",
          "name": "stdout",
          "text": [
            "Requirement already satisfied: tensorflow in /usr/local/lib/python3.11/dist-packages (2.18.0)\n",
            "Requirement already satisfied: absl-py>=1.0.0 in /usr/local/lib/python3.11/dist-packages (from tensorflow) (1.4.0)\n",
            "Requirement already satisfied: astunparse>=1.6.0 in /usr/local/lib/python3.11/dist-packages (from tensorflow) (1.6.3)\n",
            "Requirement already satisfied: flatbuffers>=24.3.25 in /usr/local/lib/python3.11/dist-packages (from tensorflow) (25.2.10)\n",
            "Requirement already satisfied: gast!=0.5.0,!=0.5.1,!=0.5.2,>=0.2.1 in /usr/local/lib/python3.11/dist-packages (from tensorflow) (0.6.0)\n",
            "Requirement already satisfied: google-pasta>=0.1.1 in /usr/local/lib/python3.11/dist-packages (from tensorflow) (0.2.0)\n",
            "Requirement already satisfied: libclang>=13.0.0 in /usr/local/lib/python3.11/dist-packages (from tensorflow) (18.1.1)\n",
            "Requirement already satisfied: opt-einsum>=2.3.2 in /usr/local/lib/python3.11/dist-packages (from tensorflow) (3.4.0)\n",
            "Requirement already satisfied: packaging in /usr/local/lib/python3.11/dist-packages (from tensorflow) (24.2)\n",
            "Requirement already satisfied: protobuf!=4.21.0,!=4.21.1,!=4.21.2,!=4.21.3,!=4.21.4,!=4.21.5,<6.0.0dev,>=3.20.3 in /usr/local/lib/python3.11/dist-packages (from tensorflow) (5.29.5)\n",
            "Requirement already satisfied: requests<3,>=2.21.0 in /usr/local/lib/python3.11/dist-packages (from tensorflow) (2.32.3)\n",
            "Requirement already satisfied: setuptools in /usr/local/lib/python3.11/dist-packages (from tensorflow) (75.2.0)\n",
            "Requirement already satisfied: six>=1.12.0 in /usr/local/lib/python3.11/dist-packages (from tensorflow) (1.17.0)\n",
            "Requirement already satisfied: termcolor>=1.1.0 in /usr/local/lib/python3.11/dist-packages (from tensorflow) (3.1.0)\n",
            "Requirement already satisfied: typing-extensions>=3.6.6 in /usr/local/lib/python3.11/dist-packages (from tensorflow) (4.14.0)\n",
            "Requirement already satisfied: wrapt>=1.11.0 in /usr/local/lib/python3.11/dist-packages (from tensorflow) (1.17.2)\n",
            "Requirement already satisfied: grpcio<2.0,>=1.24.3 in /usr/local/lib/python3.11/dist-packages (from tensorflow) (1.73.0)\n",
            "Requirement already satisfied: tensorboard<2.19,>=2.18 in /usr/local/lib/python3.11/dist-packages (from tensorflow) (2.18.0)\n",
            "Requirement already satisfied: keras>=3.5.0 in /usr/local/lib/python3.11/dist-packages (from tensorflow) (3.8.0)\n",
            "Requirement already satisfied: numpy<2.1.0,>=1.26.0 in /usr/local/lib/python3.11/dist-packages (from tensorflow) (2.0.2)\n",
            "Requirement already satisfied: h5py>=3.11.0 in /usr/local/lib/python3.11/dist-packages (from tensorflow) (3.14.0)\n",
            "Requirement already satisfied: ml-dtypes<0.5.0,>=0.4.0 in /usr/local/lib/python3.11/dist-packages (from tensorflow) (0.4.1)\n",
            "Requirement already satisfied: tensorflow-io-gcs-filesystem>=0.23.1 in /usr/local/lib/python3.11/dist-packages (from tensorflow) (0.37.1)\n",
            "Requirement already satisfied: wheel<1.0,>=0.23.0 in /usr/local/lib/python3.11/dist-packages (from astunparse>=1.6.0->tensorflow) (0.45.1)\n",
            "Requirement already satisfied: rich in /usr/local/lib/python3.11/dist-packages (from keras>=3.5.0->tensorflow) (13.9.4)\n",
            "Requirement already satisfied: namex in /usr/local/lib/python3.11/dist-packages (from keras>=3.5.0->tensorflow) (0.1.0)\n",
            "Requirement already satisfied: optree in /usr/local/lib/python3.11/dist-packages (from keras>=3.5.0->tensorflow) (0.16.0)\n",
            "Requirement already satisfied: charset-normalizer<4,>=2 in /usr/local/lib/python3.11/dist-packages (from requests<3,>=2.21.0->tensorflow) (3.4.2)\n",
            "Requirement already satisfied: idna<4,>=2.5 in /usr/local/lib/python3.11/dist-packages (from requests<3,>=2.21.0->tensorflow) (3.10)\n",
            "Requirement already satisfied: urllib3<3,>=1.21.1 in /usr/local/lib/python3.11/dist-packages (from requests<3,>=2.21.0->tensorflow) (2.4.0)\n",
            "Requirement already satisfied: certifi>=2017.4.17 in /usr/local/lib/python3.11/dist-packages (from requests<3,>=2.21.0->tensorflow) (2025.6.15)\n",
            "Requirement already satisfied: markdown>=2.6.8 in /usr/local/lib/python3.11/dist-packages (from tensorboard<2.19,>=2.18->tensorflow) (3.8)\n",
            "Requirement already satisfied: tensorboard-data-server<0.8.0,>=0.7.0 in /usr/local/lib/python3.11/dist-packages (from tensorboard<2.19,>=2.18->tensorflow) (0.7.2)\n",
            "Requirement already satisfied: werkzeug>=1.0.1 in /usr/local/lib/python3.11/dist-packages (from tensorboard<2.19,>=2.18->tensorflow) (3.1.3)\n",
            "Requirement already satisfied: MarkupSafe>=2.1.1 in /usr/local/lib/python3.11/dist-packages (from werkzeug>=1.0.1->tensorboard<2.19,>=2.18->tensorflow) (3.0.2)\n",
            "Requirement already satisfied: markdown-it-py>=2.2.0 in /usr/local/lib/python3.11/dist-packages (from rich->keras>=3.5.0->tensorflow) (3.0.0)\n",
            "Requirement already satisfied: pygments<3.0.0,>=2.13.0 in /usr/local/lib/python3.11/dist-packages (from rich->keras>=3.5.0->tensorflow) (2.19.1)\n",
            "Requirement already satisfied: mdurl~=0.1 in /usr/local/lib/python3.11/dist-packages (from markdown-it-py>=2.2.0->rich->keras>=3.5.0->tensorflow) (0.1.2)\n"
          ]
        }
      ]
    },
    {
      "cell_type": "code",
      "source": [
        "from sklearn.preprocessing import LabelEncoder\n",
        "from tensorflow.keras.utils import to_categorical\n",
        "\n",
        "\n",
        "# Total target rows\n",
        "TARGET_ROWS = 1800\n",
        "\n",
        "# Estimate the total number of samples across all fault types\n",
        "total_samples = sum(len(df[df['fault'] == f]) for f in df['fault'].unique())\n",
        "\n",
        "# Calculate suitable window size and stride\n",
        "num_faults = 9\n",
        "average_samples_per_fault = total_samples / num_faults\n",
        "approx_windows_per_fault = TARGET_ROWS / num_faults\n",
        "stride_ratio = 0.8  # Initial stride/window ratio\n",
        "\n",
        "win_len = int(average_samples_per_fault / approx_windows_per_fault)\n",
        "stride = int(win_len * stride_ratio)\n",
        "\n",
        "X=[]\n",
        "Y=[]\n",
        "\n",
        "\n",
        "for k in df['fault'].unique():\n",
        "\n",
        "    df_temp_2 = df[df['fault']==k]\n",
        "\n",
        "    for i in np.arange(0,len(df_temp_2)-(win_len),stride):\n",
        "        temp = df_temp_2.iloc[i:i+win_len,:-1].values\n",
        "        temp = temp.reshape((1,-1))\n",
        "        X.append(temp)\n",
        "        Y.append(df_temp_2.iloc[i+win_len,-1])\n",
        "\n",
        "X=np.array(X)\n",
        "X=X.reshape((X.shape[0],-1,1))\n",
        "#X = np.repeat(X, 3, axis=3) # To repeat into 3 chanel format\n",
        "\n",
        "\n",
        "Y=np.array(Y)\n",
        "encoder= LabelEncoder()\n",
        "encoder.fit(Y)\n",
        "encoded_Y = encoder.transform(Y)\n",
        "OHE_Y = to_categorical(encoded_Y)"
      ],
      "metadata": {
        "id": "5s5vUXrUM2BH"
      },
      "id": "5s5vUXrUM2BH",
      "execution_count": 6,
      "outputs": []
    },
    {
      "cell_type": "code",
      "source": [
        "from sklearn.model_selection import train_test_split\n",
        "X_train,X_test,y_train,y_test = train_test_split(X,OHE_Y,test_size=0.3,shuffle=True)"
      ],
      "metadata": {
        "id": "PreHyG2yMkTA"
      },
      "id": "PreHyG2yMkTA",
      "execution_count": 7,
      "outputs": []
    },
    {
      "cell_type": "code",
      "source": [
        "import tensorflow as tf\n",
        "from tensorflow.keras.models import Model\n",
        "from tensorflow.keras.layers import Input, Dense, Dropout, Flatten, Conv1D, MaxPooling1D, concatenate\n",
        "from tensorflow.keras import backend as K\n",
        "\n",
        "# --- Custom Physics-Informed Loss Function ---\n",
        "def custom_loss(y_true, y_pred):\n",
        "    # Standard categorical crossentropy\n",
        "    loss = K.categorical_crossentropy(y_true, y_pred)\n",
        "\n",
        "    # Physics-Informed Term: penalize rapid class probability changes\n",
        "    # Ensure y_pred is at least 2D for slicing\n",
        "    if K.ndim(y_pred) < 2:\n",
        "        y_pred = K.expand_dims(y_pred, axis=-1)\n",
        "\n",
        "    # Ensure y_pred has more than one class dimension to compute diff\n",
        "    if K.int_shape(y_pred)[-1] > 1:\n",
        "        diff = y_pred[:, 1:] - y_pred[:, :-1]\n",
        "        squared_diff = tf.square(diff)\n",
        "        physics_term = tf.reduce_mean(squared_diff)\n",
        "    else:\n",
        "        physics_term = 0.0 # No physics term if only one class\n",
        "\n",
        "\n",
        "    # Total loss = classification loss + regularization term\n",
        "    total_loss = loss + 0.01 * physics_term  # 0.01 is tunable\n",
        "\n",
        "    return total_loss\n",
        "\n",
        "# --- Model Definition ---\n",
        "# no_classes = len(df['fault'].unique()) # Original line that caused 10 classes\n",
        "no_classes = len(encoder.classes_) # Use the encoder to get the correct number of classes\n",
        "print(f\"Number of output classes (no_classes): {no_classes}\") # Add print statement to verify\n",
        "\n",
        "input_shape = (X.shape[1], X.shape[2])  # Example: (784, 1)\n",
        "\n",
        "# Head 1\n",
        "inputs1 = Input(shape=input_shape)\n",
        "conv1 = Conv1D(filters=64, kernel_size=200, activation='relu')(inputs1)\n",
        "drop1 = Dropout(0.5)(conv1)\n",
        "pool1 = MaxPooling1D(pool_size=20)(drop1)\n",
        "flat1 = Flatten()(pool1)\n",
        "\n",
        "# Head 2\n",
        "inputs2 = Input(shape=input_shape)\n",
        "conv2 = Conv1D(filters=64, kernel_size=100, activation='relu')(inputs2)\n",
        "drop2 = Dropout(0.5)(conv2)\n",
        "pool2 = MaxPooling1D(pool_size=10)(drop2)\n",
        "flat2 = Flatten()(pool2)\n",
        "\n",
        "# Head 3\n",
        "inputs3 = Input(shape=input_shape)\n",
        "conv3 = Conv1D(filters=64, kernel_size=50, activation='relu')(inputs3)\n",
        "drop3 = Dropout(0.5)(conv3)\n",
        "pool3 = MaxPooling1D(pool_size=5)(drop3)\n",
        "flat3 = Flatten()(pool3)\n",
        "\n",
        "# Merge all feature paths\n",
        "merged = concatenate([flat1, flat2, flat3])\n",
        "\n",
        "# Fully connected interpretation\n",
        "dense1 = Dense(100, activation='relu')(merged)\n",
        "outputs = Dense(no_classes, activation='softmax')(dense1)\n",
        "\n",
        "# Build and compile model with custom loss\n",
        "cnn_model = Model(inputs=[inputs1, inputs2, inputs3], outputs=outputs)\n",
        "cnn_model.compile(optimizer='adam', loss=custom_loss, metrics=['accuracy'])\n",
        "\n",
        "# Model summary\n",
        "cnn_model.summary()"
      ],
      "metadata": {
        "colab": {
          "base_uri": "https://localhost:8080/",
          "height": 863
        },
        "id": "kB3uGh-8J7no",
        "outputId": "0fafb02d-663b-4b78-e6d3-f4c7a9911602"
      },
      "id": "kB3uGh-8J7no",
      "execution_count": 8,
      "outputs": [
        {
          "output_type": "stream",
          "name": "stdout",
          "text": [
            "Number of output classes (no_classes): 8\n"
          ]
        },
        {
          "output_type": "display_data",
          "data": {
            "text/plain": [
              "\u001b[1mModel: \"functional\"\u001b[0m\n"
            ],
            "text/html": [
              "<pre style=\"white-space:pre;overflow-x:auto;line-height:normal;font-family:Menlo,'DejaVu Sans Mono',consolas,'Courier New',monospace\"><span style=\"font-weight: bold\">Model: \"functional\"</span>\n",
              "</pre>\n"
            ]
          },
          "metadata": {}
        },
        {
          "output_type": "display_data",
          "data": {
            "text/plain": [
              "┏━━━━━━━━━━━━━━━━━━━━━┳━━━━━━━━━━━━━━━━━━━┳━━━━━━━━━━━━┳━━━━━━━━━━━━━━━━━━━┓\n",
              "┃\u001b[1m \u001b[0m\u001b[1mLayer (type)       \u001b[0m\u001b[1m \u001b[0m┃\u001b[1m \u001b[0m\u001b[1mOutput Shape     \u001b[0m\u001b[1m \u001b[0m┃\u001b[1m \u001b[0m\u001b[1m   Param #\u001b[0m\u001b[1m \u001b[0m┃\u001b[1m \u001b[0m\u001b[1mConnected to     \u001b[0m\u001b[1m \u001b[0m┃\n",
              "┡━━━━━━━━━━━━━━━━━━━━━╇━━━━━━━━━━━━━━━━━━━╇━━━━━━━━━━━━╇━━━━━━━━━━━━━━━━━━━┩\n",
              "│ input_layer         │ (\u001b[38;5;45mNone\u001b[0m, \u001b[38;5;34m614\u001b[0m, \u001b[38;5;34m1\u001b[0m)    │          \u001b[38;5;34m0\u001b[0m │ -                 │\n",
              "│ (\u001b[38;5;33mInputLayer\u001b[0m)        │                   │            │                   │\n",
              "├─────────────────────┼───────────────────┼────────────┼───────────────────┤\n",
              "│ input_layer_1       │ (\u001b[38;5;45mNone\u001b[0m, \u001b[38;5;34m614\u001b[0m, \u001b[38;5;34m1\u001b[0m)    │          \u001b[38;5;34m0\u001b[0m │ -                 │\n",
              "│ (\u001b[38;5;33mInputLayer\u001b[0m)        │                   │            │                   │\n",
              "├─────────────────────┼───────────────────┼────────────┼───────────────────┤\n",
              "│ input_layer_2       │ (\u001b[38;5;45mNone\u001b[0m, \u001b[38;5;34m614\u001b[0m, \u001b[38;5;34m1\u001b[0m)    │          \u001b[38;5;34m0\u001b[0m │ -                 │\n",
              "│ (\u001b[38;5;33mInputLayer\u001b[0m)        │                   │            │                   │\n",
              "├─────────────────────┼───────────────────┼────────────┼───────────────────┤\n",
              "│ conv1d (\u001b[38;5;33mConv1D\u001b[0m)     │ (\u001b[38;5;45mNone\u001b[0m, \u001b[38;5;34m415\u001b[0m, \u001b[38;5;34m64\u001b[0m)   │     \u001b[38;5;34m12,864\u001b[0m │ input_layer[\u001b[38;5;34m0\u001b[0m][\u001b[38;5;34m0\u001b[0m] │\n",
              "├─────────────────────┼───────────────────┼────────────┼───────────────────┤\n",
              "│ conv1d_1 (\u001b[38;5;33mConv1D\u001b[0m)   │ (\u001b[38;5;45mNone\u001b[0m, \u001b[38;5;34m515\u001b[0m, \u001b[38;5;34m64\u001b[0m)   │      \u001b[38;5;34m6,464\u001b[0m │ input_layer_1[\u001b[38;5;34m0\u001b[0m]… │\n",
              "├─────────────────────┼───────────────────┼────────────┼───────────────────┤\n",
              "│ conv1d_2 (\u001b[38;5;33mConv1D\u001b[0m)   │ (\u001b[38;5;45mNone\u001b[0m, \u001b[38;5;34m565\u001b[0m, \u001b[38;5;34m64\u001b[0m)   │      \u001b[38;5;34m3,264\u001b[0m │ input_layer_2[\u001b[38;5;34m0\u001b[0m]… │\n",
              "├─────────────────────┼───────────────────┼────────────┼───────────────────┤\n",
              "│ dropout (\u001b[38;5;33mDropout\u001b[0m)   │ (\u001b[38;5;45mNone\u001b[0m, \u001b[38;5;34m415\u001b[0m, \u001b[38;5;34m64\u001b[0m)   │          \u001b[38;5;34m0\u001b[0m │ conv1d[\u001b[38;5;34m0\u001b[0m][\u001b[38;5;34m0\u001b[0m]      │\n",
              "├─────────────────────┼───────────────────┼────────────┼───────────────────┤\n",
              "│ dropout_1 (\u001b[38;5;33mDropout\u001b[0m) │ (\u001b[38;5;45mNone\u001b[0m, \u001b[38;5;34m515\u001b[0m, \u001b[38;5;34m64\u001b[0m)   │          \u001b[38;5;34m0\u001b[0m │ conv1d_1[\u001b[38;5;34m0\u001b[0m][\u001b[38;5;34m0\u001b[0m]    │\n",
              "├─────────────────────┼───────────────────┼────────────┼───────────────────┤\n",
              "│ dropout_2 (\u001b[38;5;33mDropout\u001b[0m) │ (\u001b[38;5;45mNone\u001b[0m, \u001b[38;5;34m565\u001b[0m, \u001b[38;5;34m64\u001b[0m)   │          \u001b[38;5;34m0\u001b[0m │ conv1d_2[\u001b[38;5;34m0\u001b[0m][\u001b[38;5;34m0\u001b[0m]    │\n",
              "├─────────────────────┼───────────────────┼────────────┼───────────────────┤\n",
              "│ max_pooling1d       │ (\u001b[38;5;45mNone\u001b[0m, \u001b[38;5;34m20\u001b[0m, \u001b[38;5;34m64\u001b[0m)    │          \u001b[38;5;34m0\u001b[0m │ dropout[\u001b[38;5;34m0\u001b[0m][\u001b[38;5;34m0\u001b[0m]     │\n",
              "│ (\u001b[38;5;33mMaxPooling1D\u001b[0m)      │                   │            │                   │\n",
              "├─────────────────────┼───────────────────┼────────────┼───────────────────┤\n",
              "│ max_pooling1d_1     │ (\u001b[38;5;45mNone\u001b[0m, \u001b[38;5;34m51\u001b[0m, \u001b[38;5;34m64\u001b[0m)    │          \u001b[38;5;34m0\u001b[0m │ dropout_1[\u001b[38;5;34m0\u001b[0m][\u001b[38;5;34m0\u001b[0m]   │\n",
              "│ (\u001b[38;5;33mMaxPooling1D\u001b[0m)      │                   │            │                   │\n",
              "├─────────────────────┼───────────────────┼────────────┼───────────────────┤\n",
              "│ max_pooling1d_2     │ (\u001b[38;5;45mNone\u001b[0m, \u001b[38;5;34m113\u001b[0m, \u001b[38;5;34m64\u001b[0m)   │          \u001b[38;5;34m0\u001b[0m │ dropout_2[\u001b[38;5;34m0\u001b[0m][\u001b[38;5;34m0\u001b[0m]   │\n",
              "│ (\u001b[38;5;33mMaxPooling1D\u001b[0m)      │                   │            │                   │\n",
              "├─────────────────────┼───────────────────┼────────────┼───────────────────┤\n",
              "│ flatten (\u001b[38;5;33mFlatten\u001b[0m)   │ (\u001b[38;5;45mNone\u001b[0m, \u001b[38;5;34m1280\u001b[0m)      │          \u001b[38;5;34m0\u001b[0m │ max_pooling1d[\u001b[38;5;34m0\u001b[0m]… │\n",
              "├─────────────────────┼───────────────────┼────────────┼───────────────────┤\n",
              "│ flatten_1 (\u001b[38;5;33mFlatten\u001b[0m) │ (\u001b[38;5;45mNone\u001b[0m, \u001b[38;5;34m3264\u001b[0m)      │          \u001b[38;5;34m0\u001b[0m │ max_pooling1d_1[\u001b[38;5;34m…\u001b[0m │\n",
              "├─────────────────────┼───────────────────┼────────────┼───────────────────┤\n",
              "│ flatten_2 (\u001b[38;5;33mFlatten\u001b[0m) │ (\u001b[38;5;45mNone\u001b[0m, \u001b[38;5;34m7232\u001b[0m)      │          \u001b[38;5;34m0\u001b[0m │ max_pooling1d_2[\u001b[38;5;34m…\u001b[0m │\n",
              "├─────────────────────┼───────────────────┼────────────┼───────────────────┤\n",
              "│ concatenate         │ (\u001b[38;5;45mNone\u001b[0m, \u001b[38;5;34m11776\u001b[0m)     │          \u001b[38;5;34m0\u001b[0m │ flatten[\u001b[38;5;34m0\u001b[0m][\u001b[38;5;34m0\u001b[0m],    │\n",
              "│ (\u001b[38;5;33mConcatenate\u001b[0m)       │                   │            │ flatten_1[\u001b[38;5;34m0\u001b[0m][\u001b[38;5;34m0\u001b[0m],  │\n",
              "│                     │                   │            │ flatten_2[\u001b[38;5;34m0\u001b[0m][\u001b[38;5;34m0\u001b[0m]   │\n",
              "├─────────────────────┼───────────────────┼────────────┼───────────────────┤\n",
              "│ dense (\u001b[38;5;33mDense\u001b[0m)       │ (\u001b[38;5;45mNone\u001b[0m, \u001b[38;5;34m100\u001b[0m)       │  \u001b[38;5;34m1,177,700\u001b[0m │ concatenate[\u001b[38;5;34m0\u001b[0m][\u001b[38;5;34m0\u001b[0m] │\n",
              "├─────────────────────┼───────────────────┼────────────┼───────────────────┤\n",
              "│ dense_1 (\u001b[38;5;33mDense\u001b[0m)     │ (\u001b[38;5;45mNone\u001b[0m, \u001b[38;5;34m8\u001b[0m)         │        \u001b[38;5;34m808\u001b[0m │ dense[\u001b[38;5;34m0\u001b[0m][\u001b[38;5;34m0\u001b[0m]       │\n",
              "└─────────────────────┴───────────────────┴────────────┴───────────────────┘\n"
            ],
            "text/html": [
              "<pre style=\"white-space:pre;overflow-x:auto;line-height:normal;font-family:Menlo,'DejaVu Sans Mono',consolas,'Courier New',monospace\">┏━━━━━━━━━━━━━━━━━━━━━┳━━━━━━━━━━━━━━━━━━━┳━━━━━━━━━━━━┳━━━━━━━━━━━━━━━━━━━┓\n",
              "┃<span style=\"font-weight: bold\"> Layer (type)        </span>┃<span style=\"font-weight: bold\"> Output Shape      </span>┃<span style=\"font-weight: bold\">    Param # </span>┃<span style=\"font-weight: bold\"> Connected to      </span>┃\n",
              "┡━━━━━━━━━━━━━━━━━━━━━╇━━━━━━━━━━━━━━━━━━━╇━━━━━━━━━━━━╇━━━━━━━━━━━━━━━━━━━┩\n",
              "│ input_layer         │ (<span style=\"color: #00d7ff; text-decoration-color: #00d7ff\">None</span>, <span style=\"color: #00af00; text-decoration-color: #00af00\">614</span>, <span style=\"color: #00af00; text-decoration-color: #00af00\">1</span>)    │          <span style=\"color: #00af00; text-decoration-color: #00af00\">0</span> │ -                 │\n",
              "│ (<span style=\"color: #0087ff; text-decoration-color: #0087ff\">InputLayer</span>)        │                   │            │                   │\n",
              "├─────────────────────┼───────────────────┼────────────┼───────────────────┤\n",
              "│ input_layer_1       │ (<span style=\"color: #00d7ff; text-decoration-color: #00d7ff\">None</span>, <span style=\"color: #00af00; text-decoration-color: #00af00\">614</span>, <span style=\"color: #00af00; text-decoration-color: #00af00\">1</span>)    │          <span style=\"color: #00af00; text-decoration-color: #00af00\">0</span> │ -                 │\n",
              "│ (<span style=\"color: #0087ff; text-decoration-color: #0087ff\">InputLayer</span>)        │                   │            │                   │\n",
              "├─────────────────────┼───────────────────┼────────────┼───────────────────┤\n",
              "│ input_layer_2       │ (<span style=\"color: #00d7ff; text-decoration-color: #00d7ff\">None</span>, <span style=\"color: #00af00; text-decoration-color: #00af00\">614</span>, <span style=\"color: #00af00; text-decoration-color: #00af00\">1</span>)    │          <span style=\"color: #00af00; text-decoration-color: #00af00\">0</span> │ -                 │\n",
              "│ (<span style=\"color: #0087ff; text-decoration-color: #0087ff\">InputLayer</span>)        │                   │            │                   │\n",
              "├─────────────────────┼───────────────────┼────────────┼───────────────────┤\n",
              "│ conv1d (<span style=\"color: #0087ff; text-decoration-color: #0087ff\">Conv1D</span>)     │ (<span style=\"color: #00d7ff; text-decoration-color: #00d7ff\">None</span>, <span style=\"color: #00af00; text-decoration-color: #00af00\">415</span>, <span style=\"color: #00af00; text-decoration-color: #00af00\">64</span>)   │     <span style=\"color: #00af00; text-decoration-color: #00af00\">12,864</span> │ input_layer[<span style=\"color: #00af00; text-decoration-color: #00af00\">0</span>][<span style=\"color: #00af00; text-decoration-color: #00af00\">0</span>] │\n",
              "├─────────────────────┼───────────────────┼────────────┼───────────────────┤\n",
              "│ conv1d_1 (<span style=\"color: #0087ff; text-decoration-color: #0087ff\">Conv1D</span>)   │ (<span style=\"color: #00d7ff; text-decoration-color: #00d7ff\">None</span>, <span style=\"color: #00af00; text-decoration-color: #00af00\">515</span>, <span style=\"color: #00af00; text-decoration-color: #00af00\">64</span>)   │      <span style=\"color: #00af00; text-decoration-color: #00af00\">6,464</span> │ input_layer_1[<span style=\"color: #00af00; text-decoration-color: #00af00\">0</span>]… │\n",
              "├─────────────────────┼───────────────────┼────────────┼───────────────────┤\n",
              "│ conv1d_2 (<span style=\"color: #0087ff; text-decoration-color: #0087ff\">Conv1D</span>)   │ (<span style=\"color: #00d7ff; text-decoration-color: #00d7ff\">None</span>, <span style=\"color: #00af00; text-decoration-color: #00af00\">565</span>, <span style=\"color: #00af00; text-decoration-color: #00af00\">64</span>)   │      <span style=\"color: #00af00; text-decoration-color: #00af00\">3,264</span> │ input_layer_2[<span style=\"color: #00af00; text-decoration-color: #00af00\">0</span>]… │\n",
              "├─────────────────────┼───────────────────┼────────────┼───────────────────┤\n",
              "│ dropout (<span style=\"color: #0087ff; text-decoration-color: #0087ff\">Dropout</span>)   │ (<span style=\"color: #00d7ff; text-decoration-color: #00d7ff\">None</span>, <span style=\"color: #00af00; text-decoration-color: #00af00\">415</span>, <span style=\"color: #00af00; text-decoration-color: #00af00\">64</span>)   │          <span style=\"color: #00af00; text-decoration-color: #00af00\">0</span> │ conv1d[<span style=\"color: #00af00; text-decoration-color: #00af00\">0</span>][<span style=\"color: #00af00; text-decoration-color: #00af00\">0</span>]      │\n",
              "├─────────────────────┼───────────────────┼────────────┼───────────────────┤\n",
              "│ dropout_1 (<span style=\"color: #0087ff; text-decoration-color: #0087ff\">Dropout</span>) │ (<span style=\"color: #00d7ff; text-decoration-color: #00d7ff\">None</span>, <span style=\"color: #00af00; text-decoration-color: #00af00\">515</span>, <span style=\"color: #00af00; text-decoration-color: #00af00\">64</span>)   │          <span style=\"color: #00af00; text-decoration-color: #00af00\">0</span> │ conv1d_1[<span style=\"color: #00af00; text-decoration-color: #00af00\">0</span>][<span style=\"color: #00af00; text-decoration-color: #00af00\">0</span>]    │\n",
              "├─────────────────────┼───────────────────┼────────────┼───────────────────┤\n",
              "│ dropout_2 (<span style=\"color: #0087ff; text-decoration-color: #0087ff\">Dropout</span>) │ (<span style=\"color: #00d7ff; text-decoration-color: #00d7ff\">None</span>, <span style=\"color: #00af00; text-decoration-color: #00af00\">565</span>, <span style=\"color: #00af00; text-decoration-color: #00af00\">64</span>)   │          <span style=\"color: #00af00; text-decoration-color: #00af00\">0</span> │ conv1d_2[<span style=\"color: #00af00; text-decoration-color: #00af00\">0</span>][<span style=\"color: #00af00; text-decoration-color: #00af00\">0</span>]    │\n",
              "├─────────────────────┼───────────────────┼────────────┼───────────────────┤\n",
              "│ max_pooling1d       │ (<span style=\"color: #00d7ff; text-decoration-color: #00d7ff\">None</span>, <span style=\"color: #00af00; text-decoration-color: #00af00\">20</span>, <span style=\"color: #00af00; text-decoration-color: #00af00\">64</span>)    │          <span style=\"color: #00af00; text-decoration-color: #00af00\">0</span> │ dropout[<span style=\"color: #00af00; text-decoration-color: #00af00\">0</span>][<span style=\"color: #00af00; text-decoration-color: #00af00\">0</span>]     │\n",
              "│ (<span style=\"color: #0087ff; text-decoration-color: #0087ff\">MaxPooling1D</span>)      │                   │            │                   │\n",
              "├─────────────────────┼───────────────────┼────────────┼───────────────────┤\n",
              "│ max_pooling1d_1     │ (<span style=\"color: #00d7ff; text-decoration-color: #00d7ff\">None</span>, <span style=\"color: #00af00; text-decoration-color: #00af00\">51</span>, <span style=\"color: #00af00; text-decoration-color: #00af00\">64</span>)    │          <span style=\"color: #00af00; text-decoration-color: #00af00\">0</span> │ dropout_1[<span style=\"color: #00af00; text-decoration-color: #00af00\">0</span>][<span style=\"color: #00af00; text-decoration-color: #00af00\">0</span>]   │\n",
              "│ (<span style=\"color: #0087ff; text-decoration-color: #0087ff\">MaxPooling1D</span>)      │                   │            │                   │\n",
              "├─────────────────────┼───────────────────┼────────────┼───────────────────┤\n",
              "│ max_pooling1d_2     │ (<span style=\"color: #00d7ff; text-decoration-color: #00d7ff\">None</span>, <span style=\"color: #00af00; text-decoration-color: #00af00\">113</span>, <span style=\"color: #00af00; text-decoration-color: #00af00\">64</span>)   │          <span style=\"color: #00af00; text-decoration-color: #00af00\">0</span> │ dropout_2[<span style=\"color: #00af00; text-decoration-color: #00af00\">0</span>][<span style=\"color: #00af00; text-decoration-color: #00af00\">0</span>]   │\n",
              "│ (<span style=\"color: #0087ff; text-decoration-color: #0087ff\">MaxPooling1D</span>)      │                   │            │                   │\n",
              "├─────────────────────┼───────────────────┼────────────┼───────────────────┤\n",
              "│ flatten (<span style=\"color: #0087ff; text-decoration-color: #0087ff\">Flatten</span>)   │ (<span style=\"color: #00d7ff; text-decoration-color: #00d7ff\">None</span>, <span style=\"color: #00af00; text-decoration-color: #00af00\">1280</span>)      │          <span style=\"color: #00af00; text-decoration-color: #00af00\">0</span> │ max_pooling1d[<span style=\"color: #00af00; text-decoration-color: #00af00\">0</span>]… │\n",
              "├─────────────────────┼───────────────────┼────────────┼───────────────────┤\n",
              "│ flatten_1 (<span style=\"color: #0087ff; text-decoration-color: #0087ff\">Flatten</span>) │ (<span style=\"color: #00d7ff; text-decoration-color: #00d7ff\">None</span>, <span style=\"color: #00af00; text-decoration-color: #00af00\">3264</span>)      │          <span style=\"color: #00af00; text-decoration-color: #00af00\">0</span> │ max_pooling1d_1[<span style=\"color: #00af00; text-decoration-color: #00af00\">…</span> │\n",
              "├─────────────────────┼───────────────────┼────────────┼───────────────────┤\n",
              "│ flatten_2 (<span style=\"color: #0087ff; text-decoration-color: #0087ff\">Flatten</span>) │ (<span style=\"color: #00d7ff; text-decoration-color: #00d7ff\">None</span>, <span style=\"color: #00af00; text-decoration-color: #00af00\">7232</span>)      │          <span style=\"color: #00af00; text-decoration-color: #00af00\">0</span> │ max_pooling1d_2[<span style=\"color: #00af00; text-decoration-color: #00af00\">…</span> │\n",
              "├─────────────────────┼───────────────────┼────────────┼───────────────────┤\n",
              "│ concatenate         │ (<span style=\"color: #00d7ff; text-decoration-color: #00d7ff\">None</span>, <span style=\"color: #00af00; text-decoration-color: #00af00\">11776</span>)     │          <span style=\"color: #00af00; text-decoration-color: #00af00\">0</span> │ flatten[<span style=\"color: #00af00; text-decoration-color: #00af00\">0</span>][<span style=\"color: #00af00; text-decoration-color: #00af00\">0</span>],    │\n",
              "│ (<span style=\"color: #0087ff; text-decoration-color: #0087ff\">Concatenate</span>)       │                   │            │ flatten_1[<span style=\"color: #00af00; text-decoration-color: #00af00\">0</span>][<span style=\"color: #00af00; text-decoration-color: #00af00\">0</span>],  │\n",
              "│                     │                   │            │ flatten_2[<span style=\"color: #00af00; text-decoration-color: #00af00\">0</span>][<span style=\"color: #00af00; text-decoration-color: #00af00\">0</span>]   │\n",
              "├─────────────────────┼───────────────────┼────────────┼───────────────────┤\n",
              "│ dense (<span style=\"color: #0087ff; text-decoration-color: #0087ff\">Dense</span>)       │ (<span style=\"color: #00d7ff; text-decoration-color: #00d7ff\">None</span>, <span style=\"color: #00af00; text-decoration-color: #00af00\">100</span>)       │  <span style=\"color: #00af00; text-decoration-color: #00af00\">1,177,700</span> │ concatenate[<span style=\"color: #00af00; text-decoration-color: #00af00\">0</span>][<span style=\"color: #00af00; text-decoration-color: #00af00\">0</span>] │\n",
              "├─────────────────────┼───────────────────┼────────────┼───────────────────┤\n",
              "│ dense_1 (<span style=\"color: #0087ff; text-decoration-color: #0087ff\">Dense</span>)     │ (<span style=\"color: #00d7ff; text-decoration-color: #00d7ff\">None</span>, <span style=\"color: #00af00; text-decoration-color: #00af00\">8</span>)         │        <span style=\"color: #00af00; text-decoration-color: #00af00\">808</span> │ dense[<span style=\"color: #00af00; text-decoration-color: #00af00\">0</span>][<span style=\"color: #00af00; text-decoration-color: #00af00\">0</span>]       │\n",
              "└─────────────────────┴───────────────────┴────────────┴───────────────────┘\n",
              "</pre>\n"
            ]
          },
          "metadata": {}
        },
        {
          "output_type": "display_data",
          "data": {
            "text/plain": [
              "\u001b[1m Total params: \u001b[0m\u001b[38;5;34m1,201,100\u001b[0m (4.58 MB)\n"
            ],
            "text/html": [
              "<pre style=\"white-space:pre;overflow-x:auto;line-height:normal;font-family:Menlo,'DejaVu Sans Mono',consolas,'Courier New',monospace\"><span style=\"font-weight: bold\"> Total params: </span><span style=\"color: #00af00; text-decoration-color: #00af00\">1,201,100</span> (4.58 MB)\n",
              "</pre>\n"
            ]
          },
          "metadata": {}
        },
        {
          "output_type": "display_data",
          "data": {
            "text/plain": [
              "\u001b[1m Trainable params: \u001b[0m\u001b[38;5;34m1,201,100\u001b[0m (4.58 MB)\n"
            ],
            "text/html": [
              "<pre style=\"white-space:pre;overflow-x:auto;line-height:normal;font-family:Menlo,'DejaVu Sans Mono',consolas,'Courier New',monospace\"><span style=\"font-weight: bold\"> Trainable params: </span><span style=\"color: #00af00; text-decoration-color: #00af00\">1,201,100</span> (4.58 MB)\n",
              "</pre>\n"
            ]
          },
          "metadata": {}
        },
        {
          "output_type": "display_data",
          "data": {
            "text/plain": [
              "\u001b[1m Non-trainable params: \u001b[0m\u001b[38;5;34m0\u001b[0m (0.00 B)\n"
            ],
            "text/html": [
              "<pre style=\"white-space:pre;overflow-x:auto;line-height:normal;font-family:Menlo,'DejaVu Sans Mono',consolas,'Courier New',monospace\"><span style=\"font-weight: bold\"> Non-trainable params: </span><span style=\"color: #00af00; text-decoration-color: #00af00\">0</span> (0.00 B)\n",
              "</pre>\n"
            ]
          },
          "metadata": {}
        }
      ]
    },
    {
      "cell_type": "code",
      "source": [
        "batch_size =100\n",
        "epochs = 20\n",
        "history = cnn_model.fit([X_train,X_train,X_train], y_train, batch_size=batch_size,epochs=epochs,verbose=1,validation_data=([X_test,X_test,X_test],y_test),shuffle=True)"
      ],
      "metadata": {
        "colab": {
          "base_uri": "https://localhost:8080/"
        },
        "id": "2Lxm-qvKM3oN",
        "outputId": "b4f27bbf-2340-437b-dd58-03a3c9637795"
      },
      "id": "2Lxm-qvKM3oN",
      "execution_count": 9,
      "outputs": [
        {
          "output_type": "stream",
          "name": "stdout",
          "text": [
            "Epoch 1/20\n",
            "\u001b[1m16/16\u001b[0m \u001b[32m━━━━━━━━━━━━━━━━━━━━\u001b[0m\u001b[37m\u001b[0m \u001b[1m21s\u001b[0m 891ms/step - accuracy: 0.1698 - loss: 3.0672 - val_accuracy: 0.2997 - val_loss: 1.9340\n",
            "Epoch 2/20\n",
            "\u001b[1m16/16\u001b[0m \u001b[32m━━━━━━━━━━━━━━━━━━━━\u001b[0m\u001b[37m\u001b[0m \u001b[1m15s\u001b[0m 538ms/step - accuracy: 0.3230 - loss: 1.7599 - val_accuracy: 0.3961 - val_loss: 1.7051\n",
            "Epoch 3/20\n",
            "\u001b[1m16/16\u001b[0m \u001b[32m━━━━━━━━━━━━━━━━━━━━\u001b[0m\u001b[37m\u001b[0m \u001b[1m7s\u001b[0m 343ms/step - accuracy: 0.4552 - loss: 1.4299 - val_accuracy: 0.4288 - val_loss: 1.4640\n",
            "Epoch 4/20\n",
            "\u001b[1m16/16\u001b[0m \u001b[32m━━━━━━━━━━━━━━━━━━━━\u001b[0m\u001b[37m\u001b[0m \u001b[1m7s\u001b[0m 442ms/step - accuracy: 0.5905 - loss: 1.1739 - val_accuracy: 0.4095 - val_loss: 1.3834\n",
            "Epoch 5/20\n",
            "\u001b[1m16/16\u001b[0m \u001b[32m━━━━━━━━━━━━━━━━━━━━\u001b[0m\u001b[37m\u001b[0m \u001b[1m10s\u001b[0m 394ms/step - accuracy: 0.5965 - loss: 1.0576 - val_accuracy: 0.4955 - val_loss: 1.2545\n",
            "Epoch 6/20\n",
            "\u001b[1m16/16\u001b[0m \u001b[32m━━━━━━━━━━━━━━━━━━━━\u001b[0m\u001b[37m\u001b[0m \u001b[1m6s\u001b[0m 370ms/step - accuracy: 0.6348 - loss: 0.9870 - val_accuracy: 0.4021 - val_loss: 1.2811\n",
            "Epoch 7/20\n",
            "\u001b[1m16/16\u001b[0m \u001b[32m━━━━━━━━━━━━━━━━━━━━\u001b[0m\u001b[37m\u001b[0m \u001b[1m11s\u001b[0m 464ms/step - accuracy: 0.6973 - loss: 0.8620 - val_accuracy: 0.3783 - val_loss: 1.4161\n",
            "Epoch 8/20\n",
            "\u001b[1m16/16\u001b[0m \u001b[32m━━━━━━━━━━━━━━━━━━━━\u001b[0m\u001b[37m\u001b[0m \u001b[1m8s\u001b[0m 349ms/step - accuracy: 0.7269 - loss: 0.7991 - val_accuracy: 0.3487 - val_loss: 1.6457\n",
            "Epoch 9/20\n",
            "\u001b[1m16/16\u001b[0m \u001b[32m━━━━━━━━━━━━━━━━━━━━\u001b[0m\u001b[37m\u001b[0m \u001b[1m10s\u001b[0m 351ms/step - accuracy: 0.7227 - loss: 0.7540 - val_accuracy: 0.4318 - val_loss: 1.3202\n",
            "Epoch 10/20\n",
            "\u001b[1m16/16\u001b[0m \u001b[32m━━━━━━━━━━━━━━━━━━━━\u001b[0m\u001b[37m\u001b[0m \u001b[1m10s\u001b[0m 343ms/step - accuracy: 0.7832 - loss: 0.6671 - val_accuracy: 0.3739 - val_loss: 1.5897\n",
            "Epoch 11/20\n",
            "\u001b[1m16/16\u001b[0m \u001b[32m━━━━━━━━━━━━━━━━━━━━\u001b[0m\u001b[37m\u001b[0m \u001b[1m14s\u001b[0m 580ms/step - accuracy: 0.7823 - loss: 0.6230 - val_accuracy: 0.3501 - val_loss: 1.7527\n",
            "Epoch 12/20\n",
            "\u001b[1m16/16\u001b[0m \u001b[32m━━━━━━━━━━━━━━━━━━━━\u001b[0m\u001b[37m\u001b[0m \u001b[1m7s\u001b[0m 355ms/step - accuracy: 0.8323 - loss: 0.5677 - val_accuracy: 0.3828 - val_loss: 1.5324\n",
            "Epoch 13/20\n",
            "\u001b[1m16/16\u001b[0m \u001b[32m━━━━━━━━━━━━━━━━━━━━\u001b[0m\u001b[37m\u001b[0m \u001b[1m11s\u001b[0m 363ms/step - accuracy: 0.8195 - loss: 0.5567 - val_accuracy: 0.4866 - val_loss: 1.2649\n",
            "Epoch 14/20\n",
            "\u001b[1m16/16\u001b[0m \u001b[32m━━━━━━━━━━━━━━━━━━━━\u001b[0m\u001b[37m\u001b[0m \u001b[1m7s\u001b[0m 474ms/step - accuracy: 0.7983 - loss: 0.5556 - val_accuracy: 0.3872 - val_loss: 1.5967\n",
            "Epoch 15/20\n",
            "\u001b[1m16/16\u001b[0m \u001b[32m━━━━━━━━━━━━━━━━━━━━\u001b[0m\u001b[37m\u001b[0m \u001b[1m8s\u001b[0m 350ms/step - accuracy: 0.8750 - loss: 0.4251 - val_accuracy: 0.4199 - val_loss: 1.5362\n",
            "Epoch 16/20\n",
            "\u001b[1m16/16\u001b[0m \u001b[32m━━━━━━━━━━━━━━━━━━━━\u001b[0m\u001b[37m\u001b[0m \u001b[1m10s\u001b[0m 329ms/step - accuracy: 0.9037 - loss: 0.4064 - val_accuracy: 0.3828 - val_loss: 1.8548\n",
            "Epoch 17/20\n",
            "\u001b[1m16/16\u001b[0m \u001b[32m━━━━━━━━━━━━━━━━━━━━\u001b[0m\u001b[37m\u001b[0m \u001b[1m11s\u001b[0m 363ms/step - accuracy: 0.9199 - loss: 0.3443 - val_accuracy: 0.3620 - val_loss: 1.9954\n",
            "Epoch 18/20\n",
            "\u001b[1m16/16\u001b[0m \u001b[32m━━━━━━━━━━━━━━━━━━━━\u001b[0m\u001b[37m\u001b[0m \u001b[1m11s\u001b[0m 449ms/step - accuracy: 0.9298 - loss: 0.3219 - val_accuracy: 0.3754 - val_loss: 1.8602\n",
            "Epoch 19/20\n",
            "\u001b[1m16/16\u001b[0m \u001b[32m━━━━━━━━━━━━━━━━━━━━\u001b[0m\u001b[37m\u001b[0m \u001b[1m6s\u001b[0m 347ms/step - accuracy: 0.9355 - loss: 0.2922 - val_accuracy: 0.3976 - val_loss: 1.8585\n",
            "Epoch 20/20\n",
            "\u001b[1m16/16\u001b[0m \u001b[32m━━━━━━━━━━━━━━━━━━━━\u001b[0m\u001b[37m\u001b[0m \u001b[1m10s\u001b[0m 334ms/step - accuracy: 0.9406 - loss: 0.2566 - val_accuracy: 0.3961 - val_loss: 1.8791\n"
          ]
        }
      ]
    },
    {
      "cell_type": "code",
      "source": [
        "def inv_Transform_result(y_pred):\n",
        "    y_pred = y_pred.argmax(axis=1)\n",
        "    y_pred = encoder.inverse_transform(y_pred)\n",
        "    return y_pred\n",
        "\n",
        "\n",
        "\n",
        "y_pred=cnn_model.predict([X_test,X_test,X_test])\n",
        "\n",
        "\n",
        "Y_pred=inv_Transform_result(y_pred)\n",
        "Y_test = inv_Transform_result(y_test)\n",
        "\n",
        "\n",
        "\n",
        "\n",
        "from sklearn.metrics import confusion_matrix\n",
        "\n",
        "\n",
        "plt.figure(figsize=(10,10))\n",
        "cm = confusion_matrix(Y_test, Y_pred,normalize='true')\n",
        "f = sns.heatmap(cm, annot=True,xticklabels=encoder.classes_,yticklabels=encoder.classes_)"
      ],
      "metadata": {
        "colab": {
          "base_uri": "https://localhost:8080/",
          "height": 853
        },
        "id": "pbBmkBjlM5ks",
        "outputId": "7b600fe6-524f-459b-8267-6503745752c3"
      },
      "id": "pbBmkBjlM5ks",
      "execution_count": 10,
      "outputs": [
        {
          "output_type": "stream",
          "name": "stdout",
          "text": [
            "\u001b[1m22/22\u001b[0m \u001b[32m━━━━━━━━━━━━━━━━━━━━\u001b[0m\u001b[37m\u001b[0m \u001b[1m1s\u001b[0m 24ms/step\n"
          ]
        },
        {
          "output_type": "display_data",
          "data": {
            "text/plain": [
              "<Figure size 1000x1000 with 2 Axes>"
            ],
            "image/png": "[encoded data removed]"
          },
          "metadata": {}
        }
      ]
    },
    {
      "cell_type": "code",
      "source": [
        "dummy_cnn = Model(inputs=cnn_model.input,outputs=cnn_model.layers[16].output)\n",
        "y_viz = dummy_cnn.predict([X_train,X_train,X_train])"
      ],
      "metadata": {
        "colab": {
          "base_uri": "https://localhost:8080/"
        },
        "id": "3tgRx2TxM-GS",
        "outputId": "196da059-b4ca-4ddf-9874-a1b38638eb26"
      },
      "id": "3tgRx2TxM-GS",
      "execution_count": 11,
      "outputs": [
        {
          "output_type": "stream",
          "name": "stdout",
          "text": [
            "\u001b[1m50/50\u001b[0m \u001b[32m━━━━━━━━━━━━━━━━━━━━\u001b[0m\u001b[37m\u001b[0m \u001b[1m1s\u001b[0m 21ms/step\n"
          ]
        }
      ]
    },
    {
      "cell_type": "code",
      "source": [
        "import pandas as pd\n",
        "import seaborn as sns\n",
        "import matplotlib.pyplot as plt\n",
        "from sklearn.manifold import TSNE\n",
        "\n",
        "# Apply t-SNE transformation\n",
        "X_t_sne = TSNE(\n",
        "    n_components=2,\n",
        "    learning_rate='auto',\n",
        "    verbose=2,  # Increase verbosity for more detailed feedback\n",
        "    perplexity=40,\n",
        "    n_iter=500  # Slightly increased number of iterations for convergence\n",
        ").fit_transform(y_viz)\n",
        "\n",
        "# Create DataFrame for t-SNE components\n",
        "tSNEdf = pd.DataFrame(data=X_t_sne, columns=['T-SNE component 1', 'T-SNE component 2'])\n",
        "\n",
        "# Assuming `inv_Transform_result` transforms `y_train` to get the Fault labels\n",
        "tSNEdf['Fault'] = inv_Transform_result(y_train)\n",
        "\n",
        "# Save the t-SNE DataFrame as a CSV file\n",
        "tSNEdf.to_csv('/content/drive/MyDrive/MK DCNN TRIAX/NOISE_10_tSNE_results.csv', index=True)\n",
        "print(\"t-SNE results saved as '/content/drive/MyDrive/MK DCNN TRIAX/NOISE_10_tSNE_results.csv'.\")\n",
        "\n",
        "# # Plot the t-SNE results with Fault as hue\n",
        "# plt.figure(figsize=(12, 12))  # Larger figure for clarity\n",
        "# sns.scatterplot(\n",
        "#     x='T-SNE component 1',\n",
        "#     y='T-SNE component 2',\n",
        "#     hue='Fault',\n",
        "#     palette=sns.color_palette(\"husl\", as_cmap=False),  # Vivid color palette\n",
        "#     data=tSNEdf,\n",
        "#     legend=\"full\",\n",
        "#     alpha=0.7,  # Increased transparency for better overlap clarity\n",
        "#     s=100  # Larger marker size\n",
        "# )\n",
        "\n",
        "# # Add gridlines for better visualization\n",
        "# plt.grid\n",
        "\n",
        "\n",
        "# Optional: Visualization of t-SNE representation\n",
        "plt.figure(figsize=(8, 6))\n",
        "for label in tSNEdf['Fault'].unique():\n",
        "    subset = tSNEdf[tSNEdf['Fault'] == label]\n",
        "    plt.scatter(subset['T-SNE component 1'], subset['T-SNE component 2'], label=f'Fault {label}', alpha=0.7)\n",
        "\n",
        "plt.title('t-SNE Representation of Motor Fault Dataset')\n",
        "plt.xlabel('t-SNE 1')\n",
        "plt.ylabel('t-SNE 2')\n",
        "plt.legend()\n",
        "plt.show()"
      ],
      "metadata": {
        "colab": {
          "base_uri": "https://localhost:8080/",
          "height": 946
        },
        "id": "uic9AVV2NBah",
        "outputId": "7d653ebf-1761-481d-87f3-5ed0ceddb8c0"
      },
      "id": "uic9AVV2NBah",
      "execution_count": 12,
      "outputs": [
        {
          "output_type": "stream",
          "name": "stderr",
          "text": [
            "/usr/local/lib/python3.11/dist-packages/sklearn/manifold/_t_sne.py:1164: FutureWarning: 'n_iter' was renamed to 'max_iter' in version 1.5 and will be removed in 1.7.\n",
            "  warnings.warn(\n"
          ]
        },
        {
          "output_type": "stream",
          "name": "stdout",
          "text": [
            "[t-SNE] Computing 121 nearest neighbors...\n",
            "[t-SNE] Indexed 1572 samples in 0.001s...\n",
            "[t-SNE] Computed neighbors for 1572 samples in 0.127s...\n",
            "[t-SNE] Computed conditional probabilities for sample 1000 / 1572\n",
            "[t-SNE] Computed conditional probabilities for sample 1572 / 1572\n",
            "[t-SNE] Mean sigma: 2.221171\n",
            "[t-SNE] Computed conditional probabilities in 0.062s\n",
            "[t-SNE] Iteration 50: error = 60.3387375, gradient norm = 0.0359288 (50 iterations in 0.811s)\n",
            "[t-SNE] Iteration 100: error = 56.5649605, gradient norm = 0.0084928 (50 iterations in 0.540s)\n",
            "[t-SNE] Iteration 150: error = 55.8972816, gradient norm = 0.0052296 (50 iterations in 0.716s)\n",
            "[t-SNE] Iteration 200: error = 55.6408615, gradient norm = 0.0038564 (50 iterations in 0.853s)\n",
            "[t-SNE] Iteration 250: error = 55.4883614, gradient norm = 0.0030767 (50 iterations in 0.838s)\n",
            "[t-SNE] KL divergence after 250 iterations with early exaggeration: 55.488361\n",
            "[t-SNE] Iteration 300: error = 1.0848970, gradient norm = 0.0168720 (50 iterations in 0.818s)\n",
            "[t-SNE] Iteration 350: error = 0.8492314, gradient norm = 0.0138166 (50 iterations in 0.894s)\n",
            "[t-SNE] Iteration 400: error = 0.7644420, gradient norm = 0.0111070 (50 iterations in 0.527s)\n",
            "[t-SNE] Iteration 450: error = 0.7230664, gradient norm = 0.0096021 (50 iterations in 0.538s)\n",
            "[t-SNE] Iteration 500: error = 0.6999331, gradient norm = 0.0077217 (50 iterations in 0.536s)\n",
            "[t-SNE] KL divergence after 500 iterations: 0.699933\n",
            "t-SNE results saved as '/content/drive/MyDrive/MK DCNN TRIAX/NOISE_10_tSNE_results.csv'.\n"
          ]
        },
        {
          "output_type": "display_data",
          "data": {
            "text/plain": [
              "<Figure size 800x600 with 1 Axes>"
            ],
            "image/png": "[encoded data removed]"
          },
          "metadata": {}
        }
      ]
    },
    {
      "cell_type": "markdown",
      "source": [
        "Statistical Features"
      ],
      "metadata": {
        "id": "PRuXPOIH6cTH"
      },
      "id": "PRuXPOIH6cTH"
    },
    {
      "cell_type": "code",
      "source": [
        "import numpy as np\n",
        "from scipy.stats import skew, kurtosis\n",
        "import pandas as pd\n",
        "import matplotlib.pyplot as plt\n",
        "\n",
        "# Total target rows\n",
        "TARGET_ROWS = 1800\n",
        "\n",
        "# Estimate the total number of samples across all fault types\n",
        "total_samples = sum(len(df[df['fault'] == f]) for f in df['fault'].unique())\n",
        "\n",
        "# Calculate suitable window size and stride\n",
        "num_faults = 9\n",
        "average_samples_per_fault = total_samples / num_faults\n",
        "approx_windows_per_fault = TARGET_ROWS / num_faults\n",
        "stride_ratio = 0.8  # Initial stride/window ratio\n",
        "\n",
        "WINDOW_SIZE = int(average_samples_per_fault / approx_windows_per_fault)\n",
        "STRIDE = int(WINDOW_SIZE * stride_ratio)\n",
        "\n",
        "print(f\"Calculated WINDOW_SIZE: {WINDOW_SIZE}, STRIDE: {STRIDE}\")\n",
        "\n",
        "# Initialize a list to store statistical features\n",
        "statistical_features = []\n",
        "\n",
        "# Loop through each fault type\n",
        "for f in df['fault'].unique():\n",
        "    # Extract data for the current fault type\n",
        "    fault_data = df[df['fault'] == f].iloc[:, 0].values  # Convert to NumPy array for efficiency\n",
        "\n",
        "    # Compute windows using sliding window approach\n",
        "    num_windows = (len(fault_data) - WINDOW_SIZE) // STRIDE + 1\n",
        "    for i in range(num_windows):\n",
        "        start = i * STRIDE\n",
        "        end = start + WINDOW_SIZE\n",
        "        window = fault_data[start:end]\n",
        "\n",
        "        # Convert window to a numeric type\n",
        "        window = window.astype(float)\n",
        "\n",
        "        # Compute statistical features for the current window\n",
        "        mean_val = np.mean(window)\n",
        "        std_val = np.std(window)\n",
        "        rms_val = np.sqrt(np.mean(np.square(window)))\n",
        "        max_val = np.max(window)\n",
        "        min_val = np.min(window)\n",
        "        skewness_val = skew(window)\n",
        "        kurtosis_val = kurtosis(window)\n",
        "\n",
        "        # Additional statistical features\n",
        "        mean_abs_val = np.mean(np.abs(window))\n",
        "        form_factor = rms_val / mean_abs_val if mean_abs_val != 0 else 0\n",
        "        crest_factor = max_val / rms_val if rms_val != 0 else 0\n",
        "\n",
        "        # Store the features in a dictionary\n",
        "        statistical_features.append({\n",
        "            'fault': f,\n",
        "            'window': i + 1,\n",
        "            'mean': mean_val,\n",
        "            'std': std_val,\n",
        "            'rms': rms_val,\n",
        "            'max': max_val,\n",
        "            'min': min_val,\n",
        "            'skewness': skewness_val,\n",
        "            'kurtosis': kurtosis_val,\n",
        "            'form_factor': form_factor,\n",
        "            'crest_factor': crest_factor\n",
        "        })\n",
        "\n",
        "# Convert statistical features into a DataFrame\n",
        "stat_features_df = pd.DataFrame(statistical_features)\n",
        "\n",
        "# Display the extracted features and count of rows\n",
        "print(f\"Extracted {len(stat_features_df)} rows (target: {TARGET_ROWS})\")\n",
        "print(stat_features_df)\n",
        "\n",
        "# Save the extracted features to a CSV file\n",
        "output_file = \"/content/drive/MyDrive/MK DCNN TRIAX/NOISE_10_statistical_features_with_form_and_crest_factors.csv\"\n",
        "stat_features_df.to_csv(output_file, index=False)\n",
        "print(f\"Statistical features saved to '{output_file}'.\")"
      ],
      "metadata": {
        "colab": {
          "base_uri": "https://localhost:8080/"
        },
        "id": "HRTIq9cYQgjC",
        "outputId": "cc866fb1-3056-4dcf-986e-c71046c1e549"
      },
      "id": "HRTIq9cYQgjC",
      "execution_count": 13,
      "outputs": [
        {
          "output_type": "stream",
          "name": "stdout",
          "text": [
            "Calculated WINDOW_SIZE: 614, STRIDE: 491\n",
            "Extracted 2246 rows (target: 1800)\n",
            "          fault  window      mean       std       rms       max       min  \\\n",
            "0      F1_IR007       1  0.180461  1.454983  1.466132  3.165989 -2.907162   \n",
            "1      F1_IR007       2  0.176081  1.503142  1.513421  3.367036 -3.083427   \n",
            "2      F1_IR007       3  0.164814  1.474817  1.483997  3.135437 -3.268586   \n",
            "3      F1_IR007       4  0.192332  1.487847  1.500227  3.017878 -3.268586   \n",
            "4      F1_IR007       5  0.177988  1.455471  1.466314  3.014387 -2.922054   \n",
            "...         ...     ...       ...       ...       ...       ...       ...   \n",
            "2241  F8_Normal     237  0.117385  1.091605  1.097898  2.418449 -2.300601   \n",
            "2242  F8_Normal     238  0.086816  1.085835  1.089300  2.229964 -2.057695   \n",
            "2243  F8_Normal     239  0.115315  1.093897  1.099958  2.318707 -2.146176   \n",
            "2244  F8_Normal     240  0.078272  1.085779  1.088597  2.382100 -2.146176   \n",
            "2245  F8_Normal     241  0.079590  1.048724  1.051740  2.183042 -2.351514   \n",
            "\n",
            "      skewness  kurtosis  form_factor  crest_factor  \n",
            "0     0.009304 -1.161170     1.154485      2.159417  \n",
            "1    -0.010140 -1.159344     1.159602      2.224786  \n",
            "2    -0.003618 -1.231805     1.145316      2.112832  \n",
            "3     0.003601 -1.230502     1.145735      2.011614  \n",
            "4     0.053335 -1.281338     1.134481      2.055759  \n",
            "...        ...       ...          ...           ...  \n",
            "2241 -0.040071 -1.211060     1.144026      2.202799  \n",
            "2242 -0.024840 -1.214808     1.146495      2.047154  \n",
            "2243 -0.008956 -1.223111     1.145670      2.107996  \n",
            "2244 -0.003050 -1.245685     1.131821      2.188230  \n",
            "2245 -0.027095 -1.165466     1.150512      2.075648  \n",
            "\n",
            "[2246 rows x 11 columns]\n",
            "Statistical features saved to '/content/drive/MyDrive/MK DCNN TRIAX/NOISE_10_statistical_features_with_form_and_crest_factors.csv'.\n"
          ]
        }
      ]
    },
    {
      "cell_type": "code",
      "source": [
        "import pandas as pd\n",
        "from sklearn.utils import resample\n",
        "\n",
        "# Load your dataset (replace 'your_dataset.csv' with your actual file)\n",
        "df = pd.read_csv('/content/drive/MyDrive/MK DCNN TRIAX/NOISE_10_statistical_features_with_form_and_crest_factors.csv')\n",
        "\n",
        "# Display initial class distribution\n",
        "print(\"Initial class distribution:\")\n",
        "print(df['fault'].value_counts())\n",
        "\n",
        "# Target size for undersampling/resampling\n",
        "TARGET_ROWS = 1570\n",
        "\n",
        "# Separate all fault types\n",
        "fault_classes = df['fault'].value_counts()\n",
        "\n",
        "# Determine the number of classes\n",
        "num_classes = len(fault_classes)\n",
        "\n",
        "# Calculate how many samples to take from each class\n",
        "samples_per_class = TARGET_ROWS // num_classes\n",
        "\n",
        "# Initialize a list to store resampled data\n",
        "resampled_data = []\n",
        "\n",
        "# Loop over each class to resample them\n",
        "for fault_class in fault_classes.index:\n",
        "    class_data = df[df['fault'] == fault_class]\n",
        "    if len(class_data) > samples_per_class:\n",
        "        # Undersample\n",
        "        class_data_resampled = resample(class_data, replace=False, n_samples=samples_per_class, random_state=42)\n",
        "    else:\n",
        "        # Upsample\n",
        "        class_data_resampled = resample(class_data, replace=True, n_samples=samples_per_class, random_state=42)\n",
        "\n",
        "    resampled_data.append(class_data_resampled)\n",
        "\n",
        "# Concatenate the resampled data into a single DataFrame\n",
        "balanced_df = pd.concat(resampled_data)\n",
        "\n",
        "# Check if we have the exact number of rows\n",
        "current_rows = len(balanced_df)\n",
        "print(f\"Current rows after equal resampling: {current_rows}\")\n",
        "\n",
        "# If the current rows don't match the target rows, adjust by trimming or adding rows\n",
        "if current_rows > TARGET_ROWS:\n",
        "    # Trim extra rows (if more than target)\n",
        "    balanced_df = balanced_df.head(TARGET_ROWS)\n",
        "elif current_rows < TARGET_ROWS:\n",
        "    # Add rows if fewer than target, by sampling from existing data\n",
        "    remaining_rows = TARGET_ROWS - current_rows\n",
        "    additional_data = balanced_df.sample(n=remaining_rows, replace=True, random_state=42)\n",
        "    balanced_df = pd.concat([balanced_df, additional_data])\n",
        "\n",
        "# Shuffle the final dataset\n",
        "balanced_df = balanced_df.sample(frac=1, random_state=42).reset_index(drop=True)\n",
        "\n",
        "# Display new class distribution\n",
        "print(\"New class distribution:\")\n",
        "print(balanced_df['fault'].value_counts())\n",
        "\n",
        "# Display final row count\n",
        "print(f\"Final row count: {len(balanced_df)}\")\n",
        "\n",
        "# Save the balanced dataset to a CSV file\n",
        "balanced_df.to_csv(\"/content/drive/MyDrive/MK DCNN TRIAX/NOISE_10_balanced_dataset_equal_resampling_exact_1570.csv\", index=False)\n",
        "print(\"Balanced dataset saved as '/content/drive/MyDrive/MK DCNN TRIAX/NOISE_10_balanced_dataset_equal_resampling_exact_1570.csv'\")\n"
      ],
      "metadata": {
        "id": "0-DLTbJL0tc6",
        "colab": {
          "base_uri": "https://localhost:8080/"
        },
        "outputId": "0c3e6d14-2d22-4d21-ab81-f5dcc366dfb3"
      },
      "id": "0-DLTbJL0tc6",
      "execution_count": 14,
      "outputs": [
        {
          "output_type": "stream",
          "name": "stdout",
          "text": [
            "Initial class distribution:\n",
            "fault\n",
            "F2_IR009     310\n",
            "F1_IR007     291\n",
            "F3_IR013     291\n",
            "F5_OR009     286\n",
            "F4_IR017     281\n",
            "F7_OR017     277\n",
            "F6_OR013     269\n",
            "F8_Normal    241\n",
            "Name: count, dtype: int64\n",
            "Current rows after equal resampling: 1568\n",
            "New class distribution:\n",
            "fault\n",
            "F8_Normal    197\n",
            "F7_OR017     197\n",
            "F3_IR013     196\n",
            "F4_IR017     196\n",
            "F2_IR009     196\n",
            "F1_IR007     196\n",
            "F5_OR009     196\n",
            "F6_OR013     196\n",
            "Name: count, dtype: int64\n",
            "Final row count: 1570\n",
            "Balanced dataset saved as '/content/drive/MyDrive/MK DCNN TRIAX/NOISE_10_balanced_dataset_equal_resampling_exact_1570.csv'\n"
          ]
        }
      ]
    },
    {
      "cell_type": "code",
      "source": [
        "balanced_df.shape"
      ],
      "metadata": {
        "id": "NQ3f_WOt7Dld",
        "colab": {
          "base_uri": "https://localhost:8080/"
        },
        "outputId": "97c7c1bc-c588-4049-a66c-586a08e96520"
      },
      "id": "NQ3f_WOt7Dld",
      "execution_count": 15,
      "outputs": [
        {
          "output_type": "execute_result",
          "data": {
            "text/plain": [
              "(1570, 11)"
            ]
          },
          "metadata": {},
          "execution_count": 15
        }
      ]
    },
    {
      "cell_type": "code",
      "source": [
        "balanced_df=balanced_df.sort_values(by='fault')"
      ],
      "metadata": {
        "id": "JP_zDzu6_Zkt"
      },
      "id": "JP_zDzu6_Zkt",
      "execution_count": 16,
      "outputs": []
    },
    {
      "cell_type": "code",
      "source": [
        "balanced_df"
      ],
      "metadata": {
        "id": "eq6MhY1CAvgD",
        "colab": {
          "base_uri": "https://localhost:8080/",
          "height": 424
        },
        "outputId": "5887081c-d21c-49c8-a0b8-94c41220c1b9"
      },
      "id": "eq6MhY1CAvgD",
      "execution_count": 17,
      "outputs": [
        {
          "output_type": "execute_result",
          "data": {
            "text/plain": [
              "          fault  window      mean       std       rms       max       min  \\\n",
              "1220   F1_IR007     120  0.228786  1.530407  1.547414  3.178292 -3.136519   \n",
              "1358   F1_IR007     227  0.161792  1.510902  1.519540  3.336329 -3.416943   \n",
              "1511   F1_IR007      31  0.224546  1.595321  1.611046  3.310819 -2.989775   \n",
              "714    F1_IR007     101  0.208835  1.595596  1.609204  3.082266 -2.916976   \n",
              "710    F1_IR007     174  0.201967  1.498260  1.511812  3.231698 -2.963994   \n",
              "...         ...     ...       ...       ...       ...       ...       ...   \n",
              "1376  F8_Normal     228  0.098560  1.083393  1.087867  2.720951 -2.050476   \n",
              "663   F8_Normal     225  0.111123  1.086823  1.092489  2.102127 -2.347372   \n",
              "660   F8_Normal      81  0.068824  1.096062  1.098220  2.431104 -2.100907   \n",
              "421   F8_Normal     220  0.092659  1.064643  1.068668  2.437308 -2.107812   \n",
              "0     F8_Normal     160  0.083907  1.063702  1.067006  2.412187 -2.321452   \n",
              "\n",
              "      skewness  kurtosis  form_factor  crest_factor  \n",
              "1220 -0.103567 -1.271736     1.124939      2.053938  \n",
              "1358 -0.012632 -1.224393     1.134072      2.195618  \n",
              "1511 -0.102041 -1.352084     1.123346      2.055074  \n",
              "714  -0.137524 -1.340233     1.122160      1.915397  \n",
              "710  -0.042799 -1.300978     1.118271      2.137633  \n",
              "...        ...       ...          ...           ...  \n",
              "1376  0.075873 -1.185641     1.141909      2.501179  \n",
              "663  -0.054047 -1.215967     1.141316      1.924163  \n",
              "660   0.060534 -1.239190     1.134865      2.213676  \n",
              "421   0.029177 -1.211549     1.143279      2.280698  \n",
              "0    -0.007947 -1.195575     1.140390      2.260706  \n",
              "\n",
              "[1570 rows x 11 columns]"
            ],
            "text/html": [
              "\n",
              "  <div id=\"df-928bb373-abae-44ad-a09e-1db4b0cb3dbf\" class=\"colab-df-container\">\n",
              "    <div>\n",
              "<style scoped>\n",
              "    .dataframe tbody tr th:only-of-type {\n",
              "        vertical-align: middle;\n",
              "    }\n",
              "\n",
              "    .dataframe tbody tr th {\n",
              "        vertical-align: top;\n",
              "    }\n",
              "\n",
              "    .dataframe thead th {\n",
              "        text-align: right;\n",
              "    }\n",
              "</style>\n",
              "<table border=\"1\" class=\"dataframe\">\n",
              "  <thead>\n",
              "    <tr style=\"text-align: right;\">\n",
              "      <th></th>\n",
              "      <th>fault</th>\n",
              "      <th>window</th>\n",
              "      <th>mean</th>\n",
              "      <th>std</th>\n",
              "      <th>rms</th>\n",
              "      <th>max</th>\n",
              "      <th>min</th>\n",
              "      <th>skewness</th>\n",
              "      <th>kurtosis</th>\n",
              "      <th>form_factor</th>\n",
              "      <th>crest_factor</th>\n",
              "    </tr>\n",
              "  </thead>\n",
              "  <tbody>\n",
              "    <tr>\n",
              "      <th>1220</th>\n",
              "      <td>F1_IR007</td>\n",
              "      <td>120</td>\n",
              "      <td>0.228786</td>\n",
              "      <td>1.530407</td>\n",
              "      <td>1.547414</td>\n",
              "      <td>3.178292</td>\n",
              "      <td>-3.136519</td>\n",
              "      <td>-0.103567</td>\n",
              "      <td>-1.271736</td>\n",
              "      <td>1.124939</td>\n",
              "      <td>2.053938</td>\n",
              "    </tr>\n",
              "    <tr>\n",
              "      <th>1358</th>\n",
              "      <td>F1_IR007</td>\n",
              "      <td>227</td>\n",
              "      <td>0.161792</td>\n",
              "      <td>1.510902</td>\n",
              "      <td>1.519540</td>\n",
              "      <td>3.336329</td>\n",
              "      <td>-3.416943</td>\n",
              "      <td>-0.012632</td>\n",
              "      <td>-1.224393</td>\n",
              "      <td>1.134072</td>\n",
              "      <td>2.195618</td>\n",
              "    </tr>\n",
              "    <tr>\n",
              "      <th>1511</th>\n",
              "      <td>F1_IR007</td>\n",
              "      <td>31</td>\n",
              "      <td>0.224546</td>\n",
              "      <td>1.595321</td>\n",
              "      <td>1.611046</td>\n",
              "      <td>3.310819</td>\n",
              "      <td>-2.989775</td>\n",
              "      <td>-0.102041</td>\n",
              "      <td>-1.352084</td>\n",
              "      <td>1.123346</td>\n",
              "      <td>2.055074</td>\n",
              "    </tr>\n",
              "    <tr>\n",
              "      <th>714</th>\n",
              "      <td>F1_IR007</td>\n",
              "      <td>101</td>\n",
              "      <td>0.208835</td>\n",
              "      <td>1.595596</td>\n",
              "      <td>1.609204</td>\n",
              "      <td>3.082266</td>\n",
              "      <td>-2.916976</td>\n",
              "      <td>-0.137524</td>\n",
              "      <td>-1.340233</td>\n",
              "      <td>1.122160</td>\n",
              "      <td>1.915397</td>\n",
              "    </tr>\n",
              "    <tr>\n",
              "      <th>710</th>\n",
              "      <td>F1_IR007</td>\n",
              "      <td>174</td>\n",
              "      <td>0.201967</td>\n",
              "      <td>1.498260</td>\n",
              "      <td>1.511812</td>\n",
              "      <td>3.231698</td>\n",
              "      <td>-2.963994</td>\n",
              "      <td>-0.042799</td>\n",
              "      <td>-1.300978</td>\n",
              "      <td>1.118271</td>\n",
              "      <td>2.137633</td>\n",
              "    </tr>\n",
              "    <tr>\n",
              "      <th>...</th>\n",
              "      <td>...</td>\n",
              "      <td>...</td>\n",
              "      <td>...</td>\n",
              "      <td>...</td>\n",
              "      <td>...</td>\n",
              "      <td>...</td>\n",
              "      <td>...</td>\n",
              "      <td>...</td>\n",
              "      <td>...</td>\n",
              "      <td>...</td>\n",
              "      <td>...</td>\n",
              "    </tr>\n",
              "    <tr>\n",
              "      <th>1376</th>\n",
              "      <td>F8_Normal</td>\n",
              "      <td>228</td>\n",
              "      <td>0.098560</td>\n",
              "      <td>1.083393</td>\n",
              "      <td>1.087867</td>\n",
              "      <td>2.720951</td>\n",
              "      <td>-2.050476</td>\n",
              "      <td>0.075873</td>\n",
              "      <td>-1.185641</td>\n",
              "      <td>1.141909</td>\n",
              "      <td>2.501179</td>\n",
              "    </tr>\n",
              "    <tr>\n",
              "      <th>663</th>\n",
              "      <td>F8_Normal</td>\n",
              "      <td>225</td>\n",
              "      <td>0.111123</td>\n",
              "      <td>1.086823</td>\n",
              "      <td>1.092489</td>\n",
              "      <td>2.102127</td>\n",
              "      <td>-2.347372</td>\n",
              "      <td>-0.054047</td>\n",
              "      <td>-1.215967</td>\n",
              "      <td>1.141316</td>\n",
              "      <td>1.924163</td>\n",
              "    </tr>\n",
              "    <tr>\n",
              "      <th>660</th>\n",
              "      <td>F8_Normal</td>\n",
              "      <td>81</td>\n",
              "      <td>0.068824</td>\n",
              "      <td>1.096062</td>\n",
              "      <td>1.098220</td>\n",
              "      <td>2.431104</td>\n",
              "      <td>-2.100907</td>\n",
              "      <td>0.060534</td>\n",
              "      <td>-1.239190</td>\n",
              "      <td>1.134865</td>\n",
              "      <td>2.213676</td>\n",
              "    </tr>\n",
              "    <tr>\n",
              "      <th>421</th>\n",
              "      <td>F8_Normal</td>\n",
              "      <td>220</td>\n",
              "      <td>0.092659</td>\n",
              "      <td>1.064643</td>\n",
              "      <td>1.068668</td>\n",
              "      <td>2.437308</td>\n",
              "      <td>-2.107812</td>\n",
              "      <td>0.029177</td>\n",
              "      <td>-1.211549</td>\n",
              "      <td>1.143279</td>\n",
              "      <td>2.280698</td>\n",
              "    </tr>\n",
              "    <tr>\n",
              "      <th>0</th>\n",
              "      <td>F8_Normal</td>\n",
              "      <td>160</td>\n",
              "      <td>0.083907</td>\n",
              "      <td>1.063702</td>\n",
              "      <td>1.067006</td>\n",
              "      <td>2.412187</td>\n",
              "      <td>-2.321452</td>\n",
              "      <td>-0.007947</td>\n",
              "      <td>-1.195575</td>\n",
              "      <td>1.140390</td>\n",
              "      <td>2.260706</td>\n",
              "    </tr>\n",
              "  </tbody>\n",
              "</table>\n",
              "<p>1570 rows × 11 columns</p>\n",
              "</div>\n",
              "    <div class=\"colab-df-buttons\">\n",
              "\n",
              "  <div class=\"colab-df-container\">\n",
              "    <button class=\"colab-df-convert\" onclick=\"convertToInteractive('df-928bb373-abae-44ad-a09e-1db4b0cb3dbf')\"\n",
              "            title=\"Convert this dataframe to an interactive table.\"\n",
              "            style=\"display:none;\">\n",
              "\n",
              "  <svg xmlns=\"http://www.w3.org/2000/svg\" height=\"24px\" viewBox=\"0 -960 960 960\">\n",
              "    <path d=\"M120-120v-720h720v720H120Zm60-500h600v-160H180v160Zm220 220h160v-160H400v160Zm0 220h160v-160H400v160ZM180-400h160v-160H180v160Zm440 0h160v-160H620v160ZM180-180h160v-160H180v160Zm440 0h160v-160H620v160Z\"/>\n",
              "  </svg>\n",
              "    </button>\n",
              "\n",
              "  <style>\n",
              "    .colab-df-container {\n",
              "      display:flex;\n",
              "      gap: 12px;\n",
              "    }\n",
              "\n",
              "    .colab-df-convert {\n",
              "      background-color: #E8F0FE;\n",
              "      border: none;\n",
              "      border-radius: 50%;\n",
              "      cursor: pointer;\n",
              "      display: none;\n",
              "      fill: #1967D2;\n",
              "      height: 32px;\n",
              "      padding: 0 0 0 0;\n",
              "      width: 32px;\n",
              "    }\n",
              "\n",
              "    .colab-df-convert:hover {\n",
              "      background-color: #E2EBFA;\n",
              "      box-shadow: 0px 1px 2px rgba(60, 64, 67, 0.3), 0px 1px 3px 1px rgba(60, 64, 67, 0.15);\n",
              "      fill: #174EA6;\n",
              "    }\n",
              "\n",
              "    .colab-df-buttons div {\n",
              "      margin-bottom: 4px;\n",
              "    }\n",
              "\n",
              "    [theme=dark] .colab-df-convert {\n",
              "      background-color: #3B4455;\n",
              "      fill: #D2E3FC;\n",
              "    }\n",
              "\n",
              "    [theme=dark] .colab-df-convert:hover {\n",
              "      background-color: #434B5C;\n",
              "      box-shadow: 0px 1px 3px 1px rgba(0, 0, 0, 0.15);\n",
              "      filter: drop-shadow(0px 1px 2px rgba(0, 0, 0, 0.3));\n",
              "      fill: #FFFFFF;\n",
              "    }\n",
              "  </style>\n",
              "\n",
              "    <script>\n",
              "      const buttonEl =\n",
              "        document.querySelector('#df-928bb373-abae-44ad-a09e-1db4b0cb3dbf button.colab-df-convert');\n",
              "      buttonEl.style.display =\n",
              "        google.colab.kernel.accessAllowed ? 'block' : 'none';\n",
              "\n",
              "      async function convertToInteractive(key) {\n",
              "        const element = document.querySelector('#df-928bb373-abae-44ad-a09e-1db4b0cb3dbf');\n",
              "        const dataTable =\n",
              "          await google.colab.kernel.invokeFunction('convertToInteractive',\n",
              "                                                    [key], {});\n",
              "        if (!dataTable) return;\n",
              "\n",
              "        const docLinkHtml = 'Like what you see? Visit the ' +\n",
              "          '<a target=\"_blank\" href=https://colab.research.google.com/notebooks/data_table.ipynb>data table notebook</a>'\n",
              "          + ' to learn more about interactive tables.';\n",
              "        element.innerHTML = '';\n",
              "        dataTable['output_type'] = 'display_data';\n",
              "        await google.colab.output.renderOutput(dataTable, element);\n",
              "        const docLink = document.createElement('div');\n",
              "        docLink.innerHTML = docLinkHtml;\n",
              "        element.appendChild(docLink);\n",
              "      }\n",
              "    </script>\n",
              "  </div>\n",
              "\n",
              "\n",
              "    <div id=\"df-2ab3f4da-cb24-4886-b4e8-6f225f190f0d\">\n",
              "      <button class=\"colab-df-quickchart\" onclick=\"quickchart('df-2ab3f4da-cb24-4886-b4e8-6f225f190f0d')\"\n",
              "                title=\"Suggest charts\"\n",
              "                style=\"display:none;\">\n",
              "\n",
              "<svg xmlns=\"http://www.w3.org/2000/svg\" height=\"24px\"viewBox=\"0 0 24 24\"\n",
              "     width=\"24px\">\n",
              "    <g>\n",
              "        <path d=\"M19 3H5c-1.1 0-2 .9-2 2v14c0 1.1.9 2 2 2h14c1.1 0 2-.9 2-2V5c0-1.1-.9-2-2-2zM9 17H7v-7h2v7zm4 0h-2V7h2v10zm4 0h-2v-4h2v4z\"/>\n",
              "    </g>\n",
              "</svg>\n",
              "      </button>\n",
              "\n",
              "<style>\n",
              "  .colab-df-quickchart {\n",
              "      --bg-color: #E8F0FE;\n",
              "      --fill-color: #1967D2;\n",
              "      --hover-bg-color: #E2EBFA;\n",
              "      --hover-fill-color: #174EA6;\n",
              "      --disabled-fill-color: #AAA;\n",
              "      --disabled-bg-color: #DDD;\n",
              "  }\n",
              "\n",
              "  [theme=dark] .colab-df-quickchart {\n",
              "      --bg-color: #3B4455;\n",
              "      --fill-color: #D2E3FC;\n",
              "      --hover-bg-color: #434B5C;\n",
              "      --hover-fill-color: #FFFFFF;\n",
              "      --disabled-bg-color: #3B4455;\n",
              "      --disabled-fill-color: #666;\n",
              "  }\n",
              "\n",
              "  .colab-df-quickchart {\n",
              "    background-color: var(--bg-color);\n",
              "    border: none;\n",
              "    border-radius: 50%;\n",
              "    cursor: pointer;\n",
              "    display: none;\n",
              "    fill: var(--fill-color);\n",
              "    height: 32px;\n",
              "    padding: 0;\n",
              "    width: 32px;\n",
              "  }\n",
              "\n",
              "  .colab-df-quickchart:hover {\n",
              "    background-color: var(--hover-bg-color);\n",
              "    box-shadow: 0 1px 2px rgba(60, 64, 67, 0.3), 0 1px 3px 1px rgba(60, 64, 67, 0.15);\n",
              "    fill: var(--button-hover-fill-color);\n",
              "  }\n",
              "\n",
              "  .colab-df-quickchart-complete:disabled,\n",
              "  .colab-df-quickchart-complete:disabled:hover {\n",
              "    background-color: var(--disabled-bg-color);\n",
              "    fill: var(--disabled-fill-color);\n",
              "    box-shadow: none;\n",
              "  }\n",
              "\n",
              "  .colab-df-spinner {\n",
              "    border: 2px solid var(--fill-color);\n",
              "    border-color: transparent;\n",
              "    border-bottom-color: var(--fill-color);\n",
              "    animation:\n",
              "      spin 1s steps(1) infinite;\n",
              "  }\n",
              "\n",
              "  @keyframes spin {\n",
              "    0% {\n",
              "      border-color: transparent;\n",
              "      border-bottom-color: var(--fill-color);\n",
              "      border-left-color: var(--fill-color);\n",
              "    }\n",
              "    20% {\n",
              "      border-color: transparent;\n",
              "      border-left-color: var(--fill-color);\n",
              "      border-top-color: var(--fill-color);\n",
              "    }\n",
              "    30% {\n",
              "      border-color: transparent;\n",
              "      border-left-color: var(--fill-color);\n",
              "      border-top-color: var(--fill-color);\n",
              "      border-right-color: var(--fill-color);\n",
              "    }\n",
              "    40% {\n",
              "      border-color: transparent;\n",
              "      border-right-color: var(--fill-color);\n",
              "      border-top-color: var(--fill-color);\n",
              "    }\n",
              "    60% {\n",
              "      border-color: transparent;\n",
              "      border-right-color: var(--fill-color);\n",
              "    }\n",
              "    80% {\n",
              "      border-color: transparent;\n",
              "      border-right-color: var(--fill-color);\n",
              "      border-bottom-color: var(--fill-color);\n",
              "    }\n",
              "    90% {\n",
              "      border-color: transparent;\n",
              "      border-bottom-color: var(--fill-color);\n",
              "    }\n",
              "  }\n",
              "</style>\n",
              "\n",
              "      <script>\n",
              "        async function quickchart(key) {\n",
              "          const quickchartButtonEl =\n",
              "            document.querySelector('#' + key + ' button');\n",
              "          quickchartButtonEl.disabled = true;  // To prevent multiple clicks.\n",
              "          quickchartButtonEl.classList.add('colab-df-spinner');\n",
              "          try {\n",
              "            const charts = await google.colab.kernel.invokeFunction(\n",
              "                'suggestCharts', [key], {});\n",
              "          } catch (error) {\n",
              "            console.error('Error during call to suggestCharts:', error);\n",
              "          }\n",
              "          quickchartButtonEl.classList.remove('colab-df-spinner');\n",
              "          quickchartButtonEl.classList.add('colab-df-quickchart-complete');\n",
              "        }\n",
              "        (() => {\n",
              "          let quickchartButtonEl =\n",
              "            document.querySelector('#df-2ab3f4da-cb24-4886-b4e8-6f225f190f0d button');\n",
              "          quickchartButtonEl.style.display =\n",
              "            google.colab.kernel.accessAllowed ? 'block' : 'none';\n",
              "        })();\n",
              "      </script>\n",
              "    </div>\n",
              "\n",
              "  <div id=\"id_5d56ddaf-1a23-421d-8b6f-39cf813ea628\">\n",
              "    <style>\n",
              "      .colab-df-generate {\n",
              "        background-color: #E8F0FE;\n",
              "        border: none;\n",
              "        border-radius: 50%;\n",
              "        cursor: pointer;\n",
              "        display: none;\n",
              "        fill: #1967D2;\n",
              "        height: 32px;\n",
              "        padding: 0 0 0 0;\n",
              "        width: 32px;\n",
              "      }\n",
              "\n",
              "      .colab-df-generate:hover {\n",
              "        background-color: #E2EBFA;\n",
              "        box-shadow: 0px 1px 2px rgba(60, 64, 67, 0.3), 0px 1px 3px 1px rgba(60, 64, 67, 0.15);\n",
              "        fill: #174EA6;\n",
              "      }\n",
              "\n",
              "      [theme=dark] .colab-df-generate {\n",
              "        background-color: #3B4455;\n",
              "        fill: #D2E3FC;\n",
              "      }\n",
              "\n",
              "      [theme=dark] .colab-df-generate:hover {\n",
              "        background-color: #434B5C;\n",
              "        box-shadow: 0px 1px 3px 1px rgba(0, 0, 0, 0.15);\n",
              "        filter: drop-shadow(0px 1px 2px rgba(0, 0, 0, 0.3));\n",
              "        fill: #FFFFFF;\n",
              "      }\n",
              "    </style>\n",
              "    <button class=\"colab-df-generate\" onclick=\"generateWithVariable('balanced_df')\"\n",
              "            title=\"Generate code using this dataframe.\"\n",
              "            style=\"display:none;\">\n",
              "\n",
              "  <svg xmlns=\"http://www.w3.org/2000/svg\" height=\"24px\"viewBox=\"0 0 24 24\"\n",
              "       width=\"24px\">\n",
              "    <path d=\"M7,19H8.4L18.45,9,17,7.55,7,17.6ZM5,21V16.75L18.45,3.32a2,2,0,0,1,2.83,0l1.4,1.43a1.91,1.91,0,0,1,.58,1.4,1.91,1.91,0,0,1-.58,1.4L9.25,21ZM18.45,9,17,7.55Zm-12,3A5.31,5.31,0,0,0,4.9,8.1,5.31,5.31,0,0,0,1,6.5,5.31,5.31,0,0,0,4.9,4.9,5.31,5.31,0,0,0,6.5,1,5.31,5.31,0,0,0,8.1,4.9,5.31,5.31,0,0,0,12,6.5,5.46,5.46,0,0,0,6.5,12Z\"/>\n",
              "  </svg>\n",
              "    </button>\n",
              "    <script>\n",
              "      (() => {\n",
              "      const buttonEl =\n",
              "        document.querySelector('#id_5d56ddaf-1a23-421d-8b6f-39cf813ea628 button.colab-df-generate');\n",
              "      buttonEl.style.display =\n",
              "        google.colab.kernel.accessAllowed ? 'block' : 'none';\n",
              "\n",
              "      buttonEl.onclick = () => {\n",
              "        google.colab.notebook.generateWithVariable('balanced_df');\n",
              "      }\n",
              "      })();\n",
              "    </script>\n",
              "  </div>\n",
              "\n",
              "    </div>\n",
              "  </div>\n"
            ],
            "application/vnd.google.colaboratory.intrinsic+json": {
              "type": "dataframe",
              "variable_name": "balanced_df",
              "summary": "{\n  \"name\": \"balanced_df\",\n  \"rows\": 1570,\n  \"fields\": [\n    {\n      \"column\": \"fault\",\n      \"properties\": {\n        \"dtype\": \"category\",\n        \"num_unique_values\": 8,\n        \"samples\": [\n          \"F2_IR009\",\n          \"F6_OR013\",\n          \"F1_IR007\"\n        ],\n        \"semantic_type\": \"\",\n        \"description\": \"\"\n      }\n    },\n    {\n      \"column\": \"window\",\n      \"properties\": {\n        \"dtype\": \"number\",\n        \"std\": 81,\n        \"min\": 1,\n        \"max\": 308,\n        \"num_unique_values\": 271,\n        \"samples\": [\n          159,\n          148,\n          93\n        ],\n        \"semantic_type\": \"\",\n        \"description\": \"\"\n      }\n    },\n    {\n      \"column\": \"mean\",\n      \"properties\": {\n        \"dtype\": \"number\",\n        \"std\": 0.03249777634871469,\n        \"min\": 0.0527688602073714,\n        \"max\": 0.2681180136817815,\n        \"num_unique_values\": 1568,\n        \"samples\": [\n          0.1336531066447196,\n          0.1604926950747405,\n          0.1623589573712839\n        ],\n        \"semantic_type\": \"\",\n        \"description\": \"\"\n      }\n    },\n    {\n      \"column\": \"std\",\n      \"properties\": {\n        \"dtype\": \"number\",\n        \"std\": 0.23785981282541746,\n        \"min\": 0.7216670456626688,\n        \"max\": 1.6334574912235549,\n        \"num_unique_values\": 1568,\n        \"samples\": [\n          1.110257322569435,\n          0.8043979433220063,\n          0.8902697122001547\n        ],\n        \"semantic_type\": \"\",\n        \"description\": \"\"\n      }\n    },\n    {\n      \"column\": \"rms\",\n      \"properties\": {\n        \"dtype\": \"number\",\n        \"std\": 0.23559273994152904,\n        \"min\": 0.7387430023742414,\n        \"max\": 1.6420509568597468,\n        \"num_unique_values\": 1568,\n        \"samples\": [\n          1.1182729877962874,\n          0.8202523735979234,\n          0.9049533642678153\n        ],\n        \"semantic_type\": \"\",\n        \"description\": \"\"\n      }\n    },\n    {\n      \"column\": \"max\",\n      \"properties\": {\n        \"dtype\": \"number\",\n        \"std\": 0.38937894034284254,\n        \"min\": 1.6322505735263912,\n        \"max\": 3.863258961216564,\n        \"num_unique_values\": 1428,\n        \"samples\": [\n          3.285541676502242,\n          2.6118426272911472,\n          2.605679091358931\n        ],\n        \"semantic_type\": \"\",\n        \"description\": \"\"\n      }\n    },\n    {\n      \"column\": \"min\",\n      \"properties\": {\n        \"dtype\": \"number\",\n        \"std\": 0.45672932399770616,\n        \"min\": -3.853697764013357,\n        \"max\": -1.4072991383521574,\n        \"num_unique_values\": 1438,\n        \"samples\": [\n          -2.932496944748366,\n          -2.106080305860684,\n          -1.881169081087855\n        ],\n        \"semantic_type\": \"\",\n        \"description\": \"\"\n      }\n    },\n    {\n      \"column\": \"skewness\",\n      \"properties\": {\n        \"dtype\": \"number\",\n        \"std\": 0.08964632878625878,\n        \"min\": -0.2388442545280817,\n        \"max\": 0.3357764481545144,\n        \"num_unique_values\": 1568,\n        \"samples\": [\n          0.0140509095412469,\n          -0.069311232235281,\n          0.0544680453644101\n        ],\n        \"semantic_type\": \"\",\n        \"description\": \"\"\n      }\n    },\n    {\n      \"column\": \"kurtosis\",\n      \"properties\": {\n        \"dtype\": \"number\",\n        \"std\": 0.20886341389394172,\n        \"min\": -1.39601844545584,\n        \"max\": -0.3644815228935929,\n        \"num_unique_values\": 1568,\n        \"samples\": [\n          -1.1376104700810654,\n          -0.8499830672886022,\n          -0.765705244542243\n        ],\n        \"semantic_type\": \"\",\n        \"description\": \"\"\n      }\n    },\n    {\n      \"column\": \"form_factor\",\n      \"properties\": {\n        \"dtype\": \"number\",\n        \"std\": 0.028352964937190986,\n        \"min\": 1.106047712057335,\n        \"max\": 1.2418466667915666,\n        \"num_unique_values\": 1568,\n        \"samples\": [\n          1.1528061921345414,\n          1.1838298415723434,\n          1.194370708294692\n        ],\n        \"semantic_type\": \"\",\n        \"description\": \"\"\n      }\n    },\n    {\n      \"column\": \"crest_factor\",\n      \"properties\": {\n        \"dtype\": \"number\",\n        \"std\": 0.28580359630552654,\n        \"min\": 1.7943085520023307,\n        \"max\": 3.4280198888180218,\n        \"num_unique_values\": 1568,\n        \"samples\": [\n          2.2692137205828025,\n          2.2095569485856466,\n          2.627626214750879\n        ],\n        \"semantic_type\": \"\",\n        \"description\": \"\"\n      }\n    }\n  ]\n}"
            }
          },
          "metadata": {},
          "execution_count": 17
        }
      ]
    },
    {
      "cell_type": "code",
      "source": [
        "import pandas as pd\n",
        "from sklearn.preprocessing import StandardScaler\n",
        "from sklearn.manifold import TSNE\n",
        "import matplotlib.pyplot as plt\n",
        "\n",
        "\n",
        "# Sort the dataset by the 'Fault' column\n",
        "balanced_df = balanced_df.sort_values(by='fault')\n",
        "\n",
        "# Separate features and target variable\n",
        "X = balanced_df.drop(columns=['fault'])  # Replace 'Fault' with actual target column name\n",
        "y = balanced_df['fault']\n",
        "\n",
        "# Normalize the feature columns using StandardScaler\n",
        "scaler = StandardScaler()\n",
        "X_normalized = pd.DataFrame(scaler.fit_transform(X), columns=X.columns)\n",
        "\n",
        "# Concatenate the normalized features with the target variable\n",
        "STAT_Motor_Fault_dataset_normalized = pd.concat([X_normalized, y.reset_index(drop=True)], axis=1)\n",
        "\n",
        "# Sort the normalized dataset by 'Fault' column\n",
        "STAT_Motor_Fault_dataset_normalized = STAT_Motor_Fault_dataset_normalized.sort_values(by='fault')\n",
        "\n",
        "# Apply t-SNE for dimensionality reduction\n",
        "tsne = TSNE(n_components=2, random_state=42)  # 2D t-SNE\n",
        "X_tsne = tsne.fit_transform(X_normalized)\n",
        "\n",
        "# Create a DataFrame for t-SNE results\n",
        "tSNE_representation = pd.DataFrame(X_tsne, columns=['t-SNE 1', 't-SNE 2'])\n",
        "tSNE_representation['fault'] = y.reset_index(drop=True)\n",
        "\n",
        "# Display the t-SNE representation\n",
        "print(tSNE_representation.head())\n",
        "\n",
        "# Optional: Visualization of t-SNE representation\n",
        "plt.figure(figsize=(8, 6))\n",
        "for label in tSNE_representation['fault'].unique():\n",
        "    subset = tSNE_representation[tSNE_representation['fault'] == label]\n",
        "    plt.scatter(subset['t-SNE 1'], subset['t-SNE 2'], label=f'fault {label}', alpha=0.7)\n",
        "\n",
        "plt.title('t-SNE Representation of Motor Fault Dataset')\n",
        "plt.xlabel('t-SNE 1')\n",
        "plt.ylabel('t-SNE 2')\n",
        "plt.legend()\n",
        "plt.show()\n"
      ],
      "metadata": {
        "id": "tV7aspjE3R4f",
        "colab": {
          "base_uri": "https://localhost:8080/",
          "height": 668
        },
        "outputId": "424048da-5b94-41f7-c5c4-3c51c67e6394"
      },
      "id": "tV7aspjE3R4f",
      "execution_count": 18,
      "outputs": [
        {
          "output_type": "stream",
          "name": "stdout",
          "text": [
            "     t-SNE 1    t-SNE 2     fault\n",
            "0  48.605164   2.177265  F1_IR007\n",
            "1  42.824738   4.364645  F1_IR007\n",
            "2  38.683605  12.808545  F1_IR007\n",
            "3  51.584309   7.370746  F1_IR007\n",
            "4  38.387074   9.309216  F1_IR007\n"
          ]
        },
        {
          "output_type": "display_data",
          "data": {
            "text/plain": [
              "<Figure size 800x600 with 1 Axes>"
            ],
            "image/png": "[encoded data removed]"
          },
          "metadata": {}
        }
      ]
    },
    {
      "cell_type": "code",
      "source": [
        "tSNE_representation"
      ],
      "metadata": {
        "id": "QMwOLwssDgHU",
        "colab": {
          "base_uri": "https://localhost:8080/",
          "height": 424
        },
        "outputId": "98ac6591-01cf-4f50-cbda-83ccb3856767"
      },
      "id": "QMwOLwssDgHU",
      "execution_count": 19,
      "outputs": [
        {
          "output_type": "execute_result",
          "data": {
            "text/plain": [
              "        t-SNE 1    t-SNE 2      fault\n",
              "0     48.605164   2.177265   F1_IR007\n",
              "1     42.824738   4.364645   F1_IR007\n",
              "2     38.683605  12.808545   F1_IR007\n",
              "3     51.584309   7.370746   F1_IR007\n",
              "4     38.387074   9.309216   F1_IR007\n",
              "...         ...        ...        ...\n",
              "1565  27.041691 -36.773129  F8_Normal\n",
              "1566  30.854809 -24.763472  F8_Normal\n",
              "1567  36.644379 -28.754904  F8_Normal\n",
              "1568  22.571480 -35.667698  F8_Normal\n",
              "1569  30.531500 -30.532223  F8_Normal\n",
              "\n",
              "[1570 rows x 3 columns]"
            ],
            "text/html": [
              "\n",
              "  <div id=\"df-3d8061f3-575d-401d-9424-fb4c1bcf2318\" class=\"colab-df-container\">\n",
              "    <div>\n",
              "<style scoped>\n",
              "    .dataframe tbody tr th:only-of-type {\n",
              "        vertical-align: middle;\n",
              "    }\n",
              "\n",
              "    .dataframe tbody tr th {\n",
              "        vertical-align: top;\n",
              "    }\n",
              "\n",
              "    .dataframe thead th {\n",
              "        text-align: right;\n",
              "    }\n",
              "</style>\n",
              "<table border=\"1\" class=\"dataframe\">\n",
              "  <thead>\n",
              "    <tr style=\"text-align: right;\">\n",
              "      <th></th>\n",
              "      <th>t-SNE 1</th>\n",
              "      <th>t-SNE 2</th>\n",
              "      <th>fault</th>\n",
              "    </tr>\n",
              "  </thead>\n",
              "  <tbody>\n",
              "    <tr>\n",
              "      <th>0</th>\n",
              "      <td>48.605164</td>\n",
              "      <td>2.177265</td>\n",
              "      <td>F1_IR007</td>\n",
              "    </tr>\n",
              "    <tr>\n",
              "      <th>1</th>\n",
              "      <td>42.824738</td>\n",
              "      <td>4.364645</td>\n",
              "      <td>F1_IR007</td>\n",
              "    </tr>\n",
              "    <tr>\n",
              "      <th>2</th>\n",
              "      <td>38.683605</td>\n",
              "      <td>12.808545</td>\n",
              "      <td>F1_IR007</td>\n",
              "    </tr>\n",
              "    <tr>\n",
              "      <th>3</th>\n",
              "      <td>51.584309</td>\n",
              "      <td>7.370746</td>\n",
              "      <td>F1_IR007</td>\n",
              "    </tr>\n",
              "    <tr>\n",
              "      <th>4</th>\n",
              "      <td>38.387074</td>\n",
              "      <td>9.309216</td>\n",
              "      <td>F1_IR007</td>\n",
              "    </tr>\n",
              "    <tr>\n",
              "      <th>...</th>\n",
              "      <td>...</td>\n",
              "      <td>...</td>\n",
              "      <td>...</td>\n",
              "    </tr>\n",
              "    <tr>\n",
              "      <th>1565</th>\n",
              "      <td>27.041691</td>\n",
              "      <td>-36.773129</td>\n",
              "      <td>F8_Normal</td>\n",
              "    </tr>\n",
              "    <tr>\n",
              "      <th>1566</th>\n",
              "      <td>30.854809</td>\n",
              "      <td>-24.763472</td>\n",
              "      <td>F8_Normal</td>\n",
              "    </tr>\n",
              "    <tr>\n",
              "      <th>1567</th>\n",
              "      <td>36.644379</td>\n",
              "      <td>-28.754904</td>\n",
              "      <td>F8_Normal</td>\n",
              "    </tr>\n",
              "    <tr>\n",
              "      <th>1568</th>\n",
              "      <td>22.571480</td>\n",
              "      <td>-35.667698</td>\n",
              "      <td>F8_Normal</td>\n",
              "    </tr>\n",
              "    <tr>\n",
              "      <th>1569</th>\n",
              "      <td>30.531500</td>\n",
              "      <td>-30.532223</td>\n",
              "      <td>F8_Normal</td>\n",
              "    </tr>\n",
              "  </tbody>\n",
              "</table>\n",
              "<p>1570 rows × 3 columns</p>\n",
              "</div>\n",
              "    <div class=\"colab-df-buttons\">\n",
              "\n",
              "  <div class=\"colab-df-container\">\n",
              "    <button class=\"colab-df-convert\" onclick=\"convertToInteractive('df-3d8061f3-575d-401d-9424-fb4c1bcf2318')\"\n",
              "            title=\"Convert this dataframe to an interactive table.\"\n",
              "            style=\"display:none;\">\n",
              "\n",
              "  <svg xmlns=\"http://www.w3.org/2000/svg\" height=\"24px\" viewBox=\"0 -960 960 960\">\n",
              "    <path d=\"M120-120v-720h720v720H120Zm60-500h600v-160H180v160Zm220 220h160v-160H400v160Zm0 220h160v-160H400v160ZM180-400h160v-160H180v160Zm440 0h160v-160H620v160ZM180-180h160v-160H180v160Zm440 0h160v-160H620v160Z\"/>\n",
              "  </svg>\n",
              "    </button>\n",
              "\n",
              "  <style>\n",
              "    .colab-df-container {\n",
              "      display:flex;\n",
              "      gap: 12px;\n",
              "    }\n",
              "\n",
              "    .colab-df-convert {\n",
              "      background-color: #E8F0FE;\n",
              "      border: none;\n",
              "      border-radius: 50%;\n",
              "      cursor: pointer;\n",
              "      display: none;\n",
              "      fill: #1967D2;\n",
              "      height: 32px;\n",
              "      padding: 0 0 0 0;\n",
              "      width: 32px;\n",
              "    }\n",
              "\n",
              "    .colab-df-convert:hover {\n",
              "      background-color: #E2EBFA;\n",
              "      box-shadow: 0px 1px 2px rgba(60, 64, 67, 0.3), 0px 1px 3px 1px rgba(60, 64, 67, 0.15);\n",
              "      fill: #174EA6;\n",
              "    }\n",
              "\n",
              "    .colab-df-buttons div {\n",
              "      margin-bottom: 4px;\n",
              "    }\n",
              "\n",
              "    [theme=dark] .colab-df-convert {\n",
              "      background-color: #3B4455;\n",
              "      fill: #D2E3FC;\n",
              "    }\n",
              "\n",
              "    [theme=dark] .colab-df-convert:hover {\n",
              "      background-color: #434B5C;\n",
              "      box-shadow: 0px 1px 3px 1px rgba(0, 0, 0, 0.15);\n",
              "      filter: drop-shadow(0px 1px 2px rgba(0, 0, 0, 0.3));\n",
              "      fill: #FFFFFF;\n",
              "    }\n",
              "  </style>\n",
              "\n",
              "    <script>\n",
              "      const buttonEl =\n",
              "        document.querySelector('#df-3d8061f3-575d-401d-9424-fb4c1bcf2318 button.colab-df-convert');\n",
              "      buttonEl.style.display =\n",
              "        google.colab.kernel.accessAllowed ? 'block' : 'none';\n",
              "\n",
              "      async function convertToInteractive(key) {\n",
              "        const element = document.querySelector('#df-3d8061f3-575d-401d-9424-fb4c1bcf2318');\n",
              "        const dataTable =\n",
              "          await google.colab.kernel.invokeFunction('convertToInteractive',\n",
              "                                                    [key], {});\n",
              "        if (!dataTable) return;\n",
              "\n",
              "        const docLinkHtml = 'Like what you see? Visit the ' +\n",
              "          '<a target=\"_blank\" href=https://colab.research.google.com/notebooks/data_table.ipynb>data table notebook</a>'\n",
              "          + ' to learn more about interactive tables.';\n",
              "        element.innerHTML = '';\n",
              "        dataTable['output_type'] = 'display_data';\n",
              "        await google.colab.output.renderOutput(dataTable, element);\n",
              "        const docLink = document.createElement('div');\n",
              "        docLink.innerHTML = docLinkHtml;\n",
              "        element.appendChild(docLink);\n",
              "      }\n",
              "    </script>\n",
              "  </div>\n",
              "\n",
              "\n",
              "    <div id=\"df-f53da8e7-54ba-446a-971d-975d1040d34a\">\n",
              "      <button class=\"colab-df-quickchart\" onclick=\"quickchart('df-f53da8e7-54ba-446a-971d-975d1040d34a')\"\n",
              "                title=\"Suggest charts\"\n",
              "                style=\"display:none;\">\n",
              "\n",
              "<svg xmlns=\"http://www.w3.org/2000/svg\" height=\"24px\"viewBox=\"0 0 24 24\"\n",
              "     width=\"24px\">\n",
              "    <g>\n",
              "        <path d=\"M19 3H5c-1.1 0-2 .9-2 2v14c0 1.1.9 2 2 2h14c1.1 0 2-.9 2-2V5c0-1.1-.9-2-2-2zM9 17H7v-7h2v7zm4 0h-2V7h2v10zm4 0h-2v-4h2v4z\"/>\n",
              "    </g>\n",
              "</svg>\n",
              "      </button>\n",
              "\n",
              "<style>\n",
              "  .colab-df-quickchart {\n",
              "      --bg-color: #E8F0FE;\n",
              "      --fill-color: #1967D2;\n",
              "      --hover-bg-color: #E2EBFA;\n",
              "      --hover-fill-color: #174EA6;\n",
              "      --disabled-fill-color: #AAA;\n",
              "      --disabled-bg-color: #DDD;\n",
              "  }\n",
              "\n",
              "  [theme=dark] .colab-df-quickchart {\n",
              "      --bg-color: #3B4455;\n",
              "      --fill-color: #D2E3FC;\n",
              "      --hover-bg-color: #434B5C;\n",
              "      --hover-fill-color: #FFFFFF;\n",
              "      --disabled-bg-color: #3B4455;\n",
              "      --disabled-fill-color: #666;\n",
              "  }\n",
              "\n",
              "  .colab-df-quickchart {\n",
              "    background-color: var(--bg-color);\n",
              "    border: none;\n",
              "    border-radius: 50%;\n",
              "    cursor: pointer;\n",
              "    display: none;\n",
              "    fill: var(--fill-color);\n",
              "    height: 32px;\n",
              "    padding: 0;\n",
              "    width: 32px;\n",
              "  }\n",
              "\n",
              "  .colab-df-quickchart:hover {\n",
              "    background-color: var(--hover-bg-color);\n",
              "    box-shadow: 0 1px 2px rgba(60, 64, 67, 0.3), 0 1px 3px 1px rgba(60, 64, 67, 0.15);\n",
              "    fill: var(--button-hover-fill-color);\n",
              "  }\n",
              "\n",
              "  .colab-df-quickchart-complete:disabled,\n",
              "  .colab-df-quickchart-complete:disabled:hover {\n",
              "    background-color: var(--disabled-bg-color);\n",
              "    fill: var(--disabled-fill-color);\n",
              "    box-shadow: none;\n",
              "  }\n",
              "\n",
              "  .colab-df-spinner {\n",
              "    border: 2px solid var(--fill-color);\n",
              "    border-color: transparent;\n",
              "    border-bottom-color: var(--fill-color);\n",
              "    animation:\n",
              "      spin 1s steps(1) infinite;\n",
              "  }\n",
              "\n",
              "  @keyframes spin {\n",
              "    0% {\n",
              "      border-color: transparent;\n",
              "      border-bottom-color: var(--fill-color);\n",
              "      border-left-color: var(--fill-color);\n",
              "    }\n",
              "    20% {\n",
              "      border-color: transparent;\n",
              "      border-left-color: var(--fill-color);\n",
              "      border-top-color: var(--fill-color);\n",
              "    }\n",
              "    30% {\n",
              "      border-color: transparent;\n",
              "      border-left-color: var(--fill-color);\n",
              "      border-top-color: var(--fill-color);\n",
              "      border-right-color: var(--fill-color);\n",
              "    }\n",
              "    40% {\n",
              "      border-color: transparent;\n",
              "      border-right-color: var(--fill-color);\n",
              "      border-top-color: var(--fill-color);\n",
              "    }\n",
              "    60% {\n",
              "      border-color: transparent;\n",
              "      border-right-color: var(--fill-color);\n",
              "    }\n",
              "    80% {\n",
              "      border-color: transparent;\n",
              "      border-right-color: var(--fill-color);\n",
              "      border-bottom-color: var(--fill-color);\n",
              "    }\n",
              "    90% {\n",
              "      border-color: transparent;\n",
              "      border-bottom-color: var(--fill-color);\n",
              "    }\n",
              "  }\n",
              "</style>\n",
              "\n",
              "      <script>\n",
              "        async function quickchart(key) {\n",
              "          const quickchartButtonEl =\n",
              "            document.querySelector('#' + key + ' button');\n",
              "          quickchartButtonEl.disabled = true;  // To prevent multiple clicks.\n",
              "          quickchartButtonEl.classList.add('colab-df-spinner');\n",
              "          try {\n",
              "            const charts = await google.colab.kernel.invokeFunction(\n",
              "                'suggestCharts', [key], {});\n",
              "          } catch (error) {\n",
              "            console.error('Error during call to suggestCharts:', error);\n",
              "          }\n",
              "          quickchartButtonEl.classList.remove('colab-df-spinner');\n",
              "          quickchartButtonEl.classList.add('colab-df-quickchart-complete');\n",
              "        }\n",
              "        (() => {\n",
              "          let quickchartButtonEl =\n",
              "            document.querySelector('#df-f53da8e7-54ba-446a-971d-975d1040d34a button');\n",
              "          quickchartButtonEl.style.display =\n",
              "            google.colab.kernel.accessAllowed ? 'block' : 'none';\n",
              "        })();\n",
              "      </script>\n",
              "    </div>\n",
              "\n",
              "  <div id=\"id_c3511203-06f1-400e-ad50-6561af75404e\">\n",
              "    <style>\n",
              "      .colab-df-generate {\n",
              "        background-color: #E8F0FE;\n",
              "        border: none;\n",
              "        border-radius: 50%;\n",
              "        cursor: pointer;\n",
              "        display: none;\n",
              "        fill: #1967D2;\n",
              "        height: 32px;\n",
              "        padding: 0 0 0 0;\n",
              "        width: 32px;\n",
              "      }\n",
              "\n",
              "      .colab-df-generate:hover {\n",
              "        background-color: #E2EBFA;\n",
              "        box-shadow: 0px 1px 2px rgba(60, 64, 67, 0.3), 0px 1px 3px 1px rgba(60, 64, 67, 0.15);\n",
              "        fill: #174EA6;\n",
              "      }\n",
              "\n",
              "      [theme=dark] .colab-df-generate {\n",
              "        background-color: #3B4455;\n",
              "        fill: #D2E3FC;\n",
              "      }\n",
              "\n",
              "      [theme=dark] .colab-df-generate:hover {\n",
              "        background-color: #434B5C;\n",
              "        box-shadow: 0px 1px 3px 1px rgba(0, 0, 0, 0.15);\n",
              "        filter: drop-shadow(0px 1px 2px rgba(0, 0, 0, 0.3));\n",
              "        fill: #FFFFFF;\n",
              "      }\n",
              "    </style>\n",
              "    <button class=\"colab-df-generate\" onclick=\"generateWithVariable('tSNE_representation')\"\n",
              "            title=\"Generate code using this dataframe.\"\n",
              "            style=\"display:none;\">\n",
              "\n",
              "  <svg xmlns=\"http://www.w3.org/2000/svg\" height=\"24px\"viewBox=\"0 0 24 24\"\n",
              "       width=\"24px\">\n",
              "    <path d=\"M7,19H8.4L18.45,9,17,7.55,7,17.6ZM5,21V16.75L18.45,3.32a2,2,0,0,1,2.83,0l1.4,1.43a1.91,1.91,0,0,1,.58,1.4,1.91,1.91,0,0,1-.58,1.4L9.25,21ZM18.45,9,17,7.55Zm-12,3A5.31,5.31,0,0,0,4.9,8.1,5.31,5.31,0,0,0,1,6.5,5.31,5.31,0,0,0,4.9,4.9,5.31,5.31,0,0,0,6.5,1,5.31,5.31,0,0,0,8.1,4.9,5.31,5.31,0,0,0,12,6.5,5.46,5.46,0,0,0,6.5,12Z\"/>\n",
              "  </svg>\n",
              "    </button>\n",
              "    <script>\n",
              "      (() => {\n",
              "      const buttonEl =\n",
              "        document.querySelector('#id_c3511203-06f1-400e-ad50-6561af75404e button.colab-df-generate');\n",
              "      buttonEl.style.display =\n",
              "        google.colab.kernel.accessAllowed ? 'block' : 'none';\n",
              "\n",
              "      buttonEl.onclick = () => {\n",
              "        google.colab.notebook.generateWithVariable('tSNE_representation');\n",
              "      }\n",
              "      })();\n",
              "    </script>\n",
              "  </div>\n",
              "\n",
              "    </div>\n",
              "  </div>\n"
            ],
            "application/vnd.google.colaboratory.intrinsic+json": {
              "type": "dataframe",
              "variable_name": "tSNE_representation",
              "summary": "{\n  \"name\": \"tSNE_representation\",\n  \"rows\": 1570,\n  \"fields\": [\n    {\n      \"column\": \"t-SNE 1\",\n      \"properties\": {\n        \"dtype\": \"float32\",\n        \"num_unique_values\": 1569,\n        \"samples\": [\n          26.858720779418945,\n          -6.71564245223999,\n          -27.293109893798828\n        ],\n        \"semantic_type\": \"\",\n        \"description\": \"\"\n      }\n    },\n    {\n      \"column\": \"t-SNE 2\",\n      \"properties\": {\n        \"dtype\": \"float32\",\n        \"num_unique_values\": 1569,\n        \"samples\": [\n          -31.29151725769043,\n          -14.30132007598877,\n          -16.440502166748047\n        ],\n        \"semantic_type\": \"\",\n        \"description\": \"\"\n      }\n    },\n    {\n      \"column\": \"fault\",\n      \"properties\": {\n        \"dtype\": \"category\",\n        \"num_unique_values\": 8,\n        \"samples\": [\n          \"F2_IR009\",\n          \"F6_OR013\",\n          \"F1_IR007\"\n        ],\n        \"semantic_type\": \"\",\n        \"description\": \"\"\n      }\n    }\n  ]\n}"
            }
          },
          "metadata": {},
          "execution_count": 19
        }
      ]
    },
    {
      "cell_type": "code",
      "source": [
        "tSNE_representation=tSNE_representation.drop(columns=['fault'])\n",
        "tSNE_representation"
      ],
      "metadata": {
        "id": "Pybzwduy8nhv",
        "colab": {
          "base_uri": "https://localhost:8080/",
          "height": 424
        },
        "outputId": "eb1d0bc6-4a2e-44ec-cce8-e85df3202356"
      },
      "id": "Pybzwduy8nhv",
      "execution_count": 20,
      "outputs": [
        {
          "output_type": "execute_result",
          "data": {
            "text/plain": [
              "        t-SNE 1    t-SNE 2\n",
              "0     48.605164   2.177265\n",
              "1     42.824738   4.364645\n",
              "2     38.683605  12.808545\n",
              "3     51.584309   7.370746\n",
              "4     38.387074   9.309216\n",
              "...         ...        ...\n",
              "1565  27.041691 -36.773129\n",
              "1566  30.854809 -24.763472\n",
              "1567  36.644379 -28.754904\n",
              "1568  22.571480 -35.667698\n",
              "1569  30.531500 -30.532223\n",
              "\n",
              "[1570 rows x 2 columns]"
            ],
            "text/html": [
              "\n",
              "  <div id=\"df-b4cbd1df-7a2b-411e-9ac1-f3ab758d9899\" class=\"colab-df-container\">\n",
              "    <div>\n",
              "<style scoped>\n",
              "    .dataframe tbody tr th:only-of-type {\n",
              "        vertical-align: middle;\n",
              "    }\n",
              "\n",
              "    .dataframe tbody tr th {\n",
              "        vertical-align: top;\n",
              "    }\n",
              "\n",
              "    .dataframe thead th {\n",
              "        text-align: right;\n",
              "    }\n",
              "</style>\n",
              "<table border=\"1\" class=\"dataframe\">\n",
              "  <thead>\n",
              "    <tr style=\"text-align: right;\">\n",
              "      <th></th>\n",
              "      <th>t-SNE 1</th>\n",
              "      <th>t-SNE 2</th>\n",
              "    </tr>\n",
              "  </thead>\n",
              "  <tbody>\n",
              "    <tr>\n",
              "      <th>0</th>\n",
              "      <td>48.605164</td>\n",
              "      <td>2.177265</td>\n",
              "    </tr>\n",
              "    <tr>\n",
              "      <th>1</th>\n",
              "      <td>42.824738</td>\n",
              "      <td>4.364645</td>\n",
              "    </tr>\n",
              "    <tr>\n",
              "      <th>2</th>\n",
              "      <td>38.683605</td>\n",
              "      <td>12.808545</td>\n",
              "    </tr>\n",
              "    <tr>\n",
              "      <th>3</th>\n",
              "      <td>51.584309</td>\n",
              "      <td>7.370746</td>\n",
              "    </tr>\n",
              "    <tr>\n",
              "      <th>4</th>\n",
              "      <td>38.387074</td>\n",
              "      <td>9.309216</td>\n",
              "    </tr>\n",
              "    <tr>\n",
              "      <th>...</th>\n",
              "      <td>...</td>\n",
              "      <td>...</td>\n",
              "    </tr>\n",
              "    <tr>\n",
              "      <th>1565</th>\n",
              "      <td>27.041691</td>\n",
              "      <td>-36.773129</td>\n",
              "    </tr>\n",
              "    <tr>\n",
              "      <th>1566</th>\n",
              "      <td>30.854809</td>\n",
              "      <td>-24.763472</td>\n",
              "    </tr>\n",
              "    <tr>\n",
              "      <th>1567</th>\n",
              "      <td>36.644379</td>\n",
              "      <td>-28.754904</td>\n",
              "    </tr>\n",
              "    <tr>\n",
              "      <th>1568</th>\n",
              "      <td>22.571480</td>\n",
              "      <td>-35.667698</td>\n",
              "    </tr>\n",
              "    <tr>\n",
              "      <th>1569</th>\n",
              "      <td>30.531500</td>\n",
              "      <td>-30.532223</td>\n",
              "    </tr>\n",
              "  </tbody>\n",
              "</table>\n",
              "<p>1570 rows × 2 columns</p>\n",
              "</div>\n",
              "    <div class=\"colab-df-buttons\">\n",
              "\n",
              "  <div class=\"colab-df-container\">\n",
              "    <button class=\"colab-df-convert\" onclick=\"convertToInteractive('df-b4cbd1df-7a2b-411e-9ac1-f3ab758d9899')\"\n",
              "            title=\"Convert this dataframe to an interactive table.\"\n",
              "            style=\"display:none;\">\n",
              "\n",
              "  <svg xmlns=\"http://www.w3.org/2000/svg\" height=\"24px\" viewBox=\"0 -960 960 960\">\n",
              "    <path d=\"M120-120v-720h720v720H120Zm60-500h600v-160H180v160Zm220 220h160v-160H400v160Zm0 220h160v-160H400v160ZM180-400h160v-160H180v160Zm440 0h160v-160H620v160ZM180-180h160v-160H180v160Zm440 0h160v-160H620v160Z\"/>\n",
              "  </svg>\n",
              "    </button>\n",
              "\n",
              "  <style>\n",
              "    .colab-df-container {\n",
              "      display:flex;\n",
              "      gap: 12px;\n",
              "    }\n",
              "\n",
              "    .colab-df-convert {\n",
              "      background-color: #E8F0FE;\n",
              "      border: none;\n",
              "      border-radius: 50%;\n",
              "      cursor: pointer;\n",
              "      display: none;\n",
              "      fill: #1967D2;\n",
              "      height: 32px;\n",
              "      padding: 0 0 0 0;\n",
              "      width: 32px;\n",
              "    }\n",
              "\n",
              "    .colab-df-convert:hover {\n",
              "      background-color: #E2EBFA;\n",
              "      box-shadow: 0px 1px 2px rgba(60, 64, 67, 0.3), 0px 1px 3px 1px rgba(60, 64, 67, 0.15);\n",
              "      fill: #174EA6;\n",
              "    }\n",
              "\n",
              "    .colab-df-buttons div {\n",
              "      margin-bottom: 4px;\n",
              "    }\n",
              "\n",
              "    [theme=dark] .colab-df-convert {\n",
              "      background-color: #3B4455;\n",
              "      fill: #D2E3FC;\n",
              "    }\n",
              "\n",
              "    [theme=dark] .colab-df-convert:hover {\n",
              "      background-color: #434B5C;\n",
              "      box-shadow: 0px 1px 3px 1px rgba(0, 0, 0, 0.15);\n",
              "      filter: drop-shadow(0px 1px 2px rgba(0, 0, 0, 0.3));\n",
              "      fill: #FFFFFF;\n",
              "    }\n",
              "  </style>\n",
              "\n",
              "    <script>\n",
              "      const buttonEl =\n",
              "        document.querySelector('#df-b4cbd1df-7a2b-411e-9ac1-f3ab758d9899 button.colab-df-convert');\n",
              "      buttonEl.style.display =\n",
              "        google.colab.kernel.accessAllowed ? 'block' : 'none';\n",
              "\n",
              "      async function convertToInteractive(key) {\n",
              "        const element = document.querySelector('#df-b4cbd1df-7a2b-411e-9ac1-f3ab758d9899');\n",
              "        const dataTable =\n",
              "          await google.colab.kernel.invokeFunction('convertToInteractive',\n",
              "                                                    [key], {});\n",
              "        if (!dataTable) return;\n",
              "\n",
              "        const docLinkHtml = 'Like what you see? Visit the ' +\n",
              "          '<a target=\"_blank\" href=https://colab.research.google.com/notebooks/data_table.ipynb>data table notebook</a>'\n",
              "          + ' to learn more about interactive tables.';\n",
              "        element.innerHTML = '';\n",
              "        dataTable['output_type'] = 'display_data';\n",
              "        await google.colab.output.renderOutput(dataTable, element);\n",
              "        const docLink = document.createElement('div');\n",
              "        docLink.innerHTML = docLinkHtml;\n",
              "        element.appendChild(docLink);\n",
              "      }\n",
              "    </script>\n",
              "  </div>\n",
              "\n",
              "\n",
              "    <div id=\"df-f2ddf612-2ce3-426a-a8fb-ad729aaa862d\">\n",
              "      <button class=\"colab-df-quickchart\" onclick=\"quickchart('df-f2ddf612-2ce3-426a-a8fb-ad729aaa862d')\"\n",
              "                title=\"Suggest charts\"\n",
              "                style=\"display:none;\">\n",
              "\n",
              "<svg xmlns=\"http://www.w3.org/2000/svg\" height=\"24px\"viewBox=\"0 0 24 24\"\n",
              "     width=\"24px\">\n",
              "    <g>\n",
              "        <path d=\"M19 3H5c-1.1 0-2 .9-2 2v14c0 1.1.9 2 2 2h14c1.1 0 2-.9 2-2V5c0-1.1-.9-2-2-2zM9 17H7v-7h2v7zm4 0h-2V7h2v10zm4 0h-2v-4h2v4z\"/>\n",
              "    </g>\n",
              "</svg>\n",
              "      </button>\n",
              "\n",
              "<style>\n",
              "  .colab-df-quickchart {\n",
              "      --bg-color: #E8F0FE;\n",
              "      --fill-color: #1967D2;\n",
              "      --hover-bg-color: #E2EBFA;\n",
              "      --hover-fill-color: #174EA6;\n",
              "      --disabled-fill-color: #AAA;\n",
              "      --disabled-bg-color: #DDD;\n",
              "  }\n",
              "\n",
              "  [theme=dark] .colab-df-quickchart {\n",
              "      --bg-color: #3B4455;\n",
              "      --fill-color: #D2E3FC;\n",
              "      --hover-bg-color: #434B5C;\n",
              "      --hover-fill-color: #FFFFFF;\n",
              "      --disabled-bg-color: #3B4455;\n",
              "      --disabled-fill-color: #666;\n",
              "  }\n",
              "\n",
              "  .colab-df-quickchart {\n",
              "    background-color: var(--bg-color);\n",
              "    border: none;\n",
              "    border-radius: 50%;\n",
              "    cursor: pointer;\n",
              "    display: none;\n",
              "    fill: var(--fill-color);\n",
              "    height: 32px;\n",
              "    padding: 0;\n",
              "    width: 32px;\n",
              "  }\n",
              "\n",
              "  .colab-df-quickchart:hover {\n",
              "    background-color: var(--hover-bg-color);\n",
              "    box-shadow: 0 1px 2px rgba(60, 64, 67, 0.3), 0 1px 3px 1px rgba(60, 64, 67, 0.15);\n",
              "    fill: var(--button-hover-fill-color);\n",
              "  }\n",
              "\n",
              "  .colab-df-quickchart-complete:disabled,\n",
              "  .colab-df-quickchart-complete:disabled:hover {\n",
              "    background-color: var(--disabled-bg-color);\n",
              "    fill: var(--disabled-fill-color);\n",
              "    box-shadow: none;\n",
              "  }\n",
              "\n",
              "  .colab-df-spinner {\n",
              "    border: 2px solid var(--fill-color);\n",
              "    border-color: transparent;\n",
              "    border-bottom-color: var(--fill-color);\n",
              "    animation:\n",
              "      spin 1s steps(1) infinite;\n",
              "  }\n",
              "\n",
              "  @keyframes spin {\n",
              "    0% {\n",
              "      border-color: transparent;\n",
              "      border-bottom-color: var(--fill-color);\n",
              "      border-left-color: var(--fill-color);\n",
              "    }\n",
              "    20% {\n",
              "      border-color: transparent;\n",
              "      border-left-color: var(--fill-color);\n",
              "      border-top-color: var(--fill-color);\n",
              "    }\n",
              "    30% {\n",
              "      border-color: transparent;\n",
              "      border-left-color: var(--fill-color);\n",
              "      border-top-color: var(--fill-color);\n",
              "      border-right-color: var(--fill-color);\n",
              "    }\n",
              "    40% {\n",
              "      border-color: transparent;\n",
              "      border-right-color: var(--fill-color);\n",
              "      border-top-color: var(--fill-color);\n",
              "    }\n",
              "    60% {\n",
              "      border-color: transparent;\n",
              "      border-right-color: var(--fill-color);\n",
              "    }\n",
              "    80% {\n",
              "      border-color: transparent;\n",
              "      border-right-color: var(--fill-color);\n",
              "      border-bottom-color: var(--fill-color);\n",
              "    }\n",
              "    90% {\n",
              "      border-color: transparent;\n",
              "      border-bottom-color: var(--fill-color);\n",
              "    }\n",
              "  }\n",
              "</style>\n",
              "\n",
              "      <script>\n",
              "        async function quickchart(key) {\n",
              "          const quickchartButtonEl =\n",
              "            document.querySelector('#' + key + ' button');\n",
              "          quickchartButtonEl.disabled = true;  // To prevent multiple clicks.\n",
              "          quickchartButtonEl.classList.add('colab-df-spinner');\n",
              "          try {\n",
              "            const charts = await google.colab.kernel.invokeFunction(\n",
              "                'suggestCharts', [key], {});\n",
              "          } catch (error) {\n",
              "            console.error('Error during call to suggestCharts:', error);\n",
              "          }\n",
              "          quickchartButtonEl.classList.remove('colab-df-spinner');\n",
              "          quickchartButtonEl.classList.add('colab-df-quickchart-complete');\n",
              "        }\n",
              "        (() => {\n",
              "          let quickchartButtonEl =\n",
              "            document.querySelector('#df-f2ddf612-2ce3-426a-a8fb-ad729aaa862d button');\n",
              "          quickchartButtonEl.style.display =\n",
              "            google.colab.kernel.accessAllowed ? 'block' : 'none';\n",
              "        })();\n",
              "      </script>\n",
              "    </div>\n",
              "\n",
              "  <div id=\"id_9ab7169b-b90f-49fa-816d-656cc39a1733\">\n",
              "    <style>\n",
              "      .colab-df-generate {\n",
              "        background-color: #E8F0FE;\n",
              "        border: none;\n",
              "        border-radius: 50%;\n",
              "        cursor: pointer;\n",
              "        display: none;\n",
              "        fill: #1967D2;\n",
              "        height: 32px;\n",
              "        padding: 0 0 0 0;\n",
              "        width: 32px;\n",
              "      }\n",
              "\n",
              "      .colab-df-generate:hover {\n",
              "        background-color: #E2EBFA;\n",
              "        box-shadow: 0px 1px 2px rgba(60, 64, 67, 0.3), 0px 1px 3px 1px rgba(60, 64, 67, 0.15);\n",
              "        fill: #174EA6;\n",
              "      }\n",
              "\n",
              "      [theme=dark] .colab-df-generate {\n",
              "        background-color: #3B4455;\n",
              "        fill: #D2E3FC;\n",
              "      }\n",
              "\n",
              "      [theme=dark] .colab-df-generate:hover {\n",
              "        background-color: #434B5C;\n",
              "        box-shadow: 0px 1px 3px 1px rgba(0, 0, 0, 0.15);\n",
              "        filter: drop-shadow(0px 1px 2px rgba(0, 0, 0, 0.3));\n",
              "        fill: #FFFFFF;\n",
              "      }\n",
              "    </style>\n",
              "    <button class=\"colab-df-generate\" onclick=\"generateWithVariable('tSNE_representation')\"\n",
              "            title=\"Generate code using this dataframe.\"\n",
              "            style=\"display:none;\">\n",
              "\n",
              "  <svg xmlns=\"http://www.w3.org/2000/svg\" height=\"24px\"viewBox=\"0 0 24 24\"\n",
              "       width=\"24px\">\n",
              "    <path d=\"M7,19H8.4L18.45,9,17,7.55,7,17.6ZM5,21V16.75L18.45,3.32a2,2,0,0,1,2.83,0l1.4,1.43a1.91,1.91,0,0,1,.58,1.4,1.91,1.91,0,0,1-.58,1.4L9.25,21ZM18.45,9,17,7.55Zm-12,3A5.31,5.31,0,0,0,4.9,8.1,5.31,5.31,0,0,0,1,6.5,5.31,5.31,0,0,0,4.9,4.9,5.31,5.31,0,0,0,6.5,1,5.31,5.31,0,0,0,8.1,4.9,5.31,5.31,0,0,0,12,6.5,5.46,5.46,0,0,0,6.5,12Z\"/>\n",
              "  </svg>\n",
              "    </button>\n",
              "    <script>\n",
              "      (() => {\n",
              "      const buttonEl =\n",
              "        document.querySelector('#id_9ab7169b-b90f-49fa-816d-656cc39a1733 button.colab-df-generate');\n",
              "      buttonEl.style.display =\n",
              "        google.colab.kernel.accessAllowed ? 'block' : 'none';\n",
              "\n",
              "      buttonEl.onclick = () => {\n",
              "        google.colab.notebook.generateWithVariable('tSNE_representation');\n",
              "      }\n",
              "      })();\n",
              "    </script>\n",
              "  </div>\n",
              "\n",
              "    </div>\n",
              "  </div>\n"
            ],
            "application/vnd.google.colaboratory.intrinsic+json": {
              "type": "dataframe",
              "variable_name": "tSNE_representation",
              "summary": "{\n  \"name\": \"tSNE_representation\",\n  \"rows\": 1570,\n  \"fields\": [\n    {\n      \"column\": \"t-SNE 1\",\n      \"properties\": {\n        \"dtype\": \"float32\",\n        \"num_unique_values\": 1569,\n        \"samples\": [\n          26.858720779418945,\n          -6.71564245223999,\n          -27.293109893798828\n        ],\n        \"semantic_type\": \"\",\n        \"description\": \"\"\n      }\n    },\n    {\n      \"column\": \"t-SNE 2\",\n      \"properties\": {\n        \"dtype\": \"float32\",\n        \"num_unique_values\": 1569,\n        \"samples\": [\n          -31.29151725769043,\n          -14.30132007598877,\n          -16.440502166748047\n        ],\n        \"semantic_type\": \"\",\n        \"description\": \"\"\n      }\n    }\n  ]\n}"
            }
          },
          "metadata": {},
          "execution_count": 20
        }
      ]
    },
    {
      "cell_type": "code",
      "source": [
        "tSNEdf = tSNEdf.sort_values(by='Fault')"
      ],
      "metadata": {
        "id": "_TpCIloN904b"
      },
      "id": "_TpCIloN904b",
      "execution_count": 21,
      "outputs": []
    },
    {
      "cell_type": "code",
      "source": [
        "tSNEdf"
      ],
      "metadata": {
        "id": "xq2JlAOp_N5V",
        "colab": {
          "base_uri": "https://localhost:8080/",
          "height": 457
        },
        "outputId": "067466e5-e52b-43fb-c916-bf437a59a91c"
      },
      "id": "xq2JlAOp_N5V",
      "execution_count": 22,
      "outputs": [
        {
          "output_type": "execute_result",
          "data": {
            "text/plain": [
              "      T-SNE component 1  T-SNE component 2      Fault\n",
              "1571          19.286144          14.408359   F1_IR007\n",
              "1384          14.865939          13.823660   F1_IR007\n",
              "681           13.824139          19.439125   F1_IR007\n",
              "1385          20.340271          14.421275   F1_IR007\n",
              "1054          16.220741          21.520340   F1_IR007\n",
              "...                 ...                ...        ...\n",
              "1441          25.306808          -7.846848  F8_Normal\n",
              "666           31.360140          -8.131954  F8_Normal\n",
              "1067          27.300808          -4.181555  F8_Normal\n",
              "1434          26.045431          -7.309782  F8_Normal\n",
              "209           30.666193         -10.304338  F8_Normal\n",
              "\n",
              "[1572 rows x 3 columns]"
            ],
            "text/html": [
              "\n",
              "  <div id=\"df-09262d92-c459-4bf2-9943-a71535c7360a\" class=\"colab-df-container\">\n",
              "    <div>\n",
              "<style scoped>\n",
              "    .dataframe tbody tr th:only-of-type {\n",
              "        vertical-align: middle;\n",
              "    }\n",
              "\n",
              "    .dataframe tbody tr th {\n",
              "        vertical-align: top;\n",
              "    }\n",
              "\n",
              "    .dataframe thead th {\n",
              "        text-align: right;\n",
              "    }\n",
              "</style>\n",
              "<table border=\"1\" class=\"dataframe\">\n",
              "  <thead>\n",
              "    <tr style=\"text-align: right;\">\n",
              "      <th></th>\n",
              "      <th>T-SNE component 1</th>\n",
              "      <th>T-SNE component 2</th>\n",
              "      <th>Fault</th>\n",
              "    </tr>\n",
              "  </thead>\n",
              "  <tbody>\n",
              "    <tr>\n",
              "      <th>1571</th>\n",
              "      <td>19.286144</td>\n",
              "      <td>14.408359</td>\n",
              "      <td>F1_IR007</td>\n",
              "    </tr>\n",
              "    <tr>\n",
              "      <th>1384</th>\n",
              "      <td>14.865939</td>\n",
              "      <td>13.823660</td>\n",
              "      <td>F1_IR007</td>\n",
              "    </tr>\n",
              "    <tr>\n",
              "      <th>681</th>\n",
              "      <td>13.824139</td>\n",
              "      <td>19.439125</td>\n",
              "      <td>F1_IR007</td>\n",
              "    </tr>\n",
              "    <tr>\n",
              "      <th>1385</th>\n",
              "      <td>20.340271</td>\n",
              "      <td>14.421275</td>\n",
              "      <td>F1_IR007</td>\n",
              "    </tr>\n",
              "    <tr>\n",
              "      <th>1054</th>\n",
              "      <td>16.220741</td>\n",
              "      <td>21.520340</td>\n",
              "      <td>F1_IR007</td>\n",
              "    </tr>\n",
              "    <tr>\n",
              "      <th>...</th>\n",
              "      <td>...</td>\n",
              "      <td>...</td>\n",
              "      <td>...</td>\n",
              "    </tr>\n",
              "    <tr>\n",
              "      <th>1441</th>\n",
              "      <td>25.306808</td>\n",
              "      <td>-7.846848</td>\n",
              "      <td>F8_Normal</td>\n",
              "    </tr>\n",
              "    <tr>\n",
              "      <th>666</th>\n",
              "      <td>31.360140</td>\n",
              "      <td>-8.131954</td>\n",
              "      <td>F8_Normal</td>\n",
              "    </tr>\n",
              "    <tr>\n",
              "      <th>1067</th>\n",
              "      <td>27.300808</td>\n",
              "      <td>-4.181555</td>\n",
              "      <td>F8_Normal</td>\n",
              "    </tr>\n",
              "    <tr>\n",
              "      <th>1434</th>\n",
              "      <td>26.045431</td>\n",
              "      <td>-7.309782</td>\n",
              "      <td>F8_Normal</td>\n",
              "    </tr>\n",
              "    <tr>\n",
              "      <th>209</th>\n",
              "      <td>30.666193</td>\n",
              "      <td>-10.304338</td>\n",
              "      <td>F8_Normal</td>\n",
              "    </tr>\n",
              "  </tbody>\n",
              "</table>\n",
              "<p>1572 rows × 3 columns</p>\n",
              "</div>\n",
              "    <div class=\"colab-df-buttons\">\n",
              "\n",
              "  <div class=\"colab-df-container\">\n",
              "    <button class=\"colab-df-convert\" onclick=\"convertToInteractive('df-09262d92-c459-4bf2-9943-a71535c7360a')\"\n",
              "            title=\"Convert this dataframe to an interactive table.\"\n",
              "            style=\"display:none;\">\n",
              "\n",
              "  <svg xmlns=\"http://www.w3.org/2000/svg\" height=\"24px\" viewBox=\"0 -960 960 960\">\n",
              "    <path d=\"M120-120v-720h720v720H120Zm60-500h600v-160H180v160Zm220 220h160v-160H400v160Zm0 220h160v-160H400v160ZM180-400h160v-160H180v160Zm440 0h160v-160H620v160ZM180-180h160v-160H180v160Zm440 0h160v-160H620v160Z\"/>\n",
              "  </svg>\n",
              "    </button>\n",
              "\n",
              "  <style>\n",
              "    .colab-df-container {\n",
              "      display:flex;\n",
              "      gap: 12px;\n",
              "    }\n",
              "\n",
              "    .colab-df-convert {\n",
              "      background-color: #E8F0FE;\n",
              "      border: none;\n",
              "      border-radius: 50%;\n",
              "      cursor: pointer;\n",
              "      display: none;\n",
              "      fill: #1967D2;\n",
              "      height: 32px;\n",
              "      padding: 0 0 0 0;\n",
              "      width: 32px;\n",
              "    }\n",
              "\n",
              "    .colab-df-convert:hover {\n",
              "      background-color: #E2EBFA;\n",
              "      box-shadow: 0px 1px 2px rgba(60, 64, 67, 0.3), 0px 1px 3px 1px rgba(60, 64, 67, 0.15);\n",
              "      fill: #174EA6;\n",
              "    }\n",
              "\n",
              "    .colab-df-buttons div {\n",
              "      margin-bottom: 4px;\n",
              "    }\n",
              "\n",
              "    [theme=dark] .colab-df-convert {\n",
              "      background-color: #3B4455;\n",
              "      fill: #D2E3FC;\n",
              "    }\n",
              "\n",
              "    [theme=dark] .colab-df-convert:hover {\n",
              "      background-color: #434B5C;\n",
              "      box-shadow: 0px 1px 3px 1px rgba(0, 0, 0, 0.15);\n",
              "      filter: drop-shadow(0px 1px 2px rgba(0, 0, 0, 0.3));\n",
              "      fill: #FFFFFF;\n",
              "    }\n",
              "  </style>\n",
              "\n",
              "    <script>\n",
              "      const buttonEl =\n",
              "        document.querySelector('#df-09262d92-c459-4bf2-9943-a71535c7360a button.colab-df-convert');\n",
              "      buttonEl.style.display =\n",
              "        google.colab.kernel.accessAllowed ? 'block' : 'none';\n",
              "\n",
              "      async function convertToInteractive(key) {\n",
              "        const element = document.querySelector('#df-09262d92-c459-4bf2-9943-a71535c7360a');\n",
              "        const dataTable =\n",
              "          await google.colab.kernel.invokeFunction('convertToInteractive',\n",
              "                                                    [key], {});\n",
              "        if (!dataTable) return;\n",
              "\n",
              "        const docLinkHtml = 'Like what you see? Visit the ' +\n",
              "          '<a target=\"_blank\" href=https://colab.research.google.com/notebooks/data_table.ipynb>data table notebook</a>'\n",
              "          + ' to learn more about interactive tables.';\n",
              "        element.innerHTML = '';\n",
              "        dataTable['output_type'] = 'display_data';\n",
              "        await google.colab.output.renderOutput(dataTable, element);\n",
              "        const docLink = document.createElement('div');\n",
              "        docLink.innerHTML = docLinkHtml;\n",
              "        element.appendChild(docLink);\n",
              "      }\n",
              "    </script>\n",
              "  </div>\n",
              "\n",
              "\n",
              "    <div id=\"df-0eaf9015-9a9d-4d3b-9ec4-1f65d40e2a9a\">\n",
              "      <button class=\"colab-df-quickchart\" onclick=\"quickchart('df-0eaf9015-9a9d-4d3b-9ec4-1f65d40e2a9a')\"\n",
              "                title=\"Suggest charts\"\n",
              "                style=\"display:none;\">\n",
              "\n",
              "<svg xmlns=\"http://www.w3.org/2000/svg\" height=\"24px\"viewBox=\"0 0 24 24\"\n",
              "     width=\"24px\">\n",
              "    <g>\n",
              "        <path d=\"M19 3H5c-1.1 0-2 .9-2 2v14c0 1.1.9 2 2 2h14c1.1 0 2-.9 2-2V5c0-1.1-.9-2-2-2zM9 17H7v-7h2v7zm4 0h-2V7h2v10zm4 0h-2v-4h2v4z\"/>\n",
              "    </g>\n",
              "</svg>\n",
              "      </button>\n",
              "\n",
              "<style>\n",
              "  .colab-df-quickchart {\n",
              "      --bg-color: #E8F0FE;\n",
              "      --fill-color: #1967D2;\n",
              "      --hover-bg-color: #E2EBFA;\n",
              "      --hover-fill-color: #174EA6;\n",
              "      --disabled-fill-color: #AAA;\n",
              "      --disabled-bg-color: #DDD;\n",
              "  }\n",
              "\n",
              "  [theme=dark] .colab-df-quickchart {\n",
              "      --bg-color: #3B4455;\n",
              "      --fill-color: #D2E3FC;\n",
              "      --hover-bg-color: #434B5C;\n",
              "      --hover-fill-color: #FFFFFF;\n",
              "      --disabled-bg-color: #3B4455;\n",
              "      --disabled-fill-color: #666;\n",
              "  }\n",
              "\n",
              "  .colab-df-quickchart {\n",
              "    background-color: var(--bg-color);\n",
              "    border: none;\n",
              "    border-radius: 50%;\n",
              "    cursor: pointer;\n",
              "    display: none;\n",
              "    fill: var(--fill-color);\n",
              "    height: 32px;\n",
              "    padding: 0;\n",
              "    width: 32px;\n",
              "  }\n",
              "\n",
              "  .colab-df-quickchart:hover {\n",
              "    background-color: var(--hover-bg-color);\n",
              "    box-shadow: 0 1px 2px rgba(60, 64, 67, 0.3), 0 1px 3px 1px rgba(60, 64, 67, 0.15);\n",
              "    fill: var(--button-hover-fill-color);\n",
              "  }\n",
              "\n",
              "  .colab-df-quickchart-complete:disabled,\n",
              "  .colab-df-quickchart-complete:disabled:hover {\n",
              "    background-color: var(--disabled-bg-color);\n",
              "    fill: var(--disabled-fill-color);\n",
              "    box-shadow: none;\n",
              "  }\n",
              "\n",
              "  .colab-df-spinner {\n",
              "    border: 2px solid var(--fill-color);\n",
              "    border-color: transparent;\n",
              "    border-bottom-color: var(--fill-color);\n",
              "    animation:\n",
              "      spin 1s steps(1) infinite;\n",
              "  }\n",
              "\n",
              "  @keyframes spin {\n",
              "    0% {\n",
              "      border-color: transparent;\n",
              "      border-bottom-color: var(--fill-color);\n",
              "      border-left-color: var(--fill-color);\n",
              "    }\n",
              "    20% {\n",
              "      border-color: transparent;\n",
              "      border-left-color: var(--fill-color);\n",
              "      border-top-color: var(--fill-color);\n",
              "    }\n",
              "    30% {\n",
              "      border-color: transparent;\n",
              "      border-left-color: var(--fill-color);\n",
              "      border-top-color: var(--fill-color);\n",
              "      border-right-color: var(--fill-color);\n",
              "    }\n",
              "    40% {\n",
              "      border-color: transparent;\n",
              "      border-right-color: var(--fill-color);\n",
              "      border-top-color: var(--fill-color);\n",
              "    }\n",
              "    60% {\n",
              "      border-color: transparent;\n",
              "      border-right-color: var(--fill-color);\n",
              "    }\n",
              "    80% {\n",
              "      border-color: transparent;\n",
              "      border-right-color: var(--fill-color);\n",
              "      border-bottom-color: var(--fill-color);\n",
              "    }\n",
              "    90% {\n",
              "      border-color: transparent;\n",
              "      border-bottom-color: var(--fill-color);\n",
              "    }\n",
              "  }\n",
              "</style>\n",
              "\n",
              "      <script>\n",
              "        async function quickchart(key) {\n",
              "          const quickchartButtonEl =\n",
              "            document.querySelector('#' + key + ' button');\n",
              "          quickchartButtonEl.disabled = true;  // To prevent multiple clicks.\n",
              "          quickchartButtonEl.classList.add('colab-df-spinner');\n",
              "          try {\n",
              "            const charts = await google.colab.kernel.invokeFunction(\n",
              "                'suggestCharts', [key], {});\n",
              "          } catch (error) {\n",
              "            console.error('Error during call to suggestCharts:', error);\n",
              "          }\n",
              "          quickchartButtonEl.classList.remove('colab-df-spinner');\n",
              "          quickchartButtonEl.classList.add('colab-df-quickchart-complete');\n",
              "        }\n",
              "        (() => {\n",
              "          let quickchartButtonEl =\n",
              "            document.querySelector('#df-0eaf9015-9a9d-4d3b-9ec4-1f65d40e2a9a button');\n",
              "          quickchartButtonEl.style.display =\n",
              "            google.colab.kernel.accessAllowed ? 'block' : 'none';\n",
              "        })();\n",
              "      </script>\n",
              "    </div>\n",
              "\n",
              "  <div id=\"id_d82156df-75eb-41e2-80e3-9f4752867c42\">\n",
              "    <style>\n",
              "      .colab-df-generate {\n",
              "        background-color: #E8F0FE;\n",
              "        border: none;\n",
              "        border-radius: 50%;\n",
              "        cursor: pointer;\n",
              "        display: none;\n",
              "        fill: #1967D2;\n",
              "        height: 32px;\n",
              "        padding: 0 0 0 0;\n",
              "        width: 32px;\n",
              "      }\n",
              "\n",
              "      .colab-df-generate:hover {\n",
              "        background-color: #E2EBFA;\n",
              "        box-shadow: 0px 1px 2px rgba(60, 64, 67, 0.3), 0px 1px 3px 1px rgba(60, 64, 67, 0.15);\n",
              "        fill: #174EA6;\n",
              "      }\n",
              "\n",
              "      [theme=dark] .colab-df-generate {\n",
              "        background-color: #3B4455;\n",
              "        fill: #D2E3FC;\n",
              "      }\n",
              "\n",
              "      [theme=dark] .colab-df-generate:hover {\n",
              "        background-color: #434B5C;\n",
              "        box-shadow: 0px 1px 3px 1px rgba(0, 0, 0, 0.15);\n",
              "        filter: drop-shadow(0px 1px 2px rgba(0, 0, 0, 0.3));\n",
              "        fill: #FFFFFF;\n",
              "      }\n",
              "    </style>\n",
              "    <button class=\"colab-df-generate\" onclick=\"generateWithVariable('tSNEdf')\"\n",
              "            title=\"Generate code using this dataframe.\"\n",
              "            style=\"display:none;\">\n",
              "\n",
              "  <svg xmlns=\"http://www.w3.org/2000/svg\" height=\"24px\"viewBox=\"0 0 24 24\"\n",
              "       width=\"24px\">\n",
              "    <path d=\"M7,19H8.4L18.45,9,17,7.55,7,17.6ZM5,21V16.75L18.45,3.32a2,2,0,0,1,2.83,0l1.4,1.43a1.91,1.91,0,0,1,.58,1.4,1.91,1.91,0,0,1-.58,1.4L9.25,21ZM18.45,9,17,7.55Zm-12,3A5.31,5.31,0,0,0,4.9,8.1,5.31,5.31,0,0,0,1,6.5,5.31,5.31,0,0,0,4.9,4.9,5.31,5.31,0,0,0,6.5,1,5.31,5.31,0,0,0,8.1,4.9,5.31,5.31,0,0,0,12,6.5,5.46,5.46,0,0,0,6.5,12Z\"/>\n",
              "  </svg>\n",
              "    </button>\n",
              "    <script>\n",
              "      (() => {\n",
              "      const buttonEl =\n",
              "        document.querySelector('#id_d82156df-75eb-41e2-80e3-9f4752867c42 button.colab-df-generate');\n",
              "      buttonEl.style.display =\n",
              "        google.colab.kernel.accessAllowed ? 'block' : 'none';\n",
              "\n",
              "      buttonEl.onclick = () => {\n",
              "        google.colab.notebook.generateWithVariable('tSNEdf');\n",
              "      }\n",
              "      })();\n",
              "    </script>\n",
              "  </div>\n",
              "\n",
              "    </div>\n",
              "  </div>\n"
            ],
            "application/vnd.google.colaboratory.intrinsic+json": {
              "type": "dataframe",
              "variable_name": "tSNEdf",
              "summary": "{\n  \"name\": \"tSNEdf\",\n  \"rows\": 1572,\n  \"fields\": [\n    {\n      \"column\": \"T-SNE component 1\",\n      \"properties\": {\n        \"dtype\": \"float32\",\n        \"num_unique_values\": 1572,\n        \"samples\": [\n          -17.730037689208984,\n          8.377748489379883,\n          -19.179468154907227\n        ],\n        \"semantic_type\": \"\",\n        \"description\": \"\"\n      }\n    },\n    {\n      \"column\": \"T-SNE component 2\",\n      \"properties\": {\n        \"dtype\": \"float32\",\n        \"num_unique_values\": 1572,\n        \"samples\": [\n          -6.916934490203857,\n          -8.596611976623535,\n          -8.678657531738281\n        ],\n        \"semantic_type\": \"\",\n        \"description\": \"\"\n      }\n    },\n    {\n      \"column\": \"Fault\",\n      \"properties\": {\n        \"dtype\": \"category\",\n        \"num_unique_values\": 8,\n        \"samples\": [\n          \"F2_IR009\",\n          \"F6_OR013\",\n          \"F1_IR007\"\n        ],\n        \"semantic_type\": \"\",\n        \"description\": \"\"\n      }\n    }\n  ]\n}"
            }
          },
          "metadata": {},
          "execution_count": 22
        }
      ]
    },
    {
      "cell_type": "markdown",
      "source": [
        "Combined Features"
      ],
      "metadata": {
        "id": "73T5xFDWQmML"
      },
      "id": "73T5xFDWQmML"
    },
    {
      "cell_type": "code",
      "source": [
        "# import pandas as pd\n",
        "\n",
        "# Assuming df1 and df2 are your two dataframes\n",
        "# Concatenate the dataframes vertically\n",
        "Motor_Fault_dataset = pd.concat([tSNE_representation, tSNEdf], axis=1)\n",
        "Motor_Fault_dataset=Motor_Fault_dataset.sort_values(by='Fault')\n",
        "Motor_Fault_dataset\n",
        "\n",
        "import pandas as pd\n",
        "from sklearn.preprocessing import StandardScaler\n",
        "\n",
        "# Assuming df1 and df2 are your two dataframes\n",
        "# Concatenate the dataframes vertically\n",
        "Motor_Fault_dataset = pd.concat([tSNE_representation, tSNEdf], axis=1)\n",
        "\n",
        "# Sort the dataset by 'Fault' column\n",
        "Motor_Fault_dataset = Motor_Fault_dataset.sort_values(by='Fault')\n",
        "Motor_Fault_dataset\n"
      ],
      "metadata": {
        "id": "sEmeYK5c8anK",
        "colab": {
          "base_uri": "https://localhost:8080/",
          "height": 424
        },
        "outputId": "ad4ca50b-a050-44fa-e564-f64a71c50cb5"
      },
      "id": "sEmeYK5c8anK",
      "execution_count": 23,
      "outputs": [
        {
          "output_type": "execute_result",
          "data": {
            "text/plain": [
              "        t-SNE 1    t-SNE 2  T-SNE component 1  T-SNE component 2      Fault\n",
              "530   -8.431830  -4.256780          15.975130          12.237684   F1_IR007\n",
              "286   -3.060215 -16.803400          19.149776          17.068899   F1_IR007\n",
              "1435  32.208260 -24.457947          13.441294          20.658709   F1_IR007\n",
              "1438  28.487249 -28.057701          14.998593          14.335412   F1_IR007\n",
              "1439  28.756786 -28.648228          21.947145          18.218321   F1_IR007\n",
              "...         ...        ...                ...                ...        ...\n",
              "1256 -12.490449   9.113919          30.563324          -9.924667  F8_Normal\n",
              "1164   0.536431  -4.022045          26.852327         -10.799132  F8_Normal\n",
              "261  -17.887411 -27.408028          27.198296         -11.701849  F8_Normal\n",
              "1328 -34.050083  -1.564120          33.274277          -3.836887  F8_Normal\n",
              "1434  27.773197 -42.185795          26.045431          -7.309782  F8_Normal\n",
              "\n",
              "[1572 rows x 5 columns]"
            ],
            "text/html": [
              "\n",
              "  <div id=\"df-5b3ae198-215e-4245-a547-b8ea1da7ea45\" class=\"colab-df-container\">\n",
              "    <div>\n",
              "<style scoped>\n",
              "    .dataframe tbody tr th:only-of-type {\n",
              "        vertical-align: middle;\n",
              "    }\n",
              "\n",
              "    .dataframe tbody tr th {\n",
              "        vertical-align: top;\n",
              "    }\n",
              "\n",
              "    .dataframe thead th {\n",
              "        text-align: right;\n",
              "    }\n",
              "</style>\n",
              "<table border=\"1\" class=\"dataframe\">\n",
              "  <thead>\n",
              "    <tr style=\"text-align: right;\">\n",
              "      <th></th>\n",
              "      <th>t-SNE 1</th>\n",
              "      <th>t-SNE 2</th>\n",
              "      <th>T-SNE component 1</th>\n",
              "      <th>T-SNE component 2</th>\n",
              "      <th>Fault</th>\n",
              "    </tr>\n",
              "  </thead>\n",
              "  <tbody>\n",
              "    <tr>\n",
              "      <th>530</th>\n",
              "      <td>-8.431830</td>\n",
              "      <td>-4.256780</td>\n",
              "      <td>15.975130</td>\n",
              "      <td>12.237684</td>\n",
              "      <td>F1_IR007</td>\n",
              "    </tr>\n",
              "    <tr>\n",
              "      <th>286</th>\n",
              "      <td>-3.060215</td>\n",
              "      <td>-16.803400</td>\n",
              "      <td>19.149776</td>\n",
              "      <td>17.068899</td>\n",
              "      <td>F1_IR007</td>\n",
              "    </tr>\n",
              "    <tr>\n",
              "      <th>1435</th>\n",
              "      <td>32.208260</td>\n",
              "      <td>-24.457947</td>\n",
              "      <td>13.441294</td>\n",
              "      <td>20.658709</td>\n",
              "      <td>F1_IR007</td>\n",
              "    </tr>\n",
              "    <tr>\n",
              "      <th>1438</th>\n",
              "      <td>28.487249</td>\n",
              "      <td>-28.057701</td>\n",
              "      <td>14.998593</td>\n",
              "      <td>14.335412</td>\n",
              "      <td>F1_IR007</td>\n",
              "    </tr>\n",
              "    <tr>\n",
              "      <th>1439</th>\n",
              "      <td>28.756786</td>\n",
              "      <td>-28.648228</td>\n",
              "      <td>21.947145</td>\n",
              "      <td>18.218321</td>\n",
              "      <td>F1_IR007</td>\n",
              "    </tr>\n",
              "    <tr>\n",
              "      <th>...</th>\n",
              "      <td>...</td>\n",
              "      <td>...</td>\n",
              "      <td>...</td>\n",
              "      <td>...</td>\n",
              "      <td>...</td>\n",
              "    </tr>\n",
              "    <tr>\n",
              "      <th>1256</th>\n",
              "      <td>-12.490449</td>\n",
              "      <td>9.113919</td>\n",
              "      <td>30.563324</td>\n",
              "      <td>-9.924667</td>\n",
              "      <td>F8_Normal</td>\n",
              "    </tr>\n",
              "    <tr>\n",
              "      <th>1164</th>\n",
              "      <td>0.536431</td>\n",
              "      <td>-4.022045</td>\n",
              "      <td>26.852327</td>\n",
              "      <td>-10.799132</td>\n",
              "      <td>F8_Normal</td>\n",
              "    </tr>\n",
              "    <tr>\n",
              "      <th>261</th>\n",
              "      <td>-17.887411</td>\n",
              "      <td>-27.408028</td>\n",
              "      <td>27.198296</td>\n",
              "      <td>-11.701849</td>\n",
              "      <td>F8_Normal</td>\n",
              "    </tr>\n",
              "    <tr>\n",
              "      <th>1328</th>\n",
              "      <td>-34.050083</td>\n",
              "      <td>-1.564120</td>\n",
              "      <td>33.274277</td>\n",
              "      <td>-3.836887</td>\n",
              "      <td>F8_Normal</td>\n",
              "    </tr>\n",
              "    <tr>\n",
              "      <th>1434</th>\n",
              "      <td>27.773197</td>\n",
              "      <td>-42.185795</td>\n",
              "      <td>26.045431</td>\n",
              "      <td>-7.309782</td>\n",
              "      <td>F8_Normal</td>\n",
              "    </tr>\n",
              "  </tbody>\n",
              "</table>\n",
              "<p>1572 rows × 5 columns</p>\n",
              "</div>\n",
              "    <div class=\"colab-df-buttons\">\n",
              "\n",
              "  <div class=\"colab-df-container\">\n",
              "    <button class=\"colab-df-convert\" onclick=\"convertToInteractive('df-5b3ae198-215e-4245-a547-b8ea1da7ea45')\"\n",
              "            title=\"Convert this dataframe to an interactive table.\"\n",
              "            style=\"display:none;\">\n",
              "\n",
              "  <svg xmlns=\"http://www.w3.org/2000/svg\" height=\"24px\" viewBox=\"0 -960 960 960\">\n",
              "    <path d=\"M120-120v-720h720v720H120Zm60-500h600v-160H180v160Zm220 220h160v-160H400v160Zm0 220h160v-160H400v160ZM180-400h160v-160H180v160Zm440 0h160v-160H620v160ZM180-180h160v-160H180v160Zm440 0h160v-160H620v160Z\"/>\n",
              "  </svg>\n",
              "    </button>\n",
              "\n",
              "  <style>\n",
              "    .colab-df-container {\n",
              "      display:flex;\n",
              "      gap: 12px;\n",
              "    }\n",
              "\n",
              "    .colab-df-convert {\n",
              "      background-color: #E8F0FE;\n",
              "      border: none;\n",
              "      border-radius: 50%;\n",
              "      cursor: pointer;\n",
              "      display: none;\n",
              "      fill: #1967D2;\n",
              "      height: 32px;\n",
              "      padding: 0 0 0 0;\n",
              "      width: 32px;\n",
              "    }\n",
              "\n",
              "    .colab-df-convert:hover {\n",
              "      background-color: #E2EBFA;\n",
              "      box-shadow: 0px 1px 2px rgba(60, 64, 67, 0.3), 0px 1px 3px 1px rgba(60, 64, 67, 0.15);\n",
              "      fill: #174EA6;\n",
              "    }\n",
              "\n",
              "    .colab-df-buttons div {\n",
              "      margin-bottom: 4px;\n",
              "    }\n",
              "\n",
              "    [theme=dark] .colab-df-convert {\n",
              "      background-color: #3B4455;\n",
              "      fill: #D2E3FC;\n",
              "    }\n",
              "\n",
              "    [theme=dark] .colab-df-convert:hover {\n",
              "      background-color: #434B5C;\n",
              "      box-shadow: 0px 1px 3px 1px rgba(0, 0, 0, 0.15);\n",
              "      filter: drop-shadow(0px 1px 2px rgba(0, 0, 0, 0.3));\n",
              "      fill: #FFFFFF;\n",
              "    }\n",
              "  </style>\n",
              "\n",
              "    <script>\n",
              "      const buttonEl =\n",
              "        document.querySelector('#df-5b3ae198-215e-4245-a547-b8ea1da7ea45 button.colab-df-convert');\n",
              "      buttonEl.style.display =\n",
              "        google.colab.kernel.accessAllowed ? 'block' : 'none';\n",
              "\n",
              "      async function convertToInteractive(key) {\n",
              "        const element = document.querySelector('#df-5b3ae198-215e-4245-a547-b8ea1da7ea45');\n",
              "        const dataTable =\n",
              "          await google.colab.kernel.invokeFunction('convertToInteractive',\n",
              "                                                    [key], {});\n",
              "        if (!dataTable) return;\n",
              "\n",
              "        const docLinkHtml = 'Like what you see? Visit the ' +\n",
              "          '<a target=\"_blank\" href=https://colab.research.google.com/notebooks/data_table.ipynb>data table notebook</a>'\n",
              "          + ' to learn more about interactive tables.';\n",
              "        element.innerHTML = '';\n",
              "        dataTable['output_type'] = 'display_data';\n",
              "        await google.colab.output.renderOutput(dataTable, element);\n",
              "        const docLink = document.createElement('div');\n",
              "        docLink.innerHTML = docLinkHtml;\n",
              "        element.appendChild(docLink);\n",
              "      }\n",
              "    </script>\n",
              "  </div>\n",
              "\n",
              "\n",
              "    <div id=\"df-14569365-cfbc-4caf-a165-e4ce77179af2\">\n",
              "      <button class=\"colab-df-quickchart\" onclick=\"quickchart('df-14569365-cfbc-4caf-a165-e4ce77179af2')\"\n",
              "                title=\"Suggest charts\"\n",
              "                style=\"display:none;\">\n",
              "\n",
              "<svg xmlns=\"http://www.w3.org/2000/svg\" height=\"24px\"viewBox=\"0 0 24 24\"\n",
              "     width=\"24px\">\n",
              "    <g>\n",
              "        <path d=\"M19 3H5c-1.1 0-2 .9-2 2v14c0 1.1.9 2 2 2h14c1.1 0 2-.9 2-2V5c0-1.1-.9-2-2-2zM9 17H7v-7h2v7zm4 0h-2V7h2v10zm4 0h-2v-4h2v4z\"/>\n",
              "    </g>\n",
              "</svg>\n",
              "      </button>\n",
              "\n",
              "<style>\n",
              "  .colab-df-quickchart {\n",
              "      --bg-color: #E8F0FE;\n",
              "      --fill-color: #1967D2;\n",
              "      --hover-bg-color: #E2EBFA;\n",
              "      --hover-fill-color: #174EA6;\n",
              "      --disabled-fill-color: #AAA;\n",
              "      --disabled-bg-color: #DDD;\n",
              "  }\n",
              "\n",
              "  [theme=dark] .colab-df-quickchart {\n",
              "      --bg-color: #3B4455;\n",
              "      --fill-color: #D2E3FC;\n",
              "      --hover-bg-color: #434B5C;\n",
              "      --hover-fill-color: #FFFFFF;\n",
              "      --disabled-bg-color: #3B4455;\n",
              "      --disabled-fill-color: #666;\n",
              "  }\n",
              "\n",
              "  .colab-df-quickchart {\n",
              "    background-color: var(--bg-color);\n",
              "    border: none;\n",
              "    border-radius: 50%;\n",
              "    cursor: pointer;\n",
              "    display: none;\n",
              "    fill: var(--fill-color);\n",
              "    height: 32px;\n",
              "    padding: 0;\n",
              "    width: 32px;\n",
              "  }\n",
              "\n",
              "  .colab-df-quickchart:hover {\n",
              "    background-color: var(--hover-bg-color);\n",
              "    box-shadow: 0 1px 2px rgba(60, 64, 67, 0.3), 0 1px 3px 1px rgba(60, 64, 67, 0.15);\n",
              "    fill: var(--button-hover-fill-color);\n",
              "  }\n",
              "\n",
              "  .colab-df-quickchart-complete:disabled,\n",
              "  .colab-df-quickchart-complete:disabled:hover {\n",
              "    background-color: var(--disabled-bg-color);\n",
              "    fill: var(--disabled-fill-color);\n",
              "    box-shadow: none;\n",
              "  }\n",
              "\n",
              "  .colab-df-spinner {\n",
              "    border: 2px solid var(--fill-color);\n",
              "    border-color: transparent;\n",
              "    border-bottom-color: var(--fill-color);\n",
              "    animation:\n",
              "      spin 1s steps(1) infinite;\n",
              "  }\n",
              "\n",
              "  @keyframes spin {\n",
              "    0% {\n",
              "      border-color: transparent;\n",
              "      border-bottom-color: var(--fill-color);\n",
              "      border-left-color: var(--fill-color);\n",
              "    }\n",
              "    20% {\n",
              "      border-color: transparent;\n",
              "      border-left-color: var(--fill-color);\n",
              "      border-top-color: var(--fill-color);\n",
              "    }\n",
              "    30% {\n",
              "      border-color: transparent;\n",
              "      border-left-color: var(--fill-color);\n",
              "      border-top-color: var(--fill-color);\n",
              "      border-right-color: var(--fill-color);\n",
              "    }\n",
              "    40% {\n",
              "      border-color: transparent;\n",
              "      border-right-color: var(--fill-color);\n",
              "      border-top-color: var(--fill-color);\n",
              "    }\n",
              "    60% {\n",
              "      border-color: transparent;\n",
              "      border-right-color: var(--fill-color);\n",
              "    }\n",
              "    80% {\n",
              "      border-color: transparent;\n",
              "      border-right-color: var(--fill-color);\n",
              "      border-bottom-color: var(--fill-color);\n",
              "    }\n",
              "    90% {\n",
              "      border-color: transparent;\n",
              "      border-bottom-color: var(--fill-color);\n",
              "    }\n",
              "  }\n",
              "</style>\n",
              "\n",
              "      <script>\n",
              "        async function quickchart(key) {\n",
              "          const quickchartButtonEl =\n",
              "            document.querySelector('#' + key + ' button');\n",
              "          quickchartButtonEl.disabled = true;  // To prevent multiple clicks.\n",
              "          quickchartButtonEl.classList.add('colab-df-spinner');\n",
              "          try {\n",
              "            const charts = await google.colab.kernel.invokeFunction(\n",
              "                'suggestCharts', [key], {});\n",
              "          } catch (error) {\n",
              "            console.error('Error during call to suggestCharts:', error);\n",
              "          }\n",
              "          quickchartButtonEl.classList.remove('colab-df-spinner');\n",
              "          quickchartButtonEl.classList.add('colab-df-quickchart-complete');\n",
              "        }\n",
              "        (() => {\n",
              "          let quickchartButtonEl =\n",
              "            document.querySelector('#df-14569365-cfbc-4caf-a165-e4ce77179af2 button');\n",
              "          quickchartButtonEl.style.display =\n",
              "            google.colab.kernel.accessAllowed ? 'block' : 'none';\n",
              "        })();\n",
              "      </script>\n",
              "    </div>\n",
              "\n",
              "  <div id=\"id_5bd90292-ab6e-474c-aba9-c43c4cbe43d4\">\n",
              "    <style>\n",
              "      .colab-df-generate {\n",
              "        background-color: #E8F0FE;\n",
              "        border: none;\n",
              "        border-radius: 50%;\n",
              "        cursor: pointer;\n",
              "        display: none;\n",
              "        fill: #1967D2;\n",
              "        height: 32px;\n",
              "        padding: 0 0 0 0;\n",
              "        width: 32px;\n",
              "      }\n",
              "\n",
              "      .colab-df-generate:hover {\n",
              "        background-color: #E2EBFA;\n",
              "        box-shadow: 0px 1px 2px rgba(60, 64, 67, 0.3), 0px 1px 3px 1px rgba(60, 64, 67, 0.15);\n",
              "        fill: #174EA6;\n",
              "      }\n",
              "\n",
              "      [theme=dark] .colab-df-generate {\n",
              "        background-color: #3B4455;\n",
              "        fill: #D2E3FC;\n",
              "      }\n",
              "\n",
              "      [theme=dark] .colab-df-generate:hover {\n",
              "        background-color: #434B5C;\n",
              "        box-shadow: 0px 1px 3px 1px rgba(0, 0, 0, 0.15);\n",
              "        filter: drop-shadow(0px 1px 2px rgba(0, 0, 0, 0.3));\n",
              "        fill: #FFFFFF;\n",
              "      }\n",
              "    </style>\n",
              "    <button class=\"colab-df-generate\" onclick=\"generateWithVariable('Motor_Fault_dataset')\"\n",
              "            title=\"Generate code using this dataframe.\"\n",
              "            style=\"display:none;\">\n",
              "\n",
              "  <svg xmlns=\"http://www.w3.org/2000/svg\" height=\"24px\"viewBox=\"0 0 24 24\"\n",
              "       width=\"24px\">\n",
              "    <path d=\"M7,19H8.4L18.45,9,17,7.55,7,17.6ZM5,21V16.75L18.45,3.32a2,2,0,0,1,2.83,0l1.4,1.43a1.91,1.91,0,0,1,.58,1.4,1.91,1.91,0,0,1-.58,1.4L9.25,21ZM18.45,9,17,7.55Zm-12,3A5.31,5.31,0,0,0,4.9,8.1,5.31,5.31,0,0,0,1,6.5,5.31,5.31,0,0,0,4.9,4.9,5.31,5.31,0,0,0,6.5,1,5.31,5.31,0,0,0,8.1,4.9,5.31,5.31,0,0,0,12,6.5,5.46,5.46,0,0,0,6.5,12Z\"/>\n",
              "  </svg>\n",
              "    </button>\n",
              "    <script>\n",
              "      (() => {\n",
              "      const buttonEl =\n",
              "        document.querySelector('#id_5bd90292-ab6e-474c-aba9-c43c4cbe43d4 button.colab-df-generate');\n",
              "      buttonEl.style.display =\n",
              "        google.colab.kernel.accessAllowed ? 'block' : 'none';\n",
              "\n",
              "      buttonEl.onclick = () => {\n",
              "        google.colab.notebook.generateWithVariable('Motor_Fault_dataset');\n",
              "      }\n",
              "      })();\n",
              "    </script>\n",
              "  </div>\n",
              "\n",
              "    </div>\n",
              "  </div>\n"
            ],
            "application/vnd.google.colaboratory.intrinsic+json": {
              "type": "dataframe",
              "variable_name": "Motor_Fault_dataset",
              "summary": "{\n  \"name\": \"Motor_Fault_dataset\",\n  \"rows\": 1572,\n  \"fields\": [\n    {\n      \"column\": \"t-SNE 1\",\n      \"properties\": {\n        \"dtype\": \"float32\",\n        \"num_unique_values\": 1569,\n        \"samples\": [\n          31.606853485107422,\n          -32.959381103515625,\n          6.3950419425964355\n        ],\n        \"semantic_type\": \"\",\n        \"description\": \"\"\n      }\n    },\n    {\n      \"column\": \"t-SNE 2\",\n      \"properties\": {\n        \"dtype\": \"float32\",\n        \"num_unique_values\": 1569,\n        \"samples\": [\n          -38.47560119628906,\n          24.27224349975586,\n          4.664418697357178\n        ],\n        \"semantic_type\": \"\",\n        \"description\": \"\"\n      }\n    },\n    {\n      \"column\": \"T-SNE component 1\",\n      \"properties\": {\n        \"dtype\": \"float32\",\n        \"num_unique_values\": 1572,\n        \"samples\": [\n          -11.468208312988281,\n          10.413948059082031,\n          -18.95631217956543\n        ],\n        \"semantic_type\": \"\",\n        \"description\": \"\"\n      }\n    },\n    {\n      \"column\": \"T-SNE component 2\",\n      \"properties\": {\n        \"dtype\": \"float32\",\n        \"num_unique_values\": 1572,\n        \"samples\": [\n          -10.216317176818848,\n          -6.448603630065918,\n          -7.937508583068848\n        ],\n        \"semantic_type\": \"\",\n        \"description\": \"\"\n      }\n    },\n    {\n      \"column\": \"Fault\",\n      \"properties\": {\n        \"dtype\": \"category\",\n        \"num_unique_values\": 8,\n        \"samples\": [\n          \"F2_IR009\",\n          \"F6_OR013\",\n          \"F1_IR007\"\n        ],\n        \"semantic_type\": \"\",\n        \"description\": \"\"\n      }\n    }\n  ]\n}"
            }
          },
          "metadata": {},
          "execution_count": 23
        }
      ]
    },
    {
      "cell_type": "code",
      "source": [
        "#Classification Report for MKDCNN"
      ],
      "metadata": {
        "id": "zC_6vMBPsOs_"
      },
      "id": "zC_6vMBPsOs_",
      "execution_count": 24,
      "outputs": []
    },
    {
      "cell_type": "code",
      "source": [],
      "metadata": {
        "id": "b77LcDP9sPR2"
      },
      "id": "b77LcDP9sPR2",
      "execution_count": 24,
      "outputs": []
    },
    {
      "cell_type": "markdown",
      "source": [
        "HSPSO-CatBoost\n"
      ],
      "metadata": {
        "id": "wZFQ37UCYN1p"
      },
      "id": "wZFQ37UCYN1p"
    },
    {
      "cell_type": "code",
      "source": [
        "X = Motor_Fault_dataset.iloc[:, 0:4].values\n",
        "y = Motor_Fault_dataset.iloc[:, 4].values"
      ],
      "metadata": {
        "id": "f_P8BWzmYTg0"
      },
      "id": "f_P8BWzmYTg0",
      "execution_count": 25,
      "outputs": []
    },
    {
      "cell_type": "code",
      "source": [
        "# Splitting the dataset into the Training set and Test set\n",
        "from sklearn.model_selection import train_test_split\n",
        "X_train, X_test, y_train, y_test = train_test_split(X, y, test_size = 0.2)"
      ],
      "metadata": {
        "id": "vLMueEZ6YfvA"
      },
      "id": "vLMueEZ6YfvA",
      "execution_count": 26,
      "outputs": []
    },
    {
      "cell_type": "code",
      "source": [
        "pip install hyperactive"
      ],
      "metadata": {
        "id": "nsTDebhD9iQw",
        "colab": {
          "base_uri": "https://localhost:8080/"
        },
        "outputId": "d7adf099-ecac-45f4-dbdf-6dbabbafded0"
      },
      "id": "nsTDebhD9iQw",
      "execution_count": 27,
      "outputs": [
        {
          "output_type": "stream",
          "name": "stdout",
          "text": [
            "Collecting hyperactive\n",
            "  Downloading hyperactive-4.8.0-py3-none-any.whl.metadata (42 kB)\n",
            "\u001b[?25l     \u001b[90m━━━━━━━━━━━━━━━━━━━━━━━━━━━━━━━━━━━━━━━━\u001b[0m \u001b[32m0.0/42.8 kB\u001b[0m \u001b[31m?\u001b[0m eta \u001b[36m-:--:--\u001b[0m\r\u001b[2K     \u001b[90m━━━━━━━━━━━━━━━━━━━━━━━━━━━━━━━━━━━━━━━━\u001b[0m \u001b[32m42.8/42.8 kB\u001b[0m \u001b[31m2.2 MB/s\u001b[0m eta \u001b[36m0:00:00\u001b[0m\n",
            "\u001b[?25hRequirement already satisfied: numpy<3.0.0,>=1.18.1 in /usr/local/lib/python3.11/dist-packages (from hyperactive) (2.0.2)\n",
            "Requirement already satisfied: tqdm<5.0.0,>=4.48.0 in /usr/local/lib/python3.11/dist-packages (from hyperactive) (4.67.1)\n",
            "Requirement already satisfied: pandas<3.0.0 in /usr/local/lib/python3.11/dist-packages (from hyperactive) (2.2.2)\n",
            "Collecting gradient-free-optimizers<2.0.0,>=1.2.4 (from hyperactive)\n",
            "  Downloading gradient_free_optimizers-1.7.1-py3-none-any.whl.metadata (31 kB)\n",
            "Requirement already satisfied: scipy<2.0.0 in /usr/local/lib/python3.11/dist-packages (from gradient-free-optimizers<2.0.0,>=1.2.4->hyperactive) (1.15.3)\n",
            "Requirement already satisfied: scikit-learn!=0.23.*,>=0.21 in /usr/local/lib/python3.11/dist-packages (from gradient-free-optimizers<2.0.0,>=1.2.4->hyperactive) (1.6.1)\n",
            "Requirement already satisfied: python-dateutil>=2.8.2 in /usr/local/lib/python3.11/dist-packages (from pandas<3.0.0->hyperactive) (2.9.0.post0)\n",
            "Requirement already satisfied: pytz>=2020.1 in /usr/local/lib/python3.11/dist-packages (from pandas<3.0.0->hyperactive) (2025.2)\n",
            "Requirement already satisfied: tzdata>=2022.7 in /usr/local/lib/python3.11/dist-packages (from pandas<3.0.0->hyperactive) (2025.2)\n",
            "Requirement already satisfied: six>=1.5 in /usr/local/lib/python3.11/dist-packages (from python-dateutil>=2.8.2->pandas<3.0.0->hyperactive) (1.17.0)\n",
            "Requirement already satisfied: joblib>=1.2.0 in /usr/local/lib/python3.11/dist-packages (from scikit-learn!=0.23.*,>=0.21->gradient-free-optimizers<2.0.0,>=1.2.4->hyperactive) (1.5.1)\n",
            "Requirement already satisfied: threadpoolctl>=3.1.0 in /usr/local/lib/python3.11/dist-packages (from scikit-learn!=0.23.*,>=0.21->gradient-free-optimizers<2.0.0,>=1.2.4->hyperactive) (3.6.0)\n",
            "Downloading hyperactive-4.8.0-py3-none-any.whl (30 kB)\n",
            "Downloading gradient_free_optimizers-1.7.1-py3-none-any.whl (95 kB)\n",
            "\u001b[2K   \u001b[90m━━━━━━━━━━━━━━━━━━━━━━━━━━━━━━━━━━━━━━━━\u001b[0m \u001b[32m95.8/95.8 kB\u001b[0m \u001b[31m5.7 MB/s\u001b[0m eta \u001b[36m0:00:00\u001b[0m\n",
            "\u001b[?25hInstalling collected packages: gradient-free-optimizers, hyperactive\n",
            "Successfully installed gradient-free-optimizers-1.7.1 hyperactive-4.8.0\n"
          ]
        }
      ]
    },
    {
      "cell_type": "code",
      "source": [
        "pip install catboost"
      ],
      "metadata": {
        "id": "UTH39uc29p_Q",
        "colab": {
          "base_uri": "https://localhost:8080/"
        },
        "outputId": "f0eaed94-383e-4b26-9d5d-2f08b738a8e1"
      },
      "id": "UTH39uc29p_Q",
      "execution_count": 28,
      "outputs": [
        {
          "output_type": "stream",
          "name": "stdout",
          "text": [
            "Collecting catboost\n",
            "  Downloading catboost-1.2.8-cp311-cp311-manylinux2014_x86_64.whl.metadata (1.2 kB)\n",
            "Requirement already satisfied: graphviz in /usr/local/lib/python3.11/dist-packages (from catboost) (0.21)\n",
            "Requirement already satisfied: matplotlib in /usr/local/lib/python3.11/dist-packages (from catboost) (3.10.0)\n",
            "Requirement already satisfied: numpy<3.0,>=1.16.0 in /usr/local/lib/python3.11/dist-packages (from catboost) (2.0.2)\n",
            "Requirement already satisfied: pandas>=0.24 in /usr/local/lib/python3.11/dist-packages (from catboost) (2.2.2)\n",
            "Requirement already satisfied: scipy in /usr/local/lib/python3.11/dist-packages (from catboost) (1.15.3)\n",
            "Requirement already satisfied: plotly in /usr/local/lib/python3.11/dist-packages (from catboost) (5.24.1)\n",
            "Requirement already satisfied: six in /usr/local/lib/python3.11/dist-packages (from catboost) (1.17.0)\n",
            "Requirement already satisfied: python-dateutil>=2.8.2 in /usr/local/lib/python3.11/dist-packages (from pandas>=0.24->catboost) (2.9.0.post0)\n",
            "Requirement already satisfied: pytz>=2020.1 in /usr/local/lib/python3.11/dist-packages (from pandas>=0.24->catboost) (2025.2)\n",
            "Requirement already satisfied: tzdata>=2022.7 in /usr/local/lib/python3.11/dist-packages (from pandas>=0.24->catboost) (2025.2)\n",
            "Requirement already satisfied: contourpy>=1.0.1 in /usr/local/lib/python3.11/dist-packages (from matplotlib->catboost) (1.3.2)\n",
            "Requirement already satisfied: cycler>=0.10 in /usr/local/lib/python3.11/dist-packages (from matplotlib->catboost) (0.12.1)\n",
            "Requirement already satisfied: fonttools>=4.22.0 in /usr/local/lib/python3.11/dist-packages (from matplotlib->catboost) (4.58.4)\n",
            "Requirement already satisfied: kiwisolver>=1.3.1 in /usr/local/lib/python3.11/dist-packages (from matplotlib->catboost) (1.4.8)\n",
            "Requirement already satisfied: packaging>=20.0 in /usr/local/lib/python3.11/dist-packages (from matplotlib->catboost) (24.2)\n",
            "Requirement already satisfied: pillow>=8 in /usr/local/lib/python3.11/dist-packages (from matplotlib->catboost) (11.2.1)\n",
            "Requirement already satisfied: pyparsing>=2.3.1 in /usr/local/lib/python3.11/dist-packages (from matplotlib->catboost) (3.2.3)\n",
            "Requirement already satisfied: tenacity>=6.2.0 in /usr/local/lib/python3.11/dist-packages (from plotly->catboost) (9.1.2)\n",
            "Downloading catboost-1.2.8-cp311-cp311-manylinux2014_x86_64.whl (99.2 MB)\n",
            "\u001b[2K   \u001b[90m━━━━━━━━━━━━━━━━━━━━━━━━━━━━━━━━━━━━━━━━\u001b[0m \u001b[32m99.2/99.2 MB\u001b[0m \u001b[31m3.8 MB/s\u001b[0m eta \u001b[36m0:00:00\u001b[0m\n",
            "\u001b[?25hInstalling collected packages: catboost\n",
            "Successfully installed catboost-1.2.8\n"
          ]
        }
      ]
    },
    {
      "cell_type": "markdown",
      "source": [
        "Deployment:"
      ],
      "metadata": {
        "id": "Ul9AHZU5uIcP"
      },
      "id": "Ul9AHZU5uIcP"
    },
    {
      "cell_type": "code",
      "source": [
        "import numpy as np\n",
        "import pandas as pd\n",
        "from datetime import datetime\n",
        "from sklearn.model_selection import cross_val_score\n",
        "from catboost import CatBoostClassifier, Pool\n",
        "from hyperactive import Hyperactive\n",
        "from hyperactive.optimizers import ParticleSwarmOptimizer\n",
        "from sklearn.metrics import classification_report, confusion_matrix\n",
        "import matplotlib.pyplot as plt\n",
        "import seaborn as sns\n",
        "\n",
        "# === DATA: Replace X_train, X_test, y_train, y_test with your actual data ===\n",
        "# Example:\n",
        "# X_train, X_test, y_train, y_test = train_test_split(...)\n",
        "\n",
        "X, y = X_train, y_train\n",
        "\n",
        "# === Objective Function ===\n",
        "def model(opt):\n",
        "    CatBoost = CatBoostClassifier(\n",
        "        iterations=opt[\"iterations\"],\n",
        "        depth=opt[\"depth\"],\n",
        "        learning_rate=opt[\"learning_rate\"],\n",
        "        l2_leaf_reg=opt[\"l2_leaf_reg\"],\n",
        "        bagging_temperature=opt[\"bagging_temperature\"],\n",
        "        random_strength=opt[\"random_strength\"],\n",
        "        verbose=False\n",
        "    )\n",
        "    scores = cross_val_score(CatBoost, X, y, cv=4)\n",
        "    return scores.mean()\n",
        "\n",
        "# === Search Space ===\n",
        "search_space = {\n",
        "    \"iterations\": list(range(50, 501, 50)),\n",
        "    \"depth\": list(range(1, 11)),\n",
        "    \"learning_rate\": [0.01, 0.05, 0.1],\n",
        "    \"l2_leaf_reg\": [1, 3, 5],\n",
        "    \"bagging_temperature\": [0.5, 1, 1.5],\n",
        "    \"random_strength\": [0.5, 1, 1.5],\n",
        "}\n",
        "\n",
        "# === Cauchy Mutation ===\n",
        "def cauchy_mutation(particle, gamma=0.3):\n",
        "    for key in particle:\n",
        "        if isinstance(particle[key], (int, float)):\n",
        "            particle[key] = particle[key] * (1 + gamma * np.tan(np.pi * (np.random.rand() - 0.5)))\n",
        "            particle[key] = np.clip(particle[key], min(search_space[key]), max(search_space[key]))\n",
        "            if isinstance(search_space[key][0], int):\n",
        "                particle[key] = int(round(particle[key]))\n",
        "    return particle\n",
        "\n",
        "# === HSPSO Optimizer Class ===\n",
        "class HybridStrategyPSO(ParticleSwarmOptimizer):\n",
        "    def __init__(self, n_part=20, max_iter=40, **kwargs):\n",
        "        super().__init__(**kwargs)\n",
        "        self.switch_threshold = 10\n",
        "        self.iteration = 0\n",
        "        self.topology = \"gbest\"\n",
        "        self.n_part = n_part\n",
        "        self.max_iter = max_iter\n",
        "\n",
        "        # Adaptive Inertia Parameters\n",
        "        self.H = 1\n",
        "        self.w_min = 0.4\n",
        "        self.w_max = 0.9\n",
        "        self.b = 0.9\n",
        "        self.scaling_factor = 0.5\n",
        "\n",
        "    def on_iteration(self, swarm, scores):\n",
        "        self.iteration += 1\n",
        "\n",
        "        # === Topology Switching ===\n",
        "        if self.iteration % self.switch_threshold == 0:\n",
        "            self.topology = \"lbest\" if self.topology == \"gbest\" else \"gbest\"\n",
        "            self.set_topology(self.topology)\n",
        "\n",
        "        # === Clone Best Particles ===\n",
        "        best_indices = np.argsort(scores)[:max(1, len(swarm) // 5)]\n",
        "        for idx in best_indices:\n",
        "            particle = swarm[idx].copy()\n",
        "            swarm.append(particle)\n",
        "            scores.append(scores[idx])\n",
        "\n",
        "        # === Prune Worst Particles ===\n",
        "        if len(swarm) > 2 * self.n_part:\n",
        "            worst_indices = np.argsort(scores)[-len(swarm)//4:]\n",
        "            for i in reversed(worst_indices):\n",
        "                del swarm[i]\n",
        "                del scores[i]\n",
        "\n",
        "        # === Nonlinear Adaptive Inertia ===\n",
        "        numerator = (self.w_max - self.w_min) * self.iteration\n",
        "        denominator = 1 + np.exp(-10 * self.b * ((2 * self.iteration) / (self.H * self.max_iter) - 1))\n",
        "        self.inertia = self.w_max - numerator / denominator\n",
        "\n",
        "        # === Cauchy Mutation ===\n",
        "        for i in range(len(swarm)):\n",
        "            if np.random.rand() < 0.2:\n",
        "                swarm[i] = cauchy_mutation(swarm[i])\n",
        "\n",
        "        # === Hook-Jeeves Local Search (simplified) ===\n",
        "        top_ids = np.argsort(scores)[:2]\n",
        "        for i in top_ids:\n",
        "            particle = swarm[i]\n",
        "            for key in particle:\n",
        "                if isinstance(particle[key], (int, float)):\n",
        "                    for delta in [-0.01, 0.01] if isinstance(particle[key], float) else [-1, 1]:\n",
        "                        trial = particle.copy()\n",
        "                        trial[key] = trial[key] + delta\n",
        "                        trial[key] = np.clip(trial[key], min(search_space[key]), max(search_space[key]))\n",
        "                        if isinstance(search_space[key][0], int):\n",
        "                            trial[key] = int(round(trial[key]))\n",
        "                        trial_score = model(trial)\n",
        "                        if trial_score > scores[i]:\n",
        "                            swarm[i] = trial\n",
        "                            scores[i] = trial_score\n",
        "\n",
        "        # === Random Restart ===\n",
        "        if np.random.rand() < 0.1:\n",
        "            random_idx = np.random.choice(len(swarm))\n",
        "            for key in swarm[random_idx]:\n",
        "                if isinstance(swarm[random_idx][key], (int, float)):\n",
        "                    swarm[random_idx][key] = np.random.choice(search_space[key])\n",
        "\n",
        "# === Run HSPSO Hyperparameter Tuning ===\n",
        "start_time = datetime.now()\n",
        "\n",
        "hyper = Hyperactive()\n",
        "\n",
        "optimizer = HybridStrategyPSO(\n",
        "    n_part=20,\n",
        "    max_iter=40,\n",
        "    inertia=0.5,\n",
        "    cognitive_weight=0.9,\n",
        "    social_weight=0.5,\n",
        "    temp_weight=0.4,\n",
        "    rand_rest_p=0.05,\n",
        ")\n",
        "\n",
        "hyper.add_search(model, search_space, optimizer=optimizer, n_iter=40)\n",
        "hyper.run()\n",
        "\n",
        "end_time = datetime.now()\n",
        "print('Tuning Duration:', end_time - start_time)\n",
        "\n",
        "# === Best Parameters ===\n",
        "best_params = hyper.best_para(model)\n",
        "print(\"Best Parameters:\", best_params)\n",
        "\n",
        "# === Train Final Model with Best Parameters ===\n",
        "train_pool = Pool(data=X_train, label=y_train)\n",
        "test_pool = Pool(data=X_test, label=y_test)\n",
        "\n",
        "final_model = CatBoostClassifier(\n",
        "    depth=best_params[\"depth\"],\n",
        "    iterations=best_params[\"iterations\"],\n",
        "    learning_rate=best_params[\"learning_rate\"],\n",
        "    l2_leaf_reg=best_params[\"l2_leaf_reg\"],\n",
        "    bagging_temperature=best_params[\"bagging_temperature\"],\n",
        "    random_strength=best_params[\"random_strength\"],\n",
        "    verbose=10\n",
        ")\n",
        "\n",
        "final_model.fit(\n",
        "    train_pool,\n",
        "    eval_set=test_pool,\n",
        "    verbose=best_params[\"iterations\"] // 10,\n",
        "    plot=True\n",
        ")\n"
      ],
      "metadata": {
        "id": "jQr38vF8A9_i",
        "colab": {
          "base_uri": "https://localhost:8080/",
          "height": 677,
          "referenced_widgets": [
            "5792cd0be37a4ac582d6110984335e35"
          ]
        },
        "outputId": "7dd2a4a2-5511-4fcb-b907-3571e072f99b"
      },
      "id": "jQr38vF8A9_i",
      "execution_count": 29,
      "outputs": [
        {
          "output_type": "stream",
          "name": "stderr",
          "text": [
            "[0] model (Particle Swarm Optimization): 100%|\u001b[32m──────────\u001b[0m| 40/40 [09:33<00:00, 14.34s/it, best_iter=0, best_pos=None, best_score=-inf]"
          ]
        },
        {
          "output_type": "stream",
          "name": "stdout",
          "text": [
            "\n",
            "\n",
            "Results: 'model'  \n",
            "   Best score: 0.9777373369730057  \n",
            "   Best parameter set:\n",
            "      'iterations'          : 350.0  \n",
            "      'depth'               : 4.0  \n",
            "      'learning_rate'       : 0.05  \n",
            "      'l2_leaf_reg'         : 1.0  \n",
            "      'bagging_temperature' : 1.0  \n",
            "      'random_strength'     : 0.5  \n",
            "   Best iteration: 0  \n",
            " \n",
            "   Random seed: 1386271331  \n",
            " \n",
            "   Evaluation time   : 573.1576907634735 sec    [100.0 %]\n",
            "   Optimization time : 0.013382196426391602 sec    [0.0 %]\n",
            "   Iteration time    : 573.1710729598999 sec    [14.33 sec/iter]\n",
            " \n",
            "Tuning Duration: 0:09:33.519338\n",
            "Best Parameters: {'iterations': 350, 'depth': 4, 'learning_rate': 0.05, 'l2_leaf_reg': 1, 'bagging_temperature': 1, 'random_strength': 0.5}\n"
          ]
        },
        {
          "output_type": "stream",
          "name": "stderr",
          "text": [
            "\n"
          ]
        },
        {
          "output_type": "display_data",
          "data": {
            "text/plain": [
              "MetricVisualizer(layout=Layout(align_self='stretch', height='500px'))"
            ],
            "application/vnd.jupyter.widget-view+json": {
              "version_major": 2,
              "version_minor": 0,
              "model_id": "5792cd0be37a4ac582d6110984335e35"
            }
          },
          "metadata": {}
        },
        {
          "output_type": "stream",
          "name": "stdout",
          "text": [
            "0:\tlearn: 1.8697303\ttest: 1.8687893\tbest: 1.8687893 (0)\ttotal: 4.86ms\tremaining: 1.7s\n",
            "35:\tlearn: 0.3496614\ttest: 0.3602204\tbest: 0.3602204 (35)\ttotal: 198ms\tremaining: 1.73s\n",
            "70:\tlearn: 0.1671244\ttest: 0.1902137\tbest: 0.1902137 (70)\ttotal: 392ms\tremaining: 1.54s\n",
            "105:\tlearn: 0.1188340\ttest: 0.1523957\tbest: 0.1523957 (105)\ttotal: 649ms\tremaining: 1.49s\n",
            "140:\tlearn: 0.0967922\ttest: 0.1397132\tbest: 0.1397132 (140)\ttotal: 877ms\tremaining: 1.3s\n",
            "175:\tlearn: 0.0838680\ttest: 0.1330683\tbest: 0.1330683 (175)\ttotal: 1.13s\tremaining: 1.12s\n",
            "210:\tlearn: 0.0739835\ttest: 0.1309701\tbest: 0.1309125 (209)\ttotal: 1.38s\tremaining: 912ms\n",
            "245:\tlearn: 0.0657161\ttest: 0.1297731\tbest: 0.1294932 (243)\ttotal: 1.61s\tremaining: 679ms\n",
            "280:\tlearn: 0.0587188\ttest: 0.1282897\tbest: 0.1280781 (269)\ttotal: 1.86s\tremaining: 458ms\n",
            "315:\tlearn: 0.0526198\ttest: 0.1267007\tbest: 0.1267007 (315)\ttotal: 2.03s\tremaining: 218ms\n",
            "349:\tlearn: 0.0468451\ttest: 0.1256050\tbest: 0.1256050 (349)\ttotal: 2.15s\tremaining: 0us\n",
            "\n",
            "bestTest = 0.1256049772\n",
            "bestIteration = 349\n",
            "\n"
          ]
        },
        {
          "output_type": "execute_result",
          "data": {
            "text/plain": [
              "<catboost.core.CatBoostClassifier at 0x793d89dd6790>"
            ]
          },
          "metadata": {},
          "execution_count": 29
        }
      ]
    },
    {
      "cell_type": "code",
      "source": [
        "hyper.add_search(model, search_space, optimizer=optimizer, n_iter=40, initialize={\"random\": 20})\n"
      ],
      "metadata": {
        "id": "a_9tYmgz45VS"
      },
      "id": "a_9tYmgz45VS",
      "execution_count": 30,
      "outputs": []
    },
    {
      "cell_type": "code",
      "source": [
        "learning_curve = final_model.get_evals_result()\n",
        "print(learning_curve)"
      ],
      "metadata": {
        "id": "2mRL06xdGZve",
        "colab": {
          "base_uri": "https://localhost:8080/"
        },
        "outputId": "d40ebc24-0772-4434-94a8-1536af7233b3"
      },
      "id": "2mRL06xdGZve",
      "execution_count": 31,
      "outputs": [
        {
          "output_type": "stream",
          "name": "stdout",
          "text": [
            "{'learn': {'MultiClass': [1.869730336831336, 1.706894100534203, 1.5725446023402476, 1.457380028588553, 1.367790085837346, 1.2697206070743072, 1.195605818661207, 1.1276485162783183, 1.0642918139757507, 1.0073041068841686, 0.9528068888757993, 0.9029742486651884, 0.8607231861899045, 0.8195865220170393, 0.7795917848415584, 0.7406356465918492, 0.7066738147411766, 0.6724854815906146, 0.644302699101523, 0.6172398769363107, 0.5916629084246011, 0.5675507230008173, 0.5447644706953719, 0.5240464403591887, 0.5041893825350372, 0.4854001600892004, 0.4688100661243814, 0.4531413942204533, 0.43804865661157416, 0.4239565054027473, 0.41016375117113263, 0.3964522024346649, 0.3841796165770497, 0.37208761609192226, 0.3603349330052586, 0.34966142869687006, 0.33880811806973266, 0.3291651513394543, 0.3216417856388621, 0.3131623242512842, 0.3047211426426672, 0.29682917897327327, 0.2886589437217721, 0.2812333317131661, 0.2737020631455158, 0.26708159890886546, 0.2600010839900025, 0.2535757019966131, 0.24824973094094277, 0.24276333558377566, 0.2371374946311592, 0.23162201799394294, 0.22764941925621307, 0.22313122191654366, 0.21835697367010629, 0.2136446645521039, 0.209561986513189, 0.2051905284942166, 0.202927156997549, 0.2003722165561606, 0.19679263347520934, 0.1929881471126355, 0.18958178012845817, 0.18652739274986985, 0.18372556562592182, 0.1806000664524487, 0.17775595219698248, 0.17505501133750673, 0.1725776629494675, 0.16939640114443988, 0.16712439182320987, 0.16465994282435115, 0.16322372235703075, 0.16058968727249606, 0.15801994801843058, 0.15572079210968326, 0.1540725799433018, 0.15262115760730635, 0.15117903025646864, 0.14955124445530157, 0.14812337165381148, 0.14608879919339143, 0.14419523196248119, 0.1427981176389022, 0.14078989543985224, 0.1396397420462348, 0.13823433837723628, 0.13757649482319764, 0.13584570963284565, 0.13495791303129936, 0.1337542820352338, 0.1322352410187517, 0.13104983057036773, 0.13002311914741344, 0.1293593887860032, 0.127920015597502, 0.1267719741884367, 0.12604375163757436, 0.1255182066043098, 0.12441658477560927, 0.1237941795197047, 0.12245892916692847, 0.1218129754253261, 0.12097894262601343, 0.11942613992663643, 0.11883397867130058, 0.11778012252090504, 0.11721894012333034, 0.11618310598213424, 0.11523024771256615, 0.11450388458250486, 0.11384792376382152, 0.11282737769856077, 0.11184084917986147, 0.11109028252521916, 0.11053904031917725, 0.1098949028616571, 0.10944862277537194, 0.1091074904770407, 0.10818772926958686, 0.10769471287911246, 0.107195120817808, 0.10635646162598979, 0.10536380809442895, 0.1047027843879987, 0.1038836020159816, 0.10306165039613589, 0.10262166862387714, 0.10215736345400857, 0.10149275272545989, 0.10122446533188219, 0.1009383176948696, 0.10060325821879725, 0.10040358654855758, 0.0996062078035324, 0.09882580958766658, 0.09852644966474115, 0.09811958536170123, 0.09786112590880283, 0.097450519567507, 0.09679215575331512, 0.09615761424600533, 0.09529358372113111, 0.09494157380036768, 0.09419837692467194, 0.09369365323630328, 0.0933777552162999, 0.09301591499139579, 0.09268485645051666, 0.09231590694635755, 0.09202960912794293, 0.09174033528268531, 0.09120494554988968, 0.09089695817131421, 0.09073882079709965, 0.09040421785572389, 0.09012471627904467, 0.08993793447600582, 0.08961851056578204, 0.08923067547821564, 0.08882548719491311, 0.08865855880322955, 0.08848604302791804, 0.08812540977285113, 0.08781176509200422, 0.08739855737207623, 0.0870235385227268, 0.0867707475439899, 0.08642046485740815, 0.0860297800225242, 0.0857573816750621, 0.08545585805076632, 0.08523865119321059, 0.08485040116354652, 0.08419899268169934, 0.08386799918535774, 0.08366899805681915, 0.0833868576771334, 0.08300075423689503, 0.08255510112963269, 0.08234262169517059, 0.08213259457700638, 0.08194102860555745, 0.08161064881734696, 0.08144135344863909, 0.0812310913302252, 0.08096110776307895, 0.08064651685790332, 0.08040412542816998, 0.0802645441145587, 0.08004683783032938, 0.07981022894191651, 0.0795879948145925, 0.07889866603093176, 0.07843801925685659, 0.07808048578757609, 0.07792064221148362, 0.07748293287221458, 0.0772752790725104, 0.07698162673346945, 0.07666234716643947, 0.07634058767470271, 0.0761927855800581, 0.0757144000559619, 0.07534728928124558, 0.07512461282062739, 0.07459797819115009, 0.07446654948000454, 0.07433492245921086, 0.07413121631769175, 0.07398351952752916, 0.07364974813596506, 0.07325129908848896, 0.07299968614491126, 0.07269914361275978, 0.07255463124873338, 0.072246877115746, 0.07189956421050293, 0.07156250125955815, 0.07123158552465068, 0.07099332844141344, 0.0708389684636716, 0.07069865082986021, 0.07060716061804839, 0.07050123013497578, 0.07034447130876448, 0.07013979006582012, 0.06985327026358282, 0.06968767621581808, 0.06950245343298768, 0.06939304048197027, 0.06913483392528003, 0.06882458260117129, 0.06857446312566891, 0.0683987765040868, 0.06811837164583456, 0.0676663251958353, 0.06744794454973044, 0.06716636931538451, 0.06692946871009225, 0.06673042265231213, 0.06651144750279062, 0.06633823729365289, 0.06613921278171662, 0.06583237118174011, 0.06571607567742431, 0.06556094727517028, 0.0654256431809815, 0.06526945060005614, 0.06515753646444754, 0.06491431982203894, 0.06466454530571973, 0.06434697025382398, 0.06410016260994307, 0.06384527492353091, 0.06374786271892231, 0.06358357792906097, 0.06336883523676091, 0.06316612608588959, 0.063009204547523, 0.06259096662082866, 0.06220864656867993, 0.06187301740001274, 0.061606944078213835, 0.061490016100196505, 0.06138543123134593, 0.06093366769552454, 0.06082796390250046, 0.060683999878769435, 0.060406005903561696, 0.060300445048433376, 0.06008675880340297, 0.05987328248816324, 0.059785575399063, 0.059532838437962296, 0.05942373589824913, 0.05919381251437274, 0.0590843955031287, 0.05894847970442672, 0.0588616778692301, 0.05871880586919342, 0.0585164996843969, 0.058247489951095896, 0.0580579138266488, 0.05796779541391448, 0.05779495154384007, 0.05758725840884112, 0.05737265890720744, 0.057096533958343444, 0.056755939034083706, 0.05657889395064673, 0.05650516743691284, 0.056385299098603014, 0.056165062801400274, 0.05598137514743929, 0.055805202052172466, 0.05561486959943628, 0.05539674201367366, 0.055248700243352884, 0.055174502814936056, 0.05504720527242008, 0.054854344675384054, 0.05465626381844716, 0.05441425571006821, 0.054321864215320016, 0.05422397370855245, 0.054132542306278134, 0.054018135277103745, 0.053913380957894295, 0.05350929818760032, 0.05335322677068506, 0.053137259044761895, 0.0529853645767937, 0.05291248033689098, 0.0528016463876509, 0.052619848530875264, 0.05248653781929727, 0.05232689644282808, 0.05223175810992913, 0.052071441336928426, 0.05193101323885985, 0.05179222829079581, 0.05164174798776633, 0.051463255122452485, 0.05136482924190692, 0.05126208446437609, 0.05111254443329912, 0.05096260445183703, 0.05076406081394108, 0.050585766109436166, 0.05022525058509195, 0.049980772689551096, 0.04981995178712837, 0.04972787226107398, 0.04946904142892564, 0.04933581368255013, 0.04907891802511392, 0.04890859374741515, 0.04876312693087295, 0.04866005653076685, 0.04851637457034035, 0.048359235307631476, 0.04823567826344621, 0.04792507343414269, 0.04781370295202549, 0.047613306661077395, 0.047416968503621586, 0.047102836998163915, 0.04698971658903395, 0.04684508335420058]}, 'validation': {'MultiClass': [1.8687893057846539, 1.70665197885039, 1.572574937607013, 1.4587754585510238, 1.3688786249925151, 1.271668426706781, 1.1952174215595142, 1.1269094110976487, 1.0634902674646451, 1.0072304128101142, 0.9531549377523579, 0.903603547018678, 0.8622467623451923, 0.82226363224995, 0.7828623349897927, 0.7442451118221088, 0.7112397832374824, 0.677802985229342, 0.6492967502067077, 0.622246496924175, 0.5974757216310809, 0.573643407838484, 0.5510679287830821, 0.5313098444809187, 0.5115817784840966, 0.4930550793473336, 0.4774798105268674, 0.4616656216673402, 0.4468804195992906, 0.432945630402711, 0.42009749602789614, 0.4064029423123654, 0.3942573187319655, 0.3825023569891127, 0.37088215130514435, 0.3602204370392706, 0.34969523580305195, 0.340301426709758, 0.33336663096060837, 0.3250641112083588, 0.31661653796885464, 0.3093950731722102, 0.3015706479499447, 0.29457209604694096, 0.2874440490144762, 0.28168436305752753, 0.27534733950215384, 0.26934026135833117, 0.2639823979447168, 0.2588168838589775, 0.2531948560525936, 0.2480391129398878, 0.24463446316258047, 0.24013640852493937, 0.23539271807367354, 0.23075891660546285, 0.22722416326032918, 0.22274947615132826, 0.22112753048067177, 0.21873649506859877, 0.21598263777295387, 0.2125711071421663, 0.2089901015244884, 0.20665561466910956, 0.20427966549055526, 0.20106692754799904, 0.1984170983176413, 0.1969571180894993, 0.19476654833443416, 0.19194167412761917, 0.19021373599871338, 0.18809044745066808, 0.18689419855000927, 0.18445826041017413, 0.1821667763020576, 0.1801810983109065, 0.17888083236482627, 0.17780926927047452, 0.17666700216763762, 0.17561546822674043, 0.1742525168569744, 0.17271246830021886, 0.17099323631030727, 0.17028871735778237, 0.1686943722308306, 0.16799559772634298, 0.16729112311383235, 0.16666966245260437, 0.16513036025544423, 0.16440571937176193, 0.16360380315913434, 0.16266941773768484, 0.16211291165763642, 0.16080173019172175, 0.16062684924752346, 0.1591207910020766, 0.15824840742809992, 0.15775865522963956, 0.15761102493245258, 0.1566427896809814, 0.15641437476580541, 0.15527726352131196, 0.15475003280437882, 0.15419973074147975, 0.15266327957624584, 0.15239570440661618, 0.15159354651548188, 0.15133331104821002, 0.15048473182910374, 0.15020026672930792, 0.14973562235047097, 0.14940650138784511, 0.14819050821295596, 0.14744252321486034, 0.1469294778679558, 0.14638179788957792, 0.14586538401214386, 0.14563598992146262, 0.14556093305578274, 0.14502396506537693, 0.14493550046909306, 0.14491075184843447, 0.14448870045069534, 0.1436524808132411, 0.1432447713386755, 0.14286389242449832, 0.14237199506700046, 0.1422124567485399, 0.14219995075770064, 0.14162279157591628, 0.14158058032501714, 0.14151424813699937, 0.1411956994680322, 0.1411663871455113, 0.1407405929462028, 0.14014738486391695, 0.14025848831015975, 0.14004197513956115, 0.14004914425772616, 0.13987685847335207, 0.1397131716661041, 0.1394610818174601, 0.13867419644743162, 0.13845863886368676, 0.13756835937763923, 0.13712760666162727, 0.1370215754153661, 0.13696388893612513, 0.13670671034121484, 0.1365351435040821, 0.13640893215713992, 0.13625733263800285, 0.13609784243121628, 0.13598127119891792, 0.13589826186735385, 0.1357906587078216, 0.13566334908198854, 0.13574279088340338, 0.13545804112861404, 0.13545683569537714, 0.13532335432658324, 0.13526754049503972, 0.13495750864223482, 0.13476311734224364, 0.13474599920200786, 0.13474913573985065, 0.13468271387038913, 0.13461722367372467, 0.1345767891882705, 0.1345921244252917, 0.13451927980007383, 0.13403983308437295, 0.13398117523411412, 0.13385264840997602, 0.13326492687212585, 0.13306830902910577, 0.13293562787916477, 0.13311097659290932, 0.1332232122414686, 0.1331607752511636, 0.13324517286588572, 0.13314065800655286, 0.13309325241370726, 0.1331731010926907, 0.13327082524663192, 0.13321395692895738, 0.133252458100526, 0.13330651788575254, 0.1332409110323661, 0.13320939935481785, 0.1333445457323619, 0.13339599170500624, 0.13334320150221177, 0.13273502476113938, 0.13202148749443637, 0.13207373637671702, 0.1320394953590648, 0.1320083001122776, 0.1321142110094639, 0.13212080207397744, 0.1320901581646504, 0.13208970157172462, 0.13204423104166502, 0.13143154584842073, 0.13148384698843688, 0.13146270754399159, 0.130920741542822, 0.13096050010906243, 0.13093849090025558, 0.13091247450524104, 0.13097005038774043, 0.130703866208929, 0.13068576972562387, 0.13040658347384326, 0.13051629666985748, 0.13050903196963515, 0.13025768709652855, 0.13041198919122868, 0.1305024255673605, 0.1304835338637741, 0.13055258816351653, 0.13050279499862777, 0.13053642510622887, 0.13049256305033355, 0.13056247801214949, 0.1305906871162247, 0.1306446375610322, 0.1305377329194198, 0.13036537939451612, 0.13028569566371623, 0.13023777661941924, 0.1301879639867948, 0.1302979929648751, 0.13015256711812134, 0.13015555302805107, 0.12996776793648432, 0.12966784488400304, 0.12985448253757867, 0.130094720909067, 0.1298540749663889, 0.12967943747315402, 0.12983590242064502, 0.12980668026457962, 0.12949322600605995, 0.12970015086691108, 0.1297730572093186, 0.12960566674959062, 0.1295172697641413, 0.12944654879018577, 0.12947284416315125, 0.1296479720755836, 0.129611752066934, 0.12928808285218765, 0.1289474075830001, 0.1290387863954928, 0.12903615070237479, 0.12894598260364445, 0.1291384170917641, 0.12933161625463963, 0.12932546058848599, 0.128881245039981, 0.12883161403832907, 0.1288455696233238, 0.1287947144453765, 0.1287881088940278, 0.12870797345804644, 0.1282557683943836, 0.12827369486682882, 0.1282004440527966, 0.12807811316600656, 0.12809483311744785, 0.12822730804195595, 0.12828467325533202, 0.12828253113464516, 0.12831488531105245, 0.12827092262048465, 0.1282858394429675, 0.12820149045850382, 0.12823381722392316, 0.12831833678338964, 0.12828969453394898, 0.12842553414416397, 0.12847241733682963, 0.12821657690119997, 0.12828065944381392, 0.12831641304603914, 0.12856196156089716, 0.1284764330533829, 0.12840310534396465, 0.12789946709727906, 0.12785395233949123, 0.1278415253734264, 0.1278666282747046, 0.12797770798694905, 0.12799851426006792, 0.12818133443334867, 0.12813205849803855, 0.12808174064634684, 0.12805214604005213, 0.12797319883082883, 0.12800400998215156, 0.12799323623391096, 0.12790744687692668, 0.12752484044912782, 0.12759496797486564, 0.12763151238928638, 0.12764768495496243, 0.12764407658358187, 0.12764441932836532, 0.12710035990799476, 0.12714581073026338, 0.1268915155746194, 0.12703178162299766, 0.12700304847714328, 0.12695063003227297, 0.12670072007943944, 0.1266432410997978, 0.12692626231374465, 0.12689577754523898, 0.12701061335903072, 0.12681852869273005, 0.12693415597116287, 0.12682496074854963, 0.1266341754394567, 0.12662026551724534, 0.12667401646860788, 0.1266638309751327, 0.12677851198447068, 0.12686712948300424, 0.12699399388251817, 0.1266387031834799, 0.12672973847796007, 0.12674015856468543, 0.1266244970303401, 0.12635838914476819, 0.12629959233168145, 0.12594551831499085, 0.12594153114947848, 0.1260314402662368, 0.12597865857489948, 0.12592005791037156, 0.12608789808914278, 0.1261686536729475, 0.12636988071033545, 0.126339163506722, 0.1262886114308726, 0.12615049874576587, 0.12567904837444435, 0.1256756989075565, 0.12560497720346184]}}\n"
          ]
        }
      ]
    },
    {
      "cell_type": "code",
      "source": [
        "# Retrieve evaluation results\n",
        "learning_curve = final_model.get_evals_result()\n",
        "\n",
        "# Extract the metric values\n",
        "# Assuming 'learn' corresponds to the training dataset\n",
        "train_metric_values = learning_curve.get('learn', {}).get('MultiClass', [])\n",
        "\n",
        "# Check the extracted values\n",
        "if train_metric_values:\n",
        "    print(\"Training metric values:\", train_metric_values)\n",
        "else:\n",
        "    print(\"Metric 'MultiClass' not found in evaluation results.\")\n"
      ],
      "metadata": {
        "id": "3baCXa2jGafB",
        "colab": {
          "base_uri": "https://localhost:8080/"
        },
        "outputId": "521aa390-5120-4252-cf70-53687810300a"
      },
      "id": "3baCXa2jGafB",
      "execution_count": 32,
      "outputs": [
        {
          "output_type": "stream",
          "name": "stdout",
          "text": [
            "Training metric values: [1.869730336831336, 1.706894100534203, 1.5725446023402476, 1.457380028588553, 1.367790085837346, 1.2697206070743072, 1.195605818661207, 1.1276485162783183, 1.0642918139757507, 1.0073041068841686, 0.9528068888757993, 0.9029742486651884, 0.8607231861899045, 0.8195865220170393, 0.7795917848415584, 0.7406356465918492, 0.7066738147411766, 0.6724854815906146, 0.644302699101523, 0.6172398769363107, 0.5916629084246011, 0.5675507230008173, 0.5447644706953719, 0.5240464403591887, 0.5041893825350372, 0.4854001600892004, 0.4688100661243814, 0.4531413942204533, 0.43804865661157416, 0.4239565054027473, 0.41016375117113263, 0.3964522024346649, 0.3841796165770497, 0.37208761609192226, 0.3603349330052586, 0.34966142869687006, 0.33880811806973266, 0.3291651513394543, 0.3216417856388621, 0.3131623242512842, 0.3047211426426672, 0.29682917897327327, 0.2886589437217721, 0.2812333317131661, 0.2737020631455158, 0.26708159890886546, 0.2600010839900025, 0.2535757019966131, 0.24824973094094277, 0.24276333558377566, 0.2371374946311592, 0.23162201799394294, 0.22764941925621307, 0.22313122191654366, 0.21835697367010629, 0.2136446645521039, 0.209561986513189, 0.2051905284942166, 0.202927156997549, 0.2003722165561606, 0.19679263347520934, 0.1929881471126355, 0.18958178012845817, 0.18652739274986985, 0.18372556562592182, 0.1806000664524487, 0.17775595219698248, 0.17505501133750673, 0.1725776629494675, 0.16939640114443988, 0.16712439182320987, 0.16465994282435115, 0.16322372235703075, 0.16058968727249606, 0.15801994801843058, 0.15572079210968326, 0.1540725799433018, 0.15262115760730635, 0.15117903025646864, 0.14955124445530157, 0.14812337165381148, 0.14608879919339143, 0.14419523196248119, 0.1427981176389022, 0.14078989543985224, 0.1396397420462348, 0.13823433837723628, 0.13757649482319764, 0.13584570963284565, 0.13495791303129936, 0.1337542820352338, 0.1322352410187517, 0.13104983057036773, 0.13002311914741344, 0.1293593887860032, 0.127920015597502, 0.1267719741884367, 0.12604375163757436, 0.1255182066043098, 0.12441658477560927, 0.1237941795197047, 0.12245892916692847, 0.1218129754253261, 0.12097894262601343, 0.11942613992663643, 0.11883397867130058, 0.11778012252090504, 0.11721894012333034, 0.11618310598213424, 0.11523024771256615, 0.11450388458250486, 0.11384792376382152, 0.11282737769856077, 0.11184084917986147, 0.11109028252521916, 0.11053904031917725, 0.1098949028616571, 0.10944862277537194, 0.1091074904770407, 0.10818772926958686, 0.10769471287911246, 0.107195120817808, 0.10635646162598979, 0.10536380809442895, 0.1047027843879987, 0.1038836020159816, 0.10306165039613589, 0.10262166862387714, 0.10215736345400857, 0.10149275272545989, 0.10122446533188219, 0.1009383176948696, 0.10060325821879725, 0.10040358654855758, 0.0996062078035324, 0.09882580958766658, 0.09852644966474115, 0.09811958536170123, 0.09786112590880283, 0.097450519567507, 0.09679215575331512, 0.09615761424600533, 0.09529358372113111, 0.09494157380036768, 0.09419837692467194, 0.09369365323630328, 0.0933777552162999, 0.09301591499139579, 0.09268485645051666, 0.09231590694635755, 0.09202960912794293, 0.09174033528268531, 0.09120494554988968, 0.09089695817131421, 0.09073882079709965, 0.09040421785572389, 0.09012471627904467, 0.08993793447600582, 0.08961851056578204, 0.08923067547821564, 0.08882548719491311, 0.08865855880322955, 0.08848604302791804, 0.08812540977285113, 0.08781176509200422, 0.08739855737207623, 0.0870235385227268, 0.0867707475439899, 0.08642046485740815, 0.0860297800225242, 0.0857573816750621, 0.08545585805076632, 0.08523865119321059, 0.08485040116354652, 0.08419899268169934, 0.08386799918535774, 0.08366899805681915, 0.0833868576771334, 0.08300075423689503, 0.08255510112963269, 0.08234262169517059, 0.08213259457700638, 0.08194102860555745, 0.08161064881734696, 0.08144135344863909, 0.0812310913302252, 0.08096110776307895, 0.08064651685790332, 0.08040412542816998, 0.0802645441145587, 0.08004683783032938, 0.07981022894191651, 0.0795879948145925, 0.07889866603093176, 0.07843801925685659, 0.07808048578757609, 0.07792064221148362, 0.07748293287221458, 0.0772752790725104, 0.07698162673346945, 0.07666234716643947, 0.07634058767470271, 0.0761927855800581, 0.0757144000559619, 0.07534728928124558, 0.07512461282062739, 0.07459797819115009, 0.07446654948000454, 0.07433492245921086, 0.07413121631769175, 0.07398351952752916, 0.07364974813596506, 0.07325129908848896, 0.07299968614491126, 0.07269914361275978, 0.07255463124873338, 0.072246877115746, 0.07189956421050293, 0.07156250125955815, 0.07123158552465068, 0.07099332844141344, 0.0708389684636716, 0.07069865082986021, 0.07060716061804839, 0.07050123013497578, 0.07034447130876448, 0.07013979006582012, 0.06985327026358282, 0.06968767621581808, 0.06950245343298768, 0.06939304048197027, 0.06913483392528003, 0.06882458260117129, 0.06857446312566891, 0.0683987765040868, 0.06811837164583456, 0.0676663251958353, 0.06744794454973044, 0.06716636931538451, 0.06692946871009225, 0.06673042265231213, 0.06651144750279062, 0.06633823729365289, 0.06613921278171662, 0.06583237118174011, 0.06571607567742431, 0.06556094727517028, 0.0654256431809815, 0.06526945060005614, 0.06515753646444754, 0.06491431982203894, 0.06466454530571973, 0.06434697025382398, 0.06410016260994307, 0.06384527492353091, 0.06374786271892231, 0.06358357792906097, 0.06336883523676091, 0.06316612608588959, 0.063009204547523, 0.06259096662082866, 0.06220864656867993, 0.06187301740001274, 0.061606944078213835, 0.061490016100196505, 0.06138543123134593, 0.06093366769552454, 0.06082796390250046, 0.060683999878769435, 0.060406005903561696, 0.060300445048433376, 0.06008675880340297, 0.05987328248816324, 0.059785575399063, 0.059532838437962296, 0.05942373589824913, 0.05919381251437274, 0.0590843955031287, 0.05894847970442672, 0.0588616778692301, 0.05871880586919342, 0.0585164996843969, 0.058247489951095896, 0.0580579138266488, 0.05796779541391448, 0.05779495154384007, 0.05758725840884112, 0.05737265890720744, 0.057096533958343444, 0.056755939034083706, 0.05657889395064673, 0.05650516743691284, 0.056385299098603014, 0.056165062801400274, 0.05598137514743929, 0.055805202052172466, 0.05561486959943628, 0.05539674201367366, 0.055248700243352884, 0.055174502814936056, 0.05504720527242008, 0.054854344675384054, 0.05465626381844716, 0.05441425571006821, 0.054321864215320016, 0.05422397370855245, 0.054132542306278134, 0.054018135277103745, 0.053913380957894295, 0.05350929818760032, 0.05335322677068506, 0.053137259044761895, 0.0529853645767937, 0.05291248033689098, 0.0528016463876509, 0.052619848530875264, 0.05248653781929727, 0.05232689644282808, 0.05223175810992913, 0.052071441336928426, 0.05193101323885985, 0.05179222829079581, 0.05164174798776633, 0.051463255122452485, 0.05136482924190692, 0.05126208446437609, 0.05111254443329912, 0.05096260445183703, 0.05076406081394108, 0.050585766109436166, 0.05022525058509195, 0.049980772689551096, 0.04981995178712837, 0.04972787226107398, 0.04946904142892564, 0.04933581368255013, 0.04907891802511392, 0.04890859374741515, 0.04876312693087295, 0.04866005653076685, 0.04851637457034035, 0.048359235307631476, 0.04823567826344621, 0.04792507343414269, 0.04781370295202549, 0.047613306661077395, 0.047416968503621586, 0.047102836998163915, 0.04698971658903395, 0.04684508335420058]\n"
          ]
        }
      ]
    },
    {
      "cell_type": "code",
      "source": [
        "import matplotlib.pyplot as plt\n",
        "\n",
        "# Plotting the learning curve\n",
        "plt.plot(train_metric_values, label='Training MultiClass Metric')\n",
        "plt.xlabel('Iterations')\n",
        "plt.ylabel('Metric Value')\n",
        "plt.title('Learning Curve')\n",
        "plt.legend()\n",
        "plt.grid()\n",
        "plt.show()\n"
      ],
      "metadata": {
        "id": "p0vioY6FGjQb",
        "colab": {
          "base_uri": "https://localhost:8080/",
          "height": 472
        },
        "outputId": "24e06ee7-0076-4824-b384-d0be122a5b5b"
      },
      "id": "p0vioY6FGjQb",
      "execution_count": 33,
      "outputs": [
        {
          "output_type": "display_data",
          "data": {
            "text/plain": [
              "<Figure size 640x480 with 1 Axes>"
            ],
            "image/png": "[encoded data removed]"
          },
          "metadata": {}
        }
      ]
    },
    {
      "cell_type": "code",
      "source": [
        "# Predictions\n",
        "y_pred_train = final_model.predict(X_train)\n",
        "y_pred_test = final_model.predict(X_test)\n",
        "\n",
        "print(\"Classification Report - Training Set:\")\n",
        "print(classification_report(y_train, y_pred_train))\n",
        "\n",
        "print(\"Classification Report - Test Set:\")\n",
        "print(classification_report(y_test, y_pred_test))\n",
        "\n",
        "conf_matrix_train = confusion_matrix(y_train, y_pred_train)\n",
        "conf_matrix_test = confusion_matrix(y_test, y_pred_test)\n",
        "\n",
        "plt.figure(figsize=(15, 5))\n",
        "\n",
        "plt.subplot(1, 3, 1)\n",
        "sns.heatmap(conf_matrix_train, annot=True, fmt=\"d\", cmap=\"Blues\", cbar=False)\n",
        "plt.title(\"Confusion Matrix - Training Set\")\n",
        "plt.xlabel(\"Predicted\")\n",
        "plt.ylabel(\"True\")\n",
        "\n",
        "plt.subplot(1, 3, 2)\n",
        "sns.heatmap(conf_matrix_test, annot=True, fmt=\"d\", cmap=\"Blues\", cbar=False)\n",
        "plt.title(\"Confusion Matrix - Test Set\")\n",
        "plt.xlabel(\"Predicted\")\n",
        "plt.ylabel(\"True\")\n",
        "\n",
        "plt.tight_layout()\n",
        "plt.savefig('C-Matrix.svg', format='svg')\n",
        "plt.show()\n",
        "\n",
        "end_time = datetime.now()\n",
        "print('Deployment Duration: {}'.format(end_time - start_time))"
      ],
      "metadata": {
        "id": "EGySyu_OHNqG",
        "colab": {
          "base_uri": "https://localhost:8080/",
          "height": 1000
        },
        "outputId": "1484afea-dfb2-4aeb-bd3b-6584ca4d139e"
      },
      "id": "EGySyu_OHNqG",
      "execution_count": 34,
      "outputs": [
        {
          "output_type": "stream",
          "name": "stdout",
          "text": [
            "Classification Report - Training Set:\n",
            "              precision    recall  f1-score   support\n",
            "\n",
            "    F1_IR007       1.00      1.00      1.00       160\n",
            "    F2_IR009       0.99      1.00      1.00       167\n",
            "    F3_IR013       0.98      1.00      0.99       168\n",
            "    F4_IR017       1.00      0.99      1.00       143\n",
            "    F5_OR009       0.99      0.97      0.98       148\n",
            "    F6_OR013       0.99      0.98      0.99       170\n",
            "    F7_OR017       0.97      0.98      0.98       153\n",
            "   F8_Normal       1.00      1.00      1.00       148\n",
            "\n",
            "    accuracy                           0.99      1257\n",
            "   macro avg       0.99      0.99      0.99      1257\n",
            "weighted avg       0.99      0.99      0.99      1257\n",
            "\n",
            "Classification Report - Test Set:\n",
            "              precision    recall  f1-score   support\n",
            "\n",
            "    F1_IR007       1.00      1.00      1.00        46\n",
            "    F2_IR009       0.98      1.00      0.99        44\n",
            "    F3_IR013       0.96      0.96      0.96        45\n",
            "    F4_IR017       1.00      1.00      1.00        46\n",
            "    F5_OR009       1.00      0.92      0.96        36\n",
            "    F6_OR013       0.90      1.00      0.95        27\n",
            "    F7_OR017       1.00      0.97      0.99        38\n",
            "   F8_Normal       1.00      1.00      1.00        33\n",
            "\n",
            "    accuracy                           0.98       315\n",
            "   macro avg       0.98      0.98      0.98       315\n",
            "weighted avg       0.98      0.98      0.98       315\n",
            "\n"
          ]
        },
        {
          "output_type": "display_data",
          "data": {
            "text/plain": [
              "<Figure size 1500x500 with 2 Axes>"
            ],
            "image/png": "[encoded data removed]"
          },
          "metadata": {}
        },
        {
          "output_type": "stream",
          "name": "stdout",
          "text": [
            "Deployment Duration: 0:09:37.563181\n"
          ]
        }
      ]
    },
    {
      "cell_type": "code",
      "source": [
        "final_model.fit(X_train, y_train, eval_set=(X_test, y_test))\n",
        "\n",
        "# Evaluate train accuracy\n",
        "result_train = final_model.score(X_train, y_train)\n",
        "print(\"Train Accuracy : {}\".format(result_train))\n",
        "\n",
        "# Evaluate test accuracy\n",
        "result_test = final_model.score(X_test, y_test)\n",
        "print(\"Test Accuracy : {}\".format(result_test))\n",
        "\n",
        "# Predictions\n",
        "y_pred_train = final_model.predict(X_train)\n",
        "y_pred_test = final_model.predict(X_test)\n",
        "\n",
        "# Classification report\n",
        "print(\"Classification Report - Training Set:\")\n",
        "print(classification_report(y_train, y_pred_train))\n",
        "\n",
        "print(\"Classification Report - Test Set:\")\n",
        "print(classification_report(y_test, y_pred_test))"
      ],
      "metadata": {
        "id": "tEOwmxFROH5f",
        "colab": {
          "base_uri": "https://localhost:8080/"
        },
        "outputId": "326cd5ab-b80b-4c94-e188-e72cc980c664"
      },
      "id": "tEOwmxFROH5f",
      "execution_count": 35,
      "outputs": [
        {
          "output_type": "stream",
          "name": "stdout",
          "text": [
            "0:\tlearn: 1.8697303\ttest: 1.8687893\tbest: 1.8687893 (0)\ttotal: 9.19ms\tremaining: 3.21s\n",
            "10:\tlearn: 0.9528069\ttest: 0.9531549\tbest: 0.9531549 (10)\ttotal: 84.5ms\tremaining: 2.6s\n",
            "20:\tlearn: 0.5916629\ttest: 0.5974757\tbest: 0.5974757 (20)\ttotal: 161ms\tremaining: 2.52s\n",
            "30:\tlearn: 0.4101638\ttest: 0.4200975\tbest: 0.4200975 (30)\ttotal: 238ms\tremaining: 2.45s\n",
            "40:\tlearn: 0.3047211\ttest: 0.3166165\tbest: 0.3166165 (40)\ttotal: 309ms\tremaining: 2.33s\n",
            "50:\tlearn: 0.2371375\ttest: 0.2531949\tbest: 0.2531949 (50)\ttotal: 413ms\tremaining: 2.42s\n",
            "60:\tlearn: 0.1967926\ttest: 0.2159826\tbest: 0.2159826 (60)\ttotal: 470ms\tremaining: 2.23s\n",
            "70:\tlearn: 0.1671244\ttest: 0.1902137\tbest: 0.1902137 (70)\ttotal: 514ms\tremaining: 2.02s\n",
            "80:\tlearn: 0.1481234\ttest: 0.1742525\tbest: 0.1742525 (80)\ttotal: 543ms\tremaining: 1.8s\n",
            "90:\tlearn: 0.1337543\ttest: 0.1636038\tbest: 0.1636038 (90)\ttotal: 573ms\tremaining: 1.63s\n",
            "100:\tlearn: 0.1237942\ttest: 0.1564144\tbest: 0.1564144 (100)\ttotal: 612ms\tremaining: 1.51s\n",
            "110:\tlearn: 0.1145039\ttest: 0.1497356\tbest: 0.1497356 (110)\ttotal: 737ms\tremaining: 1.59s\n",
            "120:\tlearn: 0.1076947\ttest: 0.1449355\tbest: 0.1449355 (120)\ttotal: 821ms\tremaining: 1.55s\n",
            "130:\tlearn: 0.1012245\ttest: 0.1415806\tbest: 0.1415806 (130)\ttotal: 933ms\tremaining: 1.56s\n",
            "140:\tlearn: 0.0967922\ttest: 0.1397132\tbest: 0.1397132 (140)\ttotal: 987ms\tremaining: 1.46s\n",
            "150:\tlearn: 0.0920296\ttest: 0.1364089\tbest: 0.1364089 (150)\ttotal: 1.04s\tremaining: 1.37s\n",
            "160:\tlearn: 0.0888255\ttest: 0.1353234\tbest: 0.1353234 (160)\ttotal: 1.07s\tremaining: 1.25s\n",
            "170:\tlearn: 0.0857574\ttest: 0.1345193\tbest: 0.1345193 (170)\ttotal: 1.13s\tremaining: 1.18s\n",
            "180:\tlearn: 0.0823426\ttest: 0.1332452\tbest: 0.1329356 (176)\ttotal: 1.22s\tremaining: 1.13s\n",
            "190:\tlearn: 0.0800468\ttest: 0.1333445\tbest: 0.1329356 (176)\ttotal: 1.32s\tremaining: 1.1s\n",
            "200:\tlearn: 0.0766623\ttest: 0.1320902\tbest: 0.1320083 (197)\ttotal: 1.41s\tremaining: 1.04s\n",
            "210:\tlearn: 0.0739835\ttest: 0.1309701\tbest: 0.1309125 (209)\ttotal: 1.51s\tremaining: 995ms\n",
            "220:\tlearn: 0.0709933\ttest: 0.1305526\tbest: 0.1302577 (216)\ttotal: 1.59s\tremaining: 926ms\n",
            "230:\tlearn: 0.0693930\ttest: 0.1302378\tbest: 0.1302378 (230)\ttotal: 1.67s\tremaining: 861ms\n",
            "240:\tlearn: 0.0667304\ttest: 0.1296794\tbest: 0.1296678 (236)\ttotal: 1.75s\tremaining: 792ms\n",
            "250:\tlearn: 0.0649143\ttest: 0.1296480\tbest: 0.1294465 (248)\ttotal: 1.8s\tremaining: 708ms\n",
            "260:\tlearn: 0.0625910\ttest: 0.1288812\tbest: 0.1288812 (260)\ttotal: 1.82s\tremaining: 622ms\n",
            "270:\tlearn: 0.0603004\ttest: 0.1280948\tbest: 0.1280781 (269)\ttotal: 1.85s\tremaining: 541ms\n",
            "280:\tlearn: 0.0587188\ttest: 0.1282897\tbest: 0.1280781 (269)\ttotal: 1.96s\tremaining: 482ms\n",
            "290:\tlearn: 0.0565789\ttest: 0.1278540\tbest: 0.1278540 (290)\ttotal: 2s\tremaining: 405ms\n",
            "300:\tlearn: 0.0550472\ttest: 0.1280040\tbest: 0.1278415 (291)\ttotal: 2.04s\tremaining: 333ms\n",
            "310:\tlearn: 0.0533532\ttest: 0.1271458\tbest: 0.1271004 (309)\ttotal: 2.08s\tremaining: 261ms\n",
            "320:\tlearn: 0.0519310\ttest: 0.1268185\tbest: 0.1266432 (316)\ttotal: 2.11s\tremaining: 191ms\n",
            "330:\tlearn: 0.0502253\ttest: 0.1266387\tbest: 0.1266203 (324)\ttotal: 2.18s\tremaining: 125ms\n",
            "340:\tlearn: 0.0485164\ttest: 0.1259201\tbest: 0.1259201 (340)\ttotal: 2.26s\tremaining: 59.7ms\n",
            "349:\tlearn: 0.0468451\ttest: 0.1256050\tbest: 0.1256050 (349)\ttotal: 2.34s\tremaining: 0us\n",
            "\n",
            "bestTest = 0.1256049772\n",
            "bestIteration = 349\n",
            "\n",
            "Train Accuracy : 0.9904534606205251\n",
            "Test Accuracy : 0.9809523809523809\n",
            "Classification Report - Training Set:\n",
            "              precision    recall  f1-score   support\n",
            "\n",
            "    F1_IR007       1.00      1.00      1.00       160\n",
            "    F2_IR009       0.99      1.00      1.00       167\n",
            "    F3_IR013       0.98      1.00      0.99       168\n",
            "    F4_IR017       1.00      0.99      1.00       143\n",
            "    F5_OR009       0.99      0.97      0.98       148\n",
            "    F6_OR013       0.99      0.98      0.99       170\n",
            "    F7_OR017       0.97      0.98      0.98       153\n",
            "   F8_Normal       1.00      1.00      1.00       148\n",
            "\n",
            "    accuracy                           0.99      1257\n",
            "   macro avg       0.99      0.99      0.99      1257\n",
            "weighted avg       0.99      0.99      0.99      1257\n",
            "\n",
            "Classification Report - Test Set:\n",
            "              precision    recall  f1-score   support\n",
            "\n",
            "    F1_IR007       1.00      1.00      1.00        46\n",
            "    F2_IR009       0.98      1.00      0.99        44\n",
            "    F3_IR013       0.96      0.96      0.96        45\n",
            "    F4_IR017       1.00      1.00      1.00        46\n",
            "    F5_OR009       1.00      0.92      0.96        36\n",
            "    F6_OR013       0.90      1.00      0.95        27\n",
            "    F7_OR017       1.00      0.97      0.99        38\n",
            "   F8_Normal       1.00      1.00      1.00        33\n",
            "\n",
            "    accuracy                           0.98       315\n",
            "   macro avg       0.98      0.98      0.98       315\n",
            "weighted avg       0.98      0.98      0.98       315\n",
            "\n"
          ]
        }
      ]
    }
  ],
  "metadata": {
    "kernelspec": {
      "display_name": "Python 3",
      "name": "python3"
    },
    "language_info": {
      "codemirror_mode": {
        "name": "ipython",
        "version": 3
      },
      "file_extension": ".py",
      "mimetype": "text/x-python",
      "name": "python",
      "nbconvert_exporter": "python",
      "pygments_lexer": "ipython3",
      "version": "3.11.2"
    },
    "colab": {
      "provenance": [],
      "gpuType": "T4",
      "include_colab_link": true
    },
    "accelerator": "GPU",
    "widgets": {
      "application/vnd.jupyter.widget-state+json": {
        "5792cd0be37a4ac582d6110984335e35": {
          "model_module": "catboost-widget",
          "model_name": "CatboostWidgetModel",
          "model_module_version": "^1.0.0",
          "state": {
            "_dom_classes": [],
            "_model_module": "catboost-widget",
            "_model_module_version": "^1.0.0",
            "_model_name": "CatboostWidgetModel",
            "_view_count": null,
            "_view_module": "catboost-widget",
            "_view_module_version": "^1.0.0",
            "_view_name": "CatboostWidgetView",
            "data": {
              "catboost_info": {
                "path": "catboost_info",
                "name": "catboost_info",
                "content": {
                  "passed_iterations": 349,
                  "total_iterations": 350,
                  "data": {
                    "iterations": [
                      {
                        "learn": [
                          1.869730337
                        ],
                        "iteration": 0,
                        "passed_time": 0.004862605851,
                        "remaining_time": 1.697049442,
                        "test": [
                          1.868789306
                        ]
                      },
                      {
                        "learn": [
                          1.706894101
                        ],
                        "iteration": 1,
                        "passed_time": 0.008048992361,
                        "remaining_time": 1.400524671,
                        "test": [
                          1.706651979
                        ]
                      },
                      {
                        "learn": [
                          1.572544602
                        ],
                        "iteration": 2,
                        "passed_time": 0.01520832741,
                        "remaining_time": 1.759096537,
                        "test": [
                          1.572574938
                        ]
                      },
                      {
                        "learn": [
                          1.457380029
                        ],
                        "iteration": 3,
                        "passed_time": 0.0204845712,
                        "remaining_time": 1.771915409,
                        "test": [
                          1.458775459
                        ]
                      },
                      {
                        "learn": [
                          1.367790086
                        ],
                        "iteration": 4,
                        "passed_time": 0.02833287523,
                        "remaining_time": 1.954968391,
                        "test": [
                          1.368878625
                        ]
                      },
                      {
                        "learn": [
                          1.269720607
                        ],
                        "iteration": 5,
                        "passed_time": 0.03693278424,
                        "remaining_time": 2.11747963,
                        "test": [
                          1.271668427
                        ]
                      },
                      {
                        "learn": [
                          1.195605819
                        ],
                        "iteration": 6,
                        "passed_time": 0.04510865628,
                        "remaining_time": 2.210324158,
                        "test": [
                          1.195217422
                        ]
                      },
                      {
                        "learn": [
                          1.127648516
                        ],
                        "iteration": 7,
                        "passed_time": 0.0540367692,
                        "remaining_time": 2.310071883,
                        "test": [
                          1.126909411
                        ]
                      },
                      {
                        "learn": [
                          1.064291814
                        ],
                        "iteration": 8,
                        "passed_time": 0.0591815697,
                        "remaining_time": 2.242323919,
                        "test": [
                          1.063490267
                        ]
                      },
                      {
                        "learn": [
                          1.007304107
                        ],
                        "iteration": 9,
                        "passed_time": 0.0667076057,
                        "remaining_time": 2.268058594,
                        "test": [
                          1.007230413
                        ]
                      },
                      {
                        "learn": [
                          0.9528068889
                        ],
                        "iteration": 10,
                        "passed_time": 0.07465017371,
                        "remaining_time": 2.300582626,
                        "test": [
                          0.9531549378
                        ]
                      },
                      {
                        "learn": [
                          0.9029742487
                        ],
                        "iteration": 11,
                        "passed_time": 0.07965345461,
                        "remaining_time": 2.243572305,
                        "test": [
                          0.903603547
                        ]
                      },
                      {
                        "learn": [
                          0.8607231862
                        ],
                        "iteration": 12,
                        "passed_time": 0.08719699232,
                        "remaining_time": 2.260414339,
                        "test": [
                          0.8622467623
                        ]
                      },
                      {
                        "learn": [
                          0.819586522
                        ],
                        "iteration": 13,
                        "passed_time": 0.09531394609,
                        "remaining_time": 2.287534706,
                        "test": [
                          0.8222636322
                        ]
                      },
                      {
                        "learn": [
                          0.7795917848
                        ],
                        "iteration": 14,
                        "passed_time": 0.1029981575,
                        "remaining_time": 2.300292184,
                        "test": [
                          0.782862335
                        ]
                      },
                      {
                        "learn": [
                          0.7406356466
                        ],
                        "iteration": 15,
                        "passed_time": 0.1087957654,
                        "remaining_time": 2.271111602,
                        "test": [
                          0.7442451118
                        ]
                      },
                      {
                        "learn": [
                          0.7066738147
                        ],
                        "iteration": 16,
                        "passed_time": 0.1154535203,
                        "remaining_time": 2.261530721,
                        "test": [
                          0.7112397832
                        ]
                      },
                      {
                        "learn": [
                          0.6724854816
                        ],
                        "iteration": 17,
                        "passed_time": 0.1195527558,
                        "remaining_time": 2.205084162,
                        "test": [
                          0.6778029852
                        ]
                      },
                      {
                        "learn": [
                          0.6443026991
                        ],
                        "iteration": 18,
                        "passed_time": 0.1329296271,
                        "remaining_time": 2.31577403,
                        "test": [
                          0.6492967502
                        ]
                      },
                      {
                        "learn": [
                          0.6172398769
                        ],
                        "iteration": 19,
                        "passed_time": 0.1386707139,
                        "remaining_time": 2.28806678,
                        "test": [
                          0.6222464969
                        ]
                      },
                      {
                        "learn": [
                          0.5916629084
                        ],
                        "iteration": 20,
                        "passed_time": 0.1436321946,
                        "remaining_time": 2.250237716,
                        "test": [
                          0.5974757216
                        ]
                      },
                      {
                        "learn": [
                          0.567550723
                        ],
                        "iteration": 21,
                        "passed_time": 0.1463847297,
                        "remaining_time": 2.182463243,
                        "test": [
                          0.5736434078
                        ]
                      },
                      {
                        "learn": [
                          0.5447644707
                        ],
                        "iteration": 22,
                        "passed_time": 0.1505996259,
                        "remaining_time": 2.141133811,
                        "test": [
                          0.5510679288
                        ]
                      },
                      {
                        "learn": [
                          0.5240464404
                        ],
                        "iteration": 23,
                        "passed_time": 0.1549648984,
                        "remaining_time": 2.10493987,
                        "test": [
                          0.5313098445
                        ]
                      },
                      {
                        "learn": [
                          0.5041893825
                        ],
                        "iteration": 24,
                        "passed_time": 0.1579646174,
                        "remaining_time": 2.053540026,
                        "test": [
                          0.5115817785
                        ]
                      },
                      {
                        "learn": [
                          0.4854001601
                        ],
                        "iteration": 25,
                        "passed_time": 0.160979869,
                        "remaining_time": 2.00605683,
                        "test": [
                          0.4930550793
                        ]
                      },
                      {
                        "learn": [
                          0.4688100661
                        ],
                        "iteration": 26,
                        "passed_time": 0.1659060213,
                        "remaining_time": 1.984727588,
                        "test": [
                          0.4774798105
                        ]
                      },
                      {
                        "learn": [
                          0.4531413942
                        ],
                        "iteration": 27,
                        "passed_time": 0.1696631757,
                        "remaining_time": 1.951126521,
                        "test": [
                          0.4616656217
                        ]
                      },
                      {
                        "learn": [
                          0.4380486566
                        ],
                        "iteration": 28,
                        "passed_time": 0.1723863569,
                        "remaining_time": 1.90813864,
                        "test": [
                          0.4468804196
                        ]
                      },
                      {
                        "learn": [
                          0.4239565054
                        ],
                        "iteration": 29,
                        "passed_time": 0.1763441419,
                        "remaining_time": 1.88100418,
                        "test": [
                          0.4329456304
                        ]
                      },
                      {
                        "learn": [
                          0.4101637512
                        ],
                        "iteration": 30,
                        "passed_time": 0.1793814006,
                        "remaining_time": 1.845892478,
                        "test": [
                          0.420097496
                        ]
                      },
                      {
                        "learn": [
                          0.3964522024
                        ],
                        "iteration": 31,
                        "passed_time": 0.182660663,
                        "remaining_time": 1.815190338,
                        "test": [
                          0.4064029423
                        ]
                      },
                      {
                        "learn": [
                          0.3841796166
                        ],
                        "iteration": 32,
                        "passed_time": 0.1887853211,
                        "remaining_time": 1.813483236,
                        "test": [
                          0.3942573187
                        ]
                      },
                      {
                        "learn": [
                          0.3720876161
                        ],
                        "iteration": 33,
                        "passed_time": 0.19217487,
                        "remaining_time": 1.786095851,
                        "test": [
                          0.382502357
                        ]
                      },
                      {
                        "learn": [
                          0.360334933
                        ],
                        "iteration": 34,
                        "passed_time": 0.1955487963,
                        "remaining_time": 1.759939167,
                        "test": [
                          0.3708821513
                        ]
                      },
                      {
                        "learn": [
                          0.3496614287
                        ],
                        "iteration": 35,
                        "passed_time": 0.198007055,
                        "remaining_time": 1.727061535,
                        "test": [
                          0.360220437
                        ]
                      },
                      {
                        "learn": [
                          0.3388081181
                        ],
                        "iteration": 36,
                        "passed_time": 0.2055923015,
                        "remaining_time": 1.73919974,
                        "test": [
                          0.3496952358
                        ]
                      },
                      {
                        "learn": [
                          0.3291651513
                        ],
                        "iteration": 37,
                        "passed_time": 0.2115818951,
                        "remaining_time": 1.737198717,
                        "test": [
                          0.3403014267
                        ]
                      },
                      {
                        "learn": [
                          0.3216417856
                        ],
                        "iteration": 38,
                        "passed_time": 0.2150243332,
                        "remaining_time": 1.714681221,
                        "test": [
                          0.333366631
                        ]
                      },
                      {
                        "learn": [
                          0.3131623243
                        ],
                        "iteration": 39,
                        "passed_time": 0.2179938015,
                        "remaining_time": 1.689451961,
                        "test": [
                          0.3250641112
                        ]
                      },
                      {
                        "learn": [
                          0.3047211426
                        ],
                        "iteration": 40,
                        "passed_time": 0.2212601748,
                        "remaining_time": 1.667546195,
                        "test": [
                          0.316616538
                        ]
                      },
                      {
                        "learn": [
                          0.296829179
                        ],
                        "iteration": 41,
                        "passed_time": 0.223636733,
                        "remaining_time": 1.640002709,
                        "test": [
                          0.3093950732
                        ]
                      },
                      {
                        "learn": [
                          0.2886589437
                        ],
                        "iteration": 42,
                        "passed_time": 0.2267088407,
                        "remaining_time": 1.618595677,
                        "test": [
                          0.3015706479
                        ]
                      },
                      {
                        "learn": [
                          0.2812333317
                        ],
                        "iteration": 43,
                        "passed_time": 0.2302568491,
                        "remaining_time": 1.601331723,
                        "test": [
                          0.294572096
                        ]
                      },
                      {
                        "learn": [
                          0.2737020631
                        ],
                        "iteration": 44,
                        "passed_time": 0.2333424476,
                        "remaining_time": 1.581543256,
                        "test": [
                          0.287444049
                        ]
                      },
                      {
                        "learn": [
                          0.2670815989
                        ],
                        "iteration": 45,
                        "passed_time": 0.2357196917,
                        "remaining_time": 1.557799702,
                        "test": [
                          0.2816843631
                        ]
                      },
                      {
                        "learn": [
                          0.260001084
                        ],
                        "iteration": 46,
                        "passed_time": 0.2390038277,
                        "remaining_time": 1.54081191,
                        "test": [
                          0.2753473395
                        ]
                      },
                      {
                        "learn": [
                          0.253575702
                        ],
                        "iteration": 47,
                        "passed_time": 0.2420346056,
                        "remaining_time": 1.52280106,
                        "test": [
                          0.2693402614
                        ]
                      },
                      {
                        "learn": [
                          0.2482497309
                        ],
                        "iteration": 48,
                        "passed_time": 0.2444166683,
                        "remaining_time": 1.501416677,
                        "test": [
                          0.2639823979
                        ]
                      },
                      {
                        "learn": [
                          0.2427633356
                        ],
                        "iteration": 49,
                        "passed_time": 0.2477386868,
                        "remaining_time": 1.486432121,
                        "test": [
                          0.2588168839
                        ]
                      },
                      {
                        "learn": [
                          0.2371374946
                        ],
                        "iteration": 50,
                        "passed_time": 0.2500857747,
                        "remaining_time": 1.46618915,
                        "test": [
                          0.2531948561
                        ]
                      },
                      {
                        "learn": [
                          0.231622018
                        ],
                        "iteration": 51,
                        "passed_time": 0.2539213414,
                        "remaining_time": 1.45516461,
                        "test": [
                          0.2480391129
                        ]
                      },
                      {
                        "learn": [
                          0.2276494193
                        ],
                        "iteration": 52,
                        "passed_time": 0.2577566971,
                        "remaining_time": 1.444410171,
                        "test": [
                          0.2446344632
                        ]
                      },
                      {
                        "learn": [
                          0.2231312219
                        ],
                        "iteration": 53,
                        "passed_time": 0.2652815331,
                        "remaining_time": 1.454135811,
                        "test": [
                          0.2401364085
                        ]
                      },
                      {
                        "learn": [
                          0.2183569737
                        ],
                        "iteration": 54,
                        "passed_time": 0.2744147384,
                        "remaining_time": 1.47186087,
                        "test": [
                          0.2353927181
                        ]
                      },
                      {
                        "learn": [
                          0.2136446646
                        ],
                        "iteration": 55,
                        "passed_time": 0.2831417826,
                        "remaining_time": 1.486494359,
                        "test": [
                          0.2307589166
                        ]
                      },
                      {
                        "learn": [
                          0.2095619865
                        ],
                        "iteration": 56,
                        "passed_time": 0.2870082681,
                        "remaining_time": 1.475323203,
                        "test": [
                          0.2272241633
                        ]
                      },
                      {
                        "learn": [
                          0.2051905285
                        ],
                        "iteration": 57,
                        "passed_time": 0.2943975495,
                        "remaining_time": 1.482139387,
                        "test": [
                          0.2227494762
                        ]
                      },
                      {
                        "learn": [
                          0.202927157
                        ],
                        "iteration": 58,
                        "passed_time": 0.3023271494,
                        "remaining_time": 1.491138991,
                        "test": [
                          0.2211275305
                        ]
                      },
                      {
                        "learn": [
                          0.2003722166
                        ],
                        "iteration": 59,
                        "passed_time": 0.308627177,
                        "remaining_time": 1.491698022,
                        "test": [
                          0.2187364951
                        ]
                      },
                      {
                        "learn": [
                          0.1967926335
                        ],
                        "iteration": 60,
                        "passed_time": 0.3170626506,
                        "remaining_time": 1.502149279,
                        "test": [
                          0.2159826378
                        ]
                      },
                      {
                        "learn": [
                          0.1929881471
                        ],
                        "iteration": 61,
                        "passed_time": 0.326334681,
                        "remaining_time": 1.515877228,
                        "test": [
                          0.2125711071
                        ]
                      },
                      {
                        "learn": [
                          0.1895817801
                        ],
                        "iteration": 62,
                        "passed_time": 0.3326268113,
                        "remaining_time": 1.515299918,
                        "test": [
                          0.2089901015
                        ]
                      },
                      {
                        "learn": [
                          0.1865273927
                        ],
                        "iteration": 63,
                        "passed_time": 0.3410461769,
                        "remaining_time": 1.524050103,
                        "test": [
                          0.2066556147
                        ]
                      },
                      {
                        "learn": [
                          0.1837255656
                        ],
                        "iteration": 64,
                        "passed_time": 0.3478871348,
                        "remaining_time": 1.525351283,
                        "test": [
                          0.2042796655
                        ]
                      },
                      {
                        "learn": [
                          0.1806000665
                        ],
                        "iteration": 65,
                        "passed_time": 0.3541881037,
                        "remaining_time": 1.524082143,
                        "test": [
                          0.2010669275
                        ]
                      },
                      {
                        "learn": [
                          0.1777559522
                        ],
                        "iteration": 66,
                        "passed_time": 0.3627830982,
                        "remaining_time": 1.532352489,
                        "test": [
                          0.1984170983
                        ]
                      },
                      {
                        "learn": [
                          0.1750550113
                        ],
                        "iteration": 67,
                        "passed_time": 0.3676739861,
                        "remaining_time": 1.524765648,
                        "test": [
                          0.1969571181
                        ]
                      },
                      {
                        "learn": [
                          0.1725776629
                        ],
                        "iteration": 68,
                        "passed_time": 0.3751521938,
                        "remaining_time": 1.527793717,
                        "test": [
                          0.1947665483
                        ]
                      },
                      {
                        "learn": [
                          0.1693964011
                        ],
                        "iteration": 69,
                        "passed_time": 0.3830143755,
                        "remaining_time": 1.532057502,
                        "test": [
                          0.1919416741
                        ]
                      },
                      {
                        "learn": [
                          0.1671243918
                        ],
                        "iteration": 70,
                        "passed_time": 0.3916814718,
                        "remaining_time": 1.539142685,
                        "test": [
                          0.190213736
                        ]
                      },
                      {
                        "learn": [
                          0.1646599428
                        ],
                        "iteration": 71,
                        "passed_time": 0.3954867295,
                        "remaining_time": 1.527018206,
                        "test": [
                          0.1880904475
                        ]
                      },
                      {
                        "learn": [
                          0.1632237224
                        ],
                        "iteration": 72,
                        "passed_time": 0.4056978337,
                        "remaining_time": 1.539428766,
                        "test": [
                          0.1868941986
                        ]
                      },
                      {
                        "learn": [
                          0.1605896873
                        ],
                        "iteration": 73,
                        "passed_time": 0.4129733881,
                        "remaining_time": 1.540279123,
                        "test": [
                          0.1844582604
                        ]
                      },
                      {
                        "learn": [
                          0.158019948
                        ],
                        "iteration": 74,
                        "passed_time": 0.4213198295,
                        "remaining_time": 1.544839375,
                        "test": [
                          0.1821667763
                        ]
                      },
                      {
                        "learn": [
                          0.1557207921
                        ],
                        "iteration": 75,
                        "passed_time": 0.4295335259,
                        "remaining_time": 1.548581396,
                        "test": [
                          0.1801810983
                        ]
                      },
                      {
                        "learn": [
                          0.1540725799
                        ],
                        "iteration": 76,
                        "passed_time": 0.4385482592,
                        "remaining_time": 1.554852919,
                        "test": [
                          0.1788808324
                        ]
                      },
                      {
                        "learn": [
                          0.1526211576
                        ],
                        "iteration": 77,
                        "passed_time": 0.4434727701,
                        "remaining_time": 1.546469147,
                        "test": [
                          0.1778092693
                        ]
                      },
                      {
                        "learn": [
                          0.1511790303
                        ],
                        "iteration": 78,
                        "passed_time": 0.4509800344,
                        "remaining_time": 1.547032776,
                        "test": [
                          0.1766670022
                        ]
                      },
                      {
                        "learn": [
                          0.1495512445
                        ],
                        "iteration": 79,
                        "passed_time": 0.4591560737,
                        "remaining_time": 1.549651749,
                        "test": [
                          0.1756154682
                        ]
                      },
                      {
                        "learn": [
                          0.1481233717
                        ],
                        "iteration": 80,
                        "passed_time": 0.467170544,
                        "remaining_time": 1.551467609,
                        "test": [
                          0.1742525169
                        ]
                      },
                      {
                        "learn": [
                          0.1460887992
                        ],
                        "iteration": 81,
                        "passed_time": 0.4752391844,
                        "remaining_time": 1.553220749,
                        "test": [
                          0.1727124683
                        ]
                      },
                      {
                        "learn": [
                          0.144195232
                        ],
                        "iteration": 82,
                        "passed_time": 0.4834712966,
                        "remaining_time": 1.555263087,
                        "test": [
                          0.1709932363
                        ]
                      },
                      {
                        "learn": [
                          0.1427981176
                        ],
                        "iteration": 83,
                        "passed_time": 0.4882404694,
                        "remaining_time": 1.54609482,
                        "test": [
                          0.1702887174
                        ]
                      },
                      {
                        "learn": [
                          0.1407898954
                        ],
                        "iteration": 84,
                        "passed_time": 0.4960333928,
                        "remaining_time": 1.546457048,
                        "test": [
                          0.1686943722
                        ]
                      },
                      {
                        "learn": [
                          0.139639742
                        ],
                        "iteration": 85,
                        "passed_time": 0.5041858905,
                        "remaining_time": 1.547733431,
                        "test": [
                          0.1679955977
                        ]
                      },
                      {
                        "learn": [
                          0.1382343384
                        ],
                        "iteration": 86,
                        "passed_time": 0.5080287989,
                        "remaining_time": 1.53576522,
                        "test": [
                          0.1672911231
                        ]
                      },
                      {
                        "learn": [
                          0.1375764948
                        ],
                        "iteration": 87,
                        "passed_time": 0.5162871895,
                        "remaining_time": 1.537127769,
                        "test": [
                          0.1666696625
                        ]
                      },
                      {
                        "learn": [
                          0.1358457096
                        ],
                        "iteration": 88,
                        "passed_time": 0.5241639352,
                        "remaining_time": 1.537154911,
                        "test": [
                          0.1651303603
                        ]
                      },
                      {
                        "learn": [
                          0.134957913
                        ],
                        "iteration": 89,
                        "passed_time": 0.5315201545,
                        "remaining_time": 1.535502669,
                        "test": [
                          0.1644057194
                        ]
                      },
                      {
                        "learn": [
                          0.133754282
                        ],
                        "iteration": 90,
                        "passed_time": 0.5400193146,
                        "remaining_time": 1.536978049,
                        "test": [
                          0.1636038032
                        ]
                      },
                      {
                        "learn": [
                          0.132235241
                        ],
                        "iteration": 91,
                        "passed_time": 0.5449655986,
                        "remaining_time": 1.528273092,
                        "test": [
                          0.1626694177
                        ]
                      },
                      {
                        "learn": [
                          0.1310498306
                        ],
                        "iteration": 92,
                        "passed_time": 0.5521581221,
                        "remaining_time": 1.525856316,
                        "test": [
                          0.1621129117
                        ]
                      },
                      {
                        "learn": [
                          0.1300231191
                        ],
                        "iteration": 93,
                        "passed_time": 0.5601840859,
                        "remaining_time": 1.525607723,
                        "test": [
                          0.1608017302
                        ]
                      },
                      {
                        "learn": [
                          0.1293593888
                        ],
                        "iteration": 94,
                        "passed_time": 0.569063316,
                        "remaining_time": 1.527485743,
                        "test": [
                          0.1606268492
                        ]
                      },
                      {
                        "learn": [
                          0.1279200156
                        ],
                        "iteration": 95,
                        "passed_time": 0.5728541802,
                        "remaining_time": 1.515676685,
                        "test": [
                          0.159120791
                        ]
                      },
                      {
                        "learn": [
                          0.1267719742
                        ],
                        "iteration": 96,
                        "passed_time": 0.5810894268,
                        "remaining_time": 1.515625,
                        "test": [
                          0.1582484074
                        ]
                      },
                      {
                        "learn": [
                          0.1260437516
                        ],
                        "iteration": 97,
                        "passed_time": 0.5921751884,
                        "remaining_time": 1.522736199,
                        "test": [
                          0.1577586552
                        ]
                      },
                      {
                        "learn": [
                          0.1255182066
                        ],
                        "iteration": 98,
                        "passed_time": 0.5970963589,
                        "remaining_time": 1.513850365,
                        "test": [
                          0.1576110249
                        ]
                      },
                      {
                        "learn": [
                          0.1244165848
                        ],
                        "iteration": 99,
                        "passed_time": 0.6043131441,
                        "remaining_time": 1.51078286,
                        "test": [
                          0.1566427897
                        ]
                      },
                      {
                        "learn": [
                          0.1237941795
                        ],
                        "iteration": 100,
                        "passed_time": 0.6127389237,
                        "remaining_time": 1.510613782,
                        "test": [
                          0.1564143748
                        ]
                      },
                      {
                        "learn": [
                          0.1224589292
                        ],
                        "iteration": 101,
                        "passed_time": 0.6165650322,
                        "remaining_time": 1.499099294,
                        "test": [
                          0.1552772635
                        ]
                      },
                      {
                        "learn": [
                          0.1218129754
                        ],
                        "iteration": 102,
                        "passed_time": 0.6239649976,
                        "remaining_time": 1.496304412,
                        "test": [
                          0.1547500328
                        ]
                      },
                      {
                        "learn": [
                          0.1209789426
                        ],
                        "iteration": 103,
                        "passed_time": 0.6356616541,
                        "remaining_time": 1.503584297,
                        "test": [
                          0.1541997307
                        ]
                      },
                      {
                        "learn": [
                          0.1194261399
                        ],
                        "iteration": 104,
                        "passed_time": 0.6414444089,
                        "remaining_time": 1.496703621,
                        "test": [
                          0.1526632796
                        ]
                      },
                      {
                        "learn": [
                          0.1188339787
                        ],
                        "iteration": 105,
                        "passed_time": 0.6493930533,
                        "remaining_time": 1.494829292,
                        "test": [
                          0.1523957044
                        ]
                      },
                      {
                        "learn": [
                          0.1177801225
                        ],
                        "iteration": 106,
                        "passed_time": 0.6559499224,
                        "remaining_time": 1.489680665,
                        "test": [
                          0.1515935465
                        ]
                      },
                      {
                        "learn": [
                          0.1172189401
                        ],
                        "iteration": 107,
                        "passed_time": 0.6640485327,
                        "remaining_time": 1.487960601,
                        "test": [
                          0.151333311
                        ]
                      },
                      {
                        "learn": [
                          0.116183106
                        ],
                        "iteration": 108,
                        "passed_time": 0.6719546182,
                        "remaining_time": 1.485697826,
                        "test": [
                          0.1504847318
                        ]
                      },
                      {
                        "learn": [
                          0.1152302477
                        ],
                        "iteration": 109,
                        "passed_time": 0.6806158468,
                        "remaining_time": 1.484980029,
                        "test": [
                          0.1502002667
                        ]
                      },
                      {
                        "learn": [
                          0.1145038846
                        ],
                        "iteration": 110,
                        "passed_time": 0.6893409205,
                        "remaining_time": 1.484256577,
                        "test": [
                          0.1497356224
                        ]
                      },
                      {
                        "learn": [
                          0.1138479238
                        ],
                        "iteration": 111,
                        "passed_time": 0.6976372327,
                        "remaining_time": 1.48247912,
                        "test": [
                          0.1494065014
                        ]
                      },
                      {
                        "learn": [
                          0.1128273777
                        ],
                        "iteration": 112,
                        "passed_time": 0.7016795468,
                        "remaining_time": 1.471664182,
                        "test": [
                          0.1481905082
                        ]
                      },
                      {
                        "learn": [
                          0.1118408492
                        ],
                        "iteration": 113,
                        "passed_time": 0.7102300602,
                        "remaining_time": 1.470300826,
                        "test": [
                          0.1474425232
                        ]
                      },
                      {
                        "learn": [
                          0.1110902825
                        ],
                        "iteration": 114,
                        "passed_time": 0.7193019381,
                        "remaining_time": 1.469877874,
                        "test": [
                          0.1469294779
                        ]
                      },
                      {
                        "learn": [
                          0.1105390403
                        ],
                        "iteration": 115,
                        "passed_time": 0.7275017409,
                        "remaining_time": 1.467546615,
                        "test": [
                          0.1463817979
                        ]
                      },
                      {
                        "learn": [
                          0.1098949029
                        ],
                        "iteration": 116,
                        "passed_time": 0.7362061766,
                        "remaining_time": 1.466119993,
                        "test": [
                          0.145865384
                        ]
                      },
                      {
                        "learn": [
                          0.1094486228
                        ],
                        "iteration": 117,
                        "passed_time": 0.7400824312,
                        "remaining_time": 1.455077322,
                        "test": [
                          0.1456359899
                        ]
                      },
                      {
                        "learn": [
                          0.1091074905
                        ],
                        "iteration": 118,
                        "passed_time": 0.7489551235,
                        "remaining_time": 1.453854063,
                        "test": [
                          0.1455609331
                        ]
                      },
                      {
                        "learn": [
                          0.1081877293
                        ],
                        "iteration": 119,
                        "passed_time": 0.7593204713,
                        "remaining_time": 1.455364237,
                        "test": [
                          0.1450239651
                        ]
                      },
                      {
                        "learn": [
                          0.1076947129
                        ],
                        "iteration": 120,
                        "passed_time": 0.76745199,
                        "remaining_time": 1.45245046,
                        "test": [
                          0.1449355005
                        ]
                      },
                      {
                        "learn": [
                          0.1071951208
                        ],
                        "iteration": 121,
                        "passed_time": 0.7758420007,
                        "remaining_time": 1.449934231,
                        "test": [
                          0.1449107518
                        ]
                      },
                      {
                        "learn": [
                          0.1063564616
                        ],
                        "iteration": 122,
                        "passed_time": 0.7809668482,
                        "remaining_time": 1.441296541,
                        "test": [
                          0.1444887005
                        ]
                      },
                      {
                        "learn": [
                          0.1053638081
                        ],
                        "iteration": 123,
                        "passed_time": 0.7883038198,
                        "remaining_time": 1.436747285,
                        "test": [
                          0.1436524808
                        ]
                      },
                      {
                        "learn": [
                          0.1047027844
                        ],
                        "iteration": 124,
                        "passed_time": 0.7959718827,
                        "remaining_time": 1.432749389,
                        "test": [
                          0.1432447713
                        ]
                      },
                      {
                        "learn": [
                          0.103883602
                        ],
                        "iteration": 125,
                        "passed_time": 0.8050599765,
                        "remaining_time": 1.431217736,
                        "test": [
                          0.1428638924
                        ]
                      },
                      {
                        "learn": [
                          0.1030616504
                        ],
                        "iteration": 126,
                        "passed_time": 0.8116466514,
                        "remaining_time": 1.425174829,
                        "test": [
                          0.1423719951
                        ]
                      },
                      {
                        "learn": [
                          0.1026216686
                        ],
                        "iteration": 127,
                        "passed_time": 0.8205102574,
                        "remaining_time": 1.423072478,
                        "test": [
                          0.1422124567
                        ]
                      },
                      {
                        "learn": [
                          0.1021573635
                        ],
                        "iteration": 128,
                        "passed_time": 0.8237998801,
                        "remaining_time": 1.411316074,
                        "test": [
                          0.1421999508
                        ]
                      },
                      {
                        "learn": [
                          0.1014927527
                        ],
                        "iteration": 129,
                        "passed_time": 0.8273173051,
                        "remaining_time": 1.400075439,
                        "test": [
                          0.1416227916
                        ]
                      },
                      {
                        "learn": [
                          0.1012244653
                        ],
                        "iteration": 130,
                        "passed_time": 0.8310094439,
                        "remaining_time": 1.389244796,
                        "test": [
                          0.1415805803
                        ]
                      },
                      {
                        "learn": [
                          0.1009383177
                        ],
                        "iteration": 131,
                        "passed_time": 0.8400027565,
                        "remaining_time": 1.38727728,
                        "test": [
                          0.1415142481
                        ]
                      },
                      {
                        "learn": [
                          0.1006032582
                        ],
                        "iteration": 132,
                        "passed_time": 0.8438709797,
                        "remaining_time": 1.376842125,
                        "test": [
                          0.1411956995
                        ]
                      },
                      {
                        "learn": [
                          0.1004035865
                        ],
                        "iteration": 133,
                        "passed_time": 0.8544973469,
                        "remaining_time": 1.377398708,
                        "test": [
                          0.1411663871
                        ]
                      },
                      {
                        "learn": [
                          0.0996062078
                        ],
                        "iteration": 134,
                        "passed_time": 0.8581648236,
                        "remaining_time": 1.366706941,
                        "test": [
                          0.1407405929
                        ]
                      },
                      {
                        "learn": [
                          0.09882580959
                        ],
                        "iteration": 135,
                        "passed_time": 0.8606386804,
                        "remaining_time": 1.354240276,
                        "test": [
                          0.1401473849
                        ]
                      },
                      {
                        "learn": [
                          0.09852644966
                        ],
                        "iteration": 136,
                        "passed_time": 0.8645648642,
                        "remaining_time": 1.34417749,
                        "test": [
                          0.1402584883
                        ]
                      },
                      {
                        "learn": [
                          0.09811958536
                        ],
                        "iteration": 137,
                        "passed_time": 0.8669571415,
                        "remaining_time": 1.331847203,
                        "test": [
                          0.1400419751
                        ]
                      },
                      {
                        "learn": [
                          0.09786112591
                        ],
                        "iteration": 138,
                        "passed_time": 0.8705512941,
                        "remaining_time": 1.321484339,
                        "test": [
                          0.1400491443
                        ]
                      },
                      {
                        "learn": [
                          0.09745051957
                        ],
                        "iteration": 139,
                        "passed_time": 0.8729532659,
                        "remaining_time": 1.309429899,
                        "test": [
                          0.1398768585
                        ]
                      },
                      {
                        "learn": [
                          0.09679215575
                        ],
                        "iteration": 140,
                        "passed_time": 0.8768767233,
                        "remaining_time": 1.299767625,
                        "test": [
                          0.1397131717
                        ]
                      },
                      {
                        "learn": [
                          0.09615761425
                        ],
                        "iteration": 141,
                        "passed_time": 0.8815544749,
                        "remaining_time": 1.291291062,
                        "test": [
                          0.1394610818
                        ]
                      },
                      {
                        "learn": [
                          0.09529358372
                        ],
                        "iteration": 142,
                        "passed_time": 0.8898829142,
                        "remaining_time": 1.28815219,
                        "test": [
                          0.1386741964
                        ]
                      },
                      {
                        "learn": [
                          0.0949415738
                        ],
                        "iteration": 143,
                        "passed_time": 0.8937235421,
                        "remaining_time": 1.278521178,
                        "test": [
                          0.1384586389
                        ]
                      },
                      {
                        "learn": [
                          0.09419837692
                        ],
                        "iteration": 144,
                        "passed_time": 0.9027689507,
                        "remaining_time": 1.276328517,
                        "test": [
                          0.1375683594
                        ]
                      },
                      {
                        "learn": [
                          0.09369365324
                        ],
                        "iteration": 145,
                        "passed_time": 0.9107879573,
                        "remaining_time": 1.272607831,
                        "test": [
                          0.1371276067
                        ]
                      },
                      {
                        "learn": [
                          0.09337775522
                        ],
                        "iteration": 146,
                        "passed_time": 0.9183389023,
                        "remaining_time": 1.268182294,
                        "test": [
                          0.1370215754
                        ]
                      },
                      {
                        "learn": [
                          0.09301591499
                        ],
                        "iteration": 147,
                        "passed_time": 0.9266260559,
                        "remaining_time": 1.264719347,
                        "test": [
                          0.1369638889
                        ]
                      },
                      {
                        "learn": [
                          0.09268485645
                        ],
                        "iteration": 148,
                        "passed_time": 0.9304268555,
                        "remaining_time": 1.255139584,
                        "test": [
                          0.1367067103
                        ]
                      },
                      {
                        "learn": [
                          0.09231590695
                        ],
                        "iteration": 149,
                        "passed_time": 0.9375788274,
                        "remaining_time": 1.250105103,
                        "test": [
                          0.1365351435
                        ]
                      },
                      {
                        "learn": [
                          0.09202960913
                        ],
                        "iteration": 150,
                        "passed_time": 0.9453958026,
                        "remaining_time": 1.245918972,
                        "test": [
                          0.1364089322
                        ]
                      },
                      {
                        "learn": [
                          0.09174033528
                        ],
                        "iteration": 151,
                        "passed_time": 0.9535810514,
                        "remaining_time": 1.242164791,
                        "test": [
                          0.1362573326
                        ]
                      },
                      {
                        "learn": [
                          0.09120494555
                        ],
                        "iteration": 152,
                        "passed_time": 0.9623622411,
                        "remaining_time": 1.23912001,
                        "test": [
                          0.1360978424
                        ]
                      },
                      {
                        "learn": [
                          0.09089695817
                        ],
                        "iteration": 153,
                        "passed_time": 0.9745310138,
                        "remaining_time": 1.240312199,
                        "test": [
                          0.1359812712
                        ]
                      },
                      {
                        "learn": [
                          0.0907388208
                        ],
                        "iteration": 154,
                        "passed_time": 0.9925960116,
                        "remaining_time": 1.248749821,
                        "test": [
                          0.1358982619
                        ]
                      },
                      {
                        "learn": [
                          0.09040421786
                        ],
                        "iteration": 155,
                        "passed_time": 0.9966053631,
                        "remaining_time": 1.239368208,
                        "test": [
                          0.1357906587
                        ]
                      },
                      {
                        "learn": [
                          0.09012471628
                        ],
                        "iteration": 156,
                        "passed_time": 1.00034478,
                        "remaining_time": 1.229723201,
                        "test": [
                          0.1356633491
                        ]
                      },
                      {
                        "learn": [
                          0.08993793448
                        ],
                        "iteration": 157,
                        "passed_time": 1.008208038,
                        "remaining_time": 1.225164198,
                        "test": [
                          0.1357427909
                        ]
                      },
                      {
                        "learn": [
                          0.08961851057
                        ],
                        "iteration": 158,
                        "passed_time": 1.01208056,
                        "remaining_time": 1.215769729,
                        "test": [
                          0.1354580411
                        ]
                      },
                      {
                        "learn": [
                          0.08923067548
                        ],
                        "iteration": 159,
                        "passed_time": 1.019663332,
                        "remaining_time": 1.210850207,
                        "test": [
                          0.1354568357
                        ]
                      },
                      {
                        "learn": [
                          0.08882548719
                        ],
                        "iteration": 160,
                        "passed_time": 1.027210922,
                        "remaining_time": 1.2058563,
                        "test": [
                          0.1353233543
                        ]
                      },
                      {
                        "learn": [
                          0.0886585588
                        ],
                        "iteration": 161,
                        "passed_time": 1.035801175,
                        "remaining_time": 1.20204087,
                        "test": [
                          0.1352675405
                        ]
                      },
                      {
                        "learn": [
                          0.08848604303
                        ],
                        "iteration": 162,
                        "passed_time": 1.040676645,
                        "remaining_time": 1.193905108,
                        "test": [
                          0.1349575086
                        ]
                      },
                      {
                        "learn": [
                          0.08812540977
                        ],
                        "iteration": 163,
                        "passed_time": 1.048106291,
                        "remaining_time": 1.188705915,
                        "test": [
                          0.1347631173
                        ]
                      },
                      {
                        "learn": [
                          0.08781176509
                        ],
                        "iteration": 164,
                        "passed_time": 1.056026299,
                        "remaining_time": 1.184029486,
                        "test": [
                          0.1347459992
                        ]
                      },
                      {
                        "learn": [
                          0.08739855737
                        ],
                        "iteration": 165,
                        "passed_time": 1.061830137,
                        "remaining_time": 1.176968344,
                        "test": [
                          0.1347491357
                        ]
                      },
                      {
                        "learn": [
                          0.08702353852
                        ],
                        "iteration": 166,
                        "passed_time": 1.069688849,
                        "remaining_time": 1.172174008,
                        "test": [
                          0.1346827139
                        ]
                      },
                      {
                        "learn": [
                          0.08677074754
                        ],
                        "iteration": 167,
                        "passed_time": 1.081734989,
                        "remaining_time": 1.171879571,
                        "test": [
                          0.1346172237
                        ]
                      },
                      {
                        "learn": [
                          0.08642046486
                        ],
                        "iteration": 168,
                        "passed_time": 1.085720603,
                        "remaining_time": 1.16281319,
                        "test": [
                          0.1345767892
                        ]
                      },
                      {
                        "learn": [
                          0.08602978002
                        ],
                        "iteration": 169,
                        "passed_time": 1.093419335,
                        "remaining_time": 1.15773812,
                        "test": [
                          0.1345921244
                        ]
                      },
                      {
                        "learn": [
                          0.08575738168
                        ],
                        "iteration": 170,
                        "passed_time": 1.09998731,
                        "remaining_time": 1.151448705,
                        "test": [
                          0.1345192798
                        ]
                      },
                      {
                        "learn": [
                          0.08545585805
                        ],
                        "iteration": 171,
                        "passed_time": 1.107956242,
                        "remaining_time": 1.146605878,
                        "test": [
                          0.1340398331
                        ]
                      },
                      {
                        "learn": [
                          0.08523865119
                        ],
                        "iteration": 172,
                        "passed_time": 1.114842581,
                        "remaining_time": 1.140619288,
                        "test": [
                          0.1339811752
                        ]
                      },
                      {
                        "learn": [
                          0.08485040116
                        ],
                        "iteration": 173,
                        "passed_time": 1.12101414,
                        "remaining_time": 1.13389936,
                        "test": [
                          0.1338526484
                        ]
                      },
                      {
                        "learn": [
                          0.08419899268
                        ],
                        "iteration": 174,
                        "passed_time": 1.127725123,
                        "remaining_time": 1.127725123,
                        "test": [
                          0.1332649269
                        ]
                      },
                      {
                        "learn": [
                          0.08386799919
                        ],
                        "iteration": 175,
                        "passed_time": 1.132770918,
                        "remaining_time": 1.119898521,
                        "test": [
                          0.133068309
                        ]
                      },
                      {
                        "learn": [
                          0.08366899806
                        ],
                        "iteration": 176,
                        "passed_time": 1.138873306,
                        "remaining_time": 1.113136057,
                        "test": [
                          0.1329356279
                        ]
                      },
                      {
                        "learn": [
                          0.08338685768
                        ],
                        "iteration": 177,
                        "passed_time": 1.146726305,
                        "remaining_time": 1.108072609,
                        "test": [
                          0.1331109766
                        ]
                      },
                      {
                        "learn": [
                          0.08300075424
                        ],
                        "iteration": 178,
                        "passed_time": 1.154288445,
                        "remaining_time": 1.102700135,
                        "test": [
                          0.1332232122
                        ]
                      },
                      {
                        "learn": [
                          0.08255510113
                        ],
                        "iteration": 179,
                        "passed_time": 1.16296357,
                        "remaining_time": 1.098354483,
                        "test": [
                          0.1331607753
                        ]
                      },
                      {
                        "learn": [
                          0.0823426217
                        ],
                        "iteration": 180,
                        "passed_time": 1.171419363,
                        "remaining_time": 1.093756201,
                        "test": [
                          0.1332451729
                        ]
                      },
                      {
                        "learn": [
                          0.08213259458
                        ],
                        "iteration": 181,
                        "passed_time": 1.175296439,
                        "remaining_time": 1.084889021,
                        "test": [
                          0.133140658
                        ]
                      },
                      {
                        "learn": [
                          0.08194102861
                        ],
                        "iteration": 182,
                        "passed_time": 1.18638737,
                        "remaining_time": 1.082659513,
                        "test": [
                          0.1330932524
                        ]
                      },
                      {
                        "learn": [
                          0.08161064882
                        ],
                        "iteration": 183,
                        "passed_time": 1.190248921,
                        "remaining_time": 1.073811527,
                        "test": [
                          0.1331731011
                        ]
                      },
                      {
                        "learn": [
                          0.08144135345
                        ],
                        "iteration": 184,
                        "passed_time": 1.197479951,
                        "remaining_time": 1.068022659,
                        "test": [
                          0.1332708252
                        ]
                      },
                      {
                        "learn": [
                          0.08123109133
                        ],
                        "iteration": 185,
                        "passed_time": 1.205745841,
                        "remaining_time": 1.063130742,
                        "test": [
                          0.1332139569
                        ]
                      },
                      {
                        "learn": [
                          0.08096110776
                        ],
                        "iteration": 186,
                        "passed_time": 1.214286894,
                        "remaining_time": 1.058442586,
                        "test": [
                          0.1332524581
                        ]
                      },
                      {
                        "learn": [
                          0.08064651686
                        ],
                        "iteration": 187,
                        "passed_time": 1.222570713,
                        "remaining_time": 1.053491785,
                        "test": [
                          0.1333065179
                        ]
                      },
                      {
                        "learn": [
                          0.08040412543
                        ],
                        "iteration": 188,
                        "passed_time": 1.226406829,
                        "remaining_time": 1.044716928,
                        "test": [
                          0.133240911
                        ]
                      },
                      {
                        "learn": [
                          0.08026454411
                        ],
                        "iteration": 189,
                        "passed_time": 1.234602455,
                        "remaining_time": 1.039665226,
                        "test": [
                          0.1332093994
                        ]
                      },
                      {
                        "learn": [
                          0.08004683783
                        ],
                        "iteration": 190,
                        "passed_time": 1.242069708,
                        "remaining_time": 1.03397426,
                        "test": [
                          0.1333445457
                        ]
                      },
                      {
                        "learn": [
                          0.07981022894
                        ],
                        "iteration": 191,
                        "passed_time": 1.249819227,
                        "remaining_time": 1.028497072,
                        "test": [
                          0.1333959917
                        ]
                      },
                      {
                        "learn": [
                          0.07958799481
                        ],
                        "iteration": 192,
                        "passed_time": 1.257986461,
                        "remaining_time": 1.023336137,
                        "test": [
                          0.1333432015
                        ]
                      },
                      {
                        "learn": [
                          0.07889866603
                        ],
                        "iteration": 193,
                        "passed_time": 1.263154988,
                        "remaining_time": 1.015732877,
                        "test": [
                          0.1327350248
                        ]
                      },
                      {
                        "learn": [
                          0.07843801926
                        ],
                        "iteration": 194,
                        "passed_time": 1.270462929,
                        "remaining_time": 1.009855148,
                        "test": [
                          0.1320214875
                        ]
                      },
                      {
                        "learn": [
                          0.07808048579
                        ],
                        "iteration": 195,
                        "passed_time": 1.278108001,
                        "remaining_time": 1.004227715,
                        "test": [
                          0.1320737364
                        ]
                      },
                      {
                        "learn": [
                          0.07792064221
                        ],
                        "iteration": 196,
                        "passed_time": 1.285913446,
                        "remaining_time": 0.9987043517,
                        "test": [
                          0.1320394954
                        ]
                      },
                      {
                        "learn": [
                          0.07748293287
                        ],
                        "iteration": 197,
                        "passed_time": 1.29475759,
                        "remaining_time": 0.9939553214,
                        "test": [
                          0.1320083001
                        ]
                      },
                      {
                        "learn": [
                          0.07727527907
                        ],
                        "iteration": 198,
                        "passed_time": 1.298682964,
                        "remaining_time": 0.9854328015,
                        "test": [
                          0.132114211
                        ]
                      },
                      {
                        "learn": [
                          0.07698162673
                        ],
                        "iteration": 199,
                        "passed_time": 1.307471574,
                        "remaining_time": 0.9806036803,
                        "test": [
                          0.1321208021
                        ]
                      },
                      {
                        "learn": [
                          0.07666234717
                        ],
                        "iteration": 200,
                        "passed_time": 1.316117461,
                        "remaining_time": 0.9756293613,
                        "test": [
                          0.1320901582
                        ]
                      },
                      {
                        "learn": [
                          0.07634058767
                        ],
                        "iteration": 201,
                        "passed_time": 1.324277025,
                        "remaining_time": 0.9702623744,
                        "test": [
                          0.1320897016
                        ]
                      },
                      {
                        "learn": [
                          0.07619278558
                        ],
                        "iteration": 202,
                        "passed_time": 1.333212044,
                        "remaining_time": 0.965429411,
                        "test": [
                          0.132044231
                        ]
                      },
                      {
                        "learn": [
                          0.07571440006
                        ],
                        "iteration": 203,
                        "passed_time": 1.34229451,
                        "remaining_time": 0.960661757,
                        "test": [
                          0.1314315458
                        ]
                      },
                      {
                        "learn": [
                          0.07534728928
                        ],
                        "iteration": 204,
                        "passed_time": 1.346158362,
                        "remaining_time": 0.9521607925,
                        "test": [
                          0.131483847
                        ]
                      },
                      {
                        "learn": [
                          0.07512461282
                        ],
                        "iteration": 205,
                        "passed_time": 1.354820412,
                        "remaining_time": 0.9470589289,
                        "test": [
                          0.1314627075
                        ]
                      },
                      {
                        "learn": [
                          0.07459797819
                        ],
                        "iteration": 206,
                        "passed_time": 1.363183042,
                        "remaining_time": 0.9417158214,
                        "test": [
                          0.1309207415
                        ]
                      },
                      {
                        "learn": [
                          0.07446654948
                        ],
                        "iteration": 207,
                        "passed_time": 1.371756583,
                        "remaining_time": 0.9364876671,
                        "test": [
                          0.1309605001
                        ]
                      },
                      {
                        "learn": [
                          0.07433492246
                        ],
                        "iteration": 208,
                        "passed_time": 1.376658896,
                        "remaining_time": 0.9287507385,
                        "test": [
                          0.1309384909
                        ]
                      },
                      {
                        "learn": [
                          0.07413121632
                        ],
                        "iteration": 209,
                        "passed_time": 1.379863508,
                        "remaining_time": 0.9199090053,
                        "test": [
                          0.1309124745
                        ]
                      },
                      {
                        "learn": [
                          0.07398351953
                        ],
                        "iteration": 210,
                        "passed_time": 1.38430464,
                        "remaining_time": 0.9119352842,
                        "test": [
                          0.1309700504
                        ]
                      },
                      {
                        "learn": [
                          0.07364974814
                        ],
                        "iteration": 211,
                        "passed_time": 1.388203318,
                        "remaining_time": 0.9036417825,
                        "test": [
                          0.1307038662
                        ]
                      },
                      {
                        "learn": [
                          0.07325129909
                        ],
                        "iteration": 212,
                        "passed_time": 1.396573773,
                        "remaining_time": 0.8982657598,
                        "test": [
                          0.1306857697
                        ]
                      },
                      {
                        "learn": [
                          0.07299968614
                        ],
                        "iteration": 213,
                        "passed_time": 1.404619615,
                        "remaining_time": 0.8926554562,
                        "test": [
                          0.1304065835
                        ]
                      },
                      {
                        "learn": [
                          0.07269914361
                        ],
                        "iteration": 214,
                        "passed_time": 1.412828553,
                        "remaining_time": 0.8871249052,
                        "test": [
                          0.1305162967
                        ]
                      },
                      {
                        "learn": [
                          0.07255463125
                        ],
                        "iteration": 215,
                        "passed_time": 1.420757671,
                        "remaining_time": 0.8813959627,
                        "test": [
                          0.130509032
                        ]
                      },
                      {
                        "learn": [
                          0.07224687712
                        ],
                        "iteration": 216,
                        "passed_time": 1.426671086,
                        "remaining_time": 0.8744113109,
                        "test": [
                          0.1302576871
                        ]
                      },
                      {
                        "learn": [
                          0.07189956421
                        ],
                        "iteration": 217,
                        "passed_time": 1.435394426,
                        "remaining_time": 0.8691379095,
                        "test": [
                          0.1304119892
                        ]
                      },
                      {
                        "learn": [
                          0.07156250126
                        ],
                        "iteration": 218,
                        "passed_time": 1.443319817,
                        "remaining_time": 0.8633556897,
                        "test": [
                          0.1305024256
                        ]
                      },
                      {
                        "learn": [
                          0.07123158552
                        ],
                        "iteration": 219,
                        "passed_time": 1.446814295,
                        "remaining_time": 0.8549357197,
                        "test": [
                          0.1304835339
                        ]
                      },
                      {
                        "learn": [
                          0.07099332844
                        ],
                        "iteration": 220,
                        "passed_time": 1.449192195,
                        "remaining_time": 0.8459085663,
                        "test": [
                          0.1305525882
                        ]
                      },
                      {
                        "learn": [
                          0.07083896846
                        ],
                        "iteration": 221,
                        "passed_time": 1.453023016,
                        "remaining_time": 0.8377790364,
                        "test": [
                          0.130502795
                        ]
                      },
                      {
                        "learn": [
                          0.07069865083
                        ],
                        "iteration": 222,
                        "passed_time": 1.456858728,
                        "remaining_time": 0.829690845,
                        "test": [
                          0.1305364251
                        ]
                      },
                      {
                        "learn": [
                          0.07060716062
                        ],
                        "iteration": 223,
                        "passed_time": 1.460734014,
                        "remaining_time": 0.8216628828,
                        "test": [
                          0.1304925631
                        ]
                      },
                      {
                        "learn": [
                          0.07050123013
                        ],
                        "iteration": 224,
                        "passed_time": 1.468152012,
                        "remaining_time": 0.8156400068,
                        "test": [
                          0.130562478
                        ]
                      },
                      {
                        "learn": [
                          0.07034447131
                        ],
                        "iteration": 225,
                        "passed_time": 1.474969795,
                        "remaining_time": 0.8092754627,
                        "test": [
                          0.1305906871
                        ]
                      },
                      {
                        "learn": [
                          0.07013979007
                        ],
                        "iteration": 226,
                        "passed_time": 1.481093262,
                        "remaining_time": 0.8025307101,
                        "test": [
                          0.1306446376
                        ]
                      },
                      {
                        "learn": [
                          0.06985327026
                        ],
                        "iteration": 227,
                        "passed_time": 1.486874872,
                        "remaining_time": 0.7956084843,
                        "test": [
                          0.1305377329
                        ]
                      },
                      {
                        "learn": [
                          0.06968767622
                        ],
                        "iteration": 228,
                        "passed_time": 1.494522392,
                        "remaining_time": 0.7896821373,
                        "test": [
                          0.1303653794
                        ]
                      },
                      {
                        "learn": [
                          0.06950245343
                        ],
                        "iteration": 229,
                        "passed_time": 1.502931738,
                        "remaining_time": 0.7841382982,
                        "test": [
                          0.1302856957
                        ]
                      },
                      {
                        "learn": [
                          0.06939304048
                        ],
                        "iteration": 230,
                        "passed_time": 1.509222201,
                        "remaining_time": 0.7774781037,
                        "test": [
                          0.1302377766
                        ]
                      },
                      {
                        "learn": [
                          0.06913483393
                        ],
                        "iteration": 231,
                        "passed_time": 1.519088961,
                        "remaining_time": 0.7726400749,
                        "test": [
                          0.130187964
                        ]
                      },
                      {
                        "learn": [
                          0.0688245826
                        ],
                        "iteration": 232,
                        "passed_time": 1.52559892,
                        "remaining_time": 0.7660732773,
                        "test": [
                          0.130297993
                        ]
                      },
                      {
                        "learn": [
                          0.06857446313
                        ],
                        "iteration": 233,
                        "passed_time": 1.53249217,
                        "remaining_time": 0.759696973,
                        "test": [
                          0.1301525671
                        ]
                      },
                      {
                        "learn": [
                          0.0683987765
                        ],
                        "iteration": 234,
                        "passed_time": 1.539477323,
                        "remaining_time": 0.7533612434,
                        "test": [
                          0.130155553
                        ]
                      },
                      {
                        "learn": [
                          0.06811837165
                        ],
                        "iteration": 235,
                        "passed_time": 1.550159979,
                        "remaining_time": 0.7488060917,
                        "test": [
                          0.1299677679
                        ]
                      },
                      {
                        "learn": [
                          0.0676663252
                        ],
                        "iteration": 236,
                        "passed_time": 1.554166337,
                        "remaining_time": 0.7410160173,
                        "test": [
                          0.1296678449
                        ]
                      },
                      {
                        "learn": [
                          0.06744794455
                        ],
                        "iteration": 237,
                        "passed_time": 1.563193044,
                        "remaining_time": 0.7356202558,
                        "test": [
                          0.1298544825
                        ]
                      },
                      {
                        "learn": [
                          0.06716636932
                        ],
                        "iteration": 238,
                        "passed_time": 1.571758748,
                        "remaining_time": 0.7299800044,
                        "test": [
                          0.1300947209
                        ]
                      },
                      {
                        "learn": [
                          0.06692946871
                        ],
                        "iteration": 239,
                        "passed_time": 1.576617736,
                        "remaining_time": 0.7226164621,
                        "test": [
                          0.129854075
                        ]
                      },
                      {
                        "learn": [
                          0.06673042265
                        ],
                        "iteration": 240,
                        "passed_time": 1.590553373,
                        "remaining_time": 0.7193789116,
                        "test": [
                          0.1296794375
                        ]
                      },
                      {
                        "learn": [
                          0.0665114475
                        ],
                        "iteration": 241,
                        "passed_time": 1.593749467,
                        "remaining_time": 0.7112600926,
                        "test": [
                          0.1298359024
                        ]
                      },
                      {
                        "learn": [
                          0.06633823729
                        ],
                        "iteration": 242,
                        "passed_time": 1.597460691,
                        "remaining_time": 0.703408617,
                        "test": [
                          0.1298066803
                        ]
                      },
                      {
                        "learn": [
                          0.06613921278
                        ],
                        "iteration": 243,
                        "passed_time": 1.601157772,
                        "remaining_time": 0.6955849336,
                        "test": [
                          0.129493226
                        ]
                      },
                      {
                        "learn": [
                          0.06583237118
                        ],
                        "iteration": 244,
                        "passed_time": 1.603663937,
                        "remaining_time": 0.6872845445,
                        "test": [
                          0.1297001509
                        ]
                      },
                      {
                        "learn": [
                          0.06571607568
                        ],
                        "iteration": 245,
                        "passed_time": 1.606996491,
                        "remaining_time": 0.6793806304,
                        "test": [
                          0.1297730572
                        ]
                      },
                      {
                        "learn": [
                          0.06556094728
                        ],
                        "iteration": 246,
                        "passed_time": 1.611496465,
                        "remaining_time": 0.67200055,
                        "test": [
                          0.1296056667
                        ]
                      },
                      {
                        "learn": [
                          0.06542564318
                        ],
                        "iteration": 247,
                        "passed_time": 1.61886192,
                        "remaining_time": 0.6658222412,
                        "test": [
                          0.1295172698
                        ]
                      },
                      {
                        "learn": [
                          0.0652694506
                        ],
                        "iteration": 248,
                        "passed_time": 1.627390366,
                        "remaining_time": 0.6601061326,
                        "test": [
                          0.1294465488
                        ]
                      },
                      {
                        "learn": [
                          0.06515753646
                        ],
                        "iteration": 249,
                        "passed_time": 1.632326045,
                        "remaining_time": 0.6529304178,
                        "test": [
                          0.1294728442
                        ]
                      },
                      {
                        "learn": [
                          0.06491431982
                        ],
                        "iteration": 250,
                        "passed_time": 1.64010122,
                        "remaining_time": 0.6468925129,
                        "test": [
                          0.1296479721
                        ]
                      },
                      {
                        "learn": [
                          0.06466454531
                        ],
                        "iteration": 251,
                        "passed_time": 1.642728835,
                        "remaining_time": 0.6388389915,
                        "test": [
                          0.1296117521
                        ]
                      },
                      {
                        "learn": [
                          0.06434697025
                        ],
                        "iteration": 252,
                        "passed_time": 1.647558966,
                        "remaining_time": 0.6316728053,
                        "test": [
                          0.1292880829
                        ]
                      },
                      {
                        "learn": [
                          0.06410016261
                        ],
                        "iteration": 253,
                        "passed_time": 1.65609465,
                        "remaining_time": 0.625925537,
                        "test": [
                          0.1289474076
                        ]
                      },
                      {
                        "learn": [
                          0.06384527492
                        ],
                        "iteration": 254,
                        "passed_time": 1.664169343,
                        "remaining_time": 0.6199846572,
                        "test": [
                          0.1290387864
                        ]
                      },
                      {
                        "learn": [
                          0.06374786272
                        ],
                        "iteration": 255,
                        "passed_time": 1.667959031,
                        "remaining_time": 0.6124537068,
                        "test": [
                          0.1290361507
                        ]
                      },
                      {
                        "learn": [
                          0.06358357793
                        ],
                        "iteration": 256,
                        "passed_time": 1.681450125,
                        "remaining_time": 0.6084624966,
                        "test": [
                          0.1289459826
                        ]
                      },
                      {
                        "learn": [
                          0.06336883524
                        ],
                        "iteration": 257,
                        "passed_time": 1.68698212,
                        "remaining_time": 0.6015595155,
                        "test": [
                          0.1291384171
                        ]
                      },
                      {
                        "learn": [
                          0.06316612609
                        ],
                        "iteration": 258,
                        "passed_time": 1.694218934,
                        "remaining_time": 0.5952661118,
                        "test": [
                          0.1293316163
                        ]
                      },
                      {
                        "learn": [
                          0.06300920455
                        ],
                        "iteration": 259,
                        "passed_time": 1.699286444,
                        "remaining_time": 0.5882145382,
                        "test": [
                          0.1293254606
                        ]
                      },
                      {
                        "learn": [
                          0.06259096662
                        ],
                        "iteration": 260,
                        "passed_time": 1.70724247,
                        "remaining_time": 0.5821631412,
                        "test": [
                          0.128881245
                        ]
                      },
                      {
                        "learn": [
                          0.06220864657
                        ],
                        "iteration": 261,
                        "passed_time": 1.71556792,
                        "remaining_time": 0.576221286,
                        "test": [
                          0.128831614
                        ]
                      },
                      {
                        "learn": [
                          0.0618730174
                        ],
                        "iteration": 262,
                        "passed_time": 1.722446212,
                        "remaining_time": 0.5697825872,
                        "test": [
                          0.1288455696
                        ]
                      },
                      {
                        "learn": [
                          0.06160694408
                        ],
                        "iteration": 263,
                        "passed_time": 1.730151919,
                        "remaining_time": 0.563610095,
                        "test": [
                          0.1287947144
                        ]
                      },
                      {
                        "learn": [
                          0.0614900161
                        ],
                        "iteration": 264,
                        "passed_time": 1.735500442,
                        "remaining_time": 0.5566699532,
                        "test": [
                          0.1287881089
                        ]
                      },
                      {
                        "learn": [
                          0.06138543123
                        ],
                        "iteration": 265,
                        "passed_time": 1.743019161,
                        "remaining_time": 0.5504271034,
                        "test": [
                          0.1287079735
                        ]
                      },
                      {
                        "learn": [
                          0.0609336677
                        ],
                        "iteration": 266,
                        "passed_time": 1.751810778,
                        "remaining_time": 0.5445703915,
                        "test": [
                          0.1282557684
                        ]
                      },
                      {
                        "learn": [
                          0.0608279639
                        ],
                        "iteration": 267,
                        "passed_time": 1.763821623,
                        "remaining_time": 0.5396767651,
                        "test": [
                          0.1282736949
                        ]
                      },
                      {
                        "learn": [
                          0.06068399988
                        ],
                        "iteration": 268,
                        "passed_time": 1.769054005,
                        "remaining_time": 0.5326891243,
                        "test": [
                          0.1282004441
                        ]
                      },
                      {
                        "learn": [
                          0.0604060059
                        ],
                        "iteration": 269,
                        "passed_time": 1.780800598,
                        "remaining_time": 0.5276446216,
                        "test": [
                          0.1280781132
                        ]
                      },
                      {
                        "learn": [
                          0.06030044505
                        ],
                        "iteration": 270,
                        "passed_time": 1.788745148,
                        "remaining_time": 0.5214423126,
                        "test": [
                          0.1280948331
                        ]
                      },
                      {
                        "learn": [
                          0.0600867588
                        ],
                        "iteration": 271,
                        "passed_time": 1.797729433,
                        "remaining_time": 0.5155253523,
                        "test": [
                          0.128227308
                        ]
                      },
                      {
                        "learn": [
                          0.05987328249
                        ],
                        "iteration": 272,
                        "passed_time": 1.809085324,
                        "remaining_time": 0.5102548351,
                        "test": [
                          0.1282846733
                        ]
                      },
                      {
                        "learn": [
                          0.0597855754
                        ],
                        "iteration": 273,
                        "passed_time": 1.813093834,
                        "remaining_time": 0.5029019392,
                        "test": [
                          0.1282825311
                        ]
                      },
                      {
                        "learn": [
                          0.05953283844
                        ],
                        "iteration": 274,
                        "passed_time": 1.822146798,
                        "remaining_time": 0.4969491266,
                        "test": [
                          0.1283148853
                        ]
                      },
                      {
                        "learn": [
                          0.0594237359
                        ],
                        "iteration": 275,
                        "passed_time": 1.827577798,
                        "remaining_time": 0.490002743,
                        "test": [
                          0.1282709226
                        ]
                      },
                      {
                        "learn": [
                          0.05919381251
                        ],
                        "iteration": 276,
                        "passed_time": 1.836371139,
                        "remaining_time": 0.4839534048,
                        "test": [
                          0.1282858394
                        ]
                      },
                      {
                        "learn": [
                          0.0590843955
                        ],
                        "iteration": 277,
                        "passed_time": 1.842323597,
                        "remaining_time": 0.4771485576,
                        "test": [
                          0.1282014905
                        ]
                      },
                      {
                        "learn": [
                          0.0589484797
                        ],
                        "iteration": 278,
                        "passed_time": 1.847497242,
                        "remaining_time": 0.470151628,
                        "test": [
                          0.1282338172
                        ]
                      },
                      {
                        "learn": [
                          0.05886167787
                        ],
                        "iteration": 279,
                        "passed_time": 1.856719384,
                        "remaining_time": 0.4641798461,
                        "test": [
                          0.1283183368
                        ]
                      },
                      {
                        "learn": [
                          0.05871880587
                        ],
                        "iteration": 280,
                        "passed_time": 1.863216664,
                        "remaining_time": 0.4575158356,
                        "test": [
                          0.1282896945
                        ]
                      },
                      {
                        "learn": [
                          0.05851649968
                        ],
                        "iteration": 281,
                        "passed_time": 1.868601276,
                        "remaining_time": 0.4505847049,
                        "test": [
                          0.1284255341
                        ]
                      },
                      {
                        "learn": [
                          0.05824748995
                        ],
                        "iteration": 282,
                        "passed_time": 1.876797898,
                        "remaining_time": 0.4443302444,
                        "test": [
                          0.1284724173
                        ]
                      },
                      {
                        "learn": [
                          0.05805791383
                        ],
                        "iteration": 283,
                        "passed_time": 1.884467712,
                        "remaining_time": 0.4379396796,
                        "test": [
                          0.1282165769
                        ]
                      },
                      {
                        "learn": [
                          0.05796779541
                        ],
                        "iteration": 284,
                        "passed_time": 1.891803745,
                        "remaining_time": 0.431464012,
                        "test": [
                          0.1282806594
                        ]
                      },
                      {
                        "learn": [
                          0.05779495154
                        ],
                        "iteration": 285,
                        "passed_time": 1.894797441,
                        "remaining_time": 0.4240106161,
                        "test": [
                          0.128316413
                        ]
                      },
                      {
                        "learn": [
                          0.05758725841
                        ],
                        "iteration": 286,
                        "passed_time": 1.897416935,
                        "remaining_time": 0.4165061564,
                        "test": [
                          0.1285619616
                        ]
                      },
                      {
                        "learn": [
                          0.05737265891
                        ],
                        "iteration": 287,
                        "passed_time": 1.901308696,
                        "remaining_time": 0.4093095109,
                        "test": [
                          0.1284764331
                        ]
                      },
                      {
                        "learn": [
                          0.05709653396
                        ],
                        "iteration": 288,
                        "passed_time": 1.905006119,
                        "remaining_time": 0.4020947173,
                        "test": [
                          0.1284031053
                        ]
                      },
                      {
                        "learn": [
                          0.05675593903
                        ],
                        "iteration": 289,
                        "passed_time": 1.908154423,
                        "remaining_time": 0.3947905703,
                        "test": [
                          0.1278994671
                        ]
                      },
                      {
                        "learn": [
                          0.05657889395
                        ],
                        "iteration": 290,
                        "passed_time": 1.912013379,
                        "remaining_time": 0.38765907,
                        "test": [
                          0.1278539523
                        ]
                      },
                      {
                        "learn": [
                          0.05650516744
                        ],
                        "iteration": 291,
                        "passed_time": 1.914876957,
                        "remaining_time": 0.3803522723,
                        "test": [
                          0.1278415254
                        ]
                      },
                      {
                        "learn": [
                          0.0563852991
                        ],
                        "iteration": 292,
                        "passed_time": 1.917989131,
                        "remaining_time": 0.3731241655,
                        "test": [
                          0.1278666283
                        ]
                      },
                      {
                        "learn": [
                          0.0561650628
                        ],
                        "iteration": 293,
                        "passed_time": 1.921494569,
                        "remaining_time": 0.3659989655,
                        "test": [
                          0.127977708
                        ]
                      },
                      {
                        "learn": [
                          0.05598137515
                        ],
                        "iteration": 294,
                        "passed_time": 1.92476033,
                        "remaining_time": 0.3588536209,
                        "test": [
                          0.1279985143
                        ]
                      },
                      {
                        "learn": [
                          0.05580520205
                        ],
                        "iteration": 295,
                        "passed_time": 1.927479011,
                        "remaining_time": 0.3516346845,
                        "test": [
                          0.1281813344
                        ]
                      },
                      {
                        "learn": [
                          0.0556148696
                        ],
                        "iteration": 296,
                        "passed_time": 1.931185841,
                        "remaining_time": 0.3446223892,
                        "test": [
                          0.1281320585
                        ]
                      },
                      {
                        "learn": [
                          0.05539674201
                        ],
                        "iteration": 297,
                        "passed_time": 1.933827399,
                        "remaining_time": 0.3374463919,
                        "test": [
                          0.1280817406
                        ]
                      },
                      {
                        "learn": [
                          0.05524870024
                        ],
                        "iteration": 298,
                        "passed_time": 1.937444205,
                        "remaining_time": 0.3304670717,
                        "test": [
                          0.128052146
                        ]
                      },
                      {
                        "learn": [
                          0.05517450281
                        ],
                        "iteration": 299,
                        "passed_time": 1.940200207,
                        "remaining_time": 0.3233667012,
                        "test": [
                          0.1279731988
                        ]
                      },
                      {
                        "learn": [
                          0.05504720527
                        ],
                        "iteration": 300,
                        "passed_time": 1.943260713,
                        "remaining_time": 0.3163447673,
                        "test": [
                          0.12800401
                        ]
                      },
                      {
                        "learn": [
                          0.05485434468
                        ],
                        "iteration": 301,
                        "passed_time": 1.946051499,
                        "remaining_time": 0.3093061985,
                        "test": [
                          0.1279932362
                        ]
                      },
                      {
                        "learn": [
                          0.05465626382
                        ],
                        "iteration": 302,
                        "passed_time": 1.950214522,
                        "remaining_time": 0.3025085232,
                        "test": [
                          0.1279074469
                        ]
                      },
                      {
                        "learn": [
                          0.05441425571
                        ],
                        "iteration": 303,
                        "passed_time": 1.960581728,
                        "remaining_time": 0.2966669721,
                        "test": [
                          0.1275248404
                        ]
                      },
                      {
                        "learn": [
                          0.05432186422
                        ],
                        "iteration": 304,
                        "passed_time": 1.975264881,
                        "remaining_time": 0.2914325235,
                        "test": [
                          0.127594968
                        ]
                      },
                      {
                        "learn": [
                          0.05422397371
                        ],
                        "iteration": 305,
                        "passed_time": 1.980900792,
                        "remaining_time": 0.2848354079,
                        "test": [
                          0.1276315124
                        ]
                      },
                      {
                        "learn": [
                          0.05413254231
                        ],
                        "iteration": 306,
                        "passed_time": 1.988601057,
                        "remaining_time": 0.2785336986,
                        "test": [
                          0.127647685
                        ]
                      },
                      {
                        "learn": [
                          0.05401813528
                        ],
                        "iteration": 307,
                        "passed_time": 1.996365207,
                        "remaining_time": 0.2722316191,
                        "test": [
                          0.1276440766
                        ]
                      },
                      {
                        "learn": [
                          0.05391338096
                        ],
                        "iteration": 308,
                        "passed_time": 2.00137532,
                        "remaining_time": 0.2655546541,
                        "test": [
                          0.1276444193
                        ]
                      },
                      {
                        "learn": [
                          0.05350929819
                        ],
                        "iteration": 309,
                        "passed_time": 2.003785378,
                        "remaining_time": 0.258552952,
                        "test": [
                          0.1271003599
                        ]
                      },
                      {
                        "learn": [
                          0.05335322677
                        ],
                        "iteration": 310,
                        "passed_time": 2.008358035,
                        "remaining_time": 0.2518519722,
                        "test": [
                          0.1271458107
                        ]
                      },
                      {
                        "learn": [
                          0.05313725904
                        ],
                        "iteration": 311,
                        "passed_time": 2.013613464,
                        "remaining_time": 0.2452477937,
                        "test": [
                          0.1268915156
                        ]
                      },
                      {
                        "learn": [
                          0.05298536458
                        ],
                        "iteration": 312,
                        "passed_time": 2.016718307,
                        "remaining_time": 0.2383980107,
                        "test": [
                          0.1270317816
                        ]
                      },
                      {
                        "learn": [
                          0.05291248034
                        ],
                        "iteration": 313,
                        "passed_time": 2.019472627,
                        "remaining_time": 0.2315318936,
                        "test": [
                          0.1270030485
                        ]
                      },
                      {
                        "learn": [
                          0.05280164639
                        ],
                        "iteration": 314,
                        "passed_time": 2.022788113,
                        "remaining_time": 0.2247542348,
                        "test": [
                          0.12695063
                        ]
                      },
                      {
                        "learn": [
                          0.05261984853
                        ],
                        "iteration": 315,
                        "passed_time": 2.026503546,
                        "remaining_time": 0.2180415207,
                        "test": [
                          0.1267007201
                        ]
                      },
                      {
                        "learn": [
                          0.05248653782
                        ],
                        "iteration": 316,
                        "passed_time": 2.029903145,
                        "remaining_time": 0.2113148384,
                        "test": [
                          0.1266432411
                        ]
                      },
                      {
                        "learn": [
                          0.05232689644
                        ],
                        "iteration": 317,
                        "passed_time": 2.033977002,
                        "remaining_time": 0.204676931,
                        "test": [
                          0.1269262623
                        ]
                      },
                      {
                        "learn": [
                          0.05223175811
                        ],
                        "iteration": 318,
                        "passed_time": 2.038872732,
                        "remaining_time": 0.1981349677,
                        "test": [
                          0.1268957775
                        ]
                      },
                      {
                        "learn": [
                          0.05207144134
                        ],
                        "iteration": 319,
                        "passed_time": 2.041561644,
                        "remaining_time": 0.1913964042,
                        "test": [
                          0.1270106134
                        ]
                      },
                      {
                        "learn": [
                          0.05193101324
                        ],
                        "iteration": 320,
                        "passed_time": 2.045446282,
                        "remaining_time": 0.1847910971,
                        "test": [
                          0.1268185287
                        ]
                      },
                      {
                        "learn": [
                          0.05179222829
                        ],
                        "iteration": 321,
                        "passed_time": 2.048199599,
                        "remaining_time": 0.1781043129,
                        "test": [
                          0.126934156
                        ]
                      },
                      {
                        "learn": [
                          0.05164174799
                        ],
                        "iteration": 322,
                        "passed_time": 2.051987933,
                        "remaining_time": 0.1715284031,
                        "test": [
                          0.1268249607
                        ]
                      },
                      {
                        "learn": [
                          0.05146325512
                        ],
                        "iteration": 323,
                        "passed_time": 2.054497459,
                        "remaining_time": 0.16486708,
                        "test": [
                          0.1266341754
                        ]
                      },
                      {
                        "learn": [
                          0.05136482924
                        ],
                        "iteration": 324,
                        "passed_time": 2.058281124,
                        "remaining_time": 0.1583293172,
                        "test": [
                          0.1266202655
                        ]
                      },
                      {
                        "learn": [
                          0.05126208446
                        ],
                        "iteration": 325,
                        "passed_time": 2.062258331,
                        "remaining_time": 0.1518226992,
                        "test": [
                          0.1266740165
                        ]
                      },
                      {
                        "learn": [
                          0.05111254443
                        ],
                        "iteration": 326,
                        "passed_time": 2.066045357,
                        "remaining_time": 0.1453181749,
                        "test": [
                          0.126663831
                        ]
                      },
                      {
                        "learn": [
                          0.05096260445
                        ],
                        "iteration": 327,
                        "passed_time": 2.069100348,
                        "remaining_time": 0.1387811209,
                        "test": [
                          0.126778512
                        ]
                      },
                      {
                        "learn": [
                          0.05076406081
                        ],
                        "iteration": 328,
                        "passed_time": 2.072930058,
                        "remaining_time": 0.1323146846,
                        "test": [
                          0.1268671295
                        ]
                      },
                      {
                        "learn": [
                          0.05058576611
                        ],
                        "iteration": 329,
                        "passed_time": 2.075383455,
                        "remaining_time": 0.1257808155,
                        "test": [
                          0.1269939939
                        ]
                      },
                      {
                        "learn": [
                          0.05022525059
                        ],
                        "iteration": 330,
                        "passed_time": 2.078724411,
                        "remaining_time": 0.1193225493,
                        "test": [
                          0.1266387032
                        ]
                      },
                      {
                        "learn": [
                          0.04998077269
                        ],
                        "iteration": 331,
                        "passed_time": 2.081932846,
                        "remaining_time": 0.1128758772,
                        "test": [
                          0.1267297385
                        ]
                      },
                      {
                        "learn": [
                          0.04981995179
                        ],
                        "iteration": 332,
                        "passed_time": 2.084975586,
                        "remaining_time": 0.1064401951,
                        "test": [
                          0.1267401586
                        ]
                      },
                      {
                        "learn": [
                          0.04972787226
                        ],
                        "iteration": 333,
                        "passed_time": 2.08796397,
                        "remaining_time": 0.1000222261,
                        "test": [
                          0.126624497
                        ]
                      },
                      {
                        "learn": [
                          0.04946904143
                        ],
                        "iteration": 334,
                        "passed_time": 2.091097775,
                        "remaining_time": 0.09363124364,
                        "test": [
                          0.1263583891
                        ]
                      },
                      {
                        "learn": [
                          0.04933581368
                        ],
                        "iteration": 335,
                        "passed_time": 2.094327773,
                        "remaining_time": 0.08726365722,
                        "test": [
                          0.1262995923
                        ]
                      },
                      {
                        "learn": [
                          0.04907891803
                        ],
                        "iteration": 336,
                        "passed_time": 2.097722665,
                        "remaining_time": 0.08092105237,
                        "test": [
                          0.1259455183
                        ]
                      },
                      {
                        "learn": [
                          0.04890859375
                        ],
                        "iteration": 337,
                        "passed_time": 2.10053636,
                        "remaining_time": 0.07457525537,
                        "test": [
                          0.1259415311
                        ]
                      },
                      {
                        "learn": [
                          0.04876312693
                        ],
                        "iteration": 338,
                        "passed_time": 2.104315645,
                        "remaining_time": 0.0682816286,
                        "test": [
                          0.1260314403
                        ]
                      },
                      {
                        "learn": [
                          0.04866005653
                        ],
                        "iteration": 339,
                        "passed_time": 2.110830425,
                        "remaining_time": 0.0620832478,
                        "test": [
                          0.1259786586
                        ]
                      },
                      {
                        "learn": [
                          0.04851637457
                        ],
                        "iteration": 340,
                        "passed_time": 2.114269317,
                        "remaining_time": 0.05580182948,
                        "test": [
                          0.1259200579
                        ]
                      },
                      {
                        "learn": [
                          0.04835923531
                        ],
                        "iteration": 341,
                        "passed_time": 2.118222152,
                        "remaining_time": 0.04954905619,
                        "test": [
                          0.1260878981
                        ]
                      },
                      {
                        "learn": [
                          0.04823567826
                        ],
                        "iteration": 342,
                        "passed_time": 2.122024449,
                        "remaining_time": 0.0433066214,
                        "test": [
                          0.1261686537
                        ]
                      },
                      {
                        "learn": [
                          0.04792507343
                        ],
                        "iteration": 343,
                        "passed_time": 2.125664287,
                        "remaining_time": 0.03707553988,
                        "test": [
                          0.1263698807
                        ]
                      },
                      {
                        "learn": [
                          0.04781370295
                        ],
                        "iteration": 344,
                        "passed_time": 2.128383375,
                        "remaining_time": 0.03084613586,
                        "test": [
                          0.1263391635
                        ]
                      },
                      {
                        "learn": [
                          0.04761330666
                        ],
                        "iteration": 345,
                        "passed_time": 2.131512748,
                        "remaining_time": 0.02464176587,
                        "test": [
                          0.1262886114
                        ]
                      },
                      {
                        "learn": [
                          0.0474169685
                        ],
                        "iteration": 346,
                        "passed_time": 2.134247906,
                        "remaining_time": 0.018451711,
                        "test": [
                          0.1261504987
                        ]
                      },
                      {
                        "learn": [
                          0.047102837
                        ],
                        "iteration": 347,
                        "passed_time": 2.137422707,
                        "remaining_time": 0.01228403855,
                        "test": [
                          0.1256790484
                        ]
                      },
                      {
                        "learn": [
                          0.04698971659
                        ],
                        "iteration": 348,
                        "passed_time": 2.14114846,
                        "remaining_time": 0.006135095875,
                        "test": [
                          0.1256756989
                        ]
                      },
                      {
                        "learn": [
                          0.04684508335
                        ],
                        "iteration": 349,
                        "passed_time": 2.145557005,
                        "remaining_time": 0,
                        "test": [
                          0.1256049772
                        ]
                      }
                    ],
                    "meta": {
                      "test_sets": [
                        "test"
                      ],
                      "test_metrics": [
                        {
                          "best_value": "Min",
                          "name": "MultiClass"
                        }
                      ],
                      "learn_metrics": [
                        {
                          "best_value": "Min",
                          "name": "MultiClass"
                        }
                      ],
                      "launch_mode": "Train",
                      "parameters": "",
                      "iteration_count": 350,
                      "learn_sets": [
                        "learn"
                      ],
                      "name": "experiment"
                    }
                  }
                }
              }
            },
            "layout": "IPY_MODEL_bf07f1c1e6bc4a32a937c03a2490db1d"
          }
        }
      }
    }
  },
  "nbformat": 4,
  "nbformat_minor": 5
}