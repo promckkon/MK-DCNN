{
  "cells": [
    {
      "cell_type": "markdown",
      "metadata": {
        "id": "view-in-github",
        "colab_type": "text"
      },
      "source": [
        "<a href=\"https://colab.research.google.com/github/promckkon/MK-DCNN/blob/main/MK-DCNN%20with%2010dB%20NOISE%20in%20CWRU%20Dataset%20250617.ipynb\" target=\"_parent\"><img src=\"https://colab.research.google.com/assets/colab-badge.svg\" alt=\"Open In Colab\"/></a>"
      ]
    },
    {
      "cell_type": "code",
      "source": [
        "from google.colab import drive\n",
        "drive.mount('/content/drive')"
      ],
      "metadata": {
        "colab": {
          "base_uri": "https://localhost:8080/"
        },
        "id": "_JTcgOD9s-GR",
        "outputId": "2c4cee9d-600c-465d-db0f-1c547fb107dc"
      },
      "id": "_JTcgOD9s-GR",
      "execution_count": 2,
      "outputs": [
        {
          "output_type": "stream",
          "name": "stdout",
          "text": [
            "Drive already mounted at /content/drive; to attempt to forcibly remount, call drive.mount(\"/content/drive\", force_remount=True).\n"
          ]
        }
      ]
    },
    {
      "cell_type": "code",
      "execution_count": 3,
      "id": "1132b641",
      "metadata": {
        "id": "1132b641"
      },
      "outputs": [],
      "source": [
        "import scipy.io\n",
        "import seaborn as sns\n",
        "import numpy as np\n",
        "import pandas as pd\n",
        "import os\n",
        "import matplotlib.pyplot as plt"
      ]
    },
    {
      "cell_type": "markdown",
      "source": [
        "Dataset Input"
      ],
      "metadata": {
        "id": "2haV_hKQQOg-"
      },
      "id": "2haV_hKQQOg-"
    },
    {
      "cell_type": "code",
      "source": [
        "df=pd.DataFrame(columns=['DE_data','fault']) # upload the dataset on googledrive\n",
        "\n",
        "for root, dirs, files in os.walk(\"/content/drive/MyDrive/CWRU_with_NOISE/CWRU_2_NOISE_10\", topdown=False):\n",
        "    for file_name in files:\n",
        "        path = os.path.join(root, file_name)\n",
        "        print(path)\n",
        "\n",
        "        mat = scipy.io.loadmat(path)\n",
        "\n",
        "        key_name = list(mat.keys())[3]\n",
        "        DE_data = mat.get(key_name)\n",
        "        fault = np.full((len(DE_data), 1), file_name[:-4])\n",
        "\n",
        "        df_temp = pd.DataFrame({'DE_data':np.ravel(DE_data) , 'fault':np.ravel(fault)})\n",
        "\n",
        "        df = pd.concat([df,df_temp],axis=0)\n",
        "        print(df['fault'].unique())\n",
        "\n",
        "df.to_csv('/content/drive/MyDrive/MK-DCNN CWRU/NOISE_10_faults.csv',index=False)"
      ],
      "metadata": {
        "colab": {
          "base_uri": "https://localhost:8080/"
        },
        "id": "sXzSVyy_ylsF",
        "outputId": "fc47c18e-c792-460c-f2b7-a44fcc8819a8"
      },
      "id": "sXzSVyy_ylsF",
      "execution_count": 4,
      "outputs": [
        {
          "output_type": "stream",
          "name": "stdout",
          "text": [
            "/content/drive/MyDrive/CWRU_with_NOISE/CWRU_2_NOISE_10/Noise_10_OR014_6_1_202.mat\n"
          ]
        },
        {
          "output_type": "stream",
          "name": "stderr",
          "text": [
            "<ipython-input-4-2478851265>:16: FutureWarning: The behavior of DataFrame concatenation with empty or all-NA entries is deprecated. In a future version, this will no longer exclude empty or all-NA columns when determining the result dtypes. To retain the old behavior, exclude the relevant entries before the concat operation.\n",
            "  df = pd.concat([df,df_temp],axis=0)\n"
          ]
        },
        {
          "output_type": "stream",
          "name": "stdout",
          "text": [
            "['Noise_10_OR014_6_1_202']\n",
            "/content/drive/MyDrive/CWRU_with_NOISE/CWRU_2_NOISE_10/Noise_10_OR007_6_1_136.mat\n",
            "['Noise_10_OR014_6_1_202' 'Noise_10_OR007_6_1_136']\n",
            "/content/drive/MyDrive/CWRU_with_NOISE/CWRU_2_NOISE_10/Noise_10_B014_1_190.mat\n",
            "['Noise_10_OR014_6_1_202' 'Noise_10_OR007_6_1_136' 'Noise_10_B014_1_190']\n",
            "/content/drive/MyDrive/CWRU_with_NOISE/CWRU_2_NOISE_10/Noise_10_B021_1_227.mat\n",
            "['Noise_10_OR014_6_1_202' 'Noise_10_OR007_6_1_136' 'Noise_10_B014_1_190'\n",
            " 'Noise_10_B021_1_227']\n",
            "/content/drive/MyDrive/CWRU_with_NOISE/CWRU_2_NOISE_10/Noise_10_Time_Normal_1_098.mat\n",
            "['Noise_10_OR014_6_1_202' 'Noise_10_OR007_6_1_136' 'Noise_10_B014_1_190'\n",
            " 'Noise_10_B021_1_227' 'Noise_10_Time_Normal_1_098']\n",
            "/content/drive/MyDrive/CWRU_with_NOISE/CWRU_2_NOISE_10/Noise_10_IR007_1_110.mat\n",
            "['Noise_10_OR014_6_1_202' 'Noise_10_OR007_6_1_136' 'Noise_10_B014_1_190'\n",
            " 'Noise_10_B021_1_227' 'Noise_10_Time_Normal_1_098' 'Noise_10_IR007_1_110']\n",
            "/content/drive/MyDrive/CWRU_with_NOISE/CWRU_2_NOISE_10/Noise_10_OR021_6_1_239.mat\n",
            "['Noise_10_OR014_6_1_202' 'Noise_10_OR007_6_1_136' 'Noise_10_B014_1_190'\n",
            " 'Noise_10_B021_1_227' 'Noise_10_Time_Normal_1_098' 'Noise_10_IR007_1_110'\n",
            " 'Noise_10_OR021_6_1_239']\n",
            "/content/drive/MyDrive/CWRU_with_NOISE/CWRU_2_NOISE_10/Noise_10_IR021_1_214.mat\n",
            "['Noise_10_OR014_6_1_202' 'Noise_10_OR007_6_1_136' 'Noise_10_B014_1_190'\n",
            " 'Noise_10_B021_1_227' 'Noise_10_Time_Normal_1_098' 'Noise_10_IR007_1_110'\n",
            " 'Noise_10_OR021_6_1_239' 'Noise_10_IR021_1_214']\n",
            "/content/drive/MyDrive/CWRU_with_NOISE/CWRU_2_NOISE_10/Noise_10_B007_1_123.mat\n",
            "['Noise_10_OR014_6_1_202' 'Noise_10_OR007_6_1_136' 'Noise_10_B014_1_190'\n",
            " 'Noise_10_B021_1_227' 'Noise_10_Time_Normal_1_098' 'Noise_10_IR007_1_110'\n",
            " 'Noise_10_OR021_6_1_239' 'Noise_10_IR021_1_214' 'Noise_10_B007_1_123']\n"
          ]
        }
      ]
    },
    {
      "cell_type": "markdown",
      "source": [
        "# Multi-Kernel Deep 1D-CNN"
      ],
      "metadata": {
        "id": "2d0arbB2knS8"
      },
      "id": "2d0arbB2knS8"
    },
    {
      "cell_type": "code",
      "source": [
        "pip install tensorflow"
      ],
      "metadata": {
        "colab": {
          "base_uri": "https://localhost:8080/"
        },
        "id": "-dsJA9B5YVAW",
        "outputId": "5f2daa04-20da-48a2-d524-7d9457c7b57d"
      },
      "id": "-dsJA9B5YVAW",
      "execution_count": 5,
      "outputs": [
        {
          "output_type": "stream",
          "name": "stdout",
          "text": [
            "Requirement already satisfied: tensorflow in /usr/local/lib/python3.11/dist-packages (2.18.0)\n",
            "Requirement already satisfied: absl-py>=1.0.0 in /usr/local/lib/python3.11/dist-packages (from tensorflow) (1.4.0)\n",
            "Requirement already satisfied: astunparse>=1.6.0 in /usr/local/lib/python3.11/dist-packages (from tensorflow) (1.6.3)\n",
            "Requirement already satisfied: flatbuffers>=24.3.25 in /usr/local/lib/python3.11/dist-packages (from tensorflow) (25.2.10)\n",
            "Requirement already satisfied: gast!=0.5.0,!=0.5.1,!=0.5.2,>=0.2.1 in /usr/local/lib/python3.11/dist-packages (from tensorflow) (0.6.0)\n",
            "Requirement already satisfied: google-pasta>=0.1.1 in /usr/local/lib/python3.11/dist-packages (from tensorflow) (0.2.0)\n",
            "Requirement already satisfied: libclang>=13.0.0 in /usr/local/lib/python3.11/dist-packages (from tensorflow) (18.1.1)\n",
            "Requirement already satisfied: opt-einsum>=2.3.2 in /usr/local/lib/python3.11/dist-packages (from tensorflow) (3.4.0)\n",
            "Requirement already satisfied: packaging in /usr/local/lib/python3.11/dist-packages (from tensorflow) (24.2)\n",
            "Requirement already satisfied: protobuf!=4.21.0,!=4.21.1,!=4.21.2,!=4.21.3,!=4.21.4,!=4.21.5,<6.0.0dev,>=3.20.3 in /usr/local/lib/python3.11/dist-packages (from tensorflow) (5.29.5)\n",
            "Requirement already satisfied: requests<3,>=2.21.0 in /usr/local/lib/python3.11/dist-packages (from tensorflow) (2.32.3)\n",
            "Requirement already satisfied: setuptools in /usr/local/lib/python3.11/dist-packages (from tensorflow) (75.2.0)\n",
            "Requirement already satisfied: six>=1.12.0 in /usr/local/lib/python3.11/dist-packages (from tensorflow) (1.17.0)\n",
            "Requirement already satisfied: termcolor>=1.1.0 in /usr/local/lib/python3.11/dist-packages (from tensorflow) (3.1.0)\n",
            "Requirement already satisfied: typing-extensions>=3.6.6 in /usr/local/lib/python3.11/dist-packages (from tensorflow) (4.14.0)\n",
            "Requirement already satisfied: wrapt>=1.11.0 in /usr/local/lib/python3.11/dist-packages (from tensorflow) (1.17.2)\n",
            "Requirement already satisfied: grpcio<2.0,>=1.24.3 in /usr/local/lib/python3.11/dist-packages (from tensorflow) (1.72.1)\n",
            "Requirement already satisfied: tensorboard<2.19,>=2.18 in /usr/local/lib/python3.11/dist-packages (from tensorflow) (2.18.0)\n",
            "Requirement already satisfied: keras>=3.5.0 in /usr/local/lib/python3.11/dist-packages (from tensorflow) (3.8.0)\n",
            "Requirement already satisfied: numpy<2.1.0,>=1.26.0 in /usr/local/lib/python3.11/dist-packages (from tensorflow) (2.0.2)\n",
            "Requirement already satisfied: h5py>=3.11.0 in /usr/local/lib/python3.11/dist-packages (from tensorflow) (3.13.0)\n",
            "Requirement already satisfied: ml-dtypes<0.5.0,>=0.4.0 in /usr/local/lib/python3.11/dist-packages (from tensorflow) (0.4.1)\n",
            "Requirement already satisfied: tensorflow-io-gcs-filesystem>=0.23.1 in /usr/local/lib/python3.11/dist-packages (from tensorflow) (0.37.1)\n",
            "Requirement already satisfied: wheel<1.0,>=0.23.0 in /usr/local/lib/python3.11/dist-packages (from astunparse>=1.6.0->tensorflow) (0.45.1)\n",
            "Requirement already satisfied: rich in /usr/local/lib/python3.11/dist-packages (from keras>=3.5.0->tensorflow) (13.9.4)\n",
            "Requirement already satisfied: namex in /usr/local/lib/python3.11/dist-packages (from keras>=3.5.0->tensorflow) (0.1.0)\n",
            "Requirement already satisfied: optree in /usr/local/lib/python3.11/dist-packages (from keras>=3.5.0->tensorflow) (0.16.0)\n",
            "Requirement already satisfied: charset-normalizer<4,>=2 in /usr/local/lib/python3.11/dist-packages (from requests<3,>=2.21.0->tensorflow) (3.4.2)\n",
            "Requirement already satisfied: idna<4,>=2.5 in /usr/local/lib/python3.11/dist-packages (from requests<3,>=2.21.0->tensorflow) (3.10)\n",
            "Requirement already satisfied: urllib3<3,>=1.21.1 in /usr/local/lib/python3.11/dist-packages (from requests<3,>=2.21.0->tensorflow) (2.4.0)\n",
            "Requirement already satisfied: certifi>=2017.4.17 in /usr/local/lib/python3.11/dist-packages (from requests<3,>=2.21.0->tensorflow) (2025.4.26)\n",
            "Requirement already satisfied: markdown>=2.6.8 in /usr/local/lib/python3.11/dist-packages (from tensorboard<2.19,>=2.18->tensorflow) (3.8)\n",
            "Requirement already satisfied: tensorboard-data-server<0.8.0,>=0.7.0 in /usr/local/lib/python3.11/dist-packages (from tensorboard<2.19,>=2.18->tensorflow) (0.7.2)\n",
            "Requirement already satisfied: werkzeug>=1.0.1 in /usr/local/lib/python3.11/dist-packages (from tensorboard<2.19,>=2.18->tensorflow) (3.1.3)\n",
            "Requirement already satisfied: MarkupSafe>=2.1.1 in /usr/local/lib/python3.11/dist-packages (from werkzeug>=1.0.1->tensorboard<2.19,>=2.18->tensorflow) (3.0.2)\n",
            "Requirement already satisfied: markdown-it-py>=2.2.0 in /usr/local/lib/python3.11/dist-packages (from rich->keras>=3.5.0->tensorflow) (3.0.0)\n",
            "Requirement already satisfied: pygments<3.0.0,>=2.13.0 in /usr/local/lib/python3.11/dist-packages (from rich->keras>=3.5.0->tensorflow) (2.19.1)\n",
            "Requirement already satisfied: mdurl~=0.1 in /usr/local/lib/python3.11/dist-packages (from markdown-it-py>=2.2.0->rich->keras>=3.5.0->tensorflow) (0.1.2)\n"
          ]
        }
      ]
    },
    {
      "cell_type": "code",
      "source": [
        "from sklearn.preprocessing import LabelEncoder\n",
        "from tensorflow.keras.utils import to_categorical\n",
        "\n",
        "\n",
        "# Total target rows\n",
        "TARGET_ROWS = 1800\n",
        "\n",
        "# Estimate the total number of samples across all fault types\n",
        "total_samples = sum(len(df[df['fault'] == f]) for f in df['fault'].unique())\n",
        "\n",
        "# Calculate suitable window size and stride\n",
        "num_faults = 9\n",
        "average_samples_per_fault = total_samples / num_faults\n",
        "approx_windows_per_fault = TARGET_ROWS / num_faults\n",
        "stride_ratio = 0.8  # Initial stride/window ratio\n",
        "\n",
        "win_len = int(average_samples_per_fault / approx_windows_per_fault)\n",
        "stride = int(win_len * stride_ratio)\n",
        "\n",
        "X=[]\n",
        "Y=[]\n",
        "\n",
        "\n",
        "for k in df['fault'].unique():\n",
        "\n",
        "    df_temp_2 = df[df['fault']==k]\n",
        "\n",
        "    for i in np.arange(0,len(df_temp_2)-(win_len),stride):\n",
        "        temp = df_temp_2.iloc[i:i+win_len,:-1].values\n",
        "        temp = temp.reshape((1,-1))\n",
        "        X.append(temp)\n",
        "        Y.append(df_temp_2.iloc[i+win_len,-1])\n",
        "\n",
        "X=np.array(X)\n",
        "X=X.reshape((X.shape[0],-1,1))\n",
        "#X = np.repeat(X, 3, axis=3) # To repeat into 3 chanel format\n",
        "\n",
        "\n",
        "Y=np.array(Y)\n",
        "encoder= LabelEncoder()\n",
        "encoder.fit(Y)\n",
        "encoded_Y = encoder.transform(Y)\n",
        "OHE_Y = to_categorical(encoded_Y)"
      ],
      "metadata": {
        "id": "5s5vUXrUM2BH"
      },
      "id": "5s5vUXrUM2BH",
      "execution_count": 6,
      "outputs": []
    },
    {
      "cell_type": "code",
      "source": [
        "from sklearn.model_selection import train_test_split\n",
        "X_train,X_test,y_train,y_test = train_test_split(X,OHE_Y,test_size=0.3,shuffle=True)"
      ],
      "metadata": {
        "id": "PreHyG2yMkTA"
      },
      "id": "PreHyG2yMkTA",
      "execution_count": 7,
      "outputs": []
    },
    {
      "cell_type": "code",
      "source": [
        "import tensorflow as tf\n",
        "from tensorflow.keras.models import Model\n",
        "from tensorflow.keras.layers import Input, Dense, Dropout, Flatten, Conv1D, MaxPooling1D, concatenate\n",
        "from tensorflow.keras import backend as K\n",
        "\n",
        "# --- Custom Physics-Informed Loss Function ---\n",
        "def custom_loss(y_true, y_pred):\n",
        "    # Standard categorical crossentropy\n",
        "    loss = K.categorical_crossentropy(y_true, y_pred)\n",
        "\n",
        "    # Physics-Informed Term: penalize rapid class probability changes\n",
        "    # Ensure y_pred is at least 2D for slicing\n",
        "    if K.ndim(y_pred) < 2:\n",
        "        y_pred = K.expand_dims(y_pred, axis=-1)\n",
        "\n",
        "    # Ensure y_pred has more than one class dimension to compute diff\n",
        "    if K.int_shape(y_pred)[-1] > 1:\n",
        "        diff = y_pred[:, 1:] - y_pred[:, :-1]\n",
        "        squared_diff = tf.square(diff)\n",
        "        physics_term = tf.reduce_mean(squared_diff)\n",
        "    else:\n",
        "        physics_term = 0.0 # No physics term if only one class\n",
        "\n",
        "\n",
        "    # Total loss = classification loss + regularization term\n",
        "    total_loss = loss + 0.01 * physics_term  # 0.01 is tunable\n",
        "\n",
        "    return total_loss\n",
        "\n",
        "# --- Model Definition ---\n",
        "# no_classes = len(df['fault'].unique()) # Original line that caused 10 classes\n",
        "no_classes = len(encoder.classes_) # Use the encoder to get the correct number of classes\n",
        "print(f\"Number of output classes (no_classes): {no_classes}\") # Add print statement to verify\n",
        "\n",
        "input_shape = (X.shape[1], X.shape[2])  # Example: (784, 1)\n",
        "\n",
        "# Head 1\n",
        "inputs1 = Input(shape=input_shape)\n",
        "conv1 = Conv1D(filters=64, kernel_size=200, activation='relu')(inputs1)\n",
        "drop1 = Dropout(0.5)(conv1)\n",
        "pool1 = MaxPooling1D(pool_size=20)(drop1)\n",
        "flat1 = Flatten()(pool1)\n",
        "\n",
        "# Head 2\n",
        "inputs2 = Input(shape=input_shape)\n",
        "conv2 = Conv1D(filters=64, kernel_size=100, activation='relu')(inputs2)\n",
        "drop2 = Dropout(0.5)(conv2)\n",
        "pool2 = MaxPooling1D(pool_size=10)(drop2)\n",
        "flat2 = Flatten()(pool2)\n",
        "\n",
        "# Head 3\n",
        "inputs3 = Input(shape=input_shape)\n",
        "conv3 = Conv1D(filters=64, kernel_size=50, activation='relu')(inputs3)\n",
        "drop3 = Dropout(0.5)(conv3)\n",
        "pool3 = MaxPooling1D(pool_size=5)(drop3)\n",
        "flat3 = Flatten()(pool3)\n",
        "\n",
        "# Merge all feature paths\n",
        "merged = concatenate([flat1, flat2, flat3])\n",
        "\n",
        "# Fully connected interpretation\n",
        "dense1 = Dense(100, activation='relu')(merged)\n",
        "outputs = Dense(no_classes, activation='softmax')(dense1)\n",
        "\n",
        "# Build and compile model with custom loss\n",
        "cnn_model = Model(inputs=[inputs1, inputs2, inputs3], outputs=outputs)\n",
        "cnn_model.compile(optimizer='adam', loss=custom_loss, metrics=['accuracy'])\n",
        "\n",
        "# Model summary\n",
        "cnn_model.summary()"
      ],
      "metadata": {
        "colab": {
          "base_uri": "https://localhost:8080/",
          "height": 870
        },
        "id": "kB3uGh-8J7no",
        "outputId": "3b2dc0a5-f724-44e2-b760-43830762ce25"
      },
      "id": "kB3uGh-8J7no",
      "execution_count": 8,
      "outputs": [
        {
          "output_type": "stream",
          "name": "stdout",
          "text": [
            "Number of output classes (no_classes): 9\n"
          ]
        },
        {
          "output_type": "display_data",
          "data": {
            "text/plain": [
              "\u001b[1mModel: \"functional\"\u001b[0m\n"
            ],
            "text/html": [
              "<pre style=\"white-space:pre;overflow-x:auto;line-height:normal;font-family:Menlo,'DejaVu Sans Mono',consolas,'Courier New',monospace\"><span style=\"font-weight: bold\">Model: \"functional\"</span>\n",
              "</pre>\n"
            ]
          },
          "metadata": {}
        },
        {
          "output_type": "display_data",
          "data": {
            "text/plain": [
              "┏━━━━━━━━━━━━━━━━━━━━━┳━━━━━━━━━━━━━━━━━━━┳━━━━━━━━━━━━┳━━━━━━━━━━━━━━━━━━━┓\n",
              "┃\u001b[1m \u001b[0m\u001b[1mLayer (type)       \u001b[0m\u001b[1m \u001b[0m┃\u001b[1m \u001b[0m\u001b[1mOutput Shape     \u001b[0m\u001b[1m \u001b[0m┃\u001b[1m \u001b[0m\u001b[1m   Param #\u001b[0m\u001b[1m \u001b[0m┃\u001b[1m \u001b[0m\u001b[1mConnected to     \u001b[0m\u001b[1m \u001b[0m┃\n",
              "┡━━━━━━━━━━━━━━━━━━━━━╇━━━━━━━━━━━━━━━━━━━╇━━━━━━━━━━━━╇━━━━━━━━━━━━━━━━━━━┩\n",
              "│ input_layer         │ (\u001b[38;5;45mNone\u001b[0m, \u001b[38;5;34m2431\u001b[0m, \u001b[38;5;34m1\u001b[0m)   │          \u001b[38;5;34m0\u001b[0m │ -                 │\n",
              "│ (\u001b[38;5;33mInputLayer\u001b[0m)        │                   │            │                   │\n",
              "├─────────────────────┼───────────────────┼────────────┼───────────────────┤\n",
              "│ input_layer_1       │ (\u001b[38;5;45mNone\u001b[0m, \u001b[38;5;34m2431\u001b[0m, \u001b[38;5;34m1\u001b[0m)   │          \u001b[38;5;34m0\u001b[0m │ -                 │\n",
              "│ (\u001b[38;5;33mInputLayer\u001b[0m)        │                   │            │                   │\n",
              "├─────────────────────┼───────────────────┼────────────┼───────────────────┤\n",
              "│ input_layer_2       │ (\u001b[38;5;45mNone\u001b[0m, \u001b[38;5;34m2431\u001b[0m, \u001b[38;5;34m1\u001b[0m)   │          \u001b[38;5;34m0\u001b[0m │ -                 │\n",
              "│ (\u001b[38;5;33mInputLayer\u001b[0m)        │                   │            │                   │\n",
              "├─────────────────────┼───────────────────┼────────────┼───────────────────┤\n",
              "│ conv1d (\u001b[38;5;33mConv1D\u001b[0m)     │ (\u001b[38;5;45mNone\u001b[0m, \u001b[38;5;34m2232\u001b[0m, \u001b[38;5;34m64\u001b[0m)  │     \u001b[38;5;34m12,864\u001b[0m │ input_layer[\u001b[38;5;34m0\u001b[0m][\u001b[38;5;34m0\u001b[0m] │\n",
              "├─────────────────────┼───────────────────┼────────────┼───────────────────┤\n",
              "│ conv1d_1 (\u001b[38;5;33mConv1D\u001b[0m)   │ (\u001b[38;5;45mNone\u001b[0m, \u001b[38;5;34m2332\u001b[0m, \u001b[38;5;34m64\u001b[0m)  │      \u001b[38;5;34m6,464\u001b[0m │ input_layer_1[\u001b[38;5;34m0\u001b[0m]… │\n",
              "├─────────────────────┼───────────────────┼────────────┼───────────────────┤\n",
              "│ conv1d_2 (\u001b[38;5;33mConv1D\u001b[0m)   │ (\u001b[38;5;45mNone\u001b[0m, \u001b[38;5;34m2382\u001b[0m, \u001b[38;5;34m64\u001b[0m)  │      \u001b[38;5;34m3,264\u001b[0m │ input_layer_2[\u001b[38;5;34m0\u001b[0m]… │\n",
              "├─────────────────────┼───────────────────┼────────────┼───────────────────┤\n",
              "│ dropout (\u001b[38;5;33mDropout\u001b[0m)   │ (\u001b[38;5;45mNone\u001b[0m, \u001b[38;5;34m2232\u001b[0m, \u001b[38;5;34m64\u001b[0m)  │          \u001b[38;5;34m0\u001b[0m │ conv1d[\u001b[38;5;34m0\u001b[0m][\u001b[38;5;34m0\u001b[0m]      │\n",
              "├─────────────────────┼───────────────────┼────────────┼───────────────────┤\n",
              "│ dropout_1 (\u001b[38;5;33mDropout\u001b[0m) │ (\u001b[38;5;45mNone\u001b[0m, \u001b[38;5;34m2332\u001b[0m, \u001b[38;5;34m64\u001b[0m)  │          \u001b[38;5;34m0\u001b[0m │ conv1d_1[\u001b[38;5;34m0\u001b[0m][\u001b[38;5;34m0\u001b[0m]    │\n",
              "├─────────────────────┼───────────────────┼────────────┼───────────────────┤\n",
              "│ dropout_2 (\u001b[38;5;33mDropout\u001b[0m) │ (\u001b[38;5;45mNone\u001b[0m, \u001b[38;5;34m2382\u001b[0m, \u001b[38;5;34m64\u001b[0m)  │          \u001b[38;5;34m0\u001b[0m │ conv1d_2[\u001b[38;5;34m0\u001b[0m][\u001b[38;5;34m0\u001b[0m]    │\n",
              "├─────────────────────┼───────────────────┼────────────┼───────────────────┤\n",
              "│ max_pooling1d       │ (\u001b[38;5;45mNone\u001b[0m, \u001b[38;5;34m111\u001b[0m, \u001b[38;5;34m64\u001b[0m)   │          \u001b[38;5;34m0\u001b[0m │ dropout[\u001b[38;5;34m0\u001b[0m][\u001b[38;5;34m0\u001b[0m]     │\n",
              "│ (\u001b[38;5;33mMaxPooling1D\u001b[0m)      │                   │            │                   │\n",
              "├─────────────────────┼───────────────────┼────────────┼───────────────────┤\n",
              "│ max_pooling1d_1     │ (\u001b[38;5;45mNone\u001b[0m, \u001b[38;5;34m233\u001b[0m, \u001b[38;5;34m64\u001b[0m)   │          \u001b[38;5;34m0\u001b[0m │ dropout_1[\u001b[38;5;34m0\u001b[0m][\u001b[38;5;34m0\u001b[0m]   │\n",
              "│ (\u001b[38;5;33mMaxPooling1D\u001b[0m)      │                   │            │                   │\n",
              "├─────────────────────┼───────────────────┼────────────┼───────────────────┤\n",
              "│ max_pooling1d_2     │ (\u001b[38;5;45mNone\u001b[0m, \u001b[38;5;34m476\u001b[0m, \u001b[38;5;34m64\u001b[0m)   │          \u001b[38;5;34m0\u001b[0m │ dropout_2[\u001b[38;5;34m0\u001b[0m][\u001b[38;5;34m0\u001b[0m]   │\n",
              "│ (\u001b[38;5;33mMaxPooling1D\u001b[0m)      │                   │            │                   │\n",
              "├─────────────────────┼───────────────────┼────────────┼───────────────────┤\n",
              "│ flatten (\u001b[38;5;33mFlatten\u001b[0m)   │ (\u001b[38;5;45mNone\u001b[0m, \u001b[38;5;34m7104\u001b[0m)      │          \u001b[38;5;34m0\u001b[0m │ max_pooling1d[\u001b[38;5;34m0\u001b[0m]… │\n",
              "├─────────────────────┼───────────────────┼────────────┼───────────────────┤\n",
              "│ flatten_1 (\u001b[38;5;33mFlatten\u001b[0m) │ (\u001b[38;5;45mNone\u001b[0m, \u001b[38;5;34m14912\u001b[0m)     │          \u001b[38;5;34m0\u001b[0m │ max_pooling1d_1[\u001b[38;5;34m…\u001b[0m │\n",
              "├─────────────────────┼───────────────────┼────────────┼───────────────────┤\n",
              "│ flatten_2 (\u001b[38;5;33mFlatten\u001b[0m) │ (\u001b[38;5;45mNone\u001b[0m, \u001b[38;5;34m30464\u001b[0m)     │          \u001b[38;5;34m0\u001b[0m │ max_pooling1d_2[\u001b[38;5;34m…\u001b[0m │\n",
              "├─────────────────────┼───────────────────┼────────────┼───────────────────┤\n",
              "│ concatenate         │ (\u001b[38;5;45mNone\u001b[0m, \u001b[38;5;34m52480\u001b[0m)     │          \u001b[38;5;34m0\u001b[0m │ flatten[\u001b[38;5;34m0\u001b[0m][\u001b[38;5;34m0\u001b[0m],    │\n",
              "│ (\u001b[38;5;33mConcatenate\u001b[0m)       │                   │            │ flatten_1[\u001b[38;5;34m0\u001b[0m][\u001b[38;5;34m0\u001b[0m],  │\n",
              "│                     │                   │            │ flatten_2[\u001b[38;5;34m0\u001b[0m][\u001b[38;5;34m0\u001b[0m]   │\n",
              "├─────────────────────┼───────────────────┼────────────┼───────────────────┤\n",
              "│ dense (\u001b[38;5;33mDense\u001b[0m)       │ (\u001b[38;5;45mNone\u001b[0m, \u001b[38;5;34m100\u001b[0m)       │  \u001b[38;5;34m5,248,100\u001b[0m │ concatenate[\u001b[38;5;34m0\u001b[0m][\u001b[38;5;34m0\u001b[0m] │\n",
              "├─────────────────────┼───────────────────┼────────────┼───────────────────┤\n",
              "│ dense_1 (\u001b[38;5;33mDense\u001b[0m)     │ (\u001b[38;5;45mNone\u001b[0m, \u001b[38;5;34m9\u001b[0m)         │        \u001b[38;5;34m909\u001b[0m │ dense[\u001b[38;5;34m0\u001b[0m][\u001b[38;5;34m0\u001b[0m]       │\n",
              "└─────────────────────┴───────────────────┴────────────┴───────────────────┘\n"
            ],
            "text/html": [
              "<pre style=\"white-space:pre;overflow-x:auto;line-height:normal;font-family:Menlo,'DejaVu Sans Mono',consolas,'Courier New',monospace\">┏━━━━━━━━━━━━━━━━━━━━━┳━━━━━━━━━━━━━━━━━━━┳━━━━━━━━━━━━┳━━━━━━━━━━━━━━━━━━━┓\n",
              "┃<span style=\"font-weight: bold\"> Layer (type)        </span>┃<span style=\"font-weight: bold\"> Output Shape      </span>┃<span style=\"font-weight: bold\">    Param # </span>┃<span style=\"font-weight: bold\"> Connected to      </span>┃\n",
              "┡━━━━━━━━━━━━━━━━━━━━━╇━━━━━━━━━━━━━━━━━━━╇━━━━━━━━━━━━╇━━━━━━━━━━━━━━━━━━━┩\n",
              "│ input_layer         │ (<span style=\"color: #00d7ff; text-decoration-color: #00d7ff\">None</span>, <span style=\"color: #00af00; text-decoration-color: #00af00\">2431</span>, <span style=\"color: #00af00; text-decoration-color: #00af00\">1</span>)   │          <span style=\"color: #00af00; text-decoration-color: #00af00\">0</span> │ -                 │\n",
              "│ (<span style=\"color: #0087ff; text-decoration-color: #0087ff\">InputLayer</span>)        │                   │            │                   │\n",
              "├─────────────────────┼───────────────────┼────────────┼───────────────────┤\n",
              "│ input_layer_1       │ (<span style=\"color: #00d7ff; text-decoration-color: #00d7ff\">None</span>, <span style=\"color: #00af00; text-decoration-color: #00af00\">2431</span>, <span style=\"color: #00af00; text-decoration-color: #00af00\">1</span>)   │          <span style=\"color: #00af00; text-decoration-color: #00af00\">0</span> │ -                 │\n",
              "│ (<span style=\"color: #0087ff; text-decoration-color: #0087ff\">InputLayer</span>)        │                   │            │                   │\n",
              "├─────────────────────┼───────────────────┼────────────┼───────────────────┤\n",
              "│ input_layer_2       │ (<span style=\"color: #00d7ff; text-decoration-color: #00d7ff\">None</span>, <span style=\"color: #00af00; text-decoration-color: #00af00\">2431</span>, <span style=\"color: #00af00; text-decoration-color: #00af00\">1</span>)   │          <span style=\"color: #00af00; text-decoration-color: #00af00\">0</span> │ -                 │\n",
              "│ (<span style=\"color: #0087ff; text-decoration-color: #0087ff\">InputLayer</span>)        │                   │            │                   │\n",
              "├─────────────────────┼───────────────────┼────────────┼───────────────────┤\n",
              "│ conv1d (<span style=\"color: #0087ff; text-decoration-color: #0087ff\">Conv1D</span>)     │ (<span style=\"color: #00d7ff; text-decoration-color: #00d7ff\">None</span>, <span style=\"color: #00af00; text-decoration-color: #00af00\">2232</span>, <span style=\"color: #00af00; text-decoration-color: #00af00\">64</span>)  │     <span style=\"color: #00af00; text-decoration-color: #00af00\">12,864</span> │ input_layer[<span style=\"color: #00af00; text-decoration-color: #00af00\">0</span>][<span style=\"color: #00af00; text-decoration-color: #00af00\">0</span>] │\n",
              "├─────────────────────┼───────────────────┼────────────┼───────────────────┤\n",
              "│ conv1d_1 (<span style=\"color: #0087ff; text-decoration-color: #0087ff\">Conv1D</span>)   │ (<span style=\"color: #00d7ff; text-decoration-color: #00d7ff\">None</span>, <span style=\"color: #00af00; text-decoration-color: #00af00\">2332</span>, <span style=\"color: #00af00; text-decoration-color: #00af00\">64</span>)  │      <span style=\"color: #00af00; text-decoration-color: #00af00\">6,464</span> │ input_layer_1[<span style=\"color: #00af00; text-decoration-color: #00af00\">0</span>]… │\n",
              "├─────────────────────┼───────────────────┼────────────┼───────────────────┤\n",
              "│ conv1d_2 (<span style=\"color: #0087ff; text-decoration-color: #0087ff\">Conv1D</span>)   │ (<span style=\"color: #00d7ff; text-decoration-color: #00d7ff\">None</span>, <span style=\"color: #00af00; text-decoration-color: #00af00\">2382</span>, <span style=\"color: #00af00; text-decoration-color: #00af00\">64</span>)  │      <span style=\"color: #00af00; text-decoration-color: #00af00\">3,264</span> │ input_layer_2[<span style=\"color: #00af00; text-decoration-color: #00af00\">0</span>]… │\n",
              "├─────────────────────┼───────────────────┼────────────┼───────────────────┤\n",
              "│ dropout (<span style=\"color: #0087ff; text-decoration-color: #0087ff\">Dropout</span>)   │ (<span style=\"color: #00d7ff; text-decoration-color: #00d7ff\">None</span>, <span style=\"color: #00af00; text-decoration-color: #00af00\">2232</span>, <span style=\"color: #00af00; text-decoration-color: #00af00\">64</span>)  │          <span style=\"color: #00af00; text-decoration-color: #00af00\">0</span> │ conv1d[<span style=\"color: #00af00; text-decoration-color: #00af00\">0</span>][<span style=\"color: #00af00; text-decoration-color: #00af00\">0</span>]      │\n",
              "├─────────────────────┼───────────────────┼────────────┼───────────────────┤\n",
              "│ dropout_1 (<span style=\"color: #0087ff; text-decoration-color: #0087ff\">Dropout</span>) │ (<span style=\"color: #00d7ff; text-decoration-color: #00d7ff\">None</span>, <span style=\"color: #00af00; text-decoration-color: #00af00\">2332</span>, <span style=\"color: #00af00; text-decoration-color: #00af00\">64</span>)  │          <span style=\"color: #00af00; text-decoration-color: #00af00\">0</span> │ conv1d_1[<span style=\"color: #00af00; text-decoration-color: #00af00\">0</span>][<span style=\"color: #00af00; text-decoration-color: #00af00\">0</span>]    │\n",
              "├─────────────────────┼───────────────────┼────────────┼───────────────────┤\n",
              "│ dropout_2 (<span style=\"color: #0087ff; text-decoration-color: #0087ff\">Dropout</span>) │ (<span style=\"color: #00d7ff; text-decoration-color: #00d7ff\">None</span>, <span style=\"color: #00af00; text-decoration-color: #00af00\">2382</span>, <span style=\"color: #00af00; text-decoration-color: #00af00\">64</span>)  │          <span style=\"color: #00af00; text-decoration-color: #00af00\">0</span> │ conv1d_2[<span style=\"color: #00af00; text-decoration-color: #00af00\">0</span>][<span style=\"color: #00af00; text-decoration-color: #00af00\">0</span>]    │\n",
              "├─────────────────────┼───────────────────┼────────────┼───────────────────┤\n",
              "│ max_pooling1d       │ (<span style=\"color: #00d7ff; text-decoration-color: #00d7ff\">None</span>, <span style=\"color: #00af00; text-decoration-color: #00af00\">111</span>, <span style=\"color: #00af00; text-decoration-color: #00af00\">64</span>)   │          <span style=\"color: #00af00; text-decoration-color: #00af00\">0</span> │ dropout[<span style=\"color: #00af00; text-decoration-color: #00af00\">0</span>][<span style=\"color: #00af00; text-decoration-color: #00af00\">0</span>]     │\n",
              "│ (<span style=\"color: #0087ff; text-decoration-color: #0087ff\">MaxPooling1D</span>)      │                   │            │                   │\n",
              "├─────────────────────┼───────────────────┼────────────┼───────────────────┤\n",
              "│ max_pooling1d_1     │ (<span style=\"color: #00d7ff; text-decoration-color: #00d7ff\">None</span>, <span style=\"color: #00af00; text-decoration-color: #00af00\">233</span>, <span style=\"color: #00af00; text-decoration-color: #00af00\">64</span>)   │          <span style=\"color: #00af00; text-decoration-color: #00af00\">0</span> │ dropout_1[<span style=\"color: #00af00; text-decoration-color: #00af00\">0</span>][<span style=\"color: #00af00; text-decoration-color: #00af00\">0</span>]   │\n",
              "│ (<span style=\"color: #0087ff; text-decoration-color: #0087ff\">MaxPooling1D</span>)      │                   │            │                   │\n",
              "├─────────────────────┼───────────────────┼────────────┼───────────────────┤\n",
              "│ max_pooling1d_2     │ (<span style=\"color: #00d7ff; text-decoration-color: #00d7ff\">None</span>, <span style=\"color: #00af00; text-decoration-color: #00af00\">476</span>, <span style=\"color: #00af00; text-decoration-color: #00af00\">64</span>)   │          <span style=\"color: #00af00; text-decoration-color: #00af00\">0</span> │ dropout_2[<span style=\"color: #00af00; text-decoration-color: #00af00\">0</span>][<span style=\"color: #00af00; text-decoration-color: #00af00\">0</span>]   │\n",
              "│ (<span style=\"color: #0087ff; text-decoration-color: #0087ff\">MaxPooling1D</span>)      │                   │            │                   │\n",
              "├─────────────────────┼───────────────────┼────────────┼───────────────────┤\n",
              "│ flatten (<span style=\"color: #0087ff; text-decoration-color: #0087ff\">Flatten</span>)   │ (<span style=\"color: #00d7ff; text-decoration-color: #00d7ff\">None</span>, <span style=\"color: #00af00; text-decoration-color: #00af00\">7104</span>)      │          <span style=\"color: #00af00; text-decoration-color: #00af00\">0</span> │ max_pooling1d[<span style=\"color: #00af00; text-decoration-color: #00af00\">0</span>]… │\n",
              "├─────────────────────┼───────────────────┼────────────┼───────────────────┤\n",
              "│ flatten_1 (<span style=\"color: #0087ff; text-decoration-color: #0087ff\">Flatten</span>) │ (<span style=\"color: #00d7ff; text-decoration-color: #00d7ff\">None</span>, <span style=\"color: #00af00; text-decoration-color: #00af00\">14912</span>)     │          <span style=\"color: #00af00; text-decoration-color: #00af00\">0</span> │ max_pooling1d_1[<span style=\"color: #00af00; text-decoration-color: #00af00\">…</span> │\n",
              "├─────────────────────┼───────────────────┼────────────┼───────────────────┤\n",
              "│ flatten_2 (<span style=\"color: #0087ff; text-decoration-color: #0087ff\">Flatten</span>) │ (<span style=\"color: #00d7ff; text-decoration-color: #00d7ff\">None</span>, <span style=\"color: #00af00; text-decoration-color: #00af00\">30464</span>)     │          <span style=\"color: #00af00; text-decoration-color: #00af00\">0</span> │ max_pooling1d_2[<span style=\"color: #00af00; text-decoration-color: #00af00\">…</span> │\n",
              "├─────────────────────┼───────────────────┼────────────┼───────────────────┤\n",
              "│ concatenate         │ (<span style=\"color: #00d7ff; text-decoration-color: #00d7ff\">None</span>, <span style=\"color: #00af00; text-decoration-color: #00af00\">52480</span>)     │          <span style=\"color: #00af00; text-decoration-color: #00af00\">0</span> │ flatten[<span style=\"color: #00af00; text-decoration-color: #00af00\">0</span>][<span style=\"color: #00af00; text-decoration-color: #00af00\">0</span>],    │\n",
              "│ (<span style=\"color: #0087ff; text-decoration-color: #0087ff\">Concatenate</span>)       │                   │            │ flatten_1[<span style=\"color: #00af00; text-decoration-color: #00af00\">0</span>][<span style=\"color: #00af00; text-decoration-color: #00af00\">0</span>],  │\n",
              "│                     │                   │            │ flatten_2[<span style=\"color: #00af00; text-decoration-color: #00af00\">0</span>][<span style=\"color: #00af00; text-decoration-color: #00af00\">0</span>]   │\n",
              "├─────────────────────┼───────────────────┼────────────┼───────────────────┤\n",
              "│ dense (<span style=\"color: #0087ff; text-decoration-color: #0087ff\">Dense</span>)       │ (<span style=\"color: #00d7ff; text-decoration-color: #00d7ff\">None</span>, <span style=\"color: #00af00; text-decoration-color: #00af00\">100</span>)       │  <span style=\"color: #00af00; text-decoration-color: #00af00\">5,248,100</span> │ concatenate[<span style=\"color: #00af00; text-decoration-color: #00af00\">0</span>][<span style=\"color: #00af00; text-decoration-color: #00af00\">0</span>] │\n",
              "├─────────────────────┼───────────────────┼────────────┼───────────────────┤\n",
              "│ dense_1 (<span style=\"color: #0087ff; text-decoration-color: #0087ff\">Dense</span>)     │ (<span style=\"color: #00d7ff; text-decoration-color: #00d7ff\">None</span>, <span style=\"color: #00af00; text-decoration-color: #00af00\">9</span>)         │        <span style=\"color: #00af00; text-decoration-color: #00af00\">909</span> │ dense[<span style=\"color: #00af00; text-decoration-color: #00af00\">0</span>][<span style=\"color: #00af00; text-decoration-color: #00af00\">0</span>]       │\n",
              "└─────────────────────┴───────────────────┴────────────┴───────────────────┘\n",
              "</pre>\n"
            ]
          },
          "metadata": {}
        },
        {
          "output_type": "display_data",
          "data": {
            "text/plain": [
              "\u001b[1m Total params: \u001b[0m\u001b[38;5;34m5,271,601\u001b[0m (20.11 MB)\n"
            ],
            "text/html": [
              "<pre style=\"white-space:pre;overflow-x:auto;line-height:normal;font-family:Menlo,'DejaVu Sans Mono',consolas,'Courier New',monospace\"><span style=\"font-weight: bold\"> Total params: </span><span style=\"color: #00af00; text-decoration-color: #00af00\">5,271,601</span> (20.11 MB)\n",
              "</pre>\n"
            ]
          },
          "metadata": {}
        },
        {
          "output_type": "display_data",
          "data": {
            "text/plain": [
              "\u001b[1m Trainable params: \u001b[0m\u001b[38;5;34m5,271,601\u001b[0m (20.11 MB)\n"
            ],
            "text/html": [
              "<pre style=\"white-space:pre;overflow-x:auto;line-height:normal;font-family:Menlo,'DejaVu Sans Mono',consolas,'Courier New',monospace\"><span style=\"font-weight: bold\"> Trainable params: </span><span style=\"color: #00af00; text-decoration-color: #00af00\">5,271,601</span> (20.11 MB)\n",
              "</pre>\n"
            ]
          },
          "metadata": {}
        },
        {
          "output_type": "display_data",
          "data": {
            "text/plain": [
              "\u001b[1m Non-trainable params: \u001b[0m\u001b[38;5;34m0\u001b[0m (0.00 B)\n"
            ],
            "text/html": [
              "<pre style=\"white-space:pre;overflow-x:auto;line-height:normal;font-family:Menlo,'DejaVu Sans Mono',consolas,'Courier New',monospace\"><span style=\"font-weight: bold\"> Non-trainable params: </span><span style=\"color: #00af00; text-decoration-color: #00af00\">0</span> (0.00 B)\n",
              "</pre>\n"
            ]
          },
          "metadata": {}
        }
      ]
    },
    {
      "cell_type": "code",
      "source": [
        "batch_size =100\n",
        "epochs = 20\n",
        "history = cnn_model.fit([X_train,X_train,X_train], y_train, batch_size=batch_size,epochs=epochs,verbose=1,validation_data=([X_test,X_test,X_test],y_test),shuffle=True)"
      ],
      "metadata": {
        "colab": {
          "base_uri": "https://localhost:8080/"
        },
        "id": "2Lxm-qvKM3oN",
        "outputId": "61f99730-e1bb-4001-ee50-da2aca2f6164"
      },
      "id": "2Lxm-qvKM3oN",
      "execution_count": 9,
      "outputs": [
        {
          "output_type": "stream",
          "name": "stdout",
          "text": [
            "Epoch 1/20\n",
            "\u001b[1m16/16\u001b[0m \u001b[32m━━━━━━━━━━━━━━━━━━━━\u001b[0m\u001b[37m\u001b[0m \u001b[1m26s\u001b[0m 562ms/step - accuracy: 0.1269 - loss: 4.1628 - val_accuracy: 0.2226 - val_loss: 1.8410\n",
            "Epoch 2/20\n",
            "\u001b[1m16/16\u001b[0m \u001b[32m━━━━━━━━━━━━━━━━━━━━\u001b[0m\u001b[37m\u001b[0m \u001b[1m20s\u001b[0m 40ms/step - accuracy: 0.3377 - loss: 1.6649 - val_accuracy: 0.6543 - val_loss: 1.5202\n",
            "Epoch 3/20\n",
            "\u001b[1m16/16\u001b[0m \u001b[32m━━━━━━━━━━━━━━━━━━━━\u001b[0m\u001b[37m\u001b[0m \u001b[1m1s\u001b[0m 38ms/step - accuracy: 0.6530 - loss: 1.2423 - val_accuracy: 0.7136 - val_loss: 1.1765\n",
            "Epoch 4/20\n",
            "\u001b[1m16/16\u001b[0m \u001b[32m━━━━━━━━━━━━━━━━━━━━\u001b[0m\u001b[37m\u001b[0m \u001b[1m1s\u001b[0m 37ms/step - accuracy: 0.7855 - loss: 0.8379 - val_accuracy: 0.8323 - val_loss: 0.8165\n",
            "Epoch 5/20\n",
            "\u001b[1m16/16\u001b[0m \u001b[32m━━━━━━━━━━━━━━━━━━━━\u001b[0m\u001b[37m\u001b[0m \u001b[1m1s\u001b[0m 31ms/step - accuracy: 0.8724 - loss: 0.5165 - val_accuracy: 0.9362 - val_loss: 0.5812\n",
            "Epoch 6/20\n",
            "\u001b[1m16/16\u001b[0m \u001b[32m━━━━━━━━━━━━━━━━━━━━\u001b[0m\u001b[37m\u001b[0m \u001b[1m1s\u001b[0m 32ms/step - accuracy: 0.9546 - loss: 0.2720 - val_accuracy: 0.9392 - val_loss: 0.3932\n",
            "Epoch 7/20\n",
            "\u001b[1m16/16\u001b[0m \u001b[32m━━━━━━━━━━━━━━━━━━━━\u001b[0m\u001b[37m\u001b[0m \u001b[1m1s\u001b[0m 32ms/step - accuracy: 0.9835 - loss: 0.1359 - val_accuracy: 0.9540 - val_loss: 0.3338\n",
            "Epoch 8/20\n",
            "\u001b[1m16/16\u001b[0m \u001b[32m━━━━━━━━━━━━━━━━━━━━\u001b[0m\u001b[37m\u001b[0m \u001b[1m1s\u001b[0m 37ms/step - accuracy: 0.9684 - loss: 0.1346 - val_accuracy: 0.9050 - val_loss: 0.4920\n",
            "Epoch 9/20\n",
            "\u001b[1m16/16\u001b[0m \u001b[32m━━━━━━━━━━━━━━━━━━━━\u001b[0m\u001b[37m\u001b[0m \u001b[1m1s\u001b[0m 32ms/step - accuracy: 0.9492 - loss: 0.1554 - val_accuracy: 0.9451 - val_loss: 0.2869\n",
            "Epoch 10/20\n",
            "\u001b[1m16/16\u001b[0m \u001b[32m━━━━━━━━━━━━━━━━━━━━\u001b[0m\u001b[37m\u001b[0m \u001b[1m1s\u001b[0m 31ms/step - accuracy: 0.9901 - loss: 0.0746 - val_accuracy: 0.9688 - val_loss: 0.1974\n",
            "Epoch 11/20\n",
            "\u001b[1m16/16\u001b[0m \u001b[32m━━━━━━━━━━━━━━━━━━━━\u001b[0m\u001b[37m\u001b[0m \u001b[1m1s\u001b[0m 32ms/step - accuracy: 0.9873 - loss: 0.0507 - val_accuracy: 0.9792 - val_loss: 0.1518\n",
            "Epoch 12/20\n",
            "\u001b[1m16/16\u001b[0m \u001b[32m━━━━━━━━━━━━━━━━━━━━\u001b[0m\u001b[37m\u001b[0m \u001b[1m1s\u001b[0m 37ms/step - accuracy: 0.9990 - loss: 0.0273 - val_accuracy: 0.9748 - val_loss: 0.1456\n",
            "Epoch 13/20\n",
            "\u001b[1m16/16\u001b[0m \u001b[32m━━━━━━━━━━━━━━━━━━━━\u001b[0m\u001b[37m\u001b[0m \u001b[1m1s\u001b[0m 32ms/step - accuracy: 0.9988 - loss: 0.0233 - val_accuracy: 0.9703 - val_loss: 0.1480\n",
            "Epoch 14/20\n",
            "\u001b[1m16/16\u001b[0m \u001b[32m━━━━━━━━━━━━━━━━━━━━\u001b[0m\u001b[37m\u001b[0m \u001b[1m1s\u001b[0m 32ms/step - accuracy: 0.9993 - loss: 0.0163 - val_accuracy: 0.9807 - val_loss: 0.1201\n",
            "Epoch 15/20\n",
            "\u001b[1m16/16\u001b[0m \u001b[32m━━━━━━━━━━━━━━━━━━━━\u001b[0m\u001b[37m\u001b[0m \u001b[1m1s\u001b[0m 32ms/step - accuracy: 0.9989 - loss: 0.0147 - val_accuracy: 0.9807 - val_loss: 0.1151\n",
            "Epoch 16/20\n",
            "\u001b[1m16/16\u001b[0m \u001b[32m━━━━━━━━━━━━━━━━━━━━\u001b[0m\u001b[37m\u001b[0m \u001b[1m1s\u001b[0m 32ms/step - accuracy: 1.0000 - loss: 0.0117 - val_accuracy: 0.9822 - val_loss: 0.1099\n",
            "Epoch 17/20\n",
            "\u001b[1m16/16\u001b[0m \u001b[32m━━━━━━━━━━━━━━━━━━━━\u001b[0m\u001b[37m\u001b[0m \u001b[1m1s\u001b[0m 32ms/step - accuracy: 1.0000 - loss: 0.0101 - val_accuracy: 0.9807 - val_loss: 0.1054\n",
            "Epoch 18/20\n",
            "\u001b[1m16/16\u001b[0m \u001b[32m━━━━━━━━━━━━━━━━━━━━\u001b[0m\u001b[37m\u001b[0m \u001b[1m1s\u001b[0m 31ms/step - accuracy: 1.0000 - loss: 0.0084 - val_accuracy: 0.9837 - val_loss: 0.1026\n",
            "Epoch 19/20\n",
            "\u001b[1m16/16\u001b[0m \u001b[32m━━━━━━━━━━━━━━━━━━━━\u001b[0m\u001b[37m\u001b[0m \u001b[1m1s\u001b[0m 32ms/step - accuracy: 1.0000 - loss: 0.0071 - val_accuracy: 0.9822 - val_loss: 0.1002\n",
            "Epoch 20/20\n",
            "\u001b[1m16/16\u001b[0m \u001b[32m━━━━━━━━━━━━━━━━━━━━\u001b[0m\u001b[37m\u001b[0m \u001b[1m1s\u001b[0m 32ms/step - accuracy: 1.0000 - loss: 0.0084 - val_accuracy: 0.9837 - val_loss: 0.0977\n"
          ]
        }
      ]
    },
    {
      "cell_type": "code",
      "source": [
        "def inv_Transform_result(y_pred):\n",
        "    y_pred = y_pred.argmax(axis=1)\n",
        "    y_pred = encoder.inverse_transform(y_pred)\n",
        "    return y_pred\n",
        "\n",
        "\n",
        "\n",
        "y_pred=cnn_model.predict([X_test,X_test,X_test])\n",
        "\n",
        "\n",
        "Y_pred=inv_Transform_result(y_pred)\n",
        "Y_test = inv_Transform_result(y_test)\n",
        "\n",
        "\n",
        "\n",
        "\n",
        "from sklearn.metrics import confusion_matrix\n",
        "\n",
        "\n",
        "plt.figure(figsize=(10,10))\n",
        "cm = confusion_matrix(Y_test, Y_pred,normalize='true')\n",
        "f = sns.heatmap(cm, annot=True,xticklabels=encoder.classes_,yticklabels=encoder.classes_)"
      ],
      "metadata": {
        "colab": {
          "base_uri": "https://localhost:8080/",
          "height": 1000
        },
        "id": "pbBmkBjlM5ks",
        "outputId": "fc643b66-8cab-4283-b718-ea809ac5f0e2"
      },
      "id": "pbBmkBjlM5ks",
      "execution_count": 10,
      "outputs": [
        {
          "output_type": "stream",
          "name": "stdout",
          "text": [
            "\u001b[1m22/22\u001b[0m \u001b[32m━━━━━━━━━━━━━━━━━━━━\u001b[0m\u001b[37m\u001b[0m \u001b[1m2s\u001b[0m 55ms/step\n"
          ]
        },
        {
          "output_type": "display_data",
          "data": {
            "text/plain": [
              "<Figure size 1000x1000 with 2 Axes>"
            ],
            "image/png": "[encoded data removed]"
          },
          "metadata": {}
        }
      ]
    },
    {
      "cell_type": "code",
      "source": [
        "dummy_cnn = Model(inputs=cnn_model.input,outputs=cnn_model.layers[16].output)\n",
        "y_viz = dummy_cnn.predict([X_train,X_train,X_train])"
      ],
      "metadata": {
        "colab": {
          "base_uri": "https://localhost:8080/"
        },
        "id": "3tgRx2TxM-GS",
        "outputId": "6531ba57-e8c1-482b-affc-18ab531d5cc9"
      },
      "id": "3tgRx2TxM-GS",
      "execution_count": 11,
      "outputs": [
        {
          "output_type": "stream",
          "name": "stdout",
          "text": [
            "\u001b[1m50/50\u001b[0m \u001b[32m━━━━━━━━━━━━━━━━━━━━\u001b[0m\u001b[37m\u001b[0m \u001b[1m1s\u001b[0m 14ms/step\n"
          ]
        }
      ]
    },
    {
      "cell_type": "code",
      "source": [
        "import pandas as pd\n",
        "import seaborn as sns\n",
        "import matplotlib.pyplot as plt\n",
        "from sklearn.manifold import TSNE\n",
        "\n",
        "# Apply t-SNE transformation\n",
        "X_t_sne = TSNE(\n",
        "    n_components=2,\n",
        "    learning_rate='auto',\n",
        "    verbose=2,  # Increase verbosity for more detailed feedback\n",
        "    perplexity=40,\n",
        "    n_iter=500  # Slightly increased number of iterations for convergence\n",
        ").fit_transform(y_viz)\n",
        "\n",
        "# Create DataFrame for t-SNE components\n",
        "tSNEdf = pd.DataFrame(data=X_t_sne, columns=['T-SNE component 1', 'T-SNE component 2'])\n",
        "\n",
        "# Assuming `inv_Transform_result` transforms `y_train` to get the Fault labels\n",
        "tSNEdf['Fault'] = inv_Transform_result(y_train)\n",
        "\n",
        "# Save the t-SNE DataFrame as a CSV file\n",
        "tSNEdf.to_csv('/content/drive/MyDrive/MK-DCNN CWRU/NOISE_10_tSNE_results.csv', index=True)\n",
        "print(\"t-SNE results saved as '/content/drive/MyDrive/MK-DCNN CWRU/NOISE_10_tSNE_results.csv'.\")\n",
        "\n",
        "# # Plot the t-SNE results with Fault as hue\n",
        "# plt.figure(figsize=(12, 12))  # Larger figure for clarity\n",
        "# sns.scatterplot(\n",
        "#     x='T-SNE component 1',\n",
        "#     y='T-SNE component 2',\n",
        "#     hue='Fault',\n",
        "#     palette=sns.color_palette(\"husl\", as_cmap=False),  # Vivid color palette\n",
        "#     data=tSNEdf,\n",
        "#     legend=\"full\",\n",
        "#     alpha=0.7,  # Increased transparency for better overlap clarity\n",
        "#     s=100  # Larger marker size\n",
        "# )\n",
        "\n",
        "# # Add gridlines for better visualization\n",
        "# plt.grid\n",
        "\n",
        "\n",
        "# Optional: Visualization of t-SNE representation\n",
        "plt.figure(figsize=(8, 6))\n",
        "for label in tSNEdf['Fault'].unique():\n",
        "    subset = tSNEdf[tSNEdf['Fault'] == label]\n",
        "    plt.scatter(subset['T-SNE component 1'], subset['T-SNE component 2'], label=f'Fault {label}', alpha=0.7)\n",
        "\n",
        "plt.title('t-SNE Representation of Motor Fault Dataset')\n",
        "plt.xlabel('t-SNE 1')\n",
        "plt.ylabel('t-SNE 2')\n",
        "plt.legend()\n",
        "plt.show()"
      ],
      "metadata": {
        "colab": {
          "base_uri": "https://localhost:8080/",
          "height": 966
        },
        "id": "uic9AVV2NBah",
        "outputId": "0310f11a-fe78-4aac-dcb7-cfc606354dae"
      },
      "id": "uic9AVV2NBah",
      "execution_count": 12,
      "outputs": [
        {
          "output_type": "stream",
          "name": "stderr",
          "text": [
            "/usr/local/lib/python3.11/dist-packages/sklearn/manifold/_t_sne.py:1164: FutureWarning: 'n_iter' was renamed to 'max_iter' in version 1.5 and will be removed in 1.7.\n",
            "  warnings.warn(\n"
          ]
        },
        {
          "output_type": "stream",
          "name": "stdout",
          "text": [
            "[t-SNE] Computing 121 nearest neighbors...\n",
            "[t-SNE] Indexed 1570 samples in 0.001s...\n",
            "[t-SNE] Computed neighbors for 1570 samples in 0.138s...\n",
            "[t-SNE] Computed conditional probabilities for sample 1000 / 1570\n",
            "[t-SNE] Computed conditional probabilities for sample 1570 / 1570\n",
            "[t-SNE] Mean sigma: 2.081162\n",
            "[t-SNE] Computed conditional probabilities in 0.058s\n",
            "[t-SNE] Iteration 50: error = 56.6226044, gradient norm = 0.0470309 (50 iterations in 0.585s)\n",
            "[t-SNE] Iteration 100: error = 51.6419525, gradient norm = 0.0139080 (50 iterations in 0.447s)\n",
            "[t-SNE] Iteration 150: error = 50.4225197, gradient norm = 0.0119789 (50 iterations in 0.409s)\n",
            "[t-SNE] Iteration 200: error = 49.7903519, gradient norm = 0.0068438 (50 iterations in 0.418s)\n",
            "[t-SNE] Iteration 250: error = 49.4247551, gradient norm = 0.0056362 (50 iterations in 0.389s)\n",
            "[t-SNE] KL divergence after 250 iterations with early exaggeration: 49.424755\n",
            "[t-SNE] Iteration 300: error = 0.8899350, gradient norm = 0.0157553 (50 iterations in 0.403s)\n",
            "[t-SNE] Iteration 350: error = 0.6452500, gradient norm = 0.0146664 (50 iterations in 0.437s)\n",
            "[t-SNE] Iteration 400: error = 0.5457897, gradient norm = 0.0118980 (50 iterations in 0.420s)\n",
            "[t-SNE] Iteration 450: error = 0.4956436, gradient norm = 0.0106414 (50 iterations in 0.437s)\n",
            "[t-SNE] Iteration 500: error = 0.4663924, gradient norm = 0.0093667 (50 iterations in 0.417s)\n",
            "[t-SNE] KL divergence after 500 iterations: 0.466392\n",
            "t-SNE results saved as '/content/drive/MyDrive/MK-DCNN CWRU/NOISE_10_tSNE_results.csv'.\n"
          ]
        },
        {
          "output_type": "display_data",
          "data": {
            "text/plain": [
              "<Figure size 800x600 with 1 Axes>"
            ],
            "image/png": "[encoded data removed]"
          },
          "metadata": {}
        }
      ]
    },
    {
      "cell_type": "markdown",
      "source": [
        "Statistical Features"
      ],
      "metadata": {
        "id": "PRuXPOIH6cTH"
      },
      "id": "PRuXPOIH6cTH"
    },
    {
      "cell_type": "code",
      "source": [
        "import numpy as np\n",
        "from scipy.stats import skew, kurtosis\n",
        "import pandas as pd\n",
        "import matplotlib.pyplot as plt\n",
        "\n",
        "# Total target rows\n",
        "TARGET_ROWS = 1800\n",
        "\n",
        "# Estimate the total number of samples across all fault types\n",
        "total_samples = sum(len(df[df['fault'] == f]) for f in df['fault'].unique())\n",
        "\n",
        "# Calculate suitable window size and stride\n",
        "num_faults = 9\n",
        "average_samples_per_fault = total_samples / num_faults\n",
        "approx_windows_per_fault = TARGET_ROWS / num_faults\n",
        "stride_ratio = 0.8  # Initial stride/window ratio\n",
        "\n",
        "WINDOW_SIZE = int(average_samples_per_fault / approx_windows_per_fault)\n",
        "STRIDE = int(WINDOW_SIZE * stride_ratio)\n",
        "\n",
        "print(f\"Calculated WINDOW_SIZE: {WINDOW_SIZE}, STRIDE: {STRIDE}\")\n",
        "\n",
        "# Initialize a list to store statistical features\n",
        "statistical_features = []\n",
        "\n",
        "# Loop through each fault type\n",
        "for f in df['fault'].unique():\n",
        "    # Extract data for the current fault type\n",
        "    fault_data = df[df['fault'] == f].iloc[:, 0].values  # Convert to NumPy array for efficiency\n",
        "\n",
        "    # Compute windows using sliding window approach\n",
        "    num_windows = (len(fault_data) - WINDOW_SIZE) // STRIDE + 1\n",
        "    for i in range(num_windows):\n",
        "        start = i * STRIDE\n",
        "        end = start + WINDOW_SIZE\n",
        "        window = fault_data[start:end]\n",
        "\n",
        "        # Compute statistical features for the current window\n",
        "        mean_val = np.mean(window)\n",
        "        std_val = np.std(window)\n",
        "        rms_val = np.sqrt(np.mean(np.square(window)))\n",
        "        max_val = np.max(window)\n",
        "        min_val = np.min(window)\n",
        "        skewness_val = skew(window)\n",
        "        kurtosis_val = kurtosis(window)\n",
        "\n",
        "        # Additional statistical features\n",
        "        mean_abs_val = np.mean(np.abs(window))\n",
        "        form_factor = rms_val / mean_abs_val if mean_abs_val != 0 else 0\n",
        "        crest_factor = max_val / rms_val if rms_val != 0 else 0\n",
        "\n",
        "        # Store the features in a dictionary\n",
        "        statistical_features.append({\n",
        "            'fault': f,\n",
        "            'window': i + 1,\n",
        "            'mean': mean_val,\n",
        "            'std': std_val,\n",
        "            'rms': rms_val,\n",
        "            'max': max_val,\n",
        "            'min': min_val,\n",
        "            'skewness': skewness_val,\n",
        "            'kurtosis': kurtosis_val,\n",
        "            'form_factor': form_factor,\n",
        "            'crest_factor': crest_factor\n",
        "        })\n",
        "\n",
        "# Convert statistical features into a DataFrame\n",
        "stat_features_df = pd.DataFrame(statistical_features)\n",
        "\n",
        "# Display the extracted features and count of rows\n",
        "print(f\"Extracted {len(stat_features_df)} rows (target: {TARGET_ROWS})\")\n",
        "print(stat_features_df)\n",
        "\n",
        "# Save the extracted features to a CSV file\n",
        "output_file = \"/content/drive/MyDrive/MK-DCNN CWRU/NOISE_10_statistical_features_with_form_and_crest_factors.csv\"\n",
        "stat_features_df.to_csv(output_file, index=False)\n",
        "print(f\"Statistical features saved to '{output_file}'.\")\n"
      ],
      "metadata": {
        "colab": {
          "base_uri": "https://localhost:8080/"
        },
        "id": "HRTIq9cYQgjC",
        "outputId": "d04f9025-e8ba-416a-bca7-c754becd4237"
      },
      "id": "HRTIq9cYQgjC",
      "execution_count": 13,
      "outputs": [
        {
          "output_type": "stream",
          "name": "stdout",
          "text": [
            "Calculated WINDOW_SIZE: 2431, STRIDE: 1944\n",
            "Extracted 2244 rows (target: 1800)\n",
            "                       fault  window      mean       std       rms       max  \\\n",
            "0     Noise_10_OR014_6_1_202       1  0.015249  0.146771  0.147561  0.594737   \n",
            "1     Noise_10_OR014_6_1_202       2  0.013508  0.146190  0.146813  0.594737   \n",
            "2     Noise_10_OR014_6_1_202       3  0.014151  0.150835  0.151498  0.498249   \n",
            "3     Noise_10_OR014_6_1_202       4  0.012434  0.152739  0.153244  0.559526   \n",
            "4     Noise_10_OR014_6_1_202       5  0.009703  0.141148  0.141482  0.516066   \n",
            "...                      ...     ...       ...       ...       ...       ...   \n",
            "2239     Noise_10_B007_1_123     246  0.016597  0.149658  0.150575  0.593600   \n",
            "2240     Noise_10_B007_1_123     247  0.015316  0.173308  0.173983  0.622776   \n",
            "2241     Noise_10_B007_1_123     248  0.015049  0.151986  0.152729  0.479625   \n",
            "2242     Noise_10_B007_1_123     249  0.017314  0.153895  0.154866  0.650435   \n",
            "2243     Noise_10_B007_1_123     250  0.016150  0.158324  0.159146  0.650435   \n",
            "\n",
            "           min  skewness  kurtosis  form_factor  crest_factor  \n",
            "0    -0.516993  0.017019  0.516746     1.285160      4.030460  \n",
            "1    -0.447393  0.033003  0.045323     1.260095      4.050983  \n",
            "2    -0.463074  0.045135 -0.353771     1.223566      3.288827  \n",
            "3    -0.561434 -0.020046  0.622462     1.291744      3.651198  \n",
            "4    -0.561434 -0.059834  0.433123     1.278940      3.647586  \n",
            "...        ...       ...       ...          ...           ...  \n",
            "2239 -0.464485  0.031246  0.072314     1.263215      3.942208  \n",
            "2240 -0.553354 -0.006628  0.228575     1.268649      3.579512  \n",
            "2241 -0.465587 -0.079234 -0.183349     1.236456      3.140368  \n",
            "2242 -0.535319 -0.058181  0.222434     1.257997      4.199990  \n",
            "2243 -0.535319  0.066950  0.022190     1.252537      4.087036  \n",
            "\n",
            "[2244 rows x 11 columns]\n",
            "Statistical features saved to '/content/drive/MyDrive/MK-DCNN CWRU/NOISE_10_statistical_features_with_form_and_crest_factors.csv'.\n"
          ]
        }
      ]
    },
    {
      "cell_type": "code",
      "source": [
        "import pandas as pd\n",
        "from sklearn.utils import resample\n",
        "\n",
        "# Load your dataset (replace 'your_dataset.csv' with your actual file)\n",
        "df = pd.read_csv('/content/drive/MyDrive/MK-DCNN CWRU/NOISE_10_statistical_features_with_form_and_crest_factors.csv')\n",
        "\n",
        "# Display initial class distribution\n",
        "print(\"Initial class distribution:\")\n",
        "print(df['fault'].value_counts())\n",
        "\n",
        "# Target size for undersampling/resampling\n",
        "TARGET_ROWS = 1570\n",
        "\n",
        "# Separate all fault types\n",
        "fault_classes = df['fault'].value_counts()\n",
        "\n",
        "# Determine the number of classes\n",
        "num_classes = len(fault_classes)\n",
        "\n",
        "# Calculate how many samples to take from each class\n",
        "samples_per_class = TARGET_ROWS // num_classes\n",
        "\n",
        "# Initialize a list to store resampled data\n",
        "resampled_data = []\n",
        "\n",
        "# Loop over each class to resample them\n",
        "for fault_class in fault_classes.index:\n",
        "    class_data = df[df['fault'] == fault_class]\n",
        "    if len(class_data) > samples_per_class:\n",
        "        # Undersample\n",
        "        class_data_resampled = resample(class_data, replace=False, n_samples=samples_per_class, random_state=42)\n",
        "    else:\n",
        "        # Upsample\n",
        "        class_data_resampled = resample(class_data, replace=True, n_samples=samples_per_class, random_state=42)\n",
        "\n",
        "    resampled_data.append(class_data_resampled)\n",
        "\n",
        "# Concatenate the resampled data into a single DataFrame\n",
        "balanced_df = pd.concat(resampled_data)\n",
        "\n",
        "# Check if we have the exact number of rows\n",
        "current_rows = len(balanced_df)\n",
        "print(f\"Current rows after equal resampling: {current_rows}\")\n",
        "\n",
        "# If the current rows don't match the target rows, adjust by trimming or adding rows\n",
        "if current_rows > TARGET_ROWS:\n",
        "    # Trim extra rows (if more than target)\n",
        "    balanced_df = balanced_df.head(TARGET_ROWS)\n",
        "elif current_rows < TARGET_ROWS:\n",
        "    # Add rows if fewer than target, by sampling from existing data\n",
        "    remaining_rows = TARGET_ROWS - current_rows\n",
        "    additional_data = balanced_df.sample(n=remaining_rows, replace=True, random_state=42)\n",
        "    balanced_df = pd.concat([balanced_df, additional_data])\n",
        "\n",
        "# Shuffle the final dataset\n",
        "balanced_df = balanced_df.sample(frac=1, random_state=42).reset_index(drop=True)\n",
        "\n",
        "# Display new class distribution\n",
        "print(\"New class distribution:\")\n",
        "print(balanced_df['fault'].value_counts())\n",
        "\n",
        "# Display final row count\n",
        "print(f\"Final row count: {len(balanced_df)}\")\n",
        "\n",
        "# Save the balanced dataset to a CSV file\n",
        "balanced_df.to_csv(\"/content/drive/MyDrive/MK-DCNN CWRU/NOISE_10_balanced_dataset_equal_resampling_exact_1570.csv\", index=False)\n",
        "print(\"Balanced dataset saved as '/content/drive/MyDrive/MK-DCNN CWRU/NOISE_10_balanced_dataset_equal_resampling_exact_1570.csv'\")\n"
      ],
      "metadata": {
        "id": "0-DLTbJL0tc6",
        "colab": {
          "base_uri": "https://localhost:8080/"
        },
        "outputId": "1238f226-54bf-4f94-fcd5-cadd5a8d0958"
      },
      "id": "0-DLTbJL0tc6",
      "execution_count": 14,
      "outputs": [
        {
          "output_type": "stream",
          "name": "stdout",
          "text": [
            "Initial class distribution:\n",
            "fault\n",
            "Noise_10_OR021_6_1_239        251\n",
            "Noise_10_B007_1_123           250\n",
            "Noise_10_OR007_6_1_136        250\n",
            "Noise_10_B021_1_227           250\n",
            "Noise_10_IR007_1_110          249\n",
            "Noise_10_IR021_1_214          249\n",
            "Noise_10_B014_1_190           249\n",
            "Noise_10_OR014_6_1_202        248\n",
            "Noise_10_Time_Normal_1_098    248\n",
            "Name: count, dtype: int64\n",
            "Current rows after equal resampling: 1566\n",
            "New class distribution:\n",
            "fault\n",
            "Noise_10_Time_Normal_1_098    175\n",
            "Noise_10_B014_1_190           175\n",
            "Noise_10_OR014_6_1_202        175\n",
            "Noise_10_IR007_1_110          175\n",
            "Noise_10_IR021_1_214          174\n",
            "Noise_10_B021_1_227           174\n",
            "Noise_10_OR007_6_1_136        174\n",
            "Noise_10_B007_1_123           174\n",
            "Noise_10_OR021_6_1_239        174\n",
            "Name: count, dtype: int64\n",
            "Final row count: 1570\n",
            "Balanced dataset saved as '/content/drive/MyDrive/MK-DCNN CWRU/NOISE_10_balanced_dataset_equal_resampling_exact_1570.csv'\n"
          ]
        }
      ]
    },
    {
      "cell_type": "code",
      "source": [
        "balanced_df.shape"
      ],
      "metadata": {
        "id": "NQ3f_WOt7Dld",
        "colab": {
          "base_uri": "https://localhost:8080/"
        },
        "outputId": "06b06176-5557-4feb-d6b7-53ec7f844dee"
      },
      "id": "NQ3f_WOt7Dld",
      "execution_count": 15,
      "outputs": [
        {
          "output_type": "execute_result",
          "data": {
            "text/plain": [
              "(1570, 11)"
            ]
          },
          "metadata": {},
          "execution_count": 15
        }
      ]
    },
    {
      "cell_type": "code",
      "source": [
        "balanced_df=balanced_df.sort_values(by='fault')"
      ],
      "metadata": {
        "id": "JP_zDzu6_Zkt"
      },
      "id": "JP_zDzu6_Zkt",
      "execution_count": 16,
      "outputs": []
    },
    {
      "cell_type": "code",
      "source": [
        "balanced_df"
      ],
      "metadata": {
        "id": "eq6MhY1CAvgD",
        "colab": {
          "base_uri": "https://localhost:8080/",
          "height": 457
        },
        "outputId": "6e490c40-a2ac-4630-de49-96d4dca7aeb4"
      },
      "id": "eq6MhY1CAvgD",
      "execution_count": 17,
      "outputs": [
        {
          "output_type": "execute_result",
          "data": {
            "text/plain": [
              "                           fault  window      mean       std       rms  \\\n",
              "504          Noise_10_B007_1_123     165  0.015987  0.136025  0.136961   \n",
              "1039         Noise_10_B007_1_123     234  0.019883  0.167880  0.169053   \n",
              "1026         Noise_10_B007_1_123     191  0.019403  0.141624  0.142947   \n",
              "1023         Noise_10_B007_1_123     166  0.018389  0.135462  0.136704   \n",
              "1021         Noise_10_B007_1_123     196  0.019244  0.157987  0.159154   \n",
              "...                          ...     ...       ...       ...       ...   \n",
              "1073  Noise_10_Time_Normal_1_098     223  0.014381  0.064458  0.066043   \n",
              "1069  Noise_10_Time_Normal_1_098      57  0.013170  0.068218  0.069478   \n",
              "124   Noise_10_Time_Normal_1_098     129  0.013798  0.071961  0.073272   \n",
              "1105  Noise_10_Time_Normal_1_098     116  0.017567  0.068281  0.070505   \n",
              "0     Noise_10_Time_Normal_1_098     142  0.009392  0.068737  0.069376   \n",
              "\n",
              "           max       min  skewness  kurtosis  form_factor  crest_factor  \n",
              "504   0.414769 -0.449486 -0.048481 -0.110364     1.249143      3.028363  \n",
              "1039  0.592308 -0.598465  0.018099  0.118380     1.263034      3.503674  \n",
              "1026  0.477345 -0.420091  0.032283 -0.292770     1.235102      3.339311  \n",
              "1023  0.405986 -0.432351 -0.098870 -0.273288     1.229656      2.969821  \n",
              "1021  0.618161 -0.608991 -0.034724 -0.018576     1.247988      3.884035  \n",
              "...        ...       ...       ...       ...          ...           ...  \n",
              "1073  0.199192 -0.202400 -0.161352 -0.207077     1.233562      3.016091  \n",
              "1069  0.220410 -0.195262 -0.072905 -0.169053     1.236968      3.172358  \n",
              "124   0.224994 -0.241218 -0.186308 -0.022872     1.252557      3.070666  \n",
              "1105  0.265444 -0.233762 -0.104933 -0.017849     1.233955      3.764899  \n",
              "0     0.203152 -0.255510 -0.032415 -0.190008     1.244617      2.928294  \n",
              "\n",
              "[1570 rows x 11 columns]"
            ],
            "text/html": [
              "\n",
              "  <div id=\"df-cea4fb83-0a46-41c1-b9a4-7d5edeab0aac\" class=\"colab-df-container\">\n",
              "    <div>\n",
              "<style scoped>\n",
              "    .dataframe tbody tr th:only-of-type {\n",
              "        vertical-align: middle;\n",
              "    }\n",
              "\n",
              "    .dataframe tbody tr th {\n",
              "        vertical-align: top;\n",
              "    }\n",
              "\n",
              "    .dataframe thead th {\n",
              "        text-align: right;\n",
              "    }\n",
              "</style>\n",
              "<table border=\"1\" class=\"dataframe\">\n",
              "  <thead>\n",
              "    <tr style=\"text-align: right;\">\n",
              "      <th></th>\n",
              "      <th>fault</th>\n",
              "      <th>window</th>\n",
              "      <th>mean</th>\n",
              "      <th>std</th>\n",
              "      <th>rms</th>\n",
              "      <th>max</th>\n",
              "      <th>min</th>\n",
              "      <th>skewness</th>\n",
              "      <th>kurtosis</th>\n",
              "      <th>form_factor</th>\n",
              "      <th>crest_factor</th>\n",
              "    </tr>\n",
              "  </thead>\n",
              "  <tbody>\n",
              "    <tr>\n",
              "      <th>504</th>\n",
              "      <td>Noise_10_B007_1_123</td>\n",
              "      <td>165</td>\n",
              "      <td>0.015987</td>\n",
              "      <td>0.136025</td>\n",
              "      <td>0.136961</td>\n",
              "      <td>0.414769</td>\n",
              "      <td>-0.449486</td>\n",
              "      <td>-0.048481</td>\n",
              "      <td>-0.110364</td>\n",
              "      <td>1.249143</td>\n",
              "      <td>3.028363</td>\n",
              "    </tr>\n",
              "    <tr>\n",
              "      <th>1039</th>\n",
              "      <td>Noise_10_B007_1_123</td>\n",
              "      <td>234</td>\n",
              "      <td>0.019883</td>\n",
              "      <td>0.167880</td>\n",
              "      <td>0.169053</td>\n",
              "      <td>0.592308</td>\n",
              "      <td>-0.598465</td>\n",
              "      <td>0.018099</td>\n",
              "      <td>0.118380</td>\n",
              "      <td>1.263034</td>\n",
              "      <td>3.503674</td>\n",
              "    </tr>\n",
              "    <tr>\n",
              "      <th>1026</th>\n",
              "      <td>Noise_10_B007_1_123</td>\n",
              "      <td>191</td>\n",
              "      <td>0.019403</td>\n",
              "      <td>0.141624</td>\n",
              "      <td>0.142947</td>\n",
              "      <td>0.477345</td>\n",
              "      <td>-0.420091</td>\n",
              "      <td>0.032283</td>\n",
              "      <td>-0.292770</td>\n",
              "      <td>1.235102</td>\n",
              "      <td>3.339311</td>\n",
              "    </tr>\n",
              "    <tr>\n",
              "      <th>1023</th>\n",
              "      <td>Noise_10_B007_1_123</td>\n",
              "      <td>166</td>\n",
              "      <td>0.018389</td>\n",
              "      <td>0.135462</td>\n",
              "      <td>0.136704</td>\n",
              "      <td>0.405986</td>\n",
              "      <td>-0.432351</td>\n",
              "      <td>-0.098870</td>\n",
              "      <td>-0.273288</td>\n",
              "      <td>1.229656</td>\n",
              "      <td>2.969821</td>\n",
              "    </tr>\n",
              "    <tr>\n",
              "      <th>1021</th>\n",
              "      <td>Noise_10_B007_1_123</td>\n",
              "      <td>196</td>\n",
              "      <td>0.019244</td>\n",
              "      <td>0.157987</td>\n",
              "      <td>0.159154</td>\n",
              "      <td>0.618161</td>\n",
              "      <td>-0.608991</td>\n",
              "      <td>-0.034724</td>\n",
              "      <td>-0.018576</td>\n",
              "      <td>1.247988</td>\n",
              "      <td>3.884035</td>\n",
              "    </tr>\n",
              "    <tr>\n",
              "      <th>...</th>\n",
              "      <td>...</td>\n",
              "      <td>...</td>\n",
              "      <td>...</td>\n",
              "      <td>...</td>\n",
              "      <td>...</td>\n",
              "      <td>...</td>\n",
              "      <td>...</td>\n",
              "      <td>...</td>\n",
              "      <td>...</td>\n",
              "      <td>...</td>\n",
              "      <td>...</td>\n",
              "    </tr>\n",
              "    <tr>\n",
              "      <th>1073</th>\n",
              "      <td>Noise_10_Time_Normal_1_098</td>\n",
              "      <td>223</td>\n",
              "      <td>0.014381</td>\n",
              "      <td>0.064458</td>\n",
              "      <td>0.066043</td>\n",
              "      <td>0.199192</td>\n",
              "      <td>-0.202400</td>\n",
              "      <td>-0.161352</td>\n",
              "      <td>-0.207077</td>\n",
              "      <td>1.233562</td>\n",
              "      <td>3.016091</td>\n",
              "    </tr>\n",
              "    <tr>\n",
              "      <th>1069</th>\n",
              "      <td>Noise_10_Time_Normal_1_098</td>\n",
              "      <td>57</td>\n",
              "      <td>0.013170</td>\n",
              "      <td>0.068218</td>\n",
              "      <td>0.069478</td>\n",
              "      <td>0.220410</td>\n",
              "      <td>-0.195262</td>\n",
              "      <td>-0.072905</td>\n",
              "      <td>-0.169053</td>\n",
              "      <td>1.236968</td>\n",
              "      <td>3.172358</td>\n",
              "    </tr>\n",
              "    <tr>\n",
              "      <th>124</th>\n",
              "      <td>Noise_10_Time_Normal_1_098</td>\n",
              "      <td>129</td>\n",
              "      <td>0.013798</td>\n",
              "      <td>0.071961</td>\n",
              "      <td>0.073272</td>\n",
              "      <td>0.224994</td>\n",
              "      <td>-0.241218</td>\n",
              "      <td>-0.186308</td>\n",
              "      <td>-0.022872</td>\n",
              "      <td>1.252557</td>\n",
              "      <td>3.070666</td>\n",
              "    </tr>\n",
              "    <tr>\n",
              "      <th>1105</th>\n",
              "      <td>Noise_10_Time_Normal_1_098</td>\n",
              "      <td>116</td>\n",
              "      <td>0.017567</td>\n",
              "      <td>0.068281</td>\n",
              "      <td>0.070505</td>\n",
              "      <td>0.265444</td>\n",
              "      <td>-0.233762</td>\n",
              "      <td>-0.104933</td>\n",
              "      <td>-0.017849</td>\n",
              "      <td>1.233955</td>\n",
              "      <td>3.764899</td>\n",
              "    </tr>\n",
              "    <tr>\n",
              "      <th>0</th>\n",
              "      <td>Noise_10_Time_Normal_1_098</td>\n",
              "      <td>142</td>\n",
              "      <td>0.009392</td>\n",
              "      <td>0.068737</td>\n",
              "      <td>0.069376</td>\n",
              "      <td>0.203152</td>\n",
              "      <td>-0.255510</td>\n",
              "      <td>-0.032415</td>\n",
              "      <td>-0.190008</td>\n",
              "      <td>1.244617</td>\n",
              "      <td>2.928294</td>\n",
              "    </tr>\n",
              "  </tbody>\n",
              "</table>\n",
              "<p>1570 rows × 11 columns</p>\n",
              "</div>\n",
              "    <div class=\"colab-df-buttons\">\n",
              "\n",
              "  <div class=\"colab-df-container\">\n",
              "    <button class=\"colab-df-convert\" onclick=\"convertToInteractive('df-cea4fb83-0a46-41c1-b9a4-7d5edeab0aac')\"\n",
              "            title=\"Convert this dataframe to an interactive table.\"\n",
              "            style=\"display:none;\">\n",
              "\n",
              "  <svg xmlns=\"http://www.w3.org/2000/svg\" height=\"24px\" viewBox=\"0 -960 960 960\">\n",
              "    <path d=\"M120-120v-720h720v720H120Zm60-500h600v-160H180v160Zm220 220h160v-160H400v160Zm0 220h160v-160H400v160ZM180-400h160v-160H180v160Zm440 0h160v-160H620v160ZM180-180h160v-160H180v160Zm440 0h160v-160H620v160Z\"/>\n",
              "  </svg>\n",
              "    </button>\n",
              "\n",
              "  <style>\n",
              "    .colab-df-container {\n",
              "      display:flex;\n",
              "      gap: 12px;\n",
              "    }\n",
              "\n",
              "    .colab-df-convert {\n",
              "      background-color: #E8F0FE;\n",
              "      border: none;\n",
              "      border-radius: 50%;\n",
              "      cursor: pointer;\n",
              "      display: none;\n",
              "      fill: #1967D2;\n",
              "      height: 32px;\n",
              "      padding: 0 0 0 0;\n",
              "      width: 32px;\n",
              "    }\n",
              "\n",
              "    .colab-df-convert:hover {\n",
              "      background-color: #E2EBFA;\n",
              "      box-shadow: 0px 1px 2px rgba(60, 64, 67, 0.3), 0px 1px 3px 1px rgba(60, 64, 67, 0.15);\n",
              "      fill: #174EA6;\n",
              "    }\n",
              "\n",
              "    .colab-df-buttons div {\n",
              "      margin-bottom: 4px;\n",
              "    }\n",
              "\n",
              "    [theme=dark] .colab-df-convert {\n",
              "      background-color: #3B4455;\n",
              "      fill: #D2E3FC;\n",
              "    }\n",
              "\n",
              "    [theme=dark] .colab-df-convert:hover {\n",
              "      background-color: #434B5C;\n",
              "      box-shadow: 0px 1px 3px 1px rgba(0, 0, 0, 0.15);\n",
              "      filter: drop-shadow(0px 1px 2px rgba(0, 0, 0, 0.3));\n",
              "      fill: #FFFFFF;\n",
              "    }\n",
              "  </style>\n",
              "\n",
              "    <script>\n",
              "      const buttonEl =\n",
              "        document.querySelector('#df-cea4fb83-0a46-41c1-b9a4-7d5edeab0aac button.colab-df-convert');\n",
              "      buttonEl.style.display =\n",
              "        google.colab.kernel.accessAllowed ? 'block' : 'none';\n",
              "\n",
              "      async function convertToInteractive(key) {\n",
              "        const element = document.querySelector('#df-cea4fb83-0a46-41c1-b9a4-7d5edeab0aac');\n",
              "        const dataTable =\n",
              "          await google.colab.kernel.invokeFunction('convertToInteractive',\n",
              "                                                    [key], {});\n",
              "        if (!dataTable) return;\n",
              "\n",
              "        const docLinkHtml = 'Like what you see? Visit the ' +\n",
              "          '<a target=\"_blank\" href=https://colab.research.google.com/notebooks/data_table.ipynb>data table notebook</a>'\n",
              "          + ' to learn more about interactive tables.';\n",
              "        element.innerHTML = '';\n",
              "        dataTable['output_type'] = 'display_data';\n",
              "        await google.colab.output.renderOutput(dataTable, element);\n",
              "        const docLink = document.createElement('div');\n",
              "        docLink.innerHTML = docLinkHtml;\n",
              "        element.appendChild(docLink);\n",
              "      }\n",
              "    </script>\n",
              "  </div>\n",
              "\n",
              "\n",
              "    <div id=\"df-6adac3c7-37bb-4629-8d47-a2379bad3327\">\n",
              "      <button class=\"colab-df-quickchart\" onclick=\"quickchart('df-6adac3c7-37bb-4629-8d47-a2379bad3327')\"\n",
              "                title=\"Suggest charts\"\n",
              "                style=\"display:none;\">\n",
              "\n",
              "<svg xmlns=\"http://www.w3.org/2000/svg\" height=\"24px\"viewBox=\"0 0 24 24\"\n",
              "     width=\"24px\">\n",
              "    <g>\n",
              "        <path d=\"M19 3H5c-1.1 0-2 .9-2 2v14c0 1.1.9 2 2 2h14c1.1 0 2-.9 2-2V5c0-1.1-.9-2-2-2zM9 17H7v-7h2v7zm4 0h-2V7h2v10zm4 0h-2v-4h2v4z\"/>\n",
              "    </g>\n",
              "</svg>\n",
              "      </button>\n",
              "\n",
              "<style>\n",
              "  .colab-df-quickchart {\n",
              "      --bg-color: #E8F0FE;\n",
              "      --fill-color: #1967D2;\n",
              "      --hover-bg-color: #E2EBFA;\n",
              "      --hover-fill-color: #174EA6;\n",
              "      --disabled-fill-color: #AAA;\n",
              "      --disabled-bg-color: #DDD;\n",
              "  }\n",
              "\n",
              "  [theme=dark] .colab-df-quickchart {\n",
              "      --bg-color: #3B4455;\n",
              "      --fill-color: #D2E3FC;\n",
              "      --hover-bg-color: #434B5C;\n",
              "      --hover-fill-color: #FFFFFF;\n",
              "      --disabled-bg-color: #3B4455;\n",
              "      --disabled-fill-color: #666;\n",
              "  }\n",
              "\n",
              "  .colab-df-quickchart {\n",
              "    background-color: var(--bg-color);\n",
              "    border: none;\n",
              "    border-radius: 50%;\n",
              "    cursor: pointer;\n",
              "    display: none;\n",
              "    fill: var(--fill-color);\n",
              "    height: 32px;\n",
              "    padding: 0;\n",
              "    width: 32px;\n",
              "  }\n",
              "\n",
              "  .colab-df-quickchart:hover {\n",
              "    background-color: var(--hover-bg-color);\n",
              "    box-shadow: 0 1px 2px rgba(60, 64, 67, 0.3), 0 1px 3px 1px rgba(60, 64, 67, 0.15);\n",
              "    fill: var(--button-hover-fill-color);\n",
              "  }\n",
              "\n",
              "  .colab-df-quickchart-complete:disabled,\n",
              "  .colab-df-quickchart-complete:disabled:hover {\n",
              "    background-color: var(--disabled-bg-color);\n",
              "    fill: var(--disabled-fill-color);\n",
              "    box-shadow: none;\n",
              "  }\n",
              "\n",
              "  .colab-df-spinner {\n",
              "    border: 2px solid var(--fill-color);\n",
              "    border-color: transparent;\n",
              "    border-bottom-color: var(--fill-color);\n",
              "    animation:\n",
              "      spin 1s steps(1) infinite;\n",
              "  }\n",
              "\n",
              "  @keyframes spin {\n",
              "    0% {\n",
              "      border-color: transparent;\n",
              "      border-bottom-color: var(--fill-color);\n",
              "      border-left-color: var(--fill-color);\n",
              "    }\n",
              "    20% {\n",
              "      border-color: transparent;\n",
              "      border-left-color: var(--fill-color);\n",
              "      border-top-color: var(--fill-color);\n",
              "    }\n",
              "    30% {\n",
              "      border-color: transparent;\n",
              "      border-left-color: var(--fill-color);\n",
              "      border-top-color: var(--fill-color);\n",
              "      border-right-color: var(--fill-color);\n",
              "    }\n",
              "    40% {\n",
              "      border-color: transparent;\n",
              "      border-right-color: var(--fill-color);\n",
              "      border-top-color: var(--fill-color);\n",
              "    }\n",
              "    60% {\n",
              "      border-color: transparent;\n",
              "      border-right-color: var(--fill-color);\n",
              "    }\n",
              "    80% {\n",
              "      border-color: transparent;\n",
              "      border-right-color: var(--fill-color);\n",
              "      border-bottom-color: var(--fill-color);\n",
              "    }\n",
              "    90% {\n",
              "      border-color: transparent;\n",
              "      border-bottom-color: var(--fill-color);\n",
              "    }\n",
              "  }\n",
              "</style>\n",
              "\n",
              "      <script>\n",
              "        async function quickchart(key) {\n",
              "          const quickchartButtonEl =\n",
              "            document.querySelector('#' + key + ' button');\n",
              "          quickchartButtonEl.disabled = true;  // To prevent multiple clicks.\n",
              "          quickchartButtonEl.classList.add('colab-df-spinner');\n",
              "          try {\n",
              "            const charts = await google.colab.kernel.invokeFunction(\n",
              "                'suggestCharts', [key], {});\n",
              "          } catch (error) {\n",
              "            console.error('Error during call to suggestCharts:', error);\n",
              "          }\n",
              "          quickchartButtonEl.classList.remove('colab-df-spinner');\n",
              "          quickchartButtonEl.classList.add('colab-df-quickchart-complete');\n",
              "        }\n",
              "        (() => {\n",
              "          let quickchartButtonEl =\n",
              "            document.querySelector('#df-6adac3c7-37bb-4629-8d47-a2379bad3327 button');\n",
              "          quickchartButtonEl.style.display =\n",
              "            google.colab.kernel.accessAllowed ? 'block' : 'none';\n",
              "        })();\n",
              "      </script>\n",
              "    </div>\n",
              "\n",
              "  <div id=\"id_6b551760-f553-4ccd-b183-0c751b509cc3\">\n",
              "    <style>\n",
              "      .colab-df-generate {\n",
              "        background-color: #E8F0FE;\n",
              "        border: none;\n",
              "        border-radius: 50%;\n",
              "        cursor: pointer;\n",
              "        display: none;\n",
              "        fill: #1967D2;\n",
              "        height: 32px;\n",
              "        padding: 0 0 0 0;\n",
              "        width: 32px;\n",
              "      }\n",
              "\n",
              "      .colab-df-generate:hover {\n",
              "        background-color: #E2EBFA;\n",
              "        box-shadow: 0px 1px 2px rgba(60, 64, 67, 0.3), 0px 1px 3px 1px rgba(60, 64, 67, 0.15);\n",
              "        fill: #174EA6;\n",
              "      }\n",
              "\n",
              "      [theme=dark] .colab-df-generate {\n",
              "        background-color: #3B4455;\n",
              "        fill: #D2E3FC;\n",
              "      }\n",
              "\n",
              "      [theme=dark] .colab-df-generate:hover {\n",
              "        background-color: #434B5C;\n",
              "        box-shadow: 0px 1px 3px 1px rgba(0, 0, 0, 0.15);\n",
              "        filter: drop-shadow(0px 1px 2px rgba(0, 0, 0, 0.3));\n",
              "        fill: #FFFFFF;\n",
              "      }\n",
              "    </style>\n",
              "    <button class=\"colab-df-generate\" onclick=\"generateWithVariable('balanced_df')\"\n",
              "            title=\"Generate code using this dataframe.\"\n",
              "            style=\"display:none;\">\n",
              "\n",
              "  <svg xmlns=\"http://www.w3.org/2000/svg\" height=\"24px\"viewBox=\"0 0 24 24\"\n",
              "       width=\"24px\">\n",
              "    <path d=\"M7,19H8.4L18.45,9,17,7.55,7,17.6ZM5,21V16.75L18.45,3.32a2,2,0,0,1,2.83,0l1.4,1.43a1.91,1.91,0,0,1,.58,1.4,1.91,1.91,0,0,1-.58,1.4L9.25,21ZM18.45,9,17,7.55Zm-12,3A5.31,5.31,0,0,0,4.9,8.1,5.31,5.31,0,0,0,1,6.5,5.31,5.31,0,0,0,4.9,4.9,5.31,5.31,0,0,0,6.5,1,5.31,5.31,0,0,0,8.1,4.9,5.31,5.31,0,0,0,12,6.5,5.46,5.46,0,0,0,6.5,12Z\"/>\n",
              "  </svg>\n",
              "    </button>\n",
              "    <script>\n",
              "      (() => {\n",
              "      const buttonEl =\n",
              "        document.querySelector('#id_6b551760-f553-4ccd-b183-0c751b509cc3 button.colab-df-generate');\n",
              "      buttonEl.style.display =\n",
              "        google.colab.kernel.accessAllowed ? 'block' : 'none';\n",
              "\n",
              "      buttonEl.onclick = () => {\n",
              "        google.colab.notebook.generateWithVariable('balanced_df');\n",
              "      }\n",
              "      })();\n",
              "    </script>\n",
              "  </div>\n",
              "\n",
              "    </div>\n",
              "  </div>\n"
            ],
            "application/vnd.google.colaboratory.intrinsic+json": {
              "type": "dataframe",
              "variable_name": "balanced_df",
              "summary": "{\n  \"name\": \"balanced_df\",\n  \"rows\": 1570,\n  \"fields\": [\n    {\n      \"column\": \"fault\",\n      \"properties\": {\n        \"dtype\": \"category\",\n        \"num_unique_values\": 9,\n        \"samples\": [\n          \"Noise_10_OR021_6_1_239\",\n          \"Noise_10_B014_1_190\",\n          \"Noise_10_OR007_6_1_136\"\n        ],\n        \"semantic_type\": \"\",\n        \"description\": \"\"\n      }\n    },\n    {\n      \"column\": \"window\",\n      \"properties\": {\n        \"dtype\": \"number\",\n        \"std\": 71,\n        \"min\": 1,\n        \"max\": 250,\n        \"num_unique_values\": 190,\n        \"samples\": [\n          229,\n          224,\n          179\n        ],\n        \"semantic_type\": \"\",\n        \"description\": \"\"\n      }\n    },\n    {\n      \"column\": \"mean\",\n      \"properties\": {\n        \"dtype\": \"number\",\n        \"std\": 0.004878840884019804,\n        \"min\": -0.0083304070761897,\n        \"max\": 0.0303522291205524,\n        \"num_unique_values\": 1566,\n        \"samples\": [\n          0.0238532462582729,\n          0.0145962707252408,\n          0.0096562263287823\n        ],\n        \"semantic_type\": \"\",\n        \"description\": \"\"\n      }\n    },\n    {\n      \"column\": \"std\",\n      \"properties\": {\n        \"dtype\": \"number\",\n        \"std\": 0.3305506515317055,\n        \"min\": 0.0639565555275021,\n        \"max\": 1.30900355705032,\n        \"num_unique_values\": 1566,\n        \"samples\": [\n          0.288670915393268,\n          0.1185563301857174,\n          0.0681700048375855\n        ],\n        \"semantic_type\": \"\",\n        \"description\": \"\"\n      }\n    },\n    {\n      \"column\": \"rms\",\n      \"properties\": {\n        \"dtype\": \"number\",\n        \"std\": 0.3302614921032381,\n        \"min\": 0.0655829022772851,\n        \"max\": 1.3090810023199444,\n        \"num_unique_values\": 1566,\n        \"samples\": [\n          0.2896547509554178,\n          0.1194514736040932,\n          0.0688505066536849\n        ],\n        \"semantic_type\": \"\",\n        \"description\": \"\"\n      }\n    },\n    {\n      \"column\": \"max\",\n      \"properties\": {\n        \"dtype\": \"number\",\n        \"std\": 1.7257864069841662,\n        \"min\": 0.1822772524344684,\n        \"max\": 7.438886528534303,\n        \"num_unique_values\": 1452,\n        \"samples\": [\n          0.4650366924324079,\n          0.4749043780364239,\n          0.5298388041691614\n        ],\n        \"semantic_type\": \"\",\n        \"description\": \"\"\n      }\n    },\n    {\n      \"column\": \"min\",\n      \"properties\": {\n        \"dtype\": \"number\",\n        \"std\": 1.747646742957271,\n        \"min\": -6.749734574236189,\n        \"max\": -0.1750314121671319,\n        \"num_unique_values\": 1463,\n        \"samples\": [\n          -4.32227898951038,\n          -1.014589606312264,\n          -0.9526324853883412\n        ],\n        \"semantic_type\": \"\",\n        \"description\": \"\"\n      }\n    },\n    {\n      \"column\": \"skewness\",\n      \"properties\": {\n        \"dtype\": \"number\",\n        \"std\": 0.16913871329255376,\n        \"min\": -0.914837147596164,\n        \"max\": 0.8162362829943048,\n        \"num_unique_values\": 1566,\n        \"samples\": [\n          0.0877876182428966,\n          0.2757411551952994,\n          -0.0061626819071858\n        ],\n        \"semantic_type\": \"\",\n        \"description\": \"\"\n      }\n    },\n    {\n      \"column\": \"kurtosis\",\n      \"properties\": {\n        \"dtype\": \"number\",\n        \"std\": 4.0823803488881545,\n        \"min\": -0.5300058122511717,\n        \"max\": 26.57962389339031,\n        \"num_unique_values\": 1566,\n        \"samples\": [\n          3.734139861181332,\n          1.9057201062764824,\n          -0.119964109194226\n        ],\n        \"semantic_type\": \"\",\n        \"description\": \"\"\n      }\n    },\n    {\n      \"column\": \"form_factor\",\n      \"properties\": {\n        \"dtype\": \"number\",\n        \"std\": 0.15169308981069124,\n        \"min\": 1.2152745981000772,\n        \"max\": 2.115535853353528,\n        \"num_unique_values\": 1566,\n        \"samples\": [\n          1.436532157983685,\n          1.3133902831783346,\n          1.2494639345316323\n        ],\n        \"semantic_type\": \"\",\n        \"description\": \"\"\n      }\n    },\n    {\n      \"column\": \"crest_factor\",\n      \"properties\": {\n        \"dtype\": \"number\",\n        \"std\": 1.151502124668443,\n        \"min\": 2.575419869363865,\n        \"max\": 8.695665255090478,\n        \"num_unique_values\": 1566,\n        \"samples\": [\n          5.052602471311771,\n          5.492932210505315,\n          3.3327182457640707\n        ],\n        \"semantic_type\": \"\",\n        \"description\": \"\"\n      }\n    }\n  ]\n}"
            }
          },
          "metadata": {},
          "execution_count": 17
        }
      ]
    },
    {
      "cell_type": "code",
      "source": [
        "import pandas as pd\n",
        "from sklearn.preprocessing import StandardScaler\n",
        "from sklearn.manifold import TSNE\n",
        "import matplotlib.pyplot as plt\n",
        "\n",
        "\n",
        "# Sort the dataset by the 'Fault' column\n",
        "balanced_df = balanced_df.sort_values(by='fault')\n",
        "\n",
        "# Separate features and target variable\n",
        "X = balanced_df.drop(columns=['fault'])  # Replace 'Fault' with actual target column name\n",
        "y = balanced_df['fault']\n",
        "\n",
        "# Normalize the feature columns using StandardScaler\n",
        "scaler = StandardScaler()\n",
        "X_normalized = pd.DataFrame(scaler.fit_transform(X), columns=X.columns)\n",
        "\n",
        "# Concatenate the normalized features with the target variable\n",
        "STAT_Motor_Fault_dataset_normalized = pd.concat([X_normalized, y.reset_index(drop=True)], axis=1)\n",
        "\n",
        "# Sort the normalized dataset by 'Fault' column\n",
        "STAT_Motor_Fault_dataset_normalized = STAT_Motor_Fault_dataset_normalized.sort_values(by='fault')\n",
        "\n",
        "# Apply t-SNE for dimensionality reduction\n",
        "tsne = TSNE(n_components=2, random_state=42)  # 2D t-SNE\n",
        "X_tsne = tsne.fit_transform(X_normalized)\n",
        "\n",
        "# Create a DataFrame for t-SNE results\n",
        "tSNE_representation = pd.DataFrame(X_tsne, columns=['t-SNE 1', 't-SNE 2'])\n",
        "tSNE_representation['fault'] = y.reset_index(drop=True)\n",
        "\n",
        "# Display the t-SNE representation\n",
        "print(tSNE_representation.head())\n",
        "\n",
        "# Optional: Visualization of t-SNE representation\n",
        "plt.figure(figsize=(8, 6))\n",
        "for label in tSNE_representation['fault'].unique():\n",
        "    subset = tSNE_representation[tSNE_representation['fault'] == label]\n",
        "    plt.scatter(subset['t-SNE 1'], subset['t-SNE 2'], label=f'fault {label}', alpha=0.7)\n",
        "\n",
        "plt.title('t-SNE Representation of Motor Fault Dataset')\n",
        "plt.xlabel('t-SNE 1')\n",
        "plt.ylabel('t-SNE 2')\n",
        "plt.legend()\n",
        "plt.show()\n"
      ],
      "metadata": {
        "id": "tV7aspjE3R4f",
        "colab": {
          "base_uri": "https://localhost:8080/",
          "height": 674
        },
        "outputId": "369182b1-bc91-4a2f-b679-5aa34b5a8ee2"
      },
      "id": "tV7aspjE3R4f",
      "execution_count": 18,
      "outputs": [
        {
          "output_type": "stream",
          "name": "stdout",
          "text": [
            "     t-SNE 1    t-SNE 2                fault\n",
            "0  32.255474  -7.569028  Noise_10_B007_1_123\n",
            "1  39.820667  -1.244522  Noise_10_B007_1_123\n",
            "2  29.230070  11.426721  Noise_10_B007_1_123\n",
            "3  28.761621  22.177374  Noise_10_B007_1_123\n",
            "4  28.058859  17.769859  Noise_10_B007_1_123\n"
          ]
        },
        {
          "output_type": "display_data",
          "data": {
            "text/plain": [
              "<Figure size 800x600 with 1 Axes>"
            ],
            "image/png": "[encoded data removed]"
          },
          "metadata": {}
        }
      ]
    },
    {
      "cell_type": "code",
      "source": [
        "tSNE_representation"
      ],
      "metadata": {
        "id": "QMwOLwssDgHU",
        "colab": {
          "base_uri": "https://localhost:8080/",
          "height": 423
        },
        "outputId": "6afc51f3-301b-41d7-80e0-591a672fb7c7"
      },
      "id": "QMwOLwssDgHU",
      "execution_count": 19,
      "outputs": [
        {
          "output_type": "execute_result",
          "data": {
            "text/plain": [
              "        t-SNE 1    t-SNE 2                       fault\n",
              "0     32.255474  -7.569028         Noise_10_B007_1_123\n",
              "1     39.820667  -1.244522         Noise_10_B007_1_123\n",
              "2     29.230070  11.426721         Noise_10_B007_1_123\n",
              "3     28.761621  22.177374         Noise_10_B007_1_123\n",
              "4     28.058859  17.769859         Noise_10_B007_1_123\n",
              "...         ...        ...                         ...\n",
              "1565   7.056748  24.427645  Noise_10_Time_Normal_1_098\n",
              "1566  30.127686 -25.603350  Noise_10_Time_Normal_1_098\n",
              "1567  25.546106 -28.083755  Noise_10_Time_Normal_1_098\n",
              "1568   7.688811  22.301249  Noise_10_Time_Normal_1_098\n",
              "1569  26.493973 -14.025627  Noise_10_Time_Normal_1_098\n",
              "\n",
              "[1570 rows x 3 columns]"
            ],
            "text/html": [
              "\n",
              "  <div id=\"df-422fbf52-d383-4981-b557-1da11b838531\" class=\"colab-df-container\">\n",
              "    <div>\n",
              "<style scoped>\n",
              "    .dataframe tbody tr th:only-of-type {\n",
              "        vertical-align: middle;\n",
              "    }\n",
              "\n",
              "    .dataframe tbody tr th {\n",
              "        vertical-align: top;\n",
              "    }\n",
              "\n",
              "    .dataframe thead th {\n",
              "        text-align: right;\n",
              "    }\n",
              "</style>\n",
              "<table border=\"1\" class=\"dataframe\">\n",
              "  <thead>\n",
              "    <tr style=\"text-align: right;\">\n",
              "      <th></th>\n",
              "      <th>t-SNE 1</th>\n",
              "      <th>t-SNE 2</th>\n",
              "      <th>fault</th>\n",
              "    </tr>\n",
              "  </thead>\n",
              "  <tbody>\n",
              "    <tr>\n",
              "      <th>0</th>\n",
              "      <td>32.255474</td>\n",
              "      <td>-7.569028</td>\n",
              "      <td>Noise_10_B007_1_123</td>\n",
              "    </tr>\n",
              "    <tr>\n",
              "      <th>1</th>\n",
              "      <td>39.820667</td>\n",
              "      <td>-1.244522</td>\n",
              "      <td>Noise_10_B007_1_123</td>\n",
              "    </tr>\n",
              "    <tr>\n",
              "      <th>2</th>\n",
              "      <td>29.230070</td>\n",
              "      <td>11.426721</td>\n",
              "      <td>Noise_10_B007_1_123</td>\n",
              "    </tr>\n",
              "    <tr>\n",
              "      <th>3</th>\n",
              "      <td>28.761621</td>\n",
              "      <td>22.177374</td>\n",
              "      <td>Noise_10_B007_1_123</td>\n",
              "    </tr>\n",
              "    <tr>\n",
              "      <th>4</th>\n",
              "      <td>28.058859</td>\n",
              "      <td>17.769859</td>\n",
              "      <td>Noise_10_B007_1_123</td>\n",
              "    </tr>\n",
              "    <tr>\n",
              "      <th>...</th>\n",
              "      <td>...</td>\n",
              "      <td>...</td>\n",
              "      <td>...</td>\n",
              "    </tr>\n",
              "    <tr>\n",
              "      <th>1565</th>\n",
              "      <td>7.056748</td>\n",
              "      <td>24.427645</td>\n",
              "      <td>Noise_10_Time_Normal_1_098</td>\n",
              "    </tr>\n",
              "    <tr>\n",
              "      <th>1566</th>\n",
              "      <td>30.127686</td>\n",
              "      <td>-25.603350</td>\n",
              "      <td>Noise_10_Time_Normal_1_098</td>\n",
              "    </tr>\n",
              "    <tr>\n",
              "      <th>1567</th>\n",
              "      <td>25.546106</td>\n",
              "      <td>-28.083755</td>\n",
              "      <td>Noise_10_Time_Normal_1_098</td>\n",
              "    </tr>\n",
              "    <tr>\n",
              "      <th>1568</th>\n",
              "      <td>7.688811</td>\n",
              "      <td>22.301249</td>\n",
              "      <td>Noise_10_Time_Normal_1_098</td>\n",
              "    </tr>\n",
              "    <tr>\n",
              "      <th>1569</th>\n",
              "      <td>26.493973</td>\n",
              "      <td>-14.025627</td>\n",
              "      <td>Noise_10_Time_Normal_1_098</td>\n",
              "    </tr>\n",
              "  </tbody>\n",
              "</table>\n",
              "<p>1570 rows × 3 columns</p>\n",
              "</div>\n",
              "    <div class=\"colab-df-buttons\">\n",
              "\n",
              "  <div class=\"colab-df-container\">\n",
              "    <button class=\"colab-df-convert\" onclick=\"convertToInteractive('df-422fbf52-d383-4981-b557-1da11b838531')\"\n",
              "            title=\"Convert this dataframe to an interactive table.\"\n",
              "            style=\"display:none;\">\n",
              "\n",
              "  <svg xmlns=\"http://www.w3.org/2000/svg\" height=\"24px\" viewBox=\"0 -960 960 960\">\n",
              "    <path d=\"M120-120v-720h720v720H120Zm60-500h600v-160H180v160Zm220 220h160v-160H400v160Zm0 220h160v-160H400v160ZM180-400h160v-160H180v160Zm440 0h160v-160H620v160ZM180-180h160v-160H180v160Zm440 0h160v-160H620v160Z\"/>\n",
              "  </svg>\n",
              "    </button>\n",
              "\n",
              "  <style>\n",
              "    .colab-df-container {\n",
              "      display:flex;\n",
              "      gap: 12px;\n",
              "    }\n",
              "\n",
              "    .colab-df-convert {\n",
              "      background-color: #E8F0FE;\n",
              "      border: none;\n",
              "      border-radius: 50%;\n",
              "      cursor: pointer;\n",
              "      display: none;\n",
              "      fill: #1967D2;\n",
              "      height: 32px;\n",
              "      padding: 0 0 0 0;\n",
              "      width: 32px;\n",
              "    }\n",
              "\n",
              "    .colab-df-convert:hover {\n",
              "      background-color: #E2EBFA;\n",
              "      box-shadow: 0px 1px 2px rgba(60, 64, 67, 0.3), 0px 1px 3px 1px rgba(60, 64, 67, 0.15);\n",
              "      fill: #174EA6;\n",
              "    }\n",
              "\n",
              "    .colab-df-buttons div {\n",
              "      margin-bottom: 4px;\n",
              "    }\n",
              "\n",
              "    [theme=dark] .colab-df-convert {\n",
              "      background-color: #3B4455;\n",
              "      fill: #D2E3FC;\n",
              "    }\n",
              "\n",
              "    [theme=dark] .colab-df-convert:hover {\n",
              "      background-color: #434B5C;\n",
              "      box-shadow: 0px 1px 3px 1px rgba(0, 0, 0, 0.15);\n",
              "      filter: drop-shadow(0px 1px 2px rgba(0, 0, 0, 0.3));\n",
              "      fill: #FFFFFF;\n",
              "    }\n",
              "  </style>\n",
              "\n",
              "    <script>\n",
              "      const buttonEl =\n",
              "        document.querySelector('#df-422fbf52-d383-4981-b557-1da11b838531 button.colab-df-convert');\n",
              "      buttonEl.style.display =\n",
              "        google.colab.kernel.accessAllowed ? 'block' : 'none';\n",
              "\n",
              "      async function convertToInteractive(key) {\n",
              "        const element = document.querySelector('#df-422fbf52-d383-4981-b557-1da11b838531');\n",
              "        const dataTable =\n",
              "          await google.colab.kernel.invokeFunction('convertToInteractive',\n",
              "                                                    [key], {});\n",
              "        if (!dataTable) return;\n",
              "\n",
              "        const docLinkHtml = 'Like what you see? Visit the ' +\n",
              "          '<a target=\"_blank\" href=https://colab.research.google.com/notebooks/data_table.ipynb>data table notebook</a>'\n",
              "          + ' to learn more about interactive tables.';\n",
              "        element.innerHTML = '';\n",
              "        dataTable['output_type'] = 'display_data';\n",
              "        await google.colab.output.renderOutput(dataTable, element);\n",
              "        const docLink = document.createElement('div');\n",
              "        docLink.innerHTML = docLinkHtml;\n",
              "        element.appendChild(docLink);\n",
              "      }\n",
              "    </script>\n",
              "  </div>\n",
              "\n",
              "\n",
              "    <div id=\"df-35af930d-7fe9-44df-ad95-51e38c40b0a3\">\n",
              "      <button class=\"colab-df-quickchart\" onclick=\"quickchart('df-35af930d-7fe9-44df-ad95-51e38c40b0a3')\"\n",
              "                title=\"Suggest charts\"\n",
              "                style=\"display:none;\">\n",
              "\n",
              "<svg xmlns=\"http://www.w3.org/2000/svg\" height=\"24px\"viewBox=\"0 0 24 24\"\n",
              "     width=\"24px\">\n",
              "    <g>\n",
              "        <path d=\"M19 3H5c-1.1 0-2 .9-2 2v14c0 1.1.9 2 2 2h14c1.1 0 2-.9 2-2V5c0-1.1-.9-2-2-2zM9 17H7v-7h2v7zm4 0h-2V7h2v10zm4 0h-2v-4h2v4z\"/>\n",
              "    </g>\n",
              "</svg>\n",
              "      </button>\n",
              "\n",
              "<style>\n",
              "  .colab-df-quickchart {\n",
              "      --bg-color: #E8F0FE;\n",
              "      --fill-color: #1967D2;\n",
              "      --hover-bg-color: #E2EBFA;\n",
              "      --hover-fill-color: #174EA6;\n",
              "      --disabled-fill-color: #AAA;\n",
              "      --disabled-bg-color: #DDD;\n",
              "  }\n",
              "\n",
              "  [theme=dark] .colab-df-quickchart {\n",
              "      --bg-color: #3B4455;\n",
              "      --fill-color: #D2E3FC;\n",
              "      --hover-bg-color: #434B5C;\n",
              "      --hover-fill-color: #FFFFFF;\n",
              "      --disabled-bg-color: #3B4455;\n",
              "      --disabled-fill-color: #666;\n",
              "  }\n",
              "\n",
              "  .colab-df-quickchart {\n",
              "    background-color: var(--bg-color);\n",
              "    border: none;\n",
              "    border-radius: 50%;\n",
              "    cursor: pointer;\n",
              "    display: none;\n",
              "    fill: var(--fill-color);\n",
              "    height: 32px;\n",
              "    padding: 0;\n",
              "    width: 32px;\n",
              "  }\n",
              "\n",
              "  .colab-df-quickchart:hover {\n",
              "    background-color: var(--hover-bg-color);\n",
              "    box-shadow: 0 1px 2px rgba(60, 64, 67, 0.3), 0 1px 3px 1px rgba(60, 64, 67, 0.15);\n",
              "    fill: var(--button-hover-fill-color);\n",
              "  }\n",
              "\n",
              "  .colab-df-quickchart-complete:disabled,\n",
              "  .colab-df-quickchart-complete:disabled:hover {\n",
              "    background-color: var(--disabled-bg-color);\n",
              "    fill: var(--disabled-fill-color);\n",
              "    box-shadow: none;\n",
              "  }\n",
              "\n",
              "  .colab-df-spinner {\n",
              "    border: 2px solid var(--fill-color);\n",
              "    border-color: transparent;\n",
              "    border-bottom-color: var(--fill-color);\n",
              "    animation:\n",
              "      spin 1s steps(1) infinite;\n",
              "  }\n",
              "\n",
              "  @keyframes spin {\n",
              "    0% {\n",
              "      border-color: transparent;\n",
              "      border-bottom-color: var(--fill-color);\n",
              "      border-left-color: var(--fill-color);\n",
              "    }\n",
              "    20% {\n",
              "      border-color: transparent;\n",
              "      border-left-color: var(--fill-color);\n",
              "      border-top-color: var(--fill-color);\n",
              "    }\n",
              "    30% {\n",
              "      border-color: transparent;\n",
              "      border-left-color: var(--fill-color);\n",
              "      border-top-color: var(--fill-color);\n",
              "      border-right-color: var(--fill-color);\n",
              "    }\n",
              "    40% {\n",
              "      border-color: transparent;\n",
              "      border-right-color: var(--fill-color);\n",
              "      border-top-color: var(--fill-color);\n",
              "    }\n",
              "    60% {\n",
              "      border-color: transparent;\n",
              "      border-right-color: var(--fill-color);\n",
              "    }\n",
              "    80% {\n",
              "      border-color: transparent;\n",
              "      border-right-color: var(--fill-color);\n",
              "      border-bottom-color: var(--fill-color);\n",
              "    }\n",
              "    90% {\n",
              "      border-color: transparent;\n",
              "      border-bottom-color: var(--fill-color);\n",
              "    }\n",
              "  }\n",
              "</style>\n",
              "\n",
              "      <script>\n",
              "        async function quickchart(key) {\n",
              "          const quickchartButtonEl =\n",
              "            document.querySelector('#' + key + ' button');\n",
              "          quickchartButtonEl.disabled = true;  // To prevent multiple clicks.\n",
              "          quickchartButtonEl.classList.add('colab-df-spinner');\n",
              "          try {\n",
              "            const charts = await google.colab.kernel.invokeFunction(\n",
              "                'suggestCharts', [key], {});\n",
              "          } catch (error) {\n",
              "            console.error('Error during call to suggestCharts:', error);\n",
              "          }\n",
              "          quickchartButtonEl.classList.remove('colab-df-spinner');\n",
              "          quickchartButtonEl.classList.add('colab-df-quickchart-complete');\n",
              "        }\n",
              "        (() => {\n",
              "          let quickchartButtonEl =\n",
              "            document.querySelector('#df-35af930d-7fe9-44df-ad95-51e38c40b0a3 button');\n",
              "          quickchartButtonEl.style.display =\n",
              "            google.colab.kernel.accessAllowed ? 'block' : 'none';\n",
              "        })();\n",
              "      </script>\n",
              "    </div>\n",
              "\n",
              "  <div id=\"id_af2cdd63-3862-42ea-a215-7771968f656e\">\n",
              "    <style>\n",
              "      .colab-df-generate {\n",
              "        background-color: #E8F0FE;\n",
              "        border: none;\n",
              "        border-radius: 50%;\n",
              "        cursor: pointer;\n",
              "        display: none;\n",
              "        fill: #1967D2;\n",
              "        height: 32px;\n",
              "        padding: 0 0 0 0;\n",
              "        width: 32px;\n",
              "      }\n",
              "\n",
              "      .colab-df-generate:hover {\n",
              "        background-color: #E2EBFA;\n",
              "        box-shadow: 0px 1px 2px rgba(60, 64, 67, 0.3), 0px 1px 3px 1px rgba(60, 64, 67, 0.15);\n",
              "        fill: #174EA6;\n",
              "      }\n",
              "\n",
              "      [theme=dark] .colab-df-generate {\n",
              "        background-color: #3B4455;\n",
              "        fill: #D2E3FC;\n",
              "      }\n",
              "\n",
              "      [theme=dark] .colab-df-generate:hover {\n",
              "        background-color: #434B5C;\n",
              "        box-shadow: 0px 1px 3px 1px rgba(0, 0, 0, 0.15);\n",
              "        filter: drop-shadow(0px 1px 2px rgba(0, 0, 0, 0.3));\n",
              "        fill: #FFFFFF;\n",
              "      }\n",
              "    </style>\n",
              "    <button class=\"colab-df-generate\" onclick=\"generateWithVariable('tSNE_representation')\"\n",
              "            title=\"Generate code using this dataframe.\"\n",
              "            style=\"display:none;\">\n",
              "\n",
              "  <svg xmlns=\"http://www.w3.org/2000/svg\" height=\"24px\"viewBox=\"0 0 24 24\"\n",
              "       width=\"24px\">\n",
              "    <path d=\"M7,19H8.4L18.45,9,17,7.55,7,17.6ZM5,21V16.75L18.45,3.32a2,2,0,0,1,2.83,0l1.4,1.43a1.91,1.91,0,0,1,.58,1.4,1.91,1.91,0,0,1-.58,1.4L9.25,21ZM18.45,9,17,7.55Zm-12,3A5.31,5.31,0,0,0,4.9,8.1,5.31,5.31,0,0,0,1,6.5,5.31,5.31,0,0,0,4.9,4.9,5.31,5.31,0,0,0,6.5,1,5.31,5.31,0,0,0,8.1,4.9,5.31,5.31,0,0,0,12,6.5,5.46,5.46,0,0,0,6.5,12Z\"/>\n",
              "  </svg>\n",
              "    </button>\n",
              "    <script>\n",
              "      (() => {\n",
              "      const buttonEl =\n",
              "        document.querySelector('#id_af2cdd63-3862-42ea-a215-7771968f656e button.colab-df-generate');\n",
              "      buttonEl.style.display =\n",
              "        google.colab.kernel.accessAllowed ? 'block' : 'none';\n",
              "\n",
              "      buttonEl.onclick = () => {\n",
              "        google.colab.notebook.generateWithVariable('tSNE_representation');\n",
              "      }\n",
              "      })();\n",
              "    </script>\n",
              "  </div>\n",
              "\n",
              "    </div>\n",
              "  </div>\n"
            ],
            "application/vnd.google.colaboratory.intrinsic+json": {
              "type": "dataframe",
              "variable_name": "tSNE_representation",
              "summary": "{\n  \"name\": \"tSNE_representation\",\n  \"rows\": 1570,\n  \"fields\": [\n    {\n      \"column\": \"t-SNE 1\",\n      \"properties\": {\n        \"dtype\": \"float32\",\n        \"num_unique_values\": 1569,\n        \"samples\": [\n          10.232412338256836,\n          -42.33159255981445,\n          9.055932998657227\n        ],\n        \"semantic_type\": \"\",\n        \"description\": \"\"\n      }\n    },\n    {\n      \"column\": \"t-SNE 2\",\n      \"properties\": {\n        \"dtype\": \"float32\",\n        \"num_unique_values\": 1569,\n        \"samples\": [\n          24.064220428466797,\n          18.037107467651367,\n          11.220995903015137\n        ],\n        \"semantic_type\": \"\",\n        \"description\": \"\"\n      }\n    },\n    {\n      \"column\": \"fault\",\n      \"properties\": {\n        \"dtype\": \"category\",\n        \"num_unique_values\": 9,\n        \"samples\": [\n          \"Noise_10_OR021_6_1_239\",\n          \"Noise_10_B014_1_190\",\n          \"Noise_10_OR007_6_1_136\"\n        ],\n        \"semantic_type\": \"\",\n        \"description\": \"\"\n      }\n    }\n  ]\n}"
            }
          },
          "metadata": {},
          "execution_count": 19
        }
      ]
    },
    {
      "cell_type": "code",
      "source": [
        "tSNE_representation=tSNE_representation.drop(columns=['fault'])\n",
        "tSNE_representation"
      ],
      "metadata": {
        "id": "Pybzwduy8nhv",
        "colab": {
          "base_uri": "https://localhost:8080/",
          "height": 423
        },
        "outputId": "6fb7579b-bc6c-4cdd-d0b5-e976edd875dd"
      },
      "id": "Pybzwduy8nhv",
      "execution_count": 20,
      "outputs": [
        {
          "output_type": "execute_result",
          "data": {
            "text/plain": [
              "        t-SNE 1    t-SNE 2\n",
              "0     32.255474  -7.569028\n",
              "1     39.820667  -1.244522\n",
              "2     29.230070  11.426721\n",
              "3     28.761621  22.177374\n",
              "4     28.058859  17.769859\n",
              "...         ...        ...\n",
              "1565   7.056748  24.427645\n",
              "1566  30.127686 -25.603350\n",
              "1567  25.546106 -28.083755\n",
              "1568   7.688811  22.301249\n",
              "1569  26.493973 -14.025627\n",
              "\n",
              "[1570 rows x 2 columns]"
            ],
            "text/html": [
              "\n",
              "  <div id=\"df-fe7ff724-577c-4e56-9760-81250ed513b0\" class=\"colab-df-container\">\n",
              "    <div>\n",
              "<style scoped>\n",
              "    .dataframe tbody tr th:only-of-type {\n",
              "        vertical-align: middle;\n",
              "    }\n",
              "\n",
              "    .dataframe tbody tr th {\n",
              "        vertical-align: top;\n",
              "    }\n",
              "\n",
              "    .dataframe thead th {\n",
              "        text-align: right;\n",
              "    }\n",
              "</style>\n",
              "<table border=\"1\" class=\"dataframe\">\n",
              "  <thead>\n",
              "    <tr style=\"text-align: right;\">\n",
              "      <th></th>\n",
              "      <th>t-SNE 1</th>\n",
              "      <th>t-SNE 2</th>\n",
              "    </tr>\n",
              "  </thead>\n",
              "  <tbody>\n",
              "    <tr>\n",
              "      <th>0</th>\n",
              "      <td>32.255474</td>\n",
              "      <td>-7.569028</td>\n",
              "    </tr>\n",
              "    <tr>\n",
              "      <th>1</th>\n",
              "      <td>39.820667</td>\n",
              "      <td>-1.244522</td>\n",
              "    </tr>\n",
              "    <tr>\n",
              "      <th>2</th>\n",
              "      <td>29.230070</td>\n",
              "      <td>11.426721</td>\n",
              "    </tr>\n",
              "    <tr>\n",
              "      <th>3</th>\n",
              "      <td>28.761621</td>\n",
              "      <td>22.177374</td>\n",
              "    </tr>\n",
              "    <tr>\n",
              "      <th>4</th>\n",
              "      <td>28.058859</td>\n",
              "      <td>17.769859</td>\n",
              "    </tr>\n",
              "    <tr>\n",
              "      <th>...</th>\n",
              "      <td>...</td>\n",
              "      <td>...</td>\n",
              "    </tr>\n",
              "    <tr>\n",
              "      <th>1565</th>\n",
              "      <td>7.056748</td>\n",
              "      <td>24.427645</td>\n",
              "    </tr>\n",
              "    <tr>\n",
              "      <th>1566</th>\n",
              "      <td>30.127686</td>\n",
              "      <td>-25.603350</td>\n",
              "    </tr>\n",
              "    <tr>\n",
              "      <th>1567</th>\n",
              "      <td>25.546106</td>\n",
              "      <td>-28.083755</td>\n",
              "    </tr>\n",
              "    <tr>\n",
              "      <th>1568</th>\n",
              "      <td>7.688811</td>\n",
              "      <td>22.301249</td>\n",
              "    </tr>\n",
              "    <tr>\n",
              "      <th>1569</th>\n",
              "      <td>26.493973</td>\n",
              "      <td>-14.025627</td>\n",
              "    </tr>\n",
              "  </tbody>\n",
              "</table>\n",
              "<p>1570 rows × 2 columns</p>\n",
              "</div>\n",
              "    <div class=\"colab-df-buttons\">\n",
              "\n",
              "  <div class=\"colab-df-container\">\n",
              "    <button class=\"colab-df-convert\" onclick=\"convertToInteractive('df-fe7ff724-577c-4e56-9760-81250ed513b0')\"\n",
              "            title=\"Convert this dataframe to an interactive table.\"\n",
              "            style=\"display:none;\">\n",
              "\n",
              "  <svg xmlns=\"http://www.w3.org/2000/svg\" height=\"24px\" viewBox=\"0 -960 960 960\">\n",
              "    <path d=\"M120-120v-720h720v720H120Zm60-500h600v-160H180v160Zm220 220h160v-160H400v160Zm0 220h160v-160H400v160ZM180-400h160v-160H180v160Zm440 0h160v-160H620v160ZM180-180h160v-160H180v160Zm440 0h160v-160H620v160Z\"/>\n",
              "  </svg>\n",
              "    </button>\n",
              "\n",
              "  <style>\n",
              "    .colab-df-container {\n",
              "      display:flex;\n",
              "      gap: 12px;\n",
              "    }\n",
              "\n",
              "    .colab-df-convert {\n",
              "      background-color: #E8F0FE;\n",
              "      border: none;\n",
              "      border-radius: 50%;\n",
              "      cursor: pointer;\n",
              "      display: none;\n",
              "      fill: #1967D2;\n",
              "      height: 32px;\n",
              "      padding: 0 0 0 0;\n",
              "      width: 32px;\n",
              "    }\n",
              "\n",
              "    .colab-df-convert:hover {\n",
              "      background-color: #E2EBFA;\n",
              "      box-shadow: 0px 1px 2px rgba(60, 64, 67, 0.3), 0px 1px 3px 1px rgba(60, 64, 67, 0.15);\n",
              "      fill: #174EA6;\n",
              "    }\n",
              "\n",
              "    .colab-df-buttons div {\n",
              "      margin-bottom: 4px;\n",
              "    }\n",
              "\n",
              "    [theme=dark] .colab-df-convert {\n",
              "      background-color: #3B4455;\n",
              "      fill: #D2E3FC;\n",
              "    }\n",
              "\n",
              "    [theme=dark] .colab-df-convert:hover {\n",
              "      background-color: #434B5C;\n",
              "      box-shadow: 0px 1px 3px 1px rgba(0, 0, 0, 0.15);\n",
              "      filter: drop-shadow(0px 1px 2px rgba(0, 0, 0, 0.3));\n",
              "      fill: #FFFFFF;\n",
              "    }\n",
              "  </style>\n",
              "\n",
              "    <script>\n",
              "      const buttonEl =\n",
              "        document.querySelector('#df-fe7ff724-577c-4e56-9760-81250ed513b0 button.colab-df-convert');\n",
              "      buttonEl.style.display =\n",
              "        google.colab.kernel.accessAllowed ? 'block' : 'none';\n",
              "\n",
              "      async function convertToInteractive(key) {\n",
              "        const element = document.querySelector('#df-fe7ff724-577c-4e56-9760-81250ed513b0');\n",
              "        const dataTable =\n",
              "          await google.colab.kernel.invokeFunction('convertToInteractive',\n",
              "                                                    [key], {});\n",
              "        if (!dataTable) return;\n",
              "\n",
              "        const docLinkHtml = 'Like what you see? Visit the ' +\n",
              "          '<a target=\"_blank\" href=https://colab.research.google.com/notebooks/data_table.ipynb>data table notebook</a>'\n",
              "          + ' to learn more about interactive tables.';\n",
              "        element.innerHTML = '';\n",
              "        dataTable['output_type'] = 'display_data';\n",
              "        await google.colab.output.renderOutput(dataTable, element);\n",
              "        const docLink = document.createElement('div');\n",
              "        docLink.innerHTML = docLinkHtml;\n",
              "        element.appendChild(docLink);\n",
              "      }\n",
              "    </script>\n",
              "  </div>\n",
              "\n",
              "\n",
              "    <div id=\"df-5e24ca0f-ec1d-4b2e-9c30-81114644fb1f\">\n",
              "      <button class=\"colab-df-quickchart\" onclick=\"quickchart('df-5e24ca0f-ec1d-4b2e-9c30-81114644fb1f')\"\n",
              "                title=\"Suggest charts\"\n",
              "                style=\"display:none;\">\n",
              "\n",
              "<svg xmlns=\"http://www.w3.org/2000/svg\" height=\"24px\"viewBox=\"0 0 24 24\"\n",
              "     width=\"24px\">\n",
              "    <g>\n",
              "        <path d=\"M19 3H5c-1.1 0-2 .9-2 2v14c0 1.1.9 2 2 2h14c1.1 0 2-.9 2-2V5c0-1.1-.9-2-2-2zM9 17H7v-7h2v7zm4 0h-2V7h2v10zm4 0h-2v-4h2v4z\"/>\n",
              "    </g>\n",
              "</svg>\n",
              "      </button>\n",
              "\n",
              "<style>\n",
              "  .colab-df-quickchart {\n",
              "      --bg-color: #E8F0FE;\n",
              "      --fill-color: #1967D2;\n",
              "      --hover-bg-color: #E2EBFA;\n",
              "      --hover-fill-color: #174EA6;\n",
              "      --disabled-fill-color: #AAA;\n",
              "      --disabled-bg-color: #DDD;\n",
              "  }\n",
              "\n",
              "  [theme=dark] .colab-df-quickchart {\n",
              "      --bg-color: #3B4455;\n",
              "      --fill-color: #D2E3FC;\n",
              "      --hover-bg-color: #434B5C;\n",
              "      --hover-fill-color: #FFFFFF;\n",
              "      --disabled-bg-color: #3B4455;\n",
              "      --disabled-fill-color: #666;\n",
              "  }\n",
              "\n",
              "  .colab-df-quickchart {\n",
              "    background-color: var(--bg-color);\n",
              "    border: none;\n",
              "    border-radius: 50%;\n",
              "    cursor: pointer;\n",
              "    display: none;\n",
              "    fill: var(--fill-color);\n",
              "    height: 32px;\n",
              "    padding: 0;\n",
              "    width: 32px;\n",
              "  }\n",
              "\n",
              "  .colab-df-quickchart:hover {\n",
              "    background-color: var(--hover-bg-color);\n",
              "    box-shadow: 0 1px 2px rgba(60, 64, 67, 0.3), 0 1px 3px 1px rgba(60, 64, 67, 0.15);\n",
              "    fill: var(--button-hover-fill-color);\n",
              "  }\n",
              "\n",
              "  .colab-df-quickchart-complete:disabled,\n",
              "  .colab-df-quickchart-complete:disabled:hover {\n",
              "    background-color: var(--disabled-bg-color);\n",
              "    fill: var(--disabled-fill-color);\n",
              "    box-shadow: none;\n",
              "  }\n",
              "\n",
              "  .colab-df-spinner {\n",
              "    border: 2px solid var(--fill-color);\n",
              "    border-color: transparent;\n",
              "    border-bottom-color: var(--fill-color);\n",
              "    animation:\n",
              "      spin 1s steps(1) infinite;\n",
              "  }\n",
              "\n",
              "  @keyframes spin {\n",
              "    0% {\n",
              "      border-color: transparent;\n",
              "      border-bottom-color: var(--fill-color);\n",
              "      border-left-color: var(--fill-color);\n",
              "    }\n",
              "    20% {\n",
              "      border-color: transparent;\n",
              "      border-left-color: var(--fill-color);\n",
              "      border-top-color: var(--fill-color);\n",
              "    }\n",
              "    30% {\n",
              "      border-color: transparent;\n",
              "      border-left-color: var(--fill-color);\n",
              "      border-top-color: var(--fill-color);\n",
              "      border-right-color: var(--fill-color);\n",
              "    }\n",
              "    40% {\n",
              "      border-color: transparent;\n",
              "      border-right-color: var(--fill-color);\n",
              "      border-top-color: var(--fill-color);\n",
              "    }\n",
              "    60% {\n",
              "      border-color: transparent;\n",
              "      border-right-color: var(--fill-color);\n",
              "    }\n",
              "    80% {\n",
              "      border-color: transparent;\n",
              "      border-right-color: var(--fill-color);\n",
              "      border-bottom-color: var(--fill-color);\n",
              "    }\n",
              "    90% {\n",
              "      border-color: transparent;\n",
              "      border-bottom-color: var(--fill-color);\n",
              "    }\n",
              "  }\n",
              "</style>\n",
              "\n",
              "      <script>\n",
              "        async function quickchart(key) {\n",
              "          const quickchartButtonEl =\n",
              "            document.querySelector('#' + key + ' button');\n",
              "          quickchartButtonEl.disabled = true;  // To prevent multiple clicks.\n",
              "          quickchartButtonEl.classList.add('colab-df-spinner');\n",
              "          try {\n",
              "            const charts = await google.colab.kernel.invokeFunction(\n",
              "                'suggestCharts', [key], {});\n",
              "          } catch (error) {\n",
              "            console.error('Error during call to suggestCharts:', error);\n",
              "          }\n",
              "          quickchartButtonEl.classList.remove('colab-df-spinner');\n",
              "          quickchartButtonEl.classList.add('colab-df-quickchart-complete');\n",
              "        }\n",
              "        (() => {\n",
              "          let quickchartButtonEl =\n",
              "            document.querySelector('#df-5e24ca0f-ec1d-4b2e-9c30-81114644fb1f button');\n",
              "          quickchartButtonEl.style.display =\n",
              "            google.colab.kernel.accessAllowed ? 'block' : 'none';\n",
              "        })();\n",
              "      </script>\n",
              "    </div>\n",
              "\n",
              "  <div id=\"id_1a98aa26-2d42-43a7-9dcf-2c2f1416d2be\">\n",
              "    <style>\n",
              "      .colab-df-generate {\n",
              "        background-color: #E8F0FE;\n",
              "        border: none;\n",
              "        border-radius: 50%;\n",
              "        cursor: pointer;\n",
              "        display: none;\n",
              "        fill: #1967D2;\n",
              "        height: 32px;\n",
              "        padding: 0 0 0 0;\n",
              "        width: 32px;\n",
              "      }\n",
              "\n",
              "      .colab-df-generate:hover {\n",
              "        background-color: #E2EBFA;\n",
              "        box-shadow: 0px 1px 2px rgba(60, 64, 67, 0.3), 0px 1px 3px 1px rgba(60, 64, 67, 0.15);\n",
              "        fill: #174EA6;\n",
              "      }\n",
              "\n",
              "      [theme=dark] .colab-df-generate {\n",
              "        background-color: #3B4455;\n",
              "        fill: #D2E3FC;\n",
              "      }\n",
              "\n",
              "      [theme=dark] .colab-df-generate:hover {\n",
              "        background-color: #434B5C;\n",
              "        box-shadow: 0px 1px 3px 1px rgba(0, 0, 0, 0.15);\n",
              "        filter: drop-shadow(0px 1px 2px rgba(0, 0, 0, 0.3));\n",
              "        fill: #FFFFFF;\n",
              "      }\n",
              "    </style>\n",
              "    <button class=\"colab-df-generate\" onclick=\"generateWithVariable('tSNE_representation')\"\n",
              "            title=\"Generate code using this dataframe.\"\n",
              "            style=\"display:none;\">\n",
              "\n",
              "  <svg xmlns=\"http://www.w3.org/2000/svg\" height=\"24px\"viewBox=\"0 0 24 24\"\n",
              "       width=\"24px\">\n",
              "    <path d=\"M7,19H8.4L18.45,9,17,7.55,7,17.6ZM5,21V16.75L18.45,3.32a2,2,0,0,1,2.83,0l1.4,1.43a1.91,1.91,0,0,1,.58,1.4,1.91,1.91,0,0,1-.58,1.4L9.25,21ZM18.45,9,17,7.55Zm-12,3A5.31,5.31,0,0,0,4.9,8.1,5.31,5.31,0,0,0,1,6.5,5.31,5.31,0,0,0,4.9,4.9,5.31,5.31,0,0,0,6.5,1,5.31,5.31,0,0,0,8.1,4.9,5.31,5.31,0,0,0,12,6.5,5.46,5.46,0,0,0,6.5,12Z\"/>\n",
              "  </svg>\n",
              "    </button>\n",
              "    <script>\n",
              "      (() => {\n",
              "      const buttonEl =\n",
              "        document.querySelector('#id_1a98aa26-2d42-43a7-9dcf-2c2f1416d2be button.colab-df-generate');\n",
              "      buttonEl.style.display =\n",
              "        google.colab.kernel.accessAllowed ? 'block' : 'none';\n",
              "\n",
              "      buttonEl.onclick = () => {\n",
              "        google.colab.notebook.generateWithVariable('tSNE_representation');\n",
              "      }\n",
              "      })();\n",
              "    </script>\n",
              "  </div>\n",
              "\n",
              "    </div>\n",
              "  </div>\n"
            ],
            "application/vnd.google.colaboratory.intrinsic+json": {
              "type": "dataframe",
              "variable_name": "tSNE_representation",
              "summary": "{\n  \"name\": \"tSNE_representation\",\n  \"rows\": 1570,\n  \"fields\": [\n    {\n      \"column\": \"t-SNE 1\",\n      \"properties\": {\n        \"dtype\": \"float32\",\n        \"num_unique_values\": 1569,\n        \"samples\": [\n          10.232412338256836,\n          -42.33159255981445,\n          9.055932998657227\n        ],\n        \"semantic_type\": \"\",\n        \"description\": \"\"\n      }\n    },\n    {\n      \"column\": \"t-SNE 2\",\n      \"properties\": {\n        \"dtype\": \"float32\",\n        \"num_unique_values\": 1569,\n        \"samples\": [\n          24.064220428466797,\n          18.037107467651367,\n          11.220995903015137\n        ],\n        \"semantic_type\": \"\",\n        \"description\": \"\"\n      }\n    }\n  ]\n}"
            }
          },
          "metadata": {},
          "execution_count": 20
        }
      ]
    },
    {
      "cell_type": "code",
      "source": [
        "tSNEdf = tSNEdf.sort_values(by='Fault')"
      ],
      "metadata": {
        "id": "_TpCIloN904b"
      },
      "id": "_TpCIloN904b",
      "execution_count": 21,
      "outputs": []
    },
    {
      "cell_type": "code",
      "source": [
        "tSNEdf"
      ],
      "metadata": {
        "id": "xq2JlAOp_N5V",
        "colab": {
          "base_uri": "https://localhost:8080/",
          "height": 423
        },
        "outputId": "f4fa35b8-e1fc-48cb-af14-ce9d64cdc50b"
      },
      "id": "xq2JlAOp_N5V",
      "execution_count": 22,
      "outputs": [
        {
          "output_type": "execute_result",
          "data": {
            "text/plain": [
              "      T-SNE component 1  T-SNE component 2                       Fault\n",
              "1200           1.653811         -24.454935         Noise_10_B007_1_123\n",
              "369           -0.121785         -23.243549         Noise_10_B007_1_123\n",
              "1233           5.988234         -29.020876         Noise_10_B007_1_123\n",
              "1237           2.677705         -25.804125         Noise_10_B007_1_123\n",
              "1238           4.853046         -26.940584         Noise_10_B007_1_123\n",
              "...                 ...                ...                         ...\n",
              "1002         -20.803345         -20.709211  Noise_10_Time_Normal_1_098\n",
              "1411         -30.574057          -8.060518  Noise_10_Time_Normal_1_098\n",
              "995          -28.330471         -11.149436  Noise_10_Time_Normal_1_098\n",
              "1417         -24.311157         -13.504642  Noise_10_Time_Normal_1_098\n",
              "772          -21.357452         -19.517828  Noise_10_Time_Normal_1_098\n",
              "\n",
              "[1570 rows x 3 columns]"
            ],
            "text/html": [
              "\n",
              "  <div id=\"df-6ad3f80e-6d1f-4744-a203-292a38c0f8b5\" class=\"colab-df-container\">\n",
              "    <div>\n",
              "<style scoped>\n",
              "    .dataframe tbody tr th:only-of-type {\n",
              "        vertical-align: middle;\n",
              "    }\n",
              "\n",
              "    .dataframe tbody tr th {\n",
              "        vertical-align: top;\n",
              "    }\n",
              "\n",
              "    .dataframe thead th {\n",
              "        text-align: right;\n",
              "    }\n",
              "</style>\n",
              "<table border=\"1\" class=\"dataframe\">\n",
              "  <thead>\n",
              "    <tr style=\"text-align: right;\">\n",
              "      <th></th>\n",
              "      <th>T-SNE component 1</th>\n",
              "      <th>T-SNE component 2</th>\n",
              "      <th>Fault</th>\n",
              "    </tr>\n",
              "  </thead>\n",
              "  <tbody>\n",
              "    <tr>\n",
              "      <th>1200</th>\n",
              "      <td>1.653811</td>\n",
              "      <td>-24.454935</td>\n",
              "      <td>Noise_10_B007_1_123</td>\n",
              "    </tr>\n",
              "    <tr>\n",
              "      <th>369</th>\n",
              "      <td>-0.121785</td>\n",
              "      <td>-23.243549</td>\n",
              "      <td>Noise_10_B007_1_123</td>\n",
              "    </tr>\n",
              "    <tr>\n",
              "      <th>1233</th>\n",
              "      <td>5.988234</td>\n",
              "      <td>-29.020876</td>\n",
              "      <td>Noise_10_B007_1_123</td>\n",
              "    </tr>\n",
              "    <tr>\n",
              "      <th>1237</th>\n",
              "      <td>2.677705</td>\n",
              "      <td>-25.804125</td>\n",
              "      <td>Noise_10_B007_1_123</td>\n",
              "    </tr>\n",
              "    <tr>\n",
              "      <th>1238</th>\n",
              "      <td>4.853046</td>\n",
              "      <td>-26.940584</td>\n",
              "      <td>Noise_10_B007_1_123</td>\n",
              "    </tr>\n",
              "    <tr>\n",
              "      <th>...</th>\n",
              "      <td>...</td>\n",
              "      <td>...</td>\n",
              "      <td>...</td>\n",
              "    </tr>\n",
              "    <tr>\n",
              "      <th>1002</th>\n",
              "      <td>-20.803345</td>\n",
              "      <td>-20.709211</td>\n",
              "      <td>Noise_10_Time_Normal_1_098</td>\n",
              "    </tr>\n",
              "    <tr>\n",
              "      <th>1411</th>\n",
              "      <td>-30.574057</td>\n",
              "      <td>-8.060518</td>\n",
              "      <td>Noise_10_Time_Normal_1_098</td>\n",
              "    </tr>\n",
              "    <tr>\n",
              "      <th>995</th>\n",
              "      <td>-28.330471</td>\n",
              "      <td>-11.149436</td>\n",
              "      <td>Noise_10_Time_Normal_1_098</td>\n",
              "    </tr>\n",
              "    <tr>\n",
              "      <th>1417</th>\n",
              "      <td>-24.311157</td>\n",
              "      <td>-13.504642</td>\n",
              "      <td>Noise_10_Time_Normal_1_098</td>\n",
              "    </tr>\n",
              "    <tr>\n",
              "      <th>772</th>\n",
              "      <td>-21.357452</td>\n",
              "      <td>-19.517828</td>\n",
              "      <td>Noise_10_Time_Normal_1_098</td>\n",
              "    </tr>\n",
              "  </tbody>\n",
              "</table>\n",
              "<p>1570 rows × 3 columns</p>\n",
              "</div>\n",
              "    <div class=\"colab-df-buttons\">\n",
              "\n",
              "  <div class=\"colab-df-container\">\n",
              "    <button class=\"colab-df-convert\" onclick=\"convertToInteractive('df-6ad3f80e-6d1f-4744-a203-292a38c0f8b5')\"\n",
              "            title=\"Convert this dataframe to an interactive table.\"\n",
              "            style=\"display:none;\">\n",
              "\n",
              "  <svg xmlns=\"http://www.w3.org/2000/svg\" height=\"24px\" viewBox=\"0 -960 960 960\">\n",
              "    <path d=\"M120-120v-720h720v720H120Zm60-500h600v-160H180v160Zm220 220h160v-160H400v160Zm0 220h160v-160H400v160ZM180-400h160v-160H180v160Zm440 0h160v-160H620v160ZM180-180h160v-160H180v160Zm440 0h160v-160H620v160Z\"/>\n",
              "  </svg>\n",
              "    </button>\n",
              "\n",
              "  <style>\n",
              "    .colab-df-container {\n",
              "      display:flex;\n",
              "      gap: 12px;\n",
              "    }\n",
              "\n",
              "    .colab-df-convert {\n",
              "      background-color: #E8F0FE;\n",
              "      border: none;\n",
              "      border-radius: 50%;\n",
              "      cursor: pointer;\n",
              "      display: none;\n",
              "      fill: #1967D2;\n",
              "      height: 32px;\n",
              "      padding: 0 0 0 0;\n",
              "      width: 32px;\n",
              "    }\n",
              "\n",
              "    .colab-df-convert:hover {\n",
              "      background-color: #E2EBFA;\n",
              "      box-shadow: 0px 1px 2px rgba(60, 64, 67, 0.3), 0px 1px 3px 1px rgba(60, 64, 67, 0.15);\n",
              "      fill: #174EA6;\n",
              "    }\n",
              "\n",
              "    .colab-df-buttons div {\n",
              "      margin-bottom: 4px;\n",
              "    }\n",
              "\n",
              "    [theme=dark] .colab-df-convert {\n",
              "      background-color: #3B4455;\n",
              "      fill: #D2E3FC;\n",
              "    }\n",
              "\n",
              "    [theme=dark] .colab-df-convert:hover {\n",
              "      background-color: #434B5C;\n",
              "      box-shadow: 0px 1px 3px 1px rgba(0, 0, 0, 0.15);\n",
              "      filter: drop-shadow(0px 1px 2px rgba(0, 0, 0, 0.3));\n",
              "      fill: #FFFFFF;\n",
              "    }\n",
              "  </style>\n",
              "\n",
              "    <script>\n",
              "      const buttonEl =\n",
              "        document.querySelector('#df-6ad3f80e-6d1f-4744-a203-292a38c0f8b5 button.colab-df-convert');\n",
              "      buttonEl.style.display =\n",
              "        google.colab.kernel.accessAllowed ? 'block' : 'none';\n",
              "\n",
              "      async function convertToInteractive(key) {\n",
              "        const element = document.querySelector('#df-6ad3f80e-6d1f-4744-a203-292a38c0f8b5');\n",
              "        const dataTable =\n",
              "          await google.colab.kernel.invokeFunction('convertToInteractive',\n",
              "                                                    [key], {});\n",
              "        if (!dataTable) return;\n",
              "\n",
              "        const docLinkHtml = 'Like what you see? Visit the ' +\n",
              "          '<a target=\"_blank\" href=https://colab.research.google.com/notebooks/data_table.ipynb>data table notebook</a>'\n",
              "          + ' to learn more about interactive tables.';\n",
              "        element.innerHTML = '';\n",
              "        dataTable['output_type'] = 'display_data';\n",
              "        await google.colab.output.renderOutput(dataTable, element);\n",
              "        const docLink = document.createElement('div');\n",
              "        docLink.innerHTML = docLinkHtml;\n",
              "        element.appendChild(docLink);\n",
              "      }\n",
              "    </script>\n",
              "  </div>\n",
              "\n",
              "\n",
              "    <div id=\"df-e276678d-a40e-4cad-88d3-03b82c2af39b\">\n",
              "      <button class=\"colab-df-quickchart\" onclick=\"quickchart('df-e276678d-a40e-4cad-88d3-03b82c2af39b')\"\n",
              "                title=\"Suggest charts\"\n",
              "                style=\"display:none;\">\n",
              "\n",
              "<svg xmlns=\"http://www.w3.org/2000/svg\" height=\"24px\"viewBox=\"0 0 24 24\"\n",
              "     width=\"24px\">\n",
              "    <g>\n",
              "        <path d=\"M19 3H5c-1.1 0-2 .9-2 2v14c0 1.1.9 2 2 2h14c1.1 0 2-.9 2-2V5c0-1.1-.9-2-2-2zM9 17H7v-7h2v7zm4 0h-2V7h2v10zm4 0h-2v-4h2v4z\"/>\n",
              "    </g>\n",
              "</svg>\n",
              "      </button>\n",
              "\n",
              "<style>\n",
              "  .colab-df-quickchart {\n",
              "      --bg-color: #E8F0FE;\n",
              "      --fill-color: #1967D2;\n",
              "      --hover-bg-color: #E2EBFA;\n",
              "      --hover-fill-color: #174EA6;\n",
              "      --disabled-fill-color: #AAA;\n",
              "      --disabled-bg-color: #DDD;\n",
              "  }\n",
              "\n",
              "  [theme=dark] .colab-df-quickchart {\n",
              "      --bg-color: #3B4455;\n",
              "      --fill-color: #D2E3FC;\n",
              "      --hover-bg-color: #434B5C;\n",
              "      --hover-fill-color: #FFFFFF;\n",
              "      --disabled-bg-color: #3B4455;\n",
              "      --disabled-fill-color: #666;\n",
              "  }\n",
              "\n",
              "  .colab-df-quickchart {\n",
              "    background-color: var(--bg-color);\n",
              "    border: none;\n",
              "    border-radius: 50%;\n",
              "    cursor: pointer;\n",
              "    display: none;\n",
              "    fill: var(--fill-color);\n",
              "    height: 32px;\n",
              "    padding: 0;\n",
              "    width: 32px;\n",
              "  }\n",
              "\n",
              "  .colab-df-quickchart:hover {\n",
              "    background-color: var(--hover-bg-color);\n",
              "    box-shadow: 0 1px 2px rgba(60, 64, 67, 0.3), 0 1px 3px 1px rgba(60, 64, 67, 0.15);\n",
              "    fill: var(--button-hover-fill-color);\n",
              "  }\n",
              "\n",
              "  .colab-df-quickchart-complete:disabled,\n",
              "  .colab-df-quickchart-complete:disabled:hover {\n",
              "    background-color: var(--disabled-bg-color);\n",
              "    fill: var(--disabled-fill-color);\n",
              "    box-shadow: none;\n",
              "  }\n",
              "\n",
              "  .colab-df-spinner {\n",
              "    border: 2px solid var(--fill-color);\n",
              "    border-color: transparent;\n",
              "    border-bottom-color: var(--fill-color);\n",
              "    animation:\n",
              "      spin 1s steps(1) infinite;\n",
              "  }\n",
              "\n",
              "  @keyframes spin {\n",
              "    0% {\n",
              "      border-color: transparent;\n",
              "      border-bottom-color: var(--fill-color);\n",
              "      border-left-color: var(--fill-color);\n",
              "    }\n",
              "    20% {\n",
              "      border-color: transparent;\n",
              "      border-left-color: var(--fill-color);\n",
              "      border-top-color: var(--fill-color);\n",
              "    }\n",
              "    30% {\n",
              "      border-color: transparent;\n",
              "      border-left-color: var(--fill-color);\n",
              "      border-top-color: var(--fill-color);\n",
              "      border-right-color: var(--fill-color);\n",
              "    }\n",
              "    40% {\n",
              "      border-color: transparent;\n",
              "      border-right-color: var(--fill-color);\n",
              "      border-top-color: var(--fill-color);\n",
              "    }\n",
              "    60% {\n",
              "      border-color: transparent;\n",
              "      border-right-color: var(--fill-color);\n",
              "    }\n",
              "    80% {\n",
              "      border-color: transparent;\n",
              "      border-right-color: var(--fill-color);\n",
              "      border-bottom-color: var(--fill-color);\n",
              "    }\n",
              "    90% {\n",
              "      border-color: transparent;\n",
              "      border-bottom-color: var(--fill-color);\n",
              "    }\n",
              "  }\n",
              "</style>\n",
              "\n",
              "      <script>\n",
              "        async function quickchart(key) {\n",
              "          const quickchartButtonEl =\n",
              "            document.querySelector('#' + key + ' button');\n",
              "          quickchartButtonEl.disabled = true;  // To prevent multiple clicks.\n",
              "          quickchartButtonEl.classList.add('colab-df-spinner');\n",
              "          try {\n",
              "            const charts = await google.colab.kernel.invokeFunction(\n",
              "                'suggestCharts', [key], {});\n",
              "          } catch (error) {\n",
              "            console.error('Error during call to suggestCharts:', error);\n",
              "          }\n",
              "          quickchartButtonEl.classList.remove('colab-df-spinner');\n",
              "          quickchartButtonEl.classList.add('colab-df-quickchart-complete');\n",
              "        }\n",
              "        (() => {\n",
              "          let quickchartButtonEl =\n",
              "            document.querySelector('#df-e276678d-a40e-4cad-88d3-03b82c2af39b button');\n",
              "          quickchartButtonEl.style.display =\n",
              "            google.colab.kernel.accessAllowed ? 'block' : 'none';\n",
              "        })();\n",
              "      </script>\n",
              "    </div>\n",
              "\n",
              "  <div id=\"id_1262e3d2-6f62-4519-95cd-9ec0ea79aa12\">\n",
              "    <style>\n",
              "      .colab-df-generate {\n",
              "        background-color: #E8F0FE;\n",
              "        border: none;\n",
              "        border-radius: 50%;\n",
              "        cursor: pointer;\n",
              "        display: none;\n",
              "        fill: #1967D2;\n",
              "        height: 32px;\n",
              "        padding: 0 0 0 0;\n",
              "        width: 32px;\n",
              "      }\n",
              "\n",
              "      .colab-df-generate:hover {\n",
              "        background-color: #E2EBFA;\n",
              "        box-shadow: 0px 1px 2px rgba(60, 64, 67, 0.3), 0px 1px 3px 1px rgba(60, 64, 67, 0.15);\n",
              "        fill: #174EA6;\n",
              "      }\n",
              "\n",
              "      [theme=dark] .colab-df-generate {\n",
              "        background-color: #3B4455;\n",
              "        fill: #D2E3FC;\n",
              "      }\n",
              "\n",
              "      [theme=dark] .colab-df-generate:hover {\n",
              "        background-color: #434B5C;\n",
              "        box-shadow: 0px 1px 3px 1px rgba(0, 0, 0, 0.15);\n",
              "        filter: drop-shadow(0px 1px 2px rgba(0, 0, 0, 0.3));\n",
              "        fill: #FFFFFF;\n",
              "      }\n",
              "    </style>\n",
              "    <button class=\"colab-df-generate\" onclick=\"generateWithVariable('tSNEdf')\"\n",
              "            title=\"Generate code using this dataframe.\"\n",
              "            style=\"display:none;\">\n",
              "\n",
              "  <svg xmlns=\"http://www.w3.org/2000/svg\" height=\"24px\"viewBox=\"0 0 24 24\"\n",
              "       width=\"24px\">\n",
              "    <path d=\"M7,19H8.4L18.45,9,17,7.55,7,17.6ZM5,21V16.75L18.45,3.32a2,2,0,0,1,2.83,0l1.4,1.43a1.91,1.91,0,0,1,.58,1.4,1.91,1.91,0,0,1-.58,1.4L9.25,21ZM18.45,9,17,7.55Zm-12,3A5.31,5.31,0,0,0,4.9,8.1,5.31,5.31,0,0,0,1,6.5,5.31,5.31,0,0,0,4.9,4.9,5.31,5.31,0,0,0,6.5,1,5.31,5.31,0,0,0,8.1,4.9,5.31,5.31,0,0,0,12,6.5,5.46,5.46,0,0,0,6.5,12Z\"/>\n",
              "  </svg>\n",
              "    </button>\n",
              "    <script>\n",
              "      (() => {\n",
              "      const buttonEl =\n",
              "        document.querySelector('#id_1262e3d2-6f62-4519-95cd-9ec0ea79aa12 button.colab-df-generate');\n",
              "      buttonEl.style.display =\n",
              "        google.colab.kernel.accessAllowed ? 'block' : 'none';\n",
              "\n",
              "      buttonEl.onclick = () => {\n",
              "        google.colab.notebook.generateWithVariable('tSNEdf');\n",
              "      }\n",
              "      })();\n",
              "    </script>\n",
              "  </div>\n",
              "\n",
              "    </div>\n",
              "  </div>\n"
            ],
            "application/vnd.google.colaboratory.intrinsic+json": {
              "type": "dataframe",
              "variable_name": "tSNEdf",
              "summary": "{\n  \"name\": \"tSNEdf\",\n  \"rows\": 1570,\n  \"fields\": [\n    {\n      \"column\": \"T-SNE component 1\",\n      \"properties\": {\n        \"dtype\": \"float32\",\n        \"num_unique_values\": 1570,\n        \"samples\": [\n          -27.152048110961914,\n          24.204082489013672,\n          -5.926536560058594\n        ],\n        \"semantic_type\": \"\",\n        \"description\": \"\"\n      }\n    },\n    {\n      \"column\": \"T-SNE component 2\",\n      \"properties\": {\n        \"dtype\": \"float32\",\n        \"num_unique_values\": 1570,\n        \"samples\": [\n          -10.174567222595215,\n          -9.808065414428711,\n          13.616451263427734\n        ],\n        \"semantic_type\": \"\",\n        \"description\": \"\"\n      }\n    },\n    {\n      \"column\": \"Fault\",\n      \"properties\": {\n        \"dtype\": \"category\",\n        \"num_unique_values\": 9,\n        \"samples\": [\n          \"Noise_10_OR021_6_1_239\",\n          \"Noise_10_B014_1_190\",\n          \"Noise_10_OR007_6_1_136\"\n        ],\n        \"semantic_type\": \"\",\n        \"description\": \"\"\n      }\n    }\n  ]\n}"
            }
          },
          "metadata": {},
          "execution_count": 22
        }
      ]
    },
    {
      "cell_type": "markdown",
      "source": [
        "Combined Features"
      ],
      "metadata": {
        "id": "73T5xFDWQmML"
      },
      "id": "73T5xFDWQmML"
    },
    {
      "cell_type": "code",
      "source": [
        "# import pandas as pd\n",
        "\n",
        "# Assuming df1 and df2 are your two dataframes\n",
        "# Concatenate the dataframes vertically\n",
        "Motor_Fault_dataset = pd.concat([tSNE_representation, tSNEdf], axis=1)\n",
        "Motor_Fault_dataset=Motor_Fault_dataset.sort_values(by='Fault')\n",
        "Motor_Fault_dataset\n",
        "\n",
        "import pandas as pd\n",
        "from sklearn.preprocessing import StandardScaler\n",
        "\n",
        "# Assuming df1 and df2 are your two dataframes\n",
        "# Concatenate the dataframes vertically\n",
        "Motor_Fault_dataset = pd.concat([tSNE_representation, tSNEdf], axis=1)\n",
        "\n",
        "# Sort the dataset by 'Fault' column\n",
        "Motor_Fault_dataset = Motor_Fault_dataset.sort_values(by='Fault')\n",
        "Motor_Fault_dataset\n"
      ],
      "metadata": {
        "id": "sEmeYK5c8anK",
        "colab": {
          "base_uri": "https://localhost:8080/",
          "height": 423
        },
        "outputId": "7f1b795d-4896-45d5-9c46-df1bc6a966b5"
      },
      "id": "sEmeYK5c8anK",
      "execution_count": 23,
      "outputs": [
        {
          "output_type": "execute_result",
          "data": {
            "text/plain": [
              "        t-SNE 1    t-SNE 2  T-SNE component 1  T-SNE component 2  \\\n",
              "1200   3.285137   1.813931           1.653811         -24.454935   \n",
              "369   25.043577  -3.167011          -0.121785         -23.243549   \n",
              "1233 -44.856194 -16.266762           5.988234         -29.020876   \n",
              "1237 -31.880297 -22.152498           2.677705         -25.804125   \n",
              "1238 -39.075718 -18.206932           4.853046         -26.940584   \n",
              "...         ...        ...                ...                ...   \n",
              "1002 -36.209179  20.139845         -20.803345         -20.709211   \n",
              "1411  28.653444 -18.437735         -30.574057          -8.060518   \n",
              "995  -33.135365  12.034716         -28.330471         -11.149436   \n",
              "1417  11.357685  22.229994         -24.311157         -13.504642   \n",
              "772  -15.523325  45.005981         -21.357452         -19.517828   \n",
              "\n",
              "                           Fault  \n",
              "1200         Noise_10_B007_1_123  \n",
              "369          Noise_10_B007_1_123  \n",
              "1233         Noise_10_B007_1_123  \n",
              "1237         Noise_10_B007_1_123  \n",
              "1238         Noise_10_B007_1_123  \n",
              "...                          ...  \n",
              "1002  Noise_10_Time_Normal_1_098  \n",
              "1411  Noise_10_Time_Normal_1_098  \n",
              "995   Noise_10_Time_Normal_1_098  \n",
              "1417  Noise_10_Time_Normal_1_098  \n",
              "772   Noise_10_Time_Normal_1_098  \n",
              "\n",
              "[1570 rows x 5 columns]"
            ],
            "text/html": [
              "\n",
              "  <div id=\"df-42f08f83-1c25-4987-a42b-9f00a5a277be\" class=\"colab-df-container\">\n",
              "    <div>\n",
              "<style scoped>\n",
              "    .dataframe tbody tr th:only-of-type {\n",
              "        vertical-align: middle;\n",
              "    }\n",
              "\n",
              "    .dataframe tbody tr th {\n",
              "        vertical-align: top;\n",
              "    }\n",
              "\n",
              "    .dataframe thead th {\n",
              "        text-align: right;\n",
              "    }\n",
              "</style>\n",
              "<table border=\"1\" class=\"dataframe\">\n",
              "  <thead>\n",
              "    <tr style=\"text-align: right;\">\n",
              "      <th></th>\n",
              "      <th>t-SNE 1</th>\n",
              "      <th>t-SNE 2</th>\n",
              "      <th>T-SNE component 1</th>\n",
              "      <th>T-SNE component 2</th>\n",
              "      <th>Fault</th>\n",
              "    </tr>\n",
              "  </thead>\n",
              "  <tbody>\n",
              "    <tr>\n",
              "      <th>1200</th>\n",
              "      <td>3.285137</td>\n",
              "      <td>1.813931</td>\n",
              "      <td>1.653811</td>\n",
              "      <td>-24.454935</td>\n",
              "      <td>Noise_10_B007_1_123</td>\n",
              "    </tr>\n",
              "    <tr>\n",
              "      <th>369</th>\n",
              "      <td>25.043577</td>\n",
              "      <td>-3.167011</td>\n",
              "      <td>-0.121785</td>\n",
              "      <td>-23.243549</td>\n",
              "      <td>Noise_10_B007_1_123</td>\n",
              "    </tr>\n",
              "    <tr>\n",
              "      <th>1233</th>\n",
              "      <td>-44.856194</td>\n",
              "      <td>-16.266762</td>\n",
              "      <td>5.988234</td>\n",
              "      <td>-29.020876</td>\n",
              "      <td>Noise_10_B007_1_123</td>\n",
              "    </tr>\n",
              "    <tr>\n",
              "      <th>1237</th>\n",
              "      <td>-31.880297</td>\n",
              "      <td>-22.152498</td>\n",
              "      <td>2.677705</td>\n",
              "      <td>-25.804125</td>\n",
              "      <td>Noise_10_B007_1_123</td>\n",
              "    </tr>\n",
              "    <tr>\n",
              "      <th>1238</th>\n",
              "      <td>-39.075718</td>\n",
              "      <td>-18.206932</td>\n",
              "      <td>4.853046</td>\n",
              "      <td>-26.940584</td>\n",
              "      <td>Noise_10_B007_1_123</td>\n",
              "    </tr>\n",
              "    <tr>\n",
              "      <th>...</th>\n",
              "      <td>...</td>\n",
              "      <td>...</td>\n",
              "      <td>...</td>\n",
              "      <td>...</td>\n",
              "      <td>...</td>\n",
              "    </tr>\n",
              "    <tr>\n",
              "      <th>1002</th>\n",
              "      <td>-36.209179</td>\n",
              "      <td>20.139845</td>\n",
              "      <td>-20.803345</td>\n",
              "      <td>-20.709211</td>\n",
              "      <td>Noise_10_Time_Normal_1_098</td>\n",
              "    </tr>\n",
              "    <tr>\n",
              "      <th>1411</th>\n",
              "      <td>28.653444</td>\n",
              "      <td>-18.437735</td>\n",
              "      <td>-30.574057</td>\n",
              "      <td>-8.060518</td>\n",
              "      <td>Noise_10_Time_Normal_1_098</td>\n",
              "    </tr>\n",
              "    <tr>\n",
              "      <th>995</th>\n",
              "      <td>-33.135365</td>\n",
              "      <td>12.034716</td>\n",
              "      <td>-28.330471</td>\n",
              "      <td>-11.149436</td>\n",
              "      <td>Noise_10_Time_Normal_1_098</td>\n",
              "    </tr>\n",
              "    <tr>\n",
              "      <th>1417</th>\n",
              "      <td>11.357685</td>\n",
              "      <td>22.229994</td>\n",
              "      <td>-24.311157</td>\n",
              "      <td>-13.504642</td>\n",
              "      <td>Noise_10_Time_Normal_1_098</td>\n",
              "    </tr>\n",
              "    <tr>\n",
              "      <th>772</th>\n",
              "      <td>-15.523325</td>\n",
              "      <td>45.005981</td>\n",
              "      <td>-21.357452</td>\n",
              "      <td>-19.517828</td>\n",
              "      <td>Noise_10_Time_Normal_1_098</td>\n",
              "    </tr>\n",
              "  </tbody>\n",
              "</table>\n",
              "<p>1570 rows × 5 columns</p>\n",
              "</div>\n",
              "    <div class=\"colab-df-buttons\">\n",
              "\n",
              "  <div class=\"colab-df-container\">\n",
              "    <button class=\"colab-df-convert\" onclick=\"convertToInteractive('df-42f08f83-1c25-4987-a42b-9f00a5a277be')\"\n",
              "            title=\"Convert this dataframe to an interactive table.\"\n",
              "            style=\"display:none;\">\n",
              "\n",
              "  <svg xmlns=\"http://www.w3.org/2000/svg\" height=\"24px\" viewBox=\"0 -960 960 960\">\n",
              "    <path d=\"M120-120v-720h720v720H120Zm60-500h600v-160H180v160Zm220 220h160v-160H400v160Zm0 220h160v-160H400v160ZM180-400h160v-160H180v160Zm440 0h160v-160H620v160ZM180-180h160v-160H180v160Zm440 0h160v-160H620v160Z\"/>\n",
              "  </svg>\n",
              "    </button>\n",
              "\n",
              "  <style>\n",
              "    .colab-df-container {\n",
              "      display:flex;\n",
              "      gap: 12px;\n",
              "    }\n",
              "\n",
              "    .colab-df-convert {\n",
              "      background-color: #E8F0FE;\n",
              "      border: none;\n",
              "      border-radius: 50%;\n",
              "      cursor: pointer;\n",
              "      display: none;\n",
              "      fill: #1967D2;\n",
              "      height: 32px;\n",
              "      padding: 0 0 0 0;\n",
              "      width: 32px;\n",
              "    }\n",
              "\n",
              "    .colab-df-convert:hover {\n",
              "      background-color: #E2EBFA;\n",
              "      box-shadow: 0px 1px 2px rgba(60, 64, 67, 0.3), 0px 1px 3px 1px rgba(60, 64, 67, 0.15);\n",
              "      fill: #174EA6;\n",
              "    }\n",
              "\n",
              "    .colab-df-buttons div {\n",
              "      margin-bottom: 4px;\n",
              "    }\n",
              "\n",
              "    [theme=dark] .colab-df-convert {\n",
              "      background-color: #3B4455;\n",
              "      fill: #D2E3FC;\n",
              "    }\n",
              "\n",
              "    [theme=dark] .colab-df-convert:hover {\n",
              "      background-color: #434B5C;\n",
              "      box-shadow: 0px 1px 3px 1px rgba(0, 0, 0, 0.15);\n",
              "      filter: drop-shadow(0px 1px 2px rgba(0, 0, 0, 0.3));\n",
              "      fill: #FFFFFF;\n",
              "    }\n",
              "  </style>\n",
              "\n",
              "    <script>\n",
              "      const buttonEl =\n",
              "        document.querySelector('#df-42f08f83-1c25-4987-a42b-9f00a5a277be button.colab-df-convert');\n",
              "      buttonEl.style.display =\n",
              "        google.colab.kernel.accessAllowed ? 'block' : 'none';\n",
              "\n",
              "      async function convertToInteractive(key) {\n",
              "        const element = document.querySelector('#df-42f08f83-1c25-4987-a42b-9f00a5a277be');\n",
              "        const dataTable =\n",
              "          await google.colab.kernel.invokeFunction('convertToInteractive',\n",
              "                                                    [key], {});\n",
              "        if (!dataTable) return;\n",
              "\n",
              "        const docLinkHtml = 'Like what you see? Visit the ' +\n",
              "          '<a target=\"_blank\" href=https://colab.research.google.com/notebooks/data_table.ipynb>data table notebook</a>'\n",
              "          + ' to learn more about interactive tables.';\n",
              "        element.innerHTML = '';\n",
              "        dataTable['output_type'] = 'display_data';\n",
              "        await google.colab.output.renderOutput(dataTable, element);\n",
              "        const docLink = document.createElement('div');\n",
              "        docLink.innerHTML = docLinkHtml;\n",
              "        element.appendChild(docLink);\n",
              "      }\n",
              "    </script>\n",
              "  </div>\n",
              "\n",
              "\n",
              "    <div id=\"df-6242d12b-68f8-4ab4-b9ba-290c384a41c5\">\n",
              "      <button class=\"colab-df-quickchart\" onclick=\"quickchart('df-6242d12b-68f8-4ab4-b9ba-290c384a41c5')\"\n",
              "                title=\"Suggest charts\"\n",
              "                style=\"display:none;\">\n",
              "\n",
              "<svg xmlns=\"http://www.w3.org/2000/svg\" height=\"24px\"viewBox=\"0 0 24 24\"\n",
              "     width=\"24px\">\n",
              "    <g>\n",
              "        <path d=\"M19 3H5c-1.1 0-2 .9-2 2v14c0 1.1.9 2 2 2h14c1.1 0 2-.9 2-2V5c0-1.1-.9-2-2-2zM9 17H7v-7h2v7zm4 0h-2V7h2v10zm4 0h-2v-4h2v4z\"/>\n",
              "    </g>\n",
              "</svg>\n",
              "      </button>\n",
              "\n",
              "<style>\n",
              "  .colab-df-quickchart {\n",
              "      --bg-color: #E8F0FE;\n",
              "      --fill-color: #1967D2;\n",
              "      --hover-bg-color: #E2EBFA;\n",
              "      --hover-fill-color: #174EA6;\n",
              "      --disabled-fill-color: #AAA;\n",
              "      --disabled-bg-color: #DDD;\n",
              "  }\n",
              "\n",
              "  [theme=dark] .colab-df-quickchart {\n",
              "      --bg-color: #3B4455;\n",
              "      --fill-color: #D2E3FC;\n",
              "      --hover-bg-color: #434B5C;\n",
              "      --hover-fill-color: #FFFFFF;\n",
              "      --disabled-bg-color: #3B4455;\n",
              "      --disabled-fill-color: #666;\n",
              "  }\n",
              "\n",
              "  .colab-df-quickchart {\n",
              "    background-color: var(--bg-color);\n",
              "    border: none;\n",
              "    border-radius: 50%;\n",
              "    cursor: pointer;\n",
              "    display: none;\n",
              "    fill: var(--fill-color);\n",
              "    height: 32px;\n",
              "    padding: 0;\n",
              "    width: 32px;\n",
              "  }\n",
              "\n",
              "  .colab-df-quickchart:hover {\n",
              "    background-color: var(--hover-bg-color);\n",
              "    box-shadow: 0 1px 2px rgba(60, 64, 67, 0.3), 0 1px 3px 1px rgba(60, 64, 67, 0.15);\n",
              "    fill: var(--button-hover-fill-color);\n",
              "  }\n",
              "\n",
              "  .colab-df-quickchart-complete:disabled,\n",
              "  .colab-df-quickchart-complete:disabled:hover {\n",
              "    background-color: var(--disabled-bg-color);\n",
              "    fill: var(--disabled-fill-color);\n",
              "    box-shadow: none;\n",
              "  }\n",
              "\n",
              "  .colab-df-spinner {\n",
              "    border: 2px solid var(--fill-color);\n",
              "    border-color: transparent;\n",
              "    border-bottom-color: var(--fill-color);\n",
              "    animation:\n",
              "      spin 1s steps(1) infinite;\n",
              "  }\n",
              "\n",
              "  @keyframes spin {\n",
              "    0% {\n",
              "      border-color: transparent;\n",
              "      border-bottom-color: var(--fill-color);\n",
              "      border-left-color: var(--fill-color);\n",
              "    }\n",
              "    20% {\n",
              "      border-color: transparent;\n",
              "      border-left-color: var(--fill-color);\n",
              "      border-top-color: var(--fill-color);\n",
              "    }\n",
              "    30% {\n",
              "      border-color: transparent;\n",
              "      border-left-color: var(--fill-color);\n",
              "      border-top-color: var(--fill-color);\n",
              "      border-right-color: var(--fill-color);\n",
              "    }\n",
              "    40% {\n",
              "      border-color: transparent;\n",
              "      border-right-color: var(--fill-color);\n",
              "      border-top-color: var(--fill-color);\n",
              "    }\n",
              "    60% {\n",
              "      border-color: transparent;\n",
              "      border-right-color: var(--fill-color);\n",
              "    }\n",
              "    80% {\n",
              "      border-color: transparent;\n",
              "      border-right-color: var(--fill-color);\n",
              "      border-bottom-color: var(--fill-color);\n",
              "    }\n",
              "    90% {\n",
              "      border-color: transparent;\n",
              "      border-bottom-color: var(--fill-color);\n",
              "    }\n",
              "  }\n",
              "</style>\n",
              "\n",
              "      <script>\n",
              "        async function quickchart(key) {\n",
              "          const quickchartButtonEl =\n",
              "            document.querySelector('#' + key + ' button');\n",
              "          quickchartButtonEl.disabled = true;  // To prevent multiple clicks.\n",
              "          quickchartButtonEl.classList.add('colab-df-spinner');\n",
              "          try {\n",
              "            const charts = await google.colab.kernel.invokeFunction(\n",
              "                'suggestCharts', [key], {});\n",
              "          } catch (error) {\n",
              "            console.error('Error during call to suggestCharts:', error);\n",
              "          }\n",
              "          quickchartButtonEl.classList.remove('colab-df-spinner');\n",
              "          quickchartButtonEl.classList.add('colab-df-quickchart-complete');\n",
              "        }\n",
              "        (() => {\n",
              "          let quickchartButtonEl =\n",
              "            document.querySelector('#df-6242d12b-68f8-4ab4-b9ba-290c384a41c5 button');\n",
              "          quickchartButtonEl.style.display =\n",
              "            google.colab.kernel.accessAllowed ? 'block' : 'none';\n",
              "        })();\n",
              "      </script>\n",
              "    </div>\n",
              "\n",
              "  <div id=\"id_9b51856c-51eb-4aea-abe2-b504d186c27c\">\n",
              "    <style>\n",
              "      .colab-df-generate {\n",
              "        background-color: #E8F0FE;\n",
              "        border: none;\n",
              "        border-radius: 50%;\n",
              "        cursor: pointer;\n",
              "        display: none;\n",
              "        fill: #1967D2;\n",
              "        height: 32px;\n",
              "        padding: 0 0 0 0;\n",
              "        width: 32px;\n",
              "      }\n",
              "\n",
              "      .colab-df-generate:hover {\n",
              "        background-color: #E2EBFA;\n",
              "        box-shadow: 0px 1px 2px rgba(60, 64, 67, 0.3), 0px 1px 3px 1px rgba(60, 64, 67, 0.15);\n",
              "        fill: #174EA6;\n",
              "      }\n",
              "\n",
              "      [theme=dark] .colab-df-generate {\n",
              "        background-color: #3B4455;\n",
              "        fill: #D2E3FC;\n",
              "      }\n",
              "\n",
              "      [theme=dark] .colab-df-generate:hover {\n",
              "        background-color: #434B5C;\n",
              "        box-shadow: 0px 1px 3px 1px rgba(0, 0, 0, 0.15);\n",
              "        filter: drop-shadow(0px 1px 2px rgba(0, 0, 0, 0.3));\n",
              "        fill: #FFFFFF;\n",
              "      }\n",
              "    </style>\n",
              "    <button class=\"colab-df-generate\" onclick=\"generateWithVariable('Motor_Fault_dataset')\"\n",
              "            title=\"Generate code using this dataframe.\"\n",
              "            style=\"display:none;\">\n",
              "\n",
              "  <svg xmlns=\"http://www.w3.org/2000/svg\" height=\"24px\"viewBox=\"0 0 24 24\"\n",
              "       width=\"24px\">\n",
              "    <path d=\"M7,19H8.4L18.45,9,17,7.55,7,17.6ZM5,21V16.75L18.45,3.32a2,2,0,0,1,2.83,0l1.4,1.43a1.91,1.91,0,0,1,.58,1.4,1.91,1.91,0,0,1-.58,1.4L9.25,21ZM18.45,9,17,7.55Zm-12,3A5.31,5.31,0,0,0,4.9,8.1,5.31,5.31,0,0,0,1,6.5,5.31,5.31,0,0,0,4.9,4.9,5.31,5.31,0,0,0,6.5,1,5.31,5.31,0,0,0,8.1,4.9,5.31,5.31,0,0,0,12,6.5,5.46,5.46,0,0,0,6.5,12Z\"/>\n",
              "  </svg>\n",
              "    </button>\n",
              "    <script>\n",
              "      (() => {\n",
              "      const buttonEl =\n",
              "        document.querySelector('#id_9b51856c-51eb-4aea-abe2-b504d186c27c button.colab-df-generate');\n",
              "      buttonEl.style.display =\n",
              "        google.colab.kernel.accessAllowed ? 'block' : 'none';\n",
              "\n",
              "      buttonEl.onclick = () => {\n",
              "        google.colab.notebook.generateWithVariable('Motor_Fault_dataset');\n",
              "      }\n",
              "      })();\n",
              "    </script>\n",
              "  </div>\n",
              "\n",
              "    </div>\n",
              "  </div>\n"
            ],
            "application/vnd.google.colaboratory.intrinsic+json": {
              "type": "dataframe",
              "variable_name": "Motor_Fault_dataset",
              "summary": "{\n  \"name\": \"Motor_Fault_dataset\",\n  \"rows\": 1570,\n  \"fields\": [\n    {\n      \"column\": \"t-SNE 1\",\n      \"properties\": {\n        \"dtype\": \"float32\",\n        \"num_unique_values\": 1569,\n        \"samples\": [\n          -13.07715129852295,\n          -5.267764568328857,\n          25.367704391479492\n        ],\n        \"semantic_type\": \"\",\n        \"description\": \"\"\n      }\n    },\n    {\n      \"column\": \"t-SNE 2\",\n      \"properties\": {\n        \"dtype\": \"float32\",\n        \"num_unique_values\": 1569,\n        \"samples\": [\n          48.68384552001953,\n          41.77923583984375,\n          14.073369026184082\n        ],\n        \"semantic_type\": \"\",\n        \"description\": \"\"\n      }\n    },\n    {\n      \"column\": \"T-SNE component 1\",\n      \"properties\": {\n        \"dtype\": \"float32\",\n        \"num_unique_values\": 1570,\n        \"samples\": [\n          -27.152048110961914,\n          24.204082489013672,\n          -5.926536560058594\n        ],\n        \"semantic_type\": \"\",\n        \"description\": \"\"\n      }\n    },\n    {\n      \"column\": \"T-SNE component 2\",\n      \"properties\": {\n        \"dtype\": \"float32\",\n        \"num_unique_values\": 1570,\n        \"samples\": [\n          -10.174567222595215,\n          -9.808065414428711,\n          13.616451263427734\n        ],\n        \"semantic_type\": \"\",\n        \"description\": \"\"\n      }\n    },\n    {\n      \"column\": \"Fault\",\n      \"properties\": {\n        \"dtype\": \"category\",\n        \"num_unique_values\": 9,\n        \"samples\": [\n          \"Noise_10_OR021_6_1_239\",\n          \"Noise_10_B014_1_190\",\n          \"Noise_10_OR007_6_1_136\"\n        ],\n        \"semantic_type\": \"\",\n        \"description\": \"\"\n      }\n    }\n  ]\n}"
            }
          },
          "metadata": {},
          "execution_count": 23
        }
      ]
    },
    {
      "cell_type": "code",
      "source": [
        "#Classification Report for MKDCNN"
      ],
      "metadata": {
        "id": "zC_6vMBPsOs_"
      },
      "id": "zC_6vMBPsOs_",
      "execution_count": 24,
      "outputs": []
    },
    {
      "cell_type": "code",
      "source": [],
      "metadata": {
        "id": "b77LcDP9sPR2"
      },
      "id": "b77LcDP9sPR2",
      "execution_count": 24,
      "outputs": []
    },
    {
      "cell_type": "markdown",
      "source": [
        "HSPSO-CatBoost\n"
      ],
      "metadata": {
        "id": "wZFQ37UCYN1p"
      },
      "id": "wZFQ37UCYN1p"
    },
    {
      "cell_type": "code",
      "source": [
        "X = Motor_Fault_dataset.iloc[:, 0:4].values\n",
        "y = Motor_Fault_dataset.iloc[:, 4].values"
      ],
      "metadata": {
        "id": "f_P8BWzmYTg0"
      },
      "id": "f_P8BWzmYTg0",
      "execution_count": 25,
      "outputs": []
    },
    {
      "cell_type": "code",
      "source": [
        "# Splitting the dataset into the Training set and Test set\n",
        "from sklearn.model_selection import train_test_split\n",
        "X_train, X_test, y_train, y_test = train_test_split(X, y, test_size = 0.2)"
      ],
      "metadata": {
        "id": "vLMueEZ6YfvA"
      },
      "id": "vLMueEZ6YfvA",
      "execution_count": 26,
      "outputs": []
    },
    {
      "cell_type": "code",
      "source": [
        "pip install hyperactive"
      ],
      "metadata": {
        "id": "nsTDebhD9iQw",
        "colab": {
          "base_uri": "https://localhost:8080/"
        },
        "outputId": "fdd0b3cc-47de-400e-c16e-cc84b8177fdd"
      },
      "id": "nsTDebhD9iQw",
      "execution_count": 27,
      "outputs": [
        {
          "output_type": "stream",
          "name": "stdout",
          "text": [
            "Collecting hyperactive\n",
            "  Downloading hyperactive-4.8.0-py3-none-any.whl.metadata (42 kB)\n",
            "\u001b[?25l     \u001b[90m━━━━━━━━━━━━━━━━━━━━━━━━━━━━━━━━━━━━━━━━\u001b[0m \u001b[32m0.0/42.8 kB\u001b[0m \u001b[31m?\u001b[0m eta \u001b[36m-:--:--\u001b[0m\r\u001b[2K     \u001b[90m━━━━━━━━━━━━━━━━━━━━━━━━━━━━━━━━━━━━━━━━\u001b[0m \u001b[32m42.8/42.8 kB\u001b[0m \u001b[31m3.7 MB/s\u001b[0m eta \u001b[36m0:00:00\u001b[0m\n",
            "\u001b[?25hRequirement already satisfied: numpy<3.0.0,>=1.18.1 in /usr/local/lib/python3.11/dist-packages (from hyperactive) (2.0.2)\n",
            "Requirement already satisfied: tqdm<5.0.0,>=4.48.0 in /usr/local/lib/python3.11/dist-packages (from hyperactive) (4.67.1)\n",
            "Requirement already satisfied: pandas<3.0.0 in /usr/local/lib/python3.11/dist-packages (from hyperactive) (2.2.2)\n",
            "Collecting gradient-free-optimizers<2.0.0,>=1.2.4 (from hyperactive)\n",
            "  Downloading gradient_free_optimizers-1.7.1-py3-none-any.whl.metadata (31 kB)\n",
            "Requirement already satisfied: scipy<2.0.0 in /usr/local/lib/python3.11/dist-packages (from gradient-free-optimizers<2.0.0,>=1.2.4->hyperactive) (1.15.3)\n",
            "Requirement already satisfied: scikit-learn!=0.23.*,>=0.21 in /usr/local/lib/python3.11/dist-packages (from gradient-free-optimizers<2.0.0,>=1.2.4->hyperactive) (1.6.1)\n",
            "Requirement already satisfied: python-dateutil>=2.8.2 in /usr/local/lib/python3.11/dist-packages (from pandas<3.0.0->hyperactive) (2.9.0.post0)\n",
            "Requirement already satisfied: pytz>=2020.1 in /usr/local/lib/python3.11/dist-packages (from pandas<3.0.0->hyperactive) (2025.2)\n",
            "Requirement already satisfied: tzdata>=2022.7 in /usr/local/lib/python3.11/dist-packages (from pandas<3.0.0->hyperactive) (2025.2)\n",
            "Requirement already satisfied: six>=1.5 in /usr/local/lib/python3.11/dist-packages (from python-dateutil>=2.8.2->pandas<3.0.0->hyperactive) (1.17.0)\n",
            "Requirement already satisfied: joblib>=1.2.0 in /usr/local/lib/python3.11/dist-packages (from scikit-learn!=0.23.*,>=0.21->gradient-free-optimizers<2.0.0,>=1.2.4->hyperactive) (1.5.1)\n",
            "Requirement already satisfied: threadpoolctl>=3.1.0 in /usr/local/lib/python3.11/dist-packages (from scikit-learn!=0.23.*,>=0.21->gradient-free-optimizers<2.0.0,>=1.2.4->hyperactive) (3.6.0)\n",
            "Downloading hyperactive-4.8.0-py3-none-any.whl (30 kB)\n",
            "Downloading gradient_free_optimizers-1.7.1-py3-none-any.whl (95 kB)\n",
            "\u001b[2K   \u001b[90m━━━━━━━━━━━━━━━━━━━━━━━━━━━━━━━━━━━━━━━━\u001b[0m \u001b[32m95.8/95.8 kB\u001b[0m \u001b[31m9.6 MB/s\u001b[0m eta \u001b[36m0:00:00\u001b[0m\n",
            "\u001b[?25hInstalling collected packages: gradient-free-optimizers, hyperactive\n",
            "Successfully installed gradient-free-optimizers-1.7.1 hyperactive-4.8.0\n"
          ]
        }
      ]
    },
    {
      "cell_type": "code",
      "source": [
        "pip install catboost"
      ],
      "metadata": {
        "id": "UTH39uc29p_Q",
        "colab": {
          "base_uri": "https://localhost:8080/"
        },
        "outputId": "8e1c2bf5-c775-4bdf-c82f-4c8e169bfa3b"
      },
      "id": "UTH39uc29p_Q",
      "execution_count": 28,
      "outputs": [
        {
          "output_type": "stream",
          "name": "stdout",
          "text": [
            "Collecting catboost\n",
            "  Downloading catboost-1.2.8-cp311-cp311-manylinux2014_x86_64.whl.metadata (1.2 kB)\n",
            "Requirement already satisfied: graphviz in /usr/local/lib/python3.11/dist-packages (from catboost) (0.20.3)\n",
            "Requirement already satisfied: matplotlib in /usr/local/lib/python3.11/dist-packages (from catboost) (3.10.0)\n",
            "Requirement already satisfied: numpy<3.0,>=1.16.0 in /usr/local/lib/python3.11/dist-packages (from catboost) (2.0.2)\n",
            "Requirement already satisfied: pandas>=0.24 in /usr/local/lib/python3.11/dist-packages (from catboost) (2.2.2)\n",
            "Requirement already satisfied: scipy in /usr/local/lib/python3.11/dist-packages (from catboost) (1.15.3)\n",
            "Requirement already satisfied: plotly in /usr/local/lib/python3.11/dist-packages (from catboost) (5.24.1)\n",
            "Requirement already satisfied: six in /usr/local/lib/python3.11/dist-packages (from catboost) (1.17.0)\n",
            "Requirement already satisfied: python-dateutil>=2.8.2 in /usr/local/lib/python3.11/dist-packages (from pandas>=0.24->catboost) (2.9.0.post0)\n",
            "Requirement already satisfied: pytz>=2020.1 in /usr/local/lib/python3.11/dist-packages (from pandas>=0.24->catboost) (2025.2)\n",
            "Requirement already satisfied: tzdata>=2022.7 in /usr/local/lib/python3.11/dist-packages (from pandas>=0.24->catboost) (2025.2)\n",
            "Requirement already satisfied: contourpy>=1.0.1 in /usr/local/lib/python3.11/dist-packages (from matplotlib->catboost) (1.3.2)\n",
            "Requirement already satisfied: cycler>=0.10 in /usr/local/lib/python3.11/dist-packages (from matplotlib->catboost) (0.12.1)\n",
            "Requirement already satisfied: fonttools>=4.22.0 in /usr/local/lib/python3.11/dist-packages (from matplotlib->catboost) (4.58.1)\n",
            "Requirement already satisfied: kiwisolver>=1.3.1 in /usr/local/lib/python3.11/dist-packages (from matplotlib->catboost) (1.4.8)\n",
            "Requirement already satisfied: packaging>=20.0 in /usr/local/lib/python3.11/dist-packages (from matplotlib->catboost) (24.2)\n",
            "Requirement already satisfied: pillow>=8 in /usr/local/lib/python3.11/dist-packages (from matplotlib->catboost) (11.2.1)\n",
            "Requirement already satisfied: pyparsing>=2.3.1 in /usr/local/lib/python3.11/dist-packages (from matplotlib->catboost) (3.2.3)\n",
            "Requirement already satisfied: tenacity>=6.2.0 in /usr/local/lib/python3.11/dist-packages (from plotly->catboost) (9.1.2)\n",
            "Downloading catboost-1.2.8-cp311-cp311-manylinux2014_x86_64.whl (99.2 MB)\n",
            "\u001b[2K   \u001b[90m━━━━━━━━━━━━━━━━━━━━━━━━━━━━━━━━━━━━━━━━\u001b[0m \u001b[32m99.2/99.2 MB\u001b[0m \u001b[31m7.1 MB/s\u001b[0m eta \u001b[36m0:00:00\u001b[0m\n",
            "\u001b[?25hInstalling collected packages: catboost\n",
            "Successfully installed catboost-1.2.8\n"
          ]
        }
      ]
    },
    {
      "cell_type": "markdown",
      "source": [
        "Deployment:"
      ],
      "metadata": {
        "id": "Ul9AHZU5uIcP"
      },
      "id": "Ul9AHZU5uIcP"
    },
    {
      "cell_type": "code",
      "source": [
        "import numpy as np\n",
        "import pandas as pd\n",
        "from datetime import datetime\n",
        "from sklearn.model_selection import cross_val_score\n",
        "from catboost import CatBoostClassifier, Pool\n",
        "from hyperactive import Hyperactive\n",
        "from hyperactive.optimizers import ParticleSwarmOptimizer\n",
        "from sklearn.metrics import classification_report, confusion_matrix\n",
        "import matplotlib.pyplot as plt\n",
        "import seaborn as sns\n",
        "\n",
        "# === DATA: Replace X_train, X_test, y_train, y_test with your actual data ===\n",
        "# Example:\n",
        "# X_train, X_test, y_train, y_test = train_test_split(...)\n",
        "\n",
        "X, y = X_train, y_train\n",
        "\n",
        "# === Objective Function ===\n",
        "def model(opt):\n",
        "    CatBoost = CatBoostClassifier(\n",
        "        iterations=opt[\"iterations\"],\n",
        "        depth=opt[\"depth\"],\n",
        "        learning_rate=opt[\"learning_rate\"],\n",
        "        l2_leaf_reg=opt[\"l2_leaf_reg\"],\n",
        "        bagging_temperature=opt[\"bagging_temperature\"],\n",
        "        random_strength=opt[\"random_strength\"],\n",
        "        verbose=False\n",
        "    )\n",
        "    scores = cross_val_score(CatBoost, X, y, cv=4)\n",
        "    return scores.mean()\n",
        "\n",
        "# === Search Space ===\n",
        "search_space = {\n",
        "    \"iterations\": list(range(50, 501, 50)),\n",
        "    \"depth\": list(range(1, 11)),\n",
        "    \"learning_rate\": [0.01, 0.05, 0.1],\n",
        "    \"l2_leaf_reg\": [1, 3, 5],\n",
        "    \"bagging_temperature\": [0.5, 1, 1.5],\n",
        "    \"random_strength\": [0.5, 1, 1.5],\n",
        "}\n",
        "\n",
        "# === Cauchy Mutation ===\n",
        "def cauchy_mutation(particle, gamma=0.3):\n",
        "    for key in particle:\n",
        "        if isinstance(particle[key], (int, float)):\n",
        "            particle[key] = particle[key] * (1 + gamma * np.tan(np.pi * (np.random.rand() - 0.5)))\n",
        "            particle[key] = np.clip(particle[key], min(search_space[key]), max(search_space[key]))\n",
        "            if isinstance(search_space[key][0], int):\n",
        "                particle[key] = int(round(particle[key]))\n",
        "    return particle\n",
        "\n",
        "# === HSPSO Optimizer Class ===\n",
        "class HybridStrategyPSO(ParticleSwarmOptimizer):\n",
        "    def __init__(self, n_part=20, max_iter=40, **kwargs):\n",
        "        super().__init__(**kwargs)\n",
        "        self.switch_threshold = 10\n",
        "        self.iteration = 0\n",
        "        self.topology = \"gbest\"\n",
        "        self.n_part = n_part\n",
        "        self.max_iter = max_iter\n",
        "\n",
        "        # Adaptive Inertia Parameters\n",
        "        self.H = 1\n",
        "        self.w_min = 0.4\n",
        "        self.w_max = 0.9\n",
        "        self.b = 0.9\n",
        "        self.scaling_factor = 0.5\n",
        "\n",
        "    def on_iteration(self, swarm, scores):\n",
        "        self.iteration += 1\n",
        "\n",
        "        # === Topology Switching ===\n",
        "        if self.iteration % self.switch_threshold == 0:\n",
        "            self.topology = \"lbest\" if self.topology == \"gbest\" else \"gbest\"\n",
        "            self.set_topology(self.topology)\n",
        "\n",
        "        # === Clone Best Particles ===\n",
        "        best_indices = np.argsort(scores)[:max(1, len(swarm) // 5)]\n",
        "        for idx in best_indices:\n",
        "            particle = swarm[idx].copy()\n",
        "            swarm.append(particle)\n",
        "            scores.append(scores[idx])\n",
        "\n",
        "        # === Prune Worst Particles ===\n",
        "        if len(swarm) > 2 * self.n_part:\n",
        "            worst_indices = np.argsort(scores)[-len(swarm)//4:]\n",
        "            for i in reversed(worst_indices):\n",
        "                del swarm[i]\n",
        "                del scores[i]\n",
        "\n",
        "        # === Nonlinear Adaptive Inertia ===\n",
        "        numerator = (self.w_max - self.w_min) * self.iteration\n",
        "        denominator = 1 + np.exp(-10 * self.b * ((2 * self.iteration) / (self.H * self.max_iter) - 1))\n",
        "        self.inertia = self.w_max - numerator / denominator\n",
        "\n",
        "        # === Cauchy Mutation ===\n",
        "        for i in range(len(swarm)):\n",
        "            if np.random.rand() < 0.2:\n",
        "                swarm[i] = cauchy_mutation(swarm[i])\n",
        "\n",
        "        # === Hook-Jeeves Local Search (simplified) ===\n",
        "        top_ids = np.argsort(scores)[:2]\n",
        "        for i in top_ids:\n",
        "            particle = swarm[i]\n",
        "            for key in particle:\n",
        "                if isinstance(particle[key], (int, float)):\n",
        "                    for delta in [-0.01, 0.01] if isinstance(particle[key], float) else [-1, 1]:\n",
        "                        trial = particle.copy()\n",
        "                        trial[key] = trial[key] + delta\n",
        "                        trial[key] = np.clip(trial[key], min(search_space[key]), max(search_space[key]))\n",
        "                        if isinstance(search_space[key][0], int):\n",
        "                            trial[key] = int(round(trial[key]))\n",
        "                        trial_score = model(trial)\n",
        "                        if trial_score > scores[i]:\n",
        "                            swarm[i] = trial\n",
        "                            scores[i] = trial_score\n",
        "\n",
        "        # === Random Restart ===\n",
        "        if np.random.rand() < 0.1:\n",
        "            random_idx = np.random.choice(len(swarm))\n",
        "            for key in swarm[random_idx]:\n",
        "                if isinstance(swarm[random_idx][key], (int, float)):\n",
        "                    swarm[random_idx][key] = np.random.choice(search_space[key])\n",
        "\n",
        "# === Run HSPSO Hyperparameter Tuning ===\n",
        "start_time = datetime.now()\n",
        "\n",
        "hyper = Hyperactive()\n",
        "\n",
        "optimizer = HybridStrategyPSO(\n",
        "    n_part=20,\n",
        "    max_iter=40,\n",
        "    inertia=0.5,\n",
        "    cognitive_weight=0.9,\n",
        "    social_weight=0.5,\n",
        "    temp_weight=0.4,\n",
        "    rand_rest_p=0.05,\n",
        ")\n",
        "\n",
        "hyper.add_search(model, search_space, optimizer=optimizer, n_iter=40)\n",
        "hyper.run()\n",
        "\n",
        "end_time = datetime.now()\n",
        "print('Tuning Duration:', end_time - start_time)\n",
        "\n",
        "# === Best Parameters ===\n",
        "best_params = hyper.best_para(model)\n",
        "print(\"Best Parameters:\", best_params)\n",
        "\n",
        "# === Train Final Model with Best Parameters ===\n",
        "train_pool = Pool(data=X_train, label=y_train)\n",
        "test_pool = Pool(data=X_test, label=y_test)\n",
        "\n",
        "final_model = CatBoostClassifier(\n",
        "    depth=best_params[\"depth\"],\n",
        "    iterations=best_params[\"iterations\"],\n",
        "    learning_rate=best_params[\"learning_rate\"],\n",
        "    l2_leaf_reg=best_params[\"l2_leaf_reg\"],\n",
        "    bagging_temperature=best_params[\"bagging_temperature\"],\n",
        "    random_strength=best_params[\"random_strength\"],\n",
        "    verbose=10\n",
        ")\n",
        "\n",
        "final_model.fit(\n",
        "    train_pool,\n",
        "    eval_set=test_pool,\n",
        "    verbose=best_params[\"iterations\"] // 10,\n",
        "    plot=True\n",
        ")\n"
      ],
      "metadata": {
        "id": "jQr38vF8A9_i",
        "colab": {
          "base_uri": "https://localhost:8080/",
          "height": 711,
          "referenced_widgets": [
            "2d2e9cb36af24663b4c374f850db1e54"
          ]
        },
        "outputId": "9378b05a-e4e4-4a9c-85c5-047b9ab11673"
      },
      "id": "jQr38vF8A9_i",
      "execution_count": 29,
      "outputs": [
        {
          "output_type": "stream",
          "name": "stderr",
          "text": [
            "[0] model (Particle Swarm Optimization): 100%|\u001b[32m──────────\u001b[0m| 40/40 [13:09<00:00, 19.74s/it, best_iter=0, best_pos=None, best_score=-inf]"
          ]
        },
        {
          "output_type": "stream",
          "name": "stdout",
          "text": [
            "\n",
            "\n",
            "Results: 'model'  \n",
            "   Best score: 1.0  \n",
            "   Best parameter set:\n",
            "      'iterations'          : 400.0  \n",
            "      'depth'               : 5.0  \n",
            "      'learning_rate'       : 0.1  \n",
            "      'l2_leaf_reg'         : 3.0  \n",
            "      'bagging_temperature' : 1.0  \n",
            "      'random_strength'     : 0.5  \n",
            "   Best iteration: 0  \n",
            " \n",
            "   Random seed: 470709118  \n",
            " \n",
            "   Evaluation time   : 789.2813699245453 sec    [100.0 %]\n",
            "   Optimization time : 0.013384819030761719 sec    [0.0 %]\n",
            "   Iteration time    : 789.294754743576 sec    [19.73 sec/iter]\n",
            " \n",
            "Tuning Duration: 0:13:09.649397\n",
            "Best Parameters: {'iterations': 400, 'depth': 5, 'learning_rate': 0.1, 'l2_leaf_reg': 3, 'bagging_temperature': 1, 'random_strength': 0.5}\n"
          ]
        },
        {
          "output_type": "stream",
          "name": "stderr",
          "text": [
            "\n"
          ]
        },
        {
          "output_type": "display_data",
          "data": {
            "text/plain": [
              "MetricVisualizer(layout=Layout(align_self='stretch', height='500px'))"
            ],
            "application/vnd.jupyter.widget-view+json": {
              "version_major": 2,
              "version_minor": 0,
              "model_id": "2d2e9cb36af24663b4c374f850db1e54"
            }
          },
          "metadata": {}
        },
        {
          "output_type": "stream",
          "name": "stdout",
          "text": [
            "0:\tlearn: 1.6943688\ttest: 1.6925194\tbest: 1.6925194 (0)\ttotal: 9.7ms\tremaining: 3.87s\n",
            "40:\tlearn: 0.0512966\ttest: 0.0479933\tbest: 0.0479933 (40)\ttotal: 349ms\tremaining: 3.05s\n",
            "80:\tlearn: 0.0128899\ttest: 0.0121452\tbest: 0.0121452 (80)\ttotal: 736ms\tremaining: 2.9s\n",
            "120:\tlearn: 0.0066055\ttest: 0.0062350\tbest: 0.0062350 (120)\ttotal: 1.11s\tremaining: 2.57s\n",
            "160:\tlearn: 0.0044702\ttest: 0.0042671\tbest: 0.0042671 (160)\ttotal: 1.47s\tremaining: 2.18s\n",
            "200:\tlearn: 0.0033824\ttest: 0.0032562\tbest: 0.0032562 (200)\ttotal: 1.88s\tremaining: 1.86s\n",
            "240:\tlearn: 0.0028072\ttest: 0.0027130\tbest: 0.0027130 (240)\ttotal: 2.27s\tremaining: 1.5s\n",
            "280:\tlearn: 0.0023612\ttest: 0.0022964\tbest: 0.0022964 (280)\ttotal: 2.63s\tremaining: 1.11s\n",
            "320:\tlearn: 0.0020851\ttest: 0.0020358\tbest: 0.0020358 (320)\ttotal: 3.03s\tremaining: 745ms\n",
            "360:\tlearn: 0.0018802\ttest: 0.0018355\tbest: 0.0018355 (360)\ttotal: 3.37s\tremaining: 364ms\n",
            "399:\tlearn: 0.0016776\ttest: 0.0016431\tbest: 0.0016431 (399)\ttotal: 3.52s\tremaining: 0us\n",
            "\n",
            "bestTest = 0.001643081475\n",
            "bestIteration = 399\n",
            "\n"
          ]
        },
        {
          "output_type": "execute_result",
          "data": {
            "text/plain": [
              "<catboost.core.CatBoostClassifier at 0x7d64601ccf10>"
            ]
          },
          "metadata": {},
          "execution_count": 29
        }
      ]
    },
    {
      "cell_type": "code",
      "source": [
        "hyper.add_search(model, search_space, optimizer=optimizer, n_iter=40, initialize={\"random\": 20})\n"
      ],
      "metadata": {
        "id": "a_9tYmgz45VS"
      },
      "id": "a_9tYmgz45VS",
      "execution_count": 30,
      "outputs": []
    },
    {
      "cell_type": "code",
      "source": [
        "learning_curve = final_model.get_evals_result()\n",
        "print(learning_curve)"
      ],
      "metadata": {
        "id": "2mRL06xdGZve",
        "colab": {
          "base_uri": "https://localhost:8080/"
        },
        "outputId": "1d107b74-36b2-42ab-c2d7-327b6179b372"
      },
      "id": "2mRL06xdGZve",
      "execution_count": 31,
      "outputs": [
        {
          "output_type": "stream",
          "name": "stdout",
          "text": [
            "{'learn': {'MultiClass': [1.6943688215200212, 1.394355371536757, 1.1779975447184707, 1.0159848953235857, 0.8819015182374152, 0.7723486965343186, 0.6857575869737754, 0.6106262215367836, 0.5477250058818975, 0.49240067679299754, 0.448221053642085, 0.4062447170010352, 0.3677979852025056, 0.33550815961515984, 0.30597881377095304, 0.2797490002268734, 0.2572042625366586, 0.23682268276046495, 0.2182255494548357, 0.20089742625249998, 0.1848431296820175, 0.17145538259275958, 0.1586261308449232, 0.14756976272282615, 0.1381470700254304, 0.12811975044072732, 0.11966693988238439, 0.11182173699251152, 0.10460306130920353, 0.09794214252732639, 0.09179434780866765, 0.08583097349582416, 0.08060559855636634, 0.0756544472886682, 0.07158209827826802, 0.06729841158017082, 0.06392288030264011, 0.06043905885416938, 0.05710755688292588, 0.05396115013256889, 0.05129656298207867, 0.04864548312075062, 0.046077568927211196, 0.044018231080285186, 0.042061643307181124, 0.040260224860702354, 0.038241667084335615, 0.036446297258321485, 0.035017129578095926, 0.03371054528580394, 0.03231439304020824, 0.03119379744071298, 0.030005829560015, 0.02887077798011752, 0.027754619308878358, 0.026712425043236676, 0.02556021449333049, 0.024560148595175205, 0.023990854172104992, 0.023132549906478693, 0.022435919923769435, 0.021554386581271345, 0.020794446808867727, 0.02028060306845231, 0.019664445064476763, 0.01909852427512338, 0.0185788334233661, 0.018190851027147577, 0.017847005904292633, 0.017206705728799544, 0.01671476766051047, 0.016242447480581637, 0.015880994185936165, 0.015422319592266793, 0.015044900335316415, 0.014698831479191252, 0.014295162367238082, 0.013986486580824778, 0.013583784820814187, 0.01320672913503048, 0.012889924251155009, 0.012569327080850493, 0.012241857341238293, 0.012019685553801587, 0.011699977677701085, 0.011402251856378175, 0.011142630423963676, 0.010906591484414243, 0.010653843289479163, 0.010514278244901436, 0.010377880998679753, 0.010146832263729175, 0.00996921243825529, 0.00977156421897006, 0.009581128468073335, 0.009479267861924545, 0.009295629504381484, 0.009175521138425366, 0.008971351948769956, 0.00882910887817265, 0.008686011034728304, 0.008595438119130366, 0.008469765749701852, 0.00833568274364007, 0.008192958458739796, 0.008050285068574883, 0.007908770736005225, 0.0077740666023811645, 0.007708646200790259, 0.007604414918543764, 0.007510057440339697, 0.007397839204885679, 0.007321553228252548, 0.0072211247881488715, 0.00715220946634998, 0.00702077648012147, 0.00691250880473814, 0.006833903255748869, 0.006748501686371775, 0.006666070550324752, 0.006605518445629113, 0.006527260737231589, 0.006470123342644036, 0.006396089839691523, 0.006328400809631077, 0.006256145085187503, 0.00620628962669333, 0.0061161056715255445, 0.006036569155959822, 0.0059494842856812995, 0.005866297183394753, 0.005826359158782582, 0.005744024854319351, 0.005697842385603162, 0.00564357109237061, 0.005585000178952496, 0.005530467450774264, 0.005498397035547084, 0.005439143303967429, 0.005381095855900418, 0.005334519838962816, 0.005287351765888552, 0.005232052477944589, 0.005172085161873392, 0.005123218213833536, 0.005054614287958942, 0.005027003779956649, 0.004970190353043804, 0.004942715747636509, 0.004900664764785115, 0.004828888809765538, 0.004805242824657102, 0.004773386079063057, 0.004727626487849673, 0.004701617968865113, 0.00466705923280886, 0.004627424414965593, 0.004590110607585405, 0.004540853485721789, 0.004498867106485569, 0.004470193655448836, 0.004450612882421675, 0.004434938391310796, 0.004420637728147049, 0.004380189645774144, 0.004326147063293421, 0.0042726587857225854, 0.004252350512662536, 0.0042337210293340284, 0.004183832402257066, 0.004158984762720352, 0.0041468871069978794, 0.00410618410345424, 0.0040753212426358635, 0.004059408315967407, 0.0040197200322848615, 0.004004511546577353, 0.003985185004777259, 0.003954082788756661, 0.003926594207989799, 0.0038948434312857058, 0.0038576374016418818, 0.003822110835384187, 0.003800795845740188, 0.003786524391608796, 0.003751012079753587, 0.0037082496565570356, 0.003684451062356972, 0.003661275687850143, 0.0036361913147103337, 0.003618732419187049, 0.0035878010548273127, 0.0035791951456344505, 0.0035520277142786615, 0.003533815320488032, 0.0035048511478243016, 0.0034783428219158316, 0.0034660220614296756, 0.0034309705330526365, 0.003402425639806973, 0.0033823735724928506, 0.0033736977701157925, 0.0033627923914627163, 0.003354530242563799, 0.003336731277263794, 0.0033059859667601476, 0.0032768966606420103, 0.0032620094986843097, 0.0032282405356295675, 0.003205507226487282, 0.003196089934119043, 0.003171646042149634, 0.003165007026270507, 0.0031561115006904354, 0.0031467010398612944, 0.0031314845886623627, 0.003110050007240157, 0.003089515302128557, 0.003082941259979801, 0.0030741313419816135, 0.003065233018017771, 0.003058837885637926, 0.0030389009508951983, 0.003019148309014484, 0.0030106647158790354, 0.0029956561617737283, 0.0029880218631134436, 0.002968942462456814, 0.002950103815998458, 0.0029365700202174188, 0.0029282180935890027, 0.0029129459057795396, 0.0029102554478274466, 0.0028905314985286355, 0.0028777878515291967, 0.0028651529740346014, 0.002860837533095599, 0.002844796503330675, 0.0028235304169772746, 0.0028120814650663102, 0.0028071840152813538, 0.0027840145755865684, 0.002778594814820443, 0.0027716749473846772, 0.002758847500743269, 0.0027401613514693047, 0.00272763294773691, 0.002709507492794528, 0.0026942040331509533, 0.0026824090408590646, 0.0026754548858692203, 0.002659898691052146, 0.002648352621220035, 0.0026306371552024953, 0.002619495010563636, 0.002608665803136637, 0.002592684675217718, 0.002586832722945387, 0.0025810628097734504, 0.0025753653636832433, 0.0025640082006917592, 0.002554562774498266, 0.0025489580894072746, 0.002543709557367593, 0.0025334780009334985, 0.002526345632046882, 0.0025129445545711026, 0.002503030313802986, 0.0024864775122119, 0.002481180448756316, 0.002475947502772797, 0.0024658109566998727, 0.002451295868812068, 0.002438027895338191, 0.002422822450224513, 0.0024138186655980973, 0.0024003692760420424, 0.0023852796237294775, 0.0023761465280185854, 0.0023711694813794227, 0.0023612185004487584, 0.0023526552853161565, 0.002347624542707638, 0.002342833472158062, 0.0023306970246648865, 0.002325995884599399, 0.002314046481834741, 0.0023033205671275335, 0.002298730086619916, 0.0022922235984913536, 0.002280013354959654, 0.0022678640152095967, 0.0022598149994360406, 0.002257458876853079, 0.002246843675438622, 0.002242418099745725, 0.002230135268830146, 0.002219279940598344, 0.002208054614551857, 0.0021975088317614288, 0.002194586128372836, 0.0021902773456012655, 0.0021858403503967573, 0.0021753620589675853, 0.0021680429396969273, 0.0021581418512585, 0.0021540407588729995, 0.0021502792754393985, 0.0021463192367023026, 0.002139620966647373, 0.0021361964674702265, 0.002128969616605187, 0.0021194134809130703, 0.002116359025416707, 0.0021125664080689373, 0.0021017523977168518, 0.0020997158472882906, 0.0020956065177848335, 0.00209195053829798, 0.002088143964818535, 0.002085105920733198, 0.0020754851948856317, 0.0020662338035622486, 0.002053541290777152, 0.0020435711546859165, 0.002040057076154667, 0.002036815955451877, 0.0020334485174143156, 0.0020300498121720613, 0.0020266719138575234, 0.0020233992674778757, 0.0020203054591786136, 0.0020148445945813603, 0.0020113669175552875, 0.0020087195370459385, 0.0020055201191567416, 0.0020025483958849596, 0.0019940854409135553, 0.0019935012771061925, 0.0019888003678883177, 0.0019797477428215447, 0.0019768382853596993, 0.001967721467457676, 0.001961194637432295, 0.001956533309695571, 0.0019513215721564626, 0.0019482125728987221, 0.0019452226235518073, 0.0019389842683351464, 0.0019315400197465397, 0.0019230459525183393, 0.001913960400259574, 0.0019080594239834073, 0.0019052302130290481, 0.0018995947192232937, 0.001894018118138526, 0.0018913802892580572, 0.0018885002990265557, 0.001885715090893921, 0.0018830363420954262, 0.001880226672411739, 0.001875888420250107, 0.0018732491825973019, 0.001865587666272551, 0.0018579528131963284, 0.0018553519617736036, 0.0018475253084747488, 0.0018455491927894256, 0.001843091939407934, 0.001838945573140676, 0.0018333194275640065, 0.0018312277765531236, 0.001828653977310867, 0.0018214608668795488, 0.0018117489902860168, 0.001809931557272565, 0.0018074316024187223, 0.0017990222500806107, 0.001796706931256731, 0.0017944320442561813, 0.0017884185759035585, 0.001781136036051939, 0.0017727359364588314, 0.0017682908440182802, 0.0017613288566076537, 0.0017588074768528194, 0.0017563903192292483, 0.0017514909145974755, 0.0017465105799904105, 0.0017367343395794578, 0.0017344857321613723, 0.0017240668814900045, 0.0017149872764583311, 0.0017128994225290308, 0.0017047752310880887, 0.0016964127934970253, 0.0016942964081610927, 0.0016907180582587521, 0.0016840458721363138, 0.0016776437259756194]}, 'validation': {'MultiClass': [1.6925194028825672, 1.3825784938595655, 1.1674281036484306, 1.0090066781030802, 0.8721785476444083, 0.7653934041704769, 0.6794958208913466, 0.6022576475968677, 0.5378293941336055, 0.4820716486952767, 0.4369053250444291, 0.39569479554809195, 0.35777589499179724, 0.3268098035759174, 0.2980783341455328, 0.2724912379365633, 0.25023397406644315, 0.23010314630645218, 0.21149689470661379, 0.19412697978590562, 0.17805274865863363, 0.16490094912238504, 0.15211238889078277, 0.14115867146911204, 0.13204607737294005, 0.12239145515323784, 0.11418267058187613, 0.10648996100797259, 0.09953620532977804, 0.09308722842132011, 0.08690778484702065, 0.08100265598007411, 0.07590065113205079, 0.07099834962813349, 0.06727035972610235, 0.06312304384697259, 0.05993864109660869, 0.05664870863901477, 0.05342859497756461, 0.05038968658148632, 0.047993255599925275, 0.04548013996854916, 0.042967348100149676, 0.04099327970629507, 0.03907158941197825, 0.037391548895860896, 0.03555768794230239, 0.03392524944250811, 0.032567982457032005, 0.031363157504574295, 0.030052607902277338, 0.02908015755407848, 0.027971830616683478, 0.026933170815185082, 0.025885282501809485, 0.024917871662886473, 0.023847434138499754, 0.022896537592441483, 0.022366547289742262, 0.021545136795332813, 0.02090375093980824, 0.020112089106613416, 0.019414806509340514, 0.018929251299619528, 0.0183866092977677, 0.017877645140689635, 0.017383386933153947, 0.016996312910179508, 0.016660035867281927, 0.016082912808996996, 0.015653383218726658, 0.015212948159033056, 0.014874945029412496, 0.014457835793614638, 0.014106492184421884, 0.013776725708018168, 0.013431520225272109, 0.01313394454815913, 0.012763010886239186, 0.012421540126518874, 0.01214520959650162, 0.01184986149278563, 0.011551169505207029, 0.011346571690508747, 0.011023559024375696, 0.010731239102487054, 0.010504984576729475, 0.010262321541855577, 0.010033656096431766, 0.009905452534281782, 0.00976211131682061, 0.009538720311782257, 0.009384764978546787, 0.009204441560973787, 0.009034330930938259, 0.008949364893613272, 0.008777492399087915, 0.008666446883714707, 0.00846680818404789, 0.008341952066730026, 0.008202506351426221, 0.008112517039827351, 0.00799495315669393, 0.007861151575990004, 0.007721418817902636, 0.007575428445581848, 0.007455702784345972, 0.00733792002343545, 0.007280079584073426, 0.007181617553256282, 0.007091595022219659, 0.006979662633614151, 0.006909359134110493, 0.006812423899564299, 0.006741312920964402, 0.006627330933842526, 0.006530427029902378, 0.006456137814447945, 0.006376893877005185, 0.006297455104188227, 0.006234977471542283, 0.006163739475766146, 0.0061047704638490154, 0.006033521083374017, 0.00597245852269109, 0.005908840514740072, 0.0058565864401955445, 0.0057795300954920584, 0.005712846559317052, 0.005637128363308802, 0.0055647980336577954, 0.00552655253521784, 0.005451666674942061, 0.005408827885685375, 0.005362077844793694, 0.005310048802212748, 0.005262759446449665, 0.0052320958027804836, 0.005173905273448827, 0.005117028239390142, 0.005073147981320192, 0.005031394903195988, 0.004977110309500013, 0.0049251563316889775, 0.004876331746035938, 0.004812885348364828, 0.004787597911829503, 0.004730999993297025, 0.004706418523442518, 0.004663842220094155, 0.004602705983164, 0.00458030907669268, 0.0045524251531358275, 0.0045072807038012645, 0.004483006605586799, 0.004453286575201267, 0.004413507859932994, 0.004381231889994791, 0.00433594879565517, 0.004294438831095472, 0.004267102414833747, 0.004251621863785443, 0.004238793091919429, 0.004226063072322094, 0.004184082145378677, 0.0041351780198445685, 0.00407922515071068, 0.004059732204485107, 0.004041304843065753, 0.003993890592963646, 0.003971293993143622, 0.003961185638245539, 0.003926167526422727, 0.0038930431882467304, 0.003877211658929218, 0.0038437353701245656, 0.003828554474210001, 0.0038088414359253343, 0.0037779949983848126, 0.00375452863858462, 0.003723083138726236, 0.003691076700670394, 0.003661551816841984, 0.0036413825086081906, 0.0036278713618084378, 0.0035973761062246977, 0.003561624302369857, 0.003541942500014785, 0.0035170258782708857, 0.003491579309575618, 0.0034758411792242287, 0.003447902833254614, 0.003440464917876833, 0.003413440987656761, 0.0033937723009452602, 0.003369200988685382, 0.0033467235966971884, 0.0033340870816036244, 0.003302664625316133, 0.0032784527257826448, 0.0032562140440468737, 0.003248660090674278, 0.003238550673304149, 0.003231798870444089, 0.003215216731703814, 0.0031868919896158765, 0.003163915384538373, 0.003151922480415984, 0.0031229132601323126, 0.0031018065593617877, 0.0030926828661497594, 0.0030718651263893573, 0.0030661789877594837, 0.0030568736732311847, 0.0030472164202492626, 0.003032548375750327, 0.0030109568590560585, 0.0029896690623886805, 0.002984503900797203, 0.002975303061682566, 0.0029660151371471146, 0.0029603256198491986, 0.002940972180699815, 0.002920815360324265, 0.002912155961902255, 0.0028978350716030313, 0.0028898886781008435, 0.0028704098433572486, 0.0028523125985849803, 0.0028371796531347043, 0.002830836366701365, 0.002814994937566417, 0.0028128915056268994, 0.002794876499817378, 0.002783343242624712, 0.0027696345512625317, 0.002766031451668403, 0.0027502310324012185, 0.0027304114941803697, 0.002717958085265485, 0.0027130071038626294, 0.002689900894076334, 0.0026854966704076494, 0.0026788510985584217, 0.0026677915694946213, 0.002653049791125216, 0.002641309646396577, 0.002625662626594669, 0.0026101903620971974, 0.0025997747008961775, 0.0025934724997230744, 0.002578175240301425, 0.002569164704066461, 0.0025535110780742975, 0.002544007079133306, 0.002534745404404962, 0.0025202339481427737, 0.002514635065839539, 0.0025087766774273693, 0.002502990170040703, 0.0024912256840662057, 0.0024833338858311483, 0.0024779191800841037, 0.0024723782634396467, 0.0024625110589844663, 0.0024549363873077306, 0.002442243304706996, 0.0024328808920329502, 0.0024181646895060954, 0.002412778729427929, 0.002407456420795553, 0.0023963669082006883, 0.0023815739022190474, 0.0023682228578673793, 0.0023530474509963263, 0.0023446422838745134, 0.002330780686962632, 0.002319462475718158, 0.002312112373640135, 0.002307039982823721, 0.002296351008584107, 0.0022869799595022925, 0.0022821760676268684, 0.00227758027510049, 0.002264875799402418, 0.0022601039160594716, 0.002248030734762866, 0.002237290318640753, 0.0022326223291936472, 0.0022264134231168476, 0.002216904242595988, 0.0022063828328402033, 0.0021992866081379943, 0.00219743382185606, 0.002186957563361259, 0.002182250880964979, 0.002171079081909789, 0.0021603483221437833, 0.0021518609640075142, 0.0021414303730338353, 0.002139375531931275, 0.002134956970269153, 0.002131562510649014, 0.002122862287847258, 0.002115928435027238, 0.0021052021825668336, 0.0021015313636860385, 0.002097901785147127, 0.0020938535834826018, 0.0020858654393315, 0.0020830172442654667, 0.0020757945752607823, 0.0020677493816492285, 0.002065313982288301, 0.0020617432217205182, 0.0020527606765757688, 0.002050858627216495, 0.0020463521140225488, 0.0020429004927171044, 0.0020388138033217303, 0.00203581698024482, 0.002026070667102257, 0.0020165257374080703, 0.0020056712331517207, 0.00199668792973266, 0.0019928986043090987, 0.0019894563105580885, 0.0019860278574079645, 0.001982194535422374, 0.0019791607053262117, 0.0019758260463329292, 0.001972534338459834, 0.0019661473250212184, 0.0019630359280705216, 0.0019605070776323747, 0.001957636586958823, 0.0019544735332893233, 0.0019457127148117834, 0.001945137210121138, 0.0019394908906661616, 0.0019303781236348911, 0.0019275701227472485, 0.0019203239934700788, 0.0019127127915780633, 0.001907746351840539, 0.0019033279309017869, 0.0019001075432294385, 0.001897435972367383, 0.001892590718562537, 0.001886065300805928, 0.001877373948151973, 0.0018681946917928876, 0.001862412508329788, 0.001859473909034211, 0.0018546684151052313, 0.0018492376743224645, 0.0018464241392831095, 0.0018434361094303443, 0.0018409434104874225, 0.0018383331060341265, 0.0018355264577225548, 0.0018313151343992437, 0.001828752182905171, 0.0018208162221947594, 0.0018129564302809252, 0.0018104223859448743, 0.001802441641698557, 0.0018008683548509043, 0.001798247264968438, 0.0017945262551434752, 0.0017897278666649044, 0.0017879891679026593, 0.0017856826462789197, 0.0017782450826833403, 0.0017699872884559375, 0.0017688660498778918, 0.0017666186198629918, 0.001759062864865994, 0.0017568294551185486, 0.0017543751000507542, 0.0017479625002175176, 0.0017407394698335256, 0.0017333432656542445, 0.001728618960947818, 0.001721377039150387, 0.0017186872908634674, 0.0017162293428851366, 0.00171143765157078, 0.0017063594203933, 0.0016975212996249828, 0.0016950628206701007, 0.001684920898441744, 0.0016771753365814332, 0.0016751593425524136, 0.0016678232511048866, 0.0016597500244555506, 0.0016576634125522478, 0.0016543392204576412, 0.0016485404916111376, 0.001643081475085981]}}\n"
          ]
        }
      ]
    },
    {
      "cell_type": "code",
      "source": [
        "# Retrieve evaluation results\n",
        "learning_curve = final_model.get_evals_result()\n",
        "\n",
        "# Extract the metric values\n",
        "# Assuming 'learn' corresponds to the training dataset\n",
        "train_metric_values = learning_curve.get('learn', {}).get('MultiClass', [])\n",
        "\n",
        "# Check the extracted values\n",
        "if train_metric_values:\n",
        "    print(\"Training metric values:\", train_metric_values)\n",
        "else:\n",
        "    print(\"Metric 'MultiClass' not found in evaluation results.\")\n"
      ],
      "metadata": {
        "id": "3baCXa2jGafB",
        "colab": {
          "base_uri": "https://localhost:8080/"
        },
        "outputId": "3ccfab04-128c-4082-def6-7269116f77ac"
      },
      "id": "3baCXa2jGafB",
      "execution_count": 32,
      "outputs": [
        {
          "output_type": "stream",
          "name": "stdout",
          "text": [
            "Training metric values: [1.6943688215200212, 1.394355371536757, 1.1779975447184707, 1.0159848953235857, 0.8819015182374152, 0.7723486965343186, 0.6857575869737754, 0.6106262215367836, 0.5477250058818975, 0.49240067679299754, 0.448221053642085, 0.4062447170010352, 0.3677979852025056, 0.33550815961515984, 0.30597881377095304, 0.2797490002268734, 0.2572042625366586, 0.23682268276046495, 0.2182255494548357, 0.20089742625249998, 0.1848431296820175, 0.17145538259275958, 0.1586261308449232, 0.14756976272282615, 0.1381470700254304, 0.12811975044072732, 0.11966693988238439, 0.11182173699251152, 0.10460306130920353, 0.09794214252732639, 0.09179434780866765, 0.08583097349582416, 0.08060559855636634, 0.0756544472886682, 0.07158209827826802, 0.06729841158017082, 0.06392288030264011, 0.06043905885416938, 0.05710755688292588, 0.05396115013256889, 0.05129656298207867, 0.04864548312075062, 0.046077568927211196, 0.044018231080285186, 0.042061643307181124, 0.040260224860702354, 0.038241667084335615, 0.036446297258321485, 0.035017129578095926, 0.03371054528580394, 0.03231439304020824, 0.03119379744071298, 0.030005829560015, 0.02887077798011752, 0.027754619308878358, 0.026712425043236676, 0.02556021449333049, 0.024560148595175205, 0.023990854172104992, 0.023132549906478693, 0.022435919923769435, 0.021554386581271345, 0.020794446808867727, 0.02028060306845231, 0.019664445064476763, 0.01909852427512338, 0.0185788334233661, 0.018190851027147577, 0.017847005904292633, 0.017206705728799544, 0.01671476766051047, 0.016242447480581637, 0.015880994185936165, 0.015422319592266793, 0.015044900335316415, 0.014698831479191252, 0.014295162367238082, 0.013986486580824778, 0.013583784820814187, 0.01320672913503048, 0.012889924251155009, 0.012569327080850493, 0.012241857341238293, 0.012019685553801587, 0.011699977677701085, 0.011402251856378175, 0.011142630423963676, 0.010906591484414243, 0.010653843289479163, 0.010514278244901436, 0.010377880998679753, 0.010146832263729175, 0.00996921243825529, 0.00977156421897006, 0.009581128468073335, 0.009479267861924545, 0.009295629504381484, 0.009175521138425366, 0.008971351948769956, 0.00882910887817265, 0.008686011034728304, 0.008595438119130366, 0.008469765749701852, 0.00833568274364007, 0.008192958458739796, 0.008050285068574883, 0.007908770736005225, 0.0077740666023811645, 0.007708646200790259, 0.007604414918543764, 0.007510057440339697, 0.007397839204885679, 0.007321553228252548, 0.0072211247881488715, 0.00715220946634998, 0.00702077648012147, 0.00691250880473814, 0.006833903255748869, 0.006748501686371775, 0.006666070550324752, 0.006605518445629113, 0.006527260737231589, 0.006470123342644036, 0.006396089839691523, 0.006328400809631077, 0.006256145085187503, 0.00620628962669333, 0.0061161056715255445, 0.006036569155959822, 0.0059494842856812995, 0.005866297183394753, 0.005826359158782582, 0.005744024854319351, 0.005697842385603162, 0.00564357109237061, 0.005585000178952496, 0.005530467450774264, 0.005498397035547084, 0.005439143303967429, 0.005381095855900418, 0.005334519838962816, 0.005287351765888552, 0.005232052477944589, 0.005172085161873392, 0.005123218213833536, 0.005054614287958942, 0.005027003779956649, 0.004970190353043804, 0.004942715747636509, 0.004900664764785115, 0.004828888809765538, 0.004805242824657102, 0.004773386079063057, 0.004727626487849673, 0.004701617968865113, 0.00466705923280886, 0.004627424414965593, 0.004590110607585405, 0.004540853485721789, 0.004498867106485569, 0.004470193655448836, 0.004450612882421675, 0.004434938391310796, 0.004420637728147049, 0.004380189645774144, 0.004326147063293421, 0.0042726587857225854, 0.004252350512662536, 0.0042337210293340284, 0.004183832402257066, 0.004158984762720352, 0.0041468871069978794, 0.00410618410345424, 0.0040753212426358635, 0.004059408315967407, 0.0040197200322848615, 0.004004511546577353, 0.003985185004777259, 0.003954082788756661, 0.003926594207989799, 0.0038948434312857058, 0.0038576374016418818, 0.003822110835384187, 0.003800795845740188, 0.003786524391608796, 0.003751012079753587, 0.0037082496565570356, 0.003684451062356972, 0.003661275687850143, 0.0036361913147103337, 0.003618732419187049, 0.0035878010548273127, 0.0035791951456344505, 0.0035520277142786615, 0.003533815320488032, 0.0035048511478243016, 0.0034783428219158316, 0.0034660220614296756, 0.0034309705330526365, 0.003402425639806973, 0.0033823735724928506, 0.0033736977701157925, 0.0033627923914627163, 0.003354530242563799, 0.003336731277263794, 0.0033059859667601476, 0.0032768966606420103, 0.0032620094986843097, 0.0032282405356295675, 0.003205507226487282, 0.003196089934119043, 0.003171646042149634, 0.003165007026270507, 0.0031561115006904354, 0.0031467010398612944, 0.0031314845886623627, 0.003110050007240157, 0.003089515302128557, 0.003082941259979801, 0.0030741313419816135, 0.003065233018017771, 0.003058837885637926, 0.0030389009508951983, 0.003019148309014484, 0.0030106647158790354, 0.0029956561617737283, 0.0029880218631134436, 0.002968942462456814, 0.002950103815998458, 0.0029365700202174188, 0.0029282180935890027, 0.0029129459057795396, 0.0029102554478274466, 0.0028905314985286355, 0.0028777878515291967, 0.0028651529740346014, 0.002860837533095599, 0.002844796503330675, 0.0028235304169772746, 0.0028120814650663102, 0.0028071840152813538, 0.0027840145755865684, 0.002778594814820443, 0.0027716749473846772, 0.002758847500743269, 0.0027401613514693047, 0.00272763294773691, 0.002709507492794528, 0.0026942040331509533, 0.0026824090408590646, 0.0026754548858692203, 0.002659898691052146, 0.002648352621220035, 0.0026306371552024953, 0.002619495010563636, 0.002608665803136637, 0.002592684675217718, 0.002586832722945387, 0.0025810628097734504, 0.0025753653636832433, 0.0025640082006917592, 0.002554562774498266, 0.0025489580894072746, 0.002543709557367593, 0.0025334780009334985, 0.002526345632046882, 0.0025129445545711026, 0.002503030313802986, 0.0024864775122119, 0.002481180448756316, 0.002475947502772797, 0.0024658109566998727, 0.002451295868812068, 0.002438027895338191, 0.002422822450224513, 0.0024138186655980973, 0.0024003692760420424, 0.0023852796237294775, 0.0023761465280185854, 0.0023711694813794227, 0.0023612185004487584, 0.0023526552853161565, 0.002347624542707638, 0.002342833472158062, 0.0023306970246648865, 0.002325995884599399, 0.002314046481834741, 0.0023033205671275335, 0.002298730086619916, 0.0022922235984913536, 0.002280013354959654, 0.0022678640152095967, 0.0022598149994360406, 0.002257458876853079, 0.002246843675438622, 0.002242418099745725, 0.002230135268830146, 0.002219279940598344, 0.002208054614551857, 0.0021975088317614288, 0.002194586128372836, 0.0021902773456012655, 0.0021858403503967573, 0.0021753620589675853, 0.0021680429396969273, 0.0021581418512585, 0.0021540407588729995, 0.0021502792754393985, 0.0021463192367023026, 0.002139620966647373, 0.0021361964674702265, 0.002128969616605187, 0.0021194134809130703, 0.002116359025416707, 0.0021125664080689373, 0.0021017523977168518, 0.0020997158472882906, 0.0020956065177848335, 0.00209195053829798, 0.002088143964818535, 0.002085105920733198, 0.0020754851948856317, 0.0020662338035622486, 0.002053541290777152, 0.0020435711546859165, 0.002040057076154667, 0.002036815955451877, 0.0020334485174143156, 0.0020300498121720613, 0.0020266719138575234, 0.0020233992674778757, 0.0020203054591786136, 0.0020148445945813603, 0.0020113669175552875, 0.0020087195370459385, 0.0020055201191567416, 0.0020025483958849596, 0.0019940854409135553, 0.0019935012771061925, 0.0019888003678883177, 0.0019797477428215447, 0.0019768382853596993, 0.001967721467457676, 0.001961194637432295, 0.001956533309695571, 0.0019513215721564626, 0.0019482125728987221, 0.0019452226235518073, 0.0019389842683351464, 0.0019315400197465397, 0.0019230459525183393, 0.001913960400259574, 0.0019080594239834073, 0.0019052302130290481, 0.0018995947192232937, 0.001894018118138526, 0.0018913802892580572, 0.0018885002990265557, 0.001885715090893921, 0.0018830363420954262, 0.001880226672411739, 0.001875888420250107, 0.0018732491825973019, 0.001865587666272551, 0.0018579528131963284, 0.0018553519617736036, 0.0018475253084747488, 0.0018455491927894256, 0.001843091939407934, 0.001838945573140676, 0.0018333194275640065, 0.0018312277765531236, 0.001828653977310867, 0.0018214608668795488, 0.0018117489902860168, 0.001809931557272565, 0.0018074316024187223, 0.0017990222500806107, 0.001796706931256731, 0.0017944320442561813, 0.0017884185759035585, 0.001781136036051939, 0.0017727359364588314, 0.0017682908440182802, 0.0017613288566076537, 0.0017588074768528194, 0.0017563903192292483, 0.0017514909145974755, 0.0017465105799904105, 0.0017367343395794578, 0.0017344857321613723, 0.0017240668814900045, 0.0017149872764583311, 0.0017128994225290308, 0.0017047752310880887, 0.0016964127934970253, 0.0016942964081610927, 0.0016907180582587521, 0.0016840458721363138, 0.0016776437259756194]\n"
          ]
        }
      ]
    },
    {
      "cell_type": "code",
      "source": [
        "import matplotlib.pyplot as plt\n",
        "\n",
        "# Plotting the learning curve\n",
        "plt.plot(train_metric_values, label='Training MultiClass Metric')\n",
        "plt.xlabel('Iterations')\n",
        "plt.ylabel('Metric Value')\n",
        "plt.title('Learning Curve')\n",
        "plt.legend()\n",
        "plt.grid()\n",
        "plt.show()\n"
      ],
      "metadata": {
        "id": "p0vioY6FGjQb",
        "colab": {
          "base_uri": "https://localhost:8080/",
          "height": 472
        },
        "outputId": "ce96b64e-7868-4404-893e-588cfe94f94f"
      },
      "id": "p0vioY6FGjQb",
      "execution_count": 33,
      "outputs": [
        {
          "output_type": "display_data",
          "data": {
            "text/plain": [
              "<Figure size 640x480 with 1 Axes>"
            ],
            "image/png": "[encoded data removed]"
          },
          "metadata": {}
        }
      ]
    },
    {
      "cell_type": "code",
      "source": [
        "# Predictions\n",
        "y_pred_train = final_model.predict(X_train)\n",
        "y_pred_test = final_model.predict(X_test)\n",
        "\n",
        "print(\"Classification Report - Training Set:\")\n",
        "print(classification_report(y_train, y_pred_train))\n",
        "\n",
        "print(\"Classification Report - Test Set:\")\n",
        "print(classification_report(y_test, y_pred_test))\n",
        "\n",
        "conf_matrix_train = confusion_matrix(y_train, y_pred_train)\n",
        "conf_matrix_test = confusion_matrix(y_test, y_pred_test)\n",
        "\n",
        "plt.figure(figsize=(15, 5))\n",
        "\n",
        "plt.subplot(1, 3, 1)\n",
        "sns.heatmap(conf_matrix_train, annot=True, fmt=\"d\", cmap=\"Blues\", cbar=False)\n",
        "plt.title(\"Confusion Matrix - Training Set\")\n",
        "plt.xlabel(\"Predicted\")\n",
        "plt.ylabel(\"True\")\n",
        "\n",
        "plt.subplot(1, 3, 2)\n",
        "sns.heatmap(conf_matrix_test, annot=True, fmt=\"d\", cmap=\"Blues\", cbar=False)\n",
        "plt.title(\"Confusion Matrix - Test Set\")\n",
        "plt.xlabel(\"Predicted\")\n",
        "plt.ylabel(\"True\")\n",
        "\n",
        "plt.tight_layout()\n",
        "plt.savefig('C-Matrix.svg', format='svg')\n",
        "plt.show()\n",
        "\n",
        "end_time = datetime.now()\n",
        "print('Deployment Duration: {}'.format(end_time - start_time))"
      ],
      "metadata": {
        "id": "EGySyu_OHNqG",
        "colab": {
          "base_uri": "https://localhost:8080/",
          "height": 1000
        },
        "outputId": "154008b9-80f4-4d0e-c8b8-7c4b025afb08"
      },
      "id": "EGySyu_OHNqG",
      "execution_count": 34,
      "outputs": [
        {
          "output_type": "stream",
          "name": "stdout",
          "text": [
            "Classification Report - Training Set:\n",
            "                            precision    recall  f1-score   support\n",
            "\n",
            "       Noise_10_B007_1_123       1.00      1.00      1.00       145\n",
            "       Noise_10_B014_1_190       1.00      1.00      1.00       133\n",
            "       Noise_10_B021_1_227       1.00      1.00      1.00       144\n",
            "      Noise_10_IR007_1_110       1.00      1.00      1.00       126\n",
            "      Noise_10_IR021_1_214       1.00      1.00      1.00       130\n",
            "    Noise_10_OR007_6_1_136       1.00      1.00      1.00       142\n",
            "    Noise_10_OR014_6_1_202       1.00      1.00      1.00       140\n",
            "    Noise_10_OR021_6_1_239       1.00      1.00      1.00       151\n",
            "Noise_10_Time_Normal_1_098       1.00      1.00      1.00       145\n",
            "\n",
            "                  accuracy                           1.00      1256\n",
            "                 macro avg       1.00      1.00      1.00      1256\n",
            "              weighted avg       1.00      1.00      1.00      1256\n",
            "\n",
            "Classification Report - Test Set:\n",
            "                            precision    recall  f1-score   support\n",
            "\n",
            "       Noise_10_B007_1_123       1.00      1.00      1.00        28\n",
            "       Noise_10_B014_1_190       1.00      1.00      1.00        46\n",
            "       Noise_10_B021_1_227       1.00      1.00      1.00        34\n",
            "      Noise_10_IR007_1_110       1.00      1.00      1.00        33\n",
            "      Noise_10_IR021_1_214       1.00      1.00      1.00        38\n",
            "    Noise_10_OR007_6_1_136       1.00      1.00      1.00        31\n",
            "    Noise_10_OR014_6_1_202       1.00      1.00      1.00        37\n",
            "    Noise_10_OR021_6_1_239       1.00      1.00      1.00        38\n",
            "Noise_10_Time_Normal_1_098       1.00      1.00      1.00        29\n",
            "\n",
            "                  accuracy                           1.00       314\n",
            "                 macro avg       1.00      1.00      1.00       314\n",
            "              weighted avg       1.00      1.00      1.00       314\n",
            "\n"
          ]
        },
        {
          "output_type": "display_data",
          "data": {
            "text/plain": [
              "<Figure size 1500x500 with 2 Axes>"
            ],
            "image/png": "[encoded data removed]"
          },
          "metadata": {}
        },
        {
          "output_type": "stream",
          "name": "stdout",
          "text": [
            "Deployment Duration: 0:13:14.922299\n"
          ]
        }
      ]
    },
    {
      "cell_type": "code",
      "source": [
        "final_model.fit(X_train, y_train, eval_set=(X_test, y_test))\n",
        "\n",
        "# Evaluate train accuracy\n",
        "result_train = final_model.score(X_train, y_train)\n",
        "print(\"Train Accuracy : {}\".format(result_train))\n",
        "\n",
        "# Evaluate test accuracy\n",
        "result_test = final_model.score(X_test, y_test)\n",
        "print(\"Test Accuracy : {}\".format(result_test))\n",
        "\n",
        "# Predictions\n",
        "y_pred_train = final_model.predict(X_train)\n",
        "y_pred_test = final_model.predict(X_test)\n",
        "\n",
        "# Classification report\n",
        "print(\"Classification Report - Training Set:\")\n",
        "print(classification_report(y_train, y_pred_train))\n",
        "\n",
        "print(\"Classification Report - Test Set:\")\n",
        "print(classification_report(y_test, y_pred_test))"
      ],
      "metadata": {
        "id": "tEOwmxFROH5f",
        "colab": {
          "base_uri": "https://localhost:8080/"
        },
        "outputId": "4c24545b-61b3-4ec7-b9d8-a09c98ba4fd2"
      },
      "id": "tEOwmxFROH5f",
      "execution_count": 35,
      "outputs": [
        {
          "output_type": "stream",
          "name": "stdout",
          "text": [
            "0:\tlearn: 1.6943688\ttest: 1.6925194\tbest: 1.6925194 (0)\ttotal: 4.85ms\tremaining: 1.93s\n",
            "10:\tlearn: 0.4482211\ttest: 0.4369053\tbest: 0.4369053 (10)\ttotal: 44.3ms\tremaining: 1.57s\n",
            "20:\tlearn: 0.1848431\ttest: 0.1780527\tbest: 0.1780527 (20)\ttotal: 85.6ms\tremaining: 1.54s\n",
            "30:\tlearn: 0.0917943\ttest: 0.0869078\tbest: 0.0869078 (30)\ttotal: 124ms\tremaining: 1.48s\n",
            "40:\tlearn: 0.0512966\ttest: 0.0479933\tbest: 0.0479933 (40)\ttotal: 163ms\tremaining: 1.43s\n",
            "50:\tlearn: 0.0323144\ttest: 0.0300526\tbest: 0.0300526 (50)\ttotal: 205ms\tremaining: 1.4s\n",
            "60:\tlearn: 0.0224359\ttest: 0.0209038\tbest: 0.0209038 (60)\ttotal: 245ms\tremaining: 1.36s\n",
            "70:\tlearn: 0.0167148\ttest: 0.0156534\tbest: 0.0156534 (70)\ttotal: 284ms\tremaining: 1.31s\n",
            "80:\tlearn: 0.0128899\ttest: 0.0121452\tbest: 0.0121452 (80)\ttotal: 322ms\tremaining: 1.27s\n",
            "90:\tlearn: 0.0103779\ttest: 0.0097621\tbest: 0.0097621 (90)\ttotal: 361ms\tremaining: 1.22s\n",
            "100:\tlearn: 0.0086860\ttest: 0.0082025\tbest: 0.0082025 (100)\ttotal: 399ms\tremaining: 1.18s\n",
            "110:\tlearn: 0.0075101\ttest: 0.0070916\tbest: 0.0070916 (110)\ttotal: 441ms\tremaining: 1.15s\n",
            "120:\tlearn: 0.0066055\ttest: 0.0062350\tbest: 0.0062350 (120)\ttotal: 481ms\tremaining: 1.11s\n",
            "130:\tlearn: 0.0058663\ttest: 0.0055648\tbest: 0.0055648 (130)\ttotal: 521ms\tremaining: 1.07s\n",
            "140:\tlearn: 0.0053345\ttest: 0.0050731\tbest: 0.0050731 (140)\ttotal: 566ms\tremaining: 1.04s\n",
            "150:\tlearn: 0.0048289\ttest: 0.0046027\tbest: 0.0046027 (150)\ttotal: 621ms\tremaining: 1.02s\n",
            "160:\tlearn: 0.0044702\ttest: 0.0042671\tbest: 0.0042671 (160)\ttotal: 666ms\tremaining: 989ms\n",
            "170:\tlearn: 0.0041590\ttest: 0.0039713\tbest: 0.0039713 (170)\ttotal: 706ms\tremaining: 945ms\n",
            "180:\tlearn: 0.0038948\ttest: 0.0037231\tbest: 0.0037231 (180)\ttotal: 744ms\tremaining: 901ms\n",
            "190:\tlearn: 0.0036187\ttest: 0.0034758\tbest: 0.0034758 (190)\ttotal: 784ms\tremaining: 858ms\n",
            "200:\tlearn: 0.0033824\ttest: 0.0032562\tbest: 0.0032562 (200)\ttotal: 822ms\tremaining: 814ms\n",
            "210:\tlearn: 0.0031961\ttest: 0.0030927\tbest: 0.0030927 (210)\ttotal: 861ms\tremaining: 771ms\n",
            "220:\tlearn: 0.0030652\ttest: 0.0029660\tbest: 0.0029660 (220)\ttotal: 901ms\tremaining: 730ms\n",
            "230:\tlearn: 0.0029282\ttest: 0.0028308\tbest: 0.0028308 (230)\ttotal: 939ms\tremaining: 687ms\n",
            "240:\tlearn: 0.0028072\ttest: 0.0027130\tbest: 0.0027130 (240)\ttotal: 977ms\tremaining: 645ms\n",
            "250:\tlearn: 0.0026755\ttest: 0.0025935\tbest: 0.0025935 (250)\ttotal: 1.02s\tremaining: 603ms\n",
            "260:\tlearn: 0.0025640\ttest: 0.0024912\tbest: 0.0024912 (260)\ttotal: 1.06s\tremaining: 564ms\n",
            "270:\tlearn: 0.0024759\ttest: 0.0024075\tbest: 0.0024075 (270)\ttotal: 1.1s\tremaining: 522ms\n",
            "280:\tlearn: 0.0023612\ttest: 0.0022964\tbest: 0.0022964 (280)\ttotal: 1.14s\tremaining: 482ms\n",
            "290:\tlearn: 0.0022800\ttest: 0.0022169\tbest: 0.0022169 (290)\ttotal: 1.18s\tremaining: 441ms\n",
            "300:\tlearn: 0.0021946\ttest: 0.0021394\tbest: 0.0021394 (300)\ttotal: 1.22s\tremaining: 400ms\n",
            "310:\tlearn: 0.0021362\ttest: 0.0020830\tbest: 0.0020830 (310)\ttotal: 1.25s\tremaining: 359ms\n",
            "320:\tlearn: 0.0020851\ttest: 0.0020358\tbest: 0.0020358 (320)\ttotal: 1.29s\tremaining: 318ms\n",
            "330:\tlearn: 0.0020234\ttest: 0.0019758\tbest: 0.0019758 (330)\ttotal: 1.33s\tremaining: 277ms\n",
            "340:\tlearn: 0.0019797\ttest: 0.0019304\tbest: 0.0019304 (340)\ttotal: 1.36s\tremaining: 236ms\n",
            "350:\tlearn: 0.0019230\ttest: 0.0018774\tbest: 0.0018774 (350)\ttotal: 1.4s\tremaining: 196ms\n",
            "360:\tlearn: 0.0018802\ttest: 0.0018355\tbest: 0.0018355 (360)\ttotal: 1.44s\tremaining: 156ms\n",
            "370:\tlearn: 0.0018333\ttest: 0.0017897\tbest: 0.0017897 (370)\ttotal: 1.48s\tremaining: 116ms\n",
            "380:\tlearn: 0.0017884\ttest: 0.0017480\tbest: 0.0017480 (380)\ttotal: 1.52s\tremaining: 75.7ms\n",
            "390:\tlearn: 0.0017345\ttest: 0.0016951\tbest: 0.0016951 (390)\ttotal: 1.56s\tremaining: 35.9ms\n",
            "399:\tlearn: 0.0016776\ttest: 0.0016431\tbest: 0.0016431 (399)\ttotal: 1.61s\tremaining: 0us\n",
            "\n",
            "bestTest = 0.001643081475\n",
            "bestIteration = 399\n",
            "\n",
            "Train Accuracy : 1.0\n",
            "Test Accuracy : 1.0\n",
            "Classification Report - Training Set:\n",
            "                            precision    recall  f1-score   support\n",
            "\n",
            "       Noise_10_B007_1_123       1.00      1.00      1.00       145\n",
            "       Noise_10_B014_1_190       1.00      1.00      1.00       133\n",
            "       Noise_10_B021_1_227       1.00      1.00      1.00       144\n",
            "      Noise_10_IR007_1_110       1.00      1.00      1.00       126\n",
            "      Noise_10_IR021_1_214       1.00      1.00      1.00       130\n",
            "    Noise_10_OR007_6_1_136       1.00      1.00      1.00       142\n",
            "    Noise_10_OR014_6_1_202       1.00      1.00      1.00       140\n",
            "    Noise_10_OR021_6_1_239       1.00      1.00      1.00       151\n",
            "Noise_10_Time_Normal_1_098       1.00      1.00      1.00       145\n",
            "\n",
            "                  accuracy                           1.00      1256\n",
            "                 macro avg       1.00      1.00      1.00      1256\n",
            "              weighted avg       1.00      1.00      1.00      1256\n",
            "\n",
            "Classification Report - Test Set:\n",
            "                            precision    recall  f1-score   support\n",
            "\n",
            "       Noise_10_B007_1_123       1.00      1.00      1.00        28\n",
            "       Noise_10_B014_1_190       1.00      1.00      1.00        46\n",
            "       Noise_10_B021_1_227       1.00      1.00      1.00        34\n",
            "      Noise_10_IR007_1_110       1.00      1.00      1.00        33\n",
            "      Noise_10_IR021_1_214       1.00      1.00      1.00        38\n",
            "    Noise_10_OR007_6_1_136       1.00      1.00      1.00        31\n",
            "    Noise_10_OR014_6_1_202       1.00      1.00      1.00        37\n",
            "    Noise_10_OR021_6_1_239       1.00      1.00      1.00        38\n",
            "Noise_10_Time_Normal_1_098       1.00      1.00      1.00        29\n",
            "\n",
            "                  accuracy                           1.00       314\n",
            "                 macro avg       1.00      1.00      1.00       314\n",
            "              weighted avg       1.00      1.00      1.00       314\n",
            "\n"
          ]
        }
      ]
    }
  ],
  "metadata": {
    "kernelspec": {
      "display_name": "Python 3",
      "name": "python3"
    },
    "language_info": {
      "codemirror_mode": {
        "name": "ipython",
        "version": 3
      },
      "file_extension": ".py",
      "mimetype": "text/x-python",
      "name": "python",
      "nbconvert_exporter": "python",
      "pygments_lexer": "ipython3",
      "version": "3.11.2"
    },
    "colab": {
      "provenance": [],
      "gpuType": "T4",
      "include_colab_link": true
    },
    "accelerator": "GPU",
    "widgets": {
      "application/vnd.jupyter.widget-state+json": {
        "2d2e9cb36af24663b4c374f850db1e54": {
          "model_module": "catboost-widget",
          "model_name": "CatboostWidgetModel",
          "model_module_version": "^1.0.0",
          "state": {
            "_dom_classes": [],
            "_model_module": "catboost-widget",
            "_model_module_version": "^1.0.0",
            "_model_name": "CatboostWidgetModel",
            "_view_count": null,
            "_view_module": "catboost-widget",
            "_view_module_version": "^1.0.0",
            "_view_name": "CatboostWidgetView",
            "data": {
              "catboost_info": {
                "path": "catboost_info",
                "name": "catboost_info",
                "content": {
                  "passed_iterations": 399,
                  "total_iterations": 400,
                  "data": {
                    "iterations": [
                      {
                        "learn": [
                          1.694368822
                        ],
                        "iteration": 0,
                        "passed_time": 0.009700618666,
                        "remaining_time": 3.870546848,
                        "test": [
                          1.692519403
                        ]
                      },
                      {
                        "learn": [
                          1.394355372
                        ],
                        "iteration": 1,
                        "passed_time": 0.01704805297,
                        "remaining_time": 3.392562541,
                        "test": [
                          1.382578494
                        ]
                      },
                      {
                        "learn": [
                          1.177997545
                        ],
                        "iteration": 2,
                        "passed_time": 0.0209999861,
                        "remaining_time": 2.77899816,
                        "test": [
                          1.167428104
                        ]
                      },
                      {
                        "learn": [
                          1.015984895
                        ],
                        "iteration": 3,
                        "passed_time": 0.02799338597,
                        "remaining_time": 2.771345211,
                        "test": [
                          1.009006678
                        ]
                      },
                      {
                        "learn": [
                          0.8819015182
                        ],
                        "iteration": 4,
                        "passed_time": 0.03495139081,
                        "remaining_time": 2.761159874,
                        "test": [
                          0.8721785476
                        ]
                      },
                      {
                        "learn": [
                          0.7723486965
                        ],
                        "iteration": 5,
                        "passed_time": 0.04372904943,
                        "remaining_time": 2.871540913,
                        "test": [
                          0.7653934042
                        ]
                      },
                      {
                        "learn": [
                          0.685757587
                        ],
                        "iteration": 6,
                        "passed_time": 0.05344300874,
                        "remaining_time": 3.000443205,
                        "test": [
                          0.6794958209
                        ]
                      },
                      {
                        "learn": [
                          0.6106262215
                        ],
                        "iteration": 7,
                        "passed_time": 0.06111433128,
                        "remaining_time": 2.994602233,
                        "test": [
                          0.6022576476
                        ]
                      },
                      {
                        "learn": [
                          0.5477250059
                        ],
                        "iteration": 8,
                        "passed_time": 0.06877840002,
                        "remaining_time": 2.988039379,
                        "test": [
                          0.5378293941
                        ]
                      },
                      {
                        "learn": [
                          0.4924006768
                        ],
                        "iteration": 9,
                        "passed_time": 0.07813061711,
                        "remaining_time": 3.047094067,
                        "test": [
                          0.4820716487
                        ]
                      },
                      {
                        "learn": [
                          0.4482210536
                        ],
                        "iteration": 10,
                        "passed_time": 0.08823579384,
                        "remaining_time": 3.120338527,
                        "test": [
                          0.436905325
                        ]
                      },
                      {
                        "learn": [
                          0.406244717
                        ],
                        "iteration": 11,
                        "passed_time": 0.09823909532,
                        "remaining_time": 3.176397415,
                        "test": [
                          0.3956947955
                        ]
                      },
                      {
                        "learn": [
                          0.3677979852
                        ],
                        "iteration": 12,
                        "passed_time": 0.1069447679,
                        "remaining_time": 3.183663475,
                        "test": [
                          0.357775895
                        ]
                      },
                      {
                        "learn": [
                          0.3355081596
                        ],
                        "iteration": 13,
                        "passed_time": 0.1124252897,
                        "remaining_time": 3.099725844,
                        "test": [
                          0.3268098036
                        ]
                      },
                      {
                        "learn": [
                          0.3059788138
                        ],
                        "iteration": 14,
                        "passed_time": 0.1182234469,
                        "remaining_time": 3.034401803,
                        "test": [
                          0.2980783341
                        ]
                      },
                      {
                        "learn": [
                          0.2797490002
                        ],
                        "iteration": 15,
                        "passed_time": 0.1236872871,
                        "remaining_time": 2.968494891,
                        "test": [
                          0.2724912379
                        ]
                      },
                      {
                        "learn": [
                          0.2572042625
                        ],
                        "iteration": 16,
                        "passed_time": 0.1275634113,
                        "remaining_time": 2.873928619,
                        "test": [
                          0.2502339741
                        ]
                      },
                      {
                        "learn": [
                          0.2368226828
                        ],
                        "iteration": 17,
                        "passed_time": 0.1330396962,
                        "remaining_time": 2.823397997,
                        "test": [
                          0.2301031463
                        ]
                      },
                      {
                        "learn": [
                          0.2182255495
                        ],
                        "iteration": 18,
                        "passed_time": 0.1369996701,
                        "remaining_time": 2.747203911,
                        "test": [
                          0.2114968947
                        ]
                      },
                      {
                        "learn": [
                          0.2008974263
                        ],
                        "iteration": 19,
                        "passed_time": 0.1440844795,
                        "remaining_time": 2.737605111,
                        "test": [
                          0.1941269798
                        ]
                      },
                      {
                        "learn": [
                          0.1848431297
                        ],
                        "iteration": 20,
                        "passed_time": 0.1516191548,
                        "remaining_time": 2.736364745,
                        "test": [
                          0.1780527487
                        ]
                      },
                      {
                        "learn": [
                          0.1714553826
                        ],
                        "iteration": 21,
                        "passed_time": 0.1626185273,
                        "remaining_time": 2.794081969,
                        "test": [
                          0.1649009491
                        ]
                      },
                      {
                        "learn": [
                          0.1586261308
                        ],
                        "iteration": 22,
                        "passed_time": 0.1759605515,
                        "remaining_time": 2.884222953,
                        "test": [
                          0.1521123889
                        ]
                      },
                      {
                        "learn": [
                          0.1475697627
                        ],
                        "iteration": 23,
                        "passed_time": 0.1889789324,
                        "remaining_time": 2.960669942,
                        "test": [
                          0.1411586715
                        ]
                      },
                      {
                        "learn": [
                          0.13814707
                        ],
                        "iteration": 24,
                        "passed_time": 0.1995815047,
                        "remaining_time": 2.993722571,
                        "test": [
                          0.1320460774
                        ]
                      },
                      {
                        "learn": [
                          0.1281197504
                        ],
                        "iteration": 25,
                        "passed_time": 0.209185081,
                        "remaining_time": 3.009046934,
                        "test": [
                          0.1223914552
                        ]
                      },
                      {
                        "learn": [
                          0.1196669399
                        ],
                        "iteration": 26,
                        "passed_time": 0.2197355677,
                        "remaining_time": 3.035606176,
                        "test": [
                          0.1141826706
                        ]
                      },
                      {
                        "learn": [
                          0.111821737
                        ],
                        "iteration": 27,
                        "passed_time": 0.2249310862,
                        "remaining_time": 2.988370145,
                        "test": [
                          0.106489961
                        ]
                      },
                      {
                        "learn": [
                          0.1046030613
                        ],
                        "iteration": 28,
                        "passed_time": 0.2304721043,
                        "remaining_time": 2.948453473,
                        "test": [
                          0.09953620533
                        ]
                      },
                      {
                        "learn": [
                          0.09794214253
                        ],
                        "iteration": 29,
                        "passed_time": 0.2366745766,
                        "remaining_time": 2.918986445,
                        "test": [
                          0.09308722842
                        ]
                      },
                      {
                        "learn": [
                          0.09179434781
                        ],
                        "iteration": 30,
                        "passed_time": 0.2491069824,
                        "remaining_time": 2.965176661,
                        "test": [
                          0.08690778485
                        ]
                      },
                      {
                        "learn": [
                          0.0858309735
                        ],
                        "iteration": 31,
                        "passed_time": 0.2598912498,
                        "remaining_time": 2.988749372,
                        "test": [
                          0.08100265598
                        ]
                      },
                      {
                        "learn": [
                          0.08060559856
                        ],
                        "iteration": 32,
                        "passed_time": 0.2697131151,
                        "remaining_time": 2.999536765,
                        "test": [
                          0.07590065113
                        ]
                      },
                      {
                        "learn": [
                          0.07565444729
                        ],
                        "iteration": 33,
                        "passed_time": 0.2796004908,
                        "remaining_time": 3.009817048,
                        "test": [
                          0.07099834963
                        ]
                      },
                      {
                        "learn": [
                          0.07158209828
                        ],
                        "iteration": 34,
                        "passed_time": 0.2894581292,
                        "remaining_time": 3.018634776,
                        "test": [
                          0.06727035973
                        ]
                      },
                      {
                        "learn": [
                          0.06729841158
                        ],
                        "iteration": 35,
                        "passed_time": 0.2994444141,
                        "remaining_time": 3.027715743,
                        "test": [
                          0.06312304385
                        ]
                      },
                      {
                        "learn": [
                          0.0639228803
                        ],
                        "iteration": 36,
                        "passed_time": 0.3094276811,
                        "remaining_time": 3.035736439,
                        "test": [
                          0.0599386411
                        ]
                      },
                      {
                        "learn": [
                          0.06043905885
                        ],
                        "iteration": 37,
                        "passed_time": 0.3199426188,
                        "remaining_time": 3.047874421,
                        "test": [
                          0.05664870864
                        ]
                      },
                      {
                        "learn": [
                          0.05710755688
                        ],
                        "iteration": 38,
                        "passed_time": 0.3306397605,
                        "remaining_time": 3.06053727,
                        "test": [
                          0.05342859498
                        ]
                      },
                      {
                        "learn": [
                          0.05396115013
                        ],
                        "iteration": 39,
                        "passed_time": 0.3393448781,
                        "remaining_time": 3.054103903,
                        "test": [
                          0.05038968658
                        ]
                      },
                      {
                        "learn": [
                          0.05129656298
                        ],
                        "iteration": 40,
                        "passed_time": 0.3487279673,
                        "remaining_time": 3.053496104,
                        "test": [
                          0.0479932556
                        ]
                      },
                      {
                        "learn": [
                          0.04864548312
                        ],
                        "iteration": 41,
                        "passed_time": 0.3611042896,
                        "remaining_time": 3.077984183,
                        "test": [
                          0.04548013997
                        ]
                      },
                      {
                        "learn": [
                          0.04607756893
                        ],
                        "iteration": 42,
                        "passed_time": 0.3700205685,
                        "remaining_time": 3.072031232,
                        "test": [
                          0.0429673481
                        ]
                      },
                      {
                        "learn": [
                          0.04401823108
                        ],
                        "iteration": 43,
                        "passed_time": 0.3788218185,
                        "remaining_time": 3.065012895,
                        "test": [
                          0.04099327971
                        ]
                      },
                      {
                        "learn": [
                          0.04206164331
                        ],
                        "iteration": 44,
                        "passed_time": 0.3903114098,
                        "remaining_time": 3.079123344,
                        "test": [
                          0.03907158941
                        ]
                      },
                      {
                        "learn": [
                          0.04026022486
                        ],
                        "iteration": 45,
                        "passed_time": 0.4003692278,
                        "remaining_time": 3.081102318,
                        "test": [
                          0.0373915489
                        ]
                      },
                      {
                        "learn": [
                          0.03824166708
                        ],
                        "iteration": 46,
                        "passed_time": 0.4097828732,
                        "remaining_time": 3.077730941,
                        "test": [
                          0.03555768794
                        ]
                      },
                      {
                        "learn": [
                          0.03644629726
                        ],
                        "iteration": 47,
                        "passed_time": 0.4187600895,
                        "remaining_time": 3.070907323,
                        "test": [
                          0.03392524944
                        ]
                      },
                      {
                        "learn": [
                          0.03501712958
                        ],
                        "iteration": 48,
                        "passed_time": 0.4280813784,
                        "remaining_time": 3.066460486,
                        "test": [
                          0.03256798246
                        ]
                      },
                      {
                        "learn": [
                          0.03371054529
                        ],
                        "iteration": 49,
                        "passed_time": 0.4358725847,
                        "remaining_time": 3.051108093,
                        "test": [
                          0.0313631575
                        ]
                      },
                      {
                        "learn": [
                          0.03231439304
                        ],
                        "iteration": 50,
                        "passed_time": 0.4433442466,
                        "remaining_time": 3.033865531,
                        "test": [
                          0.0300526079
                        ]
                      },
                      {
                        "learn": [
                          0.03119379744
                        ],
                        "iteration": 51,
                        "passed_time": 0.4530307267,
                        "remaining_time": 3.031821017,
                        "test": [
                          0.02908015755
                        ]
                      },
                      {
                        "learn": [
                          0.03000582956
                        ],
                        "iteration": 52,
                        "passed_time": 0.4626897775,
                        "remaining_time": 3.029308543,
                        "test": [
                          0.02797183062
                        ]
                      },
                      {
                        "learn": [
                          0.02887077798
                        ],
                        "iteration": 53,
                        "passed_time": 0.4733585409,
                        "remaining_time": 3.033001022,
                        "test": [
                          0.02693317082
                        ]
                      },
                      {
                        "learn": [
                          0.02775461931
                        ],
                        "iteration": 54,
                        "passed_time": 0.4834086112,
                        "remaining_time": 3.032290379,
                        "test": [
                          0.0258852825
                        ]
                      },
                      {
                        "learn": [
                          0.02671242504
                        ],
                        "iteration": 55,
                        "passed_time": 0.4948195796,
                        "remaining_time": 3.039605989,
                        "test": [
                          0.02491787166
                        ]
                      },
                      {
                        "learn": [
                          0.02556021449
                        ],
                        "iteration": 56,
                        "passed_time": 0.5042085317,
                        "remaining_time": 3.034096954,
                        "test": [
                          0.02384743414
                        ]
                      },
                      {
                        "learn": [
                          0.0245601486
                        ],
                        "iteration": 57,
                        "passed_time": 0.5149366656,
                        "remaining_time": 3.036350683,
                        "test": [
                          0.02289653759
                        ]
                      },
                      {
                        "learn": [
                          0.02399085417
                        ],
                        "iteration": 58,
                        "passed_time": 0.5251026206,
                        "remaining_time": 3.034915146,
                        "test": [
                          0.02236654729
                        ]
                      },
                      {
                        "learn": [
                          0.02313254991
                        ],
                        "iteration": 59,
                        "passed_time": 0.5345697866,
                        "remaining_time": 3.029228791,
                        "test": [
                          0.0215451368
                        ]
                      },
                      {
                        "learn": [
                          0.02243591992
                        ],
                        "iteration": 60,
                        "passed_time": 0.544169528,
                        "remaining_time": 3.024155246,
                        "test": [
                          0.02090375094
                        ]
                      },
                      {
                        "learn": [
                          0.02155438658
                        ],
                        "iteration": 61,
                        "passed_time": 0.5536133506,
                        "remaining_time": 3.018085686,
                        "test": [
                          0.02011208911
                        ]
                      },
                      {
                        "learn": [
                          0.02079444681
                        ],
                        "iteration": 62,
                        "passed_time": 0.5656336496,
                        "remaining_time": 3.02569111,
                        "test": [
                          0.01941480651
                        ]
                      },
                      {
                        "learn": [
                          0.02028060307
                        ],
                        "iteration": 63,
                        "passed_time": 0.5739938915,
                        "remaining_time": 3.01346793,
                        "test": [
                          0.0189292513
                        ]
                      },
                      {
                        "learn": [
                          0.01966444506
                        ],
                        "iteration": 64,
                        "passed_time": 0.5842430193,
                        "remaining_time": 3.011098638,
                        "test": [
                          0.0183866093
                        ]
                      },
                      {
                        "learn": [
                          0.01909852428
                        ],
                        "iteration": 65,
                        "passed_time": 0.5940666426,
                        "remaining_time": 3.006337252,
                        "test": [
                          0.01787764514
                        ]
                      },
                      {
                        "learn": [
                          0.01857883342
                        ],
                        "iteration": 66,
                        "passed_time": 0.6040525656,
                        "remaining_time": 3.002231408,
                        "test": [
                          0.01738338693
                        ]
                      },
                      {
                        "learn": [
                          0.01819085103
                        ],
                        "iteration": 67,
                        "passed_time": 0.6140377066,
                        "remaining_time": 2.997948803,
                        "test": [
                          0.01699631291
                        ]
                      },
                      {
                        "learn": [
                          0.0178470059
                        ],
                        "iteration": 68,
                        "passed_time": 0.6228396425,
                        "remaining_time": 2.987824952,
                        "test": [
                          0.01666003587
                        ]
                      },
                      {
                        "learn": [
                          0.01720670573
                        ],
                        "iteration": 69,
                        "passed_time": 0.6326150262,
                        "remaining_time": 2.982327981,
                        "test": [
                          0.01608291281
                        ]
                      },
                      {
                        "learn": [
                          0.01671476766
                        ],
                        "iteration": 70,
                        "passed_time": 0.6428415146,
                        "remaining_time": 2.978800821,
                        "test": [
                          0.01565338322
                        ]
                      },
                      {
                        "learn": [
                          0.01624244748
                        ],
                        "iteration": 71,
                        "passed_time": 0.6534690232,
                        "remaining_time": 2.976914439,
                        "test": [
                          0.01521294816
                        ]
                      },
                      {
                        "learn": [
                          0.01588099419
                        ],
                        "iteration": 72,
                        "passed_time": 0.6693838348,
                        "remaining_time": 2.998472794,
                        "test": [
                          0.01487494503
                        ]
                      },
                      {
                        "learn": [
                          0.01542231959
                        ],
                        "iteration": 73,
                        "passed_time": 0.6733546284,
                        "remaining_time": 2.96640012,
                        "test": [
                          0.01445783579
                        ]
                      },
                      {
                        "learn": [
                          0.01504490034
                        ],
                        "iteration": 74,
                        "passed_time": 0.6800106934,
                        "remaining_time": 2.946713005,
                        "test": [
                          0.01410649218
                        ]
                      },
                      {
                        "learn": [
                          0.01469883148
                        ],
                        "iteration": 75,
                        "passed_time": 0.6896833339,
                        "remaining_time": 2.94022895,
                        "test": [
                          0.01377672571
                        ]
                      },
                      {
                        "learn": [
                          0.01429516237
                        ],
                        "iteration": 76,
                        "passed_time": 0.6982790144,
                        "remaining_time": 2.929144437,
                        "test": [
                          0.01343152023
                        ]
                      },
                      {
                        "learn": [
                          0.01398648658
                        ],
                        "iteration": 77,
                        "passed_time": 0.7074200202,
                        "remaining_time": 2.920374955,
                        "test": [
                          0.01313394455
                        ]
                      },
                      {
                        "learn": [
                          0.01358378482
                        ],
                        "iteration": 78,
                        "passed_time": 0.7166762159,
                        "remaining_time": 2.912064118,
                        "test": [
                          0.01276301089
                        ]
                      },
                      {
                        "learn": [
                          0.01320672914
                        ],
                        "iteration": 79,
                        "passed_time": 0.7272737493,
                        "remaining_time": 2.909094997,
                        "test": [
                          0.01242154013
                        ]
                      },
                      {
                        "learn": [
                          0.01288992425
                        ],
                        "iteration": 80,
                        "passed_time": 0.7364888031,
                        "remaining_time": 2.900492941,
                        "test": [
                          0.0121452096
                        ]
                      },
                      {
                        "learn": [
                          0.01256932708
                        ],
                        "iteration": 81,
                        "passed_time": 0.7474685212,
                        "remaining_time": 2.898719387,
                        "test": [
                          0.01184986149
                        ]
                      },
                      {
                        "learn": [
                          0.01224185734
                        ],
                        "iteration": 82,
                        "passed_time": 0.7576725002,
                        "remaining_time": 2.893761236,
                        "test": [
                          0.01155116951
                        ]
                      },
                      {
                        "learn": [
                          0.01201968555
                        ],
                        "iteration": 83,
                        "passed_time": 0.76703578,
                        "remaining_time": 2.885515553,
                        "test": [
                          0.01134657169
                        ]
                      },
                      {
                        "learn": [
                          0.01169997768
                        ],
                        "iteration": 84,
                        "passed_time": 0.7755197936,
                        "remaining_time": 2.873985117,
                        "test": [
                          0.01102355902
                        ]
                      },
                      {
                        "learn": [
                          0.01140225186
                        ],
                        "iteration": 85,
                        "passed_time": 0.7864935648,
                        "remaining_time": 2.871616039,
                        "test": [
                          0.0107312391
                        ]
                      },
                      {
                        "learn": [
                          0.01114263042
                        ],
                        "iteration": 86,
                        "passed_time": 0.7936524162,
                        "remaining_time": 2.85532421,
                        "test": [
                          0.01050498458
                        ]
                      },
                      {
                        "learn": [
                          0.01090659148
                        ],
                        "iteration": 87,
                        "passed_time": 0.7985300913,
                        "remaining_time": 2.831152142,
                        "test": [
                          0.01026232154
                        ]
                      },
                      {
                        "learn": [
                          0.01065384329
                        ],
                        "iteration": 88,
                        "passed_time": 0.8033203198,
                        "remaining_time": 2.807108084,
                        "test": [
                          0.0100336561
                        ]
                      },
                      {
                        "learn": [
                          0.01051427824
                        ],
                        "iteration": 89,
                        "passed_time": 0.8080003322,
                        "remaining_time": 2.783112255,
                        "test": [
                          0.009905452534
                        ]
                      },
                      {
                        "learn": [
                          0.010377881
                        ],
                        "iteration": 90,
                        "passed_time": 0.8128647027,
                        "remaining_time": 2.760166957,
                        "test": [
                          0.009762111317
                        ]
                      },
                      {
                        "learn": [
                          0.01014683226
                        ],
                        "iteration": 91,
                        "passed_time": 0.8178398601,
                        "remaining_time": 2.737985619,
                        "test": [
                          0.009538720312
                        ]
                      },
                      {
                        "learn": [
                          0.009969212438
                        ],
                        "iteration": 92,
                        "passed_time": 0.8224951592,
                        "remaining_time": 2.715118429,
                        "test": [
                          0.009384764979
                        ]
                      },
                      {
                        "learn": [
                          0.009771564219
                        ],
                        "iteration": 93,
                        "passed_time": 0.8280940318,
                        "remaining_time": 2.695710359,
                        "test": [
                          0.009204441561
                        ]
                      },
                      {
                        "learn": [
                          0.009581128468
                        ],
                        "iteration": 94,
                        "passed_time": 0.834854389,
                        "remaining_time": 2.680321986,
                        "test": [
                          0.009034330931
                        ]
                      },
                      {
                        "learn": [
                          0.009479267862
                        ],
                        "iteration": 95,
                        "passed_time": 0.848128166,
                        "remaining_time": 2.685739192,
                        "test": [
                          0.008949364894
                        ]
                      },
                      {
                        "learn": [
                          0.009295629504
                        ],
                        "iteration": 96,
                        "passed_time": 0.8575005246,
                        "remaining_time": 2.678584113,
                        "test": [
                          0.008777492399
                        ]
                      },
                      {
                        "learn": [
                          0.009175521138
                        ],
                        "iteration": 97,
                        "passed_time": 0.8678835768,
                        "remaining_time": 2.674498369,
                        "test": [
                          0.008666446884
                        ]
                      },
                      {
                        "learn": [
                          0.008971351949
                        ],
                        "iteration": 98,
                        "passed_time": 0.8772808587,
                        "remaining_time": 2.667288267,
                        "test": [
                          0.008466808184
                        ]
                      },
                      {
                        "learn": [
                          0.008829108878
                        ],
                        "iteration": 99,
                        "passed_time": 0.8875090301,
                        "remaining_time": 2.66252709,
                        "test": [
                          0.008341952067
                        ]
                      },
                      {
                        "learn": [
                          0.008686011035
                        ],
                        "iteration": 100,
                        "passed_time": 0.8991925161,
                        "remaining_time": 2.661965964,
                        "test": [
                          0.008202506351
                        ]
                      },
                      {
                        "learn": [
                          0.008595438119
                        ],
                        "iteration": 101,
                        "passed_time": 0.9090126975,
                        "remaining_time": 2.655742979,
                        "test": [
                          0.00811251704
                        ]
                      },
                      {
                        "learn": [
                          0.00846976575
                        ],
                        "iteration": 102,
                        "passed_time": 0.920088627,
                        "remaining_time": 2.65307109,
                        "test": [
                          0.007994953157
                        ]
                      },
                      {
                        "learn": [
                          0.008335682744
                        ],
                        "iteration": 103,
                        "passed_time": 0.9305845542,
                        "remaining_time": 2.648586808,
                        "test": [
                          0.007861151576
                        ]
                      },
                      {
                        "learn": [
                          0.008192958459
                        ],
                        "iteration": 104,
                        "passed_time": 0.9419091229,
                        "remaining_time": 2.646316107,
                        "test": [
                          0.007721418818
                        ]
                      },
                      {
                        "learn": [
                          0.008050285069
                        ],
                        "iteration": 105,
                        "passed_time": 0.9530697011,
                        "remaining_time": 2.643419737,
                        "test": [
                          0.007575428446
                        ]
                      },
                      {
                        "learn": [
                          0.007908770736
                        ],
                        "iteration": 106,
                        "passed_time": 0.9617702548,
                        "remaining_time": 2.633632567,
                        "test": [
                          0.007455702784
                        ]
                      },
                      {
                        "learn": [
                          0.007774066602
                        ],
                        "iteration": 107,
                        "passed_time": 0.9710108679,
                        "remaining_time": 2.62532568,
                        "test": [
                          0.007337920023
                        ]
                      },
                      {
                        "learn": [
                          0.007708646201
                        ],
                        "iteration": 108,
                        "passed_time": 0.9797967403,
                        "remaining_time": 2.615787628,
                        "test": [
                          0.007280079584
                        ]
                      },
                      {
                        "learn": [
                          0.007604414919
                        ],
                        "iteration": 109,
                        "passed_time": 0.9907135141,
                        "remaining_time": 2.611881083,
                        "test": [
                          0.007181617553
                        ]
                      },
                      {
                        "learn": [
                          0.00751005744
                        ],
                        "iteration": 110,
                        "passed_time": 1.00384355,
                        "remaining_time": 2.613610684,
                        "test": [
                          0.007091595022
                        ]
                      },
                      {
                        "learn": [
                          0.007397839205
                        ],
                        "iteration": 111,
                        "passed_time": 1.012904495,
                        "remaining_time": 2.604611559,
                        "test": [
                          0.006979662634
                        ]
                      },
                      {
                        "learn": [
                          0.007321553228
                        ],
                        "iteration": 112,
                        "passed_time": 1.023376309,
                        "remaining_time": 2.599194696,
                        "test": [
                          0.006909359134
                        ]
                      },
                      {
                        "learn": [
                          0.007221124788
                        ],
                        "iteration": 113,
                        "passed_time": 1.033572522,
                        "remaining_time": 2.592997731,
                        "test": [
                          0.0068124239
                        ]
                      },
                      {
                        "learn": [
                          0.007152209466
                        ],
                        "iteration": 114,
                        "passed_time": 1.041678086,
                        "remaining_time": 2.581550039,
                        "test": [
                          0.006741312921
                        ]
                      },
                      {
                        "learn": [
                          0.00702077648
                        ],
                        "iteration": 115,
                        "passed_time": 1.056736496,
                        "remaining_time": 2.587182455,
                        "test": [
                          0.006627330934
                        ]
                      },
                      {
                        "learn": [
                          0.006912508805
                        ],
                        "iteration": 116,
                        "passed_time": 1.066919326,
                        "remaining_time": 2.580668114,
                        "test": [
                          0.00653042703
                        ]
                      },
                      {
                        "learn": [
                          0.006833903256
                        ],
                        "iteration": 117,
                        "passed_time": 1.078324262,
                        "remaining_time": 2.577012219,
                        "test": [
                          0.006456137814
                        ]
                      },
                      {
                        "learn": [
                          0.006748501686
                        ],
                        "iteration": 118,
                        "passed_time": 1.096508996,
                        "remaining_time": 2.589235529,
                        "test": [
                          0.006376893877
                        ]
                      },
                      {
                        "learn": [
                          0.00666607055
                        ],
                        "iteration": 119,
                        "passed_time": 1.101895022,
                        "remaining_time": 2.571088386,
                        "test": [
                          0.006297455104
                        ]
                      },
                      {
                        "learn": [
                          0.006605518446
                        ],
                        "iteration": 120,
                        "passed_time": 1.114014944,
                        "remaining_time": 2.568679085,
                        "test": [
                          0.006234977472
                        ]
                      },
                      {
                        "learn": [
                          0.006527260737
                        ],
                        "iteration": 121,
                        "passed_time": 1.129079972,
                        "remaining_time": 2.572821576,
                        "test": [
                          0.006163739476
                        ]
                      },
                      {
                        "learn": [
                          0.006470123343
                        ],
                        "iteration": 122,
                        "passed_time": 1.138505542,
                        "remaining_time": 2.563951506,
                        "test": [
                          0.006104770464
                        ]
                      },
                      {
                        "learn": [
                          0.00639608984
                        ],
                        "iteration": 123,
                        "passed_time": 1.153769848,
                        "remaining_time": 2.56806837,
                        "test": [
                          0.006033521083
                        ]
                      },
                      {
                        "learn": [
                          0.00632840081
                        ],
                        "iteration": 124,
                        "passed_time": 1.163818505,
                        "remaining_time": 2.560400711,
                        "test": [
                          0.005972458523
                        ]
                      },
                      {
                        "learn": [
                          0.006256145085
                        ],
                        "iteration": 125,
                        "passed_time": 1.175993035,
                        "remaining_time": 2.557318186,
                        "test": [
                          0.005908840515
                        ]
                      },
                      {
                        "learn": [
                          0.006206289627
                        ],
                        "iteration": 126,
                        "passed_time": 1.186122862,
                        "remaining_time": 2.549697175,
                        "test": [
                          0.00585658644
                        ]
                      },
                      {
                        "learn": [
                          0.006116105672
                        ],
                        "iteration": 127,
                        "passed_time": 1.197402282,
                        "remaining_time": 2.544479848,
                        "test": [
                          0.005779530095
                        ]
                      },
                      {
                        "learn": [
                          0.006036569156
                        ],
                        "iteration": 128,
                        "passed_time": 1.208810365,
                        "remaining_time": 2.539438829,
                        "test": [
                          0.005712846559
                        ]
                      },
                      {
                        "learn": [
                          0.005949484286
                        ],
                        "iteration": 129,
                        "passed_time": 1.21960249,
                        "remaining_time": 2.533020557,
                        "test": [
                          0.005637128363
                        ]
                      },
                      {
                        "learn": [
                          0.005866297183
                        ],
                        "iteration": 130,
                        "passed_time": 1.225383669,
                        "remaining_time": 2.516245854,
                        "test": [
                          0.005564798034
                        ]
                      },
                      {
                        "learn": [
                          0.005826359159
                        ],
                        "iteration": 131,
                        "passed_time": 1.231349107,
                        "remaining_time": 2.500011822,
                        "test": [
                          0.005526552535
                        ]
                      },
                      {
                        "learn": [
                          0.005744024854
                        ],
                        "iteration": 132,
                        "passed_time": 1.242866279,
                        "remaining_time": 2.495077417,
                        "test": [
                          0.005451666675
                        ]
                      },
                      {
                        "learn": [
                          0.005697842386
                        ],
                        "iteration": 133,
                        "passed_time": 1.252400281,
                        "remaining_time": 2.486108021,
                        "test": [
                          0.005408827886
                        ]
                      },
                      {
                        "learn": [
                          0.005643571092
                        ],
                        "iteration": 134,
                        "passed_time": 1.261298875,
                        "remaining_time": 2.475882976,
                        "test": [
                          0.005362077845
                        ]
                      },
                      {
                        "learn": [
                          0.005585000179
                        ],
                        "iteration": 135,
                        "passed_time": 1.270923003,
                        "remaining_time": 2.46708583,
                        "test": [
                          0.005310048802
                        ]
                      },
                      {
                        "learn": [
                          0.005530467451
                        ],
                        "iteration": 136,
                        "passed_time": 1.281069791,
                        "remaining_time": 2.459279964,
                        "test": [
                          0.005262759446
                        ]
                      },
                      {
                        "learn": [
                          0.005498397036
                        ],
                        "iteration": 137,
                        "passed_time": 1.287609958,
                        "remaining_time": 2.444592819,
                        "test": [
                          0.005232095803
                        ]
                      },
                      {
                        "learn": [
                          0.005439143304
                        ],
                        "iteration": 138,
                        "passed_time": 1.292542529,
                        "remaining_time": 2.427004317,
                        "test": [
                          0.005173905273
                        ]
                      },
                      {
                        "learn": [
                          0.005381095856
                        ],
                        "iteration": 139,
                        "passed_time": 1.29863874,
                        "remaining_time": 2.41175766,
                        "test": [
                          0.005117028239
                        ]
                      },
                      {
                        "learn": [
                          0.005334519839
                        ],
                        "iteration": 140,
                        "passed_time": 1.310905312,
                        "remaining_time": 2.407975006,
                        "test": [
                          0.005073147981
                        ]
                      },
                      {
                        "learn": [
                          0.005287351766
                        ],
                        "iteration": 141,
                        "passed_time": 1.325911737,
                        "remaining_time": 2.409050903,
                        "test": [
                          0.005031394903
                        ]
                      },
                      {
                        "learn": [
                          0.005232052478
                        ],
                        "iteration": 142,
                        "passed_time": 1.336364058,
                        "remaining_time": 2.401717223,
                        "test": [
                          0.00497711031
                        ]
                      },
                      {
                        "learn": [
                          0.005172085162
                        ],
                        "iteration": 143,
                        "passed_time": 1.345514405,
                        "remaining_time": 2.392025609,
                        "test": [
                          0.004925156332
                        ]
                      },
                      {
                        "learn": [
                          0.005123218214
                        ],
                        "iteration": 144,
                        "passed_time": 1.354516437,
                        "remaining_time": 2.38208063,
                        "test": [
                          0.004876331746
                        ]
                      },
                      {
                        "learn": [
                          0.005054614288
                        ],
                        "iteration": 145,
                        "passed_time": 1.363472506,
                        "remaining_time": 2.372068606,
                        "test": [
                          0.004812885348
                        ]
                      },
                      {
                        "learn": [
                          0.00502700378
                        ],
                        "iteration": 146,
                        "passed_time": 1.371930518,
                        "remaining_time": 2.361213748,
                        "test": [
                          0.004787597912
                        ]
                      },
                      {
                        "learn": [
                          0.004970190353
                        ],
                        "iteration": 147,
                        "passed_time": 1.382237344,
                        "remaining_time": 2.353539262,
                        "test": [
                          0.004730999993
                        ]
                      },
                      {
                        "learn": [
                          0.004942715748
                        ],
                        "iteration": 148,
                        "passed_time": 1.391144447,
                        "remaining_time": 2.343471518,
                        "test": [
                          0.004706418523
                        ]
                      },
                      {
                        "learn": [
                          0.004900664765
                        ],
                        "iteration": 149,
                        "passed_time": 1.400057232,
                        "remaining_time": 2.33342872,
                        "test": [
                          0.00466384222
                        ]
                      },
                      {
                        "learn": [
                          0.00482888881
                        ],
                        "iteration": 150,
                        "passed_time": 1.408899975,
                        "remaining_time": 2.323285389,
                        "test": [
                          0.004602705983
                        ]
                      },
                      {
                        "learn": [
                          0.004805242825
                        ],
                        "iteration": 151,
                        "passed_time": 1.418258699,
                        "remaining_time": 2.314001035,
                        "test": [
                          0.004580309077
                        ]
                      },
                      {
                        "learn": [
                          0.004773386079
                        ],
                        "iteration": 152,
                        "passed_time": 1.427939242,
                        "remaining_time": 2.305235247,
                        "test": [
                          0.004552425153
                        ]
                      },
                      {
                        "learn": [
                          0.004727626488
                        ],
                        "iteration": 153,
                        "passed_time": 1.434638644,
                        "remaining_time": 2.291695496,
                        "test": [
                          0.004507280704
                        ]
                      },
                      {
                        "learn": [
                          0.004701617969
                        ],
                        "iteration": 154,
                        "passed_time": 1.44027919,
                        "remaining_time": 2.276570333,
                        "test": [
                          0.004483006606
                        ]
                      },
                      {
                        "learn": [
                          0.004667059233
                        ],
                        "iteration": 155,
                        "passed_time": 1.445467553,
                        "remaining_time": 2.260859506,
                        "test": [
                          0.004453286575
                        ]
                      },
                      {
                        "learn": [
                          0.004627424415
                        ],
                        "iteration": 156,
                        "passed_time": 1.451727899,
                        "remaining_time": 2.246941907,
                        "test": [
                          0.00441350786
                        ]
                      },
                      {
                        "learn": [
                          0.004590110608
                        ],
                        "iteration": 157,
                        "passed_time": 1.456901609,
                        "remaining_time": 2.231456895,
                        "test": [
                          0.00438123189
                        ]
                      },
                      {
                        "learn": [
                          0.004540853486
                        ],
                        "iteration": 158,
                        "passed_time": 1.461548937,
                        "remaining_time": 2.215303735,
                        "test": [
                          0.004335948796
                        ]
                      },
                      {
                        "learn": [
                          0.004498867106
                        ],
                        "iteration": 159,
                        "passed_time": 1.466959338,
                        "remaining_time": 2.200439007,
                        "test": [
                          0.004294438831
                        ]
                      },
                      {
                        "learn": [
                          0.004470193655
                        ],
                        "iteration": 160,
                        "passed_time": 1.470997185,
                        "remaining_time": 2.183654206,
                        "test": [
                          0.004267102415
                        ]
                      },
                      {
                        "learn": [
                          0.004450612882
                        ],
                        "iteration": 161,
                        "passed_time": 1.476853492,
                        "remaining_time": 2.169698341,
                        "test": [
                          0.004251621864
                        ]
                      },
                      {
                        "learn": [
                          0.004434938391
                        ],
                        "iteration": 162,
                        "passed_time": 1.480706829,
                        "remaining_time": 2.152929561,
                        "test": [
                          0.004238793092
                        ]
                      },
                      {
                        "learn": [
                          0.004420637728
                        ],
                        "iteration": 163,
                        "passed_time": 1.488001228,
                        "remaining_time": 2.14127006,
                        "test": [
                          0.004226063072
                        ]
                      },
                      {
                        "learn": [
                          0.004380189646
                        ],
                        "iteration": 164,
                        "passed_time": 1.495415159,
                        "remaining_time": 2.129833712,
                        "test": [
                          0.004184082145
                        ]
                      },
                      {
                        "learn": [
                          0.004326147063
                        ],
                        "iteration": 165,
                        "passed_time": 1.505792081,
                        "remaining_time": 2.122622572,
                        "test": [
                          0.00413517802
                        ]
                      },
                      {
                        "learn": [
                          0.004272658786
                        ],
                        "iteration": 166,
                        "passed_time": 1.521278643,
                        "remaining_time": 2.122502538,
                        "test": [
                          0.004079225151
                        ]
                      },
                      {
                        "learn": [
                          0.004252350513
                        ],
                        "iteration": 167,
                        "passed_time": 1.529361582,
                        "remaining_time": 2.111975519,
                        "test": [
                          0.004059732204
                        ]
                      },
                      {
                        "learn": [
                          0.004233721029
                        ],
                        "iteration": 168,
                        "passed_time": 1.5357715,
                        "remaining_time": 2.09919063,
                        "test": [
                          0.004041304843
                        ]
                      },
                      {
                        "learn": [
                          0.004183832402
                        ],
                        "iteration": 169,
                        "passed_time": 1.551725341,
                        "remaining_time": 2.099393108,
                        "test": [
                          0.003993890593
                        ]
                      },
                      {
                        "learn": [
                          0.004158984763
                        ],
                        "iteration": 170,
                        "passed_time": 1.561624205,
                        "remaining_time": 2.091297912,
                        "test": [
                          0.003971293993
                        ]
                      },
                      {
                        "learn": [
                          0.004146887107
                        ],
                        "iteration": 171,
                        "passed_time": 1.571415322,
                        "remaining_time": 2.083038915,
                        "test": [
                          0.003961185638
                        ]
                      },
                      {
                        "learn": [
                          0.004106184103
                        ],
                        "iteration": 172,
                        "passed_time": 1.582190318,
                        "remaining_time": 2.076053192,
                        "test": [
                          0.003926167526
                        ]
                      },
                      {
                        "learn": [
                          0.004075321243
                        ],
                        "iteration": 173,
                        "passed_time": 1.593386184,
                        "remaining_time": 2.069570561,
                        "test": [
                          0.003893043188
                        ]
                      },
                      {
                        "learn": [
                          0.004059408316
                        ],
                        "iteration": 174,
                        "passed_time": 1.604162989,
                        "remaining_time": 2.062495271,
                        "test": [
                          0.003877211659
                        ]
                      },
                      {
                        "learn": [
                          0.004019720032
                        ],
                        "iteration": 175,
                        "passed_time": 1.616190118,
                        "remaining_time": 2.056969241,
                        "test": [
                          0.00384373537
                        ]
                      },
                      {
                        "learn": [
                          0.004004511547
                        ],
                        "iteration": 176,
                        "passed_time": 1.628017573,
                        "remaining_time": 2.051118186,
                        "test": [
                          0.003828554474
                        ]
                      },
                      {
                        "learn": [
                          0.003985185005
                        ],
                        "iteration": 177,
                        "passed_time": 1.639793708,
                        "remaining_time": 2.045135973,
                        "test": [
                          0.003808841436
                        ]
                      },
                      {
                        "learn": [
                          0.003954082789
                        ],
                        "iteration": 178,
                        "passed_time": 1.650678854,
                        "remaining_time": 2.037988976,
                        "test": [
                          0.003777994998
                        ]
                      },
                      {
                        "learn": [
                          0.003926594208
                        ],
                        "iteration": 179,
                        "passed_time": 1.659422177,
                        "remaining_time": 2.028182661,
                        "test": [
                          0.003754528639
                        ]
                      },
                      {
                        "learn": [
                          0.003894843431
                        ],
                        "iteration": 180,
                        "passed_time": 1.675125099,
                        "remaining_time": 2.026808821,
                        "test": [
                          0.003723083139
                        ]
                      },
                      {
                        "learn": [
                          0.003857637402
                        ],
                        "iteration": 181,
                        "passed_time": 1.685083054,
                        "remaining_time": 2.018396186,
                        "test": [
                          0.003691076701
                        ]
                      },
                      {
                        "learn": [
                          0.003822110835
                        ],
                        "iteration": 182,
                        "passed_time": 1.694750662,
                        "remaining_time": 2.009622369,
                        "test": [
                          0.003661551817
                        ]
                      },
                      {
                        "learn": [
                          0.003800795846
                        ],
                        "iteration": 183,
                        "passed_time": 1.704666552,
                        "remaining_time": 2.0011303,
                        "test": [
                          0.003641382509
                        ]
                      },
                      {
                        "learn": [
                          0.003786524392
                        ],
                        "iteration": 184,
                        "passed_time": 1.713331882,
                        "remaining_time": 1.991169485,
                        "test": [
                          0.003627871362
                        ]
                      },
                      {
                        "learn": [
                          0.00375101208
                        ],
                        "iteration": 185,
                        "passed_time": 1.723098488,
                        "remaining_time": 1.982489658,
                        "test": [
                          0.003597376106
                        ]
                      },
                      {
                        "learn": [
                          0.003708249657
                        ],
                        "iteration": 186,
                        "passed_time": 1.734827171,
                        "remaining_time": 1.976033088,
                        "test": [
                          0.003561624302
                        ]
                      },
                      {
                        "learn": [
                          0.003684451062
                        ],
                        "iteration": 187,
                        "passed_time": 1.749403672,
                        "remaining_time": 1.9727318,
                        "test": [
                          0.0035419425
                        ]
                      },
                      {
                        "learn": [
                          0.003661275688
                        ],
                        "iteration": 188,
                        "passed_time": 1.759795035,
                        "remaining_time": 1.964638901,
                        "test": [
                          0.003517025878
                        ]
                      },
                      {
                        "learn": [
                          0.003636191315
                        ],
                        "iteration": 189,
                        "passed_time": 1.769180457,
                        "remaining_time": 1.955409979,
                        "test": [
                          0.00349157931
                        ]
                      },
                      {
                        "learn": [
                          0.003618732419
                        ],
                        "iteration": 190,
                        "passed_time": 1.780888803,
                        "remaining_time": 1.948721256,
                        "test": [
                          0.003475841179
                        ]
                      },
                      {
                        "learn": [
                          0.003587801055
                        ],
                        "iteration": 191,
                        "passed_time": 1.788950238,
                        "remaining_time": 1.938029425,
                        "test": [
                          0.003447902833
                        ]
                      },
                      {
                        "learn": [
                          0.003579195146
                        ],
                        "iteration": 192,
                        "passed_time": 1.804852487,
                        "remaining_time": 1.935774429,
                        "test": [
                          0.003440464918
                        ]
                      },
                      {
                        "learn": [
                          0.003552027714
                        ],
                        "iteration": 193,
                        "passed_time": 1.814893958,
                        "remaining_time": 1.92715544,
                        "test": [
                          0.003413440988
                        ]
                      },
                      {
                        "learn": [
                          0.00353381532
                        ],
                        "iteration": 194,
                        "passed_time": 1.824816622,
                        "remaining_time": 1.918396962,
                        "test": [
                          0.003393772301
                        ]
                      },
                      {
                        "learn": [
                          0.003504851148
                        ],
                        "iteration": 195,
                        "passed_time": 1.833380719,
                        "remaining_time": 1.908212585,
                        "test": [
                          0.003369200989
                        ]
                      },
                      {
                        "learn": [
                          0.003478342822
                        ],
                        "iteration": 196,
                        "passed_time": 1.842442577,
                        "remaining_time": 1.898557579,
                        "test": [
                          0.003346723597
                        ]
                      },
                      {
                        "learn": [
                          0.003466022061
                        ],
                        "iteration": 197,
                        "passed_time": 1.851372653,
                        "remaining_time": 1.888774121,
                        "test": [
                          0.003334087082
                        ]
                      },
                      {
                        "learn": [
                          0.003430970533
                        ],
                        "iteration": 198,
                        "passed_time": 1.860270487,
                        "remaining_time": 1.878966672,
                        "test": [
                          0.003302664625
                        ]
                      },
                      {
                        "learn": [
                          0.00340242564
                        ],
                        "iteration": 199,
                        "passed_time": 1.868978623,
                        "remaining_time": 1.868978623,
                        "test": [
                          0.003278452726
                        ]
                      },
                      {
                        "learn": [
                          0.003382373572
                        ],
                        "iteration": 200,
                        "passed_time": 1.878453278,
                        "remaining_time": 1.859762201,
                        "test": [
                          0.003256214044
                        ]
                      },
                      {
                        "learn": [
                          0.00337369777
                        ],
                        "iteration": 201,
                        "passed_time": 1.889178932,
                        "remaining_time": 1.851769448,
                        "test": [
                          0.003248660091
                        ]
                      },
                      {
                        "learn": [
                          0.003362792391
                        ],
                        "iteration": 202,
                        "passed_time": 1.898985,
                        "remaining_time": 1.842857364,
                        "test": [
                          0.003238550673
                        ]
                      },
                      {
                        "learn": [
                          0.003354530243
                        ],
                        "iteration": 203,
                        "passed_time": 1.907743375,
                        "remaining_time": 1.832929909,
                        "test": [
                          0.00323179887
                        ]
                      },
                      {
                        "learn": [
                          0.003336731277
                        ],
                        "iteration": 204,
                        "passed_time": 1.919607469,
                        "remaining_time": 1.82596808,
                        "test": [
                          0.003215216732
                        ]
                      },
                      {
                        "learn": [
                          0.003305985967
                        ],
                        "iteration": 205,
                        "passed_time": 1.93063908,
                        "remaining_time": 1.818174667,
                        "test": [
                          0.00318689199
                        ]
                      },
                      {
                        "learn": [
                          0.003276896661
                        ],
                        "iteration": 206,
                        "passed_time": 1.940838016,
                        "remaining_time": 1.809573609,
                        "test": [
                          0.003163915385
                        ]
                      },
                      {
                        "learn": [
                          0.003262009499
                        ],
                        "iteration": 207,
                        "passed_time": 1.950944472,
                        "remaining_time": 1.80087182,
                        "test": [
                          0.00315192248
                        ]
                      },
                      {
                        "learn": [
                          0.003228240536
                        ],
                        "iteration": 208,
                        "passed_time": 1.960908791,
                        "remaining_time": 1.792026694,
                        "test": [
                          0.00312291326
                        ]
                      },
                      {
                        "learn": [
                          0.003205507226
                        ],
                        "iteration": 209,
                        "passed_time": 1.97086757,
                        "remaining_time": 1.783165896,
                        "test": [
                          0.003101806559
                        ]
                      },
                      {
                        "learn": [
                          0.003196089934
                        ],
                        "iteration": 210,
                        "passed_time": 1.989891482,
                        "remaining_time": 1.782414645,
                        "test": [
                          0.003092682866
                        ]
                      },
                      {
                        "learn": [
                          0.003171646042
                        ],
                        "iteration": 211,
                        "passed_time": 1.999592468,
                        "remaining_time": 1.773223509,
                        "test": [
                          0.003071865126
                        ]
                      },
                      {
                        "learn": [
                          0.003165007026
                        ],
                        "iteration": 212,
                        "passed_time": 2.009634437,
                        "remaining_time": 1.764326947,
                        "test": [
                          0.003066178988
                        ]
                      },
                      {
                        "learn": [
                          0.003156111501
                        ],
                        "iteration": 213,
                        "passed_time": 2.018939456,
                        "remaining_time": 1.754779153,
                        "test": [
                          0.003056873673
                        ]
                      },
                      {
                        "learn": [
                          0.00314670104
                        ],
                        "iteration": 214,
                        "passed_time": 2.0292589,
                        "remaining_time": 1.746106495,
                        "test": [
                          0.00304721642
                        ]
                      },
                      {
                        "learn": [
                          0.003131484589
                        ],
                        "iteration": 215,
                        "passed_time": 2.039172964,
                        "remaining_time": 1.737073265,
                        "test": [
                          0.003032548376
                        ]
                      },
                      {
                        "learn": [
                          0.003110050007
                        ],
                        "iteration": 216,
                        "passed_time": 2.049487591,
                        "remaining_time": 1.728369719,
                        "test": [
                          0.003010956859
                        ]
                      },
                      {
                        "learn": [
                          0.003089515302
                        ],
                        "iteration": 217,
                        "passed_time": 2.053715227,
                        "remaining_time": 1.714569593,
                        "test": [
                          0.002989669062
                        ]
                      },
                      {
                        "learn": [
                          0.00308294126
                        ],
                        "iteration": 218,
                        "passed_time": 2.060656484,
                        "remaining_time": 1.703099651,
                        "test": [
                          0.002984503901
                        ]
                      },
                      {
                        "learn": [
                          0.003074131342
                        ],
                        "iteration": 219,
                        "passed_time": 2.064684464,
                        "remaining_time": 1.689287288,
                        "test": [
                          0.002975303062
                        ]
                      },
                      {
                        "learn": [
                          0.003065233018
                        ],
                        "iteration": 220,
                        "passed_time": 2.071308282,
                        "remaining_time": 1.677665984,
                        "test": [
                          0.002966015137
                        ]
                      },
                      {
                        "learn": [
                          0.003058837886
                        ],
                        "iteration": 221,
                        "passed_time": 2.083531144,
                        "remaining_time": 1.670579025,
                        "test": [
                          0.00296032562
                        ]
                      },
                      {
                        "learn": [
                          0.003038900951
                        ],
                        "iteration": 222,
                        "passed_time": 2.092493852,
                        "remaining_time": 1.660858349,
                        "test": [
                          0.002940972181
                        ]
                      },
                      {
                        "learn": [
                          0.003019148309
                        ],
                        "iteration": 223,
                        "passed_time": 2.103247601,
                        "remaining_time": 1.652551686,
                        "test": [
                          0.00292081536
                        ]
                      },
                      {
                        "learn": [
                          0.003010664716
                        ],
                        "iteration": 224,
                        "passed_time": 2.112003352,
                        "remaining_time": 1.642669274,
                        "test": [
                          0.002912155962
                        ]
                      },
                      {
                        "learn": [
                          0.002995656162
                        ],
                        "iteration": 225,
                        "passed_time": 2.121452523,
                        "remaining_time": 1.633330704,
                        "test": [
                          0.002897835072
                        ]
                      },
                      {
                        "learn": [
                          0.002988021863
                        ],
                        "iteration": 226,
                        "passed_time": 2.131247227,
                        "remaining_time": 1.624254494,
                        "test": [
                          0.002889888678
                        ]
                      },
                      {
                        "learn": [
                          0.002968942462
                        ],
                        "iteration": 227,
                        "passed_time": 2.141958789,
                        "remaining_time": 1.615863648,
                        "test": [
                          0.002870409843
                        ]
                      },
                      {
                        "learn": [
                          0.002950103816
                        ],
                        "iteration": 228,
                        "passed_time": 2.150394782,
                        "remaining_time": 1.605753309,
                        "test": [
                          0.002852312599
                        ]
                      },
                      {
                        "learn": [
                          0.00293657002
                        ],
                        "iteration": 229,
                        "passed_time": 2.159413728,
                        "remaining_time": 1.596088408,
                        "test": [
                          0.002837179653
                        ]
                      },
                      {
                        "learn": [
                          0.002928218094
                        ],
                        "iteration": 230,
                        "passed_time": 2.168746623,
                        "remaining_time": 1.586658784,
                        "test": [
                          0.002830836367
                        ]
                      },
                      {
                        "learn": [
                          0.002912945906
                        ],
                        "iteration": 231,
                        "passed_time": 2.17809117,
                        "remaining_time": 1.577238433,
                        "test": [
                          0.002814994938
                        ]
                      },
                      {
                        "learn": [
                          0.002910255448
                        ],
                        "iteration": 232,
                        "passed_time": 2.187762681,
                        "remaining_time": 1.568053081,
                        "test": [
                          0.002812891506
                        ]
                      },
                      {
                        "learn": [
                          0.002890531499
                        ],
                        "iteration": 233,
                        "passed_time": 2.198728865,
                        "remaining_time": 1.559782015,
                        "test": [
                          0.0027948765
                        ]
                      },
                      {
                        "learn": [
                          0.002877787852
                        ],
                        "iteration": 234,
                        "passed_time": 2.209239113,
                        "remaining_time": 1.551167888,
                        "test": [
                          0.002783343243
                        ]
                      },
                      {
                        "learn": [
                          0.002865152974
                        ],
                        "iteration": 235,
                        "passed_time": 2.218614565,
                        "remaining_time": 1.541749104,
                        "test": [
                          0.002769634551
                        ]
                      },
                      {
                        "learn": [
                          0.002860837533
                        ],
                        "iteration": 236,
                        "passed_time": 2.229406437,
                        "remaining_time": 1.533304849,
                        "test": [
                          0.002766031452
                        ]
                      },
                      {
                        "learn": [
                          0.002844796503
                        ],
                        "iteration": 237,
                        "passed_time": 2.239907107,
                        "remaining_time": 1.524642653,
                        "test": [
                          0.002750231032
                        ]
                      },
                      {
                        "learn": [
                          0.002823530417
                        ],
                        "iteration": 238,
                        "passed_time": 2.249560781,
                        "remaining_time": 1.515394501,
                        "test": [
                          0.002730411494
                        ]
                      },
                      {
                        "learn": [
                          0.002812081465
                        ],
                        "iteration": 239,
                        "passed_time": 2.260026634,
                        "remaining_time": 1.506684423,
                        "test": [
                          0.002717958085
                        ]
                      },
                      {
                        "learn": [
                          0.002807184015
                        ],
                        "iteration": 240,
                        "passed_time": 2.268914905,
                        "remaining_time": 1.496918962,
                        "test": [
                          0.002713007104
                        ]
                      },
                      {
                        "learn": [
                          0.002784014576
                        ],
                        "iteration": 241,
                        "passed_time": 2.278988946,
                        "remaining_time": 1.487934932,
                        "test": [
                          0.002689900894
                        ]
                      },
                      {
                        "learn": [
                          0.002778594815
                        ],
                        "iteration": 242,
                        "passed_time": 2.287273017,
                        "remaining_time": 1.477785447,
                        "test": [
                          0.00268549667
                        ]
                      },
                      {
                        "learn": [
                          0.002771674947
                        ],
                        "iteration": 243,
                        "passed_time": 2.297344495,
                        "remaining_time": 1.468794021,
                        "test": [
                          0.002678851099
                        ]
                      },
                      {
                        "learn": [
                          0.002758847501
                        ],
                        "iteration": 244,
                        "passed_time": 2.306447989,
                        "remaining_time": 1.459181381,
                        "test": [
                          0.002667791569
                        ]
                      },
                      {
                        "learn": [
                          0.002740161351
                        ],
                        "iteration": 245,
                        "passed_time": 2.314793308,
                        "remaining_time": 1.44909825,
                        "test": [
                          0.002653049791
                        ]
                      },
                      {
                        "learn": [
                          0.002727632948
                        ],
                        "iteration": 246,
                        "passed_time": 2.325321126,
                        "remaining_time": 1.440381103,
                        "test": [
                          0.002641309646
                        ]
                      },
                      {
                        "learn": [
                          0.002709507493
                        ],
                        "iteration": 247,
                        "passed_time": 2.335926339,
                        "remaining_time": 1.431696789,
                        "test": [
                          0.002625662627
                        ]
                      },
                      {
                        "learn": [
                          0.002694204033
                        ],
                        "iteration": 248,
                        "passed_time": 2.345369703,
                        "remaining_time": 1.422292471,
                        "test": [
                          0.002610190362
                        ]
                      },
                      {
                        "learn": [
                          0.002682409041
                        ],
                        "iteration": 249,
                        "passed_time": 2.355660223,
                        "remaining_time": 1.413396134,
                        "test": [
                          0.002599774701
                        ]
                      },
                      {
                        "learn": [
                          0.002675454886
                        ],
                        "iteration": 250,
                        "passed_time": 2.36491655,
                        "remaining_time": 1.403874765,
                        "test": [
                          0.0025934725
                        ]
                      },
                      {
                        "learn": [
                          0.002659898691
                        ],
                        "iteration": 251,
                        "passed_time": 2.374340299,
                        "remaining_time": 1.394453826,
                        "test": [
                          0.00257817524
                        ]
                      },
                      {
                        "learn": [
                          0.002648352621
                        ],
                        "iteration": 252,
                        "passed_time": 2.384592069,
                        "remaining_time": 1.385513969,
                        "test": [
                          0.002569164704
                        ]
                      },
                      {
                        "learn": [
                          0.002630637155
                        ],
                        "iteration": 253,
                        "passed_time": 2.394204655,
                        "remaining_time": 1.376196377,
                        "test": [
                          0.002553511078
                        ]
                      },
                      {
                        "learn": [
                          0.002619495011
                        ],
                        "iteration": 254,
                        "passed_time": 2.405412193,
                        "remaining_time": 1.367783404,
                        "test": [
                          0.002544007079
                        ]
                      },
                      {
                        "learn": [
                          0.002608665803
                        ],
                        "iteration": 255,
                        "passed_time": 2.412532766,
                        "remaining_time": 1.357049681,
                        "test": [
                          0.002534745404
                        ]
                      },
                      {
                        "learn": [
                          0.002592684675
                        ],
                        "iteration": 256,
                        "passed_time": 2.420642327,
                        "remaining_time": 1.346894369,
                        "test": [
                          0.002520233948
                        ]
                      },
                      {
                        "learn": [
                          0.002586832723
                        ],
                        "iteration": 257,
                        "passed_time": 2.427497179,
                        "remaining_time": 1.336064339,
                        "test": [
                          0.002514635066
                        ]
                      },
                      {
                        "learn": [
                          0.00258106281
                        ],
                        "iteration": 258,
                        "passed_time": 2.437664515,
                        "remaining_time": 1.327068327,
                        "test": [
                          0.002508776677
                        ]
                      },
                      {
                        "learn": [
                          0.002575365364
                        ],
                        "iteration": 259,
                        "passed_time": 2.447645639,
                        "remaining_time": 1.317963037,
                        "test": [
                          0.00250299017
                        ]
                      },
                      {
                        "learn": [
                          0.002564008201
                        ],
                        "iteration": 260,
                        "passed_time": 2.457824068,
                        "remaining_time": 1.308956113,
                        "test": [
                          0.002491225684
                        ]
                      },
                      {
                        "learn": [
                          0.002554562774
                        ],
                        "iteration": 261,
                        "passed_time": 2.468191643,
                        "remaining_time": 1.300039873,
                        "test": [
                          0.002483333886
                        ]
                      },
                      {
                        "learn": [
                          0.002548958089
                        ],
                        "iteration": 262,
                        "passed_time": 2.478254025,
                        "remaining_time": 1.290953618,
                        "test": [
                          0.00247791918
                        ]
                      },
                      {
                        "learn": [
                          0.002543709557
                        ],
                        "iteration": 263,
                        "passed_time": 2.488765892,
                        "remaining_time": 1.28209152,
                        "test": [
                          0.002472378263
                        ]
                      },
                      {
                        "learn": [
                          0.002533478001
                        ],
                        "iteration": 264,
                        "passed_time": 2.498032577,
                        "remaining_time": 1.272582633,
                        "test": [
                          0.002462511059
                        ]
                      },
                      {
                        "learn": [
                          0.002526345632
                        ],
                        "iteration": 265,
                        "passed_time": 2.508326347,
                        "remaining_time": 1.263592972,
                        "test": [
                          0.002454936387
                        ]
                      },
                      {
                        "learn": [
                          0.002512944555
                        ],
                        "iteration": 266,
                        "passed_time": 2.517999133,
                        "remaining_time": 1.254284212,
                        "test": [
                          0.002442243305
                        ]
                      },
                      {
                        "learn": [
                          0.002503030314
                        ],
                        "iteration": 267,
                        "passed_time": 2.526537652,
                        "remaining_time": 1.244414067,
                        "test": [
                          0.002432880892
                        ]
                      },
                      {
                        "learn": [
                          0.002486477512
                        ],
                        "iteration": 268,
                        "passed_time": 2.536072433,
                        "remaining_time": 1.235038991,
                        "test": [
                          0.00241816469
                        ]
                      },
                      {
                        "learn": [
                          0.002481180449
                        ],
                        "iteration": 269,
                        "passed_time": 2.546304236,
                        "remaining_time": 1.225998336,
                        "test": [
                          0.002412778729
                        ]
                      },
                      {
                        "learn": [
                          0.002475947503
                        ],
                        "iteration": 270,
                        "passed_time": 2.556474295,
                        "remaining_time": 1.216919498,
                        "test": [
                          0.002407456421
                        ]
                      },
                      {
                        "learn": [
                          0.002465810957
                        ],
                        "iteration": 271,
                        "passed_time": 2.565609567,
                        "remaining_time": 1.207345679,
                        "test": [
                          0.002396366908
                        ]
                      },
                      {
                        "learn": [
                          0.002451295869
                        ],
                        "iteration": 272,
                        "passed_time": 2.575723038,
                        "remaining_time": 1.198230131,
                        "test": [
                          0.002381573902
                        ]
                      },
                      {
                        "learn": [
                          0.002438027895
                        ],
                        "iteration": 273,
                        "passed_time": 2.58624405,
                        "remaining_time": 1.189294709,
                        "test": [
                          0.002368222858
                        ]
                      },
                      {
                        "learn": [
                          0.00242282245
                        ],
                        "iteration": 274,
                        "passed_time": 2.59523491,
                        "remaining_time": 1.179652232,
                        "test": [
                          0.002353047451
                        ]
                      },
                      {
                        "learn": [
                          0.002413818666
                        ],
                        "iteration": 275,
                        "passed_time": 2.59969819,
                        "remaining_time": 1.167980346,
                        "test": [
                          0.002344642284
                        ]
                      },
                      {
                        "learn": [
                          0.002400369276
                        ],
                        "iteration": 276,
                        "passed_time": 2.605395605,
                        "remaining_time": 1.156908518,
                        "test": [
                          0.002330780687
                        ]
                      },
                      {
                        "learn": [
                          0.002385279624
                        ],
                        "iteration": 277,
                        "passed_time": 2.611180102,
                        "remaining_time": 1.14591357,
                        "test": [
                          0.002319462476
                        ]
                      },
                      {
                        "learn": [
                          0.002376146528
                        ],
                        "iteration": 278,
                        "passed_time": 2.616322675,
                        "remaining_time": 1.134677576,
                        "test": [
                          0.002312112374
                        ]
                      },
                      {
                        "learn": [
                          0.002371169481
                        ],
                        "iteration": 279,
                        "passed_time": 2.62251544,
                        "remaining_time": 1.123935189,
                        "test": [
                          0.002307039983
                        ]
                      },
                      {
                        "learn": [
                          0.0023612185
                        ],
                        "iteration": 280,
                        "passed_time": 2.629447507,
                        "remaining_time": 1.113538268,
                        "test": [
                          0.002296351009
                        ]
                      },
                      {
                        "learn": [
                          0.002352655285
                        ],
                        "iteration": 281,
                        "passed_time": 2.636911026,
                        "remaining_time": 1.103388302,
                        "test": [
                          0.00228697996
                        ]
                      },
                      {
                        "learn": [
                          0.002347624543
                        ],
                        "iteration": 282,
                        "passed_time": 2.646191291,
                        "remaining_time": 1.094008414,
                        "test": [
                          0.002282176068
                        ]
                      },
                      {
                        "learn": [
                          0.002342833472
                        ],
                        "iteration": 283,
                        "passed_time": 2.654887159,
                        "remaining_time": 1.08439053,
                        "test": [
                          0.002277580275
                        ]
                      },
                      {
                        "learn": [
                          0.002330697025
                        ],
                        "iteration": 284,
                        "passed_time": 2.667261479,
                        "remaining_time": 1.076263404,
                        "test": [
                          0.002264875799
                        ]
                      },
                      {
                        "learn": [
                          0.002325995885
                        ],
                        "iteration": 285,
                        "passed_time": 2.679010863,
                        "remaining_time": 1.067857477,
                        "test": [
                          0.002260103916
                        ]
                      },
                      {
                        "learn": [
                          0.002314046482
                        ],
                        "iteration": 286,
                        "passed_time": 2.688450403,
                        "remaining_time": 1.0585188,
                        "test": [
                          0.002248030735
                        ]
                      },
                      {
                        "learn": [
                          0.002303320567
                        ],
                        "iteration": 287,
                        "passed_time": 2.702042703,
                        "remaining_time": 1.050794384,
                        "test": [
                          0.002237290319
                        ]
                      },
                      {
                        "learn": [
                          0.002298730087
                        ],
                        "iteration": 288,
                        "passed_time": 2.712600148,
                        "remaining_time": 1.041863725,
                        "test": [
                          0.002232622329
                        ]
                      },
                      {
                        "learn": [
                          0.002292223598
                        ],
                        "iteration": 289,
                        "passed_time": 2.721514587,
                        "remaining_time": 1.032298636,
                        "test": [
                          0.002226413423
                        ]
                      },
                      {
                        "learn": [
                          0.002280013355
                        ],
                        "iteration": 290,
                        "passed_time": 2.730518854,
                        "remaining_time": 1.022771667,
                        "test": [
                          0.002216904243
                        ]
                      },
                      {
                        "learn": [
                          0.002267864015
                        ],
                        "iteration": 291,
                        "passed_time": 2.739412326,
                        "remaining_time": 1.013207299,
                        "test": [
                          0.002206382833
                        ]
                      },
                      {
                        "learn": [
                          0.002259814999
                        ],
                        "iteration": 292,
                        "passed_time": 2.748133906,
                        "remaining_time": 1.003584737,
                        "test": [
                          0.002199286608
                        ]
                      },
                      {
                        "learn": [
                          0.002257458877
                        ],
                        "iteration": 293,
                        "passed_time": 2.757227172,
                        "remaining_time": 0.9941023138,
                        "test": [
                          0.002197433822
                        ]
                      },
                      {
                        "learn": [
                          0.002246843675
                        ],
                        "iteration": 294,
                        "passed_time": 2.766153253,
                        "remaining_time": 0.9845630222,
                        "test": [
                          0.002186957563
                        ]
                      },
                      {
                        "learn": [
                          0.0022424181
                        ],
                        "iteration": 295,
                        "passed_time": 2.777301422,
                        "remaining_time": 0.9758086079,
                        "test": [
                          0.002182250881
                        ]
                      },
                      {
                        "learn": [
                          0.002230135269
                        ],
                        "iteration": 296,
                        "passed_time": 2.788217424,
                        "remaining_time": 0.9669575579,
                        "test": [
                          0.002171079082
                        ]
                      },
                      {
                        "learn": [
                          0.002219279941
                        ],
                        "iteration": 297,
                        "passed_time": 2.796142522,
                        "remaining_time": 0.9570689169,
                        "test": [
                          0.002160348322
                        ]
                      },
                      {
                        "learn": [
                          0.002208054615
                        ],
                        "iteration": 298,
                        "passed_time": 2.801230521,
                        "remaining_time": 0.946235059,
                        "test": [
                          0.002151860964
                        ]
                      },
                      {
                        "learn": [
                          0.002197508832
                        ],
                        "iteration": 299,
                        "passed_time": 2.807453146,
                        "remaining_time": 0.9358177153,
                        "test": [
                          0.002141430373
                        ]
                      },
                      {
                        "learn": [
                          0.002194586128
                        ],
                        "iteration": 300,
                        "passed_time": 2.812432764,
                        "remaining_time": 0.9250194142,
                        "test": [
                          0.002139375532
                        ]
                      },
                      {
                        "learn": [
                          0.002190277346
                        ],
                        "iteration": 301,
                        "passed_time": 2.816882838,
                        "remaining_time": 0.9140878083,
                        "test": [
                          0.00213495697
                        ]
                      },
                      {
                        "learn": [
                          0.00218584035
                        ],
                        "iteration": 302,
                        "passed_time": 2.821409965,
                        "remaining_time": 0.903223652,
                        "test": [
                          0.002131562511
                        ]
                      },
                      {
                        "learn": [
                          0.002175362059
                        ],
                        "iteration": 303,
                        "passed_time": 2.827603804,
                        "remaining_time": 0.8929275171,
                        "test": [
                          0.002122862288
                        ]
                      },
                      {
                        "learn": [
                          0.00216804294
                        ],
                        "iteration": 304,
                        "passed_time": 2.836436387,
                        "remaining_time": 0.8834801862,
                        "test": [
                          0.002115928435
                        ]
                      },
                      {
                        "learn": [
                          0.002158141851
                        ],
                        "iteration": 305,
                        "passed_time": 2.846455777,
                        "remaining_time": 0.8744014479,
                        "test": [
                          0.002105202183
                        ]
                      },
                      {
                        "learn": [
                          0.002154040759
                        ],
                        "iteration": 306,
                        "passed_time": 2.854945765,
                        "remaining_time": 0.8648532772,
                        "test": [
                          0.002101531364
                        ]
                      },
                      {
                        "learn": [
                          0.002150279275
                        ],
                        "iteration": 307,
                        "passed_time": 2.869580267,
                        "remaining_time": 0.8571473524,
                        "test": [
                          0.002097901785
                        ]
                      },
                      {
                        "learn": [
                          0.002146319237
                        ],
                        "iteration": 308,
                        "passed_time": 2.878888523,
                        "remaining_time": 0.8478280117,
                        "test": [
                          0.002093853583
                        ]
                      },
                      {
                        "learn": [
                          0.002139620967
                        ],
                        "iteration": 309,
                        "passed_time": 2.890101609,
                        "remaining_time": 0.8390617574,
                        "test": [
                          0.002085865439
                        ]
                      },
                      {
                        "learn": [
                          0.002136196467
                        ],
                        "iteration": 310,
                        "passed_time": 2.899615767,
                        "remaining_time": 0.8297935795,
                        "test": [
                          0.002083017244
                        ]
                      },
                      {
                        "learn": [
                          0.002128969617
                        ],
                        "iteration": 311,
                        "passed_time": 2.913439025,
                        "remaining_time": 0.8217392121,
                        "test": [
                          0.002075794575
                        ]
                      },
                      {
                        "learn": [
                          0.002119413481
                        ],
                        "iteration": 312,
                        "passed_time": 2.925280211,
                        "remaining_time": 0.8130970553,
                        "test": [
                          0.002067749382
                        ]
                      },
                      {
                        "learn": [
                          0.002116359025
                        ],
                        "iteration": 313,
                        "passed_time": 2.940535921,
                        "remaining_time": 0.8053697108,
                        "test": [
                          0.002065313982
                        ]
                      },
                      {
                        "learn": [
                          0.002112566408
                        ],
                        "iteration": 314,
                        "passed_time": 2.950162203,
                        "remaining_time": 0.796075515,
                        "test": [
                          0.002061743222
                        ]
                      },
                      {
                        "learn": [
                          0.002101752398
                        ],
                        "iteration": 315,
                        "passed_time": 2.961489999,
                        "remaining_time": 0.7872315188,
                        "test": [
                          0.002052760677
                        ]
                      },
                      {
                        "learn": [
                          0.002099715847
                        ],
                        "iteration": 316,
                        "passed_time": 2.970900503,
                        "remaining_time": 0.7778698477,
                        "test": [
                          0.002050858627
                        ]
                      },
                      {
                        "learn": [
                          0.002095606518
                        ],
                        "iteration": 317,
                        "passed_time": 2.993863152,
                        "remaining_time": 0.772002448,
                        "test": [
                          0.002046352114
                        ]
                      },
                      {
                        "learn": [
                          0.002091950538
                        ],
                        "iteration": 318,
                        "passed_time": 3.004342715,
                        "remaining_time": 0.7628581817,
                        "test": [
                          0.002042900493
                        ]
                      },
                      {
                        "learn": [
                          0.002088143965
                        ],
                        "iteration": 319,
                        "passed_time": 3.014427573,
                        "remaining_time": 0.7536068932,
                        "test": [
                          0.002038813803
                        ]
                      },
                      {
                        "learn": [
                          0.002085105921
                        ],
                        "iteration": 320,
                        "passed_time": 3.027007834,
                        "remaining_time": 0.7449645447,
                        "test": [
                          0.00203581698
                        ]
                      },
                      {
                        "learn": [
                          0.002075485195
                        ],
                        "iteration": 321,
                        "passed_time": 3.030874979,
                        "remaining_time": 0.7341871067,
                        "test": [
                          0.002026070667
                        ]
                      },
                      {
                        "learn": [
                          0.002066233804
                        ],
                        "iteration": 322,
                        "passed_time": 3.037227959,
                        "remaining_time": 0.7240450553,
                        "test": [
                          0.002016525737
                        ]
                      },
                      {
                        "learn": [
                          0.002053541291
                        ],
                        "iteration": 323,
                        "passed_time": 3.051685116,
                        "remaining_time": 0.7158273729,
                        "test": [
                          0.002005671233
                        ]
                      },
                      {
                        "learn": [
                          0.002043571155
                        ],
                        "iteration": 324,
                        "passed_time": 3.061421987,
                        "remaining_time": 0.706481997,
                        "test": [
                          0.00199668793
                        ]
                      },
                      {
                        "learn": [
                          0.002040057076
                        ],
                        "iteration": 325,
                        "passed_time": 3.071810301,
                        "remaining_time": 0.6972820929,
                        "test": [
                          0.001992898604
                        ]
                      },
                      {
                        "learn": [
                          0.002036815955
                        ],
                        "iteration": 326,
                        "passed_time": 3.08257896,
                        "remaining_time": 0.6881598289,
                        "test": [
                          0.001989456311
                        ]
                      },
                      {
                        "learn": [
                          0.002033448517
                        ],
                        "iteration": 327,
                        "passed_time": 3.09325461,
                        "remaining_time": 0.6790071095,
                        "test": [
                          0.001986027857
                        ]
                      },
                      {
                        "learn": [
                          0.002030049812
                        ],
                        "iteration": 328,
                        "passed_time": 3.098402414,
                        "remaining_time": 0.6686521926,
                        "test": [
                          0.001982194535
                        ]
                      },
                      {
                        "learn": [
                          0.002026671914
                        ],
                        "iteration": 329,
                        "passed_time": 3.103303387,
                        "remaining_time": 0.6582764761,
                        "test": [
                          0.001979160705
                        ]
                      },
                      {
                        "learn": [
                          0.002023399267
                        ],
                        "iteration": 330,
                        "passed_time": 3.112477199,
                        "remaining_time": 0.6488245521,
                        "test": [
                          0.001975826046
                        ]
                      },
                      {
                        "learn": [
                          0.002020305459
                        ],
                        "iteration": 331,
                        "passed_time": 3.122734174,
                        "remaining_time": 0.6395961561,
                        "test": [
                          0.001972534338
                        ]
                      },
                      {
                        "learn": [
                          0.002014844595
                        ],
                        "iteration": 332,
                        "passed_time": 3.132258996,
                        "remaining_time": 0.6302142725,
                        "test": [
                          0.001966147325
                        ]
                      },
                      {
                        "learn": [
                          0.002011366918
                        ],
                        "iteration": 333,
                        "passed_time": 3.142210583,
                        "remaining_time": 0.6209158637,
                        "test": [
                          0.001963035928
                        ]
                      },
                      {
                        "learn": [
                          0.002008719537
                        ],
                        "iteration": 334,
                        "passed_time": 3.151034281,
                        "remaining_time": 0.6113947113,
                        "test": [
                          0.001960507078
                        ]
                      },
                      {
                        "learn": [
                          0.002005520119
                        ],
                        "iteration": 335,
                        "passed_time": 3.160548095,
                        "remaining_time": 0.602009161,
                        "test": [
                          0.001957636587
                        ]
                      },
                      {
                        "learn": [
                          0.002002548396
                        ],
                        "iteration": 336,
                        "passed_time": 3.170119983,
                        "remaining_time": 0.5926337061,
                        "test": [
                          0.001954473533
                        ]
                      },
                      {
                        "learn": [
                          0.001994085441
                        ],
                        "iteration": 337,
                        "passed_time": 3.179886527,
                        "remaining_time": 0.5832927949,
                        "test": [
                          0.001945712715
                        ]
                      },
                      {
                        "learn": [
                          0.001993501277
                        ],
                        "iteration": 338,
                        "passed_time": 3.189545425,
                        "remaining_time": 0.5739300027,
                        "test": [
                          0.00194513721
                        ]
                      },
                      {
                        "learn": [
                          0.001988800368
                        ],
                        "iteration": 339,
                        "passed_time": 3.200728871,
                        "remaining_time": 0.5648345066,
                        "test": [
                          0.001939490891
                        ]
                      },
                      {
                        "learn": [
                          0.001979747743
                        ],
                        "iteration": 340,
                        "passed_time": 3.211222242,
                        "remaining_time": 0.5556073674,
                        "test": [
                          0.001930378124
                        ]
                      },
                      {
                        "learn": [
                          0.001976838285
                        ],
                        "iteration": 341,
                        "passed_time": 3.220526238,
                        "remaining_time": 0.5461711164,
                        "test": [
                          0.001927570123
                        ]
                      },
                      {
                        "learn": [
                          0.001967721467
                        ],
                        "iteration": 342,
                        "passed_time": 3.231252106,
                        "remaining_time": 0.5369719243,
                        "test": [
                          0.001920323993
                        ]
                      },
                      {
                        "learn": [
                          0.001961194637
                        ],
                        "iteration": 343,
                        "passed_time": 3.24113173,
                        "remaining_time": 0.5276260956,
                        "test": [
                          0.001912712792
                        ]
                      },
                      {
                        "learn": [
                          0.00195653331
                        ],
                        "iteration": 344,
                        "passed_time": 3.251860106,
                        "remaining_time": 0.5184124806,
                        "test": [
                          0.001907746352
                        ]
                      },
                      {
                        "learn": [
                          0.001951321572
                        ],
                        "iteration": 345,
                        "passed_time": 3.261775223,
                        "remaining_time": 0.509063185,
                        "test": [
                          0.001903327931
                        ]
                      },
                      {
                        "learn": [
                          0.001948212573
                        ],
                        "iteration": 346,
                        "passed_time": 3.271807231,
                        "remaining_time": 0.499728482,
                        "test": [
                          0.001900107543
                        ]
                      },
                      {
                        "learn": [
                          0.001945222624
                        ],
                        "iteration": 347,
                        "passed_time": 3.280820379,
                        "remaining_time": 0.4902375278,
                        "test": [
                          0.001897435972
                        ]
                      },
                      {
                        "learn": [
                          0.001938984268
                        ],
                        "iteration": 348,
                        "passed_time": 3.293364608,
                        "remaining_time": 0.4812653153,
                        "test": [
                          0.001892590719
                        ]
                      },
                      {
                        "learn": [
                          0.00193154002
                        ],
                        "iteration": 349,
                        "passed_time": 3.303101271,
                        "remaining_time": 0.4718716102,
                        "test": [
                          0.001886065301
                        ]
                      },
                      {
                        "learn": [
                          0.001923045953
                        ],
                        "iteration": 350,
                        "passed_time": 3.317453092,
                        "remaining_time": 0.4631202322,
                        "test": [
                          0.001877373948
                        ]
                      },
                      {
                        "learn": [
                          0.0019139604
                        ],
                        "iteration": 351,
                        "passed_time": 3.327915953,
                        "remaining_time": 0.4538067209,
                        "test": [
                          0.001868194692
                        ]
                      },
                      {
                        "learn": [
                          0.001908059424
                        ],
                        "iteration": 352,
                        "passed_time": 3.335892185,
                        "remaining_time": 0.4441556167,
                        "test": [
                          0.001862412508
                        ]
                      },
                      {
                        "learn": [
                          0.001905230213
                        ],
                        "iteration": 353,
                        "passed_time": 3.345160364,
                        "remaining_time": 0.4346818552,
                        "test": [
                          0.001859473909
                        ]
                      },
                      {
                        "learn": [
                          0.001899594719
                        ],
                        "iteration": 354,
                        "passed_time": 3.348927069,
                        "remaining_time": 0.424511882,
                        "test": [
                          0.001854668415
                        ]
                      },
                      {
                        "learn": [
                          0.001894018118
                        ],
                        "iteration": 355,
                        "passed_time": 3.352691308,
                        "remaining_time": 0.4143775774,
                        "test": [
                          0.001849237674
                        ]
                      },
                      {
                        "learn": [
                          0.001891380289
                        ],
                        "iteration": 356,
                        "passed_time": 3.356188515,
                        "remaining_time": 0.404246796,
                        "test": [
                          0.001846424139
                        ]
                      },
                      {
                        "learn": [
                          0.001888500299
                        ],
                        "iteration": 357,
                        "passed_time": 3.359603401,
                        "remaining_time": 0.3941434158,
                        "test": [
                          0.001843436109
                        ]
                      },
                      {
                        "learn": [
                          0.001885715091
                        ],
                        "iteration": 358,
                        "passed_time": 3.363235244,
                        "remaining_time": 0.3841020752,
                        "test": [
                          0.00184094341
                        ]
                      },
                      {
                        "learn": [
                          0.001883036342
                        ],
                        "iteration": 359,
                        "passed_time": 3.366908585,
                        "remaining_time": 0.3741009538,
                        "test": [
                          0.001838333106
                        ]
                      },
                      {
                        "learn": [
                          0.001880226672
                        ],
                        "iteration": 360,
                        "passed_time": 3.370570242,
                        "remaining_time": 0.3641336272,
                        "test": [
                          0.001835526458
                        ]
                      },
                      {
                        "learn": [
                          0.00187588842
                        ],
                        "iteration": 361,
                        "passed_time": 3.374233367,
                        "remaining_time": 0.3542012927,
                        "test": [
                          0.001831315134
                        ]
                      },
                      {
                        "learn": [
                          0.001873249183
                        ],
                        "iteration": 362,
                        "passed_time": 3.37786784,
                        "remaining_time": 0.3443005788,
                        "test": [
                          0.001828752183
                        ]
                      },
                      {
                        "learn": [
                          0.001865587666
                        ],
                        "iteration": 363,
                        "passed_time": 3.381312238,
                        "remaining_time": 0.3344154961,
                        "test": [
                          0.001820816222
                        ]
                      },
                      {
                        "learn": [
                          0.001857952813
                        ],
                        "iteration": 364,
                        "passed_time": 3.384997703,
                        "remaining_time": 0.3245888209,
                        "test": [
                          0.00181295643
                        ]
                      },
                      {
                        "learn": [
                          0.001855351962
                        ],
                        "iteration": 365,
                        "passed_time": 3.388428169,
                        "remaining_time": 0.3147720157,
                        "test": [
                          0.001810422386
                        ]
                      },
                      {
                        "learn": [
                          0.001847525308
                        ],
                        "iteration": 366,
                        "passed_time": 3.392048059,
                        "remaining_time": 0.3050070462,
                        "test": [
                          0.001802441642
                        ]
                      },
                      {
                        "learn": [
                          0.001845549193
                        ],
                        "iteration": 367,
                        "passed_time": 3.396384467,
                        "remaining_time": 0.2953377798,
                        "test": [
                          0.001800868355
                        ]
                      },
                      {
                        "learn": [
                          0.001843091939
                        ],
                        "iteration": 368,
                        "passed_time": 3.400451914,
                        "remaining_time": 0.2856748221,
                        "test": [
                          0.001798247265
                        ]
                      },
                      {
                        "learn": [
                          0.001838945573
                        ],
                        "iteration": 369,
                        "passed_time": 3.404670171,
                        "remaining_time": 0.2760543382,
                        "test": [
                          0.001794526255
                        ]
                      },
                      {
                        "learn": [
                          0.001833319428
                        ],
                        "iteration": 370,
                        "passed_time": 3.408687434,
                        "remaining_time": 0.2664472657,
                        "test": [
                          0.001789727867
                        ]
                      },
                      {
                        "learn": [
                          0.001831227777
                        ],
                        "iteration": 371,
                        "passed_time": 3.412980815,
                        "remaining_time": 0.2568910291,
                        "test": [
                          0.001787989168
                        ]
                      },
                      {
                        "learn": [
                          0.001828653977
                        ],
                        "iteration": 372,
                        "passed_time": 3.416851443,
                        "remaining_time": 0.2473324101,
                        "test": [
                          0.001785682646
                        ]
                      },
                      {
                        "learn": [
                          0.001821460867
                        ],
                        "iteration": 373,
                        "passed_time": 3.420399179,
                        "remaining_time": 0.2377817611,
                        "test": [
                          0.001778245083
                        ]
                      },
                      {
                        "learn": [
                          0.00181174899
                        ],
                        "iteration": 374,
                        "passed_time": 3.42402938,
                        "remaining_time": 0.2282686253,
                        "test": [
                          0.001769987288
                        ]
                      },
                      {
                        "learn": [
                          0.001809931557
                        ],
                        "iteration": 375,
                        "passed_time": 3.427684133,
                        "remaining_time": 0.2187883489,
                        "test": [
                          0.00176886605
                        ]
                      },
                      {
                        "learn": [
                          0.001807431602
                        ],
                        "iteration": 376,
                        "passed_time": 3.431274855,
                        "remaining_time": 0.2093350707,
                        "test": [
                          0.00176661862
                        ]
                      },
                      {
                        "learn": [
                          0.00179902225
                        ],
                        "iteration": 377,
                        "passed_time": 3.434988325,
                        "remaining_time": 0.1999199554,
                        "test": [
                          0.001759062865
                        ]
                      },
                      {
                        "learn": [
                          0.001796706931
                        ],
                        "iteration": 378,
                        "passed_time": 3.438557673,
                        "remaining_time": 0.1905269423,
                        "test": [
                          0.001756829455
                        ]
                      },
                      {
                        "learn": [
                          0.001794432044
                        ],
                        "iteration": 379,
                        "passed_time": 3.442101252,
                        "remaining_time": 0.1811632238,
                        "test": [
                          0.0017543751
                        ]
                      },
                      {
                        "learn": [
                          0.001788418576
                        ],
                        "iteration": 380,
                        "passed_time": 3.445856609,
                        "remaining_time": 0.1718406183,
                        "test": [
                          0.0017479625
                        ]
                      },
                      {
                        "learn": [
                          0.001781136036
                        ],
                        "iteration": 381,
                        "passed_time": 3.449681463,
                        "remaining_time": 0.1625504354,
                        "test": [
                          0.00174073947
                        ]
                      },
                      {
                        "learn": [
                          0.001772735936
                        ],
                        "iteration": 382,
                        "passed_time": 3.453226967,
                        "remaining_time": 0.1532763928,
                        "test": [
                          0.001733343266
                        ]
                      },
                      {
                        "learn": [
                          0.001768290844
                        ],
                        "iteration": 383,
                        "passed_time": 3.456787011,
                        "remaining_time": 0.1440327921,
                        "test": [
                          0.001728618961
                        ]
                      },
                      {
                        "learn": [
                          0.001761328857
                        ],
                        "iteration": 384,
                        "passed_time": 3.461117961,
                        "remaining_time": 0.1348487517,
                        "test": [
                          0.001721377039
                        ]
                      },
                      {
                        "learn": [
                          0.001758807477
                        ],
                        "iteration": 385,
                        "passed_time": 3.464867551,
                        "remaining_time": 0.1256687713,
                        "test": [
                          0.001718687291
                        ]
                      },
                      {
                        "learn": [
                          0.001756390319
                        ],
                        "iteration": 386,
                        "passed_time": 3.468524192,
                        "remaining_time": 0.1165137325,
                        "test": [
                          0.001716229343
                        ]
                      },
                      {
                        "learn": [
                          0.001751490915
                        ],
                        "iteration": 387,
                        "passed_time": 3.472212636,
                        "remaining_time": 0.1073880197,
                        "test": [
                          0.001711437652
                        ]
                      },
                      {
                        "learn": [
                          0.00174651058
                        ],
                        "iteration": 388,
                        "passed_time": 3.475966109,
                        "remaining_time": 0.09829210078,
                        "test": [
                          0.00170635942
                        ]
                      },
                      {
                        "learn": [
                          0.00173673434
                        ],
                        "iteration": 389,
                        "passed_time": 3.479701308,
                        "remaining_time": 0.08922311047,
                        "test": [
                          0.0016975213
                        ]
                      },
                      {
                        "learn": [
                          0.001734485732
                        ],
                        "iteration": 390,
                        "passed_time": 3.483206505,
                        "remaining_time": 0.0801761088,
                        "test": [
                          0.001695062821
                        ]
                      },
                      {
                        "learn": [
                          0.001724066881
                        ],
                        "iteration": 391,
                        "passed_time": 3.486964498,
                        "remaining_time": 0.07116254077,
                        "test": [
                          0.001684920898
                        ]
                      },
                      {
                        "learn": [
                          0.001714987276
                        ],
                        "iteration": 392,
                        "passed_time": 3.490988685,
                        "remaining_time": 0.06218046004,
                        "test": [
                          0.001677175337
                        ]
                      },
                      {
                        "learn": [
                          0.001712899423
                        ],
                        "iteration": 393,
                        "passed_time": 3.494805729,
                        "remaining_time": 0.05322039181,
                        "test": [
                          0.001675159343
                        ]
                      },
                      {
                        "learn": [
                          0.001704775231
                        ],
                        "iteration": 394,
                        "passed_time": 3.498543363,
                        "remaining_time": 0.04428535902,
                        "test": [
                          0.001667823251
                        ]
                      },
                      {
                        "learn": [
                          0.001696412793
                        ],
                        "iteration": 395,
                        "passed_time": 3.502309171,
                        "remaining_time": 0.03537686031,
                        "test": [
                          0.001659750024
                        ]
                      },
                      {
                        "learn": [
                          0.001694296408
                        ],
                        "iteration": 396,
                        "passed_time": 3.505994919,
                        "remaining_time": 0.02649366438,
                        "test": [
                          0.001657663413
                        ]
                      },
                      {
                        "learn": [
                          0.001690718058
                        ],
                        "iteration": 397,
                        "passed_time": 3.510041939,
                        "remaining_time": 0.0176384017,
                        "test": [
                          0.00165433922
                        ]
                      },
                      {
                        "learn": [
                          0.001684045872
                        ],
                        "iteration": 398,
                        "passed_time": 3.513906688,
                        "remaining_time": 0.00880678368,
                        "test": [
                          0.001648540492
                        ]
                      },
                      {
                        "learn": [
                          0.001677643726
                        ],
                        "iteration": 399,
                        "passed_time": 3.517664805,
                        "remaining_time": 0,
                        "test": [
                          0.001643081475
                        ]
                      }
                    ],
                    "meta": {
                      "test_sets": [
                        "test"
                      ],
                      "test_metrics": [
                        {
                          "best_value": "Min",
                          "name": "MultiClass"
                        }
                      ],
                      "learn_metrics": [
                        {
                          "best_value": "Min",
                          "name": "MultiClass"
                        }
                      ],
                      "launch_mode": "Train",
                      "parameters": "",
                      "iteration_count": 400,
                      "learn_sets": [
                        "learn"
                      ],
                      "name": "experiment"
                    }
                  }
                }
              }
            },
            "layout": "IPY_MODEL_761a2fab245c47bc95acfa7ad7737ec4"
          }
        }
      }
    }
  },
  "nbformat": 4,
  "nbformat_minor": 5
}