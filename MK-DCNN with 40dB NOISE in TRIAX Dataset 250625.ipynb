{
  "cells": [
    {
      "cell_type": "markdown",
      "metadata": {
        "id": "view-in-github",
        "colab_type": "text"
      },
      "source": [
        "<a href=\"https://colab.research.google.com/github/promckkon/MK-DCNN/blob/main/MK-DCNN%20with%2040dB%20NOISE%20in%20TRIAX%20Dataset%20250625.ipynb\" target=\"_parent\"><img src=\"https://colab.research.google.com/assets/colab-badge.svg\" alt=\"Open In Colab\"/></a>"
      ]
    },
    {
      "cell_type": "code",
      "source": [
        "from google.colab import drive\n",
        "drive.mount('/content/drive')"
      ],
      "metadata": {
        "colab": {
          "base_uri": "https://localhost:8080/"
        },
        "id": "_JTcgOD9s-GR",
        "outputId": "00d2579a-7386-49cd-ccca-22c2f43491c1"
      },
      "id": "_JTcgOD9s-GR",
      "execution_count": 1,
      "outputs": [
        {
          "output_type": "stream",
          "name": "stdout",
          "text": [
            "Drive already mounted at /content/drive; to attempt to forcibly remount, call drive.mount(\"/content/drive\", force_remount=True).\n"
          ]
        }
      ]
    },
    {
      "cell_type": "code",
      "execution_count": 2,
      "id": "1132b641",
      "metadata": {
        "id": "1132b641"
      },
      "outputs": [],
      "source": [
        "import scipy.io\n",
        "import seaborn as sns\n",
        "import numpy as np\n",
        "import pandas as pd\n",
        "import os\n",
        "import matplotlib.pyplot as plt"
      ]
    },
    {
      "cell_type": "markdown",
      "source": [
        "Dataset Input"
      ],
      "metadata": {
        "id": "2haV_hKQQOg-"
      },
      "id": "2haV_hKQQOg-"
    },
    {
      "cell_type": "code",
      "source": [
        "df=pd.DataFrame(columns=['DE_data','fault']) # upload the dataset on googledrive\n",
        "\n",
        "for root, dirs, files in os.walk(\"/content/drive/MyDrive/TRIAX_with_NOISE/TRIAX_NOISE_Dataset_40db\", topdown=False):\n",
        "    for file_name in files:\n",
        "        path = os.path.join(root, file_name)\n",
        "        print(path)\n",
        "\n",
        "        mat = scipy.io.loadmat(path)\n",
        "\n",
        "        key_name = list(mat.keys())[3]\n",
        "        DE_data = mat.get(key_name)\n",
        "        fault = np.full((len(DE_data), 1), file_name[:-4])\n",
        "\n",
        "        df_temp = pd.DataFrame({'DE_data':np.ravel(DE_data) , 'fault':np.ravel(fault)})\n",
        "\n",
        "        df = pd.concat([df,df_temp],axis=0)\n",
        "        print(df['fault'].unique())\n",
        "\n",
        "df.to_csv('/content/drive/MyDrive/MK DCNN TRIAX/NOISE_40_faults.csv',index=False)"
      ],
      "metadata": {
        "colab": {
          "base_uri": "https://localhost:8080/"
        },
        "id": "sXzSVyy_ylsF",
        "outputId": "fc53c68e-9967-490d-c2c8-f151085e9960"
      },
      "id": "sXzSVyy_ylsF",
      "execution_count": 3,
      "outputs": [
        {
          "output_type": "stream",
          "name": "stdout",
          "text": [
            "/content/drive/MyDrive/TRIAX_with_NOISE/TRIAX_NOISE_Dataset_40db/F8_Normal_40db.mat\n",
            "['F8_Normal_40db']\n",
            "/content/drive/MyDrive/TRIAX_with_NOISE/TRIAX_NOISE_Dataset_40db/F7_OR017_40db.mat\n",
            "['F8_Normal_40db' 'F7_OR017_40db']\n",
            "/content/drive/MyDrive/TRIAX_with_NOISE/TRIAX_NOISE_Dataset_40db/F1_IR007_40db.mat\n",
            "['F8_Normal_40db' 'F7_OR017_40db' 'F1_IR007_40db']\n",
            "/content/drive/MyDrive/TRIAX_with_NOISE/TRIAX_NOISE_Dataset_40db/F2_IR009_40db.mat\n"
          ]
        },
        {
          "output_type": "stream",
          "name": "stderr",
          "text": [
            "/tmp/ipython-input-3-3643886688.py:16: FutureWarning: The behavior of DataFrame concatenation with empty or all-NA entries is deprecated. In a future version, this will no longer exclude empty or all-NA columns when determining the result dtypes. To retain the old behavior, exclude the relevant entries before the concat operation.\n",
            "  df = pd.concat([df,df_temp],axis=0)\n"
          ]
        },
        {
          "output_type": "stream",
          "name": "stdout",
          "text": [
            "['F8_Normal_40db' 'F7_OR017_40db' 'F1_IR007_40db' 'F2_IR009_40db']\n",
            "/content/drive/MyDrive/TRIAX_with_NOISE/TRIAX_NOISE_Dataset_40db/F3_IR013_40db.mat\n",
            "['F8_Normal_40db' 'F7_OR017_40db' 'F1_IR007_40db' 'F2_IR009_40db'\n",
            " 'F3_IR013_40db']\n",
            "/content/drive/MyDrive/TRIAX_with_NOISE/TRIAX_NOISE_Dataset_40db/F4_IR017_40db.mat\n",
            "['F8_Normal_40db' 'F7_OR017_40db' 'F1_IR007_40db' 'F2_IR009_40db'\n",
            " 'F3_IR013_40db' 'F4_IR017_40db']\n",
            "/content/drive/MyDrive/TRIAX_with_NOISE/TRIAX_NOISE_Dataset_40db/F6_OR013_40db.mat\n",
            "['F8_Normal_40db' 'F7_OR017_40db' 'F1_IR007_40db' 'F2_IR009_40db'\n",
            " 'F3_IR013_40db' 'F4_IR017_40db' 'F6_OR013_40db']\n",
            "/content/drive/MyDrive/TRIAX_with_NOISE/TRIAX_NOISE_Dataset_40db/F5_OR009_40db.mat\n",
            "['F8_Normal_40db' 'F7_OR017_40db' 'F1_IR007_40db' 'F2_IR009_40db'\n",
            " 'F3_IR013_40db' 'F4_IR017_40db' 'F6_OR013_40db' 'F5_OR009_40db']\n"
          ]
        }
      ]
    },
    {
      "cell_type": "markdown",
      "source": [
        "# Multi-Kernel Deep 1D-CNN"
      ],
      "metadata": {
        "id": "2d0arbB2knS8"
      },
      "id": "2d0arbB2knS8"
    },
    {
      "cell_type": "code",
      "source": [
        "pip install tensorflow"
      ],
      "metadata": {
        "colab": {
          "base_uri": "https://localhost:8080/"
        },
        "id": "-dsJA9B5YVAW",
        "outputId": "1e5ec8ec-f4c6-4049-8f7b-ea0d2bee4dab"
      },
      "id": "-dsJA9B5YVAW",
      "execution_count": 4,
      "outputs": [
        {
          "output_type": "stream",
          "name": "stdout",
          "text": [
            "Requirement already satisfied: tensorflow in /usr/local/lib/python3.11/dist-packages (2.18.0)\n",
            "Requirement already satisfied: absl-py>=1.0.0 in /usr/local/lib/python3.11/dist-packages (from tensorflow) (1.4.0)\n",
            "Requirement already satisfied: astunparse>=1.6.0 in /usr/local/lib/python3.11/dist-packages (from tensorflow) (1.6.3)\n",
            "Requirement already satisfied: flatbuffers>=24.3.25 in /usr/local/lib/python3.11/dist-packages (from tensorflow) (25.2.10)\n",
            "Requirement already satisfied: gast!=0.5.0,!=0.5.1,!=0.5.2,>=0.2.1 in /usr/local/lib/python3.11/dist-packages (from tensorflow) (0.6.0)\n",
            "Requirement already satisfied: google-pasta>=0.1.1 in /usr/local/lib/python3.11/dist-packages (from tensorflow) (0.2.0)\n",
            "Requirement already satisfied: libclang>=13.0.0 in /usr/local/lib/python3.11/dist-packages (from tensorflow) (18.1.1)\n",
            "Requirement already satisfied: opt-einsum>=2.3.2 in /usr/local/lib/python3.11/dist-packages (from tensorflow) (3.4.0)\n",
            "Requirement already satisfied: packaging in /usr/local/lib/python3.11/dist-packages (from tensorflow) (24.2)\n",
            "Requirement already satisfied: protobuf!=4.21.0,!=4.21.1,!=4.21.2,!=4.21.3,!=4.21.4,!=4.21.5,<6.0.0dev,>=3.20.3 in /usr/local/lib/python3.11/dist-packages (from tensorflow) (5.29.5)\n",
            "Requirement already satisfied: requests<3,>=2.21.0 in /usr/local/lib/python3.11/dist-packages (from tensorflow) (2.32.3)\n",
            "Requirement already satisfied: setuptools in /usr/local/lib/python3.11/dist-packages (from tensorflow) (75.2.0)\n",
            "Requirement already satisfied: six>=1.12.0 in /usr/local/lib/python3.11/dist-packages (from tensorflow) (1.17.0)\n",
            "Requirement already satisfied: termcolor>=1.1.0 in /usr/local/lib/python3.11/dist-packages (from tensorflow) (3.1.0)\n",
            "Requirement already satisfied: typing-extensions>=3.6.6 in /usr/local/lib/python3.11/dist-packages (from tensorflow) (4.14.0)\n",
            "Requirement already satisfied: wrapt>=1.11.0 in /usr/local/lib/python3.11/dist-packages (from tensorflow) (1.17.2)\n",
            "Requirement already satisfied: grpcio<2.0,>=1.24.3 in /usr/local/lib/python3.11/dist-packages (from tensorflow) (1.73.0)\n",
            "Requirement already satisfied: tensorboard<2.19,>=2.18 in /usr/local/lib/python3.11/dist-packages (from tensorflow) (2.18.0)\n",
            "Requirement already satisfied: keras>=3.5.0 in /usr/local/lib/python3.11/dist-packages (from tensorflow) (3.8.0)\n",
            "Requirement already satisfied: numpy<2.1.0,>=1.26.0 in /usr/local/lib/python3.11/dist-packages (from tensorflow) (2.0.2)\n",
            "Requirement already satisfied: h5py>=3.11.0 in /usr/local/lib/python3.11/dist-packages (from tensorflow) (3.14.0)\n",
            "Requirement already satisfied: ml-dtypes<0.5.0,>=0.4.0 in /usr/local/lib/python3.11/dist-packages (from tensorflow) (0.4.1)\n",
            "Requirement already satisfied: tensorflow-io-gcs-filesystem>=0.23.1 in /usr/local/lib/python3.11/dist-packages (from tensorflow) (0.37.1)\n",
            "Requirement already satisfied: wheel<1.0,>=0.23.0 in /usr/local/lib/python3.11/dist-packages (from astunparse>=1.6.0->tensorflow) (0.45.1)\n",
            "Requirement already satisfied: rich in /usr/local/lib/python3.11/dist-packages (from keras>=3.5.0->tensorflow) (13.9.4)\n",
            "Requirement already satisfied: namex in /usr/local/lib/python3.11/dist-packages (from keras>=3.5.0->tensorflow) (0.1.0)\n",
            "Requirement already satisfied: optree in /usr/local/lib/python3.11/dist-packages (from keras>=3.5.0->tensorflow) (0.16.0)\n",
            "Requirement already satisfied: charset-normalizer<4,>=2 in /usr/local/lib/python3.11/dist-packages (from requests<3,>=2.21.0->tensorflow) (3.4.2)\n",
            "Requirement already satisfied: idna<4,>=2.5 in /usr/local/lib/python3.11/dist-packages (from requests<3,>=2.21.0->tensorflow) (3.10)\n",
            "Requirement already satisfied: urllib3<3,>=1.21.1 in /usr/local/lib/python3.11/dist-packages (from requests<3,>=2.21.0->tensorflow) (2.4.0)\n",
            "Requirement already satisfied: certifi>=2017.4.17 in /usr/local/lib/python3.11/dist-packages (from requests<3,>=2.21.0->tensorflow) (2025.6.15)\n",
            "Requirement already satisfied: markdown>=2.6.8 in /usr/local/lib/python3.11/dist-packages (from tensorboard<2.19,>=2.18->tensorflow) (3.8)\n",
            "Requirement already satisfied: tensorboard-data-server<0.8.0,>=0.7.0 in /usr/local/lib/python3.11/dist-packages (from tensorboard<2.19,>=2.18->tensorflow) (0.7.2)\n",
            "Requirement already satisfied: werkzeug>=1.0.1 in /usr/local/lib/python3.11/dist-packages (from tensorboard<2.19,>=2.18->tensorflow) (3.1.3)\n",
            "Requirement already satisfied: MarkupSafe>=2.1.1 in /usr/local/lib/python3.11/dist-packages (from werkzeug>=1.0.1->tensorboard<2.19,>=2.18->tensorflow) (3.0.2)\n",
            "Requirement already satisfied: markdown-it-py>=2.2.0 in /usr/local/lib/python3.11/dist-packages (from rich->keras>=3.5.0->tensorflow) (3.0.0)\n",
            "Requirement already satisfied: pygments<3.0.0,>=2.13.0 in /usr/local/lib/python3.11/dist-packages (from rich->keras>=3.5.0->tensorflow) (2.19.1)\n",
            "Requirement already satisfied: mdurl~=0.1 in /usr/local/lib/python3.11/dist-packages (from markdown-it-py>=2.2.0->rich->keras>=3.5.0->tensorflow) (0.1.2)\n"
          ]
        }
      ]
    },
    {
      "cell_type": "code",
      "source": [
        "from sklearn.preprocessing import LabelEncoder\n",
        "from tensorflow.keras.utils import to_categorical\n",
        "\n",
        "\n",
        "# Total target rows\n",
        "TARGET_ROWS = 1800\n",
        "\n",
        "# Estimate the total number of samples across all fault types\n",
        "total_samples = sum(len(df[df['fault'] == f]) for f in df['fault'].unique())\n",
        "\n",
        "# Calculate suitable window size and stride\n",
        "num_faults = 9\n",
        "average_samples_per_fault = total_samples / num_faults\n",
        "approx_windows_per_fault = TARGET_ROWS / num_faults\n",
        "stride_ratio = 0.8  # Initial stride/window ratio\n",
        "\n",
        "win_len = int(average_samples_per_fault / approx_windows_per_fault)\n",
        "stride = int(win_len * stride_ratio)\n",
        "\n",
        "X=[]\n",
        "Y=[]\n",
        "\n",
        "\n",
        "for k in df['fault'].unique():\n",
        "\n",
        "    df_temp_2 = df[df['fault']==k]\n",
        "\n",
        "    for i in np.arange(0,len(df_temp_2)-(win_len),stride):\n",
        "        temp = df_temp_2.iloc[i:i+win_len,:-1].values\n",
        "        temp = temp.reshape((1,-1))\n",
        "        X.append(temp)\n",
        "        Y.append(df_temp_2.iloc[i+win_len,-1])\n",
        "\n",
        "X=np.array(X)\n",
        "X=X.reshape((X.shape[0],-1,1))\n",
        "#X = np.repeat(X, 3, axis=3) # To repeat into 3 chanel format\n",
        "\n",
        "\n",
        "Y=np.array(Y)\n",
        "encoder= LabelEncoder()\n",
        "encoder.fit(Y)\n",
        "encoded_Y = encoder.transform(Y)\n",
        "OHE_Y = to_categorical(encoded_Y)"
      ],
      "metadata": {
        "id": "5s5vUXrUM2BH"
      },
      "id": "5s5vUXrUM2BH",
      "execution_count": 5,
      "outputs": []
    },
    {
      "cell_type": "code",
      "source": [
        "from sklearn.model_selection import train_test_split\n",
        "X_train,X_test,y_train,y_test = train_test_split(X,OHE_Y,test_size=0.3,shuffle=True)"
      ],
      "metadata": {
        "id": "PreHyG2yMkTA"
      },
      "id": "PreHyG2yMkTA",
      "execution_count": 6,
      "outputs": []
    },
    {
      "cell_type": "code",
      "source": [
        "import tensorflow as tf\n",
        "from tensorflow.keras.models import Model\n",
        "from tensorflow.keras.layers import Input, Dense, Dropout, Flatten, Conv1D, MaxPooling1D, concatenate\n",
        "from tensorflow.keras import backend as K\n",
        "\n",
        "# --- Custom Physics-Informed Loss Function ---\n",
        "def custom_loss(y_true, y_pred):\n",
        "    # Standard categorical crossentropy\n",
        "    loss = K.categorical_crossentropy(y_true, y_pred)\n",
        "\n",
        "    # Physics-Informed Term: penalize rapid class probability changes\n",
        "    # Ensure y_pred is at least 2D for slicing\n",
        "    if K.ndim(y_pred) < 2:\n",
        "        y_pred = K.expand_dims(y_pred, axis=-1)\n",
        "\n",
        "    # Ensure y_pred has more than one class dimension to compute diff\n",
        "    if K.int_shape(y_pred)[-1] > 1:\n",
        "        diff = y_pred[:, 1:] - y_pred[:, :-1]\n",
        "        squared_diff = tf.square(diff)\n",
        "        physics_term = tf.reduce_mean(squared_diff)\n",
        "    else:\n",
        "        physics_term = 0.0 # No physics term if only one class\n",
        "\n",
        "\n",
        "    # Total loss = classification loss + regularization term\n",
        "    total_loss = loss + 0.01 * physics_term  # 0.01 is tunable\n",
        "\n",
        "    return total_loss\n",
        "\n",
        "# --- Model Definition ---\n",
        "# no_classes = len(df['fault'].unique()) # Original line that caused 10 classes\n",
        "no_classes = len(encoder.classes_) # Use the encoder to get the correct number of classes\n",
        "print(f\"Number of output classes (no_classes): {no_classes}\") # Add print statement to verify\n",
        "\n",
        "input_shape = (X.shape[1], X.shape[2])  # Example: (784, 1)\n",
        "\n",
        "# Head 1\n",
        "inputs1 = Input(shape=input_shape)\n",
        "conv1 = Conv1D(filters=64, kernel_size=200, activation='relu')(inputs1)\n",
        "drop1 = Dropout(0.5)(conv1)\n",
        "pool1 = MaxPooling1D(pool_size=20)(drop1)\n",
        "flat1 = Flatten()(pool1)\n",
        "\n",
        "# Head 2\n",
        "inputs2 = Input(shape=input_shape)\n",
        "conv2 = Conv1D(filters=64, kernel_size=100, activation='relu')(inputs2)\n",
        "drop2 = Dropout(0.5)(conv2)\n",
        "pool2 = MaxPooling1D(pool_size=10)(drop2)\n",
        "flat2 = Flatten()(pool2)\n",
        "\n",
        "# Head 3\n",
        "inputs3 = Input(shape=input_shape)\n",
        "conv3 = Conv1D(filters=64, kernel_size=50, activation='relu')(inputs3)\n",
        "drop3 = Dropout(0.5)(conv3)\n",
        "pool3 = MaxPooling1D(pool_size=5)(drop3)\n",
        "flat3 = Flatten()(pool3)\n",
        "\n",
        "# Merge all feature paths\n",
        "merged = concatenate([flat1, flat2, flat3])\n",
        "\n",
        "# Fully connected interpretation\n",
        "dense1 = Dense(100, activation='relu')(merged)\n",
        "outputs = Dense(no_classes, activation='softmax')(dense1)\n",
        "\n",
        "# Build and compile model with custom loss\n",
        "cnn_model = Model(inputs=[inputs1, inputs2, inputs3], outputs=outputs)\n",
        "cnn_model.compile(optimizer='adam', loss=custom_loss, metrics=['accuracy'])\n",
        "\n",
        "# Model summary\n",
        "cnn_model.summary()"
      ],
      "metadata": {
        "colab": {
          "base_uri": "https://localhost:8080/",
          "height": 863
        },
        "id": "kB3uGh-8J7no",
        "outputId": "a7935d97-77f9-4333-9379-5435aee70ebe"
      },
      "id": "kB3uGh-8J7no",
      "execution_count": 7,
      "outputs": [
        {
          "output_type": "stream",
          "name": "stdout",
          "text": [
            "Number of output classes (no_classes): 8\n"
          ]
        },
        {
          "output_type": "display_data",
          "data": {
            "text/plain": [
              "\u001b[1mModel: \"functional\"\u001b[0m\n"
            ],
            "text/html": [
              "<pre style=\"white-space:pre;overflow-x:auto;line-height:normal;font-family:Menlo,'DejaVu Sans Mono',consolas,'Courier New',monospace\"><span style=\"font-weight: bold\">Model: \"functional\"</span>\n",
              "</pre>\n"
            ]
          },
          "metadata": {}
        },
        {
          "output_type": "display_data",
          "data": {
            "text/plain": [
              "┏━━━━━━━━━━━━━━━━━━━━━┳━━━━━━━━━━━━━━━━━━━┳━━━━━━━━━━━━┳━━━━━━━━━━━━━━━━━━━┓\n",
              "┃\u001b[1m \u001b[0m\u001b[1mLayer (type)       \u001b[0m\u001b[1m \u001b[0m┃\u001b[1m \u001b[0m\u001b[1mOutput Shape     \u001b[0m\u001b[1m \u001b[0m┃\u001b[1m \u001b[0m\u001b[1m   Param #\u001b[0m\u001b[1m \u001b[0m┃\u001b[1m \u001b[0m\u001b[1mConnected to     \u001b[0m\u001b[1m \u001b[0m┃\n",
              "┡━━━━━━━━━━━━━━━━━━━━━╇━━━━━━━━━━━━━━━━━━━╇━━━━━━━━━━━━╇━━━━━━━━━━━━━━━━━━━┩\n",
              "│ input_layer         │ (\u001b[38;5;45mNone\u001b[0m, \u001b[38;5;34m614\u001b[0m, \u001b[38;5;34m1\u001b[0m)    │          \u001b[38;5;34m0\u001b[0m │ -                 │\n",
              "│ (\u001b[38;5;33mInputLayer\u001b[0m)        │                   │            │                   │\n",
              "├─────────────────────┼───────────────────┼────────────┼───────────────────┤\n",
              "│ input_layer_1       │ (\u001b[38;5;45mNone\u001b[0m, \u001b[38;5;34m614\u001b[0m, \u001b[38;5;34m1\u001b[0m)    │          \u001b[38;5;34m0\u001b[0m │ -                 │\n",
              "│ (\u001b[38;5;33mInputLayer\u001b[0m)        │                   │            │                   │\n",
              "├─────────────────────┼───────────────────┼────────────┼───────────────────┤\n",
              "│ input_layer_2       │ (\u001b[38;5;45mNone\u001b[0m, \u001b[38;5;34m614\u001b[0m, \u001b[38;5;34m1\u001b[0m)    │          \u001b[38;5;34m0\u001b[0m │ -                 │\n",
              "│ (\u001b[38;5;33mInputLayer\u001b[0m)        │                   │            │                   │\n",
              "├─────────────────────┼───────────────────┼────────────┼───────────────────┤\n",
              "│ conv1d (\u001b[38;5;33mConv1D\u001b[0m)     │ (\u001b[38;5;45mNone\u001b[0m, \u001b[38;5;34m415\u001b[0m, \u001b[38;5;34m64\u001b[0m)   │     \u001b[38;5;34m12,864\u001b[0m │ input_layer[\u001b[38;5;34m0\u001b[0m][\u001b[38;5;34m0\u001b[0m] │\n",
              "├─────────────────────┼───────────────────┼────────────┼───────────────────┤\n",
              "│ conv1d_1 (\u001b[38;5;33mConv1D\u001b[0m)   │ (\u001b[38;5;45mNone\u001b[0m, \u001b[38;5;34m515\u001b[0m, \u001b[38;5;34m64\u001b[0m)   │      \u001b[38;5;34m6,464\u001b[0m │ input_layer_1[\u001b[38;5;34m0\u001b[0m]… │\n",
              "├─────────────────────┼───────────────────┼────────────┼───────────────────┤\n",
              "│ conv1d_2 (\u001b[38;5;33mConv1D\u001b[0m)   │ (\u001b[38;5;45mNone\u001b[0m, \u001b[38;5;34m565\u001b[0m, \u001b[38;5;34m64\u001b[0m)   │      \u001b[38;5;34m3,264\u001b[0m │ input_layer_2[\u001b[38;5;34m0\u001b[0m]… │\n",
              "├─────────────────────┼───────────────────┼────────────┼───────────────────┤\n",
              "│ dropout (\u001b[38;5;33mDropout\u001b[0m)   │ (\u001b[38;5;45mNone\u001b[0m, \u001b[38;5;34m415\u001b[0m, \u001b[38;5;34m64\u001b[0m)   │          \u001b[38;5;34m0\u001b[0m │ conv1d[\u001b[38;5;34m0\u001b[0m][\u001b[38;5;34m0\u001b[0m]      │\n",
              "├─────────────────────┼───────────────────┼────────────┼───────────────────┤\n",
              "│ dropout_1 (\u001b[38;5;33mDropout\u001b[0m) │ (\u001b[38;5;45mNone\u001b[0m, \u001b[38;5;34m515\u001b[0m, \u001b[38;5;34m64\u001b[0m)   │          \u001b[38;5;34m0\u001b[0m │ conv1d_1[\u001b[38;5;34m0\u001b[0m][\u001b[38;5;34m0\u001b[0m]    │\n",
              "├─────────────────────┼───────────────────┼────────────┼───────────────────┤\n",
              "│ dropout_2 (\u001b[38;5;33mDropout\u001b[0m) │ (\u001b[38;5;45mNone\u001b[0m, \u001b[38;5;34m565\u001b[0m, \u001b[38;5;34m64\u001b[0m)   │          \u001b[38;5;34m0\u001b[0m │ conv1d_2[\u001b[38;5;34m0\u001b[0m][\u001b[38;5;34m0\u001b[0m]    │\n",
              "├─────────────────────┼───────────────────┼────────────┼───────────────────┤\n",
              "│ max_pooling1d       │ (\u001b[38;5;45mNone\u001b[0m, \u001b[38;5;34m20\u001b[0m, \u001b[38;5;34m64\u001b[0m)    │          \u001b[38;5;34m0\u001b[0m │ dropout[\u001b[38;5;34m0\u001b[0m][\u001b[38;5;34m0\u001b[0m]     │\n",
              "│ (\u001b[38;5;33mMaxPooling1D\u001b[0m)      │                   │            │                   │\n",
              "├─────────────────────┼───────────────────┼────────────┼───────────────────┤\n",
              "│ max_pooling1d_1     │ (\u001b[38;5;45mNone\u001b[0m, \u001b[38;5;34m51\u001b[0m, \u001b[38;5;34m64\u001b[0m)    │          \u001b[38;5;34m0\u001b[0m │ dropout_1[\u001b[38;5;34m0\u001b[0m][\u001b[38;5;34m0\u001b[0m]   │\n",
              "│ (\u001b[38;5;33mMaxPooling1D\u001b[0m)      │                   │            │                   │\n",
              "├─────────────────────┼───────────────────┼────────────┼───────────────────┤\n",
              "│ max_pooling1d_2     │ (\u001b[38;5;45mNone\u001b[0m, \u001b[38;5;34m113\u001b[0m, \u001b[38;5;34m64\u001b[0m)   │          \u001b[38;5;34m0\u001b[0m │ dropout_2[\u001b[38;5;34m0\u001b[0m][\u001b[38;5;34m0\u001b[0m]   │\n",
              "│ (\u001b[38;5;33mMaxPooling1D\u001b[0m)      │                   │            │                   │\n",
              "├─────────────────────┼───────────────────┼────────────┼───────────────────┤\n",
              "│ flatten (\u001b[38;5;33mFlatten\u001b[0m)   │ (\u001b[38;5;45mNone\u001b[0m, \u001b[38;5;34m1280\u001b[0m)      │          \u001b[38;5;34m0\u001b[0m │ max_pooling1d[\u001b[38;5;34m0\u001b[0m]… │\n",
              "├─────────────────────┼───────────────────┼────────────┼───────────────────┤\n",
              "│ flatten_1 (\u001b[38;5;33mFlatten\u001b[0m) │ (\u001b[38;5;45mNone\u001b[0m, \u001b[38;5;34m3264\u001b[0m)      │          \u001b[38;5;34m0\u001b[0m │ max_pooling1d_1[\u001b[38;5;34m…\u001b[0m │\n",
              "├─────────────────────┼───────────────────┼────────────┼───────────────────┤\n",
              "│ flatten_2 (\u001b[38;5;33mFlatten\u001b[0m) │ (\u001b[38;5;45mNone\u001b[0m, \u001b[38;5;34m7232\u001b[0m)      │          \u001b[38;5;34m0\u001b[0m │ max_pooling1d_2[\u001b[38;5;34m…\u001b[0m │\n",
              "├─────────────────────┼───────────────────┼────────────┼───────────────────┤\n",
              "│ concatenate         │ (\u001b[38;5;45mNone\u001b[0m, \u001b[38;5;34m11776\u001b[0m)     │          \u001b[38;5;34m0\u001b[0m │ flatten[\u001b[38;5;34m0\u001b[0m][\u001b[38;5;34m0\u001b[0m],    │\n",
              "│ (\u001b[38;5;33mConcatenate\u001b[0m)       │                   │            │ flatten_1[\u001b[38;5;34m0\u001b[0m][\u001b[38;5;34m0\u001b[0m],  │\n",
              "│                     │                   │            │ flatten_2[\u001b[38;5;34m0\u001b[0m][\u001b[38;5;34m0\u001b[0m]   │\n",
              "├─────────────────────┼───────────────────┼────────────┼───────────────────┤\n",
              "│ dense (\u001b[38;5;33mDense\u001b[0m)       │ (\u001b[38;5;45mNone\u001b[0m, \u001b[38;5;34m100\u001b[0m)       │  \u001b[38;5;34m1,177,700\u001b[0m │ concatenate[\u001b[38;5;34m0\u001b[0m][\u001b[38;5;34m0\u001b[0m] │\n",
              "├─────────────────────┼───────────────────┼────────────┼───────────────────┤\n",
              "│ dense_1 (\u001b[38;5;33mDense\u001b[0m)     │ (\u001b[38;5;45mNone\u001b[0m, \u001b[38;5;34m8\u001b[0m)         │        \u001b[38;5;34m808\u001b[0m │ dense[\u001b[38;5;34m0\u001b[0m][\u001b[38;5;34m0\u001b[0m]       │\n",
              "└─────────────────────┴───────────────────┴────────────┴───────────────────┘\n"
            ],
            "text/html": [
              "<pre style=\"white-space:pre;overflow-x:auto;line-height:normal;font-family:Menlo,'DejaVu Sans Mono',consolas,'Courier New',monospace\">┏━━━━━━━━━━━━━━━━━━━━━┳━━━━━━━━━━━━━━━━━━━┳━━━━━━━━━━━━┳━━━━━━━━━━━━━━━━━━━┓\n",
              "┃<span style=\"font-weight: bold\"> Layer (type)        </span>┃<span style=\"font-weight: bold\"> Output Shape      </span>┃<span style=\"font-weight: bold\">    Param # </span>┃<span style=\"font-weight: bold\"> Connected to      </span>┃\n",
              "┡━━━━━━━━━━━━━━━━━━━━━╇━━━━━━━━━━━━━━━━━━━╇━━━━━━━━━━━━╇━━━━━━━━━━━━━━━━━━━┩\n",
              "│ input_layer         │ (<span style=\"color: #00d7ff; text-decoration-color: #00d7ff\">None</span>, <span style=\"color: #00af00; text-decoration-color: #00af00\">614</span>, <span style=\"color: #00af00; text-decoration-color: #00af00\">1</span>)    │          <span style=\"color: #00af00; text-decoration-color: #00af00\">0</span> │ -                 │\n",
              "│ (<span style=\"color: #0087ff; text-decoration-color: #0087ff\">InputLayer</span>)        │                   │            │                   │\n",
              "├─────────────────────┼───────────────────┼────────────┼───────────────────┤\n",
              "│ input_layer_1       │ (<span style=\"color: #00d7ff; text-decoration-color: #00d7ff\">None</span>, <span style=\"color: #00af00; text-decoration-color: #00af00\">614</span>, <span style=\"color: #00af00; text-decoration-color: #00af00\">1</span>)    │          <span style=\"color: #00af00; text-decoration-color: #00af00\">0</span> │ -                 │\n",
              "│ (<span style=\"color: #0087ff; text-decoration-color: #0087ff\">InputLayer</span>)        │                   │            │                   │\n",
              "├─────────────────────┼───────────────────┼────────────┼───────────────────┤\n",
              "│ input_layer_2       │ (<span style=\"color: #00d7ff; text-decoration-color: #00d7ff\">None</span>, <span style=\"color: #00af00; text-decoration-color: #00af00\">614</span>, <span style=\"color: #00af00; text-decoration-color: #00af00\">1</span>)    │          <span style=\"color: #00af00; text-decoration-color: #00af00\">0</span> │ -                 │\n",
              "│ (<span style=\"color: #0087ff; text-decoration-color: #0087ff\">InputLayer</span>)        │                   │            │                   │\n",
              "├─────────────────────┼───────────────────┼────────────┼───────────────────┤\n",
              "│ conv1d (<span style=\"color: #0087ff; text-decoration-color: #0087ff\">Conv1D</span>)     │ (<span style=\"color: #00d7ff; text-decoration-color: #00d7ff\">None</span>, <span style=\"color: #00af00; text-decoration-color: #00af00\">415</span>, <span style=\"color: #00af00; text-decoration-color: #00af00\">64</span>)   │     <span style=\"color: #00af00; text-decoration-color: #00af00\">12,864</span> │ input_layer[<span style=\"color: #00af00; text-decoration-color: #00af00\">0</span>][<span style=\"color: #00af00; text-decoration-color: #00af00\">0</span>] │\n",
              "├─────────────────────┼───────────────────┼────────────┼───────────────────┤\n",
              "│ conv1d_1 (<span style=\"color: #0087ff; text-decoration-color: #0087ff\">Conv1D</span>)   │ (<span style=\"color: #00d7ff; text-decoration-color: #00d7ff\">None</span>, <span style=\"color: #00af00; text-decoration-color: #00af00\">515</span>, <span style=\"color: #00af00; text-decoration-color: #00af00\">64</span>)   │      <span style=\"color: #00af00; text-decoration-color: #00af00\">6,464</span> │ input_layer_1[<span style=\"color: #00af00; text-decoration-color: #00af00\">0</span>]… │\n",
              "├─────────────────────┼───────────────────┼────────────┼───────────────────┤\n",
              "│ conv1d_2 (<span style=\"color: #0087ff; text-decoration-color: #0087ff\">Conv1D</span>)   │ (<span style=\"color: #00d7ff; text-decoration-color: #00d7ff\">None</span>, <span style=\"color: #00af00; text-decoration-color: #00af00\">565</span>, <span style=\"color: #00af00; text-decoration-color: #00af00\">64</span>)   │      <span style=\"color: #00af00; text-decoration-color: #00af00\">3,264</span> │ input_layer_2[<span style=\"color: #00af00; text-decoration-color: #00af00\">0</span>]… │\n",
              "├─────────────────────┼───────────────────┼────────────┼───────────────────┤\n",
              "│ dropout (<span style=\"color: #0087ff; text-decoration-color: #0087ff\">Dropout</span>)   │ (<span style=\"color: #00d7ff; text-decoration-color: #00d7ff\">None</span>, <span style=\"color: #00af00; text-decoration-color: #00af00\">415</span>, <span style=\"color: #00af00; text-decoration-color: #00af00\">64</span>)   │          <span style=\"color: #00af00; text-decoration-color: #00af00\">0</span> │ conv1d[<span style=\"color: #00af00; text-decoration-color: #00af00\">0</span>][<span style=\"color: #00af00; text-decoration-color: #00af00\">0</span>]      │\n",
              "├─────────────────────┼───────────────────┼────────────┼───────────────────┤\n",
              "│ dropout_1 (<span style=\"color: #0087ff; text-decoration-color: #0087ff\">Dropout</span>) │ (<span style=\"color: #00d7ff; text-decoration-color: #00d7ff\">None</span>, <span style=\"color: #00af00; text-decoration-color: #00af00\">515</span>, <span style=\"color: #00af00; text-decoration-color: #00af00\">64</span>)   │          <span style=\"color: #00af00; text-decoration-color: #00af00\">0</span> │ conv1d_1[<span style=\"color: #00af00; text-decoration-color: #00af00\">0</span>][<span style=\"color: #00af00; text-decoration-color: #00af00\">0</span>]    │\n",
              "├─────────────────────┼───────────────────┼────────────┼───────────────────┤\n",
              "│ dropout_2 (<span style=\"color: #0087ff; text-decoration-color: #0087ff\">Dropout</span>) │ (<span style=\"color: #00d7ff; text-decoration-color: #00d7ff\">None</span>, <span style=\"color: #00af00; text-decoration-color: #00af00\">565</span>, <span style=\"color: #00af00; text-decoration-color: #00af00\">64</span>)   │          <span style=\"color: #00af00; text-decoration-color: #00af00\">0</span> │ conv1d_2[<span style=\"color: #00af00; text-decoration-color: #00af00\">0</span>][<span style=\"color: #00af00; text-decoration-color: #00af00\">0</span>]    │\n",
              "├─────────────────────┼───────────────────┼────────────┼───────────────────┤\n",
              "│ max_pooling1d       │ (<span style=\"color: #00d7ff; text-decoration-color: #00d7ff\">None</span>, <span style=\"color: #00af00; text-decoration-color: #00af00\">20</span>, <span style=\"color: #00af00; text-decoration-color: #00af00\">64</span>)    │          <span style=\"color: #00af00; text-decoration-color: #00af00\">0</span> │ dropout[<span style=\"color: #00af00; text-decoration-color: #00af00\">0</span>][<span style=\"color: #00af00; text-decoration-color: #00af00\">0</span>]     │\n",
              "│ (<span style=\"color: #0087ff; text-decoration-color: #0087ff\">MaxPooling1D</span>)      │                   │            │                   │\n",
              "├─────────────────────┼───────────────────┼────────────┼───────────────────┤\n",
              "│ max_pooling1d_1     │ (<span style=\"color: #00d7ff; text-decoration-color: #00d7ff\">None</span>, <span style=\"color: #00af00; text-decoration-color: #00af00\">51</span>, <span style=\"color: #00af00; text-decoration-color: #00af00\">64</span>)    │          <span style=\"color: #00af00; text-decoration-color: #00af00\">0</span> │ dropout_1[<span style=\"color: #00af00; text-decoration-color: #00af00\">0</span>][<span style=\"color: #00af00; text-decoration-color: #00af00\">0</span>]   │\n",
              "│ (<span style=\"color: #0087ff; text-decoration-color: #0087ff\">MaxPooling1D</span>)      │                   │            │                   │\n",
              "├─────────────────────┼───────────────────┼────────────┼───────────────────┤\n",
              "│ max_pooling1d_2     │ (<span style=\"color: #00d7ff; text-decoration-color: #00d7ff\">None</span>, <span style=\"color: #00af00; text-decoration-color: #00af00\">113</span>, <span style=\"color: #00af00; text-decoration-color: #00af00\">64</span>)   │          <span style=\"color: #00af00; text-decoration-color: #00af00\">0</span> │ dropout_2[<span style=\"color: #00af00; text-decoration-color: #00af00\">0</span>][<span style=\"color: #00af00; text-decoration-color: #00af00\">0</span>]   │\n",
              "│ (<span style=\"color: #0087ff; text-decoration-color: #0087ff\">MaxPooling1D</span>)      │                   │            │                   │\n",
              "├─────────────────────┼───────────────────┼────────────┼───────────────────┤\n",
              "│ flatten (<span style=\"color: #0087ff; text-decoration-color: #0087ff\">Flatten</span>)   │ (<span style=\"color: #00d7ff; text-decoration-color: #00d7ff\">None</span>, <span style=\"color: #00af00; text-decoration-color: #00af00\">1280</span>)      │          <span style=\"color: #00af00; text-decoration-color: #00af00\">0</span> │ max_pooling1d[<span style=\"color: #00af00; text-decoration-color: #00af00\">0</span>]… │\n",
              "├─────────────────────┼───────────────────┼────────────┼───────────────────┤\n",
              "│ flatten_1 (<span style=\"color: #0087ff; text-decoration-color: #0087ff\">Flatten</span>) │ (<span style=\"color: #00d7ff; text-decoration-color: #00d7ff\">None</span>, <span style=\"color: #00af00; text-decoration-color: #00af00\">3264</span>)      │          <span style=\"color: #00af00; text-decoration-color: #00af00\">0</span> │ max_pooling1d_1[<span style=\"color: #00af00; text-decoration-color: #00af00\">…</span> │\n",
              "├─────────────────────┼───────────────────┼────────────┼───────────────────┤\n",
              "│ flatten_2 (<span style=\"color: #0087ff; text-decoration-color: #0087ff\">Flatten</span>) │ (<span style=\"color: #00d7ff; text-decoration-color: #00d7ff\">None</span>, <span style=\"color: #00af00; text-decoration-color: #00af00\">7232</span>)      │          <span style=\"color: #00af00; text-decoration-color: #00af00\">0</span> │ max_pooling1d_2[<span style=\"color: #00af00; text-decoration-color: #00af00\">…</span> │\n",
              "├─────────────────────┼───────────────────┼────────────┼───────────────────┤\n",
              "│ concatenate         │ (<span style=\"color: #00d7ff; text-decoration-color: #00d7ff\">None</span>, <span style=\"color: #00af00; text-decoration-color: #00af00\">11776</span>)     │          <span style=\"color: #00af00; text-decoration-color: #00af00\">0</span> │ flatten[<span style=\"color: #00af00; text-decoration-color: #00af00\">0</span>][<span style=\"color: #00af00; text-decoration-color: #00af00\">0</span>],    │\n",
              "│ (<span style=\"color: #0087ff; text-decoration-color: #0087ff\">Concatenate</span>)       │                   │            │ flatten_1[<span style=\"color: #00af00; text-decoration-color: #00af00\">0</span>][<span style=\"color: #00af00; text-decoration-color: #00af00\">0</span>],  │\n",
              "│                     │                   │            │ flatten_2[<span style=\"color: #00af00; text-decoration-color: #00af00\">0</span>][<span style=\"color: #00af00; text-decoration-color: #00af00\">0</span>]   │\n",
              "├─────────────────────┼───────────────────┼────────────┼───────────────────┤\n",
              "│ dense (<span style=\"color: #0087ff; text-decoration-color: #0087ff\">Dense</span>)       │ (<span style=\"color: #00d7ff; text-decoration-color: #00d7ff\">None</span>, <span style=\"color: #00af00; text-decoration-color: #00af00\">100</span>)       │  <span style=\"color: #00af00; text-decoration-color: #00af00\">1,177,700</span> │ concatenate[<span style=\"color: #00af00; text-decoration-color: #00af00\">0</span>][<span style=\"color: #00af00; text-decoration-color: #00af00\">0</span>] │\n",
              "├─────────────────────┼───────────────────┼────────────┼───────────────────┤\n",
              "│ dense_1 (<span style=\"color: #0087ff; text-decoration-color: #0087ff\">Dense</span>)     │ (<span style=\"color: #00d7ff; text-decoration-color: #00d7ff\">None</span>, <span style=\"color: #00af00; text-decoration-color: #00af00\">8</span>)         │        <span style=\"color: #00af00; text-decoration-color: #00af00\">808</span> │ dense[<span style=\"color: #00af00; text-decoration-color: #00af00\">0</span>][<span style=\"color: #00af00; text-decoration-color: #00af00\">0</span>]       │\n",
              "└─────────────────────┴───────────────────┴────────────┴───────────────────┘\n",
              "</pre>\n"
            ]
          },
          "metadata": {}
        },
        {
          "output_type": "display_data",
          "data": {
            "text/plain": [
              "\u001b[1m Total params: \u001b[0m\u001b[38;5;34m1,201,100\u001b[0m (4.58 MB)\n"
            ],
            "text/html": [
              "<pre style=\"white-space:pre;overflow-x:auto;line-height:normal;font-family:Menlo,'DejaVu Sans Mono',consolas,'Courier New',monospace\"><span style=\"font-weight: bold\"> Total params: </span><span style=\"color: #00af00; text-decoration-color: #00af00\">1,201,100</span> (4.58 MB)\n",
              "</pre>\n"
            ]
          },
          "metadata": {}
        },
        {
          "output_type": "display_data",
          "data": {
            "text/plain": [
              "\u001b[1m Trainable params: \u001b[0m\u001b[38;5;34m1,201,100\u001b[0m (4.58 MB)\n"
            ],
            "text/html": [
              "<pre style=\"white-space:pre;overflow-x:auto;line-height:normal;font-family:Menlo,'DejaVu Sans Mono',consolas,'Courier New',monospace\"><span style=\"font-weight: bold\"> Trainable params: </span><span style=\"color: #00af00; text-decoration-color: #00af00\">1,201,100</span> (4.58 MB)\n",
              "</pre>\n"
            ]
          },
          "metadata": {}
        },
        {
          "output_type": "display_data",
          "data": {
            "text/plain": [
              "\u001b[1m Non-trainable params: \u001b[0m\u001b[38;5;34m0\u001b[0m (0.00 B)\n"
            ],
            "text/html": [
              "<pre style=\"white-space:pre;overflow-x:auto;line-height:normal;font-family:Menlo,'DejaVu Sans Mono',consolas,'Courier New',monospace\"><span style=\"font-weight: bold\"> Non-trainable params: </span><span style=\"color: #00af00; text-decoration-color: #00af00\">0</span> (0.00 B)\n",
              "</pre>\n"
            ]
          },
          "metadata": {}
        }
      ]
    },
    {
      "cell_type": "code",
      "source": [
        "batch_size =100\n",
        "epochs = 20\n",
        "history = cnn_model.fit([X_train,X_train,X_train], y_train, batch_size=batch_size,epochs=epochs,verbose=1,validation_data=([X_test,X_test,X_test],y_test),shuffle=True)"
      ],
      "metadata": {
        "colab": {
          "base_uri": "https://localhost:8080/"
        },
        "id": "2Lxm-qvKM3oN",
        "outputId": "834ab957-74be-46da-f4cf-2d1af83e0dc9"
      },
      "id": "2Lxm-qvKM3oN",
      "execution_count": 8,
      "outputs": [
        {
          "output_type": "stream",
          "name": "stdout",
          "text": [
            "Epoch 1/20\n",
            "\u001b[1m16/16\u001b[0m \u001b[32m━━━━━━━━━━━━━━━━━━━━\u001b[0m\u001b[37m\u001b[0m \u001b[1m25s\u001b[0m 570ms/step - accuracy: 0.1321 - loss: 3.0311 - val_accuracy: 0.3160 - val_loss: 1.9650\n",
            "Epoch 2/20\n",
            "\u001b[1m16/16\u001b[0m \u001b[32m━━━━━━━━━━━━━━━━━━━━\u001b[0m\u001b[37m\u001b[0m \u001b[1m20s\u001b[0m 16ms/step - accuracy: 0.3053 - loss: 1.8109 - val_accuracy: 0.3961 - val_loss: 1.7032\n",
            "Epoch 3/20\n",
            "\u001b[1m16/16\u001b[0m \u001b[32m━━━━━━━━━━━━━━━━━━━━\u001b[0m\u001b[37m\u001b[0m \u001b[1m0s\u001b[0m 16ms/step - accuracy: 0.4362 - loss: 1.5112 - val_accuracy: 0.5104 - val_loss: 1.4524\n",
            "Epoch 4/20\n",
            "\u001b[1m16/16\u001b[0m \u001b[32m━━━━━━━━━━━━━━━━━━━━\u001b[0m\u001b[37m\u001b[0m \u001b[1m0s\u001b[0m 13ms/step - accuracy: 0.5548 - loss: 1.2195 - val_accuracy: 0.5816 - val_loss: 1.2935\n",
            "Epoch 5/20\n",
            "\u001b[1m16/16\u001b[0m \u001b[32m━━━━━━━━━━━━━━━━━━━━\u001b[0m\u001b[37m\u001b[0m \u001b[1m0s\u001b[0m 13ms/step - accuracy: 0.5770 - loss: 1.1131 - val_accuracy: 0.4718 - val_loss: 1.2745\n",
            "Epoch 6/20\n",
            "\u001b[1m16/16\u001b[0m \u001b[32m━━━━━━━━━━━━━━━━━━━━\u001b[0m\u001b[37m\u001b[0m \u001b[1m0s\u001b[0m 16ms/step - accuracy: 0.6229 - loss: 0.9783 - val_accuracy: 0.5623 - val_loss: 1.1665\n",
            "Epoch 7/20\n",
            "\u001b[1m16/16\u001b[0m \u001b[32m━━━━━━━━━━━━━━━━━━━━\u001b[0m\u001b[37m\u001b[0m \u001b[1m0s\u001b[0m 17ms/step - accuracy: 0.6691 - loss: 0.8993 - val_accuracy: 0.4570 - val_loss: 1.1775\n",
            "Epoch 8/20\n",
            "\u001b[1m16/16\u001b[0m \u001b[32m━━━━━━━━━━━━━━━━━━━━\u001b[0m\u001b[37m\u001b[0m \u001b[1m0s\u001b[0m 16ms/step - accuracy: 0.7264 - loss: 0.7845 - val_accuracy: 0.5104 - val_loss: 1.1491\n",
            "Epoch 9/20\n",
            "\u001b[1m16/16\u001b[0m \u001b[32m━━━━━━━━━━━━━━━━━━━━\u001b[0m\u001b[37m\u001b[0m \u001b[1m0s\u001b[0m 17ms/step - accuracy: 0.7253 - loss: 0.7812 - val_accuracy: 0.5460 - val_loss: 1.0364\n",
            "Epoch 10/20\n",
            "\u001b[1m16/16\u001b[0m \u001b[32m━━━━━━━━━━━━━━━━━━━━\u001b[0m\u001b[37m\u001b[0m \u001b[1m0s\u001b[0m 15ms/step - accuracy: 0.7475 - loss: 0.7135 - val_accuracy: 0.4881 - val_loss: 1.1089\n",
            "Epoch 11/20\n",
            "\u001b[1m16/16\u001b[0m \u001b[32m━━━━━━━━━━━━━━━━━━━━\u001b[0m\u001b[37m\u001b[0m \u001b[1m0s\u001b[0m 16ms/step - accuracy: 0.7313 - loss: 0.7022 - val_accuracy: 0.4050 - val_loss: 1.2592\n",
            "Epoch 12/20\n",
            "\u001b[1m16/16\u001b[0m \u001b[32m━━━━━━━━━━━━━━━━━━━━\u001b[0m\u001b[37m\u001b[0m \u001b[1m0s\u001b[0m 16ms/step - accuracy: 0.7511 - loss: 0.6545 - val_accuracy: 0.4154 - val_loss: 1.1670\n",
            "Epoch 13/20\n",
            "\u001b[1m16/16\u001b[0m \u001b[32m━━━━━━━━━━━━━━━━━━━━\u001b[0m\u001b[37m\u001b[0m \u001b[1m0s\u001b[0m 16ms/step - accuracy: 0.8247 - loss: 0.5620 - val_accuracy: 0.4525 - val_loss: 1.1106\n",
            "Epoch 14/20\n",
            "\u001b[1m16/16\u001b[0m \u001b[32m━━━━━━━━━━━━━━━━━━━━\u001b[0m\u001b[37m\u001b[0m \u001b[1m0s\u001b[0m 17ms/step - accuracy: 0.8842 - loss: 0.4560 - val_accuracy: 0.5148 - val_loss: 1.0242\n",
            "Epoch 15/20\n",
            "\u001b[1m16/16\u001b[0m \u001b[32m━━━━━━━━━━━━━━━━━━━━\u001b[0m\u001b[37m\u001b[0m \u001b[1m0s\u001b[0m 16ms/step - accuracy: 0.8719 - loss: 0.4441 - val_accuracy: 0.4926 - val_loss: 1.1309\n",
            "Epoch 16/20\n",
            "\u001b[1m16/16\u001b[0m \u001b[32m━━━━━━━━━━━━━━━━━━━━\u001b[0m\u001b[37m\u001b[0m \u001b[1m0s\u001b[0m 13ms/step - accuracy: 0.9130 - loss: 0.3700 - val_accuracy: 0.5697 - val_loss: 0.9864\n",
            "Epoch 17/20\n",
            "\u001b[1m16/16\u001b[0m \u001b[32m━━━━━━━━━━━━━━━━━━━━\u001b[0m\u001b[37m\u001b[0m \u001b[1m0s\u001b[0m 13ms/step - accuracy: 0.9011 - loss: 0.3696 - val_accuracy: 0.4496 - val_loss: 1.1843\n",
            "Epoch 18/20\n",
            "\u001b[1m16/16\u001b[0m \u001b[32m━━━━━━━━━━━━━━━━━━━━\u001b[0m\u001b[37m\u001b[0m \u001b[1m0s\u001b[0m 12ms/step - accuracy: 0.9390 - loss: 0.2880 - val_accuracy: 0.5267 - val_loss: 1.0333\n",
            "Epoch 19/20\n",
            "\u001b[1m16/16\u001b[0m \u001b[32m━━━━━━━━━━━━━━━━━━━━\u001b[0m\u001b[37m\u001b[0m \u001b[1m0s\u001b[0m 12ms/step - accuracy: 0.9191 - loss: 0.3014 - val_accuracy: 0.4644 - val_loss: 1.2345\n",
            "Epoch 20/20\n",
            "\u001b[1m16/16\u001b[0m \u001b[32m━━━━━━━━━━━━━━━━━━━━\u001b[0m\u001b[37m\u001b[0m \u001b[1m0s\u001b[0m 12ms/step - accuracy: 0.9546 - loss: 0.2408 - val_accuracy: 0.4629 - val_loss: 1.2378\n"
          ]
        }
      ]
    },
    {
      "cell_type": "code",
      "source": [
        "def inv_Transform_result(y_pred):\n",
        "    y_pred = y_pred.argmax(axis=1)\n",
        "    y_pred = encoder.inverse_transform(y_pred)\n",
        "    return y_pred\n",
        "\n",
        "\n",
        "\n",
        "y_pred=cnn_model.predict([X_test,X_test,X_test])\n",
        "\n",
        "\n",
        "Y_pred=inv_Transform_result(y_pred)\n",
        "Y_test = inv_Transform_result(y_test)\n",
        "\n",
        "\n",
        "\n",
        "\n",
        "from sklearn.metrics import confusion_matrix\n",
        "\n",
        "\n",
        "plt.figure(figsize=(10,10))\n",
        "cm = confusion_matrix(Y_test, Y_pred,normalize='true')\n",
        "f = sns.heatmap(cm, annot=True,xticklabels=encoder.classes_,yticklabels=encoder.classes_)"
      ],
      "metadata": {
        "colab": {
          "base_uri": "https://localhost:8080/",
          "height": 950
        },
        "id": "pbBmkBjlM5ks",
        "outputId": "2aa3710e-57f0-4575-8fd3-701c1518fe1c"
      },
      "id": "pbBmkBjlM5ks",
      "execution_count": 9,
      "outputs": [
        {
          "output_type": "stream",
          "name": "stdout",
          "text": [
            "\u001b[1m22/22\u001b[0m \u001b[32m━━━━━━━━━━━━━━━━━━━━\u001b[0m\u001b[37m\u001b[0m \u001b[1m1s\u001b[0m 35ms/step\n"
          ]
        },
        {
          "output_type": "display_data",
          "data": {
            "text/plain": [
              "<Figure size 1000x1000 with 2 Axes>"
            ],
            "image/png": "[encoded data removed]"
          },
          "metadata": {}
        }
      ]
    },
    {
      "cell_type": "code",
      "source": [
        "dummy_cnn = Model(inputs=cnn_model.input,outputs=cnn_model.layers[16].output)\n",
        "y_viz = dummy_cnn.predict([X_train,X_train,X_train])"
      ],
      "metadata": {
        "colab": {
          "base_uri": "https://localhost:8080/"
        },
        "id": "3tgRx2TxM-GS",
        "outputId": "524390bb-b2b2-42f5-df2b-aa08f1a48d59"
      },
      "id": "3tgRx2TxM-GS",
      "execution_count": 10,
      "outputs": [
        {
          "output_type": "stream",
          "name": "stdout",
          "text": [
            "\u001b[1m50/50\u001b[0m \u001b[32m━━━━━━━━━━━━━━━━━━━━\u001b[0m\u001b[37m\u001b[0m \u001b[1m1s\u001b[0m 14ms/step\n"
          ]
        }
      ]
    },
    {
      "cell_type": "code",
      "source": [
        "import pandas as pd\n",
        "import seaborn as sns\n",
        "import matplotlib.pyplot as plt\n",
        "from sklearn.manifold import TSNE\n",
        "\n",
        "# Apply t-SNE transformation\n",
        "X_t_sne = TSNE(\n",
        "    n_components=2,\n",
        "    learning_rate='auto',\n",
        "    verbose=2,  # Increase verbosity for more detailed feedback\n",
        "    perplexity=40,\n",
        "    n_iter=500  # Slightly increased number of iterations for convergence\n",
        ").fit_transform(y_viz)\n",
        "\n",
        "# Create DataFrame for t-SNE components\n",
        "tSNEdf = pd.DataFrame(data=X_t_sne, columns=['T-SNE component 1', 'T-SNE component 2'])\n",
        "\n",
        "# Assuming `inv_Transform_result` transforms `y_train` to get the Fault labels\n",
        "tSNEdf['Fault'] = inv_Transform_result(y_train)\n",
        "\n",
        "# Save the t-SNE DataFrame as a CSV file\n",
        "tSNEdf.to_csv('/content/drive/MyDrive/MK DCNN TRIAX/NOISE_40_tSNE_results.csv', index=True)\n",
        "print(\"t-SNE results saved as '/content/drive/MyDrive/MK DCNN TRIAX/NOISE_40_tSNE_results.csv'.\")\n",
        "\n",
        "# # Plot the t-SNE results with Fault as hue\n",
        "# plt.figure(figsize=(12, 12))  # Larger figure for clarity\n",
        "# sns.scatterplot(\n",
        "#     x='T-SNE component 1',\n",
        "#     y='T-SNE component 2',\n",
        "#     hue='Fault',\n",
        "#     palette=sns.color_palette(\"husl\", as_cmap=False),  # Vivid color palette\n",
        "#     data=tSNEdf,\n",
        "#     legend=\"full\",\n",
        "#     alpha=0.7,  # Increased transparency for better overlap clarity\n",
        "#     s=100  # Larger marker size\n",
        "# )\n",
        "\n",
        "# # Add gridlines for better visualization\n",
        "# plt.grid\n",
        "\n",
        "\n",
        "# Optional: Visualization of t-SNE representation\n",
        "plt.figure(figsize=(8, 6))\n",
        "for label in tSNEdf['Fault'].unique():\n",
        "    subset = tSNEdf[tSNEdf['Fault'] == label]\n",
        "    plt.scatter(subset['T-SNE component 1'], subset['T-SNE component 2'], label=f'Fault {label}', alpha=0.7)\n",
        "\n",
        "plt.title('t-SNE Representation of Motor Fault Dataset')\n",
        "plt.xlabel('t-SNE 1')\n",
        "plt.ylabel('t-SNE 2')\n",
        "plt.legend()\n",
        "plt.show()"
      ],
      "metadata": {
        "colab": {
          "base_uri": "https://localhost:8080/",
          "height": 946
        },
        "id": "uic9AVV2NBah",
        "outputId": "082d6b47-d7cf-4736-d1ee-81cfd4022307"
      },
      "id": "uic9AVV2NBah",
      "execution_count": 11,
      "outputs": [
        {
          "output_type": "stream",
          "name": "stderr",
          "text": [
            "/usr/local/lib/python3.11/dist-packages/sklearn/manifold/_t_sne.py:1164: FutureWarning: 'n_iter' was renamed to 'max_iter' in version 1.5 and will be removed in 1.7.\n",
            "  warnings.warn(\n"
          ]
        },
        {
          "output_type": "stream",
          "name": "stdout",
          "text": [
            "[t-SNE] Computing 121 nearest neighbors...\n",
            "[t-SNE] Indexed 1572 samples in 0.001s...\n",
            "[t-SNE] Computed neighbors for 1572 samples in 0.108s...\n",
            "[t-SNE] Computed conditional probabilities for sample 1000 / 1572\n",
            "[t-SNE] Computed conditional probabilities for sample 1572 / 1572\n",
            "[t-SNE] Mean sigma: 1.874104\n",
            "[t-SNE] Computed conditional probabilities in 0.053s\n",
            "[t-SNE] Iteration 50: error = 59.4062309, gradient norm = 0.0437423 (50 iterations in 0.639s)\n",
            "[t-SNE] Iteration 100: error = 55.2725258, gradient norm = 0.0183476 (50 iterations in 0.438s)\n",
            "[t-SNE] Iteration 150: error = 54.4592209, gradient norm = 0.0072270 (50 iterations in 0.445s)\n",
            "[t-SNE] Iteration 200: error = 54.0993919, gradient norm = 0.0058877 (50 iterations in 0.425s)\n",
            "[t-SNE] Iteration 250: error = 53.8943024, gradient norm = 0.0043986 (50 iterations in 0.439s)\n",
            "[t-SNE] KL divergence after 250 iterations with early exaggeration: 53.894302\n",
            "[t-SNE] Iteration 300: error = 1.0309186, gradient norm = 0.0162860 (50 iterations in 0.432s)\n",
            "[t-SNE] Iteration 350: error = 0.7847267, gradient norm = 0.0139046 (50 iterations in 0.443s)\n",
            "[t-SNE] Iteration 400: error = 0.6921069, gradient norm = 0.0115322 (50 iterations in 0.428s)\n",
            "[t-SNE] Iteration 450: error = 0.6479376, gradient norm = 0.0098616 (50 iterations in 0.423s)\n",
            "[t-SNE] Iteration 500: error = 0.6228635, gradient norm = 0.0082628 (50 iterations in 0.438s)\n",
            "[t-SNE] KL divergence after 500 iterations: 0.622863\n",
            "t-SNE results saved as '/content/drive/MyDrive/MK DCNN TRIAX/NOISE_40_tSNE_results.csv'.\n"
          ]
        },
        {
          "output_type": "display_data",
          "data": {
            "text/plain": [
              "<Figure size 800x600 with 1 Axes>"
            ],
            "image/png": "[encoded data removed]"
          },
          "metadata": {}
        }
      ]
    },
    {
      "cell_type": "markdown",
      "source": [
        "Statistical Features"
      ],
      "metadata": {
        "id": "PRuXPOIH6cTH"
      },
      "id": "PRuXPOIH6cTH"
    },
    {
      "cell_type": "code",
      "source": [
        "import numpy as np\n",
        "from scipy.stats import skew, kurtosis\n",
        "import pandas as pd\n",
        "import matplotlib.pyplot as plt\n",
        "\n",
        "# Total target rows\n",
        "TARGET_ROWS = 1800\n",
        "\n",
        "# Estimate the total number of samples across all fault types\n",
        "total_samples = sum(len(df[df['fault'] == f]) for f in df['fault'].unique())\n",
        "\n",
        "# Calculate suitable window size and stride\n",
        "num_faults = 9\n",
        "average_samples_per_fault = total_samples / num_faults\n",
        "approx_windows_per_fault = TARGET_ROWS / num_faults\n",
        "stride_ratio = 0.8  # Initial stride/window ratio\n",
        "\n",
        "WINDOW_SIZE = int(average_samples_per_fault / approx_windows_per_fault)\n",
        "STRIDE = int(WINDOW_SIZE * stride_ratio)\n",
        "\n",
        "print(f\"Calculated WINDOW_SIZE: {WINDOW_SIZE}, STRIDE: {STRIDE}\")\n",
        "\n",
        "# Initialize a list to store statistical features\n",
        "statistical_features = []\n",
        "\n",
        "# Loop through each fault type\n",
        "for f in df['fault'].unique():\n",
        "    # Extract data for the current fault type\n",
        "    fault_data = df[df['fault'] == f].iloc[:, 0].values  # Convert to NumPy array for efficiency\n",
        "\n",
        "    # Compute windows using sliding window approach\n",
        "    num_windows = (len(fault_data) - WINDOW_SIZE) // STRIDE + 1\n",
        "    for i in range(num_windows):\n",
        "        start = i * STRIDE\n",
        "        end = start + WINDOW_SIZE\n",
        "        window = fault_data[start:end]\n",
        "\n",
        "        # Convert window to a numeric type\n",
        "        window = window.astype(float)\n",
        "\n",
        "        # Compute statistical features for the current window\n",
        "        mean_val = np.mean(window)\n",
        "        std_val = np.std(window)\n",
        "        rms_val = np.sqrt(np.mean(np.square(window)))\n",
        "        max_val = np.max(window)\n",
        "        min_val = np.min(window)\n",
        "        skewness_val = skew(window)\n",
        "        kurtosis_val = kurtosis(window)\n",
        "\n",
        "        # Additional statistical features\n",
        "        mean_abs_val = np.mean(np.abs(window))\n",
        "        form_factor = rms_val / mean_abs_val if mean_abs_val != 0 else 0\n",
        "        crest_factor = max_val / rms_val if rms_val != 0 else 0\n",
        "\n",
        "        # Store the features in a dictionary\n",
        "        statistical_features.append({\n",
        "            'fault': f,\n",
        "            'window': i + 1,\n",
        "            'mean': mean_val,\n",
        "            'std': std_val,\n",
        "            'rms': rms_val,\n",
        "            'max': max_val,\n",
        "            'min': min_val,\n",
        "            'skewness': skewness_val,\n",
        "            'kurtosis': kurtosis_val,\n",
        "            'form_factor': form_factor,\n",
        "            'crest_factor': crest_factor\n",
        "        })\n",
        "\n",
        "# Convert statistical features into a DataFrame\n",
        "stat_features_df = pd.DataFrame(statistical_features)\n",
        "\n",
        "# Display the extracted features and count of rows\n",
        "print(f\"Extracted {len(stat_features_df)} rows (target: {TARGET_ROWS})\")\n",
        "print(stat_features_df)\n",
        "\n",
        "# Save the extracted features to a CSV file\n",
        "output_file = \"/content/drive/MyDrive/MK DCNN TRIAX/NOISE_40_statistical_features_with_form_and_crest_factors.csv\"\n",
        "stat_features_df.to_csv(output_file, index=False)\n",
        "print(f\"Statistical features saved to '{output_file}'.\")"
      ],
      "metadata": {
        "colab": {
          "base_uri": "https://localhost:8080/"
        },
        "id": "HRTIq9cYQgjC",
        "outputId": "e745e77a-d224-46f7-a1dc-0c083199c2e2"
      },
      "id": "HRTIq9cYQgjC",
      "execution_count": 12,
      "outputs": [
        {
          "output_type": "stream",
          "name": "stdout",
          "text": [
            "Calculated WINDOW_SIZE: 614, STRIDE: 491\n",
            "Extracted 2246 rows (target: 1800)\n",
            "               fault  window      mean       std       rms       max  \\\n",
            "0     F8_Normal_40db       1  0.145195  1.071087  1.080883  1.679651   \n",
            "1     F8_Normal_40db       2  0.099811  1.077945  1.082556  1.680132   \n",
            "2     F8_Normal_40db       3  0.105817  1.087656  1.092791  1.678277   \n",
            "3     F8_Normal_40db       4  0.123526  1.057603  1.064793  1.676012   \n",
            "4     F8_Normal_40db       5  0.116324  1.060565  1.066925  1.672643   \n",
            "...              ...     ...       ...       ...       ...       ...   \n",
            "2241   F5_OR009_40db     282  0.193894  0.856563  0.878234  2.055829   \n",
            "2242   F5_OR009_40db     283  0.191437  0.832642  0.854366  2.057585   \n",
            "2243   F5_OR009_40db     284  0.205876  0.838642  0.863543  2.070740   \n",
            "2244   F5_OR009_40db     285  0.216864  0.853665  0.880780  2.062514   \n",
            "2245   F5_OR009_40db     286  0.188218  0.821945  0.843219  2.045754   \n",
            "\n",
            "           min  skewness  kurtosis  form_factor  crest_factor  \n",
            "0    -1.519698 -0.042141 -1.460987     1.123818      1.553961  \n",
            "1    -1.514787  0.005984 -1.485711     1.118283      1.552005  \n",
            "2    -1.494240 -0.008150 -1.507393     1.112272      1.535771  \n",
            "3    -1.489908 -0.021151 -1.481756     1.115432      1.574026  \n",
            "4    -1.504626 -0.003653 -1.485942     1.116711      1.567723  \n",
            "...        ...       ...       ...          ...           ...  \n",
            "2241 -2.055185  0.191485 -0.793324     1.206985      2.340868  \n",
            "2242 -2.030103  0.196601 -0.851599     1.199351      2.408318  \n",
            "2243 -1.501087  0.270550 -0.931957     1.201003      2.397959  \n",
            "2244 -2.054609  0.156432 -0.787879     1.207371      2.341690  \n",
            "2245 -2.059416  0.216145 -0.775421     1.209621      2.426123  \n",
            "\n",
            "[2246 rows x 11 columns]\n",
            "Statistical features saved to '/content/drive/MyDrive/MK DCNN TRIAX/NOISE_40_statistical_features_with_form_and_crest_factors.csv'.\n"
          ]
        }
      ]
    },
    {
      "cell_type": "code",
      "source": [
        "import pandas as pd\n",
        "from sklearn.utils import resample\n",
        "\n",
        "# Load your dataset (replace 'your_dataset.csv' with your actual file)\n",
        "df = pd.read_csv('/content/drive/MyDrive/MK DCNN TRIAX/NOISE_40_statistical_features_with_form_and_crest_factors.csv')\n",
        "\n",
        "# Display initial class distribution\n",
        "print(\"Initial class distribution:\")\n",
        "print(df['fault'].value_counts())\n",
        "\n",
        "# Target size for undersampling/resampling\n",
        "TARGET_ROWS = 1570\n",
        "\n",
        "# Separate all fault types\n",
        "fault_classes = df['fault'].value_counts()\n",
        "\n",
        "# Determine the number of classes\n",
        "num_classes = len(fault_classes)\n",
        "\n",
        "# Calculate how many samples to take from each class\n",
        "samples_per_class = TARGET_ROWS // num_classes\n",
        "\n",
        "# Initialize a list to store resampled data\n",
        "resampled_data = []\n",
        "\n",
        "# Loop over each class to resample them\n",
        "for fault_class in fault_classes.index:\n",
        "    class_data = df[df['fault'] == fault_class]\n",
        "    if len(class_data) > samples_per_class:\n",
        "        # Undersample\n",
        "        class_data_resampled = resample(class_data, replace=False, n_samples=samples_per_class, random_state=42)\n",
        "    else:\n",
        "        # Upsample\n",
        "        class_data_resampled = resample(class_data, replace=True, n_samples=samples_per_class, random_state=42)\n",
        "\n",
        "    resampled_data.append(class_data_resampled)\n",
        "\n",
        "# Concatenate the resampled data into a single DataFrame\n",
        "balanced_df = pd.concat(resampled_data)\n",
        "\n",
        "# Check if we have the exact number of rows\n",
        "current_rows = len(balanced_df)\n",
        "print(f\"Current rows after equal resampling: {current_rows}\")\n",
        "\n",
        "# If the current rows don't match the target rows, adjust by trimming or adding rows\n",
        "if current_rows > TARGET_ROWS:\n",
        "    # Trim extra rows (if more than target)\n",
        "    balanced_df = balanced_df.head(TARGET_ROWS)\n",
        "elif current_rows < TARGET_ROWS:\n",
        "    # Add rows if fewer than target, by sampling from existing data\n",
        "    remaining_rows = TARGET_ROWS - current_rows\n",
        "    additional_data = balanced_df.sample(n=remaining_rows, replace=True, random_state=42)\n",
        "    balanced_df = pd.concat([balanced_df, additional_data])\n",
        "\n",
        "# Shuffle the final dataset\n",
        "balanced_df = balanced_df.sample(frac=1, random_state=42).reset_index(drop=True)\n",
        "\n",
        "# Display new class distribution\n",
        "print(\"New class distribution:\")\n",
        "print(balanced_df['fault'].value_counts())\n",
        "\n",
        "# Display final row count\n",
        "print(f\"Final row count: {len(balanced_df)}\")\n",
        "\n",
        "# Save the balanced dataset to a CSV file\n",
        "balanced_df.to_csv(\"/content/drive/MyDrive/MK DCNN TRIAX/NOISE_40_balanced_dataset_equal_resampling_exact_1570.csv\", index=False)\n",
        "print(\"Balanced dataset saved as '/content/drive/MyDrive/MK DCNN TRIAX/NOISE_40_balanced_dataset_equal_resampling_exact_1570.csv'\")\n"
      ],
      "metadata": {
        "id": "0-DLTbJL0tc6",
        "outputId": "ad81e3cc-91c2-44f3-e235-ab1523c795f6",
        "colab": {
          "base_uri": "https://localhost:8080/"
        }
      },
      "id": "0-DLTbJL0tc6",
      "execution_count": 13,
      "outputs": [
        {
          "output_type": "stream",
          "name": "stdout",
          "text": [
            "Initial class distribution:\n",
            "fault\n",
            "F2_IR009_40db     310\n",
            "F1_IR007_40db     291\n",
            "F3_IR013_40db     291\n",
            "F5_OR009_40db     286\n",
            "F4_IR017_40db     281\n",
            "F7_OR017_40db     277\n",
            "F6_OR013_40db     269\n",
            "F8_Normal_40db    241\n",
            "Name: count, dtype: int64\n",
            "Current rows after equal resampling: 1568\n",
            "New class distribution:\n",
            "fault\n",
            "F8_Normal_40db    197\n",
            "F7_OR017_40db     197\n",
            "F3_IR013_40db     196\n",
            "F4_IR017_40db     196\n",
            "F2_IR009_40db     196\n",
            "F1_IR007_40db     196\n",
            "F5_OR009_40db     196\n",
            "F6_OR013_40db     196\n",
            "Name: count, dtype: int64\n",
            "Final row count: 1570\n",
            "Balanced dataset saved as '/content/drive/MyDrive/MK DCNN TRIAX/NOISE_40_balanced_dataset_equal_resampling_exact_1570.csv'\n"
          ]
        }
      ]
    },
    {
      "cell_type": "code",
      "source": [
        "balanced_df.shape"
      ],
      "metadata": {
        "id": "NQ3f_WOt7Dld",
        "outputId": "49eab225-7d19-46b2-fa1f-6b1d4019a660",
        "colab": {
          "base_uri": "https://localhost:8080/"
        }
      },
      "id": "NQ3f_WOt7Dld",
      "execution_count": 14,
      "outputs": [
        {
          "output_type": "execute_result",
          "data": {
            "text/plain": [
              "(1570, 11)"
            ]
          },
          "metadata": {},
          "execution_count": 14
        }
      ]
    },
    {
      "cell_type": "code",
      "source": [
        "balanced_df=balanced_df.sort_values(by='fault')"
      ],
      "metadata": {
        "id": "JP_zDzu6_Zkt"
      },
      "id": "JP_zDzu6_Zkt",
      "execution_count": 15,
      "outputs": []
    },
    {
      "cell_type": "code",
      "source": [
        "balanced_df"
      ],
      "metadata": {
        "id": "eq6MhY1CAvgD",
        "outputId": "321706a0-6e2c-4aa1-921b-3ca54f715f3b",
        "colab": {
          "base_uri": "https://localhost:8080/",
          "height": 424
        }
      },
      "id": "eq6MhY1CAvgD",
      "execution_count": 16,
      "outputs": [
        {
          "output_type": "execute_result",
          "data": {
            "text/plain": [
              "               fault  window      mean       std       rms       max  \\\n",
              "1220   F1_IR007_40db     120  0.192484  1.486393  1.498804  2.086207   \n",
              "1358   F1_IR007_40db     227  0.187666  1.438762  1.450950  2.090197   \n",
              "1511   F1_IR007_40db      31  0.182624  1.510668  1.521667  2.093517   \n",
              "714    F1_IR007_40db     101  0.203849  1.509879  1.523578  2.084678   \n",
              "710    F1_IR007_40db     174  0.186600  1.453785  1.465711  2.081652   \n",
              "...              ...     ...       ...       ...       ...       ...   \n",
              "1376  F8_Normal_40db     228  0.096316  1.027270  1.031775  1.592108   \n",
              "663   F8_Normal_40db     225  0.096076  1.029334  1.033808  1.571320   \n",
              "660   F8_Normal_40db      81  0.091852  1.059872  1.063845  1.632019   \n",
              "421   F8_Normal_40db     220  0.092223  1.024138  1.028282  1.607191   \n",
              "0     F8_Normal_40db     160  0.101064  1.029947  1.034893  1.621794   \n",
              "\n",
              "           min  skewness  kurtosis  form_factor  crest_factor  \n",
              "1220 -2.078393 -0.119461 -1.567482     1.087987      1.391914  \n",
              "1358 -2.069321 -0.079118 -1.555788     1.092690      1.440571  \n",
              "1511 -2.076351 -0.106098 -1.580006     1.089718      1.375805  \n",
              "714  -2.074988 -0.137018 -1.578137     1.086864      1.368278  \n",
              "710  -2.060153 -0.077883 -1.565904     1.093365      1.420233  \n",
              "...        ...       ...       ...          ...           ...  \n",
              "1376 -1.434205  0.013083 -1.485057     1.116704      1.543077  \n",
              "663  -1.414814 -0.002816 -1.494677     1.114675      1.519934  \n",
              "660  -1.448022  0.001772 -1.499738     1.113212      1.534077  \n",
              "421  -1.415388  0.002098 -1.493400     1.112391      1.562986  \n",
              "0    -1.455442  0.028009 -1.483307     1.118303      1.567112  \n",
              "\n",
              "[1570 rows x 11 columns]"
            ],
            "text/html": [
              "\n",
              "  <div id=\"df-6f6d3b88-3c9c-4b09-b2a7-ac36da88eeda\" class=\"colab-df-container\">\n",
              "    <div>\n",
              "<style scoped>\n",
              "    .dataframe tbody tr th:only-of-type {\n",
              "        vertical-align: middle;\n",
              "    }\n",
              "\n",
              "    .dataframe tbody tr th {\n",
              "        vertical-align: top;\n",
              "    }\n",
              "\n",
              "    .dataframe thead th {\n",
              "        text-align: right;\n",
              "    }\n",
              "</style>\n",
              "<table border=\"1\" class=\"dataframe\">\n",
              "  <thead>\n",
              "    <tr style=\"text-align: right;\">\n",
              "      <th></th>\n",
              "      <th>fault</th>\n",
              "      <th>window</th>\n",
              "      <th>mean</th>\n",
              "      <th>std</th>\n",
              "      <th>rms</th>\n",
              "      <th>max</th>\n",
              "      <th>min</th>\n",
              "      <th>skewness</th>\n",
              "      <th>kurtosis</th>\n",
              "      <th>form_factor</th>\n",
              "      <th>crest_factor</th>\n",
              "    </tr>\n",
              "  </thead>\n",
              "  <tbody>\n",
              "    <tr>\n",
              "      <th>1220</th>\n",
              "      <td>F1_IR007_40db</td>\n",
              "      <td>120</td>\n",
              "      <td>0.192484</td>\n",
              "      <td>1.486393</td>\n",
              "      <td>1.498804</td>\n",
              "      <td>2.086207</td>\n",
              "      <td>-2.078393</td>\n",
              "      <td>-0.119461</td>\n",
              "      <td>-1.567482</td>\n",
              "      <td>1.087987</td>\n",
              "      <td>1.391914</td>\n",
              "    </tr>\n",
              "    <tr>\n",
              "      <th>1358</th>\n",
              "      <td>F1_IR007_40db</td>\n",
              "      <td>227</td>\n",
              "      <td>0.187666</td>\n",
              "      <td>1.438762</td>\n",
              "      <td>1.450950</td>\n",
              "      <td>2.090197</td>\n",
              "      <td>-2.069321</td>\n",
              "      <td>-0.079118</td>\n",
              "      <td>-1.555788</td>\n",
              "      <td>1.092690</td>\n",
              "      <td>1.440571</td>\n",
              "    </tr>\n",
              "    <tr>\n",
              "      <th>1511</th>\n",
              "      <td>F1_IR007_40db</td>\n",
              "      <td>31</td>\n",
              "      <td>0.182624</td>\n",
              "      <td>1.510668</td>\n",
              "      <td>1.521667</td>\n",
              "      <td>2.093517</td>\n",
              "      <td>-2.076351</td>\n",
              "      <td>-0.106098</td>\n",
              "      <td>-1.580006</td>\n",
              "      <td>1.089718</td>\n",
              "      <td>1.375805</td>\n",
              "    </tr>\n",
              "    <tr>\n",
              "      <th>714</th>\n",
              "      <td>F1_IR007_40db</td>\n",
              "      <td>101</td>\n",
              "      <td>0.203849</td>\n",
              "      <td>1.509879</td>\n",
              "      <td>1.523578</td>\n",
              "      <td>2.084678</td>\n",
              "      <td>-2.074988</td>\n",
              "      <td>-0.137018</td>\n",
              "      <td>-1.578137</td>\n",
              "      <td>1.086864</td>\n",
              "      <td>1.368278</td>\n",
              "    </tr>\n",
              "    <tr>\n",
              "      <th>710</th>\n",
              "      <td>F1_IR007_40db</td>\n",
              "      <td>174</td>\n",
              "      <td>0.186600</td>\n",
              "      <td>1.453785</td>\n",
              "      <td>1.465711</td>\n",
              "      <td>2.081652</td>\n",
              "      <td>-2.060153</td>\n",
              "      <td>-0.077883</td>\n",
              "      <td>-1.565904</td>\n",
              "      <td>1.093365</td>\n",
              "      <td>1.420233</td>\n",
              "    </tr>\n",
              "    <tr>\n",
              "      <th>...</th>\n",
              "      <td>...</td>\n",
              "      <td>...</td>\n",
              "      <td>...</td>\n",
              "      <td>...</td>\n",
              "      <td>...</td>\n",
              "      <td>...</td>\n",
              "      <td>...</td>\n",
              "      <td>...</td>\n",
              "      <td>...</td>\n",
              "      <td>...</td>\n",
              "      <td>...</td>\n",
              "    </tr>\n",
              "    <tr>\n",
              "      <th>1376</th>\n",
              "      <td>F8_Normal_40db</td>\n",
              "      <td>228</td>\n",
              "      <td>0.096316</td>\n",
              "      <td>1.027270</td>\n",
              "      <td>1.031775</td>\n",
              "      <td>1.592108</td>\n",
              "      <td>-1.434205</td>\n",
              "      <td>0.013083</td>\n",
              "      <td>-1.485057</td>\n",
              "      <td>1.116704</td>\n",
              "      <td>1.543077</td>\n",
              "    </tr>\n",
              "    <tr>\n",
              "      <th>663</th>\n",
              "      <td>F8_Normal_40db</td>\n",
              "      <td>225</td>\n",
              "      <td>0.096076</td>\n",
              "      <td>1.029334</td>\n",
              "      <td>1.033808</td>\n",
              "      <td>1.571320</td>\n",
              "      <td>-1.414814</td>\n",
              "      <td>-0.002816</td>\n",
              "      <td>-1.494677</td>\n",
              "      <td>1.114675</td>\n",
              "      <td>1.519934</td>\n",
              "    </tr>\n",
              "    <tr>\n",
              "      <th>660</th>\n",
              "      <td>F8_Normal_40db</td>\n",
              "      <td>81</td>\n",
              "      <td>0.091852</td>\n",
              "      <td>1.059872</td>\n",
              "      <td>1.063845</td>\n",
              "      <td>1.632019</td>\n",
              "      <td>-1.448022</td>\n",
              "      <td>0.001772</td>\n",
              "      <td>-1.499738</td>\n",
              "      <td>1.113212</td>\n",
              "      <td>1.534077</td>\n",
              "    </tr>\n",
              "    <tr>\n",
              "      <th>421</th>\n",
              "      <td>F8_Normal_40db</td>\n",
              "      <td>220</td>\n",
              "      <td>0.092223</td>\n",
              "      <td>1.024138</td>\n",
              "      <td>1.028282</td>\n",
              "      <td>1.607191</td>\n",
              "      <td>-1.415388</td>\n",
              "      <td>0.002098</td>\n",
              "      <td>-1.493400</td>\n",
              "      <td>1.112391</td>\n",
              "      <td>1.562986</td>\n",
              "    </tr>\n",
              "    <tr>\n",
              "      <th>0</th>\n",
              "      <td>F8_Normal_40db</td>\n",
              "      <td>160</td>\n",
              "      <td>0.101064</td>\n",
              "      <td>1.029947</td>\n",
              "      <td>1.034893</td>\n",
              "      <td>1.621794</td>\n",
              "      <td>-1.455442</td>\n",
              "      <td>0.028009</td>\n",
              "      <td>-1.483307</td>\n",
              "      <td>1.118303</td>\n",
              "      <td>1.567112</td>\n",
              "    </tr>\n",
              "  </tbody>\n",
              "</table>\n",
              "<p>1570 rows × 11 columns</p>\n",
              "</div>\n",
              "    <div class=\"colab-df-buttons\">\n",
              "      \n",
              "  <div class=\"colab-df-container\">\n",
              "    <button class=\"colab-df-convert\" onclick=\"convertToInteractive('df-6f6d3b88-3c9c-4b09-b2a7-ac36da88eeda')\"\n",
              "            title=\"Convert this dataframe to an interactive table.\"\n",
              "            style=\"display:none;\">\n",
              "      \n",
              "  <svg xmlns=\"http://www.w3.org/2000/svg\" height=\"24px\" viewBox=\"0 -960 960 960\">\n",
              "    <path d=\"M120-120v-720h720v720H120Zm60-500h600v-160H180v160Zm220 220h160v-160H400v160Zm0 220h160v-160H400v160ZM180-400h160v-160H180v160Zm440 0h160v-160H620v160ZM180-180h160v-160H180v160Zm440 0h160v-160H620v160Z\"/>\n",
              "  </svg>\n",
              "    </button>\n",
              "    \n",
              "  <style>\n",
              "    .colab-df-container {\n",
              "      display:flex;\n",
              "      gap: 12px;\n",
              "    }\n",
              "\n",
              "    .colab-df-convert {\n",
              "      background-color: #E8F0FE;\n",
              "      border: none;\n",
              "      border-radius: 50%;\n",
              "      cursor: pointer;\n",
              "      display: none;\n",
              "      fill: #1967D2;\n",
              "      height: 32px;\n",
              "      padding: 0 0 0 0;\n",
              "      width: 32px;\n",
              "    }\n",
              "\n",
              "    .colab-df-convert:hover {\n",
              "      background-color: #E2EBFA;\n",
              "      box-shadow: 0px 1px 2px rgba(60, 64, 67, 0.3), 0px 1px 3px 1px rgba(60, 64, 67, 0.15);\n",
              "      fill: #174EA6;\n",
              "    }\n",
              "\n",
              "    .colab-df-buttons div {\n",
              "      margin-bottom: 4px;\n",
              "    }\n",
              "\n",
              "    [theme=dark] .colab-df-convert {\n",
              "      background-color: #3B4455;\n",
              "      fill: #D2E3FC;\n",
              "    }\n",
              "\n",
              "    [theme=dark] .colab-df-convert:hover {\n",
              "      background-color: #434B5C;\n",
              "      box-shadow: 0px 1px 3px 1px rgba(0, 0, 0, 0.15);\n",
              "      filter: drop-shadow(0px 1px 2px rgba(0, 0, 0, 0.3));\n",
              "      fill: #FFFFFF;\n",
              "    }\n",
              "  </style>\n",
              "\n",
              "    <script>\n",
              "      const buttonEl =\n",
              "        document.querySelector('#df-6f6d3b88-3c9c-4b09-b2a7-ac36da88eeda button.colab-df-convert');\n",
              "      buttonEl.style.display =\n",
              "        google.colab.kernel.accessAllowed ? 'block' : 'none';\n",
              "\n",
              "      async function convertToInteractive(key) {\n",
              "        const element = document.querySelector('#df-6f6d3b88-3c9c-4b09-b2a7-ac36da88eeda');\n",
              "        const dataTable =\n",
              "          await google.colab.kernel.invokeFunction('convertToInteractive',\n",
              "                                                    [key], {});\n",
              "        if (!dataTable) return;\n",
              "\n",
              "        const docLinkHtml = 'Like what you see? Visit the ' +\n",
              "          '<a target=\"_blank\" href=https://colab.research.google.com/notebooks/data_table.ipynb>data table notebook</a>'\n",
              "          + ' to learn more about interactive tables.';\n",
              "        element.innerHTML = '';\n",
              "        dataTable['output_type'] = 'display_data';\n",
              "        await google.colab.output.renderOutput(dataTable, element);\n",
              "        const docLink = document.createElement('div');\n",
              "        docLink.innerHTML = docLinkHtml;\n",
              "        element.appendChild(docLink);\n",
              "      }\n",
              "    </script>\n",
              "  </div>\n",
              "  \n",
              "    </div>\n",
              "  </div>\n",
              "  "
            ]
          },
          "metadata": {},
          "execution_count": 16
        }
      ]
    },
    {
      "cell_type": "code",
      "source": [
        "import pandas as pd\n",
        "from sklearn.preprocessing import StandardScaler\n",
        "from sklearn.manifold import TSNE\n",
        "import matplotlib.pyplot as plt\n",
        "\n",
        "\n",
        "# Sort the dataset by the 'Fault' column\n",
        "balanced_df = balanced_df.sort_values(by='fault')\n",
        "\n",
        "# Separate features and target variable\n",
        "X = balanced_df.drop(columns=['fault'])  # Replace 'Fault' with actual target column name\n",
        "y = balanced_df['fault']\n",
        "\n",
        "# Normalize the feature columns using StandardScaler\n",
        "scaler = StandardScaler()\n",
        "X_normalized = pd.DataFrame(scaler.fit_transform(X), columns=X.columns)\n",
        "\n",
        "# Concatenate the normalized features with the target variable\n",
        "STAT_Motor_Fault_dataset_normalized = pd.concat([X_normalized, y.reset_index(drop=True)], axis=1)\n",
        "\n",
        "# Sort the normalized dataset by 'Fault' column\n",
        "STAT_Motor_Fault_dataset_normalized = STAT_Motor_Fault_dataset_normalized.sort_values(by='fault')\n",
        "\n",
        "# Apply t-SNE for dimensionality reduction\n",
        "tsne = TSNE(n_components=2, random_state=42)  # 2D t-SNE\n",
        "X_tsne = tsne.fit_transform(X_normalized)\n",
        "\n",
        "# Create a DataFrame for t-SNE results\n",
        "tSNE_representation = pd.DataFrame(X_tsne, columns=['t-SNE 1', 't-SNE 2'])\n",
        "tSNE_representation['fault'] = y.reset_index(drop=True)\n",
        "\n",
        "# Display the t-SNE representation\n",
        "print(tSNE_representation.head())\n",
        "\n",
        "# Optional: Visualization of t-SNE representation\n",
        "plt.figure(figsize=(8, 6))\n",
        "for label in tSNE_representation['fault'].unique():\n",
        "    subset = tSNE_representation[tSNE_representation['fault'] == label]\n",
        "    plt.scatter(subset['t-SNE 1'], subset['t-SNE 2'], label=f'fault {label}', alpha=0.7)\n",
        "\n",
        "plt.title('t-SNE Representation of Motor Fault Dataset')\n",
        "plt.xlabel('t-SNE 1')\n",
        "plt.ylabel('t-SNE 2')\n",
        "plt.legend()\n",
        "plt.show()\n"
      ],
      "metadata": {
        "id": "tV7aspjE3R4f",
        "outputId": "17b1e084-3eba-405b-b202-bb2490386212",
        "colab": {
          "base_uri": "https://localhost:8080/",
          "height": 668
        }
      },
      "id": "tV7aspjE3R4f",
      "execution_count": 17,
      "outputs": [
        {
          "output_type": "stream",
          "name": "stdout",
          "text": [
            "     t-SNE 1    t-SNE 2          fault\n",
            "0 -42.063137  10.689313  F1_IR007_40db\n",
            "1 -33.884163  -0.261412  F1_IR007_40db\n",
            "2 -36.799404   4.308160  F1_IR007_40db\n",
            "3 -45.814632   6.552742  F1_IR007_40db\n",
            "4 -33.552174   2.192743  F1_IR007_40db\n"
          ]
        },
        {
          "output_type": "display_data",
          "data": {
            "text/plain": [
              "<Figure size 800x600 with 1 Axes>"
            ],
            "image/png": "[encoded data removed]"
          },
          "metadata": {}
        }
      ]
    },
    {
      "cell_type": "code",
      "source": [
        "tSNE_representation"
      ],
      "metadata": {
        "id": "QMwOLwssDgHU",
        "outputId": "b18f911e-3c7e-4d92-c8e2-ee5a2356c3eb",
        "colab": {
          "base_uri": "https://localhost:8080/",
          "height": 424
        }
      },
      "id": "QMwOLwssDgHU",
      "execution_count": 18,
      "outputs": [
        {
          "output_type": "execute_result",
          "data": {
            "text/plain": [
              "        t-SNE 1    t-SNE 2           fault\n",
              "0    -42.063137  10.689313   F1_IR007_40db\n",
              "1    -33.884163  -0.261412   F1_IR007_40db\n",
              "2    -36.799404   4.308160   F1_IR007_40db\n",
              "3    -45.814632   6.552742   F1_IR007_40db\n",
              "4    -33.552174   2.192743   F1_IR007_40db\n",
              "...         ...        ...             ...\n",
              "1565 -39.939045 -24.951693  F8_Normal_40db\n",
              "1566 -28.749258 -37.380154  F8_Normal_40db\n",
              "1567 -29.299841 -31.030758  F8_Normal_40db\n",
              "1568 -39.393009 -23.151558  F8_Normal_40db\n",
              "1569 -32.820740 -34.696198  F8_Normal_40db\n",
              "\n",
              "[1570 rows x 3 columns]"
            ],
            "text/html": [
              "\n",
              "  <div id=\"df-98d1e4da-96df-4fd8-a388-e8cc0d4853f2\" class=\"colab-df-container\">\n",
              "    <div>\n",
              "<style scoped>\n",
              "    .dataframe tbody tr th:only-of-type {\n",
              "        vertical-align: middle;\n",
              "    }\n",
              "\n",
              "    .dataframe tbody tr th {\n",
              "        vertical-align: top;\n",
              "    }\n",
              "\n",
              "    .dataframe thead th {\n",
              "        text-align: right;\n",
              "    }\n",
              "</style>\n",
              "<table border=\"1\" class=\"dataframe\">\n",
              "  <thead>\n",
              "    <tr style=\"text-align: right;\">\n",
              "      <th></th>\n",
              "      <th>t-SNE 1</th>\n",
              "      <th>t-SNE 2</th>\n",
              "      <th>fault</th>\n",
              "    </tr>\n",
              "  </thead>\n",
              "  <tbody>\n",
              "    <tr>\n",
              "      <th>0</th>\n",
              "      <td>-42.063137</td>\n",
              "      <td>10.689313</td>\n",
              "      <td>F1_IR007_40db</td>\n",
              "    </tr>\n",
              "    <tr>\n",
              "      <th>1</th>\n",
              "      <td>-33.884163</td>\n",
              "      <td>-0.261412</td>\n",
              "      <td>F1_IR007_40db</td>\n",
              "    </tr>\n",
              "    <tr>\n",
              "      <th>2</th>\n",
              "      <td>-36.799404</td>\n",
              "      <td>4.308160</td>\n",
              "      <td>F1_IR007_40db</td>\n",
              "    </tr>\n",
              "    <tr>\n",
              "      <th>3</th>\n",
              "      <td>-45.814632</td>\n",
              "      <td>6.552742</td>\n",
              "      <td>F1_IR007_40db</td>\n",
              "    </tr>\n",
              "    <tr>\n",
              "      <th>4</th>\n",
              "      <td>-33.552174</td>\n",
              "      <td>2.192743</td>\n",
              "      <td>F1_IR007_40db</td>\n",
              "    </tr>\n",
              "    <tr>\n",
              "      <th>...</th>\n",
              "      <td>...</td>\n",
              "      <td>...</td>\n",
              "      <td>...</td>\n",
              "    </tr>\n",
              "    <tr>\n",
              "      <th>1565</th>\n",
              "      <td>-39.939045</td>\n",
              "      <td>-24.951693</td>\n",
              "      <td>F8_Normal_40db</td>\n",
              "    </tr>\n",
              "    <tr>\n",
              "      <th>1566</th>\n",
              "      <td>-28.749258</td>\n",
              "      <td>-37.380154</td>\n",
              "      <td>F8_Normal_40db</td>\n",
              "    </tr>\n",
              "    <tr>\n",
              "      <th>1567</th>\n",
              "      <td>-29.299841</td>\n",
              "      <td>-31.030758</td>\n",
              "      <td>F8_Normal_40db</td>\n",
              "    </tr>\n",
              "    <tr>\n",
              "      <th>1568</th>\n",
              "      <td>-39.393009</td>\n",
              "      <td>-23.151558</td>\n",
              "      <td>F8_Normal_40db</td>\n",
              "    </tr>\n",
              "    <tr>\n",
              "      <th>1569</th>\n",
              "      <td>-32.820740</td>\n",
              "      <td>-34.696198</td>\n",
              "      <td>F8_Normal_40db</td>\n",
              "    </tr>\n",
              "  </tbody>\n",
              "</table>\n",
              "<p>1570 rows × 3 columns</p>\n",
              "</div>\n",
              "    <div class=\"colab-df-buttons\">\n",
              "      \n",
              "  <div class=\"colab-df-container\">\n",
              "    <button class=\"colab-df-convert\" onclick=\"convertToInteractive('df-98d1e4da-96df-4fd8-a388-e8cc0d4853f2')\"\n",
              "            title=\"Convert this dataframe to an interactive table.\"\n",
              "            style=\"display:none;\">\n",
              "      \n",
              "  <svg xmlns=\"http://www.w3.org/2000/svg\" height=\"24px\" viewBox=\"0 -960 960 960\">\n",
              "    <path d=\"M120-120v-720h720v720H120Zm60-500h600v-160H180v160Zm220 220h160v-160H400v160Zm0 220h160v-160H400v160ZM180-400h160v-160H180v160Zm440 0h160v-160H620v160ZM180-180h160v-160H180v160Zm440 0h160v-160H620v160Z\"/>\n",
              "  </svg>\n",
              "    </button>\n",
              "    \n",
              "  <style>\n",
              "    .colab-df-container {\n",
              "      display:flex;\n",
              "      gap: 12px;\n",
              "    }\n",
              "\n",
              "    .colab-df-convert {\n",
              "      background-color: #E8F0FE;\n",
              "      border: none;\n",
              "      border-radius: 50%;\n",
              "      cursor: pointer;\n",
              "      display: none;\n",
              "      fill: #1967D2;\n",
              "      height: 32px;\n",
              "      padding: 0 0 0 0;\n",
              "      width: 32px;\n",
              "    }\n",
              "\n",
              "    .colab-df-convert:hover {\n",
              "      background-color: #E2EBFA;\n",
              "      box-shadow: 0px 1px 2px rgba(60, 64, 67, 0.3), 0px 1px 3px 1px rgba(60, 64, 67, 0.15);\n",
              "      fill: #174EA6;\n",
              "    }\n",
              "\n",
              "    .colab-df-buttons div {\n",
              "      margin-bottom: 4px;\n",
              "    }\n",
              "\n",
              "    [theme=dark] .colab-df-convert {\n",
              "      background-color: #3B4455;\n",
              "      fill: #D2E3FC;\n",
              "    }\n",
              "\n",
              "    [theme=dark] .colab-df-convert:hover {\n",
              "      background-color: #434B5C;\n",
              "      box-shadow: 0px 1px 3px 1px rgba(0, 0, 0, 0.15);\n",
              "      filter: drop-shadow(0px 1px 2px rgba(0, 0, 0, 0.3));\n",
              "      fill: #FFFFFF;\n",
              "    }\n",
              "  </style>\n",
              "\n",
              "    <script>\n",
              "      const buttonEl =\n",
              "        document.querySelector('#df-98d1e4da-96df-4fd8-a388-e8cc0d4853f2 button.colab-df-convert');\n",
              "      buttonEl.style.display =\n",
              "        google.colab.kernel.accessAllowed ? 'block' : 'none';\n",
              "\n",
              "      async function convertToInteractive(key) {\n",
              "        const element = document.querySelector('#df-98d1e4da-96df-4fd8-a388-e8cc0d4853f2');\n",
              "        const dataTable =\n",
              "          await google.colab.kernel.invokeFunction('convertToInteractive',\n",
              "                                                    [key], {});\n",
              "        if (!dataTable) return;\n",
              "\n",
              "        const docLinkHtml = 'Like what you see? Visit the ' +\n",
              "          '<a target=\"_blank\" href=https://colab.research.google.com/notebooks/data_table.ipynb>data table notebook</a>'\n",
              "          + ' to learn more about interactive tables.';\n",
              "        element.innerHTML = '';\n",
              "        dataTable['output_type'] = 'display_data';\n",
              "        await google.colab.output.renderOutput(dataTable, element);\n",
              "        const docLink = document.createElement('div');\n",
              "        docLink.innerHTML = docLinkHtml;\n",
              "        element.appendChild(docLink);\n",
              "      }\n",
              "    </script>\n",
              "  </div>\n",
              "  \n",
              "    </div>\n",
              "  </div>\n",
              "  "
            ]
          },
          "metadata": {},
          "execution_count": 18
        }
      ]
    },
    {
      "cell_type": "code",
      "source": [
        "tSNE_representation=tSNE_representation.drop(columns=['fault'])\n",
        "tSNE_representation"
      ],
      "metadata": {
        "id": "Pybzwduy8nhv",
        "outputId": "5d0970fe-d2ea-4728-9e04-e235baeedecb",
        "colab": {
          "base_uri": "https://localhost:8080/",
          "height": 424
        }
      },
      "id": "Pybzwduy8nhv",
      "execution_count": 19,
      "outputs": [
        {
          "output_type": "execute_result",
          "data": {
            "text/plain": [
              "        t-SNE 1    t-SNE 2\n",
              "0    -42.063137  10.689313\n",
              "1    -33.884163  -0.261412\n",
              "2    -36.799404   4.308160\n",
              "3    -45.814632   6.552742\n",
              "4    -33.552174   2.192743\n",
              "...         ...        ...\n",
              "1565 -39.939045 -24.951693\n",
              "1566 -28.749258 -37.380154\n",
              "1567 -29.299841 -31.030758\n",
              "1568 -39.393009 -23.151558\n",
              "1569 -32.820740 -34.696198\n",
              "\n",
              "[1570 rows x 2 columns]"
            ],
            "text/html": [
              "\n",
              "  <div id=\"df-5a7849fb-e25f-4e1b-8519-57365b6a0b59\" class=\"colab-df-container\">\n",
              "    <div>\n",
              "<style scoped>\n",
              "    .dataframe tbody tr th:only-of-type {\n",
              "        vertical-align: middle;\n",
              "    }\n",
              "\n",
              "    .dataframe tbody tr th {\n",
              "        vertical-align: top;\n",
              "    }\n",
              "\n",
              "    .dataframe thead th {\n",
              "        text-align: right;\n",
              "    }\n",
              "</style>\n",
              "<table border=\"1\" class=\"dataframe\">\n",
              "  <thead>\n",
              "    <tr style=\"text-align: right;\">\n",
              "      <th></th>\n",
              "      <th>t-SNE 1</th>\n",
              "      <th>t-SNE 2</th>\n",
              "    </tr>\n",
              "  </thead>\n",
              "  <tbody>\n",
              "    <tr>\n",
              "      <th>0</th>\n",
              "      <td>-42.063137</td>\n",
              "      <td>10.689313</td>\n",
              "    </tr>\n",
              "    <tr>\n",
              "      <th>1</th>\n",
              "      <td>-33.884163</td>\n",
              "      <td>-0.261412</td>\n",
              "    </tr>\n",
              "    <tr>\n",
              "      <th>2</th>\n",
              "      <td>-36.799404</td>\n",
              "      <td>4.308160</td>\n",
              "    </tr>\n",
              "    <tr>\n",
              "      <th>3</th>\n",
              "      <td>-45.814632</td>\n",
              "      <td>6.552742</td>\n",
              "    </tr>\n",
              "    <tr>\n",
              "      <th>4</th>\n",
              "      <td>-33.552174</td>\n",
              "      <td>2.192743</td>\n",
              "    </tr>\n",
              "    <tr>\n",
              "      <th>...</th>\n",
              "      <td>...</td>\n",
              "      <td>...</td>\n",
              "    </tr>\n",
              "    <tr>\n",
              "      <th>1565</th>\n",
              "      <td>-39.939045</td>\n",
              "      <td>-24.951693</td>\n",
              "    </tr>\n",
              "    <tr>\n",
              "      <th>1566</th>\n",
              "      <td>-28.749258</td>\n",
              "      <td>-37.380154</td>\n",
              "    </tr>\n",
              "    <tr>\n",
              "      <th>1567</th>\n",
              "      <td>-29.299841</td>\n",
              "      <td>-31.030758</td>\n",
              "    </tr>\n",
              "    <tr>\n",
              "      <th>1568</th>\n",
              "      <td>-39.393009</td>\n",
              "      <td>-23.151558</td>\n",
              "    </tr>\n",
              "    <tr>\n",
              "      <th>1569</th>\n",
              "      <td>-32.820740</td>\n",
              "      <td>-34.696198</td>\n",
              "    </tr>\n",
              "  </tbody>\n",
              "</table>\n",
              "<p>1570 rows × 2 columns</p>\n",
              "</div>\n",
              "    <div class=\"colab-df-buttons\">\n",
              "      \n",
              "  <div class=\"colab-df-container\">\n",
              "    <button class=\"colab-df-convert\" onclick=\"convertToInteractive('df-5a7849fb-e25f-4e1b-8519-57365b6a0b59')\"\n",
              "            title=\"Convert this dataframe to an interactive table.\"\n",
              "            style=\"display:none;\">\n",
              "      \n",
              "  <svg xmlns=\"http://www.w3.org/2000/svg\" height=\"24px\" viewBox=\"0 -960 960 960\">\n",
              "    <path d=\"M120-120v-720h720v720H120Zm60-500h600v-160H180v160Zm220 220h160v-160H400v160Zm0 220h160v-160H400v160ZM180-400h160v-160H180v160Zm440 0h160v-160H620v160ZM180-180h160v-160H180v160Zm440 0h160v-160H620v160Z\"/>\n",
              "  </svg>\n",
              "    </button>\n",
              "    \n",
              "  <style>\n",
              "    .colab-df-container {\n",
              "      display:flex;\n",
              "      gap: 12px;\n",
              "    }\n",
              "\n",
              "    .colab-df-convert {\n",
              "      background-color: #E8F0FE;\n",
              "      border: none;\n",
              "      border-radius: 50%;\n",
              "      cursor: pointer;\n",
              "      display: none;\n",
              "      fill: #1967D2;\n",
              "      height: 32px;\n",
              "      padding: 0 0 0 0;\n",
              "      width: 32px;\n",
              "    }\n",
              "\n",
              "    .colab-df-convert:hover {\n",
              "      background-color: #E2EBFA;\n",
              "      box-shadow: 0px 1px 2px rgba(60, 64, 67, 0.3), 0px 1px 3px 1px rgba(60, 64, 67, 0.15);\n",
              "      fill: #174EA6;\n",
              "    }\n",
              "\n",
              "    .colab-df-buttons div {\n",
              "      margin-bottom: 4px;\n",
              "    }\n",
              "\n",
              "    [theme=dark] .colab-df-convert {\n",
              "      background-color: #3B4455;\n",
              "      fill: #D2E3FC;\n",
              "    }\n",
              "\n",
              "    [theme=dark] .colab-df-convert:hover {\n",
              "      background-color: #434B5C;\n",
              "      box-shadow: 0px 1px 3px 1px rgba(0, 0, 0, 0.15);\n",
              "      filter: drop-shadow(0px 1px 2px rgba(0, 0, 0, 0.3));\n",
              "      fill: #FFFFFF;\n",
              "    }\n",
              "  </style>\n",
              "\n",
              "    <script>\n",
              "      const buttonEl =\n",
              "        document.querySelector('#df-5a7849fb-e25f-4e1b-8519-57365b6a0b59 button.colab-df-convert');\n",
              "      buttonEl.style.display =\n",
              "        google.colab.kernel.accessAllowed ? 'block' : 'none';\n",
              "\n",
              "      async function convertToInteractive(key) {\n",
              "        const element = document.querySelector('#df-5a7849fb-e25f-4e1b-8519-57365b6a0b59');\n",
              "        const dataTable =\n",
              "          await google.colab.kernel.invokeFunction('convertToInteractive',\n",
              "                                                    [key], {});\n",
              "        if (!dataTable) return;\n",
              "\n",
              "        const docLinkHtml = 'Like what you see? Visit the ' +\n",
              "          '<a target=\"_blank\" href=https://colab.research.google.com/notebooks/data_table.ipynb>data table notebook</a>'\n",
              "          + ' to learn more about interactive tables.';\n",
              "        element.innerHTML = '';\n",
              "        dataTable['output_type'] = 'display_data';\n",
              "        await google.colab.output.renderOutput(dataTable, element);\n",
              "        const docLink = document.createElement('div');\n",
              "        docLink.innerHTML = docLinkHtml;\n",
              "        element.appendChild(docLink);\n",
              "      }\n",
              "    </script>\n",
              "  </div>\n",
              "  \n",
              "    </div>\n",
              "  </div>\n",
              "  "
            ]
          },
          "metadata": {},
          "execution_count": 19
        }
      ]
    },
    {
      "cell_type": "code",
      "source": [
        "tSNEdf = tSNEdf.sort_values(by='Fault')"
      ],
      "metadata": {
        "id": "_TpCIloN904b"
      },
      "id": "_TpCIloN904b",
      "execution_count": 20,
      "outputs": []
    },
    {
      "cell_type": "code",
      "source": [
        "tSNEdf"
      ],
      "metadata": {
        "id": "xq2JlAOp_N5V",
        "outputId": "fc86d92e-5b2a-4b66-e09e-02cab5b021ab",
        "colab": {
          "base_uri": "https://localhost:8080/",
          "height": 457
        }
      },
      "id": "xq2JlAOp_N5V",
      "execution_count": 21,
      "outputs": [
        {
          "output_type": "execute_result",
          "data": {
            "text/plain": [
              "      T-SNE component 1  T-SNE component 2           Fault\n",
              "1571          12.700719          19.179745   F1_IR007_40db\n",
              "196            9.268746          23.106073   F1_IR007_40db\n",
              "202           11.901814          25.130230   F1_IR007_40db\n",
              "937           15.405277          24.789127   F1_IR007_40db\n",
              "930           15.173688          23.499462   F1_IR007_40db\n",
              "...                 ...                ...             ...\n",
              "300           28.707533         -13.187151  F8_Normal_40db\n",
              "609           22.267094         -15.423596  F8_Normal_40db\n",
              "603           24.291273         -11.831509  F8_Normal_40db\n",
              "1230          22.205021         -17.891865  F8_Normal_40db\n",
              "785           25.304398         -11.979194  F8_Normal_40db\n",
              "\n",
              "[1572 rows x 3 columns]"
            ],
            "text/html": [
              "\n",
              "  <div id=\"df-81369752-6be3-4290-863c-4beeb6725245\" class=\"colab-df-container\">\n",
              "    <div>\n",
              "<style scoped>\n",
              "    .dataframe tbody tr th:only-of-type {\n",
              "        vertical-align: middle;\n",
              "    }\n",
              "\n",
              "    .dataframe tbody tr th {\n",
              "        vertical-align: top;\n",
              "    }\n",
              "\n",
              "    .dataframe thead th {\n",
              "        text-align: right;\n",
              "    }\n",
              "</style>\n",
              "<table border=\"1\" class=\"dataframe\">\n",
              "  <thead>\n",
              "    <tr style=\"text-align: right;\">\n",
              "      <th></th>\n",
              "      <th>T-SNE component 1</th>\n",
              "      <th>T-SNE component 2</th>\n",
              "      <th>Fault</th>\n",
              "    </tr>\n",
              "  </thead>\n",
              "  <tbody>\n",
              "    <tr>\n",
              "      <th>1571</th>\n",
              "      <td>12.700719</td>\n",
              "      <td>19.179745</td>\n",
              "      <td>F1_IR007_40db</td>\n",
              "    </tr>\n",
              "    <tr>\n",
              "      <th>196</th>\n",
              "      <td>9.268746</td>\n",
              "      <td>23.106073</td>\n",
              "      <td>F1_IR007_40db</td>\n",
              "    </tr>\n",
              "    <tr>\n",
              "      <th>202</th>\n",
              "      <td>11.901814</td>\n",
              "      <td>25.130230</td>\n",
              "      <td>F1_IR007_40db</td>\n",
              "    </tr>\n",
              "    <tr>\n",
              "      <th>937</th>\n",
              "      <td>15.405277</td>\n",
              "      <td>24.789127</td>\n",
              "      <td>F1_IR007_40db</td>\n",
              "    </tr>\n",
              "    <tr>\n",
              "      <th>930</th>\n",
              "      <td>15.173688</td>\n",
              "      <td>23.499462</td>\n",
              "      <td>F1_IR007_40db</td>\n",
              "    </tr>\n",
              "    <tr>\n",
              "      <th>...</th>\n",
              "      <td>...</td>\n",
              "      <td>...</td>\n",
              "      <td>...</td>\n",
              "    </tr>\n",
              "    <tr>\n",
              "      <th>300</th>\n",
              "      <td>28.707533</td>\n",
              "      <td>-13.187151</td>\n",
              "      <td>F8_Normal_40db</td>\n",
              "    </tr>\n",
              "    <tr>\n",
              "      <th>609</th>\n",
              "      <td>22.267094</td>\n",
              "      <td>-15.423596</td>\n",
              "      <td>F8_Normal_40db</td>\n",
              "    </tr>\n",
              "    <tr>\n",
              "      <th>603</th>\n",
              "      <td>24.291273</td>\n",
              "      <td>-11.831509</td>\n",
              "      <td>F8_Normal_40db</td>\n",
              "    </tr>\n",
              "    <tr>\n",
              "      <th>1230</th>\n",
              "      <td>22.205021</td>\n",
              "      <td>-17.891865</td>\n",
              "      <td>F8_Normal_40db</td>\n",
              "    </tr>\n",
              "    <tr>\n",
              "      <th>785</th>\n",
              "      <td>25.304398</td>\n",
              "      <td>-11.979194</td>\n",
              "      <td>F8_Normal_40db</td>\n",
              "    </tr>\n",
              "  </tbody>\n",
              "</table>\n",
              "<p>1572 rows × 3 columns</p>\n",
              "</div>\n",
              "    <div class=\"colab-df-buttons\">\n",
              "      \n",
              "  <div class=\"colab-df-container\">\n",
              "    <button class=\"colab-df-convert\" onclick=\"convertToInteractive('df-81369752-6be3-4290-863c-4beeb6725245')\"\n",
              "            title=\"Convert this dataframe to an interactive table.\"\n",
              "            style=\"display:none;\">\n",
              "      \n",
              "  <svg xmlns=\"http://www.w3.org/2000/svg\" height=\"24px\" viewBox=\"0 -960 960 960\">\n",
              "    <path d=\"M120-120v-720h720v720H120Zm60-500h600v-160H180v160Zm220 220h160v-160H400v160Zm0 220h160v-160H400v160ZM180-400h160v-160H180v160Zm440 0h160v-160H620v160ZM180-180h160v-160H180v160Zm440 0h160v-160H620v160Z\"/>\n",
              "  </svg>\n",
              "    </button>\n",
              "    \n",
              "  <style>\n",
              "    .colab-df-container {\n",
              "      display:flex;\n",
              "      gap: 12px;\n",
              "    }\n",
              "\n",
              "    .colab-df-convert {\n",
              "      background-color: #E8F0FE;\n",
              "      border: none;\n",
              "      border-radius: 50%;\n",
              "      cursor: pointer;\n",
              "      display: none;\n",
              "      fill: #1967D2;\n",
              "      height: 32px;\n",
              "      padding: 0 0 0 0;\n",
              "      width: 32px;\n",
              "    }\n",
              "\n",
              "    .colab-df-convert:hover {\n",
              "      background-color: #E2EBFA;\n",
              "      box-shadow: 0px 1px 2px rgba(60, 64, 67, 0.3), 0px 1px 3px 1px rgba(60, 64, 67, 0.15);\n",
              "      fill: #174EA6;\n",
              "    }\n",
              "\n",
              "    .colab-df-buttons div {\n",
              "      margin-bottom: 4px;\n",
              "    }\n",
              "\n",
              "    [theme=dark] .colab-df-convert {\n",
              "      background-color: #3B4455;\n",
              "      fill: #D2E3FC;\n",
              "    }\n",
              "\n",
              "    [theme=dark] .colab-df-convert:hover {\n",
              "      background-color: #434B5C;\n",
              "      box-shadow: 0px 1px 3px 1px rgba(0, 0, 0, 0.15);\n",
              "      filter: drop-shadow(0px 1px 2px rgba(0, 0, 0, 0.3));\n",
              "      fill: #FFFFFF;\n",
              "    }\n",
              "  </style>\n",
              "\n",
              "    <script>\n",
              "      const buttonEl =\n",
              "        document.querySelector('#df-81369752-6be3-4290-863c-4beeb6725245 button.colab-df-convert');\n",
              "      buttonEl.style.display =\n",
              "        google.colab.kernel.accessAllowed ? 'block' : 'none';\n",
              "\n",
              "      async function convertToInteractive(key) {\n",
              "        const element = document.querySelector('#df-81369752-6be3-4290-863c-4beeb6725245');\n",
              "        const dataTable =\n",
              "          await google.colab.kernel.invokeFunction('convertToInteractive',\n",
              "                                                    [key], {});\n",
              "        if (!dataTable) return;\n",
              "\n",
              "        const docLinkHtml = 'Like what you see? Visit the ' +\n",
              "          '<a target=\"_blank\" href=https://colab.research.google.com/notebooks/data_table.ipynb>data table notebook</a>'\n",
              "          + ' to learn more about interactive tables.';\n",
              "        element.innerHTML = '';\n",
              "        dataTable['output_type'] = 'display_data';\n",
              "        await google.colab.output.renderOutput(dataTable, element);\n",
              "        const docLink = document.createElement('div');\n",
              "        docLink.innerHTML = docLinkHtml;\n",
              "        element.appendChild(docLink);\n",
              "      }\n",
              "    </script>\n",
              "  </div>\n",
              "  \n",
              "    </div>\n",
              "  </div>\n",
              "  "
            ]
          },
          "metadata": {},
          "execution_count": 21
        }
      ]
    },
    {
      "cell_type": "markdown",
      "source": [
        "Combined Features"
      ],
      "metadata": {
        "id": "73T5xFDWQmML"
      },
      "id": "73T5xFDWQmML"
    },
    {
      "cell_type": "code",
      "source": [
        "# import pandas as pd\n",
        "\n",
        "# Assuming df1 and df2 are your two dataframes\n",
        "# Concatenate the dataframes vertically\n",
        "Motor_Fault_dataset = pd.concat([tSNE_representation, tSNEdf], axis=1)\n",
        "Motor_Fault_dataset=Motor_Fault_dataset.sort_values(by='Fault')\n",
        "Motor_Fault_dataset\n",
        "\n",
        "import pandas as pd\n",
        "from sklearn.preprocessing import StandardScaler\n",
        "\n",
        "# Assuming df1 and df2 are your two dataframes\n",
        "# Concatenate the dataframes vertically\n",
        "Motor_Fault_dataset = pd.concat([tSNE_representation, tSNEdf], axis=1)\n",
        "\n",
        "# Sort the dataset by 'Fault' column\n",
        "Motor_Fault_dataset = Motor_Fault_dataset.sort_values(by='Fault')\n",
        "Motor_Fault_dataset\n"
      ],
      "metadata": {
        "id": "sEmeYK5c8anK",
        "outputId": "3d27f6f5-11c2-4fb4-8af2-2db785f1beec",
        "colab": {
          "base_uri": "https://localhost:8080/",
          "height": 424
        }
      },
      "id": "sEmeYK5c8anK",
      "execution_count": 22,
      "outputs": [
        {
          "output_type": "execute_result",
          "data": {
            "text/plain": [
              "        t-SNE 1    t-SNE 2  T-SNE component 1  T-SNE component 2  \\\n",
              "250    8.670669 -36.277668          17.292992          20.926813   \n",
              "1218   1.835506 -11.198421          12.281656          18.903416   \n",
              "1311   3.704343  -9.499352          12.517442          23.067307   \n",
              "836   29.953957  21.245262          13.621984          16.272207   \n",
              "1221  -1.410173  -0.727521          13.275301          23.191290   \n",
              "...         ...        ...                ...                ...   \n",
              "835    5.554355  41.169621          24.924046         -17.625513   \n",
              "313   -5.658804 -24.119120          22.920456         -12.735677   \n",
              "837   36.234341  32.471146          26.277645         -12.600922   \n",
              "218   -2.499316 -27.761950          22.323275         -16.975853   \n",
              "785   19.532312  31.999628          25.304398         -11.979194   \n",
              "\n",
              "               Fault  \n",
              "250    F1_IR007_40db  \n",
              "1218   F1_IR007_40db  \n",
              "1311   F1_IR007_40db  \n",
              "836    F1_IR007_40db  \n",
              "1221   F1_IR007_40db  \n",
              "...              ...  \n",
              "835   F8_Normal_40db  \n",
              "313   F8_Normal_40db  \n",
              "837   F8_Normal_40db  \n",
              "218   F8_Normal_40db  \n",
              "785   F8_Normal_40db  \n",
              "\n",
              "[1572 rows x 5 columns]"
            ],
            "text/html": [
              "\n",
              "  <div id=\"df-1519e0cd-c9cc-46d9-8286-844ebc8e02b6\" class=\"colab-df-container\">\n",
              "    <div>\n",
              "<style scoped>\n",
              "    .dataframe tbody tr th:only-of-type {\n",
              "        vertical-align: middle;\n",
              "    }\n",
              "\n",
              "    .dataframe tbody tr th {\n",
              "        vertical-align: top;\n",
              "    }\n",
              "\n",
              "    .dataframe thead th {\n",
              "        text-align: right;\n",
              "    }\n",
              "</style>\n",
              "<table border=\"1\" class=\"dataframe\">\n",
              "  <thead>\n",
              "    <tr style=\"text-align: right;\">\n",
              "      <th></th>\n",
              "      <th>t-SNE 1</th>\n",
              "      <th>t-SNE 2</th>\n",
              "      <th>T-SNE component 1</th>\n",
              "      <th>T-SNE component 2</th>\n",
              "      <th>Fault</th>\n",
              "    </tr>\n",
              "  </thead>\n",
              "  <tbody>\n",
              "    <tr>\n",
              "      <th>250</th>\n",
              "      <td>8.670669</td>\n",
              "      <td>-36.277668</td>\n",
              "      <td>17.292992</td>\n",
              "      <td>20.926813</td>\n",
              "      <td>F1_IR007_40db</td>\n",
              "    </tr>\n",
              "    <tr>\n",
              "      <th>1218</th>\n",
              "      <td>1.835506</td>\n",
              "      <td>-11.198421</td>\n",
              "      <td>12.281656</td>\n",
              "      <td>18.903416</td>\n",
              "      <td>F1_IR007_40db</td>\n",
              "    </tr>\n",
              "    <tr>\n",
              "      <th>1311</th>\n",
              "      <td>3.704343</td>\n",
              "      <td>-9.499352</td>\n",
              "      <td>12.517442</td>\n",
              "      <td>23.067307</td>\n",
              "      <td>F1_IR007_40db</td>\n",
              "    </tr>\n",
              "    <tr>\n",
              "      <th>836</th>\n",
              "      <td>29.953957</td>\n",
              "      <td>21.245262</td>\n",
              "      <td>13.621984</td>\n",
              "      <td>16.272207</td>\n",
              "      <td>F1_IR007_40db</td>\n",
              "    </tr>\n",
              "    <tr>\n",
              "      <th>1221</th>\n",
              "      <td>-1.410173</td>\n",
              "      <td>-0.727521</td>\n",
              "      <td>13.275301</td>\n",
              "      <td>23.191290</td>\n",
              "      <td>F1_IR007_40db</td>\n",
              "    </tr>\n",
              "    <tr>\n",
              "      <th>...</th>\n",
              "      <td>...</td>\n",
              "      <td>...</td>\n",
              "      <td>...</td>\n",
              "      <td>...</td>\n",
              "      <td>...</td>\n",
              "    </tr>\n",
              "    <tr>\n",
              "      <th>835</th>\n",
              "      <td>5.554355</td>\n",
              "      <td>41.169621</td>\n",
              "      <td>24.924046</td>\n",
              "      <td>-17.625513</td>\n",
              "      <td>F8_Normal_40db</td>\n",
              "    </tr>\n",
              "    <tr>\n",
              "      <th>313</th>\n",
              "      <td>-5.658804</td>\n",
              "      <td>-24.119120</td>\n",
              "      <td>22.920456</td>\n",
              "      <td>-12.735677</td>\n",
              "      <td>F8_Normal_40db</td>\n",
              "    </tr>\n",
              "    <tr>\n",
              "      <th>837</th>\n",
              "      <td>36.234341</td>\n",
              "      <td>32.471146</td>\n",
              "      <td>26.277645</td>\n",
              "      <td>-12.600922</td>\n",
              "      <td>F8_Normal_40db</td>\n",
              "    </tr>\n",
              "    <tr>\n",
              "      <th>218</th>\n",
              "      <td>-2.499316</td>\n",
              "      <td>-27.761950</td>\n",
              "      <td>22.323275</td>\n",
              "      <td>-16.975853</td>\n",
              "      <td>F8_Normal_40db</td>\n",
              "    </tr>\n",
              "    <tr>\n",
              "      <th>785</th>\n",
              "      <td>19.532312</td>\n",
              "      <td>31.999628</td>\n",
              "      <td>25.304398</td>\n",
              "      <td>-11.979194</td>\n",
              "      <td>F8_Normal_40db</td>\n",
              "    </tr>\n",
              "  </tbody>\n",
              "</table>\n",
              "<p>1572 rows × 5 columns</p>\n",
              "</div>\n",
              "    <div class=\"colab-df-buttons\">\n",
              "      \n",
              "  <div class=\"colab-df-container\">\n",
              "    <button class=\"colab-df-convert\" onclick=\"convertToInteractive('df-1519e0cd-c9cc-46d9-8286-844ebc8e02b6')\"\n",
              "            title=\"Convert this dataframe to an interactive table.\"\n",
              "            style=\"display:none;\">\n",
              "      \n",
              "  <svg xmlns=\"http://www.w3.org/2000/svg\" height=\"24px\" viewBox=\"0 -960 960 960\">\n",
              "    <path d=\"M120-120v-720h720v720H120Zm60-500h600v-160H180v160Zm220 220h160v-160H400v160Zm0 220h160v-160H400v160ZM180-400h160v-160H180v160Zm440 0h160v-160H620v160ZM180-180h160v-160H180v160Zm440 0h160v-160H620v160Z\"/>\n",
              "  </svg>\n",
              "    </button>\n",
              "    \n",
              "  <style>\n",
              "    .colab-df-container {\n",
              "      display:flex;\n",
              "      gap: 12px;\n",
              "    }\n",
              "\n",
              "    .colab-df-convert {\n",
              "      background-color: #E8F0FE;\n",
              "      border: none;\n",
              "      border-radius: 50%;\n",
              "      cursor: pointer;\n",
              "      display: none;\n",
              "      fill: #1967D2;\n",
              "      height: 32px;\n",
              "      padding: 0 0 0 0;\n",
              "      width: 32px;\n",
              "    }\n",
              "\n",
              "    .colab-df-convert:hover {\n",
              "      background-color: #E2EBFA;\n",
              "      box-shadow: 0px 1px 2px rgba(60, 64, 67, 0.3), 0px 1px 3px 1px rgba(60, 64, 67, 0.15);\n",
              "      fill: #174EA6;\n",
              "    }\n",
              "\n",
              "    .colab-df-buttons div {\n",
              "      margin-bottom: 4px;\n",
              "    }\n",
              "\n",
              "    [theme=dark] .colab-df-convert {\n",
              "      background-color: #3B4455;\n",
              "      fill: #D2E3FC;\n",
              "    }\n",
              "\n",
              "    [theme=dark] .colab-df-convert:hover {\n",
              "      background-color: #434B5C;\n",
              "      box-shadow: 0px 1px 3px 1px rgba(0, 0, 0, 0.15);\n",
              "      filter: drop-shadow(0px 1px 2px rgba(0, 0, 0, 0.3));\n",
              "      fill: #FFFFFF;\n",
              "    }\n",
              "  </style>\n",
              "\n",
              "    <script>\n",
              "      const buttonEl =\n",
              "        document.querySelector('#df-1519e0cd-c9cc-46d9-8286-844ebc8e02b6 button.colab-df-convert');\n",
              "      buttonEl.style.display =\n",
              "        google.colab.kernel.accessAllowed ? 'block' : 'none';\n",
              "\n",
              "      async function convertToInteractive(key) {\n",
              "        const element = document.querySelector('#df-1519e0cd-c9cc-46d9-8286-844ebc8e02b6');\n",
              "        const dataTable =\n",
              "          await google.colab.kernel.invokeFunction('convertToInteractive',\n",
              "                                                    [key], {});\n",
              "        if (!dataTable) return;\n",
              "\n",
              "        const docLinkHtml = 'Like what you see? Visit the ' +\n",
              "          '<a target=\"_blank\" href=https://colab.research.google.com/notebooks/data_table.ipynb>data table notebook</a>'\n",
              "          + ' to learn more about interactive tables.';\n",
              "        element.innerHTML = '';\n",
              "        dataTable['output_type'] = 'display_data';\n",
              "        await google.colab.output.renderOutput(dataTable, element);\n",
              "        const docLink = document.createElement('div');\n",
              "        docLink.innerHTML = docLinkHtml;\n",
              "        element.appendChild(docLink);\n",
              "      }\n",
              "    </script>\n",
              "  </div>\n",
              "  \n",
              "    </div>\n",
              "  </div>\n",
              "  "
            ]
          },
          "metadata": {},
          "execution_count": 22
        }
      ]
    },
    {
      "cell_type": "code",
      "source": [
        "#Classification Report for MKDCNN"
      ],
      "metadata": {
        "id": "zC_6vMBPsOs_"
      },
      "id": "zC_6vMBPsOs_",
      "execution_count": 23,
      "outputs": []
    },
    {
      "cell_type": "code",
      "source": [],
      "metadata": {
        "id": "b77LcDP9sPR2"
      },
      "id": "b77LcDP9sPR2",
      "execution_count": 23,
      "outputs": []
    },
    {
      "cell_type": "markdown",
      "source": [
        "HSPSO-CatBoost\n"
      ],
      "metadata": {
        "id": "wZFQ37UCYN1p"
      },
      "id": "wZFQ37UCYN1p"
    },
    {
      "cell_type": "code",
      "source": [
        "X = Motor_Fault_dataset.iloc[:, 0:4].values\n",
        "y = Motor_Fault_dataset.iloc[:, 4].values"
      ],
      "metadata": {
        "id": "f_P8BWzmYTg0"
      },
      "id": "f_P8BWzmYTg0",
      "execution_count": 24,
      "outputs": []
    },
    {
      "cell_type": "code",
      "source": [
        "# Splitting the dataset into the Training set and Test set\n",
        "from sklearn.model_selection import train_test_split\n",
        "X_train, X_test, y_train, y_test = train_test_split(X, y, test_size = 0.2)"
      ],
      "metadata": {
        "id": "vLMueEZ6YfvA"
      },
      "id": "vLMueEZ6YfvA",
      "execution_count": 25,
      "outputs": []
    },
    {
      "cell_type": "code",
      "source": [
        "pip install hyperactive"
      ],
      "metadata": {
        "id": "nsTDebhD9iQw",
        "outputId": "c1347dbe-073a-4069-9f06-be73e9eb6628",
        "colab": {
          "base_uri": "https://localhost:8080/"
        }
      },
      "id": "nsTDebhD9iQw",
      "execution_count": 26,
      "outputs": [
        {
          "output_type": "stream",
          "name": "stdout",
          "text": [
            "Collecting hyperactive\n",
            "  Downloading hyperactive-4.8.0-py3-none-any.whl.metadata (42 kB)\n",
            "\u001b[?25l     \u001b[90m━━━━━━━━━━━━━━━━━━━━━━━━━━━━━━━━━━━━━━━━\u001b[0m \u001b[32m0.0/42.8 kB\u001b[0m \u001b[31m?\u001b[0m eta \u001b[36m-:--:--\u001b[0m\r\u001b[2K     \u001b[90m━━━━━━━━━━━━━━━━━━━━━━━━━━━━━━━━━━━━━━━━\u001b[0m \u001b[32m42.8/42.8 kB\u001b[0m \u001b[31m2.6 MB/s\u001b[0m eta \u001b[36m0:00:00\u001b[0m\n",
            "\u001b[?25hRequirement already satisfied: numpy<3.0.0,>=1.18.1 in /usr/local/lib/python3.11/dist-packages (from hyperactive) (2.0.2)\n",
            "Requirement already satisfied: tqdm<5.0.0,>=4.48.0 in /usr/local/lib/python3.11/dist-packages (from hyperactive) (4.67.1)\n",
            "Requirement already satisfied: pandas<3.0.0 in /usr/local/lib/python3.11/dist-packages (from hyperactive) (2.2.2)\n",
            "Collecting gradient-free-optimizers<2.0.0,>=1.2.4 (from hyperactive)\n",
            "  Downloading gradient_free_optimizers-1.7.1-py3-none-any.whl.metadata (31 kB)\n",
            "Requirement already satisfied: scipy<2.0.0 in /usr/local/lib/python3.11/dist-packages (from gradient-free-optimizers<2.0.0,>=1.2.4->hyperactive) (1.15.3)\n",
            "Requirement already satisfied: scikit-learn!=0.23.*,>=0.21 in /usr/local/lib/python3.11/dist-packages (from gradient-free-optimizers<2.0.0,>=1.2.4->hyperactive) (1.6.1)\n",
            "Requirement already satisfied: python-dateutil>=2.8.2 in /usr/local/lib/python3.11/dist-packages (from pandas<3.0.0->hyperactive) (2.9.0.post0)\n",
            "Requirement already satisfied: pytz>=2020.1 in /usr/local/lib/python3.11/dist-packages (from pandas<3.0.0->hyperactive) (2025.2)\n",
            "Requirement already satisfied: tzdata>=2022.7 in /usr/local/lib/python3.11/dist-packages (from pandas<3.0.0->hyperactive) (2025.2)\n",
            "Requirement already satisfied: six>=1.5 in /usr/local/lib/python3.11/dist-packages (from python-dateutil>=2.8.2->pandas<3.0.0->hyperactive) (1.17.0)\n",
            "Requirement already satisfied: joblib>=1.2.0 in /usr/local/lib/python3.11/dist-packages (from scikit-learn!=0.23.*,>=0.21->gradient-free-optimizers<2.0.0,>=1.2.4->hyperactive) (1.5.1)\n",
            "Requirement already satisfied: threadpoolctl>=3.1.0 in /usr/local/lib/python3.11/dist-packages (from scikit-learn!=0.23.*,>=0.21->gradient-free-optimizers<2.0.0,>=1.2.4->hyperactive) (3.6.0)\n",
            "Downloading hyperactive-4.8.0-py3-none-any.whl (30 kB)\n",
            "Downloading gradient_free_optimizers-1.7.1-py3-none-any.whl (95 kB)\n",
            "\u001b[2K   \u001b[90m━━━━━━━━━━━━━━━━━━━━━━━━━━━━━━━━━━━━━━━━\u001b[0m \u001b[32m95.8/95.8 kB\u001b[0m \u001b[31m6.7 MB/s\u001b[0m eta \u001b[36m0:00:00\u001b[0m\n",
            "\u001b[?25hInstalling collected packages: gradient-free-optimizers, hyperactive\n",
            "Successfully installed gradient-free-optimizers-1.7.1 hyperactive-4.8.0\n"
          ]
        }
      ]
    },
    {
      "cell_type": "code",
      "source": [
        "pip install catboost"
      ],
      "metadata": {
        "id": "UTH39uc29p_Q",
        "outputId": "eff5e1b9-54a4-445d-b32b-52fb0ab0004f",
        "colab": {
          "base_uri": "https://localhost:8080/"
        }
      },
      "id": "UTH39uc29p_Q",
      "execution_count": 27,
      "outputs": [
        {
          "output_type": "stream",
          "name": "stdout",
          "text": [
            "Collecting catboost\n",
            "  Downloading catboost-1.2.8-cp311-cp311-manylinux2014_x86_64.whl.metadata (1.2 kB)\n",
            "Requirement already satisfied: graphviz in /usr/local/lib/python3.11/dist-packages (from catboost) (0.21)\n",
            "Requirement already satisfied: matplotlib in /usr/local/lib/python3.11/dist-packages (from catboost) (3.10.0)\n",
            "Requirement already satisfied: numpy<3.0,>=1.16.0 in /usr/local/lib/python3.11/dist-packages (from catboost) (2.0.2)\n",
            "Requirement already satisfied: pandas>=0.24 in /usr/local/lib/python3.11/dist-packages (from catboost) (2.2.2)\n",
            "Requirement already satisfied: scipy in /usr/local/lib/python3.11/dist-packages (from catboost) (1.15.3)\n",
            "Requirement already satisfied: plotly in /usr/local/lib/python3.11/dist-packages (from catboost) (5.24.1)\n",
            "Requirement already satisfied: six in /usr/local/lib/python3.11/dist-packages (from catboost) (1.17.0)\n",
            "Requirement already satisfied: python-dateutil>=2.8.2 in /usr/local/lib/python3.11/dist-packages (from pandas>=0.24->catboost) (2.9.0.post0)\n",
            "Requirement already satisfied: pytz>=2020.1 in /usr/local/lib/python3.11/dist-packages (from pandas>=0.24->catboost) (2025.2)\n",
            "Requirement already satisfied: tzdata>=2022.7 in /usr/local/lib/python3.11/dist-packages (from pandas>=0.24->catboost) (2025.2)\n",
            "Requirement already satisfied: contourpy>=1.0.1 in /usr/local/lib/python3.11/dist-packages (from matplotlib->catboost) (1.3.2)\n",
            "Requirement already satisfied: cycler>=0.10 in /usr/local/lib/python3.11/dist-packages (from matplotlib->catboost) (0.12.1)\n",
            "Requirement already satisfied: fonttools>=4.22.0 in /usr/local/lib/python3.11/dist-packages (from matplotlib->catboost) (4.58.4)\n",
            "Requirement already satisfied: kiwisolver>=1.3.1 in /usr/local/lib/python3.11/dist-packages (from matplotlib->catboost) (1.4.8)\n",
            "Requirement already satisfied: packaging>=20.0 in /usr/local/lib/python3.11/dist-packages (from matplotlib->catboost) (24.2)\n",
            "Requirement already satisfied: pillow>=8 in /usr/local/lib/python3.11/dist-packages (from matplotlib->catboost) (11.2.1)\n",
            "Requirement already satisfied: pyparsing>=2.3.1 in /usr/local/lib/python3.11/dist-packages (from matplotlib->catboost) (3.2.3)\n",
            "Requirement already satisfied: tenacity>=6.2.0 in /usr/local/lib/python3.11/dist-packages (from plotly->catboost) (9.1.2)\n",
            "Downloading catboost-1.2.8-cp311-cp311-manylinux2014_x86_64.whl (99.2 MB)\n",
            "\u001b[2K   \u001b[90m━━━━━━━━━━━━━━━━━━━━━━━━━━━━━━━━━━━━━━━━\u001b[0m \u001b[32m99.2/99.2 MB\u001b[0m \u001b[31m9.4 MB/s\u001b[0m eta \u001b[36m0:00:00\u001b[0m\n",
            "\u001b[?25hInstalling collected packages: catboost\n",
            "Successfully installed catboost-1.2.8\n"
          ]
        }
      ]
    },
    {
      "cell_type": "markdown",
      "source": [
        "Deployment:"
      ],
      "metadata": {
        "id": "Ul9AHZU5uIcP"
      },
      "id": "Ul9AHZU5uIcP"
    },
    {
      "cell_type": "code",
      "source": [
        "import numpy as np\n",
        "import pandas as pd\n",
        "from datetime import datetime\n",
        "from sklearn.model_selection import cross_val_score\n",
        "from catboost import CatBoostClassifier, Pool\n",
        "from hyperactive import Hyperactive\n",
        "from hyperactive.optimizers import ParticleSwarmOptimizer\n",
        "from sklearn.metrics import classification_report, confusion_matrix\n",
        "import matplotlib.pyplot as plt\n",
        "import seaborn as sns\n",
        "\n",
        "# === DATA: Replace X_train, X_test, y_train, y_test with your actual data ===\n",
        "# Example:\n",
        "# X_train, X_test, y_train, y_test = train_test_split(...)\n",
        "\n",
        "X, y = X_train, y_train\n",
        "\n",
        "# === Objective Function ===\n",
        "def model(opt):\n",
        "    CatBoost = CatBoostClassifier(\n",
        "        iterations=opt[\"iterations\"],\n",
        "        depth=opt[\"depth\"],\n",
        "        learning_rate=opt[\"learning_rate\"],\n",
        "        l2_leaf_reg=opt[\"l2_leaf_reg\"],\n",
        "        bagging_temperature=opt[\"bagging_temperature\"],\n",
        "        random_strength=opt[\"random_strength\"],\n",
        "        verbose=False\n",
        "    )\n",
        "    scores = cross_val_score(CatBoost, X, y, cv=4)\n",
        "    return scores.mean()\n",
        "\n",
        "# === Search Space ===\n",
        "search_space = {\n",
        "    \"iterations\": list(range(50, 501, 50)),\n",
        "    \"depth\": list(range(1, 11)),\n",
        "    \"learning_rate\": [0.01, 0.05, 0.1],\n",
        "    \"l2_leaf_reg\": [1, 3, 5],\n",
        "    \"bagging_temperature\": [0.5, 1, 1.5],\n",
        "    \"random_strength\": [0.5, 1, 1.5],\n",
        "}\n",
        "\n",
        "# === Cauchy Mutation ===\n",
        "def cauchy_mutation(particle, gamma=0.3):\n",
        "    for key in particle:\n",
        "        if isinstance(particle[key], (int, float)):\n",
        "            particle[key] = particle[key] * (1 + gamma * np.tan(np.pi * (np.random.rand() - 0.5)))\n",
        "            particle[key] = np.clip(particle[key], min(search_space[key]), max(search_space[key]))\n",
        "            if isinstance(search_space[key][0], int):\n",
        "                particle[key] = int(round(particle[key]))\n",
        "    return particle\n",
        "\n",
        "# === HSPSO Optimizer Class ===\n",
        "class HybridStrategyPSO(ParticleSwarmOptimizer):\n",
        "    def __init__(self, n_part=20, max_iter=40, **kwargs):\n",
        "        super().__init__(**kwargs)\n",
        "        self.switch_threshold = 10\n",
        "        self.iteration = 0\n",
        "        self.topology = \"gbest\"\n",
        "        self.n_part = n_part\n",
        "        self.max_iter = max_iter\n",
        "\n",
        "        # Adaptive Inertia Parameters\n",
        "        self.H = 1\n",
        "        self.w_min = 0.4\n",
        "        self.w_max = 0.9\n",
        "        self.b = 0.9\n",
        "        self.scaling_factor = 0.5\n",
        "\n",
        "    def on_iteration(self, swarm, scores):\n",
        "        self.iteration += 1\n",
        "\n",
        "        # === Topology Switching ===\n",
        "        if self.iteration % self.switch_threshold == 0:\n",
        "            self.topology = \"lbest\" if self.topology == \"gbest\" else \"gbest\"\n",
        "            self.set_topology(self.topology)\n",
        "\n",
        "        # === Clone Best Particles ===\n",
        "        best_indices = np.argsort(scores)[:max(1, len(swarm) // 5)]\n",
        "        for idx in best_indices:\n",
        "            particle = swarm[idx].copy()\n",
        "            swarm.append(particle)\n",
        "            scores.append(scores[idx])\n",
        "\n",
        "        # === Prune Worst Particles ===\n",
        "        if len(swarm) > 2 * self.n_part:\n",
        "            worst_indices = np.argsort(scores)[-len(swarm)//4:]\n",
        "            for i in reversed(worst_indices):\n",
        "                del swarm[i]\n",
        "                del scores[i]\n",
        "\n",
        "        # === Nonlinear Adaptive Inertia ===\n",
        "        numerator = (self.w_max - self.w_min) * self.iteration\n",
        "        denominator = 1 + np.exp(-10 * self.b * ((2 * self.iteration) / (self.H * self.max_iter) - 1))\n",
        "        self.inertia = self.w_max - numerator / denominator\n",
        "\n",
        "        # === Cauchy Mutation ===\n",
        "        for i in range(len(swarm)):\n",
        "            if np.random.rand() < 0.2:\n",
        "                swarm[i] = cauchy_mutation(swarm[i])\n",
        "\n",
        "        # === Hook-Jeeves Local Search (simplified) ===\n",
        "        top_ids = np.argsort(scores)[:2]\n",
        "        for i in top_ids:\n",
        "            particle = swarm[i]\n",
        "            for key in particle:\n",
        "                if isinstance(particle[key], (int, float)):\n",
        "                    for delta in [-0.01, 0.01] if isinstance(particle[key], float) else [-1, 1]:\n",
        "                        trial = particle.copy()\n",
        "                        trial[key] = trial[key] + delta\n",
        "                        trial[key] = np.clip(trial[key], min(search_space[key]), max(search_space[key]))\n",
        "                        if isinstance(search_space[key][0], int):\n",
        "                            trial[key] = int(round(trial[key]))\n",
        "                        trial_score = model(trial)\n",
        "                        if trial_score > scores[i]:\n",
        "                            swarm[i] = trial\n",
        "                            scores[i] = trial_score\n",
        "\n",
        "        # === Random Restart ===\n",
        "        if np.random.rand() < 0.1:\n",
        "            random_idx = np.random.choice(len(swarm))\n",
        "            for key in swarm[random_idx]:\n",
        "                if isinstance(swarm[random_idx][key], (int, float)):\n",
        "                    swarm[random_idx][key] = np.random.choice(search_space[key])\n",
        "\n",
        "# === Run HSPSO Hyperparameter Tuning ===\n",
        "start_time = datetime.now()\n",
        "\n",
        "hyper = Hyperactive()\n",
        "\n",
        "optimizer = HybridStrategyPSO(\n",
        "    n_part=20,\n",
        "    max_iter=40,\n",
        "    inertia=0.5,\n",
        "    cognitive_weight=0.9,\n",
        "    social_weight=0.5,\n",
        "    temp_weight=0.4,\n",
        "    rand_rest_p=0.05,\n",
        ")\n",
        "\n",
        "hyper.add_search(model, search_space, optimizer=optimizer, n_iter=40)\n",
        "hyper.run()\n",
        "\n",
        "end_time = datetime.now()\n",
        "print('Tuning Duration:', end_time - start_time)\n",
        "\n",
        "# === Best Parameters ===\n",
        "best_params = hyper.best_para(model)\n",
        "print(\"Best Parameters:\", best_params)\n",
        "\n",
        "# === Train Final Model with Best Parameters ===\n",
        "train_pool = Pool(data=X_train, label=y_train)\n",
        "test_pool = Pool(data=X_test, label=y_test)\n",
        "\n",
        "final_model = CatBoostClassifier(\n",
        "    depth=best_params[\"depth\"],\n",
        "    iterations=best_params[\"iterations\"],\n",
        "    learning_rate=best_params[\"learning_rate\"],\n",
        "    l2_leaf_reg=best_params[\"l2_leaf_reg\"],\n",
        "    bagging_temperature=best_params[\"bagging_temperature\"],\n",
        "    random_strength=best_params[\"random_strength\"],\n",
        "    verbose=10\n",
        ")\n",
        "\n",
        "final_model.fit(\n",
        "    train_pool,\n",
        "    eval_set=test_pool,\n",
        "    verbose=best_params[\"iterations\"] // 10,\n",
        "    plot=True\n",
        ")\n"
      ],
      "metadata": {
        "id": "jQr38vF8A9_i",
        "outputId": "81cb57d8-2d5b-4cd9-ee0d-8ded93e20734",
        "colab": {
          "base_uri": "https://localhost:8080/",
          "height": 677,
          "referenced_widgets": [
            "51aee9f26cd54ae29d517d9ea346c0af"
          ]
        }
      },
      "id": "jQr38vF8A9_i",
      "execution_count": 28,
      "outputs": [
        {
          "output_type": "stream",
          "name": "stderr",
          "text": [
            "[0] model (Particle Swarm Optimization): 100%|\u001b[32m──────────\u001b[0m| 40/40 [05:46<00:00,  8.67s/it, best_iter=0, best_pos=None, best_score=-inf]"
          ]
        },
        {
          "output_type": "stream",
          "name": "stdout",
          "text": [
            "\n",
            "\n",
            "Results: 'model'  \n",
            "   Best score: 0.9769411586290566  \n",
            "   Best parameter set:\n",
            "      'iterations'          : 500.0  \n",
            "      'depth'               : 8.0  \n",
            "      'learning_rate'       : 0.01  \n",
            "      'l2_leaf_reg'         : 1.0  \n",
            "      'bagging_temperature' : 0.5  \n",
            "      'random_strength'     : 1.5  \n",
            "   Best iteration: 0  \n",
            " \n",
            "   Random seed: 1560504062  \n",
            " \n",
            "   Evaluation time   : 346.48474621772766 sec    [100.0 %]\n",
            "   Optimization time : 0.011720418930053711 sec    [0.0 %]\n",
            "   Iteration time    : 346.4964666366577 sec    [8.66 sec/iter]\n",
            " \n",
            "Tuning Duration: 0:05:46.747301\n",
            "Best Parameters: {'iterations': 500, 'depth': 8, 'learning_rate': 0.01, 'l2_leaf_reg': 1, 'bagging_temperature': 0.5, 'random_strength': 1.5}\n"
          ]
        },
        {
          "output_type": "stream",
          "name": "stderr",
          "text": [
            "\n"
          ]
        },
        {
          "output_type": "display_data",
          "data": {
            "text/plain": [
              "MetricVisualizer(layout=Layout(align_self='stretch', height='500px'))"
            ],
            "application/vnd.jupyter.widget-view+json": {
              "version_major": 2,
              "version_minor": 0,
              "model_id": "51aee9f26cd54ae29d517d9ea346c0af"
            }
          },
          "metadata": {}
        },
        {
          "output_type": "stream",
          "name": "stdout",
          "text": [
            "0:\tlearn: 2.0293241\ttest: 2.0288106\tbest: 2.0288106 (0)\ttotal: 22.5ms\tremaining: 11.2s\n",
            "50:\tlearn: 0.9186306\ttest: 0.9175514\tbest: 0.9175514 (50)\ttotal: 914ms\tremaining: 8.05s\n",
            "100:\tlearn: 0.5416514\ttest: 0.5381166\tbest: 0.5381166 (100)\ttotal: 1.83s\tremaining: 7.24s\n",
            "150:\tlearn: 0.3552973\ttest: 0.3503809\tbest: 0.3503809 (150)\ttotal: 2.75s\tremaining: 6.36s\n",
            "200:\tlearn: 0.2540329\ttest: 0.2481912\tbest: 0.2481912 (200)\ttotal: 3.97s\tremaining: 5.91s\n",
            "250:\tlearn: 0.1921886\ttest: 0.1864799\tbest: 0.1864799 (250)\ttotal: 5.79s\tremaining: 5.75s\n",
            "300:\tlearn: 0.1531111\ttest: 0.1478101\tbest: 0.1478101 (300)\ttotal: 7.08s\tremaining: 4.68s\n",
            "350:\tlearn: 0.1268817\ttest: 0.1226220\tbest: 0.1226220 (350)\ttotal: 7.99s\tremaining: 3.39s\n",
            "400:\tlearn: 0.1086666\ttest: 0.1067138\tbest: 0.1067138 (400)\ttotal: 8.92s\tremaining: 2.2s\n",
            "450:\tlearn: 0.0960979\ttest: 0.0962849\tbest: 0.0962849 (450)\ttotal: 9.83s\tremaining: 1.07s\n",
            "499:\tlearn: 0.0859542\ttest: 0.0883620\tbest: 0.0883620 (499)\ttotal: 10.7s\tremaining: 0us\n",
            "\n",
            "bestTest = 0.08836202649\n",
            "bestIteration = 499\n",
            "\n"
          ]
        },
        {
          "output_type": "execute_result",
          "data": {
            "text/plain": [
              "<catboost.core.CatBoostClassifier at 0x7a5ac01fbb50>"
            ]
          },
          "metadata": {},
          "execution_count": 28
        }
      ]
    },
    {
      "cell_type": "code",
      "source": [
        "hyper.add_search(model, search_space, optimizer=optimizer, n_iter=40, initialize={\"random\": 20})\n"
      ],
      "metadata": {
        "id": "a_9tYmgz45VS"
      },
      "id": "a_9tYmgz45VS",
      "execution_count": 29,
      "outputs": []
    },
    {
      "cell_type": "code",
      "source": [
        "learning_curve = final_model.get_evals_result()\n",
        "print(learning_curve)"
      ],
      "metadata": {
        "id": "2mRL06xdGZve",
        "outputId": "45513592-40d1-4eec-96dc-e1afc6c6ac1a",
        "colab": {
          "base_uri": "https://localhost:8080/"
        }
      },
      "id": "2mRL06xdGZve",
      "execution_count": 30,
      "outputs": [
        {
          "output_type": "stream",
          "name": "stdout",
          "text": [
            "{'learn': {'MultiClass': [2.029324111274275, 1.9821260691828724, 1.9370587612973944, 1.8943614490674885, 1.8482427450234873, 1.8076244644055208, 1.7719041162077558, 1.7341660757598472, 1.7027455226651227, 1.678138217809463, 1.6439219438294685, 1.6128994531919587, 1.5860676094418271, 1.5616312355647262, 1.5354577367305773, 1.5086514055337161, 1.4804770778968968, 1.456197559925815, 1.4324480648888755, 1.4087461697245562, 1.3868827334886449, 1.3653219086088486, 1.3431784780932992, 1.327224055592735, 1.3046956603184467, 1.2849703485172432, 1.2667806011764708, 1.247413868297413, 1.228484435929385, 1.2099932901874473, 1.1920384837749707, 1.1746716234876795, 1.1578734172294942, 1.1413490275088765, 1.1254632039135395, 1.10982943798215, 1.0950477220146575, 1.080962624335293, 1.066285979578808, 1.0528683347186474, 1.0387120906835785, 1.0252610359323107, 1.0124631677607392, 0.9999252126858627, 0.9886224595295388, 0.9764856091832094, 0.9641943424969163, 0.9520260943897321, 0.9405934338905148, 0.929644836259595, 0.9186305972687797, 0.908454088848986, 0.8979141138100531, 0.8865477941348646, 0.8763649641577473, 0.867163985855302, 0.8566944637757287, 0.8471593683336879, 0.8371017560291142, 0.8272339387900337, 0.8185886393063408, 0.809032764553943, 0.7989022268594005, 0.7890301304260627, 0.7796243310224695, 0.771355631195384, 0.7628329912736738, 0.7542881448843933, 0.7456072366241265, 0.7372940099164057, 0.7286679017020625, 0.7212503003184031, 0.7137043770171795, 0.7061534425280115, 0.6988210795428791, 0.6917689274099964, 0.6844557708436279, 0.6777830540343475, 0.6706341388229375, 0.6637555684549892, 0.6571426380687063, 0.6505417481417269, 0.6438482986394205, 0.637543075661447, 0.6310769859119857, 0.624965173477794, 0.6185496024104757, 0.6127327105379848, 0.606788803859415, 0.6010301165140045, 0.5948802920510522, 0.5894473282756715, 0.5838983948617116, 0.5781601785448275, 0.5729092081991896, 0.5675295000855839, 0.5619842532736276, 0.5565302867735865, 0.551654393785309, 0.547129748769621, 0.5416513951993568, 0.5374319858186197, 0.5324252753296956, 0.5275098570820607, 0.5228986736181994, 0.5182674881393857, 0.5132711821679965, 0.5083493949668829, 0.5039664922239961, 0.4992390297434568, 0.49456515187568395, 0.4897575971109063, 0.4853415347211323, 0.48137259114508096, 0.477962357078469, 0.4735510845686165, 0.46898579494561776, 0.46492165726603735, 0.4609804355004597, 0.45685679109244204, 0.4532944890831264, 0.44937636563547967, 0.4457551777922017, 0.44182888147136684, 0.4379085815160351, 0.4340242418383292, 0.4305372452359189, 0.42707658774940904, 0.42365621724625335, 0.42005856571038896, 0.4167454531243003, 0.413384643678519, 0.4099488991643031, 0.40655549599170754, 0.40346003694197297, 0.40005799755599375, 0.39666648087509127, 0.39348529818291694, 0.39027844753488977, 0.3870784394491358, 0.3839349819413853, 0.3806779994383788, 0.37770200368469653, 0.3748245682756627, 0.371856204695451, 0.3689508671509169, 0.3662688337103348, 0.36361799127610994, 0.3606653839368808, 0.35796773545685856, 0.35529729339298627, 0.352977505940253, 0.3505470373856216, 0.3480176032996906, 0.34552166207338325, 0.3429078426379551, 0.3403383180407582, 0.33803392513837205, 0.3358735062091256, 0.33354565321661045, 0.3311133256729621, 0.3286341566984782, 0.3261249964181322, 0.3240044922282074, 0.321907542468527, 0.319604723244656, 0.31760985033440886, 0.31550968732636925, 0.3132333950906004, 0.31107849000590415, 0.30896414184871424, 0.3069090490746988, 0.3048676011391987, 0.30261061502601294, 0.30077492665139643, 0.2985673968359419, 0.29651204673531806, 0.29432083209557675, 0.29235809450865974, 0.2903409572733717, 0.2885366183059464, 0.2863497966798702, 0.28442843585198896, 0.28249831159297945, 0.28059299713603936, 0.27900828288479396, 0.27717763686637503, 0.27559213068765487, 0.27393008240434447, 0.2720191301911677, 0.2705927073865919, 0.2688053946957374, 0.2670838401674927, 0.2657644452947664, 0.26410298086489487, 0.26239405146045774, 0.26066063819076035, 0.259102095635462, 0.2572898840972837, 0.2555763229016961, 0.25403294673680166, 0.25254598297442515, 0.25086637950033025, 0.24920609278826564, 0.24775020327456862, 0.24620194545895902, 0.2445623213458146, 0.24314788947671362, 0.24169978557863828, 0.24004219494258439, 0.23857911159769055, 0.2372111214191276, 0.2359608268958491, 0.23462340541655274, 0.23327516404723395, 0.2317937077938411, 0.2306094599713055, 0.22942691109437277, 0.22820486504787366, 0.2268777277846405, 0.22560161451508506, 0.22421264286540063, 0.22300235834108356, 0.22167335929510865, 0.22028687157150859, 0.21896214140628054, 0.21775039771171498, 0.21672052998387123, 0.2154631953495011, 0.21444074503396818, 0.21340468979330543, 0.21224432208929728, 0.210968672750427, 0.2098696795763938, 0.20884602341675856, 0.20787114741114118, 0.20657016818146945, 0.2054877855239764, 0.20421961535673258, 0.20319412481628185, 0.2021615319945275, 0.20136450127971492, 0.20049917548339663, 0.19939532185592, 0.19845712213671649, 0.1972969511087475, 0.19618220299410036, 0.1951246220911891, 0.19410560686583578, 0.1931758339990619, 0.19218863643047104, 0.19121937541831974, 0.19000811880702237, 0.18917142373163498, 0.1883236785548475, 0.18728325728692088, 0.1861672391733407, 0.18534547905670756, 0.18472998133885796, 0.18392388192479228, 0.18323167476840446, 0.18243099192319495, 0.18145721703986045, 0.18064421400502775, 0.1797183829583392, 0.17882395056695077, 0.17804231774861637, 0.17711716647979275, 0.1762342010984314, 0.17522079462714488, 0.17445872693855322, 0.17358338459636208, 0.17299027344535864, 0.1722935891392075, 0.1715723743679237, 0.17066623458444186, 0.16980276416980644, 0.1691071589177095, 0.16834207395171955, 0.1676204463546921, 0.16689969162600296, 0.16619216440082382, 0.1655297056421805, 0.16464127083264044, 0.1637814756337886, 0.16299457422459368, 0.1623773436947025, 0.1616758017940688, 0.16093956585535082, 0.16007003823898158, 0.1595150014787941, 0.15886582004631267, 0.1582252402146439, 0.15754446299382888, 0.15694699457535458, 0.1563326373132784, 0.15562474949256122, 0.15499930215053923, 0.15455054873785526, 0.15385951951503063, 0.15311106065853014, 0.15249339047849633, 0.1517373959699277, 0.15118684546536237, 0.15065228336474065, 0.1499366395693238, 0.14933286665284362, 0.14859619788381306, 0.14808163766711224, 0.14745889880188892, 0.14685317222317795, 0.1463715818789169, 0.14571704344236577, 0.14518167652573172, 0.14460977169472933, 0.1440591658496374, 0.14353282420441837, 0.14297747775368383, 0.1423434529139761, 0.14177563409589977, 0.14119031319172334, 0.14068802151218066, 0.14000402534535358, 0.1394620025212554, 0.13896958885684227, 0.1385074293459383, 0.1380693079309151, 0.13751597171614638, 0.1370701671685349, 0.13657062593806704, 0.13607187942484342, 0.13554778571471499, 0.13497539291551056, 0.13448787955748714, 0.13408583738966395, 0.1335850245469104, 0.13306142225894335, 0.13252134158650006, 0.13210499598468078, 0.1316514430340054, 0.1312403179612673, 0.13072578491417847, 0.13029445075816226, 0.1297630649634178, 0.12937020349262537, 0.12895207185532134, 0.12859372426070104, 0.12815918203141555, 0.12775815423690395, 0.12731815643375458, 0.12688174179883072, 0.12646708871700452, 0.12595623979021353, 0.12553034017532935, 0.12508288921974747, 0.1246815939981101, 0.1242146399625856, 0.12378001107847238, 0.12336579772195132, 0.12288981452462247, 0.12240145341603022, 0.12200533203061108, 0.12165330378039273, 0.12136188145412467, 0.12089362292939111, 0.12051138384006367, 0.12015743115920242, 0.11976029982136303, 0.11938830355500113, 0.11899863535949534, 0.11864891256339839, 0.11822784611999157, 0.11782489675966094, 0.11738295254392006, 0.11710155664835857, 0.11679195219460609, 0.11645811422673849, 0.11603403685435894, 0.11574984201169862, 0.11540269818381906, 0.11504357318233903, 0.1147010493799013, 0.1143217748766617, 0.11395336750051353, 0.11363986144314159, 0.11325662800234208, 0.11294327534659207, 0.11264803478222979, 0.1123387822986593, 0.11202226868414562, 0.11178107637910002, 0.11143290865093454, 0.11101869808455447, 0.11083208800901158, 0.11051057439742622, 0.11013282822976005, 0.10989009121994944, 0.10963917596984615, 0.10928964313468213, 0.10895561665988661, 0.10866660363374007, 0.1082837322678747, 0.10807516241637871, 0.10780306772941955, 0.10746145180832009, 0.10727811282599829, 0.10698234745448978, 0.10671085797012694, 0.10643209467391426, 0.10618063914193605, 0.10590796641748025, 0.10557131606169685, 0.10526278616622241, 0.10494070435874477, 0.10466723150575832, 0.10436008577203205, 0.10404506941120892, 0.10366439433451187, 0.10346809539254183, 0.10317309021195543, 0.10292442305248647, 0.10269460697202323, 0.10247391177328678, 0.10230504997683255, 0.10210581237781513, 0.10179447339286787, 0.10153478347688452, 0.1013487211606628, 0.10107763429180136, 0.10084198258085839, 0.10063444390880051, 0.10036146004847127, 0.10014918138145364, 0.09986422726665158, 0.09958994675346612, 0.09942085651142671, 0.09915492510261238, 0.09898349382780773, 0.0987558184273496, 0.09853443553313314, 0.09829527491660564, 0.0980301593533836, 0.09773945202861024, 0.09746758750941116, 0.09740945397879586, 0.09719380063174102, 0.09696472033487455, 0.09680275593793507, 0.09659638811506345, 0.09631382703170283, 0.09609785059683186, 0.09590447591673293, 0.09570962054352943, 0.09547693234188612, 0.09524736976094364, 0.0950385190954949, 0.09483082850900561, 0.09459708394523796, 0.09434392493042551, 0.09417461705157613, 0.09393585407238585, 0.09369535197452566, 0.0934360580637843, 0.0931900357849084, 0.09294356684924715, 0.0926992071016181, 0.09250326263805891, 0.09229590600294474, 0.09205738329753134, 0.09181141210302259, 0.09156814197254863, 0.09134531910886123, 0.09108251300706673, 0.09090630147574572, 0.09066208519461101, 0.09048827888127552, 0.09023609109409646, 0.09004955006647047, 0.08989103737707274, 0.08968727763224986, 0.08948823692411653, 0.08928253541645026, 0.08902929140321691, 0.08881593194467237, 0.08863206367437831, 0.08843090298053222, 0.08825453556325542, 0.08814036284610398, 0.0879826275251375, 0.08781164478918886, 0.08761566964325988, 0.08736523819714044, 0.0872136668638646, 0.08703301685556905, 0.08685727440303341, 0.08665948181022506, 0.08646917121628292, 0.08631028941694899, 0.08612722454708784, 0.08595424072357577]}, 'validation': {'MultiClass': [2.028810626007605, 1.9816054064548159, 1.9350414139877359, 1.8928371803699382, 1.8470215643104089, 1.8071039769858854, 1.7712949671175717, 1.7330628195842062, 1.701290779797967, 1.6773942693971042, 1.642733902428491, 1.6117866572913142, 1.5849711064257685, 1.5609421510842292, 1.5350546296607208, 1.508276675857443, 1.4801309216908347, 1.455994994644835, 1.4324331174467586, 1.4090099516612273, 1.386792652506287, 1.3649694462320165, 1.342751181573798, 1.3268611059663227, 1.3042045033375733, 1.2840264978538312, 1.265890548313765, 1.2464857535399094, 1.2280833128659434, 1.2095087126464983, 1.1918562363338008, 1.1742165000144646, 1.1572123871719548, 1.140531065938974, 1.1243171264280554, 1.108767659144503, 1.0938430679584927, 1.079259895270927, 1.0643915578151915, 1.0513284738064157, 1.0372977999892135, 1.023926986259083, 1.0111248553968033, 0.9984553364781515, 0.9873909268620916, 0.9751935664015814, 0.9629482295148418, 0.9504653808363143, 0.9394521748442992, 0.928592610953754, 0.9175513971553331, 0.907394542419501, 0.8969762825754016, 0.8853394556746276, 0.8749971826110392, 0.8660722007016646, 0.8554221504524191, 0.84610025975202, 0.8358251579367292, 0.8261777424009941, 0.8176813098765308, 0.8079714137447243, 0.7979765943289429, 0.7881438278529495, 0.7785359778647264, 0.7700568711068305, 0.7613694973496371, 0.7529077139211584, 0.7441102312834633, 0.7357524414661959, 0.7270815729909464, 0.7197210824040391, 0.7120608813544377, 0.7042630652946819, 0.6967526615562236, 0.689629845539353, 0.6824223459953581, 0.6757037777787226, 0.6685005524986556, 0.6616550905439976, 0.6550155478677863, 0.648249906140029, 0.6415136506838583, 0.6351533748704985, 0.6285037400712072, 0.6222728994204092, 0.615816660025569, 0.6098504921419037, 0.6039127445326934, 0.5981648037338145, 0.5919311636159359, 0.5866061128504912, 0.5810003729210117, 0.5752269186429, 0.5700782123773497, 0.5645577942038312, 0.5589285121567105, 0.5534238607171093, 0.5483088365705139, 0.5436739049906997, 0.5381165650080306, 0.5339927436272257, 0.5289887953933218, 0.5240646095985037, 0.5194183690541883, 0.514707630871809, 0.509615581609591, 0.5047956161629135, 0.5005393011770928, 0.49565117028167033, 0.49086748898902566, 0.48586596307022467, 0.4812980746639106, 0.4774429389516805, 0.47423342824181086, 0.4699242463023144, 0.46535335485259394, 0.4612622238869791, 0.45731794383325064, 0.4531442609948203, 0.4495998841309896, 0.44568429485400834, 0.44182495364509433, 0.43777515822802593, 0.43377476058846337, 0.4297684041449463, 0.42617047734606606, 0.422544054851279, 0.41914956364410777, 0.415503696488184, 0.4122246305315125, 0.40882197928145997, 0.40529918917161745, 0.40195983893604514, 0.39885197349143636, 0.3955324770866326, 0.3920612878246311, 0.388797959347522, 0.3854976218257508, 0.38232685006261474, 0.37916390595710453, 0.3758378053587466, 0.3728204322585523, 0.36987859715117344, 0.3668555029958621, 0.36406348448679926, 0.36142825917932675, 0.35879394358379174, 0.3557953310252983, 0.3531334768093799, 0.35038088733860323, 0.34803939100748, 0.34570520456151443, 0.3431173157606907, 0.3406609650697082, 0.33800004202695627, 0.3354567993517286, 0.3331274931421987, 0.3309387259680657, 0.3286164139305906, 0.3261532184000651, 0.3236237636768077, 0.32101242644686023, 0.3189974399325368, 0.3168588836730677, 0.31453862288929085, 0.31262867801008926, 0.31039885806510076, 0.30808982797298257, 0.30589248985803147, 0.3036875587665094, 0.3016029277740458, 0.299478715455028, 0.2971275121576278, 0.2953963430301097, 0.29310422698904476, 0.29101506451551995, 0.28874406556191173, 0.28674200912218184, 0.2847226496069257, 0.2828936249377524, 0.2806954843494671, 0.27887003701880186, 0.2769258558201344, 0.27504139442619285, 0.2735156168611238, 0.2715912705034877, 0.27004208623402715, 0.268389460935427, 0.2664083985380652, 0.2649625960581767, 0.26323703195277665, 0.26141023874145675, 0.2601401299035768, 0.25850870620366034, 0.25673506687828984, 0.25497308328385904, 0.2534438899907343, 0.2515717656862381, 0.24979278799684887, 0.24819123082018582, 0.2467162683702845, 0.24504622701978038, 0.2433348726971891, 0.24187236639933202, 0.24033644149054256, 0.23866837348857367, 0.23736231130403343, 0.23586808828454345, 0.23413686115040142, 0.23272619774629963, 0.23141843776003027, 0.23024030593941, 0.2288392980122153, 0.22755999913121694, 0.22610272268999154, 0.2249111697732922, 0.22377114712630408, 0.222509318267142, 0.22117194840475937, 0.21988890077563203, 0.21845047372641305, 0.2170905707417083, 0.21572204063762948, 0.2142979087069623, 0.21300133044662026, 0.21177062043549813, 0.2108857247396776, 0.20964529349084168, 0.2086174476541142, 0.20753410785431023, 0.2063498481220637, 0.20511153417691613, 0.20395698195036105, 0.2029656247587376, 0.2019862226022918, 0.2006681225008278, 0.19963791606581607, 0.19829613824085848, 0.1972831088635968, 0.19629012503665907, 0.19554928376170708, 0.19475504077561917, 0.1936445803667542, 0.19267890091726086, 0.1915463509187528, 0.19046202926384817, 0.1894256782034741, 0.1882944370022251, 0.1873750246689006, 0.1864799097938782, 0.18548232085860905, 0.18425699738977713, 0.1833994205528336, 0.182482588778139, 0.18136443826101795, 0.18019766224939163, 0.17942081025597223, 0.17886673807799594, 0.17813265608348972, 0.17747283332024597, 0.17671436185882314, 0.17567402675301932, 0.17491089190165424, 0.17397869496253576, 0.17299170054819035, 0.17229548355377206, 0.17134858405173292, 0.1704534889322838, 0.16944172920950745, 0.1686934154212891, 0.16778431236099473, 0.1672260987985234, 0.16654852701626707, 0.16584836238212755, 0.16496571626006948, 0.16407811396514144, 0.16337627452808395, 0.16259138932019898, 0.1619690291231067, 0.16130594121615915, 0.160611265834529, 0.16001556116499496, 0.1591375647783556, 0.15818983046733423, 0.1573602079087038, 0.156776356771078, 0.15601390353418762, 0.15531410009056756, 0.15443420890282586, 0.15396389753785594, 0.15332783773922168, 0.1527391038241372, 0.1521115679347646, 0.15156243874154687, 0.15100192101399157, 0.15034893996635673, 0.14976324766756482, 0.14932825062828062, 0.14860919506203285, 0.14781007565130524, 0.14720865420361187, 0.14650303426570813, 0.14598438488283905, 0.14550203356641772, 0.14476769555041463, 0.1442100382101025, 0.143483216632764, 0.142992566957263, 0.1424343020440614, 0.14181909562897127, 0.14139896443491276, 0.140701112150527, 0.14018099042447657, 0.13963046316483754, 0.13906439077642552, 0.13856535842333656, 0.13802033909528458, 0.13739816279415792, 0.1368148622585011, 0.13624350718663014, 0.13575973858956614, 0.13503355007007722, 0.13450675627200717, 0.13397925118733756, 0.13359806795451118, 0.13324378894801894, 0.1327247117506691, 0.13229158210356126, 0.1318629009655555, 0.13137551203690467, 0.13085089963075205, 0.1302292338537686, 0.129759388501185, 0.12941931782040555, 0.12888711738681763, 0.12837939623634964, 0.12786142501332942, 0.12752505947868403, 0.12712710226055077, 0.12679754405815064, 0.12630852043381874, 0.1259025737700186, 0.12532692692141914, 0.12498137381806124, 0.12458351557100464, 0.12431232165823855, 0.1238980652098613, 0.12349495008567778, 0.12307774927415603, 0.12262204793633483, 0.12228071868115216, 0.12182116616724559, 0.12144375099408554, 0.12100711553169695, 0.12056215816433458, 0.12011222931781357, 0.11967988806538118, 0.11928181634716666, 0.11876736224082292, 0.11826264177153308, 0.11787513118193829, 0.11759285433750044, 0.11734232403212877, 0.11687119491569352, 0.11661366840673242, 0.11633781576175017, 0.11600672161296506, 0.11569012206313181, 0.11544022532698996, 0.11519075262152563, 0.1147705288962598, 0.11441175280889661, 0.11397302020387409, 0.11380316057283173, 0.11353885797418749, 0.11327107182047606, 0.11283396918290628, 0.11262436151292299, 0.11235793163689453, 0.11199515363046851, 0.11168521837453249, 0.11133209112161987, 0.11111470644628667, 0.11089774367104815, 0.110527529230167, 0.11031565556297929, 0.11012234149775073, 0.10989466747341961, 0.10966060752417557, 0.10948416914343366, 0.10917571460735465, 0.10878912133326417, 0.10865824338710375, 0.10832144316520949, 0.10798616930106567, 0.10777070079375628, 0.10756223255708972, 0.10725733021495898, 0.10694750706870894, 0.10671375265247358, 0.10630155987315303, 0.10613860931306958, 0.10587935827778444, 0.1056034046435429, 0.10551109016926737, 0.10525560765801947, 0.10506265481915213, 0.10476359285126328, 0.1045491651101244, 0.1042880518797707, 0.1040033344679742, 0.10377998443021687, 0.10345548898903738, 0.10324978475335825, 0.10298973722346154, 0.10277096558880533, 0.10239782307965534, 0.10230914956416792, 0.10206887649171487, 0.10185320720543971, 0.10167501123257647, 0.10148442114877557, 0.10135461244275046, 0.10117565002873646, 0.10089713630746891, 0.10077345165185249, 0.10061985635764421, 0.10036159482170359, 0.10017032039251816, 0.09999847550676365, 0.09979992829855325, 0.09965714046883478, 0.09938339456882989, 0.09917046527522985, 0.09910163940885304, 0.09889275606375074, 0.09879693950982534, 0.098602004713699, 0.09841529378667273, 0.09818724492347947, 0.09794410217993059, 0.09765178028481081, 0.09736629364433114, 0.09737297118426211, 0.09718102930660065, 0.09700784536871043, 0.09689698657700628, 0.0967002922704368, 0.0964222229369043, 0.09628485988729343, 0.09612673642959547, 0.0959706716018072, 0.0958121117865116, 0.09568553617502466, 0.0955701975562771, 0.09538290600220271, 0.09521628257913284, 0.09498586432290615, 0.09487959000567148, 0.09461265217890277, 0.09443925154770161, 0.09421012799951214, 0.09402124943720544, 0.0937994177870101, 0.09357700005513969, 0.09341615184378481, 0.0932651199489529, 0.09304627559429034, 0.09293978262257148, 0.09274191645456153, 0.09251988770511547, 0.09228329019726385, 0.09215442305439084, 0.09193770814671834, 0.09184897381272839, 0.09160979598622665, 0.09145362330859597, 0.09135914139479842, 0.0911662024272111, 0.09092535236994151, 0.09077718306769553, 0.09052537822271131, 0.09040804594656372, 0.09025426701198963, 0.09009314598292067, 0.09001194342184561, 0.08991128776294782, 0.08984261701787977, 0.08971553235538196, 0.08966566493741221, 0.08939138426642983, 0.08930717949010127, 0.08916983487130924, 0.08901983782248414, 0.08885681801431507, 0.08871880689782934, 0.08857789426081039, 0.08844759349642377, 0.08836202649157086]}}\n"
          ]
        }
      ]
    },
    {
      "cell_type": "code",
      "source": [
        "# Retrieve evaluation results\n",
        "learning_curve = final_model.get_evals_result()\n",
        "\n",
        "# Extract the metric values\n",
        "# Assuming 'learn' corresponds to the training dataset\n",
        "train_metric_values = learning_curve.get('learn', {}).get('MultiClass', [])\n",
        "\n",
        "# Check the extracted values\n",
        "if train_metric_values:\n",
        "    print(\"Training metric values:\", train_metric_values)\n",
        "else:\n",
        "    print(\"Metric 'MultiClass' not found in evaluation results.\")\n"
      ],
      "metadata": {
        "id": "3baCXa2jGafB",
        "outputId": "29eaf33a-8c41-4a83-c8e6-9855c9119354",
        "colab": {
          "base_uri": "https://localhost:8080/"
        }
      },
      "id": "3baCXa2jGafB",
      "execution_count": 31,
      "outputs": [
        {
          "output_type": "stream",
          "name": "stdout",
          "text": [
            "Training metric values: [2.029324111274275, 1.9821260691828724, 1.9370587612973944, 1.8943614490674885, 1.8482427450234873, 1.8076244644055208, 1.7719041162077558, 1.7341660757598472, 1.7027455226651227, 1.678138217809463, 1.6439219438294685, 1.6128994531919587, 1.5860676094418271, 1.5616312355647262, 1.5354577367305773, 1.5086514055337161, 1.4804770778968968, 1.456197559925815, 1.4324480648888755, 1.4087461697245562, 1.3868827334886449, 1.3653219086088486, 1.3431784780932992, 1.327224055592735, 1.3046956603184467, 1.2849703485172432, 1.2667806011764708, 1.247413868297413, 1.228484435929385, 1.2099932901874473, 1.1920384837749707, 1.1746716234876795, 1.1578734172294942, 1.1413490275088765, 1.1254632039135395, 1.10982943798215, 1.0950477220146575, 1.080962624335293, 1.066285979578808, 1.0528683347186474, 1.0387120906835785, 1.0252610359323107, 1.0124631677607392, 0.9999252126858627, 0.9886224595295388, 0.9764856091832094, 0.9641943424969163, 0.9520260943897321, 0.9405934338905148, 0.929644836259595, 0.9186305972687797, 0.908454088848986, 0.8979141138100531, 0.8865477941348646, 0.8763649641577473, 0.867163985855302, 0.8566944637757287, 0.8471593683336879, 0.8371017560291142, 0.8272339387900337, 0.8185886393063408, 0.809032764553943, 0.7989022268594005, 0.7890301304260627, 0.7796243310224695, 0.771355631195384, 0.7628329912736738, 0.7542881448843933, 0.7456072366241265, 0.7372940099164057, 0.7286679017020625, 0.7212503003184031, 0.7137043770171795, 0.7061534425280115, 0.6988210795428791, 0.6917689274099964, 0.6844557708436279, 0.6777830540343475, 0.6706341388229375, 0.6637555684549892, 0.6571426380687063, 0.6505417481417269, 0.6438482986394205, 0.637543075661447, 0.6310769859119857, 0.624965173477794, 0.6185496024104757, 0.6127327105379848, 0.606788803859415, 0.6010301165140045, 0.5948802920510522, 0.5894473282756715, 0.5838983948617116, 0.5781601785448275, 0.5729092081991896, 0.5675295000855839, 0.5619842532736276, 0.5565302867735865, 0.551654393785309, 0.547129748769621, 0.5416513951993568, 0.5374319858186197, 0.5324252753296956, 0.5275098570820607, 0.5228986736181994, 0.5182674881393857, 0.5132711821679965, 0.5083493949668829, 0.5039664922239961, 0.4992390297434568, 0.49456515187568395, 0.4897575971109063, 0.4853415347211323, 0.48137259114508096, 0.477962357078469, 0.4735510845686165, 0.46898579494561776, 0.46492165726603735, 0.4609804355004597, 0.45685679109244204, 0.4532944890831264, 0.44937636563547967, 0.4457551777922017, 0.44182888147136684, 0.4379085815160351, 0.4340242418383292, 0.4305372452359189, 0.42707658774940904, 0.42365621724625335, 0.42005856571038896, 0.4167454531243003, 0.413384643678519, 0.4099488991643031, 0.40655549599170754, 0.40346003694197297, 0.40005799755599375, 0.39666648087509127, 0.39348529818291694, 0.39027844753488977, 0.3870784394491358, 0.3839349819413853, 0.3806779994383788, 0.37770200368469653, 0.3748245682756627, 0.371856204695451, 0.3689508671509169, 0.3662688337103348, 0.36361799127610994, 0.3606653839368808, 0.35796773545685856, 0.35529729339298627, 0.352977505940253, 0.3505470373856216, 0.3480176032996906, 0.34552166207338325, 0.3429078426379551, 0.3403383180407582, 0.33803392513837205, 0.3358735062091256, 0.33354565321661045, 0.3311133256729621, 0.3286341566984782, 0.3261249964181322, 0.3240044922282074, 0.321907542468527, 0.319604723244656, 0.31760985033440886, 0.31550968732636925, 0.3132333950906004, 0.31107849000590415, 0.30896414184871424, 0.3069090490746988, 0.3048676011391987, 0.30261061502601294, 0.30077492665139643, 0.2985673968359419, 0.29651204673531806, 0.29432083209557675, 0.29235809450865974, 0.2903409572733717, 0.2885366183059464, 0.2863497966798702, 0.28442843585198896, 0.28249831159297945, 0.28059299713603936, 0.27900828288479396, 0.27717763686637503, 0.27559213068765487, 0.27393008240434447, 0.2720191301911677, 0.2705927073865919, 0.2688053946957374, 0.2670838401674927, 0.2657644452947664, 0.26410298086489487, 0.26239405146045774, 0.26066063819076035, 0.259102095635462, 0.2572898840972837, 0.2555763229016961, 0.25403294673680166, 0.25254598297442515, 0.25086637950033025, 0.24920609278826564, 0.24775020327456862, 0.24620194545895902, 0.2445623213458146, 0.24314788947671362, 0.24169978557863828, 0.24004219494258439, 0.23857911159769055, 0.2372111214191276, 0.2359608268958491, 0.23462340541655274, 0.23327516404723395, 0.2317937077938411, 0.2306094599713055, 0.22942691109437277, 0.22820486504787366, 0.2268777277846405, 0.22560161451508506, 0.22421264286540063, 0.22300235834108356, 0.22167335929510865, 0.22028687157150859, 0.21896214140628054, 0.21775039771171498, 0.21672052998387123, 0.2154631953495011, 0.21444074503396818, 0.21340468979330543, 0.21224432208929728, 0.210968672750427, 0.2098696795763938, 0.20884602341675856, 0.20787114741114118, 0.20657016818146945, 0.2054877855239764, 0.20421961535673258, 0.20319412481628185, 0.2021615319945275, 0.20136450127971492, 0.20049917548339663, 0.19939532185592, 0.19845712213671649, 0.1972969511087475, 0.19618220299410036, 0.1951246220911891, 0.19410560686583578, 0.1931758339990619, 0.19218863643047104, 0.19121937541831974, 0.19000811880702237, 0.18917142373163498, 0.1883236785548475, 0.18728325728692088, 0.1861672391733407, 0.18534547905670756, 0.18472998133885796, 0.18392388192479228, 0.18323167476840446, 0.18243099192319495, 0.18145721703986045, 0.18064421400502775, 0.1797183829583392, 0.17882395056695077, 0.17804231774861637, 0.17711716647979275, 0.1762342010984314, 0.17522079462714488, 0.17445872693855322, 0.17358338459636208, 0.17299027344535864, 0.1722935891392075, 0.1715723743679237, 0.17066623458444186, 0.16980276416980644, 0.1691071589177095, 0.16834207395171955, 0.1676204463546921, 0.16689969162600296, 0.16619216440082382, 0.1655297056421805, 0.16464127083264044, 0.1637814756337886, 0.16299457422459368, 0.1623773436947025, 0.1616758017940688, 0.16093956585535082, 0.16007003823898158, 0.1595150014787941, 0.15886582004631267, 0.1582252402146439, 0.15754446299382888, 0.15694699457535458, 0.1563326373132784, 0.15562474949256122, 0.15499930215053923, 0.15455054873785526, 0.15385951951503063, 0.15311106065853014, 0.15249339047849633, 0.1517373959699277, 0.15118684546536237, 0.15065228336474065, 0.1499366395693238, 0.14933286665284362, 0.14859619788381306, 0.14808163766711224, 0.14745889880188892, 0.14685317222317795, 0.1463715818789169, 0.14571704344236577, 0.14518167652573172, 0.14460977169472933, 0.1440591658496374, 0.14353282420441837, 0.14297747775368383, 0.1423434529139761, 0.14177563409589977, 0.14119031319172334, 0.14068802151218066, 0.14000402534535358, 0.1394620025212554, 0.13896958885684227, 0.1385074293459383, 0.1380693079309151, 0.13751597171614638, 0.1370701671685349, 0.13657062593806704, 0.13607187942484342, 0.13554778571471499, 0.13497539291551056, 0.13448787955748714, 0.13408583738966395, 0.1335850245469104, 0.13306142225894335, 0.13252134158650006, 0.13210499598468078, 0.1316514430340054, 0.1312403179612673, 0.13072578491417847, 0.13029445075816226, 0.1297630649634178, 0.12937020349262537, 0.12895207185532134, 0.12859372426070104, 0.12815918203141555, 0.12775815423690395, 0.12731815643375458, 0.12688174179883072, 0.12646708871700452, 0.12595623979021353, 0.12553034017532935, 0.12508288921974747, 0.1246815939981101, 0.1242146399625856, 0.12378001107847238, 0.12336579772195132, 0.12288981452462247, 0.12240145341603022, 0.12200533203061108, 0.12165330378039273, 0.12136188145412467, 0.12089362292939111, 0.12051138384006367, 0.12015743115920242, 0.11976029982136303, 0.11938830355500113, 0.11899863535949534, 0.11864891256339839, 0.11822784611999157, 0.11782489675966094, 0.11738295254392006, 0.11710155664835857, 0.11679195219460609, 0.11645811422673849, 0.11603403685435894, 0.11574984201169862, 0.11540269818381906, 0.11504357318233903, 0.1147010493799013, 0.1143217748766617, 0.11395336750051353, 0.11363986144314159, 0.11325662800234208, 0.11294327534659207, 0.11264803478222979, 0.1123387822986593, 0.11202226868414562, 0.11178107637910002, 0.11143290865093454, 0.11101869808455447, 0.11083208800901158, 0.11051057439742622, 0.11013282822976005, 0.10989009121994944, 0.10963917596984615, 0.10928964313468213, 0.10895561665988661, 0.10866660363374007, 0.1082837322678747, 0.10807516241637871, 0.10780306772941955, 0.10746145180832009, 0.10727811282599829, 0.10698234745448978, 0.10671085797012694, 0.10643209467391426, 0.10618063914193605, 0.10590796641748025, 0.10557131606169685, 0.10526278616622241, 0.10494070435874477, 0.10466723150575832, 0.10436008577203205, 0.10404506941120892, 0.10366439433451187, 0.10346809539254183, 0.10317309021195543, 0.10292442305248647, 0.10269460697202323, 0.10247391177328678, 0.10230504997683255, 0.10210581237781513, 0.10179447339286787, 0.10153478347688452, 0.1013487211606628, 0.10107763429180136, 0.10084198258085839, 0.10063444390880051, 0.10036146004847127, 0.10014918138145364, 0.09986422726665158, 0.09958994675346612, 0.09942085651142671, 0.09915492510261238, 0.09898349382780773, 0.0987558184273496, 0.09853443553313314, 0.09829527491660564, 0.0980301593533836, 0.09773945202861024, 0.09746758750941116, 0.09740945397879586, 0.09719380063174102, 0.09696472033487455, 0.09680275593793507, 0.09659638811506345, 0.09631382703170283, 0.09609785059683186, 0.09590447591673293, 0.09570962054352943, 0.09547693234188612, 0.09524736976094364, 0.0950385190954949, 0.09483082850900561, 0.09459708394523796, 0.09434392493042551, 0.09417461705157613, 0.09393585407238585, 0.09369535197452566, 0.0934360580637843, 0.0931900357849084, 0.09294356684924715, 0.0926992071016181, 0.09250326263805891, 0.09229590600294474, 0.09205738329753134, 0.09181141210302259, 0.09156814197254863, 0.09134531910886123, 0.09108251300706673, 0.09090630147574572, 0.09066208519461101, 0.09048827888127552, 0.09023609109409646, 0.09004955006647047, 0.08989103737707274, 0.08968727763224986, 0.08948823692411653, 0.08928253541645026, 0.08902929140321691, 0.08881593194467237, 0.08863206367437831, 0.08843090298053222, 0.08825453556325542, 0.08814036284610398, 0.0879826275251375, 0.08781164478918886, 0.08761566964325988, 0.08736523819714044, 0.0872136668638646, 0.08703301685556905, 0.08685727440303341, 0.08665948181022506, 0.08646917121628292, 0.08631028941694899, 0.08612722454708784, 0.08595424072357577]\n"
          ]
        }
      ]
    },
    {
      "cell_type": "code",
      "source": [
        "import matplotlib.pyplot as plt\n",
        "\n",
        "# Plotting the learning curve\n",
        "plt.plot(train_metric_values, label='Training MultiClass Metric')\n",
        "plt.xlabel('Iterations')\n",
        "plt.ylabel('Metric Value')\n",
        "plt.title('Learning Curve')\n",
        "plt.legend()\n",
        "plt.grid()\n",
        "plt.show()\n"
      ],
      "metadata": {
        "id": "p0vioY6FGjQb",
        "outputId": "dbce9fa6-b098-4241-850e-1b2ff38c1fce",
        "colab": {
          "base_uri": "https://localhost:8080/",
          "height": 472
        }
      },
      "id": "p0vioY6FGjQb",
      "execution_count": 32,
      "outputs": [
        {
          "output_type": "display_data",
          "data": {
            "text/plain": [
              "<Figure size 640x480 with 1 Axes>"
            ],
            "image/png": "[encoded data removed]"
          },
          "metadata": {}
        }
      ]
    },
    {
      "cell_type": "code",
      "source": [
        "# Predictions\n",
        "y_pred_train = final_model.predict(X_train)\n",
        "y_pred_test = final_model.predict(X_test)\n",
        "\n",
        "print(\"Classification Report - Training Set:\")\n",
        "print(classification_report(y_train, y_pred_train))\n",
        "\n",
        "print(\"Classification Report - Test Set:\")\n",
        "print(classification_report(y_test, y_pred_test))\n",
        "\n",
        "conf_matrix_train = confusion_matrix(y_train, y_pred_train)\n",
        "conf_matrix_test = confusion_matrix(y_test, y_pred_test)\n",
        "\n",
        "plt.figure(figsize=(15, 5))\n",
        "\n",
        "plt.subplot(1, 3, 1)\n",
        "sns.heatmap(conf_matrix_train, annot=True, fmt=\"d\", cmap=\"Blues\", cbar=False)\n",
        "plt.title(\"Confusion Matrix - Training Set\")\n",
        "plt.xlabel(\"Predicted\")\n",
        "plt.ylabel(\"True\")\n",
        "\n",
        "plt.subplot(1, 3, 2)\n",
        "sns.heatmap(conf_matrix_test, annot=True, fmt=\"d\", cmap=\"Blues\", cbar=False)\n",
        "plt.title(\"Confusion Matrix - Test Set\")\n",
        "plt.xlabel(\"Predicted\")\n",
        "plt.ylabel(\"True\")\n",
        "\n",
        "plt.tight_layout()\n",
        "plt.savefig('C-Matrix.svg', format='svg')\n",
        "plt.show()\n",
        "\n",
        "end_time = datetime.now()\n",
        "print('Deployment Duration: {}'.format(end_time - start_time))"
      ],
      "metadata": {
        "id": "EGySyu_OHNqG",
        "outputId": "75d7707e-2ee1-49f1-f838-271f612b70cb",
        "colab": {
          "base_uri": "https://localhost:8080/",
          "height": 1000
        }
      },
      "id": "EGySyu_OHNqG",
      "execution_count": 33,
      "outputs": [
        {
          "output_type": "stream",
          "name": "stdout",
          "text": [
            "Classification Report - Training Set:\n",
            "                precision    recall  f1-score   support\n",
            "\n",
            " F1_IR007_40db       1.00      0.99      1.00       164\n",
            " F2_IR009_40db       0.98      1.00      0.99       171\n",
            " F3_IR013_40db       0.96      0.99      0.98       167\n",
            " F4_IR017_40db       0.99      0.99      0.99       168\n",
            " F5_OR009_40db       1.00      0.94      0.97       161\n",
            " F6_OR013_40db       0.97      0.97      0.97       161\n",
            " F7_OR017_40db       0.98      0.99      0.99       137\n",
            "F8_Normal_40db       1.00      0.99      1.00       128\n",
            "\n",
            "      accuracy                           0.98      1257\n",
            "     macro avg       0.98      0.98      0.98      1257\n",
            "  weighted avg       0.98      0.98      0.98      1257\n",
            "\n",
            "Classification Report - Test Set:\n",
            "                precision    recall  f1-score   support\n",
            "\n",
            " F1_IR007_40db       1.00      1.00      1.00        42\n",
            " F2_IR009_40db       1.00      1.00      1.00        44\n",
            " F3_IR013_40db       0.93      0.98      0.95        42\n",
            " F4_IR017_40db       1.00      1.00      1.00        35\n",
            " F5_OR009_40db       1.00      0.95      0.98        42\n",
            " F6_OR013_40db       0.96      0.92      0.94        26\n",
            " F7_OR017_40db       0.98      1.00      0.99        47\n",
            "F8_Normal_40db       1.00      1.00      1.00        37\n",
            "\n",
            "      accuracy                           0.98       315\n",
            "     macro avg       0.98      0.98      0.98       315\n",
            "  weighted avg       0.98      0.98      0.98       315\n",
            "\n"
          ]
        },
        {
          "output_type": "display_data",
          "data": {
            "text/plain": [
              "<Figure size 1500x500 with 2 Axes>"
            ],
            "image/png": "[encoded data removed]"
          },
          "metadata": {}
        },
        {
          "output_type": "stream",
          "name": "stdout",
          "text": [
            "Deployment Duration: 0:05:58.865878\n"
          ]
        }
      ]
    },
    {
      "cell_type": "code",
      "source": [
        "final_model.fit(X_train, y_train, eval_set=(X_test, y_test))\n",
        "\n",
        "# Evaluate train accuracy\n",
        "result_train = final_model.score(X_train, y_train)\n",
        "print(\"Train Accuracy : {}\".format(result_train))\n",
        "\n",
        "# Evaluate test accuracy\n",
        "result_test = final_model.score(X_test, y_test)\n",
        "print(\"Test Accuracy : {}\".format(result_test))\n",
        "\n",
        "# Predictions\n",
        "y_pred_train = final_model.predict(X_train)\n",
        "y_pred_test = final_model.predict(X_test)\n",
        "\n",
        "# Classification report\n",
        "print(\"Classification Report - Training Set:\")\n",
        "print(classification_report(y_train, y_pred_train))\n",
        "\n",
        "print(\"Classification Report - Test Set:\")\n",
        "print(classification_report(y_test, y_pred_test))"
      ],
      "metadata": {
        "id": "tEOwmxFROH5f",
        "outputId": "daa94771-4052-4c05-9c7a-a551f6b6eeb4",
        "colab": {
          "base_uri": "https://localhost:8080/"
        }
      },
      "id": "tEOwmxFROH5f",
      "execution_count": 35,
      "outputs": [
        {
          "output_type": "stream",
          "name": "stdout",
          "text": [
            "0:\tlearn: 2.0293241\ttest: 2.0288106\tbest: 2.0288106 (0)\ttotal: 20.7ms\tremaining: 10.3s\n",
            "10:\tlearn: 1.6439219\ttest: 1.6427339\tbest: 1.6427339 (10)\ttotal: 210ms\tremaining: 9.34s\n",
            "20:\tlearn: 1.3868827\ttest: 1.3867927\tbest: 1.3867927 (20)\ttotal: 388ms\tremaining: 8.86s\n",
            "30:\tlearn: 1.1920385\ttest: 1.1918562\tbest: 1.1918562 (30)\ttotal: 544ms\tremaining: 8.24s\n",
            "40:\tlearn: 1.0387121\ttest: 1.0372978\tbest: 1.0372978 (40)\ttotal: 725ms\tremaining: 8.12s\n",
            "50:\tlearn: 0.9186306\ttest: 0.9175514\tbest: 0.9175514 (50)\ttotal: 926ms\tremaining: 8.15s\n",
            "60:\tlearn: 0.8185886\ttest: 0.8176813\tbest: 0.8176813 (60)\ttotal: 1.11s\tremaining: 8.03s\n",
            "70:\tlearn: 0.7286679\ttest: 0.7270816\tbest: 0.7270816 (70)\ttotal: 1.3s\tremaining: 7.88s\n",
            "80:\tlearn: 0.6571426\ttest: 0.6550155\tbest: 0.6550155 (80)\ttotal: 1.5s\tremaining: 7.75s\n",
            "90:\tlearn: 0.5948803\ttest: 0.5919312\tbest: 0.5919312 (90)\ttotal: 1.68s\tremaining: 7.57s\n",
            "100:\tlearn: 0.5416514\ttest: 0.5381166\tbest: 0.5381166 (100)\ttotal: 1.86s\tremaining: 7.35s\n",
            "110:\tlearn: 0.4945652\ttest: 0.4908675\tbest: 0.4908675 (110)\ttotal: 2.06s\tremaining: 7.23s\n",
            "120:\tlearn: 0.4532945\ttest: 0.4495999\tbest: 0.4495999 (120)\ttotal: 2.24s\tremaining: 7.03s\n",
            "130:\tlearn: 0.4167455\ttest: 0.4122246\tbest: 0.4122246 (130)\ttotal: 2.42s\tremaining: 6.82s\n",
            "140:\tlearn: 0.3839350\ttest: 0.3791639\tbest: 0.3791639 (140)\ttotal: 2.6s\tremaining: 6.63s\n",
            "150:\tlearn: 0.3552973\ttest: 0.3503809\tbest: 0.3503809 (150)\ttotal: 2.78s\tremaining: 6.43s\n",
            "160:\tlearn: 0.3311133\ttest: 0.3261532\tbest: 0.3261532 (160)\ttotal: 2.98s\tremaining: 6.26s\n",
            "170:\tlearn: 0.3089641\ttest: 0.3036876\tbest: 0.3036876 (170)\ttotal: 3.16s\tremaining: 6.07s\n",
            "180:\tlearn: 0.2885366\ttest: 0.2828936\tbest: 0.2828936 (180)\ttotal: 3.34s\tremaining: 5.88s\n",
            "190:\tlearn: 0.2705927\ttest: 0.2649626\tbest: 0.2649626 (190)\ttotal: 3.51s\tremaining: 5.68s\n",
            "200:\tlearn: 0.2540329\ttest: 0.2481912\tbest: 0.2481912 (200)\ttotal: 3.69s\tremaining: 5.49s\n",
            "210:\tlearn: 0.2385791\ttest: 0.2327262\tbest: 0.2327262 (210)\ttotal: 3.87s\tremaining: 5.29s\n",
            "220:\tlearn: 0.2256016\ttest: 0.2198889\tbest: 0.2198889 (220)\ttotal: 4.06s\tremaining: 5.12s\n",
            "230:\tlearn: 0.2134047\ttest: 0.2075341\tbest: 0.2075341 (230)\ttotal: 4.23s\tremaining: 4.92s\n",
            "240:\tlearn: 0.2021615\ttest: 0.1962901\tbest: 0.1962901 (240)\ttotal: 4.4s\tremaining: 4.73s\n",
            "250:\tlearn: 0.1921886\ttest: 0.1864799\tbest: 0.1864799 (250)\ttotal: 4.58s\tremaining: 4.54s\n",
            "260:\tlearn: 0.1832317\ttest: 0.1774728\tbest: 0.1774728 (260)\ttotal: 4.76s\tremaining: 4.36s\n",
            "270:\tlearn: 0.1744587\ttest: 0.1686934\tbest: 0.1686934 (270)\ttotal: 4.94s\tremaining: 4.18s\n",
            "280:\tlearn: 0.1668997\ttest: 0.1613059\tbest: 0.1613059 (280)\ttotal: 5.14s\tremaining: 4s\n",
            "290:\tlearn: 0.1595150\ttest: 0.1539639\tbest: 0.1539639 (290)\ttotal: 5.32s\tremaining: 3.82s\n",
            "300:\tlearn: 0.1531111\ttest: 0.1478101\tbest: 0.1478101 (300)\ttotal: 5.5s\tremaining: 3.64s\n",
            "310:\tlearn: 0.1468532\ttest: 0.1418191\tbest: 0.1418191 (310)\ttotal: 5.68s\tremaining: 3.45s\n",
            "320:\tlearn: 0.1411903\ttest: 0.1362435\tbest: 0.1362435 (320)\ttotal: 5.85s\tremaining: 3.26s\n",
            "330:\tlearn: 0.1360719\ttest: 0.1313755\tbest: 0.1313755 (330)\ttotal: 6.04s\tremaining: 3.09s\n",
            "340:\tlearn: 0.1312403\ttest: 0.1267975\tbest: 0.1267975 (340)\ttotal: 6.36s\tremaining: 2.96s\n",
            "350:\tlearn: 0.1268817\ttest: 0.1226220\tbest: 0.1226220 (350)\ttotal: 6.73s\tremaining: 2.85s\n",
            "360:\tlearn: 0.1224015\ttest: 0.1182626\tbest: 0.1182626 (360)\ttotal: 7.08s\tremaining: 2.73s\n",
            "370:\tlearn: 0.1186489\ttest: 0.1151908\tbest: 0.1151908 (370)\ttotal: 7.44s\tremaining: 2.59s\n",
            "380:\tlearn: 0.1150436\ttest: 0.1119952\tbest: 0.1119952 (380)\ttotal: 7.81s\tremaining: 2.44s\n",
            "390:\tlearn: 0.1117811\ttest: 0.1094842\tbest: 0.1094842 (390)\ttotal: 8.15s\tremaining: 2.27s\n",
            "400:\tlearn: 0.1086666\ttest: 0.1067138\tbest: 0.1067138 (400)\ttotal: 8.51s\tremaining: 2.1s\n",
            "410:\tlearn: 0.1059080\ttest: 0.1042881\tbest: 0.1042881 (410)\ttotal: 8.87s\tremaining: 1.92s\n",
            "420:\tlearn: 0.1029244\ttest: 0.1018532\tbest: 0.1018532 (420)\ttotal: 9.23s\tremaining: 1.73s\n",
            "430:\tlearn: 0.1006344\ttest: 0.0999985\tbest: 0.0999985 (430)\ttotal: 9.4s\tremaining: 1.5s\n",
            "440:\tlearn: 0.0982953\ttest: 0.0981872\tbest: 0.0981872 (440)\ttotal: 9.58s\tremaining: 1.28s\n",
            "450:\tlearn: 0.0960979\ttest: 0.0962849\tbest: 0.0962849 (450)\ttotal: 9.76s\tremaining: 1.06s\n",
            "460:\tlearn: 0.0939359\ttest: 0.0946127\tbest: 0.0946127 (460)\ttotal: 9.93s\tremaining: 840ms\n",
            "470:\tlearn: 0.0915681\ttest: 0.0927419\tbest: 0.0927419 (470)\ttotal: 10.1s\tremaining: 622ms\n",
            "480:\tlearn: 0.0894882\ttest: 0.0909254\tbest: 0.0909254 (480)\ttotal: 10.3s\tremaining: 407ms\n",
            "490:\tlearn: 0.0876157\ttest: 0.0896657\tbest: 0.0896657 (490)\ttotal: 10.5s\tremaining: 192ms\n",
            "499:\tlearn: 0.0859542\ttest: 0.0883620\tbest: 0.0883620 (499)\ttotal: 10.6s\tremaining: 0us\n",
            "\n",
            "bestTest = 0.08836202649\n",
            "bestIteration = 499\n",
            "\n",
            "Train Accuracy : 0.9840891010342084\n",
            "Test Accuracy : 0.9841269841269841\n",
            "Classification Report - Training Set:\n",
            "                precision    recall  f1-score   support\n",
            "\n",
            " F1_IR007_40db       1.00      0.99      1.00       164\n",
            " F2_IR009_40db       0.98      1.00      0.99       171\n",
            " F3_IR013_40db       0.96      0.99      0.98       167\n",
            " F4_IR017_40db       0.99      0.99      0.99       168\n",
            " F5_OR009_40db       1.00      0.94      0.97       161\n",
            " F6_OR013_40db       0.97      0.97      0.97       161\n",
            " F7_OR017_40db       0.98      0.99      0.99       137\n",
            "F8_Normal_40db       1.00      0.99      1.00       128\n",
            "\n",
            "      accuracy                           0.98      1257\n",
            "     macro avg       0.98      0.98      0.98      1257\n",
            "  weighted avg       0.98      0.98      0.98      1257\n",
            "\n",
            "Classification Report - Test Set:\n",
            "                precision    recall  f1-score   support\n",
            "\n",
            " F1_IR007_40db       1.00      1.00      1.00        42\n",
            " F2_IR009_40db       1.00      1.00      1.00        44\n",
            " F3_IR013_40db       0.93      0.98      0.95        42\n",
            " F4_IR017_40db       1.00      1.00      1.00        35\n",
            " F5_OR009_40db       1.00      0.95      0.98        42\n",
            " F6_OR013_40db       0.96      0.92      0.94        26\n",
            " F7_OR017_40db       0.98      1.00      0.99        47\n",
            "F8_Normal_40db       1.00      1.00      1.00        37\n",
            "\n",
            "      accuracy                           0.98       315\n",
            "     macro avg       0.98      0.98      0.98       315\n",
            "  weighted avg       0.98      0.98      0.98       315\n",
            "\n"
          ]
        }
      ]
    }
  ],
  "metadata": {
    "kernelspec": {
      "display_name": "Python 3",
      "name": "python3"
    },
    "language_info": {
      "codemirror_mode": {
        "name": "ipython",
        "version": 3
      },
      "file_extension": ".py",
      "mimetype": "text/x-python",
      "name": "python",
      "nbconvert_exporter": "python",
      "pygments_lexer": "ipython3",
      "version": "3.11.2"
    },
    "colab": {
      "provenance": [],
      "gpuType": "T4",
      "include_colab_link": true
    },
    "accelerator": "GPU",
    "widgets": {
      "application/vnd.jupyter.widget-state+json": {
        "51aee9f26cd54ae29d517d9ea346c0af": {
          "model_module": "catboost-widget",
          "model_name": "CatboostWidgetModel",
          "model_module_version": "^1.0.0",
          "state": {
            "_dom_classes": [],
            "_model_module": "catboost-widget",
            "_model_module_version": "^1.0.0",
            "_model_name": "CatboostWidgetModel",
            "_view_count": null,
            "_view_module": "catboost-widget",
            "_view_module_version": "^1.0.0",
            "_view_name": "CatboostWidgetView",
            "data": {
              "catboost_info": {
                "path": "catboost_info",
                "name": "catboost_info",
                "content": {
                  "passed_iterations": 499,
                  "total_iterations": 500,
                  "data": {
                    "iterations": [
                      {
                        "learn": [
                          2.029324111
                        ],
                        "iteration": 0,
                        "passed_time": 0.02249705042,
                        "remaining_time": 11.22602816,
                        "test": [
                          2.028810626
                        ]
                      },
                      {
                        "learn": [
                          1.982126069
                        ],
                        "iteration": 1,
                        "passed_time": 0.04043559067,
                        "remaining_time": 10.06846208,
                        "test": [
                          1.981605406
                        ]
                      },
                      {
                        "learn": [
                          1.937058761
                        ],
                        "iteration": 2,
                        "passed_time": 0.05821781287,
                        "remaining_time": 9.644750999,
                        "test": [
                          1.935041414
                        ]
                      },
                      {
                        "learn": [
                          1.894361449
                        ],
                        "iteration": 3,
                        "passed_time": 0.07576808709,
                        "remaining_time": 9.395242799,
                        "test": [
                          1.89283718
                        ]
                      },
                      {
                        "learn": [
                          1.848242745
                        ],
                        "iteration": 4,
                        "passed_time": 0.09478968132,
                        "remaining_time": 9.384178451,
                        "test": [
                          1.847021564
                        ]
                      },
                      {
                        "learn": [
                          1.807624464
                        ],
                        "iteration": 5,
                        "passed_time": 0.1139368098,
                        "remaining_time": 9.380797338,
                        "test": [
                          1.807103977
                        ]
                      },
                      {
                        "learn": [
                          1.771904116
                        ],
                        "iteration": 6,
                        "passed_time": 0.1315710192,
                        "remaining_time": 9.266358927,
                        "test": [
                          1.771294967
                        ]
                      },
                      {
                        "learn": [
                          1.734166076
                        ],
                        "iteration": 7,
                        "passed_time": 0.1490578674,
                        "remaining_time": 9.167058847,
                        "test": [
                          1.73306282
                        ]
                      },
                      {
                        "learn": [
                          1.702745523
                        ],
                        "iteration": 8,
                        "passed_time": 0.1693419391,
                        "remaining_time": 9.238543565,
                        "test": [
                          1.70129078
                        ]
                      },
                      {
                        "learn": [
                          1.678138218
                        ],
                        "iteration": 9,
                        "passed_time": 0.1889985455,
                        "remaining_time": 9.260928732,
                        "test": [
                          1.677394269
                        ]
                      },
                      {
                        "learn": [
                          1.643921944
                        ],
                        "iteration": 10,
                        "passed_time": 0.206597343,
                        "remaining_time": 9.184190976,
                        "test": [
                          1.642733902
                        ]
                      },
                      {
                        "learn": [
                          1.612899453
                        ],
                        "iteration": 11,
                        "passed_time": 0.2243665772,
                        "remaining_time": 9.124240805,
                        "test": [
                          1.611786657
                        ]
                      },
                      {
                        "learn": [
                          1.586067609
                        ],
                        "iteration": 12,
                        "passed_time": 0.243015806,
                        "remaining_time": 9.103745962,
                        "test": [
                          1.584971106
                        ]
                      },
                      {
                        "learn": [
                          1.561631236
                        ],
                        "iteration": 13,
                        "passed_time": 0.2612439397,
                        "remaining_time": 9.068896763,
                        "test": [
                          1.560942151
                        ]
                      },
                      {
                        "learn": [
                          1.535457737
                        ],
                        "iteration": 14,
                        "passed_time": 0.2789815404,
                        "remaining_time": 9.020403138,
                        "test": [
                          1.53505463
                        ]
                      },
                      {
                        "learn": [
                          1.508651406
                        ],
                        "iteration": 15,
                        "passed_time": 0.2966915484,
                        "remaining_time": 8.974919339,
                        "test": [
                          1.508276676
                        ]
                      },
                      {
                        "learn": [
                          1.480477078
                        ],
                        "iteration": 16,
                        "passed_time": 0.3145033939,
                        "remaining_time": 8.935596426,
                        "test": [
                          1.480130922
                        ]
                      },
                      {
                        "learn": [
                          1.45619756
                        ],
                        "iteration": 17,
                        "passed_time": 0.3321211895,
                        "remaining_time": 8.893467408,
                        "test": [
                          1.455994995
                        ]
                      },
                      {
                        "learn": [
                          1.432448065
                        ],
                        "iteration": 18,
                        "passed_time": 0.3500292864,
                        "remaining_time": 8.861267725,
                        "test": [
                          1.432433117
                        ]
                      },
                      {
                        "learn": [
                          1.40874617
                        ],
                        "iteration": 19,
                        "passed_time": 0.3692627045,
                        "remaining_time": 8.862304907,
                        "test": [
                          1.409009952
                        ]
                      },
                      {
                        "learn": [
                          1.386882733
                        ],
                        "iteration": 20,
                        "passed_time": 0.3869552236,
                        "remaining_time": 8.826264385,
                        "test": [
                          1.386792653
                        ]
                      },
                      {
                        "learn": [
                          1.365321909
                        ],
                        "iteration": 21,
                        "passed_time": 0.4045956009,
                        "remaining_time": 8.790758965,
                        "test": [
                          1.364969446
                        ]
                      },
                      {
                        "learn": [
                          1.343178478
                        ],
                        "iteration": 22,
                        "passed_time": 0.4227915543,
                        "remaining_time": 8.768329191,
                        "test": [
                          1.342751182
                        ]
                      },
                      {
                        "learn": [
                          1.327224056
                        ],
                        "iteration": 23,
                        "passed_time": 0.4260084309,
                        "remaining_time": 8.449167212,
                        "test": [
                          1.326861106
                        ]
                      },
                      {
                        "learn": [
                          1.30469566
                        ],
                        "iteration": 24,
                        "passed_time": 0.4435364193,
                        "remaining_time": 8.427191967,
                        "test": [
                          1.304204503
                        ]
                      },
                      {
                        "learn": [
                          1.284970349
                        ],
                        "iteration": 25,
                        "passed_time": 0.4528145509,
                        "remaining_time": 8.255157582,
                        "test": [
                          1.284026498
                        ]
                      },
                      {
                        "learn": [
                          1.266780601
                        ],
                        "iteration": 26,
                        "passed_time": 0.4701738388,
                        "remaining_time": 8.236749101,
                        "test": [
                          1.265890548
                        ]
                      },
                      {
                        "learn": [
                          1.247413868
                        ],
                        "iteration": 27,
                        "passed_time": 0.4876459837,
                        "remaining_time": 8.220318011,
                        "test": [
                          1.246485754
                        ]
                      },
                      {
                        "learn": [
                          1.228484436
                        ],
                        "iteration": 28,
                        "passed_time": 0.5053278823,
                        "remaining_time": 8.207221812,
                        "test": [
                          1.228083313
                        ]
                      },
                      {
                        "learn": [
                          1.20999329
                        ],
                        "iteration": 29,
                        "passed_time": 0.52285233,
                        "remaining_time": 8.191353169,
                        "test": [
                          1.209508713
                        ]
                      },
                      {
                        "learn": [
                          1.192038484
                        ],
                        "iteration": 30,
                        "passed_time": 0.5404268674,
                        "remaining_time": 8.17613551,
                        "test": [
                          1.191856236
                        ]
                      },
                      {
                        "learn": [
                          1.174671623
                        ],
                        "iteration": 31,
                        "passed_time": 0.5760225234,
                        "remaining_time": 8.424329405,
                        "test": [
                          1.1742165
                        ]
                      },
                      {
                        "learn": [
                          1.157873417
                        ],
                        "iteration": 32,
                        "passed_time": 0.5943344969,
                        "remaining_time": 8.410733638,
                        "test": [
                          1.157212387
                        ]
                      },
                      {
                        "learn": [
                          1.141349028
                        ],
                        "iteration": 33,
                        "passed_time": 0.6120537927,
                        "remaining_time": 8.388737276,
                        "test": [
                          1.140531066
                        ]
                      },
                      {
                        "learn": [
                          1.125463204
                        ],
                        "iteration": 34,
                        "passed_time": 0.6296299098,
                        "remaining_time": 8.365083087,
                        "test": [
                          1.124317126
                        ]
                      },
                      {
                        "learn": [
                          1.109829438
                        ],
                        "iteration": 35,
                        "passed_time": 0.6472091572,
                        "remaining_time": 8.341806915,
                        "test": [
                          1.108767659
                        ]
                      },
                      {
                        "learn": [
                          1.095047722
                        ],
                        "iteration": 36,
                        "passed_time": 0.6647518625,
                        "remaining_time": 8.318381415,
                        "test": [
                          1.093843068
                        ]
                      },
                      {
                        "learn": [
                          1.080962624
                        ],
                        "iteration": 37,
                        "passed_time": 0.6824040796,
                        "remaining_time": 8.296596968,
                        "test": [
                          1.079259895
                        ]
                      },
                      {
                        "learn": [
                          1.06628598
                        ],
                        "iteration": 38,
                        "passed_time": 0.7001983543,
                        "remaining_time": 8.276703624,
                        "test": [
                          1.064391558
                        ]
                      },
                      {
                        "learn": [
                          1.052868335
                        ],
                        "iteration": 39,
                        "passed_time": 0.7177900184,
                        "remaining_time": 8.254585212,
                        "test": [
                          1.051328474
                        ]
                      },
                      {
                        "learn": [
                          1.038712091
                        ],
                        "iteration": 40,
                        "passed_time": 0.735259715,
                        "remaining_time": 8.231322175,
                        "test": [
                          1.0372978
                        ]
                      },
                      {
                        "learn": [
                          1.025261036
                        ],
                        "iteration": 41,
                        "passed_time": 0.7529803877,
                        "remaining_time": 8.211071846,
                        "test": [
                          1.023926986
                        ]
                      },
                      {
                        "learn": [
                          1.012463168
                        ],
                        "iteration": 42,
                        "passed_time": 0.7705108941,
                        "remaining_time": 8.188918107,
                        "test": [
                          1.011124855
                        ]
                      },
                      {
                        "learn": [
                          0.9999252127
                        ],
                        "iteration": 43,
                        "passed_time": 0.788051972,
                        "remaining_time": 8.167084073,
                        "test": [
                          0.9984553365
                        ]
                      },
                      {
                        "learn": [
                          0.9886224595
                        ],
                        "iteration": 44,
                        "passed_time": 0.8056090359,
                        "remaining_time": 8.145602474,
                        "test": [
                          0.9873909269
                        ]
                      },
                      {
                        "learn": [
                          0.9764856092
                        ],
                        "iteration": 45,
                        "passed_time": 0.8232803494,
                        "remaining_time": 8.1254191,
                        "test": [
                          0.9751935664
                        ]
                      },
                      {
                        "learn": [
                          0.9641943425
                        ],
                        "iteration": 46,
                        "passed_time": 0.8412225945,
                        "remaining_time": 8.107953943,
                        "test": [
                          0.9629482295
                        ]
                      },
                      {
                        "learn": [
                          0.9520260944
                        ],
                        "iteration": 47,
                        "passed_time": 0.8589609639,
                        "remaining_time": 8.088549077,
                        "test": [
                          0.9504653808
                        ]
                      },
                      {
                        "learn": [
                          0.9405934339
                        ],
                        "iteration": 48,
                        "passed_time": 0.8764403759,
                        "remaining_time": 8.066828766,
                        "test": [
                          0.9394521748
                        ]
                      },
                      {
                        "learn": [
                          0.9296448363
                        ],
                        "iteration": 49,
                        "passed_time": 0.8964251737,
                        "remaining_time": 8.067826563,
                        "test": [
                          0.928592611
                        ]
                      },
                      {
                        "learn": [
                          0.9186305973
                        ],
                        "iteration": 50,
                        "passed_time": 0.9140221205,
                        "remaining_time": 8.046979061,
                        "test": [
                          0.9175513972
                        ]
                      },
                      {
                        "learn": [
                          0.9084540888
                        ],
                        "iteration": 51,
                        "passed_time": 0.9318395947,
                        "remaining_time": 8.028156508,
                        "test": [
                          0.9073945424
                        ]
                      },
                      {
                        "learn": [
                          0.8979141138
                        ],
                        "iteration": 52,
                        "passed_time": 0.9493992052,
                        "remaining_time": 8.007197071,
                        "test": [
                          0.8969762826
                        ]
                      },
                      {
                        "learn": [
                          0.8865477941
                        ],
                        "iteration": 53,
                        "passed_time": 0.9668723794,
                        "remaining_time": 7.985649652,
                        "test": [
                          0.8853394557
                        ]
                      },
                      {
                        "learn": [
                          0.8763649642
                        ],
                        "iteration": 54,
                        "passed_time": 0.9842539571,
                        "remaining_time": 7.963509289,
                        "test": [
                          0.8749971826
                        ]
                      },
                      {
                        "learn": [
                          0.8671639859
                        ],
                        "iteration": 55,
                        "passed_time": 1.006752237,
                        "remaining_time": 7.982107023,
                        "test": [
                          0.8660722007
                        ]
                      },
                      {
                        "learn": [
                          0.8566944638
                        ],
                        "iteration": 56,
                        "passed_time": 1.024457243,
                        "remaining_time": 7.962009804,
                        "test": [
                          0.8554221505
                        ]
                      },
                      {
                        "learn": [
                          0.8471593683
                        ],
                        "iteration": 57,
                        "passed_time": 1.041980176,
                        "remaining_time": 7.940607548,
                        "test": [
                          0.8461002598
                        ]
                      },
                      {
                        "learn": [
                          0.837101756
                        ],
                        "iteration": 58,
                        "passed_time": 1.059702679,
                        "remaining_time": 7.920828498,
                        "test": [
                          0.8358251579
                        ]
                      },
                      {
                        "learn": [
                          0.8272339388
                        ],
                        "iteration": 59,
                        "passed_time": 1.077685143,
                        "remaining_time": 7.903024384,
                        "test": [
                          0.8261777424
                        ]
                      },
                      {
                        "learn": [
                          0.8185886393
                        ],
                        "iteration": 60,
                        "passed_time": 1.098162901,
                        "remaining_time": 7.90317235,
                        "test": [
                          0.8176813099
                        ]
                      },
                      {
                        "learn": [
                          0.8090327646
                        ],
                        "iteration": 61,
                        "passed_time": 1.118573226,
                        "remaining_time": 7.902178594,
                        "test": [
                          0.8079714137
                        ]
                      },
                      {
                        "learn": [
                          0.7989022269
                        ],
                        "iteration": 62,
                        "passed_time": 1.136535332,
                        "remaining_time": 7.883586349,
                        "test": [
                          0.7979765943
                        ]
                      },
                      {
                        "learn": [
                          0.7890301304
                        ],
                        "iteration": 63,
                        "passed_time": 1.156464989,
                        "remaining_time": 7.878417739,
                        "test": [
                          0.7881438279
                        ]
                      },
                      {
                        "learn": [
                          0.779624331
                        ],
                        "iteration": 64,
                        "passed_time": 1.174178443,
                        "remaining_time": 7.85796343,
                        "test": [
                          0.7785359779
                        ]
                      },
                      {
                        "learn": [
                          0.7713556312
                        ],
                        "iteration": 65,
                        "passed_time": 1.191838777,
                        "remaining_time": 7.837242869,
                        "test": [
                          0.7700568711
                        ]
                      },
                      {
                        "learn": [
                          0.7628329913
                        ],
                        "iteration": 66,
                        "passed_time": 1.209384662,
                        "remaining_time": 7.815874007,
                        "test": [
                          0.7613694973
                        ]
                      },
                      {
                        "learn": [
                          0.7542881449
                        ],
                        "iteration": 67,
                        "passed_time": 1.227130165,
                        "remaining_time": 7.795885756,
                        "test": [
                          0.7529077139
                        ]
                      },
                      {
                        "learn": [
                          0.7456072366
                        ],
                        "iteration": 68,
                        "passed_time": 1.246756412,
                        "remaining_time": 7.787710342,
                        "test": [
                          0.7441102313
                        ]
                      },
                      {
                        "learn": [
                          0.7372940099
                        ],
                        "iteration": 69,
                        "passed_time": 1.264436348,
                        "remaining_time": 7.76725185,
                        "test": [
                          0.7357524415
                        ]
                      },
                      {
                        "learn": [
                          0.7286679017
                        ],
                        "iteration": 70,
                        "passed_time": 1.28248511,
                        "remaining_time": 7.749100173,
                        "test": [
                          0.727081573
                        ]
                      },
                      {
                        "learn": [
                          0.7212503003
                        ],
                        "iteration": 71,
                        "passed_time": 1.30005855,
                        "remaining_time": 7.728125824,
                        "test": [
                          0.7197210824
                        ]
                      },
                      {
                        "learn": [
                          0.713704377
                        ],
                        "iteration": 72,
                        "passed_time": 1.317513997,
                        "remaining_time": 7.706554477,
                        "test": [
                          0.7120608814
                        ]
                      },
                      {
                        "learn": [
                          0.7061534425
                        ],
                        "iteration": 73,
                        "passed_time": 1.33520041,
                        "remaining_time": 7.686423981,
                        "test": [
                          0.7042630653
                        ]
                      },
                      {
                        "learn": [
                          0.6988210795
                        ],
                        "iteration": 74,
                        "passed_time": 1.353315618,
                        "remaining_time": 7.668788504,
                        "test": [
                          0.6967526616
                        ]
                      },
                      {
                        "learn": [
                          0.6917689274
                        ],
                        "iteration": 75,
                        "passed_time": 1.372394839,
                        "remaining_time": 7.656518575,
                        "test": [
                          0.6896298455
                        ]
                      },
                      {
                        "learn": [
                          0.6844557708
                        ],
                        "iteration": 76,
                        "passed_time": 1.390462792,
                        "remaining_time": 7.638516374,
                        "test": [
                          0.682422346
                        ]
                      },
                      {
                        "learn": [
                          0.677783054
                        ],
                        "iteration": 77,
                        "passed_time": 1.408058517,
                        "remaining_time": 7.617957617,
                        "test": [
                          0.6757037778
                        ]
                      },
                      {
                        "learn": [
                          0.6706341388
                        ],
                        "iteration": 78,
                        "passed_time": 1.425811008,
                        "remaining_time": 7.598309296,
                        "test": [
                          0.6685005525
                        ]
                      },
                      {
                        "learn": [
                          0.6637555685
                        ],
                        "iteration": 79,
                        "passed_time": 1.443766429,
                        "remaining_time": 7.579773752,
                        "test": [
                          0.6616550905
                        ]
                      },
                      {
                        "learn": [
                          0.6571426381
                        ],
                        "iteration": 80,
                        "passed_time": 1.461642546,
                        "remaining_time": 7.560842306,
                        "test": [
                          0.6550155479
                        ]
                      },
                      {
                        "learn": [
                          0.6505417481
                        ],
                        "iteration": 81,
                        "passed_time": 1.479332399,
                        "remaining_time": 7.54098711,
                        "test": [
                          0.6482499061
                        ]
                      },
                      {
                        "learn": [
                          0.6438482986
                        ],
                        "iteration": 82,
                        "passed_time": 1.497211783,
                        "remaining_time": 7.522136306,
                        "test": [
                          0.6415136507
                        ]
                      },
                      {
                        "learn": [
                          0.6375430757
                        ],
                        "iteration": 83,
                        "passed_time": 1.514854238,
                        "remaining_time": 7.502135274,
                        "test": [
                          0.6351533749
                        ]
                      },
                      {
                        "learn": [
                          0.6310769859
                        ],
                        "iteration": 84,
                        "passed_time": 1.532450967,
                        "remaining_time": 7.481966486,
                        "test": [
                          0.6285037401
                        ]
                      },
                      {
                        "learn": [
                          0.6249651735
                        ],
                        "iteration": 85,
                        "passed_time": 1.550227293,
                        "remaining_time": 7.462722084,
                        "test": [
                          0.6222728994
                        ]
                      },
                      {
                        "learn": [
                          0.6185496024
                        ],
                        "iteration": 86,
                        "passed_time": 1.571382723,
                        "remaining_time": 7.459552468,
                        "test": [
                          0.61581666
                        ]
                      },
                      {
                        "learn": [
                          0.6127327105
                        ],
                        "iteration": 87,
                        "passed_time": 1.602385294,
                        "remaining_time": 7.502076604,
                        "test": [
                          0.6098504921
                        ]
                      },
                      {
                        "learn": [
                          0.6067888039
                        ],
                        "iteration": 88,
                        "passed_time": 1.620331745,
                        "remaining_time": 7.482655587,
                        "test": [
                          0.6039127445
                        ]
                      },
                      {
                        "learn": [
                          0.6010301165
                        ],
                        "iteration": 89,
                        "passed_time": 1.638053488,
                        "remaining_time": 7.462243667,
                        "test": [
                          0.5981648037
                        ]
                      },
                      {
                        "learn": [
                          0.5948802921
                        ],
                        "iteration": 90,
                        "passed_time": 1.655782098,
                        "remaining_time": 7.441921736,
                        "test": [
                          0.5919311636
                        ]
                      },
                      {
                        "learn": [
                          0.5894473283
                        ],
                        "iteration": 91,
                        "passed_time": 1.673367683,
                        "remaining_time": 7.421021898,
                        "test": [
                          0.5866061129
                        ]
                      },
                      {
                        "learn": [
                          0.5838983949
                        ],
                        "iteration": 92,
                        "passed_time": 1.691009636,
                        "remaining_time": 7.400440022,
                        "test": [
                          0.5810003729
                        ]
                      },
                      {
                        "learn": [
                          0.5781601785
                        ],
                        "iteration": 93,
                        "passed_time": 1.708498143,
                        "remaining_time": 7.379257938,
                        "test": [
                          0.5752269186
                        ]
                      },
                      {
                        "learn": [
                          0.5729092082
                        ],
                        "iteration": 94,
                        "passed_time": 1.726287242,
                        "remaining_time": 7.359435085,
                        "test": [
                          0.5700782124
                        ]
                      },
                      {
                        "learn": [
                          0.5675295001
                        ],
                        "iteration": 95,
                        "passed_time": 1.74384802,
                        "remaining_time": 7.338693749,
                        "test": [
                          0.5645577942
                        ]
                      },
                      {
                        "learn": [
                          0.5619842533
                        ],
                        "iteration": 96,
                        "passed_time": 1.76168093,
                        "remaining_time": 7.319148607,
                        "test": [
                          0.5589285122
                        ]
                      },
                      {
                        "learn": [
                          0.5565302868
                        ],
                        "iteration": 97,
                        "passed_time": 1.779294303,
                        "remaining_time": 7.298737856,
                        "test": [
                          0.5534238607
                        ]
                      },
                      {
                        "learn": [
                          0.5516543938
                        ],
                        "iteration": 98,
                        "passed_time": 1.796825585,
                        "remaining_time": 7.278051106,
                        "test": [
                          0.5483088366
                        ]
                      },
                      {
                        "learn": [
                          0.5471297488
                        ],
                        "iteration": 99,
                        "passed_time": 1.814413631,
                        "remaining_time": 7.257654523,
                        "test": [
                          0.543673905
                        ]
                      },
                      {
                        "learn": [
                          0.5416513952
                        ],
                        "iteration": 100,
                        "passed_time": 1.8320533,
                        "remaining_time": 7.237517493,
                        "test": [
                          0.538116565
                        ]
                      },
                      {
                        "learn": [
                          0.5374319858
                        ],
                        "iteration": 101,
                        "passed_time": 1.84996429,
                        "remaining_time": 7.218488111,
                        "test": [
                          0.5339927436
                        ]
                      },
                      {
                        "learn": [
                          0.5324252753
                        ],
                        "iteration": 102,
                        "passed_time": 1.868033845,
                        "remaining_time": 7.200091615,
                        "test": [
                          0.5289887954
                        ]
                      },
                      {
                        "learn": [
                          0.5275098571
                        ],
                        "iteration": 103,
                        "passed_time": 1.886365604,
                        "remaining_time": 7.182699799,
                        "test": [
                          0.5240646096
                        ]
                      },
                      {
                        "learn": [
                          0.5228986736
                        ],
                        "iteration": 104,
                        "passed_time": 1.90405146,
                        "remaining_time": 7.162860256,
                        "test": [
                          0.5194183691
                        ]
                      },
                      {
                        "learn": [
                          0.5182674881
                        ],
                        "iteration": 105,
                        "passed_time": 1.922168547,
                        "remaining_time": 7.144664223,
                        "test": [
                          0.5147076309
                        ]
                      },
                      {
                        "learn": [
                          0.5132711822
                        ],
                        "iteration": 106,
                        "passed_time": 1.939906534,
                        "remaining_time": 7.125077269,
                        "test": [
                          0.5096155816
                        ]
                      },
                      {
                        "learn": [
                          0.508349395
                        ],
                        "iteration": 107,
                        "passed_time": 1.957442027,
                        "remaining_time": 7.10478958,
                        "test": [
                          0.5047956162
                        ]
                      },
                      {
                        "learn": [
                          0.5039664922
                        ],
                        "iteration": 108,
                        "passed_time": 1.975040047,
                        "remaining_time": 7.084776681,
                        "test": [
                          0.5005393012
                        ]
                      },
                      {
                        "learn": [
                          0.4992390297
                        ],
                        "iteration": 109,
                        "passed_time": 1.997540642,
                        "remaining_time": 7.082189549,
                        "test": [
                          0.4956511703
                        ]
                      },
                      {
                        "learn": [
                          0.4945651519
                        ],
                        "iteration": 110,
                        "passed_time": 2.016931472,
                        "remaining_time": 7.06834543,
                        "test": [
                          0.490867489
                        ]
                      },
                      {
                        "learn": [
                          0.4897575971
                        ],
                        "iteration": 111,
                        "passed_time": 2.036617942,
                        "remaining_time": 7.055426442,
                        "test": [
                          0.4858659631
                        ]
                      },
                      {
                        "learn": [
                          0.4853415347
                        ],
                        "iteration": 112,
                        "passed_time": 2.054486858,
                        "remaining_time": 7.036162958,
                        "test": [
                          0.4812980747
                        ]
                      },
                      {
                        "learn": [
                          0.4813725911
                        ],
                        "iteration": 113,
                        "passed_time": 2.072468937,
                        "remaining_time": 7.017307102,
                        "test": [
                          0.477442939
                        ]
                      },
                      {
                        "learn": [
                          0.4779623571
                        ],
                        "iteration": 114,
                        "passed_time": 2.092517554,
                        "remaining_time": 7.005384856,
                        "test": [
                          0.4742334282
                        ]
                      },
                      {
                        "learn": [
                          0.4735510846
                        ],
                        "iteration": 115,
                        "passed_time": 2.11030635,
                        "remaining_time": 6.98584171,
                        "test": [
                          0.4699242463
                        ]
                      },
                      {
                        "learn": [
                          0.4689857949
                        ],
                        "iteration": 116,
                        "passed_time": 2.127836508,
                        "remaining_time": 6.965481903,
                        "test": [
                          0.4653533549
                        ]
                      },
                      {
                        "learn": [
                          0.4649216573
                        ],
                        "iteration": 117,
                        "passed_time": 2.145291569,
                        "remaining_time": 6.944926943,
                        "test": [
                          0.4612622239
                        ]
                      },
                      {
                        "learn": [
                          0.4609804355
                        ],
                        "iteration": 118,
                        "passed_time": 2.165719402,
                        "remaining_time": 6.93394195,
                        "test": [
                          0.4573179438
                        ]
                      },
                      {
                        "learn": [
                          0.4568567911
                        ],
                        "iteration": 119,
                        "passed_time": 2.183278635,
                        "remaining_time": 6.913715679,
                        "test": [
                          0.453144261
                        ]
                      },
                      {
                        "learn": [
                          0.4532944891
                        ],
                        "iteration": 120,
                        "passed_time": 2.200800363,
                        "remaining_time": 6.893416013,
                        "test": [
                          0.4495998841
                        ]
                      },
                      {
                        "learn": [
                          0.4493763656
                        ],
                        "iteration": 121,
                        "passed_time": 2.218444953,
                        "remaining_time": 6.87354256,
                        "test": [
                          0.4456842949
                        ]
                      },
                      {
                        "learn": [
                          0.4457551778
                        ],
                        "iteration": 122,
                        "passed_time": 2.235949982,
                        "remaining_time": 6.853277587,
                        "test": [
                          0.4418249536
                        ]
                      },
                      {
                        "learn": [
                          0.4418288815
                        ],
                        "iteration": 123,
                        "passed_time": 2.2559315,
                        "remaining_time": 6.840566483,
                        "test": [
                          0.4377751582
                        ]
                      },
                      {
                        "learn": [
                          0.4379085815
                        ],
                        "iteration": 124,
                        "passed_time": 2.273956814,
                        "remaining_time": 6.821870443,
                        "test": [
                          0.4337747606
                        ]
                      },
                      {
                        "learn": [
                          0.4340242418
                        ],
                        "iteration": 125,
                        "passed_time": 2.291888969,
                        "remaining_time": 6.802908528,
                        "test": [
                          0.4297684041
                        ]
                      },
                      {
                        "learn": [
                          0.4305372452
                        ],
                        "iteration": 126,
                        "passed_time": 2.309715846,
                        "remaining_time": 6.783653626,
                        "test": [
                          0.4261704773
                        ]
                      },
                      {
                        "learn": [
                          0.4270765877
                        ],
                        "iteration": 127,
                        "passed_time": 2.327592196,
                        "remaining_time": 6.76456482,
                        "test": [
                          0.4225440549
                        ]
                      },
                      {
                        "learn": [
                          0.4236562172
                        ],
                        "iteration": 128,
                        "passed_time": 2.34572563,
                        "remaining_time": 6.746234176,
                        "test": [
                          0.4191495636
                        ]
                      },
                      {
                        "learn": [
                          0.4200585657
                        ],
                        "iteration": 129,
                        "passed_time": 2.364422578,
                        "remaining_time": 6.729510413,
                        "test": [
                          0.4155036965
                        ]
                      },
                      {
                        "learn": [
                          0.4167454531
                        ],
                        "iteration": 130,
                        "passed_time": 2.382652025,
                        "remaining_time": 6.711439673,
                        "test": [
                          0.4122246305
                        ]
                      },
                      {
                        "learn": [
                          0.4133846437
                        ],
                        "iteration": 131,
                        "passed_time": 2.400558836,
                        "remaining_time": 6.692467057,
                        "test": [
                          0.4088219793
                        ]
                      },
                      {
                        "learn": [
                          0.4099488992
                        ],
                        "iteration": 132,
                        "passed_time": 2.418356421,
                        "remaining_time": 6.673209073,
                        "test": [
                          0.4052991892
                        ]
                      },
                      {
                        "learn": [
                          0.406555496
                        ],
                        "iteration": 133,
                        "passed_time": 2.436269278,
                        "remaining_time": 6.654287729,
                        "test": [
                          0.4019598389
                        ]
                      },
                      {
                        "learn": [
                          0.4034600369
                        ],
                        "iteration": 134,
                        "passed_time": 2.454003091,
                        "remaining_time": 6.634897247,
                        "test": [
                          0.3988519735
                        ]
                      },
                      {
                        "learn": [
                          0.4000579976
                        ],
                        "iteration": 135,
                        "passed_time": 2.471915907,
                        "remaining_time": 6.616010222,
                        "test": [
                          0.3955324771
                        ]
                      },
                      {
                        "learn": [
                          0.3966664809
                        ],
                        "iteration": 136,
                        "passed_time": 2.489854909,
                        "remaining_time": 6.597206803,
                        "test": [
                          0.3920612878
                        ]
                      },
                      {
                        "learn": [
                          0.3934852982
                        ],
                        "iteration": 137,
                        "passed_time": 2.507355083,
                        "remaining_time": 6.577264783,
                        "test": [
                          0.3887979593
                        ]
                      },
                      {
                        "learn": [
                          0.3902784475
                        ],
                        "iteration": 138,
                        "passed_time": 2.524836716,
                        "remaining_time": 6.557309745,
                        "test": [
                          0.3854976218
                        ]
                      },
                      {
                        "learn": [
                          0.3870784394
                        ],
                        "iteration": 139,
                        "passed_time": 2.542274675,
                        "remaining_time": 6.537277736,
                        "test": [
                          0.3823268501
                        ]
                      },
                      {
                        "learn": [
                          0.3839349819
                        ],
                        "iteration": 140,
                        "passed_time": 2.559624967,
                        "remaining_time": 6.517059313,
                        "test": [
                          0.379163906
                        ]
                      },
                      {
                        "learn": [
                          0.3806779994
                        ],
                        "iteration": 141,
                        "passed_time": 2.577023509,
                        "remaining_time": 6.497002932,
                        "test": [
                          0.3758378054
                        ]
                      },
                      {
                        "learn": [
                          0.3777020037
                        ],
                        "iteration": 142,
                        "passed_time": 2.601367061,
                        "remaining_time": 6.494321963,
                        "test": [
                          0.3728204323
                        ]
                      },
                      {
                        "learn": [
                          0.3748245683
                        ],
                        "iteration": 143,
                        "passed_time": 2.627486238,
                        "remaining_time": 6.495729867,
                        "test": [
                          0.3698785972
                        ]
                      },
                      {
                        "learn": [
                          0.3718562047
                        ],
                        "iteration": 144,
                        "passed_time": 2.6452479,
                        "remaining_time": 6.476296582,
                        "test": [
                          0.366855503
                        ]
                      },
                      {
                        "learn": [
                          0.3689508672
                        ],
                        "iteration": 145,
                        "passed_time": 2.662903855,
                        "remaining_time": 6.456629895,
                        "test": [
                          0.3640634845
                        ]
                      },
                      {
                        "learn": [
                          0.3662688337
                        ],
                        "iteration": 146,
                        "passed_time": 2.68046575,
                        "remaining_time": 6.436764692,
                        "test": [
                          0.3614282592
                        ]
                      },
                      {
                        "learn": [
                          0.3636179913
                        ],
                        "iteration": 147,
                        "passed_time": 2.69782011,
                        "remaining_time": 6.416437019,
                        "test": [
                          0.3587939436
                        ]
                      },
                      {
                        "learn": [
                          0.3606653839
                        ],
                        "iteration": 148,
                        "passed_time": 2.715219153,
                        "remaining_time": 6.396254515,
                        "test": [
                          0.355795331
                        ]
                      },
                      {
                        "learn": [
                          0.3579677355
                        ],
                        "iteration": 149,
                        "passed_time": 2.732665465,
                        "remaining_time": 6.376219418,
                        "test": [
                          0.3531334768
                        ]
                      },
                      {
                        "learn": [
                          0.3552972934
                        ],
                        "iteration": 150,
                        "passed_time": 2.749998025,
                        "remaining_time": 6.3559557,
                        "test": [
                          0.3503808873
                        ]
                      },
                      {
                        "learn": [
                          0.3529775059
                        ],
                        "iteration": 151,
                        "passed_time": 2.767641787,
                        "remaining_time": 6.336443039,
                        "test": [
                          0.348039391
                        ]
                      },
                      {
                        "learn": [
                          0.3505470374
                        ],
                        "iteration": 152,
                        "passed_time": 2.784987801,
                        "remaining_time": 6.316279524,
                        "test": [
                          0.3457052046
                        ]
                      },
                      {
                        "learn": [
                          0.3480176033
                        ],
                        "iteration": 153,
                        "passed_time": 2.802388544,
                        "remaining_time": 6.29627556,
                        "test": [
                          0.3431173158
                        ]
                      },
                      {
                        "learn": [
                          0.3455216621
                        ],
                        "iteration": 154,
                        "passed_time": 2.819931385,
                        "remaining_time": 6.27662147,
                        "test": [
                          0.3406609651
                        ]
                      },
                      {
                        "learn": [
                          0.3429078426
                        ],
                        "iteration": 155,
                        "passed_time": 2.837395045,
                        "remaining_time": 6.256819844,
                        "test": [
                          0.338000042
                        ]
                      },
                      {
                        "learn": [
                          0.340338318
                        ],
                        "iteration": 156,
                        "passed_time": 2.854747021,
                        "remaining_time": 6.236804001,
                        "test": [
                          0.3354567994
                        ]
                      },
                      {
                        "learn": [
                          0.3380339251
                        ],
                        "iteration": 157,
                        "passed_time": 2.872231174,
                        "remaining_time": 6.217107984,
                        "test": [
                          0.3331274931
                        ]
                      },
                      {
                        "learn": [
                          0.3358735062
                        ],
                        "iteration": 158,
                        "passed_time": 2.890322498,
                        "remaining_time": 6.19874196,
                        "test": [
                          0.330938726
                        ]
                      },
                      {
                        "learn": [
                          0.3335456532
                        ],
                        "iteration": 159,
                        "passed_time": 2.907726059,
                        "remaining_time": 6.178917876,
                        "test": [
                          0.3286164139
                        ]
                      },
                      {
                        "learn": [
                          0.3311133257
                        ],
                        "iteration": 160,
                        "passed_time": 2.925146968,
                        "remaining_time": 6.159160385,
                        "test": [
                          0.3261532184
                        ]
                      },
                      {
                        "learn": [
                          0.3286341567
                        ],
                        "iteration": 161,
                        "passed_time": 2.942509367,
                        "remaining_time": 6.139309666,
                        "test": [
                          0.3236237637
                        ]
                      },
                      {
                        "learn": [
                          0.3261249964
                        ],
                        "iteration": 162,
                        "passed_time": 2.962218066,
                        "remaining_time": 6.124340419,
                        "test": [
                          0.3210124264
                        ]
                      },
                      {
                        "learn": [
                          0.3240044922
                        ],
                        "iteration": 163,
                        "passed_time": 2.97985821,
                        "remaining_time": 6.105075358,
                        "test": [
                          0.3189974399
                        ]
                      },
                      {
                        "learn": [
                          0.3219075425
                        ],
                        "iteration": 164,
                        "passed_time": 3.004900968,
                        "remaining_time": 6.100859542,
                        "test": [
                          0.3168588837
                        ]
                      },
                      {
                        "learn": [
                          0.3196047232
                        ],
                        "iteration": 165,
                        "passed_time": 3.022808197,
                        "remaining_time": 6.08203577,
                        "test": [
                          0.3145386229
                        ]
                      },
                      {
                        "learn": [
                          0.3176098503
                        ],
                        "iteration": 166,
                        "passed_time": 3.040437608,
                        "remaining_time": 6.062669004,
                        "test": [
                          0.312628678
                        ]
                      },
                      {
                        "learn": [
                          0.3155096873
                        ],
                        "iteration": 167,
                        "passed_time": 3.057808743,
                        "remaining_time": 6.042812516,
                        "test": [
                          0.3103988581
                        ]
                      },
                      {
                        "learn": [
                          0.3132333951
                        ],
                        "iteration": 168,
                        "passed_time": 3.076407266,
                        "remaining_time": 6.02538938,
                        "test": [
                          0.308089828
                        ]
                      },
                      {
                        "learn": [
                          0.31107849
                        ],
                        "iteration": 169,
                        "passed_time": 3.095590953,
                        "remaining_time": 6.009088321,
                        "test": [
                          0.3058924899
                        ]
                      },
                      {
                        "learn": [
                          0.3089641418
                        ],
                        "iteration": 170,
                        "passed_time": 3.113561171,
                        "remaining_time": 5.990418861,
                        "test": [
                          0.3036875588
                        ]
                      },
                      {
                        "learn": [
                          0.3069090491
                        ],
                        "iteration": 171,
                        "passed_time": 3.131099373,
                        "remaining_time": 5.970933689,
                        "test": [
                          0.3016029278
                        ]
                      },
                      {
                        "learn": [
                          0.3048676011
                        ],
                        "iteration": 172,
                        "passed_time": 3.150626354,
                        "remaining_time": 5.95523016,
                        "test": [
                          0.2994787155
                        ]
                      },
                      {
                        "learn": [
                          0.302610615
                        ],
                        "iteration": 173,
                        "passed_time": 3.168519977,
                        "remaining_time": 5.936422485,
                        "test": [
                          0.2971275122
                        ]
                      },
                      {
                        "learn": [
                          0.3007749267
                        ],
                        "iteration": 174,
                        "passed_time": 3.186852801,
                        "remaining_time": 5.918440916,
                        "test": [
                          0.295396343
                        ]
                      },
                      {
                        "learn": [
                          0.2985673968
                        ],
                        "iteration": 175,
                        "passed_time": 3.205158612,
                        "remaining_time": 5.900405626,
                        "test": [
                          0.293104227
                        ]
                      },
                      {
                        "learn": [
                          0.2965120467
                        ],
                        "iteration": 176,
                        "passed_time": 3.223290795,
                        "remaining_time": 5.882050433,
                        "test": [
                          0.2910150645
                        ]
                      },
                      {
                        "learn": [
                          0.2943208321
                        ],
                        "iteration": 177,
                        "passed_time": 3.243292097,
                        "remaining_time": 5.867078961,
                        "test": [
                          0.2887440656
                        ]
                      },
                      {
                        "learn": [
                          0.2923580945
                        ],
                        "iteration": 178,
                        "passed_time": 3.261520884,
                        "remaining_time": 5.848872646,
                        "test": [
                          0.2867420091
                        ]
                      },
                      {
                        "learn": [
                          0.2903409573
                        ],
                        "iteration": 179,
                        "passed_time": 3.279440821,
                        "remaining_time": 5.830117015,
                        "test": [
                          0.2847226496
                        ]
                      },
                      {
                        "learn": [
                          0.2885366183
                        ],
                        "iteration": 180,
                        "passed_time": 3.297695962,
                        "remaining_time": 5.811961392,
                        "test": [
                          0.2828936249
                        ]
                      },
                      {
                        "learn": [
                          0.2863497967
                        ],
                        "iteration": 181,
                        "passed_time": 3.330924806,
                        "remaining_time": 5.819967518,
                        "test": [
                          0.2806954843
                        ]
                      },
                      {
                        "learn": [
                          0.2844284359
                        ],
                        "iteration": 182,
                        "passed_time": 3.36122051,
                        "remaining_time": 5.822442085,
                        "test": [
                          0.278870037
                        ]
                      },
                      {
                        "learn": [
                          0.2824983116
                        ],
                        "iteration": 183,
                        "passed_time": 3.384634257,
                        "remaining_time": 5.812741441,
                        "test": [
                          0.2769258558
                        ]
                      },
                      {
                        "learn": [
                          0.2805929971
                        ],
                        "iteration": 184,
                        "passed_time": 3.410377169,
                        "remaining_time": 5.806858422,
                        "test": [
                          0.2750413944
                        ]
                      },
                      {
                        "learn": [
                          0.2790082829
                        ],
                        "iteration": 185,
                        "passed_time": 3.446971689,
                        "remaining_time": 5.819081238,
                        "test": [
                          0.2735156169
                        ]
                      },
                      {
                        "learn": [
                          0.2771776369
                        ],
                        "iteration": 186,
                        "passed_time": 3.483125026,
                        "remaining_time": 5.830043492,
                        "test": [
                          0.2715912705
                        ]
                      },
                      {
                        "learn": [
                          0.2755921307
                        ],
                        "iteration": 187,
                        "passed_time": 3.513139483,
                        "remaining_time": 5.830316589,
                        "test": [
                          0.2700420862
                        ]
                      },
                      {
                        "learn": [
                          0.2739300824
                        ],
                        "iteration": 188,
                        "passed_time": 3.543931562,
                        "remaining_time": 5.83154876,
                        "test": [
                          0.2683894609
                        ]
                      },
                      {
                        "learn": [
                          0.2720191302
                        ],
                        "iteration": 189,
                        "passed_time": 3.576689773,
                        "remaining_time": 5.835651735,
                        "test": [
                          0.2664083985
                        ]
                      },
                      {
                        "learn": [
                          0.2705927074
                        ],
                        "iteration": 190,
                        "passed_time": 3.61118819,
                        "remaining_time": 5.842184035,
                        "test": [
                          0.2649625961
                        ]
                      },
                      {
                        "learn": [
                          0.2688053947
                        ],
                        "iteration": 191,
                        "passed_time": 3.655387228,
                        "remaining_time": 5.863850345,
                        "test": [
                          0.263237032
                        ]
                      },
                      {
                        "learn": [
                          0.2670838402
                        ],
                        "iteration": 192,
                        "passed_time": 3.688118794,
                        "remaining_time": 5.866593107,
                        "test": [
                          0.2614102387
                        ]
                      },
                      {
                        "learn": [
                          0.2657644453
                        ],
                        "iteration": 193,
                        "passed_time": 3.725966713,
                        "remaining_time": 5.877040279,
                        "test": [
                          0.2601401299
                        ]
                      },
                      {
                        "learn": [
                          0.2641029809
                        ],
                        "iteration": 194,
                        "passed_time": 3.763193822,
                        "remaining_time": 5.886021106,
                        "test": [
                          0.2585087062
                        ]
                      },
                      {
                        "learn": [
                          0.2623940515
                        ],
                        "iteration": 195,
                        "passed_time": 3.798658581,
                        "remaining_time": 5.891796982,
                        "test": [
                          0.2567350669
                        ]
                      },
                      {
                        "learn": [
                          0.2606606382
                        ],
                        "iteration": 196,
                        "passed_time": 3.836977939,
                        "remaining_time": 5.901544749,
                        "test": [
                          0.2549730833
                        ]
                      },
                      {
                        "learn": [
                          0.2591020956
                        ],
                        "iteration": 197,
                        "passed_time": 3.875440089,
                        "remaining_time": 5.911024782,
                        "test": [
                          0.25344389
                        ]
                      },
                      {
                        "learn": [
                          0.2572898841
                        ],
                        "iteration": 198,
                        "passed_time": 3.91009198,
                        "remaining_time": 5.914259729,
                        "test": [
                          0.2515717657
                        ]
                      },
                      {
                        "learn": [
                          0.2555763229
                        ],
                        "iteration": 199,
                        "passed_time": 3.936348043,
                        "remaining_time": 5.904522065,
                        "test": [
                          0.249792788
                        ]
                      },
                      {
                        "learn": [
                          0.2540329467
                        ],
                        "iteration": 200,
                        "passed_time": 3.973378512,
                        "remaining_time": 5.910647638,
                        "test": [
                          0.2481912308
                        ]
                      },
                      {
                        "learn": [
                          0.252545983
                        ],
                        "iteration": 201,
                        "passed_time": 4.019257103,
                        "remaining_time": 5.929399093,
                        "test": [
                          0.2467162684
                        ]
                      },
                      {
                        "learn": [
                          0.2508663795
                        ],
                        "iteration": 202,
                        "passed_time": 4.057254307,
                        "remaining_time": 5.935982902,
                        "test": [
                          0.245046227
                        ]
                      },
                      {
                        "learn": [
                          0.2492060928
                        ],
                        "iteration": 203,
                        "passed_time": 4.095251142,
                        "remaining_time": 5.942129109,
                        "test": [
                          0.2433348727
                        ]
                      },
                      {
                        "learn": [
                          0.2477502033
                        ],
                        "iteration": 204,
                        "passed_time": 4.132494961,
                        "remaining_time": 5.946761042,
                        "test": [
                          0.2418723664
                        ]
                      },
                      {
                        "learn": [
                          0.2462019455
                        ],
                        "iteration": 205,
                        "passed_time": 4.169657241,
                        "remaining_time": 5.950870043,
                        "test": [
                          0.2403364415
                        ]
                      },
                      {
                        "learn": [
                          0.2445623213
                        ],
                        "iteration": 206,
                        "passed_time": 4.209071008,
                        "remaining_time": 5.957767176,
                        "test": [
                          0.2386683735
                        ]
                      },
                      {
                        "learn": [
                          0.2431478895
                        ],
                        "iteration": 207,
                        "passed_time": 4.25037848,
                        "remaining_time": 5.966877481,
                        "test": [
                          0.2373623113
                        ]
                      },
                      {
                        "learn": [
                          0.2416997856
                        ],
                        "iteration": 208,
                        "passed_time": 4.28272536,
                        "remaining_time": 5.96302909,
                        "test": [
                          0.2358680883
                        ]
                      },
                      {
                        "learn": [
                          0.2400421949
                        ],
                        "iteration": 209,
                        "passed_time": 4.315612179,
                        "remaining_time": 5.959654914,
                        "test": [
                          0.2341368612
                        ]
                      },
                      {
                        "learn": [
                          0.2385791116
                        ],
                        "iteration": 210,
                        "passed_time": 4.358144624,
                        "remaining_time": 5.969212304,
                        "test": [
                          0.2327261977
                        ]
                      },
                      {
                        "learn": [
                          0.2372111214
                        ],
                        "iteration": 211,
                        "passed_time": 4.39405043,
                        "remaining_time": 5.969276055,
                        "test": [
                          0.2314184378
                        ]
                      },
                      {
                        "learn": [
                          0.2359608269
                        ],
                        "iteration": 212,
                        "passed_time": 4.425364975,
                        "remaining_time": 5.962815717,
                        "test": [
                          0.2302403059
                        ]
                      },
                      {
                        "learn": [
                          0.2346234054
                        ],
                        "iteration": 213,
                        "passed_time": 4.460857915,
                        "remaining_time": 5.961707307,
                        "test": [
                          0.228839298
                        ]
                      },
                      {
                        "learn": [
                          0.233275164
                        ],
                        "iteration": 214,
                        "passed_time": 4.495715521,
                        "remaining_time": 5.959436854,
                        "test": [
                          0.2275599991
                        ]
                      },
                      {
                        "learn": [
                          0.2317937078
                        ],
                        "iteration": 215,
                        "passed_time": 4.533369259,
                        "remaining_time": 5.960541063,
                        "test": [
                          0.2261027227
                        ]
                      },
                      {
                        "learn": [
                          0.23060946
                        ],
                        "iteration": 216,
                        "passed_time": 4.569189991,
                        "remaining_time": 5.958897546,
                        "test": [
                          0.2249111698
                        ]
                      },
                      {
                        "learn": [
                          0.2294269111
                        ],
                        "iteration": 217,
                        "passed_time": 4.601166451,
                        "remaining_time": 5.95196761,
                        "test": [
                          0.2237711471
                        ]
                      },
                      {
                        "learn": [
                          0.228204865
                        ],
                        "iteration": 218,
                        "passed_time": 4.640977569,
                        "remaining_time": 5.954861629,
                        "test": [
                          0.2225093183
                        ]
                      },
                      {
                        "learn": [
                          0.2268777278
                        ],
                        "iteration": 219,
                        "passed_time": 4.681049257,
                        "remaining_time": 5.957699054,
                        "test": [
                          0.2211719484
                        ]
                      },
                      {
                        "learn": [
                          0.2256016145
                        ],
                        "iteration": 220,
                        "passed_time": 4.715876469,
                        "remaining_time": 5.953527307,
                        "test": [
                          0.2198889008
                        ]
                      },
                      {
                        "learn": [
                          0.2242126429
                        ],
                        "iteration": 221,
                        "passed_time": 4.749985968,
                        "remaining_time": 5.948180626,
                        "test": [
                          0.2184504737
                        ]
                      },
                      {
                        "learn": [
                          0.2230023583
                        ],
                        "iteration": 222,
                        "passed_time": 4.765746291,
                        "remaining_time": 5.91978351,
                        "test": [
                          0.2170905707
                        ]
                      },
                      {
                        "learn": [
                          0.2216733593
                        ],
                        "iteration": 223,
                        "passed_time": 4.79102305,
                        "remaining_time": 5.90322483,
                        "test": [
                          0.2157220406
                        ]
                      },
                      {
                        "learn": [
                          0.2202868716
                        ],
                        "iteration": 224,
                        "passed_time": 4.817760868,
                        "remaining_time": 5.888374394,
                        "test": [
                          0.2142979087
                        ]
                      },
                      {
                        "learn": [
                          0.2189621414
                        ],
                        "iteration": 225,
                        "passed_time": 4.85556332,
                        "remaining_time": 5.886833406,
                        "test": [
                          0.2130013304
                        ]
                      },
                      {
                        "learn": [
                          0.2177503977
                        ],
                        "iteration": 226,
                        "passed_time": 4.894958887,
                        "remaining_time": 5.886888881,
                        "test": [
                          0.2117706204
                        ]
                      },
                      {
                        "learn": [
                          0.21672053
                        ],
                        "iteration": 227,
                        "passed_time": 4.933759534,
                        "remaining_time": 5.885888567,
                        "test": [
                          0.2108857247
                        ]
                      },
                      {
                        "learn": [
                          0.2154631953
                        ],
                        "iteration": 228,
                        "passed_time": 4.973291831,
                        "remaining_time": 5.885423957,
                        "test": [
                          0.2096452935
                        ]
                      },
                      {
                        "learn": [
                          0.214440745
                        ],
                        "iteration": 229,
                        "passed_time": 5.014139719,
                        "remaining_time": 5.886164018,
                        "test": [
                          0.2086174477
                        ]
                      },
                      {
                        "learn": [
                          0.2134046898
                        ],
                        "iteration": 230,
                        "passed_time": 5.062252427,
                        "remaining_time": 5.895003908,
                        "test": [
                          0.2075341079
                        ]
                      },
                      {
                        "learn": [
                          0.2122443221
                        ],
                        "iteration": 231,
                        "passed_time": 5.0994491,
                        "remaining_time": 5.890742926,
                        "test": [
                          0.2063498481
                        ]
                      },
                      {
                        "learn": [
                          0.2109686728
                        ],
                        "iteration": 232,
                        "passed_time": 5.136637722,
                        "remaining_time": 5.886190007,
                        "test": [
                          0.2051115342
                        ]
                      },
                      {
                        "learn": [
                          0.2098696796
                        ],
                        "iteration": 233,
                        "passed_time": 5.170064811,
                        "remaining_time": 5.877082221,
                        "test": [
                          0.203956982
                        ]
                      },
                      {
                        "learn": [
                          0.2088460234
                        ],
                        "iteration": 234,
                        "passed_time": 5.204902667,
                        "remaining_time": 5.869358326,
                        "test": [
                          0.2029656248
                        ]
                      },
                      {
                        "learn": [
                          0.2078711474
                        ],
                        "iteration": 235,
                        "passed_time": 5.245994655,
                        "remaining_time": 5.8684008,
                        "test": [
                          0.2019862226
                        ]
                      },
                      {
                        "learn": [
                          0.2065701682
                        ],
                        "iteration": 236,
                        "passed_time": 5.281753353,
                        "remaining_time": 5.86118621,
                        "test": [
                          0.2006681225
                        ]
                      },
                      {
                        "learn": [
                          0.2054877855
                        ],
                        "iteration": 237,
                        "passed_time": 5.312986471,
                        "remaining_time": 5.848749812,
                        "test": [
                          0.1996379161
                        ]
                      },
                      {
                        "learn": [
                          0.2042196154
                        ],
                        "iteration": 238,
                        "passed_time": 5.346296172,
                        "remaining_time": 5.838423853,
                        "test": [
                          0.1982961382
                        ]
                      },
                      {
                        "learn": [
                          0.2031941248
                        ],
                        "iteration": 239,
                        "passed_time": 5.383048164,
                        "remaining_time": 5.831635511,
                        "test": [
                          0.1972831089
                        ]
                      },
                      {
                        "learn": [
                          0.202161532
                        ],
                        "iteration": 240,
                        "passed_time": 5.422622221,
                        "remaining_time": 5.827631349,
                        "test": [
                          0.196290125
                        ]
                      },
                      {
                        "learn": [
                          0.2013645013
                        ],
                        "iteration": 241,
                        "passed_time": 5.461793936,
                        "remaining_time": 5.822904279,
                        "test": [
                          0.1955492838
                        ]
                      },
                      {
                        "learn": [
                          0.2004991755
                        ],
                        "iteration": 242,
                        "passed_time": 5.501903154,
                        "remaining_time": 5.818885228,
                        "test": [
                          0.1947550408
                        ]
                      },
                      {
                        "learn": [
                          0.1993953219
                        ],
                        "iteration": 243,
                        "passed_time": 5.537078406,
                        "remaining_time": 5.809393737,
                        "test": [
                          0.1936445804
                        ]
                      },
                      {
                        "learn": [
                          0.1984571221
                        ],
                        "iteration": 244,
                        "passed_time": 5.571568333,
                        "remaining_time": 5.798979285,
                        "test": [
                          0.1926789009
                        ]
                      },
                      {
                        "learn": [
                          0.1972969511
                        ],
                        "iteration": 245,
                        "passed_time": 5.607192939,
                        "remaining_time": 5.789540677,
                        "test": [
                          0.1915463509
                        ]
                      },
                      {
                        "learn": [
                          0.196182203
                        ],
                        "iteration": 246,
                        "passed_time": 5.644645762,
                        "remaining_time": 5.781762663,
                        "test": [
                          0.1904620293
                        ]
                      },
                      {
                        "learn": [
                          0.1951246221
                        ],
                        "iteration": 247,
                        "passed_time": 5.680508981,
                        "remaining_time": 5.772130093,
                        "test": [
                          0.1894256782
                        ]
                      },
                      {
                        "learn": [
                          0.1941056069
                        ],
                        "iteration": 248,
                        "passed_time": 5.719480184,
                        "remaining_time": 5.765419784,
                        "test": [
                          0.188294437
                        ]
                      },
                      {
                        "learn": [
                          0.193175834
                        ],
                        "iteration": 249,
                        "passed_time": 5.759880272,
                        "remaining_time": 5.759880272,
                        "test": [
                          0.1873750247
                        ]
                      },
                      {
                        "learn": [
                          0.1921886364
                        ],
                        "iteration": 250,
                        "passed_time": 5.795004413,
                        "remaining_time": 5.748829079,
                        "test": [
                          0.1864799098
                        ]
                      },
                      {
                        "learn": [
                          0.1912193754
                        ],
                        "iteration": 251,
                        "passed_time": 5.8321503,
                        "remaining_time": 5.739576486,
                        "test": [
                          0.1854823209
                        ]
                      },
                      {
                        "learn": [
                          0.1900081188
                        ],
                        "iteration": 252,
                        "passed_time": 5.864286623,
                        "remaining_time": 5.725212632,
                        "test": [
                          0.1842569974
                        ]
                      },
                      {
                        "learn": [
                          0.1891714237
                        ],
                        "iteration": 253,
                        "passed_time": 5.897675943,
                        "remaining_time": 5.71192237,
                        "test": [
                          0.1833994206
                        ]
                      },
                      {
                        "learn": [
                          0.1883236786
                        ],
                        "iteration": 254,
                        "passed_time": 5.932740827,
                        "remaining_time": 5.700084324,
                        "test": [
                          0.1824825888
                        ]
                      },
                      {
                        "learn": [
                          0.1872832573
                        ],
                        "iteration": 255,
                        "passed_time": 5.971689056,
                        "remaining_time": 5.691766132,
                        "test": [
                          0.1813644383
                        ]
                      },
                      {
                        "learn": [
                          0.1861672392
                        ],
                        "iteration": 256,
                        "passed_time": 6.011549318,
                        "remaining_time": 5.684071923,
                        "test": [
                          0.1801976622
                        ]
                      },
                      {
                        "learn": [
                          0.1853454791
                        ],
                        "iteration": 257,
                        "passed_time": 6.054250756,
                        "remaining_time": 5.678793345,
                        "test": [
                          0.1794208103
                        ]
                      },
                      {
                        "learn": [
                          0.1847299813
                        ],
                        "iteration": 258,
                        "passed_time": 6.079939279,
                        "remaining_time": 5.657395237,
                        "test": [
                          0.1788667381
                        ]
                      },
                      {
                        "learn": [
                          0.1839238819
                        ],
                        "iteration": 259,
                        "passed_time": 6.109859159,
                        "remaining_time": 5.639869993,
                        "test": [
                          0.1781326561
                        ]
                      },
                      {
                        "learn": [
                          0.1832316748
                        ],
                        "iteration": 260,
                        "passed_time": 6.14071357,
                        "remaining_time": 5.62310553,
                        "test": [
                          0.1774728333
                        ]
                      },
                      {
                        "learn": [
                          0.1824309919
                        ],
                        "iteration": 261,
                        "passed_time": 6.172291523,
                        "remaining_time": 5.606890773,
                        "test": [
                          0.1767143619
                        ]
                      },
                      {
                        "learn": [
                          0.181457217
                        ],
                        "iteration": 262,
                        "passed_time": 6.210360027,
                        "remaining_time": 5.596408085,
                        "test": [
                          0.1756740268
                        ]
                      },
                      {
                        "learn": [
                          0.180644214
                        ],
                        "iteration": 263,
                        "passed_time": 6.248417747,
                        "remaining_time": 5.585706774,
                        "test": [
                          0.1749108919
                        ]
                      },
                      {
                        "learn": [
                          0.179718383
                        ],
                        "iteration": 264,
                        "passed_time": 6.281831379,
                        "remaining_time": 5.570680657,
                        "test": [
                          0.173978695
                        ]
                      },
                      {
                        "learn": [
                          0.1788239506
                        ],
                        "iteration": 265,
                        "passed_time": 6.318266249,
                        "remaining_time": 5.558174069,
                        "test": [
                          0.1729917005
                        ]
                      },
                      {
                        "learn": [
                          0.1780423177
                        ],
                        "iteration": 266,
                        "passed_time": 6.354441374,
                        "remaining_time": 5.545261574,
                        "test": [
                          0.1722954836
                        ]
                      },
                      {
                        "learn": [
                          0.1771171665
                        ],
                        "iteration": 267,
                        "passed_time": 6.390691993,
                        "remaining_time": 5.53224083,
                        "test": [
                          0.1713485841
                        ]
                      },
                      {
                        "learn": [
                          0.1762342011
                        ],
                        "iteration": 268,
                        "passed_time": 6.430891953,
                        "remaining_time": 5.522438815,
                        "test": [
                          0.1704534889
                        ]
                      },
                      {
                        "learn": [
                          0.1752207946
                        ],
                        "iteration": 269,
                        "passed_time": 6.469228487,
                        "remaining_time": 5.510824266,
                        "test": [
                          0.1694417292
                        ]
                      },
                      {
                        "learn": [
                          0.1744587269
                        ],
                        "iteration": 270,
                        "passed_time": 6.503800989,
                        "remaining_time": 5.495831832,
                        "test": [
                          0.1686934154
                        ]
                      },
                      {
                        "learn": [
                          0.1735833846
                        ],
                        "iteration": 271,
                        "passed_time": 6.539180397,
                        "remaining_time": 5.481371804,
                        "test": [
                          0.1677843124
                        ]
                      },
                      {
                        "learn": [
                          0.1729902734
                        ],
                        "iteration": 272,
                        "passed_time": 6.557088197,
                        "remaining_time": 5.452230845,
                        "test": [
                          0.1672260988
                        ]
                      },
                      {
                        "learn": [
                          0.1722935891
                        ],
                        "iteration": 273,
                        "passed_time": 6.574858518,
                        "remaining_time": 5.423058486,
                        "test": [
                          0.166548527
                        ]
                      },
                      {
                        "learn": [
                          0.1715723744
                        ],
                        "iteration": 274,
                        "passed_time": 6.592551117,
                        "remaining_time": 5.39390546,
                        "test": [
                          0.1658483624
                        ]
                      },
                      {
                        "learn": [
                          0.1706662346
                        ],
                        "iteration": 275,
                        "passed_time": 6.610231755,
                        "remaining_time": 5.364825772,
                        "test": [
                          0.1649657163
                        ]
                      },
                      {
                        "learn": [
                          0.1698027642
                        ],
                        "iteration": 276,
                        "passed_time": 6.628087283,
                        "remaining_time": 5.335969185,
                        "test": [
                          0.164078114
                        ]
                      },
                      {
                        "learn": [
                          0.1691071589
                        ],
                        "iteration": 277,
                        "passed_time": 6.645790605,
                        "remaining_time": 5.307070195,
                        "test": [
                          0.1633762745
                        ]
                      },
                      {
                        "learn": [
                          0.168342074
                        ],
                        "iteration": 278,
                        "passed_time": 6.663428362,
                        "remaining_time": 5.278199527,
                        "test": [
                          0.1625913893
                        ]
                      },
                      {
                        "learn": [
                          0.1676204464
                        ],
                        "iteration": 279,
                        "passed_time": 6.680977174,
                        "remaining_time": 5.249339208,
                        "test": [
                          0.1619690291
                        ]
                      },
                      {
                        "learn": [
                          0.1668996916
                        ],
                        "iteration": 280,
                        "passed_time": 6.698505105,
                        "remaining_time": 5.220543124,
                        "test": [
                          0.1613059412
                        ]
                      },
                      {
                        "learn": [
                          0.1661921644
                        ],
                        "iteration": 281,
                        "passed_time": 6.716065149,
                        "remaining_time": 5.191851782,
                        "test": [
                          0.1606112658
                        ]
                      },
                      {
                        "learn": [
                          0.1655297056
                        ],
                        "iteration": 282,
                        "passed_time": 6.733577846,
                        "remaining_time": 5.163202801,
                        "test": [
                          0.1600155612
                        ]
                      },
                      {
                        "learn": [
                          0.1646412708
                        ],
                        "iteration": 283,
                        "passed_time": 6.751147041,
                        "remaining_time": 5.134675214,
                        "test": [
                          0.1591375648
                        ]
                      },
                      {
                        "learn": [
                          0.1637814756
                        ],
                        "iteration": 284,
                        "passed_time": 6.768515264,
                        "remaining_time": 5.106072918,
                        "test": [
                          0.1581898305
                        ]
                      },
                      {
                        "learn": [
                          0.1629945742
                        ],
                        "iteration": 285,
                        "passed_time": 6.791058501,
                        "remaining_time": 5.081421396,
                        "test": [
                          0.1573602079
                        ]
                      },
                      {
                        "learn": [
                          0.1623773437
                        ],
                        "iteration": 286,
                        "passed_time": 6.821129003,
                        "remaining_time": 5.062371002,
                        "test": [
                          0.1567763568
                        ]
                      },
                      {
                        "learn": [
                          0.1616758018
                        ],
                        "iteration": 287,
                        "passed_time": 6.839080437,
                        "remaining_time": 5.034323099,
                        "test": [
                          0.1560139035
                        ]
                      },
                      {
                        "learn": [
                          0.1609395659
                        ],
                        "iteration": 288,
                        "passed_time": 6.85667914,
                        "remaining_time": 5.006087539,
                        "test": [
                          0.1553141001
                        ]
                      },
                      {
                        "learn": [
                          0.1600700382
                        ],
                        "iteration": 289,
                        "passed_time": 6.874811526,
                        "remaining_time": 4.978311795,
                        "test": [
                          0.1544342089
                        ]
                      },
                      {
                        "learn": [
                          0.1595150015
                        ],
                        "iteration": 290,
                        "passed_time": 6.892374982,
                        "remaining_time": 4.950193716,
                        "test": [
                          0.1539638975
                        ]
                      },
                      {
                        "learn": [
                          0.15886582
                        ],
                        "iteration": 291,
                        "passed_time": 6.909728068,
                        "remaining_time": 4.921998076,
                        "test": [
                          0.1533278377
                        ]
                      },
                      {
                        "learn": [
                          0.1582252402
                        ],
                        "iteration": 292,
                        "passed_time": 6.92722255,
                        "remaining_time": 4.893976341,
                        "test": [
                          0.1527391038
                        ]
                      },
                      {
                        "learn": [
                          0.157544463
                        ],
                        "iteration": 293,
                        "passed_time": 6.944753562,
                        "remaining_time": 4.866051816,
                        "test": [
                          0.1521115679
                        ]
                      },
                      {
                        "learn": [
                          0.1569469946
                        ],
                        "iteration": 294,
                        "passed_time": 6.962235239,
                        "remaining_time": 4.838163471,
                        "test": [
                          0.1515624387
                        ]
                      },
                      {
                        "learn": [
                          0.1563326373
                        ],
                        "iteration": 295,
                        "passed_time": 6.97950754,
                        "remaining_time": 4.810201142,
                        "test": [
                          0.151001921
                        ]
                      },
                      {
                        "learn": [
                          0.1556247495
                        ],
                        "iteration": 296,
                        "passed_time": 6.996976342,
                        "remaining_time": 4.782445109,
                        "test": [
                          0.15034894
                        ]
                      },
                      {
                        "learn": [
                          0.1549993022
                        ],
                        "iteration": 297,
                        "passed_time": 7.014414164,
                        "remaining_time": 4.754737118,
                        "test": [
                          0.1497632477
                        ]
                      },
                      {
                        "learn": [
                          0.1545505487
                        ],
                        "iteration": 298,
                        "passed_time": 7.039168721,
                        "remaining_time": 4.732016431,
                        "test": [
                          0.1493282506
                        ]
                      },
                      {
                        "learn": [
                          0.1538595195
                        ],
                        "iteration": 299,
                        "passed_time": 7.065355735,
                        "remaining_time": 4.710237157,
                        "test": [
                          0.1486091951
                        ]
                      },
                      {
                        "learn": [
                          0.1531110607
                        ],
                        "iteration": 300,
                        "passed_time": 7.084929461,
                        "remaining_time": 4.684056355,
                        "test": [
                          0.1478100757
                        ]
                      },
                      {
                        "learn": [
                          0.1524933905
                        ],
                        "iteration": 301,
                        "passed_time": 7.102510097,
                        "remaining_time": 4.65661258,
                        "test": [
                          0.1472086542
                        ]
                      },
                      {
                        "learn": [
                          0.151737396
                        ],
                        "iteration": 302,
                        "passed_time": 7.1201811,
                        "remaining_time": 4.629292662,
                        "test": [
                          0.1465030343
                        ]
                      },
                      {
                        "learn": [
                          0.1511868455
                        ],
                        "iteration": 303,
                        "passed_time": 7.137745317,
                        "remaining_time": 4.601967376,
                        "test": [
                          0.1459843849
                        ]
                      },
                      {
                        "learn": [
                          0.1506522834
                        ],
                        "iteration": 304,
                        "passed_time": 7.157400705,
                        "remaining_time": 4.576043074,
                        "test": [
                          0.1455020336
                        ]
                      },
                      {
                        "learn": [
                          0.1499366396
                        ],
                        "iteration": 305,
                        "passed_time": 7.175233131,
                        "remaining_time": 4.549004011,
                        "test": [
                          0.1447676956
                        ]
                      },
                      {
                        "learn": [
                          0.1493328667
                        ],
                        "iteration": 306,
                        "passed_time": 7.193154891,
                        "remaining_time": 4.522081088,
                        "test": [
                          0.1442100382
                        ]
                      },
                      {
                        "learn": [
                          0.1485961979
                        ],
                        "iteration": 307,
                        "passed_time": 7.210683669,
                        "remaining_time": 4.494971638,
                        "test": [
                          0.1434832166
                        ]
                      },
                      {
                        "learn": [
                          0.1480816377
                        ],
                        "iteration": 308,
                        "passed_time": 7.228164619,
                        "remaining_time": 4.467894635,
                        "test": [
                          0.142992567
                        ]
                      },
                      {
                        "learn": [
                          0.1474588988
                        ],
                        "iteration": 309,
                        "passed_time": 7.247636731,
                        "remaining_time": 4.442099932,
                        "test": [
                          0.142434302
                        ]
                      },
                      {
                        "learn": [
                          0.1468531722
                        ],
                        "iteration": 310,
                        "passed_time": 7.265439665,
                        "remaining_time": 4.4153315,
                        "test": [
                          0.1418190956
                        ]
                      },
                      {
                        "learn": [
                          0.1463715819
                        ],
                        "iteration": 311,
                        "passed_time": 7.282997336,
                        "remaining_time": 4.388472754,
                        "test": [
                          0.1413989644
                        ]
                      },
                      {
                        "learn": [
                          0.1457170434
                        ],
                        "iteration": 312,
                        "passed_time": 7.302992251,
                        "remaining_time": 4.363129556,
                        "test": [
                          0.1407011122
                        ]
                      },
                      {
                        "learn": [
                          0.1451816765
                        ],
                        "iteration": 313,
                        "passed_time": 7.320604674,
                        "remaining_time": 4.336409138,
                        "test": [
                          0.1401809904
                        ]
                      },
                      {
                        "learn": [
                          0.1446097717
                        ],
                        "iteration": 314,
                        "passed_time": 7.339366914,
                        "remaining_time": 4.310421838,
                        "test": [
                          0.1396304632
                        ]
                      },
                      {
                        "learn": [
                          0.1440591658
                        ],
                        "iteration": 315,
                        "passed_time": 7.357143821,
                        "remaining_time": 4.283906529,
                        "test": [
                          0.1390643908
                        ]
                      },
                      {
                        "learn": [
                          0.1435328242
                        ],
                        "iteration": 316,
                        "passed_time": 7.374655729,
                        "remaining_time": 4.25729337,
                        "test": [
                          0.1385653584
                        ]
                      },
                      {
                        "learn": [
                          0.1429774778
                        ],
                        "iteration": 317,
                        "passed_time": 7.392099853,
                        "remaining_time": 4.230698658,
                        "test": [
                          0.1380203391
                        ]
                      },
                      {
                        "learn": [
                          0.1423434529
                        ],
                        "iteration": 318,
                        "passed_time": 7.409671163,
                        "remaining_time": 4.204233481,
                        "test": [
                          0.1373981628
                        ]
                      },
                      {
                        "learn": [
                          0.1417756341
                        ],
                        "iteration": 319,
                        "passed_time": 7.427139735,
                        "remaining_time": 4.177766101,
                        "test": [
                          0.1368148623
                        ]
                      },
                      {
                        "learn": [
                          0.1411903132
                        ],
                        "iteration": 320,
                        "passed_time": 7.444827538,
                        "remaining_time": 4.151477038,
                        "test": [
                          0.1362435072
                        ]
                      },
                      {
                        "learn": [
                          0.1406880215
                        ],
                        "iteration": 321,
                        "passed_time": 7.462517053,
                        "remaining_time": 4.125242346,
                        "test": [
                          0.1357597386
                        ]
                      },
                      {
                        "learn": [
                          0.1400040253
                        ],
                        "iteration": 322,
                        "passed_time": 7.480306373,
                        "remaining_time": 4.099115257,
                        "test": [
                          0.1350335501
                        ]
                      },
                      {
                        "learn": [
                          0.1394620025
                        ],
                        "iteration": 323,
                        "passed_time": 7.498334933,
                        "remaining_time": 4.073169593,
                        "test": [
                          0.1345067563
                        ]
                      },
                      {
                        "learn": [
                          0.1389695889
                        ],
                        "iteration": 324,
                        "passed_time": 7.516339424,
                        "remaining_time": 4.04725969,
                        "test": [
                          0.1339792512
                        ]
                      },
                      {
                        "learn": [
                          0.1385074293
                        ],
                        "iteration": 325,
                        "passed_time": 7.533805506,
                        "remaining_time": 4.021110914,
                        "test": [
                          0.133598068
                        ]
                      },
                      {
                        "learn": [
                          0.1380693079
                        ],
                        "iteration": 326,
                        "passed_time": 7.551347091,
                        "remaining_time": 3.995055189,
                        "test": [
                          0.1332437889
                        ]
                      },
                      {
                        "learn": [
                          0.1375159717
                        ],
                        "iteration": 327,
                        "passed_time": 7.56889243,
                        "remaining_time": 3.969053348,
                        "test": [
                          0.1327247118
                        ]
                      },
                      {
                        "learn": [
                          0.1370701672
                        ],
                        "iteration": 328,
                        "passed_time": 7.586514079,
                        "remaining_time": 3.943142576,
                        "test": [
                          0.1322915821
                        ]
                      },
                      {
                        "learn": [
                          0.1365706259
                        ],
                        "iteration": 329,
                        "passed_time": 7.604012867,
                        "remaining_time": 3.91721875,
                        "test": [
                          0.131862901
                        ]
                      },
                      {
                        "learn": [
                          0.1360718794
                        ],
                        "iteration": 330,
                        "passed_time": 7.621613999,
                        "remaining_time": 3.891398084,
                        "test": [
                          0.131375512
                        ]
                      },
                      {
                        "learn": [
                          0.1355477857
                        ],
                        "iteration": 331,
                        "passed_time": 7.639048445,
                        "remaining_time": 3.865542587,
                        "test": [
                          0.1308508996
                        ]
                      },
                      {
                        "learn": [
                          0.1349753929
                        ],
                        "iteration": 332,
                        "passed_time": 7.656529991,
                        "remaining_time": 3.839761287,
                        "test": [
                          0.1302292339
                        ]
                      },
                      {
                        "learn": [
                          0.1344878796
                        ],
                        "iteration": 333,
                        "passed_time": 7.674182123,
                        "remaining_time": 3.814114468,
                        "test": [
                          0.1297593885
                        ]
                      },
                      {
                        "learn": [
                          0.1340858374
                        ],
                        "iteration": 334,
                        "passed_time": 7.691640711,
                        "remaining_time": 3.788420051,
                        "test": [
                          0.1294193178
                        ]
                      },
                      {
                        "learn": [
                          0.1335850245
                        ],
                        "iteration": 335,
                        "passed_time": 7.709067254,
                        "remaining_time": 3.762759017,
                        "test": [
                          0.1288871174
                        ]
                      },
                      {
                        "learn": [
                          0.1330614223
                        ],
                        "iteration": 336,
                        "passed_time": 7.726606197,
                        "remaining_time": 3.737201217,
                        "test": [
                          0.1283793962
                        ]
                      },
                      {
                        "learn": [
                          0.1325213416
                        ],
                        "iteration": 337,
                        "passed_time": 7.744151434,
                        "remaining_time": 3.711693883,
                        "test": [
                          0.127861425
                        ]
                      },
                      {
                        "learn": [
                          0.132104996
                        ],
                        "iteration": 338,
                        "passed_time": 7.761505145,
                        "remaining_time": 3.686142562,
                        "test": [
                          0.1275250595
                        ]
                      },
                      {
                        "learn": [
                          0.131651443
                        ],
                        "iteration": 339,
                        "passed_time": 7.779080391,
                        "remaining_time": 3.660743713,
                        "test": [
                          0.1271271023
                        ]
                      },
                      {
                        "learn": [
                          0.131240318
                        ],
                        "iteration": 340,
                        "passed_time": 7.796656284,
                        "remaining_time": 3.635391053,
                        "test": [
                          0.1267975441
                        ]
                      },
                      {
                        "learn": [
                          0.1307257849
                        ],
                        "iteration": 341,
                        "passed_time": 7.819438851,
                        "remaining_time": 3.612489294,
                        "test": [
                          0.1263085204
                        ]
                      },
                      {
                        "learn": [
                          0.1302944508
                        ],
                        "iteration": 342,
                        "passed_time": 7.849563365,
                        "remaining_time": 3.592948829,
                        "test": [
                          0.1259025738
                        ]
                      },
                      {
                        "learn": [
                          0.129763065
                        ],
                        "iteration": 343,
                        "passed_time": 7.868349887,
                        "remaining_time": 3.568205181,
                        "test": [
                          0.1253269269
                        ]
                      },
                      {
                        "learn": [
                          0.1293702035
                        ],
                        "iteration": 344,
                        "passed_time": 7.885846145,
                        "remaining_time": 3.542916384,
                        "test": [
                          0.1249813738
                        ]
                      },
                      {
                        "learn": [
                          0.1289520719
                        ],
                        "iteration": 345,
                        "passed_time": 7.903344427,
                        "remaining_time": 3.517673531,
                        "test": [
                          0.1245835156
                        ]
                      },
                      {
                        "learn": [
                          0.1285937243
                        ],
                        "iteration": 346,
                        "passed_time": 7.920916008,
                        "remaining_time": 3.492507635,
                        "test": [
                          0.1243123217
                        ]
                      },
                      {
                        "learn": [
                          0.128159182
                        ],
                        "iteration": 347,
                        "passed_time": 7.938406364,
                        "remaining_time": 3.467349906,
                        "test": [
                          0.1238980652
                        ]
                      },
                      {
                        "learn": [
                          0.1277581542
                        ],
                        "iteration": 348,
                        "passed_time": 7.955839846,
                        "remaining_time": 3.442211509,
                        "test": [
                          0.1234949501
                        ]
                      },
                      {
                        "learn": [
                          0.1273181564
                        ],
                        "iteration": 349,
                        "passed_time": 7.973464729,
                        "remaining_time": 3.417199169,
                        "test": [
                          0.1230777493
                        ]
                      },
                      {
                        "learn": [
                          0.1268817418
                        ],
                        "iteration": 350,
                        "passed_time": 7.991151161,
                        "remaining_time": 3.392255051,
                        "test": [
                          0.1226220479
                        ]
                      },
                      {
                        "learn": [
                          0.1264670887
                        ],
                        "iteration": 351,
                        "passed_time": 8.009617293,
                        "remaining_time": 3.367679998,
                        "test": [
                          0.1222807187
                        ]
                      },
                      {
                        "learn": [
                          0.1259562398
                        ],
                        "iteration": 352,
                        "passed_time": 8.027476506,
                        "remaining_time": 3.342886817,
                        "test": [
                          0.1218211662
                        ]
                      },
                      {
                        "learn": [
                          0.1255303402
                        ],
                        "iteration": 353,
                        "passed_time": 8.065436962,
                        "remaining_time": 3.326423154,
                        "test": [
                          0.121443751
                        ]
                      },
                      {
                        "learn": [
                          0.1250828892
                        ],
                        "iteration": 354,
                        "passed_time": 8.083875959,
                        "remaining_time": 3.301864828,
                        "test": [
                          0.1210071155
                        ]
                      },
                      {
                        "learn": [
                          0.124681594
                        ],
                        "iteration": 355,
                        "passed_time": 8.101910933,
                        "remaining_time": 3.277177456,
                        "test": [
                          0.1205621582
                        ]
                      },
                      {
                        "learn": [
                          0.12421464
                        ],
                        "iteration": 356,
                        "passed_time": 8.119619015,
                        "remaining_time": 3.252396412,
                        "test": [
                          0.1201122293
                        ]
                      },
                      {
                        "learn": [
                          0.1237800111
                        ],
                        "iteration": 357,
                        "passed_time": 8.137164051,
                        "remaining_time": 3.22759021,
                        "test": [
                          0.1196798881
                        ]
                      },
                      {
                        "learn": [
                          0.1233657977
                        ],
                        "iteration": 358,
                        "passed_time": 8.15744225,
                        "remaining_time": 3.203897931,
                        "test": [
                          0.1192818163
                        ]
                      },
                      {
                        "learn": [
                          0.1228898145
                        ],
                        "iteration": 359,
                        "passed_time": 8.175239777,
                        "remaining_time": 3.179259913,
                        "test": [
                          0.1187673622
                        ]
                      },
                      {
                        "learn": [
                          0.1224014534
                        ],
                        "iteration": 360,
                        "passed_time": 8.195214204,
                        "remaining_time": 3.15549799,
                        "test": [
                          0.1182626418
                        ]
                      },
                      {
                        "learn": [
                          0.122005332
                        ],
                        "iteration": 361,
                        "passed_time": 8.212986689,
                        "remaining_time": 3.130917578,
                        "test": [
                          0.1178751312
                        ]
                      },
                      {
                        "learn": [
                          0.1216533038
                        ],
                        "iteration": 362,
                        "passed_time": 8.232653076,
                        "remaining_time": 3.107089453,
                        "test": [
                          0.1175928543
                        ]
                      },
                      {
                        "learn": [
                          0.1213618815
                        ],
                        "iteration": 363,
                        "passed_time": 8.250467894,
                        "remaining_time": 3.0825924,
                        "test": [
                          0.117342324
                        ]
                      },
                      {
                        "learn": [
                          0.1208936229
                        ],
                        "iteration": 364,
                        "passed_time": 8.268078596,
                        "remaining_time": 3.058056467,
                        "test": [
                          0.1168711949
                        ]
                      },
                      {
                        "learn": [
                          0.1205113838
                        ],
                        "iteration": 365,
                        "passed_time": 8.28582755,
                        "remaining_time": 3.033608994,
                        "test": [
                          0.1166136684
                        ]
                      },
                      {
                        "learn": [
                          0.1201574312
                        ],
                        "iteration": 366,
                        "passed_time": 8.303393962,
                        "remaining_time": 3.009131872,
                        "test": [
                          0.1163378158
                        ]
                      },
                      {
                        "learn": [
                          0.1197602998
                        ],
                        "iteration": 367,
                        "passed_time": 8.32080736,
                        "remaining_time": 2.984637423,
                        "test": [
                          0.1160067216
                        ]
                      },
                      {
                        "learn": [
                          0.1193883036
                        ],
                        "iteration": 368,
                        "passed_time": 8.339878287,
                        "remaining_time": 2.960769798,
                        "test": [
                          0.1156901221
                        ]
                      },
                      {
                        "learn": [
                          0.1189986354
                        ],
                        "iteration": 369,
                        "passed_time": 8.357437009,
                        "remaining_time": 2.936396787,
                        "test": [
                          0.1154402253
                        ]
                      },
                      {
                        "learn": [
                          0.1186489126
                        ],
                        "iteration": 370,
                        "passed_time": 8.374866583,
                        "remaining_time": 2.912015604,
                        "test": [
                          0.1151907526
                        ]
                      },
                      {
                        "learn": [
                          0.1182278461
                        ],
                        "iteration": 371,
                        "passed_time": 8.392287174,
                        "remaining_time": 2.887668705,
                        "test": [
                          0.1147705289
                        ]
                      },
                      {
                        "learn": [
                          0.1178248968
                        ],
                        "iteration": 372,
                        "passed_time": 8.409710481,
                        "remaining_time": 2.863359869,
                        "test": [
                          0.1144117528
                        ]
                      },
                      {
                        "learn": [
                          0.1173829525
                        ],
                        "iteration": 373,
                        "passed_time": 8.427027845,
                        "remaining_time": 2.839052162,
                        "test": [
                          0.1139730202
                        ]
                      },
                      {
                        "learn": [
                          0.1171015566
                        ],
                        "iteration": 374,
                        "passed_time": 8.444422952,
                        "remaining_time": 2.814807651,
                        "test": [
                          0.1138031606
                        ]
                      },
                      {
                        "learn": [
                          0.1167919522
                        ],
                        "iteration": 375,
                        "passed_time": 8.461986033,
                        "remaining_time": 2.790654968,
                        "test": [
                          0.113538858
                        ]
                      },
                      {
                        "learn": [
                          0.1164581142
                        ],
                        "iteration": 376,
                        "passed_time": 8.48004833,
                        "remaining_time": 2.766700118,
                        "test": [
                          0.1132710718
                        ]
                      },
                      {
                        "learn": [
                          0.1160340369
                        ],
                        "iteration": 377,
                        "passed_time": 8.497666748,
                        "remaining_time": 2.742633183,
                        "test": [
                          0.1128339692
                        ]
                      },
                      {
                        "learn": [
                          0.115749842
                        ],
                        "iteration": 378,
                        "passed_time": 8.515807663,
                        "remaining_time": 2.71876709,
                        "test": [
                          0.1126243615
                        ]
                      },
                      {
                        "learn": [
                          0.1154026982
                        ],
                        "iteration": 379,
                        "passed_time": 8.533853464,
                        "remaining_time": 2.694901094,
                        "test": [
                          0.1123579316
                        ]
                      },
                      {
                        "learn": [
                          0.1150435732
                        ],
                        "iteration": 380,
                        "passed_time": 8.551368271,
                        "remaining_time": 2.670899801,
                        "test": [
                          0.1119951536
                        ]
                      },
                      {
                        "learn": [
                          0.1147010494
                        ],
                        "iteration": 381,
                        "passed_time": 8.568816359,
                        "remaining_time": 2.64691186,
                        "test": [
                          0.1116852184
                        ]
                      },
                      {
                        "learn": [
                          0.1143217749
                        ],
                        "iteration": 382,
                        "passed_time": 8.586248814,
                        "remaining_time": 2.622953293,
                        "test": [
                          0.1113320911
                        ]
                      },
                      {
                        "learn": [
                          0.1139533675
                        ],
                        "iteration": 383,
                        "passed_time": 8.603881362,
                        "remaining_time": 2.599089161,
                        "test": [
                          0.1111147064
                        ]
                      },
                      {
                        "learn": [
                          0.1136398614
                        ],
                        "iteration": 384,
                        "passed_time": 8.621504204,
                        "remaining_time": 2.575254502,
                        "test": [
                          0.1108977437
                        ]
                      },
                      {
                        "learn": [
                          0.113256628
                        ],
                        "iteration": 385,
                        "passed_time": 8.63901819,
                        "remaining_time": 2.55141988,
                        "test": [
                          0.1105275292
                        ]
                      },
                      {
                        "learn": [
                          0.1129432753
                        ],
                        "iteration": 386,
                        "passed_time": 8.656685469,
                        "remaining_time": 2.527662682,
                        "test": [
                          0.1103156556
                        ]
                      },
                      {
                        "learn": [
                          0.1126480348
                        ],
                        "iteration": 387,
                        "passed_time": 8.674138284,
                        "remaining_time": 2.503874969,
                        "test": [
                          0.1101223415
                        ]
                      },
                      {
                        "learn": [
                          0.1123387823
                        ],
                        "iteration": 388,
                        "passed_time": 8.691558462,
                        "remaining_time": 2.480110512,
                        "test": [
                          0.1098946675
                        ]
                      },
                      {
                        "learn": [
                          0.1120222687
                        ],
                        "iteration": 389,
                        "passed_time": 8.709046302,
                        "remaining_time": 2.456397675,
                        "test": [
                          0.1096606075
                        ]
                      },
                      {
                        "learn": [
                          0.1117810764
                        ],
                        "iteration": 390,
                        "passed_time": 8.726581968,
                        "remaining_time": 2.432730011,
                        "test": [
                          0.1094841691
                        ]
                      },
                      {
                        "learn": [
                          0.1114329087
                        ],
                        "iteration": 391,
                        "passed_time": 8.744063584,
                        "remaining_time": 2.409078742,
                        "test": [
                          0.1091757146
                        ]
                      },
                      {
                        "learn": [
                          0.1110186981
                        ],
                        "iteration": 392,
                        "passed_time": 8.761464024,
                        "remaining_time": 2.38543677,
                        "test": [
                          0.1087891213
                        ]
                      },
                      {
                        "learn": [
                          0.110832088
                        ],
                        "iteration": 393,
                        "passed_time": 8.779166874,
                        "remaining_time": 2.361907839,
                        "test": [
                          0.1086582434
                        ]
                      },
                      {
                        "learn": [
                          0.1105105744
                        ],
                        "iteration": 394,
                        "passed_time": 8.796786612,
                        "remaining_time": 2.338386314,
                        "test": [
                          0.1083214432
                        ]
                      },
                      {
                        "learn": [
                          0.1101328282
                        ],
                        "iteration": 395,
                        "passed_time": 8.814396979,
                        "remaining_time": 2.314892136,
                        "test": [
                          0.1079861693
                        ]
                      },
                      {
                        "learn": [
                          0.1098900912
                        ],
                        "iteration": 396,
                        "passed_time": 8.83196937,
                        "remaining_time": 2.291417746,
                        "test": [
                          0.1077707008
                        ]
                      },
                      {
                        "learn": [
                          0.109639176
                        ],
                        "iteration": 397,
                        "passed_time": 8.86166769,
                        "remaining_time": 2.271080664,
                        "test": [
                          0.1075622326
                        ]
                      },
                      {
                        "learn": [
                          0.1092896431
                        ],
                        "iteration": 398,
                        "passed_time": 8.883206975,
                        "remaining_time": 2.24863134,
                        "test": [
                          0.1072573302
                        ]
                      },
                      {
                        "learn": [
                          0.1089556167
                        ],
                        "iteration": 399,
                        "passed_time": 8.900777272,
                        "remaining_time": 2.225194318,
                        "test": [
                          0.1069475071
                        ]
                      },
                      {
                        "learn": [
                          0.1086666036
                        ],
                        "iteration": 400,
                        "passed_time": 8.918287788,
                        "remaining_time": 2.201771798,
                        "test": [
                          0.1067137527
                        ]
                      },
                      {
                        "learn": [
                          0.1082837323
                        ],
                        "iteration": 401,
                        "passed_time": 8.936146121,
                        "remaining_time": 2.178463482,
                        "test": [
                          0.1063015599
                        ]
                      },
                      {
                        "learn": [
                          0.1080751624
                        ],
                        "iteration": 402,
                        "passed_time": 8.953513709,
                        "remaining_time": 2.155064094,
                        "test": [
                          0.1061386093
                        ]
                      },
                      {
                        "learn": [
                          0.1078030677
                        ],
                        "iteration": 403,
                        "passed_time": 8.970960841,
                        "remaining_time": 2.131713467,
                        "test": [
                          0.1058793583
                        ]
                      },
                      {
                        "learn": [
                          0.1074614518
                        ],
                        "iteration": 404,
                        "passed_time": 8.988470715,
                        "remaining_time": 2.108406711,
                        "test": [
                          0.1056034046
                        ]
                      },
                      {
                        "learn": [
                          0.1072781128
                        ],
                        "iteration": 405,
                        "passed_time": 9.00587199,
                        "remaining_time": 2.085103367,
                        "test": [
                          0.1055110902
                        ]
                      },
                      {
                        "learn": [
                          0.1069823475
                        ],
                        "iteration": 406,
                        "passed_time": 9.023498056,
                        "remaining_time": 2.061880391,
                        "test": [
                          0.1052556077
                        ]
                      },
                      {
                        "learn": [
                          0.106710858
                        ],
                        "iteration": 407,
                        "passed_time": 9.041634963,
                        "remaining_time": 2.038800041,
                        "test": [
                          0.1050626548
                        ]
                      },
                      {
                        "learn": [
                          0.1064320947
                        ],
                        "iteration": 408,
                        "passed_time": 9.07762703,
                        "remaining_time": 2.019716527,
                        "test": [
                          0.1047635929
                        ]
                      },
                      {
                        "learn": [
                          0.1061806391
                        ],
                        "iteration": 409,
                        "passed_time": 9.095721424,
                        "remaining_time": 1.996621776,
                        "test": [
                          0.1045491651
                        ]
                      },
                      {
                        "learn": [
                          0.1059079664
                        ],
                        "iteration": 410,
                        "passed_time": 9.11332979,
                        "remaining_time": 1.97344611,
                        "test": [
                          0.1042880519
                        ]
                      },
                      {
                        "learn": [
                          0.1055713161
                        ],
                        "iteration": 411,
                        "passed_time": 9.132774038,
                        "remaining_time": 1.9506896,
                        "test": [
                          0.1040033345
                        ]
                      },
                      {
                        "learn": [
                          0.1052627862
                        ],
                        "iteration": 412,
                        "passed_time": 9.150434701,
                        "remaining_time": 1.927573412,
                        "test": [
                          0.1037799844
                        ]
                      },
                      {
                        "learn": [
                          0.1049407044
                        ],
                        "iteration": 413,
                        "passed_time": 9.170846071,
                        "remaining_time": 1.905054981,
                        "test": [
                          0.103455489
                        ]
                      },
                      {
                        "learn": [
                          0.1046672315
                        ],
                        "iteration": 414,
                        "passed_time": 9.18868954,
                        "remaining_time": 1.882020749,
                        "test": [
                          0.1032497848
                        ]
                      },
                      {
                        "learn": [
                          0.1043600858
                        ],
                        "iteration": 415,
                        "passed_time": 9.206462815,
                        "remaining_time": 1.858997299,
                        "test": [
                          0.1029897372
                        ]
                      },
                      {
                        "learn": [
                          0.1040450694
                        ],
                        "iteration": 416,
                        "passed_time": 9.22402041,
                        "remaining_time": 1.835956101,
                        "test": [
                          0.1027709656
                        ]
                      },
                      {
                        "learn": [
                          0.1036643943
                        ],
                        "iteration": 417,
                        "passed_time": 9.243974768,
                        "remaining_time": 1.813411318,
                        "test": [
                          0.1023978231
                        ]
                      },
                      {
                        "learn": [
                          0.1034680954
                        ],
                        "iteration": 418,
                        "passed_time": 9.261804783,
                        "remaining_time": 1.790468228,
                        "test": [
                          0.1023091496
                        ]
                      },
                      {
                        "learn": [
                          0.1031730902
                        ],
                        "iteration": 419,
                        "passed_time": 9.279663115,
                        "remaining_time": 1.767554879,
                        "test": [
                          0.1020688765
                        ]
                      },
                      {
                        "learn": [
                          0.1029244231
                        ],
                        "iteration": 420,
                        "passed_time": 9.297510299,
                        "remaining_time": 1.744663453,
                        "test": [
                          0.1018532072
                        ]
                      },
                      {
                        "learn": [
                          0.102694607
                        ],
                        "iteration": 421,
                        "passed_time": 9.315057524,
                        "remaining_time": 1.72174049,
                        "test": [
                          0.1016750112
                        ]
                      },
                      {
                        "learn": [
                          0.1024739118
                        ],
                        "iteration": 422,
                        "passed_time": 9.334442608,
                        "remaining_time": 1.699177496,
                        "test": [
                          0.1014844211
                        ]
                      },
                      {
                        "learn": [
                          0.10230505
                        ],
                        "iteration": 423,
                        "passed_time": 9.352245642,
                        "remaining_time": 1.676345917,
                        "test": [
                          0.1013546124
                        ]
                      },
                      {
                        "learn": [
                          0.1021058124
                        ],
                        "iteration": 424,
                        "passed_time": 9.369791984,
                        "remaining_time": 1.653492703,
                        "test": [
                          0.10117565
                        ]
                      },
                      {
                        "learn": [
                          0.1017944734
                        ],
                        "iteration": 425,
                        "passed_time": 9.387233273,
                        "remaining_time": 1.630646155,
                        "test": [
                          0.1008971363
                        ]
                      },
                      {
                        "learn": [
                          0.1015347835
                        ],
                        "iteration": 426,
                        "passed_time": 9.404804629,
                        "remaining_time": 1.607847161,
                        "test": [
                          0.1007734517
                        ]
                      },
                      {
                        "learn": [
                          0.1013487212
                        ],
                        "iteration": 427,
                        "passed_time": 9.422349201,
                        "remaining_time": 1.58506809,
                        "test": [
                          0.1006198564
                        ]
                      },
                      {
                        "learn": [
                          0.1010776343
                        ],
                        "iteration": 428,
                        "passed_time": 9.439932126,
                        "remaining_time": 1.562319769,
                        "test": [
                          0.1003615948
                        ]
                      },
                      {
                        "learn": [
                          0.1008419826
                        ],
                        "iteration": 429,
                        "passed_time": 9.45762818,
                        "remaining_time": 1.53961389,
                        "test": [
                          0.1001703204
                        ]
                      },
                      {
                        "learn": [
                          0.1006344439
                        ],
                        "iteration": 430,
                        "passed_time": 9.475398304,
                        "remaining_time": 1.516943116,
                        "test": [
                          0.09999847551
                        ]
                      },
                      {
                        "learn": [
                          0.10036146
                        ],
                        "iteration": 431,
                        "passed_time": 9.493206114,
                        "remaining_time": 1.494300962,
                        "test": [
                          0.0997999283
                        ]
                      },
                      {
                        "learn": [
                          0.1001491814
                        ],
                        "iteration": 432,
                        "passed_time": 9.510976624,
                        "remaining_time": 1.471675367,
                        "test": [
                          0.09965714047
                        ]
                      },
                      {
                        "learn": [
                          0.09986422727
                        ],
                        "iteration": 433,
                        "passed_time": 9.528842476,
                        "remaining_time": 1.449086644,
                        "test": [
                          0.09938339457
                        ]
                      },
                      {
                        "learn": [
                          0.09958994675
                        ],
                        "iteration": 434,
                        "passed_time": 9.546607906,
                        "remaining_time": 1.42650463,
                        "test": [
                          0.09917046528
                        ]
                      },
                      {
                        "learn": [
                          0.09942085651
                        ],
                        "iteration": 435,
                        "passed_time": 9.56420328,
                        "remaining_time": 1.403919748,
                        "test": [
                          0.09910163941
                        ]
                      },
                      {
                        "learn": [
                          0.0991549251
                        ],
                        "iteration": 436,
                        "passed_time": 9.581735892,
                        "remaining_time": 1.381348653,
                        "test": [
                          0.09889275606
                        ]
                      },
                      {
                        "learn": [
                          0.09898349383
                        ],
                        "iteration": 437,
                        "passed_time": 9.599160115,
                        "remaining_time": 1.358785222,
                        "test": [
                          0.09879693951
                        ]
                      },
                      {
                        "learn": [
                          0.09875581843
                        ],
                        "iteration": 438,
                        "passed_time": 9.616906882,
                        "remaining_time": 1.336290022,
                        "test": [
                          0.09860200471
                        ]
                      },
                      {
                        "learn": [
                          0.09853443553
                        ],
                        "iteration": 439,
                        "passed_time": 9.634517726,
                        "remaining_time": 1.313797872,
                        "test": [
                          0.09841529379
                        ]
                      },
                      {
                        "learn": [
                          0.09829527492
                        ],
                        "iteration": 440,
                        "passed_time": 9.652150865,
                        "remaining_time": 1.291330841,
                        "test": [
                          0.09818724492
                        ]
                      },
                      {
                        "learn": [
                          0.09803015935
                        ],
                        "iteration": 441,
                        "passed_time": 9.669560243,
                        "remaining_time": 1.268856321,
                        "test": [
                          0.09794410218
                        ]
                      },
                      {
                        "learn": [
                          0.09773945203
                        ],
                        "iteration": 442,
                        "passed_time": 9.686880796,
                        "remaining_time": 1.24639324,
                        "test": [
                          0.09765178028
                        ]
                      },
                      {
                        "learn": [
                          0.09746758751
                        ],
                        "iteration": 443,
                        "passed_time": 9.704252567,
                        "remaining_time": 1.223959783,
                        "test": [
                          0.09736629364
                        ]
                      },
                      {
                        "learn": [
                          0.09740945398
                        ],
                        "iteration": 444,
                        "passed_time": 9.721716138,
                        "remaining_time": 1.201560422,
                        "test": [
                          0.09737297118
                        ]
                      },
                      {
                        "learn": [
                          0.09719380063
                        ],
                        "iteration": 445,
                        "passed_time": 9.739151802,
                        "remaining_time": 1.179179815,
                        "test": [
                          0.09718102931
                        ]
                      },
                      {
                        "learn": [
                          0.09696472033
                        ],
                        "iteration": 446,
                        "passed_time": 9.756606609,
                        "remaining_time": 1.156823602,
                        "test": [
                          0.09700784537
                        ]
                      },
                      {
                        "learn": [
                          0.09680275594
                        ],
                        "iteration": 447,
                        "passed_time": 9.774087409,
                        "remaining_time": 1.134492289,
                        "test": [
                          0.09689698658
                        ]
                      },
                      {
                        "learn": [
                          0.09659638812
                        ],
                        "iteration": 448,
                        "passed_time": 9.791459406,
                        "remaining_time": 1.112170222,
                        "test": [
                          0.09670029227
                        ]
                      },
                      {
                        "learn": [
                          0.09631382703
                        ],
                        "iteration": 449,
                        "passed_time": 9.808950928,
                        "remaining_time": 1.089883436,
                        "test": [
                          0.09642222294
                        ]
                      },
                      {
                        "learn": [
                          0.0960978506
                        ],
                        "iteration": 450,
                        "passed_time": 9.826423617,
                        "remaining_time": 1.06761587,
                        "test": [
                          0.09628485989
                        ]
                      },
                      {
                        "learn": [
                          0.09590447592
                        ],
                        "iteration": 451,
                        "passed_time": 9.844327579,
                        "remaining_time": 1.045415318,
                        "test": [
                          0.09612673643
                        ]
                      },
                      {
                        "learn": [
                          0.09570962054
                        ],
                        "iteration": 452,
                        "passed_time": 9.867793465,
                        "remaining_time": 1.023810801,
                        "test": [
                          0.0959706716
                        ]
                      },
                      {
                        "learn": [
                          0.09547693234
                        ],
                        "iteration": 453,
                        "passed_time": 9.900411222,
                        "remaining_time": 1.003125366,
                        "test": [
                          0.09581211179
                        ]
                      },
                      {
                        "learn": [
                          0.09524736976
                        ],
                        "iteration": 454,
                        "passed_time": 9.918153904,
                        "remaining_time": 0.9809163202,
                        "test": [
                          0.09568553618
                        ]
                      },
                      {
                        "learn": [
                          0.0950385191
                        ],
                        "iteration": 455,
                        "passed_time": 9.93569883,
                        "remaining_time": 0.9587077819,
                        "test": [
                          0.09557019756
                        ]
                      },
                      {
                        "learn": [
                          0.09483082851
                        ],
                        "iteration": 456,
                        "passed_time": 9.953124793,
                        "remaining_time": 0.9365084598,
                        "test": [
                          0.095382906
                        ]
                      },
                      {
                        "learn": [
                          0.09459708395
                        ],
                        "iteration": 457,
                        "passed_time": 9.970586836,
                        "remaining_time": 0.9143332907,
                        "test": [
                          0.09521628258
                        ]
                      },
                      {
                        "learn": [
                          0.09434392493
                        ],
                        "iteration": 458,
                        "passed_time": 9.988176356,
                        "remaining_time": 0.8921900448,
                        "test": [
                          0.09498586432
                        ]
                      },
                      {
                        "learn": [
                          0.09417461705
                        ],
                        "iteration": 459,
                        "passed_time": 10.00561194,
                        "remaining_time": 0.8700532122,
                        "test": [
                          0.09487959001
                        ]
                      },
                      {
                        "learn": [
                          0.09393585407
                        ],
                        "iteration": 460,
                        "passed_time": 10.02342045,
                        "remaining_time": 0.847968324,
                        "test": [
                          0.09461265218
                        ]
                      },
                      {
                        "learn": [
                          0.09369535197
                        ],
                        "iteration": 461,
                        "passed_time": 10.04497519,
                        "remaining_time": 0.8262100809,
                        "test": [
                          0.09443925155
                        ]
                      },
                      {
                        "learn": [
                          0.09343605806
                        ],
                        "iteration": 462,
                        "passed_time": 10.06416873,
                        "remaining_time": 0.8042640241,
                        "test": [
                          0.094210128
                        ]
                      },
                      {
                        "learn": [
                          0.09319003578
                        ],
                        "iteration": 463,
                        "passed_time": 10.10364413,
                        "remaining_time": 0.7839034235,
                        "test": [
                          0.09402124944
                        ]
                      },
                      {
                        "learn": [
                          0.09294356685
                        ],
                        "iteration": 464,
                        "passed_time": 10.12153395,
                        "remaining_time": 0.7618358887,
                        "test": [
                          0.09379941779
                        ]
                      },
                      {
                        "learn": [
                          0.0926992071
                        ],
                        "iteration": 465,
                        "passed_time": 10.13922567,
                        "remaining_time": 0.7397718302,
                        "test": [
                          0.09357700006
                        ]
                      },
                      {
                        "learn": [
                          0.09250326264
                        ],
                        "iteration": 466,
                        "passed_time": 10.15916498,
                        "remaining_time": 0.7178853197,
                        "test": [
                          0.09341615184
                        ]
                      },
                      {
                        "learn": [
                          0.092295906
                        ],
                        "iteration": 467,
                        "passed_time": 10.17708799,
                        "remaining_time": 0.6958692644,
                        "test": [
                          0.09326511995
                        ]
                      },
                      {
                        "learn": [
                          0.0920573833
                        ],
                        "iteration": 468,
                        "passed_time": 10.19458433,
                        "remaining_time": 0.6738424613,
                        "test": [
                          0.09304627559
                        ]
                      },
                      {
                        "learn": [
                          0.0918114121
                        ],
                        "iteration": 469,
                        "passed_time": 10.21224438,
                        "remaining_time": 0.6518453858,
                        "test": [
                          0.09293978262
                        ]
                      },
                      {
                        "learn": [
                          0.09156814197
                        ],
                        "iteration": 470,
                        "passed_time": 10.23157698,
                        "remaining_time": 0.6299697077,
                        "test": [
                          0.09274191645
                        ]
                      },
                      {
                        "learn": [
                          0.09134531911
                        ],
                        "iteration": 471,
                        "passed_time": 10.24942911,
                        "remaining_time": 0.6080169811,
                        "test": [
                          0.09251988771
                        ]
                      },
                      {
                        "learn": [
                          0.09108251301
                        ],
                        "iteration": 472,
                        "passed_time": 10.2671517,
                        "remaining_time": 0.5860741988,
                        "test": [
                          0.0922832902
                        ]
                      },
                      {
                        "learn": [
                          0.09090630148
                        ],
                        "iteration": 473,
                        "passed_time": 10.28486008,
                        "remaining_time": 0.5641484431,
                        "test": [
                          0.09215442305
                        ]
                      },
                      {
                        "learn": [
                          0.09066208519
                        ],
                        "iteration": 474,
                        "passed_time": 10.30251781,
                        "remaining_time": 0.5422377793,
                        "test": [
                          0.09193770815
                        ]
                      },
                      {
                        "learn": [
                          0.09048827888
                        ],
                        "iteration": 475,
                        "passed_time": 10.32151324,
                        "remaining_time": 0.5204124321,
                        "test": [
                          0.09184897381
                        ]
                      },
                      {
                        "learn": [
                          0.09023609109
                        ],
                        "iteration": 476,
                        "passed_time": 10.34022268,
                        "remaining_time": 0.4985851606,
                        "test": [
                          0.09160979599
                        ]
                      },
                      {
                        "learn": [
                          0.09004955007
                        ],
                        "iteration": 477,
                        "passed_time": 10.35815972,
                        "remaining_time": 0.4767353848,
                        "test": [
                          0.09145362331
                        ]
                      },
                      {
                        "learn": [
                          0.08989103738
                        ],
                        "iteration": 478,
                        "passed_time": 10.37599509,
                        "remaining_time": 0.4548974884,
                        "test": [
                          0.09135914139
                        ]
                      },
                      {
                        "learn": [
                          0.08968727763
                        ],
                        "iteration": 479,
                        "passed_time": 10.39358076,
                        "remaining_time": 0.433065865,
                        "test": [
                          0.09116620243
                        ]
                      },
                      {
                        "learn": [
                          0.08948823692
                        ],
                        "iteration": 480,
                        "passed_time": 10.41103314,
                        "remaining_time": 0.4112466314,
                        "test": [
                          0.09092535237
                        ]
                      },
                      {
                        "learn": [
                          0.08928253542
                        ],
                        "iteration": 481,
                        "passed_time": 10.42848332,
                        "remaining_time": 0.3894454351,
                        "test": [
                          0.09077718307
                        ]
                      },
                      {
                        "learn": [
                          0.0890292914
                        ],
                        "iteration": 482,
                        "passed_time": 10.44626062,
                        "remaining_time": 0.3676737694,
                        "test": [
                          0.09052537822
                        ]
                      },
                      {
                        "learn": [
                          0.08881593194
                        ],
                        "iteration": 483,
                        "passed_time": 10.46419281,
                        "remaining_time": 0.3459237293,
                        "test": [
                          0.09040804595
                        ]
                      },
                      {
                        "learn": [
                          0.08863206367
                        ],
                        "iteration": 484,
                        "passed_time": 10.48186637,
                        "remaining_time": 0.3241814342,
                        "test": [
                          0.09025426701
                        ]
                      },
                      {
                        "learn": [
                          0.08843090298
                        ],
                        "iteration": 485,
                        "passed_time": 10.49987319,
                        "remaining_time": 0.302465483,
                        "test": [
                          0.09009314598
                        ]
                      },
                      {
                        "learn": [
                          0.08825453556
                        ],
                        "iteration": 486,
                        "passed_time": 10.51753556,
                        "remaining_time": 0.2807555694,
                        "test": [
                          0.09001194342
                        ]
                      },
                      {
                        "learn": [
                          0.08814036285
                        ],
                        "iteration": 487,
                        "passed_time": 10.5353459,
                        "remaining_time": 0.2590658828,
                        "test": [
                          0.08991128776
                        ]
                      },
                      {
                        "learn": [
                          0.08798262753
                        ],
                        "iteration": 488,
                        "passed_time": 10.5533873,
                        "remaining_time": 0.2373972604,
                        "test": [
                          0.08984261702
                        ]
                      },
                      {
                        "learn": [
                          0.08781164479
                        ],
                        "iteration": 489,
                        "passed_time": 10.57117396,
                        "remaining_time": 0.2157382441,
                        "test": [
                          0.08971553236
                        ]
                      },
                      {
                        "learn": [
                          0.08761566964
                        ],
                        "iteration": 490,
                        "passed_time": 10.58869586,
                        "remaining_time": 0.1940901481,
                        "test": [
                          0.08966566494
                        ]
                      },
                      {
                        "learn": [
                          0.0873652382
                        ],
                        "iteration": 491,
                        "passed_time": 10.60612132,
                        "remaining_time": 0.1724572572,
                        "test": [
                          0.08939138427
                        ]
                      },
                      {
                        "learn": [
                          0.08721366686
                        ],
                        "iteration": 492,
                        "passed_time": 10.62367823,
                        "remaining_time": 0.1508433014,
                        "test": [
                          0.08930717949
                        ]
                      },
                      {
                        "learn": [
                          0.08703301686
                        ],
                        "iteration": 493,
                        "passed_time": 10.64122497,
                        "remaining_time": 0.1292456474,
                        "test": [
                          0.08916983487
                        ]
                      },
                      {
                        "learn": [
                          0.0868572744
                        ],
                        "iteration": 494,
                        "passed_time": 10.65882963,
                        "remaining_time": 0.1076649457,
                        "test": [
                          0.08901983782
                        ]
                      },
                      {
                        "learn": [
                          0.08665948181
                        ],
                        "iteration": 495,
                        "passed_time": 10.67637964,
                        "remaining_time": 0.08609983579,
                        "test": [
                          0.08885681801
                        ]
                      },
                      {
                        "learn": [
                          0.08646917122
                        ],
                        "iteration": 496,
                        "passed_time": 10.6938191,
                        "remaining_time": 0.06455021588,
                        "test": [
                          0.0887188069
                        ]
                      },
                      {
                        "learn": [
                          0.08631028942
                        ],
                        "iteration": 497,
                        "passed_time": 10.71127273,
                        "remaining_time": 0.04301715956,
                        "test": [
                          0.08857789426
                        ]
                      },
                      {
                        "learn": [
                          0.08612722455
                        ],
                        "iteration": 498,
                        "passed_time": 10.72894356,
                        "remaining_time": 0.02150088891,
                        "test": [
                          0.0884475935
                        ]
                      },
                      {
                        "learn": [
                          0.08595424072
                        ],
                        "iteration": 499,
                        "passed_time": 10.74647256,
                        "remaining_time": 0,
                        "test": [
                          0.08836202649
                        ]
                      }
                    ],
                    "meta": {
                      "test_sets": [
                        "test"
                      ],
                      "test_metrics": [
                        {
                          "best_value": "Min",
                          "name": "MultiClass"
                        }
                      ],
                      "learn_metrics": [
                        {
                          "best_value": "Min",
                          "name": "MultiClass"
                        }
                      ],
                      "launch_mode": "Train",
                      "parameters": "",
                      "iteration_count": 500,
                      "learn_sets": [
                        "learn"
                      ],
                      "name": "experiment"
                    }
                  }
                }
              }
            },
            "layout": "IPY_MODEL_30fc1a7409df4b90a2ea7b82263e1f9b"
          }
        }
      }
    }
  },
  "nbformat": 4,
  "nbformat_minor": 5
}